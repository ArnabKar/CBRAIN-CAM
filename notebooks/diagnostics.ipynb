{
 "cells": [
  {
   "cell_type": "code",
   "execution_count": 1,
   "metadata": {
    "collapsed": true
   },
   "outputs": [],
   "source": [
    "from importlib import reload"
   ]
  },
  {
   "cell_type": "code",
   "execution_count": 2,
   "metadata": {},
   "outputs": [
    {
     "name": "stderr",
     "output_type": "stream",
     "text": [
      "Using TensorFlow backend.\n"
     ]
    }
   ],
   "source": [
    "import sys\n",
    "import numpy as np\n",
    "import matplotlib.pyplot as plt\n",
    "%matplotlib inline\n",
    "sys.path.append('../diagnostics/')\n",
    "import model_diagnostics; reload(model_diagnostics)\n",
    "from model_diagnostics import ModelDiagnostics\n",
    "import xarray as xr"
   ]
  },
  {
   "cell_type": "code",
   "execution_count": 3,
   "metadata": {
    "collapsed": true
   },
   "outputs": [],
   "source": [
    "model_dir = '/export/home/srasp/repositories/CBRAIN-Keras-Diagnostics/keras_network/models/'\n",
    "model_path = model_dir + 'B001_purecrm_ess_sample1_base.h5'"
   ]
  },
  {
   "cell_type": "code",
   "execution_count": 12,
   "metadata": {
    "collapsed": true
   },
   "outputs": [],
   "source": [
    "pre_dir = '/scratch/srasp/preprocessed_data/'"
   ]
  },
  {
   "cell_type": "code",
   "execution_count": 18,
   "metadata": {
    "collapsed": true
   },
   "outputs": [],
   "source": [
    "def get_purecrm_stats(model_name):\n",
    "    model_path = model_dir + model_name + '.h5'\n",
    "    diag = ModelDiagnostics(\n",
    "        model_path, \n",
    "        pre_dir + 'purecrm_ess_valid_sample1_features.nc',\n",
    "        pre_dir + 'purecrm_ess_valid_sample1_targets.nc',\n",
    "        pre_dir + 'purecrm_ess_train_sample1_norm.nc'\n",
    "    )\n",
    "    diag.compute_stats(compute_SPDT_SPDQ=True)\n",
    "    print(diag.mean_stats())\n",
    "    return diag"
   ]
  },
  {
   "cell_type": "code",
   "execution_count": 14,
   "metadata": {},
   "outputs": [],
   "source": [
    "diag = ModelDiagnostics(\n",
    "    model_path, \n",
    "    pre_dir + 'purecrm_ess_valid_sample1_features.nc',\n",
    "    pre_dir + 'purecrm_ess_valid_sample1_targets.nc',\n",
    "    pre_dir + 'purecrm_ess_train_sample1_norm.nc'\n",
    ")"
   ]
  },
  {
   "cell_type": "code",
   "execution_count": 17,
   "metadata": {},
   "outputs": [
    {
     "name": "stderr",
     "output_type": "stream",
     "text": [
      "  0%|          | 1/2868 [00:00<05:11,  9.20it/s]"
     ]
    },
    {
     "name": "stdout",
     "output_type": "stream",
     "text": [
      "Generator will have 23494656 samples in 2868 batches\n",
      "Features have shape 152; targets have shape 120\n"
     ]
    },
    {
     "name": "stderr",
     "output_type": "stream",
     "text": [
      "100%|██████████| 2868/2868 [03:35<00:00, 13.28it/s]\n"
     ]
    },
    {
     "name": "stdout",
     "output_type": "stream",
     "text": [
      "Mean squared energy violation. True: 73.5111207161\n",
      "Mean squared energy violation. Pred: 239.035288736\n"
     ]
    }
   ],
   "source": [
    "diag.compute_stats(compute_SPDT_SPDQ=True)"
   ]
  },
  {
   "cell_type": "code",
   "execution_count": 19,
   "metadata": {},
   "outputs": [
    {
     "name": "stderr",
     "output_type": "stream",
     "text": [
      "../diagnostics/model_diagnostics.py:248: RuntimeWarning: divide by zero encountered in true_divide\n",
      "  np.mean(self.reshape_output(self.true_var, v, unscale=False), axis=(0, 1))\n"
     ]
    },
    {
     "data": {
      "text/html": [
       "<div>\n",
       "<style>\n",
       "    .dataframe thead tr:only-child th {\n",
       "        text-align: right;\n",
       "    }\n",
       "\n",
       "    .dataframe thead th {\n",
       "        text-align: left;\n",
       "    }\n",
       "\n",
       "    .dataframe tbody tr th {\n",
       "        vertical-align: top;\n",
       "    }\n",
       "</style>\n",
       "<table border=\"1\" class=\"dataframe\">\n",
       "  <thead>\n",
       "    <tr style=\"text-align: right;\">\n",
       "      <th></th>\n",
       "      <th>bias</th>\n",
       "      <th>mse</th>\n",
       "      <th>pred_var</th>\n",
       "      <th>true_var</th>\n",
       "      <th>expl_var_cut9</th>\n",
       "    </tr>\n",
       "  </thead>\n",
       "  <tbody>\n",
       "    <tr>\n",
       "      <th>SPDQ</th>\n",
       "      <td>7.00779e-10</td>\n",
       "      <td>1.32574e-15</td>\n",
       "      <td>8.70507e-16</td>\n",
       "      <td>2.25854e-15</td>\n",
       "      <td>0.256709</td>\n",
       "    </tr>\n",
       "    <tr>\n",
       "      <th>SPDT</th>\n",
       "      <td>-8.98443e-07</td>\n",
       "      <td>1.1248e-09</td>\n",
       "      <td>1.05161e-09</td>\n",
       "      <td>2.22517e-09</td>\n",
       "      <td>0.407909</td>\n",
       "    </tr>\n",
       "    <tr>\n",
       "      <th>QRL</th>\n",
       "      <td>1.21491e-06</td>\n",
       "      <td>2.15997e-10</td>\n",
       "      <td>8.75047e-11</td>\n",
       "      <td>3.13624e-10</td>\n",
       "      <td>0.332738</td>\n",
       "    </tr>\n",
       "    <tr>\n",
       "      <th>QRS</th>\n",
       "      <td>-3.67374e-07</td>\n",
       "      <td>2.79665e-11</td>\n",
       "      <td>1.55369e-10</td>\n",
       "      <td>1.9229e-10</td>\n",
       "      <td>0.665941</td>\n",
       "    </tr>\n",
       "    <tr>\n",
       "      <th>all</th>\n",
       "      <td>-1.25518e-08</td>\n",
       "      <td>3.42191e-10</td>\n",
       "      <td>3.23621e-10</td>\n",
       "      <td>6.82771e-10</td>\n",
       "      <td>0.415824</td>\n",
       "    </tr>\n",
       "  </tbody>\n",
       "</table>\n",
       "</div>"
      ],
      "text/plain": [
       "             bias          mse     pred_var     true_var expl_var_cut9\n",
       "SPDQ  7.00779e-10  1.32574e-15  8.70507e-16  2.25854e-15      0.256709\n",
       "SPDT -8.98443e-07   1.1248e-09  1.05161e-09  2.22517e-09      0.407909\n",
       "QRL   1.21491e-06  2.15997e-10  8.75047e-11  3.13624e-10      0.332738\n",
       "QRS  -3.67374e-07  2.79665e-11  1.55369e-10   1.9229e-10      0.665941\n",
       "all  -1.25518e-08  3.42191e-10  3.23621e-10  6.82771e-10      0.415824"
      ]
     },
     "execution_count": 19,
     "metadata": {},
     "output_type": "execute_result"
    }
   ],
   "source": [
    "diag.mean_stats()"
   ]
  },
  {
   "cell_type": "code",
   "execution_count": 21,
   "metadata": {},
   "outputs": [
    {
     "data": {
      "image/png": "[encoded data removed]",
      "text/plain": [
       "<matplotlib.figure.Figure at 0x2b147f7fda20>"
      ]
     },
     "metadata": {},
     "output_type": "display_data"
    }
   ],
   "source": [
    "diag.plot_double_lat_lev_slice('SPDQ', 1, 0, vmin=-5e-7, vmax=5e-7, cmap='bwr')"
   ]
  },
  {
   "cell_type": "code",
   "execution_count": 22,
   "metadata": {},
   "outputs": [
    {
     "data": {
      "image/png": "[encoded data removed]",
      "text/plain": [
       "<matplotlib.figure.Figure at 0x2b147f7c3c18>"
      ]
     },
     "metadata": {},
     "output_type": "display_data"
    }
   ],
   "source": [
    "diag.plot_stat_lat_lev_mean('bias', 'SPDQ', vmin=-5e-8, vmax=5e-8, cmap='bwr')"
   ]
  },
  {
   "cell_type": "code",
   "execution_count": 24,
   "metadata": {},
   "outputs": [
    {
     "name": "stderr",
     "output_type": "stream",
     "text": [
      "  0%|          | 1/2868 [00:00<07:54,  6.05it/s]"
     ]
    },
    {
     "name": "stdout",
     "output_type": "stream",
     "text": [
      "Generator will have 23494656 samples in 2868 batches\n",
      "Features have shape 152; targets have shape 120\n"
     ]
    },
    {
     "name": "stderr",
     "output_type": "stream",
     "text": [
      "100%|██████████| 2868/2868 [04:13<00:00, 11.30it/s]\n"
     ]
    },
    {
     "name": "stdout",
     "output_type": "stream",
     "text": [
      "Mean squared energy violation. True: 73.5111207161\n",
      "Mean squared energy violation. Pred: 463.654335\n",
      "             bias          mse     pred_var     true_var expl_var_cut9\n",
      "SPDQ  3.05095e-09  3.28221e-15  1.51087e-23  2.25854e-15     -0.109064\n",
      "SPDT -4.13869e-06  2.46575e-09  2.87542e-17  2.22517e-09    -0.0791648\n",
      "QRL   2.62534e-06   3.7786e-10  2.14553e-17  3.13624e-10     -0.142527\n",
      "QRS  -6.58985e-06  3.04376e-10   2.3486e-17   1.9229e-10     -0.448904\n",
      "all  -2.02503e-06  7.86996e-10  1.84239e-17  6.82771e-10     -0.194915\n"
     ]
    },
    {
     "name": "stderr",
     "output_type": "stream",
     "text": [
      "../diagnostics/model_diagnostics.py:248: RuntimeWarning: divide by zero encountered in true_divide\n",
      "  np.mean(self.reshape_output(self.true_var, v, unscale=False), axis=(0, 1))\n"
     ]
    }
   ],
   "source": [
    "get_purecrm_stats('B002_purecrm_ess_sample1_deep1')"
   ]
  },
  {
   "cell_type": "code",
   "execution_count": null,
   "metadata": {},
   "outputs": [
    {
     "name": "stderr",
     "output_type": "stream",
     "text": [
      "\r",
      "  0%|          | 0/2868 [00:00<?, ?it/s]"
     ]
    },
    {
     "name": "stdout",
     "output_type": "stream",
     "text": [
      "Generator will have 23494656 samples in 2868 batches\n",
      "Features have shape 152; targets have shape 120\n"
     ]
    },
    {
     "name": "stderr",
     "output_type": "stream",
     "text": [
      "100%|██████████| 2868/2868 [03:47<00:00, 12.62it/s]\n",
      "../diagnostics/model_diagnostics.py:248: RuntimeWarning: divide by zero encountered in true_divide\n",
      "  np.mean(self.reshape_output(self.true_var, v, unscale=False), axis=(0, 1))\n"
     ]
    },
    {
     "name": "stdout",
     "output_type": "stream",
     "text": [
      "Mean squared energy violation. True: 73.5111207161\n",
      "Mean squared energy violation. Pred: 267.624974687\n",
      "             bias          mse     pred_var     true_var expl_var_cut9\n",
      "SPDQ  7.23547e-10  1.36536e-15  8.32953e-16  2.25854e-15      0.471466\n",
      "SPDT -9.62342e-07  1.14744e-09  1.00434e-09  2.22517e-09       0.40612\n",
      "QRL   1.37961e-06  2.31197e-10  6.15432e-11  3.13624e-10      0.331528\n",
      "QRS  -4.51383e-07   3.1669e-11  1.50245e-10   1.9229e-10      0.627723\n",
      "all  -8.34887e-09  3.52578e-10  3.04032e-10  6.82771e-10      0.459209\n"
     ]
    }
   ],
   "source": [
    "get_purecrm_stats('B003_purecrm_ess_sample1_tanh')"
   ]
  },
  {
   "cell_type": "code",
   "execution_count": null,
   "metadata": {},
   "outputs": [
    {
     "name": "stderr",
     "output_type": "stream",
     "text": [
      "\r",
      "  0%|          | 0/2868 [00:00<?, ?it/s]"
     ]
    },
    {
     "name": "stdout",
     "output_type": "stream",
     "text": [
      "Generator will have 23494656 samples in 2868 batches\n",
      "Features have shape 152; targets have shape 120\n"
     ]
    },
    {
     "name": "stderr",
     "output_type": "stream",
     "text": [
      " 44%|████▍     | 1268/2868 [01:30<01:53, 14.04it/s]"
     ]
    }
   ],
   "source": [
    "get_purecrm_stats('B004_purecrm_ess_sample1_mse')"
   ]
  },
  {
   "cell_type": "code",
   "execution_count": null,
   "metadata": {
    "collapsed": true
   },
   "outputs": [],
   "source": []
  }
 ],
 "metadata": {
  "kernelspec": {
   "display_name": "Python 3",
   "language": "python",
   "name": "python3"
  },
  "language_info": {
   "codemirror_mode": {
    "name": "ipython",
    "version": 3
   },
   "file_extension": ".py",
   "mimetype": "text/x-python",
   "name": "python",
   "nbconvert_exporter": "python",
   "pygments_lexer": "ipython3",
   "version": "3.6.3"
  },
  "toc": {
   "nav_menu": {},
   "number_sections": true,
   "sideBar": true,
   "skip_h1_title": true,
   "title_cell": "Table of Contents",
   "title_sidebar": "Contents",
   "toc_cell": false,
   "toc_position": {},
   "toc_section_display": true,
   "toc_window_display": false
  }
 },
 "nbformat": 4,
 "nbformat_minor": 2
}
