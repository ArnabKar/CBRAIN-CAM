{
 "cells": [
  {
   "cell_type": "code",
   "execution_count": 17,
   "metadata": {},
   "outputs": [],
   "source": [
    "import sys\n",
    "sys.path.append('../keras_network/')\n",
    "from keras.callbacks import TensorBoard, LearningRateScheduler\n",
    "import tensorflow as tf\n",
    "from configargparse import ArgParser\n",
    "from models import conv_model, fc_model, conv_model_tile\n",
    "from losses import *\n",
    "from utils import *\n",
    "from data_generator import DataGenerator\n",
    "import matplotlib.pyplot\n",
    "%matplotlib inline"
   ]
  },
  {
   "cell_type": "code",
   "execution_count": 26,
   "metadata": {
    "collapsed": true
   },
   "outputs": [],
   "source": [
    "from clr_callback import CyclicLR"
   ]
  },
  {
   "cell_type": "code",
   "execution_count": 4,
   "metadata": {
    "collapsed": true
   },
   "outputs": [],
   "source": [
    "config = tf.ConfigProto()\n",
    "config.gpu_options.allow_growth = True\n",
    "keras.backend.tensorflow_backend.set_session(tf.Session(config=config))"
   ]
  },
  {
   "cell_type": "code",
   "execution_count": 6,
   "metadata": {
    "collapsed": true
   },
   "outputs": [],
   "source": [
    "data_dir = '/scratch/srasp/preprocessed_data/'\n",
    "train_fn = '/purecrm_ess_train_sample1_shuffle'"
   ]
  },
  {
   "cell_type": "code",
   "execution_count": 7,
   "metadata": {},
   "outputs": [
    {
     "name": "stdout",
     "output_type": "stream",
     "text": [
      "Generator will have 23494656 samples in 22944 batches\n",
      "Features have shape 152; targets have shape 120\n"
     ]
    }
   ],
   "source": [
    "train_gen = DataGenerator(\n",
    "        data_dir,\n",
    "        train_fn + '_features.nc',\n",
    "        train_fn + '_targets.nc',\n",
    "        1024,\n",
    "        shuffle=True,\n",
    "    )"
   ]
  },
  {
   "cell_type": "code",
   "execution_count": 8,
   "metadata": {
    "collapsed": true
   },
   "outputs": [],
   "source": [
    "feature_shape = train_gen.feature_shape\n",
    "target_shape = train_gen.target_shape"
   ]
  },
  {
   "cell_type": "code",
   "execution_count": 25,
   "metadata": {},
   "outputs": [],
   "source": [
    "model = fc_model(\n",
    "    feature_shape,\n",
    "    target_shape,\n",
    "    [512],\n",
    "    1e-3,\n",
    "    'mae',\n",
    "    batch_norm=False,\n",
    "    activation='relu'\n",
    ")"
   ]
  },
  {
   "cell_type": "code",
   "execution_count": 27,
   "metadata": {},
   "outputs": [
    {
     "data": {
      "text/plain": [
       "22944"
      ]
     },
     "execution_count": 27,
     "metadata": {},
     "output_type": "execute_result"
    }
   ],
   "source": [
    "train_gen.n_batches"
   ]
  },
  {
   "cell_type": "code",
   "execution_count": 32,
   "metadata": {
    "collapsed": true
   },
   "outputs": [],
   "source": [
    "clr = CyclicLR(base_lr=0, max_lr=0.001, step_size=500)"
   ]
  },
  {
   "cell_type": "code",
   "execution_count": 33,
   "metadata": {},
   "outputs": [
    {
     "name": "stdout",
     "output_type": "stream",
     "text": [
      "Epoch 1/1\n",
      "  1/500 [..............................] - ETA: 1:18 - loss: 0.1971 - rmse: 0.2518 - log_loss: -0.8028 - total_error: 932.0420 - unexplained_error: 18095.5332 - rsquared: -18.4149 - total_error_avgAx0: 671.4900 - rsquared_avgAx0: -25.9483"
     ]
    },
    {
     "name": "stderr",
     "output_type": "stream",
     "text": [
      "/export/home/srasp/anaconda3/lib/python3.6/site-packages/keras/callbacks.py:119: UserWarning: Method on_batch_end() is slow compared to the batch update (0.436865). Check your callbacks.\n",
      "  % delta_t_median)\n"
     ]
    },
    {
     "name": "stdout",
     "output_type": "stream",
     "text": [
      "  2/500 [..............................] - ETA: 3:16 - loss: 0.1633 - rmse: 0.2118 - log_loss: -0.8786 - total_error: 901.6150 - unexplained_error: 12617.4106 - rsquared: -12.8049 - total_error_avgAx0: 656.0545 - rsquared_avgAx0: -18.0463"
     ]
    },
    {
     "name": "stderr",
     "output_type": "stream",
     "text": [
      "/export/home/srasp/anaconda3/lib/python3.6/site-packages/keras/callbacks.py:119: UserWarning: Method on_batch_end() is slow compared to the batch update (0.754214). Check your callbacks.\n",
      "  % delta_t_median)\n"
     ]
    },
    {
     "name": "stdout",
     "output_type": "stream",
     "text": [
      "  7/500 [..............................] - ETA: 2:57 - loss: 0.1583 - rmse: 0.2064 - log_loss: -0.8886 - total_error: 907.0050 - unexplained_error: 11243.8759 - rsquared: -11.4210 - total_error_avgAx0: 661.9260 - rsquared_avgAx0: -16.0647"
     ]
    },
    {
     "name": "stderr",
     "output_type": "stream",
     "text": [
      "/export/home/srasp/anaconda3/lib/python3.6/site-packages/keras/callbacks.py:119: UserWarning: Method on_batch_end() is slow compared to the batch update (0.408146). Check your callbacks.\n",
      "  % delta_t_median)\n",
      "/export/home/srasp/anaconda3/lib/python3.6/site-packages/keras/callbacks.py:119: UserWarning: Method on_batch_end() is slow compared to the batch update (0.379428). Check your callbacks.\n",
      "  % delta_t_median)\n",
      "/export/home/srasp/anaconda3/lib/python3.6/site-packages/keras/callbacks.py:119: UserWarning: Method on_batch_end() is slow compared to the batch update (0.204349). Check your callbacks.\n",
      "  % delta_t_median)\n"
     ]
    },
    {
     "name": "stdout",
     "output_type": "stream",
     "text": [
      "500/500 [==============================] - 33s 66ms/step - loss: 0.0484 - rmse: 0.0840 - log_loss: -1.2726 - total_error: 908.7894 - unexplained_error: 2495.5264 - rsquared: -1.7394 - total_error_avgAx0: 660.8744 - rsquared_avgAx0: -2.7696\n"
     ]
    },
    {
     "data": {
      "text/plain": [
       "<keras.callbacks.History at 0x2b324902b898>"
      ]
     },
     "execution_count": 33,
     "metadata": {},
     "output_type": "execute_result"
    }
   ],
   "source": [
    "model.fit_generator(\n",
    "        train_gen.return_generator(),\n",
    "        500,\n",
    "        epochs=1,\n",
    "        workers=8,\n",
    "        max_queue_size=50,\n",
    "        callbacks=[clr],\n",
    "    )"
   ]
  },
  {
   "cell_type": "code",
   "execution_count": 34,
   "metadata": {},
   "outputs": [],
   "source": [
    "h = clr.history\n",
    "lr = h['lr']\n",
    "loss = h['loss']"
   ]
  },
  {
   "cell_type": "code",
   "execution_count": 35,
   "metadata": {},
   "outputs": [
    {
     "data": {
      "image/png": "[encoded data removed]",
      "text/plain": [
       "<matplotlib.figure.Figure at 0x2b324903c940>"
      ]
     },
     "metadata": {},
     "output_type": "display_data"
    }
   ],
   "source": [
    "plt.plot(lr, loss)\n",
    "plt.gca().set_yscale('log')"
   ]
  },
  {
   "cell_type": "code",
   "execution_count": null,
   "metadata": {
    "collapsed": true
   },
   "outputs": [],
   "source": []
  }
 ],
 "metadata": {
  "kernelspec": {
   "display_name": "Python 3",
   "language": "python",
   "name": "python3"
  },
  "language_info": {
   "codemirror_mode": {
    "name": "ipython",
    "version": 3
   },
   "file_extension": ".py",
   "mimetype": "text/x-python",
   "name": "python",
   "nbconvert_exporter": "python",
   "pygments_lexer": "ipython3",
   "version": "3.6.3"
  },
  "toc": {
   "nav_menu": {},
   "number_sections": true,
   "sideBar": true,
   "skip_h1_title": true,
   "title_cell": "Table of Contents",
   "title_sidebar": "Contents",
   "toc_cell": false,
   "toc_position": {},
   "toc_section_display": true,
   "toc_window_display": false
  }
 },
 "nbformat": 4,
 "nbformat_minor": 2
}
