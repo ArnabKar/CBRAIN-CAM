{
 "cells": [
  {
   "cell_type": "code",
   "execution_count": 46,
   "metadata": {},
   "outputs": [],
   "source": [
    "import xarray as xr\n",
    "import numpy as np\n",
    "import matplotlib.pyplot as plt\n",
    "%matplotlib inline\n",
    "import keras\n",
    "import tensorflow as tf\n",
    "config = tf.ConfigProto()\n",
    "config.gpu_options.allow_growth = True\n",
    "keras.backend.tensorflow_backend.set_session(tf.Session(config=config))\n",
    "from glob import glob\n",
    "import h5py\n",
    "from tqdm import tqdm"
   ]
  },
  {
   "cell_type": "code",
   "execution_count": 37,
   "metadata": {
    "collapsed": true
   },
   "outputs": [],
   "source": [
    "import sys\n",
    "sys.path.append('../keras_network/')\n",
    "sys.path.append('../data_processing/')\n",
    "from data_generator import DataGenerator"
   ]
  },
  {
   "cell_type": "code",
   "execution_count": 3,
   "metadata": {},
   "outputs": [],
   "source": [
    "from losses import metrics\n",
    "from keras.utils.generic_utils import get_custom_objects\n",
    "metrics_dict = dict([(f.__name__, f) for f in metrics])\n",
    "get_custom_objects().update(metrics_dict)"
   ]
  },
  {
   "cell_type": "code",
   "execution_count": 4,
   "metadata": {
    "collapsed": true
   },
   "outputs": [],
   "source": [
    "from preprocess_aqua import L_V, C_P, conversion_dict"
   ]
  },
  {
   "cell_type": "code",
   "execution_count": 5,
   "metadata": {
    "collapsed": true
   },
   "outputs": [],
   "source": [
    "model_path = '/export/home/srasp/repositories/CBRAIN-Keras-Diagnostics/keras_network/models/000_test.h5.h5'"
   ]
  },
  {
   "cell_type": "code",
   "execution_count": 6,
   "metadata": {
    "collapsed": true
   },
   "outputs": [],
   "source": [
    "data_dir = '/beegfs/DATA/pritchard/srasp/Aquaplanet_enhance05/'"
   ]
  },
  {
   "cell_type": "code",
   "execution_count": 7,
   "metadata": {
    "collapsed": true
   },
   "outputs": [],
   "source": [
    "pre_dir = '/beegfs/DATA/pritchard/srasp/preprocessed_data/'"
   ]
  },
  {
   "cell_type": "code",
   "execution_count": 21,
   "metadata": {
    "collapsed": true
   },
   "outputs": [],
   "source": [
    "range_dict = {\n",
    "    'SPDT' : [-5e-4, 5e-4],\n",
    "    'SPDQ' : [-5e-7, 5e-7],\n",
    "    'QRL' : [-2e-4, 2e-4],\n",
    "    'QRS' : [-1.2e-4, 1.2e-4]\n",
    "}"
   ]
  },
  {
   "cell_type": "code",
   "execution_count": 53,
   "metadata": {
    "collapsed": true
   },
   "outputs": [],
   "source": [
    "class ModelDiagnostics(object):\n",
    "    \"\"\"\n",
    "    TODO:\n",
    "    - colorbar\n",
    "    - x-y labels\n",
    "    \"\"\"\n",
    "    def __init__(self, model_path, keras_features_fn, keras_targets_fn, keras_norm_fn,\n",
    "                 nlat=64, nlon=128):\n",
    "        \"\"\"\n",
    "        keras_features [sample, input_z]\n",
    "        keras_targets [sample, output_z]\n",
    "        \"\"\"\n",
    "        self.model_path = model_path\n",
    "        self.model = self.load_model()\n",
    "        self.keras_features_fn = keras_features_fn\n",
    "        self.keras_targets_fn = keras_targets_fn\n",
    "        self.keras_norm_fn = keras_norm_fn\n",
    "        self.keras_features = h5py.File(keras_features_fn, 'r')\n",
    "        self.keras_targets = h5py.File(keras_targets_fn, 'r')\n",
    "        self.keras_norm = h5py.File(keras_norm_fn, 'r')\n",
    "        self.nlat = nlat; self.nlon = nlon\n",
    "        self.ngeo = nlat * nlon\n",
    "        \n",
    "    def load_model(self):\n",
    "        # For keras model\n",
    "        return keras.models.load_model(self.model_path)\n",
    "    #def get_files(self):\n",
    "    #    return sorted(glob(self.data_dir + self.aqua_pref + '*'))\n",
    "    \n",
    "    def plot_lat_lev_slice(self, var, itime, ilon):\n",
    "        # Get actual values\n",
    "        #true = xr.open_dataset(\n",
    "        #    self.aqua_files[idate], decode_times=False)[var].isel(time=itime, lon=ilon)\n",
    "        \n",
    "        # Get predictions and true values. THIS WILL BE DIFFERENT FOR TF\n",
    "        preds, true = self.get_preds_and_truth(var, itime)\n",
    "        preds = preds[:, ilon, :]; true = true[:, ilon, :]\n",
    "        self.plot_slice(preds.T, true.T, var)\n",
    "        \n",
    "    def plot_lat_lon_slice(self, var, itime, ilev):\n",
    "        # Get predictions and true values. THIS WILL BE DIFFERENT FOR TF\n",
    "        preds, true = self.get_preds_and_truth(var, itime)\n",
    "        preds = preds[:, :, ilev]; true = true[:, :, ilev]\n",
    "        self.plot_slice(preds, true, var)\n",
    "        \n",
    "    def plot_slice(self, p, t, var):\n",
    "        fig, axes = plt.subplots(1, 2, figsize=(12, 5))\n",
    "        axes[0].imshow(p, vmin=range_dict[var][0], vmax=range_dict[var][1], cmap='bwr')\n",
    "        axes[1].imshow(t, vmin=range_dict[var][0], vmax=range_dict[var][1], cmap='bwr')\n",
    "        axes[0].set_title('CBRAIN Predictions')\n",
    "        axes[1].set_title('SP-CAM Truth')\n",
    "        plt.show()\n",
    "        \n",
    "    def get_preds_and_truth(self, var, itime):\n",
    "        f = self.keras_features['features'][itime*self.ngeo:(itime+1)*self.ngeo]\n",
    "        p = self.model.predict_on_batch(f)\n",
    "        t = self.keras_targets['targets'][itime*self.ngeo:(itime+1)*self.ngeo]\n",
    "        return self.reshape_output(p, var), self.reshape_output(t, var)\n",
    "    \n",
    "    def reshape_output(self, x, var, unscale=True):\n",
    "        \"\"\"\n",
    "        Assumes [sample, z] for one time step\n",
    "        \"\"\"\n",
    "        x = x.reshape(self.nlat, self.nlon, x.shape[-1]) # [lat, lon, z]\n",
    "        var_idxs = [i for i, s in enumerate(list(self.keras_targets['target_names'][:])) \n",
    "                    if var in s]\n",
    "        x = x[:, :, var_idxs]\n",
    "        # Unscale\n",
    "        if unscale: x /= conversion_dict[var]\n",
    "        return x\n",
    "    \n",
    "    def compute_stats(self):\n",
    "        \"\"\"\n",
    "        Compute statistics over entire dataset [lat, lon, lev].\n",
    "        bias = mean(preds) - mean(true)\n",
    "        mse = sse(preds, true) / n_samples\n",
    "        rel_mse = mse / std(true)\n",
    "        std_error = std(preds) - std(true)\n",
    "        \"\"\"\n",
    "        # Get data generator without shuffling!\n",
    "        gen_obj = DataGenerator(\n",
    "            '/',\n",
    "            self.keras_features_fn,\n",
    "            self.keras_targets_fn,\n",
    "            shuffle=False,\n",
    "            batch_size=self.ngeo,   # time step sized batches\n",
    "            verbose=True,\n",
    "        )\n",
    "        gen = gen_obj.return_generator()\n",
    "        psum = np.zeros((self.ngeo, gen_obj.target_shape))\n",
    "        tsum = np.copy(psum); sse = np.copy(psum)\n",
    "        #for t in tqdm(range(gen_obj.n_batches)):\n",
    "        for t in tqdm(range(25)):\n",
    "            # Load features and targets\n",
    "            f, t = next(gen)\n",
    "            # Get predictions\n",
    "            p = self.model.predict_on_batch(f)   # [ngeo samples, z]\n",
    "            # Compute statistics\n",
    "            psum += p; tsum += t\n",
    "            sse += (t - p) ** 2\n",
    "        \n",
    "        # Compute average statistics\n",
    "        self.bias = (psum - tsum) / gen_obj.n_batches\n",
    "        self.mse = sse / gen_obj.n_batches\n",
    "        "
   ]
  },
  {
   "cell_type": "code",
   "execution_count": 54,
   "metadata": {},
   "outputs": [],
   "source": [
    "diag = ModelDiagnostics(\n",
    "    model_path, \n",
    "    pre_dir + 'pure_crm_essentials_valid_month02_features.nc',\n",
    "    pre_dir + 'pure_crm_essentials_valid_month02_targets.nc',\n",
    "    pre_dir + 'pure_crm_essentials_train_month01_norm.nc'\n",
    ")"
   ]
  },
  {
   "cell_type": "code",
   "execution_count": 56,
   "metadata": {},
   "outputs": [
    {
     "name": "stderr",
     "output_type": "stream",
     "text": [
      "\n",
      "  0%|          | 0/25 [00:00<?, ?it/s]\u001b[A"
     ]
    },
    {
     "name": "stdout",
     "output_type": "stream",
     "text": [
      "Generator will have 11001856 samples in 1343 batches\n",
      "Features have shape 152; targets have shape 120\n"
     ]
    },
    {
     "name": "stderr",
     "output_type": "stream",
     "text": [
      "\n",
      "  4%|▍         | 1/25 [00:00<00:10,  2.40it/s]\u001b[A\n",
      " 16%|█▌        | 4/25 [00:00<00:02,  7.53it/s]\u001b[A\n",
      " 28%|██▊       | 7/25 [00:00<00:01, 10.92it/s]\u001b[A\n",
      " 40%|████      | 10/25 [00:00<00:01, 13.35it/s]\u001b[A\n",
      " 52%|█████▏    | 13/25 [00:00<00:00, 15.19it/s]\u001b[A\n",
      " 64%|██████▍   | 16/25 [00:00<00:00, 16.43it/s]\u001b[A\n",
      " 76%|███████▌  | 19/25 [00:01<00:00, 17.52it/s]\u001b[A\n",
      " 88%|████████▊ | 22/25 [00:01<00:00, 18.29it/s]\u001b[A\n",
      "100%|██████████| 25/25 [00:01<00:00, 19.04it/s]\u001b[A\n",
      "\u001b[A"
     ]
    }
   ],
   "source": [
    "diag.compute_stats()"
   ]
  },
  {
   "cell_type": "code",
   "execution_count": 62,
   "metadata": {
    "collapsed": true
   },
   "outputs": [],
   "source": [
    "a = diag.reshape_output(diag.mse, 'SPDT')"
   ]
  },
  {
   "cell_type": "code",
   "execution_count": 63,
   "metadata": {},
   "outputs": [
    {
     "data": {
      "text/plain": [
       "(64, 128, 30)"
      ]
     },
     "execution_count": 63,
     "metadata": {},
     "output_type": "execute_result"
    }
   ],
   "source": [
    "a.shape"
   ]
  },
  {
   "cell_type": "code",
   "execution_count": 64,
   "metadata": {},
   "outputs": [
    {
     "data": {
      "text/plain": [
       "<matplotlib.image.AxesImage at 0x2b91922a0780>"
      ]
     },
     "execution_count": 64,
     "metadata": {},
     "output_type": "execute_result"
    },
    {
     "data": {
      "image/png": "[encoded data removed]",
      "text/plain": [
       "<matplotlib.figure.Figure at 0x2b9192201c88>"
      ]
     },
     "metadata": {},
     "output_type": "display_data"
    }
   ],
   "source": [
    "plt.imshow(a[:, 0, :].T)"
   ]
  },
  {
   "cell_type": "code",
   "execution_count": null,
   "metadata": {
    "collapsed": true
   },
   "outputs": [],
   "source": []
  }
 ],
 "metadata": {
  "kernelspec": {
   "display_name": "Python 3",
   "language": "python",
   "name": "python3"
  },
  "language_info": {
   "codemirror_mode": {
    "name": "ipython",
    "version": 3
   },
   "file_extension": ".py",
   "mimetype": "text/x-python",
   "name": "python",
   "nbconvert_exporter": "python",
   "pygments_lexer": "ipython3",
   "version": "3.6.3"
  }
 },
 "nbformat": 4,
 "nbformat_minor": 2
}
