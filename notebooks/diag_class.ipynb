{
 "cells": [
  {
   "cell_type": "code",
   "execution_count": 1,
   "metadata": {},
   "outputs": [
    {
     "name": "stderr",
     "output_type": "stream",
     "text": [
      "Using TensorFlow backend.\n"
     ]
    }
   ],
   "source": [
    "import xarray as xr\n",
    "import numpy as np\n",
    "import matplotlib.pyplot as plt\n",
    "%matplotlib inline\n",
    "import keras\n",
    "import tensorflow as tf\n",
    "config = tf.ConfigProto()\n",
    "config.gpu_options.allow_growth = True\n",
    "keras.backend.tensorflow_backend.set_session(tf.Session(config=config))\n",
    "from glob import glob\n",
    "import h5py\n",
    "from tqdm import tqdm\n",
    "import pandas as pd"
   ]
  },
  {
   "cell_type": "code",
   "execution_count": 2,
   "metadata": {
    "collapsed": true
   },
   "outputs": [],
   "source": [
    "import sys\n",
    "sys.path.append('../keras_network/')\n",
    "sys.path.append('../data_processing/')\n",
    "from data_generator import DataGenerator"
   ]
  },
  {
   "cell_type": "code",
   "execution_count": 3,
   "metadata": {
    "collapsed": true
   },
   "outputs": [],
   "source": [
    "from losses import metrics\n",
    "from keras.utils.generic_utils import get_custom_objects\n",
    "metrics_dict = dict([(f.__name__, f) for f in metrics])\n",
    "get_custom_objects().update(metrics_dict)"
   ]
  },
  {
   "cell_type": "code",
   "execution_count": 4,
   "metadata": {
    "collapsed": true
   },
   "outputs": [],
   "source": [
    "from preprocess_aqua import L_V, C_P, conversion_dict"
   ]
  },
  {
   "cell_type": "code",
   "execution_count": 5,
   "metadata": {
    "collapsed": true
   },
   "outputs": [],
   "source": [
    "model_path = '/export/home/srasp/repositories/CBRAIN-Keras-Diagnostics/keras_network/models/000_test.h5.h5'"
   ]
  },
  {
   "cell_type": "code",
   "execution_count": 6,
   "metadata": {
    "collapsed": true
   },
   "outputs": [],
   "source": [
    "data_dir = '/beegfs/DATA/pritchard/srasp/Aquaplanet_enhance05_old/'"
   ]
  },
  {
   "cell_type": "code",
   "execution_count": 7,
   "metadata": {
    "collapsed": true
   },
   "outputs": [],
   "source": [
    "pre_dir = '/beegfs/DATA/pritchard/srasp/preprocessed_data/'"
   ]
  },
  {
   "cell_type": "code",
   "execution_count": 8,
   "metadata": {
    "collapsed": true
   },
   "outputs": [],
   "source": [
    "range_dict = {\n",
    "    'SPDT' : [-5e-4, 5e-4],\n",
    "    'SPDQ' : [-5e-7, 5e-7],\n",
    "    'QRL' : [-2e-4, 2e-4],\n",
    "    'QRS' : [-1.2e-4, 1.2e-4]\n",
    "}"
   ]
  },
  {
   "cell_type": "code",
   "execution_count": 32,
   "metadata": {},
   "outputs": [],
   "source": [
    "class ModelDiagnostics(object):\n",
    "    \"\"\"\n",
    "    TODO:\n",
    "    - colorbar\n",
    "    - x-y labels\n",
    "    \"\"\"\n",
    "    def __init__(self, model_path, keras_features_fn, keras_targets_fn, keras_norm_fn,\n",
    "                 nlat=64, nlon=128):\n",
    "        \"\"\"\n",
    "        keras_features [sample, input_z]\n",
    "        keras_targets [sample, output_z]\n",
    "        \"\"\"\n",
    "        self.model_path = model_path\n",
    "        self.model = self.load_model()\n",
    "        self.keras_features_fn = keras_features_fn\n",
    "        self.keras_targets_fn = keras_targets_fn\n",
    "        self.keras_norm_fn = keras_norm_fn\n",
    "        self.keras_features = h5py.File(keras_features_fn, 'r')\n",
    "        self.keras_targets = h5py.File(keras_targets_fn, 'r')\n",
    "        self.keras_norm = h5py.File(keras_norm_fn, 'r')\n",
    "        self.nlat = nlat; self.nlon = nlon\n",
    "        self.ngeo = nlat * nlon\n",
    "        self.feature_vars, self.target_vars = self.get_var_names()\n",
    "        \n",
    "    def load_model(self):\n",
    "        # For keras model\n",
    "        return keras.models.load_model(self.model_path)\n",
    "    #def get_files(self):\n",
    "    #    return sorted(glob(self.data_dir + self.aqua_pref + '*'))\n",
    "    \n",
    "    def get_var_names(self):\n",
    "        \"\"\"\n",
    "        Return unique variable names for features and targets in correct order.\n",
    "        \"\"\"\n",
    "        return [\n",
    "            list(dict.fromkeys(\n",
    "                [f.split('_lev')[0] for f in list(self.keras_norm[f'{a}_names'][:])]\n",
    "            )) for a in ['feature', 'target']\n",
    "        ]\n",
    "    \n",
    "    def plot_double_lat_lev_slice(self, var, itime, ilon):\n",
    "        # Get actual values\n",
    "        #true = xr.open_dataset(\n",
    "        #    self.aqua_files[idate], decode_times=False)[var].isel(time=itime, lon=ilon)\n",
    "        \n",
    "        # Get predictions and true values. THIS WILL BE DIFFERENT FOR TF\n",
    "        preds, true = self.get_preds_and_truth(var, itime)\n",
    "        preds = preds[:, ilon, :]; true = true[:, ilon, :]\n",
    "        self.plot_double_slice(preds.T, true.T, var)\n",
    "        \n",
    "    def plot_double_lat_lon_slice(self, var, itime, ilev):\n",
    "        # Get predictions and true values. THIS WILL BE DIFFERENT FOR TF\n",
    "        preds, true = self.get_preds_and_truth(var, itime)\n",
    "        preds = preds[:, :, ilev]; true = true[:, :, ilev]\n",
    "        self.plot_double_slice(preds, true, var)\n",
    "        \n",
    "    def plot_double_slice(self, p, t, var=None):\n",
    "        fig, axes = plt.subplots(1, 2, figsize=(12, 5))\n",
    "        if var is None: mn = None; mx = None\n",
    "        else: mn=range_dict[var][0], mx=range_dict[var][1]\n",
    "        axes[0].imshow(p, vmin=mn, vmax=mx, cmap='bwr')\n",
    "        axes[1].imshow(t, vmin=mn, vmax=mx, cmap='bwr')\n",
    "        axes[0].set_title('CBRAIN Predictions')\n",
    "        axes[1].set_title('SP-CAM Truth')\n",
    "        plt.show()\n",
    "        \n",
    "    def plot_slice(self, x, title):\n",
    "        fig, ax = plt.subplots(1, 1, figsize=(6, 5))\n",
    "        ax.imshow(x, vmin=None, vmax=None, cmap='bwr')\n",
    "        ax.set_title(title)\n",
    "        plt.show()\n",
    "        \n",
    "    def get_preds_and_truth(self, var, itime):\n",
    "        f = self.keras_features['features'][itime*self.ngeo:(itime+1)*self.ngeo]\n",
    "        p = self.model.predict_on_batch(f)\n",
    "        t = self.keras_targets['targets'][itime*self.ngeo:(itime+1)*self.ngeo]\n",
    "        return self.reshape_output(p, var), self.reshape_output(t, var)\n",
    "    \n",
    "    def reshape_output(self, x, var=None, unscale=True):\n",
    "        \"\"\"\n",
    "        Assumes [sample, z] for one time step\n",
    "        \"\"\"\n",
    "        x = x.reshape(self.nlat, self.nlon, x.shape[-1]) # [lat, lon, z]\n",
    "        if var is None: var_idxs = slice(0, None, 1); unscale=False\n",
    "        else:\n",
    "            var_idxs = [\n",
    "                i for i, s in enumerate(list(self.keras_targets['target_names'][:])) \n",
    "                if var in s]\n",
    "        x = x[:, :, var_idxs]\n",
    "        # Unscale\n",
    "        if unscale: x /= conversion_dict[var]\n",
    "        return x\n",
    "    \n",
    "    def compute_stats(self):\n",
    "        \"\"\"\n",
    "        Compute statistics over entire dataset [lat, lon, lev].\n",
    "        bias = mean(preds) - mean(true)\n",
    "        mse = sse(preds, true) / n_samples\n",
    "        rel_mse = mse / std(true)\n",
    "        std_error = std(preds) - std(true)\n",
    "        \"\"\"\n",
    "        # Get data generator without shuffling!\n",
    "        gen_obj = DataGenerator(\n",
    "            '/',\n",
    "            self.keras_features_fn,\n",
    "            self.keras_targets_fn,\n",
    "            shuffle=False,\n",
    "            batch_size=self.ngeo,   # time step sized batches\n",
    "            verbose=True,\n",
    "        )\n",
    "        gen = gen_obj.return_generator()\n",
    "        psum = np.zeros((self.ngeo, gen_obj.target_shape))\n",
    "        tsum = np.copy(psum); sse = np.copy(psum)\n",
    "        psqsum = np.copy(psum); tsqsum = np.copy(psum)\n",
    "        #for t in tqdm(range(gen_obj.n_batches)):  # Every batch is one time step!\n",
    "        for t in tqdm(range(25)):\n",
    "            # Load features and targets\n",
    "            f, t = next(gen)\n",
    "            # Get predictions\n",
    "            p = self.model.predict_on_batch(f)   # [ngeo samples, z]\n",
    "            # Compute statistics\n",
    "            psum += p; tsum += t\n",
    "            psqsum += p**2; tsqsum += t**2\n",
    "            sse += (t - p) ** 2\n",
    "        \n",
    "        # Compute average statistics\n",
    "        self.stats_dict = {}\n",
    "        n = gen_obj.n_batches\n",
    "        pmean = psum / n; tmean = tsum / n\n",
    "        self.bias = pmean - tmean; self.stats_dict['bias'] = self.bias\n",
    "        self.rmse = np.sqrt(sse / n); self.stats_dict['rmse'] = self.rmse\n",
    "        self.pred_var = psqsum / n - pmean**2; self.stats_dict['pred_var'] = self.pred_var\n",
    "        self.true_var = tsqsum / n - tmean**2; self.stats_dict['true_var'] = self.true_var\n",
    "        self.rel_mse = self.rmse**2 / self.true_var; self.stats_dict['rel_mse'] = self.rel_mse\n",
    "        \n",
    "    def mean_stats(self):\n",
    "        df = pd.DataFrame(index=self.target_vars, columns=self.stats_dict.keys())\n",
    "        for stat_name, stat in self.stats_dict.items():\n",
    "            for var in self.target_vars:\n",
    "                df.loc[var, stat_name] = np.mean(self.reshape_output(stat, var=var))\n",
    "        return df\n",
    "    \n",
    "    def plot_stat_lat_lev_mean(self, stat_name, var):\n",
    "        arr = np.mean(diag.reshape_output(self.stats_dict[stat_name], var=var), axis=1).T\n",
    "        self.plot_slice(arr, var + ' ' + stat_name)"
   ]
  },
  {
   "cell_type": "code",
   "execution_count": 33,
   "metadata": {},
   "outputs": [],
   "source": [
    "diag = ModelDiagnostics(\n",
    "    model_path, \n",
    "    pre_dir + 'pure_crm_essentials_valid_month02_features.nc',\n",
    "    pre_dir + 'pure_crm_essentials_valid_month02_targets.nc',\n",
    "    pre_dir + 'pure_crm_essentials_train_month01_norm.nc'\n",
    ")"
   ]
  },
  {
   "cell_type": "code",
   "execution_count": 34,
   "metadata": {},
   "outputs": [
    {
     "name": "stderr",
     "output_type": "stream",
     "text": [
      "  8%|▊         | 2/25 [00:00<00:01, 14.51it/s]"
     ]
    },
    {
     "name": "stdout",
     "output_type": "stream",
     "text": [
      "Generator will have 11001856 samples in 1343 batches\n",
      "Features have shape 152; targets have shape 120\n"
     ]
    },
    {
     "name": "stderr",
     "output_type": "stream",
     "text": [
      "100%|██████████| 25/25 [00:00<00:00, 29.23it/s]\n",
      "/export/home/srasp/anaconda3/lib/python3.6/site-packages/ipykernel_launcher.py:134: RuntimeWarning: divide by zero encountered in true_divide\n"
     ]
    }
   ],
   "source": [
    "diag.compute_stats()"
   ]
  },
  {
   "cell_type": "code",
   "execution_count": 35,
   "metadata": {},
   "outputs": [],
   "source": [
    "df = diag.mean_stats()"
   ]
  },
  {
   "cell_type": "code",
   "execution_count": 36,
   "metadata": {},
   "outputs": [
    {
     "data": {
      "text/html": [
       "<div>\n",
       "<style>\n",
       "    .dataframe thead tr:only-child th {\n",
       "        text-align: right;\n",
       "    }\n",
       "\n",
       "    .dataframe thead th {\n",
       "        text-align: left;\n",
       "    }\n",
       "\n",
       "    .dataframe tbody tr th {\n",
       "        vertical-align: top;\n",
       "    }\n",
       "</style>\n",
       "<table border=\"1\" class=\"dataframe\">\n",
       "  <thead>\n",
       "    <tr style=\"text-align: right;\">\n",
       "      <th></th>\n",
       "      <th>bias</th>\n",
       "      <th>rmse</th>\n",
       "      <th>pred_var</th>\n",
       "      <th>true_var</th>\n",
       "      <th>rel_mse</th>\n",
       "    </tr>\n",
       "  </thead>\n",
       "  <tbody>\n",
       "    <tr>\n",
       "      <th>SPDQ</th>\n",
       "      <td>1.21952e-11</td>\n",
       "      <td>2.14712e-09</td>\n",
       "      <td>1.25359e-10</td>\n",
       "      <td>1.98683e-10</td>\n",
       "      <td>inf</td>\n",
       "    </tr>\n",
       "    <tr>\n",
       "      <th>SPDT</th>\n",
       "      <td>-2.09592e-08</td>\n",
       "      <td>2.44439e-06</td>\n",
       "      <td>2.75545e-08</td>\n",
       "      <td>5.15512e-08</td>\n",
       "      <td>inf</td>\n",
       "    </tr>\n",
       "    <tr>\n",
       "      <th>QRL</th>\n",
       "      <td>2.05558e-08</td>\n",
       "      <td>8.60945e-07</td>\n",
       "      <td>7.50611e-09</td>\n",
       "      <td>1.23918e-08</td>\n",
       "      <td>0.00359469</td>\n",
       "    </tr>\n",
       "    <tr>\n",
       "      <th>QRS</th>\n",
       "      <td>-9.51193e-09</td>\n",
       "      <td>3.01713e-07</td>\n",
       "      <td>5.87982e-09</td>\n",
       "      <td>6.92442e-09</td>\n",
       "      <td>inf</td>\n",
       "    </tr>\n",
       "  </tbody>\n",
       "</table>\n",
       "</div>"
      ],
      "text/plain": [
       "             bias         rmse     pred_var     true_var     rel_mse\n",
       "SPDQ  1.21952e-11  2.14712e-09  1.25359e-10  1.98683e-10         inf\n",
       "SPDT -2.09592e-08  2.44439e-06  2.75545e-08  5.15512e-08         inf\n",
       "QRL   2.05558e-08  8.60945e-07  7.50611e-09  1.23918e-08  0.00359469\n",
       "QRS  -9.51193e-09  3.01713e-07  5.87982e-09  6.92442e-09         inf"
      ]
     },
     "execution_count": 36,
     "metadata": {},
     "output_type": "execute_result"
    }
   ],
   "source": [
    "df"
   ]
  },
  {
   "cell_type": "code",
   "execution_count": 37,
   "metadata": {},
   "outputs": [
    {
     "data": {
      "image/png": "[encoded data removed]",
      "text/plain": [
       "<matplotlib.figure.Figure at 0x2b582711a860>"
      ]
     },
     "metadata": {},
     "output_type": "display_data"
    }
   ],
   "source": [
    "diag.plot_stat_lat_lev_mean('bias', 'QRL')"
   ]
  },
  {
   "cell_type": "code",
   "execution_count": null,
   "metadata": {
    "collapsed": true
   },
   "outputs": [],
   "source": []
  },
  {
   "cell_type": "code",
   "execution_count": 18,
   "metadata": {},
   "outputs": [
    {
     "data": {
      "text/plain": [
       "<matplotlib.image.AxesImage at 0x2b580d959208>"
      ]
     },
     "execution_count": 18,
     "metadata": {},
     "output_type": "execute_result"
    },
    {
     "data": {
      "image/png": "[encoded data removed]",
      "text/plain": [
       "<matplotlib.figure.Figure at 0x2b5800090da0>"
      ]
     },
     "metadata": {},
     "output_type": "display_data"
    }
   ],
   "source": [
    "plt.imshow(diag.reshape_output(diag.rel_mse, var='SPDT')[:, 0, :].T)"
   ]
  },
  {
   "cell_type": "code",
   "execution_count": 19,
   "metadata": {},
   "outputs": [
    {
     "data": {
      "text/plain": [
       "<matplotlib.image.AxesImage at 0x2b58239a7780>"
      ]
     },
     "execution_count": 19,
     "metadata": {},
     "output_type": "execute_result"
    },
    {
     "data": {
      "image/png": "[encoded data removed]",
      "text/plain": [
       "<matplotlib.figure.Figure at 0x2b55aa7a9748>"
      ]
     },
     "metadata": {},
     "output_type": "display_data"
    }
   ],
   "source": [
    "plt.imshow(diag.reshape_output(diag.true_var, var='SPDT')[:, 0, :].T)"
   ]
  },
  {
   "cell_type": "code",
   "execution_count": 49,
   "metadata": {},
   "outputs": [
    {
     "data": {
      "text/plain": [
       "<matplotlib.image.AxesImage at 0x2b71c7895dd8>"
      ]
     },
     "execution_count": 49,
     "metadata": {},
     "output_type": "execute_result"
    },
    {
     "data": {
      "image/png": "[encoded data removed]",
      "text/plain": [
       "<matplotlib.figure.Figure at 0x2b71c601d780>"
      ]
     },
     "metadata": {},
     "output_type": "display_data"
    }
   ],
   "source": [
    "plt.imshow(diag.reshape_output(diag.rmse, var='SPDT')[:, 0, :].T)"
   ]
  },
  {
   "cell_type": "code",
   "execution_count": 50,
   "metadata": {},
   "outputs": [
    {
     "data": {
      "text/plain": [
       "<matplotlib.image.AxesImage at 0x2b71c7a54c88>"
      ]
     },
     "execution_count": 50,
     "metadata": {},
     "output_type": "execute_result"
    },
    {
     "data": {
      "image/png": "[encoded data removed]",
      "text/plain": [
       "<matplotlib.figure.Figure at 0x2b71c77fa400>"
      ]
     },
     "metadata": {},
     "output_type": "display_data"
    }
   ],
   "source": [
    "plt.imshow(np.mean(diag.reshape_output(diag.rmse, var='SPDT'), axis=1).T)"
   ]
  },
  {
   "cell_type": "code",
   "execution_count": 51,
   "metadata": {},
   "outputs": [
    {
     "data": {
      "text/plain": [
       "[<matplotlib.lines.Line2D at 0x2b71c7c92be0>]"
      ]
     },
     "execution_count": 51,
     "metadata": {},
     "output_type": "execute_result"
    },
    {
     "data": {
      "image/png": "[encoded data removed]",
      "text/plain": [
       "<matplotlib.figure.Figure at 0x2b71ac469e10>"
      ]
     },
     "metadata": {},
     "output_type": "display_data"
    }
   ],
   "source": [
    "plt.plot(np.mean(diag.reshape_output(diag.rmse, var='SPDT'), axis=(0,1)))"
   ]
  },
  {
   "cell_type": "code",
   "execution_count": 52,
   "metadata": {},
   "outputs": [
    {
     "data": {
      "text/plain": [
       "2.4443889655356344e-06"
      ]
     },
     "execution_count": 52,
     "metadata": {},
     "output_type": "execute_result"
    }
   ],
   "source": [
    "np.mean(diag.reshape_output(diag.rmse, var='SPDT'))"
   ]
  },
  {
   "cell_type": "code",
   "execution_count": 56,
   "metadata": {
    "collapsed": true
   },
   "outputs": [],
   "source": [
    "l = ['a', 'b']\n",
    "v = [3, 4]"
   ]
  },
  {
   "cell_type": "code",
   "execution_count": 86,
   "metadata": {},
   "outputs": [],
   "source": [
    "p = pd.DataFrame()"
   ]
  },
  {
   "cell_type": "code",
   "execution_count": 62,
   "metadata": {},
   "outputs": [
    {
     "data": {
      "text/html": [
       "<div>\n",
       "<style>\n",
       "    .dataframe thead tr:only-child th {\n",
       "        text-align: right;\n",
       "    }\n",
       "\n",
       "    .dataframe thead th {\n",
       "        text-align: left;\n",
       "    }\n",
       "\n",
       "    .dataframe tbody tr th {\n",
       "        vertical-align: top;\n",
       "    }\n",
       "</style>\n",
       "<table border=\"1\" class=\"dataframe\">\n",
       "  <thead>\n",
       "    <tr style=\"text-align: right;\">\n",
       "      <th></th>\n",
       "    </tr>\n",
       "  </thead>\n",
       "  <tbody>\n",
       "  </tbody>\n",
       "</table>\n",
       "</div>"
      ],
      "text/plain": [
       "Empty DataFrame\n",
       "Columns: []\n",
       "Index: []"
      ]
     },
     "execution_count": 62,
     "metadata": {},
     "output_type": "execute_result"
    }
   ],
   "source": [
    "p"
   ]
  },
  {
   "cell_type": "code",
   "execution_count": 63,
   "metadata": {
    "collapsed": true
   },
   "outputs": [],
   "source": [
    "p['a'] = [3]"
   ]
  },
  {
   "cell_type": "code",
   "execution_count": 64,
   "metadata": {},
   "outputs": [
    {
     "data": {
      "text/html": [
       "<div>\n",
       "<style>\n",
       "    .dataframe thead tr:only-child th {\n",
       "        text-align: right;\n",
       "    }\n",
       "\n",
       "    .dataframe thead th {\n",
       "        text-align: left;\n",
       "    }\n",
       "\n",
       "    .dataframe tbody tr th {\n",
       "        vertical-align: top;\n",
       "    }\n",
       "</style>\n",
       "<table border=\"1\" class=\"dataframe\">\n",
       "  <thead>\n",
       "    <tr style=\"text-align: right;\">\n",
       "      <th></th>\n",
       "      <th>a</th>\n",
       "    </tr>\n",
       "  </thead>\n",
       "  <tbody>\n",
       "    <tr>\n",
       "      <th>0</th>\n",
       "      <td>3</td>\n",
       "    </tr>\n",
       "  </tbody>\n",
       "</table>\n",
       "</div>"
      ],
      "text/plain": [
       "   a\n",
       "0  3"
      ]
     },
     "execution_count": 64,
     "metadata": {},
     "output_type": "execute_result"
    }
   ],
   "source": [
    "p"
   ]
  },
  {
   "cell_type": "code",
   "execution_count": 105,
   "metadata": {},
   "outputs": [
    {
     "data": {
      "text/plain": [
       "dict_keys(['bias', 'rmse', 'pred_var', 'true_var'])"
      ]
     },
     "execution_count": 105,
     "metadata": {},
     "output_type": "execute_result"
    }
   ],
   "source": [
    "diag.stats_dict.keys()"
   ]
  },
  {
   "cell_type": "code",
   "execution_count": 106,
   "metadata": {
    "collapsed": true
   },
   "outputs": [],
   "source": [
    "p = pd.DataFrame(index=diag.feature_vars, columns=diag.stats_dict.keys())"
   ]
  },
  {
   "cell_type": "code",
   "execution_count": 107,
   "metadata": {},
   "outputs": [
    {
     "data": {
      "text/html": [
       "<div>\n",
       "<style>\n",
       "    .dataframe thead tr:only-child th {\n",
       "        text-align: right;\n",
       "    }\n",
       "\n",
       "    .dataframe thead th {\n",
       "        text-align: left;\n",
       "    }\n",
       "\n",
       "    .dataframe tbody tr th {\n",
       "        vertical-align: top;\n",
       "    }\n",
       "</style>\n",
       "<table border=\"1\" class=\"dataframe\">\n",
       "  <thead>\n",
       "    <tr style=\"text-align: right;\">\n",
       "      <th></th>\n",
       "      <th>bias</th>\n",
       "      <th>rmse</th>\n",
       "      <th>pred_var</th>\n",
       "      <th>true_var</th>\n",
       "    </tr>\n",
       "  </thead>\n",
       "  <tbody>\n",
       "    <tr>\n",
       "      <th>T_C</th>\n",
       "      <td>NaN</td>\n",
       "      <td>NaN</td>\n",
       "      <td>NaN</td>\n",
       "      <td>NaN</td>\n",
       "    </tr>\n",
       "    <tr>\n",
       "      <th>Q_C</th>\n",
       "      <td>NaN</td>\n",
       "      <td>NaN</td>\n",
       "      <td>NaN</td>\n",
       "      <td>NaN</td>\n",
       "    </tr>\n",
       "    <tr>\n",
       "      <th>V_C</th>\n",
       "      <td>NaN</td>\n",
       "      <td>NaN</td>\n",
       "      <td>NaN</td>\n",
       "      <td>NaN</td>\n",
       "    </tr>\n",
       "    <tr>\n",
       "      <th>dTdt_adiabatic</th>\n",
       "      <td>NaN</td>\n",
       "      <td>NaN</td>\n",
       "      <td>NaN</td>\n",
       "      <td>NaN</td>\n",
       "    </tr>\n",
       "    <tr>\n",
       "      <th>dQdt_adiabatic</th>\n",
       "      <td>NaN</td>\n",
       "      <td>NaN</td>\n",
       "      <td>NaN</td>\n",
       "      <td>NaN</td>\n",
       "    </tr>\n",
       "    <tr>\n",
       "      <th>PS</th>\n",
       "      <td>NaN</td>\n",
       "      <td>NaN</td>\n",
       "      <td>NaN</td>\n",
       "      <td>NaN</td>\n",
       "    </tr>\n",
       "    <tr>\n",
       "      <th>SOLIN</th>\n",
       "      <td>NaN</td>\n",
       "      <td>NaN</td>\n",
       "      <td>NaN</td>\n",
       "      <td>NaN</td>\n",
       "    </tr>\n",
       "  </tbody>\n",
       "</table>\n",
       "</div>"
      ],
      "text/plain": [
       "               bias rmse pred_var true_var\n",
       "T_C             NaN  NaN      NaN      NaN\n",
       "Q_C             NaN  NaN      NaN      NaN\n",
       "V_C             NaN  NaN      NaN      NaN\n",
       "dTdt_adiabatic  NaN  NaN      NaN      NaN\n",
       "dQdt_adiabatic  NaN  NaN      NaN      NaN\n",
       "PS              NaN  NaN      NaN      NaN\n",
       "SOLIN           NaN  NaN      NaN      NaN"
      ]
     },
     "execution_count": 107,
     "metadata": {},
     "output_type": "execute_result"
    }
   ],
   "source": [
    "p"
   ]
  },
  {
   "cell_type": "code",
   "execution_count": 95,
   "metadata": {
    "collapsed": true
   },
   "outputs": [],
   "source": [
    "p['a'] = [1, 2, 3, 4,5, 6, 7]"
   ]
  },
  {
   "cell_type": "code",
   "execution_count": 96,
   "metadata": {},
   "outputs": [
    {
     "data": {
      "text/html": [
       "<div>\n",
       "<style>\n",
       "    .dataframe thead tr:only-child th {\n",
       "        text-align: right;\n",
       "    }\n",
       "\n",
       "    .dataframe thead th {\n",
       "        text-align: left;\n",
       "    }\n",
       "\n",
       "    .dataframe tbody tr th {\n",
       "        vertical-align: top;\n",
       "    }\n",
       "</style>\n",
       "<table border=\"1\" class=\"dataframe\">\n",
       "  <thead>\n",
       "    <tr style=\"text-align: right;\">\n",
       "      <th></th>\n",
       "      <th>a</th>\n",
       "    </tr>\n",
       "  </thead>\n",
       "  <tbody>\n",
       "    <tr>\n",
       "      <th>T_C</th>\n",
       "      <td>1</td>\n",
       "    </tr>\n",
       "    <tr>\n",
       "      <th>Q_C</th>\n",
       "      <td>2</td>\n",
       "    </tr>\n",
       "    <tr>\n",
       "      <th>V_C</th>\n",
       "      <td>3</td>\n",
       "    </tr>\n",
       "    <tr>\n",
       "      <th>dTdt_adiabatic</th>\n",
       "      <td>4</td>\n",
       "    </tr>\n",
       "    <tr>\n",
       "      <th>dQdt_adiabatic</th>\n",
       "      <td>5</td>\n",
       "    </tr>\n",
       "    <tr>\n",
       "      <th>PS</th>\n",
       "      <td>6</td>\n",
       "    </tr>\n",
       "    <tr>\n",
       "      <th>SOLIN</th>\n",
       "      <td>7</td>\n",
       "    </tr>\n",
       "  </tbody>\n",
       "</table>\n",
       "</div>"
      ],
      "text/plain": [
       "                a\n",
       "T_C             1\n",
       "Q_C             2\n",
       "V_C             3\n",
       "dTdt_adiabatic  4\n",
       "dQdt_adiabatic  5\n",
       "PS              6\n",
       "SOLIN           7"
      ]
     },
     "execution_count": 96,
     "metadata": {},
     "output_type": "execute_result"
    }
   ],
   "source": [
    "p"
   ]
  },
  {
   "cell_type": "code",
   "execution_count": 102,
   "metadata": {},
   "outputs": [
    {
     "data": {
      "text/plain": [
       "1"
      ]
     },
     "execution_count": 102,
     "metadata": {},
     "output_type": "execute_result"
    }
   ],
   "source": [
    "p.loc['T_C', 'a']"
   ]
  },
  {
   "cell_type": "code",
   "execution_count": null,
   "metadata": {
    "collapsed": true
   },
   "outputs": [],
   "source": []
  }
 ],
 "metadata": {
  "kernelspec": {
   "display_name": "Python 3",
   "language": "python",
   "name": "python3"
  },
  "language_info": {
   "codemirror_mode": {
    "name": "ipython",
    "version": 3
   },
   "file_extension": ".py",
   "mimetype": "text/x-python",
   "name": "python",
   "nbconvert_exporter": "python",
   "pygments_lexer": "ipython3",
   "version": "3.6.3"
  }
 },
 "nbformat": 4,
 "nbformat_minor": 2
}
