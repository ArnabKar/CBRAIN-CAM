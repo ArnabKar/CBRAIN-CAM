{
 "cells": [
  {
   "cell_type": "markdown",
   "metadata": {},
   "source": [
    "# Experiments and analysis for 1st paper\n",
    "\n",
    "For each output variable [TPHYSTND_NORAD, PHQ, QRL, QRS] the $R^2$ is computed for each level $z$ and then averaged:\n",
    "\n",
    "$$ R^2_z = 1 - (SSE_z / TVAR_z) $$\n",
    "\n",
    "where SSE, the sum of squared errors is computed from the predicted values $y$ and the corresponding true values $\\hat{y}$:\n",
    "\n",
    "$$ SSE_z = \\frac{1}{nt \\times nx \\times ny}\\sum_{nt}\\sum_{nx}\\sum_{ny} (y_{t, x, y} - \\hat{y}_{t, x, y})^2$$\n",
    "\n",
    "and the TVAR, the true variance is:\n",
    "\n",
    "$$ TVAR_Z = \\frac{1}{nt \\times nx \\times ny}\\sum_{nt}\\sum_{nx}\\sum_{ny} (\\hat{y}_{t, x, y} - \\bar{\\hat{y}})^2 $$\n",
    "\n",
    "with $\\bar{\\hat{y}}$ being the true mean over $t, x, y$."
   ]
  },
  {
   "cell_type": "code",
   "execution_count": 18,
   "metadata": {},
   "outputs": [
    {
     "name": "stderr",
     "output_type": "stream",
     "text": [
      "/export/home/srasp/anaconda3/lib/python3.6/site-packages/h5py/__init__.py:36: FutureWarning: Conversion of the second argument of issubdtype from `float` to `np.floating` is deprecated. In future, it will be treated as `np.float64 == np.dtype(float).type`.\n",
      "  from ._conv import register_converters as _register_converters\n",
      "Using TensorFlow backend.\n"
     ]
    }
   ],
   "source": [
    "from cbrain.imports import *\n",
    "%matplotlib inline"
   ]
  },
  {
   "cell_type": "markdown",
   "metadata": {},
   "source": [
    "## Network architecture sensitivity test\n",
    "\n",
    "- Training: 60 days. Days 5-9 from each month of year 1.\n",
    "- Validation: 60 days. Days 5-9 from each month of year 2.\n",
    "\n",
    "The goal of this sensitivity test is to assess the number of parameters and the arrangement (shallow vs. wide).\n",
    "\n",
    "- Number of input variables: 123\n",
    "- Number of output variables: 120\n",
    "\n",
    "All networks are trained with LeakyReLU activation functions $z(a) = \\max(0.3x, x)$.\n",
    "\n",
    "For input normalization, we are subtracting each variable by its mean and then divide it by its standard deviation to get mean zero, standard deviation one. \n",
    "\n",
    "For the outputs we are multiplying the heating tendencies (TPHYSTND_NORAD, QRL, QRS) by $C_p = 1 \\times 10^3$ and the moistening tendency PHQ by $L_v = 2.5 \\times 10^6$, so that they are all in energy units W/m^2. \n"
   ]
  },
  {
   "cell_type": "code",
   "execution_count": 15,
   "metadata": {},
   "outputs": [],
   "source": [
    "def npar(l):\n",
    "    l = [l] if not type(l) == list else l\n",
    "    l = [123] + l + [120]\n",
    "    return sum([l[i] * l[i+1] + l[i+1] for i in range(len(l)-1)])"
   ]
  },
  {
   "cell_type": "code",
   "execution_count": 22,
   "metadata": {},
   "outputs": [
    {
     "data": {
      "image/png": "[encoded data removed]",
      "text/plain": [
       "<Figure size 432x288 with 1 Axes>"
      ]
     },
     "metadata": {},
     "output_type": "display_data"
    }
   ],
   "source": [
    "plt.plot([npar(l) for l in [128, 512, 2048, 8192]]);"
   ]
  },
  {
   "cell_type": "code",
   "execution_count": 23,
   "metadata": {},
   "outputs": [
    {
     "data": {
      "text/plain": [
       "3398776"
      ]
     },
     "execution_count": 23,
     "metadata": {},
     "output_type": "execute_result"
    }
   ],
   "source": [
    "npar([1024]*4)"
   ]
  },
  {
   "cell_type": "markdown",
   "metadata": {},
   "source": [
    "## Training amount sensitivity tests\n",
    "\n",
    "Using selected network from above.\n",
    "\n",
    "- Training with continuous periods:\n",
    "    - 1 week\n",
    "    - 1 month\n",
    "    - 3 month\n",
    "    - 6 month\n",
    "    - 9 month\n",
    "    - 12 month\n",
    "- Validation\n",
    "    - Test: 60 days vs full 2nd year"
   ]
  },
  {
   "cell_type": "code",
   "execution_count": null,
   "metadata": {},
   "outputs": [],
   "source": []
  }
 ],
 "metadata": {
  "kernelspec": {
   "display_name": "Python 3",
   "language": "python",
   "name": "python3"
  },
  "language_info": {
   "codemirror_mode": {
    "name": "ipython",
    "version": 3
   },
   "file_extension": ".py",
   "mimetype": "text/x-python",
   "name": "python",
   "nbconvert_exporter": "python",
   "pygments_lexer": "ipython3",
   "version": "3.6.4"
  },
  "toc": {
   "nav_menu": {},
   "number_sections": true,
   "sideBar": true,
   "skip_h1_title": true,
   "title_cell": "Table of Contents",
   "title_sidebar": "Contents",
   "toc_cell": false,
   "toc_position": {},
   "toc_section_display": true,
   "toc_window_display": false
  }
 },
 "nbformat": 4,
 "nbformat_minor": 2
}
