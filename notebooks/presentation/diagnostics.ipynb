{
 "cells": [
  {
   "cell_type": "code",
   "execution_count": 1,
   "metadata": {
    "collapsed": true
   },
   "outputs": [],
   "source": [
    "%load_ext autoreload\n",
    "%autoreload 2"
   ]
  },
  {
   "cell_type": "code",
   "execution_count": 2,
   "metadata": {},
   "outputs": [
    {
     "name": "stderr",
     "output_type": "stream",
     "text": [
      "Using TensorFlow backend.\n"
     ]
    }
   ],
   "source": [
    "from cbrain.imports import *\n",
    "from cbrain.model_diagnostics import *"
   ]
  },
  {
   "cell_type": "code",
   "execution_count": 3,
   "metadata": {
    "collapsed": true
   },
   "outputs": [],
   "source": [
    "model_dir = '/export/home/srasp/repositories/CBRAIN-Keras-Diagnostics/saved_models/'\n",
    "model_path = model_dir + 'B001_purecrm_ess_sample1_base.h5'"
   ]
  },
  {
   "cell_type": "code",
   "execution_count": 4,
   "metadata": {
    "collapsed": true
   },
   "outputs": [],
   "source": [
    "pre_dir = '/scratch/srasp/preprocessed_data/'"
   ]
  },
  {
   "cell_type": "code",
   "execution_count": 7,
   "metadata": {
    "collapsed": true
   },
   "outputs": [],
   "source": [
    "def get_stats(model_name, option='purecrm', data_str='', norms=(None, None, None, None)):\n",
    "    model_path = model_dir + model_name + '.h5'\n",
    "    diag = ModelDiagnostics(\n",
    "        model_path, \n",
    "        pre_dir + f'{option}_ess{data_str}_valid_sample1_features.nc',\n",
    "        pre_dir + f'{option}_ess{data_str}_valid_sample1_targets.nc',\n",
    "        pre_dir + f'{option}_ess{data_str}_train_sample1_norm.nc',\n",
    "        *norms\n",
    "    )\n",
    "    diag.compute_stats(compute_SPDT_SPDQ=True if option == 'purecrm' else False)\n",
    "    print(diag.mean_stats())\n",
    "    return diag"
   ]
  },
  {
   "cell_type": "code",
   "execution_count": 6,
   "metadata": {
    "collapsed": true
   },
   "outputs": [],
   "source": [
    "diag = ModelDiagnostics(\n",
    "    model_path, \n",
    "    pre_dir + 'purecrm_ess_valid_sample1_features.nc',\n",
    "    pre_dir + 'purecrm_ess_valid_sample1_targets.nc',\n",
    "    pre_dir + 'purecrm_ess_train_sample1_norm.nc'\n",
    ")"
   ]
  },
  {
   "cell_type": "code",
   "execution_count": 17,
   "metadata": {},
   "outputs": [
    {
     "name": "stderr",
     "output_type": "stream",
     "text": [
      "  0%|          | 1/2868 [00:00<05:11,  9.20it/s]"
     ]
    },
    {
     "name": "stdout",
     "output_type": "stream",
     "text": [
      "Generator will have 23494656 samples in 2868 batches\n",
      "Features have shape 152; targets have shape 120\n"
     ]
    },
    {
     "name": "stderr",
     "output_type": "stream",
     "text": [
      "100%|██████████| 2868/2868 [03:35<00:00, 13.28it/s]\n"
     ]
    },
    {
     "name": "stdout",
     "output_type": "stream",
     "text": [
      "Mean squared energy violation. True: 73.5111207161\n",
      "Mean squared energy violation. Pred: 239.035288736\n"
     ]
    }
   ],
   "source": [
    "diag.compute_stats(compute_SPDT_SPDQ=True)"
   ]
  },
  {
   "cell_type": "code",
   "execution_count": 19,
   "metadata": {},
   "outputs": [
    {
     "name": "stderr",
     "output_type": "stream",
     "text": [
      "../diagnostics/model_diagnostics.py:248: RuntimeWarning: divide by zero encountered in true_divide\n",
      "  np.mean(self.reshape_output(self.true_var, v, unscale=False), axis=(0, 1))\n"
     ]
    },
    {
     "data": {
      "text/html": [
       "<div>\n",
       "<style>\n",
       "    .dataframe thead tr:only-child th {\n",
       "        text-align: right;\n",
       "    }\n",
       "\n",
       "    .dataframe thead th {\n",
       "        text-align: left;\n",
       "    }\n",
       "\n",
       "    .dataframe tbody tr th {\n",
       "        vertical-align: top;\n",
       "    }\n",
       "</style>\n",
       "<table border=\"1\" class=\"dataframe\">\n",
       "  <thead>\n",
       "    <tr style=\"text-align: right;\">\n",
       "      <th></th>\n",
       "      <th>bias</th>\n",
       "      <th>mse</th>\n",
       "      <th>pred_var</th>\n",
       "      <th>true_var</th>\n",
       "      <th>expl_var_cut9</th>\n",
       "    </tr>\n",
       "  </thead>\n",
       "  <tbody>\n",
       "    <tr>\n",
       "      <th>SPDQ</th>\n",
       "      <td>7.00779e-10</td>\n",
       "      <td>1.32574e-15</td>\n",
       "      <td>8.70507e-16</td>\n",
       "      <td>2.25854e-15</td>\n",
       "      <td>0.256709</td>\n",
       "    </tr>\n",
       "    <tr>\n",
       "      <th>SPDT</th>\n",
       "      <td>-8.98443e-07</td>\n",
       "      <td>1.1248e-09</td>\n",
       "      <td>1.05161e-09</td>\n",
       "      <td>2.22517e-09</td>\n",
       "      <td>0.407909</td>\n",
       "    </tr>\n",
       "    <tr>\n",
       "      <th>QRL</th>\n",
       "      <td>1.21491e-06</td>\n",
       "      <td>2.15997e-10</td>\n",
       "      <td>8.75047e-11</td>\n",
       "      <td>3.13624e-10</td>\n",
       "      <td>0.332738</td>\n",
       "    </tr>\n",
       "    <tr>\n",
       "      <th>QRS</th>\n",
       "      <td>-3.67374e-07</td>\n",
       "      <td>2.79665e-11</td>\n",
       "      <td>1.55369e-10</td>\n",
       "      <td>1.9229e-10</td>\n",
       "      <td>0.665941</td>\n",
       "    </tr>\n",
       "    <tr>\n",
       "      <th>all</th>\n",
       "      <td>-1.25518e-08</td>\n",
       "      <td>3.42191e-10</td>\n",
       "      <td>3.23621e-10</td>\n",
       "      <td>6.82771e-10</td>\n",
       "      <td>0.415824</td>\n",
       "    </tr>\n",
       "  </tbody>\n",
       "</table>\n",
       "</div>"
      ],
      "text/plain": [
       "             bias          mse     pred_var     true_var expl_var_cut9\n",
       "SPDQ  7.00779e-10  1.32574e-15  8.70507e-16  2.25854e-15      0.256709\n",
       "SPDT -8.98443e-07   1.1248e-09  1.05161e-09  2.22517e-09      0.407909\n",
       "QRL   1.21491e-06  2.15997e-10  8.75047e-11  3.13624e-10      0.332738\n",
       "QRS  -3.67374e-07  2.79665e-11  1.55369e-10   1.9229e-10      0.665941\n",
       "all  -1.25518e-08  3.42191e-10  3.23621e-10  6.82771e-10      0.415824"
      ]
     },
     "execution_count": 19,
     "metadata": {},
     "output_type": "execute_result"
    }
   ],
   "source": [
    "diag.mean_stats()"
   ]
  },
  {
   "cell_type": "code",
   "execution_count": 21,
   "metadata": {
    "collapsed": true
   },
   "outputs": [
    {
     "data": {
      "image/png": "[encoded data removed]",
      "text/plain": [
       "<matplotlib.figure.Figure at 0x2b147f7fda20>"
      ]
     },
     "metadata": {},
     "output_type": "display_data"
    }
   ],
   "source": [
    "diag.plot_double_lat_lev_slice('SPDQ', 1, 0, vmin=-5e-7, vmax=5e-7, cmap='bwr')"
   ]
  },
  {
   "cell_type": "code",
   "execution_count": 22,
   "metadata": {
    "collapsed": true
   },
   "outputs": [
    {
     "data": {
      "image/png": "[encoded data removed]",
      "text/plain": [
       "<matplotlib.figure.Figure at 0x2b147f7c3c18>"
      ]
     },
     "metadata": {},
     "output_type": "display_data"
    }
   ],
   "source": [
    "diag.plot_stat_lat_lev_mean('bias', 'SPDQ', vmin=-5e-8, vmax=5e-8, cmap='bwr')"
   ]
  },
  {
   "cell_type": "code",
   "execution_count": null,
   "metadata": {
    "collapsed": true
   },
   "outputs": [],
   "source": [
    "get_purecrm_stats('B002_purecrm_ess_sample1_deep1')"
   ]
  },
  {
   "cell_type": "code",
   "execution_count": 25,
   "metadata": {},
   "outputs": [
    {
     "name": "stderr",
     "output_type": "stream",
     "text": [
      "\r",
      "  0%|          | 0/2868 [00:00<?, ?it/s]"
     ]
    },
    {
     "name": "stdout",
     "output_type": "stream",
     "text": [
      "Generator will have 23494656 samples in 2868 batches\n",
      "Features have shape 152; targets have shape 120\n"
     ]
    },
    {
     "name": "stderr",
     "output_type": "stream",
     "text": [
      "100%|██████████| 2868/2868 [03:47<00:00, 12.62it/s]\n",
      "../diagnostics/model_diagnostics.py:248: RuntimeWarning: divide by zero encountered in true_divide\n",
      "  np.mean(self.reshape_output(self.true_var, v, unscale=False), axis=(0, 1))\n"
     ]
    },
    {
     "name": "stdout",
     "output_type": "stream",
     "text": [
      "Mean squared energy violation. True: 73.5111207161\n",
      "Mean squared energy violation. Pred: 267.624974687\n",
      "             bias          mse     pred_var     true_var expl_var_cut9\n",
      "SPDQ  7.23547e-10  1.36536e-15  8.32953e-16  2.25854e-15      0.471466\n",
      "SPDT -9.62342e-07  1.14744e-09  1.00434e-09  2.22517e-09       0.40612\n",
      "QRL   1.37961e-06  2.31197e-10  6.15432e-11  3.13624e-10      0.331528\n",
      "QRS  -4.51383e-07   3.1669e-11  1.50245e-10   1.9229e-10      0.627723\n",
      "all  -8.34887e-09  3.52578e-10  3.04032e-10  6.82771e-10      0.459209\n"
     ]
    }
   ],
   "source": [
    "get_purecrm_stats('B003_purecrm_ess_sample1_tanh')"
   ]
  },
  {
   "cell_type": "code",
   "execution_count": 26,
   "metadata": {},
   "outputs": [
    {
     "name": "stderr",
     "output_type": "stream",
     "text": [
      "\r",
      "  0%|          | 0/2868 [00:00<?, ?it/s]"
     ]
    },
    {
     "name": "stdout",
     "output_type": "stream",
     "text": [
      "Generator will have 23494656 samples in 2868 batches\n",
      "Features have shape 152; targets have shape 120\n"
     ]
    },
    {
     "name": "stderr",
     "output_type": "stream",
     "text": [
      "100%|██████████| 2868/2868 [03:29<00:00, 13.72it/s]\n",
      "../diagnostics/model_diagnostics.py:248: RuntimeWarning: divide by zero encountered in true_divide\n",
      "  np.mean(self.reshape_output(self.true_var, v, unscale=False), axis=(0, 1))\n"
     ]
    },
    {
     "name": "stdout",
     "output_type": "stream",
     "text": [
      "Mean squared energy violation. True: 73.5111207161\n",
      "Mean squared energy violation. Pred: 32.1739559174\n",
      "             bias          mse     pred_var     true_var expl_var_cut9\n",
      "SPDQ -1.44042e-11  1.19718e-15  1.07258e-15  2.25854e-15      0.512979\n",
      "SPDT  1.21352e-08  9.37052e-10  1.31008e-09  2.22517e-09      0.552854\n",
      "QRL   -6.9258e-09  1.17334e-10  2.06188e-10  3.13624e-10       0.60863\n",
      "QRS  -9.03553e-09  2.08555e-11  1.73175e-10   1.9229e-10      0.760162\n",
      "all   -9.6014e-10  2.68811e-10   4.2236e-10  6.82771e-10      0.608656\n"
     ]
    }
   ],
   "source": [
    "get_purecrm_stats('B004_purecrm_ess_sample1_mse')"
   ]
  },
  {
   "cell_type": "code",
   "execution_count": 8,
   "metadata": {
    "collapsed": true
   },
   "outputs": [
    {
     "name": "stderr",
     "output_type": "stream",
     "text": [
      "\r",
      "  0%|          | 0/2868 [00:00<?, ?it/s]"
     ]
    },
    {
     "name": "stdout",
     "output_type": "stream",
     "text": [
      "Generator will have 23494656 samples in 2868 batches\n",
      "Features have shape 152; targets have shape 120\n"
     ]
    },
    {
     "name": "stderr",
     "output_type": "stream",
     "text": [
      "100%|██████████| 2868/2868 [04:22<00:00, 10.92it/s]\n",
      "../diagnostics/model_diagnostics.py:248: RuntimeWarning: divide by zero encountered in true_divide\n",
      "  np.mean(self.reshape_output(self.true_var, v, unscale=False), axis=(0, 1))\n"
     ]
    },
    {
     "name": "stdout",
     "output_type": "stream",
     "text": [
      "Mean squared energy violation. True: 73.5111207161\n",
      "Mean squared energy violation. Pred: 562.596083411\n",
      "             bias          mse     pred_var     true_var expl_var_cut9\n",
      "SPDQ  5.33742e-10  1.50669e-15  7.46111e-16  2.25854e-15      -9.08153\n",
      "SPDT -9.57086e-07  1.27034e-09  9.25632e-10  2.22517e-09      0.357174\n",
      "QRL   1.63533e-06  2.76137e-10  4.46853e-11  3.13624e-10      0.143316\n",
      "QRS  -8.34128e-07  5.28353e-11  1.51219e-10   1.9229e-10      0.435124\n",
      "all  -3.88375e-08  3.99829e-10  2.80384e-10  6.82771e-10      -2.03648\n"
     ]
    },
    {
     "data": {
      "text/plain": [
       "<model_diagnostics.ModelDiagnostics at 0x2b648546d208>"
      ]
     },
     "execution_count": 8,
     "metadata": {},
     "output_type": "execute_result"
    }
   ],
   "source": [
    "get_stats('B005_purecrm_ess_sample1_lr1', 'purecrm')"
   ]
  },
  {
   "cell_type": "code",
   "execution_count": 9,
   "metadata": {
    "collapsed": true
   },
   "outputs": [
    {
     "name": "stdout",
     "output_type": "stream",
     "text": [
      "Generator will have 23494656 samples in 2868 batches\n",
      "Features have shape 152; targets have shape 120\n"
     ]
    },
    {
     "name": "stderr",
     "output_type": "stream",
     "text": [
      "100%|██████████| 2868/2868 [05:00<00:00,  9.54it/s]\n",
      "../diagnostics/model_diagnostics.py:248: RuntimeWarning: divide by zero encountered in true_divide\n",
      "  np.mean(self.reshape_output(self.true_var, v, unscale=False), axis=(0, 1))\n"
     ]
    },
    {
     "name": "stdout",
     "output_type": "stream",
     "text": [
      "Mean squared energy violation. True: 73.5111207161\n",
      "Mean squared energy violation. Pred: 259.272209473\n",
      "             bias          mse     pred_var     true_var expl_var_cut9\n",
      "SPDQ  6.52305e-10  1.27906e-15  9.09679e-16  2.25854e-15      0.498797\n",
      "SPDT -8.70314e-07  1.05302e-09  1.07841e-09  2.22517e-09      0.438019\n",
      "QRL   1.11861e-06  1.95686e-10  1.03737e-10  3.13624e-10      0.403785\n",
      "QRS  -3.74977e-07    2.789e-11  1.54035e-10   1.9229e-10      0.669903\n",
      "all  -3.15076e-08   3.1915e-10  3.34046e-10  6.82771e-10      0.502626\n"
     ]
    },
    {
     "data": {
      "text/plain": [
       "<model_diagnostics.ModelDiagnostics at 0x2b64a0379320>"
      ]
     },
     "execution_count": 9,
     "metadata": {},
     "output_type": "execute_result"
    }
   ],
   "source": [
    "get_stats('B006_purecrm_ess_sample1_deep1_tanh', 'purecrm')"
   ]
  },
  {
   "cell_type": "code",
   "execution_count": 6,
   "metadata": {
    "collapsed": true
   },
   "outputs": [
    {
     "name": "stderr",
     "output_type": "stream",
     "text": [
      "\r",
      "  0%|          | 0/2868 [00:00<?, ?it/s]"
     ]
    },
    {
     "name": "stdout",
     "output_type": "stream",
     "text": [
      "Generator will have 23494656 samples in 2868 batches\n",
      "Features have shape 152; targets have shape 120\n"
     ]
    },
    {
     "name": "stderr",
     "output_type": "stream",
     "text": [
      "100%|██████████| 2868/2868 [02:30<00:00, 19.08it/s]\n"
     ]
    },
    {
     "name": "stdout",
     "output_type": "stream",
     "text": [
      "Mean squared energy violation. True: 73.5111207161\n",
      "Mean squared energy violation. Pred: 362.400219221\n",
      "             bias          mse     pred_var     true_var expl_var_cut9\n",
      "SPDQ  6.86639e-10  1.42751e-15  8.05503e-16  2.25854e-15      -13.5649\n",
      "SPDT -1.06196e-06  1.23121e-09  1.01771e-09  2.22517e-09      0.363882\n",
      "QRL   1.68577e-06  2.89164e-10  5.46203e-11  3.13624e-10      0.112509\n",
      "QRS  -5.26512e-07  4.18396e-11  1.49506e-10   1.9229e-10      0.494826\n",
      "all   2.44957e-08  3.90554e-10   3.0546e-10  6.82771e-10      -3.14841\n"
     ]
    },
    {
     "name": "stderr",
     "output_type": "stream",
     "text": [
      "../diagnostics/model_diagnostics.py:248: RuntimeWarning: divide by zero encountered in true_divide\n",
      "  np.mean(self.reshape_output(self.true_var, v, unscale=False), axis=(0, 1))\n"
     ]
    },
    {
     "data": {
      "text/plain": [
       "<model_diagnostics.ModelDiagnostics at 0x2ba9f976c6a0>"
      ]
     },
     "execution_count": 6,
     "metadata": {},
     "output_type": "execute_result"
    }
   ],
   "source": [
    "get_stats('B007_purecrm_ess_sample1_bs128', 'purecrm')"
   ]
  },
  {
   "cell_type": "code",
   "execution_count": 7,
   "metadata": {
    "collapsed": true
   },
   "outputs": [
    {
     "name": "stderr",
     "output_type": "stream",
     "text": [
      "  0%|          | 2/2868 [00:00<03:11, 14.96it/s]"
     ]
    },
    {
     "name": "stdout",
     "output_type": "stream",
     "text": [
      "Generator will have 23494656 samples in 2868 batches\n",
      "Features have shape 152; targets have shape 120\n"
     ]
    },
    {
     "name": "stderr",
     "output_type": "stream",
     "text": [
      "100%|██████████| 2868/2868 [03:56<00:00, 12.14it/s]\n",
      "../diagnostics/model_diagnostics.py:248: RuntimeWarning: divide by zero encountered in true_divide\n",
      "  np.mean(self.reshape_output(self.true_var, v, unscale=False), axis=(0, 1))\n"
     ]
    },
    {
     "name": "stdout",
     "output_type": "stream",
     "text": [
      "Mean squared energy violation. True: 73.5111207161\n",
      "Mean squared energy violation. Pred: 18.1285692931\n",
      "             bias          mse     pred_var     true_var expl_var_cut9\n",
      "SPDQ -1.88507e-11  1.10337e-15  1.16983e-15  2.25854e-15       0.51306\n",
      "SPDT  1.91803e-08  8.49573e-10   1.3861e-09  2.22517e-09      0.500514\n",
      "QRL   5.12045e-09   1.0106e-10  2.16129e-10  3.13624e-10      0.561471\n",
      "QRS  -7.33987e-09  2.15852e-11  1.70898e-10   1.9229e-10      0.749456\n",
      "all    4.2355e-09  2.43055e-10  4.43281e-10  6.82771e-10      0.581125\n"
     ]
    },
    {
     "data": {
      "text/plain": [
       "<model_diagnostics.ModelDiagnostics at 0x2baa0c7ebfd0>"
      ]
     },
     "execution_count": 7,
     "metadata": {},
     "output_type": "execute_result"
    }
   ],
   "source": [
    "get_stats('B011_purecrm_ess_sample1_deep2', 'purecrm')"
   ]
  },
  {
   "cell_type": "code",
   "execution_count": 9,
   "metadata": {
    "collapsed": true
   },
   "outputs": [
    {
     "name": "stderr",
     "output_type": "stream",
     "text": [
      "  0%|          | 1/2868 [00:00<06:18,  7.57it/s]"
     ]
    },
    {
     "name": "stdout",
     "output_type": "stream",
     "text": [
      "Generator will have 23494656 samples in 2868 batches\n",
      "Features have shape 152; targets have shape 120\n"
     ]
    },
    {
     "name": "stderr",
     "output_type": "stream",
     "text": [
      "100%|██████████| 2868/2868 [02:25<00:00, 19.68it/s]\n",
      "../diagnostics/model_diagnostics.py:248: RuntimeWarning: divide by zero encountered in true_divide\n",
      "  np.mean(self.reshape_output(self.true_var, v, unscale=False), axis=(0, 1))\n"
     ]
    },
    {
     "name": "stdout",
     "output_type": "stream",
     "text": [
      "Mean squared energy violation. True: 73.5111207161\n",
      "Mean squared energy violation. Pred: 26.9128463325\n",
      "             bias          mse     pred_var     true_var expl_var_cut9\n",
      "SPDQ  1.41277e-11  1.24766e-15  1.00916e-15  2.25854e-15      0.512866\n",
      "SPDT -2.17576e-08  1.02993e-09  1.18876e-09  2.22517e-09      0.487355\n",
      "QRL   1.87796e-08  1.74963e-10   1.3535e-10  3.13624e-10      0.465434\n",
      "QRS   -5.4457e-09  2.65039e-11  1.66302e-10   1.9229e-10      0.698366\n",
      "all  -2.10239e-09  3.07849e-10  3.72603e-10  6.82771e-10      0.541005\n"
     ]
    },
    {
     "data": {
      "text/plain": [
       "<model_diagnostics.ModelDiagnostics at 0x2bacc5d9c550>"
      ]
     },
     "execution_count": 9,
     "metadata": {},
     "output_type": "execute_result"
    }
   ],
   "source": [
    "get_stats('B012_purecrm_ess_sample1_wide1', 'purecrm')"
   ]
  },
  {
   "cell_type": "code",
   "execution_count": 7,
   "metadata": {
    "collapsed": true
   },
   "outputs": [
    {
     "name": "stderr",
     "output_type": "stream",
     "text": [
      "  0%|          | 1/2868 [00:00<08:06,  5.89it/s]"
     ]
    },
    {
     "name": "stdout",
     "output_type": "stream",
     "text": [
      "Generator will have 23494656 samples in 2868 batches\n",
      "Features have shape 152; targets have shape 120\n"
     ]
    },
    {
     "name": "stderr",
     "output_type": "stream",
     "text": [
      "100%|██████████| 2868/2868 [02:23<00:00, 19.95it/s]"
     ]
    },
    {
     "name": "stdout",
     "output_type": "stream",
     "text": [
      "Mean squared energy violation. True: 73.5111207161\n",
      "Mean squared energy violation. Pred: 53.1493661237\n",
      "             bias          mse     pred_var     true_var expl_var_cut9\n",
      "SPDQ  -1.6666e-10  1.20159e-15  1.15124e-15  2.25854e-15      0.471388\n",
      "SPDT  3.23739e-07  9.38556e-10  1.40732e-09  2.22517e-09      0.550967\n",
      "QRL  -4.05483e-07   1.1894e-10  2.20937e-10  3.13624e-10      0.598929\n",
      "QRS   4.45904e-07  2.08895e-11  1.86979e-10   1.9229e-10      0.763699\n",
      "all   9.09984e-08  2.69597e-10   4.5381e-10  6.82771e-10      0.596246\n"
     ]
    },
    {
     "name": "stderr",
     "output_type": "stream",
     "text": [
      "\n",
      "../diagnostics/model_diagnostics.py:248: RuntimeWarning: divide by zero encountered in true_divide\n",
      "  np.mean(self.reshape_output(self.true_var, v, unscale=False), axis=(0, 1))\n"
     ]
    },
    {
     "data": {
      "text/plain": [
       "<model_diagnostics.ModelDiagnostics at 0x2abff9322160>"
      ]
     },
     "execution_count": 7,
     "metadata": {},
     "output_type": "execute_result"
    }
   ],
   "source": [
    "get_stats('B013_purecrm_ess_sample1_mse_var', 'purecrm')"
   ]
  },
  {
   "cell_type": "code",
   "execution_count": 7,
   "metadata": {
    "collapsed": true
   },
   "outputs": [
    {
     "name": "stderr",
     "output_type": "stream",
     "text": [
      "\r",
      "  0%|          | 0/2868 [00:00<?, ?it/s]"
     ]
    },
    {
     "name": "stdout",
     "output_type": "stream",
     "text": [
      "Generator will have 23494656 samples in 2868 batches\n",
      "Features have shape 152; targets have shape 120\n"
     ]
    },
    {
     "name": "stderr",
     "output_type": "stream",
     "text": [
      "100%|██████████| 2868/2868 [03:07<00:00, 15.27it/s]\n"
     ]
    },
    {
     "name": "stdout",
     "output_type": "stream",
     "text": [
      "Mean squared energy violation. True: 73.5111207161\n",
      "Mean squared energy violation. Pred: 34.5586245003\n",
      "             bias          mse     pred_var     true_var expl_var_cut9\n",
      "SPDQ -1.94226e-11  1.09648e-15  1.18147e-15  2.25854e-15      0.538316\n",
      "SPDT  1.93201e-08  8.15725e-10   1.4278e-09  2.22517e-09      0.572192\n",
      "QRL   1.51416e-09  8.35849e-11  2.34131e-10  3.13624e-10      0.671833\n",
      "QRS  -3.30423e-09  1.21258e-11  1.80681e-10   1.9229e-10      0.857204\n",
      "all   4.37764e-09  2.27859e-10  4.60654e-10  6.82771e-10      0.659886\n"
     ]
    },
    {
     "name": "stderr",
     "output_type": "stream",
     "text": [
      "../diagnostics/model_diagnostics.py:248: RuntimeWarning: divide by zero encountered in true_divide\n",
      "  np.mean(self.reshape_output(self.true_var, v, unscale=False), axis=(0, 1))\n"
     ]
    },
    {
     "data": {
      "text/plain": [
       "<model_diagnostics.ModelDiagnostics at 0x2bacacdf6048>"
      ]
     },
     "execution_count": 7,
     "metadata": {},
     "output_type": "execute_result"
    }
   ],
   "source": [
    "get_stats('B015_purecrm_ess_sample1_impr', 'purecrm')"
   ]
  },
  {
   "cell_type": "code",
   "execution_count": 8,
   "metadata": {
    "collapsed": true
   },
   "outputs": [
    {
     "name": "stderr",
     "output_type": "stream",
     "text": [
      "  0%|          | 1/2868 [00:00<06:11,  7.72it/s]"
     ]
    },
    {
     "name": "stdout",
     "output_type": "stream",
     "text": [
      "Generator will have 23494656 samples in 2868 batches\n",
      "Features have shape 152; targets have shape 120\n"
     ]
    },
    {
     "name": "stderr",
     "output_type": "stream",
     "text": [
      "100%|██████████| 2868/2868 [02:35<00:00, 18.45it/s]\n",
      "../diagnostics/model_diagnostics.py:248: RuntimeWarning: divide by zero encountered in true_divide\n",
      "  np.mean(self.reshape_output(self.true_var, v, unscale=False), axis=(0, 1))\n"
     ]
    },
    {
     "name": "stdout",
     "output_type": "stream",
     "text": [
      "Mean squared energy violation. True: 73.5111207161\n",
      "Mean squared energy violation. Pred: 52.973361563\n",
      "             bias          mse     pred_var     true_var expl_var_cut9\n",
      "SPDQ -1.52658e-10  1.10026e-15   1.2599e-15  2.25854e-15       0.50152\n",
      "SPDT  3.00419e-07  8.18069e-10  1.52172e-09  2.22517e-09       0.57096\n",
      "QRL  -3.52449e-07  8.44141e-11  2.48644e-10  3.13624e-10      0.668771\n",
      "QRS   4.00931e-07  1.26019e-11   1.9234e-10   1.9229e-10      0.854808\n",
      "all   8.71872e-08  2.28771e-10  4.90676e-10  6.82771e-10      0.649015\n"
     ]
    },
    {
     "data": {
      "text/plain": [
       "<model_diagnostics.ModelDiagnostics at 0x2bacc5d9c630>"
      ]
     },
     "execution_count": 8,
     "metadata": {},
     "output_type": "execute_result"
    }
   ],
   "source": [
    "get_stats('B016_purecrm_ess_sample1_impr_var', 'purecrm')"
   ]
  },
  {
   "cell_type": "code",
   "execution_count": 10,
   "metadata": {},
   "outputs": [
    {
     "name": "stderr",
     "output_type": "stream",
     "text": [
      "  0%|          | 1/2868 [00:00<06:17,  7.59it/s]"
     ]
    },
    {
     "name": "stdout",
     "output_type": "stream",
     "text": [
      "Generator will have 23494656 samples in 2868 batches\n",
      "Features have shape 152; targets have shape 120\n"
     ]
    },
    {
     "name": "stderr",
     "output_type": "stream",
     "text": [
      "100%|██████████| 2868/2868 [02:06<00:00, 22.74it/s]\n"
     ]
    },
    {
     "name": "stdout",
     "output_type": "stream",
     "text": [
      "Mean squared energy violation. True: 73.5111207161\n",
      "Mean squared energy violation. Pred: 32.9083586908\n",
      "             bias          mse     pred_var     true_var expl_var_cut9\n",
      "SPDQ  4.18814e-11  1.19982e-15  1.07231e-15  2.25854e-15      0.493179\n",
      "SPDT -1.19131e-07  9.40018e-10  1.31018e-09  2.22517e-09      0.553984\n",
      "QRL   5.76843e-09  1.18709e-10  2.03306e-10  3.13624e-10      0.601227\n",
      "QRS  -5.85358e-09  2.20564e-11   1.7163e-10   1.9229e-10      0.745109\n",
      "all  -2.97935e-08  2.70196e-10  4.21278e-10  6.82771e-10      0.598375\n"
     ]
    },
    {
     "name": "stderr",
     "output_type": "stream",
     "text": [
      "../diagnostics/model_diagnostics.py:248: RuntimeWarning: divide by zero encountered in true_divide\n",
      "  np.mean(self.reshape_output(self.true_var, v, unscale=False), axis=(0, 1))\n"
     ]
    },
    {
     "data": {
      "text/plain": [
       "<model_diagnostics.ModelDiagnostics at 0x2bacd8227518>"
      ]
     },
     "execution_count": 10,
     "metadata": {},
     "output_type": "execute_result"
    }
   ],
   "source": [
    "get_stats('B014_purecrm_essv2_sample1_base', 'purecrm')"
   ]
  },
  {
   "cell_type": "code",
   "execution_count": 14,
   "metadata": {},
   "outputs": [
    {
     "name": "stderr",
     "output_type": "stream",
     "text": [
      "  0%|          | 2/2868 [00:00<03:02, 15.72it/s]"
     ]
    },
    {
     "name": "stdout",
     "output_type": "stream",
     "text": [
      "Generator will have 23494656 samples in 2868 batches\n",
      "Features have shape 152; targets have shape 120\n"
     ]
    },
    {
     "name": "stderr",
     "output_type": "stream",
     "text": [
      "100%|██████████| 2868/2868 [01:59<00:00, 24.01it/s]\n"
     ]
    },
    {
     "name": "stdout",
     "output_type": "stream",
     "text": [
      "Mean squared energy violation. True: 73.567998927\n",
      "Mean squared energy violation. Pred: 29.9443350001\n",
      "             bias          mse     pred_var     true_var expl_var_cut9\n",
      "SPDQ  7.21582e-12  1.19756e-15  1.02762e-15  2.23206e-15      0.518451\n",
      "SPDT  6.27665e-09   9.2792e-10  1.27283e-09  2.20551e-09      0.560351\n",
      "QRL  -1.78392e-08  1.10434e-10  1.87919e-10  2.95295e-10      0.617147\n",
      "QRS  -4.74111e-09  1.88736e-11  1.70939e-10  1.89631e-10      0.775589\n",
      "all  -4.07411e-09  2.64307e-10  4.07922e-10  6.72609e-10      0.617884\n"
     ]
    },
    {
     "name": "stderr",
     "output_type": "stream",
     "text": [
      "../diagnostics/model_diagnostics.py:248: RuntimeWarning: divide by zero encountered in true_divide\n",
      "  np.mean(self.reshape_output(self.true_var, v, unscale=False), axis=(0, 1))\n"
     ]
    }
   ],
   "source": [
    "d = get_stats('B017_purecrm_essv2_norm-by-var_sample1_base', 'purecrm', 'v2_norm-by-var')"
   ]
  },
  {
   "cell_type": "code",
   "execution_count": 18,
   "metadata": {},
   "outputs": [
    {
     "data": {
      "image/png": "[encoded data removed]",
      "text/plain": [
       "<matplotlib.figure.Figure at 0x2b82e2706128>"
      ]
     },
     "metadata": {},
     "output_type": "display_data"
    }
   ],
   "source": [
    "d.plot_double_lat_lon_slice('QRS', 40, 12, vmin=0, vmax=0.0001)"
   ]
  },
  {
   "cell_type": "code",
   "execution_count": 24,
   "metadata": {
    "collapsed": true
   },
   "outputs": [],
   "source": [
    "diag = ModelDiagnostics(\n",
    "    model_dir + 'B019_purecrm_essv2_noadiab_sample1_max_rs.h5', \n",
    "    pre_dir + 'purecrm_essv2_noadiab_valid_sample1_features.nc',\n",
    "    pre_dir + 'purecrm_essv2_noadiab_valid_sample1_targets.nc',\n",
    "    pre_dir + 'purecrm_essv2_noadiab_train_sample1_norm.nc',\n",
    "    fsub='feature_means', fdiv='max_rs', tmult='target_conv'\n",
    ")"
   ]
  },
  {
   "cell_type": "code",
   "execution_count": 25,
   "metadata": {},
   "outputs": [
    {
     "data": {
      "image/png": "[encoded data removed]",
      "text/plain": [
       "<matplotlib.figure.Figure at 0x2b58a29b6e10>"
      ]
     },
     "metadata": {},
     "output_type": "display_data"
    }
   ],
   "source": [
    "diag.plot_double_lat_lon_slice('QRS', 40, 12, vmin=0, vmax=0.0001)"
   ]
  },
  {
   "cell_type": "code",
   "execution_count": 5,
   "metadata": {
    "collapsed": true
   },
   "outputs": [],
   "source": [
    "norms = ('feature_means', 'max_rs', None, 'target_conv')"
   ]
  },
  {
   "cell_type": "code",
   "execution_count": 14,
   "metadata": {},
   "outputs": [
    {
     "name": "stderr",
     "output_type": "stream",
     "text": [
      "  0%|          | 1/2868 [00:00<04:56,  9.67it/s]"
     ]
    },
    {
     "name": "stdout",
     "output_type": "stream",
     "text": [
      "Generator will have 23494656 samples in 2868 batches\n",
      "Features have shape 152; targets have shape 120\n"
     ]
    },
    {
     "name": "stderr",
     "output_type": "stream",
     "text": [
      "100%|██████████| 2868/2868 [02:12<00:00, 21.59it/s]\n"
     ]
    },
    {
     "name": "stdout",
     "output_type": "stream",
     "text": [
      "Mean squared energy violation. True: 811.318743712\n",
      "Mean squared energy violation. Pred: 737.415635916\n",
      "             bias          mse     pred_var     true_var expl_var_cut9\n",
      "SPDQ  4.01283e-11  1.20451e-15  1.01277e-15  2.23206e-15       0.52495\n",
      "SPDT -9.32125e-08  9.26142e-10   1.2665e-09  2.20551e-09      0.543355\n",
      "QRL   3.55019e-09  1.15217e-10  1.79859e-10  2.95295e-10      0.625118\n",
      "QRS  -3.33058e-09   1.9771e-11  1.70309e-10  1.89631e-10      0.765219\n",
      "all  -2.32382e-08  2.65283e-10  4.04168e-10  6.72609e-10       0.61466\n"
     ]
    },
    {
     "name": "stderr",
     "output_type": "stream",
     "text": [
      "/data11/home/srasp/repositories/CBRAIN-Keras-Diagnostics/notebooks/presentation/cbrain/model_diagnostics.py:238: RuntimeWarning: divide by zero encountered in true_divide\n",
      "  np.mean(self.reshape_output(self.true_var, v, unscale=False), axis=(0, 1))\n"
     ]
    }
   ],
   "source": [
    "d = get_stats('B018_purecrm_essv2_nonorm_sample1_max_rs', 'purecrm', 'v2_nonorm', norms)"
   ]
  },
  {
   "cell_type": "code",
   "execution_count": 8,
   "metadata": {
    "collapsed": true
   },
   "outputs": [
    {
     "name": "stderr",
     "output_type": "stream",
     "text": [
      "\r",
      "  0%|          | 0/2868 [00:00<?, ?it/s]"
     ]
    },
    {
     "name": "stdout",
     "output_type": "stream",
     "text": [
      "Generator will have 23494656 samples in 2868 batches\n",
      "Features have shape 94; targets have shape 120\n"
     ]
    },
    {
     "name": "stderr",
     "output_type": "stream",
     "text": [
      "  2%|▏         | 66/2868 [00:05<03:52, 12.03it/s]\n"
     ]
    },
    {
     "ename": "KeyboardInterrupt",
     "evalue": "",
     "output_type": "error",
     "traceback": [
      "\u001b[0;31m---------------------------------------------------------------------------\u001b[0m",
      "\u001b[0;31mKeyboardInterrupt\u001b[0m                         Traceback (most recent call last)",
      "\u001b[0;32m<ipython-input-8-9c0322fbeff8>\u001b[0m in \u001b[0;36m<module>\u001b[0;34m()\u001b[0m\n\u001b[0;32m----> 1\u001b[0;31m \u001b[0md\u001b[0m \u001b[0;34m=\u001b[0m \u001b[0mget_stats\u001b[0m\u001b[0;34m(\u001b[0m\u001b[0;34m'B019_purecrm_essv2_noadiab_sample1_max_rs'\u001b[0m\u001b[0;34m,\u001b[0m \u001b[0;34m'purecrm'\u001b[0m\u001b[0;34m,\u001b[0m \u001b[0;34m'v2_noadiab'\u001b[0m\u001b[0;34m,\u001b[0m \u001b[0mnorms\u001b[0m\u001b[0;34m)\u001b[0m\u001b[0;34m\u001b[0m\u001b[0m\n\u001b[0m",
      "\u001b[0;32m<ipython-input-7-84753a114a7c>\u001b[0m in \u001b[0;36mget_stats\u001b[0;34m(model_name, option, data_str, norms)\u001b[0m\n\u001b[1;32m      8\u001b[0m         \u001b[0;34m*\u001b[0m\u001b[0mnorms\u001b[0m\u001b[0;34m\u001b[0m\u001b[0m\n\u001b[1;32m      9\u001b[0m     )\n\u001b[0;32m---> 10\u001b[0;31m     \u001b[0mdiag\u001b[0m\u001b[0;34m.\u001b[0m\u001b[0mcompute_stats\u001b[0m\u001b[0;34m(\u001b[0m\u001b[0mcompute_SPDT_SPDQ\u001b[0m\u001b[0;34m=\u001b[0m\u001b[0;32mTrue\u001b[0m \u001b[0;32mif\u001b[0m \u001b[0moption\u001b[0m \u001b[0;34m==\u001b[0m \u001b[0;34m'purecrm'\u001b[0m \u001b[0;32melse\u001b[0m \u001b[0;32mFalse\u001b[0m\u001b[0;34m)\u001b[0m\u001b[0;34m\u001b[0m\u001b[0m\n\u001b[0m\u001b[1;32m     11\u001b[0m     \u001b[0mprint\u001b[0m\u001b[0;34m(\u001b[0m\u001b[0mdiag\u001b[0m\u001b[0;34m.\u001b[0m\u001b[0mmean_stats\u001b[0m\u001b[0;34m(\u001b[0m\u001b[0;34m)\u001b[0m\u001b[0;34m)\u001b[0m\u001b[0;34m\u001b[0m\u001b[0m\n\u001b[1;32m     12\u001b[0m     \u001b[0;32mreturn\u001b[0m \u001b[0mdiag\u001b[0m\u001b[0;34m\u001b[0m\u001b[0m\n",
      "\u001b[0;32m/data11/home/srasp/repositories/CBRAIN-Keras-Diagnostics/notebooks/presentation/cbrain/model_diagnostics.py\u001b[0m in \u001b[0;36mcompute_stats\u001b[0;34m(self, n_iter, compute_SPDT_SPDQ)\u001b[0m\n\u001b[1;32m    185\u001b[0m             \u001b[0msse\u001b[0m \u001b[0;34m+=\u001b[0m \u001b[0;34m(\u001b[0m\u001b[0mt\u001b[0m \u001b[0;34m-\u001b[0m \u001b[0mp\u001b[0m\u001b[0;34m)\u001b[0m \u001b[0;34m**\u001b[0m \u001b[0;36m2\u001b[0m\u001b[0;34m\u001b[0m\u001b[0m\n\u001b[1;32m    186\u001b[0m             \u001b[0;32mif\u001b[0m \u001b[0mcompute_SPDT_SPDQ\u001b[0m\u001b[0;34m:\u001b[0m\u001b[0;34m\u001b[0m\u001b[0m\n\u001b[0;32m--> 187\u001b[0;31m                 \u001b[0mtmp\u001b[0m \u001b[0;34m=\u001b[0m \u001b[0mself\u001b[0m\u001b[0;34m.\u001b[0m\u001b[0m_compute_SPDT_SPDQ\u001b[0m\u001b[0;34m(\u001b[0m\u001b[0mf\u001b[0m\u001b[0;34m,\u001b[0m \u001b[0mt\u001b[0m\u001b[0;34m,\u001b[0m \u001b[0mp\u001b[0m\u001b[0;34m)\u001b[0m\u001b[0;34m\u001b[0m\u001b[0m\n\u001b[0m\u001b[1;32m    188\u001b[0m                 \u001b[0mSPpred\u001b[0m \u001b[0;34m+=\u001b[0m \u001b[0mtmp\u001b[0m\u001b[0;34m[\u001b[0m\u001b[0;36m0\u001b[0m\u001b[0;34m]\u001b[0m\u001b[0;34m;\u001b[0m \u001b[0mSPtrue\u001b[0m \u001b[0;34m+=\u001b[0m \u001b[0mtmp\u001b[0m\u001b[0;34m[\u001b[0m\u001b[0;36m1\u001b[0m\u001b[0;34m]\u001b[0m\u001b[0;34m\u001b[0m\u001b[0m\n\u001b[1;32m    189\u001b[0m \u001b[0;34m\u001b[0m\u001b[0m\n",
      "\u001b[0;32m/data11/home/srasp/repositories/CBRAIN-Keras-Diagnostics/notebooks/presentation/cbrain/model_diagnostics.py\u001b[0m in \u001b[0;36m_compute_SPDT_SPDQ\u001b[0;34m(self, f, t, p)\u001b[0m\n\u001b[1;32m    208\u001b[0m         \u001b[0;31m# Get dP\u001b[0m\u001b[0;34m\u001b[0m\u001b[0;34m\u001b[0m\u001b[0m\n\u001b[1;32m    209\u001b[0m         \u001b[0mdP\u001b[0m \u001b[0;34m=\u001b[0m \u001b[0mself\u001b[0m\u001b[0;34m.\u001b[0m\u001b[0m_get_dP\u001b[0m\u001b[0;34m(\u001b[0m\u001b[0mf\u001b[0m\u001b[0;34m)\u001b[0m\u001b[0;34m\u001b[0m\u001b[0m\n\u001b[0;32m--> 210\u001b[0;31m         SPDT_pred = self.vint((p[:, self._get_var_idxs('target', 'SPDT')]),\n\u001b[0m\u001b[1;32m    211\u001b[0m                               C_P, dP)\n\u001b[1;32m    212\u001b[0m         SPDQ_pred = self.vint((p[:, self._get_var_idxs('target', 'SPDQ')]),\n",
      "\u001b[0;31mKeyboardInterrupt\u001b[0m: "
     ]
    }
   ],
   "source": [
    "d = get_stats('B019_purecrm_essv2_noadiab_sample1_max_rs', 'purecrm', 'v2_noadiab', norms)"
   ]
  },
  {
   "cell_type": "code",
   "execution_count": 10,
   "metadata": {},
   "outputs": [
    {
     "name": "stderr",
     "output_type": "stream",
     "text": [
      "  0%|          | 2/2868 [00:00<02:53, 16.56it/s]"
     ]
    },
    {
     "name": "stdout",
     "output_type": "stream",
     "text": [
      "Generator will have 23494656 samples in 2868 batches\n",
      "Features have shape 152; targets have shape 120\n"
     ]
    },
    {
     "name": "stderr",
     "output_type": "stream",
     "text": [
      "100%|██████████| 2868/2868 [02:26<00:00, 19.60it/s]\n"
     ]
    },
    {
     "name": "stdout",
     "output_type": "stream",
     "text": [
      "Mean squared energy violation. True: 811.318743712\n",
      "Mean squared energy violation. Pred: 734.295602881\n",
      "             bias          mse     pred_var     true_var expl_var_cut9\n",
      "SPDQ  3.62494e-11   1.2241e-15  9.35119e-16  2.23206e-15      0.520626\n",
      "SPDT  1.47317e-09  9.47949e-10  1.19972e-09  2.20551e-09      0.532522\n",
      "QRL   3.26229e-08  1.19447e-10  1.59442e-10  2.95295e-10      0.610555\n",
      "QRS  -4.19315e-09   1.8973e-11  1.70018e-10  1.89631e-10      0.775716\n",
      "all   7.48478e-09  2.71593e-10  3.82296e-10  6.72609e-10      0.609855\n"
     ]
    },
    {
     "name": "stderr",
     "output_type": "stream",
     "text": [
      "/data11/home/srasp/repositories/CBRAIN-Keras-Diagnostics/notebooks/presentation/cbrain/model_diagnostics.py:238: RuntimeWarning: divide by zero encountered in true_divide\n",
      "  np.mean(self.reshape_output(self.true_var, v, unscale=False), axis=(0, 1))\n"
     ]
    }
   ],
   "source": [
    "d = get_stats('B020_purecrm_essv2_nonorm_sample1_noise1', 'purecrm', 'v2_nonorm', norms)"
   ]
  },
  {
   "cell_type": "code",
   "execution_count": 11,
   "metadata": {},
   "outputs": [
    {
     "name": "stderr",
     "output_type": "stream",
     "text": [
      "  0%|          | 2/2868 [00:00<03:18, 14.43it/s]"
     ]
    },
    {
     "name": "stdout",
     "output_type": "stream",
     "text": [
      "Generator will have 23494656 samples in 2868 batches\n",
      "Features have shape 152; targets have shape 120\n"
     ]
    },
    {
     "name": "stderr",
     "output_type": "stream",
     "text": [
      "100%|██████████| 2868/2868 [02:27<00:00, 19.39it/s]\n"
     ]
    },
    {
     "name": "stdout",
     "output_type": "stream",
     "text": [
      "Mean squared energy violation. True: 811.318743712\n",
      "Mean squared energy violation. Pred: 726.333769439\n",
      "             bias          mse     pred_var     true_var expl_var_cut9\n",
      "SPDQ -1.38124e-12  1.28952e-15  8.59629e-16  2.23206e-15      0.469343\n",
      "SPDT  2.16674e-08  1.09473e-09  9.99509e-10  2.20551e-09      0.436479\n",
      "QRL  -1.94095e-08  1.70613e-10   9.2772e-11  2.95295e-10      0.395094\n",
      "QRS   1.33243e-09  3.29016e-11  1.41019e-10  1.89631e-10      0.615429\n",
      "all   8.97234e-10  3.24561e-10  3.08325e-10  6.72609e-10      0.479086\n"
     ]
    },
    {
     "name": "stderr",
     "output_type": "stream",
     "text": [
      "/data11/home/srasp/repositories/CBRAIN-Keras-Diagnostics/notebooks/presentation/cbrain/model_diagnostics.py:238: RuntimeWarning: invalid value encountered in true_divide\n",
      "  np.mean(self.reshape_output(self.true_var, v, unscale=False), axis=(0, 1))\n"
     ]
    }
   ],
   "source": [
    "d = get_stats('B021_purecrm_essv2_nonorm_sample1_dr1', 'purecrm', 'v2_nonorm', norms)"
   ]
  },
  {
   "cell_type": "code",
   "execution_count": 12,
   "metadata": {},
   "outputs": [
    {
     "name": "stderr",
     "output_type": "stream",
     "text": [
      "  0%|          | 2/2868 [00:00<03:30, 13.65it/s]"
     ]
    },
    {
     "name": "stdout",
     "output_type": "stream",
     "text": [
      "Generator will have 23494656 samples in 2868 batches\n",
      "Features have shape 152; targets have shape 120\n"
     ]
    },
    {
     "name": "stderr",
     "output_type": "stream",
     "text": [
      "100%|██████████| 2868/2868 [03:04<00:00, 15.57it/s]\n",
      "/data11/home/srasp/repositories/CBRAIN-Keras-Diagnostics/notebooks/presentation/cbrain/model_diagnostics.py:238: RuntimeWarning: invalid value encountered in true_divide\n",
      "  np.mean(self.reshape_output(self.true_var, v, unscale=False), axis=(0, 1))\n"
     ]
    },
    {
     "name": "stdout",
     "output_type": "stream",
     "text": [
      "Mean squared energy violation. True: 811.318743712\n",
      "Mean squared energy violation. Pred: 737.590561969\n",
      "             bias          mse     pred_var     true_var expl_var_cut9\n",
      "SPDQ  5.32293e-11  1.16457e-15  1.01675e-15  2.23206e-15      0.508545\n",
      "SPDT -7.85995e-08  8.98011e-10   1.2157e-09  2.20551e-09      0.532886\n",
      "QRL  -2.99161e-09  1.08665e-10  1.54773e-10  2.95295e-10      0.589509\n",
      "QRS   1.44637e-08  2.20593e-11  1.51851e-10  1.89631e-10      0.738744\n",
      "all  -1.67685e-08  2.57184e-10  3.80582e-10  6.72609e-10      0.592421\n"
     ]
    }
   ],
   "source": [
    "d = get_stats('B022_purecrm_essv2_nonorm_sample1_dr2_deep', 'purecrm', 'v2_nonorm', norms)"
   ]
  },
  {
   "cell_type": "code",
   "execution_count": null,
   "metadata": {
    "collapsed": true
   },
   "outputs": [],
   "source": []
  },
  {
   "cell_type": "code",
   "execution_count": 29,
   "metadata": {},
   "outputs": [
    {
     "name": "stderr",
     "output_type": "stream",
     "text": [
      "  0%|          | 1/2868 [00:00<07:11,  6.64it/s]"
     ]
    },
    {
     "name": "stdout",
     "output_type": "stream",
     "text": [
      "Generator will have 23494656 samples in 2868 batches\n",
      "Features have shape 92; targets have shape 60\n"
     ]
    },
    {
     "name": "stderr",
     "output_type": "stream",
     "text": [
      "100%|██████████| 2868/2868 [01:38<00:00, 29.10it/s]\n"
     ]
    },
    {
     "name": "stdout",
     "output_type": "stream",
     "text": [
      "                 bias          mse     pred_var     true_var expl_var_cut9\n",
      "TPHYSTND -1.06326e-06  1.21195e-09  9.50589e-10  2.18991e-09      0.439754\n",
      "PHQ       9.15635e-10  1.28949e-15  2.58526e-16  1.60896e-15      0.418818\n",
      "all      -5.31174e-07  6.05977e-10  4.75295e-10  1.09495e-09      0.429286\n"
     ]
    },
    {
     "name": "stderr",
     "output_type": "stream",
     "text": [
      "../diagnostics/model_diagnostics.py:248: RuntimeWarning: divide by zero encountered in true_divide\n",
      "  np.mean(self.reshape_output(self.true_var, v, unscale=False), axis=(0, 1))\n"
     ]
    }
   ],
   "source": [
    "d = get_stats('A001_fullphy_ess_sample1_base', 'fullphy')"
   ]
  },
  {
   "cell_type": "code",
   "execution_count": 30,
   "metadata": {},
   "outputs": [
    {
     "data": {
      "image/png": "[encoded data removed]",
      "text/plain": [
       "<matplotlib.figure.Figure at 0x2b14982d3fd0>"
      ]
     },
     "metadata": {},
     "output_type": "display_data"
    }
   ],
   "source": [
    "d.plot_double_lat_lev_slice('PHQ', 1, 0, vmin=-5e-7, vmax=5e-7, cmap='bwr')"
   ]
  },
  {
   "cell_type": "code",
   "execution_count": null,
   "metadata": {
    "collapsed": true
   },
   "outputs": [],
   "source": []
  }
 ],
 "metadata": {
  "kernelspec": {
   "display_name": "Python 3",
   "language": "python",
   "name": "python3"
  },
  "language_info": {
   "codemirror_mode": {
    "name": "ipython",
    "version": 3
   },
   "file_extension": ".py",
   "mimetype": "text/x-python",
   "name": "python",
   "nbconvert_exporter": "python",
   "pygments_lexer": "ipython3",
   "version": "3.6.3"
  },
  "toc": {
   "nav_menu": {},
   "number_sections": true,
   "sideBar": true,
   "skip_h1_title": true,
   "title_cell": "Table of Contents",
   "title_sidebar": "Contents",
   "toc_cell": false,
   "toc_position": {},
   "toc_section_display": true,
   "toc_window_display": false
  }
 },
 "nbformat": 4,
 "nbformat_minor": 2
}
