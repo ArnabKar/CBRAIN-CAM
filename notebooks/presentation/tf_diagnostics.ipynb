{
 "cells": [
  {
   "cell_type": "markdown",
   "metadata": {},
   "source": [
    "# Diagnostics and statistics for TF model runs\n",
    "\n",
    "This notebook explains the basic usage of the ModelDiagnostics class for computing statistics and plotting slices.\n",
    "\n",
    "The model diagnostics class is part of the cbrain module in the CBRAIN-Keras-Diagnostics repository. To use, just `git clone git@github.com:raspstephan/CBRAIN-Keras-Diagnostics.git` and then create a link to the `cbrain` directory wherever you want to use the module."
   ]
  },
  {
   "cell_type": "code",
   "execution_count": 2,
   "metadata": {},
   "outputs": [
    {
     "name": "stdout",
     "output_type": "stream",
     "text": [
      "The autoreload extension is already loaded. To reload it, use:\n",
      "  %reload_ext autoreload\n"
     ]
    }
   ],
   "source": [
    "%load_ext autoreload\n",
    "%autoreload 2\n",
    "%matplotlib inline"
   ]
  },
  {
   "cell_type": "code",
   "execution_count": 16,
   "metadata": {},
   "outputs": [],
   "source": [
    "from cbrain.imports import *\n",
    "from cbrain.model_diagnostics import *"
   ]
  },
  {
   "cell_type": "markdown",
   "metadata": {},
   "source": [
    "## Basics usage\n",
    "\n",
    "Let's do some basic plotting and then compute global statistics. First we need to define a whole bunch of things. You probably need to change all the directories."
   ]
  },
  {
   "cell_type": "markdown",
   "metadata": {},
   "source": [
    "### Setup"
   ]
  },
  {
   "cell_type": "code",
   "execution_count": 5,
   "metadata": {},
   "outputs": [],
   "source": [
    "# Define files and directories\n",
    "model_dir = '/export/home/srasp/TF_models/'\n",
    "model_path = f'{model_dir}saved_keras_model_0228a_964000.h5'\n",
    "mean_path = f'{model_dir}mean_nolat_0213.nc'\n",
    "std_path = f'{model_dir}std_nolat_0213.nc'"
   ]
  },
  {
   "cell_type": "code",
   "execution_count": 6,
   "metadata": {},
   "outputs": [],
   "source": [
    "# Define input and output variables. Must be in the right order!\n",
    "inps = ['TBP','QBP','PS','SHFLX','LHFLX','dTdt_adiabatic','dQdt_adiabatic']\n",
    "outps = ['TPHYSTND_NORAD','PHQ']"
   ]
  },
  {
   "cell_type": "code",
   "execution_count": 7,
   "metadata": {},
   "outputs": [],
   "source": [
    "# Define the aqua files we want to analyze. These must be preprocessed with the matlab script.\n",
    "data_dir = '/scratch/srasp/Aquaplanet_enhance05_old_matlab/'\n",
    "# Here we can define any pattern. \n",
    "# For a quick test lets pick the first 5 days from the first 3 months\n",
    "aqua_pattern = f'{data_dir}AndKua_aqua_SPCAM3.0_enhance05.cam2.h1.0000-0[1-3]-0[1-5]-00000.nc'"
   ]
  },
  {
   "cell_type": "markdown",
   "metadata": {},
   "source": [
    "Now create a model diagnostics object. For this we have to specify a few things in the beginning. Because it handles TF as well as Keras, all the TF specific parameters have a `tf_` prefix. The first argument `is_tf` decides whether internally it processes TF or Keras. Note that you also have to pass `nlev` if its not 30."
   ]
  },
  {
   "cell_type": "code",
   "execution_count": 17,
   "metadata": {},
   "outputs": [
    {
     "name": "stderr",
     "output_type": "stream",
     "text": [
      "/export/home/srasp/anaconda3/lib/python3.6/site-packages/keras/models.py:255: UserWarning: No training configuration found in save file: the model was *not* compiled. Compile it manually.\n",
      "  warnings.warn('No training configuration found in save file: '\n"
     ]
    }
   ],
   "source": [
    "diag = ModelDiagnostics(\n",
    "    is_tf=True, model_path=model_path, tf_filepattern=aqua_pattern, tf_fvars=inps, \n",
    "    tf_tvars=outps, tf_meanpath=mean_path, tf_stdpath=std_path, nlev=21)"
   ]
  },
  {
   "cell_type": "code",
   "execution_count": 18,
   "metadata": {},
   "outputs": [
    {
     "name": "stdout",
     "output_type": "stream",
     "text": [
      "_________________________________________________________________\n",
      "Layer (type)                 Output Shape              Param #   \n",
      "=================================================================\n",
      "activation_1 (Activation)    (None, 7, 21, 1)          0         \n",
      "_________________________________________________________________\n",
      "flatten_1 (Flatten)          (None, 147)               0         \n",
      "_________________________________________________________________\n",
      "dense_1 (Dense)              (None, 1024)              151552    \n",
      "_________________________________________________________________\n",
      "leaky_re_lu_1 (LeakyReLU)    (None, 1024)              0         \n",
      "_________________________________________________________________\n",
      "dense_2 (Dense)              (None, 1024)              1049600   \n",
      "_________________________________________________________________\n",
      "leaky_re_lu_2 (LeakyReLU)    (None, 1024)              0         \n",
      "_________________________________________________________________\n",
      "dense_3 (Dense)              (None, 42)                43050     \n",
      "_________________________________________________________________\n",
      "reshape_1 (Reshape)          (None, 2, 21, 1)          0         \n",
      "=================================================================\n",
      "Total params: 1,244,202\n",
      "Trainable params: 1,244,202\n",
      "Non-trainable params: 0\n",
      "_________________________________________________________________\n"
     ]
    }
   ],
   "source": [
    "# Here is the model\n",
    "diag.model.summary()"
   ]
  },
  {
   "cell_type": "code",
   "execution_count": 19,
   "metadata": {},
   "outputs": [
    {
     "data": {
      "text/plain": [
       "['/scratch/srasp/Aquaplanet_enhance05_old_matlab/AndKua_aqua_SPCAM3.0_enhance05.cam2.h1.0000-01-01-00000.nc',\n",
       " '/scratch/srasp/Aquaplanet_enhance05_old_matlab/AndKua_aqua_SPCAM3.0_enhance05.cam2.h1.0000-01-02-00000.nc',\n",
       " '/scratch/srasp/Aquaplanet_enhance05_old_matlab/AndKua_aqua_SPCAM3.0_enhance05.cam2.h1.0000-01-03-00000.nc',\n",
       " '/scratch/srasp/Aquaplanet_enhance05_old_matlab/AndKua_aqua_SPCAM3.0_enhance05.cam2.h1.0000-01-04-00000.nc',\n",
       " '/scratch/srasp/Aquaplanet_enhance05_old_matlab/AndKua_aqua_SPCAM3.0_enhance05.cam2.h1.0000-01-05-00000.nc',\n",
       " '/scratch/srasp/Aquaplanet_enhance05_old_matlab/AndKua_aqua_SPCAM3.0_enhance05.cam2.h1.0000-02-01-00000.nc',\n",
       " '/scratch/srasp/Aquaplanet_enhance05_old_matlab/AndKua_aqua_SPCAM3.0_enhance05.cam2.h1.0000-02-02-00000.nc',\n",
       " '/scratch/srasp/Aquaplanet_enhance05_old_matlab/AndKua_aqua_SPCAM3.0_enhance05.cam2.h1.0000-02-03-00000.nc',\n",
       " '/scratch/srasp/Aquaplanet_enhance05_old_matlab/AndKua_aqua_SPCAM3.0_enhance05.cam2.h1.0000-02-04-00000.nc',\n",
       " '/scratch/srasp/Aquaplanet_enhance05_old_matlab/AndKua_aqua_SPCAM3.0_enhance05.cam2.h1.0000-02-05-00000.nc',\n",
       " '/scratch/srasp/Aquaplanet_enhance05_old_matlab/AndKua_aqua_SPCAM3.0_enhance05.cam2.h1.0000-03-01-00000.nc',\n",
       " '/scratch/srasp/Aquaplanet_enhance05_old_matlab/AndKua_aqua_SPCAM3.0_enhance05.cam2.h1.0000-03-02-00000.nc',\n",
       " '/scratch/srasp/Aquaplanet_enhance05_old_matlab/AndKua_aqua_SPCAM3.0_enhance05.cam2.h1.0000-03-03-00000.nc',\n",
       " '/scratch/srasp/Aquaplanet_enhance05_old_matlab/AndKua_aqua_SPCAM3.0_enhance05.cam2.h1.0000-03-04-00000.nc',\n",
       " '/scratch/srasp/Aquaplanet_enhance05_old_matlab/AndKua_aqua_SPCAM3.0_enhance05.cam2.h1.0000-03-05-00000.nc']"
      ]
     },
     "execution_count": 19,
     "metadata": {},
     "output_type": "execute_result"
    }
   ],
   "source": [
    "# These are the files which are going to be used\n",
    "diag.tf_files"
   ]
  },
  {
   "cell_type": "markdown",
   "metadata": {},
   "source": [
    "### Plotting\n",
    "We can plot some slices for a single time step. Which time step is determined by the parameter `itime` starts at the first time step of the first file and continuously goes to the last time step of the last file. So if we wanted the 4th time step of the 2nd file, we would need to set `itime=48*2+4=100`."
   ]
  },
  {
   "cell_type": "code",
   "execution_count": 21,
   "metadata": {},
   "outputs": [
    {
     "data": {
      "image/png": "[encoded data removed]",
      "text/plain": [
       "<matplotlib.figure.Figure at 0x2b8b4ba89e80>"
      ]
     },
     "metadata": {},
     "output_type": "display_data"
    }
   ],
   "source": [
    "# Plot a lat-lev at longitude=0\n",
    "# You can pass imshow arguments as well, such as cmap, and vmin, vmax\n",
    "f = diag.plot_double_yz(itime=100, ilon=0, var='PHQ', cmap='bwr', vmin=-5e-7, vmax=5e-7)"
   ]
  },
  {
   "cell_type": "markdown",
   "metadata": {},
   "source": [
    "Notice that I converted the level ordering back to the original where we start counting from the top!\n",
    "\n",
    "Now let's plot a lat-lon slice at level 10."
   ]
  },
  {
   "cell_type": "code",
   "execution_count": 23,
   "metadata": {},
   "outputs": [
    {
     "data": {
      "image/png": "[encoded data removed]",
      "text/plain": [
       "<matplotlib.figure.Figure at 0x2b8b9c5d2be0>"
      ]
     },
     "metadata": {},
     "output_type": "display_data"
    }
   ],
   "source": [
    "f = diag.plot_double_xy(itime=100, ilev=10, var='PHQ', cmap='bwr', vmin=-5e-7, vmax=5e-7)"
   ]
  },
  {
   "cell_type": "code",
   "execution_count": 24,
   "metadata": {},
   "outputs": [],
   "source": [
    "# Save the figure \n",
    "f.savefig('/export/home/srasp/tmp/test_fig.png')"
   ]
  },
  {
   "cell_type": "markdown",
   "metadata": {},
   "source": [
    "### Global statistics\n",
    "\n",
    "We can also compute global statistics. For now the following are implemented on a grid box by grid box basis, so [lat, lon, var, lev].\n",
    "\n",
    "- Bias\n",
    "- MSE\n",
    "- Variance of predictions\n",
    "- Variance of truth\n",
    "- R2\n",
    "\n",
    "This can take a while since we are reading the aqua files from disc. On my setup I get a speed of around 3-4 time steps per second. So a full year would take around 1.5h."
   ]
  },
  {
   "cell_type": "code",
   "execution_count": 25,
   "metadata": {},
   "outputs": [
    {
     "name": "stderr",
     "output_type": "stream",
     "text": [
      "100%|██████████| 720/720 [03:21<00:00,  3.57it/s]\n"
     ]
    }
   ],
   "source": [
    "diag.compute_stats()"
   ]
  },
  {
   "cell_type": "markdown",
   "metadata": {},
   "source": [
    "Now we have a dictionary which contains the statistics. To make sure we don't have to recompute it every time, we can simply save it."
   ]
  },
  {
   "cell_type": "code",
   "execution_count": 36,
   "metadata": {},
   "outputs": [],
   "source": [
    "with open('/export/home/srasp/tmp/test_stats.pkl', 'wb') as f:\n",
    "    pickle.dump(diag.stats, f)"
   ]
  },
  {
   "cell_type": "code",
   "execution_count": 37,
   "metadata": {},
   "outputs": [],
   "source": [
    "# Now we can just load the stats dict next time\n",
    "with open('/export/home/srasp/tmp/test_stats.pkl', 'rb') as f:\n",
    "    diag.stats = pickle.load(f)"
   ]
  },
  {
   "cell_type": "code",
   "execution_count": 38,
   "metadata": {},
   "outputs": [
    {
     "data": {
      "text/plain": [
       "(dict_keys(['bias', 'mse', 'pred_var', 'true_var', 'r2']), (64, 128, 2, 21))"
      ]
     },
     "execution_count": 38,
     "metadata": {},
     "output_type": "execute_result"
    }
   ],
   "source": [
    "diag.stats.keys(), diag.stats['bias'].shape"
   ]
  },
  {
   "cell_type": "markdown",
   "metadata": {},
   "source": [
    "We can now compute average statistics for each variable."
   ]
  },
  {
   "cell_type": "code",
   "execution_count": 29,
   "metadata": {},
   "outputs": [
    {
     "data": {
      "text/html": [
       "<div>\n",
       "<style scoped>\n",
       "    .dataframe tbody tr th:only-of-type {\n",
       "        vertical-align: middle;\n",
       "    }\n",
       "\n",
       "    .dataframe tbody tr th {\n",
       "        vertical-align: top;\n",
       "    }\n",
       "\n",
       "    .dataframe thead th {\n",
       "        text-align: right;\n",
       "    }\n",
       "</style>\n",
       "<table border=\"1\" class=\"dataframe\">\n",
       "  <thead>\n",
       "    <tr style=\"text-align: right;\">\n",
       "      <th></th>\n",
       "      <th>bias</th>\n",
       "      <th>mse</th>\n",
       "      <th>pred_var</th>\n",
       "      <th>true_var</th>\n",
       "      <th>r2</th>\n",
       "      <th>r2_v2</th>\n",
       "    </tr>\n",
       "  </thead>\n",
       "  <tbody>\n",
       "    <tr>\n",
       "      <th>TPHYSTND_NORAD</th>\n",
       "      <td>-6.65666e-07</td>\n",
       "      <td>2.16022e-09</td>\n",
       "      <td>1.24455e-09</td>\n",
       "      <td>2.78252e-09</td>\n",
       "      <td>0.129403</td>\n",
       "      <td>0.333073</td>\n",
       "    </tr>\n",
       "    <tr>\n",
       "      <th>PHQ</th>\n",
       "      <td>3.29247e-10</td>\n",
       "      <td>2.87328e-15</td>\n",
       "      <td>6.84432e-16</td>\n",
       "      <td>2.37336e-15</td>\n",
       "      <td>-1.08453</td>\n",
       "      <td>0.224692</td>\n",
       "    </tr>\n",
       "    <tr>\n",
       "      <th>all</th>\n",
       "      <td>NaN</td>\n",
       "      <td>NaN</td>\n",
       "      <td>NaN</td>\n",
       "      <td>NaN</td>\n",
       "      <td>NaN</td>\n",
       "      <td>0.278883</td>\n",
       "    </tr>\n",
       "  </tbody>\n",
       "</table>\n",
       "</div>"
      ],
      "text/plain": [
       "                       bias          mse     pred_var     true_var        r2  \\\n",
       "TPHYSTND_NORAD -6.65666e-07  2.16022e-09  1.24455e-09  2.78252e-09  0.129403   \n",
       "PHQ             3.29247e-10  2.87328e-15  6.84432e-16  2.37336e-15  -1.08453   \n",
       "all                     NaN          NaN          NaN          NaN       NaN   \n",
       "\n",
       "                   r2_v2  \n",
       "TPHYSTND_NORAD  0.333073  \n",
       "PHQ             0.224692  \n",
       "all             0.278883  "
      ]
     },
     "execution_count": 29,
     "metadata": {},
     "output_type": "execute_result"
    }
   ],
   "source": [
    "diag.mean_stats()"
   ]
  },
  {
   "cell_type": "markdown",
   "metadata": {},
   "source": [
    "Note that at the moment I am a little uncertain about the R2 score, so I might change that. Currently, I think `r2_v2` is closest to what you have.\n",
    "\n",
    "The R2 score seems to depend on the sample size, so trying it for a much larger dataset is probably a good idea.\n",
    "\n",
    "We can also plot the global statistics."
   ]
  },
  {
   "cell_type": "code",
   "execution_count": 35,
   "metadata": {},
   "outputs": [
    {
     "data": {
      "image/png": "[encoded data removed]",
      "text/plain": [
       "<matplotlib.figure.Figure at 0x2b8d681efe80>"
      ]
     },
     "metadata": {},
     "output_type": "display_data"
    }
   ],
   "source": [
    "# Plot the bias in TPHYSTND averaged over all longitudes\n",
    "f = diag.plot_slice(np.mean(diag.stats['bias'][:, :, 0, :].T, axis=1), cmap='bwr', \n",
    "                    vmin=-3e-5, vmax=3e-5, title='TPHYSTND bias', unit='kg/s')"
   ]
  },
  {
   "cell_type": "markdown",
   "metadata": {},
   "source": [
    "## Actual statistics for the latest networks."
   ]
  },
  {
   "cell_type": "code",
   "execution_count": null,
   "metadata": {},
   "outputs": [],
   "source": []
  }
 ],
 "metadata": {
  "kernelspec": {
   "display_name": "Python 3",
   "language": "python",
   "name": "python3"
  },
  "language_info": {
   "codemirror_mode": {
    "name": "ipython",
    "version": 3
   },
   "file_extension": ".py",
   "mimetype": "text/x-python",
   "name": "python",
   "nbconvert_exporter": "python",
   "pygments_lexer": "ipython3",
   "version": "3.6.4"
  },
  "toc": {
   "nav_menu": {},
   "number_sections": true,
   "sideBar": true,
   "skip_h1_title": true,
   "title_cell": "Table of Contents",
   "title_sidebar": "Contents",
   "toc_cell": false,
   "toc_position": {},
   "toc_section_display": true,
   "toc_window_display": false
  }
 },
 "nbformat": 4,
 "nbformat_minor": 2
}
