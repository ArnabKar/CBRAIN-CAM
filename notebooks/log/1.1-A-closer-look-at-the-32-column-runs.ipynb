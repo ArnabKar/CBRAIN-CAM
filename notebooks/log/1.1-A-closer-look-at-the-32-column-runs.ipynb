{
 "cells": [
  {
   "cell_type": "markdown",
   "metadata": {},
   "source": [
    "# A closer look at the 32 column runs\n",
    "\n",
    "As in notebook 1.0 we will check out the 32 column runs, comparing the network trained with 36 days and one year of data.\n",
    "\n",
    "`001_32cols_engy_ess_3d_pnas` is a network trained with the first 3 days from each month of the first year = 36 days. The configuration is the same as in the PNAS paper.\n",
    "`002_32cols_engy_ess_1y_pnas` is the same network but trained with an entire year of data."
   ]
  },
  {
   "cell_type": "code",
   "execution_count": 2,
   "metadata": {},
   "outputs": [],
   "source": [
    "import xarray as xr\n",
    "from cbrain.model_diagnostics import *\n",
    "from cbrain.utils import *\n",
    "limit_mem()"
   ]
  },
  {
   "cell_type": "markdown",
   "metadata": {},
   "source": [
    "## Offline validation of trained neural networks\n",
    "\n",
    "First we want to see how well the networks perform offline on the validation dataset."
   ]
  },
  {
   "cell_type": "code",
   "execution_count": 5,
   "metadata": {},
   "outputs": [],
   "source": [
    "# LMU\n",
    "MODEL_DIR = '/home/s/S.Rasp/repositories/CBRAIN-CAM/saved_models/'\n",
    "PREPROC_DIR = '/local/S.Rasp/preprocessed_data/'"
   ]
  },
  {
   "cell_type": "code",
   "execution_count": 6,
   "metadata": {},
   "outputs": [],
   "source": [
    "# Create a ModelDiagnostics object\n",
    "norms = ('feature_means', 'max_rs', None, 'target_conv')\n",
    "\n",
    "diag_3d = ModelDiagnostics(\n",
    "    MODEL_DIR + '001_32cols_engy_ess_3d_pnas.h5',\n",
    "    fpath=PREPROC_DIR + '32_col_engy_ess_3d_valid_features.nc',\n",
    "    tpath=PREPROC_DIR + '32_col_engy_ess_3d_valid_targets.nc',\n",
    "    npath=PREPROC_DIR + '32_col_engy_ess_3d_train_norm.nc',\n",
    "    norms=norms,\n",
    ")"
   ]
  },
  {
   "cell_type": "code",
   "execution_count": 8,
   "metadata": {},
   "outputs": [
    {
     "name": "stderr",
     "output_type": "stream",
     "text": [
      "100%|██████████| 429/429 [00:08<00:00, 50.23it/s]\n",
      "/home/s/S.Rasp/repositories/CBRAIN-CAM/notebooks/log/cbrain/model_diagnostics.py:259: RuntimeWarning: divide by zero encountered in true_divide\n",
      "  self.stats['r2'] = 1. - (self.stats['mse'] / self.stats['true_var'])\n",
      "/home/s/S.Rasp/repositories/CBRAIN-CAM/notebooks/log/cbrain/model_diagnostics.py:265: RuntimeWarning: divide by zero encountered in true_divide\n",
      "  self.stats['hor_r2'] = 1 - (self.stats['hor_mse'] / self.stats['hor_tvar'])\n"
     ]
    }
   ],
   "source": [
    "diag_3d.compute_stats()"
   ]
  },
  {
   "cell_type": "code",
   "execution_count": 9,
   "metadata": {},
   "outputs": [],
   "source": [
    "diag_1y = ModelDiagnostics(\n",
    "    MODEL_DIR + '002_32cols_engy_ess_1y_pnas.h5',\n",
    "    fpath=PREPROC_DIR + '32_col_engy_ess_3d_valid_features.nc',\n",
    "    tpath=PREPROC_DIR + '32_col_engy_ess_3d_valid_targets.nc',\n",
    "    npath=PREPROC_DIR + '32_col_engy_ess_3d_train_norm.nc',\n",
    "    norms=norms,\n",
    ")"
   ]
  },
  {
   "cell_type": "code",
   "execution_count": 10,
   "metadata": {},
   "outputs": [
    {
     "name": "stderr",
     "output_type": "stream",
     "text": [
      "100%|██████████| 429/429 [00:07<00:00, 55.16it/s]\n",
      "/home/s/S.Rasp/repositories/CBRAIN-CAM/notebooks/log/cbrain/model_diagnostics.py:259: RuntimeWarning: divide by zero encountered in true_divide\n",
      "  self.stats['r2'] = 1. - (self.stats['mse'] / self.stats['true_var'])\n",
      "/home/s/S.Rasp/repositories/CBRAIN-CAM/notebooks/log/cbrain/model_diagnostics.py:259: RuntimeWarning: invalid value encountered in true_divide\n",
      "  self.stats['r2'] = 1. - (self.stats['mse'] / self.stats['true_var'])\n",
      "/home/s/S.Rasp/repositories/CBRAIN-CAM/notebooks/log/cbrain/model_diagnostics.py:265: RuntimeWarning: invalid value encountered in true_divide\n",
      "  self.stats['hor_r2'] = 1 - (self.stats['hor_mse'] / self.stats['hor_tvar'])\n"
     ]
    }
   ],
   "source": [
    "diag_1y.compute_stats()"
   ]
  },
  {
   "cell_type": "code",
   "execution_count": 11,
   "metadata": {},
   "outputs": [
    {
     "data": {
      "text/html": [
       "<div>\n",
       "<style scoped>\n",
       "    .dataframe tbody tr th:only-of-type {\n",
       "        vertical-align: middle;\n",
       "    }\n",
       "\n",
       "    .dataframe tbody tr th {\n",
       "        vertical-align: top;\n",
       "    }\n",
       "\n",
       "    .dataframe thead th {\n",
       "        text-align: right;\n",
       "    }\n",
       "</style>\n",
       "<table border=\"1\" class=\"dataframe\">\n",
       "  <thead>\n",
       "    <tr style=\"text-align: right;\">\n",
       "      <th></th>\n",
       "      <th>bias</th>\n",
       "      <th>mse</th>\n",
       "      <th>pred_mean</th>\n",
       "      <th>true_mean</th>\n",
       "      <th>pred_sqmean</th>\n",
       "      <th>true_sqmean</th>\n",
       "      <th>pred_var</th>\n",
       "      <th>true_var</th>\n",
       "      <th>r2</th>\n",
       "      <th>hor_tsqmean</th>\n",
       "      <th>hor_tmean</th>\n",
       "      <th>hor_mse</th>\n",
       "      <th>hor_tvar</th>\n",
       "      <th>hor_r2</th>\n",
       "    </tr>\n",
       "  </thead>\n",
       "  <tbody>\n",
       "    <tr>\n",
       "      <th>TPHYSTND</th>\n",
       "      <td>-2.59226e-07</td>\n",
       "      <td>7.62447e-10</td>\n",
       "      <td>-4.52999e-07</td>\n",
       "      <td>-1.93773e-07</td>\n",
       "      <td>9.69937e-10</td>\n",
       "      <td>1.73256e-09</td>\n",
       "      <td>7.81657e-10</td>\n",
       "      <td>1.52444e-09</td>\n",
       "      <td>0.386423</td>\n",
       "      <td>1.73256e-09</td>\n",
       "      <td>-1.93773e-07</td>\n",
       "      <td>7.62447e-10</td>\n",
       "      <td>1.71837e-09</td>\n",
       "      <td>0.534065</td>\n",
       "    </tr>\n",
       "    <tr>\n",
       "      <th>PHQ</th>\n",
       "      <td>1.25964e-10</td>\n",
       "      <td>5.97418e-16</td>\n",
       "      <td>9.77456e-10</td>\n",
       "      <td>8.51492e-10</td>\n",
       "      <td>2.97658e-16</td>\n",
       "      <td>8.8766e-16</td>\n",
       "      <td>2.37644e-16</td>\n",
       "      <td>8.26081e-16</td>\n",
       "      <td>-47.0462</td>\n",
       "      <td>8.8766e-16</td>\n",
       "      <td>8.51492e-10</td>\n",
       "      <td>5.97418e-16</td>\n",
       "      <td>8.80542e-16</td>\n",
       "      <td>0.442628</td>\n",
       "    </tr>\n",
       "    <tr>\n",
       "      <th>FSNT</th>\n",
       "      <td>0.368462</td>\n",
       "      <td>433.92</td>\n",
       "      <td>226.755</td>\n",
       "      <td>226.386</td>\n",
       "      <td>154751</td>\n",
       "      <td>154664</td>\n",
       "      <td>82903.2</td>\n",
       "      <td>83054.7</td>\n",
       "      <td>-inf</td>\n",
       "      <td>154664</td>\n",
       "      <td>226.386</td>\n",
       "      <td>433.92</td>\n",
       "      <td>103413</td>\n",
       "      <td>0.995804</td>\n",
       "    </tr>\n",
       "    <tr>\n",
       "      <th>FSNS</th>\n",
       "      <td>0.309971</td>\n",
       "      <td>524.81</td>\n",
       "      <td>159.075</td>\n",
       "      <td>158.765</td>\n",
       "      <td>84701.2</td>\n",
       "      <td>84896.3</td>\n",
       "      <td>48186.7</td>\n",
       "      <td>48508.9</td>\n",
       "      <td>-inf</td>\n",
       "      <td>84896.3</td>\n",
       "      <td>158.765</td>\n",
       "      <td>524.81</td>\n",
       "      <td>59689.9</td>\n",
       "      <td>0.991208</td>\n",
       "    </tr>\n",
       "    <tr>\n",
       "      <th>FLNT</th>\n",
       "      <td>0.0225993</td>\n",
       "      <td>121.525</td>\n",
       "      <td>224.983</td>\n",
       "      <td>224.96</td>\n",
       "      <td>52258.1</td>\n",
       "      <td>52355.7</td>\n",
       "      <td>788.965</td>\n",
       "      <td>883.801</td>\n",
       "      <td>0.7684</td>\n",
       "      <td>52355.7</td>\n",
       "      <td>224.96</td>\n",
       "      <td>121.525</td>\n",
       "      <td>1748.6</td>\n",
       "      <td>0.930502</td>\n",
       "    </tr>\n",
       "    <tr>\n",
       "      <th>FLNS</th>\n",
       "      <td>-0.0181243</td>\n",
       "      <td>52.3975</td>\n",
       "      <td>49.6453</td>\n",
       "      <td>49.6634</td>\n",
       "      <td>3194.82</td>\n",
       "      <td>3238.66</td>\n",
       "      <td>466.384</td>\n",
       "      <td>503.43</td>\n",
       "      <td>0.832758</td>\n",
       "      <td>3238.66</td>\n",
       "      <td>49.6634</td>\n",
       "      <td>52.3975</td>\n",
       "      <td>772.205</td>\n",
       "      <td>0.932146</td>\n",
       "    </tr>\n",
       "    <tr>\n",
       "      <th>PRECT</th>\n",
       "      <td>-6.77476e-10</td>\n",
       "      <td>1.94328e-15</td>\n",
       "      <td>2.97253e-08</td>\n",
       "      <td>3.04028e-08</td>\n",
       "      <td>6.351e-15</td>\n",
       "      <td>8.51124e-15</td>\n",
       "      <td>4.1856e-15</td>\n",
       "      <td>6.17133e-15</td>\n",
       "      <td>0.469577</td>\n",
       "      <td>8.51124e-15</td>\n",
       "      <td>3.04028e-08</td>\n",
       "      <td>1.94328e-15</td>\n",
       "      <td>7.58691e-15</td>\n",
       "      <td>0.743864</td>\n",
       "    </tr>\n",
       "    <tr>\n",
       "      <th>all</th>\n",
       "      <td>NaN</td>\n",
       "      <td>NaN</td>\n",
       "      <td>NaN</td>\n",
       "      <td>NaN</td>\n",
       "      <td>NaN</td>\n",
       "      <td>NaN</td>\n",
       "      <td>NaN</td>\n",
       "      <td>NaN</td>\n",
       "      <td>NaN</td>\n",
       "      <td>NaN</td>\n",
       "      <td>NaN</td>\n",
       "      <td>NaN</td>\n",
       "      <td>NaN</td>\n",
       "      <td>0.795745</td>\n",
       "    </tr>\n",
       "  </tbody>\n",
       "</table>\n",
       "</div>"
      ],
      "text/plain": [
       "                 bias          mse    pred_mean    true_mean  pred_sqmean  \\\n",
       "TPHYSTND -2.59226e-07  7.62447e-10 -4.52999e-07 -1.93773e-07  9.69937e-10   \n",
       "PHQ       1.25964e-10  5.97418e-16  9.77456e-10  8.51492e-10  2.97658e-16   \n",
       "FSNT         0.368462       433.92      226.755      226.386       154751   \n",
       "FSNS         0.309971       524.81      159.075      158.765      84701.2   \n",
       "FLNT        0.0225993      121.525      224.983       224.96      52258.1   \n",
       "FLNS       -0.0181243      52.3975      49.6453      49.6634      3194.82   \n",
       "PRECT    -6.77476e-10  1.94328e-15  2.97253e-08  3.04028e-08    6.351e-15   \n",
       "all               NaN          NaN          NaN          NaN          NaN   \n",
       "\n",
       "          true_sqmean     pred_var     true_var        r2  hor_tsqmean  \\\n",
       "TPHYSTND  1.73256e-09  7.81657e-10  1.52444e-09  0.386423  1.73256e-09   \n",
       "PHQ        8.8766e-16  2.37644e-16  8.26081e-16  -47.0462   8.8766e-16   \n",
       "FSNT           154664      82903.2      83054.7      -inf       154664   \n",
       "FSNS          84896.3      48186.7      48508.9      -inf      84896.3   \n",
       "FLNT          52355.7      788.965      883.801    0.7684      52355.7   \n",
       "FLNS          3238.66      466.384       503.43  0.832758      3238.66   \n",
       "PRECT     8.51124e-15   4.1856e-15  6.17133e-15  0.469577  8.51124e-15   \n",
       "all               NaN          NaN          NaN       NaN          NaN   \n",
       "\n",
       "            hor_tmean      hor_mse     hor_tvar    hor_r2  \n",
       "TPHYSTND -1.93773e-07  7.62447e-10  1.71837e-09  0.534065  \n",
       "PHQ       8.51492e-10  5.97418e-16  8.80542e-16  0.442628  \n",
       "FSNT          226.386       433.92       103413  0.995804  \n",
       "FSNS          158.765       524.81      59689.9  0.991208  \n",
       "FLNT           224.96      121.525       1748.6  0.930502  \n",
       "FLNS          49.6634      52.3975      772.205  0.932146  \n",
       "PRECT     3.04028e-08  1.94328e-15  7.58691e-15  0.743864  \n",
       "all               NaN          NaN          NaN  0.795745  "
      ]
     },
     "execution_count": 11,
     "metadata": {},
     "output_type": "execute_result"
    }
   ],
   "source": [
    "diag_3d.mean_stats(9)"
   ]
  },
  {
   "cell_type": "code",
   "execution_count": 12,
   "metadata": {},
   "outputs": [
    {
     "data": {
      "text/html": [
       "<div>\n",
       "<style scoped>\n",
       "    .dataframe tbody tr th:only-of-type {\n",
       "        vertical-align: middle;\n",
       "    }\n",
       "\n",
       "    .dataframe tbody tr th {\n",
       "        vertical-align: top;\n",
       "    }\n",
       "\n",
       "    .dataframe thead th {\n",
       "        text-align: right;\n",
       "    }\n",
       "</style>\n",
       "<table border=\"1\" class=\"dataframe\">\n",
       "  <thead>\n",
       "    <tr style=\"text-align: right;\">\n",
       "      <th></th>\n",
       "      <th>bias</th>\n",
       "      <th>mse</th>\n",
       "      <th>pred_mean</th>\n",
       "      <th>true_mean</th>\n",
       "      <th>pred_sqmean</th>\n",
       "      <th>true_sqmean</th>\n",
       "      <th>pred_var</th>\n",
       "      <th>true_var</th>\n",
       "      <th>r2</th>\n",
       "      <th>hor_tsqmean</th>\n",
       "      <th>hor_tmean</th>\n",
       "      <th>hor_mse</th>\n",
       "      <th>hor_tvar</th>\n",
       "      <th>hor_r2</th>\n",
       "    </tr>\n",
       "  </thead>\n",
       "  <tbody>\n",
       "    <tr>\n",
       "      <th>TPHYSTND</th>\n",
       "      <td>-7.29432e-08</td>\n",
       "      <td>6.85512e-10</td>\n",
       "      <td>-2.66716e-07</td>\n",
       "      <td>-1.93773e-07</td>\n",
       "      <td>1.03888e-09</td>\n",
       "      <td>1.73256e-09</td>\n",
       "      <td>8.44837e-10</td>\n",
       "      <td>1.52444e-09</td>\n",
       "      <td>0.471343</td>\n",
       "      <td>1.73256e-09</td>\n",
       "      <td>-1.93773e-07</td>\n",
       "      <td>6.85512e-10</td>\n",
       "      <td>1.71837e-09</td>\n",
       "      <td>0.582294</td>\n",
       "    </tr>\n",
       "    <tr>\n",
       "      <th>PHQ</th>\n",
       "      <td>4.8604e-11</td>\n",
       "      <td>5.723e-16</td>\n",
       "      <td>9.00096e-10</td>\n",
       "      <td>8.51492e-10</td>\n",
       "      <td>3.16266e-16</td>\n",
       "      <td>8.8766e-16</td>\n",
       "      <td>2.56592e-16</td>\n",
       "      <td>8.26081e-16</td>\n",
       "      <td>-25.4494</td>\n",
       "      <td>8.8766e-16</td>\n",
       "      <td>8.51492e-10</td>\n",
       "      <td>5.723e-16</td>\n",
       "      <td>8.80542e-16</td>\n",
       "      <td>0.474101</td>\n",
       "    </tr>\n",
       "    <tr>\n",
       "      <th>FSNT</th>\n",
       "      <td>0.0213465</td>\n",
       "      <td>345.433</td>\n",
       "      <td>226.407</td>\n",
       "      <td>226.386</td>\n",
       "      <td>154310</td>\n",
       "      <td>154664</td>\n",
       "      <td>82698.7</td>\n",
       "      <td>83054.7</td>\n",
       "      <td>-inf</td>\n",
       "      <td>154664</td>\n",
       "      <td>226.386</td>\n",
       "      <td>345.433</td>\n",
       "      <td>103413</td>\n",
       "      <td>0.99666</td>\n",
       "    </tr>\n",
       "    <tr>\n",
       "      <th>FSNS</th>\n",
       "      <td>-0.00224893</td>\n",
       "      <td>427.495</td>\n",
       "      <td>158.763</td>\n",
       "      <td>158.765</td>\n",
       "      <td>84419.5</td>\n",
       "      <td>84896.3</td>\n",
       "      <td>48044</td>\n",
       "      <td>48508.9</td>\n",
       "      <td>-inf</td>\n",
       "      <td>84896.3</td>\n",
       "      <td>158.765</td>\n",
       "      <td>427.495</td>\n",
       "      <td>59689.9</td>\n",
       "      <td>0.992838</td>\n",
       "    </tr>\n",
       "    <tr>\n",
       "      <th>FLNT</th>\n",
       "      <td>-0.243302</td>\n",
       "      <td>82.4693</td>\n",
       "      <td>224.717</td>\n",
       "      <td>224.96</td>\n",
       "      <td>52178</td>\n",
       "      <td>52355.7</td>\n",
       "      <td>813.341</td>\n",
       "      <td>883.801</td>\n",
       "      <td>0.847155</td>\n",
       "      <td>52355.7</td>\n",
       "      <td>224.96</td>\n",
       "      <td>82.4693</td>\n",
       "      <td>1748.6</td>\n",
       "      <td>0.952837</td>\n",
       "    </tr>\n",
       "    <tr>\n",
       "      <th>FLNS</th>\n",
       "      <td>-0.122868</td>\n",
       "      <td>38.6355</td>\n",
       "      <td>49.5405</td>\n",
       "      <td>49.6634</td>\n",
       "      <td>3187</td>\n",
       "      <td>3238.66</td>\n",
       "      <td>469.581</td>\n",
       "      <td>503.43</td>\n",
       "      <td>0.875115</td>\n",
       "      <td>3238.66</td>\n",
       "      <td>49.6634</td>\n",
       "      <td>38.6355</td>\n",
       "      <td>772.205</td>\n",
       "      <td>0.949967</td>\n",
       "    </tr>\n",
       "    <tr>\n",
       "      <th>PRECT</th>\n",
       "      <td>-2.26992e-10</td>\n",
       "      <td>1.72686e-15</td>\n",
       "      <td>3.01758e-08</td>\n",
       "      <td>3.04028e-08</td>\n",
       "      <td>6.66501e-15</td>\n",
       "      <td>8.51124e-15</td>\n",
       "      <td>4.43413e-15</td>\n",
       "      <td>6.17133e-15</td>\n",
       "      <td>0.546326</td>\n",
       "      <td>8.51124e-15</td>\n",
       "      <td>3.04028e-08</td>\n",
       "      <td>1.72686e-15</td>\n",
       "      <td>7.58691e-15</td>\n",
       "      <td>0.772389</td>\n",
       "    </tr>\n",
       "    <tr>\n",
       "      <th>all</th>\n",
       "      <td>NaN</td>\n",
       "      <td>NaN</td>\n",
       "      <td>NaN</td>\n",
       "      <td>NaN</td>\n",
       "      <td>NaN</td>\n",
       "      <td>NaN</td>\n",
       "      <td>NaN</td>\n",
       "      <td>NaN</td>\n",
       "      <td>NaN</td>\n",
       "      <td>NaN</td>\n",
       "      <td>NaN</td>\n",
       "      <td>NaN</td>\n",
       "      <td>NaN</td>\n",
       "      <td>0.817298</td>\n",
       "    </tr>\n",
       "  </tbody>\n",
       "</table>\n",
       "</div>"
      ],
      "text/plain": [
       "                 bias          mse    pred_mean    true_mean  pred_sqmean  \\\n",
       "TPHYSTND -7.29432e-08  6.85512e-10 -2.66716e-07 -1.93773e-07  1.03888e-09   \n",
       "PHQ        4.8604e-11    5.723e-16  9.00096e-10  8.51492e-10  3.16266e-16   \n",
       "FSNT        0.0213465      345.433      226.407      226.386       154310   \n",
       "FSNS      -0.00224893      427.495      158.763      158.765      84419.5   \n",
       "FLNT        -0.243302      82.4693      224.717       224.96        52178   \n",
       "FLNS        -0.122868      38.6355      49.5405      49.6634         3187   \n",
       "PRECT    -2.26992e-10  1.72686e-15  3.01758e-08  3.04028e-08  6.66501e-15   \n",
       "all               NaN          NaN          NaN          NaN          NaN   \n",
       "\n",
       "          true_sqmean     pred_var     true_var        r2  hor_tsqmean  \\\n",
       "TPHYSTND  1.73256e-09  8.44837e-10  1.52444e-09  0.471343  1.73256e-09   \n",
       "PHQ        8.8766e-16  2.56592e-16  8.26081e-16  -25.4494   8.8766e-16   \n",
       "FSNT           154664      82698.7      83054.7      -inf       154664   \n",
       "FSNS          84896.3        48044      48508.9      -inf      84896.3   \n",
       "FLNT          52355.7      813.341      883.801  0.847155      52355.7   \n",
       "FLNS          3238.66      469.581       503.43  0.875115      3238.66   \n",
       "PRECT     8.51124e-15  4.43413e-15  6.17133e-15  0.546326  8.51124e-15   \n",
       "all               NaN          NaN          NaN       NaN          NaN   \n",
       "\n",
       "            hor_tmean      hor_mse     hor_tvar    hor_r2  \n",
       "TPHYSTND -1.93773e-07  6.85512e-10  1.71837e-09  0.582294  \n",
       "PHQ       8.51492e-10    5.723e-16  8.80542e-16  0.474101  \n",
       "FSNT          226.386      345.433       103413   0.99666  \n",
       "FSNS          158.765      427.495      59689.9  0.992838  \n",
       "FLNT           224.96      82.4693       1748.6  0.952837  \n",
       "FLNS          49.6634      38.6355      772.205  0.949967  \n",
       "PRECT     3.04028e-08  1.72686e-15  7.58691e-15  0.772389  \n",
       "all               NaN          NaN          NaN  0.817298  "
      ]
     },
     "execution_count": 12,
     "metadata": {},
     "output_type": "execute_result"
    }
   ],
   "source": [
    "diag_1y.mean_stats(9)"
   ]
  },
  {
   "cell_type": "markdown",
   "metadata": {},
   "source": [
    "Looking at the `hor_r2` score, the 1y version has better scores for all variables. The differences for the \"important\" variables, `TPHYSTND` and `PHQ` are definitely significant. So from this analysis we \"could\" conclude that training with one year of data gives a \"better\" network. \n",
    "\n",
    "Looking at `pred_var` we can also see that the variance of the 1y network is larger. Make of that what you will.\n",
    "\n",
    "To confirm this visually we can also look at some heating snapshots."
   ]
  },
  {
   "cell_type": "code",
   "execution_count": 14,
   "metadata": {},
   "outputs": [
    {
     "data": {
      "image/png": "[encoded data removed]",
      "text/plain": [
       "<Figure size 864x360 with 4 Axes>"
      ]
     },
     "metadata": {},
     "output_type": "display_data"
    }
   ],
   "source": [
    "diag_3d.plot_double_yz(itime=0, ilon=3, var='TPHYSTND', vmin=-1e-4, vmax=1e-4, cmap='RdBu_r');"
   ]
  },
  {
   "cell_type": "code",
   "execution_count": 15,
   "metadata": {},
   "outputs": [
    {
     "data": {
      "image/png": "[encoded data removed]",
      "text/plain": [
       "<Figure size 864x360 with 4 Axes>"
      ]
     },
     "metadata": {},
     "output_type": "display_data"
    }
   ],
   "source": [
    "diag_1y.plot_double_yz(itime=0, ilon=3, var='TPHYSTND', vmin=-1e-4, vmax=1e-4, cmap='RdBu_r');"
   ]
  },
  {
   "cell_type": "markdown",
   "metadata": {},
   "source": [
    "Check a slice for PHQ as well."
   ]
  },
  {
   "cell_type": "code",
   "execution_count": 18,
   "metadata": {},
   "outputs": [
    {
     "data": {
      "image/png": "[encoded data removed]",
      "text/plain": [
       "<Figure size 864x360 with 4 Axes>"
      ]
     },
     "metadata": {},
     "output_type": "display_data"
    }
   ],
   "source": [
    "diag_3d.plot_double_yz(itime=0, ilon=20, var='PHQ', vmin=-1e-7, vmax=1e-7, cmap='RdBu_r');"
   ]
  },
  {
   "cell_type": "code",
   "execution_count": 19,
   "metadata": {},
   "outputs": [
    {
     "data": {
      "image/png": "[encoded data removed]",
      "text/plain": [
       "<Figure size 864x360 with 4 Axes>"
      ]
     },
     "metadata": {},
     "output_type": "display_data"
    }
   ],
   "source": [
    "diag_1y.plot_double_yz(itime=0, ilon=20, var='PHQ', vmin=-1e-7, vmax=1e-7, cmap='RdBu_r');"
   ]
  },
  {
   "cell_type": "markdown",
   "metadata": {},
   "source": [
    "## Analyzing the online runs."
   ]
  },
  {
   "cell_type": "code",
   "execution_count": null,
   "metadata": {},
   "outputs": [],
   "source": []
  }
 ],
 "metadata": {
  "kernelspec": {
   "display_name": "Python 3",
   "language": "python",
   "name": "python3"
  },
  "language_info": {
   "codemirror_mode": {
    "name": "ipython",
    "version": 3
   },
   "file_extension": ".py",
   "mimetype": "text/x-python",
   "name": "python",
   "nbconvert_exporter": "python",
   "pygments_lexer": "ipython3",
   "version": "3.6.5"
  },
  "toc": {
   "base_numbering": 1,
   "nav_menu": {},
   "number_sections": true,
   "sideBar": false,
   "skip_h1_title": true,
   "title_cell": "Table of Contents",
   "title_sidebar": "Contents",
   "toc_cell": false,
   "toc_position": {},
   "toc_section_display": true,
   "toc_window_display": false
  }
 },
 "nbformat": 4,
 "nbformat_minor": 2
}
