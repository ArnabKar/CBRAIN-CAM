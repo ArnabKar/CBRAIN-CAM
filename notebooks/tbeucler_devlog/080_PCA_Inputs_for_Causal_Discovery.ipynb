{
 "cells": [
  {
   "cell_type": "markdown",
   "metadata": {},
   "source": [
    "tgb - 1/3/2022 - Happy new year! The goal of this notebook is to decompose the inputs into distinct PCA components to facilitate causal discovery using PCMCI. The causal discovery results will then be used for objective feature selection. The rationale behind using PCA first is to work with more \"orthogonal\" parents, as neighboring vertical levels can be highly correlated, which complicates using PCMCI on the full input profile. The steps for this notebook are as follows:"
   ]
  },
  {
   "cell_type": "markdown",
   "metadata": {},
   "source": [
    "1. Load the training set and its normalized version    \n",
    "2. Apply PCA on randomly selected subsets and see how many modes are necessary to explain most of the variance    \n",
    "3. Check the number of modes necessary to reach reasonable mean squared error when predicting subgrid tendencies   \n",
    "4. Apply lagged correlation, Granger causality, and the PC algorithm to select parents for each output     \n",
    "5. Repeat for climate-invariant case  "
   ]
  },
  {
   "cell_type": "markdown",
   "metadata": {},
   "source": [
    "# Imports"
   ]
  },
  {
   "cell_type": "code",
   "execution_count": null,
   "metadata": {},
   "outputs": [],
   "source": [
    "from cbrain.climate_invariant import *\n",
    "\n",
    "import matplotlib as mpl\n",
    "import numpy as np\n",
    "\n",
    "import pickle\n",
    "from sklearn.decomposition import PCA"
   ]
  },
  {
   "cell_type": "code",
   "execution_count": null,
   "metadata": {},
   "outputs": [],
   "source": [
    "fz = 15 # Here we define the fontsize \n",
    "lw = 2 # the linewidth\n",
    "siz = 75 # and the scattered dots' size\n",
    "\n",
    "plt.rc('text', usetex=False)\n",
    "mpl.rcParams['mathtext.fontset'] = 'stix'\n",
    "mpl.rcParams['font.family'] = 'STIXGeneral'\n",
    "plt.rc('font', family='serif', size=fz)\n",
    "mpl.rcParams['lines.linewidth'] = lw"
   ]
  },
  {
   "cell_type": "code",
   "execution_count": null,
   "metadata": {},
   "outputs": [],
   "source": [
    "path_data = '/DFS-L/DATA/pritchard/tbeucler/SPCAM/SPCAM_PHYS/'"
   ]
  },
  {
   "cell_type": "markdown",
   "metadata": {},
   "source": [
    "# Load dataset and define data generator"
   ]
  },
  {
   "cell_type": "code",
   "execution_count": null,
   "metadata": {},
   "outputs": [],
   "source": [
    "in_vars = ['QBP','TBP','VBP','PS','SOLIN','SHFLX','LHFLX'] # We take the large-scale climate state as inputs\n",
    "out_vars = ['PHQ','TPHYSTND','FSNT','FSNS','FLNT','FLNS', 'PRECT'] # and we output the response of clouds/storms to these climate conditions\n",
    "path_train = path_data + 'Aqua_0K_withVBP/2021_09_02_TRAIN_For_Nando.nc'"
   ]
  },
  {
   "cell_type": "markdown",
   "metadata": {},
   "source": [
    "## Try PCA on physically scaled data"
   ]
  },
  {
   "cell_type": "markdown",
   "metadata": {},
   "source": [
    "### Load dataset"
   ]
  },
  {
   "cell_type": "code",
   "execution_count": null,
   "metadata": {},
   "outputs": [],
   "source": [
    "train_data = xr.open_dataset(path_train)"
   ]
  },
  {
   "cell_type": "markdown",
   "metadata": {},
   "source": [
    "### Isolate inputs"
   ]
  },
  {
   "cell_type": "code",
   "execution_count": null,
   "metadata": {},
   "outputs": [],
   "source": [
    "input_idx = np.arange(0,94)"
   ]
  },
  {
   "cell_type": "code",
   "execution_count": null,
   "metadata": {},
   "outputs": [],
   "source": [
    "train_data"
   ]
  },
  {
   "cell_type": "code",
   "execution_count": null,
   "metadata": {},
   "outputs": [],
   "source": [
    "input_dic = {}\n",
    "input_dic['var_names'] = input_idx"
   ]
  },
  {
   "cell_type": "code",
   "execution_count": null,
   "metadata": {},
   "outputs": [],
   "source": [
    "train_input_data = train_data.isel(indexers=input_dic)"
   ]
  },
  {
   "cell_type": "code",
   "execution_count": null,
   "metadata": {},
   "outputs": [],
   "source": [
    "train_input_data"
   ]
  },
  {
   "cell_type": "markdown",
   "metadata": {},
   "source": [
    "### Load normalization file to access the approximate standard deviations"
   ]
  },
  {
   "cell_type": "code",
   "execution_count": null,
   "metadata": {},
   "outputs": [],
   "source": [
    "path_input_norm = path_data + '001_norm.nc'"
   ]
  },
  {
   "cell_type": "code",
   "execution_count": null,
   "metadata": {},
   "outputs": [],
   "source": [
    "norm_dataset = xr.open_dataset(path_input_norm)"
   ]
  },
  {
   "cell_type": "code",
   "execution_count": null,
   "metadata": {},
   "outputs": [],
   "source": [
    "norm_dataset"
   ]
  },
  {
   "cell_type": "code",
   "execution_count": null,
   "metadata": {},
   "outputs": [],
   "source": [
    "input_idx = np.concatenate(\n",
    "    (np.arange(0,30),\n",
    "     np.arange(90,154)))"
   ]
  },
  {
   "cell_type": "code",
   "execution_count": null,
   "metadata": {},
   "outputs": [],
   "source": [
    "input_dic = {}\n",
    "input_dic['var_names'] = input_idx"
   ]
  },
  {
   "cell_type": "code",
   "execution_count": null,
   "metadata": {},
   "outputs": [],
   "source": [
    "norm_input_data = norm_dataset.isel(input_dic)"
   ]
  },
  {
   "cell_type": "code",
   "execution_count": null,
   "metadata": {},
   "outputs": [],
   "source": [
    "norm_input_data"
   ]
  },
  {
   "cell_type": "code",
   "execution_count": null,
   "metadata": {},
   "outputs": [],
   "source": [
    "fig,ax = plt.subplots(5,2,figsize=(15,15))\n",
    "\n",
    "ax[0][0].plot(norm_input_data['std'][:30].values)\n",
    "ax[0][0].set_ylabel('Q [g/kg]')\n",
    "ax[0][0].set_title('Standard Deviation')\n",
    "ax[1][0].plot(norm_input_data['std'][30:60].values)\n",
    "ax[1][0].set_ylabel('T [K]')\n",
    "ax[2][0].plot(norm_input_data['std'][60:90].values)\n",
    "ax[2][0].set_ylabel('V [m/s]')\n",
    "ax[3][0].scatter(0,norm_input_data['std'][90].values/1e5)\n",
    "ax[3][0].set_ylabel('P$_{s}$ [10$^{5}$Pa]')\n",
    "ax[3][0].grid()\n",
    "ax[4][0].scatter([0,1,2],norm_input_data['std'][91:].values)\n",
    "ax[4][0].set_ylabel('S$_{0}$,SHF,LHF[Wm$^{2}$]')\n",
    "ax[4][0].grid()\n",
    "\n",
    "ax[0][1].plot(norm_input_data['max'][:30].values-norm_input_data['min'][:30].values)\n",
    "ax[0][1].set_ylabel('Q [g/kg]')\n",
    "ax[0][1].set_title('Range')\n",
    "ax[1][1].plot(norm_input_data['max'][30:60].values-norm_input_data['min'][30:60].values)\n",
    "ax[1][1].set_ylabel('T [K]')\n",
    "ax[2][1].plot(norm_input_data['max'][60:90].values-norm_input_data['min'][60:90].values)\n",
    "ax[2][1].set_ylabel('V [m/s]')\n",
    "ax[3][1].scatter(0,norm_input_data['max'][90].values/1e5-norm_input_data['min'][90].values/1e5)\n",
    "ax[3][1].set_ylabel('P$_{s}$ [10$^{5}$Pa]')\n",
    "ax[3][1].grid()\n",
    "ax[4][1].scatter([0,1,2],norm_input_data['max'][91:].values-norm_input_data['min'][91:].values)\n",
    "ax[4][1].set_ylabel('S$_{0}$,SHF,LHF[Wm$^{2}$]')\n",
    "ax[4][1].grid()"
   ]
  },
  {
   "cell_type": "markdown",
   "metadata": {},
   "source": [
    "### Rescale inputs physically so that they all have units $J/kg$"
   ]
  },
  {
   "cell_type": "code",
   "execution_count": null,
   "metadata": {},
   "outputs": [],
   "source": [
    "RHO_0 = 1 # Approximate surface air density [in kg/m^3]\n",
    "V_0 = 1000 # Approximate wind velocity**2/(2*wind_velocity) [in m/s]"
   ]
  },
  {
   "cell_type": "code",
   "execution_count": null,
   "metadata": {},
   "outputs": [],
   "source": [
    "scale_inp = []\n",
    "for i in range(30): scale_inp.append(L_S)\n",
    "for i in range(30): scale_inp.append(C_P)\n",
    "for i in range(30): scale_inp.append(V_0)\n",
    "scale_inp.append(1/RHO_0)\n",
    "for i in range(3): scale_inp.append(G*DT/(P0/100))\n",
    "scale_inp = np.array(scale_inp)"
   ]
  },
  {
   "cell_type": "markdown",
   "metadata": {},
   "source": [
    "Comment: This may not be optimal because there is no unique choice to scale all inputs to $J/kg$ given that pressure, non-squared velocity, and even power per unit surface do not have a very natural equivalent in $J/kg$"
   ]
  },
  {
   "cell_type": "code",
   "execution_count": null,
   "metadata": {},
   "outputs": [],
   "source": [
    "fig,ax = plt.subplots(5,2,figsize=(15,20))\n",
    "\n",
    "ax[0][0].plot(norm_input_data['std'][:30].values*scale_inp[:30])\n",
    "ax[0][0].set_ylabel('Q [J/kg]')\n",
    "ax[0][0].set_title('STD after physical normalization')\n",
    "ax[1][0].plot(norm_input_data['std'][30:60].values*scale_inp[30:60])\n",
    "ax[1][0].set_ylabel('T [J/kg]')\n",
    "ax[2][0].plot(norm_input_data['std'][60:90].values*scale_inp[60:90])\n",
    "ax[2][0].set_ylabel('V [J/kg]')\n",
    "ax[3][0].scatter(0,(norm_input_data['std'][90].values*scale_inp[90]))\n",
    "ax[3][0].set_ylabel('P$_{s}$ [J/kg]')\n",
    "ax[3][0].ticklabel_format(useOffset=False)\n",
    "ax[3][0].grid()\n",
    "ax[4][0].scatter([0,1,2],norm_input_data['std'][91:].values*scale_inp[91:])\n",
    "ax[4][0].set_ylabel('S$_{0}$,SHF,LHF[J/kg]')\n",
    "ax[4][0].grid()\n",
    "\n",
    "ax[0][1].plot(scale_inp[:30]*(norm_input_data['max'][:30].values-norm_input_data['min'][:30].values))\n",
    "ax[0][1].set_ylabel('Q [J/kg]')\n",
    "ax[0][1].set_title('Range after physical normalization')\n",
    "ax[1][1].plot(scale_inp[30:60]*(norm_input_data['max'][30:60].values-norm_input_data['min'][30:60].values))\n",
    "ax[1][1].set_ylabel('T [J/kg]')\n",
    "ax[2][1].plot(scale_inp[60:90]*(norm_input_data['max'][60:90].values-norm_input_data['min'][60:90].values))\n",
    "ax[2][1].set_ylabel('V [J/kg]')\n",
    "ax[3][1].scatter(0,scale_inp[90]*(norm_input_data['max'][90].values-norm_input_data['min'][90].values))\n",
    "ax[3][1].set_ylabel('P$_{s}$ [J/kg]')\n",
    "ax[3][1].ticklabel_format(useOffset=False)\n",
    "ax[3][1].grid()\n",
    "ax[4][1].scatter([0,1,2],scale_inp[91:]*(norm_input_data['max'][91:].values-norm_input_data['min'][91:].values))\n",
    "ax[4][1].set_ylabel('S$_{0}$,SHF,LHF[J/kg]')\n",
    "ax[4][1].grid()"
   ]
  },
  {
   "cell_type": "markdown",
   "metadata": {},
   "source": [
    "## Try PCA on normalized data"
   ]
  },
  {
   "cell_type": "markdown",
   "metadata": {},
   "source": [
    "### Create normalized dataset"
   ]
  },
  {
   "cell_type": "code",
   "execution_count": null,
   "metadata": {},
   "outputs": [],
   "source": [
    "scale_dict = pickle.load(open(path_data+'CIML_Zenodo/009_Wm2_scaling.pkl','rb'))"
   ]
  },
  {
   "cell_type": "code",
   "execution_count": null,
   "metadata": {},
   "outputs": [],
   "source": [
    "N_batch = 8192\n",
    "\n",
    "train_gen_BF = DataGeneratorCI(\n",
    "    data_fn = path_train,\n",
    "    input_vars = in_vars,\n",
    "    output_vars = out_vars,\n",
    "    norm_fn = path_input_norm,\n",
    "    input_transform = ('mean', 'maxrs'),\n",
    "    output_transform = scale_dict,\n",
    "    shuffle = False,\n",
    "    batch_size=N_batch\n",
    ")"
   ]
  },
  {
   "cell_type": "code",
   "execution_count": null,
   "metadata": {},
   "outputs": [],
   "source": [
    "train_gen_BF[0][0].shape"
   ]
  },
  {
   "cell_type": "code",
   "execution_count": null,
   "metadata": {},
   "outputs": [],
   "source": [
    "new_values = np.zeros((train_gen_BF.n_samples,94))"
   ]
  },
  {
   "cell_type": "code",
   "execution_count": null,
   "metadata": {},
   "outputs": [],
   "source": [
    "for ibatch in range((train_gen_BF.n_samples)//N_batch):\n",
    "    if ibatch % 10==0: print('progress=','%2.2f' % (100*ibatch/((train_gen_BF.n_samples)//N_batch)),\n",
    "                              '%','               ',end='\\r')\n",
    "    new_values[ibatch*N_batch:((1+ibatch)*N_batch),:] = train_gen_BF[ibatch][0]"
   ]
  },
  {
   "cell_type": "code",
   "execution_count": null,
   "metadata": {},
   "outputs": [],
   "source": [
    "new_values.shape"
   ]
  },
  {
   "cell_type": "markdown",
   "metadata": {},
   "source": [
    "### Find its principal components"
   ]
  },
  {
   "cell_type": "code",
   "execution_count": null,
   "metadata": {},
   "outputs": [],
   "source": [
    "pca = PCA()"
   ]
  },
  {
   "cell_type": "code",
   "execution_count": null,
   "metadata": {},
   "outputs": [],
   "source": [
    "pca.fit(new_values)"
   ]
  },
  {
   "cell_type": "code",
   "execution_count": null,
   "metadata": {},
   "outputs": [],
   "source": [
    "plt.plot(pca.explained_variance_ratio_,color='k')\n",
    "ax = plt.gca()\n",
    "\n",
    "ax2 = ax.twinx()\n",
    "ax2.set_ylabel('Variance explained',color='b')\n",
    "var_explained = np.cumsum(pca.explained_variance_ratio_)\n",
    "ax2.plot(var_explained,color='b')\n",
    "ax2.tick_params(axis='y',color='b',labelcolor='b')\n",
    "plt.grid()"
   ]
  },
  {
   "cell_type": "code",
   "execution_count": null,
   "metadata": {},
   "outputs": [],
   "source": [
    "var_explained"
   ]
  },
  {
   "cell_type": "code",
   "execution_count": null,
   "metadata": {},
   "outputs": [],
   "source": [
    "pca.components_.shape"
   ]
  },
  {
   "cell_type": "markdown",
   "metadata": {},
   "source": [
    "### Save PCA in pkl file"
   ]
  },
  {
   "cell_type": "code",
   "execution_count": null,
   "metadata": {},
   "outputs": [],
   "source": [
    "path_PKL = '/DFS-L/DATA/pritchard/tbeucler/SPCAM/SPCAM_PHYS/PKL_DATA/'"
   ]
  },
  {
   "cell_type": "code",
   "execution_count": null,
   "metadata": {},
   "outputs": [],
   "source": [
    "path_savePCA = path_PKL + '2022_01_04_PCA_of_2021_09_02_TRAIN_For_Nando.pkl'"
   ]
  },
  {
   "cell_type": "code",
   "execution_count": null,
   "metadata": {},
   "outputs": [],
   "source": [
    "pickle.dump(pca,open(path_savePCA,'wb'))"
   ]
  },
  {
   "cell_type": "markdown",
   "metadata": {},
   "source": [
    "### Plot principal components"
   ]
  },
  {
   "cell_type": "markdown",
   "metadata": {},
   "source": [
    "Load coordinates for plotting"
   ]
  },
  {
   "cell_type": "code",
   "execution_count": null,
   "metadata": {},
   "outputs": [],
   "source": [
    "path_folder = '/DFS-L/DATA/pritchard/tbeucler/SPCAM/'"
   ]
  },
  {
   "cell_type": "code",
   "execution_count": null,
   "metadata": {},
   "outputs": [],
   "source": [
    "pathAQ_0K = path_folder + 'fluxbypass_aqua/AndKua_aqua_SPCAM3.0_sp_fbp_f4.cam2.h1.00'"
   ]
  },
  {
   "cell_type": "code",
   "execution_count": null,
   "metadata": {},
   "outputs": [],
   "source": [
    "coor = xr.open_dataset(pathAQ_0K+'00-03-01-00000.nc')"
   ]
  },
  {
   "cell_type": "markdown",
   "metadata": {},
   "source": [
    "Plot PCA eigenvectors"
   ]
  },
  {
   "cell_type": "code",
   "execution_count": null,
   "metadata": {},
   "outputs": [],
   "source": [
    "eig1 = pca.components_[0,:]"
   ]
  },
  {
   "cell_type": "code",
   "execution_count": null,
   "metadata": {},
   "outputs": [],
   "source": [
    "plt.plot(eig1[:30],coor.lev,label='q')\n",
    "plt.plot(eig1[30:60],coor.lev,label='T')\n",
    "plt.plot(eig1[60:90],coor.lev,label='V')\n",
    "plt.scatter(eig1[90:],[1000,750,500,250])\n",
    "plt.legend()\n",
    "plt.grid()\n",
    "plt.gca().invert_yaxis()"
   ]
  },
  {
   "cell_type": "code",
   "execution_count": null,
   "metadata": {},
   "outputs": [],
   "source": [
    "eig1 = pca.components_[1,:]"
   ]
  },
  {
   "cell_type": "code",
   "execution_count": null,
   "metadata": {},
   "outputs": [],
   "source": [
    "plt.plot(eig1[:30],coor.lev,label='q')\n",
    "plt.plot(eig1[30:60],coor.lev,label='T')\n",
    "plt.plot(eig1[60:90],coor.lev,label='V')\n",
    "plt.scatter(eig1[90:],[1000,750,500,250])\n",
    "plt.legend()\n",
    "plt.grid()\n",
    "plt.gca().invert_yaxis()"
   ]
  },
  {
   "cell_type": "code",
   "execution_count": null,
   "metadata": {},
   "outputs": [],
   "source": [
    "eig1 = pca.components_[2,:]"
   ]
  },
  {
   "cell_type": "code",
   "execution_count": null,
   "metadata": {},
   "outputs": [],
   "source": [
    "plt.plot(eig1[:30],coor.lev,label='q')\n",
    "plt.plot(eig1[30:60],coor.lev,label='T')\n",
    "plt.plot(eig1[60:90],coor.lev,label='V')\n",
    "plt.scatter(eig1[90:],[1000,750,500,250])\n",
    "plt.legend()\n",
    "plt.grid()\n",
    "plt.gca().invert_yaxis()"
   ]
  },
  {
   "cell_type": "code",
   "execution_count": null,
   "metadata": {},
   "outputs": [],
   "source": [
    "eig1 = pca.components_[3,:]"
   ]
  },
  {
   "cell_type": "code",
   "execution_count": null,
   "metadata": {},
   "outputs": [],
   "source": [
    "plt.plot(eig1[:30],coor.lev,label='q')\n",
    "plt.plot(eig1[30:60],coor.lev,label='T')\n",
    "plt.plot(eig1[60:90],coor.lev,label='V')\n",
    "plt.scatter(eig1[90:],[1000,750,500,250])\n",
    "plt.legend()\n",
    "plt.grid()\n",
    "plt.gca().invert_yaxis()"
   ]
  },
  {
   "cell_type": "code",
   "execution_count": null,
   "metadata": {},
   "outputs": [],
   "source": [
    "eig1 = pca.components_[4,:]"
   ]
  },
  {
   "cell_type": "code",
   "execution_count": null,
   "metadata": {},
   "outputs": [],
   "source": [
    "plt.plot(eig1[:30],coor.lev,label='q')\n",
    "plt.plot(eig1[30:60],coor.lev,label='T')\n",
    "plt.plot(eig1[60:90],coor.lev,label='V')\n",
    "plt.scatter(eig1[90:],[1000,750,500,250])\n",
    "plt.legend()\n",
    "plt.grid()\n",
    "plt.gca().invert_yaxis()"
   ]
  },
  {
   "cell_type": "code",
   "execution_count": null,
   "metadata": {},
   "outputs": [],
   "source": [
    "eig1 = pca.components_[5,:]"
   ]
  },
  {
   "cell_type": "code",
   "execution_count": null,
   "metadata": {},
   "outputs": [],
   "source": [
    "plt.plot(eig1[:30],coor.lev,label='q')\n",
    "plt.plot(eig1[30:60],coor.lev,label='T')\n",
    "plt.plot(eig1[60:90],coor.lev,label='V')\n",
    "plt.scatter(eig1[90:],[1000,750,500,250])\n",
    "plt.legend()\n",
    "plt.grid()\n",
    "plt.gca().invert_yaxis()"
   ]
  },
  {
   "cell_type": "markdown",
   "metadata": {},
   "source": [
    "## Transform training dataset using PCA"
   ]
  },
  {
   "cell_type": "markdown",
   "metadata": {},
   "source": [
    "### PCA transform"
   ]
  },
  {
   "cell_type": "markdown",
   "metadata": {},
   "source": [
    "See [https://stackoverflow.com/questions/36566844/pca-projection-and-reconstruction-in-scikit-learn]"
   ]
  },
  {
   "cell_type": "code",
   "execution_count": null,
   "metadata": {},
   "outputs": [],
   "source": [
    "PCA_train_set = pca.transform(new_values)"
   ]
  },
  {
   "cell_type": "code",
   "execution_count": null,
   "metadata": {},
   "outputs": [],
   "source": [
    "PCA_train_set.shape"
   ]
  },
  {
   "cell_type": "code",
   "execution_count": null,
   "metadata": {},
   "outputs": [],
   "source": [
    "PCA_train_set_min = np.min(PCA_train_set)"
   ]
  },
  {
   "cell_type": "code",
   "execution_count": null,
   "metadata": {},
   "outputs": [],
   "source": [
    "PCA_train_set_max = np.max(PCA_train_set)"
   ]
  },
  {
   "cell_type": "code",
   "execution_count": null,
   "metadata": {},
   "outputs": [],
   "source": [
    "PCA_train_set_mean = np.mean(PCA_train_set)"
   ]
  },
  {
   "cell_type": "code",
   "execution_count": null,
   "metadata": {},
   "outputs": [],
   "source": [
    "PCA_train_set_std = np.std(PCA_train_set)"
   ]
  },
  {
   "cell_type": "code",
   "execution_count": null,
   "metadata": {},
   "outputs": [],
   "source": [
    "print('mean,std,min,max=',PCA_train_set_mean,PCA_train_set_std,PCA_train_set_min,PCA_train_set_max)"
   ]
  },
  {
   "cell_type": "markdown",
   "metadata": {},
   "source": [
    "### Save training dataset in netCDF file"
   ]
  },
  {
   "cell_type": "code",
   "execution_count": null,
   "metadata": {},
   "outputs": [],
   "source": [
    "train_data"
   ]
  },
  {
   "cell_type": "code",
   "execution_count": null,
   "metadata": {},
   "outputs": [],
   "source": [
    "train_data['vars'][:,94:].shape"
   ]
  },
  {
   "cell_type": "markdown",
   "metadata": {},
   "source": [
    "Coordinates"
   ]
  },
  {
   "cell_type": "code",
   "execution_count": null,
   "metadata": {},
   "outputs": [],
   "source": [
    "var_names_full = []\n",
    "for i in range(94):\n",
    "    var_names_full.append('PCA_'+str(i+1))\n",
    "var_names_full = np.array(var_names_full)\n",
    "var_names_full = np.append(var_names_full,train_data['var_names'][94:].values)"
   ]
  },
  {
   "cell_type": "code",
   "execution_count": null,
   "metadata": {},
   "outputs": [],
   "source": [
    "var_names_full"
   ]
  },
  {
   "cell_type": "code",
   "execution_count": null,
   "metadata": {},
   "outputs": [],
   "source": [
    "new_coor = {}\n",
    "new_coor['var_names'] = var_names_full"
   ]
  },
  {
   "cell_type": "markdown",
   "metadata": {},
   "source": [
    "Data variables"
   ]
  },
  {
   "cell_type": "code",
   "execution_count": null,
   "metadata": {},
   "outputs": [],
   "source": [
    "PCA_train_set.shape"
   ]
  },
  {
   "cell_type": "code",
   "execution_count": null,
   "metadata": {},
   "outputs": [],
   "source": [
    "full_data = np.concatenate(\n",
    "    (PCA_train_set,\n",
    "     train_data['vars'][:,94:].values),\n",
    "    axis=1\n",
    ")"
   ]
  },
  {
   "cell_type": "code",
   "execution_count": null,
   "metadata": {},
   "outputs": [],
   "source": [
    "full_data.shape"
   ]
  },
  {
   "cell_type": "code",
   "execution_count": null,
   "metadata": {},
   "outputs": [],
   "source": [
    "new_var = {}\n",
    "new_var['vars'] = (['sample','var_names'],full_data)"
   ]
  },
  {
   "cell_type": "code",
   "execution_count": null,
   "metadata": {},
   "outputs": [],
   "source": [
    "new_train = xr.Dataset(\n",
    "    data_vars = new_var,\n",
    "    coords = new_coor\n",
    ")"
   ]
  },
  {
   "cell_type": "code",
   "execution_count": null,
   "metadata": {},
   "outputs": [],
   "source": [
    "new_train"
   ]
  },
  {
   "cell_type": "code",
   "execution_count": null,
   "metadata": {},
   "outputs": [],
   "source": [
    "path_save_train = '/DFS-L/DATA/pritchard/tbeucler/SPCAM/SPCAM_PHYS/2022_01_04_Train_PCA_Nando.nc'"
   ]
  },
  {
   "cell_type": "code",
   "execution_count": null,
   "metadata": {},
   "outputs": [],
   "source": [
    "new_train.to_netcdf(path_save_train,mode='w')"
   ]
  },
  {
   "cell_type": "markdown",
   "metadata": {},
   "source": [
    "### New norm file"
   ]
  },
  {
   "cell_type": "markdown",
   "metadata": {},
   "source": [
    "Coordinates"
   ]
  },
  {
   "cell_type": "code",
   "execution_count": null,
   "metadata": {},
   "outputs": [],
   "source": [
    "norm_dataset"
   ]
  },
  {
   "cell_type": "code",
   "execution_count": null,
   "metadata": {},
   "outputs": [],
   "source": [
    "var_names_full = norm_dataset['var_names'].values\n",
    "var_names_full_single = norm_dataset['var_names_single'].values"
   ]
  },
  {
   "cell_type": "code",
   "execution_count": null,
   "metadata": {},
   "outputs": [],
   "source": [
    "for i in range(94):\n",
    "    var_names_full = np.append(var_names_full,'PCA_'+str(i+1))\n",
    "    var_names_full_single = np.append(var_names_full_single,'PCA_'+str(i+1))"
   ]
  },
  {
   "cell_type": "code",
   "execution_count": null,
   "metadata": {},
   "outputs": [],
   "source": [
    "new_coor = {}\n",
    "new_coor['var_names'] = var_names_full\n",
    "new_coor['var_names_single']= var_names_full_single"
   ]
  },
  {
   "cell_type": "markdown",
   "metadata": {},
   "source": [
    "Data"
   ]
  },
  {
   "cell_type": "code",
   "execution_count": null,
   "metadata": {},
   "outputs": [],
   "source": [
    "norm_data = {}"
   ]
  },
  {
   "cell_type": "code",
   "execution_count": null,
   "metadata": {},
   "outputs": [],
   "source": [
    "KEY = ['mean','std','min','max']"
   ]
  },
  {
   "cell_type": "code",
   "execution_count": null,
   "metadata": {},
   "outputs": [],
   "source": [
    "for key in KEY:\n",
    "    if key=='mean': PCA_key = PCA_train_set_mean\n",
    "    elif key=='std': PCA_key = PCA_train_set_std\n",
    "    elif key=='max': PCA_key = PCA_train_set_max\n",
    "    elif key=='min': PCA_key = PCA_train_set_min\n",
    "    norm_data[key] = norm_dataset[key].values\n",
    "    for i in range(94):\n",
    "        norm_data[key] = np.append(norm_data[key],PCA_key)"
   ]
  },
  {
   "cell_type": "code",
   "execution_count": null,
   "metadata": {},
   "outputs": [],
   "source": [
    "norm_data['mean'].shape"
   ]
  },
  {
   "cell_type": "code",
   "execution_count": null,
   "metadata": {},
   "outputs": [],
   "source": [
    "key0 = 'std_by_var'"
   ]
  },
  {
   "cell_type": "code",
   "execution_count": null,
   "metadata": {},
   "outputs": [],
   "source": [
    "norm_data[key0] = norm_dataset[key0].values\n",
    "for i in range(94): norm_data[key0] = np.append(norm_data[key0],PCA_train_set_std)"
   ]
  },
  {
   "cell_type": "code",
   "execution_count": null,
   "metadata": {},
   "outputs": [],
   "source": [
    "# for i in range(94):\n",
    "#     norm_data['mean'].append(PCA_train_set_mean)\n",
    "#     norm_data['std'].append(PCA_train_set_std)\n",
    "#     norm_data['max'].append(PCA_train_set_max)\n",
    "#     norm_data['min'].append(PCA_train_set_min)\n",
    "#     norm_data['std_by_var'].append(PCA_train_set_std)"
   ]
  },
  {
   "cell_type": "code",
   "execution_count": null,
   "metadata": {},
   "outputs": [],
   "source": [
    "# for key in KEY:\n",
    "#     norm_data[key] = np.array(norm_data[key])"
   ]
  },
  {
   "cell_type": "code",
   "execution_count": null,
   "metadata": {},
   "outputs": [],
   "source": [
    "norm_data_dict = {}"
   ]
  },
  {
   "cell_type": "code",
   "execution_count": null,
   "metadata": {},
   "outputs": [],
   "source": [
    "for key in KEY:\n",
    "    norm_data_dict[key] = (['var_names'],norm_data[key])\n",
    "norm_data_dict[key0] = (['var_names_single'],norm_data[key0])"
   ]
  },
  {
   "cell_type": "code",
   "execution_count": null,
   "metadata": {},
   "outputs": [],
   "source": [
    "new_norm = xr.Dataset(\n",
    "    data_vars = norm_data_dict,\n",
    "    coords = new_coor\n",
    ")"
   ]
  },
  {
   "cell_type": "code",
   "execution_count": null,
   "metadata": {},
   "outputs": [],
   "source": [
    "new_norm"
   ]
  },
  {
   "cell_type": "code",
   "execution_count": null,
   "metadata": {},
   "outputs": [],
   "source": [
    "path_save_norm = '/DFS-L/DATA/pritchard/tbeucler/SPCAM/SPCAM_PHYS/2022_01_04_Norm_PCA_Nando.nc'"
   ]
  },
  {
   "cell_type": "code",
   "execution_count": null,
   "metadata": {},
   "outputs": [],
   "source": [
    "new_norm.to_netcdf(path_save_norm,mode='w')"
   ]
  },
  {
   "cell_type": "markdown",
   "metadata": {},
   "source": [
    "# Try training with different number of PCA components"
   ]
  },
  {
   "cell_type": "markdown",
   "metadata": {},
   "source": [
    "## Load data"
   ]
  },
  {
   "cell_type": "code",
   "execution_count": null,
   "metadata": {},
   "outputs": [],
   "source": [
    "path_save_dir = '/DFS-L/DATA/pritchard/tbeucler/SPCAM/SPCAM_PHYS/'"
   ]
  },
  {
   "cell_type": "code",
   "execution_count": null,
   "metadata": {},
   "outputs": [],
   "source": [
    "path_train = '2022_01_04_Train_PCA_Nando.nc'\n",
    "path_newnorm = '2022_01_04_Norm_PCA_Nando.nc'"
   ]
  },
  {
   "cell_type": "code",
   "execution_count": null,
   "metadata": {},
   "outputs": [],
   "source": [
    "out_vars = ['PHQ','TPHYSTND','FSNT','FSNS','FLNT','FLNS','PRECT']"
   ]
  },
  {
   "cell_type": "markdown",
   "metadata": {},
   "source": [
    "Choose number of PCA components below"
   ]
  },
  {
   "cell_type": "code",
   "execution_count": null,
   "metadata": {},
   "outputs": [],
   "source": [
    "N_PCA = 50"
   ]
  },
  {
   "cell_type": "code",
   "execution_count": null,
   "metadata": {},
   "outputs": [],
   "source": [
    "path_PKL = '/DFS-L/DATA/pritchard/tbeucler/SPCAM/SPCAM_PHYS/PKL_DATA/'\n",
    "path_savePCA = path_PKL + '2022_01_04_PCA_of_2021_09_02_TRAIN_For_Nando.pkl'"
   ]
  },
  {
   "cell_type": "code",
   "execution_count": null,
   "metadata": {},
   "outputs": [],
   "source": [
    "PCA_data = pickle.load(open(path_savePCA,'rb'))"
   ]
  },
  {
   "cell_type": "code",
   "execution_count": null,
   "metadata": {},
   "outputs": [],
   "source": [
    "var_explained = np.cumsum(PCA_data.explained_variance_ratio_)"
   ]
  },
  {
   "cell_type": "code",
   "execution_count": null,
   "metadata": {},
   "outputs": [],
   "source": [
    "print('With '+str(N_PCA)+' PCA components, the explained variance is '+\\\n",
    "      '%02.1f' % (100*var_explained[N_PCA-1])+'% of the total variance')"
   ]
  },
  {
   "cell_type": "code",
   "execution_count": null,
   "metadata": {},
   "outputs": [],
   "source": [
    "in_vars = []\n",
    "for i in range(N_PCA):\n",
    "    in_vars.append('PCA_'+str(i+1))\n",
    "in_vars = np.array(in_vars)"
   ]
  },
  {
   "cell_type": "code",
   "execution_count": null,
   "metadata": {},
   "outputs": [],
   "source": [
    "in_vars"
   ]
  },
  {
   "cell_type": "markdown",
   "metadata": {},
   "source": [
    "## Data generator"
   ]
  },
  {
   "cell_type": "code",
   "execution_count": null,
   "metadata": {},
   "outputs": [],
   "source": [
    "train_gen_PCA = {}"
   ]
  },
  {
   "cell_type": "code",
   "execution_count": null,
   "metadata": {},
   "outputs": [],
   "source": [
    "N_batch = 8192"
   ]
  },
  {
   "cell_type": "code",
   "execution_count": null,
   "metadata": {},
   "outputs": [],
   "source": [
    "train_gen_PCA = DataGeneratorCI(\n",
    "    data_fn = path_save_dir+path_train,\n",
    "    input_vars = in_vars,\n",
    "    output_vars = out_vars,\n",
    "    norm_fn = path_save_dir+path_newnorm,\n",
    "    input_transform = ('mean', 'maxrs'),\n",
    "    output_transform = scale_dict,\n",
    "    batch_size=N_batch\n",
    ")"
   ]
  },
  {
   "cell_type": "code",
   "execution_count": null,
   "metadata": {},
   "outputs": [],
   "source": [
    "test_norm = xr.open_dataset(path_save_dir+path_newnorm)"
   ]
  },
  {
   "cell_type": "code",
   "execution_count": null,
   "metadata": {},
   "outputs": [],
   "source": [
    "test_norm"
   ]
  },
  {
   "cell_type": "code",
   "execution_count": null,
   "metadata": {},
   "outputs": [],
   "source": [
    "train_gen_PCA[0][1]"
   ]
  },
  {
   "cell_type": "markdown",
   "metadata": {},
   "source": [
    "## NN"
   ]
  },
  {
   "cell_type": "code",
   "execution_count": null,
   "metadata": {},
   "outputs": [],
   "source": [
    "inp = Input(shape=(N_PCA,)) ## input after rh and tns transformation\n",
    "densout = Dense(128, activation='linear')(inp)\n",
    "densout = LeakyReLU(alpha=0.3)(densout)\n",
    "for i in range (6):\n",
    "    densout = Dense(128, activation='linear')(densout)\n",
    "    densout = LeakyReLU(alpha=0.3)(densout)\n",
    "dense_out = Dense(65, activation='linear')(densout)\n",
    "model = tf.keras.models.Model(inp, dense_out)"
   ]
  },
  {
   "cell_type": "code",
   "execution_count": null,
   "metadata": {},
   "outputs": [],
   "source": [
    "model.summary()"
   ]
  },
  {
   "cell_type": "code",
   "execution_count": null,
   "metadata": {},
   "outputs": [],
   "source": [
    "model.compile(tf.keras.optimizers.Adam(), loss=mse)"
   ]
  },
  {
   "cell_type": "code",
   "execution_count": null,
   "metadata": {},
   "outputs": [],
   "source": [
    "# Where to save the model\n",
    "path_HDF5 = '/DFS-L/DATA/pritchard/tbeucler/SPCAM/HDF5_DATA/'\n",
    "save_name = '2022_01_04_PCA_'+str(N_PCA)"
   ]
  },
  {
   "cell_type": "code",
   "execution_count": null,
   "metadata": {},
   "outputs": [],
   "source": [
    "earlyStopping = EarlyStopping(monitor='val_loss', patience=10, verbose=0, mode='min')\n",
    "mcp_save_pos = ModelCheckpoint(path_HDF5+save_name+'.hdf5',save_best_only=True, monitor='val_loss', mode='min')"
   ]
  },
  {
   "cell_type": "code",
   "execution_count": null,
   "metadata": {},
   "outputs": [],
   "source": [
    "Nep = 20\n",
    "model.fit_generator(train_gen_PCA, epochs=Nep, validation_data=train_gen_PCA,\\\n",
    "                    callbacks=[earlyStopping, mcp_save_pos])"
   ]
  },
  {
   "attachments": {
    "image.png": {
     "image/png": "[encoded data removed]"
    }
   },
   "cell_type": "markdown",
   "metadata": {},
   "source": [
    "Number of PCA components = 10\n",
    "![image.png](attachment:image.png)"
   ]
  },
  {
   "attachments": {
    "image.png": {
     "image/png": "[encoded data removed]"
    }
   },
   "cell_type": "markdown",
   "metadata": {},
   "source": [
    "Number of PCA components = 15\n",
    "\n",
    "![image.png](attachment:image.png)"
   ]
  },
  {
   "attachments": {
    "image.png": {
     "image/png": "[encoded data removed]"
    }
   },
   "cell_type": "markdown",
   "metadata": {},
   "source": [
    "Number of PCA components = 20\n",
    "![image.png](attachment:image.png)"
   ]
  },
  {
   "attachments": {
    "image.png": {
     "image/png": "[encoded data removed]"
    }
   },
   "cell_type": "markdown",
   "metadata": {},
   "source": [
    "Number of PCA components = 30\n",
    "\n",
    "![image.png](attachment:image.png)"
   ]
  },
  {
   "attachments": {
    "image.png": {
     "image/png": "[encoded data removed]"
    }
   },
   "cell_type": "markdown",
   "metadata": {},
   "source": [
    "Number of PCA components = 50\n",
    "![image.png](attachment:image.png)"
   ]
  },
  {
   "cell_type": "markdown",
   "metadata": {},
   "source": [
    "# Test different causal discovery algorithms on raw vs PCA data"
   ]
  },
  {
   "cell_type": "markdown",
   "metadata": {},
   "source": [
    "## Reorganize the training sets to make them time series"
   ]
  },
  {
   "cell_type": "code",
   "execution_count": null,
   "metadata": {},
   "outputs": [],
   "source": [
    "path_folder = '/DFS-L/DATA/pritchard/tbeucler/SPCAM/'\n",
    "pathAQ_0K = path_folder + 'fluxbypass_aqua/AndKua_aqua_SPCAM3.0_sp_fbp_f4.cam2.h1.00'\n",
    "coor = xr.open_dataset(pathAQ_0K+'00-03-01-00000.nc')"
   ]
  },
  {
   "cell_type": "code",
   "execution_count": null,
   "metadata": {},
   "outputs": [],
   "source": [
    "path_train_raw = path_data + 'Aqua_0K_withVBP/2021_09_02_TRAIN_For_Nando.nc'\n",
    "path_train_PCA = path_data + '2022_01_04_Train_PCA_Nando.nc'\n",
    "path_train_ci = path_data + 'Aqua_0K_ClimInv_withVBP/2021_12_22_TRAIN_For_Nando_CI.nc'"
   ]
  },
  {
   "cell_type": "code",
   "execution_count": null,
   "metadata": {},
   "outputs": [],
   "source": [
    "train_data_raw = xr.open_dataset(path_train_raw)\n",
    "#train_data_PCA = xr.open_dataset(path_train_PCA)\n",
    "train_data_ci = xr.open_dataset(path_train_ci)"
   ]
  },
  {
   "cell_type": "code",
   "execution_count": null,
   "metadata": {},
   "outputs": [],
   "source": [
    "Nlat = 64\n",
    "Nlon = 128\n",
    "NT = int(train_data_raw['vars'].shape[0]/(Nlat*Nlon))\n",
    "Nvars = 159"
   ]
  },
  {
   "cell_type": "code",
   "execution_count": null,
   "metadata": {},
   "outputs": [],
   "source": [
    "inputs_idx = np.arange(0,94)\n",
    "output_idx = np.arange(94,Nvars)"
   ]
  },
  {
   "cell_type": "markdown",
   "metadata": {},
   "source": [
    "### Raw data"
   ]
  },
  {
   "cell_type": "code",
   "execution_count": null,
   "metadata": {},
   "outputs": [],
   "source": [
    "raw_vars = train_data_raw['vars'].values"
   ]
  },
  {
   "cell_type": "code",
   "execution_count": null,
   "metadata": {},
   "outputs": [],
   "source": [
    "raw_vars = np.reshape(raw_vars,(NT,Nlat,Nlon,Nvars))"
   ]
  },
  {
   "cell_type": "code",
   "execution_count": null,
   "metadata": {},
   "outputs": [],
   "source": [
    "raw_vars_name_inp = train_data_raw['var_names'][inputs_idx].values\n",
    "for ivar in range(3):\n",
    "    for ilev in range(30):\n",
    "        raw_vars_name_inp[30*ivar+ilev] = \\\n",
    "        raw_vars_name_inp[30*ivar+ilev] + \\\n",
    "        '%2.0f'%(coor.lev[ilev].values)\n",
    "\n",
    "raw_vars_name_oup = train_data_raw['var_names'][94+np.arange(0,65)].values\n",
    "for ivar in range(2):\n",
    "    for ilev in range(30):\n",
    "        raw_vars_name_oup[30*ivar+ilev] = \\\n",
    "        raw_vars_name_oup[30*ivar+ilev] + \\\n",
    "        '%2.0f'%(coor.lev[ilev].values)"
   ]
  },
  {
   "cell_type": "code",
   "execution_count": null,
   "metadata": {},
   "outputs": [],
   "source": [
    "raw_vars.shape"
   ]
  },
  {
   "cell_type": "code",
   "execution_count": null,
   "metadata": {},
   "outputs": [],
   "source": [
    "iNST = 59"
   ]
  },
  {
   "cell_type": "code",
   "execution_count": null,
   "metadata": {},
   "outputs": [],
   "source": [
    "NST = np.mean(raw_vars[:,:,:,59],axis=0)"
   ]
  },
  {
   "cell_type": "code",
   "execution_count": null,
   "metadata": {},
   "outputs": [],
   "source": [
    "plt.pcolormesh(coor.lon,coor.lat,NST)\n",
    "plt.colorbar()\n",
    "plt.title('Variable is '+(train_data_raw['var_names'].values)[iNST]+' ('+str(iNST)+')');\n",
    "plt.xlabel('Longitude');\n",
    "plt.ylabel('Latitude');"
   ]
  },
  {
   "cell_type": "code",
   "execution_count": null,
   "metadata": {},
   "outputs": [],
   "source": [
    "raw_vars_name_inp"
   ]
  },
  {
   "cell_type": "code",
   "execution_count": null,
   "metadata": {},
   "outputs": [],
   "source": [
    "raw_vars_name_oup"
   ]
  },
  {
   "cell_type": "markdown",
   "metadata": {},
   "source": [
    "### PCA data"
   ]
  },
  {
   "cell_type": "code",
   "execution_count": null,
   "metadata": {},
   "outputs": [],
   "source": [
    "pca_vars = train_data_PCA['vars'].values"
   ]
  },
  {
   "cell_type": "code",
   "execution_count": null,
   "metadata": {},
   "outputs": [],
   "source": [
    "pca_vars = np.reshape(pca_vars,(NT,Nlat,Nlon,Nvars))"
   ]
  },
  {
   "cell_type": "code",
   "execution_count": null,
   "metadata": {},
   "outputs": [],
   "source": [
    "pca_vars.shape"
   ]
  },
  {
   "cell_type": "code",
   "execution_count": null,
   "metadata": {},
   "outputs": [],
   "source": [
    "iPCA1 = 0"
   ]
  },
  {
   "cell_type": "code",
   "execution_count": null,
   "metadata": {},
   "outputs": [],
   "source": [
    "PCA1 = np.mean(pca_vars[:,:,:,iPCA1],axis=0)"
   ]
  },
  {
   "cell_type": "code",
   "execution_count": null,
   "metadata": {},
   "outputs": [],
   "source": [
    "plt.pcolormesh(coor.lon,coor.lat,PCA1)\n",
    "plt.colorbar()\n",
    "plt.title('Variable is '+(train_data_PCA['var_names'].values)[iPCA1]+' ('+str(iPCA1)+')');\n",
    "plt.xlabel('Longitude');\n",
    "plt.ylabel('Latitude');"
   ]
  },
  {
   "cell_type": "code",
   "execution_count": null,
   "metadata": {},
   "outputs": [],
   "source": [
    "pca_vars_name_inp = train_data_PCA['var_names'][inputs_idx].values\n",
    "\n",
    "pca_vars_name_oup = train_data_PCA['var_names'][94+np.arange(0,65)].values\n",
    "for ivar in range(2):\n",
    "    for ilev in range(30):\n",
    "        pca_vars_name_oup[30*ivar+ilev] = \\\n",
    "        pca_vars_name_oup[30*ivar+ilev] + \\\n",
    "        '%2.0f'%(coor.lev[ilev].values)"
   ]
  },
  {
   "cell_type": "markdown",
   "metadata": {},
   "source": [
    "### PCA data truncated to 30 components"
   ]
  },
  {
   "cell_type": "code",
   "execution_count": null,
   "metadata": {},
   "outputs": [],
   "source": [
    "idx_trunc = np.concatenate((np.arange(0,30),np.arange(94,159)))"
   ]
  },
  {
   "cell_type": "code",
   "execution_count": null,
   "metadata": {},
   "outputs": [],
   "source": [
    "pca_vars.shape"
   ]
  },
  {
   "cell_type": "code",
   "execution_count": null,
   "metadata": {},
   "outputs": [],
   "source": [
    "pca30 = pca_vars[:,:,:,idx_trunc]"
   ]
  },
  {
   "cell_type": "code",
   "execution_count": null,
   "metadata": {},
   "outputs": [],
   "source": [
    "pca30_vars_name_inp = train_data_PCA['var_names'][np.arange(0,30)].values\n",
    "\n",
    "pca_vars_name_oup = train_data_PCA['var_names'][94+np.arange(0,65)].values\n",
    "for ivar in range(2):\n",
    "    for ilev in range(30):\n",
    "        pca_vars_name_oup[30*ivar+ilev] = \\\n",
    "        pca_vars_name_oup[30*ivar+ilev] + \\\n",
    "        '%2.0f'%(coor.lev[ilev].values)"
   ]
  },
  {
   "cell_type": "markdown",
   "metadata": {},
   "source": [
    "### Climate-invariant data"
   ]
  },
  {
   "cell_type": "code",
   "execution_count": null,
   "metadata": {},
   "outputs": [],
   "source": [
    "ci_vars = train_data_ci['vars'].values"
   ]
  },
  {
   "cell_type": "code",
   "execution_count": null,
   "metadata": {},
   "outputs": [],
   "source": [
    "Nlat = 64\n",
    "Nlon = 128\n",
    "NT = int(train_data_ci['vars'].shape[0]/(Nlat*Nlon))\n",
    "Nvars = 159"
   ]
  },
  {
   "cell_type": "code",
   "execution_count": null,
   "metadata": {},
   "outputs": [],
   "source": [
    "ci_vars = np.reshape(ci_vars,(NT,Nlat,Nlon,Nvars))"
   ]
  },
  {
   "cell_type": "code",
   "execution_count": null,
   "metadata": {},
   "outputs": [],
   "source": [
    "ci_vars_name_inp = train_data_ci['var_names'][inputs_idx].values\n",
    "for ivar in range(3):\n",
    "    for ilev in range(30):\n",
    "        ci_vars_name_inp[30*ivar+ilev] = \\\n",
    "        ci_vars_name_inp[30*ivar+ilev] + \\\n",
    "        '%2.0f'%(coor.lev[ilev].values)\n",
    "\n",
    "ci_vars_name_oup = train_data_ci['var_names'][94+np.arange(0,65)].values\n",
    "for ivar in range(2):\n",
    "    for ilev in range(30):\n",
    "        ci_vars_name_oup[30*ivar+ilev] = \\\n",
    "        ci_vars_name_oup[30*ivar+ilev] + \\\n",
    "        '%2.0f'%(coor.lev[ilev].values)"
   ]
  },
  {
   "cell_type": "code",
   "execution_count": null,
   "metadata": {},
   "outputs": [],
   "source": [
    "ci_vars_name_oup"
   ]
  },
  {
   "cell_type": "code",
   "execution_count": null,
   "metadata": {},
   "outputs": [],
   "source": [
    "iNSB = 59"
   ]
  },
  {
   "cell_type": "code",
   "execution_count": null,
   "metadata": {},
   "outputs": [],
   "source": [
    "NSB = np.mean(ci_vars[:,:,:,iNSB],axis=0)"
   ]
  },
  {
   "cell_type": "code",
   "execution_count": null,
   "metadata": {},
   "outputs": [],
   "source": [
    "plt.pcolormesh(coor.lon,coor.lat,NSB)\n",
    "plt.colorbar()\n",
    "plt.title('Variable is '+(train_data_ci['var_names'].values)[iNSB]+' ('+str(iNSB)+')');\n",
    "plt.xlabel('Longitude');\n",
    "plt.ylabel('Latitude');"
   ]
  },
  {
   "cell_type": "markdown",
   "metadata": {},
   "source": [
    "## Basic experiments with TIGRAMITE"
   ]
  },
  {
   "cell_type": "code",
   "execution_count": null,
   "metadata": {},
   "outputs": [],
   "source": [
    "import tigramite\n",
    "from tigramite import data_processing as pp\n",
    "from tigramite import plotting as tp\n",
    "from tigramite.pcmci import PCMCI\n",
    "from tigramite.independence_tests import ParCorr, GPDC, CMIknn, CMIsymb"
   ]
  },
  {
   "cell_type": "markdown",
   "metadata": {},
   "source": [
    "Utilities from Brei and Nando"
   ]
  },
  {
   "cell_type": "code",
   "execution_count": null,
   "metadata": {},
   "outputs": [],
   "source": [
    "def select_links(tau_min, tau_max, parents, children):\n",
    "    \"\"\"\n",
    "    This function selects the causal links that will be tested by\n",
    "    PCMCI. The links are selected such that per each variable in\n",
    "    `children` all `parents` are stablished as causes, and no other\n",
    "    causal relationships exist.\n",
    "    \n",
    "    Assumes `parents` and `children` are disjoint sets, and that all\n",
    "    variables are included in the union of both sets.\n",
    "    \n",
    "    Parameters\n",
    "    ----------\n",
    "    tau_min : int\n",
    "        Minimum time lag to test. Note that zero-lags are undirected.\n",
    "    tau_max : int\n",
    "        Maximum time lag. Must be larger or equal to tau_min.\n",
    "    parents : set of int\n",
    "        List of variables that will be assigned as a parent link.\n",
    "        Assumed to be disjoint with children\n",
    "    children : set of int\n",
    "        List of variables that will be assigned a link from a parent.\n",
    "        Assumed to be disjoint with parents\n",
    "    Returns\n",
    "    -------\n",
    "    selected_links: dict\n",
    "        Dictionary of selected links for Tigramite\n",
    "        \n",
    "    \"\"\"\n",
    "\n",
    "    parents = set(parents)\n",
    "    children = set(children)\n",
    "\n",
    "    selected_links = dict()\n",
    "    # Set the default as all combinations of the selected variables\n",
    "    for var in [*children, *parents]:\n",
    "        if var in children:\n",
    "            # Children can be caused only by parents and by themselves\n",
    "            selected_links[var] = [\n",
    "                (parent, -lag)\n",
    "                for parent in parents\n",
    "                for lag in range(tau_min, tau_max + 1)\n",
    "            ]\n",
    "        else:\n",
    "            selected_links[var] = []\n",
    "\n",
    "    return selected_links"
   ]
  },
  {
   "cell_type": "code",
   "execution_count": null,
   "metadata": {},
   "outputs": [],
   "source": [
    "pp.DataFrame"
   ]
  },
  {
   "cell_type": "markdown",
   "metadata": {},
   "source": [
    "### Raw data, single latitude and longitude"
   ]
  },
  {
   "cell_type": "markdown",
   "metadata": {},
   "source": [
    "Pick latitude and longitude"
   ]
  },
  {
   "cell_type": "code",
   "execution_count": null,
   "metadata": {},
   "outputs": [],
   "source": [
    "lon_test = 150\n",
    "lat_test = 5"
   ]
  },
  {
   "cell_type": "code",
   "execution_count": null,
   "metadata": {},
   "outputs": [],
   "source": [
    "ilon = np.argmin(np.abs(lon_test-coor.lon.values))\n",
    "ilat = np.argmin(np.abs(lat_test-coor.lat.values))"
   ]
  },
  {
   "cell_type": "markdown",
   "metadata": {},
   "source": [
    "Pick variables"
   ]
  },
  {
   "cell_type": "code",
   "execution_count": null,
   "metadata": {},
   "outputs": [],
   "source": [
    "inputs_idx = np.arange(0,94)\n",
    "output_idx = [158]"
   ]
  },
  {
   "cell_type": "code",
   "execution_count": null,
   "metadata": {},
   "outputs": [],
   "source": [
    "inpoup_idx = np.concatenate((inputs_idx,output_idx))"
   ]
  },
  {
   "cell_type": "code",
   "execution_count": null,
   "metadata": {},
   "outputs": [],
   "source": [
    "raw_vars_test = raw_vars[:,ilat,ilon,inpoup_idx]"
   ]
  },
  {
   "cell_type": "code",
   "execution_count": null,
   "metadata": {},
   "outputs": [],
   "source": [
    "raw_vars_time = DT*np.arange(0,raw_vars_test.shape[0])/(24*3600)"
   ]
  },
  {
   "cell_type": "code",
   "execution_count": null,
   "metadata": {},
   "outputs": [],
   "source": [
    "raw_vars_name = train_data_raw['var_names'][inpoup_idx].values\n",
    "for ivar in range(3):\n",
    "    for ilev in range(30):\n",
    "        raw_vars_name[30*ivar+ilev] = \\\n",
    "        raw_vars_name[30*ivar+ilev] + \\\n",
    "        '%2.0f'%(coor.lev[ilev].values)"
   ]
  },
  {
   "cell_type": "code",
   "execution_count": null,
   "metadata": {},
   "outputs": [],
   "source": [
    "raw_vars_frame = pp.DataFrame(raw_vars_test,datatime=raw_vars_time,var_names=raw_vars_name)"
   ]
  },
  {
   "cell_type": "code",
   "execution_count": null,
   "metadata": {},
   "outputs": [],
   "source": [
    "parcorr = ParCorr(significance='analytic')\n",
    "pcmci = PCMCI(\n",
    "    dataframe=raw_vars_frame,\n",
    "    cond_ind_test=parcorr,\n",
    "    verbosity=1)"
   ]
  },
  {
   "cell_type": "code",
   "execution_count": null,
   "metadata": {},
   "outputs": [],
   "source": [
    "tau_min = 0\n",
    "tau_max = 0\n",
    "children = [94]\n",
    "parents = np.arange(0,94)"
   ]
  },
  {
   "cell_type": "code",
   "execution_count": null,
   "metadata": {},
   "outputs": [],
   "source": [
    "pcmci.var_names.shape"
   ]
  },
  {
   "cell_type": "code",
   "execution_count": null,
   "metadata": {},
   "outputs": [],
   "source": [
    "parents"
   ]
  },
  {
   "cell_type": "code",
   "execution_count": null,
   "metadata": {},
   "outputs": [],
   "source": [
    "children"
   ]
  },
  {
   "cell_type": "code",
   "execution_count": null,
   "metadata": {},
   "outputs": [],
   "source": [
    "sel_links = select_links(tau_min, tau_max, parents, children)"
   ]
  },
  {
   "cell_type": "code",
   "execution_count": null,
   "metadata": {},
   "outputs": [],
   "source": [
    "correlations = pcmci.get_lagged_dependencies(sel_links, \n",
    "                                             tau_min=tau_min,tau_max=tau_max,\n",
    "                                             val_only=True)['val_matrix']"
   ]
  },
  {
   "cell_type": "code",
   "execution_count": null,
   "metadata": {},
   "outputs": [],
   "source": [
    "correlations.shape"
   ]
  },
  {
   "cell_type": "code",
   "execution_count": null,
   "metadata": {},
   "outputs": [],
   "source": [
    "plt.figure(figsize=(30,5))\n",
    "plt.plot(np.arange(0,95),0*np.arange(0,95)**0,color='gray',linewidth=2*lw)\n",
    "plt.plot(correlations[:,-1,0],label='PRECT[t+dt] & X[t]')\n",
    "plt.xticks(np.arange(0,95),raw_vars_name,rotation='vertical')\n",
    "plt.ylabel('Correlation')\n",
    "plt.xlabel('Input index')\n",
    "plt.grid()\n",
    "plt.legend()"
   ]
  },
  {
   "cell_type": "code",
   "execution_count": null,
   "metadata": {},
   "outputs": [],
   "source": [
    "pcmci.verbosity = 1\n",
    "results = pcmci.run_pcmci(selected_links = sel_links, tau_min = 0, tau_max=0, pc_alpha=None)"
   ]
  },
  {
   "cell_type": "code",
   "execution_count": null,
   "metadata": {},
   "outputs": [],
   "source": [
    "results.keys()"
   ]
  },
  {
   "cell_type": "code",
   "execution_count": null,
   "metadata": {},
   "outputs": [],
   "source": [
    "plt.plot(results['p_matrix'][:,-1,0])\n",
    "plt.axhline(y=0.05,color='k')\n",
    "plt.title('Number of points with p<0.05 is '+str(np.sum(results['p_matrix'][:,-1,0]<0.05)))"
   ]
  },
  {
   "cell_type": "code",
   "execution_count": null,
   "metadata": {},
   "outputs": [],
   "source": [
    "results['p_matrix'].shape"
   ]
  },
  {
   "cell_type": "markdown",
   "metadata": {},
   "source": [
    "Repeat for all the named variables"
   ]
  },
  {
   "cell_type": "code",
   "execution_count": null,
   "metadata": {},
   "outputs": [],
   "source": [
    "tau_min = 0\n",
    "tau_max = 0\n",
    "children = [94]\n",
    "parents = np.arange(0,94)"
   ]
  },
  {
   "cell_type": "code",
   "execution_count": null,
   "metadata": {},
   "outputs": [],
   "source": [
    "val = {}\n",
    "pmat = {}\n",
    "link = {}\n",
    "nlink = np.zeros((159-94,))"
   ]
  },
  {
   "cell_type": "code",
   "execution_count": null,
   "metadata": {},
   "outputs": [],
   "source": [
    "for ioup in np.arange(96,159):\n",
    "    print('ioup=',ioup,'          ',end='\\r')\n",
    "    raw_vars_test = raw_vars[:,ilat,ilon,np.concatenate((inputs_idx,[ioup]))]\n",
    "    raw_vars_frame = pp.DataFrame(raw_vars_test,datatime=raw_vars_time,var_names=raw_vars_name)\n",
    "    pcmci = PCMCI(dataframe=raw_vars_frame,cond_ind_test=parcorr,verbosity=0);\n",
    "    results = pcmci.run_pcmci(selected_links = sel_links, tau_min = 0, tau_max=0, pc_alpha=None)\n",
    "    val[ioup] = results['val_matrix']\n",
    "    pmat[ioup] = results['p_matrix']\n",
    "    q_matrix = pcmci.get_corrected_pvalues(p_matrix=results['p_matrix'], tau_max=1, fdr_method='fdr_bh')\n",
    "    link[ioup] = pcmci.return_significant_links(pq_matrix=q_matrix,\n",
    "                                                val_matrix=results['val_matrix'],\n",
    "                                                alpha_level=0.01)['link_matrix']\n",
    "    nlink[ioup-94] = np.sum(link[ioup])"
   ]
  },
  {
   "cell_type": "code",
   "execution_count": null,
   "metadata": {},
   "outputs": [],
   "source": [
    "train_data_raw['var_names'][94+np.arange(0,65)].values"
   ]
  },
  {
   "cell_type": "code",
   "execution_count": null,
   "metadata": {},
   "outputs": [],
   "source": [
    "plt.figure(figsize=(20,5))\n",
    "plt.plot(nlink)\n",
    "plt.xticks(np.arange(0,65),raw_vars_name_oup,rotation='vertical');\n",
    "plt.grid()\n",
    "plt.ylabel('Number of links')"
   ]
  },
  {
   "cell_type": "code",
   "execution_count": null,
   "metadata": {},
   "outputs": [],
   "source": [
    "ioup = 94+29\n",
    "print(raw_vars_name_oup[ioup-94],'is connected to',raw_vars_name_inp[link[ioup][:-1,-1,0]])"
   ]
  },
  {
   "cell_type": "code",
   "execution_count": null,
   "metadata": {},
   "outputs": [],
   "source": [
    "ioup = 94+29+30\n",
    "print(raw_vars_name_oup[ioup-94],'is connected to',raw_vars_name_inp[link[ioup][:-1,-1,0]])"
   ]
  },
  {
   "cell_type": "code",
   "execution_count": null,
   "metadata": {},
   "outputs": [],
   "source": [
    "ioup = 94+29+30\n",
    "print(raw_vars_name_oup[ioup-94],'is connected to',raw_vars_name_inp[link[ioup][:-1,-1,0]])"
   ]
  },
  {
   "cell_type": "markdown",
   "metadata": {},
   "source": [
    "### Raw data with tendencies from previous timestep"
   ]
  },
  {
   "cell_type": "code",
   "execution_count": null,
   "metadata": {},
   "outputs": [],
   "source": [
    "raw_vars.shape"
   ]
  },
  {
   "cell_type": "code",
   "execution_count": null,
   "metadata": {},
   "outputs": [],
   "source": [
    "tau_min = 0\n",
    "tau_max = 0\n",
    "children = [Nvars-2] # -2 because excluding the first two PHQ that are constant (0)\n",
    "parents = np.arange(0,Nvars-2)"
   ]
  },
  {
   "cell_type": "code",
   "execution_count": null,
   "metadata": {},
   "outputs": [],
   "source": [
    "sel_links = select_links(tau_min, tau_max, parents, children)"
   ]
  },
  {
   "cell_type": "code",
   "execution_count": null,
   "metadata": {},
   "outputs": [],
   "source": [
    "sel_links"
   ]
  },
  {
   "cell_type": "code",
   "execution_count": null,
   "metadata": {},
   "outputs": [],
   "source": [
    "val = {}\n",
    "pmat = {}\n",
    "link = {}\n",
    "nlink = np.zeros((Nvars-2,))"
   ]
  },
  {
   "cell_type": "code",
   "execution_count": null,
   "metadata": {},
   "outputs": [],
   "source": [
    "raw_vars_time = DT*np.arange(0,raw_vars.shape[0]-1)/(24*3600)"
   ]
  },
  {
   "cell_type": "code",
   "execution_count": null,
   "metadata": {},
   "outputs": [],
   "source": [
    "parcorr = ParCorr(significance='analytic')"
   ]
  },
  {
   "cell_type": "code",
   "execution_count": null,
   "metadata": {},
   "outputs": [],
   "source": [
    "for ioup in np.arange(96,Nvars):\n",
    "    print('ioup=',ioup,'          ',end='\\r')\n",
    "    raw_vars_inp = raw_vars[1:,ilat,ilon,inputs_idx]\n",
    "    raw_vars_oup = raw_vars[1:,ilat,ilon,[ioup]]\n",
    "    raw_vars_oup_previous_timestep = raw_vars[:-1,ilat,ilon,output_idx[2:]]\n",
    "    raw_vars_combined = np.concatenate((raw_vars_inp,\n",
    "                                        raw_vars_oup_previous_timestep,\n",
    "                                        raw_vars_oup),axis=-1)\n",
    "    raw_vars_nam = np.concatenate((raw_vars_name_inp+'[t]',\n",
    "                                   raw_vars_name_oup[2:]+'[t-DT]',\n",
    "                                   [raw_vars_name_oup[ioup-94]+'t']))\n",
    "    raw_vars_frame = pp.DataFrame(raw_vars_combined,datatime=raw_vars_time,var_names=raw_vars_nam)\n",
    "    pcmci = PCMCI(dataframe=raw_vars_frame,cond_ind_test=parcorr,verbosity=0);\n",
    "    results = pcmci.run_pcmci(selected_links = sel_links, tau_min = 0, tau_max=0, pc_alpha=None)\n",
    "    val[ioup] = results['val_matrix'][:,-1,0]\n",
    "    pmat[ioup] = results['p_matrix'][:,-1,0]\n",
    "    q_matrix = pcmci.get_corrected_pvalues(p_matrix=results['p_matrix'], tau_max=0, fdr_method='fdr_bh')\n",
    "    link[ioup] = pcmci.return_significant_links(pq_matrix=q_matrix,\n",
    "                                                val_matrix=results['val_matrix'],\n",
    "                                                alpha_level=0.01)['link_matrix']\n",
    "    link[ioup] = link[ioup][:,-1,0]\n",
    "    nlink[ioup-94] = np.sum(link[ioup])"
   ]
  },
  {
   "cell_type": "markdown",
   "metadata": {},
   "source": [
    "Compare with what we would find using simple correlations"
   ]
  },
  {
   "cell_type": "code",
   "execution_count": null,
   "metadata": {},
   "outputs": [],
   "source": [
    "corr  = {}"
   ]
  },
  {
   "cell_type": "code",
   "execution_count": null,
   "metadata": {},
   "outputs": [],
   "source": [
    "for ioup in np.arange(96,Nvars):\n",
    "    print('ioup=',ioup,'          ',end='\\r')\n",
    "    raw_vars_inp = raw_vars[1:,ilat,ilon,inputs_idx]\n",
    "    raw_vars_oup = raw_vars[1:,ilat,ilon,[ioup]]\n",
    "    raw_vars_oup_previous_timestep = raw_vars[:-1,ilat,ilon,output_idx[2:]]\n",
    "    raw_vars_combined = np.concatenate((raw_vars_inp,\n",
    "                                        raw_vars_oup_previous_timestep),axis=-1)\n",
    "    corr[ioup] = np.zeros((Nvars-2,))\n",
    "    for ivar in range(Nvars-2):\n",
    "        corr[ioup][ivar] = np.corrcoef(x=raw_vars_combined[:,ivar],y=raw_vars_oup[:,0])[0,1]"
   ]
  },
  {
   "cell_type": "markdown",
   "metadata": {},
   "source": [
    "Visualization"
   ]
  },
  {
   "cell_type": "code",
   "execution_count": null,
   "metadata": {},
   "outputs": [],
   "source": [
    "ioup = 94+29\n",
    "plt.figure(figsize=(15,5))\n",
    "raw_vars_nam = np.concatenate((raw_vars_name_inp+' [t]',\n",
    "                               raw_vars_name_oup[2:]+' [t-DT]',\n",
    "                               [raw_vars_name_oup[ioup-94]+' [t]']))\n",
    "plt.axhline(y=0,color='k')\n",
    "plt.plot(val[ioup][link[ioup]])\n",
    "plt.plot(corr[ioup][link[ioup][:-1]],color='g')\n",
    "plt.xticks(np.arange(0,int(nlink[ioup-94])),raw_vars_nam[link[ioup]],rotation='vertical');\n",
    "plt.title(raw_vars_name_oup[ioup-94]+' significant connections ('+str(int(nlink[ioup-94]))+')')\n",
    "plt.ylabel('Correlation coefficient')\n",
    "plt.grid()"
   ]
  },
  {
   "cell_type": "code",
   "execution_count": null,
   "metadata": {},
   "outputs": [],
   "source": [
    "raw_vars_nam[np.flip(np.argsort(np.abs(corr[ioup])))][:23]"
   ]
  },
  {
   "cell_type": "code",
   "execution_count": null,
   "metadata": {},
   "outputs": [],
   "source": [
    "ioup = 94+29+30\n",
    "plt.figure(figsize=(15,5))\n",
    "raw_vars_nam = np.concatenate((raw_vars_name_inp+' [t]',\n",
    "                               raw_vars_name_oup[2:]+' [t-DT]',\n",
    "                               [raw_vars_name_oup[ioup-94]+' [t]']))\n",
    "plt.axhline(y=0,color='k')\n",
    "plt.plot(val[ioup][link[ioup]])\n",
    "plt.xticks(np.arange(0,int(nlink[ioup-94])),raw_vars_nam[link[ioup]],rotation='vertical');\n",
    "plt.title(raw_vars_name_oup[ioup-94]+' significant connections ('+str(int(nlink[ioup-94]))+')')\n",
    "plt.ylabel('Correlation')\n",
    "plt.grid()"
   ]
  },
  {
   "cell_type": "code",
   "execution_count": null,
   "metadata": {},
   "outputs": [],
   "source": [
    "raw_vars_nam[np.flip(np.argsort(np.abs(corr[ioup])))][:48]"
   ]
  },
  {
   "cell_type": "markdown",
   "metadata": {},
   "source": [
    "### Raw data, can PCMCI find optimal time lag?"
   ]
  },
  {
   "cell_type": "code",
   "execution_count": null,
   "metadata": {},
   "outputs": [],
   "source": [
    "lon_test = 150\n",
    "lat_test = 5"
   ]
  },
  {
   "cell_type": "code",
   "execution_count": null,
   "metadata": {},
   "outputs": [],
   "source": [
    "ilon = np.argmin(np.abs(lon_test-coor.lon.values))\n",
    "ilat = np.argmin(np.abs(lat_test-coor.lat.values))"
   ]
  },
  {
   "cell_type": "code",
   "execution_count": null,
   "metadata": {},
   "outputs": [],
   "source": [
    "tau_min = 0\n",
    "tau_max = 10\n",
    "children = [Nvars-2] # -2 because excluding the first two PHQ that are constant (0)\n",
    "parents = np.arange(0,Nvars-2)"
   ]
  },
  {
   "cell_type": "code",
   "execution_count": null,
   "metadata": {},
   "outputs": [],
   "source": [
    "raw_vars_time = DT*np.arange(0,raw_vars.shape[0]-1)/(24*3600)"
   ]
  },
  {
   "cell_type": "code",
   "execution_count": null,
   "metadata": {},
   "outputs": [],
   "source": [
    "parcorr = ParCorr(significance='analytic')"
   ]
  },
  {
   "cell_type": "code",
   "execution_count": null,
   "metadata": {},
   "outputs": [],
   "source": [
    "sel_links = select_links(tau_min, tau_max, parents, children)"
   ]
  },
  {
   "cell_type": "code",
   "execution_count": null,
   "metadata": {},
   "outputs": [],
   "source": [
    "val = {}\n",
    "pmat = {}\n",
    "link = {}\n",
    "nlink = np.zeros((Nvars-2,11))"
   ]
  },
  {
   "cell_type": "code",
   "execution_count": null,
   "metadata": {},
   "outputs": [],
   "source": [
    "for ioup in np.arange(96,Nvars):\n",
    "    print('ioup=',ioup,'          ',end='\\r')\n",
    "    raw_vars_inp = raw_vars[1:,ilat,ilon,inputs_idx]\n",
    "    raw_vars_oup = raw_vars[1:,ilat,ilon,[ioup]]\n",
    "    raw_vars_oup_previous_timestep = raw_vars[:-1,ilat,ilon,output_idx[2:]]\n",
    "    raw_vars_combined = np.concatenate((raw_vars_inp,\n",
    "                                        raw_vars_oup_previous_timestep,\n",
    "                                        raw_vars_oup),axis=-1)\n",
    "    raw_vars_nam = np.concatenate((raw_vars_name_inp+'[t]',\n",
    "                                   raw_vars_name_oup[2:]+'[t-DT]',\n",
    "                                   [raw_vars_name_oup[ioup-94]+'t']))\n",
    "    raw_vars_frame = pp.DataFrame(raw_vars_combined,datatime=raw_vars_time,var_names=raw_vars_nam)\n",
    "    pcmci = PCMCI(dataframe=raw_vars_frame,cond_ind_test=parcorr,verbosity=0);\n",
    "    results = pcmci.run_pcmci(selected_links = sel_links, tau_min = 0, tau_max=tau_max, pc_alpha=None)\n",
    "    val[ioup] = results['val_matrix'][:,-1,:]\n",
    "    pmat[ioup] = results['p_matrix'][:,-1,:]\n",
    "    q_matrix = pcmci.get_corrected_pvalues(p_matrix=results['p_matrix'], tau_max=tau_max, fdr_method='fdr_bh')\n",
    "    link[ioup] = pcmci.return_significant_links(pq_matrix=q_matrix,\n",
    "                                                val_matrix=results['val_matrix'],\n",
    "                                                alpha_level=0.01)['link_matrix']\n",
    "    link[ioup] = link[ioup][:,-1,:]\n",
    "    nlink[ioup-94] = np.sum(link[ioup],axis=0)"
   ]
  },
  {
   "cell_type": "code",
   "execution_count": null,
   "metadata": {},
   "outputs": [],
   "source": [
    "nlink"
   ]
  },
  {
   "cell_type": "code",
   "execution_count": null,
   "metadata": {},
   "outputs": [],
   "source": [
    "nlink.shape"
   ]
  },
  {
   "cell_type": "code",
   "execution_count": null,
   "metadata": {},
   "outputs": [],
   "source": [
    "plt.matshow(nlink[:65,:],cmap='PuBuGn')\n",
    "plt.yticks(np.arange(0,65),raw_vars_name_oup);\n",
    "plt.title('Tau (timestep)')\n",
    "plt.colorbar()"
   ]
  },
  {
   "cell_type": "code",
   "execution_count": null,
   "metadata": {},
   "outputs": [],
   "source": [
    "ioup = 94+29\n",
    "for itau in range(10):\n",
    "    plt.figure(figsize=(15,5))\n",
    "    raw_vars_nam = np.concatenate((raw_vars_name_inp+' [t]',\n",
    "                                   raw_vars_name_oup[2:]+' [t-DT]',\n",
    "                                   [raw_vars_name_oup[ioup-94]+' [t]']))\n",
    "    linktau = link[ioup][:,itau]\n",
    "    plt.axhline(y=0,color='k')\n",
    "    plt.plot(val[ioup][:,itau][linktau])\n",
    "    plt.xticks(np.arange(0,int(nlink[ioup-94,itau])),raw_vars_nam[linktau],rotation='vertical');\n",
    "    plt.title(raw_vars_name_oup[ioup-94]+' significant connections ('+str(int(nlink[ioup-94,itau]))+')')\n",
    "    plt.ylabel('Correlation coefficient')\n",
    "    plt.grid()"
   ]
  },
  {
   "cell_type": "code",
   "execution_count": null,
   "metadata": {},
   "outputs": [],
   "source": [
    "ioup = 94+29+30\n",
    "for itau in range(10):\n",
    "    plt.figure(figsize=(15,5))\n",
    "    raw_vars_nam = np.concatenate((raw_vars_name_inp+' [t]',\n",
    "                                   raw_vars_name_oup[2:]+' [t-DT]',\n",
    "                                   [raw_vars_name_oup[ioup-94]+' [t]']))\n",
    "    linktau = link[ioup][:,itau]\n",
    "    plt.axhline(y=0,color='k')\n",
    "    plt.plot(val[ioup][:,itau][linktau])\n",
    "    plt.xticks(np.arange(0,int(nlink[ioup-94,itau])),raw_vars_nam[linktau],rotation='vertical');\n",
    "    plt.title(raw_vars_name_oup[ioup-94]+' significant connections ('+str(int(nlink[ioup-94,itau]))+')')\n",
    "    plt.ylabel('Correlation coefficient')\n",
    "    plt.grid()"
   ]
  },
  {
   "cell_type": "code",
   "execution_count": null,
   "metadata": {},
   "outputs": [],
   "source": []
  },
  {
   "cell_type": "markdown",
   "metadata": {},
   "source": [
    "### PCA data, single latitude and longitude"
   ]
  },
  {
   "cell_type": "code",
   "execution_count": null,
   "metadata": {},
   "outputs": [],
   "source": [
    "lon_test = 150\n",
    "lat_test = 5\n",
    "ilon = np.argmin(np.abs(lon_test-coor.lon.values))\n",
    "ilat = np.argmin(np.abs(lat_test-coor.lat.values))\n",
    "inputs_idx = np.arange(0,94)"
   ]
  },
  {
   "cell_type": "code",
   "execution_count": null,
   "metadata": {},
   "outputs": [],
   "source": [
    "val_pca = {}\n",
    "pmat_pca = {}\n",
    "link_pca = {}\n",
    "nlink_pca = np.zeros((159-94,))"
   ]
  },
  {
   "cell_type": "code",
   "execution_count": null,
   "metadata": {},
   "outputs": [],
   "source": [
    "pca_vars_time = DT*np.arange(0,pca_vars_test.shape[0])/(24*3600)"
   ]
  },
  {
   "cell_type": "code",
   "execution_count": null,
   "metadata": {},
   "outputs": [],
   "source": [
    "parcorr = ParCorr(significance='analytic')"
   ]
  },
  {
   "cell_type": "code",
   "execution_count": null,
   "metadata": {},
   "outputs": [],
   "source": [
    "sel_links = select_links(0, 0, np.arange(0,94), [94])"
   ]
  },
  {
   "cell_type": "code",
   "execution_count": null,
   "metadata": {},
   "outputs": [],
   "source": [
    "for ioup in np.arange(96,159):\n",
    "    print('ioup=',ioup,'          ',end='\\r')\n",
    "    inpoup_idx = np.concatenate((inputs_idx,[ioup]))\n",
    "    pca_vars_test = pca_vars[:,ilat,ilon,inpoup_idx]\n",
    "    pca_vars_frame = pp.DataFrame(pca_vars_test,datatime=pca_vars_time,\n",
    "                                  var_names=train_data_PCA['var_names'][inpoup_idx].values)\n",
    "    pcmci = PCMCI(dataframe=pca_vars_frame,cond_ind_test=parcorr,verbosity=0);\n",
    "    results = pcmci.run_pcmci(selected_links = sel_links, tau_min = 0, tau_max=0, pc_alpha=None)\n",
    "    val_pca[ioup] = results['val_matrix']\n",
    "    pmat_pca[ioup] = results['p_matrix']\n",
    "    q_matrix = pcmci.get_corrected_pvalues(p_matrix=results['p_matrix'], tau_max=0, fdr_method='fdr_bh')\n",
    "    link_pca[ioup] = pcmci.return_significant_links(pq_matrix=q_matrix,\n",
    "                                                val_matrix=results['val_matrix'],\n",
    "                                                alpha_level=0.01)['link_matrix']\n",
    "    nlink_pca[ioup-94] = np.sum(link_pca[ioup])"
   ]
  },
  {
   "cell_type": "code",
   "execution_count": null,
   "metadata": {},
   "outputs": [],
   "source": [
    "plt.figure(figsize=(20,5))\n",
    "plt.plot(nlink_pca)\n",
    "plt.xticks(np.arange(0,65),pca_vars_name_oup,rotation='vertical');\n",
    "plt.grid()\n",
    "plt.ylabel('Number of links')"
   ]
  },
  {
   "cell_type": "code",
   "execution_count": null,
   "metadata": {},
   "outputs": [],
   "source": [
    "ioup = 94+29\n",
    "print(pca_vars_name_oup[ioup-94],'is connected to',pca_vars_name_inp[link_pca[ioup][:-1,-1,0]])"
   ]
  },
  {
   "cell_type": "code",
   "execution_count": null,
   "metadata": {},
   "outputs": [],
   "source": [
    "ioup = 94+29+30\n",
    "print(pca_vars_name_oup[ioup-94],'is connected to',pca_vars_name_inp[link_pca[ioup][:-1,-1,0]])"
   ]
  },
  {
   "cell_type": "code",
   "execution_count": null,
   "metadata": {},
   "outputs": [],
   "source": [
    "ioup = 158\n",
    "print(pca_vars_name_oup[ioup-94],'is connected to',pca_vars_name_inp[link_pca[ioup][:-1,-1,0]])"
   ]
  },
  {
   "cell_type": "markdown",
   "metadata": {},
   "source": [
    "### PCA data truncated, single latitude and longitude"
   ]
  },
  {
   "cell_type": "code",
   "execution_count": null,
   "metadata": {},
   "outputs": [],
   "source": [
    "lon_test = 150\n",
    "lat_test = 5\n",
    "ilon = np.argmin(np.abs(lon_test-coor.lon.values))\n",
    "ilat = np.argmin(np.abs(lat_test-coor.lat.values))\n",
    "inputs_idx = np.arange(0,94)\n"
   ]
  },
  {
   "cell_type": "code",
   "execution_count": null,
   "metadata": {},
   "outputs": [],
   "source": [
    "pca30.shape"
   ]
  },
  {
   "cell_type": "code",
   "execution_count": null,
   "metadata": {},
   "outputs": [],
   "source": [
    "val_pca30 = {}\n",
    "pmat_pca30 = {}\n",
    "link_pca30 = {}\n",
    "nlink_pca30 = np.zeros((95-30,))"
   ]
  },
  {
   "cell_type": "code",
   "execution_count": null,
   "metadata": {},
   "outputs": [],
   "source": [
    "parcorr = ParCorr(significance='analytic')"
   ]
  },
  {
   "cell_type": "code",
   "execution_count": null,
   "metadata": {},
   "outputs": [],
   "source": [
    "sel_links = select_links(0, 0, np.arange(0,30), [30])"
   ]
  },
  {
   "cell_type": "code",
   "execution_count": null,
   "metadata": {},
   "outputs": [],
   "source": [
    "for ioup in np.arange(32,95):\n",
    "    print('ioup=',ioup,'          ',end='\\r')\n",
    "    inpoup_idx = np.concatenate((np.arange(0,30),[ioup]))\n",
    "    pca30_vars_test = pca30[:,ilat,ilon,inpoup_idx]\n",
    "    pca30_vars_frame = pp.DataFrame(pca30_vars_test,datatime=pca_vars_time,\n",
    "                                  var_names=train_data_PCA['var_names'][inpoup_idx].values)\n",
    "    pcmci = PCMCI(dataframe=pca30_vars_frame,cond_ind_test=parcorr,verbosity=0);\n",
    "    results = pcmci.run_pcmci(selected_links = sel_links, tau_min = 0, tau_max=0, pc_alpha=None)\n",
    "    val_pca30[ioup] = results['val_matrix']\n",
    "    pmat_pca30[ioup] = results['p_matrix']\n",
    "    q_matrix = pcmci.get_corrected_pvalues(p_matrix=results['p_matrix'], tau_max=0, fdr_method='fdr_bh')\n",
    "    link_pca30[ioup] = pcmci.return_significant_links(pq_matrix=q_matrix,\n",
    "                                                val_matrix=results['val_matrix'],\n",
    "                                                alpha_level=0.01)['link_matrix']\n",
    "    nlink_pca30[ioup-30] = np.sum(link_pca30[ioup])"
   ]
  },
  {
   "cell_type": "code",
   "execution_count": null,
   "metadata": {},
   "outputs": [],
   "source": [
    "plt.figure(figsize=(20,5))\n",
    "plt.plot(nlink_pca30)\n",
    "plt.xticks(np.arange(0,65),pca_vars_name_oup,rotation='vertical');\n",
    "plt.grid()\n",
    "plt.ylabel('Number of links')"
   ]
  },
  {
   "cell_type": "code",
   "execution_count": null,
   "metadata": {},
   "outputs": [],
   "source": [
    "ioup = 30+29\n",
    "print(pca_vars_name_oup[ioup-30],'is connected to',pca30_vars_name_inp[link_pca30[ioup][:-1,-1,0]])"
   ]
  },
  {
   "cell_type": "code",
   "execution_count": null,
   "metadata": {},
   "outputs": [],
   "source": [
    "pmat_pca30[ioup].shape"
   ]
  },
  {
   "cell_type": "code",
   "execution_count": null,
   "metadata": {},
   "outputs": [],
   "source": [
    "plt.plot(pmat_pca30[ioup][:,-1,0])\n",
    "plt.axhline(y=0.05,color='k')\n",
    "plt.title('Number of points with p<0.05 is '+str(np.sum(pmat_pca30[ioup][:,-1,0]<0.05)))"
   ]
  },
  {
   "cell_type": "code",
   "execution_count": null,
   "metadata": {},
   "outputs": [],
   "source": [
    "ioup = 30+29+30\n",
    "print(pca_vars_name_oup[ioup-30],'is connected to',pca30_vars_name_inp[link_pca30[ioup][:-1,-1,0]])"
   ]
  },
  {
   "cell_type": "code",
   "execution_count": null,
   "metadata": {},
   "outputs": [],
   "source": [
    "plt.plot(pmat_pca30[ioup][:,-1,0])\n",
    "plt.axhline(y=0.05,color='k')\n",
    "plt.title('Number of points with p<0.05 is '+str(np.sum(pmat_pca30[ioup][:,-1,0]<0.05)))"
   ]
  },
  {
   "cell_type": "code",
   "execution_count": null,
   "metadata": {},
   "outputs": [],
   "source": [
    "ioup = 94\n",
    "print(pca_vars_name_oup[ioup-30],'is connected to',pca30_vars_name_inp[link_pca30[ioup][:-1,-1,0]])"
   ]
  },
  {
   "cell_type": "code",
   "execution_count": null,
   "metadata": {},
   "outputs": [],
   "source": [
    "plt.plot(pmat_pca30[ioup][:,-1,0])\n",
    "plt.axhline(y=0.05,color='k')\n",
    "plt.title('Number of points with p<0.05 is '+str(np.sum(pmat_pca30[ioup][:,-1,0]<0.05)))"
   ]
  },
  {
   "cell_type": "markdown",
   "metadata": {},
   "source": [
    "## Maps of p-value as a way to consistently select inputs"
   ]
  },
  {
   "cell_type": "markdown",
   "metadata": {},
   "source": [
    "### Raw data, test for each latitude circle including tendencies at previous timestep"
   ]
  },
  {
   "cell_type": "code",
   "execution_count": null,
   "metadata": {},
   "outputs": [],
   "source": [
    "val = {}\n",
    "pmat = {}\n",
    "link = {}\n",
    "nlink = np.zeros((128,159-94))"
   ]
  },
  {
   "cell_type": "code",
   "execution_count": null,
   "metadata": {},
   "outputs": [],
   "source": [
    "for ilon in np.arange(0,128):\n",
    "    val[ilon] = {}\n",
    "    pmat[ilon] = {}\n",
    "    link[ilon] = {}\n",
    "    for ioup in np.arange(96,Nvars):\n",
    "        print('ilon=',ilon,'and ioup=',ioup,'          ',end='\\r')\n",
    "        raw_vars_inp = raw_vars[1:,ilat,ilon,inputs_idx]\n",
    "        raw_vars_oup = raw_vars[1:,ilat,ilon,[ioup]]\n",
    "        raw_vars_oup_previous_timestep = raw_vars[:-1,ilat,ilon,output_idx[2:]]\n",
    "        raw_vars_combined = np.concatenate((raw_vars_inp,\n",
    "                                            raw_vars_oup_previous_timestep,\n",
    "                                            raw_vars_oup),axis=-1)\n",
    "        raw_vars_nam = np.concatenate((raw_vars_name_inp+'[t]',\n",
    "                                       raw_vars_name_oup[2:]+'[t-DT]',\n",
    "                                       [raw_vars_name_oup[ioup-94]+'t']))\n",
    "        raw_vars_frame = pp.DataFrame(raw_vars_combined,datatime=raw_vars_time,var_names=raw_vars_nam)\n",
    "        pcmci = PCMCI(dataframe=raw_vars_frame,cond_ind_test=parcorr,verbosity=0);\n",
    "        results = pcmci.run_pcmci(selected_links = sel_links, tau_min = 0, tau_max=0, pc_alpha=None)\n",
    "        val[ilon][ioup] = results['val_matrix'][:,-1,0]\n",
    "        pmat[ilon][ioup] = results['p_matrix'][:,-1,0]\n",
    "        q_matrix = pcmci.get_corrected_pvalues(p_matrix=results['p_matrix'], tau_max=0, fdr_method='fdr_bh')\n",
    "        link[ilon][ioup] = pcmci.return_significant_links(pq_matrix=q_matrix,\n",
    "                                                    val_matrix=results['val_matrix'],\n",
    "                                                    alpha_level=0.01)['link_matrix']\n",
    "        link[ilon][ioup] = link[ilon][ioup][:,-1,0]\n",
    "        nlink[ilon,ioup-94] = np.sum(link[ilon][ioup])"
   ]
  },
  {
   "cell_type": "code",
   "execution_count": null,
   "metadata": {},
   "outputs": [],
   "source": [
    "val[ilon][ioup].shape"
   ]
  },
  {
   "cell_type": "code",
   "execution_count": null,
   "metadata": {},
   "outputs": [],
   "source": [
    "link_intersect = {}\n",
    "nlink_intersect = np.zeros((159-94,))\n",
    "val_intersect = {}"
   ]
  },
  {
   "cell_type": "code",
   "execution_count": null,
   "metadata": {},
   "outputs": [],
   "source": [
    "for ioup in np.arange(96,Nvars):\n",
    "    link_intersect[ioup] = link[0][ioup]\n",
    "    val_intersect[ioup] = val[0][ioup]\n",
    "    for ilon in range(127):\n",
    "        link_intersect[ioup] *= link[ilon+1][ioup]\n",
    "        val_intersect[ioup] = ((ilon+1)*val_intersect[ioup]+val[ilon+1][ioup])/(ilon+2)\n",
    "    nlink_intersect[ioup-94] = np.sum(link_intersect[ioup])"
   ]
  },
  {
   "cell_type": "code",
   "execution_count": null,
   "metadata": {},
   "outputs": [],
   "source": [
    "plt.plot(np.median(nlink,axis=0))\n",
    "plt.plot(np.percentile(a=nlink,q=25,axis=0))\n",
    "plt.plot(np.percentile(a=nlink,q=75,axis=0))\n",
    "plt.plot(nlink_intersect)\n",
    "plt.grid()"
   ]
  },
  {
   "cell_type": "code",
   "execution_count": null,
   "metadata": {},
   "outputs": [],
   "source": [
    "ioup = 94+29\n",
    "plt.figure(figsize=(15,5))\n",
    "raw_vars_nam = np.concatenate((raw_vars_name_inp+' [t]',\n",
    "                               raw_vars_name_oup[2:]+' [t-DT]',\n",
    "                               [raw_vars_name_oup[ioup-94]+' [t]']))\n",
    "plt.axhline(y=0,color='k')\n",
    "plt.plot(val_intersect[ioup][link_intersect[ioup]])\n",
    "plt.xticks(np.arange(0,int(nlink_intersect[ioup-94])),raw_vars_nam[link_intersect[ioup]],rotation='vertical');\n",
    "plt.title(raw_vars_name_oup[ioup-94]+' significant connections')\n",
    "plt.ylabel('Correlation')\n",
    "plt.grid()"
   ]
  },
  {
   "cell_type": "code",
   "execution_count": null,
   "metadata": {},
   "outputs": [],
   "source": [
    "ioup = 94+29+30\n",
    "plt.figure(figsize=(15,5))\n",
    "raw_vars_nam = np.concatenate((raw_vars_name_inp+' [t]',\n",
    "                               raw_vars_name_oup[2:]+' [t-DT]',\n",
    "                               [raw_vars_name_oup[ioup-94]+' [t]']))\n",
    "plt.axhline(y=0,color='k')\n",
    "plt.plot(val_intersect[ioup][link_intersect[ioup]])\n",
    "plt.xticks(np.arange(0,int(nlink_intersect[ioup-94])),raw_vars_nam[link_intersect[ioup]],rotation='vertical');\n",
    "plt.title(raw_vars_name_oup[ioup-94]+' significant connections')\n",
    "plt.ylabel('Correlation')\n",
    "plt.grid()"
   ]
  },
  {
   "cell_type": "code",
   "execution_count": null,
   "metadata": {},
   "outputs": [],
   "source": [
    "ioup = 94+29+30+5\n",
    "plt.figure(figsize=(15,5))\n",
    "raw_vars_nam = np.concatenate((raw_vars_name_inp+' [t]',\n",
    "                               raw_vars_name_oup[2:]+' [t-DT]',\n",
    "                               [raw_vars_name_oup[ioup-94]+' [t]']))\n",
    "plt.axhline(y=0,color='k')\n",
    "plt.plot(val_intersect[ioup][link_intersect[ioup]])\n",
    "plt.xticks(np.arange(0,int(nlink_intersect[ioup-94])),raw_vars_nam[link_intersect[ioup]],rotation='vertical');\n",
    "plt.title(raw_vars_name_oup[ioup-94]+' significant connections')\n",
    "plt.ylabel('Correlation')\n",
    "plt.grid()"
   ]
  },
  {
   "cell_type": "markdown",
   "metadata": {},
   "source": [
    "Circle of constant longitude"
   ]
  },
  {
   "cell_type": "code",
   "execution_count": null,
   "metadata": {},
   "outputs": [],
   "source": [
    "val_rawL = {}\n",
    "pmat_rawL = {}\n",
    "link_rawL = {}\n",
    "nlink_rawL = np.zeros((64,159-94))\n",
    "tau_min = 0\n",
    "tau_max = 0\n",
    "children = [Nvars-15] # -5 because excluding the first five PHQ that are constant (0)\n",
    "parents = np.arange(0,Nvars-15)"
   ]
  },
  {
   "cell_type": "code",
   "execution_count": null,
   "metadata": {},
   "outputs": [],
   "source": [
    "sel_links = select_links(tau_min, tau_max, parents, children)"
   ]
  },
  {
   "cell_type": "code",
   "execution_count": null,
   "metadata": {},
   "outputs": [],
   "source": [
    "for ilat in np.arange(56,60):\n",
    "    val_rawL[ilat] = {}\n",
    "    pmat_rawL[ilat] = {}\n",
    "    link_rawL[ilat] = {}\n",
    "    for ioup in np.arange(94+15,Nvars):\n",
    "        print('ilat=',ilat,'and ioup=',ioup,'          ',end='\\r')\n",
    "        raw_vars_inp = raw_vars[1:,ilat,ilat,inputs_idx]\n",
    "        raw_vars_oup = raw_vars[1:,ilat,ilat,[ioup]]\n",
    "        raw_vars_oup_previous_timestep = raw_vars[:-1,ilat,ilat,output_idx[15:]]\n",
    "        raw_vars_combined = np.concatenate((raw_vars_inp,\n",
    "                                            raw_vars_oup_previous_timestep,\n",
    "                                            raw_vars_oup),axis=-1)\n",
    "        raw_vars_nam = np.concatenate((raw_vars_name_inp+'[t]',\n",
    "                                       raw_vars_name_oup[15:]+'[t-DT]',\n",
    "                                       [raw_vars_name_oup[ioup-94]+'t']))\n",
    "        raw_vars_frame = pp.DataFrame(raw_vars_combined,datatime=raw_vars_time,var_names=raw_vars_nam)\n",
    "        pcmci = PCMCI(dataframe=raw_vars_frame,cond_ind_test=parcorr,verbosity=0);\n",
    "        results = pcmci.run_pcmci(selected_links = sel_links, tau_min = 0, tau_max=0, pc_alpha=None)\n",
    "        val_rawL[ilat][ioup] = results['val_matrix'][:,-1,0]\n",
    "        pmat_rawL[ilat][ioup] = results['p_matrix'][:,-1,0]\n",
    "        q_matrix = pcmci.get_corrected_pvalues(p_matrix=results['p_matrix'], tau_max=0, fdr_method='fdr_bh')\n",
    "        link_rawL[ilat][ioup] = pcmci.return_significant_links(pq_matrix=q_matrix,\n",
    "                                                    val_matrix=results['val_matrix'],\n",
    "                                                    alpha_level=0.01)['link_matrix']\n",
    "        link_rawL[ilat][ioup] = link_rawL[ilat][ioup][:,-1,0]\n",
    "        nlink_rawL[ilat,ioup-94] = np.sum(link_rawL[ilat][ioup])"
   ]
  },
  {
   "cell_type": "code",
   "execution_count": null,
   "metadata": {},
   "outputs": [],
   "source": [
    "link_intersect_rawL = {}\n",
    "nlink_intersect_rawL = np.zeros((159-94,))\n",
    "val_intersect_rawL = {}"
   ]
  },
  {
   "cell_type": "code",
   "execution_count": null,
   "metadata": {},
   "outputs": [],
   "source": [
    "for ioup in np.arange(94+2,Nvars):\n",
    "    link_intersect_rawL[ioup] = link_rawL[0][ioup]\n",
    "    val_intersect_rawL[ioup] = val_rawL[0][ioup]\n",
    "    for ilat in range(63):\n",
    "        link_intersect_rawL[ioup] *= link_rawL[ilon+1][ioup]\n",
    "        val_intersect_rawL[ioup] = ((ilon+1)*val_intersect_rawL[ioup]+val_rawL[ilon+1][ioup])/(ilon+2)\n",
    "    nlink_intersect_rawL[ioup-94] = np.sum(link_intersect_rawL[ioup])"
   ]
  },
  {
   "cell_type": "code",
   "execution_count": null,
   "metadata": {},
   "outputs": [],
   "source": [
    "plt.plot(np.median(nlink_rawL,axis=0))\n",
    "plt.plot(np.percentile(a=nlink_rawL,q=25,axis=0))\n",
    "plt.plot(np.percentile(a=nlink_rawL,q=75,axis=0))\n",
    "plt.plot(nlink_intersect_rawL)\n",
    "plt.grid()\n",
    "plt.ylabel('Number of links')\n",
    "plt.xlabel('Output index')"
   ]
  },
  {
   "cell_type": "code",
   "execution_count": null,
   "metadata": {},
   "outputs": [],
   "source": [
    "ioup = 94+29\n",
    "plt.figure(figsize=(15,5))\n",
    "raw_vars_nam = np.concatenate((raw_vars_name_inp+' [t]',\n",
    "                               raw_vars_name_oup[2:]+' [t-DT]',\n",
    "                               [raw_vars_name_oup[ioup-94]+' [t]']))\n",
    "plt.axhline(y=0,color='k')\n",
    "plt.plot(val_intersect_raw[ioup][link_intersect_raw[ioup]])\n",
    "plt.xticks(np.arange(0,int(nlink_intersect_raw[ioup-94])),raw_vars_nam[link_intersect_raw[ioup]],rotation='vertical');\n",
    "plt.title(raw_vars_name_oup[ioup-94]+' significant connections')\n",
    "plt.ylabel('Correlation')\n",
    "plt.grid()"
   ]
  },
  {
   "cell_type": "code",
   "execution_count": null,
   "metadata": {},
   "outputs": [],
   "source": [
    "ioup = 94+29+30\n",
    "plt.figure(figsize=(15,5))\n",
    "raw_vars_nam = np.concatenate((raw_vars_name_inp+' [t]',\n",
    "                               raw_vars_name_oup[2:]+' [t-DT]',\n",
    "                               [raw_vars_name_oup[ioup-94]+' [t]']))\n",
    "plt.axhline(y=0,color='k')\n",
    "plt.plot(val_intersect_raw[ioup][link_intersect_raw[ioup]])\n",
    "plt.xticks(np.arange(0,int(nlink_intersect_raw[ioup-94])),raw_vars_nam[link_intersect_raw[ioup]],rotation='vertical');\n",
    "plt.title(raw_vars_name_oup[ioup-94]+' significant connections')\n",
    "plt.ylabel('Correlation')\n",
    "plt.grid()"
   ]
  },
  {
   "cell_type": "markdown",
   "metadata": {},
   "source": [
    "### Repeat for CI data"
   ]
  },
  {
   "cell_type": "markdown",
   "metadata": {},
   "source": [
    "Circle of constant latitude"
   ]
  },
  {
   "cell_type": "code",
   "execution_count": null,
   "metadata": {},
   "outputs": [],
   "source": [
    "ilat"
   ]
  },
  {
   "cell_type": "code",
   "execution_count": null,
   "metadata": {},
   "outputs": [],
   "source": [
    "coor.lat[ilat]"
   ]
  },
  {
   "cell_type": "code",
   "execution_count": null,
   "metadata": {},
   "outputs": [],
   "source": [
    "val_ci = {}\n",
    "pmat_ci = {}\n",
    "link_ci = {}\n",
    "nlink_ci = np.zeros((128,159-94))"
   ]
  },
  {
   "cell_type": "code",
   "execution_count": null,
   "metadata": {},
   "outputs": [],
   "source": [
    "ci_vars.shape"
   ]
  },
  {
   "cell_type": "code",
   "execution_count": null,
   "metadata": {},
   "outputs": [],
   "source": [
    "ci_vars_time = DT*np.arange(0,ci_vars.shape[0])/(24*3600)"
   ]
  },
  {
   "cell_type": "code",
   "execution_count": null,
   "metadata": {},
   "outputs": [],
   "source": [
    "tau_min = 0\n",
    "tau_max = 0\n",
    "children = [Nvars-2] # -2 because excluding the first two PHQ that are constant (0)\n",
    "parents = np.arange(0,Nvars-2)"
   ]
  },
  {
   "cell_type": "code",
   "execution_count": null,
   "metadata": {},
   "outputs": [],
   "source": [
    "sel_links = select_links(tau_min, tau_max, parents, children)"
   ]
  },
  {
   "cell_type": "code",
   "execution_count": null,
   "metadata": {},
   "outputs": [],
   "source": [
    "for ilon in np.arange(0,128):\n",
    "    val_ci[ilon] = {}\n",
    "    pmat_ci[ilon] = {}\n",
    "    link_ci[ilon] = {}\n",
    "    for ioup in np.arange(96,Nvars):\n",
    "        print('ilon=',ilon,'and ioup=',ioup,'          ',end='\\r')\n",
    "        ci_vars_inp = ci_vars[1:,ilat,ilon,inputs_idx]\n",
    "        ci_vars_oup = ci_vars[1:,ilat,ilon,[ioup]]\n",
    "        ci_vars_oup_previous_timestep = ci_vars[:-1,ilat,ilon,output_idx[2:]]\n",
    "        ci_vars_combined = np.concatenate((ci_vars_inp,\n",
    "                                            ci_vars_oup_previous_timestep,\n",
    "                                            ci_vars_oup),axis=-1)\n",
    "        ci_vars_nam = np.concatenate((ci_vars_name_inp+'[t]',\n",
    "                                       ci_vars_name_oup[2:]+'[t-DT]',\n",
    "                                       [ci_vars_name_oup[ioup-94]+'t']))\n",
    "        ci_vars_frame = pp.DataFrame(ci_vars_combined,datatime=ci_vars_time,var_names=ci_vars_nam)\n",
    "        pcmci = PCMCI(dataframe=ci_vars_frame,cond_ind_test=parcorr,verbosity=0);\n",
    "        results = pcmci.run_pcmci(selected_links = sel_links, tau_min = 0, tau_max=0, pc_alpha=None)\n",
    "        val_ci[ilon][ioup] = results['val_matrix'][:,-1,0]\n",
    "        pmat_ci[ilon][ioup] = results['p_matrix'][:,-1,0]\n",
    "        q_matrix = pcmci.get_corrected_pvalues(p_matrix=results['p_matrix'], tau_max=0, fdr_method='fdr_bh')\n",
    "        link_ci[ilon][ioup] = pcmci.return_significant_links(pq_matrix=q_matrix,\n",
    "                                                    val_matrix=results['val_matrix'],\n",
    "                                                    alpha_level=0.01)['link_matrix']\n",
    "        link_ci[ilon][ioup] = link_ci[ilon][ioup][:,-1,0]\n",
    "        nlink_ci[ilon,ioup-94] = np.sum(link_ci[ilon][ioup])"
   ]
  },
  {
   "cell_type": "code",
   "execution_count": null,
   "metadata": {},
   "outputs": [],
   "source": [
    "link_intersect_ci = {}\n",
    "nlink_intersect_ci = np.zeros((159-94,))\n",
    "val_intersect_ci = {}"
   ]
  },
  {
   "cell_type": "code",
   "execution_count": null,
   "metadata": {},
   "outputs": [],
   "source": [
    "for ioup in np.arange(96,Nvars):\n",
    "    link_intersect_ci[ioup] = link_ci[0][ioup]\n",
    "    val_intersect_ci[ioup] = val_ci[0][ioup]\n",
    "    for ilon in range(127):\n",
    "        link_intersect_ci[ioup] *= link_ci[ilon+1][ioup]\n",
    "        val_intersect_ci[ioup] = ((ilon+1)*val_intersect_ci[ioup]+val_ci[ilon+1][ioup])/(ilon+2)\n",
    "    nlink_intersect_ci[ioup-94] = np.sum(link_intersect_ci[ioup])"
   ]
  },
  {
   "cell_type": "code",
   "execution_count": null,
   "metadata": {},
   "outputs": [],
   "source": [
    "plt.plot(np.median(nlink_ci,axis=0))\n",
    "plt.plot(np.percentile(a=nlink_ci,q=25,axis=0))\n",
    "plt.plot(np.percentile(a=nlink_ci,q=75,axis=0))\n",
    "plt.plot(nlink_intersect_ci)\n",
    "plt.grid()\n",
    "plt.ylabel('Number of links')\n",
    "plt.xlabel('Output index')"
   ]
  },
  {
   "cell_type": "code",
   "execution_count": null,
   "metadata": {},
   "outputs": [],
   "source": [
    "ioup = 94+29\n",
    "plt.figure(figsize=(15,5))\n",
    "ci_vars_nam = np.concatenate((ci_vars_name_inp+' [t]',\n",
    "                               ci_vars_name_oup[2:]+' [t-DT]',\n",
    "                               [ci_vars_name_oup[ioup-94]+' [t]']))\n",
    "plt.axhline(y=0,color='k')\n",
    "plt.plot(val_intersect_ci[ioup][link_intersect_ci[ioup]])\n",
    "plt.xticks(np.arange(0,int(nlink_intersect_ci[ioup-94])),ci_vars_nam[link_intersect_ci[ioup]],rotation='vertical');\n",
    "plt.title(ci_vars_name_oup[ioup-94]+' significant connections')\n",
    "plt.ylabel('Correlation')\n",
    "plt.grid()"
   ]
  },
  {
   "cell_type": "code",
   "execution_count": null,
   "metadata": {},
   "outputs": [],
   "source": [
    "ioup = 94+29+30\n",
    "plt.figure(figsize=(15,5))\n",
    "ci_vars_nam = np.concatenate((ci_vars_name_inp+' [t]',\n",
    "                               ci_vars_name_oup[2:]+' [t-DT]',\n",
    "                               [ci_vars_name_oup[ioup-94]+' [t]']))\n",
    "plt.axhline(y=0,color='k')\n",
    "plt.plot(val_intersect_ci[ioup][link_intersect_ci[ioup]])\n",
    "plt.xticks(np.arange(0,int(nlink_intersect_ci[ioup-94])),ci_vars_nam[link_intersect_ci[ioup]],rotation='vertical');\n",
    "plt.title(ci_vars_name_oup[ioup-94]+' significant connections')\n",
    "plt.ylabel('Correlation')\n",
    "plt.grid()"
   ]
  },
  {
   "cell_type": "markdown",
   "metadata": {},
   "source": [
    "Circle of constant longitude"
   ]
  },
  {
   "cell_type": "code",
   "execution_count": null,
   "metadata": {},
   "outputs": [],
   "source": [
    "ilon"
   ]
  },
  {
   "cell_type": "code",
   "execution_count": null,
   "metadata": {},
   "outputs": [],
   "source": [
    "val_ciL = {}\n",
    "pmat_ciL = {}\n",
    "link_ciL = {}\n",
    "nlink_ciL = np.zeros((64,159-94))"
   ]
  },
  {
   "cell_type": "code",
   "execution_count": null,
   "metadata": {},
   "outputs": [],
   "source": [
    "tau_min = 0\n",
    "tau_max = 0\n",
    "children = [Nvars-3] # -3 because excluding the first three PHQ and TPHYSTND that are constant (0)\n",
    "parents = np.arange(0,Nvars-3)\n",
    "cutoup_idx = np.concatenate((np.arange(94+3,94+30),np.arange(94+30,Nvars)))"
   ]
  },
  {
   "cell_type": "code",
   "execution_count": null,
   "metadata": {},
   "outputs": [],
   "source": [
    "sel_links = select_links(tau_min, tau_max, parents, children)"
   ]
  },
  {
   "cell_type": "code",
   "execution_count": null,
   "metadata": {},
   "outputs": [],
   "source": [
    "np.std(ci_vars[1:,ilat,ilat,[ioup]],axis=0)"
   ]
  },
  {
   "cell_type": "code",
   "execution_count": null,
   "metadata": {},
   "outputs": [],
   "source": [
    "for ilat in np.arange(29,30):\n",
    "    val_ciL[ilat] = {}\n",
    "    pmat_ciL[ilat] = {}\n",
    "    link_ciL[ilat] = {}\n",
    "    for ioup in cutoup_idx:\n",
    "        print('ilat=',ilat,'and ioup=',ioup,'          ',end='\\r')\n",
    "        ci_vars_inp = ci_vars[1:,ilat,ilat,inputs_idx]\n",
    "        ci_vars_oup = ci_vars[1:,ilat,ilat,[ioup]]\n",
    "        ci_vars_oup_previous_timestep = ci_vars[:-1,ilat,ilat,output_idx[cutoup_idx-94]]\n",
    "        ci_vars_combined = np.concatenate((ci_vars_inp,\n",
    "                                            ci_vars_oup_previous_timestep,\n",
    "                                            ci_vars_oup),axis=-1)\n",
    "        ci_vars_nam = np.concatenate((ci_vars_name_inp+'[t]',\n",
    "                                       ci_vars_name_oup[cutoup_idx-94]+'[t-DT]',\n",
    "                                       [ci_vars_name_oup[ioup-94]+'t']))\n",
    "        ci_vars_frame = pp.DataFrame(ci_vars_combined,datatime=ci_vars_time,var_names=ci_vars_nam)\n",
    "        pcmci = PCMCI(dataframe=ci_vars_frame,cond_ind_test=parcorr,verbosity=0);\n",
    "        results = pcmci.run_pcmci(selected_links = sel_links, tau_min = 0, tau_max=0, pc_alpha=None)\n",
    "        val_ciL[ilat][ioup] = results['val_matrix'][:,-1,0]\n",
    "        pmat_ciL[ilat][ioup] = results['p_matrix'][:,-1,0]\n",
    "        q_matrix = pcmci.get_corrected_pvalues(p_matrix=results['p_matrix'], tau_max=0, fdr_method='fdr_bh')\n",
    "        link_ciL[ilat][ioup] = pcmci.return_significant_links(pq_matrix=q_matrix,\n",
    "                                                    val_matrix=results['val_matrix'],\n",
    "                                                    alpha_level=0.01)['link_matrix']\n",
    "        link_ciL[ilat][ioup] = link_ciL[ilat][ioup][:,-1,0]\n",
    "        nlink_ciL[ilat,ioup-94] = np.sum(link_ciL[ilat][ioup])"
   ]
  },
  {
   "cell_type": "code",
   "execution_count": null,
   "metadata": {},
   "outputs": [],
   "source": [
    "link_intersect_ciL = {}\n",
    "nlink_intersect_ciL = np.zeros((159-94,))\n",
    "val_intersect_ciL = {}"
   ]
  },
  {
   "cell_type": "code",
   "execution_count": null,
   "metadata": {},
   "outputs": [],
   "source": [
    "for ioup in np.arange(94+10,Nvars):\n",
    "    link_intersect_ciL[ioup] = link_ciL[0][ioup]\n",
    "    val_intersect_ciL[ioup] = val_ciL[0][ioup]\n",
    "    for ilat in range(63):\n",
    "        link_intersect_ciL[ioup] *= link_ciL[ilon+1][ioup]\n",
    "        val_intersect_ciL[ioup] = ((ilon+1)*val_intersect_ciL[ioup]+val_ciL[ilon+1][ioup])/(ilon+2)\n",
    "    nlink_intersect_ciL[ioup-94] = np.sum(link_intersect_ciL[ioup])"
   ]
  },
  {
   "cell_type": "code",
   "execution_count": null,
   "metadata": {},
   "outputs": [],
   "source": [
    "plt.plot(np.median(nlink_ciL,axis=0))\n",
    "plt.plot(np.percentile(a=nlink_ciL,q=25,axis=0))\n",
    "plt.plot(np.percentile(a=nlink_ciL,q=75,axis=0))\n",
    "plt.plot(nlink_intersect_ciL)\n",
    "plt.grid()\n",
    "plt.ylabel('Number of links')\n",
    "plt.xlabel('Output index')"
   ]
  },
  {
   "cell_type": "code",
   "execution_count": null,
   "metadata": {},
   "outputs": [],
   "source": [
    "ioup = 94+29\n",
    "plt.figure(figsize=(15,5))\n",
    "ci_vars_nam = np.concatenate((ci_vars_name_inp+' [t]',\n",
    "                               ci_vars_name_oup[2:]+' [t-DT]',\n",
    "                               [ci_vars_name_oup[ioup-94]+' [t]']))\n",
    "plt.axhline(y=0,color='k')\n",
    "plt.plot(val_intersect_ci[ioup][link_intersect_ci[ioup]])\n",
    "plt.xticks(np.arange(0,int(nlink_intersect_ci[ioup-94])),ci_vars_nam[link_intersect_ci[ioup]],rotation='vertical');\n",
    "plt.title(ci_vars_name_oup[ioup-94]+' significant connections')\n",
    "plt.ylabel('Correlation')\n",
    "plt.grid()"
   ]
  },
  {
   "cell_type": "code",
   "execution_count": null,
   "metadata": {},
   "outputs": [],
   "source": [
    "ioup = 94+29+30\n",
    "plt.figure(figsize=(15,5))\n",
    "ci_vars_nam = np.concatenate((ci_vars_name_inp+' [t]',\n",
    "                               ci_vars_name_oup[2:]+' [t-DT]',\n",
    "                               [ci_vars_name_oup[ioup-94]+' [t]']))\n",
    "plt.axhline(y=0,color='k')\n",
    "plt.plot(val_intersect_ci[ioup][link_intersect_ci[ioup]])\n",
    "plt.xticks(np.arange(0,int(nlink_intersect_ci[ioup-94])),ci_vars_nam[link_intersect_ci[ioup]],rotation='vertical');\n",
    "plt.title(ci_vars_name_oup[ioup-94]+' significant connections')\n",
    "plt.ylabel('Correlation')\n",
    "plt.grid()"
   ]
  },
  {
   "cell_type": "markdown",
   "metadata": {},
   "source": [
    "### PCA data truncated"
   ]
  },
  {
   "cell_type": "code",
   "execution_count": null,
   "metadata": {},
   "outputs": [],
   "source": [
    "valmap_pca30 = np.zeros((64,128,95,30))\n",
    "pmap_pca30 = np.zeros((64,128,95,30))"
   ]
  },
  {
   "cell_type": "code",
   "execution_count": null,
   "metadata": {},
   "outputs": [],
   "source": [
    "for ioup in np.arange(32,95):\n",
    "    inpoup_idx = np.concatenate((np.arange(0,30),[ioup]))\n",
    "    for ilat in range(64):\n",
    "        print('ioup=',ioup,'ilat=',ilat,'          ',end='\\r')\n",
    "        for ilon in range(128):\n",
    "            pca30_vars_test = pca30[:,ilat,ilon,inpoup_idx]\n",
    "            pca30_vars_frame = pp.DataFrame(pca30_vars_test,datatime=pca_vars_time,\n",
    "                                  var_names=train_data_PCA['var_names'][inpoup_idx].values)\n",
    "            pcmci = PCMCI(dataframe=pca30_vars_frame,cond_ind_test=parcorr,verbosity=0);\n",
    "            results = pcmci.run_pcmci(selected_links = sel_links, tau_min = 0, tau_max=0, pc_alpha=None)\n",
    "            valmap_pca30[ilat,ilon,ioup,:] = results['val_matrix'][:-1,-1,0]\n",
    "            pmap_pca30[ilat,ilon,ioup,:] = results['p_matrix'][:-1,-1,0]"
   ]
  },
  {
   "cell_type": "code",
   "execution_count": null,
   "metadata": {},
   "outputs": [],
   "source": [
    "ioup = 30+29\n",
    "plt.plot(np.mean(pmap_pca30[:,:,ioup,:],axis=(0,1)),color='k')\n",
    "plt.axhline(y=0.05,color='k')\n",
    "plt.grid()\n",
    "plt.title(pca_vars_name_oup[ioup-30]+'#points w/ p<0.05 is '+str(np.sum(np.mean(pmap_pca30[:,:,ioup,:])<0.05)))"
   ]
  },
  {
   "cell_type": "code",
   "execution_count": null,
   "metadata": {},
   "outputs": [],
   "source": [
    "ioup = 30+29\n",
    "plt.plot(np.mean(valmap_pca30[:,:,ioup,:],axis=(0,1)),color='k')\n",
    "plt.axhline(y=0.05,color='k')\n",
    "plt.grid()\n",
    "plt.title(pca_vars_name_oup[ioup-30]+'#points w/ p<0.05 is '+str(np.sum(np.mean(valmap_pca30[:,:,ioup,:])<0.05)))"
   ]
  },
  {
   "cell_type": "code",
   "execution_count": null,
   "metadata": {},
   "outputs": [],
   "source": [
    "2"
   ]
  },
  {
   "cell_type": "code",
   "execution_count": null,
   "metadata": {},
   "outputs": [],
   "source": []
  }
 ],
 "metadata": {
  "kernelspec": {
   "display_name": "Python 3",
   "language": "python",
   "name": "python3"
  },
  "language_info": {
   "codemirror_mode": {
    "name": "ipython",
    "version": 3
   },
   "file_extension": ".py",
   "mimetype": "text/x-python",
   "name": "python",
   "nbconvert_exporter": "python",
   "pygments_lexer": "ipython3",
   "version": "3.6.10"
  },
  "toc": {
   "base_numbering": 1,
   "nav_menu": {},
   "number_sections": true,
   "sideBar": true,
   "skip_h1_title": false,
   "title_cell": "Table of Contents",
   "title_sidebar": "Contents",
   "toc_cell": false,
   "toc_position": {
    "height": "calc(100% - 180px)",
    "left": "10px",
    "top": "150px",
    "width": "384px"
   },
   "toc_section_display": true,
   "toc_window_display": true
  }
 },
 "nbformat": 4,
 "nbformat_minor": 2
}
