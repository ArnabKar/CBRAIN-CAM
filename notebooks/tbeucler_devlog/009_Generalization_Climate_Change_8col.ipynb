{
 "cells": [
  {
   "cell_type": "markdown",
   "metadata": {},
   "source": [
    "tgb - 4/8/2019 \n",
    "- This script aims at predicting convective heating/moistening, longwave cooling, shortwave heating and microphysical tendencies based on the 8 column SPCAM simulation, with the goal of testing generalization abilities of different network architectures.  \n",
    "- Notably, we would like to compare the generalization abilities of the conserving network (C), the unconstrained network (U) and the weakly-constrained network (W) with climate change (trained & validated on 0K and then statistics on the +4K simulation).  \n",
    "- Another aspect is the \"data greediness\" of each network. Do we need less data when we train with constraints?\n",
    "Notebook 009 follows the notebook 005 that predicts:\n",
    "***\n",
    "[PHQ, PHCLDLIQ, PHCLDICE, TPHYSTND, QRL, QRS, DTVKE, FSNT, FSNS, FLNT, FLNS, PRECT, PRECTEND, PRECST, PRECSTEN] as a function of:  \n",
    "[QBP, QCBP, QIBP, TBP, VBP, Qdt_adiabatic, QCdt_adiabatic, QIdt_adiabatic, Tdt_adiabatic, Vdt_adiabatic, PS, SOLIN, SHFLX, LHFLX] "
   ]
  },
  {
   "cell_type": "markdown",
   "metadata": {},
   "source": [
    "## 1) Preprocess all the necessary variables"
   ]
  },
  {
   "cell_type": "code",
   "execution_count": 1,
   "metadata": {},
   "outputs": [
    {
     "name": "stdout",
     "output_type": "stream",
     "text": [
      "/filer/z-sv-pool12c/t/Tom.Beucler/SPCAM/CBRAIN-CAM\n"
     ]
    }
   ],
   "source": [
    "from cbrain.imports import *\n",
    "from cbrain.data_generator import *\n",
    "from cbrain.cam_constants import *\n",
    "from cbrain.losses import *\n",
    "from cbrain.utils import limit_mem\n",
    "from cbrain.layers import *\n",
    "import tensorflow as tf\n",
    "import tensorflow.math as tfm\n",
    "from tensorflow.keras.layers import *\n",
    "from tensorflow.keras.models import *\n",
    "import xarray as xr\n",
    "import numpy as np\n",
    "# Otherwise tensorflow will use ALL your GPU RAM for no reason\n",
    "limit_mem()\n",
    "TRAINDIR = '/local/Tom.Beucler/SPCAM_PHYS/'\n",
    "DATADIR = '/project/meteo/w2w/A6/S.Rasp/SP-CAM/fluxbypass_aqua/'\n",
    "PREFIX = '8col009_01_'\n",
    "%cd /filer/z-sv-pool12c/t/Tom.Beucler/SPCAM/CBRAIN-CAM"
   ]
  },
  {
   "cell_type": "markdown",
   "metadata": {},
   "source": [
    "tgb - 4/8/2019 - We change the pre-processing configuration file \"8col_rad_tbeucler_local.yml\" & because we now train on the 8 column data, we change the prefix to 8col009_01_train.  \n",
    "Follows the April 4th, 2019 commit of https://github.com/raspstephan/CBRAIN-CAM/blob/master/quickstart.ipynb"
   ]
  },
  {
   "cell_type": "code",
   "execution_count": 2,
   "metadata": {},
   "outputs": [],
   "source": [
    "#!python preprocessing.py -c pp_config/8col_rad_tbeucler_local.yml"
   ]
  },
  {
   "cell_type": "markdown",
   "metadata": {},
   "source": [
    "tgb - 4/10/2019 - Process future climate data (+4K experiment)  \n",
    "tgb - 4/22/2019 - Creates 8col009_14_valid.nc with a large part of the +4K experiment"
   ]
  },
  {
   "cell_type": "code",
   "execution_count": 3,
   "metadata": {},
   "outputs": [],
   "source": [
    "#!python preprocessing.py -c pp_config/8col_rad_tbeucler_p4K.yml"
   ]
  },
  {
   "cell_type": "code",
   "execution_count": 4,
   "metadata": {},
   "outputs": [],
   "source": [
    "#!python preprocessing.py -c pp_config/8col_rad_tbeucler_p3K.yml"
   ]
  },
  {
   "cell_type": "code",
   "execution_count": 5,
   "metadata": {},
   "outputs": [],
   "source": [
    "#!python preprocessing.py -c pp_config/8col_rad_tbeucler_p2K.yml"
   ]
  },
  {
   "cell_type": "code",
   "execution_count": 6,
   "metadata": {},
   "outputs": [],
   "source": [
    "#!python preprocessing.py -c pp_config/8col_rad_tbeucler_p1K.yml"
   ]
  },
  {
   "cell_type": "markdown",
   "metadata": {},
   "source": [
    "tgb - 4/24/2019 - Performances in data-scarce situations"
   ]
  },
  {
   "cell_type": "code",
   "execution_count": 8,
   "metadata": {},
   "outputs": [
    {
     "name": "stdout",
     "output_type": "stream",
     "text": [
      "04/25/2019 03:11:07 AM Preprocess training dataset\n",
      "04/25/2019 03:11:07 AM Start preprocessing file /local/Tom.Beucler/SPCAM_PHYS/8col009_ds1_train.nc\n",
      "04/25/2019 03:11:07 AM Reading input files\n",
      "04/25/2019 03:11:08 AM Crop levels\n",
      "04/25/2019 03:11:08 AM Create stacked dataarray\n",
      "These time steps are cut: []\n",
      "04/25/2019 03:11:08 AM Stack and reshape dataarray\n",
      "04/25/2019 03:11:08 AM Save dataarray as /local/Tom.Beucler/SPCAM_PHYS/8col009_ds1_train.nc\n",
      "04/25/2019 03:11:21 AM Done!\n",
      "04/25/2019 03:11:21 AM Shuffle training dataset\n",
      "04/25/2019 03:11:21 AM Start shuffling /local/Tom.Beucler/SPCAM_PHYS/8col009_ds1_train.nc into /local/Tom.Beucler/SPCAM_PHYS/8col009_ds1_train_shuffle.nc. Open and create datasets.\n",
      "04/25/2019 03:11:21 AM Shuffle!\n",
      "100%|█████████████████████████████████████████████| 1/1 [00:01<00:00,  1.59s/it]\n",
      "04/25/2019 03:11:23 AM Closing datasets\n",
      "04/25/2019 03:11:23 AM Done!\n",
      "04/25/2019 03:11:23 AM Finish entire preprocessing script.\n"
     ]
    }
   ],
   "source": [
    "!python preprocessing.py -c pp_config/8col_rad_tbeucler_ds1.yml"
   ]
  },
  {
   "cell_type": "code",
   "execution_count": 9,
   "metadata": {},
   "outputs": [
    {
     "name": "stdout",
     "output_type": "stream",
     "text": [
      "04/25/2019 03:11:25 AM Preprocess training dataset\n",
      "04/25/2019 03:11:25 AM Start preprocessing file /local/Tom.Beucler/SPCAM_PHYS/8col009_ds2_train.nc\n",
      "04/25/2019 03:11:25 AM Reading input files\n",
      "04/25/2019 03:11:32 AM Crop levels\n",
      "04/25/2019 03:11:32 AM Create stacked dataarray\n",
      "These time steps are cut: []\n",
      "04/25/2019 03:11:33 AM Stack and reshape dataarray\n",
      "04/25/2019 03:11:34 AM Save dataarray as /local/Tom.Beucler/SPCAM_PHYS/8col009_ds2_train.nc\n",
      "04/25/2019 03:13:10 AM Done!\n",
      "04/25/2019 03:13:10 AM Shuffle training dataset\n",
      "04/25/2019 03:13:10 AM Start shuffling /local/Tom.Beucler/SPCAM_PHYS/8col009_ds2_train.nc into /local/Tom.Beucler/SPCAM_PHYS/8col009_ds2_train_shuffle.nc. Open and create datasets.\n",
      "04/25/2019 03:13:10 AM Shuffle!\n",
      "100%|█████████████████████████████████████████████| 1/1 [00:11<00:00, 11.27s/it]\n",
      "04/25/2019 03:13:21 AM Closing datasets\n",
      "04/25/2019 03:13:21 AM Done!\n",
      "04/25/2019 03:13:21 AM Finish entire preprocessing script.\n"
     ]
    }
   ],
   "source": [
    "!python preprocessing.py -c pp_config/8col_rad_tbeucler_ds2.yml"
   ]
  },
  {
   "cell_type": "code",
   "execution_count": 7,
   "metadata": {},
   "outputs": [],
   "source": [
    "# %cd /filer/z-sv-pool12c/t/Tom.Beucler/SPCAM/CBRAIN-CAM\n",
    "# !python preprocessing.py -c pp_config/8col_rad_tbeucler_local_onefile.yml"
   ]
  },
  {
   "cell_type": "markdown",
   "metadata": {},
   "source": [
    "tgb - 4/9/2019 - Follows method adapted by Stephan in his quickstart to define inputs/outputs/normalization"
   ]
  },
  {
   "cell_type": "code",
   "execution_count": 2,
   "metadata": {},
   "outputs": [
    {
     "name": "stdout",
     "output_type": "stream",
     "text": [
      "/filer/z-sv-pool12c/t/Tom.Beucler/SPCAM/CBRAIN-CAM\n"
     ]
    }
   ],
   "source": [
    "%cd /filer/z-sv-pool12c/t/Tom.Beucler/SPCAM/CBRAIN-CAM\n",
    "# 1) Define inputs and outputs\n",
    "in_vars = ['QBP', 'QCBP', 'QIBP', 'TBP', 'VBP', \n",
    "           'Qdt_adiabatic', 'QCdt_adiabatic', 'QIdt_adiabatic', 'Tdt_adiabatic', 'Vdt_adiabatic',\n",
    "           'PS', 'SOLIN', 'SHFLX', 'LHFLX']\n",
    "out_vars = ['PHQ', 'PHCLDLIQ', 'PHCLDICE', 'TPHYSTND', 'QRL', 'QRS', 'DTVKE', \n",
    "            'FSNT', 'FSNS', 'FLNT', 'FLNS', 'PRECT', 'PRECTEND', 'PRECST', 'PRECSTEN']\n",
    "\n",
    "# 2) Calculates pressure and pressure increments\n",
    "# Takes representative value for PS since purpose is normalization\n",
    "PS = 1e5; P0 = 1e5;\n",
    "P = P0*hyai+PS*hybi; # Total pressure [Pa]\n",
    "dP = P[1:]-P[:-1]; # Differential pressure [Pa]\n",
    "dt = 30*60; # timestep\n",
    "\n",
    "# 3) Define the scaling dictionary \n",
    "scale_dict = {\n",
    "    'PHQ': L_V*dP/G, \n",
    "    'PHCLDLIQ': L_V*dP/G, \n",
    "    'PHCLDICE': L_V*dP/G, \n",
    "    'TPHYSTND': C_P*dP/G, \n",
    "    'QRL': C_P*dP/G, \n",
    "    'QRS': C_P*dP/G, \n",
    "    'DTVKE': C_P*dP/(G*dt), \n",
    "    'FSNT': 1, \n",
    "    'FSNS': 1, \n",
    "    'FLNT': 1, \n",
    "    'FLNS': 1, \n",
    "    'PRECT': RHO_L*L_V, \n",
    "    'PRECTEND': 1e-3*RHO_L*L_V, \n",
    "    'PRECST': RHO_L*L_V, \n",
    "    'PRECSTEN': 1e-3*RHO_L*L_V\n",
    "}\n",
    "\n",
    "# 4) Save dictionary as pickle file for loading in teh training script\n",
    "save_pickle('./nn_config/scale_dicts/009_Wm2_scaling.pkl', scale_dict)\n",
    "save_pickle('./nn_config/scale_dicts/009_Wm2_in_vars.pkl',in_vars)\n",
    "save_pickle('./nn_config/scale_dicts/009_Wm2_out_vars.pkl',out_vars)\n",
    "save_pickle('./nn_config/scale_dicts/009_Wm2_dP.pkl',dP)"
   ]
  },
  {
   "cell_type": "markdown",
   "metadata": {},
   "source": [
    "## 2) Create data generator and produce data sample"
   ]
  },
  {
   "cell_type": "code",
   "execution_count": 7,
   "metadata": {},
   "outputs": [],
   "source": [
    "PREFIX = '8col009_01_'\n",
    "PREFIX_NORM = '8col009_01_'"
   ]
  },
  {
   "cell_type": "code",
   "execution_count": 8,
   "metadata": {},
   "outputs": [],
   "source": [
    "train_gen = DataGenerator(\n",
    "    data_fn = TRAINDIR+PREFIX+'train_shuffle.nc',\n",
    "    input_vars = in_vars,\n",
    "    output_vars = out_vars,\n",
    "    norm_fn = TRAINDIR+PREFIX_NORM+'norm.nc',\n",
    "    input_transform = ('mean', 'maxrs'),\n",
    "    output_transform = scale_dict,\n",
    "    batch_size=1024,\n",
    "    shuffle=True\n",
    ")"
   ]
  },
  {
   "cell_type": "code",
   "execution_count": 9,
   "metadata": {},
   "outputs": [
    {
     "data": {
      "text/plain": [
       "((1024, 304), (1024, 218))"
      ]
     },
     "execution_count": 9,
     "metadata": {},
     "output_type": "execute_result"
    }
   ],
   "source": [
    "X, Y = train_gen[0]; X.shape, Y.shape"
   ]
  },
  {
   "cell_type": "code",
   "execution_count": 10,
   "metadata": {},
   "outputs": [],
   "source": [
    "valid_gen = DataGenerator(\n",
    "    data_fn = TRAINDIR+PREFIX+'valid.nc',\n",
    "    input_vars = in_vars,\n",
    "    output_vars = out_vars,\n",
    "    norm_fn = TRAINDIR+PREFIX_NORM+'norm.nc',\n",
    "    input_transform = ('mean', 'maxrs'),\n",
    "    output_transform = scale_dict,\n",
    "    batch_size=1024,\n",
    "    shuffle=False\n",
    ")"
   ]
  },
  {
   "cell_type": "code",
   "execution_count": 11,
   "metadata": {},
   "outputs": [
    {
     "data": {
      "text/plain": [
       "((1024, 304), (1024, 218))"
      ]
     },
     "execution_count": 11,
     "metadata": {},
     "output_type": "execute_result"
    }
   ],
   "source": [
    "X, Y = valid_gen[0]; X.shape, Y.shape"
   ]
  },
  {
   "cell_type": "markdown",
   "metadata": {},
   "source": [
    "# 3) Build neural networks"
   ]
  },
  {
   "cell_type": "markdown",
   "metadata": {},
   "source": [
    "## 3.1) Conserving Network (C)"
   ]
  },
  {
   "cell_type": "code",
   "execution_count": 12,
   "metadata": {},
   "outputs": [
    {
     "name": "stdout",
     "output_type": "stream",
     "text": [
      "WARNING:tensorflow:From /home/t/Tom.Beucler/miniconda3/lib/python3.6/site-packages/tensorflow/python/ops/resource_variable_ops.py:435: colocate_with (from tensorflow.python.framework.ops) is deprecated and will be removed in a future version.\n",
      "Instructions for updating:\n",
      "Colocations handled automatically by placer.\n"
     ]
    }
   ],
   "source": [
    "inpC = Input(shape=(304,))\n",
    "densout = Dense(512, activation='linear')(inpC)\n",
    "densout = LeakyReLU(alpha=0.3)(densout)\n",
    "for i in range (4):\n",
    "    densout = Dense(512, activation='linear')(densout)\n",
    "    densout = LeakyReLU(alpha=0.3)(densout)\n",
    "densout = Dense(214, activation='linear')(densout)\n",
    "densout = LeakyReLU(alpha=0.3)(densout)\n",
    "surfout = SurRadLayer(\n",
    "    inp_div=train_gen.input_transform.div,\n",
    "    inp_sub=train_gen.input_transform.sub,\n",
    "    norm_q=scale_dict['PHQ'],\n",
    "    hyai=hyai, hybi=hybi\n",
    ")([inpC, densout])\n",
    "massout = MassConsLayer(\n",
    "    inp_div=train_gen.input_transform.div,\n",
    "    inp_sub=train_gen.input_transform.sub,\n",
    "    norm_q=scale_dict['PHQ'],\n",
    "    hyai=hyai, hybi=hybi\n",
    ")([inpC, surfout])\n",
    "enthout = EntConsLayer(\n",
    "    inp_div=train_gen.input_transform.div,\n",
    "    inp_sub=train_gen.input_transform.sub,\n",
    "    norm_q=scale_dict['PHQ'],\n",
    "    hyai=hyai, hybi=hybi\n",
    ")([inpC, massout])\n",
    "C_009 = tf.keras.models.Model(inpC, enthout)"
   ]
  },
  {
   "cell_type": "markdown",
   "metadata": {},
   "source": [
    "## 3.2) Unconstrained Network (U)"
   ]
  },
  {
   "cell_type": "code",
   "execution_count": 16,
   "metadata": {},
   "outputs": [],
   "source": [
    "# Unconstrained model with 5 dense layers\n",
    "inpU = Input(shape=(304,))\n",
    "densout = Dense(512, activation='linear')(inpU)\n",
    "densout = LeakyReLU(alpha=0.3)(densout)\n",
    "for i in range (4):\n",
    "    densout = Dense(512, activation='linear')(densout)\n",
    "    densout = LeakyReLU(alpha=0.3)(densout)\n",
    "densout = Dense(218, activation='linear')(densout)\n",
    "out_layer = LeakyReLU(alpha=0.3)(densout)\n",
    "U_009 = tf.keras.models.Model(inpU, out_layer)"
   ]
  },
  {
   "cell_type": "markdown",
   "metadata": {},
   "source": [
    "## 3.3) Weakly-constrained Network (W)"
   ]
  },
  {
   "cell_type": "code",
   "execution_count": 19,
   "metadata": {},
   "outputs": [],
   "source": [
    "# Weakly-constrained models with 5 dense layers\n",
    "# alpha=0.01\n",
    "inp001 = Input(shape=(304,))\n",
    "densout = Dense(512, activation='linear')(inp001)\n",
    "densout = LeakyReLU(alpha=0.3)(densout)\n",
    "for i in range (4):\n",
    "    densout = Dense(512, activation='linear')(densout)\n",
    "    densout = LeakyReLU(alpha=0.3)(densout)\n",
    "densout = Dense(218, activation='linear')(densout)\n",
    "out = LeakyReLU(alpha=0.3)(densout)\n",
    "W001_009 = tf.keras.models.Model(inp001, out)\n",
    "# alpha=0.5\n",
    "inp05 = Input(shape=(304,))\n",
    "densout = Dense(512, activation='linear')(inp05)\n",
    "densout = LeakyReLU(alpha=0.3)(densout)\n",
    "for i in range (4):\n",
    "    densout = Dense(512, activation='linear')(densout)\n",
    "    densout = LeakyReLU(alpha=0.3)(densout)\n",
    "densout = Dense(218, activation='linear')(densout)\n",
    "out = LeakyReLU(alpha=0.3)(densout)\n",
    "W05_009 = tf.keras.models.Model(inp05, out)\n",
    "# alpha=0.99\n",
    "inp099 = Input(shape=(304,))\n",
    "densout = Dense(512, activation='linear')(inp099)\n",
    "densout = LeakyReLU(alpha=0.3)(densout)\n",
    "for i in range (4):\n",
    "    densout = Dense(512, activation='linear')(densout)\n",
    "    densout = LeakyReLU(alpha=0.3)(densout)\n",
    "densout = Dense(218, activation='linear')(densout)\n",
    "out = LeakyReLU(alpha=0.3)(densout)\n",
    "W099_009 = tf.keras.models.Model(inp099, out)"
   ]
  },
  {
   "cell_type": "markdown",
   "metadata": {},
   "source": [
    "# 4) Compile and train the networks"
   ]
  },
  {
   "cell_type": "markdown",
   "metadata": {},
   "source": [
    "## 4.1) Define losses\n",
    "tgb - 4/10/2019 - Trying to solve the following error:  \n",
    "  \n",
    "You must feed a value for placeholder tensor 'input_2' with dtype float and shape [?,304]\n",
    "\t [[{{node input_2}} = Placeholder[dtype=DT_FLOAT, shape=[?,304], _device=\"/job:localhost/replica:0/task:0/device:GPU:0\"]()]]\n",
    "\t [[{{node ConstantFoldingCtrl/loss/ent_cons_layer_loss/broadcast_weights/assert_broadcastable/AssertGuard/Switch_0/_310}} = _Recv[client_terminated=false, recv_device=\"/job:localhost/replica:0/task:0/device:CPU:0\", send_device=\"/job:localhost/replica:0/task:0/device:GPU:0\", send_device_incarnation=1, tensor_name=\"edge_972_C...d/Switch_0\", tensor_type=DT_FLOAT, _device=\"/job:localhost/replica:0/task:0/device:CPU:0\"]()]]  \n",
    "  \n",
    "when trying to train several networks in a row.\n",
    "tgb - 4/10/2019 - First, understand how to access normalization  \n",
    "  \n",
    "tgb - 4/10/2019 - Found the problem: The weak loss function tracks a given input layer, and that has to be different for each network."
   ]
  },
  {
   "cell_type": "code",
   "execution_count": 20,
   "metadata": {},
   "outputs": [],
   "source": [
    "# # 1) Open the file containing the normalization of the targets\n",
    "# ds = xr.open_dataset(TRAINDIR + PREFIX + 'norm.nc')\n",
    "# # 2) Open the pickle files containing the pressure converters\n",
    "# with open(os.path.join('/filer/z-sv-pool12c/t/Tom.Beucler/SPCAM/CBRAIN-CAM/cbrain', 'hyai_hybi.pkl'), 'rb') as f:\n",
    "#             hyai, hybi = pickle.load(f)\n",
    "# print(ds)\n",
    "# # 3) Define input transform and save it\n",
    "# inp_transform = InputNormalizer(ds, in_vars, 'mean', 'maxrs')\n",
    "# print(inp_transform)\n",
    "# inp_div = inp_transform.div\n",
    "# inp_sub = inp_transform.sub\n",
    "# norm_q=scale_dict['PHQ']\n",
    "# print('inp_div.shape=',inp_div.shape)\n",
    "# print('inp_sub.shape=',inp_sub.shape)\n",
    "# print('hyai.shape=',hyai.shape)\n",
    "# print('hybi.shape=',hybi.shape)\n",
    "# print('norm_q.shape=',norm_q.shape)\n",
    "\n",
    "# ds.close()"
   ]
  },
  {
   "cell_type": "code",
   "execution_count": 21,
   "metadata": {},
   "outputs": [],
   "source": [
    "W05_loss = WeakLoss(inp05, inp_div=train_gen.input_transform.div, inp_sub=train_gen.input_transform.sub,\n",
    "                     norm_q=scale_dict['PHQ'], hyai=hyai, hybi=hybi, name='W05_loss')\n",
    "W001_loss = WeakLoss(inp001, inp_div=train_gen.input_transform.div, inp_sub=train_gen.input_transform.sub,\n",
    "                     norm_q=scale_dict['PHQ'], hyai=hyai, hybi=hybi, alpha_mass=5e-3, alpha_ent=5e-3, name = 'W001_loss')\n",
    "W099_loss = WeakLoss(inp099, inp_div=train_gen.input_transform.div, inp_sub=train_gen.input_transform.sub,\n",
    "                     norm_q=scale_dict['PHQ'], hyai=hyai, hybi=hybi, alpha_mass=0.99/2, alpha_ent=0.99/2, name = 'W099_loss')\n",
    "masC_loss = WeakLoss(inpC, inp_div=train_gen.input_transform.div, inp_sub=train_gen.input_transform.sub,\n",
    "                      norm_q=scale_dict['PHQ'], hyai=hyai, hybi=hybi, alpha_mass=1, alpha_ent=0, name='masC_loss')\n",
    "entC_loss = WeakLoss(inpC, inp_div=train_gen.input_transform.div, inp_sub=train_gen.input_transform.sub,\n",
    "                     norm_q=scale_dict['PHQ'], hyai=hyai, hybi=hybi, alpha_mass=0, alpha_ent=1, name='entC_loss')\n",
    "masU_loss = WeakLoss(inpU, inp_div=train_gen.input_transform.div, inp_sub=train_gen.input_transform.sub,\n",
    "                      norm_q=scale_dict['PHQ'], hyai=hyai, hybi=hybi, alpha_mass=1, alpha_ent=0, name='masU_loss')\n",
    "entU_loss = WeakLoss(inpU, inp_div=train_gen.input_transform.div, inp_sub=train_gen.input_transform.sub,\n",
    "                     norm_q=scale_dict['PHQ'], hyai=hyai, hybi=hybi, alpha_mass=0, alpha_ent=1, name='entU_loss')"
   ]
  },
  {
   "cell_type": "markdown",
   "metadata": {},
   "source": [
    "## 4.2) Compile the models"
   ]
  },
  {
   "cell_type": "markdown",
   "metadata": {},
   "source": [
    "### 4.2.1) Use mean square error as loss function"
   ]
  },
  {
   "cell_type": "code",
   "execution_count": 22,
   "metadata": {},
   "outputs": [],
   "source": [
    "#C_009.compile(tf.keras.optimizers.RMSprop(), loss=mse, metrics=[mse, masC_loss, entC_loss])\n",
    "C_009.compile(tf.keras.optimizers.RMSprop(), loss=mse)"
   ]
  },
  {
   "cell_type": "code",
   "execution_count": 23,
   "metadata": {},
   "outputs": [],
   "source": [
    "#U_009.compile(tf.keras.optimizers.RMSprop(), loss=mse, metrics=[mse, masU_loss, entU_loss])\n",
    "U_009.compile(tf.keras.optimizers.RMSprop(), loss=mse)"
   ]
  },
  {
   "cell_type": "markdown",
   "metadata": {},
   "source": [
    "### 4.1.2) Use custom loss function"
   ]
  },
  {
   "cell_type": "code",
   "execution_count": 24,
   "metadata": {},
   "outputs": [
    {
     "ename": "NameError",
     "evalue": "name 'mass_loss' is not defined",
     "output_type": "error",
     "traceback": [
      "\u001b[0;31m---------------------------------------------------------------------------\u001b[0m",
      "\u001b[0;31mNameError\u001b[0m                                 Traceback (most recent call last)",
      "\u001b[0;32m<ipython-input-24-a5c687ce7ac4>\u001b[0m in \u001b[0;36m<module>\u001b[0;34m\u001b[0m\n\u001b[0;32m----> 1\u001b[0;31m \u001b[0mW001_009\u001b[0m\u001b[0;34m.\u001b[0m\u001b[0mcompile\u001b[0m\u001b[0;34m(\u001b[0m\u001b[0mtf\u001b[0m\u001b[0;34m.\u001b[0m\u001b[0mkeras\u001b[0m\u001b[0;34m.\u001b[0m\u001b[0moptimizers\u001b[0m\u001b[0;34m.\u001b[0m\u001b[0mRMSprop\u001b[0m\u001b[0;34m(\u001b[0m\u001b[0;34m)\u001b[0m\u001b[0;34m,\u001b[0m \u001b[0mloss\u001b[0m\u001b[0;34m=\u001b[0m\u001b[0mW001_loss\u001b[0m\u001b[0;34m,\u001b[0m \u001b[0mmetrics\u001b[0m\u001b[0;34m=\u001b[0m\u001b[0;34m[\u001b[0m\u001b[0mmass_loss\u001b[0m\u001b[0;34m,\u001b[0m \u001b[0ment_loss\u001b[0m\u001b[0;34m,\u001b[0m \u001b[0mmse\u001b[0m\u001b[0;34m,\u001b[0m \u001b[0mW001_loss\u001b[0m\u001b[0;34m]\u001b[0m\u001b[0;34m)\u001b[0m\u001b[0;34m\u001b[0m\u001b[0;34m\u001b[0m\u001b[0m\n\u001b[0m",
      "\u001b[0;31mNameError\u001b[0m: name 'mass_loss' is not defined"
     ]
    }
   ],
   "source": [
    "W001_009.compile(tf.keras.optimizers.RMSprop(), loss=W001_loss, metrics=[mass_loss, ent_loss, mse, W001_loss])"
   ]
  },
  {
   "cell_type": "code",
   "execution_count": 25,
   "metadata": {},
   "outputs": [
    {
     "ename": "NameError",
     "evalue": "name 'mass_loss' is not defined",
     "output_type": "error",
     "traceback": [
      "\u001b[0;31m---------------------------------------------------------------------------\u001b[0m",
      "\u001b[0;31mNameError\u001b[0m                                 Traceback (most recent call last)",
      "\u001b[0;32m<ipython-input-25-b3c9b29cd1d4>\u001b[0m in \u001b[0;36m<module>\u001b[0;34m\u001b[0m\n\u001b[0;32m----> 1\u001b[0;31m \u001b[0mW05_009\u001b[0m\u001b[0;34m.\u001b[0m\u001b[0mcompile\u001b[0m\u001b[0;34m(\u001b[0m\u001b[0mtf\u001b[0m\u001b[0;34m.\u001b[0m\u001b[0mkeras\u001b[0m\u001b[0;34m.\u001b[0m\u001b[0moptimizers\u001b[0m\u001b[0;34m.\u001b[0m\u001b[0mRMSprop\u001b[0m\u001b[0;34m(\u001b[0m\u001b[0;34m)\u001b[0m\u001b[0;34m,\u001b[0m \u001b[0mloss\u001b[0m\u001b[0;34m=\u001b[0m\u001b[0mW05_loss\u001b[0m\u001b[0;34m,\u001b[0m \u001b[0mmetrics\u001b[0m\u001b[0;34m=\u001b[0m\u001b[0;34m[\u001b[0m\u001b[0mmass_loss\u001b[0m\u001b[0;34m,\u001b[0m \u001b[0ment_loss\u001b[0m\u001b[0;34m,\u001b[0m \u001b[0mmse\u001b[0m\u001b[0;34m,\u001b[0m \u001b[0mW05_loss\u001b[0m\u001b[0;34m]\u001b[0m\u001b[0;34m)\u001b[0m\u001b[0;34m\u001b[0m\u001b[0;34m\u001b[0m\u001b[0m\n\u001b[0m",
      "\u001b[0;31mNameError\u001b[0m: name 'mass_loss' is not defined"
     ]
    }
   ],
   "source": [
    "W05_009.compile(tf.keras.optimizers.RMSprop(), loss=W05_loss, metrics=[mass_loss, ent_loss, mse, W05_loss])"
   ]
  },
  {
   "cell_type": "code",
   "execution_count": 26,
   "metadata": {},
   "outputs": [
    {
     "ename": "NameError",
     "evalue": "name 'mass_loss' is not defined",
     "output_type": "error",
     "traceback": [
      "\u001b[0;31m---------------------------------------------------------------------------\u001b[0m",
      "\u001b[0;31mNameError\u001b[0m                                 Traceback (most recent call last)",
      "\u001b[0;32m<ipython-input-26-6365a5d24fa1>\u001b[0m in \u001b[0;36m<module>\u001b[0;34m\u001b[0m\n\u001b[0;32m----> 1\u001b[0;31m \u001b[0mW099_009\u001b[0m\u001b[0;34m.\u001b[0m\u001b[0mcompile\u001b[0m\u001b[0;34m(\u001b[0m\u001b[0mtf\u001b[0m\u001b[0;34m.\u001b[0m\u001b[0mkeras\u001b[0m\u001b[0;34m.\u001b[0m\u001b[0moptimizers\u001b[0m\u001b[0;34m.\u001b[0m\u001b[0mRMSprop\u001b[0m\u001b[0;34m(\u001b[0m\u001b[0;34m)\u001b[0m\u001b[0;34m,\u001b[0m \u001b[0mloss\u001b[0m\u001b[0;34m=\u001b[0m\u001b[0mW099_loss\u001b[0m\u001b[0;34m,\u001b[0m \u001b[0mmetrics\u001b[0m\u001b[0;34m=\u001b[0m\u001b[0;34m[\u001b[0m\u001b[0mmass_loss\u001b[0m\u001b[0;34m,\u001b[0m \u001b[0ment_loss\u001b[0m\u001b[0;34m,\u001b[0m \u001b[0mmse\u001b[0m\u001b[0;34m,\u001b[0m \u001b[0mW099_loss\u001b[0m\u001b[0;34m]\u001b[0m\u001b[0;34m)\u001b[0m\u001b[0;34m\u001b[0m\u001b[0;34m\u001b[0m\u001b[0m\n\u001b[0m",
      "\u001b[0;31mNameError\u001b[0m: name 'mass_loss' is not defined"
     ]
    }
   ],
   "source": [
    "W099_009.compile(tf.keras.optimizers.RMSprop(), loss=W099_loss, metrics=[mass_loss, ent_loss, mse, W099_loss])"
   ]
  },
  {
   "cell_type": "markdown",
   "metadata": {},
   "source": [
    "## 4.3) Train the models"
   ]
  },
  {
   "cell_type": "markdown",
   "metadata": {},
   "source": [
    "### 4.3.1) Train compiled models"
   ]
  },
  {
   "cell_type": "code",
   "execution_count": 27,
   "metadata": {},
   "outputs": [],
   "source": [
    "# Nep = 10\n",
    "# hC_009 = C_009.fit_generator(train_gen, epochs=Nep, validation_data=valid_gen)\n",
    "# hU_009 = U_009.fit_generator(train_gen, epochs=Nep, validation_data=valid_gen)"
   ]
  },
  {
   "cell_type": "markdown",
   "metadata": {},
   "source": [
    "### 4.3.2) Save models in .h5 format"
   ]
  },
  {
   "cell_type": "code",
   "execution_count": 31,
   "metadata": {},
   "outputs": [
    {
     "name": "stdout",
     "output_type": "stream",
     "text": [
      "/data/Tom.Beucler/SPCAM_PHYS/HDF5_DATA\n",
      "/data/Tom.Beucler/SPCAM_PHYS/HDF5_DATA\r\n"
     ]
    }
   ],
   "source": [
    "# %cd $TRAINDIR/HDF5_DATA\n",
    "# !pwd\n",
    "# C_009.save('C_009.h5')\n",
    "# U_009.save('U_009.h5')"
   ]
  },
  {
   "cell_type": "code",
   "execution_count": 29,
   "metadata": {},
   "outputs": [],
   "source": [
    "# W001_rad_5dens.save('W001_rad2_5dens.h5')\n",
    "# W05_rad_5dens.save('W05_rad2_5dens.h5')\n",
    "# W099_rad_5dens.save('W099_rad2_5dens.h5')"
   ]
  },
  {
   "cell_type": "markdown",
   "metadata": {},
   "source": [
    "### 4.3.3) Load models if already trained\n",
    "tgb - 2/11/2019 - OPTIONAL: Load the models if already trained."
   ]
  },
  {
   "cell_type": "code",
   "execution_count": 2,
   "metadata": {},
   "outputs": [
    {
     "name": "stdout",
     "output_type": "stream",
     "text": [
      "/data/Tom.Beucler/SPCAM_PHYS/HDF5_DATA\n",
      "C_009.h5\tmdU4kstats.pkl\tmodel2.h5  model5.h5\t\t test.pkl\n",
      "mdC4kstats.pkl\tmdUstats.pkl\tmodel3.h5  model6.h5\t\t U_009.h5\n",
      "mdCstats.pkl\tmodel1.h5\tmodel4.h5  model_cons16l256n.h5\n",
      "WARNING:tensorflow:From /home/t/Tom.Beucler/miniconda3/lib/python3.6/site-packages/tensorflow/python/ops/resource_variable_ops.py:435: colocate_with (from tensorflow.python.framework.ops) is deprecated and will be removed in a future version.\n",
      "Instructions for updating:\n",
      "Colocations handled automatically by placer.\n",
      "WARNING:tensorflow:From /home/t/Tom.Beucler/miniconda3/lib/python3.6/site-packages/tensorflow/python/keras/utils/losses_utils.py:170: to_float (from tensorflow.python.ops.math_ops) is deprecated and will be removed in a future version.\n",
      "Instructions for updating:\n",
      "Use tf.cast instead.\n"
     ]
    }
   ],
   "source": [
    "%cd $TRAINDIR/HDF5_DATA\n",
    "!ls\n",
    "dict_lay = {'SurRadLayer':SurRadLayer,'MassConsLayer':MassConsLayer,'EntConsLayer':EntConsLayer}\n",
    "C_009 = load_model('C_009.h5',custom_objects=dict_lay)\n",
    "U_009 = load_model('U_009.h5',custom_objects=dict_lay)\n",
    "#C_009.load_weights('C_009.h5')\n",
    "#U_009.load_weights('U_009.h5')"
   ]
  },
  {
   "cell_type": "markdown",
   "metadata": {},
   "source": [
    "# 5) Compare R2 plot in present and future climate\n",
    "tgb - 4/10/2019 - Use the new quickstart from Stephan at https://github.com/raspstephan/CBRAIN-CAM/blob/master/quickstart.ipynb"
   ]
  },
  {
   "cell_type": "markdown",
   "metadata": {},
   "source": [
    "## 5.1) Present climate"
   ]
  },
  {
   "cell_type": "markdown",
   "metadata": {},
   "source": [
    "### 5.1.1) Check Stephan's workflow\n",
    "tgb - 4/15/2019 - Adapt https://github.com/raspstephan/CBRAIN-CAM/blob/master/quickstart.ipynb"
   ]
  },
  {
   "cell_type": "code",
   "execution_count": 3,
   "metadata": {},
   "outputs": [],
   "source": [
    "from cbrain.model_diagnostics.model_diagnostics import ModelDiagnostics"
   ]
  },
  {
   "cell_type": "markdown",
   "metadata": {},
   "source": [
    "#### 5.1.1.1) Calculate statistics"
   ]
  },
  {
   "cell_type": "code",
   "execution_count": 4,
   "metadata": {},
   "outputs": [],
   "source": [
    "config_fn = '/filer/z-sv-pool12c/t/Tom.Beucler/SPCAM/CBRAIN-CAM/pp_config/8col_rad_tbeucler_local_PostProc.yml'\n",
    "data_fn = '/local/Tom.Beucler/SPCAM_PHYS/8col009_01_valid.nc'\n",
    "data4k_fn = '/local/Tom.Beucler/SPCAM_PHYS/8col009_02_valid.nc'\n",
    "data_test = '/local/Tom.Beucler/SPCAM_PHYS/8col009_03_train.nc'\n",
    "mdC = ModelDiagnostics(C_009,config_fn,data_fn)\n",
    "mdU = ModelDiagnostics(U_009,config_fn,data_fn)\n",
    "mdC4k = ModelDiagnostics(C_009,config_fn,data4k_fn)\n",
    "mdU4k = ModelDiagnostics(U_009,config_fn,data4k_fn)"
   ]
  },
  {
   "cell_type": "markdown",
   "metadata": {},
   "source": [
    "#### 5.1.1.2) Save statistics in pickle files"
   ]
  },
  {
   "cell_type": "code",
   "execution_count": 5,
   "metadata": {},
   "outputs": [],
   "source": [
    "# mdC.compute_stats()\n",
    "# pickle.dump(mdC.stats,open('mdCstats.pkl','wb'))"
   ]
  },
  {
   "cell_type": "code",
   "execution_count": 6,
   "metadata": {},
   "outputs": [],
   "source": [
    "# mdU.compute_stats()\n",
    "# pickle.dump(mdU.stats,open('mdUstats.pkl','wb'))"
   ]
  },
  {
   "cell_type": "code",
   "execution_count": 7,
   "metadata": {},
   "outputs": [],
   "source": [
    "# mdU4k.compute_stats()\n",
    "# pickle.dump(mdU4k.stats,open('mdU4kstats.pkl','wb'))"
   ]
  },
  {
   "cell_type": "code",
   "execution_count": 8,
   "metadata": {},
   "outputs": [],
   "source": [
    "# mdC4k.compute_stats()\n",
    "# pickle.dump(mdC4k.stats,open('mdC4kstats.pkl','wb'))"
   ]
  },
  {
   "cell_type": "markdown",
   "metadata": {},
   "source": [
    "#### 5.1.1.3) Load statistics in pickle files"
   ]
  },
  {
   "cell_type": "code",
   "execution_count": 5,
   "metadata": {},
   "outputs": [],
   "source": [
    "mdU.stats = pickle.load(open('mdUstats.pkl','rb'))\n",
    "mdC.stats = pickle.load(open('mdCstats.pkl','rb'))\n",
    "mdU4k.stats = pickle.load(open('mdU4kstats.pkl','rb'))\n",
    "mdC4k.stats = pickle.load(open('mdC4kstats.pkl','rb'))"
   ]
  },
  {
   "cell_type": "markdown",
   "metadata": {},
   "source": [
    "#### 5.1.1.4) Develop Mean Squared Error function in units $W^{2} m^{-4}$"
   ]
  },
  {
   "cell_type": "code",
   "execution_count": 10,
   "metadata": {},
   "outputs": [
    {
     "data": {
      "text/plain": [
       "162.0434265372766"
      ]
     },
     "execution_count": 10,
     "metadata": {},
     "output_type": "execute_result"
    }
   ],
   "source": [
    "MSE = mdC.mse_W2m4().mean((0,1,2))\n",
    "MSE"
   ]
  },
  {
   "cell_type": "markdown",
   "metadata": {},
   "source": [
    "#### 5.1.1.5) Develop energy loss function in units $W^{2} m^{-4}$"
   ]
  },
  {
   "cell_type": "code",
   "execution_count": 21,
   "metadata": {},
   "outputs": [
    {
     "data": {
      "text/plain": [
       "array([272.09897], dtype=float32)"
      ]
     },
     "execution_count": 21,
     "metadata": {},
     "output_type": "execute_result"
    }
   ],
   "source": [
    "# import time\n",
    "# for i in range (100):\n",
    "#     time.sleep(60)\n",
    "#     print(i)\n",
    "# sess = tf.get_default_session()\n",
    "# a.eval()\n",
    "# sess.close()\n",
    "mdU.res['mass'].mean((0,1))"
   ]
  },
  {
   "cell_type": "code",
   "execution_count": 17,
   "metadata": {},
   "outputs": [
    {
     "data": {
      "application/vnd.jupyter.widget-view+json": {
       "model_id": "3dbd7901b4634cbbbf0af0a3b1d2969e",
       "version_major": 2,
       "version_minor": 0
      },
      "text/plain": [
       "HBox(children=(IntProgress(value=0, max=5), HTML(value='')))"
      ]
     },
     "metadata": {},
     "output_type": "display_data"
    },
    {
     "name": "stdout",
     "output_type": "stream",
     "text": [
      "\n"
     ]
    }
   ],
   "source": [
    "nt = mdU.valid_gen.n_batches\n",
    "nt = 5\n",
    "# Allocate stats arrays\n",
    "entres = np.zeros((mdU.nlat, mdU.nlon, mdU.valid_gen.n_outputs))\n",
    "masres = np.copy(entres)\n",
    "lwres = np.copy(entres)\n",
    "swres = np.copy(entres)\n",
    "\n",
    "for itime in tqdm(range(nt)):\n",
    "            inp, p = mdU.get_inp_pred(itime)  # [lat, lon, var, lev]\n",
    "            # residuals\n",
    "            entres = mdU.reshape_ngeo(mdU.ent_res(inp, p))\n",
    "            masres = mdU.reshape_ngeo(mdU.mass_res(inp, p))\n",
    "            lwres = mdU.reshape_ngeo(mdU.lw_res(inp, p))\n",
    "            swres = mdU.reshape_ngeo(mdU.sw_res(inp, p))\n",
    "            \n",
    "mdU.res = {}\n",
    "mdU.res['ent'] = entres/nt\n",
    "mdU.res['mass'] = masres/nt\n",
    "mdU.res['lw'] = lwres/nt\n",
    "mdU.res['sw'] = swres/nt"
   ]
  },
  {
   "cell_type": "markdown",
   "metadata": {},
   "source": [
    "#### 5.1.1.6) Statistics graph"
   ]
  },
  {
   "cell_type": "code",
   "execution_count": 39,
   "metadata": {},
   "outputs": [
    {
     "data": {
      "text/plain": [
       "<matplotlib.colorbar.Colorbar at 0x148420e8f400>"
      ]
     },
     "execution_count": 39,
     "metadata": {},
     "output_type": "execute_result"
    },
    {
     "data": {
      "image/png": "[encoded data removed]",
      "text/plain": [
       "<Figure size 614.4x288 with 2 Axes>"
      ]
     },
     "metadata": {
      "needs_background": "light"
     },
     "output_type": "display_data"
    }
   ],
   "source": [
    "md1 = mdU\n",
    "md2 = mdU\n",
    "plt.matshow(md1.stats['r2'][:, :, md1.get_output_var_idx('QRL')].mean(1).T,\n",
    "            #-\\\n",
    "            #md2.stats['r2'][:, :, md2.get_output_var_idx('QRL')].mean(1).T,\\\n",
    "            vmin=0, vmax=1, cmap='Spectral')\n",
    "plt.colorbar(shrink=0.7)"
   ]
  },
  {
   "cell_type": "code",
   "execution_count": 31,
   "metadata": {},
   "outputs": [
    {
     "data": {
      "text/plain": [
       "<matplotlib.legend.Legend at 0x148421600c50>"
      ]
     },
     "execution_count": 31,
     "metadata": {},
     "output_type": "execute_result"
    },
    {
     "data": {
      "image/png": "[encoded data removed]",
      "text/plain": [
       "<Figure size 576x576 with 1 Axes>"
      ]
     },
     "metadata": {
      "needs_background": "light"
     },
     "output_type": "display_data"
    }
   ],
   "source": [
    "md = mdC4k\n",
    "# Get the vertical coordinate in pressure levels\n",
    "PS = 1e5; P0 = 1e5;\n",
    "P = P0*hyai+PS*hybi; # Total pressure [Pa]\n",
    "P = (P[1:] + P[:-1]) / 2 / 100\n",
    "\n",
    "fig, ax = plt.subplots(figsize=(8, 8))\n",
    "for v in md.valid_gen.output_vars[:7]:\n",
    "    ax.plot(md.stats['hor_r2'][md.get_output_var_idx(v)], P, label=v)\n",
    "ax.set_xlim(0, 1)\n",
    "ax.invert_yaxis()\n",
    "plt.legend()"
   ]
  },
  {
   "cell_type": "markdown",
   "metadata": {},
   "source": [
    "### 5.1.2) Check performance on small subset\n",
    "tgb - 4/15/2016 - Follows notebook 006 at https://github.com/tbeucler/CBRAIN-CAM/blob/master/notebooks/tbeucler_devlog/006_R2_performance.ipynb"
   ]
  },
  {
   "cell_type": "code",
   "execution_count": 112,
   "metadata": {},
   "outputs": [],
   "source": [
    "coor = xr.open_dataset(\"/project/meteo/w2w/A6/S.Rasp/SP-CAM/fluxbypass_aqua/AndKua_aqua_SPCAM3.0_sp_fbp_f4.cam2.h1.0000-01-01-00000.nc\",\\\n",
    "                    decode_times=False)\n",
    "latrange = coor.lat.max()-coor.lat.min(); \n",
    "lonrange = coor.lon.max()-coor.lon.min();\n",
    "levrange = coor.lev.max()-coor.lev.min()\n",
    "tmp = lonrange / latrange\n",
    "asp = (latrange/tmp)/levrange; "
   ]
  },
  {
   "cell_type": "code",
   "execution_count": 123,
   "metadata": {},
   "outputs": [
    {
     "ename": "OSError",
     "evalue": "[Errno -101] NetCDF: HDF error: b'/local/Tom.Beucler/SPCAM_PHYS/8col009_01_train.nc'",
     "output_type": "error",
     "traceback": [
      "\u001b[0;31m---------------------------------------------------------------------------\u001b[0m",
      "\u001b[0;31mKeyError\u001b[0m                                  Traceback (most recent call last)",
      "\u001b[0;32m~/miniconda3/lib/python3.6/site-packages/xarray/backends/file_manager.py\u001b[0m in \u001b[0;36macquire\u001b[0;34m(self)\u001b[0m\n\u001b[1;32m    136\u001b[0m             \u001b[0;32mtry\u001b[0m\u001b[0;34m:\u001b[0m\u001b[0;34m\u001b[0m\u001b[0;34m\u001b[0m\u001b[0m\n\u001b[0;32m--> 137\u001b[0;31m                 \u001b[0mfile\u001b[0m \u001b[0;34m=\u001b[0m \u001b[0mself\u001b[0m\u001b[0;34m.\u001b[0m\u001b[0m_cache\u001b[0m\u001b[0;34m[\u001b[0m\u001b[0mself\u001b[0m\u001b[0;34m.\u001b[0m\u001b[0m_key\u001b[0m\u001b[0;34m]\u001b[0m\u001b[0;34m\u001b[0m\u001b[0;34m\u001b[0m\u001b[0m\n\u001b[0m\u001b[1;32m    138\u001b[0m             \u001b[0;32mexcept\u001b[0m \u001b[0mKeyError\u001b[0m\u001b[0;34m:\u001b[0m\u001b[0;34m\u001b[0m\u001b[0;34m\u001b[0m\u001b[0m\n",
      "\u001b[0;32m~/miniconda3/lib/python3.6/site-packages/xarray/backends/lru_cache.py\u001b[0m in \u001b[0;36m__getitem__\u001b[0;34m(self, key)\u001b[0m\n\u001b[1;32m     42\u001b[0m         \u001b[0;32mwith\u001b[0m \u001b[0mself\u001b[0m\u001b[0;34m.\u001b[0m\u001b[0m_lock\u001b[0m\u001b[0;34m:\u001b[0m\u001b[0;34m\u001b[0m\u001b[0;34m\u001b[0m\u001b[0m\n\u001b[0;32m---> 43\u001b[0;31m             \u001b[0mvalue\u001b[0m \u001b[0;34m=\u001b[0m \u001b[0mself\u001b[0m\u001b[0;34m.\u001b[0m\u001b[0m_cache\u001b[0m\u001b[0;34m[\u001b[0m\u001b[0mkey\u001b[0m\u001b[0;34m]\u001b[0m\u001b[0;34m\u001b[0m\u001b[0;34m\u001b[0m\u001b[0m\n\u001b[0m\u001b[1;32m     44\u001b[0m             \u001b[0mmove_to_end\u001b[0m\u001b[0;34m(\u001b[0m\u001b[0mself\u001b[0m\u001b[0;34m.\u001b[0m\u001b[0m_cache\u001b[0m\u001b[0;34m,\u001b[0m \u001b[0mkey\u001b[0m\u001b[0;34m)\u001b[0m\u001b[0;34m\u001b[0m\u001b[0;34m\u001b[0m\u001b[0m\n",
      "\u001b[0;31mKeyError\u001b[0m: [<function _open_netcdf4_group at 0x1546a6a35268>, ('/local/Tom.Beucler/SPCAM_PHYS/8col009_01_train.nc', CombinedLock([<SerializableLock: 1ddeb779-297e-4f7a-8843-6a1f09a41fb1>, <SerializableLock: fd63ec6c-efbe-4cb8-974c-69ea79a5c9ff>])), 'r', (('clobber', True), ('diskless', False), ('format', 'NETCDF4'), ('group', None), ('persist', False))]",
      "\nDuring handling of the above exception, another exception occurred:\n",
      "\u001b[0;31mOSError\u001b[0m                                   Traceback (most recent call last)",
      "\u001b[0;32m<ipython-input-123-d8c78944c66d>\u001b[0m in \u001b[0;36m<module>\u001b[0;34m\u001b[0m\n\u001b[1;32m     11\u001b[0m     \u001b[0moutput_transform\u001b[0m \u001b[0;34m=\u001b[0m \u001b[0mscale_dict\u001b[0m\u001b[0;34m,\u001b[0m\u001b[0;34m\u001b[0m\u001b[0;34m\u001b[0m\u001b[0m\n\u001b[1;32m     12\u001b[0m     \u001b[0mbatch_size\u001b[0m\u001b[0;34m=\u001b[0m\u001b[0;36m8192\u001b[0m\u001b[0;34m,\u001b[0m\u001b[0;34m\u001b[0m\u001b[0;34m\u001b[0m\u001b[0m\n\u001b[0;32m---> 13\u001b[0;31m     \u001b[0mshuffle\u001b[0m\u001b[0;34m=\u001b[0m\u001b[0;32mFalse\u001b[0m\u001b[0;34m\u001b[0m\u001b[0;34m\u001b[0m\u001b[0m\n\u001b[0m\u001b[1;32m     14\u001b[0m )\n\u001b[1;32m     15\u001b[0m \u001b[0;31m#dir(order_gen)\u001b[0m\u001b[0;34m\u001b[0m\u001b[0;34m\u001b[0m\u001b[0;34m\u001b[0m\u001b[0m\n",
      "\u001b[0;32m/filer/z-sv-pool12c/t/Tom.Beucler/SPCAM/CBRAIN-CAM/notebooks/tbeucler_devlog/cbrain/data_generator.py\u001b[0m in \u001b[0;36m__init__\u001b[0;34m(self, data_fn, input_vars, output_vars, norm_fn, input_transform, output_transform, batch_size, shuffle, xarray)\u001b[0m\n\u001b[1;32m     27\u001b[0m \u001b[0;34m\u001b[0m\u001b[0m\n\u001b[1;32m     28\u001b[0m         \u001b[0;31m# Open datasets\u001b[0m\u001b[0;34m\u001b[0m\u001b[0;34m\u001b[0m\u001b[0;34m\u001b[0m\u001b[0m\n\u001b[0;32m---> 29\u001b[0;31m         \u001b[0mself\u001b[0m\u001b[0;34m.\u001b[0m\u001b[0mdata_ds\u001b[0m \u001b[0;34m=\u001b[0m \u001b[0mxr\u001b[0m\u001b[0;34m.\u001b[0m\u001b[0mopen_dataset\u001b[0m\u001b[0;34m(\u001b[0m\u001b[0mdata_fn\u001b[0m\u001b[0;34m)\u001b[0m\u001b[0;34m\u001b[0m\u001b[0;34m\u001b[0m\u001b[0m\n\u001b[0m\u001b[1;32m     30\u001b[0m         \u001b[0;32mif\u001b[0m \u001b[0mnorm_fn\u001b[0m \u001b[0;32mis\u001b[0m \u001b[0;32mnot\u001b[0m \u001b[0;32mNone\u001b[0m\u001b[0;34m:\u001b[0m \u001b[0mself\u001b[0m\u001b[0;34m.\u001b[0m\u001b[0mnorm_ds\u001b[0m \u001b[0;34m=\u001b[0m \u001b[0mxr\u001b[0m\u001b[0;34m.\u001b[0m\u001b[0mopen_dataset\u001b[0m\u001b[0;34m(\u001b[0m\u001b[0mnorm_fn\u001b[0m\u001b[0;34m)\u001b[0m\u001b[0;34m\u001b[0m\u001b[0;34m\u001b[0m\u001b[0m\n\u001b[1;32m     31\u001b[0m \u001b[0;34m\u001b[0m\u001b[0m\n",
      "\u001b[0;32m~/miniconda3/lib/python3.6/site-packages/xarray/backends/api.py\u001b[0m in \u001b[0;36mopen_dataset\u001b[0;34m(filename_or_obj, group, decode_cf, mask_and_scale, decode_times, autoclose, concat_characters, decode_coords, engine, chunks, lock, cache, drop_variables, backend_kwargs)\u001b[0m\n\u001b[1;32m    318\u001b[0m         \u001b[0;32mif\u001b[0m \u001b[0mengine\u001b[0m \u001b[0;34m==\u001b[0m \u001b[0;34m'netcdf4'\u001b[0m\u001b[0;34m:\u001b[0m\u001b[0;34m\u001b[0m\u001b[0;34m\u001b[0m\u001b[0m\n\u001b[1;32m    319\u001b[0m             store = backends.NetCDF4DataStore.open(\n\u001b[0;32m--> 320\u001b[0;31m                 filename_or_obj, group=group, lock=lock, **backend_kwargs)\n\u001b[0m\u001b[1;32m    321\u001b[0m         \u001b[0;32melif\u001b[0m \u001b[0mengine\u001b[0m \u001b[0;34m==\u001b[0m \u001b[0;34m'scipy'\u001b[0m\u001b[0;34m:\u001b[0m\u001b[0;34m\u001b[0m\u001b[0;34m\u001b[0m\u001b[0m\n\u001b[1;32m    322\u001b[0m             \u001b[0mstore\u001b[0m \u001b[0;34m=\u001b[0m \u001b[0mbackends\u001b[0m\u001b[0;34m.\u001b[0m\u001b[0mScipyDataStore\u001b[0m\u001b[0;34m(\u001b[0m\u001b[0mfilename_or_obj\u001b[0m\u001b[0;34m,\u001b[0m \u001b[0;34m**\u001b[0m\u001b[0mbackend_kwargs\u001b[0m\u001b[0;34m)\u001b[0m\u001b[0;34m\u001b[0m\u001b[0;34m\u001b[0m\u001b[0m\n",
      "\u001b[0;32m~/miniconda3/lib/python3.6/site-packages/xarray/backends/netCDF4_.py\u001b[0m in \u001b[0;36mopen\u001b[0;34m(cls, filename, mode, format, group, clobber, diskless, persist, lock, lock_maker, autoclose)\u001b[0m\n\u001b[1;32m    353\u001b[0m             kwargs=dict(group=group, clobber=clobber, diskless=diskless,\n\u001b[1;32m    354\u001b[0m                         persist=persist, format=format))\n\u001b[0;32m--> 355\u001b[0;31m         \u001b[0;32mreturn\u001b[0m \u001b[0mcls\u001b[0m\u001b[0;34m(\u001b[0m\u001b[0mmanager\u001b[0m\u001b[0;34m,\u001b[0m \u001b[0mlock\u001b[0m\u001b[0;34m=\u001b[0m\u001b[0mlock\u001b[0m\u001b[0;34m,\u001b[0m \u001b[0mautoclose\u001b[0m\u001b[0;34m=\u001b[0m\u001b[0mautoclose\u001b[0m\u001b[0;34m)\u001b[0m\u001b[0;34m\u001b[0m\u001b[0;34m\u001b[0m\u001b[0m\n\u001b[0m\u001b[1;32m    356\u001b[0m \u001b[0;34m\u001b[0m\u001b[0m\n\u001b[1;32m    357\u001b[0m     \u001b[0;34m@\u001b[0m\u001b[0mproperty\u001b[0m\u001b[0;34m\u001b[0m\u001b[0;34m\u001b[0m\u001b[0m\n",
      "\u001b[0;32m~/miniconda3/lib/python3.6/site-packages/xarray/backends/netCDF4_.py\u001b[0m in \u001b[0;36m__init__\u001b[0;34m(self, manager, lock, autoclose)\u001b[0m\n\u001b[1;32m    312\u001b[0m \u001b[0;34m\u001b[0m\u001b[0m\n\u001b[1;32m    313\u001b[0m         \u001b[0mself\u001b[0m\u001b[0;34m.\u001b[0m\u001b[0m_manager\u001b[0m \u001b[0;34m=\u001b[0m \u001b[0mmanager\u001b[0m\u001b[0;34m\u001b[0m\u001b[0;34m\u001b[0m\u001b[0m\n\u001b[0;32m--> 314\u001b[0;31m         \u001b[0mself\u001b[0m\u001b[0;34m.\u001b[0m\u001b[0mformat\u001b[0m \u001b[0;34m=\u001b[0m \u001b[0mself\u001b[0m\u001b[0;34m.\u001b[0m\u001b[0mds\u001b[0m\u001b[0;34m.\u001b[0m\u001b[0mdata_model\u001b[0m\u001b[0;34m\u001b[0m\u001b[0;34m\u001b[0m\u001b[0m\n\u001b[0m\u001b[1;32m    315\u001b[0m         \u001b[0mself\u001b[0m\u001b[0;34m.\u001b[0m\u001b[0m_filename\u001b[0m \u001b[0;34m=\u001b[0m \u001b[0mself\u001b[0m\u001b[0;34m.\u001b[0m\u001b[0mds\u001b[0m\u001b[0;34m.\u001b[0m\u001b[0mfilepath\u001b[0m\u001b[0;34m(\u001b[0m\u001b[0;34m)\u001b[0m\u001b[0;34m\u001b[0m\u001b[0;34m\u001b[0m\u001b[0m\n\u001b[1;32m    316\u001b[0m         \u001b[0mself\u001b[0m\u001b[0;34m.\u001b[0m\u001b[0mis_remote\u001b[0m \u001b[0;34m=\u001b[0m \u001b[0mis_remote_uri\u001b[0m\u001b[0;34m(\u001b[0m\u001b[0mself\u001b[0m\u001b[0;34m.\u001b[0m\u001b[0m_filename\u001b[0m\u001b[0;34m)\u001b[0m\u001b[0;34m\u001b[0m\u001b[0;34m\u001b[0m\u001b[0m\n",
      "\u001b[0;32m~/miniconda3/lib/python3.6/site-packages/xarray/backends/netCDF4_.py\u001b[0m in \u001b[0;36mds\u001b[0;34m(self)\u001b[0m\n\u001b[1;32m    357\u001b[0m     \u001b[0;34m@\u001b[0m\u001b[0mproperty\u001b[0m\u001b[0;34m\u001b[0m\u001b[0;34m\u001b[0m\u001b[0m\n\u001b[1;32m    358\u001b[0m     \u001b[0;32mdef\u001b[0m \u001b[0mds\u001b[0m\u001b[0;34m(\u001b[0m\u001b[0mself\u001b[0m\u001b[0;34m)\u001b[0m\u001b[0;34m:\u001b[0m\u001b[0;34m\u001b[0m\u001b[0;34m\u001b[0m\u001b[0m\n\u001b[0;32m--> 359\u001b[0;31m         \u001b[0;32mreturn\u001b[0m \u001b[0mself\u001b[0m\u001b[0;34m.\u001b[0m\u001b[0m_manager\u001b[0m\u001b[0;34m.\u001b[0m\u001b[0macquire\u001b[0m\u001b[0;34m(\u001b[0m\u001b[0;34m)\u001b[0m\u001b[0;34m.\u001b[0m\u001b[0mvalue\u001b[0m\u001b[0;34m\u001b[0m\u001b[0;34m\u001b[0m\u001b[0m\n\u001b[0m\u001b[1;32m    360\u001b[0m \u001b[0;34m\u001b[0m\u001b[0m\n\u001b[1;32m    361\u001b[0m     \u001b[0;32mdef\u001b[0m \u001b[0mopen_store_variable\u001b[0m\u001b[0;34m(\u001b[0m\u001b[0mself\u001b[0m\u001b[0;34m,\u001b[0m \u001b[0mname\u001b[0m\u001b[0;34m,\u001b[0m \u001b[0mvar\u001b[0m\u001b[0;34m)\u001b[0m\u001b[0;34m:\u001b[0m\u001b[0;34m\u001b[0m\u001b[0;34m\u001b[0m\u001b[0m\n",
      "\u001b[0;32m~/miniconda3/lib/python3.6/site-packages/xarray/backends/file_manager.py\u001b[0m in \u001b[0;36macquire\u001b[0;34m(self)\u001b[0m\n\u001b[1;32m    141\u001b[0m                     \u001b[0mkwargs\u001b[0m \u001b[0;34m=\u001b[0m \u001b[0mkwargs\u001b[0m\u001b[0;34m.\u001b[0m\u001b[0mcopy\u001b[0m\u001b[0;34m(\u001b[0m\u001b[0;34m)\u001b[0m\u001b[0;34m\u001b[0m\u001b[0;34m\u001b[0m\u001b[0m\n\u001b[1;32m    142\u001b[0m                     \u001b[0mkwargs\u001b[0m\u001b[0;34m[\u001b[0m\u001b[0;34m'mode'\u001b[0m\u001b[0;34m]\u001b[0m \u001b[0;34m=\u001b[0m \u001b[0mself\u001b[0m\u001b[0;34m.\u001b[0m\u001b[0m_mode\u001b[0m\u001b[0;34m\u001b[0m\u001b[0;34m\u001b[0m\u001b[0m\n\u001b[0;32m--> 143\u001b[0;31m                 \u001b[0mfile\u001b[0m \u001b[0;34m=\u001b[0m \u001b[0mself\u001b[0m\u001b[0;34m.\u001b[0m\u001b[0m_opener\u001b[0m\u001b[0;34m(\u001b[0m\u001b[0;34m*\u001b[0m\u001b[0mself\u001b[0m\u001b[0;34m.\u001b[0m\u001b[0m_args\u001b[0m\u001b[0;34m,\u001b[0m \u001b[0;34m**\u001b[0m\u001b[0mkwargs\u001b[0m\u001b[0;34m)\u001b[0m\u001b[0;34m\u001b[0m\u001b[0;34m\u001b[0m\u001b[0m\n\u001b[0m\u001b[1;32m    144\u001b[0m                 \u001b[0;32mif\u001b[0m \u001b[0mself\u001b[0m\u001b[0;34m.\u001b[0m\u001b[0m_mode\u001b[0m \u001b[0;34m==\u001b[0m \u001b[0;34m'w'\u001b[0m\u001b[0;34m:\u001b[0m\u001b[0;34m\u001b[0m\u001b[0;34m\u001b[0m\u001b[0m\n\u001b[1;32m    145\u001b[0m                     \u001b[0;31m# ensure file doesn't get overriden when opened again\u001b[0m\u001b[0;34m\u001b[0m\u001b[0;34m\u001b[0m\u001b[0;34m\u001b[0m\u001b[0m\n",
      "\u001b[0;32m~/miniconda3/lib/python3.6/site-packages/xarray/backends/netCDF4_.py\u001b[0m in \u001b[0;36m_open_netcdf4_group\u001b[0;34m(filename, lock, mode, group, **kwargs)\u001b[0m\n\u001b[1;32m    245\u001b[0m     \u001b[0;32mimport\u001b[0m \u001b[0mnetCDF4\u001b[0m \u001b[0;32mas\u001b[0m \u001b[0mnc4\u001b[0m\u001b[0;34m\u001b[0m\u001b[0;34m\u001b[0m\u001b[0m\n\u001b[1;32m    246\u001b[0m \u001b[0;34m\u001b[0m\u001b[0m\n\u001b[0;32m--> 247\u001b[0;31m     \u001b[0mds\u001b[0m \u001b[0;34m=\u001b[0m \u001b[0mnc4\u001b[0m\u001b[0;34m.\u001b[0m\u001b[0mDataset\u001b[0m\u001b[0;34m(\u001b[0m\u001b[0mfilename\u001b[0m\u001b[0;34m,\u001b[0m \u001b[0mmode\u001b[0m\u001b[0;34m=\u001b[0m\u001b[0mmode\u001b[0m\u001b[0;34m,\u001b[0m \u001b[0;34m**\u001b[0m\u001b[0mkwargs\u001b[0m\u001b[0;34m)\u001b[0m\u001b[0;34m\u001b[0m\u001b[0;34m\u001b[0m\u001b[0m\n\u001b[0m\u001b[1;32m    248\u001b[0m \u001b[0;34m\u001b[0m\u001b[0m\n\u001b[1;32m    249\u001b[0m     \u001b[0;32mwith\u001b[0m \u001b[0mclose_on_error\u001b[0m\u001b[0;34m(\u001b[0m\u001b[0mds\u001b[0m\u001b[0;34m)\u001b[0m\u001b[0;34m:\u001b[0m\u001b[0;34m\u001b[0m\u001b[0;34m\u001b[0m\u001b[0m\n",
      "\u001b[0;32mnetCDF4/_netCDF4.pyx\u001b[0m in \u001b[0;36mnetCDF4._netCDF4.Dataset.__init__\u001b[0;34m()\u001b[0m\n",
      "\u001b[0;32mnetCDF4/_netCDF4.pyx\u001b[0m in \u001b[0;36mnetCDF4._netCDF4._ensure_nc_success\u001b[0;34m()\u001b[0m\n",
      "\u001b[0;31mOSError\u001b[0m: [Errno -101] NetCDF: HDF error: b'/local/Tom.Beucler/SPCAM_PHYS/8col009_01_train.nc'"
     ]
    }
   ],
   "source": [
    "load_pickle('/home/t/Tom.Beucler/SPCAM/CBRAIN-CAM/nn_config/scale_dicts/009_Wm2_scaling.pkl')\n",
    "load_pickle('/home/t/Tom.Beucler/SPCAM/CBRAIN-CAM/nn_config/scale_dicts/009_Wm2_in_vars.pkl')\n",
    "load_pickle('/home/t/Tom.Beucler/SPCAM/CBRAIN-CAM/nn_config/scale_dicts/009_Wm2_out_vars.pkl')\n",
    "load_pickle('/home/t/Tom.Beucler/SPCAM/CBRAIN-CAM/nn_config/scale_dicts/009_Wm2_dP.pkl')\n",
    "order_gen = DataGenerator(\n",
    "    data_fn = TRAINDIR+PREFIX+'train.nc',\n",
    "    input_vars = in_vars,\n",
    "    output_vars = out_vars,\n",
    "    norm_fn = TRAINDIR+PREFIX+'norm.nc',\n",
    "    input_transform = ('mean', 'maxrs'),\n",
    "    output_transform = scale_dict,\n",
    "    batch_size=8192,\n",
    "    shuffle=False\n",
    ")\n",
    "#dir(order_gen)\n",
    "#vars(order_gen)"
   ]
  },
  {
   "cell_type": "code",
   "execution_count": 124,
   "metadata": {},
   "outputs": [],
   "source": [
    "from string import ascii_lowercase\n",
    "# Labels\n",
    "labels = []\n",
    "for i in range(4):\n",
    "    labels.append([f'{ascii_lowercase[i*2]}) CBRAIN', f'{ascii_lowercase[i*2+1]}) SP-CAM'])\n",
    "# Plotting ranges\n",
    "lims = {\n",
    "    'TPHYSTND_NORAD': [-5e-4, 5e-4],\n",
    "    'PHQ': [-2e-7, 2e-7],\n",
    "    'QRL': [-1e-4, 1e-4],\n",
    "    'QRS': [-1e-4, 1e-4],\n",
    "    'PHCLDLIQ': [-5e-8, 5e-8],\n",
    "    'PHCLDICE': [-5e-8, 5e-8],\n",
    "    'TPHYSTND': [-5e-4, 5e-4],\n",
    "    'DTVKE': [-5e-6, 5e-6],\n",
    "}\n",
    "# Full names\n",
    "name = {\n",
    "    'TPHYSTND_NORAD': 'Convective heating rate',\n",
    "    'PHQ': 'Convective moistening rate',\n",
    "    'QRL': 'Longwave heating rate',\n",
    "    'QRS': 'Shortwave heating rate',\n",
    "    'PHCLDLIQ': 'Convective liquid rate',\n",
    "    'PHCLDICE': 'Convective ice rate',\n",
    "    'TPHYSTND': 'Total heating rate',\n",
    "    'DTVKE': 'Turbulent dissipation heating',\n",
    "}\n",
    "# Units\n",
    "unit = {\n",
    "    'TPHYSTND_NORAD': '[K/s]',\n",
    "    'PHQ': '[kg/kg/s]',\n",
    "    'QRL': '[K/s]',\n",
    "    'QRS': '[K/s]',\n",
    "    'PHCLDLIQ': '[kg/kg/s]',\n",
    "    'PHCLDICE': '[kg/kg/s]',\n",
    "    'TPHYSTND': '[K/s]',\n",
    "    'DTVKE': '[K/s]',\n",
    "}"
   ]
  },
  {
   "cell_type": "code",
   "execution_count": 125,
   "metadata": {},
   "outputs": [
    {
     "name": "stdout",
     "output_type": "stream",
     "text": [
      "Initializing arrays of zeros\n",
      "it =  399 / 399\r"
     ]
    }
   ],
   "source": [
    "# 1) Initialize array of zeros (Nout=218,Nt=429,Nlat=64,Nlon=128)\n",
    "Nout = 218; Nt = 400; Nlat = 64; Nlon = 128; Nlev = 30;\n",
    "print('Initializing arrays of zeros')\n",
    "Truth = np.zeros(shape=(Nout,Nt,Nlat))\n",
    "Truth = np.repeat(Truth[:,:,:,np.newaxis], Nlon, axis=3)\n",
    "pred_C = np.zeros(shape=(Nout,Nt,Nlat))\n",
    "pred_C = np.repeat(pred_C[:,:,:,np.newaxis], Nlon, axis=3)\n",
    "pred_U = np.zeros(shape=(Nout,Nt,Nlat))\n",
    "pred_U = np.repeat(pred_U[:,:,:,np.newaxis], Nlon, axis=3)\n",
    "# 2) Fill up the array with truth and prediction\n",
    "for it in range (Nt):\n",
    "    print('it = ',it,'/',Nt-1,end=\"\\r\")\n",
    "    x, y = order_gen[it];\n",
    "    Truth[:,it,:,:] = np.reshape(np.transpose(y),((Nout,Nlat,Nlon)));\n",
    "    pred_C[:,it,:,:] = np.reshape(np.transpose(C_009.predict_on_batch(x)),((Nout,Nlat,Nlon)));\n",
    "    pred_U[:,it,:,:] = np.reshape(np.transpose(U_009.predict_on_batch(x)),((Nout,Nlat,Nlon)));"
   ]
  },
  {
   "cell_type": "code",
   "execution_count": 126,
   "metadata": {},
   "outputs": [
    {
     "name": "stdout",
     "output_type": "stream",
     "text": [
      "0 TPHYSTND_NORAD\n",
      "1 PHQ\n",
      "2 QRL\n",
      "3 QRS\n"
     ]
    },
    {
     "name": "stderr",
     "output_type": "stream",
     "text": [
      "/home/t/Tom.Beucler/miniconda3/lib/python3.6/site-packages/ipykernel_launcher.py:39: RuntimeWarning: divide by zero encountered in true_divide\n"
     ]
    },
    {
     "name": "stdout",
     "output_type": "stream",
     "text": [
      "0 TPHYSTND_NORAD\n",
      "1 PHQ\n",
      "2 QRL\n",
      "3 QRS\n"
     ]
    },
    {
     "name": "stderr",
     "output_type": "stream",
     "text": [
      "/home/t/Tom.Beucler/miniconda3/lib/python3.6/site-packages/ipykernel_launcher.py:40: RuntimeWarning: divide by zero encountered in true_divide\n"
     ]
    }
   ],
   "source": [
    "# Calculate lat/lon-averaged statistics\n",
    "for index in range (2): \n",
    "    if index==0: PRED = pred_U;\n",
    "    elif index==1: PRED = pred_C;\n",
    "    Nvar = 4;\n",
    "    maskC = 5e-4; # Mask regions where the variance is smaller than the mean variance by a factor maskC\n",
    "\n",
    "    option = 1; # [1] to plot CV/RAD [2] to plot microphysics/turb\n",
    "    if option==1: vars = ['TPHYSTND_NORAD', 'PHQ', 'QRL', 'QRS'];\n",
    "    elif option==2: vars = ['PHCLDLIQ','PHCLDICE','TPHYSTND','DTVKE'];\n",
    "\n",
    "    sse = np.zeros(shape=(Nvar,Nlev))\n",
    "    tvar = np.zeros(shape=(Nvar,Nlev))\n",
    "    mask = np.zeros(shape=(Nvar,Nlev))\n",
    "    TRU = Truth;\n",
    "    dP_DIV = dP.reshape(30,1,1,1)\n",
    "    ilev = np.arange(0,30,1)\n",
    "    for i, v in enumerate(vars):\n",
    "        print(i,v)\n",
    "\n",
    "        if option==1:\n",
    "            if i==0: \n",
    "                pred = (PRED[90+ilev,:,:,:]-PRED[120+ilev,:,:,:]-PRED[150+ilev,:,:,:])/(C_P*dP_DIV/G);\n",
    "                tru = (TRU[90+ilev,:,:,:]-TRU[120+ilev,:,:,:]-TRU[150+ilev,:,:,:])/(C_P*dP_DIV/G);\n",
    "            elif i==1: pred = PRED[ilev,:,:,:]/(L_V*dP_DIV/G); tru = TRU[ilev,:,:,:]/(L_V*dP_DIV/G);\n",
    "            elif i==2: pred = PRED[120+ilev,:,:,:]/(C_P*dP_DIV/G); tru = TRU[120+ilev,:,:,:]/(C_P*dP_DIV/G);\n",
    "            elif i==3: pred = PRED[150+ilev,:,:,:]/(C_P*dP_DIV/G); tru = TRU[150+ilev,:,:,:]/(C_P*dP_DIV/G);\n",
    "        elif option==2:\n",
    "            if i==0: pred = PRED[30+ilev,:,:,:]/(L_V*dP_DIV/G); tru = TRU[30+ilev,:,:,:]/(L_V*dP_DIV/G);\n",
    "            elif i==1: pred = PRED[60+ilev,:,:,:]/(L_V*dP_DIV/G); tru = TRU[60+ilev,:,:,:]/(L_V*dP_DIV/G);\n",
    "            elif i==2: pred = PRED[90+ilev,:,:,:]/(C_P*dP_DIV/G); tru = TRU[90+ilev,:,:,:]/(C_P*dP_DIV/G);\n",
    "            elif i==3: pred = PRED[180+ilev,:,:,:]/(C_P*dP_DIV/G); tru = TRU[180+ilev,:,:,:]/(C_P*dP_DIV/G);\n",
    "\n",
    "        sse[i,:] = np.mean(abs(pred-tru)**2,axis=(1,2,3));\n",
    "        tvar[i,:] = np.mean(abs(tru-np.mean(tru,axis=(1,2,3)).reshape(tru.shape[0],1,1,1))**2,axis=(1,2,3));\n",
    "        mask[i,:] = tvar[i,:]<maskC*tvar[i,:].mean(axis=(0))\n",
    "\n",
    "    mask = mask.astype(int); # Convert mask to integer array\n",
    "    if index==0: r2U = 1-sse/tvar;\n",
    "    elif index==1: r2C = 1-sse/tvar"
   ]
  },
  {
   "cell_type": "code",
   "execution_count": 127,
   "metadata": {},
   "outputs": [],
   "source": [
    "def despine(ax):\n",
    "    ax.spines['right'].set_visible(False)\n",
    "    ax.spines['top'].set_visible(False)"
   ]
  },
  {
   "cell_type": "code",
   "execution_count": 128,
   "metadata": {
    "scrolled": false
   },
   "outputs": [
    {
     "name": "stderr",
     "output_type": "stream",
     "text": [
      "/home/t/Tom.Beucler/miniconda3/lib/python3.6/site-packages/ipykernel_launcher.py:6: RuntimeWarning: invalid value encountered in subtract\n",
      "  \n"
     ]
    },
    {
     "data": {
      "image/png": "[encoded data removed]",
      "text/plain": [
       "<Figure size 432x720 with 1 Axes>"
      ]
     },
     "metadata": {
      "needs_background": "light"
     },
     "output_type": "display_data"
    }
   ],
   "source": [
    "fig, ax = plt.subplots(figsize=(6,10))\n",
    "ax.plot(0*r2C[1,:]**0, coor.lev, color='k', label='0 line')\n",
    "for i, v in enumerate(['TPHYSTND_NORAD', 'PHQ']):\n",
    "    #ax.plot(r2C[i,:], coor.lev, label=name[v]+'C', linewidth=2)\n",
    "    #ax.plot(r2U[i,:], coor.lev, label=name[v]+'U', linewidth=2,linestyle='dashed')\n",
    "    ax.plot(r2C[i,:]-r2U[i,:],coor.lev,label=name[v]+'C-U',linewidth=2)\n",
    "ax.invert_yaxis()\n",
    "ax.set_ylabel('Pressure [hPa]'); ax.set_xlabel(r'R$^2$')\n",
    "ax.set_xlim(-0.1, 0.1)\n",
    "ax.set_title(r'R$^2$ by height and variable')\n",
    "despine(ax)\n",
    "L = ax.legend(); L._loc=6;"
   ]
  },
  {
   "cell_type": "code",
   "execution_count": 129,
   "metadata": {},
   "outputs": [
    {
     "name": "stdout",
     "output_type": "stream",
     "text": [
      "0 TPHYSTND_NORAD\n",
      "1 PHQ\n",
      "2 QRL\n",
      "3 QRS\n"
     ]
    },
    {
     "name": "stderr",
     "output_type": "stream",
     "text": [
      "/home/t/Tom.Beucler/miniconda3/lib/python3.6/site-packages/ipykernel_launcher.py:41: RuntimeWarning: divide by zero encountered in true_divide\n"
     ]
    },
    {
     "name": "stdout",
     "output_type": "stream",
     "text": [
      "0 TPHYSTND_NORAD\n",
      "1 PHQ\n",
      "2 QRL\n",
      "3 QRS\n"
     ]
    },
    {
     "name": "stderr",
     "output_type": "stream",
     "text": [
      "/home/t/Tom.Beucler/miniconda3/lib/python3.6/site-packages/ipykernel_launcher.py:42: RuntimeWarning: divide by zero encountered in true_divide\n"
     ]
    }
   ],
   "source": [
    "# Calculate lat/lon-averaged statistics\n",
    "for index in range (2): \n",
    "    if index==0: PRED = pred_U;\n",
    "    elif index==1: PRED = pred_C;\n",
    "    Nvar = 4;\n",
    "    maskC = 5e-4; # Mask regions where the variance is smaller than the mean variance by a factor maskC\n",
    "\n",
    "    option = 1; # [1] to plot CV/RAD [2] to plot microphysics/turb\n",
    "    if option==1: vars = ['TPHYSTND_NORAD', 'PHQ', 'QRL', 'QRS'];\n",
    "    elif option==2: vars = ['PHCLDLIQ','PHCLDICE','TPHYSTND','DTVKE'];\n",
    "\n",
    "    sse = np.zeros(shape=(Nvar,Nlev,Nlat))\n",
    "    tvar = np.zeros(shape=(Nvar,Nlev,Nlat))\n",
    "    mask = np.zeros(shape=(Nvar,Nlev,Nlat))\n",
    "\n",
    "    TRU = Truth;\n",
    "    dP_DIV = dP.reshape(30,1,1,1)\n",
    "    ilev = np.arange(0,30,1)\n",
    "    for i, v in enumerate(vars):\n",
    "        print(i,v)\n",
    "\n",
    "        if option==1:\n",
    "            if i==0: \n",
    "                pred = (PRED[90+ilev,:,:,:]-PRED[120+ilev,:,:,:]-PRED[150+ilev,:,:,:])/(C_P*dP_DIV/G);\n",
    "                tru = (TRU[90+ilev,:,:,:]-TRU[120+ilev,:,:,:]-TRU[150+ilev,:,:,:])/(C_P*dP_DIV/G);\n",
    "            elif i==1: pred = PRED[ilev,:,:,:]/(L_V*dP_DIV/G); tru = TRU[ilev,:,:,:]/(L_V*dP_DIV/G);\n",
    "            elif i==2: pred = PRED[120+ilev,:,:,:]/(C_P*dP_DIV/G); tru = TRU[120+ilev,:,:,:]/(C_P*dP_DIV/G);\n",
    "            elif i==3: pred = PRED[150+ilev,:,:,:]/(C_P*dP_DIV/G); tru = TRU[150+ilev,:,:,:]/(C_P*dP_DIV/G);\n",
    "        elif option==2:\n",
    "            if i==0: pred = PRED[30+ilev,:,:,:]/(L_V*dP_DIV/G); tru = TRU[30+ilev,:,:,:]/(L_V*dP_DIV/G);\n",
    "            elif i==1: pred = PRED[60+ilev,:,:,:]/(L_V*dP_DIV/G); tru = TRU[60+ilev,:,:,:]/(L_V*dP_DIV/G);\n",
    "            elif i==2: pred = PRED[90+ilev,:,:,:]/(C_P*dP_DIV/G); tru = TRU[90+ilev,:,:,:]/(C_P*dP_DIV/G);\n",
    "            elif i==3: pred = PRED[180+ilev,:,:,:]/(C_P*dP_DIV/G); tru = TRU[180+ilev,:,:,:]/(C_P*dP_DIV/G);\n",
    "\n",
    "        sse[i,:,:] = np.mean(abs(pred-tru)**2,axis=(1,3));\n",
    "        tvar[i,:,:] = np.mean(abs(tru-np.mean(tru,axis=(1,3)).reshape(tru.shape[0],1,tru.shape[2],1))**2,axis=(1,3));\n",
    "        mask[i,:,:] = tvar[i,:,:]<maskC*np.mean(tvar[i,:,:],axis=1).reshape(1,tvar.shape[1],1)\n",
    "\n",
    "    mask = mask.astype(int); # Convert mask to integer array\n",
    "\n",
    "    if index==0: r2U = 1-sse/tvar;\n",
    "    elif index==1: r2C = 1-sse/tvar"
   ]
  },
  {
   "cell_type": "code",
   "execution_count": 130,
   "metadata": {},
   "outputs": [],
   "source": [
    "from matplotlib import patches, patheffects\n",
    "def draw_outline(o, lw):\n",
    "    o.set_path_effects([patheffects.Stroke(\n",
    "        linewidth=lw, foreground='white'), patheffects.Normal()])\n",
    "    \n",
    "def plot_4stats(ivar, stat, title='', vmult=1, only_pos=False, func=None, mylims=None, rows=2,\n",
    "                letter_offset=0, masks=None, extend='both', **kwargs):\n",
    "    fig, axes = plt.subplots(rows, 2, figsize=(16, 2 * rows))\n",
    "    axes = np.atleast_2d(axes)\n",
    "    plt.subplots_adjust(wspace=0.0, hspace=0.)\n",
    "    for i, (ax, v) in enumerate(zip(axes.flat, vars)):\n",
    "        print('i=',i,'(ax,v)=',(ax,v),'func=',func,'stat=',stat)\n",
    "        if func:\n",
    "            a = func(d, v)\n",
    "        else:\n",
    "            if stat=='r2': a = r2[i,:,:];\n",
    "            elif stat=='tvar': a = tvar[i,:,:]\n",
    "            elif stat=='r2C': a = r2C[i,:,:]\n",
    "            elif stat=='r2U': a = r2U[i,:,:]\n",
    "            elif stat=='r2CmU': a = r2C[i,:,:]-r2U[i,:,:]\n",
    "        if mylims is None: \n",
    "            vmin = 0 if only_pos else lims[v][0]*vmult\n",
    "            vmax = lims[v][1]*vmult\n",
    "        else:\n",
    "            vmin = mylims[0]; vmax = mylims[1]\n",
    "\n",
    "        if masks is not None: a[masks[i,:,:]==1] = np.nan\n",
    "\n",
    "        I = ax.pcolormesh(coor.lat, coor.lev, a, vmin=vmin, vmax=vmax, **kwargs)\n",
    "        txt = ax.text(0.01, 0.90, f'{ascii_lowercase[i+letter_offset]}) {name[v]}', \n",
    "                      transform=ax.transAxes, fontsize=12)\n",
    "        draw_outline(txt, 2)\n",
    "        cb = fig.colorbar(I, ax=ax, orientation='vertical', shrink=0.8, pad=0.02, \n",
    "                          extend=extend)\n",
    "        cb.set_label(unit[v])\n",
    "        cb.formatter.set_powerlimits((-1, 1))\n",
    "        cb.ax.yaxis.set_offset_position('left') \n",
    "        cb.update_ticks()\n",
    "        \n",
    "    [ax.set_ylabel('Pressure [hPa]') for ax in axes[:,0].flat]\n",
    "    [ax.set_yticks([]) for ax in axes[:,1].flat]\n",
    "    [ax.invert_yaxis() for ax in axes.flat]\n",
    "    if rows > 1: [ax.set_xticks([]) for ax in axes[0].flat]\n",
    "    [ax.set_xlabel('Latitude') for ax in axes[-1].flat]\n",
    "    [ax.set_aspect(asp) for ax in axes.flat];\n",
    "    fig.suptitle(title, fontsize=14, x=0.47,y=0.93)\n",
    "    return fig"
   ]
  },
  {
   "cell_type": "code",
   "execution_count": 134,
   "metadata": {},
   "outputs": [
    {
     "name": "stdout",
     "output_type": "stream",
     "text": [
      "i= 0 (ax,v)= (<matplotlib.axes._subplots.AxesSubplot object at 0x154688928f98>, 'TPHYSTND_NORAD') func= None stat= r2U\n",
      "i= 1 (ax,v)= (<matplotlib.axes._subplots.AxesSubplot object at 0x1546881cce80>, 'PHQ') func= None stat= r2U\n",
      "i= 2 (ax,v)= (<matplotlib.axes._subplots.AxesSubplot object at 0x15468813c438>, 'QRL') func= None stat= r2U\n",
      "i= 3 (ax,v)= (<matplotlib.axes._subplots.AxesSubplot object at 0x1546882079b0>, 'QRS') func= None stat= r2U\n"
     ]
    },
    {
     "data": {
      "image/png": "[encoded data removed]",
      "text/plain": [
       "<Figure size 1152x288 with 8 Axes>"
      ]
     },
     "metadata": {
      "needs_background": "light"
     },
     "output_type": "display_data"
    }
   ],
   "source": [
    "ivar = 0;\n",
    "f = plot_4stats(ivar, 'r2U', r'R$^2$', cmap='Spectral', mylims=[0, 1], only_pos=True,\n",
    "                masks=mask, extend='min')"
   ]
  },
  {
   "cell_type": "markdown",
   "metadata": {},
   "source": [
    "## 5.2) Future climate"
   ]
  },
  {
   "cell_type": "markdown",
   "metadata": {},
   "source": [
    "### 5.2.1) Build generator using +4K dataset"
   ]
  },
  {
   "cell_type": "code",
   "execution_count": 83,
   "metadata": {},
   "outputs": [],
   "source": [
    "PREFIX4K = '8col009_02_'\n",
    "order_gen_p4k = DataGenerator(\n",
    "    data_fn = TRAINDIR+PREFIX4K+'valid.nc',\n",
    "    input_vars = in_vars,\n",
    "    output_vars = out_vars,\n",
    "    norm_fn = TRAINDIR+PREFIX+'norm.nc',\n",
    "    input_transform = ('mean', 'maxrs'),\n",
    "    output_transform = scale_dict,\n",
    "    batch_size=8192,\n",
    "    shuffle=False\n",
    ")"
   ]
  },
  {
   "cell_type": "code",
   "execution_count": 97,
   "metadata": {},
   "outputs": [
    {
     "name": "stdout",
     "output_type": "stream",
     "text": [
      "Initializing arrays of zeros\n",
      "it =  399 / 399\r"
     ]
    }
   ],
   "source": [
    "# 1) Initialize array of zeros (Nout=218,Nt=429,Nlat=64,Nlon=128)\n",
    "Nout = 218; Nt = 400; Nlat = 64; Nlon = 128; Nlev = 30;\n",
    "print('Initializing arrays of zeros')\n",
    "Truth = np.zeros(shape=(Nout,Nt,Nlat))\n",
    "Truth = np.repeat(Truth[:,:,:,np.newaxis], Nlon, axis=3)\n",
    "pred_C = np.zeros(shape=(Nout,Nt,Nlat))\n",
    "pred_C = np.repeat(pred_C[:,:,:,np.newaxis], Nlon, axis=3)\n",
    "pred_U = np.zeros(shape=(Nout,Nt,Nlat))\n",
    "pred_U = np.repeat(pred_U[:,:,:,np.newaxis], Nlon, axis=3)\n",
    "# 2) Fill up the array with truth and prediction\n",
    "for it in range (Nt):\n",
    "    print('it = ',it,'/',Nt-1,end=\"\\r\")\n",
    "    x, y = order_gen_p4k[it];\n",
    "    Truth[:,it,:,:] = np.reshape(np.transpose(y),((Nout,Nlat,Nlon)));\n",
    "    pred_C[:,it,:,:] = np.reshape(np.transpose(C_009.predict_on_batch(x)),((Nout,Nlat,Nlon)));\n",
    "    pred_U[:,it,:,:] = np.reshape(np.transpose(U_009.predict_on_batch(x)),((Nout,Nlat,Nlon)));"
   ]
  },
  {
   "cell_type": "code",
   "execution_count": 98,
   "metadata": {},
   "outputs": [
    {
     "name": "stdout",
     "output_type": "stream",
     "text": [
      "0 TPHYSTND_NORAD\n",
      "1 PHQ\n",
      "2 QRL\n",
      "3 QRS\n"
     ]
    },
    {
     "name": "stderr",
     "output_type": "stream",
     "text": [
      "/home/t/Tom.Beucler/miniconda3/lib/python3.6/site-packages/ipykernel_launcher.py:39: RuntimeWarning: divide by zero encountered in true_divide\n"
     ]
    },
    {
     "name": "stdout",
     "output_type": "stream",
     "text": [
      "0 TPHYSTND_NORAD\n",
      "1 PHQ\n",
      "2 QRL\n",
      "3 QRS\n"
     ]
    },
    {
     "name": "stderr",
     "output_type": "stream",
     "text": [
      "/home/t/Tom.Beucler/miniconda3/lib/python3.6/site-packages/ipykernel_launcher.py:40: RuntimeWarning: divide by zero encountered in true_divide\n"
     ]
    }
   ],
   "source": [
    "# Calculate lat/lon-averaged statistics\n",
    "for index in range (2): \n",
    "    if index==0: PRED = pred_U;\n",
    "    elif index==1: PRED = pred_C;\n",
    "    Nvar = 4;\n",
    "    maskC = 5e-4; # Mask regions where the variance is smaller than the mean variance by a factor maskC\n",
    "\n",
    "    option = 1; # [1] to plot CV/RAD [2] to plot microphysics/turb\n",
    "    if option==1: vars = ['TPHYSTND_NORAD', 'PHQ', 'QRL', 'QRS'];\n",
    "    elif option==2: vars = ['PHCLDLIQ','PHCLDICE','TPHYSTND','DTVKE'];\n",
    "\n",
    "    sse = np.zeros(shape=(Nvar,Nlev))\n",
    "    tvar = np.zeros(shape=(Nvar,Nlev))\n",
    "    mask = np.zeros(shape=(Nvar,Nlev))\n",
    "    TRU = Truth;\n",
    "    dP_DIV = dP.reshape(30,1,1,1)\n",
    "    ilev = np.arange(0,30,1)\n",
    "    for i, v in enumerate(vars):\n",
    "        print(i,v)\n",
    "\n",
    "        if option==1:\n",
    "            if i==0: \n",
    "                pred = (PRED[90+ilev,:,:,:]-PRED[120+ilev,:,:,:]-PRED[150+ilev,:,:,:])/(C_P*dP_DIV/G);\n",
    "                tru = (TRU[90+ilev,:,:,:]-TRU[120+ilev,:,:,:]-TRU[150+ilev,:,:,:])/(C_P*dP_DIV/G);\n",
    "            elif i==1: pred = PRED[ilev,:,:,:]/(L_V*dP_DIV/G); tru = TRU[ilev,:,:,:]/(L_V*dP_DIV/G);\n",
    "            elif i==2: pred = PRED[120+ilev,:,:,:]/(C_P*dP_DIV/G); tru = TRU[120+ilev,:,:,:]/(C_P*dP_DIV/G);\n",
    "            elif i==3: pred = PRED[150+ilev,:,:,:]/(C_P*dP_DIV/G); tru = TRU[150+ilev,:,:,:]/(C_P*dP_DIV/G);\n",
    "        elif option==2:\n",
    "            if i==0: pred = PRED[30+ilev,:,:,:]/(L_V*dP_DIV/G); tru = TRU[30+ilev,:,:,:]/(L_V*dP_DIV/G);\n",
    "            elif i==1: pred = PRED[60+ilev,:,:,:]/(L_V*dP_DIV/G); tru = TRU[60+ilev,:,:,:]/(L_V*dP_DIV/G);\n",
    "            elif i==2: pred = PRED[90+ilev,:,:,:]/(C_P*dP_DIV/G); tru = TRU[90+ilev,:,:,:]/(C_P*dP_DIV/G);\n",
    "            elif i==3: pred = PRED[180+ilev,:,:,:]/(C_P*dP_DIV/G); tru = TRU[180+ilev,:,:,:]/(C_P*dP_DIV/G);\n",
    "\n",
    "        sse[i,:] = np.mean(abs(pred-tru)**2,axis=(1,2,3));\n",
    "        tvar[i,:] = np.mean(abs(tru-np.mean(tru,axis=(1,2,3)).reshape(tru.shape[0],1,1,1))**2,axis=(1,2,3));\n",
    "        mask[i,:] = tvar[i,:]<maskC*tvar[i,:].mean(axis=(0))\n",
    "\n",
    "    mask = mask.astype(int); # Convert mask to integer array\n",
    "    if index==0: r2U = 1-sse/tvar;\n",
    "    elif index==1: r2C = 1-sse/tvar"
   ]
  },
  {
   "cell_type": "code",
   "execution_count": 102,
   "metadata": {},
   "outputs": [
    {
     "data": {
      "image/png": "[encoded data removed]",
      "text/plain": [
       "<Figure size 432x720 with 1 Axes>"
      ]
     },
     "metadata": {
      "needs_background": "light"
     },
     "output_type": "display_data"
    }
   ],
   "source": [
    "fig, ax = plt.subplots(figsize=(6,10))\n",
    "ax.plot(0*r2C[1,:]**0, coor.lev, color='k', label='0 line')\n",
    "for i, v in enumerate(['TPHYSTND_NORAD', 'PHQ']):\n",
    "    ax.plot(r2C[i,:], coor.lev, label=name[v]+'C', linewidth=2)\n",
    "    ax.plot(r2U[i,:], coor.lev, label=name[v]+'U', linewidth=2,linestyle='dashed')\n",
    "    #ax.plot(r2C[i,:]-r2U[i,:],coor.lev,label=name[v]+'C-U',linewidth=2)\n",
    "ax.invert_yaxis()\n",
    "ax.set_ylabel('Pressure [hPa]'); ax.set_xlabel(r'R$^2$')\n",
    "ax.set_xlim(-1, 1)\n",
    "ax.set_title(r'R$^2$ by height and variable')\n",
    "despine(ax)\n",
    "L = ax.legend(); L._loc=6;"
   ]
  },
  {
   "cell_type": "code",
   "execution_count": 114,
   "metadata": {},
   "outputs": [
    {
     "name": "stdout",
     "output_type": "stream",
     "text": [
      "0 TPHYSTND_NORAD\n",
      "1 PHQ\n",
      "2 QRL\n",
      "3 QRS\n"
     ]
    },
    {
     "name": "stderr",
     "output_type": "stream",
     "text": [
      "/home/t/Tom.Beucler/miniconda3/lib/python3.6/site-packages/ipykernel_launcher.py:41: RuntimeWarning: divide by zero encountered in true_divide\n"
     ]
    },
    {
     "name": "stdout",
     "output_type": "stream",
     "text": [
      "0 TPHYSTND_NORAD\n",
      "1 PHQ\n",
      "2 QRL\n",
      "3 QRS\n"
     ]
    },
    {
     "name": "stderr",
     "output_type": "stream",
     "text": [
      "/home/t/Tom.Beucler/miniconda3/lib/python3.6/site-packages/ipykernel_launcher.py:42: RuntimeWarning: divide by zero encountered in true_divide\n"
     ]
    }
   ],
   "source": [
    "# Calculate lat/lon-averaged statistics\n",
    "for index in range (2): \n",
    "    if index==0: PRED = pred_U;\n",
    "    elif index==1: PRED = pred_C;\n",
    "    Nvar = 4;\n",
    "    maskC = 5e-4; # Mask regions where the variance is smaller than the mean variance by a factor maskC\n",
    "\n",
    "    option = 1; # [1] to plot CV/RAD [2] to plot microphysics/turb\n",
    "    if option==1: vars = ['TPHYSTND_NORAD', 'PHQ', 'QRL', 'QRS'];\n",
    "    elif option==2: vars = ['PHCLDLIQ','PHCLDICE','TPHYSTND','DTVKE'];\n",
    "\n",
    "    sse = np.zeros(shape=(Nvar,Nlev,Nlat))\n",
    "    tvar = np.zeros(shape=(Nvar,Nlev,Nlat))\n",
    "    mask = np.zeros(shape=(Nvar,Nlev,Nlat))\n",
    "\n",
    "    TRU = Truth;\n",
    "    dP_DIV = dP.reshape(30,1,1,1)\n",
    "    ilev = np.arange(0,30,1)\n",
    "    for i, v in enumerate(vars):\n",
    "        print(i,v)\n",
    "\n",
    "        if option==1:\n",
    "            if i==0: \n",
    "                pred = (PRED[90+ilev,:,:,:]-PRED[120+ilev,:,:,:]-PRED[150+ilev,:,:,:])/(C_P*dP_DIV/G);\n",
    "                tru = (TRU[90+ilev,:,:,:]-TRU[120+ilev,:,:,:]-TRU[150+ilev,:,:,:])/(C_P*dP_DIV/G);\n",
    "            elif i==1: pred = PRED[ilev,:,:,:]/(L_V*dP_DIV/G); tru = TRU[ilev,:,:,:]/(L_V*dP_DIV/G);\n",
    "            elif i==2: pred = PRED[120+ilev,:,:,:]/(C_P*dP_DIV/G); tru = TRU[120+ilev,:,:,:]/(C_P*dP_DIV/G);\n",
    "            elif i==3: pred = PRED[150+ilev,:,:,:]/(C_P*dP_DIV/G); tru = TRU[150+ilev,:,:,:]/(C_P*dP_DIV/G);\n",
    "        elif option==2:\n",
    "            if i==0: pred = PRED[30+ilev,:,:,:]/(L_V*dP_DIV/G); tru = TRU[30+ilev,:,:,:]/(L_V*dP_DIV/G);\n",
    "            elif i==1: pred = PRED[60+ilev,:,:,:]/(L_V*dP_DIV/G); tru = TRU[60+ilev,:,:,:]/(L_V*dP_DIV/G);\n",
    "            elif i==2: pred = PRED[90+ilev,:,:,:]/(C_P*dP_DIV/G); tru = TRU[90+ilev,:,:,:]/(C_P*dP_DIV/G);\n",
    "            elif i==3: pred = PRED[180+ilev,:,:,:]/(C_P*dP_DIV/G); tru = TRU[180+ilev,:,:,:]/(C_P*dP_DIV/G);\n",
    "\n",
    "        sse[i,:,:] = np.mean(abs(pred-tru)**2,axis=(1,3));\n",
    "        tvar[i,:,:] = np.mean(abs(tru-np.mean(tru,axis=(1,3)).reshape(tru.shape[0],1,tru.shape[2],1))**2,axis=(1,3));\n",
    "        mask[i,:,:] = tvar[i,:,:]<maskC*np.mean(tvar[i,:,:],axis=1).reshape(1,tvar.shape[1],1)\n",
    "\n",
    "    mask = mask.astype(int); # Convert mask to integer array\n",
    "\n",
    "    if index==0: r2U = 1-sse/tvar;\n",
    "    elif index==1: r2C = 1-sse/tvar"
   ]
  },
  {
   "cell_type": "code",
   "execution_count": 118,
   "metadata": {},
   "outputs": [],
   "source": [
    "from matplotlib import patches, patheffects\n",
    "def draw_outline(o, lw):\n",
    "    o.set_path_effects([patheffects.Stroke(\n",
    "        linewidth=lw, foreground='white'), patheffects.Normal()])\n",
    "    \n",
    "def plot_4stats(ivar, stat, title='', vmult=1, only_pos=False, func=None, mylims=None, rows=2,\n",
    "                letter_offset=0, masks=None, extend='both', **kwargs):\n",
    "    fig, axes = plt.subplots(rows, 2, figsize=(16, 2 * rows))\n",
    "    axes = np.atleast_2d(axes)\n",
    "    plt.subplots_adjust(wspace=0.0, hspace=0.)\n",
    "    for i, (ax, v) in enumerate(zip(axes.flat, vars)):\n",
    "        print('i=',i,'(ax,v)=',(ax,v),'func=',func,'stat=',stat)\n",
    "        if func:\n",
    "            a = func(d, v)\n",
    "        else:\n",
    "            if stat=='r2': a = r2[i,:,:];\n",
    "            elif stat=='tvar': a = tvar[i,:,:]\n",
    "            elif stat=='r2C': a = r2C[i,:,:]\n",
    "            elif stat=='r2U': a = r2U[i,:,:]\n",
    "            elif stat=='r2CmU': a = r2C[i,:,:]-r2U[i,:,:]\n",
    "        if mylims is None: \n",
    "            vmin = 0 if only_pos else lims[v][0]*vmult\n",
    "            vmax = lims[v][1]*vmult\n",
    "        else:\n",
    "            vmin = mylims[0]; vmax = mylims[1]\n",
    "\n",
    "        if masks is not None: a[masks[i,:,:]==1] = np.nan\n",
    "\n",
    "        I = ax.pcolormesh(coor.lat, coor.lev, a, vmin=vmin, vmax=vmax, **kwargs)\n",
    "        txt = ax.text(0.01, 0.90, f'{ascii_lowercase[i+letter_offset]}) {name[v]}', \n",
    "                      transform=ax.transAxes, fontsize=12)\n",
    "        draw_outline(txt, 2)\n",
    "        cb = fig.colorbar(I, ax=ax, orientation='vertical', shrink=0.8, pad=0.02, \n",
    "                          extend=extend)\n",
    "        cb.set_label(unit[v])\n",
    "        cb.formatter.set_powerlimits((-1, 1))\n",
    "        cb.ax.yaxis.set_offset_position('left') \n",
    "        cb.update_ticks()\n",
    "        \n",
    "    [ax.set_ylabel('Pressure [hPa]') for ax in axes[:,0].flat]\n",
    "    [ax.set_yticks([]) for ax in axes[:,1].flat]\n",
    "    [ax.invert_yaxis() for ax in axes.flat]\n",
    "    if rows > 1: [ax.set_xticks([]) for ax in axes[0].flat]\n",
    "    [ax.set_xlabel('Latitude') for ax in axes[-1].flat]\n",
    "    [ax.set_aspect(asp) for ax in axes.flat];\n",
    "    fig.suptitle(title, fontsize=14, x=0.47,y=0.93)\n",
    "    return fig"
   ]
  },
  {
   "cell_type": "code",
   "execution_count": 122,
   "metadata": {},
   "outputs": [
    {
     "name": "stdout",
     "output_type": "stream",
     "text": [
      "i= 0 (ax,v)= (<matplotlib.axes._subplots.AxesSubplot object at 0x154688088ba8>, 'TPHYSTND_NORAD') func= None stat= r2CmU\n",
      "i= 1 (ax,v)= (<matplotlib.axes._subplots.AxesSubplot object at 0x1546884ad2b0>, 'PHQ') func= None stat= r2CmU\n",
      "i= 2 (ax,v)= (<matplotlib.axes._subplots.AxesSubplot object at 0x1546882e9550>, 'QRL') func= None stat= r2CmU\n",
      "i= 3 (ax,v)= (<matplotlib.axes._subplots.AxesSubplot object at 0x15468831db38>, 'QRS') func= None stat= r2CmU\n"
     ]
    },
    {
     "name": "stderr",
     "output_type": "stream",
     "text": [
      "/home/t/Tom.Beucler/miniconda3/lib/python3.6/site-packages/ipykernel_launcher.py:20: RuntimeWarning: invalid value encountered in subtract\n"
     ]
    },
    {
     "data": {
      "image/png": "[encoded data removed]",
      "text/plain": [
       "<Figure size 1152x288 with 8 Axes>"
      ]
     },
     "metadata": {
      "needs_background": "light"
     },
     "output_type": "display_data"
    }
   ],
   "source": [
    "ivar = 0;\n",
    "f = plot_4stats(ivar, 'r2CmU', r'R$^2$', cmap='Spectral', mylims=[-0.1, 0.1], only_pos=True,\n",
    "                masks=mask, extend='min')"
   ]
  },
  {
   "cell_type": "code",
   "execution_count": null,
   "metadata": {},
   "outputs": [],
   "source": []
  }
 ],
 "metadata": {
  "kernelspec": {
   "display_name": "Python 3",
   "language": "python",
   "name": "python3"
  },
  "language_info": {
   "codemirror_mode": {
    "name": "ipython",
    "version": 3
   },
   "file_extension": ".py",
   "mimetype": "text/x-python",
   "name": "python",
   "nbconvert_exporter": "python",
   "pygments_lexer": "ipython3",
   "version": "3.6.8"
  },
  "toc": {
   "base_numbering": 1,
   "nav_menu": {},
   "number_sections": true,
   "sideBar": false,
   "skip_h1_title": true,
   "title_cell": "Table of Contents",
   "title_sidebar": "Contents",
   "toc_cell": false,
   "toc_position": {},
   "toc_section_display": true,
   "toc_window_display": false
  }
 },
 "nbformat": 4,
 "nbformat_minor": 2
}
