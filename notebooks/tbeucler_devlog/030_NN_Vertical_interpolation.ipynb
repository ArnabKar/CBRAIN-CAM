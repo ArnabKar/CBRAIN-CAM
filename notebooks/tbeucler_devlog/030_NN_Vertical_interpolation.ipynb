{
 "cells": [
  {
   "cell_type": "markdown",
   "metadata": {},
   "source": [
    "tgb - 11/20/2019 - The goal of this network is to code a custom interpolation layer to solve the bias where the NN misses on the upwards shift of the convective tendencies.  \n",
    "1) Create a look-up table where from the lowest-level temperature, we can extract a Carnot vertical coordinate.  \n",
    "2) Code up the interpolation layer in both directions in numpy  \n",
    "3) Transfer that layer in tensorflow  \n",
    "4) Try a few test networks using 101/100 and 104/103"
   ]
  },
  {
   "cell_type": "markdown",
   "metadata": {},
   "source": [
    "# 0) Imports"
   ]
  },
  {
   "cell_type": "code",
   "execution_count": 1,
   "metadata": {},
   "outputs": [
    {
     "name": "stderr",
     "output_type": "stream",
     "text": [
      "/home/t/Tom.Beucler/miniconda3/lib/python3.7/site-packages/tensorflow/python/framework/dtypes.py:516: FutureWarning: Passing (type, 1) or '1type' as a synonym of type is deprecated; in a future version of numpy, it will be understood as (type, (1,)) / '(1,)type'.\n",
      "  _np_qint8 = np.dtype([(\"qint8\", np.int8, 1)])\n",
      "/home/t/Tom.Beucler/miniconda3/lib/python3.7/site-packages/tensorflow/python/framework/dtypes.py:517: FutureWarning: Passing (type, 1) or '1type' as a synonym of type is deprecated; in a future version of numpy, it will be understood as (type, (1,)) / '(1,)type'.\n",
      "  _np_quint8 = np.dtype([(\"quint8\", np.uint8, 1)])\n",
      "/home/t/Tom.Beucler/miniconda3/lib/python3.7/site-packages/tensorflow/python/framework/dtypes.py:518: FutureWarning: Passing (type, 1) or '1type' as a synonym of type is deprecated; in a future version of numpy, it will be understood as (type, (1,)) / '(1,)type'.\n",
      "  _np_qint16 = np.dtype([(\"qint16\", np.int16, 1)])\n",
      "/home/t/Tom.Beucler/miniconda3/lib/python3.7/site-packages/tensorflow/python/framework/dtypes.py:519: FutureWarning: Passing (type, 1) or '1type' as a synonym of type is deprecated; in a future version of numpy, it will be understood as (type, (1,)) / '(1,)type'.\n",
      "  _np_quint16 = np.dtype([(\"quint16\", np.uint16, 1)])\n",
      "/home/t/Tom.Beucler/miniconda3/lib/python3.7/site-packages/tensorflow/python/framework/dtypes.py:520: FutureWarning: Passing (type, 1) or '1type' as a synonym of type is deprecated; in a future version of numpy, it will be understood as (type, (1,)) / '(1,)type'.\n",
      "  _np_qint32 = np.dtype([(\"qint32\", np.int32, 1)])\n",
      "/home/t/Tom.Beucler/miniconda3/lib/python3.7/site-packages/tensorflow/python/framework/dtypes.py:525: FutureWarning: Passing (type, 1) or '1type' as a synonym of type is deprecated; in a future version of numpy, it will be understood as (type, (1,)) / '(1,)type'.\n",
      "  np_resource = np.dtype([(\"resource\", np.ubyte, 1)])\n",
      "/home/t/Tom.Beucler/miniconda3/lib/python3.7/site-packages/tensorboard/compat/tensorflow_stub/dtypes.py:541: FutureWarning: Passing (type, 1) or '1type' as a synonym of type is deprecated; in a future version of numpy, it will be understood as (type, (1,)) / '(1,)type'.\n",
      "  _np_qint8 = np.dtype([(\"qint8\", np.int8, 1)])\n",
      "/home/t/Tom.Beucler/miniconda3/lib/python3.7/site-packages/tensorboard/compat/tensorflow_stub/dtypes.py:542: FutureWarning: Passing (type, 1) or '1type' as a synonym of type is deprecated; in a future version of numpy, it will be understood as (type, (1,)) / '(1,)type'.\n",
      "  _np_quint8 = np.dtype([(\"quint8\", np.uint8, 1)])\n",
      "/home/t/Tom.Beucler/miniconda3/lib/python3.7/site-packages/tensorboard/compat/tensorflow_stub/dtypes.py:543: FutureWarning: Passing (type, 1) or '1type' as a synonym of type is deprecated; in a future version of numpy, it will be understood as (type, (1,)) / '(1,)type'.\n",
      "  _np_qint16 = np.dtype([(\"qint16\", np.int16, 1)])\n",
      "/home/t/Tom.Beucler/miniconda3/lib/python3.7/site-packages/tensorboard/compat/tensorflow_stub/dtypes.py:544: FutureWarning: Passing (type, 1) or '1type' as a synonym of type is deprecated; in a future version of numpy, it will be understood as (type, (1,)) / '(1,)type'.\n",
      "  _np_quint16 = np.dtype([(\"quint16\", np.uint16, 1)])\n",
      "/home/t/Tom.Beucler/miniconda3/lib/python3.7/site-packages/tensorboard/compat/tensorflow_stub/dtypes.py:545: FutureWarning: Passing (type, 1) or '1type' as a synonym of type is deprecated; in a future version of numpy, it will be understood as (type, (1,)) / '(1,)type'.\n",
      "  _np_qint32 = np.dtype([(\"qint32\", np.int32, 1)])\n",
      "/home/t/Tom.Beucler/miniconda3/lib/python3.7/site-packages/tensorboard/compat/tensorflow_stub/dtypes.py:550: FutureWarning: Passing (type, 1) or '1type' as a synonym of type is deprecated; in a future version of numpy, it will be understood as (type, (1,)) / '(1,)type'.\n",
      "  np_resource = np.dtype([(\"resource\", np.ubyte, 1)])\n",
      "WARNING: Logging before flag parsing goes to stderr.\n",
      "W1121 22:13:13.924911 22827431847744 deprecation_wrapper.py:119] From /home/t/Tom.Beucler/SPCAM/CBRAIN-CAM/notebooks/tbeucler_devlog/cbrain/models.py:16: The name tf.keras.layers.CuDNNGRU is deprecated. Please use tf.compat.v1.keras.layers.CuDNNGRU instead.\n",
      "\n",
      "W1121 22:13:13.925591 22827431847744 deprecation_wrapper.py:119] From /home/t/Tom.Beucler/SPCAM/CBRAIN-CAM/notebooks/tbeucler_devlog/cbrain/models.py:16: The name tf.keras.layers.CuDNNLSTM is deprecated. Please use tf.compat.v1.keras.layers.CuDNNLSTM instead.\n",
      "\n"
     ]
    },
    {
     "name": "stdout",
     "output_type": "stream",
     "text": [
      "/home/t/Tom.Beucler/SPCAM/CBRAIN-CAM/notebooks/tbeucler_devlog\n"
     ]
    },
    {
     "name": "stderr",
     "output_type": "stream",
     "text": [
      "W1121 22:13:14.322535 22827431847744 deprecation_wrapper.py:119] From /home/t/Tom.Beucler/SPCAM/CBRAIN-CAM/notebooks/tbeucler_devlog/cbrain/utils.py:145: The name tf.ConfigProto is deprecated. Please use tf.compat.v1.ConfigProto instead.\n",
      "\n",
      "W1121 22:13:14.323182 22827431847744 deprecation_wrapper.py:119] From /home/t/Tom.Beucler/SPCAM/CBRAIN-CAM/notebooks/tbeucler_devlog/cbrain/utils.py:148: The name tf.keras.backend.set_session is deprecated. Please use tf.compat.v1.keras.backend.set_session instead.\n",
      "\n",
      "W1121 22:13:14.323812 22827431847744 deprecation_wrapper.py:119] From /home/t/Tom.Beucler/SPCAM/CBRAIN-CAM/notebooks/tbeucler_devlog/cbrain/utils.py:148: The name tf.Session is deprecated. Please use tf.compat.v1.Session instead.\n",
      "\n"
     ]
    },
    {
     "name": "stdout",
     "output_type": "stream",
     "text": [
      "/filer/z-sv-pool12c/t/Tom.Beucler/SPCAM/CBRAIN-CAM\n"
     ]
    }
   ],
   "source": [
    "from cbrain.imports import *\n",
    "from cbrain.data_generator import *\n",
    "from cbrain.cam_constants import *\n",
    "from cbrain.losses import *\n",
    "from cbrain.utils import limit_mem\n",
    "from cbrain.layers import *\n",
    "from cbrain.data_generator import DataGenerator\n",
    "import tensorflow as tf\n",
    "import tensorflow.math as tfm\n",
    "from tensorflow.keras.layers import *\n",
    "from tensorflow.keras.models import *\n",
    "import xarray as xr\n",
    "import numpy as np\n",
    "from cbrain.model_diagnostics import ModelDiagnostics\n",
    "import matplotlib as mpl\n",
    "import matplotlib.pyplot as plt\n",
    "import matplotlib.image as imag\n",
    "import scipy.integrate as sin\n",
    "\n",
    "TRAINDIR = '/local/Tom.Beucler/SPCAM_PHYS/'\n",
    "DATADIR = '/project/meteo/w2w/A6/S.Rasp/SP-CAM/fluxbypass_aqua/'\n",
    "PREFIX = '8col009_01_'\n",
    "%cd /filer/z-sv-pool12c/t/Tom.Beucler/SPCAM/CBRAIN-CAM\n",
    "\n",
    "# Otherwise tensorflow will use ALL your GPU RAM for no reason\n",
    "limit_mem()"
   ]
  },
  {
   "cell_type": "markdown",
   "metadata": {},
   "source": [
    "# 1) Look-up table for Carnot-like coordinate"
   ]
  },
  {
   "cell_type": "code",
   "execution_count": 2,
   "metadata": {},
   "outputs": [
    {
     "name": "stderr",
     "output_type": "stream",
     "text": [
      "/home/t/Tom.Beucler/miniconda3/lib/python3.7/site-packages/xarray/backends/api.py:783: FutureWarning: In xarray version 0.13 `auto_combine` will be deprecated.\n",
      "  coords=coords)\n",
      "/home/t/Tom.Beucler/miniconda3/lib/python3.7/site-packages/xarray/backends/api.py:783: FutureWarning: The datasets supplied have global dimension coordinates. You may want\n",
      "to use the new `combine_by_coords` function (or the\n",
      "`combine='by_coords'` option to `open_mfdataset` to order the datasets\n",
      "before concatenation. Alternatively, to continue concatenating based\n",
      "on the order the datasets are supplied in in future, please use the\n",
      "new `combine_nested` function (or the `combine='nested'` option to\n",
      "open_mfdataset).\n",
      "  coords=coords)\n"
     ]
    }
   ],
   "source": [
    "data0K = xr.open_mfdataset(\"/project/meteo/w2w/A6/S.Rasp/SP-CAM/fluxbypass_aqua/AndKua_aqua_SPCAM3.0_sp_fbp_f4.cam2.h1.0000-??-01-00000.nc\",\\\n",
    "                    decode_times=False)"
   ]
  },
  {
   "cell_type": "code",
   "execution_count": 3,
   "metadata": {},
   "outputs": [],
   "source": [
    "data4K = xr.open_mfdataset(\"/project/meteo/w2w/A6/S.Rasp/SP-CAM/sp8fbp_4k/sp8fbp_4k.cam2.h2.0000-??-01-00000.nc\",\\\n",
    "                        decode_times=False)"
   ]
  },
  {
   "cell_type": "code",
   "execution_count": 4,
   "metadata": {},
   "outputs": [
    {
     "data": {
      "text/plain": [
       "(array([1.00000e+00, 1.00000e+00, 5.00000e+00, 1.33000e+02, 7.63000e+02,\n",
       "        2.51800e+03, 5.43100e+03, 9.08500e+03, 1.19770e+04, 1.35460e+04,\n",
       "        1.61660e+04, 1.88110e+04, 2.41230e+04, 3.41460e+04, 5.19730e+04,\n",
       "        7.09510e+04, 1.00973e+05, 1.36818e+05, 2.00016e+05, 2.95453e+05,\n",
       "        3.31365e+05, 2.77460e+05, 1.77976e+05, 9.32750e+04, 6.02960e+04,\n",
       "        5.07730e+04, 4.53360e+04, 4.15440e+04, 3.79490e+04, 3.68570e+04,\n",
       "        3.54850e+04, 3.30960e+04, 3.22620e+04, 3.13940e+04, 2.98700e+04,\n",
       "        2.89930e+04, 3.04950e+04, 2.84980e+04, 2.70540e+04, 2.55210e+04,\n",
       "        2.66520e+04, 2.75160e+04, 2.75310e+04, 2.65250e+04, 2.52950e+04,\n",
       "        2.47460e+04, 2.66150e+04, 2.72380e+04, 2.64620e+04, 2.65150e+04,\n",
       "        2.51750e+04, 2.58370e+04, 2.69110e+04, 2.64980e+04, 2.60620e+04,\n",
       "        2.66910e+04, 2.74670e+04, 2.77490e+04, 2.77240e+04, 2.78950e+04,\n",
       "        2.85060e+04, 2.96820e+04, 2.92780e+04, 2.86950e+04, 2.80390e+04,\n",
       "        2.94770e+04, 2.94350e+04, 3.03130e+04, 2.91270e+04, 3.00590e+04,\n",
       "        2.97260e+04, 3.04000e+04, 3.11480e+04, 3.12500e+04, 3.06950e+04,\n",
       "        3.33620e+04, 3.26170e+04, 3.19090e+04, 3.27520e+04, 3.38460e+04,\n",
       "        3.77040e+04, 3.88650e+04, 3.73390e+04, 4.07500e+04, 4.27980e+04,\n",
       "        4.54680e+04, 4.81630e+04, 5.62360e+04, 6.26380e+04, 6.43110e+04,\n",
       "        7.03970e+04, 7.62110e+04, 7.78270e+04, 9.36210e+04, 1.00671e+05,\n",
       "        1.09401e+05, 8.18510e+04, 3.63590e+04, 5.99900e+03, 1.74000e+02]),\n",
       " array([270.5835 , 270.94156, 271.29962, 271.65768, 272.01575, 272.3738 ,\n",
       "        272.73187, 273.08994, 273.448  , 273.80606, 274.16412, 274.5222 ,\n",
       "        274.88025, 275.23828, 275.59634, 275.9544 , 276.31247, 276.67053,\n",
       "        277.0286 , 277.38666, 277.74472, 278.10278, 278.46085, 278.8189 ,\n",
       "        279.17697, 279.53503, 279.8931 , 280.25116, 280.60922, 280.9673 ,\n",
       "        281.32535, 281.6834 , 282.04147, 282.39954, 282.7576 , 283.11566,\n",
       "        283.47372, 283.8318 , 284.18982, 284.54788, 284.90594, 285.264  ,\n",
       "        285.62207, 285.98013, 286.3382 , 286.69626, 287.05432, 287.41238,\n",
       "        287.77045, 288.1285 , 288.48657, 288.84464, 289.2027 , 289.56076,\n",
       "        289.91882, 290.2769 , 290.63495, 290.993  , 291.35107, 291.70914,\n",
       "        292.0672 , 292.42526, 292.78333, 293.14136, 293.49942, 293.85748,\n",
       "        294.21555, 294.5736 , 294.93167, 295.28973, 295.6478 , 296.00586,\n",
       "        296.36392, 296.722  , 297.08005, 297.4381 , 297.79617, 298.15424,\n",
       "        298.5123 , 298.87036, 299.22842, 299.5865 , 299.94455, 300.3026 ,\n",
       "        300.66068, 301.01874, 301.3768 , 301.73486, 302.0929 , 302.45096,\n",
       "        302.80902, 303.16708, 303.52515, 303.8832 , 304.24127, 304.59933,\n",
       "        304.9574 , 305.31546, 305.67352, 306.0316 , 306.38965],\n",
       "       dtype=float32),\n",
       " <a list of 100 Patch objects>)"
      ]
     },
     "execution_count": 4,
     "metadata": {},
     "output_type": "execute_result"
    },
    {
     "data": {
      "image/png": "[encoded data removed]",
      "text/plain": [
       "<Figure size 432x288 with 1 Axes>"
      ]
     },
     "metadata": {
      "needs_background": "light"
     },
     "output_type": "display_data"
    }
   ],
   "source": [
    "plt.hist(data0K.TAP[:,-1,:,:].values.flatten(),bins=100)\n",
    "plt.hist(data4K.TAP[:,-1,:,:].values.flatten(),bins=100)"
   ]
  },
  {
   "cell_type": "code",
   "execution_count": 5,
   "metadata": {},
   "outputs": [],
   "source": [
    "SSTrange0 = np.linspace(271,300,30).astype('int')"
   ]
  },
  {
   "cell_type": "code",
   "execution_count": 6,
   "metadata": {},
   "outputs": [
    {
     "name": "stdout",
     "output_type": "stream",
     "text": [
      "SST= 299 iSST= 28 / 28         \r"
     ]
    }
   ],
   "source": [
    "Tprof = {}\n",
    "imin = {}\n",
    "eps = {}\n",
    "# Use reference simulation from 270K to 300K to create lookup-table there\n",
    "# Matching a given NS temperature value to its corresponding temperature profile\n",
    "for iSST,SST in enumerate(SSTrange0[:-1]):\n",
    "    print('SST=',SST,'iSST=',iSST,'/',np.size(SSTrange0)-2,'        ',end='\\r')\n",
    "    if iSST==0: mask = (data0K.TAP[:,-1,:,:].values)<SSTrange0[0]\n",
    "    else: mask = ((data0K.TAP[:,-1,:,:].values)>=SSTrange0[iSST])*((data0K.TAP[:,-1,:,:].values)<SSTrange0[iSST+1])\n",
    "    Tref = np.mean(np.moveaxis(data0K.TAP.values,1,3)[mask],axis=0)\n",
    "    Tprof[str(SST)] = Tref\n",
    "    imin[str(SST)] = np.argwhere((Tref[1:]<Tref[:-1])==True)[-1][0]+1\n",
    "    tmp = (-(Tref-Tref[-1])/(Tref[-1]-Tref[imin[str(SST)]]))[imin[str(SST)]:]\n",
    "    eps[str(SST)] = np.maximum(0,np.minimum(1,tmp))"
   ]
  },
  {
   "cell_type": "code",
   "execution_count": 7,
   "metadata": {},
   "outputs": [],
   "source": [
    "SSTrange4 = np.linspace(300,305,6).astype('int')"
   ]
  },
  {
   "cell_type": "code",
   "execution_count": 8,
   "metadata": {},
   "outputs": [
    {
     "name": "stdout",
     "output_type": "stream",
     "text": [
      "SST= 304 iSST= 4 / 4         \r"
     ]
    }
   ],
   "source": [
    "# Use reference simulation from 270K to 300K to create lookup-table there\n",
    "# Matching a given NS temperature value to its corresponding temperature profile\n",
    "for iSST,SST in enumerate(SSTrange4[:-1]):\n",
    "    print('SST=',SST,'iSST=',iSST,'/',np.size(SSTrange4)-2,'        ',end='\\r')\n",
    "    mask = ((data4K.TAP[:,-1,:,:].values)>=SSTrange4[iSST])*((data4K.TAP[:,-1,:,:].values)<SSTrange4[iSST+1])\n",
    "    Tref = np.mean(np.moveaxis(data4K.TAP.values,1,3)[mask],axis=0)\n",
    "    Tprof[str(SST)] = Tref\n",
    "    imin[str(SST)] = np.argwhere((Tref[1:]<Tref[:-1])==True)[-1][0]+1\n",
    "    tmp = (-(Tref-Tref[-1])/(Tref[-1]-Tref[imin[str(SST)]]))[imin[str(SST)]:]\n",
    "    eps[str(SST)] = np.maximum(0,np.minimum(1,tmp))"
   ]
  },
  {
   "cell_type": "code",
   "execution_count": 9,
   "metadata": {},
   "outputs": [],
   "source": [
    "SSTrange = np.concatenate((SSTrange0,SSTrange4))"
   ]
  },
  {
   "cell_type": "code",
   "execution_count": 10,
   "metadata": {},
   "outputs": [
    {
     "data": {
      "text/plain": [
       "{'271': array([175.05305, 175.79523, 168.86584, 188.3044 , 191.08154, 193.59715,\n",
       "        194.87766, 195.86592, 197.10896, 197.93329, 198.20827, 198.95229,\n",
       "        200.53038, 203.62352, 208.32057, 213.80965, 219.7647 , 225.57294,\n",
       "        231.93898, 240.13242, 247.92708, 254.06015, 258.52615, 261.41803,\n",
       "        263.3411 , 265.13504, 266.7946 , 268.30746, 269.59747, 270.80292],\n",
       "       dtype=float32),\n",
       " '272': array([178.80902, 180.3608 , 172.19281, 190.26031, 192.81566, 194.74995,\n",
       "        196.19682, 197.18828, 197.97234, 198.60416, 198.89404, 199.69826,\n",
       "        201.16496, 203.83264, 208.34036, 213.89694, 220.03763, 227.36414,\n",
       "        235.354  , 243.22276, 250.00821, 256.2507 , 260.86795, 263.77023,\n",
       "        264.43182, 266.15125, 268.76108, 270.3964 , 271.8086 , 272.101  ],\n",
       "       dtype=float32),\n",
       " '273': array([221.73726, 215.7007 , 203.24884, 221.55614, 217.94537, 216.65402,\n",
       "        216.46938, 215.93289, 215.25137, 214.969  , 214.38474, 213.1659 ,\n",
       "        211.97432, 211.97919, 213.318  , 218.35568, 224.08946, 231.71104,\n",
       "        240.25087, 247.82857, 254.89148, 257.38177, 260.5786 , 266.127  ,\n",
       "        268.21097, 269.3205 , 271.13986, 271.85275, 272.01587, 272.24097],\n",
       "       dtype=float32),\n",
       " '274': array([233.28397, 223.29881, 210.23994, 228.20187, 224.03429, 222.1747 ,\n",
       "        220.97331, 220.01192, 218.84578, 217.6459 , 216.11414, 213.58209,\n",
       "        211.70354, 211.69711, 214.78348, 220.48442, 227.84132, 236.1766 ,\n",
       "        244.63585, 251.96379, 257.53345, 261.58194, 264.49612, 265.38705,\n",
       "        266.81796, 270.1463 , 271.3802 , 272.03635, 272.31827, 273.52014],\n",
       "       dtype=float32),\n",
       " '275': array([229.42963, 221.59256, 209.05214, 224.86688, 222.33089, 220.52693,\n",
       "        219.42805, 218.5829 , 217.17542, 215.75471, 213.91887, 211.37135,\n",
       "        209.9862 , 211.10316, 215.30026, 221.68626, 229.45386, 237.88756,\n",
       "        246.38005, 253.78659, 259.474  , 263.57822, 266.17932, 267.9608 ,\n",
       "        269.39142, 270.8122 , 272.28946, 273.20956, 274.4709 , 275.7849 ],\n",
       "       dtype=float32),\n",
       " '276': array([230.45885, 222.6307 , 209.11792, 225.66312, 223.21043, 221.16577,\n",
       "        219.92998, 219.13776, 217.76372, 216.33536, 214.42648, 211.88115,\n",
       "        210.55176, 211.77203, 216.0756 , 222.54858, 230.33109, 238.76297,\n",
       "        247.23961, 254.63237, 260.3028 , 264.3598 , 266.938  , 268.7964 ,\n",
       "        270.32385, 271.80807, 273.17358, 274.46365, 275.49323, 276.2588 ],\n",
       "       dtype=float32),\n",
       " '277': array([231.47606, 223.69992, 209.15024, 226.13399, 223.6568 , 221.3493 ,\n",
       "        219.92952, 219.10118, 217.74925, 216.33995, 214.43788, 211.92917,\n",
       "        210.72652, 212.1514 , 216.67683, 223.32153, 231.18396, 239.65189,\n",
       "        248.09933, 255.5139 , 261.2014 , 265.25906, 267.75674, 269.72852,\n",
       "        271.31155, 272.82785, 274.19028, 275.35144, 276.41794, 277.68167],\n",
       "       dtype=float32),\n",
       " '278': array([231.25607, 223.62901, 208.38383, 225.81865, 223.56917, 221.13358,\n",
       "        219.56853, 218.77612, 217.49095, 216.17719, 214.41054, 212.09525,\n",
       "        211.09901, 212.73643, 217.4231 , 224.18773, 232.10947, 240.5693 ,\n",
       "        249.05113, 256.47504, 262.15155, 266.18262, 268.63788, 270.629  ,\n",
       "        272.2343 , 273.7692 , 275.16687, 276.43594, 277.5095 , 278.3463 ],\n",
       "       dtype=float32),\n",
       " '279': array([231.87611, 224.30695, 208.2006 , 226.21515, 223.74635, 221.08226,\n",
       "        219.29276, 218.43959, 217.15517, 215.87051, 214.16614, 211.9771 ,\n",
       "        211.2318 , 213.14343, 218.03575, 224.95686, 232.9731 , 241.49753,\n",
       "        250.01701, 257.44904, 263.13657, 267.20172, 269.63828, 271.64984,\n",
       "        273.2564 , 274.7932 , 276.18875, 277.4135 , 278.4707 , 279.64285],\n",
       "       dtype=float32),\n",
       " '280': array([232.04597, 224.54062, 207.66002, 226.16943, 223.67087, 220.7724 ,\n",
       "        218.78685, 217.9037 , 216.64827, 215.45885, 213.8821 , 211.88109,\n",
       "        211.31967, 213.52493, 218.68907, 225.8023 , 233.93703, 242.49628,\n",
       "        251.02025, 258.45163, 264.14725, 268.14722, 270.47644, 272.4691 ,\n",
       "        274.0846 , 275.63885, 277.08362, 278.39438, 279.49435, 280.3891 ],\n",
       "       dtype=float32),\n",
       " '281': array([232.02701, 224.57776, 207.11235, 225.89836, 223.37338, 220.25655,\n",
       "        218.03651, 217.11859, 215.96129, 214.94388, 213.6369 , 212.04097,\n",
       "        211.86923, 214.24521, 219.41173, 226.56245, 234.74428, 243.32024,\n",
       "        251.8451 , 259.29944, 265.02542, 268.99985, 271.34543, 273.43445,\n",
       "        275.05756, 276.61923, 278.06934, 279.34018, 280.46494, 281.61703],\n",
       "       dtype=float32),\n",
       " '282': array([232.40894, 225.04839, 206.84776, 226.2339 , 223.4096 , 219.91577,\n",
       "        217.43675, 216.44218, 215.33733, 214.44559, 213.31808, 211.97348,\n",
       "        212.0213 , 214.67012, 220.12169, 227.45055, 235.73477, 244.35526,\n",
       "        252.8898 , 260.33997, 266.02832, 269.9978 , 272.172  , 274.23917,\n",
       "        275.87607, 277.46783, 278.97855, 280.34717, 281.48178, 282.39584],\n",
       "       dtype=float32),\n",
       " '283': array([232.21423, 224.84218, 206.14508, 225.66345, 222.83261, 219.03403,\n",
       "        216.31381, 215.3014 , 214.36082, 213.69353, 212.86041, 211.92021,\n",
       "        212.38028, 215.35062, 220.92566, 228.34727, 236.7207 , 245.37663,\n",
       "        253.89647, 261.32495, 266.99036, 270.88416, 273.04837, 275.16965,\n",
       "        276.8239 , 278.4385 , 279.93997, 281.2985 , 282.46143, 283.5986 ],\n",
       "       dtype=float32),\n",
       " '284': array([232.43442, 225.12689, 205.77638, 225.73112, 222.60867, 218.35403,\n",
       "        215.33783, 214.27348, 213.42374, 212.96565, 212.44368, 211.9631 ,\n",
       "        212.90274, 216.14381, 221.80957, 229.23347, 237.59674, 246.24902,\n",
       "        254.76624, 262.19446, 267.82816, 271.61462, 273.75943, 275.9004 ,\n",
       "        277.57553, 279.2288 , 280.80347, 282.2476 , 283.455  , 284.41147],\n",
       "       dtype=float32),\n",
       " '285': array([232.16202, 224.7729 , 205.14851, 225.28452, 221.85135, 217.17915,\n",
       "        213.87683, 212.74788, 212.0825 , 211.86217, 211.7047 , 211.75487,\n",
       "        213.24425, 216.98058, 222.87947, 230.37125, 238.7377 , 247.39822,\n",
       "        255.90393, 263.30655, 268.95178, 272.64087, 274.6902 , 276.82816,\n",
       "        278.50757, 280.15836, 281.73856, 283.17105, 284.40988, 285.59528],\n",
       "       dtype=float32),\n",
       " '286': array([232.44101, 225.06335, 204.98877, 225.33147, 221.55566, 216.34898,\n",
       "        212.62161, 211.42046, 210.93095, 211.0956 , 211.46974, 212.06056,\n",
       "        213.99307, 217.96864, 223.90846, 231.32921, 239.66513, 248.35805,\n",
       "        256.87378, 264.2636 , 269.85944, 273.42737, 275.44666, 277.63336,\n",
       "        279.3594 , 281.05194, 282.6766 , 284.1693 , 285.4205 , 286.40247],\n",
       "       dtype=float32),\n",
       " '287': array([232.10814, 224.7145 , 204.44394, 224.8432 , 220.61185, 214.90099,\n",
       "        210.9004 , 209.62677, 209.34482, 209.84079, 210.73244, 212.04773,\n",
       "        214.66785, 219.14168, 225.30896, 232.7557 , 240.99384, 249.5923 ,\n",
       "        258.08524, 265.4832 , 271.15   , 274.47836, 276.233  , 278.38736,\n",
       "        280.0954 , 281.81927, 283.46637, 284.97296, 286.30374, 287.59308],\n",
       "       dtype=float32),\n",
       " '288': array([232.04245, 224.67862, 204.21747, 224.61996, 220.0175 , 213.79674,\n",
       "        209.32794, 207.8779 , 207.75906, 208.6799 , 210.20142, 212.2486 ,\n",
       "        215.50821, 220.34766, 226.59233, 233.92242, 242.08499, 250.64418,\n",
       "        259.15585, 266.5746 , 272.20273, 275.40646, 277.10715, 279.2858 ,\n",
       "        281.0202 , 282.7601 , 284.44455, 286.0164 , 287.3299 , 288.37723],\n",
       "       dtype=float32),\n",
       " '289': array([232.38333, 224.74799, 204.11578, 224.55167, 219.29865, 212.27849,\n",
       "        207.38031, 205.83224, 206.04774, 207.44684, 209.66086, 212.55855,\n",
       "        216.54463, 221.82408, 228.2229 , 235.49448, 243.49203, 251.89767,\n",
       "        260.3718 , 267.7913 , 273.41904, 276.56656, 278.02182, 280.15338,\n",
       "        281.8737 , 283.61227, 285.29395, 286.84372, 288.2338 , 289.6178 ],\n",
       "       dtype=float32),\n",
       " '290': array([232.2445 , 224.52153, 203.92862, 224.17691, 218.70244, 211.13766,\n",
       "        205.6898 , 203.92424, 204.3566 , 206.20866, 209.12257, 212.80902,\n",
       "        217.52675, 223.29454, 229.90675, 237.05013, 244.81908, 252.98268,\n",
       "        261.28754, 268.6932 , 274.328  , 277.42563, 278.9041 , 281.06015,\n",
       "        282.7829 , 284.54733, 286.26566, 287.89493, 289.25378, 290.35895],\n",
       "       dtype=float32),\n",
       " '291': array([232.04306, 224.167  , 203.69536, 223.64955, 217.79317, 209.59863,\n",
       "        203.57567, 201.55315, 202.18607, 204.54706, 208.21126, 212.73569,\n",
       "        218.1945 , 224.58923, 231.56932, 238.88174, 246.6412 , 254.70634,\n",
       "        262.87668, 270.1756 , 275.73224, 278.59644, 279.8567 , 281.9597 ,\n",
       "        283.65912, 285.39807, 287.10458, 288.68915, 290.17108, 291.66458],\n",
       "       dtype=float32),\n",
       " '292': array([231.85454, 223.94124, 203.77191, 223.2698 , 217.20546, 208.32028,\n",
       "        201.6567 , 199.49402, 200.50365, 203.45132, 207.77449, 212.9772 ,\n",
       "        219.03246, 225.88768, 233.16478, 240.54256, 248.16406, 256.08047,\n",
       "        264.0746 , 271.22168, 276.6459 , 279.4319 , 280.8593 , 282.96234,\n",
       "        284.66077, 286.39856, 288.1374 , 289.80527, 291.2035 , 292.31897],\n",
       "       dtype=float32),\n",
       " '293': array([231.41733, 223.51631, 203.5127 , 222.57628, 216.43117, 206.84918,\n",
       "        199.46909, 196.97813, 198.29991, 201.88193, 206.97044, 212.97762,\n",
       "        219.61917, 226.93637, 234.62201, 242.30788, 250.09492, 257.95352,\n",
       "        265.80878, 272.75415, 277.95822, 280.48642, 281.86798, 283.9531 ,\n",
       "        285.5818 , 287.2615 , 288.94556, 290.56708, 292.10318, 293.6894 ],\n",
       "       dtype=float32),\n",
       " '294': array([230.991  , 223.22209, 203.2847 , 221.92934, 215.90909, 205.74792,\n",
       "        197.6438 , 194.98026, 196.62637, 200.82463, 206.53186, 213.05379,\n",
       "        220.11958, 227.71452, 235.65283, 243.6124 , 251.4814 , 259.38947,\n",
       "        267.25925, 274.14288, 279.20593, 281.55585, 282.87814, 285.00745,\n",
       "        286.63232, 288.33444, 290.06326, 291.75275, 293.18265, 294.3093 ],\n",
       "       dtype=float32),\n",
       " '295': array([230.5684 , 223.00685, 203.0299 , 221.325  , 215.37694, 204.618  ,\n",
       "        195.77725, 192.9448 , 195.09349, 199.87968, 206.11409, 213.07149,\n",
       "        220.52068, 228.44019, 236.63208, 244.79523, 252.7666 , 260.701  ,\n",
       "        268.59808, 275.52158, 280.39838, 282.46848, 283.9576 , 286.08057,\n",
       "        287.67654, 289.28937, 290.92596, 292.52042, 294.07764, 295.7168 ],\n",
       "       dtype=float32),\n",
       " '296': array([230.04674, 222.86304, 202.60788, 220.75081, 214.96161, 203.76923,\n",
       "        194.09555, 191.17914, 193.78879, 199.103  , 205.79811, 213.15651,\n",
       "        220.88637, 229.0043 , 237.36333, 245.71677, 253.77975, 261.74704,\n",
       "        269.65692, 276.58725, 281.49466, 283.36255, 285.0169 , 287.19565,\n",
       "        288.7404 , 290.348  , 292.05203, 293.77234, 295.17667, 296.28067],\n",
       "       dtype=float32),\n",
       " '297': array([229.63963, 222.71617, 202.23201, 220.07639, 214.52948, 202.77556,\n",
       "        192.06546, 189.14742, 192.4526 , 198.26993, 205.34578, 213.1017 ,\n",
       "        221.24336, 229.70659, 238.37071, 246.94203, 255.09898, 262.94104,\n",
       "        270.6588 , 277.50305, 282.48846, 284.6601 , 286.50296, 288.59595,\n",
       "        290.06277, 291.71066, 293.08105, 294.8113 , 296.11295, 297.48355],\n",
       "       dtype=float32),\n",
       " '298': array([229.24854, 222.50279, 201.91878, 219.4476 , 214.21907, 201.90262,\n",
       "        190.12146, 187.38577, 191.42818, 197.66586, 204.99486, 212.99677,\n",
       "        221.53798, 230.34396, 239.14697, 247.86317, 256.12256, 263.88403,\n",
       "        271.4002 , 278.06976, 283.18494, 286.01102, 288.1813 , 289.89697,\n",
       "        291.63464, 292.96143, 294.48288, 295.98547, 296.86295, 298.97775],\n",
       "       dtype=float32),\n",
       " '299': array([229.0463 , 222.17319, 201.87675, 218.92033, 214.17499, 201.16693,\n",
       "        188.98424, 186.43604, 191.00882, 197.42924, 204.8888 , 213.02289,\n",
       "        221.74016, 230.61264, 239.40163, 248.19196, 256.50223, 264.24078,\n",
       "        271.7321 , 278.3808 , 283.3579 , 286.97946, 288.87173, 290.9049 ,\n",
       "        292.4148 , 294.01334, 295.68488, 296.36597, 298.21002, 299.37985],\n",
       "       dtype=float32),\n",
       " '300': array([229.60574, 222.8891 , 202.6307 , 219.66785, 212.97528, 201.45018,\n",
       "        194.15611, 195.18236, 200.30956, 206.66226, 213.76451, 221.45045,\n",
       "        229.43272, 237.47235, 245.45456, 253.17516, 260.67294, 268.1215 ,\n",
       "        275.48013, 281.96588, 286.44708, 287.95575, 289.37433, 291.42105,\n",
       "        292.91284, 294.4651 , 296.10825, 297.77118, 299.20825, 300.2512 ],\n",
       "       dtype=float32),\n",
       " '301': array([229.28972, 222.63202, 202.6478 , 219.06117, 212.41028, 200.06693,\n",
       "        192.24095, 193.94804, 199.61224, 206.37215, 213.88625, 221.86584,\n",
       "        230.12051, 238.41045, 246.5537 , 254.3753 , 261.8326 , 269.10077,\n",
       "        276.27237, 282.77795, 287.32916, 289.1144 , 290.7139 , 292.6623 ,\n",
       "        294.12466, 295.74765, 297.0854 , 298.81335, 300.0839 , 301.43677],\n",
       "       dtype=float32),\n",
       " '302': array([229.07858, 222.47968, 202.73628, 218.47697, 211.75476, 198.40672,\n",
       "        190.3668 , 193.34409, 199.60675, 206.7552 , 214.60658, 222.85918,\n",
       "        231.35617, 239.82338, 248.10062, 255.9459 , 263.27914, 270.37167,\n",
       "        277.24036, 283.5418 , 288.1859 , 290.5455 , 292.40323, 294.04095,\n",
       "        295.68945, 296.95166, 298.43887, 299.98053, 300.89978, 302.90945],\n",
       "       dtype=float32),\n",
       " '303': array([228.93019, 222.28128, 203.06071, 217.8868 , 211.33443, 197.1671 ,\n",
       "        189.51962, 193.39592, 200.02039, 207.37218, 215.33066, 223.64842,\n",
       "        232.17502, 240.71254, 249.04422, 256.8859 , 264.24124, 271.2482 ,\n",
       "        277.88983, 284.04517, 288.7674 , 291.7678 , 293.45602, 295.25095,\n",
       "        296.53918, 297.87146, 299.62354, 300.4507 , 302.52567, 303.8706 ],\n",
       "       dtype=float32),\n",
       " '304': array([228.86581, 222.02678, 203.2969 , 217.40532, 211.00632, 196.16881,\n",
       "        188.71802, 193.24535, 200.15646, 207.69441, 215.78049, 224.1857 ,\n",
       "        232.73915, 241.30963, 249.64607, 257.53763, 264.8697 , 271.86993,\n",
       "        278.53677, 284.0753 , 288.78375, 292.27496, 294.90555, 296.0514 ,\n",
       "        296.93216, 298.40585, 300.23843, 301.9857 , 303.7293 , 304.0986 ],\n",
       "       dtype=float32)}"
      ]
     },
     "execution_count": 10,
     "metadata": {},
     "output_type": "execute_result"
    }
   ],
   "source": [
    "Tprof"
   ]
  },
  {
   "cell_type": "code",
   "execution_count": 11,
   "metadata": {},
   "outputs": [],
   "source": [
    "pathPKL = '/home/t/Tom.Beucler/SPCAM/CBRAIN-CAM/notebooks/tbeucler_devlog/PKL_DATA/'\n",
    "hf = open(pathPKL+'2019_11_20_Tlookup.pkl','wb')\n",
    "Tlookup = {\"eps\":eps,\"imin\":imin,\"Tprof\":Tprof,\"SSTrange\":SSTrange}\n",
    "pickle.dump(Tlookup,hf)\n",
    "hf.close()"
   ]
  },
  {
   "cell_type": "markdown",
   "metadata": {},
   "source": [
    "# 2) Numpy interpolation layers"
   ]
  },
  {
   "cell_type": "code",
   "execution_count": 12,
   "metadata": {},
   "outputs": [],
   "source": [
    "#Load profile of convective heating and moistening\n",
    "it = 205\n",
    "ilat = 55\n",
    "ilon = 25\n",
    "PHQ_test = data0K.PHQ[it,:,ilat,ilon]\n",
    "TPHYSTND_test = data0K.TPHYSTND[it,:,ilat,ilon]\n",
    "TAP_test = data0K.TAP[it,:,ilat,ilon]"
   ]
  },
  {
   "cell_type": "code",
   "execution_count": 13,
   "metadata": {},
   "outputs": [],
   "source": [
    "# Find closest SST\n",
    "iSST = np.argmin(np.abs(SSTrange-TAP_test.values[-1]))\n",
    "SST = str(SSTrange[iSST].astype('int'))"
   ]
  },
  {
   "cell_type": "code",
   "execution_count": 14,
   "metadata": {},
   "outputs": [],
   "source": [
    "# Interpolate the tendencies on reference eps profile\n",
    "eps_ref = np.linspace(0,1,1001)\n",
    "TPHYSTND_testeps = np.interp(x=eps_ref,xp=eps[SST][::-1],fp=TPHYSTND_test[imin[SST]:][::-1])\n",
    "PHQ_testeps = np.interp(x=eps_ref,xp=eps[SST][::-1],fp=PHQ_test[imin[SST]:][::-1])"
   ]
  },
  {
   "cell_type": "code",
   "execution_count": 15,
   "metadata": {},
   "outputs": [
    {
     "data": {
      "text/plain": [
       "Text(0.5, 1.0, 'PHQ')"
      ]
     },
     "execution_count": 15,
     "metadata": {},
     "output_type": "execute_result"
    },
    {
     "data": {
      "image/png": "[encoded data removed]",
      "text/plain": [
       "<Figure size 720x360 with 2 Axes>"
      ]
     },
     "metadata": {
      "needs_background": "light"
     },
     "output_type": "display_data"
    }
   ],
   "source": [
    "plt.figure(figsize=(10,5))\n",
    "\n",
    "plt.subplot(1,2,1)\n",
    "plt.plot(TPHYSTND_test[imin[SST]:][::-1],eps[SST][::-1])\n",
    "plt.plot(TPHYSTND_testeps,eps_ref)\n",
    "plt.title('TPHYSTND')\n",
    "\n",
    "plt.subplot(1,2,2)\n",
    "plt.plot(PHQ_test[imin[SST]:][::-1],eps[SST][::-1])\n",
    "plt.plot(PHQ_testeps,eps_ref)\n",
    "plt.title('PHQ')"
   ]
  },
  {
   "cell_type": "code",
   "execution_count": 16,
   "metadata": {},
   "outputs": [],
   "source": [
    "# Reinterpolate back\n",
    "TPHYSTND_back = np.interp(x=eps[SST][::-1],xp=eps_ref,fp=TPHYSTND_testeps)[::-1]\n",
    "TPHYSTND_back = np.concatenate((np.zeros([imin[SST]],),TPHYSTND_back))\n",
    "\n",
    "PHQ_back = np.interp(x=eps[SST][::-1],xp=eps_ref,fp=PHQ_testeps)[::-1]\n",
    "PHQ_back = np.concatenate((np.zeros([imin[SST]],),PHQ_back))"
   ]
  },
  {
   "cell_type": "code",
   "execution_count": 17,
   "metadata": {},
   "outputs": [
    {
     "data": {
      "text/plain": [
       "Text(0.5, 1.0, 'PHQ')"
      ]
     },
     "execution_count": 17,
     "metadata": {},
     "output_type": "execute_result"
    },
    {
     "data": {
      "image/png": "[encoded data removed]",
      "text/plain": [
       "<Figure size 720x360 with 2 Axes>"
      ]
     },
     "metadata": {
      "needs_background": "light"
     },
     "output_type": "display_data"
    }
   ],
   "source": [
    "plt.figure(figsize=(10,5))\n",
    "\n",
    "plt.subplot(1,2,1)\n",
    "plt.plot(TPHYSTND_test,data0K.lev)\n",
    "plt.plot(TPHYSTND_back,data0K.lev)\n",
    "plt.title('TPHYSTND')\n",
    "\n",
    "plt.subplot(1,2,2)\n",
    "plt.plot(PHQ_test,data0K.lev)\n",
    "plt.plot(PHQ_back,data0K.lev)\n",
    "plt.title('PHQ')"
   ]
  },
  {
   "cell_type": "markdown",
   "metadata": {},
   "source": [
    "# 3) Tensorflow layers"
   ]
  },
  {
   "cell_type": "markdown",
   "metadata": {},
   "source": [
    "## 3.1) Forward interpolation layer"
   ]
  },
  {
   "cell_type": "code",
   "execution_count": 18,
   "metadata": {},
   "outputs": [],
   "source": [
    "import tensorflow as tf\n",
    "import tensorflow_probability as tfp\n",
    "import tensorflow.math as tfm"
   ]
  },
  {
   "cell_type": "code",
   "execution_count": null,
   "metadata": {},
   "outputs": [],
   "source": [
    "i = searchsorted(xp, x); \n",
    "cond(eq(i, 0), left, cond(eq(i, len(xp)), right, \n",
    "                          fp[i - 1] + (fp[i] - fp[i - 1]) * (x - xp[i - 1]) / (xp[i] - xp[i - 1])))"
   ]
  },
  {
   "cell_type": "code",
   "execution_count": 19,
   "metadata": {},
   "outputs": [
    {
     "ename": "NameError",
     "evalue": "name 'x' is not defined",
     "output_type": "error",
     "traceback": [
      "\u001b[0;31m---------------------------------------------------------------------------\u001b[0m",
      "\u001b[0;31mNameError\u001b[0m                                 Traceback (most recent call last)",
      "\u001b[0;32m~/miniconda3/lib/python3.7/site-packages/tensorflow/python/keras/api/_v1/keras/models/__init__.py\u001b[0m in \u001b[0;36m<module>\u001b[0;34m\u001b[0m\n\u001b[1;32m      1\u001b[0m tfp.math.interp_regular_1d_grid(\n\u001b[0;32m----> 2\u001b[0;31m     \u001b[0mx\u001b[0m\u001b[0;34m,\u001b[0m\u001b[0;34m\u001b[0m\u001b[0;34m\u001b[0m\u001b[0m\n\u001b[0m\u001b[1;32m      3\u001b[0m     \u001b[0mx_ref_min\u001b[0m\u001b[0;34m,\u001b[0m\u001b[0;34m\u001b[0m\u001b[0;34m\u001b[0m\u001b[0m\n\u001b[1;32m      4\u001b[0m     \u001b[0mx_ref_max\u001b[0m\u001b[0;34m,\u001b[0m\u001b[0;34m\u001b[0m\u001b[0;34m\u001b[0m\u001b[0m\n\u001b[1;32m      5\u001b[0m     \u001b[0my_ref\u001b[0m\u001b[0;34m,\u001b[0m\u001b[0;34m\u001b[0m\u001b[0;34m\u001b[0m\u001b[0m\n",
      "\u001b[0;31mNameError\u001b[0m: name 'x' is not defined"
     ]
    }
   ],
   "source": [
    "tfp.math.interp_regular_1d_grid(\n",
    "    x,\n",
    "    x_ref_min,\n",
    "    x_ref_max,\n",
    "    y_ref,\n",
    "    axis=-1,\n",
    "    fill_value='constant_extension',\n",
    "    fill_value_below=None,\n",
    "    fill_value_above=None,\n",
    "    grid_regularizing_transform=None,\n",
    "    name=None\n",
    ")"
   ]
  },
  {
   "cell_type": "code",
   "execution_count": null,
   "metadata": {},
   "outputs": [],
   "source": [
    "class MassConsLayer_choice(Layer):\n",
    "    def __init__(self, inp_sub, inp_div, norm_q, hyai, hybi, lvl_choice, **kwargs):\n",
    "        \"\"\"\n",
    "        Call using ([input, output])\n",
    "        Assumes\n",
    "        prior: [PHQ_nores, PHCLDLIQ, PHCLDICE, TPHYSTND_nores,\n",
    "        QRL, QRS, DTVKE, FSNT, FSNS, FLNT, FLNS, PRECT, PRECTEND, PRECST, PRECSTEN]\n",
    "        Returns\n",
    "        post(erior): [PHQ, PHCLDLIQ, PHCLDICE, TPHYSTND_nores,\n",
    "        QRL, QRS, DTVKE, FSNT, FSNS, FLNT, FLNS, PRECT, PRECTEND, PRECST, PRECSTEN]\n",
    "        Added lvl_choice, a hyper-parameter to choose the level of mass conservation [0-29]\n",
    "        \"\"\"\n",
    "        self.inp_sub, self.inp_div, self.norm_q, self.hyai, self.hybi = \\\n",
    "            np.array(inp_sub), np.array(inp_div), np.array(norm_q), np.array(hyai), np.array(hybi)\n",
    "        self.lvl_choice = np.int32(lvl_choice)\n",
    "        # Define variable indices here\n",
    "        # Input\n",
    "        self.PS_idx = 300\n",
    "        self.LHFLX_idx = 303\n",
    "        # Output\n",
    "        self.PHQbef_idx = slice(0, self.lvl_choice) # Indices before the residual\n",
    "        self.PHCLDLIQ_idx = slice(29, 59)\n",
    "        self.PHCLDICE_idx = slice(59, 89)\n",
    "        self.PRECT_idx = 212\n",
    "        self.PRECTEND_idx = 213\n",
    "\n",
    "        super().__init__(**kwargs)\n",
    "\n",
    "    def build(self, input_shape):\n",
    "        super().build(input_shape)\n",
    "\n",
    "    def get_config(self):\n",
    "        config = {'inp_sub': list(self.inp_sub), 'inp_div': list(self.inp_div),\n",
    "                  'norm_q': list(self.norm_q), 'hyai': list(self.hyai),\n",
    "                  'hybi': list(self.hybi), 'lvl_choice':self.lvl_choice}\n",
    "        base_config = super().get_config()\n",
    "        return dict(list(base_config.items()) + list(config.items()))\n",
    "\n",
    "    def call(self, arrs):\n",
    "        \n",
    "        # Find closest SST\n",
    "        tf.math.argmin\n",
    "        iSST = tfm.argmin(tfm.abs(SSTrange-TAP_test.values[-1]))\n",
    "        SST = str(SSTrange[iSST].astype('int'))\n",
    "        \n",
    "        # Interpolate the tendencies on reference eps profile\n",
    "        eps_ref = tf.linspace(0,1,1001)\n",
    "        TPHYSTND_testeps = np.interp(x=eps_ref,xp=eps[SST][::-1],fp=TPHYSTND_test[imin[SST]:][::-1])\n",
    "        PHQ_testeps = np.interp(x=eps_ref,xp=eps[SST][::-1],fp=PHQ_test[imin[SST]:][::-1])\n",
    "        \n",
    "        tfp.math.interp_regular_1d_grid(\n",
    "    x,\n",
    "    x_ref_min,\n",
    "    x_ref_max,\n",
    "    y_ref,\n",
    "    axis=-1,\n",
    "    fill_value='constant_extension',\n",
    "    fill_value_below=None,\n",
    "    fill_value_above=None,\n",
    "    grid_regularizing_transform=None,\n",
    "    name=None\n",
    ")\n",
    "        \n",
    "        \n",
    "        inp, prior = arrs\n",
    "\n",
    "        # 1. Compute dP_tilde\n",
    "        dP_tilde = compute_dP_tilde(\n",
    "            inp[:, self.PS_idx],\n",
    "            self.inp_div[self.PS_idx], self.inp_sub[self.PS_idx],\n",
    "            self.norm_q, self.hyai, self.hybi\n",
    "        )\n",
    "\n",
    "        # 2. Compute vertical cloud water integral\n",
    "        CLDINT = K.sum(dP_tilde *\n",
    "                       (prior[:, self.PHCLDLIQ_idx] + prior[:, self.PHCLDICE_idx]),\n",
    "                       axis=1)\n",
    "\n",
    "        # 3. Compute water vapor integral minus the water vapor residual\n",
    "        # Careful with handling the pressure vector since it is not aligned\n",
    "        # with the prior water vapor vector\n",
    "        VAPINT = K.sum(dP_tilde[:, self.PHQbef_idx] * prior[:, self.PHQbef_idx], 1) +\\\n",
    "        K.sum(dP_tilde[:, self.lvl_choice+1:30] * prior[:, self.lvl_choice:29], 1)\n",
    "\n",
    "        # 4. Compute forcing (see Tom's note for details, I am just copying)\n",
    "        LHFLX = (inp[:, self.LHFLX_idx] * self.inp_div[self.LHFLX_idx] +\n",
    "                 self.inp_sub[self.LHFLX_idx])\n",
    "        PREC = prior[:, self.PRECT_idx] + prior[:, self.PRECTEND_idx]\n",
    "\n",
    "        # 5. Compute water vapor tendency at level lvl_choice as residual\n",
    "        PHQ_LVL = (LHFLX - PREC - CLDINT - VAPINT) / dP_tilde[:, self.lvl_choice]\n",
    "\n",
    "        # 6. Concatenate output vector\n",
    "        post = tf.concat([\n",
    "            prior[:, self.PHQbef_idx], PHQ_LVL[:, None],\n",
    "            prior[:, self.lvl_choice:]\n",
    "        ], axis=1)\n",
    "        return post\n",
    "\n",
    "    def compute_output_shape(self, input_shape):\n",
    "        \"\"\"Input shape + 1\"\"\"\n",
    "        return (input_shape[0][0], input_shape[0][1] + 1)"
   ]
  }
 ],
 "metadata": {
  "kernelspec": {
   "display_name": "Python 3",
   "language": "python",
   "name": "python3"
  },
  "language_info": {
   "codemirror_mode": {
    "name": "ipython",
    "version": 3
   },
   "file_extension": ".py",
   "mimetype": "text/x-python",
   "name": "python",
   "nbconvert_exporter": "python",
   "pygments_lexer": "ipython3",
   "version": "3.7.3"
  }
 },
 "nbformat": 4,
 "nbformat_minor": 2
}
