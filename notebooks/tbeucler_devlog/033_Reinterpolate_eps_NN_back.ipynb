{
 "cells": [
  {
   "cell_type": "markdown",
   "metadata": {},
   "source": [
    "tgb - 11/27/2019 - The goal of this network is to reinterpolate the NN in epsilon vertical coordinates back to the host grid to compare its performances with the pressure-gridded model"
   ]
  },
  {
   "cell_type": "markdown",
   "metadata": {},
   "source": [
    "# 0) Imports"
   ]
  },
  {
   "cell_type": "code",
   "execution_count": 1,
   "metadata": {},
   "outputs": [
    {
     "name": "stderr",
     "output_type": "stream",
     "text": [
      "/home/t/Tom.Beucler/miniconda3/lib/python3.7/site-packages/tensorflow/python/framework/dtypes.py:516: FutureWarning: Passing (type, 1) or '1type' as a synonym of type is deprecated; in a future version of numpy, it will be understood as (type, (1,)) / '(1,)type'.\n",
      "  _np_qint8 = np.dtype([(\"qint8\", np.int8, 1)])\n",
      "/home/t/Tom.Beucler/miniconda3/lib/python3.7/site-packages/tensorflow/python/framework/dtypes.py:517: FutureWarning: Passing (type, 1) or '1type' as a synonym of type is deprecated; in a future version of numpy, it will be understood as (type, (1,)) / '(1,)type'.\n",
      "  _np_quint8 = np.dtype([(\"quint8\", np.uint8, 1)])\n",
      "/home/t/Tom.Beucler/miniconda3/lib/python3.7/site-packages/tensorflow/python/framework/dtypes.py:518: FutureWarning: Passing (type, 1) or '1type' as a synonym of type is deprecated; in a future version of numpy, it will be understood as (type, (1,)) / '(1,)type'.\n",
      "  _np_qint16 = np.dtype([(\"qint16\", np.int16, 1)])\n",
      "/home/t/Tom.Beucler/miniconda3/lib/python3.7/site-packages/tensorflow/python/framework/dtypes.py:519: FutureWarning: Passing (type, 1) or '1type' as a synonym of type is deprecated; in a future version of numpy, it will be understood as (type, (1,)) / '(1,)type'.\n",
      "  _np_quint16 = np.dtype([(\"quint16\", np.uint16, 1)])\n",
      "/home/t/Tom.Beucler/miniconda3/lib/python3.7/site-packages/tensorflow/python/framework/dtypes.py:520: FutureWarning: Passing (type, 1) or '1type' as a synonym of type is deprecated; in a future version of numpy, it will be understood as (type, (1,)) / '(1,)type'.\n",
      "  _np_qint32 = np.dtype([(\"qint32\", np.int32, 1)])\n",
      "/home/t/Tom.Beucler/miniconda3/lib/python3.7/site-packages/tensorflow/python/framework/dtypes.py:525: FutureWarning: Passing (type, 1) or '1type' as a synonym of type is deprecated; in a future version of numpy, it will be understood as (type, (1,)) / '(1,)type'.\n",
      "  np_resource = np.dtype([(\"resource\", np.ubyte, 1)])\n",
      "/home/t/Tom.Beucler/miniconda3/lib/python3.7/site-packages/tensorboard/compat/tensorflow_stub/dtypes.py:541: FutureWarning: Passing (type, 1) or '1type' as a synonym of type is deprecated; in a future version of numpy, it will be understood as (type, (1,)) / '(1,)type'.\n",
      "  _np_qint8 = np.dtype([(\"qint8\", np.int8, 1)])\n",
      "/home/t/Tom.Beucler/miniconda3/lib/python3.7/site-packages/tensorboard/compat/tensorflow_stub/dtypes.py:542: FutureWarning: Passing (type, 1) or '1type' as a synonym of type is deprecated; in a future version of numpy, it will be understood as (type, (1,)) / '(1,)type'.\n",
      "  _np_quint8 = np.dtype([(\"quint8\", np.uint8, 1)])\n",
      "/home/t/Tom.Beucler/miniconda3/lib/python3.7/site-packages/tensorboard/compat/tensorflow_stub/dtypes.py:543: FutureWarning: Passing (type, 1) or '1type' as a synonym of type is deprecated; in a future version of numpy, it will be understood as (type, (1,)) / '(1,)type'.\n",
      "  _np_qint16 = np.dtype([(\"qint16\", np.int16, 1)])\n",
      "/home/t/Tom.Beucler/miniconda3/lib/python3.7/site-packages/tensorboard/compat/tensorflow_stub/dtypes.py:544: FutureWarning: Passing (type, 1) or '1type' as a synonym of type is deprecated; in a future version of numpy, it will be understood as (type, (1,)) / '(1,)type'.\n",
      "  _np_quint16 = np.dtype([(\"quint16\", np.uint16, 1)])\n",
      "/home/t/Tom.Beucler/miniconda3/lib/python3.7/site-packages/tensorboard/compat/tensorflow_stub/dtypes.py:545: FutureWarning: Passing (type, 1) or '1type' as a synonym of type is deprecated; in a future version of numpy, it will be understood as (type, (1,)) / '(1,)type'.\n",
      "  _np_qint32 = np.dtype([(\"qint32\", np.int32, 1)])\n",
      "/home/t/Tom.Beucler/miniconda3/lib/python3.7/site-packages/tensorboard/compat/tensorflow_stub/dtypes.py:550: FutureWarning: Passing (type, 1) or '1type' as a synonym of type is deprecated; in a future version of numpy, it will be understood as (type, (1,)) / '(1,)type'.\n",
      "  np_resource = np.dtype([(\"resource\", np.ubyte, 1)])\n",
      "WARNING: Logging before flag parsing goes to stderr.\n",
      "W1128 07:55:21.041104 23293852694336 deprecation_wrapper.py:119] From /home/t/Tom.Beucler/SPCAM/CBRAIN-CAM/notebooks/tbeucler_devlog/cbrain/models.py:16: The name tf.keras.layers.CuDNNGRU is deprecated. Please use tf.compat.v1.keras.layers.CuDNNGRU instead.\n",
      "\n",
      "W1128 07:55:21.045988 23293852694336 deprecation_wrapper.py:119] From /home/t/Tom.Beucler/SPCAM/CBRAIN-CAM/notebooks/tbeucler_devlog/cbrain/models.py:16: The name tf.keras.layers.CuDNNLSTM is deprecated. Please use tf.compat.v1.keras.layers.CuDNNLSTM instead.\n",
      "\n",
      "W1128 07:55:21.075398 23293852694336 deprecation_wrapper.py:119] From /home/t/Tom.Beucler/SPCAM/CBRAIN-CAM/notebooks/tbeucler_devlog/cbrain/utils.py:145: The name tf.ConfigProto is deprecated. Please use tf.compat.v1.ConfigProto instead.\n",
      "\n",
      "W1128 07:55:21.076113 23293852694336 deprecation_wrapper.py:119] From /home/t/Tom.Beucler/SPCAM/CBRAIN-CAM/notebooks/tbeucler_devlog/cbrain/utils.py:148: The name tf.keras.backend.set_session is deprecated. Please use tf.compat.v1.keras.backend.set_session instead.\n",
      "\n",
      "W1128 07:55:21.080135 23293852694336 deprecation_wrapper.py:119] From /home/t/Tom.Beucler/SPCAM/CBRAIN-CAM/notebooks/tbeucler_devlog/cbrain/utils.py:148: The name tf.Session is deprecated. Please use tf.compat.v1.Session instead.\n",
      "\n"
     ]
    },
    {
     "name": "stdout",
     "output_type": "stream",
     "text": [
      "/home/t/Tom.Beucler/SPCAM/CBRAIN-CAM/notebooks/tbeucler_devlog\n",
      "/filer/z-sv-pool12c/t/Tom.Beucler/SPCAM/CBRAIN-CAM\n"
     ]
    }
   ],
   "source": [
    "from cbrain.imports import *\n",
    "from cbrain.data_generator import *\n",
    "from cbrain.cam_constants import *\n",
    "from cbrain.losses import *\n",
    "from cbrain.utils import limit_mem\n",
    "from cbrain.layers import *\n",
    "from cbrain.data_generator import DataGenerator\n",
    "import tensorflow as tf\n",
    "import tensorflow.math as tfm\n",
    "from tensorflow.keras.layers import *\n",
    "from tensorflow.keras.models import *\n",
    "import xarray as xr\n",
    "import numpy as np\n",
    "from cbrain.model_diagnostics import ModelDiagnostics\n",
    "import matplotlib as mpl\n",
    "import matplotlib.pyplot as plt\n",
    "import matplotlib.image as imag\n",
    "import scipy.integrate as sin\n",
    "\n",
    "TRAINDIR = '/local/Tom.Beucler/SPCAM_PHYS/'\n",
    "DATADIR = '/project/meteo/w2w/A6/S.Rasp/SP-CAM/fluxbypass_aqua/'\n",
    "PREFIX = '8col009_01_'\n",
    "%cd /filer/z-sv-pool12c/t/Tom.Beucler/SPCAM/CBRAIN-CAM\n",
    "\n",
    "# Otherwise tensorflow will use ALL your GPU RAM for no reason\n",
    "limit_mem()"
   ]
  },
  {
   "cell_type": "markdown",
   "metadata": {},
   "source": [
    "# 1) Calculate outputs of eps NN"
   ]
  },
  {
   "cell_type": "code",
   "execution_count": 7,
   "metadata": {},
   "outputs": [],
   "source": [
    "# Indices of different variables\n",
    "PHQ_idx = slice(0,30)\n",
    "TPHYSTND_idx = slice(30,60)\n",
    "PHQEPS_idx = slice(0,100)\n",
    "TPHYSTNDEPS_idx = slice(100,200)"
   ]
  },
  {
   "cell_type": "markdown",
   "metadata": {},
   "source": [
    "## 1.1) Define models"
   ]
  },
  {
   "cell_type": "code",
   "execution_count": 26,
   "metadata": {},
   "outputs": [],
   "source": [
    "config_fn = ['/home/t/Tom.Beucler/SPCAM/CBRAIN-CAM/pp_config/104_PostProc.yml',\n",
    "            '/home/t/Tom.Beucler/SPCAM/CBRAIN-CAM/pp_config/132_PostProc.yml']\n",
    "data0K_fn = ['/local/Tom.Beucler/SPCAM_PHYS/104_valid.nc',\n",
    "            '/local/Tom.Beucler/SPCAM_PHYS/131_valid.nc']\n",
    "data4K_fn = ['/local/Tom.Beucler/SPCAM_PHYS/105_valid.nc',\n",
    "            '/local/Tom.Beucler/SPCAM_PHYS/131_valid.nc']\n",
    "NNarray = ['POG104','POG131']\n",
    "NNname = ['RH T','RHeps Teps']"
   ]
  },
  {
   "cell_type": "code",
   "execution_count": 27,
   "metadata": {},
   "outputs": [
    {
     "name": "stdout",
     "output_type": "stream",
     "text": [
      "/scratch-local/Tom.Beucler/SPCAM_PHYS/HDF5_DATA\n",
      "NN name is  POG104\n"
     ]
    },
    {
     "name": "stderr",
     "output_type": "stream",
     "text": [
      "/home/t/Tom.Beucler/SPCAM/CBRAIN-CAM/notebooks/tbeucler_devlog/cbrain/model_diagnostics.py:25: YAMLLoadWarning: calling yaml.load() without Loader=... is deprecated, as the default Loader is unsafe. Please read https://msg.pyyaml.org/load for full details.\n",
      "  config = yaml.load(f)\n",
      "/home/t/Tom.Beucler/SPCAM/CBRAIN-CAM/notebooks/tbeucler_devlog/cbrain/model_diagnostics.py:25: YAMLLoadWarning: calling yaml.load() without Loader=... is deprecated, as the default Loader is unsafe. Please read https://msg.pyyaml.org/load for full details.\n",
      "  config = yaml.load(f)\n"
     ]
    },
    {
     "name": "stdout",
     "output_type": "stream",
     "text": [
      "NN name is  POG131\n"
     ]
    },
    {
     "name": "stderr",
     "output_type": "stream",
     "text": [
      "/home/t/Tom.Beucler/SPCAM/CBRAIN-CAM/notebooks/tbeucler_devlog/cbrain/model_diagnostics.py:25: YAMLLoadWarning: calling yaml.load() without Loader=... is deprecated, as the default Loader is unsafe. Please read https://msg.pyyaml.org/load for full details.\n",
      "  config = yaml.load(f)\n",
      "/home/t/Tom.Beucler/SPCAM/CBRAIN-CAM/notebooks/tbeucler_devlog/cbrain/model_diagnostics.py:25: YAMLLoadWarning: calling yaml.load() without Loader=... is deprecated, as the default Loader is unsafe. Please read https://msg.pyyaml.org/load for full details.\n",
      "  config = yaml.load(f)\n"
     ]
    }
   ],
   "source": [
    "NN = {}; md0 = {}; md4 = {};\n",
    "%cd $TRAINDIR/HDF5_DATA\n",
    "for i,NNs in enumerate(NNarray):\n",
    "    print('NN name is ',NNs)\n",
    "    path = TRAINDIR+'HDF5_DATA/'+NNs+'.hdf5'\n",
    "    #NN[NNs] = load_model(path,custom_objects=dict_lay)\n",
    "    NN[NNs] = load_model(path)\n",
    "    md0[NNs] = ModelDiagnostics(NN[NNs],config_fn[i],data0K_fn[i])\n",
    "    md4[NNs] = ModelDiagnostics(NN[NNs],config_fn[i],data4K_fn[i])"
   ]
  },
  {
   "cell_type": "markdown",
   "metadata": {},
   "source": [
    "## 1.2) Evaluate NN on samples"
   ]
  },
  {
   "cell_type": "code",
   "execution_count": 28,
   "metadata": {},
   "outputs": [
    {
     "name": "stdout",
     "output_type": "stream",
     "text": [
      "isim= 0\n"
     ]
    },
    {
     "data": {
      "application/vnd.jupyter.widget-view+json": {
       "model_id": "2fb1b3d145874ef581451e8b2983ce8d",
       "version_major": 2,
       "version_minor": 0
      },
      "text/plain": [
       "HBox(children=(IntProgress(value=0, max=50), HTML(value='')))"
      ]
     },
     "metadata": {},
     "output_type": "display_data"
    },
    {
     "name": "stdout",
     "output_type": "stream",
     "text": [
      "\n"
     ]
    }
   ],
   "source": [
    "lat_ind = np.arange(0,64)\n",
    "iini = 50\n",
    "iend = 100\n",
    "\n",
    "for isim in range(1):\n",
    "    print('isim=',isim)\n",
    "    if isim==0: md = md0\n",
    "    elif isim==1: md = md4\n",
    "    diagno = {} # Diagnostics structure\n",
    "    diagno['truth'] = {} # Diagnostics structure for the truth\n",
    "    for i,NNs in enumerate([NNarray[1]]):\n",
    "        diagno[NNs] = {} # Diagnostics structure for each NN\n",
    "        for itime in tqdm(np.arange(iini,iend)):\n",
    "            # Get input, prediction and truth from NN\n",
    "            inp, p, truth = md[NNs].get_inp_pred_truth(itime)  # [lat, lon, var, lev]\n",
    "            # Get convective heating and moistening for each NN\n",
    "            if itime==iini:\n",
    "                if i==0:\n",
    "                    diagno['truth']['PHQEPS'] = md[NNs].reshape_ngeo(truth[:,PHQEPS_idx])[lat_ind,:,:,np.newaxis]\n",
    "                    diagno['truth']['TPHYSTNDEPS'] = md[NNs].reshape_ngeo(truth[:,TPHYSTNDEPS_idx])[lat_ind,:,:,np.newaxis]\n",
    "                diagno[NNs]['PHQEPS'] = md[NNs].reshape_ngeo(p[:,PHQEPS_idx])[lat_ind,:,:,np.newaxis]\n",
    "                diagno[NNs]['TPHYSTNDEPS'] = md[NNs].reshape_ngeo(p[:,TPHYSTNDEPS_idx])[lat_ind,:,:,np.newaxis]\n",
    "            else:\n",
    "                for istr,field in enumerate(['PHQEPS','TPHYSTNDEPS']):\n",
    "                    if field=='PHQEPS': ind_field = PHQEPS_idx\n",
    "                    elif field=='TPHYSTNDEPS': ind_field = TPHYSTNDEPS_idx\n",
    "                    diagno[NNs][field] = np.concatenate((diagno[NNs][field],\n",
    "                                                         md[NNs].reshape_ngeo(p[:,ind_field])[lat_ind,:,:,np.newaxis]),\n",
    "                                                        axis=3)\n",
    "                    if i==0:\n",
    "                        diagno['truth'][field] = np.concatenate((diagno['truth'][field],\n",
    "                                                                 md[NNs].reshape_ngeo(truth[:,ind_field])[lat_ind,:,:,np.newaxis]),\n",
    "                                                                axis=3)\n",
    "    if isim==0: diagno0 = diagno\n",
    "    elif isim==1: diagno4 = diagno"
   ]
  },
  {
   "cell_type": "code",
   "execution_count": 29,
   "metadata": {},
   "outputs": [],
   "source": [
    "eps_res = 100\n",
    "eps_NN = np.linspace(0,1,eps_res)"
   ]
  },
  {
   "cell_type": "code",
   "execution_count": 30,
   "metadata": {},
   "outputs": [
    {
     "data": {
      "text/plain": [
       "(64, 128, 100, 50)"
      ]
     },
     "execution_count": 30,
     "metadata": {},
     "output_type": "execute_result"
    }
   ],
   "source": [
    "diagno['truth']['PHQEPS'].shape"
   ]
  },
  {
   "cell_type": "code",
   "execution_count": 31,
   "metadata": {},
   "outputs": [
    {
     "data": {
      "text/plain": [
       "Text(0, 0.5, 'eps')"
      ]
     },
     "execution_count": 31,
     "metadata": {},
     "output_type": "execute_result"
    },
    {
     "data": {
      "image/png": "[encoded data removed]",
      "text/plain": [
       "<Figure size 1080x360 with 2 Axes>"
      ]
     },
     "metadata": {
      "needs_background": "light"
     },
     "output_type": "display_data"
    }
   ],
   "source": [
    "plt.figure(figsize=(15,5))\n",
    "\n",
    "plt.subplot(1,2,1)\n",
    "plt.plot(np.mean(diagno['truth']['PHQEPS'],axis=(0,1,3)),eps_NN)\n",
    "plt.plot(np.mean(diagno[NNs]['PHQEPS'],axis=(0,1,3)),eps_NN)\n",
    "plt.xlabel('PHQEPS')\n",
    "plt.ylabel('eps')\n",
    "\n",
    "plt.subplot(1,2,2)\n",
    "plt.plot(np.mean(diagno['truth']['TPHYSTNDEPS'],axis=(0,1,3)),eps_NN)\n",
    "plt.plot(np.mean(diagno[NNs]['TPHYSTNDEPS'],axis=(0,1,3)),eps_NN)\n",
    "plt.xlabel('TPHYSTNDEPS')\n",
    "plt.ylabel('eps')"
   ]
  },
  {
   "cell_type": "markdown",
   "metadata": {},
   "source": [
    "# 2) Interpolate back and forth"
   ]
  },
  {
   "cell_type": "code",
   "execution_count": 41,
   "metadata": {},
   "outputs": [
    {
     "data": {
      "application/vnd.jupyter.widget-view+json": {
       "model_id": "010fe7a47181495a9a7ef4172e659320",
       "version_major": 2,
       "version_minor": 0
      },
      "text/plain": [
       "HBox(children=(IntProgress(value=0, max=5), HTML(value='')))"
      ]
     },
     "metadata": {},
     "output_type": "display_data"
    },
    {
     "name": "stdout",
     "output_type": "stream",
     "text": [
      "\n"
     ]
    }
   ],
   "source": [
    "iini = 5\n",
    "iend = 10\n",
    "for itime in tqdm(np.arange(iini,iend)):\n",
    "    # Get input, prediction and truth from NN\n",
    "    inp_norm104, p, truth = md['POG104'].get_inp_pred_truth(itime)  # [lat, lon, var, lev]"
   ]
  },
  {
   "cell_type": "code",
   "execution_count": 42,
   "metadata": {},
   "outputs": [],
   "source": [
    "inp = inp_norm104*md['POG104'].valid_gen.input_transform.div+\\\n",
    "md['POG104'].valid_gen.input_transform.sub"
   ]
  },
  {
   "cell_type": "code",
   "execution_count": 43,
   "metadata": {},
   "outputs": [],
   "source": [
    "# Load data\n",
    "pathPKL = '/home/t/Tom.Beucler/SPCAM/CBRAIN-CAM/notebooks/tbeucler_devlog/PKL_DATA/'\n",
    "hf = open(pathPKL+'2019_11_22_imin_TNS_logfit.pkl','rb')\n",
    "imfit = pickle.load(hf)['logmodel'][0]\n",
    "hf = open(pathPKL+'2019_11_22_eps_TNS_linfit.pkl','rb')\n",
    "epfit = pickle.load(hf)['linmodel']"
   ]
  },
  {
   "cell_type": "code",
   "execution_count": 45,
   "metadata": {},
   "outputs": [],
   "source": [
    "# Layer input\n",
    "# x = The NN input \n",
    "# x.shape=(batch size,# inputs)\n",
    "# Layer output\n",
    "# x_interp = The NN input interpolated on the custom eps grid\n",
    "# x_interp.shape=(batch size,custom eps grid size)\n",
    "# Parameters\n",
    "eps_res = 100\n",
    "# eps_res = Resolution of the eps grid\n",
    "\n",
    "x_test = inp\n",
    "# 1) Generate eps grid for the neural network with vertical resolution eps_res\n",
    "# and the interpolated input array\n",
    "eps_NN = np.linspace(0,1,eps_res)\n",
    "x_interp = np.zeros((x_test.shape[0],int(x_test.shape[1]+2*(eps_res-30))))\n",
    "\n",
    "# 2) Extract temperature and moisture from input vector\n",
    "q = x_test[:,:30]\n",
    "T = x_test[:,30:60]\n",
    "\n",
    "# 3) Calculates vertical interpolation domain [imin_eval:] and eps coordinate as a function of NS T = T[30]\n",
    "for isample in range(T.shape[0]):\n",
    "    x = T[isample,-1]\n",
    "    imin_eval = int(np.rint(10**(imfit[0]*np.log10(x)**0+imfit[1]*np.log10(x)**1+\\\n",
    "                                 imfit[2]*np.log10(x)**2+imfit[3]*np.log10(x)**3+\\\n",
    "                                 imfit[4]*np.log10(x)**4)))\n",
    "    eps_eval = epfit[:,0]*x**0+epfit[:,1]*x**1+epfit[:,2]*x**2+epfit[:,3]*x**3+epfit[:,4]*x**4\n",
    "    # tgb - 11/23/2019 - Adds dummy 1 at the end because np.where evaluates y output even if condition false and not returning y\n",
    "    eps_test = np.minimum(1,np.maximum(eps_eval,0))[imin_eval:]\n",
    "    eps_eval = np.concatenate((np.minimum(1,np.maximum(eps_eval,0))[imin_eval:][::-1],[1]))\n",
    "    \n",
    "# 4) Interpolate both T and q to the eps grid for the neural network\n",
    "# 4.1) Thermodynamic profiles to interpolate\n",
    "# tgb - 11/23/2019 - Adds dummy zero at the end because np.where evaluates y output even if condition false and not returning y\n",
    "    T_input = np.concatenate((T[isample,imin_eval:][::-1],[0]))\n",
    "    q_input = np.concatenate((q[isample,imin_eval:][::-1],[0]))\n",
    "# 4.2) Interpolation using searchsorted and low-level weighting implementation\n",
    "# The goal is to mimic T_interp = np.interp(x=eps_ref,xp=eps_eval,fp=T_input)\n",
    "# If left then T_input[0], if right then T_input[-1], else weighted average of T_input[iint-1] and T_input[iint]\n",
    "    iint = np.searchsorted(eps_eval,eps_NN)\n",
    "    T_interp = np.where(iint<1,T_input[0],np.where(iint>(30-imin_eval-1),T_input[30-imin_eval-1],\\\n",
    "                                                   ((eps_eval[iint]-eps_NN)/(eps_eval[iint]-eps_eval[iint-1]))*T_input[iint-1]+\\\n",
    "                                                   ((eps_NN-eps_eval[iint-1])/(eps_eval[iint]-eps_eval[iint-1]))*T_input[iint]))\n",
    "    q_interp = np.where(iint<1,q_input[0],np.where(iint>(30-imin_eval-1),q_input[30-imin_eval-1],\\\n",
    "                                                   ((eps_eval[iint]-eps_NN)/(eps_eval[iint]-eps_eval[iint-1]))*q_input[iint-1]+\\\n",
    "                                                   ((eps_NN-eps_eval[iint-1])/(eps_eval[iint]-eps_eval[iint-1]))*q_input[iint]))\n",
    "\n",
    "# 5) Return the interpolated input vector x_interp\n",
    "    x_interp[isample,:] = np.concatenate((q_interp,T_interp,x_test[isample,60:]))"
   ]
  },
  {
   "cell_type": "code",
   "execution_count": 51,
   "metadata": {},
   "outputs": [],
   "source": [
    "inp_norm131 = (x_interp-md['POG131'].valid_gen.input_transform.sub)/\\\n",
    "md['POG131'].valid_gen.input_transform.div"
   ]
  },
  {
   "cell_type": "code",
   "execution_count": 53,
   "metadata": {},
   "outputs": [],
   "source": [
    "pred131 = md['POG131'].model.predict_on_batch(inp_norm131)"
   ]
  },
  {
   "cell_type": "code",
   "execution_count": 58,
   "metadata": {},
   "outputs": [],
   "source": [
    "PS = 1e5\n",
    "eps_res = 1e2\n",
    "dP = PS/eps_res"
   ]
  },
  {
   "cell_type": "code",
   "execution_count": 59,
   "metadata": {},
   "outputs": [],
   "source": [
    "predeps = pred131/md['POG131'].valid_gen.output_transform.scale"
   ]
  },
  {
   "cell_type": "code",
   "execution_count": 69,
   "metadata": {},
   "outputs": [],
   "source": [
    "y = np.zeros((T.shape[0],64))\n",
    "for isample in range(T.shape[0]):\n",
    "    x = T[isample,-1]\n",
    "    imin_eval = int(np.rint(10**(imfit[0]*np.log10(x)**0+imfit[1]*np.log10(x)**1+\\\n",
    "                                 imfit[2]*np.log10(x)**2+imfit[3]*np.log10(x)**3+\\\n",
    "                                 imfit[4]*np.log10(x)**4)))\n",
    "    eps_eval = epfit[:,0]*x**0+epfit[:,1]*x**1+epfit[:,2]*x**2+epfit[:,3]*x**3+epfit[:,4]*x**4\n",
    "    # tgb - 11/23/2019 - Adds dummy 1 at the end because np.where evaluates y output even if condition false and not returning y\n",
    "    eps_test = np.minimum(1,np.maximum(eps_eval,0))[imin_eval:]\n",
    "    eps_eval = np.concatenate((np.minimum(1,np.maximum(eps_eval,0))[imin_eval:][::-1],[1]))\n",
    "    \n",
    "# 4) Interpolate both T and q to the eps grid for the neural network\n",
    "# 4.1) Thermodynamic profiles to interpolate\n",
    "# tgb - 11/23/2019 - Adds dummy zero at the end because np.where evaluates y output even if condition false and not returning y\n",
    "    dqdt_output = predeps[isample,:100]\n",
    "    dTdt_output = predeps[isample,100:200]\n",
    "    #T_input = np.concatenate((T[isample,imin_eval:][::-1],[0]))\n",
    "    #q_input = np.concatenate((q[isample,imin_eval:][::-1],[0]))\n",
    "# 4.2) Interpolation using searchsorted and low-level weighting implementation\n",
    "# The goal is to mimic T_interp = np.interp(x=eps_ref,xp=eps_eval,fp=T_input)\n",
    "# If left then T_input[0], if right then T_input[-1], else weighted average of T_input[iint-1] and T_input[iint]\n",
    "    iint = np.searchsorted(eps_NN,eps_eval)\n",
    "    dTdt_interp = np.where(iint<1,dTdt_output[0],np.where(iint>99,dTdt_output[-1],\\\n",
    "                                                          ((eps_NN[iint]-eps_eval)/(eps_NN[iint]-eps_NN[iint-1]))*dTdt_output[iint-1]+\\\n",
    "                                                          ((eps_eval-eps_NN[iint-1])/(eps_NN[iint]-eps_NN[iint-1]))*dTdt_output[iint]))\n",
    "    dTdt_interp = np.concatenate((dTdt_interp,np.zeros(imin_eval-1,)))[::-1]\n",
    "    dqdt_interp = np.where(iint<1,dqdt_output[0],np.where(iint>99,dqdt_output[-1],\\\n",
    "                                                          ((eps_NN[iint]-eps_eval)/(eps_NN[iint]-eps_NN[iint-1]))*dqdt_output[iint-1]+\\\n",
    "                                                          ((eps_eval-eps_NN[iint-1])/(eps_NN[iint]-eps_NN[iint-1]))*dqdt_output[iint]))\n",
    "    dqdt_interp = np.concatenate((dqdt_interp,np.zeros(imin_eval-1,)))[::-1]\n",
    "# 5) Return the output vector y\n",
    "    y[isample,:] = np.concatenate((dqdt_interp,dTdt_interp,predeps[isample,200:204]))"
   ]
  },
  {
   "cell_type": "code",
   "execution_count": 75,
   "metadata": {},
   "outputs": [],
   "source": [
    "# Convert y to W/m2 to compare them to the truth\n",
    "y *= md['POG104'].valid_gen.output_transform.scale"
   ]
  },
  {
   "cell_type": "code",
   "execution_count": 85,
   "metadata": {},
   "outputs": [
    {
     "data": {
      "text/plain": [
       "<matplotlib.legend.Legend at 0x152e78c0de80>"
      ]
     },
     "execution_count": 85,
     "metadata": {},
     "output_type": "execute_result"
    },
    {
     "data": {
      "image/png": "[encoded data removed]",
      "text/plain": [
       "<Figure size 1080x360 with 2 Axes>"
      ]
     },
     "metadata": {
      "needs_background": "light"
     },
     "output_type": "display_data"
    }
   ],
   "source": [
    "plt.figure(figsize=(15,5))\n",
    "\n",
    "plt.subplot(1,2,1)\n",
    "plt.title('PHQ')\n",
    "plt.plot(np.mean(y[:,:30],axis=0),label='pred')\n",
    "plt.plot(np.mean(truth[:,:30],axis=0),label='truth')\n",
    "plt.legend()\n",
    "\n",
    "plt.subplot(1,2,2)\n",
    "plt.title('TPHYSTND')\n",
    "plt.plot(np.mean(y[:,30:60],axis=0),label='pred')\n",
    "plt.plot(np.mean(truth[:,30:60],axis=0),label='truth')\n",
    "plt.legend()"
   ]
  },
  {
   "cell_type": "markdown",
   "metadata": {},
   "source": [
    "# 3) Code for several timesteps"
   ]
  },
  {
   "cell_type": "code",
   "execution_count": 102,
   "metadata": {},
   "outputs": [],
   "source": [
    "config_fn = ['/home/t/Tom.Beucler/SPCAM/CBRAIN-CAM/pp_config/104_PostProc.yml',\n",
    "            '/home/t/Tom.Beucler/SPCAM/CBRAIN-CAM/pp_config/132_PostProc.yml']\n",
    "data0K_fn = ['/local/Tom.Beucler/SPCAM_PHYS/104_valid.nc',\n",
    "            '/local/Tom.Beucler/SPCAM_PHYS/131_valid.nc']\n",
    "data4K_fn = ['/local/Tom.Beucler/SPCAM_PHYS/105_valid.nc',\n",
    "            '/local/Tom.Beucler/SPCAM_PHYS/131_valid.nc']\n",
    "NNarray = ['POG104','POG131']\n",
    "NNname = ['RH T','RHeps Teps']"
   ]
  },
  {
   "cell_type": "code",
   "execution_count": 104,
   "metadata": {},
   "outputs": [
    {
     "name": "stdout",
     "output_type": "stream",
     "text": [
      "/scratch-local/Tom.Beucler/SPCAM_PHYS/HDF5_DATA\n",
      "NN name is  POG104\n"
     ]
    },
    {
     "name": "stderr",
     "output_type": "stream",
     "text": [
      "/home/t/Tom.Beucler/SPCAM/CBRAIN-CAM/notebooks/tbeucler_devlog/cbrain/model_diagnostics.py:25: YAMLLoadWarning: calling yaml.load() without Loader=... is deprecated, as the default Loader is unsafe. Please read https://msg.pyyaml.org/load for full details.\n",
      "  config = yaml.load(f)\n",
      "/home/t/Tom.Beucler/SPCAM/CBRAIN-CAM/notebooks/tbeucler_devlog/cbrain/model_diagnostics.py:25: YAMLLoadWarning: calling yaml.load() without Loader=... is deprecated, as the default Loader is unsafe. Please read https://msg.pyyaml.org/load for full details.\n",
      "  config = yaml.load(f)\n"
     ]
    },
    {
     "name": "stdout",
     "output_type": "stream",
     "text": [
      "NN name is  POG131\n"
     ]
    },
    {
     "name": "stderr",
     "output_type": "stream",
     "text": [
      "/home/t/Tom.Beucler/SPCAM/CBRAIN-CAM/notebooks/tbeucler_devlog/cbrain/model_diagnostics.py:25: YAMLLoadWarning: calling yaml.load() without Loader=... is deprecated, as the default Loader is unsafe. Please read https://msg.pyyaml.org/load for full details.\n",
      "  config = yaml.load(f)\n",
      "/home/t/Tom.Beucler/SPCAM/CBRAIN-CAM/notebooks/tbeucler_devlog/cbrain/model_diagnostics.py:25: YAMLLoadWarning: calling yaml.load() without Loader=... is deprecated, as the default Loader is unsafe. Please read https://msg.pyyaml.org/load for full details.\n",
      "  config = yaml.load(f)\n"
     ]
    }
   ],
   "source": [
    "NN = {}; md0 = {}; md4 = {};\n",
    "%cd $TRAINDIR/HDF5_DATA\n",
    "for i,NNs in enumerate(NNarray):\n",
    "    print('NN name is ',NNs)\n",
    "    path = TRAINDIR+'HDF5_DATA/'+NNs+'.hdf5'\n",
    "    #NN[NNs] = load_model(path,custom_objects=dict_lay)\n",
    "    NN[NNs] = load_model(path)\n",
    "    md[NNs] = ModelDiagnostics(NN[NNs],config_fn[i],data0K_fn[i])\n",
    "    md[NNs+'p4'] = ModelDiagnostics(NN[NNs],config_fn[i],data4K_fn[i])"
   ]
  },
  {
   "cell_type": "code",
   "execution_count": 106,
   "metadata": {},
   "outputs": [],
   "source": [
    "# Load data\n",
    "pathPKL = '/home/t/Tom.Beucler/SPCAM/CBRAIN-CAM/notebooks/tbeucler_devlog/PKL_DATA/'\n",
    "hf = open(pathPKL+'2019_11_22_imin_TNS_logfit.pkl','rb')\n",
    "imfit = pickle.load(hf)['logmodel'][0]\n",
    "hf = open(pathPKL+'2019_11_22_eps_TNS_linfit.pkl','rb')\n",
    "epfit = pickle.load(hf)['linmodel']"
   ]
  },
  {
   "cell_type": "code",
   "execution_count": 121,
   "metadata": {},
   "outputs": [],
   "source": [
    "eps_res = 100\n",
    "eps_NN = np.linspace(0,1,eps_res)\n",
    "\n",
    "iini = 100\n",
    "iend = 115\n",
    "sREF = 'POG104' # Reference NN in p space\n",
    "sEPS = 'POG131' # NN in eps space"
   ]
  },
  {
   "cell_type": "code",
   "execution_count": 122,
   "metadata": {},
   "outputs": [
    {
     "data": {
      "application/vnd.jupyter.widget-view+json": {
       "model_id": "2899656e7fe4436e884be7e24de253e6",
       "version_major": 2,
       "version_minor": 0
      },
      "text/plain": [
       "HBox(children=(IntProgress(value=0, max=15), HTML(value='')))"
      ]
     },
     "metadata": {},
     "output_type": "display_data"
    },
    {
     "name": "stdout",
     "output_type": "stream",
     "text": [
      "\n"
     ]
    }
   ],
   "source": [
    "for itime in tqdm(np.arange(iini,iend)):\n",
    "    # Get input, prediction and truth from NN\n",
    "    inp_norm104, p, truth = md[sREF].get_inp_pred_truth(itime)  # [lat, lon, var, lev]\n",
    "    inp = inp_norm104*md[sREF].valid_gen.input_transform.div+md[sREF].valid_gen.input_transform.sub\n",
    "    \n",
    "    x_interp = np.zeros((inp.shape[0],int(inp.shape[1]+2*(eps_res-30))))\n",
    "\n",
    "    # 2) Extract temperature and moisture from input vector\n",
    "    q = inp[:,:30]\n",
    "    T = inp[:,30:60]\n",
    "\n",
    "    # 3) Calculates vertical interpolation domain [imin_eval:] and eps coordinate as a function of NS T = T[30]\n",
    "    for isample in range(T.shape[0]):\n",
    "        x = T[isample,-1]\n",
    "        imin_eval = int(np.rint(10**(imfit[0]*np.log10(x)**0+imfit[1]*np.log10(x)**1+\\\n",
    "                                     imfit[2]*np.log10(x)**2+imfit[3]*np.log10(x)**3+\\\n",
    "                                     imfit[4]*np.log10(x)**4)))\n",
    "        eps_eval = epfit[:,0]*x**0+epfit[:,1]*x**1+epfit[:,2]*x**2+epfit[:,3]*x**3+epfit[:,4]*x**4\n",
    "        # tgb - 11/23/2019 - Adds dummy 1 at the end because np.where evaluates y output even if condition false and not returning y\n",
    "        eps_test = np.minimum(1,np.maximum(eps_eval,0))[imin_eval:]\n",
    "        eps_eval = np.concatenate((np.minimum(1,np.maximum(eps_eval,0))[imin_eval:][::-1],[1]))\n",
    "\n",
    "    # 4) Interpolate both T and q to the eps grid for the neural network\n",
    "    # 4.1) Thermodynamic profiles to interpolate\n",
    "    # tgb - 11/23/2019 - Adds dummy zero at the end because np.where evaluates y output even if condition false and not returning y\n",
    "        T_input = np.concatenate((T[isample,imin_eval:][::-1],[0]))\n",
    "        q_input = np.concatenate((q[isample,imin_eval:][::-1],[0]))\n",
    "    # 4.2) Interpolation using searchsorted and low-level weighting implementation\n",
    "    # The goal is to mimic T_interp = np.interp(x=eps_ref,xp=eps_eval,fp=T_input)\n",
    "    # If left then T_input[0], if right then T_input[-1], else weighted average of T_input[iint-1] and T_input[iint]\n",
    "        iint = np.searchsorted(eps_eval,eps_NN)\n",
    "        T_interp = np.where(iint<1,T_input[0],np.where(iint>(30-imin_eval-1),T_input[30-imin_eval-1],\\\n",
    "                                                       ((eps_eval[iint]-eps_NN)/(eps_eval[iint]-eps_eval[iint-1]))*T_input[iint-1]+\\\n",
    "                                                       ((eps_NN-eps_eval[iint-1])/(eps_eval[iint]-eps_eval[iint-1]))*T_input[iint]))\n",
    "        q_interp = np.where(iint<1,q_input[0],np.where(iint>(30-imin_eval-1),q_input[30-imin_eval-1],\\\n",
    "                                                       ((eps_eval[iint]-eps_NN)/(eps_eval[iint]-eps_eval[iint-1]))*q_input[iint-1]+\\\n",
    "                                                       ((eps_NN-eps_eval[iint-1])/(eps_eval[iint]-eps_eval[iint-1]))*q_input[iint]))\n",
    "\n",
    "    # 5) Return the interpolated input vector x_interp\n",
    "        x_interp[isample,:] = np.concatenate((q_interp,T_interp,x_test[isample,60:]))\n",
    "        \n",
    "    inp_norm131 = (x_interp-md[sEPS].valid_gen.input_transform.sub)/md[sEPS].valid_gen.input_transform.div\n",
    "    pred131 = md[sEPS].model.predict_on_batch(inp_norm131)\n",
    "    predeps = pred131/md[sEPS].valid_gen.output_transform.scale\n",
    "    \n",
    "    y = np.zeros((T.shape[0],64))\n",
    "    for isample in range(T.shape[0]):\n",
    "        x = T[isample,-1]\n",
    "        imin_eval = int(np.rint(10**(imfit[0]*np.log10(x)**0+imfit[1]*np.log10(x)**1+\\\n",
    "                                     imfit[2]*np.log10(x)**2+imfit[3]*np.log10(x)**3+\\\n",
    "                                     imfit[4]*np.log10(x)**4)))\n",
    "        eps_eval = epfit[:,0]*x**0+epfit[:,1]*x**1+epfit[:,2]*x**2+epfit[:,3]*x**3+epfit[:,4]*x**4\n",
    "        # tgb - 11/23/2019 - Adds dummy 1 at the end because np.where evaluates y output even if condition false and not returning y\n",
    "        eps_test = np.minimum(1,np.maximum(eps_eval,0))[imin_eval:]\n",
    "        eps_eval = np.concatenate((np.minimum(1,np.maximum(eps_eval,0))[imin_eval:][::-1],[1]))\n",
    "\n",
    "    # 4) Interpolate both T and q to the eps grid for the neural network\n",
    "    # 4.1) Thermodynamic profiles to interpolate\n",
    "    # tgb - 11/23/2019 - Adds dummy zero at the end because np.where evaluates y output even if condition false and not returning y\n",
    "        dqdt_output = predeps[isample,:100]\n",
    "        dTdt_output = predeps[isample,100:200]\n",
    "    # 4.2) Interpolation using searchsorted and low-level weighting implementation\n",
    "    # The goal is to mimic T_interp = np.interp(x=eps_ref,xp=eps_eval,fp=T_input)\n",
    "    # If left then T_input[0], if right then T_input[-1], else weighted average of T_input[iint-1] and T_input[iint]\n",
    "        iint = np.searchsorted(eps_NN,eps_eval)\n",
    "        dTdt_interp = np.where(iint<1,dTdt_output[0],np.where(iint>99,dTdt_output[-1],\\\n",
    "                                                              ((eps_NN[iint]-eps_eval)/(eps_NN[iint]-eps_NN[iint-1]))*dTdt_output[iint-1]+\\\n",
    "                                                              ((eps_eval-eps_NN[iint-1])/(eps_NN[iint]-eps_NN[iint-1]))*dTdt_output[iint]))\n",
    "        dTdt_interp = np.concatenate((dTdt_interp,np.zeros(imin_eval-1,)))[::-1]\n",
    "        dqdt_interp = np.where(iint<1,dqdt_output[0],np.where(iint>99,dqdt_output[-1],\\\n",
    "                                                              ((eps_NN[iint]-eps_eval)/(eps_NN[iint]-eps_NN[iint-1]))*dqdt_output[iint-1]+\\\n",
    "                                                              ((eps_eval-eps_NN[iint-1])/(eps_NN[iint]-eps_NN[iint-1]))*dqdt_output[iint]))\n",
    "        dqdt_interp = np.concatenate((dqdt_interp,np.zeros(imin_eval-1,)))[::-1]\n",
    "    # 5) Return the output vector y\n",
    "        y[isample,:] = np.concatenate((dqdt_interp,dTdt_interp,predeps[isample,200:204]))\n",
    "    y *= md[sREF].valid_gen.output_transform.scale\n",
    "    \n",
    "    # Reshape to (lat,lon) grid\n",
    "    if itime==iini: \n",
    "        out = md[sEPS].reshape_ngeo(y)[:,:,:,np.newaxis] \n",
    "        tru = md[sEPS].reshape_ngeo(truth)[:,:,:,np.newaxis]\n",
    "    else:\n",
    "        out = np.concatenate((out,md[sEPS].reshape_ngeo(y)[:,:,:,np.newaxis]),axis=3)\n",
    "        tru = np.concatenate((tru,md[sEPS].reshape_ngeo(truth)[:,:,:,np.newaxis]),axis=3)"
   ]
  },
  {
   "cell_type": "code",
   "execution_count": 123,
   "metadata": {},
   "outputs": [
    {
     "data": {
      "text/plain": [
       "<matplotlib.legend.Legend at 0x152e592d8f60>"
      ]
     },
     "execution_count": 123,
     "metadata": {},
     "output_type": "execute_result"
    },
    {
     "data": {
      "image/png": "[encoded data removed]",
      "text/plain": [
       "<Figure size 1080x360 with 2 Axes>"
      ]
     },
     "metadata": {
      "needs_background": "light"
     },
     "output_type": "display_data"
    }
   ],
   "source": [
    "plt.figure(figsize=(15,5))\n",
    "\n",
    "plt.subplot(1,2,1)\n",
    "plt.title('PHQ')\n",
    "plt.plot(np.mean(out[:,:,:30,:],axis=(0,1,3)),label='pred')\n",
    "plt.plot(np.mean(tru[:,:,:30,:],axis=(0,1,3)),label='truth')\n",
    "plt.legend()\n",
    "\n",
    "plt.subplot(1,2,2)\n",
    "plt.title('TPHYSTND')\n",
    "plt.plot(np.mean(out[:,:,30:60,:],axis=(0,1,3)),label='pred')\n",
    "plt.plot(np.mean(tru[:,:,30:60,:],axis=(0,1,3)),label='truth')\n",
    "plt.legend()"
   ]
  },
  {
   "cell_type": "code",
   "execution_count": null,
   "metadata": {},
   "outputs": [
    {
     "name": "stdout",
     "output_type": "stream",
     "text": [
      "/filer/z-sv-pool12c/t/Tom.Beucler/SPCAM/CBRAIN-CAM\n",
      "/home/t/Tom.Beucler/miniconda3/lib/python3.7/site-packages/tensorflow/python/framework/dtypes.py:516: FutureWarning: Passing (type, 1) or '1type' as a synonym of type is deprecated; in a future version of numpy, it will be understood as (type, (1,)) / '(1,)type'.\n",
      "  _np_qint8 = np.dtype([(\"qint8\", np.int8, 1)])\n",
      "/home/t/Tom.Beucler/miniconda3/lib/python3.7/site-packages/tensorflow/python/framework/dtypes.py:517: FutureWarning: Passing (type, 1) or '1type' as a synonym of type is deprecated; in a future version of numpy, it will be understood as (type, (1,)) / '(1,)type'.\n",
      "  _np_quint8 = np.dtype([(\"quint8\", np.uint8, 1)])\n",
      "/home/t/Tom.Beucler/miniconda3/lib/python3.7/site-packages/tensorflow/python/framework/dtypes.py:518: FutureWarning: Passing (type, 1) or '1type' as a synonym of type is deprecated; in a future version of numpy, it will be understood as (type, (1,)) / '(1,)type'.\n",
      "  _np_qint16 = np.dtype([(\"qint16\", np.int16, 1)])\n",
      "/home/t/Tom.Beucler/miniconda3/lib/python3.7/site-packages/tensorflow/python/framework/dtypes.py:519: FutureWarning: Passing (type, 1) or '1type' as a synonym of type is deprecated; in a future version of numpy, it will be understood as (type, (1,)) / '(1,)type'.\n",
      "  _np_quint16 = np.dtype([(\"quint16\", np.uint16, 1)])\n",
      "/home/t/Tom.Beucler/miniconda3/lib/python3.7/site-packages/tensorflow/python/framework/dtypes.py:520: FutureWarning: Passing (type, 1) or '1type' as a synonym of type is deprecated; in a future version of numpy, it will be understood as (type, (1,)) / '(1,)type'.\n",
      "  _np_qint32 = np.dtype([(\"qint32\", np.int32, 1)])\n",
      "/home/t/Tom.Beucler/miniconda3/lib/python3.7/site-packages/tensorflow/python/framework/dtypes.py:525: FutureWarning: Passing (type, 1) or '1type' as a synonym of type is deprecated; in a future version of numpy, it will be understood as (type, (1,)) / '(1,)type'.\n",
      "  np_resource = np.dtype([(\"resource\", np.ubyte, 1)])\n",
      "/home/t/Tom.Beucler/miniconda3/lib/python3.7/site-packages/tensorboard/compat/tensorflow_stub/dtypes.py:541: FutureWarning: Passing (type, 1) or '1type' as a synonym of type is deprecated; in a future version of numpy, it will be understood as (type, (1,)) / '(1,)type'.\n",
      "  _np_qint8 = np.dtype([(\"qint8\", np.int8, 1)])\n",
      "/home/t/Tom.Beucler/miniconda3/lib/python3.7/site-packages/tensorboard/compat/tensorflow_stub/dtypes.py:542: FutureWarning: Passing (type, 1) or '1type' as a synonym of type is deprecated; in a future version of numpy, it will be understood as (type, (1,)) / '(1,)type'.\n",
      "  _np_quint8 = np.dtype([(\"quint8\", np.uint8, 1)])\n",
      "/home/t/Tom.Beucler/miniconda3/lib/python3.7/site-packages/tensorboard/compat/tensorflow_stub/dtypes.py:543: FutureWarning: Passing (type, 1) or '1type' as a synonym of type is deprecated; in a future version of numpy, it will be understood as (type, (1,)) / '(1,)type'.\n",
      "  _np_qint16 = np.dtype([(\"qint16\", np.int16, 1)])\n",
      "/home/t/Tom.Beucler/miniconda3/lib/python3.7/site-packages/tensorboard/compat/tensorflow_stub/dtypes.py:544: FutureWarning: Passing (type, 1) or '1type' as a synonym of type is deprecated; in a future version of numpy, it will be understood as (type, (1,)) / '(1,)type'.\n",
      "  _np_quint16 = np.dtype([(\"quint16\", np.uint16, 1)])\n",
      "/home/t/Tom.Beucler/miniconda3/lib/python3.7/site-packages/tensorboard/compat/tensorflow_stub/dtypes.py:545: FutureWarning: Passing (type, 1) or '1type' as a synonym of type is deprecated; in a future version of numpy, it will be understood as (type, (1,)) / '(1,)type'.\n",
      "  _np_qint32 = np.dtype([(\"qint32\", np.int32, 1)])\n",
      "/home/t/Tom.Beucler/miniconda3/lib/python3.7/site-packages/tensorboard/compat/tensorflow_stub/dtypes.py:550: FutureWarning: Passing (type, 1) or '1type' as a synonym of type is deprecated; in a future version of numpy, it will be understood as (type, (1,)) / '(1,)type'.\n",
      "  np_resource = np.dtype([(\"resource\", np.ubyte, 1)])\n",
      "WARNING: Logging before flag parsing goes to stderr.\n",
      "W1128 09:45:57.582668 22683294799680 deprecation_wrapper.py:119] From /filer/z-sv-pool12c/t/Tom.Beucler/SPCAM/CBRAIN-CAM/cbrain/models.py:16: The name tf.keras.layers.CuDNNGRU is deprecated. Please use tf.compat.v1.keras.layers.CuDNNGRU instead.\n",
      "\n",
      "W1128 09:45:57.583184 22683294799680 deprecation_wrapper.py:119] From /filer/z-sv-pool12c/t/Tom.Beucler/SPCAM/CBRAIN-CAM/cbrain/models.py:16: The name tf.keras.layers.CuDNNLSTM is deprecated. Please use tf.compat.v1.keras.layers.CuDNNLSTM instead.\n",
      "\n",
      "/filer/z-sv-pool12c/t/Tom.Beucler/SPCAM/CBRAIN-CAM\n",
      "/home/t/Tom.Beucler/miniconda3/lib/python3.7/site-packages/xarray/backends/api.py:783: FutureWarning: In xarray version 0.13 `auto_combine` will be deprecated.\n",
      "  coords=coords)\n",
      "/home/t/Tom.Beucler/miniconda3/lib/python3.7/site-packages/xarray/backends/api.py:783: FutureWarning: Also `open_mfdataset` will no longer accept a `concat_dim` argument.\n",
      "To get equivalent behaviour from now on please use the new\n",
      "`combine_nested` function instead (or the `combine='nested'` option to\n",
      "`open_mfdataset`).The datasets supplied have global dimension coordinates. You may want\n",
      "to use the new `combine_by_coords` function (or the\n",
      "`combine='by_coords'` option to `open_mfdataset` to order the datasets\n",
      "before concatenation. Alternatively, to continue concatenating based\n",
      "on the order the datasets are supplied in in future, please use the\n",
      "new `combine_nested` function (or the `combine='nested'` option to\n",
      "open_mfdataset).\n",
      "  coords=coords)\n",
      "var is  RHEPS\n",
      "Base variable is  RH\n"
     ]
    }
   ],
   "source": [
    "%cd /filer/z-sv-pool12c/t/Tom.Beucler/SPCAM/CBRAIN-CAM\n",
    "!python preprocessing-11132019.py -c /home/t/Tom.Beucler/SPCAM/CBRAIN-CAM/pp_config/133_POG_84G_p4K_RHTepsinput_dQdtdTdtepsotuput_June.yml"
   ]
  },
  {
   "cell_type": "code",
   "execution_count": null,
   "metadata": {},
   "outputs": [],
   "source": []
  }
 ],
 "metadata": {
  "kernelspec": {
   "display_name": "Python 3",
   "language": "python",
   "name": "python3"
  },
  "language_info": {
   "codemirror_mode": {
    "name": "ipython",
    "version": 3
   },
   "file_extension": ".py",
   "mimetype": "text/x-python",
   "name": "python",
   "nbconvert_exporter": "python",
   "pygments_lexer": "ipython3",
   "version": "3.7.3"
  },
  "toc": {
   "base_numbering": 1,
   "nav_menu": {},
   "number_sections": false,
   "sideBar": true,
   "skip_h1_title": false,
   "title_cell": "Table of Contents",
   "title_sidebar": "Contents",
   "toc_cell": false,
   "toc_position": {},
   "toc_section_display": true,
   "toc_window_display": true
  }
 },
 "nbformat": 4,
 "nbformat_minor": 2
}
