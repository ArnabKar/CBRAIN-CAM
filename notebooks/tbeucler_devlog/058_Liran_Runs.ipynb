{
 "cells": [
  {
   "cell_type": "markdown",
   "metadata": {},
   "source": [
    "tgb - 9/28/2020 - Analyzing Liran's runs to design new real-geography NNs"
   ]
  },
  {
   "cell_type": "code",
   "execution_count": 1,
   "metadata": {},
   "outputs": [
    {
     "name": "stderr",
     "output_type": "stream",
     "text": [
      "/work/05823/tg851228/stampede2/MINICONDA/envs/cbrain_1/lib/python3.6/site-packages/tensorflow/python/framework/dtypes.py:523: FutureWarning: Passing (type, 1) or '1type' as a synonym of type is deprecated; in a future version of numpy, it will be understood as (type, (1,)) / '(1,)type'.\n",
      "  _np_qint8 = np.dtype([(\"qint8\", np.int8, 1)])\n",
      "/work/05823/tg851228/stampede2/MINICONDA/envs/cbrain_1/lib/python3.6/site-packages/tensorflow/python/framework/dtypes.py:524: FutureWarning: Passing (type, 1) or '1type' as a synonym of type is deprecated; in a future version of numpy, it will be understood as (type, (1,)) / '(1,)type'.\n",
      "  _np_quint8 = np.dtype([(\"quint8\", np.uint8, 1)])\n",
      "/work/05823/tg851228/stampede2/MINICONDA/envs/cbrain_1/lib/python3.6/site-packages/tensorflow/python/framework/dtypes.py:525: FutureWarning: Passing (type, 1) or '1type' as a synonym of type is deprecated; in a future version of numpy, it will be understood as (type, (1,)) / '(1,)type'.\n",
      "  _np_qint16 = np.dtype([(\"qint16\", np.int16, 1)])\n",
      "/work/05823/tg851228/stampede2/MINICONDA/envs/cbrain_1/lib/python3.6/site-packages/tensorflow/python/framework/dtypes.py:526: FutureWarning: Passing (type, 1) or '1type' as a synonym of type is deprecated; in a future version of numpy, it will be understood as (type, (1,)) / '(1,)type'.\n",
      "  _np_quint16 = np.dtype([(\"quint16\", np.uint16, 1)])\n",
      "/work/05823/tg851228/stampede2/MINICONDA/envs/cbrain_1/lib/python3.6/site-packages/tensorflow/python/framework/dtypes.py:527: FutureWarning: Passing (type, 1) or '1type' as a synonym of type is deprecated; in a future version of numpy, it will be understood as (type, (1,)) / '(1,)type'.\n",
      "  _np_qint32 = np.dtype([(\"qint32\", np.int32, 1)])\n",
      "/work/05823/tg851228/stampede2/MINICONDA/envs/cbrain_1/lib/python3.6/site-packages/tensorflow/python/framework/dtypes.py:532: FutureWarning: Passing (type, 1) or '1type' as a synonym of type is deprecated; in a future version of numpy, it will be understood as (type, (1,)) / '(1,)type'.\n",
      "  np_resource = np.dtype([(\"resource\", np.ubyte, 1)])\n"
     ]
    },
    {
     "name": "stdout",
     "output_type": "stream",
     "text": [
      "/home1/05823/tg851228/SPCAM/CBRAIN-CAM/notebooks/tbeucler_devlog\n"
     ]
    }
   ],
   "source": [
    "from cbrain.imports import *\n",
    "from cbrain.data_generator import *\n",
    "from cbrain.cam_constants import *\n",
    "from cbrain.losses import *\n",
    "from cbrain.utils import limit_mem\n",
    "from cbrain.layers import *\n",
    "from cbrain.data_generator import DataGenerator\n",
    "import tensorflow as tf\n",
    "import tensorflow.math as tfm\n",
    "#import tensorflow_probability as tfp\n",
    "from tensorflow.keras.layers import *\n",
    "from tensorflow.keras.models import *\n",
    "import xarray as xr\n",
    "import numpy as np\n",
    "from cbrain.model_diagnostics import ModelDiagnostics\n",
    "import matplotlib as mpl\n",
    "import matplotlib.pyplot as plt\n",
    "import matplotlib.image as imag\n",
    "import scipy.integrate as sin\n",
    "#import cartopy.crs as ccrs\n",
    "import matplotlib.ticker as mticker\n",
    "#from cartopy.mpl.gridliner import LONGITUDE_FORMATTER, LATITUDE_FORMATTER\n",
    "import pickle\n",
    "# import sklearn\n",
    "# from sklearn.linear_model import LinearRegression\n",
    "# from scipy import stats\n",
    "\n",
    "# Otherwise tensorflow will use ALL your GPU RAM for no reason\n",
    "\n",
    "limit_mem()"
   ]
  },
  {
   "cell_type": "code",
   "execution_count": 2,
   "metadata": {},
   "outputs": [],
   "source": [
    "# path_folder = '/DFS-L/DATA/pritchard/liranp/CESM2_f19_v3_updated_NN_pelayout01_ens_07/run/'\n",
    "# path = 'CESM2_f19_v3_updated_NN_pelayout01_ens_07.cam.h1.2003-02-09-57600.nc'\n",
    "\n",
    "path_folder = '/scratch/07088/tg863871/CESM2_f19_v13_updated_NN_pelayout01_ens_07/run/'\n",
    "path = 'CESM2_f19_v13_updated_NN_pelayout01_ens_07.cam.h1.2003-03-02-57600.nc'"
   ]
  },
  {
   "cell_type": "code",
   "execution_count": 3,
   "metadata": {},
   "outputs": [],
   "source": [
    "data = xr.open_dataset(path_folder+path)"
   ]
  },
  {
   "cell_type": "code",
   "execution_count": 4,
   "metadata": {},
   "outputs": [
    {
     "data": {
      "text/html": [
       "<pre>&lt;xarray.Dataset&gt;\n",
       "Dimensions:          (ilev: 27, lat: 96, lev: 26, lon: 144, nbnd: 2, time: 16)\n",
       "Coordinates:\n",
       "  * lat              (lat) float64 -90.0 -88.11 -86.21 ... 86.21 88.11 90.0\n",
       "  * lon              (lon) float64 0.0 2.5 5.0 7.5 ... 350.0 352.5 355.0 357.5\n",
       "  * lev              (lev) float64 3.545 7.389 13.97 23.94 ... 929.6 970.6 992.6\n",
       "  * ilev             (ilev) float64 2.194 4.895 9.882 ... 956.0 985.1 1e+03\n",
       "  * time             (time) object 2003-03-02 16:00:00 ... 2003-03-02 23:30:00\n",
       "Dimensions without coordinates: nbnd\n",
       "Data variables:\n",
       "    gw               (lat) float64 ...\n",
       "    hyam             (lev) float64 ...\n",
       "    hybm             (lev) float64 ...\n",
       "    P0               float64 ...\n",
       "    hyai             (ilev) float64 ...\n",
       "    hybi             (ilev) float64 ...\n",
       "    date             (time) int32 ...\n",
       "    datesec          (time) int32 ...\n",
       "    time_bnds        (time, nbnd) object ...\n",
       "    date_written     (time) |S8 ...\n",
       "    time_written     (time) |S8 ...\n",
       "    ndbase           int32 ...\n",
       "    nsbase           int32 ...\n",
       "    nbdate           int32 ...\n",
       "    nbsec            int32 ...\n",
       "    mdt              int32 ...\n",
       "    ndcur            (time) int32 ...\n",
       "    nscur            (time) int32 ...\n",
       "    co2vmr           (time) float64 ...\n",
       "    ch4vmr           (time) float64 ...\n",
       "    n2ovmr           (time) float64 ...\n",
       "    f11vmr           (time) float64 ...\n",
       "    f12vmr           (time) float64 ...\n",
       "    sol_tsi          (time) float64 ...\n",
       "    nsteph           (time) int32 ...\n",
       "    CLDICEAP         (time, lev, lat, lon) float32 ...\n",
       "    CLDICEBC         (time, lev, lat, lon) float32 ...\n",
       "    CLDICEBP         (time, lev, lat, lon) float32 ...\n",
       "    CLDLIQAP         (time, lev, lat, lon) float32 ...\n",
       "    CLDLIQBC         (time, lev, lat, lon) float32 ...\n",
       "    CLDLIQBP         (time, lev, lat, lon) float32 ...\n",
       "    CLOUD            (time, lev, lat, lon) float32 ...\n",
       "    FLDS             (time, lat, lon) float32 ...\n",
       "    FLNS             (time, lat, lon) float32 ...\n",
       "    FLNT             (time, lat, lon) float32 ...\n",
       "    FSDS             (time, lat, lon) float32 ...\n",
       "    FSNS             (time, lat, lon) float32 ...\n",
       "    FSNT             (time, lat, lon) float32 ...\n",
       "    LHFLX            (time, lat, lon) float32 ...\n",
       "    NN2L_BCPHIDRY    (time, lat, lon) float32 ...\n",
       "    NN2L_BCPHIWET    (time, lat, lon) float32 ...\n",
       "    NN2L_BCPHODRY    (time, lat, lon) float32 ...\n",
       "    NN2L_CO2DIAG     (time, lat, lon) float32 ...\n",
       "    NN2L_CO2PROG     (time, lat, lon) float32 ...\n",
       "    NN2L_DSTDRY1     (time, lat, lon) float32 ...\n",
       "    NN2L_DSTDRY2     (time, lat, lon) float32 ...\n",
       "    NN2L_DSTDRY3     (time, lat, lon) float32 ...\n",
       "    NN2L_DSTDRY4     (time, lat, lon) float32 ...\n",
       "    NN2L_DSTWET1     (time, lat, lon) float32 ...\n",
       "    NN2L_DSTWET2     (time, lat, lon) float32 ...\n",
       "    NN2L_DSTWET3     (time, lat, lon) float32 ...\n",
       "    NN2L_DSTWET4     (time, lat, lon) float32 ...\n",
       "    NN2L_FLWDS       (time, lat, lon) float32 ...\n",
       "    NN2L_NETSW       (time, lat, lon) float32 ...\n",
       "    NN2L_OCPHIDRY    (time, lat, lon) float32 ...\n",
       "    NN2L_OCPHIWET    (time, lat, lon) float32 ...\n",
       "    NN2L_OCPHODRY    (time, lat, lon) float32 ...\n",
       "    NN2L_PBOT        (time, lat, lon) float32 ...\n",
       "    NN2L_PRECC       (time, lat, lon) float32 ...\n",
       "    NN2L_PRECL       (time, lat, lon) float32 ...\n",
       "    NN2L_PRECSC      (time, lat, lon) float32 ...\n",
       "    NN2L_PRECSL      (time, lat, lon) float32 ...\n",
       "    NN2L_PSL         (time, lat, lon) float32 ...\n",
       "    NN2L_QBOT        (time, lat, lon) float32 ...\n",
       "    NN2L_RHO         (time, lat, lon) float32 ...\n",
       "    NN2L_SOLL        (time, lat, lon) float32 ...\n",
       "    NN2L_SOLLD       (time, lat, lon) float32 ...\n",
       "    NN2L_SOLS        (time, lat, lon) float32 ...\n",
       "    NN2L_SOLSD       (time, lat, lon) float32 ...\n",
       "    NN2L_TBOT        (time, lat, lon) float32 ...\n",
       "    NN2L_THBOT       (time, lat, lon) float32 ...\n",
       "    NN2L_UBOT        (time, lat, lon) float32 ...\n",
       "    NN2L_VBOT        (time, lat, lon) float32 ...\n",
       "    NN2L_ZBOT        (time, lat, lon) float32 ...\n",
       "    PRECC            (time, lat, lon) float32 ...\n",
       "    PRECT            (time, lat, lon) float32 ...\n",
       "    PS               (time, lat, lon) float32 ...\n",
       "    PTECLDICE        (time, lev, lat, lon) float32 ...\n",
       "    PTECLDLIQ        (time, lev, lat, lon) float32 ...\n",
       "    PTEQ             (time, lev, lat, lon) float32 ...\n",
       "    PTTEND           (time, lev, lat, lon) float32 ...\n",
       "    Q                (time, lev, lat, lon) float32 ...\n",
       "    QAP              (time, lev, lat, lon) float32 ...\n",
       "    QBC              (time, lev, lat, lon) float32 ...\n",
       "    QBP              (time, lev, lat, lon) float32 ...\n",
       "    QRL              (time, lev, lat, lon) float32 ...\n",
       "    QRLC             (time, lev, lat, lon) float32 ...\n",
       "    QRS              (time, lev, lat, lon) float32 ...\n",
       "    QRSC             (time, lev, lat, lon) float32 ...\n",
       "    RELHUM           (time, lev, lat, lon) float32 ...\n",
       "    SHFLX            (time, lat, lon) float32 ...\n",
       "    SOLIN            (time, lat, lon) float32 ...\n",
       "    SPICESTORAGE     (time, lat, lon) float32 ...\n",
       "    SPLIQICESTORAGE  (time, lat, lon) float32 ...\n",
       "    SPMC             (time, lev, lat, lon) float32 ...\n",
       "    SPMCDN           (time, lev, lat, lon) float32 ...\n",
       "    SPMCUP           (time, lev, lat, lon) float32 ...\n",
       "    SPQC             (time, lev, lat, lon) float32 ...\n",
       "    SPQI             (time, lev, lat, lon) float32 ...\n",
       "    SPQPFLX          (time, lev, lat, lon) float32 ...\n",
       "    SPQTFLX          (time, lev, lat, lon) float32 ...\n",
       "    SPQTFLXS         (time, lev, lat, lon) float32 ...\n",
       "    SPTKE            (time, lev, lat, lon) float32 ...\n",
       "    SPTKES           (time, lev, lat, lon) float32 ...\n",
       "    T                (time, lev, lat, lon) float32 ...\n",
       "    TBC              (time, lev, lat, lon) float32 ...\n",
       "    TBP              (time, lev, lat, lon) float32 ...\n",
       "    U10              (time, lat, lon) float32 ...\n",
       "    VAP              (time, lev, lat, lon) float32 ...\n",
       "Attributes:\n",
       "    Conventions:       CF-1.0\n",
       "    source:            CAM\n",
       "    case:              CESM2_f19_v13_updated_NN_pelayout01_ens_07\n",
       "    logname:           tg863871\n",
       "    host:              \n",
       "    initial_file:      /scratch/07088/tg863871/CESM_inputdata/atm/cam/inic/fv...\n",
       "    topography_file:   /scratch/07088/tg863871/CESM_inputdata/atm/cam/topo/fv...\n",
       "    model_doi_url:     https://doi.org/10.5065/D67H1H0V\n",
       "    time_period_freq:  minute_30</pre>"
      ],
      "text/plain": [
       "<xarray.Dataset>\n",
       "Dimensions:          (ilev: 27, lat: 96, lev: 26, lon: 144, nbnd: 2, time: 16)\n",
       "Coordinates:\n",
       "  * lat              (lat) float64 -90.0 -88.11 -86.21 ... 86.21 88.11 90.0\n",
       "  * lon              (lon) float64 0.0 2.5 5.0 7.5 ... 350.0 352.5 355.0 357.5\n",
       "  * lev              (lev) float64 3.545 7.389 13.97 23.94 ... 929.6 970.6 992.6\n",
       "  * ilev             (ilev) float64 2.194 4.895 9.882 ... 956.0 985.1 1e+03\n",
       "  * time             (time) object 2003-03-02 16:00:00 ... 2003-03-02 23:30:00\n",
       "Dimensions without coordinates: nbnd\n",
       "Data variables:\n",
       "    gw               (lat) float64 ...\n",
       "    hyam             (lev) float64 ...\n",
       "    hybm             (lev) float64 ...\n",
       "    P0               float64 ...\n",
       "    hyai             (ilev) float64 ...\n",
       "    hybi             (ilev) float64 ...\n",
       "    date             (time) int32 ...\n",
       "    datesec          (time) int32 ...\n",
       "    time_bnds        (time, nbnd) object ...\n",
       "    date_written     (time) |S8 ...\n",
       "    time_written     (time) |S8 ...\n",
       "    ndbase           int32 ...\n",
       "    nsbase           int32 ...\n",
       "    nbdate           int32 ...\n",
       "    nbsec            int32 ...\n",
       "    mdt              int32 ...\n",
       "    ndcur            (time) int32 ...\n",
       "    nscur            (time) int32 ...\n",
       "    co2vmr           (time) float64 ...\n",
       "    ch4vmr           (time) float64 ...\n",
       "    n2ovmr           (time) float64 ...\n",
       "    f11vmr           (time) float64 ...\n",
       "    f12vmr           (time) float64 ...\n",
       "    sol_tsi          (time) float64 ...\n",
       "    nsteph           (time) int32 ...\n",
       "    CLDICEAP         (time, lev, lat, lon) float32 ...\n",
       "    CLDICEBC         (time, lev, lat, lon) float32 ...\n",
       "    CLDICEBP         (time, lev, lat, lon) float32 ...\n",
       "    CLDLIQAP         (time, lev, lat, lon) float32 ...\n",
       "    CLDLIQBC         (time, lev, lat, lon) float32 ...\n",
       "    CLDLIQBP         (time, lev, lat, lon) float32 ...\n",
       "    CLOUD            (time, lev, lat, lon) float32 ...\n",
       "    FLDS             (time, lat, lon) float32 ...\n",
       "    FLNS             (time, lat, lon) float32 ...\n",
       "    FLNT             (time, lat, lon) float32 ...\n",
       "    FSDS             (time, lat, lon) float32 ...\n",
       "    FSNS             (time, lat, lon) float32 ...\n",
       "    FSNT             (time, lat, lon) float32 ...\n",
       "    LHFLX            (time, lat, lon) float32 ...\n",
       "    NN2L_BCPHIDRY    (time, lat, lon) float32 ...\n",
       "    NN2L_BCPHIWET    (time, lat, lon) float32 ...\n",
       "    NN2L_BCPHODRY    (time, lat, lon) float32 ...\n",
       "    NN2L_CO2DIAG     (time, lat, lon) float32 ...\n",
       "    NN2L_CO2PROG     (time, lat, lon) float32 ...\n",
       "    NN2L_DSTDRY1     (time, lat, lon) float32 ...\n",
       "    NN2L_DSTDRY2     (time, lat, lon) float32 ...\n",
       "    NN2L_DSTDRY3     (time, lat, lon) float32 ...\n",
       "    NN2L_DSTDRY4     (time, lat, lon) float32 ...\n",
       "    NN2L_DSTWET1     (time, lat, lon) float32 ...\n",
       "    NN2L_DSTWET2     (time, lat, lon) float32 ...\n",
       "    NN2L_DSTWET3     (time, lat, lon) float32 ...\n",
       "    NN2L_DSTWET4     (time, lat, lon) float32 ...\n",
       "    NN2L_FLWDS       (time, lat, lon) float32 ...\n",
       "    NN2L_NETSW       (time, lat, lon) float32 ...\n",
       "    NN2L_OCPHIDRY    (time, lat, lon) float32 ...\n",
       "    NN2L_OCPHIWET    (time, lat, lon) float32 ...\n",
       "    NN2L_OCPHODRY    (time, lat, lon) float32 ...\n",
       "    NN2L_PBOT        (time, lat, lon) float32 ...\n",
       "    NN2L_PRECC       (time, lat, lon) float32 ...\n",
       "    NN2L_PRECL       (time, lat, lon) float32 ...\n",
       "    NN2L_PRECSC      (time, lat, lon) float32 ...\n",
       "    NN2L_PRECSL      (time, lat, lon) float32 ...\n",
       "    NN2L_PSL         (time, lat, lon) float32 ...\n",
       "    NN2L_QBOT        (time, lat, lon) float32 ...\n",
       "    NN2L_RHO         (time, lat, lon) float32 ...\n",
       "    NN2L_SOLL        (time, lat, lon) float32 ...\n",
       "    NN2L_SOLLD       (time, lat, lon) float32 ...\n",
       "    NN2L_SOLS        (time, lat, lon) float32 ...\n",
       "    NN2L_SOLSD       (time, lat, lon) float32 ...\n",
       "    NN2L_TBOT        (time, lat, lon) float32 ...\n",
       "    NN2L_THBOT       (time, lat, lon) float32 ...\n",
       "    NN2L_UBOT        (time, lat, lon) float32 ...\n",
       "    NN2L_VBOT        (time, lat, lon) float32 ...\n",
       "    NN2L_ZBOT        (time, lat, lon) float32 ...\n",
       "    PRECC            (time, lat, lon) float32 ...\n",
       "    PRECT            (time, lat, lon) float32 ...\n",
       "    PS               (time, lat, lon) float32 ...\n",
       "    PTECLDICE        (time, lev, lat, lon) float32 ...\n",
       "    PTECLDLIQ        (time, lev, lat, lon) float32 ...\n",
       "    PTEQ             (time, lev, lat, lon) float32 ...\n",
       "    PTTEND           (time, lev, lat, lon) float32 ...\n",
       "    Q                (time, lev, lat, lon) float32 ...\n",
       "    QAP              (time, lev, lat, lon) float32 ...\n",
       "    QBC              (time, lev, lat, lon) float32 ...\n",
       "    QBP              (time, lev, lat, lon) float32 ...\n",
       "    QRL              (time, lev, lat, lon) float32 ...\n",
       "    QRLC             (time, lev, lat, lon) float32 ...\n",
       "    QRS              (time, lev, lat, lon) float32 ...\n",
       "    QRSC             (time, lev, lat, lon) float32 ...\n",
       "    RELHUM           (time, lev, lat, lon) float32 ...\n",
       "    SHFLX            (time, lat, lon) float32 ...\n",
       "    SOLIN            (time, lat, lon) float32 ...\n",
       "    SPICESTORAGE     (time, lat, lon) float32 ...\n",
       "    SPLIQICESTORAGE  (time, lat, lon) float32 ...\n",
       "    SPMC             (time, lev, lat, lon) float32 ...\n",
       "    SPMCDN           (time, lev, lat, lon) float32 ...\n",
       "    SPMCUP           (time, lev, lat, lon) float32 ...\n",
       "    SPQC             (time, lev, lat, lon) float32 ...\n",
       "    SPQI             (time, lev, lat, lon) float32 ...\n",
       "    SPQPFLX          (time, lev, lat, lon) float32 ...\n",
       "    SPQTFLX          (time, lev, lat, lon) float32 ...\n",
       "    SPQTFLXS         (time, lev, lat, lon) float32 ...\n",
       "    SPTKE            (time, lev, lat, lon) float32 ...\n",
       "    SPTKES           (time, lev, lat, lon) float32 ...\n",
       "    T                (time, lev, lat, lon) float32 ...\n",
       "    TBC              (time, lev, lat, lon) float32 ...\n",
       "    TBP              (time, lev, lat, lon) float32 ...\n",
       "    U10              (time, lat, lon) float32 ...\n",
       "    VAP              (time, lev, lat, lon) float32 ...\n",
       "Attributes:\n",
       "    Conventions:       CF-1.0\n",
       "    source:            CAM\n",
       "    case:              CESM2_f19_v13_updated_NN_pelayout01_ens_07\n",
       "    logname:           tg863871\n",
       "    host:              \n",
       "    initial_file:      /scratch/07088/tg863871/CESM_inputdata/atm/cam/inic/fv...\n",
       "    topography_file:   /scratch/07088/tg863871/CESM_inputdata/atm/cam/topo/fv...\n",
       "    model_doi_url:     https://doi.org/10.5065/D67H1H0V\n",
       "    time_period_freq:  minute_30"
      ]
     },
     "execution_count": 4,
     "metadata": {},
     "output_type": "execute_result"
    }
   ],
   "source": [
    "data"
   ]
  },
  {
   "cell_type": "markdown",
   "metadata": {},
   "source": [
    "# List inputs"
   ]
  },
  {
   "cell_type": "markdown",
   "metadata": {},
   "source": [
    "```\n",
    "Inputs = (TBP,QBP,CLDLIQBP,CLDICEBP,PS,SOLIN,SHFLX[t-1],LHFLX[t-1])\n",
    "```"
   ]
  },
  {
   "cell_type": "markdown",
   "metadata": {},
   "source": [
    "## TBP = Direclty in the dataset"
   ]
  },
  {
   "cell_type": "code",
   "execution_count": 6,
   "metadata": {},
   "outputs": [
    {
     "data": {
      "image/png": "[encoded data removed]",
      "text/plain": [
       "<Figure size 432x288 with 1 Axes>"
      ]
     },
     "metadata": {
      "needs_background": "light"
     },
     "output_type": "display_data"
    }
   ],
   "source": [
    "plt.hist(data.TBP.values.flatten(),bins=100);"
   ]
  },
  {
   "cell_type": "code",
   "execution_count": 6,
   "metadata": {},
   "outputs": [
    {
     "data": {
      "image/png": "[encoded data removed]",
      "text/plain": [
       "<Figure size 432x288 with 1 Axes>"
      ]
     },
     "metadata": {
      "needs_background": "light"
     },
     "output_type": "display_data"
    }
   ],
   "source": [
    "plt.hist(data.TBP[:,-1,:,:].values.flatten(),bins=100);"
   ]
  },
  {
   "cell_type": "markdown",
   "metadata": {},
   "source": [
    "## QBP = Directly in the dataset"
   ]
  },
  {
   "cell_type": "code",
   "execution_count": 7,
   "metadata": {},
   "outputs": [
    {
     "data": {
      "image/png": "[encoded data removed]",
      "text/plain": [
       "<Figure size 432x288 with 1 Axes>"
      ]
     },
     "metadata": {
      "needs_background": "light"
     },
     "output_type": "display_data"
    }
   ],
   "source": [
    "plt.hist(data.QBP.values.flatten(),bins=100);"
   ]
  },
  {
   "cell_type": "code",
   "execution_count": 8,
   "metadata": {},
   "outputs": [
    {
     "data": {
      "image/png": "[encoded data removed]",
      "text/plain": [
       "<Figure size 432x288 with 1 Axes>"
      ]
     },
     "metadata": {
      "needs_background": "light"
     },
     "output_type": "display_data"
    }
   ],
   "source": [
    "plt.hist(data.QBP[:,-1,:,:].values.flatten(),bins=100);"
   ]
  },
  {
   "cell_type": "markdown",
   "metadata": {},
   "source": [
    "Note that we also have RH just in case it could be a better input than QBP"
   ]
  },
  {
   "cell_type": "code",
   "execution_count": 13,
   "metadata": {},
   "outputs": [
    {
     "data": {
      "image/png": "[encoded data removed]",
      "text/plain": [
       "<Figure size 432x288 with 1 Axes>"
      ]
     },
     "metadata": {
      "needs_background": "light"
     },
     "output_type": "display_data"
    }
   ],
   "source": [
    "plt.hist(data.RELHUM[:,-1,:,:].values.flatten(),bins=100);"
   ]
  },
  {
   "cell_type": "markdown",
   "metadata": {},
   "source": [
    "## CLDLIQBP = Directly in the dataset"
   ]
  },
  {
   "cell_type": "code",
   "execution_count": 7,
   "metadata": {},
   "outputs": [
    {
     "data": {
      "image/png": "[encoded data removed]",
      "text/plain": [
       "<Figure size 432x288 with 1 Axes>"
      ]
     },
     "metadata": {
      "needs_background": "light"
     },
     "output_type": "display_data"
    }
   ],
   "source": [
    "plt.hist(data.CLDLIQBP.values.flatten(),bins=100);"
   ]
  },
  {
   "cell_type": "markdown",
   "metadata": {},
   "source": [
    "## CLDICEBP = Directly in the dataset"
   ]
  },
  {
   "cell_type": "code",
   "execution_count": 8,
   "metadata": {},
   "outputs": [
    {
     "data": {
      "image/png": "[encoded data removed]",
      "text/plain": [
       "<Figure size 432x288 with 1 Axes>"
      ]
     },
     "metadata": {
      "needs_background": "light"
     },
     "output_type": "display_data"
    }
   ],
   "source": [
    "plt.hist(data.CLDICEBP.values.flatten(),bins=100);"
   ]
  },
  {
   "cell_type": "markdown",
   "metadata": {},
   "source": [
    "## PS = Directly in the dataset"
   ]
  },
  {
   "cell_type": "code",
   "execution_count": 9,
   "metadata": {},
   "outputs": [
    {
     "data": {
      "image/png": "[encoded data removed]",
      "text/plain": [
       "<Figure size 432x288 with 1 Axes>"
      ]
     },
     "metadata": {
      "needs_background": "light"
     },
     "output_type": "display_data"
    }
   ],
   "source": [
    "plt.hist(data.PS.values.flatten(),bins=100);"
   ]
  },
  {
   "cell_type": "markdown",
   "metadata": {},
   "source": [
    "## SOLIN = Directly in the dataset"
   ]
  },
  {
   "cell_type": "code",
   "execution_count": 10,
   "metadata": {},
   "outputs": [
    {
     "data": {
      "image/png": "[encoded data removed]",
      "text/plain": [
       "<Figure size 432x288 with 1 Axes>"
      ]
     },
     "metadata": {
      "needs_background": "light"
     },
     "output_type": "display_data"
    }
   ],
   "source": [
    "plt.hist(data.SOLIN.values.flatten(),bins=100);"
   ]
  },
  {
   "cell_type": "markdown",
   "metadata": {},
   "source": [
    "## SHFLX, LHFLX = Directly in the dataset  \n",
    "Be careful about timestep and pre-process it similarly to what is done in the CBRAIN repository"
   ]
  },
  {
   "cell_type": "code",
   "execution_count": 12,
   "metadata": {},
   "outputs": [
    {
     "data": {
      "image/png": "[encoded data removed]",
      "text/plain": [
       "<Figure size 432x288 with 1 Axes>"
      ]
     },
     "metadata": {
      "needs_background": "light"
     },
     "output_type": "display_data"
    }
   ],
   "source": [
    "plt.hist(data.LHFLX.values.flatten(),bins=100);"
   ]
  },
  {
   "cell_type": "code",
   "execution_count": 11,
   "metadata": {},
   "outputs": [
    {
     "data": {
      "image/png": "[encoded data removed]",
      "text/plain": [
       "<Figure size 432x288 with 1 Axes>"
      ]
     },
     "metadata": {
      "needs_background": "light"
     },
     "output_type": "display_data"
    }
   ],
   "source": [
    "plt.hist(data.SHFLX.values.flatten(),bins=100);"
   ]
  },
  {
   "cell_type": "markdown",
   "metadata": {},
   "source": [
    "# List outputs"
   ]
  },
  {
   "cell_type": "markdown",
   "metadata": {},
   "source": [
    "```\n",
    "Outputs = (TBCTEND=(TCP-TBP)/DT,QBCTEND=(QCP-QBP)/DT,CLDLIQBCTEND=(CLDLIQCP-CLDLIQBP)/DT,CLDICEBCTEND=(CLDICECP-CLDICEBP)/DT,NN2L_FLWDS,NN2L_NETSW(misleading name as it's downwelling shortwave),NN2L_PRECC,NN2L_PRECL,NN2L_PRECSC,NN2L_PRECSL,NN2L_SOLL,NN2L_SOLLD,NN2L_SOLS,NN2L_SOLSD)\n",
    "```"
   ]
  },
  {
   "cell_type": "markdown",
   "metadata": {},
   "source": [
    "## Remake scale_dict in the process"
   ]
  },
  {
   "cell_type": "code",
   "execution_count": 14,
   "metadata": {},
   "outputs": [],
   "source": [
    "scale_dict1 = load_pickle('/home1/05823/tg851228/SPCAM/CBRAIN-CAM/nn_config/scale_dicts/001_toms_scaling.pkl')"
   ]
  },
  {
   "cell_type": "code",
   "execution_count": 16,
   "metadata": {},
   "outputs": [],
   "source": [
    "scale_dict_RH = scale_dict1"
   ]
  },
  {
   "cell_type": "markdown",
   "metadata": {},
   "source": [
    "## Recalculate dP for this dataset"
   ]
  },
  {
   "cell_type": "code",
   "execution_count": 22,
   "metadata": {},
   "outputs": [],
   "source": [
    "P = data.P0.values*data.hyai.values+np.mean(data.PS.values.flatten())*data.hybi.values"
   ]
  },
  {
   "cell_type": "code",
   "execution_count": 23,
   "metadata": {},
   "outputs": [],
   "source": [
    "dP = P[1:]-P[:-1]"
   ]
  },
  {
   "cell_type": "code",
   "execution_count": 25,
   "metadata": {},
   "outputs": [
    {
     "data": {
      "text/plain": [
       "array([ 270.1142    ,  498.7209    ,  816.9592    , 1178.523     ,\n",
       "       1478.61      , 1698.253     , 1690.656     , 1331.95427397,\n",
       "       1566.97695484, 1843.46566368, 2168.74308628, 2551.41513248,\n",
       "       3001.60138963, 3531.23832042, 4154.31436172, 4887.33212915,\n",
       "       5749.6949198 , 6764.21549835, 7957.75620907, 9361.88773322,\n",
       "       9150.57864478, 8329.981002  , 6949.38516288, 5066.6532039 ,\n",
       "       2799.28299743, 1435.98344138])"
      ]
     },
     "execution_count": 25,
     "metadata": {},
     "output_type": "execute_result"
    }
   ],
   "source": [
    "dP # in Pa"
   ]
  },
  {
   "cell_type": "markdown",
   "metadata": {},
   "source": [
    "## TBCTEND = Calculate from TBC, TBP and DT"
   ]
  },
  {
   "cell_type": "code",
   "execution_count": 17,
   "metadata": {},
   "outputs": [],
   "source": [
    "TBCTEND = (data.TBC-data.TBP)/DT"
   ]
  },
  {
   "cell_type": "code",
   "execution_count": 19,
   "metadata": {},
   "outputs": [
    {
     "data": {
      "image/png": "[encoded data removed]",
      "text/plain": [
       "<Figure size 432x288 with 1 Axes>"
      ]
     },
     "metadata": {
      "needs_background": "light"
     },
     "output_type": "display_data"
    }
   ],
   "source": [
    "plt.hist(TBCTEND.values.flatten(),bins=100);"
   ]
  },
  {
   "cell_type": "code",
   "execution_count": 30,
   "metadata": {},
   "outputs": [],
   "source": [
    "scale_dict_RH['TBCTEND'] = np.float32(C_P*dP/G)"
   ]
  },
  {
   "cell_type": "code",
   "execution_count": 31,
   "metadata": {},
   "outputs": [
    {
     "data": {
      "text/plain": [
       "array([ 27673.17 ,  51093.902,  83697.38 , 120739.55 , 151483.44 ,\n",
       "       173985.83 , 173207.52 , 136458.56 , 160536.61 , 188862.86 ,\n",
       "       222187.48 , 261392.2  , 307513.72 , 361774.97 , 425609.03 ,\n",
       "       500706.62 , 589055.6  , 692993.1  , 815271.25 , 959124.4  ,\n",
       "       937475.75 , 853405.6  , 711963.75 , 519078.06 , 286786.22 ,\n",
       "       147116.34 ], dtype=float32)"
      ]
     },
     "execution_count": 31,
     "metadata": {},
     "output_type": "execute_result"
    }
   ],
   "source": [
    "scale_dict_RH['TBCTEND']"
   ]
  },
  {
   "cell_type": "code",
   "execution_count": 49,
   "metadata": {},
   "outputs": [
    {
     "data": {
      "text/plain": [
       "(-200, 200)"
      ]
     },
     "execution_count": 49,
     "metadata": {},
     "output_type": "execute_result"
    },
    {
     "data": {
      "image/png": "[encoded data removed]",
      "text/plain": [
       "<Figure size 432x288 with 1 Axes>"
      ]
     },
     "metadata": {
      "needs_background": "light"
     },
     "output_type": "display_data"
    }
   ],
   "source": [
    "plt.hist((np.moveaxis(np.tile(scale_dict_RH['TBCTEND'],(16,96,144,1)),-1,1)*\\\n",
    "          TBCTEND_values).flatten(),bins=100);\n",
    "plt.xlim((-200,200))"
   ]
  },
  {
   "cell_type": "markdown",
   "metadata": {},
   "source": [
    "## QBCTEND = Calculate from QBC, QBP, and DT"
   ]
  },
  {
   "cell_type": "code",
   "execution_count": 34,
   "metadata": {},
   "outputs": [],
   "source": [
    "QBCTEND = (data.QBC-data.QBP)/DT"
   ]
  },
  {
   "cell_type": "code",
   "execution_count": 35,
   "metadata": {},
   "outputs": [
    {
     "data": {
      "image/png": "[encoded data removed]",
      "text/plain": [
       "<Figure size 432x288 with 1 Axes>"
      ]
     },
     "metadata": {
      "needs_background": "light"
     },
     "output_type": "display_data"
    }
   ],
   "source": [
    "plt.hist(QBCTEND.values.flatten(),bins=100);"
   ]
  },
  {
   "cell_type": "code",
   "execution_count": 50,
   "metadata": {},
   "outputs": [],
   "source": [
    "scale_dict_RH['QBCTEND'] = np.float32(L_V*dP/G)"
   ]
  },
  {
   "cell_type": "code",
   "execution_count": 52,
   "metadata": {},
   "outputs": [
    {
     "data": {
      "text/plain": [
       "(-200, 200)"
      ]
     },
     "execution_count": 52,
     "metadata": {},
     "output_type": "execute_result"
    },
    {
     "data": {
      "image/png": "[encoded data removed]",
      "text/plain": [
       "<Figure size 432x288 with 1 Axes>"
      ]
     },
     "metadata": {
      "needs_background": "light"
     },
     "output_type": "display_data"
    }
   ],
   "source": [
    "plt.hist((np.moveaxis(np.tile(scale_dict_RH['QBCTEND'],(16,96,144,1)),-1,1)*\\\n",
    "          QBCTEND.values).flatten(),bins=100);\n",
    "plt.xlim((-200,200))"
   ]
  },
  {
   "cell_type": "markdown",
   "metadata": {},
   "source": [
    "For that one, it may be strategic to constrain the output so that the final result (QBC) is positive, which means that you would be adding a ReLU after your prediction"
   ]
  },
  {
   "attachments": {
    "image.png": {
     "image/png": "[encoded data removed]"
    }
   },
   "cell_type": "markdown",
   "metadata": {},
   "source": [
    "![image.png](attachment:image.png)"
   ]
  },
  {
   "cell_type": "markdown",
   "metadata": {},
   "source": [
    "i.e. the *physical constraint* is  \n",
    "1) Predict QBCTEND   \n",
    "2) Take ReLU(QBCTEND+QBP/DT) - QBP/DT"
   ]
  },
  {
   "cell_type": "markdown",
   "metadata": {},
   "source": [
    "## CLDLIQBCTEND = (CLDLIQBC-CLDLIQBP)/DT"
   ]
  },
  {
   "cell_type": "code",
   "execution_count": 53,
   "metadata": {},
   "outputs": [],
   "source": [
    "CLDLIQBCTEND = (data.CLDLIQBC-data.CLDLIQBP)/DT"
   ]
  },
  {
   "cell_type": "code",
   "execution_count": 54,
   "metadata": {},
   "outputs": [
    {
     "data": {
      "image/png": "[encoded data removed]",
      "text/plain": [
       "<Figure size 432x288 with 1 Axes>"
      ]
     },
     "metadata": {
      "needs_background": "light"
     },
     "output_type": "display_data"
    }
   ],
   "source": [
    "plt.hist(CLDLIQBCTEND.values.flatten(),bins=100);"
   ]
  },
  {
   "cell_type": "code",
   "execution_count": 55,
   "metadata": {},
   "outputs": [],
   "source": [
    "scale_dict_RH['CLDLIQBCTEND'] = np.float32(L_V*dP/G)"
   ]
  },
  {
   "cell_type": "code",
   "execution_count": 56,
   "metadata": {},
   "outputs": [
    {
     "data": {
      "text/plain": [
       "(-200, 200)"
      ]
     },
     "execution_count": 56,
     "metadata": {},
     "output_type": "execute_result"
    },
    {
     "data": {
      "image/png": "[encoded data removed]",
      "text/plain": [
       "<Figure size 432x288 with 1 Axes>"
      ]
     },
     "metadata": {
      "needs_background": "light"
     },
     "output_type": "display_data"
    }
   ],
   "source": [
    "plt.hist((np.moveaxis(np.tile(scale_dict_RH['CLDLIQBCTEND'],(16,96,144,1)),-1,1)*\\\n",
    "          CLDLIQBCTEND.values).flatten(),bins=100);\n",
    "plt.xlim((-200,200))"
   ]
  },
  {
   "cell_type": "markdown",
   "metadata": {},
   "source": [
    "i.e. the *physical constraint* is  \n",
    "1) Predict CLDLIQBCTEND   \n",
    "2) Take ReLU(CLDLIQBCTEND+CLDLIQBP/DT) - CLDLIQBP/DT"
   ]
  },
  {
   "cell_type": "markdown",
   "metadata": {},
   "source": [
    "## CLDICETEND = (CLDICEBC-CLDICEBP)/DT"
   ]
  },
  {
   "cell_type": "code",
   "execution_count": 57,
   "metadata": {},
   "outputs": [],
   "source": [
    "CLDICEBCTEND = (data.CLDICEBC-data.CLDICEBP)/DT"
   ]
  },
  {
   "cell_type": "code",
   "execution_count": 58,
   "metadata": {},
   "outputs": [
    {
     "data": {
      "image/png": "[encoded data removed]",
      "text/plain": [
       "<Figure size 432x288 with 1 Axes>"
      ]
     },
     "metadata": {
      "needs_background": "light"
     },
     "output_type": "display_data"
    }
   ],
   "source": [
    "plt.hist(CLDICEBCTEND.values.flatten(),bins=100);"
   ]
  },
  {
   "cell_type": "code",
   "execution_count": 59,
   "metadata": {},
   "outputs": [],
   "source": [
    "scale_dict_RH['CLDICEBCTEND'] = np.float32(L_V*dP/G)"
   ]
  },
  {
   "cell_type": "code",
   "execution_count": 60,
   "metadata": {},
   "outputs": [
    {
     "data": {
      "text/plain": [
       "(-200, 200)"
      ]
     },
     "execution_count": 60,
     "metadata": {},
     "output_type": "execute_result"
    },
    {
     "data": {
      "image/png": "[encoded data removed]",
      "text/plain": [
       "<Figure size 432x288 with 1 Axes>"
      ]
     },
     "metadata": {
      "needs_background": "light"
     },
     "output_type": "display_data"
    }
   ],
   "source": [
    "plt.hist((np.moveaxis(np.tile(scale_dict_RH['CLDICEBCTEND'],(16,96,144,1)),-1,1)*\\\n",
    "          CLDICEBCTEND.values).flatten(),bins=100);\n",
    "plt.xlim((-200,200))"
   ]
  },
  {
   "cell_type": "markdown",
   "metadata": {},
   "source": [
    "i.e. the *physical constraint* is  \n",
    "1) Predict CLDICEBCTEND   \n",
    "2) Take ReLU(CLDICEBCTEND+CLDICEBP/DT) - CLDICEBP/DT"
   ]
  },
  {
   "cell_type": "markdown",
   "metadata": {},
   "source": [
    "## NN2L_FLWDS"
   ]
  },
  {
   "cell_type": "code",
   "execution_count": 64,
   "metadata": {},
   "outputs": [
    {
     "data": {
      "image/png": "[encoded data removed]",
      "text/plain": [
       "<Figure size 432x288 with 1 Axes>"
      ]
     },
     "metadata": {
      "needs_background": "light"
     },
     "output_type": "display_data"
    }
   ],
   "source": [
    "plt.hist(data.NN2L_FLWDS.values.flatten(),bins=100);"
   ]
  },
  {
   "cell_type": "code",
   "execution_count": 65,
   "metadata": {},
   "outputs": [],
   "source": [
    "scale_dict_RH['NN2L_FLWDS'] = 1."
   ]
  },
  {
   "cell_type": "markdown",
   "metadata": {},
   "source": [
    "i.e. the *physical constraint* is  \n",
    "1) Predict NN2L_FLWDS\n",
    "2) Take ReLU(NN2L_FLWDS)"
   ]
  },
  {
   "cell_type": "markdown",
   "metadata": {},
   "source": [
    "## NN2L_NETSW"
   ]
  },
  {
   "cell_type": "code",
   "execution_count": 66,
   "metadata": {},
   "outputs": [
    {
     "data": {
      "image/png": "[encoded data removed]",
      "text/plain": [
       "<Figure size 432x288 with 1 Axes>"
      ]
     },
     "metadata": {
      "needs_background": "light"
     },
     "output_type": "display_data"
    }
   ],
   "source": [
    "plt.hist(data.NN2L_NETSW.values.flatten(),bins=100);"
   ]
  },
  {
   "cell_type": "code",
   "execution_count": 67,
   "metadata": {},
   "outputs": [],
   "source": [
    "scale_dict_RH['NN2L_NETSW'] = 1."
   ]
  },
  {
   "cell_type": "markdown",
   "metadata": {},
   "source": [
    "the *physical constraint* is  \n",
    "1) Predict NN2L_NETSW\n",
    "2) Take ReLU(NN2L_NETSW)"
   ]
  },
  {
   "cell_type": "markdown",
   "metadata": {},
   "source": [
    "## NN2L_PRECC"
   ]
  },
  {
   "cell_type": "code",
   "execution_count": 85,
   "metadata": {},
   "outputs": [
    {
     "data": {
      "image/png": "[encoded data removed]",
      "text/plain": [
       "<Figure size 432x288 with 1 Axes>"
      ]
     },
     "metadata": {
      "needs_background": "light"
     },
     "output_type": "display_data"
    }
   ],
   "source": [
    "plt.hist(data.NN2L_PRECC.values.flatten(),bins=100);"
   ]
  },
  {
   "cell_type": "code",
   "execution_count": 87,
   "metadata": {},
   "outputs": [],
   "source": [
    "scale_dict_RH['NN2L_PRECC'] = scale_dict1['PRECT']"
   ]
  },
  {
   "cell_type": "code",
   "execution_count": 88,
   "metadata": {},
   "outputs": [
    {
     "data": {
      "text/plain": [
       "(-200, 200)"
      ]
     },
     "execution_count": 88,
     "metadata": {},
     "output_type": "execute_result"
    },
    {
     "data": {
      "image/png": "[encoded data removed]",
      "text/plain": [
       "<Figure size 432x288 with 1 Axes>"
      ]
     },
     "metadata": {
      "needs_background": "light"
     },
     "output_type": "display_data"
    }
   ],
   "source": [
    "plt.hist((np.moveaxis(np.tile(scale_dict_RH['NN2L_PRECC'],(16,96,144,1)),-1,1)*\\\n",
    "          data.NN2L_PRECC.values).flatten(),bins=100);\n",
    "plt.xlim((-200,200))"
   ]
  },
  {
   "cell_type": "markdown",
   "metadata": {},
   "source": [
    "the *physical constraint* is  \n",
    "1) Predict PRECC    \n",
    "2) Take ReLU(PRECC)  "
   ]
  },
  {
   "cell_type": "markdown",
   "metadata": {},
   "source": [
    "## NN_PRECL (CANCELLED OUTPUT BECAUSE ALWAYS ZERO)"
   ]
  },
  {
   "cell_type": "code",
   "execution_count": 89,
   "metadata": {},
   "outputs": [
    {
     "data": {
      "image/png": "[encoded data removed]",
      "text/plain": [
       "<Figure size 432x288 with 1 Axes>"
      ]
     },
     "metadata": {
      "needs_background": "light"
     },
     "output_type": "display_data"
    }
   ],
   "source": [
    "plt.hist(data.NN2L_PRECL.values.flatten(),bins=100);"
   ]
  },
  {
   "cell_type": "code",
   "execution_count": 90,
   "metadata": {},
   "outputs": [],
   "source": [
    "scale_dict_RH['NN2L_PRECL'] = scale_dict1['PRECT']"
   ]
  },
  {
   "cell_type": "code",
   "execution_count": 96,
   "metadata": {},
   "outputs": [
    {
     "data": {
      "text/plain": [
       "2501000000.0"
      ]
     },
     "execution_count": 96,
     "metadata": {},
     "output_type": "execute_result"
    }
   ],
   "source": [
    "scale_dict_RH['NN2L_PRECL']"
   ]
  },
  {
   "cell_type": "code",
   "execution_count": 91,
   "metadata": {},
   "outputs": [
    {
     "data": {
      "text/plain": [
       "(-200, 200)"
      ]
     },
     "execution_count": 91,
     "metadata": {},
     "output_type": "execute_result"
    },
    {
     "data": {
      "image/png": "[encoded data removed]",
      "text/plain": [
       "<Figure size 432x288 with 1 Axes>"
      ]
     },
     "metadata": {
      "needs_background": "light"
     },
     "output_type": "display_data"
    }
   ],
   "source": [
    "plt.hist((np.moveaxis(np.tile(scale_dict_RH['NN2L_PRECL'],(16,96,144,1)),-1,1)*\\\n",
    "          data.NN2L_PRECL.values).flatten(),bins=100);\n",
    "plt.xlim((-200,200))"
   ]
  },
  {
   "cell_type": "markdown",
   "metadata": {},
   "source": [
    "the *physical constraint* is  \n",
    "1) Predict NN2L_PRECL   \n",
    "2) Take ReLU(NN2L_PRECL)  "
   ]
  },
  {
   "cell_type": "markdown",
   "metadata": {},
   "source": [
    "## NN2L_PRECSC"
   ]
  },
  {
   "cell_type": "code",
   "execution_count": 92,
   "metadata": {},
   "outputs": [
    {
     "data": {
      "image/png": "[encoded data removed]",
      "text/plain": [
       "<Figure size 432x288 with 1 Axes>"
      ]
     },
     "metadata": {
      "needs_background": "light"
     },
     "output_type": "display_data"
    }
   ],
   "source": [
    "plt.hist(data.NN2L_PRECSC.values.flatten(),bins=100);"
   ]
  },
  {
   "cell_type": "code",
   "execution_count": 93,
   "metadata": {},
   "outputs": [],
   "source": [
    "scale_dict_RH['NN2L_PRECSC'] = scale_dict1['PRECT']"
   ]
  },
  {
   "cell_type": "code",
   "execution_count": 94,
   "metadata": {},
   "outputs": [
    {
     "data": {
      "text/plain": [
       "(-200, 200)"
      ]
     },
     "execution_count": 94,
     "metadata": {},
     "output_type": "execute_result"
    },
    {
     "data": {
      "image/png": "[encoded data removed]",
      "text/plain": [
       "<Figure size 432x288 with 1 Axes>"
      ]
     },
     "metadata": {
      "needs_background": "light"
     },
     "output_type": "display_data"
    }
   ],
   "source": [
    "plt.hist((np.moveaxis(np.tile(scale_dict_RH['NN2L_PRECSC'],(16,96,144,1)),-1,1)*\\\n",
    "          data.NN2L_PRECSC.values).flatten(),bins=100);\n",
    "plt.xlim((-200,200))"
   ]
  },
  {
   "cell_type": "markdown",
   "metadata": {},
   "source": [
    "the *physical constraint* is  \n",
    "1) Predict NN2L_PRECSC   \n",
    "2) Take ReLU(NN2L_PRECSC)  "
   ]
  },
  {
   "cell_type": "markdown",
   "metadata": {},
   "source": [
    "## NN2L_PRECSL  (CANCELLED OUTPUT BECAUSE ALWAYS ZERO)"
   ]
  },
  {
   "cell_type": "code",
   "execution_count": 95,
   "metadata": {},
   "outputs": [
    {
     "data": {
      "image/png": "[encoded data removed]",
      "text/plain": [
       "<Figure size 432x288 with 1 Axes>"
      ]
     },
     "metadata": {
      "needs_background": "light"
     },
     "output_type": "display_data"
    }
   ],
   "source": [
    "plt.hist(data.NN2L_PRECSL.values.flatten(),bins=100);"
   ]
  },
  {
   "cell_type": "code",
   "execution_count": 97,
   "metadata": {},
   "outputs": [],
   "source": [
    "scale_dict_RH['NN2L_PRECSL'] = scale_dict1['PRECT']"
   ]
  },
  {
   "cell_type": "code",
   "execution_count": 98,
   "metadata": {},
   "outputs": [
    {
     "data": {
      "text/plain": [
       "(-200, 200)"
      ]
     },
     "execution_count": 98,
     "metadata": {},
     "output_type": "execute_result"
    },
    {
     "data": {
      "image/png": "[encoded data removed]",
      "text/plain": [
       "<Figure size 432x288 with 1 Axes>"
      ]
     },
     "metadata": {
      "needs_background": "light"
     },
     "output_type": "display_data"
    }
   ],
   "source": [
    "plt.hist((np.moveaxis(np.tile(scale_dict_RH['NN2L_PRECSL'],(16,96,144,1)),-1,1)*\\\n",
    "          data.NN2L_PRECSL.values).flatten(),bins=100);\n",
    "plt.xlim((-200,200))"
   ]
  },
  {
   "cell_type": "markdown",
   "metadata": {},
   "source": [
    "the *physical constraint* is  \n",
    "1) Predict NN2L_PRECSL   \n",
    "2) Take ReLU(NN2L_PRECSL)  "
   ]
  },
  {
   "cell_type": "markdown",
   "metadata": {},
   "source": [
    "## NN2L_SOLL"
   ]
  },
  {
   "cell_type": "code",
   "execution_count": 101,
   "metadata": {},
   "outputs": [
    {
     "data": {
      "image/png": "[encoded data removed]",
      "text/plain": [
       "<Figure size 432x288 with 1 Axes>"
      ]
     },
     "metadata": {
      "needs_background": "light"
     },
     "output_type": "display_data"
    }
   ],
   "source": [
    "plt.hist(data.NN2L_SOLL.values.flatten(),bins=100);"
   ]
  },
  {
   "cell_type": "code",
   "execution_count": 102,
   "metadata": {},
   "outputs": [],
   "source": [
    "scale_dict_RH['NN2L_SOLL'] = 1."
   ]
  },
  {
   "cell_type": "markdown",
   "metadata": {},
   "source": [
    "the *physical constraint* is  \n",
    "1) Predict NN2L_SOLL\n",
    "2) Take ReLU(NN2L_SOLL)  "
   ]
  },
  {
   "cell_type": "markdown",
   "metadata": {},
   "source": [
    "## NN2L_SOLLD"
   ]
  },
  {
   "cell_type": "code",
   "execution_count": 104,
   "metadata": {},
   "outputs": [
    {
     "data": {
      "image/png": "[encoded data removed]",
      "text/plain": [
       "<Figure size 432x288 with 1 Axes>"
      ]
     },
     "metadata": {
      "needs_background": "light"
     },
     "output_type": "display_data"
    }
   ],
   "source": [
    "plt.hist(data.NN2L_SOLLD.values.flatten(),bins=100);"
   ]
  },
  {
   "cell_type": "code",
   "execution_count": 105,
   "metadata": {},
   "outputs": [],
   "source": [
    "scale_dict_RH['NN2L_SOLLD'] = 1."
   ]
  },
  {
   "cell_type": "markdown",
   "metadata": {},
   "source": [
    "the *physical constraint* is  \n",
    "1) Predict NN2L_SOLLD\n",
    "2) Take ReLU(NN2L_SOLLD)  "
   ]
  },
  {
   "cell_type": "markdown",
   "metadata": {},
   "source": [
    "## NN2L_SOLS"
   ]
  },
  {
   "cell_type": "code",
   "execution_count": 106,
   "metadata": {},
   "outputs": [
    {
     "data": {
      "image/png": "[encoded data removed]",
      "text/plain": [
       "<Figure size 432x288 with 1 Axes>"
      ]
     },
     "metadata": {
      "needs_background": "light"
     },
     "output_type": "display_data"
    }
   ],
   "source": [
    "plt.hist(data.NN2L_SOLS.values.flatten(),bins=100);"
   ]
  },
  {
   "cell_type": "code",
   "execution_count": 107,
   "metadata": {},
   "outputs": [],
   "source": [
    "scale_dict_RH['NN2L_SOLS'] = 1."
   ]
  },
  {
   "cell_type": "markdown",
   "metadata": {},
   "source": [
    "physical constraint is the same, just take ReLU to guarantee positivity"
   ]
  },
  {
   "cell_type": "markdown",
   "metadata": {},
   "source": [
    "## NN2L_SOLSD"
   ]
  },
  {
   "cell_type": "code",
   "execution_count": 108,
   "metadata": {},
   "outputs": [
    {
     "data": {
      "image/png": "[encoded data removed]",
      "text/plain": [
       "<Figure size 432x288 with 1 Axes>"
      ]
     },
     "metadata": {
      "needs_background": "light"
     },
     "output_type": "display_data"
    }
   ],
   "source": [
    "plt.hist(data.NN2L_SOLSD.values.flatten(),bins=100);"
   ]
  },
  {
   "cell_type": "code",
   "execution_count": 109,
   "metadata": {},
   "outputs": [],
   "source": [
    "scale_dict_RH['NN2L_SOLSD'] = 1."
   ]
  },
  {
   "cell_type": "markdown",
   "metadata": {},
   "source": [
    "physical constraints is the same, just take ReLU to guarantee positivity"
   ]
  },
  {
   "cell_type": "code",
   "execution_count": 117,
   "metadata": {},
   "outputs": [],
   "source": [
    "path_scaledict = '/home1/05823/tg851228/SPCAM/CBRAIN-CAM/nn_config/scale_dicts/'"
   ]
  },
  {
   "cell_type": "code",
   "execution_count": 119,
   "metadata": {},
   "outputs": [],
   "source": [
    "hf = open(path_scaledict+'2020_10_16_scale_dict_RG.pkl','wb')\n",
    "S = {\"scale_dict_RG\":scale_dict_RH}\n",
    "pickle.dump(S,hf)\n",
    "hf.close()"
   ]
  },
  {
   "cell_type": "markdown",
   "metadata": {},
   "source": [
    "# Outputs"
   ]
  },
  {
   "cell_type": "markdown",
   "metadata": {},
   "source": [
    "## Scale dict"
   ]
  },
  {
   "cell_type": "code",
   "execution_count": 35,
   "metadata": {},
   "outputs": [
    {
     "name": "stdout",
     "output_type": "stream",
     "text": [
      "which: no pickle in (/opt/apps/xalt/xalt/bin:/work/05823/tg851228/stampede2/MINICONDA/envs/cbrain_1/bin:/work/05823/tg851228/stampede2/MINICONDA/condabin:/opt/apps/cmake/3.16.1/bin:/opt/apps/autotools/1.1/bin:/opt/apps/git/2.24.1/bin:/opt/apps/libfabric/1.7.0/bin:/opt/apps/intel18/impi/18.0.2/bin:/opt/intel/compilers_and_libraries_2018.2.199/linux/mpi/intel64/bin:/opt/intel/compilers_and_libraries_2018.2.199/linux/bin/intel64:/opt/apps/gcc/6.3.0/bin:/usr/lib64/qt-3.3/bin:/usr/local/bin:/bin:/usr/bin:/opt/dell/srvadmin/bin:.)\r\n"
     ]
    }
   ],
   "source": [
    "!which pickle"
   ]
  },
  {
   "cell_type": "code",
   "execution_count": 36,
   "metadata": {},
   "outputs": [],
   "source": [
    "scale_dict = load_pickle('/home1/05823/tg851228/SPCAM/CBRAIN-CAM/nn_config/scale_dicts/009_Wm2_out_vars.pkl')"
   ]
  },
  {
   "cell_type": "code",
   "execution_count": null,
   "metadata": {},
   "outputs": [],
   "source": []
  },
  {
   "cell_type": "code",
   "execution_count": 37,
   "metadata": {},
   "outputs": [],
   "source": [
    "scale_dict1 = load_pickle('/home1/05823/tg851228/SPCAM/CBRAIN-CAM/nn_config/scale_dicts/001_toms_scaling.pkl')"
   ]
  },
  {
   "cell_type": "code",
   "execution_count": 38,
   "metadata": {},
   "outputs": [
    {
     "data": {
      "text/plain": [
       "{'PHQ': array([7.0811688e+07, 1.3074195e+08, 2.1416968e+08, 3.0895507e+08,\n",
       "        3.8762448e+08, 4.4520454e+08, 4.4321338e+08, 3.6317286e+08,\n",
       "        4.2725360e+08, 5.0264170e+08, 5.9133267e+08, 6.9567149e+08,\n",
       "        8.1842150e+08, 9.6283104e+08, 1.1327212e+09, 1.3325868e+09,\n",
       "        1.5677202e+09, 1.8443410e+09, 2.1697718e+09, 2.1706406e+09,\n",
       "        1.9922205e+09, 1.6811768e+09, 1.2494753e+09, 7.2336192e+08,\n",
       "        6.7863757e+08, 6.2842387e+08, 5.7302957e+08, 5.1279936e+08,\n",
       "        4.4820157e+08, 3.7970438e+08], dtype=float32),\n",
       " 'PHCLDLIQ': array([7.0811688e+07, 1.3074195e+08, 2.1416968e+08, 3.0895507e+08,\n",
       "        3.8762448e+08, 4.4520454e+08, 4.4321338e+08, 3.6317286e+08,\n",
       "        4.2725360e+08, 5.0264170e+08, 5.9133267e+08, 6.9567149e+08,\n",
       "        8.1842150e+08, 9.6283104e+08, 1.1327212e+09, 1.3325868e+09,\n",
       "        1.5677202e+09, 1.8443410e+09, 2.1697718e+09, 2.1706406e+09,\n",
       "        1.9922205e+09, 1.6811768e+09, 1.2494753e+09, 7.2336192e+08,\n",
       "        6.7863757e+08, 6.2842387e+08, 5.7302957e+08, 5.1279936e+08,\n",
       "        4.4820157e+08, 3.7970438e+08], dtype=float32),\n",
       " 'PHCLDICE': array([7.0811688e+07, 1.3074195e+08, 2.1416968e+08, 3.0895507e+08,\n",
       "        3.8762448e+08, 4.4520454e+08, 4.4321338e+08, 3.6317286e+08,\n",
       "        4.2725360e+08, 5.0264170e+08, 5.9133267e+08, 6.9567149e+08,\n",
       "        8.1842150e+08, 9.6283104e+08, 1.1327212e+09, 1.3325868e+09,\n",
       "        1.5677202e+09, 1.8443410e+09, 2.1697718e+09, 2.1706406e+09,\n",
       "        1.9922205e+09, 1.6811768e+09, 1.2494753e+09, 7.2336192e+08,\n",
       "        6.7863757e+08, 6.2842387e+08, 5.7302957e+08, 5.1279936e+08,\n",
       "        4.4820157e+08, 3.7970438e+08], dtype=float32),\n",
       " 'TPHYSTND': array([ 28444.725,  52518.43 ,  86030.96 , 124105.81 , 155706.95 ,\n",
       "        178836.6  , 178036.75 , 145884.84 , 171625.78 , 201908.83 ,\n",
       "        237535.58 , 279447.97 , 328756.1  , 386764.75 , 455008.78 ,\n",
       "        535293.9  , 629745.9  , 740863.2  , 871587.25 , 871936.2  ,\n",
       "        800265.7  , 675320.9  , 501908.4  , 290571.1  , 272605.56 ,\n",
       "        252434.92 , 230183.3  , 205989.11 , 180040.47 , 152525.47 ],\n",
       "       dtype=float32),\n",
       " 'QRL': array([ 28444.725,  52518.43 ,  86030.96 , 124105.81 , 155706.95 ,\n",
       "        178836.6  , 178036.75 , 145884.84 , 171625.78 , 201908.83 ,\n",
       "        237535.58 , 279447.97 , 328756.1  , 386764.75 , 455008.78 ,\n",
       "        535293.9  , 629745.9  , 740863.2  , 871587.25 , 871936.2  ,\n",
       "        800265.7  , 675320.9  , 501908.4  , 290571.1  , 272605.56 ,\n",
       "        252434.92 , 230183.3  , 205989.11 , 180040.47 , 152525.47 ],\n",
       "       dtype=float32),\n",
       " 'QRS': array([ 28444.725,  52518.43 ,  86030.96 , 124105.81 , 155706.95 ,\n",
       "        178836.6  , 178036.75 , 145884.84 , 171625.78 , 201908.83 ,\n",
       "        237535.58 , 279447.97 , 328756.1  , 386764.75 , 455008.78 ,\n",
       "        535293.9  , 629745.9  , 740863.2  , 871587.25 , 871936.2  ,\n",
       "        800265.7  , 675320.9  , 501908.4  , 290571.1  , 272605.56 ,\n",
       "        252434.92 , 230183.3  , 205989.11 , 180040.47 , 152525.47 ],\n",
       "       dtype=float32),\n",
       " 'DTVKE': array([ 15.802625,  29.176907,  47.79498 ,  68.94768 ,  86.50386 ,\n",
       "         99.35366 ,  98.9093  ,  81.047134,  95.34765 , 112.17157 ,\n",
       "        131.9642  , 155.24889 , 182.64227 , 214.86931 , 252.78264 ,\n",
       "        297.3855  , 349.85883 , 411.59067 , 484.21515 , 484.409   ,\n",
       "        444.59204 , 375.17825 , 278.838   , 161.42839 , 151.44753 ,\n",
       "        140.24162 , 127.87961 , 114.43839 , 100.022484,  84.736374],\n",
       "       dtype=float32),\n",
       " 'FSNT': 1,\n",
       " 'FSNS': 1,\n",
       " 'FLNT': 1,\n",
       " 'FLNS': 1,\n",
       " 'PRECT': 2501000000.0,\n",
       " 'PRECTEND': 2501000.0,\n",
       " 'PRECST': 2501000000.0,\n",
       " 'PRECSTEN': 2501000.0}"
      ]
     },
     "execution_count": 38,
     "metadata": {},
     "output_type": "execute_result"
    }
   ],
   "source": [
    "scale_dict1"
   ]
  },
  {
   "cell_type": "markdown",
   "metadata": {},
   "source": [
    "## Outputs"
   ]
  },
  {
   "cell_type": "code",
   "execution_count": 14,
   "metadata": {},
   "outputs": [],
   "source": [
    "TCTEND = (data.TBC-data.TBP)/DT"
   ]
  },
  {
   "cell_type": "code",
   "execution_count": 15,
   "metadata": {},
   "outputs": [
    {
     "data": {
      "image/png": "[encoded data removed]",
      "text/plain": [
       "<Figure size 432x288 with 1 Axes>"
      ]
     },
     "metadata": {
      "needs_background": "light"
     },
     "output_type": "display_data"
    }
   ],
   "source": [
    "plt.hist(TCTEND.values.flatten(),bins=100);"
   ]
  },
  {
   "cell_type": "code",
   "execution_count": 16,
   "metadata": {},
   "outputs": [],
   "source": [
    "TPTEND = (data.T-data.TBP)/DT"
   ]
  },
  {
   "cell_type": "code",
   "execution_count": 17,
   "metadata": {},
   "outputs": [
    {
     "data": {
      "image/png": "[encoded data removed]",
      "text/plain": [
       "<Figure size 432x288 with 1 Axes>"
      ]
     },
     "metadata": {
      "needs_background": "light"
     },
     "output_type": "display_data"
    }
   ],
   "source": [
    "plt.hist(TPTEND.values.flatten(),bins=100);"
   ]
  },
  {
   "cell_type": "code",
   "execution_count": 18,
   "metadata": {},
   "outputs": [],
   "source": [
    "QCTEND = (data.QBC-data.QBP)/DT"
   ]
  },
  {
   "cell_type": "code",
   "execution_count": 19,
   "metadata": {},
   "outputs": [
    {
     "data": {
      "text/plain": [
       "(0, 255000)"
      ]
     },
     "execution_count": 19,
     "metadata": {},
     "output_type": "execute_result"
    },
    {
     "data": {
      "image/png": "[encoded data removed]",
      "text/plain": [
       "<Figure size 720x360 with 1 Axes>"
      ]
     },
     "metadata": {
      "needs_background": "light"
     },
     "output_type": "display_data"
    }
   ],
   "source": [
    "plt.figure(figsize=(10,5))\n",
    "plt.hist(1e6*QCTEND.values.flatten(),bins=100);\n",
    "plt.ylim((0,255000))"
   ]
  },
  {
   "cell_type": "code",
   "execution_count": 20,
   "metadata": {},
   "outputs": [
    {
     "data": {
      "text/plain": [
       "(0, 0.05)"
      ]
     },
     "execution_count": 20,
     "metadata": {},
     "output_type": "execute_result"
    },
    {
     "data": {
      "image/png": "[encoded data removed]",
      "text/plain": [
       "<Figure size 432x288 with 1 Axes>"
      ]
     },
     "metadata": {
      "needs_background": "light"
     },
     "output_type": "display_data"
    }
   ],
   "source": [
    "plt.hist(data.QBP[:,-1,:,:].values.flatten(),bins=100,alpha=0.5);\n",
    "plt.hist(data.QBC[:,-1,:,:].values.flatten(),bins=100,alpha=0.5);\n",
    "plt.xlim((0,0.05))"
   ]
  },
  {
   "cell_type": "code",
   "execution_count": 21,
   "metadata": {},
   "outputs": [
    {
     "data": {
      "image/png": "[encoded data removed]",
      "text/plain": [
       "<Figure size 432x288 with 1 Axes>"
      ]
     },
     "metadata": {
      "needs_background": "light"
     },
     "output_type": "display_data"
    }
   ],
   "source": [
    "plt.hist(data.QBC[:,-1,:,:].values.flatten(),bins=100,alpha=0.5);"
   ]
  },
  {
   "cell_type": "code",
   "execution_count": 110,
   "metadata": {},
   "outputs": [],
   "source": [
    "path_otherday = 'CESM2_f19_v13_updated_NN_pelayout01_ens_07.cam.h1.2003-03-20-00000.nc'"
   ]
  },
  {
   "cell_type": "code",
   "execution_count": 111,
   "metadata": {},
   "outputs": [],
   "source": [
    "data2 = xr.open_dataset(path_folder+path_otherday)"
   ]
  },
  {
   "cell_type": "code",
   "execution_count": 115,
   "metadata": {},
   "outputs": [
    {
     "data": {
      "text/plain": [
       "0.0"
      ]
     },
     "execution_count": 115,
     "metadata": {},
     "output_type": "execute_result"
    }
   ],
   "source": [
    "data2.NN2L_PRECL.values.max()"
   ]
  },
  {
   "cell_type": "code",
   "execution_count": 116,
   "metadata": {},
   "outputs": [
    {
     "data": {
      "text/plain": [
       "0.0"
      ]
     },
     "execution_count": 116,
     "metadata": {},
     "output_type": "execute_result"
    }
   ],
   "source": [
    "data2.NN2L_PRECSL.values.max()"
   ]
  },
  {
   "cell_type": "code",
   "execution_count": 25,
   "metadata": {},
   "outputs": [
    {
     "data": {
      "text/html": [
       "<pre>&lt;xarray.Dataset&gt;\n",
       "Dimensions:          (ilev: 27, lat: 96, lev: 26, lon: 144, nbnd: 2, time: 16)\n",
       "Coordinates:\n",
       "  * lat              (lat) float64 -90.0 -88.11 -86.21 ... 86.21 88.11 90.0\n",
       "  * lon              (lon) float64 0.0 2.5 5.0 7.5 ... 350.0 352.5 355.0 357.5\n",
       "  * lev              (lev) float64 3.545 7.389 13.97 23.94 ... 929.6 970.6 992.6\n",
       "  * ilev             (ilev) float64 2.194 4.895 9.882 ... 956.0 985.1 1e+03\n",
       "  * time             (time) object 2003-03-20 00:00:00 ... 2003-03-20 07:30:00\n",
       "Dimensions without coordinates: nbnd\n",
       "Data variables:\n",
       "    gw               (lat) float64 ...\n",
       "    hyam             (lev) float64 ...\n",
       "    hybm             (lev) float64 ...\n",
       "    P0               float64 ...\n",
       "    hyai             (ilev) float64 ...\n",
       "    hybi             (ilev) float64 ...\n",
       "    date             (time) int32 ...\n",
       "    datesec          (time) int32 ...\n",
       "    time_bnds        (time, nbnd) object ...\n",
       "    date_written     (time) |S8 ...\n",
       "    time_written     (time) |S8 ...\n",
       "    ndbase           int32 ...\n",
       "    nsbase           int32 ...\n",
       "    nbdate           int32 ...\n",
       "    nbsec            int32 ...\n",
       "    mdt              int32 ...\n",
       "    ndcur            (time) int32 ...\n",
       "    nscur            (time) int32 ...\n",
       "    co2vmr           (time) float64 ...\n",
       "    ch4vmr           (time) float64 ...\n",
       "    n2ovmr           (time) float64 ...\n",
       "    f11vmr           (time) float64 ...\n",
       "    f12vmr           (time) float64 ...\n",
       "    sol_tsi          (time) float64 ...\n",
       "    nsteph           (time) int32 ...\n",
       "    CLDICEAP         (time, lev, lat, lon) float32 ...\n",
       "    CLDICEBC         (time, lev, lat, lon) float32 ...\n",
       "    CLDICEBP         (time, lev, lat, lon) float32 ...\n",
       "    CLDLIQAP         (time, lev, lat, lon) float32 ...\n",
       "    CLDLIQBC         (time, lev, lat, lon) float32 ...\n",
       "    CLDLIQBP         (time, lev, lat, lon) float32 ...\n",
       "    CLOUD            (time, lev, lat, lon) float32 ...\n",
       "    FLDS             (time, lat, lon) float32 ...\n",
       "    FLNS             (time, lat, lon) float32 ...\n",
       "    FLNT             (time, lat, lon) float32 ...\n",
       "    FSDS             (time, lat, lon) float32 ...\n",
       "    FSNS             (time, lat, lon) float32 ...\n",
       "    FSNT             (time, lat, lon) float32 ...\n",
       "    LHFLX            (time, lat, lon) float32 ...\n",
       "    NN2L_BCPHIDRY    (time, lat, lon) float32 ...\n",
       "    NN2L_BCPHIWET    (time, lat, lon) float32 ...\n",
       "    NN2L_BCPHODRY    (time, lat, lon) float32 ...\n",
       "    NN2L_CO2DIAG     (time, lat, lon) float32 ...\n",
       "    NN2L_CO2PROG     (time, lat, lon) float32 ...\n",
       "    NN2L_DSTDRY1     (time, lat, lon) float32 ...\n",
       "    NN2L_DSTDRY2     (time, lat, lon) float32 ...\n",
       "    NN2L_DSTDRY3     (time, lat, lon) float32 ...\n",
       "    NN2L_DSTDRY4     (time, lat, lon) float32 ...\n",
       "    NN2L_DSTWET1     (time, lat, lon) float32 ...\n",
       "    NN2L_DSTWET2     (time, lat, lon) float32 ...\n",
       "    NN2L_DSTWET3     (time, lat, lon) float32 ...\n",
       "    NN2L_DSTWET4     (time, lat, lon) float32 ...\n",
       "    NN2L_FLWDS       (time, lat, lon) float32 ...\n",
       "    NN2L_NETSW       (time, lat, lon) float32 ...\n",
       "    NN2L_OCPHIDRY    (time, lat, lon) float32 ...\n",
       "    NN2L_OCPHIWET    (time, lat, lon) float32 ...\n",
       "    NN2L_OCPHODRY    (time, lat, lon) float32 ...\n",
       "    NN2L_PBOT        (time, lat, lon) float32 ...\n",
       "    NN2L_PRECC       (time, lat, lon) float32 ...\n",
       "    NN2L_PRECL       (time, lat, lon) float32 ...\n",
       "    NN2L_PRECSC      (time, lat, lon) float32 ...\n",
       "    NN2L_PRECSL      (time, lat, lon) float32 ...\n",
       "    NN2L_PSL         (time, lat, lon) float32 ...\n",
       "    NN2L_QBOT        (time, lat, lon) float32 ...\n",
       "    NN2L_RHO         (time, lat, lon) float32 ...\n",
       "    NN2L_SOLL        (time, lat, lon) float32 ...\n",
       "    NN2L_SOLLD       (time, lat, lon) float32 ...\n",
       "    NN2L_SOLS        (time, lat, lon) float32 ...\n",
       "    NN2L_SOLSD       (time, lat, lon) float32 ...\n",
       "    NN2L_TBOT        (time, lat, lon) float32 ...\n",
       "    NN2L_THBOT       (time, lat, lon) float32 ...\n",
       "    NN2L_UBOT        (time, lat, lon) float32 ...\n",
       "    NN2L_VBOT        (time, lat, lon) float32 ...\n",
       "    NN2L_ZBOT        (time, lat, lon) float32 ...\n",
       "    PRECC            (time, lat, lon) float32 ...\n",
       "    PRECT            (time, lat, lon) float32 ...\n",
       "    PS               (time, lat, lon) float32 ...\n",
       "    PTECLDICE        (time, lev, lat, lon) float32 ...\n",
       "    PTECLDLIQ        (time, lev, lat, lon) float32 ...\n",
       "    PTEQ             (time, lev, lat, lon) float32 ...\n",
       "    PTTEND           (time, lev, lat, lon) float32 ...\n",
       "    Q                (time, lev, lat, lon) float32 ...\n",
       "    QAP              (time, lev, lat, lon) float32 ...\n",
       "    QBC              (time, lev, lat, lon) float32 ...\n",
       "    QBP              (time, lev, lat, lon) float32 ...\n",
       "    QRL              (time, lev, lat, lon) float32 ...\n",
       "    QRLC             (time, lev, lat, lon) float32 ...\n",
       "    QRS              (time, lev, lat, lon) float32 ...\n",
       "    QRSC             (time, lev, lat, lon) float32 ...\n",
       "    RELHUM           (time, lev, lat, lon) float32 ...\n",
       "    SHFLX            (time, lat, lon) float32 ...\n",
       "    SOLIN            (time, lat, lon) float32 ...\n",
       "    SPICESTORAGE     (time, lat, lon) float32 ...\n",
       "    SPLIQICESTORAGE  (time, lat, lon) float32 ...\n",
       "    SPMC             (time, lev, lat, lon) float32 ...\n",
       "    SPMCDN           (time, lev, lat, lon) float32 ...\n",
       "    SPMCUP           (time, lev, lat, lon) float32 ...\n",
       "    SPQC             (time, lev, lat, lon) float32 ...\n",
       "    SPQI             (time, lev, lat, lon) float32 ...\n",
       "    SPQPFLX          (time, lev, lat, lon) float32 ...\n",
       "    SPQTFLX          (time, lev, lat, lon) float32 ...\n",
       "    SPQTFLXS         (time, lev, lat, lon) float32 ...\n",
       "    SPTKE            (time, lev, lat, lon) float32 ...\n",
       "    SPTKES           (time, lev, lat, lon) float32 ...\n",
       "    T                (time, lev, lat, lon) float32 ...\n",
       "    TBC              (time, lev, lat, lon) float32 ...\n",
       "    TBP              (time, lev, lat, lon) float32 ...\n",
       "    U10              (time, lat, lon) float32 ...\n",
       "    VAP              (time, lev, lat, lon) float32 ...\n",
       "Attributes:\n",
       "    Conventions:       CF-1.0\n",
       "    source:            CAM\n",
       "    case:              CESM2_f19_v13_updated_NN_pelayout01_ens_07\n",
       "    logname:           tg863871\n",
       "    host:              \n",
       "    initial_file:      /scratch/07088/tg863871/CESM_inputdata/atm/cam/inic/fv...\n",
       "    topography_file:   /scratch/07088/tg863871/CESM_inputdata/atm/cam/topo/fv...\n",
       "    model_doi_url:     https://doi.org/10.5065/D67H1H0V\n",
       "    time_period_freq:  minute_30</pre>"
      ],
      "text/plain": [
       "<xarray.Dataset>\n",
       "Dimensions:          (ilev: 27, lat: 96, lev: 26, lon: 144, nbnd: 2, time: 16)\n",
       "Coordinates:\n",
       "  * lat              (lat) float64 -90.0 -88.11 -86.21 ... 86.21 88.11 90.0\n",
       "  * lon              (lon) float64 0.0 2.5 5.0 7.5 ... 350.0 352.5 355.0 357.5\n",
       "  * lev              (lev) float64 3.545 7.389 13.97 23.94 ... 929.6 970.6 992.6\n",
       "  * ilev             (ilev) float64 2.194 4.895 9.882 ... 956.0 985.1 1e+03\n",
       "  * time             (time) object 2003-03-20 00:00:00 ... 2003-03-20 07:30:00\n",
       "Dimensions without coordinates: nbnd\n",
       "Data variables:\n",
       "    gw               (lat) float64 ...\n",
       "    hyam             (lev) float64 ...\n",
       "    hybm             (lev) float64 ...\n",
       "    P0               float64 ...\n",
       "    hyai             (ilev) float64 ...\n",
       "    hybi             (ilev) float64 ...\n",
       "    date             (time) int32 ...\n",
       "    datesec          (time) int32 ...\n",
       "    time_bnds        (time, nbnd) object ...\n",
       "    date_written     (time) |S8 ...\n",
       "    time_written     (time) |S8 ...\n",
       "    ndbase           int32 ...\n",
       "    nsbase           int32 ...\n",
       "    nbdate           int32 ...\n",
       "    nbsec            int32 ...\n",
       "    mdt              int32 ...\n",
       "    ndcur            (time) int32 ...\n",
       "    nscur            (time) int32 ...\n",
       "    co2vmr           (time) float64 ...\n",
       "    ch4vmr           (time) float64 ...\n",
       "    n2ovmr           (time) float64 ...\n",
       "    f11vmr           (time) float64 ...\n",
       "    f12vmr           (time) float64 ...\n",
       "    sol_tsi          (time) float64 ...\n",
       "    nsteph           (time) int32 ...\n",
       "    CLDICEAP         (time, lev, lat, lon) float32 ...\n",
       "    CLDICEBC         (time, lev, lat, lon) float32 ...\n",
       "    CLDICEBP         (time, lev, lat, lon) float32 ...\n",
       "    CLDLIQAP         (time, lev, lat, lon) float32 ...\n",
       "    CLDLIQBC         (time, lev, lat, lon) float32 ...\n",
       "    CLDLIQBP         (time, lev, lat, lon) float32 ...\n",
       "    CLOUD            (time, lev, lat, lon) float32 ...\n",
       "    FLDS             (time, lat, lon) float32 ...\n",
       "    FLNS             (time, lat, lon) float32 ...\n",
       "    FLNT             (time, lat, lon) float32 ...\n",
       "    FSDS             (time, lat, lon) float32 ...\n",
       "    FSNS             (time, lat, lon) float32 ...\n",
       "    FSNT             (time, lat, lon) float32 ...\n",
       "    LHFLX            (time, lat, lon) float32 ...\n",
       "    NN2L_BCPHIDRY    (time, lat, lon) float32 ...\n",
       "    NN2L_BCPHIWET    (time, lat, lon) float32 ...\n",
       "    NN2L_BCPHODRY    (time, lat, lon) float32 ...\n",
       "    NN2L_CO2DIAG     (time, lat, lon) float32 ...\n",
       "    NN2L_CO2PROG     (time, lat, lon) float32 ...\n",
       "    NN2L_DSTDRY1     (time, lat, lon) float32 ...\n",
       "    NN2L_DSTDRY2     (time, lat, lon) float32 ...\n",
       "    NN2L_DSTDRY3     (time, lat, lon) float32 ...\n",
       "    NN2L_DSTDRY4     (time, lat, lon) float32 ...\n",
       "    NN2L_DSTWET1     (time, lat, lon) float32 ...\n",
       "    NN2L_DSTWET2     (time, lat, lon) float32 ...\n",
       "    NN2L_DSTWET3     (time, lat, lon) float32 ...\n",
       "    NN2L_DSTWET4     (time, lat, lon) float32 ...\n",
       "    NN2L_FLWDS       (time, lat, lon) float32 ...\n",
       "    NN2L_NETSW       (time, lat, lon) float32 ...\n",
       "    NN2L_OCPHIDRY    (time, lat, lon) float32 ...\n",
       "    NN2L_OCPHIWET    (time, lat, lon) float32 ...\n",
       "    NN2L_OCPHODRY    (time, lat, lon) float32 ...\n",
       "    NN2L_PBOT        (time, lat, lon) float32 ...\n",
       "    NN2L_PRECC       (time, lat, lon) float32 ...\n",
       "    NN2L_PRECL       (time, lat, lon) float32 ...\n",
       "    NN2L_PRECSC      (time, lat, lon) float32 ...\n",
       "    NN2L_PRECSL      (time, lat, lon) float32 ...\n",
       "    NN2L_PSL         (time, lat, lon) float32 ...\n",
       "    NN2L_QBOT        (time, lat, lon) float32 ...\n",
       "    NN2L_RHO         (time, lat, lon) float32 ...\n",
       "    NN2L_SOLL        (time, lat, lon) float32 ...\n",
       "    NN2L_SOLLD       (time, lat, lon) float32 ...\n",
       "    NN2L_SOLS        (time, lat, lon) float32 ...\n",
       "    NN2L_SOLSD       (time, lat, lon) float32 ...\n",
       "    NN2L_TBOT        (time, lat, lon) float32 ...\n",
       "    NN2L_THBOT       (time, lat, lon) float32 ...\n",
       "    NN2L_UBOT        (time, lat, lon) float32 ...\n",
       "    NN2L_VBOT        (time, lat, lon) float32 ...\n",
       "    NN2L_ZBOT        (time, lat, lon) float32 ...\n",
       "    PRECC            (time, lat, lon) float32 ...\n",
       "    PRECT            (time, lat, lon) float32 ...\n",
       "    PS               (time, lat, lon) float32 ...\n",
       "    PTECLDICE        (time, lev, lat, lon) float32 ...\n",
       "    PTECLDLIQ        (time, lev, lat, lon) float32 ...\n",
       "    PTEQ             (time, lev, lat, lon) float32 ...\n",
       "    PTTEND           (time, lev, lat, lon) float32 ...\n",
       "    Q                (time, lev, lat, lon) float32 ...\n",
       "    QAP              (time, lev, lat, lon) float32 ...\n",
       "    QBC              (time, lev, lat, lon) float32 ...\n",
       "    QBP              (time, lev, lat, lon) float32 ...\n",
       "    QRL              (time, lev, lat, lon) float32 ...\n",
       "    QRLC             (time, lev, lat, lon) float32 ...\n",
       "    QRS              (time, lev, lat, lon) float32 ...\n",
       "    QRSC             (time, lev, lat, lon) float32 ...\n",
       "    RELHUM           (time, lev, lat, lon) float32 ...\n",
       "    SHFLX            (time, lat, lon) float32 ...\n",
       "    SOLIN            (time, lat, lon) float32 ...\n",
       "    SPICESTORAGE     (time, lat, lon) float32 ...\n",
       "    SPLIQICESTORAGE  (time, lat, lon) float32 ...\n",
       "    SPMC             (time, lev, lat, lon) float32 ...\n",
       "    SPMCDN           (time, lev, lat, lon) float32 ...\n",
       "    SPMCUP           (time, lev, lat, lon) float32 ...\n",
       "    SPQC             (time, lev, lat, lon) float32 ...\n",
       "    SPQI             (time, lev, lat, lon) float32 ...\n",
       "    SPQPFLX          (time, lev, lat, lon) float32 ...\n",
       "    SPQTFLX          (time, lev, lat, lon) float32 ...\n",
       "    SPQTFLXS         (time, lev, lat, lon) float32 ...\n",
       "    SPTKE            (time, lev, lat, lon) float32 ...\n",
       "    SPTKES           (time, lev, lat, lon) float32 ...\n",
       "    T                (time, lev, lat, lon) float32 ...\n",
       "    TBC              (time, lev, lat, lon) float32 ...\n",
       "    TBP              (time, lev, lat, lon) float32 ...\n",
       "    U10              (time, lat, lon) float32 ...\n",
       "    VAP              (time, lev, lat, lon) float32 ...\n",
       "Attributes:\n",
       "    Conventions:       CF-1.0\n",
       "    source:            CAM\n",
       "    case:              CESM2_f19_v13_updated_NN_pelayout01_ens_07\n",
       "    logname:           tg863871\n",
       "    host:              \n",
       "    initial_file:      /scratch/07088/tg863871/CESM_inputdata/atm/cam/inic/fv...\n",
       "    topography_file:   /scratch/07088/tg863871/CESM_inputdata/atm/cam/topo/fv...\n",
       "    model_doi_url:     https://doi.org/10.5065/D67H1H0V\n",
       "    time_period_freq:  minute_30"
      ]
     },
     "execution_count": 25,
     "metadata": {},
     "output_type": "execute_result"
    }
   ],
   "source": [
    "data2"
   ]
  },
  {
   "cell_type": "code",
   "execution_count": 26,
   "metadata": {},
   "outputs": [
    {
     "data": {
      "text/plain": [
       "array([[[[1.80390680e-06, 1.80390680e-06, 1.80390680e-06, ...,\n",
       "          1.80390680e-06, 1.80390680e-06, 1.80390680e-06],\n",
       "         [1.80340157e-06, 1.80339657e-06, 1.80339305e-06, ...,\n",
       "          1.80341942e-06, 1.80341237e-06, 1.80340760e-06],\n",
       "         [1.80321285e-06, 1.80321058e-06, 1.80320876e-06, ...,\n",
       "          1.80322286e-06, 1.80321911e-06, 1.80321592e-06],\n",
       "         ...,\n",
       "         [1.79203823e-06, 1.79198344e-06, 1.79192921e-06, ...,\n",
       "          1.79219569e-06, 1.79214453e-06, 1.79209223e-06],\n",
       "         [1.79234189e-06, 1.79231131e-06, 1.79227868e-06, ...,\n",
       "          1.79242068e-06, 1.79239703e-06, 1.79237054e-06],\n",
       "         [1.79272581e-06, 1.79272581e-06, 1.79272581e-06, ...,\n",
       "          1.79272581e-06, 1.79272581e-06, 1.79272581e-06]],\n",
       "\n",
       "        [[1.79382153e-06, 1.79382153e-06, 1.79382153e-06, ...,\n",
       "          1.79382153e-06, 1.79382153e-06, 1.79382153e-06],\n",
       "         [1.79379163e-06, 1.79379788e-06, 1.79380550e-06, ...,\n",
       "          1.79377298e-06, 1.79377912e-06, 1.79378605e-06],\n",
       "         [1.79375627e-06, 1.79375888e-06, 1.79375968e-06, ...,\n",
       "          1.79375024e-06, 1.79375206e-06, 1.79375331e-06],\n",
       "         ...,\n",
       "         [1.80690722e-06, 1.80691245e-06, 1.80692109e-06, ...,\n",
       "          1.80690517e-06, 1.80690461e-06, 1.80690506e-06],\n",
       "         [1.80699067e-06, 1.80696986e-06, 1.80694883e-06, ...,\n",
       "          1.80707059e-06, 1.80704274e-06, 1.80701443e-06],\n",
       "         [1.80770996e-06, 1.80770996e-06, 1.80770996e-06, ...,\n",
       "          1.80770996e-06, 1.80770996e-06, 1.80770996e-06]],\n",
       "\n",
       "        [[1.77176241e-06, 1.77176241e-06, 1.77176241e-06, ...,\n",
       "          1.77176241e-06, 1.77176241e-06, 1.77176241e-06],\n",
       "         [1.77196353e-06, 1.77201935e-06, 1.77208472e-06, ...,\n",
       "          1.77180004e-06, 1.77185677e-06, 1.77191282e-06],\n",
       "         [1.77191771e-06, 1.77207141e-06, 1.77223183e-06, ...,\n",
       "          1.77154175e-06, 1.77165202e-06, 1.77176844e-06],\n",
       "         ...,\n",
       "         [1.82054248e-06, 1.82040935e-06, 1.82029078e-06, ...,\n",
       "          1.82099575e-06, 1.82083579e-06, 1.82068368e-06],\n",
       "         [1.82215911e-06, 1.82213489e-06, 1.82211079e-06, ...,\n",
       "          1.82224051e-06, 1.82221049e-06, 1.82218253e-06],\n",
       "         [1.82288829e-06, 1.82288829e-06, 1.82288829e-06, ...,\n",
       "          1.82288829e-06, 1.82288829e-06, 1.82288829e-06]],\n",
       "\n",
       "        ...,\n",
       "\n",
       "        [[1.41912096e-04, 1.41901852e-04, 1.41911209e-04, ...,\n",
       "          1.41906537e-04, 1.41900455e-04, 1.41895784e-04],\n",
       "         [1.63688965e-04, 1.61582837e-04, 1.59518269e-04, ...,\n",
       "          1.70412677e-04, 1.68151135e-04, 1.65927995e-04],\n",
       "         [2.00902097e-04, 1.79953611e-04, 1.66694095e-04, ...,\n",
       "          2.18276880e-04, 2.12674538e-04, 2.06706944e-04],\n",
       "         ...,\n",
       "         [5.61107881e-04, 5.42909198e-04, 5.30409394e-04, ...,\n",
       "          6.14627381e-04, 6.01252192e-04, 5.83348039e-04],\n",
       "         [6.36573997e-04, 6.30966970e-04, 6.23962842e-04, ...,\n",
       "          6.48360874e-04, 6.45071152e-04, 6.41178864e-04],\n",
       "         [7.06064224e-04, 7.06068589e-04, 7.06064049e-04, ...,\n",
       "          7.06067076e-04, 7.06064748e-04, 7.06066668e-04]],\n",
       "\n",
       "        [[1.36080402e-04, 1.36060946e-04, 1.36051662e-04, ...,\n",
       "          1.36078714e-04, 1.36081217e-04, 1.36080635e-04],\n",
       "         [1.53071887e-04, 1.50952488e-04, 1.48856954e-04, ...,\n",
       "          1.59592673e-04, 1.57410395e-04, 1.55214118e-04],\n",
       "         [1.71647800e-04, 1.59004383e-04, 1.57069182e-04, ...,\n",
       "          1.83653116e-04, 1.78578382e-04, 1.74438785e-04],\n",
       "         ...,\n",
       "         [4.65084449e-04, 4.63491655e-04, 4.64148528e-04, ...,\n",
       "          4.83581331e-04, 4.74735221e-04, 4.68512473e-04],\n",
       "         [5.35715779e-04, 5.34118037e-04, 5.32417791e-04, ...,\n",
       "          5.35072410e-04, 5.36731095e-04, 5.36702340e-04],\n",
       "         [5.72221994e-04, 5.72220422e-04, 5.72230027e-04, ...,\n",
       "          5.72223857e-04, 5.72223798e-04, 5.72224613e-04]],\n",
       "\n",
       "        [[3.53435316e-05, 3.53439100e-05, 3.53422874e-05, ...,\n",
       "          3.53426367e-05, 3.53429969e-05, 3.53397918e-05],\n",
       "         [2.44275343e-05, 2.41459493e-05, 2.39104902e-05, ...,\n",
       "          2.56036310e-05, 2.51768415e-05, 2.47788921e-05],\n",
       "         [1.51054646e-05, 1.44653495e-05, 1.40286438e-05, ...,\n",
       "          1.80269999e-05, 1.69254945e-05, 1.59450356e-05],\n",
       "         ...,\n",
       "         [1.58514129e-04, 1.63728764e-04, 1.63765144e-04, ...,\n",
       "          1.48052321e-04, 1.41757904e-04, 1.42046483e-04],\n",
       "         [1.28918706e-04, 1.30155182e-04, 1.31758745e-04, ...,\n",
       "          1.28215877e-04, 1.28125685e-04, 1.28336760e-04],\n",
       "         [1.32148867e-04, 1.32155692e-04, 1.32139830e-04, ...,\n",
       "          1.32146874e-04, 1.32146291e-04, 1.32144560e-04]]],\n",
       "\n",
       "\n",
       "       [[[1.80387565e-06, 1.80387565e-06, 1.80387565e-06, ...,\n",
       "          1.80387565e-06, 1.80387565e-06, 1.80387565e-06],\n",
       "         [1.80338259e-06, 1.80337861e-06, 1.80337577e-06, ...,\n",
       "          1.80339782e-06, 1.80339157e-06, 1.80338793e-06],\n",
       "         [1.80320740e-06, 1.80320569e-06, 1.80320399e-06, ...,\n",
       "          1.80321513e-06, 1.80321217e-06, 1.80320956e-06],\n",
       "         ...,\n",
       "         [1.79193023e-06, 1.79187180e-06, 1.79181507e-06, ...,\n",
       "          1.79210861e-06, 1.79204994e-06, 1.79198992e-06],\n",
       "         [1.79229926e-06, 1.79226640e-06, 1.79223173e-06, ...,\n",
       "          1.79238396e-06, 1.79235815e-06, 1.79232961e-06],\n",
       "         [1.79269750e-06, 1.79269750e-06, 1.79269750e-06, ...,\n",
       "          1.79269750e-06, 1.79269750e-06, 1.79269750e-06]],\n",
       "\n",
       "        [[1.79384676e-06, 1.79384676e-06, 1.79384676e-06, ...,\n",
       "          1.79384676e-06, 1.79384676e-06, 1.79384676e-06],\n",
       "         [1.79379765e-06, 1.79380481e-06, 1.79381311e-06, ...,\n",
       "          1.79377696e-06, 1.79378355e-06, 1.79379094e-06],\n",
       "         [1.79375013e-06, 1.79375252e-06, 1.79375377e-06, ...,\n",
       "          1.79374354e-06, 1.79374524e-06, 1.79374706e-06],\n",
       "         ...,\n",
       "         [1.80690108e-06, 1.80690711e-06, 1.80691382e-06, ...,\n",
       "          1.80689972e-06, 1.80689710e-06, 1.80689699e-06],\n",
       "         [1.80697748e-06, 1.80695770e-06, 1.80693905e-06, ...,\n",
       "          1.80705024e-06, 1.80702455e-06, 1.80699885e-06],\n",
       "         [1.80772918e-06, 1.80772918e-06, 1.80772918e-06, ...,\n",
       "          1.80772918e-06, 1.80772918e-06, 1.80772918e-06]],\n",
       "\n",
       "        [[1.77180243e-06, 1.77180243e-06, 1.77180243e-06, ...,\n",
       "          1.77180243e-06, 1.77180243e-06, 1.77180243e-06],\n",
       "         [1.77203185e-06, 1.77209267e-06, 1.77216236e-06, ...,\n",
       "          1.77185098e-06, 1.77191498e-06, 1.77197740e-06],\n",
       "         [1.77198444e-06, 1.77215281e-06, 1.77233153e-06, ...,\n",
       "          1.77157847e-06, 1.77169591e-06, 1.77182289e-06],\n",
       "         ...,\n",
       "         [1.82066640e-06, 1.82054953e-06, 1.82044550e-06, ...,\n",
       "          1.82107988e-06, 1.82093379e-06, 1.82079418e-06],\n",
       "         [1.82232702e-06, 1.82230826e-06, 1.82228882e-06, ...,\n",
       "          1.82239398e-06, 1.82237181e-06, 1.82234771e-06],\n",
       "         [1.82307429e-06, 1.82307429e-06, 1.82307429e-06, ...,\n",
       "          1.82307429e-06, 1.82307429e-06, 1.82307429e-06]],\n",
       "\n",
       "        ...,\n",
       "\n",
       "        [[1.41682511e-04, 1.41669065e-04, 1.41678232e-04, ...,\n",
       "          1.41673954e-04, 1.41667930e-04, 1.41662691e-04],\n",
       "         [1.63007804e-04, 1.60884243e-04, 1.58825598e-04, ...,\n",
       "          1.69780091e-04, 1.67500344e-04, 1.65262682e-04],\n",
       "         [2.00380047e-04, 1.78991686e-04, 1.68376457e-04, ...,\n",
       "          2.18115485e-04, 2.12280036e-04, 2.06162367e-04],\n",
       "         ...,\n",
       "         [5.54426806e-04, 5.37893909e-04, 5.26724383e-04, ...,\n",
       "          6.13782264e-04, 5.99759456e-04, 5.78002189e-04],\n",
       "         [6.36970915e-04, 6.30357710e-04, 6.22975465e-04, ...,\n",
       "          6.49504014e-04, 6.45974476e-04, 6.41838647e-04],\n",
       "         [7.06430408e-04, 7.06431048e-04, 7.06433784e-04, ...,\n",
       "          7.06432736e-04, 7.06429710e-04, 7.06432911e-04]],\n",
       "\n",
       "        [[1.35708033e-04, 1.35702547e-04, 1.35705501e-04, ...,\n",
       "          1.35705151e-04, 1.35706417e-04, 1.35707625e-04],\n",
       "         [1.52636989e-04, 1.50546242e-04, 1.48454201e-04, ...,\n",
       "          1.59184259e-04, 1.56986498e-04, 1.54775495e-04],\n",
       "         [1.71822830e-04, 1.58888186e-04, 1.56950962e-04, ...,\n",
       "          1.84059361e-04, 1.78950213e-04, 1.75126392e-04],\n",
       "         ...,\n",
       "         [4.67609178e-04, 4.66678932e-04, 4.68843267e-04, ...,\n",
       "          4.82514733e-04, 4.74334345e-04, 4.69834020e-04],\n",
       "         [5.37992746e-04, 5.36261650e-04, 5.34469378e-04, ...,\n",
       "          5.38963766e-04, 5.39955508e-04, 5.39287168e-04],\n",
       "         [5.76214516e-04, 5.76206075e-04, 5.76213992e-04, ...,\n",
       "          5.76210383e-04, 5.76209219e-04, 5.76208986e-04]],\n",
       "\n",
       "        [[3.55331867e-05, 3.55348675e-05, 3.55328739e-05, ...,\n",
       "          3.55331467e-05, 3.55333250e-05, 3.55363009e-05],\n",
       "         [2.45735118e-05, 2.42793449e-05, 2.40230002e-05, ...,\n",
       "          2.57591564e-05, 2.53304024e-05, 2.49289387e-05],\n",
       "         [1.52157527e-05, 1.45277781e-05, 1.40623797e-05, ...,\n",
       "          1.82173244e-05, 1.70879812e-05, 1.60784766e-05],\n",
       "         ...,\n",
       "         [1.58215771e-04, 1.63549819e-04, 1.63810138e-04, ...,\n",
       "          1.46685998e-04, 1.40726974e-04, 1.41340424e-04],\n",
       "         [1.28702959e-04, 1.29982582e-04, 1.31606575e-04, ...,\n",
       "          1.27895895e-04, 1.27855732e-04, 1.28129352e-04],\n",
       "         [1.31972687e-04, 1.31984052e-04, 1.31964684e-04, ...,\n",
       "          1.31973880e-04, 1.31973968e-04, 1.31972207e-04]]],\n",
       "\n",
       "\n",
       "       [[[1.80384495e-06, 1.80384495e-06, 1.80384495e-06, ...,\n",
       "          1.80384495e-06, 1.80384495e-06, 1.80384495e-06],\n",
       "         [1.80336610e-06, 1.80336303e-06, 1.80336087e-06, ...,\n",
       "          1.80337815e-06, 1.80337327e-06, 1.80337042e-06],\n",
       "         [1.80320251e-06, 1.80320103e-06, 1.80319978e-06, ...,\n",
       "          1.80320819e-06, 1.80320592e-06, 1.80320421e-06],\n",
       "         ...,\n",
       "         [1.79182018e-06, 1.79175970e-06, 1.79170138e-06, ...,\n",
       "          1.79201288e-06, 1.79194728e-06, 1.79188271e-06],\n",
       "         [1.79225947e-06, 1.79222479e-06, 1.79218853e-06, ...,\n",
       "          1.79234996e-06, 1.79232268e-06, 1.79229210e-06],\n",
       "         [1.79267124e-06, 1.79267124e-06, 1.79267124e-06, ...,\n",
       "          1.79267124e-06, 1.79267124e-06, 1.79267124e-06]],\n",
       "\n",
       "        [[1.79387337e-06, 1.79387337e-06, 1.79387337e-06, ...,\n",
       "          1.79387337e-06, 1.79387337e-06, 1.79387337e-06],\n",
       "         [1.79380481e-06, 1.79381243e-06, 1.79382141e-06, ...,\n",
       "          1.79378185e-06, 1.79378947e-06, 1.79379765e-06],\n",
       "         [1.79374285e-06, 1.79374535e-06, 1.79374695e-06, ...,\n",
       "          1.79373592e-06, 1.79373808e-06, 1.79374001e-06],\n",
       "         ...,\n",
       "         [1.80689801e-06, 1.80690336e-06, 1.80691075e-06, ...,\n",
       "          1.80689608e-06, 1.80689290e-06, 1.80689460e-06],\n",
       "         [1.80697248e-06, 1.80695429e-06, 1.80693758e-06, ...,\n",
       "          1.80703898e-06, 1.80701534e-06, 1.80699260e-06],\n",
       "         [1.80775930e-06, 1.80775930e-06, 1.80775930e-06, ...,\n",
       "          1.80775930e-06, 1.80775930e-06, 1.80775930e-06]],\n",
       "\n",
       "        [[1.77185359e-06, 1.77185359e-06, 1.77185359e-06, ...,\n",
       "          1.77185359e-06, 1.77185359e-06, 1.77185359e-06],\n",
       "         [1.77210461e-06, 1.77216896e-06, 1.77224024e-06, ...,\n",
       "          1.77190930e-06, 1.77197785e-06, 1.77204515e-06],\n",
       "         [1.77205527e-06, 1.77223990e-06, 1.77243794e-06, ...,\n",
       "          1.77161519e-06, 1.77174206e-06, 1.77188076e-06],\n",
       "         ...,\n",
       "         [1.82082169e-06, 1.82072097e-06, 1.82063388e-06, ...,\n",
       "          1.82119174e-06, 1.82105771e-06, 1.82093333e-06],\n",
       "         [1.82252063e-06, 1.82250847e-06, 1.82249130e-06, ...,\n",
       "          1.82257759e-06, 1.82255894e-06, 1.82253416e-06],\n",
       "         [1.82328654e-06, 1.82328654e-06, 1.82328654e-06, ...,\n",
       "          1.82328654e-06, 1.82328654e-06, 1.82328654e-06]],\n",
       "\n",
       "        ...,\n",
       "\n",
       "        [[1.41473458e-04, 1.41459197e-04, 1.41467201e-04, ...,\n",
       "          1.41465964e-04, 1.41458513e-04, 1.41452590e-04],\n",
       "         [1.62332173e-04, 1.60190393e-04, 1.58135459e-04, ...,\n",
       "          1.69179082e-04, 1.66844009e-04, 1.64575671e-04],\n",
       "         [1.99800808e-04, 1.79316732e-04, 1.72115935e-04, ...,\n",
       "          2.17860215e-04, 2.11772363e-04, 2.05557924e-04],\n",
       "         ...,\n",
       "         [5.47808711e-04, 5.33702085e-04, 5.23558178e-04, ...,\n",
       "          6.12510077e-04, 5.96345577e-04, 5.71178680e-04],\n",
       "         [6.36775396e-04, 6.29371323e-04, 6.21642102e-04, ...,\n",
       "          6.50437898e-04, 6.46710803e-04, 6.42246450e-04],\n",
       "         [7.06572901e-04, 7.06573424e-04, 7.06579245e-04, ...,\n",
       "          7.06578430e-04, 7.06575811e-04, 7.06578256e-04]],\n",
       "\n",
       "        [[1.35364084e-04, 1.35373382e-04, 1.35355876e-04, ...,\n",
       "          1.35373295e-04, 1.35373135e-04, 1.35369512e-04],\n",
       "         [1.52170120e-04, 1.50098611e-04, 1.48009203e-04, ...,\n",
       "          1.58735595e-04, 1.56541384e-04, 1.54323934e-04],\n",
       "         [1.71014995e-04, 1.58728522e-04, 1.56836570e-04, ...,\n",
       "          1.84352117e-04, 1.79284500e-04, 1.75804103e-04],\n",
       "         ...,\n",
       "         [4.70408937e-04, 4.70288971e-04, 4.73643187e-04, ...,\n",
       "          4.81263094e-04, 4.74326749e-04, 4.71545587e-04],\n",
       "         [5.40083100e-04, 5.38201595e-04, 5.36406238e-04, ...,\n",
       "          5.42628462e-04, 5.42914204e-04, 5.41708432e-04],\n",
       "         [5.80191787e-04, 5.80199878e-04, 5.80195279e-04, ...,\n",
       "          5.80198539e-04, 5.80186606e-04, 5.80191263e-04]],\n",
       "\n",
       "        [[3.57064200e-05, 3.57082099e-05, 3.57057652e-05, ...,\n",
       "          3.57062781e-05, 3.57060198e-05, 3.57092940e-05],\n",
       "         [2.46810123e-05, 2.43687882e-05, 2.40940917e-05, ...,\n",
       "          2.58766813e-05, 2.54447004e-05, 2.50460307e-05],\n",
       "         [1.53216370e-05, 1.46031371e-05, 1.41142164e-05, ...,\n",
       "          1.83915508e-05, 1.72543150e-05, 1.62131200e-05],\n",
       "         ...,\n",
       "         [1.58076757e-04, 1.63463264e-04, 1.63956734e-04, ...,\n",
       "          1.45558835e-04, 1.39852797e-04, 1.40760880e-04],\n",
       "         [1.28622603e-04, 1.29893917e-04, 1.31515058e-04, ...,\n",
       "          1.27714855e-04, 1.27726074e-04, 1.28040585e-04],\n",
       "         [1.31884939e-04, 1.31890207e-04, 1.31889014e-04, ...,\n",
       "          1.31879249e-04, 1.31887602e-04, 1.31882305e-04]]],\n",
       "\n",
       "\n",
       "       ...,\n",
       "\n",
       "\n",
       "       [[[1.80358882e-06, 1.80358882e-06, 1.80358882e-06, ...,\n",
       "          1.80358882e-06, 1.80358882e-06, 1.80358882e-06],\n",
       "         [1.80326333e-06, 1.80326504e-06, 1.80326731e-06, ...,\n",
       "          1.80326367e-06, 1.80326265e-06, 1.80326242e-06],\n",
       "         [1.80318636e-06, 1.80318864e-06, 1.80319080e-06, ...,\n",
       "          1.80317988e-06, 1.80318193e-06, 1.80318398e-06],\n",
       "         ...,\n",
       "         [1.79102881e-06, 1.79101426e-06, 1.79100471e-06, ...,\n",
       "          1.79107337e-06, 1.79105859e-06, 1.79104381e-06],\n",
       "         [1.79196206e-06, 1.79192534e-06, 1.79189033e-06, ...,\n",
       "          1.79209155e-06, 1.79204585e-06, 1.79200322e-06],\n",
       "         [1.79240328e-06, 1.79240328e-06, 1.79240328e-06, ...,\n",
       "          1.79240328e-06, 1.79240328e-06, 1.79240328e-06]],\n",
       "\n",
       "        [[1.79430219e-06, 1.79430219e-06, 1.79430219e-06, ...,\n",
       "          1.79430219e-06, 1.79430219e-06, 1.79430219e-06],\n",
       "         [1.79395931e-06, 1.79396841e-06, 1.79397819e-06, ...,\n",
       "          1.79393783e-06, 1.79394522e-06, 1.79395204e-06],\n",
       "         [1.79365998e-06, 1.79366396e-06, 1.79366725e-06, ...,\n",
       "          1.79365134e-06, 1.79365327e-06, 1.79365577e-06],\n",
       "         ...,\n",
       "         [1.80684390e-06, 1.80682639e-06, 1.80681059e-06, ...,\n",
       "          1.80692439e-06, 1.80689642e-06, 1.80686766e-06],\n",
       "         [1.80752590e-06, 1.80751351e-06, 1.80750123e-06, ...,\n",
       "          1.80756388e-06, 1.80755217e-06, 1.80753898e-06],\n",
       "         [1.80873030e-06, 1.80873030e-06, 1.80873030e-06, ...,\n",
       "          1.80873030e-06, 1.80873030e-06, 1.80873030e-06]],\n",
       "\n",
       "        [[1.77279696e-06, 1.77279696e-06, 1.77279696e-06, ...,\n",
       "          1.77279696e-06, 1.77279696e-06, 1.77279696e-06],\n",
       "         [1.77293487e-06, 1.77298648e-06, 1.77303468e-06, ...,\n",
       "          1.77274342e-06, 1.77281788e-06, 1.77287927e-06],\n",
       "         [1.77291031e-06, 1.77303184e-06, 1.77313075e-06, ...,\n",
       "          1.77236768e-06, 1.77256800e-06, 1.77274808e-06],\n",
       "         ...,\n",
       "         [1.82478516e-06, 1.82481540e-06, 1.82483257e-06, ...,\n",
       "          1.82462907e-06, 1.82468273e-06, 1.82473048e-06],\n",
       "         [1.82523786e-06, 1.82525810e-06, 1.82528720e-06, ...,\n",
       "          1.82519545e-06, 1.82520364e-06, 1.82522024e-06],\n",
       "         [1.82524309e-06, 1.82524309e-06, 1.82524309e-06, ...,\n",
       "          1.82524309e-06, 1.82524309e-06, 1.82524309e-06]],\n",
       "\n",
       "        ...,\n",
       "\n",
       "        [[1.39535026e-04, 1.39534648e-04, 1.39542666e-04, ...,\n",
       "          1.39538592e-04, 1.39530486e-04, 1.39546028e-04],\n",
       "         [1.54350986e-04, 1.52102628e-04, 1.50231688e-04, ...,\n",
       "          1.62944110e-04, 1.59796022e-04, 1.56905269e-04],\n",
       "         [1.87092170e-04, 1.73436390e-04, 1.56851456e-04, ...,\n",
       "          2.06489756e-04, 2.01131523e-04, 1.94799592e-04],\n",
       "         ...,\n",
       "         [5.39106026e-04, 5.34337945e-04, 5.28477365e-04, ...,\n",
       "          5.52985119e-04, 5.41405170e-04, 5.38229069e-04],\n",
       "         [6.22660969e-04, 6.14507298e-04, 6.07251597e-04, ...,\n",
       "          6.52608462e-04, 6.43285050e-04, 6.32772746e-04],\n",
       "         [6.99610740e-04, 6.99613418e-04, 6.99611206e-04, ...,\n",
       "          6.99607364e-04, 6.99608587e-04, 6.99610158e-04]],\n",
       "\n",
       "        [[1.33161244e-04, 1.33169204e-04, 1.33165333e-04, ...,\n",
       "          1.33157882e-04, 1.33166061e-04, 1.33162728e-04],\n",
       "         [1.46211780e-04, 1.44044199e-04, 1.42106743e-04, ...,\n",
       "          1.53286266e-04, 1.50810258e-04, 1.48475840e-04],\n",
       "         [1.62029435e-04, 1.51978093e-04, 1.43764119e-04, ...,\n",
       "          1.83887503e-04, 1.78894581e-04, 1.71664011e-04],\n",
       "         ...,\n",
       "         [5.09960752e-04, 5.10690268e-04, 5.11853665e-04, ...,\n",
       "          4.88225574e-04, 4.96953842e-04, 5.06274635e-04],\n",
       "         [5.64519025e-04, 5.62860921e-04, 5.61220164e-04, ...,\n",
       "          5.73970436e-04, 5.69667609e-04, 5.66559669e-04],\n",
       "         [6.13952463e-04, 6.13890530e-04, 6.13948912e-04, ...,\n",
       "          6.13934535e-04, 6.13942626e-04, 6.13913697e-04]],\n",
       "\n",
       "        [[3.68307192e-05, 3.68280707e-05, 3.68253131e-05, ...,\n",
       "          3.68255314e-05, 3.68279871e-05, 3.68285109e-05],\n",
       "         [2.37009463e-05, 2.32940529e-05, 2.29534944e-05, ...,\n",
       "          2.49637815e-05, 2.45493829e-05, 2.41251419e-05],\n",
       "         [1.51698241e-05, 1.41091523e-05, 1.32388313e-05, ...,\n",
       "          1.90382852e-05, 1.77268903e-05, 1.64048688e-05],\n",
       "         ...,\n",
       "         [1.59902134e-04, 1.66140468e-04, 1.66718703e-04, ...,\n",
       "          1.37924348e-04, 1.36683549e-04, 1.39155876e-04],\n",
       "         [1.29228545e-04, 1.30441389e-04, 1.32155154e-04, ...,\n",
       "          1.28072395e-04, 1.28380794e-04, 1.28714833e-04],\n",
       "         [1.32045345e-04, 1.32042216e-04, 1.32046494e-04, ...,\n",
       "          1.32041663e-04, 1.32051631e-04, 1.32044981e-04]]],\n",
       "\n",
       "\n",
       "       [[[1.80357654e-06, 1.80357654e-06, 1.80357654e-06, ...,\n",
       "          1.80357654e-06, 1.80357654e-06, 1.80357654e-06],\n",
       "         [1.80325969e-06, 1.80326231e-06, 1.80326549e-06, ...,\n",
       "          1.80325560e-06, 1.80325640e-06, 1.80325765e-06],\n",
       "         [1.80318420e-06, 1.80318636e-06, 1.80318864e-06, ...,\n",
       "          1.80317818e-06, 1.80318000e-06, 1.80318204e-06],\n",
       "         ...,\n",
       "         [1.79102733e-06, 1.79101892e-06, 1.79101426e-06, ...,\n",
       "          1.79106974e-06, 1.79105541e-06, 1.79104040e-06],\n",
       "         [1.79193466e-06, 1.79189874e-06, 1.79186566e-06, ...,\n",
       "          1.79205313e-06, 1.79201004e-06, 1.79197116e-06],\n",
       "         [1.79236758e-06, 1.79236758e-06, 1.79236758e-06, ...,\n",
       "          1.79236758e-06, 1.79236758e-06, 1.79236758e-06]],\n",
       "\n",
       "        [[1.79434812e-06, 1.79434812e-06, 1.79434812e-06, ...,\n",
       "          1.79434812e-06, 1.79434812e-06, 1.79434812e-06],\n",
       "         [1.79396477e-06, 1.79397455e-06, 1.79398489e-06, ...,\n",
       "          1.79394260e-06, 1.79394954e-06, 1.79395681e-06],\n",
       "         [1.79364747e-06, 1.79365122e-06, 1.79365418e-06, ...,\n",
       "          1.79364133e-06, 1.79364213e-06, 1.79364383e-06],\n",
       "         ...,\n",
       "         [1.80683628e-06, 1.80681832e-06, 1.80680115e-06, ...,\n",
       "          1.80691723e-06, 1.80688346e-06, 1.80685652e-06],\n",
       "         [1.80762481e-06, 1.80761469e-06, 1.80760799e-06, ...,\n",
       "          1.80766358e-06, 1.80765051e-06, 1.80763698e-06],\n",
       "         [1.80886173e-06, 1.80886173e-06, 1.80886173e-06, ...,\n",
       "          1.80886173e-06, 1.80886173e-06, 1.80886173e-06]],\n",
       "\n",
       "        [[1.77289678e-06, 1.77289678e-06, 1.77289678e-06, ...,\n",
       "          1.77289678e-06, 1.77289678e-06, 1.77289678e-06],\n",
       "         [1.77297727e-06, 1.77302434e-06, 1.77306845e-06, ...,\n",
       "          1.77281140e-06, 1.77287507e-06, 1.77292816e-06],\n",
       "         [1.77295624e-06, 1.77306231e-06, 1.77315326e-06, ...,\n",
       "          1.77247125e-06, 1.77265008e-06, 1.77281265e-06],\n",
       "         ...,\n",
       "         [1.82514009e-06, 1.82514282e-06, 1.82513611e-06, ...,\n",
       "          1.82501572e-06, 1.82506813e-06, 1.82510485e-06],\n",
       "         [1.82539895e-06, 1.82542419e-06, 1.82544511e-06, ...,\n",
       "          1.82530835e-06, 1.82532858e-06, 1.82536814e-06],\n",
       "         [1.82528777e-06, 1.82528777e-06, 1.82528777e-06, ...,\n",
       "          1.82528777e-06, 1.82528777e-06, 1.82528777e-06]],\n",
       "\n",
       "        ...,\n",
       "\n",
       "        [[1.39535230e-04, 1.39533120e-04, 1.39537471e-04, ...,\n",
       "          1.39544165e-04, 1.39553536e-04, 1.39553013e-04],\n",
       "         [1.53705143e-04, 1.51477434e-04, 1.49704458e-04, ...,\n",
       "          1.62533295e-04, 1.59275369e-04, 1.56293128e-04],\n",
       "         [1.82205025e-04, 1.66646932e-04, 1.52435328e-04, ...,\n",
       "          2.04282624e-04, 1.98630980e-04, 1.92060572e-04],\n",
       "         ...,\n",
       "         [5.42902621e-04, 5.37329004e-04, 5.33548475e-04, ...,\n",
       "          5.50998142e-04, 5.42292721e-04, 5.41549292e-04],\n",
       "         [6.20962470e-04, 6.12965785e-04, 6.05416251e-04, ...,\n",
       "          6.51416369e-04, 6.41118851e-04, 6.30597118e-04],\n",
       "         [6.98978547e-04, 6.98978954e-04, 6.98981457e-04, ...,\n",
       "          6.98975928e-04, 6.98979478e-04, 6.98980701e-04]],\n",
       "\n",
       "        [[1.33052759e-04, 1.33037131e-04, 1.33053079e-04, ...,\n",
       "          1.33056456e-04, 1.33064037e-04, 1.33064037e-04],\n",
       "         [1.45606056e-04, 1.43460566e-04, 1.41556331e-04, ...,\n",
       "          1.52799097e-04, 1.50278167e-04, 1.47884901e-04],\n",
       "         [1.58420677e-04, 1.48762789e-04, 1.41157623e-04, ...,\n",
       "          1.82625896e-04, 1.76764588e-04, 1.68483501e-04],\n",
       "         ...,\n",
       "         [5.12800179e-04, 5.13353909e-04, 5.14621614e-04, ...,\n",
       "          4.90699429e-04, 5.00423950e-04, 5.09641890e-04],\n",
       "         [5.66975214e-04, 5.65240742e-04, 5.63513662e-04, ...,\n",
       "          5.76611608e-04, 5.72228106e-04, 5.69035707e-04],\n",
       "         [6.16752484e-04, 6.16751262e-04, 6.16750272e-04, ...,\n",
       "          6.16731006e-04, 6.16740086e-04, 6.16779376e-04]],\n",
       "\n",
       "        [[3.67564571e-05, 3.67594112e-05, 3.67562061e-05, ...,\n",
       "          3.67574139e-05, 3.67600987e-05, 3.67593420e-05],\n",
       "         [2.34752388e-05, 2.30853530e-05, 2.27659548e-05, ...,\n",
       "          2.47084081e-05, 2.42996430e-05, 2.38833618e-05],\n",
       "         [1.50111218e-05, 1.39761887e-05, 1.31358975e-05, ...,\n",
       "          1.88729700e-05, 1.75648311e-05, 1.62347987e-05],\n",
       "         ...,\n",
       "         [1.60322597e-04, 1.66475438e-04, 1.66997226e-04, ...,\n",
       "          1.37704090e-04, 1.36822055e-04, 1.39479249e-04],\n",
       "         [1.29428241e-04, 1.30681889e-04, 1.32348272e-04, ...,\n",
       "          1.28264088e-04, 1.28585321e-04, 1.28937987e-04],\n",
       "         [1.32294765e-04, 1.32300687e-04, 1.32297020e-04, ...,\n",
       "          1.32291869e-04, 1.32283123e-04, 1.32293411e-04]]],\n",
       "\n",
       "\n",
       "       [[[1.80356676e-06, 1.80356676e-06, 1.80356676e-06, ...,\n",
       "          1.80356676e-06, 1.80356676e-06, 1.80356676e-06],\n",
       "         [1.80325810e-06, 1.80326128e-06, 1.80326492e-06, ...,\n",
       "          1.80325173e-06, 1.80325344e-06, 1.80325537e-06],\n",
       "         [1.80318125e-06, 1.80318386e-06, 1.80318648e-06, ...,\n",
       "          1.80317511e-06, 1.80317704e-06, 1.80317886e-06],\n",
       "         ...,\n",
       "         [1.79103517e-06, 1.79103711e-06, 1.79104450e-06, ...,\n",
       "          1.79107008e-06, 1.79105450e-06, 1.79104234e-06],\n",
       "         [1.79190522e-06, 1.79187236e-06, 1.79184030e-06, ...,\n",
       "          1.79201322e-06, 1.79197593e-06, 1.79193955e-06],\n",
       "         [1.79232893e-06, 1.79232893e-06, 1.79232893e-06, ...,\n",
       "          1.79232893e-06, 1.79232893e-06, 1.79232893e-06]],\n",
       "\n",
       "        [[1.79439451e-06, 1.79439451e-06, 1.79439451e-06, ...,\n",
       "          1.79439451e-06, 1.79439451e-06, 1.79439451e-06],\n",
       "         [1.79397114e-06, 1.79398160e-06, 1.79399274e-06, ...,\n",
       "          1.79394715e-06, 1.79395488e-06, 1.79396238e-06],\n",
       "         [1.79363326e-06, 1.79363724e-06, 1.79364042e-06, ...,\n",
       "          1.79362758e-06, 1.79362769e-06, 1.79362917e-06],\n",
       "         ...,\n",
       "         [1.80683423e-06, 1.80681877e-06, 1.80680729e-06, ...,\n",
       "          1.80690881e-06, 1.80687755e-06, 1.80685379e-06],\n",
       "         [1.80774714e-06, 1.80774816e-06, 1.80775203e-06, ...,\n",
       "          1.80777010e-06, 1.80775908e-06, 1.80775055e-06],\n",
       "         [1.80899428e-06, 1.80899428e-06, 1.80899428e-06, ...,\n",
       "          1.80899428e-06, 1.80899428e-06, 1.80899428e-06]],\n",
       "\n",
       "        [[1.77299569e-06, 1.77299569e-06, 1.77299569e-06, ...,\n",
       "          1.77299569e-06, 1.77299569e-06, 1.77299569e-06],\n",
       "         [1.77301661e-06, 1.77305947e-06, 1.77309926e-06, ...,\n",
       "          1.77287211e-06, 1.77292486e-06, 1.77297147e-06],\n",
       "         [1.77299182e-06, 1.77308982e-06, 1.77317168e-06, ...,\n",
       "          1.77255743e-06, 1.77271943e-06, 1.77286609e-06],\n",
       "         ...,\n",
       "         [1.82537588e-06, 1.82537735e-06, 1.82538417e-06, ...,\n",
       "          1.82533120e-06, 1.82535700e-06, 1.82536439e-06],\n",
       "         [1.82552787e-06, 1.82554493e-06, 1.82555857e-06, ...,\n",
       "          1.82546512e-06, 1.82548740e-06, 1.82550900e-06],\n",
       "         [1.82531130e-06, 1.82531130e-06, 1.82531130e-06, ...,\n",
       "          1.82531130e-06, 1.82531130e-06, 1.82531130e-06]],\n",
       "\n",
       "        ...,\n",
       "\n",
       "        [[1.39632553e-04, 1.39618249e-04, 1.39621960e-04, ...,\n",
       "          1.39641415e-04, 1.39629206e-04, 1.39628566e-04],\n",
       "         [1.53131667e-04, 1.50964814e-04, 1.49290659e-04, ...,\n",
       "          1.62165685e-04, 1.58791678e-04, 1.55748916e-04],\n",
       "         [1.76067377e-04, 1.60343669e-04, 1.48844265e-04, ...,\n",
       "          2.01882882e-04, 1.96030713e-04, 1.88452046e-04],\n",
       "         ...,\n",
       "         [5.46530704e-04, 5.41277521e-04, 5.39201137e-04, ...,\n",
       "          5.49838878e-04, 5.44549315e-04, 5.45634539e-04],\n",
       "         [6.19159779e-04, 6.11103780e-04, 6.03884924e-04, ...,\n",
       "          6.49413618e-04, 6.38821628e-04, 6.28615264e-04],\n",
       "         [6.98425109e-04, 6.98428194e-04, 6.98429765e-04, ...,\n",
       "          6.98429474e-04, 6.98429125e-04, 6.98430173e-04]],\n",
       "\n",
       "        [[1.32978283e-04, 1.32982095e-04, 1.32977919e-04, ...,\n",
       "          1.32982575e-04, 1.32990797e-04, 1.32988236e-04],\n",
       "         [1.45046608e-04, 1.42917765e-04, 1.41033830e-04, ...,\n",
       "          1.52297420e-04, 1.49727464e-04, 1.47302053e-04],\n",
       "         [1.54650421e-04, 1.45546452e-04, 1.38682648e-04, ...,\n",
       "          1.80859832e-04, 1.73988767e-04, 1.64844401e-04],\n",
       "         ...,\n",
       "         [5.15440071e-04, 5.15941181e-04, 5.17288223e-04, ...,\n",
       "          4.93592001e-04, 5.04038588e-04, 5.12917875e-04],\n",
       "         [5.69500728e-04, 5.67628886e-04, 5.65737369e-04, ...,\n",
       "          5.79258602e-04, 5.74790116e-04, 5.71588054e-04],\n",
       "         [6.19690341e-04, 6.19671308e-04, 6.19694358e-04, ...,\n",
       "          6.19661121e-04, 6.19684986e-04, 6.19651517e-04]],\n",
       "\n",
       "        [[3.66558052e-05, 3.66528620e-05, 3.66556342e-05, ...,\n",
       "          3.66513159e-05, 3.66532477e-05, 3.66538516e-05],\n",
       "         [2.32413349e-05, 2.28707831e-05, 2.25719505e-05, ...,\n",
       "          2.44628209e-05, 2.40605259e-05, 2.36447722e-05],\n",
       "         [1.48867866e-05, 1.38738387e-05, 1.30700009e-05, ...,\n",
       "          1.87018923e-05, 1.73931312e-05, 1.60791114e-05],\n",
       "         ...,\n",
       "         [1.60858617e-04, 1.66913393e-04, 1.67449660e-04, ...,\n",
       "          1.37587864e-04, 1.37020528e-04, 1.39907235e-04],\n",
       "         [1.29668013e-04, 1.30929737e-04, 1.32601592e-04, ...,\n",
       "          1.28494808e-04, 1.28827975e-04, 1.29181353e-04],\n",
       "         [1.32563800e-04, 1.32577581e-04, 1.32567890e-04, ...,\n",
       "          1.32568079e-04, 1.32569839e-04, 1.32565765e-04]]]],\n",
       "      dtype=float32)"
      ]
     },
     "execution_count": 26,
     "metadata": {},
     "output_type": "execute_result"
    }
   ],
   "source": [
    "data2.QBC.values"
   ]
  },
  {
   "cell_type": "code",
   "execution_count": 27,
   "metadata": {},
   "outputs": [
    {
     "data": {
      "text/plain": [
       "array([[[[224.36955, 224.36955, 224.36955, ..., 224.36955, 224.36955,\n",
       "          224.36955],\n",
       "         [223.66774, 223.69522, 223.72635, ..., 223.59074, 223.61618,\n",
       "          223.64293],\n",
       "         [223.01718, 223.0762 , 223.13766, ..., 222.87074, 222.91643,\n",
       "          222.9634 ],\n",
       "         ...,\n",
       "         [227.57184, 227.5877 , 227.6012 , ..., 227.51472, 227.53508,\n",
       "          227.55402],\n",
       "         [227.80241, 227.84062, 227.88382, ..., 227.72092, 227.74217,\n",
       "          227.76952],\n",
       "         [227.35808, 227.35806, 227.35806, ..., 227.35806, 227.35808,\n",
       "          227.35808]],\n",
       "\n",
       "        [[219.0596 , 219.0596 , 219.0596 , ..., 219.0596 , 219.0596 ,\n",
       "          219.0596 ],\n",
       "         [218.36218, 218.38295, 218.40862, ..., 218.30157, 218.32167,\n",
       "          218.34348],\n",
       "         [217.824  , 217.86707, 217.90825, ..., 217.71173, 217.74707,\n",
       "          217.78218],\n",
       "         ...,\n",
       "         [226.71455, 226.73491, 226.74908, ..., 226.5798 , 226.63922,\n",
       "          226.683  ],\n",
       "         [226.13365, 226.21327, 226.29166, ..., 225.90706, 225.9805 ,\n",
       "          226.05571],\n",
       "         [224.72774, 224.72772, 224.72772, ..., 224.72772, 224.72774,\n",
       "          224.72774]],\n",
       "\n",
       "        [[217.90997, 217.90997, 217.90997, ..., 217.90997, 217.90997,\n",
       "          217.90997],\n",
       "         [217.34142, 217.36311, 217.39055, ..., 217.27957, 217.30122,\n",
       "          217.32326],\n",
       "         [216.80946, 216.8701 , 216.92572, ..., 216.65233, 216.69968,\n",
       "          216.7484 ],\n",
       "         ...,\n",
       "         [220.54605, 220.76724, 220.98747, ..., 219.91011, 220.1163 ,\n",
       "          220.32768],\n",
       "         [219.31927, 219.36949, 219.41985, ..., 219.15883, 219.21445,\n",
       "          219.26833],\n",
       "         [218.77444, 218.77444, 218.77444, ..., 218.77444, 218.77444,\n",
       "          218.77444]],\n",
       "\n",
       "        ...,\n",
       "\n",
       "        [[234.19785, 234.1972 , 234.1978 , ..., 234.19748, 234.19713,\n",
       "          234.19681],\n",
       "         [235.686  , 235.55074, 235.41623, ..., 236.10588, 235.96628,\n",
       "          235.82741],\n",
       "         [237.73459, 237.46397, 237.10526, ..., 238.6154 , 238.33531,\n",
       "          238.03464],\n",
       "         ...,\n",
       "         [251.78552, 251.7747 , 251.81204, ..., 252.18753, 251.95981,\n",
       "          251.84514],\n",
       "         [252.88878, 252.8625 , 252.82904, ..., 252.89542, 252.91348,\n",
       "          252.90866],\n",
       "         [253.76508, 253.76476, 253.76474, ..., 253.7654 , 253.76695,\n",
       "          253.76602]],\n",
       "\n",
       "        [[234.19148, 234.1902 , 234.1896 , ..., 234.19138, 234.19151,\n",
       "          234.19148],\n",
       "         [235.45444, 235.31042, 235.16594, ..., 235.88701, 235.7439 ,\n",
       "          235.59843],\n",
       "         [236.67516, 236.43765, 236.14499, ..., 237.40819, 237.11227,\n",
       "          236.86014],\n",
       "         ...,\n",
       "         [249.76955, 249.73114, 249.74168, ..., 250.17249, 249.98375,\n",
       "          249.84753],\n",
       "         [251.23494, 251.20184, 251.16672, ..., 251.23042, 251.25946,\n",
       "          251.25638],\n",
       "         [252.13585, 252.1357 , 252.1351 , ..., 252.13553, 252.13475,\n",
       "          252.13528]],\n",
       "\n",
       "        [[222.93137, 222.93158, 222.9312 , ..., 222.93127, 222.93127,\n",
       "          222.93059],\n",
       "         [220.1662 , 220.05836, 219.96477, ..., 220.58737, 220.43777,\n",
       "          220.29538],\n",
       "         [216.59213, 216.22887, 215.96378, ..., 218.04953, 217.52904,\n",
       "          217.03835],\n",
       "         ...,\n",
       "         [239.52432, 239.82314, 239.82173, ..., 238.89587, 238.49263,\n",
       "          238.50937],\n",
       "         [237.6347 , 237.7201 , 237.83043, ..., 237.59146, 237.58267,\n",
       "          237.5955 ],\n",
       "         [237.88971, 237.8902 , 237.88914, ..., 237.88956, 237.88953,\n",
       "          237.88943]]],\n",
       "\n",
       "\n",
       "       [[[224.36337, 224.36337, 224.36337, ..., 224.36337, 224.36337,\n",
       "          224.36337],\n",
       "         [223.6568 , 223.68425, 223.71501, ..., 223.58162, 223.60661,\n",
       "          223.63272],\n",
       "         [223.00082, 223.05956, 223.12065, ..., 222.85527, 222.90054,\n",
       "          222.94719],\n",
       "         ...,\n",
       "         [227.57462, 227.59053, 227.60425, ..., 227.51355, 227.53577,\n",
       "          227.55621],\n",
       "         [227.8043 , 227.8437 , 227.88799, ..., 227.72037, 227.74239,\n",
       "          227.77036],\n",
       "         [227.35611, 227.35611, 227.35611, ..., 227.35611, 227.35611,\n",
       "          227.35611]],\n",
       "\n",
       "        [[219.04573, 219.04572, 219.04572, ..., 219.04573, 219.04573,\n",
       "          219.04573],\n",
       "         [218.34329, 218.36476, 218.3904 , ..., 218.28278, 218.30316,\n",
       "          218.32501],\n",
       "         [217.79883, 217.84196, 217.8839 , ..., 217.68744, 217.72249,\n",
       "          217.75723],\n",
       "         ...,\n",
       "         [226.72844, 226.7482 , 226.76349, ..., 226.59782, 226.65475,\n",
       "          226.69763],\n",
       "         [226.13536, 226.21321, 226.28993, ..., 225.91652, 225.9876 ,\n",
       "          226.05965],\n",
       "         [224.70293, 224.70293, 224.70293, ..., 224.70293, 224.70293,\n",
       "          224.70293]],\n",
       "\n",
       "        [[217.91672, 217.91672, 217.91672, ..., 217.91672, 217.91672,\n",
       "          217.91672],\n",
       "         [217.34773, 217.37012, 217.39731, ..., 217.28575, 217.30783,\n",
       "          217.33006],\n",
       "         [216.8158 , 216.87633, 216.93164, ..., 216.65616, 216.70428,\n",
       "          216.75395],\n",
       "         ...,\n",
       "         [220.49626, 220.71512, 220.93541, ..., 219.86311, 220.06781,\n",
       "          220.27945],\n",
       "         [219.2488 , 219.29788, 219.34665, ..., 219.09511, 219.14847,\n",
       "          219.19981],\n",
       "         [218.70674, 218.70674, 218.70674, ..., 218.70674, 218.70674,\n",
       "          218.70674]],\n",
       "\n",
       "        ...,\n",
       "\n",
       "        [[234.18561, 234.18475, 234.18532, ..., 234.18506, 234.18466,\n",
       "          234.18436],\n",
       "         [235.64986, 235.51318, 235.37846, ..., 236.07379, 235.93277,\n",
       "          235.79257],\n",
       "         [237.71176, 237.43394, 237.06839, ..., 238.60951, 238.31917,\n",
       "          238.01137],\n",
       "         ...,\n",
       "         [251.8265 , 251.83504, 251.85886, ..., 252.17363, 251.97343,\n",
       "          251.88084],\n",
       "         [252.91914, 252.88446, 252.85104, ..., 252.95053, 252.95749,\n",
       "          252.94444],\n",
       "         [253.79532, 253.79503, 253.7952 , ..., 253.79538, 253.79431,\n",
       "          253.79617]],\n",
       "\n",
       "        [[234.16922, 234.16888, 234.16907, ..., 234.16902, 234.16913,\n",
       "          234.1692 ],\n",
       "         [235.43027, 235.28769, 235.14307, ..., 235.86548, 235.72112,\n",
       "          235.57443],\n",
       "         [236.70914, 236.44984, 236.14893, ..., 237.42941, 237.13222,\n",
       "          236.89693],\n",
       "         ...,\n",
       "         [249.82433, 249.80035, 249.84341, ..., 250.15038, 249.97534,\n",
       "          249.87613],\n",
       "         [251.2785 , 251.24295, 251.20619, ..., 251.30467, 251.32097,\n",
       "          251.30565],\n",
       "         [252.17833, 252.17802, 252.1789 , ..., 252.1779 , 252.17848,\n",
       "          252.17764]],\n",
       "\n",
       "        [[222.97667, 222.97708, 222.97658, ..., 222.9766 , 222.97668,\n",
       "          222.97734],\n",
       "         [220.2145 , 220.10347, 220.00305, ..., 220.63664, 220.48729,\n",
       "          220.34457],\n",
       "         [216.64879, 216.2624 , 215.98329, ..., 218.13158, 217.6036 ,\n",
       "          217.10287],\n",
       "         ...,\n",
       "         [239.50668, 239.81262, 239.82397, ..., 238.81021, 238.42538,\n",
       "          238.46327],\n",
       "         [237.61938, 237.70793, 237.81982, ..., 237.56856, 237.56331,\n",
       "          237.58066],\n",
       "         [237.87753, 237.8783 , 237.87698, ..., 237.87764, 237.87764,\n",
       "          237.87749]]],\n",
       "\n",
       "\n",
       "       [[[224.35876, 224.35875, 224.35875, ..., 224.35876, 224.35876,\n",
       "          224.35876],\n",
       "         [223.64604, 223.67339, 223.70358, ..., 223.57227, 223.59685,\n",
       "          223.62236],\n",
       "         [222.98514, 223.04343, 223.10408, ..., 222.84085, 222.88576,\n",
       "          222.93193],\n",
       "         ...,\n",
       "         [227.57292, 227.58803, 227.60086, ..., 227.51044, 227.53383,\n",
       "          227.55466],\n",
       "         [227.79784, 227.83817, 227.88324, ..., 227.71162, 227.73402,\n",
       "          227.76292],\n",
       "         [227.34772, 227.34772, 227.34772, ..., 227.34772, 227.34772,\n",
       "          227.34772]],\n",
       "\n",
       "        [[219.02948, 219.02948, 219.02948, ..., 219.02948, 219.02948,\n",
       "          219.02948],\n",
       "         [218.32286, 218.34468, 218.36984, ..., 218.26251, 218.28284,\n",
       "          218.30478],\n",
       "         [217.77203, 217.81552, 217.85844, ..., 217.66183, 217.6965 ,\n",
       "          217.73082],\n",
       "         ...,\n",
       "         [226.73201, 226.75238, 226.7678 , ..., 226.59956, 226.65765,\n",
       "          226.70062],\n",
       "         [226.11653, 226.19312, 226.26846, ..., 225.90337, 225.97176,\n",
       "          226.04248],\n",
       "         [224.65741, 224.65741, 224.65741, ..., 224.65741, 224.65741,\n",
       "          224.65741]],\n",
       "\n",
       "        [[217.92036, 217.92036, 217.92036, ..., 217.92036, 217.92036,\n",
       "          217.92036],\n",
       "         [217.35112, 217.37383, 217.40018, ..., 217.2894 , 217.31137,\n",
       "          217.33363],\n",
       "         [216.81874, 216.87862, 216.93398, ..., 216.65778, 216.70683,\n",
       "          216.75717],\n",
       "         ...,\n",
       "         [220.44002, 220.65718, 220.87471, ..., 219.80879, 220.01295,\n",
       "          220.2234 ],\n",
       "         [219.17923, 219.22769, 219.27583, ..., 219.03212, 219.08252,\n",
       "          219.13145],\n",
       "         [218.64719, 218.64719, 218.6472 , ..., 218.64719, 218.64719,\n",
       "          218.64719]],\n",
       "\n",
       "        ...,\n",
       "\n",
       "        [[234.17444, 234.17358, 234.17409, ..., 234.17397, 234.1735 ,\n",
       "          234.17317],\n",
       "         [235.61374, 235.47565, 235.34056, ..., 236.0431 , 235.89862,\n",
       "          235.75633],\n",
       "         [237.68605, 237.40082, 237.02655, ..., 238.59943, 238.29787,\n",
       "          237.98523],\n",
       "         ...,\n",
       "         [251.86485, 251.88716, 251.91098, ..., 252.15253, 251.99004,\n",
       "          251.91106],\n",
       "         [252.93875, 252.90372, 252.86766, ..., 252.99461, 252.99344,\n",
       "          252.972  ],\n",
       "         [253.8202 , 253.81985, 253.81995, ..., 253.82011, 253.82187,\n",
       "          253.82083]],\n",
       "\n",
       "        [[234.14867, 234.14926, 234.14812, ..., 234.14925, 234.14925,\n",
       "          234.149  ],\n",
       "         [235.40405, 235.26225, 235.11742, ..., 235.84138, 235.69687,\n",
       "          235.54942],\n",
       "         [236.7344 , 236.45789, 236.14873, ..., 237.44476, 237.15004,\n",
       "          236.93301],\n",
       "         ...,\n",
       "         [249.88469, 249.87819, 249.94643, ..., 250.12431, 249.97534,\n",
       "          249.91301],\n",
       "         [251.31834, 251.28004, 251.24332, ..., 251.37425, 251.37701,\n",
       "          251.35172],\n",
       "         [252.21912, 252.22043, 252.2199 , ..., 252.22028, 252.21925,\n",
       "          252.21988]],\n",
       "\n",
       "        [[223.0179 , 223.01825, 223.01765, ..., 223.01775, 223.01779,\n",
       "          223.01855],\n",
       "         [220.25   , 220.13335, 220.02736, ..., 220.67381, 220.5241 ,\n",
       "          220.38272],\n",
       "         [216.70251, 216.3028 , 216.01204, ..., 218.20601, 217.67859,\n",
       "          217.16757],\n",
       "         ...,\n",
       "         [239.49829, 239.80743, 239.83202, ..., 238.73912, 238.36794,\n",
       "          238.42528],\n",
       "         [237.61371, 237.70178, 237.81346, ..., 237.55553, 237.55405,\n",
       "          237.57437],\n",
       "         [237.87143, 237.8719 , 237.87178, ..., 237.8711 , 237.87169,\n",
       "          237.87134]]],\n",
       "\n",
       "\n",
       "       ...,\n",
       "\n",
       "\n",
       "       [[[224.38753, 224.38753, 224.38753, ..., 224.38753, 224.38753,\n",
       "          224.38753],\n",
       "         [223.61287, 223.64594, 223.68112, ..., 223.5278 , 223.55493,\n",
       "          223.58275],\n",
       "         [222.84032, 222.91136, 222.98322, ..., 222.64944, 222.71184,\n",
       "          222.77202],\n",
       "         ...,\n",
       "         [227.3985 , 227.3797 , 227.36078, ..., 227.43547, 227.42793,\n",
       "          227.41512],\n",
       "         [227.57657, 227.61172, 227.64978, ..., 227.49677, 227.51833,\n",
       "          227.54509],\n",
       "         [227.17026, 227.17026, 227.17026, ..., 227.17026, 227.17026,\n",
       "          227.17026]],\n",
       "\n",
       "        [[218.80034, 218.80034, 218.80034, ..., 218.80035, 218.80035,\n",
       "          218.80035],\n",
       "         [218.10825, 218.1296 , 218.15225, ..., 218.04771, 218.07036,\n",
       "          218.0893 ],\n",
       "         [217.51862, 217.56885, 217.61804, ..., 217.38202, 217.4246 ,\n",
       "          217.46753],\n",
       "         ...,\n",
       "         [226.65381, 226.71597, 226.77818, ..., 226.42818, 226.51384,\n",
       "          226.58742],\n",
       "         [225.11038, 225.17494, 225.24103, ..., 224.92938, 224.98712,\n",
       "          225.04742],\n",
       "         [223.3992 , 223.3992 , 223.3992 , ..., 223.3992 , 223.3992 ,\n",
       "          223.3992 ]],\n",
       "\n",
       "        [[217.7712 , 217.7712 , 217.7712 , ..., 217.7712 , 217.7712 ,\n",
       "          217.7712 ],\n",
       "         [217.24112, 217.26207, 217.28333, ..., 217.18214, 217.2042 ,\n",
       "          217.22247],\n",
       "         [216.71896, 216.77094, 216.81973, ..., 216.56949, 216.61449,\n",
       "          216.66241],\n",
       "         ...,\n",
       "         [219.89342, 220.07953, 220.26277, ..., 219.33206, 219.52274,\n",
       "          219.70866],\n",
       "         [219.27893, 219.34665, 219.41359, ..., 219.06876, 219.1393 ,\n",
       "          219.21037],\n",
       "         [219.01494, 219.01494, 219.01494, ..., 219.01494, 219.01494,\n",
       "          219.01494]],\n",
       "\n",
       "        ...,\n",
       "\n",
       "        [[234.0666 , 234.06662, 234.06711, ..., 234.06686, 234.06635,\n",
       "          234.06735],\n",
       "         [235.16841, 235.01796, 234.88861, ..., 235.7129 , 235.51805,\n",
       "          235.33475],\n",
       "         [237.29431, 236.93683, 236.5206 , ..., 238.32954, 237.98932,\n",
       "          237.65103],\n",
       "         ...,\n",
       "         [252.5158 , 252.60486, 252.67027, ..., 252.1968 , 252.28947,\n",
       "          252.40839],\n",
       "         [253.13408, 253.11879, 253.10986, ..., 253.23813, 253.19543,\n",
       "          253.15953],\n",
       "         [254.0497 , 254.0519 , 254.05173, ..., 254.0514 , 254.05287,\n",
       "          254.05078]],\n",
       "\n",
       "        [[234.01772, 234.01822, 234.01797, ..., 234.01752, 234.01804,\n",
       "          234.0178 ],\n",
       "         [235.0536 , 234.90079, 234.76097, ..., 235.53537, 235.36964,\n",
       "          235.21034],\n",
       "         [236.62346, 236.26396, 235.84598, ..., 237.57794, 237.29242,\n",
       "          236.98317],\n",
       "         ...,\n",
       "         [250.69421, 250.70442, 250.7235 , ..., 250.26233, 250.43942,\n",
       "          250.62492],\n",
       "         [251.7628 , 251.72977, 251.69707, ..., 251.94203, 251.86183,\n",
       "          251.80275],\n",
       "         [252.66385, 252.66278, 252.66382, ..., 252.66356, 252.6637 ,\n",
       "          252.66322]],\n",
       "\n",
       "        [[223.28293, 223.2824 , 223.28174, ..., 223.28177, 223.28232,\n",
       "          223.28235],\n",
       "         [219.93805, 219.78552, 219.65335, ..., 220.39772, 220.24873,\n",
       "          220.09456],\n",
       "         [216.6284 , 216.04529, 215.53148, ..., 218.47531, 217.88956,\n",
       "          217.26045],\n",
       "         ...,\n",
       "         [239.59422, 239.94778, 239.97643, ..., 238.23384, 238.14752,\n",
       "          238.30923],\n",
       "         [237.64757, 237.73087, 237.84842, ..., 237.57234, 237.59203,\n",
       "          237.61343],\n",
       "         [237.87552, 237.87535, 237.87561, ..., 237.87529, 237.87602,\n",
       "          237.87549]]],\n",
       "\n",
       "\n",
       "       [[[224.37718, 224.37718, 224.37718, ..., 224.37718, 224.37718,\n",
       "          224.37718],\n",
       "         [223.60461, 223.63727, 223.67207, ..., 223.51974, 223.54675,\n",
       "          223.57468],\n",
       "         [222.84067, 222.90895, 222.97884, ..., 222.6596 , 222.71626,\n",
       "          222.77551],\n",
       "         ...,\n",
       "         [227.3818 , 227.38611, 227.38673, ..., 227.42844, 227.41658,\n",
       "          227.40001],\n",
       "         [227.57538, 227.60803, 227.64331, ..., 227.5017 , 227.5214 ,\n",
       "          227.54619],\n",
       "         [227.18431, 227.18431, 227.18431, ..., 227.18431, 227.18431,\n",
       "          227.18433]],\n",
       "\n",
       "        [[218.76611, 218.76611, 218.76611, ..., 218.76613, 218.76613,\n",
       "          218.76611],\n",
       "         [218.07028, 218.09242, 218.11566, ..., 218.01279, 218.03271,\n",
       "          218.05086],\n",
       "         [217.4915 , 217.53996, 217.58841, ..., 217.36203, 217.40178,\n",
       "          217.44292],\n",
       "         ...,\n",
       "         [226.64662, 226.72594, 226.80298, ..., 226.40463, 226.49422,\n",
       "          226.57343],\n",
       "         [224.99695, 225.06403, 225.13316, ..., 224.81598, 224.8726 ,\n",
       "          224.9329 ],\n",
       "         [223.2671 , 223.2671 , 223.2671 , ..., 223.2671 , 223.2671 ,\n",
       "          223.2671 ]],\n",
       "\n",
       "        [[217.75516, 217.75516, 217.75516, ..., 217.75516, 217.75516,\n",
       "          217.75516],\n",
       "         [217.22989, 217.25009, 217.27028, ..., 217.17467, 217.19548,\n",
       "          217.2123 ],\n",
       "         [216.71182, 216.76163, 216.80971, ..., 216.5683 , 216.6117 ,\n",
       "          216.65733],\n",
       "         ...,\n",
       "         [219.86238, 220.04355, 220.23936, ..., 219.32588, 219.50682,\n",
       "          219.686  ],\n",
       "         [219.36021, 219.42857, 219.49568, ..., 219.14351, 219.21703,\n",
       "          219.29045],\n",
       "         [219.0993 , 219.0993 , 219.09929, ..., 219.0993 , 219.09929,\n",
       "          219.0993 ]],\n",
       "\n",
       "        ...,\n",
       "\n",
       "        [[234.0672 , 234.06703, 234.0673 , ..., 234.06773, 234.0683 ,\n",
       "          234.06831],\n",
       "         [235.13074, 234.98102, 234.8571 , ..., 235.69017, 235.48865,\n",
       "          235.29955],\n",
       "         [237.26135, 236.88606, 236.44511, ..., 238.29933, 237.95906,\n",
       "          237.61798],\n",
       "         ...,\n",
       "         [252.5875 , 252.66534, 252.72246, ..., 252.23819, 252.35292,\n",
       "          252.47977],\n",
       "         [253.167  , 253.15457, 253.14557, ..., 253.2685 , 253.22572,\n",
       "          253.18976],\n",
       "         [254.07744, 254.0768 , 254.07646, ..., 254.07593, 254.07784,\n",
       "          254.07559]],\n",
       "\n",
       "        [[234.01099, 234.00996, 234.011  , ..., 234.01126, 234.01175,\n",
       "          234.01175],\n",
       "         [235.01631, 234.86441, 234.72632, ..., 235.50673, 235.33789,\n",
       "          235.17451],\n",
       "         [236.59308, 236.20763, 235.75931, ..., 237.57089, 237.28053,\n",
       "          236.95404],\n",
       "         ...,\n",
       "         [250.74986, 250.75662, 250.7776 , ..., 250.31285, 250.50935,\n",
       "          250.69157],\n",
       "         [251.80652, 251.77223, 251.73799, ..., 251.98834, 251.90703,\n",
       "          251.84663],\n",
       "         [252.71036, 252.71031, 252.71033, ..., 252.70995, 252.71011,\n",
       "          252.71077]],\n",
       "\n",
       "        [[223.26701, 223.26772, 223.26695, ..., 223.2673 , 223.26778,\n",
       "          223.26768],\n",
       "         [219.86299, 219.71478, 219.5892 , ..., 220.31648, 220.168  ,\n",
       "          220.01512],\n",
       "         [216.54788, 215.97287, 215.4726 , ..., 218.40698, 217.81848,\n",
       "          217.17992],\n",
       "         ...,\n",
       "         [239.61783, 239.96574, 239.99121, ..., 238.21829, 238.15596,\n",
       "          238.32971],\n",
       "         [237.66084, 237.74684, 237.86087, ..., 237.58516, 237.60573,\n",
       "          237.62845],\n",
       "         [237.89223, 237.89262, 237.8924 , ..., 237.89206, 237.89145,\n",
       "          237.89217]]],\n",
       "\n",
       "\n",
       "       [[[224.36646, 224.36646, 224.36646, ..., 224.36646, 224.36646,\n",
       "          224.36646],\n",
       "         [223.5941 , 223.62718, 223.66248, ..., 223.51033, 223.53687,\n",
       "          223.5641 ],\n",
       "         [222.83482, 222.90204, 222.97101, ..., 222.6612 , 222.71445,\n",
       "          222.77129],\n",
       "         ...,\n",
       "         [227.43222, 227.4308 , 227.42773, ..., 227.42445, 227.43224,\n",
       "          227.43152],\n",
       "         [227.5796 , 227.62819, 227.6816 , ..., 227.51242, 227.52966,\n",
       "          227.55174],\n",
       "         [227.2069 , 227.2069 , 227.2069 , ..., 227.2069 , 227.2069 ,\n",
       "          227.2069 ]],\n",
       "\n",
       "        [[218.73212, 218.73212, 218.73212, ..., 218.73212, 218.73212,\n",
       "          218.73212],\n",
       "         [218.0334 , 218.0569 , 218.08188, ..., 217.97435, 217.99495,\n",
       "          218.01302],\n",
       "         [217.45877, 217.50761, 217.55505, ..., 217.33371, 217.37013,\n",
       "          217.41019],\n",
       "         ...,\n",
       "         [226.6697 , 226.74904, 226.82024, ..., 226.3824 , 226.48656,\n",
       "          226.58083],\n",
       "         [224.89246, 224.9647 , 225.03516, ..., 224.70782, 224.7652 ,\n",
       "          224.82674],\n",
       "         [223.1377 , 223.1377 , 223.1377 , ..., 223.1377 , 223.1377 ,\n",
       "          223.1377 ]],\n",
       "\n",
       "        [[217.74234, 217.74234, 217.74234, ..., 217.74234, 217.74234,\n",
       "          217.74234],\n",
       "         [217.21985, 217.23956, 217.25978, ..., 217.1682 , 217.18811,\n",
       "          217.20296],\n",
       "         [216.7039 , 216.75368, 216.80006, ..., 216.56548, 216.60567,\n",
       "          216.6498 ],\n",
       "         ...,\n",
       "         [219.87303, 220.06349, 220.24338, ..., 219.32582, 219.50401,\n",
       "          219.68486],\n",
       "         [219.44191, 219.51164, 219.58176, ..., 219.22565, 219.299  ,\n",
       "          219.37177],\n",
       "         [219.18408, 219.18408, 219.18408, ..., 219.18408, 219.18408,\n",
       "          219.18408]],\n",
       "\n",
       "        ...,\n",
       "\n",
       "        [[234.07404, 234.07318, 234.07338, ..., 234.0746 , 234.07382,\n",
       "          234.07382],\n",
       "         [235.09735, 234.95084, 234.83252, ..., 235.66995, 235.46149,\n",
       "          235.26837],\n",
       "         [237.22432, 236.82419, 236.36958, ..., 238.27054, 237.93019,\n",
       "          237.58916],\n",
       "         ...,\n",
       "         [252.65614, 252.72023, 252.77196, ..., 252.29332, 252.42192,\n",
       "          252.554  ],\n",
       "         [253.20287, 253.19312, 253.18678, ..., 253.29877, 253.25595,\n",
       "          253.22272],\n",
       "         [254.10222, 254.1043 , 254.10406, ..., 254.10313, 254.10242,\n",
       "          254.10316]],\n",
       "\n",
       "        [[234.00667, 234.00696, 234.00664, ..., 234.00694, 234.00754,\n",
       "          234.00735],\n",
       "         [234.98195, 234.83064, 234.69345, ..., 235.47733, 235.3051 ,\n",
       "          235.13924],\n",
       "         [236.55275, 236.13716, 235.66296, ..., 237.5631 , 237.26228,\n",
       "          236.92479],\n",
       "         ...,\n",
       "         [250.80156, 250.80717, 250.82956, ..., 250.372  , 250.58195,\n",
       "          250.7562 ],\n",
       "         [251.85136, 251.81467, 251.77754, ..., 252.03474, 251.95215,\n",
       "          251.89182],\n",
       "         [252.759  , 252.75868, 252.75911, ..., 252.75851, 252.75891,\n",
       "          252.75839]],\n",
       "\n",
       "        [[223.24539, 223.24481, 223.24542, ..., 223.2444 , 223.24486,\n",
       "          223.24498],\n",
       "         [219.7845 , 219.64154, 219.52219, ..., 220.23775, 220.09018,\n",
       "          219.9359 ],\n",
       "         [216.48428, 215.91737, 215.43452, ..., 218.336  , 217.74196,\n",
       "          217.10603],\n",
       "         ...,\n",
       "         [239.64825, 239.98964, 240.01578, ..., 238.20984, 238.1686 ,\n",
       "          238.35727],\n",
       "         [237.67696, 237.76343, 237.87762, ..., 237.60088, 237.62222,\n",
       "          237.64491],\n",
       "         [237.91032, 237.91133, 237.91068, ..., 237.91061, 237.91074,\n",
       "          237.9105 ]]]], dtype=float32)"
      ]
     },
     "execution_count": 27,
     "metadata": {},
     "output_type": "execute_result"
    }
   ],
   "source": [
    "data2.TBC.values"
   ]
  },
  {
   "cell_type": "code",
   "execution_count": 28,
   "metadata": {},
   "outputs": [
    {
     "data": {
      "image/png": "[encoded data removed]",
      "text/plain": [
       "<Figure size 432x288 with 1 Axes>"
      ]
     },
     "metadata": {
      "needs_background": "light"
     },
     "output_type": "display_data"
    }
   ],
   "source": [
    "plt.hist(data.NN2L_PRECC.values.flatten(),bins=100);"
   ]
  },
  {
   "cell_type": "code",
   "execution_count": 29,
   "metadata": {},
   "outputs": [
    {
     "data": {
      "image/png": "[encoded data removed]",
      "text/plain": [
       "<Figure size 432x288 with 1 Axes>"
      ]
     },
     "metadata": {
      "needs_background": "light"
     },
     "output_type": "display_data"
    }
   ],
   "source": [
    "plt.hist(data.NN2L_PRECL.values.flatten(),bins=100);\n",
    "plt.hist(data2.NN2L_PRECL.values.flatten(),bins=100);"
   ]
  },
  {
   "cell_type": "code",
   "execution_count": 30,
   "metadata": {},
   "outputs": [
    {
     "data": {
      "image/png": "[encoded data removed]",
      "text/plain": [
       "<Figure size 432x288 with 1 Axes>"
      ]
     },
     "metadata": {
      "needs_background": "light"
     },
     "output_type": "display_data"
    }
   ],
   "source": [
    "plt.hist(data.NN2L_PRECSC.values.flatten(),bins=100);"
   ]
  },
  {
   "cell_type": "code",
   "execution_count": 66,
   "metadata": {},
   "outputs": [
    {
     "data": {
      "image/png": "[encoded data removed]",
      "text/plain": [
       "<Figure size 432x288 with 1 Axes>"
      ]
     },
     "metadata": {
      "needs_background": "light"
     },
     "output_type": "display_data"
    }
   ],
   "source": [
    "plt.hist(data.NN2L_PRECSL.values.flatten(),bins=100);"
   ]
  },
  {
   "cell_type": "code",
   "execution_count": 67,
   "metadata": {},
   "outputs": [
    {
     "data": {
      "image/png": "[encoded data removed]",
      "text/plain": [
       "<Figure size 432x288 with 1 Axes>"
      ]
     },
     "metadata": {
      "needs_background": "light"
     },
     "output_type": "display_data"
    }
   ],
   "source": [
    "plt.hist(data2.NN2L_PRECSL.values.flatten(),bins=100);"
   ]
  },
  {
   "cell_type": "code",
   "execution_count": 60,
   "metadata": {},
   "outputs": [
    {
     "data": {
      "image/png": "[encoded data removed]",
      "text/plain": [
       "<Figure size 432x288 with 1 Axes>"
      ]
     },
     "metadata": {
      "needs_background": "light"
     },
     "output_type": "display_data"
    }
   ],
   "source": [
    "plt.hist(data.NN2L_FLWDS.values.flatten(),bins=100);"
   ]
  },
  {
   "cell_type": "code",
   "execution_count": 61,
   "metadata": {},
   "outputs": [
    {
     "data": {
      "image/png": "[encoded data removed]",
      "text/plain": [
       "<Figure size 432x288 with 1 Axes>"
      ]
     },
     "metadata": {
      "needs_background": "light"
     },
     "output_type": "display_data"
    }
   ],
   "source": [
    "plt.hist(data.NN2L_NETSW.values.flatten(),bins=100);"
   ]
  },
  {
   "cell_type": "code",
   "execution_count": 69,
   "metadata": {},
   "outputs": [
    {
     "data": {
      "image/png": "[encoded data removed]",
      "text/plain": [
       "<Figure size 432x288 with 1 Axes>"
      ]
     },
     "metadata": {
      "needs_background": "light"
     },
     "output_type": "display_data"
    }
   ],
   "source": [
    "plt.hist(data.NN2L_SOLL.values.flatten(),bins=100);"
   ]
  },
  {
   "cell_type": "code",
   "execution_count": 70,
   "metadata": {},
   "outputs": [
    {
     "data": {
      "image/png": "[encoded data removed]",
      "text/plain": [
       "<Figure size 432x288 with 1 Axes>"
      ]
     },
     "metadata": {
      "needs_background": "light"
     },
     "output_type": "display_data"
    }
   ],
   "source": [
    "plt.hist(data.NN2L_SOLLD.values.flatten(),bins=100);"
   ]
  },
  {
   "cell_type": "code",
   "execution_count": 71,
   "metadata": {},
   "outputs": [
    {
     "data": {
      "image/png": "[encoded data removed]",
      "text/plain": [
       "<Figure size 432x288 with 1 Axes>"
      ]
     },
     "metadata": {
      "needs_background": "light"
     },
     "output_type": "display_data"
    }
   ],
   "source": [
    "plt.hist(data.NN2L_SOLS.values.flatten(),bins=100);"
   ]
  },
  {
   "cell_type": "code",
   "execution_count": 72,
   "metadata": {
    "scrolled": true
   },
   "outputs": [
    {
     "data": {
      "image/png": "[encoded data removed]",
      "text/plain": [
       "<Figure size 432x288 with 1 Axes>"
      ]
     },
     "metadata": {
      "needs_background": "light"
     },
     "output_type": "display_data"
    }
   ],
   "source": [
    "plt.hist(data.NN2L_SOLSD.values.flatten(),bins=100);"
   ]
  },
  {
   "cell_type": "code",
   "execution_count": null,
   "metadata": {},
   "outputs": [],
   "source": []
  }
 ],
 "metadata": {
  "kernelspec": {
   "display_name": "Python 3",
   "language": "python",
   "name": "python3"
  },
  "language_info": {
   "codemirror_mode": {
    "name": "ipython",
    "version": 3
   },
   "file_extension": ".py",
   "mimetype": "text/x-python",
   "name": "python",
   "nbconvert_exporter": "python",
   "pygments_lexer": "ipython3",
   "version": "3.6.9"
  },
  "toc": {
   "base_numbering": 1,
   "nav_menu": {},
   "number_sections": true,
   "sideBar": true,
   "skip_h1_title": false,
   "title_cell": "Table of Contents",
   "title_sidebar": "Contents",
   "toc_cell": false,
   "toc_position": {},
   "toc_section_display": true,
   "toc_window_display": false
  }
 },
 "nbformat": 4,
 "nbformat_minor": 2
}
