{
 "cells": [
  {
   "cell_type": "markdown",
   "metadata": {},
   "source": [
    "tgb - 12/17/19 - The goal of this notebook is to code the UCnet and ACnet versions of the RH -> dRH/dt network. The constraints are linear in q_v and therefore strongly non-linear in RH. The steps are as follows:  \n",
    "1) Code inversion RH->qv and dRHdt->dqvdt in numpy  \n",
    "2) Convert layers in tensorflow   \n",
    "3) Test network and conservation properties  \n",
    "4) Train the new network for 15 epochs and save state of best validation loss"
   ]
  },
  {
   "cell_type": "markdown",
   "metadata": {},
   "source": [
    "# 0) Imports"
   ]
  },
  {
   "cell_type": "code",
   "execution_count": 1,
   "metadata": {},
   "outputs": [
    {
     "name": "stderr",
     "output_type": "stream",
     "text": [
      "/home/t/Tom.Beucler/miniconda3/lib/python3.7/site-packages/tensorflow/python/framework/dtypes.py:516: FutureWarning: Passing (type, 1) or '1type' as a synonym of type is deprecated; in a future version of numpy, it will be understood as (type, (1,)) / '(1,)type'.\n",
      "  _np_qint8 = np.dtype([(\"qint8\", np.int8, 1)])\n",
      "/home/t/Tom.Beucler/miniconda3/lib/python3.7/site-packages/tensorflow/python/framework/dtypes.py:517: FutureWarning: Passing (type, 1) or '1type' as a synonym of type is deprecated; in a future version of numpy, it will be understood as (type, (1,)) / '(1,)type'.\n",
      "  _np_quint8 = np.dtype([(\"quint8\", np.uint8, 1)])\n",
      "/home/t/Tom.Beucler/miniconda3/lib/python3.7/site-packages/tensorflow/python/framework/dtypes.py:518: FutureWarning: Passing (type, 1) or '1type' as a synonym of type is deprecated; in a future version of numpy, it will be understood as (type, (1,)) / '(1,)type'.\n",
      "  _np_qint16 = np.dtype([(\"qint16\", np.int16, 1)])\n",
      "/home/t/Tom.Beucler/miniconda3/lib/python3.7/site-packages/tensorflow/python/framework/dtypes.py:519: FutureWarning: Passing (type, 1) or '1type' as a synonym of type is deprecated; in a future version of numpy, it will be understood as (type, (1,)) / '(1,)type'.\n",
      "  _np_quint16 = np.dtype([(\"quint16\", np.uint16, 1)])\n",
      "/home/t/Tom.Beucler/miniconda3/lib/python3.7/site-packages/tensorflow/python/framework/dtypes.py:520: FutureWarning: Passing (type, 1) or '1type' as a synonym of type is deprecated; in a future version of numpy, it will be understood as (type, (1,)) / '(1,)type'.\n",
      "  _np_qint32 = np.dtype([(\"qint32\", np.int32, 1)])\n",
      "/home/t/Tom.Beucler/miniconda3/lib/python3.7/site-packages/tensorflow/python/framework/dtypes.py:525: FutureWarning: Passing (type, 1) or '1type' as a synonym of type is deprecated; in a future version of numpy, it will be understood as (type, (1,)) / '(1,)type'.\n",
      "  np_resource = np.dtype([(\"resource\", np.ubyte, 1)])\n",
      "/home/t/Tom.Beucler/miniconda3/lib/python3.7/site-packages/tensorboard/compat/tensorflow_stub/dtypes.py:541: FutureWarning: Passing (type, 1) or '1type' as a synonym of type is deprecated; in a future version of numpy, it will be understood as (type, (1,)) / '(1,)type'.\n",
      "  _np_qint8 = np.dtype([(\"qint8\", np.int8, 1)])\n",
      "/home/t/Tom.Beucler/miniconda3/lib/python3.7/site-packages/tensorboard/compat/tensorflow_stub/dtypes.py:542: FutureWarning: Passing (type, 1) or '1type' as a synonym of type is deprecated; in a future version of numpy, it will be understood as (type, (1,)) / '(1,)type'.\n",
      "  _np_quint8 = np.dtype([(\"quint8\", np.uint8, 1)])\n",
      "/home/t/Tom.Beucler/miniconda3/lib/python3.7/site-packages/tensorboard/compat/tensorflow_stub/dtypes.py:543: FutureWarning: Passing (type, 1) or '1type' as a synonym of type is deprecated; in a future version of numpy, it will be understood as (type, (1,)) / '(1,)type'.\n",
      "  _np_qint16 = np.dtype([(\"qint16\", np.int16, 1)])\n",
      "/home/t/Tom.Beucler/miniconda3/lib/python3.7/site-packages/tensorboard/compat/tensorflow_stub/dtypes.py:544: FutureWarning: Passing (type, 1) or '1type' as a synonym of type is deprecated; in a future version of numpy, it will be understood as (type, (1,)) / '(1,)type'.\n",
      "  _np_quint16 = np.dtype([(\"quint16\", np.uint16, 1)])\n",
      "/home/t/Tom.Beucler/miniconda3/lib/python3.7/site-packages/tensorboard/compat/tensorflow_stub/dtypes.py:545: FutureWarning: Passing (type, 1) or '1type' as a synonym of type is deprecated; in a future version of numpy, it will be understood as (type, (1,)) / '(1,)type'.\n",
      "  _np_qint32 = np.dtype([(\"qint32\", np.int32, 1)])\n",
      "/home/t/Tom.Beucler/miniconda3/lib/python3.7/site-packages/tensorboard/compat/tensorflow_stub/dtypes.py:550: FutureWarning: Passing (type, 1) or '1type' as a synonym of type is deprecated; in a future version of numpy, it will be understood as (type, (1,)) / '(1,)type'.\n",
      "  np_resource = np.dtype([(\"resource\", np.ubyte, 1)])\n",
      "WARNING: Logging before flag parsing goes to stderr.\n",
      "W0227 21:07:31.874884 22394720782144 deprecation_wrapper.py:119] From /home/t/Tom.Beucler/SPCAM/CBRAIN-CAM/notebooks/tbeucler_devlog/cbrain/models.py:16: The name tf.keras.layers.CuDNNGRU is deprecated. Please use tf.compat.v1.keras.layers.CuDNNGRU instead.\n",
      "\n",
      "W0227 21:07:31.875472 22394720782144 deprecation_wrapper.py:119] From /home/t/Tom.Beucler/SPCAM/CBRAIN-CAM/notebooks/tbeucler_devlog/cbrain/models.py:16: The name tf.keras.layers.CuDNNLSTM is deprecated. Please use tf.compat.v1.keras.layers.CuDNNLSTM instead.\n",
      "\n"
     ]
    },
    {
     "name": "stdout",
     "output_type": "stream",
     "text": [
      "/home/t/Tom.Beucler/SPCAM/CBRAIN-CAM/notebooks/tbeucler_devlog\n"
     ]
    },
    {
     "name": "stderr",
     "output_type": "stream",
     "text": [
      "W0227 21:07:32.908953 22394720782144 deprecation_wrapper.py:119] From /home/t/Tom.Beucler/SPCAM/CBRAIN-CAM/notebooks/tbeucler_devlog/cbrain/utils.py:145: The name tf.ConfigProto is deprecated. Please use tf.compat.v1.ConfigProto instead.\n",
      "\n",
      "W0227 21:07:32.909904 22394720782144 deprecation_wrapper.py:119] From /home/t/Tom.Beucler/SPCAM/CBRAIN-CAM/notebooks/tbeucler_devlog/cbrain/utils.py:148: The name tf.keras.backend.set_session is deprecated. Please use tf.compat.v1.keras.backend.set_session instead.\n",
      "\n",
      "W0227 21:07:32.910432 22394720782144 deprecation_wrapper.py:119] From /home/t/Tom.Beucler/SPCAM/CBRAIN-CAM/notebooks/tbeucler_devlog/cbrain/utils.py:148: The name tf.Session is deprecated. Please use tf.compat.v1.Session instead.\n",
      "\n"
     ]
    },
    {
     "name": "stdout",
     "output_type": "stream",
     "text": [
      "/filer/z-sv-pool12c/t/Tom.Beucler/SPCAM/CBRAIN-CAM\n"
     ]
    }
   ],
   "source": [
    "from cbrain.imports import *\n",
    "from cbrain.data_generator import *\n",
    "from cbrain.cam_constants import *\n",
    "from cbrain.losses import *\n",
    "from cbrain.utils import limit_mem\n",
    "from cbrain.layers import *\n",
    "from cbrain.data_generator import DataGenerator\n",
    "import tensorflow as tf\n",
    "import tensorflow.math as tfm\n",
    "import tensorflow_probability as tfp\n",
    "from tensorflow.keras.layers import *\n",
    "from tensorflow.keras.models import *\n",
    "import xarray as xr\n",
    "import numpy as np\n",
    "from cbrain.model_diagnostics import ModelDiagnostics\n",
    "import matplotlib as mpl\n",
    "import matplotlib.pyplot as plt\n",
    "import matplotlib.image as imag\n",
    "import scipy.integrate as sin\n",
    "import cartopy.crs as ccrs\n",
    "import matplotlib.ticker as mticker\n",
    "from cartopy.mpl.gridliner import LONGITUDE_FORMATTER, LATITUDE_FORMATTER\n",
    "import pickle\n",
    "\n",
    "TRAINDIR = '/local/Tom.Beucler/SPCAM_PHYS/'\n",
    "DATADIR = '/project/meteo/w2w/A6/S.Rasp/SP-CAM/fluxbypass_aqua/'\n",
    "PREFIX = '8col009_01_'\n",
    "%cd /filer/z-sv-pool12c/t/Tom.Beucler/SPCAM/CBRAIN-CAM\n",
    "\n",
    "# Otherwise tensorflow will use ALL your GPU RAM for no reason\n",
    "limit_mem()"
   ]
  },
  {
   "cell_type": "markdown",
   "metadata": {},
   "source": [
    "# 1) Inversion q <-> RH layers"
   ]
  },
  {
   "cell_type": "markdown",
   "metadata": {},
   "source": [
    "## 1.1) q statistics"
   ]
  },
  {
   "cell_type": "markdown",
   "metadata": {},
   "source": [
    "Load data"
   ]
  },
  {
   "cell_type": "code",
   "execution_count": 117,
   "metadata": {},
   "outputs": [
    {
     "name": "stderr",
     "output_type": "stream",
     "text": [
      "/home/t/Tom.Beucler/miniconda3/lib/python3.7/site-packages/xarray/backends/api.py:783: FutureWarning: In xarray version 0.13 `auto_combine` will be deprecated.\n",
      "  coords=coords)\n",
      "/home/t/Tom.Beucler/miniconda3/lib/python3.7/site-packages/xarray/backends/api.py:783: FutureWarning: The datasets supplied have global dimension coordinates. You may want\n",
      "to use the new `combine_by_coords` function (or the\n",
      "`combine='by_coords'` option to `open_mfdataset` to order the datasets\n",
      "before concatenation. Alternatively, to continue concatenating based\n",
      "on the order the datasets are supplied in in future, please use the\n",
      "new `combine_nested` function (or the `combine='nested'` option to\n",
      "open_mfdataset).\n",
      "  coords=coords)\n"
     ]
    }
   ],
   "source": [
    "data = xr.open_mfdataset(\"/project/meteo/w2w/A6/S.Rasp/SP-CAM/fluxbypass_aqua/AndKua_aqua_SPCAM3.0_sp_fbp_f4.cam2.h1.0000-03-01-00000.nc\",\\\n",
    "                         decode_times=False)"
   ]
  },
  {
   "cell_type": "markdown",
   "metadata": {},
   "source": [
    "Save hyam and hybm for later use, inspired from how hyai and hybi are saved"
   ]
  },
  {
   "cell_type": "code",
   "execution_count": 118,
   "metadata": {},
   "outputs": [],
   "source": [
    "path = '/home/t/Tom.Beucler/SPCAM/CBRAIN-CAM/cbrain/'\n",
    "path_hyai = 'hyam_hybm.pkl'\n",
    "hf = open(path+path_hyai,'rb')\n",
    "test = pickle.load(hf)"
   ]
  },
  {
   "cell_type": "code",
   "execution_count": 119,
   "metadata": {},
   "outputs": [
    {
     "data": {
      "text/plain": [
       "array([0.00364347, 0.00759482, 0.01435663, 0.02461222, 0.0382683 ,\n",
       "       0.05459548, 0.07201245, 0.08782123, 0.10331713, 0.12154724,\n",
       "       0.14299404, 0.16822508, 0.17823067, 0.17032433, 0.16102291,\n",
       "       0.15008029, 0.13720686, 0.12206194, 0.10424471, 0.08497915,\n",
       "       0.0665017 , 0.05019679, 0.03718866, 0.02843195, 0.02220898,\n",
       "       0.01640738, 0.01107456, 0.00625495, 0.00198941, 0.        ])"
      ]
     },
     "execution_count": 119,
     "metadata": {},
     "output_type": "execute_result"
    }
   ],
   "source": [
    "test[0]"
   ]
  },
  {
   "cell_type": "code",
   "execution_count": 120,
   "metadata": {},
   "outputs": [],
   "source": [
    "# path_hyam = 'hyam_hybm.pkl'\n",
    "# hf = open(path+path_hyam,'wb')\n",
    "# pickle.dump([data.hyam.values,data.hybm.values],hf)\n",
    "# hf.close()"
   ]
  },
  {
   "cell_type": "markdown",
   "metadata": {},
   "source": [
    "Convert specific humidity to relative humidity and back"
   ]
  },
  {
   "cell_type": "code",
   "execution_count": 121,
   "metadata": {},
   "outputs": [
    {
     "data": {
      "text/plain": [
       "Text(0.5, 0.98, 'Histogram of Specific humidity')"
      ]
     },
     "execution_count": 121,
     "metadata": {},
     "output_type": "execute_result"
    },
    {
     "data": {
      "image/png": "[encoded data removed]",
      "text/plain": [
       "<Figure size 1080x360 with 1 Axes>"
      ]
     },
     "metadata": {
      "needs_background": "light"
     },
     "output_type": "display_data"
    }
   ],
   "source": [
    "plt.figure(figsize=(15,5))\n",
    "plt.hist(data.QAP.values.flatten(),bins=100)\n",
    "plt.xlabel('Pressure [hPa]')\n",
    "plt.suptitle(\"Histogram of Specific humidity\")"
   ]
  },
  {
   "cell_type": "markdown",
   "metadata": {},
   "source": [
    "Forward version"
   ]
  },
  {
   "cell_type": "markdown",
   "metadata": {},
   "source": [
    "## 1.2) Moist thermo library"
   ]
  },
  {
   "cell_type": "code",
   "execution_count": 9,
   "metadata": {},
   "outputs": [],
   "source": [
    "# SAM Constants, TODO = Check that they are the same in SPCAM\n",
    "# In functions\n",
    "a_liq = np.array([-0.976195544e-15,-0.952447341e-13,0.640689451e-10,0.206739458e-7,0.302950461e-5,0.264847430e-3,0.142986287e-1,0.443987641,6.11239921]);\n",
    "a_ice = np.array([0.252751365e-14,0.146898966e-11,0.385852041e-9,0.602588177e-7,0.615021634e-5,0.420895665e-3,0.188439774e-1,0.503160820,6.11147274]);\n",
    "c_liq = -80\n",
    "c_ice = np.array([273.15,185,-100,0.00763685,0.000151069,7.48215e-07])\n",
    "# General\n",
    "cp = 1.004e3\n",
    "g = 9.81\n",
    "Lc = 2.5104e6\n",
    "Lf = 0.3336e6\n",
    "Ls = 2.8440e6\n",
    "R = 287\n",
    "Rv = 461\n",
    "T0 = 273.16\n",
    "T0p = 283.16\n",
    "T00 = 253.16\n",
    "T00p = 268.16"
   ]
  },
  {
   "cell_type": "code",
   "execution_count": 10,
   "metadata": {},
   "outputs": [],
   "source": [
    "def eliq(T):\n",
    "    a_liq = np.array([-0.976195544e-15,-0.952447341e-13,0.640689451e-10,0.206739458e-7,0.302950461e-5,0.264847430e-3,0.142986287e-1,0.443987641,6.11239921]);\n",
    "    c_liq = -80\n",
    "    T0 = 273.16\n",
    "    return 100*np.polyval(a_liq,np.maximum(c_liq,T-T0))"
   ]
  },
  {
   "cell_type": "code",
   "execution_count": 11,
   "metadata": {},
   "outputs": [],
   "source": [
    "def deliqdT(T):\n",
    "    a_liq = np.array([-0.599634321e-17,-0.792933209e-14,-0.604119582e-12,0.385208005e-9,0.103167413e-6,0.121167162e-4,0.794747212e-3,0.285976452e-1,0.443956472])\n",
    "    c_liq = -80\n",
    "    T0 = 273.16\n",
    "    return 100*np.polyval(a_liq,np.maximum(c_liq,T-T0))"
   ]
  },
  {
   "cell_type": "code",
   "execution_count": 12,
   "metadata": {},
   "outputs": [],
   "source": [
    "def eice(T):\n",
    "    a_ice = np.array([0.252751365e-14,0.146898966e-11,0.385852041e-9,0.602588177e-7,0.615021634e-5,0.420895665e-3,0.188439774e-1,0.503160820,6.11147274]);\n",
    "    c_ice = np.array([273.15,185,-100,0.00763685,0.000151069,7.48215e-07])\n",
    "    T0 = 273.16\n",
    "    return (T>c_ice[0])*eliq(T)+\\\n",
    "(T<=c_ice[0])*(T>c_ice[1])*100*np.polyval(a_ice,T-T0)+\\\n",
    "(T<=c_ice[1])*100*(c_ice[3]+np.maximum(c_ice[2],T-T0)*(c_ice[4]+np.maximum(c_ice[2],T-T0)*c_ice[5]))    "
   ]
  },
  {
   "cell_type": "code",
   "execution_count": 13,
   "metadata": {},
   "outputs": [],
   "source": [
    "def deicedT(T):\n",
    "    a_ice = np.array([0.497275778e-16,0.390204672e-13,0.132073448e-10,0.255653718e-8,0.312668753e-6,0.249065913e-4,0.126710138e-2,0.377174432e-1,0.503223089])\n",
    "    c_ice = np.array([273.15,185,-100,0.0013186,2.60269e-05,1.28676e-07])\n",
    "    T0 = 273.16\n",
    "    return (T>c_ice[0])*deliqdT(T)+\\\n",
    "(T<=c_ice[0])*(T>c_ice[1])*100*np.polyval(a_ice,T-T0)+\\\n",
    "(T<=c_ice[1])*100*(c_ice[3]+np.maximum(c_ice[2],T-T0)*(c_ice[4]+np.maximum(c_ice[2],T-T0)*c_ice[5]))    "
   ]
  },
  {
   "cell_type": "code",
   "execution_count": 14,
   "metadata": {},
   "outputs": [],
   "source": [
    "def esat(T):\n",
    "    T0 = 273.16\n",
    "    T00 = 253.16\n",
    "    omega = np.maximum(0,np.minimum(1,(T-T00)/(T0-T00)))\n",
    "    \n",
    "    return (T>T0)*eliq(T)+(T<T00)*eice(T)+(T<=T0)*(T>=T00)*(omega*eliq(T)+(1-omega)*eice(T))"
   ]
  },
  {
   "cell_type": "code",
   "execution_count": 15,
   "metadata": {},
   "outputs": [],
   "source": [
    "def RH(T,qv,P0,PS,hyam,hybm):\n",
    "    R = 287\n",
    "    Rv = 461\n",
    "    p = np.moveaxis((hyam*P0+hybm*PS).values,0,1) # Total pressure (Pa)\n",
    "    return Rv*p*qv/(R*esat(T))"
   ]
  },
  {
   "cell_type": "code",
   "execution_count": 16,
   "metadata": {},
   "outputs": [],
   "source": [
    "# def qv(T,RH,P0,PS,hyam,hybm):\n",
    "#     R = 287\n",
    "#     Rv = 461\n",
    "#     #p = np.moveaxis((hyam*P0+hybm*PS),0,1) # Total pressure (Pa)\n",
    "#     p = np.tile(hyam*P0,(8192,1))+np.tile(hybm,(8192,1))*np.tile(PS,(30,1)).T\n",
    "#     return R*esat(T)*RH/(Rv*p)\n",
    "    # DEBUG 1\n",
    "    # return esat(T)"
   ]
  },
  {
   "cell_type": "code",
   "execution_count": 17,
   "metadata": {},
   "outputs": [],
   "source": [
    "def qv(T,RH,P0,PS,hyam,hybm):\n",
    "    R = 287\n",
    "    Rv = 461\n",
    "    #p = np.moveaxis((hyam*P0+hybm*PS),0,1) # Total pressure (Pa)\n",
    "    p = np.moveaxis((hyam*P0+hybm*PS).values,0,1) # Total pressure (Pa)\n",
    "    return R*esat(T)*RH/(Rv*p)\n",
    "    # DEBUG 1\n",
    "    # return esat(T)"
   ]
  },
  {
   "cell_type": "markdown",
   "metadata": {},
   "source": [
    "## 1.3) RH Statistics"
   ]
  },
  {
   "cell_type": "code",
   "execution_count": 136,
   "metadata": {},
   "outputs": [],
   "source": [
    "RH0 = RH(data.TAP.values,data.QAP,data.P0,data.PS,data.hyam,data.hybm)"
   ]
  },
  {
   "cell_type": "code",
   "execution_count": 137,
   "metadata": {},
   "outputs": [
    {
     "data": {
      "text/plain": [
       "<xarray.DataArray 'QAP' (time: 48, lev: 30, lat: 64, lon: 128)>\n",
       "dask.array<shape=(48, 30, 64, 128), dtype=float64, chunksize=(48, 30, 64, 128)>\n",
       "Coordinates:\n",
       "  * lat      (lat) float64 -87.86 -85.1 -82.31 -79.53 ... 79.53 82.31 85.1 87.86\n",
       "  * lon      (lon) float64 0.0 2.812 5.625 8.438 ... 348.8 351.6 354.4 357.2\n",
       "  * lev      (lev) float64 3.643 7.595 14.36 24.61 ... 936.2 957.5 976.3 992.6\n",
       "  * time     (time) float64 59.0 59.02 59.04 59.06 ... 59.92 59.94 59.96 59.98"
      ]
     },
     "execution_count": 137,
     "metadata": {},
     "output_type": "execute_result"
    }
   ],
   "source": [
    "RH0"
   ]
  },
  {
   "cell_type": "code",
   "execution_count": 138,
   "metadata": {},
   "outputs": [
    {
     "data": {
      "text/plain": [
       "Text(0.5, 0.98, 'Histogram of Relative humidity')"
      ]
     },
     "execution_count": 138,
     "metadata": {},
     "output_type": "execute_result"
    },
    {
     "data": {
      "image/png": "[encoded data removed]",
      "text/plain": [
       "<Figure size 1080x360 with 1 Axes>"
      ]
     },
     "metadata": {
      "needs_background": "light"
     },
     "output_type": "display_data"
    }
   ],
   "source": [
    "plt.figure(figsize=(15,5))\n",
    "plt.hist(RH0.values.flatten(),bins=100)\n",
    "plt.xlabel('Pressure [hPa]')\n",
    "plt.suptitle(\"Histogram of Relative humidity\")"
   ]
  },
  {
   "cell_type": "markdown",
   "metadata": {},
   "source": [
    "Backward version"
   ]
  },
  {
   "cell_type": "code",
   "execution_count": 139,
   "metadata": {},
   "outputs": [],
   "source": [
    "QV0 = qv(data.TAP.values,RH0,data.P0,data.PS,data.hyam,data.hybm)"
   ]
  },
  {
   "cell_type": "code",
   "execution_count": 140,
   "metadata": {},
   "outputs": [
    {
     "data": {
      "text/plain": [
       "Text(0.5, 0.98, 'Histogram of Specific humidity')"
      ]
     },
     "execution_count": 140,
     "metadata": {},
     "output_type": "execute_result"
    },
    {
     "data": {
      "image/png": "[encoded data removed]",
      "text/plain": [
       "<Figure size 1080x360 with 1 Axes>"
      ]
     },
     "metadata": {
      "needs_background": "light"
     },
     "output_type": "display_data"
    }
   ],
   "source": [
    "plt.figure(figsize=(15,5))\n",
    "#plt.hist(QV0.values.flatten(),bins=100)\n",
    "#plt.hist(data.QAP.values.flatten(),bins=100)\n",
    "plt.hist(QV0.values.flatten()-data.QAP.values.flatten(),bins=100)\n",
    "plt.xlabel('Pressure [hPa]')\n",
    "plt.suptitle(\"Histogram of Specific humidity\")"
   ]
  },
  {
   "cell_type": "markdown",
   "metadata": {},
   "source": [
    "## 1.4) Back and forth between PHQ and dRHdt"
   ]
  },
  {
   "cell_type": "code",
   "execution_count": 142,
   "metadata": {},
   "outputs": [
    {
     "data": {
      "text/plain": [
       "<xarray.DataArray 'PHQ' (time: 48, lev: 30, lat: 64, lon: 128)>\n",
       "dask.array<shape=(48, 30, 64, 128), dtype=float32, chunksize=(48, 30, 64, 128)>\n",
       "Coordinates:\n",
       "  * lat      (lat) float64 -87.86 -85.1 -82.31 -79.53 ... 79.53 82.31 85.1 87.86\n",
       "  * lon      (lon) float64 0.0 2.812 5.625 8.438 ... 348.8 351.6 354.4 357.2\n",
       "  * lev      (lev) float64 3.643 7.595 14.36 24.61 ... 936.2 957.5 976.3 992.6\n",
       "  * time     (time) float64 59.0 59.02 59.04 59.06 ... 59.92 59.94 59.96 59.98\n",
       "Attributes:\n",
       "    units:        kg/kg/s\n",
       "    long_name:    Specific humidity physics tendency\n",
       "    cell_method:  time: mean"
      ]
     },
     "execution_count": 142,
     "metadata": {},
     "output_type": "execute_result"
    }
   ],
   "source": [
    "data.PHQ"
   ]
  },
  {
   "cell_type": "code",
   "execution_count": 143,
   "metadata": {},
   "outputs": [],
   "source": [
    "# PHQ to dRHdt\n",
    "RH0 = RH(data.TAP.values,data.QAP,data.P0,data.PS,data.hyam,data.hybm)\n",
    "RH1 = RH(data.TAP.values+DT*data.TPHYSTND.values,data.QAP+DT*data.TPHYSTND.values,data.P0,data.PS,data.hyam,data.hybm)\n",
    "dRHdt = (RH1-RH0)/DT"
   ]
  },
  {
   "cell_type": "code",
   "execution_count": 159,
   "metadata": {},
   "outputs": [
    {
     "data": {
      "text/plain": [
       "(0, 1000.0)"
      ]
     },
     "execution_count": 159,
     "metadata": {},
     "output_type": "execute_result"
    },
    {
     "data": {
      "image/png": "[encoded data removed]",
      "text/plain": [
       "<Figure size 432x288 with 1 Axes>"
      ]
     },
     "metadata": {
      "needs_background": "light"
     },
     "output_type": "display_data"
    }
   ],
   "source": [
    "plt.hist(dRHdt.values.flatten(),bins=100);\n",
    "plt.ylim((0,1e3))"
   ]
  },
  {
   "cell_type": "code",
   "execution_count": 160,
   "metadata": {},
   "outputs": [],
   "source": [
    "#dRHdt to PHQ\n",
    "Q0 = qv(data.TAP.values,RH0,data.P0,data.PS,data.hyam,data.hybm)\n",
    "Q1 = qv(data.TAP.values+DT*data.TPHYSTND.values,RH0+DT*dRHdt,data.P0,data.PS,data.hyam,data.hybm)\n",
    "dQdt = (Q1-Q0)/DT"
   ]
  },
  {
   "cell_type": "code",
   "execution_count": 170,
   "metadata": {},
   "outputs": [
    {
     "data": {
      "text/plain": [
       "(0, 1000000.0)"
      ]
     },
     "execution_count": 170,
     "metadata": {},
     "output_type": "execute_result"
    },
    {
     "data": {
      "image/png": "[encoded data removed]",
      "text/plain": [
       "<Figure size 432x288 with 1 Axes>"
      ]
     },
     "metadata": {
      "needs_background": "light"
     },
     "output_type": "display_data"
    }
   ],
   "source": [
    "plt.hist(data.PHQ.values.flatten(),bins=100);\n",
    "plt.ylim((0,1e6))"
   ]
  },
  {
   "cell_type": "code",
   "execution_count": 171,
   "metadata": {},
   "outputs": [
    {
     "data": {
      "text/plain": [
       "(0, 1000000.0)"
      ]
     },
     "execution_count": 171,
     "metadata": {},
     "output_type": "execute_result"
    },
    {
     "data": {
      "image/png": "[encoded data removed]",
      "text/plain": [
       "<Figure size 432x288 with 1 Axes>"
      ]
     },
     "metadata": {
      "needs_background": "light"
     },
     "output_type": "display_data"
    }
   ],
   "source": [
    "plt.hist(dQdt.values.flatten(),bins=100);\n",
    "plt.ylim((0,1e6))"
   ]
  },
  {
   "cell_type": "code",
   "execution_count": 166,
   "metadata": {},
   "outputs": [
    {
     "data": {
      "text/plain": [
       "(0, 1000000.0)"
      ]
     },
     "execution_count": 166,
     "metadata": {},
     "output_type": "execute_result"
    },
    {
     "data": {
      "image/png": "[encoded data removed]",
      "text/plain": [
       "<Figure size 432x288 with 1 Axes>"
      ]
     },
     "metadata": {
      "needs_background": "light"
     },
     "output_type": "display_data"
    }
   ],
   "source": [
    "plt.hist((dQdt.values-data.PHQ.values).flatten(),bins=100);\n",
    "plt.ylim((0,1e6))"
   ]
  },
  {
   "cell_type": "markdown",
   "metadata": {},
   "source": [
    "# 2) Convert to tensorflow layers between specific and relative humidities"
   ]
  },
  {
   "cell_type": "markdown",
   "metadata": {},
   "source": [
    "This layer takes an input vector x of size 304 similar to our reference network, except that the specific humidity vector of size 30 is replaced with a relative humidity vector of size 30. The goal of this layer is to convert relative humidity back to specific humidity."
   ]
  },
  {
   "cell_type": "markdown",
   "metadata": {},
   "source": [
    "## 2.1) Moist thermodynamics library in tensorflow"
   ]
  },
  {
   "cell_type": "code",
   "execution_count": 2,
   "metadata": {},
   "outputs": [],
   "source": [
    "# Moist thermodynamics library adapted to tf\n",
    "def eliq(T):\n",
    "    a_liq = np.float32(np.array([-0.976195544e-15,-0.952447341e-13,\\\n",
    "                                 0.640689451e-10,\\\n",
    "                      0.206739458e-7,0.302950461e-5,0.264847430e-3,\\\n",
    "                      0.142986287e-1,0.443987641,6.11239921]));\n",
    "    c_liq = np.float32(-80.0)\n",
    "    T0 = np.float32(273.16)\n",
    "    return np.float32(100.0)*tfm.polyval(a_liq,tfm.maximum(c_liq,T-T0))\n",
    "\n",
    "def eice(T):\n",
    "    a_ice = np.float32(np.array([0.252751365e-14,0.146898966e-11,0.385852041e-9,\\\n",
    "                      0.602588177e-7,0.615021634e-5,0.420895665e-3,\\\n",
    "                      0.188439774e-1,0.503160820,6.11147274]));\n",
    "    c_ice = np.float32(np.array([273.15,185,-100,0.00763685,0.000151069,7.48215e-07]))\n",
    "    T0 = np.float32(273.16)\n",
    "    return tf.where(T>c_ice[0],eliq(T),\\\n",
    "                   tf.where(T<=c_ice[1],np.float32(100.0)*(c_ice[3]+tfm.maximum(c_ice[2],T-T0)*\\\n",
    "                   (c_ice[4]+tfm.maximum(c_ice[2],T-T0)*c_ice[5])),\\\n",
    "                           np.float32(100.0)*tfm.polyval(a_ice,T-T0)))\n",
    "\n",
    "def esat(T):\n",
    "    T0 = np.float32(273.16)\n",
    "    T00 = np.float32(253.16)\n",
    "    omtmp = (T-T00)/(T0-T00)\n",
    "    omega = tfm.maximum(np.float32(0.0),tfm.minimum(np.float32(1.0),omtmp))\n",
    "\n",
    "    return tf.where(T>T0,eliq(T),tf.where(T<T00,eice(T),(omega*eliq(T)+(1-omega)*eice(T))))\n",
    "\n",
    "def qv(T,RH,P0,PS,hyam,hybm):\n",
    "    \n",
    "    R = np.float32(287.0)\n",
    "    Rv = np.float32(461.0)\n",
    "    p = P0 * hyam + PS[:, None] * hybm # Total pressure (Pa)\n",
    "    \n",
    "    T = tf.cast(T,tf.float32)\n",
    "    RH = tf.cast(RH,tf.float32)\n",
    "    p = tf.cast(p,tf.float32)\n",
    "    \n",
    "    return R*esat(T)*RH/(Rv*p)\n",
    "    # DEBUG 1\n",
    "    # return esat(T)\n",
    "    \n",
    "def RH(T,qv,P0,PS,hyam,hybm):\n",
    "    R = np.float32(287.0)\n",
    "    Rv = np.float32(461.0)\n",
    "    p = P0 * hyam + PS[:, None] * hybm # Total pressure (Pa)\n",
    "    \n",
    "    T = tf.cast(T,tf.float32)\n",
    "    qv = tf.cast(qv,tf.float32)\n",
    "    p = tf.cast(p,tf.float32)\n",
    "    \n",
    "    return Rv*p*qv/(R*esat(T))"
   ]
  },
  {
   "cell_type": "markdown",
   "metadata": {},
   "source": [
    "## 2.2) Custom layers"
   ]
  },
  {
   "cell_type": "code",
   "execution_count": 3,
   "metadata": {},
   "outputs": [],
   "source": [
    "class RH2QV(Layer):\n",
    "    def __init__(self, inp_subQ, inp_divQ, inp_subRH, inp_divRH, hyam, hybm, **kwargs):\n",
    "        \"\"\"\n",
    "        Call using ([input])\n",
    "        Assumes\n",
    "        prior: [RHBP, \n",
    "        QCBP, QIBP, TBP, VBP, Qdt_adiabatic, QCdt_adiabatic, QIdt_adiabatic, \n",
    "        Tdt_adiabatic, Vdt_adiabatic, PS, SOLIN, SHFLX, LHFLX]\n",
    "        Returns\n",
    "        post(erior): [QBP, \n",
    "        QCBP, QIBP, TBP, VBP, Qdt_adiabatic, QCdt_adiabatic, QIdt_adiabatic, \n",
    "        Tdt_adiabatic, Vdt_adiabatic, PS, SOLIN, SHFLX, LHFLX]\n",
    "        \"\"\"\n",
    "        self.inp_subQ, self.inp_divQ, self.inp_subRH, self.inp_divRH, self.hyam, self.hybm = \\\n",
    "            np.array(inp_subQ), np.array(inp_divQ), np.array(inp_subRH), np.array(inp_divRH), \\\n",
    "        np.array(hyam), np.array(hybm)\n",
    "        # Define variable indices here\n",
    "        # Input\n",
    "        self.QBP_idx = slice(0,30)\n",
    "        self.TBP_idx = slice(90,120)\n",
    "        self.PS_idx = 300\n",
    "        self.SHFLX_idx = 302\n",
    "        self.LHFLX_idx = 303\n",
    "\n",
    "        super().__init__(**kwargs)\n",
    "\n",
    "    def build(self, input_shape):\n",
    "        super().build(input_shape)\n",
    "\n",
    "    def get_config(self):\n",
    "        config = {'inp_subQ': list(self.inp_subQ), 'inp_divQ': list(self.inp_divQ),\n",
    "                  'inp_subRH': list(self.inp_subRH), 'inp_divRH': list(self.inp_divRH),\n",
    "                  'hyam': list(self.hyam),'hybm': list(self.hybm)}\n",
    "        base_config = super().get_config()\n",
    "        return dict(list(base_config.items()) + list(config.items()))\n",
    "    \n",
    "    def call(self, arrs):\n",
    "        prior = arrs\n",
    "        \n",
    "        Tprior = prior[:,self.TBP_idx]*self.inp_divRH[self.TBP_idx]+self.inp_subRH[self.TBP_idx]\n",
    "        RHprior = prior[:,self.QBP_idx]*self.inp_divRH[self.QBP_idx]+self.inp_subRH[self.QBP_idx]\n",
    "        PSprior = prior[:,self.PS_idx]*self.inp_divRH[self.PS_idx]+self.inp_subRH[self.PS_idx]\n",
    "        qvprior = (qv(Tprior,RHprior,P0,PSprior,self.hyam,self.hybm)-\\\n",
    "                    self.inp_subQ[self.QBP_idx])/self.inp_divQ[self.QBP_idx]\n",
    "        \n",
    "        Trenorm = (Tprior-self.inp_subQ[self.TBP_idx])/self.inp_divQ[self.TBP_idx]\n",
    "        \n",
    "        post = tf.concat([tf.cast(qvprior,tf.float32),prior[:,30:90],\n",
    "                          tf.cast(Trenorm,tf.float32),prior[:,120:]], axis=1)\n",
    "        \n",
    "        return post\n",
    "\n",
    "    def compute_output_shape(self,input_shape):\n",
    "        \"\"\"Input shape + 1\"\"\"\n",
    "        return (input_shape[0][0])"
   ]
  },
  {
   "cell_type": "code",
   "execution_count": 4,
   "metadata": {},
   "outputs": [],
   "source": [
    "class dQVdt2dRHdt(Layer):\n",
    "    def __init__(self, inp_subQ, inp_divQ, norm_qQ, norm_TQ, inp_subRH, inp_divRH, norm_qRH, hyam, hybm, **kwargs):\n",
    "        \"\"\"\n",
    "        Call using ([input_qv,output])\n",
    "        Assumes\n",
    "        prior: [PHQ, PHCLDLIQ, PHCLDICE, TPHYSTND, QRL, QRS, DTVKE, FSNT, FSNS, FLNT, FLNS, PRECT, PRECTEND, PRECST, PRECSTEN]\n",
    "        Returns\n",
    "        post(erior): [dRHdt, PHCLDLIQ, PHCLDICE, TPHYSTND, QRL, QRS, DTVKE, FSNT, FSNS, FLNT, FLNS, PRECT, PRECTEND, PRECST, PRECSTEN]\n",
    "        \"\"\"\n",
    "        self.inp_subQ, self.inp_divQ, self.norm_qQ, self.norm_TQ, \\\n",
    "        self.inp_subRH, self.inp_divRH, self.norm_qRH, \\\n",
    "        self.hyam, self.hybm = \\\n",
    "            np.array(inp_subQ), np.array(inp_divQ), \\\n",
    "        np.array(norm_qQ), np.array(norm_TQ),\\\n",
    "        np.array(inp_subRH), np.array(inp_divRH), np.array(norm_qRH), \\\n",
    "        np.array(hyam), np.array(hybm)\n",
    "        # Define variable indices here\n",
    "        # Input\n",
    "        self.PHQ_idx = slice(0,30)\n",
    "        \n",
    "        self.QBP_idx = slice(0,30)\n",
    "        self.TBP_idx = slice(90,120)\n",
    "        self.PS_idx = 300\n",
    "        self.SHFLX_idx = 302\n",
    "        self.LHFLX_idx = 303\n",
    "\n",
    "        super().__init__(**kwargs)\n",
    "\n",
    "    def build(self, input_shape):\n",
    "        super().build(input_shape)\n",
    "\n",
    "    def get_config(self):\n",
    "        config = {'inp_subQ': list(self.inp_subQ), 'inp_divQ': list(self.inp_divQ),\n",
    "                  'norm_qQ': list(self.norm_qQ),'norm_TQ':list(self.norm_TQ),\n",
    "                  'inp_subRH': list(self.inp_subRH), 'inp_divRH': list(self.inp_divRH),\n",
    "                  'norm_qRH': list(self.norm_qRH), \n",
    "                  'hyam': list(self.hyam),'hybm': list(self.hybm)}\n",
    "        base_config = super().get_config()\n",
    "        return dict(list(base_config.items()) + list(config.items()))\n",
    "    \n",
    "    def call(self, arrs):\n",
    "        inp, prior = arrs\n",
    "        \n",
    "        # Assumes the input has specific humidity in positions[0,30]\n",
    "        Qprior = inp[:,self.QBP_idx]*self.inp_divQ[self.QBP_idx]+self.inp_subQ[self.QBP_idx]\n",
    "        Tprior = inp[:,self.TBP_idx]*self.inp_divQ[self.TBP_idx]+self.inp_subQ[self.TBP_idx]\n",
    "        PSprior = inp[:,self.PS_idx]*self.inp_divQ[self.PS_idx]+self.inp_subQ[self.PS_idx]\n",
    "        \n",
    "        dqvdtprior = prior[:,self.QBP_idx]/self.norm_qQ\n",
    "        Q2prior = Qprior+DT*dqvdtprior\n",
    "        \n",
    "        dTdtprior = prior[:,self.TBP_idx]/self.norm_TQ\n",
    "        T2prior = Tprior+DT*dTdtprior\n",
    "        \n",
    "        RHprior = RH(Tprior,Qprior,P0,PSprior,self.hyam,self.hybm)*self.norm_qRH\n",
    "        RH2prior = RH(T2prior,Q2prior,P0,PSprior,self.hyam,self.hybm)*self.norm_qRH\n",
    "        dRHdtprior = (RH2prior-RHprior)/DT\n",
    "        \n",
    "        post = tf.concat([dRHdtprior,prior[:,30:]], axis=1)\n",
    "        \n",
    "        return post\n",
    "\n",
    "    def compute_output_shape(self,input_shape):\n",
    "        \"\"\"Input shape\"\"\"\n",
    "        return (input_shape[0][0],input_shape[0][1])"
   ]
  },
  {
   "cell_type": "markdown",
   "metadata": {},
   "source": [
    "# 3) Code UCnet using RH"
   ]
  },
  {
   "cell_type": "markdown",
   "metadata": {},
   "source": [
    "## 3.1) Generators"
   ]
  },
  {
   "cell_type": "markdown",
   "metadata": {},
   "source": [
    "Generators using RH"
   ]
  },
  {
   "cell_type": "code",
   "execution_count": 3,
   "metadata": {},
   "outputs": [],
   "source": [
    "scale_dict = load_pickle('./nn_config/scale_dicts/009_Wm2_scaling.pkl')"
   ]
  },
  {
   "cell_type": "code",
   "execution_count": 4,
   "metadata": {},
   "outputs": [],
   "source": [
    "scale_dict['dRHdt'] = 0.01*L_S/G, # Arbitrary 0.1 factor as specific humidity is generally below 2%  "
   ]
  },
  {
   "cell_type": "code",
   "execution_count": 5,
   "metadata": {},
   "outputs": [
    {
     "data": {
      "text/plain": [
       "{'PHQ': array([7.0811688e+07, 1.3074196e+08, 2.1416970e+08, 3.0895507e+08,\n",
       "        3.8762451e+08, 4.4520458e+08, 4.4321341e+08, 3.6317286e+08,\n",
       "        4.2725360e+08, 5.0264173e+08, 5.9133267e+08, 6.9567149e+08,\n",
       "        8.1842150e+08, 9.6283104e+08, 1.1327212e+09, 1.3325868e+09,\n",
       "        1.5677202e+09, 1.8443410e+09, 2.1697720e+09, 2.1706406e+09,\n",
       "        1.9922205e+09, 1.6811768e+09, 1.2494753e+09, 7.2336192e+08,\n",
       "        6.7863763e+08, 6.2842387e+08, 5.7302957e+08, 5.1279936e+08,\n",
       "        4.4820160e+08, 3.7970438e+08], dtype=float32),\n",
       " 'PHCLDLIQ': array([7.0811688e+07, 1.3074196e+08, 2.1416970e+08, 3.0895507e+08,\n",
       "        3.8762451e+08, 4.4520458e+08, 4.4321341e+08, 3.6317286e+08,\n",
       "        4.2725360e+08, 5.0264173e+08, 5.9133267e+08, 6.9567149e+08,\n",
       "        8.1842150e+08, 9.6283104e+08, 1.1327212e+09, 1.3325868e+09,\n",
       "        1.5677202e+09, 1.8443410e+09, 2.1697720e+09, 2.1706406e+09,\n",
       "        1.9922205e+09, 1.6811768e+09, 1.2494753e+09, 7.2336192e+08,\n",
       "        6.7863763e+08, 6.2842387e+08, 5.7302957e+08, 5.1279936e+08,\n",
       "        4.4820160e+08, 3.7970438e+08], dtype=float32),\n",
       " 'PHCLDICE': array([7.0811688e+07, 1.3074196e+08, 2.1416970e+08, 3.0895507e+08,\n",
       "        3.8762451e+08, 4.4520458e+08, 4.4321341e+08, 3.6317286e+08,\n",
       "        4.2725360e+08, 5.0264173e+08, 5.9133267e+08, 6.9567149e+08,\n",
       "        8.1842150e+08, 9.6283104e+08, 1.1327212e+09, 1.3325868e+09,\n",
       "        1.5677202e+09, 1.8443410e+09, 2.1697720e+09, 2.1706406e+09,\n",
       "        1.9922205e+09, 1.6811768e+09, 1.2494753e+09, 7.2336192e+08,\n",
       "        6.7863763e+08, 6.2842387e+08, 5.7302957e+08, 5.1279936e+08,\n",
       "        4.4820160e+08, 3.7970438e+08], dtype=float32),\n",
       " 'TPHYSTND': array([ 28444.723,  52518.43 ,  86030.96 , 124105.82 , 155706.95 ,\n",
       "        178836.6  , 178036.75 , 145884.84 , 171625.78 , 201908.83 ,\n",
       "        237535.56 , 279448.   , 328756.1  , 386764.75 , 455008.78 ,\n",
       "        535293.9  , 629745.9  , 740863.2  , 871587.25 , 871936.2  ,\n",
       "        800265.7  , 675320.9  , 501908.4  , 290571.1  , 272605.56 ,\n",
       "        252434.92 , 230183.3  , 205989.11 , 180040.48 , 152525.48 ],\n",
       "       dtype=float32),\n",
       " 'QRL': array([ 28444.723,  52518.43 ,  86030.96 , 124105.82 , 155706.95 ,\n",
       "        178836.6  , 178036.75 , 145884.84 , 171625.78 , 201908.83 ,\n",
       "        237535.56 , 279448.   , 328756.1  , 386764.75 , 455008.78 ,\n",
       "        535293.9  , 629745.9  , 740863.2  , 871587.25 , 871936.2  ,\n",
       "        800265.7  , 675320.9  , 501908.4  , 290571.1  , 272605.56 ,\n",
       "        252434.92 , 230183.3  , 205989.11 , 180040.48 , 152525.48 ],\n",
       "       dtype=float32),\n",
       " 'QRS': array([ 28444.723,  52518.43 ,  86030.96 , 124105.82 , 155706.95 ,\n",
       "        178836.6  , 178036.75 , 145884.84 , 171625.78 , 201908.83 ,\n",
       "        237535.56 , 279448.   , 328756.1  , 386764.75 , 455008.78 ,\n",
       "        535293.9  , 629745.9  , 740863.2  , 871587.25 , 871936.2  ,\n",
       "        800265.7  , 675320.9  , 501908.4  , 290571.1  , 272605.56 ,\n",
       "        252434.92 , 230183.3  , 205989.11 , 180040.48 , 152525.48 ],\n",
       "       dtype=float32),\n",
       " 'DTVKE': array([ 15.802624,  29.176905,  47.79498 ,  68.94768 ,  86.50386 ,\n",
       "         99.35366 ,  98.90931 ,  81.047134,  95.34766 , 112.17157 ,\n",
       "        131.9642  , 155.24889 , 182.64227 , 214.86931 , 252.78267 ,\n",
       "        297.3855  , 349.8588  , 411.59067 , 484.21515 , 484.409   ,\n",
       "        444.59207 , 375.17825 , 278.838   , 161.42839 , 151.44754 ,\n",
       "        140.24162 , 127.87961 , 114.43839 , 100.02249 ,  84.736374],\n",
       "       dtype=float32),\n",
       " 'FSNT': 1,\n",
       " 'FSNS': 1,\n",
       " 'FLNT': 1,\n",
       " 'FLNS': 1,\n",
       " 'PRECT': 2501000000.0,\n",
       " 'PRECTEND': 2501000.0,\n",
       " 'PRECST': 2501000000.0,\n",
       " 'PRECSTEN': 2501000.0,\n",
       " 'dRHdt': (2890.7339876159476,)}"
      ]
     },
     "execution_count": 5,
     "metadata": {},
     "output_type": "execute_result"
    }
   ],
   "source": [
    "scale_dict"
   ]
  },
  {
   "cell_type": "code",
   "execution_count": 6,
   "metadata": {},
   "outputs": [],
   "source": [
    "in_vars = ['RH', 'QCBP', 'QIBP', 'TBP', 'VBP', \n",
    "           'Qdt_adiabatic', 'QCdt_adiabatic', 'QIdt_adiabatic', 'Tdt_adiabatic', 'Vdt_adiabatic',\n",
    "           'PS', 'SOLIN', 'SHFLX', 'LHFLX']\n",
    "out_vars = ['dRHdt', 'PHCLDLIQ', 'PHCLDICE', 'TPHYSTND', 'QRL', 'QRS', 'DTVKE', \n",
    "            'FSNT', 'FSNS', 'FLNT', 'FLNS', 'PRECT', 'PRECTEND', 'PRECST', 'PRECSTEN']"
   ]
  },
  {
   "cell_type": "code",
   "execution_count": 7,
   "metadata": {},
   "outputs": [],
   "source": [
    "TRAINFILE = '8col009RH_01_train.nc'\n",
    "NORMFILE = '8col009RH_01_norm.nc'\n",
    "VALIDFILE = '8col009RH_01_valid.nc'"
   ]
  },
  {
   "cell_type": "code",
   "execution_count": 8,
   "metadata": {},
   "outputs": [],
   "source": [
    "train_gen = DataGenerator(\n",
    "    data_fn = TRAINDIR+TRAINFILE,\n",
    "    input_vars = in_vars,\n",
    "    output_vars = out_vars,\n",
    "    norm_fn = TRAINDIR+NORMFILE,\n",
    "    input_transform = ('mean', 'maxrs'),\n",
    "    output_transform = scale_dict,\n",
    "    batch_size=1024,\n",
    "    shuffle=True\n",
    ")"
   ]
  },
  {
   "cell_type": "code",
   "execution_count": 9,
   "metadata": {},
   "outputs": [],
   "source": [
    "valid_gen = DataGenerator(\n",
    "    data_fn = TRAINDIR+VALIDFILE,\n",
    "    input_vars = in_vars,\n",
    "    output_vars = out_vars,\n",
    "    norm_fn = TRAINDIR+NORMFILE,\n",
    "    input_transform = ('mean', 'maxrs'),\n",
    "    output_transform = scale_dict,\n",
    "    batch_size=1024,\n",
    "    shuffle=True\n",
    ")"
   ]
  },
  {
   "cell_type": "markdown",
   "metadata": {},
   "source": [
    "Generators using Q"
   ]
  },
  {
   "cell_type": "code",
   "execution_count": 10,
   "metadata": {},
   "outputs": [],
   "source": [
    "TRAINFILEQ = '8col009_01_train.nc'\n",
    "VALIDFILEQ = '8col009_01_valid.nc'\n",
    "NORMFILEQ = '8col009_01_norm.nc'"
   ]
  },
  {
   "cell_type": "code",
   "execution_count": 11,
   "metadata": {},
   "outputs": [],
   "source": [
    "scale_dictQ = load_pickle('./nn_config/scale_dicts/009_Wm2_scaling.pkl')"
   ]
  },
  {
   "cell_type": "code",
   "execution_count": 12,
   "metadata": {},
   "outputs": [],
   "source": [
    "in_varsQ = ['QBP', 'QCBP', 'QIBP', 'TBP', 'VBP', \n",
    "           'Qdt_adiabatic', 'QCdt_adiabatic', 'QIdt_adiabatic', 'Tdt_adiabatic', 'Vdt_adiabatic',\n",
    "           'PS', 'SOLIN', 'SHFLX', 'LHFLX']\n",
    "out_varsQ = ['PHQ', 'PHCLDLIQ', 'PHCLDICE', 'TPHYSTND', 'QRL', 'QRS', 'DTVKE', \n",
    "            'FSNT', 'FSNS', 'FLNT', 'FLNS', 'PRECT', 'PRECTEND', 'PRECST', 'PRECSTEN']"
   ]
  },
  {
   "cell_type": "code",
   "execution_count": 13,
   "metadata": {},
   "outputs": [],
   "source": [
    "train_genQ = DataGenerator(\n",
    "    data_fn = TRAINDIR+TRAINFILEQ,\n",
    "    input_vars = in_varsQ,\n",
    "    output_vars = out_varsQ,\n",
    "    norm_fn = TRAINDIR+NORMFILEQ,\n",
    "    input_transform = ('mean', 'maxrs'),\n",
    "    output_transform = scale_dictQ,\n",
    "    batch_size=1024,\n",
    "    shuffle=True\n",
    ")"
   ]
  },
  {
   "cell_type": "code",
   "execution_count": 14,
   "metadata": {},
   "outputs": [],
   "source": [
    "valid_genQ = DataGenerator(\n",
    "    data_fn = TRAINDIR+VALIDFILEQ,\n",
    "    input_vars = in_varsQ,\n",
    "    output_vars = out_varsQ,\n",
    "    norm_fn = TRAINDIR+NORMFILEQ,\n",
    "    input_transform = ('mean', 'maxrs'),\n",
    "    output_transform = scale_dictQ,\n",
    "    batch_size=1024,\n",
    "    shuffle=True\n",
    ")"
   ]
  },
  {
   "cell_type": "markdown",
   "metadata": {},
   "source": [
    "Confirm that shapes are OK"
   ]
  },
  {
   "cell_type": "code",
   "execution_count": 15,
   "metadata": {},
   "outputs": [
    {
     "name": "stdout",
     "output_type": "stream",
     "text": [
      "(1024, 304)\n",
      "(1024, 218)\n"
     ]
    }
   ],
   "source": [
    "print(train_gen[50][0].shape)\n",
    "print(train_gen[50][1].shape)"
   ]
  },
  {
   "cell_type": "code",
   "execution_count": 16,
   "metadata": {},
   "outputs": [
    {
     "name": "stdout",
     "output_type": "stream",
     "text": [
      "(1024, 304)\n",
      "(1024, 218)\n"
     ]
    }
   ],
   "source": [
    "print(valid_gen[50][0].shape)\n",
    "print(valid_gen[50][1].shape)"
   ]
  },
  {
   "cell_type": "code",
   "execution_count": 17,
   "metadata": {},
   "outputs": [
    {
     "name": "stdout",
     "output_type": "stream",
     "text": [
      "(1024, 304)\n",
      "(1024, 218)\n"
     ]
    }
   ],
   "source": [
    "print(train_genQ[50][0].shape)\n",
    "print(train_genQ[50][1].shape)"
   ]
  },
  {
   "cell_type": "code",
   "execution_count": 18,
   "metadata": {},
   "outputs": [
    {
     "name": "stdout",
     "output_type": "stream",
     "text": [
      "(1024, 304)\n",
      "(1024, 218)\n"
     ]
    }
   ],
   "source": [
    "print(valid_genQ[50][0].shape)\n",
    "print(valid_genQ[50][1].shape)"
   ]
  },
  {
   "cell_type": "markdown",
   "metadata": {},
   "source": [
    "## 3.2) UCnet"
   ]
  },
  {
   "cell_type": "markdown",
   "metadata": {},
   "source": [
    "UCnet structure"
   ]
  },
  {
   "cell_type": "code",
   "execution_count": 42,
   "metadata": {},
   "outputs": [
    {
     "name": "stderr",
     "output_type": "stream",
     "text": [
      "W0107 04:20:07.278859 23040240617280 deprecation.py:506] From /home/t/Tom.Beucler/miniconda3/lib/python3.7/site-packages/tensorflow/python/ops/init_ops.py:1251: calling VarianceScaling.__init__ (from tensorflow.python.ops.init_ops) with dtype is deprecated and will be removed in a future version.\n",
      "Instructions for updating:\n",
      "Call initializer instance with the dtype argument instead of passing it to the constructor\n"
     ]
    }
   ],
   "source": [
    "inp = Input(shape=(304,))\n",
    "densout = Dense(512, activation='linear')(inp)\n",
    "densout = LeakyReLU(alpha=0.3)(densout)\n",
    "for i in range (4):\n",
    "    densout = Dense(512, activation='linear')(densout)\n",
    "    densout = LeakyReLU(alpha=0.3)(densout)\n",
    "out = Dense(218, activation='linear')(densout)\n",
    "UCnet = tf.keras.models.Model(inp, out)"
   ]
  },
  {
   "cell_type": "code",
   "execution_count": 25,
   "metadata": {},
   "outputs": [],
   "source": [
    "inp = Input(shape=(304,))\n",
    "inpQ = RH2QV(inp_subQ=train_genQ.input_transform.sub, \n",
    "             inp_divQ=train_genQ.input_transform.div, \n",
    "             inp_subRH=train_gen.input_transform.sub, \n",
    "             inp_divRH=train_gen.input_transform.div, \n",
    "             hyam=hyam, hybm=hybm)(inp)\n",
    "densout = Dense(512, activation='linear')(inpQ)\n",
    "densout = LeakyReLU(alpha=0.3)(densout)\n",
    "for i in range (4):\n",
    "    densout = Dense(512, activation='linear')(densout)\n",
    "    densout = LeakyReLU(alpha=0.3)(densout)\n",
    "outQ = Dense(218, activation='linear')(densout)\n",
    "out = dQVdt2dRHdt(inp_subQ=train_genQ.input_transform.sub,\n",
    "                  inp_divQ=train_genQ.input_transform.div,\n",
    "                  norm_qQ=scale_dictQ['PHQ'], \n",
    "                  inp_subRH=train_gen.input_transform.sub, \n",
    "                  inp_divRH=train_gen.input_transform.div, \n",
    "                  norm_qRH=scale_dict['dRHdt'], \n",
    "                  hyam=hyam, hybm=hybm)([inpQ, outQ])\n",
    "UCnetRH2Q = tf.keras.models.Model(inp, out)"
   ]
  },
  {
   "cell_type": "code",
   "execution_count": null,
   "metadata": {},
   "outputs": [],
   "source": [
    "UCnet.summary()"
   ]
  },
  {
   "cell_type": "code",
   "execution_count": 45,
   "metadata": {},
   "outputs": [],
   "source": [
    "path_HDF5 = '/local/Tom.Beucler/SPCAM_PHYS/HDF5_DATA/'\n",
    "earlyStopping = EarlyStopping(monitor='val_loss', patience=10, verbose=0, mode='min')\n",
    "mcp_save = ModelCheckpoint(path_HDF5+'035_UCnet.hdf5',save_best_only=True, monitor='val_loss', mode='min')"
   ]
  },
  {
   "cell_type": "code",
   "execution_count": 50,
   "metadata": {},
   "outputs": [],
   "source": [
    "UCnet.compile(tf.keras.optimizers.RMSprop(), loss=mse)"
   ]
  },
  {
   "cell_type": "code",
   "execution_count": 51,
   "metadata": {},
   "outputs": [
    {
     "name": "stdout",
     "output_type": "stream",
     "text": [
      "Epoch 1/10\n",
      "9120/9120 [==============================] - 256s 28ms/step - loss: 107.9758 - val_loss: 85.5780\n",
      "Epoch 2/10\n",
      "9120/9120 [==============================] - 225s 25ms/step - loss: 87.3352 - val_loss: 76.6641\n",
      "Epoch 3/10\n",
      "9120/9120 [==============================] - 226s 25ms/step - loss: 80.4424 - val_loss: 72.8080\n",
      "Epoch 4/10\n",
      "9120/9120 [==============================] - 225s 25ms/step - loss: 76.6570 - val_loss: 74.5833\n",
      "Epoch 5/10\n",
      "9120/9120 [==============================] - 225s 25ms/step - loss: 74.1997 - val_loss: 70.5920\n",
      "Epoch 6/10\n",
      "9120/9120 [==============================] - 226s 25ms/step - loss: 72.4749 - val_loss: 69.8499\n",
      "Epoch 7/10\n",
      "9120/9120 [==============================] - 227s 25ms/step - loss: 71.2432 - val_loss: 67.4036\n",
      "Epoch 8/10\n",
      "9120/9120 [==============================] - 226s 25ms/step - loss: 70.2651 - val_loss: 68.6109\n",
      "Epoch 9/10\n",
      "9120/9120 [==============================] - 224s 25ms/step - loss: 69.4793 - val_loss: 67.5296\n",
      "Epoch 10/10\n",
      "9120/9120 [==============================] - 227s 25ms/step - loss: 68.8295 - val_loss: 66.4593\n"
     ]
    },
    {
     "data": {
      "text/plain": [
       "<tensorflow.python.keras.callbacks.History at 0x14f3e807f668>"
      ]
     },
     "execution_count": 51,
     "metadata": {},
     "output_type": "execute_result"
    }
   ],
   "source": [
    "Nep = 10\n",
    "UCnet.fit_generator(train_gen, epochs=Nep, validation_data=valid_gen,\\\n",
    "              callbacks=[earlyStopping, mcp_save])"
   ]
  },
  {
   "cell_type": "markdown",
   "metadata": {},
   "source": [
    "## 3.3) UCnet NL"
   ]
  },
  {
   "cell_type": "markdown",
   "metadata": {},
   "source": [
    "UCnet using conversion layers"
   ]
  },
  {
   "cell_type": "code",
   "execution_count": 26,
   "metadata": {},
   "outputs": [
    {
     "name": "stdout",
     "output_type": "stream",
     "text": [
      "Model: \"model_1\"\n",
      "__________________________________________________________________________________________________\n",
      "Layer (type)                    Output Shape         Param #     Connected to                     \n",
      "==================================================================================================\n",
      "input_3 (InputLayer)            [(None, 304)]        0                                            \n",
      "__________________________________________________________________________________________________\n",
      "r_h2qv_2 (RH2QV)                (None, 304)          0           input_3[0][0]                    \n",
      "__________________________________________________________________________________________________\n",
      "dense_6 (Dense)                 (None, 512)          156160      r_h2qv_2[0][0]                   \n",
      "__________________________________________________________________________________________________\n",
      "leaky_re_lu_5 (LeakyReLU)       (None, 512)          0           dense_6[0][0]                    \n",
      "__________________________________________________________________________________________________\n",
      "dense_7 (Dense)                 (None, 512)          262656      leaky_re_lu_5[0][0]              \n",
      "__________________________________________________________________________________________________\n",
      "leaky_re_lu_6 (LeakyReLU)       (None, 512)          0           dense_7[0][0]                    \n",
      "__________________________________________________________________________________________________\n",
      "dense_8 (Dense)                 (None, 512)          262656      leaky_re_lu_6[0][0]              \n",
      "__________________________________________________________________________________________________\n",
      "leaky_re_lu_7 (LeakyReLU)       (None, 512)          0           dense_8[0][0]                    \n",
      "__________________________________________________________________________________________________\n",
      "dense_9 (Dense)                 (None, 512)          262656      leaky_re_lu_7[0][0]              \n",
      "__________________________________________________________________________________________________\n",
      "leaky_re_lu_8 (LeakyReLU)       (None, 512)          0           dense_9[0][0]                    \n",
      "__________________________________________________________________________________________________\n",
      "dense_10 (Dense)                (None, 512)          262656      leaky_re_lu_8[0][0]              \n",
      "__________________________________________________________________________________________________\n",
      "leaky_re_lu_9 (LeakyReLU)       (None, 512)          0           dense_10[0][0]                   \n",
      "__________________________________________________________________________________________________\n",
      "dense_11 (Dense)                (None, 218)          111834      leaky_re_lu_9[0][0]              \n",
      "__________________________________________________________________________________________________\n",
      "d_q_vdt2d_r_hdt_1 (dQVdt2dRHdt) (None, 218)          0           r_h2qv_2[0][0]                   \n",
      "                                                                 dense_11[0][0]                   \n",
      "==================================================================================================\n",
      "Total params: 1,318,618\n",
      "Trainable params: 1,318,618\n",
      "Non-trainable params: 0\n",
      "__________________________________________________________________________________________________\n"
     ]
    }
   ],
   "source": [
    "UCnetRH2Q.summary()"
   ]
  },
  {
   "cell_type": "code",
   "execution_count": 27,
   "metadata": {},
   "outputs": [],
   "source": [
    "path_HDF5 = '/local/Tom.Beucler/SPCAM_PHYS/HDF5_DATA/'\n",
    "earlyStopping = EarlyStopping(monitor='val_loss', patience=10, verbose=0, mode='min')\n",
    "mcp_save = ModelCheckpoint(path_HDF5+'UCnetNL_2.hdf5',save_best_only=True, monitor='val_loss', mode='min')"
   ]
  },
  {
   "cell_type": "code",
   "execution_count": 28,
   "metadata": {},
   "outputs": [],
   "source": [
    "UCnetRH2Q.compile(tf.keras.optimizers.RMSprop(), loss=mse)"
   ]
  },
  {
   "cell_type": "code",
   "execution_count": 29,
   "metadata": {},
   "outputs": [
    {
     "name": "stdout",
     "output_type": "stream",
     "text": [
      "Epoch 1/10\n",
      "9120/9120 [==============================] - 234s 26ms/step - loss: 263.4022 - val_loss: 125.8904\n",
      "Epoch 2/10\n",
      "9120/9120 [==============================] - 195s 21ms/step - loss: 105.3300 - val_loss: 109.0206\n",
      "Epoch 3/10\n",
      "9120/9120 [==============================] - 193s 21ms/step - loss: 92.6982 - val_loss: 85.7337\n",
      "Epoch 4/10\n",
      "9120/9120 [==============================] - 193s 21ms/step - loss: 87.3720 - val_loss: 79.5286\n",
      "Epoch 5/10\n",
      "9120/9120 [==============================] - 195s 21ms/step - loss: 84.0717 - val_loss: 110.8098\n",
      "Epoch 6/10\n",
      "9120/9120 [==============================] - 193s 21ms/step - loss: 81.8779 - val_loss: 77.4336\n",
      "Epoch 7/10\n",
      "9120/9120 [==============================] - 192s 21ms/step - loss: 80.2468 - val_loss: 81.3604\n",
      "Epoch 8/10\n",
      "9120/9120 [==============================] - 192s 21ms/step - loss: 78.8680 - val_loss: 73.3902\n",
      "Epoch 9/10\n",
      "9120/9120 [==============================] - 191s 21ms/step - loss: 77.7608 - val_loss: 78.2404\n",
      "Epoch 10/10\n",
      "9120/9120 [==============================] - 192s 21ms/step - loss: 76.7397 - val_loss: 75.4731\n"
     ]
    },
    {
     "data": {
      "text/plain": [
       "<tensorflow.python.keras.callbacks.History at 0x14e0c58f1b38>"
      ]
     },
     "execution_count": 29,
     "metadata": {},
     "output_type": "execute_result"
    }
   ],
   "source": [
    "Nep = 10\n",
    "UCnetRH2Q.fit_generator(train_gen, epochs=Nep, validation_data=valid_gen,\\\n",
    "              callbacks=[earlyStopping, mcp_save])"
   ]
  },
  {
   "cell_type": "markdown",
   "metadata": {},
   "source": [
    "## 3.4) ACnet NL"
   ]
  },
  {
   "cell_type": "markdown",
   "metadata": {},
   "source": [
    "ACnet using the RH2Q conversion"
   ]
  },
  {
   "cell_type": "code",
   "execution_count": 23,
   "metadata": {},
   "outputs": [],
   "source": [
    "inp = Input(shape=(304,))\n",
    "inpQ = RH2QV(inp_subQ=train_genQ.input_transform.sub, \n",
    "             inp_divQ=train_genQ.input_transform.div, \n",
    "             inp_subRH=train_gen.input_transform.sub, \n",
    "             inp_divRH=train_gen.input_transform.div, \n",
    "             hyam=hyam, hybm=hybm)(inp)\n",
    "densout = Dense(512, activation='linear')(inpQ)\n",
    "densout = LeakyReLU(alpha=0.3)(densout)\n",
    "for i in range (4):\n",
    "    densout = Dense(512, activation='linear')(densout)\n",
    "    densout = LeakyReLU(alpha=0.3)(densout)\n",
    "densout = Dense(214, activation='linear')(densout)\n",
    "densout = LeakyReLU(alpha=0.3)(densout)\n",
    "surfout = SurRadLayer(\n",
    "    inp_div=train_gen.input_transform.div,\n",
    "    inp_sub=train_gen.input_transform.sub,\n",
    "    norm_q=scale_dict['PHQ'],\n",
    "    hyai=hyai, hybi=hybi\n",
    ")([inpQ, densout])\n",
    "massout = MassConsLayer(\n",
    "    inp_div=train_gen.input_transform.div,\n",
    "    inp_sub=train_gen.input_transform.sub,\n",
    "    norm_q=scale_dict['PHQ'],\n",
    "    hyai=hyai, hybi=hybi\n",
    ")([inpQ, surfout])\n",
    "enthout = EntConsLayer(\n",
    "    inp_div=train_gen.input_transform.div,\n",
    "    inp_sub=train_gen.input_transform.sub,\n",
    "    norm_q=scale_dict['PHQ'],\n",
    "    hyai=hyai, hybi=hybi\n",
    ")([inpQ, massout])\n",
    "outQ = Dense(218, activation='linear')(enthout)\n",
    "out = dQVdt2dRHdt(inp_subQ=train_genQ.input_transform.sub,\n",
    "                  inp_divQ=train_genQ.input_transform.div,\n",
    "                  norm_qQ=scale_dictQ['PHQ'],\n",
    "                  norm_TQ=scale_dictQ['TPHYSTND'],\n",
    "                  inp_subRH=train_gen.input_transform.sub, \n",
    "                  inp_divRH=train_gen.input_transform.div, \n",
    "                  norm_qRH=scale_dict['dRHdt'], \n",
    "                  hyam=hyam, hybm=hybm)([inpQ, outQ])\n",
    "ACnetRH2Q = tf.keras.models.Model(inp, out)"
   ]
  },
  {
   "cell_type": "code",
   "execution_count": 24,
   "metadata": {},
   "outputs": [
    {
     "name": "stdout",
     "output_type": "stream",
     "text": [
      "Model: \"model_2\"\n",
      "__________________________________________________________________________________________________\n",
      "Layer (type)                    Output Shape         Param #     Connected to                     \n",
      "==================================================================================================\n",
      "input_4 (InputLayer)            [(None, 304)]        0                                            \n",
      "__________________________________________________________________________________________________\n",
      "r_h2qv_2 (RH2QV)                (None, 304)          0           input_4[0][0]                    \n",
      "__________________________________________________________________________________________________\n",
      "dense_7 (Dense)                 (None, 512)          156160      r_h2qv_2[0][0]                   \n",
      "__________________________________________________________________________________________________\n",
      "leaky_re_lu_6 (LeakyReLU)       (None, 512)          0           dense_7[0][0]                    \n",
      "__________________________________________________________________________________________________\n",
      "dense_8 (Dense)                 (None, 512)          262656      leaky_re_lu_6[0][0]              \n",
      "__________________________________________________________________________________________________\n",
      "leaky_re_lu_7 (LeakyReLU)       (None, 512)          0           dense_8[0][0]                    \n",
      "__________________________________________________________________________________________________\n",
      "dense_9 (Dense)                 (None, 512)          262656      leaky_re_lu_7[0][0]              \n",
      "__________________________________________________________________________________________________\n",
      "leaky_re_lu_8 (LeakyReLU)       (None, 512)          0           dense_9[0][0]                    \n",
      "__________________________________________________________________________________________________\n",
      "dense_10 (Dense)                (None, 512)          262656      leaky_re_lu_8[0][0]              \n",
      "__________________________________________________________________________________________________\n",
      "leaky_re_lu_9 (LeakyReLU)       (None, 512)          0           dense_10[0][0]                   \n",
      "__________________________________________________________________________________________________\n",
      "dense_11 (Dense)                (None, 512)          262656      leaky_re_lu_9[0][0]              \n",
      "__________________________________________________________________________________________________\n",
      "leaky_re_lu_10 (LeakyReLU)      (None, 512)          0           dense_11[0][0]                   \n",
      "__________________________________________________________________________________________________\n",
      "dense_12 (Dense)                (None, 214)          109782      leaky_re_lu_10[0][0]             \n",
      "__________________________________________________________________________________________________\n",
      "leaky_re_lu_11 (LeakyReLU)      (None, 214)          0           dense_12[0][0]                   \n",
      "__________________________________________________________________________________________________\n",
      "sur_rad_layer_1 (SurRadLayer)   (None, 216)          0           r_h2qv_2[0][0]                   \n",
      "                                                                 leaky_re_lu_11[0][0]             \n",
      "__________________________________________________________________________________________________\n",
      "mass_cons_layer_1 (MassConsLaye (None, 217)          0           r_h2qv_2[0][0]                   \n",
      "                                                                 sur_rad_layer_1[0][0]            \n",
      "__________________________________________________________________________________________________\n",
      "ent_cons_layer_1 (EntConsLayer) (None, 218)          0           r_h2qv_2[0][0]                   \n",
      "                                                                 mass_cons_layer_1[0][0]          \n",
      "__________________________________________________________________________________________________\n",
      "dense_13 (Dense)                (None, 218)          47742       ent_cons_layer_1[0][0]           \n",
      "__________________________________________________________________________________________________\n",
      "d_q_vdt2d_r_hdt (dQVdt2dRHdt)   (None, 218)          0           r_h2qv_2[0][0]                   \n",
      "                                                                 dense_13[0][0]                   \n",
      "==================================================================================================\n",
      "Total params: 1,364,308\n",
      "Trainable params: 1,364,308\n",
      "Non-trainable params: 0\n",
      "__________________________________________________________________________________________________\n"
     ]
    }
   ],
   "source": [
    "ACnetRH2Q.summary()"
   ]
  },
  {
   "cell_type": "code",
   "execution_count": 25,
   "metadata": {},
   "outputs": [],
   "source": [
    "path_HDF5 = '/local/Tom.Beucler/SPCAM_PHYS/HDF5_DATA/'\n",
    "earlyStopping = EarlyStopping(monitor='val_loss', patience=10, verbose=0, mode='min')\n",
    "mcp_save = ModelCheckpoint(path_HDF5+'ACnetNL_4.hdf5',save_best_only=True, monitor='val_loss', mode='min')"
   ]
  },
  {
   "cell_type": "code",
   "execution_count": 26,
   "metadata": {},
   "outputs": [],
   "source": [
    "ACnetRH2Q.compile(tf.keras.optimizers.RMSprop(), loss=mse)"
   ]
  },
  {
   "cell_type": "code",
   "execution_count": 27,
   "metadata": {},
   "outputs": [
    {
     "name": "stdout",
     "output_type": "stream",
     "text": [
      "Epoch 1/10\n",
      "9120/9120 [==============================] - 268s 29ms/step - loss: 207.9038 - val_loss: 230.4589\n",
      "Epoch 2/10\n",
      "7795/9120 [========================>.....] - ETA: 22s - loss: 118.4716"
     ]
    },
    {
     "ename": "KeyboardInterrupt",
     "evalue": "",
     "output_type": "error",
     "traceback": [
      "\u001b[0;31m---------------------------------------------------------------------------\u001b[0m",
      "\u001b[0;31mKeyboardInterrupt\u001b[0m                         Traceback (most recent call last)",
      "\u001b[0;32m~/miniconda3/lib/python3.7/site-packages/tensorflow/python/keras/api/_v1/keras/models/__init__.py\u001b[0m in \u001b[0;36m<module>\u001b[0;34m\u001b[0m\n\u001b[1;32m      1\u001b[0m \u001b[0mNep\u001b[0m \u001b[0;34m=\u001b[0m \u001b[0;36m10\u001b[0m\u001b[0;34m\u001b[0m\u001b[0;34m\u001b[0m\u001b[0m\n\u001b[1;32m      2\u001b[0m ACnetRH2Q.fit_generator(train_gen, epochs=Nep, validation_data=valid_gen,\\\n\u001b[0;32m----> 3\u001b[0;31m               callbacks=[earlyStopping, mcp_save])\n\u001b[0m",
      "\u001b[0;32m~/miniconda3/lib/python3.7/site-packages/tensorflow/python/keras/engine/training.py\u001b[0m in \u001b[0;36mfit_generator\u001b[0;34m(self, generator, steps_per_epoch, epochs, verbose, callbacks, validation_data, validation_steps, validation_freq, class_weight, max_queue_size, workers, use_multiprocessing, shuffle, initial_epoch)\u001b[0m\n\u001b[1;32m   1431\u001b[0m         \u001b[0mshuffle\u001b[0m\u001b[0;34m=\u001b[0m\u001b[0mshuffle\u001b[0m\u001b[0;34m,\u001b[0m\u001b[0;34m\u001b[0m\u001b[0;34m\u001b[0m\u001b[0m\n\u001b[1;32m   1432\u001b[0m         \u001b[0minitial_epoch\u001b[0m\u001b[0;34m=\u001b[0m\u001b[0minitial_epoch\u001b[0m\u001b[0;34m,\u001b[0m\u001b[0;34m\u001b[0m\u001b[0;34m\u001b[0m\u001b[0m\n\u001b[0;32m-> 1433\u001b[0;31m         steps_name='steps_per_epoch')\n\u001b[0m\u001b[1;32m   1434\u001b[0m \u001b[0;34m\u001b[0m\u001b[0m\n\u001b[1;32m   1435\u001b[0m   def evaluate_generator(self,\n",
      "\u001b[0;32m~/miniconda3/lib/python3.7/site-packages/tensorflow/python/keras/engine/training_generator.py\u001b[0m in \u001b[0;36mmodel_iteration\u001b[0;34m(model, data, steps_per_epoch, epochs, verbose, callbacks, validation_data, validation_steps, validation_freq, class_weight, max_queue_size, workers, use_multiprocessing, shuffle, initial_epoch, mode, batch_size, steps_name, **kwargs)\u001b[0m\n\u001b[1;32m    218\u001b[0m     \u001b[0mstep\u001b[0m \u001b[0;34m=\u001b[0m \u001b[0;36m0\u001b[0m\u001b[0;34m\u001b[0m\u001b[0;34m\u001b[0m\u001b[0m\n\u001b[1;32m    219\u001b[0m     \u001b[0;32mwhile\u001b[0m \u001b[0mstep\u001b[0m \u001b[0;34m<\u001b[0m \u001b[0mtarget_steps\u001b[0m\u001b[0;34m:\u001b[0m\u001b[0;34m\u001b[0m\u001b[0;34m\u001b[0m\u001b[0m\n\u001b[0;32m--> 220\u001b[0;31m       \u001b[0mbatch_data\u001b[0m \u001b[0;34m=\u001b[0m \u001b[0m_get_next_batch\u001b[0m\u001b[0;34m(\u001b[0m\u001b[0mgenerator\u001b[0m\u001b[0;34m,\u001b[0m \u001b[0mmode\u001b[0m\u001b[0;34m)\u001b[0m\u001b[0;34m\u001b[0m\u001b[0;34m\u001b[0m\u001b[0m\n\u001b[0m\u001b[1;32m    221\u001b[0m       \u001b[0;32mif\u001b[0m \u001b[0mbatch_data\u001b[0m \u001b[0;32mis\u001b[0m \u001b[0;32mNone\u001b[0m\u001b[0;34m:\u001b[0m\u001b[0;34m\u001b[0m\u001b[0;34m\u001b[0m\u001b[0m\n\u001b[1;32m    222\u001b[0m         \u001b[0;32mif\u001b[0m \u001b[0mis_dataset\u001b[0m\u001b[0;34m:\u001b[0m\u001b[0;34m\u001b[0m\u001b[0;34m\u001b[0m\u001b[0m\n",
      "\u001b[0;32m~/miniconda3/lib/python3.7/site-packages/tensorflow/python/keras/engine/training_generator.py\u001b[0m in \u001b[0;36m_get_next_batch\u001b[0;34m(generator, mode)\u001b[0m\n\u001b[1;32m    360\u001b[0m   \u001b[0;34m\"\"\"Retrieves the next batch of input data.\"\"\"\u001b[0m\u001b[0;34m\u001b[0m\u001b[0;34m\u001b[0m\u001b[0m\n\u001b[1;32m    361\u001b[0m   \u001b[0;32mtry\u001b[0m\u001b[0;34m:\u001b[0m\u001b[0;34m\u001b[0m\u001b[0;34m\u001b[0m\u001b[0m\n\u001b[0;32m--> 362\u001b[0;31m     \u001b[0mgenerator_output\u001b[0m \u001b[0;34m=\u001b[0m \u001b[0mnext\u001b[0m\u001b[0;34m(\u001b[0m\u001b[0mgenerator\u001b[0m\u001b[0;34m)\u001b[0m\u001b[0;34m\u001b[0m\u001b[0;34m\u001b[0m\u001b[0m\n\u001b[0m\u001b[1;32m    363\u001b[0m   \u001b[0;32mexcept\u001b[0m \u001b[0;34m(\u001b[0m\u001b[0mStopIteration\u001b[0m\u001b[0;34m,\u001b[0m \u001b[0merrors\u001b[0m\u001b[0;34m.\u001b[0m\u001b[0mOutOfRangeError\u001b[0m\u001b[0;34m)\u001b[0m\u001b[0;34m:\u001b[0m\u001b[0;34m\u001b[0m\u001b[0;34m\u001b[0m\u001b[0m\n\u001b[1;32m    364\u001b[0m     \u001b[0;32mreturn\u001b[0m \u001b[0;32mNone\u001b[0m\u001b[0;34m\u001b[0m\u001b[0;34m\u001b[0m\u001b[0m\n",
      "\u001b[0;32m~/miniconda3/lib/python3.7/site-packages/tensorflow/python/keras/utils/data_utils.py\u001b[0m in \u001b[0;36mget\u001b[0;34m(self)\u001b[0m\n\u001b[1;32m    778\u001b[0m       \u001b[0;32mwhile\u001b[0m \u001b[0mself\u001b[0m\u001b[0;34m.\u001b[0m\u001b[0mis_running\u001b[0m\u001b[0;34m(\u001b[0m\u001b[0;34m)\u001b[0m\u001b[0;34m:\u001b[0m\u001b[0;34m\u001b[0m\u001b[0;34m\u001b[0m\u001b[0m\n\u001b[1;32m    779\u001b[0m         \u001b[0minputs\u001b[0m \u001b[0;34m=\u001b[0m \u001b[0mself\u001b[0m\u001b[0;34m.\u001b[0m\u001b[0mqueue\u001b[0m\u001b[0;34m.\u001b[0m\u001b[0mget\u001b[0m\u001b[0;34m(\u001b[0m\u001b[0mblock\u001b[0m\u001b[0;34m=\u001b[0m\u001b[0;32mTrue\u001b[0m\u001b[0;34m)\u001b[0m\u001b[0;34m.\u001b[0m\u001b[0mget\u001b[0m\u001b[0;34m(\u001b[0m\u001b[0;34m)\u001b[0m\u001b[0;34m\u001b[0m\u001b[0;34m\u001b[0m\u001b[0m\n\u001b[0;32m--> 780\u001b[0;31m         \u001b[0mself\u001b[0m\u001b[0;34m.\u001b[0m\u001b[0mqueue\u001b[0m\u001b[0;34m.\u001b[0m\u001b[0mtask_done\u001b[0m\u001b[0;34m(\u001b[0m\u001b[0;34m)\u001b[0m\u001b[0;34m\u001b[0m\u001b[0;34m\u001b[0m\u001b[0m\n\u001b[0m\u001b[1;32m    781\u001b[0m         \u001b[0;32mif\u001b[0m \u001b[0minputs\u001b[0m \u001b[0;32mis\u001b[0m \u001b[0;32mnot\u001b[0m \u001b[0;32mNone\u001b[0m\u001b[0;34m:\u001b[0m\u001b[0;34m\u001b[0m\u001b[0;34m\u001b[0m\u001b[0m\n\u001b[1;32m    782\u001b[0m           \u001b[0;32myield\u001b[0m \u001b[0minputs\u001b[0m\u001b[0;34m\u001b[0m\u001b[0;34m\u001b[0m\u001b[0m\n",
      "\u001b[0;31mKeyboardInterrupt\u001b[0m: "
     ]
    }
   ],
   "source": [
    "Nep = 10\n",
    "ACnetRH2Q.fit_generator(train_gen, epochs=Nep, validation_data=valid_gen,\\\n",
    "              callbacks=[earlyStopping, mcp_save])"
   ]
  },
  {
   "cell_type": "markdown",
   "metadata": {},
   "source": [
    "# 4) Compare performances of UCnet and UCnetRH2Q"
   ]
  },
  {
   "cell_type": "markdown",
   "metadata": {},
   "source": [
    "## 4.1) R2 of vertical profiles: Load (RH -> dRH/dt) models"
   ]
  },
  {
   "cell_type": "markdown",
   "metadata": {},
   "source": [
    "tgb - 1/6/2020 - It looks like the layers above cannot be saved statically as is. Therefore, we will do all of our evaluation using eager execution."
   ]
  },
  {
   "cell_type": "code",
   "execution_count": 5,
   "metadata": {},
   "outputs": [],
   "source": [
    "path_HDF5 = '/local/Tom.Beucler/SPCAM_PHYS/HDF5_DATA/'\n",
    "config_file = ['8col_rad_tbeucler_local-RH_PostProc.yml',\n",
    "               '8col_rad_tbeucler_local-RH_PostProc.yml',\n",
    "               '8col_rad_tbeucler_local-RH_PostProc.yml']\n",
    "# data_file = ['8col009RH_01_train.nc',\n",
    "#             '8col009RH_01_valid.nc',\n",
    "#             '8col009RH_01_test.nc']\n",
    "data_file = ['8col009RH_01_valid.nc']\n",
    "NNarray = ['035_UCnet.hdf5','ACnetNL_4.hdf5']\n",
    "NNname = ['UCnet','ACnet_{NL}'] # TODO: Add UCnet_NL\n",
    "dict_lay = {'SurRadLayer':SurRadLayer,'MassConsLayer':MassConsLayer,'EntConsLayer':EntConsLayer,\n",
    "            'RH2QV':RH2QV,'dQVdt2dRHdt':dQVdt2dRHdt,\n",
    "           'eliq':eliq,'eice':eice,'esat':esat,'qv':qv,'RH':RH}"
   ]
  },
  {
   "cell_type": "code",
   "execution_count": 6,
   "metadata": {},
   "outputs": [
    {
     "name": "stderr",
     "output_type": "stream",
     "text": [
      "W0227 21:02:08.310817 22393826871104 deprecation.py:506] From /home/t/Tom.Beucler/miniconda3/lib/python3.7/site-packages/tensorflow/python/ops/init_ops.py:97: calling GlorotUniform.__init__ (from tensorflow.python.ops.init_ops) with dtype is deprecated and will be removed in a future version.\n",
      "Instructions for updating:\n",
      "Call initializer instance with the dtype argument instead of passing it to the constructor\n",
      "W0227 21:02:08.311420 22393826871104 deprecation.py:506] From /home/t/Tom.Beucler/miniconda3/lib/python3.7/site-packages/tensorflow/python/ops/init_ops.py:1251: calling VarianceScaling.__init__ (from tensorflow.python.ops.init_ops) with dtype is deprecated and will be removed in a future version.\n",
      "Instructions for updating:\n",
      "Call initializer instance with the dtype argument instead of passing it to the constructor\n",
      "W0227 21:02:08.313834 22393826871104 deprecation.py:506] From /home/t/Tom.Beucler/miniconda3/lib/python3.7/site-packages/tensorflow/python/ops/init_ops.py:97: calling Zeros.__init__ (from tensorflow.python.ops.init_ops) with dtype is deprecated and will be removed in a future version.\n",
      "Instructions for updating:\n",
      "Call initializer instance with the dtype argument instead of passing it to the constructor\n"
     ]
    },
    {
     "name": "stdout",
     "output_type": "stream",
     "text": [
      "/scratch-local/Tom.Beucler/SPCAM_PHYS/HDF5_DATA\n",
      "NN name is  035_UCnet.hdf5\n",
      "data name is  8col009RH_01_valid.nc\n",
      "NN name is  ACnetNL_4.hdf5\n"
     ]
    },
    {
     "name": "stderr",
     "output_type": "stream",
     "text": [
      "/home/t/Tom.Beucler/SPCAM/CBRAIN-CAM/notebooks/tbeucler_devlog/cbrain/model_diagnostics.py:25: YAMLLoadWarning: calling yaml.load() without Loader=... is deprecated, as the default Loader is unsafe. Please read https://msg.pyyaml.org/load for full details.\n",
      "  config = yaml.load(f)\n",
      "W0227 21:02:09.824690 22393826871104 deprecation.py:323] From <ipython-input-2-d8b861a31dd8>:20: add_dispatch_support.<locals>.wrapper (from tensorflow.python.ops.array_ops) is deprecated and will be removed in a future version.\n",
      "Instructions for updating:\n",
      "Use tf.where in 2.0, which has the same broadcast rule as np.where\n"
     ]
    },
    {
     "name": "stdout",
     "output_type": "stream",
     "text": [
      "data name is  8col009RH_01_valid.nc\n"
     ]
    },
    {
     "name": "stderr",
     "output_type": "stream",
     "text": [
      "/home/t/Tom.Beucler/SPCAM/CBRAIN-CAM/notebooks/tbeucler_devlog/cbrain/model_diagnostics.py:25: YAMLLoadWarning: calling yaml.load() without Loader=... is deprecated, as the default Loader is unsafe. Please read https://msg.pyyaml.org/load for full details.\n",
      "  config = yaml.load(f)\n"
     ]
    }
   ],
   "source": [
    "NN = {}; md = {};\n",
    "%cd $TRAINDIR/HDF5_DATA\n",
    "for i,NNs in enumerate(NNarray):\n",
    "    print('NN name is ',NNs)\n",
    "    path = path_HDF5+NNs\n",
    "    NN[NNs] = load_model(path,custom_objects=dict_lay)\n",
    "    md[NNs] = {}\n",
    "    for j,data in enumerate(data_file):\n",
    "        print('data name is ',data)\n",
    "        md[NNs][data[13:-3]] = ModelDiagnostics(NN[NNs],\n",
    "                                                '/home/t/Tom.Beucler/SPCAM/CBRAIN-CAM/pp_config/'+config_file[i],\n",
    "                                                '/local/Tom.Beucler/SPCAM_PHYS/'+data)"
   ]
  },
  {
   "cell_type": "markdown",
   "metadata": {},
   "source": [
    "## 4.2) Mean-squared error and conservation penalty"
   ]
  },
  {
   "cell_type": "markdown",
   "metadata": {},
   "source": [
    "### 4.2.1) Loop over timesteps to produce samples"
   ]
  },
  {
   "cell_type": "code",
   "execution_count": 7,
   "metadata": {},
   "outputs": [],
   "source": [
    "from cbrain.model_diagnostics import *"
   ]
  },
  {
   "cell_type": "code",
   "execution_count": 16,
   "metadata": {},
   "outputs": [
    {
     "name": "stdout",
     "output_type": "stream",
     "text": [
      "i= 0 & NNs= 035_Test01.hdf5          \n"
     ]
    },
    {
     "data": {
      "application/vnd.jupyter.widget-view+json": {
       "model_id": "7a6c82e0067543068e17f5a2c02b8f70",
       "version_major": 2,
       "version_minor": 0
      },
      "text/plain": [
       "HBox(children=(IntProgress(value=0, max=10), HTML(value='')))"
      ]
     },
     "metadata": {},
     "output_type": "display_data"
    },
    {
     "name": "stdout",
     "output_type": "stream",
     "text": [
      "\n",
      "i= 1 & NNs= 035_Test02.hdf5          \n"
     ]
    },
    {
     "name": "stderr",
     "output_type": "stream",
     "text": [
      "/home/t/Tom.Beucler/SPCAM/CBRAIN-CAM/notebooks/tbeucler_devlog/cbrain/model_diagnostics.py:173: RuntimeWarning: divide by zero encountered in true_divide\n",
      "  self.stats['r2'] = 1. - (self.stats['mse'] / self.stats['true_var'])\n",
      "/home/t/Tom.Beucler/SPCAM/CBRAIN-CAM/notebooks/tbeucler_devlog/cbrain/model_diagnostics.py:179: RuntimeWarning: divide by zero encountered in true_divide\n",
      "  self.stats['hor_r2'] = 1 - (self.stats['hor_mse'] / self.stats['hor_tvar'])\n"
     ]
    },
    {
     "data": {
      "application/vnd.jupyter.widget-view+json": {
       "model_id": "996b85c24929443ea733cf5bab934c94",
       "version_major": 2,
       "version_minor": 0
      },
      "text/plain": [
       "HBox(children=(IntProgress(value=0, max=10), HTML(value='')))"
      ]
     },
     "metadata": {},
     "output_type": "display_data"
    },
    {
     "name": "stdout",
     "output_type": "stream",
     "text": [
      "\n",
      "i= 2 & NNs= 035_Test03.hdf5          \n"
     ]
    },
    {
     "data": {
      "application/vnd.jupyter.widget-view+json": {
       "model_id": "c8f7e493e2f74a3495f3a4d0841b1288",
       "version_major": 2,
       "version_minor": 0
      },
      "text/plain": [
       "HBox(children=(IntProgress(value=0, max=10), HTML(value='')))"
      ]
     },
     "metadata": {},
     "output_type": "display_data"
    },
    {
     "name": "stdout",
     "output_type": "stream",
     "text": [
      "\n"
     ]
    }
   ],
   "source": [
    "for i,NNs in enumerate(NNarray):\n",
    "    print('i=',i,'& NNs=',NNs,'         ')\n",
    "    md[NNs]['test'].compute_stats(niter=10)"
   ]
  },
  {
   "cell_type": "code",
   "execution_count": 24,
   "metadata": {},
   "outputs": [
    {
     "data": {
      "text/plain": [
       "{'bias': array([[[ 1.12196179e-05, -2.49165311e-04,  9.35337635e-05, ...,\n",
       "          -6.45929952e-07,  9.93663904e-10, -6.42141555e-07],\n",
       "         [ 1.56006979e-05, -2.33885050e-04,  1.06035019e-04, ...,\n",
       "          -9.64519986e-07,  5.26393848e-10, -7.63058301e-07],\n",
       "         [ 1.58113451e-05, -2.20136269e-04,  1.09497645e-04, ...,\n",
       "          -1.03877743e-06,  6.98320635e-10, -7.30522202e-07],\n",
       "         ...,\n",
       "         [ 6.25373674e-06, -2.32836216e-04,  1.02593025e-04, ...,\n",
       "          -1.30461732e-06, -6.87595254e-11, -1.07795859e-06],\n",
       "         [ 9.34845766e-06, -2.34443052e-04,  9.39293969e-05, ...,\n",
       "          -8.16531313e-07,  1.13713723e-09, -7.24116905e-07],\n",
       "         [ 2.02109654e-05, -2.02673253e-04,  1.14388787e-04, ...,\n",
       "          -1.28504200e-06, -3.20323462e-11, -1.25516358e-06]],\n",
       " \n",
       "        [[ 5.51504106e-05, -3.36063810e-05,  9.52263101e-05, ...,\n",
       "           3.77859281e-07, -2.24340599e-09,  1.94093300e-07],\n",
       "         [ 4.82320607e-05, -5.27921652e-05,  8.65671921e-05, ...,\n",
       "          -5.41554357e-09, -3.06607069e-09,  9.19340764e-08],\n",
       "         [ 5.87434068e-05, -5.31117900e-05,  8.34279187e-05, ...,\n",
       "           5.51275818e-07, -2.88843216e-09,  4.46122633e-07],\n",
       "         ...,\n",
       "         [ 5.15225009e-05, -7.29789060e-06,  9.73236747e-05, ...,\n",
       "           7.53046760e-07, -1.92889740e-09,  4.71744903e-07],\n",
       "         [ 2.63057902e-05, -2.67687541e-05,  1.00576648e-04, ...,\n",
       "           3.50768511e-07, -5.64985658e-10,  2.99874270e-07],\n",
       "         [ 6.21251514e-05, -2.20932170e-05,  9.94834523e-05, ...,\n",
       "           7.98691319e-07, -2.47111496e-09,  3.01573306e-07]],\n",
       " \n",
       "        [[ 1.36322612e-05,  1.97488790e-05,  1.96347728e-04, ...,\n",
       "           1.53991232e-06, -1.04279811e-09,  8.45366731e-07],\n",
       "         [ 4.43795860e-05,  6.94625873e-05,  2.14486102e-04, ...,\n",
       "           1.91332064e-06, -3.38129542e-09,  1.24094562e-06],\n",
       "         [ 6.10990777e-05,  1.18270586e-04,  2.45220187e-04, ...,\n",
       "           1.38951908e-06, -5.29804325e-09,  1.07917068e-06],\n",
       "         ...,\n",
       "         [-1.96748549e-05,  1.14535566e-06,  1.21717918e-04, ...,\n",
       "           5.68143911e-07,  2.01614991e-09, -5.83029800e-07],\n",
       "         [-2.16465523e-05, -2.05201234e-05,  1.28661445e-04, ...,\n",
       "           1.07452675e-06,  1.94892706e-09,  6.52031176e-08],\n",
       "         [-1.28620347e-05, -1.72665275e-05,  1.61347904e-04, ...,\n",
       "           1.62666251e-06,  1.07434444e-09,  6.45815669e-07]],\n",
       " \n",
       "        ...,\n",
       " \n",
       "        [[ 8.21090003e-05,  6.58766360e-05,  2.06215880e-04, ...,\n",
       "          -5.85846699e-06,  7.31797618e-09, -5.56214731e-06],\n",
       "         [-7.90969764e-08,  5.08770339e-05,  4.47792578e-05, ...,\n",
       "           6.79566320e-07,  4.27574598e-11, -7.34650900e-09],\n",
       "         [ 3.17520131e-06,  6.05866087e-05,  5.77704013e-05, ...,\n",
       "           6.96600437e-07,  9.80859500e-11, -2.25243793e-07],\n",
       "         ...,\n",
       "         [ 4.32493060e-06,  4.94237978e-05,  4.83633738e-05, ...,\n",
       "           5.87173659e-07,  5.33601525e-11,  9.47594949e-09],\n",
       "         [ 6.55851009e-06,  4.45086900e-05,  4.55593470e-05, ...,\n",
       "           4.33686351e-07,  4.02983064e-12, -4.37210002e-08],\n",
       "         [ 1.65214913e-06,  6.55032578e-05,  1.05512982e-04, ...,\n",
       "           8.02513419e-07, -4.96229918e-11, -3.44152432e-07]],\n",
       " \n",
       "        [[-1.16054978e-05,  6.80789672e-05,  6.37477733e-05, ...,\n",
       "           1.20670441e-06,  2.45904129e-10,  6.18066363e-08],\n",
       "         [-1.05353526e-05,  7.56084886e-05,  5.39985531e-05, ...,\n",
       "          -2.66886331e-06, -2.35733148e-09, -3.26477714e-06],\n",
       "         [-2.32368777e-05,  7.85663324e-05,  5.40307281e-05, ...,\n",
       "           9.88339200e-07,  4.78446222e-10,  6.16215743e-08],\n",
       "         ...,\n",
       "         [-1.66523714e-06,  4.54042472e-05,  1.41712078e-04, ...,\n",
       "          -2.62154405e-06,  2.20592297e-09, -2.03399871e-06],\n",
       "         [-2.54424060e-06,  9.14115364e-05,  9.81748609e-05, ...,\n",
       "           9.18885131e-07,  6.88619152e-10,  1.61272994e-07],\n",
       "         [ 8.44015436e-06,  5.35380031e-05,  1.17341064e-04, ...,\n",
       "          -1.27135689e-06,  1.66868557e-09, -8.19684072e-07]],\n",
       " \n",
       "        [[ 8.51186209e-06,  6.53302435e-05,  4.89919487e-05, ...,\n",
       "           1.10112954e-06,  5.48468119e-10,  5.52029950e-08],\n",
       "         [ 9.24908850e-06,  6.64204948e-05,  5.79064584e-05, ...,\n",
       "           1.48410772e-06,  1.32326309e-09,  3.93243238e-07],\n",
       "         [-9.62983988e-06,  8.75051614e-05,  1.05709399e-04, ...,\n",
       "           1.85577960e-06,  4.43826936e-10,  1.03490179e-07],\n",
       "         ...,\n",
       "         [ 6.81536543e-06,  6.73254868e-05,  6.00869393e-05, ...,\n",
       "           1.00552347e-06,  5.76496932e-10,  8.30835023e-09],\n",
       "         [ 3.66678947e-06,  6.88537850e-05,  5.38168838e-05, ...,\n",
       "           9.91491416e-07,  3.25051954e-10, -8.53302029e-08],\n",
       "         [ 8.98565245e-06,  7.10847449e-05,  6.27769862e-05, ...,\n",
       "           1.02420091e-06,  2.45808861e-10, -8.71678877e-08]]]),\n",
       " 'mse': array([[[1.72212890e-10, 6.22547768e-08, 8.84525255e-09, ...,\n",
       "          6.48016636e-13, 1.19752861e-18, 7.23049850e-13],\n",
       "         [4.73139728e-10, 5.55600456e-08, 1.13728649e-08, ...,\n",
       "          1.37332518e-12, 8.38704069e-19, 1.08398166e-12],\n",
       "         [3.22238260e-10, 4.89395679e-08, 1.21376559e-08, ...,\n",
       "          2.28361612e-12, 2.28470856e-18, 1.86089597e-12],\n",
       "         ...,\n",
       "         [2.30200904e-10, 5.50526070e-08, 1.09081052e-08, ...,\n",
       "          2.90660736e-12, 2.54671311e-18, 2.04391937e-12],\n",
       "         [1.48975916e-10, 5.53268425e-08, 8.87579160e-09, ...,\n",
       "          1.37725439e-12, 2.01647953e-18, 1.21808881e-12],\n",
       "         [6.84760979e-10, 4.43256824e-08, 1.36844397e-08, ...,\n",
       "          3.81269322e-12, 6.56766891e-18, 3.40858170e-12]],\n",
       " \n",
       "        [[3.21839232e-09, 1.20951032e-09, 9.11237156e-09, ...,\n",
       "          4.99217693e-13, 1.17195558e-17, 3.33780317e-13],\n",
       "         [2.63042920e-09, 3.00219912e-09, 7.83649177e-09, ...,\n",
       "          2.00594680e-12, 1.13846154e-17, 1.51903413e-12],\n",
       "         [4.28589810e-09, 3.80080836e-09, 7.57882294e-09, ...,\n",
       "          2.00427751e-12, 1.23122564e-17, 1.70562032e-12],\n",
       "         ...,\n",
       "         [3.48894635e-09, 3.93429008e-10, 9.49648605e-09, ...,\n",
       "          1.04283960e-12, 6.23414637e-18, 6.19927758e-13],\n",
       "         [1.12726052e-09, 9.26170487e-10, 1.01582906e-08, ...,\n",
       "          5.05091541e-13, 2.01742468e-18, 3.96234212e-13],\n",
       "         [4.15661434e-09, 7.88560871e-10, 9.93137600e-09, ...,\n",
       "          1.33277384e-12, 6.96909920e-18, 6.46073001e-13]],\n",
       " \n",
       "        [[6.94701666e-10, 6.38047381e-09, 4.02276201e-08, ...,\n",
       "          5.86002356e-12, 7.66204924e-18, 4.47075751e-12],\n",
       "         [2.28694169e-09, 9.84578953e-09, 4.76161113e-08, ...,\n",
       "          4.40061721e-12, 1.60858401e-17, 2.63230920e-12],\n",
       "         [4.22636703e-09, 1.60942724e-08, 6.11505509e-08, ...,\n",
       "          4.26382349e-12, 3.30771815e-17, 3.37035626e-12],\n",
       "         ...,\n",
       "         [1.48315840e-09, 2.64563822e-09, 1.51917035e-08, ...,\n",
       "          7.58502730e-13, 4.99465296e-18, 9.89098409e-13],\n",
       "         [9.28054759e-10, 1.25523080e-09, 1.70020945e-08, ...,\n",
       "          1.66636647e-12, 4.62329096e-18, 1.01996330e-12],\n",
       "         [5.58755453e-10, 3.20678102e-09, 2.72761974e-08, ...,\n",
       "          4.46442148e-12, 3.83184523e-18, 2.80771009e-12]],\n",
       " \n",
       "        ...,\n",
       " \n",
       "        [[1.20594952e-08, 1.05040759e-08, 4.77927428e-08, ...,\n",
       "          3.47856781e-10, 2.59106415e-16, 3.39104973e-10],\n",
       "         [8.61273501e-12, 2.61815900e-09, 2.01923288e-09, ...,\n",
       "          4.84496225e-13, 7.40858126e-21, 8.24185132e-15],\n",
       "         [5.60746755e-11, 3.76277023e-09, 3.75836263e-09, ...,\n",
       "          7.45469808e-13, 2.30017514e-20, 8.14318839e-14],\n",
       "         ...,\n",
       "         [4.03194797e-11, 2.46548315e-09, 2.36732366e-09, ...,\n",
       "          3.74497029e-13, 8.01516738e-21, 2.54768303e-14],\n",
       "         [9.39268639e-11, 2.10745961e-09, 2.08787773e-09, ...,\n",
       "          2.32758977e-13, 8.93517101e-21, 2.41620238e-14],\n",
       "         [3.89753120e-10, 4.59173953e-09, 1.17995720e-08, ...,\n",
       "          8.36842113e-13, 9.11447367e-20, 3.69510952e-13]],\n",
       " \n",
       "        [[2.16535386e-10, 5.20426167e-09, 4.75088412e-09, ...,\n",
       "          3.32973257e-12, 3.60704837e-18, 1.87406048e-12],\n",
       "         [2.45931120e-10, 5.93719644e-09, 3.48996915e-09, ...,\n",
       "          5.55739251e-11, 3.14048690e-17, 5.18255476e-11],\n",
       "         [6.17006194e-10, 6.24060551e-09, 2.98959045e-09, ...,\n",
       "          1.03365871e-12, 2.72128276e-19, 8.91124640e-14],\n",
       "         ...,\n",
       "         [2.46171655e-09, 5.52422416e-09, 2.41268451e-08, ...,\n",
       "          3.02778734e-10, 2.05788237e-16, 3.10027034e-10],\n",
       "         [4.42285593e-10, 9.08298906e-09, 1.24644959e-08, ...,\n",
       "          3.34752259e-12, 3.45170509e-18, 3.19847043e-12],\n",
       "         [1.36002480e-09, 4.30857036e-09, 1.99377463e-08, ...,\n",
       "          2.61670152e-10, 1.29310648e-16, 2.71383317e-10]],\n",
       " \n",
       "        [[1.58563458e-10, 4.39575773e-09, 2.66343201e-09, ...,\n",
       "          1.28452264e-12, 6.79152752e-19, 1.22932301e-13],\n",
       "         [2.46539687e-10, 4.67879138e-09, 3.78347558e-09, ...,\n",
       "          3.68494932e-12, 4.72892732e-18, 2.20553674e-12],\n",
       "         [1.15256850e-09, 8.49402860e-09, 1.45478594e-08, ...,\n",
       "          4.75308617e-12, 1.28768083e-18, 9.40185855e-13],\n",
       "         ...,\n",
       "         [1.48002178e-10, 4.57875605e-09, 3.74775601e-09, ...,\n",
       "          1.16837812e-12, 3.69213196e-19, 9.52635157e-14],\n",
       "         [6.26023625e-11, 4.79698222e-09, 3.09079694e-09, ...,\n",
       "          1.08663754e-12, 1.94000746e-19, 7.80542977e-14],\n",
       "         [1.36294504e-10, 5.13931644e-09, 4.23370376e-09, ...,\n",
       "          1.09081385e-12, 9.77518629e-20, 2.57944392e-14]]]),\n",
       " 'pred_mean': array([[[ 1.12196245e-05, -2.49165257e-04,  9.35338205e-05, ...,\n",
       "          -7.80906382e-07,  1.46984750e-09, -7.61835287e-07],\n",
       "         [ 1.56007039e-05, -2.33885001e-04,  1.06036613e-04, ...,\n",
       "          -1.03624456e-06,  3.76527804e-09, -8.22143421e-07],\n",
       "         [ 1.58113505e-05, -2.20136225e-04,  1.09499364e-04, ...,\n",
       "          -1.13725515e-06,  4.16938377e-09, -8.12610790e-07],\n",
       "         ...,\n",
       "         [ 6.25374387e-06, -2.32836162e-04,  1.02594995e-04, ...,\n",
       "          -1.78474123e-06,  3.87115610e-09, -1.51610777e-06],\n",
       "         [ 9.34846454e-06, -2.34442999e-04,  9.39303703e-05, ...,\n",
       "          -7.68831967e-07,  2.45381125e-09, -6.82795454e-07],\n",
       "         [ 2.02109717e-05, -2.02673205e-04,  1.14391681e-04, ...,\n",
       "          -1.54032716e-06,  7.52457640e-09, -1.47262700e-06]],\n",
       " \n",
       "        [[ 5.51504218e-05, -3.36063094e-05,  9.52260518e-05, ...,\n",
       "          -1.00781569e-06,  1.99751014e-08, -1.11401817e-06],\n",
       "         [ 4.82320713e-05, -5.27920934e-05,  8.65676528e-05, ...,\n",
       "          -1.58633758e-06,  2.15620600e-08, -1.44961652e-06],\n",
       "         [ 5.87434168e-05, -5.31117214e-05,  8.34303479e-05, ...,\n",
       "          -1.35379223e-06,  2.35112553e-08, -1.36980592e-06],\n",
       "         ...,\n",
       "         [ 5.15225139e-05, -7.29781228e-06,  9.73220092e-05, ...,\n",
       "          -7.37623560e-07,  1.65667836e-08, -9.14721647e-07],\n",
       "         [ 2.63058022e-05, -2.67686810e-05,  1.00574131e-04, ...,\n",
       "          -9.74591586e-07,  1.47818156e-08, -9.62637006e-07],\n",
       "         [ 6.21251627e-05, -2.20931464e-05,  9.94836293e-05, ...,\n",
       "          -5.93648686e-07,  1.91369757e-08, -9.98524314e-07]],\n",
       " \n",
       "        [[ 1.36322790e-05,  1.97489719e-05,  1.96345916e-04, ...,\n",
       "          -3.27174347e-06,  2.83430468e-08, -3.48926216e-06],\n",
       "         [ 4.43796031e-05,  6.94626797e-05,  2.14484220e-04, ...,\n",
       "          -3.36418246e-06,  4.00865563e-08, -3.62011411e-06],\n",
       "         [ 6.10990939e-05,  1.18270676e-04,  2.45218469e-04, ...,\n",
       "          -2.75779760e-06,  5.10795818e-08, -2.83070216e-06],\n",
       "         ...,\n",
       "         [-1.96748351e-05,  1.14544919e-06,  1.21715478e-04, ...,\n",
       "           9.13789027e-08,  8.06446780e-09, -1.01707786e-06],\n",
       "         [-2.16465331e-05, -2.05200298e-05,  1.28659545e-04, ...,\n",
       "          -8.14300444e-07,  1.12542216e-08, -1.61963454e-06],\n",
       "         [-1.28620164e-05, -1.72664373e-05,  1.61345011e-04, ...,\n",
       "          -1.67442611e-06,  1.76164687e-08, -2.26771131e-06]],\n",
       " \n",
       "        ...,\n",
       " \n",
       "        [[ 8.21090003e-05,  6.58766360e-05,  2.05642627e-04, ...,\n",
       "          -5.35940442e-06,  4.76062628e-08, -4.85269178e-06],\n",
       "         [-7.90969764e-08,  5.08770339e-05,  4.43141445e-05, ...,\n",
       "           6.53701679e-07,  4.27574598e-11, -3.32111501e-08],\n",
       "         [ 3.17520131e-06,  6.05866087e-05,  5.73719684e-05, ...,\n",
       "           7.21438596e-07,  9.80859500e-11, -2.00405635e-07],\n",
       "         ...,\n",
       "         [ 4.32493060e-06,  4.94237978e-05,  4.73247721e-05, ...,\n",
       "           5.89896797e-07,  5.33601525e-11,  1.21990873e-08],\n",
       "         [ 6.55851009e-06,  4.45086900e-05,  4.46855502e-05, ...,\n",
       "           4.27854265e-07,  4.02983064e-12, -4.95530866e-08],\n",
       "         [ 1.65214913e-06,  6.55032578e-05,  1.04799656e-04, ...,\n",
       "           8.05085059e-07, -4.96229918e-11, -3.41580792e-07]],\n",
       " \n",
       "        [[-1.16054978e-05,  6.80789672e-05,  6.24121798e-05, ...,\n",
       "           1.37860265e-06,  2.59077587e-09,  2.15782027e-07],\n",
       "         [-1.05353526e-05,  7.56084886e-05,  5.27065444e-05, ...,\n",
       "           9.64474634e-07,  6.51641377e-09,  1.94906774e-07],\n",
       "         [-2.32368777e-05,  7.85663324e-05,  5.27825148e-05, ...,\n",
       "           9.58504791e-07,  6.44897730e-10,  3.60476733e-08],\n",
       "         ...,\n",
       "         [-1.66523714e-06,  4.54042472e-05,  1.40247843e-04, ...,\n",
       "          -3.89673659e-06,  3.74522806e-08, -3.06566347e-06],\n",
       "         [-2.54424060e-06,  9.14115364e-05,  9.67538614e-05, ...,\n",
       "           9.42066967e-07,  2.21389265e-09,  1.66083607e-07],\n",
       "         [ 8.44015436e-06,  5.35380031e-05,  1.15962722e-04, ...,\n",
       "          -1.62796356e-06,  3.12867139e-08, -1.08138234e-06]],\n",
       " \n",
       "        [[ 8.51186209e-06,  6.53302435e-05,  4.75691795e-05, ...,\n",
       "           9.49004186e-07,  8.11590390e-10, -8.22587698e-08],\n",
       "         [ 9.24908850e-06,  6.64204948e-05,  5.64968050e-05, ...,\n",
       "           1.01193561e-06,  2.24619218e-09, -3.94905484e-08],\n",
       "         [-9.62983988e-06,  8.75051614e-05,  1.04313999e-04, ...,\n",
       "           1.85522742e-06,  2.21043722e-09,  9.87105334e-08],\n",
       "         ...,\n",
       "         [ 6.81536543e-06,  6.73254868e-05,  5.86350554e-05, ...,\n",
       "           8.98233336e-07,  7.03447892e-10, -9.88326275e-08],\n",
       "         [ 3.66678947e-06,  6.88537850e-05,  5.23733424e-05, ...,\n",
       "           9.86204637e-07,  5.70437315e-10, -9.10226179e-08],\n",
       "         [ 8.98565245e-06,  7.10847449e-05,  6.13436474e-05, ...,\n",
       "           1.02544563e-06,  2.45808861e-10, -8.59232455e-08]]]),\n",
       " 'true_mean': array([[[ 6.66968312e-12,  5.35646632e-11,  5.69900799e-11, ...,\n",
       "          -1.34976429e-07,  4.76183601e-10, -1.19693732e-07],\n",
       "         [ 6.06717013e-12,  4.90715765e-11,  1.59430853e-09, ...,\n",
       "          -7.17245776e-08,  3.23888420e-09, -5.90851201e-08],\n",
       "         [ 5.44901352e-12,  4.39926276e-11,  1.71865149e-09, ...,\n",
       "          -9.84777165e-08,  3.47106314e-09, -8.20885877e-08],\n",
       "         ...,\n",
       "         [ 7.12970157e-12,  5.42144421e-11,  1.96997266e-09, ...,\n",
       "          -4.80123906e-07,  3.93991563e-09, -4.38149179e-07],\n",
       "         [ 6.87656459e-12,  5.29873202e-11,  9.73474562e-10, ...,\n",
       "           4.76993456e-08,  1.31667401e-09,  4.13214511e-08],\n",
       "         [ 6.32157014e-12,  4.81823279e-11,  2.89429591e-09, ...,\n",
       "          -2.55285156e-07,  7.55660874e-09, -2.17463423e-07]],\n",
       " \n",
       "        [[ 1.11691999e-11,  7.15327538e-11, -2.58351391e-10, ...,\n",
       "          -1.38567498e-06,  2.22185074e-08, -1.30811147e-06],\n",
       "         [ 1.06107242e-11,  7.17728510e-11,  4.60647663e-10, ...,\n",
       "          -1.58092204e-06,  2.46281306e-08, -1.54155060e-06],\n",
       "         [ 9.95783936e-12,  6.86687423e-11,  2.42915495e-09, ...,\n",
       "          -1.90506805e-06,  2.63996874e-08, -1.81592856e-06],\n",
       "         ...,\n",
       "         [ 1.29996398e-11,  7.83164775e-11, -1.66542492e-09, ...,\n",
       "          -1.49067032e-06,  1.84956810e-08, -1.38646655e-06],\n",
       "         [ 1.20530312e-11,  7.31191606e-11, -2.51737062e-09, ...,\n",
       "          -1.32536010e-06,  1.53468013e-08, -1.26251128e-06],\n",
       "         [ 1.13756770e-11,  7.05169748e-11,  1.77054297e-10, ...,\n",
       "          -1.39234000e-06,  2.16080907e-08, -1.30009762e-06]],\n",
       " \n",
       "        [[ 1.78169571e-11,  9.28287344e-11, -1.81186652e-09, ...,\n",
       "          -4.81165579e-06,  2.93858450e-08, -4.33462889e-06],\n",
       "         [ 1.70877967e-11,  9.23320750e-11, -1.88122721e-09, ...,\n",
       "          -5.27750310e-06,  4.34678517e-08, -4.86105973e-06],\n",
       "         [ 1.62066106e-11,  9.00994893e-11, -1.71720863e-09, ...,\n",
       "          -4.14731668e-06,  5.63776251e-08, -3.90987284e-06],\n",
       "         ...,\n",
       "         [ 1.98813185e-11,  9.35239033e-11, -2.44046140e-09, ...,\n",
       "          -4.76765008e-07,  6.04831789e-09, -4.34048064e-07],\n",
       "         [ 1.92841949e-11,  9.35763535e-11, -1.90063727e-09, ...,\n",
       "          -1.88882719e-06,  9.30529449e-09, -1.68483765e-06],\n",
       "         [ 1.83158613e-11,  9.02067567e-11, -2.89258382e-09, ...,\n",
       "          -3.30108862e-06,  1.65421243e-08, -2.91352698e-06]],\n",
       " \n",
       "        ...,\n",
       " \n",
       "        [[ 0.00000000e+00,  0.00000000e+00, -5.73253670e-07, ...,\n",
       "           4.99062571e-07,  4.02882867e-08,  7.09455526e-07],\n",
       "         [ 0.00000000e+00,  0.00000000e+00, -4.65113270e-07, ...,\n",
       "          -2.58646411e-08,  0.00000000e+00, -2.58646411e-08],\n",
       "         [ 0.00000000e+00,  0.00000000e+00, -3.98432910e-07, ...,\n",
       "           2.48381587e-08,  0.00000000e+00,  2.48381587e-08],\n",
       "         ...,\n",
       "         [ 0.00000000e+00,  0.00000000e+00, -1.03860169e-06, ...,\n",
       "           2.72313776e-09,  0.00000000e+00,  2.72313776e-09],\n",
       "         [ 0.00000000e+00,  0.00000000e+00, -8.73796826e-07, ...,\n",
       "          -5.83208640e-09,  0.00000000e+00, -5.83208640e-09],\n",
       "         [ 0.00000000e+00,  0.00000000e+00, -7.13325765e-07, ...,\n",
       "           2.57163997e-09,  0.00000000e+00,  2.57163997e-09]],\n",
       " \n",
       "        [[ 0.00000000e+00,  0.00000000e+00, -1.33559353e-06, ...,\n",
       "           1.71898240e-07,  2.34487174e-09,  1.53975390e-07],\n",
       "         [ 0.00000000e+00,  0.00000000e+00, -1.29200873e-06, ...,\n",
       "           3.63333794e-06,  8.87374526e-09,  3.45968391e-06],\n",
       "         [ 0.00000000e+00,  0.00000000e+00, -1.24821325e-06, ...,\n",
       "          -2.98344091e-08,  1.66451508e-10, -2.55739010e-08],\n",
       "         ...,\n",
       "         [ 0.00000000e+00,  0.00000000e+00, -1.46423523e-06, ...,\n",
       "          -1.27519254e-06,  3.52463576e-08, -1.03166476e-06],\n",
       "         [ 0.00000000e+00,  0.00000000e+00, -1.42099953e-06, ...,\n",
       "           2.31818358e-08,  1.52527350e-09,  4.81061342e-09],\n",
       "         [ 0.00000000e+00,  0.00000000e+00, -1.37834168e-06, ...,\n",
       "          -3.56606665e-07,  2.96180284e-08, -2.61698267e-07]],\n",
       " \n",
       "        [[ 0.00000000e+00,  0.00000000e+00, -1.42276917e-06, ...,\n",
       "          -1.52125351e-07,  2.63122271e-10, -1.37461765e-07],\n",
       "         [ 0.00000000e+00,  0.00000000e+00, -1.40965340e-06, ...,\n",
       "          -4.72172112e-07,  9.22929094e-10, -4.32733786e-07],\n",
       "         [ 0.00000000e+00,  0.00000000e+00, -1.39540000e-06, ...,\n",
       "          -5.52182655e-10,  1.76661028e-09, -4.77964515e-09],\n",
       "         ...,\n",
       "         [ 0.00000000e+00,  0.00000000e+00, -1.45188389e-06, ...,\n",
       "          -1.07290139e-07,  1.26950960e-10, -1.07140978e-07],\n",
       "         [ 0.00000000e+00,  0.00000000e+00, -1.44354132e-06, ...,\n",
       "          -5.28677875e-09,  2.45385361e-10, -5.69241498e-09],\n",
       "         [ 0.00000000e+00,  0.00000000e+00, -1.43333883e-06, ...,\n",
       "           1.24472492e-09,  0.00000000e+00,  1.24464223e-09]]]),\n",
       " 'pred_sqmean': array([[[1.72213046e-10, 6.22547500e-08, 8.84529623e-09, ...,\n",
       "          6.87377913e-13, 2.84967921e-18, 6.04005832e-13],\n",
       "         [4.73139950e-10, 5.55600232e-08, 1.13732048e-08, ...,\n",
       "          1.46514492e-12, 1.95605539e-17, 9.11806815e-13],\n",
       "         [3.22238443e-10, 4.89395493e-08, 1.21380230e-08, ...,\n",
       "          1.59537332e-12, 2.22256071e-17, 7.68191441e-13],\n",
       "         ...,\n",
       "         [2.30200998e-10, 5.50525822e-08, 1.09085148e-08, ...,\n",
       "          3.79568507e-12, 2.15412250e-17, 3.05531714e-12],\n",
       "         [1.48976046e-10, 5.53268176e-08, 8.87598577e-09, ...,\n",
       "          6.42680322e-13, 9.96025153e-18, 4.90736569e-13],\n",
       "         [6.84761229e-10, 4.43256639e-08, 1.36850820e-08, ...,\n",
       "          3.70252225e-12, 8.45854465e-17, 3.40634348e-12]],\n",
       " \n",
       "        [[3.21839365e-09, 1.20950582e-09, 9.11232485e-09, ...,\n",
       "          1.12646921e-12, 4.04831731e-16, 1.30371637e-12],\n",
       "         [2.63043034e-09, 3.00219190e-09, 7.83652272e-09, ...,\n",
       "          2.69601103e-12, 4.89370229e-16, 2.24088666e-12],\n",
       "         [4.28589954e-09, 3.80080240e-09, 7.57914136e-09, ...,\n",
       "          2.58242547e-12, 5.96097195e-16, 2.21733629e-12],\n",
       "         ...,\n",
       "         [3.48894787e-09, 3.93428450e-10, 9.49616314e-09, ...,\n",
       "          5.67210488e-13, 3.01031323e-16, 8.60920715e-13],\n",
       "         [1.12726132e-09, 9.26167062e-10, 1.01577776e-08, ...,\n",
       "          1.08162187e-12, 2.29438726e-16, 9.82733914e-13],\n",
       "         [4.15661590e-09, 7.88558454e-10, 9.93140556e-09, ...,\n",
       "          3.98455773e-13, 3.78029583e-16, 1.01054314e-12]],\n",
       " \n",
       "        [[6.94702474e-10, 6.38048448e-09, 4.02269684e-08, ...,\n",
       "          1.43255143e-11, 9.96508971e-16, 1.37159723e-11],\n",
       "         [2.28694337e-09, 9.84580911e-09, 4.76153671e-08, ...,\n",
       "          1.36665127e-11, 1.81000828e-15, 1.48515630e-11],\n",
       "         [4.22636938e-09, 1.60942978e-08, 6.11497313e-08, ...,\n",
       "          1.23117281e-11, 2.70831202e-15, 1.18445233e-11],\n",
       "         ...,\n",
       "         [1.48315724e-09, 2.64563469e-09, 1.51911197e-08, ...,\n",
       "          1.91767637e-13, 6.56320700e-17, 1.10398928e-12],\n",
       "         [9.28053808e-10, 1.25522504e-09, 1.70016246e-08, ...,\n",
       "          3.90286270e-12, 1.39045245e-16, 3.99030649e-12],\n",
       "         [5.58755194e-10, 3.20678143e-09, 2.72752831e-08, ...,\n",
       "          7.01952501e-12, 3.89304076e-16, 7.00279133e-12]],\n",
       " \n",
       "        ...,\n",
       " \n",
       "        [[1.20594950e-08, 1.05040759e-08, 4.75601964e-08, ...,\n",
       "          1.29329914e-10, 2.72477090e-15, 1.03142182e-10],\n",
       "         [8.61273491e-12, 2.61815900e-09, 1.97828854e-09, ...,\n",
       "          4.44492648e-13, 7.40858109e-21, 6.74925945e-15],\n",
       "         [5.60746747e-11, 3.76277021e-09, 3.70805868e-09, ...,\n",
       "          7.14905905e-13, 2.30017515e-20, 5.20047270e-14],\n",
       "         ...,\n",
       "         [4.03194803e-11, 2.46548315e-09, 2.26659709e-09, ...,\n",
       "          3.65696672e-13, 8.01516744e-21, 8.51125291e-15],\n",
       "         [9.39268640e-11, 2.10745961e-09, 2.00833997e-09, ...,\n",
       "          2.07095593e-13, 8.93517122e-21, 1.15480963e-14],\n",
       "         [3.89753120e-10, 4.59173959e-09, 1.16487601e-08, ...,\n",
       "          7.99476614e-13, 9.11447364e-20, 2.62097698e-13]],\n",
       " \n",
       "        [[2.16535391e-10, 5.20426163e-09, 4.58238981e-09, ...,\n",
       "          2.41839444e-12, 1.57956255e-17, 2.62937678e-13],\n",
       "         [2.45931117e-10, 5.93719656e-09, 3.35528856e-09, ...,\n",
       "          2.85439823e-12, 2.56472693e-16, 5.76990418e-13],\n",
       "         [6.17006192e-10, 6.24060550e-09, 2.85717371e-09, ...,\n",
       "          9.56071143e-13, 4.24839999e-19, 3.84120346e-14],\n",
       "         ...,\n",
       "         [2.46171652e-09, 5.52422418e-09, 2.37220123e-08, ...,\n",
       "          1.10495927e-10, 1.80261133e-15, 7.02956118e-11],\n",
       "         [4.42285588e-10, 9.08298912e-09, 1.21739490e-08, ...,\n",
       "          1.23127836e-12, 1.54174826e-17, 3.61521880e-13],\n",
       "         [1.36002478e-09, 4.30857039e-09, 1.96023085e-08, ...,\n",
       "          3.93491079e-11, 1.59429245e-15, 1.71204452e-11]],\n",
       " \n",
       "        [[1.58563456e-10, 4.39575762e-09, 2.52639144e-09, ...,\n",
       "          9.79929206e-13, 2.20711667e-18, 2.58049597e-14],\n",
       "         [2.46539688e-10, 4.67879139e-09, 3.62779928e-09, ...,\n",
       "          1.09336316e-12, 1.98455056e-17, 1.00573647e-13],\n",
       "         [1.15256851e-09, 8.49402846e-09, 1.42830592e-08, ...,\n",
       "          3.80977403e-12, 1.08764186e-17, 1.83136122e-13],\n",
       "         ...,\n",
       "         [1.48002179e-10, 4.57875602e-09, 3.57815939e-09, ...,\n",
       "          1.01178944e-12, 6.64196933e-19, 6.20731437e-14],\n",
       "         [6.26023627e-11, 4.79698226e-09, 2.94085845e-09, ...,\n",
       "          1.08081861e-12, 4.23100799e-19, 4.33607981e-14],\n",
       "         [1.36294503e-10, 5.13931644e-09, 4.06204889e-09, ...,\n",
       "          1.09149217e-12, 9.77518621e-20, 2.55087140e-14]]]),\n",
       " 'true_sqmean': array([[[4.84809811e-23, 2.98243805e-21, 6.77605278e-18, ...,\n",
       "          2.98142673e-13, 5.12827221e-19, 2.35498551e-13],\n",
       "         [4.00835799e-23, 2.48110836e-21, 6.91464560e-18, ...,\n",
       "          1.02241166e-12, 1.91173974e-17, 8.47728907e-13],\n",
       "         [3.42506756e-23, 2.04665922e-21, 6.69333903e-18, ...,\n",
       "          2.26202248e-12, 2.14400279e-17, 1.90415688e-12],\n",
       "         ...,\n",
       "         [5.35113428e-23, 3.02125482e-21, 1.03831610e-17, ...,\n",
       "          2.80294529e-12, 2.79018521e-17, 2.34386277e-12],\n",
       "         [5.00194293e-23, 2.87799663e-21, 3.56371122e-18, ...,\n",
       "          9.47091772e-13, 3.88984967e-18, 7.52434528e-13],\n",
       "         [4.23115763e-23, 2.37611971e-21, 1.86995377e-17, ...,\n",
       "          5.29979848e-12, 1.09151000e-16, 4.52035296e-12]],\n",
       " \n",
       "        [[1.47870848e-22, 5.78546649e-21, 2.98812722e-18, ...,\n",
       "          2.51073201e-12, 5.13108818e-16, 2.18812090e-12],\n",
       "         [1.35568651e-22, 5.78750329e-21, 7.38857628e-18, ...,\n",
       "          5.12693040e-12, 6.42284266e-16, 4.55402393e-12],\n",
       "         [1.24490625e-22, 5.42497035e-21, 1.22592287e-17, ...,\n",
       "          6.67191674e-12, 7.66715649e-16, 5.83181877e-12],\n",
       "         ...,\n",
       "         [1.80761518e-22, 6.41566405e-21, 3.68278420e-18, ...,\n",
       "          2.72661529e-12, 3.73973607e-16, 2.35814109e-12],\n",
       "         [1.61207117e-22, 5.82815815e-21, 7.08249594e-18, ...,\n",
       "          2.10607834e-12, 2.54736277e-16, 1.88289936e-12],\n",
       "         [1.46187044e-22, 5.41649433e-21, 2.62122088e-18, ...,\n",
       "          2.66818762e-12, 4.84422400e-16, 2.26194207e-12]],\n",
       " \n",
       "        [[3.81984627e-22, 1.08133501e-20, 4.06408869e-18, ...,\n",
       "          3.22634933e-11, 1.12324636e-15, 2.63530305e-11],\n",
       "         [3.63138751e-22, 1.08698122e-20, 5.42897795e-18, ...,\n",
       "          3.01679766e-11, 2.15409381e-15, 2.54699117e-11],\n",
       "         [3.37234622e-22, 1.02984430e-20, 6.54469107e-18, ...,\n",
       "          1.94204209e-11, 3.32316935e-15, 1.69954421e-11],\n",
       "         ...,\n",
       "         [4.36177877e-22, 1.02699411e-20, 6.85100492e-18, ...,\n",
       "          1.27075776e-12, 3.73127156e-17, 9.93637822e-13],\n",
       "         [4.23869809e-22, 1.08044526e-20, 4.34075280e-18, ...,\n",
       "          9.03070595e-12, 1.01652787e-16, 7.14517382e-12],\n",
       "         [3.94482244e-22, 1.03106179e-20, 8.61403522e-18, ...,\n",
       "          2.05170648e-11, 3.78904986e-16, 1.60858307e-11]],\n",
       " \n",
       "        ...,\n",
       " \n",
       "        [[0.00000000e+00, 0.00000000e+00, 3.59237501e-13, ...,\n",
       "          6.57868285e-10, 2.07199835e-15, 6.13330283e-10],\n",
       "         [0.00000000e+00, 0.00000000e+00, 2.41235776e-13, ...,\n",
       "          7.58597732e-15, 0.00000000e+00, 7.58597732e-15],\n",
       "         [0.00000000e+00, 0.00000000e+00, 1.78485268e-13, ...,\n",
       "          2.03827047e-14, 0.00000000e+00, 2.03827047e-14],\n",
       "         ...,\n",
       "         [0.00000000e+00, 0.00000000e+00, 1.12387053e-12, ...,\n",
       "          1.05251836e-14, 0.00000000e+00, 1.05251836e-14],\n",
       "         [0.00000000e+00, 0.00000000e+00, 8.03757404e-13, ...,\n",
       "          3.34329168e-14, 0.00000000e+00, 3.34329168e-14],\n",
       "         [0.00000000e+00, 0.00000000e+00, 5.44224509e-13, ...,\n",
       "          3.25901663e-14, 0.00000000e+00, 3.25901663e-14]],\n",
       " \n",
       "        [[0.00000000e+00, 0.00000000e+00, 1.88594687e-12, ...,\n",
       "          2.51554599e-12, 1.25865929e-17, 2.03997710e-12],\n",
       "         [0.00000000e+00, 0.00000000e+00, 1.77976146e-12, ...,\n",
       "          6.16921105e-11, 4.19443936e-16, 5.65054496e-11],\n",
       "         [0.00000000e+00, 0.00000000e+00, 1.67385566e-12, ...,\n",
       "          4.00581291e-14, 9.60438601e-20, 3.34074932e-14],\n",
       "         ...,\n",
       "         [0.00000000e+00, 0.00000000e+00, 2.21242792e-12, ...,\n",
       "          4.14762125e-10, 1.68380002e-15, 3.96467816e-10],\n",
       "         [0.00000000e+00, 0.00000000e+00, 2.09919895e-12, ...,\n",
       "          3.08088244e-12, 7.94921250e-18, 2.60651517e-12],\n",
       "         [0.00000000e+00, 0.00000000e+00, 1.99150273e-12, ...,\n",
       "          3.07969312e-10, 1.34147345e-15, 2.78778662e-10]],\n",
       " \n",
       "        [[0.00000000e+00, 0.00000000e+00, 2.10560942e-12, ...,\n",
       "          1.32782477e-13, 5.08449425e-19, 1.10131011e-13],\n",
       "         [0.00000000e+00, 0.00000000e+00, 2.07548803e-12, ...,\n",
       "          1.94936305e-12, 5.54543408e-18, 1.64524042e-12],\n",
       "         [0.00000000e+00, 0.00000000e+00, 2.04276151e-12, ...,\n",
       "          1.18580315e-12, 7.72885833e-18, 9.68682611e-13],\n",
       "         ...,\n",
       "         [0.00000000e+00, 0.00000000e+00, 2.16968363e-12, ...,\n",
       "          1.17510977e-13, 8.20214817e-20, 1.07543685e-13],\n",
       "         [0.00000000e+00, 0.00000000e+00, 2.15180300e-12, ...,\n",
       "          6.94861434e-14, 2.20733645e-19, 5.31232298e-14],\n",
       "         [0.00000000e+00, 0.00000000e+00, 2.12895739e-12, ...,\n",
       "          4.99709089e-16, 0.00000000e+00, 5.00290209e-16]]]),\n",
       " 'pred_var': array([[[4.63330712e-11, 1.71424550e-10, 9.67206566e-11, ...,\n",
       "          7.75631364e-14, 6.89227523e-19, 2.36128277e-14],\n",
       "         [2.29757986e-10, 8.57829455e-10, 1.29441557e-10, ...,\n",
       "          3.91342123e-13, 5.38323510e-18, 2.35887009e-13],\n",
       "         [7.22396373e-11, 4.79591698e-10, 1.47912305e-10, ...,\n",
       "          3.02024048e-13, 4.84184610e-18, 1.07855145e-13],\n",
       "         ...,\n",
       "         [1.91091686e-10, 8.39904012e-10, 3.82781870e-10, ...,\n",
       "          6.10383820e-13, 6.55537548e-18, 7.56734359e-13],\n",
       "         [6.15822569e-11, 3.63297943e-10, 5.30712947e-11, ...,\n",
       "          5.15777281e-14, 3.93906189e-18, 2.45269378e-14],\n",
       "         [2.76277852e-10, 3.24923580e-09, 5.99625401e-10, ...,\n",
       "          1.32991449e-12, 2.79661965e-17, 1.23771320e-12]],\n",
       " \n",
       "        [[1.76824631e-10, 8.01217861e-11, 4.43239125e-11, ...,\n",
       "          1.10776731e-13, 5.82705574e-18, 6.26798916e-14],\n",
       "         [3.04097641e-10, 2.15186765e-10, 3.42564215e-10, ...,\n",
       "          1.79544101e-13, 2.44477996e-17, 1.39498595e-13],\n",
       "         [8.35110528e-10, 9.79947460e-10, 6.18518412e-10, ...,\n",
       "          7.49672054e-13, 4.33180710e-17, 3.40968015e-13],\n",
       "         ...,\n",
       "         [8.34378429e-10, 3.40170386e-10, 2.45896618e-11, ...,\n",
       "          2.31219712e-14, 2.65730048e-17, 2.42050229e-14],\n",
       "         [4.35266092e-10, 2.09604778e-10, 4.26217421e-11, ...,\n",
       "          1.31793115e-13, 1.09366539e-17, 5.60639088e-14],\n",
       "         [2.97080052e-10, 3.00451334e-10, 3.44130639e-11, ...,\n",
       "          4.60370112e-14, 1.18057424e-17, 1.34923303e-14]],\n",
       " \n",
       "        [[5.08863443e-10, 5.99046259e-09, 1.67524973e-09, ...,\n",
       "          3.62120892e-12, 1.93180666e-16, 1.54102191e-12],\n",
       "         [3.17394200e-10, 5.02074525e-09, 1.61188628e-09, ...,\n",
       "          2.34878909e-12, 2.03076287e-16, 1.74633681e-12],\n",
       "         [4.93270100e-10, 2.10634502e-09, 1.01763361e-09, ...,\n",
       "          4.70628055e-12, 9.91883405e-17, 3.83164862e-12],\n",
       "         ...,\n",
       "         [1.09605811e-09, 2.64432263e-09, 3.76462098e-10, ...,\n",
       "          1.83417533e-13, 5.96429013e-19, 6.95418987e-14],\n",
       "         [4.59481415e-10, 8.34153419e-10, 4.48346069e-10, ...,\n",
       "          3.23977749e-12, 1.23877419e-17, 1.36709046e-12],\n",
       "         [3.93323728e-10, 2.90865157e-09, 1.24307043e-09, ...,\n",
       "          4.21582221e-12, 7.89641059e-17, 1.86027676e-12]],\n",
       " \n",
       "        ...,\n",
       " \n",
       "        [[5.31760710e-09, 6.16434473e-09, 5.27130650e-09, ...,\n",
       "          1.00606698e-10, 4.58414636e-16, 7.95935645e-11],\n",
       "         [8.60647857e-12, 2.96864185e-11, 1.45451375e-11, ...,\n",
       "          1.71667635e-14, 5.58038071e-21, 5.64627896e-15],\n",
       "         [4.59927713e-11, 9.20330476e-11, 4.16515921e-10, ...,\n",
       "          1.94432258e-13, 1.33808979e-20, 1.18423085e-14],\n",
       "         ...,\n",
       "         [2.16144556e-11, 2.27713593e-11, 2.69630340e-11, ...,\n",
       "          1.77184413e-14, 5.16786157e-21, 8.36243518e-15],\n",
       "         [5.09128093e-11, 1.26436123e-10, 1.15415786e-11, ...,\n",
       "          2.40363210e-14, 8.91893169e-21, 9.09258786e-15],\n",
       "         [3.87023523e-10, 3.01062807e-10, 6.65792229e-10, ...,\n",
       "          1.51314662e-13, 8.86822951e-20, 1.45420260e-13]],\n",
       " \n",
       "        [[8.18478124e-11, 5.69515863e-10, 6.87109622e-10, ...,\n",
       "          5.17849162e-13, 9.08350586e-18, 2.16375795e-13],\n",
       "         [1.34937462e-10, 2.20553005e-10, 5.77308738e-10, ...,\n",
       "          1.92418691e-12, 2.14009044e-16, 5.39001767e-13],\n",
       "         [7.70537078e-11, 6.79369159e-11, 7.11798368e-11, ...,\n",
       "          3.73397100e-14, 8.94691707e-21, 3.71125999e-14],\n",
       "         ...,\n",
       "         [2.45894350e-09, 3.46267852e-09, 4.05255490e-09, ...,\n",
       "          9.53113706e-11, 3.99938014e-16, 6.08973193e-11],\n",
       "         [4.35812428e-10, 7.26920127e-10, 2.81263929e-09, ...,\n",
       "          3.43788190e-13, 1.05161619e-17, 3.33938116e-13],\n",
       "         [1.28878857e-09, 1.44225261e-09, 6.15495564e-09, ...,\n",
       "          3.66988426e-11, 6.15433979e-16, 1.59510574e-11]],\n",
       " \n",
       "        [[8.61116595e-11, 1.27716906e-10, 2.63564601e-10, ...,\n",
       "          7.93202611e-14, 1.54843771e-18, 1.90384545e-14],\n",
       "         [1.60994050e-10, 2.67109253e-10, 4.35910308e-10, ...,\n",
       "          6.93494808e-14, 1.48001263e-17, 9.90141439e-14],\n",
       "         [1.05983469e-09, 8.36875195e-10, 3.40164886e-09, ...,\n",
       "          3.67905261e-13, 5.99038591e-18, 1.73392352e-13],\n",
       "         ...,\n",
       "         [1.01552973e-10, 4.60348438e-11, 1.40089670e-10, ...,\n",
       "          2.04966314e-13, 1.69357997e-19, 5.23052555e-14],\n",
       "         [4.91570177e-11, 5.61385500e-11, 1.97891453e-10, ...,\n",
       "          1.08219023e-13, 9.77020677e-20, 3.50756812e-14],\n",
       "         [5.55525535e-11, 8.62754784e-11, 2.99005811e-10, ...,\n",
       "          3.99534345e-14, 3.73298660e-20, 1.81259099e-14]]]),\n",
       " 'true_var': array([[[3.99630819e-24, 1.13264907e-22, 6.77280491e-18, ...,\n",
       "          2.79924037e-13, 2.86076399e-19, 2.21171962e-13],\n",
       "         [3.27302658e-24, 7.30887330e-23, 4.37282593e-18, ...,\n",
       "          1.01726725e-12, 8.62702654e-18, 8.44237856e-13],\n",
       "         [4.55892727e-24, 1.11307935e-22, 3.73957607e-18, ...,\n",
       "          2.25232462e-12, 9.39174856e-18, 1.89741834e-12],\n",
       "         ...,\n",
       "         [2.67869833e-24, 8.20490907e-23, 6.50236875e-18, ...,\n",
       "          2.57242632e-12, 1.23789170e-17, 2.15188807e-12],\n",
       "         [2.73228880e-24, 7.03405345e-23, 2.61605849e-18, ...,\n",
       "          9.44816544e-13, 2.15621921e-18, 7.50727065e-13],\n",
       "         [2.34932733e-24, 5.45829848e-23, 1.03225889e-17, ...,\n",
       "          5.23462796e-12, 5.20486641e-17, 4.47306262e-12]],\n",
       " \n",
       "        [[2.31198210e-23, 6.68531628e-22, 2.92138178e-18, ...,\n",
       "          5.90636874e-13, 1.94467475e-17, 4.76965284e-13],\n",
       "         [2.29811826e-23, 6.36161145e-22, 7.17638001e-18, ...,\n",
       "          2.62761591e-12, 3.57394466e-17, 2.17764567e-12],\n",
       "         [2.53320601e-23, 7.09574189e-22, 6.35843497e-18, ...,\n",
       "          3.04263245e-12, 6.97721536e-17, 2.53422225e-12],\n",
       "         ...,\n",
       "         [1.17708826e-23, 2.82193402e-22, 9.09144024e-19, ...,\n",
       "          5.04517283e-13, 3.18833920e-17, 4.35851595e-13],\n",
       "         [1.59315559e-23, 4.81746504e-22, 7.45341092e-19, ...,\n",
       "          3.49498951e-13, 1.92119678e-17, 2.88964638e-13],\n",
       "         [1.67810158e-23, 4.43850586e-22, 2.58987266e-18, ...,\n",
       "          7.29576933e-13, 1.75128164e-17, 5.71688249e-13]],\n",
       " \n",
       "        [[6.45406656e-23, 2.19617620e-21, 7.81228396e-19, ...,\n",
       "          9.11146181e-12, 2.59718480e-16, 7.56402289e-12],\n",
       "         [7.11459562e-23, 2.34460010e-21, 1.88996213e-18, ...,\n",
       "          2.31593767e-12, 2.64639682e-16, 1.84001001e-12],\n",
       "         [7.45803945e-23, 2.18052507e-21, 3.59588560e-18, ...,\n",
       "          2.22018529e-12, 1.44732747e-16, 1.70833646e-12],\n",
       "         ...,\n",
       "         [4.09110531e-23, 1.52322056e-21, 8.95153079e-19, ...,\n",
       "          1.04345289e-12, 7.30566285e-19, 8.05240100e-13],\n",
       "         [5.19896352e-23, 2.04791871e-21, 7.28330752e-19, ...,\n",
       "          5.46303778e-12, 1.50642810e-17, 4.30649589e-12],\n",
       "         [5.90114705e-23, 2.17335891e-21, 2.46994051e-19, ...,\n",
       "          9.61987869e-12, 1.05263110e-16, 7.59719127e-12]],\n",
       " \n",
       "        ...,\n",
       " \n",
       "        [[0.00000000e+00, 0.00000000e+00, 3.06177309e-14, ...,\n",
       "          6.57619221e-10, 4.48852312e-16, 6.12826956e-10],\n",
       "         [0.00000000e+00, 0.00000000e+00, 2.49054218e-14, ...,\n",
       "          6.91699766e-15, 0.00000000e+00, 6.91699766e-15],\n",
       "         [0.00000000e+00, 0.00000000e+00, 1.97364849e-14, ...,\n",
       "          1.97657705e-14, 0.00000000e+00, 1.97657705e-14],\n",
       "         ...,\n",
       "         [0.00000000e+00, 0.00000000e+00, 4.51770648e-14, ...,\n",
       "          1.05177681e-14, 0.00000000e+00, 1.05177681e-14],\n",
       "         [0.00000000e+00, 0.00000000e+00, 4.02365111e-14, ...,\n",
       "          3.33989035e-14, 0.00000000e+00, 3.33989035e-14],\n",
       "         [0.00000000e+00, 0.00000000e+00, 3.53908622e-14, ...,\n",
       "          3.25835530e-14, 0.00000000e+00, 3.25835530e-14]],\n",
       " \n",
       "        [[0.00000000e+00, 0.00000000e+00, 1.02136785e-13, ...,\n",
       "          2.48599698e-12, 7.08816947e-18, 2.01626868e-12],\n",
       "         [0.00000000e+00, 0.00000000e+00, 1.10474906e-13, ...,\n",
       "          4.84909660e-11, 3.40700581e-16, 4.45360368e-11],\n",
       "         [0.00000000e+00, 0.00000000e+00, 1.15819348e-13, ...,\n",
       "          3.91680371e-14, 6.83377557e-20, 3.27534688e-14],\n",
       "         ...,\n",
       "         [0.00000000e+00, 0.00000000e+00, 6.84431250e-14, ...,\n",
       "          4.13136009e-10, 4.41494291e-16, 3.95403484e-10],\n",
       "         [0.00000000e+00, 0.00000000e+00, 7.99592856e-14, ...,\n",
       "          3.08034505e-12, 5.62275327e-18, 2.60649203e-12],\n",
       "         [0.00000000e+00, 0.00000000e+00, 9.16769508e-14, ...,\n",
       "          3.07842143e-10, 4.64245843e-16, 2.78710176e-10]],\n",
       " \n",
       "        [[0.00000000e+00, 0.00000000e+00, 8.13373232e-14, ...,\n",
       "          1.09640355e-13, 4.39216095e-19, 9.12352743e-14],\n",
       "         [0.00000000e+00, 0.00000000e+00, 8.83653337e-14, ...,\n",
       "          1.72641655e-12, 4.69363597e-18, 1.45798189e-12],\n",
       "         [0.00000000e+00, 0.00000000e+00, 9.56203435e-14, ...,\n",
       "          1.18580285e-12, 4.60794644e-18, 9.68659766e-13],\n",
       "         ...,\n",
       "         [0.00000000e+00, 0.00000000e+00, 6.17167974e-14, ...,\n",
       "          1.05999803e-13, 6.59049355e-20, 9.60644963e-14],\n",
       "         [0.00000000e+00, 0.00000000e+00, 6.79914576e-14, ...,\n",
       "          6.94581934e-14, 1.60519669e-19, 5.30908262e-14],\n",
       "         [0.00000000e+00, 0.00000000e+00, 7.44971953e-14, ...,\n",
       "          4.98159749e-16, 0.00000000e+00, 4.98741075e-16]]]),\n",
       " 'r2': array([[[-4.30929952e+13, -5.49638705e+14, -1.30599547e+09, ...,\n",
       "          -1.31497318e+00, -3.18604474e+00, -2.26917501e+00],\n",
       "         [-1.44557252e+14, -7.60172510e+14, -2.60080440e+09, ...,\n",
       "          -3.50014152e-01,  9.02781791e-01, -2.83976607e-01],\n",
       "         [-7.06829132e+13, -4.39677260e+14, -3.24573044e+09, ...,\n",
       "          -1.38929813e-02,  7.56732354e-01,  1.92484539e-02],\n",
       "         ...,\n",
       "         [-8.59375994e+13, -6.70971567e+14, -1.67755869e+09, ...,\n",
       "          -1.29908887e-01,  7.94270119e-01,  5.01739380e-02],\n",
       "         [-5.45242202e+13, -7.86557039e+14, -3.39281083e+09, ...,\n",
       "          -4.57695036e-01,  6.48077328e-02, -6.22545486e-01],\n",
       "         [-2.91471082e+14, -8.12078756e+14, -1.32567903e+09, ...,\n",
       "           2.71640078e-01,  8.73816763e-01,  2.37975858e-01]],\n",
       " \n",
       "        [[-1.39204898e+14, -1.80920433e+12, -3.11919915e+09, ...,\n",
       "           1.54780686e-01,  3.97351364e-01,  3.00199976e-01],\n",
       "         [-1.14460132e+14, -4.71924315e+12, -1.09198395e+09, ...,\n",
       "           2.36590554e-01,  6.81455186e-01,  3.02442014e-01],\n",
       "         [-1.69188692e+14, -5.35646367e+12, -1.19193213e+09, ...,\n",
       "           3.41268609e-01,  8.23536243e-01,  3.26964979e-01],\n",
       "         ...,\n",
       "         [-2.96404820e+14, -1.39418216e+12, -1.04455244e+10, ...,\n",
       "          -1.06700471e+00,  8.04470416e-01, -4.22336789e-01],\n",
       "         [-7.07564615e+13, -1.92252664e+12, -1.36290495e+10, ...,\n",
       "          -4.45187575e-01,  8.94991252e-01, -3.71220420e-01],\n",
       "         [-2.47697422e+14, -1.77663587e+12, -3.83469665e+09, ...,\n",
       "          -8.26776280e-01,  6.02057200e-01, -1.30114187e-01]],\n",
       " \n",
       "        [[-1.07637822e+13, -2.90526498e+12, -5.14927777e+10, ...,\n",
       "           3.56851439e-01,  9.70498637e-01,  4.08944476e-01],\n",
       "         [-3.21443664e+13, -4.19934707e+12, -2.51942145e+10, ...,\n",
       "          -9.00144927e-01,  9.39216069e-01, -4.30595041e-01],\n",
       "         [-5.66686065e+13, -7.38091605e+12, -1.70056998e+10, ...,\n",
       "          -9.20480927e-01,  7.71460280e-01, -9.72887852e-01],\n",
       "         ...,\n",
       "         [-3.62532443e+13, -1.73687139e+12, -1.69710677e+10, ...,\n",
       "           2.73083877e-01, -5.83668691e+00, -2.28327313e-01],\n",
       "         [-1.78507650e+13, -6.12929991e+11, -2.33439196e+10, ...,\n",
       "           6.94974383e-01,  6.93095810e-01,  7.63157025e-01],\n",
       "         [-9.46859057e+12, -1.47549537e+12, -1.10432609e+11, ...,\n",
       "           5.35917071e-01,  9.63597454e-01,  6.30427879e-01]],\n",
       " \n",
       "        ...,\n",
       " \n",
       "        [[           -inf,            -inf, -1.56094886e+06, ...,\n",
       "           4.71036172e-01,  4.22735701e-01,  4.46654606e-01],\n",
       "         [           -inf,            -inf, -8.10750365e+04, ...,\n",
       "          -6.90442950e+01,            -inf, -1.91535942e-01],\n",
       "         [           -inf,            -inf, -1.90426153e+05, ...,\n",
       "          -3.67151908e+01,            -inf, -3.11984363e+00],\n",
       "         ...,\n",
       "         [           -inf,            -inf, -5.24000063e+04, ...,\n",
       "          -3.46061310e+01,            -inf, -1.42226583e+00],\n",
       "         [           -inf,            -inf, -5.18891284e+04, ...,\n",
       "          -5.96906042e+00,            -inf,  2.76562365e-01],\n",
       "         [           -inf,            -inf, -3.33406305e+05, ...,\n",
       "          -2.46829608e+01,            -inf, -1.03404131e+01]],\n",
       " \n",
       "        [[           -inf,            -inf, -4.65139172e+04, ...,\n",
       "          -3.39395259e-01,  4.91117080e-01,  7.05303774e-02],\n",
       "         [           -inf,            -inf, -3.15896052e+04, ...,\n",
       "          -1.46067603e-01,  9.07822673e-01, -1.63676684e-01],\n",
       "         [           -inf,            -inf, -2.58115304e+04, ...,\n",
       "          -2.53903628e+01, -2.98210730e+00, -1.72070310e+00],\n",
       "         ...,\n",
       "         [           -inf,            -inf, -3.52508402e+05, ...,\n",
       "           2.67120930e-01,  5.33882451e-01,  2.15922353e-01],\n",
       "         [           -inf,            -inf, -1.55884533e+05, ...,\n",
       "          -8.67362384e-02,  3.86118344e-01, -2.27116906e-01],\n",
       "         [           -inf,            -inf, -2.17477288e+05, ...,\n",
       "           1.49985935e-01,  7.21460839e-01,  2.62884513e-02]],\n",
       " \n",
       "        [[           -inf,            -inf, -3.27445086e+04, ...,\n",
       "          -1.07157833e+01, -5.46283843e-01, -3.47420737e-01],\n",
       "         [           -inf,            -inf, -4.28152881e+04, ...,\n",
       "          -1.13444972e+00, -7.51898001e-03, -5.12732600e-01],\n",
       "         [           -inf,            -inf, -1.52140887e+05, ...,\n",
       "          -3.00832751e+00,  7.20552126e-01,  2.93951623e-02],\n",
       "         ...,\n",
       "         [           -inf,            -inf, -6.07240565e+04, ...,\n",
       "          -1.00224555e+01, -4.60220860e+00,  8.33794618e-03],\n",
       "         [           -inf,            -inf, -4.54576068e+04, ...,\n",
       "          -1.46444832e+01, -2.08579280e-01, -4.70203108e-01],\n",
       "         [           -inf,            -inf, -5.68293779e+04, ...,\n",
       "          -2.18868686e+03,            -inf, -5.07190994e+01]]]),\n",
       " 'hor_tsqmean': array([6.89360373e-14, 3.92667125e-13, 4.65080192e-12, 7.66937746e-12,\n",
       "        1.45633843e-11, 1.49308199e-10, 1.28371836e-10, 2.05816266e-10,\n",
       "        1.32685603e-10, 1.85972078e-10, 2.33324265e-10, 2.45439850e-10,\n",
       "        2.70832364e-10, 3.31723597e-10, 3.52016434e-10, 3.43346058e-10,\n",
       "        3.06965964e-10, 2.40694475e-10, 1.68858776e-10, 1.20850777e-10,\n",
       "        1.01756518e-10, 1.07557206e-10, 1.28126523e-10, 1.58011706e-10,\n",
       "        1.47673466e-10, 1.30663112e-10, 1.04128014e-10, 7.39927778e-11,\n",
       "        6.75300380e-11, 8.50855974e-11, 0.00000000e+00, 0.00000000e+00,\n",
       "        0.00000000e+00, 0.00000000e+00, 0.00000000e+00, 0.00000000e+00,\n",
       "        0.00000000e+00, 0.00000000e+00, 0.00000000e+00, 0.00000000e+00,\n",
       "        0.00000000e+00, 0.00000000e+00, 0.00000000e+00, 0.00000000e+00,\n",
       "        0.00000000e+00, 3.60037503e-56, 2.88684895e-19, 6.38801941e-18,\n",
       "        4.65573588e-17, 8.38362955e-17, 1.41243414e-16, 2.47532928e-16,\n",
       "        4.65455421e-16, 6.51114142e-16, 4.14458196e-16, 2.12835974e-16,\n",
       "        8.35701572e-17, 2.44769038e-17, 1.09417203e-17, 1.14232713e-17,\n",
       "        0.00000000e+00, 0.00000000e+00, 4.92108268e-25, 1.11034573e-26,\n",
       "        1.63083311e-25, 8.57951385e-26, 1.66192838e-23, 1.37322386e-19,\n",
       "        3.67910106e-19, 7.63640084e-19, 5.08389031e-18, 2.28846257e-17,\n",
       "        4.84457606e-17, 4.37724957e-17, 3.49119948e-17, 5.01386907e-17,\n",
       "        4.34031577e-17, 2.74349411e-17, 1.70724620e-17, 1.74824479e-17,\n",
       "        1.82574312e-17, 2.31662148e-17, 2.72049296e-17, 2.27691578e-17,\n",
       "        1.05097367e-17, 3.00810457e-18, 2.22446082e-19, 6.32908399e-22,\n",
       "        2.97115201e-27, 1.03175118e-44, 1.78525969e-09, 9.13920522e-10,\n",
       "        1.29856924e-09, 9.31336325e-10, 8.45172559e-11, 4.38283151e-11,\n",
       "        3.71274405e-11, 8.57305408e-11, 1.24028528e-10, 1.31181864e-10,\n",
       "        1.74002698e-10, 2.84294368e-10, 4.74358276e-10, 5.70902269e-10,\n",
       "        1.03413735e-09, 1.84033875e-09, 3.01875690e-09, 3.91339197e-09,\n",
       "        4.32479450e-09, 4.41714937e-09, 4.46335348e-09, 5.32468777e-09,\n",
       "        6.17828826e-09, 6.84984635e-09, 5.24961255e-09, 3.92081587e-09,\n",
       "        2.80255771e-09, 2.20805997e-09, 2.24363466e-09, 3.77775104e-09,\n",
       "        1.79539805e-09, 9.65086798e-10, 2.80217951e-11, 3.96006550e-10,\n",
       "        1.32726346e-10, 6.05686939e-11, 3.54312872e-11, 3.31567163e-11,\n",
       "        4.39973431e-11, 1.25417576e-10, 1.56733310e-10, 2.77136672e-10,\n",
       "        4.12905378e-10, 3.98812559e-10, 4.31093428e-10, 4.48262494e-10,\n",
       "        4.66983213e-10, 4.98240705e-10, 4.46485900e-10, 4.42060557e-10,\n",
       "        5.24390077e-10, 8.04242955e-10, 1.59368233e-09, 3.50170574e-09,\n",
       "        2.03978530e-09, 1.14780240e-09, 6.54486510e-10, 5.06055581e-10,\n",
       "        6.97450588e-10, 9.38837989e-10, 3.74996687e-09, 1.90577282e-09,\n",
       "        9.60497580e-10, 3.95771593e-10, 1.61194552e-10, 7.23279427e-11,\n",
       "        3.49072582e-11, 2.05871057e-11, 1.37623381e-11, 1.93008930e-11,\n",
       "        6.24667433e-11, 8.56742247e-11, 8.84086368e-11, 9.61992240e-11,\n",
       "        1.07219519e-10, 1.18392151e-10, 1.19219806e-10, 1.36448194e-10,\n",
       "        1.52024075e-10, 1.61798110e-10, 1.78983533e-10, 2.49920261e-10,\n",
       "        3.79534874e-10, 5.46052572e-10, 2.87903727e-10, 2.02581685e-10,\n",
       "        1.29576057e-10, 9.48622527e-11, 7.91805946e-11, 8.94984033e-11,\n",
       "        7.24770060e-14, 9.40001894e-14, 5.26900581e-14, 3.87706121e-14,\n",
       "        6.61982548e-14, 4.27892496e-13, 4.73661939e-10, 5.69568480e-09,\n",
       "        1.36248918e-08, 2.31425873e-08, 1.86308489e-08, 4.48207093e-09,\n",
       "        2.99074189e-09, 2.59023145e-09, 1.58938574e-09, 9.99218902e-10,\n",
       "        3.84332319e-10, 9.37397991e-11, 1.90662495e-11, 1.97340126e-11,\n",
       "        1.81217209e-11, 3.80742670e-11, 4.92475919e-09, 5.10558404e-08,\n",
       "        5.49068248e-08, 1.02884276e-07, 3.28086869e-07, 9.83199902e-07,\n",
       "        3.11425520e-06, 1.07380034e-03, 1.60432984e+05, 9.02528119e+04,\n",
       "        5.23236448e+04, 3.62155530e+03, 1.26476259e-14, 5.00716375e-10,\n",
       "        2.02597714e-16, 8.87062180e-11]),\n",
       " 'hor_tmean': array([ 6.03530893e-09,  3.95886326e-08, -1.29830909e-07, -5.82455515e-08,\n",
       "         2.67916460e-08, -3.76385475e-08, -2.71005142e-08, -7.72069840e-08,\n",
       "        -2.54370674e-07, -7.47946122e-07, -1.22169992e-06, -1.76608224e-06,\n",
       "        -2.35484960e-06, -3.07526845e-06, -3.39465348e-06, -3.52784646e-06,\n",
       "        -3.21384936e-06, -2.75095868e-06, -2.19770532e-06, -1.58238775e-06,\n",
       "        -8.51324764e-07,  3.37179677e-08,  8.91428781e-07,  5.53462653e-07,\n",
       "         3.21520910e-07,  1.11110318e-07, -5.40739373e-10,  9.72623086e-08,\n",
       "         1.41326128e-07,  2.06036317e-07,  0.00000000e+00,  0.00000000e+00,\n",
       "         0.00000000e+00,  0.00000000e+00,  0.00000000e+00,  0.00000000e+00,\n",
       "         0.00000000e+00,  0.00000000e+00,  0.00000000e+00,  0.00000000e+00,\n",
       "         0.00000000e+00,  0.00000000e+00,  0.00000000e+00,  0.00000000e+00,\n",
       "         0.00000000e+00, -1.99861988e-30, -4.06986266e-11, -6.86517019e-11,\n",
       "        -6.93308035e-11, -9.10280446e-11, -8.19281682e-11, -1.39678467e-11,\n",
       "         3.10697012e-11,  4.11166640e-10,  2.86897572e-11,  6.87628565e-11,\n",
       "         1.12040812e-10,  1.10447312e-10,  1.27093445e-10,  9.60238759e-11,\n",
       "         0.00000000e+00,  0.00000000e+00, -3.91756693e-15, -1.94694654e-15,\n",
       "        -1.10441010e-15, -9.79901481e-16,  4.40847051e-15,  2.87072537e-13,\n",
       "        -7.99666030e-14, -1.36515979e-11, -2.37347536e-11, -4.28347702e-11,\n",
       "        -5.18397109e-11, -9.82965409e-11, -1.03752640e-10, -6.50431495e-11,\n",
       "         1.84950986e-11,  3.88649624e-11,  2.46240206e-11,  5.48856282e-11,\n",
       "         2.13002237e-11,  7.06424814e-12, -7.56984991e-13,  1.67078592e-11,\n",
       "         9.23575379e-12, -6.78253171e-12, -5.30176419e-12, -6.37421797e-13,\n",
       "        -1.29609422e-15, -4.66096265e-25,  1.17370493e-06, -2.91970120e-07,\n",
       "        -1.13900418e-05,  1.66500510e-05, -1.41384885e-06,  9.13705785e-08,\n",
       "        -8.76712055e-07, -3.28737426e-07, -4.05786853e-07, -6.35776676e-07,\n",
       "        -1.23584003e-06, -3.00082316e-06, -4.01338532e-06, -5.06166406e-06,\n",
       "        -5.52902214e-06, -5.17955440e-06, -4.76851559e-06, -3.53406820e-06,\n",
       "        -9.02909157e-07,  7.65059150e-08, -9.95465112e-07, -3.26044924e-06,\n",
       "        -4.21971052e-06,  9.26964696e-07,  3.75605816e-06,  6.16846727e-06,\n",
       "         7.16117776e-06,  6.94965316e-06,  5.77833123e-06,  3.64413643e-06,\n",
       "        -3.81148704e-05, -2.83336379e-05, -2.04540880e-06, -1.73639969e-05,\n",
       "        -9.87950032e-06, -5.31680022e-06, -3.36008915e-06, -2.39732947e-06,\n",
       "        -2.64283097e-06, -3.25855798e-06, -3.79898830e-06, -6.00554825e-06,\n",
       "        -8.16701893e-06, -1.07100186e-05, -1.34552575e-05, -1.60986420e-05,\n",
       "        -1.83291612e-05, -1.97970014e-05, -1.89662941e-05, -1.86948659e-05,\n",
       "        -1.99745604e-05, -2.34165583e-05, -2.93410761e-05, -3.86974145e-05,\n",
       "        -2.86687366e-05, -2.01892178e-05, -1.40855605e-05, -1.13082766e-05,\n",
       "        -1.26185195e-05, -1.62449323e-05,  3.92885039e-05,  2.80415776e-05,\n",
       "         2.00827809e-05,  1.32455218e-05,  8.59123395e-06,  5.67988684e-06,\n",
       "         3.82132879e-06,  2.91172248e-06,  2.38540530e-06,  2.18091296e-06,\n",
       "         2.38482487e-06,  2.72850453e-06,  3.22914432e-06,  3.76714089e-06,\n",
       "         4.42115022e-06,  5.18026859e-06,  5.82567353e-06,  6.52760619e-06,\n",
       "         6.91682969e-06,  7.02016517e-06,  7.32147762e-06,  8.43668271e-06,\n",
       "         1.00014542e-05,  1.09993323e-05,  8.92509335e-06,  7.51063118e-06,\n",
       "         6.16470508e-06,  5.23376616e-06,  4.79981096e-06,  4.80503339e-06,\n",
       "         1.28469399e-07,  1.62331782e-07,  1.38121292e-07,  1.27590392e-07,\n",
       "         1.63814696e-07,  3.39086706e-07,  2.83940857e-06,  1.18885714e-05,\n",
       "         1.81058836e-05,  1.91818174e-05,  1.50914823e-05,  8.95669597e-06,\n",
       "         6.81787786e-06,  7.00993852e-06,  6.61169249e-06,  5.34465984e-06,\n",
       "         3.37816381e-06,  1.57324828e-06,  6.46592268e-07,  5.29931286e-07,\n",
       "         4.37294052e-07,  6.27441934e-07,  7.12533212e-06,  3.10442116e-05,\n",
       "         5.83510083e-05,  9.96703762e-05,  1.70119962e-04,  3.04136440e-04,\n",
       "         5.93668185e-04,  1.62656439e-02,  2.32438308e+02,  1.65453952e+02,\n",
       "         2.24438583e+02,  5.35653951e+01,  3.05769429e-08,  8.19370809e-09,\n",
       "         4.92283348e-09,  9.24736669e-08]),\n",
       " 'hor_mse': array([5.77676050e-09, 8.47947247e-08, 9.91449255e-09, 8.31081351e-09,\n",
       "        1.68412447e-08, 5.23394008e-09, 8.16787883e-09, 5.91148205e-09,\n",
       "        7.60682286e-09, 1.22344884e-08, 9.91856897e-09, 7.78228751e-09,\n",
       "        2.72089834e-07, 1.63746619e-08, 9.67986301e-09, 3.82479569e-08,\n",
       "        1.59886719e-08, 6.62765745e-09, 7.08524394e-09, 5.21097247e-09,\n",
       "        1.17379626e-08, 5.43119315e-09, 7.36032115e-09, 7.76250289e-09,\n",
       "        6.02315722e-09, 4.89306304e-09, 5.45049771e-09, 7.05579999e-09,\n",
       "        4.98822784e-09, 7.18077675e-09, 1.18132891e-17, 2.41704716e-18,\n",
       "        1.86659162e-18, 9.25419483e-19, 2.92288201e-19, 4.53813558e-19,\n",
       "        4.49633238e-19, 2.96282821e-19, 4.19822390e-19, 1.86129949e-19,\n",
       "        1.76583237e-19, 2.26666982e-19, 6.83235462e-20, 3.81078729e-20,\n",
       "        3.59728726e-20, 8.21826693e-20, 1.34257819e-19, 4.12209087e-18,\n",
       "        2.87898257e-17, 5.00466327e-17, 8.44683414e-17, 1.52921133e-16,\n",
       "        2.74557488e-16, 3.93022057e-16, 2.57181074e-16, 1.38255709e-16,\n",
       "        6.89708288e-17, 2.27675248e-17, 9.04875817e-18, 9.26080207e-18,\n",
       "        8.26286232e-18, 4.69279244e-18, 1.43907873e-18, 6.79549482e-19,\n",
       "        5.43207897e-19, 2.78602749e-19, 4.45833110e-18, 5.26177104e-19,\n",
       "        9.81374269e-19, 1.34352937e-18, 5.53196010e-18, 2.04920337e-17,\n",
       "        3.99649091e-17, 3.52609933e-17, 3.02173763e-17, 3.84360806e-17,\n",
       "        3.04487740e-17, 1.76841098e-17, 1.18510895e-17, 1.17065760e-17,\n",
       "        1.21333971e-17, 1.44560826e-17, 1.64837319e-17, 1.59917454e-17,\n",
       "        7.80168571e-18, 2.70639646e-18, 5.17616205e-19, 2.23757746e-19,\n",
       "        2.32512758e-19, 4.11365002e-19, 1.47360347e-10, 1.08642911e-10,\n",
       "        7.99716233e-10, 3.03741049e-10, 1.74858853e-11, 1.88854367e-11,\n",
       "        2.36381581e-11, 9.12356080e-11, 1.10871998e-10, 1.14889107e-10,\n",
       "        1.16155817e-10, 1.32721382e-10, 1.92064453e-10, 1.94849309e-10,\n",
       "        2.24813194e-10, 2.94926450e-10, 4.09258391e-10, 5.07143104e-10,\n",
       "        6.36931416e-10, 8.09906511e-10, 1.10622766e-09, 1.77703992e-09,\n",
       "        2.63448193e-09, 3.63154086e-09, 3.04345419e-09, 2.43964045e-09,\n",
       "        1.84403900e-09, 1.39684806e-09, 1.26274295e-09, 2.14546840e-09,\n",
       "        2.58634769e-10, 1.53501390e-10, 3.39996625e-11, 3.64786271e-11,\n",
       "        1.01201358e-11, 1.18147826e-11, 1.32919282e-11, 1.34857448e-11,\n",
       "        2.66584858e-11, 7.88661610e-11, 7.32459444e-11, 1.02842267e-10,\n",
       "        9.90734729e-11, 7.08999468e-11, 5.35254983e-11, 4.40322452e-11,\n",
       "        3.02715259e-11, 2.57321329e-11, 1.57522322e-11, 1.65416060e-11,\n",
       "        1.83997730e-11, 3.72971347e-11, 7.68122890e-11, 2.55492374e-10,\n",
       "        2.31533350e-10, 1.89434245e-10, 1.71622432e-10, 1.21727067e-10,\n",
       "        1.32489955e-10, 1.47898943e-10, 1.78403153e-10, 4.92930920e-11,\n",
       "        2.65620039e-11, 2.91053417e-11, 2.24766176e-11, 1.53235693e-11,\n",
       "        1.53213003e-11, 5.57935840e-12, 5.27946467e-12, 1.64317310e-11,\n",
       "        2.50819319e-11, 2.51515313e-11, 4.19501589e-11, 4.44324139e-11,\n",
       "        1.39307904e-11, 1.54646329e-11, 9.34071868e-12, 7.03278593e-12,\n",
       "        4.37655602e-12, 4.35111389e-12, 4.49332992e-12, 8.01864828e-12,\n",
       "        1.70001079e-11, 3.67253003e-11, 3.15689861e-11, 1.26173810e-11,\n",
       "        4.93033392e-11, 1.06200292e-11, 1.00312939e-11, 2.13151955e-11,\n",
       "        2.05544078e-04, 8.74560180e-05, 2.08436570e-05, 2.35787427e-05,\n",
       "        5.79793963e-06, 6.29857103e-06, 5.62594020e-06, 7.11789483e-06,\n",
       "        5.62642099e-06, 6.50874524e-06, 5.95411214e-06, 2.04319891e-06,\n",
       "        2.71205325e-06, 1.51050895e-06, 1.14101712e-06, 7.40090137e-07,\n",
       "        2.75566773e-07, 2.48283310e-07, 5.24568064e-07, 3.52888530e-07,\n",
       "        4.21358327e-07, 2.96153919e-07, 6.98557427e-07, 1.96056458e-06,\n",
       "        5.86720096e-06, 2.92745854e-06, 5.02484401e-06, 1.07477241e-05,\n",
       "        2.87067765e-04, 8.82625446e-04, 5.29749778e+02, 4.87994602e+02,\n",
       "        1.02427406e+02, 4.40838510e+01, 6.43899673e-16, 3.70053752e-10,\n",
       "        1.25507812e-17, 6.82855494e-11]),\n",
       " 'hor_tvar': array([6.88996124e-14, 3.91099865e-13, 4.63394586e-12, 7.66598492e-12,\n",
       "        1.45626665e-11, 1.49306782e-10, 1.28371101e-10, 2.05810305e-10,\n",
       "        1.32620898e-10, 1.85412655e-10, 2.31831714e-10, 2.42320804e-10,\n",
       "        2.65287047e-10, 3.22266321e-10, 3.40492761e-10, 3.30900357e-10,\n",
       "        2.96637136e-10, 2.33126701e-10, 1.64028867e-10, 1.18346826e-10,\n",
       "        1.01031764e-10, 1.07556069e-10, 1.27331878e-10, 1.57705385e-10,\n",
       "        1.47570090e-10, 1.30650767e-10, 1.04128014e-10, 7.39833178e-11,\n",
       "        6.75100650e-11, 8.50431465e-11, 0.00000000e+00, 0.00000000e+00,\n",
       "        0.00000000e+00, 0.00000000e+00, 0.00000000e+00, 0.00000000e+00,\n",
       "        0.00000000e+00, 0.00000000e+00, 0.00000000e+00, 0.00000000e+00,\n",
       "        0.00000000e+00, 0.00000000e+00, 0.00000000e+00, 0.00000000e+00,\n",
       "        0.00000000e+00, 3.59997558e-56, 2.87028517e-19, 6.38330635e-18,\n",
       "        4.65525520e-17, 8.38280094e-17, 1.41236702e-16, 2.47532733e-16,\n",
       "        4.65454455e-16, 6.50945084e-16, 4.14457373e-16, 2.12831246e-16,\n",
       "        8.35576041e-17, 2.44647052e-17, 1.09255676e-17, 1.14140507e-17,\n",
       "        0.00000000e+00, 0.00000000e+00, 4.92092921e-25, 1.10996667e-26,\n",
       "        1.63082092e-25, 8.57941783e-26, 1.66192644e-23, 1.37322303e-19,\n",
       "        3.67910100e-19, 7.63453718e-19, 5.08332697e-18, 2.28827909e-17,\n",
       "        4.84430732e-17, 4.37628335e-17, 3.49012302e-17, 5.01344601e-17,\n",
       "        4.34028156e-17, 2.74334306e-17, 1.70718557e-17, 1.74794354e-17,\n",
       "        1.82569775e-17, 2.31661649e-17, 2.72049290e-17, 2.27688787e-17,\n",
       "        1.05096514e-17, 3.00805857e-18, 2.22417974e-19, 6.32502093e-22,\n",
       "        2.96947215e-27, 1.03172945e-44, 1.78388210e-09, 9.13835275e-10,\n",
       "        1.16883619e-09, 6.54112128e-10, 8.25182873e-11, 4.38199665e-11,\n",
       "        3.63588164e-11, 8.56224725e-11, 1.23863865e-10, 1.30777652e-10,\n",
       "        1.72475398e-10, 2.75289429e-10, 4.58251014e-10, 5.45281826e-10,\n",
       "        1.00356726e-09, 1.81351096e-09, 2.99601816e-09, 3.90090234e-09,\n",
       "        4.32397926e-09, 4.41714352e-09, 4.46236253e-09, 5.31405725e-09,\n",
       "        6.16048230e-09, 6.84898708e-09, 5.23550458e-09, 3.88276588e-09,\n",
       "        2.75127524e-09, 2.15976229e-09, 2.21024555e-09, 3.76447131e-09,\n",
       "        3.42654707e-10, 1.62291761e-10, 2.38380980e-11, 9.44981609e-11,\n",
       "        3.51218190e-11, 3.23003293e-11, 2.41410881e-11, 2.74095277e-11,\n",
       "        3.70127876e-11, 1.14799376e-10, 1.42300998e-10, 2.41070062e-10,\n",
       "        3.46205180e-10, 2.84108061e-10, 2.50049474e-10, 1.89096221e-10,\n",
       "        1.31025063e-10, 1.06319438e-10, 8.67655868e-11, 9.25625463e-11,\n",
       "        1.25407014e-10, 2.55907751e-10, 7.32783586e-10, 2.00421586e-09,\n",
       "        1.21788884e-09, 7.40197880e-10, 4.56083497e-10, 3.78178460e-10,\n",
       "        5.38223554e-10, 6.74940163e-10, 2.20638033e-09, 1.11944274e-09,\n",
       "        5.57179492e-10, 2.20327746e-10, 8.73852512e-11, 4.00668282e-11,\n",
       "        2.03047045e-11, 1.21089779e-11, 8.07217962e-12, 1.45445117e-11,\n",
       "        5.67793537e-11, 7.82294877e-11, 7.79812638e-11, 8.20078736e-11,\n",
       "        8.76729497e-11, 9.15569681e-11, 8.52813334e-11, 9.38385510e-11,\n",
       "        1.04181542e-10, 1.12515391e-10, 1.25379499e-10, 1.78742646e-10,\n",
       "        2.79505788e-10, 4.25067261e-10, 2.08246436e-10, 1.46172105e-10,\n",
       "        9.15724682e-11, 6.74699445e-11, 5.61424094e-11, 6.64100573e-11,\n",
       "        5.59726194e-14, 6.76485819e-14, 3.36125668e-14, 2.24913041e-14,\n",
       "        3.93630001e-14, 3.12912702e-13, 4.65599698e-10, 5.55434667e-09,\n",
       "        1.32970687e-08, 2.27746452e-08, 1.84030960e-08, 4.40184852e-09,\n",
       "        2.94425844e-09, 2.54109221e-09, 1.54567126e-09, 9.70653513e-10,\n",
       "        3.72920328e-10, 9.12646889e-11, 1.86481679e-11, 1.94531854e-11,\n",
       "        1.79304948e-11, 3.76805836e-11, 4.87398883e-09, 5.00920973e-08,\n",
       "        5.15019846e-08, 9.29500922e-08, 2.99146067e-07, 8.90700928e-07,\n",
       "        2.76181329e-06, 8.09229172e-04, 1.06405417e+05, 6.28778017e+04,\n",
       "        1.95096745e+03, 7.52303745e+02, 1.17126765e-14, 5.00716308e-10,\n",
       "        1.78363424e-16, 8.86976666e-11]),\n",
       " 'hor_r2': array([-8.38421495e+04, -2.16809928e+05, -2.13853569e+03, -1.08311556e+03,\n",
       "        -1.15546710e+03, -3.40549386e+01, -6.26270839e+01, -2.77229643e+01,\n",
       "        -5.63576484e+01, -6.49851852e+01, -4.17834863e+01, -3.11156393e+01,\n",
       "        -1.02464312e+03, -4.98109623e+01, -2.74289833e+01, -1.14587536e+02,\n",
       "        -5.28997647e+01, -2.74294223e+01, -4.21951039e+01, -4.30313664e+01,\n",
       "        -1.15180912e+02, -4.94963895e+01, -5.68042299e+01, -4.82215463e+01,\n",
       "        -3.98155691e+01, -3.64514682e+01, -5.13442013e+01, -9.43701483e+01,\n",
       "        -7.28886542e+01, -8.34368659e+01,            -inf,            -inf,\n",
       "                   -inf,            -inf,            -inf,            -inf,\n",
       "                   -inf,            -inf,            -inf,            -inf,\n",
       "                   -inf,            -inf,            -inf,            -inf,\n",
       "                   -inf, -2.28286741e+36,  5.32249198e-01,  3.54238910e-01,\n",
       "         3.81562891e-01,  4.02984359e-01,  4.01937739e-01,  3.82218541e-01,\n",
       "         4.10130283e-01,  3.96228550e-01,  3.79475212e-01,  3.50397503e-01,\n",
       "         1.74571488e-01,  6.93726075e-02,  1.71781409e-01,  1.88648944e-01,\n",
       "                   -inf,            -inf, -2.92440346e+06, -6.12225113e+07,\n",
       "        -3.33088525e+06, -3.24733763e+06, -2.68261842e+05, -2.83169443e+00,\n",
       "        -1.66742954e+00, -7.59804605e-01, -8.82558088e-02,  1.04478394e-01,\n",
       "         1.75012929e-01,  1.94270788e-01,  1.34203117e-01,  2.33340091e-01,\n",
       "         2.98460860e-01,  3.55381030e-01,  3.05811288e-01,  3.30265782e-01,\n",
       "         3.35410417e-01,  3.75982918e-01,  3.94090244e-01,  2.97648968e-01,\n",
       "         2.57664652e-01,  1.00284654e-01, -1.32722292e+00, -3.52766016e+02,\n",
       "        -7.83010392e+07, -3.98714025e+25,  9.17393450e-01,  8.81113244e-01,\n",
       "         3.15801270e-01,  5.35643760e-01,  7.88096847e-01,  5.69022110e-01,\n",
       "         3.49864479e-01, -6.55568018e-02,  1.04888273e-01,  1.21492812e-01,\n",
       "         3.26536894e-01,  5.17884205e-01,  5.80875008e-01,  6.42663116e-01,\n",
       "         7.75985922e-01,  8.37372668e-01,  8.63399229e-01,  8.69993386e-01,\n",
       "         8.52697856e-01,  8.16644737e-01,  7.52098209e-01,  6.65596392e-01,\n",
       "         5.72357844e-01,  4.69769645e-01,  4.18689421e-01,  3.71674595e-01,\n",
       "         3.29751173e-01,  3.53239907e-01,  4.28686579e-01,  4.30074445e-01,\n",
       "         2.45202931e-01,  5.41640000e-02, -4.26274129e-01,  6.13975270e-01,\n",
       "         7.11856159e-01,  6.34220984e-01,  4.49406417e-01,  5.07990618e-01,\n",
       "         2.79749311e-01,  3.13008802e-01,  4.85274554e-01,  5.73392621e-01,\n",
       "         7.13830183e-01,  7.50447254e-01,  7.85940368e-01,  7.67143706e-01,\n",
       "         7.68963852e-01,  7.57973394e-01,  8.18450693e-01,  8.21292664e-01,\n",
       "         8.53279555e-01,  8.54255549e-01,  8.95177389e-01,  8.72522526e-01,\n",
       "         8.09889587e-01,  7.44076212e-01,  6.23703919e-01,  6.78122686e-01,\n",
       "         7.53838431e-01,  7.80871030e-01,  9.19142157e-01,  9.55966402e-01,\n",
       "         9.52327743e-01,  8.67899789e-01,  7.42787058e-01,  6.17549729e-01,\n",
       "         2.45431010e-01,  5.39237873e-01,  3.45967890e-01, -1.29754742e-01,\n",
       "         5.58256121e-01,  6.78490399e-01,  4.62048230e-01,  4.58193318e-01,\n",
       "         8.41105034e-01,  8.31092781e-01,  8.90471709e-01,  9.25054406e-01,\n",
       "         9.57991061e-01,  9.61328723e-01,  9.64162164e-01,  9.55138583e-01,\n",
       "         9.39177976e-01,  9.13601202e-01,  8.48405636e-01,  9.13681335e-01,\n",
       "         4.61592112e-01,  8.42596148e-01,  8.21324129e-01,  6.79036634e-01,\n",
       "        -3.67222545e+09, -1.29279898e+09, -6.20115002e+08, -1.04834929e+09,\n",
       "        -1.47294149e+08, -2.01288432e+07, -1.20822127e+04, -1.28049992e+03,\n",
       "        -4.22132429e+02, -2.84789095e+02, -3.22538612e+02, -4.63168383e+02,\n",
       "        -9.20132879e+02, -5.93432954e+02, -7.37201680e+02, -7.61465831e+02,\n",
       "        -7.37942750e+02, -2.71947506e+03, -2.81287372e+04, -1.81393982e+04,\n",
       "        -2.34985370e+04, -7.85858949e+03, -1.42323559e+02, -3.81391994e+01,\n",
       "        -1.12921842e+02, -3.04949504e+01, -1.57972926e+01, -1.10665913e+01,\n",
       "        -1.02941771e+02, -9.06989967e-02,  9.95021402e-01,  9.92239000e-01,\n",
       "         9.47499172e-01,  9.41401527e-01,  9.45025403e-01,  2.60951268e-01,\n",
       "         9.29633661e-01,  2.30131388e-01])}"
      ]
     },
     "execution_count": 24,
     "metadata": {},
     "output_type": "execute_result"
    }
   ],
   "source": [
    "md['035_Test01.hdf5']['test'].stats"
   ]
  },
  {
   "cell_type": "code",
   "execution_count": 29,
   "metadata": {},
   "outputs": [
    {
     "name": "stdout",
     "output_type": "stream",
     "text": [
      "NNname= UCnet  and MSE= 72.25533284342718\n",
      "NNname= UCnet_{NL}  and MSE= 2028.5602490827014\n",
      "NNname= ACnet_{NL}  and MSE= 18804.54310291593\n"
     ]
    }
   ],
   "source": [
    "for i,NNs in enumerate(NNarray):\n",
    "    print('NNname=',NNname[i],' and MSE=',(md[NNs]['test'].stats['mse']*\\\n",
    "          (md[NNs]['test'].valid_gen.output_transform.scale**2)).mean(axis=(0,1,2)))"
   ]
  },
  {
   "cell_type": "markdown",
   "metadata": {},
   "source": [
    "### 4.2.2) Load slurm jobs to calculate statistics of all three networks"
   ]
  },
  {
   "cell_type": "code",
   "execution_count": 8,
   "metadata": {},
   "outputs": [
    {
     "name": "stdout",
     "output_type": "stream",
     "text": [
      "NN name is  035_Test01.hdf5\n",
      "data name is  8col009RH_01_train.nc\n"
     ]
    },
    {
     "name": "stderr",
     "output_type": "stream",
     "text": [
      "/home/t/Tom.Beucler/SPCAM/CBRAIN-CAM/notebooks/tbeucler_devlog/cbrain/model_diagnostics.py:25: YAMLLoadWarning: calling yaml.load() without Loader=... is deprecated, as the default Loader is unsafe. Please read https://msg.pyyaml.org/load for full details.\n",
      "  config = yaml.load(f)\n"
     ]
    },
    {
     "ename": "FileNotFoundError",
     "evalue": "[Errno 2] No such file or directory: '/local/Tom.Beucler/SPCAM_PHYS/HDF5_DATA/035_Test01.hdf5md8col009RH_01_train.nc.pkl'",
     "output_type": "error",
     "traceback": [
      "\u001b[0;31m---------------------------------------------------------------------------\u001b[0m",
      "\u001b[0;31mFileNotFoundError\u001b[0m                         Traceback (most recent call last)",
      "\u001b[0;32m~/miniconda3/lib/python3.7/site-packages/tensorflow/python/keras/api/_v1/keras/models/__init__.py\u001b[0m in \u001b[0;36m<module>\u001b[0;34m\u001b[0m\n\u001b[1;32m     25\u001b[0m                                                 '/local/Tom.Beucler/SPCAM_PHYS/'+data)\n\u001b[1;32m     26\u001b[0m         \u001b[0mmd\u001b[0m\u001b[0;34m[\u001b[0m\u001b[0mNNs\u001b[0m\u001b[0;34m]\u001b[0m\u001b[0;34m[\u001b[0m\u001b[0mdata\u001b[0m\u001b[0;34m[\u001b[0m\u001b[0;36m13\u001b[0m\u001b[0;34m:\u001b[0m\u001b[0;34m-\u001b[0m\u001b[0;36m3\u001b[0m\u001b[0;34m]\u001b[0m\u001b[0;34m]\u001b[0m\u001b[0;34m\u001b[0m\u001b[0;34m\u001b[0m\u001b[0m\n\u001b[0;32m---> 27\u001b[0;31m         \u001b[0mmd\u001b[0m\u001b[0;34m[\u001b[0m\u001b[0mNNs\u001b[0m\u001b[0;34m]\u001b[0m\u001b[0;34m[\u001b[0m\u001b[0mdata\u001b[0m\u001b[0;34m[\u001b[0m\u001b[0;36m13\u001b[0m\u001b[0;34m:\u001b[0m\u001b[0;34m-\u001b[0m\u001b[0;36m3\u001b[0m\u001b[0;34m]\u001b[0m\u001b[0;34m]\u001b[0m\u001b[0;34m.\u001b[0m\u001b[0mstats\u001b[0m \u001b[0;34m=\u001b[0m \u001b[0mpickle\u001b[0m\u001b[0;34m.\u001b[0m\u001b[0mload\u001b[0m\u001b[0;34m(\u001b[0m\u001b[0mopen\u001b[0m\u001b[0;34m(\u001b[0m\u001b[0mTRAINDIR\u001b[0m\u001b[0;34m+\u001b[0m\u001b[0;34m'HDF5_DATA/'\u001b[0m\u001b[0;34m+\u001b[0m\u001b[0mNNs\u001b[0m\u001b[0;34m+\u001b[0m\u001b[0;34m'md'\u001b[0m\u001b[0;34m+\u001b[0m\u001b[0mdata\u001b[0m\u001b[0;34m+\u001b[0m\u001b[0;34m'.pkl'\u001b[0m\u001b[0;34m,\u001b[0m\u001b[0;34m'rb'\u001b[0m\u001b[0;34m)\u001b[0m\u001b[0;34m)\u001b[0m\u001b[0;34m\u001b[0m\u001b[0;34m\u001b[0m\u001b[0m\n\u001b[0m",
      "\u001b[0;31mFileNotFoundError\u001b[0m: [Errno 2] No such file or directory: '/local/Tom.Beucler/SPCAM_PHYS/HDF5_DATA/035_Test01.hdf5md8col009RH_01_train.nc.pkl'"
     ]
    }
   ],
   "source": [
    "path_HDF5 = '/local/Tom.Beucler/SPCAM_PHYS/HDF5_DATA/'\n",
    "config_file = ['8col_rad_tbeucler_local-RH_PostProc.yml',\n",
    "               '8col_rad_tbeucler_local-RH_PostProc.yml',\n",
    "               '8col_rad_tbeucler_local-RH_PostProc.yml']\n",
    "data_file = ['8col009RH_01_train.nc',\n",
    "            '8col009RH_01_valid.nc',\n",
    "            '8col009RH_01_test.nc']\n",
    "NNarray = ['035_Test01.hdf5','035_Test02.hdf5','035_Test03.hdf5']\n",
    "NNname = ['UCnet','UCnet_{NL}','ACnet_{NL}']\n",
    "dict_lay = {'SurRadLayer':SurRadLayer,'MassConsLayer':MassConsLayer,'EntConsLayer':EntConsLayer,\n",
    "            'RH2QV':RH2QV,'dQVdt2dRHdt':dQVdt2dRHdt,\n",
    "           'eliq':eliq,'eice':eice,'esat':esat,'qv':qv,'RH':RH}\n",
    "\n",
    "NN = {}; md = {};\n",
    "os.chdir('/local/Tom.Beucler/SPCAM_PHYS/HDF5_DATA')\n",
    "for i,NNs in enumerate(NNarray):\n",
    "    print('NN name is ',NNs)\n",
    "    path = path_HDF5+NNs\n",
    "    NN[NNs] = load_model(path,custom_objects=dict_lay)\n",
    "    md[NNs] = {}\n",
    "    for j,data in enumerate(data_file):\n",
    "        print('data name is ',data)\n",
    "        md[NNs][data[13:-3]] = ModelDiagnostics(NN[NNs],\n",
    "                                                '/home/t/Tom.Beucler/SPCAM/CBRAIN-CAM/pp_config/'+config_file[i],\n",
    "                                                '/local/Tom.Beucler/SPCAM_PHYS/'+data)\n",
    "        md[NNs][data[13:-3]]\n",
    "        md[NNs][data[13:-3]].stats = pickle.load(open(TRAINDIR+'HDF5_DATA/'+NNs+'md'+data+'.pkl','rb'))"
   ]
  },
  {
   "cell_type": "markdown",
   "metadata": {},
   "source": [
    "To recalculate for now"
   ]
  },
  {
   "cell_type": "markdown",
   "metadata": {},
   "source": [
    "### 4.2.3 Process predictions individually to calculate squared-error profiles and constraints penalty"
   ]
  },
  {
   "cell_type": "code",
   "execution_count": 10,
   "metadata": {},
   "outputs": [
    {
     "name": "stdout",
     "output_type": "stream",
     "text": [
      "i= 0 & NNs= 035_UCnet.hdf5          \n",
      "j= 0 & data= 8col009RH_01_valid.nc          \r"
     ]
    },
    {
     "data": {
      "application/vnd.jupyter.widget-view+json": {
       "model_id": "dbe4b1036fbd41cd93ad310f7016f045",
       "version_major": 2,
       "version_minor": 0
      },
      "text/plain": [
       "HBox(children=(IntProgress(value=0, max=5), HTML(value='')))"
      ]
     },
     "metadata": {},
     "output_type": "display_data"
    },
    {
     "name": "stdout",
     "output_type": "stream",
     "text": [
      "\n"
     ]
    },
    {
     "ename": "KeyboardInterrupt",
     "evalue": "",
     "output_type": "error",
     "traceback": [
      "\u001b[0;31m---------------------------------------------------------------------------\u001b[0m",
      "\u001b[0;31mKeyboardInterrupt\u001b[0m                         Traceback (most recent call last)",
      "\u001b[0;32m~/miniconda3/lib/python3.7/site-packages/tensorflow/python/keras/api/_v1/keras/models/__init__.py\u001b[0m in \u001b[0;36m<module>\u001b[0;34m\u001b[0m\n\u001b[1;32m     17\u001b[0m         \u001b[0;32mfor\u001b[0m \u001b[0mitime\u001b[0m \u001b[0;32min\u001b[0m \u001b[0mtqdm\u001b[0m\u001b[0;34m(\u001b[0m\u001b[0mnp\u001b[0m\u001b[0;34m.\u001b[0m\u001b[0marange\u001b[0m\u001b[0;34m(\u001b[0m\u001b[0miini\u001b[0m\u001b[0;34m,\u001b[0m\u001b[0miend\u001b[0m\u001b[0;34m)\u001b[0m\u001b[0;34m)\u001b[0m\u001b[0;34m:\u001b[0m\u001b[0;34m\u001b[0m\u001b[0;34m\u001b[0m\u001b[0m\n\u001b[1;32m     18\u001b[0m             \u001b[0;31m# Get input, prediction and truth from NN\u001b[0m\u001b[0;34m\u001b[0m\u001b[0;34m\u001b[0m\u001b[0;34m\u001b[0m\u001b[0m\n\u001b[0;32m---> 19\u001b[0;31m             \u001b[0minp\u001b[0m\u001b[0;34m,\u001b[0m \u001b[0mp\u001b[0m\u001b[0;34m,\u001b[0m \u001b[0mtruth\u001b[0m \u001b[0;34m=\u001b[0m \u001b[0mmd\u001b[0m\u001b[0;34m[\u001b[0m\u001b[0mNNs\u001b[0m\u001b[0;34m]\u001b[0m\u001b[0;34m[\u001b[0m\u001b[0mdata\u001b[0m\u001b[0;34m[\u001b[0m\u001b[0;36m13\u001b[0m\u001b[0;34m:\u001b[0m\u001b[0;34m-\u001b[0m\u001b[0;36m3\u001b[0m\u001b[0;34m]\u001b[0m\u001b[0;34m]\u001b[0m\u001b[0;34m.\u001b[0m\u001b[0mget_inp_pred_truth\u001b[0m\u001b[0;34m(\u001b[0m\u001b[0mitime\u001b[0m\u001b[0;34m)\u001b[0m  \u001b[0;31m# [lat, lon, var, lev]\u001b[0m\u001b[0;34m\u001b[0m\u001b[0;34m\u001b[0m\u001b[0m\n\u001b[0m\u001b[1;32m     20\u001b[0m             \u001b[0;31m# Get convective heating and moistening for each NN\u001b[0m\u001b[0;34m\u001b[0m\u001b[0;34m\u001b[0m\u001b[0;34m\u001b[0m\u001b[0m\n\u001b[1;32m     21\u001b[0m             \u001b[0;32mif\u001b[0m \u001b[0mitime\u001b[0m\u001b[0;34m==\u001b[0m\u001b[0miini\u001b[0m\u001b[0;34m:\u001b[0m\u001b[0;34m\u001b[0m\u001b[0;34m\u001b[0m\u001b[0m\n",
      "\u001b[0;32m~/SPCAM/CBRAIN-CAM/notebooks/tbeucler_devlog/cbrain/model_diagnostics.py\u001b[0m in \u001b[0;36mget_inp_pred_truth\u001b[0;34m(self, itime)\u001b[0m\n\u001b[1;32m     86\u001b[0m     \u001b[0;32mdef\u001b[0m \u001b[0mget_inp_pred_truth\u001b[0m\u001b[0;34m(\u001b[0m\u001b[0mself\u001b[0m\u001b[0;34m,\u001b[0m\u001b[0mitime\u001b[0m\u001b[0;34m)\u001b[0m\u001b[0;34m:\u001b[0m\u001b[0;34m\u001b[0m\u001b[0;34m\u001b[0m\u001b[0m\n\u001b[1;32m     87\u001b[0m         \u001b[0;34m\"\"\" Gets input and prediction in normalized form \"\"\"\u001b[0m\u001b[0;34m\u001b[0m\u001b[0;34m\u001b[0m\u001b[0m\n\u001b[0;32m---> 88\u001b[0;31m         \u001b[0mX\u001b[0m\u001b[0;34m,\u001b[0m \u001b[0mtruth\u001b[0m \u001b[0;34m=\u001b[0m \u001b[0mself\u001b[0m\u001b[0;34m.\u001b[0m\u001b[0mvalid_gen\u001b[0m\u001b[0;34m[\u001b[0m\u001b[0mitime\u001b[0m\u001b[0;34m]\u001b[0m\u001b[0;34m\u001b[0m\u001b[0;34m\u001b[0m\u001b[0m\n\u001b[0m\u001b[1;32m     89\u001b[0m         \u001b[0mpred\u001b[0m \u001b[0;34m=\u001b[0m \u001b[0mself\u001b[0m\u001b[0;34m.\u001b[0m\u001b[0mmodel\u001b[0m\u001b[0;34m.\u001b[0m\u001b[0mpredict_on_batch\u001b[0m\u001b[0;34m(\u001b[0m\u001b[0mX\u001b[0m\u001b[0;34m)\u001b[0m\u001b[0;34m\u001b[0m\u001b[0;34m\u001b[0m\u001b[0m\n\u001b[1;32m     90\u001b[0m         \u001b[0;32mreturn\u001b[0m \u001b[0mX\u001b[0m\u001b[0;34m.\u001b[0m\u001b[0mvalues\u001b[0m\u001b[0;34m,\u001b[0m \u001b[0mpred\u001b[0m\u001b[0;34m,\u001b[0m \u001b[0mtruth\u001b[0m\u001b[0;34m.\u001b[0m\u001b[0mvalues\u001b[0m\u001b[0;34m\u001b[0m\u001b[0;34m\u001b[0m\u001b[0m\n",
      "\u001b[0;32m~/SPCAM/CBRAIN-CAM/notebooks/tbeucler_devlog/cbrain/data_generator.py\u001b[0m in \u001b[0;36m__getitem__\u001b[0;34m(self, index)\u001b[0m\n\u001b[1;32m     77\u001b[0m \u001b[0;34m\u001b[0m\u001b[0m\n\u001b[1;32m     78\u001b[0m         \u001b[0;31m# Normalize\u001b[0m\u001b[0;34m\u001b[0m\u001b[0;34m\u001b[0m\u001b[0;34m\u001b[0m\u001b[0m\n\u001b[0;32m---> 79\u001b[0;31m         \u001b[0mX\u001b[0m \u001b[0;34m=\u001b[0m \u001b[0mself\u001b[0m\u001b[0;34m.\u001b[0m\u001b[0minput_transform\u001b[0m\u001b[0;34m.\u001b[0m\u001b[0mtransform\u001b[0m\u001b[0;34m(\u001b[0m\u001b[0mX\u001b[0m\u001b[0;34m)\u001b[0m\u001b[0;34m\u001b[0m\u001b[0;34m\u001b[0m\u001b[0m\n\u001b[0m\u001b[1;32m     80\u001b[0m         \u001b[0mY\u001b[0m \u001b[0;34m=\u001b[0m \u001b[0mself\u001b[0m\u001b[0;34m.\u001b[0m\u001b[0moutput_transform\u001b[0m\u001b[0;34m.\u001b[0m\u001b[0mtransform\u001b[0m\u001b[0;34m(\u001b[0m\u001b[0mY\u001b[0m\u001b[0;34m)\u001b[0m\u001b[0;34m\u001b[0m\u001b[0;34m\u001b[0m\u001b[0m\n\u001b[1;32m     81\u001b[0m \u001b[0;34m\u001b[0m\u001b[0m\n",
      "\u001b[0;32m~/SPCAM/CBRAIN-CAM/notebooks/tbeucler_devlog/cbrain/normalization.py\u001b[0m in \u001b[0;36mtransform\u001b[0;34m(self, x)\u001b[0m\n\u001b[1;32m     77\u001b[0m \u001b[0;34m\u001b[0m\u001b[0m\n\u001b[1;32m     78\u001b[0m     \u001b[0;32mdef\u001b[0m \u001b[0mtransform\u001b[0m\u001b[0;34m(\u001b[0m\u001b[0mself\u001b[0m\u001b[0;34m,\u001b[0m \u001b[0mx\u001b[0m\u001b[0;34m)\u001b[0m\u001b[0;34m:\u001b[0m\u001b[0;34m\u001b[0m\u001b[0;34m\u001b[0m\u001b[0m\n\u001b[0;32m---> 79\u001b[0;31m         \u001b[0;32mreturn\u001b[0m \u001b[0;34m(\u001b[0m\u001b[0mx\u001b[0m \u001b[0;34m-\u001b[0m \u001b[0mself\u001b[0m\u001b[0;34m.\u001b[0m\u001b[0msub\u001b[0m\u001b[0;34m)\u001b[0m \u001b[0;34m/\u001b[0m \u001b[0mself\u001b[0m\u001b[0;34m.\u001b[0m\u001b[0mdiv\u001b[0m\u001b[0;34m\u001b[0m\u001b[0;34m\u001b[0m\u001b[0m\n\u001b[0m\u001b[1;32m     80\u001b[0m \u001b[0;34m\u001b[0m\u001b[0m\n\u001b[1;32m     81\u001b[0m     \u001b[0;32mdef\u001b[0m \u001b[0minverse_transform\u001b[0m\u001b[0;34m(\u001b[0m\u001b[0mself\u001b[0m\u001b[0;34m,\u001b[0m \u001b[0mx\u001b[0m\u001b[0;34m)\u001b[0m\u001b[0;34m:\u001b[0m\u001b[0;34m\u001b[0m\u001b[0;34m\u001b[0m\u001b[0m\n",
      "\u001b[0;32m~/miniconda3/lib/python3.7/site-packages/xarray/core/dataarray.py\u001b[0m in \u001b[0;36mfunc\u001b[0;34m(self, other)\u001b[0m\n\u001b[1;32m   2238\u001b[0m \u001b[0;34m\u001b[0m\u001b[0m\n\u001b[1;32m   2239\u001b[0m             variable = (f(self.variable, other_variable)\n\u001b[0;32m-> 2240\u001b[0;31m                         \u001b[0;32mif\u001b[0m \u001b[0;32mnot\u001b[0m \u001b[0mreflexive\u001b[0m\u001b[0;34m\u001b[0m\u001b[0;34m\u001b[0m\u001b[0m\n\u001b[0m\u001b[1;32m   2241\u001b[0m                         else f(other_variable, self.variable))\n\u001b[1;32m   2242\u001b[0m             \u001b[0mcoords\u001b[0m \u001b[0;34m=\u001b[0m \u001b[0mself\u001b[0m\u001b[0;34m.\u001b[0m\u001b[0mcoords\u001b[0m\u001b[0;34m.\u001b[0m\u001b[0m_merge_raw\u001b[0m\u001b[0;34m(\u001b[0m\u001b[0mother_coords\u001b[0m\u001b[0;34m)\u001b[0m\u001b[0;34m\u001b[0m\u001b[0;34m\u001b[0m\u001b[0m\n",
      "\u001b[0;32m~/miniconda3/lib/python3.7/site-packages/xarray/core/variable.py\u001b[0m in \u001b[0;36mfunc\u001b[0;34m(self, other)\u001b[0m\n\u001b[1;32m   1794\u001b[0m             \u001b[0;32mif\u001b[0m \u001b[0misinstance\u001b[0m\u001b[0;34m(\u001b[0m\u001b[0mother\u001b[0m\u001b[0;34m,\u001b[0m \u001b[0;34m(\u001b[0m\u001b[0mxr\u001b[0m\u001b[0;34m.\u001b[0m\u001b[0mDataArray\u001b[0m\u001b[0;34m,\u001b[0m \u001b[0mxr\u001b[0m\u001b[0;34m.\u001b[0m\u001b[0mDataset\u001b[0m\u001b[0;34m)\u001b[0m\u001b[0;34m)\u001b[0m\u001b[0;34m:\u001b[0m\u001b[0;34m\u001b[0m\u001b[0;34m\u001b[0m\u001b[0m\n\u001b[1;32m   1795\u001b[0m                 \u001b[0;32mreturn\u001b[0m \u001b[0mNotImplemented\u001b[0m\u001b[0;34m\u001b[0m\u001b[0;34m\u001b[0m\u001b[0m\n\u001b[0;32m-> 1796\u001b[0;31m             \u001b[0mself_data\u001b[0m\u001b[0;34m,\u001b[0m \u001b[0mother_data\u001b[0m\u001b[0;34m,\u001b[0m \u001b[0mdims\u001b[0m \u001b[0;34m=\u001b[0m \u001b[0m_broadcast_compat_data\u001b[0m\u001b[0;34m(\u001b[0m\u001b[0mself\u001b[0m\u001b[0;34m,\u001b[0m \u001b[0mother\u001b[0m\u001b[0;34m)\u001b[0m\u001b[0;34m\u001b[0m\u001b[0;34m\u001b[0m\u001b[0m\n\u001b[0m\u001b[1;32m   1797\u001b[0m             \u001b[0mkeep_attrs\u001b[0m \u001b[0;34m=\u001b[0m \u001b[0m_get_keep_attrs\u001b[0m\u001b[0;34m(\u001b[0m\u001b[0mdefault\u001b[0m\u001b[0;34m=\u001b[0m\u001b[0;32mFalse\u001b[0m\u001b[0;34m)\u001b[0m\u001b[0;34m\u001b[0m\u001b[0;34m\u001b[0m\u001b[0m\n\u001b[1;32m   1798\u001b[0m             \u001b[0mattrs\u001b[0m \u001b[0;34m=\u001b[0m \u001b[0mself\u001b[0m\u001b[0;34m.\u001b[0m\u001b[0m_attrs\u001b[0m \u001b[0;32mif\u001b[0m \u001b[0mkeep_attrs\u001b[0m \u001b[0;32melse\u001b[0m \u001b[0;32mNone\u001b[0m\u001b[0;34m\u001b[0m\u001b[0;34m\u001b[0m\u001b[0m\n",
      "\u001b[0;32m~/miniconda3/lib/python3.7/site-packages/xarray/core/variable.py\u001b[0m in \u001b[0;36m_broadcast_compat_data\u001b[0;34m(self, other)\u001b[0m\n\u001b[1;32m   2083\u001b[0m     \u001b[0;32melse\u001b[0m\u001b[0;34m:\u001b[0m\u001b[0;34m\u001b[0m\u001b[0;34m\u001b[0m\u001b[0m\n\u001b[1;32m   2084\u001b[0m         \u001b[0;31m# rely on numpy broadcasting rules\u001b[0m\u001b[0;34m\u001b[0m\u001b[0;34m\u001b[0m\u001b[0;34m\u001b[0m\u001b[0m\n\u001b[0;32m-> 2085\u001b[0;31m         \u001b[0mself_data\u001b[0m \u001b[0;34m=\u001b[0m \u001b[0mself\u001b[0m\u001b[0;34m.\u001b[0m\u001b[0mdata\u001b[0m\u001b[0;34m\u001b[0m\u001b[0;34m\u001b[0m\u001b[0m\n\u001b[0m\u001b[1;32m   2086\u001b[0m         \u001b[0mother_data\u001b[0m \u001b[0;34m=\u001b[0m \u001b[0mother\u001b[0m\u001b[0;34m\u001b[0m\u001b[0;34m\u001b[0m\u001b[0m\n\u001b[1;32m   2087\u001b[0m         \u001b[0mdims\u001b[0m \u001b[0;34m=\u001b[0m \u001b[0mself\u001b[0m\u001b[0;34m.\u001b[0m\u001b[0mdims\u001b[0m\u001b[0;34m\u001b[0m\u001b[0;34m\u001b[0m\u001b[0m\n",
      "\u001b[0;32m~/miniconda3/lib/python3.7/site-packages/xarray/core/variable.py\u001b[0m in \u001b[0;36mdata\u001b[0;34m(self)\u001b[0m\n\u001b[1;32m    292\u001b[0m             \u001b[0;32mreturn\u001b[0m \u001b[0mself\u001b[0m\u001b[0;34m.\u001b[0m\u001b[0m_data\u001b[0m\u001b[0;34m\u001b[0m\u001b[0;34m\u001b[0m\u001b[0m\n\u001b[1;32m    293\u001b[0m         \u001b[0;32melse\u001b[0m\u001b[0;34m:\u001b[0m\u001b[0;34m\u001b[0m\u001b[0;34m\u001b[0m\u001b[0m\n\u001b[0;32m--> 294\u001b[0;31m             \u001b[0;32mreturn\u001b[0m \u001b[0mself\u001b[0m\u001b[0;34m.\u001b[0m\u001b[0mvalues\u001b[0m\u001b[0;34m\u001b[0m\u001b[0;34m\u001b[0m\u001b[0m\n\u001b[0m\u001b[1;32m    295\u001b[0m \u001b[0;34m\u001b[0m\u001b[0m\n\u001b[1;32m    296\u001b[0m     \u001b[0;34m@\u001b[0m\u001b[0mdata\u001b[0m\u001b[0;34m.\u001b[0m\u001b[0msetter\u001b[0m\u001b[0;34m\u001b[0m\u001b[0;34m\u001b[0m\u001b[0m\n",
      "\u001b[0;32m~/miniconda3/lib/python3.7/site-packages/xarray/core/variable.py\u001b[0m in \u001b[0;36mvalues\u001b[0;34m(self)\u001b[0m\n\u001b[1;32m    387\u001b[0m     \u001b[0;32mdef\u001b[0m \u001b[0mvalues\u001b[0m\u001b[0;34m(\u001b[0m\u001b[0mself\u001b[0m\u001b[0;34m)\u001b[0m\u001b[0;34m:\u001b[0m\u001b[0;34m\u001b[0m\u001b[0;34m\u001b[0m\u001b[0m\n\u001b[1;32m    388\u001b[0m         \u001b[0;34m\"\"\"The variable's data as a numpy.ndarray\"\"\"\u001b[0m\u001b[0;34m\u001b[0m\u001b[0;34m\u001b[0m\u001b[0m\n\u001b[0;32m--> 389\u001b[0;31m         \u001b[0;32mreturn\u001b[0m \u001b[0m_as_array_or_item\u001b[0m\u001b[0;34m(\u001b[0m\u001b[0mself\u001b[0m\u001b[0;34m.\u001b[0m\u001b[0m_data\u001b[0m\u001b[0;34m)\u001b[0m\u001b[0;34m\u001b[0m\u001b[0;34m\u001b[0m\u001b[0m\n\u001b[0m\u001b[1;32m    390\u001b[0m \u001b[0;34m\u001b[0m\u001b[0m\n\u001b[1;32m    391\u001b[0m     \u001b[0;34m@\u001b[0m\u001b[0mvalues\u001b[0m\u001b[0;34m.\u001b[0m\u001b[0msetter\u001b[0m\u001b[0;34m\u001b[0m\u001b[0;34m\u001b[0m\u001b[0m\n",
      "\u001b[0;32m~/miniconda3/lib/python3.7/site-packages/xarray/core/variable.py\u001b[0m in \u001b[0;36m_as_array_or_item\u001b[0;34m(data)\u001b[0m\n\u001b[1;32m    208\u001b[0m     \u001b[0mTODO\u001b[0m\u001b[0;34m:\u001b[0m \u001b[0mremove\u001b[0m \u001b[0mthis\u001b[0m \u001b[0;34m(\u001b[0m\u001b[0mreplace\u001b[0m \u001b[0;32mwith\u001b[0m \u001b[0mnp\u001b[0m\u001b[0;34m.\u001b[0m\u001b[0masarray\u001b[0m\u001b[0;34m)\u001b[0m \u001b[0monce\u001b[0m \u001b[0mthese\u001b[0m \u001b[0missues\u001b[0m \u001b[0mare\u001b[0m \u001b[0mfixed\u001b[0m\u001b[0;34m\u001b[0m\u001b[0;34m\u001b[0m\u001b[0m\n\u001b[1;32m    209\u001b[0m     \"\"\"\n\u001b[0;32m--> 210\u001b[0;31m     \u001b[0mdata\u001b[0m \u001b[0;34m=\u001b[0m \u001b[0mnp\u001b[0m\u001b[0;34m.\u001b[0m\u001b[0masarray\u001b[0m\u001b[0;34m(\u001b[0m\u001b[0mdata\u001b[0m\u001b[0;34m)\u001b[0m\u001b[0;34m\u001b[0m\u001b[0;34m\u001b[0m\u001b[0m\n\u001b[0m\u001b[1;32m    211\u001b[0m     \u001b[0;32mif\u001b[0m \u001b[0mdata\u001b[0m\u001b[0;34m.\u001b[0m\u001b[0mndim\u001b[0m \u001b[0;34m==\u001b[0m \u001b[0;36m0\u001b[0m\u001b[0;34m:\u001b[0m\u001b[0;34m\u001b[0m\u001b[0;34m\u001b[0m\u001b[0m\n\u001b[1;32m    212\u001b[0m         \u001b[0;32mif\u001b[0m \u001b[0mdata\u001b[0m\u001b[0;34m.\u001b[0m\u001b[0mdtype\u001b[0m\u001b[0;34m.\u001b[0m\u001b[0mkind\u001b[0m \u001b[0;34m==\u001b[0m \u001b[0;34m'M'\u001b[0m\u001b[0;34m:\u001b[0m\u001b[0;34m\u001b[0m\u001b[0;34m\u001b[0m\u001b[0m\n",
      "\u001b[0;32m~/miniconda3/lib/python3.7/site-packages/numpy/core/_asarray.py\u001b[0m in \u001b[0;36masarray\u001b[0;34m(a, dtype, order)\u001b[0m\n\u001b[1;32m     83\u001b[0m \u001b[0;34m\u001b[0m\u001b[0m\n\u001b[1;32m     84\u001b[0m     \"\"\"\n\u001b[0;32m---> 85\u001b[0;31m     \u001b[0;32mreturn\u001b[0m \u001b[0marray\u001b[0m\u001b[0;34m(\u001b[0m\u001b[0ma\u001b[0m\u001b[0;34m,\u001b[0m \u001b[0mdtype\u001b[0m\u001b[0;34m,\u001b[0m \u001b[0mcopy\u001b[0m\u001b[0;34m=\u001b[0m\u001b[0;32mFalse\u001b[0m\u001b[0;34m,\u001b[0m \u001b[0morder\u001b[0m\u001b[0;34m=\u001b[0m\u001b[0morder\u001b[0m\u001b[0;34m)\u001b[0m\u001b[0;34m\u001b[0m\u001b[0;34m\u001b[0m\u001b[0m\n\u001b[0m\u001b[1;32m     86\u001b[0m \u001b[0;34m\u001b[0m\u001b[0m\n\u001b[1;32m     87\u001b[0m \u001b[0;34m\u001b[0m\u001b[0m\n",
      "\u001b[0;32m~/miniconda3/lib/python3.7/site-packages/xarray/core/indexing.py\u001b[0m in \u001b[0;36m__array__\u001b[0;34m(self, dtype)\u001b[0m\n\u001b[1;32m    630\u001b[0m \u001b[0;34m\u001b[0m\u001b[0m\n\u001b[1;32m    631\u001b[0m     \u001b[0;32mdef\u001b[0m \u001b[0m__array__\u001b[0m\u001b[0;34m(\u001b[0m\u001b[0mself\u001b[0m\u001b[0;34m,\u001b[0m \u001b[0mdtype\u001b[0m\u001b[0;34m=\u001b[0m\u001b[0;32mNone\u001b[0m\u001b[0;34m)\u001b[0m\u001b[0;34m:\u001b[0m\u001b[0;34m\u001b[0m\u001b[0;34m\u001b[0m\u001b[0m\n\u001b[0;32m--> 632\u001b[0;31m         \u001b[0mself\u001b[0m\u001b[0;34m.\u001b[0m\u001b[0m_ensure_cached\u001b[0m\u001b[0;34m(\u001b[0m\u001b[0;34m)\u001b[0m\u001b[0;34m\u001b[0m\u001b[0;34m\u001b[0m\u001b[0m\n\u001b[0m\u001b[1;32m    633\u001b[0m         \u001b[0;32mreturn\u001b[0m \u001b[0mnp\u001b[0m\u001b[0;34m.\u001b[0m\u001b[0masarray\u001b[0m\u001b[0;34m(\u001b[0m\u001b[0mself\u001b[0m\u001b[0;34m.\u001b[0m\u001b[0marray\u001b[0m\u001b[0;34m,\u001b[0m \u001b[0mdtype\u001b[0m\u001b[0;34m=\u001b[0m\u001b[0mdtype\u001b[0m\u001b[0;34m)\u001b[0m\u001b[0;34m\u001b[0m\u001b[0;34m\u001b[0m\u001b[0m\n\u001b[1;32m    634\u001b[0m \u001b[0;34m\u001b[0m\u001b[0m\n",
      "\u001b[0;32m~/miniconda3/lib/python3.7/site-packages/xarray/core/indexing.py\u001b[0m in \u001b[0;36m_ensure_cached\u001b[0;34m(self)\u001b[0m\n\u001b[1;32m    627\u001b[0m     \u001b[0;32mdef\u001b[0m \u001b[0m_ensure_cached\u001b[0m\u001b[0;34m(\u001b[0m\u001b[0mself\u001b[0m\u001b[0;34m)\u001b[0m\u001b[0;34m:\u001b[0m\u001b[0;34m\u001b[0m\u001b[0;34m\u001b[0m\u001b[0m\n\u001b[1;32m    628\u001b[0m         \u001b[0;32mif\u001b[0m \u001b[0;32mnot\u001b[0m \u001b[0misinstance\u001b[0m\u001b[0;34m(\u001b[0m\u001b[0mself\u001b[0m\u001b[0;34m.\u001b[0m\u001b[0marray\u001b[0m\u001b[0;34m,\u001b[0m \u001b[0mNumpyIndexingAdapter\u001b[0m\u001b[0;34m)\u001b[0m\u001b[0;34m:\u001b[0m\u001b[0;34m\u001b[0m\u001b[0;34m\u001b[0m\u001b[0m\n\u001b[0;32m--> 629\u001b[0;31m             \u001b[0mself\u001b[0m\u001b[0;34m.\u001b[0m\u001b[0marray\u001b[0m \u001b[0;34m=\u001b[0m \u001b[0mNumpyIndexingAdapter\u001b[0m\u001b[0;34m(\u001b[0m\u001b[0mnp\u001b[0m\u001b[0;34m.\u001b[0m\u001b[0masarray\u001b[0m\u001b[0;34m(\u001b[0m\u001b[0mself\u001b[0m\u001b[0;34m.\u001b[0m\u001b[0marray\u001b[0m\u001b[0;34m)\u001b[0m\u001b[0;34m)\u001b[0m\u001b[0;34m\u001b[0m\u001b[0;34m\u001b[0m\u001b[0m\n\u001b[0m\u001b[1;32m    630\u001b[0m \u001b[0;34m\u001b[0m\u001b[0m\n\u001b[1;32m    631\u001b[0m     \u001b[0;32mdef\u001b[0m \u001b[0m__array__\u001b[0m\u001b[0;34m(\u001b[0m\u001b[0mself\u001b[0m\u001b[0;34m,\u001b[0m \u001b[0mdtype\u001b[0m\u001b[0;34m=\u001b[0m\u001b[0;32mNone\u001b[0m\u001b[0;34m)\u001b[0m\u001b[0;34m:\u001b[0m\u001b[0;34m\u001b[0m\u001b[0;34m\u001b[0m\u001b[0m\n",
      "\u001b[0;32m~/miniconda3/lib/python3.7/site-packages/numpy/core/_asarray.py\u001b[0m in \u001b[0;36masarray\u001b[0;34m(a, dtype, order)\u001b[0m\n\u001b[1;32m     83\u001b[0m \u001b[0;34m\u001b[0m\u001b[0m\n\u001b[1;32m     84\u001b[0m     \"\"\"\n\u001b[0;32m---> 85\u001b[0;31m     \u001b[0;32mreturn\u001b[0m \u001b[0marray\u001b[0m\u001b[0;34m(\u001b[0m\u001b[0ma\u001b[0m\u001b[0;34m,\u001b[0m \u001b[0mdtype\u001b[0m\u001b[0;34m,\u001b[0m \u001b[0mcopy\u001b[0m\u001b[0;34m=\u001b[0m\u001b[0;32mFalse\u001b[0m\u001b[0;34m,\u001b[0m \u001b[0morder\u001b[0m\u001b[0;34m=\u001b[0m\u001b[0morder\u001b[0m\u001b[0;34m)\u001b[0m\u001b[0;34m\u001b[0m\u001b[0;34m\u001b[0m\u001b[0m\n\u001b[0m\u001b[1;32m     86\u001b[0m \u001b[0;34m\u001b[0m\u001b[0m\n\u001b[1;32m     87\u001b[0m \u001b[0;34m\u001b[0m\u001b[0m\n",
      "\u001b[0;32m~/miniconda3/lib/python3.7/site-packages/xarray/core/indexing.py\u001b[0m in \u001b[0;36m__array__\u001b[0;34m(self, dtype)\u001b[0m\n\u001b[1;32m    608\u001b[0m \u001b[0;34m\u001b[0m\u001b[0m\n\u001b[1;32m    609\u001b[0m     \u001b[0;32mdef\u001b[0m \u001b[0m__array__\u001b[0m\u001b[0;34m(\u001b[0m\u001b[0mself\u001b[0m\u001b[0;34m,\u001b[0m \u001b[0mdtype\u001b[0m\u001b[0;34m=\u001b[0m\u001b[0;32mNone\u001b[0m\u001b[0;34m)\u001b[0m\u001b[0;34m:\u001b[0m\u001b[0;34m\u001b[0m\u001b[0;34m\u001b[0m\u001b[0m\n\u001b[0;32m--> 610\u001b[0;31m         \u001b[0;32mreturn\u001b[0m \u001b[0mnp\u001b[0m\u001b[0;34m.\u001b[0m\u001b[0masarray\u001b[0m\u001b[0;34m(\u001b[0m\u001b[0mself\u001b[0m\u001b[0;34m.\u001b[0m\u001b[0marray\u001b[0m\u001b[0;34m,\u001b[0m \u001b[0mdtype\u001b[0m\u001b[0;34m=\u001b[0m\u001b[0mdtype\u001b[0m\u001b[0;34m)\u001b[0m\u001b[0;34m\u001b[0m\u001b[0;34m\u001b[0m\u001b[0m\n\u001b[0m\u001b[1;32m    611\u001b[0m \u001b[0;34m\u001b[0m\u001b[0m\n\u001b[1;32m    612\u001b[0m     \u001b[0;32mdef\u001b[0m \u001b[0m__getitem__\u001b[0m\u001b[0;34m(\u001b[0m\u001b[0mself\u001b[0m\u001b[0;34m,\u001b[0m \u001b[0mkey\u001b[0m\u001b[0;34m)\u001b[0m\u001b[0;34m:\u001b[0m\u001b[0;34m\u001b[0m\u001b[0;34m\u001b[0m\u001b[0m\n",
      "\u001b[0;32m~/miniconda3/lib/python3.7/site-packages/numpy/core/_asarray.py\u001b[0m in \u001b[0;36masarray\u001b[0;34m(a, dtype, order)\u001b[0m\n\u001b[1;32m     83\u001b[0m \u001b[0;34m\u001b[0m\u001b[0m\n\u001b[1;32m     84\u001b[0m     \"\"\"\n\u001b[0;32m---> 85\u001b[0;31m     \u001b[0;32mreturn\u001b[0m \u001b[0marray\u001b[0m\u001b[0;34m(\u001b[0m\u001b[0ma\u001b[0m\u001b[0;34m,\u001b[0m \u001b[0mdtype\u001b[0m\u001b[0;34m,\u001b[0m \u001b[0mcopy\u001b[0m\u001b[0;34m=\u001b[0m\u001b[0;32mFalse\u001b[0m\u001b[0;34m,\u001b[0m \u001b[0morder\u001b[0m\u001b[0;34m=\u001b[0m\u001b[0morder\u001b[0m\u001b[0;34m)\u001b[0m\u001b[0;34m\u001b[0m\u001b[0;34m\u001b[0m\u001b[0m\n\u001b[0m\u001b[1;32m     86\u001b[0m \u001b[0;34m\u001b[0m\u001b[0m\n\u001b[1;32m     87\u001b[0m \u001b[0;34m\u001b[0m\u001b[0m\n",
      "\u001b[0;32m~/miniconda3/lib/python3.7/site-packages/xarray/core/indexing.py\u001b[0m in \u001b[0;36m__array__\u001b[0;34m(self, dtype)\u001b[0m\n\u001b[1;32m    514\u001b[0m     \u001b[0;32mdef\u001b[0m \u001b[0m__array__\u001b[0m\u001b[0;34m(\u001b[0m\u001b[0mself\u001b[0m\u001b[0;34m,\u001b[0m \u001b[0mdtype\u001b[0m\u001b[0;34m=\u001b[0m\u001b[0;32mNone\u001b[0m\u001b[0;34m)\u001b[0m\u001b[0;34m:\u001b[0m\u001b[0;34m\u001b[0m\u001b[0;34m\u001b[0m\u001b[0m\n\u001b[1;32m    515\u001b[0m         \u001b[0marray\u001b[0m \u001b[0;34m=\u001b[0m \u001b[0mas_indexable\u001b[0m\u001b[0;34m(\u001b[0m\u001b[0mself\u001b[0m\u001b[0;34m.\u001b[0m\u001b[0marray\u001b[0m\u001b[0;34m)\u001b[0m\u001b[0;34m\u001b[0m\u001b[0;34m\u001b[0m\u001b[0m\n\u001b[0;32m--> 516\u001b[0;31m         \u001b[0;32mreturn\u001b[0m \u001b[0mnp\u001b[0m\u001b[0;34m.\u001b[0m\u001b[0masarray\u001b[0m\u001b[0;34m(\u001b[0m\u001b[0marray\u001b[0m\u001b[0;34m[\u001b[0m\u001b[0mself\u001b[0m\u001b[0;34m.\u001b[0m\u001b[0mkey\u001b[0m\u001b[0;34m]\u001b[0m\u001b[0;34m,\u001b[0m \u001b[0mdtype\u001b[0m\u001b[0;34m=\u001b[0m\u001b[0;32mNone\u001b[0m\u001b[0;34m)\u001b[0m\u001b[0;34m\u001b[0m\u001b[0;34m\u001b[0m\u001b[0m\n\u001b[0m\u001b[1;32m    517\u001b[0m \u001b[0;34m\u001b[0m\u001b[0m\n\u001b[1;32m    518\u001b[0m     \u001b[0;32mdef\u001b[0m \u001b[0mtranspose\u001b[0m\u001b[0;34m(\u001b[0m\u001b[0mself\u001b[0m\u001b[0;34m,\u001b[0m \u001b[0morder\u001b[0m\u001b[0;34m)\u001b[0m\u001b[0;34m:\u001b[0m\u001b[0;34m\u001b[0m\u001b[0;34m\u001b[0m\u001b[0m\n",
      "\u001b[0;32m~/miniconda3/lib/python3.7/site-packages/xarray/backends/netCDF4_.py\u001b[0m in \u001b[0;36m__getitem__\u001b[0;34m(self, key)\u001b[0m\n\u001b[1;32m     68\u001b[0m         return indexing.explicit_indexing_adapter(\n\u001b[1;32m     69\u001b[0m             \u001b[0mkey\u001b[0m\u001b[0;34m,\u001b[0m \u001b[0mself\u001b[0m\u001b[0;34m.\u001b[0m\u001b[0mshape\u001b[0m\u001b[0;34m,\u001b[0m \u001b[0mindexing\u001b[0m\u001b[0;34m.\u001b[0m\u001b[0mIndexingSupport\u001b[0m\u001b[0;34m.\u001b[0m\u001b[0mOUTER\u001b[0m\u001b[0;34m,\u001b[0m\u001b[0;34m\u001b[0m\u001b[0;34m\u001b[0m\u001b[0m\n\u001b[0;32m---> 70\u001b[0;31m             self._getitem)\n\u001b[0m\u001b[1;32m     71\u001b[0m \u001b[0;34m\u001b[0m\u001b[0m\n\u001b[1;32m     72\u001b[0m     \u001b[0;32mdef\u001b[0m \u001b[0m_getitem\u001b[0m\u001b[0;34m(\u001b[0m\u001b[0mself\u001b[0m\u001b[0;34m,\u001b[0m \u001b[0mkey\u001b[0m\u001b[0;34m)\u001b[0m\u001b[0;34m:\u001b[0m\u001b[0;34m\u001b[0m\u001b[0;34m\u001b[0m\u001b[0m\n",
      "\u001b[0;32m~/miniconda3/lib/python3.7/site-packages/xarray/core/indexing.py\u001b[0m in \u001b[0;36mexplicit_indexing_adapter\u001b[0;34m(key, shape, indexing_support, raw_indexing_method)\u001b[0m\n\u001b[1;32m    782\u001b[0m     \"\"\"\n\u001b[1;32m    783\u001b[0m     \u001b[0mraw_key\u001b[0m\u001b[0;34m,\u001b[0m \u001b[0mnumpy_indices\u001b[0m \u001b[0;34m=\u001b[0m \u001b[0mdecompose_indexer\u001b[0m\u001b[0;34m(\u001b[0m\u001b[0mkey\u001b[0m\u001b[0;34m,\u001b[0m \u001b[0mshape\u001b[0m\u001b[0;34m,\u001b[0m \u001b[0mindexing_support\u001b[0m\u001b[0;34m)\u001b[0m\u001b[0;34m\u001b[0m\u001b[0;34m\u001b[0m\u001b[0m\n\u001b[0;32m--> 784\u001b[0;31m     \u001b[0mresult\u001b[0m \u001b[0;34m=\u001b[0m \u001b[0mraw_indexing_method\u001b[0m\u001b[0;34m(\u001b[0m\u001b[0mraw_key\u001b[0m\u001b[0;34m.\u001b[0m\u001b[0mtuple\u001b[0m\u001b[0;34m)\u001b[0m\u001b[0;34m\u001b[0m\u001b[0;34m\u001b[0m\u001b[0m\n\u001b[0m\u001b[1;32m    785\u001b[0m     \u001b[0;32mif\u001b[0m \u001b[0mnumpy_indices\u001b[0m\u001b[0;34m.\u001b[0m\u001b[0mtuple\u001b[0m\u001b[0;34m:\u001b[0m\u001b[0;34m\u001b[0m\u001b[0;34m\u001b[0m\u001b[0m\n\u001b[1;32m    786\u001b[0m         \u001b[0;31m# index the loaded np.ndarray\u001b[0m\u001b[0;34m\u001b[0m\u001b[0;34m\u001b[0m\u001b[0;34m\u001b[0m\u001b[0m\n",
      "\u001b[0;32m~/miniconda3/lib/python3.7/site-packages/xarray/backends/netCDF4_.py\u001b[0m in \u001b[0;36m_getitem\u001b[0;34m(self, key)\u001b[0m\n\u001b[1;32m     79\u001b[0m             \u001b[0;32mwith\u001b[0m \u001b[0mself\u001b[0m\u001b[0;34m.\u001b[0m\u001b[0mdatastore\u001b[0m\u001b[0;34m.\u001b[0m\u001b[0mlock\u001b[0m\u001b[0;34m:\u001b[0m\u001b[0;34m\u001b[0m\u001b[0;34m\u001b[0m\u001b[0m\n\u001b[1;32m     80\u001b[0m                 \u001b[0moriginal_array\u001b[0m \u001b[0;34m=\u001b[0m \u001b[0mself\u001b[0m\u001b[0;34m.\u001b[0m\u001b[0mget_array\u001b[0m\u001b[0;34m(\u001b[0m\u001b[0mneeds_lock\u001b[0m\u001b[0;34m=\u001b[0m\u001b[0;32mFalse\u001b[0m\u001b[0;34m)\u001b[0m\u001b[0;34m\u001b[0m\u001b[0;34m\u001b[0m\u001b[0m\n\u001b[0;32m---> 81\u001b[0;31m                 \u001b[0marray\u001b[0m \u001b[0;34m=\u001b[0m \u001b[0mgetitem\u001b[0m\u001b[0;34m(\u001b[0m\u001b[0moriginal_array\u001b[0m\u001b[0;34m,\u001b[0m \u001b[0mkey\u001b[0m\u001b[0;34m)\u001b[0m\u001b[0;34m\u001b[0m\u001b[0;34m\u001b[0m\u001b[0m\n\u001b[0m\u001b[1;32m     82\u001b[0m         \u001b[0;32mexcept\u001b[0m \u001b[0mIndexError\u001b[0m\u001b[0;34m:\u001b[0m\u001b[0;34m\u001b[0m\u001b[0;34m\u001b[0m\u001b[0m\n\u001b[1;32m     83\u001b[0m             \u001b[0;31m# Catch IndexError in netCDF4 and return a more informative\u001b[0m\u001b[0;34m\u001b[0m\u001b[0;34m\u001b[0m\u001b[0;34m\u001b[0m\u001b[0m\n",
      "\u001b[0;31mKeyboardInterrupt\u001b[0m: "
     ]
    }
   ],
   "source": [
    "lat_ind = np.arange(0,64)\n",
    "iini = 200 # Initial time to sample\n",
    "iend = iini+5 # One day later\n",
    "\n",
    "diagno = {} # Diagnostics structure\n",
    "SE = {} # Squared error structure\n",
    "RES = {} # Residual structure\n",
    "diagno['truth'] = {} # Diagnostics structure for the truth\n",
    "for i,NNs in enumerate(NNarray):\n",
    "    print('i=',i,'& NNs=',NNs,'         ')\n",
    "    diagno[NNs] = {} # Diagnostics structure for each NN\n",
    "    SE[NNs] = {} # Squared error for each NN\n",
    "    for j,data in enumerate(data_file):\n",
    "        diagno[NNs][data[13:-3]] = {} # Diagnostics structure for each data file\n",
    "        if i==0: diagno['truth'][data[13:-3]] = {}\n",
    "        print('j=',j,'& data=',data,'         ',end='\\r')\n",
    "        for itime in tqdm(np.arange(iini,iend)):\n",
    "            # Get input, prediction and truth from NN\n",
    "            inp, p, truth = md[NNs][data[13:-3]].get_inp_pred_truth(itime)  # [lat, lon, var, lev]\n",
    "            # Get convective heating and moistening for each NN\n",
    "            if itime==iini:\n",
    "                if i==0:\n",
    "                    diagno['truth'][data[13:-3]] = md[NNs][data[13:-3]].reshape_ngeo(truth)[lat_ind,:,:,np.newaxis]\n",
    "                diagno[NNs][data[13:-3]] = md[NNs][data[13:-3]].reshape_ngeo(p)[lat_ind,:,:,np.newaxis]\n",
    "                SE[NNs][data[13:-3]] = np.mean((diagno['truth'][data[13:-3]]-\\\n",
    "                                                diagno[NNs][data[13:-3]])**2,axis=(1,2,3))[:,np.newaxis]\n",
    "            else:\n",
    "                if i==0:\n",
    "                    diagno['truth'][data[13:-3]] = np.concatenate((diagno['truth'][data[13:-3]],\n",
    "                                                                  md[NNs][data[13:-3]].\\\n",
    "                                                                  reshape_ngeo(truth)[lat_ind,:,:,np.newaxis]),\n",
    "                                                                 axis=3)\n",
    "                diagno[NNs][data[13:-3]] = np.concatenate((diagno[NNs][data[13:-3]],\n",
    "                                                           md[NNs][data[13:-3]].\\\n",
    "                                                           reshape_ngeo(p)[lat_ind,:,:,np.newaxis]),\n",
    "                                                          axis=3)\n",
    "                SE[NNs][data[13:-3]] = np.concatenate((SE[NNs][data[13:-3]],\n",
    "                                                       np.mean((diagno['truth'][data[13:-3]][:,:,:,:(itime-iini+1)]-\\\n",
    "                                                                diagno[NNs][data[13:-3]])**2,\n",
    "                                                               axis=(1,2,3))[:,np.newaxis]),\n",
    "                                                      axis=1)"
   ]
  },
  {
   "cell_type": "code",
   "execution_count": null,
   "metadata": {},
   "outputs": [],
   "source": []
  },
  {
   "cell_type": "code",
   "execution_count": 31,
   "metadata": {},
   "outputs": [
    {
     "name": "stderr",
     "output_type": "stream",
     "text": [
      "/home/t/Tom.Beucler/miniconda3/lib/python3.7/site-packages/xarray/backends/api.py:783: FutureWarning: In xarray version 0.13 `auto_combine` will be deprecated.\n",
      "  coords=coords)\n",
      "/home/t/Tom.Beucler/miniconda3/lib/python3.7/site-packages/xarray/backends/api.py:783: FutureWarning: The datasets supplied have global dimension coordinates. You may want\n",
      "to use the new `combine_by_coords` function (or the\n",
      "`combine='by_coords'` option to `open_mfdataset` to order the datasets\n",
      "before concatenation. Alternatively, to continue concatenating based\n",
      "on the order the datasets are supplied in in future, please use the\n",
      "new `combine_nested` function (or the `combine='nested'` option to\n",
      "open_mfdataset).\n",
      "  coords=coords)\n"
     ]
    }
   ],
   "source": [
    "coor = xr.open_mfdataset(\"/project/meteo/w2w/A6/S.Rasp/SP-CAM/fluxbypass_aqua/AndKua_aqua_SPCAM3.0_sp_fbp_f4.cam2.h1.0000-03-01-00000.nc\",\\\n",
    "                         decode_times=False)"
   ]
  },
  {
   "cell_type": "code",
   "execution_count": 72,
   "metadata": {},
   "outputs": [
    {
     "ename": "ValueError",
     "evalue": "x and y must have same first dimension, but have shapes (0,) and (30,)",
     "output_type": "error",
     "traceback": [
      "\u001b[0;31m---------------------------------------------------------------------------\u001b[0m",
      "\u001b[0;31mValueError\u001b[0m                                Traceback (most recent call last)",
      "\u001b[0;32m~/miniconda3/lib/python3.7/site-packages/tensorflow/python/keras/api/_v1/keras/models/__init__.py\u001b[0m in \u001b[0;36m<module>\u001b[0;34m\u001b[0m\n\u001b[0;32m----> 1\u001b[0;31m \u001b[0mplt\u001b[0m\u001b[0;34m.\u001b[0m\u001b[0mplot\u001b[0m\u001b[0;34m(\u001b[0m\u001b[0mnp\u001b[0m\u001b[0;34m.\u001b[0m\u001b[0mmean\u001b[0m\u001b[0;34m(\u001b[0m\u001b[0mdiagno\u001b[0m\u001b[0;34m[\u001b[0m\u001b[0;34m'truth'\u001b[0m\u001b[0;34m]\u001b[0m\u001b[0;34m[\u001b[0m\u001b[0;34m'valid'\u001b[0m\u001b[0;34m]\u001b[0m\u001b[0;34m[\u001b[0m\u001b[0;36m90\u001b[0m\u001b[0;34m:\u001b[0m\u001b[0;36m120\u001b[0m\u001b[0;34m,\u001b[0m\u001b[0;34m:\u001b[0m\u001b[0;34m,\u001b[0m\u001b[0;34m:\u001b[0m\u001b[0;34m,\u001b[0m\u001b[0;34m:\u001b[0m\u001b[0;34m]\u001b[0m\u001b[0;34m,\u001b[0m\u001b[0maxis\u001b[0m\u001b[0;34m=\u001b[0m\u001b[0;34m(\u001b[0m\u001b[0;36m1\u001b[0m\u001b[0;34m,\u001b[0m\u001b[0;36m2\u001b[0m\u001b[0;34m,\u001b[0m\u001b[0;36m3\u001b[0m\u001b[0;34m)\u001b[0m\u001b[0;34m)\u001b[0m\u001b[0;34m,\u001b[0m\u001b[0mcoor\u001b[0m\u001b[0;34m.\u001b[0m\u001b[0mlev\u001b[0m\u001b[0;34m,\u001b[0m\u001b[0mcolor\u001b[0m\u001b[0;34m=\u001b[0m\u001b[0;34m'k'\u001b[0m\u001b[0;34m,\u001b[0m\u001b[0mlabel\u001b[0m\u001b[0;34m=\u001b[0m\u001b[0;34m'truth'\u001b[0m\u001b[0;34m)\u001b[0m\u001b[0;34m\u001b[0m\u001b[0;34m\u001b[0m\u001b[0m\n\u001b[0m\u001b[1;32m      2\u001b[0m \u001b[0;32mfor\u001b[0m \u001b[0mi\u001b[0m\u001b[0;34m,\u001b[0m\u001b[0mNNs\u001b[0m \u001b[0;32min\u001b[0m \u001b[0menumerate\u001b[0m\u001b[0;34m(\u001b[0m\u001b[0mNNarray\u001b[0m\u001b[0;34m)\u001b[0m\u001b[0;34m:\u001b[0m\u001b[0;34m\u001b[0m\u001b[0;34m\u001b[0m\u001b[0m\n\u001b[1;32m      3\u001b[0m     \u001b[0mplt\u001b[0m\u001b[0;34m.\u001b[0m\u001b[0mplot\u001b[0m\u001b[0;34m(\u001b[0m\u001b[0mnp\u001b[0m\u001b[0;34m.\u001b[0m\u001b[0mmean\u001b[0m\u001b[0;34m(\u001b[0m\u001b[0mdiagno\u001b[0m\u001b[0;34m[\u001b[0m\u001b[0mNNs\u001b[0m\u001b[0;34m]\u001b[0m\u001b[0;34m[\u001b[0m\u001b[0;34m'valid'\u001b[0m\u001b[0;34m]\u001b[0m\u001b[0;34m[\u001b[0m\u001b[0;36m90\u001b[0m\u001b[0;34m:\u001b[0m\u001b[0;36m120\u001b[0m\u001b[0;34m,\u001b[0m\u001b[0;34m:\u001b[0m\u001b[0;34m,\u001b[0m\u001b[0;34m:\u001b[0m\u001b[0;34m,\u001b[0m\u001b[0;34m:\u001b[0m\u001b[0;34m]\u001b[0m\u001b[0;34m,\u001b[0m\u001b[0maxis\u001b[0m\u001b[0;34m=\u001b[0m\u001b[0;34m(\u001b[0m\u001b[0;36m1\u001b[0m\u001b[0;34m,\u001b[0m\u001b[0;36m2\u001b[0m\u001b[0;34m,\u001b[0m\u001b[0;36m3\u001b[0m\u001b[0;34m)\u001b[0m\u001b[0;34m)\u001b[0m\u001b[0;34m,\u001b[0m\u001b[0mcoor\u001b[0m\u001b[0;34m.\u001b[0m\u001b[0mlev\u001b[0m\u001b[0;34m,\u001b[0m\u001b[0mlabel\u001b[0m\u001b[0;34m=\u001b[0m\u001b[0mNNname\u001b[0m\u001b[0;34m[\u001b[0m\u001b[0mi\u001b[0m\u001b[0;34m]\u001b[0m\u001b[0;34m)\u001b[0m\u001b[0;34m\u001b[0m\u001b[0;34m\u001b[0m\u001b[0m\n\u001b[1;32m      4\u001b[0m \u001b[0mplt\u001b[0m\u001b[0;34m.\u001b[0m\u001b[0mgca\u001b[0m\u001b[0;34m(\u001b[0m\u001b[0;34m)\u001b[0m\u001b[0;34m.\u001b[0m\u001b[0minvert_yaxis\u001b[0m\u001b[0;34m(\u001b[0m\u001b[0;34m)\u001b[0m\u001b[0;34m\u001b[0m\u001b[0;34m\u001b[0m\u001b[0m\n\u001b[1;32m      5\u001b[0m \u001b[0mplt\u001b[0m\u001b[0;34m.\u001b[0m\u001b[0mlegend\u001b[0m\u001b[0;34m(\u001b[0m\u001b[0;34m)\u001b[0m\u001b[0;34m\u001b[0m\u001b[0;34m\u001b[0m\u001b[0m\n",
      "\u001b[0;32m~/miniconda3/lib/python3.7/site-packages/matplotlib/pyplot.py\u001b[0m in \u001b[0;36mplot\u001b[0;34m(scalex, scaley, data, *args, **kwargs)\u001b[0m\n\u001b[1;32m   2793\u001b[0m     return gca().plot(\n\u001b[1;32m   2794\u001b[0m         *args, scalex=scalex, scaley=scaley, **({\"data\": data} if data\n\u001b[0;32m-> 2795\u001b[0;31m         is not None else {}), **kwargs)\n\u001b[0m\u001b[1;32m   2796\u001b[0m \u001b[0;34m\u001b[0m\u001b[0m\n\u001b[1;32m   2797\u001b[0m \u001b[0;34m\u001b[0m\u001b[0m\n",
      "\u001b[0;32m~/miniconda3/lib/python3.7/site-packages/matplotlib/axes/_axes.py\u001b[0m in \u001b[0;36mplot\u001b[0;34m(self, scalex, scaley, data, *args, **kwargs)\u001b[0m\n\u001b[1;32m   1664\u001b[0m         \"\"\"\n\u001b[1;32m   1665\u001b[0m         \u001b[0mkwargs\u001b[0m \u001b[0;34m=\u001b[0m \u001b[0mcbook\u001b[0m\u001b[0;34m.\u001b[0m\u001b[0mnormalize_kwargs\u001b[0m\u001b[0;34m(\u001b[0m\u001b[0mkwargs\u001b[0m\u001b[0;34m,\u001b[0m \u001b[0mmlines\u001b[0m\u001b[0;34m.\u001b[0m\u001b[0mLine2D\u001b[0m\u001b[0;34m.\u001b[0m\u001b[0m_alias_map\u001b[0m\u001b[0;34m)\u001b[0m\u001b[0;34m\u001b[0m\u001b[0;34m\u001b[0m\u001b[0m\n\u001b[0;32m-> 1666\u001b[0;31m         \u001b[0mlines\u001b[0m \u001b[0;34m=\u001b[0m \u001b[0;34m[\u001b[0m\u001b[0;34m*\u001b[0m\u001b[0mself\u001b[0m\u001b[0;34m.\u001b[0m\u001b[0m_get_lines\u001b[0m\u001b[0;34m(\u001b[0m\u001b[0;34m*\u001b[0m\u001b[0margs\u001b[0m\u001b[0;34m,\u001b[0m \u001b[0mdata\u001b[0m\u001b[0;34m=\u001b[0m\u001b[0mdata\u001b[0m\u001b[0;34m,\u001b[0m \u001b[0;34m**\u001b[0m\u001b[0mkwargs\u001b[0m\u001b[0;34m)\u001b[0m\u001b[0;34m]\u001b[0m\u001b[0;34m\u001b[0m\u001b[0;34m\u001b[0m\u001b[0m\n\u001b[0m\u001b[1;32m   1667\u001b[0m         \u001b[0;32mfor\u001b[0m \u001b[0mline\u001b[0m \u001b[0;32min\u001b[0m \u001b[0mlines\u001b[0m\u001b[0;34m:\u001b[0m\u001b[0;34m\u001b[0m\u001b[0;34m\u001b[0m\u001b[0m\n\u001b[1;32m   1668\u001b[0m             \u001b[0mself\u001b[0m\u001b[0;34m.\u001b[0m\u001b[0madd_line\u001b[0m\u001b[0;34m(\u001b[0m\u001b[0mline\u001b[0m\u001b[0;34m)\u001b[0m\u001b[0;34m\u001b[0m\u001b[0;34m\u001b[0m\u001b[0m\n",
      "\u001b[0;32m~/miniconda3/lib/python3.7/site-packages/matplotlib/axes/_base.py\u001b[0m in \u001b[0;36m__call__\u001b[0;34m(self, *args, **kwargs)\u001b[0m\n\u001b[1;32m    223\u001b[0m                 \u001b[0mthis\u001b[0m \u001b[0;34m+=\u001b[0m \u001b[0margs\u001b[0m\u001b[0;34m[\u001b[0m\u001b[0;36m0\u001b[0m\u001b[0;34m]\u001b[0m\u001b[0;34m,\u001b[0m\u001b[0;34m\u001b[0m\u001b[0;34m\u001b[0m\u001b[0m\n\u001b[1;32m    224\u001b[0m                 \u001b[0margs\u001b[0m \u001b[0;34m=\u001b[0m \u001b[0margs\u001b[0m\u001b[0;34m[\u001b[0m\u001b[0;36m1\u001b[0m\u001b[0;34m:\u001b[0m\u001b[0;34m]\u001b[0m\u001b[0;34m\u001b[0m\u001b[0;34m\u001b[0m\u001b[0m\n\u001b[0;32m--> 225\u001b[0;31m             \u001b[0;32myield\u001b[0m \u001b[0;32mfrom\u001b[0m \u001b[0mself\u001b[0m\u001b[0;34m.\u001b[0m\u001b[0m_plot_args\u001b[0m\u001b[0;34m(\u001b[0m\u001b[0mthis\u001b[0m\u001b[0;34m,\u001b[0m \u001b[0mkwargs\u001b[0m\u001b[0;34m)\u001b[0m\u001b[0;34m\u001b[0m\u001b[0;34m\u001b[0m\u001b[0m\n\u001b[0m\u001b[1;32m    226\u001b[0m \u001b[0;34m\u001b[0m\u001b[0m\n\u001b[1;32m    227\u001b[0m     \u001b[0;32mdef\u001b[0m \u001b[0mget_next_color\u001b[0m\u001b[0;34m(\u001b[0m\u001b[0mself\u001b[0m\u001b[0;34m)\u001b[0m\u001b[0;34m:\u001b[0m\u001b[0;34m\u001b[0m\u001b[0;34m\u001b[0m\u001b[0m\n",
      "\u001b[0;32m~/miniconda3/lib/python3.7/site-packages/matplotlib/axes/_base.py\u001b[0m in \u001b[0;36m_plot_args\u001b[0;34m(self, tup, kwargs)\u001b[0m\n\u001b[1;32m    389\u001b[0m             \u001b[0mx\u001b[0m\u001b[0;34m,\u001b[0m \u001b[0my\u001b[0m \u001b[0;34m=\u001b[0m \u001b[0mindex_of\u001b[0m\u001b[0;34m(\u001b[0m\u001b[0mtup\u001b[0m\u001b[0;34m[\u001b[0m\u001b[0;34m-\u001b[0m\u001b[0;36m1\u001b[0m\u001b[0;34m]\u001b[0m\u001b[0;34m)\u001b[0m\u001b[0;34m\u001b[0m\u001b[0;34m\u001b[0m\u001b[0m\n\u001b[1;32m    390\u001b[0m \u001b[0;34m\u001b[0m\u001b[0m\n\u001b[0;32m--> 391\u001b[0;31m         \u001b[0mx\u001b[0m\u001b[0;34m,\u001b[0m \u001b[0my\u001b[0m \u001b[0;34m=\u001b[0m \u001b[0mself\u001b[0m\u001b[0;34m.\u001b[0m\u001b[0m_xy_from_xy\u001b[0m\u001b[0;34m(\u001b[0m\u001b[0mx\u001b[0m\u001b[0;34m,\u001b[0m \u001b[0my\u001b[0m\u001b[0;34m)\u001b[0m\u001b[0;34m\u001b[0m\u001b[0;34m\u001b[0m\u001b[0m\n\u001b[0m\u001b[1;32m    392\u001b[0m \u001b[0;34m\u001b[0m\u001b[0m\n\u001b[1;32m    393\u001b[0m         \u001b[0;32mif\u001b[0m \u001b[0mself\u001b[0m\u001b[0;34m.\u001b[0m\u001b[0mcommand\u001b[0m \u001b[0;34m==\u001b[0m \u001b[0;34m'plot'\u001b[0m\u001b[0;34m:\u001b[0m\u001b[0;34m\u001b[0m\u001b[0;34m\u001b[0m\u001b[0m\n",
      "\u001b[0;32m~/miniconda3/lib/python3.7/site-packages/matplotlib/axes/_base.py\u001b[0m in \u001b[0;36m_xy_from_xy\u001b[0;34m(self, x, y)\u001b[0m\n\u001b[1;32m    268\u001b[0m         \u001b[0;32mif\u001b[0m \u001b[0mx\u001b[0m\u001b[0;34m.\u001b[0m\u001b[0mshape\u001b[0m\u001b[0;34m[\u001b[0m\u001b[0;36m0\u001b[0m\u001b[0;34m]\u001b[0m \u001b[0;34m!=\u001b[0m \u001b[0my\u001b[0m\u001b[0;34m.\u001b[0m\u001b[0mshape\u001b[0m\u001b[0;34m[\u001b[0m\u001b[0;36m0\u001b[0m\u001b[0;34m]\u001b[0m\u001b[0;34m:\u001b[0m\u001b[0;34m\u001b[0m\u001b[0;34m\u001b[0m\u001b[0m\n\u001b[1;32m    269\u001b[0m             raise ValueError(\"x and y must have same first dimension, but \"\n\u001b[0;32m--> 270\u001b[0;31m                              \"have shapes {} and {}\".format(x.shape, y.shape))\n\u001b[0m\u001b[1;32m    271\u001b[0m         \u001b[0;32mif\u001b[0m \u001b[0mx\u001b[0m\u001b[0;34m.\u001b[0m\u001b[0mndim\u001b[0m \u001b[0;34m>\u001b[0m \u001b[0;36m2\u001b[0m \u001b[0;32mor\u001b[0m \u001b[0my\u001b[0m\u001b[0;34m.\u001b[0m\u001b[0mndim\u001b[0m \u001b[0;34m>\u001b[0m \u001b[0;36m2\u001b[0m\u001b[0;34m:\u001b[0m\u001b[0;34m\u001b[0m\u001b[0;34m\u001b[0m\u001b[0m\n\u001b[1;32m    272\u001b[0m             raise ValueError(\"x and y can be no greater than 2-D, but have \"\n",
      "\u001b[0;31mValueError\u001b[0m: x and y must have same first dimension, but have shapes (0,) and (30,)"
     ]
    },
    {
     "data": {
      "image/png": "[encoded data removed]",
      "text/plain": [
       "<Figure size 432x288 with 1 Axes>"
      ]
     },
     "metadata": {
      "needs_background": "light"
     },
     "output_type": "display_data"
    }
   ],
   "source": [
    "plt.plot(np.mean(diagno['truth']['valid'][90:120,:,:,:],axis=(1,2,3)),coor.lev,color='k',label='truth')\n",
    "for i,NNs in enumerate(NNarray):\n",
    "    plt.plot(np.mean(diagno[NNs]['valid'][90:120,:,:,:],axis=(1,2,3)),coor.lev,label=NNname[i])\n",
    "plt.gca().invert_yaxis()\n",
    "plt.legend()"
   ]
  },
  {
   "cell_type": "code",
   "execution_count": 46,
   "metadata": {},
   "outputs": [
    {
     "data": {
      "text/plain": [
       "(64, 5)"
      ]
     },
     "execution_count": 46,
     "metadata": {},
     "output_type": "execute_result"
    }
   ],
   "source": [
    "SE[NNs]['valid'].shape"
   ]
  },
  {
   "cell_type": "code",
   "execution_count": 71,
   "metadata": {},
   "outputs": [
    {
     "data": {
      "text/plain": [
       "(64, 5)"
      ]
     },
     "execution_count": 71,
     "metadata": {},
     "output_type": "execute_result"
    }
   ],
   "source": [
    "SE[NNs]['valid'].shape"
   ]
  },
  {
   "cell_type": "code",
   "execution_count": 70,
   "metadata": {},
   "outputs": [
    {
     "ename": "ValueError",
     "evalue": "x and y must have same first dimension, but have shapes (0,) and (30,)",
     "output_type": "error",
     "traceback": [
      "\u001b[0;31m---------------------------------------------------------------------------\u001b[0m",
      "\u001b[0;31mValueError\u001b[0m                                Traceback (most recent call last)",
      "\u001b[0;32m~/miniconda3/lib/python3.7/site-packages/tensorflow/python/keras/api/_v1/keras/models/__init__.py\u001b[0m in \u001b[0;36m<module>\u001b[0;34m\u001b[0m\n\u001b[1;32m      1\u001b[0m \u001b[0;32mfor\u001b[0m \u001b[0mi\u001b[0m\u001b[0;34m,\u001b[0m\u001b[0mNNs\u001b[0m \u001b[0;32min\u001b[0m \u001b[0menumerate\u001b[0m\u001b[0;34m(\u001b[0m\u001b[0mNNarray\u001b[0m\u001b[0;34m)\u001b[0m\u001b[0;34m:\u001b[0m\u001b[0;34m\u001b[0m\u001b[0;34m\u001b[0m\u001b[0m\n\u001b[0;32m----> 2\u001b[0;31m     \u001b[0mplt\u001b[0m\u001b[0;34m.\u001b[0m\u001b[0mplot\u001b[0m\u001b[0;34m(\u001b[0m\u001b[0mnp\u001b[0m\u001b[0;34m.\u001b[0m\u001b[0mmean\u001b[0m\u001b[0;34m(\u001b[0m\u001b[0mSE\u001b[0m\u001b[0;34m[\u001b[0m\u001b[0mNNs\u001b[0m\u001b[0;34m]\u001b[0m\u001b[0;34m[\u001b[0m\u001b[0;34m'valid'\u001b[0m\u001b[0;34m]\u001b[0m\u001b[0;34m[\u001b[0m\u001b[0;36m90\u001b[0m\u001b[0;34m:\u001b[0m\u001b[0;36m120\u001b[0m\u001b[0;34m,\u001b[0m\u001b[0;34m:\u001b[0m\u001b[0;34m]\u001b[0m\u001b[0;34m,\u001b[0m\u001b[0maxis\u001b[0m\u001b[0;34m=\u001b[0m\u001b[0;36m1\u001b[0m\u001b[0;34m)\u001b[0m\u001b[0;34m,\u001b[0m\u001b[0mcoor\u001b[0m\u001b[0;34m.\u001b[0m\u001b[0mlev\u001b[0m\u001b[0;34m,\u001b[0m\u001b[0mlabel\u001b[0m\u001b[0;34m=\u001b[0m\u001b[0mNNname\u001b[0m\u001b[0;34m[\u001b[0m\u001b[0mi\u001b[0m\u001b[0;34m]\u001b[0m\u001b[0;34m)\u001b[0m\u001b[0;34m\u001b[0m\u001b[0;34m\u001b[0m\u001b[0m\n\u001b[0m\u001b[1;32m      3\u001b[0m \u001b[0mplt\u001b[0m\u001b[0;34m.\u001b[0m\u001b[0mgca\u001b[0m\u001b[0;34m(\u001b[0m\u001b[0;34m)\u001b[0m\u001b[0;34m.\u001b[0m\u001b[0minvert_yaxis\u001b[0m\u001b[0;34m(\u001b[0m\u001b[0;34m)\u001b[0m\u001b[0;34m\u001b[0m\u001b[0;34m\u001b[0m\u001b[0m\n\u001b[1;32m      4\u001b[0m \u001b[0mplt\u001b[0m\u001b[0;34m.\u001b[0m\u001b[0mlegend\u001b[0m\u001b[0;34m(\u001b[0m\u001b[0;34m)\u001b[0m\u001b[0;34m\u001b[0m\u001b[0;34m\u001b[0m\u001b[0m\n",
      "\u001b[0;32m~/miniconda3/lib/python3.7/site-packages/matplotlib/pyplot.py\u001b[0m in \u001b[0;36mplot\u001b[0;34m(scalex, scaley, data, *args, **kwargs)\u001b[0m\n\u001b[1;32m   2793\u001b[0m     return gca().plot(\n\u001b[1;32m   2794\u001b[0m         *args, scalex=scalex, scaley=scaley, **({\"data\": data} if data\n\u001b[0;32m-> 2795\u001b[0;31m         is not None else {}), **kwargs)\n\u001b[0m\u001b[1;32m   2796\u001b[0m \u001b[0;34m\u001b[0m\u001b[0m\n\u001b[1;32m   2797\u001b[0m \u001b[0;34m\u001b[0m\u001b[0m\n",
      "\u001b[0;32m~/miniconda3/lib/python3.7/site-packages/matplotlib/axes/_axes.py\u001b[0m in \u001b[0;36mplot\u001b[0;34m(self, scalex, scaley, data, *args, **kwargs)\u001b[0m\n\u001b[1;32m   1664\u001b[0m         \"\"\"\n\u001b[1;32m   1665\u001b[0m         \u001b[0mkwargs\u001b[0m \u001b[0;34m=\u001b[0m \u001b[0mcbook\u001b[0m\u001b[0;34m.\u001b[0m\u001b[0mnormalize_kwargs\u001b[0m\u001b[0;34m(\u001b[0m\u001b[0mkwargs\u001b[0m\u001b[0;34m,\u001b[0m \u001b[0mmlines\u001b[0m\u001b[0;34m.\u001b[0m\u001b[0mLine2D\u001b[0m\u001b[0;34m.\u001b[0m\u001b[0m_alias_map\u001b[0m\u001b[0;34m)\u001b[0m\u001b[0;34m\u001b[0m\u001b[0;34m\u001b[0m\u001b[0m\n\u001b[0;32m-> 1666\u001b[0;31m         \u001b[0mlines\u001b[0m \u001b[0;34m=\u001b[0m \u001b[0;34m[\u001b[0m\u001b[0;34m*\u001b[0m\u001b[0mself\u001b[0m\u001b[0;34m.\u001b[0m\u001b[0m_get_lines\u001b[0m\u001b[0;34m(\u001b[0m\u001b[0;34m*\u001b[0m\u001b[0margs\u001b[0m\u001b[0;34m,\u001b[0m \u001b[0mdata\u001b[0m\u001b[0;34m=\u001b[0m\u001b[0mdata\u001b[0m\u001b[0;34m,\u001b[0m \u001b[0;34m**\u001b[0m\u001b[0mkwargs\u001b[0m\u001b[0;34m)\u001b[0m\u001b[0;34m]\u001b[0m\u001b[0;34m\u001b[0m\u001b[0;34m\u001b[0m\u001b[0m\n\u001b[0m\u001b[1;32m   1667\u001b[0m         \u001b[0;32mfor\u001b[0m \u001b[0mline\u001b[0m \u001b[0;32min\u001b[0m \u001b[0mlines\u001b[0m\u001b[0;34m:\u001b[0m\u001b[0;34m\u001b[0m\u001b[0;34m\u001b[0m\u001b[0m\n\u001b[1;32m   1668\u001b[0m             \u001b[0mself\u001b[0m\u001b[0;34m.\u001b[0m\u001b[0madd_line\u001b[0m\u001b[0;34m(\u001b[0m\u001b[0mline\u001b[0m\u001b[0;34m)\u001b[0m\u001b[0;34m\u001b[0m\u001b[0;34m\u001b[0m\u001b[0m\n",
      "\u001b[0;32m~/miniconda3/lib/python3.7/site-packages/matplotlib/axes/_base.py\u001b[0m in \u001b[0;36m__call__\u001b[0;34m(self, *args, **kwargs)\u001b[0m\n\u001b[1;32m    223\u001b[0m                 \u001b[0mthis\u001b[0m \u001b[0;34m+=\u001b[0m \u001b[0margs\u001b[0m\u001b[0;34m[\u001b[0m\u001b[0;36m0\u001b[0m\u001b[0;34m]\u001b[0m\u001b[0;34m,\u001b[0m\u001b[0;34m\u001b[0m\u001b[0;34m\u001b[0m\u001b[0m\n\u001b[1;32m    224\u001b[0m                 \u001b[0margs\u001b[0m \u001b[0;34m=\u001b[0m \u001b[0margs\u001b[0m\u001b[0;34m[\u001b[0m\u001b[0;36m1\u001b[0m\u001b[0;34m:\u001b[0m\u001b[0;34m]\u001b[0m\u001b[0;34m\u001b[0m\u001b[0;34m\u001b[0m\u001b[0m\n\u001b[0;32m--> 225\u001b[0;31m             \u001b[0;32myield\u001b[0m \u001b[0;32mfrom\u001b[0m \u001b[0mself\u001b[0m\u001b[0;34m.\u001b[0m\u001b[0m_plot_args\u001b[0m\u001b[0;34m(\u001b[0m\u001b[0mthis\u001b[0m\u001b[0;34m,\u001b[0m \u001b[0mkwargs\u001b[0m\u001b[0;34m)\u001b[0m\u001b[0;34m\u001b[0m\u001b[0;34m\u001b[0m\u001b[0m\n\u001b[0m\u001b[1;32m    226\u001b[0m \u001b[0;34m\u001b[0m\u001b[0m\n\u001b[1;32m    227\u001b[0m     \u001b[0;32mdef\u001b[0m \u001b[0mget_next_color\u001b[0m\u001b[0;34m(\u001b[0m\u001b[0mself\u001b[0m\u001b[0;34m)\u001b[0m\u001b[0;34m:\u001b[0m\u001b[0;34m\u001b[0m\u001b[0;34m\u001b[0m\u001b[0m\n",
      "\u001b[0;32m~/miniconda3/lib/python3.7/site-packages/matplotlib/axes/_base.py\u001b[0m in \u001b[0;36m_plot_args\u001b[0;34m(self, tup, kwargs)\u001b[0m\n\u001b[1;32m    389\u001b[0m             \u001b[0mx\u001b[0m\u001b[0;34m,\u001b[0m \u001b[0my\u001b[0m \u001b[0;34m=\u001b[0m \u001b[0mindex_of\u001b[0m\u001b[0;34m(\u001b[0m\u001b[0mtup\u001b[0m\u001b[0;34m[\u001b[0m\u001b[0;34m-\u001b[0m\u001b[0;36m1\u001b[0m\u001b[0;34m]\u001b[0m\u001b[0;34m)\u001b[0m\u001b[0;34m\u001b[0m\u001b[0;34m\u001b[0m\u001b[0m\n\u001b[1;32m    390\u001b[0m \u001b[0;34m\u001b[0m\u001b[0m\n\u001b[0;32m--> 391\u001b[0;31m         \u001b[0mx\u001b[0m\u001b[0;34m,\u001b[0m \u001b[0my\u001b[0m \u001b[0;34m=\u001b[0m \u001b[0mself\u001b[0m\u001b[0;34m.\u001b[0m\u001b[0m_xy_from_xy\u001b[0m\u001b[0;34m(\u001b[0m\u001b[0mx\u001b[0m\u001b[0;34m,\u001b[0m \u001b[0my\u001b[0m\u001b[0;34m)\u001b[0m\u001b[0;34m\u001b[0m\u001b[0;34m\u001b[0m\u001b[0m\n\u001b[0m\u001b[1;32m    392\u001b[0m \u001b[0;34m\u001b[0m\u001b[0m\n\u001b[1;32m    393\u001b[0m         \u001b[0;32mif\u001b[0m \u001b[0mself\u001b[0m\u001b[0;34m.\u001b[0m\u001b[0mcommand\u001b[0m \u001b[0;34m==\u001b[0m \u001b[0;34m'plot'\u001b[0m\u001b[0;34m:\u001b[0m\u001b[0;34m\u001b[0m\u001b[0;34m\u001b[0m\u001b[0m\n",
      "\u001b[0;32m~/miniconda3/lib/python3.7/site-packages/matplotlib/axes/_base.py\u001b[0m in \u001b[0;36m_xy_from_xy\u001b[0;34m(self, x, y)\u001b[0m\n\u001b[1;32m    268\u001b[0m         \u001b[0;32mif\u001b[0m \u001b[0mx\u001b[0m\u001b[0;34m.\u001b[0m\u001b[0mshape\u001b[0m\u001b[0;34m[\u001b[0m\u001b[0;36m0\u001b[0m\u001b[0;34m]\u001b[0m \u001b[0;34m!=\u001b[0m \u001b[0my\u001b[0m\u001b[0;34m.\u001b[0m\u001b[0mshape\u001b[0m\u001b[0;34m[\u001b[0m\u001b[0;36m0\u001b[0m\u001b[0;34m]\u001b[0m\u001b[0;34m:\u001b[0m\u001b[0;34m\u001b[0m\u001b[0;34m\u001b[0m\u001b[0m\n\u001b[1;32m    269\u001b[0m             raise ValueError(\"x and y must have same first dimension, but \"\n\u001b[0;32m--> 270\u001b[0;31m                              \"have shapes {} and {}\".format(x.shape, y.shape))\n\u001b[0m\u001b[1;32m    271\u001b[0m         \u001b[0;32mif\u001b[0m \u001b[0mx\u001b[0m\u001b[0;34m.\u001b[0m\u001b[0mndim\u001b[0m \u001b[0;34m>\u001b[0m \u001b[0;36m2\u001b[0m \u001b[0;32mor\u001b[0m \u001b[0my\u001b[0m\u001b[0;34m.\u001b[0m\u001b[0mndim\u001b[0m \u001b[0;34m>\u001b[0m \u001b[0;36m2\u001b[0m\u001b[0;34m:\u001b[0m\u001b[0;34m\u001b[0m\u001b[0;34m\u001b[0m\u001b[0m\n\u001b[1;32m    272\u001b[0m             raise ValueError(\"x and y can be no greater than 2-D, but have \"\n",
      "\u001b[0;31mValueError\u001b[0m: x and y must have same first dimension, but have shapes (0,) and (30,)"
     ]
    },
    {
     "data": {
      "image/png": "[encoded data removed]",
      "text/plain": [
       "<Figure size 432x288 with 1 Axes>"
      ]
     },
     "metadata": {
      "needs_background": "light"
     },
     "output_type": "display_data"
    }
   ],
   "source": [
    "for i,NNs in enumerate(NNarray):\n",
    "    plt.plot(np.mean(SE[NNs]['valid'][90:120,:],axis=1),coor.lev,label=NNname[i])\n",
    "plt.gca().invert_yaxis()\n",
    "plt.legend()"
   ]
  },
  {
   "cell_type": "code",
   "execution_count": 23,
   "metadata": {},
   "outputs": [
    {
     "data": {
      "text/plain": [
       "(64, 128, 218, 5)"
      ]
     },
     "execution_count": 23,
     "metadata": {},
     "output_type": "execute_result"
    }
   ],
   "source": [
    "diagno[NNs]['valid'].shape"
   ]
  },
  {
   "cell_type": "markdown",
   "metadata": {},
   "source": [
    "# 10) Debugging"
   ]
  },
  {
   "cell_type": "markdown",
   "metadata": {},
   "source": [
    "## 10.1) Tensorflow debug"
   ]
  },
  {
   "cell_type": "markdown",
   "metadata": {},
   "source": [
    "### 10.1.1) Debug RH2QV"
   ]
  },
  {
   "cell_type": "code",
   "execution_count": 24,
   "metadata": {},
   "outputs": [],
   "source": [
    "inp = Input(shape=(304,))\n",
    "tmp = RH2QV(inp_subQ=train_genQ.input_transform.sub, \n",
    "             inp_divQ=train_genQ.input_transform.div, \n",
    "             inp_subRH=train_gen.input_transform.sub, \n",
    "             inp_divRH=train_gen.input_transform.div, \n",
    "             hyam=hyam, hybm=hybm)([inp])\n",
    "Test = tf.keras.models.Model(inp, tmp)"
   ]
  },
  {
   "cell_type": "code",
   "execution_count": 25,
   "metadata": {},
   "outputs": [
    {
     "name": "stdout",
     "output_type": "stream",
     "text": [
      "Model: \"model_2\"\n",
      "_________________________________________________________________\n",
      "Layer (type)                 Output Shape              Param #   \n",
      "=================================================================\n",
      "input_4 (InputLayer)         [(None, 304)]             0         \n",
      "_________________________________________________________________\n",
      "r_h2qv_2 (RH2QV)             (None, 304)               0         \n",
      "=================================================================\n",
      "Total params: 0\n",
      "Trainable params: 0\n",
      "Non-trainable params: 0\n",
      "_________________________________________________________________\n"
     ]
    }
   ],
   "source": [
    "Test.summary()"
   ]
  },
  {
   "cell_type": "code",
   "execution_count": 26,
   "metadata": {},
   "outputs": [],
   "source": [
    "Test.compile(tf.keras.optimizers.RMSprop(), loss=mse)"
   ]
  },
  {
   "cell_type": "code",
   "execution_count": 27,
   "metadata": {},
   "outputs": [],
   "source": [
    "X = train_gen[56][0]"
   ]
  },
  {
   "cell_type": "code",
   "execution_count": 28,
   "metadata": {},
   "outputs": [],
   "source": [
    "qvtest = Test.predict_on_batch(X)"
   ]
  },
  {
   "cell_type": "code",
   "execution_count": 29,
   "metadata": {},
   "outputs": [
    {
     "data": {
      "text/plain": [
       "array([1.9030899e-06, 1.8915148e-06, 1.7339299e-06, 1.7308904e-06,\n",
       "       1.6900492e-06, 1.6526891e-06, 1.6435984e-06, 1.6420252e-06,\n",
       "       1.6418791e-06, 1.6428154e-06, 1.6598168e-06, 1.7643989e-06,\n",
       "       2.2018805e-06, 6.5068339e-06, 2.4600353e-05, 4.3809756e-05,\n",
       "       7.1979382e-05, 3.0872758e-04, 1.2588734e-03, 4.5175510e-03,\n",
       "       1.1704578e-02, 2.2368515e-02, 3.8449377e-02, 6.0668945e-02,\n",
       "       9.1321923e-02, 1.4544553e-01, 2.4266730e-01, 4.7690892e-01,\n",
       "       1.5808966e+00, 3.5272056e+03], dtype=float32)"
      ]
     },
     "execution_count": 29,
     "metadata": {},
     "output_type": "execute_result"
    }
   ],
   "source": [
    "qvtest[25,:30]"
   ]
  },
  {
   "cell_type": "code",
   "execution_count": 58,
   "metadata": {},
   "outputs": [
    {
     "data": {
      "text/plain": [
       "array([-0.06297259, -0.05136243, -0.10149719, -0.05036039, -0.06315299,\n",
       "       -0.09800371, -0.10595452, -0.13731119, -0.1159419 , -0.13201046,\n",
       "       -0.14780387, -0.16423412, -0.18461413, -0.17864311, -0.01712106,\n",
       "       -0.00878462, -0.11884584,  0.06055145,  0.14901265,  0.2226299 ,\n",
       "        0.29120513,  0.20955047,  0.08957092,  0.00903148,  0.00727552,\n",
       "        0.0265064 ,  0.0459533 ,  0.08873913,  0.0640129 ,  0.01128154])"
      ]
     },
     "execution_count": 58,
     "metadata": {},
     "output_type": "execute_result"
    }
   ],
   "source": [
    "X[25,:30]"
   ]
  },
  {
   "cell_type": "code",
   "execution_count": 172,
   "metadata": {},
   "outputs": [
    {
     "data": {
      "text/plain": [
       "array([-0.06297259, -0.05136243, -0.10149719, -0.05036039, -0.06315299,\n",
       "       -0.09800371, -0.10595452, -0.13731119, -0.1159419 , -0.13201046,\n",
       "       -0.14780387, -0.16423412, -0.18461413, -0.17864311, -0.01712106,\n",
       "       -0.00878462, -0.11884584,  0.06055145,  0.14901265,  0.2226299 ,\n",
       "        0.29120513,  0.20955047,  0.08957092,  0.00903148,  0.00727552,\n",
       "        0.0265064 ,  0.0459533 ,  0.08873913,  0.0640129 ,  0.01128154])"
      ]
     },
     "execution_count": 172,
     "metadata": {},
     "output_type": "execute_result"
    }
   ],
   "source": [
    "X[25,:30]"
   ]
  },
  {
   "cell_type": "code",
   "execution_count": 174,
   "metadata": {},
   "outputs": [
    {
     "data": {
      "text/plain": [
       "array([1.8973241e-06, 1.8835857e-06, 1.7054678e-06, 1.7039504e-06,\n",
       "       1.6766430e-06, 1.6668902e-06, 1.6468167e-06, 1.6299890e-06,\n",
       "       1.6284761e-06, 1.6294421e-06, 1.6535199e-06, 1.8925764e-06,\n",
       "       2.8872685e-06, 5.5796645e-06, 1.4841613e-05, 5.7063877e-05,\n",
       "       1.6834951e-04, 6.4736593e-04, 2.1820716e-03, 5.7780370e-03,\n",
       "       1.2334184e-02, 2.3786351e-02, 4.3635923e-02, 6.9486611e-02,\n",
       "       1.0128054e-01, 1.5524206e-01, 2.5674918e-01, 5.1367944e-01,\n",
       "       1.7119628e+00, 1.1673201e+04], dtype=float32)"
      ]
     },
     "execution_count": 174,
     "metadata": {},
     "output_type": "execute_result"
    }
   ],
   "source": [
    "qvtest[1000,:30]"
   ]
  },
  {
   "cell_type": "code",
   "execution_count": 36,
   "metadata": {},
   "outputs": [
    {
     "data": {
      "text/plain": [
       "array([ 54.95839  ,  11.008215 ,   1.793623 ,  22.212362 ,  10.622358 ,\n",
       "         8.469915 ,   8.055878 ,   6.832981 ,   6.027794 ,   5.4332256,\n",
       "         4.77314  ,   3.5664082,   2.8112411,   1.8174171,   1.3533592,\n",
       "         2.0575523,   4.2188168,   9.381294 ,  27.8234   ,  72.20387  ,\n",
       "       130.30954  , 191.9235   , 249.02122  , 309.83945  , 357.18762  ,\n",
       "       411.6875   , 465.5838   , 522.4508   , 580.6001   , 639.7743   ],\n",
       "      dtype=float32)"
      ]
     },
     "execution_count": 36,
     "metadata": {},
     "output_type": "execute_result"
    }
   ],
   "source": [
    "esattest[25,:30]"
   ]
  },
  {
   "cell_type": "code",
   "execution_count": 59,
   "metadata": {},
   "outputs": [
    {
     "data": {
      "text/plain": [
       "array([1.9030899e-06, 1.8915148e-06, 1.7339299e-06, 1.7308904e-06,\n",
       "       1.6900492e-06, 1.6526891e-06, 1.6435984e-06, 1.6420252e-06,\n",
       "       1.6418791e-06, 1.6428154e-06, 1.6598168e-06, 1.7643989e-06,\n",
       "       1.9838917e-06, 4.7661160e-06, 1.4490107e-05, 2.0455827e-05,\n",
       "       2.6130567e-05, 8.4787316e-05, 2.5106978e-04, 6.3215825e-04,\n",
       "       1.1306786e-03, 1.4773958e-03, 1.7499084e-03, 2.0161467e-03,\n",
       "       2.2972238e-03, 2.6271953e-03, 2.8843565e-03, 3.1307335e-03,\n",
       "       3.2381848e-03, 3.3996664e-03], dtype=float32)"
      ]
     },
     "execution_count": 59,
     "metadata": {},
     "output_type": "execute_result"
    }
   ],
   "source": [
    "qvtest[25,:30]"
   ]
  },
  {
   "cell_type": "code",
   "execution_count": 173,
   "metadata": {},
   "outputs": [
    {
     "data": {
      "text/plain": [
       "array([1.9030899e-06, 1.8915148e-06, 1.7339299e-06, 1.7308904e-06,\n",
       "       1.6900492e-06, 1.6526891e-06, 1.6435984e-06, 1.6420252e-06,\n",
       "       1.6418791e-06, 1.6428154e-06, 1.6598168e-06, 1.7643989e-06,\n",
       "       2.2018805e-06, 6.5068339e-06, 2.4600353e-05, 4.3809756e-05,\n",
       "       7.1979382e-05, 3.0872758e-04, 1.2588734e-03, 4.5175510e-03,\n",
       "       1.1704578e-02, 2.2368515e-02, 3.8449377e-02, 6.0668945e-02,\n",
       "       9.1321923e-02, 1.4544553e-01, 2.4266730e-01, 4.7690892e-01,\n",
       "       1.5808966e+00, 3.5272056e+03], dtype=float32)"
      ]
     },
     "execution_count": 173,
     "metadata": {},
     "output_type": "execute_result"
    }
   ],
   "source": [
    "qvtest[25,:30]"
   ]
  },
  {
   "cell_type": "code",
   "execution_count": 164,
   "metadata": {},
   "outputs": [
    {
     "data": {
      "text/plain": [
       "array([246.75278, 231.80324, 216.95534, 238.1009 , 231.49179, 229.53593,\n",
       "       229.10733, 227.7102 , 226.65791, 225.7934 , 224.7243 , 222.35489,\n",
       "       220.45598, 217.05716, 214.8207 , 218.01257, 223.7143 , 230.41486,\n",
       "       240.19456, 249.48433, 255.38455, 259.3098 , 262.1211 , 264.59882,\n",
       "       266.27563, 268.00555, 269.55307, 271.04742, 272.4574 , 273.78976],\n",
       "      dtype=float32)"
      ]
     },
     "execution_count": 164,
     "metadata": {},
     "output_type": "execute_result"
    }
   ],
   "source": [
    "Ttest[25,:30]"
   ]
  },
  {
   "cell_type": "code",
   "execution_count": 156,
   "metadata": {},
   "outputs": [
    {
     "data": {
      "text/plain": [
       "array([2.0265579e-05, 2.0961836e-04, 2.2293180e-03, 3.0806661e-04,\n",
       "       9.7799487e-04, 1.7111488e-03, 2.3599863e-03, 3.3899099e-03,\n",
       "       4.5203716e-03, 5.9033036e-03, 7.9871714e-03, 1.3368279e-02,\n",
       "       2.2423178e-02, 9.7951472e-02, 4.7014871e-01, 5.1329035e-01,\n",
       "       3.7602180e-01, 6.4522779e-01, 7.5761163e-01, 8.5403681e-01,\n",
       "       9.5947838e-01, 9.3974471e-01, 9.2234045e-01, 8.9426774e-01,\n",
       "       9.1210008e-01, 9.3113732e-01, 9.2724317e-01, 9.1726863e-01,\n",
       "       8.7050939e-01, 8.4316915e-01], dtype=float32)"
      ]
     },
     "execution_count": 156,
     "metadata": {},
     "output_type": "execute_result"
    }
   ],
   "source": [
    "RHtest[25,:30]"
   ]
  },
  {
   "cell_type": "code",
   "execution_count": 143,
   "metadata": {},
   "outputs": [
    {
     "data": {
      "text/plain": [
       "array([1.9030899e-06, 1.8915148e-06, 1.7339299e-06, 1.7308904e-06,\n",
       "       1.6900492e-06, 1.6526891e-06, 1.6435984e-06, 1.6420252e-06,\n",
       "       1.6418791e-06, 1.6428154e-06, 1.6598168e-06, 1.7643989e-06,\n",
       "       2.2018805e-06, 6.5068339e-06, 2.4600353e-05, 4.3809756e-05,\n",
       "       7.1979382e-05, 3.0872758e-04, 1.2588734e-03, 4.5175510e-03,\n",
       "       1.1704578e-02, 2.2368515e-02, 3.8449377e-02, 6.0668945e-02,\n",
       "       9.1321923e-02, 1.4544553e-01, 2.4266730e-01, 4.7690892e-01,\n",
       "       1.5808966e+00, 3.5272056e+03], dtype=float32)"
      ]
     },
     "execution_count": 143,
     "metadata": {},
     "output_type": "execute_result"
    }
   ],
   "source": [
    "XQ[25,:30]"
   ]
  },
  {
   "cell_type": "code",
   "execution_count": 140,
   "metadata": {},
   "outputs": [
    {
     "data": {
      "text/plain": [
       "array([-0.06297216, -0.05140016, -0.10154264, -0.05039659, -0.0632293 ,\n",
       "       -0.09793767, -0.10587099, -0.13721633, -0.115745  , -0.13160671,\n",
       "       -0.14704925, -0.16227467, -0.1745171 , -0.15967043, -0.09739776,\n",
       "       -0.02332678,  0.05331368,  0.14883332,  0.20810055,  0.20165294,\n",
       "        0.17861423,  0.10197579,  0.0413457 ,  0.02857888,  0.02170309,\n",
       "        0.02127818,  0.03621619,  0.06141166,  0.05387898,  0.0284777 ])"
      ]
     },
     "execution_count": 140,
     "metadata": {},
     "output_type": "execute_result"
    }
   ],
   "source": [
    "np.mean(X[:,:30],axis=0)"
   ]
  },
  {
   "cell_type": "code",
   "execution_count": 141,
   "metadata": {},
   "outputs": [
    {
     "data": {
      "text/plain": [
       "array([ 1.8827926e-06,  1.8691544e-06,  1.6730188e-06,  1.6503029e-06,\n",
       "        1.5839951e-06,  1.5511619e-06,  1.5492354e-06,  1.5499596e-06,\n",
       "        1.5518547e-06,  1.5736521e-06,  1.6148207e-06,  1.6604264e-06,\n",
       "        2.1021624e-06,  4.3602768e-06,  7.2769262e-06,  1.5217238e-05,\n",
       "        2.7433081e-05,  8.9237619e-05,  4.1012885e-04,  1.0364030e-03,\n",
       "        2.9403360e-03,  8.4975837e-03,  1.8359929e-02,  4.0940519e-02,\n",
       "        6.9167361e-02,  1.1588817e-01,  2.0190385e-01,  3.9508286e-01,\n",
       "        1.2861021e+00, -2.6412030e+06], dtype=float32)"
      ]
     },
     "execution_count": 141,
     "metadata": {},
     "output_type": "execute_result"
    }
   ],
   "source": [
    "np.min(XQ[:,:30],axis=0)"
   ]
  },
  {
   "cell_type": "code",
   "execution_count": 101,
   "metadata": {},
   "outputs": [
    {
     "data": {
      "text/plain": [
       "array([ 1.8827926e-06,  1.8691544e-06,  1.6730188e-06,  1.6503029e-06,\n",
       "        1.5839951e-06,  1.5511619e-06,  1.5492354e-06,  1.5499596e-06,\n",
       "        1.5518547e-06,  1.5736521e-06,  1.6148207e-06,  1.6604264e-06,\n",
       "        2.1021624e-06,  4.3602768e-06,  7.2769262e-06,  1.5217238e-05,\n",
       "        2.7433081e-05,  8.9237619e-05,  4.1012885e-04,  1.0364030e-03,\n",
       "        2.9403360e-03,  8.4975837e-03,  1.8359929e-02,  4.0940519e-02,\n",
       "        6.9167361e-02,  1.1588817e-01,  2.0190385e-01,  3.9508286e-01,\n",
       "        1.2861021e+00, -2.6412030e+06], dtype=float32)"
      ]
     },
     "execution_count": 101,
     "metadata": {},
     "output_type": "execute_result"
    }
   ],
   "source": [
    "#np.min(XQ[:,:30],axis=0)"
   ]
  },
  {
   "cell_type": "markdown",
   "metadata": {},
   "source": [
    "### 10.1.2) Debug dQVdt2dRHdt"
   ]
  },
  {
   "cell_type": "markdown",
   "metadata": {},
   "source": [
    "## 10.2) Numpy debug"
   ]
  },
  {
   "cell_type": "code",
   "execution_count": 24,
   "metadata": {},
   "outputs": [],
   "source": [
    "RHnp = np.array([2.0265579e-05, 2.0961836e-04, 2.2293180e-03, 3.0806661e-04,\n",
    "       9.7799487e-04, 1.7111488e-03, 2.3599863e-03, 3.3899099e-03,\n",
    "       4.5203716e-03, 5.9033036e-03, 7.9871714e-03, 1.3368279e-02,\n",
    "       2.2423178e-02, 9.7951472e-02, 4.7014871e-01, 5.1329035e-01,\n",
    "       3.7602180e-01, 6.4522779e-01, 7.5761163e-01, 8.5403681e-01,\n",
    "       9.5947838e-01, 9.3974471e-01, 9.2234045e-01, 8.9426774e-01,\n",
    "       9.1210008e-01, 9.3113732e-01, 9.2724317e-01, 9.1726863e-01,\n",
    "       8.7050939e-01, 8.4316915e-01])"
   ]
  },
  {
   "cell_type": "code",
   "execution_count": 25,
   "metadata": {},
   "outputs": [],
   "source": [
    "Tnp = np.array([246.75278, 231.80324, 216.95534, 238.1009 , 231.49179, 229.53593,\n",
    "       229.10733, 227.7102 , 226.65791, 225.7934 , 224.7243 , 222.35489,\n",
    "       220.45598, 217.05716, 214.8207 , 218.01257, 223.7143 , 230.41486,\n",
    "       240.19456, 249.48433, 255.38455, 259.3098 , 262.1211 , 264.59882,\n",
    "       266.27563, 268.00555, 269.55307, 271.04742, 272.4574 , 273.78976])"
   ]
  },
  {
   "cell_type": "code",
   "execution_count": 26,
   "metadata": {},
   "outputs": [],
   "source": [
    "ESATnp = qv(Tnp,RHnp,np.reshape(np.array([1e5]),(1,1)),np.reshape(np.array([1e5]),(1,1)),data.hyam.values,data.hybm.values)"
   ]
  },
  {
   "cell_type": "code",
   "execution_count": 208,
   "metadata": {},
   "outputs": [],
   "source": [
    "QVnp = qv(Tnp,RHnp,np.reshape(np.array([1e5]),(1,1)),np.reshape(np.array([1e5]),(1,1)),data.hyam.values,data.hybm.values)"
   ]
  },
  {
   "cell_type": "code",
   "execution_count": 27,
   "metadata": {},
   "outputs": [
    {
     "data": {
      "text/plain": [
       "array([ 54.95848144,  11.00841159,   1.79388417,  22.2124559 ,\n",
       "        10.62231164,   8.47022151,   8.0561401 ,   6.83297028,\n",
       "         6.02798515,   5.43346445,   4.77352855,   3.56710301,\n",
       "         2.81182821,   1.81786434,   1.35391502,   2.05782798,\n",
       "         4.21917635,   9.38175441,  27.82356363,  72.20391366,\n",
       "       130.30963585, 191.92337989, 249.02146369, 309.83968991,\n",
       "       357.18759074, 411.68753012, 465.58393689, 522.45082971,\n",
       "       580.60047116, 639.77422967])"
      ]
     },
     "execution_count": 27,
     "metadata": {},
     "output_type": "execute_result"
    }
   ],
   "source": [
    "ESATnp"
   ]
  },
  {
   "cell_type": "code",
   "execution_count": 209,
   "metadata": {},
   "outputs": [
    {
     "data": {
      "text/plain": [
       "array([[1.90309307e-06, 1.89154851e-06, 1.73418256e-06, 1.73089766e-06,\n",
       "        1.69004170e-06, 1.65274872e-06, 1.64365200e-06, 1.64202264e-06,\n",
       "        1.64193123e-06, 1.64288746e-06, 1.65995214e-06, 1.76474265e-06,\n",
       "        1.98336835e-06, 4.76120682e-06, 1.44676650e-05, 2.04066223e-05,\n",
       "        2.60535467e-05, 8.44987857e-05, 2.50115098e-04, 6.29572940e-04,\n",
       "        1.12582259e-03, 1.47083528e-03, 1.74197043e-03, 2.00688338e-03,\n",
       "        2.28657944e-03, 2.61493413e-03, 2.87081171e-03, 3.11595186e-03,\n",
       "        3.22282871e-03, 3.38350920e-03]])"
      ]
     },
     "execution_count": 209,
     "metadata": {},
     "output_type": "execute_result"
    }
   ],
   "source": [
    "QVnp"
   ]
  },
  {
   "cell_type": "markdown",
   "metadata": {},
   "source": [
    "## 10.3) TODO: Conservation residual of ACnet"
   ]
  },
  {
   "cell_type": "code",
   "execution_count": 18,
   "metadata": {},
   "outputs": [],
   "source": [
    "def mass_res_md(md, inp, pred):\n",
    "    inp_div = md.valid_gen.input_transform.div\n",
    "    inp_sub = md.valid_gen.input_transform.sub\n",
    "    norm_q = md.valid_gen.output_transform.scale[:30]\n",
    "    # Input\n",
    "    PS_idx = 300\n",
    "    LHFLX_idx = 303\n",
    "\n",
    "    # Output\n",
    "    PHQ_idx = slice(0, 30)\n",
    "    PHCLDLIQ_idx = slice(30, 60)\n",
    "    PHCLDICE_idx = slice(60, 90)\n",
    "    PRECT_idx = 214\n",
    "    PRECTEND_idx = 215\n",
    "\n",
    "    # 1. Compute dP_tilde\n",
    "    dP_tilde = compute_dP_tilde(inp[:, PS_idx],  inp_div[PS_idx], inp_sub[PS_idx], norm_q, hyai, hybi)\n",
    "\n",
    "    # 2. Compute water integral\n",
    "    WATINT = np.sum(dP_tilde *(pred[:, PHQ_idx] + pred[:, PHCLDLIQ_idx] + pred[:, PHCLDICE_idx]), axis=1)\n",
    "    print('PHQ',np.mean(np.sum(dP_tilde*pred[:,PHQ_idx],axis=1)))\n",
    "    print('PHCLQ',np.mean(np.sum(dP_tilde*pred[:,PHCLDLIQ_idx],axis=1)))\n",
    "    print('PHICE',np.mean(np.sum(dP_tilde*pred[:,PHCLDICE_idx],axis=1)))\n",
    "\n",
    "    # 3. Compute latent heat flux and precipitation forcings\n",
    "    LHFLX = inp[:, LHFLX_idx] * inp_div[LHFLX_idx] + inp_sub[LHFLX_idx]\n",
    "    PREC = pred[:, PRECT_idx] + pred[:, PRECTEND_idx]\n",
    "\n",
    "    # 4. Compute water mass residual\n",
    "    print('LHFLX',np.mean(LHFLX))\n",
    "    print('PREC',np.mean(PREC))\n",
    "    print('WATINT',np.mean(WATINT))\n",
    "    WATRES = LHFLX - PREC - WATINT\n",
    "    print('WATRES',np.mean(WATRES))\n",
    "\n",
    "    return np.square(WATRES)"
   ]
  },
  {
   "cell_type": "code",
   "execution_count": 19,
   "metadata": {},
   "outputs": [],
   "source": [
    "def qv(T,RH,P0,PS,hyam,hybm):\n",
    "    R = 287\n",
    "    Rv = 461\n",
    "    #p = np.moveaxis((hyam*P0+hybm*PS),0,1) # Total pressure (Pa)\n",
    "    p = np.tile(hyam*P0,(8192,1))+np.tile(hybm,(8192,1))*np.tile(PS,(30,1)).T\n",
    "    return R*esat(T)*RH/(Rv*p)\n",
    "    # DEBUG 1\n",
    "    # return esat(T)"
   ]
  },
  {
   "cell_type": "code",
   "execution_count": 20,
   "metadata": {},
   "outputs": [],
   "source": [
    "scale_dict0 = load_pickle('/home/t/Tom.Beucler/SPCAM/CBRAIN-CAM/nn_config/scale_dicts/009_Wm2_scaling.pkl')"
   ]
  },
  {
   "cell_type": "code",
   "execution_count": 21,
   "metadata": {},
   "outputs": [],
   "source": [
    "scale_dict35 = load_pickle('/home/t/Tom.Beucler/SPCAM/CBRAIN-CAM/nn_config/scale_dicts/035_RH_scaling.pkl')"
   ]
  },
  {
   "cell_type": "code",
   "execution_count": 23,
   "metadata": {},
   "outputs": [
    {
     "name": "stdout",
     "output_type": "stream",
     "text": [
      "i= 0 & NNs= 035_UCnet.hdf5          \n",
      "j= 0 & data= 8col009RH_01_valid.nc          \r"
     ]
    },
    {
     "data": {
      "application/vnd.jupyter.widget-view+json": {
       "model_id": "06efdc06b12949339b584684fca2e154",
       "version_major": 2,
       "version_minor": 0
      },
      "text/plain": [
       "HBox(children=(IntProgress(value=0, max=5), HTML(value='')))"
      ]
     },
     "metadata": {},
     "output_type": "display_data"
    },
    {
     "name": "stdout",
     "output_type": "stream",
     "text": [
      "PHQ -2.7648674884387123\n",
      "PHCLQ -0.3117764675075765\n",
      "PHICE -0.26078120431167806\n",
      "LHFLX 82.49496319926973\n",
      "PREC 85.83218976165546\n",
      "WATINT -3.3374251602579683\n",
      "WATRES 0.0001985978722349871\n",
      "[1.17089687e-05 1.25799100e-06 6.11684955e-06 ... 1.80903815e-04\n",
      " 2.87557295e-03 5.55622422e-03]\n",
      "PHQ -4.1742524408086865\n",
      "PHCLQ 0.925648844976239\n",
      "PHICE 0.01997311411729659\n",
      "LHFLX 82.53163402630055\n",
      "PREC 85.7603702235604\n",
      "WATINT -3.2286304817151485\n",
      "WATRES -0.00010571554469888725\n",
      "[2.05843455e-07 8.41423819e-07 7.08327506e-07 ... 2.29340119e-05\n",
      " 2.29798584e-03 7.13025188e-04]\n",
      "PHQ -7.382135619498008\n",
      "PHCLQ 0.277626232678827\n",
      "PHICE 0.427344273149073\n",
      "LHFLX 82.59631539991689\n",
      "PREC 89.27327221321428\n",
      "WATINT -6.677165113670103\n",
      "WATRES 0.00020830037272241177\n",
      "[2.06185470e-07 1.06314285e-05 2.79761923e-06 ... 1.95603376e-03\n",
      " 9.91952934e-05 6.10313993e-04]\n",
      "PHQ -6.189917111156129\n",
      "PHCLQ -0.48956684504634335\n",
      "PHICE -0.17790610949055274\n",
      "LHFLX 82.57318119673677\n",
      "PREC 89.43032634976589\n",
      "WATINT -6.857390065693019\n",
      "WATRES 0.00024491266389840995\n",
      "[4.01414184e-06 5.34643194e-07 8.24511500e-06 ... 2.84685117e-04\n",
      " 3.27500860e-05 7.09799372e-05]\n",
      "\n"
     ]
    },
    {
     "ename": "KeyboardInterrupt",
     "evalue": "",
     "output_type": "error",
     "traceback": [
      "\u001b[0;31m---------------------------------------------------------------------------\u001b[0m",
      "\u001b[0;31mKeyboardInterrupt\u001b[0m                         Traceback (most recent call last)",
      "\u001b[0;32m~/miniconda3/lib/python3.7/site-packages/tensorflow/python/keras/api/_v1/keras/models/__init__.py\u001b[0m in \u001b[0;36m<module>\u001b[0;34m\u001b[0m\n\u001b[1;32m     18\u001b[0m         \u001b[0;32mfor\u001b[0m \u001b[0mitime\u001b[0m \u001b[0;32min\u001b[0m \u001b[0mtqdm\u001b[0m\u001b[0;34m(\u001b[0m\u001b[0mnp\u001b[0m\u001b[0;34m.\u001b[0m\u001b[0marange\u001b[0m\u001b[0;34m(\u001b[0m\u001b[0miini\u001b[0m\u001b[0;34m,\u001b[0m\u001b[0miend\u001b[0m\u001b[0;34m)\u001b[0m\u001b[0;34m)\u001b[0m\u001b[0;34m:\u001b[0m\u001b[0;34m\u001b[0m\u001b[0;34m\u001b[0m\u001b[0m\n\u001b[1;32m     19\u001b[0m             \u001b[0;31m# Get input, prediction and truth from NN\u001b[0m\u001b[0;34m\u001b[0m\u001b[0;34m\u001b[0m\u001b[0;34m\u001b[0m\u001b[0m\n\u001b[0;32m---> 20\u001b[0;31m             \u001b[0minp\u001b[0m\u001b[0;34m,\u001b[0m \u001b[0mp\u001b[0m\u001b[0;34m,\u001b[0m \u001b[0mtruth\u001b[0m \u001b[0;34m=\u001b[0m \u001b[0mmd\u001b[0m\u001b[0;34m[\u001b[0m\u001b[0mNNs\u001b[0m\u001b[0;34m]\u001b[0m\u001b[0;34m[\u001b[0m\u001b[0mdata\u001b[0m\u001b[0;34m[\u001b[0m\u001b[0;36m13\u001b[0m\u001b[0;34m:\u001b[0m\u001b[0;34m-\u001b[0m\u001b[0;36m3\u001b[0m\u001b[0;34m]\u001b[0m\u001b[0;34m]\u001b[0m\u001b[0;34m.\u001b[0m\u001b[0mget_inp_pred_truth\u001b[0m\u001b[0;34m(\u001b[0m\u001b[0mitime\u001b[0m\u001b[0;34m)\u001b[0m  \u001b[0;31m# [lat, lon, var, lev]\u001b[0m\u001b[0;34m\u001b[0m\u001b[0;34m\u001b[0m\u001b[0m\n\u001b[0m\u001b[1;32m     21\u001b[0m             \u001b[0mp\u001b[0m \u001b[0;34m=\u001b[0m \u001b[0mtruth\u001b[0m\u001b[0;34m\u001b[0m\u001b[0;34m\u001b[0m\u001b[0m\n\u001b[1;32m     22\u001b[0m             \u001b[0;31m# Convert input from relative humidity to specific humidity tendencies\u001b[0m\u001b[0;34m\u001b[0m\u001b[0;34m\u001b[0m\u001b[0;34m\u001b[0m\u001b[0m\n",
      "\u001b[0;32m~/SPCAM/CBRAIN-CAM/notebooks/tbeucler_devlog/cbrain/model_diagnostics.py\u001b[0m in \u001b[0;36mget_inp_pred_truth\u001b[0;34m(self, itime)\u001b[0m\n\u001b[1;32m     86\u001b[0m     \u001b[0;32mdef\u001b[0m \u001b[0mget_inp_pred_truth\u001b[0m\u001b[0;34m(\u001b[0m\u001b[0mself\u001b[0m\u001b[0;34m,\u001b[0m\u001b[0mitime\u001b[0m\u001b[0;34m)\u001b[0m\u001b[0;34m:\u001b[0m\u001b[0;34m\u001b[0m\u001b[0;34m\u001b[0m\u001b[0m\n\u001b[1;32m     87\u001b[0m         \u001b[0;34m\"\"\" Gets input and prediction in normalized form \"\"\"\u001b[0m\u001b[0;34m\u001b[0m\u001b[0;34m\u001b[0m\u001b[0m\n\u001b[0;32m---> 88\u001b[0;31m         \u001b[0mX\u001b[0m\u001b[0;34m,\u001b[0m \u001b[0mtruth\u001b[0m \u001b[0;34m=\u001b[0m \u001b[0mself\u001b[0m\u001b[0;34m.\u001b[0m\u001b[0mvalid_gen\u001b[0m\u001b[0;34m[\u001b[0m\u001b[0mitime\u001b[0m\u001b[0;34m]\u001b[0m\u001b[0;34m\u001b[0m\u001b[0;34m\u001b[0m\u001b[0m\n\u001b[0m\u001b[1;32m     89\u001b[0m         \u001b[0mpred\u001b[0m \u001b[0;34m=\u001b[0m \u001b[0mself\u001b[0m\u001b[0;34m.\u001b[0m\u001b[0mmodel\u001b[0m\u001b[0;34m.\u001b[0m\u001b[0mpredict_on_batch\u001b[0m\u001b[0;34m(\u001b[0m\u001b[0mX\u001b[0m\u001b[0;34m)\u001b[0m\u001b[0;34m\u001b[0m\u001b[0;34m\u001b[0m\u001b[0m\n\u001b[1;32m     90\u001b[0m         \u001b[0;32mreturn\u001b[0m \u001b[0mX\u001b[0m\u001b[0;34m.\u001b[0m\u001b[0mvalues\u001b[0m\u001b[0;34m,\u001b[0m \u001b[0mpred\u001b[0m\u001b[0;34m,\u001b[0m \u001b[0mtruth\u001b[0m\u001b[0;34m.\u001b[0m\u001b[0mvalues\u001b[0m\u001b[0;34m\u001b[0m\u001b[0;34m\u001b[0m\u001b[0m\n",
      "\u001b[0;32m~/SPCAM/CBRAIN-CAM/notebooks/tbeucler_devlog/cbrain/data_generator.py\u001b[0m in \u001b[0;36m__getitem__\u001b[0;34m(self, index)\u001b[0m\n\u001b[1;32m     77\u001b[0m \u001b[0;34m\u001b[0m\u001b[0m\n\u001b[1;32m     78\u001b[0m         \u001b[0;31m# Normalize\u001b[0m\u001b[0;34m\u001b[0m\u001b[0;34m\u001b[0m\u001b[0;34m\u001b[0m\u001b[0m\n\u001b[0;32m---> 79\u001b[0;31m         \u001b[0mX\u001b[0m \u001b[0;34m=\u001b[0m \u001b[0mself\u001b[0m\u001b[0;34m.\u001b[0m\u001b[0minput_transform\u001b[0m\u001b[0;34m.\u001b[0m\u001b[0mtransform\u001b[0m\u001b[0;34m(\u001b[0m\u001b[0mX\u001b[0m\u001b[0;34m)\u001b[0m\u001b[0;34m\u001b[0m\u001b[0;34m\u001b[0m\u001b[0m\n\u001b[0m\u001b[1;32m     80\u001b[0m         \u001b[0mY\u001b[0m \u001b[0;34m=\u001b[0m \u001b[0mself\u001b[0m\u001b[0;34m.\u001b[0m\u001b[0moutput_transform\u001b[0m\u001b[0;34m.\u001b[0m\u001b[0mtransform\u001b[0m\u001b[0;34m(\u001b[0m\u001b[0mY\u001b[0m\u001b[0;34m)\u001b[0m\u001b[0;34m\u001b[0m\u001b[0;34m\u001b[0m\u001b[0m\n\u001b[1;32m     81\u001b[0m \u001b[0;34m\u001b[0m\u001b[0m\n",
      "\u001b[0;32m~/SPCAM/CBRAIN-CAM/notebooks/tbeucler_devlog/cbrain/normalization.py\u001b[0m in \u001b[0;36mtransform\u001b[0;34m(self, x)\u001b[0m\n\u001b[1;32m     77\u001b[0m \u001b[0;34m\u001b[0m\u001b[0m\n\u001b[1;32m     78\u001b[0m     \u001b[0;32mdef\u001b[0m \u001b[0mtransform\u001b[0m\u001b[0;34m(\u001b[0m\u001b[0mself\u001b[0m\u001b[0;34m,\u001b[0m \u001b[0mx\u001b[0m\u001b[0;34m)\u001b[0m\u001b[0;34m:\u001b[0m\u001b[0;34m\u001b[0m\u001b[0;34m\u001b[0m\u001b[0m\n\u001b[0;32m---> 79\u001b[0;31m         \u001b[0;32mreturn\u001b[0m \u001b[0;34m(\u001b[0m\u001b[0mx\u001b[0m \u001b[0;34m-\u001b[0m \u001b[0mself\u001b[0m\u001b[0;34m.\u001b[0m\u001b[0msub\u001b[0m\u001b[0;34m)\u001b[0m \u001b[0;34m/\u001b[0m \u001b[0mself\u001b[0m\u001b[0;34m.\u001b[0m\u001b[0mdiv\u001b[0m\u001b[0;34m\u001b[0m\u001b[0;34m\u001b[0m\u001b[0m\n\u001b[0m\u001b[1;32m     80\u001b[0m \u001b[0;34m\u001b[0m\u001b[0m\n\u001b[1;32m     81\u001b[0m     \u001b[0;32mdef\u001b[0m \u001b[0minverse_transform\u001b[0m\u001b[0;34m(\u001b[0m\u001b[0mself\u001b[0m\u001b[0;34m,\u001b[0m \u001b[0mx\u001b[0m\u001b[0;34m)\u001b[0m\u001b[0;34m:\u001b[0m\u001b[0;34m\u001b[0m\u001b[0;34m\u001b[0m\u001b[0m\n",
      "\u001b[0;32m~/miniconda3/lib/python3.7/site-packages/xarray/core/dataarray.py\u001b[0m in \u001b[0;36mfunc\u001b[0;34m(self, other)\u001b[0m\n\u001b[1;32m   2238\u001b[0m \u001b[0;34m\u001b[0m\u001b[0m\n\u001b[1;32m   2239\u001b[0m             variable = (f(self.variable, other_variable)\n\u001b[0;32m-> 2240\u001b[0;31m                         \u001b[0;32mif\u001b[0m \u001b[0;32mnot\u001b[0m \u001b[0mreflexive\u001b[0m\u001b[0;34m\u001b[0m\u001b[0;34m\u001b[0m\u001b[0m\n\u001b[0m\u001b[1;32m   2241\u001b[0m                         else f(other_variable, self.variable))\n\u001b[1;32m   2242\u001b[0m             \u001b[0mcoords\u001b[0m \u001b[0;34m=\u001b[0m \u001b[0mself\u001b[0m\u001b[0;34m.\u001b[0m\u001b[0mcoords\u001b[0m\u001b[0;34m.\u001b[0m\u001b[0m_merge_raw\u001b[0m\u001b[0;34m(\u001b[0m\u001b[0mother_coords\u001b[0m\u001b[0;34m)\u001b[0m\u001b[0;34m\u001b[0m\u001b[0;34m\u001b[0m\u001b[0m\n",
      "\u001b[0;32m~/miniconda3/lib/python3.7/site-packages/xarray/core/variable.py\u001b[0m in \u001b[0;36mfunc\u001b[0;34m(self, other)\u001b[0m\n\u001b[1;32m   1794\u001b[0m             \u001b[0;32mif\u001b[0m \u001b[0misinstance\u001b[0m\u001b[0;34m(\u001b[0m\u001b[0mother\u001b[0m\u001b[0;34m,\u001b[0m \u001b[0;34m(\u001b[0m\u001b[0mxr\u001b[0m\u001b[0;34m.\u001b[0m\u001b[0mDataArray\u001b[0m\u001b[0;34m,\u001b[0m \u001b[0mxr\u001b[0m\u001b[0;34m.\u001b[0m\u001b[0mDataset\u001b[0m\u001b[0;34m)\u001b[0m\u001b[0;34m)\u001b[0m\u001b[0;34m:\u001b[0m\u001b[0;34m\u001b[0m\u001b[0;34m\u001b[0m\u001b[0m\n\u001b[1;32m   1795\u001b[0m                 \u001b[0;32mreturn\u001b[0m \u001b[0mNotImplemented\u001b[0m\u001b[0;34m\u001b[0m\u001b[0;34m\u001b[0m\u001b[0m\n\u001b[0;32m-> 1796\u001b[0;31m             \u001b[0mself_data\u001b[0m\u001b[0;34m,\u001b[0m \u001b[0mother_data\u001b[0m\u001b[0;34m,\u001b[0m \u001b[0mdims\u001b[0m \u001b[0;34m=\u001b[0m \u001b[0m_broadcast_compat_data\u001b[0m\u001b[0;34m(\u001b[0m\u001b[0mself\u001b[0m\u001b[0;34m,\u001b[0m \u001b[0mother\u001b[0m\u001b[0;34m)\u001b[0m\u001b[0;34m\u001b[0m\u001b[0;34m\u001b[0m\u001b[0m\n\u001b[0m\u001b[1;32m   1797\u001b[0m             \u001b[0mkeep_attrs\u001b[0m \u001b[0;34m=\u001b[0m \u001b[0m_get_keep_attrs\u001b[0m\u001b[0;34m(\u001b[0m\u001b[0mdefault\u001b[0m\u001b[0;34m=\u001b[0m\u001b[0;32mFalse\u001b[0m\u001b[0;34m)\u001b[0m\u001b[0;34m\u001b[0m\u001b[0;34m\u001b[0m\u001b[0m\n\u001b[1;32m   1798\u001b[0m             \u001b[0mattrs\u001b[0m \u001b[0;34m=\u001b[0m \u001b[0mself\u001b[0m\u001b[0;34m.\u001b[0m\u001b[0m_attrs\u001b[0m \u001b[0;32mif\u001b[0m \u001b[0mkeep_attrs\u001b[0m \u001b[0;32melse\u001b[0m \u001b[0;32mNone\u001b[0m\u001b[0;34m\u001b[0m\u001b[0;34m\u001b[0m\u001b[0m\n",
      "\u001b[0;32m~/miniconda3/lib/python3.7/site-packages/xarray/core/variable.py\u001b[0m in \u001b[0;36m_broadcast_compat_data\u001b[0;34m(self, other)\u001b[0m\n\u001b[1;32m   2083\u001b[0m     \u001b[0;32melse\u001b[0m\u001b[0;34m:\u001b[0m\u001b[0;34m\u001b[0m\u001b[0;34m\u001b[0m\u001b[0m\n\u001b[1;32m   2084\u001b[0m         \u001b[0;31m# rely on numpy broadcasting rules\u001b[0m\u001b[0;34m\u001b[0m\u001b[0;34m\u001b[0m\u001b[0;34m\u001b[0m\u001b[0m\n\u001b[0;32m-> 2085\u001b[0;31m         \u001b[0mself_data\u001b[0m \u001b[0;34m=\u001b[0m \u001b[0mself\u001b[0m\u001b[0;34m.\u001b[0m\u001b[0mdata\u001b[0m\u001b[0;34m\u001b[0m\u001b[0;34m\u001b[0m\u001b[0m\n\u001b[0m\u001b[1;32m   2086\u001b[0m         \u001b[0mother_data\u001b[0m \u001b[0;34m=\u001b[0m \u001b[0mother\u001b[0m\u001b[0;34m\u001b[0m\u001b[0;34m\u001b[0m\u001b[0m\n\u001b[1;32m   2087\u001b[0m         \u001b[0mdims\u001b[0m \u001b[0;34m=\u001b[0m \u001b[0mself\u001b[0m\u001b[0;34m.\u001b[0m\u001b[0mdims\u001b[0m\u001b[0;34m\u001b[0m\u001b[0;34m\u001b[0m\u001b[0m\n",
      "\u001b[0;32m~/miniconda3/lib/python3.7/site-packages/xarray/core/variable.py\u001b[0m in \u001b[0;36mdata\u001b[0;34m(self)\u001b[0m\n\u001b[1;32m    292\u001b[0m             \u001b[0;32mreturn\u001b[0m \u001b[0mself\u001b[0m\u001b[0;34m.\u001b[0m\u001b[0m_data\u001b[0m\u001b[0;34m\u001b[0m\u001b[0;34m\u001b[0m\u001b[0m\n\u001b[1;32m    293\u001b[0m         \u001b[0;32melse\u001b[0m\u001b[0;34m:\u001b[0m\u001b[0;34m\u001b[0m\u001b[0;34m\u001b[0m\u001b[0m\n\u001b[0;32m--> 294\u001b[0;31m             \u001b[0;32mreturn\u001b[0m \u001b[0mself\u001b[0m\u001b[0;34m.\u001b[0m\u001b[0mvalues\u001b[0m\u001b[0;34m\u001b[0m\u001b[0;34m\u001b[0m\u001b[0m\n\u001b[0m\u001b[1;32m    295\u001b[0m \u001b[0;34m\u001b[0m\u001b[0m\n\u001b[1;32m    296\u001b[0m     \u001b[0;34m@\u001b[0m\u001b[0mdata\u001b[0m\u001b[0;34m.\u001b[0m\u001b[0msetter\u001b[0m\u001b[0;34m\u001b[0m\u001b[0;34m\u001b[0m\u001b[0m\n",
      "\u001b[0;32m~/miniconda3/lib/python3.7/site-packages/xarray/core/variable.py\u001b[0m in \u001b[0;36mvalues\u001b[0;34m(self)\u001b[0m\n\u001b[1;32m    387\u001b[0m     \u001b[0;32mdef\u001b[0m \u001b[0mvalues\u001b[0m\u001b[0;34m(\u001b[0m\u001b[0mself\u001b[0m\u001b[0;34m)\u001b[0m\u001b[0;34m:\u001b[0m\u001b[0;34m\u001b[0m\u001b[0;34m\u001b[0m\u001b[0m\n\u001b[1;32m    388\u001b[0m         \u001b[0;34m\"\"\"The variable's data as a numpy.ndarray\"\"\"\u001b[0m\u001b[0;34m\u001b[0m\u001b[0;34m\u001b[0m\u001b[0m\n\u001b[0;32m--> 389\u001b[0;31m         \u001b[0;32mreturn\u001b[0m \u001b[0m_as_array_or_item\u001b[0m\u001b[0;34m(\u001b[0m\u001b[0mself\u001b[0m\u001b[0;34m.\u001b[0m\u001b[0m_data\u001b[0m\u001b[0;34m)\u001b[0m\u001b[0;34m\u001b[0m\u001b[0;34m\u001b[0m\u001b[0m\n\u001b[0m\u001b[1;32m    390\u001b[0m \u001b[0;34m\u001b[0m\u001b[0m\n\u001b[1;32m    391\u001b[0m     \u001b[0;34m@\u001b[0m\u001b[0mvalues\u001b[0m\u001b[0;34m.\u001b[0m\u001b[0msetter\u001b[0m\u001b[0;34m\u001b[0m\u001b[0;34m\u001b[0m\u001b[0m\n",
      "\u001b[0;32m~/miniconda3/lib/python3.7/site-packages/xarray/core/variable.py\u001b[0m in \u001b[0;36m_as_array_or_item\u001b[0;34m(data)\u001b[0m\n\u001b[1;32m    208\u001b[0m     \u001b[0mTODO\u001b[0m\u001b[0;34m:\u001b[0m \u001b[0mremove\u001b[0m \u001b[0mthis\u001b[0m \u001b[0;34m(\u001b[0m\u001b[0mreplace\u001b[0m \u001b[0;32mwith\u001b[0m \u001b[0mnp\u001b[0m\u001b[0;34m.\u001b[0m\u001b[0masarray\u001b[0m\u001b[0;34m)\u001b[0m \u001b[0monce\u001b[0m \u001b[0mthese\u001b[0m \u001b[0missues\u001b[0m \u001b[0mare\u001b[0m \u001b[0mfixed\u001b[0m\u001b[0;34m\u001b[0m\u001b[0;34m\u001b[0m\u001b[0m\n\u001b[1;32m    209\u001b[0m     \"\"\"\n\u001b[0;32m--> 210\u001b[0;31m     \u001b[0mdata\u001b[0m \u001b[0;34m=\u001b[0m \u001b[0mnp\u001b[0m\u001b[0;34m.\u001b[0m\u001b[0masarray\u001b[0m\u001b[0;34m(\u001b[0m\u001b[0mdata\u001b[0m\u001b[0;34m)\u001b[0m\u001b[0;34m\u001b[0m\u001b[0;34m\u001b[0m\u001b[0m\n\u001b[0m\u001b[1;32m    211\u001b[0m     \u001b[0;32mif\u001b[0m \u001b[0mdata\u001b[0m\u001b[0;34m.\u001b[0m\u001b[0mndim\u001b[0m \u001b[0;34m==\u001b[0m \u001b[0;36m0\u001b[0m\u001b[0;34m:\u001b[0m\u001b[0;34m\u001b[0m\u001b[0;34m\u001b[0m\u001b[0m\n\u001b[1;32m    212\u001b[0m         \u001b[0;32mif\u001b[0m \u001b[0mdata\u001b[0m\u001b[0;34m.\u001b[0m\u001b[0mdtype\u001b[0m\u001b[0;34m.\u001b[0m\u001b[0mkind\u001b[0m \u001b[0;34m==\u001b[0m \u001b[0;34m'M'\u001b[0m\u001b[0;34m:\u001b[0m\u001b[0;34m\u001b[0m\u001b[0;34m\u001b[0m\u001b[0m\n",
      "\u001b[0;32m~/miniconda3/lib/python3.7/site-packages/numpy/core/_asarray.py\u001b[0m in \u001b[0;36masarray\u001b[0;34m(a, dtype, order)\u001b[0m\n\u001b[1;32m     83\u001b[0m \u001b[0;34m\u001b[0m\u001b[0m\n\u001b[1;32m     84\u001b[0m     \"\"\"\n\u001b[0;32m---> 85\u001b[0;31m     \u001b[0;32mreturn\u001b[0m \u001b[0marray\u001b[0m\u001b[0;34m(\u001b[0m\u001b[0ma\u001b[0m\u001b[0;34m,\u001b[0m \u001b[0mdtype\u001b[0m\u001b[0;34m,\u001b[0m \u001b[0mcopy\u001b[0m\u001b[0;34m=\u001b[0m\u001b[0;32mFalse\u001b[0m\u001b[0;34m,\u001b[0m \u001b[0morder\u001b[0m\u001b[0;34m=\u001b[0m\u001b[0morder\u001b[0m\u001b[0;34m)\u001b[0m\u001b[0;34m\u001b[0m\u001b[0;34m\u001b[0m\u001b[0m\n\u001b[0m\u001b[1;32m     86\u001b[0m \u001b[0;34m\u001b[0m\u001b[0m\n\u001b[1;32m     87\u001b[0m \u001b[0;34m\u001b[0m\u001b[0m\n",
      "\u001b[0;32m~/miniconda3/lib/python3.7/site-packages/xarray/core/indexing.py\u001b[0m in \u001b[0;36m__array__\u001b[0;34m(self, dtype)\u001b[0m\n\u001b[1;32m    630\u001b[0m \u001b[0;34m\u001b[0m\u001b[0m\n\u001b[1;32m    631\u001b[0m     \u001b[0;32mdef\u001b[0m \u001b[0m__array__\u001b[0m\u001b[0;34m(\u001b[0m\u001b[0mself\u001b[0m\u001b[0;34m,\u001b[0m \u001b[0mdtype\u001b[0m\u001b[0;34m=\u001b[0m\u001b[0;32mNone\u001b[0m\u001b[0;34m)\u001b[0m\u001b[0;34m:\u001b[0m\u001b[0;34m\u001b[0m\u001b[0;34m\u001b[0m\u001b[0m\n\u001b[0;32m--> 632\u001b[0;31m         \u001b[0mself\u001b[0m\u001b[0;34m.\u001b[0m\u001b[0m_ensure_cached\u001b[0m\u001b[0;34m(\u001b[0m\u001b[0;34m)\u001b[0m\u001b[0;34m\u001b[0m\u001b[0;34m\u001b[0m\u001b[0m\n\u001b[0m\u001b[1;32m    633\u001b[0m         \u001b[0;32mreturn\u001b[0m \u001b[0mnp\u001b[0m\u001b[0;34m.\u001b[0m\u001b[0masarray\u001b[0m\u001b[0;34m(\u001b[0m\u001b[0mself\u001b[0m\u001b[0;34m.\u001b[0m\u001b[0marray\u001b[0m\u001b[0;34m,\u001b[0m \u001b[0mdtype\u001b[0m\u001b[0;34m=\u001b[0m\u001b[0mdtype\u001b[0m\u001b[0;34m)\u001b[0m\u001b[0;34m\u001b[0m\u001b[0;34m\u001b[0m\u001b[0m\n\u001b[1;32m    634\u001b[0m \u001b[0;34m\u001b[0m\u001b[0m\n",
      "\u001b[0;32m~/miniconda3/lib/python3.7/site-packages/xarray/core/indexing.py\u001b[0m in \u001b[0;36m_ensure_cached\u001b[0;34m(self)\u001b[0m\n\u001b[1;32m    627\u001b[0m     \u001b[0;32mdef\u001b[0m \u001b[0m_ensure_cached\u001b[0m\u001b[0;34m(\u001b[0m\u001b[0mself\u001b[0m\u001b[0;34m)\u001b[0m\u001b[0;34m:\u001b[0m\u001b[0;34m\u001b[0m\u001b[0;34m\u001b[0m\u001b[0m\n\u001b[1;32m    628\u001b[0m         \u001b[0;32mif\u001b[0m \u001b[0;32mnot\u001b[0m \u001b[0misinstance\u001b[0m\u001b[0;34m(\u001b[0m\u001b[0mself\u001b[0m\u001b[0;34m.\u001b[0m\u001b[0marray\u001b[0m\u001b[0;34m,\u001b[0m \u001b[0mNumpyIndexingAdapter\u001b[0m\u001b[0;34m)\u001b[0m\u001b[0;34m:\u001b[0m\u001b[0;34m\u001b[0m\u001b[0;34m\u001b[0m\u001b[0m\n\u001b[0;32m--> 629\u001b[0;31m             \u001b[0mself\u001b[0m\u001b[0;34m.\u001b[0m\u001b[0marray\u001b[0m \u001b[0;34m=\u001b[0m \u001b[0mNumpyIndexingAdapter\u001b[0m\u001b[0;34m(\u001b[0m\u001b[0mnp\u001b[0m\u001b[0;34m.\u001b[0m\u001b[0masarray\u001b[0m\u001b[0;34m(\u001b[0m\u001b[0mself\u001b[0m\u001b[0;34m.\u001b[0m\u001b[0marray\u001b[0m\u001b[0;34m)\u001b[0m\u001b[0;34m)\u001b[0m\u001b[0;34m\u001b[0m\u001b[0;34m\u001b[0m\u001b[0m\n\u001b[0m\u001b[1;32m    630\u001b[0m \u001b[0;34m\u001b[0m\u001b[0m\n\u001b[1;32m    631\u001b[0m     \u001b[0;32mdef\u001b[0m \u001b[0m__array__\u001b[0m\u001b[0;34m(\u001b[0m\u001b[0mself\u001b[0m\u001b[0;34m,\u001b[0m \u001b[0mdtype\u001b[0m\u001b[0;34m=\u001b[0m\u001b[0;32mNone\u001b[0m\u001b[0;34m)\u001b[0m\u001b[0;34m:\u001b[0m\u001b[0;34m\u001b[0m\u001b[0;34m\u001b[0m\u001b[0m\n",
      "\u001b[0;32m~/miniconda3/lib/python3.7/site-packages/numpy/core/_asarray.py\u001b[0m in \u001b[0;36masarray\u001b[0;34m(a, dtype, order)\u001b[0m\n\u001b[1;32m     83\u001b[0m \u001b[0;34m\u001b[0m\u001b[0m\n\u001b[1;32m     84\u001b[0m     \"\"\"\n\u001b[0;32m---> 85\u001b[0;31m     \u001b[0;32mreturn\u001b[0m \u001b[0marray\u001b[0m\u001b[0;34m(\u001b[0m\u001b[0ma\u001b[0m\u001b[0;34m,\u001b[0m \u001b[0mdtype\u001b[0m\u001b[0;34m,\u001b[0m \u001b[0mcopy\u001b[0m\u001b[0;34m=\u001b[0m\u001b[0;32mFalse\u001b[0m\u001b[0;34m,\u001b[0m \u001b[0morder\u001b[0m\u001b[0;34m=\u001b[0m\u001b[0morder\u001b[0m\u001b[0;34m)\u001b[0m\u001b[0;34m\u001b[0m\u001b[0;34m\u001b[0m\u001b[0m\n\u001b[0m\u001b[1;32m     86\u001b[0m \u001b[0;34m\u001b[0m\u001b[0m\n\u001b[1;32m     87\u001b[0m \u001b[0;34m\u001b[0m\u001b[0m\n",
      "\u001b[0;32m~/miniconda3/lib/python3.7/site-packages/xarray/core/indexing.py\u001b[0m in \u001b[0;36m__array__\u001b[0;34m(self, dtype)\u001b[0m\n\u001b[1;32m    608\u001b[0m \u001b[0;34m\u001b[0m\u001b[0m\n\u001b[1;32m    609\u001b[0m     \u001b[0;32mdef\u001b[0m \u001b[0m__array__\u001b[0m\u001b[0;34m(\u001b[0m\u001b[0mself\u001b[0m\u001b[0;34m,\u001b[0m \u001b[0mdtype\u001b[0m\u001b[0;34m=\u001b[0m\u001b[0;32mNone\u001b[0m\u001b[0;34m)\u001b[0m\u001b[0;34m:\u001b[0m\u001b[0;34m\u001b[0m\u001b[0;34m\u001b[0m\u001b[0m\n\u001b[0;32m--> 610\u001b[0;31m         \u001b[0;32mreturn\u001b[0m \u001b[0mnp\u001b[0m\u001b[0;34m.\u001b[0m\u001b[0masarray\u001b[0m\u001b[0;34m(\u001b[0m\u001b[0mself\u001b[0m\u001b[0;34m.\u001b[0m\u001b[0marray\u001b[0m\u001b[0;34m,\u001b[0m \u001b[0mdtype\u001b[0m\u001b[0;34m=\u001b[0m\u001b[0mdtype\u001b[0m\u001b[0;34m)\u001b[0m\u001b[0;34m\u001b[0m\u001b[0;34m\u001b[0m\u001b[0m\n\u001b[0m\u001b[1;32m    611\u001b[0m \u001b[0;34m\u001b[0m\u001b[0m\n\u001b[1;32m    612\u001b[0m     \u001b[0;32mdef\u001b[0m \u001b[0m__getitem__\u001b[0m\u001b[0;34m(\u001b[0m\u001b[0mself\u001b[0m\u001b[0;34m,\u001b[0m \u001b[0mkey\u001b[0m\u001b[0;34m)\u001b[0m\u001b[0;34m:\u001b[0m\u001b[0;34m\u001b[0m\u001b[0;34m\u001b[0m\u001b[0m\n",
      "\u001b[0;32m~/miniconda3/lib/python3.7/site-packages/numpy/core/_asarray.py\u001b[0m in \u001b[0;36masarray\u001b[0;34m(a, dtype, order)\u001b[0m\n\u001b[1;32m     83\u001b[0m \u001b[0;34m\u001b[0m\u001b[0m\n\u001b[1;32m     84\u001b[0m     \"\"\"\n\u001b[0;32m---> 85\u001b[0;31m     \u001b[0;32mreturn\u001b[0m \u001b[0marray\u001b[0m\u001b[0;34m(\u001b[0m\u001b[0ma\u001b[0m\u001b[0;34m,\u001b[0m \u001b[0mdtype\u001b[0m\u001b[0;34m,\u001b[0m \u001b[0mcopy\u001b[0m\u001b[0;34m=\u001b[0m\u001b[0;32mFalse\u001b[0m\u001b[0;34m,\u001b[0m \u001b[0morder\u001b[0m\u001b[0;34m=\u001b[0m\u001b[0morder\u001b[0m\u001b[0;34m)\u001b[0m\u001b[0;34m\u001b[0m\u001b[0;34m\u001b[0m\u001b[0m\n\u001b[0m\u001b[1;32m     86\u001b[0m \u001b[0;34m\u001b[0m\u001b[0m\n\u001b[1;32m     87\u001b[0m \u001b[0;34m\u001b[0m\u001b[0m\n",
      "\u001b[0;32m~/miniconda3/lib/python3.7/site-packages/xarray/core/indexing.py\u001b[0m in \u001b[0;36m__array__\u001b[0;34m(self, dtype)\u001b[0m\n\u001b[1;32m    514\u001b[0m     \u001b[0;32mdef\u001b[0m \u001b[0m__array__\u001b[0m\u001b[0;34m(\u001b[0m\u001b[0mself\u001b[0m\u001b[0;34m,\u001b[0m \u001b[0mdtype\u001b[0m\u001b[0;34m=\u001b[0m\u001b[0;32mNone\u001b[0m\u001b[0;34m)\u001b[0m\u001b[0;34m:\u001b[0m\u001b[0;34m\u001b[0m\u001b[0;34m\u001b[0m\u001b[0m\n\u001b[1;32m    515\u001b[0m         \u001b[0marray\u001b[0m \u001b[0;34m=\u001b[0m \u001b[0mas_indexable\u001b[0m\u001b[0;34m(\u001b[0m\u001b[0mself\u001b[0m\u001b[0;34m.\u001b[0m\u001b[0marray\u001b[0m\u001b[0;34m)\u001b[0m\u001b[0;34m\u001b[0m\u001b[0;34m\u001b[0m\u001b[0m\n\u001b[0;32m--> 516\u001b[0;31m         \u001b[0;32mreturn\u001b[0m \u001b[0mnp\u001b[0m\u001b[0;34m.\u001b[0m\u001b[0masarray\u001b[0m\u001b[0;34m(\u001b[0m\u001b[0marray\u001b[0m\u001b[0;34m[\u001b[0m\u001b[0mself\u001b[0m\u001b[0;34m.\u001b[0m\u001b[0mkey\u001b[0m\u001b[0;34m]\u001b[0m\u001b[0;34m,\u001b[0m \u001b[0mdtype\u001b[0m\u001b[0;34m=\u001b[0m\u001b[0;32mNone\u001b[0m\u001b[0;34m)\u001b[0m\u001b[0;34m\u001b[0m\u001b[0;34m\u001b[0m\u001b[0m\n\u001b[0m\u001b[1;32m    517\u001b[0m \u001b[0;34m\u001b[0m\u001b[0m\n\u001b[1;32m    518\u001b[0m     \u001b[0;32mdef\u001b[0m \u001b[0mtranspose\u001b[0m\u001b[0;34m(\u001b[0m\u001b[0mself\u001b[0m\u001b[0;34m,\u001b[0m \u001b[0morder\u001b[0m\u001b[0;34m)\u001b[0m\u001b[0;34m:\u001b[0m\u001b[0;34m\u001b[0m\u001b[0;34m\u001b[0m\u001b[0m\n",
      "\u001b[0;32m~/miniconda3/lib/python3.7/site-packages/xarray/backends/netCDF4_.py\u001b[0m in \u001b[0;36m__getitem__\u001b[0;34m(self, key)\u001b[0m\n\u001b[1;32m     68\u001b[0m         return indexing.explicit_indexing_adapter(\n\u001b[1;32m     69\u001b[0m             \u001b[0mkey\u001b[0m\u001b[0;34m,\u001b[0m \u001b[0mself\u001b[0m\u001b[0;34m.\u001b[0m\u001b[0mshape\u001b[0m\u001b[0;34m,\u001b[0m \u001b[0mindexing\u001b[0m\u001b[0;34m.\u001b[0m\u001b[0mIndexingSupport\u001b[0m\u001b[0;34m.\u001b[0m\u001b[0mOUTER\u001b[0m\u001b[0;34m,\u001b[0m\u001b[0;34m\u001b[0m\u001b[0;34m\u001b[0m\u001b[0m\n\u001b[0;32m---> 70\u001b[0;31m             self._getitem)\n\u001b[0m\u001b[1;32m     71\u001b[0m \u001b[0;34m\u001b[0m\u001b[0m\n\u001b[1;32m     72\u001b[0m     \u001b[0;32mdef\u001b[0m \u001b[0m_getitem\u001b[0m\u001b[0;34m(\u001b[0m\u001b[0mself\u001b[0m\u001b[0;34m,\u001b[0m \u001b[0mkey\u001b[0m\u001b[0;34m)\u001b[0m\u001b[0;34m:\u001b[0m\u001b[0;34m\u001b[0m\u001b[0;34m\u001b[0m\u001b[0m\n",
      "\u001b[0;32m~/miniconda3/lib/python3.7/site-packages/xarray/core/indexing.py\u001b[0m in \u001b[0;36mexplicit_indexing_adapter\u001b[0;34m(key, shape, indexing_support, raw_indexing_method)\u001b[0m\n\u001b[1;32m    782\u001b[0m     \"\"\"\n\u001b[1;32m    783\u001b[0m     \u001b[0mraw_key\u001b[0m\u001b[0;34m,\u001b[0m \u001b[0mnumpy_indices\u001b[0m \u001b[0;34m=\u001b[0m \u001b[0mdecompose_indexer\u001b[0m\u001b[0;34m(\u001b[0m\u001b[0mkey\u001b[0m\u001b[0;34m,\u001b[0m \u001b[0mshape\u001b[0m\u001b[0;34m,\u001b[0m \u001b[0mindexing_support\u001b[0m\u001b[0;34m)\u001b[0m\u001b[0;34m\u001b[0m\u001b[0;34m\u001b[0m\u001b[0m\n\u001b[0;32m--> 784\u001b[0;31m     \u001b[0mresult\u001b[0m \u001b[0;34m=\u001b[0m \u001b[0mraw_indexing_method\u001b[0m\u001b[0;34m(\u001b[0m\u001b[0mraw_key\u001b[0m\u001b[0;34m.\u001b[0m\u001b[0mtuple\u001b[0m\u001b[0;34m)\u001b[0m\u001b[0;34m\u001b[0m\u001b[0;34m\u001b[0m\u001b[0m\n\u001b[0m\u001b[1;32m    785\u001b[0m     \u001b[0;32mif\u001b[0m \u001b[0mnumpy_indices\u001b[0m\u001b[0;34m.\u001b[0m\u001b[0mtuple\u001b[0m\u001b[0;34m:\u001b[0m\u001b[0;34m\u001b[0m\u001b[0;34m\u001b[0m\u001b[0m\n\u001b[1;32m    786\u001b[0m         \u001b[0;31m# index the loaded np.ndarray\u001b[0m\u001b[0;34m\u001b[0m\u001b[0;34m\u001b[0m\u001b[0;34m\u001b[0m\u001b[0m\n",
      "\u001b[0;32m~/miniconda3/lib/python3.7/site-packages/xarray/backends/netCDF4_.py\u001b[0m in \u001b[0;36m_getitem\u001b[0;34m(self, key)\u001b[0m\n\u001b[1;32m     79\u001b[0m             \u001b[0;32mwith\u001b[0m \u001b[0mself\u001b[0m\u001b[0;34m.\u001b[0m\u001b[0mdatastore\u001b[0m\u001b[0;34m.\u001b[0m\u001b[0mlock\u001b[0m\u001b[0;34m:\u001b[0m\u001b[0;34m\u001b[0m\u001b[0;34m\u001b[0m\u001b[0m\n\u001b[1;32m     80\u001b[0m                 \u001b[0moriginal_array\u001b[0m \u001b[0;34m=\u001b[0m \u001b[0mself\u001b[0m\u001b[0;34m.\u001b[0m\u001b[0mget_array\u001b[0m\u001b[0;34m(\u001b[0m\u001b[0mneeds_lock\u001b[0m\u001b[0;34m=\u001b[0m\u001b[0;32mFalse\u001b[0m\u001b[0;34m)\u001b[0m\u001b[0;34m\u001b[0m\u001b[0;34m\u001b[0m\u001b[0m\n\u001b[0;32m---> 81\u001b[0;31m                 \u001b[0marray\u001b[0m \u001b[0;34m=\u001b[0m \u001b[0mgetitem\u001b[0m\u001b[0;34m(\u001b[0m\u001b[0moriginal_array\u001b[0m\u001b[0;34m,\u001b[0m \u001b[0mkey\u001b[0m\u001b[0;34m)\u001b[0m\u001b[0;34m\u001b[0m\u001b[0;34m\u001b[0m\u001b[0m\n\u001b[0m\u001b[1;32m     82\u001b[0m         \u001b[0;32mexcept\u001b[0m \u001b[0mIndexError\u001b[0m\u001b[0;34m:\u001b[0m\u001b[0;34m\u001b[0m\u001b[0;34m\u001b[0m\u001b[0m\n\u001b[1;32m     83\u001b[0m             \u001b[0;31m# Catch IndexError in netCDF4 and return a more informative\u001b[0m\u001b[0;34m\u001b[0m\u001b[0;34m\u001b[0m\u001b[0;34m\u001b[0m\u001b[0m\n",
      "\u001b[0;31mKeyboardInterrupt\u001b[0m: "
     ]
    }
   ],
   "source": [
    "# Starts from input vector\n",
    "lat_ind = np.arange(0,64)\n",
    "iini = 200 # Initial time to sample\n",
    "iend = iini+5 # One day later\n",
    "\n",
    "diagno = {} # Diagnostics structure\n",
    "SE = {} # Squared error structure\n",
    "RES = {} # Residual structure\n",
    "diagno['truth'] = {} # Diagnostics structure for the truth\n",
    "for i,NNs in enumerate(NNarray):\n",
    "    print('i=',i,'& NNs=',NNs,'         ')\n",
    "    diagno[NNs] = {} # Diagnostics structure for each NN\n",
    "    SE[NNs] = {} # Squared error for each NN\n",
    "    for j,data in enumerate(data_file):\n",
    "        diagno[NNs][data[13:-3]] = {} # Diagnostics structure for each data file\n",
    "        if i==0: diagno['truth'][data[13:-3]] = {}\n",
    "        print('j=',j,'& data=',data,'         ',end='\\r')\n",
    "        for itime in tqdm(np.arange(iini,iend)):\n",
    "            # Get input, prediction and truth from NN\n",
    "            inp, p, truth = md[NNs][data[13:-3]].get_inp_pred_truth(itime)  # [lat, lon, var, lev]\n",
    "            p = truth\n",
    "            # Convert input from relative humidity to specific humidity tendencies\n",
    "            inpRH_phys = inp*md[NNs][data[13:-3]].valid_gen.input_transform.div+\\\n",
    "            md[NNs][data[13:-3]].valid_gen.input_transform.sub\n",
    "            #pRH_phys = p/md[NNs][data[13:-3]].valid_gen.output_transform.scale\n",
    "            pRH_phys = md[NNs][data[13:-3]].valid_gen.output_transform.inverse_transform(p)\n",
    "            QV1 = qv(inpRH_phys[:,90:120],inpRH_phys[:,:30],P0,inpRH_phys[:,300],hyam,hybm)\n",
    "            QV2 = qv(inpRH_phys[:,90:120]+DT*pRH_phys[:,90:120],\n",
    "                     inpRH_phys[:,:30]+DT*pRH_phys[:,:30],P0,inpRH_phys[:,300],hyam,hybm)\n",
    "            dQVdt = scale_dict0['PHQ']*(QV2-QV1)/DT\n",
    "            # Create equivalent specific humidity md object for residual\n",
    "            md0 = md[NNs][data[13:-3]]\n",
    "            md0.valid_gen.output_transform.scale[:30] = scale_dict0['PHQ']\n",
    "            newpred = p\n",
    "            newpred[:,:30] = dQVdt\n",
    "            #print('inp',np.mean(inpRH_phys[:,:60],axis=0))\n",
    "            #print('p',np.mean(newpred[:,:60],axis=0))\n",
    "            print(mass_res_md(md=md0,inp=inp,pred=newpred))\n",
    "          #         Tprior = inp[:,self.TBP_idx]*self.inp_divQ[self.TBP_idx]+self.inp_subQ[self.TBP_idx]\n",
    "#         PSprior = inp[:,self.PS_idx]*self.inp_divQ[self.PS_idx]+self.inp_subQ[self.PS_idx]\n",
    "#         dqvdtprior = prior[:,self.QBP_idx]/self.norm_qQ\n",
    "        \n",
    "#         dRHdtprior = RH(Tprior,dqvdtprior,P0,PSprior,self.hyam,self.hybm)*self.norm_qRH\n",
    "#         post = tf.concat([dRHdtprior,prior[:,30:]], axis=1)"
   ]
  },
  {
   "cell_type": "code",
   "execution_count": 177,
   "metadata": {},
   "outputs": [
    {
     "data": {
      "image/png": "[encoded data removed]",
      "text/plain": [
       "<Figure size 432x288 with 1 Axes>"
      ]
     },
     "metadata": {
      "needs_background": "light"
     },
     "output_type": "display_data"
    }
   ],
   "source": [
    "plt.hist((inpRH_phys[:,:30]+DT*pRH_phys[:,:30]).flatten(),bins=100);"
   ]
  },
  {
   "cell_type": "code",
   "execution_count": 101,
   "metadata": {},
   "outputs": [
    {
     "data": {
      "image/png": "[encoded data removed]",
      "text/plain": [
       "<Figure size 432x288 with 1 Axes>"
      ]
     },
     "metadata": {
      "needs_background": "light"
     },
     "output_type": "display_data"
    }
   ],
   "source": [
    "plt.hist((DT*pRH_phys[:,:30]).flatten(),bins=100);"
   ]
  },
  {
   "cell_type": "code",
   "execution_count": 105,
   "metadata": {},
   "outputs": [
    {
     "data": {
      "image/png": "[encoded data removed]",
      "text/plain": [
       "<Figure size 432x288 with 1 Axes>"
      ]
     },
     "metadata": {
      "needs_background": "light"
     },
     "output_type": "display_data"
    }
   ],
   "source": [
    "plt.hist((inpRH_phys[:,:30]).flatten(),bins=100);"
   ]
  },
  {
   "cell_type": "code",
   "execution_count": 60,
   "metadata": {},
   "outputs": [
    {
     "data": {
      "text/plain": [
       "[<matplotlib.lines.Line2D at 0x149f89e915f8>]"
      ]
     },
     "execution_count": 60,
     "metadata": {},
     "output_type": "execute_result"
    },
    {
     "data": {
      "image/png": "[encoded data removed]",
      "text/plain": [
       "<Figure size 432x288 with 1 Axes>"
      ]
     },
     "metadata": {
      "needs_background": "light"
     },
     "output_type": "display_data"
    }
   ],
   "source": [
    "plt.plot(np.mean(QV1,axis=0),linestyle='-')\n",
    "plt.plot(np.min(QV1,axis=0),linestyle='-')\n",
    "plt.plot(np.max(QV1,axis=0),linestyle='-')\n",
    "plt.plot(np.mean(QV2,axis=0),linestyle=':')\n",
    "plt.plot(np.min(QV2,axis=0),linestyle=':')\n",
    "plt.plot(np.max(QV2,axis=0),linestyle=':')"
   ]
  },
  {
   "cell_type": "code",
   "execution_count": 62,
   "metadata": {},
   "outputs": [
    {
     "data": {
      "text/plain": [
       "[<matplotlib.lines.Line2D at 0x149f89dd0da0>]"
      ]
     },
     "execution_count": 62,
     "metadata": {},
     "output_type": "execute_result"
    },
    {
     "data": {
      "image/png": "[encoded data removed]",
      "text/plain": [
       "<Figure size 432x288 with 1 Axes>"
      ]
     },
     "metadata": {
      "needs_background": "light"
     },
     "output_type": "display_data"
    }
   ],
   "source": [
    "plt.plot(np.mean(QV1-QV2,axis=0),linestyle='-')\n",
    "plt.plot(np.min(QV1-QV2,axis=0),linestyle='-')\n",
    "plt.plot(np.max(QV1-QV2,axis=0),linestyle='-')\n",
    "plt.plot(np.std(QV1-QV2,axis=0),linestyle='-')"
   ]
  },
  {
   "cell_type": "code",
   "execution_count": 63,
   "metadata": {},
   "outputs": [
    {
     "data": {
      "text/plain": [
       "[<matplotlib.lines.Line2D at 0x149f89d88550>]"
      ]
     },
     "execution_count": 63,
     "metadata": {},
     "output_type": "execute_result"
    },
    {
     "data": {
      "image/png": "[encoded data removed]",
      "text/plain": [
       "<Figure size 432x288 with 1 Axes>"
      ]
     },
     "metadata": {
      "needs_background": "light"
     },
     "output_type": "display_data"
    }
   ],
   "source": [
    "plt.plot(np.mean(dQVdt,axis=0),linestyle='-')\n",
    "plt.plot(np.min(dQVdt,axis=0),linestyle='-')\n",
    "plt.plot(np.max(dQVdt,axis=0),linestyle='-')\n",
    "plt.plot(np.std(dQVdt,axis=0),linestyle='-')"
   ]
  },
  {
   "cell_type": "code",
   "execution_count": 52,
   "metadata": {},
   "outputs": [
    {
     "data": {
      "text/plain": [
       "[<matplotlib.lines.Line2D at 0x149f980c8ef0>]"
      ]
     },
     "execution_count": 52,
     "metadata": {},
     "output_type": "execute_result"
    },
    {
     "data": {
      "image/png": "[encoded data removed]",
      "text/plain": [
       "<Figure size 432x288 with 1 Axes>"
      ]
     },
     "metadata": {
      "needs_background": "light"
     },
     "output_type": "display_data"
    }
   ],
   "source": [
    "plt.plot(np.mean(inpRH_phys[:,:30]+DT*pRH_phys[:,:30],axis=0))"
   ]
  },
  {
   "cell_type": "code",
   "execution_count": 53,
   "metadata": {},
   "outputs": [
    {
     "data": {
      "text/plain": [
       "[<matplotlib.lines.Line2D at 0x149f980a2d68>]"
      ]
     },
     "execution_count": 53,
     "metadata": {},
     "output_type": "execute_result"
    },
    {
     "data": {
      "image/png": "[encoded data removed]",
      "text/plain": [
       "<Figure size 432x288 with 1 Axes>"
      ]
     },
     "metadata": {
      "needs_background": "light"
     },
     "output_type": "display_data"
    }
   ],
   "source": [
    "#plt.plot(np.mean(QV1,axis=0))\n",
    "#plt.plot(np.mean(QV2,axis=0))\n",
    "plt.plot(np.mean(QV2-QV1,axis=0))"
   ]
  },
  {
   "cell_type": "code",
   "execution_count": 18,
   "metadata": {},
   "outputs": [],
   "source": [
    "def compute_dP_tilde(PS, PS_div, PS_sub, norm_q, hyai, hybi):\n",
    "    \"\"\"\n",
    "    Computes dP_tilde in Tom's notation.\n",
    "    PS is the normalized pressure as it is used in the input.\n",
    "    PS_mult and PS_add are the corresponding values to unnormalize PS.\n",
    "    WARNING: Really not sure about norm_q\n",
    "    \"\"\"\n",
    "    PS = PS * PS_div + PS_sub\n",
    "    P = P0 * hyai + PS[:, None] * hybi\n",
    "    dP = P[:, 1:] - P[:, :-1]\n",
    "    dP_norm = norm_q * G / L_V   # Why L_V?\n",
    "    dP_tilde = dP / dP_norm\n",
    "    return dP_tilde"
   ]
  },
  {
   "cell_type": "code",
   "execution_count": 13,
   "metadata": {},
   "outputs": [],
   "source": [
    "def dP_tilde_md(self,itime):\n",
    "    X, truth = self.valid_gen[itime]\n",
    "    return compute_dP_tilde(X.values[:, self.get_input_var_idx('PS')[0]],\n",
    "                            self.valid_gen.input_transform.div[self.get_input_var_idx('PS')[0]],\n",
    "                            self.valid_gen.input_transform.div[self.get_input_var_idx('PS')[0]],\n",
    "                            self.valid_gen.output_transform.scale[self.get_output_var_idx('PHQ')],\n",
    "                            hyai, hybi)\n",
    "\n",
    "def dP_md(self,itime):\n",
    "    X, truth = self.valid_gen[itime]\n",
    "    PS = X.values[:, self.get_input_var_idx('PS')[0]]\n",
    "    PS_div = self.valid_gen.input_transform.div[self.get_input_var_idx('PS')[0]]\n",
    "    PS_sub = self.valid_gen.input_transform.sub[self.get_input_var_idx('PS')[0]]\n",
    "    PS = PS * PS_div + PS_sub\n",
    "    P = P0 * hyai + PS[:, None] * hybi\n",
    "    return P[:, 1:]-P[:, :-1]"
   ]
  },
  {
   "cell_type": "markdown",
   "metadata": {},
   "source": [
    "## 10.4) TODO = Debug dQVdt2dRHdt"
   ]
  },
  {
   "cell_type": "markdown",
   "metadata": {},
   "source": [
    "Problem 1 = Inconsistency between T normalization files for Q/RH leading me to adapt the RH2QV layer"
   ]
  },
  {
   "cell_type": "code",
   "execution_count": 5,
   "metadata": {},
   "outputs": [],
   "source": [
    "class dQVdt2dRHdt_debug(Layer):\n",
    "    def __init__(self, inp_subQ, inp_divQ, norm_qQ, norm_TQ, inp_subRH, inp_divRH, norm_qRH, hyam, hybm, **kwargs):\n",
    "        \"\"\"\n",
    "        Call using ([input_qv,output])\n",
    "        Assumes\n",
    "        prior: [PHQ, PHCLDLIQ, PHCLDICE, TPHYSTND, QRL, QRS, DTVKE, FSNT, FSNS, FLNT, FLNS, PRECT, PRECTEND, PRECST, PRECSTEN]\n",
    "        Returns\n",
    "        post(erior): [dRHdt, PHCLDLIQ, PHCLDICE, TPHYSTND, QRL, QRS, DTVKE, FSNT, FSNS, FLNT, FLNS, PRECT, PRECTEND, PRECST, PRECSTEN]\n",
    "        \"\"\"\n",
    "        self.inp_subQ, self.inp_divQ, self.norm_qQ, self.norm_TQ, \\\n",
    "        self.inp_subRH, self.inp_divRH, self.norm_qRH, \\\n",
    "        self.hyam, self.hybm = \\\n",
    "            np.array(inp_subQ), np.array(inp_divQ), \\\n",
    "        np.array(norm_qQ), np.array(norm_TQ),\\\n",
    "        np.array(inp_subRH), np.array(inp_divRH), np.array(norm_qRH), \\\n",
    "        np.array(hyam), np.array(hybm)\n",
    "        # Define variable indices here\n",
    "        # Input\n",
    "        self.PHQ_idx = slice(0,30)\n",
    "        \n",
    "        self.QBP_idx = slice(0,30)\n",
    "        self.TBP_idx = slice(90,120)\n",
    "        self.PS_idx = 300\n",
    "        self.SHFLX_idx = 302\n",
    "        self.LHFLX_idx = 303\n",
    "\n",
    "        super().__init__(**kwargs)\n",
    "\n",
    "    def build(self, input_shape):\n",
    "        super().build(input_shape)\n",
    "\n",
    "    def get_config(self):\n",
    "        config = {'inp_subQ': list(self.inp_subQ), 'inp_divQ': list(self.inp_divQ),\n",
    "                  'norm_qQ': list(self.norm_qQ),'norm_TQ':list(self.norm_TQ),\n",
    "                  'inp_subRH': list(self.inp_subRH), 'inp_divRH': list(self.inp_divRH),\n",
    "                  'norm_qRH': list(self.norm_qRH), \n",
    "                  'hyam': list(self.hyam),'hybm': list(self.hybm)}\n",
    "        base_config = super().get_config()\n",
    "        return dict(list(base_config.items()) + list(config.items()))\n",
    "    \n",
    "    def call(self, arrs):\n",
    "        inp, prior = arrs\n",
    "        \n",
    "        # Assumes the input has specific humidity in positions[0,30]\n",
    "        Qprior = inp[:,self.QBP_idx]*self.inp_divQ[self.QBP_idx]+self.inp_subQ[self.QBP_idx]\n",
    "        Tprior = inp[:,self.TBP_idx]*self.inp_divQ[self.TBP_idx]+self.inp_subQ[self.TBP_idx]\n",
    "        PSprior = inp[:,self.PS_idx]*self.inp_divQ[self.PS_idx]+self.inp_subQ[self.PS_idx]\n",
    "        \n",
    "        dqvdtprior = prior[:,self.QBP_idx]/self.norm_qQ\n",
    "        Q2prior = Qprior+DT*dqvdtprior\n",
    "        \n",
    "        dTdtprior = prior[:,self.TBP_idx]/self.norm_TQ\n",
    "        T2prior = Tprior+DT*dTdtprior\n",
    "        \n",
    "        RHprior = RH(Tprior,Qprior,P0,PSprior,self.hyam,self.hybm)*self.norm_qRH\n",
    "        RH2prior = RH(T2prior,Q2prior,P0,PSprior,self.hyam,self.hybm)*self.norm_qRH\n",
    "        dRHdtprior = (RH2prior-RHprior)/DT\n",
    "        \n",
    "        post = tf.concat([Qprior,Tprior,Q2prior,T2prior,dqvdtprior,dTdtprior,RHprior,prior[:,210:]], axis=1)\n",
    "        \n",
    "        return post\n",
    "\n",
    "    def compute_output_shape(self,input_shape):\n",
    "        \"\"\"Input shape\"\"\"\n",
    "        return (input_shape[0][0],input_shape[0][1])"
   ]
  },
  {
   "cell_type": "code",
   "execution_count": 6,
   "metadata": {},
   "outputs": [],
   "source": [
    "scale_dict = load_pickle('./nn_config/scale_dicts/009_Wm2_scaling.pkl')\n",
    "\n",
    "scale_dict['dRHdt'] = 0.01*L_S/G, # Arbitrary 0.1 factor as specific humidity is generally below 2%\n",
    "\n",
    "in_vars = ['RH', 'QCBP', 'QIBP', 'TBP', 'VBP', \n",
    "           'Qdt_adiabatic', 'QCdt_adiabatic', 'QIdt_adiabatic', 'Tdt_adiabatic', 'Vdt_adiabatic',\n",
    "           'PS', 'SOLIN', 'SHFLX', 'LHFLX']\n",
    "out_vars = ['dRHdt', 'PHCLDLIQ', 'PHCLDICE', 'TPHYSTND', 'QRL', 'QRS', 'DTVKE', \n",
    "            'FSNT', 'FSNS', 'FLNT', 'FLNS', 'PRECT', 'PRECTEND', 'PRECST', 'PRECSTEN']\n",
    "\n",
    "TRAINFILE = '8col009RH_01_train.nc'\n",
    "NORMFILE = '8col009RH_01_norm.nc'\n",
    "VALIDFILE = '8col009RH_01_valid.nc'\n",
    "\n",
    "train_gen = DataGenerator(\n",
    "    data_fn = TRAINDIR+TRAINFILE,\n",
    "    input_vars = in_vars,\n",
    "    output_vars = out_vars,\n",
    "    norm_fn = TRAINDIR+NORMFILE,\n",
    "    input_transform = ('mean', 'maxrs'),\n",
    "    output_transform = scale_dict,\n",
    "    batch_size=1024,\n",
    "    shuffle=True\n",
    ")\n",
    "\n",
    "\n",
    "\n",
    "\n",
    "\n"
   ]
  },
  {
   "cell_type": "code",
   "execution_count": 7,
   "metadata": {},
   "outputs": [],
   "source": [
    "valid_gen = DataGenerator(\n",
    "    data_fn = TRAINDIR+VALIDFILE,\n",
    "    input_vars = in_vars,\n",
    "    output_vars = out_vars,\n",
    "    norm_fn = TRAINDIR+NORMFILE,\n",
    "    input_transform = ('mean', 'maxrs'),\n",
    "    output_transform = scale_dict,\n",
    "    batch_size=1024,\n",
    "    shuffle=True\n",
    ")"
   ]
  },
  {
   "cell_type": "code",
   "execution_count": 8,
   "metadata": {},
   "outputs": [],
   "source": [
    "TRAINFILEQ = '8col009_01_train.nc'\n",
    "VALIDFILEQ = '8col009_01_valid.nc'\n",
    "NORMFILEQ = '8col009_01_norm.nc'\n",
    "\n",
    "scale_dictQ = load_pickle('./nn_config/scale_dicts/009_Wm2_scaling.pkl')\n",
    "\n",
    "in_varsQ = ['QBP', 'QCBP', 'QIBP', 'TBP', 'VBP', \n",
    "           'Qdt_adiabatic', 'QCdt_adiabatic', 'QIdt_adiabatic', 'Tdt_adiabatic', 'Vdt_adiabatic',\n",
    "           'PS', 'SOLIN', 'SHFLX', 'LHFLX']\n",
    "out_varsQ = ['PHQ', 'PHCLDLIQ', 'PHCLDICE', 'TPHYSTND', 'QRL', 'QRS', 'DTVKE', \n",
    "            'FSNT', 'FSNS', 'FLNT', 'FLNS', 'PRECT', 'PRECTEND', 'PRECST', 'PRECSTEN']\n",
    "\n",
    "train_genQ = DataGenerator(\n",
    "    data_fn = TRAINDIR+TRAINFILEQ,\n",
    "    input_vars = in_varsQ,\n",
    "    output_vars = out_varsQ,\n",
    "    norm_fn = TRAINDIR+NORMFILEQ,\n",
    "    input_transform = ('mean', 'maxrs'),\n",
    "    output_transform = scale_dictQ,\n",
    "    batch_size=1024,\n",
    "    shuffle=True\n",
    ")\n",
    "\n",
    "valid_genQ = DataGenerator(\n",
    "    data_fn = TRAINDIR+VALIDFILEQ,\n",
    "    input_vars = in_varsQ,\n",
    "    output_vars = out_varsQ,\n",
    "    norm_fn = TRAINDIR+NORMFILEQ,\n",
    "    input_transform = ('mean', 'maxrs'),\n",
    "    output_transform = scale_dictQ,\n",
    "    batch_size=1024,\n",
    "    shuffle=True\n",
    ")"
   ]
  },
  {
   "cell_type": "code",
   "execution_count": 9,
   "metadata": {},
   "outputs": [
    {
     "name": "stderr",
     "output_type": "stream",
     "text": [
      "W0227 21:07:55.710935 22394720782144 deprecation.py:323] From <ipython-input-2-d8b861a31dd8>:20: add_dispatch_support.<locals>.wrapper (from tensorflow.python.ops.array_ops) is deprecated and will be removed in a future version.\n",
      "Instructions for updating:\n",
      "Use tf.where in 2.0, which has the same broadcast rule as np.where\n",
      "W0227 21:07:55.765799 22394720782144 deprecation.py:506] From /home/t/Tom.Beucler/miniconda3/lib/python3.7/site-packages/tensorflow/python/ops/init_ops.py:1251: calling VarianceScaling.__init__ (from tensorflow.python.ops.init_ops) with dtype is deprecated and will be removed in a future version.\n",
      "Instructions for updating:\n",
      "Call initializer instance with the dtype argument instead of passing it to the constructor\n"
     ]
    }
   ],
   "source": [
    "inp = Input(shape=(304,))\n",
    "inpQ = RH2QV(inp_subQ=train_genQ.input_transform.sub, \n",
    "             inp_divQ=train_genQ.input_transform.div, \n",
    "             inp_subRH=train_gen.input_transform.sub, \n",
    "             inp_divRH=train_gen.input_transform.div, \n",
    "             hyam=hyam, hybm=hybm)(inp)\n",
    "densout = Dense(512, activation='linear')(inpQ)\n",
    "densout = LeakyReLU(alpha=0.3)(densout)\n",
    "for i in range (4):\n",
    "    densout = Dense(512, activation='linear')(densout)\n",
    "    densout = LeakyReLU(alpha=0.3)(densout)\n",
    "densout = Dense(214, activation='linear')(densout)\n",
    "densout = LeakyReLU(alpha=0.3)(densout)\n",
    "surfout = SurRadLayer(\n",
    "    inp_div=train_gen.input_transform.div,\n",
    "    inp_sub=train_gen.input_transform.sub,\n",
    "    norm_q=scale_dict['PHQ'],\n",
    "    hyai=hyai, hybi=hybi\n",
    ")([inpQ, densout])\n",
    "massout = MassConsLayer(\n",
    "    inp_div=train_gen.input_transform.div,\n",
    "    inp_sub=train_gen.input_transform.sub,\n",
    "    norm_q=scale_dict['PHQ'],\n",
    "    hyai=hyai, hybi=hybi\n",
    ")([inpQ, surfout])\n",
    "enthout = EntConsLayer(\n",
    "    inp_div=train_gen.input_transform.div,\n",
    "    inp_sub=train_gen.input_transform.sub,\n",
    "    norm_q=scale_dict['PHQ'],\n",
    "    hyai=hyai, hybi=hybi\n",
    ")([inpQ, massout])\n",
    "outQ = Dense(218, activation='linear')(enthout)\n",
    "out = dQVdt2dRHdt_debug(inp_subQ=train_genQ.input_transform.sub,\n",
    "                  inp_divQ=train_genQ.input_transform.div,\n",
    "                  norm_qQ=scale_dictQ['PHQ'],\n",
    "                  norm_TQ=scale_dictQ['TPHYSTND'],\n",
    "                  inp_subRH=train_gen.input_transform.sub, \n",
    "                  inp_divRH=train_gen.input_transform.div, \n",
    "                  norm_qRH=scale_dict['dRHdt'], \n",
    "                  hyam=hyam, hybm=hybm)([inpQ, outQ])\n",
    "ACnetRH2Q = tf.keras.models.Model(inp, out)"
   ]
  },
  {
   "cell_type": "code",
   "execution_count": 10,
   "metadata": {},
   "outputs": [],
   "source": [
    "inp2 = Input(shape=(304,))\n",
    "out2 = RH2QV(inp_subQ=train_genQ.input_transform.sub, \n",
    "             inp_divQ=train_genQ.input_transform.div, \n",
    "             inp_subRH=train_gen.input_transform.sub, \n",
    "             inp_divRH=train_gen.input_transform.div, \n",
    "             hyam=hyam, hybm=hybm)(inp2)\n",
    "ACnetRH2Q2 = tf.keras.models.Model(inp2, out2)"
   ]
  },
  {
   "cell_type": "code",
   "execution_count": 11,
   "metadata": {},
   "outputs": [
    {
     "name": "stdout",
     "output_type": "stream",
     "text": [
      "Model: \"model_1\"\n",
      "_________________________________________________________________\n",
      "Layer (type)                 Output Shape              Param #   \n",
      "=================================================================\n",
      "input_2 (InputLayer)         [(None, 304)]             0         \n",
      "_________________________________________________________________\n",
      "r_h2qv_1 (RH2QV)             (None, 304)               0         \n",
      "=================================================================\n",
      "Total params: 0\n",
      "Trainable params: 0\n",
      "Non-trainable params: 0\n",
      "_________________________________________________________________\n"
     ]
    }
   ],
   "source": [
    "ACnetRH2Q2.summary()"
   ]
  },
  {
   "cell_type": "code",
   "execution_count": 15,
   "metadata": {},
   "outputs": [],
   "source": [
    "#ACnetRH2Q.save('/local/Tom.Beucler/SPCAM_PHYS/HDF5_DATA/TQoutput')"
   ]
  },
  {
   "cell_type": "code",
   "execution_count": 16,
   "metadata": {},
   "outputs": [],
   "source": [
    "# path_HDF5 = '/local/Tom.Beucler/SPCAM_PHYS/HDF5_DATA/'\n",
    "# earlyStopping = EarlyStopping(monitor='val_loss', patience=10, verbose=0, mode='min')\n",
    "# mcp_save = ModelCheckpoint(path_HDF5+'Debug.hdf5',save_best_only=True, monitor='val_loss', mode='min')"
   ]
  },
  {
   "cell_type": "code",
   "execution_count": 12,
   "metadata": {},
   "outputs": [],
   "source": [
    "ACnetRH2Q.compile(tf.keras.optimizers.RMSprop(), loss=mse)"
   ]
  },
  {
   "cell_type": "code",
   "execution_count": 13,
   "metadata": {},
   "outputs": [],
   "source": [
    "ACnetRH2Q2.compile(tf.keras.optimizers.RMSprop(), loss=mse)"
   ]
  },
  {
   "cell_type": "code",
   "execution_count": 19,
   "metadata": {},
   "outputs": [],
   "source": [
    "# Nep = 1\n",
    "# ACnetRH2Q.fit_generator(train_gen, epochs=Nep, validation_data=valid_gen,\\\n",
    "#               callbacks=[earlyStopping, mcp_save])"
   ]
  },
  {
   "cell_type": "code",
   "execution_count": 15,
   "metadata": {},
   "outputs": [
    {
     "data": {
      "text/plain": [
       "(1024, 218)"
      ]
     },
     "execution_count": 15,
     "metadata": {},
     "output_type": "execute_result"
    }
   ],
   "source": [
    "ACnetRH2Q.predict_on_batch(train_gen[0][0]).shape"
   ]
  },
  {
   "cell_type": "markdown",
   "metadata": {},
   "source": [
    "Checking QVprior"
   ]
  },
  {
   "cell_type": "code",
   "execution_count": 25,
   "metadata": {},
   "outputs": [
    {
     "data": {
      "text/plain": [
       "array([1.9016685e-06, 1.8874488e-06, 1.7392342e-06, 1.7356439e-06,\n",
       "       1.6908582e-06, 1.6380433e-06, 1.6210843e-06, 1.6178673e-06,\n",
       "       1.6198494e-06, 1.6246642e-06, 1.6503864e-06, 1.8322849e-06,\n",
       "       2.6482680e-06, 5.0093522e-06, 1.0880322e-05, 2.2672342e-05,\n",
       "       5.3046868e-05, 1.3529097e-04, 3.1983212e-04, 6.0075085e-04,\n",
       "       9.3331933e-04, 1.2853205e-03, 1.7122043e-03, 2.0735420e-03,\n",
       "       2.3587085e-03, 2.6255571e-03, 2.8757502e-03, 3.0991063e-03,\n",
       "       3.2173633e-03, 3.4582189e-03], dtype=float32)"
      ]
     },
     "execution_count": 25,
     "metadata": {},
     "output_type": "execute_result"
    }
   ],
   "source": [
    "QV_layer = ACnetRH2Q.predict_on_batch(train_gen[0][0])[:,:30]\n",
    "np.mean(QV_layer,axis=0)"
   ]
  },
  {
   "cell_type": "code",
   "execution_count": 26,
   "metadata": {},
   "outputs": [
    {
     "data": {
      "text/plain": [
       "array([1.9016685e-06, 1.8874488e-06, 1.7392342e-06, 1.7356439e-06,\n",
       "       1.6908582e-06, 1.6380433e-06, 1.6210843e-06, 1.6178673e-06,\n",
       "       1.6198494e-06, 1.6246642e-06, 1.6503864e-06, 1.8322849e-06,\n",
       "       2.6482680e-06, 5.0093522e-06, 1.0880322e-05, 2.2672342e-05,\n",
       "       5.3046868e-05, 1.3529097e-04, 3.1983212e-04, 6.0075085e-04,\n",
       "       9.3331933e-04, 1.2853205e-03, 1.7122043e-03, 2.0735420e-03,\n",
       "       2.3587085e-03, 2.6255571e-03, 2.8757502e-03, 3.0991063e-03,\n",
       "       3.2173633e-03, 3.4582189e-03], dtype=float32)"
      ]
     },
     "execution_count": 26,
     "metadata": {},
     "output_type": "execute_result"
    }
   ],
   "source": [
    "QV_test = (ACnetRH2Q2.predict_on_batch(train_gen[0][0])*train_genQ.input_transform.div+\\\n",
    "        train_genQ.input_transform.sub)[:,:30]\n",
    "np.mean(QV_test,axis=0)"
   ]
  },
  {
   "cell_type": "code",
   "execution_count": 27,
   "metadata": {},
   "outputs": [
    {
     "data": {
      "text/plain": [
       "array([0., 0., 0., 0., 0., 0., 0., 0., 0., 0., 0., 0., 0., 0., 0., 0., 0.,\n",
       "       0., 0., 0., 0., 0., 0., 0., 0., 0., 0., 0., 0., 0.], dtype=float32)"
      ]
     },
     "execution_count": 27,
     "metadata": {},
     "output_type": "execute_result"
    }
   ],
   "source": [
    "np.mean(QV_layer-QV_test,axis=0)"
   ]
  },
  {
   "cell_type": "markdown",
   "metadata": {},
   "source": [
    "Checking T prior"
   ]
  },
  {
   "cell_type": "code",
   "execution_count": 28,
   "metadata": {},
   "outputs": [
    {
     "data": {
      "text/plain": [
       "array([246.55502, 233.12088, 217.24023, 238.59187, 231.79713, 229.34337,\n",
       "       228.6456 , 227.284  , 226.03632, 224.94359, 223.57593, 220.98938,\n",
       "       218.60686, 216.15668, 215.91853, 218.78596, 224.55714, 232.29597,\n",
       "       241.12155, 249.03543, 254.9272 , 259.32837, 262.50046, 264.5859 ,\n",
       "       266.30435, 267.9778 , 269.53894, 271.04443, 272.3742 , 273.65164],\n",
       "      dtype=float32)"
      ]
     },
     "execution_count": 28,
     "metadata": {},
     "output_type": "execute_result"
    }
   ],
   "source": [
    "T_layer = ACnetRH2Q.predict_on_batch(train_gen[0][0])[:,30:60]\n",
    "np.mean(T_layer,axis=0)"
   ]
  },
  {
   "cell_type": "code",
   "execution_count": 33,
   "metadata": {},
   "outputs": [
    {
     "data": {
      "text/plain": [
       "array([246.55502, 233.12088, 217.24023, 238.59187, 231.79713, 229.34337,\n",
       "       228.6456 , 227.284  , 226.03632, 224.94359, 223.57593, 220.98938,\n",
       "       218.60686, 216.15668, 215.91853, 218.78596, 224.55714, 232.29597,\n",
       "       241.12155, 249.03543, 254.9272 , 259.32837, 262.50046, 264.5859 ,\n",
       "       266.30435, 267.9778 , 269.53894, 271.04443, 272.3742 , 273.65164],\n",
       "      dtype=float32)"
      ]
     },
     "execution_count": 33,
     "metadata": {},
     "output_type": "execute_result"
    }
   ],
   "source": [
    "T_test = (ACnetRH2Q2.predict_on_batch(train_gen[0][0])*train_genQ.input_transform.div+\\\n",
    "        train_genQ.input_transform.sub)[:,90:120]\n",
    "np.mean(T_test,axis=0)"
   ]
  },
  {
   "cell_type": "code",
   "execution_count": 34,
   "metadata": {},
   "outputs": [
    {
     "data": {
      "text/plain": [
       "array([0., 0., 0., 0., 0., 0., 0., 0., 0., 0., 0., 0., 0., 0., 0., 0., 0.,\n",
       "       0., 0., 0., 0., 0., 0., 0., 0., 0., 0., 0., 0., 0.], dtype=float32)"
      ]
     },
     "execution_count": 34,
     "metadata": {},
     "output_type": "execute_result"
    }
   ],
   "source": [
    "np.mean(T_layer-T_test,axis=0)"
   ]
  },
  {
   "cell_type": "markdown",
   "metadata": {},
   "source": [
    "## 10.8) DONE = Debugging using UCnet phrased in q -> dq/dt"
   ]
  },
  {
   "cell_type": "code",
   "execution_count": 12,
   "metadata": {},
   "outputs": [
    {
     "name": "stderr",
     "output_type": "stream",
     "text": [
      "W0224 20:35:28.816228 22574319372096 deprecation.py:506] From /home/t/Tom.Beucler/miniconda3/lib/python3.7/site-packages/tensorflow/python/ops/init_ops.py:97: calling VarianceScaling.__init__ (from tensorflow.python.ops.init_ops) with dtype is deprecated and will be removed in a future version.\n",
      "Instructions for updating:\n",
      "Call initializer instance with the dtype argument instead of passing it to the constructor\n",
      "W0224 20:35:28.817407 22574319372096 deprecation.py:506] From /home/t/Tom.Beucler/miniconda3/lib/python3.7/site-packages/tensorflow/python/ops/init_ops.py:97: calling Zeros.__init__ (from tensorflow.python.ops.init_ops) with dtype is deprecated and will be removed in a future version.\n",
      "Instructions for updating:\n",
      "Call initializer instance with the dtype argument instead of passing it to the constructor\n"
     ]
    },
    {
     "name": "stdout",
     "output_type": "stream",
     "text": [
      "NNs =  JNNL\n"
     ]
    },
    {
     "name": "stderr",
     "output_type": "stream",
     "text": [
      "/home/t/Tom.Beucler/SPCAM/CBRAIN-CAM/notebooks/tbeucler_devlog/cbrain/model_diagnostics.py:25: YAMLLoadWarning: calling yaml.load() without Loader=... is deprecated, as the default Loader is unsafe. Please read https://msg.pyyaml.org/load for full details.\n",
      "  config = yaml.load(f)\n"
     ]
    },
    {
     "name": "stdout",
     "output_type": "stream",
     "text": [
      "NNs =  JNNL0.01\n"
     ]
    },
    {
     "name": "stderr",
     "output_type": "stream",
     "text": [
      "/home/t/Tom.Beucler/SPCAM/CBRAIN-CAM/notebooks/tbeucler_devlog/cbrain/model_diagnostics.py:25: YAMLLoadWarning: calling yaml.load() without Loader=... is deprecated, as the default Loader is unsafe. Please read https://msg.pyyaml.org/load for full details.\n",
      "  config = yaml.load(f)\n"
     ]
    },
    {
     "name": "stdout",
     "output_type": "stream",
     "text": [
      "NNs =  JNNC\n"
     ]
    },
    {
     "name": "stderr",
     "output_type": "stream",
     "text": [
      "/home/t/Tom.Beucler/SPCAM/CBRAIN-CAM/notebooks/tbeucler_devlog/cbrain/model_diagnostics.py:25: YAMLLoadWarning: calling yaml.load() without Loader=... is deprecated, as the default Loader is unsafe. Please read https://msg.pyyaml.org/load for full details.\n",
      "  config = yaml.load(f)\n",
      "W0224 20:35:32.715056 22574319372096 deprecation.py:506] From /home/t/Tom.Beucler/miniconda3/lib/python3.7/site-packages/tensorflow/python/ops/init_ops.py:97: calling GlorotUniform.__init__ (from tensorflow.python.ops.init_ops) with dtype is deprecated and will be removed in a future version.\n",
      "Instructions for updating:\n",
      "Call initializer instance with the dtype argument instead of passing it to the constructor\n"
     ]
    },
    {
     "name": "stdout",
     "output_type": "stream",
     "text": [
      "NNs =  MLRL0\n"
     ]
    },
    {
     "name": "stderr",
     "output_type": "stream",
     "text": [
      "/home/t/Tom.Beucler/SPCAM/CBRAIN-CAM/notebooks/tbeucler_devlog/cbrain/model_diagnostics.py:25: YAMLLoadWarning: calling yaml.load() without Loader=... is deprecated, as the default Loader is unsafe. Please read https://msg.pyyaml.org/load for full details.\n",
      "  config = yaml.load(f)\n"
     ]
    }
   ],
   "source": [
    "TRAINDIR2 = '/local/Tom.Beucler/SPCAM_PHYS/'\n",
    "DATADIR2 = '/project/meteo/w2w/A6/S.Rasp/SP-CAM/fluxbypass_aqua/'\n",
    "\n",
    "config_fn2 = '/filer/z-sv-pool12c/t/Tom.Beucler/SPCAM/CBRAIN-CAM/pp_config/8col_rad_tbeucler_local_PostProc.yml'\n",
    "data_fn2 = '/local/Tom.Beucler/SPCAM_PHYS/8col009_01_valid.nc'\n",
    "dict_lay2 = {'SurRadLayer':SurRadLayer,'MassConsLayer':MassConsLayer,'EntConsLayer':EntConsLayer}\n",
    "\n",
    "NNa2 = ['JNNL','JNNL0.01','JNNC','MLRL0']\n",
    "NN2 = {}; md2 = {};\n",
    "for NNs in NNa2:\n",
    "    print('NNs = ',NNs)\n",
    "    \n",
    "    # 1) Load model\n",
    "    path = TRAINDIR2+'HDF5_DATA/'+NNs+'.h5'\n",
    "    NN2 = load_model(path,custom_objects=dict_lay2)\n",
    "    \n",
    "    # 2) Define model diagnostics object\n",
    "    md2[NNs] = ModelDiagnostics(NN2,config_fn2,data_fn2)"
   ]
  },
  {
   "cell_type": "code",
   "execution_count": 44,
   "metadata": {},
   "outputs": [
    {
     "name": "stdout",
     "output_type": "stream",
     "text": [
      "i= 0 & NNs= JNNC          \n"
     ]
    },
    {
     "data": {
      "application/vnd.jupyter.widget-view+json": {
       "model_id": "3f7a332b5765494c8c77e9750d2eb949",
       "version_major": 2,
       "version_minor": 0
      },
      "text/plain": [
       "HBox(children=(IntProgress(value=0, max=5), HTML(value='')))"
      ]
     },
     "metadata": {},
     "output_type": "display_data"
    },
    {
     "name": "stdout",
     "output_type": "stream",
     "text": [
      "LHFLX 77.25603\n",
      "PREC 85.135506\n",
      "WATINT -7.8794785\n",
      "WATRES -5.8677324e-07\n",
      "[0.0000000e+00 0.0000000e+00 2.2737368e-13 ... 3.6379788e-12 1.4551915e-11\n",
      " 3.6379788e-12]\n",
      "PHQ -6.4299264\n",
      "PHCLQ 0.014132589\n",
      "PHICE -1.4636844\n",
      "LHFLX 77.25603\n",
      "PREC 85.135506\n",
      "WATINT -7.8794785\n",
      "WATRES -5.8677324e-07\n",
      "[0.0000000e+00 0.0000000e+00 2.2737368e-13 ... 3.6379788e-12 1.4551915e-11\n",
      " 3.6379788e-12]\n",
      "LHFLX 77.265\n",
      "PREC 86.53616\n",
      "WATINT -9.271166\n",
      "WATRES -1.0476215e-06\n",
      "[0.0000000e+00 9.0949470e-13 9.0949470e-13 ... 0.0000000e+00 1.4551915e-11\n",
      " 1.4551915e-11]\n",
      "PHQ -8.074614\n",
      "PHCLQ 0.15030324\n",
      "PHICE -1.3468566\n",
      "LHFLX 77.265\n",
      "PREC 86.53616\n",
      "WATINT -9.271166\n",
      "WATRES -1.0476215e-06\n",
      "[0.0000000e+00 9.0949470e-13 9.0949470e-13 ... 0.0000000e+00 1.4551915e-11\n",
      " 1.4551915e-11]\n",
      "LHFLX 77.34305\n",
      "PREC 85.0583\n",
      "WATINT -7.715246\n",
      "WATRES -8.071529e-07\n",
      "[0.0000000e+00 0.0000000e+00 9.0949470e-13 ... 1.4551915e-11 5.8207661e-11\n",
      " 0.0000000e+00]\n",
      "PHQ -6.2181563\n",
      "PHCLQ 0.32730383\n",
      "PHICE -1.8243966\n",
      "LHFLX 77.34305\n",
      "PREC 85.0583\n",
      "WATINT -7.715246\n",
      "WATRES -8.071529e-07\n",
      "[0.0000000e+00 0.0000000e+00 9.0949470e-13 ... 1.4551915e-11 5.8207661e-11\n",
      " 0.0000000e+00]\n",
      "LHFLX 77.48397\n",
      "PREC 86.73814\n",
      "WATINT -9.254162\n",
      "WATRES -4.6665082e-07\n",
      "[0.0000000e+00 8.1854523e-12 0.0000000e+00 ... 2.2737368e-11 1.4551915e-11\n",
      " 8.1854523e-12]\n",
      "PHQ -8.459981\n",
      "PHCLQ 0.5960512\n",
      "PHICE -1.3902335\n",
      "LHFLX 77.48397\n",
      "PREC 86.73814\n",
      "WATINT -9.254162\n",
      "WATRES -4.6665082e-07\n",
      "[0.0000000e+00 8.1854523e-12 0.0000000e+00 ... 2.2737368e-11 1.4551915e-11\n",
      " 8.1854523e-12]\n",
      "LHFLX 77.65657\n",
      "PREC 85.63141\n",
      "WATINT -7.974843\n",
      "WATRES -4.1042222e-07\n",
      "[3.6379788e-12 0.0000000e+00 2.2737368e-13 ... 0.0000000e+00 1.4551915e-11\n",
      " 5.1159077e-13]\n",
      "PHQ -6.9881573\n",
      "PHCLQ 0.57577026\n",
      "PHICE -1.5624603\n",
      "LHFLX 77.65657\n",
      "PREC 85.63141\n",
      "WATINT -7.974843\n",
      "WATRES -4.1042222e-07\n",
      "[3.6379788e-12 0.0000000e+00 2.2737368e-13 ... 0.0000000e+00 1.4551915e-11\n",
      " 5.1159077e-13]\n",
      "\n"
     ]
    }
   ],
   "source": [
    "# Starts from input vector\n",
    "lat_ind = np.arange(0,64)\n",
    "iini = 200 # Initial time to sample\n",
    "iend = iini+5 # One day later\n",
    "\n",
    "diagno = {} # Diagnostics structure\n",
    "SE = {} # Squared error structure\n",
    "RES = {} # Residual structure\n",
    "diagno['truth'] = {} # Diagnostics structure for the truth\n",
    "for i,NNs in enumerate(['JNNC']):\n",
    "    print('i=',i,'& NNs=',NNs,'         ')\n",
    "    data = data_fn2\n",
    "    for itime in tqdm(np.arange(iini,iend)):\n",
    "        # Get input, prediction and truth from NN\n",
    "        inp, p, truth = md2[NNs].get_inp_pred_truth(itime)  # [lat, lon, var, lev]\n",
    "        #p = truth\n",
    "        # Convert input from relative humidity to specific humidity tendencies\n",
    "        inpRH_phys = inp*md2[NNs].valid_gen.input_transform.div+md2[NNs].valid_gen.input_transform.sub\n",
    "#         pRH_phys = p/md[NNs][data[13:-3]].valid_gen.output_transform.scale\n",
    "#         dQVdt = scale_dict0['PHQ']*qv(inpRH_phys[:,90:120],pRH_phys[:,:30]*DT,P0,inpRH_phys[:,300],hyam,hybm)/DT\n",
    "        # Create equivalent specific humidity md object for residual\n",
    "#         md0 = md[NNs][data[13:-3]]\n",
    "#         md0.valid_gen.output_transform.scale[:30] = scale_dict0['PHQ']\n",
    "        newpred = p\n",
    "        #newpred[:,:30] = dQVdt\n",
    "        #print('inp',np.mean(inpRH_phys[:,:60],axis=0))\n",
    "        #print('p',np.mean(p[:,:60],axis=0))\n",
    "        print(md2[NNs].mass_res(inp,p))\n",
    "        print(mass_res_md(md=md2[NNs],inp=inp,pred=newpred))\n",
    "          #         Tprior = inp[:,self.TBP_idx]*self.inp_divQ[self.TBP_idx]+self.inp_subQ[self.TBP_idx]\n",
    "#         PSprior = inp[:,self.PS_idx]*self.inp_divQ[self.PS_idx]+self.inp_subQ[self.PS_idx]\n",
    "#         dqvdtprior = prior[:,self.QBP_idx]/self.norm_qQ\n",
    "        \n",
    "#         dRHdtprior = RH(Tprior,dqvdtprior,P0,PSprior,self.hyam,self.hybm)*self.norm_qRH\n",
    "#         post = tf.concat([dRHdtprior,prior[:,30:]], axis=1)"
   ]
  },
  {
   "cell_type": "markdown",
   "metadata": {},
   "source": [
    "TODO: Compare unnormalized inputs and outputs one by one"
   ]
  },
  {
   "cell_type": "code",
   "execution_count": null,
   "metadata": {},
   "outputs": [],
   "source": [
    "inp [8.62960776e-02 1.56990714e-01 1.49589719e-01 5.89631476e-02\n",
    " 6.33725689e-02 7.34260392e-02 1.62542353e-01 2.57521153e-01\n",
    " 2.26324863e-01 2.40149600e-01 3.02117852e-01 3.77839882e-01\n",
    " 4.38036084e-01 4.78802490e-01 5.08520549e-01 5.26120868e-01\n",
    " 5.42386625e-01 5.56347500e-01 5.55208847e-01 5.57233040e-01\n",
    " 5.94554723e-01 6.97350744e-01 8.27409679e-01 8.73428446e-01\n",
    " 8.98168072e-01 9.00431200e-01 8.83708585e-01 8.56361605e-01\n",
    " 8.20977795e-01 8.19934312e-01 0.00000000e+00 0.00000000e+00\n",
    " 0.00000000e+00 0.00000000e+00 0.00000000e+00 0.00000000e+00\n",
    " 0.00000000e+00 0.00000000e+00 0.00000000e+00 0.00000000e+00\n",
    " 0.00000000e+00 0.00000000e+00 0.00000000e+00 0.00000000e+00\n",
    " 0.00000000e+00 1.35672243e-26 1.13063724e-07 1.06693235e-06\n",
    " 2.55852948e-06 4.82352468e-06 8.40692024e-06 1.57392633e-05\n",
    " 3.26810742e-05 3.58262248e-05 2.98484193e-05 2.32355937e-05\n",
    " 1.36782170e-05 7.53485289e-06 4.71816792e-06 2.62125054e-06]\n",
    "p [-1.50150896e-05  3.05512212e-05  2.59015556e-04 -6.04872865e-04\n",
    "  4.09888342e-05 -7.86395877e-05  1.40663240e-04 -6.30354220e-05\n",
    " -7.92537290e-05 -1.09720763e-03 -1.05775003e-02 -5.32021417e-02\n",
    " -2.15910354e-01 -6.57122701e-01 -1.67612964e+00 -3.39574381e+00\n",
    " -6.61427259e+00 -1.03784747e+01 -1.46418680e+01 -1.59972452e+01\n",
    " -1.16670097e+01 -7.84545032e-01  5.38422328e+00  1.56371294e+00\n",
    "  1.98882066e+00  1.61389928e-01  2.08107709e-01  1.61889972e+00\n",
    "  1.52109710e+00  1.73182410e+00  0.00000000e+00  0.00000000e+00\n",
    "  0.00000000e+00  0.00000000e+00  0.00000000e+00  0.00000000e+00\n",
    "  0.00000000e+00  0.00000000e+00  0.00000000e+00  0.00000000e+00\n",
    "  0.00000000e+00  0.00000000e+00  0.00000000e+00  0.00000000e+00\n",
    "  0.00000000e+00 -1.00441079e-20 -9.84734907e-02 -1.11161304e-01\n",
    " -1.99685571e-01 -5.44593333e-01 -1.29386883e-01 -2.07723942e-02\n",
    " -2.63292655e-01  4.54166343e-01  2.63199434e-01  1.66484045e-01\n",
    "  7.41256137e-02  7.94119151e-02  1.08638799e-02 -1.06177873e-03]"
   ]
  },
  {
   "cell_type": "markdown",
   "metadata": {},
   "source": [
    "## 10.5) DONE = Derive identical dataset with dQ/dt to see if can recover"
   ]
  },
  {
   "cell_type": "markdown",
   "metadata": {},
   "source": [
    "Configuration file `8col_rad_tbeucler_local-RH-valid-PHQ.yml`"
   ]
  },
  {
   "cell_type": "markdown",
   "metadata": {},
   "source": [
    "```\n",
    "# RH example for PRL paper. Number of samples reduced by a factor of 5 for increased speed.\n",
    "# Repeating for valid because of bug when shuffling\n",
    "vars : [PHQ]\n",
    "\n",
    "in_dir : /project/meteo/w2w/A6/S.Rasp/SP-CAM/fluxbypass_aqua/\n",
    "in_fns : AndKua_aqua_SPCAM3.0_sp_fbp_f4.cam2.h1.0001-*-0[7-8]-00000.nc\n",
    "\n",
    "out_dir: /local/Tom.Beucler/SPCAM_PHYS/\n",
    "out_fn: 8col009RH_01_valid_PHQ.nc\n",
    "\n",
    "val_in_fns: AndKua_aqua_SPCAM3.0_sp_fbp_f4.cam2.h1.0001-*-0[7-8]-00000.nc\n",
    "val_out_fn: 8col009RH_01_valid_PHQ.nc\n",
    "\n",
    "shuffle: false\n",
    "\n",
    "#norm_fn: 8col009RH_01_norm.nc\n",
    "```"
   ]
  },
  {
   "cell_type": "code",
   "execution_count": 76,
   "metadata": {},
   "outputs": [
    {
     "name": "stdout",
     "output_type": "stream",
     "text": [
      "/filer/z-sv-pool12c/t/Tom.Beucler/SPCAM/CBRAIN-CAM\n",
      "/home/t/Tom.Beucler/miniconda3/lib/python3.7/site-packages/tensorflow/python/framework/dtypes.py:516: FutureWarning: Passing (type, 1) or '1type' as a synonym of type is deprecated; in a future version of numpy, it will be understood as (type, (1,)) / '(1,)type'.\n",
      "  _np_qint8 = np.dtype([(\"qint8\", np.int8, 1)])\n",
      "/home/t/Tom.Beucler/miniconda3/lib/python3.7/site-packages/tensorflow/python/framework/dtypes.py:517: FutureWarning: Passing (type, 1) or '1type' as a synonym of type is deprecated; in a future version of numpy, it will be understood as (type, (1,)) / '(1,)type'.\n",
      "  _np_quint8 = np.dtype([(\"quint8\", np.uint8, 1)])\n",
      "/home/t/Tom.Beucler/miniconda3/lib/python3.7/site-packages/tensorflow/python/framework/dtypes.py:518: FutureWarning: Passing (type, 1) or '1type' as a synonym of type is deprecated; in a future version of numpy, it will be understood as (type, (1,)) / '(1,)type'.\n",
      "  _np_qint16 = np.dtype([(\"qint16\", np.int16, 1)])\n",
      "/home/t/Tom.Beucler/miniconda3/lib/python3.7/site-packages/tensorflow/python/framework/dtypes.py:519: FutureWarning: Passing (type, 1) or '1type' as a synonym of type is deprecated; in a future version of numpy, it will be understood as (type, (1,)) / '(1,)type'.\n",
      "  _np_quint16 = np.dtype([(\"quint16\", np.uint16, 1)])\n",
      "/home/t/Tom.Beucler/miniconda3/lib/python3.7/site-packages/tensorflow/python/framework/dtypes.py:520: FutureWarning: Passing (type, 1) or '1type' as a synonym of type is deprecated; in a future version of numpy, it will be understood as (type, (1,)) / '(1,)type'.\n",
      "  _np_qint32 = np.dtype([(\"qint32\", np.int32, 1)])\n",
      "/home/t/Tom.Beucler/miniconda3/lib/python3.7/site-packages/tensorflow/python/framework/dtypes.py:525: FutureWarning: Passing (type, 1) or '1type' as a synonym of type is deprecated; in a future version of numpy, it will be understood as (type, (1,)) / '(1,)type'.\n",
      "  np_resource = np.dtype([(\"resource\", np.ubyte, 1)])\n",
      "/home/t/Tom.Beucler/miniconda3/lib/python3.7/site-packages/tensorboard/compat/tensorflow_stub/dtypes.py:541: FutureWarning: Passing (type, 1) or '1type' as a synonym of type is deprecated; in a future version of numpy, it will be understood as (type, (1,)) / '(1,)type'.\n",
      "  _np_qint8 = np.dtype([(\"qint8\", np.int8, 1)])\n",
      "/home/t/Tom.Beucler/miniconda3/lib/python3.7/site-packages/tensorboard/compat/tensorflow_stub/dtypes.py:542: FutureWarning: Passing (type, 1) or '1type' as a synonym of type is deprecated; in a future version of numpy, it will be understood as (type, (1,)) / '(1,)type'.\n",
      "  _np_quint8 = np.dtype([(\"quint8\", np.uint8, 1)])\n",
      "/home/t/Tom.Beucler/miniconda3/lib/python3.7/site-packages/tensorboard/compat/tensorflow_stub/dtypes.py:543: FutureWarning: Passing (type, 1) or '1type' as a synonym of type is deprecated; in a future version of numpy, it will be understood as (type, (1,)) / '(1,)type'.\n",
      "  _np_qint16 = np.dtype([(\"qint16\", np.int16, 1)])\n",
      "/home/t/Tom.Beucler/miniconda3/lib/python3.7/site-packages/tensorboard/compat/tensorflow_stub/dtypes.py:544: FutureWarning: Passing (type, 1) or '1type' as a synonym of type is deprecated; in a future version of numpy, it will be understood as (type, (1,)) / '(1,)type'.\n",
      "  _np_quint16 = np.dtype([(\"quint16\", np.uint16, 1)])\n",
      "/home/t/Tom.Beucler/miniconda3/lib/python3.7/site-packages/tensorboard/compat/tensorflow_stub/dtypes.py:545: FutureWarning: Passing (type, 1) or '1type' as a synonym of type is deprecated; in a future version of numpy, it will be understood as (type, (1,)) / '(1,)type'.\n",
      "  _np_qint32 = np.dtype([(\"qint32\", np.int32, 1)])\n",
      "/home/t/Tom.Beucler/miniconda3/lib/python3.7/site-packages/tensorboard/compat/tensorflow_stub/dtypes.py:550: FutureWarning: Passing (type, 1) or '1type' as a synonym of type is deprecated; in a future version of numpy, it will be understood as (type, (1,)) / '(1,)type'.\n",
      "  np_resource = np.dtype([(\"resource\", np.ubyte, 1)])\n",
      "WARNING: Logging before flag parsing goes to stderr.\n",
      "W0225 02:16:30.695808 22973067532096 deprecation_wrapper.py:119] From /filer/z-sv-pool12c/t/Tom.Beucler/SPCAM/CBRAIN-CAM/cbrain/models.py:16: The name tf.keras.layers.CuDNNGRU is deprecated. Please use tf.compat.v1.keras.layers.CuDNNGRU instead.\n",
      "\n",
      "W0225 02:16:30.696092 22973067532096 deprecation_wrapper.py:119] From /filer/z-sv-pool12c/t/Tom.Beucler/SPCAM/CBRAIN-CAM/cbrain/models.py:16: The name tf.keras.layers.CuDNNLSTM is deprecated. Please use tf.compat.v1.keras.layers.CuDNNLSTM instead.\n",
      "\n",
      "/filer/z-sv-pool12c/t/Tom.Beucler/SPCAM/CBRAIN-CAM\n",
      "/home/t/Tom.Beucler/miniconda3/lib/python3.7/site-packages/xarray/backends/api.py:783: FutureWarning: In xarray version 0.13 `auto_combine` will be deprecated.\n",
      "  coords=coords)\n",
      "/home/t/Tom.Beucler/miniconda3/lib/python3.7/site-packages/xarray/backends/api.py:783: FutureWarning: Also `open_mfdataset` will no longer accept a `concat_dim` argument.\n",
      "To get equivalent behaviour from now on please use the new\n",
      "`combine_nested` function instead (or the `combine='nested'` option to\n",
      "`open_mfdataset`).The datasets supplied have global dimension coordinates. You may want\n",
      "to use the new `combine_by_coords` function (or the\n",
      "`combine='by_coords'` option to `open_mfdataset` to order the datasets\n",
      "before concatenation. Alternatively, to continue concatenating based\n",
      "on the order the datasets are supplied in in future, please use the\n",
      "new `combine_nested` function (or the `combine='nested'` option to\n",
      "open_mfdataset).\n",
      "  coords=coords)\n",
      "var is  PHQ\n",
      "These time steps are cut: [  95  191  287  383  479  575  671  767  863  959 1055]\n",
      "100%|█████████████████████████████████████████████| 1/1 [00:03<00:00,  3.46s/it]\n",
      "/home/t/Tom.Beucler/miniconda3/lib/python3.7/site-packages/xarray/backends/api.py:783: FutureWarning: In xarray version 0.13 `auto_combine` will be deprecated.\n",
      "  coords=coords)\n",
      "/home/t/Tom.Beucler/miniconda3/lib/python3.7/site-packages/xarray/backends/api.py:783: FutureWarning: Also `open_mfdataset` will no longer accept a `concat_dim` argument.\n",
      "To get equivalent behaviour from now on please use the new\n",
      "`combine_nested` function instead (or the `combine='nested'` option to\n",
      "`open_mfdataset`).The datasets supplied have global dimension coordinates. You may want\n",
      "to use the new `combine_by_coords` function (or the\n",
      "`combine='by_coords'` option to `open_mfdataset` to order the datasets\n",
      "before concatenation. Alternatively, to continue concatenating based\n",
      "on the order the datasets are supplied in in future, please use the\n",
      "new `combine_nested` function (or the `combine='nested'` option to\n",
      "open_mfdataset).\n",
      "  coords=coords)\n",
      "var is  PHQ\n",
      "These time steps are cut: [  95  191  287  383  479  575  671  767  863  959 1055]\n"
     ]
    }
   ],
   "source": [
    "%cd /filer/z-sv-pool12c/t/Tom.Beucler/SPCAM/CBRAIN-CAM\n",
    "!python preprocessing-11132019.py -c /home/t/Tom.Beucler/SPCAM/CBRAIN-CAM/pp_config/8col_rad_tbeucler_local-RH-valid-PHQ.yml"
   ]
  },
  {
   "cell_type": "code",
   "execution_count": null,
   "metadata": {},
   "outputs": [],
   "source": []
  }
 ],
 "metadata": {
  "kernelspec": {
   "display_name": "Python 3",
   "language": "python",
   "name": "python3"
  },
  "language_info": {
   "codemirror_mode": {
    "name": "ipython",
    "version": 3
   },
   "file_extension": ".py",
   "mimetype": "text/x-python",
   "name": "python",
   "nbconvert_exporter": "python",
   "pygments_lexer": "ipython3",
   "version": "3.7.3"
  },
  "toc": {
   "base_numbering": 1,
   "nav_menu": {},
   "number_sections": false,
   "sideBar": true,
   "skip_h1_title": false,
   "title_cell": "Table of Contents",
   "title_sidebar": "Contents",
   "toc_cell": false,
   "toc_position": {
    "height": "calc(100% - 180px)",
    "left": "10px",
    "top": "150px",
    "width": "303.813px"
   },
   "toc_section_display": true,
   "toc_window_display": true
  }
 },
 "nbformat": 4,
 "nbformat_minor": 2
}
