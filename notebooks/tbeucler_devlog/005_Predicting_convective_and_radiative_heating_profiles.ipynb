{
 "cells": [
  {
   "cell_type": "markdown",
   "metadata": {},
   "source": [
    "tgb - 2/8/2019 - This script aims at predicting convective heating, longwave cooling and shortwave heating separately. It follows the notebook 002 that predicts:\n",
    "***\n",
    "[PHQ, PHCLDLIQ, PHCLDICE, TPHYSTND, DTVKE, FSNT, FSNS, FLNT, FLNS, PRECT, PRECTEND, PRECST, PRECSTEN] as a function of:  \n",
    "[QBP, QCBP, QIBP, TBP, VBP, Qdt_adiabatic, QCdt_adiabatic, QIdt_adiabatic, Tdt_adiabatic, Vdt_adiabatic, PS, SOLIN, SHFLX, LHFLX]  \n",
    "***\n",
    "to now predict:\n",
    "***\n",
    "[PHQ, PHCLDLIQ, PHCLDICE, TPHYSTND, QRL, QRS, DTVKE, FSNT, FSNS, FLNT, FLNS, PRECT, PRECTEND, PRECST, PRECSTEN] as a function of:  \n",
    "[QBP, QCBP, QIBP, TBP, VBP, Qdt_adiabatic, QCdt_adiabatic, QIdt_adiabatic, Tdt_adiabatic, Vdt_adiabatic, PS, SOLIN, SHFLX, LHFLX] \n",
    "***  \n",
    "Two remarks:  \n",
    "1) The energy conservation constraint will now involve a mass-weighted integral of QRL and QRS, knowing that:  \n",
    "$$\n",
    "\\int_{0}^{p_{s}}\\frac{dp}{g}c_{p}QRL\\left(p\\right)=FLNS-FLNT\n",
    "$$\n",
    "$$\n",
    "\\int_{0}^{p_{s}}\\frac{dp}{g}c_{p}QRS\\left(p\\right)=FSNT-FSNS\n",
    "$$  \n",
    "2) For consistency, we shoud calculate FLNS, FSNS as residuals from (QRL,FLNT) and (QRS,FSNS) respectively"
   ]
  },
  {
   "cell_type": "markdown",
   "metadata": {},
   "source": [
    "## 1) Preprocess all the necessary variables\n",
    "### 1.1) Build feature, target and initial normalization files"
   ]
  },
  {
   "cell_type": "code",
   "execution_count": 1,
   "metadata": {},
   "outputs": [
    {
     "name": "stderr",
     "output_type": "stream",
     "text": [
      "/home/t/Tom.Beucler/miniconda3/lib/python3.6/importlib/_bootstrap.py:219: RuntimeWarning: compiletime version 3.5 of module 'tensorflow.python.framework.fast_tensor_util' does not match runtime version 3.6\n",
      "  return f(*args, **kwds)\n"
     ]
    },
    {
     "name": "stdout",
     "output_type": "stream",
     "text": [
      "/filer/z-sv-pool12c/t/Tom.Beucler/SPCAM/CBRAIN-CAM\n"
     ]
    }
   ],
   "source": [
    "#!ln -s /filer/z-sv-pool12c/t/Tom.Beucler/SPCAM/CBRAIN-CAM/cbrain \\\n",
    "#/filer/z-sv-pool12c/t/Tom.Beucler/SPCAM/CBRAIN-CAM/notebooks/tbeucler_devlog/cbrain\n",
    "from cbrain.imports import *\n",
    "from cbrain.data_generator import *\n",
    "from cbrain.models import *\n",
    "from cbrain.losses import *\n",
    "from cbrain.utils import limit_mem\n",
    "import tensorflow as tf\n",
    "import tensorflow.math as tfm\n",
    "from tensorflow.keras.layers import *\n",
    "from tensorflow.keras.models import *\n",
    "import xarray as xr\n",
    "import numpy as np\n",
    "# Otherwise tensorflow will use ALL your GPU RAM for no reason\n",
    "limit_mem()\n",
    "TRAINDIR = '/local/Tom.Beucler/SPCAM_PHYS/'\n",
    "DATADIR = '/project/meteo/w2w/A6/S.Rasp/SP-CAM/sp32fbp_andkua/'\n",
    "PREFIX = '32_col_rad_12m_'\n",
    "%cd /filer/z-sv-pool12c/t/Tom.Beucler/SPCAM/CBRAIN-CAM"
   ]
  },
  {
   "cell_type": "markdown",
   "metadata": {},
   "source": [
    "tgb - 2/8/2019 - We need to modify the pp_config file to incorporate the 3D radiative heating profiles, as well as the layers of the network to conserve mass, energy, and infer the surface radiative balance.  \n",
    "The new pp file will be called \"32col_rad_tbeucler_local.yml\", while the prefix will be \"32_col_rad_12m_\"\n"
   ]
  },
  {
   "cell_type": "code",
   "execution_count": 2,
   "metadata": {},
   "outputs": [
    {
     "name": "stdout",
     "output_type": "stream",
     "text": [
      "GitPython not found. Please install for better reproducibility.\n",
      "Time checkpoint reading data: 2.72 s\n",
      "Number of time steps: 1152\n",
      "Cut time steps: [  95  191  287  383  479  575  671  767  863  959 1055]\n",
      "Cut time steps: [  95  191  287  383  479  575  671  767  863  959 1055]\n",
      "Time checkpoint create datasets: 2.98 s\n",
      "Time checkpoint reshape and rechunk: 11.81 s\n",
      "Compute means and stds\n",
      "Saving normalization file: /local/Tom.Beucler/SPCAM_PHYS/32_col_rad_12m_train_norm.nc\n",
      "Time checkpoint normalization arrays: 276.57 s\n",
      "Time checkpoint rechunk and ds: 278.11 s\n",
      "Save features: /local/Tom.Beucler/SPCAM_PHYS/32_col_rad_12m_train_features.nc\n",
      "Save targets: /local/Tom.Beucler/SPCAM_PHYS/32_col_rad_12m_train_targets.nc\n",
      "Total time: 395.09 s\n"
     ]
    }
   ],
   "source": [
    "!python cbrain/Test01_preprocess_aqua.py \\\n",
    "--config pp_config/32col_rad_tbeucler_local.yml \\\n",
    "--aqua_names '*.h1.0000-*-0[1-12]-*' \\\n",
    "--out_pref 32_col_rad_12m_train"
   ]
  },
  {
   "cell_type": "markdown",
   "metadata": {},
   "source": [
    "### 1.2) Create validation dataset\n"
   ]
  },
  {
   "cell_type": "code",
   "execution_count": 3,
   "metadata": {},
   "outputs": [
    {
     "name": "stdout",
     "output_type": "stream",
     "text": [
      "GitPython not found. Please install for better reproducibility.\n",
      "Time checkpoint reading data: 0.96 s\n",
      "Number of time steps: 432\n",
      "Cut time steps: [143 287]\n",
      "Cut time steps: [143 287]\n",
      "Time checkpoint create datasets: 1.15 s\n",
      "Time checkpoint reshape and rechunk: 4.41 s\n",
      "Load external normalization file\n",
      "Time checkpoint normalization arrays: 4.41 s\n",
      "Time checkpoint rechunk and ds: 4.75 s\n",
      "Save features: /local/Tom.Beucler/SPCAM_PHYS/32_col_rad_12m_valid_features.nc\n",
      "Save targets: /local/Tom.Beucler/SPCAM_PHYS/32_col_rad_12m_valid_targets.nc\n",
      "Total time: 54.80 s\n"
     ]
    }
   ],
   "source": [
    "!python cbrain/Test01_preprocess_aqua.py \\\n",
    "--config pp_config/32col_rad_tbeucler_local.yml \\\n",
    "--aqua_names '*.h1.0001-*-0[1-3]-*' \\\n",
    "--out_pref 32_col_rad_12m_valid --ext_norm Nope"
   ]
  },
  {
   "cell_type": "markdown",
   "metadata": {},
   "source": [
    "### 1.3) Shuffle the training dataset\n",
    "tgb - 1/16/2019 - Adapted from Stephan's entire worlflow for 32 column run\n",
    "tgb - 2/8/2019 - Make sure to reserve enough RAM for the shuffling, especially for shuffling the training dataset"
   ]
  },
  {
   "cell_type": "code",
   "execution_count": 4,
   "metadata": {},
   "outputs": [
    {
     "name": "stdout",
     "output_type": "stream",
     "text": [
      "/filer/z-sv-pool12c/t/Tom.Beucler/SPCAM/CBRAIN-CAM\n",
      "Reading files: /local/Tom.Beucler/SPCAM_PHYS//32_col_rad_12m_train_features.nc /local/Tom.Beucler/SPCAM_PHYS//32_col_rad_12m_train_targets.nc\n",
      "Creating files: /local/Tom.Beucler/SPCAM_PHYS//32_col_rad_12m_train_shuffle_features.nc /local/Tom.Beucler/SPCAM_PHYS//32_col_rad_12m_train_shuffle_targets.nc\n",
      "GitPython not found. Please install for better reproducibility.\n",
      "GitPython not found. Please install for better reproducibility.\n",
      "100%|█████████████████████████████████████████████| 1/1 [00:45<00:00, 45.49s/it]\n"
     ]
    }
   ],
   "source": [
    "%cd /filer/z-sv-pool12c/t/Tom.Beucler/SPCAM/CBRAIN-CAM\n",
    "!python cbrain/shuffle_ds.py --pref $TRAINDIR/32_col_rad_12m_train"
   ]
  },
  {
   "cell_type": "code",
   "execution_count": 5,
   "metadata": {},
   "outputs": [
    {
     "name": "stdout",
     "output_type": "stream",
     "text": [
      "Reading files: /local/Tom.Beucler/SPCAM_PHYS//32_col_rad_12m_valid_features.nc /local/Tom.Beucler/SPCAM_PHYS//32_col_rad_12m_valid_targets.nc\n",
      "Creating files: /local/Tom.Beucler/SPCAM_PHYS//32_col_rad_12m_valid_shuffle_features.nc /local/Tom.Beucler/SPCAM_PHYS//32_col_rad_12m_valid_shuffle_targets.nc\n",
      "GitPython not found. Please install for better reproducibility.\n",
      "GitPython not found. Please install for better reproducibility.\n",
      "100%|█████████████████████████████████████████████| 1/1 [00:15<00:00, 15.26s/it]\n"
     ]
    }
   ],
   "source": [
    "!python cbrain/shuffle_ds.py --pref $TRAINDIR/32_col_rad_12m_valid"
   ]
  },
  {
   "cell_type": "markdown",
   "metadata": {},
   "source": [
    "### 1.4) Change the output's normalization using pressure levels"
   ]
  },
  {
   "cell_type": "markdown",
   "metadata": {},
   "source": [
    "tgb - 2/6/2019 - See notebook 001 for careful test of each of the steps below  \n",
    "tgb - 2/8/2019 - Now y=[PHQ, PHCLDLIQ, PHCLDICE, TPHYSTND, QRL, QRS, DTVKE, FSNT, FSNS, FLNT, FLNS, PRECT, PRECTEND, PRECST, PRECSTEN], so we have to multiply the first 6 * 30 elements by dP and the next 30 elements by dP / dt."
   ]
  },
  {
   "cell_type": "code",
   "execution_count": 6,
   "metadata": {},
   "outputs": [
    {
     "name": "stdout",
     "output_type": "stream",
     "text": [
      "<xarray.DataArray 'target_conv' (target_lev: 218)>\n",
      "array([7.081169e+07, 1.307420e+08, 2.141697e+08, ..., 2.501000e+06,\n",
      "       2.501000e+09, 2.501000e+06], dtype=float32)\n",
      "Coordinates:\n",
      "  * target_lev  (target_lev) int64 0 1 2 3 4 5 6 ... 211 212 213 214 215 216 217\n"
     ]
    }
   ],
   "source": [
    "ds = xr.open_dataset(TRAINDIR + PREFIX + 'train_norm.nc')  \n",
    "\n",
    "# Open the pickle files containing the pressure converters\n",
    "with open(os.path.join('/filer/z-sv-pool12c/t/Tom.Beucler/SPCAM/CBRAIN-CAM/cbrain', 'hyai_hybi.pkl'), 'rb') as f:\n",
    "            hyai, hybi = pickle.load(f)\n",
    "# Takes representative value for PS since purpose is normalization\n",
    "PS = 1e5; P0 = 1e5;\n",
    "P = P0*hyai+PS*hybi; # Total pressure [Pa]\n",
    "dP = P[1:]-P[:-1]; # Differential pressure [Pa]  \n",
    "  \n",
    "dt = 30*60; # timestep\n",
    "ds.target_conv[:210] = np.multiply(ds.target_conv[:210],np.concatenate((dP,dP,dP,dP,dP,dP,np.divide(dP,dt))))\n",
    "print(ds.target_conv)\n",
    "  \n",
    "# Copy old normalization file\n",
    "path1 = os.path.join(TRAINDIR,PREFIX+'train_norm.nc')\n",
    "path2 = os.path.join(TRAINDIR,PREFIX+'train_oldnorm.nc')\n",
    "!cp $path1 $path2  \n",
    "  \n",
    "# Create new dataset with characteristics of modified ds\n",
    "new_ds = xr.Dataset({\n",
    "            'feature_means': ds.feature_means,\n",
    "            'feature_stds': ds.feature_stds,\n",
    "            'feature_mins': ds.feature_mins,\n",
    "            'feature_maxs': ds.feature_maxs,\n",
    "            'target_means': ds.target_means,\n",
    "            'target_stds': ds.target_stds,\n",
    "            'target_mins': ds.target_mins,\n",
    "            'target_maxs': ds.target_maxs,\n",
    "            'feature_names': ds.feature_names,\n",
    "            'target_names': ds.target_names,\n",
    "            'feature_stds_by_var': ds.feature_stds_by_var,\n",
    "            'target_conv': ds.target_conv\n",
    "        })  \n",
    "  \n",
    "# 4.3 Write new data set to initial target_conv file\n",
    "!rm $path1 # Remove normalization file  \n",
    "new_ds.to_netcdf(path1) # Save the new dataset as the new normalization file\n",
    "\n",
    "# 4.4 Close the xarray handler\n",
    "xr.open_dataset(path1).close() # Don't forget to close xarray handler!!"
   ]
  },
  {
   "cell_type": "markdown",
   "metadata": {},
   "source": [
    "## 2) Create data generator and produce data sample\n"
   ]
  },
  {
   "cell_type": "markdown",
   "metadata": {},
   "source": [
    "### 2.1) Create data generator from training dataset"
   ]
  },
  {
   "cell_type": "code",
   "execution_count": 2,
   "metadata": {},
   "outputs": [
    {
     "name": "stdout",
     "output_type": "stream",
     "text": [
      "Generator will have 9338880 samples in 18240 batches\n",
      "Features have shape 304; targets have shape 218\n"
     ]
    }
   ],
   "source": [
    "train_gen_obj = DataGenerator(\n",
    "    data_dir=TRAINDIR, \n",
    "    feature_fn=PREFIX+'train_shuffle_features.nc',\n",
    "    target_fn=PREFIX+'train_shuffle_targets.nc',\n",
    "    batch_size=512,\n",
    "    norm_fn=PREFIX+'train_norm.nc',\n",
    "    fsub='feature_means',   # Subtracct the mean\n",
    "    fdiv='feature_stds_by_var',    # Then divide by Std\n",
    "    tmult='target_conv',    # For targets/output: use values from preprocess_aqua.\n",
    "    shuffle=True,\n",
    ")"
   ]
  },
  {
   "cell_type": "code",
   "execution_count": 3,
   "metadata": {},
   "outputs": [
    {
     "data": {
      "text/plain": [
       "((512, 304), (512, 218))"
      ]
     },
     "execution_count": 3,
     "metadata": {},
     "output_type": "execute_result"
    }
   ],
   "source": [
    "gen = train_gen_obj.return_generator()\n",
    "# Produce data sample\n",
    "x, y = next(gen)\n",
    "# and check its shape\n",
    "x.shape, y.shape"
   ]
  },
  {
   "cell_type": "markdown",
   "metadata": {},
   "source": [
    "### 2.2) Create data generator from validation dataset and produce sample"
   ]
  },
  {
   "cell_type": "code",
   "execution_count": 4,
   "metadata": {},
   "outputs": [
    {
     "name": "stdout",
     "output_type": "stream",
     "text": [
      "Generator will have 3514368 samples in 6864 batches\n",
      "Features have shape 304; targets have shape 218\n"
     ]
    }
   ],
   "source": [
    "valid_gen_obj = DataGenerator(\n",
    "    data_dir=TRAINDIR, \n",
    "    feature_fn=PREFIX+'valid_shuffle_features.nc',\n",
    "    target_fn=PREFIX+'valid_shuffle_targets.nc',\n",
    "    batch_size=512,\n",
    "    norm_fn=PREFIX+'train_norm.nc',\n",
    "    fsub='feature_means',   # Subtracct the mean\n",
    "    fdiv='feature_stds_by_var',    # Then divide by Std\n",
    "    tmult='target_conv',    # For targets/output: use values from preprocess_aqua.\n",
    "    shuffle=True,\n",
    ")"
   ]
  },
  {
   "cell_type": "code",
   "execution_count": 5,
   "metadata": {},
   "outputs": [
    {
     "data": {
      "text/plain": [
       "((512, 304), (512, 218))"
      ]
     },
     "execution_count": 5,
     "metadata": {},
     "output_type": "execute_result"
    }
   ],
   "source": [
    "validgen = valid_gen_obj.return_generator()\n",
    "\n",
    "xval, yval = next(validgen)\n",
    "\n",
    "xval.shape, yval.shape"
   ]
  },
  {
   "cell_type": "markdown",
   "metadata": {},
   "source": [
    "## 3) Building the custom layers for mass/energy conserving neural networks"
   ]
  },
  {
   "cell_type": "markdown",
   "metadata": {},
   "source": [
    "## 3.1) Load all the normalization variables"
   ]
  },
  {
   "cell_type": "code",
   "execution_count": 6,
   "metadata": {},
   "outputs": [
    {
     "name": "stdout",
     "output_type": "stream",
     "text": [
      "fsub.shape= (304,)\n",
      "fdiv.shape= (304,)\n",
      "normq.shape= (218,)\n",
      "hyai.shape= (31,)\n",
      "hybi.shape= (31,)\n"
     ]
    }
   ],
   "source": [
    "# 1) Open the file containing the normalization of the targets\n",
    "ds = xr.open_dataset(TRAINDIR + PREFIX + 'train_norm.nc')\n",
    "# 2) Open the pickle files containing the pressure converters\n",
    "with open(os.path.join('/filer/z-sv-pool12c/t/Tom.Beucler/SPCAM/CBRAIN-CAM/cbrain', 'hyai_hybi.pkl'), 'rb') as f:\n",
    "            hyai, hybi = pickle.load(f)\n",
    "# 3) Define fsub, fdiv, normq\n",
    "fsub = ds.feature_means.values\n",
    "fdiv = ds.feature_stds_by_var.values\n",
    "normq = ds.target_conv.values\n",
    "print('fsub.shape=',fsub.shape)\n",
    "print('fdiv.shape=',fdiv.shape)\n",
    "print('normq.shape=',normq.shape)\n",
    "print('hyai.shape=',hyai.shape)\n",
    "print('hybi.shape=',hybi.shape)\n",
    "\n",
    "ds.close()"
   ]
  },
  {
   "cell_type": "markdown",
   "metadata": {},
   "source": [
    "## 3.2) Check radiative integrals in numpy\n",
    "tgb - 2/8/2019 - We are checking that:\n",
    "$$\n",
    "\\int_{0}^{p_{s}}\\frac{dp}{g}c_{p}QRL\\left(p\\right)=FLNS-FLNT\n",
    "$$\n",
    "$$\n",
    "\\int_{0}^{p_{s}}\\frac{dp}{g}c_{p}QRS\\left(p\\right)=FSNT-FSNS\n",
    "$$  \n",
    "Using the normalization to units W/m2, we are checking that:  \n",
    "$$\n",
    "\\int_{0}^{\\widetilde{p_{s}}}d\\widetilde{p}\\cdot\\delta QRL=FLNS-FLNT\n",
    "$$\n",
    "$$\n",
    "\\int_{0}^{\\widetilde{p_{s}}}d\\widetilde{p}\\cdot\\delta QRS=FSNT-FSNS\n",
    "$$\n",
    "x = [QBP, QCBP, QIBP, TBP, VBP, Qdt_adiabatic, QCdt_adiabatic, QIdt_adiabatic, Tdt_adiabatic, Vdt_adiabatic, PS, SOLIN, SHFLX, LHFLX]  \n",
    "y = [PHQ, PHCLDLIQ, PHCLDICE, TPHYSTND, QRL, QRS, DTVKE, FSNT, FSNS, FLNT, FLNS, PRECT, PRECTEND, PRECST, PRECSTEN]  \n",
    "In this sub-section we have several objectives:  \n",
    "1) Making sure that for y, the integral relation holds  \n",
    "2) Coding the surface radiation layer in numpy  \n",
    "3) Convert the surface radiation layer to tensorflow"
   ]
  },
  {
   "cell_type": "markdown",
   "metadata": {},
   "source": [
    "### 3.2.1) Checking consistency of radiative-integrals"
   ]
  },
  {
   "cell_type": "code",
   "execution_count": 7,
   "metadata": {},
   "outputs": [
    {
     "data": {
      "text/plain": [
       "(array([  1.,   5.,  20., 305., 127.,  37.,   9.,   5.,   2.,   1.]),\n",
       " array([-7.37983379e-05, -5.51983819e-05, -3.65984259e-05, -1.79984699e-05,\n",
       "         6.01486124e-07,  1.92014421e-05,  3.78013981e-05,  5.64013541e-05,\n",
       "         7.50013101e-05,  9.36012661e-05,  1.12201222e-04]),\n",
       " <a list of 10 Patch objects>)"
      ]
     },
     "execution_count": 7,
     "metadata": {},
     "output_type": "execute_result"
    },
    {
     "data": {
      "image/png": "[encoded data removed]",
      "text/plain": [
       "<Figure size 432x288 with 1 Axes>"
      ]
     },
     "metadata": {
      "needs_background": "light"
     },
     "output_type": "display_data"
    }
   ],
   "source": [
    "x,y = next(gen) # x.shape = 304 & y.shape = 218\n",
    "import copy\n",
    "inp = copy.copy(x)\n",
    "\n",
    "# 0) Constants\n",
    "C_P = 1.00464e3 # Specific heat capacity of air at constant pressure\n",
    "G = 9.80616; # Reference gravity constant [m.s-2]\n",
    "P0 = 1e5; # Reference surface pressure [Pa]\n",
    "        \n",
    "# 1) Get non-dimensional pressure differences (p_tilde above)\n",
    "PS = np.add( np.multiply( inp[:,300], fdiv[300]), fsub[300])\n",
    "# Reference for calculation of d_pressure is cbrain/models.py (e.g. QLayer)\n",
    "P = np.add( np.multiply( P0, hyai), \\\n",
    "            np.multiply( PS[:,None], hybi))\n",
    "dP = np.subtract( P[:, 1:], P[:, :-1])\n",
    "# norm_output = dp_norm * L_V/G so dp_norm = norm_output * G/L_V\n",
    "dP_NORM = np.divide( \\\n",
    "                     np.multiply(normq[:30], \\\n",
    "                           G), L_V)\n",
    "# dp_tilde = dp/dp_norm\n",
    "# Wondering about broadcasting here...\n",
    "# tf.div or simply \\ would support broadcasting \n",
    "dP_TILD = np.divide( dP, dP_NORM)\n",
    "\n",
    "# 2) Radiative integrals\n",
    "SWVEC = np.multiply( dP_TILD, y[:, 150:180])\n",
    "SWINT = np.sum( SWVEC, axis=1)\n",
    "SWNET = y[:,210]-y[:,211] # FSNT-FSNS\n",
    "\n",
    "LWVEC = np.multiply( dP_TILD, y[:, 120:150])\n",
    "LWINT = np.sum( LWVEC, axis=1) # LW integral\n",
    "LWNET = y[:,213]-y[:,212] # FLNS-FLNT\n",
    "\n",
    "plt.hist(SWINT-SWNET)"
   ]
  },
  {
   "cell_type": "markdown",
   "metadata": {},
   "source": [
    "### 3.2.2) Coding surface radiation layer in numpy\n",
    "tgb - 2/8/2019 - I plan on using the surface radiation layer before the mass and enthalpy conservation layers in the conserving network architecture (C), so let's work backwards from y to find what the input/output would be:  \n",
    "y = [PHQ, PHCLDLIQ, PHCLDICE, TPHYSTND, QRL, QRS, DTVKE, FSNT, FSNS, FLNT, FLNS, PRECT, PRECTEND, PRECST, PRECSTEN]  \n",
    "y_before_ent = [PHQ, PHCLDLIQ, PHCLDICE, TPHYSTND \\ {TPHYSTND30}, QRL, QRS, DTVKE, FSNT, FSNS, FLNT, FLNS, PRECT, PRECTEND, PRECST, PRECSTEN]  \n",
    "y_before_mass = [PHQ \\ {PHQ30}, PHCLDLIQ, PHCLDICE, TPHYSTND \\ {TPHYSTND30}, QRL, QRS, DTVKE, FSNT, FSNS, FLNT, FLNS, PRECT, PRECTEND, PRECST, PRECSTEN]  \n",
    "y_before_surfrad = [PHQ \\ {PHQ30}, PHCLDLIQ, PHCLDICE, TPHYSTND \\ {TPHYSTND30}, QRL, QRS, DTVKE, FSNT, FLNT, PRECT, PRECTEND, PRECST, PRECSTEN]  \n",
    "We would like to code the surface radiation layer so that:  \n",
    "(Surface radiation layer): y_before_surfrad [214] |---> y_before_mass [216]"
   ]
  },
  {
   "cell_type": "code",
   "execution_count": 8,
   "metadata": {},
   "outputs": [
    {
     "name": "stdout",
     "output_type": "stream",
     "text": [
      "y before surf rad (512, 214)\n",
      "Target y after surf rad (512, 216)\n",
      "y after surf rad (512, 216)\n"
     ]
    },
    {
     "data": {
      "text/plain": [
       "(array([  4.,  10.,  33.,  51.,  85., 111., 116.,  64.,  33.,   5.]),\n",
       " array([-3.52220841e-05, -3.02609455e-05, -2.52998069e-05, -2.03386683e-05,\n",
       "        -1.53775297e-05, -1.04163911e-05, -5.45525248e-06, -4.94113874e-07,\n",
       "         4.46702473e-06,  9.42816334e-06,  1.43893020e-05]),\n",
       " <a list of 10 Patch objects>)"
      ]
     },
     "execution_count": 8,
     "metadata": {},
     "output_type": "execute_result"
    },
    {
     "data": {
      "image/png": "[encoded data removed]",
      "text/plain": [
       "<Figure size 432x288 with 1 Axes>"
      ]
     },
     "metadata": {
      "needs_background": "light"
     },
     "output_type": "display_data"
    }
   ],
   "source": [
    "x,y = next(gen) # x.shape = 304 & y.shape = 218\n",
    "import copy\n",
    "inp = copy.copy(x)\n",
    "# Mimic the vector that comes in\n",
    "ybef = np.concatenate([y[:,:29],y[:,30:119],y[:,120:211],y[:,212:213],y[:,214:]],1)\n",
    "ytar = np.concatenate([y[:,:29],y[:,30:119],y[:,120:]],1)\n",
    "print('y before surf rad',ybef.shape)\n",
    "print('Target y after surf rad',ytar.shape)\n",
    "\n",
    "# 0) Constants\n",
    "C_P = 1.00464e3 # Specific heat capacity of air at constant pressure\n",
    "G = 9.80616; # Reference gravity constant [m.s-2]\n",
    "L_V = 2.501e6; # Latent heat of vaporization of water [W.kg-1]\n",
    "P0 = 1e5; # Reference surface pressure [Pa]\n",
    "        \n",
    "# 1) Get non-dimensional pressure differences (p_tilde above)\n",
    "PS = np.add( np.multiply( inp[:,300], fdiv[300]), fsub[300])\n",
    "# Reference for calculation of d_pressure is cbrain/models.py (e.g. QLayer)\n",
    "P = np.add( np.multiply( P0, hyai), \\\n",
    "            np.multiply( PS[:,None], hybi))\n",
    "dP = np.subtract( P[:, 1:], P[:, :-1])\n",
    "# norm_output = dp_norm * L_V/G so dp_norm = norm_output * G/L_V\n",
    "dP_NORM = np.divide( \\\n",
    "                     np.multiply(normq[:30], \\\n",
    "                           G), L_V)\n",
    "# dp_tilde = dp/dp_norm\n",
    "# Wondering about broadcasting here...\n",
    "# tf.div or simply \\ would support broadcasting \n",
    "dP_TILD = np.divide( dP, dP_NORM)\n",
    "\n",
    "# 2) Radiative integrals\n",
    "SWVEC = np.multiply( dP_TILD, ybef[:, 148:178])\n",
    "SWINT = np.sum( SWVEC, axis=1)\n",
    "#SWNET = y[:,210]-y[:,211] # FSNT-FSNS\n",
    "\n",
    "LWVEC = np.multiply( dP_TILD, ybef[:, 118:148])\n",
    "LWINT = np.sum( LWVEC, axis=1) # LW integral\n",
    "#LWNET = y[:,213]-y[:,212] # FLNS-FLNT\n",
    "\n",
    "# 3) Infer surface radiative fluxes from radiative integrals and TOA radiative fluxes\n",
    "FSNS = np.subtract(ybef[:,208], SWINT) # FSNS = FSNT-SWINT\n",
    "FLNS = np.add(ybef[:,209], LWINT) # FLNS = FLNT+LWINT\n",
    "\n",
    "# 4) Concatenate the input of the dense layer with \n",
    "# the net surface radiative fluxes to form \n",
    "# the output of the surface radiation layer\n",
    "yaft = np.concatenate([ybef[:, :209], np.expand_dims(FSNS, axis=1),\\\n",
    "                       ybef[:, 209:210], np.expand_dims(FLNS, axis=1),\\\n",
    "                      ybef[:, 210:]], 1)\n",
    "print('y after surf rad', yaft.shape)\n",
    "\n",
    "plt.hist(yaft[:,209]-ytar[:,209])\n",
    "plt.hist(yaft[:,211]-ytar[:,211])"
   ]
  },
  {
   "cell_type": "markdown",
   "metadata": {},
   "source": [
    "### 3.2.3) Port the surface radiation layer to tensorflow"
   ]
  },
  {
   "cell_type": "code",
   "execution_count": 9,
   "metadata": {},
   "outputs": [],
   "source": [
    "class SurRadLay(Layer):\n",
    "    \n",
    "    def __init__(self, fsub, fdiv, normq, hyai, hybi, output_dim, **kwargs):\n",
    "        self.fsub = fsub # Subtraction for normalization of inputs \n",
    "        self.fdiv = fdiv # Division for normalization of inputs\n",
    "        self.normq = normq # Normalization of output's water concentration\n",
    "        self.hyai = hyai # CAM constants to calculate d_pressure\n",
    "        self.hybi = hybi # CAM constants to calculate d_pressure\n",
    "        self.output_dim = output_dim # Dimension of output\n",
    "        super().__init__(**kwargs)\n",
    "        \n",
    "    def build(self, input_shape):\n",
    "        super().build(input_shape)  # Be sure to call this somewhere!\n",
    "    \n",
    "    # tgb - 2/6/2019 - following https://github.com/keras-team/keras/issues/4871\n",
    "    def get_config(self):\n",
    "        config = {'fsub': list(self.fsub), 'fdiv': list(self.fdiv),\n",
    "                  'normq': list(self.normq), 'hyai': list(self.hyai),\n",
    "                  'hybi': list(self.hybi), 'output_dim': self.output_dim}\n",
    "        base_config = super(SurRadLay, self).get_config()\n",
    "        return dict(list(base_config.items()) + list(config.items()))\n",
    "    \n",
    "    def call(self, arrs):\n",
    "    \n",
    "        # Split between the inputs inp & the output of the densely connected\n",
    "        # neural network, massout\n",
    "        inp, densout = arrs\n",
    "        \n",
    "        # 0) Constants\n",
    "        C_P = 1.00464e3 # Specific heat capacity of air at constant pressure\n",
    "        G = 9.80616; # Reference gravity constant [m.s-2]\n",
    "        L_V = 2.501e6; # Latent heat of vaporization of water [W.kg-1]\n",
    "        P0 = 1e5; # Reference surface pressure [Pa]\n",
    "\n",
    "        # 1) Get non-dimensional pressure differences (p_tilde above)\n",
    "        PS = tfm.add( tfm.multiply( inp[:,300], self.fdiv[300]), self.fsub[300])\n",
    "        # Reference for calculation of d_pressure is cbrain/models.py (e.g. QLayer)\n",
    "        P = tfm.add( tfm.multiply( P0, self.hyai), \\\n",
    "                    tfm.multiply( PS[:,None], self.hybi))\n",
    "        dP = tfm.subtract( P[:, 1:], P[:, :-1])\n",
    "        # norm_output = dp_norm * L_V/G so dp_norm = norm_output * G/L_V\n",
    "        dP_NORM = tfm.divide( \\\n",
    "                             tfm.multiply(self.normq[:30], \\\n",
    "                                          G),\\\n",
    "                             L_V)\n",
    "        # dp_tilde = dp/dp_norm\n",
    "        dP_TILD = tfm.divide( dP, dP_NORM)\n",
    "\n",
    "        # 2) Radiative integrals\n",
    "        SWVEC = tfm.multiply( dP_TILD, densout[:, 148:178])\n",
    "        SWINT = tfm.reduce_sum( SWVEC, axis=1)\n",
    "\n",
    "        LWVEC = tfm.multiply( dP_TILD, densout[:, 118:148])\n",
    "        LWINT = tfm.reduce_sum( LWVEC, axis=1) # LW integral\n",
    "\n",
    "        # 3) Infer surface radiative fluxes from radiative integrals and TOA radiative fluxes\n",
    "        FSNS = tfm.subtract( densout[:,208], SWINT) # FSNS = FSNT-SWINT\n",
    "        FLNS = tfm.add( densout[:,209], LWINT) # FLNS = FLNT+LWINT\n",
    "\n",
    "        # 4) Concatenate the input of the dense layer with \n",
    "        # the net surface radiative fluxes to form \n",
    "        # the output of the surface radiation layer\n",
    "        out = tf.concat([densout[:, :209], tf.expand_dims(FSNS, axis=1),\\\n",
    "                               densout[:, 209:210], tf.expand_dims(FLNS, axis=1),\\\n",
    "                              densout[:, 210:]], 1)\n",
    "        \n",
    "        return out\n",
    "    \n",
    "    def compute_output_shape(self, input_shape):\n",
    "        # tgb - 2/7/2019 - Wrap the returned output shape in Tensorshape\n",
    "        # to avoid problems with custom layers & eager execution\n",
    "        # https://github.com/tensorflow/tensorflow/issues/20805\n",
    "        return tf.TensorShape((input_shape[0][0], self.output_dim)) \n",
    "    # The layer takes inputs from the previous layer that have shape 124\n",
    "    # and outputs y of shape 126 to be fed to the mass cons. layers"
   ]
  },
  {
   "cell_type": "markdown",
   "metadata": {},
   "source": [
    "## 3.3) Adapt mass conservation layer to new output format\n",
    "tgb - 2/8/2019 - For now, change indices of MasConsLay in cbrain/models"
   ]
  },
  {
   "cell_type": "code",
   "execution_count": 10,
   "metadata": {},
   "outputs": [],
   "source": [
    "class MasConsLay(Layer):\n",
    "    \n",
    "    def __init__(self, fsub, fdiv, normq, hyai, hybi, output_dim, **kwargs):\n",
    "        self.fsub = fsub # Subtraction for normalization of inputs \n",
    "        self.fdiv = fdiv # Division for normalization of inputs\n",
    "        self.normq = normq # Normalization of output's water concentration\n",
    "        self.hyai = hyai # CAM constants to calculate d_pressure\n",
    "        self.hybi = hybi # CAM constants to calculate d_pressure\n",
    "        self.output_dim = output_dim # Dimension of output\n",
    "        super().__init__(**kwargs)\n",
    "        \n",
    "    def build(self, input_shape):\n",
    "        super().build(input_shape)  # Be sure to call this somewhere!\n",
    "    \n",
    "    # tgb - 2/6/2019 - following https://github.com/keras-team/keras/issues/4871\n",
    "    def get_config(self):\n",
    "        config = {'fsub': list(self.fsub), 'fdiv': list(self.fdiv),\n",
    "                  'normq': list(self.normq), 'hyai': list(self.hyai),\n",
    "                  'hybi': list(self.hybi), 'output_dim': self.output_dim}\n",
    "        base_config = super(MasConsLay, self).get_config()\n",
    "        return dict(list(base_config.items()) + list(config.items()))\n",
    "        \n",
    "    def call(self, arrs):        \n",
    "        # Split between the inputs inp & the output of the densely connected\n",
    "        # neural network, sradout\n",
    "        inp, sradout = arrs\n",
    "        \n",
    "        # 0) Constants\n",
    "        G = 9.80616; # Reference gravity constant [m.s-2]\n",
    "        L_V = 2.501e6; # Latent heat of vaporization of water [W.kg-1]\n",
    "        P0 = 1e5; # Reference surface pressure [Pa]\n",
    "        \n",
    "        # 1) Get non-dimensional pressure differences (p_tilde above)\n",
    "        # In the input vector, PS is the 151st element after \n",
    "        # the first elements = [QBP, ..., VBP with shape 30*5=150]\n",
    "        PS = tfm.add( tfm.multiply( inp[:,300], self.fdiv[300]), self.fsub[300])\n",
    "        # Reference for calculation of d_pressure is cbrain/models.py (e.g. QLayer)\n",
    "        P = tfm.add( tfm.multiply( P0, self.hyai), \\\n",
    "                    tfm.multiply( PS[:,None], self.hybi))\n",
    "        dP = tfm.subtract( P[:, 1:], P[:, :-1])\n",
    "        # norm_output = dp_norm * L_V/G so dp_norm = norm_output * G/L_V\n",
    "        dP_NORM = tfm.divide( \\\n",
    "                             tfm.multiply(self.normq[:30], \\\n",
    "                                   G), L_V)\n",
    "        # dp_tilde = dp/dp_norm\n",
    "        # Wondering about broadcasting here...\n",
    "        # tf.div or simply \\ would support broadcasting \n",
    "        dP_TILD = tfm.divide( dP, dP_NORM)\n",
    "        \n",
    "        # 2) Calculate cloud water vertical integral from level 1 to level 30\n",
    "        # The indices are tricky here because we are missing del(q_v)@(level 30)\n",
    "        # so e.g. q_liq@(level 1) is the 30th element of the output of the \n",
    "        # previous dense layer\n",
    "        CLDVEC = tfm.multiply( dP_TILD, \\\n",
    "                                  tfm.add( sradout[:, 29:59], sradout[:, 59:89]))\n",
    "        CLDINT = tfm.reduce_sum( CLDVEC, axis=1)\n",
    "        \n",
    "        # 3) Calculate water vapor vertical integral from level 1 to level 29\n",
    "        VAPVEC = tfm.multiply( dP_TILD[:, :29], \\\n",
    "                                  sradout[:, :29])\n",
    "        VAPINT = tfm.reduce_sum( VAPVEC, axis=1)\n",
    "        \n",
    "        # 4) Calculate forcing on the right-hand side (Net Evaporation-Precipitation)\n",
    "        # E-P is already normalized to units W.m-2 in the output vector\n",
    "        # so all we need to do is input-unnormalize LHF that is taken from the input vector\n",
    "        LHF = tfm.add( tfm.multiply( inp[:,303], self.fdiv[303]), self.fsub[303])\n",
    "        # Note that total precipitation = PRECT + 1e-3*PRECTEND in the CAM model\n",
    "        # PRECTEND already multiplied by 1e-3 in output vector so no need to redo it\n",
    "        # tgb - 2/8/2019 - This is the only line modified from the large-scale version 002\n",
    "        PREC = tfm.add( sradout[:, 212], sradout[:, 213])\n",
    "        \n",
    "        # 5) Infer water vapor tendency at level 30 as a residual\n",
    "        # Composing tfm.add 3 times because not sure how to use tfm.add_n\n",
    "        DELQV30 = tfm.divide( \\\n",
    "                             tfm.add( tfm.add( tfm.add (\\\n",
    "                                                        LHF, tfm.negative(PREC)), \\\n",
    "                                              tfm.negative(CLDINT)), \\\n",
    "                                     tfm.negative(VAPINT)), \\\n",
    "                             dP_TILD[:, 29])\n",
    "        \n",
    "        # 6) Concatenate the water tendencies with the newly inferred tendency\n",
    "        # to get the final vector out of shape (#samples,125) with\n",
    "        # [DELQ, DELCLDLIQ, DELCLDICE, \n",
    "        # TPHYSTND\\{TPHYSTND AT SURFACE}, FSNT, FSNS, FLNT, FLNS, PRECT PRECTEND]\n",
    "        # Uses https://www.tensorflow.org/api_docs/python/tf/concat\n",
    "        DELQV30 = tf.expand_dims(DELQV30,1) # Adds dimension=1 to axis=1\n",
    "        out = tf.concat([sradout[:, :29], DELQV30, sradout[:, 29:]], 1)\n",
    "        return out\n",
    "    \n",
    "    def compute_output_shape(self, input_shape):\n",
    "        # tgb - 2/7/2019 - Wrap the returned output shape in Tensorshape\n",
    "        # to avoid problems with custom layers & eager execution\n",
    "        # https://github.com/tensorflow/tensorflow/issues/20805\n",
    "        return tf.TensorShape((input_shape[0][0], self.output_dim)) \n",
    "    # The output has size 125=30*4+6-1\n",
    "    # and is ready to be fed to the energy conservation layer\n",
    "    # before we reach the total number of outputs = 126"
   ]
  },
  {
   "cell_type": "markdown",
   "metadata": {},
   "source": [
    "## 3.4) Adapt enthalpy conservation layer to new output format\n",
    "tgb - 2/8/2019 - For now, change indices of EntConsLay in cbrain/models"
   ]
  },
  {
   "cell_type": "code",
   "execution_count": 11,
   "metadata": {},
   "outputs": [],
   "source": [
    "class EntConsLay(Layer):\n",
    "    \n",
    "    def __init__(self, fsub, fdiv, normq, hyai, hybi, output_dim, **kwargs):\n",
    "        self.fsub = fsub # Subtraction for normalization of inputs \n",
    "        self.fdiv = fdiv # Division for normalization of inputs\n",
    "        self.normq = normq # Normalization of output's water concentration\n",
    "        self.hyai = hyai # CAM constants to calculate d_pressure\n",
    "        self.hybi = hybi # CAM constants to calculate d_pressure\n",
    "        self.output_dim = output_dim # Dimension of output\n",
    "        super().__init__(**kwargs)\n",
    "        \n",
    "    def build(self, input_shape):\n",
    "        super().build(input_shape)  # Be sure to call this somewhere!\n",
    "        \n",
    "    # tgb - 2/6/2019 - following https://github.com/keras-team/keras/issues/4871\n",
    "    def get_config(self):\n",
    "        config = {'fsub': list(self.fsub), 'fdiv': list(self.fdiv),\n",
    "                  'normq': list(self.normq), 'hyai': list(self.hyai),\n",
    "                  'hybi': list(self.hybi), 'output_dim': self.output_dim}\n",
    "        base_config = super(EntConsLay, self).get_config()\n",
    "        return dict(list(base_config.items()) + list(config.items()))\n",
    "        \n",
    "    def call(self, arrs):\n",
    "        \n",
    "        # Split between the inputs inp & the output of the densely connected\n",
    "        # neural network, massout\n",
    "        inp, massout = arrs\n",
    "        \n",
    "        # 0) Constants\n",
    "        G = 9.80616; # Reference gravity constant [m.s-2]\n",
    "        L_F = 3.337e5; # Latent heat of fusion of water [W.kg-1]\n",
    "        L_V = 2.501e6; # Latent heat of vaporization of water [W.kg-1]\n",
    "        P0 = 1e5; # Reference surface pressure [Pa]\n",
    "        \n",
    "        # 1) Get non-dimensional pressure differences (p_tilde above)\n",
    "        # In the input vector, PS is the 151st element after \n",
    "        # the first elements = [QBP, ..., VBP with shape 30*5=150]\n",
    "        PS = tfm.add( tfm.multiply( inp[:,300], self.fdiv[300]), self.fsub[300])\n",
    "        # Reference for calculation of d_pressure is cbrain/models.py (e.g. QLayer)\n",
    "        P = tfm.add( tfm.multiply( P0, self.hyai), \\\n",
    "                    tfm.multiply( PS[:,None], self.hybi))\n",
    "        dP = tfm.subtract( P[:, 1:], P[:, :-1])\n",
    "        # norm_output = dp_norm * L_V/G so dp_norm = norm_output * G/L_V\n",
    "        dP_NORM = tfm.divide( \\\n",
    "                             tfm.multiply(self.normq[:30], \\\n",
    "                                          G),\\\n",
    "                             L_V)\n",
    "        # dp_tilde = dp/dp_norm\n",
    "        dP_TILD = tfm.divide( dP, dP_NORM)\n",
    "        \n",
    "        # 2) Calculate net energy input from phase change and precipitation\n",
    "        # PHAS = Lf/Lv*((PRECST+PRECSTEN)-(PRECT+PRECTEND))\n",
    "        PHAS = tfm.divide( tfm.multiply( tfm.subtract(\\\n",
    "                                                      tfm.add( massout[:,215], massout[:,216]),\\\n",
    "                                                      tfm.add( massout[:,213], massout[:,214])),\\\n",
    "                                        L_F),\\\n",
    "                          L_V)\n",
    "        \n",
    "        # 3) Calculate net energy input from radiation, sensible heat flux and turbulent KE\n",
    "        # 3.1) RAD = FSNT-FSNS-FLNT+FLNS\n",
    "        RAD = tfm.add(\\\n",
    "                      tfm.subtract( massout[:,209], massout[:,210]),\\\n",
    "                      tfm.subtract( massout[:,212], massout[:,211]))\n",
    "        # 3.2) Unnormalize sensible heat flux\n",
    "        SHF = tfm.add( tfm.multiply( inp[:,302], self.fdiv[302]), self.fsub[302])\n",
    "        # 3.3) Net turbulent kinetic energy dissipative heating is the column-integrated \n",
    "        # turbulent kinetic energy energy dissipative heating\n",
    "        # tgb - 3/20/2019 - Error here, it should be \n",
    "        KEDVEC = tfm.multiply( dP_TILD, massout[:, 179:209])\n",
    "        KEDINT = tfm.reduce_sum( KEDVEC, axis=1)\n",
    "        \n",
    "        # 4) Calculate tendency of normalized column water vapor due to phase change\n",
    "        # 4.1) Unnormalize latent heat flux\n",
    "        LHF = tfm.add( tfm.multiply( inp[:,303], self.fdiv[303]), self.fsub[303])\n",
    "        # 4.2) Column water vapor is the column integral of specific humidity\n",
    "        PHQVEC = tfm.multiply( dP_TILD, massout[:, :30])\n",
    "        PHQINT = tfm.reduce_sum( PHQVEC, axis=1)\n",
    "        # 4.3) Multiply by L_S/L_V to normalize (explanation above)\n",
    "        SPDQINT = tfm.divide( tfm.multiply( tfm.subtract(\\\n",
    "                                                         PHQINT, LHF),\\\n",
    "                                           L_S),\\\n",
    "                             L_V)\n",
    "        \n",
    "        # 5) Same operation for liquid water tendency but multiplied by L_F/L_V\n",
    "        SPDQCINT = tfm.divide( tfm.multiply(\\\n",
    "                                            tfm.reduce_sum(\\\n",
    "                                                           tfm.multiply( dP_TILD, massout[:, 30:60]),\\\n",
    "                                                           axis=1),\\\n",
    "                                            L_F),\\\n",
    "                              L_V)\n",
    "        \n",
    "        # 6) Same operation for temperature but only integrate from level 1 to level 29\n",
    "        DTINT = tfm.reduce_sum( tfm.multiply( dP_TILD[:, :29], massout[:, 90:119]), axis=1)\n",
    "\n",
    "        # 7) Now calculate dT30 as a residual\n",
    "        dT30 = tfm.divide(tfm.add(tfm.add(tfm.add(tfm.add(tfm.add(tfm.add(\\\n",
    "                                                                          PHAS,RAD),\\\n",
    "                                                                  SHF),\\\n",
    "                                                          KEDINT),\\\n",
    "                                                  tfm.negative( SPDQINT)),\\\n",
    "                                          tfm.negative( SPDQCINT)),\\\n",
    "                                  tfm.negative( DTINT)),\\\n",
    "                          dP_TILD[:, 29])\n",
    "        dT30 = tf.expand_dims(dT30,1)\n",
    "\n",
    "        out = tf.concat([massout[:, :119], dT30, massout[:, 119:]], 1)\n",
    "        return out\n",
    "    \n",
    "    def compute_output_shape(self, input_shape):\n",
    "        # tgb - 2/7/2019 - Wrap the returned output shape in Tensorshape\n",
    "        # to avoid problems with custom layers & eager execution\n",
    "        # https://github.com/tensorflow/tensorflow/issues/20805\n",
    "        return tf.TensorShape((input_shape[0][0], self.output_dim))\n",
    "    # and is ready to be used in the cost function"
   ]
  },
  {
   "cell_type": "markdown",
   "metadata": {},
   "source": [
    "## 3.5) Keep custom loss function\n",
    "$$\n",
    "\\mathrm{Loss}\\left[\\mathrm{W^{2}.m^{-4}}\\right]=\\alpha\\cdot\\mathrm{MSE}+\\left(1-\\alpha\\right)\\left(\\mathrm{Enthalpy\\ residual}^{2}+\\mathrm{Mass\\ residual}^{2}\\right)\\ \\ |\\ \\ \\alpha\\in[0,1]\n",
    "$$\n",
    "tgb - 2/5/2019- Inspired from \n",
    "1) https://stackoverflow.com/questions/46858016/keras-custom-loss-function-to-pass-arguments-other-than-y-true-and-y-pred for the custom loss function  \n",
    "2) https://stackoverflow.com/questions/46464549/keras-custom-loss-function-accessing-current-input-pattern for using the inputs in the custom loss function\n",
    "Uses the function  massent_check as reference for the square Energy and mass residuals  \n",
    "tgb - 2/9/2019 - Don't forget the additional entries in the output vector (LW and SW heating profiles)!"
   ]
  },
  {
   "cell_type": "code",
   "execution_count": 12,
   "metadata": {},
   "outputs": [],
   "source": [
    "def customLoss(input_tensor,fsub,fdiv,normq,hyai,hybi,alpha = 0.5):\n",
    "\n",
    "        # tgb - 2/5/2019 - Loss function written above\n",
    "    def lossFunction(y_true,y_pred):    \n",
    "        loss = tfm.multiply(alpha, mse(y_true, y_pred))\n",
    "        loss += tfm.multiply(tfm.subtract(1.0,alpha), \\\n",
    "                            massent_res(input_tensor,y_pred,fsub,fdiv,normq,hyai,hybi))\n",
    "        return loss\n",
    "\n",
    "    # tgb - 2/5/2019 - Mass and enthalpy residual function\n",
    "    # Adapted from massent_check by converting numpy to tensorflow\n",
    "    def massent_res(x,y,fsub,fdiv,normq,hyai,hybi):\n",
    "\n",
    "        # 0) Constants\n",
    "        G = 9.80616; # Reference gravity constant [m.s-2]\n",
    "        L_F = 3.337e5; # Latent heat of fusion of water [W.kg-1]\n",
    "        L_V = 2.501e6; # Latent heat of vaporization of water [W.kg-1]\n",
    "        L_S = L_F+L_V; # Latent heat of sublimation of water [W.kg-1]\n",
    "        P0 = 1e5; # Reference surface pressure [Pa]   \n",
    "\n",
    "        # WATER&ENTHALPY) Get non-dimensional pressure differences (p_tilde above)\n",
    "        # In the input vector, PS is the 151st element after \n",
    "        # the first elements = [QBP, ..., VBP with shape 30*5=150]\n",
    "        PS = tfm.add( tfm.multiply( x[:,300], fdiv[300]), fsub[300])\n",
    "        # Reference for calculation of d_pressure is cbrain/models.py (e.g. QLayer)\n",
    "        P = tfm.add( tfm.multiply( P0, hyai), \\\n",
    "        tfm.multiply( PS[:,None], hybi))\n",
    "        dP = tfm.subtract( P[:, 1:], P[:, :-1])\n",
    "        # norm_output = dp_norm * L_V/G so dp_norm = norm_output * G/L_V\n",
    "        dP_NORM = tfm.divide( \\\n",
    "        tfm.multiply(normq[:30], \\\n",
    "                  G),\\\n",
    "        L_V)\n",
    "        # dp_tilde = dp/dp_norm\n",
    "        dP_TILD = tfm.divide( dP, dP_NORM)\n",
    "\n",
    "        # WATER.1) Calculate water vertical integral from level 1 to level 30\n",
    "        WATVEC = tfm.multiply( dP_TILD, tfm.add(tfm.add(y[:, :30],\\\n",
    "                                                        y[:, 30:60]),\\\n",
    "                                                y[:, 60:90]))\n",
    "        WATINT = tfm.reduce_sum( WATVEC, axis=1)\n",
    "\n",
    "        # WATER.2) Calculate forcing on the right-hand side (Net Evaporation-Precipitation)\n",
    "        # E-P is already normalized to units W.m-2 in the output vector\n",
    "        # so all we need to do is input-unnormalize LHF that is taken from the input vector\n",
    "        LHF = tfm.add( tfm.multiply( x[:,303], fdiv[303]), fsub[303])\n",
    "        # Note that total precipitation = PRECT + 1e-3*PRECTEND in the CAM model\n",
    "        # PRECTEND already multiplied by 1e-3 in output vector so no need to redo it\n",
    "        PREC = tfm.add( y[:, 214], y[:, 215])\n",
    "\n",
    "        # WATER.FINAL) Residual = E-P-DWATER/DT\n",
    "        WATRES = tfm.add(tfm.add(LHF,\\\n",
    "                                 tfm.negative(PREC)),\\\n",
    "                         tfm.negative(WATINT))\n",
    "\n",
    "        # ENTHALPY.1) Calculate net energy input from phase change and precipitation\n",
    "        # PHAS = Lf/Lv*((PRECST+PRECSTEN)-(PRECT+PRECTEND))\n",
    "        PHAS = tfm.divide( tfm.multiply( tfm.subtract(\\\n",
    "                                              tfm.add( y[:,216], y[:,217]),\\\n",
    "                                              tfm.add( y[:,214], y[:,215])),\\\n",
    "                                      L_F),\\\n",
    "                         L_V)\n",
    "\n",
    "        # ENTHALPY.2) Calculate net energy input from radiation, sensible heat flux and turbulent KE\n",
    "        # 2.1) RAD = FSNT-FSNS-FLNT+FLNS\n",
    "        RAD = tfm.add(\\\n",
    "                      tfm.subtract( y[:,210], y[:,211]),\\\n",
    "                      tfm.subtract( y[:,213], y[:,212]))\n",
    "        # 2.2) Unnormalize sensible heat flux\n",
    "        SHF = tfm.add( tfm.multiply( x[:,302], fdiv[302]), fsub[302])\n",
    "        # 2.3) Net turbulent kinetic energy dissipative heating is the column-integrated \n",
    "        # turbulent kinetic energy energy dissipative heating\n",
    "        KEDVEC = tfm.multiply( dP_TILD, y[:, 180:210])\n",
    "        KEDINT = tfm.reduce_sum( KEDVEC, axis=1)\n",
    "\n",
    "        # ENTHALPY.3) Calculate tendency of normalized column water vapor due to phase change\n",
    "        # 3.1) Column water vapor is the column integral of specific humidity\n",
    "        PHQVEC = tfm.multiply( dP_TILD, y[:, :30])\n",
    "        PHQINT = tfm.reduce_sum( PHQVEC, axis=1)\n",
    "        # 3.2) Multiply by L_S/L_V to normalize (explanation above)\n",
    "        SPDQINT = tfm.divide( tfm.multiply( tfm.subtract(\\\n",
    "                                                     PHQINT, LHF),\\\n",
    "                                        L_S),\\\n",
    "                           L_V)\n",
    "\n",
    "        # ENTHALPY.4) Same operation for liquid water tendency but multiplied by L_F/L_V\n",
    "        SPDQCINT = tfm.divide( tfm.multiply(\\\n",
    "                                      tfm.reduce_sum(\\\n",
    "                                             tfm.multiply( dP_TILD, y[:, 30:60]),\\\n",
    "                                             axis=1),\\\n",
    "                                      L_F),\\\n",
    "                         L_V)\n",
    "\n",
    "        # ENTHALPY.5) Same operation for temperature tendency\n",
    "        DTINT = tfm.reduce_sum( tfm.multiply( dP_TILD[:, :30], y[:, 90:120]), axis=1)\n",
    "\n",
    "        # ENTHALPY.FINAL) Residual = SPDQ+SPDQC+DTINT-RAD-SHF-PHAS\n",
    "        ENTRES = tfm.add(tfm.add(tfm.add(tfm.add(tfm.add(tfm.add(SPDQINT,\\\n",
    "                                                                 SPDQCINT),\\\n",
    "                                                         DTINT),\\\n",
    "                                                 tfm.negative(RAD)),\\\n",
    "                                         tfm.negative(SHF)),\\\n",
    "                                 tfm.negative(PHAS)),\\\n",
    "                         tfm.negative(KEDINT))\n",
    "        # Return sum of water and enthalpy square residuals\n",
    "        return tfm.add( tfm.square(WATRES), tfm.square(ENTRES))\n",
    "\n",
    "    return lossFunction"
   ]
  },
  {
   "cell_type": "markdown",
   "metadata": {},
   "source": [
    "# 4) Build neural networks"
   ]
  },
  {
   "cell_type": "markdown",
   "metadata": {},
   "source": [
    "## 4.1) Formulate different models"
   ]
  },
  {
   "cell_type": "markdown",
   "metadata": {},
   "source": [
    "### 4.1.1) Mass/energy conserving model (C)"
   ]
  },
  {
   "cell_type": "code",
   "execution_count": 13,
   "metadata": {},
   "outputs": [],
   "source": [
    "# Conserving model with 5 dense layers\n",
    "inp = Input(shape=(304,))\n",
    "densout = Dense(512, activation='linear')(inp)\n",
    "densout = LeakyReLU(alpha=0.3)(densout)\n",
    "for i in range (4):\n",
    "    densout = Dense(512, activation='linear')(densout)\n",
    "    densout = LeakyReLU(alpha=0.3)(densout)\n",
    "densout = Dense(214, activation='linear')(densout)\n",
    "densout = LeakyReLU(alpha=0.3)(densout)\n",
    "sradout = SurRadLay(\n",
    "    input_shape=(214,), fsub=fsub, fdiv=fdiv, normq=normq,\\\n",
    "    hyai=hyai, hybi=hybi, output_dim = 216\n",
    ")([inp, densout])\n",
    "massout = MasConsLay(\n",
    "    input_shape=(216,), fsub=fsub, fdiv=fdiv, normq=normq,\\\n",
    "    hyai=hyai, hybi=hybi, output_dim = 217\n",
    ")([inp, sradout])\n",
    "out = EntConsLay(\n",
    "    input_shape=(217,), fsub=fsub, fdiv=fdiv, normq=normq,\\\n",
    "    hyai=hyai, hybi=hybi, output_dim = 218\n",
    ")([inp, massout])\n",
    "C_rad_5dens = Model(inputs=inp, outputs=out)"
   ]
  },
  {
   "cell_type": "markdown",
   "metadata": {},
   "source": [
    "### 4.1.2) Unconstrained model (U)"
   ]
  },
  {
   "cell_type": "code",
   "execution_count": 14,
   "metadata": {},
   "outputs": [],
   "source": [
    "# Unconstrained model with 5 dense layers\n",
    "inp = Input(shape=(304,))\n",
    "densout = Dense(512, activation='linear')(inp)\n",
    "densout = LeakyReLU(alpha=0.3)(densout)\n",
    "for i in range (4):\n",
    "    densout = Dense(512, activation='linear')(densout)\n",
    "    densout = LeakyReLU(alpha=0.3)(densout)\n",
    "densout = Dense(218, activation='linear')(densout)\n",
    "out = LeakyReLU(alpha=0.3)(densout)\n",
    "U_rad_5dens = Model(inputs=inp, outputs=out)"
   ]
  },
  {
   "cell_type": "markdown",
   "metadata": {},
   "source": [
    "### 4.1.3) Weakly-constrained models (W)"
   ]
  },
  {
   "cell_type": "code",
   "execution_count": 15,
   "metadata": {},
   "outputs": [],
   "source": [
    "# Weakly-constrained models with 5 dense layers\n",
    "# alpha=0.01\n",
    "inp001 = Input(shape=(304,))\n",
    "densout = Dense(512, activation='linear')(inp001)\n",
    "densout = LeakyReLU(alpha=0.3)(densout)\n",
    "for i in range (4):\n",
    "    densout = Dense(512, activation='linear')(densout)\n",
    "    densout = LeakyReLU(alpha=0.3)(densout)\n",
    "densout = Dense(218, activation='linear')(densout)\n",
    "out = LeakyReLU(alpha=0.3)(densout)\n",
    "W001_rad_5dens = Model(inputs=inp001, outputs=out)\n",
    "# alpha=0.5\n",
    "inp05 = Input(shape=(304,))\n",
    "densout = Dense(512, activation='linear')(inp05)\n",
    "densout = LeakyReLU(alpha=0.3)(densout)\n",
    "for i in range (4):\n",
    "    densout = Dense(512, activation='linear')(densout)\n",
    "    densout = LeakyReLU(alpha=0.3)(densout)\n",
    "densout = Dense(218, activation='linear')(densout)\n",
    "out = LeakyReLU(alpha=0.3)(densout)\n",
    "W05_rad_5dens = Model(inputs=inp05, outputs=out)\n",
    "# alpha=0.99\n",
    "inp099 = Input(shape=(304,))\n",
    "densout = Dense(512, activation='linear')(inp099)\n",
    "densout = LeakyReLU(alpha=0.3)(densout)\n",
    "for i in range (4):\n",
    "    densout = Dense(512, activation='linear')(densout)\n",
    "    densout = LeakyReLU(alpha=0.3)(densout)\n",
    "densout = Dense(218, activation='linear')(densout)\n",
    "out = LeakyReLU(alpha=0.3)(densout)\n",
    "W099_rad_5dens = Model(inputs=inp099, outputs=out)"
   ]
  },
  {
   "cell_type": "markdown",
   "metadata": {},
   "source": [
    "## 4.2) Compile the models"
   ]
  },
  {
   "cell_type": "markdown",
   "metadata": {},
   "source": [
    "### 4.2.1) Use mean square error as loss function"
   ]
  },
  {
   "cell_type": "code",
   "execution_count": 16,
   "metadata": {},
   "outputs": [],
   "source": [
    "C_rad_5dens.compile('rmsprop','mse')"
   ]
  },
  {
   "cell_type": "code",
   "execution_count": 17,
   "metadata": {},
   "outputs": [],
   "source": [
    "U_rad_5dens.compile('rmsprop','mse')"
   ]
  },
  {
   "cell_type": "markdown",
   "metadata": {},
   "source": [
    "### 4.2.2) Use custom loss function"
   ]
  },
  {
   "cell_type": "code",
   "execution_count": 18,
   "metadata": {},
   "outputs": [],
   "source": [
    "W001_rad_5dens.compile(loss=customLoss(inp001,fsub,fdiv,normq,hyai,hybi,alpha = 0.01),\\\n",
    "                       optimizer='rmsprop')"
   ]
  },
  {
   "cell_type": "code",
   "execution_count": 19,
   "metadata": {},
   "outputs": [],
   "source": [
    "W05_rad_5dens.compile(loss=customLoss(inp05,fsub,fdiv,normq,hyai,hybi,alpha = 0.5),\\\n",
    "                       optimizer='rmsprop')"
   ]
  },
  {
   "cell_type": "code",
   "execution_count": 20,
   "metadata": {},
   "outputs": [],
   "source": [
    "W099_rad_5dens.compile(loss=customLoss(inp099,fsub,fdiv,normq,hyai,hybi,alpha = 0.99),\\\n",
    "                       optimizer='rmsprop')"
   ]
  },
  {
   "cell_type": "markdown",
   "metadata": {},
   "source": [
    "### 4.2.3) Check model summaries"
   ]
  },
  {
   "cell_type": "code",
   "execution_count": 21,
   "metadata": {},
   "outputs": [
    {
     "name": "stdout",
     "output_type": "stream",
     "text": [
      "__________________________________________________________________________________________________\n",
      "Layer (type)                    Output Shape         Param #     Connected to                     \n",
      "==================================================================================================\n",
      "input_1 (InputLayer)            (None, 304)          0                                            \n",
      "__________________________________________________________________________________________________\n",
      "dense (Dense)                   (None, 512)          156160      input_1[0][0]                    \n",
      "__________________________________________________________________________________________________\n",
      "leaky_re_lu (LeakyReLU)         (None, 512)          0           dense[0][0]                      \n",
      "__________________________________________________________________________________________________\n",
      "dense_1 (Dense)                 (None, 512)          262656      leaky_re_lu[0][0]                \n",
      "__________________________________________________________________________________________________\n",
      "leaky_re_lu_1 (LeakyReLU)       (None, 512)          0           dense_1[0][0]                    \n",
      "__________________________________________________________________________________________________\n",
      "dense_2 (Dense)                 (None, 512)          262656      leaky_re_lu_1[0][0]              \n",
      "__________________________________________________________________________________________________\n",
      "leaky_re_lu_2 (LeakyReLU)       (None, 512)          0           dense_2[0][0]                    \n",
      "__________________________________________________________________________________________________\n",
      "dense_3 (Dense)                 (None, 512)          262656      leaky_re_lu_2[0][0]              \n",
      "__________________________________________________________________________________________________\n",
      "leaky_re_lu_3 (LeakyReLU)       (None, 512)          0           dense_3[0][0]                    \n",
      "__________________________________________________________________________________________________\n",
      "dense_4 (Dense)                 (None, 512)          262656      leaky_re_lu_3[0][0]              \n",
      "__________________________________________________________________________________________________\n",
      "leaky_re_lu_4 (LeakyReLU)       (None, 512)          0           dense_4[0][0]                    \n",
      "__________________________________________________________________________________________________\n",
      "dense_5 (Dense)                 (None, 214)          109782      leaky_re_lu_4[0][0]              \n",
      "__________________________________________________________________________________________________\n",
      "leaky_re_lu_5 (LeakyReLU)       (None, 214)          0           dense_5[0][0]                    \n",
      "__________________________________________________________________________________________________\n",
      "sur_rad_lay (SurRadLay)         (None, 216)          0           input_1[0][0]                    \n",
      "                                                                 leaky_re_lu_5[0][0]              \n",
      "__________________________________________________________________________________________________\n",
      "mas_cons_lay (MasConsLay)       (None, 217)          0           input_1[0][0]                    \n",
      "                                                                 sur_rad_lay[0][0]                \n",
      "__________________________________________________________________________________________________\n",
      "ent_cons_lay (EntConsLay)       (None, 218)          0           input_1[0][0]                    \n",
      "                                                                 mas_cons_lay[0][0]               \n",
      "==================================================================================================\n",
      "Total params: 1,316,566\n",
      "Trainable params: 1,316,566\n",
      "Non-trainable params: 0\n",
      "__________________________________________________________________________________________________\n"
     ]
    }
   ],
   "source": [
    "C_rad_5dens.summary()"
   ]
  },
  {
   "cell_type": "markdown",
   "metadata": {},
   "source": [
    "## 4.3) Train the models"
   ]
  },
  {
   "cell_type": "markdown",
   "metadata": {},
   "source": [
    "### 4.3.1) Train compiled models"
   ]
  },
  {
   "cell_type": "code",
   "execution_count": 34,
   "metadata": {},
   "outputs": [
    {
     "name": "stdout",
     "output_type": "stream",
     "text": [
      "Epoch 1/40\n",
      "18240/18240 [==============================] - 148s 8ms/step - loss: 95.3125 - val_loss: 92.8215\n",
      "Epoch 2/40\n",
      "18240/18240 [==============================] - 147s 8ms/step - loss: 93.6013 - val_loss: 88.9521\n",
      "Epoch 3/40\n",
      "18240/18240 [==============================] - 149s 8ms/step - loss: 92.4348 - val_loss: 86.2211\n",
      "Epoch 4/40\n",
      "18240/18240 [==============================] - 147s 8ms/step - loss: 91.5862 - val_loss: 86.1848\n",
      "Epoch 5/40\n",
      "18240/18240 [==============================] - 147s 8ms/step - loss: 90.8986 - val_loss: 86.4532\n",
      "Epoch 6/40\n",
      "18240/18240 [==============================] - 147s 8ms/step - loss: 90.4082 - val_loss: 84.3921\n",
      "Epoch 7/40\n",
      "18240/18240 [==============================] - 148s 8ms/step - loss: 90.0138 - val_loss: 85.9661\n",
      "Epoch 8/40\n",
      "18240/18240 [==============================] - 148s 8ms/step - loss: 89.6757 - val_loss: 85.4277\n",
      "Epoch 9/40\n",
      "18240/18240 [==============================] - 148s 8ms/step - loss: 89.3392 - val_loss: 83.9267\n",
      "Epoch 10/40\n",
      "18240/18240 [==============================] - 148s 8ms/step - loss: 88.9819 - val_loss: 85.3436\n",
      "Epoch 11/40\n",
      "18240/18240 [==============================] - 148s 8ms/step - loss: 88.6726 - val_loss: 84.5039\n",
      "Epoch 12/40\n",
      "18240/18240 [==============================] - 149s 8ms/step - loss: 88.4295 - val_loss: 83.0376\n",
      "Epoch 13/40\n",
      "18240/18240 [==============================] - 149s 8ms/step - loss: 88.2405 - val_loss: 84.2780\n",
      "Epoch 14/40\n",
      "18240/18240 [==============================] - 148s 8ms/step - loss: 88.0784 - val_loss: 83.2810\n",
      "Epoch 15/40\n",
      "18240/18240 [==============================] - 149s 8ms/step - loss: 87.9645 - val_loss: 85.1819\n",
      "Epoch 16/40\n",
      "18240/18240 [==============================] - 148s 8ms/step - loss: 87.8965 - val_loss: 83.6673\n",
      "Epoch 17/40\n",
      "18240/18240 [==============================] - 148s 8ms/step - loss: 87.7885 - val_loss: 83.0278\n",
      "Epoch 18/40\n",
      "18240/18240 [==============================] - 147s 8ms/step - loss: 87.7201 - val_loss: 86.6956\n",
      "Epoch 19/40\n",
      "18240/18240 [==============================] - 146s 8ms/step - loss: 87.5645 - val_loss: 83.4825\n",
      "Epoch 20/40\n",
      "18240/18240 [==============================] - 148s 8ms/step - loss: 87.4709 - val_loss: 83.4549\n",
      "Epoch 21/40\n",
      "18240/18240 [==============================] - 148s 8ms/step - loss: 87.3563 - val_loss: 85.3956\n",
      "Epoch 22/40\n",
      "18240/18240 [==============================] - 148s 8ms/step - loss: 87.3729 - val_loss: 84.5855\n",
      "Epoch 23/40\n",
      "18240/18240 [==============================] - 147s 8ms/step - loss: 87.2712 - val_loss: 82.7663\n",
      "Epoch 24/40\n",
      "18240/18240 [==============================] - 148s 8ms/step - loss: 87.2246 - val_loss: 85.3756\n",
      "Epoch 25/40\n",
      "18240/18240 [==============================] - 148s 8ms/step - loss: 87.0781 - val_loss: 83.3363\n",
      "Epoch 26/40\n",
      "18240/18240 [==============================] - 148s 8ms/step - loss: 87.0393 - val_loss: 83.0895\n",
      "Epoch 27/40\n",
      "18240/18240 [==============================] - 149s 8ms/step - loss: 86.8127 - val_loss: 82.6082\n",
      "Epoch 28/40\n",
      "18240/18240 [==============================] - 148s 8ms/step - loss: 86.6240 - val_loss: 82.8836\n",
      "Epoch 29/40\n",
      "18240/18240 [==============================] - 148s 8ms/step - loss: 86.4654 - val_loss: 82.3089\n",
      "Epoch 30/40\n",
      "18240/18240 [==============================] - 147s 8ms/step - loss: 86.2807 - val_loss: 94.1467\n",
      "Epoch 31/40\n",
      "18240/18240 [==============================] - 148s 8ms/step - loss: 86.2793 - val_loss: 81.6392\n",
      "Epoch 32/40\n",
      "18240/18240 [==============================] - 148s 8ms/step - loss: 86.1842 - val_loss: 82.5195\n",
      "Epoch 33/40\n",
      "18240/18240 [==============================] - 148s 8ms/step - loss: 86.1433 - val_loss: 81.5946\n",
      "Epoch 34/40\n",
      "18240/18240 [==============================] - 148s 8ms/step - loss: 86.1582 - val_loss: 83.2325\n",
      "Epoch 35/40\n",
      "18240/18240 [==============================] - 148s 8ms/step - loss: 86.1567 - val_loss: 82.4503\n",
      "Epoch 36/40\n",
      "18240/18240 [==============================] - 147s 8ms/step - loss: 86.2530 - val_loss: 85.1451\n",
      "Epoch 37/40\n",
      "18240/18240 [==============================] - 148s 8ms/step - loss: 86.1710 - val_loss: 83.6589\n",
      "Epoch 38/40\n",
      "18240/18240 [==============================] - 148s 8ms/step - loss: 86.1307 - val_loss: 82.7690\n",
      "Epoch 39/40\n",
      "18240/18240 [==============================] - 148s 8ms/step - loss: 86.0585 - val_loss: 82.9345\n",
      "Epoch 40/40\n",
      "18240/18240 [==============================] - 148s 8ms/step - loss: 86.0612 - val_loss: 82.9879\n"
     ]
    }
   ],
   "source": [
    "Nep = 40\n",
    "#hC_rad_5dens = C_rad_5dens.fit_generator(gen, train_gen_obj.n_batches, epochs=Nep, \\\n",
    "#                     validation_data=validgen, validation_steps= valid_gen_obj.n_batches)\n",
    "#hU_rad_5dens = U_rad_5dens.fit_generator(gen, train_gen_obj.n_batches, epochs=Nep, \\\n",
    "#                     validation_data=validgen, validation_steps= valid_gen_obj.n_batches)\n",
    "#hW001_rad_5dens = W001_rad_5dens.fit_generator(gen, train_gen_obj.n_batches, epochs=Nep, \\\n",
    "#                     validation_data=validgen, validation_steps= valid_gen_obj.n_batches)\n",
    "#hW05_rad_5dens = W05_rad_5dens.fit_generator(gen, train_gen_obj.n_batches, epochs=Nep, \\\n",
    "#                     validation_data=validgen, validation_steps= valid_gen_obj.n_batches)\n",
    "hW099_rad_5dens = W099_rad_5dens.fit_generator(gen, train_gen_obj.n_batches, epochs=Nep, \\\n",
    "                     validation_data=validgen, validation_steps= valid_gen_obj.n_batches)"
   ]
  },
  {
   "cell_type": "markdown",
   "metadata": {},
   "source": [
    "### 4.3.2) Save models in .h5 format"
   ]
  },
  {
   "cell_type": "code",
   "execution_count": 35,
   "metadata": {},
   "outputs": [
    {
     "name": "stdout",
     "output_type": "stream",
     "text": [
      "/data/Tom.Beucler/SPCAM_PHYS/HDF5_DATA\n",
      "/data/Tom.Beucler/SPCAM_PHYS/HDF5_DATA\r\n"
     ]
    }
   ],
   "source": [
    "%cd $TRAINDIR/HDF5_DATA\n",
    "!pwd\n",
    "C_rad_5dens.save('C_rad_5dens.h5')\n",
    "U_rad_5dens.save('U_rad_5dens.h5')\n",
    "W001_rad_5dens.save('W001_rad_5dens.h5')\n",
    "W05_rad_5dens.save('W05_rad_5dens.h5')\n",
    "W099_rad_5dens.save('W099_rad_5dens.h5')"
   ]
  },
  {
   "cell_type": "markdown",
   "metadata": {},
   "source": [
    "### 4.3.3) Load models if already trained\n",
    "tgb - 2/11/2019 - OPTIONAL: Load the models if already trained."
   ]
  },
  {
   "cell_type": "code",
   "execution_count": 11,
   "metadata": {},
   "outputs": [
    {
     "name": "stdout",
     "output_type": "stream",
     "text": [
      "/data/Tom.Beucler/SPCAM_PHYS/HDF5_DATA\n",
      "/data/Tom.Beucler/SPCAM_PHYS/HDF5_DATA\r\n"
     ]
    }
   ],
   "source": [
    "%cd $TRAINDIR/HDF5_DATA\n",
    "!pwd\n",
    "# C_rad_5dens.load_weights('C_rad_5dens.h5')\n",
    "# U_rad_5dens.load_weights('U_rad_5dens.h5')\n",
    "W001_rad_5dens.load_weights('W001_rad_5dens.h5')\n",
    "W05_rad_5dens.load_weights('W05_rad_5dens.h5')\n",
    "W099_rad_5dens.load_weights('W099_rad_5dens.h5')"
   ]
  },
  {
   "cell_type": "code",
   "execution_count": 12,
   "metadata": {},
   "outputs": [
    {
     "name": "stdout",
     "output_type": "stream",
     "text": [
      "/data/Tom.Beucler/SPCAM_PHYS/HDF5_DATA\n",
      "/data/Tom.Beucler/SPCAM_PHYS/HDF5_DATA\r\n"
     ]
    }
   ],
   "source": [
    "%cd $TRAINDIR/HDF5_DATA\n",
    "!pwd\n",
    "C_rad_5dens = load_model('C_rad_5dens.h5')\n",
    "U_rad_5dens = load_model('U_rad_5dens.h5')\n",
    "# W001_rad_5dens = load_model('W001_rad_5dens.h5')\n",
    "# W05_rad_5dens = load_model('W05_rad_5dens.h5')\n",
    "# W099_rad_5dens = load_model('W099_rad_5dens.h5')"
   ]
  },
  {
   "cell_type": "markdown",
   "metadata": {},
   "source": [
    "### 4.3.4) Loss and validation curves"
   ]
  },
  {
   "cell_type": "code",
   "execution_count": null,
   "metadata": {},
   "outputs": [],
   "source": [
    "import matplotlib.pyplot as plt\n",
    "\n",
    "fig = plt.figure()\n",
    "ax = plt.subplot(111)\n",
    "\n",
    "for index in range (5):\n",
    "    if index==0: hdict = hC_rad_5dens.history; colo = 'bo'; col = 'b'; lab = 'C';\n",
    "    elif index==1: hdict = hU_rad_5dens.history; colo = 'ro'; col = 'r'; lab = 'U';\n",
    "    elif index==2: hdict = hW001_rad_5dens.history; colo = 'go'; col = 'g'; lab = 'W001';\n",
    "    elif index==3: hdict = hW05_rad_5dens.history; colo = 'co'; col = 'c'; lab = 'W05';\n",
    "    elif index==4: hdict = hW099_rad_5dens.history; colo = 'mo'; col = 'm'; lab = 'W099';\n",
    "        \n",
    "    \n",
    "    train_loss_values = hdict['loss']\n",
    "    valid_loss_values = hdict['val_loss']\n",
    "    epochs = range(1, len(train_loss_values) + 1)\n",
    "\n",
    "    ax.plot(epochs, train_loss_values, colo, label=lab+' Train')\n",
    "    ax.plot(epochs, valid_loss_values, col, label=lab+' Valid')\n",
    "\n",
    "#plt.title('Training and validation loss')\n",
    "plt.xlabel('Epochs')\n",
    "plt.ylabel('Loss')\n",
    "plt.ylim((0, 125))\n",
    "# https://stackoverflow.com/questions/4700614/how-to-put-the-legend-out-of-the-plot\n",
    "# for legend at the right place\n",
    "ax.legend(loc='upper center', bbox_to_anchor=(0.5, 1.05),\n",
    "          ncol=5, fancybox=True, shadow=True); \n",
    "plt.show()"
   ]
  },
  {
   "cell_type": "markdown",
   "metadata": {},
   "source": [
    "### 4.3.5) Test predictions on one batch"
   ]
  },
  {
   "cell_type": "code",
   "execution_count": 23,
   "metadata": {},
   "outputs": [
    {
     "data": {
      "image/png": "[encoded data removed]",
      "text/plain": [
       "<Figure size 432x288 with 1 Axes>"
      ]
     },
     "metadata": {
      "needs_background": "light"
     },
     "output_type": "display_data"
    }
   ],
   "source": [
    "pred_uncons = U_rad_5dens.predict_on_batch(x)\n",
    "pred_cons = C_rad_5dens.predict_on_batch(x)\n",
    "ind_test = 150;\n",
    "plt.plot(pred_uncons[ind_test,:], label='unconstrained')\n",
    "plt.plot(pred_cons[ind_test,:], label='conserving')\n",
    "plt.plot(y[ind_test,:], label='truth')\n",
    "plt.legend();"
   ]
  },
  {
   "cell_type": "markdown",
   "metadata": {},
   "source": [
    "## 4.4) Check performances regarding mass/energy conservation and mean square error\n",
    "tgb - 2/9/2019 - Adapted mass/energy conservation check to new output vector containing 60 more variables (longwave and shortwave heating profiles)"
   ]
  },
  {
   "cell_type": "markdown",
   "metadata": {},
   "source": [
    "### 4.4.1) Mass/enthalpy conservation"
   ]
  },
  {
   "cell_type": "code",
   "execution_count": 24,
   "metadata": {},
   "outputs": [],
   "source": [
    "def massent_check(x,y,fsub=fsub,fdiv=fdiv,normq=normq,hyai=hyai,hybi=hybi,outtype=\"graph\"):\n",
    "    import numpy as np\n",
    "    # 0) Constants\n",
    "    G = 9.80616; # Reference gravity constant [m.s-2]\n",
    "    L_F = 3.337e5; # Latent heat of fusion of water [W.kg-1]\n",
    "    L_V = 2.501e6; # Latent heat of vaporization of water [W.kg-1]\n",
    "    L_S = L_F+L_V; # Latent heat of sublimation of water [W.kg-1]\n",
    "    P0 = 1e5; # Reference surface pressure [Pa]   \n",
    "\n",
    "    # WATER&ENTHALPY) Get non-dimensional pressure differences (p_tilde above)\n",
    "    # In the input vector, PS is the 151st element after \n",
    "    # the first elements = [QBP, ..., VBP with shape 30*5=150]\n",
    "    PS = np.add( np.multiply( x[:,300], fdiv[300]), fsub[300])\n",
    "    # Reference for calculation of d_pressure is cbrain/models.py (e.g. QLayer)\n",
    "    P = np.add( np.multiply( P0, hyai), \\\n",
    "    np.multiply( PS[:,None], hybi))\n",
    "    dP = np.subtract( P[:, 1:], P[:, :-1])\n",
    "    # norm_output = dp_norm * L_V/G so dp_norm = norm_output * G/L_V\n",
    "    dP_NORM = np.divide( \\\n",
    "    np.multiply(normq[:30], \\\n",
    "              G),\\\n",
    "    L_V)\n",
    "    # dp_tilde = dp/dp_norm\n",
    "    dP_TILD = np.divide( dP, dP_NORM)\n",
    "\n",
    "    # WATER.1) Calculate water vertical integral from level 1 to level 30\n",
    "    WATVEC = np.multiply( dP_TILD, y[:, :30] + y[:, 30:60] + y[:, 60:90])\n",
    "    WATINT = np.sum( WATVEC, axis=1)\n",
    "\n",
    "    # WATER.2) Calculate forcing on the right-hand side (Net Evaporation-Precipitation)\n",
    "    # E-P is already normalized to units W.m-2 in the output vector\n",
    "    # so all we need to do is input-unnormalize LHF that is taken from the input vector\n",
    "    LHF = np.add( np.multiply( x[:,303], fdiv[303]), fsub[303])\n",
    "    # Note that total precipitation = PRECT + 1e-3*PRECTEND in the CAM model\n",
    "    # PRECTEND already multiplied by 1e-3 in output vector so no need to redo it\n",
    "    PREC = np.add( y[:, 214], y[:, 215])\n",
    "\n",
    "    # WATER.FINAL) Residual = E-P-DWATER/DT\n",
    "    WATRES = LHF-PREC-WATINT\n",
    "    \n",
    "    # ENTHALPY.1) Calculate net energy input from phase change and precipitation\n",
    "    # PHAS = Lf/Lv*((PRECST+PRECSTEN)-(PRECT+PRECTEND))\n",
    "    PHAS = np.divide( np.multiply( np.subtract(\\\n",
    "                                          np.add( y[:,216], y[:,217]),\\\n",
    "                                          np.add( y[:,214], y[:,215])),\\\n",
    "                                  L_F),\\\n",
    "                     L_V)\n",
    "    \n",
    "    # ENTHALPY.2) Calculate net energy input from radiation, sensible heat flux and turbulent KE\n",
    "    # 2.1) RAD = FSNT-FSNS-FLNT+FLNS\n",
    "    RAD = np.add(\\\n",
    "            np.subtract( y[:,210], y[:,211]),\\\n",
    "            np.subtract( y[:,213], y[:,212]))\n",
    "    # 2.2) Unnormalize sensible heat flux\n",
    "    SHF = np.add( np.multiply( x[:,302], fdiv[302]), fsub[302])\n",
    "    # 2.3) Net turbulent kinetic energy dissipative heating is the column-integrated \n",
    "    # turbulent kinetic energy energy dissipative heating\n",
    "    KEDVEC = np.multiply( dP_TILD, y[:, 180:210])\n",
    "    KEDINT = np.sum( KEDVEC, axis=1)\n",
    "    \n",
    "    # ENTHALPY.3) Calculate tendency of normalized column water vapor due to phase change\n",
    "    # 3.1) Column water vapor is the column integral of specific humidity\n",
    "    PHQVEC = np.multiply( dP_TILD, y[:, :30])\n",
    "    PHQINT = np.sum( PHQVEC, axis=1)\n",
    "    # 3.2) Multiply by L_S/L_V to normalize (explanation above)\n",
    "    SPDQINT = np.divide( np.multiply( np.subtract(\\\n",
    "                                                 PHQINT, LHF),\\\n",
    "                                    L_S),\\\n",
    "                       L_V)\n",
    "    \n",
    "    # ENTHALPY.4) Same operation for liquid water tendency but multiplied by L_F/L_V\n",
    "    SPDQCINT = np.divide( np.multiply(\\\n",
    "                                  np.sum(\\\n",
    "                                         np.multiply( dP_TILD, y[:, 30:60]),\\\n",
    "                                         axis=1),\\\n",
    "                                  L_F),\\\n",
    "                     L_V)\n",
    "    \n",
    "    # ENTHALPY.5) Same operation for temperature tendency\n",
    "    DTINT = np.sum( np.multiply( dP_TILD[:, :30], y[:, 90:120]), axis=1)\n",
    "    \n",
    "    # ENTHALPY.FINAL) Residual = SPDQ+SPDQC+DTINT-RAD-SHF-PHAS\n",
    "    ENTRES = SPDQINT+SPDQCINT+DTINT-RAD-SHF-PHAS-KEDINT\n",
    "    \n",
    "    if outtype==\"graph\":\n",
    "    \n",
    "        import matplotlib.pyplot as plt\n",
    "        from matplotlib import rc\n",
    "        plt.rc('text', usetex=True)\n",
    "        plt.rc('font', family='serif')\n",
    "\n",
    "        plt.figure(num=None, figsize=(12, 3), dpi=80, facecolor='w', edgecolor='k')\n",
    "\n",
    "        plt.subplot(121)\n",
    "        plt.hist(WATRES)\n",
    "        plt.xlabel(r\"$\\mathrm{Water\\ Residual\\ \\left[W.m^{-2}\\right]}$\", fontsize=16)\n",
    "        plt.ylabel(r'Number of samples', fontsize=16)\n",
    "        plt.xticks(fontsize=14); plt.yticks(fontsize=14)\n",
    "\n",
    "        plt.subplot(122)\n",
    "        plt.hist(ENTRES)\n",
    "        plt.xlabel(r\"$\\mathrm{Enthalpy\\ Residual\\ \\left[W.m^{-2}\\right]}$\", fontsize=16)\n",
    "        plt.ylabel(r'Number of samples', fontsize=16)\n",
    "        plt.xticks(fontsize=14); plt.yticks(fontsize=14)\n",
    "    \n",
    "    elif outtype==\"list\":\n",
    "    \n",
    "        return WATRES,ENTRES "
   ]
  },
  {
   "cell_type": "code",
   "execution_count": 25,
   "metadata": {},
   "outputs": [
    {
     "data": {
      "image/png": "[encoded data removed]",
      "text/plain": [
       "<Figure size 1600x1080 with 8 Axes>"
      ]
     },
     "metadata": {},
     "output_type": "display_data"
    }
   ],
   "source": [
    "import matplotlib.pyplot as plt\n",
    "from matplotlib import rc\n",
    "plt.rc('text', usetex=True)\n",
    "plt.rc('font', family='serif')\n",
    "plt.figure(num=None, figsize=(20, 13.5), dpi=80, facecolor='w', edgecolor='k')\n",
    "XMAX = 100; bins = np.linspace(-XMAX, XMAX, 100)\n",
    "\n",
    "xval, yval = next(gen)\n",
    "\n",
    "for index in range (4):\n",
    "    if index==1: pred = U_rad_5dens.predict_on_batch(xval); lab = 'U';\n",
    "    elif index==0: pred = C_rad_5dens.predict_on_batch(xval); lab = 'C';\n",
    "    elif index==2: pred = W001_rad_5dens.predict_on_batch(xval); lab = 'W001';\n",
    "    elif index==3: pred = W05_rad_5dens.predict_on_batch(xval); lab = 'W05';\n",
    "    elif index==4: pred = W099_rad_5dens.predict_on_batch(xval); lab = 'W099';\n",
    "\n",
    "    watres,entres = massent_check(xval,pred,fsub=fsub,fdiv=fdiv,normq=normq,hyai=hyai,hybi=hybi,outtype=\"list\");\n",
    "\n",
    "    ax = plt.subplot(5,2,2*index+1)\n",
    "    ax.hist(watres, bins, alpha=0.5, edgecolor='k', label = lab+' mSQ%i' %np.mean(watres**2)+' stdSQ%i' %np.std(watres**2))\n",
    "    plt.ylabel(r'Nb samples', fontsize=16)\n",
    "    plt.xticks(fontsize=14); plt.yticks(fontsize=14)\n",
    "    plt.ylim((0, 50)); plt.xlim((-XMAX, XMAX));\n",
    "    ax.legend(loc='upper left', bbox_to_anchor=(0.5, 1.05),\n",
    "          ncol=5, fancybox=True, shadow=True, fontsize = 20);\n",
    "    \n",
    "    ax = plt.subplot(5,2,2*index+2)\n",
    "    ax.hist(entres, bins, alpha=0.5, edgecolor='k', label = lab+' mSQ%i' %np.mean(entres**2)+' stdSQ%i' %np.std(entres**2))\n",
    "    plt.ylabel(r'Nb samples', fontsize=16)\n",
    "    plt.xticks(fontsize=14); plt.yticks(fontsize=14)\n",
    "    plt.ylim((0, 50)); plt.xlim((-XMAX, XMAX));\n",
    "    ax.legend(loc='upper left', bbox_to_anchor=(0.5, 1.05),\n",
    "          ncol=5, fancybox=True, shadow=True, fontsize = 20); "
   ]
  },
  {
   "cell_type": "markdown",
   "metadata": {},
   "source": [
    "### 4.4.2) Mean square error"
   ]
  },
  {
   "cell_type": "code",
   "execution_count": 26,
   "metadata": {},
   "outputs": [
    {
     "data": {
      "image/png": "[encoded data removed]",
      "text/plain": [
       "<Figure size 1600x1080 with 5 Axes>"
      ]
     },
     "metadata": {},
     "output_type": "display_data"
    }
   ],
   "source": [
    "import matplotlib.pyplot as plt\n",
    "from matplotlib import rc\n",
    "plt.rc('text', usetex=True)\n",
    "plt.rc('font', family='serif')\n",
    "plt.figure(num=None, figsize=(20, 13.5), dpi=80, facecolor='w', edgecolor='k')\n",
    "XMAX = 180; bins = np.linspace(0, XMAX, 100)\n",
    "\n",
    "xval, yval = next(gen)\n",
    "\n",
    "for index in range (5):\n",
    "    if index==0: pred = U_rad_5dens.predict_on_batch(xval); lab = 'U';\n",
    "    elif index==1: pred = C_rad_5dens.predict_on_batch(xval); lab = 'C';\n",
    "    elif index==2: pred = W001_rad_5dens.predict_on_batch(xval); lab = 'W001';\n",
    "    elif index==3: pred = W05_rad_5dens.predict_on_batch(xval); lab = 'W05';\n",
    "    elif index==4: pred = W099_rad_5dens.predict_on_batch(xval); lab = 'W099';\n",
    "\n",
    "    res = np.mean((pred-yval)**2, axis=1);\n",
    "    \n",
    "    ax = plt.subplot(5,1,index+1)\n",
    "    ax.hist(res, bins, alpha=0.5, edgecolor='k', label = lab+' m%i' %np.mean(res)+' std%i' %np.std(res))\n",
    "    plt.ylabel(r'Nb samples', fontsize=16)\n",
    "    plt.xticks(fontsize=14); plt.yticks(fontsize=14)\n",
    "    plt.ylim((0, 60)); plt.xlim((0, XMAX));\n",
    "    ax.legend(loc='upper center', bbox_to_anchor=(0.5, 1.05),\n",
    "          ncol=5, fancybox=True, shadow=True, fontsize = 20); "
   ]
  },
  {
   "cell_type": "markdown",
   "metadata": {},
   "source": [
    "### 4.4.3) Check radiative integrals"
   ]
  },
  {
   "cell_type": "code",
   "execution_count": 27,
   "metadata": {},
   "outputs": [],
   "source": [
    "def radint_check(x,y,fsub=fsub,fdiv=fdiv,normq=normq,hyai=hyai,hybi=hybi):\n",
    "    import copy\n",
    "    inp = copy.copy(x)\n",
    "\n",
    "    # 0) Constants\n",
    "    C_P = 1.00464e3 # Specific heat capacity of air at constant pressure\n",
    "    G = 9.80616; # Reference gravity constant [m.s-2]\n",
    "    P0 = 1e5; # Reference surface pressure [Pa]\n",
    "\n",
    "    # 1) Get non-dimensional pressure differences (p_tilde above)\n",
    "    PS = np.add( np.multiply( inp[:,300], fdiv[300]), fsub[300])\n",
    "    # Reference for calculation of d_pressure is cbrain/models.py (e.g. QLayer)\n",
    "    P = np.add( np.multiply( P0, hyai), \\\n",
    "                np.multiply( PS[:,None], hybi))\n",
    "    dP = np.subtract( P[:, 1:], P[:, :-1])\n",
    "    # norm_output = dp_norm * L_V/G so dp_norm = norm_output * G/L_V\n",
    "    dP_NORM = np.divide( \\\n",
    "                         np.multiply(normq[:30], \\\n",
    "                               G), L_V)\n",
    "    # dp_tilde = dp/dp_norm\n",
    "    # Wondering about broadcasting here...\n",
    "    # tf.div or simply \\ would support broadcasting \n",
    "    dP_TILD = np.divide( dP, dP_NORM)\n",
    "\n",
    "    # 2) Radiative integrals\n",
    "    SWVEC = np.multiply( dP_TILD, y[:, 150:180])\n",
    "    SWINT = np.sum( SWVEC, axis=1)\n",
    "    SWNET = y[:,210]-y[:,211] # FSNT-FSNS\n",
    "\n",
    "    LWVEC = np.multiply( dP_TILD, y[:, 120:150])\n",
    "    LWINT = np.sum( LWVEC, axis=1) # LW integral\n",
    "    LWNET = y[:,213]-y[:,212] # FLNS-FLNT\n",
    "\n",
    "    return (SWINT-SWNET), (LWINT-LWNET)"
   ]
  },
  {
   "cell_type": "code",
   "execution_count": 28,
   "metadata": {},
   "outputs": [
    {
     "data": {
      "image/png": "[encoded data removed]",
      "text/plain": [
       "<Figure size 1600x1080 with 10 Axes>"
      ]
     },
     "metadata": {},
     "output_type": "display_data"
    }
   ],
   "source": [
    "import matplotlib.pyplot as plt\n",
    "from matplotlib import rc\n",
    "plt.rc('text', usetex=True)\n",
    "plt.rc('font', family='serif')\n",
    "plt.figure(num=None, figsize=(20, 13.5), dpi=80, facecolor='w', edgecolor='k')\n",
    "XMAX = 100; bins = np.linspace(-XMAX, XMAX, 100)\n",
    "\n",
    "xval, yval = next(gen)\n",
    "\n",
    "for index in range (5):\n",
    "    if index==1: pred = U_rad_5dens.predict_on_batch(xval); lab = 'U';\n",
    "    elif index==0: pred = C_rad_5dens.predict_on_batch(xval); lab = 'C';\n",
    "    elif index==2: pred = W001_rad_5dens.predict_on_batch(xval); lab = 'W001';\n",
    "    elif index==3: pred = W05_rad_5dens.predict_on_batch(xval); lab = 'W05';\n",
    "    elif index==4: pred = W099_rad_5dens.predict_on_batch(xval); lab = 'W099';\n",
    "\n",
    "    swres,lwres = radint_check(xval,pred,fsub=fsub,fdiv=fdiv,normq=normq,hyai=hyai,hybi=hybi)\n",
    "\n",
    "    ax = plt.subplot(5,2,2*index+1)\n",
    "    ax.hist(swres, bins, alpha=0.5, edgecolor='k', label = lab+' mSQ%i' %np.mean(swres**2)+' stdSQ%i' %np.std(swres**2))\n",
    "    plt.ylabel(r'Nb samples', fontsize=16)\n",
    "    plt.xticks(fontsize=14); plt.yticks(fontsize=14)\n",
    "    plt.ylim((0, 50)); plt.xlim((-XMAX, XMAX));\n",
    "    ax.legend(loc='upper left', bbox_to_anchor=(0.5, 1.05),\n",
    "          ncol=5, fancybox=True, shadow=True, fontsize = 20);\n",
    "    \n",
    "    ax = plt.subplot(5,2,2*index+2)\n",
    "    ax.hist(lwres, bins, alpha=0.5, edgecolor='k', label = lab+' mSQ%i' %np.mean(lwres**2)+' stdSQ%i' %np.std(lwres**2))\n",
    "    plt.ylabel(r'Nb samples', fontsize=16)\n",
    "    plt.xticks(fontsize=14); plt.yticks(fontsize=14)\n",
    "    plt.ylim((0, 50)); plt.xlim((-XMAX, XMAX));\n",
    "    ax.legend(loc='upper left', bbox_to_anchor=(0.5, 1.05),\n",
    "          ncol=5, fancybox=True, shadow=True, fontsize = 20); "
   ]
  },
  {
   "cell_type": "markdown",
   "metadata": {},
   "source": [
    "#### Step 6: Check positivity of water species\n",
    "There are two necessary steps:  \n",
    "1) Load the water species concentrations \"before physics\" from the input vector and unnormalize them  \n",
    "2) Invert the output normalization to get the water concentrations \"after physics\"\n",
    "\n",
    "$$\n",
    "\\delta q_{v,i,l}\\left(p\\right)=\\frac{L_{v}\\Delta p_{\\mathrm{norm}}}{g}\\frac{q_{v,i,l}^{a}\\left(p\\right)-q_{v,i,l}^{b}\\left(p\\right)}{\\Delta t}\\ \\Rightarrow\\ q_{v,i,l}^{a}\\left(p\\right)=q_{v,i,l}^{b}\\left(p\\right)+\\frac{g\\Delta t}{L_{v}\\Delta p_{\\mathrm{norm}}}\\delta q_{v,i,l}\\left(p\\right)\n",
    "$$"
   ]
  },
  {
   "cell_type": "code",
   "execution_count": null,
   "metadata": {},
   "outputs": [],
   "source": [
    "def watpos_check(x,y,fsub=fsub,fdiv=fdiv,normq=normq,dt=30*60):\n",
    "    \n",
    "    import numpy as np\n",
    "\n",
    "    # 1) Extract water species concentrations from inputs\n",
    "    QVB = np.add( np.multiply( x[:, :30], fdiv[ :30]), fsub[ :30])\n",
    "    QLB = np.add( np.multiply( x[:, 30:60], fdiv[ 30:60]), fsub[ 30:60])\n",
    "    QSB = np.add( np.multiply( x[:, 60:90], fdiv[ 60:90]), fsub[ 60:90])\n",
    "\n",
    "    # 2) Inverse output normalization and get water concentration after physics\n",
    "    QVA = QVB + np.divide( dt*y[:, :30] , normq[:30])\n",
    "    QLA = QLB + np.divide( dt*y[:, 30:60] , normq[:30])\n",
    "    QSA = QSB + np.divide( dt*y[:, 60:90] , normq[:30])\n",
    "\n",
    "    import matplotlib.pyplot as plt\n",
    "    from matplotlib import rc\n",
    "    plt.rc('text', usetex=True)\n",
    "    plt.rc('font', family='serif')\n",
    "\n",
    "    plt.figure(num=None, figsize=(12, 6), dpi=80, facecolor='w', edgecolor='k')\n",
    "\n",
    "    plt.subplot(231)\n",
    "    plt.hist(1e3*QVA)\n",
    "    plt.xlabel(r\"$\\mathrm{Water\\ vapor\\ concentration\\ \\left[g/kg\\right]}$\", fontsize=16)\n",
    "    plt.ylabel(r'Number of samples', fontsize=16)\n",
    "    plt.xticks(fontsize=14); plt.yticks(fontsize=14)\n",
    "\n",
    "    plt.subplot(232)\n",
    "    plt.hist(1e3*QLA)\n",
    "    plt.xlabel(r\"$\\mathrm{Liquid\\ water\\ concentration\\ \\left[g/kg\\right]}$\", fontsize=16)\n",
    "    plt.xticks(fontsize=14); plt.yticks(fontsize=14)\n",
    "\n",
    "    plt.subplot(233)\n",
    "    plt.hist(1e3*QSA)\n",
    "    plt.xlabel(r\"$\\mathrm{Ice\\ concentration\\ \\left[g/kg\\right]}$\", fontsize=16)\n",
    "    plt.xticks(fontsize=14); plt.yticks(fontsize=14)\n",
    "    \n",
    "    plt.subplot(234)\n",
    "    plt.hist(1e3*(QVA-QVB))\n",
    "    plt.xlabel(r\"$\\mathrm{Water\\ vapor\\ change\\ \\left[g/kg\\right]}$\", fontsize=16)\n",
    "    plt.ylabel(r'Number of samples', fontsize=16)\n",
    "    plt.xticks(fontsize=14); plt.yticks(fontsize=14)\n",
    "\n",
    "    plt.subplot(235)\n",
    "    plt.hist(1e3*(QLA-QLB))\n",
    "    plt.xlabel(r\"$\\mathrm{Liquid\\ water\\ change\\ \\left[g/kg\\right]}$\", fontsize=16)\n",
    "    plt.xticks(fontsize=14); plt.yticks(fontsize=14)\n",
    "\n",
    "    plt.subplot(236)\n",
    "    plt.hist(1e3*(QSA-QSB))\n",
    "    plt.xlabel(r\"$\\mathrm{Ice\\ change\\ \\left[g/kg\\right]}$\", fontsize=16)\n",
    "    plt.xticks(fontsize=14); plt.yticks(fontsize=14)\n",
    "    \n",
    "    plt.subplots_adjust(left=None, bottom=None, right=None, top=None, wspace=None, hspace=0.5)"
   ]
  },
  {
   "cell_type": "code",
   "execution_count": null,
   "metadata": {},
   "outputs": [],
   "source": [
    "watpos_check(xval,yval,fsub,fdiv,normq,dt)"
   ]
  },
  {
   "cell_type": "code",
   "execution_count": null,
   "metadata": {},
   "outputs": [],
   "source": []
  }
 ],
 "metadata": {
  "kernelspec": {
   "display_name": "Python 3",
   "language": "python",
   "name": "python3"
  },
  "language_info": {
   "codemirror_mode": {
    "name": "ipython",
    "version": 3
   },
   "file_extension": ".py",
   "mimetype": "text/x-python",
   "name": "python",
   "nbconvert_exporter": "python",
   "pygments_lexer": "ipython3",
   "version": "3.7.3"
  },
  "toc": {
   "base_numbering": 1,
   "nav_menu": {},
   "number_sections": true,
   "sideBar": false,
   "skip_h1_title": true,
   "title_cell": "Table of Contents",
   "title_sidebar": "Contents",
   "toc_cell": false,
   "toc_position": {},
   "toc_section_display": true,
   "toc_window_display": false
  }
 },
 "nbformat": 4,
 "nbformat_minor": 2
}
