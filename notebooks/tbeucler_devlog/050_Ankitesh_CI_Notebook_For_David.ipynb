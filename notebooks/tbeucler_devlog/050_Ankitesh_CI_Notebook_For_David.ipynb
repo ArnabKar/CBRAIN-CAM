{
 "cells": [
  {
   "cell_type": "markdown",
   "metadata": {},
   "source": [
    "tgb - 4/20/2020 - Adapting Ankitesh's climate-invariant training notebook for hyperparameter optimization by David Walling. "
   ]
  },
  {
   "cell_type": "code",
   "execution_count": 1,
   "metadata": {},
   "outputs": [
    {
     "name": "stdout",
     "output_type": "stream",
     "text": [
      "/oasis/scratch/comet/tbeucler/temp_project/CBRAIN-CAM/notebooks/tbeucler_devlog\n"
     ]
    }
   ],
   "source": [
    "import sys\n",
    "sys.path.insert(1,\"/home1/07064/tg863631/anaconda3/envs/CbrainCustomLayer/lib/python3.6/site-packages\") #work around for h5py\n",
    "from cbrain.imports import *\n",
    "from cbrain.cam_constants import *\n",
    "from cbrain.utils import *\n",
    "from cbrain.layers import *\n",
    "from cbrain.data_generator import DataGenerator\n",
    "import tensorflow as tf\n",
    "from tensorflow import math as tfm\n",
    "from tensorflow.keras.layers import *\n",
    "from tensorflow.keras.models import *\n",
    "import tensorflow_probability as tfp\n",
    "import xarray as xr\n",
    "import numpy as np\n",
    "from cbrain.model_diagnostics import ModelDiagnostics\n",
    "import matplotlib as mpl\n",
    "import matplotlib.pyplot as plt\n",
    "import matplotlib.image as imag\n",
    "import scipy.integrate as sin\n",
    "# import cartopy.crs as ccrs\n",
    "import matplotlib.ticker as mticker\n",
    "# from cartopy.mpl.gridliner import LONGITUDE_FORMATTER, LATITUDE_FORMATTER\n",
    "import pickle\n",
    "# from climate_invariant import *\n",
    "from tensorflow.keras import layers\n",
    "import datetime\n",
    "from climate_invariant_utils import *\n",
    "import yaml\n"
   ]
  },
  {
   "cell_type": "markdown",
   "metadata": {},
   "source": [
    "## Global Variables"
   ]
  },
  {
   "cell_type": "code",
   "execution_count": 25,
   "metadata": {},
   "outputs": [],
   "source": [
    "# Load coordinates (just pick any file from the climate model run)\n",
    "coor = xr.open_dataset(\"/oasis/scratch/comet/ankitesh/temp_project/data/sp8fbp_minus4k.cam2.h1.0000-01-01-00000.nc\",\\\n",
    "                    decode_times=False)\n",
    "lat = coor.lat; lon = coor.lon; lev = coor.lev;\n",
    "coor.close();"
   ]
  },
  {
   "cell_type": "code",
   "execution_count": 26,
   "metadata": {},
   "outputs": [],
   "source": [
    "TRAINDIR = '/oasis/scratch/comet/ankitesh/temp_project/PrepData/CRHData/'\n",
    "path = '/home/ankitesh/CBrain_project/CBRAIN-CAM/cbrain/'\n",
    "path_hyam = 'hyam_hybm.pkl'\n",
    "\n",
    "hf = open(path+path_hyam,'rb')\n",
    "hyam,hybm = pickle.load(hf)\n",
    "scale_dict = load_pickle('/home/ankitesh/CBrain_project/CBRAIN-CAM/nn_config/scale_dicts/009_Wm2_scaling.pkl')\n"
   ]
  },
  {
   "cell_type": "code",
   "execution_count": 27,
   "metadata": {},
   "outputs": [],
   "source": [
    "inter_dim_size = 40 #required for interpolation layer"
   ]
  },
  {
   "cell_type": "code",
   "execution_count": 5,
   "metadata": {},
   "outputs": [],
   "source": [
    "class DataGeneratorClimInv(DataGenerator):\n",
    "    \n",
    "    def __init__(self, data_fn, input_vars, output_vars,\n",
    "             norm_fn=None, input_transform=None, output_transform=None,\n",
    "             batch_size=1024, shuffle=True, xarray=False, var_cut_off=None, \n",
    "             rh_trans=True,t2tns_trans=True,\n",
    "             lhflx_trans=True,\n",
    "             scaling=True,interpolate=True,\n",
    "             hyam=None,hybm=None,                 \n",
    "             inp_subRH=None,inp_divRH=None,\n",
    "             inp_subTNS=None,inp_divTNS=None,\n",
    "             lev=None, interm_size=40,\n",
    "             lower_lim=6,\n",
    "             is_continous=True,Tnot=5,\n",
    "                mode='train'):\n",
    "        \n",
    "        self.scaling = scaling\n",
    "        self.interpolate = interpolate\n",
    "        self.rh_trans = rh_trans\n",
    "        self.t2tns_trans = t2tns_trans\n",
    "        self.lhflx_trans = lhflx_trans\n",
    "        self.inp_shape = 64\n",
    "        self.mode=mode\n",
    "        super().__init__(data_fn, input_vars,output_vars,norm_fn,input_transform,output_transform,\n",
    "                        batch_size,shuffle,xarray,var_cut_off) ## call the base data generator\n",
    "        self.inp_sub = self.input_transform.sub\n",
    "        self.inp_div = self.input_transform.div\n",
    "        if rh_trans:\n",
    "            self.qv2rhLayer = QV2RHNumpy(self.inp_sub,self.inp_div,inp_subRH,inp_divRH,hyam,hybm)\n",
    "        \n",
    "        if lhflx_trans:\n",
    "            self.lhflxLayer = LhflxTransNumpy(self.inp_sub,self.inp_div,hyam,hybm)\n",
    "            \n",
    "        if t2tns_trans:\n",
    "            self.t2tnsLayer = T2TmTNSNumpy(self.inp_sub,self.inp_div,inp_subTNS,inp_divTNS,hyam,hybm)\n",
    "            \n",
    "        if scaling:\n",
    "            self.scalingLayer = ScalingNumpy(hyam,hybm)\n",
    "            self.inp_shape += 1\n",
    "                    \n",
    "        if interpolate:\n",
    "            self.interpLayer = InterpolationNumpy(lev,is_continous,Tnot,lower_lim,interm_size)\n",
    "            self.inp_shape += interm_size*2 + 4 + 30 ## 4 same as 60-64 and 30 for lev_tilde.size\n",
    "        \n",
    "            \n",
    "        \n",
    "    def __getitem__(self, index):\n",
    "        # Compute start and end indices for batch\n",
    "        start_idx = index * self.batch_size\n",
    "        end_idx = start_idx + self.batch_size\n",
    "\n",
    "        # Grab batch from data\n",
    "        batch = self.data_ds['vars'][start_idx:end_idx]\n",
    "\n",
    "        # Split into inputs and outputs\n",
    "        X = batch[:, self.input_idxs]\n",
    "        Y = batch[:, self.output_idxs]\n",
    "        # Normalize\n",
    "        X_norm = self.input_transform.transform(X)\n",
    "        Y = self.output_transform.transform(Y)\n",
    "        X_result = X_norm\n",
    "        \n",
    "        if self.rh_trans:\n",
    "            X_result = self.qv2rhLayer.process(X_result) \n",
    "            \n",
    "        if self.lhflx_trans:\n",
    "            X_result = self.lhflxLayer.process(X_result)\n",
    "            \n",
    "        if self.t2tns_trans:\n",
    "            X_result = self.t2tnsLayer.process(X_result)\n",
    "        \n",
    "        if self.scaling:\n",
    "            scalings = self.scalingLayer.process(X) \n",
    "            X_result = np.hstack((X_result,scalings))\n",
    "        \n",
    "        if self.interpolate:\n",
    "            interpolated = self.interpLayer.process(X,X_result)\n",
    "            X_result = np.hstack((X_result,interpolated))\n",
    "            \n",
    "\n",
    "        if self.mode=='val':\n",
    "            return xr.DataArray(X_result), xr.DataArray(Y)\n",
    "        return X_result,Y\n",
    "    \n",
    "    ##transforms the input data into the required format, take the unnormalized dataset\n",
    "    def transform(self,X):\n",
    "        X_norm = self.input_transform.transform(X)\n",
    "        X_result = X_norm\n",
    "        \n",
    "        if self.rh_trans:\n",
    "            X_result = self.qv2rhLayer.process(X_result)  \n",
    "        \n",
    "        if self.lhflx_trans:\n",
    "            X_result = self.lhflxLayer.process(X_result)\n",
    "\n",
    "        if self.t2tns_trans:\n",
    "            X_result = self.t2tnsLayer.process(X_result)\n",
    "        \n",
    "        if self.scaling:\n",
    "            scalings = self.scalingLayer.process(X) \n",
    "            X_result = np.hstack((X_result,scalings))\n",
    "        \n",
    "        if self.interpolate:\n",
    "            interpolated = self.interpLayer.process(X,X_result)\n",
    "            X_result = np.hstack((X_result,interpolated))\n",
    "            \n",
    "\n",
    "        return X_result"
   ]
  },
  {
   "cell_type": "markdown",
   "metadata": {},
   "source": [
    "## Data Generators"
   ]
  },
  {
   "cell_type": "code",
   "execution_count": 6,
   "metadata": {},
   "outputs": [],
   "source": [
    "geography = False # True for real-geography dataset, false otherwise"
   ]
  },
  {
   "cell_type": "markdown",
   "metadata": {},
   "source": [
    "### Choose between aquaplanet and realistic geography here"
   ]
  },
  {
   "cell_type": "code",
   "execution_count": 7,
   "metadata": {},
   "outputs": [],
   "source": [
    "if geography: path = '/oasis/scratch/comet/ankitesh/temp_project/PrepData/geography/'\n",
    "else: path = '/oasis/scratch/comet/ankitesh/temp_project/PrepData/'\n",
    "    \n",
    "if geography: TRAINDIR = '/oasis/scratch/comet/ankitesh/temp_project/PrepData/CRHData/'\n",
    "else: TRAINDIR = '/oasis/scratch/comet/ankitesh/temp_project/PrepData/geography/'"
   ]
  },
  {
   "cell_type": "markdown",
   "metadata": {},
   "source": [
    "### Data Generator using RH"
   ]
  },
  {
   "cell_type": "code",
   "execution_count": 8,
   "metadata": {},
   "outputs": [],
   "source": [
    "scale_dict_RH = load_pickle('/home/ankitesh/CBrain_project/CBRAIN-CAM/nn_config/scale_dicts/009_Wm2_scaling.pkl')\n",
    "scale_dict_RH['RH'] = 0.01*L_S/G, # Arbitrary 0.1 factor as specific humidity is generally below 2%\n",
    "scale_dict_RH['PTTEND']=scale_dict_RH['TPHYSTND']\n",
    "scale_dict_RH['PTEQ']=scale_dict_RH['PHQ']\n",
    "\n",
    "in_vars_RH = ['RH','TBP','PS', 'SOLIN', 'SHFLX', 'LHFLX']\n",
    "if geography: out_vars_RH = ['PTEQ','PTTEND','FSNT','FSNS','FLNT','FLNS']\n",
    "else: out_vars_RH = ['PHQ','TPHYSTND','FSNT', 'FSNS', 'FLNT', 'FLNS']\n",
    "\n",
    "TRAINFILE_RH = 'CI_RH_M4K_NORM_train_shuffle.nc'\n",
    "NORMFILE_RH = 'CI_RH_M4K_NORM_norm.nc'\n",
    "VALIDFILE_RH = 'CI_RH_M4K_NORM_valid.nc'"
   ]
  },
  {
   "cell_type": "code",
   "execution_count": 9,
   "metadata": {},
   "outputs": [],
   "source": [
    "train_gen_RH = DataGenerator(\n",
    "    data_fn = path+TRAINFILE_RH,\n",
    "    input_vars = in_vars_RH,\n",
    "    output_vars = out_vars_RH,\n",
    "    norm_fn = path+NORMFILE_RH,\n",
    "    input_transform = ('mean', 'maxrs'),\n",
    "    output_transform = scale_dict_RH,\n",
    "    batch_size=1024,\n",
    "    shuffle=True\n",
    ")"
   ]
  },
  {
   "cell_type": "markdown",
   "metadata": {},
   "source": [
    "#### For positve sepearation (required since we are going to use scaling)"
   ]
  },
  {
   "cell_type": "code",
   "execution_count": 10,
   "metadata": {},
   "outputs": [],
   "source": [
    "TRAINFILE_RH = 'PosCRH_CI_RH_M4K_NORM_train_shuffle.nc'\n",
    "NORMFILE_RH = 'PosCRH_CI_RH_M4K_NORM_norm.nc'\n",
    "\n",
    "train_gen_RH_pos = DataGenerator(\n",
    "    data_fn = TRAINDIR+TRAINFILE_RH,\n",
    "    input_vars = in_vars_RH,\n",
    "    output_vars = out_vars_RH,\n",
    "    norm_fn = TRAINDIR+NORMFILE_RH,\n",
    "    input_transform = ('mean', 'maxrs'),\n",
    "    output_transform = scale_dict_RH,\n",
    "    batch_size=1024,\n",
    "    shuffle=True\n",
    ")"
   ]
  },
  {
   "cell_type": "markdown",
   "metadata": {},
   "source": [
    "#### For negative sepearation"
   ]
  },
  {
   "cell_type": "code",
   "execution_count": 11,
   "metadata": {},
   "outputs": [],
   "source": [
    "TRAINFILE_RH = 'NegCRH_CI_RH_M4K_NORM_train_shuffle.nc'\n",
    "NORMFILE_RH = 'NegCRH_CI_RH_M4K_NORM_norm.nc'\n",
    "\n",
    "train_gen_RH_neg = DataGenerator(\n",
    "    data_fn = TRAINDIR+TRAINFILE_RH,\n",
    "    input_vars = in_vars_RH,\n",
    "    output_vars = out_vars_RH,\n",
    "    norm_fn = TRAINDIR+NORMFILE_RH,\n",
    "    input_transform = ('mean', 'maxrs'),\n",
    "    output_transform = scale_dict_RH,\n",
    "    batch_size=1024,\n",
    "    shuffle=True\n",
    ")"
   ]
  },
  {
   "cell_type": "markdown",
   "metadata": {},
   "source": [
    "### Data Generator using TNS"
   ]
  },
  {
   "cell_type": "code",
   "execution_count": 12,
   "metadata": {},
   "outputs": [],
   "source": [
    "in_vars = ['QBP','TfromNS','PS', 'SOLIN', 'SHFLX', 'LHFLX']\n",
    "out_vars = out_vars_RH\n",
    "# if geography: out_vars = ['PTEQ','PTTEND','FSNT','FSNS','FLNT','FLNS']\n",
    "# else: out_vars = ['PHQ','TPHYSTND','FSNT', 'FSNS', 'FLNT', 'FLNS']\n",
    "\n",
    "TRAINFILE_TNS = 'CI_TNS_M4K_NORM_train_shuffle.nc'\n",
    "NORMFILE_TNS = 'CI_TNS_M4K_NORM_norm.nc'\n",
    "VALIDFILE_TNS = 'CI_TNS_M4K_NORM_valid.nc'"
   ]
  },
  {
   "cell_type": "code",
   "execution_count": 13,
   "metadata": {},
   "outputs": [],
   "source": [
    "train_gen_TNS = DataGenerator(\n",
    "    data_fn = path+TRAINFILE_TNS,\n",
    "    input_vars = in_vars,\n",
    "    output_vars = out_vars,\n",
    "    norm_fn = path+NORMFILE_TNS,\n",
    "    input_transform = ('mean', 'maxrs'),\n",
    "    output_transform = scale_dict,\n",
    "    batch_size=1024,\n",
    "    shuffle=True\n",
    ")"
   ]
  },
  {
   "cell_type": "markdown",
   "metadata": {},
   "source": [
    "#### For positive "
   ]
  },
  {
   "cell_type": "code",
   "execution_count": 14,
   "metadata": {},
   "outputs": [],
   "source": [
    "TRAINFILE_TNS = 'PosCRH_CI_TNS_M4K_NORM_train_shuffle.nc'\n",
    "NORMFILE_TNS = 'PosCRH_CI_TNS_M4K_NORM_norm.nc'\n",
    "\n",
    "train_gen_TNS_pos = DataGenerator(\n",
    "    data_fn = TRAINDIR+TRAINFILE_TNS,\n",
    "    input_vars = in_vars,\n",
    "    output_vars = out_vars,\n",
    "    norm_fn = TRAINDIR+NORMFILE_TNS,\n",
    "    input_transform = ('mean', 'maxrs'),\n",
    "    output_transform = scale_dict,\n",
    "    batch_size=1024,\n",
    "    shuffle=True\n",
    ")"
   ]
  },
  {
   "cell_type": "markdown",
   "metadata": {},
   "source": [
    "#### For negative "
   ]
  },
  {
   "cell_type": "code",
   "execution_count": 15,
   "metadata": {},
   "outputs": [],
   "source": [
    "TRAINFILE_TNS = 'NegCRH_CI_TNS_M4K_NORM_train_shuffle.nc'\n",
    "NORMFILE_TNS = 'NegCRH_CI_TNS_M4K_NORM_norm.nc'\n",
    "\n",
    "train_gen_TNS_neg = DataGenerator(\n",
    "    data_fn = TRAINDIR+TRAINFILE_TNS,\n",
    "    input_vars = in_vars,\n",
    "    output_vars = out_vars,\n",
    "    norm_fn = TRAINDIR+NORMFILE_TNS,\n",
    "    input_transform = ('mean', 'maxrs'),\n",
    "    output_transform = scale_dict,\n",
    "    batch_size=1024,\n",
    "    shuffle=True\n",
    ")"
   ]
  },
  {
   "cell_type": "markdown",
   "metadata": {},
   "source": [
    "### Data Generator Combined "
   ]
  },
  {
   "cell_type": "code",
   "execution_count": 16,
   "metadata": {},
   "outputs": [],
   "source": [
    "in_vars = ['QBP','TBP','PS', 'SOLIN', 'SHFLX', 'LHFLX']\n",
    "#out_vars = ['PHQ','TPHYSTND','FSNT', 'FSNS', 'FLNT', 'FLNS']"
   ]
  },
  {
   "cell_type": "code",
   "execution_count": 17,
   "metadata": {},
   "outputs": [],
   "source": [
    "## this won't be used just to show we can use it overall\n",
    "TRAINFILE = 'CI_SP_M4K_train_shuffle.nc'\n",
    "NORMFILE = 'CI_SP_M4K_NORM_norm.nc'\n",
    "VALIDFILE = 'CI_SP_M4K_valid.nc'\n",
    "\n",
    "train_gen = DataGeneratorClimInv(\n",
    "    data_fn = path+TRAINFILE,\n",
    "    input_vars = in_vars,\n",
    "    output_vars = out_vars,\n",
    "    norm_fn = path+NORMFILE,\n",
    "    input_transform = ('mean', 'maxrs'),\n",
    "    output_transform = scale_dict,\n",
    "    batch_size=1024,\n",
    "    shuffle=True,\n",
    "    lev=lev,\n",
    "    hyam=hyam,hybm=hybm,\n",
    "    inp_subRH=train_gen_RH.input_transform.sub, inp_divRH=train_gen_RH.input_transform.div,\n",
    "    inp_subTNS=train_gen_TNS.input_transform.sub,inp_divTNS=train_gen_TNS.input_transform.div\n",
    ")\n",
    "\n",
    "valid_gen = DataGeneratorClimInv(\n",
    "    data_fn = path+VALIDFILE,\n",
    "    input_vars = in_vars,\n",
    "    output_vars = out_vars,\n",
    "    norm_fn = path+NORMFILE,\n",
    "    input_transform = ('mean', 'maxrs'),\n",
    "    output_transform = scale_dict,\n",
    "    batch_size=1024,\n",
    "    shuffle=True,\n",
    "    lev=lev,\n",
    "    hyam=hyam,hybm=hybm,\n",
    "    inp_subRH=train_gen_RH.input_transform.sub, inp_divRH=train_gen_RH.input_transform.div,\n",
    "    inp_subTNS=train_gen_TNS.input_transform.sub,inp_divTNS=train_gen_TNS.input_transform.div\n",
    ")"
   ]
  },
  {
   "cell_type": "code",
   "execution_count": 18,
   "metadata": {},
   "outputs": [
    {
     "data": {
      "text/plain": [
       "(1024, 179)"
      ]
     },
     "execution_count": 18,
     "metadata": {},
     "output_type": "execute_result"
    }
   ],
   "source": [
    "train_gen[0][0].shape"
   ]
  },
  {
   "cell_type": "markdown",
   "metadata": {},
   "source": [
    "#### For positive"
   ]
  },
  {
   "cell_type": "code",
   "execution_count": 19,
   "metadata": {},
   "outputs": [],
   "source": [
    "TRAINFILE = 'PosCRH_CI_SP_M4K_train_shuffle.nc'\n",
    "NORMFILE = 'PosCRH_CI_SP_M4K_NORM_norm.nc'\n",
    "VALIDFILE = 'PosCRH_CI_SP_M4K_valid.nc'\n",
    "\n",
    "train_gen_pos = DataGeneratorClimInv(\n",
    "    data_fn = TRAINDIR+TRAINFILE,\n",
    "    input_vars = in_vars,\n",
    "    output_vars = out_vars,\n",
    "    norm_fn = TRAINDIR+NORMFILE,\n",
    "    input_transform = ('mean', 'maxrs'),\n",
    "    output_transform = scale_dict,\n",
    "    batch_size=1024,\n",
    "    shuffle=True,\n",
    "    lev=lev,\n",
    "    hyam=hyam,hybm=hybm,\n",
    "    inp_subRH=train_gen_RH_pos.input_transform.sub, inp_divRH=train_gen_RH_pos.input_transform.div,\n",
    "    inp_subTNS=train_gen_TNS_pos.input_transform.sub,inp_divTNS=train_gen_TNS_pos.input_transform.div,\n",
    "    is_continous=True\n",
    ")\n",
    "\n",
    "valid_gen_pos = DataGeneratorClimInv(\n",
    "    data_fn = TRAINDIR+VALIDFILE,\n",
    "    input_vars = in_vars,\n",
    "    output_vars = out_vars,\n",
    "    norm_fn = TRAINDIR+NORMFILE,\n",
    "    input_transform = ('mean', 'maxrs'),\n",
    "    output_transform = scale_dict,\n",
    "    batch_size=1024,\n",
    "    shuffle=True,\n",
    "    lev=lev,\n",
    "    hyam=hyam,hybm=hybm,\n",
    "    inp_subRH=train_gen_RH_pos.input_transform.sub, inp_divRH=train_gen_RH_pos.input_transform.div,\n",
    "    inp_subTNS=train_gen_TNS_pos.input_transform.sub,inp_divTNS=train_gen_TNS_pos.input_transform.div,\n",
    "    is_continous=True\n",
    ")"
   ]
  },
  {
   "cell_type": "code",
   "execution_count": 20,
   "metadata": {},
   "outputs": [
    {
     "data": {
      "text/plain": [
       "(1024, 179)"
      ]
     },
     "execution_count": 20,
     "metadata": {},
     "output_type": "execute_result"
    }
   ],
   "source": [
    "train_gen_pos[0][0].shape"
   ]
  },
  {
   "cell_type": "markdown",
   "metadata": {},
   "source": [
    "#### For Negative"
   ]
  },
  {
   "cell_type": "code",
   "execution_count": 21,
   "metadata": {},
   "outputs": [],
   "source": [
    "TRAINFILE = 'NegCRH_CI_SP_M4K_train_shuffle.nc'\n",
    "NORMFILE = 'NegCRH_CI_SP_M4K_NORM_norm.nc'\n",
    "VALIDFILE = 'NegCRH_CI_SP_M4K_valid.nc'\n",
    "\n",
    "### we don't scale this network\n",
    "train_gen_neg = DataGeneratorClimInv(\n",
    "    data_fn = TRAINDIR+TRAINFILE,\n",
    "    input_vars = in_vars,\n",
    "    output_vars = out_vars,\n",
    "    norm_fn = TRAINDIR+NORMFILE,\n",
    "    input_transform = ('mean', 'maxrs'),\n",
    "    output_transform = scale_dict,\n",
    "    batch_size=1024,\n",
    "    shuffle=True,\n",
    "    lev=lev,\n",
    "    hyam=hyam,hybm=hybm,\n",
    "    inp_subRH=train_gen_RH_neg.input_transform.sub, inp_divRH=train_gen_RH_neg.input_transform.div,\n",
    "    inp_subTNS=train_gen_TNS_neg.input_transform.sub,inp_divTNS=train_gen_TNS_neg.input_transform.div,\n",
    "    is_continous=True,\n",
    "    scaling=False\n",
    ")\n",
    "\n",
    "valid_gen_neg = DataGeneratorClimInv(\n",
    "    data_fn = TRAINDIR+VALIDFILE,\n",
    "    input_vars = in_vars,\n",
    "    output_vars = out_vars,\n",
    "    norm_fn = TRAINDIR+NORMFILE,\n",
    "    input_transform = ('mean', 'maxrs'),\n",
    "    output_transform = scale_dict,\n",
    "    batch_size=1024,\n",
    "    shuffle=True,\n",
    "    lev=lev,\n",
    "    hyam=hyam,hybm=hybm,\n",
    "    inp_subRH=train_gen_RH_neg.input_transform.sub, inp_divRH=train_gen_RH_neg.input_transform.div,\n",
    "    inp_subTNS=train_gen_TNS_neg.input_transform.sub,inp_divTNS=train_gen_TNS_neg.input_transform.div,\n",
    "    is_continous=True,\n",
    "    scaling=False\n",
    ")"
   ]
  },
  {
   "cell_type": "code",
   "execution_count": 22,
   "metadata": {},
   "outputs": [
    {
     "data": {
      "text/plain": [
       "(1024, 178)"
      ]
     },
     "execution_count": 22,
     "metadata": {},
     "output_type": "execute_result"
    }
   ],
   "source": [
    "train_gen_neg[0][0].shape"
   ]
  },
  {
   "cell_type": "markdown",
   "metadata": {},
   "source": [
    "## Building the Model"
   ]
  },
  {
   "cell_type": "markdown",
   "metadata": {},
   "source": [
    "### For Positive"
   ]
  },
  {
   "cell_type": "code",
   "execution_count": 27,
   "metadata": {},
   "outputs": [
    {
     "name": "stdout",
     "output_type": "stream",
     "text": [
      "WARNING:tensorflow:From /home/tbeucler/pkg/miniconda3/lib/python3.6/site-packages/tensorflow/python/ops/resource_variable_ops.py:435: colocate_with (from tensorflow.python.framework.ops) is deprecated and will be removed in a future version.\n",
      "Instructions for updating:\n",
      "Colocations handled automatically by placer.\n"
     ]
    },
    {
     "name": "stderr",
     "output_type": "stream",
     "text": [
      "/home/tbeucler/pkg/miniconda3/lib/python3.6/site-packages/numpy/lib/type_check.py:546: DeprecationWarning: np.asscalar(a) is deprecated since NumPy v1.16, use a.item() instead\n",
      "  'a.item() instead', DeprecationWarning, stacklevel=1)\n",
      "/home/tbeucler/pkg/miniconda3/lib/python3.6/site-packages/numpy/lib/type_check.py:546: DeprecationWarning: np.asscalar(a) is deprecated since NumPy v1.16, use a.item() instead\n",
      "  'a.item() instead', DeprecationWarning, stacklevel=1)\n",
      "/home/tbeucler/pkg/miniconda3/lib/python3.6/site-packages/numpy/lib/type_check.py:546: DeprecationWarning: np.asscalar(a) is deprecated since NumPy v1.16, use a.item() instead\n",
      "  'a.item() instead', DeprecationWarning, stacklevel=1)\n",
      "/home/tbeucler/pkg/miniconda3/lib/python3.6/site-packages/numpy/lib/type_check.py:546: DeprecationWarning: np.asscalar(a) is deprecated since NumPy v1.16, use a.item() instead\n",
      "  'a.item() instead', DeprecationWarning, stacklevel=1)\n",
      "/home/tbeucler/pkg/miniconda3/lib/python3.6/site-packages/numpy/lib/type_check.py:546: DeprecationWarning: np.asscalar(a) is deprecated since NumPy v1.16, use a.item() instead\n",
      "  'a.item() instead', DeprecationWarning, stacklevel=1)\n",
      "/home/tbeucler/pkg/miniconda3/lib/python3.6/site-packages/numpy/lib/type_check.py:546: DeprecationWarning: np.asscalar(a) is deprecated since NumPy v1.16, use a.item() instead\n",
      "  'a.item() instead', DeprecationWarning, stacklevel=1)\n",
      "/home/tbeucler/pkg/miniconda3/lib/python3.6/site-packages/numpy/lib/type_check.py:546: DeprecationWarning: np.asscalar(a) is deprecated since NumPy v1.16, use a.item() instead\n",
      "  'a.item() instead', DeprecationWarning, stacklevel=1)\n"
     ]
    },
    {
     "ename": "AttributeError",
     "evalue": "module 'tensorflow_probability.python.math' has no attribute 'batch_interp_regular_1d_grid'",
     "output_type": "error",
     "traceback": [
      "\u001b[0;31m---------------------------------------------------------------------------\u001b[0m",
      "\u001b[0;31mAttributeError\u001b[0m                            Traceback (most recent call last)",
      "\u001b[0;32m<ipython-input-27-f048ee344483>\u001b[0m in \u001b[0;36m<module>\u001b[0;34m\u001b[0m\n\u001b[1;32m     12\u001b[0m     \u001b[0mdensout\u001b[0m \u001b[0;34m=\u001b[0m \u001b[0mLeakyReLU\u001b[0m\u001b[0;34m(\u001b[0m\u001b[0malpha\u001b[0m\u001b[0;34m=\u001b[0m\u001b[0;36m0.3\u001b[0m\u001b[0;34m)\u001b[0m\u001b[0;34m(\u001b[0m\u001b[0mdensout\u001b[0m\u001b[0;34m)\u001b[0m\u001b[0;34m\u001b[0m\u001b[0;34m\u001b[0m\u001b[0m\n\u001b[1;32m     13\u001b[0m \u001b[0mdenseout\u001b[0m \u001b[0;34m=\u001b[0m \u001b[0mDense\u001b[0m\u001b[0;34m(\u001b[0m\u001b[0;36m2\u001b[0m\u001b[0;34m*\u001b[0m\u001b[0minter_dim_size\u001b[0m\u001b[0;34m+\u001b[0m\u001b[0;36m4\u001b[0m\u001b[0;34m,\u001b[0m \u001b[0mactivation\u001b[0m\u001b[0;34m=\u001b[0m\u001b[0;34m'linear'\u001b[0m\u001b[0;34m)\u001b[0m\u001b[0;34m(\u001b[0m\u001b[0mdensout\u001b[0m\u001b[0;34m)\u001b[0m\u001b[0;34m\u001b[0m\u001b[0;34m\u001b[0m\u001b[0m\n\u001b[0;32m---> 14\u001b[0;31m \u001b[0mlev_original_out\u001b[0m \u001b[0;34m=\u001b[0m \u001b[0mreverseInterpLayer\u001b[0m\u001b[0;34m(\u001b[0m\u001b[0minter_dim_size\u001b[0m\u001b[0;34m)\u001b[0m\u001b[0;34m(\u001b[0m\u001b[0;34m[\u001b[0m\u001b[0mdenseout\u001b[0m\u001b[0;34m,\u001b[0m\u001b[0mlev_tilde_before\u001b[0m\u001b[0;34m]\u001b[0m\u001b[0;34m)\u001b[0m\u001b[0;34m\u001b[0m\u001b[0;34m\u001b[0m\u001b[0m\n\u001b[0m\u001b[1;32m     15\u001b[0m out = ScaleOp(OpType.PWA.value,\n\u001b[1;32m     16\u001b[0m               \u001b[0minp_subQ\u001b[0m\u001b[0;34m=\u001b[0m\u001b[0mtrain_gen_pos\u001b[0m\u001b[0;34m.\u001b[0m\u001b[0minput_transform\u001b[0m\u001b[0;34m.\u001b[0m\u001b[0msub\u001b[0m\u001b[0;34m,\u001b[0m\u001b[0;34m\u001b[0m\u001b[0;34m\u001b[0m\u001b[0m\n",
      "\u001b[0;32m~/pkg/miniconda3/lib/python3.6/site-packages/tensorflow/python/keras/engine/base_layer.py\u001b[0m in \u001b[0;36m__call__\u001b[0;34m(self, inputs, *args, **kwargs)\u001b[0m\n\u001b[1;32m    552\u001b[0m             \u001b[0;31m# In graph mode, failure to build the layer's graph\u001b[0m\u001b[0;34m\u001b[0m\u001b[0;34m\u001b[0m\u001b[0;34m\u001b[0m\u001b[0m\n\u001b[1;32m    553\u001b[0m             \u001b[0;31m# implies a user-side bug. We don't catch exceptions.\u001b[0m\u001b[0;34m\u001b[0m\u001b[0;34m\u001b[0m\u001b[0;34m\u001b[0m\u001b[0m\n\u001b[0;32m--> 554\u001b[0;31m             \u001b[0moutputs\u001b[0m \u001b[0;34m=\u001b[0m \u001b[0mself\u001b[0m\u001b[0;34m.\u001b[0m\u001b[0mcall\u001b[0m\u001b[0;34m(\u001b[0m\u001b[0minputs\u001b[0m\u001b[0;34m,\u001b[0m \u001b[0;34m*\u001b[0m\u001b[0margs\u001b[0m\u001b[0;34m,\u001b[0m \u001b[0;34m**\u001b[0m\u001b[0mkwargs\u001b[0m\u001b[0;34m)\u001b[0m\u001b[0;34m\u001b[0m\u001b[0;34m\u001b[0m\u001b[0m\n\u001b[0m\u001b[1;32m    555\u001b[0m           \u001b[0;32melse\u001b[0m\u001b[0;34m:\u001b[0m\u001b[0;34m\u001b[0m\u001b[0;34m\u001b[0m\u001b[0m\n\u001b[1;32m    556\u001b[0m             \u001b[0;32mtry\u001b[0m\u001b[0;34m:\u001b[0m\u001b[0;34m\u001b[0m\u001b[0;34m\u001b[0m\u001b[0m\n",
      "\u001b[0;32m/oasis/scratch/comet/tbeucler/temp_project/CBRAIN-CAM/notebooks/tbeucler_devlog/climate_invariant_utils.py\u001b[0m in \u001b[0;36mcall\u001b[0;34m(self, inputs)\u001b[0m\n\u001b[1;32m    306\u001b[0m         \u001b[0my_ref_pressure\u001b[0m \u001b[0;34m=\u001b[0m \u001b[0mX\u001b[0m\u001b[0;34m[\u001b[0m\u001b[0;34m:\u001b[0m\u001b[0;34m,\u001b[0m\u001b[0;34m:\u001b[0m\u001b[0mself\u001b[0m\u001b[0;34m.\u001b[0m\u001b[0minterim_dim_size\u001b[0m\u001b[0;34m]\u001b[0m\u001b[0;34m\u001b[0m\u001b[0;34m\u001b[0m\u001b[0m\n\u001b[1;32m    307\u001b[0m         \u001b[0my_ref_temperature\u001b[0m \u001b[0;34m=\u001b[0m \u001b[0mX\u001b[0m\u001b[0;34m[\u001b[0m\u001b[0;34m:\u001b[0m\u001b[0;34m,\u001b[0m\u001b[0mself\u001b[0m\u001b[0;34m.\u001b[0m\u001b[0minterim_dim_size\u001b[0m\u001b[0;34m:\u001b[0m\u001b[0;36m2\u001b[0m\u001b[0;34m*\u001b[0m\u001b[0mself\u001b[0m\u001b[0;34m.\u001b[0m\u001b[0minterim_dim_size\u001b[0m\u001b[0;34m]\u001b[0m\u001b[0;34m\u001b[0m\u001b[0;34m\u001b[0m\u001b[0m\n\u001b[0;32m--> 308\u001b[0;31m         \u001b[0my_pressure\u001b[0m \u001b[0;34m=\u001b[0m \u001b[0mtfp\u001b[0m\u001b[0;34m.\u001b[0m\u001b[0mmath\u001b[0m\u001b[0;34m.\u001b[0m\u001b[0mbatch_interp_regular_1d_grid\u001b[0m\u001b[0;34m(\u001b[0m\u001b[0mX_original\u001b[0m\u001b[0;34m,\u001b[0m\u001b[0mx_ref_min\u001b[0m\u001b[0;34m,\u001b[0m\u001b[0mx_ref_max\u001b[0m\u001b[0;34m,\u001b[0m\u001b[0my_ref_pressure\u001b[0m\u001b[0;34m)\u001b[0m\u001b[0;34m\u001b[0m\u001b[0;34m\u001b[0m\u001b[0m\n\u001b[0m\u001b[1;32m    309\u001b[0m         \u001b[0my_temperature\u001b[0m \u001b[0;34m=\u001b[0m \u001b[0mtfp\u001b[0m\u001b[0;34m.\u001b[0m\u001b[0mmath\u001b[0m\u001b[0;34m.\u001b[0m\u001b[0mbatch_interp_regular_1d_grid\u001b[0m\u001b[0;34m(\u001b[0m\u001b[0mX_original\u001b[0m\u001b[0;34m,\u001b[0m\u001b[0mx_ref_min\u001b[0m\u001b[0;34m,\u001b[0m\u001b[0mx_ref_max\u001b[0m\u001b[0;34m,\u001b[0m\u001b[0my_ref_temperature\u001b[0m\u001b[0;34m)\u001b[0m\u001b[0;34m\u001b[0m\u001b[0;34m\u001b[0m\u001b[0m\n\u001b[1;32m    310\u001b[0m         \u001b[0my_tilde_before\u001b[0m \u001b[0;34m=\u001b[0m \u001b[0mtf\u001b[0m\u001b[0;34m.\u001b[0m\u001b[0mconcat\u001b[0m\u001b[0;34m(\u001b[0m\u001b[0;34m[\u001b[0m\u001b[0my_pressure\u001b[0m\u001b[0;34m,\u001b[0m\u001b[0my_temperature\u001b[0m\u001b[0;34m,\u001b[0m\u001b[0mX\u001b[0m\u001b[0;34m[\u001b[0m\u001b[0;34m:\u001b[0m\u001b[0;34m,\u001b[0m\u001b[0;36m2\u001b[0m\u001b[0;34m*\u001b[0m\u001b[0mself\u001b[0m\u001b[0;34m.\u001b[0m\u001b[0minterim_dim_size\u001b[0m\u001b[0;34m:\u001b[0m\u001b[0;34m]\u001b[0m\u001b[0;34m]\u001b[0m\u001b[0;34m,\u001b[0m \u001b[0maxis\u001b[0m\u001b[0;34m=\u001b[0m\u001b[0;36m1\u001b[0m\u001b[0;34m)\u001b[0m\u001b[0;34m\u001b[0m\u001b[0;34m\u001b[0m\u001b[0m\n",
      "\u001b[0;31mAttributeError\u001b[0m: module 'tensorflow_probability.python.math' has no attribute 'batch_interp_regular_1d_grid'"
     ]
    }
   ],
   "source": [
    "inp = Input(shape=(179,)) ## input after rh and tns transformation\n",
    "offset = 65\n",
    "inp_TNS = inp[:,offset:offset+2*inter_dim_size+4]\n",
    "offset = offset+2*inter_dim_size+4\n",
    "lev_tilde_before = inp[:,offset:offset+30]\n",
    "offset = offset+30\n",
    "\n",
    "densout = Dense(128, activation='linear')(inp_TNS)\n",
    "densout = LeakyReLU(alpha=0.3)(densout)\n",
    "for i in range (6):\n",
    "    densout = Dense(128, activation='linear')(densout)\n",
    "    densout = LeakyReLU(alpha=0.3)(densout)\n",
    "denseout = Dense(2*inter_dim_size+4, activation='linear')(densout)\n",
    "lev_original_out = reverseInterpLayer(inter_dim_size)([denseout,lev_tilde_before])\n",
    "out = ScaleOp(OpType.PWA.value,\n",
    "              inp_subQ=train_gen_pos.input_transform.sub, \n",
    "              inp_divQ=train_gen_pos.input_transform.div,\n",
    "              )([inp,lev_original_out])\n",
    "model_pos = tf.keras.models.Model(inp, out)"
   ]
  },
  {
   "cell_type": "code",
   "execution_count": 25,
   "metadata": {},
   "outputs": [
    {
     "name": "stdout",
     "output_type": "stream",
     "text": [
      "Model: \"model\"\n",
      "__________________________________________________________________________________________________\n",
      "Layer (type)                    Output Shape         Param #     Connected to                     \n",
      "==================================================================================================\n",
      "input_1 (InputLayer)            [(None, 179)]        0                                            \n",
      "__________________________________________________________________________________________________\n",
      "tf_op_layer_strided_slice (Tens [(None, 84)]         0           input_1[0][0]                    \n",
      "__________________________________________________________________________________________________\n",
      "dense (Dense)                   (None, 128)          10880       tf_op_layer_strided_slice[0][0]  \n",
      "__________________________________________________________________________________________________\n",
      "leaky_re_lu (LeakyReLU)         (None, 128)          0           dense[0][0]                      \n",
      "__________________________________________________________________________________________________\n",
      "dense_1 (Dense)                 (None, 128)          16512       leaky_re_lu[0][0]                \n",
      "__________________________________________________________________________________________________\n",
      "leaky_re_lu_1 (LeakyReLU)       (None, 128)          0           dense_1[0][0]                    \n",
      "__________________________________________________________________________________________________\n",
      "dense_2 (Dense)                 (None, 128)          16512       leaky_re_lu_1[0][0]              \n",
      "__________________________________________________________________________________________________\n",
      "leaky_re_lu_2 (LeakyReLU)       (None, 128)          0           dense_2[0][0]                    \n",
      "__________________________________________________________________________________________________\n",
      "dense_3 (Dense)                 (None, 128)          16512       leaky_re_lu_2[0][0]              \n",
      "__________________________________________________________________________________________________\n",
      "leaky_re_lu_3 (LeakyReLU)       (None, 128)          0           dense_3[0][0]                    \n",
      "__________________________________________________________________________________________________\n",
      "dense_4 (Dense)                 (None, 128)          16512       leaky_re_lu_3[0][0]              \n",
      "__________________________________________________________________________________________________\n",
      "leaky_re_lu_4 (LeakyReLU)       (None, 128)          0           dense_4[0][0]                    \n",
      "__________________________________________________________________________________________________\n",
      "dense_5 (Dense)                 (None, 128)          16512       leaky_re_lu_4[0][0]              \n",
      "__________________________________________________________________________________________________\n",
      "leaky_re_lu_5 (LeakyReLU)       (None, 128)          0           dense_5[0][0]                    \n",
      "__________________________________________________________________________________________________\n",
      "dense_6 (Dense)                 (None, 128)          16512       leaky_re_lu_5[0][0]              \n",
      "__________________________________________________________________________________________________\n",
      "leaky_re_lu_6 (LeakyReLU)       (None, 128)          0           dense_6[0][0]                    \n",
      "__________________________________________________________________________________________________\n",
      "dense_7 (Dense)                 (None, 84)           10836       leaky_re_lu_6[0][0]              \n",
      "__________________________________________________________________________________________________\n",
      "tf_op_layer_strided_slice_1 (Te [(None, 30)]         0           input_1[0][0]                    \n",
      "__________________________________________________________________________________________________\n",
      "reverse_interp_layer (reverseIn (None, 64)           0           dense_7[0][0]                    \n",
      "                                                                 tf_op_layer_strided_slice_1[0][0]\n",
      "__________________________________________________________________________________________________\n",
      "scale_op (ScaleOp)              (None, 64)           0           input_1[0][0]                    \n",
      "                                                                 reverse_interp_layer[0][0]       \n",
      "==================================================================================================\n",
      "Total params: 120,788\n",
      "Trainable params: 120,788\n",
      "Non-trainable params: 0\n",
      "__________________________________________________________________________________________________\n"
     ]
    }
   ],
   "source": [
    "model_pos.summary()"
   ]
  },
  {
   "cell_type": "code",
   "execution_count": 29,
   "metadata": {},
   "outputs": [],
   "source": [
    "model_pos.compile(tf.keras.optimizers.Adam(), loss=mse)"
   ]
  },
  {
   "cell_type": "code",
   "execution_count": 30,
   "metadata": {},
   "outputs": [],
   "source": [
    "# Where to save the model\n",
    "path_HDF5 = '/oasis/scratch/comet/tbeucler/temp_project/CBRAIN_models/'\n",
    "save_name = 'CI_Pos_temp'"
   ]
  },
  {
   "cell_type": "code",
   "execution_count": 31,
   "metadata": {},
   "outputs": [],
   "source": [
    "earlyStopping = EarlyStopping(monitor='val_loss', patience=10, verbose=0, mode='min')\n",
    "mcp_save = ModelCheckpoint(path_HDF5+save_name+'.hdf5',save_best_only=True, monitor='val_loss', mode='min')"
   ]
  },
  {
   "cell_type": "code",
   "execution_count": null,
   "metadata": {},
   "outputs": [
    {
     "name": "stdout",
     "output_type": "stream",
     "text": [
      "Epoch 1/25\n",
      "WARNING:tensorflow:From /home/tbeucler/pkg/miniconda3/envs/CbrainCustomLayer/lib/python3.6/site-packages/tensorflow_core/python/ops/array_grad.py:502: _EagerTensorBase.cpu (from tensorflow.python.framework.ops) is deprecated and will be removed in a future version.\n",
      "Instructions for updating:\n",
      "Use tf.identity instead.\n",
      "9144/9144 [==============================] - 1766s 193ms/step - loss: 623.9487 - val_loss: 538.1217\n",
      "Epoch 2/25\n",
      " 610/9144 [=>............................] - ETA: 16:30 - loss: 558.1734"
     ]
    },
    {
     "ename": "KeyboardInterrupt",
     "evalue": "",
     "output_type": "error",
     "traceback": [
      "\u001b[0;31m---------------------------------------------------------------------------\u001b[0m",
      "\u001b[0;31mKeyboardInterrupt\u001b[0m                         Traceback (most recent call last)",
      "\u001b[0;32m<ipython-input-32-6d02dd811136>\u001b[0m in \u001b[0;36m<module>\u001b[0;34m\u001b[0m\n\u001b[1;32m      1\u001b[0m \u001b[0mNep\u001b[0m \u001b[0;34m=\u001b[0m \u001b[0;36m25\u001b[0m\u001b[0;34m\u001b[0m\u001b[0;34m\u001b[0m\u001b[0m\n\u001b[1;32m      2\u001b[0m model_pos.fit_generator(train_gen_pos, epochs=Nep, validation_data=valid_gen_pos,\\\n\u001b[0;32m----> 3\u001b[0;31m               callbacks=[earlyStopping, mcp_save])\n\u001b[0m",
      "\u001b[0;32m~/pkg/miniconda3/envs/CbrainCustomLayer/lib/python3.6/site-packages/tensorflow_core/python/keras/engine/training.py\u001b[0m in \u001b[0;36mfit_generator\u001b[0;34m(self, generator, steps_per_epoch, epochs, verbose, callbacks, validation_data, validation_steps, validation_freq, class_weight, max_queue_size, workers, use_multiprocessing, shuffle, initial_epoch)\u001b[0m\n\u001b[1;32m   1295\u001b[0m         \u001b[0mshuffle\u001b[0m\u001b[0;34m=\u001b[0m\u001b[0mshuffle\u001b[0m\u001b[0;34m,\u001b[0m\u001b[0;34m\u001b[0m\u001b[0;34m\u001b[0m\u001b[0m\n\u001b[1;32m   1296\u001b[0m         \u001b[0minitial_epoch\u001b[0m\u001b[0;34m=\u001b[0m\u001b[0minitial_epoch\u001b[0m\u001b[0;34m,\u001b[0m\u001b[0;34m\u001b[0m\u001b[0;34m\u001b[0m\u001b[0m\n\u001b[0;32m-> 1297\u001b[0;31m         steps_name='steps_per_epoch')\n\u001b[0m\u001b[1;32m   1298\u001b[0m \u001b[0;34m\u001b[0m\u001b[0m\n\u001b[1;32m   1299\u001b[0m   def evaluate_generator(self,\n",
      "\u001b[0;32m~/pkg/miniconda3/envs/CbrainCustomLayer/lib/python3.6/site-packages/tensorflow_core/python/keras/engine/training_generator.py\u001b[0m in \u001b[0;36mmodel_iteration\u001b[0;34m(model, data, steps_per_epoch, epochs, verbose, callbacks, validation_data, validation_steps, validation_freq, class_weight, max_queue_size, workers, use_multiprocessing, shuffle, initial_epoch, mode, batch_size, steps_name, **kwargs)\u001b[0m\n\u001b[1;32m    259\u001b[0m       \u001b[0;31m# Callbacks batch begin.\u001b[0m\u001b[0;34m\u001b[0m\u001b[0;34m\u001b[0m\u001b[0;34m\u001b[0m\u001b[0m\n\u001b[1;32m    260\u001b[0m       \u001b[0mbatch_logs\u001b[0m \u001b[0;34m=\u001b[0m \u001b[0;34m{\u001b[0m\u001b[0;34m'batch'\u001b[0m\u001b[0;34m:\u001b[0m \u001b[0mstep\u001b[0m\u001b[0;34m,\u001b[0m \u001b[0;34m'size'\u001b[0m\u001b[0;34m:\u001b[0m \u001b[0mbatch_size\u001b[0m\u001b[0;34m}\u001b[0m\u001b[0;34m\u001b[0m\u001b[0;34m\u001b[0m\u001b[0m\n\u001b[0;32m--> 261\u001b[0;31m       \u001b[0mcallbacks\u001b[0m\u001b[0;34m.\u001b[0m\u001b[0m_call_batch_hook\u001b[0m\u001b[0;34m(\u001b[0m\u001b[0mmode\u001b[0m\u001b[0;34m,\u001b[0m \u001b[0;34m'begin'\u001b[0m\u001b[0;34m,\u001b[0m \u001b[0mstep\u001b[0m\u001b[0;34m,\u001b[0m \u001b[0mbatch_logs\u001b[0m\u001b[0;34m)\u001b[0m\u001b[0;34m\u001b[0m\u001b[0;34m\u001b[0m\u001b[0m\n\u001b[0m\u001b[1;32m    262\u001b[0m       \u001b[0mprogbar\u001b[0m\u001b[0;34m.\u001b[0m\u001b[0mon_batch_begin\u001b[0m\u001b[0;34m(\u001b[0m\u001b[0mstep\u001b[0m\u001b[0;34m,\u001b[0m \u001b[0mbatch_logs\u001b[0m\u001b[0;34m)\u001b[0m\u001b[0;34m\u001b[0m\u001b[0;34m\u001b[0m\u001b[0m\n\u001b[1;32m    263\u001b[0m \u001b[0;34m\u001b[0m\u001b[0m\n",
      "\u001b[0;32m~/pkg/miniconda3/envs/CbrainCustomLayer/lib/python3.6/site-packages/tensorflow_core/python/keras/callbacks.py\u001b[0m in \u001b[0;36m_call_batch_hook\u001b[0;34m(self, mode, hook, batch, logs)\u001b[0m\n\u001b[1;32m    236\u001b[0m     \u001b[0mself\u001b[0m\u001b[0;34m.\u001b[0m\u001b[0m_delta_ts\u001b[0m\u001b[0;34m[\u001b[0m\u001b[0mhook_name\u001b[0m\u001b[0;34m]\u001b[0m\u001b[0;34m.\u001b[0m\u001b[0mappend\u001b[0m\u001b[0;34m(\u001b[0m\u001b[0mtime\u001b[0m\u001b[0;34m.\u001b[0m\u001b[0mtime\u001b[0m\u001b[0;34m(\u001b[0m\u001b[0;34m)\u001b[0m \u001b[0;34m-\u001b[0m \u001b[0mt_before_callbacks\u001b[0m\u001b[0;34m)\u001b[0m\u001b[0;34m\u001b[0m\u001b[0;34m\u001b[0m\u001b[0m\n\u001b[1;32m    237\u001b[0m \u001b[0;34m\u001b[0m\u001b[0m\n\u001b[0;32m--> 238\u001b[0;31m     \u001b[0mdelta_t_median\u001b[0m \u001b[0;34m=\u001b[0m \u001b[0mnp\u001b[0m\u001b[0;34m.\u001b[0m\u001b[0mmedian\u001b[0m\u001b[0;34m(\u001b[0m\u001b[0mself\u001b[0m\u001b[0;34m.\u001b[0m\u001b[0m_delta_ts\u001b[0m\u001b[0;34m[\u001b[0m\u001b[0mhook_name\u001b[0m\u001b[0;34m]\u001b[0m\u001b[0;34m)\u001b[0m\u001b[0;34m\u001b[0m\u001b[0;34m\u001b[0m\u001b[0m\n\u001b[0m\u001b[1;32m    239\u001b[0m     if (self._delta_t_batch > 0. and\n\u001b[1;32m    240\u001b[0m         delta_t_median > 0.95 * self._delta_t_batch and delta_t_median > 0.1):\n",
      "\u001b[0;32m<__array_function__ internals>\u001b[0m in \u001b[0;36mmedian\u001b[0;34m(*args, **kwargs)\u001b[0m\n",
      "\u001b[0;32m~/pkg/miniconda3/envs/CbrainCustomLayer/lib/python3.6/site-packages/numpy/lib/function_base.py\u001b[0m in \u001b[0;36mmedian\u001b[0;34m(a, axis, out, overwrite_input, keepdims)\u001b[0m\n\u001b[1;32m   3493\u001b[0m     \"\"\"\n\u001b[1;32m   3494\u001b[0m     r, k = _ureduce(a, func=_median, axis=axis, out=out,\n\u001b[0;32m-> 3495\u001b[0;31m                     overwrite_input=overwrite_input)\n\u001b[0m\u001b[1;32m   3496\u001b[0m     \u001b[0;32mif\u001b[0m \u001b[0mkeepdims\u001b[0m\u001b[0;34m:\u001b[0m\u001b[0;34m\u001b[0m\u001b[0;34m\u001b[0m\u001b[0m\n\u001b[1;32m   3497\u001b[0m         \u001b[0;32mreturn\u001b[0m \u001b[0mr\u001b[0m\u001b[0;34m.\u001b[0m\u001b[0mreshape\u001b[0m\u001b[0;34m(\u001b[0m\u001b[0mk\u001b[0m\u001b[0;34m)\u001b[0m\u001b[0;34m\u001b[0m\u001b[0;34m\u001b[0m\u001b[0m\n",
      "\u001b[0;32m~/pkg/miniconda3/envs/CbrainCustomLayer/lib/python3.6/site-packages/numpy/lib/function_base.py\u001b[0m in \u001b[0;36m_ureduce\u001b[0;34m(a, func, **kwargs)\u001b[0m\n\u001b[1;32m   3401\u001b[0m         \u001b[0mkeepdim\u001b[0m \u001b[0;34m=\u001b[0m \u001b[0;34m(\u001b[0m\u001b[0;36m1\u001b[0m\u001b[0;34m,\u001b[0m\u001b[0;34m)\u001b[0m \u001b[0;34m*\u001b[0m \u001b[0ma\u001b[0m\u001b[0;34m.\u001b[0m\u001b[0mndim\u001b[0m\u001b[0;34m\u001b[0m\u001b[0;34m\u001b[0m\u001b[0m\n\u001b[1;32m   3402\u001b[0m \u001b[0;34m\u001b[0m\u001b[0m\n\u001b[0;32m-> 3403\u001b[0;31m     \u001b[0mr\u001b[0m \u001b[0;34m=\u001b[0m \u001b[0mfunc\u001b[0m\u001b[0;34m(\u001b[0m\u001b[0ma\u001b[0m\u001b[0;34m,\u001b[0m \u001b[0;34m**\u001b[0m\u001b[0mkwargs\u001b[0m\u001b[0;34m)\u001b[0m\u001b[0;34m\u001b[0m\u001b[0;34m\u001b[0m\u001b[0m\n\u001b[0m\u001b[1;32m   3404\u001b[0m     \u001b[0;32mreturn\u001b[0m \u001b[0mr\u001b[0m\u001b[0;34m,\u001b[0m \u001b[0mkeepdim\u001b[0m\u001b[0;34m\u001b[0m\u001b[0;34m\u001b[0m\u001b[0m\n\u001b[1;32m   3405\u001b[0m \u001b[0;34m\u001b[0m\u001b[0m\n",
      "\u001b[0;32m~/pkg/miniconda3/envs/CbrainCustomLayer/lib/python3.6/site-packages/numpy/lib/function_base.py\u001b[0m in \u001b[0;36m_median\u001b[0;34m(a, axis, out, overwrite_input)\u001b[0m\n\u001b[1;32m   3516\u001b[0m     \u001b[0;31m# Check if the array contains any nan's\u001b[0m\u001b[0;34m\u001b[0m\u001b[0;34m\u001b[0m\u001b[0;34m\u001b[0m\u001b[0m\n\u001b[1;32m   3517\u001b[0m     \u001b[0;32mif\u001b[0m \u001b[0mnp\u001b[0m\u001b[0;34m.\u001b[0m\u001b[0missubdtype\u001b[0m\u001b[0;34m(\u001b[0m\u001b[0ma\u001b[0m\u001b[0;34m.\u001b[0m\u001b[0mdtype\u001b[0m\u001b[0;34m,\u001b[0m \u001b[0mnp\u001b[0m\u001b[0;34m.\u001b[0m\u001b[0minexact\u001b[0m\u001b[0;34m)\u001b[0m\u001b[0;34m:\u001b[0m\u001b[0;34m\u001b[0m\u001b[0;34m\u001b[0m\u001b[0m\n\u001b[0;32m-> 3518\u001b[0;31m         \u001b[0mkth\u001b[0m\u001b[0;34m.\u001b[0m\u001b[0mappend\u001b[0m\u001b[0;34m(\u001b[0m\u001b[0;34m-\u001b[0m\u001b[0;36m1\u001b[0m\u001b[0;34m)\u001b[0m\u001b[0;34m\u001b[0m\u001b[0;34m\u001b[0m\u001b[0m\n\u001b[0m\u001b[1;32m   3519\u001b[0m \u001b[0;34m\u001b[0m\u001b[0m\n\u001b[1;32m   3520\u001b[0m     \u001b[0;32mif\u001b[0m \u001b[0moverwrite_input\u001b[0m\u001b[0;34m:\u001b[0m\u001b[0;34m\u001b[0m\u001b[0;34m\u001b[0m\u001b[0m\n",
      "\u001b[0;31mKeyboardInterrupt\u001b[0m: "
     ]
    }
   ],
   "source": [
    "Nep = 25\n",
    "model_pos.fit_generator(train_gen_pos, epochs=Nep, validation_data=valid_gen_pos,\\\n",
    "              callbacks=[earlyStopping, mcp_save])"
   ]
  },
  {
   "cell_type": "markdown",
   "metadata": {},
   "source": [
    "### For Negative"
   ]
  },
  {
   "cell_type": "code",
   "execution_count": 22,
   "metadata": {},
   "outputs": [],
   "source": [
    "inp = Input(shape=(178,)) ## input after rh and tns transformation\n",
    "offset = 64\n",
    "inp_TNS = inp[:,offset:offset+2*inter_dim_size+4]\n",
    "offset = offset+2*inter_dim_size+4\n",
    "lev_tilde_before = inp[:,offset:offset+30]\n",
    "offset = offset+30\n",
    "\n",
    "densout = Dense(128, activation='linear')(inp_TNS)\n",
    "densout = LeakyReLU(alpha=0.3)(densout)\n",
    "for i in range (6):\n",
    "    densout = Dense(128, activation='linear')(densout)\n",
    "    densout = LeakyReLU(alpha=0.3)(densout)\n",
    "denseout = Dense(2*inter_dim_size+4, activation='linear')(densout)\n",
    "lev_original_out = reverseInterpLayer(inter_dim_size)([denseout,lev_tilde_before])\n",
    "\n",
    "model_neg = tf.keras.models.Model(inp, lev_original_out)"
   ]
  },
  {
   "cell_type": "code",
   "execution_count": 23,
   "metadata": {},
   "outputs": [
    {
     "name": "stdout",
     "output_type": "stream",
     "text": [
      "Model: \"model\"\n",
      "__________________________________________________________________________________________________\n",
      "Layer (type)                    Output Shape         Param #     Connected to                     \n",
      "==================================================================================================\n",
      "input_1 (InputLayer)            [(None, 178)]        0                                            \n",
      "__________________________________________________________________________________________________\n",
      "tf_op_layer_strided_slice (Tens [(None, 84)]         0           input_1[0][0]                    \n",
      "__________________________________________________________________________________________________\n",
      "dense (Dense)                   (None, 128)          10880       tf_op_layer_strided_slice[0][0]  \n",
      "__________________________________________________________________________________________________\n",
      "leaky_re_lu (LeakyReLU)         (None, 128)          0           dense[0][0]                      \n",
      "__________________________________________________________________________________________________\n",
      "dense_1 (Dense)                 (None, 128)          16512       leaky_re_lu[0][0]                \n",
      "__________________________________________________________________________________________________\n",
      "leaky_re_lu_1 (LeakyReLU)       (None, 128)          0           dense_1[0][0]                    \n",
      "__________________________________________________________________________________________________\n",
      "dense_2 (Dense)                 (None, 128)          16512       leaky_re_lu_1[0][0]              \n",
      "__________________________________________________________________________________________________\n",
      "leaky_re_lu_2 (LeakyReLU)       (None, 128)          0           dense_2[0][0]                    \n",
      "__________________________________________________________________________________________________\n",
      "dense_3 (Dense)                 (None, 128)          16512       leaky_re_lu_2[0][0]              \n",
      "__________________________________________________________________________________________________\n",
      "leaky_re_lu_3 (LeakyReLU)       (None, 128)          0           dense_3[0][0]                    \n",
      "__________________________________________________________________________________________________\n",
      "dense_4 (Dense)                 (None, 128)          16512       leaky_re_lu_3[0][0]              \n",
      "__________________________________________________________________________________________________\n",
      "leaky_re_lu_4 (LeakyReLU)       (None, 128)          0           dense_4[0][0]                    \n",
      "__________________________________________________________________________________________________\n",
      "dense_5 (Dense)                 (None, 128)          16512       leaky_re_lu_4[0][0]              \n",
      "__________________________________________________________________________________________________\n",
      "leaky_re_lu_5 (LeakyReLU)       (None, 128)          0           dense_5[0][0]                    \n",
      "__________________________________________________________________________________________________\n",
      "dense_6 (Dense)                 (None, 128)          16512       leaky_re_lu_5[0][0]              \n",
      "__________________________________________________________________________________________________\n",
      "leaky_re_lu_6 (LeakyReLU)       (None, 128)          0           dense_6[0][0]                    \n",
      "__________________________________________________________________________________________________\n",
      "dense_7 (Dense)                 (None, 84)           10836       leaky_re_lu_6[0][0]              \n",
      "__________________________________________________________________________________________________\n",
      "tf_op_layer_strided_slice_1 (Te [(None, 30)]         0           input_1[0][0]                    \n",
      "__________________________________________________________________________________________________\n",
      "reverse_interp_layer (reverseIn (None, 64)           0           dense_7[0][0]                    \n",
      "                                                                 tf_op_layer_strided_slice_1[0][0]\n",
      "==================================================================================================\n",
      "Total params: 120,788\n",
      "Trainable params: 120,788\n",
      "Non-trainable params: 0\n",
      "__________________________________________________________________________________________________\n"
     ]
    }
   ],
   "source": [
    "model_neg.summary()"
   ]
  },
  {
   "cell_type": "code",
   "execution_count": 24,
   "metadata": {},
   "outputs": [],
   "source": [
    "model_neg.compile(tf.keras.optimizers.Adam(), loss=mse)"
   ]
  },
  {
   "cell_type": "code",
   "execution_count": 28,
   "metadata": {},
   "outputs": [],
   "source": [
    "# Where to save the model\n",
    "path_HDF5 = '/oasis/scratch/comet/tbeucler/temp_project/CBRAIN_models/'\n",
    "save_name = 'CI_Neg_temp'"
   ]
  },
  {
   "cell_type": "code",
   "execution_count": 29,
   "metadata": {},
   "outputs": [],
   "source": [
    "path_HDF5 = '/oasis/scratch/comet/ankitesh/temp_project/models/Comnined/'\n",
    "earlyStopping = EarlyStopping(monitor='val_loss', patience=10, verbose=0, mode='min')\n",
    "mcp_save = ModelCheckpoint(path_HDF5+save_name+'.hdf5',save_best_only=True, monitor='val_loss', mode='min')\n"
   ]
  },
  {
   "cell_type": "code",
   "execution_count": null,
   "metadata": {},
   "outputs": [
    {
     "name": "stdout",
     "output_type": "stream",
     "text": [
      "Epoch 1/10\n",
      " 3268/32231 [==>...........................] - ETA: 1:32:07 - loss: 315.9958"
     ]
    }
   ],
   "source": [
    "Nep = 10\n",
    "model_neg.fit_generator(train_gen_neg, epochs=Nep, validation_data=valid_gen_neg,\\\n",
    "              callbacks=[earlyStopping, mcp_save])"
   ]
  },
  {
   "cell_type": "markdown",
   "metadata": {},
   "source": [
    "## Example of how to combine positive and negative NNs to make predictions"
   ]
  },
  {
   "cell_type": "markdown",
   "metadata": {},
   "source": [
    "### Test: Load `pb` models"
   ]
  },
  {
   "cell_type": "code",
   "execution_count": 23,
   "metadata": {},
   "outputs": [],
   "source": [
    "pathBF = '/oasis/scratch/comet/tbeucler/temp_project/DavidW_models/BF_Aquaplanet/'"
   ]
  },
  {
   "cell_type": "code",
   "execution_count": 24,
   "metadata": {},
   "outputs": [],
   "source": [
    "BF26 = tf.keras.models.load_model(pathBF+'26')\n",
    "BF33 = tf.keras.models.load_model(pathBF+'33')\n",
    "BF25 = tf.keras.models.load_model(pathBF+'25')\n",
    "BF28 = tf.keras.models.load_model(pathBF+'28')\n",
    "BF27 = tf.keras.models.load_model(pathBF+'27')"
   ]
  },
  {
   "cell_type": "markdown",
   "metadata": {},
   "source": [
    "### Define how to load climate-invariant NN"
   ]
  },
  {
   "cell_type": "code",
   "execution_count": 29,
   "metadata": {},
   "outputs": [],
   "source": [
    "class ClimateNet:\n",
    "    def __init__(self,dict_lay,data_fn,config_fn,\n",
    "             lev,hyam,hybm,TRAINDIR,\n",
    "             nlat, nlon, nlev, ntime,\n",
    "             inp_subRH,inp_divRH,\n",
    "             inp_subTNS,inp_divTNS,\n",
    "             rh_trans=False,t2tns_trans=False,\n",
    "             lhflx_trans=False,\n",
    "             scaling=False,interpolate=False,\n",
    "             model=None,\n",
    "             pos_model=None,neg_model=None,\n",
    "             #this can be none if no scaling is present\n",
    "             train_gen_RH_pos=None,train_gen_RH_neg=None,\n",
    "             train_gen_TNS_pos=None,train_gen_TNS_neg=None,\n",
    "                ):\n",
    "\n",
    "\n",
    "        with open(config_fn, 'r') as f:\n",
    "            config = yaml.load(f)\n",
    "        out_scale_dict = load_pickle(config['output_dict'])\n",
    "        ngeo = nlat * nlon\n",
    "        in_vars = config['inputs']\n",
    "        out_vars = config['outputs']\n",
    "\n",
    "        self.valid_gen = DataGeneratorClimInv(\n",
    "                data_fn = data_fn,\n",
    "                input_vars=in_vars,\n",
    "                output_vars=out_vars,\n",
    "                norm_fn=config['data_dir'] + config['norm_fn'],\n",
    "                input_transform=(config['input_sub'], config['input_div']),\n",
    "                output_transform=out_scale_dict,\n",
    "                batch_size=ngeo,\n",
    "                shuffle=False,\n",
    "                xarray=True,\n",
    "                var_cut_off=config['var_cut_off'] if 'var_cut_off' in config.keys() else None,\n",
    "                rh_trans = rh_trans,t2tns_trans = t2tns_trans,\n",
    "                lhflx_trans = lhflx_trans,\n",
    "                scaling = scaling,\n",
    "                lev=lev,interpolate = interpolate,\n",
    "                hyam=hyam,hybm=hybm,\n",
    "                inp_subRH=inp_subRH, inp_divRH=inp_divRH,\n",
    "                inp_subTNS=inp_subTNS,inp_divTNS=inp_divTNS,\n",
    "                mode='val'\n",
    "\n",
    "        )\n",
    "\n",
    "        self.rh_trans = rh_trans\n",
    "        self.t2tns_trans = t2tns_trans\n",
    "        self.lhflx_trans = lhflx_trans\n",
    "        self.scaling = scaling\n",
    "        self.interpolate = interpolate\n",
    "        self.subQ,self.divQ = np.array(self.valid_gen.input_transform.sub),np.array(self.valid_gen.input_transform.div)\n",
    "\n",
    "        if model != None:\n",
    "            self.model = load_model(model,custom_objects=dict_lay)\n",
    "\n",
    "        if scaling:\n",
    "            self.pos_model = load_model(pos_model,custom_objects=dict_lay)\n",
    "            self.neg_model = load_model(neg_model,custom_objects=dict_lay)\n",
    "\n",
    "            #just for the norm values\n",
    "            self.pos_data_gen = DataGeneratorClimInv(\n",
    "                                data_fn = TRAINDIR+'PosCRH_CI_SP_M4K_train_shuffle.nc',\n",
    "                                input_vars = in_vars,\n",
    "                                output_vars = out_vars,\n",
    "                                norm_fn = TRAINDIR+'PosCRH_CI_SP_M4K_NORM_norm.nc',\n",
    "                                input_transform = ('mean', 'maxrs'),\n",
    "                                output_transform = out_scale_dict,\n",
    "                                batch_size=1024,\n",
    "                                shuffle=True,\n",
    "                                lev=lev,\n",
    "                                hyam=hyam,hybm=hybm,\n",
    "                                inp_subRH=train_gen_RH_pos.input_transform.sub, inp_divRH=train_gen_RH_pos.input_transform.div,\n",
    "                                inp_subTNS=train_gen_TNS_pos.input_transform.sub,inp_divTNS=train_gen_TNS_pos.input_transform.div,\n",
    "                                is_continous=True,\n",
    "                                scaling=True,\n",
    "                                interpolate=interpolate,\n",
    "                                rh_trans=rh_trans,\n",
    "                                t2tns_trans=t2tns_trans,\n",
    "                                lhflx_trans=lhflx_trans\n",
    "                            )\n",
    "\n",
    "            self.neg_data_gen = DataGeneratorClimInv(\n",
    "                                data_fn = TRAINDIR+'NegCRH_CI_SP_M4K_train_shuffle.nc',\n",
    "                                input_vars = in_vars,\n",
    "                                output_vars = out_vars,\n",
    "                                norm_fn = TRAINDIR+'NegCRH_CI_SP_M4K_NORM_norm.nc',\n",
    "                                input_transform = ('mean', 'maxrs'),\n",
    "                                output_transform = out_scale_dict,\n",
    "                                batch_size=1024,\n",
    "                                shuffle=True,\n",
    "                                lev=lev,\n",
    "                                hyam=hyam,hybm=hybm,\n",
    "                                inp_subRH=train_gen_RH_neg.input_transform.sub, inp_divRH=train_gen_RH_neg.input_transform.div,\n",
    "                                inp_subTNS=train_gen_TNS_neg.input_transform.sub,inp_divTNS=train_gen_TNS_neg.input_transform.div,\n",
    "                                is_continous=True,\n",
    "                                interpolate=interpolate,\n",
    "                                scaling=False,\n",
    "                                rh_trans=rh_trans,\n",
    "                                t2tns_trans=t2tns_trans,\n",
    "                                lhflx_trans=lhflx_trans\n",
    "                            )\n",
    "\n",
    "\n",
    "    def reorder(self,op_pos,op_neg,mask):\n",
    "        op = []\n",
    "        pos_i=0\n",
    "        neg_i = 0\n",
    "        for m in mask:\n",
    "            if m:\n",
    "                op.append(op_pos[pos_i])\n",
    "                pos_i += 1\n",
    "            else:\n",
    "                op.append(op_neg[neg_i])\n",
    "                neg_i += 1\n",
    "        return np.array(op)\n",
    "\n",
    "\n",
    "    def predict_on_batch(self,inp):\n",
    "        #inp = batch x 179\n",
    "        inp_de = inp*self.divQ+self.subQ\n",
    "        if not self.scaling:\n",
    "            inp_pred = self.valid_gen.transform(inp_de)\n",
    "            return self.model.predict_on_batch(inp_pred)\n",
    "\n",
    "        mask = ScalingNumpy(hyam,hybm).crh(inp_de)> 0.8\n",
    "        pos_inp = inp[mask]\n",
    "        neg_inp = inp[np.logical_not(mask)]\n",
    "        ### for positive\n",
    "        pos_inp = pos_inp*self.divQ + self.subQ\n",
    "        pos_inp = self.pos_data_gen.transform(pos_inp)\n",
    "        op_pos = self.pos_model.predict_on_batch(pos_inp)\n",
    "        neg_inp = neg_inp*self.divQ + self.subQ\n",
    "        neg_inp = self.neg_data_gen.transform(neg_inp)\n",
    "        op_neg = self.neg_model.predict_on_batch(neg_inp)\n",
    "        op = self.reorder(np.array(op_pos),np.array(op_neg),mask)\n",
    "        return op\n",
    "\n",
    "    ##just for network is scaling is present\n",
    "    def predict_on_batch_seperate(self,inp):\n",
    "        if self.scaling==False:\n",
    "            raise(\"Scaling is not present in this model\")\n",
    "\n",
    "        inp_de = inp*self.divQ + self.subQ\n",
    "        mask = ScalingNumpy(hyam,hybm).crh(inp_de)> 0.8\n",
    "        pos_inp = inp[mask]\n",
    "        neg_inp = inp[np.logical_not(mask)]\n",
    "\n",
    "        pos_inp = pos_inp*self.divQ + self.subQ\n",
    "        pos_inp = self.pos_data_gen.transform(pos_inp)\n",
    "        neg_inp = neg_inp*self.divQ + self.subQ\n",
    "        neg_inp = self.neg_data_gen.transform(neg_inp)\n",
    "\n",
    "        op_pos = self.pos_model.predict_on_batch(pos_inp)\n",
    "        op_neg = self.neg_model.predict_on_batch(neg_inp)\n",
    "\n",
    "        return mask,op_pos,op_neg"
   ]
  },
  {
   "cell_type": "code",
   "execution_count": 30,
   "metadata": {},
   "outputs": [],
   "source": [
    "# def load_climate_model(dict_lay,config_fn,data_fn,lev,hyam,hybm,TRAINDIR,\n",
    "#                        inp_subRH,inp_divRH,\n",
    "#                        inp_subTNS,inp_divTNS,\n",
    "#                        nlat=64, nlon=128, nlev=30, ntime=48,\n",
    "#                         rh_trans=False,t2tns_trans=False,\n",
    "#                         lhflx_trans=False,\n",
    "#                         scaling=False,interpolate=False,\n",
    "#                         model=None,\n",
    "#                         pos_model=None,neg_model=None):\n",
    "    \n",
    "    \n",
    "    \n",
    "#     obj = ClimateNet(dict_lay,data_fn,config_fn,\n",
    "#                      lev,hyam,hybm,TRAINDIR,\n",
    "#                      nlat, nlon, nlev, ntime,\n",
    "#                      inp_subRH,inp_divRH,\n",
    "#                      inp_subTNS,inp_divTNS,\n",
    "#                     rh_trans=rh_trans,t2tns_trans=t2tns_trans,\n",
    "#                     lhflx_trans=lhflx_trans, scaling=scaling,\n",
    "#                     interpolate=interpolate,\n",
    "#                     model = model,\n",
    "#                     pos_model=pos_model,neg_model=neg_model)\n",
    "#     return obj"
   ]
  },
  {
   "cell_type": "markdown",
   "metadata": {},
   "source": [
    "tgb - 7/7/2020 - Adapting from [https://github.com/ankitesh97/CBRAIN-CAM/blob/climate_invariant_pull_request/cbrain/climate_invariant.py] instead"
   ]
  },
  {
   "cell_type": "code",
   "execution_count": 31,
   "metadata": {},
   "outputs": [],
   "source": [
    "def load_climate_model(dict_lay,config_fn,data_fn,lev,hyam,hybm,TRAINDIR,\n",
    "                       inp_subRH,inp_divRH,\n",
    "                       inp_subTNS,inp_divTNS,\n",
    "                       nlat=64, nlon=128, nlev=30, ntime=48,\n",
    "                        rh_trans=False,t2tns_trans=False,\n",
    "                        lhflx_trans=False,\n",
    "                        scaling=False,interpolate=False,\n",
    "                        model=None,\n",
    "                        pos_model=None,neg_model=None,\n",
    "                        train_gen_RH_pos=None,train_gen_RH_neg=None,\n",
    "                        train_gen_TNS_pos=None,train_gen_TNS_neg=None):\n",
    "\n",
    "    obj = ClimateNet(dict_lay,data_fn,config_fn,\n",
    "                     lev,hyam,hybm,TRAINDIR,\n",
    "                     nlat, nlon, nlev, ntime,\n",
    "                     inp_subRH,inp_divRH,\n",
    "                     inp_subTNS,inp_divTNS,\n",
    "                    rh_trans=rh_trans,t2tns_trans=t2tns_trans,\n",
    "                    lhflx_trans=lhflx_trans, scaling=scaling,\n",
    "                    interpolate=interpolate,\n",
    "                    model = model,\n",
    "                    pos_model=pos_model,neg_model=neg_model,\n",
    "                    train_gen_RH_pos=train_gen_RH_pos,train_gen_RH_neg=train_gen_RH_neg,\n",
    "                    train_gen_TNS_pos=train_gen_TNS_pos,train_gen_TNS_neg=train_gen_TNS_neg)\n",
    "    return obj"
   ]
  },
  {
   "cell_type": "markdown",
   "metadata": {},
   "source": [
    "### Models' paths"
   ]
  },
  {
   "cell_type": "code",
   "execution_count": 35,
   "metadata": {},
   "outputs": [],
   "source": [
    "config_file = 'CI_SP_M4K_CONFIG.yml' # Configuration file\n",
    "if geography: data_file = ['geography/CI_SP_M4K_valid.nc','geography/CI_SP_P4K_valid.nc']  # Validation/test data sets\n",
    "else: data_file = ['CI_SP_M4K_valid.nc','CI_SP_P4K_valid.nc']\n",
    "# NNarray = ['RH_TNS_LH_ScalingPos_Interp_Geography.hdf5*RH_TNS_LH_ScalingNeg_Interp_Geography.hdf5',\\\n",
    "#           'RH_TNS_LH_ScalePos_Interp.hdf5*RH_TNS_LH_ScaleNeg_Interp.hdf5'] # NN to evaluate \n",
    "#NNarray = ['RH_TNS_LH_ScalePos_Interp.hdf5*RH_TNS_LH_ScaleNeg_Interp.hdf5']\n",
    "#NNarray = ['RH_TNS_LHQsatScalePos.hdf5*RH_TNS_LHQsatScaleNeg.hdf5']\n",
    "#NNarray = ['BF.hdf5']\n",
    "#NNname = ['NN_Comb_geo','NN_Comb_aqua'] # Name of NNs for plotting\n",
    "NNarray = ['BF.hdf5','pb'+pathBF+'26','pb'+pathBF+'33','pb'+pathBF+'25','pb'+pathBF+'28','pb'+pathBF+'27']\n",
    "dict_lay = {'SurRadLayer':SurRadLayer,'MassConsLayer':MassConsLayer,'EntConsLayer':EntConsLayer,\n",
    "            'QV2RH':QV2RH,'T2TmTNS':T2TmTNS,'eliq':eliq,'eice':eice,'esat':esat,'qv':qv,'RH':RH,\n",
    "           'reverseInterpLayer':reverseInterpLayer,'ScaleOp':ScaleOp}\n",
    "path_HDF5 = '/oasis/scratch/comet/ankitesh/temp_project/models/'"
   ]
  },
  {
   "cell_type": "code",
   "execution_count": 36,
   "metadata": {},
   "outputs": [],
   "source": [
    "# Indices of different variables\n",
    "PHQ_idx = slice(0,30)\n",
    "TPHYSTND_idx = slice(30,60)"
   ]
  },
  {
   "cell_type": "markdown",
   "metadata": {},
   "source": [
    "### Build models' diagnostics object"
   ]
  },
  {
   "cell_type": "code",
   "execution_count": 39,
   "metadata": {},
   "outputs": [
    {
     "name": "stdout",
     "output_type": "stream",
     "text": [
      "NN name is  BF.hdf5\n",
      "data name is  CI_SP_M4K_valid.nc\n"
     ]
    },
    {
     "name": "stderr",
     "output_type": "stream",
     "text": [
      "/home/tbeucler/pkg/miniconda3/envs/CbrainCustomLayer/lib/python3.6/site-packages/ipykernel_launcher.py:19: YAMLLoadWarning: calling yaml.load() without Loader=... is deprecated, as the default Loader is unsafe. Please read https://msg.pyyaml.org/load for full details.\n",
      "/oasis/scratch/comet/tbeucler/temp_project/CBRAIN-CAM/notebooks/tbeucler_devlog/cbrain/model_diagnostics.py:25: YAMLLoadWarning: calling yaml.load() without Loader=... is deprecated, as the default Loader is unsafe. Please read https://msg.pyyaml.org/load for full details.\n",
      "  config = yaml.load(f)\n",
      "/home/tbeucler/pkg/miniconda3/envs/CbrainCustomLayer/lib/python3.6/site-packages/ipykernel_launcher.py:19: YAMLLoadWarning: calling yaml.load() without Loader=... is deprecated, as the default Loader is unsafe. Please read https://msg.pyyaml.org/load for full details.\n"
     ]
    },
    {
     "name": "stdout",
     "output_type": "stream",
     "text": [
      "data name is  CI_SP_P4K_valid.nc\n"
     ]
    },
    {
     "name": "stderr",
     "output_type": "stream",
     "text": [
      "/oasis/scratch/comet/tbeucler/temp_project/CBRAIN-CAM/notebooks/tbeucler_devlog/cbrain/model_diagnostics.py:25: YAMLLoadWarning: calling yaml.load() without Loader=... is deprecated, as the default Loader is unsafe. Please read https://msg.pyyaml.org/load for full details.\n",
      "  config = yaml.load(f)\n"
     ]
    },
    {
     "name": "stdout",
     "output_type": "stream",
     "text": [
      "NN name is  pb/oasis/scratch/comet/tbeucler/temp_project/DavidW_models/BF_Aquaplanet/26\n",
      "data name is  CI_SP_M4K_valid.nc\n"
     ]
    },
    {
     "name": "stderr",
     "output_type": "stream",
     "text": [
      "/oasis/scratch/comet/tbeucler/temp_project/CBRAIN-CAM/notebooks/tbeucler_devlog/cbrain/model_diagnostics.py:25: YAMLLoadWarning: calling yaml.load() without Loader=... is deprecated, as the default Loader is unsafe. Please read https://msg.pyyaml.org/load for full details.\n",
      "  config = yaml.load(f)\n"
     ]
    },
    {
     "name": "stdout",
     "output_type": "stream",
     "text": [
      "data name is  CI_SP_P4K_valid.nc\n"
     ]
    },
    {
     "name": "stderr",
     "output_type": "stream",
     "text": [
      "/oasis/scratch/comet/tbeucler/temp_project/CBRAIN-CAM/notebooks/tbeucler_devlog/cbrain/model_diagnostics.py:25: YAMLLoadWarning: calling yaml.load() without Loader=... is deprecated, as the default Loader is unsafe. Please read https://msg.pyyaml.org/load for full details.\n",
      "  config = yaml.load(f)\n"
     ]
    },
    {
     "name": "stdout",
     "output_type": "stream",
     "text": [
      "NN name is  pb/oasis/scratch/comet/tbeucler/temp_project/DavidW_models/BF_Aquaplanet/33\n",
      "data name is  CI_SP_M4K_valid.nc\n"
     ]
    },
    {
     "name": "stderr",
     "output_type": "stream",
     "text": [
      "/oasis/scratch/comet/tbeucler/temp_project/CBRAIN-CAM/notebooks/tbeucler_devlog/cbrain/model_diagnostics.py:25: YAMLLoadWarning: calling yaml.load() without Loader=... is deprecated, as the default Loader is unsafe. Please read https://msg.pyyaml.org/load for full details.\n",
      "  config = yaml.load(f)\n"
     ]
    },
    {
     "name": "stdout",
     "output_type": "stream",
     "text": [
      "data name is  CI_SP_P4K_valid.nc\n"
     ]
    },
    {
     "name": "stderr",
     "output_type": "stream",
     "text": [
      "/oasis/scratch/comet/tbeucler/temp_project/CBRAIN-CAM/notebooks/tbeucler_devlog/cbrain/model_diagnostics.py:25: YAMLLoadWarning: calling yaml.load() without Loader=... is deprecated, as the default Loader is unsafe. Please read https://msg.pyyaml.org/load for full details.\n",
      "  config = yaml.load(f)\n"
     ]
    },
    {
     "name": "stdout",
     "output_type": "stream",
     "text": [
      "NN name is  pb/oasis/scratch/comet/tbeucler/temp_project/DavidW_models/BF_Aquaplanet/25\n",
      "data name is  CI_SP_M4K_valid.nc\n"
     ]
    },
    {
     "name": "stderr",
     "output_type": "stream",
     "text": [
      "/oasis/scratch/comet/tbeucler/temp_project/CBRAIN-CAM/notebooks/tbeucler_devlog/cbrain/model_diagnostics.py:25: YAMLLoadWarning: calling yaml.load() without Loader=... is deprecated, as the default Loader is unsafe. Please read https://msg.pyyaml.org/load for full details.\n",
      "  config = yaml.load(f)\n"
     ]
    },
    {
     "name": "stdout",
     "output_type": "stream",
     "text": [
      "data name is  CI_SP_P4K_valid.nc\n"
     ]
    },
    {
     "name": "stderr",
     "output_type": "stream",
     "text": [
      "/oasis/scratch/comet/tbeucler/temp_project/CBRAIN-CAM/notebooks/tbeucler_devlog/cbrain/model_diagnostics.py:25: YAMLLoadWarning: calling yaml.load() without Loader=... is deprecated, as the default Loader is unsafe. Please read https://msg.pyyaml.org/load for full details.\n",
      "  config = yaml.load(f)\n"
     ]
    },
    {
     "name": "stdout",
     "output_type": "stream",
     "text": [
      "NN name is  pb/oasis/scratch/comet/tbeucler/temp_project/DavidW_models/BF_Aquaplanet/28\n",
      "data name is  CI_SP_M4K_valid.nc\n"
     ]
    },
    {
     "name": "stderr",
     "output_type": "stream",
     "text": [
      "/oasis/scratch/comet/tbeucler/temp_project/CBRAIN-CAM/notebooks/tbeucler_devlog/cbrain/model_diagnostics.py:25: YAMLLoadWarning: calling yaml.load() without Loader=... is deprecated, as the default Loader is unsafe. Please read https://msg.pyyaml.org/load for full details.\n",
      "  config = yaml.load(f)\n"
     ]
    },
    {
     "name": "stdout",
     "output_type": "stream",
     "text": [
      "data name is  CI_SP_P4K_valid.nc\n"
     ]
    },
    {
     "name": "stderr",
     "output_type": "stream",
     "text": [
      "/oasis/scratch/comet/tbeucler/temp_project/CBRAIN-CAM/notebooks/tbeucler_devlog/cbrain/model_diagnostics.py:25: YAMLLoadWarning: calling yaml.load() without Loader=... is deprecated, as the default Loader is unsafe. Please read https://msg.pyyaml.org/load for full details.\n",
      "  config = yaml.load(f)\n"
     ]
    },
    {
     "name": "stdout",
     "output_type": "stream",
     "text": [
      "NN name is  pb/oasis/scratch/comet/tbeucler/temp_project/DavidW_models/BF_Aquaplanet/27\n",
      "data name is  CI_SP_M4K_valid.nc\n"
     ]
    },
    {
     "name": "stderr",
     "output_type": "stream",
     "text": [
      "/oasis/scratch/comet/tbeucler/temp_project/CBRAIN-CAM/notebooks/tbeucler_devlog/cbrain/model_diagnostics.py:25: YAMLLoadWarning: calling yaml.load() without Loader=... is deprecated, as the default Loader is unsafe. Please read https://msg.pyyaml.org/load for full details.\n",
      "  config = yaml.load(f)\n"
     ]
    },
    {
     "name": "stdout",
     "output_type": "stream",
     "text": [
      "data name is  CI_SP_P4K_valid.nc\n"
     ]
    },
    {
     "name": "stderr",
     "output_type": "stream",
     "text": [
      "/oasis/scratch/comet/tbeucler/temp_project/CBRAIN-CAM/notebooks/tbeucler_devlog/cbrain/model_diagnostics.py:25: YAMLLoadWarning: calling yaml.load() without Loader=... is deprecated, as the default Loader is unsafe. Please read https://msg.pyyaml.org/load for full details.\n",
      "  config = yaml.load(f)\n"
     ]
    }
   ],
   "source": [
    "#define default values\n",
    "\n",
    "NN = {}; md = {};\n",
    "#%cd $TRAINDIR/HDF5_DATA\n",
    "for i,NNs in enumerate(NNarray):\n",
    "    print('NN name is ',NNs)\n",
    "    path = path_HDF5+NNs\n",
    "    \n",
    "    rh_trans=False\n",
    "    t2tns_trans=False\n",
    "    lhflx_trans=False\n",
    "    scaling=False\n",
    "    interpolate=False\n",
    "    model = path\n",
    "    pos_model=None\n",
    "    neg_model=None\n",
    "    if 'RH' in NNs:\n",
    "        rh_trans=True\n",
    "    if 'TNS' in NNs:\n",
    "        t2tns_trans=True\n",
    "    if 'LH' in NNs:\n",
    "        lhflx_trans=True\n",
    "        \n",
    "    if 'Scal' in NNs:\n",
    "        pos,neg = NNs.split('*')\n",
    "        pos_model = path_HDF5+pos\n",
    "        neg_model = path_HDF5+neg\n",
    "        model = None\n",
    "        scaling=True\n",
    "    if 'Interp' in NNs or 'Vert' in NNs:\n",
    "        interpolate=True\n",
    "        \n",
    "    md[NNs] = {}\n",
    "    for j,data in enumerate(data_file):\n",
    "        print('data name is ',data)\n",
    "        \n",
    "        if 'pb' in NNs:\n",
    "            NN[NNs] = tf.keras.models.load_model(NNs[2:])\n",
    "        else:\n",
    "            NN[NNs] = load_climate_model(dict_lay,'/home/ankitesh/CBrain_project/PrepData/'+config_file,\n",
    "                                         '/oasis/scratch/comet/ankitesh/temp_project/PrepData/'+data,\n",
    "                                         lev=lev,hyam=hyam,hybm=hybm,TRAINDIR=TRAINDIR,\n",
    "                                         inp_subRH=train_gen_RH.input_transform.sub, inp_divRH=train_gen_RH.input_transform.div,\n",
    "                                         inp_subTNS=train_gen_TNS.input_transform.sub,inp_divTNS=train_gen_TNS.input_transform.div,\n",
    "                                         rh_trans=rh_trans,t2tns_trans=t2tns_trans,\n",
    "                                         lhflx_trans=lhflx_trans,scaling=scaling,interpolate=interpolate,\n",
    "                                         model=model,pos_model=pos_model,neg_model=neg_model,\n",
    "                                          train_gen_RH_pos=train_gen_RH_pos,train_gen_RH_neg=train_gen_RH_neg,\n",
    "                                            train_gen_TNS_pos=train_gen_TNS_pos,train_gen_TNS_neg=train_gen_TNS_neg  )\n",
    "        \n",
    "        md[NNs][data[6:-3]] = ModelDiagnostics(NN[NNs],\n",
    "                                                '/home/ankitesh/CBrain_project/PrepData/'+config_file,\n",
    "                                                '/oasis/scratch/comet/ankitesh/temp_project/PrepData/'+data)"
   ]
  },
  {
   "cell_type": "markdown",
   "metadata": {},
   "source": [
    "### Global Mean-Squared error"
   ]
  },
  {
   "cell_type": "code",
   "execution_count": 45,
   "metadata": {},
   "outputs": [],
   "source": [
    "Nt = 10\n",
    "t_random = np.random.choice(np.linspace(0,1691,1692),size=((Nt,)),replace=False).astype('int')"
   ]
  },
  {
   "cell_type": "code",
   "execution_count": 46,
   "metadata": {},
   "outputs": [
    {
     "name": "stdout",
     "output_type": "stream",
     "text": [
      "iar= 9 / 9  & itime 1008\r"
     ]
    }
   ],
   "source": [
    "MSE = {}\n",
    "VAR = {}\n",
    "diagno = {}\n",
    "diagno['truth'] = {}\n",
    "diagno['pred'] = {}\n",
    "\n",
    "for iar,itime in enumerate(t_random):\n",
    "    print('iar=',iar,'/',Nt-1,' & itime',itime,end=\"\\r\")\n",
    "    for i,NNs in enumerate(NNarray):\n",
    "        if iar==0: MSE[NNs] = {}; VAR[NNs] = {}\n",
    "        for j,data in enumerate(data_file):\n",
    "\n",
    "            inp, p, truth = md[NNs][data[6:-3]].get_inp_pred_truth(itime)  # [lat, lon, var, lev]\n",
    "\n",
    "            t_geo = md[NNs][data[6:-3]].reshape_ngeo(truth)[:,:,:]\n",
    "            p_geo = md[NNs][data[6:-3]].reshape_ngeo(p.numpy())[:,:,:]\n",
    "\n",
    "            if iar==0: \n",
    "                MSE[NNs][data[6:-3]] = np.mean((t_geo-p_geo)**2,axis=(1,2))\n",
    "                VAR[NNs][data[6:-3]] = np.var(p_geo,axis=(1,2))\n",
    "            else: \n",
    "                MSE[NNs][data[6:-3]] = np.concatenate((MSE[NNs][data[6:-3]],\n",
    "                                                       np.mean((t_geo-p_geo)**2,axis=(1,2))),axis=0)\n",
    "                VAR[NNs][data[6:-3]] = np.concatenate((VAR[NNs][data[6:-3]],\n",
    "                                                       np.var(p_geo,axis=(1,2))),axis=0)"
   ]
  },
  {
   "cell_type": "code",
   "execution_count": null,
   "metadata": {},
   "outputs": [],
   "source": []
  },
  {
   "cell_type": "markdown",
   "metadata": {},
   "source": [
    "tgb - 7/9/2020 - Reporting to check that climate invariant NN works globally"
   ]
  },
  {
   "cell_type": "code",
   "execution_count": null,
   "metadata": {},
   "outputs": [],
   "source": []
  },
  {
   "cell_type": "code",
   "execution_count": 47,
   "metadata": {},
   "outputs": [
    {
     "name": "stdout",
     "output_type": "stream",
     "text": [
      "BF.hdf5\n",
      "CI_SP_M4K_valid.nc 340.51074\n",
      "CI_SP_P4K_valid.nc 15524.823\n",
      "\n",
      "\n",
      "pb/oasis/scratch/comet/tbeucler/temp_project/DavidW_models/BF_Aquaplanet/26\n",
      "CI_SP_M4K_valid.nc 355.5851\n",
      "CI_SP_P4K_valid.nc 8834.371\n",
      "\n",
      "\n",
      "pb/oasis/scratch/comet/tbeucler/temp_project/DavidW_models/BF_Aquaplanet/33\n",
      "CI_SP_M4K_valid.nc 344.25626\n",
      "CI_SP_P4K_valid.nc 12408.722\n",
      "\n",
      "\n",
      "pb/oasis/scratch/comet/tbeucler/temp_project/DavidW_models/BF_Aquaplanet/25\n",
      "CI_SP_M4K_valid.nc 359.8221\n",
      "CI_SP_P4K_valid.nc 8721.895\n",
      "\n",
      "\n",
      "pb/oasis/scratch/comet/tbeucler/temp_project/DavidW_models/BF_Aquaplanet/28\n",
      "CI_SP_M4K_valid.nc 351.95697\n",
      "CI_SP_P4K_valid.nc 10823.705\n",
      "\n",
      "\n",
      "pb/oasis/scratch/comet/tbeucler/temp_project/DavidW_models/BF_Aquaplanet/27\n",
      "CI_SP_M4K_valid.nc 364.23618\n",
      "CI_SP_P4K_valid.nc 13007.865\n",
      "\n",
      "\n"
     ]
    }
   ],
   "source": [
    "for i,NNs in enumerate(NNarray):\n",
    "    print(NNs)\n",
    "    #if iar==0: MSE[NNs] = {}; VAR[NNs] = {}\n",
    "    for j,data in enumerate(data_file):\n",
    "        print(data,MSE[NNs][data[6:-3]].mean())\n",
    "    print('\\n')"
   ]
  },
  {
   "cell_type": "markdown",
   "metadata": {},
   "source": [
    " "
   ]
  },
  {
   "cell_type": "code",
   "execution_count": 90,
   "metadata": {},
   "outputs": [
    {
     "name": "stdout",
     "output_type": "stream",
     "text": [
      "BF.hdf5\n",
      "CI_SP_M4K_valid.nc 338.84238\n",
      "CI_SP_P4K_valid.nc 13835.135\n"
     ]
    }
   ],
   "source": [
    "print(NNs)\n",
    "for j,data in enumerate(data_file):\n",
    "    print(data,MSE[NNs][data[6:-3]].mean())"
   ]
  },
  {
   "cell_type": "markdown",
   "metadata": {},
   "source": [
    " "
   ]
  },
  {
   "cell_type": "code",
   "execution_count": 82,
   "metadata": {},
   "outputs": [
    {
     "name": "stdout",
     "output_type": "stream",
     "text": [
      "RH.hdf5\n",
      "CI_SP_M4K_valid.nc 337.4395\n",
      "CI_SP_P4K_valid.nc 883.7199\n"
     ]
    }
   ],
   "source": [
    "print(NNs)\n",
    "for j,data in enumerate(data_file):\n",
    "    print(data,MSE[NNs][data[6:-3]].mean())"
   ]
  },
  {
   "cell_type": "markdown",
   "metadata": {},
   "source": [
    " "
   ]
  },
  {
   "cell_type": "code",
   "execution_count": 76,
   "metadata": {},
   "outputs": [
    {
     "name": "stdout",
     "output_type": "stream",
     "text": [
      "RH_TNS.hdf5\n",
      "CI_SP_M4K_valid.nc 341.198\n",
      "CI_SP_P4K_valid.nc 1033.0723\n"
     ]
    }
   ],
   "source": [
    "print(NNs)\n",
    "for j,data in enumerate(data_file):\n",
    "    print(data,MSE[NNs][data[6:-3]].mean())"
   ]
  },
  {
   "cell_type": "markdown",
   "metadata": {},
   "source": [
    " "
   ]
  },
  {
   "cell_type": "code",
   "execution_count": 70,
   "metadata": {},
   "outputs": [
    {
     "name": "stdout",
     "output_type": "stream",
     "text": [
      "RH_TNS_LH.hdf5\n",
      "CI_SP_M4K_valid.nc 359.31427\n",
      "CI_SP_P4K_valid.nc 1092.0828\n"
     ]
    }
   ],
   "source": [
    "print(NNs)\n",
    "for j,data in enumerate(data_file):\n",
    "    print(data,MSE[NNs][data[6:-3]].mean())"
   ]
  },
  {
   "cell_type": "markdown",
   "metadata": {},
   "source": [
    " "
   ]
  },
  {
   "cell_type": "code",
   "execution_count": 63,
   "metadata": {},
   "outputs": [
    {
     "name": "stdout",
     "output_type": "stream",
     "text": [
      "RH_TNS_LHQsatScalePos.hdf5*RH_TNS_LHQsatScaleNeg.hdf5\n",
      "CI_SP_M4K_valid.nc 1009.2324\n",
      "CI_SP_P4K_valid.nc 1509.0775\n"
     ]
    }
   ],
   "source": [
    "print(NNs)\n",
    "for j,data in enumerate(data_file):\n",
    "    print(data,MSE[NNs][data[6:-3]].mean())"
   ]
  },
  {
   "cell_type": "markdown",
   "metadata": {},
   "source": [
    " "
   ]
  },
  {
   "cell_type": "code",
   "execution_count": 53,
   "metadata": {},
   "outputs": [
    {
     "name": "stdout",
     "output_type": "stream",
     "text": [
      "RH_TNS_LH_ScalePos_Interp.hdf5*RH_TNS_LH_ScaleNeg_Interp.hdf5\n",
      "CI_SP_M4K_valid.nc 774.1818\n",
      "CI_SP_P4K_valid.nc 1414.9604\n"
     ]
    }
   ],
   "source": [
    "print(NNs)\n",
    "for j,data in enumerate(data_file):\n",
    "    print(data,MSE[NNs][data[6:-3]].mean())"
   ]
  },
  {
   "cell_type": "markdown",
   "metadata": {},
   "source": [
    "### Mean squared error by latitude"
   ]
  },
  {
   "cell_type": "code",
   "execution_count": 34,
   "metadata": {},
   "outputs": [],
   "source": [
    "Nt = 10\n",
    "t_random = np.random.choice(np.linspace(0,1691,1692),size=((Nt,)),replace=False).astype('int')"
   ]
  },
  {
   "cell_type": "code",
   "execution_count": 35,
   "metadata": {},
   "outputs": [
    {
     "name": "stdout",
     "output_type": "stream",
     "text": [
      "iar= 9 / 9  & itime 5454\r"
     ]
    }
   ],
   "source": [
    "MSE = {}\n",
    "VAR = {}\n",
    "diagno = {}\n",
    "diagno['truth'] = {}\n",
    "diagno['pred'] = {}\n",
    "\n",
    "for iar,itime in enumerate(t_random):\n",
    "    print('iar=',iar,'/',Nt-1,' & itime',itime,end=\"\\r\")\n",
    "    for i,NNs in enumerate(NNarray):\n",
    "        if iar==0: MSE[NNs] = {}; VAR[NNs] = {}\n",
    "\n",
    "        inp, p, truth = md[NNs][data[6:-3]].get_inp_pred_truth(itime)  # [lat, lon, var, lev]\n",
    "        \n",
    "        t_geo = md[NNs][data[6:-3]].reshape_ngeo(truth)[:,:,:]\n",
    "        p_geo = md[NNs][data[6:-3]].reshape_ngeo(p)[:,:,:]\n",
    "        \n",
    "        if iar==0: \n",
    "            MSE[NNs][data[6:-3]] = np.mean((t_geo-p_geo)**2,axis=2)\n",
    "            VAR[NNs][data[6:-3]] = np.var(p_geo,axis=2)\n",
    "        else: \n",
    "            MSE[NNs][data[6:-3]] = np.concatenate((MSE[NNs][data[6:-3]],\n",
    "                                                   np.mean((t_geo-p_geo)**2,axis=2)),axis=1)\n",
    "            VAR[NNs][data[6:-3]] = np.concatenate((VAR[NNs][data[6:-3]],\n",
    "                                                   np.var(p_geo,axis=2)),axis=1)"
   ]
  },
  {
   "cell_type": "code",
   "execution_count": null,
   "metadata": {},
   "outputs": [],
   "source": []
  },
  {
   "cell_type": "markdown",
   "metadata": {},
   "source": []
  },
  {
   "cell_type": "code",
   "execution_count": 37,
   "metadata": {},
   "outputs": [
    {
     "data": {
      "text/plain": [
       "{'P4K_valid': array([[ 733.9286  ,  386.39667 ,  383.7489  , ...,  289.98578 ,\n",
       "          254.64035 , 1152.2454  ],\n",
       "        [ 213.87787 ,  371.57037 ,  219.72485 , ...,  340.80963 ,\n",
       "          475.32294 ,  156.83011 ],\n",
       "        [ 217.21936 ,  375.78613 ,  314.72726 , ...,  237.6803  ,\n",
       "          189.75641 ,  179.40068 ],\n",
       "        ...,\n",
       "        [ 503.5038  ,   73.292816,  145.2497  , ...,  596.15045 ,\n",
       "          177.90262 ,  433.51642 ],\n",
       "        [ 166.02394 ,  280.224   ,  542.2795  , ...,  108.05643 ,\n",
       "          168.19606 ,  144.72647 ],\n",
       "        [ 179.06259 ,  175.7332  ,  108.721275, ...,  165.69778 ,\n",
       "          126.38022 ,  108.10116 ]], dtype=float32)}"
      ]
     },
     "execution_count": 37,
     "metadata": {},
     "output_type": "execute_result"
    }
   ],
   "source": [
    "MSE[NNs]"
   ]
  },
  {
   "cell_type": "code",
   "execution_count": null,
   "metadata": {},
   "outputs": [],
   "source": []
  },
  {
   "cell_type": "code",
   "execution_count": 34,
   "metadata": {},
   "outputs": [
    {
     "data": {
      "text/plain": [
       "['CI_SP_M4K_valid.nc', 'CI_SP_P4K_valid.nc']"
      ]
     },
     "execution_count": 34,
     "metadata": {},
     "output_type": "execute_result"
    }
   ],
   "source": [
    "data_file"
   ]
  },
  {
   "cell_type": "code",
   "execution_count": 41,
   "metadata": {},
   "outputs": [],
   "source": [
    "data = data_file[1]"
   ]
  },
  {
   "cell_type": "code",
   "execution_count": 47,
   "metadata": {},
   "outputs": [
    {
     "name": "stdout",
     "output_type": "stream",
     "text": [
      "itime= 1000  between  1000  &  1010            \r"
     ]
    },
    {
     "ename": "NameError",
     "evalue": "name 'stop' is not defined",
     "output_type": "error",
     "traceback": [
      "\u001b[0;31m---------------------------------------------------------------------------\u001b[0m",
      "\u001b[0;31mNameError\u001b[0m                                 Traceback (most recent call last)",
      "\u001b[0;32m<ipython-input-47-14e6649ef4c8>\u001b[0m in \u001b[0;36m<module>\u001b[0;34m\u001b[0m\n\u001b[1;32m     20\u001b[0m             \u001b[0mMSE\u001b[0m\u001b[0;34m[\u001b[0m\u001b[0mNNs\u001b[0m\u001b[0;34m]\u001b[0m\u001b[0;34m[\u001b[0m\u001b[0mdata\u001b[0m\u001b[0;34m[\u001b[0m\u001b[0;36m6\u001b[0m\u001b[0;34m:\u001b[0m\u001b[0;34m-\u001b[0m\u001b[0;36m3\u001b[0m\u001b[0;34m]\u001b[0m\u001b[0;34m]\u001b[0m \u001b[0;34m=\u001b[0m \u001b[0mnp\u001b[0m\u001b[0;34m.\u001b[0m\u001b[0mmean\u001b[0m\u001b[0;34m(\u001b[0m\u001b[0;34m(\u001b[0m\u001b[0mt_geo\u001b[0m\u001b[0;34m-\u001b[0m\u001b[0mp_geo\u001b[0m\u001b[0;34m)\u001b[0m\u001b[0;34m**\u001b[0m\u001b[0;36m2\u001b[0m\u001b[0;34m,\u001b[0m\u001b[0maxis\u001b[0m\u001b[0;34m=\u001b[0m\u001b[0;36m2\u001b[0m\u001b[0;34m)\u001b[0m\u001b[0;34m\u001b[0m\u001b[0;34m\u001b[0m\u001b[0m\n\u001b[1;32m     21\u001b[0m             \u001b[0mVAR\u001b[0m\u001b[0;34m[\u001b[0m\u001b[0mNNs\u001b[0m\u001b[0;34m]\u001b[0m\u001b[0;34m[\u001b[0m\u001b[0mdata\u001b[0m\u001b[0;34m[\u001b[0m\u001b[0;36m6\u001b[0m\u001b[0;34m:\u001b[0m\u001b[0;34m-\u001b[0m\u001b[0;36m3\u001b[0m\u001b[0;34m]\u001b[0m\u001b[0;34m]\u001b[0m \u001b[0;34m=\u001b[0m \u001b[0mnp\u001b[0m\u001b[0;34m.\u001b[0m\u001b[0mvar\u001b[0m\u001b[0;34m(\u001b[0m\u001b[0mp_geo\u001b[0m\u001b[0;34m,\u001b[0m\u001b[0maxis\u001b[0m\u001b[0;34m=\u001b[0m\u001b[0;36m2\u001b[0m\u001b[0;34m)\u001b[0m\u001b[0;34m\u001b[0m\u001b[0;34m\u001b[0m\u001b[0m\n\u001b[0;32m---> 22\u001b[0;31m             \u001b[0mstop\u001b[0m\u001b[0;34m\u001b[0m\u001b[0;34m\u001b[0m\u001b[0m\n\u001b[0m\u001b[1;32m     23\u001b[0m         \u001b[0;32melse\u001b[0m\u001b[0;34m:\u001b[0m\u001b[0;34m\u001b[0m\u001b[0;34m\u001b[0m\u001b[0m\n\u001b[1;32m     24\u001b[0m             MSE[NNs][data[6:-3]] = np.concatenate((MSE[NNs][data[6:-3]],\n",
      "\u001b[0;31mNameError\u001b[0m: name 'stop' is not defined"
     ]
    }
   ],
   "source": [
    "iini = 1000\n",
    "iend = 1010\n",
    "MSE = {}\n",
    "VAR = {}\n",
    "diagno = {}\n",
    "diagno['truth'] = {}\n",
    "diagno['pred'] = {}\n",
    "\n",
    "for itime in np.arange(iini,iend):\n",
    "    print('itime=',itime,' between ',iini,' & ',iend,'           ',end='\\r')\n",
    "    for i,NNs in enumerate(NNarray):\n",
    "        if itime==iini: MSE[NNs] = {}; VAR[NNs] = {}\n",
    "\n",
    "        inp, p, truth = md[NNs][data[6:-3]].get_inp_pred_truth(itime)  # [lat, lon, var, lev]\n",
    "        \n",
    "        t_geo = md[NNs][data[6:-3]].reshape_ngeo(truth)[:,:,:]\n",
    "        p_geo = md[NNs][data[6:-3]].reshape_ngeo(p)[:,:,:]\n",
    "        \n",
    "        if itime==iini: \n",
    "            MSE[NNs][data[6:-3]] = np.mean((t_geo-p_geo)**2,axis=2)\n",
    "            VAR[NNs][data[6:-3]] = np.var(p_geo,axis=2)\n",
    "        else: \n",
    "            MSE[NNs][data[6:-3]] = np.concatenate((MSE[NNs][data[6:-3]],\n",
    "                                                   np.mean((t_geo-p_geo)**2,axis=2)),axis=1)\n",
    "            VAR[NNs][data[6:-3]] = np.concatenate((MSE[NNs][data[6:-3]],\n",
    "                                                   np.var(p_geo,axis=2)),axis=1)"
   ]
  },
  {
   "cell_type": "code",
   "execution_count": 48,
   "metadata": {},
   "outputs": [],
   "source": [
    "se = (t_geo-p_geo)**2"
   ]
  },
  {
   "cell_type": "code",
   "execution_count": 49,
   "metadata": {},
   "outputs": [
    {
     "data": {
      "text/plain": [
       "(64, 128, 64)"
      ]
     },
     "execution_count": 49,
     "metadata": {},
     "output_type": "execute_result"
    }
   ],
   "source": [
    "se.shape"
   ]
  },
  {
   "cell_type": "code",
   "execution_count": 45,
   "metadata": {},
   "outputs": [
    {
     "data": {
      "text/plain": [
       "Text(0.5, 1.0, 'P4K_valid')"
      ]
     },
     "execution_count": 45,
     "metadata": {},
     "output_type": "execute_result"
    },
    {
     "data": {
      "image/png": "[encoded data removed]",
      "text/plain": [
       "<Figure size 432x288 with 1 Axes>"
      ]
     },
     "metadata": {
      "needs_background": "light"
     },
     "output_type": "display_data"
    }
   ],
   "source": [
    "for i,NNs in enumerate(NNarray):\n",
    "    plt.scatter(np.mean(coor.TS,axis=(0,2)),np.log10(np.mean(MSE[NNs][data[6:-3]],axis=1)),label=NNs)\n",
    "plt.legend()\n",
    "plt.title(data[6:-3])"
   ]
  },
  {
   "cell_type": "code",
   "execution_count": 46,
   "metadata": {},
   "outputs": [
    {
     "data": {
      "text/plain": [
       "Text(0.5, 1.0, 'P4K_valid')"
      ]
     },
     "execution_count": 46,
     "metadata": {},
     "output_type": "execute_result"
    },
    {
     "data": {
      "image/png": "[encoded data removed]",
      "text/plain": [
       "<Figure size 432x288 with 1 Axes>"
      ]
     },
     "metadata": {
      "needs_background": "light"
     },
     "output_type": "display_data"
    }
   ],
   "source": [
    "for i,NNs in enumerate(NNarray):\n",
    "    plt.scatter(np.mean(coor.TS,axis=(0,2)),np.mean(MSE[NNs][data[6:-3]],axis=1)/\n",
    "                np.mean(VAR[NNs][data[6:-3]],axis=1),label=NNs)\n",
    "plt.legend()\n",
    "plt.title(data[6:-3])"
   ]
  },
  {
   "cell_type": "code",
   "execution_count": 46,
   "metadata": {},
   "outputs": [
    {
     "data": {
      "text/plain": [
       "{'samples': 20,\n",
       " 'RH_TNS_LH_ScalingPos_Interp_Geography.hdf5*RH_TNS_LH_ScalingNeg_Interp_Geography.hdf5': 715.081431196014,\n",
       " 'RH_TNS_LH_ScalePos_Interp.hdf5*RH_TNS_LH_ScaleNeg_Interp.hdf5': 650.9503243758248}"
      ]
     },
     "execution_count": 46,
     "metadata": {},
     "output_type": "execute_result"
    }
   ],
   "source": [
    "MSE"
   ]
  },
  {
   "cell_type": "code",
   "execution_count": 40,
   "metadata": {},
   "outputs": [
    {
     "data": {
      "text/plain": [
       "'CI_SP_P4K_valid.nc'"
      ]
     },
     "execution_count": 40,
     "metadata": {},
     "output_type": "execute_result"
    }
   ],
   "source": [
    "data"
   ]
  },
  {
   "cell_type": "code",
   "execution_count": null,
   "metadata": {},
   "outputs": [],
   "source": [
    "lat_ind = np.arange(0,64)\n",
    "iinis = [500]\n",
    "\n",
    "# diagno = {} # Diagnostics structure\n",
    "# diagno['truth'] = {} # Diagnostics structure for the truth\n",
    "# diagno['truth_pos'] = {} # Diagnostics structure for the truth pos\n",
    "# diagno['truth_neg'] = {} # Diagnostics structure for the truth neg\n",
    "# truth_done = {}\n",
    "\n",
    "# for j,data in enumerate(data_file):\n",
    "#     truth_done[data[6:-3]] = False\n",
    "\n",
    "for i,NNs in enumerate(NNarray):\n",
    "    print('i=',i,'& NNs=',NNs,'         ')\n",
    "    diagno[NNs] = {} # Diagnostics structure for each NN\n",
    "    for j,data in enumerate(data_file):\n",
    "        diagno[NNs][data[6:-3]]={}\n",
    "        if i==0: \n",
    "#             diagno['truth'][data[6:-3]]={}\n",
    "#             diagno['truth_pos'][data[6:-3]]={}\n",
    "#             diagno['truth_neg'][data[6:-3]]={}\n",
    "        for iini in iinis:\n",
    "            \n",
    "            print('j=',j,'& iini=',iini,'& data=',data,'         ',end='\\r'),\n",
    "            \n",
    "            iend = iini+47\n",
    "            diagno[NNs][data[6:-3]][iini] = {} # Diagnostics structure for each data file\n",
    "            if i==0: \n",
    "                diagno['truth'][data[6:-3]][iini] = {}\n",
    "                diagno['truth_pos'][data[6:-3]][iini] = {}\n",
    "                diagno['truth_neg'][data[6:-3]][iini] = {}\n",
    "                \n",
    "            for itime in tqdm(np.arange(iini,iend)):\n",
    "                # Get input, prediction and truth from NN\n",
    "                inp, p, truth = md[NNs][data[6:-3]].get_inp_pred_truth(itime)  # [lat, lon, var, lev]\n",
    "                ## only if the scaling is true\n",
    "                if NN[NNs].scaling==True:\n",
    "                    X, _ = md[NNs][data[6:-3]].valid_gen[itime]\n",
    "                    mask, pos_op, neg_op = md[NNs][data[6:-3]].model.predict_on_batch_seperate(X.values)\n",
    "                    mask_reshaped = md[NNs][data[6:-3]].reshape_ngeo(mask)[lat_ind,:,:]\n",
    "                    mask = mask_reshaped.flatten()\n",
    "                    neg_mask = np.logical_not(mask)\n",
    "                    ## get the truth only once.\n",
    "                p = np.array(p)\n",
    "                # Get convective heating and moistening for each NN\n",
    "                if itime==iini:\n",
    "                    if i==0:\n",
    "                        diagno['truth'][data[6:-3]][iini]['PHQ'] = md[NNs][data[6:-3]].reshape_ngeo(truth[:,PHQ_idx])[lat_ind,:,:,np.newaxis]\n",
    "                        diagno['truth'][data[6:-3]][iini]['TPHYSTND'] = md[NNs][data[6:-3]].reshape_ngeo(truth[:,TPHYSTND_idx])[lat_ind,:,:,np.newaxis]\n",
    "                    ##if scaling is true and the truth array is not filled\n",
    "                    if NN[NNs].scaling==True and truth_done[data[6:-3]]==False:\n",
    "                        diagno['truth_pos'][data[6:-3]][iini]['PHQ_pos'] = md[NNs][data[6:-3]].reshape_ngeo(truth[:,PHQ_idx])[lat_ind,:,:].reshape(-1,30)[mask]\n",
    "                        diagno['truth_pos'][data[6:-3]][iini]['TPHYSTND_pos'] = md[NNs][data[6:-3]].reshape_ngeo(truth[:,TPHYSTND_idx])[lat_ind,:,:].reshape(-1,30)[mask]\n",
    "                        diagno['truth_neg'][data[6:-3]][iini]['PHQ_neg'] = md[NNs][data[6:-3]].reshape_ngeo(truth[:,PHQ_idx])[lat_ind,:,:].reshape(-1,30)[neg_mask]\n",
    "                        diagno['truth_neg'][data[6:-3]][iini]['TPHYSTND_neg'] = md[NNs][data[6:-3]].reshape_ngeo(truth[:,TPHYSTND_idx])[lat_ind,:,:].reshape(-1,30)[neg_mask]\n",
    "                        truth_done[data[6:-3]] = True\n",
    "                                                    \n",
    "                    diagno[NNs][data[6:-3]][iini]['PHQ'] = md[NNs][data[6:-3]].reshape_ngeo(p[:,PHQ_idx])[lat_ind,:,:,np.newaxis]\n",
    "                    diagno[NNs][data[6:-3]][iini]['TPHYSTND'] = md[NNs][data[6:-3]].reshape_ngeo(p[:,TPHYSTND_idx])[lat_ind,:,:,np.newaxis]\n",
    "                    if NN[NNs].scaling==True:\n",
    "                        diagno[NNs][data[6:-3]][iini]['PHQ_pos'] = md[NNs][data[6:-3]].reshape_ngeo(p[:,PHQ_idx])[lat_ind,:,:].reshape(-1,30)[mask]\n",
    "                        diagno[NNs][data[6:-3]][iini]['TPHYSTND_pos'] = md[NNs][data[6:-3]].reshape_ngeo(p[:,TPHYSTND_idx])[lat_ind,:,:].reshape(-1,30)[mask]\n",
    "                        diagno[NNs][data[6:-3]][iini]['PHQ_neg'] = md[NNs][data[6:-3]].reshape_ngeo(p[:,PHQ_idx])[lat_ind,:,:].reshape(-1,30)[neg_mask]\n",
    "                        diagno[NNs][data[6:-3]][iini]['TPHYSTND_neg'] = md[NNs][data[6:-3]].reshape_ngeo(p[:,TPHYSTND_idx])[lat_ind,:,:].reshape(-1,30)[neg_mask]\n",
    "\n",
    "                else:\n",
    "                    for istr,field in enumerate(['PHQ','TPHYSTND']):\n",
    "                        if field=='PHQ': ind_field = PHQ_idx\n",
    "                        elif field=='TPHYSTND': ind_field = TPHYSTND_idx\n",
    "                        diagno[NNs][data[6:-3]][iini][field] = np.concatenate((diagno[NNs][data[6:-3]][iini][field],\n",
    "                                                             md[NNs][data[6:-3]].\\\n",
    "                                                             reshape_ngeo(p[:,ind_field])[lat_ind,:,:,np.newaxis]),\n",
    "                                                            axis=3)\n",
    "                        if NN[NNs].scaling==True:\n",
    "                            diagno[NNs][data[6:-3]][iini][field+'_pos'] = np.concatenate((diagno[NNs][data[6:-3]][iini][field+'_pos'],\n",
    "                                         md[NNs][data[6:-3]].\\\n",
    "                                         reshape_ngeo(p[:,ind_field])[lat_ind,:,:].reshape(-1,30)[mask]),\n",
    "                                        axis=0)\n",
    "\n",
    "                            diagno[NNs][data[6:-3]][iini][field+'_neg'] = np.concatenate((diagno[NNs][data[6:-3]][iini][field+'_neg'],\n",
    "                                         md[NNs][data[6:-3]].\\\n",
    "                                         reshape_ngeo(p[:,ind_field])[lat_ind,:,:].reshape(-1,30)[neg_mask]),\n",
    "                                        axis=0)\n",
    "                        if i==0:\n",
    "                            diagno['truth'][data[6:-3]][iini][field] = np.concatenate((diagno['truth'][data[6:-3]][iini][field],\n",
    "                                                                     md[NNs][data[6:-3]].\\\n",
    "                                                                     reshape_ngeo(truth[:,ind_field])[lat_ind,:,:,np.newaxis]),\n",
    "                                                                    axis=3)\n",
    "                            \n",
    "                            if NN[NNs].scaling==True:\n",
    "                                diagno['truth_pos'][data[6:-3]][iini][field+'_pos'] = np.concatenate((diagno['truth_pos'][data[6:-3]][iini][field+'_pos'],\n",
    "                                             md[NNs][data[6:-3]].\\\n",
    "                                             reshape_ngeo(truth[:,ind_field])[lat_ind,:,:].reshape(-1,30)[mask]),\n",
    "                                            axis=0)\n",
    "                                diagno['truth_neg'][data[6:-3]][iini][field+'_neg'] = np.concatenate((diagno['truth_neg'][data[6:-3]][iini][field+'_neg'],\n",
    "                                         md[NNs][data[6:-3]].\\\n",
    "                                         reshape_ngeo(truth[:,ind_field])[lat_ind,:,:].reshape(-1,30)[neg_mask]),\n",
    "                                        axis=0)"
   ]
  }
 ],
 "metadata": {
  "kernelspec": {
   "display_name": "Python 3",
   "language": "python",
   "name": "python3"
  },
  "language_info": {
   "codemirror_mode": {
    "name": "ipython",
    "version": 3
   },
   "file_extension": ".py",
   "mimetype": "text/x-python",
   "name": "python",
   "nbconvert_exporter": "python",
   "pygments_lexer": "ipython3",
   "version": "3.6.10"
  },
  "toc": {
   "base_numbering": 1,
   "nav_menu": {},
   "number_sections": true,
   "sideBar": true,
   "skip_h1_title": false,
   "title_cell": "Table of Contents",
   "title_sidebar": "Contents",
   "toc_cell": false,
   "toc_position": {
    "height": "calc(100% - 180px)",
    "left": "10px",
    "top": "150px",
    "width": "269px"
   },
   "toc_section_display": true,
   "toc_window_display": true
  }
 },
 "nbformat": 4,
 "nbformat_minor": 4
}
