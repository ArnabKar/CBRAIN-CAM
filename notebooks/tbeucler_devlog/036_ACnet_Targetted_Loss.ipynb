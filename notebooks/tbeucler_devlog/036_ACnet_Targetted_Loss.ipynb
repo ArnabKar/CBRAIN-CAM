{
 "cells": [
  {
   "cell_type": "markdown",
   "metadata": {},
   "source": [
    "tgb - 1/6/2020 - The goal of this notebook is to target the residual to in the loss of ACnets to avoid the under-performance of the network at the residual level (following-up notebook 020 [https://github.com/tbeucler/CBRAIN-CAM/blob/master/notebooks/tbeucler_devlog/020_Sensitivity_Residual_level_Conservation.ipynb]). The steps will be to:  \n",
    "1) Implement the ACnet with residuals at mid-level following notebook 020  \n",
    "2) Modify the loss by introducing a scale_dic with targeted weighting at the residual level with different multipliers  \n",
    "3) Compare the squared-error to check if the method works"
   ]
  },
  {
   "cell_type": "markdown",
   "metadata": {},
   "source": [
    "tgb - 6/23/2020 - Adapting the notebook for hyperparameter optimization run by Jordan. Additionally to the hyperparameters listed in [https://arxiv.org/pdf/1909.00912.pdf], the hyperparameter search now includes the \"residual index\" and beta, a weight in the loss function meant to decrease the bias at the \"residual index\"."
   ]
  },
  {
   "cell_type": "markdown",
   "metadata": {},
   "source": [
    "# 0) Imports"
   ]
  },
  {
   "cell_type": "code",
   "execution_count": 1,
   "metadata": {},
   "outputs": [
    {
     "name": "stdout",
     "output_type": "stream",
     "text": [
      "/data11/home/tbeucler/CBRAIN-CAM/notebooks/tbeucler_devlog\n"
     ]
    }
   ],
   "source": [
    "from cbrain.imports import *\n",
    "from cbrain.data_generator import *\n",
    "from cbrain.cam_constants import *\n",
    "from cbrain.losses import *\n",
    "from cbrain.utils import limit_mem\n",
    "from cbrain.layers import *\n",
    "import tensorflow as tf\n",
    "import tensorflow.math as tfm\n",
    "from tensorflow.keras.layers import *\n",
    "from tensorflow.keras.models import *\n",
    "import xarray as xr\n",
    "import numpy as np\n",
    "from cbrain.model_diagnostics import ModelDiagnostics\n",
    "\n",
    "limit_mem() # Otherwise tensorflow will use ALL your GPU RAM for no reason"
   ]
  },
  {
   "cell_type": "code",
   "execution_count": 2,
   "metadata": {},
   "outputs": [],
   "source": [
    "PREFIX = '8col009_01_' # Filename prefix "
   ]
  },
  {
   "cell_type": "markdown",
   "metadata": {},
   "source": [
    "Change paths below to adapt to your environment"
   ]
  },
  {
   "cell_type": "code",
   "execution_count": 3,
   "metadata": {},
   "outputs": [
    {
     "name": "stdout",
     "output_type": "stream",
     "text": [
      "/data11/home/tbeucler/CBRAIN-CAM\n"
     ]
    }
   ],
   "source": [
    "# Folder where training/validation data are stored\n",
    "#TRAINDIR = '/local/Tom.Beucler/SPCAM_PHYS/'\n",
    "TRAINDIR = '/DFS-L/DATA/pritchard/tbeucler/SPCAM/SPCAM_PHYS/' \n",
    "\n",
    "# cd into cloned github repository\n",
    "#%cd /filer/z-sv-pool12c/t/Tom.Beucler/SPCAM/CBRAIN-CAM\n",
    "%cd /export/home/tbeucler/CBRAIN-CAM "
   ]
  },
  {
   "cell_type": "markdown",
   "metadata": {},
   "source": [
    "# 1) Custom layers and loss"
   ]
  },
  {
   "cell_type": "markdown",
   "metadata": {},
   "source": [
    "## 1.1) Define custom \"constraints\" layers\n",
    "Copied over from [https://github.com/tbeucler/CBRAIN-CAM/blob/master/notebooks/tbeucler_devlog/020_Sensitivity_Residual_level_Conservation.ipynb]"
   ]
  },
  {
   "cell_type": "markdown",
   "metadata": {},
   "source": [
    "Mass conservation layer (introduces hyper-parameter `lvl_choice` for residual index)"
   ]
  },
  {
   "cell_type": "code",
   "execution_count": 4,
   "metadata": {},
   "outputs": [],
   "source": [
    "class MassConsLayer_choice(Layer):\n",
    "    def __init__(self, inp_sub, inp_div, norm_q, hyai, hybi, lvl_choice, **kwargs):\n",
    "        \"\"\"\n",
    "        Call using ([input, output])\n",
    "        Assumes\n",
    "        prior: [PHQ_nores, PHCLDLIQ, PHCLDICE, TPHYSTND_nores,\n",
    "        QRL, QRS, DTVKE, FSNT, FSNS, FLNT, FLNS, PRECT, PRECTEND, PRECST, PRECSTEN]\n",
    "        Returns\n",
    "        post(erior): [PHQ, PHCLDLIQ, PHCLDICE, TPHYSTND_nores,\n",
    "        QRL, QRS, DTVKE, FSNT, FSNS, FLNT, FLNS, PRECT, PRECTEND, PRECST, PRECSTEN]\n",
    "        Added lvl_choice, a hyper-parameter to choose the level of mass conservation [0-29]\n",
    "        \"\"\"\n",
    "        self.inp_sub, self.inp_div, self.norm_q, self.hyai, self.hybi = \\\n",
    "            np.array(inp_sub), np.array(inp_div), np.array(norm_q), np.array(hyai), np.array(hybi)\n",
    "        self.lvl_choice = np.int32(lvl_choice)\n",
    "        # Define variable indices here\n",
    "        # Input\n",
    "        self.PS_idx = 300\n",
    "        self.LHFLX_idx = 303\n",
    "        # Output\n",
    "        self.PHQbef_idx = slice(0, self.lvl_choice) # Indices before the residual\n",
    "        self.PHCLDLIQ_idx = slice(29, 59)\n",
    "        self.PHCLDICE_idx = slice(59, 89)\n",
    "        self.PRECT_idx = 212\n",
    "        self.PRECTEND_idx = 213\n",
    "\n",
    "        super().__init__(**kwargs)\n",
    "\n",
    "    def build(self, input_shape):\n",
    "        super().build(input_shape)\n",
    "\n",
    "    def get_config(self):\n",
    "        config = {'inp_sub': list(self.inp_sub), 'inp_div': list(self.inp_div),\n",
    "                  'norm_q': list(self.norm_q), 'hyai': list(self.hyai),\n",
    "                  'hybi': list(self.hybi), 'lvl_choice':self.lvl_choice}\n",
    "        base_config = super().get_config()\n",
    "        return dict(list(base_config.items()) + list(config.items()))\n",
    "\n",
    "    def call(self, arrs):\n",
    "        inp, prior = arrs\n",
    "\n",
    "        # 1. Compute dP_tilde\n",
    "        dP_tilde = compute_dP_tilde(\n",
    "            inp[:, self.PS_idx],\n",
    "            self.inp_div[self.PS_idx], self.inp_sub[self.PS_idx],\n",
    "            self.norm_q, self.hyai, self.hybi\n",
    "        )\n",
    "\n",
    "        # 2. Compute vertical cloud water integral\n",
    "        CLDINT = K.sum(dP_tilde *\n",
    "                       (prior[:, self.PHCLDLIQ_idx] + prior[:, self.PHCLDICE_idx]),\n",
    "                       axis=1)\n",
    "\n",
    "        # 3. Compute water vapor integral minus the water vapor residual\n",
    "        # Careful with handling the pressure vector since it is not aligned\n",
    "        # with the prior water vapor vector\n",
    "        VAPINT = K.sum(dP_tilde[:, self.PHQbef_idx] * prior[:, self.PHQbef_idx], 1) +\\\n",
    "        K.sum(dP_tilde[:, self.lvl_choice+1:30] * prior[:, self.lvl_choice:29], 1)\n",
    "\n",
    "        # 4. Compute forcing (see Tom's note for details, I am just copying)\n",
    "        LHFLX = (inp[:, self.LHFLX_idx] * self.inp_div[self.LHFLX_idx] +\n",
    "                 self.inp_sub[self.LHFLX_idx])\n",
    "        PREC = prior[:, self.PRECT_idx] + prior[:, self.PRECTEND_idx]\n",
    "\n",
    "        # 5. Compute water vapor tendency at level lvl_choice as residual\n",
    "        PHQ_LVL = (LHFLX - PREC - CLDINT - VAPINT) / dP_tilde[:, self.lvl_choice]\n",
    "\n",
    "        # 6. Concatenate output vector\n",
    "        post = tf.concat([\n",
    "            prior[:, self.PHQbef_idx], PHQ_LVL[:, None],\n",
    "            prior[:, self.lvl_choice:]\n",
    "        ], axis=1)\n",
    "        return post\n",
    "\n",
    "    def compute_output_shape(self, input_shape):\n",
    "        \"\"\"Input shape + 1\"\"\"\n",
    "        return (input_shape[0][0], input_shape[0][1] + 1)"
   ]
  },
  {
   "cell_type": "markdown",
   "metadata": {},
   "source": [
    "Enthalpy conservation layer (introduces hyper-parameter `lvl_choice` for residual index)"
   ]
  },
  {
   "cell_type": "code",
   "execution_count": 5,
   "metadata": {},
   "outputs": [],
   "source": [
    "class EntConsLayer_choice(Layer):\n",
    "    def __init__(self, inp_sub, inp_div, norm_q, hyai, hybi, lvl_choice, **kwargs):\n",
    "        \"\"\"\n",
    "        Call using ([input, output])\n",
    "        Assumes\n",
    "        prior: [PHQ, PHCLDLIQ, PHCLDICE, TPHYSTND_nores,\n",
    "        QRL, QRS, DTVKE, FSNT, FSNS, FLNT, FLNS, PRECT, PRECTEND, PRECST, PRECSTEN]\n",
    "        Returns\n",
    "        post(erior): [PHQ, PHCLDLIQ, PHCLDICE, TPHYSTND,\n",
    "        QRL, QRS, DTVKE, FSNT, FSNS, FLNT, FLNS, PRECT, PRECTEND, PRECST, PRECSTEN]\n",
    "        \"\"\"\n",
    "        self.inp_sub, self.inp_div, self.norm_q, self.hyai, self.hybi = \\\n",
    "            np.array(inp_sub), np.array(inp_div), np.array(norm_q), np.array(hyai), np.array(hybi)\n",
    "        self.lvl_choice = np.int32(lvl_choice)\n",
    "        # Define variable indices here\n",
    "        # Input\n",
    "        self.PS_idx = 300\n",
    "        self.SHFLX_idx = 302\n",
    "        self.LHFLX_idx = 303\n",
    "\n",
    "        # Output\n",
    "        self.PHQ_idx = slice(0, 30)\n",
    "        self.PHCLDLIQ_idx = slice(30, 60)\n",
    "        self.Tbef_idx = slice(90, 90+self.lvl_choice)\n",
    "        self.DTVKE_idx = slice(179, 209)\n",
    "        self.FSNT_idx = 209\n",
    "        self.FSNS_idx = 210\n",
    "        self.FLNT_idx = 211\n",
    "        self.FLNS_idx = 212\n",
    "        self.PRECT_idx = 213\n",
    "        self.PRECTEND_idx = 214\n",
    "        self.PRECST_idx = 215\n",
    "        self.PRECSTEND_idx = 216\n",
    "\n",
    "        super().__init__(**kwargs)\n",
    "\n",
    "    def build(self, input_shape):\n",
    "        super().build(input_shape)\n",
    "\n",
    "    def get_config(self):\n",
    "        config = {'inp_sub': list(self.inp_sub), 'inp_div': list(self.inp_div),\n",
    "                  'norm_q': list(self.norm_q), 'hyai': list(self.hyai),\n",
    "                  'hybi': list(self.hybi), 'lvl_choice': self.lvl_choice}\n",
    "        base_config = super().get_config()\n",
    "        return dict(list(base_config.items()) + list(config.items()))\n",
    "\n",
    "    def call(self, arrs):\n",
    "        inp, prior = arrs\n",
    "\n",
    "        # 1. Compute dP_tilde\n",
    "        dP_tilde = compute_dP_tilde(\n",
    "            inp[:, self.PS_idx],\n",
    "            self.inp_div[self.PS_idx], self.inp_sub[self.PS_idx],\n",
    "            self.norm_q, self.hyai, self.hybi\n",
    "        )\n",
    "\n",
    "        # 2. Compute net energy input from phase change and precipitation\n",
    "        PHAS = L_I / L_V * (\n",
    "                (prior[:, self.PRECST_idx] + prior[:, self.PRECSTEND_idx]) -\n",
    "                (prior[:, self.PRECT_idx] + prior[:, self.PRECTEND_idx])\n",
    "        )\n",
    "\n",
    "        # 3. Compute net energy input from radiation, SHFLX and TKE\n",
    "        RAD = (prior[:, self.FSNT_idx] - prior[:, self.FSNS_idx] -\n",
    "               prior[:, self.FLNT_idx] + prior[:, self.FLNS_idx])\n",
    "        SHFLX = (inp[:, self.SHFLX_idx] * self.inp_div[self.SHFLX_idx] +\n",
    "                 self.inp_sub[self.SHFLX_idx])\n",
    "        KEDINT = K.sum(dP_tilde * prior[:, self.DTVKE_idx], 1)\n",
    "\n",
    "        # 4. Compute tendency of vapor due to phase change\n",
    "        LHFLX = (inp[:, self.LHFLX_idx] * self.inp_div[self.LHFLX_idx] +\n",
    "                 self.inp_sub[self.LHFLX_idx])\n",
    "        VAPINT = K.sum(dP_tilde * prior[:, self.PHQ_idx], 1)\n",
    "        SPDQINT = (VAPINT - LHFLX) * L_S / L_V\n",
    "\n",
    "        # 5. Same for cloud liquid water tendency\n",
    "        SPDQCINT = K.sum(dP_tilde * prior[:, self.PHCLDLIQ_idx], 1) * L_I / L_V\n",
    "\n",
    "        # 6. And the same for T but remember residual is still missing\n",
    "        DTINT = K.sum(dP_tilde[:, :self.lvl_choice] *\\\n",
    "                      prior[:, self.Tbef_idx], 1) +\\\n",
    "        K.sum(dP_tilde[:, self.lvl_choice+1:30] *\\\n",
    "             prior[:, 90+self.lvl_choice:119], 1)\n",
    "\n",
    "        # 7. Compute DT30 as residual\n",
    "        DT_LVL = (\n",
    "                       PHAS + RAD + SHFLX + KEDINT - SPDQINT - SPDQCINT - DTINT\n",
    "               ) / dP_tilde[:, self.lvl_choice]\n",
    "\n",
    "        # 8. Concatenate output vector\n",
    "        post = tf.concat([\n",
    "            prior[:, :(90+self.lvl_choice)], DT_LVL[:, None], \\\n",
    "            prior[:, (90+self.lvl_choice):]\n",
    "        ], axis=1)\n",
    "        return post\n",
    "\n",
    "    def compute_output_shape(self, input_shape):\n",
    "        \"\"\"Input shape + 1\"\"\"\n",
    "        return (input_shape[0][0], input_shape[0][1] + 1)"
   ]
  },
  {
   "cell_type": "markdown",
   "metadata": {},
   "source": [
    "## 1.2) Define custom loss\n",
    "Introducing hyper-parameter `beta` to give additional weight to residual indices (at levels `lev1` and `lev2` in the loss)"
   ]
  },
  {
   "cell_type": "code",
   "execution_count": 11,
   "metadata": {},
   "outputs": [],
   "source": [
    "class Weighted_Loss():\n",
    "    def __init__(self, lev1, lev2, beta, name='weighted_loss',**kwargs):\n",
    "        self.lev1 = lev1\n",
    "        self.lev2 = lev2\n",
    "        self.beta = beta\n",
    "        self.__name__ = name\n",
    "        super().__init__(**kwargs)\n",
    "    def __call__(self,ytrue,ypred):\n",
    "        # Multiply two levels of y_pred by beta\n",
    "        ypred_mult = tf.concat([\n",
    "            ypred[:,:self.lev1],\n",
    "            tf.expand_dims(self.beta*ypred[:,self.lev1],axis=1),\n",
    "            ypred[:,self.lev1:self.lev2],\n",
    "            tf.expand_dims(self.beta*ypred[:,self.lev2],axis=1),\n",
    "            ypred[:,self.lev2:]\n",
    "        ], axis=1)\n",
    "        # Multiply two levels of y_truth by beta\n",
    "        ytrue_mult = tf.concat([\n",
    "            ytrue[:,:self.lev1],\n",
    "            tf.expand_dims(self.beta*ytrue[:,self.lev1],axis=1),\n",
    "            ytrue[:,self.lev1:self.lev2],\n",
    "            tf.expand_dims(self.beta*ytrue[:,self.lev2],axis=1),\n",
    "            ytrue[:,self.lev2:]\n",
    "        ], axis=1)\n",
    "        return (ypred_mult-ytrue_mult)**2"
   ]
  },
  {
   "cell_type": "markdown",
   "metadata": {},
   "source": [
    "# 2) Build neural networks"
   ]
  },
  {
   "cell_type": "markdown",
   "metadata": {},
   "source": [
    "## 2.1) Define data generators"
   ]
  },
  {
   "cell_type": "code",
   "execution_count": 7,
   "metadata": {},
   "outputs": [],
   "source": [
    "scale_dict = load_pickle('./nn_config/scale_dicts/009_Wm2_scaling.pkl')\n",
    "in_vars = load_pickle('./nn_config/scale_dicts/009_Wm2_in_vars.pkl')\n",
    "out_vars = load_pickle('./nn_config/scale_dicts/009_Wm2_out_vars.pkl')\n",
    "dP = load_pickle('./nn_config/scale_dicts/009_Wm2_dP.pkl')"
   ]
  },
  {
   "cell_type": "code",
   "execution_count": 8,
   "metadata": {},
   "outputs": [],
   "source": [
    "train_gen = DataGenerator(\n",
    "    data_fn = TRAINDIR+PREFIX+'train_shuffle.nc',\n",
    "    input_vars = in_vars,\n",
    "    output_vars = out_vars,\n",
    "    norm_fn = TRAINDIR+PREFIX+'norm.nc',\n",
    "    input_transform = ('mean', 'maxrs'),\n",
    "    output_transform = scale_dict,\n",
    "    batch_size=1024,\n",
    "    shuffle=True\n",
    ")\n",
    "valid_gen = DataGenerator(\n",
    "    data_fn = TRAINDIR+PREFIX+'valid.nc',\n",
    "    input_vars = in_vars,\n",
    "    output_vars = out_vars,\n",
    "    norm_fn = TRAINDIR+PREFIX+'norm.nc',\n",
    "    input_transform = ('mean', 'maxrs'),\n",
    "    output_transform = scale_dict,\n",
    "    batch_size=1024,\n",
    "    shuffle=False\n",
    ")\n",
    "test_gen = DataGenerator(\n",
    "    data_fn = TRAINDIR+PREFIX+'test.nc',\n",
    "    input_vars = in_vars,\n",
    "    output_vars = out_vars,\n",
    "    norm_fn = TRAINDIR+PREFIX+'norm.nc',\n",
    "    input_transform = ('mean', 'maxrs'),\n",
    "    output_transform = scale_dict,\n",
    "    batch_size=1024,\n",
    "    shuffle=False\n",
    ")"
   ]
  },
  {
   "cell_type": "markdown",
   "metadata": {},
   "source": [
    "## 2.2) Define models"
   ]
  },
  {
   "cell_type": "code",
   "execution_count": 9,
   "metadata": {},
   "outputs": [],
   "source": [
    "def Conserving_Model(maslevel,entlevel):\n",
    "    inpC = Input(shape=(304,))\n",
    "    densout = Dense(512, activation='linear')(inpC)\n",
    "    densout = LeakyReLU(alpha=0.3)(densout)\n",
    "    for i in range (4):\n",
    "        densout = Dense(512, activation='linear')(densout)\n",
    "        densout = LeakyReLU(alpha=0.3)(densout)\n",
    "    densout = Dense(214, activation='linear')(densout)\n",
    "    densout = LeakyReLU(alpha=0.3)(densout)\n",
    "    surfout = SurRadLayer(\n",
    "        inp_div=train_gen.input_transform.div,\n",
    "        inp_sub=train_gen.input_transform.sub,\n",
    "        norm_q=scale_dict['PHQ'],\n",
    "        hyai=hyai, hybi=hybi\n",
    "    )([inpC, densout])\n",
    "    massout = MassConsLayer_choice(\n",
    "        inp_div=train_gen.input_transform.div,\n",
    "        inp_sub=train_gen.input_transform.sub,\n",
    "        norm_q=scale_dict['PHQ'],\n",
    "        hyai=hyai, hybi=hybi\\\n",
    "        , lvl_choice=maslevel\n",
    "    )([inpC, surfout])\n",
    "    enthout = EntConsLayer_choice(\n",
    "        inp_div=train_gen.input_transform.div,\n",
    "        inp_sub=train_gen.input_transform.sub,\n",
    "        norm_q=scale_dict['PHQ'],\n",
    "        hyai=hyai, hybi=hybi\\\n",
    "        , lvl_choice=entlevel\n",
    "    )([inpC, massout])\n",
    "    return tf.keras.models.Model(inpC, enthout)"
   ]
  },
  {
   "cell_type": "markdown",
   "metadata": {},
   "source": [
    "Add callback to stop in case the validation loss doesn't decrease anymore"
   ]
  },
  {
   "cell_type": "code",
   "execution_count": 10,
   "metadata": {},
   "outputs": [],
   "source": [
    "earlyStopping = EarlyStopping(monitor='val_loss', patience=10, verbose=0, mode='min')"
   ]
  },
  {
   "cell_type": "markdown",
   "metadata": {},
   "source": [
    "## 2.3) Train models"
   ]
  },
  {
   "cell_type": "code",
   "execution_count": 12,
   "metadata": {},
   "outputs": [
    {
     "name": "stdout",
     "output_type": "stream",
     "text": [
      "beta= 20 Mas index= 14  & Ent index= 14\n",
      "WARNING:tensorflow:From /DFS-L/DATA/pritchard/tbeucler/miniconda3/envs/tf_gpu/lib/python3.7/site-packages/tensorflow/python/ops/resource_variable_ops.py:435: colocate_with (from tensorflow.python.framework.ops) is deprecated and will be removed in a future version.\n",
      "Instructions for updating:\n",
      "Colocations handled automatically by placer.\n",
      "__________________________________________________________________________________________________\n",
      "Layer (type)                    Output Shape         Param #     Connected to                     \n",
      "==================================================================================================\n",
      "input_1 (InputLayer)            (None, 304)          0                                            \n",
      "__________________________________________________________________________________________________\n",
      "dense (Dense)                   (None, 512)          156160      input_1[0][0]                    \n",
      "__________________________________________________________________________________________________\n",
      "leaky_re_lu (LeakyReLU)         (None, 512)          0           dense[0][0]                      \n",
      "__________________________________________________________________________________________________\n",
      "dense_1 (Dense)                 (None, 512)          262656      leaky_re_lu[0][0]                \n",
      "__________________________________________________________________________________________________\n",
      "leaky_re_lu_1 (LeakyReLU)       (None, 512)          0           dense_1[0][0]                    \n",
      "__________________________________________________________________________________________________\n",
      "dense_2 (Dense)                 (None, 512)          262656      leaky_re_lu_1[0][0]              \n",
      "__________________________________________________________________________________________________\n",
      "leaky_re_lu_2 (LeakyReLU)       (None, 512)          0           dense_2[0][0]                    \n",
      "__________________________________________________________________________________________________\n",
      "dense_3 (Dense)                 (None, 512)          262656      leaky_re_lu_2[0][0]              \n",
      "__________________________________________________________________________________________________\n",
      "leaky_re_lu_3 (LeakyReLU)       (None, 512)          0           dense_3[0][0]                    \n",
      "__________________________________________________________________________________________________\n",
      "dense_4 (Dense)                 (None, 512)          262656      leaky_re_lu_3[0][0]              \n",
      "__________________________________________________________________________________________________\n",
      "leaky_re_lu_4 (LeakyReLU)       (None, 512)          0           dense_4[0][0]                    \n",
      "__________________________________________________________________________________________________\n",
      "dense_5 (Dense)                 (None, 214)          109782      leaky_re_lu_4[0][0]              \n",
      "__________________________________________________________________________________________________\n",
      "leaky_re_lu_5 (LeakyReLU)       (None, 214)          0           dense_5[0][0]                    \n",
      "__________________________________________________________________________________________________\n",
      "sur_rad_layer (SurRadLayer)     (None, 216)          0           input_1[0][0]                    \n",
      "                                                                 leaky_re_lu_5[0][0]              \n",
      "__________________________________________________________________________________________________\n",
      "mass_cons_layer_choice (MassCon (None, 217)          0           input_1[0][0]                    \n",
      "                                                                 sur_rad_layer[0][0]              \n",
      "__________________________________________________________________________________________________\n",
      "ent_cons_layer_choice (EntConsL (None, 218)          0           input_1[0][0]                    \n",
      "                                                                 mass_cons_layer_choice[0][0]     \n",
      "==================================================================================================\n",
      "Total params: 1,316,566\n",
      "Trainable params: 1,316,566\n",
      "Non-trainable params: 0\n",
      "__________________________________________________________________________________________________\n",
      "NN is  None\n",
      "WARNING:tensorflow:From /DFS-L/DATA/pritchard/tbeucler/miniconda3/envs/tf_gpu/lib/python3.7/site-packages/tensorflow/python/ops/math_ops.py:3066: to_int32 (from tensorflow.python.ops.math_ops) is deprecated and will be removed in a future version.\n",
      "Instructions for updating:\n",
      "Use tf.cast instead.\n",
      "Epoch 1/20\n",
      "   29/41376 [..............................] - ETA: 4:08:38 - loss: 17070.3128"
     ]
    },
    {
     "name": "stderr",
     "output_type": "stream",
     "text": [
      "ERROR:root:Internal Python error in the inspect module.\n",
      "Below is the traceback from this internal error.\n",
      "\n",
      "\n",
      "KeyboardInterrupt\n",
      "\n"
     ]
    }
   ],
   "source": [
    "Nep = 20\n",
    "beta_array = np.array([20,10,5,2,1]) # In this example, I loop over values of beta\n",
    "\n",
    "NN = {}\n",
    "for i,beta in enumerate(beta_array):\n",
    "    \n",
    "    # \"Residual indices\" defined here\n",
    "    imres = 14; # Mass residual index\n",
    "    ieres = 14; # Enthalpy residual index\n",
    "    \n",
    "    print('beta=',beta,'Mas index=',str(imres),' & Ent index=',str(ieres))\n",
    "    graph = tf.Graph()\n",
    "    with tf.Session(graph=graph):\n",
    "\n",
    "        # 1) Create model\n",
    "        # ACnet with mass residual index = imres\n",
    "        # and enthalpy residual index = ieres\n",
    "        NN = Conserving_Model(imres,ieres)\n",
    "        print('NN is ',NN.summary())\n",
    "\n",
    "        # 2) Compile model with custom loss of custom weight beta\n",
    "        NN.compile(tf.keras.optimizers.RMSprop(), \n",
    "                   loss=Weighted_Loss(lev1=imres,lev2=90+ieres,beta=beta))\n",
    "\n",
    "        # 3) Train and save model\n",
    "        path = TRAINDIR+'HDF5_DATA/Cm{mlev}_e{elev}_beta{beta}.hdf5'.format(\n",
    "            mlev = imres, elev = ieres, beta=beta) # Path where model is saved\n",
    "        mcp_save = ModelCheckpoint(path,save_best_only=True,\\\n",
    "                                   monitor='val_loss', mode='min')\n",
    "        NN.fit_generator(train_gen, epochs=Nep, validation_data=valid_gen,\\\n",
    "                        callbacks=[earlyStopping, mcp_save])\n",
    "        print('NN saved in ',path)"
   ]
  },
  {
   "cell_type": "markdown",
   "metadata": {},
   "source": [
    "# 3) Compare squared errors and constraints penalty of vertical profiles"
   ]
  },
  {
   "cell_type": "markdown",
   "metadata": {},
   "source": [
    "## 3.1) Mass/energy/radiation checkers"
   ]
  },
  {
   "cell_type": "markdown",
   "metadata": {},
   "source": [
    "From notebook [https://github.com/tbeucler/CBRAIN-CAM/blob/master/notebooks/tbeucler_devlog/041_ACnet_Non_Linear.ipynb]"
   ]
  },
  {
   "cell_type": "code",
   "execution_count": 14,
   "metadata": {},
   "outputs": [],
   "source": [
    "def mass_res_diagno(inp_div,inp_sub,norm_q,inp,pred):\n",
    "    # Input\n",
    "    PS_idx = 300\n",
    "    LHFLX_idx = 303\n",
    "\n",
    "    # Output\n",
    "    PHQ_idx = slice(0, 30)\n",
    "    PHCLDLIQ_idx = slice(30, 60)\n",
    "    PHCLDICE_idx = slice(60, 90)\n",
    "    PRECT_idx = 214\n",
    "    PRECTEND_idx = 215\n",
    "\n",
    "    # 1. Compute dP_tilde\n",
    "    dP_tilde = compute_dP_tilde(inp[:, PS_idx],  inp_div[PS_idx], inp_sub[PS_idx], norm_q, hyai, hybi)\n",
    "\n",
    "    # 2. Compute water integral\n",
    "    WATINT = np.sum(dP_tilde *(pred[:, PHQ_idx] + pred[:, PHCLDLIQ_idx] + pred[:, PHCLDICE_idx]), axis=1)\n",
    "#     print('PHQ',np.mean(np.sum(dP_tilde*pred[:,PHQ_idx],axis=1)))\n",
    "#     print('PHCLQ',np.mean(np.sum(dP_tilde*pred[:,PHCLDLIQ_idx],axis=1)))\n",
    "#     print('PHICE',np.mean(np.sum(dP_tilde*pred[:,PHCLDICE_idx],axis=1)))\n",
    "\n",
    "    # 3. Compute latent heat flux and precipitation forcings\n",
    "    LHFLX = inp[:, LHFLX_idx] * inp_div[LHFLX_idx] + inp_sub[LHFLX_idx]\n",
    "    PREC = pred[:, PRECT_idx] + pred[:, PRECTEND_idx]\n",
    "\n",
    "    # 4. Compute water mass residual\n",
    "#     print('LHFLX',np.mean(LHFLX))\n",
    "#     print('PREC',np.mean(PREC))\n",
    "#     print('WATINT',np.mean(WATINT))\n",
    "    WATRES = LHFLX - PREC - WATINT\n",
    "    #print('WATRES',np.mean(WATRES))\n",
    "\n",
    "    return np.square(WATRES)"
   ]
  },
  {
   "cell_type": "code",
   "execution_count": 15,
   "metadata": {},
   "outputs": [],
   "source": [
    "def ent_res_diagno(inp_div,inp_sub,norm_q,inp,pred):\n",
    "\n",
    "    # Input\n",
    "    PS_idx = 300\n",
    "    SHFLX_idx = 302\n",
    "    LHFLX_idx = 303\n",
    "\n",
    "    # Output\n",
    "    PHQ_idx = slice(0, 30)\n",
    "    PHCLDLIQ_idx = slice(30, 60)\n",
    "    PHCLDICE_idx = slice(60, 90)\n",
    "    TPHYSTND_idx = slice(90, 120)\n",
    "    DTVKE_idx = slice(180, 210)\n",
    "    FSNT_idx = 210\n",
    "    FSNS_idx = 211\n",
    "    FLNT_idx = 212\n",
    "    FLNS_idx = 213\n",
    "    PRECT_idx = 214\n",
    "    PRECTEND_idx = 215\n",
    "    PRECST_idx = 216\n",
    "    PRECSTEND_idx = 217\n",
    "\n",
    "    # 1. Compute dP_tilde\n",
    "    dP_tilde = compute_dP_tilde(inp[:, PS_idx],  inp_div[PS_idx], inp_sub[PS_idx], norm_q, hyai, hybi)\n",
    "\n",
    "    # 2. Compute net energy input from phase change and precipitation\n",
    "    PHAS = L_I / L_V * (\n",
    "            (pred[:, PRECST_idx] + pred[:, PRECSTEND_idx]) -\n",
    "            (pred[:, PRECT_idx] + pred[:, PRECTEND_idx])\n",
    "    )\n",
    "\n",
    "    # 3. Compute net energy input from radiation, SHFLX and TKE\n",
    "    RAD = (pred[:, FSNT_idx] - pred[:, FSNS_idx] -\n",
    "           pred[:, FLNT_idx] + pred[:, FLNS_idx])\n",
    "    SHFLX = (inp[:, SHFLX_idx] * inp_div[SHFLX_idx] +\n",
    "             inp_sub[SHFLX_idx])\n",
    "    KEDINT = np.sum(dP_tilde * pred[:, DTVKE_idx], 1)\n",
    "\n",
    "    # 4. Compute tendency of vapor due to phase change\n",
    "    LHFLX = (inp[:, LHFLX_idx] * inp_div[LHFLX_idx] +\n",
    "             inp_sub[LHFLX_idx])\n",
    "    VAPINT = np.sum(dP_tilde * pred[:, PHQ_idx], 1)\n",
    "    SPDQINT = (VAPINT - LHFLX) * L_S / L_V\n",
    "\n",
    "    # 5. Same for cloud liquid water tendency\n",
    "    SPDQCINT = np.sum(dP_tilde * pred[:, PHCLDLIQ_idx], 1) * L_I / L_V\n",
    "\n",
    "    # 6. And the same for T but remember residual is still missing\n",
    "    DTINT = np.sum(dP_tilde * pred[:, TPHYSTND_idx], 1)\n",
    "\n",
    "    # 7. Compute enthalpy residual\n",
    "    ENTRES = SPDQINT + SPDQCINT + DTINT - RAD - SHFLX - PHAS - KEDINT\n",
    "\n",
    "    return np.square(ENTRES)"
   ]
  },
  {
   "cell_type": "code",
   "execution_count": 16,
   "metadata": {},
   "outputs": [],
   "source": [
    "def lw_res_diagno(inp_div,inp_sub,norm_q,inp,pred):\n",
    "\n",
    "    # Input\n",
    "    PS_idx = 300\n",
    "\n",
    "    # Output\n",
    "    QRL_idx = slice(120, 150)\n",
    "    FLNS_idx = 213\n",
    "    FLNT_idx = 212\n",
    "\n",
    "    # 1. Compute dP_tilde\n",
    "    dP_tilde = compute_dP_tilde(inp[:, PS_idx],  inp_div[PS_idx], inp_sub[PS_idx], norm_q, hyai, hybi)\n",
    "\n",
    "    # 2. Compute longwave integral\n",
    "    LWINT = np.sum(dP_tilde *pred[:, QRL_idx], axis=1)\n",
    "\n",
    "    # 3. Compute net longwave flux from lw fluxes at top and bottom\n",
    "    LWNET = pred[:, FLNS_idx] - pred[:, FLNT_idx]\n",
    "\n",
    "    # 4. Compute water mass residual\n",
    "    LWRES = LWINT-LWNET\n",
    "\n",
    "    return np.square(LWRES)\n",
    "\n",
    "def sw_res_diagno(inp_div,inp_sub,norm_q,inp,pred):\n",
    "\n",
    "    # Input\n",
    "    PS_idx = 300\n",
    "\n",
    "    # Output\n",
    "    QRS_idx = slice(150, 180)\n",
    "    FSNS_idx = 211\n",
    "    FSNT_idx = 210\n",
    "\n",
    "    # 1. Compute dP_tilde\n",
    "    dP_tilde = compute_dP_tilde(inp[:, PS_idx],  inp_div[PS_idx], inp_sub[PS_idx], norm_q, hyai, hybi)\n",
    "\n",
    "    # 2. Compute longwave integral\n",
    "    SWINT = np.sum(dP_tilde *pred[:, QRS_idx], axis=1)\n",
    "\n",
    "    # 3. Compute net longwave flux from lw fluxes at top and bottom\n",
    "    SWNET = pred[:, FSNT_idx] - pred[:, FSNS_idx]\n",
    "\n",
    "    # 4. Compute water mass residual\n",
    "    SWRES = SWINT-SWNET\n",
    "\n",
    "    return np.square(SWRES)"
   ]
  },
  {
   "cell_type": "code",
   "execution_count": 17,
   "metadata": {},
   "outputs": [],
   "source": [
    "def tot_res_diagno(inp_div,inp_sub,norm_q,inp,pred):\n",
    "    return 0.25*(mass_res_diagno(inp_div,inp_sub,norm_q,inp,pred)+\\\n",
    "                ent_res_diagno(inp_div,inp_sub,norm_q,inp,pred)+\\\n",
    "                lw_res_diagno(inp_div,inp_sub,norm_q,inp,pred)+\\\n",
    "                sw_res_diagno(inp_div,inp_sub,norm_q,inp,pred))"
   ]
  },
  {
   "cell_type": "markdown",
   "metadata": {},
   "source": [
    "## 3.2) Load models"
   ]
  },
  {
   "cell_type": "code",
   "execution_count": 18,
   "metadata": {},
   "outputs": [],
   "source": [
    "mult_array = np.array([1,2,5,10,20])\n",
    "end_array = ['_2','_2','','','']\n",
    "dict_lay = {'SurRadLayer':SurRadLayer,'MassConsLayer':MassConsLayer,'EntConsLayer':EntConsLayer,\n",
    "           'MassConsLayer_choice':MassConsLayer_choice,'EntConsLayer_choice':EntConsLayer_choice,\n",
    "           'Conserving_Model':Conserving_Model,'weighted_loss':Weighted_Loss(lev1=14,lev2=104,multiplier=multiplier)}"
   ]
  },
  {
   "cell_type": "code",
   "execution_count": 19,
   "metadata": {},
   "outputs": [
    {
     "name": "stderr",
     "output_type": "stream",
     "text": [
      "W0308 01:06:06.038832 22513543808832 deprecation.py:506] From /home/t/Tom.Beucler/miniconda3/lib/python3.7/site-packages/tensorflow/python/ops/init_ops.py:97: calling GlorotUniform.__init__ (from tensorflow.python.ops.init_ops) with dtype is deprecated and will be removed in a future version.\n",
      "Instructions for updating:\n",
      "Call initializer instance with the dtype argument instead of passing it to the constructor\n",
      "W0308 01:06:06.041228 22513543808832 deprecation.py:506] From /home/t/Tom.Beucler/miniconda3/lib/python3.7/site-packages/tensorflow/python/ops/init_ops.py:1251: calling VarianceScaling.__init__ (from tensorflow.python.ops.init_ops) with dtype is deprecated and will be removed in a future version.\n",
      "Instructions for updating:\n",
      "Call initializer instance with the dtype argument instead of passing it to the constructor\n",
      "W0308 01:06:06.043965 22513543808832 deprecation.py:506] From /home/t/Tom.Beucler/miniconda3/lib/python3.7/site-packages/tensorflow/python/ops/init_ops.py:97: calling Zeros.__init__ (from tensorflow.python.ops.init_ops) with dtype is deprecated and will be removed in a future version.\n",
      "Instructions for updating:\n",
      "Call initializer instance with the dtype argument instead of passing it to the constructor\n"
     ]
    },
    {
     "name": "stdout",
     "output_type": "stream",
     "text": [
      "/scratch-local/Tom.Beucler/SPCAM_PHYS/HDF5_DATA\n",
      "Multiplier is  1\n"
     ]
    },
    {
     "name": "stderr",
     "output_type": "stream",
     "text": [
      "W0308 01:06:08.674143 22513543808832 deprecation.py:323] From /home/t/Tom.Beucler/miniconda3/lib/python3.7/site-packages/tensorflow/python/ops/math_grad.py:1205: add_dispatch_support.<locals>.wrapper (from tensorflow.python.ops.array_ops) is deprecated and will be removed in a future version.\n",
      "Instructions for updating:\n",
      "Use tf.where in 2.0, which has the same broadcast rule as np.where\n"
     ]
    },
    {
     "name": "stdout",
     "output_type": "stream",
     "text": [
      "Multiplier is  2\n",
      "Multiplier is  5\n",
      "Multiplier is  10\n",
      "Multiplier is  20\n"
     ]
    }
   ],
   "source": [
    "NN = {}; md = {};\n",
    "%cd $TRAINDIR/HDF5_DATA\n",
    "for im,multiplier in enumerate(mult_array):\n",
    "    print('Multiplier is ',multiplier)\n",
    "    path = TRAINDIR+'HDF5_DATA/Cm14_e14_multiplier'+str(multiplier)+end_array[im]+'.hdf5'\n",
    "    NN[multiplier] = load_model(path,custom_objects=dict_lay)"
   ]
  },
  {
   "cell_type": "markdown",
   "metadata": {},
   "source": [
    "## 3.3) Calculate squared error and physical constraints resid"
   ]
  },
  {
   "cell_type": "code",
   "execution_count": 20,
   "metadata": {},
   "outputs": [],
   "source": [
    "gen = test_gen"
   ]
  },
  {
   "cell_type": "code",
   "execution_count": 21,
   "metadata": {},
   "outputs": [],
   "source": [
    "SE = {}\n",
    "TRES = {}\n",
    "MSE = {}"
   ]
  },
  {
   "cell_type": "code",
   "execution_count": null,
   "metadata": {},
   "outputs": [
    {
     "name": "stdout",
     "output_type": "stream",
     "text": [
      "spl= 44424                                                        179                    183                    333                    1438                    1512                    1719                    1736                    1749                    1836                    3999                    4289                                       4390                    4476                    4483                    4562                   4563                    4577                    4580                    4590                   4600                    4610                    4618                    4697                    4702                    4712                    4722                   4723                                       4770                   \r"
     ]
    }
   ],
   "source": [
    "spl = 0\n",
    "while gen[spl][0].size>0: #spl is sample number\n",
    "    \n",
    "    print('spl=',spl,'                  ',end='\\r')\n",
    "    \n",
    "    inp = gen[spl][0]\n",
    "    truth = gen[spl][1]\n",
    "    \n",
    "    for im,multiplier in enumerate(mult_array):\n",
    "        pred = NN[multiplier].predict_on_batch(inp)\n",
    "        #pred[:,14] /= multiplier\n",
    "        #pred[:,104] /= multiplier\n",
    "\n",
    "        se = (pred-truth)**2\n",
    "\n",
    "        pred_phys = pred/gen.output_transform.scale\n",
    "\n",
    "        tresid = tot_res_diagno(gen.input_transform.div,gen.input_transform.sub,\n",
    "                                gen.output_transform.scale[:30],inp,pred)\n",
    "\n",
    "        if spl==0: SE[multiplier] = se; TRES[multiplier] = tresid; MSE[multiplier] = np.mean(se,axis=1);\n",
    "        else: \n",
    "            SE[multiplier] += se; \n",
    "            TRES[multiplier] = np.concatenate((TRES[multiplier],tresid),axis=0); \n",
    "            MSE[multiplier] = np.concatenate((MSE[multiplier],np.mean(se,axis=1)),axis=0);\n",
    "\n",
    "    spl += 1\n",
    "    \n",
    "for imultiplier,multiplier in enumerate(mult_array): SE[multiplier] /= spl"
   ]
  },
  {
   "cell_type": "code",
   "execution_count": null,
   "metadata": {},
   "outputs": [],
   "source": [
    "for imultiplier,multiplier in enumerate(mult_array):\n",
    "    plt.plot(np.mean(SE[multiplier][:,90:120],axis=0),label=str(multiplier))\n",
    "plt.legend()"
   ]
  },
  {
   "cell_type": "markdown",
   "metadata": {},
   "source": [
    "## 3.4) Save reduced data in PKL format"
   ]
  },
  {
   "cell_type": "code",
   "execution_count": null,
   "metadata": {},
   "outputs": [],
   "source": [
    "pathPKL = '/home/t/Tom.Beucler/SPCAM/CBRAIN-CAM/notebooks/tbeucler_devlog/PKL_DATA/'"
   ]
  },
  {
   "cell_type": "code",
   "execution_count": null,
   "metadata": {},
   "outputs": [],
   "source": [
    "hf = open(pathPKL+'2020_03_04_testgen036.pkl','wb')\n",
    "S = {\"TRES\":TRES,\"MSE\":MSE,\"SE\":SE}\n",
    "pickle.dump(S,hf)\n",
    "hf.close()"
   ]
  },
  {
   "cell_type": "markdown",
   "metadata": {},
   "source": [
    "# 10) Debug"
   ]
  },
  {
   "cell_type": "markdown",
   "metadata": {},
   "source": [
    "## 10.1) Testing new loss "
   ]
  },
  {
   "cell_type": "code",
   "execution_count": 29,
   "metadata": {},
   "outputs": [
    {
     "name": "stdout",
     "output_type": "stream",
     "text": [
      "/scratch-local/Tom.Beucler/SPCAM_PHYS/HDF5_DATA\n"
     ]
    }
   ],
   "source": [
    "multiplier = 20\n",
    "dict_lay = {'SurRadLayer':SurRadLayer,'MassConsLayer':MassConsLayer,'EntConsLayer':EntConsLayer,\n",
    "           'MassConsLayer_choice':MassConsLayer_choice,'EntConsLayer_choice':EntConsLayer_choice,\n",
    "           'Conserving_Model':Conserving_Model,'weighted_loss':Weighted_Loss(lev1=14,lev2=104,multiplier=multiplier)}\n",
    "%cd $TRAINDIR/HDF5_DATA\n",
    "\n",
    "path = TRAINDIR+'HDF5_DATA/Cm14_e14_multiplier'+str(multiplier)+'.hdf5'\n",
    "NN = load_model(path,custom_objects=dict_lay)"
   ]
  },
  {
   "cell_type": "code",
   "execution_count": 30,
   "metadata": {},
   "outputs": [],
   "source": [
    "gen = test_gen\n",
    "mult_array = np.array([20])"
   ]
  },
  {
   "cell_type": "code",
   "execution_count": 36,
   "metadata": {},
   "outputs": [
    {
     "name": "stdout",
     "output_type": "stream",
     "text": [
      "spl= 260                   \r"
     ]
    },
    {
     "ename": "KeyboardInterrupt",
     "evalue": "",
     "output_type": "error",
     "traceback": [
      "\u001b[0;31m---------------------------------------------------------------------------\u001b[0m",
      "\u001b[0;31mKeyboardInterrupt\u001b[0m                         Traceback (most recent call last)",
      "\u001b[0;32m~/miniconda3/lib/python3.7/site-packages/tensorflow/python/keras/api/_v1/keras/models/__init__.py\u001b[0m in \u001b[0;36m<module>\u001b[0;34m\u001b[0m\n\u001b[1;32m      4\u001b[0m     \u001b[0mprint\u001b[0m\u001b[0;34m(\u001b[0m\u001b[0;34m'spl='\u001b[0m\u001b[0;34m,\u001b[0m\u001b[0mspl\u001b[0m\u001b[0;34m,\u001b[0m\u001b[0;34m'                  '\u001b[0m\u001b[0;34m,\u001b[0m\u001b[0mend\u001b[0m\u001b[0;34m=\u001b[0m\u001b[0;34m'\\r'\u001b[0m\u001b[0;34m)\u001b[0m\u001b[0;34m\u001b[0m\u001b[0;34m\u001b[0m\u001b[0m\n\u001b[1;32m      5\u001b[0m \u001b[0;34m\u001b[0m\u001b[0m\n\u001b[0;32m----> 6\u001b[0;31m     \u001b[0minp\u001b[0m \u001b[0;34m=\u001b[0m \u001b[0mgen\u001b[0m\u001b[0;34m[\u001b[0m\u001b[0mspl\u001b[0m\u001b[0;34m]\u001b[0m\u001b[0;34m[\u001b[0m\u001b[0;36m0\u001b[0m\u001b[0;34m]\u001b[0m\u001b[0;34m\u001b[0m\u001b[0;34m\u001b[0m\u001b[0m\n\u001b[0m\u001b[1;32m      7\u001b[0m     \u001b[0mtruth\u001b[0m \u001b[0;34m=\u001b[0m \u001b[0mgen\u001b[0m\u001b[0;34m[\u001b[0m\u001b[0mspl\u001b[0m\u001b[0;34m]\u001b[0m\u001b[0;34m[\u001b[0m\u001b[0;36m1\u001b[0m\u001b[0;34m]\u001b[0m\u001b[0;34m\u001b[0m\u001b[0;34m\u001b[0m\u001b[0m\n\u001b[1;32m      8\u001b[0m \u001b[0;34m\u001b[0m\u001b[0m\n",
      "\u001b[0;32m~/SPCAM/CBRAIN-CAM/notebooks/tbeucler_devlog/cbrain/data_generator.py\u001b[0m in \u001b[0;36m__getitem__\u001b[0;34m(self, index)\u001b[0m\n\u001b[1;32m     70\u001b[0m \u001b[0;34m\u001b[0m\u001b[0m\n\u001b[1;32m     71\u001b[0m         \u001b[0;31m# Grab batch from data\u001b[0m\u001b[0;34m\u001b[0m\u001b[0;34m\u001b[0m\u001b[0;34m\u001b[0m\u001b[0m\n\u001b[0;32m---> 72\u001b[0;31m         \u001b[0mbatch\u001b[0m \u001b[0;34m=\u001b[0m \u001b[0mself\u001b[0m\u001b[0;34m.\u001b[0m\u001b[0mdata_ds\u001b[0m\u001b[0;34m[\u001b[0m\u001b[0;34m'vars'\u001b[0m\u001b[0;34m]\u001b[0m\u001b[0;34m[\u001b[0m\u001b[0mstart_idx\u001b[0m\u001b[0;34m:\u001b[0m\u001b[0mend_idx\u001b[0m\u001b[0;34m]\u001b[0m\u001b[0;34m\u001b[0m\u001b[0;34m\u001b[0m\u001b[0m\n\u001b[0m\u001b[1;32m     73\u001b[0m \u001b[0;34m\u001b[0m\u001b[0m\n\u001b[1;32m     74\u001b[0m         \u001b[0;31m# Split into inputs and outputs\u001b[0m\u001b[0;34m\u001b[0m\u001b[0;34m\u001b[0m\u001b[0;34m\u001b[0m\u001b[0m\n",
      "\u001b[0;32mh5py/_objects.pyx\u001b[0m in \u001b[0;36mh5py._objects.with_phil.wrapper\u001b[0;34m()\u001b[0m\n",
      "\u001b[0;32mh5py/_objects.pyx\u001b[0m in \u001b[0;36mh5py._objects.with_phil.wrapper\u001b[0;34m()\u001b[0m\n",
      "\u001b[0;32m~/miniconda3/lib/python3.7/site-packages/h5py/_hl/dataset.py\u001b[0m in \u001b[0;36m__getitem__\u001b[0;34m(self, args)\u001b[0m\n\u001b[1;32m    571\u001b[0m         \u001b[0mmspace\u001b[0m \u001b[0;34m=\u001b[0m \u001b[0mh5s\u001b[0m\u001b[0;34m.\u001b[0m\u001b[0mcreate_simple\u001b[0m\u001b[0;34m(\u001b[0m\u001b[0mmshape\u001b[0m\u001b[0;34m)\u001b[0m\u001b[0;34m\u001b[0m\u001b[0;34m\u001b[0m\u001b[0m\n\u001b[1;32m    572\u001b[0m         \u001b[0mfspace\u001b[0m \u001b[0;34m=\u001b[0m \u001b[0mselection\u001b[0m\u001b[0;34m.\u001b[0m\u001b[0mid\u001b[0m\u001b[0;34m\u001b[0m\u001b[0;34m\u001b[0m\u001b[0m\n\u001b[0;32m--> 573\u001b[0;31m         \u001b[0mself\u001b[0m\u001b[0;34m.\u001b[0m\u001b[0mid\u001b[0m\u001b[0;34m.\u001b[0m\u001b[0mread\u001b[0m\u001b[0;34m(\u001b[0m\u001b[0mmspace\u001b[0m\u001b[0;34m,\u001b[0m \u001b[0mfspace\u001b[0m\u001b[0;34m,\u001b[0m \u001b[0marr\u001b[0m\u001b[0;34m,\u001b[0m \u001b[0mmtype\u001b[0m\u001b[0;34m,\u001b[0m \u001b[0mdxpl\u001b[0m\u001b[0;34m=\u001b[0m\u001b[0mself\u001b[0m\u001b[0;34m.\u001b[0m\u001b[0m_dxpl\u001b[0m\u001b[0;34m)\u001b[0m\u001b[0;34m\u001b[0m\u001b[0;34m\u001b[0m\u001b[0m\n\u001b[0m\u001b[1;32m    574\u001b[0m \u001b[0;34m\u001b[0m\u001b[0m\n\u001b[1;32m    575\u001b[0m         \u001b[0;31m# Patch up the output for NumPy\u001b[0m\u001b[0;34m\u001b[0m\u001b[0;34m\u001b[0m\u001b[0;34m\u001b[0m\u001b[0m\n",
      "\u001b[0;31mKeyboardInterrupt\u001b[0m: "
     ]
    }
   ],
   "source": [
    "spl = 0\n",
    "while gen[spl][0].size>0: #spl is sample number\n",
    "    \n",
    "    print('spl=',spl,'                  ',end='\\r')\n",
    "    \n",
    "    inp = gen[spl][0]\n",
    "    truth = gen[spl][1]\n",
    "    \n",
    "    for im,multiplier in enumerate(mult_array):\n",
    "        \n",
    "        pred = NN.predict_on_batch(inp)\n",
    "        #pred[:,14] /= multiplier\n",
    "        #pred[:,104] /= multiplier\n",
    "\n",
    "        se = (pred-truth)**2\n",
    "\n",
    "        pred_phys = pred/gen.output_transform.scale\n",
    "\n",
    "        tresid = tot_res_diagno(gen.input_transform.div,gen.input_transform.sub,\n",
    "                                gen.output_transform.scale[:30],inp,pred)\n",
    "        \n",
    "        if spl==0: SE[multiplier] = se; TRES[multiplier] = tresid; MSE[multiplier] = np.mean(se,axis=1);\n",
    "        else: \n",
    "            SE[multiplier] += se; \n",
    "            TRES[multiplier] = np.concatenate((TRES[multiplier],tresid),axis=0); \n",
    "            MSE[multiplier] = np.concatenate((MSE[multiplier],np.mean(se,axis=1)),axis=0);\n",
    "        \n",
    "    spl += 1\n",
    "    \n",
    "for imultiplier,multiplier in enumerate(mult_array): SE[multiplier] /= spl"
   ]
  },
  {
   "cell_type": "code",
   "execution_count": 37,
   "metadata": {},
   "outputs": [
    {
     "data": {
      "text/plain": [
       "array([1.1881696e-10, 6.8499872e-11, 1.2563817e-10, ..., 3.0587799e-10,\n",
       "       1.4566126e-11, 2.4397195e-10], dtype=float32)"
      ]
     },
     "execution_count": 37,
     "metadata": {},
     "output_type": "execute_result"
    }
   ],
   "source": [
    "tresid"
   ]
  },
  {
   "cell_type": "code",
   "execution_count": null,
   "metadata": {},
   "outputs": [],
   "source": []
  }
 ],
 "metadata": {
  "kernelspec": {
   "display_name": "Python 3",
   "language": "python",
   "name": "python3"
  },
  "language_info": {
   "codemirror_mode": {
    "name": "ipython",
    "version": 3
   },
   "file_extension": ".py",
   "mimetype": "text/x-python",
   "name": "python",
   "nbconvert_exporter": "python",
   "pygments_lexer": "ipython3",
   "version": "3.7.3"
  },
  "toc": {
   "base_numbering": 1,
   "nav_menu": {},
   "number_sections": false,
   "sideBar": true,
   "skip_h1_title": false,
   "title_cell": "Table of Contents",
   "title_sidebar": "Contents",
   "toc_cell": false,
   "toc_position": {
    "height": "calc(100% - 180px)",
    "left": "10px",
    "top": "150px",
    "width": "307.2px"
   },
   "toc_section_display": true,
   "toc_window_display": true
  }
 },
 "nbformat": 4,
 "nbformat_minor": 2
}
