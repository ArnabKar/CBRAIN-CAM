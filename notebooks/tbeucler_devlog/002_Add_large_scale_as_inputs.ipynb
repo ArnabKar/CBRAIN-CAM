{
 "cells": [
  {
   "cell_type": "markdown",
   "metadata": {},
   "source": [
    "## 1) Preprocess all the necessary variables\n",
    "### 1.1) Build feature, target and initial normalization files"
   ]
  },
  {
   "cell_type": "code",
   "execution_count": 6,
   "metadata": {},
   "outputs": [
    {
     "name": "stdout",
     "output_type": "stream",
     "text": [
      "/filer/z-sv-pool12c/t/Tom.Beucler/SPCAM/CBRAIN-CAM\n"
     ]
    }
   ],
   "source": [
    "#!ln -s /filer/z-sv-pool12c/t/Tom.Beucler/SPCAM/CBRAIN-CAM/cbrain \\\n",
    "#/filer/z-sv-pool12c/t/Tom.Beucler/SPCAM/CBRAIN-CAM/notebooks/tbeucler_devlog/cbrain\n",
    "from cbrain.imports import *\n",
    "from cbrain.data_generator import *\n",
    "from cbrain.utils import limit_mem\n",
    "import tensorflow as tf\n",
    "import tensorflow.math as tfm\n",
    "import xarray as xr\n",
    "import numpy as np\n",
    "# Otherwise tensorflow will use ALL your GPU RAM for no reason\n",
    "limit_mem()\n",
    "TRAINDIR = '/local/Tom.Beucler/SPCAM_PHYS/'\n",
    "DATADIR = '/project/meteo/w2w/A6/S.Rasp/SP-CAM/sp32fbp_andkua/'\n",
    "PREFIX = '32_col_lgsc_12m_'\n",
    "%cd /filer/z-sv-pool12c/t/Tom.Beucler/SPCAM/CBRAIN-CAM"
   ]
  },
  {
   "cell_type": "markdown",
   "metadata": {},
   "source": [
    "tgb - 2/4/2019 - This is where this notebook start differing from 001  \n",
    "1) The new goal is to take into account large-scale forcings in the input file and see if it makes a difference since the CRM knows about them.  \n",
    "2) If it were the 8-column dataset, I would throw in UBP (the zonal wind) just in case and the Jacobian will be a good way of checking if it makes a difference.  \n",
    "3) We'll call the new config file 32col_mp_lgsc.  \n",
    "  \n",
    "In that file:  \n",
    "inputs : [QBP, QCBP, QIBP, TBP, UBP, VBP, Qdt_adiabatic, QCdt_adiabatic, QIdt_adiabatic, Tdt_adiabatic, Udt_adiabatic, Vdt_adiabatic, PS, SOLIN, SHFLX, LHFLX]  \n",
    "outputs : [PHQ, PHCLDLIQ, PHCLDICE, TPHYSTND, DTVKE, FSNT, FSNS, FLNT, FLNS, PRECT, PRECTEND, PRECST, PRECSTEN]  \n",
    "  \n",
    "Error1: There shouldn't be any [1,:] in the preprocess_aqua.py script when calculating the right name based on the dt_adiabatic name.   \n"
   ]
  },
  {
   "cell_type": "code",
   "execution_count": 2,
   "metadata": {},
   "outputs": [
    {
     "name": "stdout",
     "output_type": "stream",
     "text": [
      "GitPython not found. Please install for better reproducibility.\n",
      "Time checkpoint reading data: 18.47 s\n",
      "Number of time steps: 1152\n",
      "Cut time steps: [  95  191  287  383  479  575  671  767  863  959 1055]\n",
      "Cut time steps: [  95  191  287  383  479  575  671  767  863  959 1055]\n",
      "Time checkpoint create datasets: 18.72 s\n",
      "Time checkpoint reshape and rechunk: 27.33 s\n",
      "Compute means and stds\n",
      "Saving normalization file: /local/Tom.Beucler/SPCAM_PHYS/32_col_lgsc_12m_train_norm.nc\n",
      "Time checkpoint normalization arrays: 297.46 s\n",
      "Time checkpoint rechunk and ds: 298.94 s\n",
      "Save features: /local/Tom.Beucler/SPCAM_PHYS/32_col_lgsc_12m_train_features.nc\n",
      "Save targets: /local/Tom.Beucler/SPCAM_PHYS/32_col_lgsc_12m_train_targets.nc\n",
      "Total time: 401.07 s\n"
     ]
    }
   ],
   "source": [
    "!python cbrain/Test01_preprocess_aqua.py \\\n",
    "--config pp_config/32col_mp_lgsc_tbeucler_local.yml \\\n",
    "--aqua_names '*.h1.0000-*-0[1-12]-*' \\\n",
    "--out_pref 32_col_lgsc_12m_train"
   ]
  },
  {
   "cell_type": "markdown",
   "metadata": {},
   "source": [
    "### 1.2) Create validation dataset\n"
   ]
  },
  {
   "cell_type": "code",
   "execution_count": 3,
   "metadata": {},
   "outputs": [
    {
     "name": "stdout",
     "output_type": "stream",
     "text": [
      "GitPython not found. Please install for better reproducibility.\n",
      "Time checkpoint reading data: 8.10 s\n",
      "Number of time steps: 432\n",
      "Cut time steps: [143 287]\n",
      "Cut time steps: [143 287]\n",
      "Time checkpoint create datasets: 8.30 s\n",
      "Time checkpoint reshape and rechunk: 11.52 s\n",
      "Load external normalization file\n",
      "Time checkpoint normalization arrays: 11.52 s\n",
      "Time checkpoint rechunk and ds: 11.86 s\n",
      "Save features: /local/Tom.Beucler/SPCAM_PHYS/32_col_lgsc_12m_valid_features.nc\n",
      "Save targets: /local/Tom.Beucler/SPCAM_PHYS/32_col_lgsc_12m_valid_targets.nc\n",
      "Total time: 73.08 s\n"
     ]
    }
   ],
   "source": [
    "!python cbrain/Test01_preprocess_aqua.py \\\n",
    "--config pp_config/32col_mp_lgsc_tbeucler_local.yml \\\n",
    "--aqua_names '*.h1.0001-*-0[1-3]-*' \\\n",
    "--out_pref 32_col_lgsc_12m_valid --ext_norm Nope"
   ]
  },
  {
   "cell_type": "markdown",
   "metadata": {},
   "source": [
    "### 1.3) Shuffle the training dataset\n",
    "tgb - 1/16/2019 - Adapted from Stephan's entire worlflow for 32 column run"
   ]
  },
  {
   "cell_type": "code",
   "execution_count": 4,
   "metadata": {},
   "outputs": [
    {
     "name": "stdout",
     "output_type": "stream",
     "text": [
      "/filer/z-sv-pool12c/t/Tom.Beucler/SPCAM/CBRAIN-CAM\n",
      "Reading files: /local/Tom.Beucler/SPCAM_PHYS//32_col_lgsc_12m_train_features.nc /local/Tom.Beucler/SPCAM_PHYS//32_col_lgsc_12m_train_targets.nc\n",
      "Creating files: /local/Tom.Beucler/SPCAM_PHYS//32_col_lgsc_12m_train_shuffle_features.nc /local/Tom.Beucler/SPCAM_PHYS//32_col_lgsc_12m_train_shuffle_targets.nc\n",
      "GitPython not found. Please install for better reproducibility.\n",
      "GitPython not found. Please install for better reproducibility.\n",
      "100%|█████████████████████████████████████████████| 1/1 [00:39<00:00, 39.31s/it]\n"
     ]
    }
   ],
   "source": [
    "%cd /filer/z-sv-pool12c/t/Tom.Beucler/SPCAM/CBRAIN-CAM\n",
    "!python cbrain/shuffle_ds.py --pref $TRAINDIR/32_col_lgsc_12m_train"
   ]
  },
  {
   "cell_type": "code",
   "execution_count": 5,
   "metadata": {},
   "outputs": [
    {
     "name": "stdout",
     "output_type": "stream",
     "text": [
      "Reading files: /local/Tom.Beucler/SPCAM_PHYS//32_col_lgsc_12m_valid_features.nc /local/Tom.Beucler/SPCAM_PHYS//32_col_lgsc_12m_valid_targets.nc\n",
      "Creating files: /local/Tom.Beucler/SPCAM_PHYS//32_col_lgsc_12m_valid_shuffle_features.nc /local/Tom.Beucler/SPCAM_PHYS//32_col_lgsc_12m_valid_shuffle_targets.nc\n",
      "GitPython not found. Please install for better reproducibility.\n",
      "GitPython not found. Please install for better reproducibility.\n",
      "100%|█████████████████████████████████████████████| 1/1 [00:13<00:00, 13.48s/it]\n"
     ]
    }
   ],
   "source": [
    "!python cbrain/shuffle_ds.py --pref $TRAINDIR/32_col_lgsc_12m_valid"
   ]
  },
  {
   "cell_type": "markdown",
   "metadata": {},
   "source": [
    "### 1.4) Change the output's normalization using pressure levels"
   ]
  },
  {
   "cell_type": "markdown",
   "metadata": {},
   "source": [
    "tgb - 2/6/2019 - See notebook 001 for careful test of each of the steps below"
   ]
  },
  {
   "cell_type": "code",
   "execution_count": 7,
   "metadata": {},
   "outputs": [],
   "source": [
    "ds = xr.open_dataset(TRAINDIR + PREFIX + 'train_norm.nc')  \n",
    "\n",
    "# Open the pickle files containing the pressure converters\n",
    "with open(os.path.join('/filer/z-sv-pool12c/t/Tom.Beucler/SPCAM/CBRAIN-CAM/cbrain', 'hyai_hybi.pkl'), 'rb') as f:\n",
    "            hyai, hybi = pickle.load(f)\n",
    "# Takes representative value for PS since purpose is normalization\n",
    "PS = 1e5; P0 = 1e5;\n",
    "P = P0*hyai+PS*hybi; # Total pressure [Pa]\n",
    "dP = P[1:]-P[:-1]; # Differential pressure [Pa]  \n",
    "  \n",
    "dt = 30*60; # timestep\n",
    "ds.target_conv[:150] = np.multiply(ds.target_conv[:150],np.concatenate((dP,dP,dP,dP,np.divide(dP,dt))))  \n",
    "  \n",
    "# Copy old normalization file\n",
    "path1 = os.path.join(TRAINDIR,PREFIX+'train_norm.nc')\n",
    "path2 = os.path.join(TRAINDIR,PREFIX+'train_oldnorm.nc')\n",
    "!cp $path1 $path2  \n",
    "  \n",
    "# Create new dataset with characteristics of modified ds\n",
    "new_ds = xr.Dataset({\n",
    "            'feature_means': ds.feature_means,\n",
    "            'feature_stds': ds.feature_stds,\n",
    "            'feature_mins': ds.feature_mins,\n",
    "            'feature_maxs': ds.feature_maxs,\n",
    "            'target_means': ds.target_means,\n",
    "            'target_stds': ds.target_stds,\n",
    "            'target_mins': ds.target_mins,\n",
    "            'target_maxs': ds.target_maxs,\n",
    "            'feature_names': ds.feature_names,\n",
    "            'target_names': ds.target_names,\n",
    "            'feature_stds_by_var': ds.feature_stds_by_var,\n",
    "            'target_conv': ds.target_conv\n",
    "        })  \n",
    "  \n",
    "# 4.3 Write new data set to initial target_conv file\n",
    "!rm $path1 # Remove normalization file  \n",
    "new_ds.to_netcdf(path1) # Save the new dataset as the new normalization file"
   ]
  },
  {
   "cell_type": "markdown",
   "metadata": {},
   "source": [
    "## 2) Create data generator and produce data sample\n"
   ]
  },
  {
   "cell_type": "markdown",
   "metadata": {},
   "source": [
    "### 2.1) Create data generator from training dataset"
   ]
  },
  {
   "cell_type": "code",
   "execution_count": 8,
   "metadata": {},
   "outputs": [],
   "source": [
    "xr.open_dataset(path1).close() # Don't forget to close xarray handler!!"
   ]
  },
  {
   "cell_type": "code",
   "execution_count": 9,
   "metadata": {},
   "outputs": [
    {
     "name": "stdout",
     "output_type": "stream",
     "text": [
      "Generator will have 9338880 samples in 18240 batches\n",
      "Features have shape 304; targets have shape 158\n"
     ]
    }
   ],
   "source": [
    "train_gen_obj = DataGenerator(\n",
    "    data_dir=TRAINDIR, \n",
    "    feature_fn=PREFIX+'train_shuffle_features.nc',\n",
    "    target_fn=PREFIX+'train_shuffle_targets.nc',\n",
    "    batch_size=512,\n",
    "    norm_fn=PREFIX+'train_norm.nc',\n",
    "    fsub='feature_means',   # Subtracct the mean\n",
    "    fdiv='feature_stds_by_var',    # Then divide by Std\n",
    "    tmult='target_conv',    # For targets/output: use values from preprocess_aqua.\n",
    "    shuffle=True,\n",
    ")"
   ]
  },
  {
   "cell_type": "code",
   "execution_count": 10,
   "metadata": {},
   "outputs": [
    {
     "data": {
      "text/plain": [
       "((512, 304), (512, 158))"
      ]
     },
     "execution_count": 10,
     "metadata": {},
     "output_type": "execute_result"
    }
   ],
   "source": [
    "gen = train_gen_obj.return_generator()\n",
    "# Produce data sample\n",
    "x, y = next(gen)\n",
    "# and check its shape\n",
    "x.shape, y.shape"
   ]
  },
  {
   "cell_type": "markdown",
   "metadata": {},
   "source": [
    "### 2.2) Create data generator from validation dataset and produce sample"
   ]
  },
  {
   "cell_type": "code",
   "execution_count": 11,
   "metadata": {},
   "outputs": [
    {
     "name": "stdout",
     "output_type": "stream",
     "text": [
      "Generator will have 3514368 samples in 6864 batches\n",
      "Features have shape 304; targets have shape 158\n"
     ]
    }
   ],
   "source": [
    "valid_gen_obj = DataGenerator(\n",
    "    data_dir=TRAINDIR, \n",
    "    feature_fn=PREFIX+'valid_shuffle_features.nc',\n",
    "    target_fn=PREFIX+'valid_shuffle_targets.nc',\n",
    "    batch_size=512,\n",
    "    norm_fn=PREFIX+'train_norm.nc',\n",
    "    fsub='feature_means',   # Subtracct the mean\n",
    "    fdiv='feature_stds_by_var',    # Then divide by Std\n",
    "    tmult='target_conv',    # For targets/output: use values from preprocess_aqua.\n",
    "    shuffle=True,\n",
    ")"
   ]
  },
  {
   "cell_type": "code",
   "execution_count": 12,
   "metadata": {},
   "outputs": [
    {
     "data": {
      "text/plain": [
       "((512, 304), (512, 158))"
      ]
     },
     "execution_count": 12,
     "metadata": {},
     "output_type": "execute_result"
    }
   ],
   "source": [
    "validgen = valid_gen_obj.return_generator()\n",
    "\n",
    "xval, yval = next(validgen)\n",
    "\n",
    "xval.shape, yval.shape"
   ]
  },
  {
   "cell_type": "markdown",
   "metadata": {},
   "source": [
    "## 3) Neural network attempts (tgb - started 1/15/2019)"
   ]
  },
  {
   "cell_type": "code",
   "execution_count": 13,
   "metadata": {},
   "outputs": [],
   "source": [
    "from keras.layers import *\n",
    "from keras.models import *"
   ]
  },
  {
   "cell_type": "markdown",
   "metadata": {},
   "source": [
    "### 3.1) Energy conservation strategy (tgb - started 1/18/2019)\n",
    "#### Step 0: Load all the variables to calculate mass-weighted vertical integrals "
   ]
  },
  {
   "cell_type": "code",
   "execution_count": 14,
   "metadata": {},
   "outputs": [
    {
     "name": "stdout",
     "output_type": "stream",
     "text": [
      "fsub.shape= (304,)\n",
      "fdiv.shape= (304,)\n",
      "normq.shape= (158,)\n",
      "hyai.shape= (31,)\n",
      "hybi.shape= (31,)\n"
     ]
    }
   ],
   "source": [
    "# 1) Open the file containing the normalization of the targets\n",
    "ds = xr.open_dataset(TRAINDIR + PREFIX + 'train_norm.nc')\n",
    "# 2) Open the pickle files containing the pressure converters\n",
    "with open(os.path.join('/filer/z-sv-pool12c/t/Tom.Beucler/SPCAM/CBRAIN-CAM/cbrain', 'hyai_hybi.pkl'), 'rb') as f:\n",
    "            hyai, hybi = pickle.load(f)\n",
    "# 3) Define fsub, fdiv, normq\n",
    "fsub = ds.feature_means.values\n",
    "fdiv = ds.feature_stds_by_var.values\n",
    "normq = ds.target_conv.values\n",
    "print('fsub.shape=',fsub.shape)\n",
    "print('fdiv.shape=',fdiv.shape)\n",
    "print('normq.shape=',normq.shape)\n",
    "print('hyai.shape=',hyai.shape)\n",
    "print('hybi.shape=',hybi.shape)\n",
    "\n",
    "ds.close()"
   ]
  },
  {
   "cell_type": "markdown",
   "metadata": {},
   "source": [
    "#### Step 1: Implement mass conservation layer"
   ]
  },
  {
   "cell_type": "markdown",
   "metadata": {},
   "source": [
    "##### Enforcing mass conservation\n",
    "\n",
    "Reference for mass and energy conservation:\n",
    "\n",
    "(Original CAM F90 script, look for \"Compute vertical integrals of dry static energy and water\" in the script)  \n",
    "https://gitlab.com/mspritch/spcam3.0-neural-net/blob/master/models/atm/cam/src/physics/cam1/check_energy.F90\n",
    "\n",
    "(Stephan's energy/mass verification scripts)  \n",
    "https://github.com/raspstephan/CBRAIN-CAM/blob/master/notebooks/dev/old_notebooks/energy_conservation.ipynb\n",
    "\n",
    "##### Mass/Water conservation equation in W/m2\n",
    "\n",
    "If the network predicts the water vapor tendency, defined as the difference between the moisture before and after physics divided by the timestep dt (normalized in energy units W/m2):\n",
    "$$\\delta q_{v,i,l}\\left(p\\right)\\overset{\\mathrm{def}}{=}\\frac{L_{v}\\Delta p_{\\mathrm{norm}}}{g}\\frac{q_{v,i,l}^{a}\\left(p\\right)-q_{v,i,l}^{b}\\left(p\\right)}{\\Delta t}$$\n",
    "\n",
    "The water conservation equation is (normalized in energy units W/m2):\n",
    "$$\\underbrace{\\int_{0}^{\\widetilde{p_{s}}}d\\widetilde{p}\\left(\\delta q_{v}+\\delta q_{l}+\\delta q_{i}\\right)}_{\\mathrm{Difference\\ after-before\\ physics}}=\\underbrace{\\int_{\\widetilde{t}}^{\\widetilde{t}+1} \\widetilde{dt}\\ \\left(LHF-L_{v}P-10^{-3}\\cdot L_{v} P_{tend}\\right)}_{\\mathrm{Cond-Precip\\ during\\ \\Delta t}}\n",
    "$$\n",
    "\n",
    "where we have defined:\n",
    "$$\n",
    "\\widetilde{p}\\overset{\\mathrm{def}}{=}\\frac{p}{p_{\\mathrm{norm}}}\n",
    "$$\n",
    "$$\n",
    "\\widetilde{t}\\overset{\\mathrm{def}}{=}\\frac{t}{\\Delta t}\n",
    "$$\n",
    "Note that the precipitation variables here sum up to the water flux from the atmosphere to the surface due to precipitation:\n",
    "$$\n",
    "\\mathrm{Precipitation\\ flux\\ atm\\rightarrow surf.\\ \\left[kg.m^{-2}.s^{-1}\\right]}=P+10^{-3}\\cdot P_{tend}\n",
    "$$\n",
    "The idea is to predict all variables but one. The specific humidity at the lowest level of the model (here 30) is likely to be one of the most penalized output variables as it has one of the largest tendencies (in W/m2) in the final cost function. If we predict all other variables and calculate that variable as a residual, it yields:\n",
    "\n",
    "$$\\Delta \\widetilde{p}_{30} \\delta q_{v}^{30}=\\int_{\\widetilde{t}}^{\\widetilde{t}+1} \\widetilde{dt}\\ \\left(LHF-L_{v}P-10^{-3}\\cdot L_{v} P_{tend}\\right)-\\int_{0}^{\\widetilde{p_{s}}}d\\widetilde{p}\\left(\\delta q_{l}+\\delta q_{i}\\right)-\\int_{0}^{\\widetilde{p_{30}}}d\\widetilde{p}\\delta q_{v}\n",
    "$$\n",
    "\n",
    "Note that because we are already working with tendencies, the timestep variable dt is not needed in the water conservation layer.\n",
    "\n",
    "\n"
   ]
  },
  {
   "cell_type": "code",
   "execution_count": 157,
   "metadata": {},
   "outputs": [],
   "source": [
    "# tgb - 2/5/2019 - Adapated the mass conservation layer to new input format\n",
    "class MasConsLay(Layer):\n",
    "    \n",
    "    def __init__(self, fsub, fdiv, normq, hyai, hybi, output_dim, **kwargs):\n",
    "        self.fsub = fsub # Subtraction for normalization of inputs \n",
    "        self.fdiv = fdiv # Division for normalization of inputs\n",
    "        self.normq = normq # Normalization of output's water concentration\n",
    "        self.hyai = hyai # CAM constants to calculate d_pressure\n",
    "        self.hybi = hybi # CAM constants to calculate d_pressure\n",
    "        self.output_dim = output_dim # Dimension of output\n",
    "        super().__init__(**kwargs)\n",
    "        \n",
    "    def build(self, input_shape):\n",
    "        super().build(input_shape)  # Be sure to call this somewhere!\n",
    "    \n",
    "    # tgb - 2/6/2019 - following https://github.com/keras-team/keras/issues/4871\n",
    "    def get_config(self):\n",
    "        config = {'fsub': list(self.fsub), 'fdiv': list(self.fdiv),\n",
    "                  'normq': list(self.normq), 'hyai': list(self.hyai),\n",
    "                  'hybi': list(self.hybi), 'output_dim': list(self.output_dim)}\n",
    "        base_config = super(MasConsLayer, self).get_config()\n",
    "        return dict(list(base_config.items()) + list(config.items()))\n",
    "        \n",
    "    def call(self, arrs):\n",
    "        # arrs (for arrays) is a list with \n",
    "        # [inputs=inp and the output of the previous layer=densout]\n",
    "        # inputs will be [n_sample, 304 = 30*10+4] with\n",
    "        # [QBP, QCBP, QIBP, TBP, VBP, Qdt_adiabatic, QCdt_adiabatic, QIdt_adiabatic,\n",
    "        # Tdt_adiabatic, Vdt_adiabatic, PS, SOLIN, SHFLX, LHFLX]\n",
    "        # outputs of the previous dense layer will be [n_samples, 124 = 30*4+6-2] with\n",
    "        # [DELQ\\{PHQ AT LOWEST LVL}, DELCLDLIQ, DELCLDICE, \n",
    "        # TPHYSTND\\{TPHYSTND AT LOWEST LVL}, FSNT, FSNS, FLNT, FLNS, PRECT, PRECTEND]\n",
    "        \n",
    "        # Split between the inputs inp & the output of the densely connected\n",
    "        # neural network, densout\n",
    "        inp, densout = arrs\n",
    "        \n",
    "        # 0) Constants\n",
    "        G = 9.80616; # Reference gravity constant [m.s-2]\n",
    "        L_V = 2.501e6; # Latent heat of vaporization of water [W.kg-1]\n",
    "        P0 = 1e5; # Reference surface pressure [Pa]\n",
    "        \n",
    "        # 1) Get non-dimensional pressure differences (p_tilde above)\n",
    "        # In the input vector, PS is the 151st element after \n",
    "        # the first elements = [QBP, ..., VBP with shape 30*5=150]\n",
    "        PS = tfm.add( tfm.multiply( inp[:,300], self.fdiv[300]), self.fsub[300])\n",
    "        # Reference for calculation of d_pressure is cbrain/models.py (e.g. QLayer)\n",
    "        P = tfm.add( tfm.multiply( P0, self.hyai), \\\n",
    "                    tfm.multiply( PS[:,None], self.hybi))\n",
    "        dP = tfm.subtract( P[:, 1:], P[:, :-1])\n",
    "        # norm_output = dp_norm * L_V/G so dp_norm = norm_output * G/L_V\n",
    "        dP_NORM = tfm.divide( \\\n",
    "                             tfm.multiply(self.normq[:30], \\\n",
    "                                   G), L_V)\n",
    "        # dp_tilde = dp/dp_norm\n",
    "        # Wondering about broadcasting here...\n",
    "        # tf.div or simply \\ would support broadcasting \n",
    "        dP_TILD = tfm.divide( dP, dP_NORM)\n",
    "        \n",
    "        # 2) Calculate cloud water vertical integral from level 1 to level 30\n",
    "        # The indices are tricky here because we are missing del(q_v)@(level 30)\n",
    "        # so e.g. q_liq@(level 1) is the 30th element of the output of the \n",
    "        # previous dense layer\n",
    "        CLDVEC = tfm.multiply( dP_TILD, \\\n",
    "                                  tfm.add( densout[:, 29:59], densout[:, 59:89]))\n",
    "        CLDINT = tfm.reduce_sum( CLDVEC, axis=1)\n",
    "        \n",
    "        # 3) Calculate water vapor vertical integral from level 1 to level 29\n",
    "        VAPVEC = tfm.multiply( dP_TILD[:, :29], \\\n",
    "                                  densout[:, :29])\n",
    "        VAPINT = tfm.reduce_sum( VAPVEC, axis=1)\n",
    "        \n",
    "        # 4) Calculate forcing on the right-hand side (Net Evaporation-Precipitation)\n",
    "        # E-P is already normalized to units W.m-2 in the output vector\n",
    "        # so all we need to do is input-unnormalize LHF that is taken from the input vector\n",
    "        LHF = tfm.add( tfm.multiply( inp[:,303], self.fdiv[303]), self.fsub[303])\n",
    "        # Note that total precipitation = PRECT + 1e-3*PRECTEND in the CAM model\n",
    "        # PRECTEND already multiplied by 1e-3 in output vector so no need to redo it\n",
    "        PREC = tfm.add( densout[:, 152], densout[:, 153])\n",
    "        \n",
    "        # 5) Infer water vapor tendency at level 30 as a residual\n",
    "        # Composing tfm.add 3 times because not sure how to use tfm.add_n\n",
    "        DELQV30 = tfm.divide( \\\n",
    "                             tfm.add( tfm.add( tfm.add (\\\n",
    "                                                        LHF, tfm.negative(PREC)), \\\n",
    "                                              tfm.negative(CLDINT)), \\\n",
    "                                     tfm.negative(VAPINT)), \\\n",
    "                             dP_TILD[:, 29])\n",
    "        \n",
    "        # 6) Concatenate the water tendencies with the newly inferred tendency\n",
    "        # to get the final vector out of shape (#samples,125) with\n",
    "        # [DELQ, DELCLDLIQ, DELCLDICE, \n",
    "        # TPHYSTND\\{TPHYSTND AT SURFACE}, FSNT, FSNS, FLNT, FLNS, PRECT PRECTEND]\n",
    "        # Uses https://www.tensorflow.org/api_docs/python/tf/concat\n",
    "        DELQV30 = tf.expand_dims(DELQV30,1) # Adds dimension=1 to axis=1\n",
    "        out = tf.concat([densout[:, :29], DELQV30, densout[:, 29:]], 1)\n",
    "        return out\n",
    "    \n",
    "    def compute_output_shape(self, input_shape):\n",
    "        return (input_shape[0][0], self.output_dim) # The output has size 125=30*4+6-1\n",
    "    # and is ready to be fed to the energy conservation layer\n",
    "    # before we reach the total number of outputs = 126"
   ]
  },
  {
   "cell_type": "markdown",
   "metadata": {},
   "source": [
    "#### Step 2: Implement energy conservation layer\n",
    "##### Energy conservation equation in W/m2\n",
    "\n",
    "The total energy conservation in CAM is much more delicate than the water mass conservation. One key simplification is that the net advection of moist static energy in the CRM (within a grid-box) is zero, so we only need to focus on the thermodynamics. \n",
    "  \n",
    "  The two reference scripts of SPCAM are:  \n",
    "1)https://gitlab.com/mspritch/spcam3.0-neural-net/blob/master/models/atm/cam/src/physics/cam1/check_energy.F90 (look for te_tdn)  \n",
    "2)https://gitlab.com/mspritch/spcam3.0-neural-net/blob/master/models/atm/cam/src/physics/cam1/tphysbc_internallythreaded.F90 (look for wtricesink and icesink)  \n",
    "  \n",
    "  Another very useful script is Stephan's attempt at conserving energy/making sense of the variables:  \n",
    "https://github.com/raspstephan/CBRAIN-CAM/blob/master/notebooks/dev/old_notebooks/energy_conservation.ipynb  \n",
    "which is extremely helpful since some NETCDF flags are misleading/have the wrong attributes.  \n",
    "\n",
    "Following these files, we define the total energy, where the enthalpy component uses the ice as the reference phase of energy 0 (therefore, each gram of water in the forms of liquid or vapor add to the total energy of the system):\n",
    "$$\n",
    "e\\ \\left[\\mathrm{J\\ kg^{-1}}\\right]\\overset{\\mathrm{def}}{=}\\frac{\\overrightarrow{u}\\cdot\\overrightarrow{u}}{2}+c_{p}T+L_{s}q_{v}+L_{f}q_{l}\n",
    "$$\n",
    "We then isolate the column tendency of each variable that is due to precipitation or phase change between ice and liquid within the column.\n",
    "$$\n",
    "\\delta QV_{SP}\\ \\left[\\mathrm{kg\\ m^{-2}}\\right]\\overset{\\mathrm{def}}{=}\\int_{0}^{p_{s}}\\frac{dp}{g}\\left(\\frac{dq_{v}}{dt}\\right)-\\frac{\\mathrm{LHF}}{L_{v}}\n",
    "$$\n",
    "$$\n",
    "\\delta QL_{SP}\\ \\left[\\mathrm{kg\\ m^{-2}}\\right]\\overset{\\mathrm{def}}{=}\\int_{0}^{p_{s}}\\frac{dp}{g}\\left(\\frac{dq_{l}}{dt}\\right)\n",
    "$$\n",
    "$$\n",
    "\\delta T_{SP}\\ \\left[\\mathrm{W\\ m^{-2}\\ K^{-1}}\\right]\\overset{\\mathrm{def}}{=}\\int_{0}^{p_{s}}\\frac{dp}{g}\\left(\\frac{dT}{dt}\\right)-\\frac{\\mathrm{RAD}}{c_{p}}-\\frac{\\mathrm{SHF}}{c_{p}}-\\int_{0}^{p_{s}}\\frac{dp}{g}\\left(\\frac{dT_{KE}}{dt}\\right)\n",
    "$$\n",
    "where we have introduced the net radiative heating of the column:\n",
    "$$\n",
    "\\mathrm{RAD}\\overset{\\mathrm{def}}{=}\\mathrm{SW}_{t}-\\mathrm{SW}_{s}+\\mathrm{LW}_{s}-\\mathrm{LW}_{t}\n",
    "$$\n",
    "Physically, we have removed the following energetic contributions:\n",
    "- The net evaporation due to the latent heat flux from the column water vapor tendency,\n",
    "- The net radiative flux, the sensible heat flux and the column turbulent dissipation of kinetic energy from the column temperature tendency,\n",
    "- Nothing from the column liquid water tendency, since it is all due to conversion to vapor or ice.  \n",
    "  \n",
    "The next step is to calculate the total energy tendency due to precipitation/phase change by summing all of the components we have calculated before:\n",
    "$$\n",
    "\\delta E_{\\mathrm{SP}}\\ \\left[\\mathrm{W\\ m^{-2}}\\right]=c_{p}\\delta T_{SP}+L_{s}\\delta QV_{SP}+L_{f}\\delta QL_{SP}\n",
    "$$\n",
    "Note that:\n",
    "- Because the current setup of SPCAM does not resolve momentum transfer, we have left the change in kinetic energy out.\n",
    "- Because the reference state is ice (and not liquid as is often seen for the frozen moist static energy), the latent heat flux is multiplied by the ratio L_s/L_v>1 of the latent heat of sublimation to the latent heat of vaporization.  \n",
    "  \n",
    "The change from phase change/precipitation is a sum of two terms:\n",
    "  - An energy source from the net change from (liquid) to (ice) within the column \"SNOW\".\n",
    "  - An energy sink from the precipitation flux from the (atmopshere) to the (surface) \"P\".\n",
    "$$\n",
    "\\delta E_{\\mathrm{SP}}\\ \\left[\\mathrm{W\\ m^{-2}}\\right]=L_{f}\\left(SNOW+10^{-3}SNOW_{tend}-P-10^{-3}P_{tend}\\ \\left[\\mathrm{All\\ in\\ kg\\ m^{-2}\\ s^{-1}}\\right]\\right)\n",
    "$$  \n",
    "We work with the same non-dimensional variable as before, since all variables have been normalized in the output vector to have units W/m2. Additionally to:\n",
    "$$\n",
    "\\delta q_{v,i,l}\\left(p\\right)\\overset{\\mathrm{def}}{=}\\frac{L_{v}\\Delta p_{\\mathrm{norm}}}{g}\\frac{q_{v,i,l}^{a}\\left(p\\right)-q_{v,i,l}^{b}\\left(p\\right)}{\\Delta t}\n",
    "$$\n",
    "we now also introduce the level-by-level temperature tendency in units W/m2:\n",
    "$$\n",
    "\\delta T\\left(p\\right)\\overset{\\mathrm{def}}{=}\\frac{c_{p}\\Delta p_{\\mathrm{norm}}}{g}\\left(\\frac{dT}{dt}\\right)\\left(p\\right)\n",
    "$$\n",
    "  \n",
    "  The equations become:\n",
    "$$\n",
    "L_{v}\\cdot\\delta QV_{SP}\\ \\left[\\mathrm{W\\ m^{-2}}\\right]\\overset{\\mathrm{def}}{=}\\int_{0}^{\\widetilde{p_{s}}}d\\widetilde{p}\\cdot\\delta q_{v}-\\mathrm{LHF}\n",
    "$$\n",
    "$$\n",
    "L_{v}\\cdot\\delta QL_{SP}\\ \\left[\\mathrm{W\\ m^{-2}}\\right]\\overset{\\mathrm{def}}{=}\\int_{0}^{\\widetilde{p_{s}}}d\\widetilde{p}\\cdot\\delta q_{l}\n",
    "$$\n",
    "$$\n",
    "c_{p}\\cdot\\delta T_{SP}\\ \\left[\\mathrm{W\\ m^{-2}}\\right]\\overset{\\mathrm{def}}{=}\\int_{0}^{\\widetilde{p_{s}}}d\\widetilde{p}\\cdot\\delta T-\\mathrm{RAD}-\\mathrm{SHF}-\\int_{0}^{\\widetilde{p_{s}}}d\\widetilde{p}\\cdot\\delta T_{TKE}\n",
    "$$  \n",
    "  \n",
    "  We now isolate the temperature tendency at level 30 and write it as a residual of the energy budget using all the variables normalized to units W/m2:\n",
    "$$\n",
    "\\begin{aligned}\\Delta\\widetilde{p}_{30}\\cdot\\delta T_{30} & =\\frac{L_{f}}{L_{v}}\\left(L_{v}SNOW+10^{-3}L_{v}SNOW_{tend}-L_{v}P-10^{-3}L_{v}P_{tend}\\right)\\\\\n",
    " & +\\mathrm{RAD}+\\mathrm{SHF}+\\int_{0}^{\\widetilde{p_{s}}}d\\widetilde{p}\\cdot\\delta T_{TKE}\\\\\n",
    " & -\\frac{L_{s}}{L_{v}}\\left(\\int_{0}^{\\widetilde{p_{s}}}d\\widetilde{p}\\cdot\\delta q_{v}-\\mathrm{LHF}\\right)-\\frac{L_{f}}{L_{v}}\\int_{0}^{\\widetilde{p_{s}}}d\\widetilde{p}\\cdot\\delta q_{l}\\\\\n",
    " & -\\int_{0}^{\\widetilde{p_{30}}}d\\widetilde{p}\\cdot\\delta T\n",
    "\\end{aligned}\n",
    "$$"
   ]
  },
  {
   "cell_type": "code",
   "execution_count": 158,
   "metadata": {},
   "outputs": [],
   "source": [
    "# tgb - 2/5/2019 - Change to adapt to new input format\n",
    "class EntConsLay(Layer):\n",
    "    \n",
    "    def __init__(self, fsub, fdiv, normq, hyai, hybi, output_dim, **kwargs):\n",
    "        self.fsub = fsub # Subtraction for normalization of inputs \n",
    "        self.fdiv = fdiv # Division for normalization of inputs\n",
    "        self.normq = normq # Normalization of output's water concentration\n",
    "        self.hyai = hyai # CAM constants to calculate d_pressure\n",
    "        self.hybi = hybi # CAM constants to calculate d_pressure\n",
    "        self.output_dim = output_dim # Dimension of output\n",
    "        super().__init__(**kwargs)\n",
    "        \n",
    "    def build(self, input_shape):\n",
    "        super().build(input_shape)  # Be sure to call this somewhere!\n",
    "        \n",
    "    # tgb - 2/6/2019 - following https://github.com/keras-team/keras/issues/4871\n",
    "    def get_config(self):\n",
    "        config = {'fsub': list(self.fsub), 'fdiv': list(self.fdiv),\n",
    "                  'normq': list(self.normq), 'hyai': list(self.hyai),\n",
    "                  'hybi': list(self.hybi), 'output_dim': list(self.output_dim)}\n",
    "        base_config = super(MasConsLayer, self).get_config()\n",
    "        return dict(list(base_config.items()) + list(config.items()))\n",
    "        \n",
    "    def call(self, arrs):\n",
    "        # arrs (for arrays) is a list with \n",
    "        # [inputs=inp and the output of the previous layer=massout]\n",
    "        # inputs will be [n_sample, 304 = 30*10+4] with\n",
    "        # [QBP, QCBP, QIBP, TBP, VBP, Qdt_adiabatic, QCdt_adiabatic, QIdt_adiabatic,\n",
    "        # Tdt_adiabatic, Vdt_adiabatic, PS, SOLIN, SHFLX, LHFLX]\n",
    "        # outputs of the previous dense layer will be [n_samples, 157 = 30*5+8-1] with\n",
    "        # [DELQ, DELCLDLIQ, DELCLDICE, \n",
    "        # TPHYSTND\\{TPHYSTND AT LOWEST LVL}, DTVKE,\n",
    "        # FSNT, FSNS, FLNT, FLNS, PRECT, PRECTEND, PRECST, PRECSTEN]\n",
    "        \n",
    "        # Split between the inputs inp & the output of the densely connected\n",
    "        # neural network, massout\n",
    "        inp, massout = arrs\n",
    "        \n",
    "        # 0) Constants\n",
    "        G = 9.80616; # Reference gravity constant [m.s-2]\n",
    "        L_F = 3.337e5; # Latent heat of fusion of water [W.kg-1]\n",
    "        L_V = 2.501e6; # Latent heat of vaporization of water [W.kg-1]\n",
    "        P0 = 1e5; # Reference surface pressure [Pa]\n",
    "        \n",
    "        # 1) Get non-dimensional pressure differences (p_tilde above)\n",
    "        # In the input vector, PS is the 151st element after \n",
    "        # the first elements = [QBP, ..., VBP with shape 30*5=150]\n",
    "        PS = tfm.add( tfm.multiply( inp[:,300], self.fdiv[300]), self.fsub[300])\n",
    "        # Reference for calculation of d_pressure is cbrain/models.py (e.g. QLayer)\n",
    "        P = tfm.add( tfm.multiply( P0, self.hyai), \\\n",
    "                    tfm.multiply( PS[:,None], self.hybi))\n",
    "        dP = tfm.subtract( P[:, 1:], P[:, :-1])\n",
    "        # norm_output = dp_norm * L_V/G so dp_norm = norm_output * G/L_V\n",
    "        dP_NORM = tfm.divide( \\\n",
    "                             tfm.multiply(self.normq[:30], \\\n",
    "                                          G),\\\n",
    "                             L_V)\n",
    "        # dp_tilde = dp/dp_norm\n",
    "        dP_TILD = tfm.divide( dP, dP_NORM)\n",
    "        \n",
    "        # 2) Calculate net energy input from phase change and precipitation\n",
    "        # PHAS = Lf/Lv*((PRECST+PRECSTEN)-(PRECT+PRECTEND))\n",
    "        PHAS = tfm.divide( tfm.multiply( tfm.subtract(\\\n",
    "                                                      tfm.add( massout[:,155], massout[:,156]),\\\n",
    "                                                      tfm.add( massout[:,153], massout[:,154])),\\\n",
    "                                        L_F),\\\n",
    "                          L_V)\n",
    "        \n",
    "        # 3) Calculate net energy input from radiation, sensible heat flux and turbulent KE\n",
    "        # 3.1) RAD = FSNT-FSNS-FLNT+FLNS\n",
    "        RAD = tfm.add(\\\n",
    "                      tfm.subtract( massout[:,149], massout[:,150]),\\\n",
    "                      tfm.subtract( massout[:,152], massout[:,151]))\n",
    "        # 3.2) Unnormalize sensible heat flux\n",
    "        SHF = tfm.add( tfm.multiply( inp[:,302], self.fdiv[302]), self.fsub[302])\n",
    "        # 3.3) Net turbulent kinetic energy dissipative heating is the column-integrated \n",
    "        # turbulent kinetic energy energy dissipative heating\n",
    "        KEDVEC = tfm.multiply( dP_TILD, massout[:, 119:149])\n",
    "        KEDINT = tfm.reduce_sum( KEDVEC, axis=1)\n",
    "        \n",
    "        # 4) Calculate tendency of normalized column water vapor due to phase change\n",
    "        # 4.1) Unnormalize latent heat flux\n",
    "        LHF = tfm.add( tfm.multiply( inp[:,303], self.fdiv[303]), self.fsub[303])\n",
    "        # 4.2) Column water vapor is the column integral of specific humidity\n",
    "        PHQVEC = tfm.multiply( dP_TILD, massout[:, :30])\n",
    "        PHQINT = tfm.reduce_sum( PHQVEC, axis=1)\n",
    "        # 4.3) Multiply by L_S/L_V to normalize (explanation above)\n",
    "        SPDQINT = tfm.divide( tfm.multiply( tfm.subtract(\\\n",
    "                                                         PHQINT, LHF),\\\n",
    "                                           L_S),\\\n",
    "                             L_V)\n",
    "        \n",
    "        # 5) Same operation for liquid water tendency but multiplied by L_F/L_V\n",
    "        SPDQCINT = tfm.divide( tfm.multiply(\\\n",
    "                                            tfm.reduce_sum(\\\n",
    "                                                           tfm.multiply( dP_TILD, massout[:, 30:60]),\\\n",
    "                                                           axis=1),\\\n",
    "                                            L_F),\\\n",
    "                              L_V)\n",
    "        \n",
    "        # 6) Same operation for temperature but only integrate from level 1 to level 29\n",
    "        DTINT = tfm.reduce_sum( tfm.multiply( dP_TILD[:, :29], massout[:, 90:119]), axis=1)\n",
    "\n",
    "        # 7) Now calculate dT30 as a residual\n",
    "        dT30 = tfm.divide(tfm.add(tfm.add(tfm.add(tfm.add(tfm.add(tfm.add(\\\n",
    "                                                                          PHAS,RAD),\\\n",
    "                                                                  SHF),\\\n",
    "                                                          KEDINT),\\\n",
    "                                                  tfm.negative( SPDQINT)),\\\n",
    "                                          tfm.negative( SPDQCINT)),\\\n",
    "                                  tfm.negative( DTINT)),\\\n",
    "                          dP_TILD[:, 29])\n",
    "        dT30 = tf.expand_dims(dT30,1)\n",
    "\n",
    "        out = tf.concat([massout[:, :119], dT30, massout[:, 119:]], 1)\n",
    "        return out\n",
    "    \n",
    "    def compute_output_shape(self, input_shape):\n",
    "        return (input_shape[0][0], self.output_dim)\n",
    "    # and is ready to be used in the cost function"
   ]
  },
  {
   "cell_type": "markdown",
   "metadata": {},
   "source": [
    "#### Step 3: Implement custom loss function\n",
    "$$\n",
    "\\mathrm{Loss}\\left[\\mathrm{W^{2}.m^{-4}}\\right]=\\alpha\\cdot\\mathrm{MSE}+\\left(1-\\alpha\\right)\\left(\\mathrm{Enthalpy\\ residual}^{2}+\\mathrm{Mass\\ residual}^{2}\\right)\\ \\ |\\ \\ \\alpha\\in[0,1]\n",
    "$$\n",
    "tgb - 2/5/2019- Inspired from \n",
    "1) https://stackoverflow.com/questions/46858016/keras-custom-loss-function-to-pass-arguments-other-than-y-true-and-y-pred for the custom loss function  \n",
    "2) https://stackoverflow.com/questions/46464549/keras-custom-loss-function-accessing-current-input-pattern for using the inputs in the custom loss function\n",
    "Uses the function  massent_check as reference for the square Energy and mass residuals"
   ]
  },
  {
   "cell_type": "code",
   "execution_count": 17,
   "metadata": {},
   "outputs": [],
   "source": [
    "def customLoss(input_tensor,fsub,fdiv,normq,hyai,hybi,alpha = 0.5):\n",
    "\n",
    "        # tgb - 2/5/2019 - Loss function written above\n",
    "    def lossFunction(y_true,y_pred):    \n",
    "        loss = tfm.multiply(alpha, mse(y_true, y_pred))\n",
    "        loss += tfm.multiply(tfm.subtract(1.0,alpha), \\\n",
    "                            massent_res(input_tensor,y_pred,fsub,fdiv,normq,hyai,hybi))\n",
    "        return loss\n",
    "\n",
    "    # tgb - 2/5/2019 - Mass and enthalpy residual function\n",
    "    # Adapted from massent_check by converting numpy to tensorflow\n",
    "    def massent_res(x,y,fsub,fdiv,normq,hyai,hybi):\n",
    "\n",
    "        # 0) Constants\n",
    "        G = 9.80616; # Reference gravity constant [m.s-2]\n",
    "        L_F = 3.337e5; # Latent heat of fusion of water [W.kg-1]\n",
    "        L_V = 2.501e6; # Latent heat of vaporization of water [W.kg-1]\n",
    "        L_S = L_F+L_V; # Latent heat of sublimation of water [W.kg-1]\n",
    "        P0 = 1e5; # Reference surface pressure [Pa]   \n",
    "\n",
    "        # WATER&ENTHALPY) Get non-dimensional pressure differences (p_tilde above)\n",
    "        # In the input vector, PS is the 151st element after \n",
    "        # the first elements = [QBP, ..., VBP with shape 30*5=150]\n",
    "        PS = tfm.add( tfm.multiply( x[:,300], fdiv[300]), fsub[300])\n",
    "        # Reference for calculation of d_pressure is cbrain/models.py (e.g. QLayer)\n",
    "        P = tfm.add( tfm.multiply( P0, hyai), \\\n",
    "        tfm.multiply( PS[:,None], hybi))\n",
    "        dP = tfm.subtract( P[:, 1:], P[:, :-1])\n",
    "        # norm_output = dp_norm * L_V/G so dp_norm = norm_output * G/L_V\n",
    "        dP_NORM = tfm.divide( \\\n",
    "        tfm.multiply(normq[:30], \\\n",
    "                  G),\\\n",
    "        L_V)\n",
    "        # dp_tilde = dp/dp_norm\n",
    "        dP_TILD = tfm.divide( dP, dP_NORM)\n",
    "\n",
    "        # WATER.1) Calculate water vertical integral from level 1 to level 30\n",
    "        WATVEC = tfm.multiply( dP_TILD, tfm.add(tfm.add(y[:, :30],\\\n",
    "                                                        y[:, 30:60]),\\\n",
    "                                                y[:, 60:90]))\n",
    "        WATINT = tfm.reduce_sum( WATVEC, axis=1)\n",
    "\n",
    "        # WATER.2) Calculate forcing on the right-hand side (Net Evaporation-Precipitation)\n",
    "        # E-P is already normalized to units W.m-2 in the output vector\n",
    "        # so all we need to do is input-unnormalize LHF that is taken from the input vector\n",
    "        LHF = tfm.add( tfm.multiply( x[:,303], fdiv[303]), fsub[303])\n",
    "        # Note that total precipitation = PRECT + 1e-3*PRECTEND in the CAM model\n",
    "        # PRECTEND already multiplied by 1e-3 in output vector so no need to redo it\n",
    "        PREC = tfm.add( y[:, 154], y[:, 155])\n",
    "\n",
    "        # WATER.FINAL) Residual = E-P-DWATER/DT\n",
    "        WATRES = tfm.add(tfm.add(LHF,\\\n",
    "                                 tfm.negative(PREC)),\\\n",
    "                         tfm.negative(WATINT))\n",
    "\n",
    "        # ENTHALPY.1) Calculate net energy input from phase change and precipitation\n",
    "        # PHAS = Lf/Lv*((PRECST+PRECSTEN)-(PRECT+PRECTEND))\n",
    "        PHAS = tfm.divide( tfm.multiply( tfm.subtract(\\\n",
    "                                              tfm.add( y[:,156], y[:,157]),\\\n",
    "                                              tfm.add( y[:,154], y[:,155])),\\\n",
    "                                      L_F),\\\n",
    "                         L_V)\n",
    "\n",
    "        # ENTHALPY.2) Calculate net energy input from radiation, sensible heat flux and turbulent KE\n",
    "        # 2.1) RAD = FSNT-FSNS-FLNT+FLNS\n",
    "        RAD = tfm.add(\\\n",
    "                      tfm.subtract( y[:,150], y[:,151]),\\\n",
    "                      tfm.subtract( y[:,153], y[:,152]))\n",
    "        # 2.2) Unnormalize sensible heat flux\n",
    "        SHF = tfm.add( tfm.multiply( x[:,302], fdiv[302]), fsub[302])\n",
    "        # 2.3) Net turbulent kinetic energy dissipative heating is the column-integrated \n",
    "        # turbulent kinetic energy energy dissipative heating\n",
    "        KEDVEC = tfm.multiply( dP_TILD, y[:, 120:150])\n",
    "        KEDINT = tfm.reduce_sum( KEDVEC, axis=1)\n",
    "\n",
    "        # ENTHALPY.3) Calculate tendency of normalized column water vapor due to phase change\n",
    "        # 3.1) Column water vapor is the column integral of specific humidity\n",
    "        PHQVEC = tfm.multiply( dP_TILD, y[:, :30])\n",
    "        PHQINT = tfm.reduce_sum( PHQVEC, axis=1)\n",
    "        # 3.2) Multiply by L_S/L_V to normalize (explanation above)\n",
    "        SPDQINT = tfm.divide( tfm.multiply( tfm.subtract(\\\n",
    "                                                     PHQINT, LHF),\\\n",
    "                                        L_S),\\\n",
    "                           L_V)\n",
    "\n",
    "        # ENTHALPY.4) Same operation for liquid water tendency but multiplied by L_F/L_V\n",
    "        SPDQCINT = tfm.divide( tfm.multiply(\\\n",
    "                                      tfm.reduce_sum(\\\n",
    "                                             tfm.multiply( dP_TILD, y[:, 30:60]),\\\n",
    "                                             axis=1),\\\n",
    "                                      L_F),\\\n",
    "                         L_V)\n",
    "\n",
    "        # ENTHALPY.5) Same operation for temperature tendency\n",
    "        DTINT = tfm.reduce_sum( tfm.multiply( dP_TILD[:, :30], y[:, 90:120]), axis=1)\n",
    "\n",
    "        # ENTHALPY.FINAL) Residual = SPDQ+SPDQC+DTINT-RAD-SHF-PHAS\n",
    "        ENTRES = tfm.add(tfm.add(tfm.add(tfm.add(tfm.add(tfm.add(SPDQINT,\\\n",
    "                                                                 SPDQCINT),\\\n",
    "                                                         DTINT),\\\n",
    "                                                 tfm.negative(RAD)),\\\n",
    "                                         tfm.negative(SHF)),\\\n",
    "                                 tfm.negative(PHAS)),\\\n",
    "                         tfm.negative(KEDINT))\n",
    "        # Return sum of water and enthalpy square residuals\n",
    "        return tfm.add( tfm.square(WATRES), tfm.square(ENTRES))\n",
    "\n",
    "    return lossFunction"
   ]
  },
  {
   "cell_type": "markdown",
   "metadata": {},
   "source": [
    "#### Step 4: Formulate mass/energy conserving model, and unconstrained model\n",
    "We start with inputs [QBP, QCBP, QIBP, TBP, VBP, Qdt_adiabatic, QCdt_adiabatic, QIdt_adiabatic, Tdt_adiabatic, Vdt_adiabatic, PS, SOLIN, SHFLX, LHFLX] of shape 304.  \n",
    "We then have a few dense layers with size proportional to a power of 2\n",
    "  \n",
    "For now, there is no other \"physically-constraining\" layers than  \n",
    "the mass+energy conservation layers which take input of shape 156  \n",
    "  \n",
    "After mass layer outputs vector of shape 157  \n",
    "After energy layer outputs final vector of shape 158  \n",
    "i.e. [PHQ, PHCLDLIQ, PHCLDICE, TPHYSTND, DTVKE, FSNT, FSNS, FLNT, FLNS, PRECT, PRECTEND, PRECST, PRECSTEN]"
   ]
  },
  {
   "cell_type": "code",
   "execution_count": 25,
   "metadata": {},
   "outputs": [],
   "source": [
    "# Conservative model with 5 dense layers\n",
    "inp = Input(shape=(304,))\n",
    "densout = Dense(512, activation='relu')(inp)\n",
    "for i in range (4):\n",
    "    densout = Dense(512, activation='relu')(densout)\n",
    "densout = Dense(156, activation='relu')(densout)    \n",
    "massout = MasConsLay(\n",
    "    input_shape=(156,), fsub=fsub, fdiv=fdiv, normq=normq,\\\n",
    "    hyai=hyai, hybi=hybi, output_dim = 157\n",
    ")([inp, densout])\n",
    "out = EntConsLay(\n",
    "    input_shape=(157,), fsub=fsub, fdiv=fdiv, normq=normq,\\\n",
    "    hyai=hyai, hybi=hybi, output_dim = 158\n",
    ")([inp, massout])\n",
    "mod_cons_5dens = Model(inputs=inp, outputs=out)"
   ]
  },
  {
   "cell_type": "code",
   "execution_count": 26,
   "metadata": {},
   "outputs": [],
   "source": [
    "# Same model, unconstrained\n",
    "inp = Input(shape=(304,))\n",
    "densout = Dense(512, activation='relu')(inp)\n",
    "for i in range (4):\n",
    "    densout = Dense(512, activation='relu')(densout)\n",
    "out = Dense(158, activation='relu')(densout)    \n",
    "mod_uncons_5dens = Model(inputs=inp, outputs=out)"
   ]
  },
  {
   "cell_type": "code",
   "execution_count": 27,
   "metadata": {},
   "outputs": [],
   "source": [
    "# Using a Lagrange multipler in the loss function\n",
    "# alpha = 0.5 (equal contrib from MSE and residual)\n",
    "inp05 = Input(shape=(304,))\n",
    "densout = Dense(512, activation='relu')(inp05)\n",
    "for i in range (4):\n",
    "    densout = Dense(512, activation='relu')(densout)\n",
    "out = Dense(158, activation='relu')(densout)    \n",
    "mod_lagr05_5dens = Model(inputs=inp05, outputs=out)"
   ]
  },
  {
   "cell_type": "code",
   "execution_count": 28,
   "metadata": {},
   "outputs": [],
   "source": [
    "# alpha = 0.01 (mostly residual)\n",
    "inp001 = Input(shape=(304,))\n",
    "densout = Dense(512, activation='relu')(inp001)\n",
    "for i in range (4):\n",
    "    densout = Dense(512, activation='relu')(densout)\n",
    "out = Dense(158, activation='relu')(densout)    \n",
    "mod_lagr001_5dens = Model(inputs=inp001, outputs=out)"
   ]
  },
  {
   "cell_type": "code",
   "execution_count": 29,
   "metadata": {},
   "outputs": [],
   "source": [
    "# alpha = 0.99 (mostly mse)\n",
    "inp099 = Input(shape=(304,))\n",
    "densout = Dense(512, activation='relu')(inp099)\n",
    "for i in range (4):\n",
    "    densout = Dense(512, activation='relu')(densout)\n",
    "out = Dense(158, activation='relu')(densout)    \n",
    "mod_lagr099_5dens = Model(inputs=inp099, outputs=out)"
   ]
  },
  {
   "cell_type": "code",
   "execution_count": 136,
   "metadata": {},
   "outputs": [],
   "source": [
    "# USING ELU instead of RELU\n",
    "# Conservative model with 5 dense layers\n",
    "inp = Input(shape=(304,))\n",
    "densout = Dense(512, activation='elu')(inp)\n",
    "for i in range (4):\n",
    "    densout = Dense(512, activation='elu')(densout)\n",
    "densout = Dense(156, activation='elu')(densout)    \n",
    "massout = MasConsLay(\n",
    "    input_shape=(156,), fsub=fsub, fdiv=fdiv, normq=normq,\\\n",
    "    hyai=hyai, hybi=hybi, output_dim = 157\n",
    ")([inp, densout])\n",
    "out = EntConsLay(\n",
    "    input_shape=(157,), fsub=fsub, fdiv=fdiv, normq=normq,\\\n",
    "    hyai=hyai, hybi=hybi, output_dim = 158\n",
    ")([inp, massout])\n",
    "elu_cons_5dens = Model(inputs=inp, outputs=out)"
   ]
  },
  {
   "cell_type": "markdown",
   "metadata": {},
   "source": [
    "tgb - 2/6/2019 - Added the leaky ReLU using the following issue:  \n",
    "https://github.com/keras-team/keras/issues/117  "
   ]
  },
  {
   "cell_type": "code",
   "execution_count": 140,
   "metadata": {},
   "outputs": [],
   "source": [
    "# Using LeakyRELU instead of RELU\n",
    "# Conservative model with 5 dense layers\n",
    "inp = Input(shape=(304,))\n",
    "densout = Dense(512, activation='linear')(inp)\n",
    "densout = LeakyReLU(alpha=0.3)(densout)\n",
    "for i in range (4):\n",
    "    densout = Dense(512, activation='linear')(densout)\n",
    "    densout = LeakyReLU(alpha=0.3)(densout)\n",
    "densout = Dense(156, activation='linear')(densout)\n",
    "densout = LeakyReLU(alpha=0.3)(densout)\n",
    "massout = MasConsLay(\n",
    "    input_shape=(156,), fsub=fsub, fdiv=fdiv, normq=normq,\\\n",
    "    hyai=hyai, hybi=hybi, output_dim = 157\n",
    ")([inp, densout])\n",
    "out = EntConsLay(\n",
    "    input_shape=(157,), fsub=fsub, fdiv=fdiv, normq=normq,\\\n",
    "    hyai=hyai, hybi=hybi, output_dim = 158\n",
    ")([inp, massout])\n",
    "lru_cons_5dens = Model(inputs=inp, outputs=out)"
   ]
  },
  {
   "cell_type": "markdown",
   "metadata": {},
   "source": [
    "tgb - 2/6/2019 - It really looks like LeakyReLU (for now with alpha=0.3) is the best activation function by far to minimize the MSE. So we'll:  \n",
    "(1) Play with the optimizer using this one.  \n",
    "(2) Re-write all other networks using LeakyReLU"
   ]
  },
  {
   "cell_type": "code",
   "execution_count": 159,
   "metadata": {},
   "outputs": [],
   "source": [
    "# Playing with the optmizer\n",
    "inp = Input(shape=(304,))\n",
    "densout = Dense(512, activation='linear')(inp)\n",
    "densout = LeakyReLU(alpha=0.3)(densout)\n",
    "for i in range (4):\n",
    "    densout = Dense(512, activation='linear')(densout)\n",
    "    densout = LeakyReLU(alpha=0.3)(densout)\n",
    "densout = Dense(156, activation='linear')(densout)\n",
    "densout = LeakyReLU(alpha=0.3)(densout)\n",
    "massout = MasConsLay(\n",
    "    input_shape=(156,), fsub=fsub, fdiv=fdiv, normq=normq,\\\n",
    "    hyai=hyai, hybi=hybi, output_dim = 157\n",
    ")([inp, densout])\n",
    "out = EntConsLay(\n",
    "    input_shape=(157,), fsub=fsub, fdiv=fdiv, normq=normq,\\\n",
    "    hyai=hyai, hybi=hybi, output_dim = 158\n",
    ")([inp, massout])\n",
    "adam_cons_5dens = Model(inputs=inp, outputs=out)\n",
    "rmsp_cons_5dens = Model(inputs=inp, outputs=out)"
   ]
  },
  {
   "cell_type": "markdown",
   "metadata": {},
   "source": [
    "tgb - 2/5/2019 - Here, I compile the standard models with .compile(optimizer,loss)  \n",
    "or the model with custom loss function with .compile(loss=custom_loss_wrapper(input_tensor), optimizer=XX)  \n",
    "See  https://stackoverflow.com/questions/46464549/keras-custom-loss-function-accessing-current-input-pattern for more information."
   ]
  },
  {
   "cell_type": "code",
   "execution_count": 30,
   "metadata": {},
   "outputs": [],
   "source": [
    "mod_lagr05_5dens.compile(loss=customLoss(inp05,fsub,fdiv,normq,hyai,hybi,alpha = 0.5),\\\n",
    "                       optimizer='adadelta')\n",
    "mod_lagr001_5dens.compile(loss=customLoss(inp001,fsub,fdiv,normq,hyai,hybi,alpha = 0.01),\\\n",
    "                       optimizer='adadelta')\n",
    "mod_lagr099_5dens.compile(loss=customLoss(inp099,fsub,fdiv,normq,hyai,hybi,alpha = 0.99),\\\n",
    "                       optimizer='adadelta')\n",
    "mod_uncons_5dens.compile('adadelta','mse')\n",
    "mod_cons_5dens.compile('adadelta','mse')\n",
    "#mod_uncons_5dens.compile('adadelta','mse') # careful, apparently compile does NOT reset weights and biases\n",
    "# See https://stackoverflow.com/questions/47995324/does-model-compile-initialize-all-the-weights-and-biases-in-keras-tensorflow"
   ]
  },
  {
   "cell_type": "code",
   "execution_count": 160,
   "metadata": {},
   "outputs": [],
   "source": [
    "#lru_cons_5dens.compile('adam','mse')\n",
    "adam_cons_5dens.compile('adam','mse')\n",
    "rmsp_cons_5dens.compile('rmsprop','mse')"
   ]
  },
  {
   "cell_type": "code",
   "execution_count": 31,
   "metadata": {},
   "outputs": [
    {
     "name": "stdout",
     "output_type": "stream",
     "text": [
      "_________________________________________________________________\n",
      "Layer (type)                 Output Shape              Param #   \n",
      "=================================================================\n",
      "input_10 (InputLayer)        (None, 304)               0         \n",
      "_________________________________________________________________\n",
      "dense_55 (Dense)             (None, 512)               156160    \n",
      "_________________________________________________________________\n",
      "dense_56 (Dense)             (None, 512)               262656    \n",
      "_________________________________________________________________\n",
      "dense_57 (Dense)             (None, 512)               262656    \n",
      "_________________________________________________________________\n",
      "dense_58 (Dense)             (None, 512)               262656    \n",
      "_________________________________________________________________\n",
      "dense_59 (Dense)             (None, 512)               262656    \n",
      "_________________________________________________________________\n",
      "dense_60 (Dense)             (None, 158)               81054     \n",
      "=================================================================\n",
      "Total params: 1,287,838\n",
      "Trainable params: 1,287,838\n",
      "Non-trainable params: 0\n",
      "_________________________________________________________________\n"
     ]
    }
   ],
   "source": [
    "mod_lagr099_5dens.summary()"
   ]
  },
  {
   "cell_type": "code",
   "execution_count": 32,
   "metadata": {},
   "outputs": [
    {
     "name": "stdout",
     "output_type": "stream",
     "text": [
      "Epoch 1/20\n",
      "18240/18240 [==============================] - 118s 6ms/step - loss: 371.3804 - val_loss: 326.6218\n",
      "Epoch 2/20\n",
      "18240/18240 [==============================] - 117s 6ms/step - loss: 349.1694 - val_loss: 323.1239\n",
      "Epoch 3/20\n",
      "18240/18240 [==============================] - 118s 6ms/step - loss: 346.4878 - val_loss: 320.4665\n",
      "Epoch 4/20\n",
      "18240/18240 [==============================] - 118s 6ms/step - loss: 344.9574 - val_loss: 319.7903\n",
      "Epoch 5/20\n",
      "18240/18240 [==============================] - 117s 6ms/step - loss: 343.5766 - val_loss: 319.2748\n",
      "Epoch 6/20\n",
      "18240/18240 [==============================] - 117s 6ms/step - loss: 342.9424 - val_loss: 319.5158\n",
      "Epoch 7/20\n",
      "18240/18240 [==============================] - 118s 6ms/step - loss: 342.4227 - val_loss: 318.3023\n",
      "Epoch 8/20\n",
      "18240/18240 [==============================] - 117s 6ms/step - loss: 341.9585 - val_loss: 316.8653\n",
      "Epoch 9/20\n",
      "18240/18240 [==============================] - 118s 6ms/step - loss: 341.5304 - val_loss: 317.0472\n",
      "Epoch 10/20\n",
      "18240/18240 [==============================] - 120s 7ms/step - loss: 341.1777 - val_loss: 317.0684\n",
      "Epoch 11/20\n",
      "18240/18240 [==============================] - 117s 6ms/step - loss: 340.8658 - val_loss: 316.5338\n",
      "Epoch 12/20\n",
      "18240/18240 [==============================] - 117s 6ms/step - loss: 340.5475 - val_loss: 316.3627\n",
      "Epoch 13/20\n",
      "18240/18240 [==============================] - 118s 6ms/step - loss: 340.3068 - val_loss: 316.1230\n",
      "Epoch 14/20\n",
      "18240/18240 [==============================] - 117s 6ms/step - loss: 340.0877 - val_loss: 315.7167\n",
      "Epoch 15/20\n",
      "18240/18240 [==============================] - 118s 6ms/step - loss: 339.8705 - val_loss: 315.6883\n",
      "Epoch 16/20\n",
      "18240/18240 [==============================] - 118s 6ms/step - loss: 339.6400 - val_loss: 315.5932\n",
      "Epoch 17/20\n",
      "18240/18240 [==============================] - 118s 6ms/step - loss: 339.4279 - val_loss: 315.9945\n",
      "Epoch 18/20\n",
      "18240/18240 [==============================] - 118s 6ms/step - loss: 339.2514 - val_loss: 316.6346\n",
      "Epoch 19/20\n",
      "18240/18240 [==============================] - 117s 6ms/step - loss: 339.1466 - val_loss: 315.3730\n",
      "Epoch 20/20\n",
      "18240/18240 [==============================] - 118s 6ms/step - loss: 338.9885 - val_loss: 315.8269\n",
      "Epoch 1/20\n",
      "18240/18240 [==============================] - 91s 5ms/step - loss: 218.3183 - val_loss: 182.3598\n",
      "Epoch 2/20\n",
      "18240/18240 [==============================] - 91s 5ms/step - loss: 189.0166 - val_loss: 177.0783\n",
      "Epoch 3/20\n",
      "18240/18240 [==============================] - 91s 5ms/step - loss: 185.3710 - val_loss: 174.7872\n",
      "Epoch 4/20\n",
      "18240/18240 [==============================] - 91s 5ms/step - loss: 183.5318 - val_loss: 174.6504\n",
      "Epoch 5/20\n",
      "18240/18240 [==============================] - 91s 5ms/step - loss: 181.7927 - val_loss: 173.5936\n",
      "Epoch 6/20\n",
      "18240/18240 [==============================] - 91s 5ms/step - loss: 180.7752 - val_loss: 172.8369\n",
      "Epoch 7/20\n",
      "18240/18240 [==============================] - 91s 5ms/step - loss: 180.0487 - val_loss: 172.6547\n",
      "Epoch 8/20\n",
      "18240/18240 [==============================] - 91s 5ms/step - loss: 179.4178 - val_loss: 172.5908\n",
      "Epoch 9/20\n",
      "18240/18240 [==============================] - 91s 5ms/step - loss: 178.8423 - val_loss: 172.0265\n",
      "Epoch 10/20\n",
      "18240/18240 [==============================] - 91s 5ms/step - loss: 178.2754 - val_loss: 171.9821\n",
      "Epoch 11/20\n",
      "18240/18240 [==============================] - 91s 5ms/step - loss: 177.8417 - val_loss: 171.9564\n",
      "Epoch 12/20\n",
      "18240/18240 [==============================] - 91s 5ms/step - loss: 177.4573 - val_loss: 172.0099\n",
      "Epoch 13/20\n",
      "18240/18240 [==============================] - 91s 5ms/step - loss: 177.0544 - val_loss: 171.2877\n",
      "Epoch 14/20\n",
      "18240/18240 [==============================] - 91s 5ms/step - loss: 176.6799 - val_loss: 172.0114\n",
      "Epoch 15/20\n",
      "18240/18240 [==============================] - 91s 5ms/step - loss: 176.3042 - val_loss: 172.1698\n",
      "Epoch 16/20\n",
      "18240/18240 [==============================] - 91s 5ms/step - loss: 175.8943 - val_loss: 171.3561\n",
      "Epoch 17/20\n",
      "18240/18240 [==============================] - 91s 5ms/step - loss: 175.4886 - val_loss: 171.3120\n",
      "Epoch 18/20\n",
      "18240/18240 [==============================] - 91s 5ms/step - loss: 175.1318 - val_loss: 170.8243\n",
      "Epoch 19/20\n",
      "18240/18240 [==============================] - 91s 5ms/step - loss: 174.7959 - val_loss: 170.9330\n",
      "Epoch 20/20\n",
      "18240/18240 [==============================] - 91s 5ms/step - loss: 174.4292 - val_loss: 171.0592\n",
      "Epoch 1/20\n",
      "18240/18240 [==============================] - 114s 6ms/step - loss: 218.7532 - val_loss: 51.9168\n",
      "Epoch 2/20\n",
      "18240/18240 [==============================] - 114s 6ms/step - loss: 52.2296 - val_loss: 41.7626\n",
      "Epoch 3/20\n",
      "18240/18240 [==============================] - 114s 6ms/step - loss: 45.7707 - val_loss: 38.3004\n",
      "Epoch 4/20\n",
      "18240/18240 [==============================] - 114s 6ms/step - loss: 42.3982 - val_loss: 33.9257\n",
      "Epoch 5/20\n",
      "18240/18240 [==============================] - 114s 6ms/step - loss: 38.3360 - val_loss: 32.0882\n",
      "Epoch 6/20\n",
      "18240/18240 [==============================] - 114s 6ms/step - loss: 34.7863 - val_loss: 31.5112\n",
      "Epoch 7/20\n",
      "18240/18240 [==============================] - 114s 6ms/step - loss: 32.0967 - val_loss: 27.1133\n",
      "Epoch 8/20\n",
      "18240/18240 [==============================] - 114s 6ms/step - loss: 30.1765 - val_loss: 25.9379\n",
      "Epoch 9/20\n",
      "18240/18240 [==============================] - 114s 6ms/step - loss: 28.5092 - val_loss: 23.0968\n",
      "Epoch 10/20\n",
      "18240/18240 [==============================] - 114s 6ms/step - loss: 27.1742 - val_loss: 22.7132\n",
      "Epoch 11/20\n",
      "18240/18240 [==============================] - 114s 6ms/step - loss: 25.9465 - val_loss: 21.0803\n",
      "Epoch 12/20\n",
      "18240/18240 [==============================] - 114s 6ms/step - loss: 24.6693 - val_loss: 22.4101\n",
      "Epoch 13/20\n",
      "18240/18240 [==============================] - 114s 6ms/step - loss: 23.5950 - val_loss: 19.8912\n",
      "Epoch 14/20\n",
      "18240/18240 [==============================] - 114s 6ms/step - loss: 22.8194 - val_loss: 21.1911\n",
      "Epoch 15/20\n",
      "18240/18240 [==============================] - 114s 6ms/step - loss: 22.1663 - val_loss: 18.9333\n",
      "Epoch 16/20\n",
      "18240/18240 [==============================] - 114s 6ms/step - loss: 21.5699 - val_loss: 18.8499\n",
      "Epoch 17/20\n",
      "18240/18240 [==============================] - 114s 6ms/step - loss: 21.1892 - val_loss: 18.7498\n",
      "Epoch 18/20\n",
      "18240/18240 [==============================] - 114s 6ms/step - loss: 20.7260 - val_loss: 16.8108\n",
      "Epoch 19/20\n",
      "18240/18240 [==============================] - 114s 6ms/step - loss: 20.3524 - val_loss: 18.6866\n",
      "Epoch 20/20\n",
      "18240/18240 [==============================] - 114s 6ms/step - loss: 19.9553 - val_loss: 18.1564\n",
      "Epoch 1/20\n",
      "18240/18240 [==============================] - 115s 6ms/step - loss: 998.3435 - val_loss: 817.6002\n",
      "Epoch 2/20\n",
      "18240/18240 [==============================] - 114s 6ms/step - loss: 568.2129 - val_loss: 273.2584\n",
      "Epoch 3/20\n",
      "18240/18240 [==============================] - 114s 6ms/step - loss: 290.0574 - val_loss: 267.5105\n",
      "Epoch 4/20\n",
      "18240/18240 [==============================] - 114s 6ms/step - loss: 285.4524 - val_loss: 265.4720\n",
      "Epoch 5/20\n",
      "18240/18240 [==============================] - 114s 6ms/step - loss: 282.9003 - val_loss: 259.0758\n",
      "Epoch 6/20\n",
      "18240/18240 [==============================] - 114s 6ms/step - loss: 281.1417 - val_loss: 260.6352\n",
      "Epoch 7/20\n",
      "18240/18240 [==============================] - 114s 6ms/step - loss: 279.9130 - val_loss: 257.3307\n",
      "Epoch 8/20\n",
      "18240/18240 [==============================] - 115s 6ms/step - loss: 278.9312 - val_loss: 254.3535\n",
      "Epoch 9/20\n",
      "18240/18240 [==============================] - 114s 6ms/step - loss: 277.5932 - val_loss: 254.8938\n",
      "Epoch 10/20\n",
      "18240/18240 [==============================] - 114s 6ms/step - loss: 275.6298 - val_loss: 255.8087\n",
      "Epoch 11/20\n",
      "18240/18240 [==============================] - 114s 6ms/step - loss: 274.7380 - val_loss: 252.5416\n",
      "Epoch 12/20\n",
      "18240/18240 [==============================] - 114s 6ms/step - loss: 273.9672 - val_loss: 251.9316\n",
      "Epoch 13/20\n",
      "18240/18240 [==============================] - 114s 6ms/step - loss: 273.3516 - val_loss: 253.7289\n",
      "Epoch 14/20\n",
      "18240/18240 [==============================] - 114s 6ms/step - loss: 272.7720 - val_loss: 252.3568\n",
      "Epoch 15/20\n"
     ]
    },
    {
     "name": "stdout",
     "output_type": "stream",
     "text": [
      "18240/18240 [==============================] - 114s 6ms/step - loss: 272.3364 - val_loss: 251.9014\n",
      "Epoch 16/20\n",
      "18240/18240 [==============================] - 114s 6ms/step - loss: 271.8901 - val_loss: 251.0177\n",
      "Epoch 17/20\n",
      "18240/18240 [==============================] - 114s 6ms/step - loss: 271.3072 - val_loss: 250.3921\n",
      "Epoch 18/20\n",
      "18240/18240 [==============================] - 114s 6ms/step - loss: 270.9941 - val_loss: 249.5839\n",
      "Epoch 19/20\n",
      "18240/18240 [==============================] - 114s 6ms/step - loss: 268.8478 - val_loss: 245.9416\n",
      "Epoch 20/20\n",
      "18240/18240 [==============================] - 114s 6ms/step - loss: 266.0636 - val_loss: 247.5881\n",
      "Epoch 1/20\n",
      "18240/18240 [==============================] - 115s 6ms/step - loss: 415.2588 - val_loss: 358.4284\n",
      "Epoch 2/20\n",
      "18240/18240 [==============================] - 114s 6ms/step - loss: 387.8688 - val_loss: 355.3531\n",
      "Epoch 3/20\n",
      "18240/18240 [==============================] - 114s 6ms/step - loss: 385.0520 - val_loss: 349.8266\n",
      "Epoch 4/20\n",
      "18240/18240 [==============================] - 114s 6ms/step - loss: 380.3924 - val_loss: 349.1407\n",
      "Epoch 5/20\n",
      "18240/18240 [==============================] - 114s 6ms/step - loss: 379.4559 - val_loss: 348.3319\n",
      "Epoch 6/20\n",
      "18240/18240 [==============================] - 114s 6ms/step - loss: 378.7420 - val_loss: 347.9760\n",
      "Epoch 7/20\n",
      "18240/18240 [==============================] - 114s 6ms/step - loss: 378.2240 - val_loss: 348.0740\n",
      "Epoch 8/20\n",
      "18240/18240 [==============================] - 114s 6ms/step - loss: 377.7870 - val_loss: 347.6101\n",
      "Epoch 9/20\n",
      "18240/18240 [==============================] - 114s 6ms/step - loss: 377.3390 - val_loss: 347.2977\n",
      "Epoch 10/20\n",
      "18240/18240 [==============================] - 114s 6ms/step - loss: 376.9962 - val_loss: 347.0156\n",
      "Epoch 11/20\n",
      "18240/18240 [==============================] - 114s 6ms/step - loss: 376.7112 - val_loss: 346.8841\n",
      "Epoch 12/20\n",
      "18240/18240 [==============================] - 114s 6ms/step - loss: 376.4889 - val_loss: 347.1322\n",
      "Epoch 13/20\n",
      "18240/18240 [==============================] - 114s 6ms/step - loss: 376.2550 - val_loss: 346.8333\n",
      "Epoch 14/20\n",
      "18240/18240 [==============================] - 114s 6ms/step - loss: 376.0154 - val_loss: 347.2553\n",
      "Epoch 15/20\n",
      "18240/18240 [==============================] - 114s 6ms/step - loss: 375.8104 - val_loss: 347.5742\n",
      "Epoch 16/20\n",
      "18240/18240 [==============================] - 114s 6ms/step - loss: 375.6581 - val_loss: 346.7538\n",
      "Epoch 17/20\n",
      "18240/18240 [==============================] - 114s 6ms/step - loss: 375.4379 - val_loss: 346.4515\n",
      "Epoch 18/20\n",
      "18240/18240 [==============================] - 114s 6ms/step - loss: 375.2008 - val_loss: 346.6881\n",
      "Epoch 19/20\n",
      "18240/18240 [==============================] - 114s 6ms/step - loss: 375.0253 - val_loss: 347.1702\n",
      "Epoch 20/20\n",
      "18240/18240 [==============================] - 114s 6ms/step - loss: 374.8802 - val_loss: 347.0640\n"
     ]
    }
   ],
   "source": [
    "hist_cons_5dens = mod_cons_5dens.fit_generator(gen, train_gen_obj.n_batches, epochs=20, \\\n",
    "                     validation_data=validgen, validation_steps= valid_gen_obj.n_batches)\n",
    "hist_uncons_5dens = mod_uncons_5dens.fit_generator(gen, train_gen_obj.n_batches, epochs=20, \\\n",
    "                     validation_data=validgen, validation_steps= valid_gen_obj.n_batches)\n",
    "hist_lagr001_5dens = mod_lagr001_5dens.fit_generator(gen, train_gen_obj.n_batches, epochs=20, \\\n",
    "                     validation_data=validgen, validation_steps= valid_gen_obj.n_batches)\n",
    "hist_lagr05_5dens = mod_lagr05_5dens.fit_generator(gen, train_gen_obj.n_batches, epochs=20, \\\n",
    "                     validation_data=validgen, validation_steps= valid_gen_obj.n_batches)\n",
    "hist_lagr099_5dens = mod_lagr099_5dens.fit_generator(gen, train_gen_obj.n_batches, epochs=20, \\\n",
    "                     validation_data=validgen, validation_steps= valid_gen_obj.n_batches)"
   ]
  },
  {
   "cell_type": "code",
   "execution_count": 138,
   "metadata": {},
   "outputs": [
    {
     "name": "stdout",
     "output_type": "stream",
     "text": [
      "Epoch 1/20\n",
      "18240/18240 [==============================] - 121s 7ms/step - loss: 336.0688 - val_loss: 296.3247\n",
      "Epoch 2/20\n",
      "18240/18240 [==============================] - 120s 7ms/step - loss: 323.7683 - val_loss: 4825.6380\n",
      "Epoch 3/20\n",
      "18240/18240 [==============================] - 120s 7ms/step - loss: 3513402.9420 - val_loss: 249521.3613\n",
      "Epoch 4/20\n",
      "18240/18240 [==============================] - 120s 7ms/step - loss: 9099521.8309 - val_loss: 1026.3550\n",
      "Epoch 5/20\n",
      "18240/18240 [==============================] - 120s 7ms/step - loss: 4348890.6503 - val_loss: 66898.1627\n",
      "Epoch 6/20\n",
      "18240/18240 [==============================] - 120s 7ms/step - loss: 12398213.6755 - val_loss: 776569.5652\n",
      "Epoch 7/20\n",
      "18240/18240 [==============================] - 120s 7ms/step - loss: 1885788.1738 - val_loss: 28543841.1049\n",
      "Epoch 8/20\n",
      "18240/18240 [==============================] - 120s 7ms/step - loss: 9232902.0532 - val_loss: 453502.1447\n",
      "Epoch 9/20\n",
      "18240/18240 [==============================] - 120s 7ms/step - loss: 2680327.0425 - val_loss: 2273168.2878\n",
      "Epoch 10/20\n",
      "18240/18240 [==============================] - 120s 7ms/step - loss: 1709920.0244 - val_loss: 1079.2892\n",
      "Epoch 11/20\n",
      "18240/18240 [==============================] - 120s 7ms/step - loss: 4796615.9038 - val_loss: 2222.4436\n",
      "Epoch 12/20\n",
      "18240/18240 [==============================] - 120s 7ms/step - loss: 2681719.9998 - val_loss: 220255.3103\n",
      "Epoch 13/20\n",
      "18240/18240 [==============================] - 120s 7ms/step - loss: 444597.5624 - val_loss: 35795911.7784\n",
      "Epoch 14/20\n",
      "18240/18240 [==============================] - 120s 7ms/step - loss: 6571935.0741 - val_loss: 6109942.0553\n",
      "Epoch 15/20\n",
      "18240/18240 [==============================] - 120s 7ms/step - loss: 29656610.5954 - val_loss: 2013141.3405\n",
      "Epoch 16/20\n",
      "18240/18240 [==============================] - 120s 7ms/step - loss: 8807160.0480 - val_loss: 277578.1424\n",
      "Epoch 17/20\n",
      "18240/18240 [==============================] - 120s 7ms/step - loss: 28720605.2059 - val_loss: 4397054.3419\n",
      "Epoch 18/20\n",
      "18240/18240 [==============================] - 120s 7ms/step - loss: 8689388.7740 - val_loss: 25718893.5175\n",
      "Epoch 19/20\n",
      "18240/18240 [==============================] - 120s 7ms/step - loss: 35075400.8750 - val_loss: 381069.9943\n",
      "Epoch 20/20\n",
      "18240/18240 [==============================] - 120s 7ms/step - loss: 146080066.8281 - val_loss: 18432155.0713\n"
     ]
    }
   ],
   "source": [
    "helu_cons_5dens = elu_cons_5dens.fit_generator(gen, train_gen_obj.n_batches, epochs=20, \\\n",
    "                     validation_data=validgen, validation_steps= valid_gen_obj.n_batches)"
   ]
  },
  {
   "cell_type": "code",
   "execution_count": null,
   "metadata": {},
   "outputs": [
    {
     "name": "stdout",
     "output_type": "stream",
     "text": [
      "Epoch 1/20\n",
      "18240/18240 [==============================] - 124s 7ms/step - loss: 143.7763 - val_loss: 123.7583\n",
      "Epoch 2/20\n",
      "18240/18240 [==============================] - 122s 7ms/step - loss: 125.2671 - val_loss: 118.8519\n",
      "Epoch 3/20\n",
      "18240/18240 [==============================] - 122s 7ms/step - loss: 121.1419 - val_loss: 117.5974\n",
      "Epoch 4/20\n",
      "18240/18240 [==============================] - 122s 7ms/step - loss: 122.9960 - val_loss: 117.9073\n",
      "Epoch 5/20\n",
      "18240/18240 [==============================] - 122s 7ms/step - loss: 117.7650 - val_loss: 114.3308\n",
      "Epoch 6/20\n",
      "18240/18240 [==============================] - 122s 7ms/step - loss: 139.1800 - val_loss: 129.2564\n",
      "Epoch 7/20\n",
      "18240/18240 [==============================] - 122s 7ms/step - loss: 135.2529 - val_loss: 114.4186\n",
      "Epoch 8/20\n",
      "18240/18240 [==============================] - 122s 7ms/step - loss: 118.4068 - val_loss: 114.1655\n",
      "Epoch 9/20\n",
      " 9767/18240 [===============>..............] - ETA: 49s - loss: 113.9331"
     ]
    }
   ],
   "source": [
    "#hlru_cons_5dens = lru_cons_5dens.fit_generator(gen, train_gen_obj.n_batches, epochs=20, \\\n",
    "#                     validation_data=validgen, validation_steps= valid_gen_obj.n_batches)\n",
    "hadam_cons_5dens = adam_cons_5dens.fit_generator(gen, train_gen_obj.n_batches, epochs=20, \\\n",
    "                     validation_data=validgen, validation_steps= valid_gen_obj.n_batches)\n",
    "hrmsp_cons_5dens = rmsp_cons_5dens.fit_generator(gen, train_gen_obj.n_batches, epochs=20, \\\n",
    "                     validation_data=validgen, validation_steps= valid_gen_obj.n_batches)"
   ]
  },
  {
   "cell_type": "code",
   "execution_count": 48,
   "metadata": {},
   "outputs": [
    {
     "data": {
      "image/png": "[encoded data removed]",
      "text/plain": [
       "<Figure size 432x288 with 1 Axes>"
      ]
     },
     "metadata": {
      "needs_background": "light"
     },
     "output_type": "display_data"
    }
   ],
   "source": [
    "import matplotlib.pyplot as plt\n",
    "\n",
    "fig = plt.figure()\n",
    "ax = plt.subplot(111)\n",
    "\n",
    "for index in range (5):\n",
    "    if index==0: hdict = hist_cons_5dens.history; colo = 'bo'; col = 'b'; lab = 'C';\n",
    "    elif index==1: hdict = hist_uncons_5dens.history; colo = 'ro'; col = 'r'; lab = 'U';\n",
    "    elif index==2: hdict = hist_lagr001_5dens.history; colo = 'go'; col = 'g'; lab = 'W001';\n",
    "    elif index==3: hdict = hist_lagr05_5dens.history; colo = 'co'; col = 'c'; lab = 'W05';\n",
    "    elif index==4: hdict = hist_lagr099_5dens.history; colo = 'mo'; col = 'm'; lab = 'W099';\n",
    "        \n",
    "    \n",
    "    train_loss_values = hdict['loss']\n",
    "    valid_loss_values = hdict['val_loss']\n",
    "    epochs = range(1, len(train_loss_values) + 1)\n",
    "\n",
    "    ax.plot(epochs, train_loss_values, colo, label=lab+' Train')\n",
    "    ax.plot(epochs, valid_loss_values, col, label=lab+' Valid')\n",
    "\n",
    "#plt.title('Training and validation loss')\n",
    "plt.xlabel('Epochs')\n",
    "plt.ylabel('Loss (W/m^2)')\n",
    "plt.ylim((0, 500))\n",
    "# https://stackoverflow.com/questions/4700614/how-to-put-the-legend-out-of-the-plot\n",
    "# for legend at the right place\n",
    "ax.legend(loc='upper center', bbox_to_anchor=(0.5, 1.05),\n",
    "          ncol=5, fancybox=True, shadow=True); \n",
    "plt.show()"
   ]
  },
  {
   "cell_type": "code",
   "execution_count": null,
   "metadata": {},
   "outputs": [],
   "source": [
    "import matplotlib.pyplot as plt\n",
    "\n",
    "fig = plt.figure(); ax = plt.subplot(111)\n",
    "\n",
    "for index in range (3):\n",
    "    if index==0: hdict = hist_cons_5dens.history; colo = 'bo'; col = 'b'; lab = 'Adadelta';\n",
    "    elif index==1: hdict = hadam_cons_5dens.history; colo = 'ro'; col = 'r'; lab = 'Adam';\n",
    "    elif index==2: hdict = hrmsp_cons_5dens.history; colo = 'go'; col = 'g'; lab = 'RmsProp';\n",
    "        \n",
    "    \n",
    "    train_loss_values = hdict['loss']; valid_loss_values = hdict['val_loss']\n",
    "    epochs = range(1, len(train_loss_values) + 1)\n",
    "\n",
    "    ax.plot(epochs, train_loss_values, colo, label=lab+' Train')\n",
    "    ax.plot(epochs, valid_loss_values, col, label=lab+' Valid')\n",
    "\n",
    "plt.xlabel('Epochs'); plt.ylabel('Loss (W/m^2)'); plt.ylim((0, 500))\n",
    "ax.legend(loc='upper center', bbox_to_anchor=(0.5, 1.05),\n",
    "          ncol=5, fancybox=True, shadow=True); plt.show()"
   ]
  },
  {
   "cell_type": "code",
   "execution_count": 156,
   "metadata": {},
   "outputs": [
    {
     "data": {
      "image/png": "[encoded data removed]",
      "text/plain": [
       "<Figure size 1600x1080 with 1 Axes>"
      ]
     },
     "metadata": {},
     "output_type": "display_data"
    }
   ],
   "source": [
    "import matplotlib.pyplot as plt\n",
    "\n",
    "fig = plt.figure(num=None, figsize=(20, 13.5), dpi=80, facecolor='w', edgecolor='k')\n",
    "ax = plt.subplot(111)\n",
    "\n",
    "for index in range (2):\n",
    "    if index==0: hdict = hist_cons_5dens.history; colo = 'bo'; col = 'b'; lab = 'ReLU';\n",
    "    elif index==2: hdict = helu_cons_5dens.history; colo = 'ro'; col = 'r'; lab = 'ExpLU';\n",
    "    elif index==1: hdict = hlru_cons_5dens.history; colo = 'go'; col = 'g'; lab = 'LeakyReLU';\n",
    "        \n",
    "    \n",
    "    train_loss_values = hdict['loss']; valid_loss_values = hdict['val_loss']\n",
    "    epochs = range(1, len(train_loss_values) + 1)\n",
    "\n",
    "    ax.plot(epochs, train_loss_values, colo, label=lab+' Train')\n",
    "    ax.plot(epochs, valid_loss_values, col, label=lab+' Valid')\n",
    "\n",
    "plt.xlabel('Epochs', fontsize=25); plt.ylabel('Loss (W per m2)', fontsize=25);\n",
    "plt.xticks(fontsize=25); plt.yticks(fontsize=25)\n",
    "plt.ylim((0, 500))\n",
    "ax.legend(loc='upper center', bbox_to_anchor=(0.5, 1.05),\n",
    "          ncol=5, fancybox=True, shadow=True, fontsize=25); plt.show()"
   ]
  },
  {
   "cell_type": "code",
   "execution_count": 34,
   "metadata": {},
   "outputs": [
    {
     "name": "stdout",
     "output_type": "stream",
     "text": [
      "truth= [ 7.9672202e-05  4.7920624e-04  2.4025740e-02  5.5195879e-02\n",
      "  1.1413122e-01  9.9763870e-02  2.2796452e-02  8.7691424e-03\n",
      "  9.2103053e-03  7.1256983e-01  7.7988184e+02  5.6302869e+02\n",
      "  2.6318073e+02  6.2778019e+01  6.9902046e-03 -7.8684932e-01\n",
      "  0.0000000e+00 -2.4350360e-01]\n",
      "unconstrained= [  0.          0.          0.          0.          0.          0.\n",
      "   0.          0.          0.          1.3625866 788.68677   562.22266\n",
      " 282.95648    55.21782     5.0673413   0.          0.          0.       ]\n",
      "conserving= [0.         0.4019227  0.00784189 0.03601322 0.         0.46972626\n",
      " 0.20347854 0.31218743 0.21515115 0.         0.         0.\n",
      " 0.         0.         0.15628235 0.2403318  0.10572945 0.        ]\n"
     ]
    },
    {
     "data": {
      "image/png": "[encoded data removed]",
      "text/plain": [
       "<Figure size 432x288 with 1 Axes>"
      ]
     },
     "metadata": {
      "needs_background": "light"
     },
     "output_type": "display_data"
    }
   ],
   "source": [
    "pred_uncons = mod_uncons_5dens.predict_on_batch(x)\n",
    "pred_cons = mod_cons_5dens.predict_on_batch(x)\n",
    "ind_test = 150;\n",
    "plt.plot(pred_uncons[ind_test,:], label='unconstrained')\n",
    "plt.plot(pred_cons[ind_test,:], label='conserving')\n",
    "plt.plot(y[ind_test,:], label='truth')\n",
    "plt.legend();\n",
    "print('truth=',y[ind_test,140:])\n",
    "print('unconstrained=',pred_uncons[ind_test,140:])\n",
    "print('conserving=',pred_cons[ind_test,140:])"
   ]
  },
  {
   "cell_type": "markdown",
   "metadata": {},
   "source": [
    "#### Step 5: Check energy and mass conservation for the predictions\n",
    "If we coded the mass/enthalpy conservation layers properly  \n",
    "pred_cons from the mass/enthalpy-conserving model_cons should conserve mass/energy  \n",
    "pred_uncons which is a \"naive\" dense network should not a priori conserve mass/energy  \n",
    "The function below is directly adapted from the tested mass/enthalpy conservation layers in numpy that have been used to develop the tensorflow layers"
   ]
  },
  {
   "cell_type": "code",
   "execution_count": 110,
   "metadata": {},
   "outputs": [],
   "source": [
    "def massent_check(x,y,fsub=fsub,fdiv=fdiv,normq=normq,hyai=hyai,hybi=hybi,outtype=\"graph\"):\n",
    "    import numpy as np\n",
    "    # 0) Constants\n",
    "    G = 9.80616; # Reference gravity constant [m.s-2]\n",
    "    L_F = 3.337e5; # Latent heat of fusion of water [W.kg-1]\n",
    "    L_V = 2.501e6; # Latent heat of vaporization of water [W.kg-1]\n",
    "    L_S = L_F+L_V; # Latent heat of sublimation of water [W.kg-1]\n",
    "    P0 = 1e5; # Reference surface pressure [Pa]   \n",
    "\n",
    "    # WATER&ENTHALPY) Get non-dimensional pressure differences (p_tilde above)\n",
    "    # In the input vector, PS is the 151st element after \n",
    "    # the first elements = [QBP, ..., VBP with shape 30*5=150]\n",
    "    PS = np.add( np.multiply( x[:,300], fdiv[300]), fsub[300])\n",
    "    # Reference for calculation of d_pressure is cbrain/models.py (e.g. QLayer)\n",
    "    P = np.add( np.multiply( P0, hyai), \\\n",
    "    np.multiply( PS[:,None], hybi))\n",
    "    dP = np.subtract( P[:, 1:], P[:, :-1])\n",
    "    # norm_output = dp_norm * L_V/G so dp_norm = norm_output * G/L_V\n",
    "    dP_NORM = np.divide( \\\n",
    "    np.multiply(normq[:30], \\\n",
    "              G),\\\n",
    "    L_V)\n",
    "    # dp_tilde = dp/dp_norm\n",
    "    dP_TILD = np.divide( dP, dP_NORM)\n",
    "\n",
    "    # WATER.1) Calculate water vertical integral from level 1 to level 30\n",
    "    WATVEC = np.multiply( dP_TILD, y[:, :30] + y[:, 30:60] + y[:, 60:90])\n",
    "    WATINT = np.sum( WATVEC, axis=1)\n",
    "\n",
    "    # WATER.2) Calculate forcing on the right-hand side (Net Evaporation-Precipitation)\n",
    "    # E-P is already normalized to units W.m-2 in the output vector\n",
    "    # so all we need to do is input-unnormalize LHF that is taken from the input vector\n",
    "    LHF = np.add( np.multiply( x[:,303], fdiv[303]), fsub[303])\n",
    "    # Note that total precipitation = PRECT + 1e-3*PRECTEND in the CAM model\n",
    "    # PRECTEND already multiplied by 1e-3 in output vector so no need to redo it\n",
    "    PREC = np.add( y[:, 154], y[:, 155])\n",
    "\n",
    "    # WATER.FINAL) Residual = E-P-DWATER/DT\n",
    "    WATRES = LHF-PREC-WATINT\n",
    "    \n",
    "    # ENTHALPY.1) Calculate net energy input from phase change and precipitation\n",
    "    # PHAS = Lf/Lv*((PRECST+PRECSTEN)-(PRECT+PRECTEND))\n",
    "    PHAS = np.divide( np.multiply( np.subtract(\\\n",
    "                                          np.add( y[:,156], y[:,157]),\\\n",
    "                                          np.add( y[:,154], y[:,155])),\\\n",
    "                                  L_F),\\\n",
    "                     L_V)\n",
    "    \n",
    "    # ENTHALPY.2) Calculate net energy input from radiation, sensible heat flux and turbulent KE\n",
    "    # 2.1) RAD = FSNT-FSNS-FLNT+FLNS\n",
    "    RAD = np.add(\\\n",
    "            np.subtract( y[:,150], y[:,151]),\\\n",
    "            np.subtract( y[:,153], y[:,152]))\n",
    "    # 2.2) Unnormalize sensible heat flux\n",
    "    SHF = np.add( np.multiply( x[:,302], fdiv[302]), fsub[302])\n",
    "    # 2.3) Net turbulent kinetic energy dissipative heating is the column-integrated \n",
    "    # turbulent kinetic energy energy dissipative heating\n",
    "    KEDVEC = np.multiply( dP_TILD, y[:, 120:150])\n",
    "    KEDINT = np.sum( KEDVEC, axis=1)\n",
    "    \n",
    "    # ENTHALPY.3) Calculate tendency of normalized column water vapor due to phase change\n",
    "    # 3.1) Column water vapor is the column integral of specific humidity\n",
    "    PHQVEC = np.multiply( dP_TILD, y[:, :30])\n",
    "    PHQINT = np.sum( PHQVEC, axis=1)\n",
    "    # 3.2) Multiply by L_S/L_V to normalize (explanation above)\n",
    "    SPDQINT = np.divide( np.multiply( np.subtract(\\\n",
    "                                                 PHQINT, LHF),\\\n",
    "                                    L_S),\\\n",
    "                       L_V)\n",
    "    \n",
    "    # ENTHALPY.4) Same operation for liquid water tendency but multiplied by L_F/L_V\n",
    "    SPDQCINT = np.divide( np.multiply(\\\n",
    "                                  np.sum(\\\n",
    "                                         np.multiply( dP_TILD, y[:, 30:60]),\\\n",
    "                                         axis=1),\\\n",
    "                                  L_F),\\\n",
    "                     L_V)\n",
    "    \n",
    "    # ENTHALPY.5) Same operation for temperature tendency\n",
    "    DTINT = np.sum( np.multiply( dP_TILD[:, :30], y[:, 90:120]), axis=1)\n",
    "    \n",
    "    # ENTHALPY.FINAL) Residual = SPDQ+SPDQC+DTINT-RAD-SHF-PHAS\n",
    "    ENTRES = SPDQINT+SPDQCINT+DTINT-RAD-SHF-PHAS-KEDINT\n",
    "    \n",
    "    if outtype==\"graph\":\n",
    "    \n",
    "        import matplotlib.pyplot as plt\n",
    "        from matplotlib import rc\n",
    "        plt.rc('text', usetex=True)\n",
    "        plt.rc('font', family='serif')\n",
    "\n",
    "        plt.figure(num=None, figsize=(12, 3), dpi=80, facecolor='w', edgecolor='k')\n",
    "\n",
    "        plt.subplot(121)\n",
    "        plt.hist(WATRES)\n",
    "        plt.xlabel(r\"$\\mathrm{Water\\ Residual\\ \\left[W.m^{-2}\\right]}$\", fontsize=16)\n",
    "        plt.ylabel(r'Number of samples', fontsize=16)\n",
    "        plt.xticks(fontsize=14); plt.yticks(fontsize=14)\n",
    "\n",
    "        plt.subplot(122)\n",
    "        plt.hist(ENTRES)\n",
    "        plt.xlabel(r\"$\\mathrm{Enthalpy\\ Residual\\ \\left[W.m^{-2}\\right]}$\", fontsize=16)\n",
    "        plt.ylabel(r'Number of samples', fontsize=16)\n",
    "        plt.xticks(fontsize=14); plt.yticks(fontsize=14)\n",
    "    \n",
    "    elif outtype==\"list\":\n",
    "    \n",
    "        return WATRES,ENTRES "
   ]
  },
  {
   "cell_type": "code",
   "execution_count": 108,
   "metadata": {},
   "outputs": [
    {
     "data": {
      "image/png": "[encoded data removed]",
      "text/plain": [
       "<Figure size 1600x1080 with 5 Axes>"
      ]
     },
     "metadata": {},
     "output_type": "display_data"
    }
   ],
   "source": [
    "import matplotlib.pyplot as plt\n",
    "from matplotlib import rc\n",
    "plt.rc('text', usetex=True)\n",
    "plt.rc('font', family='serif')\n",
    "plt.figure(num=None, figsize=(20, 13.5), dpi=80, facecolor='w', edgecolor='k')\n",
    "XMAX = 300; bins = np.linspace(0, XMAX, 100)\n",
    "\n",
    "xval, yval = next(validgen)\n",
    "\n",
    "for index in range (5):\n",
    "    if index==0: pred = mod_uncons_5dens.predict_on_batch(xval); lab = 'U';\n",
    "    elif index==1: pred = mod_cons_5dens.predict_on_batch(xval); lab = 'C';\n",
    "    elif index==2: pred = mod_lagr001_5dens.predict_on_batch(xval); lab = 'W001';\n",
    "    elif index==3: pred = mod_lagr05_5dens.predict_on_batch(xval); lab = 'W05';\n",
    "    elif index==4: pred = mod_lagr099_5dens.predict_on_batch(xval); lab = 'W099';\n",
    "\n",
    "    res = np.mean((pred-yval)**2, axis=1);\n",
    "    \n",
    "    ax = plt.subplot(5,1,index+1)\n",
    "    ax.hist(res, bins, alpha=0.5, edgecolor='k', label = lab+' m%i' %np.mean(res)+' std%i' %np.std(res))\n",
    "    plt.ylabel(r'Nb samples', fontsize=16)\n",
    "    plt.xticks(fontsize=14); plt.yticks(fontsize=14)\n",
    "    plt.ylim((0, 50)); plt.xlim((0, XMAX));\n",
    "    ax.legend(loc='upper center', bbox_to_anchor=(0.5, 1.05),\n",
    "          ncol=5, fancybox=True, shadow=True, fontsize = 20); "
   ]
  },
  {
   "cell_type": "code",
   "execution_count": 122,
   "metadata": {},
   "outputs": [
    {
     "data": {
      "image/png": "[encoded data removed]",
      "text/plain": [
       "<Figure size 1600x1080 with 10 Axes>"
      ]
     },
     "metadata": {},
     "output_type": "display_data"
    }
   ],
   "source": [
    "import matplotlib.pyplot as plt\n",
    "from matplotlib import rc\n",
    "plt.rc('text', usetex=True)\n",
    "plt.rc('font', family='serif')\n",
    "plt.figure(num=None, figsize=(20, 13.5), dpi=80, facecolor='w', edgecolor='k')\n",
    "XMAX = 100; bins = np.linspace(-XMAX, XMAX, 100)\n",
    "\n",
    "xval, yval = next(gen)\n",
    "\n",
    "for index in range (5):\n",
    "    if index==0: pred = mod_uncons_5dens.predict_on_batch(xval); lab = 'U';\n",
    "    elif index==1: pred = mod_cons_5dens.predict_on_batch(xval); lab = 'C';\n",
    "    elif index==2: pred = mod_lagr001_5dens.predict_on_batch(xval); lab = 'W001';\n",
    "    elif index==3: pred = mod_lagr05_5dens.predict_on_batch(xval); lab = 'W05';\n",
    "    elif index==4: pred = mod_lagr099_5dens.predict_on_batch(xval); lab = 'W099';\n",
    "\n",
    "    watres,entres = massent_check(xval,pred,fsub=fsub,fdiv=fdiv,normq=normq,hyai=hyai,hybi=hybi,outtype=\"list\");\n",
    "\n",
    "    ax = plt.subplot(5,2,2*index+1)\n",
    "    ax.hist(watres, bins, alpha=0.5, edgecolor='k', label = lab+' mSQ%i' %np.mean(watres**2)+' stdSQ%i' %np.std(watres**2))\n",
    "    plt.ylabel(r'Nb samples', fontsize=16)\n",
    "    plt.xticks(fontsize=14); plt.yticks(fontsize=14)\n",
    "    plt.ylim((0, 50)); plt.xlim((-XMAX, XMAX));\n",
    "    ax.legend(loc='upper left', bbox_to_anchor=(0.5, 1.05),\n",
    "          ncol=5, fancybox=True, shadow=True, fontsize = 20);\n",
    "    \n",
    "    ax = plt.subplot(5,2,2*index+2)\n",
    "    ax.hist(entres, bins, alpha=0.5, edgecolor='k', label = lab+' mSQ%i' %np.mean(entres**2)+' stdSQ%i' %np.std(entres**2))\n",
    "    plt.ylabel(r'Nb samples', fontsize=16)\n",
    "    plt.xticks(fontsize=14); plt.yticks(fontsize=14)\n",
    "    plt.ylim((0, 50)); plt.xlim((-XMAX, XMAX));\n",
    "    ax.legend(loc='upper left', bbox_to_anchor=(0.5, 1.05),\n",
    "          ncol=5, fancybox=True, shadow=True, fontsize = 20); "
   ]
  },
  {
   "cell_type": "markdown",
   "metadata": {},
   "source": [
    "#### Step 6: Check positivity of water species\n",
    "There are two necessary steps:  \n",
    "1) Load the water species concentrations \"before physics\" from the input vector and unnormalize them  \n",
    "2) Invert the output normalization to get the water concentrations \"after physics\"\n",
    "\n",
    "$$\n",
    "\\delta q_{v,i,l}\\left(p\\right)=\\frac{L_{v}\\Delta p_{\\mathrm{norm}}}{g}\\frac{q_{v,i,l}^{a}\\left(p\\right)-q_{v,i,l}^{b}\\left(p\\right)}{\\Delta t}\\ \\Rightarrow\\ q_{v,i,l}^{a}\\left(p\\right)=q_{v,i,l}^{b}\\left(p\\right)+\\frac{g\\Delta t}{L_{v}\\Delta p_{\\mathrm{norm}}}\\delta q_{v,i,l}\\left(p\\right)\n",
    "$$"
   ]
  },
  {
   "cell_type": "code",
   "execution_count": 145,
   "metadata": {},
   "outputs": [],
   "source": [
    "def watpos_check(x,y,fsub=fsub,fdiv=fdiv,normq=normq,dt=30*60):\n",
    "    \n",
    "    import numpy as np\n",
    "\n",
    "    # 1) Extract water species concentrations from inputs\n",
    "    QVB = np.add( np.multiply( x[:, :30], fdiv[ :30]), fsub[ :30])\n",
    "    QLB = np.add( np.multiply( x[:, 30:60], fdiv[ 30:60]), fsub[ 30:60])\n",
    "    QSB = np.add( np.multiply( x[:, 60:90], fdiv[ 60:90]), fsub[ 60:90])\n",
    "\n",
    "    # 2) Inverse output normalization and get water concentration after physics\n",
    "    QVA = QVB + np.divide( dt*y[:, :30] , normq[:30])\n",
    "    QLA = QLB + np.divide( dt*y[:, 30:60] , normq[:30])\n",
    "    QSA = QSB + np.divide( dt*y[:, 60:90] , normq[:30])\n",
    "\n",
    "    import matplotlib.pyplot as plt\n",
    "    from matplotlib import rc\n",
    "    plt.rc('text', usetex=True)\n",
    "    plt.rc('font', family='serif')\n",
    "\n",
    "    plt.figure(num=None, figsize=(12, 6), dpi=80, facecolor='w', edgecolor='k')\n",
    "\n",
    "    plt.subplot(231)\n",
    "    plt.hist(1e3*QVA)\n",
    "    plt.xlabel(r\"$\\mathrm{Water\\ vapor\\ concentration\\ \\left[g/kg\\right]}$\", fontsize=16)\n",
    "    plt.ylabel(r'Number of samples', fontsize=16)\n",
    "    plt.xticks(fontsize=14); plt.yticks(fontsize=14)\n",
    "\n",
    "    plt.subplot(232)\n",
    "    plt.hist(1e3*QLA)\n",
    "    plt.xlabel(r\"$\\mathrm{Liquid\\ water\\ concentration\\ \\left[g/kg\\right]}$\", fontsize=16)\n",
    "    plt.xticks(fontsize=14); plt.yticks(fontsize=14)\n",
    "\n",
    "    plt.subplot(233)\n",
    "    plt.hist(1e3*QSA)\n",
    "    plt.xlabel(r\"$\\mathrm{Ice\\ concentration\\ \\left[g/kg\\right]}$\", fontsize=16)\n",
    "    plt.xticks(fontsize=14); plt.yticks(fontsize=14)\n",
    "    \n",
    "    plt.subplot(234)\n",
    "    plt.hist(1e3*(QVA-QVB))\n",
    "    plt.xlabel(r\"$\\mathrm{Water\\ vapor\\ change\\ \\left[g/kg\\right]}$\", fontsize=16)\n",
    "    plt.ylabel(r'Number of samples', fontsize=16)\n",
    "    plt.xticks(fontsize=14); plt.yticks(fontsize=14)\n",
    "\n",
    "    plt.subplot(235)\n",
    "    plt.hist(1e3*(QLA-QLB))\n",
    "    plt.xlabel(r\"$\\mathrm{Liquid\\ water\\ change\\ \\left[g/kg\\right]}$\", fontsize=16)\n",
    "    plt.xticks(fontsize=14); plt.yticks(fontsize=14)\n",
    "\n",
    "    plt.subplot(236)\n",
    "    plt.hist(1e3*(QSA-QSB))\n",
    "    plt.xlabel(r\"$\\mathrm{Ice\\ change\\ \\left[g/kg\\right]}$\", fontsize=16)\n",
    "    plt.xticks(fontsize=14); plt.yticks(fontsize=14)\n",
    "    \n",
    "    plt.subplots_adjust(left=None, bottom=None, right=None, top=None, wspace=None, hspace=0.5)"
   ]
  },
  {
   "cell_type": "code",
   "execution_count": 146,
   "metadata": {},
   "outputs": [
    {
     "data": {
      "image/png": "[encoded data removed]",
      "text/plain": [
       "<Figure size 960x480 with 6 Axes>"
      ]
     },
     "metadata": {},
     "output_type": "display_data"
    }
   ],
   "source": [
    "watpos_check(xval,yval,fsub,fdiv,normq,dt)"
   ]
  },
  {
   "cell_type": "code",
   "execution_count": 154,
   "metadata": {},
   "outputs": [
    {
     "data": {
      "image/png": "[encoded data removed]",
      "text/plain": [
       "<Figure size 960x480 with 6 Axes>"
      ]
     },
     "metadata": {},
     "output_type": "display_data"
    }
   ],
   "source": [
    "watpos_check(xval,pred6,fsub,fdiv,normq,dt)"
   ]
  },
  {
   "cell_type": "markdown",
   "metadata": {},
   "source": [
    "#### Last step: Save trained models as h5 files"
   ]
  },
  {
   "cell_type": "code",
   "execution_count": 33,
   "metadata": {},
   "outputs": [
    {
     "name": "stdout",
     "output_type": "stream",
     "text": [
      "/data/Tom.Beucler/SPCAM_PHYS/HDF5_DATA\n",
      "/data/Tom.Beucler/SPCAM_PHYS/HDF5_DATA\r\n"
     ]
    }
   ],
   "source": [
    "%cd $TRAINDIR/HDF5_DATA\n",
    "!pwd\n",
    "#model1.save('model1.h5')\n",
    "#model2.save('model2.h5')\n",
    "#model3.save('model3.h5')\n",
    "#model4.save('model4.h5')\n",
    "#model5.save('model5.h5')\n",
    "#model6.save('model6.h5')\n",
    "mod_lagr05_5dens.save('mod_lagr05_5dens.h5')\n",
    "mod_lagr001_5dens.save('mod_lagr001_5dens.h5')\n",
    "mod_lagr099_5dens.save('mod_lagr099_5dens.h5')\n",
    "mod_uncons_5dens.save('mod_uncons_5dens.h5')\n",
    "mod_cons_5dens.save('mod_cons_5dens.h5')"
   ]
  },
  {
   "cell_type": "code",
   "execution_count": null,
   "metadata": {},
   "outputs": [],
   "source": []
  }
 ],
 "metadata": {
  "kernelspec": {
   "display_name": "Python 3",
   "language": "python",
   "name": "python3"
  },
  "language_info": {
   "codemirror_mode": {
    "name": "ipython",
    "version": 3
   },
   "file_extension": ".py",
   "mimetype": "text/x-python",
   "name": "python",
   "nbconvert_exporter": "python",
   "pygments_lexer": "ipython3",
   "version": "3.6.8"
  },
  "toc": {
   "base_numbering": 1,
   "nav_menu": {},
   "number_sections": true,
   "sideBar": false,
   "skip_h1_title": true,
   "title_cell": "Table of Contents",
   "title_sidebar": "Contents",
   "toc_cell": false,
   "toc_position": {},
   "toc_section_display": true,
   "toc_window_display": false
  }
 },
 "nbformat": 4,
 "nbformat_minor": 2
}
