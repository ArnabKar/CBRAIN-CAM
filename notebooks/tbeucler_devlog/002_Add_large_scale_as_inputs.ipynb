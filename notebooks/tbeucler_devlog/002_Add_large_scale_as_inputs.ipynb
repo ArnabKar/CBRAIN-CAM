{
 "cells": [
  {
   "cell_type": "markdown",
   "metadata": {},
   "source": [
    "## 1) Preprocess all the necessary variables\n",
    "### 1.1) Build feature, target and initial normalization files"
   ]
  },
  {
   "cell_type": "code",
   "execution_count": 2,
   "metadata": {},
   "outputs": [
    {
     "name": "stderr",
     "output_type": "stream",
     "text": [
      "Using TensorFlow backend.\n",
      "/home/t/Tom.Beucler/miniconda3/lib/python3.6/importlib/_bootstrap.py:219: RuntimeWarning: compiletime version 3.5 of module 'tensorflow.python.framework.fast_tensor_util' does not match runtime version 3.6\n",
      "  return f(*args, **kwds)\n"
     ]
    },
    {
     "name": "stdout",
     "output_type": "stream",
     "text": [
      "/filer/z-sv-pool12c/t/Tom.Beucler/SPCAM/CBRAIN-CAM\n"
     ]
    }
   ],
   "source": [
    "#!ln -s /filer/z-sv-pool12c/t/Tom.Beucler/SPCAM/CBRAIN-CAM/cbrain \\\n",
    "#/filer/z-sv-pool12c/t/Tom.Beucler/SPCAM/CBRAIN-CAM/notebooks/tbeucler_devlog/cbrain\n",
    "from cbrain.imports import *\n",
    "from cbrain.data_generator import *\n",
    "from cbrain.utils import limit_mem\n",
    "import tensorflow as tf\n",
    "import tensorflow.math as tfm\n",
    "import xarray as xr\n",
    "import numpy as np\n",
    "# Otherwise tensorflow will use ALL your GPU RAM for no reason\n",
    "limit_mem()\n",
    "TRAINDIR = '/local/Tom.Beucler/SPCAM_PHYS/'\n",
    "DATADIR = '/project/meteo/w2w/A6/S.Rasp/SP-CAM/sp32fbp_andkua/'\n",
    "PREFIX = '32_col_lgsc_1m_'\n",
    "%cd /filer/z-sv-pool12c/t/Tom.Beucler/SPCAM/CBRAIN-CAM"
   ]
  },
  {
   "cell_type": "markdown",
   "metadata": {},
   "source": [
    "tgb - 2/4/2019 - This is where this notebook start differing from 001  \n",
    "1) The new goal is to take into account large-scale forcings in the input file and see if it makes a difference since the CRM knows about them.  \n",
    "2) I'll throw in UBP (the zonal wind) just in case and the Jacobian will be a good way of checking if it makes a difference.  \n",
    "3) We'll call the new config file 32col_mp_lgsc.  \n",
    "  \n",
    "In that file:  \n",
    "inputs : [QBP, QCBP, QIBP, TBP, UBP, VBP, Qdt_adiabatic, QCdt_adiabatic, QIdt_adiabatic, Tdt_adiabatic, Udt_adiabatic, Vdt_adiabatic, PS, SOLIN, SHFLX, LHFLX]  \n",
    "outputs : [PHQ, PHCLDLIQ, PHCLDICE, TPHYSTND, DTVKE, FSNT, FSNS, FLNT, FLNS, PRECT, PRECTEND, PRECST, PRECSTEN]  \n",
    "  \n",
    "Error1: There shouldn't be any [1,:] in the preprocess_aqua.py script when calculating the right name based on the dt_adiabatic name.   \n"
   ]
  },
  {
   "cell_type": "code",
   "execution_count": 3,
   "metadata": {},
   "outputs": [
    {
     "name": "stdout",
     "output_type": "stream",
     "text": [
      "GitPython not found. Please install for better reproducibility.\n",
      "Time checkpoint reading data: 6.69 s\n",
      "Number of time steps: 576\n",
      "Cut time steps: [ 47  95 143 191 239 287 335 383 431 479 527]\n",
      "Cut time steps: [ 47  95 143 191 239 287 335 383 431 479 527]\n",
      "Time checkpoint create datasets: 6.89 s\n",
      "Time checkpoint reshape and rechunk: 10.87 s\n",
      "Compute means and stds\n",
      "Saving normalization file: /local/Tom.Beucler/SPCAM_PHYS/32_col_lgsc_1m_train_norm.nc\n",
      "Time checkpoint normalization arrays: 139.15 s\n",
      "Time checkpoint rechunk and ds: 139.86 s\n",
      "Save features: /local/Tom.Beucler/SPCAM_PHYS/32_col_lgsc_1m_train_features.nc\n",
      "Save targets: /local/Tom.Beucler/SPCAM_PHYS/32_col_lgsc_1m_train_targets.nc\n",
      "Total time: 192.34 s\n"
     ]
    }
   ],
   "source": [
    "!python cbrain/Test01_preprocess_aqua.py \\\n",
    "--config pp_config/32col_mp_lgsc_tbeucler_local.yml \\\n",
    "--aqua_names '*.h1.0000-*-01-*' \\\n",
    "--out_pref 32_col_lgsc_1m_train"
   ]
  },
  {
   "cell_type": "markdown",
   "metadata": {},
   "source": [
    "### 1.2) Create validation dataset\n"
   ]
  },
  {
   "cell_type": "code",
   "execution_count": 4,
   "metadata": {},
   "outputs": [
    {
     "name": "stdout",
     "output_type": "stream",
     "text": [
      "GitPython not found. Please install for better reproducibility.\n",
      "Time checkpoint reading data: 1.51 s\n",
      "Number of time steps: 144\n",
      "Cut time steps: [47 95]\n",
      "Cut time steps: [47 95]\n",
      "Time checkpoint create datasets: 1.69 s\n",
      "Time checkpoint reshape and rechunk: 2.77 s\n",
      "Load external normalization file\n",
      "Time checkpoint normalization arrays: 2.77 s\n",
      "Time checkpoint rechunk and ds: 2.87 s\n",
      "Save features: /local/Tom.Beucler/SPCAM_PHYS/32_col_lgsc_1m_valid_features.nc\n",
      "Save targets: /local/Tom.Beucler/SPCAM_PHYS/32_col_lgsc_1m_valid_targets.nc\n",
      "Total time: 19.68 s\n"
     ]
    }
   ],
   "source": [
    "!python cbrain/Test01_preprocess_aqua.py \\\n",
    "--config pp_config/32col_mp_lgsc_tbeucler_local.yml \\\n",
    "--aqua_names '*.h1.0001-*-01-*' \\\n",
    "--out_pref 32_col_lgsc_1m_valid --ext_norm Nope"
   ]
  },
  {
   "cell_type": "markdown",
   "metadata": {},
   "source": [
    "### 1.3) Shuffle the training dataset\n",
    "tgb - 1/16/2019 - Adapted from Stephan's entire worlflow for 32 column run"
   ]
  },
  {
   "cell_type": "code",
   "execution_count": 5,
   "metadata": {},
   "outputs": [
    {
     "name": "stdout",
     "output_type": "stream",
     "text": [
      "/filer/z-sv-pool12c/t/Tom.Beucler/SPCAM/CBRAIN-CAM\n",
      "Reading files: /local/Tom.Beucler/SPCAM_PHYS//32_col_lgsc_1m_train_features.nc /local/Tom.Beucler/SPCAM_PHYS//32_col_lgsc_1m_train_targets.nc\n",
      "Creating files: /local/Tom.Beucler/SPCAM_PHYS//32_col_lgsc_1m_train_shuffle_features.nc /local/Tom.Beucler/SPCAM_PHYS//32_col_lgsc_1m_train_shuffle_targets.nc\n",
      "GitPython not found. Please install for better reproducibility.\n",
      "GitPython not found. Please install for better reproducibility.\n",
      "100%|█████████████████████████████████████████████| 1/1 [00:16<00:00, 16.88s/it]\n"
     ]
    }
   ],
   "source": [
    "%cd /filer/z-sv-pool12c/t/Tom.Beucler/SPCAM/CBRAIN-CAM\n",
    "!python cbrain/shuffle_ds.py --pref $TRAINDIR/32_col_lgsc_1m_train"
   ]
  },
  {
   "cell_type": "code",
   "execution_count": 6,
   "metadata": {},
   "outputs": [
    {
     "name": "stdout",
     "output_type": "stream",
     "text": [
      "Reading files: /local/Tom.Beucler/SPCAM_PHYS//32_col_lgsc_1m_valid_features.nc /local/Tom.Beucler/SPCAM_PHYS//32_col_lgsc_1m_valid_targets.nc\n",
      "Creating files: /local/Tom.Beucler/SPCAM_PHYS//32_col_lgsc_1m_valid_shuffle_features.nc /local/Tom.Beucler/SPCAM_PHYS//32_col_lgsc_1m_valid_shuffle_targets.nc\n",
      "GitPython not found. Please install for better reproducibility.\n",
      "GitPython not found. Please install for better reproducibility.\n",
      "100%|█████████████████████████████████████████████| 1/1 [00:04<00:00,  4.18s/it]\n"
     ]
    }
   ],
   "source": [
    "!python cbrain/shuffle_ds.py --pref $TRAINDIR/32_col_lgsc_1m_valid"
   ]
  },
  {
   "cell_type": "markdown",
   "metadata": {},
   "source": [
    "### 1.4) Change the output's normalization using pressure levels"
   ]
  },
  {
   "cell_type": "code",
   "execution_count": 7,
   "metadata": {},
   "outputs": [],
   "source": [
    "ds = xr.open_dataset(TRAINDIR + PREFIX + 'train_norm.nc')  \n",
    "\n",
    "# Open the pickle files containing the pressure converters\n",
    "with open(os.path.join('/filer/z-sv-pool12c/t/Tom.Beucler/SPCAM/CBRAIN-CAM/cbrain', 'hyai_hybi.pkl'), 'rb') as f:\n",
    "            hyai, hybi = pickle.load(f)\n",
    "# Takes representative value for PS since purpose is normalization\n",
    "PS = 1e5; P0 = 1e5;\n",
    "P = P0*hyai+PS*hybi; # Total pressure [Pa]\n",
    "dP = P[1:]-P[:-1]; # Differential pressure [Pa]  \n",
    "  \n",
    "dt = 30*60; # timestep\n",
    "ds.target_conv[:150] = np.multiply(ds.target_conv[:150],np.concatenate((dP,dP,dP,dP,np.divide(dP,dt))))  \n",
    "  \n",
    "# Copy old normalization file\n",
    "path1 = os.path.join(TRAINDIR,PREFIX+'train_norm.nc')\n",
    "path2 = os.path.join(TRAINDIR,PREFIX+'train_oldnorm.nc')\n",
    "!cp $path1 $path2  \n",
    "  \n",
    "# Create new dataset with characteristics of modified ds\n",
    "new_ds = xr.Dataset({\n",
    "            'feature_means': ds.feature_means,\n",
    "            'feature_stds': ds.feature_stds,\n",
    "            'feature_mins': ds.feature_mins,\n",
    "            'feature_maxs': ds.feature_maxs,\n",
    "            'target_means': ds.target_means,\n",
    "            'target_stds': ds.target_stds,\n",
    "            'target_mins': ds.target_mins,\n",
    "            'target_maxs': ds.target_maxs,\n",
    "            'feature_names': ds.feature_names,\n",
    "            'target_names': ds.target_names,\n",
    "            'feature_stds_by_var': ds.feature_stds_by_var,\n",
    "            'target_conv': ds.target_conv\n",
    "        })  \n",
    "  \n",
    "# 4.3 Write new data set to initial target_conv file\n",
    "!rm $path1 # Remove normalization file  \n",
    "new_ds.to_netcdf(path1) # Save the new dataset as the new normalization file"
   ]
  },
  {
   "cell_type": "markdown",
   "metadata": {},
   "source": [
    "## 2) Create data generator and produce data sample\n"
   ]
  },
  {
   "cell_type": "markdown",
   "metadata": {},
   "source": [
    "### 2.1) Create data generator from training dataset"
   ]
  },
  {
   "cell_type": "code",
   "execution_count": 8,
   "metadata": {},
   "outputs": [],
   "source": [
    "xr.open_dataset(path1).close() # Don't forget to close xarray handler!!"
   ]
  },
  {
   "cell_type": "code",
   "execution_count": 9,
   "metadata": {},
   "outputs": [
    {
     "name": "stdout",
     "output_type": "stream",
     "text": [
      "Generator will have 4620288 samples in 9024 batches\n",
      "Features have shape 304; targets have shape 158\n"
     ]
    }
   ],
   "source": [
    "train_gen_obj = DataGenerator(\n",
    "    data_dir=TRAINDIR, \n",
    "    feature_fn=PREFIX+'train_shuffle_features.nc',\n",
    "    target_fn=PREFIX+'train_shuffle_targets.nc',\n",
    "    batch_size=512,\n",
    "    norm_fn=PREFIX+'train_norm.nc',\n",
    "    fsub='feature_means',   # Subtracct the mean\n",
    "    fdiv='feature_stds_by_var',    # Then divide by Std\n",
    "    tmult='target_conv',    # For targets/output: use values from preprocess_aqua.\n",
    "    shuffle=True,\n",
    ")"
   ]
  },
  {
   "cell_type": "code",
   "execution_count": 13,
   "metadata": {},
   "outputs": [
    {
     "data": {
      "text/plain": [
       "((512, 304), (512, 158))"
      ]
     },
     "execution_count": 13,
     "metadata": {},
     "output_type": "execute_result"
    }
   ],
   "source": [
    "gen = train_gen_obj.return_generator()\n",
    "# Produce data sample\n",
    "x, y = next(gen)\n",
    "# and check its shape\n",
    "x.shape, y.shape"
   ]
  },
  {
   "cell_type": "markdown",
   "metadata": {},
   "source": [
    "### 2.2) Create data generator from validation dataset and produce sample"
   ]
  },
  {
   "cell_type": "code",
   "execution_count": 14,
   "metadata": {},
   "outputs": [
    {
     "name": "stdout",
     "output_type": "stream",
     "text": [
      "Generator will have 1155072 samples in 2256 batches\n",
      "Features have shape 304; targets have shape 158\n"
     ]
    }
   ],
   "source": [
    "valid_gen_obj = DataGenerator(\n",
    "    data_dir=TRAINDIR, \n",
    "    feature_fn=PREFIX+'valid_shuffle_features.nc',\n",
    "    target_fn=PREFIX+'valid_shuffle_targets.nc',\n",
    "    batch_size=512,\n",
    "    norm_fn=PREFIX+'train_norm.nc',\n",
    "    fsub='feature_means',   # Subtracct the mean\n",
    "    fdiv='feature_stds_by_var',    # Then divide by Std\n",
    "    tmult='target_conv',    # For targets/output: use values from preprocess_aqua.\n",
    "    shuffle=True,\n",
    ")"
   ]
  },
  {
   "cell_type": "code",
   "execution_count": 15,
   "metadata": {},
   "outputs": [
    {
     "data": {
      "text/plain": [
       "((512, 304), (512, 158))"
      ]
     },
     "execution_count": 15,
     "metadata": {},
     "output_type": "execute_result"
    }
   ],
   "source": [
    "validgen = valid_gen_obj.return_generator()\n",
    "\n",
    "xval, yval = next(validgen)\n",
    "\n",
    "xval.shape, yval.shape"
   ]
  },
  {
   "cell_type": "markdown",
   "metadata": {},
   "source": [
    "## 3) Neural network attempts (tgb - started 1/15/2019)"
   ]
  },
  {
   "cell_type": "code",
   "execution_count": 20,
   "metadata": {},
   "outputs": [],
   "source": [
    "from keras.layers import *\n",
    "from keras.models import *"
   ]
  },
  {
   "cell_type": "markdown",
   "metadata": {},
   "source": [
    "### 3.1) Energy conservation strategy (tgb - started 1/18/2019)\n",
    "#### Step 0: Load all the variables to calculate mass-weighted vertical integrals "
   ]
  },
  {
   "cell_type": "code",
   "execution_count": 16,
   "metadata": {},
   "outputs": [
    {
     "name": "stdout",
     "output_type": "stream",
     "text": [
      "fsub.shape= (304,)\n",
      "fdiv.shape= (304,)\n",
      "normq.shape= (158,)\n",
      "hyai.shape= (31,)\n",
      "hybi.shape= (31,)\n"
     ]
    }
   ],
   "source": [
    "# 1) Open the file containing the normalization of the targets\n",
    "ds = xr.open_dataset(TRAINDIR + PREFIX + 'train_norm.nc')\n",
    "# 2) Open the pickle files containing the pressure converters\n",
    "with open(os.path.join('/filer/z-sv-pool12c/t/Tom.Beucler/SPCAM/CBRAIN-CAM/cbrain', 'hyai_hybi.pkl'), 'rb') as f:\n",
    "            hyai, hybi = pickle.load(f)\n",
    "# 3) Define fsub, fdiv, normq\n",
    "fsub = ds.feature_means.values\n",
    "fdiv = ds.feature_stds_by_var.values\n",
    "normq = ds.target_conv.values\n",
    "print('fsub.shape=',fsub.shape)\n",
    "print('fdiv.shape=',fdiv.shape)\n",
    "print('normq.shape=',normq.shape)\n",
    "print('hyai.shape=',hyai.shape)\n",
    "print('hybi.shape=',hybi.shape)\n",
    "\n",
    "ds.close()"
   ]
  },
  {
   "cell_type": "markdown",
   "metadata": {},
   "source": [
    "#### Step 1: Implement mass conservation layer"
   ]
  },
  {
   "cell_type": "markdown",
   "metadata": {},
   "source": [
    "##### Enforcing mass conservation\n",
    "\n",
    "Reference for mass and energy conservation:\n",
    "\n",
    "(Original CAM F90 script, look for \"Compute vertical integrals of dry static energy and water\" in the script)  \n",
    "https://gitlab.com/mspritch/spcam3.0-neural-net/blob/master/models/atm/cam/src/physics/cam1/check_energy.F90\n",
    "\n",
    "(Stephan's energy/mass verification scripts)  \n",
    "https://github.com/raspstephan/CBRAIN-CAM/blob/master/notebooks/dev/old_notebooks/energy_conservation.ipynb\n",
    "\n",
    "##### Mass/Water conservation equation in W/m2\n",
    "\n",
    "If the network predicts the water vapor tendency, defined as the difference between the moisture before and after physics divided by the timestep dt (normalized in energy units W/m2):\n",
    "$$\\delta q_{v,i,l}\\left(p\\right)\\overset{\\mathrm{def}}{=}\\frac{L_{v}\\Delta p_{\\mathrm{norm}}}{g}\\frac{q_{v,i,l}^{a}\\left(p\\right)-q_{v,i,l}^{b}\\left(p\\right)}{\\Delta t}$$\n",
    "\n",
    "The water conservation equation is (normalized in energy units W/m2):\n",
    "$$\\underbrace{\\int_{0}^{\\widetilde{p_{s}}}d\\widetilde{p}\\left(\\delta q_{v}+\\delta q_{l}+\\delta q_{i}\\right)}_{\\mathrm{Difference\\ after-before\\ physics}}=\\underbrace{\\int_{\\widetilde{t}}^{\\widetilde{t}+1} \\widetilde{dt}\\ \\left(LHF-L_{v}P-10^{-3}\\cdot L_{v} P_{tend}\\right)}_{\\mathrm{Cond-Precip\\ during\\ \\Delta t}}\n",
    "$$\n",
    "\n",
    "where we have defined:\n",
    "$$\n",
    "\\widetilde{p}\\overset{\\mathrm{def}}{=}\\frac{p}{p_{\\mathrm{norm}}}\n",
    "$$\n",
    "$$\n",
    "\\widetilde{t}\\overset{\\mathrm{def}}{=}\\frac{t}{\\Delta t}\n",
    "$$\n",
    "Note that the precipitation variables here sum up to the water flux from the atmosphere to the surface due to precipitation:\n",
    "$$\n",
    "\\mathrm{Precipitation\\ flux\\ atm\\rightarrow surf.\\ \\left[kg.m^{-2}.s^{-1}\\right]}=P+10^{-3}\\cdot P_{tend}\n",
    "$$\n",
    "The idea is to predict all variables but one. The specific humidity at the lowest level of the model (here 30) is likely to be one of the most penalized output variables as it has one of the largest tendencies (in W/m2) in the final cost function. If we predict all other variables and calculate that variable as a residual, it yields:\n",
    "\n",
    "$$\\Delta \\widetilde{p}_{30} \\delta q_{v}^{30}=\\int_{\\widetilde{t}}^{\\widetilde{t}+1} \\widetilde{dt}\\ \\left(LHF-L_{v}P-10^{-3}\\cdot L_{v} P_{tend}\\right)-\\int_{0}^{\\widetilde{p_{s}}}d\\widetilde{p}\\left(\\delta q_{l}+\\delta q_{i}\\right)-\\int_{0}^{\\widetilde{p_{30}}}d\\widetilde{p}\\delta q_{v}\n",
    "$$\n",
    "\n",
    "Note that because we are already working with tendencies, the timestep variable dt is not needed in the water conservation layer.\n",
    "\n",
    "\n"
   ]
  },
  {
   "cell_type": "code",
   "execution_count": 17,
   "metadata": {},
   "outputs": [],
   "source": [
    "# tgb - 2/5/2019 - Adapated the mass conservation layer to new input format\n",
    "class MasConsLay(Layer):\n",
    "    \n",
    "    def __init__(self, fsub, fdiv, normq, hyai, hybi, output_dim, **kwargs):\n",
    "        self.fsub = fsub # Subtraction for normalization of inputs \n",
    "        self.fdiv = fdiv # Division for normalization of inputs\n",
    "        self.normq = normq # Normalization of output's water concentration\n",
    "        self.hyai = hyai # CAM constants to calculate d_pressure\n",
    "        self.hybi = hybi # CAM constants to calculate d_pressure\n",
    "        self.output_dim = output_dim # Dimension of output\n",
    "        super().__init__(**kwargs)\n",
    "        \n",
    "    def build(self, input_shape):\n",
    "        super().build(input_shape)  # Be sure to call this somewhere!\n",
    "        \n",
    "    def call(self, arrs):\n",
    "        # arrs (for arrays) is a list with \n",
    "        # [inputs=inp and the output of the previous layer=densout]\n",
    "        # inputs will be [n_sample, 304 = 30*10+4] with\n",
    "        # [QBP, QCBP, QIBP, TBP, VBP, Qdt_adiabatic, QCdt_adiabatic, QIdt_adiabatic,\n",
    "        # Tdt_adiabatic, Vdt_adiabatic, PS, SOLIN, SHFLX, LHFLX]\n",
    "        # outputs of the previous dense layer will be [n_samples, 124 = 30*4+6-2] with\n",
    "        # [DELQ\\{PHQ AT LOWEST LVL}, DELCLDLIQ, DELCLDICE, \n",
    "        # TPHYSTND\\{TPHYSTND AT LOWEST LVL}, FSNT, FSNS, FLNT, FLNS, PRECT, PRECTEND]\n",
    "        \n",
    "        # Split between the inputs inp & the output of the densely connected\n",
    "        # neural network, densout\n",
    "        inp, densout = arrs\n",
    "        \n",
    "        # 0) Constants\n",
    "        G = 9.80616; # Reference gravity constant [m.s-2]\n",
    "        L_V = 2.501e6; # Latent heat of vaporization of water [W.kg-1]\n",
    "        P0 = 1e5; # Reference surface pressure [Pa]\n",
    "        \n",
    "        # 1) Get non-dimensional pressure differences (p_tilde above)\n",
    "        # In the input vector, PS is the 151st element after \n",
    "        # the first elements = [QBP, ..., VBP with shape 30*5=150]\n",
    "        PS = tfm.add( tfm.multiply( inp[:,300], self.fdiv[300]), self.fsub[300])\n",
    "        # Reference for calculation of d_pressure is cbrain/models.py (e.g. QLayer)\n",
    "        P = tfm.add( tfm.multiply( P0, self.hyai), \\\n",
    "                    tfm.multiply( PS[:,None], self.hybi))\n",
    "        dP = tfm.subtract( P[:, 1:], P[:, :-1])\n",
    "        # norm_output = dp_norm * L_V/G so dp_norm = norm_output * G/L_V\n",
    "        dP_NORM = tfm.divide( \\\n",
    "                             tfm.multiply(self.normq[:30], \\\n",
    "                                   G), L_V)\n",
    "        # dp_tilde = dp/dp_norm\n",
    "        # Wondering about broadcasting here...\n",
    "        # tf.div or simply \\ would support broadcasting \n",
    "        dP_TILD = tfm.divide( dP, dP_NORM)\n",
    "        \n",
    "        # 2) Calculate cloud water vertical integral from level 1 to level 30\n",
    "        # The indices are tricky here because we are missing del(q_v)@(level 30)\n",
    "        # so e.g. q_liq@(level 1) is the 30th element of the output of the \n",
    "        # previous dense layer\n",
    "        CLDVEC = tfm.multiply( dP_TILD, \\\n",
    "                                  tfm.add( densout[:, 29:59], densout[:, 59:89]))\n",
    "        CLDINT = tfm.reduce_sum( CLDVEC, axis=1)\n",
    "        \n",
    "        # 3) Calculate water vapor vertical integral from level 1 to level 29\n",
    "        VAPVEC = tfm.multiply( dP_TILD[:, :29], \\\n",
    "                                  densout[:, :29])\n",
    "        VAPINT = tfm.reduce_sum( VAPVEC, axis=1)\n",
    "        \n",
    "        # 4) Calculate forcing on the right-hand side (Net Evaporation-Precipitation)\n",
    "        # E-P is already normalized to units W.m-2 in the output vector\n",
    "        # so all we need to do is input-unnormalize LHF that is taken from the input vector\n",
    "        LHF = tfm.add( tfm.multiply( inp[:,303], self.fdiv[303]), self.fsub[303])\n",
    "        # Note that total precipitation = PRECT + 1e-3*PRECTEND in the CAM model\n",
    "        # PRECTEND already multiplied by 1e-3 in output vector so no need to redo it\n",
    "        PREC = tfm.add( densout[:, 152], densout[:, 153])\n",
    "        \n",
    "        # 5) Infer water vapor tendency at level 30 as a residual\n",
    "        # Composing tfm.add 3 times because not sure how to use tfm.add_n\n",
    "        DELQV30 = tfm.divide( \\\n",
    "                             tfm.add( tfm.add( tfm.add (\\\n",
    "                                                        LHF, tfm.negative(PREC)), \\\n",
    "                                              tfm.negative(CLDINT)), \\\n",
    "                                     tfm.negative(VAPINT)), \\\n",
    "                             dP_TILD[:, 29])\n",
    "        \n",
    "        # 6) Concatenate the water tendencies with the newly inferred tendency\n",
    "        # to get the final vector out of shape (#samples,125) with\n",
    "        # [DELQ, DELCLDLIQ, DELCLDICE, \n",
    "        # TPHYSTND\\{TPHYSTND AT SURFACE}, FSNT, FSNS, FLNT, FLNS, PRECT PRECTEND]\n",
    "        # Uses https://www.tensorflow.org/api_docs/python/tf/concat\n",
    "        DELQV30 = tf.expand_dims(DELQV30,1) # Adds dimension=1 to axis=1\n",
    "        out = tf.concat([densout[:, :29], DELQV30, densout[:, 29:]], 1)\n",
    "        return out\n",
    "    \n",
    "    def compute_output_shape(self, input_shape):\n",
    "        return (input_shape[0][0], self.output_dim) # The output has size 125=30*4+6-1\n",
    "    # and is ready to be fed to the energy conservation layer\n",
    "    # before we reach the total number of outputs = 126"
   ]
  },
  {
   "cell_type": "markdown",
   "metadata": {},
   "source": [
    "#### Step 2: Implement energy conservation layer\n",
    "##### Energy conservation equation in W/m2\n",
    "\n",
    "The total energy conservation in CAM is much more delicate than the water mass conservation. One key simplification is that the net advection of moist static energy in the CRM (within a grid-box) is zero, so we only need to focus on the thermodynamics. \n",
    "  \n",
    "  The two reference scripts of SPCAM are:  \n",
    "1)https://gitlab.com/mspritch/spcam3.0-neural-net/blob/master/models/atm/cam/src/physics/cam1/check_energy.F90 (look for te_tdn)  \n",
    "2)https://gitlab.com/mspritch/spcam3.0-neural-net/blob/master/models/atm/cam/src/physics/cam1/tphysbc_internallythreaded.F90 (look for wtricesink and icesink)  \n",
    "  \n",
    "  Another very useful script is Stephan's attempt at conserving energy/making sense of the variables:  \n",
    "https://github.com/raspstephan/CBRAIN-CAM/blob/master/notebooks/dev/old_notebooks/energy_conservation.ipynb  \n",
    "which is extremely helpful since some NETCDF flags are misleading/have the wrong attributes.  \n",
    "\n",
    "Following these files, we define the total energy, where the enthalpy component uses the ice as the reference phase of energy 0 (therefore, each gram of water in the forms of liquid or vapor add to the total energy of the system):\n",
    "$$\n",
    "e\\ \\left[\\mathrm{J\\ kg^{-1}}\\right]\\overset{\\mathrm{def}}{=}\\frac{\\overrightarrow{u}\\cdot\\overrightarrow{u}}{2}+c_{p}T+L_{s}q_{v}+L_{f}q_{l}\n",
    "$$\n",
    "We then isolate the column tendency of each variable that is due to precipitation or phase change between ice and liquid within the column.\n",
    "$$\n",
    "\\delta QV_{SP}\\ \\left[\\mathrm{kg\\ m^{-2}}\\right]\\overset{\\mathrm{def}}{=}\\int_{0}^{p_{s}}\\frac{dp}{g}\\left(\\frac{dq_{v}}{dt}\\right)-\\frac{\\mathrm{LHF}}{L_{v}}\n",
    "$$\n",
    "$$\n",
    "\\delta QL_{SP}\\ \\left[\\mathrm{kg\\ m^{-2}}\\right]\\overset{\\mathrm{def}}{=}\\int_{0}^{p_{s}}\\frac{dp}{g}\\left(\\frac{dq_{l}}{dt}\\right)\n",
    "$$\n",
    "$$\n",
    "\\delta T_{SP}\\ \\left[\\mathrm{W\\ m^{-2}\\ K^{-1}}\\right]\\overset{\\mathrm{def}}{=}\\int_{0}^{p_{s}}\\frac{dp}{g}\\left(\\frac{dT}{dt}\\right)-\\frac{\\mathrm{RAD}}{c_{p}}-\\frac{\\mathrm{SHF}}{c_{p}}-\\int_{0}^{p_{s}}\\frac{dp}{g}\\left(\\frac{dT_{KE}}{dt}\\right)\n",
    "$$\n",
    "where we have introduced the net radiative heating of the column:\n",
    "$$\n",
    "\\mathrm{RAD}\\overset{\\mathrm{def}}{=}\\mathrm{SW}_{t}-\\mathrm{SW}_{s}+\\mathrm{LW}_{s}-\\mathrm{LW}_{t}\n",
    "$$\n",
    "Physically, we have removed the following energetic contributions:\n",
    "- The net evaporation due to the latent heat flux from the column water vapor tendency,\n",
    "- The net radiative flux, the sensible heat flux and the column turbulent dissipation of kinetic energy from the column temperature tendency,\n",
    "- Nothing from the column liquid water tendency, since it is all due to conversion to vapor or ice.  \n",
    "  \n",
    "The next step is to calculate the total energy tendency due to precipitation/phase change by summing all of the components we have calculated before:\n",
    "$$\n",
    "\\delta E_{\\mathrm{SP}}\\ \\left[\\mathrm{W\\ m^{-2}}\\right]=c_{p}\\delta T_{SP}+L_{s}\\delta QV_{SP}+L_{f}\\delta QL_{SP}\n",
    "$$\n",
    "Note that:\n",
    "- Because the current setup of SPCAM does not resolve momentum transfer, we have left the change in kinetic energy out.\n",
    "- Because the reference state is ice (and not liquid as is often seen for the frozen moist static energy), the latent heat flux is multiplied by the ratio L_s/L_v>1 of the latent heat of sublimation to the latent heat of vaporization.  \n",
    "  \n",
    "The change from phase change/precipitation is a sum of two terms:\n",
    "  - An energy source from the net change from (liquid) to (ice) within the column \"SNOW\".\n",
    "  - An energy sink from the precipitation flux from the (atmopshere) to the (surface) \"P\".\n",
    "$$\n",
    "\\delta E_{\\mathrm{SP}}\\ \\left[\\mathrm{W\\ m^{-2}}\\right]=L_{f}\\left(SNOW+10^{-3}SNOW_{tend}-P-10^{-3}P_{tend}\\ \\left[\\mathrm{All\\ in\\ kg\\ m^{-2}\\ s^{-1}}\\right]\\right)\n",
    "$$  \n",
    "We work with the same non-dimensional variable as before, since all variables have been normalized in the output vector to have units W/m2. Additionally to:\n",
    "$$\n",
    "\\delta q_{v,i,l}\\left(p\\right)\\overset{\\mathrm{def}}{=}\\frac{L_{v}\\Delta p_{\\mathrm{norm}}}{g}\\frac{q_{v,i,l}^{a}\\left(p\\right)-q_{v,i,l}^{b}\\left(p\\right)}{\\Delta t}\n",
    "$$\n",
    "we now also introduce the level-by-level temperature tendency in units W/m2:\n",
    "$$\n",
    "\\delta T\\left(p\\right)\\overset{\\mathrm{def}}{=}\\frac{c_{p}\\Delta p_{\\mathrm{norm}}}{g}\\left(\\frac{dT}{dt}\\right)\\left(p\\right)\n",
    "$$\n",
    "  \n",
    "  The equations become:\n",
    "$$\n",
    "L_{v}\\cdot\\delta QV_{SP}\\ \\left[\\mathrm{W\\ m^{-2}}\\right]\\overset{\\mathrm{def}}{=}\\int_{0}^{\\widetilde{p_{s}}}d\\widetilde{p}\\cdot\\delta q_{v}-\\mathrm{LHF}\n",
    "$$\n",
    "$$\n",
    "L_{v}\\cdot\\delta QL_{SP}\\ \\left[\\mathrm{W\\ m^{-2}}\\right]\\overset{\\mathrm{def}}{=}\\int_{0}^{\\widetilde{p_{s}}}d\\widetilde{p}\\cdot\\delta q_{l}\n",
    "$$\n",
    "$$\n",
    "c_{p}\\cdot\\delta T_{SP}\\ \\left[\\mathrm{W\\ m^{-2}}\\right]\\overset{\\mathrm{def}}{=}\\int_{0}^{\\widetilde{p_{s}}}d\\widetilde{p}\\cdot\\delta T-\\mathrm{RAD}-\\mathrm{SHF}-\\int_{0}^{\\widetilde{p_{s}}}d\\widetilde{p}\\cdot\\delta T_{TKE}\n",
    "$$  \n",
    "  \n",
    "  We now isolate the temperature tendency at level 30 and write it as a residual of the energy budget using all the variables normalized to units W/m2:\n",
    "$$\n",
    "\\begin{aligned}\\Delta\\widetilde{p}_{30}\\cdot\\delta T_{30} & =\\frac{L_{f}}{L_{v}}\\left(L_{v}SNOW+10^{-3}L_{v}SNOW_{tend}-L_{v}P-10^{-3}L_{v}P_{tend}\\right)\\\\\n",
    " & +\\mathrm{RAD}+\\mathrm{SHF}+\\int_{0}^{\\widetilde{p_{s}}}d\\widetilde{p}\\cdot\\delta T_{TKE}\\\\\n",
    " & -\\frac{L_{s}}{L_{v}}\\left(\\int_{0}^{\\widetilde{p_{s}}}d\\widetilde{p}\\cdot\\delta q_{v}-\\mathrm{LHF}\\right)-\\frac{L_{f}}{L_{v}}\\int_{0}^{\\widetilde{p_{s}}}d\\widetilde{p}\\cdot\\delta q_{l}\\\\\n",
    " & -\\int_{0}^{\\widetilde{p_{30}}}d\\widetilde{p}\\cdot\\delta T\n",
    "\\end{aligned}\n",
    "$$"
   ]
  },
  {
   "cell_type": "code",
   "execution_count": 18,
   "metadata": {},
   "outputs": [],
   "source": [
    "# tgb - 2/5/2019 - Change to adapt to new input format\n",
    "class EntConsLay(Layer):\n",
    "    \n",
    "    def __init__(self, fsub, fdiv, normq, hyai, hybi, output_dim, **kwargs):\n",
    "        self.fsub = fsub # Subtraction for normalization of inputs \n",
    "        self.fdiv = fdiv # Division for normalization of inputs\n",
    "        self.normq = normq # Normalization of output's water concentration\n",
    "        self.hyai = hyai # CAM constants to calculate d_pressure\n",
    "        self.hybi = hybi # CAM constants to calculate d_pressure\n",
    "        self.output_dim = output_dim # Dimension of output\n",
    "        super().__init__(**kwargs)\n",
    "        \n",
    "    def build(self, input_shape):\n",
    "        super().build(input_shape)  # Be sure to call this somewhere!\n",
    "        \n",
    "    def call(self, arrs):\n",
    "        # arrs (for arrays) is a list with \n",
    "        # [inputs=inp and the output of the previous layer=massout]\n",
    "        # inputs will be [n_sample, 304 = 30*10+4] with\n",
    "        # [QBP, QCBP, QIBP, TBP, VBP, Qdt_adiabatic, QCdt_adiabatic, QIdt_adiabatic,\n",
    "        # Tdt_adiabatic, Vdt_adiabatic, PS, SOLIN, SHFLX, LHFLX]\n",
    "        # outputs of the previous dense layer will be [n_samples, 157 = 30*5+8-1] with\n",
    "        # [DELQ, DELCLDLIQ, DELCLDICE, \n",
    "        # TPHYSTND\\{TPHYSTND AT LOWEST LVL}, DTVKE,\n",
    "        # FSNT, FSNS, FLNT, FLNS, PRECT, PRECTEND, PRECST, PRECSTEN]\n",
    "        \n",
    "        # Split between the inputs inp & the output of the densely connected\n",
    "        # neural network, massout\n",
    "        inp, massout = arrs\n",
    "        \n",
    "        # 0) Constants\n",
    "        G = 9.80616; # Reference gravity constant [m.s-2]\n",
    "        L_F = 3.337e5; # Latent heat of fusion of water [W.kg-1]\n",
    "        L_V = 2.501e6; # Latent heat of vaporization of water [W.kg-1]\n",
    "        P0 = 1e5; # Reference surface pressure [Pa]\n",
    "        \n",
    "        # 1) Get non-dimensional pressure differences (p_tilde above)\n",
    "        # In the input vector, PS is the 151st element after \n",
    "        # the first elements = [QBP, ..., VBP with shape 30*5=150]\n",
    "        PS = tfm.add( tfm.multiply( inp[:,300], self.fdiv[300]), self.fsub[300])\n",
    "        # Reference for calculation of d_pressure is cbrain/models.py (e.g. QLayer)\n",
    "        P = tfm.add( tfm.multiply( P0, self.hyai), \\\n",
    "                    tfm.multiply( PS[:,None], self.hybi))\n",
    "        dP = tfm.subtract( P[:, 1:], P[:, :-1])\n",
    "        # norm_output = dp_norm * L_V/G so dp_norm = norm_output * G/L_V\n",
    "        dP_NORM = tfm.divide( \\\n",
    "                             tfm.multiply(self.normq[:30], \\\n",
    "                                          G),\\\n",
    "                             L_V)\n",
    "        # dp_tilde = dp/dp_norm\n",
    "        dP_TILD = tfm.divide( dP, dP_NORM)\n",
    "        \n",
    "        # 2) Calculate net energy input from phase change and precipitation\n",
    "        # PHAS = Lf/Lv*((PRECST+PRECSTEN)-(PRECT+PRECTEND))\n",
    "        PHAS = tfm.divide( tfm.multiply( tfm.subtract(\\\n",
    "                                                      tfm.add( massout[:,155], massout[:,156]),\\\n",
    "                                                      tfm.add( massout[:,153], massout[:,154])),\\\n",
    "                                        L_F),\\\n",
    "                          L_V)\n",
    "        \n",
    "        # 3) Calculate net energy input from radiation, sensible heat flux and turbulent KE\n",
    "        # 3.1) RAD = FSNT-FSNS-FLNT+FLNS\n",
    "        RAD = tfm.add(\\\n",
    "                      tfm.subtract( massout[:,149], massout[:,150]),\\\n",
    "                      tfm.subtract( massout[:,152], massout[:,151]))\n",
    "        # 3.2) Unnormalize sensible heat flux\n",
    "        SHF = tfm.add( tfm.multiply( inp[:,302], self.fdiv[302]), self.fsub[302])\n",
    "        # 3.3) Net turbulent kinetic energy dissipative heating is the column-integrated \n",
    "        # turbulent kinetic energy energy dissipative heating\n",
    "        KEDVEC = tfm.multiply( dP_TILD, massout[:, 119:149])\n",
    "        KEDINT = tfm.reduce_sum( KEDVEC, axis=1)\n",
    "        \n",
    "        # 4) Calculate tendency of normalized column water vapor due to phase change\n",
    "        # 4.1) Unnormalize latent heat flux\n",
    "        LHF = tfm.add( tfm.multiply( inp[:,303], self.fdiv[303]), self.fsub[303])\n",
    "        # 4.2) Column water vapor is the column integral of specific humidity\n",
    "        PHQVEC = tfm.multiply( dP_TILD, massout[:, :30])\n",
    "        PHQINT = tfm.reduce_sum( PHQVEC, axis=1)\n",
    "        # 4.3) Multiply by L_S/L_V to normalize (explanation above)\n",
    "        SPDQINT = tfm.divide( tfm.multiply( tfm.subtract(\\\n",
    "                                                         PHQINT, LHF),\\\n",
    "                                           L_S),\\\n",
    "                             L_V)\n",
    "        \n",
    "        # 5) Same operation for liquid water tendency but multiplied by L_F/L_V\n",
    "        SPDQCINT = tfm.divide( tfm.multiply(\\\n",
    "                                            tfm.reduce_sum(\\\n",
    "                                                           tfm.multiply( dP_TILD, massout[:, 30:60]),\\\n",
    "                                                           axis=1),\\\n",
    "                                            L_F),\\\n",
    "                              L_V)\n",
    "        \n",
    "        # 6) Same operation for temperature but only integrate from level 1 to level 29\n",
    "        DTINT = tfm.reduce_sum( tfm.multiply( dP_TILD[:, :29], massout[:, 90:119]), axis=1)\n",
    "\n",
    "        # 7) Now calculate dT30 as a residual\n",
    "        dT30 = tfm.divide(tfm.add(tfm.add(tfm.add(tfm.add(tfm.add(tfm.add(\\\n",
    "                                                                          PHAS,RAD),\\\n",
    "                                                                  SHF),\\\n",
    "                                                          KEDINT),\\\n",
    "                                                  tfm.negative( SPDQINT)),\\\n",
    "                                          tfm.negative( SPDQCINT)),\\\n",
    "                                  tfm.negative( DTINT)),\\\n",
    "                          dP_TILD[:, 29])\n",
    "        dT30 = tf.expand_dims(dT30,1)\n",
    "\n",
    "        out = tf.concat([massout[:, :119], dT30, massout[:, 119:]], 1)\n",
    "        return out\n",
    "    \n",
    "    def compute_output_shape(self, input_shape):\n",
    "        return (input_shape[0][0], self.output_dim)\n",
    "    # and is ready to be used in the cost function"
   ]
  },
  {
   "cell_type": "markdown",
   "metadata": {},
   "source": [
    "#### Step 3: Implement custom loss function\n",
    "$$\n",
    "\\mathrm{Loss}\\left[\\mathrm{W^{2}.m^{-4}}\\right]=\\alpha\\cdot\\mathrm{MSE}+\\left(1-\\alpha\\right)\\left(\\mathrm{Enthalpy\\ residual}^{2}+\\mathrm{Mass\\ residual}^{2}\\right)\\ \\ |\\ \\ \\alpha\\in[0,1]\n",
    "$$\n",
    "tgb - 2/5/2019- Inspired from \n",
    "1) https://stackoverflow.com/questions/46858016/keras-custom-loss-function-to-pass-arguments-other-than-y-true-and-y-pred for the custom loss function  \n",
    "2) https://stackoverflow.com/questions/46464549/keras-custom-loss-function-accessing-current-input-pattern for using the inputs in the custom loss function\n",
    "Uses the function  massent_check as reference for the square Energy and mass residuals"
   ]
  },
  {
   "cell_type": "code",
   "execution_count": 46,
   "metadata": {},
   "outputs": [],
   "source": [
    "def customLoss(input_tensor,fsub,fdiv,normq,hyai,hybi,alpha = 0.5):\n",
    "\n",
    "        # tgb - 2/5/2019 - Loss function written above\n",
    "    def lossFunction(y_true,y_pred):    \n",
    "        loss = tfm.multiply(alpha, mse(y_true, y_pred))\n",
    "        loss += tfm.multiply(tfm.subtract(1.0,alpha), \\\n",
    "                            massent_res(input_tensor,y_pred,fsub,fdiv,normq,hyai,hybi))\n",
    "        return loss\n",
    "\n",
    "    # tgb - 2/5/2019 - Mass and enthalpy residual function\n",
    "    # Adapted from massent_check by converting numpy to tensorflow\n",
    "    def massent_res(x,y,fsub,fdiv,normq,hyai,hybi):\n",
    "\n",
    "        # 0) Constants\n",
    "        G = 9.80616; # Reference gravity constant [m.s-2]\n",
    "        L_F = 3.337e5; # Latent heat of fusion of water [W.kg-1]\n",
    "        L_V = 2.501e6; # Latent heat of vaporization of water [W.kg-1]\n",
    "        L_S = L_F+L_V; # Latent heat of sublimation of water [W.kg-1]\n",
    "        P0 = 1e5; # Reference surface pressure [Pa]   \n",
    "\n",
    "        # WATER&ENTHALPY) Get non-dimensional pressure differences (p_tilde above)\n",
    "        # In the input vector, PS is the 151st element after \n",
    "        # the first elements = [QBP, ..., VBP with shape 30*5=150]\n",
    "        PS = tfm.add( tfm.multiply( x[:,300], fdiv[300]), fsub[300])\n",
    "        # Reference for calculation of d_pressure is cbrain/models.py (e.g. QLayer)\n",
    "        P = tfm.add( tfm.multiply( P0, hyai), \\\n",
    "        tfm.multiply( PS[:,None], hybi))\n",
    "        dP = tfm.subtract( P[:, 1:], P[:, :-1])\n",
    "        # norm_output = dp_norm * L_V/G so dp_norm = norm_output * G/L_V\n",
    "        dP_NORM = tfm.divide( \\\n",
    "        tfm.multiply(normq[:30], \\\n",
    "                  G),\\\n",
    "        L_V)\n",
    "        # dp_tilde = dp/dp_norm\n",
    "        dP_TILD = tfm.divide( dP, dP_NORM)\n",
    "\n",
    "        # WATER.1) Calculate water vertical integral from level 1 to level 30\n",
    "        WATVEC = tfm.multiply( dP_TILD, tfm.add(tfm.add(y[:, :30],\\\n",
    "                                                        y[:, 30:60]),\\\n",
    "                                                y[:, 60:90]))\n",
    "        WATINT = tfm.reduce_sum( WATVEC, axis=1)\n",
    "\n",
    "        # WATER.2) Calculate forcing on the right-hand side (Net Evaporation-Precipitation)\n",
    "        # E-P is already normalized to units W.m-2 in the output vector\n",
    "        # so all we need to do is input-unnormalize LHF that is taken from the input vector\n",
    "        LHF = tfm.add( tfm.multiply( x[:,303], fdiv[303]), fsub[303])\n",
    "        # Note that total precipitation = PRECT + 1e-3*PRECTEND in the CAM model\n",
    "        # PRECTEND already multiplied by 1e-3 in output vector so no need to redo it\n",
    "        PREC = tfm.add( y[:, 154], y[:, 155])\n",
    "\n",
    "        # WATER.FINAL) Residual = E-P-DWATER/DT\n",
    "        WATRES = tfm.add(tfm.add(LHF,\\\n",
    "                                 tfm.negative(PREC)),\\\n",
    "                         tfm.negative(WATINT))\n",
    "\n",
    "        # ENTHALPY.1) Calculate net energy input from phase change and precipitation\n",
    "        # PHAS = Lf/Lv*((PRECST+PRECSTEN)-(PRECT+PRECTEND))\n",
    "        PHAS = tfm.divide( tfm.multiply( tfm.subtract(\\\n",
    "                                              tfm.add( y[:,156], y[:,157]),\\\n",
    "                                              tfm.add( y[:,154], y[:,155])),\\\n",
    "                                      L_F),\\\n",
    "                         L_V)\n",
    "\n",
    "        # ENTHALPY.2) Calculate net energy input from radiation, sensible heat flux and turbulent KE\n",
    "        # 2.1) RAD = FSNT-FSNS-FLNT+FLNS\n",
    "        RAD = tfm.add(\\\n",
    "                      tfm.subtract( y[:,150], y[:,151]),\\\n",
    "                      tfm.subtract( y[:,153], y[:,152]))\n",
    "        # 2.2) Unnormalize sensible heat flux\n",
    "        SHF = tfm.add( tfm.multiply( x[:,302], fdiv[302]), fsub[302])\n",
    "        # 2.3) Net turbulent kinetic energy dissipative heating is the column-integrated \n",
    "        # turbulent kinetic energy energy dissipative heating\n",
    "        KEDVEC = tfm.multiply( dP_TILD, y[:, 120:150])\n",
    "        KEDINT = tfm.reduce_sum( KEDVEC, axis=1)\n",
    "\n",
    "        # ENTHALPY.3) Calculate tendency of normalized column water vapor due to phase change\n",
    "        # 3.1) Column water vapor is the column integral of specific humidity\n",
    "        PHQVEC = tfm.multiply( dP_TILD, y[:, :30])\n",
    "        PHQINT = tfm.reduce_sum( PHQVEC, axis=1)\n",
    "        # 3.2) Multiply by L_S/L_V to normalize (explanation above)\n",
    "        SPDQINT = tfm.divide( tfm.multiply( tfm.subtract(\\\n",
    "                                                     PHQINT, LHF),\\\n",
    "                                        L_S),\\\n",
    "                           L_V)\n",
    "\n",
    "        # ENTHALPY.4) Same operation for liquid water tendency but multiplied by L_F/L_V\n",
    "        SPDQCINT = tfm.divide( tfm.multiply(\\\n",
    "                                      tfm.reduce_sum(\\\n",
    "                                             tfm.multiply( dP_TILD, y[:, 30:60]),\\\n",
    "                                             axis=1),\\\n",
    "                                      L_F),\\\n",
    "                         L_V)\n",
    "\n",
    "        # ENTHALPY.5) Same operation for temperature tendency\n",
    "        DTINT = tfm.reduce_sum( tfm.multiply( dP_TILD[:, :30], y[:, 90:120]), axis=1)\n",
    "\n",
    "        # ENTHALPY.FINAL) Residual = SPDQ+SPDQC+DTINT-RAD-SHF-PHAS\n",
    "        ENTRES = tfm.add(tfm.add(tfm.add(tfm.add(tfm.add(tfm.add(SPDQINT,\\\n",
    "                                                                 SPDQCINT),\\\n",
    "                                                         DTINT),\\\n",
    "                                                 tfm.negative(RAD)),\\\n",
    "                                         tfm.negative(SHF)),\\\n",
    "                                 tfm.negative(PHAS)),\\\n",
    "                         tfm.negative(KEDINT))\n",
    "        # Return sum of water and enthalpy square residuals\n",
    "        return tfm.add( tfm.square(WATRES), tfm.square(ENTRES))\n",
    "\n",
    "    return lossFunction"
   ]
  },
  {
   "cell_type": "markdown",
   "metadata": {},
   "source": [
    "#### Step 4: Formulate mass/energy conserving model, and unconstrained model\n",
    "We start with inputs [QBP, QCBP, QIBP, TBP, VBP, Qdt_adiabatic, QCdt_adiabatic, QIdt_adiabatic, Tdt_adiabatic, Vdt_adiabatic, PS, SOLIN, SHFLX, LHFLX] of shape 304.  \n",
    "We then have a few dense layers with size proportional to a power of 2\n",
    "  \n",
    "For now, there is no other \"physically-constraining\" layers than  \n",
    "the mass+energy conservation layers which take input of shape 156  \n",
    "  \n",
    "After mass layer outputs vector of shape 157  \n",
    "After energy layer outputs final vector of shape 158  \n",
    "i.e. [PHQ, PHCLDLIQ, PHCLDICE, TPHYSTND, DTVKE, FSNT, FSNS, FLNT, FLNS, PRECT, PRECTEND, PRECST, PRECSTEN]"
   ]
  },
  {
   "cell_type": "code",
   "execution_count": 56,
   "metadata": {},
   "outputs": [],
   "source": [
    "# Conservative model with 5 dense layers\n",
    "inp = Input(shape=(304,))\n",
    "densout = Dense(512, activation='relu')(inp)\n",
    "for i in range (4):\n",
    "    densout = Dense(512, activation='relu')(densout)\n",
    "densout = Dense(156, activation='relu')(densout)    \n",
    "massout = MasConsLay(\n",
    "    input_shape=(156,), fsub=fsub, fdiv=fdiv, normq=normq,\\\n",
    "    hyai=hyai, hybi=hybi, output_dim = 157\n",
    ")([inp, densout])\n",
    "out = EntConsLay(\n",
    "    input_shape=(157,), fsub=fsub, fdiv=fdiv, normq=normq,\\\n",
    "    hyai=hyai, hybi=hybi, output_dim = 158\n",
    ")([inp, massout])\n",
    "mod_cons_5dens = Model(inputs=inp, outputs=out)"
   ]
  },
  {
   "cell_type": "code",
   "execution_count": null,
   "metadata": {},
   "outputs": [],
   "source": [
    "# Same model, unconstrained\n",
    "inp = Input(shape=(304,))\n",
    "densout = Dense(512, activation='relu')(inp)\n",
    "for i in range (4):\n",
    "    densout = Dense(512, activation='relu')(densout)\n",
    "out = Dense(158, activation='relu')(densout)    \n",
    "mod_uncons_5dens = Model(inputs=inp, outputs=out)"
   ]
  },
  {
   "cell_type": "code",
   "execution_count": null,
   "metadata": {},
   "outputs": [],
   "source": [
    "# Using a Lagrange multipler in the loss function\n",
    "# alpha = 0.5 (equal contrib from MSE and residual)\n",
    "inp05 = Input(shape=(304,))\n",
    "densout = Dense(512, activation='relu')(inp05)\n",
    "for i in range (4):\n",
    "    densout = Dense(512, activation='relu')(densout)\n",
    "out = Dense(158, activation='relu')(densout)    \n",
    "mod_lagr05_5dens = Model(inputs=inp05, outputs=out)"
   ]
  },
  {
   "cell_type": "code",
   "execution_count": null,
   "metadata": {},
   "outputs": [],
   "source": [
    "# alpha = 0.01 (mostly residual)\n",
    "inp001 = Input(shape=(304,))\n",
    "densout = Dense(512, activation='relu')(inp001)\n",
    "for i in range (4):\n",
    "    densout = Dense(512, activation='relu')(densout)\n",
    "out = Dense(158, activation='relu')(densout)    \n",
    "mod_lagr001_5dens = Model(inputs=inp001, outputs=out)"
   ]
  },
  {
   "cell_type": "code",
   "execution_count": 73,
   "metadata": {},
   "outputs": [],
   "source": [
    "# alpha = 0.99 (mostly mse)\n",
    "inp099 = Input(shape=(304,))\n",
    "densout = Dense(512, activation='relu')(inp099)\n",
    "for i in range (4):\n",
    "    densout = Dense(512, activation='relu')(densout)\n",
    "out = Dense(158, activation='relu')(densout)    \n",
    "mod_lagr099_5dens = Model(inputs=inp099, outputs=out)"
   ]
  },
  {
   "cell_type": "markdown",
   "metadata": {},
   "source": [
    "tgb - 2/5/2019 - Here, I compile the standard models with .compile(optimizer,loss)  \n",
    "or the model with custom loss function with .compile(loss=custom_loss_wrapper(input_tensor), optimizer=XX)  \n",
    "See  https://stackoverflow.com/questions/46464549/keras-custom-loss-function-accessing-current-input-pattern for more information."
   ]
  },
  {
   "cell_type": "code",
   "execution_count": 74,
   "metadata": {},
   "outputs": [],
   "source": [
    "mod_lagr099_5dens.compile(loss=customLoss(inp099,fsub,fdiv,normq,hyai,hybi,alpha = 0.99),\\\n",
    "                       optimizer='adadelta')\n",
    "#mod_uncons_5dens.compile('adadelta','mse') # careful, apparently compile does NOT reset weights and biases\n",
    "# See https://stackoverflow.com/questions/47995324/does-model-compile-initialize-all-the-weights-and-biases-in-keras-tensorflow"
   ]
  },
  {
   "cell_type": "code",
   "execution_count": 75,
   "metadata": {},
   "outputs": [
    {
     "name": "stdout",
     "output_type": "stream",
     "text": [
      "_________________________________________________________________\n",
      "Layer (type)                 Output Shape              Param #   \n",
      "=================================================================\n",
      "input_18 (InputLayer)        (None, 304)               0         \n",
      "_________________________________________________________________\n",
      "dense_103 (Dense)            (None, 512)               156160    \n",
      "_________________________________________________________________\n",
      "dense_104 (Dense)            (None, 512)               262656    \n",
      "_________________________________________________________________\n",
      "dense_105 (Dense)            (None, 512)               262656    \n",
      "_________________________________________________________________\n",
      "dense_106 (Dense)            (None, 512)               262656    \n",
      "_________________________________________________________________\n",
      "dense_107 (Dense)            (None, 512)               262656    \n",
      "_________________________________________________________________\n",
      "dense_108 (Dense)            (None, 158)               81054     \n",
      "=================================================================\n",
      "Total params: 1,287,838\n",
      "Trainable params: 1,287,838\n",
      "Non-trainable params: 0\n",
      "_________________________________________________________________\n"
     ]
    }
   ],
   "source": [
    "mod_lagr099_5dens.summary()"
   ]
  },
  {
   "cell_type": "code",
   "execution_count": 76,
   "metadata": {},
   "outputs": [
    {
     "name": "stdout",
     "output_type": "stream",
     "text": [
      "Epoch 1/5\n",
      "9024/9024 [==============================] - 55s 6ms/step - loss: 453.6363 - val_loss: 369.0039\n",
      "Epoch 2/5\n",
      "9024/9024 [==============================] - 54s 6ms/step - loss: 405.2299 - val_loss: 360.0665\n",
      "Epoch 3/5\n",
      "9024/9024 [==============================] - 54s 6ms/step - loss: 398.0699 - val_loss: 357.1843\n",
      "Epoch 4/5\n",
      "9024/9024 [==============================] - 54s 6ms/step - loss: 393.3886 - val_loss: 351.3977\n",
      "Epoch 5/5\n",
      "9024/9024 [==============================] - 54s 6ms/step - loss: 390.4501 - val_loss: 351.5848\n"
     ]
    }
   ],
   "source": [
    "hist_lagr099_5dens = mod_lagr099_5dens.fit_generator(gen, train_gen_obj.n_batches, epochs=5, \\\n",
    "                     validation_data=validgen, validation_steps= valid_gen_obj.n_batches)"
   ]
  },
  {
   "cell_type": "code",
   "execution_count": 32,
   "metadata": {},
   "outputs": [
    {
     "data": {
      "image/png": "[encoded data removed]",
      "text/plain": [
       "<Figure size 432x288 with 1 Axes>"
      ]
     },
     "metadata": {
      "needs_background": "light"
     },
     "output_type": "display_data"
    }
   ],
   "source": [
    "import matplotlib.pyplot as plt\n",
    "\n",
    "hdict1 = hist_uncons_5dens.history\n",
    "train_loss_values1 = hdict1['loss']\n",
    "valid_loss_values1 = hdict1['val_loss']\n",
    "epochs1 = range(1, len(train_loss_values1) + 1)\n",
    "hdict2 = hist_cons_5dens.history\n",
    "train_loss_values2 = hdict2['loss']\n",
    "valid_loss_values2 = hdict2['val_loss']\n",
    "epochs2 = range(1, len(train_loss_values2) + 1)\n",
    "\n",
    "plt.plot(epochs1, train_loss_values1, 'bo', label='Unconstrained Training')\n",
    "plt.plot(epochs1, valid_loss_values1, 'b', label='Unconstrained Validation')\n",
    "plt.plot(epochs2, train_loss_values2, 'ro', label='Constrained Training')\n",
    "plt.plot(epochs2, valid_loss_values2, 'r', label='Constrained Validation')\n",
    "plt.title('Training and validation loss')\n",
    "plt.xlabel('Epochs')\n",
    "plt.ylabel('Loss (W.m^{-2})')\n",
    "plt.legend(); plt.show()"
   ]
  },
  {
   "cell_type": "code",
   "execution_count": 34,
   "metadata": {},
   "outputs": [
    {
     "name": "stdout",
     "output_type": "stream",
     "text": [
      "truth= [ 7.9672202e-05  4.7920624e-04  2.4025740e-02  5.5195879e-02\n",
      "  1.1413122e-01  9.9763870e-02  2.2796452e-02  8.7691424e-03\n",
      "  9.2103053e-03  7.1256983e-01  7.7988184e+02  5.6302869e+02\n",
      "  2.6318073e+02  6.2778019e+01  6.9902046e-03 -7.8684932e-01\n",
      "  0.0000000e+00 -2.4350360e-01]\n",
      "unconstrained= [  0.          0.          0.          0.          0.          0.\n",
      "   0.          0.          0.          1.3625866 788.68677   562.22266\n",
      " 282.95648    55.21782     5.0673413   0.          0.          0.       ]\n",
      "conserving= [0.         0.4019227  0.00784189 0.03601322 0.         0.46972626\n",
      " 0.20347854 0.31218743 0.21515115 0.         0.         0.\n",
      " 0.         0.         0.15628235 0.2403318  0.10572945 0.        ]\n"
     ]
    },
    {
     "data": {
      "image/png": "[encoded data removed]",
      "text/plain": [
       "<Figure size 432x288 with 1 Axes>"
      ]
     },
     "metadata": {
      "needs_background": "light"
     },
     "output_type": "display_data"
    }
   ],
   "source": [
    "pred_uncons = mod_uncons_5dens.predict_on_batch(x)\n",
    "pred_cons = mod_cons_5dens.predict_on_batch(x)\n",
    "ind_test = 150;\n",
    "plt.plot(pred_uncons[ind_test,:], label='unconstrained')\n",
    "plt.plot(pred_cons[ind_test,:], label='conserving')\n",
    "plt.plot(y[ind_test,:], label='truth')\n",
    "plt.legend();\n",
    "print('truth=',y[ind_test,140:])\n",
    "print('unconstrained=',pred_uncons[ind_test,140:])\n",
    "print('conserving=',pred_cons[ind_test,140:])"
   ]
  },
  {
   "cell_type": "markdown",
   "metadata": {},
   "source": [
    "#### Step 5: Check energy and mass conservation for the predictions\n",
    "If we coded the mass/enthalpy conservation layers properly  \n",
    "pred_cons from the mass/enthalpy-conserving model_cons should conserve mass/energy  \n",
    "pred_uncons which is a \"naive\" dense network should not a priori conserve mass/energy  \n",
    "The function below is directly adapted from the tested mass/enthalpy conservation layers in numpy that have been used to develop the tensorflow layers"
   ]
  },
  {
   "cell_type": "code",
   "execution_count": 89,
   "metadata": {},
   "outputs": [],
   "source": [
    "def massent_check(x,y,fsub=fsub,fdiv=fdiv,normq=normq,hyai=hyai,hybi=hybi,outtype=\"graph\"):\n",
    "    import numpy as np\n",
    "    # 0) Constants\n",
    "    G = 9.80616; # Reference gravity constant [m.s-2]\n",
    "    L_F = 3.337e5; # Latent heat of fusion of water [W.kg-1]\n",
    "    L_V = 2.501e6; # Latent heat of vaporization of water [W.kg-1]\n",
    "    L_S = L_F+L_V; # Latent heat of sublimation of water [W.kg-1]\n",
    "    P0 = 1e5; # Reference surface pressure [Pa]   \n",
    "\n",
    "    # WATER&ENTHALPY) Get non-dimensional pressure differences (p_tilde above)\n",
    "    # In the input vector, PS is the 151st element after \n",
    "    # the first elements = [QBP, ..., VBP with shape 30*5=150]\n",
    "    PS = np.add( np.multiply( x[:,300], fdiv[300]), fsub[300])\n",
    "    # Reference for calculation of d_pressure is cbrain/models.py (e.g. QLayer)\n",
    "    P = np.add( np.multiply( P0, hyai), \\\n",
    "    np.multiply( PS[:,None], hybi))\n",
    "    dP = np.subtract( P[:, 1:], P[:, :-1])\n",
    "    # norm_output = dp_norm * L_V/G so dp_norm = norm_output * G/L_V\n",
    "    dP_NORM = np.divide( \\\n",
    "    np.multiply(normq[:30], \\\n",
    "              G),\\\n",
    "    L_V)\n",
    "    # dp_tilde = dp/dp_norm\n",
    "    dP_TILD = np.divide( dP, dP_NORM)\n",
    "\n",
    "    # WATER.1) Calculate water vertical integral from level 1 to level 30\n",
    "    WATVEC = np.multiply( dP_TILD, y[:, :30] + y[:, 30:60] + y[:, 60:90])\n",
    "    WATINT = np.sum( WATVEC, axis=1)\n",
    "\n",
    "    # WATER.2) Calculate forcing on the right-hand side (Net Evaporation-Precipitation)\n",
    "    # E-P is already normalized to units W.m-2 in the output vector\n",
    "    # so all we need to do is input-unnormalize LHF that is taken from the input vector\n",
    "    LHF = np.add( np.multiply( x[:,303], fdiv[303]), fsub[303])\n",
    "    # Note that total precipitation = PRECT + 1e-3*PRECTEND in the CAM model\n",
    "    # PRECTEND already multiplied by 1e-3 in output vector so no need to redo it\n",
    "    PREC = np.add( y[:, 154], y[:, 155])\n",
    "\n",
    "    # WATER.FINAL) Residual = E-P-DWATER/DT\n",
    "    WATRES = LHF-PREC-WATINT\n",
    "    \n",
    "    # ENTHALPY.1) Calculate net energy input from phase change and precipitation\n",
    "    # PHAS = Lf/Lv*((PRECST+PRECSTEN)-(PRECT+PRECTEND))\n",
    "    PHAS = np.divide( np.multiply( np.subtract(\\\n",
    "                                          np.add( y[:,156], y[:,157]),\\\n",
    "                                          np.add( y[:,154], y[:,155])),\\\n",
    "                                  L_F),\\\n",
    "                     L_V)\n",
    "    \n",
    "    # ENTHALPY.2) Calculate net energy input from radiation, sensible heat flux and turbulent KE\n",
    "    # 2.1) RAD = FSNT-FSNS-FLNT+FLNS\n",
    "    RAD = np.add(\\\n",
    "            np.subtract( y[:,150], y[:,151]),\\\n",
    "            np.subtract( y[:,153], y[:,152]))\n",
    "    # 2.2) Unnormalize sensible heat flux\n",
    "    SHF = np.add( np.multiply( x[:,302], fdiv[302]), fsub[302])\n",
    "    # 2.3) Net turbulent kinetic energy dissipative heating is the column-integrated \n",
    "    # turbulent kinetic energy energy dissipative heating\n",
    "    KEDVEC = np.multiply( dP_TILD, y[:, 120:150])\n",
    "    KEDINT = np.sum( KEDVEC, axis=1)\n",
    "    \n",
    "    # ENTHALPY.3) Calculate tendency of normalized column water vapor due to phase change\n",
    "    # 3.1) Column water vapor is the column integral of specific humidity\n",
    "    PHQVEC = np.multiply( dP_TILD, y[:, :30])\n",
    "    PHQINT = np.sum( PHQVEC, axis=1)\n",
    "    # 3.2) Multiply by L_S/L_V to normalize (explanation above)\n",
    "    SPDQINT = np.divide( np.multiply( np.subtract(\\\n",
    "                                                 PHQINT, LHF),\\\n",
    "                                    L_S),\\\n",
    "                       L_V)\n",
    "    \n",
    "    # ENTHALPY.4) Same operation for liquid water tendency but multiplied by L_F/L_V\n",
    "    SPDQCINT = np.divide( np.multiply(\\\n",
    "                                  np.sum(\\\n",
    "                                         np.multiply( dP_TILD, y[:, 30:60]),\\\n",
    "                                         axis=1),\\\n",
    "                                  L_F),\\\n",
    "                     L_V)\n",
    "    \n",
    "    # ENTHALPY.5) Same operation for temperature tendency\n",
    "    DTINT = np.sum( np.multiply( dP_TILD[:, :30], y[:, 90:120]), axis=1)\n",
    "    \n",
    "    # ENTHALPY.FINAL) Residual = SPDQ+SPDQC+DTINT-RAD-SHF-PHAS\n",
    "    ENTRES = SPDQINT+SPDQCINT+DTINT-RAD-SHF-PHAS-KEDINT\n",
    "    \n",
    "    if outtype==\"graph\":\n",
    "    \n",
    "        import matplotlib.pyplot as plt\n",
    "        from matplotlib import rc\n",
    "        plt.rc('text', usetex=True)\n",
    "        plt.rc('font', family='serif')\n",
    "\n",
    "        plt.figure(num=None, figsize=(12, 3), dpi=80, facecolor='w', edgecolor='k')\n",
    "\n",
    "        plt.subplot(121)\n",
    "        plt.hist(WATRES)\n",
    "        plt.xlabel(r\"$\\mathrm{Water\\ Residual\\ \\left[W.m^{-2}\\right]}$\", fontsize=16)\n",
    "        plt.ylabel(r'Number of samples', fontsize=16)\n",
    "        plt.xticks(fontsize=14); plt.yticks(fontsize=14)\n",
    "\n",
    "        plt.subplot(122)\n",
    "        plt.hist(ENTRES)\n",
    "        plt.xlabel(r\"$\\mathrm{Enthalpy\\ Residual\\ \\left[W.m^{-2}\\right]}$\", fontsize=16)\n",
    "        plt.ylabel(r'Number of samples', fontsize=16)\n",
    "        plt.xticks(fontsize=14); plt.yticks(fontsize=14)\n",
    "    \n",
    "    elif outtype==\"list\":\n",
    "    \n",
    "        return WATRES,ENTRES "
   ]
  },
  {
   "cell_type": "code",
   "execution_count": 90,
   "metadata": {},
   "outputs": [],
   "source": [
    "xval, yval = next(validgen)\n",
    "pred_uncons = mod_uncons_5dens.predict_on_batch(xval)\n",
    "pred_cons = mod_cons_5dens.predict_on_batch(xval)\n",
    "pred_lagr05 = mod_lagr05_5dens.predict_on_batch(xval)\n",
    "pred_lagr001 = mod_lagr001_5dens.predict_on_batch(xval)\n",
    "pred_lagr099 = mod_lagr099_5dens.predict_on_batch(xval)"
   ]
  },
  {
   "cell_type": "code",
   "execution_count": 96,
   "metadata": {},
   "outputs": [],
   "source": [
    "a001,b001 = massent_check(xval,pred_lagr001,fsub=fsub,fdiv=fdiv,normq=normq,hyai=hyai,hybi=hybi,outtype=\"list\")"
   ]
  },
  {
   "cell_type": "code",
   "execution_count": 97,
   "metadata": {},
   "outputs": [],
   "source": [
    "acons,bcons = massent_check(xval,pred_cons,fsub=fsub,fdiv=fdiv,normq=normq,hyai=hyai,hybi=hybi,outtype=\"list\")"
   ]
  },
  {
   "cell_type": "code",
   "execution_count": 107,
   "metadata": {},
   "outputs": [
    {
     "name": "stdout",
     "output_type": "stream",
     "text": [
      "122.47887499678787\n"
     ]
    }
   ],
   "source": [
    "print(np.std(massent_check(xval,pred_uncons,fsub=fsub,fdiv=fdiv,normq=normq,hyai=hyai,hybi=hybi,outtype=\"list\")))"
   ]
  },
  {
   "cell_type": "code",
   "execution_count": null,
   "metadata": {},
   "outputs": [],
   "source": []
  },
  {
   "cell_type": "markdown",
   "metadata": {},
   "source": [
    "#### Step 6: Check positivity of water species\n",
    "There are two necessary steps:  \n",
    "1) Load the water species concentrations \"before physics\" from the input vector and unnormalize them  \n",
    "2) Invert the output normalization to get the water concentrations \"after physics\"\n",
    "\n",
    "$$\n",
    "\\delta q_{v,i,l}\\left(p\\right)=\\frac{L_{v}\\Delta p_{\\mathrm{norm}}}{g}\\frac{q_{v,i,l}^{a}\\left(p\\right)-q_{v,i,l}^{b}\\left(p\\right)}{\\Delta t}\\ \\Rightarrow\\ q_{v,i,l}^{a}\\left(p\\right)=q_{v,i,l}^{b}\\left(p\\right)+\\frac{g\\Delta t}{L_{v}\\Delta p_{\\mathrm{norm}}}\\delta q_{v,i,l}\\left(p\\right)\n",
    "$$"
   ]
  },
  {
   "cell_type": "code",
   "execution_count": 145,
   "metadata": {},
   "outputs": [],
   "source": [
    "def watpos_check(x,y,fsub=fsub,fdiv=fdiv,normq=normq,dt=30*60):\n",
    "    \n",
    "    import numpy as np\n",
    "\n",
    "    # 1) Extract water species concentrations from inputs\n",
    "    QVB = np.add( np.multiply( x[:, :30], fdiv[ :30]), fsub[ :30])\n",
    "    QLB = np.add( np.multiply( x[:, 30:60], fdiv[ 30:60]), fsub[ 30:60])\n",
    "    QSB = np.add( np.multiply( x[:, 60:90], fdiv[ 60:90]), fsub[ 60:90])\n",
    "\n",
    "    # 2) Inverse output normalization and get water concentration after physics\n",
    "    QVA = QVB + np.divide( dt*y[:, :30] , normq[:30])\n",
    "    QLA = QLB + np.divide( dt*y[:, 30:60] , normq[:30])\n",
    "    QSA = QSB + np.divide( dt*y[:, 60:90] , normq[:30])\n",
    "\n",
    "    import matplotlib.pyplot as plt\n",
    "    from matplotlib import rc\n",
    "    plt.rc('text', usetex=True)\n",
    "    plt.rc('font', family='serif')\n",
    "\n",
    "    plt.figure(num=None, figsize=(12, 6), dpi=80, facecolor='w', edgecolor='k')\n",
    "\n",
    "    plt.subplot(231)\n",
    "    plt.hist(1e3*QVA)\n",
    "    plt.xlabel(r\"$\\mathrm{Water\\ vapor\\ concentration\\ \\left[g/kg\\right]}$\", fontsize=16)\n",
    "    plt.ylabel(r'Number of samples', fontsize=16)\n",
    "    plt.xticks(fontsize=14); plt.yticks(fontsize=14)\n",
    "\n",
    "    plt.subplot(232)\n",
    "    plt.hist(1e3*QLA)\n",
    "    plt.xlabel(r\"$\\mathrm{Liquid\\ water\\ concentration\\ \\left[g/kg\\right]}$\", fontsize=16)\n",
    "    plt.xticks(fontsize=14); plt.yticks(fontsize=14)\n",
    "\n",
    "    plt.subplot(233)\n",
    "    plt.hist(1e3*QSA)\n",
    "    plt.xlabel(r\"$\\mathrm{Ice\\ concentration\\ \\left[g/kg\\right]}$\", fontsize=16)\n",
    "    plt.xticks(fontsize=14); plt.yticks(fontsize=14)\n",
    "    \n",
    "    plt.subplot(234)\n",
    "    plt.hist(1e3*(QVA-QVB))\n",
    "    plt.xlabel(r\"$\\mathrm{Water\\ vapor\\ change\\ \\left[g/kg\\right]}$\", fontsize=16)\n",
    "    plt.ylabel(r'Number of samples', fontsize=16)\n",
    "    plt.xticks(fontsize=14); plt.yticks(fontsize=14)\n",
    "\n",
    "    plt.subplot(235)\n",
    "    plt.hist(1e3*(QLA-QLB))\n",
    "    plt.xlabel(r\"$\\mathrm{Liquid\\ water\\ change\\ \\left[g/kg\\right]}$\", fontsize=16)\n",
    "    plt.xticks(fontsize=14); plt.yticks(fontsize=14)\n",
    "\n",
    "    plt.subplot(236)\n",
    "    plt.hist(1e3*(QSA-QSB))\n",
    "    plt.xlabel(r\"$\\mathrm{Ice\\ change\\ \\left[g/kg\\right]}$\", fontsize=16)\n",
    "    plt.xticks(fontsize=14); plt.yticks(fontsize=14)\n",
    "    \n",
    "    plt.subplots_adjust(left=None, bottom=None, right=None, top=None, wspace=None, hspace=0.5)"
   ]
  },
  {
   "cell_type": "code",
   "execution_count": 146,
   "metadata": {},
   "outputs": [
    {
     "data": {
      "image/png": "[encoded data removed]",
      "text/plain": [
       "<Figure size 960x480 with 6 Axes>"
      ]
     },
     "metadata": {},
     "output_type": "display_data"
    }
   ],
   "source": [
    "watpos_check(xval,yval,fsub,fdiv,normq,dt)"
   ]
  },
  {
   "cell_type": "code",
   "execution_count": 154,
   "metadata": {},
   "outputs": [
    {
     "data": {
      "image/png": "[encoded data removed]",
      "text/plain": [
       "<Figure size 960x480 with 6 Axes>"
      ]
     },
     "metadata": {},
     "output_type": "display_data"
    }
   ],
   "source": [
    "watpos_check(xval,pred6,fsub,fdiv,normq,dt)"
   ]
  },
  {
   "cell_type": "markdown",
   "metadata": {},
   "source": [
    "#### Last step: Save trained models as h5 files"
   ]
  },
  {
   "cell_type": "code",
   "execution_count": 165,
   "metadata": {},
   "outputs": [
    {
     "name": "stdout",
     "output_type": "stream",
     "text": [
      "/data/Tom.Beucler/SPCAM_PHYS/HDF5_DATA\n",
      "/data/Tom.Beucler/SPCAM_PHYS/HDF5_DATA\r\n"
     ]
    }
   ],
   "source": [
    "%cd $TRAINDIR/HDF5_DATA\n",
    "!pwd\n",
    "model1.save('model1.h5')\n",
    "model2.save('model2.h5')\n",
    "model3.save('model3.h5')\n",
    "model4.save('model4.h5')\n",
    "model5.save('model5.h5')\n",
    "model6.save('model6.h5')"
   ]
  }
 ],
 "metadata": {
  "kernelspec": {
   "display_name": "Python 3",
   "language": "python",
   "name": "python3"
  },
  "language_info": {
   "codemirror_mode": {
    "name": "ipython",
    "version": 3
   },
   "file_extension": ".py",
   "mimetype": "text/x-python",
   "name": "python",
   "nbconvert_exporter": "python",
   "pygments_lexer": "ipython3",
   "version": "3.6.8"
  },
  "toc": {
   "base_numbering": 1,
   "nav_menu": {},
   "number_sections": true,
   "sideBar": false,
   "skip_h1_title": true,
   "title_cell": "Table of Contents",
   "title_sidebar": "Contents",
   "toc_cell": false,
   "toc_position": {},
   "toc_section_display": true,
   "toc_window_display": false
  }
 },
 "nbformat": 4,
 "nbformat_minor": 2
}
