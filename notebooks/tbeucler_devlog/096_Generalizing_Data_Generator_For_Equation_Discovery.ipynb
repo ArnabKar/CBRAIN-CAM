{
 "cells": [
  {
   "cell_type": "markdown",
   "metadata": {},
   "source": [
    "tb - 7/8/2022 - Generalizing the data generator for sparse linear regression using stochastic gradient descent. The goal is to select the terms found in [093] using the entire dataset. One of the first steps will be to compare features selected when training on both datasets at once compared to individual (-4K) or (+4K) climates."
   ]
  },
  {
   "cell_type": "markdown",
   "metadata": {},
   "source": [
    "# Imports and Initialization"
   ]
  },
  {
   "cell_type": "markdown",
   "metadata": {},
   "source": [
    "## Imports"
   ]
  },
  {
   "cell_type": "code",
   "execution_count": 1,
   "metadata": {},
   "outputs": [
    {
     "name": "stdout",
     "output_type": "stream",
     "text": [
      "/nfspool-0/home/tbeucler/CBRAIN-CAM/notebooks/tbeucler_devlog\n"
     ]
    }
   ],
   "source": [
    "from sklearn.linear_model import LinearRegression\n",
    "from sklearn.metrics import mean_squared_error\n",
    "from sklearn.feature_selection import SequentialFeatureSelector\n",
    "from sklearn.model_selection import cross_validate\n",
    "from sklearn.model_selection import RepeatedKFold\n",
    "from sklearn.preprocessing import PolynomialFeatures\n",
    "\n",
    "from cbrain.cam_constants import *\n",
    "from cbrain.climate_invariant import *\n",
    "from cbrain.equation_discovery import *\n",
    "from cbrain.preprocessing.convert_dataset_20191113 import compute_LHF_nsDELQ\n",
    "from cbrain.climate_invariant_utils import *\n",
    "from scipy.integrate import cumtrapz,trapz\n",
    "from scipy import interpolate,misc\n",
    "\n",
    "import matplotlib as mpl\n",
    "import matplotlib.pyplot as plt\n",
    "import numpy as np\n",
    "import pickle\n",
    "import xarray as xr"
   ]
  },
  {
   "cell_type": "code",
   "execution_count": 2,
   "metadata": {},
   "outputs": [],
   "source": [
    "fz = 12\n",
    "lw = 2\n",
    "siz = 100\n",
    "\n",
    "plt.rc('text', usetex=False)\n",
    "mpl.rcParams['mathtext.fontset'] = 'stix'\n",
    "mpl.rcParams['font.family'] = 'STIXGeneral'\n",
    "plt.rc('font', family='serif', size=fz)\n",
    "mpl.rcParams['lines.linewidth'] = lw"
   ]
  },
  {
   "cell_type": "markdown",
   "metadata": {},
   "source": [
    "## Load data"
   ]
  },
  {
   "cell_type": "code",
   "execution_count": 3,
   "metadata": {},
   "outputs": [],
   "source": [
    "path_data = '/DFS-L/DATA/pritchard/tbeucler/SPCAM/SPCAM_PHYS/'\n",
    "path_array = {}\n",
    "climate_str = ['cold','hot','both']\n",
    "set_str = ['train','valid','test']\n",
    "test_clim_str = ['cold','hot','both','medium']\n",
    "path_array['cold'] = [path_data+'2021_03_18_O3_TRAIN_M4K_shuffle.nc',\n",
    "                      path_data+'2021_03_18_O3_VALID_M4K.nc',\n",
    "                      path_data+'2021_03_18_O3_TEST_M4K.nc']\n",
    "path_array['hot'] = [path_data+'2021_03_18_O3_TRAIN_P4K_shuffle.nc',\n",
    "                     path_data+'2021_03_18_O3_VALID_P4K.nc',\n",
    "                     path_data+'2021_03_18_O3_TEST_P4K.nc']\n",
    "path_array['both'] = [path_data+'2022_04_18_TRAIN_M4K_P4K_shuffle.nc',\n",
    "                      path_data+'2022_04_18_VALID_M4K_P4K.nc',\n",
    "                      path_data+'2022_04_18_TEST_M4K_P4K.nc']\n",
    "path_array['medium'] = [path_data+'2021_01_24_O3_TRAIN_shuffle.nc',\n",
    "                        path_data+'2021_01_24_O3_VALID.nc',\n",
    "                        path_data+'2021_01_24_O3_TEST.nc']\n",
    "path_input_norm = path_data + '2021_01_24_NORM_O3_small.nc'\n",
    "path_norm_RH = path_data + '2021_02_01_NORM_O3_RH_small.nc'\n",
    "path_norm_BMSE = path_data + '2021_06_16_NORM_BMSE_small.nc'\n",
    "path_norm_LHF_nsDELQ = path_data + '2021_02_01_NORM_O3_LHF_nsDELQ_small.nc'\n",
    "in_vars = ['QBP','TBP','PS','SOLIN','SHFLX','LHFLX'] # We take the large-scale climate state as inputs\n",
    "out_vars = ['PHQ','TPHYSTND','QRL','QRS'] # and we output the response of clouds/storms to these climate conditions\n",
    "scale_dict = pickle.load(open(path_data+'009_Wm2_scaling.pkl','rb'))"
   ]
  },
  {
   "cell_type": "code",
   "execution_count": 4,
   "metadata": {},
   "outputs": [],
   "source": [
    "path_RH_B_train = path_data+'2022_07_08_B_RH_TRAIN_both.nc'\n",
    "path_RH_B_test = path_data+'2022_06_26_B_RH_both.nc'"
   ]
  },
  {
   "cell_type": "code",
   "execution_count": 5,
   "metadata": {},
   "outputs": [],
   "source": [
    "climates = ['m4K','ref','p4K']\n",
    "path_append = ['2021_03_18_O3_TEST_M4K.nc','2021_01_24_O3_TEST.nc','2021_03_18_O3_TEST_P4K.nc']\n",
    "path_RH_B_append = ['2022_06_27_B_RH_TEST_m4K.nc','2022_06_27_B_RH_TEST_ref.nc','2022_06_27_B_RH_TEST_p4K.nc']\n",
    "path_LHF_nsDELQ = '2022_06_29_LHF_nsDELQ.nc'\n",
    "path_LHF_nsDELQ_train = '2022_07_08_LHF_nsDELQ_TRAIN_both.nc'"
   ]
  },
  {
   "cell_type": "code",
   "execution_count": 6,
   "metadata": {},
   "outputs": [],
   "source": [
    "LHF_nsDELQ_train = xr.open_dataset(path_data+path_LHF_nsDELQ_train)\n",
    "LHF_nsDELQ_test = xr.open_dataset(path_data+path_LHF_nsDELQ)"
   ]
  },
  {
   "cell_type": "code",
   "execution_count": 7,
   "metadata": {},
   "outputs": [],
   "source": [
    "train_both = xr.open_dataset(path_array['both'][0])\n",
    "train_both_RH_B = xr.open_dataset(path_RH_B_train)"
   ]
  },
  {
   "cell_type": "code",
   "execution_count": 8,
   "metadata": {},
   "outputs": [],
   "source": [
    "test_sets = {}; test_sets_RHB = {}; \n",
    "LHFname = ['LHFns_cold','LHFns_med','LHFns_hot']"
   ]
  },
  {
   "cell_type": "code",
   "execution_count": 9,
   "metadata": {},
   "outputs": [],
   "source": [
    "for iclim,clim in enumerate(climates):\n",
    "    test_sets[clim] = xr.open_dataset(path_data+path_append[iclim])\n",
    "    test_sets_RHB[clim] = xr.open_dataset(path_data+path_RH_B_append[iclim])"
   ]
  },
  {
   "cell_type": "code",
   "execution_count": 10,
   "metadata": {},
   "outputs": [],
   "source": [
    "ind_input = np.concatenate((np.arange(0,60),np.arange(90,94)))\n",
    "ind_output = np.arange(94,94+60)"
   ]
  },
  {
   "cell_type": "code",
   "execution_count": 11,
   "metadata": {},
   "outputs": [],
   "source": [
    "xt = {}; yt = {}; xRHt= {}; xBt = {}; xLHFnst = {};"
   ]
  },
  {
   "cell_type": "code",
   "execution_count": 12,
   "metadata": {},
   "outputs": [],
   "source": [
    "name_RH = ['RH_test_cold','RH_test_med','RH_test_hot']\n",
    "name_B = ['B_test_cold','B_test_med','B_test_hot']"
   ]
  },
  {
   "cell_type": "code",
   "execution_count": 13,
   "metadata": {},
   "outputs": [],
   "source": [
    "x = train_both['vars'][:,ind_input]\n",
    "xRH = train_both_RH_B['RH_train']\n",
    "xB = train_both_RH_B['B_train']\n",
    "xLHFns = LHF_nsDELQ_train['LHFns']\n",
    "y = train_both['vars'][:,ind_output]\n",
    "for iclim,clim in enumerate(climates):\n",
    "    xt[clim] = test_sets[clim]['vars'][:,ind_input]\n",
    "    xRHt[clim] = test_sets_RHB[clim][name_RH[iclim]]\n",
    "    xBt[clim] = test_sets_RHB[clim][name_B[iclim]]\n",
    "    xLHFnst[clim] = LHF_nsDELQ_test[LHFname[iclim]]\n",
    "    yt[clim] = test_sets[clim]['vars'][:,ind_output]"
   ]
  },
  {
   "cell_type": "markdown",
   "metadata": {},
   "source": [
    "# First attempt using least-squared error (no SGD)"
   ]
  },
  {
   "cell_type": "code",
   "execution_count": 35,
   "metadata": {},
   "outputs": [],
   "source": [
    "Model_Types = ['localBF','localCI','BF','CI']\n",
    "N_subsample = 5\n",
    "N_degree = 4\n",
    "Nsample = 3000"
   ]
  },
  {
   "cell_type": "code",
   "execution_count": 36,
   "metadata": {},
   "outputs": [],
   "source": [
    "KEYS = {}\n",
    "KEYS['local'] = ['ps', 'S0', 'SHF', 'LHF','LHFns','p', 'q', 'dq_dp_FD',\n",
    "              'd2q_dp2_FD','T', 'dT_dp_FD','d2T_dp2_FD','RH', 'dRH_dp_FD',\n",
    "              'd2RH_dp2_FD','B', 'dB_dp_FD','d2B_dp2_FD']\n",
    "KEYS['localCI'] = ['ps', 'S0', 'SHF','LHFns','p','RH', 'dRH_dp_FD',\n",
    "              'd2RH_dp2_FD','B', 'dB_dp_FD','d2B_dp2_FD']\n",
    "KEYS['localBF'] = ['ps', 'S0', 'SHF', 'LHF', 'p', 'q', 'dq_dp_FD',\n",
    "              'd2q_dp2_FD','T', 'dT_dp_FD','d2T_dp2_FD']\n",
    "KEYS['all'] = np.concatenate((KEYS['local'],['Q_above','Q_below','T_below','T_above',\n",
    "                                             'RH_below','RH_above','B_below','B_above']))\n",
    "KEYS['BF'] = np.concatenate((KEYS['localBF'],['Q_above','Q_below','T_below','T_above']))\n",
    "KEYS['CI'] = np.concatenate((KEYS['localCI'],['RH_below','RH_above','B_below','B_above']))\n",
    "scalar_keys = ['ps','S0','SHF','LHF','LHFns']\n",
    "vector_keys = ['p', 'q', 'dq_dp_FD', 'd2q_dp2_FD', 'Q_above', 'Q_below',\n",
    "               'T', 'dT_dp_FD', 'd2T_dp2_FD', 'T_above', 'T_below',\n",
    "               'RH', 'dRH_dp_FD', 'd2RH_dp2_FD', 'RH_above', 'RH_below',\n",
    "               'B', 'dB_dp_FD', 'd2B_dp2_FD', 'B_above', 'B_below']\n",
    "combin_keys = np.concatenate((scalar_keys,vector_keys))"
   ]
  },
  {
   "cell_type": "code",
   "execution_count": 37,
   "metadata": {},
   "outputs": [],
   "source": [
    "min_features = [1,1,1,1,1]\n",
    "max_features = [11,6,6,6,6]\n",
    "cv = [2,2,2,2,2]"
   ]
  },
  {
   "cell_type": "code",
   "execution_count": 38,
   "metadata": {},
   "outputs": [],
   "source": [
    "dict_Q = {}; dict_T = {};"
   ]
  },
  {
   "cell_type": "markdown",
   "metadata": {},
   "source": [
    "## Second attempt, this time using both the cold and the warm parts of the dataset"
   ]
  },
  {
   "cell_type": "code",
   "execution_count": null,
   "metadata": {},
   "outputs": [],
   "source": [
    "for i_subsample in range(N_subsample):\n",
    "    print('i_subsample='+str(i_subsample)+'/'+str(N_subsample-1))\n",
    "    dict_Q[i_subsample] = {}; dict_T[i_subsample] = {};\n",
    "    \n",
    "    # Pre-process & sub-sample the data\n",
    "    i_random = np.random.choice(np.linspace(0,xt[clim].shape[0]-1,xt[clim].shape[0]),\n",
    "                                size=((Nsample,)),replace=False).astype('int')\n",
    "    dict_Q[i_subsample]['Selected_indices'] = i_random;\n",
    "    dict_T[i_subsample]['Selected_indices'] = i_random;\n",
    "    \n",
    "    x_train,x_test,y_train,y_test = subsampler(i_random,x,y,xRH,xB,xLHFns,hyam,hybm,variables=KEYS['all'])\n",
    "    x_train_range,x_test_range,Norm = range_normalizer(x_train,scalar_keys,vector_keys)\n",
    "    \n",
    "    for model_type in (Model_Types):\n",
    "        print('model_type='+model_type)\n",
    "        dict_Q[i_subsample][model_type] = {}; dict_T[i_subsample][model_type] = {};\n",
    "        \n",
    "        # Transform dictionary into array for regression purposes\n",
    "        X_train,X_test,dQdt_train,dQdt_test,dTdt_train,dTdt_test = \\\n",
    "        dic_to_array(KEYS[model_type],x_train_range,y_train,scale_dict)\n",
    "    \n",
    "        for degree in np.arange(1,N_degree+1):\n",
    "            print('degree='+str(degree))\n",
    "            dic_to_save = {}; ideg = degree-1;\n",
    "            \n",
    "            # Polynomial features\n",
    "            poly = PolynomialFeatures(degree=degree)\n",
    "            X_train_poly = poly.fit_transform(X_train)    \n",
    "            features = poly.get_feature_names(np.array(KEYS[model_type])) # Update the feature names\n",
    "                \n",
    "            # Linear regression on polynomial features - dQ/dt & dT/dt\n",
    "            dict_Q[i_subsample][model_type][degree] = \\\n",
    "            SFS_poly(features,X_train_poly,dQdt_train,\n",
    "                     min_features[ideg],max_features[ideg],cv[ideg])\n",
    "            \n",
    "            dict_T[i_subsample][model_type][degree] = \\\n",
    "            SFS_poly(features,X_train_poly,dTdt_train,\n",
    "                     min_features[ideg],max_features[ideg],cv[ideg])\n",
    "            \n",
    "        # Write dict_combined to pkl file\n",
    "        save_path = path_data+'Polynomial_Fits/2022_07_18_dicQT_'+model_type+'_isample_'+str(i_subsample+1)+'.pkl'\n",
    "        pickle.dump({\n",
    "          \"Qfits\": dict_Q[i_subsample][model_type],\n",
    "          \"Tfits\": dict_T[i_subsample][model_type],\n",
    "          'Selected_indices': i_random}, open(save_path,'wb'))"
   ]
  },
  {
   "cell_type": "markdown",
   "metadata": {},
   "source": [
    "## First attempt only using the cold part of the dataset (once again)"
   ]
  },
  {
   "cell_type": "code",
   "execution_count": null,
   "metadata": {},
   "outputs": [],
   "source": [
    "for i_subsample in range(N_subsample):\n",
    "    print('i_subsample='+str(i_subsample)+'/'+str(N_subsample-1))\n",
    "    dict_Q[i_subsample] = {}; dict_T[i_subsample] = {};\n",
    "    \n",
    "    # Pre-process & sub-sample the data\n",
    "    i_random = np.random.choice(np.linspace(0,xt[clim].shape[0]-1,xt[clim].shape[0]),\n",
    "                                size=((Nsample,)),replace=False).astype('int')\n",
    "    dict_Q[i_subsample]['Selected_indices'] = i_random;\n",
    "    dict_T[i_subsample]['Selected_indices'] = i_random;\n",
    "    \n",
    "    x_train,x_test,y_train,y_test = subsampler(i_random,x,y,xRH,xB,xLHFns,\n",
    "                                               xt,yt,xRHt,xBt,xLHFnst,hyam,hybm,\n",
    "                                               KEYS['all'])\n",
    "    x_train_range,x_test_range,Norm = range_normalizer(x_train,x_test,scalar_keys,vector_keys)\n",
    "    \n",
    "    for model_type in (Model_Types):\n",
    "        print('model_type='+model_type)\n",
    "        dict_Q[i_subsample][model_type] = {}; dict_T[i_subsample][model_type] = {};\n",
    "        \n",
    "        # Transform dictionary into array for regression purposes\n",
    "        X_train,X_test,dQdt_train,dQdt_test,dTdt_train,dTdt_test = \\\n",
    "        dic_to_array(KEYS[model_type],x_train_range,x_test_range,\n",
    "                     y_train,y_test,scale_dict)\n",
    "    \n",
    "        for degree in np.arange(1,N_degree+1):\n",
    "            print('degree='+str(degree))\n",
    "            dic_to_save = {}; ideg = degree-1;\n",
    "            \n",
    "            # Polynomial features\n",
    "            poly = PolynomialFeatures(degree=degree)\n",
    "            X_train_poly = poly.fit_transform(X_train)    \n",
    "            features = poly.get_feature_names(np.array(KEYS[model_type])) # Update the feature names\n",
    "            X_test_poly = {};\n",
    "            for iclim,clim in enumerate(climates):\n",
    "                X_test_poly[clim] = poly.fit_transform(X_test[clim])\n",
    "                \n",
    "            # Linear regression on polynomial features - dQ/dt & dT/dt\n",
    "            dict_Q[i_subsample][model_type][degree] = \\\n",
    "            SFS_poly(features,X_train_poly,X_test_poly,\n",
    "                     dQdt_train,dQdt_test,\n",
    "                     min_features[ideg],max_features[ideg],cv[ideg])\n",
    "            \n",
    "            dict_T[i_subsample][model_type][degree] = \\\n",
    "            SFS_poly(features,X_train_poly,X_test_poly,\n",
    "                     dTdt_train,dTdt_test,\n",
    "                     min_features[ideg],max_features[ideg],cv[ideg])\n",
    "            \n",
    "        # Write dict_combined to pkl file\n",
    "        save_path = path_data+'Polynomial_Fits/2022_07_12_dicQT_'+model_type+'_isample_'+str(i_subsample+1)+'.pkl'\n",
    "        pickle.dump({\n",
    "          \"Qfits\": dict_Q[i_subsample][model_type],\n",
    "          \"Tfits\": dict_T[i_subsample][model_type],\n",
    "          'Selected_indices': i_random}, open(save_path,'wb'))"
   ]
  },
  {
   "cell_type": "code",
   "execution_count": null,
   "metadata": {},
   "outputs": [],
   "source": [
    "# save_path = path_data+'Polynomial_Fits/2022_07_12_dicQT_'+model_type+'_isample_'+str(i_subsample+1)+'.pkl'\n",
    "# pickle.dump({\n",
    "#   \"Qfits\": dict_Q[i_subsample][model_type],\n",
    "#   \"Tfits\": dict_T[i_subsample][model_type],\n",
    "#   'Selected_indices': i_random}, open(save_path,'wb'))"
   ]
  },
  {
   "cell_type": "markdown",
   "metadata": {},
   "source": [
    "# Second attempt using the full dataset and terms selected by the SFS"
   ]
  },
  {
   "cell_type": "markdown",
   "metadata": {},
   "source": [
    "## Load most important features calculated using subsamples of the training set"
   ]
  },
  {
   "cell_type": "markdown",
   "metadata": {},
   "source": [
    "To redo using models trained on *both* climates"
   ]
  },
  {
   "cell_type": "code",
   "execution_count": 85,
   "metadata": {},
   "outputs": [],
   "source": [
    "path_Poly = '/DFS-L/DATA/pritchard/tbeucler/SPCAM/SPCAM_PHYS/Polynomial_Fits/'"
   ]
  },
  {
   "cell_type": "code",
   "execution_count": 86,
   "metadata": {},
   "outputs": [],
   "source": [
    "tmp = pickle.load(open(path_Poly+'2022_07_22_Terms_Count.pkl','rb'))"
   ]
  },
  {
   "cell_type": "code",
   "execution_count": 87,
   "metadata": {},
   "outputs": [],
   "source": [
    "termQ = tmp['Terms_Moisture']\n",
    "termT = tmp['Terms_Temperature']"
   ]
  },
  {
   "cell_type": "code",
   "execution_count": 88,
   "metadata": {},
   "outputs": [],
   "source": [
    "Models = ['localBF','localCI','BF','CI']"
   ]
  },
  {
   "cell_type": "markdown",
   "metadata": {},
   "source": [
    "## Visualization of terms selected most often"
   ]
  },
  {
   "cell_type": "code",
   "execution_count": 83,
   "metadata": {},
   "outputs": [
    {
     "data": {
      "image/png": "[encoded data removed]",
      "text/plain": [
       "<Figure size 1080x180 with 1 Axes>"
      ]
     },
     "metadata": {
      "needs_background": "light"
     },
     "output_type": "display_data"
    },
    {
     "data": {
      "image/png": "[encoded data removed]",
      "text/plain": [
       "<Figure size 1080x180 with 1 Axes>"
      ]
     },
     "metadata": {
      "needs_background": "light"
     },
     "output_type": "display_data"
    },
    {
     "data": {
      "image/png": "[encoded data removed]",
      "text/plain": [
       "<Figure size 1080x180 with 1 Axes>"
      ]
     },
     "metadata": {
      "needs_background": "light"
     },
     "output_type": "display_data"
    },
    {
     "data": {
      "image/png": "[encoded data removed]",
      "text/plain": [
       "<Figure size 1080x180 with 1 Axes>"
      ]
     },
     "metadata": {
      "needs_background": "light"
     },
     "output_type": "display_data"
    }
   ],
   "source": [
    "term = termT\n",
    "\n",
    "for i in range(4):\n",
    "    fig, ax = plt.subplots(1,1,figsize=(15,2.5))\n",
    "    plt.bar(term[Models[i]]['variables'][term[Models[i]]['count']>5],\n",
    "              term[Models[i]]['count'][term[Models[i]]['count']>5])\n",
    "    plt.axhline(y=5,color='g')\n",
    "    plt.xticks(rotation=90);\n",
    "    plt.xticks(fontsize=fz);\n",
    "    plt.title(Models[i],fontsize=fz)"
   ]
  },
  {
   "cell_type": "code",
   "execution_count": 19,
   "metadata": {},
   "outputs": [
    {
     "data": {
      "image/png": "[encoded data removed]",
      "text/plain": [
       "<Figure size 1080x180 with 1 Axes>"
      ]
     },
     "metadata": {
      "needs_background": "light"
     },
     "output_type": "display_data"
    },
    {
     "data": {
      "image/png": "[encoded data removed]",
      "text/plain": [
       "<Figure size 1080x180 with 1 Axes>"
      ]
     },
     "metadata": {
      "needs_background": "light"
     },
     "output_type": "display_data"
    },
    {
     "data": {
      "image/png": "[encoded data removed]",
      "text/plain": [
       "<Figure size 1080x180 with 1 Axes>"
      ]
     },
     "metadata": {
      "needs_background": "light"
     },
     "output_type": "display_data"
    },
    {
     "data": {
      "image/png": "[encoded data removed]",
      "text/plain": [
       "<Figure size 1080x180 with 1 Axes>"
      ]
     },
     "metadata": {
      "needs_background": "light"
     },
     "output_type": "display_data"
    }
   ],
   "source": [
    "term = termQ\n",
    "\n",
    "for i in range(4):\n",
    "    fig, ax = plt.subplots(1,1,figsize=(15,2.5))\n",
    "    plt.bar(term[Models[i]]['variables'][term[Models[i]]['count']>5],\n",
    "              term[Models[i]]['count'][term[Models[i]]['count']>5])\n",
    "    plt.axhline(y=5,color='g')\n",
    "    plt.xticks(rotation=90);\n",
    "    plt.xticks(fontsize=fz);\n",
    "    plt.title(Models[i],fontsize=fz)"
   ]
  },
  {
   "cell_type": "markdown",
   "metadata": {},
   "source": [
    "## Train model on larger portion of the dataset using the top selected features"
   ]
  },
  {
   "cell_type": "markdown",
   "metadata": {},
   "source": [
    "### Prototype: LocalBF for subgrid moistening"
   ]
  },
  {
   "cell_type": "code",
   "execution_count": 20,
   "metadata": {},
   "outputs": [],
   "source": [
    "model = 'localBF'"
   ]
  },
  {
   "cell_type": "code",
   "execution_count": 90,
   "metadata": {},
   "outputs": [],
   "source": [
    "#terms = termQ[model]['variables'][termQ[model]['count']>5]\n",
    "terms = termQ[model]['variables']"
   ]
  },
  {
   "cell_type": "code",
   "execution_count": 91,
   "metadata": {},
   "outputs": [
    {
     "data": {
      "text/plain": [
       "array(['LHF', 'd2q_dp2_FD', 'dq_dp_FD', 'q', 'ps', 'LHF dq_dp_FD',\n",
       "       'LHF dq_dp_FD^2', 'LHF dq_dp_FD^3', 'SHF', 'p', 'dT_dp_FD',\n",
       "       'SHF q^2', 'T', 'SHF q', 'SHF q dT_dp_FD^2', 'LHF p', 'SHF^2 q^2',\n",
       "       'p q', 'SHF p q', 'LHF p^2 dq_dp_FD', 'q dq_dp_FD', 'S0',\n",
       "       'SHF p q d2T_dp2_FD', 'd2T_dp2_FD', 'SHF q dT_dp_FD',\n",
       "       'SHF q dq_dp_FD^2', '1', 'SHF q^2 dq_dp_FD', 'LHF p q',\n",
       "       'dq_dp_FD^2', 'SHF q dq_dp_FD', 'LHF p^3', 'LHF p dq_dp_FD^2',\n",
       "       'LHF q dT_dp_FD', 'LHF p dT_dp_FD^2', 'q dT_dp_FD',\n",
       "       'LHF d2q_dp2_FD^2', 'SHF p^2 q', 'q dq_dp_FD^2', 'p^2 q',\n",
       "       'SHF p q dq_dp_FD', 'LHF p T', 'LHF p dq_dp_FD T'], dtype='<U18')"
      ]
     },
     "execution_count": 91,
     "metadata": {},
     "output_type": "execute_result"
    }
   ],
   "source": [
    "terms"
   ]
  },
  {
   "cell_type": "markdown",
   "metadata": {},
   "source": [
    "Find \"base terms\" and \"base polynomials\" that appear in the selected terms"
   ]
  },
  {
   "cell_type": "code",
   "execution_count": 92,
   "metadata": {},
   "outputs": [],
   "source": [
    "unique_terms = []; unique_pol = [];\n",
    "for term in terms:\n",
    "    for t in term.split():\n",
    "        po = t.find('^')\n",
    "        if po>0: unique_terms.append(t[:po])\n",
    "        else: unique_terms.append(t)\n",
    "        unique_pol.append(t)\n",
    "unique_terms = list(set(unique_terms))\n",
    "unique_pol = list(set(unique_pol))"
   ]
  },
  {
   "cell_type": "code",
   "execution_count": 93,
   "metadata": {},
   "outputs": [
    {
     "data": {
      "text/plain": [
       "['SHF',\n",
       " 'ps',\n",
       " 'dq_dp_FD',\n",
       " 'd2q_dp2_FD',\n",
       " 'dT_dp_FD',\n",
       " 'S0',\n",
       " '1',\n",
       " 'q',\n",
       " 'p',\n",
       " 'T',\n",
       " 'LHF',\n",
       " 'd2T_dp2_FD']"
      ]
     },
     "execution_count": 93,
     "metadata": {},
     "output_type": "execute_result"
    }
   ],
   "source": [
    "unique_terms"
   ]
  },
  {
   "cell_type": "markdown",
   "metadata": {},
   "source": [
    "Problem in current implementation of FD if a second derivative term appears without its first derivative counterpart"
   ]
  },
  {
   "cell_type": "code",
   "execution_count": 94,
   "metadata": {},
   "outputs": [
    {
     "data": {
      "text/plain": [
       "['SHF',\n",
       " 'p^2',\n",
       " 'ps',\n",
       " 'dq_dp_FD',\n",
       " 'd2q_dp2_FD',\n",
       " 'dT_dp_FD',\n",
       " 'S0',\n",
       " '1',\n",
       " 'q',\n",
       " 'p',\n",
       " 'T',\n",
       " 'LHF',\n",
       " 'd2T_dp2_FD',\n",
       " 'dq_dp_FD^2',\n",
       " 'q^2',\n",
       " 'p^3',\n",
       " 'dT_dp_FD^2',\n",
       " 'SHF^2',\n",
       " 'd2q_dp2_FD^2',\n",
       " 'dq_dp_FD^3']"
      ]
     },
     "execution_count": 94,
     "metadata": {},
     "output_type": "execute_result"
    }
   ],
   "source": [
    "unique_pol # Not used in algorithm's current form"
   ]
  },
  {
   "cell_type": "code",
   "execution_count": 114,
   "metadata": {},
   "outputs": [],
   "source": [
    "Nsample = 3000"
   ]
  },
  {
   "cell_type": "code",
   "execution_count": 115,
   "metadata": {},
   "outputs": [],
   "source": [
    "dictest = {}"
   ]
  },
  {
   "cell_type": "code",
   "execution_count": 116,
   "metadata": {},
   "outputs": [],
   "source": [
    "# Pre-process & sub-sample the data\n",
    "i_random = np.random.choice(np.linspace(0,x.shape[0]-1,x.shape[0]),\n",
    "                            size=((Nsample,)),replace=False).astype('int')\n",
    "dictest['Selected_indices'] = i_random;"
   ]
  },
  {
   "cell_type": "code",
   "execution_count": 117,
   "metadata": {},
   "outputs": [],
   "source": [
    "x_train,x_test,y_train,y_test = subsampler(i_random,x,y,xRH,xB,xLHFns,hyam,hybm,unique_terms)"
   ]
  },
  {
   "cell_type": "code",
   "execution_count": 118,
   "metadata": {},
   "outputs": [],
   "source": [
    "scalar_sel = list(set(scalar_keys)&set(unique_terms))\n",
    "vector_sel = list(set(vector_keys)&set(unique_terms))\n",
    "combin_sel = np.concatenate((scalar_sel,vector_sel))"
   ]
  },
  {
   "cell_type": "markdown",
   "metadata": {},
   "source": [
    "Load pre-calculated normalization statistics"
   ]
  },
  {
   "cell_type": "code",
   "execution_count": 119,
   "metadata": {},
   "outputs": [],
   "source": [
    "save_name = path_data+'2022_07_22_NORM_PDF_CDF_TRAIN_BOTH_M4K_P4K'"
   ]
  },
  {
   "cell_type": "code",
   "execution_count": 120,
   "metadata": {},
   "outputs": [],
   "source": [
    "tmp = pickle.load(open(save_name,'rb'))"
   ]
  },
  {
   "cell_type": "code",
   "execution_count": 121,
   "metadata": {},
   "outputs": [],
   "source": [
    "Norm = {}\n",
    "Norm['mean'] = {}\n",
    "Norm['min'] = {}\n",
    "Norm['max'] = {}\n",
    "Norm['std'] = {}\n",
    "for keys in combin_keys:\n",
    "    Norm['mean'][keys] = tmp['MEAN'][keys]\n",
    "    Norm['min'][keys] = tmp['MIN'][keys]\n",
    "    Norm['max'][keys] = tmp['MAX'][keys]\n",
    "    Norm['std'][keys] = tmp['STD'][keys]    "
   ]
  },
  {
   "cell_type": "code",
   "execution_count": 122,
   "metadata": {},
   "outputs": [],
   "source": [
    "x_train_range,x_test_range,Norm = range_normalizer(x_train,scalar_sel,vector_sel,Norm=Norm)"
   ]
  },
  {
   "cell_type": "markdown",
   "metadata": {},
   "source": [
    "Now add the polynomial terms (note that unique_pol is not used at this point)"
   ]
  },
  {
   "cell_type": "code",
   "execution_count": 123,
   "metadata": {},
   "outputs": [],
   "source": [
    "pol_to_add = list(set(terms).difference(set(unique_terms)))"
   ]
  },
  {
   "cell_type": "code",
   "execution_count": 124,
   "metadata": {},
   "outputs": [],
   "source": [
    "for key in pol_to_add:\n",
    "    x_train_range[key] = x_train_range[unique_terms[0]]**0\n",
    "    for t in key.split():\n",
    "        po = t.find('^')\n",
    "        if po>0: x_train_range[key] *= x_train_range[t[:po]]**int(t[po+1:])\n",
    "        else: x_train_range[key] *= x_train_range[t]"
   ]
  },
  {
   "cell_type": "markdown",
   "metadata": {},
   "source": [
    "Transform dictionary into tensor for regression purposes"
   ]
  },
  {
   "cell_type": "code",
   "execution_count": 125,
   "metadata": {},
   "outputs": [],
   "source": [
    "term0 = list(set(terms).difference('1'))"
   ]
  },
  {
   "cell_type": "code",
   "execution_count": 126,
   "metadata": {},
   "outputs": [],
   "source": [
    "X_train,X_test,dQdt_train,dQdt_test,dTdt_train,dTdt_test = \\\n",
    "dic_to_array(term0,x_train_range,y_train,scale_dict)"
   ]
  },
  {
   "cell_type": "code",
   "execution_count": 127,
   "metadata": {},
   "outputs": [
    {
     "data": {
      "text/plain": [
       "(90000, 42)"
      ]
     },
     "execution_count": 127,
     "metadata": {},
     "output_type": "execute_result"
    }
   ],
   "source": [
    "X_train.shape"
   ]
  },
  {
   "cell_type": "code",
   "execution_count": 128,
   "metadata": {},
   "outputs": [
    {
     "name": "stdout",
     "output_type": "stream",
     "text": [
      "{'LHF dq_dp_FD^3': 372.23613576646153, 'LR_Bias': -7.9983635351366, 'mse_train': 1362.0522656966918} \n",
      "\n",
      "{'SHF^2 q^2': -417.37250019221227, 'LHF dq_dp_FD^3': 485.321234957744, 'LR_Bias': -9.516316832880094, 'mse_train': 1355.5012446398348} \n",
      "\n",
      "{'SHF^2 q^2': -679.9613409339897, 'LHF dq_dp_FD': -261.8076084155158, 'LHF dq_dp_FD^3': 1407.675720468238, 'LR_Bias': -5.200229996003636, 'mse_train': 1342.1396256566727} \n",
      "\n",
      "{'LHF p q': 214.67203557354142, 'SHF^2 q^2': -1549.8943624715318, 'LHF dq_dp_FD': -217.26364811363104, 'LHF dq_dp_FD^3': 1120.5385461031437, 'LR_Bias': -4.234901093391984, 'mse_train': 1335.0476865324433} \n",
      "\n",
      "{'LHF q dT_dp_FD': -2283.7292770321988, 'LHF p q': 1729.60386918659, 'SHF^2 q^2': -1585.3648747003845, 'LHF dq_dp_FD': -298.46885917873374, 'LHF dq_dp_FD^3': 1598.1414891866882, 'LR_Bias': -5.148809645032536, 'mse_train': 1308.0129437066107} \n",
      "\n",
      "{'LHF q dT_dp_FD': -2064.7801348171197, 'LHF p q': 1660.420123684191, 'SHF^2 q^2': -821.0471612137717, 'LHF dq_dp_FD': -430.22295186451134, 'SHF q dq_dp_FD^2': -787.3460402636306, 'LHF dq_dp_FD^3': 2112.563153383018, 'LR_Bias': -2.664345055302154, 'mse_train': 1302.6124906784642} \n",
      "\n",
      "{'LHF q dT_dp_FD': -763.491823739101, 'LHF p q': 595.5880246608757, 'SHF^2 q^2': -223.7362137504451, 'LHF dq_dp_FD': -695.28252982433, 'SHF p q dq_dp_FD': 2208.0154531420076, 'SHF q dq_dp_FD^2': -4522.206416362691, 'LHF dq_dp_FD^3': 3284.7037944615054, 'LR_Bias': -2.566850267029044, 'mse_train': 1293.9490730610094} \n",
      "\n",
      "{'LHF q dT_dp_FD': 3236.424553719655, 'LHF p q': -2049.692527120651, 'SHF^2 q^2': -769.8368680184478, 'LHF dq_dp_FD': -552.8552366432546, 'SHF p q dq_dp_FD': 6897.199453644799, 'SHF q dq_dp_FD^2': -6976.069622006593, 'SHF q dT_dp_FD^2': -3945.307991650784, 'LHF dq_dp_FD^3': 2575.457655447382, 'LR_Bias': -0.7631631909758214, 'mse_train': 1281.1593988870404} \n",
      "\n",
      "{'LHF q dT_dp_FD': 2526.600708270384, 'LHF p q': -1421.1662596705778, 'SHF^2 q^2': -1166.026077707104, 'LHF dq_dp_FD': -449.2768095258639, 'SHF p q dq_dp_FD': 6676.596181212133, 'SHF q dq_dp_FD^2': -6788.1791266399705, 'SHF q dT_dp_FD^2': -97857.37238035323, 'SHF q dT_dp_FD': 58136.11544754894, 'LHF dq_dp_FD^3': 2155.638909753644, 'LR_Bias': -1.3645173152070997, 'mse_train': 1265.8365183724118} \n",
      "\n"
     ]
    }
   ],
   "source": [
    "# Linear regression on polynomial features - dQ/dt & dT/dt\n",
    "dictest = SFS_poly(term0,X_train,dQdt_train,1,10,2)"
   ]
  },
  {
   "cell_type": "markdown",
   "metadata": {},
   "source": [
    "Surprised that the fit is not better - repeating the previous implementation of SFS+polynomial fit for comparison"
   ]
  },
  {
   "cell_type": "code",
   "execution_count": null,
   "metadata": {},
   "outputs": [],
   "source": [
    "x_train2,x_test2,y_train2,y_test2 = subsampler(i_random,x,y,xRH,xB,xLHFns,hyam,hybm,variables=KEYS['all'])"
   ]
  },
  {
   "cell_type": "code",
   "execution_count": null,
   "metadata": {},
   "outputs": [],
   "source": [
    "Norm = {}\n",
    "Norm['mean'] = {}\n",
    "Norm['min'] = {}\n",
    "Norm['max'] = {}\n",
    "Norm['std'] = {}\n",
    "for keys in KEYS['all']:\n",
    "    Norm['mean'][keys] = tmp['MEAN'][keys]\n",
    "    Norm['min'][keys] = tmp['MIN'][keys]\n",
    "    Norm['max'][keys] = tmp['MAX'][keys]\n",
    "    Norm['std'][keys] = tmp['STD'][keys]    "
   ]
  },
  {
   "cell_type": "code",
   "execution_count": null,
   "metadata": {},
   "outputs": [],
   "source": [
    "x_train_range,x_test_range,Norm = range_normalizer(x_train,scalar_sel,vector_sel,Norm=Norm)"
   ]
  },
  {
   "cell_type": "markdown",
   "metadata": {},
   "source": [
    "### Generalize to all models for both subgrid heating/moistening"
   ]
  },
  {
   "cell_type": "code",
   "execution_count": null,
   "metadata": {},
   "outputs": [],
   "source": []
  },
  {
   "cell_type": "markdown",
   "metadata": {},
   "source": [
    "# Fit-the-CDF method"
   ]
  },
  {
   "cell_type": "markdown",
   "metadata": {},
   "source": [
    "## Calculate the empirical CDF of the main variables"
   ]
  },
  {
   "cell_type": "code",
   "execution_count": null,
   "metadata": {},
   "outputs": [],
   "source": [
    "x.shape"
   ]
  },
  {
   "cell_type": "code",
   "execution_count": null,
   "metadata": {},
   "outputs": [],
   "source": [
    "Nsample = 2500000"
   ]
  },
  {
   "cell_type": "code",
   "execution_count": null,
   "metadata": {},
   "outputs": [],
   "source": [
    "i_random = np.random.choice(np.linspace(0,xt[clim].shape[0]-1,xt[clim].shape[0]),\n",
    "                                size=((Nsample,)),replace=False).astype('int')"
   ]
  },
  {
   "cell_type": "code",
   "execution_count": null,
   "metadata": {},
   "outputs": [],
   "source": [
    "x_train,x_test,y_train,y_test = subsampler(i_random,x,y,xRH,xB,xLHFns,hyam,hybm,variables=KEYS['all'])"
   ]
  },
  {
   "cell_type": "code",
   "execution_count": null,
   "metadata": {},
   "outputs": [],
   "source": [
    "combin_keys = np.concatenate((scalar_keys,vector_keys))"
   ]
  },
  {
   "cell_type": "code",
   "execution_count": null,
   "metadata": {},
   "outputs": [],
   "source": [
    "def edg2bin(edges):\n",
    "    return (edges[:-1]+edges[1:])/2"
   ]
  },
  {
   "cell_type": "code",
   "execution_count": null,
   "metadata": {},
   "outputs": [],
   "source": [
    "PDF = {}; EDG = {}; CDF = {}; MAX = {}; MIN = {};"
   ]
  },
  {
   "cell_type": "code",
   "execution_count": null,
   "metadata": {},
   "outputs": [],
   "source": [
    "PDF = {}; EDG = {}; CDF = {}; MAX = {}; MIN = {}; MEAN = {}; STD = {}"
   ]
  },
  {
   "cell_type": "code",
   "execution_count": null,
   "metadata": {},
   "outputs": [],
   "source": [
    "for k in x_train.keys():\n",
    "    print(k)\n",
    "    PDF[k],EDG[k] = np.histogram(x_train[k].flatten(),bins=250,density=True)\n",
    "    db = np.array(np.diff(EDG[k]), float)  \n",
    "    CDF[k] = db*PDF[k].cumsum()\n",
    "    MAX[k] = np.max(x_train[k].flatten())\n",
    "    MIN[k] = np.min(x_train[k].flatten())\n",
    "    MEAN[k] = np.mean(x_train[k].flatten())\n",
    "    STD[k] = np.std(x_train[k].flatten())"
   ]
  },
  {
   "cell_type": "markdown",
   "metadata": {},
   "source": [
    "Save the CDFs to fit them in an independent notebook"
   ]
  },
  {
   "cell_type": "code",
   "execution_count": null,
   "metadata": {},
   "outputs": [],
   "source": [
    "save_name = path_data+'2022_07_22_NORM_PDF_CDF_TRAIN_BOTH_M4K_P4K'"
   ]
  },
  {
   "cell_type": "code",
   "execution_count": null,
   "metadata": {},
   "outputs": [],
   "source": [
    "#pickle.dump({\"PDF\":PDF,\"CDF\":CDF,\"EDG\":EDG,\"MAX\":MAX,\"MIN\":MIN,\"MEAN\":MEAN,\"STD\":STD}, open(save_name,'wb'))"
   ]
  },
  {
   "cell_type": "code",
   "execution_count": null,
   "metadata": {},
   "outputs": [],
   "source": [
    "plt.plot(edg2bin(EDG['T_above']),CDF['T_above'])"
   ]
  },
  {
   "cell_type": "code",
   "execution_count": null,
   "metadata": {},
   "outputs": [],
   "source": [
    "cumtrapz(x=edg2bin(EDG['T']),y=PDF['T'],initial=0).shape"
   ]
  },
  {
   "cell_type": "code",
   "execution_count": null,
   "metadata": {},
   "outputs": [],
   "source": [
    "def cdf_q(x):\n",
    "    \n",
    "    from scipy.special import erf\n",
    "    \n",
    "    def acosh_abs(x):\n",
    "        return np.arccosh(np.abs(x)+1e-8+1)\n",
    "    \n",
    "    return erf(np.arctan(np.tanh(acosh_abs(x) * 8.828)))"
   ]
  },
  {
   "cell_type": "code",
   "execution_count": null,
   "metadata": {},
   "outputs": [],
   "source": [
    "def cdf_dqdt(x):\n",
    "    \n",
    "    def relu(x):\n",
    "        return x*(x>0)\n",
    "    \n",
    "    return (relu(x -2*6.0664007e-9) / np.maximum(x,1e-10))"
   ]
  },
  {
   "cell_type": "code",
   "execution_count": null,
   "metadata": {},
   "outputs": [],
   "source": [
    "test = cdf_q(x_train['q'])"
   ]
  },
  {
   "cell_type": "code",
   "execution_count": null,
   "metadata": {},
   "outputs": [],
   "source": [
    "test2 = cdf_dqdt(x_train['dq_dp_FD'])"
   ]
  },
  {
   "cell_type": "markdown",
   "metadata": {},
   "source": [
    "## Include the CDF transform as optional variables when sub-sampling"
   ]
  },
  {
   "cell_type": "code",
   "execution_count": null,
   "metadata": {},
   "outputs": [],
   "source": [
    "def CDF_keys(x0,key):\n",
    "    \n",
    "    from scipy.special import erfc\n",
    "    from scipy.special import gamma\n",
    "    from scipy.special import erf\n",
    "    \n",
    "    def relu(x):\n",
    "        return x*(x>0)\n",
    "\n",
    "    def log10_abs(x):\n",
    "        return np.log10(np.abs(x)+1e-8)\n",
    "\n",
    "    def cos(x):\n",
    "        return np.cos(x)\n",
    "\n",
    "    def acosh_abs(x):\n",
    "        return np.arccosh(np.abs(x)+1e-8+1)\n",
    "\n",
    "    def asinh(x):\n",
    "        return np.arcsinh(x)\n",
    "\n",
    "    def cube(x):\n",
    "        return x**3\n",
    "\n",
    "    def square(x):\n",
    "        return x**2\n",
    "\n",
    "    def tanh(x):\n",
    "        return np.tanh(x)\n",
    "\n",
    "    def tan(x):\n",
    "        return np.tan(x)\n",
    "\n",
    "    def sin(x):\n",
    "        return np.sin(x)\n",
    "\n",
    "    def sinh(x):\n",
    "        return np.sinh(x)\n",
    "\n",
    "    def exp(x):\n",
    "        return np.exp(x)\n",
    "\n",
    "    def atan(x):\n",
    "        return np.arctan(x)\n",
    "    \n",
    "    if key=='p': cdf = atan((x0 * 1e-5) + 0.15) # Retained third candidate\n",
    "    elif key=='q': cdf = erf(atan(tanh(acosh_abs(x0) * 8.828))) # Retained last candidate\n",
    "    elif key=='T': cdf = ((sinh(log10_abs(x0))-4.6766) * 0.813) # Retained last candidate that didn't ReLU neg T\n",
    "    elif key=='RH': cdf = cos((x0*0.7456)-1.45) # Keeps monotonically increasing property of CDF\n",
    "    elif key=='B': cdf = (atan(exp(x0 / acosh_abs(x0)))-0.0214) # Has the best CDF properties\n",
    "    elif key=='S0': cdf = erf(x0* 0.000438 + 0.212) # Pretty \"easy\" CDF\n",
    "    elif key=='ps': cdf = erf(cube(tan(x0 * 1e-4))) # Has better monotonicity properties, but not valid at high ps\n",
    "    elif key=='SHF': cdf = relu(tanh((x0 + 1.965) * 0.05))\n",
    "    elif key=='LHF': cdf = tanh(relu((x0 + 13.2) * 0.0096))\n",
    "    elif key=='LHFns': cdf = square(erfc(erfc(asinh((x0 / 0.011873) + 0.023746))))\n",
    "        \n",
    "    return np.maximum(0,np.minimum(1,cdf))"
   ]
  },
  {
   "cell_type": "code",
   "execution_count": null,
   "metadata": {},
   "outputs": [],
   "source": [
    "Model_Types = ['localBF_CDF','BF_CDF','localBF','localCI_CDF','CI_CDF','localCI']\n",
    "N_subsample = 5\n",
    "N_degree = 3\n",
    "Nsample = 3000\n",
    "\n",
    "KEYS = {}\n",
    "KEYS['local'] = ['ps', 'S0', 'SHF', 'LHF','LHFns','p', 'q', 'dq_dp_FD',\n",
    "              'd2q_dp2_FD','T', 'dT_dp_FD','d2T_dp2_FD','RH', 'dRH_dp_FD',\n",
    "              'd2RH_dp2_FD','B', 'dB_dp_FD','d2B_dp2_FD']\n",
    "KEYS['localCI'] = ['ps', 'S0', 'SHF','LHFns','p','RH', 'dRH_dp_FD',\n",
    "              'd2RH_dp2_FD','B', 'dB_dp_FD','d2B_dp2_FD']\n",
    "KEYS['localBF'] = ['ps', 'S0', 'SHF', 'LHF', 'p', 'q', 'dq_dp_FD',\n",
    "              'd2q_dp2_FD','T', 'dT_dp_FD','d2T_dp2_FD']\n",
    "KEYS['all'] = np.concatenate((KEYS['local'],['Q_above','Q_below','T_below','T_above',\n",
    "                                             'RH_below','RH_above','B_below','B_above']))\n",
    "KEYS['BF'] = np.concatenate((KEYS['localBF'],['Q_above','Q_below','T_below','T_above']))\n",
    "KEYS['CI'] = np.concatenate((KEYS['localCI'],['RH_below','RH_above','B_below','B_above']))\n",
    "scalar_keys = ['ps','S0','SHF','LHF','LHFns']\n",
    "vector_keys = ['p', 'q', 'dq_dp_FD', 'd2q_dp2_FD', 'Q_above', 'Q_below',\n",
    "               'T', 'dT_dp_FD', 'd2T_dp2_FD', 'T_above', 'T_below',\n",
    "               'RH', 'dRH_dp_FD', 'd2RH_dp2_FD', 'RH_above', 'RH_below',\n",
    "               'B', 'dB_dp_FD', 'd2B_dp2_FD', 'B_above', 'B_below']\n",
    "combin_keys = np.concatenate((scalar_keys,vector_keys))\n",
    "KEYS['CDF_vector'] = ['p','q','T','RH','B']\n",
    "KEYS['CDF_scalar'] = ['S0','ps','SHF','LHF','LHFns']\n",
    "KEYS['CDF'] = np.concatenate((KEYS['CDF_vector'],KEYS['CDF_scalar']))\n",
    "for k in KEYS['CDF_scalar']:\n",
    "    scalar_keys = np.concatenate((scalar_keys,['CDF_'+k]))\n",
    "for k in KEYS['CDF_vector']:\n",
    "    vector_keys = np.concatenate((vector_keys,['CDF_'+k,'dCDF_'+k+'dp_FD','d2CDF_'+k+'dp2_FD']))\n",
    "combin_keys = np.concatenate((scalar_keys,vector_keys))\n",
    "KEYS['BF_CDF'] = ['CDF_S0', 'CDF_ps', 'CDF_SHF', 'CDF_LHF','CDF_p','CDF_q', 'dCDF_qdp_FD',\n",
    "                  'd2CDF_qdp2_FD', 'CDF_T', 'dCDF_Tdp_FD','d2CDF_Tdp2_FD']\n",
    "KEYS['localBF_CDF'] = np.concatenate((KEYS['localBF'],KEYS['BF_CDF']))\n",
    "KEYS['CI_CDF'] = ['CDF_S0', 'CDF_ps', 'CDF_SHF', 'CDF_LHFns',\n",
    "                  'CDF_p','CDF_RH','dCDF_RHdp_FD', 'd2CDF_RHdp2_FD',\n",
    "                  'CDF_B', 'dCDF_Bdp_FD','d2CDF_Bdp2_FD']\n",
    "KEYS['localCI_CDF'] = np.concatenate((KEYS['localCI'],KEYS['CI_CDF']))\n",
    "\n",
    "min_features = [1,1,1,1,1]\n",
    "max_features = [11,6,6,6,6]\n",
    "cv = [2,2,2,2,2]\n",
    "\n",
    "dict_Q = {}; dict_T = {};"
   ]
  },
  {
   "cell_type": "code",
   "execution_count": null,
   "metadata": {},
   "outputs": [],
   "source": [
    "## Second attempt, this time using both the cold and the warm parts of the dataset\n",
    "\n",
    "for i_subsample in range(N_subsample):\n",
    "    print('i_subsample='+str(i_subsample)+'/'+str(N_subsample-1))\n",
    "    dict_Q[i_subsample] = {}; dict_T[i_subsample] = {};\n",
    "    \n",
    "    # Pre-process & sub-sample the data\n",
    "    i_random = np.random.choice(np.linspace(0,xt[clim].shape[0]-1,xt[clim].shape[0]),\n",
    "                                size=((Nsample,)),replace=False).astype('int')\n",
    "    dict_Q[i_subsample]['Selected_indices'] = i_random;\n",
    "    dict_T[i_subsample]['Selected_indices'] = i_random;\n",
    "    \n",
    "    x_train,x_test,y_train,y_test = subsampler(i_random,x,y,xRH,xB,xLHFns,hyam,hybm,variables=KEYS['all'])\n",
    "    for k in KEYS['CDF']:\n",
    "        x_train['CDF_'+k] = CDF_keys(x_train[k],k)\n",
    "        if k in KEYS['CDF_vector']:\n",
    "            x_train['dCDF_'+k+'dp_FD'] = p_derivative(x_train['CDF_'+k],x_train['p'])\n",
    "            x_train['d2CDF_'+k+'dp2_FD'] = p_derivative(x_train['dCDF_'+k+'dp_FD'],x_train['p'])\n",
    "    x_train_range,x_test_range,Norm = range_normalizer(x_train,scalar_keys,vector_keys)\n",
    "    \n",
    "    for model_type in (Model_Types):\n",
    "        print('model_type='+model_type)\n",
    "        dict_Q[i_subsample][model_type] = {}; dict_T[i_subsample][model_type] = {};\n",
    "        \n",
    "        # Transform dictionary into array for regression purposes\n",
    "        X_train,X_test,dQdt_train,dQdt_test,dTdt_train,dTdt_test = \\\n",
    "        dic_to_array(KEYS[model_type],x_train_range,y_train,scale_dict)\n",
    "    \n",
    "        for degree in np.arange(1,N_degree+1):\n",
    "            print('degree='+str(degree))\n",
    "            dic_to_save = {}; ideg = degree-1;\n",
    "            \n",
    "            # Polynomial features\n",
    "            poly = PolynomialFeatures(degree=degree)\n",
    "            X_train_poly = poly.fit_transform(X_train)    \n",
    "            features = poly.get_feature_names(np.array(KEYS[model_type])) # Update the feature names\n",
    "                \n",
    "            # Linear regression on polynomial features - dQ/dt & dT/dt\n",
    "            dict_Q[i_subsample][model_type][degree] = \\\n",
    "            SFS_poly(features,X_train_poly,dQdt_train,\n",
    "                     min_features[ideg],max_features[ideg],cv[ideg])\n",
    "            \n",
    "            dict_T[i_subsample][model_type][degree] = \\\n",
    "            SFS_poly(features,X_train_poly,dTdt_train,\n",
    "                     min_features[ideg],max_features[ideg],cv[ideg])\n",
    "            \n",
    "        # Write dict_combined to pkl file\n",
    "        save_path = path_data+'Polynomial_Fits/2022_07_19_dicCDF_'+model_type+'_isample_'+str(i_subsample+1)+'.pkl'\n",
    "        pickle.dump({\n",
    "          \"Qfits\": dict_Q[i_subsample][model_type],\n",
    "          \"Tfits\": dict_T[i_subsample][model_type],\n",
    "          'Selected_indices': i_random}, open(save_path,'wb'))\n"
   ]
  }
 ],
 "metadata": {
  "kernelspec": {
   "display_name": "Python 3",
   "language": "python",
   "name": "python3"
  },
  "language_info": {
   "codemirror_mode": {
    "name": "ipython",
    "version": 3
   },
   "file_extension": ".py",
   "mimetype": "text/x-python",
   "name": "python",
   "nbconvert_exporter": "python",
   "pygments_lexer": "ipython3",
   "version": "3.6.10"
  },
  "toc": {
   "base_numbering": 1,
   "nav_menu": {},
   "number_sections": true,
   "sideBar": true,
   "skip_h1_title": false,
   "title_cell": "Table of Contents",
   "title_sidebar": "Contents",
   "toc_cell": false,
   "toc_position": {
    "height": "calc(100% - 180px)",
    "left": "10px",
    "top": "150px",
    "width": "384px"
   },
   "toc_section_display": true,
   "toc_window_display": true
  }
 },
 "nbformat": 4,
 "nbformat_minor": 4
}
