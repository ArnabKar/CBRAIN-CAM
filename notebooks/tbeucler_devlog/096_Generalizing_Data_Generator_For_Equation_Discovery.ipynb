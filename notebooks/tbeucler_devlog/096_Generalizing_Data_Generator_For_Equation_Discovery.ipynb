{
 "cells": [
  {
   "cell_type": "markdown",
   "metadata": {},
   "source": [
    "tb - 7/8/2022 - Generalizing the data generator for sparse linear regression using stochastic gradient descent. The goal is to select the terms found in [093] using the entire dataset. One of the first steps will be to compare features selected when training on both datasets at once compared to individual (-4K) or (+4K) climates."
   ]
  },
  {
   "cell_type": "markdown",
   "metadata": {},
   "source": [
    "# Imports and Initialization"
   ]
  },
  {
   "cell_type": "markdown",
   "metadata": {},
   "source": [
    "## Imports"
   ]
  },
  {
   "cell_type": "code",
   "execution_count": 1,
   "metadata": {},
   "outputs": [
    {
     "name": "stdout",
     "output_type": "stream",
     "text": [
      "/nfspool-0/home/tbeucler/CBRAIN-CAM/notebooks/tbeucler_devlog\n"
     ]
    }
   ],
   "source": [
    "from sklearn.linear_model import LinearRegression\n",
    "from sklearn.metrics import mean_squared_error\n",
    "from sklearn.feature_selection import SequentialFeatureSelector\n",
    "from sklearn.model_selection import cross_validate\n",
    "from sklearn.model_selection import RepeatedKFold\n",
    "from sklearn.preprocessing import PolynomialFeatures\n",
    "\n",
    "from cbrain.cam_constants import *\n",
    "from cbrain.climate_invariant import *\n",
    "from cbrain.equation_discovery import *\n",
    "from cbrain.preprocessing.convert_dataset_20191113 import compute_LHF_nsDELQ\n",
    "from cbrain.climate_invariant_utils import *\n",
    "from scipy.integrate import cumtrapz,trapz\n",
    "from scipy import interpolate,misc\n",
    "\n",
    "import matplotlib as mpl\n",
    "import matplotlib.pyplot as plt\n",
    "import numpy as np\n",
    "import pickle\n",
    "import xarray as xr"
   ]
  },
  {
   "cell_type": "code",
   "execution_count": 2,
   "metadata": {},
   "outputs": [],
   "source": [
    "fz = 12\n",
    "lw = 2\n",
    "siz = 100\n",
    "\n",
    "plt.rc('text', usetex=False)\n",
    "mpl.rcParams['mathtext.fontset'] = 'stix'\n",
    "mpl.rcParams['font.family'] = 'STIXGeneral'\n",
    "plt.rc('font', family='serif', size=fz)\n",
    "mpl.rcParams['lines.linewidth'] = lw"
   ]
  },
  {
   "cell_type": "markdown",
   "metadata": {},
   "source": [
    "## Load data"
   ]
  },
  {
   "cell_type": "code",
   "execution_count": 3,
   "metadata": {},
   "outputs": [],
   "source": [
    "path_data = '/DFS-L/DATA/pritchard/tbeucler/SPCAM/SPCAM_PHYS/'\n",
    "path_array = {}\n",
    "climate_str = ['cold','hot','both']\n",
    "set_str = ['train','valid','test']\n",
    "test_clim_str = ['cold','hot','both','medium']\n",
    "path_array['cold'] = [path_data+'2021_03_18_O3_TRAIN_M4K_shuffle.nc',\n",
    "                      path_data+'2021_03_18_O3_VALID_M4K.nc',\n",
    "                      path_data+'2021_03_18_O3_TEST_M4K.nc']\n",
    "path_array['hot'] = [path_data+'2021_03_18_O3_TRAIN_P4K_shuffle.nc',\n",
    "                     path_data+'2021_03_18_O3_VALID_P4K.nc',\n",
    "                     path_data+'2021_03_18_O3_TEST_P4K.nc']\n",
    "path_array['both'] = [path_data+'2022_04_18_TRAIN_M4K_P4K_shuffle.nc',\n",
    "                      path_data+'2022_04_18_VALID_M4K_P4K.nc',\n",
    "                      path_data+'2022_04_18_TEST_M4K_P4K.nc']\n",
    "path_array['medium'] = [path_data+'2021_01_24_O3_TRAIN_shuffle.nc',\n",
    "                        path_data+'2021_01_24_O3_VALID.nc',\n",
    "                        path_data+'2021_01_24_O3_TEST.nc']\n",
    "path_input_norm = path_data + '2021_01_24_NORM_O3_small.nc'\n",
    "path_norm_RH = path_data + '2021_02_01_NORM_O3_RH_small.nc'\n",
    "path_norm_BMSE = path_data + '2021_06_16_NORM_BMSE_small.nc'\n",
    "path_norm_LHF_nsDELQ = path_data + '2021_02_01_NORM_O3_LHF_nsDELQ_small.nc'\n",
    "in_vars = ['QBP','TBP','PS','SOLIN','SHFLX','LHFLX'] # We take the large-scale climate state as inputs\n",
    "out_vars = ['PHQ','TPHYSTND','QRL','QRS'] # and we output the response of clouds/storms to these climate conditions\n",
    "scale_dict = pickle.load(open(path_data+'009_Wm2_scaling.pkl','rb'))"
   ]
  },
  {
   "cell_type": "code",
   "execution_count": 4,
   "metadata": {},
   "outputs": [],
   "source": [
    "path_RH_B_train = path_data+'2022_07_08_B_RH_TRAIN_both.nc'\n",
    "path_RH_B_test = path_data+'2022_06_26_B_RH_both.nc'"
   ]
  },
  {
   "cell_type": "code",
   "execution_count": 5,
   "metadata": {},
   "outputs": [],
   "source": [
    "climates = ['m4K','ref','p4K']\n",
    "path_append = ['2021_03_18_O3_TEST_M4K.nc','2021_01_24_O3_TEST.nc','2021_03_18_O3_TEST_P4K.nc']\n",
    "path_RH_B_append = ['2022_06_27_B_RH_TEST_m4K.nc','2022_06_27_B_RH_TEST_ref.nc','2022_06_27_B_RH_TEST_p4K.nc']\n",
    "path_LHF_nsDELQ = '2022_06_29_LHF_nsDELQ.nc'\n",
    "path_LHF_nsDELQ_train = '2022_07_08_LHF_nsDELQ_TRAIN_both.nc'"
   ]
  },
  {
   "cell_type": "code",
   "execution_count": 6,
   "metadata": {},
   "outputs": [],
   "source": [
    "LHF_nsDELQ_train = xr.open_dataset(path_data+path_LHF_nsDELQ_train)\n",
    "LHF_nsDELQ_test = xr.open_dataset(path_data+path_LHF_nsDELQ)"
   ]
  },
  {
   "cell_type": "code",
   "execution_count": 7,
   "metadata": {},
   "outputs": [],
   "source": [
    "train_both = xr.open_dataset(path_array['both'][0])\n",
    "train_both_RH_B = xr.open_dataset(path_RH_B_train)"
   ]
  },
  {
   "cell_type": "code",
   "execution_count": 8,
   "metadata": {},
   "outputs": [],
   "source": [
    "test_sets = {}; test_sets_RHB = {}; \n",
    "LHFname = ['LHFns_cold','LHFns_med','LHFns_hot']"
   ]
  },
  {
   "cell_type": "code",
   "execution_count": 9,
   "metadata": {},
   "outputs": [],
   "source": [
    "for iclim,clim in enumerate(climates):\n",
    "    test_sets[clim] = xr.open_dataset(path_data+path_append[iclim])\n",
    "    test_sets_RHB[clim] = xr.open_dataset(path_data+path_RH_B_append[iclim])"
   ]
  },
  {
   "cell_type": "code",
   "execution_count": 10,
   "metadata": {},
   "outputs": [],
   "source": [
    "ind_input = np.concatenate((np.arange(0,60),np.arange(90,94)))\n",
    "ind_output = np.arange(94,94+60)"
   ]
  },
  {
   "cell_type": "code",
   "execution_count": 11,
   "metadata": {},
   "outputs": [],
   "source": [
    "xt = {}; yt = {}; xRHt= {}; xBt = {}; xLHFnst = {};"
   ]
  },
  {
   "cell_type": "code",
   "execution_count": 12,
   "metadata": {},
   "outputs": [],
   "source": [
    "name_RH = ['RH_test_cold','RH_test_med','RH_test_hot']\n",
    "name_B = ['B_test_cold','B_test_med','B_test_hot']"
   ]
  },
  {
   "cell_type": "code",
   "execution_count": 13,
   "metadata": {},
   "outputs": [],
   "source": [
    "x = train_both['vars'][:,ind_input]\n",
    "xRH = train_both_RH_B['RH_train']\n",
    "xB = train_both_RH_B['B_train']\n",
    "xLHFns = LHF_nsDELQ_train['LHFns']\n",
    "y = train_both['vars'][:,ind_output]\n",
    "for iclim,clim in enumerate(climates):\n",
    "    xt[clim] = test_sets[clim]['vars'][:,ind_input]\n",
    "    xRHt[clim] = test_sets_RHB[clim][name_RH[iclim]]\n",
    "    xBt[clim] = test_sets_RHB[clim][name_B[iclim]]\n",
    "    xLHFnst[clim] = LHF_nsDELQ_test[LHFname[iclim]]\n",
    "    yt[clim] = test_sets[clim]['vars'][:,ind_output]"
   ]
  },
  {
   "cell_type": "markdown",
   "metadata": {},
   "source": [
    "# First attempt using least-squared error (no SGD)"
   ]
  },
  {
   "cell_type": "code",
   "execution_count": 14,
   "metadata": {},
   "outputs": [],
   "source": [
    "Model_Types = ['localBF','localCI','BF','CI']\n",
    "N_subsample = 5\n",
    "N_degree = 4\n",
    "Nsample = 3000"
   ]
  },
  {
   "cell_type": "code",
   "execution_count": 15,
   "metadata": {},
   "outputs": [],
   "source": [
    "KEYS = {}\n",
    "KEYS['local'] = ['ps', 'S0', 'SHF', 'LHF','LHFns','p', 'q', 'dq_dp_FD',\n",
    "              'd2q_dp2_FD','T', 'dT_dp_FD','d2T_dp2_FD','RH', 'dRH_dp_FD',\n",
    "              'd2RH_dp2_FD','B', 'dB_dp_FD','d2B_dp2_FD']\n",
    "KEYS['localCI'] = ['ps', 'S0', 'SHF','LHFns','p','RH', 'dRH_dp_FD',\n",
    "              'd2RH_dp2_FD','B', 'dB_dp_FD','d2B_dp2_FD']\n",
    "KEYS['localBF'] = ['ps', 'S0', 'SHF', 'LHF', 'p', 'q', 'dq_dp_FD',\n",
    "              'd2q_dp2_FD','T', 'dT_dp_FD','d2T_dp2_FD']\n",
    "KEYS['all'] = np.concatenate((KEYS['local'],['Q_above','Q_below','T_below','T_above',\n",
    "                                             'RH_below','RH_above','B_below','B_above']))\n",
    "KEYS['BF'] = np.concatenate((KEYS['localBF'],['Q_above','Q_below','T_below','T_above']))\n",
    "KEYS['CI'] = np.concatenate((KEYS['localCI'],['RH_below','RH_above','B_below','B_above']))\n",
    "scalar_keys = ['ps','S0','SHF','LHF','LHFns']\n",
    "vector_keys = ['p', 'q', 'dq_dp_FD', 'd2q_dp2_FD', 'Q_above', 'Q_below',\n",
    "               'T', 'dT_dp_FD', 'd2T_dp2_FD', 'T_above', 'T_below',\n",
    "               'RH', 'dRH_dp_FD', 'd2RH_dp2_FD', 'RH_above', 'RH_below',\n",
    "               'B', 'dB_dp_FD', 'd2B_dp2_FD', 'B_above', 'B_below']\n",
    "combin_keys = np.concatenate((scalar_keys,vector_keys))"
   ]
  },
  {
   "cell_type": "code",
   "execution_count": 16,
   "metadata": {},
   "outputs": [],
   "source": [
    "min_features = [1,1,1,1,1]\n",
    "max_features = [11,6,6,6,6]\n",
    "cv = [2,2,2,2,2]"
   ]
  },
  {
   "cell_type": "code",
   "execution_count": 17,
   "metadata": {},
   "outputs": [],
   "source": [
    "dict_Q = {}; dict_T = {};"
   ]
  },
  {
   "cell_type": "markdown",
   "metadata": {},
   "source": [
    "## Second attempt, this time using both the cold and the warm parts of the dataset"
   ]
  },
  {
   "cell_type": "code",
   "execution_count": null,
   "metadata": {},
   "outputs": [],
   "source": [
    "for i_subsample in range(N_subsample):\n",
    "    print('i_subsample='+str(i_subsample)+'/'+str(N_subsample-1))\n",
    "    dict_Q[i_subsample] = {}; dict_T[i_subsample] = {};\n",
    "    \n",
    "    # Pre-process & sub-sample the data\n",
    "    i_random = np.random.choice(np.linspace(0,xt[clim].shape[0]-1,xt[clim].shape[0]),\n",
    "                                size=((Nsample,)),replace=False).astype('int')\n",
    "    dict_Q[i_subsample]['Selected_indices'] = i_random;\n",
    "    dict_T[i_subsample]['Selected_indices'] = i_random;\n",
    "    \n",
    "    x_train,x_test,y_train,y_test = subsampler(i_random,x,y,xRH,xB,xLHFns,hyam,hybm,variables=KEYS['all'])\n",
    "    x_train_range,x_test_range,Norm = range_normalizer(x_train,scalar_keys,vector_keys)\n",
    "    \n",
    "    for model_type in (Model_Types):\n",
    "        print('model_type='+model_type)\n",
    "        dict_Q[i_subsample][model_type] = {}; dict_T[i_subsample][model_type] = {};\n",
    "        \n",
    "        # Transform dictionary into array for regression purposes\n",
    "        X_train,X_test,dQdt_train,dQdt_test,dTdt_train,dTdt_test = \\\n",
    "        dic_to_array(KEYS[model_type],x_train_range,y_train,scale_dict)\n",
    "    \n",
    "        for degree in np.arange(1,N_degree+1):\n",
    "            print('degree='+str(degree))\n",
    "            dic_to_save = {}; ideg = degree-1;\n",
    "            \n",
    "            # Polynomial features\n",
    "            poly = PolynomialFeatures(degree=degree)\n",
    "            X_train_poly = poly.fit_transform(X_train)    \n",
    "            features = poly.get_feature_names(np.array(KEYS[model_type])) # Update the feature names\n",
    "                \n",
    "            # Linear regression on polynomial features - dQ/dt & dT/dt\n",
    "            dict_Q[i_subsample][model_type][degree] = \\\n",
    "            SFS_poly(features,X_train_poly,dQdt_train,\n",
    "                     min_features[ideg],max_features[ideg],cv[ideg])\n",
    "            \n",
    "            dict_T[i_subsample][model_type][degree] = \\\n",
    "            SFS_poly(features,X_train_poly,dTdt_train,\n",
    "                     min_features[ideg],max_features[ideg],cv[ideg])\n",
    "            \n",
    "        # Write dict_combined to pkl file\n",
    "        save_path = path_data+'Polynomial_Fits/2022_07_18_dicQT_'+model_type+'_isample_'+str(i_subsample+1)+'.pkl'\n",
    "        pickle.dump({\n",
    "          \"Qfits\": dict_Q[i_subsample][model_type],\n",
    "          \"Tfits\": dict_T[i_subsample][model_type],\n",
    "          'Selected_indices': i_random}, open(save_path,'wb'))"
   ]
  },
  {
   "cell_type": "markdown",
   "metadata": {},
   "source": [
    "## First attempt only using the cold part of the dataset (once again)"
   ]
  },
  {
   "cell_type": "code",
   "execution_count": null,
   "metadata": {},
   "outputs": [],
   "source": [
    "for i_subsample in range(N_subsample):\n",
    "    print('i_subsample='+str(i_subsample)+'/'+str(N_subsample-1))\n",
    "    dict_Q[i_subsample] = {}; dict_T[i_subsample] = {};\n",
    "    \n",
    "    # Pre-process & sub-sample the data\n",
    "    i_random = np.random.choice(np.linspace(0,xt[clim].shape[0]-1,xt[clim].shape[0]),\n",
    "                                size=((Nsample,)),replace=False).astype('int')\n",
    "    dict_Q[i_subsample]['Selected_indices'] = i_random;\n",
    "    dict_T[i_subsample]['Selected_indices'] = i_random;\n",
    "    \n",
    "    x_train,x_test,y_train,y_test = subsampler(i_random,x,y,xRH,xB,xLHFns,\n",
    "                                               xt,yt,xRHt,xBt,xLHFnst,hyam,hybm,\n",
    "                                               KEYS['all'])\n",
    "    x_train_range,x_test_range,Norm = range_normalizer(x_train,x_test,scalar_keys,vector_keys)\n",
    "    \n",
    "    for model_type in (Model_Types):\n",
    "        print('model_type='+model_type)\n",
    "        dict_Q[i_subsample][model_type] = {}; dict_T[i_subsample][model_type] = {};\n",
    "        \n",
    "        # Transform dictionary into array for regression purposes\n",
    "        X_train,X_test,dQdt_train,dQdt_test,dTdt_train,dTdt_test = \\\n",
    "        dic_to_array(KEYS[model_type],x_train_range,x_test_range,\n",
    "                     y_train,y_test,scale_dict)\n",
    "    \n",
    "        for degree in np.arange(1,N_degree+1):\n",
    "            print('degree='+str(degree))\n",
    "            dic_to_save = {}; ideg = degree-1;\n",
    "            \n",
    "            # Polynomial features\n",
    "            poly = PolynomialFeatures(degree=degree)\n",
    "            X_train_poly = poly.fit_transform(X_train)    \n",
    "            features = poly.get_feature_names(np.array(KEYS[model_type])) # Update the feature names\n",
    "            X_test_poly = {};\n",
    "            for iclim,clim in enumerate(climates):\n",
    "                X_test_poly[clim] = poly.fit_transform(X_test[clim])\n",
    "                \n",
    "            # Linear regression on polynomial features - dQ/dt & dT/dt\n",
    "            dict_Q[i_subsample][model_type][degree] = \\\n",
    "            SFS_poly(features,X_train_poly,X_test_poly,\n",
    "                     dQdt_train,dQdt_test,\n",
    "                     min_features[ideg],max_features[ideg],cv[ideg])\n",
    "            \n",
    "            dict_T[i_subsample][model_type][degree] = \\\n",
    "            SFS_poly(features,X_train_poly,X_test_poly,\n",
    "                     dTdt_train,dTdt_test,\n",
    "                     min_features[ideg],max_features[ideg],cv[ideg])\n",
    "            \n",
    "        # Write dict_combined to pkl file\n",
    "        save_path = path_data+'Polynomial_Fits/2022_07_12_dicQT_'+model_type+'_isample_'+str(i_subsample+1)+'.pkl'\n",
    "        pickle.dump({\n",
    "          \"Qfits\": dict_Q[i_subsample][model_type],\n",
    "          \"Tfits\": dict_T[i_subsample][model_type],\n",
    "          'Selected_indices': i_random}, open(save_path,'wb'))"
   ]
  },
  {
   "cell_type": "code",
   "execution_count": null,
   "metadata": {},
   "outputs": [],
   "source": [
    "# save_path = path_data+'Polynomial_Fits/2022_07_12_dicQT_'+model_type+'_isample_'+str(i_subsample+1)+'.pkl'\n",
    "# pickle.dump({\n",
    "#   \"Qfits\": dict_Q[i_subsample][model_type],\n",
    "#   \"Tfits\": dict_T[i_subsample][model_type],\n",
    "#   'Selected_indices': i_random}, open(save_path,'wb'))"
   ]
  },
  {
   "cell_type": "markdown",
   "metadata": {},
   "source": [
    "# Second attempt using the full dataset and terms selected by the SFS"
   ]
  },
  {
   "cell_type": "markdown",
   "metadata": {},
   "source": [
    "## Load most important features calculated using subsamples of the training set"
   ]
  },
  {
   "cell_type": "markdown",
   "metadata": {},
   "source": [
    "To redo using models trained on *both* climates"
   ]
  },
  {
   "cell_type": "code",
   "execution_count": null,
   "metadata": {},
   "outputs": [],
   "source": [
    "path_Poly = '/DFS-L/DATA/pritchard/tbeucler/SPCAM/SPCAM_PHYS/Polynomial_Fits/'"
   ]
  },
  {
   "cell_type": "code",
   "execution_count": null,
   "metadata": {},
   "outputs": [],
   "source": [
    "tmp = pickle.load(open(path_Poly+'2022_07_18_Terms_Count.pkl','rb'))"
   ]
  },
  {
   "cell_type": "code",
   "execution_count": null,
   "metadata": {},
   "outputs": [],
   "source": [
    "termQ = tmp['Terms_Moisture']\n",
    "termT = tmp['Terms_Temperature']"
   ]
  },
  {
   "cell_type": "code",
   "execution_count": null,
   "metadata": {},
   "outputs": [],
   "source": [
    "Models = ['localBF','localCI','BF','CI']"
   ]
  },
  {
   "cell_type": "markdown",
   "metadata": {},
   "source": [
    "## Visualization of most selected terms"
   ]
  },
  {
   "cell_type": "code",
   "execution_count": null,
   "metadata": {},
   "outputs": [],
   "source": [
    "term = termT\n",
    "\n",
    "for i in range(4):\n",
    "    fig, ax = plt.subplots(1,1,figsize=(15,2.5))\n",
    "    plt.bar(term[Models[i]]['variables'][term[Models[i]]['count']>4],\n",
    "              term[Models[i]]['count'][term[Models[i]]['count']>4])\n",
    "    plt.axhline(y=5,color='g')\n",
    "    plt.xticks(rotation=90);\n",
    "    plt.xticks(fontsize=fz);\n",
    "    plt.title(Models[i],fontsize=fz)"
   ]
  },
  {
   "cell_type": "markdown",
   "metadata": {},
   "source": [
    "## Train model on the full dataset using the top selected features"
   ]
  },
  {
   "cell_type": "markdown",
   "metadata": {},
   "source": [
    "### Prototype: LocalBF for subgrid moistening"
   ]
  },
  {
   "cell_type": "code",
   "execution_count": null,
   "metadata": {},
   "outputs": [],
   "source": [
    "model = 'localBF'"
   ]
  },
  {
   "cell_type": "code",
   "execution_count": null,
   "metadata": {},
   "outputs": [],
   "source": [
    "terms = termQ[model]['variables'][termQ[model]['count']>4]"
   ]
  },
  {
   "cell_type": "code",
   "execution_count": null,
   "metadata": {},
   "outputs": [],
   "source": [
    "terms"
   ]
  },
  {
   "cell_type": "markdown",
   "metadata": {},
   "source": [
    "Find \"base terms\" and \"base polynomials\" that appear in the selected terms"
   ]
  },
  {
   "cell_type": "code",
   "execution_count": null,
   "metadata": {},
   "outputs": [],
   "source": [
    "unique_terms = []; unique_pol = [];\n",
    "for term in terms:\n",
    "    for t in term.split():\n",
    "        po = t.find('^')\n",
    "        if po>0: unique_terms.append(t[:po])\n",
    "        else: unique_terms.append(t)\n",
    "        unique_pol.append(t)\n",
    "unique_terms = list(set(unique_terms))\n",
    "unique_pol = list(set(unique_pol))"
   ]
  },
  {
   "cell_type": "code",
   "execution_count": null,
   "metadata": {},
   "outputs": [],
   "source": [
    "unique_terms"
   ]
  },
  {
   "cell_type": "markdown",
   "metadata": {},
   "source": [
    "Problem in current implementation of FD if a second derivative term appears without its first derivative counterpart"
   ]
  },
  {
   "cell_type": "code",
   "execution_count": null,
   "metadata": {},
   "outputs": [],
   "source": [
    "unique_pol"
   ]
  },
  {
   "cell_type": "code",
   "execution_count": null,
   "metadata": {},
   "outputs": [],
   "source": [
    "x.shape"
   ]
  },
  {
   "cell_type": "code",
   "execution_count": null,
   "metadata": {},
   "outputs": [],
   "source": [
    "plt.hist(x[:,59].values,bins=100);"
   ]
  },
  {
   "cell_type": "code",
   "execution_count": null,
   "metadata": {},
   "outputs": [],
   "source": [
    "plt.hist(x[:(xt[clim].shape[0]-1),59].values,bins=100);"
   ]
  },
  {
   "cell_type": "code",
   "execution_count": null,
   "metadata": {},
   "outputs": [],
   "source": [
    "# Pre-process & sub-sample the data\n",
    "i_random = np.random.choice(np.linspace(0,xt[clim].shape[0]-1,xt[clim].shape[0]),\n",
    "                            size=((Nsample,)),replace=False).astype('int')\n",
    "dict_Q[i_subsample]['Selected_indices'] = i_random;\n",
    "dict_T[i_subsample]['Selected_indices'] = i_random;"
   ]
  },
  {
   "cell_type": "code",
   "execution_count": null,
   "metadata": {},
   "outputs": [],
   "source": [
    "x_train,x_test,y_train,y_test = subsampler(None,x,y,xRH,xB,xLHFns,xt,yt,xRHt,xBt,xLHFnst,hyam,hybm,unique_terms)"
   ]
  },
  {
   "cell_type": "code",
   "execution_count": null,
   "metadata": {},
   "outputs": [],
   "source": [
    "x_train_range,x_test_range,Norm = range_normalizer(x_train,x_test,\n",
    "                                                   list(set(scalar_keys)&set(unique_terms)),\n",
    "                                                   list(set(vector_keys)&set(unique_terms)))"
   ]
  },
  {
   "cell_type": "markdown",
   "metadata": {},
   "source": [
    "# Fit-the-CDF method"
   ]
  },
  {
   "cell_type": "markdown",
   "metadata": {},
   "source": [
    "## Calculate the empirical CDF of the main variables"
   ]
  },
  {
   "cell_type": "code",
   "execution_count": 14,
   "metadata": {},
   "outputs": [
    {
     "data": {
      "text/plain": [
       "(94355456, 64)"
      ]
     },
     "execution_count": 14,
     "metadata": {},
     "output_type": "execute_result"
    }
   ],
   "source": [
    "x.shape"
   ]
  },
  {
   "cell_type": "code",
   "execution_count": 29,
   "metadata": {},
   "outputs": [],
   "source": [
    "Nsample = 2500000"
   ]
  },
  {
   "cell_type": "code",
   "execution_count": 30,
   "metadata": {},
   "outputs": [],
   "source": [
    "i_random = np.random.choice(np.linspace(0,xt[clim].shape[0]-1,xt[clim].shape[0]),\n",
    "                                size=((Nsample,)),replace=False).astype('int')"
   ]
  },
  {
   "cell_type": "code",
   "execution_count": 31,
   "metadata": {},
   "outputs": [],
   "source": [
    "x_train,x_test,y_train,y_test = subsampler(i_random,x,y,xRH,xB,xLHFns,hyam,hybm,variables=KEYS['all'])"
   ]
  },
  {
   "cell_type": "code",
   "execution_count": 32,
   "metadata": {},
   "outputs": [],
   "source": [
    "combin_keys = np.concatenate((scalar_keys,vector_keys))"
   ]
  },
  {
   "cell_type": "code",
   "execution_count": 33,
   "metadata": {},
   "outputs": [],
   "source": [
    "def edg2bin(edges):\n",
    "    return (edges[:-1]+edges[1:])/2"
   ]
  },
  {
   "cell_type": "code",
   "execution_count": 34,
   "metadata": {},
   "outputs": [],
   "source": [
    "PDF = {}; EDG = {}; CDF = {}"
   ]
  },
  {
   "cell_type": "code",
   "execution_count": 35,
   "metadata": {},
   "outputs": [
    {
     "name": "stdout",
     "output_type": "stream",
     "text": [
      "p\n",
      "q\n",
      "dq_dp_FD\n",
      "d2q_dp2_FD\n",
      "Q_above\n",
      "Q_below\n",
      "T\n",
      "dT_dp_FD\n",
      "d2T_dp2_FD\n",
      "T_above\n",
      "T_below\n",
      "RH\n",
      "dRH_dp_FD\n",
      "d2RH_dp2_FD\n",
      "RH_above\n",
      "RH_below\n",
      "B\n",
      "dB_dp_FD\n",
      "d2B_dp2_FD\n",
      "B_above\n",
      "B_below\n",
      "ps\n",
      "S0\n",
      "SHF\n",
      "LHF\n",
      "LHFns\n"
     ]
    }
   ],
   "source": [
    "for k in x_train.keys():\n",
    "    print(k)\n",
    "    PDF[k],EDG[k] = np.histogram(x_train[k].flatten(),bins=250,density=True)\n",
    "    CDF[k] = cumtrapz(x=edg2bin(EDG[k]),y=PDF[k],initial=0)"
   ]
  },
  {
   "cell_type": "markdown",
   "metadata": {},
   "source": [
    "Save the CDFs to fit them in an independent notebook"
   ]
  },
  {
   "cell_type": "code",
   "execution_count": 36,
   "metadata": {},
   "outputs": [],
   "source": [
    "save_name = path_data+'2022_07_18_PDF_CDF_TRAIN_BOTH_M4K_P4K'"
   ]
  },
  {
   "cell_type": "code",
   "execution_count": 28,
   "metadata": {},
   "outputs": [],
   "source": [
    "pickle.dump({\"PDF\":PDF,\"CDF\":CDF,\"EDG\":EDG}, open(save_name,'wb'))"
   ]
  },
  {
   "cell_type": "code",
   "execution_count": 64,
   "metadata": {},
   "outputs": [
    {
     "data": {
      "text/plain": [
       "[<matplotlib.lines.Line2D at 0x7f9be698d320>]"
      ]
     },
     "execution_count": 64,
     "metadata": {},
     "output_type": "execute_result"
    },
    {
     "data": {
      "image/png": "[encoded data removed]",
      "text/plain": [
       "<Figure size 432x288 with 1 Axes>"
      ]
     },
     "metadata": {
      "needs_background": "light"
     },
     "output_type": "display_data"
    }
   ],
   "source": [
    "plt.plot(edg2bin(EDG['T']),CDF['T_above'])"
   ]
  },
  {
   "cell_type": "code",
   "execution_count": 58,
   "metadata": {},
   "outputs": [
    {
     "data": {
      "text/plain": [
       "(250,)"
      ]
     },
     "execution_count": 58,
     "metadata": {},
     "output_type": "execute_result"
    }
   ],
   "source": [
    "cumtrapz(x=edg2bin(EDG['T']),y=PDF['T'],initial=0).shape"
   ]
  },
  {
   "cell_type": "code",
   "execution_count": 40,
   "metadata": {},
   "outputs": [],
   "source": [
    "def cdf_q(x):\n",
    "    \n",
    "    from scipy.special import erf\n",
    "    \n",
    "    def acosh_abs(x):\n",
    "        return np.arccosh(np.abs(x)+1e-8+1)\n",
    "    \n",
    "    return erf(np.arctan(np.tanh(acosh_abs(x) * 8.828)))"
   ]
  },
  {
   "cell_type": "code",
   "execution_count": 52,
   "metadata": {},
   "outputs": [],
   "source": [
    "def cdf_dqdt(x):\n",
    "    \n",
    "    def relu(x):\n",
    "        return x*(x>0)\n",
    "    \n",
    "    return (relu(x -2*6.0664007e-9) / np.maximum(x,1e-10))"
   ]
  },
  {
   "cell_type": "code",
   "execution_count": 53,
   "metadata": {},
   "outputs": [],
   "source": [
    "test = cdf_q(x_train['q'])"
   ]
  },
  {
   "cell_type": "code",
   "execution_count": 54,
   "metadata": {},
   "outputs": [],
   "source": [
    "test2 = cdf_dqdt(x_train['dq_dp_FD'])"
   ]
  },
  {
   "cell_type": "markdown",
   "metadata": {},
   "source": [
    "## Include the CDF transform as optional variables when sub-sampling"
   ]
  },
  {
   "cell_type": "code",
   "execution_count": 18,
   "metadata": {},
   "outputs": [],
   "source": [
    "def CDF_keys(x0,key):\n",
    "    \n",
    "    from scipy.special import erfc\n",
    "    from scipy.special import gamma\n",
    "    from scipy.special import erf\n",
    "    \n",
    "    def relu(x):\n",
    "        return x*(x>0)\n",
    "\n",
    "    def log10_abs(x):\n",
    "        return np.log10(np.abs(x)+1e-8)\n",
    "\n",
    "    def cos(x):\n",
    "        return np.cos(x)\n",
    "\n",
    "    def acosh_abs(x):\n",
    "        return np.arccosh(np.abs(x)+1e-8+1)\n",
    "\n",
    "    def asinh(x):\n",
    "        return np.arcsinh(x)\n",
    "\n",
    "    def cube(x):\n",
    "        return x**3\n",
    "\n",
    "    def square(x):\n",
    "        return x**2\n",
    "\n",
    "    def tanh(x):\n",
    "        return np.tanh(x)\n",
    "\n",
    "    def tan(x):\n",
    "        return np.tan(x)\n",
    "\n",
    "    def sin(x):\n",
    "        return np.sin(x)\n",
    "\n",
    "    def sinh(x):\n",
    "        return np.sinh(x)\n",
    "\n",
    "    def exp(x):\n",
    "        return np.exp(x)\n",
    "\n",
    "    def atan(x):\n",
    "        return np.arctan(x)\n",
    "    \n",
    "    if key=='p': cdf = atan((x0 * 1e-5) + 0.15) # Retained third candidate\n",
    "    elif key=='q': cdf = erf(atan(tanh(acosh_abs(x0) * 8.828))) # Retained last candidate\n",
    "    elif key=='T': cdf = ((sinh(log10_abs(x0))-4.6766) * 0.813) # Retained last candidate that didn't ReLU neg T\n",
    "    elif key=='RH': cdf = cos((x0*0.7456)-1.45) # Keeps monotonically increasing property of CDF\n",
    "    elif key=='B': cdf = (atan(exp(x0 / acosh_abs(x0)))-0.0214) # Has the best CDF properties\n",
    "    elif key=='S0': cdf = erf(x0* 0.000438 + 0.212) # Pretty \"easy\" CDF\n",
    "    elif key=='ps': cdf = erf(cube(tan(x0 * 1e-4))) # Has better monotonicity properties, but not valid at high ps\n",
    "    elif key=='SHF': cdf = relu(tanh((x0 + 1.965) * 0.05))\n",
    "    elif key=='LHF': cdf = tanh(relu((x0 + 13.2) * 0.0096))\n",
    "    elif key=='LHFns': cdf = square(erfc(erfc(asinh((x0 / 0.011873) + 0.023746))))\n",
    "        \n",
    "    return np.maximum(0,np.minimum(1,cdf))"
   ]
  },
  {
   "cell_type": "code",
   "execution_count": 20,
   "metadata": {},
   "outputs": [
    {
     "name": "stdout",
     "output_type": "stream",
     "text": [
      "ERROR! Session/line number was not unique in database. History logging moved to new session 943\n"
     ]
    }
   ],
   "source": [
    "Model_Types = ['localBF_CDF','BF_CDF','localBF','localCI_CDF','CI_CDF','localCI']\n",
    "N_subsample = 5\n",
    "N_degree = 3\n",
    "Nsample = 3000\n",
    "\n",
    "KEYS = {}\n",
    "KEYS['local'] = ['ps', 'S0', 'SHF', 'LHF','LHFns','p', 'q', 'dq_dp_FD',\n",
    "              'd2q_dp2_FD','T', 'dT_dp_FD','d2T_dp2_FD','RH', 'dRH_dp_FD',\n",
    "              'd2RH_dp2_FD','B', 'dB_dp_FD','d2B_dp2_FD']\n",
    "KEYS['localCI'] = ['ps', 'S0', 'SHF','LHFns','p','RH', 'dRH_dp_FD',\n",
    "              'd2RH_dp2_FD','B', 'dB_dp_FD','d2B_dp2_FD']\n",
    "KEYS['localBF'] = ['ps', 'S0', 'SHF', 'LHF', 'p', 'q', 'dq_dp_FD',\n",
    "              'd2q_dp2_FD','T', 'dT_dp_FD','d2T_dp2_FD']\n",
    "KEYS['all'] = np.concatenate((KEYS['local'],['Q_above','Q_below','T_below','T_above',\n",
    "                                             'RH_below','RH_above','B_below','B_above']))\n",
    "KEYS['BF'] = np.concatenate((KEYS['localBF'],['Q_above','Q_below','T_below','T_above']))\n",
    "KEYS['CI'] = np.concatenate((KEYS['localCI'],['RH_below','RH_above','B_below','B_above']))\n",
    "scalar_keys = ['ps','S0','SHF','LHF','LHFns']\n",
    "vector_keys = ['p', 'q', 'dq_dp_FD', 'd2q_dp2_FD', 'Q_above', 'Q_below',\n",
    "               'T', 'dT_dp_FD', 'd2T_dp2_FD', 'T_above', 'T_below',\n",
    "               'RH', 'dRH_dp_FD', 'd2RH_dp2_FD', 'RH_above', 'RH_below',\n",
    "               'B', 'dB_dp_FD', 'd2B_dp2_FD', 'B_above', 'B_below']\n",
    "combin_keys = np.concatenate((scalar_keys,vector_keys))\n",
    "KEYS['CDF_vector'] = ['p','q','T','RH','B']\n",
    "KEYS['CDF_scalar'] = ['S0','ps','SHF','LHF','LHFns']\n",
    "KEYS['CDF'] = np.concatenate((KEYS['CDF_vector'],KEYS['CDF_scalar']))\n",
    "for k in KEYS['CDF_scalar']:\n",
    "    scalar_keys = np.concatenate((scalar_keys,['CDF_'+k]))\n",
    "for k in KEYS['CDF_vector']:\n",
    "    vector_keys = np.concatenate((vector_keys,['CDF_'+k,'dCDF_'+k+'dp_FD','d2CDF_'+k+'dp2_FD']))\n",
    "combin_keys = np.concatenate((scalar_keys,vector_keys))\n",
    "KEYS['BF_CDF'] = ['CDF_S0', 'CDF_ps', 'CDF_SHF', 'CDF_LHF','CDF_p','CDF_q', 'dCDF_qdp_FD',\n",
    "                  'd2CDF_qdp2_FD', 'CDF_T', 'dCDF_Tdp_FD','d2CDF_Tdp2_FD']\n",
    "KEYS['localBF_CDF'] = np.concatenate((KEYS['localBF'],KEYS['BF_CDF']))\n",
    "KEYS['CI_CDF'] = ['CDF_S0', 'CDF_ps', 'CDF_SHF', 'CDF_LHFns',\n",
    "                  'CDF_p','CDF_RH','dCDF_RHdp_FD', 'd2CDF_RHdp2_FD',\n",
    "                  'CDF_B', 'dCDF_Bdp_FD','d2CDF_Bdp2_FD']\n",
    "KEYS['localCI_CDF'] = np.concatenate((KEYS['localCI'],KEYS['CI_CDF']))\n",
    "\n",
    "min_features = [1,1,1,1,1]\n",
    "max_features = [11,6,6,6,6]\n",
    "cv = [2,2,2,2,2]\n",
    "\n",
    "dict_Q = {}; dict_T = {};"
   ]
  },
  {
   "cell_type": "code",
   "execution_count": null,
   "metadata": {},
   "outputs": [
    {
     "name": "stdout",
     "output_type": "stream",
     "text": [
      "i_subsample=0/4\n",
      "model_type=localBF_CDF\n",
      "degree=1\n",
      "{'dq_dp_FD': 62.70540806365538, 'LR_Bias': -32.28651384247705, 'mse_train': 910.8642675678242} \n",
      "\n",
      "{'q': -35.49962400295235, 'dq_dp_FD': 138.09656032690162, 'LR_Bias': -69.06434340428152, 'mse_train': 903.8087752003704} \n",
      "\n",
      "{'LHF': 19.229237400145365, 'q': -38.384183022362485, 'dq_dp_FD': 134.64106365645256, 'LR_Bias': -70.54116281985986, 'mse_train': 899.0961239322833} \n",
      "\n",
      "{'LHF': 17.869857428046547, 'q': -29.533347895587234, 'dq_dp_FD': 147.96470152396404, 'CDF_q': -5.280050039038847, 'LR_Bias': -76.09488022392199, 'mse_train': 898.0851253674753} \n",
      "\n",
      "{'LHF': 21.950095272150225, 'p': 28.2909261231648, 'q': -11.599923298509369, 'dq_dp_FD': 165.29103841805443, 'CDF_q': -39.05276048258571, 'LR_Bias': -88.08101619084132, 'mse_train': 889.8381159839671} \n",
      "\n",
      "{'LHF': 24.88354281249027, 'p': 129.5555225179403, 'q': -21.531463256895524, 'dq_dp_FD': 178.1286225384371, 'CDF_p': -91.51196294418966, 'CDF_q': -45.96514873009543, 'LR_Bias': -91.9528365575458, 'mse_train': 882.6139401851877} \n",
      "\n",
      "{'LHF': 31.533886071930564, 'p': 136.40369435311567, 'q': -22.786997615154025, 'dq_dp_FD': 176.93691491981954, 'CDF_SHF': -4.96065860546182, 'CDF_p': -95.79860128231464, 'CDF_q': -48.224957540472666, 'LR_Bias': -90.12934232007797, 'mse_train': 881.2590405408243} \n",
      "\n",
      "{'LHF': 32.47287454607896, 'p': 139.90453266348973, 'q': -21.525925651118946, 'dq_dp_FD': 178.37780063821242, 'CDF_SHF': -5.224764428859085, 'CDF_p': -96.58535189938486, 'CDF_q': -51.464178922986015, 'd2CDF_qdp2_FD': -21.838767306434477, 'LR_Bias': -77.24012469778282, 'mse_train': 880.398792798866} \n",
      "\n",
      "{'LHF': 31.997146032837158, 'p': 139.83125221539794, 'q': -21.667256454226298, 'dq_dp_FD': 177.65453480004098, 'T': 8.23121590334781, 'CDF_SHF': -4.898788751289993, 'CDF_p': -97.53470954333967, 'CDF_q': -54.919845062527415, 'd2CDF_qdp2_FD': -21.5401793216939, 'LR_Bias': -80.0278202551612, 'mse_train': 879.9671222806329} \n",
      "\n",
      "{'LHF': 29.975425033622447, 'p': 132.5519456146796, 'q': -28.49739553612098, 'dq_dp_FD': 174.80918423379035, 'T': 187.8144473547348, 'CDF_SHF': -4.616981412560757, 'CDF_p': -91.36686849530994, 'CDF_q': -57.05811116355017, 'd2CDF_qdp2_FD': -22.541028472809167, 'CDF_T': -144.195724441059, 'LR_Bias': -98.33221303857738, 'mse_train': 879.2456878796525} \n",
      "\n",
      "{'S0': 8.562160192341073, 'LR_Bias': -2.500152340465736, 'mse_train': 448.053870389261} \n",
      "\n",
      "{'S0': 8.261418396626343, 'q': 14.330396554029956, 'LR_Bias': -3.287264297208204, 'mse_train': 445.18075948062} \n",
      "\n",
      "{'S0': 8.25522518570894, 'q': 14.558122852945164, 'dCDF_qdp_FD': -23.68968228300015, 'LR_Bias': 3.8610103737498545, 'mse_train': 442.5242235592472} \n",
      "\n",
      "{'S0': 8.384139629243581, 'q': -6.479542348000954, 'CDF_q': 9.05355294718901, 'dCDF_qdp_FD': -39.67236514711159, 'LR_Bias': 7.162834313998118, 'mse_train': 440.31813917872773} \n",
      "\n",
      "{'S0': 7.717899901911407, 'p': -30.023873033052343, 'q': -26.089893683411866, 'CDF_q': 42.54732880593423, 'dCDF_qdp_FD': -30.606563747386172, 'LR_Bias': 7.787856693925454, 'mse_train': 430.81654148557135} \n",
      "\n",
      "{'S0': 8.790329104652912, 'p': -27.370185177948915, 'q': -24.588894385476724, 'T': -24.315616203951922, 'CDF_q': 52.90928801925224, 'dCDF_qdp_FD': -28.29775779448256, 'LR_Bias': 15.567875870838249, 'mse_train': 427.103244417782} \n",
      "\n",
      "{'S0': 8.794686167038057, 'p': -27.070153247157336, 'q': -8.546508895964951, 'T': -385.9431590783567, 'CDF_q': 59.01740636296567, 'dCDF_qdp_FD': -29.76310196240148, 'CDF_T': 290.4564483582938, 'LR_Bias': 56.987120533175876, 'mse_train': 423.90660227954953} \n",
      "\n",
      "{'S0': 8.7182043427937, 'p': -30.911245662609016, 'q': 4.908476255591595, 'dq_dp_FD': -63.270470494671905, 'T': -354.9575118255839, 'CDF_q': 62.875954506877136, 'dCDF_qdp_FD': -15.499545514775795, 'CDF_T': 265.67925307494465, 'LR_Bias': 81.10654697931778, 'mse_train': 421.94105331515453} \n",
      "\n",
      "{'S0': 9.39813050322373, 'p': -31.891154119129922, 'q': 4.95265670035984, 'dq_dp_FD': -63.05471233461988, 'T': -367.48140208642985, 'CDF_SHF': 4.996880830759678, 'CDF_q': 63.61836414648745, 'dCDF_qdp_FD': -15.710127474225969, 'CDF_T': 276.7197582444893, 'LR_Bias': 79.6022458829748, 'mse_train': 420.0901518942979} \n",
      "\n",
      "{'S0': 9.98737429028806, 'p': -38.04403475841276, 'q': 10.2753458751096, 'dq_dp_FD': -66.53365858465823, 'T': -281.0324511408264, 'CDF_SHF': 9.78686507671528, 'CDF_LHF': -8.573183589672343, 'CDF_q': 65.68497756152584, 'dCDF_qdp_FD': -6.428358277329888, 'CDF_T': 207.66284595172067, 'LR_Bias': 71.25461162219949, 'mse_train': 417.08074609079557} \n",
      "\n",
      "degree=2\n",
      "{'LHF p': 35.672473000253724, 'LR_Bias': -2.5280470555535155, 'mse_train': 908.3041731114832} \n",
      "\n",
      "{'SHF CDF_q': -75.56840182343936, 'LHF p': 97.71791742180338, 'LR_Bias': -1.7613391245528003, 'mse_train': 897.2656222287588} \n",
      "\n",
      "{'SHF CDF_q': -91.7138337481206, 'LHF p': 89.33844989837834, 'dq_dp_FD^2': 61.32532664216676, 'LR_Bias': -16.465197716580583, 'mse_train': 891.9385534906984} \n",
      "\n",
      "{'SHF CDF_q': -80.3304676796886, 'LHF p': 101.99407393274429, 'q dq_dp_FD': -83.1904433515514, 'dq_dp_FD^2': 132.28471573559668, 'LR_Bias': -34.310271950526925, 'mse_train': 881.5712608324385} \n",
      "\n",
      "{'SHF CDF_q': -107.23124943301431, 'LHF p': 100.52646519871618, 'p q': 329.6672104777383, 'q dq_dp_FD': -615.5816998313663, 'dq_dp_FD^2': 265.9457770546083, 'LR_Bias': -66.6937873196391, 'mse_train': 868.7957363980654} \n",
      "\n",
      "{'S0 CDF_q': 18.19476207358844, 'LR_Bias': -1.8492389166396732, 'mse_train': 445.0504827666455} \n",
      "\n",
      "{'S0 CDF_q': 20.110185917677217, 'dCDF_qdp_FD^2': -45.86957885559402, 'LR_Bias': 2.4157605346094795, 'mse_train': 439.89084546868105} \n",
      "\n",
      "{'S0 p': -39.00327178954755, 'S0 CDF_q': 59.91376272690585, 'dCDF_qdp_FD^2': -41.98878362007839, 'LR_Bias': 2.8113285846782006, 'mse_train': 436.2162493108411} \n",
      "\n",
      "{'S0 p': -314.82529990435296, 'S0 CDF_p': 230.6767856817101, 'S0 CDF_q': 92.9802445028982, 'dCDF_qdp_FD^2': -51.30412373693052, 'LR_Bias': 2.887696289050373, 'mse_train': 426.2687069017073} \n",
      "\n",
      "{'S0 p': -343.29769227625087, 'S0 CDF_p': 261.4420508870035, 'S0 CDF_q': 84.46393045731885, 'CDF_SHF CDF_q': 11.56358436648977, 'dCDF_qdp_FD^2': -64.67347841552794, 'LR_Bias': 2.512400189843822, 'mse_train': 421.7492556536408} \n",
      "\n",
      "degree=3\n",
      "{'LHF p dCDF_qdp_FD': 136.20272403302252, 'LR_Bias': -3.1769275232039886, 'mse_train': 901.9728893966944} \n",
      "\n",
      "{'SHF dT_dp_FD CDF_q': -110.80566343054444, 'LHF p dCDF_qdp_FD': 329.82790059388674, 'LR_Bias': -2.008564046546428, 'mse_train': 885.5528191154232} \n",
      "\n",
      "{'SHF dT_dp_FD CDF_q': -671.5247506488156, 'SHF CDF_p CDF_q': 432.39681621986176, 'LHF p dCDF_qdp_FD': 397.1732105825151, 'LR_Bias': 0.44567838556471995, 'mse_train': 863.3272215147014} \n",
      "\n",
      "{'SHF dT_dp_FD CDF_q': -724.4333568442556, 'SHF CDF_p CDF_q': 503.6941479215484, 'LHF p dCDF_qdp_FD': 420.3280405982615, 'q CDF_SHF d2CDF_qdp2_FD': -89.13070582864636, 'LR_Bias': 0.10375203960928411, 'mse_train': 858.1509511790449} \n",
      "\n"
     ]
    }
   ],
   "source": [
    "## Second attempt, this time using both the cold and the warm parts of the dataset\n",
    "\n",
    "for i_subsample in range(N_subsample):\n",
    "    print('i_subsample='+str(i_subsample)+'/'+str(N_subsample-1))\n",
    "    dict_Q[i_subsample] = {}; dict_T[i_subsample] = {};\n",
    "    \n",
    "    # Pre-process & sub-sample the data\n",
    "    i_random = np.random.choice(np.linspace(0,xt[clim].shape[0]-1,xt[clim].shape[0]),\n",
    "                                size=((Nsample,)),replace=False).astype('int')\n",
    "    dict_Q[i_subsample]['Selected_indices'] = i_random;\n",
    "    dict_T[i_subsample]['Selected_indices'] = i_random;\n",
    "    \n",
    "    x_train,x_test,y_train,y_test = subsampler(i_random,x,y,xRH,xB,xLHFns,hyam,hybm,variables=KEYS['all'])\n",
    "    for k in KEYS['CDF']:\n",
    "        x_train['CDF_'+k] = CDF_keys(x_train[k],k)\n",
    "        if k in KEYS['CDF_vector']:\n",
    "            x_train['dCDF_'+k+'dp_FD'] = p_derivative(x_train['CDF_'+k],x_train['p'])\n",
    "            x_train['d2CDF_'+k+'dp2_FD'] = p_derivative(x_train['dCDF_'+k+'dp_FD'],x_train['p'])\n",
    "    x_train_range,x_test_range,Norm = range_normalizer(x_train,scalar_keys,vector_keys)\n",
    "    \n",
    "    for model_type in (Model_Types):\n",
    "        print('model_type='+model_type)\n",
    "        dict_Q[i_subsample][model_type] = {}; dict_T[i_subsample][model_type] = {};\n",
    "        \n",
    "        # Transform dictionary into array for regression purposes\n",
    "        X_train,X_test,dQdt_train,dQdt_test,dTdt_train,dTdt_test = \\\n",
    "        dic_to_array(KEYS[model_type],x_train_range,y_train,scale_dict)\n",
    "    \n",
    "        for degree in np.arange(1,N_degree+1):\n",
    "            print('degree='+str(degree))\n",
    "            dic_to_save = {}; ideg = degree-1;\n",
    "            \n",
    "            # Polynomial features\n",
    "            poly = PolynomialFeatures(degree=degree)\n",
    "            X_train_poly = poly.fit_transform(X_train)    \n",
    "            features = poly.get_feature_names(np.array(KEYS[model_type])) # Update the feature names\n",
    "                \n",
    "            # Linear regression on polynomial features - dQ/dt & dT/dt\n",
    "            dict_Q[i_subsample][model_type][degree] = \\\n",
    "            SFS_poly(features,X_train_poly,dQdt_train,\n",
    "                     min_features[ideg],max_features[ideg],cv[ideg])\n",
    "            \n",
    "            dict_T[i_subsample][model_type][degree] = \\\n",
    "            SFS_poly(features,X_train_poly,dTdt_train,\n",
    "                     min_features[ideg],max_features[ideg],cv[ideg])\n",
    "            \n",
    "        # Write dict_combined to pkl file\n",
    "        save_path = path_data+'Polynomial_Fits/2022_07_19_dicCDF_'+model_type+'_isample_'+str(i_subsample+1)+'.pkl'\n",
    "        pickle.dump({\n",
    "          \"Qfits\": dict_Q[i_subsample][model_type],\n",
    "          \"Tfits\": dict_T[i_subsample][model_type],\n",
    "          'Selected_indices': i_random}, open(save_path,'wb'))\n"
   ]
  }
 ],
 "metadata": {
  "kernelspec": {
   "display_name": "Python 3",
   "language": "python",
   "name": "python3"
  },
  "language_info": {
   "codemirror_mode": {
    "name": "ipython",
    "version": 3
   },
   "file_extension": ".py",
   "mimetype": "text/x-python",
   "name": "python",
   "nbconvert_exporter": "python",
   "pygments_lexer": "ipython3",
   "version": "3.6.10"
  },
  "toc": {
   "base_numbering": 1,
   "nav_menu": {},
   "number_sections": true,
   "sideBar": true,
   "skip_h1_title": false,
   "title_cell": "Table of Contents",
   "title_sidebar": "Contents",
   "toc_cell": false,
   "toc_position": {
    "height": "calc(100% - 180px)",
    "left": "10px",
    "top": "150px",
    "width": "384px"
   },
   "toc_section_display": true,
   "toc_window_display": true
  }
 },
 "nbformat": 4,
 "nbformat_minor": 4
}
