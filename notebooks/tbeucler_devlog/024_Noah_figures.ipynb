{
 "cells": [
  {
   "cell_type": "markdown",
   "metadata": {},
   "source": [
    "tgb - 9/23/2019 - The goal of this notebook is to reproduce the target figures for Noah's interpretable ML paper"
   ]
  },
  {
   "cell_type": "code",
   "execution_count": 1,
   "metadata": {},
   "outputs": [
    {
     "name": "stderr",
     "output_type": "stream",
     "text": [
      "/home/t/Tom.Beucler/miniconda3/lib/python3.7/site-packages/tensorflow/python/framework/dtypes.py:516: FutureWarning: Passing (type, 1) or '1type' as a synonym of type is deprecated; in a future version of numpy, it will be understood as (type, (1,)) / '(1,)type'.\n",
      "  _np_qint8 = np.dtype([(\"qint8\", np.int8, 1)])\n",
      "/home/t/Tom.Beucler/miniconda3/lib/python3.7/site-packages/tensorflow/python/framework/dtypes.py:517: FutureWarning: Passing (type, 1) or '1type' as a synonym of type is deprecated; in a future version of numpy, it will be understood as (type, (1,)) / '(1,)type'.\n",
      "  _np_quint8 = np.dtype([(\"quint8\", np.uint8, 1)])\n",
      "/home/t/Tom.Beucler/miniconda3/lib/python3.7/site-packages/tensorflow/python/framework/dtypes.py:518: FutureWarning: Passing (type, 1) or '1type' as a synonym of type is deprecated; in a future version of numpy, it will be understood as (type, (1,)) / '(1,)type'.\n",
      "  _np_qint16 = np.dtype([(\"qint16\", np.int16, 1)])\n",
      "/home/t/Tom.Beucler/miniconda3/lib/python3.7/site-packages/tensorflow/python/framework/dtypes.py:519: FutureWarning: Passing (type, 1) or '1type' as a synonym of type is deprecated; in a future version of numpy, it will be understood as (type, (1,)) / '(1,)type'.\n",
      "  _np_quint16 = np.dtype([(\"quint16\", np.uint16, 1)])\n",
      "/home/t/Tom.Beucler/miniconda3/lib/python3.7/site-packages/tensorflow/python/framework/dtypes.py:520: FutureWarning: Passing (type, 1) or '1type' as a synonym of type is deprecated; in a future version of numpy, it will be understood as (type, (1,)) / '(1,)type'.\n",
      "  _np_qint32 = np.dtype([(\"qint32\", np.int32, 1)])\n",
      "/home/t/Tom.Beucler/miniconda3/lib/python3.7/site-packages/tensorflow/python/framework/dtypes.py:525: FutureWarning: Passing (type, 1) or '1type' as a synonym of type is deprecated; in a future version of numpy, it will be understood as (type, (1,)) / '(1,)type'.\n",
      "  np_resource = np.dtype([(\"resource\", np.ubyte, 1)])\n",
      "/home/t/Tom.Beucler/miniconda3/lib/python3.7/site-packages/tensorboard/compat/tensorflow_stub/dtypes.py:541: FutureWarning: Passing (type, 1) or '1type' as a synonym of type is deprecated; in a future version of numpy, it will be understood as (type, (1,)) / '(1,)type'.\n",
      "  _np_qint8 = np.dtype([(\"qint8\", np.int8, 1)])\n",
      "/home/t/Tom.Beucler/miniconda3/lib/python3.7/site-packages/tensorboard/compat/tensorflow_stub/dtypes.py:542: FutureWarning: Passing (type, 1) or '1type' as a synonym of type is deprecated; in a future version of numpy, it will be understood as (type, (1,)) / '(1,)type'.\n",
      "  _np_quint8 = np.dtype([(\"quint8\", np.uint8, 1)])\n",
      "/home/t/Tom.Beucler/miniconda3/lib/python3.7/site-packages/tensorboard/compat/tensorflow_stub/dtypes.py:543: FutureWarning: Passing (type, 1) or '1type' as a synonym of type is deprecated; in a future version of numpy, it will be understood as (type, (1,)) / '(1,)type'.\n",
      "  _np_qint16 = np.dtype([(\"qint16\", np.int16, 1)])\n",
      "/home/t/Tom.Beucler/miniconda3/lib/python3.7/site-packages/tensorboard/compat/tensorflow_stub/dtypes.py:544: FutureWarning: Passing (type, 1) or '1type' as a synonym of type is deprecated; in a future version of numpy, it will be understood as (type, (1,)) / '(1,)type'.\n",
      "  _np_quint16 = np.dtype([(\"quint16\", np.uint16, 1)])\n",
      "/home/t/Tom.Beucler/miniconda3/lib/python3.7/site-packages/tensorboard/compat/tensorflow_stub/dtypes.py:545: FutureWarning: Passing (type, 1) or '1type' as a synonym of type is deprecated; in a future version of numpy, it will be understood as (type, (1,)) / '(1,)type'.\n",
      "  _np_qint32 = np.dtype([(\"qint32\", np.int32, 1)])\n",
      "/home/t/Tom.Beucler/miniconda3/lib/python3.7/site-packages/tensorboard/compat/tensorflow_stub/dtypes.py:550: FutureWarning: Passing (type, 1) or '1type' as a synonym of type is deprecated; in a future version of numpy, it will be understood as (type, (1,)) / '(1,)type'.\n",
      "  np_resource = np.dtype([(\"resource\", np.ubyte, 1)])\n",
      "WARNING: Logging before flag parsing goes to stderr.\n",
      "W0924 18:18:12.494119 22475568305984 deprecation_wrapper.py:119] From /home/t/Tom.Beucler/SPCAM/CBRAIN-CAM/notebooks/tbeucler_devlog/cbrain/models.py:16: The name tf.keras.layers.CuDNNGRU is deprecated. Please use tf.compat.v1.keras.layers.CuDNNGRU instead.\n",
      "\n",
      "W0924 18:18:12.494783 22475568305984 deprecation_wrapper.py:119] From /home/t/Tom.Beucler/SPCAM/CBRAIN-CAM/notebooks/tbeucler_devlog/cbrain/models.py:16: The name tf.keras.layers.CuDNNLSTM is deprecated. Please use tf.compat.v1.keras.layers.CuDNNLSTM instead.\n",
      "\n",
      "W0924 18:18:12.510718 22475568305984 deprecation_wrapper.py:119] From /home/t/Tom.Beucler/SPCAM/CBRAIN-CAM/notebooks/tbeucler_devlog/cbrain/utils.py:145: The name tf.ConfigProto is deprecated. Please use tf.compat.v1.ConfigProto instead.\n",
      "\n",
      "W0924 18:18:12.511299 22475568305984 deprecation_wrapper.py:119] From /home/t/Tom.Beucler/SPCAM/CBRAIN-CAM/notebooks/tbeucler_devlog/cbrain/utils.py:148: The name tf.keras.backend.set_session is deprecated. Please use tf.compat.v1.keras.backend.set_session instead.\n",
      "\n",
      "W0924 18:18:12.511761 22475568305984 deprecation_wrapper.py:119] From /home/t/Tom.Beucler/SPCAM/CBRAIN-CAM/notebooks/tbeucler_devlog/cbrain/utils.py:148: The name tf.Session is deprecated. Please use tf.compat.v1.Session instead.\n",
      "\n"
     ]
    },
    {
     "name": "stdout",
     "output_type": "stream",
     "text": [
      "/home/t/Tom.Beucler/SPCAM/CBRAIN-CAM/notebooks/tbeucler_devlog\n",
      "/filer/z-sv-pool12c/t/Tom.Beucler/SPCAM/CBRAIN-CAM\n"
     ]
    }
   ],
   "source": [
    "from cbrain.imports import *\n",
    "from cbrain.data_generator import *\n",
    "from cbrain.cam_constants import *\n",
    "from cbrain.losses import *\n",
    "from cbrain.utils import limit_mem\n",
    "from cbrain.layers import *\n",
    "import tensorflow as tf\n",
    "import tensorflow.math as tfm\n",
    "from tensorflow.keras.layers import *\n",
    "from tensorflow.keras.models import *\n",
    "import xarray as xr\n",
    "import numpy as np\n",
    "from cbrain.model_diagnostics import ModelDiagnostics\n",
    "import matplotlib as mpl\n",
    "import matplotlib.pyplot as plt\n",
    "import matplotlib.image as imag\n",
    "import math\n",
    "\n",
    "# Otherwise tensorflow will use ALL your GPU RAM for no reason\n",
    "limit_mem()\n",
    "\n",
    "TRAINDIR = '/local/Tom.Beucler/SPCAM_PHYS/'\n",
    "DATADIR = '/project/meteo/w2w/A6/S.Rasp/SP-CAM/fluxbypass_aqua/'\n",
    "PREFIX = '8col009_01_'\n",
    "%cd /filer/z-sv-pool12c/t/Tom.Beucler/SPCAM/CBRAIN-CAM"
   ]
  },
  {
   "cell_type": "code",
   "execution_count": 2,
   "metadata": {},
   "outputs": [],
   "source": [
    "coor = xr.open_dataset(\"/project/meteo/w2w/A6/S.Rasp/SP-CAM/fluxbypass_aqua/AndKua_aqua_SPCAM3.0_sp_fbp_f4.cam2.h1.0000-01-01-00000.nc\",\\\n",
    "                    decode_times=False)\n",
    "lat = coor.lat; lon = coor.lon;\n",
    "coor.close();"
   ]
  },
  {
   "cell_type": "markdown",
   "metadata": {},
   "source": [
    "# 1) Figure 2"
   ]
  },
  {
   "cell_type": "markdown",
   "metadata": {},
   "source": [
    "tgb - 9/23/2019 - This figures bins all variables used for training as a function of two convection proxys:  \n",
    "Lower-tropospheric stability:  \n",
    "$$\n",
    "\\mathrm{LTS}=\\theta\\left(700\\mathrm{hPa}\\right)-\\mathrm{SST}\n",
    "$$  \n",
    "Mid-tropospheric moisture:  \n",
    "$$\n",
    "Q_{m}=\\int_{600\\mathrm{hPa}}^{850\\mathrm{hPa}}\\frac{dp}{g}q_{v}\n",
    "$$\n",
    "\n"
   ]
  },
  {
   "cell_type": "markdown",
   "metadata": {},
   "source": [
    "## 1.1) Define models"
   ]
  },
  {
   "cell_type": "code",
   "execution_count": 3,
   "metadata": {},
   "outputs": [],
   "source": [
    "# Config and data files\n",
    "config_fn = '/filer/z-sv-pool12c/t/Tom.Beucler/SPCAM/CBRAIN-CAM/pp_config/8col_rad_tbeucler_local_PostProc.yml'\n",
    "data_fn_a = ['/local/Tom.Beucler/SPCAM_PHYS/8col009_01_valid.nc']\n",
    "data_ref = ['']\n",
    "dict_lay = {'SurRadLayer':SurRadLayer,'MassConsLayer':MassConsLayer,'EntConsLayer':EntConsLayer,\\\n",
    "           'weak_loss_0':mse,'weak_loss_1':mse}\n",
    "NNarray = ['JNNL','JNNC','MLRL0','JNNL0.01']"
   ]
  },
  {
   "cell_type": "code",
   "execution_count": 4,
   "metadata": {},
   "outputs": [
    {
     "name": "stderr",
     "output_type": "stream",
     "text": [
      "W0924 18:18:13.499771 22475568305984 deprecation.py:506] From /home/t/Tom.Beucler/miniconda3/lib/python3.7/site-packages/tensorflow/python/ops/init_ops.py:97: calling VarianceScaling.__init__ (from tensorflow.python.ops.init_ops) with dtype is deprecated and will be removed in a future version.\n",
      "Instructions for updating:\n",
      "Call initializer instance with the dtype argument instead of passing it to the constructor\n",
      "W0924 18:18:13.500568 22475568305984 deprecation.py:506] From /home/t/Tom.Beucler/miniconda3/lib/python3.7/site-packages/tensorflow/python/ops/init_ops.py:97: calling Zeros.__init__ (from tensorflow.python.ops.init_ops) with dtype is deprecated and will be removed in a future version.\n",
      "Instructions for updating:\n",
      "Call initializer instance with the dtype argument instead of passing it to the constructor\n"
     ]
    },
    {
     "name": "stdout",
     "output_type": "stream",
     "text": [
      "/scratch-local/Tom.Beucler/SPCAM_PHYS/HDF5_DATA\n",
      "NN name is  JNNL\n"
     ]
    },
    {
     "name": "stderr",
     "output_type": "stream",
     "text": [
      "/home/t/Tom.Beucler/SPCAM/CBRAIN-CAM/notebooks/tbeucler_devlog/cbrain/model_diagnostics.py:25: YAMLLoadWarning: calling yaml.load() without Loader=... is deprecated, as the default Loader is unsafe. Please read https://msg.pyyaml.org/load for full details.\n",
      "  config = yaml.load(f)\n"
     ]
    },
    {
     "name": "stdout",
     "output_type": "stream",
     "text": [
      "NN name is  JNNC\n"
     ]
    },
    {
     "name": "stderr",
     "output_type": "stream",
     "text": [
      "/home/t/Tom.Beucler/SPCAM/CBRAIN-CAM/notebooks/tbeucler_devlog/cbrain/model_diagnostics.py:25: YAMLLoadWarning: calling yaml.load() without Loader=... is deprecated, as the default Loader is unsafe. Please read https://msg.pyyaml.org/load for full details.\n",
      "  config = yaml.load(f)\n",
      "W0924 18:18:17.478055 22475568305984 deprecation.py:506] From /home/t/Tom.Beucler/miniconda3/lib/python3.7/site-packages/tensorflow/python/ops/init_ops.py:97: calling GlorotUniform.__init__ (from tensorflow.python.ops.init_ops) with dtype is deprecated and will be removed in a future version.\n",
      "Instructions for updating:\n",
      "Call initializer instance with the dtype argument instead of passing it to the constructor\n"
     ]
    },
    {
     "name": "stdout",
     "output_type": "stream",
     "text": [
      "NN name is  MLRL0\n"
     ]
    },
    {
     "name": "stderr",
     "output_type": "stream",
     "text": [
      "/home/t/Tom.Beucler/SPCAM/CBRAIN-CAM/notebooks/tbeucler_devlog/cbrain/model_diagnostics.py:25: YAMLLoadWarning: calling yaml.load() without Loader=... is deprecated, as the default Loader is unsafe. Please read https://msg.pyyaml.org/load for full details.\n",
      "  config = yaml.load(f)\n"
     ]
    },
    {
     "name": "stdout",
     "output_type": "stream",
     "text": [
      "NN name is  JNNL0.01\n"
     ]
    },
    {
     "name": "stderr",
     "output_type": "stream",
     "text": [
      "/home/t/Tom.Beucler/SPCAM/CBRAIN-CAM/notebooks/tbeucler_devlog/cbrain/model_diagnostics.py:25: YAMLLoadWarning: calling yaml.load() without Loader=... is deprecated, as the default Loader is unsafe. Please read https://msg.pyyaml.org/load for full details.\n",
      "  config = yaml.load(f)\n"
     ]
    }
   ],
   "source": [
    "index = 0; # Choose dataset from data_fn_a [0 is +0K of length 5172]\n",
    "\n",
    "NN = {}; md = {};\n",
    "%cd $TRAINDIR/HDF5_DATA\n",
    "for i,NNs in enumerate(NNarray):\n",
    "    print('NN name is ',NNs)\n",
    "    path = TRAINDIR+'HDF5_DATA/'+NNs+'.h5'\n",
    "    NN[NNs] = load_model(path,custom_objects=dict_lay)\n",
    "    md[NNs] = ModelDiagnostics(NN[NNs],config_fn,data_fn_a[index])"
   ]
  },
  {
   "cell_type": "markdown",
   "metadata": {},
   "source": [
    "## 1.2) Constants"
   ]
  },
  {
   "cell_type": "code",
   "execution_count": 5,
   "metadata": {},
   "outputs": [],
   "source": [
    "def nearest_index(array, value):\n",
    "    idx = (np.abs(array-value)).argmin()\n",
    "    return idx"
   ]
  },
  {
   "cell_type": "code",
   "execution_count": 113,
   "metadata": {},
   "outputs": [],
   "source": [
    "# User's choice\n",
    "latTROP = [-22.5,22.5]\n",
    "Nt = 500\n",
    "iTROP = np.where((coor.lat>=latTROP[0])*(coor.lat<=latTROP[1]))\n",
    "pTBL = 850\n",
    "pLTS = 700\n",
    "pMT = 600\n",
    "iTBL = nearest_index(coor.lev,pTBL).values\n",
    "iLTS = nearest_index(coor.lev,pLTS).values\n",
    "iMT = nearest_index(coor.lev,pMT).values"
   ]
  },
  {
   "cell_type": "code",
   "execution_count": 114,
   "metadata": {},
   "outputs": [],
   "source": [
    "# Constants and conversion factor\n",
    "kappa = 287.058/1004 # Poisson Constant to define potential temperature\n",
    "p0 = 1015 # Pressure of sea surface (from Noah's paper)\n",
    "P_CONV = 1e3*24*3600 # Conversion from m/s to mm/day\n",
    "theta_p = ((p0/coor.lev)**kappa).values # Vertical factor to calculate potential temperature\n",
    "SST = coor.TS[0,:,0] # Sea surface temperature"
   ]
  },
  {
   "cell_type": "markdown",
   "metadata": {},
   "source": [
    "## 1.3) Accumulate fields"
   ]
  },
  {
   "cell_type": "code",
   "execution_count": 115,
   "metadata": {},
   "outputs": [],
   "source": [
    "NNname = 'JNNL' # Use any network to get inputs and truth\n",
    "\n",
    "# Initialization\n",
    "Qmid = np.zeros((len(iTROP[0]),len(coor.lon),1))\n",
    "LTS = Qmid\n",
    "QVtrop = np.zeros((len(iTROP[0]),len(coor.lon),len(coor.lev),1))\n",
    "PREC_NN = {}; HEAT_NN = {}; dTdt_NN = {}; dqdt_NN = {};\n",
    "for iNN,NNname in enumerate(NNarray):\n",
    "    PREC_NN[NNname] = np.zeros((len(iTROP[0]),len(coor.lon),1))\n",
    "    HEAT_NN[NNname] = PREC_NN[NNname]\n",
    "    dTdt_NN[NNname] = np.zeros((len(iTROP[0]),len(coor.lon),len(coor.lev),1))\n",
    "    dqdt_NN[NNname] = dTdt_NN[NNname]\n",
    "                               \n",
    "PREC_NN['truth'] = PREC_NN[NNname]\n",
    "HEAT_NN['truth'] = HEAT_NN[NNname]\n",
    "dTdt_NN['truth'] = dTdt_NN[NNname]\n",
    "dqdt_NN['truth'] = dqdt_NN[NNname]"
   ]
  },
  {
   "cell_type": "code",
   "execution_count": 116,
   "metadata": {},
   "outputs": [
    {
     "name": "stdout",
     "output_type": "stream",
     "text": [
      "itime= 499 / 499\r"
     ]
    }
   ],
   "source": [
    "for itime in range(Nt):\n",
    "    print('itime=',itime,'/',Nt-1,end=\"\\r\")\n",
    "    m = md[NNname]\n",
    "    if itime==0: dP = m.dP(0)\n",
    "    # Inputs and truth\n",
    "    X, truth = m.valid_gen[itime]\n",
    "    \n",
    "    # Mid-tropospheric moisture\n",
    "    QV = m.valid_gen.input_transform.inverse_transform(X)[:,m.get_input_var_idx('QBP')]\n",
    "    QVgeo = m.reshape_ngeo(QV.values)[iTROP,:,:]\n",
    "    QVtrop = np.concatenate((QVtrop,np.expand_dims(QVgeo[0,:,:,:],axis=3)),axis=3)\n",
    "    QMgeo = m.reshape_ngeo(np.expand_dims(np.sum(dP[:,iMT:(iTBL+0)]*QV[:,iMT:(iTBL+0)]/G,axis=1),axis=1))\n",
    "    Qmid = np.concatenate((Qmid,QMgeo[iTROP,:,:][0,:,:,:]),axis=2)\n",
    "    # Lower-tropospheric stability\n",
    "    T = m.valid_gen.input_transform.inverse_transform(X)[:,m.get_input_var_idx('TBP')]\n",
    "    TLTSgeo = m.reshape_ngeo(T.values*theta_p)[:,:,iLTS]-np.transpose(np.tile(SST,(len(coor.lon),1)))\n",
    "    LTS = np.concatenate((LTS,np.moveaxis(TLTSgeo[iTROP,:],0,2)),axis=2)\n",
    "    \n",
    "    # Precipitation-Evaporation \n",
    "    # From NN prediction\n",
    "    for iNN,NNname in enumerate(NNarray):\n",
    "        m = md[NNname]\n",
    "        pred = m.model.predict_on_batch(X)\n",
    "        PRECIP_NN = np.sum(pred[:,-4:],axis=1)-\\\n",
    "        m.valid_gen.input_transform.inverse_transform(X)[:,m.get_input_var_idx('LHFLX')][:,0].values\n",
    "        PREC_NN[NNname] = np.concatenate((PREC_NN[NNname],\n",
    "                                          m.reshape_ngeo(P_CONV/(L_V*RHO_L)*PRECIP_NN)[iTROP,:,:][0,:,:,:]),axis=2)\n",
    "    # Truth\n",
    "    PRECIP = np.sum(truth[:,-4:].values,axis=1)-\\\n",
    "    m.valid_gen.input_transform.inverse_transform(X)[:,m.get_input_var_idx('LHFLX')][:,0].values\n",
    "    PREC_NN['truth'] = np.concatenate((PREC_NN['truth'],\n",
    "                                       m.reshape_ngeo(P_CONV/(L_V*RHO_L)*PRECIP)[iTROP,:,:][0,:,:,:]),axis=2)\n",
    "    \n",
    "    # Net heating \n",
    "    # From NN prediction\n",
    "    for iNN,NNname in enumerate(NNarray):\n",
    "        m = md[NNname]\n",
    "        pred = m.model.predict_on_batch(X)\n",
    "        HEA_NN = m.reshape_ngeo(np.expand_dims(np.sum(pred[:,90:120],axis=1),axis=1))[iTROP,:,:][0,:,:,:]\n",
    "        HEAT_NN[NNname] = np.concatenate((HEAT_NN[NNname],HEA_NN),axis=2)\n",
    "    # Truth\n",
    "    HEA_NN = m.reshape_ngeo(np.expand_dims(np.sum(truth[:,90:120].values,axis=1),axis=1))[iTROP,:,:][0,:,:,:]\n",
    "    HEAT_NN['truth'] = np.concatenate((HEAT_NN['truth'],HEA_NN),axis=2)\n",
    "    \n",
    "    # Heating profile\n",
    "    # From NN prediction\n",
    "    for iNN,NNname in enumerate(NNarray):\n",
    "        m = md[NNname]\n",
    "        pred = m.model.predict_on_batch(X)\n",
    "        dT_NN = m.reshape_ngeo(pred[:,90:120])[iTROP,:,:]\n",
    "        dTdt_NN[NNname] = np.concatenate((dTdt_NN[NNname],np.moveaxis(dT_NN,0,3)),axis=3)\n",
    "    # Truth\n",
    "    dT_NN = m.reshape_ngeo(truth[:,90:120].values)[iTROP,:,:]\n",
    "    dTdt_NN['truth'] = np.concatenate((dTdt_NN['truth'],np.moveaxis(dT_NN,0,3)),axis=3)\n",
    "    \n",
    "    # Moistening profile\n",
    "    # From NN prediction\n",
    "    for iNN,NNname in enumerate(NNarray):\n",
    "        m = md[NNname]\n",
    "        pred = m.model.predict_on_batch(X)\n",
    "        dq_NN = m.reshape_ngeo(pred[:,:30])[iTROP,:,:]\n",
    "        dqdt_NN[NNname] = np.concatenate((dqdt_NN[NNname],np.moveaxis(dq_NN,0,3)),axis=3)\n",
    "    # Truth\n",
    "    dq_NN = m.reshape_ngeo(truth[:,:30].values)[iTROP,:,:]\n",
    "    dqdt_NN['truth'] = np.concatenate((dqdt_NN['truth'],np.moveaxis(dq_NN,0,3)),axis=3)"
   ]
  },
  {
   "cell_type": "code",
   "execution_count": 117,
   "metadata": {},
   "outputs": [],
   "source": [
    "# Remove initial zero\n",
    "QVtrop = QVtrop[:,:,:,1:]\n",
    "Qmid = Qmid[:,:,1:]\n",
    "LTS = LTS[:,:,1:]\n",
    "for iNN,NNname in enumerate(NNarray):\n",
    "    PREC_NN[NNname] = PREC_NN[NNname][:,:,1:]\n",
    "    HEAT_NN[NNname] = HEAT_NN[NNname][:,:,1:]\n",
    "    dTdt_NN[NNname] = dTdt_NN[NNname][:,:,:,1:]\n",
    "    dqdt_NN[NNname] = dqdt_NN[NNname][:,:,:,1:]\n",
    "PREC_NN['truth'] = PREC_NN['truth'][:,:,1:]\n",
    "HEAT_NN['truth'] = HEAT_NN['truth'][:,:,1:]\n",
    "dTdt_NN['truth'] = dTdt_NN['truth'][:,:,:,1:]\n",
    "dqdt_NN['truth'] = dqdt_NN['truth'][:,:,:,1:]"
   ]
  },
  {
   "cell_type": "markdown",
   "metadata": {},
   "source": [
    "## 1.4) Take conditional expectation"
   ]
  },
  {
   "cell_type": "code",
   "execution_count": 118,
   "metadata": {},
   "outputs": [],
   "source": [
    "# Histogram parameters\n",
    "Nbin = 20\n",
    "LTSmin = 7\n",
    "LTSmax = 23\n",
    "QMmin = 0\n",
    "QMmax = 40"
   ]
  },
  {
   "cell_type": "code",
   "execution_count": 119,
   "metadata": {},
   "outputs": [
    {
     "name": "stdout",
     "output_type": "stream",
     "text": [
      "binLTS= 19 / 19  & edgeLTS= 23.057894736842103\r"
     ]
    }
   ],
   "source": [
    "STR = np.concatenate((NNarray,['truth'])) # String array containing all NNs + 'truth'\n",
    "Whist = np.zeros((Nbin-1,Nbin-1))\n",
    "PREChist = {}; HEAThist = {}; dTdthist = {}; dqdthist = {};\n",
    "for iNN,NNname in enumerate(STR):\n",
    "    PREChist[NNname] = np.zeros((Nbin-1,Nbin-1)) \n",
    "    HEAThist[NNname] = np.zeros((Nbin-1,Nbin-1))\n",
    "    dTdthist[NNname] = np.zeros((Nbin-1,Nbin-1,len(coor.lev)))\n",
    "    dqdthist[NNname] = np.zeros((Nbin-1,Nbin-1,len(coor.lev)))\n",
    "\n",
    "LTSspace = np.linspace(LTSmin,LTSmax,num=Nbin)\n",
    "QMspace = np.linspace(QMmin,QMmax,num=Nbin)\n",
    "\n",
    "for binLTS,edgeLTS in enumerate(LTSspace):\n",
    "    print('binLTS=',binLTS,'/',Nbin-1,' & edgeLTS=',edgeLTS,end=\"\\r\")\n",
    "    if binLTS>0:\n",
    "        for binQM,edgeQM in enumerate(QMspace):\n",
    "            if binQM>0:\n",
    "                w = (LTS>=edgeLTS_left)*(LTS<edgeLTS)*(Qmid>=edgeQM_left)*(Qmid<edgeQM)\n",
    "                Whist[binQM-1,binLTS-1] = np.sum(w)\n",
    "                for iNN,NNname in enumerate(STR):\n",
    "                    if Whist[binQM-1,binLTS-1]==0: \n",
    "                        PREChist[NNname][binQM-1,binLTS-1]=np.nan\n",
    "                        HEAThist[NNname][binQM-1,binLTS-1]=np.nan\n",
    "                        dTdthist[NNname][binQM-1,binLTS-1,:]=np.nan*dTdthist[NNname][binQM-1,binLTS-1,:]\n",
    "                        dqdthist[NNname][binQM-1,binLTS-1,:]=np.nan*dqdthist[NNname][binQM-1,binLTS-1,:]\n",
    "                    else: \n",
    "                        PREChist[NNname][binQM-1,binLTS-1]=np.average(PREC_NN[NNname],weights=w)\n",
    "                        HEAThist[NNname][binQM-1,binLTS-1]=np.average(HEAT_NN[NNname],weights=w)\n",
    "                        dTdthist[NNname][binQM-1,binLTS-1,:]=np.average(dTdt_NN[NNname],\n",
    "                                                                        weights=np.moveaxis(np.tile(w,(30,1,1,1)),0,2))\n",
    "                        dqdthist[NNname][binQM-1,binLTS-1,:]=np.average(dqdt_NN[NNname],\n",
    "                                                                        weights=np.moveaxis(np.tile(w,(30,1,1,1)),0,2))\n",
    "            edgeQM_left = edgeQM\n",
    "    edgeLTS_left = edgeLTS"
   ]
  },
  {
   "cell_type": "code",
   "execution_count": 138,
   "metadata": {},
   "outputs": [
    {
     "data": {
      "image/png": "[encoded data removed]",
      "text/plain": [
       "<Figure size 720x720 with 8 Axes>"
      ]
     },
     "metadata": {
      "needs_background": "light"
     },
     "output_type": "display_data"
    }
   ],
   "source": [
    "X = 0.5*(LTSspace[:-1]+LTSspace[1:])\n",
    "Y = 0.5*(QMspace[:-1]+QMspace[1:])\n",
    "\n",
    "NNname = 'truth'\n",
    "\n",
    "option_array = ['Weights','Precip','Hano','Heating']\n",
    "\n",
    "fig, ax = plt.subplots(2,2,figsize=(10,10))\n",
    "\n",
    "for i,option in enumerate(option_array):\n",
    "    \n",
    "    if option=='Weights': C = Whist; vlim=False; tit='Count'; cmaps = 'viridis'\n",
    "    elif option=='Precip': C = PREChist[NNname]; vlim=True; vmin = -110; vmax = 110; cmaps = 'bwr'; tit='P-E [mm/day]'\n",
    "    elif option=='Heating': C = HEAThist[NNname]; vlim=True; vmin = -3.5e3; vmax = 3.5e3; cmaps = 'bwr'; tit='Net heating [W/m2]'\n",
    "    elif option=='Pano': C = PREChist[NNname]-PREChist['truth']; vlim=True; vmin = -11; vmax = 11; cmaps = 'bwr'; tit='P-E error [mm/day]'\n",
    "    elif option=='Hano': C = HEAThist[NNname]-HEAThist['truth']; vlim=True; vmin = -50; vmax = 50; cmaps = 'bwr'; tit='Heating error [mm/day]'\n",
    "\n",
    "    ax0 = ax[math.floor(i/2),i%2]\n",
    "    if vlim: im = ax0.pcolormesh(X, Y, C, vmin=vmin, vmax=vmax, cmap=cmaps)\n",
    "    else: im = ax0.pcolormesh(X, Y, C, cmap=cmaps)\n",
    "\n",
    "    plt.colorbar(im, ax=ax0)\n",
    "    ax0.set_xlabel('LTS [K]')\n",
    "    ax0.set_ylabel('QM [mm]')\n",
    "    ax0.set_title(tit)\n",
    "    \n",
    "plt.savefig('/home/t/Tom.Beucler/Fig2'+NNname+'.pdf',format='pdf')"
   ]
  },
  {
   "cell_type": "code",
   "execution_count": 133,
   "metadata": {},
   "outputs": [
    {
     "data": {
      "text/plain": [
       "array([nan, nan, nan, nan, nan, nan, nan, nan, nan, nan, nan, nan, nan,\n",
       "       nan, nan, nan, nan, nan, nan])"
      ]
     },
     "execution_count": 133,
     "metadata": {},
     "output_type": "execute_result"
    }
   ],
   "source": [
    "PREChist[NNname][-1,:]"
   ]
  },
  {
   "cell_type": "code",
   "execution_count": null,
   "metadata": {},
   "outputs": [],
   "source": []
  }
 ],
 "metadata": {
  "kernelspec": {
   "display_name": "Python 3",
   "language": "python",
   "name": "python3"
  },
  "language_info": {
   "codemirror_mode": {
    "name": "ipython",
    "version": 3
   },
   "file_extension": ".py",
   "mimetype": "text/x-python",
   "name": "python",
   "nbconvert_exporter": "python",
   "pygments_lexer": "ipython3",
   "version": "3.7.3"
  }
 },
 "nbformat": 4,
 "nbformat_minor": 2
}
