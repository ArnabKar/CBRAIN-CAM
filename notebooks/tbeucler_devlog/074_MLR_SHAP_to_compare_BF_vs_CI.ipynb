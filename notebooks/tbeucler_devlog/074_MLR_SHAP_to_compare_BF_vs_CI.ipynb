{
 "cells": [
  {
   "cell_type": "markdown",
   "metadata": {},
   "source": [
    "# Imports"
   ]
  },
  {
   "cell_type": "code",
   "execution_count": 1,
   "metadata": {},
   "outputs": [
    {
     "name": "stdout",
     "output_type": "stream",
     "text": [
      "/nfspool-0/home/tbeucler/CBRAIN-CAM/notebooks/tbeucler_devlog\n"
     ]
    }
   ],
   "source": [
    "import sys\n",
    "sys.path.insert(1,\"/home1/07064/tg863631/anaconda3/envs/CbrainCustomLayer/lib/python3.6/site-packages\") #work around for h5py\n",
    "from cbrain.imports import *\n",
    "from cbrain.cam_constants import *\n",
    "from cbrain.utils import *\n",
    "from cbrain.layers import *\n",
    "from cbrain.data_generator import DataGenerator\n",
    "from cbrain.climate_invariant import *\n",
    "\n",
    "import tensorflow as tf\n",
    "physical_devices = tf.config.experimental.list_physical_devices('GPU') \n",
    "tf.config.experimental.set_memory_growth(physical_devices[0], True)\n",
    "tf.config.experimental.set_memory_growth(physical_devices[1], True)\n",
    "tf.config.experimental.set_memory_growth(physical_devices[2], True)\n",
    "\n",
    "import os\n",
    "os.environ[\"CUDA_VISIBLE_DEVICES\"]=\"2\"\n",
    "\n",
    "from tensorflow import math as tfm\n",
    "from tensorflow.keras.layers import *\n",
    "from tensorflow.keras.models import *\n",
    "import tensorflow_probability as tfp\n",
    "import xarray as xr\n",
    "import numpy as np\n",
    "\n",
    "import cartopy\n",
    "import cartopy.feature as cfeature\n",
    "import cartopy.crs as ccrs\n",
    "\n",
    "from cbrain.model_diagnostics import ModelDiagnostics\n",
    "import matplotlib as mpl\n",
    "import matplotlib.pyplot as plt\n",
    "import matplotlib.image as imag\n",
    "import scipy.integrate as sin\n",
    "import matplotlib.ticker as mticker\n",
    "import matplotlib.transforms as mtrans\n",
    "import matplotlib.pylab as plb\n",
    "# from mpl_toolkits.basemap import Basemap\n",
    "# bm = Basemap()\n",
    "\n",
    "import pickle\n",
    "# from climate_invariant import *\n",
    "from tensorflow.keras import layers\n",
    "import datetime\n",
    "from climate_invariant_utils import *\n",
    "import yaml\n"
   ]
  },
  {
   "cell_type": "markdown",
   "metadata": {},
   "source": [
    "# Global variables and Data Generators"
   ]
  },
  {
   "cell_type": "markdown",
   "metadata": {},
   "source": [
    "## Global variables"
   ]
  },
  {
   "cell_type": "code",
   "execution_count": 2,
   "metadata": {},
   "outputs": [],
   "source": [
    "# Load coordinates (just pick any file from the climate model run)\n",
    "\n",
    "# Comet path below\n",
    "# coor = xr.open_dataset(\"/oasis/scratch/comet/ankitesh/temp_project/data/sp8fbp_minus4k.cam2.h1.0000-01-01-00000.nc\",\\\n",
    "#                     decode_times=False)\n",
    "\n",
    "# GP path below\n",
    "path_0K = '/DFS-L/DATA/pritchard/tbeucler/SPCAM/fluxbypass_aqua/'\n",
    "coor = xr.open_dataset(path_0K+\"AndKua_aqua_SPCAM3.0_sp_fbp_f4.cam2.h1.0000-09-02-00000.nc\")\n",
    "\n",
    "lat = coor.lat; lon = coor.lon; lev = coor.lev;\n",
    "coor.close();"
   ]
  },
  {
   "cell_type": "code",
   "execution_count": 3,
   "metadata": {},
   "outputs": [],
   "source": [
    "# Comet path below\n",
    "# TRAINDIR = '/oasis/scratch/comet/ankitesh/temp_project/PrepData/CRHData/'\n",
    "# path = '/home/ankitesh/CBrain_project/CBRAIN-CAM/cbrain/'\n",
    "\n",
    "# GP path below\n",
    "TRAINDIR = '/DFS-L/DATA/pritchard/tbeucler/SPCAM/SPCAM_PHYS/'\n",
    "path = '/export/nfs0home/tbeucler/CBRAIN-CAM/cbrain/'\n",
    "path_nnconfig = '/export/nfs0home/tbeucler/CBRAIN-CAM/nn_config/'\n",
    "\n",
    "# Load hyam and hybm to calculate pressure field in SPCAM\n",
    "path_hyam = 'hyam_hybm.pkl'\n",
    "hf = open(path+path_hyam,'rb')\n",
    "hyam,hybm = pickle.load(hf)\n",
    "\n",
    "# Scale dictionary to convert the loss to W/m2\n",
    "scale_dict = load_pickle(path_nnconfig+'scale_dicts/009_Wm2_scaling.pkl')"
   ]
  },
  {
   "cell_type": "markdown",
   "metadata": {},
   "source": [
    "## Data Generators"
   ]
  },
  {
   "cell_type": "markdown",
   "metadata": {},
   "source": [
    "### Choose between aquaplanet and realistic geography here"
   ]
  },
  {
   "cell_type": "code",
   "execution_count": 4,
   "metadata": {},
   "outputs": [],
   "source": [
    "# GP paths below\n",
    "#path_aquaplanet = '/DFS-L/DATA/pritchard/tbeucler/SPCAM/SPCAM_PHYS/'\n",
    "#path_realgeography = ''\n",
    "\n",
    "# GP /fast paths below\n",
    "path_aquaplanet = '/fast/tbeucler/climate_invariant/aquaplanet/'\n",
    "\n",
    "# Comet paths below\n",
    "# path_aquaplanet = '/oasis/scratch/comet/ankitesh/temp_project/PrepData/'\n",
    "# path_realgeography = '/oasis/scratch/comet/ankitesh/temp_project/PrepData/geography/'\n",
    "\n",
    "path = path_aquaplanet"
   ]
  },
  {
   "cell_type": "markdown",
   "metadata": {},
   "source": [
    "### Data Generator using RH"
   ]
  },
  {
   "cell_type": "code",
   "execution_count": 5,
   "metadata": {},
   "outputs": [],
   "source": [
    "#scale_dict_RH = load_pickle('/home/ankitesh/CBrain_project/CBRAIN-CAM/nn_config/scale_dicts/009_Wm2_scaling_2.pkl')\n",
    "scale_dict_RH = scale_dict.copy()\n",
    "scale_dict_RH['RH'] = 0.01*L_S/G, # Arbitrary 0.1 factor as specific humidity is generally below 2%\n",
    "\n",
    "in_vars_RH = ['RH','TBP','PS', 'SOLIN', 'SHFLX', 'LHFLX']\n",
    "# if path==path_realgeography: out_vars_RH = ['PTEQ','PTTEND','FSNT','FSNS','FLNT','FLNS']\n",
    "# elif path==path_aquaplanet: out_vars_RH = ['PHQ','TPHYSTND','FSNT', 'FSNS', 'FLNT', 'FLNS']\n",
    "if path==path_aquaplanet: out_vars_RH = ['PHQ','TPHYSTND','QRL','QRS']\n",
    "\n",
    "# New GP path below\n",
    "TRAINFILE_RH = '2021_01_24_O3_small_shuffle.nc'\n",
    "NORMFILE_RH = '2021_02_01_NORM_O3_RH_small.nc'\n",
    "    \n",
    "# Comet/Ankitesh path below\n",
    "# TRAINFILE_RH = 'CI_RH_M4K_NORM_train_shuffle.nc'\n",
    "# NORMFILE_RH = 'CI_RH_M4K_NORM_norm.nc'\n",
    "# VALIDFILE_RH = 'CI_RH_M4K_NORM_valid.nc'"
   ]
  },
  {
   "cell_type": "code",
   "execution_count": 6,
   "metadata": {},
   "outputs": [],
   "source": [
    "train_gen_RH = DataGenerator(\n",
    "    data_fn = path+TRAINFILE_RH,\n",
    "    input_vars = in_vars_RH,\n",
    "    output_vars = out_vars_RH,\n",
    "    norm_fn = path+NORMFILE_RH,\n",
    "    input_transform = ('mean', 'maxrs'),\n",
    "    output_transform = scale_dict_RH,\n",
    "    batch_size=1024,\n",
    "    shuffle=True,\n",
    ")"
   ]
  },
  {
   "cell_type": "markdown",
   "metadata": {},
   "source": [
    "### Data Generator using QSATdeficit"
   ]
  },
  {
   "cell_type": "markdown",
   "metadata": {},
   "source": [
    "We only need the norm file for this generator as we are solely using it as an input to determine the right normalization for the combined generator"
   ]
  },
  {
   "cell_type": "code",
   "execution_count": 7,
   "metadata": {},
   "outputs": [],
   "source": [
    "# New GP path below\n",
    "TRAINFILE_QSATdeficit = '2021_02_01_O3_QSATdeficit_small_shuffle.nc'\n",
    "NORMFILE_QSATdeficit = '2021_02_01_NORM_O3_QSATdeficit_small.nc'"
   ]
  },
  {
   "cell_type": "code",
   "execution_count": 8,
   "metadata": {},
   "outputs": [],
   "source": [
    "in_vars_QSATdeficit = ['QSATdeficit','TBP','PS', 'SOLIN', 'SHFLX', 'LHFLX']\n",
    "# if path==path_realgeography: out_vars_RH = ['PTEQ','PTTEND','FSNT','FSNS','FLNT','FLNS']\n",
    "# elif path==path_aquaplanet: out_vars_RH = ['PHQ','TPHYSTND','FSNT', 'FSNS', 'FLNT', 'FLNS']\n",
    "if path==path_aquaplanet: out_vars_QSATdeficit = ['PHQ','TPHYSTND','QRL','QRS']"
   ]
  },
  {
   "cell_type": "code",
   "execution_count": 9,
   "metadata": {},
   "outputs": [],
   "source": [
    "train_gen_QSATdeficit = DataGenerator(\n",
    "    data_fn = path+TRAINFILE_QSATdeficit,\n",
    "    input_vars = in_vars_QSATdeficit,\n",
    "    output_vars = out_vars_QSATdeficit,\n",
    "    norm_fn = path+NORMFILE_QSATdeficit,\n",
    "    input_transform = ('mean', 'maxrs'),\n",
    "    output_transform = scale_dict,\n",
    "    batch_size=1024,\n",
    "    shuffle=True,\n",
    ")"
   ]
  },
  {
   "cell_type": "markdown",
   "metadata": {},
   "source": [
    "### Data Generator using TNS"
   ]
  },
  {
   "cell_type": "code",
   "execution_count": 10,
   "metadata": {},
   "outputs": [],
   "source": [
    "in_vars = ['QBP','TfromNS','PS', 'SOLIN', 'SHFLX', 'LHFLX']\n",
    "if path==path_aquaplanet: out_vars = ['PHQ','TPHYSTND','FSNT', 'FSNS', 'FLNT', 'FLNS']\n",
    "elif path==path_realgeography: out_vars = ['PTEQ','PTTEND','FSNT','FSNS','FLNT','FLNS']\n",
    "\n",
    "TRAINFILE_TNS = '2021_02_01_O3_TfromNS_small_shuffle.nc'\n",
    "NORMFILE_TNS = '2021_02_01_NORM_O3_TfromNS_small.nc'\n",
    "VALIDFILE_TNS = 'CI_TNS_M4K_NORM_valid.nc'"
   ]
  },
  {
   "cell_type": "code",
   "execution_count": 11,
   "metadata": {},
   "outputs": [],
   "source": [
    "train_gen_TNS = DataGenerator(\n",
    "    data_fn = path+TRAINFILE_TNS,\n",
    "    input_vars = in_vars,\n",
    "    output_vars = out_vars,\n",
    "    norm_fn = path+NORMFILE_TNS,\n",
    "    input_transform = ('mean', 'maxrs'),\n",
    "    output_transform = scale_dict,\n",
    "    batch_size=1024,\n",
    "    shuffle=True,\n",
    ")"
   ]
  },
  {
   "cell_type": "markdown",
   "metadata": {},
   "source": [
    "### Data Generator using BCONS"
   ]
  },
  {
   "cell_type": "code",
   "execution_count": 12,
   "metadata": {},
   "outputs": [],
   "source": [
    "in_vars = ['QBP','BCONS','PS', 'SOLIN', 'SHFLX', 'LHFLX']\n",
    "if path==path_aquaplanet: out_vars = ['PHQ','TPHYSTND','FSNT', 'FSNS', 'FLNT', 'FLNS']\n",
    "elif path==path_realgeography: out_vars = ['PTEQ','PTTEND','FSNT','FSNS','FLNT','FLNS']\n",
    "\n",
    "TRAINFILE_BCONS = '2021_02_01_O3_BCONS_small_shuffle.nc'\n",
    "NORMFILE_BCONS = '2021_02_01_NORM_O3_BCONS_small.nc'"
   ]
  },
  {
   "cell_type": "code",
   "execution_count": 13,
   "metadata": {},
   "outputs": [],
   "source": [
    "train_gen_BCONS = DataGenerator(\n",
    "    data_fn = path+TRAINFILE_BCONS,\n",
    "    input_vars = in_vars,\n",
    "    output_vars = out_vars,\n",
    "    norm_fn = path+NORMFILE_BCONS,\n",
    "    input_transform = ('mean', 'maxrs'),\n",
    "    output_transform = scale_dict,\n",
    "    batch_size=1024,\n",
    "    shuffle=True,\n",
    ")"
   ]
  },
  {
   "cell_type": "markdown",
   "metadata": {},
   "source": [
    "### Data Generator using BMSE"
   ]
  },
  {
   "cell_type": "code",
   "execution_count": 14,
   "metadata": {},
   "outputs": [],
   "source": [
    "in_vars = ['QBP','BMSE','PS', 'SOLIN', 'SHFLX', 'LHFLX']\n",
    "out_vars = ['PHQ','TPHYSTND','FSNT', 'FSNS', 'FLNT', 'FLNS']\n",
    "\n",
    "TRAINFILE_BMSE = '2021_06_16_BMSE_small_shuffle.nc'\n",
    "NORMFILE_BMSE = '2021_06_16_NORM_BMSE_small.nc'"
   ]
  },
  {
   "cell_type": "code",
   "execution_count": 15,
   "metadata": {},
   "outputs": [],
   "source": [
    "train_gen_BMSE = DataGenerator(\n",
    "    data_fn = path+TRAINFILE_BMSE,\n",
    "    input_vars = in_vars,\n",
    "    output_vars = out_vars,\n",
    "    norm_fn = path+NORMFILE_BMSE,\n",
    "    input_transform = ('mean', 'maxrs'),\n",
    "    output_transform = scale_dict,\n",
    "    batch_size=1024,\n",
    "    shuffle=True,\n",
    ")"
   ]
  },
  {
   "cell_type": "markdown",
   "metadata": {},
   "source": [
    "### Data Generator using NSto220"
   ]
  },
  {
   "cell_type": "code",
   "execution_count": 16,
   "metadata": {},
   "outputs": [],
   "source": [
    "in_vars = ['QBP','T_NSto220','PS', 'SOLIN', 'SHFLX', 'LHFLX']\n",
    "if path==path_aquaplanet: out_vars = ['PHQ','TPHYSTND','FSNT', 'FSNS', 'FLNT', 'FLNS']\n",
    "elif path==path_realgeography: out_vars = ['PTEQ','PTTEND','FSNT','FSNS','FLNT','FLNS']\n",
    "\n",
    "TRAINFILE_T_NSto220 = '2021_03_31_O3_T_NSto220_small.nc'\n",
    "NORMFILE_T_NSto220 = '2021_03_31_NORM_O3_T_NSto220_small.nc'"
   ]
  },
  {
   "cell_type": "code",
   "execution_count": 17,
   "metadata": {},
   "outputs": [],
   "source": [
    "train_gen_T_NSto220 = DataGenerator(\n",
    "    data_fn = path+TRAINFILE_T_NSto220,\n",
    "    input_vars = in_vars,\n",
    "    output_vars = out_vars,\n",
    "    norm_fn = path+NORMFILE_T_NSto220,\n",
    "    input_transform = ('mean', 'maxrs'),\n",
    "    output_transform = scale_dict,\n",
    "    batch_size=8192,\n",
    "    shuffle=True,\n",
    ")"
   ]
  },
  {
   "cell_type": "markdown",
   "metadata": {},
   "source": [
    "### Data Generator using LHF_nsDELQ"
   ]
  },
  {
   "cell_type": "code",
   "execution_count": 18,
   "metadata": {},
   "outputs": [],
   "source": [
    "in_vars = ['QBP','TBP','PS', 'SOLIN', 'SHFLX', 'LHF_nsDELQ']\n",
    "if path==path_aquaplanet: out_vars = ['PHQ','TPHYSTND','FSNT', 'FSNS', 'FLNT', 'FLNS']\n",
    "elif path==path_realgeography: out_vars = ['PTEQ','PTTEND','FSNT','FSNS','FLNT','FLNS']\n",
    "\n",
    "TRAINFILE_LHF_nsDELQ = '2021_02_01_O3_LHF_nsDELQ_small_shuffle.nc'\n",
    "NORMFILE_LHF_nsDELQ = '2021_02_01_NORM_O3_LHF_nsDELQ_small.nc'"
   ]
  },
  {
   "cell_type": "code",
   "execution_count": 19,
   "metadata": {},
   "outputs": [],
   "source": [
    "train_gen_LHF_nsDELQ = DataGenerator(\n",
    "    data_fn = path+TRAINFILE_LHF_nsDELQ,\n",
    "    input_vars = in_vars,\n",
    "    output_vars = out_vars,\n",
    "    norm_fn = path+NORMFILE_LHF_nsDELQ,\n",
    "    input_transform = ('mean', 'maxrs'),\n",
    "    output_transform = scale_dict,\n",
    "    batch_size=8192,\n",
    "    shuffle=True,\n",
    ")"
   ]
  },
  {
   "cell_type": "markdown",
   "metadata": {},
   "source": [
    "### Data Generator using LHF_nsQ"
   ]
  },
  {
   "cell_type": "code",
   "execution_count": 20,
   "metadata": {},
   "outputs": [],
   "source": [
    "in_vars = ['QBP','TBP','PS', 'SOLIN', 'SHFLX', 'LHF_nsQ']\n",
    "if path==path_aquaplanet: out_vars = ['PHQ','TPHYSTND','FSNT', 'FSNS', 'FLNT', 'FLNS']\n",
    "elif path==path_realgeography: out_vars = ['PTEQ','PTTEND','FSNT','FSNS','FLNT','FLNS']\n",
    "\n",
    "TRAINFILE_LHF_nsQ = '2021_02_01_O3_LHF_nsQ_small_shuffle.nc'\n",
    "NORMFILE_LHF_nsQ = '2021_02_01_NORM_O3_LHF_nsQ_small.nc'"
   ]
  },
  {
   "cell_type": "code",
   "execution_count": 21,
   "metadata": {},
   "outputs": [],
   "source": [
    "train_gen_LHF_nsQ = DataGenerator(\n",
    "    data_fn = path+TRAINFILE_LHF_nsQ,\n",
    "    input_vars = in_vars,\n",
    "    output_vars = out_vars,\n",
    "    norm_fn = path+NORMFILE_LHF_nsQ,\n",
    "    input_transform = ('mean', 'maxrs'),\n",
    "    output_transform = scale_dict,\n",
    "    batch_size=8192,\n",
    "    shuffle=True,\n",
    ")"
   ]
  },
  {
   "cell_type": "markdown",
   "metadata": {},
   "source": [
    "### Data Generator Combined (latest flexible version)"
   ]
  },
  {
   "cell_type": "code",
   "execution_count": 71,
   "metadata": {},
   "outputs": [],
   "source": [
    "in_vars = ['QBP','TBP','PS', 'SOLIN', 'SHFLX', 'LHFLX']\n",
    "#if path==path_aquaplanet: out_vars=['PHQPERC','TPHYSTNDPERC','QRLPERC','QRSPERC']\n",
    "out_vars = ['PHQ','TPHYSTND','QRL','QRS']"
   ]
  },
  {
   "cell_type": "code",
   "execution_count": 72,
   "metadata": {},
   "outputs": [],
   "source": [
    "# TRAINFILE = '2021_01_24_O3_TRAIN_shuffle.nc'\n",
    "NORMFILE = '2021_01_24_NORM_O3_small.nc'\n",
    "# VALIDFILE = '2021_01_24_O3_VALID.nc'\n",
    "# GENTESTFILE = 'CI_SP_P4K_valid.nc'\n",
    "\n",
    "# In physical space\n",
    "TRAINFILE = '2021_03_18_O3_TRAIN_M4K_shuffle.nc'\n",
    "VALIDFILE = '2021_03_18_O3_VALID_M4K.nc'\n",
    "TESTFILE_DIFFCLIMATE = '2021_03_18_O3_TRAIN_P4K_shuffle.nc'\n",
    "TESTFILE_DIFFGEOG = '2021_04_18_RG_TRAIN_M4K_shuffle.nc'\n",
    "\n",
    "# In percentile space\n",
    "#TRAINFILE = '2021_04_09_PERC_TRAIN_M4K_shuffle.nc'\n",
    "#TRAINFILE = '2021_01_24_O3_small_shuffle.nc'\n",
    "#VALIDFILE = '2021_04_09_PERC_VALID_M4K.nc'\n",
    "#TESTFILE = '2021_04_09_PERC_TEST_P4K.nc'"
   ]
  },
  {
   "cell_type": "markdown",
   "metadata": {},
   "source": [
    "Old data generator by Ankitesh"
   ]
  },
  {
   "cell_type": "markdown",
   "metadata": {},
   "source": [
    "Improved flexible data generator"
   ]
  },
  {
   "cell_type": "code",
   "execution_count": 73,
   "metadata": {},
   "outputs": [],
   "source": [
    "train_gen_BF = DataGeneratorCI(data_fn = path+TRAINFILE,\n",
    "                               input_vars=in_vars,\n",
    "                               output_vars=out_vars,\n",
    "                               norm_fn=path+NORMFILE,\n",
    "                               input_transform=('mean', 'maxrs'),\n",
    "                               output_transform=scale_dict,\n",
    "                               batch_size=8192,\n",
    "                               shuffle=True,\n",
    "                               xarray=False,\n",
    "                               var_cut_off=None, \n",
    "                               Qscaling=None,\n",
    "                               Tscaling=None,\n",
    "                               LHFscaling=None,\n",
    "                               SHFscaling=None,\n",
    "                               output_scaling=False,\n",
    "                               interpolate=False,\n",
    "                               hyam=hyam,hybm=hybm,\n",
    "                               inp_sub_Qscaling=None,\n",
    "                               inp_div_Qscaling=None,\n",
    "                               inp_sub_Tscaling=None,\n",
    "                               inp_div_Tscaling=None,\n",
    "                               inp_sub_LHFscaling=None,\n",
    "                               inp_div_LHFscaling=None,\n",
    "                               inp_sub_SHFscaling=None,\n",
    "                               inp_div_SHFscaling=None,\n",
    "                               lev=None, interm_size=40,\n",
    "                               lower_lim=6,is_continous=True,Tnot=5,\n",
    "                               epsQ=1e-3,epsT=1,mode='train')"
   ]
  },
  {
   "cell_type": "code",
   "execution_count": 74,
   "metadata": {},
   "outputs": [],
   "source": [
    "valid_gen_BF = DataGeneratorCI(data_fn = path+VALIDFILE,\n",
    "                               input_vars=in_vars,\n",
    "                               output_vars=out_vars,\n",
    "                               norm_fn=path+NORMFILE,\n",
    "                               input_transform=('mean', 'maxrs'),\n",
    "                               output_transform=scale_dict,\n",
    "                               batch_size=8192,\n",
    "                               shuffle=True,\n",
    "                               xarray=False,\n",
    "                               var_cut_off=None, \n",
    "                               Qscaling=None,\n",
    "                               Tscaling=None,\n",
    "                               LHFscaling=None,\n",
    "                               SHFscaling=None,\n",
    "                               output_scaling=False,\n",
    "                               interpolate=False,\n",
    "                               hyam=hyam,hybm=hybm,\n",
    "                               inp_sub_Qscaling=None,\n",
    "                               inp_div_Qscaling=None,\n",
    "                               inp_sub_Tscaling=None,\n",
    "                               inp_div_Tscaling=None,\n",
    "                               inp_sub_LHFscaling=None,\n",
    "                               inp_div_LHFscaling=None,\n",
    "                               inp_sub_SHFscaling=None,\n",
    "                               inp_div_SHFscaling=None,\n",
    "                               lev=None, interm_size=40,\n",
    "                               lower_lim=6,is_continous=True,Tnot=5,\n",
    "                               epsQ=1e-3,epsT=1,mode='train')"
   ]
  },
  {
   "cell_type": "code",
   "execution_count": 75,
   "metadata": {},
   "outputs": [],
   "source": [
    "test_diffclimate_gen_BF = DataGeneratorCI(data_fn = path+TESTFILE_DIFFCLIMATE,\n",
    "                                       input_vars=in_vars,\n",
    "                                       output_vars=out_vars,\n",
    "                                       norm_fn=path+NORMFILE,\n",
    "                                       input_transform=('mean', 'maxrs'),\n",
    "                                       output_transform=scale_dict,\n",
    "                                       batch_size=8192,\n",
    "                                       shuffle=True,\n",
    "                                       xarray=False,\n",
    "                                       var_cut_off=None, \n",
    "                                       Qscaling=None,\n",
    "                                       Tscaling=None,\n",
    "                                       LHFscaling=None,\n",
    "                                       SHFscaling=None,\n",
    "                                       output_scaling=False,\n",
    "                                       interpolate=False,\n",
    "                                       hyam=hyam,hybm=hybm,\n",
    "                                       inp_sub_Qscaling=None,\n",
    "                                       inp_div_Qscaling=None,\n",
    "                                       inp_sub_Tscaling=None,\n",
    "                                       inp_div_Tscaling=None,\n",
    "                                       inp_sub_LHFscaling=None,\n",
    "                                       inp_div_LHFscaling=None,\n",
    "                                       inp_sub_SHFscaling=None,\n",
    "                                       inp_div_SHFscaling=None,\n",
    "                                       lev=None, interm_size=40,\n",
    "                                       lower_lim=6,is_continous=True,Tnot=5,\n",
    "                                       epsQ=1e-3,epsT=1,mode='train')"
   ]
  },
  {
   "cell_type": "code",
   "execution_count": 76,
   "metadata": {},
   "outputs": [],
   "source": [
    "test_diffgeog_gen_BF = DataGeneratorCI(data_fn = path+TESTFILE_DIFFGEOG,\n",
    "                                       input_vars=in_vars,\n",
    "                                       output_vars=out_vars,\n",
    "                                       norm_fn=path+NORMFILE,\n",
    "                                       input_transform=('mean', 'maxrs'),\n",
    "                                       output_transform=scale_dict,\n",
    "                                       batch_size=8192,\n",
    "                                       shuffle=True,\n",
    "                                       xarray=False,\n",
    "                                       var_cut_off=None, \n",
    "                                       Qscaling=None,\n",
    "                                       Tscaling=None,\n",
    "                                       LHFscaling=None,\n",
    "                                       SHFscaling=None,\n",
    "                                       output_scaling=False,\n",
    "                                       interpolate=False,\n",
    "                                       hyam=hyam,hybm=hybm,\n",
    "                                       inp_sub_Qscaling=None,\n",
    "                                       inp_div_Qscaling=None,\n",
    "                                       inp_sub_Tscaling=None,\n",
    "                                       inp_div_Tscaling=None,\n",
    "                                       inp_sub_LHFscaling=None,\n",
    "                                       inp_div_LHFscaling=None,\n",
    "                                       inp_sub_SHFscaling=None,\n",
    "                                       inp_div_SHFscaling=None,\n",
    "                                       lev=None, interm_size=40,\n",
    "                                       lower_lim=6,is_continous=True,Tnot=5,\n",
    "                                       epsQ=1e-3,epsT=1,mode='train')"
   ]
  },
  {
   "cell_type": "markdown",
   "metadata": {},
   "source": [
    "### Climate-invariant data generator"
   ]
  },
  {
   "cell_type": "code",
   "execution_count": 69,
   "metadata": {},
   "outputs": [],
   "source": [
    "path = path_aquaplanet"
   ]
  },
  {
   "cell_type": "code",
   "execution_count": 70,
   "metadata": {},
   "outputs": [],
   "source": [
    "Tscaling_name = 'BMSE'\n",
    "train_gen_T = train_gen_BMSE\n",
    "\n",
    "train_gen_CI_BCONS = DataGeneratorCI(data_fn = path+TRAINFILE,\n",
    "                               input_vars=in_vars,\n",
    "                               output_vars=out_vars,\n",
    "                               norm_fn=path+NORMFILE,\n",
    "                               input_transform=('mean', 'maxrs'),\n",
    "                               output_transform=None,\n",
    "                               batch_size=8192,\n",
    "                               shuffle=True,\n",
    "                               xarray=False,\n",
    "                               var_cut_off=None, \n",
    "                               Qscaling='RH',\n",
    "                               Tscaling=Tscaling_name,\n",
    "                               LHFscaling='LHF_nsDELQ',\n",
    "                               SHFscaling=None,\n",
    "                               output_scaling=False,\n",
    "                               interpolate=False,\n",
    "                               hyam=hyam,hybm=hybm,\n",
    "                               inp_sub_Qscaling=train_gen_RH.input_transform.sub,\n",
    "                               inp_div_Qscaling=train_gen_RH.input_transform.div,\n",
    "                               inp_sub_Tscaling=train_gen_T.input_transform.sub,\n",
    "                               inp_div_Tscaling=train_gen_T.input_transform.div,\n",
    "                               inp_sub_LHFscaling=train_gen_LHF_nsDELQ.input_transform.sub,\n",
    "                               inp_div_LHFscaling=train_gen_LHF_nsDELQ.input_transform.div,\n",
    "                               inp_sub_SHFscaling=None,\n",
    "                               inp_div_SHFscaling=None,\n",
    "                               lev=None, interm_size=40,\n",
    "                               lower_lim=6,is_continous=True,Tnot=5,\n",
    "                               epsQ=1e-3,epsT=1,mode='train')\n",
    "\n",
    "valid_gen_CI_BCONS = DataGeneratorCI(data_fn = path+VALIDFILE,\n",
    "                               input_vars=in_vars,\n",
    "                               output_vars=out_vars,\n",
    "                               norm_fn=path+NORMFILE,\n",
    "                               input_transform=('mean', 'maxrs'),\n",
    "                               output_transform=None,\n",
    "                               batch_size=8192,\n",
    "                               shuffle=True,\n",
    "                               xarray=False,\n",
    "                               var_cut_off=None, \n",
    "                               Qscaling='RH',\n",
    "                               Tscaling=Tscaling_name,\n",
    "                               LHFscaling='LHF_nsDELQ',\n",
    "                               SHFscaling=None,\n",
    "                               output_scaling=False,\n",
    "                               interpolate=False,\n",
    "                               hyam=hyam,hybm=hybm,\n",
    "                               inp_sub_Qscaling=train_gen_RH.input_transform.sub,\n",
    "                               inp_div_Qscaling=train_gen_RH.input_transform.div,\n",
    "                               inp_sub_Tscaling=train_gen_T.input_transform.sub,\n",
    "                               inp_div_Tscaling=train_gen_T.input_transform.div,\n",
    "                               inp_sub_LHFscaling=train_gen_LHF_nsDELQ.input_transform.sub,\n",
    "                               inp_div_LHFscaling=train_gen_LHF_nsDELQ.input_transform.div,\n",
    "                               inp_sub_SHFscaling=None,\n",
    "                               inp_div_SHFscaling=None,\n",
    "                               lev=None, interm_size=40,\n",
    "                               lower_lim=6,is_continous=True,Tnot=5,\n",
    "                               epsQ=1e-3,epsT=1,mode='train')\n",
    "\n",
    "test_diffclimate_gen_CI_BCONS = DataGeneratorCI(data_fn = path+TESTFILE_DIFFCLIMATE,\n",
    "                                       input_vars=in_vars,\n",
    "                                       output_vars=out_vars,\n",
    "                                       norm_fn=path+NORMFILE,\n",
    "                                       input_transform=('mean', 'maxrs'),\n",
    "                                       output_transform=None,\n",
    "                                       batch_size=8192,\n",
    "                                       shuffle=True,\n",
    "                                       xarray=False,\n",
    "                                       var_cut_off=None, \n",
    "                                       Qscaling='RH',\n",
    "                                       Tscaling=Tscaling_name,\n",
    "                                       LHFscaling='LHF_nsDELQ',\n",
    "                                       SHFscaling=None,\n",
    "                                       output_scaling=False,\n",
    "                                       interpolate=False,\n",
    "                                       hyam=hyam,hybm=hybm,\n",
    "                                       inp_sub_Qscaling=train_gen_RH.input_transform.sub,\n",
    "                                       inp_div_Qscaling=train_gen_RH.input_transform.div,\n",
    "                                       inp_sub_Tscaling=train_gen_T.input_transform.sub,\n",
    "                                       inp_div_Tscaling=train_gen_T.input_transform.div,\n",
    "                                       inp_sub_LHFscaling=train_gen_LHF_nsDELQ.input_transform.sub,\n",
    "                                       inp_div_LHFscaling=train_gen_LHF_nsDELQ.input_transform.div,\n",
    "                                       inp_sub_SHFscaling=None,\n",
    "                                       inp_div_SHFscaling=None,\n",
    "                                       lev=None, interm_size=40,\n",
    "                                       lower_lim=6,is_continous=True,Tnot=5,\n",
    "                                       epsQ=1e-3,epsT=1,mode='train')\n",
    "\n",
    "test_diffgeog_gen_CI_BCONS = DataGeneratorCI(data_fn = path+TESTFILE_DIFFGEOG,\n",
    "                                       input_vars=in_vars,\n",
    "                                       output_vars=out_vars,\n",
    "                                       norm_fn=path+NORMFILE,\n",
    "                                       input_transform=('mean', 'maxrs'),\n",
    "                                       output_transform=None,\n",
    "                                       batch_size=8192,\n",
    "                                       shuffle=True,\n",
    "                                       xarray=False,\n",
    "                                       var_cut_off=None, \n",
    "                                       Qscaling='RH',\n",
    "                                       Tscaling=Tscaling_name,\n",
    "                                       LHFscaling='LHF_nsDELQ',\n",
    "                                       SHFscaling=None,\n",
    "                                       output_scaling=False,\n",
    "                                       interpolate=False,\n",
    "                                       hyam=hyam,hybm=hybm,\n",
    "                                       inp_sub_Qscaling=train_gen_RH.input_transform.sub,\n",
    "                                       inp_div_Qscaling=train_gen_RH.input_transform.div,\n",
    "                                       inp_sub_Tscaling=train_gen_T.input_transform.sub,\n",
    "                                       inp_div_Tscaling=train_gen_T.input_transform.div,\n",
    "                                       inp_sub_LHFscaling=train_gen_LHF_nsDELQ.input_transform.sub,\n",
    "                                       inp_div_LHFscaling=train_gen_LHF_nsDELQ.input_transform.div,\n",
    "                                       inp_sub_SHFscaling=None,\n",
    "                                       inp_div_SHFscaling=None,\n",
    "                                       lev=None, interm_size=40,\n",
    "                                       lower_lim=6,is_continous=True,Tnot=5,\n",
    "                                       epsQ=1e-3,epsT=1,mode='train')"
   ]
  },
  {
   "cell_type": "markdown",
   "metadata": {},
   "source": [
    "# Calculate std(y)/std(x) matrices for normalization purposes"
   ]
  },
  {
   "cell_type": "code",
   "execution_count": 30,
   "metadata": {},
   "outputs": [],
   "source": [
    "norm_file = xr.open_dataset(path+NORMFILE)"
   ]
  },
  {
   "cell_type": "code",
   "execution_count": 32,
   "metadata": {},
   "outputs": [
    {
     "data": {
      "text/plain": [
       "(214,)"
      ]
     },
     "execution_count": 32,
     "metadata": {},
     "output_type": "execute_result"
    }
   ],
   "source": [
    "norm_file['std'].shape"
   ]
  },
  {
   "cell_type": "code",
   "execution_count": 39,
   "metadata": {},
   "outputs": [
    {
     "name": "stdout",
     "output_type": "stream",
     "text": [
      "['QBP' 'QBP' 'QBP' 'QBP' 'QBP' 'QBP' 'QBP' 'QBP' 'QBP' 'QBP' 'QBP' 'QBP'\n",
      " 'QBP' 'QBP' 'QBP' 'QBP' 'QBP' 'QBP' 'QBP' 'QBP' 'QBP' 'QBP' 'QBP' 'QBP'\n",
      " 'QBP' 'QBP' 'QBP' 'QBP' 'QBP' 'QBP' 'TBP' 'TBP' 'TBP' 'TBP' 'TBP' 'TBP'\n",
      " 'TBP' 'TBP' 'TBP' 'TBP' 'TBP' 'TBP' 'TBP' 'TBP' 'TBP' 'TBP' 'TBP' 'TBP'\n",
      " 'TBP' 'TBP' 'TBP' 'TBP' 'TBP' 'TBP' 'TBP' 'TBP' 'TBP' 'TBP' 'TBP' 'TBP'\n",
      " 'O3_AQUA' 'O3_AQUA' 'O3_AQUA' 'O3_AQUA' 'O3_AQUA' 'O3_AQUA' 'O3_AQUA'\n",
      " 'O3_AQUA' 'O3_AQUA' 'O3_AQUA' 'O3_AQUA' 'O3_AQUA' 'O3_AQUA' 'O3_AQUA'\n",
      " 'O3_AQUA' 'O3_AQUA' 'O3_AQUA' 'O3_AQUA' 'O3_AQUA' 'O3_AQUA' 'O3_AQUA'\n",
      " 'O3_AQUA' 'O3_AQUA' 'O3_AQUA' 'O3_AQUA' 'O3_AQUA' 'O3_AQUA' 'O3_AQUA'\n",
      " 'O3_AQUA' 'O3_AQUA' 'PS' 'SOLIN' 'SHFLX' 'LHFLX' 'PHQ' 'PHQ' 'PHQ' 'PHQ'\n",
      " 'PHQ' 'PHQ' 'PHQ' 'PHQ' 'PHQ' 'PHQ' 'PHQ' 'PHQ' 'PHQ' 'PHQ' 'PHQ' 'PHQ'\n",
      " 'PHQ' 'PHQ' 'PHQ' 'PHQ' 'PHQ' 'PHQ' 'PHQ' 'PHQ' 'PHQ' 'PHQ' 'PHQ' 'PHQ'\n",
      " 'PHQ' 'PHQ' 'TPHYSTND' 'TPHYSTND' 'TPHYSTND' 'TPHYSTND' 'TPHYSTND'\n",
      " 'TPHYSTND' 'TPHYSTND' 'TPHYSTND' 'TPHYSTND' 'TPHYSTND' 'TPHYSTND'\n",
      " 'TPHYSTND' 'TPHYSTND' 'TPHYSTND' 'TPHYSTND' 'TPHYSTND' 'TPHYSTND'\n",
      " 'TPHYSTND' 'TPHYSTND' 'TPHYSTND' 'TPHYSTND' 'TPHYSTND' 'TPHYSTND'\n",
      " 'TPHYSTND' 'TPHYSTND' 'TPHYSTND' 'TPHYSTND' 'TPHYSTND' 'TPHYSTND'\n",
      " 'TPHYSTND' 'QRL' 'QRL' 'QRL' 'QRL' 'QRL' 'QRL' 'QRL' 'QRL' 'QRL' 'QRL'\n",
      " 'QRL' 'QRL' 'QRL' 'QRL' 'QRL' 'QRL' 'QRL' 'QRL' 'QRL' 'QRL' 'QRL' 'QRL'\n",
      " 'QRL' 'QRL' 'QRL' 'QRL' 'QRL' 'QRL' 'QRL' 'QRL' 'QRS' 'QRS' 'QRS' 'QRS'\n",
      " 'QRS' 'QRS' 'QRS' 'QRS' 'QRS' 'QRS' 'QRS' 'QRS' 'QRS' 'QRS' 'QRS' 'QRS'\n",
      " 'QRS' 'QRS' 'QRS' 'QRS' 'QRS' 'QRS' 'QRS' 'QRS' 'QRS' 'QRS' 'QRS' 'QRS'\n",
      " 'QRS' 'QRS']\n"
     ]
    }
   ],
   "source": [
    "print(norm_file['var_names'].values)"
   ]
  },
  {
   "cell_type": "code",
   "execution_count": 40,
   "metadata": {},
   "outputs": [],
   "source": [
    "norm_input = np.concatenate((norm_file['std'][:60].values,norm_file['std'][90:94].values))"
   ]
  },
  {
   "cell_type": "code",
   "execution_count": 41,
   "metadata": {},
   "outputs": [],
   "source": [
    "norm_output_BF = norm_file['std'][94:].values"
   ]
  },
  {
   "cell_type": "code",
   "execution_count": 45,
   "metadata": {},
   "outputs": [],
   "source": [
    "norm_RH = xr.open_dataset(path+NORMFILE_RH)\n",
    "norm_BMSE = xr.open_dataset(path+NORMFILE_BMSE)\n",
    "norm_LHF_nsDELQ = xr.open_dataset(path+NORMFILE_LHF_nsDELQ)"
   ]
  },
  {
   "cell_type": "code",
   "execution_count": 64,
   "metadata": {},
   "outputs": [],
   "source": [
    "norm_input_CI = np.concatenate((norm_RH['std'][:30].values,norm_BMSE['std'][30:60],\n",
    "                                norm_file['std'][90:93].values,norm_LHF_nsDELQ['std'][93:94]))"
   ]
  },
  {
   "cell_type": "code",
   "execution_count": 65,
   "metadata": {},
   "outputs": [
    {
     "data": {
      "text/plain": [
       "(64,)"
      ]
     },
     "execution_count": 65,
     "metadata": {},
     "output_type": "execute_result"
    }
   ],
   "source": [
    "norm_input_CI.shape"
   ]
  },
  {
   "cell_type": "code",
   "execution_count": 109,
   "metadata": {},
   "outputs": [
    {
     "data": {
      "text/plain": [
       "array([2.53060616e-07, 2.37412000e-07, 2.58373985e-07, 1.60644581e-07,\n",
       "       1.46846642e-07, 1.57242279e-07, 2.17383328e-07, 3.44808097e-07,\n",
       "       4.74118707e-07, 8.89666841e-07, 2.96630814e-06, 9.61114916e-06,\n",
       "       2.67432971e-05, 6.41263912e-05, 1.40084962e-04, 2.73133441e-04,\n",
       "       4.82278229e-04, 8.04462740e-04, 1.27054523e-03, 1.83521041e-03,\n",
       "       2.50850003e-03, 3.32052515e-03, 4.04395622e-03, 4.43136386e-03,\n",
       "       4.72061903e-03, 5.00474593e-03, 5.24554131e-03, 5.40558248e-03,\n",
       "       5.49571123e-03, 5.73756208e-03, 2.49898576e+01, 2.03539261e+01,\n",
       "       1.65952576e+01, 1.78481143e+01, 1.42635650e+01, 1.35474334e+01,\n",
       "       1.53683006e+01, 1.54467975e+01, 1.33727264e+01, 1.11508365e+01,\n",
       "       9.19624863e+00, 7.72900288e+00, 7.88708687e+00, 9.34044167e+00,\n",
       "       1.09735529e+01, 1.23704666e+01, 1.31815755e+01, 1.33095061e+01,\n",
       "       1.29882283e+01, 1.25432093e+01, 1.20736441e+01, 1.13561029e+01,\n",
       "       1.07090284e+01, 1.06335495e+01, 1.05398943e+01, 1.04841334e+01,\n",
       "       1.04875285e+01, 1.05213324e+01, 1.05824991e+01, 1.05938263e+01,\n",
       "       1.62330028e+03, 4.22932590e+02, 1.26860389e+01, 7.32088856e+01])"
      ]
     },
     "execution_count": 109,
     "metadata": {},
     "output_type": "execute_result"
    }
   ],
   "source": [
    "norm_input"
   ]
  },
  {
   "cell_type": "markdown",
   "metadata": {},
   "source": [
    "# Look at coefficients of MLR"
   ]
  },
  {
   "cell_type": "markdown",
   "metadata": {},
   "source": [
    "## Calculate MLR weights/biases/LRF"
   ]
  },
  {
   "cell_type": "code",
   "execution_count": 152,
   "metadata": {},
   "outputs": [],
   "source": [
    "path_HDF5 = '/DFS-L/DATA/pritchard/tbeucler/SPCAM/HDF5_DATA/'"
   ]
  },
  {
   "cell_type": "code",
   "execution_count": 153,
   "metadata": {},
   "outputs": [],
   "source": [
    "path_models = [\n",
    "    '2021_04_26_MLR.hdf5',\n",
    "    '2021_04_27_W2C_MLR.hdf5',\n",
    "    '2021_06_17_MLR_RH_BMSE_LHF_nsDELQ.hdf5',\n",
    "    '2021_06_17_W2C_MLR_RH_BMSE_LHF_nsDELQ.hdf5'\n",
    "]"
   ]
  },
  {
   "cell_type": "code",
   "execution_count": 154,
   "metadata": {},
   "outputs": [],
   "source": [
    "models = {}\n",
    "weight = {}\n",
    "bias = {}\n",
    "LRF = {}\n",
    "LRF_NORM = {}"
   ]
  },
  {
   "cell_type": "code",
   "execution_count": 155,
   "metadata": {},
   "outputs": [],
   "source": [
    "scale_dict_concat = scale_dict['PHQ']\n",
    "scale_dict_concat = np.append(scale_dict_concat,scale_dict['TPHYSTND'])\n",
    "scale_dict_concat = np.append(scale_dict_concat,scale_dict['QRL'])\n",
    "scale_dict_concat = np.append(scale_dict_concat,scale_dict['QRS'])"
   ]
  },
  {
   "cell_type": "code",
   "execution_count": 264,
   "metadata": {},
   "outputs": [
    {
     "data": {
      "text/plain": [
       "array([7.0811688e+07, 1.3074196e+08, 2.1416970e+08, 3.0895507e+08,\n",
       "       3.8762451e+08, 4.4520458e+08, 4.4321341e+08, 3.6317286e+08,\n",
       "       4.2725360e+08, 5.0264173e+08, 5.9133267e+08, 6.9567149e+08,\n",
       "       8.1842150e+08, 9.6283104e+08, 1.1327212e+09, 1.3325868e+09,\n",
       "       1.5677202e+09, 1.8443410e+09, 2.1697720e+09, 2.1706406e+09,\n",
       "       1.9922205e+09, 1.6811768e+09, 1.2494753e+09, 7.2336192e+08,\n",
       "       6.7863763e+08, 6.2842387e+08, 5.7302957e+08, 5.1279936e+08,\n",
       "       4.4820160e+08, 3.7970438e+08], dtype=float32)"
      ]
     },
     "execution_count": 264,
     "metadata": {},
     "output_type": "execute_result"
    }
   ],
   "source": [
    "scale_dict_concat[:30]"
   ]
  },
  {
   "cell_type": "code",
   "execution_count": 245,
   "metadata": {},
   "outputs": [],
   "source": [
    "cf_input = np.zeros(64,)\n",
    "cf_input[:30] = scale_dict_concat[:30]/(24*3600)\n",
    "cf_input[30:60] = scale_dict_concat[30:60]/(24*3600)\n",
    "cf_input[60] = 0.01\n",
    "cf_input[61:] = 1"
   ]
  },
  {
   "cell_type": "code",
   "execution_count": 246,
   "metadata": {},
   "outputs": [],
   "source": [
    "cf_output = np.ones(120,)"
   ]
  },
  {
   "cell_type": "code",
   "execution_count": 248,
   "metadata": {},
   "outputs": [],
   "source": [
    "cf_input_CI = np.zeros(64,)\n",
    "cf_input_CI[:30] = 100\n",
    "cf_input_CI[30:60] = 1/G\n",
    "cf_input_CI[60] = 0.01\n",
    "cf_input_CI[61:] = 1"
   ]
  },
  {
   "cell_type": "code",
   "execution_count": 249,
   "metadata": {},
   "outputs": [],
   "source": [
    "cf_output_CI = np.zeros(120,)\n",
    "cf_output_CI[:30] = 1\n",
    "cf_output_CI[30:] = 1"
   ]
  },
  {
   "cell_type": "markdown",
   "metadata": {},
   "source": [
    "From [https://pylessons.com/Logistic-Regression-part1/]"
   ]
  },
  {
   "cell_type": "code",
   "execution_count": 238,
   "metadata": {},
   "outputs": [],
   "source": [
    "def sigmoid(x):\n",
    "    s = 1/(1+np.exp(-x)) \n",
    "    return s\n",
    "\n",
    "def sigmoid_derivative(x):\n",
    "    s = sigmoid(x)\n",
    "    ds = s*(1-s)\n",
    "    return ds"
   ]
  },
  {
   "cell_type": "code",
   "execution_count": 118,
   "metadata": {},
   "outputs": [
    {
     "data": {
      "text/plain": [
       "array([4.06520387e-03, 4.06520387e-03, 4.06520387e-03, 4.06520387e-03,\n",
       "       4.06520387e-03, 4.06520387e-03, 4.06520387e-03, 4.06520387e-03,\n",
       "       4.06520387e-03, 4.06520387e-03, 4.06520387e-03, 4.06520387e-03,\n",
       "       4.06520387e-03, 4.06520387e-03, 4.06520387e-03, 4.06520387e-03,\n",
       "       4.06520387e-03, 5.82042415e-03, 7.91688458e-03, 1.00461959e-02,\n",
       "       1.23547642e-02, 1.45391277e-02, 1.62929246e-02, 1.74035153e-02,\n",
       "       1.79914687e-02, 1.79691308e-02, 1.82831680e-02, 1.88952170e-02,\n",
       "       2.00811544e-02, 2.11427847e-02, 8.76355133e+01, 7.61876526e+01,\n",
       "       6.57935181e+01, 6.54568176e+01, 5.76853943e+01, 5.04156647e+01,\n",
       "       5.35961456e+01, 5.44556580e+01, 4.53656311e+01, 4.15905151e+01,\n",
       "       4.40813599e+01, 3.71541748e+01, 3.62034454e+01, 3.57737732e+01,\n",
       "       3.81497650e+01, 4.24353790e+01, 4.81276398e+01, 4.60743103e+01,\n",
       "       4.50330963e+01, 4.23897705e+01, 4.10191803e+01, 3.86689301e+01,\n",
       "       3.76321411e+01, 3.58414001e+01, 3.42568359e+01, 3.23053999e+01,\n",
       "       3.23053999e+01, 3.23053999e+01, 3.23053999e+01, 3.23053999e+01,\n",
       "       1.11434297e+04, 1.41064417e+03, 2.17230824e+02, 5.74136398e+02])"
      ]
     },
     "execution_count": 118,
     "metadata": {},
     "output_type": "execute_result"
    }
   ],
   "source": [
    "train_gen_BF.inp_div"
   ]
  },
  {
   "cell_type": "code",
   "execution_count": 119,
   "metadata": {},
   "outputs": [
    {
     "data": {
      "text/plain": [
       "array([2.53060616e-07, 2.37412000e-07, 2.58373985e-07, 1.60644581e-07,\n",
       "       1.46846642e-07, 1.57242279e-07, 2.17383328e-07, 3.44808097e-07,\n",
       "       4.74118707e-07, 8.89666841e-07, 2.96630814e-06, 9.61114916e-06,\n",
       "       2.67432971e-05, 6.41263912e-05, 1.40084962e-04, 2.73133441e-04,\n",
       "       4.82278229e-04, 8.04462740e-04, 1.27054523e-03, 1.83521041e-03,\n",
       "       2.50850003e-03, 3.32052515e-03, 4.04395622e-03, 4.43136386e-03,\n",
       "       4.72061903e-03, 5.00474593e-03, 5.24554131e-03, 5.40558248e-03,\n",
       "       5.49571123e-03, 5.73756208e-03, 2.49898576e+01, 2.03539261e+01,\n",
       "       1.65952576e+01, 1.78481143e+01, 1.42635650e+01, 1.35474334e+01,\n",
       "       1.53683006e+01, 1.54467975e+01, 1.33727264e+01, 1.11508365e+01,\n",
       "       9.19624863e+00, 7.72900288e+00, 7.88708687e+00, 9.34044167e+00,\n",
       "       1.09735529e+01, 1.23704666e+01, 1.31815755e+01, 1.33095061e+01,\n",
       "       1.29882283e+01, 1.25432093e+01, 1.20736441e+01, 1.13561029e+01,\n",
       "       1.07090284e+01, 1.06335495e+01, 1.05398943e+01, 1.04841334e+01,\n",
       "       1.04875285e+01, 1.05213324e+01, 1.05824991e+01, 1.05938263e+01,\n",
       "       1.62330028e+03, 4.22932590e+02, 1.26860389e+01, 7.32088856e+01])"
      ]
     },
     "execution_count": 119,
     "metadata": {},
     "output_type": "execute_result"
    }
   ],
   "source": [
    "norm_input"
   ]
  },
  {
   "cell_type": "code",
   "execution_count": 144,
   "metadata": {},
   "outputs": [
    {
     "data": {
      "text/plain": [
       "array([4.06520387e-03, 4.06520387e-03, 4.06520387e-03, 4.06520387e-03,\n",
       "       4.06520387e-03, 4.06520387e-03, 4.06520387e-03, 4.06520387e-03,\n",
       "       4.06520387e-03, 4.06520387e-03, 4.06520387e-03, 4.06520387e-03,\n",
       "       4.06520387e-03, 4.06520387e-03, 4.06520387e-03, 4.06520387e-03,\n",
       "       4.06520387e-03, 5.82042415e-03, 7.91688458e-03, 1.00461959e-02,\n",
       "       1.23547642e-02, 1.45391277e-02, 1.62929246e-02, 1.74035153e-02,\n",
       "       1.79914687e-02, 1.79691308e-02, 1.82831680e-02, 1.88952170e-02,\n",
       "       2.00811544e-02, 2.11427847e-02, 8.76355133e+01, 7.61876526e+01,\n",
       "       6.57935181e+01, 6.54568176e+01, 5.76853943e+01, 5.04156647e+01,\n",
       "       5.35961456e+01, 5.44556580e+01, 4.53656311e+01, 4.15905151e+01,\n",
       "       4.40813599e+01, 3.71541748e+01, 3.62034454e+01, 3.57737732e+01,\n",
       "       3.81497650e+01, 4.24353790e+01, 4.81276398e+01, 4.60743103e+01,\n",
       "       4.50330963e+01, 4.23897705e+01, 4.10191803e+01, 3.86689301e+01,\n",
       "       3.76321411e+01, 3.58414001e+01, 3.42568359e+01, 3.23053999e+01,\n",
       "       3.23053999e+01, 3.23053999e+01, 3.23053999e+01, 3.23053999e+01,\n",
       "       1.11434297e+04, 1.41064417e+03, 2.17230824e+02, 5.74136398e+02])"
      ]
     },
     "execution_count": 144,
     "metadata": {},
     "output_type": "execute_result"
    }
   ],
   "source": [
    "train_gen_BF.inp_div"
   ]
  },
  {
   "cell_type": "code",
   "execution_count": 160,
   "metadata": {},
   "outputs": [
    {
     "name": "stdout",
     "output_type": "stream",
     "text": [
      "0 2021_04_26_MLR.hdf5\n",
      "1 2021_04_27_W2C_MLR.hdf5\n",
      "2 2021_06_17_MLR_RH_BMSE_LHF_nsDELQ.hdf5\n",
      "3 2021_06_17_W2C_MLR_RH_BMSE_LHF_nsDELQ.hdf5\n"
     ]
    }
   ],
   "source": [
    "for ipath,path in enumerate(path_models):\n",
    "    print(ipath,path)\n",
    "    models[path] = load_model(path_HDF5+path,compile=False)\n",
    "    weight[path] = models[path].weights[0].numpy()\n",
    "    bias[path] = models[path].weights[1].numpy()\n",
    "    \n",
    "    # Normalize weight to proper units\n",
    "    if ipath<2: gen = train_gen_BF\n",
    "    else: gen = train_gen_CI_BCONS\n",
    "        \n",
    "    factor = np.zeros((64,120))\n",
    "    for iinp in range(64):\n",
    "        for ioup in range(120):\n",
    "            if ipath<2: factor[iinp,ioup] = scale_dict_concat[ioup]\n",
    "            else: factor[iinp,ioup] = scale_dict_concat[ioup]\n",
    "        \n",
    "    LRF_NORM[path] = weight[path]*factor"
   ]
  },
  {
   "cell_type": "code",
   "execution_count": 94,
   "metadata": {},
   "outputs": [
    {
     "name": "stdout",
     "output_type": "stream",
     "text": [
      "0 2021_04_26_MLR.hdf5\n"
     ]
    },
    {
     "ename": "NameError",
     "evalue": "name 'cf_output' is not defined",
     "output_type": "error",
     "traceback": [
      "\u001b[0;31m---------------------------------------------------------------------------\u001b[0m",
      "\u001b[0;31mNameError\u001b[0m                                 Traceback (most recent call last)",
      "\u001b[0;32m<ipython-input-94-5f01f80f4537>\u001b[0m in \u001b[0;36m<module>\u001b[0;34m\u001b[0m\n\u001b[1;32m     12\u001b[0m     \u001b[0;32mfor\u001b[0m \u001b[0miinp\u001b[0m \u001b[0;32min\u001b[0m \u001b[0mrange\u001b[0m\u001b[0;34m(\u001b[0m\u001b[0;36m64\u001b[0m\u001b[0;34m)\u001b[0m\u001b[0;34m:\u001b[0m\u001b[0;34m\u001b[0m\u001b[0;34m\u001b[0m\u001b[0m\n\u001b[1;32m     13\u001b[0m         \u001b[0;32mfor\u001b[0m \u001b[0mioup\u001b[0m \u001b[0;32min\u001b[0m \u001b[0mrange\u001b[0m\u001b[0;34m(\u001b[0m\u001b[0;36m120\u001b[0m\u001b[0;34m)\u001b[0m\u001b[0;34m:\u001b[0m\u001b[0;34m\u001b[0m\u001b[0;34m\u001b[0m\u001b[0m\n\u001b[0;32m---> 14\u001b[0;31m             \u001b[0;32mif\u001b[0m \u001b[0mipath\u001b[0m\u001b[0;34m<\u001b[0m\u001b[0;36m2\u001b[0m\u001b[0;34m:\u001b[0m \u001b[0mfactor\u001b[0m\u001b[0;34m[\u001b[0m\u001b[0miinp\u001b[0m\u001b[0;34m,\u001b[0m\u001b[0mioup\u001b[0m\u001b[0;34m]\u001b[0m \u001b[0;34m=\u001b[0m \u001b[0;34m(\u001b[0m\u001b[0mcf_output\u001b[0m\u001b[0;34m[\u001b[0m\u001b[0mioup\u001b[0m\u001b[0;34m]\u001b[0m\u001b[0;34m/\u001b[0m\u001b[0mcf_input\u001b[0m\u001b[0;34m[\u001b[0m\u001b[0miinp\u001b[0m\u001b[0;34m]\u001b[0m\u001b[0;34m)\u001b[0m\u001b[0;34m/\u001b[0m\u001b[0;34m(\u001b[0m\u001b[0mgen\u001b[0m\u001b[0;34m.\u001b[0m\u001b[0minp_div\u001b[0m\u001b[0;34m[\u001b[0m\u001b[0miinp\u001b[0m\u001b[0;34m]\u001b[0m\u001b[0;34m)\u001b[0m\u001b[0;34m\u001b[0m\u001b[0;34m\u001b[0m\u001b[0m\n\u001b[0m\u001b[1;32m     15\u001b[0m             \u001b[0;32melse\u001b[0m\u001b[0;34m:\u001b[0m \u001b[0mfactor\u001b[0m\u001b[0;34m[\u001b[0m\u001b[0miinp\u001b[0m\u001b[0;34m,\u001b[0m\u001b[0mioup\u001b[0m\u001b[0;34m]\u001b[0m \u001b[0;34m=\u001b[0m \u001b[0;34m(\u001b[0m\u001b[0mcf_output_CI\u001b[0m\u001b[0;34m[\u001b[0m\u001b[0mioup\u001b[0m\u001b[0;34m]\u001b[0m\u001b[0;34m/\u001b[0m\u001b[0mcf_input_CI\u001b[0m\u001b[0;34m[\u001b[0m\u001b[0miinp\u001b[0m\u001b[0;34m]\u001b[0m\u001b[0;34m)\u001b[0m\u001b[0;34m/\u001b[0m\u001b[0;34m(\u001b[0m\u001b[0mgen\u001b[0m\u001b[0;34m.\u001b[0m\u001b[0minp_div\u001b[0m\u001b[0;34m[\u001b[0m\u001b[0miinp\u001b[0m\u001b[0;34m]\u001b[0m\u001b[0;34m)\u001b[0m\u001b[0;34m\u001b[0m\u001b[0;34m\u001b[0m\u001b[0m\n\u001b[1;32m     16\u001b[0m \u001b[0;34m\u001b[0m\u001b[0m\n",
      "\u001b[0;31mNameError\u001b[0m: name 'cf_output' is not defined"
     ]
    }
   ],
   "source": [
    "for ipath,path in enumerate(path_models):\n",
    "    print(ipath,path)\n",
    "    models[path] = load_model(path_HDF5+path,compile=False)\n",
    "    weight[path] = models[path].weights[0].numpy()\n",
    "    bias[path] = models[path].weights[1].numpy()\n",
    "    \n",
    "    # Normalize weight to proper units\n",
    "    if ipath<2: gen = train_gen_BF\n",
    "    else: gen = train_gen_CI_BCONS\n",
    "        \n",
    "    factor = np.zeros((64,120))\n",
    "    for iinp in range(64):\n",
    "        for ioup in range(120):\n",
    "            if ipath<2: factor[iinp,ioup] = (cf_output[ioup]/cf_input[iinp])/(gen.inp_div[iinp])\n",
    "            else: factor[iinp,ioup] = (cf_output_CI[ioup]/cf_input_CI[iinp])/(gen.inp_div[iinp])\n",
    "        \n",
    "    LRF[path] = factor*weight[path]"
   ]
  },
  {
   "cell_type": "code",
   "execution_count": 93,
   "metadata": {},
   "outputs": [
    {
     "data": {
      "text/plain": [
       "{'2021_04_26_MLR.hdf5': array([[-8.4634557e-02, -4.2871486e-02,  1.2805206e-01, ...,\n",
       "         -5.5867207e-01, -4.6843090e+00,  1.3380903e+00],\n",
       "        [ 3.5029620e-02, -6.4856894e-02, -1.1562871e-01, ...,\n",
       "          9.7751588e-01, -4.2206244e+00,  1.7193197e+00],\n",
       "        [ 5.8899648e-02,  6.0649570e-02, -1.5104361e-01, ...,\n",
       "         -2.4546325e+00, -2.5880229e+00,  1.5666972e-01],\n",
       "        ...,\n",
       "        [-3.4184823e-06,  6.6396260e-06,  7.2667070e-05, ...,\n",
       "          5.2829595e+00,  4.3072066e+00,  3.8533080e+00],\n",
       "        [-2.8352481e-05,  4.7552116e-05,  5.7921294e-05, ...,\n",
       "         -1.0825666e+00, -6.1745626e-01,  1.5859447e+00],\n",
       "        [-1.3233870e-05, -3.0730236e-05,  2.6800131e-05, ...,\n",
       "          7.6322889e-01,  6.1353600e-01,  4.5466325e-01]], dtype=float32),\n",
       " '2021_04_27_W2C_MLR.hdf5': array([[-1.41980182e-02, -1.97349861e-02, -9.10567939e-02, ...,\n",
       "         -1.22611535e+00, -8.06670010e-01,  1.67613482e+00],\n",
       "        [ 1.32136807e-01,  1.64972231e-01,  1.21028945e-01, ...,\n",
       "         -1.66956151e+00, -1.22487545e+00,  6.99092627e-01],\n",
       "        [ 1.23686746e-01, -1.21035716e-02, -3.53704914e-02, ...,\n",
       "         -1.48610997e+00, -2.63728046e+00, -4.29892015e+00],\n",
       "        ...,\n",
       "        [ 7.08683729e-07, -2.73686510e-07, -1.71864049e-05, ...,\n",
       "          4.83324051e+00,  3.97473979e+00,  3.42139745e+00],\n",
       "        [-3.99302335e-05,  3.32598603e-07,  1.25458086e-04, ...,\n",
       "         -3.21611226e-01, -9.40486975e-03,  1.40491545e+00],\n",
       "        [-1.12749949e-05,  9.82438723e-06,  1.24024673e-05, ...,\n",
       "          1.15218855e-01,  7.46233016e-02,  5.70580503e-03]], dtype=float32),\n",
       " '2021_06_17_MLR_RH_BMSE_LHF_nsDELQ.hdf5': array([[-3.25399196e-06,  3.67721941e-06,  2.37410539e-04, ...,\n",
       "          1.04241185e-01,  1.06628589e-01, -8.81355442e-03],\n",
       "        [ 7.84092845e-06,  2.60034938e-07,  1.48419553e-04, ...,\n",
       "         -3.43616664e-01, -3.72529447e-01, -2.28292197e-01],\n",
       "        [-3.37478423e-06, -1.06267839e-06, -8.85309186e-04, ...,\n",
       "          1.34538621e-01,  1.23895161e-01,  1.65805772e-01],\n",
       "        ...,\n",
       "        [ 2.65211702e-06, -3.28946953e-06, -1.73829940e-05, ...,\n",
       "          5.28218031e+00,  4.30465603e+00,  3.83710432e+00],\n",
       "        [-1.36291783e-06, -6.73999602e-06,  8.29529599e-05, ...,\n",
       "          1.44670159e-01, -4.22478579e-02,  2.09232998e+00],\n",
       "        [ 3.39537155e-06,  1.06929781e-06, -5.07610821e-05, ...,\n",
       "         -1.11493289e+00, -9.35264289e-01, -8.84364665e-01]], dtype=float32),\n",
       " '2021_06_17_W2C_MLR_RH_BMSE_LHF_nsDELQ.hdf5': array([[-1.36255921e-05, -6.89394001e-05,  1.09087862e-03, ...,\n",
       "         -2.40522958e-02, -1.71717331e-02, -7.32121170e-02],\n",
       "        [-6.36848017e-06,  5.33372076e-05, -8.32440637e-05, ...,\n",
       "         -1.14701115e-01, -1.15772031e-01, -1.02476954e-01],\n",
       "        [ 2.37472841e-06, -4.72902975e-05, -1.91505230e-03, ...,\n",
       "          2.68261790e-01,  2.50967771e-01,  3.71681958e-01],\n",
       "        ...,\n",
       "        [-2.66882489e-06, -1.70467665e-05, -4.09213462e-05, ...,\n",
       "          4.84281731e+00,  3.96761727e+00,  3.43609810e+00],\n",
       "        [-1.23730263e-06,  1.24252419e-05,  1.35667535e-04, ...,\n",
       "         -3.14919144e-01, -6.44869447e-01,  8.21968019e-01],\n",
       "        [ 1.50002525e-05,  8.60689397e-07, -1.15705479e-04, ...,\n",
       "         -6.72628522e-01, -4.25588161e-01, -7.23288432e-02]], dtype=float32)}"
      ]
     },
     "execution_count": 93,
     "metadata": {},
     "output_type": "execute_result"
    }
   ],
   "source": [
    "weight"
   ]
  },
  {
   "cell_type": "code",
   "execution_count": 83,
   "metadata": {},
   "outputs": [],
   "source": [
    "fz = 15\n",
    "lw = 6\n",
    "siz = 250\n",
    "\n",
    "plt.rc('text', usetex=False)\n",
    "mpl.rcParams['mathtext.fontset'] = 'stix'\n",
    "mpl.rcParams['font.family'] = 'STIXGeneral'\n",
    "plt.rc('font', family='serif', size=fz)\n",
    "mpl.rcParams['lines.linewidth'] = lw\n",
    "plt.close('all')"
   ]
  },
  {
   "cell_type": "code",
   "execution_count": 84,
   "metadata": {},
   "outputs": [
    {
     "ename": "KeyError",
     "evalue": "'2021_04_26_MLR.hdf5'",
     "output_type": "error",
     "traceback": [
      "\u001b[0;31m---------------------------------------------------------------------------\u001b[0m",
      "\u001b[0;31mKeyError\u001b[0m                                  Traceback (most recent call last)",
      "\u001b[0;32m<ipython-input-84-393db70f1c94>\u001b[0m in \u001b[0;36m<module>\u001b[0;34m\u001b[0m\n\u001b[0;32m----> 1\u001b[0;31m \u001b[0mLRF\u001b[0m\u001b[0;34m[\u001b[0m\u001b[0;34m'2021_04_26_MLR.hdf5'\u001b[0m\u001b[0;34m]\u001b[0m\u001b[0;34m.\u001b[0m\u001b[0mshape\u001b[0m\u001b[0;34m\u001b[0m\u001b[0;34m\u001b[0m\u001b[0m\n\u001b[0m",
      "\u001b[0;31mKeyError\u001b[0m: '2021_04_26_MLR.hdf5'"
     ]
    }
   ],
   "source": [
    "LRF['2021_04_26_MLR.hdf5'].shape"
   ]
  },
  {
   "cell_type": "markdown",
   "metadata": {},
   "source": [
    "## Heuristic estimation of which coef are different from zero"
   ]
  },
  {
   "cell_type": "code",
   "execution_count": null,
   "metadata": {},
   "outputs": [],
   "source": []
  },
  {
   "cell_type": "markdown",
   "metadata": {},
   "source": [
    "## Figures"
   ]
  },
  {
   "cell_type": "markdown",
   "metadata": {},
   "source": [
    "### Indicate pressure levels"
   ]
  },
  {
   "cell_type": "code",
   "execution_count": 165,
   "metadata": {},
   "outputs": [
    {
     "data": {
      "image/png": "[encoded data removed]",
      "text/plain": [
       "<Figure size 1440x1440 with 3 Axes>"
      ]
     },
     "metadata": {
      "needs_background": "light"
     },
     "output_type": "display_data"
    }
   ],
   "source": [
    "fig,ax = plt.subplots(1,2,figsize=(20,20))\n",
    "\n",
    "toplot = weight['2021_04_26_MLR.hdf5'][:60,:120].T\n",
    "#toplot = LRF_NORM['2021_04_26_MLR.hdf5'][:60,:120]\n",
    "\n",
    "iax = 0\n",
    "\n",
    "mapp = ax[iax].imshow(toplot,cmap='bwr',vmin=-10,vmax=10)\n",
    "plt.colorbar(mapp)\n",
    "ax[iax].invert_xaxis()\n",
    "# ax[iax].set_title(tit)\n",
    "ax[iax].axhline(y=30,color='k',linewidth=lw/2)\n",
    "for iy,yline in enumerate([30,60,90]):\n",
    "    ax[iax].axvline(x=yline,color='k',linewidth=lw/2)\n",
    "\n",
    "plt.draw()\n",
    "# Change y labels to pressure\n",
    "labels = [item.get_text() for item in ax[iax].get_yticklabels()]\n",
    "for ilab,lab in enumerate(labels):\n",
    "    lab0 = int(float(lab.replace('−','-')))\n",
    "    lab0 = int(lab0-30*np.floor(lab0/31))\n",
    "    lab0 = min(29,max(0,lab0))\n",
    "    if iax==0: labels[ilab]=str('%01.0f'%coor.lev[lab0])\n",
    "    else: labels[ilab] = ''\n",
    "ax[iax].set_yticklabels(labels)\n",
    "# Change x labels to pressure\n",
    "labels = [item.get_text() for item in ax[iax].get_xticklabels()]\n",
    "for ilab,lab in enumerate(labels):\n",
    "    lab0 = int(float(lab.replace('−','-')))\n",
    "    lab0 = int(lab0-30*np.floor(lab0/31))\n",
    "    lab0 = min(29,max(0,lab0))\n",
    "    if iax==0: labels[ilab]=str('%01.0f'%coor.lev[lab0])\n",
    "    else: labels[ilab] = ''\n",
    "ax[iax].set_xticklabels(labels)\n",
    "\n",
    "ax[iax].set_xlabel('Pressure [hPa]')\n",
    "if iax==0: ax[iax].set_ylabel('Pressure [hPa]')"
   ]
  },
  {
   "cell_type": "markdown",
   "metadata": {},
   "source": [
    "## Use arrows to indicate each variable"
   ]
  },
  {
   "cell_type": "code",
   "execution_count": 192,
   "metadata": {},
   "outputs": [],
   "source": [
    "inp_select = np.concatenate((np.arange(10,30),np.arange(40,60)))"
   ]
  },
  {
   "cell_type": "code",
   "execution_count": 193,
   "metadata": {},
   "outputs": [
    {
     "data": {
      "text/plain": [
       "array([10, 11, 12, 13, 14, 15, 16, 17, 18, 19, 20, 21, 22, 23, 24, 25, 26,\n",
       "       27, 28, 29, 40, 41, 42, 43, 44, 45, 46, 47, 48, 49, 50, 51, 52, 53,\n",
       "       54, 55, 56, 57, 58, 59])"
      ]
     },
     "execution_count": 193,
     "metadata": {},
     "output_type": "execute_result"
    }
   ],
   "source": [
    "inp_select"
   ]
  },
  {
   "cell_type": "code",
   "execution_count": 194,
   "metadata": {},
   "outputs": [],
   "source": [
    "out_select = np.concatenate((np.arange(10,30),np.arange(40,60),np.arange(70,90),np.arange(100,120)))"
   ]
  },
  {
   "cell_type": "code",
   "execution_count": 195,
   "metadata": {},
   "outputs": [
    {
     "data": {
      "text/plain": [
       "array([ 10,  11,  12,  13,  14,  15,  16,  17,  18,  19,  20,  21,  22,\n",
       "        23,  24,  25,  26,  27,  28,  29,  40,  41,  42,  43,  44,  45,\n",
       "        46,  47,  48,  49,  50,  51,  52,  53,  54,  55,  56,  57,  58,\n",
       "        59,  70,  71,  72,  73,  74,  75,  76,  77,  78,  79,  80,  81,\n",
       "        82,  83,  84,  85,  86,  87,  88,  89, 100, 101, 102, 103, 104,\n",
       "       105, 106, 107, 108, 109, 110, 111, 112, 113, 114, 115, 116, 117,\n",
       "       118, 119])"
      ]
     },
     "execution_count": 195,
     "metadata": {},
     "output_type": "execute_result"
    }
   ],
   "source": [
    "out_select"
   ]
  },
  {
   "cell_type": "code",
   "execution_count": 196,
   "metadata": {},
   "outputs": [],
   "source": [
    "outinp_select = np.meshgrid(inp_select,out_select)"
   ]
  },
  {
   "cell_type": "code",
   "execution_count": 224,
   "metadata": {},
   "outputs": [],
   "source": [
    "mapp = {}"
   ]
  },
  {
   "cell_type": "code",
   "execution_count": 225,
   "metadata": {},
   "outputs": [
    {
     "data": {
      "text/plain": [
       "(64, 120)"
      ]
     },
     "execution_count": 225,
     "metadata": {},
     "output_type": "execute_result"
    }
   ],
   "source": [
    "LRF['2021_04_26_MLR.hdf5'].shape"
   ]
  },
  {
   "cell_type": "code",
   "execution_count": 266,
   "metadata": {},
   "outputs": [
    {
     "data": {
      "image/png": "[encoded data removed]",
      "text/plain": [
       "<Figure size 1080x720 with 4 Axes>"
      ]
     },
     "metadata": {
      "needs_background": "light"
     },
     "output_type": "display_data"
    }
   ],
   "source": [
    "fig,ax = plt.subplots(2,2,figsize=(15,10))\n",
    "\n",
    "for icol in range(2):\n",
    "    for ilin in range(2):\n",
    "    \n",
    "        if ilin==0 and icol==0: \n",
    "            toplot = LRF['2021_04_26_MLR.hdf5'][tuple(outinp_select)].T\n",
    "            VMIN = -0.5; VMAX = 0.5\n",
    "        elif ilin==1 and icol==0: \n",
    "            toplot = (LRF['2021_04_27_W2C_MLR.hdf5'][tuple(outinp_select)].T-\\\n",
    "            LRF['2021_04_26_MLR.hdf5'][tuple(outinp_select)].T)\n",
    "        elif ilin==0 and icol==1: \n",
    "            toplot = LRF['2021_06_17_MLR_RH_BMSE_LHF_nsDELQ.hdf5'][tuple(outinp_select)].T\n",
    "            VMIN = -20; VMAX = 20;\n",
    "        elif ilin==1 and icol==1: \n",
    "            toplot = (LRF['2021_06_17_MLR_RH_BMSE_LHF_nsDELQ.hdf5'][tuple(outinp_select)].T-\\\n",
    "            LRF['2021_06_17_W2C_MLR_RH_BMSE_LHF_nsDELQ.hdf5'][tuple(outinp_select)].T)\n",
    "\n",
    "        mapp[icol] = ax[ilin][icol].imshow(toplot,cmap='bwr',vmin=VMIN,vmax=VMAX)\n",
    "        ax[ilin][icol].invert_xaxis()\n",
    "        ax[ilin][icol].axhline(y=20,color='k',linewidth=lw/2)\n",
    "        for iy,yline in enumerate([20,40,60]):\n",
    "            ax[ilin][icol].axvline(x=yline,color='k',linewidth=lw/2)\n",
    "\n",
    "    # plt.draw()"
   ]
  },
  {
   "cell_type": "code",
   "execution_count": 251,
   "metadata": {},
   "outputs": [],
   "source": [
    "INP_dic = ['p$_{s}$','S$_{0}$','SHF','LHF']"
   ]
  },
  {
   "cell_type": "code",
   "execution_count": 252,
   "metadata": {},
   "outputs": [
    {
     "data": {
      "text/plain": [
       "(64, 120)"
      ]
     },
     "execution_count": 252,
     "metadata": {},
     "output_type": "execute_result"
    }
   ],
   "source": [
    "LRF['2021_04_26_MLR.hdf5'].shape"
   ]
  },
  {
   "cell_type": "code",
   "execution_count": 256,
   "metadata": {},
   "outputs": [],
   "source": [
    "COL = ['darkviolet','gold','forestgreen','royalblue']"
   ]
  },
  {
   "cell_type": "code",
   "execution_count": 258,
   "metadata": {},
   "outputs": [
    {
     "data": {
      "image/png": "[encoded data removed]",
      "text/plain": [
       "<Figure size 432x288 with 1 Axes>"
      ]
     },
     "metadata": {
      "needs_background": "light"
     },
     "output_type": "display_data"
    }
   ],
   "source": [
    "for iinp in np.arange(60,64):\n",
    "    plt.plot(np.arange(0,80),LRF['2021_04_26_MLR.hdf5'][iinp,out_select],label=INP_dic[iinp-60],\n",
    "             linewidth=lw/2,color=COL[iinp-60])\n",
    "plt.legend()\n",
    "plt.grid()\n",
    "plt.gca().invert_xaxis()\n",
    "for iy,yline in enumerate([20,40,60]):\n",
    "    plt.axvline(x=yline,color='k',linewidth=lw/2)"
   ]
  },
  {
   "cell_type": "code",
   "execution_count": 260,
   "metadata": {},
   "outputs": [
    {
     "data": {
      "image/png": "[encoded data removed]",
      "text/plain": [
       "<Figure size 432x288 with 1 Axes>"
      ]
     },
     "metadata": {
      "needs_background": "light"
     },
     "output_type": "display_data"
    }
   ],
   "source": [
    "for iinp in np.arange(60,64):\n",
    "    plt.plot(np.arange(0,80),LRF['2021_04_27_W2C_MLR.hdf5'][iinp,out_select],label=INP_dic[iinp-60],\n",
    "             linewidth=lw/2,color=COL[iinp-60])\n",
    "plt.legend()\n",
    "plt.grid()\n",
    "plt.gca().invert_xaxis()\n",
    "for iy,yline in enumerate([20,40,60]):\n",
    "    plt.axvline(x=yline,color='k',linewidth=lw/2)"
   ]
  },
  {
   "cell_type": "code",
   "execution_count": 261,
   "metadata": {},
   "outputs": [
    {
     "data": {
      "image/png": "[encoded data removed]",
      "text/plain": [
       "<Figure size 432x288 with 1 Axes>"
      ]
     },
     "metadata": {
      "needs_background": "light"
     },
     "output_type": "display_data"
    }
   ],
   "source": [
    "for iinp in np.arange(60,64):\n",
    "    plt.plot(np.arange(0,80),LRF['2021_04_26_MLR.hdf5'][iinp,out_select]-\\\n",
    "             LRF['2021_04_27_W2C_MLR.hdf5'][iinp,out_select],\n",
    "             label=INP_dic[iinp-60],linewidth=lw/2,color=COL[iinp-60])\n",
    "plt.legend()\n",
    "plt.grid()\n",
    "plt.gca().invert_xaxis()\n",
    "for iy,yline in enumerate([20,40,60]):\n",
    "    plt.axvline(x=yline,color='k',linewidth=lw/2)"
   ]
  },
  {
   "cell_type": "code",
   "execution_count": 262,
   "metadata": {},
   "outputs": [
    {
     "data": {
      "image/png": "[encoded data removed]",
      "text/plain": [
       "<Figure size 432x288 with 1 Axes>"
      ]
     },
     "metadata": {
      "needs_background": "light"
     },
     "output_type": "display_data"
    }
   ],
   "source": [
    "for iinp in np.arange(60,64):\n",
    "    plt.plot(np.arange(0,80),LRF['2021_06_17_MLR_RH_BMSE_LHF_nsDELQ.hdf5'][iinp,out_select],label=INP_dic[iinp-60],\n",
    "             linewidth=lw/2,color=COL[iinp-60])\n",
    "plt.legend()\n",
    "plt.grid()\n",
    "plt.gca().invert_xaxis()\n",
    "for iy,yline in enumerate([20,40,60]):\n",
    "    plt.axvline(x=yline,color='k',linewidth=lw/2)"
   ]
  },
  {
   "cell_type": "code",
   "execution_count": 263,
   "metadata": {},
   "outputs": [
    {
     "data": {
      "image/png": "[encoded data removed]",
      "text/plain": [
       "<Figure size 432x288 with 1 Axes>"
      ]
     },
     "metadata": {
      "needs_background": "light"
     },
     "output_type": "display_data"
    }
   ],
   "source": [
    "for iinp in np.arange(60,64):\n",
    "    plt.plot(np.arange(0,80),LRF['2021_06_17_MLR_RH_BMSE_LHF_nsDELQ.hdf5'][iinp,out_select]-\\\n",
    "             LRF['2021_06_17_W2C_MLR_RH_BMSE_LHF_nsDELQ.hdf5'][iinp,out_select],label=INP_dic[iinp-60],\n",
    "             linewidth=lw/2,color=COL[iinp-60])\n",
    "plt.legend()\n",
    "plt.grid()\n",
    "plt.gca().invert_xaxis()\n",
    "for iy,yline in enumerate([20,40,60]):\n",
    "    plt.axvline(x=yline,color='k',linewidth=lw/2)"
   ]
  },
  {
   "cell_type": "markdown",
   "metadata": {},
   "source": [
    "## Put all panels & arrows together (TODO once several MLR runs possible)"
   ]
  },
  {
   "cell_type": "markdown",
   "metadata": {},
   "source": [
    "# SHAP"
   ]
  },
  {
   "cell_type": "code",
   "execution_count": null,
   "metadata": {},
   "outputs": [],
   "source": []
  }
 ],
 "metadata": {
  "kernelspec": {
   "display_name": "Python 3",
   "language": "python",
   "name": "python3"
  },
  "language_info": {
   "codemirror_mode": {
    "name": "ipython",
    "version": 3
   },
   "file_extension": ".py",
   "mimetype": "text/x-python",
   "name": "python",
   "nbconvert_exporter": "python",
   "pygments_lexer": "ipython3",
   "version": "3.6.10"
  },
  "toc": {
   "base_numbering": 1,
   "nav_menu": {},
   "number_sections": true,
   "sideBar": true,
   "skip_h1_title": false,
   "title_cell": "Table of Contents",
   "title_sidebar": "Contents",
   "toc_cell": false,
   "toc_position": {},
   "toc_section_display": true,
   "toc_window_display": true
  }
 },
 "nbformat": 4,
 "nbformat_minor": 4
}
