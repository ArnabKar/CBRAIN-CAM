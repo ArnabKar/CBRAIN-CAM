{
 "cells": [
  {
   "cell_type": "markdown",
   "metadata": {},
   "source": [
    "The general goal of this notebook is to develop pre-processing scripts that aim to predict percentiles of the outputs's unconditional PDF rather than physical values."
   ]
  },
  {
   "cell_type": "markdown",
   "metadata": {},
   "source": [
    "# Imports"
   ]
  },
  {
   "cell_type": "code",
   "execution_count": 15,
   "metadata": {},
   "outputs": [],
   "source": [
    "from cbrain.imports import *\n",
    "from cbrain.data_generator import *\n",
    "from cbrain.cam_constants import *\n",
    "from cbrain.losses import *\n",
    "from cbrain.utils import limit_mem\n",
    "from cbrain.layers import *\n",
    "from cbrain.data_generator import DataGenerator\n",
    "import tensorflow as tf\n",
    "#import tensorflow.math as tfm\n",
    "from tensorflow import math as tfm\n",
    "#import tensorflow_probability as tfp\n",
    "from tensorflow.keras.layers import *\n",
    "from tensorflow.keras.models import *\n",
    "import xarray as xr\n",
    "import numpy as np\n",
    "from cbrain.model_diagnostics import ModelDiagnostics\n",
    "import matplotlib as mpl\n",
    "import matplotlib.pyplot as plt\n",
    "import matplotlib.image as imag\n",
    "import scipy.integrate as sin\n",
    "#import cartopy.crs as ccrs\n",
    "import matplotlib.ticker as mticker\n",
    "#from cartopy.mpl.gridliner import LONGITUDE_FORMATTER, LATITUDE_FORMATTER\n",
    "import pickle\n",
    "import sklearn\n",
    "from sklearn.linear_model import LinearRegression\n",
    "from scipy import stats"
   ]
  },
  {
   "cell_type": "code",
   "execution_count": 16,
   "metadata": {},
   "outputs": [],
   "source": [
    "fz = 15\n",
    "lw = 4\n",
    "siz = 100\n",
    "S0 = 320 # Representative mean solar insolation for normalization purposes\n",
    "S0max = 1410.6442 # Max solar insolation for normalization purposes\n",
    "SN = S0/100 # Representative target = mean insolation / 4\n",
    "XNNA = 1.25 # Abscissa where architecture-constrained network will be placed\n",
    "XTEXT = 0.25 # Text placement\n",
    "YMIN = -1 # Representative value for conserving network\n",
    "YTEXT = 0.3 # Text placement"
   ]
  },
  {
   "cell_type": "code",
   "execution_count": 17,
   "metadata": {},
   "outputs": [],
   "source": [
    "plt.rc('text', usetex=False)\n",
    "mpl.rcParams['mathtext.fontset'] = 'stix'\n",
    "mpl.rcParams['font.family'] = 'STIXGeneral'\n",
    "plt.rc('font', family='serif', size=fz)\n",
    "mpl.rcParams['lines.linewidth'] = lw\n",
    "plt.close('all')"
   ]
  },
  {
   "cell_type": "markdown",
   "metadata": {},
   "source": [
    "# Load training set in memory"
   ]
  },
  {
   "cell_type": "markdown",
   "metadata": {},
   "source": [
    "## Load data"
   ]
  },
  {
   "cell_type": "code",
   "execution_count": 18,
   "metadata": {},
   "outputs": [],
   "source": [
    "path_data = '/DFS-L/DATA/pritchard/tbeucler/SPCAM/SPCAM_PHYS/'"
   ]
  },
  {
   "cell_type": "code",
   "execution_count": 19,
   "metadata": {},
   "outputs": [],
   "source": [
    "pathPKL = '/export/home/tbeucler/CBRAIN-CAM/notebooks/tbeucler_devlog/PKL_DATA'"
   ]
  },
  {
   "cell_type": "code",
   "execution_count": 20,
   "metadata": {},
   "outputs": [],
   "source": [
    "path_TRAIN = path_data + '2021_01_24_O3_TRAIN_shuffle.nc'"
   ]
  },
  {
   "cell_type": "code",
   "execution_count": 7,
   "metadata": {},
   "outputs": [
    {
     "data": {
      "text/plain": [
       "'/DFS-L/DATA/pritchard/tbeucler/SPCAM/SPCAM_PHYS/2021_01_24_O3_TRAIN_shuffle.nc'"
      ]
     },
     "execution_count": 7,
     "metadata": {},
     "output_type": "execute_result"
    }
   ],
   "source": [
    "path_TRAIN"
   ]
  },
  {
   "cell_type": "code",
   "execution_count": 7,
   "metadata": {},
   "outputs": [],
   "source": [
    "train_data = xr.open_dataset(path_TRAIN)"
   ]
  },
  {
   "cell_type": "code",
   "execution_count": 8,
   "metadata": {},
   "outputs": [
    {
     "data": {
      "text/plain": [
       "<xarray.Dataset>\n",
       "Dimensions:    (sample: 47177728, var_names: 214)\n",
       "Coordinates:\n",
       "  * var_names  (var_names) object 'QBP' 'QBP' 'QBP' 'QBP' ... 'QRS' 'QRS' 'QRS'\n",
       "Dimensions without coordinates: sample\n",
       "Data variables:\n",
       "    time       (sample) int64 ...\n",
       "    lat        (sample) float64 ...\n",
       "    lon        (sample) float64 ...\n",
       "    vars       (sample, var_names) float64 ..."
      ]
     },
     "execution_count": 8,
     "metadata": {},
     "output_type": "execute_result"
    }
   ],
   "source": [
    "train_data"
   ]
  },
  {
   "cell_type": "code",
   "execution_count": 9,
   "metadata": {},
   "outputs": [
    {
     "data": {
      "text/plain": [
       "<xarray.DataArray 'var_names' (var_names: 214)>\n",
       "array(['QBP', 'QBP', 'QBP', ..., 'QRS', 'QRS', 'QRS'], dtype=object)\n",
       "Coordinates:\n",
       "  * var_names  (var_names) object 'QBP' 'QBP' 'QBP' 'QBP' ... 'QRS' 'QRS' 'QRS'"
      ]
     },
     "execution_count": 9,
     "metadata": {},
     "output_type": "execute_result"
    }
   ],
   "source": [
    "train_data['var_names']"
   ]
  },
  {
   "cell_type": "code",
   "execution_count": 11,
   "metadata": {},
   "outputs": [
    {
     "data": {
      "text/plain": [
       "(47177728, 214)"
      ]
     },
     "execution_count": 11,
     "metadata": {},
     "output_type": "execute_result"
    }
   ],
   "source": [
    "train_data['vars'].shape"
   ]
  },
  {
   "cell_type": "code",
   "execution_count": 18,
   "metadata": {},
   "outputs": [
    {
     "data": {
      "text/plain": [
       "<xarray.DataArray 'var_names' (var_names: 120)>\n",
       "array(['PHQ', 'PHQ', 'PHQ', 'PHQ', 'PHQ', 'PHQ', 'PHQ', 'PHQ', 'PHQ', 'PHQ',\n",
       "       'PHQ', 'PHQ', 'PHQ', 'PHQ', 'PHQ', 'PHQ', 'PHQ', 'PHQ', 'PHQ', 'PHQ',\n",
       "       'PHQ', 'PHQ', 'PHQ', 'PHQ', 'PHQ', 'PHQ', 'PHQ', 'PHQ', 'PHQ', 'PHQ',\n",
       "       'TPHYSTND', 'TPHYSTND', 'TPHYSTND', 'TPHYSTND', 'TPHYSTND', 'TPHYSTND',\n",
       "       'TPHYSTND', 'TPHYSTND', 'TPHYSTND', 'TPHYSTND', 'TPHYSTND', 'TPHYSTND',\n",
       "       'TPHYSTND', 'TPHYSTND', 'TPHYSTND', 'TPHYSTND', 'TPHYSTND', 'TPHYSTND',\n",
       "       'TPHYSTND', 'TPHYSTND', 'TPHYSTND', 'TPHYSTND', 'TPHYSTND', 'TPHYSTND',\n",
       "       'TPHYSTND', 'TPHYSTND', 'TPHYSTND', 'TPHYSTND', 'TPHYSTND', 'TPHYSTND',\n",
       "       'QRL', 'QRL', 'QRL', 'QRL', 'QRL', 'QRL', 'QRL', 'QRL', 'QRL', 'QRL',\n",
       "       'QRL', 'QRL', 'QRL', 'QRL', 'QRL', 'QRL', 'QRL', 'QRL', 'QRL', 'QRL',\n",
       "       'QRL', 'QRL', 'QRL', 'QRL', 'QRL', 'QRL', 'QRL', 'QRL', 'QRL', 'QRL',\n",
       "       'QRS', 'QRS', 'QRS', 'QRS', 'QRS', 'QRS', 'QRS', 'QRS', 'QRS', 'QRS',\n",
       "       'QRS', 'QRS', 'QRS', 'QRS', 'QRS', 'QRS', 'QRS', 'QRS', 'QRS', 'QRS',\n",
       "       'QRS', 'QRS', 'QRS', 'QRS', 'QRS', 'QRS', 'QRS', 'QRS', 'QRS', 'QRS'],\n",
       "      dtype=object)\n",
       "Coordinates:\n",
       "  * var_names  (var_names) object 'PHQ' 'PHQ' 'PHQ' 'PHQ' ... 'QRS' 'QRS' 'QRS'"
      ]
     },
     "execution_count": 18,
     "metadata": {},
     "output_type": "execute_result"
    }
   ],
   "source": [
    "train_data['var_names'][-120:]"
   ]
  },
  {
   "cell_type": "markdown",
   "metadata": {},
   "source": [
    "## Create histogram bins based on max,min"
   ]
  },
  {
   "cell_type": "code",
   "execution_count": 20,
   "metadata": {},
   "outputs": [],
   "source": [
    "train_data_max = train_data['vars'].max(axis=0)"
   ]
  },
  {
   "cell_type": "code",
   "execution_count": 21,
   "metadata": {},
   "outputs": [],
   "source": [
    "train_data_min = train_data['vars'].min(axis=0)"
   ]
  },
  {
   "cell_type": "code",
   "execution_count": 49,
   "metadata": {},
   "outputs": [
    {
     "data": {
      "text/plain": [
       "<xarray.DataArray 'vars' ()>\n",
       "array(992.12207)\n",
       "Coordinates:\n",
       "    var_names  <U5 'LHFLX'"
      ]
     },
     "execution_count": 49,
     "metadata": {},
     "output_type": "execute_result"
    }
   ],
   "source": [
    "train_data_max[-121]"
   ]
  },
  {
   "cell_type": "code",
   "execution_count": 50,
   "metadata": {},
   "outputs": [
    {
     "data": {
      "text/plain": [
       "<xarray.DataArray 'vars' ()>\n",
       "array(-106.082199)\n",
       "Coordinates:\n",
       "    var_names  <U5 'LHFLX'"
      ]
     },
     "execution_count": 50,
     "metadata": {},
     "output_type": "execute_result"
    }
   ],
   "source": [
    "train_data_min[-121]"
   ]
  },
  {
   "cell_type": "code",
   "execution_count": 51,
   "metadata": {},
   "outputs": [
    {
     "data": {
      "text/plain": [
       "(214,)"
      ]
     },
     "execution_count": 51,
     "metadata": {},
     "output_type": "execute_result"
    }
   ],
   "source": [
    "train_data_max.shape"
   ]
  },
  {
   "cell_type": "code",
   "execution_count": 52,
   "metadata": {},
   "outputs": [
    {
     "data": {
      "text/plain": [
       "93"
      ]
     },
     "execution_count": 52,
     "metadata": {},
     "output_type": "execute_result"
    }
   ],
   "source": [
    "214-121"
   ]
  },
  {
   "cell_type": "code",
   "execution_count": 53,
   "metadata": {},
   "outputs": [
    {
     "data": {
      "text/plain": [
       "<xarray.DataArray 'vars' ()>\n",
       "array(0.)\n",
       "Coordinates:\n",
       "    var_names  <U3 'PHQ'"
      ]
     },
     "execution_count": 53,
     "metadata": {},
     "output_type": "execute_result"
    }
   ],
   "source": [
    "train_data_max[94]"
   ]
  },
  {
   "cell_type": "code",
   "execution_count": 54,
   "metadata": {},
   "outputs": [
    {
     "data": {
      "text/plain": [
       "<xarray.DataArray 'vars' ()>\n",
       "array(992.12207)\n",
       "Coordinates:\n",
       "    var_names  <U5 'LHFLX'"
      ]
     },
     "execution_count": 54,
     "metadata": {},
     "output_type": "execute_result"
    }
   ],
   "source": [
    "train_data_max[93]"
   ]
  },
  {
   "cell_type": "code",
   "execution_count": 24,
   "metadata": {},
   "outputs": [
    {
     "data": {
      "text/plain": [
       "[<matplotlib.lines.Line2D at 0x7f09a0de2710>]"
      ]
     },
     "execution_count": 24,
     "metadata": {},
     "output_type": "execute_result"
    },
    {
     "data": {
      "image/png": "[encoded data removed]",
      "text/plain": [
       "<Figure size 432x288 with 1 Axes>"
      ]
     },
     "metadata": {
      "needs_background": "light"
     },
     "output_type": "display_data"
    }
   ],
   "source": [
    "plt.plot(train_data_min[-120:])\n",
    "plt.plot(train_data_max[-120:])"
   ]
  },
  {
   "cell_type": "code",
   "execution_count": 25,
   "metadata": {},
   "outputs": [],
   "source": [
    "train_data_bins = np.linspace(start=train_data_min,stop=train_data_max,num=1000)"
   ]
  },
  {
   "cell_type": "code",
   "execution_count": 26,
   "metadata": {},
   "outputs": [
    {
     "data": {
      "text/plain": [
       "(1000, 214)"
      ]
     },
     "execution_count": 26,
     "metadata": {},
     "output_type": "execute_result"
    }
   ],
   "source": [
    "train_data_bins.shape"
   ]
  },
  {
   "cell_type": "code",
   "execution_count": 40,
   "metadata": {},
   "outputs": [
    {
     "data": {
      "text/plain": [
       "<xarray.DataArray 'vars' ()>\n",
       "array(-2.703581e-06)\n",
       "Coordinates:\n",
       "    var_names  <U3 'PHQ'"
      ]
     },
     "execution_count": 40,
     "metadata": {},
     "output_type": "execute_result"
    }
   ],
   "source": [
    "train_data_min[-91]"
   ]
  },
  {
   "cell_type": "code",
   "execution_count": 42,
   "metadata": {},
   "outputs": [
    {
     "data": {
      "text/plain": [
       "<xarray.DataArray 'vars' ()>\n",
       "array(1.331972e-06)\n",
       "Coordinates:\n",
       "    var_names  <U3 'PHQ'"
      ]
     },
     "execution_count": 42,
     "metadata": {},
     "output_type": "execute_result"
    }
   ],
   "source": [
    "train_data_max[-91]"
   ]
  },
  {
   "cell_type": "code",
   "execution_count": 44,
   "metadata": {},
   "outputs": [
    {
     "data": {
      "text/plain": [
       "array([-2.70358146e-06, -2.69954187e-06, -2.69550227e-06, -2.69146268e-06,\n",
       "       -2.68742309e-06, -2.68338349e-06, -2.67934390e-06, -2.67530431e-06,\n",
       "       -2.67126471e-06, -2.66722512e-06, -2.66318553e-06, -2.65914593e-06,\n",
       "       -2.65510634e-06, -2.65106675e-06, -2.64702715e-06, -2.64298756e-06,\n",
       "       -2.63894797e-06, -2.63490837e-06, -2.63086878e-06, -2.62682919e-06,\n",
       "       -2.62278959e-06, -2.61875000e-06, -2.61471041e-06, -2.61067081e-06,\n",
       "       -2.60663122e-06, -2.60259163e-06, -2.59855203e-06, -2.59451244e-06,\n",
       "       -2.59047285e-06, -2.58643326e-06, -2.58239366e-06, -2.57835407e-06,\n",
       "       -2.57431448e-06, -2.57027488e-06, -2.56623529e-06, -2.56219570e-06,\n",
       "       -2.55815610e-06, -2.55411651e-06, -2.55007692e-06, -2.54603732e-06,\n",
       "       -2.54199773e-06, -2.53795814e-06, -2.53391854e-06, -2.52987895e-06,\n",
       "       -2.52583936e-06, -2.52179976e-06, -2.51776017e-06, -2.51372058e-06,\n",
       "       -2.50968098e-06, -2.50564139e-06, -2.50160180e-06, -2.49756220e-06,\n",
       "       -2.49352261e-06, -2.48948302e-06, -2.48544342e-06, -2.48140383e-06,\n",
       "       -2.47736424e-06, -2.47332465e-06, -2.46928505e-06, -2.46524546e-06,\n",
       "       -2.46120587e-06, -2.45716627e-06, -2.45312668e-06, -2.44908709e-06,\n",
       "       -2.44504749e-06, -2.44100790e-06, -2.43696831e-06, -2.43292871e-06,\n",
       "       -2.42888912e-06, -2.42484953e-06, -2.42080993e-06, -2.41677034e-06,\n",
       "       -2.41273075e-06, -2.40869115e-06, -2.40465156e-06, -2.40061197e-06,\n",
       "       -2.39657237e-06, -2.39253278e-06, -2.38849319e-06, -2.38445359e-06,\n",
       "       -2.38041400e-06, -2.37637441e-06, -2.37233482e-06, -2.36829522e-06,\n",
       "       -2.36425563e-06, -2.36021604e-06, -2.35617644e-06, -2.35213685e-06,\n",
       "       -2.34809726e-06, -2.34405766e-06, -2.34001807e-06, -2.33597848e-06,\n",
       "       -2.33193888e-06, -2.32789929e-06, -2.32385970e-06, -2.31982010e-06,\n",
       "       -2.31578051e-06, -2.31174092e-06, -2.30770132e-06, -2.30366173e-06,\n",
       "       -2.29962214e-06, -2.29558254e-06, -2.29154295e-06, -2.28750336e-06,\n",
       "       -2.28346376e-06, -2.27942417e-06, -2.27538458e-06, -2.27134498e-06,\n",
       "       -2.26730539e-06, -2.26326580e-06, -2.25922621e-06, -2.25518661e-06,\n",
       "       -2.25114702e-06, -2.24710743e-06, -2.24306783e-06, -2.23902824e-06,\n",
       "       -2.23498865e-06, -2.23094905e-06, -2.22690946e-06, -2.22286987e-06,\n",
       "       -2.21883027e-06, -2.21479068e-06, -2.21075109e-06, -2.20671149e-06,\n",
       "       -2.20267190e-06, -2.19863231e-06, -2.19459271e-06, -2.19055312e-06,\n",
       "       -2.18651353e-06, -2.18247393e-06, -2.17843434e-06, -2.17439475e-06,\n",
       "       -2.17035515e-06, -2.16631556e-06, -2.16227597e-06, -2.15823638e-06,\n",
       "       -2.15419678e-06, -2.15015719e-06, -2.14611760e-06, -2.14207800e-06,\n",
       "       -2.13803841e-06, -2.13399882e-06, -2.12995922e-06, -2.12591963e-06,\n",
       "       -2.12188004e-06, -2.11784044e-06, -2.11380085e-06, -2.10976126e-06,\n",
       "       -2.10572166e-06, -2.10168207e-06, -2.09764248e-06, -2.09360288e-06,\n",
       "       -2.08956329e-06, -2.08552370e-06, -2.08148410e-06, -2.07744451e-06,\n",
       "       -2.07340492e-06, -2.06936532e-06, -2.06532573e-06, -2.06128614e-06,\n",
       "       -2.05724654e-06, -2.05320695e-06, -2.04916736e-06, -2.04512777e-06,\n",
       "       -2.04108817e-06, -2.03704858e-06, -2.03300899e-06, -2.02896939e-06,\n",
       "       -2.02492980e-06, -2.02089021e-06, -2.01685061e-06, -2.01281102e-06,\n",
       "       -2.00877143e-06, -2.00473183e-06, -2.00069224e-06, -1.99665265e-06,\n",
       "       -1.99261305e-06, -1.98857346e-06, -1.98453387e-06, -1.98049427e-06,\n",
       "       -1.97645468e-06, -1.97241509e-06, -1.96837549e-06, -1.96433590e-06,\n",
       "       -1.96029631e-06, -1.95625671e-06, -1.95221712e-06, -1.94817753e-06,\n",
       "       -1.94413793e-06, -1.94009834e-06, -1.93605875e-06, -1.93201916e-06,\n",
       "       -1.92797956e-06, -1.92393997e-06, -1.91990038e-06, -1.91586078e-06,\n",
       "       -1.91182119e-06, -1.90778160e-06, -1.90374200e-06, -1.89970241e-06,\n",
       "       -1.89566282e-06, -1.89162322e-06, -1.88758363e-06, -1.88354404e-06,\n",
       "       -1.87950444e-06, -1.87546485e-06, -1.87142526e-06, -1.86738566e-06,\n",
       "       -1.86334607e-06, -1.85930648e-06, -1.85526688e-06, -1.85122729e-06,\n",
       "       -1.84718770e-06, -1.84314810e-06, -1.83910851e-06, -1.83506892e-06,\n",
       "       -1.83102933e-06, -1.82698973e-06, -1.82295014e-06, -1.81891055e-06,\n",
       "       -1.81487095e-06, -1.81083136e-06, -1.80679177e-06, -1.80275217e-06,\n",
       "       -1.79871258e-06, -1.79467299e-06, -1.79063339e-06, -1.78659380e-06,\n",
       "       -1.78255421e-06, -1.77851461e-06, -1.77447502e-06, -1.77043543e-06,\n",
       "       -1.76639583e-06, -1.76235624e-06, -1.75831665e-06, -1.75427705e-06,\n",
       "       -1.75023746e-06, -1.74619787e-06, -1.74215827e-06, -1.73811868e-06,\n",
       "       -1.73407909e-06, -1.73003949e-06, -1.72599990e-06, -1.72196031e-06,\n",
       "       -1.71792072e-06, -1.71388112e-06, -1.70984153e-06, -1.70580194e-06,\n",
       "       -1.70176234e-06, -1.69772275e-06, -1.69368316e-06, -1.68964356e-06,\n",
       "       -1.68560397e-06, -1.68156438e-06, -1.67752478e-06, -1.67348519e-06,\n",
       "       -1.66944560e-06, -1.66540600e-06, -1.66136641e-06, -1.65732682e-06,\n",
       "       -1.65328722e-06, -1.64924763e-06, -1.64520804e-06, -1.64116844e-06,\n",
       "       -1.63712885e-06, -1.63308926e-06, -1.62904966e-06, -1.62501007e-06,\n",
       "       -1.62097048e-06, -1.61693089e-06, -1.61289129e-06, -1.60885170e-06,\n",
       "       -1.60481211e-06, -1.60077251e-06, -1.59673292e-06, -1.59269333e-06,\n",
       "       -1.58865373e-06, -1.58461414e-06, -1.58057455e-06, -1.57653495e-06,\n",
       "       -1.57249536e-06, -1.56845577e-06, -1.56441617e-06, -1.56037658e-06,\n",
       "       -1.55633699e-06, -1.55229739e-06, -1.54825780e-06, -1.54421821e-06,\n",
       "       -1.54017861e-06, -1.53613902e-06, -1.53209943e-06, -1.52805983e-06,\n",
       "       -1.52402024e-06, -1.51998065e-06, -1.51594105e-06, -1.51190146e-06,\n",
       "       -1.50786187e-06, -1.50382228e-06, -1.49978268e-06, -1.49574309e-06,\n",
       "       -1.49170350e-06, -1.48766390e-06, -1.48362431e-06, -1.47958472e-06,\n",
       "       -1.47554512e-06, -1.47150553e-06, -1.46746594e-06, -1.46342634e-06,\n",
       "       -1.45938675e-06, -1.45534716e-06, -1.45130756e-06, -1.44726797e-06,\n",
       "       -1.44322838e-06, -1.43918878e-06, -1.43514919e-06, -1.43110960e-06,\n",
       "       -1.42707000e-06, -1.42303041e-06, -1.41899082e-06, -1.41495122e-06,\n",
       "       -1.41091163e-06, -1.40687204e-06, -1.40283244e-06, -1.39879285e-06,\n",
       "       -1.39475326e-06, -1.39071367e-06, -1.38667407e-06, -1.38263448e-06,\n",
       "       -1.37859489e-06, -1.37455529e-06, -1.37051570e-06, -1.36647611e-06,\n",
       "       -1.36243651e-06, -1.35839692e-06, -1.35435733e-06, -1.35031773e-06,\n",
       "       -1.34627814e-06, -1.34223855e-06, -1.33819895e-06, -1.33415936e-06,\n",
       "       -1.33011977e-06, -1.32608017e-06, -1.32204058e-06, -1.31800099e-06,\n",
       "       -1.31396139e-06, -1.30992180e-06, -1.30588221e-06, -1.30184261e-06,\n",
       "       -1.29780302e-06, -1.29376343e-06, -1.28972384e-06, -1.28568424e-06,\n",
       "       -1.28164465e-06, -1.27760506e-06, -1.27356546e-06, -1.26952587e-06,\n",
       "       -1.26548628e-06, -1.26144668e-06, -1.25740709e-06, -1.25336750e-06,\n",
       "       -1.24932790e-06, -1.24528831e-06, -1.24124872e-06, -1.23720912e-06,\n",
       "       -1.23316953e-06, -1.22912994e-06, -1.22509034e-06, -1.22105075e-06,\n",
       "       -1.21701116e-06, -1.21297156e-06, -1.20893197e-06, -1.20489238e-06,\n",
       "       -1.20085278e-06, -1.19681319e-06, -1.19277360e-06, -1.18873400e-06,\n",
       "       -1.18469441e-06, -1.18065482e-06, -1.17661523e-06, -1.17257563e-06,\n",
       "       -1.16853604e-06, -1.16449645e-06, -1.16045685e-06, -1.15641726e-06,\n",
       "       -1.15237767e-06, -1.14833807e-06, -1.14429848e-06, -1.14025889e-06,\n",
       "       -1.13621929e-06, -1.13217970e-06, -1.12814011e-06, -1.12410051e-06,\n",
       "       -1.12006092e-06, -1.11602133e-06, -1.11198173e-06, -1.10794214e-06,\n",
       "       -1.10390255e-06, -1.09986295e-06, -1.09582336e-06, -1.09178377e-06,\n",
       "       -1.08774417e-06, -1.08370458e-06, -1.07966499e-06, -1.07562540e-06,\n",
       "       -1.07158580e-06, -1.06754621e-06, -1.06350662e-06, -1.05946702e-06,\n",
       "       -1.05542743e-06, -1.05138784e-06, -1.04734824e-06, -1.04330865e-06,\n",
       "       -1.03926906e-06, -1.03522946e-06, -1.03118987e-06, -1.02715028e-06,\n",
       "       -1.02311068e-06, -1.01907109e-06, -1.01503150e-06, -1.01099190e-06,\n",
       "       -1.00695231e-06, -1.00291272e-06, -9.98873124e-07, -9.94833531e-07,\n",
       "       -9.90793938e-07, -9.86754344e-07, -9.82714751e-07, -9.78675158e-07,\n",
       "       -9.74635565e-07, -9.70595972e-07, -9.66556378e-07, -9.62516785e-07,\n",
       "       -9.58477192e-07, -9.54437599e-07, -9.50398006e-07, -9.46358412e-07,\n",
       "       -9.42318819e-07, -9.38279226e-07, -9.34239633e-07, -9.30200040e-07,\n",
       "       -9.26160446e-07, -9.22120853e-07, -9.18081260e-07, -9.14041667e-07,\n",
       "       -9.10002073e-07, -9.05962480e-07, -9.01922887e-07, -8.97883294e-07,\n",
       "       -8.93843701e-07, -8.89804107e-07, -8.85764514e-07, -8.81724921e-07,\n",
       "       -8.77685328e-07, -8.73645735e-07, -8.69606141e-07, -8.65566548e-07,\n",
       "       -8.61526955e-07, -8.57487362e-07, -8.53447769e-07, -8.49408175e-07,\n",
       "       -8.45368582e-07, -8.41328989e-07, -8.37289396e-07, -8.33249803e-07,\n",
       "       -8.29210209e-07, -8.25170616e-07, -8.21131023e-07, -8.17091430e-07,\n",
       "       -8.13051836e-07, -8.09012243e-07, -8.04972650e-07, -8.00933057e-07,\n",
       "       -7.96893464e-07, -7.92853870e-07, -7.88814277e-07, -7.84774684e-07,\n",
       "       -7.80735091e-07, -7.76695498e-07, -7.72655904e-07, -7.68616311e-07,\n",
       "       -7.64576718e-07, -7.60537125e-07, -7.56497532e-07, -7.52457938e-07,\n",
       "       -7.48418345e-07, -7.44378752e-07, -7.40339159e-07, -7.36299566e-07,\n",
       "       -7.32259972e-07, -7.28220379e-07, -7.24180786e-07, -7.20141193e-07,\n",
       "       -7.16101599e-07, -7.12062006e-07, -7.08022413e-07, -7.03982820e-07,\n",
       "       -6.99943227e-07, -6.95903633e-07, -6.91864040e-07, -6.87824447e-07,\n",
       "       -6.83784854e-07, -6.79745261e-07, -6.75705667e-07, -6.71666074e-07,\n",
       "       -6.67626481e-07, -6.63586888e-07, -6.59547295e-07, -6.55507701e-07,\n",
       "       -6.51468108e-07, -6.47428515e-07, -6.43388922e-07, -6.39349328e-07,\n",
       "       -6.35309735e-07, -6.31270142e-07, -6.27230549e-07, -6.23190956e-07,\n",
       "       -6.19151362e-07, -6.15111769e-07, -6.11072176e-07, -6.07032583e-07,\n",
       "       -6.02992990e-07, -5.98953396e-07, -5.94913803e-07, -5.90874210e-07,\n",
       "       -5.86834617e-07, -5.82795024e-07, -5.78755430e-07, -5.74715837e-07,\n",
       "       -5.70676244e-07, -5.66636651e-07, -5.62597058e-07, -5.58557464e-07,\n",
       "       -5.54517871e-07, -5.50478278e-07, -5.46438685e-07, -5.42399091e-07,\n",
       "       -5.38359498e-07, -5.34319905e-07, -5.30280312e-07, -5.26240719e-07,\n",
       "       -5.22201125e-07, -5.18161532e-07, -5.14121939e-07, -5.10082346e-07,\n",
       "       -5.06042753e-07, -5.02003159e-07, -4.97963566e-07, -4.93923973e-07,\n",
       "       -4.89884380e-07, -4.85844787e-07, -4.81805193e-07, -4.77765600e-07,\n",
       "       -4.73726007e-07, -4.69686414e-07, -4.65646821e-07, -4.61607227e-07,\n",
       "       -4.57567634e-07, -4.53528041e-07, -4.49488448e-07, -4.45448854e-07,\n",
       "       -4.41409261e-07, -4.37369668e-07, -4.33330075e-07, -4.29290482e-07,\n",
       "       -4.25250888e-07, -4.21211295e-07, -4.17171702e-07, -4.13132109e-07,\n",
       "       -4.09092516e-07, -4.05052922e-07, -4.01013329e-07, -3.96973736e-07,\n",
       "       -3.92934143e-07, -3.88894550e-07, -3.84854956e-07, -3.80815363e-07,\n",
       "       -3.76775770e-07, -3.72736177e-07, -3.68696584e-07, -3.64656990e-07,\n",
       "       -3.60617397e-07, -3.56577804e-07, -3.52538211e-07, -3.48498617e-07,\n",
       "       -3.44459024e-07, -3.40419431e-07, -3.36379838e-07, -3.32340245e-07,\n",
       "       -3.28300651e-07, -3.24261058e-07, -3.20221465e-07, -3.16181872e-07,\n",
       "       -3.12142279e-07, -3.08102685e-07, -3.04063092e-07, -3.00023499e-07,\n",
       "       -2.95983906e-07, -2.91944313e-07, -2.87904719e-07, -2.83865126e-07,\n",
       "       -2.79825533e-07, -2.75785940e-07, -2.71746346e-07, -2.67706753e-07,\n",
       "       -2.63667160e-07, -2.59627567e-07, -2.55587974e-07, -2.51548380e-07,\n",
       "       -2.47508787e-07, -2.43469194e-07, -2.39429601e-07, -2.35390008e-07,\n",
       "       -2.31350414e-07, -2.27310821e-07, -2.23271228e-07, -2.19231635e-07,\n",
       "       -2.15192042e-07, -2.11152448e-07, -2.07112855e-07, -2.03073262e-07,\n",
       "       -1.99033669e-07, -1.94994076e-07, -1.90954482e-07, -1.86914889e-07,\n",
       "       -1.82875296e-07, -1.78835703e-07, -1.74796109e-07, -1.70756516e-07,\n",
       "       -1.66716923e-07, -1.62677330e-07, -1.58637737e-07, -1.54598143e-07,\n",
       "       -1.50558550e-07, -1.46518957e-07, -1.42479364e-07, -1.38439771e-07,\n",
       "       -1.34400177e-07, -1.30360584e-07, -1.26320991e-07, -1.22281398e-07,\n",
       "       -1.18241805e-07, -1.14202211e-07, -1.10162618e-07, -1.06123025e-07,\n",
       "       -1.02083432e-07, -9.80438385e-08, -9.40042453e-08, -8.99646521e-08,\n",
       "       -8.59250589e-08, -8.18854657e-08, -7.78458725e-08, -7.38062792e-08,\n",
       "       -6.97666860e-08, -6.57270928e-08, -6.16874996e-08, -5.76479064e-08,\n",
       "       -5.36083132e-08, -4.95687200e-08, -4.55291268e-08, -4.14895336e-08,\n",
       "       -3.74499404e-08, -3.34103472e-08, -2.93707540e-08, -2.53311607e-08,\n",
       "       -2.12915675e-08, -1.72519743e-08, -1.32123811e-08, -9.17278791e-09,\n",
       "       -5.13319470e-09, -1.09360149e-09,  2.94599172e-09,  6.98558493e-09,\n",
       "        1.10251781e-08,  1.50647713e-08,  1.91043646e-08,  2.31439578e-08,\n",
       "        2.71835510e-08,  3.12231442e-08,  3.52627374e-08,  3.93023306e-08,\n",
       "        4.33419238e-08,  4.73815170e-08,  5.14211102e-08,  5.54607034e-08,\n",
       "        5.95002966e-08,  6.35398899e-08,  6.75794831e-08,  7.16190763e-08,\n",
       "        7.56586695e-08,  7.96982627e-08,  8.37378559e-08,  8.77774491e-08,\n",
       "        9.18170423e-08,  9.58566355e-08,  9.98962287e-08,  1.03935822e-07,\n",
       "        1.07975415e-07,  1.12015008e-07,  1.16054602e-07,  1.20094195e-07,\n",
       "        1.24133788e-07,  1.28173381e-07,  1.32212974e-07,  1.36252568e-07,\n",
       "        1.40292161e-07,  1.44331754e-07,  1.48371347e-07,  1.52410940e-07,\n",
       "        1.56450534e-07,  1.60490127e-07,  1.64529720e-07,  1.68569313e-07,\n",
       "        1.72608906e-07,  1.76648500e-07,  1.80688093e-07,  1.84727686e-07,\n",
       "        1.88767279e-07,  1.92806873e-07,  1.96846466e-07,  2.00886059e-07,\n",
       "        2.04925652e-07,  2.08965245e-07,  2.13004839e-07,  2.17044432e-07,\n",
       "        2.21084025e-07,  2.25123618e-07,  2.29163211e-07,  2.33202805e-07,\n",
       "        2.37242398e-07,  2.41281991e-07,  2.45321584e-07,  2.49361177e-07,\n",
       "        2.53400771e-07,  2.57440364e-07,  2.61479957e-07,  2.65519550e-07,\n",
       "        2.69559144e-07,  2.73598737e-07,  2.77638330e-07,  2.81677923e-07,\n",
       "        2.85717516e-07,  2.89757110e-07,  2.93796703e-07,  2.97836296e-07,\n",
       "        3.01875889e-07,  3.05915482e-07,  3.09955076e-07,  3.13994669e-07,\n",
       "        3.18034262e-07,  3.22073855e-07,  3.26113448e-07,  3.30153042e-07,\n",
       "        3.34192635e-07,  3.38232228e-07,  3.42271821e-07,  3.46311414e-07,\n",
       "        3.50351008e-07,  3.54390601e-07,  3.58430194e-07,  3.62469787e-07,\n",
       "        3.66509381e-07,  3.70548974e-07,  3.74588567e-07,  3.78628160e-07,\n",
       "        3.82667753e-07,  3.86707347e-07,  3.90746940e-07,  3.94786533e-07,\n",
       "        3.98826126e-07,  4.02865719e-07,  4.06905313e-07,  4.10944906e-07,\n",
       "        4.14984499e-07,  4.19024092e-07,  4.23063685e-07,  4.27103279e-07,\n",
       "        4.31142872e-07,  4.35182465e-07,  4.39222058e-07,  4.43261651e-07,\n",
       "        4.47301245e-07,  4.51340838e-07,  4.55380431e-07,  4.59420024e-07,\n",
       "        4.63459618e-07,  4.67499211e-07,  4.71538804e-07,  4.75578397e-07,\n",
       "        4.79617990e-07,  4.83657584e-07,  4.87697177e-07,  4.91736770e-07,\n",
       "        4.95776363e-07,  4.99815956e-07,  5.03855550e-07,  5.07895143e-07,\n",
       "        5.11934736e-07,  5.15974329e-07,  5.20013922e-07,  5.24053516e-07,\n",
       "        5.28093109e-07,  5.32132702e-07,  5.36172295e-07,  5.40211889e-07,\n",
       "        5.44251482e-07,  5.48291075e-07,  5.52330668e-07,  5.56370261e-07,\n",
       "        5.60409855e-07,  5.64449448e-07,  5.68489041e-07,  5.72528634e-07,\n",
       "        5.76568227e-07,  5.80607821e-07,  5.84647414e-07,  5.88687007e-07,\n",
       "        5.92726600e-07,  5.96766193e-07,  6.00805787e-07,  6.04845380e-07,\n",
       "        6.08884973e-07,  6.12924566e-07,  6.16964159e-07,  6.21003753e-07,\n",
       "        6.25043346e-07,  6.29082939e-07,  6.33122532e-07,  6.37162126e-07,\n",
       "        6.41201719e-07,  6.45241312e-07,  6.49280905e-07,  6.53320498e-07,\n",
       "        6.57360092e-07,  6.61399685e-07,  6.65439278e-07,  6.69478871e-07,\n",
       "        6.73518464e-07,  6.77558058e-07,  6.81597651e-07,  6.85637244e-07,\n",
       "        6.89676837e-07,  6.93716430e-07,  6.97756024e-07,  7.01795617e-07,\n",
       "        7.05835210e-07,  7.09874803e-07,  7.13914396e-07,  7.17953990e-07,\n",
       "        7.21993583e-07,  7.26033176e-07,  7.30072769e-07,  7.34112363e-07,\n",
       "        7.38151956e-07,  7.42191549e-07,  7.46231142e-07,  7.50270735e-07,\n",
       "        7.54310329e-07,  7.58349922e-07,  7.62389515e-07,  7.66429108e-07,\n",
       "        7.70468701e-07,  7.74508295e-07,  7.78547888e-07,  7.82587481e-07,\n",
       "        7.86627074e-07,  7.90666667e-07,  7.94706261e-07,  7.98745854e-07,\n",
       "        8.02785447e-07,  8.06825040e-07,  8.10864634e-07,  8.14904227e-07,\n",
       "        8.18943820e-07,  8.22983413e-07,  8.27023006e-07,  8.31062600e-07,\n",
       "        8.35102193e-07,  8.39141786e-07,  8.43181379e-07,  8.47220972e-07,\n",
       "        8.51260566e-07,  8.55300159e-07,  8.59339752e-07,  8.63379345e-07,\n",
       "        8.67418938e-07,  8.71458532e-07,  8.75498125e-07,  8.79537718e-07,\n",
       "        8.83577311e-07,  8.87616904e-07,  8.91656498e-07,  8.95696091e-07,\n",
       "        8.99735684e-07,  9.03775277e-07,  9.07814871e-07,  9.11854464e-07,\n",
       "        9.15894057e-07,  9.19933650e-07,  9.23973243e-07,  9.28012837e-07,\n",
       "        9.32052430e-07,  9.36092023e-07,  9.40131616e-07,  9.44171209e-07,\n",
       "        9.48210803e-07,  9.52250396e-07,  9.56289989e-07,  9.60329582e-07,\n",
       "        9.64369175e-07,  9.68408769e-07,  9.72448362e-07,  9.76487955e-07,\n",
       "        9.80527548e-07,  9.84567141e-07,  9.88606735e-07,  9.92646328e-07,\n",
       "        9.96685921e-07,  1.00072551e-06,  1.00476511e-06,  1.00880470e-06,\n",
       "        1.01284429e-06,  1.01688389e-06,  1.02092348e-06,  1.02496307e-06,\n",
       "        1.02900267e-06,  1.03304226e-06,  1.03708185e-06,  1.04112145e-06,\n",
       "        1.04516104e-06,  1.04920063e-06,  1.05324023e-06,  1.05727982e-06,\n",
       "        1.06131941e-06,  1.06535901e-06,  1.06939860e-06,  1.07343819e-06,\n",
       "        1.07747779e-06,  1.08151738e-06,  1.08555697e-06,  1.08959656e-06,\n",
       "        1.09363616e-06,  1.09767575e-06,  1.10171534e-06,  1.10575494e-06,\n",
       "        1.10979453e-06,  1.11383412e-06,  1.11787372e-06,  1.12191331e-06,\n",
       "        1.12595290e-06,  1.12999250e-06,  1.13403209e-06,  1.13807168e-06,\n",
       "        1.14211128e-06,  1.14615087e-06,  1.15019046e-06,  1.15423006e-06,\n",
       "        1.15826965e-06,  1.16230924e-06,  1.16634884e-06,  1.17038843e-06,\n",
       "        1.17442802e-06,  1.17846762e-06,  1.18250721e-06,  1.18654680e-06,\n",
       "        1.19058640e-06,  1.19462599e-06,  1.19866558e-06,  1.20270517e-06,\n",
       "        1.20674477e-06,  1.21078436e-06,  1.21482395e-06,  1.21886355e-06,\n",
       "        1.22290314e-06,  1.22694273e-06,  1.23098233e-06,  1.23502192e-06,\n",
       "        1.23906151e-06,  1.24310111e-06,  1.24714070e-06,  1.25118029e-06,\n",
       "        1.25521989e-06,  1.25925948e-06,  1.26329907e-06,  1.26733867e-06,\n",
       "        1.27137826e-06,  1.27541785e-06,  1.27945745e-06,  1.28349704e-06,\n",
       "        1.28753663e-06,  1.29157623e-06,  1.29561582e-06,  1.29965541e-06,\n",
       "        1.30369500e-06,  1.30773460e-06,  1.31177419e-06,  1.31581378e-06,\n",
       "        1.31985338e-06,  1.32389297e-06,  1.32793256e-06,  1.33197216e-06])"
      ]
     },
     "execution_count": 44,
     "metadata": {},
     "output_type": "execute_result"
    }
   ],
   "source": []
  },
  {
   "cell_type": "markdown",
   "metadata": {},
   "source": [
    "## Calculate quantile for each output variable"
   ]
  },
  {
   "cell_type": "code",
   "execution_count": 72,
   "metadata": {},
   "outputs": [
    {
     "data": {
      "text/plain": [
       "array([-2.70358146e-06,  1.33197216e-06])"
      ]
     },
     "execution_count": 72,
     "metadata": {},
     "output_type": "execute_result"
    }
   ],
   "source": [
    "train_data['vars'][:,-91].quantile(np.array([0,1])).values"
   ]
  },
  {
   "cell_type": "code",
   "execution_count": 21,
   "metadata": {},
   "outputs": [],
   "source": [
    "quantile_array = np.linspace(0,1,1001)"
   ]
  },
  {
   "cell_type": "code",
   "execution_count": 22,
   "metadata": {},
   "outputs": [],
   "source": [
    "PERC_array = np.zeros((1001,184))"
   ]
  },
  {
   "cell_type": "code",
   "execution_count": 74,
   "metadata": {},
   "outputs": [
    {
     "name": "stdout",
     "output_type": "stream",
     "text": [
      "ivar= 213            \r"
     ]
    }
   ],
   "source": [
    "for ivar in range(214):\n",
    "    print('ivar=',ivar,'           ',end='\\r')\n",
    "    PERC_array[:,ivar] = train_data['vars'][:,ivar].quantile(quantile_array).values"
   ]
  },
  {
   "cell_type": "code",
   "execution_count": 75,
   "metadata": {},
   "outputs": [],
   "source": [
    "pathPKL = '/export/home/tbeucler/CBRAIN-CAM/notebooks/tbeucler_devlog/PKL_DATA'\n",
    "\n",
    "hf = open(pathPKL+'2021_01_24_O3_TRAIN_shuffle'+'_PERC.pkl','wb')\n",
    "\n",
    "F_data = {'quantile_array':quantile_array,'PERC_array':PERC_array}\n",
    "\n",
    "pickle.dump(F_data,hf)\n",
    "hf.close()"
   ]
  },
  {
   "cell_type": "code",
   "execution_count": 76,
   "metadata": {},
   "outputs": [
    {
     "data": {
      "text/plain": [
       "{'quantile_array': array([0.   , 0.001, 0.002, ..., 0.998, 0.999, 1.   ]),\n",
       " 'PERC_array': array([[9.94927973e-07, 9.68830705e-07, 4.62277796e-07, ...,\n",
       "         0.00000000e+00, 0.00000000e+00, 0.00000000e+00],\n",
       "        [9.99745453e-07, 9.85569386e-07, 5.24233599e-07, ...,\n",
       "         0.00000000e+00, 0.00000000e+00, 0.00000000e+00],\n",
       "        [1.00150617e-06, 9.87641442e-07, 5.24234395e-07, ...,\n",
       "         0.00000000e+00, 0.00000000e+00, 0.00000000e+00],\n",
       "        ...,\n",
       "        [1.77804845e-06, 1.73643605e-06, 1.46164996e-06, ...,\n",
       "         4.32690976e-05, 4.00223369e-05, 3.74600383e-05],\n",
       "        [1.78130600e-06, 1.74002975e-06, 1.46422724e-06, ...,\n",
       "         6.53455651e-05, 7.07500345e-05, 9.00195526e-05],\n",
       "        [1.79556821e-06, 1.75865364e-06, 1.48329934e-06, ...,\n",
       "         5.22865215e-04, 5.47407486e-04, 6.19579223e-04]])}"
      ]
     },
     "execution_count": 76,
     "metadata": {},
     "output_type": "execute_result"
    }
   ],
   "source": [
    "F_data"
   ]
  },
  {
   "cell_type": "code",
   "execution_count": 79,
   "metadata": {},
   "outputs": [
    {
     "data": {
      "text/plain": [
       "array([-2.70358146e-06, -5.69551777e-07, -4.80656313e-07, ...,\n",
       "        4.20529032e-07,  4.78835986e-07,  1.33197216e-06])"
      ]
     },
     "execution_count": 79,
     "metadata": {},
     "output_type": "execute_result"
    }
   ],
   "source": [
    "F_data['PERC_array'][:,-91]"
   ]
  },
  {
   "cell_type": "markdown",
   "metadata": {},
   "source": [
    "## Repeat for every dataset"
   ]
  },
  {
   "cell_type": "code",
   "execution_count": 23,
   "metadata": {},
   "outputs": [],
   "source": [
    "pathPKL = '/export/home/tbeucler/CBRAIN-CAM/notebooks/tbeucler_devlog/PKL_DATA'"
   ]
  },
  {
   "cell_type": "code",
   "execution_count": 24,
   "metadata": {},
   "outputs": [],
   "source": [
    "quantile_array = np.linspace(0,1,1001)"
   ]
  },
  {
   "cell_type": "code",
   "execution_count": 31,
   "metadata": {},
   "outputs": [],
   "source": [
    "path_array = [\n",
    "    '2021_04_18_RG_TRAIN_M4K_shuffle.nc',\n",
    "    '2021_04_18_RG_VALID_M4K.nc',\n",
    "    '2021_04_18_RG_TEST_M4K.nc',\n",
    "    '2021_04_18_RG_TRAIN_P4K_shuffle.nc',\n",
    "    '2021_04_18_RG_VALID_P4K.nc',\n",
    "    '2021_04_18_RG_TEST_P4K.nc'\n",
    "]"
   ]
  },
  {
   "cell_type": "code",
   "execution_count": 32,
   "metadata": {},
   "outputs": [],
   "source": [
    "#path_array = [\n",
    "#     '2021_03_18_O3_TRAIN_M4K_shuffle.nc',\n",
    "#     '2021_03_18_O3_VALID_M4K.nc',\n",
    "#     '2021_03_18_O3_TEST_P4K.nc',\n",
    "#     '2021_01_24_O3_TRAIN_shuffle.nc',\n",
    "#     '2021_03_18_O3_TEST_M4K.nc',\n",
    "#     '2021_01_24_O3_VALID.nc',\n",
    "#     '2021_01_24_O3_TEST.nc',\n",
    "#     '2021_03_18_O3_TRAIN_P4K_shuffle.nc',\n",
    "#    '2021_03_18_O3_VALID_P4K.nc'\n",
    "#]"
   ]
  },
  {
   "cell_type": "code",
   "execution_count": 33,
   "metadata": {},
   "outputs": [],
   "source": [
    "Ninput = 184"
   ]
  },
  {
   "cell_type": "code",
   "execution_count": 34,
   "metadata": {},
   "outputs": [
    {
     "data": {
      "text/plain": [
       "184"
      ]
     },
     "execution_count": 34,
     "metadata": {},
     "output_type": "execute_result"
    }
   ],
   "source": [
    "Ninput"
   ]
  },
  {
   "cell_type": "code",
   "execution_count": 35,
   "metadata": {},
   "outputs": [
    {
     "data": {
      "text/plain": [
       "['2021_04_18_RG_TRAIN_M4K_shuffle.nc',\n",
       " '2021_04_18_RG_VALID_M4K.nc',\n",
       " '2021_04_18_RG_TEST_M4K.nc',\n",
       " '2021_04_18_RG_TRAIN_P4K_shuffle.nc',\n",
       " '2021_04_18_RG_VALID_P4K.nc',\n",
       " '2021_04_18_RG_TEST_P4K.nc']"
      ]
     },
     "execution_count": 35,
     "metadata": {},
     "output_type": "execute_result"
    }
   ],
   "source": [
    "path_array"
   ]
  },
  {
   "cell_type": "code",
   "execution_count": 36,
   "metadata": {},
   "outputs": [
    {
     "name": "stdout",
     "output_type": "stream",
     "text": [
      "ipath= 0 path= 2021_04_18_RG_TRAIN_M4K_shuffle.nc      \n",
      "ivar= 183            \n",
      "\n",
      "ipath= 1 path= 2021_04_18_RG_VALID_M4K.nc      \n",
      "ivar= 183            \n",
      "\n",
      "ipath= 2 path= 2021_04_18_RG_TEST_M4K.nc      \n",
      "ivar= 183            \n",
      "\n",
      "ipath= 3 path= 2021_04_18_RG_TRAIN_P4K_shuffle.nc      \n",
      "ivar= 183            \n",
      "\n",
      "ipath= 4 path= 2021_04_18_RG_VALID_P4K.nc      \n",
      "ivar= 183            \n",
      "\n",
      "ipath= 5 path= 2021_04_18_RG_TEST_P4K.nc      \n",
      "ivar= 183            \n",
      "\n"
     ]
    }
   ],
   "source": [
    "for ipath,path in enumerate(path_array):\n",
    "    print('ipath=',ipath,'path=',path,'     ',end='\\n')\n",
    "    \n",
    "    path_var = path_data + path \n",
    "    train_data = xr.open_dataset(path_var)\n",
    "    \n",
    "    PERC_array = np.zeros((1001,Ninput))\n",
    "    \n",
    "    for ivar in range(Ninput):\n",
    "        print('ivar=',ivar,'           ',end='\\r')\n",
    "        PERC_array[:,ivar] = train_data['vars'][:,ivar].quantile(quantile_array).values\n",
    "    \n",
    "    hf = open(pathPKL+'/'+path+'_PERC.pkl','wb')\n",
    "\n",
    "    F_data = {'quantile_array':quantile_array,'PERC_array':PERC_array}\n",
    "\n",
    "    pickle.dump(F_data,hf)\n",
    "    hf.close()\n",
    "    print('\\n')"
   ]
  },
  {
   "cell_type": "markdown",
   "metadata": {},
   "source": [
    "# Test interpolation onto percentile array"
   ]
  },
  {
   "cell_type": "markdown",
   "metadata": {},
   "source": [
    "Directly test in preprocessing mode to facilitate duplication of training/validation/test in percentile space"
   ]
  },
  {
   "cell_type": "markdown",
   "metadata": {},
   "source": [
    "## Testing different interpolation functions"
   ]
  },
  {
   "cell_type": "markdown",
   "metadata": {},
   "source": [
    "### Imports"
   ]
  },
  {
   "cell_type": "code",
   "execution_count": 13,
   "metadata": {},
   "outputs": [],
   "source": [
    "pathPKL_train = pathPKL + '/PKL_DATA2021_03_18_O3_TRAIN_M4K_shuffle.nc_PERC.pkl'\n",
    "pathPKL_test = pathPKL + '/PKL_DATA2021_03_18_O3_TEST_P4K.nc_PERC.pkl'"
   ]
  },
  {
   "cell_type": "code",
   "execution_count": 25,
   "metadata": {},
   "outputs": [],
   "source": [
    "hf = open(pathPKL_train,'rb')\n",
    "tmp = pickle.load(hf)\n",
    "PERC_array = tmp['PERC_array']\n",
    "quantile_array = tmp['quantile_array']"
   ]
  },
  {
   "cell_type": "code",
   "execution_count": 15,
   "metadata": {},
   "outputs": [
    {
     "data": {
      "text/plain": [
       "(1001, 214)"
      ]
     },
     "execution_count": 15,
     "metadata": {},
     "output_type": "execute_result"
    }
   ],
   "source": [
    "PERC_array.shape"
   ]
  },
  {
   "cell_type": "markdown",
   "metadata": {},
   "source": [
    "### Load small data"
   ]
  },
  {
   "cell_type": "code",
   "execution_count": 20,
   "metadata": {},
   "outputs": [],
   "source": [
    "path_dm4K = '/DFS-L/DATA/pritchard/tbeucler/SPCAM/sp8fbp_minus4k/sp8fbp_minus4k.cam2.h2.'\n",
    "ds = xr.open_mfdataset(path_dm4K+'0001-01-05-00000.nc',\\\n",
    "                          decode_times=False)"
   ]
  },
  {
   "cell_type": "code",
   "execution_count": 21,
   "metadata": {},
   "outputs": [],
   "source": [
    "var0 = ds['PHQ'][1:]"
   ]
  },
  {
   "cell_type": "code",
   "execution_count": 57,
   "metadata": {},
   "outputs": [],
   "source": [
    "import numpy as np\n",
    "from scipy.interpolate import interp1d\n",
    "import scipy"
   ]
  },
  {
   "cell_type": "markdown",
   "metadata": {},
   "source": [
    "class scipy.interpolate.interp1d(x, y, kind='linear', axis=- 1, copy=True, bounds_error=None, fill_value=nan, assume_sorted=False)[source]"
   ]
  },
  {
   "cell_type": "code",
   "execution_count": 40,
   "metadata": {},
   "outputs": [],
   "source": [
    "var_interp = interp1d(x=PERC_array[:,-91],y=quantile_array)"
   ]
  },
  {
   "cell_type": "code",
   "execution_count": 41,
   "metadata": {},
   "outputs": [],
   "source": [
    "scale_dict = load_pickle('/export/home/tbeucler/CBRAIN-CAM/nn_config/scale_dicts/009_Wm2_scaling.pkl')"
   ]
  },
  {
   "cell_type": "code",
   "execution_count": 42,
   "metadata": {},
   "outputs": [
    {
     "data": {
      "text/plain": [
       "array([7.0811688e+07, 1.3074196e+08, 2.1416970e+08, 3.0895507e+08,\n",
       "       3.8762451e+08, 4.4520458e+08, 4.4321341e+08, 3.6317286e+08,\n",
       "       4.2725360e+08, 5.0264173e+08, 5.9133267e+08, 6.9567149e+08,\n",
       "       8.1842150e+08, 9.6283104e+08, 1.1327212e+09, 1.3325868e+09,\n",
       "       1.5677202e+09, 1.8443410e+09, 2.1697720e+09, 2.1706406e+09,\n",
       "       1.9922205e+09, 1.6811768e+09, 1.2494753e+09, 7.2336192e+08,\n",
       "       6.7863763e+08, 6.2842387e+08, 5.7302957e+08, 5.1279936e+08,\n",
       "       4.4820160e+08, 3.7970438e+08], dtype=float32)"
      ]
     },
     "execution_count": 42,
     "metadata": {},
     "output_type": "execute_result"
    }
   ],
   "source": [
    "scale_dict['PHQ']"
   ]
  },
  {
   "cell_type": "code",
   "execution_count": 43,
   "metadata": {},
   "outputs": [
    {
     "data": {
      "image/png": "[encoded data removed]",
      "text/plain": [
       "<Figure size 432x288 with 1 Axes>"
      ]
     },
     "metadata": {
      "needs_background": "light"
     },
     "output_type": "display_data"
    }
   ],
   "source": [
    "plt.hist(scale_dict['PHQ'][-1]*PERC_array[:,-91],bins=100);"
   ]
  },
  {
   "cell_type": "code",
   "execution_count": 44,
   "metadata": {},
   "outputs": [
    {
     "data": {
      "text/plain": [
       "(47, 30, 64, 128)"
      ]
     },
     "execution_count": 44,
     "metadata": {},
     "output_type": "execute_result"
    }
   ],
   "source": [
    "var0.shape"
   ]
  },
  {
   "cell_type": "code",
   "execution_count": 45,
   "metadata": {},
   "outputs": [],
   "source": [
    "var0_afterinterp = var_interp(var0[:,-1,:,:])"
   ]
  },
  {
   "cell_type": "code",
   "execution_count": 47,
   "metadata": {},
   "outputs": [
    {
     "data": {
      "text/plain": [
       "(47, 64, 128)"
      ]
     },
     "execution_count": 47,
     "metadata": {},
     "output_type": "execute_result"
    }
   ],
   "source": [
    "var0_afterinterp.shape"
   ]
  },
  {
   "cell_type": "code",
   "execution_count": 50,
   "metadata": {},
   "outputs": [
    {
     "data": {
      "image/png": "[encoded data removed]",
      "text/plain": [
       "<Figure size 432x288 with 1 Axes>"
      ]
     },
     "metadata": {
      "needs_background": "light"
     },
     "output_type": "display_data"
    }
   ],
   "source": [
    "plt.hist(var0_afterinterp.flatten(),bins=100);"
   ]
  },
  {
   "cell_type": "code",
   "execution_count": 51,
   "metadata": {},
   "outputs": [],
   "source": [
    "path_dm4K = '/DFS-L/DATA/pritchard/tbeucler/SPCAM/sp8fbp_minus4k/sp8fbp_minus4k.cam2.h2.'\n",
    "ds = xr.open_mfdataset(path_dm4K+'0001-03-22-00000.nc',\\\n",
    "                          decode_times=False)"
   ]
  },
  {
   "cell_type": "code",
   "execution_count": 52,
   "metadata": {},
   "outputs": [
    {
     "data": {
      "image/png": "[encoded data removed]",
      "text/plain": [
       "<Figure size 432x288 with 1 Axes>"
      ]
     },
     "metadata": {
      "needs_background": "light"
     },
     "output_type": "display_data"
    }
   ],
   "source": [
    "plt.hist((var_interp(ds['PHQ'][:,-1,:,:])).flatten(),bins=100);"
   ]
  },
  {
   "cell_type": "code",
   "execution_count": 60,
   "metadata": {},
   "outputs": [],
   "source": [
    "var_interp = interp1d(x=PERC_array[:,-1],y=quantile_array,fill_value=(0,1))"
   ]
  },
  {
   "cell_type": "code",
   "execution_count": 64,
   "metadata": {},
   "outputs": [],
   "source": [
    "var_interp._extrapolate='True'"
   ]
  },
  {
   "cell_type": "code",
   "execution_count": 65,
   "metadata": {},
   "outputs": [
    {
     "data": {
      "image/png": "[encoded data removed]",
      "text/plain": [
       "<Figure size 432x288 with 1 Axes>"
      ]
     },
     "metadata": {
      "needs_background": "light"
     },
     "output_type": "display_data"
    }
   ],
   "source": [
    "plt.hist((var_interp(ds['QRS'][:,-1,:,:])).flatten(),bins=100);"
   ]
  },
  {
   "cell_type": "code",
   "execution_count": 66,
   "metadata": {},
   "outputs": [],
   "source": [
    "var_interp = interp1d(x=PERC_array[:,-31],y=quantile_array,fill_value=(0,1))"
   ]
  },
  {
   "cell_type": "markdown",
   "metadata": {},
   "source": [
    "plt.hist((var_interp(ds['QRL'][:,-1,:,:])).flatten(),bins=100);"
   ]
  },
  {
   "cell_type": "markdown",
   "metadata": {},
   "source": [
    "## Check with original dataset"
   ]
  },
  {
   "cell_type": "code",
   "execution_count": null,
   "metadata": {},
   "outputs": [],
   "source": []
  },
  {
   "cell_type": "code",
   "execution_count": 8,
   "metadata": {},
   "outputs": [],
   "source": [
    "path_array = [\n",
    "#    '2021_03_18_O3_TRAIN_M4K_shuffle.nc',\n",
    "#    '2021_03_18_O3_VALID_M4K.nc',\n",
    "    '2021_03_18_O3_TEST_P4K.nc',\n",
    "#    '2021_01_24_O3_TRAIN_shuffle.nc',\n",
    "#    '2021_03_18_O3_TEST_M4K.nc',\n",
    "#    '2021_01_24_O3_VALID.nc',\n",
    "#    '2021_01_24_O3_TEST.nc',\n",
    "#    '2021_03_18_O3_TRAIN_P4K_shuffle.nc',\n",
    "#    '2021_03_18_O3_VALID_P4K.nc'\n",
    "]"
   ]
  },
  {
   "cell_type": "code",
   "execution_count": 10,
   "metadata": {},
   "outputs": [
    {
     "name": "stdout",
     "output_type": "stream",
     "text": [
      "ipath= 0 path= 2021_03_18_O3_TEST_P4K.nc      \n"
     ]
    }
   ],
   "source": [
    "for ipath,path in enumerate(path_array):\n",
    "    print('ipath=',ipath,'path=',path,'     ',end='\\n')\n",
    "    \n",
    "    path_var = path_data + path \n",
    "    train_data = xr.open_dataset(path_var)\n",
    "    \n",
    "    hf = open(pathPKL+'/'+path+'_PERC.pkl','rb')\n",
    "    tmp = pickle.load(hf)\n",
    "    \n",
    "    PERC_array = tmp['PERC_array']\n",
    "    quantile_array = tmp['quantile_array']"
   ]
  },
  {
   "cell_type": "code",
   "execution_count": 12,
   "metadata": {},
   "outputs": [],
   "source": [
    "import numpy as np\n",
    "from scipy.interpolate import interp1d\n",
    "import scipy"
   ]
  },
  {
   "cell_type": "code",
   "execution_count": 13,
   "metadata": {},
   "outputs": [],
   "source": [
    "interp_fx = interp1d(x=PERC_array[:,-91],y=quantile_array)"
   ]
  },
  {
   "cell_type": "code",
   "execution_count": 14,
   "metadata": {},
   "outputs": [
    {
     "data": {
      "image/png": "[encoded data removed]",
      "text/plain": [
       "<Figure size 432x288 with 1 Axes>"
      ]
     },
     "metadata": {
      "needs_background": "light"
     },
     "output_type": "display_data"
    }
   ],
   "source": [
    "plt.hist((interp_fx(train_data['vars'][:,-91])).flatten(),bins=100);"
   ]
  },
  {
   "cell_type": "markdown",
   "metadata": {},
   "source": [
    "## Develop preprocessing routine for convert_dataset_20191113"
   ]
  },
  {
   "cell_type": "markdown",
   "metadata": {},
   "source": [
    "TODO = Test\n",
    "def compute_perc(ds, var, PERC_array, quantile_array):\n",
    "    \n",
    "    from scipy.interpolate import interp1d\n",
    "    \n",
    "    # Load variable from dataset\n",
    "    var0 = ds[var[:-4]][1:]\n",
    "    # Manually entering ranges for each variable: \n",
    "    # This should change and PERC_array should be a dictionary with varianble names\n",
    "    i0 = {}\n",
    "    i0['PHQ'] = 94\n",
    "    i0['TPHYSTND'] = 124\n",
    "    i0['QRL'] = 154\n",
    "    i0['QRS'] = 184\n",
    "    \n",
    "    # Project onto 1D percentile space to form the output\n",
    "    output_percentile = 0*var0**0 # Initialization\n",
    "    for ilev in range(var0.shape[1]):\n",
    "        print('Interpolating level ',ilev,'out of ',var0.shape[1])\n",
    "        interp_fx = interp1d(x=PERC_array[:,i0[var[:-4]]+ilev,:,:],y=quantile_array)\n",
    "        output_percentile[:,ilev,:,:] = interp_fx(var0[:,ilev,:,:])\n",
    "        \n",
    "    return output_percentile"
   ]
  },
  {
   "cell_type": "markdown",
   "metadata": {},
   "source": [
    "Load dataset"
   ]
  },
  {
   "cell_type": "code",
   "execution_count": 32,
   "metadata": {},
   "outputs": [],
   "source": [
    "path_PERC = pathPKL+'/'+'2021_03_18_O3_TRAIN_M4K_shuffle.nc'+'_PERC.pkl'"
   ]
  },
  {
   "cell_type": "code",
   "execution_count": 33,
   "metadata": {},
   "outputs": [
    {
     "data": {
      "text/plain": [
       "'/export/home/tbeucler/CBRAIN-CAM/notebooks/tbeucler_devlog/PKL_DATA/2021_03_18_O3_TRAIN_M4K_shuffle.nc_PERC.pkl'"
      ]
     },
     "execution_count": 33,
     "metadata": {},
     "output_type": "execute_result"
    }
   ],
   "source": [
    "path_PERC"
   ]
  },
  {
   "cell_type": "code",
   "execution_count": 34,
   "metadata": {},
   "outputs": [],
   "source": [
    "import pickle\n",
    "hf = open(path_PERC,'rb')\n",
    "tmp = pickle.load(hf)\n",
    "PERC_array = tmp['PERC_array']\n",
    "quantile_array = tmp['quantile_array']"
   ]
  },
  {
   "cell_type": "code",
   "execution_count": 17,
   "metadata": {},
   "outputs": [],
   "source": [
    "path_m4K_file = '/DFS-L/DATA/pritchard/tbeucler/SPCAM//sp8fbp_minus4k/sp8fbp_minus4k.cam2.h2.00'"
   ]
  },
  {
   "cell_type": "code",
   "execution_count": 18,
   "metadata": {},
   "outputs": [],
   "source": [
    "datam4K = xr.open_mfdataset(path_m4K_file+'01-06-1*-00000.nc')"
   ]
  },
  {
   "cell_type": "code",
   "execution_count": 125,
   "metadata": {},
   "outputs": [],
   "source": [
    "var = 'QRLPERC'\n",
    "ds = datam4K"
   ]
  },
  {
   "cell_type": "code",
   "execution_count": 126,
   "metadata": {},
   "outputs": [],
   "source": [
    "var0 = ds[var[:-4]][1:]"
   ]
  },
  {
   "cell_type": "code",
   "execution_count": 127,
   "metadata": {},
   "outputs": [
    {
     "data": {
      "text/plain": [
       "<xarray.DataArray 'QRL' (time: 479, lev: 30, lat: 64, lon: 128)>\n",
       "dask.array<shape=(479, 30, 64, 128), dtype=float32, chunksize=(47, 30, 64, 128)>\n",
       "Coordinates:\n",
       "  * lat      (lat) float64 -87.86 -85.1 -82.31 -79.53 ... 79.53 82.31 85.1 87.86\n",
       "  * lon      (lon) float64 0.0 2.812 5.625 8.438 ... 348.8 351.6 354.4 357.2\n",
       "  * lev      (lev) float64 3.643 7.595 14.36 24.61 ... 936.2 957.5 976.3 992.6\n",
       "  * time     (time) object 0001-06-10 00:30:00 ... 0001-06-19 23:29:59\n",
       "Attributes:\n",
       "    units:      K/s\n",
       "    long_name:  Longwave heating rate"
      ]
     },
     "execution_count": 127,
     "metadata": {},
     "output_type": "execute_result"
    }
   ],
   "source": [
    "var0"
   ]
  },
  {
   "cell_type": "code",
   "execution_count": 24,
   "metadata": {},
   "outputs": [],
   "source": [
    "i0 = {}\n",
    "i0['PHQ'] = 94\n",
    "i0['TPHYSTND'] = 124\n",
    "i0['QRL'] = 154\n",
    "i0['QRS'] = 184"
   ]
  },
  {
   "cell_type": "code",
   "execution_count": 25,
   "metadata": {},
   "outputs": [],
   "source": [
    "output_percentile = 0*var0**0 # Initialization"
   ]
  },
  {
   "cell_type": "code",
   "execution_count": 36,
   "metadata": {},
   "outputs": [],
   "source": [
    "S = var0.shape[1]"
   ]
  },
  {
   "cell_type": "code",
   "execution_count": 37,
   "metadata": {},
   "outputs": [
    {
     "data": {
      "text/plain": [
       "30"
      ]
     },
     "execution_count": 37,
     "metadata": {},
     "output_type": "execute_result"
    }
   ],
   "source": [
    "S"
   ]
  },
  {
   "cell_type": "code",
   "execution_count": 79,
   "metadata": {},
   "outputs": [],
   "source": [
    "ilev = 29"
   ]
  },
  {
   "cell_type": "code",
   "execution_count": 80,
   "metadata": {},
   "outputs": [],
   "source": [
    "interp_fx = interp1d(x=PERC_array[:,i0[var[:-4]]+ilev],y=quantile_array)"
   ]
  },
  {
   "cell_type": "code",
   "execution_count": 81,
   "metadata": {},
   "outputs": [
    {
     "data": {
      "text/plain": [
       "<scipy.interpolate.interpolate.interp1d at 0x7fd6c4630728>"
      ]
     },
     "execution_count": 81,
     "metadata": {},
     "output_type": "execute_result"
    }
   ],
   "source": [
    "interp_fx"
   ]
  },
  {
   "cell_type": "code",
   "execution_count": 82,
   "metadata": {},
   "outputs": [
    {
     "data": {
      "text/plain": [
       "<xarray.DataArray 'PHQ' (time: 479, lev: 30, lat: 64, lon: 128)>\n",
       "dask.array<shape=(479, 30, 64, 128), dtype=float32, chunksize=(47, 30, 64, 128)>\n",
       "Coordinates:\n",
       "  * lat      (lat) float64 -87.86 -85.1 -82.31 -79.53 ... 79.53 82.31 85.1 87.86\n",
       "  * lon      (lon) float64 0.0 2.812 5.625 8.438 ... 348.8 351.6 354.4 357.2\n",
       "  * lev      (lev) float64 3.643 7.595 14.36 24.61 ... 936.2 957.5 976.3 992.6\n",
       "  * time     (time) object 0001-06-10 00:30:00 ... 0001-06-19 23:29:59\n",
       "Attributes:\n",
       "    units:      kg/kg/s\n",
       "    long_name:  Specific humidity physics tendency"
      ]
     },
     "execution_count": 82,
     "metadata": {},
     "output_type": "execute_result"
    }
   ],
   "source": [
    "var0"
   ]
  },
  {
   "cell_type": "code",
   "execution_count": 83,
   "metadata": {},
   "outputs": [
    {
     "data": {
      "text/plain": [
       "(479, 30, 64, 128)"
      ]
     },
     "execution_count": 83,
     "metadata": {},
     "output_type": "execute_result"
    }
   ],
   "source": [
    "var0.shape"
   ]
  },
  {
   "cell_type": "code",
   "execution_count": 84,
   "metadata": {},
   "outputs": [
    {
     "data": {
      "text/plain": [
       "(479, 64, 128)"
      ]
     },
     "execution_count": 84,
     "metadata": {},
     "output_type": "execute_result"
    }
   ],
   "source": [
    "var0[:,ilev,:,:].shape"
   ]
  },
  {
   "cell_type": "code",
   "execution_count": 85,
   "metadata": {},
   "outputs": [],
   "source": [
    "var0_interp = interp_fx(var0[:,ilev,:,:])"
   ]
  },
  {
   "cell_type": "code",
   "execution_count": 92,
   "metadata": {},
   "outputs": [
    {
     "data": {
      "image/png": "[encoded data removed]",
      "text/plain": [
       "<Figure size 1080x360 with 3 Axes>"
      ]
     },
     "metadata": {
      "needs_background": "light"
     },
     "output_type": "display_data"
    }
   ],
   "source": [
    "fig,ax = plt.subplots(1,3,figsize=(15,5))\n",
    "ax[0].hist(var0[:,ilev,:,:].values.flatten(),bins=100);\n",
    "ax[1].hist(PERC_array[:,i0[var[:-4]]+ilev],bins=100);\n",
    "#ax[2].hist(var0_interp.flatten(),bins=100);"
   ]
  },
  {
   "cell_type": "code",
   "execution_count": 74,
   "metadata": {},
   "outputs": [
    {
     "data": {
      "text/plain": [
       "array([-2.81775812e-07, -7.93939854e-08, -6.59038065e-08, ...,\n",
       "        1.14236935e-08,  1.62509410e-08,  2.25147929e-07])"
      ]
     },
     "execution_count": 74,
     "metadata": {},
     "output_type": "execute_result"
    }
   ],
   "source": [
    "PERC_array[:,i0[var[:-4]]+ilev]"
   ]
  },
  {
   "cell_type": "code",
   "execution_count": 88,
   "metadata": {},
   "outputs": [
    {
     "data": {
      "text/plain": [
       "(479, 30, 64, 128)"
      ]
     },
     "execution_count": 88,
     "metadata": {},
     "output_type": "execute_result"
    }
   ],
   "source": [
    "var0.shape"
   ]
  },
  {
   "cell_type": "code",
   "execution_count": 128,
   "metadata": {},
   "outputs": [
    {
     "name": "stdout",
     "output_type": "stream",
     "text": [
      "Interpolating level  0 out of  30\n",
      "Interpolating level  1 out of  30\n",
      "Interpolating level  2 out of  30\n",
      "Interpolating level  3 out of  30\n",
      "Interpolating level  4 out of  30\n",
      "Interpolating level  5 out of  30\n",
      "Interpolating level  6 out of  30\n",
      "Interpolating level  7 out of  30\n",
      "Interpolating level  8 out of  30\n",
      "Interpolating level  9 out of  30\n",
      "Interpolating level  10 out of  30\n",
      "Interpolating level  11 out of  30\n",
      "Interpolating level  12 out of  30\n",
      "Interpolating level  13 out of  30\n",
      "Interpolating level  14 out of  30\n",
      "Interpolating level  15 out of  30\n",
      "Interpolating level  16 out of  30\n",
      "Interpolating level  17 out of  30\n",
      "Interpolating level  18 out of  30\n",
      "Interpolating level  19 out of  30\n",
      "Interpolating level  20 out of  30\n",
      "Interpolating level  21 out of  30\n",
      "Interpolating level  22 out of  30\n",
      "Interpolating level  23 out of  30\n",
      "Interpolating level  24 out of  30\n",
      "Interpolating level  25 out of  30\n",
      "Interpolating level  26 out of  30\n",
      "Interpolating level  27 out of  30\n",
      "Interpolating level  28 out of  30\n",
      "Interpolating level  29 out of  30\n"
     ]
    }
   ],
   "source": [
    "# Project onto 1D percentile space to form the output\n",
    "output_percentile = np.zeros(var0.shape) # Initialization\n",
    "for ilev in range(var0.shape[1]):\n",
    "    print('Interpolating level ',ilev,'out of ',var0.shape[1])\n",
    "    interp_fx = interp1d(x=PERC_array[:,i0[var[:-4]]+ilev],y=quantile_array,bounds_error=False)\n",
    "    output_percentile[:,ilev,:,:] = interp_fx(var0[:,ilev,:,:].values)"
   ]
  },
  {
   "cell_type": "code",
   "execution_count": 129,
   "metadata": {},
   "outputs": [],
   "source": [
    "output_percentile = output_percentile+0*var0**0"
   ]
  },
  {
   "cell_type": "code",
   "execution_count": 130,
   "metadata": {},
   "outputs": [
    {
     "data": {
      "text/plain": [
       "<xarray.DataArray 'QRL' (time: 479, lev: 30, lat: 64, lon: 128)>\n",
       "dask.array<shape=(479, 30, 64, 128), dtype=float64, chunksize=(47, 30, 64, 128)>\n",
       "Coordinates:\n",
       "  * lat      (lat) float64 -87.86 -85.1 -82.31 -79.53 ... 79.53 82.31 85.1 87.86\n",
       "  * lon      (lon) float64 0.0 2.812 5.625 8.438 ... 348.8 351.6 354.4 357.2\n",
       "  * lev      (lev) float64 3.643 7.595 14.36 24.61 ... 936.2 957.5 976.3 992.6\n",
       "  * time     (time) object 0001-06-10 00:30:00 ... 0001-06-19 23:29:59"
      ]
     },
     "execution_count": 130,
     "metadata": {},
     "output_type": "execute_result"
    }
   ],
   "source": [
    "output_percentile"
   ]
  },
  {
   "cell_type": "code",
   "execution_count": 131,
   "metadata": {},
   "outputs": [
    {
     "data": {
      "text/plain": [
       "4.4420296e-05"
      ]
     },
     "execution_count": 131,
     "metadata": {},
     "output_type": "execute_result"
    }
   ],
   "source": [
    "var0[:,ilev,:,:].values.max()"
   ]
  },
  {
   "cell_type": "code",
   "execution_count": 132,
   "metadata": {},
   "outputs": [
    {
     "data": {
      "text/plain": [
       "5.5037166021065786e-05"
      ]
     },
     "execution_count": 132,
     "metadata": {},
     "output_type": "execute_result"
    }
   ],
   "source": [
    "PERC_array[:,i0[var[:-4]]+ilev].max()"
   ]
  },
  {
   "cell_type": "code",
   "execution_count": 133,
   "metadata": {},
   "outputs": [],
   "source": [
    "ilev = 29"
   ]
  },
  {
   "cell_type": "code",
   "execution_count": 134,
   "metadata": {},
   "outputs": [
    {
     "data": {
      "image/png": "[encoded data removed]",
      "text/plain": [
       "<Figure size 1080x360 with 3 Axes>"
      ]
     },
     "metadata": {
      "needs_background": "light"
     },
     "output_type": "display_data"
    }
   ],
   "source": [
    "fig,ax = plt.subplots(1,3,figsize=(15,5))\n",
    "ax[0].hist(var0[:,ilev,:,:].values.flatten(),bins=100);\n",
    "ax[1].hist(PERC_array[:,i0[var[:-4]]+ilev],bins=100);\n",
    "ax[2].hist(output_percentile[:,ilev,:,:].values.flatten(),bins=100);"
   ]
  },
  {
   "cell_type": "code",
   "execution_count": null,
   "metadata": {},
   "outputs": [],
   "source": []
  }
 ],
 "metadata": {
  "kernelspec": {
   "display_name": "Python 3",
   "language": "python",
   "name": "python3"
  },
  "language_info": {
   "codemirror_mode": {
    "name": "ipython",
    "version": 3
   },
   "file_extension": ".py",
   "mimetype": "text/x-python",
   "name": "python",
   "nbconvert_exporter": "python",
   "pygments_lexer": "ipython3",
   "version": "3.7.3"
  },
  "toc": {
   "base_numbering": 1,
   "nav_menu": {},
   "number_sections": true,
   "sideBar": true,
   "skip_h1_title": false,
   "title_cell": "Table of Contents",
   "title_sidebar": "Contents",
   "toc_cell": false,
   "toc_position": {
    "height": "calc(100% - 180px)",
    "left": "10px",
    "top": "150px",
    "width": "409.6px"
   },
   "toc_section_display": true,
   "toc_window_display": true
  }
 },
 "nbformat": 4,
 "nbformat_minor": 2
}
