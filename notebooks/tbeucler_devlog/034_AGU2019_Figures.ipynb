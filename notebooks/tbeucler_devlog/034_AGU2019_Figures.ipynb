{
 "cells": [
  {
   "cell_type": "markdown",
   "metadata": {},
   "source": [
    "tgb - 12/4/2019 - Preparing Figures and Movies for AGU 2019"
   ]
  },
  {
   "cell_type": "markdown",
   "metadata": {},
   "source": [
    "# 0) Imports"
   ]
  },
  {
   "cell_type": "code",
   "execution_count": 1,
   "metadata": {},
   "outputs": [
    {
     "name": "stdout",
     "output_type": "stream",
     "text": [
      "[Errno 2] No such file or directory: '/filer/z-sv-pool12c/t/Tom.Beucler/SPCAM/CBRAIN-CAM'\n",
      "/data11/home/tbeucler/CBRAIN-CAM/notebooks/tbeucler_devlog\n"
     ]
    }
   ],
   "source": [
    "from cbrain.imports import *\n",
    "from cbrain.data_generator import *\n",
    "from cbrain.cam_constants import *\n",
    "from cbrain.losses import *\n",
    "from cbrain.utils import limit_mem\n",
    "from cbrain.layers import *\n",
    "from cbrain.data_generator import DataGenerator\n",
    "import tensorflow as tf\n",
    "import tensorflow.math as tfm\n",
    "#import tensorflow_probability as tfp\n",
    "from tensorflow.keras.layers import *\n",
    "from tensorflow.keras.models import *\n",
    "import xarray as xr\n",
    "import numpy as np\n",
    "from cbrain.model_diagnostics import ModelDiagnostics\n",
    "import matplotlib as mpl\n",
    "import matplotlib.pyplot as plt\n",
    "import matplotlib.image as imag\n",
    "import scipy.integrate as sin\n",
    "import cartopy.crs as ccrs\n",
    "import matplotlib.ticker as mticker\n",
    "from cartopy.mpl.gridliner import LONGITUDE_FORMATTER, LATITUDE_FORMATTER\n",
    "\n",
    "TRAINDIR = '/local/Tom.Beucler/SPCAM_PHYS/'\n",
    "DATADIR = '/project/meteo/w2w/A6/S.Rasp/SP-CAM/fluxbypass_aqua/'\n",
    "PREFIX = '8col009_01_'\n",
    "%cd /filer/z-sv-pool12c/t/Tom.Beucler/SPCAM/CBRAIN-CAM\n",
    "\n",
    "# Otherwise tensorflow will use ALL your GPU RAM for no reason\n",
    "limit_mem()"
   ]
  },
  {
   "cell_type": "markdown",
   "metadata": {},
   "source": [
    "# 1) Movie of convective heating and moistening from JNNL"
   ]
  },
  {
   "cell_type": "code",
   "execution_count": 32,
   "metadata": {},
   "outputs": [],
   "source": [
    "# Config and data files\n",
    "config_fn = '/filer/z-sv-pool12c/t/Tom.Beucler/SPCAM/CBRAIN-CAM/pp_config/8col_rad_tbeucler_local_PostProc.yml'\n",
    "data_fn_a = ['/local/Tom.Beucler/SPCAM_PHYS/8col009_01_valid.nc',\n",
    "             '/local/Tom.Beucler/SPCAM_PHYS/8col009_14_valid.nc',\n",
    "             '/local/Tom.Beucler/SPCAM_PHYS/8col009_31_valid.nc']\n",
    "data_ref = ['','4K','3Kw1']\n",
    "dict_lay = {'SurRadLayer':SurRadLayer,'MassConsLayer':MassConsLayer,'EntConsLayer':EntConsLayer,\\\n",
    "           'weak_loss_0':mse,'weak_loss_1':mse,'MassConsLayer_choice': MassConsLayer_choice,\\\n",
    "            'EntConsLayer_choice': EntConsLayer_choice}\n",
    "NNarray = ['JNNL']"
   ]
  },
  {
   "cell_type": "code",
   "execution_count": 33,
   "metadata": {},
   "outputs": [
    {
     "name": "stdout",
     "output_type": "stream",
     "text": [
      "/scratch-local/Tom.Beucler/SPCAM_PHYS/HDF5_DATA\n",
      "NN name is  JNNL\n"
     ]
    },
    {
     "name": "stderr",
     "output_type": "stream",
     "text": [
      "/home/t/Tom.Beucler/SPCAM/CBRAIN-CAM/notebooks/tbeucler_devlog/cbrain/model_diagnostics.py:25: YAMLLoadWarning: calling yaml.load() without Loader=... is deprecated, as the default Loader is unsafe. Please read https://msg.pyyaml.org/load for full details.\n",
      "  config = yaml.load(f)\n"
     ]
    }
   ],
   "source": [
    "NN = {}; md = {};\n",
    "%cd $TRAINDIR/HDF5_DATA\n",
    "for i,NNs in enumerate(NNarray):\n",
    "    print('NN name is ',NNs)\n",
    "    path = TRAINDIR+'HDF5_DATA/'+NNs+'.h5'\n",
    "    NN[NNs] = load_model(path,custom_objects=dict_lay)\n",
    "    md[NNs] = ModelDiagnostics(NN[NNs],config_fn,data_fn_a[i])"
   ]
  },
  {
   "cell_type": "code",
   "execution_count": 34,
   "metadata": {},
   "outputs": [],
   "source": [
    "# Indices of different variables\n",
    "PHQ_idx = slice(0,30)\n",
    "TPHYSTND_idx = slice(90,120)"
   ]
  },
  {
   "cell_type": "code",
   "execution_count": 81,
   "metadata": {},
   "outputs": [
    {
     "data": {
      "application/vnd.jupyter.widget-view+json": {
       "model_id": "f58ff7d4fff44cad9bf22326d1c66347",
       "version_major": 2,
       "version_minor": 0
      },
      "text/plain": [
       "HBox(children=(IntProgress(value=0), HTML(value='')))"
      ]
     },
     "metadata": {},
     "output_type": "display_data"
    },
    {
     "name": "stdout",
     "output_type": "stream",
     "text": [
      "\n"
     ]
    }
   ],
   "source": [
    "lat_ind = np.arange(0,64)\n",
    "iini = 1000\n",
    "iend = 1100\n",
    "\n",
    "diagno = {} # Diagnostics structure\n",
    "diagno['truth'] = {} # Diagnostics structure for the truth\n",
    "for i,NNs in enumerate([NNarray[0]]):\n",
    "    diagno[NNs] = {} # Diagnostics structure for each NN\n",
    "    for itime in tqdm(np.arange(iini,iend)):\n",
    "        # Get input, prediction and truth from NN\n",
    "        inp, p, truth = md[NNs].get_inp_pred_truth(itime)  # [lat, lon, var, lev]\n",
    "        # Get convective heating and moistening for each NN\n",
    "        if itime==iini:\n",
    "            if i==0:\n",
    "                diagno['truth']['PHQ'] = md[NNs].reshape_ngeo(truth[:,PHQ_idx])[lat_ind,:,:,np.newaxis]\n",
    "                diagno['truth']['TPHYSTND'] = md[NNs].reshape_ngeo(truth[:,TPHYSTND_idx])[lat_ind,:,:,np.newaxis]\n",
    "            diagno[NNs]['PHQ'] = md[NNs].reshape_ngeo(p[:,PHQ_idx])[lat_ind,:,:,np.newaxis]\n",
    "            diagno[NNs]['TPHYSTND'] = md[NNs].reshape_ngeo(p[:,TPHYSTND_idx])[lat_ind,:,:,np.newaxis]\n",
    "        else:\n",
    "            for istr,field in enumerate(['PHQ','TPHYSTND']):\n",
    "                if field=='PHQ': ind_field = PHQ_idx\n",
    "                elif field=='TPHYSTND': ind_field = TPHYSTND_idx\n",
    "                diagno[NNs][field] = np.concatenate((diagno[NNs][field],\n",
    "                                                     md[NNs].reshape_ngeo(p[:,ind_field])[lat_ind,:,:,np.newaxis]),\n",
    "                                                    axis=3)\n",
    "                if i==0:\n",
    "                    diagno['truth'][field] = np.concatenate((diagno['truth'][field],\n",
    "                                                             md[NNs].reshape_ngeo(truth[:,ind_field])[lat_ind,:,:,np.newaxis]),\n",
    "                                                            axis=3)"
   ]
  },
  {
   "cell_type": "code",
   "execution_count": 26,
   "metadata": {},
   "outputs": [],
   "source": [
    "# Load coordinates\n",
    "coor = xr.open_dataset(\"/project/meteo/w2w/A6/S.Rasp/SP-CAM/fluxbypass_aqua/AndKua_aqua_SPCAM3.0_sp_fbp_f4.cam2.h1.0000-01-01-00000.nc\",\\\n",
    "                    decode_times=False)\n",
    "lat = coor.lat; lon = coor.lon; lev = coor.lev;\n",
    "coor.close();"
   ]
  },
  {
   "cell_type": "code",
   "execution_count": 61,
   "metadata": {},
   "outputs": [
    {
     "data": {
      "text/plain": [
       "<xarray.DataArray 'lev' (lev: 30)>\n",
       "array([  3.643466,   7.59482 ,  14.356632,  24.61222 ,  38.2683  ,  54.59548 ,\n",
       "        72.012451,  87.82123 , 103.317127, 121.547241, 142.994039, 168.22508 ,\n",
       "       197.908087, 232.828619, 273.910817, 322.241902, 379.100904, 445.992574,\n",
       "       524.687175, 609.778695, 691.38943 , 763.404481, 820.858369, 859.534767,\n",
       "       887.020249, 912.644547, 936.198398, 957.48548 , 976.325407, 992.556095])\n",
       "Coordinates:\n",
       "  * lev      (lev) float64 3.643 7.595 14.36 24.61 ... 936.2 957.5 976.3 992.6\n",
       "Attributes:\n",
       "    long_name:      hybrid level at midpoints (1000*(A+B))\n",
       "    units:          level\n",
       "    positive:       down\n",
       "    standard_name:  atmosphere_hybrid_sigma_pressure_coordinate\n",
       "    formula_terms:  a: hyam b: hybm p0: P0 ps: PS"
      ]
     },
     "execution_count": 61,
     "metadata": {},
     "output_type": "execute_result"
    }
   ],
   "source": [
    "lev"
   ]
  },
  {
   "cell_type": "code",
   "execution_count": 65,
   "metadata": {},
   "outputs": [
    {
     "data": {
      "text/plain": [
       "array([-2.21732855e-01, -4.90605086e-01, -7.93605596e-02, -3.83866057e-02,\n",
       "       -2.99818423e-02, -8.67431760e-02, -3.33269238e-02, -5.98317623e-01,\n",
       "       -5.92359565e-02, -1.36215091e-01, -4.10173833e-01, -1.17469513e+00,\n",
       "       -2.76867390e+00, -5.19640541e+00, -8.83940506e+00, -1.46848135e+01,\n",
       "       -2.44030914e+01, -3.62294579e+01, -5.73021545e+01, -8.61061478e+01,\n",
       "       -1.30888977e+02, -1.74015015e+02, -1.90143906e+02, -1.62064194e+02,\n",
       "       -1.66486984e+02, -1.65547272e+02, -1.52508423e+02, -1.28829865e+02,\n",
       "       -1.20462967e+02, -1.33965790e+02], dtype=float32)"
      ]
     },
     "execution_count": 65,
     "metadata": {},
     "output_type": "execute_result"
    }
   ],
   "source": [
    "np.mean(np.abs(diagno['truth']['PHQ']-diagno[NNs]['PHQ']),axis=(0,1,3))/np.mean(diagno['truth']['PHQ'])"
   ]
  },
  {
   "cell_type": "code",
   "execution_count": 66,
   "metadata": {},
   "outputs": [
    {
     "data": {
      "text/plain": [
       "array([ -0.27433896,  -0.45259702,  -2.041872  ,  -2.075538  ,\n",
       "        -0.53000975,  -0.46023196,  -0.6341023 ,  -0.81733567,\n",
       "        -1.1199936 ,  -1.3175882 ,  -1.5396122 ,  -2.151741  ,\n",
       "        -2.6071906 ,  -3.371945  ,  -4.145045  ,  -4.802201  ,\n",
       "        -5.7795453 ,  -7.2278066 ,  -8.44115   , -10.198541  ,\n",
       "       -13.095983  , -18.067905  , -20.79542   , -16.303675  ,\n",
       "       -14.750556  , -12.650582  ,  -9.870063  ,  -7.5626197 ,\n",
       "        -5.8910537 ,  -6.1236157 ], dtype=float32)"
      ]
     },
     "execution_count": 66,
     "metadata": {},
     "output_type": "execute_result"
    }
   ],
   "source": [
    "np.mean(np.abs(diagno['truth']['TPHYSTND']-diagno[NNs]['TPHYSTND']),axis=(0,1,3))/np.mean(diagno['truth']['TPHYSTND'])"
   ]
  },
  {
   "cell_type": "code",
   "execution_count": null,
   "metadata": {},
   "outputs": [],
   "source": [
    "diagno['truth']['PHQ'][:,:,-2,:].shape"
   ]
  },
  {
   "cell_type": "code",
   "execution_count": 74,
   "metadata": {},
   "outputs": [],
   "source": [
    "# Plot characteristics\n",
    "fz = 17.5\n",
    "lw = 2\n",
    "plt.rc('text', usetex=True)\n",
    "plt.rc('font', family='serif', size=fz)\n",
    "mpl.rcParams['lines.linewidth'] = lw\n",
    "plt.close('all')"
   ]
  },
  {
   "cell_type": "code",
   "execution_count": 82,
   "metadata": {},
   "outputs": [
    {
     "data": {
      "image/png": "[encoded data removed]",
      "text/plain": [
       "<Figure size 720x540 with 6 Axes>"
      ]
     },
     "metadata": {
      "needs_background": "light"
     },
     "output_type": "display_data"
    }
   ],
   "source": [
    "pathHOME = '/home/t/Tom.Beucler/Movie1/'\n",
    "vminQ = -150\n",
    "vmaxQ = 150\n",
    "vminT = -150\n",
    "vmaxT = 150\n",
    "iz = -11 # -11 is 600hPa\n",
    "it = 0\n",
    "\n",
    "for it in range(100):\n",
    "\n",
    "    plt.close('all')\n",
    "\n",
    "    fig,ax = plt.subplots(2,2,figsize=(10,7.5),subplot_kw=dict(projection=ccrs.Robinson()))\n",
    "\n",
    "    # (a) Convective Moistening\n",
    "    im = ax[0,0].imshow(diagno['truth']['PHQ'][:,:,iz,it],cmap='bwr',vmin=vminQ,vmax=vmaxQ,transform=ccrs.PlateCarree())\n",
    "    ax[0,0].set_title('Cloud-Resolving Model')\n",
    "    cb = fig.colorbar(im, ax=ax[0,0], pad=0.01, extend='both', orientation='horizontal'); \n",
    "    cb.set_label('$\\mathrm{600hPa\\ Convective\\ Moistening\\ (W/m^{2})}$')\n",
    "\n",
    "    # (b) Convective Heating\n",
    "    im = ax[0,1].imshow(diagno['truth']['TPHYSTND'][:,:,iz,it],cmap='bwr',vmin=vminT,vmax=vmaxT,transform=ccrs.PlateCarree())\n",
    "    ax[0,1].set_title('Cloud-Resolving Model')\n",
    "    cb = fig.colorbar(im, ax=ax[0,1], pad=0.01, extend='both', orientation='horizontal'); \n",
    "    cb.set_label('$\\mathrm{600hPa\\ Convective\\ Heating\\ (W/m^{2})}$')\n",
    "\n",
    "    # (a) Convective Moistening\n",
    "    im = ax[1,0].imshow(diagno[NNs]['PHQ'][:,:,iz,it],cmap='bwr',vmin=vminQ,vmax=vmaxQ,transform=ccrs.PlateCarree())\n",
    "    ax[1,0].set_title('Neural Network')\n",
    "    #cb = fig.colorbar(im, ax=ax[1,0], pad=0.01, extend='both', orientation='horizontal'); \n",
    "    #cb.set_label('$\\mathrm{PRED\\ 600hPa\\ Convective\\ Moistening\\ (W/m^{2})}$')\n",
    "\n",
    "    # (b) Convective Heating\n",
    "    im = ax[1,1].imshow(diagno[NNs]['TPHYSTND'][:,:,iz,it],cmap='bwr',vmin=vminT,vmax=vmaxT,transform=ccrs.PlateCarree())\n",
    "    ax[1,1].set_title('Neural Network')\n",
    "    #cb = fig.colorbar(im, ax=ax[1,1], pad=0.01, extend='both', orientation='horizontal'); \n",
    "    #cb.set_label('$\\mathrm{PRED\\ 600hPa\\ Convective\\ Heating\\ (W/m^{2})}$')\n",
    "\n",
    "    # matplotlib.pyplot.gcf().suptitle(\"Time to Crash: \"+\"%02.1f\"%(cam_ds.time[-1]-cam_ds.time[it])+\"day\",\n",
    "    #                                  fontsize=fz)\n",
    "    plt.savefig(pathHOME+str(it)+'.png',format='png')"
   ]
  },
  {
   "cell_type": "markdown",
   "metadata": {},
   "source": [
    "# 2) Dynamic Figure of trade-off between performance and constraints"
   ]
  },
  {
   "cell_type": "markdown",
   "metadata": {},
   "source": [
    "## 2.1) Load data for Figure 3a"
   ]
  },
  {
   "cell_type": "code",
   "execution_count": 9,
   "metadata": {},
   "outputs": [],
   "source": [
    "TRAINDIR = '/local/Tom.Beucler/SPCAM_PHYS/'\n",
    "alpha_array = [0,0.01,0.25,0.5,0.75,0.99,1] # Loop over weight given to MSE and conservation constraints\n",
    "config_fn = '/filer/z-sv-pool12c/t/Tom.Beucler/SPCAM/CBRAIN-CAM/pp_config/8col_rad_tbeucler_local_PostProc.yml'\n",
    "data_fn = '/local/Tom.Beucler/SPCAM_PHYS/8col009_01_valid.nc'\n",
    "dict_lay = {'SurRadLayer':SurRadLayer,'MassConsLayer':MassConsLayer,'EntConsLayer':EntConsLayer,\\\n",
    "           'weak_loss_0':mse,'weak_loss_1':mse}\n",
    "fz = 20\n",
    "lw = 4\n",
    "siz = 200\n",
    "S0 = 320 # Representative mean solar insolation for normalization purposes\n",
    "S0max = 1410.6442 # Max solar insolation for normalization purposes\n",
    "SN = S0/100 # Representative target = mean insolation / 4\n",
    "XNNA = 1.25 # Abscissa where architecture-constrained network will be placed\n",
    "XTEXT = 0.25 # Text placement\n",
    "YMIN = -1 # Representative value for conserving network\n",
    "YTEXT = 0.3 # Text placement"
   ]
  },
  {
   "cell_type": "code",
   "execution_count": 3,
   "metadata": {},
   "outputs": [
    {
     "name": "stderr",
     "output_type": "stream",
     "text": [
      "W1205 07:59:39.216779 22412127254336 deprecation.py:506] From /home/t/Tom.Beucler/miniconda3/lib/python3.7/site-packages/tensorflow/python/ops/init_ops.py:97: calling GlorotUniform.__init__ (from tensorflow.python.ops.init_ops) with dtype is deprecated and will be removed in a future version.\n",
      "Instructions for updating:\n",
      "Call initializer instance with the dtype argument instead of passing it to the constructor\n",
      "W1205 07:59:39.217673 22412127254336 deprecation.py:506] From /home/t/Tom.Beucler/miniconda3/lib/python3.7/site-packages/tensorflow/python/ops/init_ops.py:1251: calling VarianceScaling.__init__ (from tensorflow.python.ops.init_ops) with dtype is deprecated and will be removed in a future version.\n",
      "Instructions for updating:\n",
      "Call initializer instance with the dtype argument instead of passing it to the constructor\n",
      "W1205 07:59:39.218681 22412127254336 deprecation.py:506] From /home/t/Tom.Beucler/miniconda3/lib/python3.7/site-packages/tensorflow/python/ops/init_ops.py:97: calling Zeros.__init__ (from tensorflow.python.ops.init_ops) with dtype is deprecated and will be removed in a future version.\n",
      "Instructions for updating:\n",
      "Call initializer instance with the dtype argument instead of passing it to the constructor\n",
      "/home/t/Tom.Beucler/SPCAM/CBRAIN-CAM/notebooks/tbeucler_devlog/cbrain/model_diagnostics.py:25: YAMLLoadWarning: calling yaml.load() without Loader=... is deprecated, as the default Loader is unsafe. Please read https://msg.pyyaml.org/load for full details.\n",
      "  config = yaml.load(f)\n"
     ]
    },
    {
     "name": "stdout",
     "output_type": "stream",
     "text": [
      "alpha =  0\n",
      "alpha =  0\n"
     ]
    },
    {
     "name": "stderr",
     "output_type": "stream",
     "text": [
      "/home/t/Tom.Beucler/SPCAM/CBRAIN-CAM/notebooks/tbeucler_devlog/cbrain/model_diagnostics.py:25: YAMLLoadWarning: calling yaml.load() without Loader=... is deprecated, as the default Loader is unsafe. Please read https://msg.pyyaml.org/load for full details.\n",
      "  config = yaml.load(f)\n"
     ]
    },
    {
     "name": "stdout",
     "output_type": "stream",
     "text": [
      "alpha =  0.01\n",
      "alpha =  0.01\n"
     ]
    },
    {
     "name": "stderr",
     "output_type": "stream",
     "text": [
      "/home/t/Tom.Beucler/SPCAM/CBRAIN-CAM/notebooks/tbeucler_devlog/cbrain/model_diagnostics.py:25: YAMLLoadWarning: calling yaml.load() without Loader=... is deprecated, as the default Loader is unsafe. Please read https://msg.pyyaml.org/load for full details.\n",
      "  config = yaml.load(f)\n"
     ]
    },
    {
     "name": "stdout",
     "output_type": "stream",
     "text": [
      "alpha =  0.25\n",
      "alpha =  0.25\n"
     ]
    },
    {
     "name": "stderr",
     "output_type": "stream",
     "text": [
      "/home/t/Tom.Beucler/SPCAM/CBRAIN-CAM/notebooks/tbeucler_devlog/cbrain/model_diagnostics.py:25: YAMLLoadWarning: calling yaml.load() without Loader=... is deprecated, as the default Loader is unsafe. Please read https://msg.pyyaml.org/load for full details.\n",
      "  config = yaml.load(f)\n"
     ]
    },
    {
     "name": "stdout",
     "output_type": "stream",
     "text": [
      "alpha =  0.5\n",
      "alpha =  0.5\n"
     ]
    },
    {
     "name": "stderr",
     "output_type": "stream",
     "text": [
      "/home/t/Tom.Beucler/SPCAM/CBRAIN-CAM/notebooks/tbeucler_devlog/cbrain/model_diagnostics.py:25: YAMLLoadWarning: calling yaml.load() without Loader=... is deprecated, as the default Loader is unsafe. Please read https://msg.pyyaml.org/load for full details.\n",
      "  config = yaml.load(f)\n"
     ]
    },
    {
     "name": "stdout",
     "output_type": "stream",
     "text": [
      "alpha =  0.75\n",
      "alpha =  0.75\n"
     ]
    },
    {
     "name": "stderr",
     "output_type": "stream",
     "text": [
      "/home/t/Tom.Beucler/SPCAM/CBRAIN-CAM/notebooks/tbeucler_devlog/cbrain/model_diagnostics.py:25: YAMLLoadWarning: calling yaml.load() without Loader=... is deprecated, as the default Loader is unsafe. Please read https://msg.pyyaml.org/load for full details.\n",
      "  config = yaml.load(f)\n"
     ]
    },
    {
     "name": "stdout",
     "output_type": "stream",
     "text": [
      "alpha =  0.99\n",
      "alpha =  0.99\n"
     ]
    },
    {
     "name": "stderr",
     "output_type": "stream",
     "text": [
      "/home/t/Tom.Beucler/SPCAM/CBRAIN-CAM/notebooks/tbeucler_devlog/cbrain/model_diagnostics.py:25: YAMLLoadWarning: calling yaml.load() without Loader=... is deprecated, as the default Loader is unsafe. Please read https://msg.pyyaml.org/load for full details.\n",
      "  config = yaml.load(f)\n"
     ]
    },
    {
     "name": "stdout",
     "output_type": "stream",
     "text": [
      "alpha =  1\n",
      "alpha =  1\n"
     ]
    },
    {
     "name": "stderr",
     "output_type": "stream",
     "text": [
      "/home/t/Tom.Beucler/SPCAM/CBRAIN-CAM/notebooks/tbeucler_devlog/cbrain/model_diagnostics.py:25: YAMLLoadWarning: calling yaml.load() without Loader=... is deprecated, as the default Loader is unsafe. Please read https://msg.pyyaml.org/load for full details.\n",
      "  config = yaml.load(f)\n",
      "/home/t/Tom.Beucler/SPCAM/CBRAIN-CAM/notebooks/tbeucler_devlog/cbrain/model_diagnostics.py:25: YAMLLoadWarning: calling yaml.load() without Loader=... is deprecated, as the default Loader is unsafe. Please read https://msg.pyyaml.org/load for full details.\n",
      "  config = yaml.load(f)\n"
     ]
    }
   ],
   "source": [
    "MSEtp = {}; PENtp = {};\n",
    "\n",
    "NN = {}; md = {};\n",
    "NN = load_model(TRAINDIR+'HDF5_DATA/MLRL0.h5')\n",
    "md = ModelDiagnostics(NN,config_fn,data_fn)\n",
    "md.stats = pickle.load(open(TRAINDIR+'HDF5_DATA/MLRL0md.pkl','rb'))\n",
    "md.resid = pickle.load(open(TRAINDIR+'HDF5_DATA/MLRL0res.pkl','rb'))\n",
    "MSEtp['MLRL0'] = np.log10(md.mse_W2m4().mean((0,1,2)))\n",
    "PENtp['MLRL0'] = np.log10(0.25*(md.resid['mass']+md.resid['ent']+\\\n",
    "                                md.resid['sw']+md.resid['lw']).mean((0,1,2)))\n",
    "\n",
    "for alpha in alpha_array:\n",
    "    print('alpha = ',str(alpha))\n",
    "    NN = {}; md = {};\n",
    "    print('alpha = ',str(alpha))\n",
    "    # 0) Define model/statistics to load\n",
    "    config_fn = '/filer/z-sv-pool12c/t/Tom.Beucler/SPCAM/CBRAIN-CAM/pp_config/8col_rad_tbeucler_local_PostProc.yml'\n",
    "    dict_lay = {'SurRadLayer':SurRadLayer,'MassConsLayer':MassConsLayer,'EntConsLayer':EntConsLayer}\n",
    "    # Path of model/statistics\n",
    "    path_model = TRAINDIR+'HDF5_DATA/NNL'+str(alpha)+'.h5'\n",
    "    \n",
    "    data_fn = '/local/Tom.Beucler/SPCAM_PHYS/8col009_01_valid.nc'\n",
    "    path_md = TRAINDIR+'HDF5_DATA/NNL'+str(alpha)+'md.pkl'\n",
    "    path_res = TRAINDIR+'HDF5_DATA/NNL'+str(alpha)+'res.pkl'\n",
    "\n",
    "    # 1) Load model\n",
    "    NN = load_model(path_model,custom_objects=dict_lay)\n",
    "\n",
    "    # 2) Define and load md\n",
    "    md = ModelDiagnostics(NN,config_fn,data_fn)\n",
    "    md.stats = pickle.load(open(path_md,'rb'))\n",
    "\n",
    "    # 3) Load res\n",
    "    md.resid = pickle.load(open(path_res,'rb'))\n",
    "    MSEtp[str(alpha)] = np.log10(md.mse_W2m4().mean((0,1,2)))\n",
    "    PENALTY = 0.25*(md.resid['mass']+md.resid['ent']+\\\n",
    "                    md.resid['sw']+md.resid['lw']).mean((0,1,2))\n",
    "    PENtp[str(alpha)] = np.log10(PENALTY)\n",
    "\n",
    "NN = {}; md = {};\n",
    "NN = load_model(TRAINDIR+'HDF5_DATA/JNNC.h5',custom_objects=dict_lay)\n",
    "md = ModelDiagnostics(NN,config_fn,data_fn)\n",
    "md.stats = pickle.load(open(TRAINDIR+'HDF5_DATA/JNNCmd.pkl','rb'))\n",
    "md.resid = pickle.load(open(TRAINDIR+'HDF5_DATA/JNNCmdres.pkl','rb'))\n",
    "MSEtp['NNA'] = np.log10(md.mse_W2m4().mean((0,1,2)))\n",
    "PENtp['NNA'] = YMIN+0.1"
   ]
  },
  {
   "cell_type": "markdown",
   "metadata": {},
   "source": [
    "## 2.2) Dynamic Figure"
   ]
  },
  {
   "cell_type": "code",
   "execution_count": 8,
   "metadata": {},
   "outputs": [],
   "source": [
    "pathHOME = '/home/t/Tom.Beucler/Figure1/'"
   ]
  },
  {
   "cell_type": "code",
   "execution_count": 38,
   "metadata": {},
   "outputs": [
    {
     "name": "stdout",
     "output_type": "stream",
     "text": [
      "0 $-1$\n",
      "1 $0$\n",
      "2 $1$\n",
      "3 $2$\n",
      "4 $3$\n",
      "5 $4$\n"
     ]
    },
    {
     "data": {
      "image/png": "[encoded data removed]",
      "text/plain": [
       "<Figure size 800x440 with 1 Axes>"
      ]
     },
     "metadata": {},
     "output_type": "display_data"
    }
   ],
   "source": [
    "plt.rc('text', usetex=True)\n",
    "plt.rc('font', family='serif', size=fz)\n",
    "mpl.rcParams['lines.linewidth'] = lw\n",
    "plt.close('all')\n",
    "\n",
    "f = plt.figure(num=None, figsize=(10,5.5), dpi=80, facecolor='w', edgecolor='k')\n",
    "#plt.gcf().subplots_adjust(bottom=0.15) # Make room for xlabels\n",
    "\n",
    "### Subplot 1 ###\n",
    "\n",
    "#ax = f.add_subplot(1,2,1)\n",
    "MSEs = {}; PENs = {};\n",
    "\n",
    "ax = f.gca()\n",
    "\n",
    "plt.axvline(x=0,color='lightgray',linewidth=lw/2,zorder=0)\n",
    "plt.axvline(x=1,color='lightgray',linewidth=lw/2,zorder=0)\n",
    "\n",
    "STR = 'MLRL0'\n",
    "#Hlin1 = plt.axhline(y=MSEtp[STR],c='k',linestyle='--',zorder=1)\n",
    "#Hlin2 = plt.axhline(y=PENtp[STR],c='b',linestyle='--',zorder=1)\n",
    "\n",
    "for alpha in [alpha_array[0]]:\n",
    "    STR = str(alpha)\n",
    "    MSEs[str(alpha)] = plt.scatter(alpha,MSEtp[STR],c='k',s=siz)\n",
    "    #PENs[str(alpha)] = plt.scatter(alpha,PENtp[STR],c='b',s=siz)\n",
    "    \n",
    "for alpha in alpha_array:\n",
    "    STR = str(alpha)\n",
    "    #MSEs[str(alpha)] = plt.scatter(alpha,MSEtp[STR],c='k',s=siz)\n",
    "    #PENs[str(alpha)] = plt.scatter(alpha,PENtp[STR],c='b',s=siz)\n",
    "\n",
    "# STR = 'NNA'\n",
    "# MSEs['NNA'] = plt.scatter(XNNA,MSEtp[STR],c='k',s=siz,marker='*')\n",
    "# PENs['NNA'] = plt.scatter(XNNA,YMIN+0.2,c='b',s=3*siz,marker=\"$\\downarrow$\")\n",
    "# MSEt = plt.text(XNNA-XTEXT,MSEtp[STR]-YTEXT-0.1,s='$\\mathrm{ACnet}$',color='k')\n",
    "# PENt = plt.text(XNNA-XTEXT,YMIN+0.1+YTEXT/2,s='$\\mathrm{ACnet}$',color='b')\n",
    "# PENu = plt.text(0,2.75,s='$\\mathrm{UCnet}$',color='b')\n",
    "    \n",
    "plt.xlim((-0.05,1.3))\n",
    "plt.ylim((YMIN,3.33))\n",
    "\n",
    "plt.xlabel(r'$\\mathrm{Conservation\\ weight\\ }\\alpha$')\n",
    "plt.ylabel(r'$\\mathrm{Loss\\ (W\\ m^{-2})}$')\n",
    "\n",
    "# Add LCnet legend\n",
    "# plt.arrow(0.475, -0.925, -0.475, 0, color='lightgray', linewidth=lw/2)\n",
    "# plt.arrow(0.725, -0.925, 0.275, 0, color='lightgray', linewidth=lw/2)\n",
    "#PENu = plt.text(0.5,-0.925,s='$\\mathrm{LCnet}$',color='gray')\n",
    "\n",
    "plt.draw()\n",
    "# Change y labels to 10^n\n",
    "labels = [item.get_text() for item in ax.get_yticklabels()]\n",
    "for ilab,lab in enumerate(labels):\n",
    "    print(ilab,lab)\n",
    "    labels[ilab]='$10^{'+lab[1:-1]+'}$'\n",
    "ax.set_yticklabels(labels)\n",
    "name = '0'\n",
    "plt.savefig(pathHOME+name+'.png',format='png')"
   ]
  },
  {
   "cell_type": "code",
   "execution_count": 31,
   "metadata": {},
   "outputs": [],
   "source": [
    "name = '5'"
   ]
  },
  {
   "cell_type": "code",
   "execution_count": 32,
   "metadata": {},
   "outputs": [
    {
     "data": {
      "text/plain": [
       "<Figure size 432x288 with 0 Axes>"
      ]
     },
     "metadata": {},
     "output_type": "display_data"
    }
   ],
   "source": [
    "plt.savefig(pathHOME+name+'.png',format='png')"
   ]
  },
  {
   "cell_type": "markdown",
   "metadata": {},
   "source": [
    "# 3) SST generalization plot"
   ]
  },
  {
   "cell_type": "markdown",
   "metadata": {},
   "source": [
    "tgb - 3/12/20 - Adding the (-4K) to (+4K) jump"
   ]
  },
  {
   "cell_type": "code",
   "execution_count": 39,
   "metadata": {},
   "outputs": [],
   "source": [
    "data0K = xr.open_dataset(\"/project/meteo/w2w/A6/S.Rasp/SP-CAM/fluxbypass_aqua/AndKua_aqua_SPCAM3.0_sp_fbp_f4.cam2.h1.0000-06-01-00000.nc\",\\\n",
    "                    decode_times=False)"
   ]
  },
  {
   "cell_type": "code",
   "execution_count": 2,
   "metadata": {},
   "outputs": [],
   "source": [
    "#path = '/project/meteo/w2w/A6/S.Rasp/SP-CAM/sp8fbp_minus4k/sp8fbp_minus4k.cam2.h2.'\n",
    "path = '/DFS-L/DATA/pritchard/tbeucler/SPCAM/sp8fbp_minus4k/sp8fbp_minus4k.cam2.h2.'\n",
    "datam4K = xr.open_mfdataset(path+'0001-01-0?-00000.nc',\\\n",
    "                          decode_times=False)"
   ]
  },
  {
   "cell_type": "code",
   "execution_count": 40,
   "metadata": {},
   "outputs": [],
   "source": [
    "data4K = xr.open_dataset(\"/project/meteo/w2w/A6/S.Rasp/SP-CAM/sp8fbp_4k/sp8fbp_4k.cam2.h2.0000-06-01-00000.nc\",\\\n",
    "                        decode_times=False)"
   ]
  },
  {
   "cell_type": "code",
   "execution_count": 3,
   "metadata": {},
   "outputs": [],
   "source": [
    "#path = '/project/meteo/w2w/A6/S.Rasp/SP-CAM/sp8fbp_4k/sp8fbp_4k.cam2.h2.'\n",
    "path = '/DFS-L/DATA/pritchard/tbeucler/SPCAM/sp8fbp_4k/sp8fbp_4k.cam2.h2.'\n",
    "datap4K = xr.open_mfdataset(path+'0001-01-0?-00000.nc',\\\n",
    "                           decode_times=False)"
   ]
  },
  {
   "cell_type": "code",
   "execution_count": 18,
   "metadata": {},
   "outputs": [],
   "source": [
    "# Plot characteristics\n",
    "fz = 20\n",
    "lw = 4\n",
    "plt.rc('text', usetex=False)\n",
    "plt.rc('font', family='serif', size=fz)\n",
    "mpl.rcParams['lines.linewidth'] = lw\n",
    "plt.close('all')"
   ]
  },
  {
   "cell_type": "code",
   "execution_count": 6,
   "metadata": {},
   "outputs": [],
   "source": [
    "SSTm4K = np.max(np.mean(datam4K.TS,axis=(0,2)))\n",
    "ileft = np.argmin(np.abs(SSTm4K-np.mean(datap4K.TS,axis=(0,2))))\n",
    "iright = np.argmin(np.abs(SSTm4K-np.mean(datap4K.TS,axis=(0,2))[(ileft.values+1):]))+ileft.values+1"
   ]
  },
  {
   "cell_type": "code",
   "execution_count": 7,
   "metadata": {},
   "outputs": [],
   "source": [
    "# SSTmax0K = np.max(np.mean(data0K.TS,axis=(0,2)))\n",
    "# ileft = np.argmin(np.abs(SSTmax0K-np.mean(data4K.TS,axis=(0,2))))\n",
    "# iright = np.argmin(np.abs(SSTmax0K-np.mean(data4K.TS,axis=(0,2))[(ileft.values+1):]))+ileft.values+1"
   ]
  },
  {
   "cell_type": "code",
   "execution_count": 15,
   "metadata": {},
   "outputs": [],
   "source": [
    "ileft = ileft.values\n",
    "iright = iright.values"
   ]
  },
  {
   "cell_type": "code",
   "execution_count": 16,
   "metadata": {},
   "outputs": [
    {
     "name": "stdout",
     "output_type": "stream",
     "text": [
      "23 42\n"
     ]
    }
   ],
   "source": [
    "print(ileft,iright)"
   ]
  },
  {
   "cell_type": "code",
   "execution_count": 29,
   "metadata": {},
   "outputs": [],
   "source": [
    "pathHOME = '/home/t/Tom.Beucler/'"
   ]
  },
  {
   "cell_type": "code",
   "execution_count": 25,
   "metadata": {},
   "outputs": [
    {
     "data": {
      "image/png": "[encoded data removed]",
      "text/plain": [
       "<Figure size 720x432 with 1 Axes>"
      ]
     },
     "metadata": {
      "needs_background": "light"
     },
     "output_type": "display_data"
    }
   ],
   "source": [
    "plt.figure(figsize=(10,6))\n",
    "plt.plot(datam4K.lat,np.mean(datam4K.TS,axis=(0,2)),label='Cold',color='b')\n",
    "plt.plot(datap4K.lat,np.mean(datap4K.TS,axis=(0,2)),label='Warm (+8K)',color='r')\n",
    "plt.axhline(y=SSTm4K,color='b',linestyle='--')\n",
    "plt.axvline(x=datap4K.lat[ileft],color='r',linestyle='--')\n",
    "plt.axvline(x=datap4K.lat[iright],color='r',linestyle='--')\n",
    "plt.legend()\n",
    "plt.xlabel('Latitude (deg)')\n",
    "#plt.ylabel('Surface temperature (K)')\n",
    "plt.title('Surface Temperature (K, fixed)')\n",
    "# plt.title('SST(ref) max='+'%02.1f'%SSTmax0K+'K intersects with lat(+4K)='+\n",
    "#           '%02.0f'%datap4K.lat[ileft]+' and '+'%02.0f'%datap4K.lat[iright]+' deg')\n",
    "name = 'SST0'\n",
    "#plt.savefig(pathHOME+name+'.png',format='png')"
   ]
  },
  {
   "cell_type": "code",
   "execution_count": 51,
   "metadata": {},
   "outputs": [
    {
     "data": {
      "image/png": "[encoded data removed]",
      "text/plain": [
       "<Figure size 720x432 with 1 Axes>"
      ]
     },
     "metadata": {
      "needs_background": "light"
     },
     "output_type": "display_data"
    }
   ],
   "source": [
    "plt.figure(figsize=(10,6))\n",
    "plt.plot(data0K.lat,np.mean(data0K.TS,axis=(0,2)),label='Reference',color='b')\n",
    "# plt.plot(data4K.lat,np.mean(data4K.TS,axis=(0,2)),label='+4K',color='r')\n",
    "# plt.axhline(y=SSTmax0K,color='b',linestyle='--')\n",
    "# plt.axvline(x=data4K.lat[ileft],color='r',linestyle='--')\n",
    "# plt.axvline(x=data4K.lat[iright],color='r',linestyle='--')\n",
    "plt.legend()\n",
    "plt.xlabel('Latitude (deg)')\n",
    "#plt.ylabel('Surface temperature (K)')\n",
    "plt.title('Steady Surface Temperature (K)')\n",
    "# plt.title('SST(ref) max='+'%02.1f'%SSTmax0K+'K intersects with lat(+4K)='+\n",
    "#           '%02.0f'%data4K.lat[ileft]+' and '+'%02.0f'%data4K.lat[iright]+' deg')\n",
    "name = 'SST0'\n",
    "plt.savefig(pathHOME+name+'.png',format='png')"
   ]
  },
  {
   "cell_type": "markdown",
   "metadata": {},
   "source": [
    "# 4) Show mean bias in convective heating and moistening"
   ]
  },
  {
   "cell_type": "code",
   "execution_count": 88,
   "metadata": {},
   "outputs": [],
   "source": [
    "# Config and data files\n",
    "config_fn = '/filer/z-sv-pool12c/t/Tom.Beucler/SPCAM/CBRAIN-CAM/pp_config/8col_rad_tbeucler_local_PostProc.yml'\n",
    "data_fn_a = ['/local/Tom.Beucler/SPCAM_PHYS/8col009_01_valid.nc',\n",
    "             '/local/Tom.Beucler/SPCAM_PHYS/8col009_14_valid.nc',\n",
    "             '/local/Tom.Beucler/SPCAM_PHYS/8col009_31_valid.nc']\n",
    "data_ref = ['','4K','3Kw1']\n",
    "dict_lay = {'SurRadLayer':SurRadLayer,'MassConsLayer':MassConsLayer,'EntConsLayer':EntConsLayer,\\\n",
    "           'weak_loss_0':mse,'weak_loss_1':mse,'MassConsLayer_choice': MassConsLayer_choice,\\\n",
    "            'EntConsLayer_choice': EntConsLayer_choice}\n",
    "NNarray = ['JNNL','JNNL0.01','JNNC']\n",
    "NNname = ['Unconstrained','Loss-constrained','Architecture-constrained']"
   ]
  },
  {
   "cell_type": "code",
   "execution_count": 91,
   "metadata": {},
   "outputs": [],
   "source": [
    "# Indices of different variables\n",
    "PHQ_idx = slice(0,30)\n",
    "TPHYSTND_idx = slice(90,120)"
   ]
  },
  {
   "cell_type": "markdown",
   "metadata": {},
   "source": [
    "## 4.1) +0K"
   ]
  },
  {
   "cell_type": "code",
   "execution_count": 89,
   "metadata": {},
   "outputs": [
    {
     "name": "stdout",
     "output_type": "stream",
     "text": [
      "/scratch-local/Tom.Beucler/SPCAM_PHYS/HDF5_DATA\n",
      "NN name is  JNNL\n"
     ]
    },
    {
     "name": "stderr",
     "output_type": "stream",
     "text": [
      "/home/t/Tom.Beucler/SPCAM/CBRAIN-CAM/notebooks/tbeucler_devlog/cbrain/model_diagnostics.py:25: YAMLLoadWarning: calling yaml.load() without Loader=... is deprecated, as the default Loader is unsafe. Please read https://msg.pyyaml.org/load for full details.\n",
      "  config = yaml.load(f)\n"
     ]
    },
    {
     "name": "stdout",
     "output_type": "stream",
     "text": [
      "NN name is  JNNL0.01\n"
     ]
    },
    {
     "name": "stderr",
     "output_type": "stream",
     "text": [
      "/home/t/Tom.Beucler/SPCAM/CBRAIN-CAM/notebooks/tbeucler_devlog/cbrain/model_diagnostics.py:25: YAMLLoadWarning: calling yaml.load() without Loader=... is deprecated, as the default Loader is unsafe. Please read https://msg.pyyaml.org/load for full details.\n",
      "  config = yaml.load(f)\n"
     ]
    },
    {
     "name": "stdout",
     "output_type": "stream",
     "text": [
      "NN name is  JNNC\n"
     ]
    },
    {
     "name": "stderr",
     "output_type": "stream",
     "text": [
      "/home/t/Tom.Beucler/SPCAM/CBRAIN-CAM/notebooks/tbeucler_devlog/cbrain/model_diagnostics.py:25: YAMLLoadWarning: calling yaml.load() without Loader=... is deprecated, as the default Loader is unsafe. Please read https://msg.pyyaml.org/load for full details.\n",
      "  config = yaml.load(f)\n"
     ]
    }
   ],
   "source": [
    "NN = {}; md = {};\n",
    "%cd $TRAINDIR/HDF5_DATA\n",
    "for i,NNs in enumerate(NNarray):\n",
    "    print('NN name is ',NNs)\n",
    "    path = TRAINDIR+'HDF5_DATA/'+NNs+'.h5'\n",
    "    NN[NNs] = load_model(path,custom_objects=dict_lay)\n",
    "    md[NNs] = ModelDiagnostics(NN[NNs],config_fn,data_fn_a[0])"
   ]
  },
  {
   "cell_type": "code",
   "execution_count": 108,
   "metadata": {},
   "outputs": [
    {
     "data": {
      "application/vnd.jupyter.widget-view+json": {
       "model_id": "ab074a4a16244f87a53ec91db7352dee",
       "version_major": 2,
       "version_minor": 0
      },
      "text/plain": [
       "HBox(children=(IntProgress(value=0, max=47), HTML(value='')))"
      ]
     },
     "metadata": {},
     "output_type": "display_data"
    },
    {
     "name": "stdout",
     "output_type": "stream",
     "text": [
      "\n"
     ]
    },
    {
     "data": {
      "application/vnd.jupyter.widget-view+json": {
       "model_id": "12d49f3b1d024751b8ad3c366cfe5fff",
       "version_major": 2,
       "version_minor": 0
      },
      "text/plain": [
       "HBox(children=(IntProgress(value=0, max=47), HTML(value='')))"
      ]
     },
     "metadata": {},
     "output_type": "display_data"
    },
    {
     "name": "stdout",
     "output_type": "stream",
     "text": [
      "\n"
     ]
    },
    {
     "data": {
      "application/vnd.jupyter.widget-view+json": {
       "model_id": "600925b28cf94438a684abfef0cbef1a",
       "version_major": 2,
       "version_minor": 0
      },
      "text/plain": [
       "HBox(children=(IntProgress(value=0, max=47), HTML(value='')))"
      ]
     },
     "metadata": {},
     "output_type": "display_data"
    },
    {
     "name": "stdout",
     "output_type": "stream",
     "text": [
      "\n"
     ]
    }
   ],
   "source": [
    "lat_ind = np.arange(26,40)\n",
    "iini = 1000\n",
    "iend = 1047\n",
    "\n",
    "diagno = {} # Diagnostics structure\n",
    "diagno['truth'] = {} # Diagnostics structure for the truth\n",
    "for i,NNs in enumerate(NNarray):\n",
    "    diagno[NNs] = {} # Diagnostics structure for each NN\n",
    "    for itime in tqdm(np.arange(iini,iend)):\n",
    "        # Get input, prediction and truth from NN\n",
    "        inp, p, truth = md[NNs].get_inp_pred_truth(itime)  # [lat, lon, var, lev]\n",
    "        # Get convective heating and moistening for each NN\n",
    "        if itime==iini:\n",
    "            if i==0:\n",
    "                diagno['truth']['PHQ'] = md[NNs].reshape_ngeo(truth[:,PHQ_idx])[lat_ind,:,:,np.newaxis]\n",
    "                diagno['truth']['TPHYSTND'] = md[NNs].reshape_ngeo(truth[:,TPHYSTND_idx])[lat_ind,:,:,np.newaxis]\n",
    "            diagno[NNs]['PHQ'] = md[NNs].reshape_ngeo(p[:,PHQ_idx])[lat_ind,:,:,np.newaxis]\n",
    "            diagno[NNs]['TPHYSTND'] = md[NNs].reshape_ngeo(p[:,TPHYSTND_idx])[lat_ind,:,:,np.newaxis]\n",
    "        else:\n",
    "            for istr,field in enumerate(['PHQ','TPHYSTND']):\n",
    "                if field=='PHQ': ind_field = PHQ_idx\n",
    "                elif field=='TPHYSTND': ind_field = TPHYSTND_idx\n",
    "                diagno[NNs][field] = np.concatenate((diagno[NNs][field],\n",
    "                                                     md[NNs].reshape_ngeo(p[:,ind_field])[lat_ind,:,:,np.newaxis]),\n",
    "                                                    axis=3)\n",
    "                if i==0:\n",
    "                    diagno['truth'][field] = np.concatenate((diagno['truth'][field],\n",
    "                                                             md[NNs].reshape_ngeo(truth[:,ind_field])[lat_ind,:,:,np.newaxis]),\n",
    "                                                            axis=3)"
   ]
  },
  {
   "cell_type": "code",
   "execution_count": 109,
   "metadata": {},
   "outputs": [],
   "source": [
    "# Load coordinates\n",
    "coor = xr.open_dataset(\"/project/meteo/w2w/A6/S.Rasp/SP-CAM/fluxbypass_aqua/AndKua_aqua_SPCAM3.0_sp_fbp_f4.cam2.h1.0000-01-01-00000.nc\",\\\n",
    "                    decode_times=False)\n",
    "lat = coor.lat; lon = coor.lon; lev = coor.lev;\n",
    "coor.close();"
   ]
  },
  {
   "cell_type": "code",
   "execution_count": 25,
   "metadata": {},
   "outputs": [],
   "source": [
    "# Plot characteristics\n",
    "fz = 20\n",
    "lw = 4\n",
    "plt.rc('text', usetex=True)\n",
    "plt.rc('font', family='serif', size=fz)\n",
    "mpl.rcParams['lines.linewidth'] = lw\n",
    "plt.close('all')"
   ]
  },
  {
   "cell_type": "code",
   "execution_count": 118,
   "metadata": {},
   "outputs": [
    {
     "data": {
      "image/png": "[encoded data removed]",
      "text/plain": [
       "<Figure size 720x360 with 1 Axes>"
      ]
     },
     "metadata": {
      "needs_background": "light"
     },
     "output_type": "display_data"
    }
   ],
   "source": [
    "plt.figure(figsize=(10,5))\n",
    "\n",
    "plt.axvline(x=0,c='lightgray')\n",
    "plt.plot(np.mean(diagno['truth']['PHQ'],axis=(0,1,3)),lev,label='Truth',color='k')\n",
    "for iNN,NNs in enumerate(NNarray[0:3]):\n",
    "    plt.plot(np.mean(diagno[NNs]['PHQ'],axis=(0,1,3)),lev,label=NNname[iNN])\n",
    "plt.legend()\n",
    "plt.xlabel('Convective moistening ($\\mathrm{W\\ m^{-2}}$)')\n",
    "plt.ylabel('Pressure (hPa)')\n",
    "plt.gca().invert_yaxis()\n",
    "\n",
    "name = 'CQ3'\n",
    "plt.savefig(pathHOME+name+'.png',format='png')"
   ]
  },
  {
   "cell_type": "markdown",
   "metadata": {},
   "source": [
    "## 4.2) +4K"
   ]
  },
  {
   "cell_type": "code",
   "execution_count": 119,
   "metadata": {},
   "outputs": [
    {
     "name": "stdout",
     "output_type": "stream",
     "text": [
      "/scratch-local/Tom.Beucler/SPCAM_PHYS/HDF5_DATA\n",
      "NN name is  JNNL\n"
     ]
    },
    {
     "name": "stderr",
     "output_type": "stream",
     "text": [
      "/home/t/Tom.Beucler/SPCAM/CBRAIN-CAM/notebooks/tbeucler_devlog/cbrain/model_diagnostics.py:25: YAMLLoadWarning: calling yaml.load() without Loader=... is deprecated, as the default Loader is unsafe. Please read https://msg.pyyaml.org/load for full details.\n",
      "  config = yaml.load(f)\n"
     ]
    },
    {
     "name": "stdout",
     "output_type": "stream",
     "text": [
      "NN name is  JNNL0.01\n"
     ]
    },
    {
     "name": "stderr",
     "output_type": "stream",
     "text": [
      "/home/t/Tom.Beucler/SPCAM/CBRAIN-CAM/notebooks/tbeucler_devlog/cbrain/model_diagnostics.py:25: YAMLLoadWarning: calling yaml.load() without Loader=... is deprecated, as the default Loader is unsafe. Please read https://msg.pyyaml.org/load for full details.\n",
      "  config = yaml.load(f)\n"
     ]
    },
    {
     "name": "stdout",
     "output_type": "stream",
     "text": [
      "NN name is  JNNC\n"
     ]
    },
    {
     "name": "stderr",
     "output_type": "stream",
     "text": [
      "/home/t/Tom.Beucler/SPCAM/CBRAIN-CAM/notebooks/tbeucler_devlog/cbrain/model_diagnostics.py:25: YAMLLoadWarning: calling yaml.load() without Loader=... is deprecated, as the default Loader is unsafe. Please read https://msg.pyyaml.org/load for full details.\n",
      "  config = yaml.load(f)\n"
     ]
    }
   ],
   "source": [
    "NN = {}; md = {};\n",
    "%cd $TRAINDIR/HDF5_DATA\n",
    "for i,NNs in enumerate(NNarray):\n",
    "    print('NN name is ',NNs)\n",
    "    path = TRAINDIR+'HDF5_DATA/'+NNs+'.h5'\n",
    "    NN[NNs] = load_model(path,custom_objects=dict_lay)\n",
    "    md[NNs] = ModelDiagnostics(NN[NNs],config_fn,data_fn_a[2])"
   ]
  },
  {
   "cell_type": "code",
   "execution_count": 120,
   "metadata": {},
   "outputs": [
    {
     "data": {
      "application/vnd.jupyter.widget-view+json": {
       "model_id": "65d22d0837544fdba1cd7cdd48e4f743",
       "version_major": 2,
       "version_minor": 0
      },
      "text/plain": [
       "HBox(children=(IntProgress(value=0, max=47), HTML(value='')))"
      ]
     },
     "metadata": {},
     "output_type": "display_data"
    },
    {
     "name": "stdout",
     "output_type": "stream",
     "text": [
      "\n"
     ]
    },
    {
     "data": {
      "application/vnd.jupyter.widget-view+json": {
       "model_id": "f92378c1ae0d47f88a3e32cb7a5ff819",
       "version_major": 2,
       "version_minor": 0
      },
      "text/plain": [
       "HBox(children=(IntProgress(value=0, max=47), HTML(value='')))"
      ]
     },
     "metadata": {},
     "output_type": "display_data"
    },
    {
     "name": "stdout",
     "output_type": "stream",
     "text": [
      "\n"
     ]
    },
    {
     "data": {
      "application/vnd.jupyter.widget-view+json": {
       "model_id": "efec96ed459f4dc09956b2e6a867d1be",
       "version_major": 2,
       "version_minor": 0
      },
      "text/plain": [
       "HBox(children=(IntProgress(value=0, max=47), HTML(value='')))"
      ]
     },
     "metadata": {},
     "output_type": "display_data"
    },
    {
     "name": "stdout",
     "output_type": "stream",
     "text": [
      "\n"
     ]
    }
   ],
   "source": [
    "lat_ind = np.arange(26,40)\n",
    "iini = 1000\n",
    "iend = 1047\n",
    "\n",
    "diagno = {} # Diagnostics structure\n",
    "diagno['truth'] = {} # Diagnostics structure for the truth\n",
    "for i,NNs in enumerate(NNarray):\n",
    "    diagno[NNs] = {} # Diagnostics structure for each NN\n",
    "    for itime in tqdm(np.arange(iini,iend)):\n",
    "        # Get input, prediction and truth from NN\n",
    "        inp, p, truth = md[NNs].get_inp_pred_truth(itime)  # [lat, lon, var, lev]\n",
    "        # Get convective heating and moistening for each NN\n",
    "        if itime==iini:\n",
    "            if i==0:\n",
    "                diagno['truth']['PHQ'] = md[NNs].reshape_ngeo(truth[:,PHQ_idx])[lat_ind,:,:,np.newaxis]\n",
    "                diagno['truth']['TPHYSTND'] = md[NNs].reshape_ngeo(truth[:,TPHYSTND_idx])[lat_ind,:,:,np.newaxis]\n",
    "            diagno[NNs]['PHQ'] = md[NNs].reshape_ngeo(p[:,PHQ_idx])[lat_ind,:,:,np.newaxis]\n",
    "            diagno[NNs]['TPHYSTND'] = md[NNs].reshape_ngeo(p[:,TPHYSTND_idx])[lat_ind,:,:,np.newaxis]\n",
    "        else:\n",
    "            for istr,field in enumerate(['PHQ','TPHYSTND']):\n",
    "                if field=='PHQ': ind_field = PHQ_idx\n",
    "                elif field=='TPHYSTND': ind_field = TPHYSTND_idx\n",
    "                diagno[NNs][field] = np.concatenate((diagno[NNs][field],\n",
    "                                                     md[NNs].reshape_ngeo(p[:,ind_field])[lat_ind,:,:,np.newaxis]),\n",
    "                                                    axis=3)\n",
    "                if i==0:\n",
    "                    diagno['truth'][field] = np.concatenate((diagno['truth'][field],\n",
    "                                                             md[NNs].reshape_ngeo(truth[:,ind_field])[lat_ind,:,:,np.newaxis]),\n",
    "                                                            axis=3)"
   ]
  },
  {
   "cell_type": "code",
   "execution_count": 122,
   "metadata": {},
   "outputs": [
    {
     "data": {
      "image/png": "[encoded data removed]",
      "text/plain": [
       "<Figure size 720x360 with 1 Axes>"
      ]
     },
     "metadata": {
      "needs_background": "light"
     },
     "output_type": "display_data"
    }
   ],
   "source": [
    "plt.figure(figsize=(10,5))\n",
    "\n",
    "plt.axvline(x=0,c='lightgray')\n",
    "for iNN,NNs in enumerate(NNarray[0:3]):\n",
    "    plt.plot(np.mean(diagno[NNs]['PHQ'],axis=(0,1,3)),lev,label=NNname[iNN])\n",
    "plt.plot(np.mean(diagno['truth']['PHQ'],axis=(0,1,3)),lev,label='Truth',color='k')\n",
    "plt.legend()\n",
    "plt.xlabel('Convective moistening ($\\mathrm{W\\ m^{-2}}$)')\n",
    "plt.ylabel('Pressure (hPa)')\n",
    "plt.gca().invert_yaxis()\n",
    "\n",
    "name = 'CQ3p4'\n",
    "plt.savefig(pathHOME+name+'.png',format='png')"
   ]
  },
  {
   "cell_type": "markdown",
   "metadata": {},
   "source": [
    "# 5) Clausius-Clapeyron plot"
   ]
  },
  {
   "cell_type": "markdown",
   "metadata": {},
   "source": [
    "In both simulations, bin near-surface specific humidity by near-surface temperature"
   ]
  },
  {
   "cell_type": "code",
   "execution_count": 53,
   "metadata": {},
   "outputs": [],
   "source": [
    "hist0,bine0 = np.histogram(data0K.TAP[:,-1,:,:],bins=50)"
   ]
  },
  {
   "cell_type": "code",
   "execution_count": 54,
   "metadata": {},
   "outputs": [],
   "source": [
    "hist4,bine4 = np.histogram(data4K.TAP[:,-1,:,:],bins=50)"
   ]
  },
  {
   "cell_type": "code",
   "execution_count": 55,
   "metadata": {},
   "outputs": [],
   "source": [
    "def conditional_avg_and_std(bin_edges,field_x,field_y):\n",
    "    # Initialization\n",
    "    Nbin = np.size(bin_edges)\n",
    "    Ym = np.zeros((Nbin-1,1))\n",
    "    Ystd = np.copy(Ym)\n",
    "\n",
    "    for ibin,edge in enumerate(bin_edges):\n",
    "        print('ibin=',ibin,'/',Nbin-1,' & edge=',edge,end=\"\\r\")\n",
    "        if ibin>0:\n",
    "            w = (field_x>=edge_left)*(field_x<edge)\n",
    "            Ym[ibin-1],Ystd[ibin-1] = weighted_avg_and_std(field_y,w)\n",
    "\n",
    "        edge_left = edge\n",
    "    \n",
    "    return Ym,Ystd"
   ]
  },
  {
   "cell_type": "code",
   "execution_count": 57,
   "metadata": {},
   "outputs": [],
   "source": [
    "def weighted_avg_and_std(values, weights):\n",
    "    \"\"\"\n",
    "    Return the weighted average and standard deviation.\n",
    "    values, weights -- np ndarrays with the same shape.\n",
    "    \"\"\"\n",
    "    average = np.average(values, weights=weights)\n",
    "    variance = np.average((values-average)**2, weights=weights)\n",
    "    return (average, np.sqrt(variance))"
   ]
  },
  {
   "cell_type": "code",
   "execution_count": 64,
   "metadata": {},
   "outputs": [
    {
     "name": "stdout",
     "output_type": "stream",
     "text": [
      "ibin= 50 / 50  & edge= 301.84234 36 / 50  & edge= 293.0528\r"
     ]
    }
   ],
   "source": [
    "qs0m,qs0std = conditional_avg_and_std(bine0,data0K.TAP[:,-1,:,:],data0K.QAP[:,-1,:,:])\n",
    "T0m,T0std = conditional_avg_and_std(bine0,data0K.TAP[:,-1,:,:],data0K.TAP[:,-1,:,:])"
   ]
  },
  {
   "cell_type": "code",
   "execution_count": 67,
   "metadata": {},
   "outputs": [
    {
     "name": "stdout",
     "output_type": "stream",
     "text": [
      "ibin= 50 / 50  & edge= 306.17867\r"
     ]
    }
   ],
   "source": [
    "qs4m,qs4std = conditional_avg_and_std(bine4,data4K.TAP[:,-1,:,:],data4K.QAP[:,-1,:,:])\n",
    "T4m,T4std = conditional_avg_and_std(bine4,data4K.TAP[:,-1,:,:],data4K.TAP[:,-1,:,:])"
   ]
  },
  {
   "cell_type": "code",
   "execution_count": 83,
   "metadata": {},
   "outputs": [
    {
     "data": {
      "image/png": "[encoded data removed]",
      "text/plain": [
       "<Figure size 720x432 with 1 Axes>"
      ]
     },
     "metadata": {
      "needs_background": "light"
     },
     "output_type": "display_data"
    }
   ],
   "source": [
    "plt.figure(figsize=(10,6))\n",
    "\n",
    "#plt.fill_between(T0m[:,0],1e3*(qs0m[:,0]-qs0std[:,0]),1e3*(qs0m[:,0]+qs0std[:,0]),color='lightblue')\n",
    "#plt.fill_between(T4m[:,0],1e3*(qs4m[:,0]-qs4std[:,0]),1e3*(qs4m[:,0]+qs4std[:,0]),color='lightcoral')\n",
    "plt.plot(T0m,1e3*qs0m,color='b',label='Reference')\n",
    "plt.plot(T4m,1e3*qs4m,color='r',label='+4K')\n",
    "plt.ylabel('NS Specific humidity (g/kg)')\n",
    "plt.xlabel('NS Temperature (K)')\n",
    "plt.legend()\n",
    "plt.xlim((269,306))\n",
    "plt.ylim((0,27))\n",
    "name = 'CC1'\n",
    "plt.savefig(pathHOME+name+'.png',format='png')"
   ]
  },
  {
   "cell_type": "markdown",
   "metadata": {},
   "source": [
    "# 6) Two-stage improvements on convective heating and moistening"
   ]
  },
  {
   "cell_type": "code",
   "execution_count": 2,
   "metadata": {},
   "outputs": [],
   "source": [
    "# Config and data files for POG experiment\n",
    "config_fn = ['/home/t/Tom.Beucler/SPCAM/CBRAIN-CAM/pp_config/101_PostProc.yml',\n",
    "            '/home/t/Tom.Beucler/SPCAM/CBRAIN-CAM/pp_config/104_PostProc.yml',\n",
    "            '/home/t/Tom.Beucler/SPCAM/CBRAIN-CAM/pp_config/148_PostProc.yml',\n",
    "            '/home/t/Tom.Beucler/SPCAM/CBRAIN-CAM/pp_config/151_PostProc.yml']\n",
    "data0K_fn = ['/local/Tom.Beucler/SPCAM_PHYS/101_valid.nc',\n",
    "            '/local/Tom.Beucler/SPCAM_PHYS/104_valid.nc',\n",
    "            '/local/Tom.Beucler/SPCAM_PHYS/148_valid.nc',\n",
    "            '/local/Tom.Beucler/SPCAM_PHYS/151_valid.nc']\n",
    "data4K_fn = ['/local/Tom.Beucler/SPCAM_PHYS/102_valid.nc',\n",
    "            '/local/Tom.Beucler/SPCAM_PHYS/105_valid.nc',\n",
    "            '/local/Tom.Beucler/SPCAM_PHYS/149_valid.nc',\n",
    "            '/local/Tom.Beucler/SPCAM_PHYS/152_valid.nc']\n",
    "NNarray = ['POG101','POG104','POG148','POG151']\n",
    "NNname = ['Brute Force','Relative Humidity','Flux','Eps']"
   ]
  },
  {
   "cell_type": "code",
   "execution_count": 3,
   "metadata": {},
   "outputs": [
    {
     "name": "stderr",
     "output_type": "stream",
     "text": [
      "W1208 18:02:40.714049 22602863609664 deprecation.py:506] From /home/t/Tom.Beucler/miniconda3/lib/python3.7/site-packages/tensorflow/python/ops/init_ops.py:97: calling GlorotUniform.__init__ (from tensorflow.python.ops.init_ops) with dtype is deprecated and will be removed in a future version.\n",
      "Instructions for updating:\n",
      "Call initializer instance with the dtype argument instead of passing it to the constructor\n",
      "W1208 18:02:40.714720 22602863609664 deprecation.py:506] From /home/t/Tom.Beucler/miniconda3/lib/python3.7/site-packages/tensorflow/python/ops/init_ops.py:1251: calling VarianceScaling.__init__ (from tensorflow.python.ops.init_ops) with dtype is deprecated and will be removed in a future version.\n",
      "Instructions for updating:\n",
      "Call initializer instance with the dtype argument instead of passing it to the constructor\n",
      "W1208 18:02:40.715760 22602863609664 deprecation.py:506] From /home/t/Tom.Beucler/miniconda3/lib/python3.7/site-packages/tensorflow/python/ops/init_ops.py:97: calling Zeros.__init__ (from tensorflow.python.ops.init_ops) with dtype is deprecated and will be removed in a future version.\n",
      "Instructions for updating:\n",
      "Call initializer instance with the dtype argument instead of passing it to the constructor\n"
     ]
    },
    {
     "name": "stdout",
     "output_type": "stream",
     "text": [
      "/scratch-local/Tom.Beucler/SPCAM_PHYS/HDF5_DATA\n",
      "NN name is  POG101\n"
     ]
    },
    {
     "name": "stderr",
     "output_type": "stream",
     "text": [
      "/home/t/Tom.Beucler/SPCAM/CBRAIN-CAM/notebooks/tbeucler_devlog/cbrain/model_diagnostics.py:25: YAMLLoadWarning: calling yaml.load() without Loader=... is deprecated, as the default Loader is unsafe. Please read https://msg.pyyaml.org/load for full details.\n",
      "  config = yaml.load(f)\n",
      "/home/t/Tom.Beucler/SPCAM/CBRAIN-CAM/notebooks/tbeucler_devlog/cbrain/model_diagnostics.py:25: YAMLLoadWarning: calling yaml.load() without Loader=... is deprecated, as the default Loader is unsafe. Please read https://msg.pyyaml.org/load for full details.\n",
      "  config = yaml.load(f)\n"
     ]
    },
    {
     "name": "stdout",
     "output_type": "stream",
     "text": [
      "NN name is  POG104\n"
     ]
    },
    {
     "name": "stderr",
     "output_type": "stream",
     "text": [
      "/home/t/Tom.Beucler/SPCAM/CBRAIN-CAM/notebooks/tbeucler_devlog/cbrain/model_diagnostics.py:25: YAMLLoadWarning: calling yaml.load() without Loader=... is deprecated, as the default Loader is unsafe. Please read https://msg.pyyaml.org/load for full details.\n",
      "  config = yaml.load(f)\n",
      "/home/t/Tom.Beucler/SPCAM/CBRAIN-CAM/notebooks/tbeucler_devlog/cbrain/model_diagnostics.py:25: YAMLLoadWarning: calling yaml.load() without Loader=... is deprecated, as the default Loader is unsafe. Please read https://msg.pyyaml.org/load for full details.\n",
      "  config = yaml.load(f)\n"
     ]
    },
    {
     "name": "stdout",
     "output_type": "stream",
     "text": [
      "NN name is  POG148\n"
     ]
    },
    {
     "name": "stderr",
     "output_type": "stream",
     "text": [
      "/home/t/Tom.Beucler/SPCAM/CBRAIN-CAM/notebooks/tbeucler_devlog/cbrain/model_diagnostics.py:25: YAMLLoadWarning: calling yaml.load() without Loader=... is deprecated, as the default Loader is unsafe. Please read https://msg.pyyaml.org/load for full details.\n",
      "  config = yaml.load(f)\n",
      "/home/t/Tom.Beucler/SPCAM/CBRAIN-CAM/notebooks/tbeucler_devlog/cbrain/model_diagnostics.py:25: YAMLLoadWarning: calling yaml.load() without Loader=... is deprecated, as the default Loader is unsafe. Please read https://msg.pyyaml.org/load for full details.\n",
      "  config = yaml.load(f)\n"
     ]
    },
    {
     "name": "stdout",
     "output_type": "stream",
     "text": [
      "NN name is  POG151\n"
     ]
    },
    {
     "name": "stderr",
     "output_type": "stream",
     "text": [
      "/home/t/Tom.Beucler/SPCAM/CBRAIN-CAM/notebooks/tbeucler_devlog/cbrain/model_diagnostics.py:25: YAMLLoadWarning: calling yaml.load() without Loader=... is deprecated, as the default Loader is unsafe. Please read https://msg.pyyaml.org/load for full details.\n",
      "  config = yaml.load(f)\n",
      "/home/t/Tom.Beucler/SPCAM/CBRAIN-CAM/notebooks/tbeucler_devlog/cbrain/model_diagnostics.py:25: YAMLLoadWarning: calling yaml.load() without Loader=... is deprecated, as the default Loader is unsafe. Please read https://msg.pyyaml.org/load for full details.\n",
      "  config = yaml.load(f)\n"
     ]
    }
   ],
   "source": [
    "NN = {}; md0 = {}; md4 = {};\n",
    "%cd $TRAINDIR/HDF5_DATA\n",
    "for i,NNs in enumerate(NNarray):\n",
    "    print('NN name is ',NNs)\n",
    "    path = TRAINDIR+'HDF5_DATA/'+NNs+'.hdf5'\n",
    "    #NN[NNs] = load_model(path,custom_objects=dict_lay)\n",
    "    NN[NNs] = load_model(path)\n",
    "    md0[NNs] = ModelDiagnostics(NN[NNs],config_fn[i],data0K_fn[i])\n",
    "    md4[NNs] = ModelDiagnostics(NN[NNs],config_fn[i],data4K_fn[i])"
   ]
  },
  {
   "cell_type": "code",
   "execution_count": 4,
   "metadata": {},
   "outputs": [],
   "source": [
    "# Indices of different variables\n",
    "PHQ_idx = slice(0,30)\n",
    "TPHYSTND_idx = slice(30,60)"
   ]
  },
  {
   "cell_type": "code",
   "execution_count": null,
   "metadata": {},
   "outputs": [
    {
     "data": {
      "application/vnd.jupyter.widget-view+json": {
       "model_id": "f02f0883481345d28984a9ad43f6b2cb",
       "version_major": 2,
       "version_minor": 0
      },
      "text/plain": [
       "HBox(children=(IntProgress(value=0, max=144), HTML(value='')))"
      ]
     },
     "metadata": {},
     "output_type": "display_data"
    },
    {
     "name": "stdout",
     "output_type": "stream",
     "text": [
      "\n"
     ]
    },
    {
     "data": {
      "application/vnd.jupyter.widget-view+json": {
       "model_id": "8371f1b4acf34a78983f52d9babc106e",
       "version_major": 2,
       "version_minor": 0
      },
      "text/plain": [
       "HBox(children=(IntProgress(value=0, max=144), HTML(value='')))"
      ]
     },
     "metadata": {},
     "output_type": "display_data"
    }
   ],
   "source": [
    "lat_ind = np.arange(26,40)\n",
    "iini = 500\n",
    "iend = 644\n",
    "\n",
    "for isim in range(2):\n",
    "    if isim==0: md = md0\n",
    "    elif isim==1: md = md4\n",
    "    diagno = {} # Diagnostics structure\n",
    "    diagno['truth'] = {} # Diagnostics structure for the truth\n",
    "    for i,NNs in enumerate(NNarray):\n",
    "        diagno[NNs] = {} # Diagnostics structure for each NN\n",
    "        for itime in tqdm(np.arange(iini,iend)):\n",
    "            # Get input, prediction and truth from NN\n",
    "            inp, p, truth = md[NNs].get_inp_pred_truth(itime)  # [lat, lon, var, lev]\n",
    "            # Get convective heating and moistening for each NN\n",
    "            if itime==iini:\n",
    "                if i==0:\n",
    "                    diagno['truth']['PHQ'] = md[NNs].reshape_ngeo(truth[:,PHQ_idx])[lat_ind,:,:,np.newaxis]\n",
    "                    diagno['truth']['TPHYSTND'] = md[NNs].reshape_ngeo(truth[:,TPHYSTND_idx])[lat_ind,:,:,np.newaxis]\n",
    "                diagno[NNs]['PHQ'] = md[NNs].reshape_ngeo(p[:,PHQ_idx])[lat_ind,:,:,np.newaxis]\n",
    "                diagno[NNs]['TPHYSTND'] = md[NNs].reshape_ngeo(p[:,TPHYSTND_idx])[lat_ind,:,:,np.newaxis]\n",
    "            else:\n",
    "                for istr,field in enumerate(['PHQ','TPHYSTND']):\n",
    "                    if field=='PHQ': ind_field = PHQ_idx\n",
    "                    elif field=='TPHYSTND': ind_field = TPHYSTND_idx\n",
    "                    diagno[NNs][field] = np.concatenate((diagno[NNs][field],\n",
    "                                                         md[NNs].reshape_ngeo(p[:,ind_field])[lat_ind,:,:,np.newaxis]),\n",
    "                                                        axis=3)\n",
    "                    if i==0:\n",
    "                        diagno['truth'][field] = np.concatenate((diagno['truth'][field],\n",
    "                                                                 md[NNs].reshape_ngeo(truth[:,ind_field])[lat_ind,:,:,np.newaxis]),\n",
    "                                                                axis=3)\n",
    "    if isim==0: diagno0 = diagno \n",
    "    elif isim==1: diagno4 = diagno"
   ]
  },
  {
   "cell_type": "code",
   "execution_count": null,
   "metadata": {},
   "outputs": [],
   "source": [
    "# Load coordinates\n",
    "coor = xr.open_dataset(\"/project/meteo/w2w/A6/S.Rasp/SP-CAM/fluxbypass_aqua/AndKua_aqua_SPCAM3.0_sp_fbp_f4.cam2.h1.0000-01-01-00000.nc\",\\\n",
    "                    decode_times=False)\n",
    "lat = coor.lat; lon = coor.lon; lev = coor.lev;\n",
    "coor.close();"
   ]
  },
  {
   "cell_type": "code",
   "execution_count": null,
   "metadata": {},
   "outputs": [],
   "source": [
    "pathHOME = '/home/t/Tom.Beucler/'\n",
    "# Plot characteristics\n",
    "fz = 20\n",
    "lw = 4\n",
    "plt.rc('text', usetex=True)\n",
    "plt.rc('font', family='serif', size=fz)\n",
    "mpl.rcParams['lines.linewidth'] = lw\n",
    "plt.close('all')"
   ]
  },
  {
   "cell_type": "code",
   "execution_count": null,
   "metadata": {},
   "outputs": [],
   "source": [
    "diagno = diagno4\n",
    "\n",
    "plt.figure(figsize=(10,5))\n",
    "\n",
    "plt.subplot(1,2,1)\n",
    "plt.axvline(x=0,c='lightgray')\n",
    "for iNN,NNs in enumerate(NNarray[0:2]):\n",
    "    plt.plot(np.mean(diagno[NNs]['PHQ'],axis=(0,1,3)),lev,label=NNname[iNN])\n",
    "plt.plot(np.mean(diagno['truth']['PHQ'],axis=(0,1,3)),lev,label='Truth',color='k')\n",
    "#plt.legend()\n",
    "plt.xlabel('Convective moistening ($\\mathrm{W\\ m^{-2}}$)')\n",
    "plt.ylabel('Pressure (hPa)')\n",
    "plt.gca().invert_yaxis()\n",
    "plt.xlim((-45,30))\n",
    "\n",
    "plt.subplot(1,2,2)\n",
    "plt.axvline(x=0,c='lightgray')\n",
    "for iNN,NNs in enumerate(NNarray[0:2]):\n",
    "    plt.plot(np.mean(diagno[NNs]['TPHYSTND'],axis=(0,1,3)),lev,label=NNname[iNN])\n",
    "plt.plot(np.mean(diagno['truth']['TPHYSTND'],axis=(0,1,3)),lev,label='Truth',color='k')\n",
    "#plt.legend()\n",
    "plt.xlabel('Convective heating ($\\mathrm{W\\ m^{-2}}$)')\n",
    "#plt.ylabel('Pressure (hPa)')\n",
    "plt.gca().invert_yaxis()\n",
    "plt.xlim((-9,39))\n",
    "\n",
    "name = 'G2'\n",
    "plt.savefig(pathHOME+name+'.png',format='png')"
   ]
  },
  {
   "cell_type": "markdown",
   "metadata": {},
   "source": [
    "# 7) Third stage improvement (output scaling)"
   ]
  },
  {
   "cell_type": "markdown",
   "metadata": {},
   "source": [
    "## 7.1) Develop algorithm"
   ]
  },
  {
   "cell_type": "code",
   "execution_count": null,
   "metadata": {},
   "outputs": [],
   "source": [
    "md = md0"
   ]
  },
  {
   "cell_type": "code",
   "execution_count": null,
   "metadata": {},
   "outputs": [],
   "source": [
    "inp_norm104, p, truth = md['POG104'].get_inp_pred_truth(itime)  # [lat, lon, var, lev]"
   ]
  },
  {
   "cell_type": "code",
   "execution_count": null,
   "metadata": {},
   "outputs": [],
   "source": [
    "inp = inp_norm104*md['POG104'].valid_gen.input_transform.div+\\\n",
    "md['POG104'].valid_gen.input_transform.sub"
   ]
  },
  {
   "cell_type": "code",
   "execution_count": null,
   "metadata": {},
   "outputs": [],
   "source": [
    "inp_norm148 = (inp-md['POG148'].valid_gen.input_transform.sub)/\\\n",
    "md['POG148'].valid_gen.input_transform.div"
   ]
  },
  {
   "cell_type": "code",
   "execution_count": null,
   "metadata": {},
   "outputs": [],
   "source": [
    "pathPKL = '/home/t/Tom.Beucler/SPCAM/CBRAIN-CAM/notebooks/tbeucler_devlog/PKL_DATA/'\n",
    "hf = open(pathPKL+'2019_12_03_SEF_fit.pkl','rb')\n",
    "SFfit = pickle.load(hf)\n",
    "lfit = SFfit['LHFlogfit']\n",
    "sfit = SFfit['SHFfit']"
   ]
  },
  {
   "cell_type": "code",
   "execution_count": null,
   "metadata": {},
   "outputs": [],
   "source": [
    "inp.shape"
   ]
  },
  {
   "cell_type": "code",
   "execution_count": null,
   "metadata": {},
   "outputs": [],
   "source": [
    "x = np.log10(inp[:,30:60][:,-1])"
   ]
  },
  {
   "cell_type": "code",
   "execution_count": null,
   "metadata": {},
   "outputs": [],
   "source": [
    "LHF = 10**(lfit[0]*x**0+lfit[1]*x**1+lfit[2]*x**2)\n",
    "SHF = sfit\n",
    "SEF = LHF+SHF"
   ]
  },
  {
   "cell_type": "code",
   "execution_count": null,
   "metadata": {},
   "outputs": [],
   "source": [
    "pred148 = md['POG148'].model.predict_on_batch(inp_norm148)"
   ]
  },
  {
   "cell_type": "code",
   "execution_count": null,
   "metadata": {},
   "outputs": [],
   "source": [
    "pred148[:,0:60] = pred148[:,0:60]*np.transpose(np.tile(SEF,(60,1)))/100"
   ]
  },
  {
   "cell_type": "markdown",
   "metadata": {},
   "source": [
    "## 7.2) Use for comparison"
   ]
  },
  {
   "cell_type": "code",
   "execution_count": null,
   "metadata": {},
   "outputs": [],
   "source": [
    "lat_ind = np.arange(26,40)\n",
    "iini = 500\n",
    "iend = 644\n",
    "\n",
    "for isim in range(2):\n",
    "    if isim==0: md = md0\n",
    "    elif isim==1: md = md4\n",
    "    dTHIRD = {} # dTHIRDstics structure\n",
    "    for i,NNs in enumerate([NNarray[2]]):\n",
    "        dTHIRD[NNs] = {} # dTHIRDstics structure for each NN\n",
    "        for itime in tqdm(np.arange(iini,iend)):\n",
    "            # Get input, prediction and truth from NN\n",
    "            inp_norm104, p, truth = md['POG104'].get_inp_pred_truth(itime)  # [lat, lon, var, lev]\n",
    "            inp = inp_norm104*md['POG104'].valid_gen.input_transform.div+\\\n",
    "            md['POG104'].valid_gen.input_transform.sub\n",
    "            x = np.log10(inp[:,30:60][:,-1])\n",
    "            inp_norm148 = (inp-md[NNs].valid_gen.input_transform.sub)/\\\n",
    "            md[NNs].valid_gen.input_transform.div\n",
    "            LHF = 10**(lfit[0]*x**0+lfit[1]*x**1+lfit[2]*x**2)\n",
    "            SHF = sfit\n",
    "            SEF = LHF+SHF\n",
    "            pred148 = md['POG148'].model.predict_on_batch(inp_norm148)\n",
    "            pred148[:,0:60] = pred148[:,0:60]*np.transpose(np.tile(SEF,(60,1)))/100\n",
    "            # Get convective heating and moistening for each NN\n",
    "            if itime==iini:\n",
    "                dTHIRD[NNs]['PHQ'] = md[NNs].reshape_ngeo(pred148[:,PHQ_idx])[lat_ind,:,:,np.newaxis]\n",
    "                dTHIRD[NNs]['TPHYSTND'] = md[NNs].reshape_ngeo(pred148[:,TPHYSTND_idx])[lat_ind,:,:,np.newaxis]\n",
    "            else:\n",
    "                for istr,field in enumerate(['PHQ','TPHYSTND']):\n",
    "                    if field=='PHQ': ind_field = PHQ_idx\n",
    "                    elif field=='TPHYSTND': ind_field = TPHYSTND_idx\n",
    "                    dTHIRD[NNs][field] = np.concatenate((dTHIRD[NNs][field],\n",
    "                                                         md[NNs].reshape_ngeo(pred148[:,ind_field])[lat_ind,:,:,np.newaxis]),\n",
    "                                                        axis=3)\n",
    "    if isim==0: dTHIRD0 = dTHIRD \n",
    "    elif isim==1: dTHIRD4 = dTHIRD"
   ]
  },
  {
   "cell_type": "code",
   "execution_count": null,
   "metadata": {},
   "outputs": [],
   "source": [
    "diagno = diagno4\n",
    "dTHIRD = dTHIRD4\n",
    "\n",
    "plt.figure(figsize=(10,5))\n",
    "\n",
    "plt.subplot(1,2,1)\n",
    "plt.axvline(x=0,c='lightgray')\n",
    "for iNN,NNs in enumerate(NNarray[0:2]):\n",
    "    plt.plot(np.mean(diagno[NNs]['PHQ'],axis=(0,1,3)),lev,label=NNname[iNN])\n",
    "plt.plot(np.mean(dTHIRD['POG148']['PHQ'],axis=(0,1,3)),lev,label=NNname[iNN])\n",
    "plt.plot(np.mean(diagno['truth']['PHQ'],axis=(0,1,3)),lev,label='Truth',color='k')\n",
    "#plt.legend()\n",
    "plt.xlabel('Convective moistening ($\\mathrm{W\\ m^{-2}}$)')\n",
    "plt.ylabel('Pressure (hPa)')\n",
    "plt.gca().invert_yaxis()\n",
    "plt.xlim((-45,30))\n",
    "\n",
    "plt.subplot(1,2,2)\n",
    "plt.axvline(x=0,c='lightgray')\n",
    "for iNN,NNs in enumerate(NNarray[0:2]):\n",
    "    plt.plot(np.mean(diagno[NNs]['TPHYSTND'],axis=(0,1,3)),lev,label=NNname[iNN])\n",
    "plt.plot(np.mean(dTHIRD['POG148']['TPHYSTND'],axis=(0,1,3)),lev,label=NNname[iNN])\n",
    "plt.plot(np.mean(diagno['truth']['TPHYSTND'],axis=(0,1,3)),lev,label='Truth',color='k')\n",
    "#plt.legend()\n",
    "plt.xlabel('Convective heating ($\\mathrm{W\\ m^{-2}}$)')\n",
    "#plt.ylabel('Pressure (hPa)')\n",
    "plt.gca().invert_yaxis()\n",
    "plt.xlim((-9,39))\n",
    "\n",
    "name = 'test'\n",
    "plt.savefig(pathHOME+name+'.png',format='png')"
   ]
  },
  {
   "cell_type": "markdown",
   "metadata": {},
   "source": [
    "# 8) Fourth stage development"
   ]
  },
  {
   "cell_type": "markdown",
   "metadata": {},
   "source": [
    "## 8.1) Diagnose vertical shift problem"
   ]
  },
  {
   "cell_type": "code",
   "execution_count": null,
   "metadata": {},
   "outputs": [],
   "source": [
    "prop_cycle = plt.rcParams['axes.prop_cycle']\n",
    "colors = prop_cycle.by_key()['color']"
   ]
  },
  {
   "cell_type": "code",
   "execution_count": null,
   "metadata": {},
   "outputs": [],
   "source": [
    "colors"
   ]
  },
  {
   "cell_type": "code",
   "execution_count": null,
   "metadata": {},
   "outputs": [],
   "source": [
    "plt.figure(figsize=(10,5))\n",
    "\n",
    "plt.subplot(1,2,1)\n",
    "plt.axvline(x=0,c='lightgray')\n",
    "for iNN,NNs in enumerate(NNarray[1:2]):\n",
    "    plt.plot(np.mean(diagno4[NNs]['PHQ']-diagno0[NNs]['PHQ'],axis=(0,1,3)),lev,label=NNname[iNN],color=colors[iNN+1])\n",
    "plt.plot(np.mean(dTHIRD4['POG148']['PHQ']-dTHIRD0['POG148']['PHQ'],axis=(0,1,3)),lev,label=NNname[iNN],color=colors[2])\n",
    "plt.plot(np.mean(diagno4['truth']['PHQ']-diagno0['truth']['PHQ'],axis=(0,1,3)),lev,label='Truth',color='k')\n",
    "#plt.legend()\n",
    "plt.xlabel('Convective moistening ($\\mathrm{W\\ m^{-2}}$)')\n",
    "plt.ylabel('Pressure (hPa)')\n",
    "plt.gca().invert_yaxis()\n",
    "plt.xlim((-12,12))\n",
    "\n",
    "plt.subplot(1,2,2)\n",
    "plt.axvline(x=0,c='lightgray')\n",
    "for iNN,NNs in enumerate(NNarray[1:2]):\n",
    "    plt.plot(np.mean(diagno4[NNs]['TPHYSTND']-diagno0[NNs]['TPHYSTND'],axis=(0,1,3)),lev,label=NNname[iNN],color=colors[iNN+1])\n",
    "plt.plot(np.mean(dTHIRD4['POG148']['TPHYSTND']-dTHIRD0['POG148']['TPHYSTND'],axis=(0,1,3)),lev,label=NNname[iNN],color=colors[2])\n",
    "plt.plot(np.mean(diagno4['truth']['TPHYSTND']-diagno0['truth']['TPHYSTND'],axis=(0,1,3)),lev,label='Truth',color='k')\n",
    "#plt.legend()\n",
    "plt.xlabel('Convective heating ($\\mathrm{W\\ m^{-2}}$)')\n",
    "#plt.ylabel('Pressure (hPa)')\n",
    "plt.gca().invert_yaxis()\n",
    "plt.xlim((-12,12))\n",
    "\n",
    "name = 'eps1'\n",
    "plt.savefig(pathHOME+name+'.png',format='png')"
   ]
  },
  {
   "cell_type": "markdown",
   "metadata": {},
   "source": [
    "## 8.2) Develop back and forth interpolation for new eps network"
   ]
  },
  {
   "cell_type": "code",
   "execution_count": null,
   "metadata": {},
   "outputs": [],
   "source": [
    "# Load data\n",
    "pathPKL = '/home/t/Tom.Beucler/SPCAM/CBRAIN-CAM/notebooks/tbeucler_devlog/PKL_DATA/'\n",
    "hf = open(pathPKL+'2019_11_22_imin_TNS_logfit.pkl','rb')\n",
    "imfit = pickle.load(hf)['logmodel'][0]\n",
    "hf = open(pathPKL+'2019_11_22_eps_TNS_linfit.pkl','rb')\n",
    "epfit = pickle.load(hf)['linmodel']"
   ]
  },
  {
   "cell_type": "code",
   "execution_count": null,
   "metadata": {},
   "outputs": [],
   "source": [
    "eps_res = 30\n",
    "eps_NN = np.linspace(0,1,eps_res)\n",
    "\n",
    "iini = 500\n",
    "iend = 644\n",
    "sREF = 'POG104' # Reference NN in p space\n",
    "sEPS = 'POG151' # NN in eps space"
   ]
  },
  {
   "cell_type": "code",
   "execution_count": null,
   "metadata": {},
   "outputs": [],
   "source": [
    "for isim in range(2):\n",
    "    if isim==0: md = md0\n",
    "    elif isim==1: md = md4\n",
    "    dFOURTH = {} # dTHIRDstics structure\n",
    "    for itime in tqdm(np.arange(iini,iend)):\n",
    "        # Get input, prediction and truth from NN\n",
    "        inp_norm104, p, truth = md[sREF].get_inp_pred_truth(itime)  # [lat, lon, var, lev]\n",
    "        inp = inp_norm104*md[sREF].valid_gen.input_transform.div+md[sREF].valid_gen.input_transform.sub\n",
    "\n",
    "        # Surface flux normalization calculation\n",
    "        x0 = np.log10(inp[:,30:60][:,-1])\n",
    "        LHF = 10**(lfit[0]*x0**0+lfit[1]*x0**1+lfit[2]*x0**2)\n",
    "        SHF = sfit\n",
    "        SEF = LHF+SHF\n",
    "\n",
    "        x_interp = np.zeros((inp.shape[0],int(inp.shape[1]+2*(eps_res-30))))\n",
    "\n",
    "        # 2) Extract temperature and moisture from input vector\n",
    "        q = inp[:,:30]\n",
    "        T = inp[:,30:60]\n",
    "\n",
    "        # 3) Calculates vertical interpolation domain [imin_eval:] and eps coordinate as a function of NS T = T[30]\n",
    "        for isample in range(T.shape[0]):\n",
    "            x = T[isample,-1]\n",
    "            imin_eval = int(np.rint(10**(imfit[0]*np.log10(x)**0+imfit[1]*np.log10(x)**1+\\\n",
    "                                         imfit[2]*np.log10(x)**2+imfit[3]*np.log10(x)**3+\\\n",
    "                                         imfit[4]*np.log10(x)**4)))\n",
    "            eps_eval = epfit[:,0]*x**0+epfit[:,1]*x**1+epfit[:,2]*x**2+epfit[:,3]*x**3+epfit[:,4]*x**4\n",
    "            # tgb - 11/23/2019 - Adds dummy 1 at the end because np.where evaluates y output even if condition false and not returning y\n",
    "            eps_test = np.minimum(1,np.maximum(eps_eval,0))[imin_eval:]\n",
    "            eps_eval = np.concatenate((np.minimum(1,np.maximum(eps_eval,0))[imin_eval:][::-1],[1]))\n",
    "\n",
    "        # 4) Interpolate both T and q to the eps grid for the neural network\n",
    "        # 4.1) Thermodynamic profiles to interpolate\n",
    "        # tgb - 11/23/2019 - Adds dummy zero at the end because np.where evaluates y output even if condition false and not returning y\n",
    "            T_input = np.concatenate((T[isample,imin_eval:][::-1],[0]))\n",
    "            q_input = np.concatenate((q[isample,imin_eval:][::-1],[0]))\n",
    "        # 4.2) Interpolation using searchsorted and low-level weighting implementation\n",
    "        # The goal is to mimic T_interp = np.interp(x=eps_ref,xp=eps_eval,fp=T_input)\n",
    "        # If left then T_input[0], if right then T_input[-1], else weighted average of T_input[iint-1] and T_input[iint]\n",
    "            iint = np.searchsorted(eps_eval,eps_NN)\n",
    "            T_interp = np.where(iint<1,T_input[0],np.where(iint>(30-imin_eval-1),T_input[30-imin_eval-1],\\\n",
    "                                                           ((eps_eval[iint]-eps_NN)/(eps_eval[iint]-eps_eval[iint-1]))*T_input[iint-1]+\\\n",
    "                                                           ((eps_NN-eps_eval[iint-1])/(eps_eval[iint]-eps_eval[iint-1]))*T_input[iint]))\n",
    "            q_interp = np.where(iint<1,q_input[0],np.where(iint>(30-imin_eval-1),q_input[30-imin_eval-1],\\\n",
    "                                                           ((eps_eval[iint]-eps_NN)/(eps_eval[iint]-eps_eval[iint-1]))*q_input[iint-1]+\\\n",
    "                                                           ((eps_NN-eps_eval[iint-1])/(eps_eval[iint]-eps_eval[iint-1]))*q_input[iint]))\n",
    "\n",
    "        # 5) Return the interpolated input vector x_interp\n",
    "            x_interp[isample,:] = np.concatenate((q_interp,T_interp,inp[isample,60:]))\n",
    "\n",
    "        inp_norm131 = (x_interp-md[sEPS].valid_gen.input_transform.sub)/md[sEPS].valid_gen.input_transform.div\n",
    "        pred131 = md[sEPS].model.predict_on_batch(inp_norm131)\n",
    "        pred131[:,0:60] = pred131[:,0:60]*np.transpose(np.tile(SEF,(60,1)))/100\n",
    "        predeps = pred131\n",
    "\n",
    "        y = np.zeros((T.shape[0],64))\n",
    "        for isample in range(T.shape[0]):\n",
    "            x = T[isample,-1]\n",
    "            imin_eval = int(np.rint(10**(imfit[0]*np.log10(x)**0+imfit[1]*np.log10(x)**1+\\\n",
    "                                         imfit[2]*np.log10(x)**2+imfit[3]*np.log10(x)**3+\\\n",
    "                                         imfit[4]*np.log10(x)**4)))\n",
    "            eps_eval = epfit[:,0]*x**0+epfit[:,1]*x**1+epfit[:,2]*x**2+epfit[:,3]*x**3+epfit[:,4]*x**4\n",
    "            # tgb - 11/23/2019 - Adds dummy 1 at the end because np.where evaluates y output even if condition false and not returning y\n",
    "            eps_test = np.minimum(1,np.maximum(eps_eval,0))[imin_eval:]\n",
    "            eps_eval = np.concatenate((np.minimum(1,np.maximum(eps_eval,0))[imin_eval:][::-1],[1]))\n",
    "\n",
    "        # 4) Interpolate both T and q to the eps grid for the neural network\n",
    "        # 4.1) Thermodynamic profiles to interpolate\n",
    "        # tgb - 11/23/2019 - Adds dummy zero at the end because np.where evaluates y output even if condition false and not returning y\n",
    "            dqdt_output = predeps[isample,:30]\n",
    "            dTdt_output = predeps[isample,30:60]\n",
    "        # 4.2) Interpolation using searchsorted and low-level weighting implementation\n",
    "        # The goal is to mimic T_interp = np.interp(x=eps_ref,xp=eps_eval,fp=T_input)\n",
    "        # If left then T_input[0], if right then T_input[-1], else weighted average of T_input[iint-1] and T_input[iint]\n",
    "            iint = np.searchsorted(eps_NN,eps_eval)\n",
    "            dTdt_interp = np.where(iint<1,dTdt_output[0],np.where(iint>29,dTdt_output[-1],\\\n",
    "                                                                  ((eps_NN[iint]-eps_eval)/(eps_NN[iint]-eps_NN[iint-1]))*dTdt_output[iint-1]+\\\n",
    "                                                                  ((eps_eval-eps_NN[iint-1])/(eps_NN[iint]-eps_NN[iint-1]))*dTdt_output[iint]))\n",
    "            dTdt_interp = np.concatenate((dTdt_interp,np.zeros(imin_eval-1,)))[::-1]\n",
    "            dqdt_interp = np.where(iint<1,dqdt_output[0],np.where(iint>29,dqdt_output[-1],\\\n",
    "                                                                  ((eps_NN[iint]-eps_eval)/(eps_NN[iint]-eps_NN[iint-1]))*dqdt_output[iint-1]+\\\n",
    "                                                                  ((eps_eval-eps_NN[iint-1])/(eps_NN[iint]-eps_NN[iint-1]))*dqdt_output[iint]))\n",
    "            dqdt_interp = np.concatenate((dqdt_interp,np.zeros(imin_eval-1,)))[::-1]\n",
    "        # 5) Return the output vector y\n",
    "            y[isample,:] = np.concatenate((dqdt_interp,dTdt_interp,predeps[isample,60:64]))\n",
    "        #y *= md[sREF].valid_gen.output_transform.scale\n",
    "\n",
    "        # Reshape to (lat,lon) grid\n",
    "        if itime==iini: \n",
    "            dFOURTH['POG151'] = md[sEPS].reshape_ngeo(y)[:,:,:,np.newaxis] \n",
    "            dFOURTH['truth'] = md[sEPS].reshape_ngeo(truth)[:,:,:,np.newaxis]\n",
    "        else:\n",
    "            dFOURTH['POG151'] = np.concatenate((dFOURTH['POG151'],md[sEPS].reshape_ngeo(y)[:,:,:,np.newaxis]),axis=3)\n",
    "            dFOURTH['truth'] = np.concatenate((dFOURTH['truth'],md[sEPS].reshape_ngeo(truth)[:,:,:,np.newaxis]),axis=3)\n",
    "            \n",
    "        if isim==0: dFOURTH0 = dFOURTH\n",
    "        elif isim==1: dFOURTH4 = dFOURTH"
   ]
  },
  {
   "cell_type": "markdown",
   "metadata": {},
   "source": [
    "## 8.3) Check if vertical shift problem solved"
   ]
  },
  {
   "cell_type": "markdown",
   "metadata": {},
   "source": [
    "First check that predictions in reference climate are reasonable"
   ]
  },
  {
   "cell_type": "code",
   "execution_count": null,
   "metadata": {},
   "outputs": [],
   "source": [
    "diagno = diagno4\n",
    "dTHIRD = dTHIRD4\n",
    "dFOURTH = dFOURTH4\n",
    "\n",
    "plt.figure(figsize=(10,5))\n",
    "\n",
    "plt.subplot(1,2,1)\n",
    "plt.axvline(x=0,c='lightgray')\n",
    "for iNN,NNs in enumerate(NNarray[1:2]):\n",
    "    plt.plot(np.mean(diagno[NNs]['PHQ'],axis=(0,1,3)),lev,label=NNname[iNN],color=colors[iNN+1])\n",
    "plt.plot(np.mean(dTHIRD['POG148']['PHQ'],axis=(0,1,3)),lev,label=NNname[iNN],color=colors[2])\n",
    "plt.plot(np.mean(dFOURTH['POG151'][lat_ind,:,:30,:],axis=(0,1,3)),lev,label=NNname[iNN],color=colors[3])\n",
    "plt.plot(np.mean(diagno['truth']['PHQ'],axis=(0,1,3)),lev,label='Truth',color='k')\n",
    "\n",
    "#plt.legend()\n",
    "plt.xlabel('Convective moistening ($\\mathrm{W\\ m^{-2}}$)')\n",
    "plt.ylabel('Pressure (hPa)')\n",
    "plt.gca().invert_yaxis()\n",
    "#plt.xlim((-12,12))\n",
    "\n",
    "plt.subplot(1,2,2)\n",
    "plt.axvline(x=0,c='lightgray')\n",
    "for iNN,NNs in enumerate(NNarray[1:2]):\n",
    "    plt.plot(np.mean(diagno[NNs]['TPHYSTND'],axis=(0,1,3)),lev,label=NNname[iNN],color=colors[iNN+1])\n",
    "plt.plot(np.mean(dTHIRD['POG148']['TPHYSTND'],axis=(0,1,3)),lev,label=NNname[iNN],color=colors[2])\n",
    "plt.plot(np.mean(dFOURTH['POG151'][lat_ind,:,30:60,:],axis=(0,1,3)),lev,label=NNname[iNN],color=colors[3])\n",
    "plt.plot(np.mean(diagno['truth']['TPHYSTND'],axis=(0,1,3)),lev,label='Truth',color='k')\n",
    "#plt.legend()\n",
    "plt.xlabel('Convective heating ($\\mathrm{W\\ m^{-2}}$)')\n",
    "#plt.ylabel('Pressure (hPa)')\n",
    "plt.gca().invert_yaxis()\n",
    "#plt.xlim((-12,12))\n",
    "\n",
    "name = 'eps4'\n",
    "plt.savefig(pathHOME+name+'.png',format='png')"
   ]
  },
  {
   "cell_type": "markdown",
   "metadata": {},
   "source": [
    "Then check if vertical shift problem is solved"
   ]
  },
  {
   "cell_type": "code",
   "execution_count": null,
   "metadata": {},
   "outputs": [],
   "source": [
    "plt.figure(figsize=(10,5))\n",
    "\n",
    "plt.subplot(1,2,1)\n",
    "plt.axvline(x=0,c='lightgray')\n",
    "for iNN,NNs in enumerate(NNarray[1:2]):\n",
    "    plt.plot(np.mean(diagno4[NNs]['PHQ']-diagno0[NNs]['PHQ'],axis=(0,1,3)),lev,label=NNname[iNN],color=colors[iNN+1])\n",
    "plt.plot(np.mean(dTHIRD4['POG148']['PHQ']-dTHIRD0['POG148']['PHQ'],axis=(0,1,3)),lev,label=NNname[iNN],color=colors[2])\n",
    "plt.plot(np.mean(dFOURTH4['POG151'][lat_ind,:,:30,:]-\\\n",
    "                 dFOURTH0['POG151'][lat_ind,:,:30,:],axis=(0,1,3)),lev,label=NNname[iNN],color=colors[3])\n",
    "plt.plot(np.mean(diagno4['truth']['PHQ']-diagno0['truth']['PHQ'],axis=(0,1,3)),lev,label='Truth',color='k')\n",
    "\n",
    "#plt.legend()\n",
    "plt.xlabel('Convective moistening ($\\mathrm{W\\ m^{-2}}$)')\n",
    "plt.ylabel('Pressure (hPa)')\n",
    "plt.ylim((0,350))\n",
    "plt.gca().invert_yaxis()\n",
    "plt.xlim((-6,6))\n",
    "\n",
    "plt.subplot(1,2,2)\n",
    "plt.axvline(x=0,c='lightgray')\n",
    "for iNN,NNs in enumerate(NNarray[1:2]):\n",
    "    plt.plot(np.mean(diagno4[NNs]['TPHYSTND']-diagno0[NNs]['TPHYSTND'],axis=(0,1,3)),lev,label=NNname[iNN],color=colors[iNN+1])\n",
    "plt.plot(np.mean(dTHIRD4['POG148']['TPHYSTND']-dTHIRD0['POG148']['TPHYSTND'],axis=(0,1,3)),lev,label=NNname[iNN],color=colors[2])\n",
    "plt.plot(np.mean(dFOURTH4['POG151'][lat_ind,:,30:60,:]-\\\n",
    "                 dFOURTH0['POG151'][lat_ind,:,30:60,:],axis=(0,1,3)),lev,label=NNname[iNN],color=colors[3])\n",
    "plt.plot(np.mean(diagno4['truth']['TPHYSTND']-diagno0['truth']['TPHYSTND'],axis=(0,1,3)),lev,label='Truth',color='k')\n",
    "#plt.legend()\n",
    "plt.xlabel('Convective heating ($\\mathrm{W\\ m^{-2}}$)')\n",
    "#plt.ylabel('Pressure (hPa)')\n",
    "plt.gca().invert_yaxis()\n",
    "plt.ylim((0,350))\n",
    "plt.xlim((-6,6))\n",
    "\n",
    "\n",
    "name = 'eps6'\n",
    "plt.savefig(pathHOME+name+'.png',format='png')"
   ]
  },
  {
   "cell_type": "code",
   "execution_count": null,
   "metadata": {},
   "outputs": [],
   "source": []
  },
  {
   "cell_type": "code",
   "execution_count": null,
   "metadata": {},
   "outputs": [],
   "source": []
  },
  {
   "cell_type": "code",
   "execution_count": null,
   "metadata": {},
   "outputs": [],
   "source": []
  }
 ],
 "metadata": {
  "kernelspec": {
   "display_name": "Python 3",
   "language": "python",
   "name": "python3"
  },
  "language_info": {
   "codemirror_mode": {
    "name": "ipython",
    "version": 3
   },
   "file_extension": ".py",
   "mimetype": "text/x-python",
   "name": "python",
   "nbconvert_exporter": "python",
   "pygments_lexer": "ipython3",
   "version": "3.7.3"
  },
  "toc": {
   "base_numbering": 1,
   "nav_menu": {},
   "number_sections": false,
   "sideBar": true,
   "skip_h1_title": false,
   "title_cell": "Table of Contents",
   "title_sidebar": "Contents",
   "toc_cell": false,
   "toc_position": {
    "height": "calc(100% - 180px)",
    "left": "10px",
    "top": "150px",
    "width": "273.188px"
   },
   "toc_section_display": true,
   "toc_window_display": true
  }
 },
 "nbformat": 4,
 "nbformat_minor": 2
}
