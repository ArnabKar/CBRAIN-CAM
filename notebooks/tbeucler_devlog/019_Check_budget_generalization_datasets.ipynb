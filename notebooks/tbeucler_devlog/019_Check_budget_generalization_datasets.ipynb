{
 "cells": [
  {
   "cell_type": "markdown",
   "metadata": {},
   "source": [
    "The motivation for this notebook is to check whether the exact constraints of mass & enthalpy conservation always hold in every dataset that we would like to study, notably the base (fluxbypassaqua), and the two generalization datasets (+4K) and (+3Kw1). We will:  \n",
    "1) Check the water budget in dimensional and dimensionless forms in the base dataset  \n",
    "2) Move to (+4K) to see if it still holds"
   ]
  },
  {
   "cell_type": "markdown",
   "metadata": {},
   "source": [
    "# 1) Load constants, network configuration, etc"
   ]
  },
  {
   "cell_type": "code",
   "execution_count": 1,
   "metadata": {},
   "outputs": [
    {
     "name": "stdout",
     "output_type": "stream",
     "text": [
      "/filer/z-sv-pool12c/t/Tom.Beucler/SPCAM/CBRAIN-CAM\n"
     ]
    }
   ],
   "source": [
    "from cbrain.imports import *\n",
    "from cbrain.data_generator import *\n",
    "from cbrain.cam_constants import *\n",
    "from cbrain.losses import *\n",
    "from cbrain.utils import limit_mem\n",
    "from cbrain.layers import *\n",
    "import tensorflow as tf\n",
    "import tensorflow.math as tfm\n",
    "from tensorflow.keras.layers import *\n",
    "from tensorflow.keras.models import *\n",
    "import xarray as xr\n",
    "import numpy as np\n",
    "from cbrain.model_diagnostics import ModelDiagnostics\n",
    "# Otherwise tensorflow will use ALL your GPU RAM for no reason\n",
    "limit_mem()\n",
    "TRAINDIR = '/local/Tom.Beucler/SPCAM_PHYS/'\n",
    "DATADIR = '/project/meteo/w2w/A6/S.Rasp/SP-CAM/fluxbypass_aqua/'\n",
    "PREFIX = '8col009_01_'\n",
    "%cd /filer/z-sv-pool12c/t/Tom.Beucler/SPCAM/CBRAIN-CAM"
   ]
  },
  {
   "cell_type": "markdown",
   "metadata": {},
   "source": [
    "# 2) +0K Validation dataset"
   ]
  },
  {
   "cell_type": "code",
   "execution_count": 146,
   "metadata": {},
   "outputs": [],
   "source": [
    "DATADIR = '/project/meteo/w2w/A6/S.Rasp/SP-CAM/sp32fbp_andkua/'\n",
    "import xarray as xr\n",
    "import numpy as np\n",
    "ds = xr.open_dataset(DATADIR + 'AndKua_aqua_SPCAM3.0_sp_fbp32.cam2.h1.0000-02-02-00000.nc', \n",
    "                     decode_times=False)\n",
    "ds0 = xr.open_dataset(DATADIR + 'AndKua_aqua_SPCAM3.0_sp_fbp32.cam2.h1.0000-02-01-00000.nc', \n",
    "                     decode_times=False)"
   ]
  },
  {
   "cell_type": "code",
   "execution_count": 122,
   "metadata": {},
   "outputs": [
    {
     "data": {
      "text/plain": [
       "<xarray.DataArray 'VD01' (time: 48, lev: 30, lat: 64, lon: 128)>\n",
       "[11796480 values with dtype=float32]\n",
       "Coordinates:\n",
       "  * lat      (lat) float64 -87.86 -85.1 -82.31 -79.53 ... 79.53 82.31 85.1 87.86\n",
       "  * lon      (lon) float64 0.0 2.812 5.625 8.438 ... 348.8 351.6 354.4 357.2\n",
       "  * lev      (lev) float64 3.643 7.595 14.36 24.61 ... 936.2 957.5 976.3 992.6\n",
       "  * time     (time) float64 32.0 32.02 32.04 32.06 ... 32.92 32.94 32.96 32.98\n",
       "Attributes:\n",
       "    units:        kg/kg/s\n",
       "    long_name:    Vertical diffusion of Q\n",
       "    cell_method:  time: mean"
      ]
     },
     "execution_count": 122,
     "metadata": {},
     "output_type": "execute_result"
    }
   ],
   "source": [
    "ds.VD01"
   ]
  },
  {
   "cell_type": "markdown",
   "metadata": {},
   "source": [
    "## Local conservation"
   ]
  },
  {
   "cell_type": "code",
   "execution_count": 123,
   "metadata": {},
   "outputs": [
    {
     "name": "stdout",
     "output_type": "stream",
     "text": [
      "WATINT 79.41151849249485\n",
      "PREC 0.3312984943448783\n",
      "LHF 79.7429\n",
      "RES 8.00468516786168e-05\n"
     ]
    }
   ],
   "source": [
    "# Pick a point\n",
    "it = 5\n",
    "ilon = 23\n",
    "ilat = 35\n",
    "# Calculate residual\n",
    "# 0) Pressure coordinate\n",
    "P = np.expand_dims(ds.P0,axis=0)*hyai+\\\n",
    "np.expand_dims(ds.PS[it,ilon,ilat],axis=0)*hybi;\n",
    "dP = P[1:]-P[:-1]\n",
    "# 1) Water integral\n",
    "WATINT = np.sum(L_V/G*dP*\\\n",
    "                (ds.PHCLDICE[it,:,ilon,ilat]+\\\n",
    "                 ds.PHCLDLIQ[it,:,ilon,ilat]+\\\n",
    "                 ds.PHQ[it,:,ilon,ilat]),axis=0);\n",
    "# 2) Precipitation\n",
    "PREC = RHO_L*L_V*(ds.PRECT[it,ilon,ilat]+\\\n",
    "                  1e-3*ds.PRECTEND[it,ilon,ilat]);\n",
    "# 3) Latent heat flux\n",
    "LHF = ds.LHFLX[it-1,ilon,ilat];\n",
    "# 3) Residual of water budget\n",
    "RES = -WATINT-PREC+LHF;\n",
    "print('WATINT',WATINT.values)\n",
    "print('PREC',PREC.values)\n",
    "print('LHF',LHF.values)\n",
    "print('RES',RES.values)"
   ]
  },
  {
   "cell_type": "code",
   "execution_count": 115,
   "metadata": {},
   "outputs": [
    {
     "data": {
      "text/plain": [
       "<xarray.DataArray ()>\n",
       "array(-1.645174)\n",
       "Coordinates:\n",
       "    lat      float64 -23.72\n",
       "    lon      float64 118.1\n",
       "    time     float64 31.1"
      ]
     },
     "execution_count": 115,
     "metadata": {},
     "output_type": "execute_result"
    }
   ],
   "source": [
    "RES"
   ]
  },
  {
   "cell_type": "markdown",
   "metadata": {},
   "source": [
    "## Global conservation"
   ]
  },
  {
   "cell_type": "code",
   "execution_count": 147,
   "metadata": {},
   "outputs": [],
   "source": [
    "# 0) Pressure coordinate\n",
    "P = np.moveaxis(np.tile(np.expand_dims(ds.P0,axis=0)*hyai,\\\n",
    "                        (ds.PS.shape[0]-1,ds.PS.shape[1],ds.PS.shape[2],1)),\\\n",
    "                3,1)+\\\n",
    "np.moveaxis(np.tile(ds.PS[1:,:,:],(hybi.shape[0],1,1,1)),0,1)*\\\n",
    "np.moveaxis(np.tile(hybi,\\\n",
    "                    (ds.PS.shape[0]-1,ds.PS.shape[1],ds.PS.shape[2],1)),\\\n",
    "            3,1)\n",
    "dP = P[:,1:,:,:]-P[:,:-1,:,:]\n",
    "# 1) Water integral\n",
    "WATINT = np.sum(L_V/G*dP*(ds.PHCLDICE[1:,:,:,:]+\\\n",
    "                          ds.PHCLDLIQ[1:,:,:,:]+\\\n",
    "                          ds.PHQ[1:,:,:,:]),axis=1);\n",
    "# 2) Precipitation\n",
    "PREC = RHO_L*L_V*(ds.PRECT[1:,:,:]+1e-3*ds.PRECTEND[1:,:,:]);\n",
    "# 3) Residual of water budget\n",
    "RES = -WATINT-PREC+ds.LHFLX.values[:-1,:,:]; "
   ]
  },
  {
   "cell_type": "code",
   "execution_count": 160,
   "metadata": {},
   "outputs": [
    {
     "name": "stdout",
     "output_type": "stream",
     "text": [
      "WATINT -1.055444878138102\n",
      "PREC 74.544716\n",
      "LHF 73.510574\n",
      "RESIDUAL 0.021287452722341758\n"
     ]
    },
    {
     "data": {
      "text/plain": [
       "(array([ 943.,  946., 1010., 1029., 1083., 1013., 1055., 1047., 1069.,\n",
       "        1068., 1206., 1201., 1202., 1232., 1205., 1228., 1295., 1296.,\n",
       "        1350., 1397., 1474., 1494., 1564., 1567., 1555., 1590., 1611.,\n",
       "        1667., 1810., 1796., 1855., 1969., 1915., 2036., 1951., 2054.,\n",
       "        2074., 2218., 2292., 2324., 2409., 2367., 2435., 2577., 2621.,\n",
       "        2598., 2706., 2726., 2892., 2991., 3035., 2952., 2892., 2774.,\n",
       "        2647., 2760., 2723., 2683., 2504., 2559., 2404., 2348., 2342.,\n",
       "        2228., 2261., 2124., 2128., 2049., 1954., 1973., 1868., 1844.,\n",
       "        1841., 1845., 1727., 1726., 1666., 1656., 1546., 1540., 1547.,\n",
       "        1405., 1461., 1454., 1309., 1345., 1284., 1287., 1267., 1224.,\n",
       "        1157., 1194., 1165., 1133., 1136., 1050., 1066., 1001.,  980.,\n",
       "        1030.]),\n",
       " array([-1.  , -0.98, -0.96, -0.94, -0.92, -0.9 , -0.88, -0.86, -0.84,\n",
       "        -0.82, -0.8 , -0.78, -0.76, -0.74, -0.72, -0.7 , -0.68, -0.66,\n",
       "        -0.64, -0.62, -0.6 , -0.58, -0.56, -0.54, -0.52, -0.5 , -0.48,\n",
       "        -0.46, -0.44, -0.42, -0.4 , -0.38, -0.36, -0.34, -0.32, -0.3 ,\n",
       "        -0.28, -0.26, -0.24, -0.22, -0.2 , -0.18, -0.16, -0.14, -0.12,\n",
       "        -0.1 , -0.08, -0.06, -0.04, -0.02,  0.  ,  0.02,  0.04,  0.06,\n",
       "         0.08,  0.1 ,  0.12,  0.14,  0.16,  0.18,  0.2 ,  0.22,  0.24,\n",
       "         0.26,  0.28,  0.3 ,  0.32,  0.34,  0.36,  0.38,  0.4 ,  0.42,\n",
       "         0.44,  0.46,  0.48,  0.5 ,  0.52,  0.54,  0.56,  0.58,  0.6 ,\n",
       "         0.62,  0.64,  0.66,  0.68,  0.7 ,  0.72,  0.74,  0.76,  0.78,\n",
       "         0.8 ,  0.82,  0.84,  0.86,  0.88,  0.9 ,  0.92,  0.94,  0.96,\n",
       "         0.98,  1.  ]),\n",
       " <a list of 100 Patch objects>)"
      ]
     },
     "execution_count": 160,
     "metadata": {},
     "output_type": "execute_result"
    },
    {
     "data": {
      "image/png": "[encoded data removed]",
      "text/plain": [
       "<Figure size 432x288 with 1 Axes>"
      ]
     },
     "metadata": {
      "needs_background": "light"
     },
     "output_type": "display_data"
    }
   ],
   "source": [
    "print('WATINT',WATINT.values.mean(axis=(0,1,2)))\n",
    "print('PREC',PREC.values.mean(axis=(0,1,2)))\n",
    "print('LHF',ds.LHFLX.values[:-1,:,:].mean(axis=(0,1,2)))\n",
    "print('RESIDUAL',RES.values.mean(axis=(0,1,2)))\n",
    "plt.hist(RES.values.flatten(), bins=100, range=(-1,1))"
   ]
  },
  {
   "cell_type": "markdown",
   "metadata": {},
   "source": [
    "# 3) +4K dataset"
   ]
  },
  {
   "cell_type": "code",
   "execution_count": 149,
   "metadata": {},
   "outputs": [],
   "source": [
    "DATADIR = '/project/meteo/w2w/A6/S.Rasp/SP-CAM/sp8fbp_4k/'\n",
    "import xarray as xr\n",
    "import numpy as np\n",
    "ds = xr.open_dataset(DATADIR + 'sp8fbp_4k.cam2.h2.0000-01-01-00000.nc', \n",
    "                     decode_times=False)\n",
    "ds0 = xr.open_dataset(DATADIR + 'sp8fbp_4k.cam2.h2.0000-02-03-00000.nc', \n",
    "                     decode_times=False)"
   ]
  },
  {
   "cell_type": "code",
   "execution_count": 150,
   "metadata": {},
   "outputs": [],
   "source": [
    "# 0) Pressure coordinate\n",
    "P = np.moveaxis(np.tile(np.expand_dims(ds.P0,axis=0)*hyai,\\\n",
    "                        (ds.PS.shape[0]-1,ds.PS.shape[1],ds.PS.shape[2],1)),\\\n",
    "                3,1)+\\\n",
    "np.moveaxis(np.tile(ds.PS[1:,:,:],(hybi.shape[0],1,1,1)),0,1)*\\\n",
    "np.moveaxis(np.tile(hybi,\\\n",
    "                    (ds.PS.shape[0]-1,ds.PS.shape[1],ds.PS.shape[2],1)),\\\n",
    "            3,1)\n",
    "dP = P[:,1:,:,:]-P[:,:-1,:,:]\n",
    "# 1) Water integral\n",
    "WATINT = np.sum(L_V/G*dP*(ds.PHCLDICE[1:,:,:,:]+\\\n",
    "                          ds.PHCLDLIQ[1:,:,:,:]+\\\n",
    "                          ds.PHQ[1:,:,:,:]),axis=1);\n",
    "# 2) Precipitation\n",
    "PREC = RHO_L*L_V*(ds.PRECT[1:,:,:]+1e-3*ds.PRECTEND[1:,:,:]);\n",
    "# 3) Residual of water budget\n",
    "RES = -WATINT-PREC+ds.LHFLX.values[:-1,:,:]; "
   ]
  },
  {
   "cell_type": "code",
   "execution_count": 158,
   "metadata": {},
   "outputs": [
    {
     "name": "stdout",
     "output_type": "stream",
     "text": [
      "WATINT -1.055444878138102\n",
      "PREC 74.544716\n",
      "LHF 73.510574\n",
      "RESIDUAL 0.021287452722341758\n"
     ]
    },
    {
     "data": {
      "text/plain": [
       "(array([ 943.,  946., 1010., 1029., 1083., 1013., 1055., 1047., 1069.,\n",
       "        1068., 1206., 1201., 1202., 1232., 1205., 1228., 1295., 1296.,\n",
       "        1350., 1397., 1474., 1494., 1564., 1567., 1555., 1590., 1611.,\n",
       "        1667., 1810., 1796., 1855., 1969., 1915., 2036., 1951., 2054.,\n",
       "        2074., 2218., 2292., 2324., 2409., 2367., 2435., 2577., 2621.,\n",
       "        2598., 2706., 2726., 2892., 2991., 3035., 2952., 2892., 2774.,\n",
       "        2647., 2760., 2723., 2683., 2504., 2559., 2404., 2348., 2342.,\n",
       "        2228., 2261., 2124., 2128., 2049., 1954., 1973., 1868., 1844.,\n",
       "        1841., 1845., 1727., 1726., 1666., 1656., 1546., 1540., 1547.,\n",
       "        1405., 1461., 1454., 1309., 1345., 1284., 1287., 1267., 1224.,\n",
       "        1157., 1194., 1165., 1133., 1136., 1050., 1066., 1001.,  980.,\n",
       "        1030.]),\n",
       " array([-1.  , -0.98, -0.96, -0.94, -0.92, -0.9 , -0.88, -0.86, -0.84,\n",
       "        -0.82, -0.8 , -0.78, -0.76, -0.74, -0.72, -0.7 , -0.68, -0.66,\n",
       "        -0.64, -0.62, -0.6 , -0.58, -0.56, -0.54, -0.52, -0.5 , -0.48,\n",
       "        -0.46, -0.44, -0.42, -0.4 , -0.38, -0.36, -0.34, -0.32, -0.3 ,\n",
       "        -0.28, -0.26, -0.24, -0.22, -0.2 , -0.18, -0.16, -0.14, -0.12,\n",
       "        -0.1 , -0.08, -0.06, -0.04, -0.02,  0.  ,  0.02,  0.04,  0.06,\n",
       "         0.08,  0.1 ,  0.12,  0.14,  0.16,  0.18,  0.2 ,  0.22,  0.24,\n",
       "         0.26,  0.28,  0.3 ,  0.32,  0.34,  0.36,  0.38,  0.4 ,  0.42,\n",
       "         0.44,  0.46,  0.48,  0.5 ,  0.52,  0.54,  0.56,  0.58,  0.6 ,\n",
       "         0.62,  0.64,  0.66,  0.68,  0.7 ,  0.72,  0.74,  0.76,  0.78,\n",
       "         0.8 ,  0.82,  0.84,  0.86,  0.88,  0.9 ,  0.92,  0.94,  0.96,\n",
       "         0.98,  1.  ]),\n",
       " <a list of 100 Patch objects>)"
      ]
     },
     "execution_count": 158,
     "metadata": {},
     "output_type": "execute_result"
    },
    {
     "data": {
      "image/png": "[encoded data removed]",
      "text/plain": [
       "<Figure size 432x288 with 1 Axes>"
      ]
     },
     "metadata": {
      "needs_background": "light"
     },
     "output_type": "display_data"
    }
   ],
   "source": [
    "print('WATINT',WATINT.values.mean(axis=(0,1,2)))\n",
    "print('PREC',PREC.values.mean(axis=(0,1,2)))\n",
    "print('LHF',ds.LHFLX.values[:-1,:,:].mean(axis=(0,1,2)))\n",
    "print('RESIDUAL',RES.values.mean(axis=(0,1,2)))\n",
    "plt.hist(RES.values.flatten(), bins=100, range=(-1,1))"
   ]
  },
  {
   "cell_type": "markdown",
   "metadata": {},
   "source": [
    "# 4) +3Kw1 dataset"
   ]
  },
  {
   "cell_type": "code",
   "execution_count": 152,
   "metadata": {},
   "outputs": [],
   "source": [
    "DATADIR = '/project/meteo/w2w/A6/S.Rasp/SP-CAM/sp8fbp_3kw1/'\n",
    "import xarray as xr\n",
    "import numpy as np\n",
    "ds = xr.open_dataset(DATADIR + 'sp8fbp_3kw1.cam2.h2.0001-04-03-00000.nc', \n",
    "                     decode_times=False)\n",
    "ds0 = xr.open_dataset(DATADIR + 'sp8fbp_3kw1.cam2.h2.0001-04-02-00000.nc', \n",
    "                     decode_times=False)"
   ]
  },
  {
   "cell_type": "code",
   "execution_count": 153,
   "metadata": {},
   "outputs": [],
   "source": [
    "# 0) Pressure coordinate\n",
    "P = np.moveaxis(np.tile(np.expand_dims(ds.P0,axis=0)*hyai,\\\n",
    "                        (ds.PS.shape[0]-1,ds.PS.shape[1],ds.PS.shape[2],1)),\\\n",
    "                3,1)+\\\n",
    "np.moveaxis(np.tile(ds.PS[1:,:,:],(hybi.shape[0],1,1,1)),0,1)*\\\n",
    "np.moveaxis(np.tile(hybi,\\\n",
    "                    (ds.PS.shape[0]-1,ds.PS.shape[1],ds.PS.shape[2],1)),\\\n",
    "            3,1)\n",
    "dP = P[:,1:,:,:]-P[:,:-1,:,:]\n",
    "# 1) Water integral\n",
    "WATINT = np.sum(L_V/G*dP*(ds.PHCLDICE[1:,:,:,:]+\\\n",
    "                          ds.PHCLDLIQ[1:,:,:,:]+\\\n",
    "                          ds.PHQ[1:,:,:,:]),axis=1);\n",
    "# 2) Precipitation\n",
    "PREC = RHO_L*L_V*(ds.PRECT[1:,:,:]+1e-3*ds.PRECTEND[1:,:,:]);\n",
    "# 3) Residual of water budget\n",
    "RES = -WATINT-PREC+ds.LHFLX.values[:-1,:,:]; "
   ]
  },
  {
   "cell_type": "code",
   "execution_count": 159,
   "metadata": {},
   "outputs": [
    {
     "name": "stdout",
     "output_type": "stream",
     "text": [
      "WATINT -1.055444878138102\n",
      "PREC 74.544716\n",
      "LHF 73.510574\n",
      "RESIDUAL 0.021287452722341758\n"
     ]
    },
    {
     "data": {
      "text/plain": [
       "(array([ 943.,  946., 1010., 1029., 1083., 1013., 1055., 1047., 1069.,\n",
       "        1068., 1206., 1201., 1202., 1232., 1205., 1228., 1295., 1296.,\n",
       "        1350., 1397., 1474., 1494., 1564., 1567., 1555., 1590., 1611.,\n",
       "        1667., 1810., 1796., 1855., 1969., 1915., 2036., 1951., 2054.,\n",
       "        2074., 2218., 2292., 2324., 2409., 2367., 2435., 2577., 2621.,\n",
       "        2598., 2706., 2726., 2892., 2991., 3035., 2952., 2892., 2774.,\n",
       "        2647., 2760., 2723., 2683., 2504., 2559., 2404., 2348., 2342.,\n",
       "        2228., 2261., 2124., 2128., 2049., 1954., 1973., 1868., 1844.,\n",
       "        1841., 1845., 1727., 1726., 1666., 1656., 1546., 1540., 1547.,\n",
       "        1405., 1461., 1454., 1309., 1345., 1284., 1287., 1267., 1224.,\n",
       "        1157., 1194., 1165., 1133., 1136., 1050., 1066., 1001.,  980.,\n",
       "        1030.]),\n",
       " array([-1.  , -0.98, -0.96, -0.94, -0.92, -0.9 , -0.88, -0.86, -0.84,\n",
       "        -0.82, -0.8 , -0.78, -0.76, -0.74, -0.72, -0.7 , -0.68, -0.66,\n",
       "        -0.64, -0.62, -0.6 , -0.58, -0.56, -0.54, -0.52, -0.5 , -0.48,\n",
       "        -0.46, -0.44, -0.42, -0.4 , -0.38, -0.36, -0.34, -0.32, -0.3 ,\n",
       "        -0.28, -0.26, -0.24, -0.22, -0.2 , -0.18, -0.16, -0.14, -0.12,\n",
       "        -0.1 , -0.08, -0.06, -0.04, -0.02,  0.  ,  0.02,  0.04,  0.06,\n",
       "         0.08,  0.1 ,  0.12,  0.14,  0.16,  0.18,  0.2 ,  0.22,  0.24,\n",
       "         0.26,  0.28,  0.3 ,  0.32,  0.34,  0.36,  0.38,  0.4 ,  0.42,\n",
       "         0.44,  0.46,  0.48,  0.5 ,  0.52,  0.54,  0.56,  0.58,  0.6 ,\n",
       "         0.62,  0.64,  0.66,  0.68,  0.7 ,  0.72,  0.74,  0.76,  0.78,\n",
       "         0.8 ,  0.82,  0.84,  0.86,  0.88,  0.9 ,  0.92,  0.94,  0.96,\n",
       "         0.98,  1.  ]),\n",
       " <a list of 100 Patch objects>)"
      ]
     },
     "execution_count": 159,
     "metadata": {},
     "output_type": "execute_result"
    },
    {
     "data": {
      "image/png": "[encoded data removed]",
      "text/plain": [
       "<Figure size 432x288 with 1 Axes>"
      ]
     },
     "metadata": {
      "needs_background": "light"
     },
     "output_type": "display_data"
    }
   ],
   "source": [
    "print('WATINT',WATINT.values.mean(axis=(0,1,2)))\n",
    "print('PREC',PREC.values.mean(axis=(0,1,2)))\n",
    "print('LHF',ds.LHFLX.values[:-1,:,:].mean(axis=(0,1,2)))\n",
    "print('RESIDUAL',RES.values.mean(axis=(0,1,2)))\n",
    "plt.hist(RES.values.flatten(), bins=100, range=(-1,1))"
   ]
  },
  {
   "cell_type": "code",
   "execution_count": null,
   "metadata": {},
   "outputs": [],
   "source": []
  }
 ],
 "metadata": {
  "kernelspec": {
   "display_name": "Python 3",
   "language": "python",
   "name": "python3"
  },
  "language_info": {
   "codemirror_mode": {
    "name": "ipython",
    "version": 3
   },
   "file_extension": ".py",
   "mimetype": "text/x-python",
   "name": "python",
   "nbconvert_exporter": "python",
   "pygments_lexer": "ipython3",
   "version": "3.6.8"
  }
 },
 "nbformat": 4,
 "nbformat_minor": 2
}
