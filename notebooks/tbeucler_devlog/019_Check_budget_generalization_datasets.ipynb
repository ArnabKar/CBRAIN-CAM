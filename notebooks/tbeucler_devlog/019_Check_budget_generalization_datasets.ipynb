{
 "cells": [
  {
   "cell_type": "markdown",
   "metadata": {},
   "source": [
    "The motivation for this notebook is to check whether the exact constraints of mass & enthalpy conservation always hold in every dataset that we would like to study, notably the base (fluxbypassaqua), and the two generalization datasets (+4K) and (+3Kw1). We will:  \n",
    "1) Check the water budget in dimensional and dimensionless forms in the base dataset  \n",
    "2) Move to (+4K) to see if it still holds"
   ]
  },
  {
   "cell_type": "markdown",
   "metadata": {},
   "source": [
    "# 1) Load constants, network configuration, etc"
   ]
  },
  {
   "cell_type": "code",
   "execution_count": 1,
   "metadata": {},
   "outputs": [
    {
     "name": "stdout",
     "output_type": "stream",
     "text": [
      "/filer/z-sv-pool12c/t/Tom.Beucler/SPCAM/CBRAIN-CAM\n"
     ]
    }
   ],
   "source": [
    "from cbrain.imports import *\n",
    "from cbrain.data_generator import *\n",
    "from cbrain.cam_constants import *\n",
    "from cbrain.losses import *\n",
    "from cbrain.utils import limit_mem\n",
    "from cbrain.layers import *\n",
    "import tensorflow as tf\n",
    "import tensorflow.math as tfm\n",
    "from tensorflow.keras.layers import *\n",
    "from tensorflow.keras.models import *\n",
    "import xarray as xr\n",
    "import numpy as np\n",
    "from cbrain.model_diagnostics import ModelDiagnostics\n",
    "# Otherwise tensorflow will use ALL your GPU RAM for no reason\n",
    "limit_mem()\n",
    "TRAINDIR = '/local/Tom.Beucler/SPCAM_PHYS/'\n",
    "DATADIR = '/project/meteo/w2w/A6/S.Rasp/SP-CAM/fluxbypass_aqua/'\n",
    "PREFIX = '8col009_01_'\n",
    "%cd /filer/z-sv-pool12c/t/Tom.Beucler/SPCAM/CBRAIN-CAM"
   ]
  },
  {
   "cell_type": "markdown",
   "metadata": {},
   "source": [
    "# 2) +0K Validation dataset"
   ]
  },
  {
   "cell_type": "code",
   "execution_count": 2,
   "metadata": {},
   "outputs": [],
   "source": [
    "DATADIR = '/project/meteo/w2w/A6/S.Rasp/SP-CAM/sp32fbp_andkua/'\n",
    "import xarray as xr\n",
    "import numpy as np\n",
    "ds = xr.open_dataset(DATADIR + 'AndKua_aqua_SPCAM3.0_sp_fbp32.cam2.h1.0000-02-02-00000.nc', \n",
    "                     decode_times=False)\n",
    "ds0 = xr.open_dataset(DATADIR + 'AndKua_aqua_SPCAM3.0_sp_fbp32.cam2.h1.0000-02-01-00000.nc', \n",
    "                     decode_times=False)"
   ]
  },
  {
   "cell_type": "code",
   "execution_count": 5,
   "metadata": {},
   "outputs": [
    {
     "data": {
      "text/plain": [
       "['T',\n",
       " '_DataArray__default',\n",
       " '_DataArray__default_name',\n",
       " '_HANDLED_TYPES',\n",
       " '__abs__',\n",
       " '__add__',\n",
       " '__and__',\n",
       " '__array__',\n",
       " '__array_priority__',\n",
       " '__array_ufunc__',\n",
       " '__array_wrap__',\n",
       " '__bool__',\n",
       " '__class__',\n",
       " '__complex__',\n",
       " '__contains__',\n",
       " '__copy__',\n",
       " '__dask_graph__',\n",
       " '__dask_keys__',\n",
       " '__dask_optimize__',\n",
       " '__dask_postcompute__',\n",
       " '__dask_postpersist__',\n",
       " '__dask_scheduler__',\n",
       " '__deepcopy__',\n",
       " '__delattr__',\n",
       " '__delitem__',\n",
       " '__dict__',\n",
       " '__dir__',\n",
       " '__div__',\n",
       " '__doc__',\n",
       " '__enter__',\n",
       " '__eq__',\n",
       " '__exit__',\n",
       " '__float__',\n",
       " '__floordiv__',\n",
       " '__format__',\n",
       " '__ge__',\n",
       " '__getattr__',\n",
       " '__getattribute__',\n",
       " '__getitem__',\n",
       " '__gt__',\n",
       " '__hash__',\n",
       " '__iadd__',\n",
       " '__iand__',\n",
       " '__ifloordiv__',\n",
       " '__imod__',\n",
       " '__imul__',\n",
       " '__init__',\n",
       " '__init_subclass__',\n",
       " '__int__',\n",
       " '__invert__',\n",
       " '__ior__',\n",
       " '__ipow__',\n",
       " '__isub__',\n",
       " '__iter__',\n",
       " '__itruediv__',\n",
       " '__ixor__',\n",
       " '__le__',\n",
       " '__len__',\n",
       " '__long__',\n",
       " '__lt__',\n",
       " '__mod__',\n",
       " '__module__',\n",
       " '__mul__',\n",
       " '__ne__',\n",
       " '__neg__',\n",
       " '__new__',\n",
       " '__nonzero__',\n",
       " '__or__',\n",
       " '__pos__',\n",
       " '__pow__',\n",
       " '__radd__',\n",
       " '__rand__',\n",
       " '__reduce__',\n",
       " '__reduce_ex__',\n",
       " '__repr__',\n",
       " '__rfloordiv__',\n",
       " '__rmod__',\n",
       " '__rmul__',\n",
       " '__ror__',\n",
       " '__rpow__',\n",
       " '__rsub__',\n",
       " '__rtruediv__',\n",
       " '__rxor__',\n",
       " '__setattr__',\n",
       " '__setitem__',\n",
       " '__sizeof__',\n",
       " '__str__',\n",
       " '__sub__',\n",
       " '__subclasshook__',\n",
       " '__truediv__',\n",
       " '__weakref__',\n",
       " '__xor__',\n",
       " '_all_compat',\n",
       " '_attr_sources',\n",
       " '_binary_op',\n",
       " '_calc_assign_results',\n",
       " '_copy_attrs_from',\n",
       " '_cum_extra_args_docstring',\n",
       " '_dask_finalize',\n",
       " '_from_temp_dataset',\n",
       " '_get_axis_num',\n",
       " '_getitem_coord',\n",
       " '_groupby_cls',\n",
       " '_in_memory',\n",
       " '_initialized',\n",
       " '_inplace_binary_op',\n",
       " '_ipython_key_completions_',\n",
       " '_item_key_to_dict',\n",
       " '_item_sources',\n",
       " '_iter',\n",
       " '_level_coords',\n",
       " '_reduce_extra_args_docstring',\n",
       " '_reduce_method',\n",
       " '_replace',\n",
       " '_replace_indexes',\n",
       " '_replace_maybe_drop_dims',\n",
       " '_resample_cls',\n",
       " '_result_name',\n",
       " '_rolling_cls',\n",
       " '_title_for_slice',\n",
       " '_to_dataset_split',\n",
       " '_to_dataset_whole',\n",
       " '_to_temp_dataset',\n",
       " '_unary_op',\n",
       " 'all',\n",
       " 'any',\n",
       " 'argmax',\n",
       " 'argmin',\n",
       " 'argsort',\n",
       " 'assign_attrs',\n",
       " 'assign_coords',\n",
       " 'astype',\n",
       " 'attrs',\n",
       " 'bfill',\n",
       " 'broadcast_equals',\n",
       " 'chunk',\n",
       " 'chunks',\n",
       " 'clip',\n",
       " 'close',\n",
       " 'combine_first',\n",
       " 'compute',\n",
       " 'conj',\n",
       " 'conjugate',\n",
       " 'coords',\n",
       " 'copy',\n",
       " 'count',\n",
       " 'cumprod',\n",
       " 'cumsum',\n",
       " 'data',\n",
       " 'diff',\n",
       " 'differentiate',\n",
       " 'dims',\n",
       " 'dot',\n",
       " 'drop',\n",
       " 'dropna',\n",
       " 'dt',\n",
       " 'dtype',\n",
       " 'encoding',\n",
       " 'equals',\n",
       " 'expand_dims',\n",
       " 'ffill',\n",
       " 'fillna',\n",
       " 'from_cdms2',\n",
       " 'from_dict',\n",
       " 'from_iris',\n",
       " 'from_series',\n",
       " 'get_axis_num',\n",
       " 'get_index',\n",
       " 'groupby',\n",
       " 'groupby_bins',\n",
       " 'identical',\n",
       " 'imag',\n",
       " 'indexes',\n",
       " 'interp',\n",
       " 'interp_like',\n",
       " 'interpolate_na',\n",
       " 'isel',\n",
       " 'isel_points',\n",
       " 'isin',\n",
       " 'isnull',\n",
       " 'item',\n",
       " 'load',\n",
       " 'loc',\n",
       " 'long_name',\n",
       " 'max',\n",
       " 'mean',\n",
       " 'median',\n",
       " 'min',\n",
       " 'name',\n",
       " 'nbytes',\n",
       " 'ndim',\n",
       " 'notnull',\n",
       " 'persist',\n",
       " 'pipe',\n",
       " 'plot',\n",
       " 'prod',\n",
       " 'quantile',\n",
       " 'rank',\n",
       " 'real',\n",
       " 'reduce',\n",
       " 'reindex',\n",
       " 'reindex_like',\n",
       " 'rename',\n",
       " 'reorder_levels',\n",
       " 'resample',\n",
       " 'reset_coords',\n",
       " 'reset_index',\n",
       " 'roll',\n",
       " 'rolling',\n",
       " 'round',\n",
       " 'searchsorted',\n",
       " 'sel',\n",
       " 'sel_points',\n",
       " 'set_index',\n",
       " 'shape',\n",
       " 'shift',\n",
       " 'size',\n",
       " 'sizes',\n",
       " 'sortby',\n",
       " 'squeeze',\n",
       " 'stack',\n",
       " 'std',\n",
       " 'sum',\n",
       " 'swap_dims',\n",
       " 'to_cdms2',\n",
       " 'to_dataframe',\n",
       " 'to_dataset',\n",
       " 'to_dict',\n",
       " 'to_index',\n",
       " 'to_iris',\n",
       " 'to_masked_array',\n",
       " 'to_netcdf',\n",
       " 'to_pandas',\n",
       " 'to_series',\n",
       " 'transpose',\n",
       " 'units',\n",
       " 'unstack',\n",
       " 'values',\n",
       " 'var',\n",
       " 'variable',\n",
       " 'where']"
      ]
     },
     "execution_count": 5,
     "metadata": {},
     "output_type": "execute_result"
    }
   ],
   "source": [
    "dir(ds.P0)"
   ]
  },
  {
   "cell_type": "code",
   "execution_count": 5,
   "metadata": {},
   "outputs": [],
   "source": [
    "coor = xr.open_dataset(\"/project/meteo/w2w/A6/S.Rasp/SP-CAM/fluxbypass_aqua/AndKua_aqua_SPCAM3.0_sp_fbp_f4.cam2.h1.0000-01-01-00000.nc\",\\\n",
    "                    decode_times=False)\n",
    "lat = coor.lat; lon = coor.lon;\n",
    "coor.close();"
   ]
  },
  {
   "cell_type": "code",
   "execution_count": 9,
   "metadata": {},
   "outputs": [],
   "source": [
    "# tgb - 6/26/2019 - Import the +4K dataset here just to compare surface temperatures\n",
    "DATADIR = '/project/meteo/w2w/A6/S.Rasp/SP-CAM/sp8fbp_4k/'\n",
    "ds4K = xr.open_dataset(DATADIR + 'sp8fbp_4k.cam2.h2.0000-01-01-00000.nc', \n",
    "                     decode_times=False)"
   ]
  },
  {
   "cell_type": "code",
   "execution_count": 20,
   "metadata": {},
   "outputs": [
    {
     "data": {
      "text/plain": [
       "<matplotlib.lines.Line2D at 0x14ac616ee240>"
      ]
     },
     "execution_count": 20,
     "metadata": {},
     "output_type": "execute_result"
    },
    {
     "data": {
      "image/png": "[encoded data removed]",
      "text/plain": [
       "<Figure size 432x288 with 1 Axes>"
      ]
     },
     "metadata": {
      "needs_background": "light"
     },
     "output_type": "display_data"
    }
   ],
   "source": [
    "import matplotlib.pyplot as plt\n",
    "plt.plot(coor.lat,ds.TS.mean(dim=['lon','time']))\n",
    "plt.plot(coor.lat,ds4K.TS.mean(dim=['lon','time']))\n",
    "\n",
    "# Find latitude range for which SST(+4K)>max(SST(+0K))\n",
    "Tsmax = np.max(ds.TS.values)\n",
    "lat_warm = coor.lat[ds4K.TS.mean(dim=['lon','time']).values>Tsmax]\n",
    "plt.axvline(x=np.min(lat_warm))\n",
    "plt.axvline(x=np.max(lat_warm))"
   ]
  },
  {
   "cell_type": "code",
   "execution_count": 29,
   "metadata": {},
   "outputs": [
    {
     "name": "stdout",
     "output_type": "stream",
     "text": [
      "<xarray.DataArray 'lat' ()>\n",
      "array(1.395307)\n",
      "<xarray.DataArray 'lat' ()>\n",
      "array(31)\n",
      "<xarray.DataArray 'lat' (lat: 2)>\n",
      "array([-1.395307,  1.395307])\n",
      "Coordinates:\n",
      "  * lat      (lat) float64 -1.395 1.395\n",
      "Attributes:\n",
      "    long_name:  latitude\n",
      "    units:      degrees_north\n"
     ]
    }
   ],
   "source": [
    "print(np.amin(np.abs(coor.lat)))\n",
    "print(np.argmin(np.abs(coor.lat)))\n",
    "print(coor.lat[31:33])"
   ]
  },
  {
   "cell_type": "code",
   "execution_count": 19,
   "metadata": {},
   "outputs": [
    {
     "data": {
      "text/plain": [
       "array([-15.34836476, -12.55775612,  -9.76714556,  -6.97653355,\n",
       "        -4.18592053,  -1.39530691,   1.39530691,   4.18592053,\n",
       "         6.97653355,   9.76714556,  12.55775612,  15.34836476,\n",
       "        18.13897099,  20.92957425])"
      ]
     },
     "execution_count": 19,
     "metadata": {},
     "output_type": "execute_result"
    }
   ],
   "source": [
    "lat_warm.values"
   ]
  },
  {
   "cell_type": "markdown",
   "metadata": {},
   "source": [
    "## Local conservation"
   ]
  },
  {
   "cell_type": "code",
   "execution_count": 202,
   "metadata": {},
   "outputs": [
    {
     "name": "stdout",
     "output_type": "stream",
     "text": [
      "WATINT 79.41151849249485\n",
      "PREC 0.3312984943448783\n",
      "LHF 79.7429\n",
      "RES 8.00468516786168e-05\n"
     ]
    }
   ],
   "source": [
    "# Pick a point\n",
    "it = 5\n",
    "ilon = 23\n",
    "ilat = 35\n",
    "# Calculate residual\n",
    "# 0) Pressure coordinate\n",
    "P = np.expand_dims(ds.P0,axis=0)*hyai+\\\n",
    "np.expand_dims(ds.PS[it,ilon,ilat],axis=0)*hybi;\n",
    "dP = P[1:]-P[:-1]\n",
    "# 1) Water integral\n",
    "WATINT = np.sum(L_V/G*dP*\\\n",
    "                (ds.PHCLDICE[it,:,ilon,ilat]+\\\n",
    "                 ds.PHCLDLIQ[it,:,ilon,ilat]+\\\n",
    "                 ds.PHQ[it,:,ilon,ilat]),axis=0);\n",
    "# 2) Precipitation\n",
    "PREC = RHO_L*L_V*(ds.PRECT[it,ilon,ilat]+\\\n",
    "                  1e-3*ds.PRECTEND[it,ilon,ilat]);\n",
    "# 3) Latent heat flux\n",
    "LHF = ds.LHFLX[it-1,ilon,ilat];\n",
    "# 3) Residual of water budget\n",
    "RES = -WATINT-PREC+LHF;\n",
    "print('WATINT',WATINT.values)\n",
    "print('PREC',PREC.values)\n",
    "print('LHF',LHF.values)\n",
    "print('RES',RES.values)"
   ]
  },
  {
   "cell_type": "code",
   "execution_count": 203,
   "metadata": {},
   "outputs": [
    {
     "data": {
      "text/plain": [
       "<xarray.DataArray ()>\n",
       "array(8.004685e-05)\n",
       "Coordinates:\n",
       "    lat      float64 -23.72\n",
       "    lon      float64 98.44"
      ]
     },
     "execution_count": 203,
     "metadata": {},
     "output_type": "execute_result"
    }
   ],
   "source": [
    "RES"
   ]
  },
  {
   "cell_type": "markdown",
   "metadata": {},
   "source": [
    "## Global conservation"
   ]
  },
  {
   "cell_type": "code",
   "execution_count": 204,
   "metadata": {},
   "outputs": [],
   "source": [
    "# 0) Pressure coordinate\n",
    "P = np.moveaxis(np.tile(np.expand_dims(ds.P0,axis=0)*hyai,\\\n",
    "                        (ds.PS.shape[0]-1,ds.PS.shape[1],ds.PS.shape[2],1)),\\\n",
    "                3,1)+\\\n",
    "np.moveaxis(np.tile(ds.PS[1:,:,:],(hybi.shape[0],1,1,1)),0,1)*\\\n",
    "np.moveaxis(np.tile(hybi,\\\n",
    "                    (ds.PS.shape[0]-1,ds.PS.shape[1],ds.PS.shape[2],1)),\\\n",
    "            3,1)\n",
    "dP = P[:,1:,:,:]-P[:,:-1,:,:]\n",
    "# 1) Water integral\n",
    "WATINT = np.sum(L_V/G*dP*(ds.PHCLDICE[1:,:,:,:]+\\\n",
    "                          ds.PHCLDLIQ[1:,:,:,:]+\\\n",
    "                          ds.PHQ[1:,:,:,:]),axis=1);\n",
    "# 2) Precipitation\n",
    "PREC = RHO_L*L_V*(ds.PRECT[1:,:,:]+1e-3*ds.PRECTEND[1:,:,:]);\n",
    "# 3) Residual of water budget\n",
    "RES = -WATINT-PREC+ds.LHFLX.values[:-1,:,:]; "
   ]
  },
  {
   "cell_type": "code",
   "execution_count": 205,
   "metadata": {},
   "outputs": [
    {
     "name": "stdout",
     "output_type": "stream",
     "text": [
      "WATINT -4.8313900769658815\n",
      "PREC 82.226135\n",
      "LHF 77.39475\n",
      "RESIDUAL -2.921435914140063e-07\n"
     ]
    },
    {
     "data": {
      "text/plain": [
       "Text(0.5, 0, 'Residual (W/m2)')"
      ]
     },
     "execution_count": 205,
     "metadata": {},
     "output_type": "execute_result"
    },
    {
     "data": {
      "image/png": "[encoded data removed]",
      "text/plain": [
       "<Figure size 432x288 with 1 Axes>"
      ]
     },
     "metadata": {
      "needs_background": "light"
     },
     "output_type": "display_data"
    }
   ],
   "source": [
    "print('WATINT',WATINT.values.mean(axis=(0,1,2)))\n",
    "print('PREC',PREC.values.mean(axis=(0,1,2)))\n",
    "print('LHF',ds.LHFLX.values[:-1,:,:].mean(axis=(0,1,2)))\n",
    "print('RESIDUAL',RES.values.mean(axis=(0,1,2)))\n",
    "plt.hist(RES.values.flatten(), bins=100, range=(-1,1))\n",
    "plt.ylabel('Number of samples')\n",
    "plt.xlabel('Residual (W/m2)')"
   ]
  },
  {
   "cell_type": "markdown",
   "metadata": {},
   "source": [
    "tgb - 6/25/2019 - Got the date range function from https://stackoverflow.com/questions/1060279/iterating-through-a-range-of-dates-in-python"
   ]
  },
  {
   "cell_type": "code",
   "execution_count": 179,
   "metadata": {},
   "outputs": [],
   "source": [
    "from datetime import timedelta, date\n",
    "def daterange(start_date, end_date):\n",
    "    for n in range(int ((end_date - start_date).days)):\n",
    "        yield start_date + timedelta(n)"
   ]
  },
  {
   "cell_type": "code",
   "execution_count": 185,
   "metadata": {},
   "outputs": [
    {
     "name": "stdout",
     "output_type": "stream",
     "text": [
      "1-01-01\n",
      "1-01-02\n",
      "1-01-03\n",
      "1-01-04\n",
      "1-01-05\n",
      "1-01-06\n",
      "1-01-07\n",
      "1-01-08\n",
      "1-01-09\n",
      "1-01-10\n",
      "1-01-11\n",
      "1-01-12\n",
      "1-01-13\n",
      "1-01-14\n",
      "1-01-15\n",
      "1-01-16\n",
      "1-01-17\n",
      "1-01-18\n",
      "1-01-19\n",
      "1-01-20\n",
      "1-01-21\n",
      "1-01-22\n",
      "1-01-23\n",
      "1-01-24\n",
      "1-01-25\n",
      "1-01-26\n",
      "1-01-27\n",
      "1-01-28\n",
      "1-01-29\n",
      "1-01-30\n",
      "1-01-31\n",
      "1-02-01\n",
      "1-02-02\n",
      "1-02-03\n",
      "1-02-04\n",
      "1-02-05\n",
      "1-02-06\n",
      "1-02-07\n",
      "1-02-08\n",
      "1-02-09\n",
      "1-02-10\n",
      "1-02-11\n",
      "1-02-12\n",
      "1-02-13\n",
      "1-02-14\n",
      "1-02-15\n",
      "1-02-16\n",
      "1-02-17\n",
      "1-02-18\n",
      "1-02-19\n",
      "1-02-20\n",
      "1-02-21\n",
      "1-02-22\n",
      "1-02-23\n",
      "1-02-24\n",
      "1-02-25\n",
      "1-02-26\n",
      "1-02-27\n",
      "1-02-28\n",
      "1-03-01\n",
      "1-03-02\n",
      "1-03-03\n",
      "1-03-04\n",
      "1-03-05\n",
      "1-03-06\n",
      "1-03-07\n",
      "1-03-08\n",
      "1-03-09\n",
      "1-03-10\n",
      "1-03-11\n",
      "1-03-12\n",
      "1-03-13\n",
      "1-03-14\n",
      "1-03-15\n",
      "1-03-16\n",
      "1-03-17\n",
      "1-03-18\n",
      "1-03-19\n",
      "1-03-20\n",
      "1-03-21\n",
      "1-03-22\n",
      "1-03-23\n",
      "1-03-24\n",
      "1-03-25\n",
      "1-03-26\n",
      "1-03-27\n",
      "1-03-28\n",
      "1-03-29\n",
      "1-03-30\n",
      "1-03-31\n",
      "1-04-01\n",
      "1-04-02\n",
      "1-04-03\n",
      "1-04-04\n",
      "1-04-05\n",
      "1-04-06\n",
      "1-04-07\n",
      "1-04-08\n",
      "1-04-09\n",
      "1-04-10\n",
      "1-04-11\n",
      "1-04-12\n",
      "1-04-13\n",
      "1-04-14\n",
      "1-04-15\n",
      "1-04-16\n",
      "1-04-17\n",
      "1-04-18\n",
      "1-04-19\n",
      "1-04-20\n",
      "1-04-21\n",
      "1-04-22\n",
      "1-04-23\n",
      "1-04-24\n",
      "1-04-25\n",
      "1-04-26\n",
      "1-04-27\n",
      "1-04-28\n",
      "1-04-29\n",
      "1-04-30\n"
     ]
    }
   ],
   "source": [
    "start_date = date(1, 1, 1)\n",
    "end_date = date(1, 5, 1)\n",
    "for single_date in daterange(start_date, end_date):\n",
    "    print(single_date.strftime(\"%Y-%m-%d\"))"
   ]
  },
  {
   "cell_type": "code",
   "execution_count": 186,
   "metadata": {},
   "outputs": [
    {
     "data": {
      "text/plain": [
       "['__add__',\n",
       " '__class__',\n",
       " '__delattr__',\n",
       " '__dir__',\n",
       " '__doc__',\n",
       " '__eq__',\n",
       " '__format__',\n",
       " '__ge__',\n",
       " '__getattribute__',\n",
       " '__gt__',\n",
       " '__hash__',\n",
       " '__init__',\n",
       " '__init_subclass__',\n",
       " '__le__',\n",
       " '__lt__',\n",
       " '__ne__',\n",
       " '__new__',\n",
       " '__radd__',\n",
       " '__reduce__',\n",
       " '__reduce_ex__',\n",
       " '__repr__',\n",
       " '__rsub__',\n",
       " '__setattr__',\n",
       " '__sizeof__',\n",
       " '__str__',\n",
       " '__sub__',\n",
       " '__subclasshook__',\n",
       " 'ctime',\n",
       " 'day',\n",
       " 'fromordinal',\n",
       " 'fromtimestamp',\n",
       " 'isocalendar',\n",
       " 'isoformat',\n",
       " 'isoweekday',\n",
       " 'max',\n",
       " 'min',\n",
       " 'month',\n",
       " 'replace',\n",
       " 'resolution',\n",
       " 'strftime',\n",
       " 'timetuple',\n",
       " 'today',\n",
       " 'toordinal',\n",
       " 'weekday',\n",
       " 'year']"
      ]
     },
     "execution_count": 186,
     "metadata": {},
     "output_type": "execute_result"
    }
   ],
   "source": [
    "dir(single_date)"
   ]
  },
  {
   "cell_type": "code",
   "execution_count": null,
   "metadata": {},
   "outputs": [],
   "source": [
    "# Loop over days of the year\n",
    "start_date = date(0, 1, 1)\n",
    "end_date = date(0, 3, 1)\n",
    "for single_date in daterange(start_date, end_date):\n",
    "    print single_date.strftime(\"%Y-%m-%d\")\n",
    "# 0) Pressure coordinate\n",
    "P = np.moveaxis(np.tile(np.expand_dims(ds.P0,axis=0)*hyai,\\\n",
    "                        (ds.PS.shape[0]-1,ds.PS.shape[1],ds.PS.shape[2],1)),\\\n",
    "                3,1)+\\\n",
    "np.moveaxis(np.tile(ds.PS[1:,:,:],(hybi.shape[0],1,1,1)),0,1)*\\\n",
    "np.moveaxis(np.tile(hybi,\\\n",
    "                    (ds.PS.shape[0]-1,ds.PS.shape[1],ds.PS.shape[2],1)),\\\n",
    "            3,1)\n",
    "dP = P[:,1:,:,:]-P[:,:-1,:,:]\n",
    "# 1) Water integral\n",
    "WATINT = np.sum(L_V/G*dP*(ds.PHCLDICE[1:,:,:,:]+\\\n",
    "                          ds.PHCLDLIQ[1:,:,:,:]+\\\n",
    "                          ds.PHQ[1:,:,:,:]),axis=1);\n",
    "# 2) Precipitation\n",
    "PREC = RHO_L*L_V*(ds.PRECT[1:,:,:]+1e-3*ds.PRECTEND[1:,:,:]);\n",
    "# 3) Residual of water budget\n",
    "RES = -WATINT-PREC+ds.LHFLX.values[:-1,:,:]; "
   ]
  },
  {
   "cell_type": "markdown",
   "metadata": {},
   "source": [
    "# 3) +4K dataset"
   ]
  },
  {
   "cell_type": "code",
   "execution_count": 190,
   "metadata": {},
   "outputs": [],
   "source": [
    "DATADIR = '/project/meteo/w2w/A6/S.Rasp/SP-CAM/sp8fbp_4k/'\n",
    "import xarray as xr\n",
    "import numpy as np\n",
    "ds = xr.open_dataset(DATADIR + 'sp8fbp_4k.cam2.h2.0000-01-01-00000.nc', \n",
    "                     decode_times=False)\n",
    "ds0 = xr.open_dataset(DATADIR + 'sp8fbp_4k.cam2.h2.0000-02-03-00000.nc', \n",
    "                     decode_times=False)"
   ]
  },
  {
   "cell_type": "code",
   "execution_count": 191,
   "metadata": {},
   "outputs": [],
   "source": [
    "# 0) Pressure coordinate\n",
    "P = np.moveaxis(np.tile(np.expand_dims(ds.P0,axis=0)*hyai,\\\n",
    "                        (ds.PS.shape[0]-1,ds.PS.shape[1],ds.PS.shape[2],1)),\\\n",
    "                3,1)+\\\n",
    "np.moveaxis(np.tile(ds.PS[1:,:,:],(hybi.shape[0],1,1,1)),0,1)*\\\n",
    "np.moveaxis(np.tile(hybi,\\\n",
    "                    (ds.PS.shape[0]-1,ds.PS.shape[1],ds.PS.shape[2],1)),\\\n",
    "            3,1)\n",
    "dP = P[:,1:,:,:]-P[:,:-1,:,:]\n",
    "# 1) Water integral\n",
    "WATINT = np.sum(L_V/G*dP*(ds.PHCLDICE[1:,:,:,:]+\\\n",
    "                          ds.PHCLDLIQ[1:,:,:,:]+\\\n",
    "                          ds.PHQ[1:,:,:,:]),axis=1);\n",
    "# 2) Precipitation\n",
    "PREC = RHO_L*L_V*(ds.PRECT[1:,:,:]+1e-3*ds.PRECTEND[1:,:,:]);\n",
    "# 3) Residual of water budget\n",
    "RES = -WATINT-PREC+ds.LHFLX.values[1:,:,:]; "
   ]
  },
  {
   "cell_type": "code",
   "execution_count": 193,
   "metadata": {},
   "outputs": [
    {
     "name": "stdout",
     "output_type": "stream",
     "text": [
      "WATINT 48.110187875568684\n",
      "PREC 112.25614\n",
      "LHF 160.36557\n",
      "RESIDUAL -0.000739999625512002\n"
     ]
    },
    {
     "data": {
      "text/plain": [
       "Text(0.5, 0, 'Residual (W/m2)')"
      ]
     },
     "execution_count": 193,
     "metadata": {},
     "output_type": "execute_result"
    },
    {
     "data": {
      "image/png": "[encoded data removed]",
      "text/plain": [
       "<Figure size 432x288 with 1 Axes>"
      ]
     },
     "metadata": {
      "needs_background": "light"
     },
     "output_type": "display_data"
    }
   ],
   "source": [
    "print('WATINT',WATINT.values.mean(axis=(0,1,2)))\n",
    "print('PREC',PREC.values.mean(axis=(0,1,2)))\n",
    "print('LHF',ds.LHFLX.values[1:,:,:].mean(axis=(0,1,2)))\n",
    "print('RESIDUAL',RES.values.mean(axis=(0,1,2)))\n",
    "plt.hist(RES.values.flatten(), bins=100, range=(-1,1))\n",
    "plt.ylabel('Number of samples')\n",
    "plt.xlabel('Residual (W/m2)')"
   ]
  },
  {
   "cell_type": "markdown",
   "metadata": {},
   "source": [
    "# 4) +3Kw1 dataset"
   ]
  },
  {
   "cell_type": "code",
   "execution_count": 198,
   "metadata": {},
   "outputs": [],
   "source": [
    "DATADIR = '/project/meteo/w2w/A6/S.Rasp/SP-CAM/sp8fbp_3kw1/'\n",
    "import xarray as xr\n",
    "import numpy as np\n",
    "ds = xr.open_dataset(DATADIR + 'sp8fbp_3kw1.cam2.h2.0001-04-03-00000.nc', \n",
    "                     decode_times=False)\n",
    "ds0 = xr.open_dataset(DATADIR + 'sp8fbp_3kw1.cam2.h2.0001-04-02-00000.nc', \n",
    "                     decode_times=False)"
   ]
  },
  {
   "cell_type": "code",
   "execution_count": 199,
   "metadata": {},
   "outputs": [],
   "source": [
    "# 0) Pressure coordinate\n",
    "P = np.moveaxis(np.tile(np.expand_dims(ds.P0,axis=0)*hyai,\\\n",
    "                        (ds.PS.shape[0]-1,ds.PS.shape[1],ds.PS.shape[2],1)),\\\n",
    "                3,1)+\\\n",
    "np.moveaxis(np.tile(ds.PS[1:,:,:],(hybi.shape[0],1,1,1)),0,1)*\\\n",
    "np.moveaxis(np.tile(hybi,\\\n",
    "                    (ds.PS.shape[0]-1,ds.PS.shape[1],ds.PS.shape[2],1)),\\\n",
    "            3,1)\n",
    "dP = P[:,1:,:,:]-P[:,:-1,:,:]\n",
    "# 1) Water integral\n",
    "WATINT = np.sum(L_V/G*dP*(ds.PHCLDICE[1:,:,:,:]+\\\n",
    "                          ds.PHCLDLIQ[1:,:,:,:]+\\\n",
    "                          ds.PHQ[1:,:,:,:]),axis=1);\n",
    "# 2) Precipitation\n",
    "PREC = RHO_L*L_V*(ds.PRECT[1:,:,:]+1e-3*ds.PRECTEND[1:,:,:]);\n",
    "# 3) Residual of water budget\n",
    "RES = -WATINT-PREC+ds.LHFLX.values[1:,:,:]; "
   ]
  },
  {
   "cell_type": "code",
   "execution_count": 200,
   "metadata": {},
   "outputs": [
    {
     "name": "stdout",
     "output_type": "stream",
     "text": [
      "WATINT -1.055444878138102\n",
      "PREC 74.544716\n",
      "LHF 73.510574\n",
      "RESIDUAL 2.0293437252563095e-06\n"
     ]
    },
    {
     "data": {
      "text/plain": [
       "Text(0.5, 0, 'Residual (W/m2)')"
      ]
     },
     "execution_count": 200,
     "metadata": {},
     "output_type": "execute_result"
    },
    {
     "data": {
      "image/png": "[encoded data removed]",
      "text/plain": [
       "<Figure size 432x288 with 1 Axes>"
      ]
     },
     "metadata": {
      "needs_background": "light"
     },
     "output_type": "display_data"
    }
   ],
   "source": [
    "print('WATINT',WATINT.values.mean(axis=(0,1,2)))\n",
    "print('PREC',PREC.values.mean(axis=(0,1,2)))\n",
    "print('LHF',ds.LHFLX.values[:-1,:,:].mean(axis=(0,1,2)))\n",
    "print('RESIDUAL',RES.values.mean(axis=(0,1,2)))\n",
    "plt.hist(RES.values.flatten(), bins=100, range=(-1,1))\n",
    "plt.ylabel('Number of samples')\n",
    "plt.xlabel('Residual (W/m2)')"
   ]
  },
  {
   "cell_type": "code",
   "execution_count": null,
   "metadata": {},
   "outputs": [],
   "source": []
  }
 ],
 "metadata": {
  "kernelspec": {
   "display_name": "Python 3",
   "language": "python",
   "name": "python3"
  },
  "language_info": {
   "codemirror_mode": {
    "name": "ipython",
    "version": 3
   },
   "file_extension": ".py",
   "mimetype": "text/x-python",
   "name": "python",
   "nbconvert_exporter": "python",
   "pygments_lexer": "ipython3",
   "version": "3.7.3"
  }
 },
 "nbformat": 4,
 "nbformat_minor": 2
}
