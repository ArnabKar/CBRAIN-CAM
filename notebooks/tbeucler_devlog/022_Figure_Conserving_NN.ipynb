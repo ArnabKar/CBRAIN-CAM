{
 "cells": [
  {
   "cell_type": "markdown",
   "metadata": {},
   "source": [
    "tgb - 8/22/2019 - Figures and Tables for the conserving NN paper"
   ]
  },
  {
   "cell_type": "markdown",
   "metadata": {},
   "source": [
    "# 1) Initialization"
   ]
  },
  {
   "cell_type": "code",
   "execution_count": 1,
   "metadata": {},
   "outputs": [
    {
     "name": "stderr",
     "output_type": "stream",
     "text": [
      "/home/t/Tom.Beucler/miniconda3/lib/python3.7/site-packages/tensorflow/python/framework/dtypes.py:516: FutureWarning: Passing (type, 1) or '1type' as a synonym of type is deprecated; in a future version of numpy, it will be understood as (type, (1,)) / '(1,)type'.\n",
      "  _np_qint8 = np.dtype([(\"qint8\", np.int8, 1)])\n",
      "/home/t/Tom.Beucler/miniconda3/lib/python3.7/site-packages/tensorflow/python/framework/dtypes.py:517: FutureWarning: Passing (type, 1) or '1type' as a synonym of type is deprecated; in a future version of numpy, it will be understood as (type, (1,)) / '(1,)type'.\n",
      "  _np_quint8 = np.dtype([(\"quint8\", np.uint8, 1)])\n",
      "/home/t/Tom.Beucler/miniconda3/lib/python3.7/site-packages/tensorflow/python/framework/dtypes.py:518: FutureWarning: Passing (type, 1) or '1type' as a synonym of type is deprecated; in a future version of numpy, it will be understood as (type, (1,)) / '(1,)type'.\n",
      "  _np_qint16 = np.dtype([(\"qint16\", np.int16, 1)])\n",
      "/home/t/Tom.Beucler/miniconda3/lib/python3.7/site-packages/tensorflow/python/framework/dtypes.py:519: FutureWarning: Passing (type, 1) or '1type' as a synonym of type is deprecated; in a future version of numpy, it will be understood as (type, (1,)) / '(1,)type'.\n",
      "  _np_quint16 = np.dtype([(\"quint16\", np.uint16, 1)])\n",
      "/home/t/Tom.Beucler/miniconda3/lib/python3.7/site-packages/tensorflow/python/framework/dtypes.py:520: FutureWarning: Passing (type, 1) or '1type' as a synonym of type is deprecated; in a future version of numpy, it will be understood as (type, (1,)) / '(1,)type'.\n",
      "  _np_qint32 = np.dtype([(\"qint32\", np.int32, 1)])\n",
      "/home/t/Tom.Beucler/miniconda3/lib/python3.7/site-packages/tensorflow/python/framework/dtypes.py:525: FutureWarning: Passing (type, 1) or '1type' as a synonym of type is deprecated; in a future version of numpy, it will be understood as (type, (1,)) / '(1,)type'.\n",
      "  np_resource = np.dtype([(\"resource\", np.ubyte, 1)])\n",
      "/home/t/Tom.Beucler/miniconda3/lib/python3.7/site-packages/tensorboard/compat/tensorflow_stub/dtypes.py:541: FutureWarning: Passing (type, 1) or '1type' as a synonym of type is deprecated; in a future version of numpy, it will be understood as (type, (1,)) / '(1,)type'.\n",
      "  _np_qint8 = np.dtype([(\"qint8\", np.int8, 1)])\n",
      "/home/t/Tom.Beucler/miniconda3/lib/python3.7/site-packages/tensorboard/compat/tensorflow_stub/dtypes.py:542: FutureWarning: Passing (type, 1) or '1type' as a synonym of type is deprecated; in a future version of numpy, it will be understood as (type, (1,)) / '(1,)type'.\n",
      "  _np_quint8 = np.dtype([(\"quint8\", np.uint8, 1)])\n",
      "/home/t/Tom.Beucler/miniconda3/lib/python3.7/site-packages/tensorboard/compat/tensorflow_stub/dtypes.py:543: FutureWarning: Passing (type, 1) or '1type' as a synonym of type is deprecated; in a future version of numpy, it will be understood as (type, (1,)) / '(1,)type'.\n",
      "  _np_qint16 = np.dtype([(\"qint16\", np.int16, 1)])\n",
      "/home/t/Tom.Beucler/miniconda3/lib/python3.7/site-packages/tensorboard/compat/tensorflow_stub/dtypes.py:544: FutureWarning: Passing (type, 1) or '1type' as a synonym of type is deprecated; in a future version of numpy, it will be understood as (type, (1,)) / '(1,)type'.\n",
      "  _np_quint16 = np.dtype([(\"quint16\", np.uint16, 1)])\n",
      "/home/t/Tom.Beucler/miniconda3/lib/python3.7/site-packages/tensorboard/compat/tensorflow_stub/dtypes.py:545: FutureWarning: Passing (type, 1) or '1type' as a synonym of type is deprecated; in a future version of numpy, it will be understood as (type, (1,)) / '(1,)type'.\n",
      "  _np_qint32 = np.dtype([(\"qint32\", np.int32, 1)])\n",
      "/home/t/Tom.Beucler/miniconda3/lib/python3.7/site-packages/tensorboard/compat/tensorflow_stub/dtypes.py:550: FutureWarning: Passing (type, 1) or '1type' as a synonym of type is deprecated; in a future version of numpy, it will be understood as (type, (1,)) / '(1,)type'.\n",
      "  np_resource = np.dtype([(\"resource\", np.ubyte, 1)])\n",
      "WARNING: Logging before flag parsing goes to stderr.\n",
      "W0822 01:37:06.971373 23332092057408 deprecation_wrapper.py:119] From /home/t/Tom.Beucler/SPCAM/CBRAIN-CAM/notebooks/tbeucler_devlog/cbrain/models.py:16: The name tf.keras.layers.CuDNNGRU is deprecated. Please use tf.compat.v1.keras.layers.CuDNNGRU instead.\n",
      "\n",
      "W0822 01:37:06.971916 23332092057408 deprecation_wrapper.py:119] From /home/t/Tom.Beucler/SPCAM/CBRAIN-CAM/notebooks/tbeucler_devlog/cbrain/models.py:16: The name tf.keras.layers.CuDNNLSTM is deprecated. Please use tf.compat.v1.keras.layers.CuDNNLSTM instead.\n",
      "\n",
      "W0822 01:37:06.985452 23332092057408 deprecation_wrapper.py:119] From /home/t/Tom.Beucler/SPCAM/CBRAIN-CAM/notebooks/tbeucler_devlog/cbrain/utils.py:145: The name tf.ConfigProto is deprecated. Please use tf.compat.v1.ConfigProto instead.\n",
      "\n",
      "W0822 01:37:06.985874 23332092057408 deprecation_wrapper.py:119] From /home/t/Tom.Beucler/SPCAM/CBRAIN-CAM/notebooks/tbeucler_devlog/cbrain/utils.py:148: The name tf.keras.backend.set_session is deprecated. Please use tf.compat.v1.keras.backend.set_session instead.\n",
      "\n",
      "W0822 01:37:06.986258 23332092057408 deprecation_wrapper.py:119] From /home/t/Tom.Beucler/SPCAM/CBRAIN-CAM/notebooks/tbeucler_devlog/cbrain/utils.py:148: The name tf.Session is deprecated. Please use tf.compat.v1.Session instead.\n",
      "\n"
     ]
    },
    {
     "name": "stdout",
     "output_type": "stream",
     "text": [
      "/home/t/Tom.Beucler/SPCAM/CBRAIN-CAM/notebooks/tbeucler_devlog\n"
     ]
    }
   ],
   "source": [
    "from cbrain.imports import *\n",
    "from cbrain.data_generator import *\n",
    "from cbrain.cam_constants import *\n",
    "from cbrain.losses import *\n",
    "from cbrain.utils import limit_mem\n",
    "from cbrain.layers import *\n",
    "import tensorflow as tf\n",
    "import tensorflow.math as tfm\n",
    "from tensorflow.keras.layers import *\n",
    "from tensorflow.keras.models import *\n",
    "import xarray as xr\n",
    "import numpy as np\n",
    "from cbrain.model_diagnostics import ModelDiagnostics\n",
    "import matplotlib as mpl\n",
    "import matplotlib.pyplot as plt\n",
    "import matplotlib.image as imag\n",
    "\n",
    "# Otherwise tensorflow will use ALL your GPU RAM for no reason\n",
    "limit_mem()"
   ]
  },
  {
   "cell_type": "markdown",
   "metadata": {},
   "source": [
    "# 2) Load data to plot Figure 3a"
   ]
  },
  {
   "cell_type": "code",
   "execution_count": 2,
   "metadata": {},
   "outputs": [],
   "source": [
    "TRAINDIR = '/local/Tom.Beucler/SPCAM_PHYS/'\n",
    "alpha_array = [0,0.01,0.25,0.5,0.75,0.99,1] # Loop over weight given to MSE and conservation constraints\n",
    "config_fn = '/filer/z-sv-pool12c/t/Tom.Beucler/SPCAM/CBRAIN-CAM/pp_config/8col_rad_tbeucler_local_PostProc.yml'\n",
    "data_fn = '/local/Tom.Beucler/SPCAM_PHYS/8col009_01_valid.nc'\n",
    "dict_lay = {'SurRadLayer':SurRadLayer,'MassConsLayer':MassConsLayer,'EntConsLayer':EntConsLayer,\\\n",
    "           'weak_loss_0':mse,'weak_loss_1':mse}\n",
    "fz = 20\n",
    "lw = 4\n",
    "siz = 100\n",
    "S0 = 320 # Representative mean solar insolation for normalization purposes\n",
    "S0max = 1410.6442 # Max solar insolation for normalization purposes\n",
    "SN = S0/100 # Representative target = mean insolation / 4\n",
    "XNNA = 1.25 # Abscissa where architecture-constrained network will be placed\n",
    "XTEXT = 0.25 # Text placement\n",
    "YMIN = -1 # Representative value for conserving network\n",
    "YTEXT = 0.3 # Text placement"
   ]
  },
  {
   "cell_type": "code",
   "execution_count": 3,
   "metadata": {},
   "outputs": [
    {
     "name": "stderr",
     "output_type": "stream",
     "text": [
      "W0822 01:37:07.256426 23332092057408 deprecation.py:506] From /home/t/Tom.Beucler/miniconda3/lib/python3.7/site-packages/tensorflow/python/ops/init_ops.py:97: calling GlorotUniform.__init__ (from tensorflow.python.ops.init_ops) with dtype is deprecated and will be removed in a future version.\n",
      "Instructions for updating:\n",
      "Call initializer instance with the dtype argument instead of passing it to the constructor\n",
      "W0822 01:37:07.257097 23332092057408 deprecation.py:506] From /home/t/Tom.Beucler/miniconda3/lib/python3.7/site-packages/tensorflow/python/ops/init_ops.py:1251: calling VarianceScaling.__init__ (from tensorflow.python.ops.init_ops) with dtype is deprecated and will be removed in a future version.\n",
      "Instructions for updating:\n",
      "Call initializer instance with the dtype argument instead of passing it to the constructor\n",
      "W0822 01:37:07.258092 23332092057408 deprecation.py:506] From /home/t/Tom.Beucler/miniconda3/lib/python3.7/site-packages/tensorflow/python/ops/init_ops.py:97: calling Zeros.__init__ (from tensorflow.python.ops.init_ops) with dtype is deprecated and will be removed in a future version.\n",
      "Instructions for updating:\n",
      "Call initializer instance with the dtype argument instead of passing it to the constructor\n",
      "/home/t/Tom.Beucler/SPCAM/CBRAIN-CAM/notebooks/tbeucler_devlog/cbrain/model_diagnostics.py:25: YAMLLoadWarning: calling yaml.load() without Loader=... is deprecated, as the default Loader is unsafe. Please read https://msg.pyyaml.org/load for full details.\n",
      "  config = yaml.load(f)\n"
     ]
    },
    {
     "name": "stdout",
     "output_type": "stream",
     "text": [
      "alpha =  0\n",
      "alpha =  0\n"
     ]
    },
    {
     "name": "stderr",
     "output_type": "stream",
     "text": [
      "/home/t/Tom.Beucler/SPCAM/CBRAIN-CAM/notebooks/tbeucler_devlog/cbrain/model_diagnostics.py:25: YAMLLoadWarning: calling yaml.load() without Loader=... is deprecated, as the default Loader is unsafe. Please read https://msg.pyyaml.org/load for full details.\n",
      "  config = yaml.load(f)\n"
     ]
    },
    {
     "name": "stdout",
     "output_type": "stream",
     "text": [
      "alpha =  0.01\n",
      "alpha =  0.01\n"
     ]
    },
    {
     "name": "stderr",
     "output_type": "stream",
     "text": [
      "/home/t/Tom.Beucler/SPCAM/CBRAIN-CAM/notebooks/tbeucler_devlog/cbrain/model_diagnostics.py:25: YAMLLoadWarning: calling yaml.load() without Loader=... is deprecated, as the default Loader is unsafe. Please read https://msg.pyyaml.org/load for full details.\n",
      "  config = yaml.load(f)\n"
     ]
    },
    {
     "name": "stdout",
     "output_type": "stream",
     "text": [
      "alpha =  0.25\n",
      "alpha =  0.25\n"
     ]
    },
    {
     "name": "stderr",
     "output_type": "stream",
     "text": [
      "/home/t/Tom.Beucler/SPCAM/CBRAIN-CAM/notebooks/tbeucler_devlog/cbrain/model_diagnostics.py:25: YAMLLoadWarning: calling yaml.load() without Loader=... is deprecated, as the default Loader is unsafe. Please read https://msg.pyyaml.org/load for full details.\n",
      "  config = yaml.load(f)\n"
     ]
    },
    {
     "name": "stdout",
     "output_type": "stream",
     "text": [
      "alpha =  0.5\n",
      "alpha =  0.5\n"
     ]
    },
    {
     "name": "stderr",
     "output_type": "stream",
     "text": [
      "/home/t/Tom.Beucler/SPCAM/CBRAIN-CAM/notebooks/tbeucler_devlog/cbrain/model_diagnostics.py:25: YAMLLoadWarning: calling yaml.load() without Loader=... is deprecated, as the default Loader is unsafe. Please read https://msg.pyyaml.org/load for full details.\n",
      "  config = yaml.load(f)\n"
     ]
    },
    {
     "name": "stdout",
     "output_type": "stream",
     "text": [
      "alpha =  0.75\n",
      "alpha =  0.75\n"
     ]
    },
    {
     "name": "stderr",
     "output_type": "stream",
     "text": [
      "/home/t/Tom.Beucler/SPCAM/CBRAIN-CAM/notebooks/tbeucler_devlog/cbrain/model_diagnostics.py:25: YAMLLoadWarning: calling yaml.load() without Loader=... is deprecated, as the default Loader is unsafe. Please read https://msg.pyyaml.org/load for full details.\n",
      "  config = yaml.load(f)\n"
     ]
    },
    {
     "name": "stdout",
     "output_type": "stream",
     "text": [
      "alpha =  0.99\n",
      "alpha =  0.99\n"
     ]
    },
    {
     "name": "stderr",
     "output_type": "stream",
     "text": [
      "/home/t/Tom.Beucler/SPCAM/CBRAIN-CAM/notebooks/tbeucler_devlog/cbrain/model_diagnostics.py:25: YAMLLoadWarning: calling yaml.load() without Loader=... is deprecated, as the default Loader is unsafe. Please read https://msg.pyyaml.org/load for full details.\n",
      "  config = yaml.load(f)\n"
     ]
    },
    {
     "name": "stdout",
     "output_type": "stream",
     "text": [
      "alpha =  1\n",
      "alpha =  1\n"
     ]
    },
    {
     "name": "stderr",
     "output_type": "stream",
     "text": [
      "/home/t/Tom.Beucler/SPCAM/CBRAIN-CAM/notebooks/tbeucler_devlog/cbrain/model_diagnostics.py:25: YAMLLoadWarning: calling yaml.load() without Loader=... is deprecated, as the default Loader is unsafe. Please read https://msg.pyyaml.org/load for full details.\n",
      "  config = yaml.load(f)\n",
      "/home/t/Tom.Beucler/SPCAM/CBRAIN-CAM/notebooks/tbeucler_devlog/cbrain/model_diagnostics.py:25: YAMLLoadWarning: calling yaml.load() without Loader=... is deprecated, as the default Loader is unsafe. Please read https://msg.pyyaml.org/load for full details.\n",
      "  config = yaml.load(f)\n"
     ]
    }
   ],
   "source": [
    "MSEtp = {}; PENtp = {};\n",
    "\n",
    "NN = {}; md = {};\n",
    "NN = load_model(TRAINDIR+'HDF5_DATA/MLRL0.h5')\n",
    "md = ModelDiagnostics(NN,config_fn,data_fn)\n",
    "md.stats = pickle.load(open(TRAINDIR+'HDF5_DATA/MLRL0md.pkl','rb'))\n",
    "md.resid = pickle.load(open(TRAINDIR+'HDF5_DATA/MLRL0res.pkl','rb'))\n",
    "MSEtp['MLRL0'] = np.log10(md.mse_W2m4().mean((0,1,2)))\n",
    "PENtp['MLRL0'] = np.log10(0.25*(md.resid['mass']+md.resid['ent']+\\\n",
    "                                md.resid['sw']+md.resid['lw']).mean((0,1,2)))\n",
    "\n",
    "for alpha in alpha_array:\n",
    "    print('alpha = ',str(alpha))\n",
    "    NN = {}; md = {};\n",
    "    print('alpha = ',str(alpha))\n",
    "    # 0) Define model/statistics to load\n",
    "    config_fn = '/filer/z-sv-pool12c/t/Tom.Beucler/SPCAM/CBRAIN-CAM/pp_config/8col_rad_tbeucler_local_PostProc.yml'\n",
    "    dict_lay = {'SurRadLayer':SurRadLayer,'MassConsLayer':MassConsLayer,'EntConsLayer':EntConsLayer}\n",
    "    # Path of model/statistics\n",
    "    path_model = TRAINDIR+'HDF5_DATA/NNL'+str(alpha)+'.h5'\n",
    "    \n",
    "    data_fn = '/local/Tom.Beucler/SPCAM_PHYS/8col009_01_valid.nc'\n",
    "    path_md = TRAINDIR+'HDF5_DATA/NNL'+str(alpha)+'md.pkl'\n",
    "    path_res = TRAINDIR+'HDF5_DATA/NNL'+str(alpha)+'res.pkl'\n",
    "\n",
    "    # 1) Load model\n",
    "    NN = load_model(path_model,custom_objects=dict_lay)\n",
    "\n",
    "    # 2) Define and load md\n",
    "    md = ModelDiagnostics(NN,config_fn,data_fn)\n",
    "    md.stats = pickle.load(open(path_md,'rb'))\n",
    "\n",
    "    # 3) Load res\n",
    "    md.resid = pickle.load(open(path_res,'rb'))\n",
    "    MSEtp[str(alpha)] = np.log10(md.mse_W2m4().mean((0,1,2)))\n",
    "    PENALTY = 0.25*(md.resid['mass']+md.resid['ent']+\\\n",
    "                    md.resid['sw']+md.resid['lw']).mean((0,1,2))\n",
    "    PENtp[str(alpha)] = np.log10(PENALTY)\n",
    "\n",
    "NN = {}; md = {};\n",
    "NN = load_model(TRAINDIR+'HDF5_DATA/JNNC.h5',custom_objects=dict_lay)\n",
    "md = ModelDiagnostics(NN,config_fn,data_fn)\n",
    "md.stats = pickle.load(open(TRAINDIR+'HDF5_DATA/JNNCmd.pkl','rb'))\n",
    "md.resid = pickle.load(open(TRAINDIR+'HDF5_DATA/JNNCmdres.pkl','rb'))\n",
    "MSEtp['NNA'] = np.log10(md.mse_W2m4().mean((0,1,2)))\n",
    "PENtp['NNA'] = YMIN+0.1"
   ]
  },
  {
   "cell_type": "markdown",
   "metadata": {},
   "source": [
    "# 3) Load data to plot Figure 3b"
   ]
  },
  {
   "cell_type": "code",
   "execution_count": 4,
   "metadata": {},
   "outputs": [],
   "source": [
    "coor = xr.open_dataset(\"/project/meteo/w2w/A6/S.Rasp/SP-CAM/fluxbypass_aqua/AndKua_aqua_SPCAM3.0_sp_fbp_f4.cam2.h1.0000-01-01-00000.nc\",\\\n",
    "                    decode_times=False)\n",
    "lat = coor.lat; lon = coor.lon;\n",
    "coor.close();"
   ]
  },
  {
   "cell_type": "code",
   "execution_count": 5,
   "metadata": {},
   "outputs": [],
   "source": [
    "# Config and data files\n",
    "config_fn = '/filer/z-sv-pool12c/t/Tom.Beucler/SPCAM/CBRAIN-CAM/pp_config/8col_rad_tbeucler_local_PostProc.yml'\n",
    "data_fn_a = ['/local/Tom.Beucler/SPCAM_PHYS/8col009_01_valid.nc',\n",
    "             '/local/Tom.Beucler/SPCAM_PHYS/8col009_14_valid.nc',\n",
    "             '/local/Tom.Beucler/SPCAM_PHYS/8col009_31_valid.nc']\n",
    "data_ref = ['','4K','3Kw1']\n",
    "dict_lay = {'SurRadLayer':SurRadLayer,'MassConsLayer':MassConsLayer,'EntConsLayer':EntConsLayer,\\\n",
    "           'weak_loss_0':mse,'weak_loss_1':mse}\n",
    "NNarray = ['JUnotC','JNNL','JNNC','MLRL0','JNNL0.01']"
   ]
  },
  {
   "cell_type": "code",
   "execution_count": 6,
   "metadata": {},
   "outputs": [],
   "source": [
    "index = 0\n",
    "var = 'Enthalpy'\n",
    "\n",
    "if index==0:\n",
    "    lat_ind = np.arange(0,64)\n",
    "elif index==1:\n",
    "    #lat_ind = [30,33]\n",
    "    lat_ind = np.arange(0,64)\n",
    "\n",
    "if var=='Water':\n",
    "    Bdic = ['TOT','LHF','PREC','WAT']; \n",
    "    Rdic = ['TOT','PREC','WAT','CROSS']\n",
    "elif var=='Enthalpy':\n",
    "    Bdic = ['TOT','THERMO','RAD','PHAS','SHFLX'];\n",
    "    Rdic = ['TOT','THERMO','RAD','PHAS','SHFLX','CROSS'];\n",
    "    \n",
    "import pickle\n",
    "M = {}\n",
    "for i,NNs in enumerate(NNarray):\n",
    "    filename = '/local/Tom.Beucler/SPCAM_PHYS/HDF5_DATA/7_3_'+var+'_'+data_fn_a[index][-19:-1]+'_'+NNs+'.h5'\n",
    "    hf = open(filename,'rb')\n",
    "    M[NNs] = pickle.load(hf)"
   ]
  },
  {
   "cell_type": "code",
   "execution_count": 7,
   "metadata": {},
   "outputs": [],
   "source": [
    "cplot = ['b','r','g']\n",
    "dict_lay = {'SurRadLayer':SurRadLayer,'MassConsLayer':MassConsLayer,'EntConsLayer':EntConsLayer,\\\n",
    "           'weak_loss_0':mse,'weak_loss_1':mse}\n",
    "NNplot = ['JNNL','JNNL0.01','JUnotC']\n",
    "NNsREF = 'JNNC'\n",
    "VAR = 'THERMO'\n",
    "\n",
    "fz = 20\n",
    "LAB = [r'$\\mathrm{THERMO}$','','',r'$\\mathrm{RESID}$','','']\n",
    "lw = 4\n",
    "siz = 100\n",
    "S0 = 320 # Representative mean solar insolation for normalization purposes\n",
    "S0max = 1410.6442 # Max solar insolation for normalization purposes\n",
    "SN = S0/100 # Representative target = mean insolation / 4\n",
    "XNNA = 1.25 # Abscissa where architecture-constrained network will be placed\n",
    "XTEXT = 0.25 # Text placement\n",
    "YMIN = -1 # Representative value for conserving network\n",
    "YTEXT = 0.3 # Text placement"
   ]
  },
  {
   "cell_type": "markdown",
   "metadata": {},
   "source": [
    "# 4) Draw both figures on same plot"
   ]
  },
  {
   "cell_type": "code",
   "execution_count": 8,
   "metadata": {},
   "outputs": [
    {
     "name": "stdout",
     "output_type": "stream",
     "text": [
      "0 $-1$\n",
      "1 $0$\n",
      "2 $1$\n",
      "3 $2$\n",
      "4 $3$\n",
      "5 $4$\n"
     ]
    },
    {
     "name": "stderr",
     "output_type": "stream",
     "text": [
      "/home/t/Tom.Beucler/miniconda3/lib/python3.7/site-packages/tensorflow/python/keras/api/_v1/keras/models/__init__.py:66: RuntimeWarning: invalid value encountered in log10\n"
     ]
    },
    {
     "name": "stdout",
     "output_type": "stream",
     "text": [
      "0 $0$\n",
      "1 $1$\n",
      "2 $2$\n",
      "3 $3$\n",
      "4 $4$\n",
      "5 $5$\n"
     ]
    },
    {
     "data": {
      "text/plain": [
       "[Text(1, 0.0, '$10^{0}$'),\n",
       " Text(1, 1.0, '$10^{1}$'),\n",
       " Text(1, 2.0, '$10^{2}$'),\n",
       " Text(1, 3.0, '$10^{3}$'),\n",
       " Text(1, 4.0, '$10^{4}$'),\n",
       " Text(1, 5.0, '$10^{5}$')]"
      ]
     },
     "execution_count": 8,
     "metadata": {},
     "output_type": "execute_result"
    },
    {
     "data": {
      "image/png": "[encoded data removed]",
      "text/plain": [
       "<Figure size 800x400 with 2 Axes>"
      ]
     },
     "metadata": {},
     "output_type": "display_data"
    }
   ],
   "source": [
    "plt.rc('text', usetex=True)\n",
    "plt.rc('font', family='serif', size=fz)\n",
    "mpl.rcParams['lines.linewidth'] = lw\n",
    "plt.close('all')\n",
    "\n",
    "f = plt.figure(num=None, figsize=(10,5), dpi=80, facecolor='w', edgecolor='k')\n",
    "\n",
    "### Subplot 1 ###\n",
    "\n",
    "ax = f.add_subplot(1,2,1)\n",
    "MSEs = {}; PENs = {};\n",
    "\n",
    "plt.axvline(x=0,color='k',linestyle='--',zorder=0)\n",
    "plt.axvline(x=1,color='k',linestyle='--',zorder=0)\n",
    "\n",
    "STR = 'MLRL0'\n",
    "plt.axhline(y=MSEtp[STR],c='k',linestyle='--',zorder=1)\n",
    "plt.axhline(y=PENtp[STR],c='b',linestyle='--',zorder=1)\n",
    "\n",
    "for alpha in alpha_array:\n",
    "    STR = str(alpha)\n",
    "    MSEs[str(alpha)] = plt.scatter(alpha,MSEtp[STR],c='k',s=siz)\n",
    "    PENs[str(alpha)] = plt.scatter(alpha,PENtp[STR],c='b',s=siz)\n",
    "\n",
    "STR = 'NNA'\n",
    "MSEs['NNA'] = plt.scatter(XNNA,MSEtp[STR],c='k',s=siz)\n",
    "PENs['NNA'] = plt.scatter(XNNA,YMIN+0.1,c='b',s=3*siz,marker=\"$\\downarrow$\")\n",
    "MSEt = plt.text(XNNA-XTEXT,MSEtp[STR]-YTEXT-0.1,s='$\\mathrm{ACnet}$',color='k')\n",
    "PENt = plt.text(XNNA-XTEXT,YMIN+0.1+YTEXT/2,s='$\\mathrm{ACnet}$',color='b')\n",
    "    \n",
    "plt.xlim((-0.05,1.3))\n",
    "plt.ylim((YMIN,3.33))\n",
    "\n",
    "plt.xlabel(r'$\\mathrm{Conservation\\ weight\\ }\\alpha$')\n",
    "plt.ylabel(r'$\\mathrm{Loss}$')\n",
    "#plt.title(r'$\\mathrm{\\left(a\\right)\\ Performance\\ vs\\ Conservation}$')\n",
    "plt.title(r'$\\mathrm{\\left(a\\right)\\ Performance\\ vs\\ Conservation}$')\n",
    "\n",
    "plt.legend((MSEs['0'],PENs['0']),\\\n",
    "           ('MSE','$\\cal{P}$'))\n",
    "# plt.legend((MSEs['0'],PENs['0']),\\\n",
    "#            ('Performance loss','Conservation loss'),\\\n",
    "#           loc='lower left')\n",
    "# plt.legend((MSEs['0'],PENs['0'],MSEs['NNA'],PENs['NNA']),\\\n",
    "#            ('MSE','$\\cal{P}$','MSE NNA','$\\cal{P}\\ \\mathrm{NNA}$'))\n",
    "\n",
    "plt.draw()\n",
    "# Change y labels to 10^n\n",
    "labels = [item.get_text() for item in ax.get_yticklabels()]\n",
    "for ilab,lab in enumerate(labels):\n",
    "    print(ilab,lab)\n",
    "    labels[ilab]='$10^{'+lab[1:-1]+'}$'\n",
    "ax.set_yticklabels(labels)\n",
    "\n",
    "### Subplot 2 ###\n",
    "\n",
    "ax = f.add_subplot(1,2,2)\n",
    "MSEs = {}; PENs = {};\n",
    "\n",
    "\n",
    "REF = M[NNsREF]['error']['THERMO'][:,:,0].mean(axis=1)\n",
    "\n",
    "ETHERMOs = {}; ETOTs = {};\n",
    "for imodel,NNs in enumerate(NNplot):\n",
    "    ETHERMOs[NNs] = plt.plot(coor.lat,\\\n",
    "                             np.log10(M[NNs]['error'][VAR][:,:,0].mean(axis=1)-REF),\\\n",
    "                             color=cplot[imodel],label=LAB[imodel])\n",
    "    ETOTs[NNs] = plt.plot(coor.lat,\\\n",
    "                          np.log10(M[NNs]['error']['TOT'][:,:,0].mean(axis=1)),\\\n",
    "                          color=cplot[imodel],linestyle='--',label=LAB[np.size(NNplot)+imodel])\n",
    "\n",
    "plt.grid()\n",
    "ax.yaxis.tick_right()\n",
    "ax.yaxis.set_label_position(\"right\")\n",
    "plt.xlim((np.min(coor.lat),np.max(coor.lat)))\n",
    "\n",
    "# Text\n",
    "N2NETt = plt.text(55,3.65,s='$\\mathrm{NN2}$',color='g')\n",
    "NNETt = plt.text(55,2.15,s='$\\mathrm{NN}$',color='b')\n",
    "LCNETt = plt.text(55,1,s='$\\mathrm{LCnet}$',color='r')\n",
    "\n",
    "# plt.ylim((YMIN,3.33))\n",
    "plt.xlabel(r'$\\mathrm{Latitude\\ \\left(^{\\circ}\\right)}$')\n",
    "plt.ylabel(r'$\\mathrm{Error}$',labelpad=10)\n",
    "plt.title(r'$\\mathrm{\\left(b\\right)\\ MSE\\ relative\\ to\\ ACnet}$')\n",
    "plt.legend(loc='center left',fontsize=2*fz/3)\n",
    "\n",
    "plt.draw()\n",
    "# Change y labels to 10^n\n",
    "labels = [item.get_text() for item in ax.get_yticklabels()]\n",
    "for ilab,lab in enumerate(labels):\n",
    "    print(ilab,lab)\n",
    "    labels[ilab]='$10^{'+lab[1:-1]+'}$'\n",
    "ax.set_yticklabels(labels)"
   ]
  },
  {
   "cell_type": "markdown",
   "metadata": {},
   "source": [
    "# 5) Generate tex code for Table 1 automatically"
   ]
  },
  {
   "cell_type": "code",
   "execution_count": 9,
   "metadata": {},
   "outputs": [
    {
     "name": "stdout",
     "output_type": "stream",
     "text": [
      "i = 0  so plotting Subplot # 1\n",
      "JNNL\n"
     ]
    },
    {
     "name": "stderr",
     "output_type": "stream",
     "text": [
      "/home/t/Tom.Beucler/SPCAM/CBRAIN-CAM/notebooks/tbeucler_devlog/cbrain/model_diagnostics.py:25: YAMLLoadWarning: calling yaml.load() without Loader=... is deprecated, as the default Loader is unsafe. Please read https://msg.pyyaml.org/load for full details.\n",
      "  config = yaml.load(f)\n"
     ]
    },
    {
     "name": "stdout",
     "output_type": "stream",
     "text": [
      "Error JNNL 0 = 1.49e+02 +- 9.44e+02\n",
      "Residual JNNL 0 = 9.14e+01 +- 8.19e+01\n",
      "i = 1  so plotting Subplot # 2\n",
      "JNNC\n"
     ]
    },
    {
     "name": "stderr",
     "output_type": "stream",
     "text": [
      "/home/t/Tom.Beucler/SPCAM/CBRAIN-CAM/notebooks/tbeucler_devlog/cbrain/model_diagnostics.py:25: YAMLLoadWarning: calling yaml.load() without Loader=... is deprecated, as the default Loader is unsafe. Please read https://msg.pyyaml.org/load for full details.\n",
      "  config = yaml.load(f)\n"
     ]
    },
    {
     "name": "stdout",
     "output_type": "stream",
     "text": [
      "Error JNNC 0 = 1.52e+02 +- 9.63e+02\n",
      "Residual JNNC 0 = 7.71e-10 +- 1.35e-09\n",
      "i = 2  so plotting Subplot # 3\n",
      "JNNL0.01\n"
     ]
    },
    {
     "name": "stderr",
     "output_type": "stream",
     "text": [
      "/home/t/Tom.Beucler/SPCAM/CBRAIN-CAM/notebooks/tbeucler_devlog/cbrain/model_diagnostics.py:25: YAMLLoadWarning: calling yaml.load() without Loader=... is deprecated, as the default Loader is unsafe. Please read https://msg.pyyaml.org/load for full details.\n",
      "  config = yaml.load(f)\n",
      "W0822 01:39:11.826522 23332092057408 deprecation.py:506] From /home/t/Tom.Beucler/miniconda3/lib/python3.7/site-packages/tensorflow/python/ops/init_ops.py:97: calling Ones.__init__ (from tensorflow.python.ops.init_ops) with dtype is deprecated and will be removed in a future version.\n",
      "Instructions for updating:\n",
      "Call initializer instance with the dtype argument instead of passing it to the constructor\n"
     ]
    },
    {
     "name": "stdout",
     "output_type": "stream",
     "text": [
      "Error JNNL0.01 0 = 1.51e+02 +- 9.51e+02\n",
      "Residual JNNL0.01 0 = 3.81e+01 +- 2.85e+01\n",
      "i = 3  so plotting Subplot # 4\n",
      "JUnotC\n"
     ]
    },
    {
     "name": "stderr",
     "output_type": "stream",
     "text": [
      "/home/t/Tom.Beucler/SPCAM/CBRAIN-CAM/notebooks/tbeucler_devlog/cbrain/model_diagnostics.py:25: YAMLLoadWarning: calling yaml.load() without Loader=... is deprecated, as the default Loader is unsafe. Please read https://msg.pyyaml.org/load for full details.\n",
      "  config = yaml.load(f)\n"
     ]
    },
    {
     "name": "stdout",
     "output_type": "stream",
     "text": [
      "Error JUnotC 0 = 3.40e+02 +- 2.18e+03\n",
      "Residual JUnotC 0 = 2.87e+03 +- 3.36e+03\n",
      "i = 4  so plotting Subplot # 5\n",
      "MLRL0\n"
     ]
    },
    {
     "name": "stderr",
     "output_type": "stream",
     "text": [
      "/home/t/Tom.Beucler/SPCAM/CBRAIN-CAM/notebooks/tbeucler_devlog/cbrain/model_diagnostics.py:25: YAMLLoadWarning: calling yaml.load() without Loader=... is deprecated, as the default Loader is unsafe. Please read https://msg.pyyaml.org/load for full details.\n",
      "  config = yaml.load(f)\n"
     ]
    },
    {
     "name": "stdout",
     "output_type": "stream",
     "text": [
      "Error MLRL0 0 = 2.95e+02 +- 1.69e+03\n",
      "Residual MLRL0 0 = 2.77e+01 +- 2.32e+01\n",
      "i = 0  so plotting Subplot # 6\n",
      "JNNL\n"
     ]
    },
    {
     "name": "stderr",
     "output_type": "stream",
     "text": [
      "/home/t/Tom.Beucler/SPCAM/CBRAIN-CAM/notebooks/tbeucler_devlog/cbrain/model_diagnostics.py:25: YAMLLoadWarning: calling yaml.load() without Loader=... is deprecated, as the default Loader is unsafe. Please read https://msg.pyyaml.org/load for full details.\n",
      "  config = yaml.load(f)\n"
     ]
    },
    {
     "name": "stdout",
     "output_type": "stream",
     "text": [
      "Error JNNL 4 = 3.46e+02 +- 3.62e+03\n",
      "Residual JNNL 4 = 2.65e+02 +- 5.58e+02\n",
      "i = 1  so plotting Subplot # 7\n",
      "JNNC\n"
     ]
    },
    {
     "name": "stderr",
     "output_type": "stream",
     "text": [
      "/home/t/Tom.Beucler/SPCAM/CBRAIN-CAM/notebooks/tbeucler_devlog/cbrain/model_diagnostics.py:25: YAMLLoadWarning: calling yaml.load() without Loader=... is deprecated, as the default Loader is unsafe. Please read https://msg.pyyaml.org/load for full details.\n",
      "  config = yaml.load(f)\n"
     ]
    },
    {
     "name": "stdout",
     "output_type": "stream",
     "text": [
      "Error JNNC 4 = 3.62e+02 +- 4.32e+03\n",
      "Residual JNNC 4 = 1.38e-09 +- 2.89e-09\n",
      "i = 2  so plotting Subplot # 8\n",
      "JNNL0.01\n"
     ]
    },
    {
     "name": "stderr",
     "output_type": "stream",
     "text": [
      "/home/t/Tom.Beucler/SPCAM/CBRAIN-CAM/notebooks/tbeucler_devlog/cbrain/model_diagnostics.py:25: YAMLLoadWarning: calling yaml.load() without Loader=... is deprecated, as the default Loader is unsafe. Please read https://msg.pyyaml.org/load for full details.\n",
      "  config = yaml.load(f)\n"
     ]
    },
    {
     "name": "stdout",
     "output_type": "stream",
     "text": [
      "Error JNNL0.01 4 = 3.68e+02 +- 4.25e+03\n",
      "Residual JNNL0.01 4 = 2.46e+02 +- 7.26e+02\n",
      "i = 3  so plotting Subplot # 9\n",
      "JUnotC\n"
     ]
    },
    {
     "name": "stderr",
     "output_type": "stream",
     "text": [
      "/home/t/Tom.Beucler/SPCAM/CBRAIN-CAM/notebooks/tbeucler_devlog/cbrain/model_diagnostics.py:25: YAMLLoadWarning: calling yaml.load() without Loader=... is deprecated, as the default Loader is unsafe. Please read https://msg.pyyaml.org/load for full details.\n",
      "  config = yaml.load(f)\n"
     ]
    },
    {
     "name": "stdout",
     "output_type": "stream",
     "text": [
      "Error JUnotC 4 = 4.45e+02 +- 2.60e+03\n",
      "Residual JUnotC 4 = 4.04e+03 +- 5.41e+03\n",
      "i = 4  so plotting Subplot # 10\n",
      "MLRL0\n"
     ]
    },
    {
     "name": "stderr",
     "output_type": "stream",
     "text": [
      "/home/t/Tom.Beucler/SPCAM/CBRAIN-CAM/notebooks/tbeucler_devlog/cbrain/model_diagnostics.py:25: YAMLLoadWarning: calling yaml.load() without Loader=... is deprecated, as the default Loader is unsafe. Please read https://msg.pyyaml.org/load for full details.\n",
      "  config = yaml.load(f)\n"
     ]
    },
    {
     "name": "stdout",
     "output_type": "stream",
     "text": [
      "Error MLRL0 4 = 7.47e+02 +- 1.29e+04\n",
      "Residual MLRL0 4 = 2.65e+02 +- 1.76e+03\n"
     ]
    }
   ],
   "source": [
    "SST = [0,4]\n",
    "NNarray = ['JNNL','JNNC','JNNL0.01','JUnotC','MLRL0']\n",
    "MSEarray = {}\n",
    "Parray = {}\n",
    "\n",
    "for j,sst in enumerate(SST):\n",
    "    MSEarray[sst] = {}\n",
    "    Parray[sst] = {}\n",
    "    #print('j=',j,'and sst=',sst)\n",
    "    if sst==0: data_fn = '/local/Tom.Beucler/SPCAM_PHYS/8col009_01_valid.nc'\n",
    "    else: data_fn = '/local/Tom.Beucler/SPCAM_PHYS/8col009_1'+str(sst)+'_valid.nc'\n",
    "    for i,NNs in enumerate(NNarray):\n",
    "        #plt.subplot(2, len(NNarray), i+1+j*len(NNarray))\n",
    "        print('i =',i,' so case #',i+1+j*len(NNarray))\n",
    "        # Load statistics\n",
    "        md = {}; NN = {};\n",
    "        #print('Loading model') # 1) Load model\n",
    "        NN = load_model(TRAINDIR+'HDF5_DATA/'+NNs+'.h5',custom_objects=dict_lay)\n",
    "        #print('Loading statistics') # 2) Define model diagnostics object\n",
    "        print(NNs)\n",
    "        md = ModelDiagnostics(NN,config_fn,data_fn)\n",
    "        # 3) Calculate statistics and save in pickle file\n",
    "        if sst==0: path_end = 'md.pkl'\n",
    "        else: path_end = 'md'+str(sst)+'K.pkl'\n",
    "        md.stats = pickle.load(open(TRAINDIR+'HDF5_DATA/'+NNs+path_end,'rb'))\n",
    "        print('Error',NNs,sst,'=','%.2e'%md.mse_W2m4().mean((0,1,2)),\\\n",
    "         '+-','%.2e'%md.mse_W2m4().std((0,1,2)))\n",
    "        MSEarray[sst][NNs] = {}\n",
    "        STRm = [\"%.1e\" %md.mse_W2m4().mean((0,1,2))]\n",
    "        STRs = [\"%.1e\" %md.mse_W2m4().std((0,1,2))]\n",
    "        MSEarray[sst][NNs][0] = STRm\n",
    "        MSEarray[sst][NNs][1] = STRs\n",
    "        # 4) Residual\n",
    "        if sst==0: path_end = 'mdres.pkl'\n",
    "        else: path_end = 'mdres'+str(sst)+'K.pkl'\n",
    "        md.res = pickle.load(open(TRAINDIR+'HDF5_DATA/'+NNs+path_end,'rb'))\n",
    "        RES = 0.25*(md.res['mass']+md.res['ent']+md.res['sw']+md.res['lw'])\n",
    "        print('Residual',NNs,sst,'=','%.2e'%RES.mean((0,1,2)),'+-','%.2e'%RES.std((0,1,2)))\n",
    "        Parray[sst][NNs] = {}\n",
    "        STRm = [\"%.1e\" %RES.mean((0,1,2))]\n",
    "        STRs = [\"%.1e\" %RES.std((0,1,2))]\n",
    "        Parray[sst][NNs][0] = STRm\n",
    "        Parray[sst][NNs][1] = STRs"
   ]
  },
  {
   "cell_type": "code",
   "execution_count": 14,
   "metadata": {},
   "outputs": [],
   "source": [
    "NNarray = ['MLRL0','JNNL','JUnotC','JNNL0.01','JNNC']\n",
    "\n",
    "f= open(\"/local/Tom.Beucler/SPCAM_PHYS/TXT_DATA/Table00.txt\",\"w+\")\n",
    "f.write(\"\\\\begin{table}[H]\\n\")\n",
    "f.write(\"\\\\begin{centering}\\n\")\n",
    "f.write(\"{\\\\small{}}%\\n\")\n",
    "f.write(\"\\\\begin{tabular}{c|c|ccccc}\\n\")\n",
    "f.write(\"{\\\\small{}Validation} & {\\\\small{}Metric} & {\\\\small{}Linear} & Unconstrained & $\\\\mathrm{Unconstrained_{2}}$ & $\\\\mathrm{LC_{net\\\\left(\\\\alpha=0.01\\\\right)}}$ & $\\\\mathrm{AC_{net}}$\\\\tabularnewline\\n\")\n",
    "f.write(\"\\\\hline\\n\") \n",
    "f.write(\"{\\\\small{}Baseline skill} & {\\\\small{}$\\\\mathrm{MSE}$} &\")\n",
    "for i,NNs in enumerate(NNarray):\n",
    "    f.write(\" {\\\\small{}$\")\n",
    "    f.write(MSEarray[0][NNs][0][0][:3])\n",
    "    f.write(\"\\\\ 10^{\")\n",
    "    f.write(MSEarray[0][NNs][0][0][-1:])\n",
    "    f.write(\"}\\\\pm\")\n",
    "    f.write(MSEarray[0][NNs][1][0][:3])\n",
    "    f.write(\"\\\\ 10^{\")\n",
    "    f.write(MSEarray[0][NNs][1][0][-1:])\n",
    "    f.write(\"}$}\")\n",
    "    if i<np.size(NNarray)-1: f.write(\" &\")\n",
    "    else: f.write(\"\\\\tabularnewline\\n\")\n",
    "    #f.write(\" {\\\\small{}$295\\\\pm1.7.10^{3}$} & {\\\\small{}$156\\\\pm1.0\\\\ 10^{3}$} & {\\\\small{}$156\\\\pm1.0\\\\ 10^{3}$} & {\\\\small{}$154\\\\pm1.0\\\\ 10^{3}$} & {\\\\small{}$177\\\\pm1.1\\\\ 10^{3}$}\\\\tabularnewline\\n\")\n",
    "f.write(\"(+0K) & {\\\\small{}${\\\\cal P}$} &\")\n",
    "for i,NNs in enumerate(NNarray):\n",
    "    f.write(\" {\\\\small{}$\")\n",
    "    f.write(Parray[0][NNs][0][0][:3])\n",
    "    f.write(\"\\\\ 10^{\")\n",
    "    f.write(Parray[0][NNs][0][0][-1:])\n",
    "    f.write(\"}\\\\pm\")\n",
    "    f.write(Parray[0][NNs][1][0][:3])\n",
    "    f.write(\"\\\\ 10^{\")\n",
    "    f.write(Parray[0][NNs][1][0][-1:])\n",
    "    f.write(\"}$}\")\n",
    "    if i<np.size(NNarray)-1: f.write(\" &\")\n",
    "    else: f.write(\"\\\\tabularnewline\\n\")\n",
    "#f.write(\"(+0K) & {\\\\small{}${\\\\cal P}$} & {\\\\small{}$28\\\\pm2\\\\ 10^{1}$} & {\\\\small{}$458\\\\pm5\\\\ 10^{2}$} & {\\\\small{}$156\\\\pm1.0\\\\ 10^{3}$} & {\\\\small{}$125\\\\pm2\\\\ 10^{2}$} & {\\\\small{}$5.0\\\\pm5$}\\\\tabularnewline\\n\")\n",
    "f.write(\"\\\\cline{1-1}\\n\")\n",
    "f.write(\"Uni. warming & {\\\\small{}$\\mathrm{MSE}$} &\")\n",
    "for i,NNs in enumerate(NNarray):\n",
    "    f.write(\" {\\\\small{}$\")\n",
    "    f.write(MSEarray[4][NNs][0][0][:3])\n",
    "    f.write(\"\\\\ 10^{\")\n",
    "    f.write(MSEarray[4][NNs][0][0][-1:])\n",
    "    f.write(\"}\\\\pm\")\n",
    "    f.write(MSEarray[4][NNs][1][0][:3])\n",
    "    f.write(\"\\\\ 10^{\")\n",
    "    f.write(MSEarray[4][NNs][1][0][-1:])\n",
    "    f.write(\"}$}\")\n",
    "    if i<np.size(NNarray)-1: f.write(\" &\")\n",
    "    else: f.write(\"\\\\tabularnewline\\n\")\n",
    "#f.write(\"Uni. warming & {\\\\small{}$\\mathrm{MSE}$} & {\\\\small{}$747\\\\pm1\\\\ 10^{5}$} & {\\\\small{}$633\\\\pm7\\\\ 10^{3}$} & {\\\\small{}$156\\\\pm1.0\\\\ 10^{3}$} & {\\\\small{}$471\\\\pm5\\\\ 10^{3}$} & {\\\\small{}$496\\\\pm8\\\\ 10^{3}$}\\\\tabularnewline\\n\")\n",
    "f.write(\"(+4K) & {\\\\small{}${\\\\cal P}$} &\")\n",
    "for i,NNs in enumerate(NNarray):\n",
    "    f.write(\" {\\\\small{}$\")\n",
    "    f.write(Parray[4][NNs][0][0][:3])\n",
    "    f.write(\"\\\\ 10^{\")\n",
    "    f.write(Parray[4][NNs][0][0][-1:])\n",
    "    f.write(\"}\\\\pm\")\n",
    "    f.write(Parray[4][NNs][1][0][:3])\n",
    "    f.write(\"\\\\ 10^{\")\n",
    "    f.write(Parray[4][NNs][1][0][-1:])\n",
    "    f.write(\"}$}\")\n",
    "    if i<np.size(NNarray)-1: f.write(\" &\")\n",
    "    else: f.write(\"\\\\tabularnewline\\n\")\n",
    "#f.write(\"(+4K) & {\\\\small{}${\\\\cal P}$} & {\\\\small{}$265\\\\pm2\\\\ 10^{3}$} & {\\\\small{}$3\\\\ 10^{5}\\\\pm1\\\\ 10^{6}$} & {\\\\small{}$156\\\\pm1.0\\\\ 10^{3}$} & {\\\\small{}$2\\\\ 10^{3}\\\\pm1\\\\ 10^{4}$} & {\\\\small{}$470\\\\pm2\\\\ 10^{3}$}\\\\tabularnewline\\n\")\n",
    "f.write(\"\\\\hline\\n\") \n",
    "f.write(\"\\\\end{tabular}\\n\")\n",
    "f.write(\"\\\\par\\\\end{centering}{\\\\small \\\\par}\\n\")\n",
    "f.write(\"\\n\")\n",
    "f.write(\"\\\\caption{Summary table (MSE/Penalty)}\\n\")\n",
    "f.write(\"\\\\end{table}\\n\")\n",
    "f.close()"
   ]
  },
  {
   "cell_type": "code",
   "execution_count": null,
   "metadata": {},
   "outputs": [],
   "source": []
  }
 ],
 "metadata": {
  "kernelspec": {
   "display_name": "Python 3",
   "language": "python",
   "name": "python3"
  },
  "language_info": {
   "codemirror_mode": {
    "name": "ipython",
    "version": 3
   },
   "file_extension": ".py",
   "mimetype": "text/x-python",
   "name": "python",
   "nbconvert_exporter": "python",
   "pygments_lexer": "ipython3",
   "version": "3.7.3"
  }
 },
 "nbformat": 4,
 "nbformat_minor": 2
}
