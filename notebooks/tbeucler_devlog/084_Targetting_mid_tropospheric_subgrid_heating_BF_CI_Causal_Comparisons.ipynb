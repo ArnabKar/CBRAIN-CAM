{
 "cells": [
  {
   "cell_type": "markdown",
   "metadata": {},
   "source": [
    "tgb - 01/19/2022 - The particular case of precipitation did not work out because the climate-invariant rescaling is not appropriate to predict precipitation. Therefore, the goal of this notebook is to compare four ways of predicting precip in an Earth-like setting:  \n",
    "1. Brute force   \n",
    "2. Brute force, but causally informed   \n",
    "3. Climate invariant     \n",
    "4. Climate invariant, but causally informed  "
   ]
  },
  {
   "cell_type": "markdown",
   "metadata": {},
   "source": [
    "# Imports"
   ]
  },
  {
   "cell_type": "code",
   "execution_count": 1,
   "metadata": {},
   "outputs": [
    {
     "name": "stdout",
     "output_type": "stream",
     "text": [
      "/nfspool-0/home/tbeucler/CBRAIN-CAM/notebooks/tbeucler_devlog\n"
     ]
    }
   ],
   "source": [
    "import tensorflow as tf\n",
    "physical_devices = tf.config.experimental.list_physical_devices('GPU') \n",
    "tf.config.experimental.set_memory_growth(physical_devices[0], True)\n",
    "tf.config.experimental.set_memory_growth(physical_devices[1], True)\n",
    "tf.config.experimental.set_memory_growth(physical_devices[2], True)\n",
    "import os\n",
    "os.environ[\"CUDA_VISIBLE_DEVICES\"]=\"0\"\n",
    "\n",
    "from cbrain.climate_invariant import *\n",
    "\n",
    "import pickle"
   ]
  },
  {
   "cell_type": "markdown",
   "metadata": {},
   "source": [
    "# BF"
   ]
  },
  {
   "cell_type": "markdown",
   "metadata": {},
   "source": [
    "## Data generator"
   ]
  },
  {
   "cell_type": "code",
   "execution_count": 2,
   "metadata": {},
   "outputs": [],
   "source": [
    "path_data = '/DFS-L/DATA/pritchard/tbeucler/SPCAM/SPCAM_PHYS/'"
   ]
  },
  {
   "cell_type": "code",
   "execution_count": 3,
   "metadata": {},
   "outputs": [],
   "source": [
    "path_train = path_data + '2022_01_19_TRAIN_M4K_TPHYSTND500.nc'\n",
    "path_valid = path_data + '2022_01_19_VALID_M4K_TPHYSTND500.nc'\n",
    "path_norm = path_data + '2022_01_20_NORM_TPHYSTND500.nc'"
   ]
  },
  {
   "cell_type": "code",
   "execution_count": 4,
   "metadata": {},
   "outputs": [],
   "source": [
    "test = xr.open_dataset(path_norm)"
   ]
  },
  {
   "cell_type": "code",
   "execution_count": 5,
   "metadata": {},
   "outputs": [
    {
     "data": {
      "text/html": [
       "<div><svg style=\"position: absolute; width: 0; height: 0; overflow: hidden\">\n",
       "<defs>\n",
       "<symbol id=\"icon-database\" viewBox=\"0 0 32 32\">\n",
       "<title>Show/Hide data repr</title>\n",
       "<path d=\"M16 0c-8.837 0-16 2.239-16 5v4c0 2.761 7.163 5 16 5s16-2.239 16-5v-4c0-2.761-7.163-5-16-5z\"></path>\n",
       "<path d=\"M16 17c-8.837 0-16-2.239-16-5v6c0 2.761 7.163 5 16 5s16-2.239 16-5v-6c0 2.761-7.163 5-16 5z\"></path>\n",
       "<path d=\"M16 26c-8.837 0-16-2.239-16-5v6c0 2.761 7.163 5 16 5s16-2.239 16-5v-6c0 2.761-7.163 5-16 5z\"></path>\n",
       "</symbol>\n",
       "<symbol id=\"icon-file-text2\" viewBox=\"0 0 32 32\">\n",
       "<title>Show/Hide attributes</title>\n",
       "<path d=\"M28.681 7.159c-0.694-0.947-1.662-2.053-2.724-3.116s-2.169-2.030-3.116-2.724c-1.612-1.182-2.393-1.319-2.841-1.319h-15.5c-1.378 0-2.5 1.121-2.5 2.5v27c0 1.378 1.122 2.5 2.5 2.5h23c1.378 0 2.5-1.122 2.5-2.5v-19.5c0-0.448-0.137-1.23-1.319-2.841zM24.543 5.457c0.959 0.959 1.712 1.825 2.268 2.543h-4.811v-4.811c0.718 0.556 1.584 1.309 2.543 2.268zM28 29.5c0 0.271-0.229 0.5-0.5 0.5h-23c-0.271 0-0.5-0.229-0.5-0.5v-27c0-0.271 0.229-0.5 0.5-0.5 0 0 15.499-0 15.5 0v7c0 0.552 0.448 1 1 1h7v19.5z\"></path>\n",
       "<path d=\"M23 26h-14c-0.552 0-1-0.448-1-1s0.448-1 1-1h14c0.552 0 1 0.448 1 1s-0.448 1-1 1z\"></path>\n",
       "<path d=\"M23 22h-14c-0.552 0-1-0.448-1-1s0.448-1 1-1h14c0.552 0 1 0.448 1 1s-0.448 1-1 1z\"></path>\n",
       "<path d=\"M23 18h-14c-0.552 0-1-0.448-1-1s0.448-1 1-1h14c0.552 0 1 0.448 1 1s-0.448 1-1 1z\"></path>\n",
       "</symbol>\n",
       "</defs>\n",
       "</svg>\n",
       "<style>/* CSS stylesheet for displaying xarray objects in jupyterlab.\n",
       " *\n",
       " */\n",
       "\n",
       ":root {\n",
       "  --xr-font-color0: var(--jp-content-font-color0, rgba(0, 0, 0, 1));\n",
       "  --xr-font-color2: var(--jp-content-font-color2, rgba(0, 0, 0, 0.54));\n",
       "  --xr-font-color3: var(--jp-content-font-color3, rgba(0, 0, 0, 0.38));\n",
       "  --xr-border-color: var(--jp-border-color2, #e0e0e0);\n",
       "  --xr-disabled-color: var(--jp-layout-color3, #bdbdbd);\n",
       "  --xr-background-color: var(--jp-layout-color0, white);\n",
       "  --xr-background-color-row-even: var(--jp-layout-color1, white);\n",
       "  --xr-background-color-row-odd: var(--jp-layout-color2, #eeeeee);\n",
       "}\n",
       "\n",
       ".xr-wrap {\n",
       "  min-width: 300px;\n",
       "  max-width: 700px;\n",
       "}\n",
       "\n",
       ".xr-header {\n",
       "  padding-top: 6px;\n",
       "  padding-bottom: 6px;\n",
       "  margin-bottom: 4px;\n",
       "  border-bottom: solid 1px var(--xr-border-color);\n",
       "}\n",
       "\n",
       ".xr-header > div,\n",
       ".xr-header > ul {\n",
       "  display: inline;\n",
       "  margin-top: 0;\n",
       "  margin-bottom: 0;\n",
       "}\n",
       "\n",
       ".xr-obj-type,\n",
       ".xr-array-name {\n",
       "  margin-left: 2px;\n",
       "  margin-right: 10px;\n",
       "}\n",
       "\n",
       ".xr-obj-type {\n",
       "  color: var(--xr-font-color2);\n",
       "}\n",
       "\n",
       ".xr-sections {\n",
       "  padding-left: 0 !important;\n",
       "  display: grid;\n",
       "  grid-template-columns: 150px auto auto 1fr 20px 20px;\n",
       "}\n",
       "\n",
       ".xr-section-item {\n",
       "  display: contents;\n",
       "}\n",
       "\n",
       ".xr-section-item input {\n",
       "  display: none;\n",
       "}\n",
       "\n",
       ".xr-section-item input + label {\n",
       "  color: var(--xr-disabled-color);\n",
       "}\n",
       "\n",
       ".xr-section-item input:enabled + label {\n",
       "  cursor: pointer;\n",
       "  color: var(--xr-font-color2);\n",
       "}\n",
       "\n",
       ".xr-section-item input:enabled + label:hover {\n",
       "  color: var(--xr-font-color0);\n",
       "}\n",
       "\n",
       ".xr-section-summary {\n",
       "  grid-column: 1;\n",
       "  color: var(--xr-font-color2);\n",
       "  font-weight: 500;\n",
       "}\n",
       "\n",
       ".xr-section-summary > span {\n",
       "  display: inline-block;\n",
       "  padding-left: 0.5em;\n",
       "}\n",
       "\n",
       ".xr-section-summary-in:disabled + label {\n",
       "  color: var(--xr-font-color2);\n",
       "}\n",
       "\n",
       ".xr-section-summary-in + label:before {\n",
       "  display: inline-block;\n",
       "  content: '►';\n",
       "  font-size: 11px;\n",
       "  width: 15px;\n",
       "  text-align: center;\n",
       "}\n",
       "\n",
       ".xr-section-summary-in:disabled + label:before {\n",
       "  color: var(--xr-disabled-color);\n",
       "}\n",
       "\n",
       ".xr-section-summary-in:checked + label:before {\n",
       "  content: '▼';\n",
       "}\n",
       "\n",
       ".xr-section-summary-in:checked + label > span {\n",
       "  display: none;\n",
       "}\n",
       "\n",
       ".xr-section-summary,\n",
       ".xr-section-inline-details {\n",
       "  padding-top: 4px;\n",
       "  padding-bottom: 4px;\n",
       "}\n",
       "\n",
       ".xr-section-inline-details {\n",
       "  grid-column: 2 / -1;\n",
       "}\n",
       "\n",
       ".xr-section-details {\n",
       "  display: none;\n",
       "  grid-column: 1 / -1;\n",
       "  margin-bottom: 5px;\n",
       "}\n",
       "\n",
       ".xr-section-summary-in:checked ~ .xr-section-details {\n",
       "  display: contents;\n",
       "}\n",
       "\n",
       ".xr-array-wrap {\n",
       "  grid-column: 1 / -1;\n",
       "  display: grid;\n",
       "  grid-template-columns: 20px auto;\n",
       "}\n",
       "\n",
       ".xr-array-wrap > label {\n",
       "  grid-column: 1;\n",
       "  vertical-align: top;\n",
       "}\n",
       "\n",
       ".xr-preview {\n",
       "  color: var(--xr-font-color3);\n",
       "}\n",
       "\n",
       ".xr-array-preview,\n",
       ".xr-array-data {\n",
       "  padding: 0 5px !important;\n",
       "  grid-column: 2;\n",
       "}\n",
       "\n",
       ".xr-array-data,\n",
       ".xr-array-in:checked ~ .xr-array-preview {\n",
       "  display: none;\n",
       "}\n",
       "\n",
       ".xr-array-in:checked ~ .xr-array-data,\n",
       ".xr-array-preview {\n",
       "  display: inline-block;\n",
       "}\n",
       "\n",
       ".xr-dim-list {\n",
       "  display: inline-block !important;\n",
       "  list-style: none;\n",
       "  padding: 0 !important;\n",
       "  margin: 0;\n",
       "}\n",
       "\n",
       ".xr-dim-list li {\n",
       "  display: inline-block;\n",
       "  padding: 0;\n",
       "  margin: 0;\n",
       "}\n",
       "\n",
       ".xr-dim-list:before {\n",
       "  content: '(';\n",
       "}\n",
       "\n",
       ".xr-dim-list:after {\n",
       "  content: ')';\n",
       "}\n",
       "\n",
       ".xr-dim-list li:not(:last-child):after {\n",
       "  content: ',';\n",
       "  padding-right: 5px;\n",
       "}\n",
       "\n",
       ".xr-has-index {\n",
       "  font-weight: bold;\n",
       "}\n",
       "\n",
       ".xr-var-list,\n",
       ".xr-var-item {\n",
       "  display: contents;\n",
       "}\n",
       "\n",
       ".xr-var-item > div,\n",
       ".xr-var-item label,\n",
       ".xr-var-item > .xr-var-name span {\n",
       "  background-color: var(--xr-background-color-row-even);\n",
       "  margin-bottom: 0;\n",
       "}\n",
       "\n",
       ".xr-var-item > .xr-var-name:hover span {\n",
       "  padding-right: 5px;\n",
       "}\n",
       "\n",
       ".xr-var-list > li:nth-child(odd) > div,\n",
       ".xr-var-list > li:nth-child(odd) > label,\n",
       ".xr-var-list > li:nth-child(odd) > .xr-var-name span {\n",
       "  background-color: var(--xr-background-color-row-odd);\n",
       "}\n",
       "\n",
       ".xr-var-name {\n",
       "  grid-column: 1;\n",
       "}\n",
       "\n",
       ".xr-var-dims {\n",
       "  grid-column: 2;\n",
       "}\n",
       "\n",
       ".xr-var-dtype {\n",
       "  grid-column: 3;\n",
       "  text-align: right;\n",
       "  color: var(--xr-font-color2);\n",
       "}\n",
       "\n",
       ".xr-var-preview {\n",
       "  grid-column: 4;\n",
       "}\n",
       "\n",
       ".xr-var-name,\n",
       ".xr-var-dims,\n",
       ".xr-var-dtype,\n",
       ".xr-preview,\n",
       ".xr-attrs dt {\n",
       "  white-space: nowrap;\n",
       "  overflow: hidden;\n",
       "  text-overflow: ellipsis;\n",
       "  padding-right: 10px;\n",
       "}\n",
       "\n",
       ".xr-var-name:hover,\n",
       ".xr-var-dims:hover,\n",
       ".xr-var-dtype:hover,\n",
       ".xr-attrs dt:hover {\n",
       "  overflow: visible;\n",
       "  width: auto;\n",
       "  z-index: 1;\n",
       "}\n",
       "\n",
       ".xr-var-attrs,\n",
       ".xr-var-data {\n",
       "  display: none;\n",
       "  background-color: var(--xr-background-color) !important;\n",
       "  padding-bottom: 5px !important;\n",
       "}\n",
       "\n",
       ".xr-var-attrs-in:checked ~ .xr-var-attrs,\n",
       ".xr-var-data-in:checked ~ .xr-var-data {\n",
       "  display: block;\n",
       "}\n",
       "\n",
       ".xr-var-data > table {\n",
       "  float: right;\n",
       "}\n",
       "\n",
       ".xr-var-name span,\n",
       ".xr-var-data,\n",
       ".xr-attrs {\n",
       "  padding-left: 25px !important;\n",
       "}\n",
       "\n",
       ".xr-attrs,\n",
       ".xr-var-attrs,\n",
       ".xr-var-data {\n",
       "  grid-column: 1 / -1;\n",
       "}\n",
       "\n",
       "dl.xr-attrs {\n",
       "  padding: 0;\n",
       "  margin: 0;\n",
       "  display: grid;\n",
       "  grid-template-columns: 125px auto;\n",
       "}\n",
       "\n",
       ".xr-attrs dt, dd {\n",
       "  padding: 0;\n",
       "  margin: 0;\n",
       "  float: left;\n",
       "  padding-right: 10px;\n",
       "  width: auto;\n",
       "}\n",
       "\n",
       ".xr-attrs dt {\n",
       "  font-weight: normal;\n",
       "  grid-column: 1;\n",
       "}\n",
       "\n",
       ".xr-attrs dt:hover span {\n",
       "  display: inline-block;\n",
       "  background: var(--xr-background-color);\n",
       "  padding-right: 10px;\n",
       "}\n",
       "\n",
       ".xr-attrs dd {\n",
       "  grid-column: 2;\n",
       "  white-space: pre-wrap;\n",
       "  word-break: break-all;\n",
       "}\n",
       "\n",
       ".xr-icon-database,\n",
       ".xr-icon-file-text2 {\n",
       "  display: inline-block;\n",
       "  vertical-align: middle;\n",
       "  width: 1em;\n",
       "  height: 1.5em !important;\n",
       "  stroke-width: 0;\n",
       "  stroke: currentColor;\n",
       "  fill: currentColor;\n",
       "}\n",
       "</style><div class='xr-wrap'><div class='xr-header'><div class='xr-obj-type'>xarray.Dataset</div></div><ul class='xr-sections'><li class='xr-section-item'><input id='section-d8ac9b7d-f5ad-4498-a1c7-99acdb5f894f' class='xr-section-summary-in' type='checkbox' disabled ><label for='section-d8ac9b7d-f5ad-4498-a1c7-99acdb5f894f' class='xr-section-summary'  title='Expand/collapse section'>Dimensions:</label><div class='xr-section-inline-details'><ul class='xr-dim-list'><li><span class='xr-has-index'>var_names</span>: 588</li><li><span class='xr-has-index'>var_names_single</span>: 37</li></ul></div><div class='xr-section-details'></div></li><li class='xr-section-item'><input id='section-07331831-7108-4710-8eee-95b9c72bcc86' class='xr-section-summary-in' type='checkbox'  checked><label for='section-07331831-7108-4710-8eee-95b9c72bcc86' class='xr-section-summary' >Coordinates: <span>(2)</span></label><div class='xr-section-inline-details'></div><div class='xr-section-details'><ul class='xr-var-list'><li class='xr-var-item'><div class='xr-var-name'><span class='xr-has-index'>var_names</span></div><div class='xr-var-dims'>(var_names)</div><div class='xr-var-dtype'>object</div><div class='xr-var-preview xr-preview'>&#x27;QBP&#x27; &#x27;QBP&#x27; ... &#x27;TPHYSTND500&#x27;</div><input id='attrs-1f3a9d76-f452-44fa-8b1e-18a800fba613' class='xr-var-attrs-in' type='checkbox' disabled><label for='attrs-1f3a9d76-f452-44fa-8b1e-18a800fba613' title='Show/Hide attributes'><svg class='icon xr-icon-file-text2'><use xlink:href='#icon-file-text2'></use></svg></label><input id='data-8e9ceee4-4a03-4781-bb34-cae901cd7080' class='xr-var-data-in' type='checkbox'><label for='data-8e9ceee4-4a03-4781-bb34-cae901cd7080' title='Show/Hide data repr'><svg class='icon xr-icon-database'><use xlink:href='#icon-database'></use></svg></label><div class='xr-var-attrs'><dl class='xr-attrs'></dl></div><pre class='xr-var-data'>array([&#x27;QBP&#x27;, &#x27;QBP&#x27;, &#x27;QBP&#x27;, ..., &#x27;FLNSt-dt&#x27;, &#x27;PRECTt-dt&#x27;, &#x27;TPHYSTND500&#x27;],\n",
       "      dtype=object)</pre></li><li class='xr-var-item'><div class='xr-var-name'><span class='xr-has-index'>var_names_single</span></div><div class='xr-var-dims'>(var_names_single)</div><div class='xr-var-dtype'>object</div><div class='xr-var-preview xr-preview'>&#x27;QBP&#x27; &#x27;QCBP&#x27; ... &#x27;TPHYSTND500&#x27;</div><input id='attrs-176536d3-d7a2-4d7d-b191-c460cbec92c7' class='xr-var-attrs-in' type='checkbox' disabled><label for='attrs-176536d3-d7a2-4d7d-b191-c460cbec92c7' title='Show/Hide attributes'><svg class='icon xr-icon-file-text2'><use xlink:href='#icon-file-text2'></use></svg></label><input id='data-f74a18da-bf41-4ebe-a76f-b4b82d136257' class='xr-var-data-in' type='checkbox'><label for='data-f74a18da-bf41-4ebe-a76f-b4b82d136257' title='Show/Hide data repr'><svg class='icon xr-icon-database'><use xlink:href='#icon-database'></use></svg></label><div class='xr-var-attrs'><dl class='xr-attrs'></dl></div><pre class='xr-var-data'>array([&#x27;QBP&#x27;, &#x27;QCBP&#x27;, &#x27;QIBP&#x27;, &#x27;TBP&#x27;, &#x27;VBP&#x27;, &#x27;PS&#x27;, &#x27;SOLIN&#x27;, &#x27;SHFLX&#x27;, &#x27;LHFLX&#x27;,\n",
       "       &#x27;PHQ&#x27;, &#x27;PHCLDLIQ&#x27;, &#x27;PHCLDICE&#x27;, &#x27;TPHYSTND&#x27;, &#x27;QRL&#x27;, &#x27;QRS&#x27;, &#x27;DTVKE&#x27;,\n",
       "       &#x27;FSNT&#x27;, &#x27;FSNS&#x27;, &#x27;FLNT&#x27;, &#x27;FLNS&#x27;, &#x27;PRECT&#x27;, &#x27;PRECTEND&#x27;, &#x27;PRECST&#x27;,\n",
       "       &#x27;PRECSTEN&#x27;, &#x27;Qdt_adiabatic&#x27;, &#x27;QCdt_adiabatic&#x27;, &#x27;QIdt_adiabatic&#x27;,\n",
       "       &#x27;Tdt_adiabatic&#x27;, &#x27;Vdt_adiabatic&#x27;, &#x27;PHQt-dt&#x27;, &#x27;TPHYSTNDt-dt&#x27;, &#x27;FSNTt-dt&#x27;,\n",
       "       &#x27;FSNSt-dt&#x27;, &#x27;FLNTt-dt&#x27;, &#x27;FLNSt-dt&#x27;, &#x27;PRECTt-dt&#x27;, &#x27;TPHYSTND500&#x27;],\n",
       "      dtype=object)</pre></li></ul></div></li><li class='xr-section-item'><input id='section-b01c8b51-b7ab-41c2-8cf3-317cee021a62' class='xr-section-summary-in' type='checkbox'  checked><label for='section-b01c8b51-b7ab-41c2-8cf3-317cee021a62' class='xr-section-summary' >Data variables: <span>(5)</span></label><div class='xr-section-inline-details'></div><div class='xr-section-details'><ul class='xr-var-list'><li class='xr-var-item'><div class='xr-var-name'><span>mean</span></div><div class='xr-var-dims'>(var_names)</div><div class='xr-var-dtype'>float32</div><div class='xr-var-preview xr-preview'>...</div><input id='attrs-7238f18b-c7e7-4934-988a-02b4486db92f' class='xr-var-attrs-in' type='checkbox' disabled><label for='attrs-7238f18b-c7e7-4934-988a-02b4486db92f' title='Show/Hide attributes'><svg class='icon xr-icon-file-text2'><use xlink:href='#icon-file-text2'></use></svg></label><input id='data-bbb7e37c-21d3-4a2e-9b84-7cd7ffb24dc6' class='xr-var-data-in' type='checkbox'><label for='data-bbb7e37c-21d3-4a2e-9b84-7cd7ffb24dc6' title='Show/Hide data repr'><svg class='icon xr-icon-database'><use xlink:href='#icon-database'></use></svg></label><div class='xr-var-attrs'><dl class='xr-attrs'></dl></div><pre class='xr-var-data'>array([ 1.654907e-06,  1.609772e-06,  1.251349e-06, ...,  5.269238e+01,\n",
       "        3.001252e-08, -1.415730e-06], dtype=float32)</pre></li><li class='xr-var-item'><div class='xr-var-name'><span>std</span></div><div class='xr-var-dims'>(var_names)</div><div class='xr-var-dtype'>float32</div><div class='xr-var-preview xr-preview'>...</div><input id='attrs-412d37b6-bb55-42af-aa6f-0b32919805c1' class='xr-var-attrs-in' type='checkbox' disabled><label for='attrs-412d37b6-bb55-42af-aa6f-0b32919805c1' title='Show/Hide attributes'><svg class='icon xr-icon-file-text2'><use xlink:href='#icon-file-text2'></use></svg></label><input id='data-a96ff485-d9c6-41a5-9e35-0a4447b3b5cc' class='xr-var-data-in' type='checkbox'><label for='data-a96ff485-d9c6-41a5-9e35-0a4447b3b5cc' title='Show/Hide data repr'><svg class='icon xr-icon-database'><use xlink:href='#icon-database'></use></svg></label><div class='xr-var-attrs'><dl class='xr-attrs'></dl></div><pre class='xr-var-data'>array([2.691401e-07, 2.580057e-07, 3.152753e-07, ..., 2.730949e+01,\n",
       "       1.076350e-07, 6.347842e-05], dtype=float32)</pre></li><li class='xr-var-item'><div class='xr-var-name'><span>min</span></div><div class='xr-var-dims'>(var_names)</div><div class='xr-var-dtype'>float32</div><div class='xr-var-preview xr-preview'>...</div><input id='attrs-a276ad15-7d25-4569-ae07-280bfaf83b38' class='xr-var-attrs-in' type='checkbox' disabled><label for='attrs-a276ad15-7d25-4569-ae07-280bfaf83b38' title='Show/Hide attributes'><svg class='icon xr-icon-file-text2'><use xlink:href='#icon-file-text2'></use></svg></label><input id='data-5a7a9602-59f2-4352-ba36-481278bed4ef' class='xr-var-data-in' type='checkbox'><label for='data-5a7a9602-59f2-4352-ba36-481278bed4ef' title='Show/Hide data repr'><svg class='icon xr-icon-database'><use xlink:href='#icon-database'></use></svg></label><div class='xr-var-attrs'><dl class='xr-attrs'></dl></div><pre class='xr-var-data'>array([ 1.073603e-06,  1.049275e-06,  4.643579e-07, ..., -2.175314e+01,\n",
       "        0.000000e+00, -8.397019e-04], dtype=float32)</pre></li><li class='xr-var-item'><div class='xr-var-name'><span>max</span></div><div class='xr-var-dims'>(var_names)</div><div class='xr-var-dtype'>float32</div><div class='xr-var-preview xr-preview'>...</div><input id='attrs-a99fcb91-8555-43f1-afaf-a3e5aa575d97' class='xr-var-attrs-in' type='checkbox' disabled><label for='attrs-a99fcb91-8555-43f1-afaf-a3e5aa575d97' title='Show/Hide attributes'><svg class='icon xr-icon-file-text2'><use xlink:href='#icon-file-text2'></use></svg></label><input id='data-9e7e3952-a6cf-4259-abcd-c7c940f42b7c' class='xr-var-data-in' type='checkbox'><label for='data-9e7e3952-a6cf-4259-abcd-c7c940f42b7c' title='Show/Hide data repr'><svg class='icon xr-icon-database'><use xlink:href='#icon-database'></use></svg></label><div class='xr-var-attrs'><dl class='xr-attrs'></dl></div><pre class='xr-var-data'>array([1.903797e-06, 1.893694e-06, 1.777038e-06, ..., 1.367864e+02,\n",
       "       3.719491e-06, 2.090695e-03], dtype=float32)</pre></li><li class='xr-var-item'><div class='xr-var-name'><span>std_by_var</span></div><div class='xr-var-dims'>(var_names_single)</div><div class='xr-var-dtype'>float64</div><div class='xr-var-preview xr-preview'>...</div><input id='attrs-40b57b4f-41ae-4403-9175-994321528296' class='xr-var-attrs-in' type='checkbox' disabled><label for='attrs-40b57b4f-41ae-4403-9175-994321528296' title='Show/Hide attributes'><svg class='icon xr-icon-file-text2'><use xlink:href='#icon-file-text2'></use></svg></label><input id='data-922587de-def0-4461-93c6-4cbbd1292dea' class='xr-var-data-in' type='checkbox'><label for='data-922587de-def0-4461-93c6-4cbbd1292dea' title='Show/Hide data repr'><svg class='icon xr-icon-database'><use xlink:href='#icon-database'></use></svg></label><div class='xr-var-attrs'><dl class='xr-attrs'></dl></div><pre class='xr-var-data'>array([3.774595e-03, 2.857347e-05, 1.200597e-05, 7.221055e+01, 5.857726e+00,\n",
       "       1.171657e+04, 4.186619e+02, 1.424917e+01, 7.677998e+01, 3.750899e-08,\n",
       "       8.562256e-09, 3.697259e-09, 4.038351e-05, 1.954187e-05, 1.486777e-05,\n",
       "       7.468211e-03, 3.164372e+02, 2.406603e+02, 4.591798e+01, 2.730949e+01,\n",
       "       1.076350e-07, 2.235879e-05, 1.391192e-08, 9.453453e-06, 1.949661e-08,\n",
       "       1.876010e-09, 1.282189e-09, 4.635861e-05, 1.354562e-04, 3.750899e-08,\n",
       "       4.038351e-05, 3.164372e+02, 2.406603e+02, 4.591798e+01, 2.730949e+01,\n",
       "       1.076350e-07, 4.038351e-05])</pre></li></ul></div></li><li class='xr-section-item'><input id='section-4ce85f80-d6e2-48da-b8c8-7488583cd5c5' class='xr-section-summary-in' type='checkbox' disabled ><label for='section-4ce85f80-d6e2-48da-b8c8-7488583cd5c5' class='xr-section-summary'  title='Expand/collapse section'>Attributes: <span>(0)</span></label><div class='xr-section-inline-details'></div><div class='xr-section-details'><dl class='xr-attrs'></dl></div></li></ul></div></div>"
      ],
      "text/plain": [
       "<xarray.Dataset>\n",
       "Dimensions:           (var_names: 588, var_names_single: 37)\n",
       "Coordinates:\n",
       "  * var_names         (var_names) object 'QBP' 'QBP' ... 'TPHYSTND500'\n",
       "  * var_names_single  (var_names_single) object 'QBP' 'QCBP' ... 'TPHYSTND500'\n",
       "Data variables:\n",
       "    mean              (var_names) float32 ...\n",
       "    std               (var_names) float32 ...\n",
       "    min               (var_names) float32 ...\n",
       "    max               (var_names) float32 ...\n",
       "    std_by_var        (var_names_single) float64 ..."
      ]
     },
     "execution_count": 5,
     "metadata": {},
     "output_type": "execute_result"
    }
   ],
   "source": [
    "test"
   ]
  },
  {
   "cell_type": "code",
   "execution_count": 6,
   "metadata": {},
   "outputs": [],
   "source": [
    "in_vars = ['QBP','TBP','PS','SOLIN','SHFLX','LHFLX']\n",
    "out_vars = ['TPHYSTND500']"
   ]
  },
  {
   "cell_type": "code",
   "execution_count": 7,
   "metadata": {},
   "outputs": [],
   "source": [
    "scale_dict = pickle.load(open(path_data+'CIML_Zenodo/009_Wm2_scaling.pkl','rb'))"
   ]
  },
  {
   "cell_type": "code",
   "execution_count": 8,
   "metadata": {},
   "outputs": [],
   "source": [
    "scale_dict['TPHYSTND500'] = scale_dict['TPHYSTND'][18]"
   ]
  },
  {
   "cell_type": "code",
   "execution_count": 9,
   "metadata": {},
   "outputs": [
    {
     "data": {
      "text/plain": [
       "871587.25"
      ]
     },
     "execution_count": 9,
     "metadata": {},
     "output_type": "execute_result"
    }
   ],
   "source": [
    "scale_dict['TPHYSTND500']"
   ]
  },
  {
   "cell_type": "code",
   "execution_count": 10,
   "metadata": {},
   "outputs": [],
   "source": [
    "N_batch = 8192"
   ]
  },
  {
   "cell_type": "code",
   "execution_count": 11,
   "metadata": {},
   "outputs": [],
   "source": [
    "train_gen_BF = DataGeneratorCI(\n",
    "    data_fn = path_train,\n",
    "    input_vars = in_vars,\n",
    "    output_vars = out_vars,\n",
    "    norm_fn = path_norm,\n",
    "    input_transform = ('mean', 'maxrs'),\n",
    "    output_transform = scale_dict,\n",
    "    shuffle = False,\n",
    "    batch_size=N_batch\n",
    ")"
   ]
  },
  {
   "cell_type": "code",
   "execution_count": 12,
   "metadata": {},
   "outputs": [],
   "source": [
    "valid_gen_BF = DataGeneratorCI(\n",
    "    data_fn = path_valid,\n",
    "    input_vars = in_vars,\n",
    "    output_vars = out_vars,\n",
    "    norm_fn = path_norm,\n",
    "    input_transform = ('mean', 'maxrs'),\n",
    "    output_transform = scale_dict,\n",
    "    shuffle = False,\n",
    "    batch_size=N_batch\n",
    ")"
   ]
  },
  {
   "cell_type": "markdown",
   "metadata": {},
   "source": [
    "## NN architecture"
   ]
  },
  {
   "cell_type": "code",
   "execution_count": 15,
   "metadata": {},
   "outputs": [],
   "source": [
    "inp = Input(shape=(64,)) ## input after rh and tns transformation\n",
    "densout = Dense(128, activation='linear')(inp)\n",
    "densout = LeakyReLU(alpha=0.3)(densout)\n",
    "for i in range (6):\n",
    "    densout = Dense(128, activation='linear')(densout)\n",
    "    densout = LeakyReLU(alpha=0.3)(densout)\n",
    "dense_out = Dense(1, activation='linear')(densout)\n",
    "model = tf.keras.models.Model(inp, dense_out)"
   ]
  },
  {
   "cell_type": "code",
   "execution_count": 16,
   "metadata": {},
   "outputs": [
    {
     "name": "stdout",
     "output_type": "stream",
     "text": [
      "Model: \"model\"\n",
      "_________________________________________________________________\n",
      "Layer (type)                 Output Shape              Param #   \n",
      "=================================================================\n",
      "input_1 (InputLayer)         [(None, 64)]              0         \n",
      "_________________________________________________________________\n",
      "dense (Dense)                (None, 128)               8320      \n",
      "_________________________________________________________________\n",
      "leaky_re_lu (LeakyReLU)      (None, 128)               0         \n",
      "_________________________________________________________________\n",
      "dense_1 (Dense)              (None, 128)               16512     \n",
      "_________________________________________________________________\n",
      "leaky_re_lu_1 (LeakyReLU)    (None, 128)               0         \n",
      "_________________________________________________________________\n",
      "dense_2 (Dense)              (None, 128)               16512     \n",
      "_________________________________________________________________\n",
      "leaky_re_lu_2 (LeakyReLU)    (None, 128)               0         \n",
      "_________________________________________________________________\n",
      "dense_3 (Dense)              (None, 128)               16512     \n",
      "_________________________________________________________________\n",
      "leaky_re_lu_3 (LeakyReLU)    (None, 128)               0         \n",
      "_________________________________________________________________\n",
      "dense_4 (Dense)              (None, 128)               16512     \n",
      "_________________________________________________________________\n",
      "leaky_re_lu_4 (LeakyReLU)    (None, 128)               0         \n",
      "_________________________________________________________________\n",
      "dense_5 (Dense)              (None, 128)               16512     \n",
      "_________________________________________________________________\n",
      "leaky_re_lu_5 (LeakyReLU)    (None, 128)               0         \n",
      "_________________________________________________________________\n",
      "dense_6 (Dense)              (None, 128)               16512     \n",
      "_________________________________________________________________\n",
      "leaky_re_lu_6 (LeakyReLU)    (None, 128)               0         \n",
      "_________________________________________________________________\n",
      "dense_7 (Dense)              (None, 1)                 129       \n",
      "=================================================================\n",
      "Total params: 107,521\n",
      "Trainable params: 107,521\n",
      "Non-trainable params: 0\n",
      "_________________________________________________________________\n"
     ]
    }
   ],
   "source": [
    "model.summary()"
   ]
  },
  {
   "cell_type": "code",
   "execution_count": 17,
   "metadata": {},
   "outputs": [],
   "source": [
    "model.compile(tf.keras.optimizers.Adam(), loss=mse)"
   ]
  },
  {
   "cell_type": "markdown",
   "metadata": {},
   "source": [
    "## Training"
   ]
  },
  {
   "cell_type": "code",
   "execution_count": 18,
   "metadata": {},
   "outputs": [],
   "source": [
    "# Where to save the model\n",
    "path_HDF5 = '/DFS-L/DATA/pritchard/tbeucler/SPCAM/HDF5_DATA/'\n",
    "save_name = '2022_01_19_BF_TPHYSTND500'"
   ]
  },
  {
   "cell_type": "code",
   "execution_count": 19,
   "metadata": {},
   "outputs": [],
   "source": [
    "earlyStopping = EarlyStopping(monitor='val_loss', patience=10, verbose=0, mode='min')\n",
    "mcp_save_pos = ModelCheckpoint(path_HDF5+save_name+'.hdf5',save_best_only=True, monitor='val_loss', mode='min')"
   ]
  },
  {
   "cell_type": "code",
   "execution_count": 20,
   "metadata": {},
   "outputs": [
    {
     "name": "stdout",
     "output_type": "stream",
     "text": [
      "Epoch 1/20\n",
      "5759/5759 [==============================] - 250s 43ms/step - loss: 582.0133 - val_loss: 504.4416\n",
      "Epoch 2/20\n",
      "5759/5759 [==============================] - 228s 40ms/step - loss: 484.2781 - val_loss: 458.0944\n",
      "Epoch 3/20\n",
      "5759/5759 [==============================] - 225s 39ms/step - loss: 468.1892 - val_loss: 440.0418\n",
      "Epoch 4/20\n",
      "5759/5759 [==============================] - 223s 39ms/step - loss: 457.6088 - val_loss: 459.9462\n",
      "Epoch 5/20\n",
      "5759/5759 [==============================] - 230s 40ms/step - loss: 449.2027 - val_loss: 448.7388\n",
      "Epoch 6/20\n",
      "5759/5759 [==============================] - 233s 40ms/step - loss: 443.3558 - val_loss: 428.4296\n",
      "Epoch 7/20\n",
      "5759/5759 [==============================] - 224s 39ms/step - loss: 438.9376 - val_loss: 445.8750\n",
      "Epoch 8/20\n",
      "5759/5759 [==============================] - 229s 40ms/step - loss: 435.4967 - val_loss: 440.7585\n",
      "Epoch 9/20\n",
      "5759/5759 [==============================] - 219s 38ms/step - loss: 432.2233 - val_loss: 416.8442\n",
      "Epoch 10/20\n",
      "5759/5759 [==============================] - 233s 40ms/step - loss: 429.6238 - val_loss: 422.4884\n",
      "Epoch 11/20\n",
      "5759/5759 [==============================] - 231s 40ms/step - loss: 426.8827 - val_loss: 437.2350\n",
      "Epoch 12/20\n",
      "5759/5759 [==============================] - 227s 39ms/step - loss: 423.2744 - val_loss: 443.6352\n",
      "Epoch 13/20\n",
      "5759/5759 [==============================] - 229s 40ms/step - loss: 422.6718 - val_loss: 420.1862\n",
      "Epoch 14/20\n",
      "5759/5759 [==============================] - 224s 39ms/step - loss: 420.7326 - val_loss: 411.8805\n",
      "Epoch 15/20\n",
      "5759/5759 [==============================] - 226s 39ms/step - loss: 418.5398 - val_loss: 404.8220\n",
      "Epoch 16/20\n",
      "5759/5759 [==============================] - 231s 40ms/step - loss: 415.7969 - val_loss: 410.6671\n",
      "Epoch 17/20\n",
      "5759/5759 [==============================] - 282s 49ms/step - loss: 414.4149 - val_loss: 407.2759\n",
      "Epoch 18/20\n",
      "5759/5759 [==============================] - 240s 42ms/step - loss: 414.1450 - val_loss: 416.2355\n",
      "Epoch 19/20\n",
      "5759/5759 [==============================] - 245s 43ms/step - loss: 412.5789 - val_loss: 399.7910\n",
      "Epoch 20/20\n",
      "5759/5759 [==============================] - 233s 40ms/step - loss: 410.4121 - val_loss: 417.6482\n"
     ]
    },
    {
     "data": {
      "text/plain": [
       "<tensorflow.python.keras.callbacks.History at 0x7f15442ef080>"
      ]
     },
     "execution_count": 20,
     "metadata": {},
     "output_type": "execute_result"
    }
   ],
   "source": [
    "Nep = 20\n",
    "model.fit_generator(train_gen_BF, epochs=Nep, validation_data=valid_gen_BF,\\\n",
    "                    callbacks=[earlyStopping, mcp_save_pos])"
   ]
  },
  {
   "cell_type": "markdown",
   "metadata": {},
   "source": [
    "# Climate-invariant"
   ]
  },
  {
   "cell_type": "code",
   "execution_count": 13,
   "metadata": {},
   "outputs": [],
   "source": [
    "path_norm_RH = path_data + '2021_02_01_NORM_O3_RH_small.nc'\n",
    "path_norm_BMSE = path_data + '2021_06_16_NORM_BMSE_small.nc'\n",
    "path_norm_LHF_nsDELQ = path_data + '2021_02_01_NORM_O3_LHF_nsDELQ_small.nc'"
   ]
  },
  {
   "cell_type": "code",
   "execution_count": 14,
   "metadata": {},
   "outputs": [],
   "source": [
    "def train_gen_rescaling(input_rescaling):\n",
    "    return DataGeneratorCI(\n",
    "        data_fn = path_train,\n",
    "        input_vars = input_rescaling,\n",
    "        output_vars = out_vars,\n",
    "        norm_fn = path_norm,\n",
    "        input_transform = ('mean', 'maxrs'),\n",
    "        output_transform = scale_dict)"
   ]
  },
  {
   "cell_type": "code",
   "execution_count": 15,
   "metadata": {},
   "outputs": [],
   "source": [
    "train_gen_RH = train_gen_rescaling(in_vars)\n",
    "train_gen_BMSE = train_gen_rescaling(in_vars)\n",
    "train_gen_LHF_nsDELQ = train_gen_rescaling(in_vars)"
   ]
  },
  {
   "cell_type": "code",
   "execution_count": 16,
   "metadata": {},
   "outputs": [],
   "source": [
    "train_gen_CI = DataGeneratorCI(\n",
    "    data_fn = path_train,\n",
    "    input_vars = in_vars,\n",
    "    output_vars = out_vars,\n",
    "    norm_fn = path_norm,\n",
    "    input_transform = ('mean','maxrs'),\n",
    "    output_transform = scale_dict,\n",
    "    shuffle = False,\n",
    "    batch_size=N_batch,\n",
    "    Qscaling = 'RH',\n",
    "    Tscaling = 'BMSE',\n",
    "    LHFscaling = 'LHF_nsDELQ',\n",
    "    hyam=hyam, hybm=hybm, # Arrays to define mid-levels of hybrid vertical coordinate\n",
    "    inp_sub_Qscaling=train_gen_RH.input_transform.sub, # What to subtract from RH inputs\n",
    "    inp_div_Qscaling=train_gen_RH.input_transform.div, # What to divide RH inputs by\n",
    "    inp_sub_Tscaling=train_gen_BMSE.input_transform.sub,\n",
    "    inp_div_Tscaling=train_gen_BMSE.input_transform.div,\n",
    "    inp_sub_LHFscaling=train_gen_LHF_nsDELQ.input_transform.sub,\n",
    "    inp_div_LHFscaling=train_gen_LHF_nsDELQ.input_transform.div\n",
    ")"
   ]
  },
  {
   "cell_type": "code",
   "execution_count": 17,
   "metadata": {},
   "outputs": [],
   "source": [
    "valid_gen_CI = DataGeneratorCI(\n",
    "    data_fn = path_valid,\n",
    "    input_vars = in_vars,\n",
    "    output_vars = out_vars,\n",
    "    norm_fn = path_norm,\n",
    "    input_transform = ('mean','maxrs'),\n",
    "    output_transform = scale_dict,\n",
    "    shuffle = False,\n",
    "    batch_size=N_batch,\n",
    "    Qscaling = 'RH',\n",
    "    Tscaling = 'BMSE',\n",
    "    LHFscaling = 'LHF_nsDELQ',\n",
    "    hyam=hyam, hybm=hybm, # Arrays to define mid-levels of hybrid vertical coordinate\n",
    "    inp_sub_Qscaling=train_gen_RH.input_transform.sub, # What to subtract from RH inputs\n",
    "    inp_div_Qscaling=train_gen_RH.input_transform.div, # What to divide RH inputs by\n",
    "    inp_sub_Tscaling=train_gen_BMSE.input_transform.sub,\n",
    "    inp_div_Tscaling=train_gen_BMSE.input_transform.div,\n",
    "    inp_sub_LHFscaling=train_gen_LHF_nsDELQ.input_transform.sub,\n",
    "    inp_div_LHFscaling=train_gen_LHF_nsDELQ.input_transform.div\n",
    ")"
   ]
  },
  {
   "cell_type": "code",
   "execution_count": 18,
   "metadata": {},
   "outputs": [],
   "source": [
    "inp = Input(shape=(64,)) ## input after rh and tns transformation\n",
    "densout = Dense(128, activation='linear')(inp)\n",
    "densout = LeakyReLU(alpha=0.3)(densout)\n",
    "for i in range (6):\n",
    "    densout = Dense(128, activation='linear')(densout)\n",
    "    densout = LeakyReLU(alpha=0.3)(densout)\n",
    "dense_out = Dense(1, activation='linear')(densout)\n",
    "model2 = tf.keras.models.Model(inp, dense_out)"
   ]
  },
  {
   "cell_type": "code",
   "execution_count": 32,
   "metadata": {},
   "outputs": [],
   "source": [
    "# Where to save the model\n",
    "path_HDF5 = '/DFS-L/DATA/pritchard/tbeucler/SPCAM/HDF5_DATA/'\n",
    "save_name = '2022_01_20_CI_TPHYSTND500'\n",
    "\n",
    "earlyStopping = EarlyStopping(monitor='val_loss', patience=10, verbose=0, mode='min')\n",
    "mcp_save_pos = ModelCheckpoint(path_HDF5+save_name+'.hdf5',save_best_only=True, monitor='val_loss', mode='min')"
   ]
  },
  {
   "cell_type": "code",
   "execution_count": 33,
   "metadata": {},
   "outputs": [],
   "source": [
    "model2.compile(tf.keras.optimizers.Adam(), loss=mse)"
   ]
  },
  {
   "cell_type": "code",
   "execution_count": 34,
   "metadata": {},
   "outputs": [
    {
     "name": "stdout",
     "output_type": "stream",
     "text": [
      "Epoch 1/20\n",
      "5759/5759 [==============================] - 1235s 214ms/step - loss: 660.7157 - val_loss: 645.7578\n",
      "Epoch 2/20\n",
      "5759/5759 [==============================] - 1204s 209ms/step - loss: 566.1601 - val_loss: 545.6000\n",
      "Epoch 3/20\n",
      "5759/5759 [==============================] - 1183s 205ms/step - loss: 548.1000 - val_loss: 534.5441\n",
      "Epoch 4/20\n",
      "5759/5759 [==============================] - 1219s 212ms/step - loss: 536.5621 - val_loss: 567.6001\n",
      "Epoch 5/20\n",
      "5759/5759 [==============================] - 1206s 209ms/step - loss: 528.1194 - val_loss: 520.2375\n",
      "Epoch 6/20\n",
      "5759/5759 [==============================] - 1181s 205ms/step - loss: 522.7677 - val_loss: 512.9212\n",
      "Epoch 7/20\n",
      "5759/5759 [==============================] - 1226s 213ms/step - loss: 517.7644 - val_loss: 509.0244\n",
      "Epoch 8/20\n",
      "5759/5759 [==============================] - 1185s 206ms/step - loss: 513.7947 - val_loss: 524.3655\n",
      "Epoch 9/20\n",
      "5759/5759 [==============================] - 1184s 206ms/step - loss: 510.0389 - val_loss: 529.6873\n",
      "Epoch 10/20\n",
      "5759/5759 [==============================] - 1208s 210ms/step - loss: 508.6433 - val_loss: 497.8210\n",
      "Epoch 11/20\n",
      "5759/5759 [==============================] - 1267s 220ms/step - loss: 504.9811 - val_loss: 497.7074\n",
      "Epoch 12/20\n",
      "5759/5759 [==============================] - 1314s 228ms/step - loss: 502.5859 - val_loss: 512.7160\n",
      "Epoch 13/20\n",
      "5759/5759 [==============================] - 1348s 234ms/step - loss: 500.2097 - val_loss: 506.0811\n",
      "Epoch 14/20\n",
      "5759/5759 [==============================] - 1230s 214ms/step - loss: 497.7554 - val_loss: 493.5644\n",
      "Epoch 15/20\n",
      "5759/5759 [==============================] - 1242s 216ms/step - loss: 495.7659 - val_loss: 495.7954\n",
      "Epoch 16/20\n",
      "5759/5759 [==============================] - 1228s 213ms/step - loss: 493.9063 - val_loss: 492.3694\n",
      "Epoch 17/20\n",
      "5759/5759 [==============================] - 1289s 224ms/step - loss: 491.9781 - val_loss: 494.8156\n",
      "Epoch 18/20\n",
      "5759/5759 [==============================] - 1277s 222ms/step - loss: 490.0792 - val_loss: 496.6042\n",
      "Epoch 19/20\n",
      "5759/5759 [==============================] - 1281s 222ms/step - loss: 490.2841 - val_loss: 490.8960\n",
      "Epoch 20/20\n",
      "5759/5759 [==============================] - 1265s 220ms/step - loss: 488.3831 - val_loss: 491.5401\n"
     ]
    },
    {
     "data": {
      "text/plain": [
       "<tensorflow.python.keras.callbacks.History at 0x7f1464163d68>"
      ]
     },
     "execution_count": 34,
     "metadata": {},
     "output_type": "execute_result"
    }
   ],
   "source": [
    "Nep = 20\n",
    "model2.fit_generator(train_gen_CI, epochs=Nep, validation_data=valid_gen_CI,\\\n",
    "                    callbacks=[earlyStopping, mcp_save_pos])"
   ]
  },
  {
   "cell_type": "code",
   "execution_count": 130,
   "metadata": {},
   "outputs": [
    {
     "name": "stdout",
     "output_type": "stream",
     "text": [
      "Epoch 1/5\n"
     ]
    },
    {
     "ename": "RuntimeError",
     "evalue": "You must compile your model before training/testing. Use `model.compile(optimizer, loss)`.",
     "output_type": "error",
     "traceback": [
      "\u001b[0;31m---------------------------------------------------------------------------\u001b[0m",
      "\u001b[0;31mRuntimeError\u001b[0m                              Traceback (most recent call last)",
      "\u001b[0;32m<ipython-input-130-3b82333f9c9e>\u001b[0m in \u001b[0;36m<module>\u001b[0;34m\u001b[0m\n\u001b[1;32m      1\u001b[0m \u001b[0mNep\u001b[0m \u001b[0;34m=\u001b[0m \u001b[0;36m5\u001b[0m\u001b[0;34m\u001b[0m\u001b[0;34m\u001b[0m\u001b[0m\n\u001b[1;32m      2\u001b[0m model2.fit_generator(train_gen_CI, epochs=Nep, validation_data=valid_gen_CI,\\\n\u001b[0;32m----> 3\u001b[0;31m                     callbacks=[earlyStopping, mcp_save_pos])\n\u001b[0m",
      "\u001b[0;32m/DFS-L/DATA/pritchard/tbeucler/Miniconda3_2021_04_12/miniconda3/envs/CbrainCustomLayer/lib/python3.6/site-packages/tensorflow_core/python/keras/engine/training.py\u001b[0m in \u001b[0;36mfit_generator\u001b[0;34m(self, generator, steps_per_epoch, epochs, verbose, callbacks, validation_data, validation_steps, validation_freq, class_weight, max_queue_size, workers, use_multiprocessing, shuffle, initial_epoch)\u001b[0m\n\u001b[1;32m   1295\u001b[0m         \u001b[0mshuffle\u001b[0m\u001b[0;34m=\u001b[0m\u001b[0mshuffle\u001b[0m\u001b[0;34m,\u001b[0m\u001b[0;34m\u001b[0m\u001b[0;34m\u001b[0m\u001b[0m\n\u001b[1;32m   1296\u001b[0m         \u001b[0minitial_epoch\u001b[0m\u001b[0;34m=\u001b[0m\u001b[0minitial_epoch\u001b[0m\u001b[0;34m,\u001b[0m\u001b[0;34m\u001b[0m\u001b[0;34m\u001b[0m\u001b[0m\n\u001b[0;32m-> 1297\u001b[0;31m         steps_name='steps_per_epoch')\n\u001b[0m\u001b[1;32m   1298\u001b[0m \u001b[0;34m\u001b[0m\u001b[0m\n\u001b[1;32m   1299\u001b[0m   def evaluate_generator(self,\n",
      "\u001b[0;32m/DFS-L/DATA/pritchard/tbeucler/Miniconda3_2021_04_12/miniconda3/envs/CbrainCustomLayer/lib/python3.6/site-packages/tensorflow_core/python/keras/engine/training_generator.py\u001b[0m in \u001b[0;36mmodel_iteration\u001b[0;34m(model, data, steps_per_epoch, epochs, verbose, callbacks, validation_data, validation_steps, validation_freq, class_weight, max_queue_size, workers, use_multiprocessing, shuffle, initial_epoch, mode, batch_size, steps_name, **kwargs)\u001b[0m\n\u001b[1;32m    263\u001b[0m \u001b[0;34m\u001b[0m\u001b[0m\n\u001b[1;32m    264\u001b[0m       \u001b[0mis_deferred\u001b[0m \u001b[0;34m=\u001b[0m \u001b[0;32mnot\u001b[0m \u001b[0mmodel\u001b[0m\u001b[0;34m.\u001b[0m\u001b[0m_is_compiled\u001b[0m\u001b[0;34m\u001b[0m\u001b[0;34m\u001b[0m\u001b[0m\n\u001b[0;32m--> 265\u001b[0;31m       \u001b[0mbatch_outs\u001b[0m \u001b[0;34m=\u001b[0m \u001b[0mbatch_function\u001b[0m\u001b[0;34m(\u001b[0m\u001b[0;34m*\u001b[0m\u001b[0mbatch_data\u001b[0m\u001b[0;34m)\u001b[0m\u001b[0;34m\u001b[0m\u001b[0;34m\u001b[0m\u001b[0m\n\u001b[0m\u001b[1;32m    266\u001b[0m       \u001b[0;32mif\u001b[0m \u001b[0;32mnot\u001b[0m \u001b[0misinstance\u001b[0m\u001b[0;34m(\u001b[0m\u001b[0mbatch_outs\u001b[0m\u001b[0;34m,\u001b[0m \u001b[0mlist\u001b[0m\u001b[0;34m)\u001b[0m\u001b[0;34m:\u001b[0m\u001b[0;34m\u001b[0m\u001b[0;34m\u001b[0m\u001b[0m\n\u001b[1;32m    267\u001b[0m         \u001b[0mbatch_outs\u001b[0m \u001b[0;34m=\u001b[0m \u001b[0;34m[\u001b[0m\u001b[0mbatch_outs\u001b[0m\u001b[0;34m]\u001b[0m\u001b[0;34m\u001b[0m\u001b[0;34m\u001b[0m\u001b[0m\n",
      "\u001b[0;32m/DFS-L/DATA/pritchard/tbeucler/Miniconda3_2021_04_12/miniconda3/envs/CbrainCustomLayer/lib/python3.6/site-packages/tensorflow_core/python/keras/engine/training.py\u001b[0m in \u001b[0;36mtrain_on_batch\u001b[0;34m(self, x, y, sample_weight, class_weight, reset_metrics)\u001b[0m\n\u001b[1;32m    966\u001b[0m       \u001b[0mValueError\u001b[0m\u001b[0;34m:\u001b[0m \u001b[0mIn\u001b[0m \u001b[0mcase\u001b[0m \u001b[0mof\u001b[0m \u001b[0minvalid\u001b[0m \u001b[0muser\u001b[0m\u001b[0;34m-\u001b[0m\u001b[0mprovided\u001b[0m \u001b[0marguments\u001b[0m\u001b[0;34m.\u001b[0m\u001b[0;34m\u001b[0m\u001b[0;34m\u001b[0m\u001b[0m\n\u001b[1;32m    967\u001b[0m     \"\"\"\n\u001b[0;32m--> 968\u001b[0;31m     \u001b[0mself\u001b[0m\u001b[0;34m.\u001b[0m\u001b[0m_assert_compile_was_called\u001b[0m\u001b[0;34m(\u001b[0m\u001b[0;34m)\u001b[0m\u001b[0;34m\u001b[0m\u001b[0;34m\u001b[0m\u001b[0m\n\u001b[0m\u001b[1;32m    969\u001b[0m     \u001b[0mself\u001b[0m\u001b[0;34m.\u001b[0m\u001b[0m_check_call_args\u001b[0m\u001b[0;34m(\u001b[0m\u001b[0;34m'train_on_batch'\u001b[0m\u001b[0;34m)\u001b[0m\u001b[0;34m\u001b[0m\u001b[0;34m\u001b[0m\u001b[0m\n\u001b[1;32m    970\u001b[0m     \u001b[0;32mif\u001b[0m \u001b[0mself\u001b[0m\u001b[0;34m.\u001b[0m\u001b[0m_experimental_run_tf_function\u001b[0m\u001b[0;34m:\u001b[0m\u001b[0;34m\u001b[0m\u001b[0;34m\u001b[0m\u001b[0m\n",
      "\u001b[0;32m/DFS-L/DATA/pritchard/tbeucler/Miniconda3_2021_04_12/miniconda3/envs/CbrainCustomLayer/lib/python3.6/site-packages/tensorflow_core/python/keras/engine/training.py\u001b[0m in \u001b[0;36m_assert_compile_was_called\u001b[0;34m(self)\u001b[0m\n\u001b[1;32m   2872\u001b[0m     \u001b[0;31m# (i.e. whether the model is built and its inputs/outputs are set).\u001b[0m\u001b[0;34m\u001b[0m\u001b[0;34m\u001b[0m\u001b[0;34m\u001b[0m\u001b[0m\n\u001b[1;32m   2873\u001b[0m     \u001b[0;32mif\u001b[0m \u001b[0;32mnot\u001b[0m \u001b[0mself\u001b[0m\u001b[0;34m.\u001b[0m\u001b[0moptimizer\u001b[0m\u001b[0;34m:\u001b[0m\u001b[0;34m\u001b[0m\u001b[0;34m\u001b[0m\u001b[0m\n\u001b[0;32m-> 2874\u001b[0;31m       raise RuntimeError('You must compile your model before '\n\u001b[0m\u001b[1;32m   2875\u001b[0m                          \u001b[0;34m'training/testing. '\u001b[0m\u001b[0;34m\u001b[0m\u001b[0;34m\u001b[0m\u001b[0m\n\u001b[1;32m   2876\u001b[0m                          'Use `model.compile(optimizer, loss)`.')\n",
      "\u001b[0;31mRuntimeError\u001b[0m: You must compile your model before training/testing. Use `model.compile(optimizer, loss)`."
     ]
    }
   ],
   "source": [
    "Nep = 5\n",
    "model2.fit_generator(train_gen_CI, epochs=Nep, validation_data=valid_gen_CI,\\\n",
    "                    callbacks=[earlyStopping, mcp_save_pos])"
   ]
  },
  {
   "cell_type": "markdown",
   "metadata": {},
   "source": [
    "# BF, causally-consistent"
   ]
  },
  {
   "cell_type": "markdown",
   "metadata": {},
   "source": [
    "## Load links"
   ]
  },
  {
   "cell_type": "code",
   "execution_count": 15,
   "metadata": {},
   "outputs": [],
   "source": [
    "pathPKL = '/export/home/tbeucler/CBRAIN-CAM/notebooks/tbeucler_devlog/PKL_DATA'\n",
    "save_name = '2022_01_20_BF_TPHYSTND500_links'\n",
    "links = pickle.load(open(pathPKL+save_name+'.pkl','rb'))"
   ]
  },
  {
   "cell_type": "code",
   "execution_count": 16,
   "metadata": {},
   "outputs": [
    {
     "data": {
      "text/plain": [
       "dict_keys(['cl_TPHYSTND500', 'nlink', 'cl_TPHYSTND500_intersect', 'nlink_intersect', 'corr_array', 'link_locbyloc', 'nam'])"
      ]
     },
     "execution_count": 16,
     "metadata": {},
     "output_type": "execute_result"
    }
   ],
   "source": [
    "links.keys()"
   ]
  },
  {
   "cell_type": "markdown",
   "metadata": {},
   "source": [
    "Create custom layer to only keep causally robust links"
   ]
  },
  {
   "cell_type": "code",
   "execution_count": 17,
   "metadata": {},
   "outputs": [
    {
     "data": {
      "text/plain": [
       "array([0.08520508, 0.08312988, 0.09570313, 0.09155273, 0.12451172,\n",
       "       0.12561035, 0.10864258, 0.08325195, 0.08312988, 0.11877441,\n",
       "       0.13439941, 0.15209961, 0.1652832 , 0.15454102, 0.20056152,\n",
       "       0.22900391, 0.27624512, 0.45117188, 0.4017334 , 0.31713867,\n",
       "       0.14282227, 0.11950684, 0.11035156, 0.11828613, 0.10900879,\n",
       "       0.11804199, 0.10339355, 0.06433105, 0.0657959 , 0.08105469,\n",
       "       0.09411621, 0.09863281, 0.13867187, 0.10339355, 0.10583496,\n",
       "       0.0748291 , 0.07849121, 0.09106445, 0.08789063, 0.10559082,\n",
       "       0.10473633, 0.11047363, 0.10571289, 0.12109375, 0.11486816,\n",
       "       0.11328125, 0.18078613, 0.25671387, 0.22143555, 0.21911621,\n",
       "       0.12512207, 0.1138916 , 0.08056641, 0.06481934, 0.07336426,\n",
       "       0.0892334 , 0.11413574, 0.1640625 , 0.16516113, 0.22753906,\n",
       "       0.26855469, 0.8527832 , 0.28857422, 0.20349121])"
      ]
     },
     "execution_count": 17,
     "metadata": {},
     "output_type": "execute_result"
    }
   ],
   "source": [
    "links['link_locbyloc']"
   ]
  },
  {
   "cell_type": "code",
   "execution_count": 18,
   "metadata": {},
   "outputs": [],
   "source": [
    "mask20 = links['link_locbyloc']>0.2"
   ]
  },
  {
   "cell_type": "code",
   "execution_count": 19,
   "metadata": {},
   "outputs": [
    {
     "data": {
      "text/plain": [
       "array([False, False, False, False, False, False, False, False, False,\n",
       "       False, False, False, False, False,  True,  True,  True,  True,\n",
       "        True,  True, False, False, False, False, False, False, False,\n",
       "       False, False, False, False, False, False, False, False, False,\n",
       "       False, False, False, False, False, False, False, False, False,\n",
       "       False, False,  True,  True,  True, False, False, False, False,\n",
       "       False, False, False, False, False,  True,  True,  True,  True,\n",
       "        True])"
      ]
     },
     "execution_count": 19,
     "metadata": {},
     "output_type": "execute_result"
    }
   ],
   "source": [
    "mask20"
   ]
  },
  {
   "cell_type": "code",
   "execution_count": 28,
   "metadata": {},
   "outputs": [],
   "source": [
    "class Mask_Layer(tf.keras.layers.Layer):\n",
    "    \n",
    "    def __init__(self, mask=np.ones((64,), dtype=bool), **kwargs):\n",
    "        super(Mask_Layer,self).__init__()\n",
    "        # Assign attributes\n",
    "        self.mask = mask\n",
    "    \n",
    "    def build(self, input_shape):\n",
    "        super().build(input_shape)\n",
    "    \n",
    "    def get_config(self):\n",
    "        config = {'mask': list(self.mask)}\n",
    "        base_config = super().get_config()\n",
    "        return dict(list(base_config.items()) + list(config.items()))\n",
    "    \n",
    "    def call(self, x):\n",
    "        \n",
    "        input_shape = tf.shape(x)\n",
    "        inp = x[0]\n",
    "        masked_inp = tf.boolean_mask(tensor=inp,mask=self.mask,axis=1)\n",
    "        return tf.reshape(masked_inp,self.compute_output_shape(input_shape))\n",
    "        #return masked_inp\n",
    "\n",
    "    def compute_output_shape(self, input_shape):\n",
    "        return (input_shape[1],self.mask.shape[0]-np.sum(1-self.mask))"
   ]
  },
  {
   "cell_type": "markdown",
   "metadata": {},
   "source": [
    "## NN architecture"
   ]
  },
  {
   "cell_type": "markdown",
   "metadata": {},
   "source": [
    "Test the layer"
   ]
  },
  {
   "cell_type": "code",
   "execution_count": 45,
   "metadata": {},
   "outputs": [],
   "source": [
    "inp = Input(shape=(64,)) ## input after rh and tns transformation\n",
    "densout = Mask_Layer(mask20)([inp])\n",
    "model_test = tf.keras.models.Model(inp, densout)"
   ]
  },
  {
   "cell_type": "code",
   "execution_count": 46,
   "metadata": {},
   "outputs": [
    {
     "name": "stdout",
     "output_type": "stream",
     "text": [
      "Model: \"model_2\"\n",
      "_________________________________________________________________\n",
      "Layer (type)                 Output Shape              Param #   \n",
      "=================================================================\n",
      "input_3 (InputLayer)         [(None, 64)]              0         \n",
      "_________________________________________________________________\n",
      "mask__layer_2 (Mask_Layer)   (None, 14)                0         \n",
      "=================================================================\n",
      "Total params: 0\n",
      "Trainable params: 0\n",
      "Non-trainable params: 0\n",
      "_________________________________________________________________\n"
     ]
    }
   ],
   "source": [
    "model_test.summary()"
   ]
  },
  {
   "cell_type": "code",
   "execution_count": 47,
   "metadata": {},
   "outputs": [],
   "source": [
    "model_test.compile(tf.keras.optimizers.Adam(), loss=mse)"
   ]
  },
  {
   "cell_type": "code",
   "execution_count": 48,
   "metadata": {},
   "outputs": [
    {
     "data": {
      "text/plain": [
       "array([[ 3.46277811e-05,  4.20971592e-05,  9.48865490e-05, ...,\n",
       "         1.16108716e-01, -1.28818322e-02, -6.94538429e-02],\n",
       "       [ 3.46605812e-05,  4.21194200e-05,  9.49353416e-05, ...,\n",
       "         1.16895407e-01, -1.32002858e-02, -6.65879995e-02],\n",
       "       [ 3.46936213e-05,  4.21411351e-05,  9.46646906e-05, ...,\n",
       "         1.17754810e-01, -1.31817088e-02, -6.51703030e-02],\n",
       "       ...,\n",
       "       [-2.24822884e-06,  2.86976342e-06, -1.02312852e-05, ...,\n",
       "        -2.29888588e-01,  1.27522079e-02, -5.42034768e-02],\n",
       "       [-2.24780706e-06,  2.87644980e-06, -1.02390559e-05, ...,\n",
       "        -2.29888588e-01,  1.55899553e-02, -5.15359081e-02],\n",
       "       [-2.24732526e-06,  2.88259389e-06, -1.04124210e-05, ...,\n",
       "        -2.29888588e-01,  1.88104250e-02, -5.20131961e-02]], dtype=float32)"
      ]
     },
     "execution_count": 48,
     "metadata": {},
     "output_type": "execute_result"
    }
   ],
   "source": [
    "train_gen_BF[51][0]"
   ]
  },
  {
   "cell_type": "code",
   "execution_count": 49,
   "metadata": {},
   "outputs": [],
   "source": [
    "ytest = model_test.predict(train_gen_BF[51][0])"
   ]
  },
  {
   "cell_type": "code",
   "execution_count": 50,
   "metadata": {},
   "outputs": [
    {
     "data": {
      "text/plain": [
       "(8192, 14)"
      ]
     },
     "execution_count": 50,
     "metadata": {},
     "output_type": "execute_result"
    }
   ],
   "source": [
    "ytest.shape"
   ]
  },
  {
   "cell_type": "code",
   "execution_count": 51,
   "metadata": {},
   "outputs": [
    {
     "data": {
      "text/plain": [
       "array([ True,  True,  True,  True,  True])"
      ]
     },
     "execution_count": 51,
     "metadata": {},
     "output_type": "execute_result"
    }
   ],
   "source": [
    "mask20[15:20]"
   ]
  },
  {
   "cell_type": "code",
   "execution_count": 52,
   "metadata": {},
   "outputs": [
    {
     "data": {
      "text/plain": [
       "array([0., 0., 0., ..., 0., 0., 0.], dtype=float32)"
      ]
     },
     "execution_count": 52,
     "metadata": {},
     "output_type": "execute_result"
    }
   ],
   "source": [
    "train_gen_BF[51][0][:,15]-ytest[:,1]"
   ]
  },
  {
   "cell_type": "code",
   "execution_count": 53,
   "metadata": {},
   "outputs": [
    {
     "data": {
      "text/plain": [
       "array([[-0.02103714, -0.03968182, -0.05753723, ...,  0.11610872,\n",
       "        -0.01288183, -0.06945384],\n",
       "       [-0.02104403, -0.03969584, -0.05745332, ...,  0.11689541,\n",
       "        -0.01320029, -0.066588  ],\n",
       "       [-0.02104393, -0.03967427, -0.05747935, ...,  0.11775481,\n",
       "        -0.01318171, -0.0651703 ],\n",
       "       ...,\n",
       "       [-0.02023154, -0.03863735, -0.05603785, ..., -0.22988859,\n",
       "         0.01275221, -0.05420348],\n",
       "       [-0.0202314 , -0.03860446, -0.05594631, ..., -0.22988859,\n",
       "         0.01558996, -0.05153591],\n",
       "       [-0.02023428, -0.03858208, -0.05589357, ..., -0.22988859,\n",
       "         0.01881042, -0.0520132 ]], dtype=float32)"
      ]
     },
     "execution_count": 53,
     "metadata": {},
     "output_type": "execute_result"
    }
   ],
   "source": [
    "ytest"
   ]
  },
  {
   "cell_type": "markdown",
   "metadata": {},
   "source": [
    "Now design the NN architecture"
   ]
  },
  {
   "cell_type": "code",
   "execution_count": 59,
   "metadata": {},
   "outputs": [],
   "source": [
    "inp = Input(shape=(64,)) ## input after rh and tns transformation\n",
    "densout = Mask_Layer(mask20)([inp])\n",
    "densout = Dense(128, activation='linear')(densout)\n",
    "densout = LeakyReLU(alpha=0.3)(densout)\n",
    "for i in range (6):\n",
    "    densout = Dense(128, activation='linear')(densout)\n",
    "    densout = LeakyReLU(alpha=0.3)(densout)\n",
    "dense_out = Dense(1, activation='linear')(densout)\n",
    "model2 = tf.keras.models.Model(inp, dense_out)"
   ]
  },
  {
   "cell_type": "code",
   "execution_count": 60,
   "metadata": {},
   "outputs": [
    {
     "name": "stdout",
     "output_type": "stream",
     "text": [
      "Model: \"model_4\"\n",
      "_________________________________________________________________\n",
      "Layer (type)                 Output Shape              Param #   \n",
      "=================================================================\n",
      "input_5 (InputLayer)         [(None, 64)]              0         \n",
      "_________________________________________________________________\n",
      "mask__layer_4 (Mask_Layer)   (None, 14)                0         \n",
      "_________________________________________________________________\n",
      "dense_16 (Dense)             (None, 128)               1920      \n",
      "_________________________________________________________________\n",
      "leaky_re_lu_14 (LeakyReLU)   (None, 128)               0         \n",
      "_________________________________________________________________\n",
      "dense_17 (Dense)             (None, 128)               16512     \n",
      "_________________________________________________________________\n",
      "leaky_re_lu_15 (LeakyReLU)   (None, 128)               0         \n",
      "_________________________________________________________________\n",
      "dense_18 (Dense)             (None, 128)               16512     \n",
      "_________________________________________________________________\n",
      "leaky_re_lu_16 (LeakyReLU)   (None, 128)               0         \n",
      "_________________________________________________________________\n",
      "dense_19 (Dense)             (None, 128)               16512     \n",
      "_________________________________________________________________\n",
      "leaky_re_lu_17 (LeakyReLU)   (None, 128)               0         \n",
      "_________________________________________________________________\n",
      "dense_20 (Dense)             (None, 128)               16512     \n",
      "_________________________________________________________________\n",
      "leaky_re_lu_18 (LeakyReLU)   (None, 128)               0         \n",
      "_________________________________________________________________\n",
      "dense_21 (Dense)             (None, 128)               16512     \n",
      "_________________________________________________________________\n",
      "leaky_re_lu_19 (LeakyReLU)   (None, 128)               0         \n",
      "_________________________________________________________________\n",
      "dense_22 (Dense)             (None, 128)               16512     \n",
      "_________________________________________________________________\n",
      "leaky_re_lu_20 (LeakyReLU)   (None, 128)               0         \n",
      "_________________________________________________________________\n",
      "dense_23 (Dense)             (None, 1)                 129       \n",
      "=================================================================\n",
      "Total params: 101,121\n",
      "Trainable params: 101,121\n",
      "Non-trainable params: 0\n",
      "_________________________________________________________________\n"
     ]
    }
   ],
   "source": [
    "model2.summary()"
   ]
  },
  {
   "cell_type": "code",
   "execution_count": 61,
   "metadata": {},
   "outputs": [],
   "source": [
    "# Where to save the model\n",
    "path_HDF5 = '/DFS-L/DATA/pritchard/tbeucler/SPCAM/HDF5_DATA/'\n",
    "save_name = '2022_01_20_BF_Causal_TPHYSTND500'"
   ]
  },
  {
   "cell_type": "code",
   "execution_count": 62,
   "metadata": {},
   "outputs": [],
   "source": [
    "earlyStopping = EarlyStopping(monitor='val_loss', patience=10, verbose=0, mode='min')\n",
    "mcp_save_pos = ModelCheckpoint(path_HDF5+save_name+'.hdf5',save_best_only=True, monitor='val_loss', mode='min')"
   ]
  },
  {
   "cell_type": "code",
   "execution_count": 63,
   "metadata": {},
   "outputs": [],
   "source": [
    "model2.compile(tf.keras.optimizers.Adam(), loss=mse, custom_objects={'Mask_Layer':Mask_Layer})"
   ]
  },
  {
   "cell_type": "code",
   "execution_count": 64,
   "metadata": {},
   "outputs": [
    {
     "name": "stdout",
     "output_type": "stream",
     "text": [
      "Epoch 1/20\n",
      "5759/5759 [==============================] - 270s 47ms/step - loss: 590.2678 - val_loss: 494.5842\n",
      "Epoch 2/20\n",
      "5759/5759 [==============================] - 270s 47ms/step - loss: 498.8149 - val_loss: 477.7770\n",
      "Epoch 3/20\n",
      "5759/5759 [==============================] - 268s 47ms/step - loss: 486.5473 - val_loss: 481.7687\n",
      "Epoch 4/20\n",
      "5759/5759 [==============================] - 269s 47ms/step - loss: 479.9480 - val_loss: 468.6364\n",
      "Epoch 5/20\n",
      "5759/5759 [==============================] - 268s 47ms/step - loss: 474.0730 - val_loss: 456.6691\n",
      "Epoch 6/20\n",
      "5759/5759 [==============================] - 270s 47ms/step - loss: 469.3505 - val_loss: 462.2701\n",
      "Epoch 7/20\n",
      "5759/5759 [==============================] - 268s 47ms/step - loss: 465.3852 - val_loss: 455.6932\n",
      "Epoch 8/20\n",
      "5759/5759 [==============================] - 269s 47ms/step - loss: 463.4384 - val_loss: 462.5296\n",
      "Epoch 9/20\n",
      "5759/5759 [==============================] - 330s 57ms/step - loss: 460.0416 - val_loss: 456.3512\n",
      "Epoch 10/20\n",
      "5759/5759 [==============================] - 361s 63ms/step - loss: 457.3656 - val_loss: 444.1328\n",
      "Epoch 11/20\n",
      "5759/5759 [==============================] - 306s 53ms/step - loss: 456.1062 - val_loss: 448.4588\n",
      "Epoch 12/20\n",
      "5759/5759 [==============================] - 379s 66ms/step - loss: 454.1024 - val_loss: 445.8427\n",
      "Epoch 13/20\n",
      "5759/5759 [==============================] - 386s 67ms/step - loss: 453.3193 - val_loss: 446.1636\n",
      "Epoch 14/20\n",
      "5759/5759 [==============================] - 385s 67ms/step - loss: 451.2326 - val_loss: 453.4908\n",
      "Epoch 15/20\n",
      "5759/5759 [==============================] - 385s 67ms/step - loss: 450.3255 - val_loss: 443.5159\n",
      "Epoch 16/20\n",
      "5759/5759 [==============================] - 380s 66ms/step - loss: 448.9183 - val_loss: 440.3570\n",
      "Epoch 17/20\n",
      "5759/5759 [==============================] - 379s 66ms/step - loss: 448.1214 - val_loss: 446.6931\n",
      "Epoch 18/20\n",
      "5759/5759 [==============================] - 377s 65ms/step - loss: 446.9157 - val_loss: 449.7598\n",
      "Epoch 19/20\n",
      "5759/5759 [==============================] - 382s 66ms/step - loss: 446.5709 - val_loss: 437.1780\n",
      "Epoch 20/20\n",
      "5759/5759 [==============================] - 371s 64ms/step - loss: 445.2112 - val_loss: 447.7646\n"
     ]
    },
    {
     "data": {
      "text/plain": [
       "<tensorflow.python.keras.callbacks.History at 0x7f62b6026f28>"
      ]
     },
     "execution_count": 64,
     "metadata": {},
     "output_type": "execute_result"
    }
   ],
   "source": [
    "Nep = 20\n",
    "model2.fit_generator(train_gen_BF, epochs=Nep, validation_data=valid_gen_BF,\\\n",
    "                    callbacks=[earlyStopping, mcp_save_pos])"
   ]
  },
  {
   "cell_type": "markdown",
   "metadata": {},
   "source": [
    "# BF, based on correlations"
   ]
  },
  {
   "cell_type": "markdown",
   "metadata": {},
   "source": [
    "## Load links"
   ]
  },
  {
   "cell_type": "code",
   "execution_count": 159,
   "metadata": {},
   "outputs": [],
   "source": [
    "pathPKL = '/export/home/tbeucler/CBRAIN-CAM/notebooks/tbeucler_devlog/PKL_DATA'\n",
    "save_name = '2022_01_20_BF_TPHYSTND500_links'\n",
    "links = pickle.load(open(pathPKL+save_name+'.pkl','rb'))"
   ]
  },
  {
   "cell_type": "code",
   "execution_count": 160,
   "metadata": {},
   "outputs": [
    {
     "data": {
      "text/plain": [
       "dict_keys(['cl_TPHYSTND500', 'nlink', 'cl_TPHYSTND500_intersect', 'nlink_intersect', 'corr_array', 'link_locbyloc', 'nam'])"
      ]
     },
     "execution_count": 160,
     "metadata": {},
     "output_type": "execute_result"
    }
   ],
   "source": [
    "links.keys()"
   ]
  },
  {
   "cell_type": "code",
   "execution_count": 161,
   "metadata": {},
   "outputs": [
    {
     "data": {
      "text/plain": [
       "(64,)"
      ]
     },
     "execution_count": 161,
     "metadata": {},
     "output_type": "execute_result"
    }
   ],
   "source": [
    "links['corr_array'].shape"
   ]
  },
  {
   "cell_type": "code",
   "execution_count": 162,
   "metadata": {},
   "outputs": [],
   "source": [
    "maskcorr = np.abs(links['corr_array'])>0.15"
   ]
  },
  {
   "cell_type": "code",
   "execution_count": 163,
   "metadata": {},
   "outputs": [
    {
     "data": {
      "text/plain": [
       "array([False, False, False, False, False, False, False, False, False,\n",
       "       False, False, False,  True,  True,  True,  True,  True,  True,\n",
       "        True,  True,  True,  True,  True,  True,  True, False, False,\n",
       "       False, False, False, False, False, False, False, False, False,\n",
       "       False, False, False, False, False, False, False, False, False,\n",
       "       False, False, False, False, False, False, False, False, False,\n",
       "       False, False, False, False, False, False, False, False, False,\n",
       "       False])"
      ]
     },
     "execution_count": 163,
     "metadata": {},
     "output_type": "execute_result"
    }
   ],
   "source": [
    "maskcorr"
   ]
  },
  {
   "cell_type": "markdown",
   "metadata": {},
   "source": [
    "## Design masked NN and train it"
   ]
  },
  {
   "cell_type": "code",
   "execution_count": 164,
   "metadata": {},
   "outputs": [],
   "source": [
    "inp = Input(shape=(64,)) ## input after rh and tns transformation\n",
    "densout = Mask_Layer(maskcorr)([inp])\n",
    "densout = Dense(128, activation='linear')(densout)\n",
    "densout = LeakyReLU(alpha=0.3)(densout)\n",
    "for i in range (6):\n",
    "    densout = Dense(128, activation='linear')(densout)\n",
    "    densout = LeakyReLU(alpha=0.3)(densout)\n",
    "dense_out = Dense(1, activation='linear')(densout)\n",
    "model_corr = tf.keras.models.Model(inp, dense_out)"
   ]
  },
  {
   "cell_type": "code",
   "execution_count": 165,
   "metadata": {},
   "outputs": [
    {
     "name": "stdout",
     "output_type": "stream",
     "text": [
      "Model: \"model_23\"\n",
      "_________________________________________________________________\n",
      "Layer (type)                 Output Shape              Param #   \n",
      "=================================================================\n",
      "input_24 (InputLayer)        [(None, 64)]              0         \n",
      "_________________________________________________________________\n",
      "mask__layer_14 (Mask_Layer)  (None, 13)                0         \n",
      "_________________________________________________________________\n",
      "dense_168 (Dense)            (None, 128)               1792      \n",
      "_________________________________________________________________\n",
      "leaky_re_lu_147 (LeakyReLU)  (None, 128)               0         \n",
      "_________________________________________________________________\n",
      "dense_169 (Dense)            (None, 128)               16512     \n",
      "_________________________________________________________________\n",
      "leaky_re_lu_148 (LeakyReLU)  (None, 128)               0         \n",
      "_________________________________________________________________\n",
      "dense_170 (Dense)            (None, 128)               16512     \n",
      "_________________________________________________________________\n",
      "leaky_re_lu_149 (LeakyReLU)  (None, 128)               0         \n",
      "_________________________________________________________________\n",
      "dense_171 (Dense)            (None, 128)               16512     \n",
      "_________________________________________________________________\n",
      "leaky_re_lu_150 (LeakyReLU)  (None, 128)               0         \n",
      "_________________________________________________________________\n",
      "dense_172 (Dense)            (None, 128)               16512     \n",
      "_________________________________________________________________\n",
      "leaky_re_lu_151 (LeakyReLU)  (None, 128)               0         \n",
      "_________________________________________________________________\n",
      "dense_173 (Dense)            (None, 128)               16512     \n",
      "_________________________________________________________________\n",
      "leaky_re_lu_152 (LeakyReLU)  (None, 128)               0         \n",
      "_________________________________________________________________\n",
      "dense_174 (Dense)            (None, 128)               16512     \n",
      "_________________________________________________________________\n",
      "leaky_re_lu_153 (LeakyReLU)  (None, 128)               0         \n",
      "_________________________________________________________________\n",
      "dense_175 (Dense)            (None, 1)                 129       \n",
      "=================================================================\n",
      "Total params: 100,993\n",
      "Trainable params: 100,993\n",
      "Non-trainable params: 0\n",
      "_________________________________________________________________\n"
     ]
    }
   ],
   "source": [
    "model_corr.summary()"
   ]
  },
  {
   "cell_type": "code",
   "execution_count": 166,
   "metadata": {},
   "outputs": [
    {
     "name": "stdout",
     "output_type": "stream",
     "text": [
      "Epoch 1/20\n",
      "5759/5759 [==============================] - 298s 52ms/step - loss: 947.4009 - val_loss: 898.1061\n",
      "Epoch 2/20\n",
      "5759/5759 [==============================] - 294s 51ms/step - loss: 891.1189 - val_loss: 888.0192\n",
      "Epoch 3/20\n",
      "5759/5759 [==============================] - 291s 51ms/step - loss: 878.6387 - val_loss: 881.2253\n",
      "Epoch 4/20\n",
      "5759/5759 [==============================] - 293s 51ms/step - loss: 868.8894 - val_loss: 879.1725\n",
      "Epoch 5/20\n",
      "5759/5759 [==============================] - 291s 50ms/step - loss: 859.5012 - val_loss: 862.1694\n",
      "Epoch 6/20\n",
      "5759/5759 [==============================] - 280s 49ms/step - loss: 851.1387 - val_loss: 874.5411\n",
      "Epoch 7/20\n",
      "5759/5759 [==============================] - 307s 53ms/step - loss: 843.1487 - val_loss: 900.3604\n",
      "Epoch 8/20\n",
      "5759/5759 [==============================] - 283s 49ms/step - loss: 836.7942 - val_loss: 855.1640\n",
      "Epoch 9/20\n",
      "5759/5759 [==============================] - 310s 54ms/step - loss: 831.8156 - val_loss: 851.3135\n",
      "Epoch 10/20\n",
      "5759/5759 [==============================] - 301s 52ms/step - loss: 828.3414 - val_loss: 837.3294\n",
      "Epoch 11/20\n",
      "5759/5759 [==============================] - 296s 51ms/step - loss: 823.1433 - val_loss: 856.4014\n",
      "Epoch 12/20\n",
      "5759/5759 [==============================] - 322s 56ms/step - loss: 819.6662 - val_loss: 837.2642\n",
      "Epoch 13/20\n",
      "5759/5759 [==============================] - 291s 50ms/step - loss: 816.5561 - val_loss: 832.1081\n",
      "Epoch 14/20\n",
      "5759/5759 [==============================] - 300s 52ms/step - loss: 814.0885 - val_loss: 834.8585\n",
      "Epoch 15/20\n",
      "5759/5759 [==============================] - 292s 51ms/step - loss: 810.4617 - val_loss: 821.0093\n",
      "Epoch 16/20\n",
      "5759/5759 [==============================] - 299s 52ms/step - loss: 808.1497 - val_loss: 834.1011\n",
      "Epoch 17/20\n",
      "5759/5759 [==============================] - 298s 52ms/step - loss: 805.0692 - val_loss: 846.5881\n",
      "Epoch 18/20\n",
      "5759/5759 [==============================] - 286s 50ms/step - loss: 801.3629 - val_loss: 821.2493\n",
      "Epoch 19/20\n",
      "5759/5759 [==============================] - 309s 54ms/step - loss: 798.7816 - val_loss: 827.6847\n",
      "Epoch 20/20\n",
      "5759/5759 [==============================] - 294s 51ms/step - loss: 796.1475 - val_loss: 823.9879\n"
     ]
    },
    {
     "data": {
      "text/plain": [
       "<tensorflow.python.keras.callbacks.History at 0x7f620065c908>"
      ]
     },
     "execution_count": 166,
     "metadata": {},
     "output_type": "execute_result"
    }
   ],
   "source": [
    "# Where to save the model\n",
    "path_HDF5 = '/DFS-L/DATA/pritchard/tbeucler/SPCAM/HDF5_DATA/'\n",
    "save_name = '2022_01_22_BF_Corr_TPHYSTND500'\n",
    "\n",
    "earlyStopping = EarlyStopping(monitor='val_loss', patience=10, verbose=0, mode='min')\n",
    "mcp_save_pos = ModelCheckpoint(path_HDF5+save_name+'.hdf5',save_best_only=True, monitor='val_loss', mode='min')\n",
    "\n",
    "model_corr.compile(tf.keras.optimizers.Adam(), loss=mse, custom_objects={'Mask_Layer':Mask_Layer})\n",
    "\n",
    "Nep = 20\n",
    "model_corr.fit_generator(train_gen_BF, epochs=Nep, validation_data=valid_gen_BF,\\\n",
    "                         callbacks=[earlyStopping, mcp_save_pos])"
   ]
  },
  {
   "cell_type": "code",
   "execution_count": 167,
   "metadata": {},
   "outputs": [
    {
     "name": "stdout",
     "output_type": "stream",
     "text": [
      "Epoch 1/20\n",
      "5759/5759 [==============================] - 345s 60ms/step - loss: 793.8101 - val_loss: 813.6782\n",
      "Epoch 2/20\n",
      "5759/5759 [==============================] - 292s 51ms/step - loss: 792.4231 - val_loss: 819.7711\n",
      "Epoch 3/20\n",
      "5759/5759 [==============================] - 296s 51ms/step - loss: 790.4554 - val_loss: 820.4790\n",
      "Epoch 4/20\n",
      "5759/5759 [==============================] - 287s 50ms/step - loss: 788.2580 - val_loss: 814.0946\n",
      "Epoch 5/20\n",
      "5759/5759 [==============================] - 289s 50ms/step - loss: 786.5618 - val_loss: 814.3509\n",
      "Epoch 6/20\n",
      "5759/5759 [==============================] - 296s 51ms/step - loss: 785.6462 - val_loss: 808.3145\n",
      "Epoch 7/20\n",
      "5759/5759 [==============================] - 293s 51ms/step - loss: 783.6225 - val_loss: 817.3044\n",
      "Epoch 8/20\n",
      "5759/5759 [==============================] - 299s 52ms/step - loss: 782.0543 - val_loss: 822.8037\n",
      "Epoch 9/20\n",
      "5759/5759 [==============================] - 311s 54ms/step - loss: 781.3461 - val_loss: 811.0751\n",
      "Epoch 10/20\n",
      "5759/5759 [==============================] - 305s 53ms/step - loss: 779.7872 - val_loss: 815.3124\n",
      "Epoch 11/20\n",
      "5759/5759 [==============================] - 307s 53ms/step - loss: 779.0714 - val_loss: 811.0299\n",
      "Epoch 12/20\n",
      "5759/5759 [==============================] - 293s 51ms/step - loss: 777.9562 - val_loss: 822.8882\n",
      "Epoch 13/20\n",
      "5759/5759 [==============================] - 294s 51ms/step - loss: 777.0061 - val_loss: 804.3053\n",
      "Epoch 14/20\n",
      "5759/5759 [==============================] - 291s 50ms/step - loss: 776.3191 - val_loss: 816.1567\n",
      "Epoch 15/20\n",
      "5759/5759 [==============================] - 327s 57ms/step - loss: 774.7975 - val_loss: 809.6266\n",
      "Epoch 16/20\n",
      "5759/5759 [==============================] - 295s 51ms/step - loss: 775.0003 - val_loss: 803.4721\n",
      "Epoch 17/20\n",
      "5759/5759 [==============================] - 289s 50ms/step - loss: 773.4301 - val_loss: 811.3672\n",
      "Epoch 18/20\n",
      "5759/5759 [==============================] - 291s 51ms/step - loss: 772.4222 - val_loss: 812.3986\n",
      "Epoch 19/20\n",
      "5759/5759 [==============================] - 299s 52ms/step - loss: 771.2158 - val_loss: 815.6509\n",
      "Epoch 20/20\n",
      "5759/5759 [==============================] - 291s 51ms/step - loss: 770.6576 - val_loss: 820.5360\n"
     ]
    },
    {
     "data": {
      "text/plain": [
       "<tensorflow.python.keras.callbacks.History at 0x7f6200236198>"
      ]
     },
     "execution_count": 167,
     "metadata": {},
     "output_type": "execute_result"
    }
   ],
   "source": [
    "Nep = 20\n",
    "model_corr.fit_generator(train_gen_BF, epochs=Nep, validation_data=valid_gen_BF,\\\n",
    "                         callbacks=[earlyStopping, mcp_save_pos])"
   ]
  },
  {
   "cell_type": "markdown",
   "metadata": {},
   "source": [
    "# Climate-invariant, causally-consistent"
   ]
  },
  {
   "cell_type": "markdown",
   "metadata": {},
   "source": [
    "## Load links"
   ]
  },
  {
   "cell_type": "code",
   "execution_count": 79,
   "metadata": {},
   "outputs": [],
   "source": [
    "pathPKL = '/export/home/tbeucler/CBRAIN-CAM/notebooks/tbeucler_devlog/PKL_DATA'\n",
    "save_name = '2022_01_20_CI_TPHYSTND500_links'\n",
    "links = pickle.load(open(pathPKL+save_name+'.pkl','rb'))"
   ]
  },
  {
   "cell_type": "code",
   "execution_count": 72,
   "metadata": {},
   "outputs": [],
   "source": [
    "mask20 = links['link_locbyloc']>0.2"
   ]
  },
  {
   "cell_type": "code",
   "execution_count": 73,
   "metadata": {},
   "outputs": [
    {
     "data": {
      "text/plain": [
       "array([False, False, False, False, False, False, False, False, False,\n",
       "       False, False, False, False,  True,  True,  True,  True,  True,\n",
       "        True,  True, False, False, False, False, False, False, False,\n",
       "       False, False, False, False, False, False, False, False, False,\n",
       "       False, False, False, False, False, False, False, False, False,\n",
       "       False, False, False, False, False, False, False, False, False,\n",
       "       False, False, False, False, False, False,  True,  True,  True,\n",
       "        True])"
      ]
     },
     "execution_count": 73,
     "metadata": {},
     "output_type": "execute_result"
    }
   ],
   "source": [
    "mask20"
   ]
  },
  {
   "cell_type": "markdown",
   "metadata": {},
   "source": [
    "## NN architecture\n"
   ]
  },
  {
   "cell_type": "code",
   "execution_count": 80,
   "metadata": {},
   "outputs": [],
   "source": [
    "inp = Input(shape=(64,)) ## input after rh and tns transformation\n",
    "densout = Mask_Layer(mask20)([inp])\n",
    "densout = Dense(128, activation='linear')(densout)\n",
    "densout = LeakyReLU(alpha=0.3)(densout)\n",
    "for i in range (6):\n",
    "    densout = Dense(128, activation='linear')(densout)\n",
    "    densout = LeakyReLU(alpha=0.3)(densout)\n",
    "dense_out = Dense(1, activation='linear')(densout)\n",
    "modelCI = tf.keras.models.Model(inp, dense_out)"
   ]
  },
  {
   "cell_type": "code",
   "execution_count": 81,
   "metadata": {},
   "outputs": [
    {
     "name": "stdout",
     "output_type": "stream",
     "text": [
      "Model: \"model_6\"\n",
      "_________________________________________________________________\n",
      "Layer (type)                 Output Shape              Param #   \n",
      "=================================================================\n",
      "input_7 (InputLayer)         [(None, 64)]              0         \n",
      "_________________________________________________________________\n",
      "mask__layer_5 (Mask_Layer)   (None, 11)                0         \n",
      "_________________________________________________________________\n",
      "dense_32 (Dense)             (None, 128)               1536      \n",
      "_________________________________________________________________\n",
      "leaky_re_lu_28 (LeakyReLU)   (None, 128)               0         \n",
      "_________________________________________________________________\n",
      "dense_33 (Dense)             (None, 128)               16512     \n",
      "_________________________________________________________________\n",
      "leaky_re_lu_29 (LeakyReLU)   (None, 128)               0         \n",
      "_________________________________________________________________\n",
      "dense_34 (Dense)             (None, 128)               16512     \n",
      "_________________________________________________________________\n",
      "leaky_re_lu_30 (LeakyReLU)   (None, 128)               0         \n",
      "_________________________________________________________________\n",
      "dense_35 (Dense)             (None, 128)               16512     \n",
      "_________________________________________________________________\n",
      "leaky_re_lu_31 (LeakyReLU)   (None, 128)               0         \n",
      "_________________________________________________________________\n",
      "dense_36 (Dense)             (None, 128)               16512     \n",
      "_________________________________________________________________\n",
      "leaky_re_lu_32 (LeakyReLU)   (None, 128)               0         \n",
      "_________________________________________________________________\n",
      "dense_37 (Dense)             (None, 128)               16512     \n",
      "_________________________________________________________________\n",
      "leaky_re_lu_33 (LeakyReLU)   (None, 128)               0         \n",
      "_________________________________________________________________\n",
      "dense_38 (Dense)             (None, 128)               16512     \n",
      "_________________________________________________________________\n",
      "leaky_re_lu_34 (LeakyReLU)   (None, 128)               0         \n",
      "_________________________________________________________________\n",
      "dense_39 (Dense)             (None, 1)                 129       \n",
      "=================================================================\n",
      "Total params: 100,737\n",
      "Trainable params: 100,737\n",
      "Non-trainable params: 0\n",
      "_________________________________________________________________\n"
     ]
    }
   ],
   "source": [
    "modelCI.summary()"
   ]
  },
  {
   "cell_type": "code",
   "execution_count": 127,
   "metadata": {},
   "outputs": [],
   "source": [
    "# Where to save the model\n",
    "path_HDF5 = '/DFS-L/DATA/pritchard/tbeucler/SPCAM/HDF5_DATA/'\n",
    "save_name = '2022_01_20_CI_Causal_TPHYSTND500'"
   ]
  },
  {
   "cell_type": "code",
   "execution_count": 128,
   "metadata": {},
   "outputs": [],
   "source": [
    "earlyStopping = EarlyStopping(monitor='val_loss', patience=10, verbose=0, mode='min')\n",
    "mcp_save_pos = ModelCheckpoint(path_HDF5+save_name+'.hdf5',save_best_only=True, monitor='val_loss', mode='min')"
   ]
  },
  {
   "cell_type": "code",
   "execution_count": 84,
   "metadata": {},
   "outputs": [],
   "source": [
    "modelCI.compile(tf.keras.optimizers.Adam(), loss=mse, custom_objects={'Mask_Layer':Mask_Layer})"
   ]
  },
  {
   "cell_type": "code",
   "execution_count": 129,
   "metadata": {},
   "outputs": [
    {
     "name": "stdout",
     "output_type": "stream",
     "text": [
      "Epoch 1/20\n",
      "5759/5759 [==============================] - 1465s 254ms/step - loss: 685.7555 - val_loss: 691.6761\n",
      "Epoch 2/20\n",
      "5759/5759 [==============================] - 1422s 247ms/step - loss: 683.1948 - val_loss: 670.8295\n",
      "Epoch 3/20\n",
      "5759/5759 [==============================] - 1355s 235ms/step - loss: 680.5719 - val_loss: 658.8937\n",
      "Epoch 4/20\n",
      "5759/5759 [==============================] - 1248s 217ms/step - loss: 677.6570 - val_loss: 668.6849\n",
      "Epoch 5/20\n",
      "5759/5759 [==============================] - 1253s 218ms/step - loss: 675.9647 - val_loss: 678.6811\n",
      "Epoch 6/20\n",
      "5759/5759 [==============================] - 1412s 245ms/step - loss: 672.9400 - val_loss: 656.5111\n",
      "Epoch 7/20\n",
      "5759/5759 [==============================] - 1362s 236ms/step - loss: 670.9914 - val_loss: 647.3528\n",
      "Epoch 8/20\n",
      "5759/5759 [==============================] - 1370s 238ms/step - loss: 667.4352 - val_loss: 637.2719\n",
      "Epoch 9/20\n",
      "5759/5759 [==============================] - 1267s 220ms/step - loss: 667.0637 - val_loss: 684.8609\n",
      "Epoch 10/20\n",
      "5759/5759 [==============================] - 1233s 214ms/step - loss: 664.8085 - val_loss: 684.9817\n",
      "Epoch 11/20\n",
      "5759/5759 [==============================] - 1268s 220ms/step - loss: 664.5165 - val_loss: 657.4893\n",
      "Epoch 12/20\n",
      "5759/5759 [==============================] - 1230s 214ms/step - loss: 665.2361 - val_loss: 651.2885\n",
      "Epoch 13/20\n",
      "5759/5759 [==============================] - 1261s 219ms/step - loss: 660.5549 - val_loss: 691.7906\n",
      "Epoch 14/20\n",
      "5759/5759 [==============================] - 1328s 231ms/step - loss: 659.3436 - val_loss: 632.7812\n",
      "Epoch 15/20\n",
      "5759/5759 [==============================] - 1257s 218ms/step - loss: 657.3279 - val_loss: 641.5271\n",
      "Epoch 16/20\n",
      "5759/5759 [==============================] - 1256s 218ms/step - loss: 656.4092 - val_loss: 653.8169\n",
      "Epoch 17/20\n",
      "5759/5759 [==============================] - 1244s 216ms/step - loss: 657.5590 - val_loss: 640.0546\n",
      "Epoch 18/20\n",
      "5759/5759 [==============================] - 1250s 217ms/step - loss: 656.3702 - val_loss: 647.3575\n",
      "Epoch 19/20\n",
      "5759/5759 [==============================] - 1256s 218ms/step - loss: 655.4795 - val_loss: 642.0403\n",
      "Epoch 20/20\n",
      "5759/5759 [==============================] - 1249s 217ms/step - loss: 652.5101 - val_loss: 664.9710\n"
     ]
    },
    {
     "data": {
      "text/plain": [
       "<tensorflow.python.keras.callbacks.History at 0x7f624820c4a8>"
      ]
     },
     "execution_count": 129,
     "metadata": {},
     "output_type": "execute_result"
    }
   ],
   "source": [
    "Nep = 20\n",
    "modelCI.fit_generator(train_gen_CI, epochs=Nep, validation_data=valid_gen_CI,\\\n",
    "                    callbacks=[earlyStopping, mcp_save_pos])"
   ]
  },
  {
   "cell_type": "markdown",
   "metadata": {},
   "source": [
    "# Generalization skill and benchmarking"
   ]
  },
  {
   "cell_type": "markdown",
   "metadata": {},
   "source": [
    "## Define and load array of models"
   ]
  },
  {
   "cell_type": "code",
   "execution_count": 18,
   "metadata": {},
   "outputs": [],
   "source": [
    "pathPKL = '/export/home/tbeucler/CBRAIN-CAM/notebooks/tbeucler_devlog/PKL_DATA'"
   ]
  },
  {
   "cell_type": "code",
   "execution_count": 19,
   "metadata": {},
   "outputs": [],
   "source": [
    "path_HDF5 = '/DFS-L/DATA/pritchard/tbeucler/SPCAM/HDF5_DATA/'"
   ]
  },
  {
   "cell_type": "code",
   "execution_count": 20,
   "metadata": {},
   "outputs": [],
   "source": [
    "NN_array = ['2022_01_19_BF_TPHYSTND500','2022_01_20_CI_TPHYSTND500',\n",
    "            '2022_01_20_BF_Causal_TPHYSTND500',\n",
    "            '2022_01_20_CI_Causal_TPHYSTND500',\n",
    "            '2022_01_22_BF_Corr_TPHYSTND500'\n",
    "           ]\n",
    "NNa_nam = ['BF','CI','BF_CC','CI_CC','BF_Corr']\n",
    "path_links = ['','','2022_01_20_BF_TPHYSTND500_links','2022_01_20_CI_TPHYSTND500_links','2022_01_20_BF_TPHYSTND500_links']"
   ]
  },
  {
   "cell_type": "code",
   "execution_count": 25,
   "metadata": {},
   "outputs": [],
   "source": [
    "NNa = {}\n",
    "mask = {}"
   ]
  },
  {
   "cell_type": "code",
   "execution_count": 29,
   "metadata": {},
   "outputs": [],
   "source": [
    "for i,partial_path in enumerate(NN_array):\n",
    "    \n",
    "    nam = NNa_nam[i]\n",
    "    \n",
    "    if i==4:\n",
    "        links = pickle.load(open(pathPKL+path_links[i]+'.pkl','rb'))\n",
    "        mask[nam] = np.abs(links['corr_array'])>0.15\n",
    "    elif i>1:\n",
    "        links = pickle.load(open(pathPKL+path_links[i]+'.pkl','rb'))\n",
    "        mask[nam] = links['link_locbyloc']>0.2\n",
    "    \n",
    "    inp = Input(shape=(64,)) ## input after rh and tns transformation\n",
    "\n",
    "    if i>1: \n",
    "        densout = Mask_Layer(mask[nam])([inp])\n",
    "        densout = Dense(128, activation='linear')(densout)\n",
    "    else: densout = Dense(128, activation='linear')(inp)\n",
    "\n",
    "    densout = LeakyReLU(alpha=0.3)(densout)\n",
    "    for i in range (6):\n",
    "        densout = Dense(128, activation='linear')(densout)\n",
    "        densout = LeakyReLU(alpha=0.3)(densout)\n",
    "    dense_out = Dense(1, activation='linear')(densout)\n",
    "    NNa[nam] = tf.keras.models.Model(inp, dense_out)\n",
    "    \n",
    "    NNa[nam].load_weights(path_HDF5+partial_path+'.hdf5')\n",
    "    NNa[nam].compile(tf.keras.optimizers.Adam(), loss=mse, custom_objects={'Mask_Layer':Mask_Layer})"
   ]
  },
  {
   "cell_type": "markdown",
   "metadata": {},
   "source": [
    "## Define generators for (+4K) sets"
   ]
  },
  {
   "cell_type": "code",
   "execution_count": 21,
   "metadata": {},
   "outputs": [],
   "source": [
    "path_train_p4K = path_data + '2022_01_21_TRAIN_P4K_TPHYSTND500.nc'\n",
    "path_valid_p4K = path_data + '2022_01_21_VALID_P4K_TPHYSTND500.nc'"
   ]
  },
  {
   "cell_type": "code",
   "execution_count": 22,
   "metadata": {},
   "outputs": [],
   "source": [
    "train_gen_BF_p4K = DataGeneratorCI(\n",
    "    data_fn = path_train_p4K,\n",
    "    input_vars = in_vars,\n",
    "    output_vars = out_vars,\n",
    "    norm_fn = path_norm,\n",
    "    input_transform = ('mean', 'maxrs'),\n",
    "    output_transform = scale_dict,\n",
    "    shuffle = False,\n",
    "    batch_size=N_batch\n",
    ")\n",
    "\n",
    "valid_gen_BF_p4K = DataGeneratorCI(\n",
    "    data_fn = path_valid_p4K,\n",
    "    input_vars = in_vars,\n",
    "    output_vars = out_vars,\n",
    "    norm_fn = path_norm,\n",
    "    input_transform = ('mean', 'maxrs'),\n",
    "    output_transform = scale_dict,\n",
    "    shuffle = False,\n",
    "    batch_size=N_batch\n",
    ")"
   ]
  },
  {
   "cell_type": "code",
   "execution_count": 23,
   "metadata": {},
   "outputs": [],
   "source": [
    "train_gen_CI_p4K = DataGeneratorCI(\n",
    "    data_fn = path_train_p4K,\n",
    "    input_vars = in_vars,\n",
    "    output_vars = out_vars,\n",
    "    norm_fn = path_norm,\n",
    "    input_transform = ('mean','maxrs'),\n",
    "    output_transform = scale_dict,\n",
    "    shuffle = False,\n",
    "    batch_size=N_batch,\n",
    "    Qscaling = 'RH',\n",
    "    Tscaling = 'BMSE',\n",
    "    LHFscaling = 'LHF_nsDELQ',\n",
    "    hyam=hyam, hybm=hybm, # Arrays to define mid-levels of hybrid vertical coordinate\n",
    "    inp_sub_Qscaling=train_gen_RH.input_transform.sub, # What to subtract from RH inputs\n",
    "    inp_div_Qscaling=train_gen_RH.input_transform.div, # What to divide RH inputs by\n",
    "    inp_sub_Tscaling=train_gen_BMSE.input_transform.sub,\n",
    "    inp_div_Tscaling=train_gen_BMSE.input_transform.div,\n",
    "    inp_sub_LHFscaling=train_gen_LHF_nsDELQ.input_transform.sub,\n",
    "    inp_div_LHFscaling=train_gen_LHF_nsDELQ.input_transform.div\n",
    ")\n",
    "\n",
    "valid_gen_CI_p4K = DataGeneratorCI(\n",
    "    data_fn = path_valid_p4K,\n",
    "    input_vars = in_vars,\n",
    "    output_vars = out_vars,\n",
    "    norm_fn = path_norm,\n",
    "    input_transform = ('mean','maxrs'),\n",
    "    output_transform = scale_dict,\n",
    "    shuffle = False,\n",
    "    batch_size=N_batch,\n",
    "    Qscaling = 'RH',\n",
    "    Tscaling = 'BMSE',\n",
    "    LHFscaling = 'LHF_nsDELQ',\n",
    "    hyam=hyam, hybm=hybm, # Arrays to define mid-levels of hybrid vertical coordinate\n",
    "    inp_sub_Qscaling=train_gen_RH.input_transform.sub, # What to subtract from RH inputs\n",
    "    inp_div_Qscaling=train_gen_RH.input_transform.div, # What to divide RH inputs by\n",
    "    inp_sub_Tscaling=train_gen_BMSE.input_transform.sub,\n",
    "    inp_div_Tscaling=train_gen_BMSE.input_transform.div,\n",
    "    inp_sub_LHFscaling=train_gen_LHF_nsDELQ.input_transform.sub,\n",
    "    inp_div_LHFscaling=train_gen_LHF_nsDELQ.input_transform.div\n",
    ")"
   ]
  },
  {
   "cell_type": "markdown",
   "metadata": {},
   "source": [
    "## Evaluate on the (-4K) and (+4K) training & validation sets"
   ]
  },
  {
   "cell_type": "code",
   "execution_count": null,
   "metadata": {},
   "outputs": [],
   "source": [
    "MSEtrain_m4K = {}\n",
    "MSEvalid_m4K = {}"
   ]
  },
  {
   "cell_type": "code",
   "execution_count": null,
   "metadata": {},
   "outputs": [],
   "source": [
    "for i,partial_path in enumerate(NN_array):\n",
    "    \n",
    "    nam = NNa_nam[i]\n",
    "    \n",
    "    if i==1 or i==3: tgen =  train_gen_CI; vgen = valid_gen_CI;\n",
    "    else: tgen = train_gen_BF; vgen = valid_gen_BF;\n",
    "    \n",
    "    MSEtrain_m4K[nam] = NNa[nam].evaluate_generator(tgen)\n",
    "    MSEvalid_m4K[nam] = NNa[nam].evaluate_generator(vgen)\n",
    "    \n",
    "    print(nam,'MSE train=',MSEtrain_m4K[nam],'W2/m4')\n",
    "    print(nam,'MSE valid=',MSEvalid_m4K[nam],'W2/m4')"
   ]
  },
  {
   "cell_type": "code",
   "execution_count": null,
   "metadata": {},
   "outputs": [],
   "source": [
    "MSEtrain_p4K = {}\n",
    "MSEvalid_p4K = {}"
   ]
  },
  {
   "cell_type": "code",
   "execution_count": null,
   "metadata": {},
   "outputs": [],
   "source": [
    "for i,partial_path in enumerate(NN_array):\n",
    "    \n",
    "    nam = NNa_nam[i]\n",
    "    \n",
    "    if i==1 or i==3: tgen =  train_gen_CI_p4K; vgen = valid_gen_CI_p4K;\n",
    "    else: tgen = train_gen_BF_p4K; vgen = valid_gen_BF_p4K;\n",
    "    \n",
    "    MSEtrain_p4K[nam] = NNa[nam].evaluate_generator(tgen)\n",
    "    MSEvalid_p4K[nam] = NNa[nam].evaluate_generator(vgen)\n",
    "    \n",
    "    print(nam,'MSE train=',MSEtrain_p4K[nam],'W2/m4')\n",
    "    print(nam,'MSE valid=',MSEvalid_p4K[nam],'W2/m4')"
   ]
  },
  {
   "cell_type": "code",
   "execution_count": null,
   "metadata": {},
   "outputs": [],
   "source": [
    "path_PKL = '/DFS-L/DATA/pritchard/tbeucler/SPCAM/SPCAM_PHYS/PKL_DATA/'"
   ]
  },
  {
   "cell_type": "code",
   "execution_count": null,
   "metadata": {},
   "outputs": [],
   "source": [
    "save_name = '2022_01_21_MSE_TPHYSTND500'\n",
    "hf = open(pathPKL+save_name+'.pkl','wb')\n",
    "\n",
    "F_data = {'MSEtrain_m4K':MSEtrain_m4K,'MSEvalid_m4K':MSEvalid_m4K,\n",
    "         'MSEtrain_p4K':MSEtrain_p4K,'MSEvalid_p4K':MSEvalid_p4K}\n",
    "\n",
    "pickle.dump(F_data,hf)\n",
    "hf.close()"
   ]
  },
  {
   "cell_type": "markdown",
   "metadata": {},
   "source": [
    "## R$^{2}$ maps"
   ]
  },
  {
   "cell_type": "code",
   "execution_count": 24,
   "metadata": {},
   "outputs": [],
   "source": [
    "Nlat = 64\n",
    "Nlon = 128"
   ]
  },
  {
   "cell_type": "markdown",
   "metadata": {},
   "source": [
    "### M4K"
   ]
  },
  {
   "cell_type": "code",
   "execution_count": 32,
   "metadata": {},
   "outputs": [],
   "source": [
    "r2_map = {}"
   ]
  },
  {
   "cell_type": "code",
   "execution_count": 33,
   "metadata": {},
   "outputs": [
    {
     "name": "stdout",
     "output_type": "stream",
     "text": [
      "nam= BF & path= 2022_01_19_TRAIN_M4K_TPHYSTND500.nc & mean R2= 0.7393241\n",
      "nam= BF & path= 2022_01_19_VALID_M4K_TPHYSTND500.nc & mean R2= 0.7325992\n",
      "nam= CI & path= 2022_01_19_TRAIN_M4K_TPHYSTND500.nc & mean R2= 0.71714187\n",
      "nam= CI & path= 2022_01_19_VALID_M4K_TPHYSTND500.nc & mean R2= 0.6935266\n",
      "nam= BF_CC & path= 2022_01_19_TRAIN_M4K_TPHYSTND500.nc & mean R2= 0.72934556\n",
      "nam= BF_CC & path= 2022_01_19_VALID_M4K_TPHYSTND500.nc & mean R2= 0.71810675\n",
      "nam= CI_CC & path= 2022_01_19_TRAIN_M4K_TPHYSTND500.nc & mean R2= 0.5302124\n",
      "nam= CI_CC & path= 2022_01_19_VALID_M4K_TPHYSTND500.nc & mean R2= 0.5558325\n",
      "nam= BF_Corr & path= 2022_01_19_TRAIN_M4K_TPHYSTND500.nc & mean R2= 0.3851167\n",
      "nam= BF_Corr & path= 2022_01_19_VALID_M4K_TPHYSTND500.nc & mean R2= 0.35779548\n"
     ]
    }
   ],
   "source": [
    "for i,partial_path in enumerate(NN_array):\n",
    "    \n",
    "    nam = NNa_nam[i]\n",
    "    \n",
    "    if i==1 or i==3: tgen =  train_gen_CI; vgen = valid_gen_CI;\n",
    "    else: tgen = train_gen_BF; vgen = valid_gen_BF;\n",
    "    \n",
    "    for igen in range(2):\n",
    "        r2_map[nam] = {}\n",
    "        \n",
    "        if igen==0: gen = tgen; pat = '2022_01_19_TRAIN_M4K_TPHYSTND500.nc'\n",
    "        elif igen==1: gen = vgen; pat  = '2022_01_19_VALID_M4K_TPHYSTND500.nc'\n",
    "    \n",
    "        pred = NNa[nam].predict_generator(gen)\n",
    "        Nt = int(pred.shape[0]/(Nlat*Nlon))\n",
    "        pred = np.reshape(pred,(Nt,Nlat,Nlon))\n",
    "\n",
    "        pointer = xr.open_dataset(path_data + pat)\n",
    "        tru = pointer['vars'][:,-1].values\n",
    "        tru = np.reshape(tru,(Nt,Nlat,Nlon))\n",
    "        tru *= scale_dict['TPHYSTND500']\n",
    "\n",
    "        mse_map = np.mean((pred-tru)**2,axis=0)\n",
    "        var_map = np.var(tru,axis=0)\n",
    "        r2_map[nam][igen] = 1-mse_map/var_map\n",
    "        \n",
    "        print('nam=',nam,'& path=',pat,'& mean R2=',np.mean(r2_map[nam][igen],axis=(0,1)))"
   ]
  },
  {
   "cell_type": "markdown",
   "metadata": {},
   "source": [
    "### P4K"
   ]
  },
  {
   "cell_type": "code",
   "execution_count": 34,
   "metadata": {},
   "outputs": [],
   "source": [
    "r2_map_p4K = {}"
   ]
  },
  {
   "cell_type": "code",
   "execution_count": 35,
   "metadata": {},
   "outputs": [
    {
     "name": "stdout",
     "output_type": "stream",
     "text": [
      "nam= BF & path= 2022_01_21_TRAIN_P4K_TPHYSTND500.nc & mean R2= -20.613434\n",
      "nam= BF & path= 2022_01_21_VALID_P4K_TPHYSTND500.nc & mean R2= -22.813606\n",
      "nam= CI & path= 2022_01_21_TRAIN_P4K_TPHYSTND500.nc & mean R2= 0.6026372\n",
      "nam= CI & path= 2022_01_21_VALID_P4K_TPHYSTND500.nc & mean R2= 0.608308\n",
      "nam= BF_CC & path= 2022_01_21_TRAIN_P4K_TPHYSTND500.nc & mean R2= -2.0522282\n",
      "nam= BF_CC & path= 2022_01_21_VALID_P4K_TPHYSTND500.nc & mean R2= -2.3977652\n",
      "nam= CI_CC & path= 2022_01_21_TRAIN_P4K_TPHYSTND500.nc & mean R2= 0.5918704\n",
      "nam= CI_CC & path= 2022_01_21_VALID_P4K_TPHYSTND500.nc & mean R2= 0.58706844\n",
      "nam= BF_Corr & path= 2022_01_21_TRAIN_P4K_TPHYSTND500.nc & mean R2= -14.236197\n",
      "nam= BF_Corr & path= 2022_01_21_VALID_P4K_TPHYSTND500.nc & mean R2= -16.368206\n"
     ]
    }
   ],
   "source": [
    "for i,partial_path in enumerate(NN_array):\n",
    "    \n",
    "    nam = NNa_nam[i]\n",
    "    \n",
    "    if i==1 or i==3: tgen =  train_gen_CI_p4K; vgen = valid_gen_CI_p4K;\n",
    "    else: tgen = train_gen_BF_p4K; vgen = valid_gen_BF_p4K;\n",
    "    \n",
    "    for igen in range(2):\n",
    "        r2_map_p4K[nam] = {}\n",
    "        \n",
    "        if igen==0: gen = tgen; pat = '2022_01_21_TRAIN_P4K_TPHYSTND500.nc'\n",
    "        elif igen==1: gen = vgen; pat  = '2022_01_21_VALID_P4K_TPHYSTND500.nc'\n",
    "    \n",
    "        pred = NNa[nam].predict_generator(gen)\n",
    "        Nt = int(pred.shape[0]/(Nlat*Nlon))\n",
    "        pred = np.reshape(pred,(Nt,Nlat,Nlon))\n",
    "\n",
    "        pointer = xr.open_dataset(path_data + pat)\n",
    "        tru = pointer['vars'][:,-1].values\n",
    "        tru = np.reshape(tru,(Nt,Nlat,Nlon))\n",
    "        tru *= scale_dict['TPHYSTND500']\n",
    "\n",
    "        mse_map = np.mean((pred-tru)**2,axis=0)\n",
    "        var_map = np.var(tru,axis=0)\n",
    "        r2_map_p4K[nam][igen] = 1-mse_map/var_map\n",
    "        \n",
    "        print('nam=',nam,'& path=',pat,'& mean R2=',np.mean(r2_map_p4K[nam][igen],axis=(0,1)))"
   ]
  },
  {
   "cell_type": "markdown",
   "metadata": {},
   "source": [
    "### Save R2 maps"
   ]
  },
  {
   "cell_type": "code",
   "execution_count": 36,
   "metadata": {},
   "outputs": [],
   "source": [
    "save_name = '2022_01_22_R2_TPHYSTND500'\n",
    "hf = open(pathPKL+save_name+'.pkl','wb')"
   ]
  },
  {
   "cell_type": "code",
   "execution_count": 37,
   "metadata": {},
   "outputs": [],
   "source": [
    "F_data = {'r2_map':r2_map,'r2_map_p4K':r2_map_p4K}\n",
    "\n",
    "pickle.dump(F_data,hf)\n",
    "hf.close()"
   ]
  },
  {
   "cell_type": "markdown",
   "metadata": {},
   "source": [
    "### Earth-like/Real-geography"
   ]
  },
  {
   "cell_type": "code",
   "execution_count": 27,
   "metadata": {},
   "outputs": [],
   "source": [
    "path_train_RG = path_data + '2022_01_23_TRAIN_RG_M4K_TPHYSTND500.nc'\n",
    "path_valid_RG = path_data + '2022_01_23_VALID_RG_M4K_TPHYSTND500.nc'"
   ]
  },
  {
   "cell_type": "code",
   "execution_count": 41,
   "metadata": {},
   "outputs": [],
   "source": [
    "NlatRG = 96\n",
    "NlonRG = 144"
   ]
  },
  {
   "cell_type": "code",
   "execution_count": 101,
   "metadata": {},
   "outputs": [],
   "source": [
    "Nbatch = NlatRG*NlonRG"
   ]
  },
  {
   "cell_type": "code",
   "execution_count": 102,
   "metadata": {},
   "outputs": [
    {
     "data": {
      "text/plain": [
       "13824"
      ]
     },
     "execution_count": 102,
     "metadata": {},
     "output_type": "execute_result"
    }
   ],
   "source": [
    "Nbatch"
   ]
  },
  {
   "cell_type": "code",
   "execution_count": 105,
   "metadata": {},
   "outputs": [],
   "source": [
    "train_gen_BF_RG = DataGeneratorCI(\n",
    "    data_fn = path_train_RG,\n",
    "    input_vars = in_vars,\n",
    "    output_vars = out_vars,\n",
    "    norm_fn = path_norm,\n",
    "    input_transform = ('mean', 'maxrs'),\n",
    "    output_transform = scale_dict,\n",
    "    shuffle = False,\n",
    "    batch_size=Nbatch\n",
    ")\n",
    "\n",
    "valid_gen_BF_RG = DataGeneratorCI(\n",
    "    data_fn = path_valid_RG,\n",
    "    input_vars = in_vars,\n",
    "    output_vars = out_vars,\n",
    "    norm_fn = path_norm,\n",
    "    input_transform = ('mean', 'maxrs'),\n",
    "    output_transform = scale_dict,\n",
    "    shuffle = False,\n",
    "    batch_size=Nbatch\n",
    ")"
   ]
  },
  {
   "cell_type": "code",
   "execution_count": 106,
   "metadata": {},
   "outputs": [
    {
     "data": {
      "text/plain": [
       "(13824, 64)"
      ]
     },
     "execution_count": 106,
     "metadata": {},
     "output_type": "execute_result"
    }
   ],
   "source": [
    "train_gen_BF_RG[0][0].shape"
   ]
  },
  {
   "cell_type": "code",
   "execution_count": 107,
   "metadata": {},
   "outputs": [],
   "source": [
    "train_gen_CI_RG = DataGeneratorCI(\n",
    "    data_fn = path_train_RG,\n",
    "    input_vars = in_vars,\n",
    "    output_vars = out_vars,\n",
    "    norm_fn = path_norm,\n",
    "    input_transform = ('mean','maxrs'),\n",
    "    output_transform = scale_dict,\n",
    "    shuffle = False,\n",
    "    batch_size=Nbatch,\n",
    "    Qscaling = 'RH',\n",
    "    Tscaling = 'BMSE',\n",
    "    LHFscaling = 'LHF_nsDELQ',\n",
    "    hyam=hyam, hybm=hybm, # Arrays to define mid-levels of hybrid vertical coordinate\n",
    "    inp_sub_Qscaling=train_gen_RH.input_transform.sub, # What to subtract from RH inputs\n",
    "    inp_div_Qscaling=train_gen_RH.input_transform.div, # What to divide RH inputs by\n",
    "    inp_sub_Tscaling=train_gen_BMSE.input_transform.sub,\n",
    "    inp_div_Tscaling=train_gen_BMSE.input_transform.div,\n",
    "    inp_sub_LHFscaling=train_gen_LHF_nsDELQ.input_transform.sub,\n",
    "    inp_div_LHFscaling=train_gen_LHF_nsDELQ.input_transform.div\n",
    ")\n",
    "\n",
    "valid_gen_CI_RG = DataGeneratorCI(\n",
    "    data_fn = path_valid_RG,\n",
    "    input_vars = in_vars,\n",
    "    output_vars = out_vars,\n",
    "    norm_fn = path_norm,\n",
    "    input_transform = ('mean','maxrs'),\n",
    "    output_transform = scale_dict,\n",
    "    shuffle = False,\n",
    "    batch_size=Nbatch,\n",
    "    Qscaling = 'RH',\n",
    "    Tscaling = 'BMSE',\n",
    "    LHFscaling = 'LHF_nsDELQ',\n",
    "    hyam=hyam, hybm=hybm, # Arrays to define mid-levels of hybrid vertical coordinate\n",
    "    inp_sub_Qscaling=train_gen_RH.input_transform.sub, # What to subtract from RH inputs\n",
    "    inp_div_Qscaling=train_gen_RH.input_transform.div, # What to divide RH inputs by\n",
    "    inp_sub_Tscaling=train_gen_BMSE.input_transform.sub,\n",
    "    inp_div_Tscaling=train_gen_BMSE.input_transform.div,\n",
    "    inp_sub_LHFscaling=train_gen_LHF_nsDELQ.input_transform.sub,\n",
    "    inp_div_LHFscaling=train_gen_LHF_nsDELQ.input_transform.div\n",
    ")"
   ]
  },
  {
   "cell_type": "code",
   "execution_count": 126,
   "metadata": {},
   "outputs": [],
   "source": [
    "r2_map_RG ={}"
   ]
  },
  {
   "cell_type": "code",
   "execution_count": 127,
   "metadata": {},
   "outputs": [
    {
     "name": "stdout",
     "output_type": "stream",
     "text": [
      "nam= BF & path= 2022_01_23_TRAIN_RG_M4K_TPHYSTND500.nc & mean R2= -122.075676\n",
      "nam= BF & path= 2022_01_23_VALID_RG_M4K_TPHYSTND500.nc & mean R2= -95.911125\n",
      "nam= CI & path= 2022_01_23_TRAIN_RG_M4K_TPHYSTND500.nc & mean R2= -7.370602\n",
      "nam= CI & path= 2022_01_23_VALID_RG_M4K_TPHYSTND500.nc & mean R2= -2.978381\n",
      "nam= BF_CC & path= 2022_01_23_TRAIN_RG_M4K_TPHYSTND500.nc & mean R2= -66.35996\n",
      "nam= BF_CC & path= 2022_01_23_VALID_RG_M4K_TPHYSTND500.nc & mean R2= -57.67986\n",
      "nam= CI_CC & path= 2022_01_23_TRAIN_RG_M4K_TPHYSTND500.nc & mean R2= -499.2785\n",
      "nam= CI_CC & path= 2022_01_23_VALID_RG_M4K_TPHYSTND500.nc & mean R2= -377.40326\n",
      "nam= BF_Corr & path= 2022_01_23_TRAIN_RG_M4K_TPHYSTND500.nc & mean R2= -1.0019149\n",
      "nam= BF_Corr & path= 2022_01_23_VALID_RG_M4K_TPHYSTND500.nc & mean R2= -1.0061836\n"
     ]
    }
   ],
   "source": [
    "for i,partial_path in enumerate(NN_array):\n",
    "    \n",
    "    nam = NNa_nam[i]\n",
    "    \n",
    "    if i==1 or i==3: tgen =  train_gen_CI_RG; vgen = valid_gen_CI_RG;\n",
    "    else: tgen = train_gen_BF_RG; vgen = valid_gen_BF_RG;\n",
    "    \n",
    "    r2_map_RG[nam] = {}\n",
    "    for igen in range(2):\n",
    "        \n",
    "        if igen==0: gen = tgen; pat = '2022_01_23_TRAIN_RG_M4K_TPHYSTND500.nc'\n",
    "        elif igen==1: gen = vgen; pat  = '2022_01_23_VALID_RG_M4K_TPHYSTND500.nc'\n",
    "    \n",
    "        pred = NNa[nam].predict_generator(gen)\n",
    "        Nt = int(pred.shape[0]/(NlatRG*NlonRG))\n",
    "        pred = np.reshape(pred,(Nt,NlatRG,NlonRG))\n",
    "\n",
    "        pointer = xr.open_dataset(path_data + pat)\n",
    "        tru = pointer['vars'][:,-1].values\n",
    "        tru = np.reshape(tru,(Nt,NlatRG,NlonRG))\n",
    "        tru *= scale_dict['TPHYSTND500']\n",
    "\n",
    "        mse_map = np.mean((pred-tru)**2,axis=0)\n",
    "        var_map = np.var(tru,axis=0)\n",
    "        r2_map_RG[nam][igen] = 1-mse_map/var_map\n",
    "        \n",
    "        print('nam=',nam,'& path=',pat,'& mean R2=',np.mean(r2_map_RG[nam][igen],axis=(0,1)))"
   ]
  },
  {
   "cell_type": "code",
   "execution_count": 128,
   "metadata": {},
   "outputs": [],
   "source": [
    "save_name = '2022_01_23_R2_TPHYSTND500_RG'\n",
    "hf = open(pathPKL+save_name+'.pkl','wb')"
   ]
  },
  {
   "cell_type": "code",
   "execution_count": 129,
   "metadata": {},
   "outputs": [],
   "source": [
    "F_data = {'r2_map_RG':r2_map_RG}\n",
    "\n",
    "pickle.dump(F_data,hf)\n",
    "hf.close()"
   ]
  },
  {
   "cell_type": "code",
   "execution_count": 130,
   "metadata": {},
   "outputs": [],
   "source": [
    "MSEtrain_RG = {}\n",
    "MSEvalid_RG = {}"
   ]
  },
  {
   "cell_type": "code",
   "execution_count": 131,
   "metadata": {},
   "outputs": [
    {
     "name": "stdout",
     "output_type": "stream",
     "text": [
      "BF MSE train= 2446.869571006542 W2/m4\n",
      "BF MSE valid= 2456.0518914344643 W2/m4\n",
      "CI MSE train= 1383.6089118848486 W2/m4\n",
      "CI MSE valid= 1382.787484962814 W2/m4\n",
      "BF_CC MSE train= 2072.071883795758 W2/m4\n",
      "BF_CC MSE valid= 2143.7870518642762 W2/m4\n",
      "CI_CC MSE train= 4747.396815671659 W2/m4\n",
      "CI_CC MSE valid= 4701.162263931386 W2/m4\n",
      "BF_Corr MSE train= 1508.5679398260784 W2/m4\n",
      "BF_Corr MSE valid= 1552.1902202725548 W2/m4\n"
     ]
    }
   ],
   "source": [
    "for i,partial_path in enumerate(NN_array):\n",
    "    \n",
    "    nam = NNa_nam[i]\n",
    "    \n",
    "    if i==1 or i==3: tgen =  train_gen_CI_RG; vgen = valid_gen_CI_RG;\n",
    "    else: tgen = train_gen_BF_RG; vgen = valid_gen_BF_RG;\n",
    "    \n",
    "    MSEtrain_RG[nam] = NNa[nam].evaluate_generator(tgen)\n",
    "    MSEvalid_RG[nam] = NNa[nam].evaluate_generator(vgen)\n",
    "    \n",
    "    print(nam,'MSE train=',MSEtrain_RG[nam],'W2/m4')\n",
    "    print(nam,'MSE valid=',MSEvalid_RG[nam],'W2/m4')"
   ]
  },
  {
   "cell_type": "code",
   "execution_count": 132,
   "metadata": {},
   "outputs": [],
   "source": [
    "path_PKL = '/DFS-L/DATA/pritchard/tbeucler/SPCAM/SPCAM_PHYS/PKL_DATA/'"
   ]
  },
  {
   "cell_type": "code",
   "execution_count": 133,
   "metadata": {},
   "outputs": [],
   "source": [
    "save_name = '2022_01_23_MSE_TPHYSTND500_RG'\n",
    "hf = open(pathPKL+save_name+'.pkl','wb')\n",
    "\n",
    "F_data = {'MSEtrain_RG':MSEtrain_RG,'MSEvalid_RG':MSEvalid_RG}\n",
    "\n",
    "pickle.dump(F_data,hf)\n",
    "hf.close()"
   ]
  },
  {
   "cell_type": "markdown",
   "metadata": {},
   "source": [
    "### Developing the R2 calculation"
   ]
  },
  {
   "cell_type": "code",
   "execution_count": 65,
   "metadata": {},
   "outputs": [
    {
     "data": {
      "text/plain": [
       "10356.0"
      ]
     },
     "execution_count": 65,
     "metadata": {},
     "output_type": "execute_result"
    }
   ],
   "source": [
    "143161344/(144*96)"
   ]
  },
  {
   "cell_type": "code",
   "execution_count": 64,
   "metadata": {},
   "outputs": [
    {
     "data": {
      "text/html": [
       "<div><svg style=\"position: absolute; width: 0; height: 0; overflow: hidden\">\n",
       "<defs>\n",
       "<symbol id=\"icon-database\" viewBox=\"0 0 32 32\">\n",
       "<title>Show/Hide data repr</title>\n",
       "<path d=\"M16 0c-8.837 0-16 2.239-16 5v4c0 2.761 7.163 5 16 5s16-2.239 16-5v-4c0-2.761-7.163-5-16-5z\"></path>\n",
       "<path d=\"M16 17c-8.837 0-16-2.239-16-5v6c0 2.761 7.163 5 16 5s16-2.239 16-5v-6c0 2.761-7.163 5-16 5z\"></path>\n",
       "<path d=\"M16 26c-8.837 0-16-2.239-16-5v6c0 2.761 7.163 5 16 5s16-2.239 16-5v-6c0 2.761-7.163 5-16 5z\"></path>\n",
       "</symbol>\n",
       "<symbol id=\"icon-file-text2\" viewBox=\"0 0 32 32\">\n",
       "<title>Show/Hide attributes</title>\n",
       "<path d=\"M28.681 7.159c-0.694-0.947-1.662-2.053-2.724-3.116s-2.169-2.030-3.116-2.724c-1.612-1.182-2.393-1.319-2.841-1.319h-15.5c-1.378 0-2.5 1.121-2.5 2.5v27c0 1.378 1.122 2.5 2.5 2.5h23c1.378 0 2.5-1.122 2.5-2.5v-19.5c0-0.448-0.137-1.23-1.319-2.841zM24.543 5.457c0.959 0.959 1.712 1.825 2.268 2.543h-4.811v-4.811c0.718 0.556 1.584 1.309 2.543 2.268zM28 29.5c0 0.271-0.229 0.5-0.5 0.5h-23c-0.271 0-0.5-0.229-0.5-0.5v-27c0-0.271 0.229-0.5 0.5-0.5 0 0 15.499-0 15.5 0v7c0 0.552 0.448 1 1 1h7v19.5z\"></path>\n",
       "<path d=\"M23 26h-14c-0.552 0-1-0.448-1-1s0.448-1 1-1h14c0.552 0 1 0.448 1 1s-0.448 1-1 1z\"></path>\n",
       "<path d=\"M23 22h-14c-0.552 0-1-0.448-1-1s0.448-1 1-1h14c0.552 0 1 0.448 1 1s-0.448 1-1 1z\"></path>\n",
       "<path d=\"M23 18h-14c-0.552 0-1-0.448-1-1s0.448-1 1-1h14c0.552 0 1 0.448 1 1s-0.448 1-1 1z\"></path>\n",
       "</symbol>\n",
       "</defs>\n",
       "</svg>\n",
       "<style>/* CSS stylesheet for displaying xarray objects in jupyterlab.\n",
       " *\n",
       " */\n",
       "\n",
       ":root {\n",
       "  --xr-font-color0: var(--jp-content-font-color0, rgba(0, 0, 0, 1));\n",
       "  --xr-font-color2: var(--jp-content-font-color2, rgba(0, 0, 0, 0.54));\n",
       "  --xr-font-color3: var(--jp-content-font-color3, rgba(0, 0, 0, 0.38));\n",
       "  --xr-border-color: var(--jp-border-color2, #e0e0e0);\n",
       "  --xr-disabled-color: var(--jp-layout-color3, #bdbdbd);\n",
       "  --xr-background-color: var(--jp-layout-color0, white);\n",
       "  --xr-background-color-row-even: var(--jp-layout-color1, white);\n",
       "  --xr-background-color-row-odd: var(--jp-layout-color2, #eeeeee);\n",
       "}\n",
       "\n",
       ".xr-wrap {\n",
       "  min-width: 300px;\n",
       "  max-width: 700px;\n",
       "}\n",
       "\n",
       ".xr-header {\n",
       "  padding-top: 6px;\n",
       "  padding-bottom: 6px;\n",
       "  margin-bottom: 4px;\n",
       "  border-bottom: solid 1px var(--xr-border-color);\n",
       "}\n",
       "\n",
       ".xr-header > div,\n",
       ".xr-header > ul {\n",
       "  display: inline;\n",
       "  margin-top: 0;\n",
       "  margin-bottom: 0;\n",
       "}\n",
       "\n",
       ".xr-obj-type,\n",
       ".xr-array-name {\n",
       "  margin-left: 2px;\n",
       "  margin-right: 10px;\n",
       "}\n",
       "\n",
       ".xr-obj-type {\n",
       "  color: var(--xr-font-color2);\n",
       "}\n",
       "\n",
       ".xr-sections {\n",
       "  padding-left: 0 !important;\n",
       "  display: grid;\n",
       "  grid-template-columns: 150px auto auto 1fr 20px 20px;\n",
       "}\n",
       "\n",
       ".xr-section-item {\n",
       "  display: contents;\n",
       "}\n",
       "\n",
       ".xr-section-item input {\n",
       "  display: none;\n",
       "}\n",
       "\n",
       ".xr-section-item input + label {\n",
       "  color: var(--xr-disabled-color);\n",
       "}\n",
       "\n",
       ".xr-section-item input:enabled + label {\n",
       "  cursor: pointer;\n",
       "  color: var(--xr-font-color2);\n",
       "}\n",
       "\n",
       ".xr-section-item input:enabled + label:hover {\n",
       "  color: var(--xr-font-color0);\n",
       "}\n",
       "\n",
       ".xr-section-summary {\n",
       "  grid-column: 1;\n",
       "  color: var(--xr-font-color2);\n",
       "  font-weight: 500;\n",
       "}\n",
       "\n",
       ".xr-section-summary > span {\n",
       "  display: inline-block;\n",
       "  padding-left: 0.5em;\n",
       "}\n",
       "\n",
       ".xr-section-summary-in:disabled + label {\n",
       "  color: var(--xr-font-color2);\n",
       "}\n",
       "\n",
       ".xr-section-summary-in + label:before {\n",
       "  display: inline-block;\n",
       "  content: '►';\n",
       "  font-size: 11px;\n",
       "  width: 15px;\n",
       "  text-align: center;\n",
       "}\n",
       "\n",
       ".xr-section-summary-in:disabled + label:before {\n",
       "  color: var(--xr-disabled-color);\n",
       "}\n",
       "\n",
       ".xr-section-summary-in:checked + label:before {\n",
       "  content: '▼';\n",
       "}\n",
       "\n",
       ".xr-section-summary-in:checked + label > span {\n",
       "  display: none;\n",
       "}\n",
       "\n",
       ".xr-section-summary,\n",
       ".xr-section-inline-details {\n",
       "  padding-top: 4px;\n",
       "  padding-bottom: 4px;\n",
       "}\n",
       "\n",
       ".xr-section-inline-details {\n",
       "  grid-column: 2 / -1;\n",
       "}\n",
       "\n",
       ".xr-section-details {\n",
       "  display: none;\n",
       "  grid-column: 1 / -1;\n",
       "  margin-bottom: 5px;\n",
       "}\n",
       "\n",
       ".xr-section-summary-in:checked ~ .xr-section-details {\n",
       "  display: contents;\n",
       "}\n",
       "\n",
       ".xr-array-wrap {\n",
       "  grid-column: 1 / -1;\n",
       "  display: grid;\n",
       "  grid-template-columns: 20px auto;\n",
       "}\n",
       "\n",
       ".xr-array-wrap > label {\n",
       "  grid-column: 1;\n",
       "  vertical-align: top;\n",
       "}\n",
       "\n",
       ".xr-preview {\n",
       "  color: var(--xr-font-color3);\n",
       "}\n",
       "\n",
       ".xr-array-preview,\n",
       ".xr-array-data {\n",
       "  padding: 0 5px !important;\n",
       "  grid-column: 2;\n",
       "}\n",
       "\n",
       ".xr-array-data,\n",
       ".xr-array-in:checked ~ .xr-array-preview {\n",
       "  display: none;\n",
       "}\n",
       "\n",
       ".xr-array-in:checked ~ .xr-array-data,\n",
       ".xr-array-preview {\n",
       "  display: inline-block;\n",
       "}\n",
       "\n",
       ".xr-dim-list {\n",
       "  display: inline-block !important;\n",
       "  list-style: none;\n",
       "  padding: 0 !important;\n",
       "  margin: 0;\n",
       "}\n",
       "\n",
       ".xr-dim-list li {\n",
       "  display: inline-block;\n",
       "  padding: 0;\n",
       "  margin: 0;\n",
       "}\n",
       "\n",
       ".xr-dim-list:before {\n",
       "  content: '(';\n",
       "}\n",
       "\n",
       ".xr-dim-list:after {\n",
       "  content: ')';\n",
       "}\n",
       "\n",
       ".xr-dim-list li:not(:last-child):after {\n",
       "  content: ',';\n",
       "  padding-right: 5px;\n",
       "}\n",
       "\n",
       ".xr-has-index {\n",
       "  font-weight: bold;\n",
       "}\n",
       "\n",
       ".xr-var-list,\n",
       ".xr-var-item {\n",
       "  display: contents;\n",
       "}\n",
       "\n",
       ".xr-var-item > div,\n",
       ".xr-var-item label,\n",
       ".xr-var-item > .xr-var-name span {\n",
       "  background-color: var(--xr-background-color-row-even);\n",
       "  margin-bottom: 0;\n",
       "}\n",
       "\n",
       ".xr-var-item > .xr-var-name:hover span {\n",
       "  padding-right: 5px;\n",
       "}\n",
       "\n",
       ".xr-var-list > li:nth-child(odd) > div,\n",
       ".xr-var-list > li:nth-child(odd) > label,\n",
       ".xr-var-list > li:nth-child(odd) > .xr-var-name span {\n",
       "  background-color: var(--xr-background-color-row-odd);\n",
       "}\n",
       "\n",
       ".xr-var-name {\n",
       "  grid-column: 1;\n",
       "}\n",
       "\n",
       ".xr-var-dims {\n",
       "  grid-column: 2;\n",
       "}\n",
       "\n",
       ".xr-var-dtype {\n",
       "  grid-column: 3;\n",
       "  text-align: right;\n",
       "  color: var(--xr-font-color2);\n",
       "}\n",
       "\n",
       ".xr-var-preview {\n",
       "  grid-column: 4;\n",
       "}\n",
       "\n",
       ".xr-var-name,\n",
       ".xr-var-dims,\n",
       ".xr-var-dtype,\n",
       ".xr-preview,\n",
       ".xr-attrs dt {\n",
       "  white-space: nowrap;\n",
       "  overflow: hidden;\n",
       "  text-overflow: ellipsis;\n",
       "  padding-right: 10px;\n",
       "}\n",
       "\n",
       ".xr-var-name:hover,\n",
       ".xr-var-dims:hover,\n",
       ".xr-var-dtype:hover,\n",
       ".xr-attrs dt:hover {\n",
       "  overflow: visible;\n",
       "  width: auto;\n",
       "  z-index: 1;\n",
       "}\n",
       "\n",
       ".xr-var-attrs,\n",
       ".xr-var-data {\n",
       "  display: none;\n",
       "  background-color: var(--xr-background-color) !important;\n",
       "  padding-bottom: 5px !important;\n",
       "}\n",
       "\n",
       ".xr-var-attrs-in:checked ~ .xr-var-attrs,\n",
       ".xr-var-data-in:checked ~ .xr-var-data {\n",
       "  display: block;\n",
       "}\n",
       "\n",
       ".xr-var-data > table {\n",
       "  float: right;\n",
       "}\n",
       "\n",
       ".xr-var-name span,\n",
       ".xr-var-data,\n",
       ".xr-attrs {\n",
       "  padding-left: 25px !important;\n",
       "}\n",
       "\n",
       ".xr-attrs,\n",
       ".xr-var-attrs,\n",
       ".xr-var-data {\n",
       "  grid-column: 1 / -1;\n",
       "}\n",
       "\n",
       "dl.xr-attrs {\n",
       "  padding: 0;\n",
       "  margin: 0;\n",
       "  display: grid;\n",
       "  grid-template-columns: 125px auto;\n",
       "}\n",
       "\n",
       ".xr-attrs dt, dd {\n",
       "  padding: 0;\n",
       "  margin: 0;\n",
       "  float: left;\n",
       "  padding-right: 10px;\n",
       "  width: auto;\n",
       "}\n",
       "\n",
       ".xr-attrs dt {\n",
       "  font-weight: normal;\n",
       "  grid-column: 1;\n",
       "}\n",
       "\n",
       ".xr-attrs dt:hover span {\n",
       "  display: inline-block;\n",
       "  background: var(--xr-background-color);\n",
       "  padding-right: 10px;\n",
       "}\n",
       "\n",
       ".xr-attrs dd {\n",
       "  grid-column: 2;\n",
       "  white-space: pre-wrap;\n",
       "  word-break: break-all;\n",
       "}\n",
       "\n",
       ".xr-icon-database,\n",
       ".xr-icon-file-text2 {\n",
       "  display: inline-block;\n",
       "  vertical-align: middle;\n",
       "  width: 1em;\n",
       "  height: 1.5em !important;\n",
       "  stroke-width: 0;\n",
       "  stroke: currentColor;\n",
       "  fill: currentColor;\n",
       "}\n",
       "</style><div class='xr-wrap'><div class='xr-header'><div class='xr-obj-type'>xarray.Dataset</div></div><ul class='xr-sections'><li class='xr-section-item'><input id='section-b16fe14e-a091-4607-8a7e-260b851ad75f' class='xr-section-summary-in' type='checkbox' disabled ><label for='section-b16fe14e-a091-4607-8a7e-260b851ad75f' class='xr-section-summary'  title='Expand/collapse section'>Dimensions:</label><div class='xr-section-inline-details'><ul class='xr-dim-list'><li><span>sample</span>: 143161344</li><li><span class='xr-has-index'>var_names</span>: 65</li></ul></div><div class='xr-section-details'></div></li><li class='xr-section-item'><input id='section-d5e1dc20-d29d-464b-818a-3770f5a0ca4f' class='xr-section-summary-in' type='checkbox'  checked><label for='section-d5e1dc20-d29d-464b-818a-3770f5a0ca4f' class='xr-section-summary' >Coordinates: <span>(4)</span></label><div class='xr-section-inline-details'></div><div class='xr-section-details'><ul class='xr-var-list'><li class='xr-var-item'><div class='xr-var-name'><span class='xr-has-index'>var_names</span></div><div class='xr-var-dims'>(var_names)</div><div class='xr-var-dtype'>object</div><div class='xr-var-preview xr-preview'>&#x27;QBP&#x27; &#x27;QBP&#x27; ... &#x27;TPHYSTND500&#x27;</div><input id='attrs-e8d97e24-9da0-4585-87ee-25a5aaa7b6ae' class='xr-var-attrs-in' type='checkbox' disabled><label for='attrs-e8d97e24-9da0-4585-87ee-25a5aaa7b6ae' title='Show/Hide attributes'><svg class='icon xr-icon-file-text2'><use xlink:href='#icon-file-text2'></use></svg></label><input id='data-72592ab4-70bd-49f3-b49b-59a875717d62' class='xr-var-data-in' type='checkbox'><label for='data-72592ab4-70bd-49f3-b49b-59a875717d62' title='Show/Hide data repr'><svg class='icon xr-icon-database'><use xlink:href='#icon-database'></use></svg></label><div class='xr-var-attrs'><dl class='xr-attrs'></dl></div><pre class='xr-var-data'>array([&#x27;QBP&#x27;, &#x27;QBP&#x27;, &#x27;QBP&#x27;, &#x27;QBP&#x27;, &#x27;QBP&#x27;, &#x27;QBP&#x27;, &#x27;QBP&#x27;, &#x27;QBP&#x27;, &#x27;QBP&#x27;, &#x27;QBP&#x27;,\n",
       "       &#x27;QBP&#x27;, &#x27;QBP&#x27;, &#x27;QBP&#x27;, &#x27;QBP&#x27;, &#x27;QBP&#x27;, &#x27;QBP&#x27;, &#x27;QBP&#x27;, &#x27;QBP&#x27;, &#x27;QBP&#x27;, &#x27;QBP&#x27;,\n",
       "       &#x27;QBP&#x27;, &#x27;QBP&#x27;, &#x27;QBP&#x27;, &#x27;QBP&#x27;, &#x27;QBP&#x27;, &#x27;QBP&#x27;, &#x27;QBP&#x27;, &#x27;QBP&#x27;, &#x27;QBP&#x27;, &#x27;QBP&#x27;,\n",
       "       &#x27;TBP&#x27;, &#x27;TBP&#x27;, &#x27;TBP&#x27;, &#x27;TBP&#x27;, &#x27;TBP&#x27;, &#x27;TBP&#x27;, &#x27;TBP&#x27;, &#x27;TBP&#x27;, &#x27;TBP&#x27;, &#x27;TBP&#x27;,\n",
       "       &#x27;TBP&#x27;, &#x27;TBP&#x27;, &#x27;TBP&#x27;, &#x27;TBP&#x27;, &#x27;TBP&#x27;, &#x27;TBP&#x27;, &#x27;TBP&#x27;, &#x27;TBP&#x27;, &#x27;TBP&#x27;, &#x27;TBP&#x27;,\n",
       "       &#x27;TBP&#x27;, &#x27;TBP&#x27;, &#x27;TBP&#x27;, &#x27;TBP&#x27;, &#x27;TBP&#x27;, &#x27;TBP&#x27;, &#x27;TBP&#x27;, &#x27;TBP&#x27;, &#x27;TBP&#x27;, &#x27;TBP&#x27;,\n",
       "       &#x27;PS&#x27;, &#x27;SOLIN&#x27;, &#x27;SHFLX&#x27;, &#x27;LHFLX&#x27;, &#x27;TPHYSTND500&#x27;], dtype=object)</pre></li><li class='xr-var-item'><div class='xr-var-name'><span>time</span></div><div class='xr-var-dims'>(sample)</div><div class='xr-var-dtype'>int64</div><div class='xr-var-preview xr-preview'>...</div><input id='attrs-0684e74b-1083-45b1-838d-b7f706fc0f67' class='xr-var-attrs-in' type='checkbox' disabled><label for='attrs-0684e74b-1083-45b1-838d-b7f706fc0f67' title='Show/Hide attributes'><svg class='icon xr-icon-file-text2'><use xlink:href='#icon-file-text2'></use></svg></label><input id='data-54ba3c66-fe03-4d93-82b9-b203af070544' class='xr-var-data-in' type='checkbox'><label for='data-54ba3c66-fe03-4d93-82b9-b203af070544' title='Show/Hide data repr'><svg class='icon xr-icon-database'><use xlink:href='#icon-database'></use></svg></label><div class='xr-var-attrs'><dl class='xr-attrs'></dl></div><pre class='xr-var-data'>[143161344 values with dtype=int64]</pre></li><li class='xr-var-item'><div class='xr-var-name'><span>lat</span></div><div class='xr-var-dims'>(sample)</div><div class='xr-var-dtype'>float64</div><div class='xr-var-preview xr-preview'>...</div><input id='attrs-b9fd70e6-92fe-4249-bc8e-1f1b5fb644f1' class='xr-var-attrs-in' type='checkbox' disabled><label for='attrs-b9fd70e6-92fe-4249-bc8e-1f1b5fb644f1' title='Show/Hide attributes'><svg class='icon xr-icon-file-text2'><use xlink:href='#icon-file-text2'></use></svg></label><input id='data-06cad52c-cdef-441e-b5c6-b2d63b3c67fa' class='xr-var-data-in' type='checkbox'><label for='data-06cad52c-cdef-441e-b5c6-b2d63b3c67fa' title='Show/Hide data repr'><svg class='icon xr-icon-database'><use xlink:href='#icon-database'></use></svg></label><div class='xr-var-attrs'><dl class='xr-attrs'></dl></div><pre class='xr-var-data'>[143161344 values with dtype=float64]</pre></li><li class='xr-var-item'><div class='xr-var-name'><span>lon</span></div><div class='xr-var-dims'>(sample)</div><div class='xr-var-dtype'>float64</div><div class='xr-var-preview xr-preview'>...</div><input id='attrs-3aaec979-3938-4f60-8f60-b29a0ac61d45' class='xr-var-attrs-in' type='checkbox' disabled><label for='attrs-3aaec979-3938-4f60-8f60-b29a0ac61d45' title='Show/Hide attributes'><svg class='icon xr-icon-file-text2'><use xlink:href='#icon-file-text2'></use></svg></label><input id='data-06ec8e3a-bcf3-4faa-84e1-c46a9cb45954' class='xr-var-data-in' type='checkbox'><label for='data-06ec8e3a-bcf3-4faa-84e1-c46a9cb45954' title='Show/Hide data repr'><svg class='icon xr-icon-database'><use xlink:href='#icon-database'></use></svg></label><div class='xr-var-attrs'><dl class='xr-attrs'></dl></div><pre class='xr-var-data'>[143161344 values with dtype=float64]</pre></li></ul></div></li><li class='xr-section-item'><input id='section-997ba798-2a03-4aa8-9acc-2b31aa6ee213' class='xr-section-summary-in' type='checkbox'  checked><label for='section-997ba798-2a03-4aa8-9acc-2b31aa6ee213' class='xr-section-summary' >Data variables: <span>(1)</span></label><div class='xr-section-inline-details'></div><div class='xr-section-details'><ul class='xr-var-list'><li class='xr-var-item'><div class='xr-var-name'><span>vars</span></div><div class='xr-var-dims'>(sample, var_names)</div><div class='xr-var-dtype'>float32</div><div class='xr-var-preview xr-preview'>...</div><input id='attrs-497f12d2-0763-4b90-984f-318de380a643' class='xr-var-attrs-in' type='checkbox' ><label for='attrs-497f12d2-0763-4b90-984f-318de380a643' title='Show/Hide attributes'><svg class='icon xr-icon-file-text2'><use xlink:href='#icon-file-text2'></use></svg></label><input id='data-0188bb75-ddad-4740-9d18-5691761ee198' class='xr-var-data-in' type='checkbox'><label for='data-0188bb75-ddad-4740-9d18-5691761ee198' title='Show/Hide data repr'><svg class='icon xr-icon-database'><use xlink:href='#icon-database'></use></svg></label><div class='xr-var-attrs'><dl class='xr-attrs'><dt><span>mdims :</span></dt><dd>1</dd><dt><span>units :</span></dt><dd>kg/kg</dd><dt><span>long_name :</span></dt><dd>Specific humidity                                                                                                                (before physics)</dd></dl></div><pre class='xr-var-data'>[9305487360 values with dtype=float32]</pre></li></ul></div></li><li class='xr-section-item'><input id='section-100dfe75-4a7a-44d4-b14d-c3599888ab3b' class='xr-section-summary-in' type='checkbox' disabled ><label for='section-100dfe75-4a7a-44d4-b14d-c3599888ab3b' class='xr-section-summary'  title='Expand/collapse section'>Attributes: <span>(0)</span></label><div class='xr-section-inline-details'></div><div class='xr-section-details'><dl class='xr-attrs'></dl></div></li></ul></div></div>"
      ],
      "text/plain": [
       "<xarray.Dataset>\n",
       "Dimensions:    (sample: 143161344, var_names: 65)\n",
       "Coordinates:\n",
       "  * var_names  (var_names) object 'QBP' 'QBP' 'QBP' ... 'LHFLX' 'TPHYSTND500'\n",
       "    time       (sample) int64 ...\n",
       "    lat        (sample) float64 ...\n",
       "    lon        (sample) float64 ...\n",
       "Dimensions without coordinates: sample\n",
       "Data variables:\n",
       "    vars       (sample, var_names) float32 ..."
      ]
     },
     "execution_count": 64,
     "metadata": {},
     "output_type": "execute_result"
    }
   ],
   "source": [
    "pointer"
   ]
  },
  {
   "cell_type": "code",
   "execution_count": 66,
   "metadata": {},
   "outputs": [
    {
     "data": {
      "text/plain": [
       "143155200"
      ]
     },
     "execution_count": 66,
     "metadata": {},
     "output_type": "execute_result"
    }
   ],
   "source": [
    "test.shape[0]"
   ]
  },
  {
   "cell_type": "code",
   "execution_count": 93,
   "metadata": {},
   "outputs": [
    {
     "data": {
      "text/plain": [
       "17475"
      ]
     },
     "execution_count": 93,
     "metadata": {},
     "output_type": "execute_result"
    }
   ],
   "source": [
    "train_gen_BF_RG.n_batches"
   ]
  },
  {
   "cell_type": "code",
   "execution_count": 94,
   "metadata": {},
   "outputs": [
    {
     "data": {
      "text/plain": [
       "13824"
      ]
     },
     "execution_count": 94,
     "metadata": {},
     "output_type": "execute_result"
    }
   ],
   "source": [
    "Nbatch"
   ]
  },
  {
   "cell_type": "code",
   "execution_count": 100,
   "metadata": {},
   "outputs": [
    {
     "data": {
      "text/plain": [
       "(8192, 64)"
      ]
     },
     "execution_count": 100,
     "metadata": {},
     "output_type": "execute_result"
    }
   ],
   "source": [
    "train_gen_BF_RG[10359][0].shape"
   ]
  },
  {
   "cell_type": "code",
   "execution_count": 95,
   "metadata": {},
   "outputs": [
    {
     "data": {
      "text/plain": [
       "241574400"
      ]
     },
     "execution_count": 95,
     "metadata": {},
     "output_type": "execute_result"
    }
   ],
   "source": [
    "13824*17475"
   ]
  },
  {
   "cell_type": "code",
   "execution_count": 96,
   "metadata": {},
   "outputs": [
    {
     "data": {
      "text/plain": [
       "10356.0"
      ]
     },
     "execution_count": 96,
     "metadata": {},
     "output_type": "execute_result"
    }
   ],
   "source": [
    "train_gen_BF_RG.n_samples/Nbatch"
   ]
  },
  {
   "cell_type": "code",
   "execution_count": 82,
   "metadata": {},
   "outputs": [],
   "source": [
    "test = NNa['BF'].predict_generator(train_gen_BF_RG)"
   ]
  },
  {
   "cell_type": "code",
   "execution_count": 83,
   "metadata": {},
   "outputs": [
    {
     "data": {
      "text/plain": [
       "(143155200, 1)"
      ]
     },
     "execution_count": 83,
     "metadata": {},
     "output_type": "execute_result"
    }
   ],
   "source": [
    "test.shape"
   ]
  },
  {
   "cell_type": "code",
   "execution_count": 92,
   "metadata": {},
   "outputs": [
    {
     "data": {
      "text/plain": [
       "array([[ 8.198724  ],\n",
       "       [-0.11333379],\n",
       "       [-1.4577459 ],\n",
       "       ...,\n",
       "       [-6.980583  ],\n",
       "       [-7.1874638 ],\n",
       "       [-7.381777  ]], dtype=float32)"
      ]
     },
     "execution_count": 92,
     "metadata": {},
     "output_type": "execute_result"
    }
   ],
   "source": [
    "train_gen_BF_RG[500][1]"
   ]
  },
  {
   "cell_type": "code",
   "execution_count": 47,
   "metadata": {},
   "outputs": [],
   "source": [
    "Nt = int(test.shape[0]/(NlonRG*NlatRG))"
   ]
  },
  {
   "cell_type": "code",
   "execution_count": 48,
   "metadata": {},
   "outputs": [
    {
     "data": {
      "text/plain": [
       "10355.555555555555"
      ]
     },
     "execution_count": 48,
     "metadata": {},
     "output_type": "execute_result"
    }
   ],
   "source": [
    "test.shape[0]/(NlonRG*NlatRG)"
   ]
  },
  {
   "cell_type": "code",
   "execution_count": 54,
   "metadata": {},
   "outputs": [],
   "source": [
    "test2 = np.reshape(test[:(Nt*NlatRG*NlonRG)],(Nt,NlatRG,NlonRG))"
   ]
  },
  {
   "cell_type": "code",
   "execution_count": 55,
   "metadata": {},
   "outputs": [
    {
     "data": {
      "text/plain": [
       "(10355, 96, 144)"
      ]
     },
     "execution_count": 55,
     "metadata": {},
     "output_type": "execute_result"
    }
   ],
   "source": [
    "test2.shape"
   ]
  },
  {
   "cell_type": "code",
   "execution_count": 56,
   "metadata": {},
   "outputs": [
    {
     "data": {
      "text/plain": [
       "<matplotlib.colorbar.Colorbar at 0x7f5a6845f828>"
      ]
     },
     "execution_count": 56,
     "metadata": {},
     "output_type": "execute_result"
    },
    {
     "data": {
      "image/png": "[encoded data removed]",
      "text/plain": [
       "<Figure size 432x288 with 2 Axes>"
      ]
     },
     "metadata": {
      "needs_background": "light"
     },
     "output_type": "display_data"
    }
   ],
   "source": [
    "plt.imshow(np.mean(test2,axis=0))\n",
    "plt.colorbar()"
   ]
  },
  {
   "cell_type": "code",
   "execution_count": 205,
   "metadata": {},
   "outputs": [],
   "source": [
    "test3 = xr.open_dataset(path_data + '2022_01_19_TRAIN_M4K_TPHYSTND500.nc')"
   ]
  },
  {
   "cell_type": "code",
   "execution_count": 216,
   "metadata": {},
   "outputs": [],
   "source": [
    "test4 = test3['vars'][:,-1].values"
   ]
  },
  {
   "cell_type": "code",
   "execution_count": 228,
   "metadata": {},
   "outputs": [
    {
     "data": {
      "text/plain": [
       "871587.25"
      ]
     },
     "execution_count": 228,
     "metadata": {},
     "output_type": "execute_result"
    }
   ],
   "source": [
    "scale_dict['TPHYSTND500']"
   ]
  },
  {
   "cell_type": "code",
   "execution_count": 217,
   "metadata": {},
   "outputs": [
    {
     "data": {
      "text/plain": [
       "(47177728,)"
      ]
     },
     "execution_count": 217,
     "metadata": {},
     "output_type": "execute_result"
    }
   ],
   "source": [
    "test4.shape"
   ]
  },
  {
   "cell_type": "code",
   "execution_count": 218,
   "metadata": {},
   "outputs": [],
   "source": [
    "test5 = np.reshape(test4,(Nt,Nlat,Nlon))"
   ]
  },
  {
   "cell_type": "code",
   "execution_count": 219,
   "metadata": {},
   "outputs": [
    {
     "data": {
      "text/plain": [
       "(5759, 64, 128)"
      ]
     },
     "execution_count": 219,
     "metadata": {},
     "output_type": "execute_result"
    }
   ],
   "source": [
    "test5.shape"
   ]
  },
  {
   "cell_type": "code",
   "execution_count": 229,
   "metadata": {},
   "outputs": [],
   "source": [
    "test5 *= scale_dict['TPHYSTND500']"
   ]
  },
  {
   "cell_type": "code",
   "execution_count": 230,
   "metadata": {},
   "outputs": [],
   "source": [
    "MSE_map = np.mean((test5-test2)**2,axis=0)"
   ]
  },
  {
   "cell_type": "code",
   "execution_count": 231,
   "metadata": {},
   "outputs": [
    {
     "data": {
      "text/plain": [
       "(64, 128)"
      ]
     },
     "execution_count": 231,
     "metadata": {},
     "output_type": "execute_result"
    }
   ],
   "source": [
    "MSE_map.shape"
   ]
  },
  {
   "cell_type": "code",
   "execution_count": 232,
   "metadata": {},
   "outputs": [],
   "source": [
    "VAR_map = np.var(test5,axis=0)"
   ]
  },
  {
   "cell_type": "code",
   "execution_count": 233,
   "metadata": {},
   "outputs": [],
   "source": [
    "R2 = 1-MSE_map/VAR_map"
   ]
  },
  {
   "cell_type": "code",
   "execution_count": 234,
   "metadata": {},
   "outputs": [
    {
     "data": {
      "text/plain": [
       "array([[0.6375874 , 0.65016145, 0.67831147, ..., 0.64215326, 0.64430326,\n",
       "        0.6511749 ],\n",
       "       [0.5808109 , 0.5269303 , 0.47454357, ..., 0.6464038 , 0.6146114 ,\n",
       "        0.57911575],\n",
       "       [0.71455777, 0.70498335, 0.696025  , ..., 0.74171543, 0.73107255,\n",
       "        0.7231208 ],\n",
       "       ...,\n",
       "       [0.34395885, 0.3660319 , 0.28853852, ..., 0.31259733, 0.38274843,\n",
       "        0.22285354],\n",
       "       [0.25589758, 0.19031107, 0.16730809, ..., 0.20241088, 0.3095888 ,\n",
       "        0.21717024],\n",
       "       [0.39114374, 0.4111092 , 0.4564824 , ..., 0.30704272, 0.35778612,\n",
       "        0.31403774]], dtype=float32)"
      ]
     },
     "execution_count": 234,
     "metadata": {},
     "output_type": "execute_result"
    }
   ],
   "source": [
    "R2"
   ]
  },
  {
   "cell_type": "code",
   "execution_count": 235,
   "metadata": {},
   "outputs": [
    {
     "data": {
      "text/plain": [
       "<matplotlib.colorbar.Colorbar at 0x7f61c8694b00>"
      ]
     },
     "execution_count": 235,
     "metadata": {},
     "output_type": "execute_result"
    },
    {
     "data": {
      "image/png": "[encoded data removed]",
      "text/plain": [
       "<Figure size 432x288 with 2 Axes>"
      ]
     },
     "metadata": {
      "needs_background": "light"
     },
     "output_type": "display_data"
    }
   ],
   "source": [
    "plt.imshow(R2)\n",
    "plt.colorbar()"
   ]
  },
  {
   "cell_type": "code",
   "execution_count": null,
   "metadata": {},
   "outputs": [],
   "source": []
  }
 ],
 "metadata": {
  "kernelspec": {
   "display_name": "Python 3",
   "language": "python",
   "name": "python3"
  },
  "language_info": {
   "codemirror_mode": {
    "name": "ipython",
    "version": 3
   },
   "file_extension": ".py",
   "mimetype": "text/x-python",
   "name": "python",
   "nbconvert_exporter": "python",
   "pygments_lexer": "ipython3",
   "version": "3.6.10"
  },
  "toc": {
   "base_numbering": 1,
   "nav_menu": {},
   "number_sections": true,
   "sideBar": true,
   "skip_h1_title": false,
   "title_cell": "Table of Contents",
   "title_sidebar": "Contents",
   "toc_cell": false,
   "toc_position": {
    "height": "calc(100% - 180px)",
    "left": "10px",
    "top": "150px",
    "width": "384px"
   },
   "toc_section_display": true,
   "toc_window_display": true
  }
 },
 "nbformat": 4,
 "nbformat_minor": 4
}
