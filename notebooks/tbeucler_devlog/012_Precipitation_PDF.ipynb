{
 "cells": [
  {
   "cell_type": "markdown",
   "metadata": {},
   "source": [
    "tgb - 4/26/2019  \n",
    "The goal is to build the PDF of precipitation for the +0K and +4K based on different neural networks.\n",
    "  \n",
    "We use the standard feed-forward configuration of the neural network:\n",
    "***\n",
    "[PHQ, PHCLDLIQ, PHCLDICE, TPHYSTND, QRL, QRS, DTVKE, FSNT, FSNS, FLNT, FLNS, PRECT, PRECTEND, PRECST, PRECSTEN] as a function of:  \n",
    "[QBP, QCBP, QIBP, TBP, VBP, Qdt_adiabatic, QCdt_adiabatic, QIdt_adiabatic, Tdt_adiabatic, Vdt_adiabatic, PS, SOLIN, SHFLX, LHFLX] "
   ]
  },
  {
   "cell_type": "markdown",
   "metadata": {},
   "source": [
    "# 1) Load modules and create training/validation data generators"
   ]
  },
  {
   "cell_type": "code",
   "execution_count": 2,
   "metadata": {},
   "outputs": [
    {
     "name": "stdout",
     "output_type": "stream",
     "text": [
      "/filer/z-sv-pool12c/t/Tom.Beucler/SPCAM/CBRAIN-CAM\n"
     ]
    }
   ],
   "source": [
    "from cbrain.imports import *\n",
    "from cbrain.data_generator import *\n",
    "from cbrain.cam_constants import *\n",
    "from cbrain.losses import *\n",
    "from cbrain.utils import limit_mem\n",
    "from cbrain.layers import *\n",
    "import tensorflow as tf\n",
    "import tensorflow.math as tfm\n",
    "from tensorflow.keras.layers import *\n",
    "from tensorflow.keras.models import *\n",
    "import xarray as xr\n",
    "import numpy as np\n",
    "from cbrain.model_diagnostics import ModelDiagnostics\n",
    "# Otherwise tensorflow will use ALL your GPU RAM for no reason\n",
    "limit_mem()\n",
    "TRAINDIR = '/local/Tom.Beucler/SPCAM_PHYS/'\n",
    "DATADIR = '/project/meteo/w2w/A6/S.Rasp/SP-CAM/fluxbypass_aqua/'\n",
    "PREFIX = '8col009_01_'\n",
    "%cd /filer/z-sv-pool12c/t/Tom.Beucler/SPCAM/CBRAIN-CAM"
   ]
  },
  {
   "cell_type": "markdown",
   "metadata": {},
   "source": [
    "tgb - 4/18/2019 - Used preprocessed data calculated in notebook 009 @ https://github.com/tbeucler/CBRAIN-CAM/blob/master/notebooks/tbeucler_devlog/009_Generalization_Climate_Change_8col.ipynb"
   ]
  },
  {
   "cell_type": "code",
   "execution_count": 3,
   "metadata": {},
   "outputs": [],
   "source": [
    "scale_dict = load_pickle('./nn_config/scale_dicts/009_Wm2_scaling.pkl')\n",
    "in_vars = load_pickle('./nn_config/scale_dicts/009_Wm2_in_vars.pkl')\n",
    "out_vars = load_pickle('./nn_config/scale_dicts/009_Wm2_out_vars.pkl')\n",
    "dP = load_pickle('./nn_config/scale_dicts/009_Wm2_dP.pkl')\n",
    "\n",
    "# train_gen = DataGenerator(\n",
    "#     data_fn = TRAINDIR+PREFIX+'train_shuffle.nc',\n",
    "#     input_vars = in_vars,\n",
    "#     output_vars = out_vars,\n",
    "#     norm_fn = TRAINDIR+PREFIX+'norm.nc',\n",
    "#     input_transform = ('mean', 'maxrs'),\n",
    "#     output_transform = scale_dict,\n",
    "#     batch_size=1024,\n",
    "#     shuffle=True\n",
    "# )\n",
    "# valid_gen = DataGenerator(\n",
    "#     data_fn = TRAINDIR+PREFIX+'valid.nc',\n",
    "#     input_vars = in_vars,\n",
    "#     output_vars = out_vars,\n",
    "#     norm_fn = TRAINDIR+PREFIX+'norm.nc',\n",
    "#     input_transform = ('mean', 'maxrs'),\n",
    "#     output_transform = scale_dict,\n",
    "#     batch_size=1024,\n",
    "#     shuffle=False\n",
    "# )"
   ]
  },
  {
   "cell_type": "markdown",
   "metadata": {},
   "source": [
    "## 2) Develop precipitation PDF module of the Model Diagnostics object"
   ]
  },
  {
   "cell_type": "markdown",
   "metadata": {},
   "source": [
    "## 2.1) Load architecture-constrained network"
   ]
  },
  {
   "cell_type": "code",
   "execution_count": 4,
   "metadata": {},
   "outputs": [
    {
     "name": "stdout",
     "output_type": "stream",
     "text": [
      "/data/Tom.Beucler/SPCAM_PHYS/HDF5_DATA\n",
      "WARNING:tensorflow:From /home/t/Tom.Beucler/miniconda3/lib/python3.6/site-packages/tensorflow/python/ops/resource_variable_ops.py:435: colocate_with (from tensorflow.python.framework.ops) is deprecated and will be removed in a future version.\n",
      "Instructions for updating:\n",
      "Colocations handled automatically by placer.\n",
      "WARNING:tensorflow:From /home/t/Tom.Beucler/miniconda3/lib/python3.6/site-packages/tensorflow/python/ops/math_ops.py:3066: to_int32 (from tensorflow.python.ops.math_ops) is deprecated and will be removed in a future version.\n",
      "Instructions for updating:\n",
      "Use tf.cast instead.\n"
     ]
    }
   ],
   "source": [
    "config_fn = '/filer/z-sv-pool12c/t/Tom.Beucler/SPCAM/CBRAIN-CAM/pp_config/8col_rad_tbeucler_local_PostProc.yml'\n",
    "data_fn = '/local/Tom.Beucler/SPCAM_PHYS/8col009_14_valid.nc'\n",
    "dict_lay = {'SurRadLayer':SurRadLayer,'MassConsLayer':MassConsLayer,'EntConsLayer':EntConsLayer}\n",
    "\n",
    "NN = {}\n",
    "%cd $TRAINDIR/HDF5_DATA\n",
    "path = TRAINDIR+'HDF5_DATA/NNL0.01.h5'\n",
    "NN = load_model(path,custom_objects=dict_lay)\n",
    "md3 = ModelDiagnostics(NN,config_fn,data_fn)"
   ]
  },
  {
   "cell_type": "markdown",
   "metadata": {},
   "source": [
    "## 2.2 Build PDF of precip  \n",
    "tgb - 4/26/2019 - Skeleton code of precip PDF  \n",
    "1) Predict total dimensional precipitation on batch  \n",
    "2) Accumulate in linearly spaced precipitation bins that go up to 350mm/d (based on Figure 2a of PNAS)  \n",
    "3) Repeat for each batch to accumulate full PDF"
   ]
  },
  {
   "cell_type": "code",
   "execution_count": 5,
   "metadata": {},
   "outputs": [],
   "source": [
    "# Nbin = 100\n",
    "# Pmax = 350\n",
    "# Pmin = 0\n",
    "# PHIST = np.zeros(Nbin)\n",
    "\n",
    "# P_CONV = 1e3*24*3600 # Conversion from m/s to mm/day\n",
    "\n",
    "# for itime in range(25):\n",
    "#     print(itime)\n",
    "#     # 1) Predict total precipitation on batch (liquid equivalent in mm/day)\n",
    "#     X, truth = md.valid_gen[itime]\n",
    "#     pred = md.model.predict_on_batch(X)\n",
    "#     PRECIP = (np.sum(pred[:,-4:],axis=1))*P_CONV/(L_V*RHO_L)\n",
    "\n",
    "#     # 2) Calculate histogram\n",
    "#     PRECIP_HIST,bin_edge = np.histogram(PRECIP,range=(Pmin,Pmax),bins=Nbin)\n",
    "\n",
    "#     # 3) Accumulate histogram\n",
    "#     PHIST += PRECIP_HIST\n",
    "\n",
    "\n",
    "#md3.compute_precipPDF(niter=25)"
   ]
  },
  {
   "cell_type": "code",
   "execution_count": 8,
   "metadata": {},
   "outputs": [
    {
     "name": "stdout",
     "output_type": "stream",
     "text": [
      "/data/Tom.Beucler/SPCAM_PHYS/HDF5_DATA\n",
      "Loading model  NNL0\n",
      "Loading statistics from  /local/Tom.Beucler/SPCAM_PHYS/8col009_01_valid.nc\n",
      "Loading statistics from  /local/Tom.Beucler/SPCAM_PHYS/8col009_14_valid.nc\n",
      "Loading model  NNL0.01\n"
     ]
    },
    {
     "name": "stderr",
     "output_type": "stream",
     "text": [
      "/home/t/Tom.Beucler/miniconda3/lib/python3.6/site-packages/ipykernel_launcher.py:58: RuntimeWarning: divide by zero encountered in log10\n",
      "/home/t/Tom.Beucler/miniconda3/lib/python3.6/site-packages/ipykernel_launcher.py:63: RuntimeWarning: divide by zero encountered in log10\n"
     ]
    },
    {
     "name": "stdout",
     "output_type": "stream",
     "text": [
      "Loading statistics from  /local/Tom.Beucler/SPCAM_PHYS/8col009_01_valid.nc\n",
      "Loading statistics from  /local/Tom.Beucler/SPCAM_PHYS/8col009_14_valid.nc\n",
      "Loading model  NNA\n"
     ]
    },
    {
     "name": "stderr",
     "output_type": "stream",
     "text": [
      "/home/t/Tom.Beucler/miniconda3/lib/python3.6/site-packages/ipykernel_launcher.py:63: RuntimeWarning: divide by zero encountered in log10\n"
     ]
    },
    {
     "name": "stdout",
     "output_type": "stream",
     "text": [
      "Loading statistics from  /local/Tom.Beucler/SPCAM_PHYS/8col009_01_valid.nc\n",
      "Loading statistics from  /local/Tom.Beucler/SPCAM_PHYS/8col009_14_valid.nc\n",
      "Loading model  MLRL0\n"
     ]
    },
    {
     "name": "stderr",
     "output_type": "stream",
     "text": [
      "/home/t/Tom.Beucler/miniconda3/lib/python3.6/site-packages/ipykernel_launcher.py:63: RuntimeWarning: divide by zero encountered in log10\n"
     ]
    },
    {
     "name": "stdout",
     "output_type": "stream",
     "text": [
      "Loading statistics from  /local/Tom.Beucler/SPCAM_PHYS/8col009_01_valid.nc\n",
      "Loading statistics from  /local/Tom.Beucler/SPCAM_PHYS/8col009_14_valid.nc\n",
      "Loading model  NNA0.01\n"
     ]
    },
    {
     "name": "stderr",
     "output_type": "stream",
     "text": [
      "/home/t/Tom.Beucler/miniconda3/lib/python3.6/site-packages/ipykernel_launcher.py:63: RuntimeWarning: divide by zero encountered in log10\n"
     ]
    },
    {
     "name": "stdout",
     "output_type": "stream",
     "text": [
      "Loading statistics from  /local/Tom.Beucler/SPCAM_PHYS/8col009_01_valid.nc\n",
      "Loading statistics from  /local/Tom.Beucler/SPCAM_PHYS/8col009_14_valid.nc\n"
     ]
    },
    {
     "name": "stderr",
     "output_type": "stream",
     "text": [
      "/home/t/Tom.Beucler/miniconda3/lib/python3.6/site-packages/ipykernel_launcher.py:63: RuntimeWarning: divide by zero encountered in log10\n"
     ]
    },
    {
     "data": {
      "text/plain": [
       "<matplotlib.legend.Legend at 0x14bac0de90b8>"
      ]
     },
     "execution_count": 8,
     "metadata": {},
     "output_type": "execute_result"
    },
    {
     "data": {
      "image/png": "[encoded data removed]",
      "text/plain": [
       "<Figure size 600x240 with 1 Axes>"
      ]
     },
     "metadata": {},
     "output_type": "display_data"
    }
   ],
   "source": [
    "%cd $TRAINDIR/HDF5_DATA\n",
    "TRUE = {}; PRED0 = {}; PRED4 = {};\n",
    "\n",
    "option = 1; # 0 is lin scale and 1 is log scale, 2 is comparison from truth \n",
    "XLIM = (0,350); YLIM = (-6,0); # Option \n",
    "#XLIM = (0,50); YLIM = (-3,0)\n",
    "\n",
    "config_fn = '/filer/z-sv-pool12c/t/Tom.Beucler/SPCAM/CBRAIN-CAM/pp_config/8col_rad_tbeucler_local_PostProc.yml'\n",
    "data_fn_array = ['/local/Tom.Beucler/SPCAM_PHYS/8col009_01_valid.nc',\n",
    "           '/local/Tom.Beucler/SPCAM_PHYS/8col009_14_valid.nc']\n",
    "dataref = ['','4K']\n",
    "dict_lay = {'SurRadLayer':SurRadLayer,'MassConsLayer':MassConsLayer,'EntConsLayer':EntConsLayer}\n",
    "fz = 16\n",
    "lw = 3\n",
    "NNarray = ['NNL0','NNL0.01','NNA','MLRL0','NNA0.01']\n",
    "siz = 50\n",
    "\n",
    "COL = ['g','b','m','r','y']\n",
    "XLAB = [r'$\\log_{10}\\mathrm{Precipitation\\ \\left[mm/day\\right]}$',\n",
    "        r'$\\mathrm{Precipitation\\ \\left[mm/day\\right]}$']\n",
    "YLAB = [r'$\\mathrm{Normalized\\ Count}$',r'$\\log_{10}\\mathrm{Normalized\\ Count}$']\n",
    "LABTRUE = [r'$\\mathrm{Truth}$',r'$\\mathrm{Truth\\ \\left(+4K\\right)}$']\n",
    "LABPRED = [r'$\\mathrm{NNU}$',r'$\\mathrm{NNL0.01}$',\n",
    "            r'$\\mathrm{NNA}$',r'$\\mathrm{MLR}$',\n",
    "           r'$\\mathrm{NNA0.01}$'          \n",
    "          ]\n",
    "LABPRED4 = ['','','','','']\n",
    "LIN = ['-','--']\n",
    "MAR = ['o','P']\n",
    "lw = 2\n",
    "\n",
    "from matplotlib import pyplot as plt\n",
    "import numpy as np\n",
    "\n",
    "plt.rc('text', usetex=True)\n",
    "plt.rc('font', family='serif', size=fz)\n",
    "\n",
    "plt.figure(num=None, figsize=(7.5,3), dpi=80, facecolor='w', edgecolor='k')\n",
    "\n",
    "for i,NNs in enumerate(NNarray):\n",
    "    NN = {}\n",
    "    print('Loading model ',NNs)\n",
    "    NN = load_model(TRAINDIR+'HDF5_DATA/'+NNs+\n",
    "                    '.h5',custom_objects=dict_lay)\n",
    "    for j,data_fn in enumerate(data_fn_array):\n",
    "        md = {};\n",
    "        md = ModelDiagnostics(NN,config_fn,data_fn)\n",
    "        print('Loading statistics from ',data_fn) # 2) Define model diagnostics object\n",
    "        md.precip = pickle.load(\n",
    "            open(TRAINDIR+'HDF5_DATA/'+\n",
    "                 NNs+'mdprecip'+\n",
    "                 dataref[j]+'.pkl','rb'))\n",
    "\n",
    "        dens = md.precip['predcount']/np.sum(md.precip['predcount'])\n",
    "        if i==0:\n",
    "            Tdens = md.precip['truecount']/np.sum(md.precip['truecount'])\n",
    "            if option==0: Y = Tdens; X = np.log10(md.precip['bins'])\n",
    "            elif option==1: Y = np.log10(Tdens); X = md.precip['bins']\n",
    "            elif option==2: Y = np.nan*X\n",
    "            TRUE[j] = plt.plot(X,Y,color='k',linewidth=lw,linestyle=LIN[j],label=LABTRUE[j])\n",
    "                               #,marker=MAR[j],s=siz)\n",
    "        if option==0: Y = dens\n",
    "        elif option==1: Y = np.log10(dens)\n",
    "        elif option==2: Y = np.log10(np.abs(dens-Tdens))\n",
    "        if j==0: PRED0[i] = plt.plot(X,Y,color=COL[i],linewidth=lw,linestyle=LIN[j],label=LABPRED[i])\n",
    "                                     #marker=MAR[j],s=siz)\n",
    "        elif j==1: PRED4[i] = plt.plot(X,Y,color=COL[i],linewidth=lw,linestyle=LIN[j],label=LABPRED4[i])\n",
    "                                       #marker=MAR[j],s=siz)\n",
    "        \n",
    "plt.xlabel(XLAB[option]); plt.xlim(XLIM) \n",
    "plt.ylabel(YLAB[option]); plt.ylim(YLIM)\n",
    "plt.legend(ncol=3)\n",
    "# plt.legend((TRUE[0],PRED0[0],PRED0[1],PRED0[2],PRED0[3],TRUE[1]),\\\n",
    "#            (r'$\\mathrm{Truth}$',r'$\\mathrm{NNU}$',r'$\\mathrm{NNL0.01}$',\n",
    "#             r'$\\mathrm{NNA}$',r'$\\mathrm{MLR}$',r'$\\mathrm{Truth\\ \\left(+4K\\right)}$'))"
   ]
  },
  {
   "cell_type": "code",
   "execution_count": 10,
   "metadata": {},
   "outputs": [
    {
     "ename": "ValueError",
     "evalue": "No model found in config file.",
     "output_type": "error",
     "traceback": [
      "\u001b[0;31m---------------------------------------------------------------------------\u001b[0m",
      "\u001b[0;31mValueError\u001b[0m                                Traceback (most recent call last)",
      "\u001b[0;32m<ipython-input-10-9a245dd688a5>\u001b[0m in \u001b[0;36m<module>\u001b[0;34m\u001b[0m\n\u001b[0;32m----> 1\u001b[0;31m \u001b[0mNN\u001b[0m \u001b[0;34m=\u001b[0m \u001b[0mload_model\u001b[0m\u001b[0;34m(\u001b[0m\u001b[0;34m'Jordan02.h5'\u001b[0m\u001b[0;34m,\u001b[0m\u001b[0mcustom_objects\u001b[0m\u001b[0;34m=\u001b[0m\u001b[0mdict_lay\u001b[0m\u001b[0;34m)\u001b[0m\u001b[0;34m\u001b[0m\u001b[0;34m\u001b[0m\u001b[0m\n\u001b[0m",
      "\u001b[0;32m~/miniconda3/lib/python3.6/site-packages/tensorflow/python/keras/engine/saving.py\u001b[0m in \u001b[0;36mload_model\u001b[0;34m(filepath, custom_objects, compile)\u001b[0m\n\u001b[1;32m    230\u001b[0m     \u001b[0mmodel_config\u001b[0m \u001b[0;34m=\u001b[0m \u001b[0mf\u001b[0m\u001b[0;34m.\u001b[0m\u001b[0mattrs\u001b[0m\u001b[0;34m.\u001b[0m\u001b[0mget\u001b[0m\u001b[0;34m(\u001b[0m\u001b[0;34m'model_config'\u001b[0m\u001b[0;34m)\u001b[0m\u001b[0;34m\u001b[0m\u001b[0;34m\u001b[0m\u001b[0m\n\u001b[1;32m    231\u001b[0m     \u001b[0;32mif\u001b[0m \u001b[0mmodel_config\u001b[0m \u001b[0;32mis\u001b[0m \u001b[0;32mNone\u001b[0m\u001b[0;34m:\u001b[0m\u001b[0;34m\u001b[0m\u001b[0;34m\u001b[0m\u001b[0m\n\u001b[0;32m--> 232\u001b[0;31m       \u001b[0;32mraise\u001b[0m \u001b[0mValueError\u001b[0m\u001b[0;34m(\u001b[0m\u001b[0;34m'No model found in config file.'\u001b[0m\u001b[0;34m)\u001b[0m\u001b[0;34m\u001b[0m\u001b[0;34m\u001b[0m\u001b[0m\n\u001b[0m\u001b[1;32m    233\u001b[0m     \u001b[0mmodel_config\u001b[0m \u001b[0;34m=\u001b[0m \u001b[0mjson\u001b[0m\u001b[0;34m.\u001b[0m\u001b[0mloads\u001b[0m\u001b[0;34m(\u001b[0m\u001b[0mmodel_config\u001b[0m\u001b[0;34m.\u001b[0m\u001b[0mdecode\u001b[0m\u001b[0;34m(\u001b[0m\u001b[0;34m'utf-8'\u001b[0m\u001b[0;34m)\u001b[0m\u001b[0;34m)\u001b[0m\u001b[0;34m\u001b[0m\u001b[0;34m\u001b[0m\u001b[0m\n\u001b[1;32m    234\u001b[0m     \u001b[0mmodel\u001b[0m \u001b[0;34m=\u001b[0m \u001b[0mmodel_from_config\u001b[0m\u001b[0;34m(\u001b[0m\u001b[0mmodel_config\u001b[0m\u001b[0;34m,\u001b[0m \u001b[0mcustom_objects\u001b[0m\u001b[0;34m=\u001b[0m\u001b[0mcustom_objects\u001b[0m\u001b[0;34m)\u001b[0m\u001b[0;34m\u001b[0m\u001b[0;34m\u001b[0m\u001b[0m\n",
      "\u001b[0;31mValueError\u001b[0m: No model found in config file."
     ]
    }
   ],
   "source": [
    "NN = load_model('Jordan02.h5',custom_objects=dict_lay)"
   ]
  },
  {
   "cell_type": "code",
   "execution_count": 4,
   "metadata": {},
   "outputs": [],
   "source": [
    "# NNarray = ['NNL0','NNL0.01','NNA','MLRL0']\n",
    "\n",
    "# for i in range(len(NNarray)):\n",
    "#     print(i)\n",
    "#     # Load statistics\n",
    "#     md = {}; NN = {};\n",
    "#     print('Loading model') # 1) Load model\n",
    "#     NN = load_model(TRAINDIR+'HDF5_DATA/'+NNarray[i]+'.h5',custom_objects=dict_lay)\n",
    "#     print('Loading statistics') # 2) Define model diagnostics object\n",
    "#     md = ModelDiagnostics(NN,config_fn,data_fn)\n",
    "#     # 3) Calculate statistics and save in pickle file\n",
    "#     md.compute_precipPDF(niter=2)\n",
    "#     pickle.dump(md.precip,open(TRAINDIR+'HDF5_DATA/'+NNarray[i]+'mdprecip.pkl','wb'))"
   ]
  },
  {
   "cell_type": "code",
   "execution_count": 10,
   "metadata": {},
   "outputs": [
    {
     "data": {
      "text/plain": [
       "{'predcount': array([1.3350113e+07, 3.6461200e+06, 1.5117360e+06, 8.2978600e+05,\n",
       "        5.3280100e+05, 3.7605800e+05, 2.8122100e+05, 2.1547800e+05,\n",
       "        1.6875300e+05, 1.3338300e+05, 1.0735500e+05, 8.7087000e+04,\n",
       "        7.1564000e+04, 5.8792000e+04, 4.9093000e+04, 4.1697000e+04,\n",
       "        3.5792000e+04, 3.1439000e+04, 2.7315000e+04, 2.4146000e+04,\n",
       "        2.1945000e+04, 1.9961000e+04, 1.8098000e+04, 1.6782000e+04,\n",
       "        1.5586000e+04, 1.4651000e+04, 1.3687000e+04, 1.3221000e+04,\n",
       "        1.2441000e+04, 1.1685000e+04, 1.1237000e+04, 1.0794000e+04,\n",
       "        1.0248000e+04, 9.8710000e+03, 9.2520000e+03, 8.9390000e+03,\n",
       "        8.6740000e+03, 8.1920000e+03, 7.9100000e+03, 7.6140000e+03,\n",
       "        7.2370000e+03, 6.9820000e+03, 6.6780000e+03, 6.6150000e+03,\n",
       "        6.2860000e+03, 6.0320000e+03, 5.7620000e+03, 5.5560000e+03,\n",
       "        5.5150000e+03, 5.2260000e+03, 4.9980000e+03, 4.8060000e+03,\n",
       "        4.6480000e+03, 4.4070000e+03, 4.2240000e+03, 3.9770000e+03,\n",
       "        3.8880000e+03, 3.7460000e+03, 3.4420000e+03, 3.3800000e+03,\n",
       "        3.2400000e+03, 3.0760000e+03, 2.7770000e+03, 2.7570000e+03,\n",
       "        2.6170000e+03, 2.4570000e+03, 2.2510000e+03, 2.1710000e+03,\n",
       "        2.0080000e+03, 1.9790000e+03, 1.8130000e+03, 1.6710000e+03,\n",
       "        1.6450000e+03, 1.5040000e+03, 1.4700000e+03, 1.3370000e+03,\n",
       "        1.2390000e+03, 1.1800000e+03, 1.1290000e+03, 9.9100000e+02,\n",
       "        9.7800000e+02, 8.8600000e+02, 8.2600000e+02, 7.7700000e+02,\n",
       "        7.5300000e+02, 7.0100000e+02, 5.8000000e+02, 5.5400000e+02,\n",
       "        5.6200000e+02, 4.9000000e+02, 4.6500000e+02, 4.6200000e+02,\n",
       "        4.0000000e+02, 3.4700000e+02, 3.6300000e+02, 3.2100000e+02,\n",
       "        2.7400000e+02, 2.6200000e+02, 2.5900000e+02, 2.2200000e+02]),\n",
       " 'truecount': array([2.4077387e+07, 2.9905900e+06, 1.4090090e+06, 7.9216800e+05,\n",
       "        5.0306200e+05, 3.4952300e+05, 2.5719700e+05, 1.9781900e+05,\n",
       "        1.5602100e+05, 1.2548100e+05, 1.0279700e+05, 8.5400000e+04,\n",
       "        7.2375000e+04, 6.2368000e+04, 5.3932000e+04, 4.6886000e+04,\n",
       "        4.1692000e+04, 3.6915000e+04, 3.2796000e+04, 2.9500000e+04,\n",
       "        2.6518000e+04, 2.3775000e+04, 2.1666000e+04, 1.9844000e+04,\n",
       "        1.8175000e+04, 1.6719000e+04, 1.5485000e+04, 1.4366000e+04,\n",
       "        1.3079000e+04, 1.2331000e+04, 1.1612000e+04, 1.0651000e+04,\n",
       "        9.9610000e+03, 9.1350000e+03, 8.7870000e+03, 8.0810000e+03,\n",
       "        7.5710000e+03, 7.1090000e+03, 6.6200000e+03, 6.0750000e+03,\n",
       "        5.7980000e+03, 5.4200000e+03, 5.1120000e+03, 4.6700000e+03,\n",
       "        4.2810000e+03, 4.1270000e+03, 3.7590000e+03, 3.5310000e+03,\n",
       "        3.1700000e+03, 2.8840000e+03, 2.7300000e+03, 2.4420000e+03,\n",
       "        2.3150000e+03, 2.1140000e+03, 1.8790000e+03, 1.7800000e+03,\n",
       "        1.5300000e+03, 1.3990000e+03, 1.2740000e+03, 1.2060000e+03,\n",
       "        1.0900000e+03, 9.4400000e+02, 8.7800000e+02, 7.7300000e+02,\n",
       "        7.0800000e+02, 5.9100000e+02, 5.5700000e+02, 4.8800000e+02,\n",
       "        4.3700000e+02, 3.9300000e+02, 3.4800000e+02, 3.3000000e+02,\n",
       "        2.7800000e+02, 2.1500000e+02, 2.2100000e+02, 1.8500000e+02,\n",
       "        1.6900000e+02, 1.4500000e+02, 1.4400000e+02, 1.1400000e+02,\n",
       "        1.0700000e+02, 7.7000000e+01, 8.1000000e+01, 8.2000000e+01,\n",
       "        7.3000000e+01, 7.1000000e+01, 5.1000000e+01, 4.8000000e+01,\n",
       "        3.1000000e+01, 3.6000000e+01, 2.7000000e+01, 2.7000000e+01,\n",
       "        3.3000000e+01, 1.5000000e+01, 2.3000000e+01, 1.4000000e+01,\n",
       "        8.0000000e+00, 9.0000000e+00, 8.0000000e+00, 5.0000000e+00]),\n",
       " 'edges': array([  0. ,   3.5,   7. ,  10.5,  14. ,  17.5,  21. ,  24.5,  28. ,\n",
       "         31.5,  35. ,  38.5,  42. ,  45.5,  49. ,  52.5,  56. ,  59.5,\n",
       "         63. ,  66.5,  70. ,  73.5,  77. ,  80.5,  84. ,  87.5,  91. ,\n",
       "         94.5,  98. , 101.5, 105. , 108.5, 112. , 115.5, 119. , 122.5,\n",
       "        126. , 129.5, 133. , 136.5, 140. , 143.5, 147. , 150.5, 154. ,\n",
       "        157.5, 161. , 164.5, 168. , 171.5, 175. , 178.5, 182. , 185.5,\n",
       "        189. , 192.5, 196. , 199.5, 203. , 206.5, 210. , 213.5, 217. ,\n",
       "        220.5, 224. , 227.5, 231. , 234.5, 238. , 241.5, 245. , 248.5,\n",
       "        252. , 255.5, 259. , 262.5, 266. , 269.5, 273. , 276.5, 280. ,\n",
       "        283.5, 287. , 290.5, 294. , 297.5, 301. , 304.5, 308. , 311.5,\n",
       "        315. , 318.5, 322. , 325.5, 329. , 332.5, 336. , 339.5, 343. ,\n",
       "        346.5, 350. ], dtype=float32),\n",
       " 'bins': array([  1.75,   5.25,   8.75,  12.25,  15.75,  19.25,  22.75,  26.25,\n",
       "         29.75,  33.25,  36.75,  40.25,  43.75,  47.25,  50.75,  54.25,\n",
       "         57.75,  61.25,  64.75,  68.25,  71.75,  75.25,  78.75,  82.25,\n",
       "         85.75,  89.25,  92.75,  96.25,  99.75, 103.25, 106.75, 110.25,\n",
       "        113.75, 117.25, 120.75, 124.25, 127.75, 131.25, 134.75, 138.25,\n",
       "        141.75, 145.25, 148.75, 152.25, 155.75, 159.25, 162.75, 166.25,\n",
       "        169.75, 173.25, 176.75, 180.25, 183.75, 187.25, 190.75, 194.25,\n",
       "        197.75, 201.25, 204.75, 208.25, 211.75, 215.25, 218.75, 222.25,\n",
       "        225.75, 229.25, 232.75, 236.25, 239.75, 243.25, 246.75, 250.25,\n",
       "        253.75, 257.25, 260.75, 264.25, 267.75, 271.25, 274.75, 278.25,\n",
       "        281.75, 285.25, 288.75, 292.25, 295.75, 299.25, 302.75, 306.25,\n",
       "        309.75, 313.25, 316.75, 320.25, 323.75, 327.25, 330.75, 334.25,\n",
       "        337.75, 341.25, 344.75, 348.25], dtype=float32)}"
      ]
     },
     "execution_count": 10,
     "metadata": {},
     "output_type": "execute_result"
    }
   ],
   "source": [
    "md.precip"
   ]
  },
  {
   "cell_type": "code",
   "execution_count": null,
   "metadata": {},
   "outputs": [],
   "source": []
  }
 ],
 "metadata": {
  "kernelspec": {
   "display_name": "Python 3",
   "language": "python",
   "name": "python3"
  },
  "language_info": {
   "codemirror_mode": {
    "name": "ipython",
    "version": 3
   },
   "file_extension": ".py",
   "mimetype": "text/x-python",
   "name": "python",
   "nbconvert_exporter": "python",
   "pygments_lexer": "ipython3",
   "version": "3.6.8"
  },
  "toc": {
   "base_numbering": 1,
   "nav_menu": {},
   "number_sections": true,
   "sideBar": false,
   "skip_h1_title": true,
   "title_cell": "Table of Contents",
   "title_sidebar": "Contents",
   "toc_cell": false,
   "toc_position": {},
   "toc_section_display": true,
   "toc_window_display": false
  }
 },
 "nbformat": 4,
 "nbformat_minor": 2
}
