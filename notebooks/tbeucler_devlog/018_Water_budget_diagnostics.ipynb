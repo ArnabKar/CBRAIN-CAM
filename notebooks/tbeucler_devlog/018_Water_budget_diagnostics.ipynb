{
 "cells": [
  {
   "cell_type": "markdown",
   "metadata": {},
   "source": [
    "tgb - 6/24/2019 - The goal of this notebook is to develop diagnostics targeted at the water budget. The motivation is that we would like to understand how enforcing physical constraints affects performance in a high-dimensional system. Since we enforce that the water budget be closed, we can expect some of its macro-diagnostics to be improved. We will:  \n",
    "1) Load the conserving and unconstrained networks, optimized by Jordan, and compare their respective \"average\" performances on (+0K),(+4K) and (+3Kw1)    \n",
    "2) Calculate different terms of the water vapor budget in each dataset  \n",
    "3) Formally expand conservation penalty in the water vapor budget"
   ]
  },
  {
   "cell_type": "markdown",
   "metadata": {},
   "source": [
    "# 1) Load networks and compare average performances on different datasets"
   ]
  },
  {
   "cell_type": "code",
   "execution_count": 1,
   "metadata": {},
   "outputs": [
    {
     "name": "stderr",
     "output_type": "stream",
     "text": [
      "/home/t/Tom.Beucler/miniconda3/lib/python3.7/site-packages/tensorflow/python/framework/dtypes.py:516: FutureWarning: Passing (type, 1) or '1type' as a synonym of type is deprecated; in a future version of numpy, it will be understood as (type, (1,)) / '(1,)type'.\n",
      "  _np_qint8 = np.dtype([(\"qint8\", np.int8, 1)])\n",
      "/home/t/Tom.Beucler/miniconda3/lib/python3.7/site-packages/tensorflow/python/framework/dtypes.py:517: FutureWarning: Passing (type, 1) or '1type' as a synonym of type is deprecated; in a future version of numpy, it will be understood as (type, (1,)) / '(1,)type'.\n",
      "  _np_quint8 = np.dtype([(\"quint8\", np.uint8, 1)])\n",
      "/home/t/Tom.Beucler/miniconda3/lib/python3.7/site-packages/tensorflow/python/framework/dtypes.py:518: FutureWarning: Passing (type, 1) or '1type' as a synonym of type is deprecated; in a future version of numpy, it will be understood as (type, (1,)) / '(1,)type'.\n",
      "  _np_qint16 = np.dtype([(\"qint16\", np.int16, 1)])\n",
      "/home/t/Tom.Beucler/miniconda3/lib/python3.7/site-packages/tensorflow/python/framework/dtypes.py:519: FutureWarning: Passing (type, 1) or '1type' as a synonym of type is deprecated; in a future version of numpy, it will be understood as (type, (1,)) / '(1,)type'.\n",
      "  _np_quint16 = np.dtype([(\"quint16\", np.uint16, 1)])\n",
      "/home/t/Tom.Beucler/miniconda3/lib/python3.7/site-packages/tensorflow/python/framework/dtypes.py:520: FutureWarning: Passing (type, 1) or '1type' as a synonym of type is deprecated; in a future version of numpy, it will be understood as (type, (1,)) / '(1,)type'.\n",
      "  _np_qint32 = np.dtype([(\"qint32\", np.int32, 1)])\n",
      "/home/t/Tom.Beucler/miniconda3/lib/python3.7/site-packages/tensorflow/python/framework/dtypes.py:525: FutureWarning: Passing (type, 1) or '1type' as a synonym of type is deprecated; in a future version of numpy, it will be understood as (type, (1,)) / '(1,)type'.\n",
      "  np_resource = np.dtype([(\"resource\", np.ubyte, 1)])\n",
      "/home/t/Tom.Beucler/miniconda3/lib/python3.7/site-packages/tensorboard/compat/tensorflow_stub/dtypes.py:541: FutureWarning: Passing (type, 1) or '1type' as a synonym of type is deprecated; in a future version of numpy, it will be understood as (type, (1,)) / '(1,)type'.\n",
      "  _np_qint8 = np.dtype([(\"qint8\", np.int8, 1)])\n",
      "/home/t/Tom.Beucler/miniconda3/lib/python3.7/site-packages/tensorboard/compat/tensorflow_stub/dtypes.py:542: FutureWarning: Passing (type, 1) or '1type' as a synonym of type is deprecated; in a future version of numpy, it will be understood as (type, (1,)) / '(1,)type'.\n",
      "  _np_quint8 = np.dtype([(\"quint8\", np.uint8, 1)])\n",
      "/home/t/Tom.Beucler/miniconda3/lib/python3.7/site-packages/tensorboard/compat/tensorflow_stub/dtypes.py:543: FutureWarning: Passing (type, 1) or '1type' as a synonym of type is deprecated; in a future version of numpy, it will be understood as (type, (1,)) / '(1,)type'.\n",
      "  _np_qint16 = np.dtype([(\"qint16\", np.int16, 1)])\n",
      "/home/t/Tom.Beucler/miniconda3/lib/python3.7/site-packages/tensorboard/compat/tensorflow_stub/dtypes.py:544: FutureWarning: Passing (type, 1) or '1type' as a synonym of type is deprecated; in a future version of numpy, it will be understood as (type, (1,)) / '(1,)type'.\n",
      "  _np_quint16 = np.dtype([(\"quint16\", np.uint16, 1)])\n",
      "/home/t/Tom.Beucler/miniconda3/lib/python3.7/site-packages/tensorboard/compat/tensorflow_stub/dtypes.py:545: FutureWarning: Passing (type, 1) or '1type' as a synonym of type is deprecated; in a future version of numpy, it will be understood as (type, (1,)) / '(1,)type'.\n",
      "  _np_qint32 = np.dtype([(\"qint32\", np.int32, 1)])\n",
      "/home/t/Tom.Beucler/miniconda3/lib/python3.7/site-packages/tensorboard/compat/tensorflow_stub/dtypes.py:550: FutureWarning: Passing (type, 1) or '1type' as a synonym of type is deprecated; in a future version of numpy, it will be understood as (type, (1,)) / '(1,)type'.\n",
      "  np_resource = np.dtype([(\"resource\", np.ubyte, 1)])\n",
      "WARNING: Logging before flag parsing goes to stderr.\n",
      "W0804 16:36:29.649480 22943615391552 deprecation_wrapper.py:119] From /home/t/Tom.Beucler/SPCAM/CBRAIN-CAM/notebooks/tbeucler_devlog/cbrain/models.py:16: The name tf.keras.layers.CuDNNGRU is deprecated. Please use tf.compat.v1.keras.layers.CuDNNGRU instead.\n",
      "\n",
      "W0804 16:36:29.653090 22943615391552 deprecation_wrapper.py:119] From /home/t/Tom.Beucler/SPCAM/CBRAIN-CAM/notebooks/tbeucler_devlog/cbrain/models.py:16: The name tf.keras.layers.CuDNNLSTM is deprecated. Please use tf.compat.v1.keras.layers.CuDNNLSTM instead.\n",
      "\n",
      "W0804 16:36:29.675865 22943615391552 deprecation_wrapper.py:119] From /home/t/Tom.Beucler/SPCAM/CBRAIN-CAM/notebooks/tbeucler_devlog/cbrain/utils.py:145: The name tf.ConfigProto is deprecated. Please use tf.compat.v1.ConfigProto instead.\n",
      "\n",
      "W0804 16:36:29.676583 22943615391552 deprecation_wrapper.py:119] From /home/t/Tom.Beucler/SPCAM/CBRAIN-CAM/notebooks/tbeucler_devlog/cbrain/utils.py:148: The name tf.keras.backend.set_session is deprecated. Please use tf.compat.v1.keras.backend.set_session instead.\n",
      "\n",
      "W0804 16:36:29.679526 22943615391552 deprecation_wrapper.py:119] From /home/t/Tom.Beucler/SPCAM/CBRAIN-CAM/notebooks/tbeucler_devlog/cbrain/utils.py:148: The name tf.Session is deprecated. Please use tf.compat.v1.Session instead.\n",
      "\n"
     ]
    },
    {
     "name": "stdout",
     "output_type": "stream",
     "text": [
      "/home/t/Tom.Beucler/SPCAM/CBRAIN-CAM/notebooks/tbeucler_devlog\n",
      "/filer/z-sv-pool12c/t/Tom.Beucler/SPCAM/CBRAIN-CAM\n"
     ]
    }
   ],
   "source": [
    "from cbrain.imports import *\n",
    "from cbrain.data_generator import *\n",
    "from cbrain.cam_constants import *\n",
    "from cbrain.losses import *\n",
    "from cbrain.utils import limit_mem\n",
    "from cbrain.layers import *\n",
    "import tensorflow as tf\n",
    "import tensorflow.math as tfm\n",
    "from tensorflow.keras.layers import *\n",
    "from tensorflow.keras.models import *\n",
    "import xarray as xr\n",
    "import numpy as np\n",
    "from cbrain.model_diagnostics import ModelDiagnostics\n",
    "# Otherwise tensorflow will use ALL your GPU RAM for no reason\n",
    "limit_mem()\n",
    "TRAINDIR = '/local/Tom.Beucler/SPCAM_PHYS/'\n",
    "DATADIR = '/project/meteo/w2w/A6/S.Rasp/SP-CAM/fluxbypass_aqua/'\n",
    "PREFIX = '8col009_01_'\n",
    "%cd /filer/z-sv-pool12c/t/Tom.Beucler/SPCAM/CBRAIN-CAM"
   ]
  },
  {
   "cell_type": "markdown",
   "metadata": {},
   "source": [
    "Load coordinates"
   ]
  },
  {
   "cell_type": "code",
   "execution_count": 2,
   "metadata": {},
   "outputs": [],
   "source": [
    "coor = xr.open_dataset(\"/project/meteo/w2w/A6/S.Rasp/SP-CAM/fluxbypass_aqua/AndKua_aqua_SPCAM3.0_sp_fbp_f4.cam2.h1.0000-01-01-00000.nc\",\\\n",
    "                    decode_times=False)\n",
    "lat = coor.lat; lon = coor.lon;\n",
    "coor.close();"
   ]
  },
  {
   "cell_type": "markdown",
   "metadata": {},
   "source": [
    "R2 maps for a given variable from notebook https://github.com/tbeucler/CBRAIN-CAM/blob/master/notebooks/tbeucler_devlog/011_Conserving_Network_Paper_Figures.ipynb"
   ]
  },
  {
   "cell_type": "code",
   "execution_count": 3,
   "metadata": {},
   "outputs": [],
   "source": [
    "# Config and data files\n",
    "config_fn = '/filer/z-sv-pool12c/t/Tom.Beucler/SPCAM/CBRAIN-CAM/pp_config/8col_rad_tbeucler_local_PostProc.yml'\n",
    "data_fn_a = ['/local/Tom.Beucler/SPCAM_PHYS/8col009_01_valid.nc',\n",
    "             '/local/Tom.Beucler/SPCAM_PHYS/8col009_14_valid.nc',\n",
    "             '/local/Tom.Beucler/SPCAM_PHYS/8col009_31_valid.nc']\n",
    "data_ref = ['','4K','3Kw1']\n",
    "dict_lay = {'SurRadLayer':SurRadLayer,'MassConsLayer':MassConsLayer,'EntConsLayer':EntConsLayer}\n",
    "NNarray = ['JNNL','JNNC','MLRL0','JUnotC']"
   ]
  },
  {
   "cell_type": "code",
   "execution_count": 4,
   "metadata": {},
   "outputs": [],
   "source": [
    "# Variable and variable's dimension\n",
    "VAR = 'FLNT'\n",
    "VARdim = 2;"
   ]
  },
  {
   "cell_type": "code",
   "execution_count": 5,
   "metadata": {},
   "outputs": [
    {
     "name": "stdout",
     "output_type": "stream",
     "text": [
      "j= 0 and data from  /local/Tom.Beucler/SPCAM_PHYS/8col009_01_valid.nc\n",
      "i = 0  so plotting Subplot # 1\n",
      "Loading model\n",
      "Loading statistics\n",
      "JNNL\n",
      "MSE 148.5863357842754\n",
      "i = 1  so plotting Subplot # 2\n",
      "Loading model\n",
      "Loading statistics\n",
      "JNNC\n",
      "MSE 152.4882037592579\n",
      "i = 2  so plotting Subplot # 3\n",
      "Loading model\n",
      "Loading statistics\n",
      "MLRL0\n",
      "MSE 295.2749784945916\n",
      "i = 3  so plotting Subplot # 4\n",
      "Loading model\n"
     ]
    },
    {
     "ename": "ValueError",
     "evalue": "Unknown metric function:weak_loss_0",
     "output_type": "error",
     "traceback": [
      "\u001b[0;31m---------------------------------------------------------------------------\u001b[0m",
      "\u001b[0;31mValueError\u001b[0m                                Traceback (most recent call last)",
      "\u001b[0;32m<ipython-input-5-f6641eb2587a>\u001b[0m in \u001b[0;36m<module>\u001b[0;34m\u001b[0m\n\u001b[1;32m     17\u001b[0m         \u001b[0mmd\u001b[0m \u001b[0;34m=\u001b[0m \u001b[0;34m{\u001b[0m\u001b[0;34m}\u001b[0m\u001b[0;34m;\u001b[0m \u001b[0mNN\u001b[0m \u001b[0;34m=\u001b[0m \u001b[0;34m{\u001b[0m\u001b[0;34m}\u001b[0m\u001b[0;34m;\u001b[0m\u001b[0;34m\u001b[0m\u001b[0;34m\u001b[0m\u001b[0m\n\u001b[1;32m     18\u001b[0m         \u001b[0mprint\u001b[0m\u001b[0;34m(\u001b[0m\u001b[0;34m'Loading model'\u001b[0m\u001b[0;34m)\u001b[0m \u001b[0;31m# 1) Load model\u001b[0m\u001b[0;34m\u001b[0m\u001b[0;34m\u001b[0m\u001b[0m\n\u001b[0;32m---> 19\u001b[0;31m         \u001b[0mNN\u001b[0m \u001b[0;34m=\u001b[0m \u001b[0mload_model\u001b[0m\u001b[0;34m(\u001b[0m\u001b[0mTRAINDIR\u001b[0m\u001b[0;34m+\u001b[0m\u001b[0;34m'HDF5_DATA/'\u001b[0m\u001b[0;34m+\u001b[0m\u001b[0mNNs\u001b[0m\u001b[0;34m+\u001b[0m\u001b[0;34m'.h5'\u001b[0m\u001b[0;34m,\u001b[0m\u001b[0mcustom_objects\u001b[0m\u001b[0;34m=\u001b[0m\u001b[0mdict_lay\u001b[0m\u001b[0;34m)\u001b[0m\u001b[0;34m\u001b[0m\u001b[0;34m\u001b[0m\u001b[0m\n\u001b[0m\u001b[1;32m     20\u001b[0m         \u001b[0mprint\u001b[0m\u001b[0;34m(\u001b[0m\u001b[0;34m'Loading statistics'\u001b[0m\u001b[0;34m)\u001b[0m \u001b[0;31m# 2) Define model diagnostics object\u001b[0m\u001b[0;34m\u001b[0m\u001b[0;34m\u001b[0m\u001b[0m\n\u001b[1;32m     21\u001b[0m         \u001b[0mmd\u001b[0m \u001b[0;34m=\u001b[0m \u001b[0mModelDiagnostics\u001b[0m\u001b[0;34m(\u001b[0m\u001b[0mNN\u001b[0m\u001b[0;34m,\u001b[0m\u001b[0mconfig_fn\u001b[0m\u001b[0;34m,\u001b[0m\u001b[0mdata_fn\u001b[0m\u001b[0;34m)\u001b[0m\u001b[0;34m\u001b[0m\u001b[0;34m\u001b[0m\u001b[0m\n",
      "\u001b[0;32m~/miniconda3/lib/python3.6/site-packages/tensorflow/python/keras/engine/saving.py\u001b[0m in \u001b[0;36mload_model\u001b[0;34m(filepath, custom_objects, compile)\u001b[0m\n\u001b[1;32m    260\u001b[0m           \u001b[0mweighted_metrics\u001b[0m\u001b[0;34m=\u001b[0m\u001b[0mweighted_metrics\u001b[0m\u001b[0;34m,\u001b[0m\u001b[0;34m\u001b[0m\u001b[0;34m\u001b[0m\u001b[0m\n\u001b[1;32m    261\u001b[0m           \u001b[0mloss_weights\u001b[0m\u001b[0;34m=\u001b[0m\u001b[0mloss_weights\u001b[0m\u001b[0;34m,\u001b[0m\u001b[0;34m\u001b[0m\u001b[0;34m\u001b[0m\u001b[0m\n\u001b[0;32m--> 262\u001b[0;31m           sample_weight_mode=sample_weight_mode)\n\u001b[0m\u001b[1;32m    263\u001b[0m \u001b[0;34m\u001b[0m\u001b[0m\n\u001b[1;32m    264\u001b[0m       \u001b[0;31m# Set optimizer weights.\u001b[0m\u001b[0;34m\u001b[0m\u001b[0;34m\u001b[0m\u001b[0;34m\u001b[0m\u001b[0m\n",
      "\u001b[0;32m~/miniconda3/lib/python3.6/site-packages/tensorflow/python/training/checkpointable/base.py\u001b[0m in \u001b[0;36m_method_wrapper\u001b[0;34m(self, *args, **kwargs)\u001b[0m\n\u001b[1;32m    472\u001b[0m     \u001b[0mself\u001b[0m\u001b[0;34m.\u001b[0m\u001b[0m_setattr_tracking\u001b[0m \u001b[0;34m=\u001b[0m \u001b[0;32mFalse\u001b[0m  \u001b[0;31m# pylint: disable=protected-access\u001b[0m\u001b[0;34m\u001b[0m\u001b[0;34m\u001b[0m\u001b[0m\n\u001b[1;32m    473\u001b[0m     \u001b[0;32mtry\u001b[0m\u001b[0;34m:\u001b[0m\u001b[0;34m\u001b[0m\u001b[0;34m\u001b[0m\u001b[0m\n\u001b[0;32m--> 474\u001b[0;31m       \u001b[0mmethod\u001b[0m\u001b[0;34m(\u001b[0m\u001b[0mself\u001b[0m\u001b[0;34m,\u001b[0m \u001b[0;34m*\u001b[0m\u001b[0margs\u001b[0m\u001b[0;34m,\u001b[0m \u001b[0;34m**\u001b[0m\u001b[0mkwargs\u001b[0m\u001b[0;34m)\u001b[0m\u001b[0;34m\u001b[0m\u001b[0;34m\u001b[0m\u001b[0m\n\u001b[0m\u001b[1;32m    475\u001b[0m     \u001b[0;32mfinally\u001b[0m\u001b[0;34m:\u001b[0m\u001b[0;34m\u001b[0m\u001b[0;34m\u001b[0m\u001b[0m\n\u001b[1;32m    476\u001b[0m       \u001b[0mself\u001b[0m\u001b[0;34m.\u001b[0m\u001b[0m_setattr_tracking\u001b[0m \u001b[0;34m=\u001b[0m \u001b[0mprevious_value\u001b[0m  \u001b[0;31m# pylint: disable=protected-access\u001b[0m\u001b[0;34m\u001b[0m\u001b[0;34m\u001b[0m\u001b[0m\n",
      "\u001b[0;32m~/miniconda3/lib/python3.6/site-packages/tensorflow/python/keras/engine/training.py\u001b[0m in \u001b[0;36mcompile\u001b[0;34m(self, optimizer, loss, metrics, loss_weights, sample_weight_mode, weighted_metrics, target_tensors, distribute, **kwargs)\u001b[0m\n\u001b[1;32m    600\u001b[0m                                        skip_target_weighing_indices)\n\u001b[1;32m    601\u001b[0m     \u001b[0;31m# Save all metric attributes per output of the model.\u001b[0m\u001b[0;34m\u001b[0m\u001b[0;34m\u001b[0m\u001b[0;34m\u001b[0m\u001b[0m\n\u001b[0;32m--> 602\u001b[0;31m     \u001b[0mself\u001b[0m\u001b[0;34m.\u001b[0m\u001b[0m_cache_output_metric_attributes\u001b[0m\u001b[0;34m(\u001b[0m\u001b[0mmetrics\u001b[0m\u001b[0;34m,\u001b[0m \u001b[0mweighted_metrics\u001b[0m\u001b[0;34m)\u001b[0m\u001b[0;34m\u001b[0m\u001b[0;34m\u001b[0m\u001b[0m\n\u001b[0m\u001b[1;32m    603\u001b[0m \u001b[0;34m\u001b[0m\u001b[0m\n\u001b[1;32m    604\u001b[0m     \u001b[0;31m# Compute total loss.\u001b[0m\u001b[0;34m\u001b[0m\u001b[0;34m\u001b[0m\u001b[0;34m\u001b[0m\u001b[0m\n",
      "\u001b[0;32m~/miniconda3/lib/python3.6/site-packages/tensorflow/python/keras/engine/training.py\u001b[0m in \u001b[0;36m_cache_output_metric_attributes\u001b[0;34m(self, metrics, weighted_metrics)\u001b[0m\n\u001b[1;32m    153\u001b[0m     ]\n\u001b[1;32m    154\u001b[0m     self._per_output_metrics = training_utils.collect_per_output_metric_info(\n\u001b[0;32m--> 155\u001b[0;31m         metrics, self.output_names, output_shapes, self.loss_functions)\n\u001b[0m\u001b[1;32m    156\u001b[0m     \u001b[0mself\u001b[0m\u001b[0;34m.\u001b[0m\u001b[0m_per_output_weighted_metrics\u001b[0m \u001b[0;34m=\u001b[0m\u001b[0;31m \u001b[0m\u001b[0;31m\\\u001b[0m\u001b[0;34m\u001b[0m\u001b[0;34m\u001b[0m\u001b[0m\n\u001b[1;32m    157\u001b[0m         training_utils.collect_per_output_metric_info(\n",
      "\u001b[0;32m~/miniconda3/lib/python3.6/site-packages/tensorflow/python/keras/engine/training_utils.py\u001b[0m in \u001b[0;36mcollect_per_output_metric_info\u001b[0;34m(metrics, output_names, output_shapes, loss_fns, sample_weights)\u001b[0m\n\u001b[1;32m    533\u001b[0m       weighted = False if (sample_weights is None) else (\n\u001b[1;32m    534\u001b[0m           sample_weights[i] is not None)\n\u001b[0;32m--> 535\u001b[0;31m       \u001b[0mmetric_name\u001b[0m \u001b[0;34m=\u001b[0m \u001b[0mget_metric_name\u001b[0m\u001b[0;34m(\u001b[0m\u001b[0mmetric\u001b[0m\u001b[0;34m,\u001b[0m \u001b[0mweighted\u001b[0m\u001b[0;34m)\u001b[0m\u001b[0;34m\u001b[0m\u001b[0;34m\u001b[0m\u001b[0m\n\u001b[0m\u001b[1;32m    536\u001b[0m       metric_fn = get_metric_function(\n\u001b[1;32m    537\u001b[0m           metric, output_shape=output_shapes[i], loss_fn=loss_fns[i])\n",
      "\u001b[0;32m~/miniconda3/lib/python3.6/site-packages/tensorflow/python/keras/engine/training_utils.py\u001b[0m in \u001b[0;36mget_metric_name\u001b[0;34m(metric, weighted)\u001b[0m\n\u001b[1;32m    768\u001b[0m       \u001b[0msuffix\u001b[0m \u001b[0;34m=\u001b[0m \u001b[0;34m'ce'\u001b[0m\u001b[0;34m\u001b[0m\u001b[0;34m\u001b[0m\u001b[0m\n\u001b[1;32m    769\u001b[0m   \u001b[0;32melse\u001b[0m\u001b[0;34m:\u001b[0m\u001b[0;34m\u001b[0m\u001b[0;34m\u001b[0m\u001b[0m\n\u001b[0;32m--> 770\u001b[0;31m     \u001b[0mmetric_fn\u001b[0m \u001b[0;34m=\u001b[0m \u001b[0mmetrics_module\u001b[0m\u001b[0;34m.\u001b[0m\u001b[0mget\u001b[0m\u001b[0;34m(\u001b[0m\u001b[0mmetric\u001b[0m\u001b[0;34m)\u001b[0m\u001b[0;34m\u001b[0m\u001b[0;34m\u001b[0m\u001b[0m\n\u001b[0m\u001b[1;32m    771\u001b[0m     \u001b[0;31m# Get metric name as string\u001b[0m\u001b[0;34m\u001b[0m\u001b[0;34m\u001b[0m\u001b[0;34m\u001b[0m\u001b[0m\n\u001b[1;32m    772\u001b[0m     \u001b[0;32mif\u001b[0m \u001b[0mhasattr\u001b[0m\u001b[0;34m(\u001b[0m\u001b[0mmetric_fn\u001b[0m\u001b[0;34m,\u001b[0m \u001b[0;34m'name'\u001b[0m\u001b[0;34m)\u001b[0m\u001b[0;34m:\u001b[0m\u001b[0;34m\u001b[0m\u001b[0;34m\u001b[0m\u001b[0m\n",
      "\u001b[0;32m~/miniconda3/lib/python3.6/site-packages/tensorflow/python/keras/metrics.py\u001b[0m in \u001b[0;36mget\u001b[0;34m(identifier)\u001b[0m\n\u001b[1;32m    705\u001b[0m     \u001b[0;32mreturn\u001b[0m \u001b[0mdeserialize\u001b[0m\u001b[0;34m(\u001b[0m\u001b[0midentifier\u001b[0m\u001b[0;34m)\u001b[0m\u001b[0;34m\u001b[0m\u001b[0;34m\u001b[0m\u001b[0m\n\u001b[1;32m    706\u001b[0m   \u001b[0;32melif\u001b[0m \u001b[0misinstance\u001b[0m\u001b[0;34m(\u001b[0m\u001b[0midentifier\u001b[0m\u001b[0;34m,\u001b[0m \u001b[0msix\u001b[0m\u001b[0;34m.\u001b[0m\u001b[0mstring_types\u001b[0m\u001b[0;34m)\u001b[0m\u001b[0;34m:\u001b[0m\u001b[0;34m\u001b[0m\u001b[0;34m\u001b[0m\u001b[0m\n\u001b[0;32m--> 707\u001b[0;31m     \u001b[0;32mreturn\u001b[0m \u001b[0mdeserialize\u001b[0m\u001b[0;34m(\u001b[0m\u001b[0mstr\u001b[0m\u001b[0;34m(\u001b[0m\u001b[0midentifier\u001b[0m\u001b[0;34m)\u001b[0m\u001b[0;34m)\u001b[0m\u001b[0;34m\u001b[0m\u001b[0;34m\u001b[0m\u001b[0m\n\u001b[0m\u001b[1;32m    708\u001b[0m   \u001b[0;32melif\u001b[0m \u001b[0mcallable\u001b[0m\u001b[0;34m(\u001b[0m\u001b[0midentifier\u001b[0m\u001b[0;34m)\u001b[0m\u001b[0;34m:\u001b[0m\u001b[0;34m\u001b[0m\u001b[0;34m\u001b[0m\u001b[0m\n\u001b[1;32m    709\u001b[0m     \u001b[0;32mreturn\u001b[0m \u001b[0midentifier\u001b[0m\u001b[0;34m\u001b[0m\u001b[0;34m\u001b[0m\u001b[0m\n",
      "\u001b[0;32m~/miniconda3/lib/python3.6/site-packages/tensorflow/python/keras/metrics.py\u001b[0m in \u001b[0;36mdeserialize\u001b[0;34m(config, custom_objects)\u001b[0m\n\u001b[1;32m    697\u001b[0m       \u001b[0mmodule_objects\u001b[0m\u001b[0;34m=\u001b[0m\u001b[0mglobals\u001b[0m\u001b[0;34m(\u001b[0m\u001b[0;34m)\u001b[0m\u001b[0;34m,\u001b[0m\u001b[0;34m\u001b[0m\u001b[0;34m\u001b[0m\u001b[0m\n\u001b[1;32m    698\u001b[0m       \u001b[0mcustom_objects\u001b[0m\u001b[0;34m=\u001b[0m\u001b[0mcustom_objects\u001b[0m\u001b[0;34m,\u001b[0m\u001b[0;34m\u001b[0m\u001b[0;34m\u001b[0m\u001b[0m\n\u001b[0;32m--> 699\u001b[0;31m       printable_module_name='metric function')\n\u001b[0m\u001b[1;32m    700\u001b[0m \u001b[0;34m\u001b[0m\u001b[0m\n\u001b[1;32m    701\u001b[0m \u001b[0;34m\u001b[0m\u001b[0m\n",
      "\u001b[0;32m~/miniconda3/lib/python3.6/site-packages/tensorflow/python/keras/utils/generic_utils.py\u001b[0m in \u001b[0;36mdeserialize_keras_object\u001b[0;34m(identifier, module_objects, custom_objects, printable_module_name)\u001b[0m\n\u001b[1;32m    191\u001b[0m       \u001b[0;32mif\u001b[0m \u001b[0mfn\u001b[0m \u001b[0;32mis\u001b[0m \u001b[0;32mNone\u001b[0m\u001b[0;34m:\u001b[0m\u001b[0;34m\u001b[0m\u001b[0;34m\u001b[0m\u001b[0m\n\u001b[1;32m    192\u001b[0m         raise ValueError('Unknown ' + printable_module_name + ':' +\n\u001b[0;32m--> 193\u001b[0;31m                          function_name)\n\u001b[0m\u001b[1;32m    194\u001b[0m     \u001b[0;32mreturn\u001b[0m \u001b[0mfn\u001b[0m\u001b[0;34m\u001b[0m\u001b[0;34m\u001b[0m\u001b[0m\n\u001b[1;32m    195\u001b[0m   \u001b[0;32melse\u001b[0m\u001b[0;34m:\u001b[0m\u001b[0;34m\u001b[0m\u001b[0;34m\u001b[0m\u001b[0m\n",
      "\u001b[0;31mValueError\u001b[0m: Unknown metric function:weak_loss_0"
     ]
    },
    {
     "data": {
      "image/png": "[encoded data removed]",
      "text/plain": [
       "<Figure size 1200x400 with 12 Axes>"
      ]
     },
     "metadata": {},
     "output_type": "display_data"
    }
   ],
   "source": [
    "# Loop for R2/penalty performances\n",
    "msevec = np.zeros((np.size(NNarray),np.size(data_ref),218))\n",
    "\n",
    "# Prepare figure\n",
    "fz = 13; # Fontsize\n",
    "plt.rc('text', usetex=True)\n",
    "plt.rc('font', family='serif', size=fz)\n",
    "fig, axes = plt.subplots(nrows=len(data_fn_a), ncols=len(NNarray),\\\n",
    "                        num=None, figsize=(15,5), dpi=80, facecolor='w', edgecolor='k')\n",
    "\n",
    "# Start loop\n",
    "for j,data_fn in enumerate(data_fn_a):\n",
    "    print('j=',j,'and data from ',data_fn)\n",
    "    for i,NNs in enumerate(NNarray):\n",
    "        print('i =',i,' so plotting Subplot #',i+1+j*len(NNarray))\n",
    "        # Load statistics\n",
    "        md = {}; NN = {};\n",
    "        print('Loading model') # 1) Load model\n",
    "        NN = load_model(TRAINDIR+'HDF5_DATA/'+NNs+'.h5',custom_objects=dict_lay)\n",
    "        print('Loading statistics') # 2) Define model diagnostics object\n",
    "        md = ModelDiagnostics(NN,config_fn,data_fn)\n",
    "        \n",
    "        # 3) Calculate statistics and save in pickle file\n",
    "        path_end = 'md'+data_ref[j]+'.pkl'\n",
    "        pathres = 'mdres'+data_ref[j]+'.pkl'\n",
    "        md.stats = pickle.load(open(TRAINDIR+'HDF5_DATA/'+NNs+path_end,'rb'))\n",
    "        #md.res = pickle.load(open(TRAINDIR+'HDF5_DATA/'+NNs+pathres,'rb'))\n",
    "\n",
    "        print(NNs)\n",
    "        print('MSE',md.mse_W2m4().mean((0,1,2)))\n",
    "        msevec[i,j,:] = md.mse_W2m4().mean((0,1)) # Save the MSE for each output\n",
    "#         print('PEN',0.25*(md.res['mass']+md.res['ent']+\\\n",
    "#                           md.res['sw']+md.res['lw']).mean((0,1,2)))\n",
    "#         print('PEN_MASS',0.25*(md.res['mass']).mean((0,1,2)))\n",
    "#         print('PEN_ENT',0.25*(md.res['ent']).mean((0,1,2)))\n",
    "#         print('PEN_LW',0.25*(md.res['lw']).mean((0,1,2)))\n",
    "#         print('PEN_SW',0.25*(md.res['sw']).mean((0,1,2)))\n",
    "        \n",
    "        if VARdim==3: A = np.expand_dims(md.stats['r2']\\\n",
    "                                         [:, :, md.get_output_var_idx(VAR)[15:30]].mean(axis=2),axis=2).T;\n",
    "        else: A = md.stats['r2'][:, :, md.get_output_var_idx(VAR)].T; # When single-valued variable\n",
    "        AX = axes.flat[i+j*len(NNarray)]\n",
    "        im = AX.pcolor(lon,lat,A[0,:,:].T,cmap='Spectral',vmin=0,vmax=1)\n",
    "        #AX.set_title(TITarray[i+j*len(NNarray)])\n",
    "        if j+1==len(data_fn_a): AX.set_xlabel(r'$\\mathrm{Longitude}\\left[^{\\circ}\\right]$')\n",
    "        else: AX.get_xaxis().set_ticks([])\n",
    "        if i==0: AX.set_ylabel(r'$\\mathrm{Latitude}\\left[^{\\circ}\\right]$')\n",
    "        else: AX.get_yaxis().set_ticks([])"
   ]
  },
  {
   "cell_type": "markdown",
   "metadata": {},
   "source": [
    "# 2) Water vapor budget terms"
   ]
  },
  {
   "cell_type": "markdown",
   "metadata": {},
   "source": [
    "## 2.1) Develop diagnostics"
   ]
  },
  {
   "cell_type": "markdown",
   "metadata": {},
   "source": [
    "### 2.1.1) Define models"
   ]
  },
  {
   "cell_type": "code",
   "execution_count": 6,
   "metadata": {},
   "outputs": [],
   "source": [
    "# Config and data files\n",
    "config_fn = '/filer/z-sv-pool12c/t/Tom.Beucler/SPCAM/CBRAIN-CAM/pp_config/8col_rad_tbeucler_local_PostProc.yml'\n",
    "data_fn_a = ['/local/Tom.Beucler/SPCAM_PHYS/8col009_01_valid.nc',\n",
    "             '/local/Tom.Beucler/SPCAM_PHYS/8col009_14_valid.nc',\n",
    "             '/local/Tom.Beucler/SPCAM_PHYS/8col009_31_valid.nc']\n",
    "data_ref = ['','4K','3Kw1']\n",
    "dict_lay = {'SurRadLayer':SurRadLayer,'MassConsLayer':MassConsLayer,'EntConsLayer':EntConsLayer,\\\n",
    "           'weak_loss_0':mse,'weak_loss_1':mse}\n",
    "NNarray = ['JUnotC','JNNL','JNNC','MLRL0','JNNL0.01']"
   ]
  },
  {
   "cell_type": "code",
   "execution_count": 7,
   "metadata": {},
   "outputs": [
    {
     "name": "stderr",
     "output_type": "stream",
     "text": [
      "W0804 16:41:59.425288 22943615391552 deprecation.py:506] From /home/t/Tom.Beucler/miniconda3/lib/python3.7/site-packages/tensorflow/python/ops/init_ops.py:97: calling VarianceScaling.__init__ (from tensorflow.python.ops.init_ops) with dtype is deprecated and will be removed in a future version.\n",
      "Instructions for updating:\n",
      "Call initializer instance with the dtype argument instead of passing it to the constructor\n",
      "W0804 16:41:59.425999 22943615391552 deprecation.py:506] From /home/t/Tom.Beucler/miniconda3/lib/python3.7/site-packages/tensorflow/python/ops/init_ops.py:97: calling Zeros.__init__ (from tensorflow.python.ops.init_ops) with dtype is deprecated and will be removed in a future version.\n",
      "Instructions for updating:\n",
      "Call initializer instance with the dtype argument instead of passing it to the constructor\n",
      "W0804 16:41:59.428167 22943615391552 deprecation.py:506] From /home/t/Tom.Beucler/miniconda3/lib/python3.7/site-packages/tensorflow/python/ops/init_ops.py:97: calling Ones.__init__ (from tensorflow.python.ops.init_ops) with dtype is deprecated and will be removed in a future version.\n",
      "Instructions for updating:\n",
      "Call initializer instance with the dtype argument instead of passing it to the constructor\n"
     ]
    },
    {
     "name": "stdout",
     "output_type": "stream",
     "text": [
      "/scratch-local/Tom.Beucler/SPCAM_PHYS/HDF5_DATA\n",
      "NN name is  JUnotC\n"
     ]
    },
    {
     "name": "stderr",
     "output_type": "stream",
     "text": [
      "/home/t/Tom.Beucler/SPCAM/CBRAIN-CAM/notebooks/tbeucler_devlog/cbrain/model_diagnostics.py:25: YAMLLoadWarning: calling yaml.load() without Loader=... is deprecated, as the default Loader is unsafe. Please read https://msg.pyyaml.org/load for full details.\n",
      "  config = yaml.load(f)\n"
     ]
    },
    {
     "name": "stdout",
     "output_type": "stream",
     "text": [
      "NN name is  JNNL\n"
     ]
    },
    {
     "name": "stderr",
     "output_type": "stream",
     "text": [
      "/home/t/Tom.Beucler/SPCAM/CBRAIN-CAM/notebooks/tbeucler_devlog/cbrain/model_diagnostics.py:25: YAMLLoadWarning: calling yaml.load() without Loader=... is deprecated, as the default Loader is unsafe. Please read https://msg.pyyaml.org/load for full details.\n",
      "  config = yaml.load(f)\n"
     ]
    },
    {
     "name": "stdout",
     "output_type": "stream",
     "text": [
      "NN name is  JNNC\n"
     ]
    },
    {
     "name": "stderr",
     "output_type": "stream",
     "text": [
      "/home/t/Tom.Beucler/SPCAM/CBRAIN-CAM/notebooks/tbeucler_devlog/cbrain/model_diagnostics.py:25: YAMLLoadWarning: calling yaml.load() without Loader=... is deprecated, as the default Loader is unsafe. Please read https://msg.pyyaml.org/load for full details.\n",
      "  config = yaml.load(f)\n",
      "W0804 16:42:05.663691 22943615391552 deprecation.py:506] From /home/t/Tom.Beucler/miniconda3/lib/python3.7/site-packages/tensorflow/python/ops/init_ops.py:97: calling GlorotUniform.__init__ (from tensorflow.python.ops.init_ops) with dtype is deprecated and will be removed in a future version.\n",
      "Instructions for updating:\n",
      "Call initializer instance with the dtype argument instead of passing it to the constructor\n"
     ]
    },
    {
     "name": "stdout",
     "output_type": "stream",
     "text": [
      "NN name is  MLRL0\n"
     ]
    },
    {
     "name": "stderr",
     "output_type": "stream",
     "text": [
      "/home/t/Tom.Beucler/SPCAM/CBRAIN-CAM/notebooks/tbeucler_devlog/cbrain/model_diagnostics.py:25: YAMLLoadWarning: calling yaml.load() without Loader=... is deprecated, as the default Loader is unsafe. Please read https://msg.pyyaml.org/load for full details.\n",
      "  config = yaml.load(f)\n"
     ]
    },
    {
     "name": "stdout",
     "output_type": "stream",
     "text": [
      "NN name is  JNNL0.01\n"
     ]
    },
    {
     "name": "stderr",
     "output_type": "stream",
     "text": [
      "/home/t/Tom.Beucler/SPCAM/CBRAIN-CAM/notebooks/tbeucler_devlog/cbrain/model_diagnostics.py:25: YAMLLoadWarning: calling yaml.load() without Loader=... is deprecated, as the default Loader is unsafe. Please read https://msg.pyyaml.org/load for full details.\n",
      "  config = yaml.load(f)\n"
     ]
    }
   ],
   "source": [
    "index = 0; # Choose dataset from data_fn_a [0 is +0K of length 5172]\n",
    "lat_ind = [31,32] # index over which we evaluate generalization performances\n",
    "\n",
    "NN = {}; md = {};\n",
    "%cd $TRAINDIR/HDF5_DATA\n",
    "for i,NNs in enumerate(NNarray):\n",
    "    print('NN name is ',NNs)\n",
    "    path = TRAINDIR+'HDF5_DATA/'+NNs+'.h5'\n",
    "    NN[NNs] = load_model(path,custom_objects=dict_lay)\n",
    "    md[NNs] = ModelDiagnostics(NN[NNs],config_fn,data_fn_a[index])"
   ]
  },
  {
   "cell_type": "markdown",
   "metadata": {},
   "source": [
    "### 2.1.2) Loop over each timestep and decompose the residual into error on each budget term"
   ]
  },
  {
   "cell_type": "code",
   "execution_count": 11,
   "metadata": {},
   "outputs": [],
   "source": [
    "# tgb - 6/24/2019 - Define diagnostics to calculate residual from water budget\n",
    "def dec_res(md, inp, pred):\n",
    "    inp_div = md.valid_gen.input_transform.div\n",
    "    inp_sub = md.valid_gen.input_transform.sub\n",
    "    norm_q = md.valid_gen.output_transform.scale[md.get_output_var_idx('PHQ')]\n",
    "\n",
    "    # Input\n",
    "    PS_idx = 300\n",
    "    LHFLX_idx = 303\n",
    "\n",
    "    # Output\n",
    "    PHQ_idx = slice(0, 30)\n",
    "    PHCLDLIQ_idx = slice(30, 60)\n",
    "    PHCLDICE_idx = slice(60, 90)\n",
    "    PRECT_idx = 214\n",
    "    PRECTEND_idx = 215\n",
    "\n",
    "    # 1. Compute dP_tilde\n",
    "    dP_tilde = compute_dP_tilde(inp[:, PS_idx],  inp_div[PS_idx], inp_sub[PS_idx], norm_q, hyai, hybi)\n",
    "\n",
    "    # 2. Compute water integral\n",
    "    WATINT = np.sum(dP_tilde *(pred[:, PHQ_idx] + pred[:, PHCLDLIQ_idx] + pred[:, PHCLDICE_idx]), axis=1)\n",
    "\n",
    "    # 3. Compute latent heat flux and precipitation forcings\n",
    "    LHFLX = inp[:, LHFLX_idx] * inp_div[LHFLX_idx] + inp_sub[LHFLX_idx]\n",
    "    PREC = pred[:, PRECT_idx] + pred[:, PRECTEND_idx]\n",
    "\n",
    "    # 4. Compute water mass residual\n",
    "    WATRES = LHFLX - PREC - WATINT\n",
    "\n",
    "    # 5. Put all terms of water vapor budget in a dictionary\n",
    "    BUD = {}\n",
    "    BUD['TOT'] = WATRES\n",
    "    BUD['LHF'] = LHFLX\n",
    "    BUD['PREC'] = -PREC\n",
    "    BUD['WAT'] = -WATINT\n",
    "    \n",
    "    return BUD"
   ]
  },
  {
   "cell_type": "markdown",
   "metadata": {},
   "source": [
    "tgb - 6/26/2019 - Repeat for enthalpy"
   ]
  },
  {
   "cell_type": "code",
   "execution_count": 10,
   "metadata": {},
   "outputs": [],
   "source": [
    "def entdec_res(self,inp,pred):\n",
    "    inp_div = self.valid_gen.input_transform.div\n",
    "    inp_sub = self.valid_gen.input_transform.sub\n",
    "    norm_q = self.valid_gen.output_transform.scale[self.get_output_var_idx('PHQ')]\n",
    "\n",
    "    # Input\n",
    "    PS_idx = 300\n",
    "    SHFLX_idx = 302\n",
    "    LHFLX_idx = 303\n",
    "\n",
    "    # Output\n",
    "    PHQ_idx = slice(0, 30)\n",
    "    PHCLDLIQ_idx = slice(30, 60)\n",
    "    PHCLDICE_idx = slice(60, 90)\n",
    "    TPHYSTND_idx = slice(90, 120)\n",
    "    DTVKE_idx = slice(180, 210)\n",
    "    FSNT_idx = 210\n",
    "    FSNS_idx = 211\n",
    "    FLNT_idx = 212\n",
    "    FLNS_idx = 213\n",
    "    PRECT_idx = 214\n",
    "    PRECTEND_idx = 215\n",
    "    PRECST_idx = 216\n",
    "    PRECSTEND_idx = 217\n",
    "\n",
    "    # 1. Compute dP_tilde\n",
    "    dP_tilde = compute_dP_tilde(inp[:, PS_idx],  inp_div[PS_idx], inp_sub[PS_idx], norm_q, hyai, hybi)\n",
    "\n",
    "    # 2. Compute net energy input from phase change and precipitation\n",
    "    PHAS = L_I / L_V * (\n",
    "            (pred[:, PRECST_idx] + pred[:, PRECSTEND_idx]) -\n",
    "            (pred[:, PRECT_idx] + pred[:, PRECTEND_idx])\n",
    "    )\n",
    "\n",
    "    # 3. Compute net energy input from radiation, SHFLX and TKE\n",
    "    RAD = (pred[:, FSNT_idx] - pred[:, FSNS_idx] -\n",
    "           pred[:, FLNT_idx] + pred[:, FLNS_idx])\n",
    "    SHFLX = (inp[:, SHFLX_idx] * inp_div[SHFLX_idx] +\n",
    "             inp_sub[SHFLX_idx])\n",
    "    KEDINT = np.sum(dP_tilde * pred[:, DTVKE_idx], 1)\n",
    "\n",
    "    # 4. Compute tendency of vapor due to phase change\n",
    "    LHFLX = (inp[:, LHFLX_idx] * inp_div[LHFLX_idx] +\n",
    "             inp_sub[LHFLX_idx])\n",
    "    VAPINT = np.sum(dP_tilde * pred[:, PHQ_idx], 1)\n",
    "    SPDQINT = (VAPINT - LHFLX) * L_S / L_V\n",
    "\n",
    "    # 5. Same for cloud liquid water tendency\n",
    "    SPDQCINT = np.sum(dP_tilde * pred[:, PHCLDLIQ_idx], 1) * L_I / L_V\n",
    "\n",
    "    # 6. And the same for T but remember residual is still missing\n",
    "    DTINT = np.sum(dP_tilde * pred[:, TPHYSTND_idx], 1)\n",
    "\n",
    "    # 7. Compute enthalpy residual\n",
    "    ENTRES = SPDQINT + SPDQCINT + DTINT - RAD - SHFLX - PHAS - KEDINT\n",
    "    \n",
    "    # 8. Isolate four terms and cross terms\n",
    "    BUD = {}\n",
    "    BUD['TOT'] = ENTRES\n",
    "    BUD['THERMO'] = SPDQINT + SPDQCINT + DTINT - KEDINT + L_S/L_V*LHFLX\n",
    "    BUD['RAD'] = -RAD\n",
    "    BUD['PHAS'] = -PHAS\n",
    "    BUD['SHFLX'] = -SHFLX-L_S/L_V*LHFLX\n",
    "\n",
    "    return BUD"
   ]
  },
  {
   "cell_type": "markdown",
   "metadata": {},
   "source": [
    "The goal is to relate how much our neural network violates the physical\n",
    "constraints to its performances. Quantitatively, we relate the residual\n",
    "of a budget (e.g. water) to the error of each of the budget's terms\n",
    "(i.e. how much the budget's term deviates from the truth): \n",
    "$$\n",
    "\\begin{aligned}\\mathrm{Residual_{pred}} & \\overset{\\mathrm{def}}{=}\\left(\\mathrm{EVAP_{pred}-WATINT_{pred}-PREC_{pred}}\\right)^{2}\\\\\n",
    " & =\\left(\\mathrm{EVAP_{error}-WATINT_{error}-PREC_{error}}\\right)^{2}\n",
    "\\end{aligned}\n",
    "$$\n",
    "where the error of each component is defined as:\n",
    "$$\n",
    "X_{\\mathrm{error}}\\overset{\\mathrm{def}}{=}X_{\\mathrm{pred}}-X_{\\mathrm{truth}}\n",
    "$$\n",
    "and we have used the fact that the residual was 0 for the ``truth'':\n",
    "$$\n",
    "\\mathrm{Residual_{truth}}=0\\ \\Rightarrow\\ \\left(\\mathrm{EVAP_{pred}-WATINT_{pred}-PREC_{pred}}\\right)=0\n",
    "$$\n",
    "We can therefore write $\\mathrm{Residual_{pred}}\\ $as a function\n",
    "of the mean-squared-error of each term and the cross-product of different\n",
    "errors. Since $\\mathrm{EVAP}\\ $is an input, $\\mathrm{EVAP_{error}=0}\\ $and:\n",
    "$$\n",
    "\\mathrm{Residual_{pred}}=\\mathrm{WATINT_{error}^{2}+PREC_{error}^{2}+2PREC_{error}\\times WATINT_{error}}\n",
    "$$\n",
    "This can be decomposed further by decomposing $\\mathrm{WATINT,PREC\\ }$into\n",
    "its different terms. Because enforcing physical constraints sets $\\mathrm{Residual_{pred}}\\ $to\n",
    "0, it constrains the performances of the network ($\\mathrm{WATINT_{error}^{2},PREC_{error}^{2}}$)\n",
    "via the equation above.\n",
    "\\end{document}\n"
   ]
  },
  {
   "cell_type": "code",
   "execution_count": 9,
   "metadata": {},
   "outputs": [],
   "source": [
    "# tgb - 7/3/2019 - Choose number of timesteps\n",
    "nt = 1000"
   ]
  },
  {
   "cell_type": "markdown",
   "metadata": {},
   "source": [
    "## 2.2) Water"
   ]
  },
  {
   "cell_type": "code",
   "execution_count": 14,
   "metadata": {},
   "outputs": [
    {
     "data": {
      "application/vnd.jupyter.widget-view+json": {
       "model_id": "ff3f27541a7946258f5507fb1418f0f2",
       "version_major": 2,
       "version_minor": 0
      },
      "text/plain": [
       "HBox(children=(IntProgress(value=0, max=1000), HTML(value='')))"
      ]
     },
     "metadata": {},
     "output_type": "display_data"
    },
    {
     "name": "stdout",
     "output_type": "stream",
     "text": [
      "\n"
     ]
    },
    {
     "data": {
      "application/vnd.jupyter.widget-view+json": {
       "model_id": "b5c3834a20594b6991fe5945895042b9",
       "version_major": 2,
       "version_minor": 0
      },
      "text/plain": [
       "HBox(children=(IntProgress(value=0, max=1000), HTML(value='')))"
      ]
     },
     "metadata": {},
     "output_type": "display_data"
    },
    {
     "name": "stdout",
     "output_type": "stream",
     "text": [
      "\n"
     ]
    },
    {
     "data": {
      "application/vnd.jupyter.widget-view+json": {
       "model_id": "74535c1f98b14bfe9fe7ead92649859f",
       "version_major": 2,
       "version_minor": 0
      },
      "text/plain": [
       "HBox(children=(IntProgress(value=0, max=1000), HTML(value='')))"
      ]
     },
     "metadata": {},
     "output_type": "display_data"
    },
    {
     "name": "stdout",
     "output_type": "stream",
     "text": [
      "\n"
     ]
    },
    {
     "data": {
      "application/vnd.jupyter.widget-view+json": {
       "model_id": "6af1df7f7d284818b3258f92c2d2fbae",
       "version_major": 2,
       "version_minor": 0
      },
      "text/plain": [
       "HBox(children=(IntProgress(value=0, max=1000), HTML(value='')))"
      ]
     },
     "metadata": {},
     "output_type": "display_data"
    },
    {
     "name": "stdout",
     "output_type": "stream",
     "text": [
      "\n"
     ]
    },
    {
     "data": {
      "application/vnd.jupyter.widget-view+json": {
       "model_id": "f743dc6f3d694783ab192248b2d6a91c",
       "version_major": 2,
       "version_minor": 0
      },
      "text/plain": [
       "HBox(children=(IntProgress(value=0, max=1000), HTML(value='')))"
      ]
     },
     "metadata": {},
     "output_type": "display_data"
    },
    {
     "name": "stdout",
     "output_type": "stream",
     "text": [
      "\n"
     ]
    }
   ],
   "source": [
    "NNarray = ['JUnotC','JNNL','JNNC','MLRL0','JNNL0.01']\n",
    "#NNarray = ['JUnotC','JNNL0.01','JNNC']\n",
    "Bdic = ['TOT','LHF','PREC','WAT']\n",
    "Rdic = ['TOT','PREC','WAT','CROSS']\n",
    "# Allocate stats arrays\n",
    "for i,NNs in enumerate(NNarray):\n",
    "    md[NNs].bud = {}; md[NNs].err = {};\n",
    "    md[NNs].tru = {};\n",
    "    M = md[NNs]\n",
    "    bud = {}; tru = {}; err = {}; \n",
    "    for iB,Bs in enumerate(Bdic):\n",
    "            bud[Bs] = np.zeros((M.nlat, M.nlon,1))\n",
    "            tru[Bs] = np.copy(bud[Bs])\n",
    "    for iR,Rs in enumerate(Rdic):\n",
    "            err[Rs] = np.zeros((M.nlat, M.nlon,1))\n",
    "    for itime in tqdm(range(nt)):\n",
    "        inp, p, truth = M.get_inp_pred_truth(itime)  # [lat, lon, var, lev]\n",
    "        # residuals\n",
    "        R = dec_res(M,inp,p) # Predicted water budget\n",
    "        T = dec_res(M,inp,truth) # True water budget\n",
    "        # Budget terms\n",
    "        for iB,Bs in enumerate(Bdic):\n",
    "            bud[Bs] += M.reshape_ngeo(R[Bs])\n",
    "            tru[Bs] += M.reshape_ngeo(T[Bs])\n",
    "        # Absolute errors\n",
    "        err['PREC'] += M.reshape_ngeo(np.square(R['PREC']-T['PREC']))\n",
    "        err['WAT'] += M.reshape_ngeo(np.square(R['WAT']-T['WAT']))\n",
    "        err['CROSS'] += 2*M.reshape_ngeo((R['WAT']-T['WAT'])*(R['PREC']-T['PREC'])+\\\n",
    "                                        (R['LHF']-T['LHF'])*(R['PREC']-T['PREC'])+\\\n",
    "                                         (R['WAT']-T['WAT'])*(R['LHF']-T['LHF']))\n",
    "        # err['TOT']>bud['TOT'] because we are taking the square\n",
    "        err['TOT'] += M.reshape_ngeo(np.square(R['TOT']-T['TOT'])) \n",
    "            \n",
    "    # Compute average statistics\n",
    "    for iR,Rs in enumerate(Rdic):\n",
    "        md[NNs].err[Rs] = err[Rs]/nt # Budget term in W2/m4\n",
    "    for iB,Bs in enumerate(Bdic):\n",
    "        md[NNs].bud[Bs] = bud[Bs]/nt # Budget term in W2/m4\n",
    "        md[NNs].tru[Bs] = tru[Bs]/nt # True budget term in W2/m4"
   ]
  },
  {
   "cell_type": "code",
   "execution_count": 15,
   "metadata": {},
   "outputs": [
    {
     "name": "stdout",
     "output_type": "stream",
     "text": [
      "7_3_Water_8col009_01_valid.n_JUnotC.h5\n",
      "7_3_Water_8col009_01_valid.n_JNNL.h5\n",
      "7_3_Water_8col009_01_valid.n_JNNC.h5\n",
      "7_3_Water_8col009_01_valid.n_MLRL0.h5\n",
      "7_3_Water_8col009_01_valid.n_JNNL0.01.h5\n"
     ]
    }
   ],
   "source": [
    "import pickle\n",
    "for i,NNs in enumerate(NNarray):\n",
    "    filename = '7_3_Water_'+data_fn_a[index][-19:-1]+'_'+NNs+'.h5'\n",
    "    print(filename)\n",
    "    hf = open(filename,'wb')\n",
    "    Water = {\"budget\":md[NNs].bud,\n",
    "                \"truth\":md[NNs].tru,\n",
    "                \"error\":md[NNs].err,\n",
    "                \"nt\":nt}\n",
    "    pickle.dump(Water,hf)\n",
    "    hf.close()"
   ]
  },
  {
   "cell_type": "markdown",
   "metadata": {},
   "source": [
    "## 2.3) Enthalpy"
   ]
  },
  {
   "cell_type": "code",
   "execution_count": 11,
   "metadata": {},
   "outputs": [
    {
     "data": {
      "application/vnd.jupyter.widget-view+json": {
       "model_id": "0b328df4c0984f048da6852907a50937",
       "version_major": 2,
       "version_minor": 0
      },
      "text/plain": [
       "HBox(children=(IntProgress(value=0, max=1000), HTML(value='')))"
      ]
     },
     "metadata": {},
     "output_type": "display_data"
    },
    {
     "name": "stdout",
     "output_type": "stream",
     "text": [
      "\n"
     ]
    },
    {
     "data": {
      "application/vnd.jupyter.widget-view+json": {
       "model_id": "5d9959c8aaa343988fb528a51a03e1fb",
       "version_major": 2,
       "version_minor": 0
      },
      "text/plain": [
       "HBox(children=(IntProgress(value=0, max=1000), HTML(value='')))"
      ]
     },
     "metadata": {},
     "output_type": "display_data"
    },
    {
     "name": "stdout",
     "output_type": "stream",
     "text": [
      "\n"
     ]
    },
    {
     "data": {
      "application/vnd.jupyter.widget-view+json": {
       "model_id": "9fbe753280084746973fd89c69a14429",
       "version_major": 2,
       "version_minor": 0
      },
      "text/plain": [
       "HBox(children=(IntProgress(value=0, max=1000), HTML(value='')))"
      ]
     },
     "metadata": {},
     "output_type": "display_data"
    },
    {
     "name": "stdout",
     "output_type": "stream",
     "text": [
      "\n"
     ]
    },
    {
     "data": {
      "application/vnd.jupyter.widget-view+json": {
       "model_id": "461f7bdfbc2f4b4c8b4060660e14fb35",
       "version_major": 2,
       "version_minor": 0
      },
      "text/plain": [
       "HBox(children=(IntProgress(value=0, max=1000), HTML(value='')))"
      ]
     },
     "metadata": {},
     "output_type": "display_data"
    },
    {
     "name": "stdout",
     "output_type": "stream",
     "text": [
      "\n"
     ]
    },
    {
     "data": {
      "application/vnd.jupyter.widget-view+json": {
       "model_id": "4df964c89c79445abb165fecdb6086c1",
       "version_major": 2,
       "version_minor": 0
      },
      "text/plain": [
       "HBox(children=(IntProgress(value=0, max=1000), HTML(value='')))"
      ]
     },
     "metadata": {},
     "output_type": "display_data"
    },
    {
     "name": "stdout",
     "output_type": "stream",
     "text": [
      "\n"
     ]
    }
   ],
   "source": [
    "NNarray = ['JUnotC','JNNL','JNNC','MLRL0','JNNL0.01']\n",
    "#NNarray = ['JUnotC','JNNL0.01','JNNC']\n",
    "Bdic = ['TOT','THERMO','RAD','PHAS','SHFLX']\n",
    "Rdic = ['TOT','THERMO','RAD','PHAS','SHFLX','CROSS']\n",
    "# Allocate stats arrays\n",
    "for i,NNs in enumerate(NNarray):\n",
    "    md[NNs].bud = {}; md[NNs].err = {};\n",
    "    md[NNs].tru = {};\n",
    "    M = md[NNs]\n",
    "    bud = {}; tru = {}; err = {}; \n",
    "    for iB,Bs in enumerate(Bdic):\n",
    "            bud[Bs] = np.zeros((M.nlat, M.nlon,1))\n",
    "            tru[Bs] = np.copy(bud[Bs])\n",
    "    for iR,Rs in enumerate(Rdic):\n",
    "            err[Rs] = np.zeros((M.nlat, M.nlon,1))\n",
    "    for itime in tqdm(range(nt)):\n",
    "        inp, p, truth = M.get_inp_pred_truth(itime)  # [lat, lon, var, lev]\n",
    "        # residuals\n",
    "        R = entdec_res(M,inp,p) # Predicted water budget\n",
    "        T = entdec_res(M,inp,truth) # True water budget\n",
    "        E = {}\n",
    "        for iB,Bs in enumerate(Bdic):\n",
    "            E[Bs] = R[Bs]-T[Bs] # Error\n",
    "        # Budget terms\n",
    "        for iB,Bs in enumerate(Bdic):\n",
    "            bud[Bs] += M.reshape_ngeo(R[Bs])\n",
    "            tru[Bs] += M.reshape_ngeo(T[Bs])\n",
    "        # Absolute errors\n",
    "        for iB,Bs in enumerate(Bdic):\n",
    "            err[Bs] += M.reshape_ngeo(np.square(E[Bs]))\n",
    "        err['CROSS'] += 2*M.reshape_ngeo(E['THERMO']*\\\n",
    "                                         (E['RAD']+E['PHAS']+E['SHFLX'])+\\\n",
    "                                         E['RAD']*\\\n",
    "                                         (E['THERMO']+E['PHAS']+E['SHFLX'])+\\\n",
    "                                         E['PHAS']*\\\n",
    "                                         (E['THERMO']+E['RAD']+E['SHFLX'])+\\\n",
    "                                         E['SHFLX']*\\\n",
    "                                         (E['THERMO']+E['RAD']+E['PHAS']))\n",
    "    # Compute average statistics\n",
    "    for iR,Rs in enumerate(Rdic):\n",
    "        md[NNs].err[Rs] = err[Rs]/nt # Budget term in W2/m4\n",
    "    for iB,Bs in enumerate(Bdic):\n",
    "        md[NNs].bud[Bs] = bud[Bs]/nt # Budget term in W2/m4\n",
    "        md[NNs].tru[Bs] = tru[Bs]/nt # True budget term in W2/m4"
   ]
  },
  {
   "cell_type": "code",
   "execution_count": 4,
   "metadata": {},
   "outputs": [],
   "source": [
    "# import pickle\n",
    "# for i,NNs in enumerate(NNarray):\n",
    "#     filename = '7_3_Enthalpy_'+data_fn_a[index][-19:-1]+'_'+NNs+'.h5'\n",
    "#     print(filename)\n",
    "#     hf = open(filename,'wb')\n",
    "#     Enthalpy = {\"budget\":md[NNs].bud,\n",
    "#                 \"truth\":md[NNs].tru,\n",
    "#                 \"error\":md[NNs].err,\n",
    "#                 \"nt\":nt}\n",
    "#     pickle.dump(Enthalpy,hf)\n",
    "#     hf.close()"
   ]
  },
  {
   "cell_type": "code",
   "execution_count": 8,
   "metadata": {
    "scrolled": false
   },
   "outputs": [],
   "source": [
    "index = 0\n",
    "var = 'Enthalpy'\n",
    "\n",
    "if index==0:\n",
    "    lat_ind = np.arange(0,64)\n",
    "elif index==1:\n",
    "    #lat_ind = [30,33]\n",
    "    lat_ind = np.arange(0,64)\n",
    "\n",
    "if var=='Water':\n",
    "    Bdic = ['TOT','LHF','PREC','WAT']; \n",
    "    Rdic = ['TOT','PREC','WAT','CROSS']\n",
    "elif var=='Enthalpy':\n",
    "    Bdic = ['TOT','THERMO','RAD','PHAS','SHFLX'];\n",
    "    Rdic = ['TOT','THERMO','RAD','PHAS','SHFLX','CROSS'];\n",
    "    \n",
    "import pickle\n",
    "M = {}\n",
    "for i,NNs in enumerate(NNarray):\n",
    "    filename = '7_3_'+var+'_'+data_fn_a[index][-19:-1]+'_'+NNs+'.h5'\n",
    "    hf = open(filename,'rb')\n",
    "    M[NNs] = pickle.load(hf)"
   ]
  },
  {
   "cell_type": "code",
   "execution_count": 9,
   "metadata": {},
   "outputs": [
    {
     "data": {
      "text/plain": [
       "'7_3_Enthalpy_8col009_01_valid.n_JNNL0.01.h5'"
      ]
     },
     "execution_count": 9,
     "metadata": {},
     "output_type": "execute_result"
    }
   ],
   "source": [
    "filename"
   ]
  },
  {
   "cell_type": "code",
   "execution_count": 10,
   "metadata": {},
   "outputs": [],
   "source": [
    "# VAR = 'THERMO'\n",
    "# vmin = -0.5\n",
    "# vmax = 2.5\n",
    "# levels = np.linspace(vmin, vmax, 4)\n",
    "\n",
    "# v1 = M['JNNL']['error']['THERMO'][:,:,0]\n",
    "# v2 = M['JNNC']['error']['THERMO'][:,:,0]\n",
    "# v3 = M['JNNL']['error']['TOT'][:,:,0]\n",
    "\n",
    "# plt.figure(figsize=(10,3))\n",
    "\n",
    "# #plt.subplot(2,1,1)\n",
    "# plt.contourf(coor.lon,coor.lat,(v1-v2)/v3,cmap='RdBu',levels=levels)\n",
    "# plt.colorbar()\n",
    "#plt.subplot(2,1,2)\n",
    "#plt.imshow(v3,vmin=vmin,vmax=vmax)\n",
    "#plt.colorbar()"
   ]
  },
  {
   "cell_type": "code",
   "execution_count": 19,
   "metadata": {},
   "outputs": [
    {
     "name": "stderr",
     "output_type": "stream",
     "text": [
      "/home/t/Tom.Beucler/miniconda3/lib/python3.6/site-packages/ipykernel_launcher.py:17: RuntimeWarning: invalid value encountered in log10\n",
      "/home/t/Tom.Beucler/miniconda3/lib/python3.6/site-packages/ipykernel_launcher.py:23: RuntimeWarning: divide by zero encountered in log10\n"
     ]
    },
    {
     "data": {
      "text/plain": [
       "<matplotlib.legend.Legend at 0x14ff260b36d8>"
      ]
     },
     "execution_count": 19,
     "metadata": {},
     "output_type": "execute_result"
    },
    {
     "data": {
      "image/png": "[encoded data removed]",
      "text/plain": [
       "<Figure size 720x720 with 1 Axes>"
      ]
     },
     "metadata": {
      "needs_background": "light"
     },
     "output_type": "display_data"
    }
   ],
   "source": [
    "VAR = 'THERMO'\n",
    "\n",
    "v1 = M['JNNL']['error']['THERMO'][:,:,0].mean(axis=1)\n",
    "v2 = M['JNNC']['error']['THERMO'][:,:,0].mean(axis=1)\n",
    "v3 = M['JNNL']['error']['TOT'][:,:,0].mean(axis=1)\n",
    "\n",
    "w1 = M['JNNL0.01']['error']['THERMO'][:,:,0].mean(axis=1)\n",
    "w3 = M['JNNL0.01']['error']['TOT'][:,:,0].mean(axis=1)\n",
    "\n",
    "u1 = M['JUnotC']['error']['THERMO'][:,:,0].mean(axis=1)\n",
    "u3 = M['JUnotC']['error']['TOT'][:,:,0].mean(axis=1) \n",
    "\n",
    "plt.figure(figsize=(10,10))\n",
    "\n",
    "plt.plot(coor.lat,np.log10(v1-v2),label='JNNL',color='b')\n",
    "plt.plot(coor.lat,np.log10(v3),label='JNNL_error',color='b',linestyle='--')\n",
    "plt.plot(coor.lat,np.log10(w1-v2),label='JNNL0.01',color='r')\n",
    "plt.plot(coor.lat,np.log10(w3),label='JNNL0.01_error',color='r',linestyle='--')\n",
    "plt.plot(coor.lat,np.log10(u1-v2),label='JUnotC',color='g')\n",
    "plt.plot(coor.lat,np.log10(u3),label='JUnotC',color='g',linestyle='--')\n",
    "#plt.plot(coor.lat,v2,label='JNNC')\n",
    "#plt.plot(coor.lat,M['JNNL']['error']['TOT'][:,:,0].mean(axis=1),label='JNNL penalty')\n",
    "plt.axhline(y=np.log10(0),color='k')\n",
    "plt.legend()"
   ]
  },
  {
   "cell_type": "code",
   "execution_count": 68,
   "metadata": {},
   "outputs": [
    {
     "name": "stderr",
     "output_type": "stream",
     "text": [
      "/home/t/Tom.Beucler/miniconda3/lib/python3.7/site-packages/tensorflow/python/keras/api/_v1/keras/models/__init__.py:39: RuntimeWarning: invalid value encountered in log10\n"
     ]
    },
    {
     "data": {
      "text/plain": [
       "[Text(1, 0, '$10^0$'),\n",
       " Text(1, 0, '$10^1$'),\n",
       " Text(1, 0, '$10^2$'),\n",
       " Text(1, 0, '$10^3$'),\n",
       " Text(1, 0, '$10^4$'),\n",
       " Text(1, 0, '$10^5$')]"
      ]
     },
     "execution_count": 68,
     "metadata": {},
     "output_type": "execute_result"
    },
    {
     "data": {
      "image/png": "[encoded data removed]",
      "text/plain": [
       "<Figure size 400x400 with 1 Axes>"
      ]
     },
     "metadata": {},
     "output_type": "display_data"
    }
   ],
   "source": [
    "import matplotlib as mpl\n",
    "import matplotlib.pyplot as plt\n",
    "import matplotlib.image as imag\n",
    "\n",
    "cplot = ['b','r','g']\n",
    "dict_lay = {'SurRadLayer':SurRadLayer,'MassConsLayer':MassConsLayer,'EntConsLayer':EntConsLayer,\\\n",
    "           'weak_loss_0':mse,'weak_loss_1':mse}\n",
    "NNplot = ['JNNL','JNNL0.01','JUnotC']\n",
    "NNsREF = 'JNNC'\n",
    "VAR = 'THERMO'\n",
    "\n",
    "fz = 20\n",
    "LAB = [r'$\\mathrm{THERMO}$','','',r'$\\mathrm{RESID}$','','']\n",
    "lw = 4\n",
    "siz = 100\n",
    "S0 = 320 # Representative mean solar insolation for normalization purposes\n",
    "S0max = 1410.6442 # Max solar insolation for normalization purposes\n",
    "SN = S0/100 # Representative target = mean insolation / 4\n",
    "XNNA = 1.25 # Abscissa where architecture-constrained network will be placed\n",
    "XTEXT = 0.25 # Text placement\n",
    "YMIN = -1 # Representative value for conserving network\n",
    "YTEXT = 0.3 # Text placement\n",
    "\n",
    "MSEs = {}; PENs = {}; ax = {};\n",
    "\n",
    "plt.rc('text', usetex=True)\n",
    "plt.rc('font', family='serif', size=fz)\n",
    "\n",
    "mpl.rcParams['lines.linewidth'] = lw\n",
    "plt.close('all')\n",
    "f = plt.figure(num=None, figsize=(5,5), dpi=80, facecolor='w', edgecolor='k')\n",
    "ax = f.add_subplot(111)\n",
    "\n",
    "REF = M[NNsREF]['error']['THERMO'][:,:,0].mean(axis=1)\n",
    "\n",
    "ETHERMOs = {}; ETOTs = {};\n",
    "for imodel,NNs in enumerate(NNplot):\n",
    "    ETHERMOs[NNs] = plt.plot(coor.lat,\\\n",
    "                             np.log10(M[NNs]['error'][VAR][:,:,0].mean(axis=1)-REF),\\\n",
    "                             color=cplot[imodel],label=LAB[imodel])\n",
    "    ETOTs[NNs] = plt.plot(coor.lat,\\\n",
    "                          np.log10(M[NNs]['error']['TOT'][:,:,0].mean(axis=1)),\\\n",
    "                          color=cplot[imodel],linestyle='--',label=LAB[np.size(NNplot)+imodel])\n",
    "\n",
    "plt.grid()\n",
    "ax.yaxis.tick_right()\n",
    "ax.yaxis.set_label_position(\"right\")\n",
    "plt.xlim((np.min(coor.lat),np.max(coor.lat)))\n",
    "\n",
    "# Text\n",
    "N2NETt = plt.text(55,3.65,s='$\\mathrm{NN2}$',color='g')\n",
    "NNETt = plt.text(55,2.15,s='$\\mathrm{NN}$',color='b')\n",
    "LCNETt = plt.text(55,1,s='$\\mathrm{LCnet}$',color='r')\n",
    "\n",
    "# plt.ylim((YMIN,3.33))\n",
    "plt.xlabel(r'$\\mathrm{Latitude\\ \\left(^{\\circ}\\right)}$')\n",
    "plt.ylabel(r'$\\mathrm{Error}$',labelpad=10)\n",
    "plt.title(r'$\\mathrm{\\left(b\\right)\\ MSE\\ relative\\ to\\ ACnet}$')\n",
    "plt.legend(loc='center left',fontsize=2*fz/3)\n",
    "\n",
    "# Change y labels to 10^n\n",
    "# labels = [item.get_text() for item in ax.get_yticklabels()]\n",
    "# print(labels)\n",
    "# for ilab,lab in enumerate(labels):\n",
    "#     print(ilab,lab)\n",
    "#     labels[ilab]='$10^'+lab[1:2]+'$'\n",
    "ax.set_yticklabels(labels)\n"
   ]
  },
  {
   "cell_type": "code",
   "execution_count": 65,
   "metadata": {},
   "outputs": [
    {
     "name": "stdout",
     "output_type": "stream",
     "text": [
      "$0$\n",
      "$1$\n",
      "$2$\n",
      "$3$\n",
      "$4$\n",
      "$5$\n",
      "['$10^0$', '$10^1$', '$10^2$', '$10^3$', '$10^4$', '$10^5$']\n"
     ]
    }
   ],
   "source": [
    "labels\n",
    "labels = [item.get_text() for item in ax.get_yticklabels()]\n",
    "for ilab,lab in enumerate(labels):\n",
    "    print(lab)\n",
    "    labels[ilab]='$10^'+lab[1:2]+'$'\n",
    "print(labels)"
   ]
  },
  {
   "cell_type": "code",
   "execution_count": 36,
   "metadata": {},
   "outputs": [
    {
     "name": "stdout",
     "output_type": "stream",
     "text": [
      "i = 0  so plotting Subplot # 1\n",
      "JNNL\n",
      "Error JNNL 0 = 1.49e+02 +- 9.44e+02\n",
      "Residual JNNL 0 = 9.14e+01 +- 8.19e+01\n",
      "i = 1  so plotting Subplot # 2\n",
      "JNNC\n",
      "Error JNNC 0 = 1.52e+02 +- 9.63e+02\n",
      "Residual JNNC 0 = 7.71e-10 +- 1.35e-09\n",
      "i = 2  so plotting Subplot # 3\n",
      "JNNL0.01\n",
      "Error JNNL0.01 0 = 1.51e+02 +- 9.51e+02\n",
      "Residual JNNL0.01 0 = 3.81e+01 +- 2.85e+01\n",
      "i = 3  so plotting Subplot # 4\n",
      "JUnotC\n",
      "Error JUnotC 0 = 3.40e+02 +- 2.18e+03\n",
      "Residual JUnotC 0 = 2.87e+03 +- 3.36e+03\n",
      "i = 4  so plotting Subplot # 5\n",
      "MLRL0\n",
      "Error MLRL0 0 = 2.95e+02 +- 1.69e+03\n",
      "Residual MLRL0 0 = 2.77e+01 +- 2.32e+01\n",
      "i = 0  so plotting Subplot # 6\n",
      "JNNL\n",
      "Error JNNL 4 = 3.46e+02 +- 3.62e+03\n",
      "Residual JNNL 4 = 2.65e+02 +- 5.58e+02\n",
      "i = 1  so plotting Subplot # 7\n",
      "JNNC\n",
      "Error JNNC 4 = 3.62e+02 +- 4.32e+03\n",
      "Residual JNNC 4 = 1.38e-09 +- 2.89e-09\n",
      "i = 2  so plotting Subplot # 8\n",
      "JNNL0.01\n",
      "Error JNNL0.01 4 = 3.68e+02 +- 4.25e+03\n",
      "Residual JNNL0.01 4 = 2.46e+02 +- 7.26e+02\n",
      "i = 3  so plotting Subplot # 9\n",
      "JUnotC\n",
      "Error JUnotC 4 = 4.45e+02 +- 2.60e+03\n",
      "Residual JUnotC 4 = 4.04e+03 +- 5.41e+03\n",
      "i = 4  so plotting Subplot # 10\n",
      "MLRL0\n",
      "Error MLRL0 4 = 7.47e+02 +- 1.29e+04\n",
      "Residual MLRL0 4 = 2.65e+02 +- 1.76e+03\n"
     ]
    }
   ],
   "source": [
    "SST = [0,4]\n",
    "NNarray = ['JNNL','JNNC','JNNL0.01','JUnotC','MLRL0']\n",
    "MSEarray = {}\n",
    "Parray = {}\n",
    "\n",
    "for j,sst in enumerate(SST):\n",
    "    MSEarray[sst] = {}\n",
    "    Parray[sst] = {}\n",
    "    #print('j=',j,'and sst=',sst)\n",
    "    if sst==0: data_fn = '/local/Tom.Beucler/SPCAM_PHYS/8col009_01_valid.nc'\n",
    "    else: data_fn = '/local/Tom.Beucler/SPCAM_PHYS/8col009_1'+str(sst)+'_valid.nc'\n",
    "    for i,NNs in enumerate(NNarray):\n",
    "        #plt.subplot(2, len(NNarray), i+1+j*len(NNarray))\n",
    "        print('i =',i,' so plotting Subplot #',i+1+j*len(NNarray))\n",
    "        # Load statistics\n",
    "        md = {}; NN = {};\n",
    "        #print('Loading model') # 1) Load model\n",
    "        NN = load_model(TRAINDIR+'HDF5_DATA/'+NNs+'.h5',custom_objects=dict_lay)\n",
    "        #print('Loading statistics') # 2) Define model diagnostics object\n",
    "        print(NNs)\n",
    "        md = ModelDiagnostics(NN,config_fn,data_fn)\n",
    "        # 3) Calculate statistics and save in pickle file\n",
    "        if sst==0: path_end = 'md.pkl'\n",
    "        else: path_end = 'md'+str(sst)+'K.pkl'\n",
    "        md.stats = pickle.load(open(TRAINDIR+'HDF5_DATA/'+NNs+path_end,'rb'))\n",
    "        print('Error',NNs,sst,'=','%.2e'%md.mse_W2m4().mean((0,1,2)),\\\n",
    "         '+-','%.2e'%md.mse_W2m4().std((0,1,2)))\n",
    "        MSEarray[sst][NNs] = {}\n",
    "        STRm = [\"%.1e\" %md.mse_W2m4().mean((0,1,2))]\n",
    "        STRs = [\"%.1e\" %md.mse_W2m4().std((0,1,2))]\n",
    "        MSEarray[sst][NNs][0] = STRm\n",
    "        MSEarray[sst][NNs][1] = STRs\n",
    "        # 4) Residual\n",
    "        if sst==0: path_end = 'mdres.pkl'\n",
    "        else: path_end = 'mdres'+str(sst)+'K.pkl'\n",
    "        md.res = pickle.load(open(TRAINDIR+'HDF5_DATA/'+NNs+path_end,'rb'))\n",
    "        RES = 0.25*(md.res['mass']+md.res['ent']+md.res['sw']+md.res['lw'])\n",
    "        print('Residual',NNs,sst,'=','%.2e'%RES.mean((0,1,2)),'+-','%.2e'%RES.std((0,1,2)))\n",
    "        Parray[sst][NNs] = {}\n",
    "        STRm = [\"%.1e\" %RES.mean((0,1,2))]\n",
    "        STRs = [\"%.1e\" %RES.std((0,1,2))]\n",
    "        Parray[sst][NNs][0] = STRm\n",
    "        Parray[sst][NNs][1] = STRs"
   ]
  },
  {
   "cell_type": "code",
   "execution_count": 51,
   "metadata": {},
   "outputs": [
    {
     "data": {
      "text/plain": [
       "'2'"
      ]
     },
     "execution_count": 51,
     "metadata": {},
     "output_type": "execute_result"
    }
   ],
   "source": [
    "MSEarray[0]['JNNL'][1][0][-1:]"
   ]
  },
  {
   "cell_type": "markdown",
   "metadata": {},
   "source": [
    "tgb - 7/9/2019 - Create tex file automatically"
   ]
  },
  {
   "cell_type": "code",
   "execution_count": 37,
   "metadata": {},
   "outputs": [],
   "source": [
    "# !ls"
   ]
  },
  {
   "cell_type": "code",
   "execution_count": 56,
   "metadata": {},
   "outputs": [],
   "source": [
    "NNarray = ['MLRL0','JNNL','JUnotC','JNNL0.01','JNNC']\n",
    "\n",
    "f= open(\"TXT_DATA/Table01.txt\",\"w+\")\n",
    "f.write(\"\\\\begin{table}[H]\\n\")\n",
    "f.write(\"\\\\begin{centering}\\n\")\n",
    "f.write(\"{\\\\small{}}%\\n\")\n",
    "f.write(\"\\\\begin{tabular}{c|c|ccccc}\\n\")\n",
    "f.write(\"{\\\\small{}Validation} & {\\\\small{}Metric} & {\\\\small{}Linear} & Unconstrained & $\\\\mathrm{Unconstrained_{2}}$ & $\\\\mathrm{LC_{net\\\\left(\\\\alpha=0.01\\\\right)}}$ & $\\\\mathrm{AC_{net}}$\\\\tabularnewline\\n\")\n",
    "f.write(\"\\\\hline\\n\") \n",
    "f.write(\"{\\\\small{}Baseline skill} & {\\\\small{}$\\\\mathrm{MSE}$} &\")\n",
    "for i,NNs in enumerate(NNarray):\n",
    "    f.write(\" {\\\\small{}$\")\n",
    "    f.write(MSEarray[0][NNs][0][0][:3])\n",
    "    f.write(\"\\\\ 10^{\")\n",
    "    f.write(MSEarray[0][NNs][0][0][-1:])\n",
    "    f.write(\"}\\\\pm\")\n",
    "    f.write(MSEarray[0][NNs][1][0][:3])\n",
    "    f.write(\"\\\\ 10^{\")\n",
    "    f.write(MSEarray[0][NNs][1][0][-1:])\n",
    "    f.write(\"}$}\")\n",
    "    if i<np.size(NNarray)-1: f.write(\" &\")\n",
    "    else: f.write(\"\\\\tabularnewline\\n\")\n",
    "    #f.write(\" {\\\\small{}$295\\\\pm1.7.10^{3}$} & {\\\\small{}$156\\\\pm1.0\\\\ 10^{3}$} & {\\\\small{}$156\\\\pm1.0\\\\ 10^{3}$} & {\\\\small{}$154\\\\pm1.0\\\\ 10^{3}$} & {\\\\small{}$177\\\\pm1.1\\\\ 10^{3}$}\\\\tabularnewline\\n\")\n",
    "f.write(\"(+0K) & {\\\\small{}${\\\\cal P}$} &\")\n",
    "for i,NNs in enumerate(NNarray):\n",
    "    f.write(\" {\\\\small{}$\")\n",
    "    f.write(Parray[0][NNs][0][0][:3])\n",
    "    f.write(\"\\\\ 10^{\")\n",
    "    f.write(Parray[0][NNs][0][0][-1:])\n",
    "    f.write(\"}\\\\pm\")\n",
    "    f.write(Parray[0][NNs][1][0][:3])\n",
    "    f.write(\"\\\\ 10^{\")\n",
    "    f.write(Parray[0][NNs][1][0][-1:])\n",
    "    f.write(\"}$}\")\n",
    "    if i<np.size(NNarray)-1: f.write(\" &\")\n",
    "    else: f.write(\"\\\\tabularnewline\\n\")\n",
    "#f.write(\"(+0K) & {\\\\small{}${\\\\cal P}$} & {\\\\small{}$28\\\\pm2\\\\ 10^{1}$} & {\\\\small{}$458\\\\pm5\\\\ 10^{2}$} & {\\\\small{}$156\\\\pm1.0\\\\ 10^{3}$} & {\\\\small{}$125\\\\pm2\\\\ 10^{2}$} & {\\\\small{}$5.0\\\\pm5$}\\\\tabularnewline\\n\")\n",
    "f.write(\"\\\\cline{1-1}\\n\")\n",
    "f.write(\"Uni. warming & {\\\\small{}$\\mathrm{MSE}$} &\")\n",
    "for i,NNs in enumerate(NNarray):\n",
    "    f.write(\" {\\\\small{}$\")\n",
    "    f.write(MSEarray[4][NNs][0][0][:3])\n",
    "    f.write(\"\\\\ 10^{\")\n",
    "    f.write(MSEarray[4][NNs][0][0][-1:])\n",
    "    f.write(\"}\\\\pm\")\n",
    "    f.write(MSEarray[4][NNs][1][0][:3])\n",
    "    f.write(\"\\\\ 10^{\")\n",
    "    f.write(MSEarray[4][NNs][1][0][-1:])\n",
    "    f.write(\"}$}\")\n",
    "    if i<np.size(NNarray)-1: f.write(\" &\")\n",
    "    else: f.write(\"\\\\tabularnewline\\n\")\n",
    "#f.write(\"Uni. warming & {\\\\small{}$\\mathrm{MSE}$} & {\\\\small{}$747\\\\pm1\\\\ 10^{5}$} & {\\\\small{}$633\\\\pm7\\\\ 10^{3}$} & {\\\\small{}$156\\\\pm1.0\\\\ 10^{3}$} & {\\\\small{}$471\\\\pm5\\\\ 10^{3}$} & {\\\\small{}$496\\\\pm8\\\\ 10^{3}$}\\\\tabularnewline\\n\")\n",
    "f.write(\"(+4K) & {\\\\small{}${\\\\cal P}$} &\")\n",
    "for i,NNs in enumerate(NNarray):\n",
    "    f.write(\" {\\\\small{}$\")\n",
    "    f.write(Parray[4][NNs][0][0][:3])\n",
    "    f.write(\"\\\\ 10^{\")\n",
    "    f.write(Parray[4][NNs][0][0][-1:])\n",
    "    f.write(\"}\\\\pm\")\n",
    "    f.write(Parray[4][NNs][1][0][:3])\n",
    "    f.write(\"\\\\ 10^{\")\n",
    "    f.write(Parray[4][NNs][1][0][-1:])\n",
    "    f.write(\"}$}\")\n",
    "    if i<np.size(NNarray)-1: f.write(\" &\")\n",
    "    else: f.write(\"\\\\tabularnewline\\n\")\n",
    "#f.write(\"(+4K) & {\\\\small{}${\\\\cal P}$} & {\\\\small{}$265\\\\pm2\\\\ 10^{3}$} & {\\\\small{}$3\\\\ 10^{5}\\\\pm1\\\\ 10^{6}$} & {\\\\small{}$156\\\\pm1.0\\\\ 10^{3}$} & {\\\\small{}$2\\\\ 10^{3}\\\\pm1\\\\ 10^{4}$} & {\\\\small{}$470\\\\pm2\\\\ 10^{3}$}\\\\tabularnewline\\n\")\n",
    "f.write(\"\\\\hline\\n\") \n",
    "f.write(\"\\\\end{tabular}\\n\")\n",
    "f.write(\"\\\\par\\\\end{centering}{\\\\small \\\\par}\\n\")\n",
    "f.write(\"\\n\")\n",
    "f.write(\"\\\\caption{Summary table (MSE/Penalty)}\\n\")\n",
    "f.write(\"\\\\end{table}\\n\")\n",
    "f.close()"
   ]
  },
  {
   "cell_type": "code",
   "execution_count": 90,
   "metadata": {},
   "outputs": [
    {
     "ename": "AttributeError",
     "evalue": "'dict' object has no attribute 'res'",
     "output_type": "error",
     "traceback": [
      "\u001b[0;31m---------------------------------------------------------------------------\u001b[0m",
      "\u001b[0;31mAttributeError\u001b[0m                            Traceback (most recent call last)",
      "\u001b[0;32m<ipython-input-90-0f4e4488183f>\u001b[0m in \u001b[0;36m<module>\u001b[0;34m\u001b[0m\n\u001b[0;32m----> 1\u001b[0;31m \u001b[0mmd\u001b[0m\u001b[0;34m.\u001b[0m\u001b[0mres\u001b[0m \u001b[0;34m=\u001b[0m \u001b[0mpickle\u001b[0m\u001b[0;34m.\u001b[0m\u001b[0mload\u001b[0m\u001b[0;34m(\u001b[0m\u001b[0mopen\u001b[0m\u001b[0;34m(\u001b[0m\u001b[0mTRAINDIR\u001b[0m\u001b[0;34m+\u001b[0m\u001b[0;34m'HDF5_DATA/'\u001b[0m\u001b[0;34m+\u001b[0m\u001b[0mNNs\u001b[0m\u001b[0;34m+\u001b[0m\u001b[0mpath_end\u001b[0m\u001b[0;34m,\u001b[0m\u001b[0;34m'rb'\u001b[0m\u001b[0;34m)\u001b[0m\u001b[0;34m)\u001b[0m\u001b[0;34m\u001b[0m\u001b[0;34m\u001b[0m\u001b[0m\n\u001b[0m\u001b[1;32m      2\u001b[0m \u001b[0mRES\u001b[0m \u001b[0;34m=\u001b[0m \u001b[0;36m0.25\u001b[0m\u001b[0;34m*\u001b[0m\u001b[0;34m(\u001b[0m\u001b[0mmd\u001b[0m\u001b[0;34m.\u001b[0m\u001b[0mres\u001b[0m\u001b[0;34m[\u001b[0m\u001b[0;34m'mass'\u001b[0m\u001b[0;34m]\u001b[0m\u001b[0;34m+\u001b[0m\u001b[0mmd\u001b[0m\u001b[0;34m.\u001b[0m\u001b[0mres\u001b[0m\u001b[0;34m[\u001b[0m\u001b[0;34m'ent'\u001b[0m\u001b[0;34m]\u001b[0m\u001b[0;34m+\u001b[0m\u001b[0mmd\u001b[0m\u001b[0;34m.\u001b[0m\u001b[0mres\u001b[0m\u001b[0;34m[\u001b[0m\u001b[0;34m'sw'\u001b[0m\u001b[0;34m]\u001b[0m\u001b[0;34m+\u001b[0m\u001b[0mmd\u001b[0m\u001b[0;34m.\u001b[0m\u001b[0mres\u001b[0m\u001b[0;34m[\u001b[0m\u001b[0;34m'lw'\u001b[0m\u001b[0;34m]\u001b[0m\u001b[0;34m)\u001b[0m\u001b[0;34m\u001b[0m\u001b[0;34m\u001b[0m\u001b[0m\n",
      "\u001b[0;31mAttributeError\u001b[0m: 'dict' object has no attribute 'res'"
     ]
    }
   ],
   "source": [
    "md.res = pickle.load(open(TRAINDIR+'HDF5_DATA/'+NNs+path_end,'rb'))\n",
    "RES = 0.25*(md.res['mass']+md.res['ent']+md.res['sw']+md.res['lw'])"
   ]
  },
  {
   "cell_type": "code",
   "execution_count": 78,
   "metadata": {},
   "outputs": [
    {
     "data": {
      "text/plain": [
       "91.35458150483636"
      ]
     },
     "execution_count": 78,
     "metadata": {},
     "output_type": "execute_result"
    }
   ],
   "source": [
    "0.25*(md.res['mass']+md.res['ent']+\\\n",
    "                   md.res['sw']+md.res['lw']).mean((0,1,2))"
   ]
  },
  {
   "cell_type": "code",
   "execution_count": 42,
   "metadata": {},
   "outputs": [],
   "source": [
    "LAB = ['a','','','b','','']"
   ]
  },
  {
   "cell_type": "code",
   "execution_count": 48,
   "metadata": {},
   "outputs": [
    {
     "data": {
      "text/plain": [
       "3"
      ]
     },
     "execution_count": 48,
     "metadata": {},
     "output_type": "execute_result"
    }
   ],
   "source": [
    "np.size(NNplot)"
   ]
  },
  {
   "cell_type": "code",
   "execution_count": 87,
   "metadata": {},
   "outputs": [
    {
     "name": "stdout",
     "output_type": "stream",
     "text": [
      "Error TOT = 5.14e+02 +- 2.17e+03\n",
      "Error PREC = 1.22e+04 +- 2.90e+04\n",
      "Error WAT = 1.25e+04 +- 2.84e+04\n",
      "Error CROSS = -2.42e+04 +- 5.59e+04\n"
     ]
    }
   ],
   "source": [
    "NNs = 'JNNL'\n",
    "for iR,Rs in enumerate(Rdic):\n",
    "    print('Error',Rs,'=','%.2e'%M[NNs]['error'][Rs][lat_ind,:,0].mean(axis=(0,1)),\\\n",
    "         '+-','%.2e'%M[NNs]['error'][Rs][lat_ind,:,0].std(axis=(0,1)))"
   ]
  },
  {
   "cell_type": "code",
   "execution_count": 88,
   "metadata": {},
   "outputs": [
    {
     "name": "stdout",
     "output_type": "stream",
     "text": [
      "Error TOT = 7.88e-03 +- 2.53e-01\n",
      "Error PREC = 1.59e+04 +- 5.63e+04\n",
      "Error WAT = 1.59e+04 +- 5.63e+04\n",
      "Error CROSS = -3.19e+04 +- 1.13e+05\n"
     ]
    }
   ],
   "source": [
    "NNs = 'JNNC'\n",
    "for iR,Rs in enumerate(Rdic):\n",
    "    print('Error',Rs,'=','%.2e'%M[NNs]['error'][Rs][lat_ind,:,0].mean(axis=(0,1)),\\\n",
    "         '+-','%.2e'%M[NNs]['error'][Rs][lat_ind,:,0].std(axis=(0,1)))"
   ]
  },
  {
   "cell_type": "code",
   "execution_count": 65,
   "metadata": {},
   "outputs": [
    {
     "name": "stdout",
     "output_type": "stream",
     "text": [
      "Error TOT = 7.39e+01 +- 6.34e+01\n",
      "Error THERMO = 2.08e+02 +- 2.57e+02\n",
      "Error RAD = 6.09e+01 +- 2.80e+01\n",
      "Error PHAS = 7.82e+01 +- 1.78e+02\n",
      "Error SHFLX = 0.00e+00 +- 0.00e+00\n",
      "Error CROSS = -5.46e+02 +- 8.01e+02\n"
     ]
    }
   ],
   "source": [
    "NNs = 'JNNL0.01'\n",
    "for iR,Rs in enumerate(Rdic):\n",
    "    print('Error',Rs,'=','%.2e'%M[NNs]['error'][Rs][lat_ind,:,0].mean(axis=(0,1)),\\\n",
    "         '+-','%.2e'%M[NNs]['error'][Rs][lat_ind,:,0].std(axis=(0,1)))"
   ]
  },
  {
   "cell_type": "code",
   "execution_count": 17,
   "metadata": {},
   "outputs": [
    {
     "ename": "AttributeError",
     "evalue": "'ModelDiagnostics' object has no attribute 'err'",
     "output_type": "error",
     "traceback": [
      "\u001b[0;31m---------------------------------------------------------------------------\u001b[0m",
      "\u001b[0;31mAttributeError\u001b[0m                            Traceback (most recent call last)",
      "\u001b[0;32m<ipython-input-17-45f2a20bd95c>\u001b[0m in \u001b[0;36m<module>\u001b[0;34m\u001b[0m\n\u001b[1;32m      7\u001b[0m \u001b[0;31m#          '+-','%.2e'%(M.tru[Bs][lat_ind,:,0]**2).std(axis=(0,1)))\u001b[0m\u001b[0;34m\u001b[0m\u001b[0;34m\u001b[0m\u001b[0;34m\u001b[0m\u001b[0m\n\u001b[1;32m      8\u001b[0m \u001b[0;32mfor\u001b[0m \u001b[0miR\u001b[0m\u001b[0;34m,\u001b[0m\u001b[0mRs\u001b[0m \u001b[0;32min\u001b[0m \u001b[0menumerate\u001b[0m\u001b[0;34m(\u001b[0m\u001b[0mRdic\u001b[0m\u001b[0;34m)\u001b[0m\u001b[0;34m:\u001b[0m\u001b[0;34m\u001b[0m\u001b[0;34m\u001b[0m\u001b[0m\n\u001b[0;32m----> 9\u001b[0;31m     print('Error',Rs,'=','%.2e'%M.err[Rs][lat_ind,:,0].mean(axis=(0,1)),\\\n\u001b[0m\u001b[1;32m     10\u001b[0m          '+-','%.2e'%M.err[Rs][lat_ind,:,0].std(axis=(0,1)))\n",
      "\u001b[0;31mAttributeError\u001b[0m: 'ModelDiagnostics' object has no attribute 'err'"
     ]
    }
   ],
   "source": [
    "NNs = 'JNNL'\n",
    "M = md[NNs]\n",
    "# for iB,Bs in enumerate(Bdic):\n",
    "#     print('Predicted budget',Bs,'=','%.2e'%(M.bud[Bs][lat_ind,:,0]**2).mean(axis=(0,1)),\\\n",
    "#           '+-','%.2e'%(M.bud[Bs][lat_ind,:,0]**2).std(axis=(0,1)))\n",
    "#     print('True budget',Bs,'=','%.2e'%(M.tru[Bs][lat_ind,:,0]**2).mean(axis=(0,1)),\\\n",
    "#          '+-','%.2e'%(M.tru[Bs][lat_ind,:,0]**2).std(axis=(0,1)))\n",
    "for iR,Rs in enumerate(Rdic):\n",
    "    print('Error',Rs,'=','%.2e'%M.err[Rs][lat_ind,:,0].mean(axis=(0,1)),\\\n",
    "         '+-','%.2e'%M.err[Rs][lat_ind,:,0].std(axis=(0,1)))"
   ]
  },
  {
   "cell_type": "code",
   "execution_count": 27,
   "metadata": {},
   "outputs": [
    {
     "name": "stdout",
     "output_type": "stream",
     "text": [
      "Error TOT = 4.08e-07 +- 4.63e-06\n",
      "Error THERMO = 6.91e+02 +- 3.88e+02\n",
      "Error RAD = 2.48e+02 +- 1.61e+02\n",
      "Error PHAS = 4.14e+02 +- 2.30e+02\n",
      "Error SHFLX = 0.00e+00 +- 0.00e+00\n",
      "Error CROSS = -2.71e+03 +- 1.51e+03\n"
     ]
    }
   ],
   "source": [
    "NNs = 'JNNC'\n",
    "M = md[NNs]\n",
    "# for iB,Bs in enumerate(Bdic):\n",
    "#     print('Predicted budget',Bs,'=','%.2e'%(M.bud[Bs][lat_ind,:,0]**2).mean(axis=(0,1)),\\\n",
    "#           '+-','%.2e'%(M.bud[Bs][lat_ind,:,0]**2).std(axis=(0,1)))\n",
    "#     print('True budget',Bs,'=','%.2e'%(M.tru[Bs][lat_ind,:,0]**2).mean(axis=(0,1)),\\\n",
    "#          '+-','%.2e'%(M.tru[Bs][lat_ind,:,0]**2).std(axis=(0,1)))\n",
    "for iR,Rs in enumerate(Rdic):\n",
    "    print('Error',Rs,'=','%.2e'%M.err[Rs][lat_ind,:,0].mean(axis=(0,1)),\\\n",
    "         '+-','%.2e'%M.err[Rs][lat_ind,:,0].std(axis=(0,1)))"
   ]
  },
  {
   "cell_type": "code",
   "execution_count": 28,
   "metadata": {},
   "outputs": [
    {
     "name": "stdout",
     "output_type": "stream",
     "text": [
      "Error TOT = 4.16e+02 +- 1.32e+02\n",
      "Error THERMO = 8.73e+02 +- 3.49e+02\n",
      "Error RAD = 7.58e+01 +- 1.76e+01\n",
      "Error PHAS = 4.03e+02 +- 2.24e+02\n",
      "Error SHFLX = 0.00e+00 +- 0.00e+00\n",
      "Error CROSS = -1.87e+03 +- 9.54e+02\n"
     ]
    }
   ],
   "source": [
    "NNs = 'JNNL'\n",
    "M = md[NNs]\n",
    "# for iB,Bs in enumerate(Bdic):\n",
    "#     print('Predicted budget',Bs,'=','%.2e'%(M.bud[Bs][lat_ind,:,0]**2).mean(axis=(0,1)),\\\n",
    "#           '+-','%.2e'%(M.bud[Bs][lat_ind,:,0]**2).std(axis=(0,1)))\n",
    "#     print('True budget',Bs,'=','%.2e'%(M.tru[Bs][lat_ind,:,0]**2).mean(axis=(0,1)),\\\n",
    "#          '+-','%.2e'%(M.tru[Bs][lat_ind,:,0]**2).std(axis=(0,1)))\n",
    "for iR,Rs in enumerate(Rdic):\n",
    "    print('Error',Rs,'=','%.2e'%M.err[Rs][lat_ind,:,0].mean(axis=(0,1)),\\\n",
    "         '+-','%.2e'%M.err[Rs][lat_ind,:,0].std(axis=(0,1)))"
   ]
  },
  {
   "cell_type": "code",
   "execution_count": 17,
   "metadata": {},
   "outputs": [
    {
     "name": "stdout",
     "output_type": "stream",
     "text": [
      "Error TOT = 3.27e+02 +- 4.04e+02\n",
      "Error THERMO = 6.61e+02 +- 1.19e+03\n",
      "Error RAD = 6.22e+01 +- 8.51e+01\n",
      "Error PHAS = 2.71e+02 +- 9.53e+02\n",
      "Error SHFLX = 0.00e+00 +- 0.00e+00\n",
      "Error CROSS = -1.33e+03 +- 3.73e+03\n"
     ]
    }
   ],
   "source": [
    "NNs = 'JNNL'\n",
    "M = md[NNs]\n",
    "# for iB,Bs in enumerate(Bdic):\n",
    "#     print('Predicted budget',Bs,'=','%.2e'%(M.bud[Bs][lat_ind,:,0]**2).mean(axis=(0,1)),\\\n",
    "#           '+-','%.2e'%(M.bud[Bs][lat_ind,:,0]**2).std(axis=(0,1)))\n",
    "#     print('True budget',Bs,'=','%.2e'%(M.tru[Bs][lat_ind,:,0]**2).mean(axis=(0,1)),\\\n",
    "#          '+-','%.2e'%(M.tru[Bs][lat_ind,:,0]**2).std(axis=(0,1)))\n",
    "for iR,Rs in enumerate(Rdic):\n",
    "    print('Error',Rs,'=','%.2e'%M.err[Rs][lat_ind,:,0].mean(axis=(0,1)),\\\n",
    "         '+-','%.2e'%M.err[Rs][lat_ind,:,0].std(axis=(0,1)))"
   ]
  },
  {
   "cell_type": "code",
   "execution_count": 17,
   "metadata": {},
   "outputs": [],
   "source": [
    "scale_dict = load_pickle('/home/t/Tom.Beucler/SPCAM/CBRAIN-CAM/nn_config/scale_dicts/009_Wm2_scaling.pkl')"
   ]
  },
  {
   "cell_type": "code",
   "execution_count": 100,
   "metadata": {},
   "outputs": [
    {
     "data": {
      "text/plain": [
       "array([7.0811688e+07, 1.3074196e+08, 2.1416970e+08, 3.0895507e+08,\n",
       "       3.8762451e+08, 4.4520458e+08, 4.4321341e+08, 3.6317286e+08,\n",
       "       4.2725360e+08, 5.0264173e+08, 5.9133267e+08, 6.9567149e+08,\n",
       "       8.1842150e+08, 9.6283104e+08, 1.1327212e+09, 1.3325868e+09,\n",
       "       1.5677202e+09, 1.8443410e+09, 2.1697720e+09, 2.1706406e+09,\n",
       "       1.9922205e+09, 1.6811768e+09, 1.2494753e+09, 7.2336192e+08,\n",
       "       6.7863763e+08, 6.2842387e+08, 5.7302957e+08, 5.1279936e+08,\n",
       "       4.4820160e+08, 3.7970438e+08], dtype=float32)"
      ]
     },
     "execution_count": 100,
     "metadata": {},
     "output_type": "execute_result"
    }
   ],
   "source": [
    "scale_dict['PHQ']"
   ]
  },
  {
   "cell_type": "code",
   "execution_count": 102,
   "metadata": {},
   "outputs": [
    {
     "data": {
      "text/plain": [
       "array([7.0811688e+07, 1.3074196e+08, 2.1416970e+08, 3.0895507e+08,\n",
       "       3.8762451e+08, 4.4520458e+08, 4.4321341e+08, 3.6317286e+08,\n",
       "       4.2725360e+08, 5.0264173e+08, 5.9133267e+08, 6.9567149e+08,\n",
       "       8.1842150e+08, 9.6283104e+08, 1.1327212e+09, 1.3325868e+09,\n",
       "       1.5677202e+09, 1.8443410e+09, 2.1697720e+09, 2.1706406e+09,\n",
       "       1.9922205e+09, 1.6811768e+09, 1.2494753e+09, 7.2336192e+08,\n",
       "       6.7863763e+08, 6.2842387e+08, 5.7302957e+08, 5.1279936e+08,\n",
       "       4.4820160e+08, 3.7970438e+08], dtype=float32)"
      ]
     },
     "execution_count": 102,
     "metadata": {},
     "output_type": "execute_result"
    }
   ],
   "source": [
    " M.valid_gen.output_transform.scale[M.get_output_var_idx('PHQ')]"
   ]
  },
  {
   "cell_type": "code",
   "execution_count": null,
   "metadata": {},
   "outputs": [],
   "source": []
  }
 ],
 "metadata": {
  "kernelspec": {
   "display_name": "Python 3",
   "language": "python",
   "name": "python3"
  },
  "language_info": {
   "codemirror_mode": {
    "name": "ipython",
    "version": 3
   },
   "file_extension": ".py",
   "mimetype": "text/x-python",
   "name": "python",
   "nbconvert_exporter": "python",
   "pygments_lexer": "ipython3",
   "version": "3.7.3"
  }
 },
 "nbformat": 4,
 "nbformat_minor": 2
}
