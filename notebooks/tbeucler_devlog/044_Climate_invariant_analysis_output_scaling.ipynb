{
 "cells": [
  {
   "cell_type": "markdown",
   "metadata": {},
   "source": [
    "# Initialization"
   ]
  },
  {
   "cell_type": "code",
   "execution_count": 1,
   "metadata": {},
   "outputs": [
    {
     "name": "stdout",
     "output_type": "stream",
     "text": [
      "/data11/home/tbeucler/CBRAIN-CAM/notebooks/tbeucler_devlog\n"
     ]
    }
   ],
   "source": [
    "from cbrain.imports import *\n",
    "from cbrain.data_generator import *\n",
    "from cbrain.cam_constants import *\n",
    "from cbrain.losses import *\n",
    "from cbrain.utils import limit_mem\n",
    "from cbrain.layers import *\n",
    "from cbrain.data_generator import DataGenerator\n",
    "import tensorflow as tf\n",
    "import tensorflow.math as tfm\n",
    "#import tensorflow_probability as tfp\n",
    "from tensorflow.keras.layers import *\n",
    "from tensorflow.keras.models import *\n",
    "import xarray as xr\n",
    "import numpy as np\n",
    "from cbrain.model_diagnostics import ModelDiagnostics\n",
    "import matplotlib as mpl\n",
    "import matplotlib.pyplot as plt\n",
    "import matplotlib.image as imag\n",
    "import scipy.integrate as sin\n",
    "import cartopy.crs as ccrs\n",
    "import matplotlib.ticker as mticker\n",
    "from cartopy.mpl.gridliner import LONGITUDE_FORMATTER, LATITUDE_FORMATTER\n",
    "import pickle\n",
    "\n",
    "# Otherwise tensorflow will use ALL your GPU RAM for no reason\n",
    "limit_mem()"
   ]
  },
  {
   "cell_type": "code",
   "execution_count": 66,
   "metadata": {},
   "outputs": [],
   "source": [
    "fz = 15\n",
    "lw = 4\n",
    "siz = 100\n",
    "S0 = 320 # Representative mean solar insolation for normalization purposes\n",
    "S0max = 1410.6442 # Max solar insolation for normalization purposes\n",
    "SN = S0/100 # Representative target = mean insolation / 4\n",
    "XNNA = 1.25 # Abscissa where architecture-constrained network will be placed\n",
    "XTEXT = 0.25 # Text placement\n",
    "YMIN = -1 # Representative value for conserving network\n",
    "YTEXT = 0.3 # Text placement"
   ]
  },
  {
   "cell_type": "code",
   "execution_count": 67,
   "metadata": {},
   "outputs": [],
   "source": [
    "plt.rc('text', usetex=False)\n",
    "mpl.rcParams['mathtext.fontset'] = 'stix'\n",
    "mpl.rcParams['font.family'] = 'STIXGeneral'\n",
    "plt.rc('font', family='serif', size=fz)\n",
    "mpl.rcParams['lines.linewidth'] = lw\n",
    "plt.close('all')"
   ]
  },
  {
   "cell_type": "markdown",
   "metadata": {},
   "source": [
    "# Libraries"
   ]
  },
  {
   "cell_type": "code",
   "execution_count": 2,
   "metadata": {},
   "outputs": [],
   "source": [
    "def dP(PS):    \n",
    "    S = PS.shape\n",
    "    P = 1e5 * np.moveaxis(np.tile(hyai,(S[0],S[1],S[2],1)),3,1) + \\\n",
    "    np.moveaxis(np.tile(PS.values,(31,1,1,1)),0,1) * np.moveaxis(np.tile(hybi,(S[0],S[1],S[2],1)),3,1)\n",
    "    return P[:, 1:]-P[:, :-1]"
   ]
  },
  {
   "cell_type": "code",
   "execution_count": 3,
   "metadata": {},
   "outputs": [],
   "source": [
    "# Moist thermo library in numpy\n",
    "def eliq(T):\n",
    "    a_liq = np.array([-0.976195544e-15,-0.952447341e-13,0.640689451e-10,0.206739458e-7,0.302950461e-5,0.264847430e-3,0.142986287e-1,0.443987641,6.11239921]);\n",
    "    c_liq = -80\n",
    "    T0 = 273.16\n",
    "    return 100*np.polyval(a_liq,np.maximum(c_liq,T-T0))\n",
    "\n",
    "def eice(T):\n",
    "    a_ice = np.array([0.252751365e-14,0.146898966e-11,0.385852041e-9,0.602588177e-7,0.615021634e-5,0.420895665e-3,0.188439774e-1,0.503160820,6.11147274]);\n",
    "    c_ice = np.array([273.15,185,-100,0.00763685,0.000151069,7.48215e-07])\n",
    "    T0 = 273.16\n",
    "    return (T>c_ice[0])*eliq(T)+\\\n",
    "(T<=c_ice[0])*(T>c_ice[1])*100*np.polyval(a_ice,T-T0)+\\\n",
    "(T<=c_ice[1])*100*(c_ice[3]+np.maximum(c_ice[2],T-T0)*(c_ice[4]+np.maximum(c_ice[2],T-T0)*c_ice[5]))    \n",
    "\n",
    "def esat(T):\n",
    "    T0 = 273.16\n",
    "    T00 = 253.16\n",
    "    omega = np.maximum(0,np.minimum(1,(T-T00)/(T0-T00)))\n",
    "    \n",
    "    return (T>T0)*eliq(T)+(T<T00)*eice(T)+(T<=T0)*(T>=T00)*(omega*eliq(T)+(1-omega)*eice(T))\n",
    "\n",
    "def RH(T,qv,P0,PS,hyam,hybm):\n",
    "    R = 287\n",
    "    Rv = 461\n",
    "    p = (hyam*P0+hybm*PS).values # Total pressure (Pa)\n",
    "\n",
    "    return Rv*p*qv/(R*esat(T))\n",
    "\n",
    "def RHsurf(T,qv,P0,PS):\n",
    "    R = 287\n",
    "    Rv = 461\n",
    "    \n",
    "    return Rv*PS*qv/(R*esat(T))\n",
    "\n",
    "def qv(T,RH,P0,PS,hyam,hybm):\n",
    "    R = 287\n",
    "    Rv = 461\n",
    "    p = (hyam*P0+hybm*PS).values # Total pressure (Pa)\n",
    "    \n",
    "    return R*esat(T)*RH/(Rv*p)\n",
    "\n",
    "def qsat(T,P0,PS,hyam,hybm):\n",
    "    return qv(T,1,P0,PS,hyam,hybm)"
   ]
  },
  {
   "cell_type": "code",
   "execution_count": 4,
   "metadata": {},
   "outputs": [],
   "source": [
    "def edg2bin(bin_edges):\n",
    "    return 0.5*(bin_edges[1:]+bin_edges[:-1])"
   ]
  },
  {
   "cell_type": "markdown",
   "metadata": {},
   "source": [
    "# Load data"
   ]
  },
  {
   "cell_type": "code",
   "execution_count": 7,
   "metadata": {},
   "outputs": [
    {
     "name": "stdout",
     "output_type": "stream",
     "text": [
      "ERROR! Session/line number was not unique in database. History logging moved to new session 28\n"
     ]
    }
   ],
   "source": [
    "#path = '/project/meteo/w2w/A6/S.Rasp/SP-CAM/sp8fbp_minus4k/sp8fbp_minus4k.cam2.h2.'\n",
    "path = '/DFS-L/DATA/pritchard/tbeucler/SPCAM/sp8fbp_minus4k/sp8fbp_minus4k.cam2.h2.'\n",
    "# datam4K = xr.open_mfdataset(path+'0001-01-0?-00000.nc',\\\n",
    "#                           decode_times=False)\n",
    "datam4K = xr.open_mfdataset(path+'0001-01-05-00000.nc',\\\n",
    "                          decode_times=False)"
   ]
  },
  {
   "cell_type": "code",
   "execution_count": 8,
   "metadata": {},
   "outputs": [],
   "source": [
    "#path = '/project/meteo/w2w/A6/S.Rasp/SP-CAM/sp8fbp_4k/sp8fbp_4k.cam2.h2.'\n",
    "path = '/DFS-L/DATA/pritchard/tbeucler/SPCAM/sp8fbp_4k/sp8fbp_4k.cam2.h2.'\n",
    "# datap4K = xr.open_mfdataset(path+'0001-01-0?-00000.nc',\\\n",
    "#                            decode_times=False)\n",
    "datap4K = xr.open_mfdataset(path+'0001-01-05-00000.nc',\\\n",
    "                           decode_times=False)"
   ]
  },
  {
   "cell_type": "code",
   "execution_count": 9,
   "metadata": {},
   "outputs": [],
   "source": [
    "path = '/DFS-L/DATA/pritchard/tbeucler/SPCAM/fluxbypass_aqua/AndKua_aqua_SPCAM3.0_sp_fbp_f4.cam2.h1.'\n",
    "# dataref = xr.open_mfdataset(path+'0001-01-0?-00000.nc',\\\n",
    "#                            decode_times=False)\n",
    "dataref = xr.open_mfdataset(path+'0001-01-05-00000.nc',\\\n",
    "                           decode_times=False)"
   ]
  },
  {
   "cell_type": "markdown",
   "metadata": {},
   "source": [
    "# Check Ankitesh's discrete and continuous tropopause pressure"
   ]
  },
  {
   "cell_type": "markdown",
   "metadata": {},
   "source": [
    "## Functions developed by Ankitesh"
   ]
  },
  {
   "cell_type": "code",
   "execution_count": 76,
   "metadata": {},
   "outputs": [],
   "source": [
    "def levTildeDiscrete(X,lev,inp_sub,inp_div,batch_size=1024,interm_dim_size=40):\n",
    "    \n",
    "    X_denormalized = X*inp_div+inp_sub\n",
    "    X_pressure = X[:,:30]\n",
    "    X_temperature = X[:,30:60] #batchx30\n",
    "    X_temperature_denomalized = X_denormalized[:,30:60]\n",
    "    \n",
    "    lev_stacked = np.repeat(np.array(lev).reshape(1,-1),batch_size,axis=0)\n",
    "    imin = np.argmin(X_temperature_denomalized[:,6:],axis=1)+6\n",
    "    lev_roof = np.array(lev[imin])\n",
    "    lev_tilde = (lev_stacked[:,-1].reshape(-1,1)-lev_stacked[:])/(lev_stacked[:,-1].reshape(-1,1)-lev_roof.reshape(-1,1))#batchx30\n",
    "\n",
    "    \n",
    "    lev_tilde_after_single = np.linspace(1.4,0,num=interm_dim_size)\n",
    "    \n",
    "    X_temperature_after = []\n",
    "    X_pressure_after = []\n",
    "\n",
    "    for i in range(batch_size):\n",
    "        X_temperature_after.append(np.interp(lev_tilde_after_single, np.flip(lev_tilde[i]), np.flip(X_temperature[i])))\n",
    "        X_pressure_after.append(np.interp(lev_tilde_after_single, np.flip(lev_tilde[i]), np.flip(X_pressure[i])))\n",
    "    \n",
    "    X_temperature_after = np.array(X_temperature_after)\n",
    "    X_pressure_after = np.array(X_pressure_after)\n",
    "    \n",
    "    X_result = np.hstack((X_pressure_after,X_temperature_after))\n",
    "    X_result = np.hstack((X_result,X[:,60:64]))\n",
    "    \n",
    "    return  X_result, lev_tilde, lev_roof"
   ]
  },
  {
   "cell_type": "code",
   "execution_count": 77,
   "metadata": {},
   "outputs": [],
   "source": [
    "def levTildeConti(X,lev,inp_sub,inp_div,batch_size=1024,interm_dim_size=40,Tnot=5):\n",
    "    \n",
    "    X_denormalized = X*inp_div+inp_sub\n",
    "    X_pressure = X[:,:30]\n",
    "    X_temperature = X[:,30:60] #batchx30\n",
    "    X_temperature_denormalized = X_denormalized[:,30:60]\n",
    "    lev_stacked = np.repeat(np.array(lev).reshape(1,-1),batch_size,axis=0)\n",
    "    imin = np.argmin(X_temperature_denormalized[:,6:],axis=1)+6 #take one below this and the next one\n",
    "    lev1 = np.array(lev[imin-1]) #batch_size dim\n",
    "    lev2 = np.array(lev[imin+1])\n",
    "    T1 = np.take_along_axis( X_temperature_denormalized, (imin-1).reshape(-1,1),axis=1).flatten() ## batch_size\n",
    "    T2 = np.take_along_axis( X_temperature_denormalized, (imin+1).reshape(-1,1),axis=1).flatten() ## batch_size    \n",
    "    deltaT = T2-T1\n",
    "    alpha = (1.0/2)*(2 - np.exp(-1*deltaT/Tnot))\n",
    "    lev_roof = alpha*lev1 + (1-alpha)*lev2\n",
    "    \n",
    "    lev_tilde = (lev_stacked[:,-1].reshape(-1,1)-lev_stacked[:])/(lev_stacked[:,-1].reshape(-1,1)-lev_roof.reshape(-1,1))#batchx30\n",
    "    lev_tilde_after_single = np.linspace(1.4,0,num=interm_dim_size)\n",
    "    \n",
    "    X_temperature_after = []\n",
    "    X_pressure_after = []\n",
    "\n",
    "    for i in range(batch_size):\n",
    "        X_temperature_after.append(np.interp(lev_tilde_after_single, np.flip(lev_tilde[i]), np.flip(X_temperature[i])))\n",
    "        X_pressure_after.append(np.interp(lev_tilde_after_single, np.flip(lev_tilde[i]), np.flip(X_pressure[i])))\n",
    "    \n",
    "    X_temperature_after = np.array(X_temperature_after)\n",
    "    X_pressure_after = np.array(X_pressure_after)\n",
    "    \n",
    "    X_result = np.hstack((X_pressure_after,X_temperature_after))\n",
    "    X_result = np.hstack((X_result,X[:,60:64]))\n",
    "    \n",
    "    return  X_result, lev_tilde, lev_roof"
   ]
  },
  {
   "cell_type": "markdown",
   "metadata": {},
   "source": [
    "## Transform data into right format"
   ]
  },
  {
   "cell_type": "code",
   "execution_count": 52,
   "metadata": {},
   "outputs": [
    {
     "data": {
      "text/plain": [
       "(48, 30, 64, 128)"
      ]
     },
     "execution_count": 52,
     "metadata": {},
     "output_type": "execute_result"
    }
   ],
   "source": [
    "dataref.TAP.shape"
   ]
  },
  {
   "cell_type": "code",
   "execution_count": 53,
   "metadata": {},
   "outputs": [],
   "source": [
    "X = np.moveaxis(dataref.TAP.values,0,1)"
   ]
  },
  {
   "cell_type": "code",
   "execution_count": 54,
   "metadata": {},
   "outputs": [
    {
     "data": {
      "text/plain": [
       "(30, 48, 64, 128)"
      ]
     },
     "execution_count": 54,
     "metadata": {},
     "output_type": "execute_result"
    }
   ],
   "source": [
    "X.shape"
   ]
  },
  {
   "cell_type": "code",
   "execution_count": 55,
   "metadata": {},
   "outputs": [],
   "source": [
    "X0 = np.reshape(X,(30,48*64*128))"
   ]
  },
  {
   "cell_type": "code",
   "execution_count": 56,
   "metadata": {},
   "outputs": [
    {
     "data": {
      "text/plain": [
       "(30, 393216)"
      ]
     },
     "execution_count": 56,
     "metadata": {},
     "output_type": "execute_result"
    }
   ],
   "source": [
    "X0.shape"
   ]
  },
  {
   "cell_type": "code",
   "execution_count": 57,
   "metadata": {},
   "outputs": [],
   "source": [
    "X = np.transpose(\n",
    "    np.concatenate((np.reshape(np.moveaxis(dataref.QAP.values,0,1),(30,48*64*128)),\n",
    "                    np.reshape(np.moveaxis(dataref.TAP.values,0,1),(30,48*64*128))),axis=0)\n",
    ")"
   ]
  },
  {
   "cell_type": "code",
   "execution_count": 58,
   "metadata": {},
   "outputs": [],
   "source": [
    "X_result, lev_tilde, lev_roof = levTildeDiscrete(X,dataref.lev.values,0*X**0,1*X**0,batch_size=X.shape[0],interm_dim_size=40)"
   ]
  },
  {
   "cell_type": "code",
   "execution_count": 59,
   "metadata": {},
   "outputs": [
    {
     "data": {
      "text/plain": [
       "(393216,)"
      ]
     },
     "execution_count": 59,
     "metadata": {},
     "output_type": "execute_result"
    }
   ],
   "source": [
    "lev_roof.shape"
   ]
  },
  {
   "cell_type": "code",
   "execution_count": 60,
   "metadata": {},
   "outputs": [],
   "source": [
    "lev_roof_0 = np.reshape(lev_roof,(48,64,128))"
   ]
  },
  {
   "cell_type": "code",
   "execution_count": 61,
   "metadata": {},
   "outputs": [
    {
     "data": {
      "text/plain": [
       "Text(0, 0.5, 'Lev roof [hPa]')"
      ]
     },
     "execution_count": 61,
     "metadata": {},
     "output_type": "execute_result"
    },
    {
     "data": {
      "image/png": "[encoded data removed]",
      "text/plain": [
       "<Figure size 432x288 with 1 Axes>"
      ]
     },
     "metadata": {
      "needs_background": "light"
     },
     "output_type": "display_data"
    }
   ],
   "source": [
    "plt.plot(dataref.lat,np.mean(lev_roof_0,axis=(0,2)))\n",
    "plt.gca().invert_yaxis()\n",
    "plt.xlabel('Latitude')\n",
    "plt.ylabel('Mean Lev roof [hPa]')"
   ]
  },
  {
   "cell_type": "code",
   "execution_count": 62,
   "metadata": {},
   "outputs": [],
   "source": [
    "X_result, lev_tilde, lev_roof = levTildeConti(X,dataref.lev.values,0*X**0,1*X**0,batch_size=X.shape[0],interm_dim_size=40,Tnot=5)"
   ]
  },
  {
   "cell_type": "code",
   "execution_count": 63,
   "metadata": {},
   "outputs": [],
   "source": [
    "lev_roof_0 = np.reshape(lev_roof,(48,64,128))"
   ]
  },
  {
   "cell_type": "code",
   "execution_count": 65,
   "metadata": {},
   "outputs": [
    {
     "data": {
      "text/plain": [
       "Text(0, 0.5, 'Mean Lev roof [hPa]')"
      ]
     },
     "execution_count": 65,
     "metadata": {},
     "output_type": "execute_result"
    },
    {
     "data": {
      "image/png": "[encoded data removed]",
      "text/plain": [
       "<Figure size 432x288 with 1 Axes>"
      ]
     },
     "metadata": {
      "needs_background": "light"
     },
     "output_type": "display_data"
    }
   ],
   "source": [
    "plt.plot(dataref.lat,np.mean(lev_roof_0,axis=(0,2)))\n",
    "plt.gca().invert_yaxis()\n",
    "plt.xlabel('Latitude')\n",
    "plt.ylabel('Mean Lev roof [hPa]')"
   ]
  },
  {
   "cell_type": "code",
   "execution_count": 78,
   "metadata": {},
   "outputs": [],
   "source": [
    "def data2levroof(dataset,option):\n",
    "    \n",
    "    S = dataset.QAP.shape\n",
    "    X = np.transpose(\n",
    "        np.concatenate((np.reshape(np.moveaxis(dataset.QAP.values,0,1),(30,S[0]*S[2]*S[3])),\n",
    "                        np.reshape(np.moveaxis(dataset.TAP.values,0,1),(30,S[0]*S[2]*S[3]))),axis=0)\n",
    "    )\n",
    "    \n",
    "    if option=='discrete':\n",
    "        X_result, lev_tilde, lev_roof = \\\n",
    "        levTildeDiscrete(X,dataref.lev.values,0*X**0,1*X**0,batch_size=X.shape[0],interm_dim_size=40)\n",
    "    elif option=='continuous':\n",
    "        X_result, lev_tilde, lev_roof = \\\n",
    "        levTildeConti(X,dataref.lev.values,0*X**0,1*X**0,batch_size=X.shape[0],interm_dim_size=40,Tnot=5)\n",
    "        \n",
    "    return np.reshape(lev_roof,(S[0],S[2],S[3]))"
   ]
  },
  {
   "cell_type": "code",
   "execution_count": 93,
   "metadata": {},
   "outputs": [],
   "source": [
    "lev_roof_0 = data2levroof(dataref,'discrete')\n",
    "lev_roof_m4 = data2levroof(datam4K,'discrete')\n",
    "lev_roof_p4 = data2levroof(datap4K,'discrete')"
   ]
  },
  {
   "cell_type": "code",
   "execution_count": 94,
   "metadata": {},
   "outputs": [
    {
     "data": {
      "text/plain": [
       "Text(0, 0.5, 'Mean Lev roof [hPa]')"
      ]
     },
     "execution_count": 94,
     "metadata": {},
     "output_type": "execute_result"
    },
    {
     "data": {
      "image/png": "[encoded data removed]",
      "text/plain": [
       "<Figure size 1080x360 with 1 Axes>"
      ]
     },
     "metadata": {
      "needs_background": "light"
     },
     "output_type": "display_data"
    }
   ],
   "source": [
    "plt.figure(figsize=(15,5))\n",
    "plt.plot(dataref.lat,np.mean(lev_roof_0,axis=(0,2)),color='k',label='0K')\n",
    "plt.plot(dataref.lat,np.mean(lev_roof_m4,axis=(0,2)),color='b',label='-4K')\n",
    "plt.plot(dataref.lat,np.mean(lev_roof_p4,axis=(0,2)),color='r',label='+4K')\n",
    "plt.gca().invert_yaxis()\n",
    "plt.legend()\n",
    "plt.xlabel('Latitude')\n",
    "plt.ylabel('Mean Lev roof [hPa]')"
   ]
  },
  {
   "cell_type": "code",
   "execution_count": 85,
   "metadata": {},
   "outputs": [],
   "source": [
    "lev_roof_0 = data2levroof(dataref,'continuous')\n",
    "lev_roof_m4 = data2levroof(datam4K,'continuous')\n",
    "lev_roof_p4 = data2levroof(datap4K,'continuous')"
   ]
  },
  {
   "cell_type": "code",
   "execution_count": 86,
   "metadata": {},
   "outputs": [
    {
     "data": {
      "text/plain": [
       "Text(0, 0.5, 'Mean Lev roof [hPa]')"
      ]
     },
     "execution_count": 86,
     "metadata": {},
     "output_type": "execute_result"
    },
    {
     "data": {
      "image/png": "[encoded data removed]",
      "text/plain": [
       "<Figure size 1080x360 with 1 Axes>"
      ]
     },
     "metadata": {
      "needs_background": "light"
     },
     "output_type": "display_data"
    }
   ],
   "source": [
    "plt.figure(figsize=(15,5))\n",
    "plt.plot(dataref.lat,np.mean(lev_roof_0,axis=(0,2)),color='k',label='0K')\n",
    "plt.plot(dataref.lat,np.mean(lev_roof_m4,axis=(0,2)),color='b',label='-4K')\n",
    "plt.plot(dataref.lat,np.mean(lev_roof_p4,axis=(0,2)),color='r',label='+4K')\n",
    "plt.gca().invert_yaxis()\n",
    "plt.legend()\n",
    "plt.xlabel('Latitude')\n",
    "plt.ylabel('Mean Lev roof [hPa]')"
   ]
  },
  {
   "cell_type": "markdown",
   "metadata": {},
   "source": [
    "## Zooming on NP to find bug"
   ]
  },
  {
   "cell_type": "code",
   "execution_count": 95,
   "metadata": {},
   "outputs": [
    {
     "data": {
      "text/plain": [
       "(48, 64, 128)"
      ]
     },
     "execution_count": 95,
     "metadata": {},
     "output_type": "execute_result"
    }
   ],
   "source": [
    "lev_roof_m4.shape"
   ]
  },
  {
   "cell_type": "code",
   "execution_count": 99,
   "metadata": {},
   "outputs": [
    {
     "data": {
      "text/plain": [
       "(48, 30, 64, 128)"
      ]
     },
     "execution_count": 99,
     "metadata": {},
     "output_type": "execute_result"
    }
   ],
   "source": [
    "datam4K.TAP.shape"
   ]
  },
  {
   "cell_type": "code",
   "execution_count": 105,
   "metadata": {},
   "outputs": [
    {
     "data": {
      "image/png": "[encoded data removed]",
      "text/plain": [
       "<Figure size 432x288 with 1 Axes>"
      ]
     },
     "metadata": {
      "needs_background": "light"
     },
     "output_type": "display_data"
    }
   ],
   "source": [
    "plt.plot(np.mean(datam4K.TAP.values[:,:,-5:,:],axis=(0,2,3)),datam4K.lev)\n",
    "plt.axhline(y=np.mean(lev_roof_m4[:,-5:,:],axis=(0,1,2)),color='k')\n",
    "plt.gca().invert_yaxis()"
   ]
  },
  {
   "cell_type": "code",
   "execution_count": 107,
   "metadata": {},
   "outputs": [],
   "source": [
    "T_NP = datam4K.TAP.values[:,:,-5:,:]"
   ]
  },
  {
   "cell_type": "code",
   "execution_count": 108,
   "metadata": {},
   "outputs": [
    {
     "data": {
      "text/plain": [
       "(48, 30, 5, 128)"
      ]
     },
     "execution_count": 108,
     "metadata": {},
     "output_type": "execute_result"
    }
   ],
   "source": [
    "T_NP.shape"
   ]
  },
  {
   "cell_type": "code",
   "execution_count": 116,
   "metadata": {},
   "outputs": [
    {
     "data": {
      "text/plain": [
       "array([[[72.01245055, 72.01245055, 72.01245055, ..., 72.01245055,\n",
       "         72.01245055, 72.01245055],\n",
       "        [72.01245055, 72.01245055, 72.01245055, ..., 72.01245055,\n",
       "         72.01245055, 72.01245055],\n",
       "        [72.01245055, 72.01245055, 72.01245055, ..., 72.01245055,\n",
       "         72.01245055, 72.01245055],\n",
       "        [72.01245055, 72.01245055, 72.01245055, ..., 72.01245055,\n",
       "         72.01245055, 72.01245055],\n",
       "        [72.01245055, 72.01245055, 72.01245055, ..., 72.01245055,\n",
       "         72.01245055, 72.01245055]],\n",
       "\n",
       "       [[72.01245055, 72.01245055, 72.01245055, ..., 72.01245055,\n",
       "         72.01245055, 72.01245055],\n",
       "        [72.01245055, 72.01245055, 72.01245055, ..., 72.01245055,\n",
       "         72.01245055, 72.01245055],\n",
       "        [72.01245055, 72.01245055, 72.01245055, ..., 72.01245055,\n",
       "         72.01245055, 72.01245055],\n",
       "        [72.01245055, 72.01245055, 72.01245055, ..., 72.01245055,\n",
       "         72.01245055, 72.01245055],\n",
       "        [72.01245055, 72.01245055, 72.01245055, ..., 72.01245055,\n",
       "         72.01245055, 72.01245055]],\n",
       "\n",
       "       [[72.01245055, 72.01245055, 72.01245055, ..., 72.01245055,\n",
       "         72.01245055, 72.01245055],\n",
       "        [72.01245055, 72.01245055, 72.01245055, ..., 72.01245055,\n",
       "         72.01245055, 72.01245055],\n",
       "        [72.01245055, 72.01245055, 72.01245055, ..., 72.01245055,\n",
       "         72.01245055, 72.01245055],\n",
       "        [72.01245055, 72.01245055, 72.01245055, ..., 72.01245055,\n",
       "         72.01245055, 72.01245055],\n",
       "        [72.01245055, 72.01245055, 72.01245055, ..., 72.01245055,\n",
       "         72.01245055, 72.01245055]],\n",
       "\n",
       "       ...,\n",
       "\n",
       "       [[72.01245055, 72.01245055, 72.01245055, ..., 72.01245055,\n",
       "         72.01245055, 72.01245055],\n",
       "        [72.01245055, 72.01245055, 72.01245055, ..., 72.01245055,\n",
       "         72.01245055, 72.01245055],\n",
       "        [72.01245055, 72.01245055, 72.01245055, ..., 72.01245055,\n",
       "         72.01245055, 72.01245055],\n",
       "        [72.01245055, 72.01245055, 72.01245055, ..., 72.01245055,\n",
       "         72.01245055, 72.01245055],\n",
       "        [72.01245055, 72.01245055, 72.01245055, ..., 72.01245055,\n",
       "         72.01245055, 72.01245055]],\n",
       "\n",
       "       [[72.01245055, 72.01245055, 72.01245055, ..., 72.01245055,\n",
       "         72.01245055, 72.01245055],\n",
       "        [72.01245055, 72.01245055, 72.01245055, ..., 72.01245055,\n",
       "         72.01245055, 72.01245055],\n",
       "        [72.01245055, 72.01245055, 72.01245055, ..., 72.01245055,\n",
       "         72.01245055, 72.01245055],\n",
       "        [72.01245055, 72.01245055, 72.01245055, ..., 72.01245055,\n",
       "         72.01245055, 72.01245055],\n",
       "        [72.01245055, 72.01245055, 72.01245055, ..., 72.01245055,\n",
       "         72.01245055, 72.01245055]],\n",
       "\n",
       "       [[72.01245055, 72.01245055, 72.01245055, ..., 72.01245055,\n",
       "         72.01245055, 72.01245055],\n",
       "        [72.01245055, 72.01245055, 72.01245055, ..., 72.01245055,\n",
       "         72.01245055, 72.01245055],\n",
       "        [72.01245055, 72.01245055, 72.01245055, ..., 72.01245055,\n",
       "         72.01245055, 72.01245055],\n",
       "        [72.01245055, 72.01245055, 72.01245055, ..., 72.01245055,\n",
       "         72.01245055, 72.01245055],\n",
       "        [72.01245055, 72.01245055, 72.01245055, ..., 72.01245055,\n",
       "         72.01245055, 72.01245055]]])"
      ]
     },
     "execution_count": 116,
     "metadata": {},
     "output_type": "execute_result"
    }
   ],
   "source": [
    "datam4K.lev.values[np.argmin(T_NP[:,6:,:,:],axis=1)+6]"
   ]
  },
  {
   "cell_type": "code",
   "execution_count": 119,
   "metadata": {},
   "outputs": [
    {
     "data": {
      "text/plain": [
       "array([[[232.82861896, 197.9080867 , 197.9080867 , ..., 197.9080867 ,\n",
       "         232.82861896, 232.82861896],\n",
       "        [197.9080867 , 197.9080867 , 197.9080867 , ..., 168.22507977,\n",
       "         197.9080867 , 232.82861896],\n",
       "        [168.22507977, 197.9080867 , 197.9080867 , ..., 168.22507977,\n",
       "         168.22507977, 168.22507977],\n",
       "        [168.22507977, 168.22507977, 168.22507977, ..., 168.22507977,\n",
       "         168.22507977, 168.22507977],\n",
       "        [168.22507977, 168.22507977, 168.22507977, ..., 168.22507977,\n",
       "         168.22507977, 168.22507977]],\n",
       "\n",
       "       [[232.82861896, 197.9080867 , 197.9080867 , ..., 197.9080867 ,\n",
       "         232.82861896, 232.82861896],\n",
       "        [197.9080867 , 197.9080867 , 197.9080867 , ..., 168.22507977,\n",
       "         197.9080867 , 232.82861896],\n",
       "        [168.22507977, 197.9080867 , 197.9080867 , ..., 168.22507977,\n",
       "         168.22507977, 168.22507977],\n",
       "        [168.22507977, 168.22507977, 168.22507977, ..., 168.22507977,\n",
       "         168.22507977, 168.22507977],\n",
       "        [168.22507977, 168.22507977, 168.22507977, ..., 168.22507977,\n",
       "         168.22507977, 168.22507977]],\n",
       "\n",
       "       [[232.82861896, 197.9080867 , 197.9080867 , ..., 232.82861896,\n",
       "         232.82861896, 232.82861896],\n",
       "        [197.9080867 , 197.9080867 , 197.9080867 , ..., 168.22507977,\n",
       "         197.9080867 , 197.9080867 ],\n",
       "        [197.9080867 , 197.9080867 , 197.9080867 , ..., 168.22507977,\n",
       "         168.22507977, 168.22507977],\n",
       "        [168.22507977, 168.22507977, 168.22507977, ..., 168.22507977,\n",
       "         168.22507977, 168.22507977],\n",
       "        [168.22507977, 168.22507977, 168.22507977, ..., 168.22507977,\n",
       "         168.22507977, 168.22507977]],\n",
       "\n",
       "       ...,\n",
       "\n",
       "       [[121.54724076, 121.54724076, 121.54724076, ..., 121.54724076,\n",
       "         121.54724076, 121.54724076],\n",
       "        [121.54724076, 121.54724076, 121.54724076, ..., 121.54724076,\n",
       "         121.54724076, 121.54724076],\n",
       "        [121.54724076, 121.54724076, 121.54724076, ..., 121.54724076,\n",
       "         121.54724076, 121.54724076],\n",
       "        [168.22507977, 197.9080867 , 168.22507977, ..., 168.22507977,\n",
       "         168.22507977, 168.22507977],\n",
       "        [168.22507977, 168.22507977, 168.22507977, ..., 168.22507977,\n",
       "         168.22507977, 168.22507977]],\n",
       "\n",
       "       [[121.54724076, 121.54724076, 121.54724076, ..., 121.54724076,\n",
       "         121.54724076, 121.54724076],\n",
       "        [121.54724076, 121.54724076, 121.54724076, ..., 121.54724076,\n",
       "         121.54724076, 121.54724076],\n",
       "        [121.54724076, 121.54724076, 121.54724076, ..., 121.54724076,\n",
       "         121.54724076, 121.54724076],\n",
       "        [168.22507977, 168.22507977, 168.22507977, ..., 168.22507977,\n",
       "         168.22507977, 168.22507977],\n",
       "        [168.22507977, 168.22507977, 168.22507977, ..., 168.22507977,\n",
       "         168.22507977, 168.22507977]],\n",
       "\n",
       "       [[121.54724076, 121.54724076, 121.54724076, ..., 121.54724076,\n",
       "         121.54724076, 121.54724076],\n",
       "        [121.54724076, 121.54724076, 121.54724076, ..., 121.54724076,\n",
       "         121.54724076, 121.54724076],\n",
       "        [121.54724076, 121.54724076, 121.54724076, ..., 121.54724076,\n",
       "         121.54724076, 121.54724076],\n",
       "        [168.22507977, 168.22507977, 168.22507977, ..., 168.22507977,\n",
       "         168.22507977, 168.22507977],\n",
       "        [168.22507977, 168.22507977, 168.22507977, ..., 168.22507977,\n",
       "         168.22507977, 168.22507977]]])"
      ]
     },
     "execution_count": 119,
     "metadata": {},
     "output_type": "execute_result"
    }
   ],
   "source": [
    "datam4K.lev.values[np.argmin(T_NP[:,9:,:,:],axis=1)+9]"
   ]
  },
  {
   "cell_type": "markdown",
   "metadata": {},
   "source": [
    "# Test (PW,GMS) scaling for amplitude of convective heating/moistening"
   ]
  },
  {
   "cell_type": "code",
   "execution_count": null,
   "metadata": {},
   "outputs": [],
   "source": []
  }
 ],
 "metadata": {
  "kernelspec": {
   "display_name": "Python 3",
   "language": "python",
   "name": "python3"
  },
  "language_info": {
   "codemirror_mode": {
    "name": "ipython",
    "version": 3
   },
   "file_extension": ".py",
   "mimetype": "text/x-python",
   "name": "python",
   "nbconvert_exporter": "python",
   "pygments_lexer": "ipython3",
   "version": "3.7.3"
  },
  "toc": {
   "base_numbering": 1,
   "nav_menu": {},
   "number_sections": true,
   "sideBar": true,
   "skip_h1_title": false,
   "title_cell": "Table of Contents",
   "title_sidebar": "Contents",
   "toc_cell": false,
   "toc_position": {},
   "toc_section_display": true,
   "toc_window_display": true
  }
 },
 "nbformat": 4,
 "nbformat_minor": 2
}
