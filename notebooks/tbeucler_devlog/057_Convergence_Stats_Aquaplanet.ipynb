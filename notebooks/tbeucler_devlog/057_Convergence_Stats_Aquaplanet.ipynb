{
 "cells": [
  {
   "cell_type": "markdown",
   "metadata": {},
   "source": [
    "tgb - 9/22/2020 - Check that statistics converge in the limit of large aquaplanet sample number.  "
   ]
  },
  {
   "cell_type": "markdown",
   "metadata": {},
   "source": [
    "For second round of revisions of the PRL physical constraints paper"
   ]
  },
  {
   "cell_type": "markdown",
   "metadata": {},
   "source": [
    "# Imports"
   ]
  },
  {
   "cell_type": "code",
   "execution_count": 83,
   "metadata": {},
   "outputs": [],
   "source": [
    "# tgb - 4/22/2019 - Use +1K as validation dataset\n",
    "# tgb - 4/19/2019 - The goal is to make a slurm-callable script to calculate the statistics and residuals of all the paper neural networks over the validation dataset. This script is specialized to the +0K experiment.\n",
    "# tgb - 1/6/2019 - Rerunning the statistics over the training set\n",
    "\n",
    "import os\n",
    "#os.chdir('/filer/z-sv-pool12c/t/Tom.Beucler/SPCAM/CBRAIN-CAM')\n",
    "os.chdir('/export/home/tbeucler/CBRAIN-CAM')\n",
    "from cbrain.imports import *\n",
    "from cbrain.data_generator import *\n",
    "from cbrain.cam_constants import *\n",
    "from cbrain.losses import *\n",
    "from cbrain.utils import limit_mem\n",
    "from cbrain.layers import *\n",
    "import tensorflow as tf\n",
    "import tensorflow.math as tfm\n",
    "from tensorflow.keras.layers import *\n",
    "from tensorflow.keras.models import *\n",
    "import xarray as xr\n",
    "import numpy as np\n",
    "from cbrain.model_diagnostics import ModelDiagnostics\n",
    "\n",
    "import matplotlib as mpl\n",
    "import matplotlib.pyplot as plt\n",
    "import matplotlib.image as imag\n",
    "import pickle\n",
    "# Otherwise tensorflow will use ALL your GPU RAM for no reason\n",
    "limit_mem()\n",
    "#TRAINDIR = '/local/Tom.Beucler/SPCAM_PHYS/'\n",
    "TRAINDIR = '/DFS-L/DATA/pritchard/tbeucler/SPCAM/'\n",
    "#DATADIR = '/project/meteo/w2w/A6/S.Rasp/SP-CAM/fluxbypass_aqua/'\n",
    "DATADIR = '/DFS-L/DATA/pritchard/tbeucler/SPCAM/fluxbypass_aqua/'\n",
    "\n",
    "#config_fn = '/filer/z-sv-pool12c/t/Tom.Beucler/SPCAM/CBRAIN-CAM/pp_config/8col_rad_tbeucler_local_PostProc.yml'\n",
    "config_fn = '/export/home/tbeucler/CBRAIN-CAM/pp_config/8col_rad_tbeucler_local_PostProc.yml'\n",
    "#data_fn = '/local/Tom.Beucler/SPCAM_PHYS/8col009_01_train.nc'\n",
    "data_fn_array = [TRAINDIR+'SPCAM_PHYS/8col009_01_train_shuffle.nc',\n",
    "                TRAINDIR+'SPCAM_PHYS/8col009_01_valid.nc',\n",
    "                TRAINDIR+'SPCAM_PHYS/8col009_01_test.nc']\n",
    "dict_lay = {'SurRadLayer':SurRadLayer,'MassConsLayer':MassConsLayer,'EntConsLayer':EntConsLayer}\n",
    "\n",
    "NNa = ['JNNL']"
   ]
  },
  {
   "cell_type": "markdown",
   "metadata": {},
   "source": [
    "# Stats calculation over an increasing amount of randomly drawn samples without replacement"
   ]
  },
  {
   "cell_type": "code",
   "execution_count": 156,
   "metadata": {},
   "outputs": [],
   "source": [
    "Conv = {}\n",
    "ndraw = 250"
   ]
  },
  {
   "cell_type": "code",
   "execution_count": 157,
   "metadata": {},
   "outputs": [
    {
     "name": "stdout",
     "output_type": "stream",
     "text": [
      "NNs =  JNNL\n"
     ]
    },
    {
     "name": "stderr",
     "output_type": "stream",
     "text": [
      "/data11/home/tbeucler/CBRAIN-CAM/notebooks/tbeucler_devlog/cbrain/model_diagnostics.py:25: YAMLLoadWarning: calling yaml.load() without Loader=... is deprecated, as the default Loader is unsafe. Please read https://msg.pyyaml.org/load for full details.\n",
      "  config = yaml.load(f)\n"
     ]
    },
    {
     "data": {
      "application/vnd.jupyter.widget-view+json": {
       "model_id": "d8ee00970e8f4495beadb53625d4afd1",
       "version_major": 2,
       "version_minor": 0
      },
      "text/plain": [
       "HBox(children=(IntProgress(value=0, max=250), HTML(value='')))"
      ]
     },
     "metadata": {},
     "output_type": "display_data"
    },
    {
     "name": "stdout",
     "output_type": "stream",
     "text": [
      "\n"
     ]
    },
    {
     "name": "stderr",
     "output_type": "stream",
     "text": [
      "/data11/home/tbeucler/CBRAIN-CAM/notebooks/tbeucler_devlog/cbrain/model_diagnostics.py:25: YAMLLoadWarning: calling yaml.load() without Loader=... is deprecated, as the default Loader is unsafe. Please read https://msg.pyyaml.org/load for full details.\n",
      "  config = yaml.load(f)\n"
     ]
    },
    {
     "data": {
      "application/vnd.jupyter.widget-view+json": {
       "model_id": "efabee5330e4465aa3b4200bdfce3418",
       "version_major": 2,
       "version_minor": 0
      },
      "text/plain": [
       "HBox(children=(IntProgress(value=0, max=250), HTML(value='')))"
      ]
     },
     "metadata": {},
     "output_type": "display_data"
    },
    {
     "name": "stdout",
     "output_type": "stream",
     "text": [
      "\n"
     ]
    },
    {
     "name": "stderr",
     "output_type": "stream",
     "text": [
      "/data11/home/tbeucler/CBRAIN-CAM/notebooks/tbeucler_devlog/cbrain/model_diagnostics.py:25: YAMLLoadWarning: calling yaml.load() without Loader=... is deprecated, as the default Loader is unsafe. Please read https://msg.pyyaml.org/load for full details.\n",
      "  config = yaml.load(f)\n"
     ]
    },
    {
     "data": {
      "application/vnd.jupyter.widget-view+json": {
       "model_id": "5aa1505d0536450ba205bbee83f26872",
       "version_major": 2,
       "version_minor": 0
      },
      "text/plain": [
       "HBox(children=(IntProgress(value=0, max=250), HTML(value='')))"
      ]
     },
     "metadata": {},
     "output_type": "display_data"
    },
    {
     "name": "stdout",
     "output_type": "stream",
     "text": [
      "\n"
     ]
    }
   ],
   "source": [
    "for NNs in NNa:\n",
    "    print('NNs = ',NNs)\n",
    "    NN = {}; md = {}; Conv[NNs] = {}\n",
    "    \n",
    "    # 1) Load model\n",
    "    path = TRAINDIR+'HDF5_DATA/'+NNs+'.h5'\n",
    "    NN = load_model(path,custom_objects=dict_lay)\n",
    "    \n",
    "    # 2) Define model diagnostics object\n",
    "    for datas in data_fn_array:\n",
    "        md = ModelDiagnostics(NN,config_fn,datas)\n",
    "        Conv[NNs][datas[-16:-3]] = stats_rand_draw(md,ndraw)\n",
    "    \n",
    "    # 3) Calculate statistics and save in pickle file\n",
    "#    md.compute_stats()\n",
    "#     path = TRAINDIR+'HDF5_DATA/'+NNs+'md_train.pkl'\n",
    "#     pickle.dump(md.stats,open(path,'wb'))\n",
    "#     print('Stats are saved in ',path)\n",
    "    \n",
    "#     # 4) Calculate budget residuals and save in pickle file\n",
    "#     md.compute_res()\n",
    "#     path = TRAINDIR+'HDF5_DATA/'+NNs+'res_train.pkl'\n",
    "#     pickle.dump(md.res,open(path,'wb'))\n",
    "#     print('Budget residuals are saved in ',path)"
   ]
  },
  {
   "cell_type": "code",
   "execution_count": 158,
   "metadata": {},
   "outputs": [],
   "source": [
    "pathPKL = '/export/home/tbeucler/CBRAIN-CAM/notebooks/tbeucler_devlog/PKL_DATA/'\n",
    "pathHOME = '/export/home/tbeucler/'"
   ]
  },
  {
   "cell_type": "code",
   "execution_count": 159,
   "metadata": {},
   "outputs": [],
   "source": [
    "hf = open(pathPKL+'2020_09_22_Convergence_statistics.pkl','wb')\n",
    "pickle.dump(Conv,hf)\n",
    "# hf.close()"
   ]
  },
  {
   "cell_type": "code",
   "execution_count": 160,
   "metadata": {},
   "outputs": [
    {
     "data": {
      "text/plain": [
       "dict_keys(['JNNL'])"
      ]
     },
     "execution_count": 160,
     "metadata": {},
     "output_type": "execute_result"
    }
   ],
   "source": [
    "Conv.keys()"
   ]
  },
  {
   "cell_type": "code",
   "execution_count": 161,
   "metadata": {},
   "outputs": [
    {
     "data": {
      "text/plain": [
       "dict_keys(['train_shuffle', 'l009_01_valid', 'ol009_01_test'])"
      ]
     },
     "execution_count": 161,
     "metadata": {},
     "output_type": "execute_result"
    }
   ],
   "source": [
    "Conv['JNNL'].keys()"
   ]
  },
  {
   "cell_type": "code",
   "execution_count": 162,
   "metadata": {},
   "outputs": [
    {
     "data": {
      "text/plain": [
       "dict_keys(['mse', 'mse_std', 'true_sqmean', 'true_var'])"
      ]
     },
     "execution_count": 162,
     "metadata": {},
     "output_type": "execute_result"
    }
   ],
   "source": [
    "Conv['JNNL']['train_shuffle'].keys()"
   ]
  },
  {
   "cell_type": "code",
   "execution_count": 163,
   "metadata": {},
   "outputs": [
    {
     "data": {
      "text/plain": [
       "(250,)"
      ]
     },
     "execution_count": 163,
     "metadata": {},
     "output_type": "execute_result"
    }
   ],
   "source": [
    "Conv['JNNL']['train_shuffle']['mse'].shape"
   ]
  },
  {
   "cell_type": "code",
   "execution_count": 164,
   "metadata": {},
   "outputs": [],
   "source": [
    "nb_sample_xaxis = 64*128*np.arange(0,250,1)"
   ]
  },
  {
   "cell_type": "code",
   "execution_count": 165,
   "metadata": {},
   "outputs": [
    {
     "data": {
      "text/plain": [
       "array([      0,    8192,   16384,   24576,   32768,   40960,   49152,\n",
       "         57344,   65536,   73728,   81920,   90112,   98304,  106496,\n",
       "        114688,  122880,  131072,  139264,  147456,  155648,  163840,\n",
       "        172032,  180224,  188416,  196608,  204800,  212992,  221184,\n",
       "        229376,  237568,  245760,  253952,  262144,  270336,  278528,\n",
       "        286720,  294912,  303104,  311296,  319488,  327680,  335872,\n",
       "        344064,  352256,  360448,  368640,  376832,  385024,  393216,\n",
       "        401408,  409600,  417792,  425984,  434176,  442368,  450560,\n",
       "        458752,  466944,  475136,  483328,  491520,  499712,  507904,\n",
       "        516096,  524288,  532480,  540672,  548864,  557056,  565248,\n",
       "        573440,  581632,  589824,  598016,  606208,  614400,  622592,\n",
       "        630784,  638976,  647168,  655360,  663552,  671744,  679936,\n",
       "        688128,  696320,  704512,  712704,  720896,  729088,  737280,\n",
       "        745472,  753664,  761856,  770048,  778240,  786432,  794624,\n",
       "        802816,  811008,  819200,  827392,  835584,  843776,  851968,\n",
       "        860160,  868352,  876544,  884736,  892928,  901120,  909312,\n",
       "        917504,  925696,  933888,  942080,  950272,  958464,  966656,\n",
       "        974848,  983040,  991232,  999424, 1007616, 1015808, 1024000,\n",
       "       1032192, 1040384, 1048576, 1056768, 1064960, 1073152, 1081344,\n",
       "       1089536, 1097728, 1105920, 1114112, 1122304, 1130496, 1138688,\n",
       "       1146880, 1155072, 1163264, 1171456, 1179648, 1187840, 1196032,\n",
       "       1204224, 1212416, 1220608, 1228800, 1236992, 1245184, 1253376,\n",
       "       1261568, 1269760, 1277952, 1286144, 1294336, 1302528, 1310720,\n",
       "       1318912, 1327104, 1335296, 1343488, 1351680, 1359872, 1368064,\n",
       "       1376256, 1384448, 1392640, 1400832, 1409024, 1417216, 1425408,\n",
       "       1433600, 1441792, 1449984, 1458176, 1466368, 1474560, 1482752,\n",
       "       1490944, 1499136, 1507328, 1515520, 1523712, 1531904, 1540096,\n",
       "       1548288, 1556480, 1564672, 1572864, 1581056, 1589248, 1597440,\n",
       "       1605632, 1613824, 1622016, 1630208, 1638400, 1646592, 1654784,\n",
       "       1662976, 1671168, 1679360, 1687552, 1695744, 1703936, 1712128,\n",
       "       1720320, 1728512, 1736704, 1744896, 1753088, 1761280, 1769472,\n",
       "       1777664, 1785856, 1794048, 1802240, 1810432, 1818624, 1826816,\n",
       "       1835008, 1843200, 1851392, 1859584, 1867776, 1875968, 1884160,\n",
       "       1892352, 1900544, 1908736, 1916928, 1925120, 1933312, 1941504,\n",
       "       1949696, 1957888, 1966080, 1974272, 1982464, 1990656, 1998848,\n",
       "       2007040, 2015232, 2023424, 2031616, 2039808])"
      ]
     },
     "execution_count": 165,
     "metadata": {},
     "output_type": "execute_result"
    }
   ],
   "source": [
    "nb_sample_xaxis"
   ]
  },
  {
   "cell_type": "markdown",
   "metadata": {},
   "source": [
    "# SI Plot"
   ]
  },
  {
   "cell_type": "code",
   "execution_count": 166,
   "metadata": {},
   "outputs": [],
   "source": [
    "fz = 15\n",
    "lw = 4\n",
    "siz = 100\n",
    "S0 = 320 # Representative mean solar insolation for normalization purposes\n",
    "S0max = 1410.6442 # Max solar insolation for normalization purposes\n",
    "SN = S0/100 # Representative target = mean insolation / 4\n",
    "XNNA = 1.25 # Abscissa where architecture-constrained network will be placed\n",
    "XTEXT = 0.25 # Text placement\n",
    "YMIN = -1 # Representative value for conserving network\n",
    "YTEXT = 0.3 # Text placement"
   ]
  },
  {
   "cell_type": "code",
   "execution_count": 167,
   "metadata": {},
   "outputs": [],
   "source": [
    "plt.rc('text', usetex=False)\n",
    "mpl.rcParams['mathtext.fontset'] = 'stix'\n",
    "mpl.rcParams['font.family'] = 'STIXGeneral'\n",
    "#mpl.rcParams[\"font.serif\"] = \"STIX\"\n",
    "plt.rc('font', family='serif', size=fz)\n",
    "mpl.rcParams['lines.linewidth'] = lw\n",
    "plt.close('all')"
   ]
  },
  {
   "cell_type": "code",
   "execution_count": 168,
   "metadata": {},
   "outputs": [],
   "source": [
    "COL = ['r','b','k']\n",
    "LABEL = ['Training','Validation','Test']"
   ]
  },
  {
   "cell_type": "code",
   "execution_count": 180,
   "metadata": {},
   "outputs": [
    {
     "data": {
      "image/png": "[encoded data removed]",
      "text/plain": [
       "<Figure size 800x320 with 2 Axes>"
      ]
     },
     "metadata": {},
     "output_type": "display_data"
    }
   ],
   "source": [
    "f = plt.figure(num=None, figsize=(10,4), dpi=80, facecolor='w', edgecolor='k')\n",
    "plt.gcf().subplots_adjust(bottom=0.15) # Make room for xlabels\n",
    "\n",
    "### Subplot 1 ###\n",
    "\n",
    "ax1 = f.add_subplot(1,2,2)\n",
    "\n",
    "ax1.yaxis.tick_right()\n",
    "ax1.yaxis.set_label_position(\"right\")\n",
    "\n",
    "for ikey,key in enumerate(Conv['JNNL'].keys()):\n",
    "    ax1.plot(nb_sample_xaxis/1e3,\n",
    "             Conv['JNNL'][key]['mse'],\n",
    "             color=COL[ikey],\n",
    "             label=LABEL[ikey])\n",
    "#     ax1.plot(nb_sample_xaxis,\n",
    "#              Conv['JNNL'][key]['true_var'],\n",
    "#              color=COL[ikey],\n",
    "#              linestyle='--')\n",
    "ax1.set_xlabel('Number of samples ($\\\\times 10^{3}$)')\n",
    "ax1.set_ylabel('UCnet MSE')\n",
    "ax1.legend()\n",
    "\n",
    "ax2 = f.add_subplot(1,2,1)\n",
    "\n",
    "for ikey,key in enumerate(Conv['JNNL'].keys()):\n",
    "    ax2.plot(nb_sample_xaxis/1e3,\n",
    "             Conv['JNNL'][key]['true_sqmean'],\n",
    "             color=COL[ikey],\n",
    "             label=LABEL[ikey])\n",
    "ax2.set_xlabel('Number of samples ($\\\\times 10^{3}$)')\n",
    "ax2.set_ylabel('True Squared Mean')\n",
    "    \n",
    "plt.draw()\n",
    "plt.savefig(pathHOME+'FigSI_Convergence.pdf',format='pdf')"
   ]
  },
  {
   "cell_type": "markdown",
   "metadata": {},
   "source": [
    "# Miscellaneous"
   ]
  },
  {
   "cell_type": "code",
   "execution_count": 30,
   "metadata": {},
   "outputs": [],
   "source": [
    "#nt = 15"
   ]
  },
  {
   "cell_type": "code",
   "execution_count": 31,
   "metadata": {},
   "outputs": [],
   "source": [
    "#t_random = np.random.choice(np.linspace(0,md.valid_gen.n_batches-1,md.valid_gen.n_batches),size=((nt,)),replace=False).astype('int')"
   ]
  },
  {
   "cell_type": "code",
   "execution_count": 32,
   "metadata": {},
   "outputs": [
    {
     "data": {
      "application/vnd.jupyter.widget-view+json": {
       "model_id": "6043313806d3483cad8a85917c43c8f5",
       "version_major": 2,
       "version_minor": 0
      },
      "text/plain": [
       "HBox(children=(IntProgress(value=0, max=15), HTML(value='')))"
      ]
     },
     "metadata": {},
     "output_type": "display_data"
    },
    {
     "name": "stdout",
     "output_type": "stream",
     "text": [
      "\n"
     ]
    }
   ],
   "source": [
    "psum = np.zeros((md.nlat, md.nlon, md.valid_gen.n_outputs))\n",
    "tsum = np.copy(psum)\n",
    "sse = np.copy(psum)\n",
    "psqsum = np.copy(psum)\n",
    "tsqsum = np.copy(psum)\n",
    "\n",
    "Stats = {}\n",
    "Stats['mse'] = np.zeros((nt,))\n",
    "Stats['true_sqmean'] = np.zeros((nt,))\n",
    "Stats['true_var'] = np.zeros((nt,))\n",
    "\n",
    "for itime in tqdm(range(nt)):\n",
    "    t, p = md.get_truth_pred(itime)  # [lat, lon, var, lev]\n",
    "    # Compute statistics\n",
    "    psum += p\n",
    "    tsum += t\n",
    "    psqsum += p ** 2\n",
    "    tsqsum += t ** 2\n",
    "    sse += (t - p) ** 2\n",
    "    pmean = psum / (itime+1)\n",
    "    tmean = tsum / (itime+1)\n",
    "    \n",
    "    Stats['mse'][itime] = (sse / (itime+1)).mean()\n",
    "    Stats['true_sqmean'][itime] = (tsqsum / (itime+1)).mean()\n",
    "    Stats['true_var'][itime] = (tsqsum / (itime+1) - tmean ** 2).mean()\n",
    "\n",
    "# # Compute average statistics\n",
    "# Stats = {}\n",
    "# # pmean = psum / nt\n",
    "# # tmean = tsum / nt\n",
    "# #Stats['bias'] = pmean - tmean\n",
    "# Stats['mse'] = sse / nt\n",
    "# Stats['true_sqmean'] = tsqsum / nt\n",
    "# Stats['true_var'] = tsqsum / nt - tmean ** 2"
   ]
  },
  {
   "cell_type": "code",
   "execution_count": 33,
   "metadata": {},
   "outputs": [
    {
     "data": {
      "text/plain": [
       "(15,)"
      ]
     },
     "execution_count": 33,
     "metadata": {},
     "output_type": "execute_result"
    }
   ],
   "source": [
    "Stats['mse'].shape"
   ]
  },
  {
   "cell_type": "code",
   "execution_count": 54,
   "metadata": {},
   "outputs": [
    {
     "ename": "KeyError",
     "evalue": "'true_var'",
     "output_type": "error",
     "traceback": [
      "\u001b[0;31m---------------------------------------------------------------------------\u001b[0m",
      "\u001b[0;31mKeyError\u001b[0m                                  Traceback (most recent call last)",
      "\u001b[0;32m<ipython-input-54-76b05d837e3f>\u001b[0m in \u001b[0;36m<module>\u001b[0;34m\u001b[0m\n\u001b[0;32m----> 1\u001b[0;31m \u001b[0mplt\u001b[0m\u001b[0;34m.\u001b[0m\u001b[0mplot\u001b[0m\u001b[0;34m(\u001b[0m\u001b[0mConv\u001b[0m\u001b[0;34m[\u001b[0m\u001b[0;34m'true_var'\u001b[0m\u001b[0;34m]\u001b[0m\u001b[0;34m)\u001b[0m\u001b[0;34m\u001b[0m\u001b[0;34m\u001b[0m\u001b[0m\n\u001b[0m",
      "\u001b[0;31mKeyError\u001b[0m: 'true_var'"
     ]
    }
   ],
   "source": [
    "plt.plot(Conv['true_var'])"
   ]
  },
  {
   "cell_type": "code",
   "execution_count": 35,
   "metadata": {},
   "outputs": [
    {
     "data": {
      "text/plain": [
       "[<matplotlib.lines.Line2D at 0x7efb602e1080>]"
      ]
     },
     "execution_count": 35,
     "metadata": {},
     "output_type": "execute_result"
    },
    {
     "data": {
      "image/png": "[encoded data removed]",
      "text/plain": [
       "<Figure size 432x288 with 1 Axes>"
      ]
     },
     "metadata": {
      "needs_background": "light"
     },
     "output_type": "display_data"
    }
   ],
   "source": [
    "plt.plot(Stats['mse'])"
   ]
  },
  {
   "cell_type": "markdown",
   "metadata": {},
   "source": [
    "# Function for random draw and stats"
   ]
  },
  {
   "cell_type": "code",
   "execution_count": 155,
   "metadata": {},
   "outputs": [],
   "source": [
    "def stats_rand_draw(md,nb_draw):\n",
    "    \n",
    "    t_random = np.random.choice(np.linspace(0,md.valid_gen.n_batches-1,md.valid_gen.n_batches),\n",
    "                                size=((nb_draw,)),\n",
    "                                replace=False).astype('int')\n",
    "    \n",
    "    psum = np.zeros((md.nlat, md.nlon, md.valid_gen.n_outputs))\n",
    "    tsum = np.copy(psum)\n",
    "    sse = np.copy(psum)\n",
    "    psqsum = np.copy(psum)\n",
    "    tsqsum = np.copy(psum)\n",
    "\n",
    "    Stats = {}\n",
    "    Stats['mse'] = np.zeros((nb_draw,))\n",
    "    Stats['mse_std'] = np.zeros((nb_draw,))\n",
    "    Stats['true_sqmean'] = np.zeros((nb_draw,))\n",
    "    Stats['true_var'] = np.zeros((nb_draw,))\n",
    "\n",
    "    for itime in tqdm(range(nb_draw)):\n",
    "        t, p = md.get_truth_pred(itime)  # [lat, lon, var, lev]\n",
    "        # Rescale\n",
    "        t *= (md.valid_gen.output_transform.scale)\n",
    "        p *= (md.valid_gen.output_transform.scale)\n",
    "\n",
    "        # Compute statistics\n",
    "        psum += p\n",
    "        tsum += t\n",
    "        psqsum += p ** 2\n",
    "        tsqsum += t ** 2\n",
    "        sse += (t - p) ** 2\n",
    "        pmean = psum / (itime+1)\n",
    "        tmean = tsum / (itime+1)\n",
    "\n",
    "        Stats['mse'][itime] = (sse / (itime+1)).mean()\n",
    "        Stats['mse_std'][itime] = (sse / (itime+1)).std()\n",
    "        Stats['true_sqmean'][itime] = (tsqsum / (itime+1)).mean()\n",
    "        Stats['true_var'][itime] = (tsqsum / (itime+1) - tmean ** 2).mean()\n",
    "        \n",
    "    return Stats"
   ]
  },
  {
   "cell_type": "code",
   "execution_count": 41,
   "metadata": {},
   "outputs": [
    {
     "data": {
      "application/vnd.jupyter.widget-view+json": {
       "model_id": "c7f273abcae34b4a8497256a376616bb",
       "version_major": 2,
       "version_minor": 0
      },
      "text/plain": [
       "HBox(children=(IntProgress(value=0, max=5), HTML(value='')))"
      ]
     },
     "metadata": {},
     "output_type": "display_data"
    },
    {
     "name": "stdout",
     "output_type": "stream",
     "text": [
      "\n"
     ]
    }
   ],
   "source": [
    "A = stats_rand_draw(md,5)"
   ]
  },
  {
   "cell_type": "code",
   "execution_count": 42,
   "metadata": {},
   "outputs": [
    {
     "data": {
      "text/plain": [
       "[<matplotlib.lines.Line2D at 0x7efb601ef3c8>]"
      ]
     },
     "execution_count": 42,
     "metadata": {},
     "output_type": "execute_result"
    },
    {
     "data": {
      "image/png": "[encoded data removed]",
      "text/plain": [
       "<Figure size 432x288 with 1 Axes>"
      ]
     },
     "metadata": {
      "needs_background": "light"
     },
     "output_type": "display_data"
    }
   ],
   "source": [
    "plt.plot(A['mse'])"
   ]
  },
  {
   "cell_type": "code",
   "execution_count": null,
   "metadata": {},
   "outputs": [],
   "source": []
  }
 ],
 "metadata": {
  "kernelspec": {
   "display_name": "Python 3",
   "language": "python",
   "name": "python3"
  },
  "language_info": {
   "codemirror_mode": {
    "name": "ipython",
    "version": 3
   },
   "file_extension": ".py",
   "mimetype": "text/x-python",
   "name": "python",
   "nbconvert_exporter": "python",
   "pygments_lexer": "ipython3",
   "version": "3.7.3"
  },
  "toc": {
   "base_numbering": 1,
   "nav_menu": {},
   "number_sections": true,
   "sideBar": true,
   "skip_h1_title": false,
   "title_cell": "Table of Contents",
   "title_sidebar": "Contents",
   "toc_cell": false,
   "toc_position": {},
   "toc_section_display": true,
   "toc_window_display": true
  }
 },
 "nbformat": 4,
 "nbformat_minor": 2
}
