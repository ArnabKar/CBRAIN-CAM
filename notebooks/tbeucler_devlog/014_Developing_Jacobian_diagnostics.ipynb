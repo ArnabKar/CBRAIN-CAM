{
 "cells": [
  {
   "cell_type": "markdown",
   "metadata": {},
   "source": [
    "tgb - 5/21/2019 - The general goal of this notebook is to develop the new Jacobian diagnostics to assess the stability of the constrained/not-constrained networks. The sub-goals are:  \n",
    "1) Developing a Jacobian diagnostics toolbox to normalize the full Jacobian to the right units and analyze the eigenvalues of the dynamical Jacobian  \n",
    "2) Calculate the Jacobian as a function of latitude in our aquaplanet simulation  \n",
    "3) Prepare the Jacobian for the collaboration with Noah Brenowitz  "
   ]
  },
  {
   "cell_type": "markdown",
   "metadata": {},
   "source": [
    "# 1) Jacobian toolbox"
   ]
  },
  {
   "cell_type": "markdown",
   "metadata": {},
   "source": [
    "## 1.1) Load CBRAIN utilities and a model"
   ]
  },
  {
   "cell_type": "code",
   "execution_count": 1,
   "metadata": {},
   "outputs": [
    {
     "name": "stdout",
     "output_type": "stream",
     "text": [
      "/filer/z-sv-pool12c/t/Tom.Beucler/SPCAM/CBRAIN-CAM\n"
     ]
    }
   ],
   "source": [
    "import tensorflow as tf\n",
    "#tf.enable_eager_execution()\n",
    "\n",
    "from cbrain.imports import *\n",
    "from cbrain.data_generator import *\n",
    "from cbrain.cam_constants import *\n",
    "from cbrain.losses import *\n",
    "from cbrain.utils import limit_mem\n",
    "from cbrain.layers import *\n",
    "from cbrain.model_diagnostics import *\n",
    "import tensorflow.math as tfm\n",
    "from tensorflow.keras.layers import *\n",
    "from tensorflow.keras.models import *\n",
    "import xarray as xr\n",
    "import numpy as np\n",
    "from cbrain.model_diagnostics import ModelDiagnostics\n",
    "from numpy import linalg as LA\n",
    "import matplotlib.pyplot as plt\n",
    "# Otherwise tensorflow will use ALL your GPU RAM for no reason\n",
    "limit_mem()\n",
    "TRAINDIR = '/local/Tom.Beucler/SPCAM_PHYS/'\n",
    "DATADIR = '/project/meteo/w2w/A6/S.Rasp/SP-CAM/fluxbypass_aqua/'\n",
    "PREFIX = '8col009_01_'\n",
    "%cd /filer/z-sv-pool12c/t/Tom.Beucler/SPCAM/CBRAIN-CAM"
   ]
  },
  {
   "cell_type": "code",
   "execution_count": 2,
   "metadata": {},
   "outputs": [],
   "source": [
    "coor = xr.open_dataset(\"/project/meteo/w2w/A6/S.Rasp/SP-CAM/fluxbypass_aqua/AndKua_aqua_SPCAM3.0_sp_fbp_f4.cam2.h1.0000-01-01-00000.nc\",\\\n",
    "                    decode_times=False)\n",
    "lat = coor.lat; lon = coor.lon;\n",
    "coor.close();"
   ]
  },
  {
   "cell_type": "code",
   "execution_count": 3,
   "metadata": {},
   "outputs": [],
   "source": [
    "config_fn = '/filer/z-sv-pool12c/t/Tom.Beucler/SPCAM/CBRAIN-CAM/pp_config/8col_rad_tbeucler_local_PostProc.yml'\n",
    "data_fn = '/local/Tom.Beucler/SPCAM_PHYS/8col009_01_valid.nc'\n",
    "dict_lay = {'SurRadLayer':SurRadLayer,'MassConsLayer':MassConsLayer,'EntConsLayer':EntConsLayer}"
   ]
  },
  {
   "cell_type": "code",
   "execution_count": 4,
   "metadata": {},
   "outputs": [
    {
     "name": "stdout",
     "output_type": "stream",
     "text": [
      "/data/Tom.Beucler/SPCAM_PHYS/HDF5_DATA\n",
      "__________________________________________________________________________________________________\n",
      "Layer (type)                    Output Shape         Param #     Connected to                     \n",
      "==================================================================================================\n",
      "input_1 (InputLayer)            (None, 304)          0                                            \n",
      "__________________________________________________________________________________________________\n",
      "dense (Dense)                   (None, 512)          156160      input_1[0][0]                    \n",
      "__________________________________________________________________________________________________\n",
      "leaky_re_lu (LeakyReLU)         (None, 512)          0           dense[0][0]                      \n",
      "__________________________________________________________________________________________________\n",
      "dense_1 (Dense)                 (None, 512)          262656      leaky_re_lu[0][0]                \n",
      "__________________________________________________________________________________________________\n",
      "leaky_re_lu_1 (LeakyReLU)       (None, 512)          0           dense_1[0][0]                    \n",
      "__________________________________________________________________________________________________\n",
      "dense_2 (Dense)                 (None, 512)          262656      leaky_re_lu_1[0][0]              \n",
      "__________________________________________________________________________________________________\n",
      "leaky_re_lu_2 (LeakyReLU)       (None, 512)          0           dense_2[0][0]                    \n",
      "__________________________________________________________________________________________________\n",
      "dense_3 (Dense)                 (None, 512)          262656      leaky_re_lu_2[0][0]              \n",
      "__________________________________________________________________________________________________\n",
      "leaky_re_lu_3 (LeakyReLU)       (None, 512)          0           dense_3[0][0]                    \n",
      "__________________________________________________________________________________________________\n",
      "dense_4 (Dense)                 (None, 512)          262656      leaky_re_lu_3[0][0]              \n",
      "__________________________________________________________________________________________________\n",
      "leaky_re_lu_4 (LeakyReLU)       (None, 512)          0           dense_4[0][0]                    \n",
      "__________________________________________________________________________________________________\n",
      "dense_5 (Dense)                 (None, 214)          109782      leaky_re_lu_4[0][0]              \n",
      "__________________________________________________________________________________________________\n",
      "leaky_re_lu_5 (LeakyReLU)       (None, 214)          0           dense_5[0][0]                    \n",
      "__________________________________________________________________________________________________\n",
      "sur_rad_layer (SurRadLayer)     (None, 216)          0           input_1[0][0]                    \n",
      "                                                                 leaky_re_lu_5[0][0]              \n",
      "__________________________________________________________________________________________________\n",
      "mass_cons_layer (MassConsLayer) (None, 217)          0           input_1[0][0]                    \n",
      "                                                                 sur_rad_layer[0][0]              \n",
      "__________________________________________________________________________________________________\n",
      "ent_cons_layer (EntConsLayer)   (None, 218)          0           input_1[0][0]                    \n",
      "                                                                 mass_cons_layer[0][0]            \n",
      "==================================================================================================\n",
      "Total params: 1,316,566\n",
      "Trainable params: 1,316,566\n",
      "Non-trainable params: 0\n",
      "__________________________________________________________________________________________________\n"
     ]
    }
   ],
   "source": [
    "NN = {};\n",
    "%cd $TRAINDIR/HDF5_DATA\n",
    "# NNA0.01\n",
    "path = TRAINDIR+'HDF5_DATA/JNNC.h5'\n",
    "NN = load_model(path,custom_objects=dict_lay)\n",
    "md = ModelDiagnostics(NN,config_fn,data_fn)\n",
    "NN.summary()"
   ]
  },
  {
   "cell_type": "markdown",
   "metadata": {},
   "source": [
    "## 1.2) Calculate Jacobian for specific soundings"
   ]
  },
  {
   "cell_type": "markdown",
   "metadata": {},
   "source": [
    "tgb - 5/21/2019 - I have no idea why but the tape must be set to persistent=True and the jacobian to experimental_use_pfor=False to be able to calculate the Jacobian in eager execution mode #magic"
   ]
  },
  {
   "cell_type": "code",
   "execution_count": 5,
   "metadata": {},
   "outputs": [],
   "source": [
    "# itime = 1\n",
    "# X, truth = md.valid_gen[itime]\n",
    "# inp = tf.convert_to_tensor(np.expand_dims(X[0,:],axis=0))\n",
    "\n",
    "# with tf.GradientTape(persistent=True) as tape:\n",
    "#     tape.watch(inp)\n",
    "#     pred = NN(inp)\n",
    "# J = tape.jacobian(pred,inp,experimental_use_pfor=False).numpy()"
   ]
  },
  {
   "cell_type": "markdown",
   "metadata": {},
   "source": [
    "tgb - 5/21/2019 - Renormalize the Jacobian to 1/(Input units) which does not mean much"
   ]
  },
  {
   "cell_type": "code",
   "execution_count": 6,
   "metadata": {},
   "outputs": [],
   "source": [
    "# JAC = J.squeeze()/md.valid_gen.input_transform.div"
   ]
  },
  {
   "cell_type": "markdown",
   "metadata": {},
   "source": [
    "# 1.3) Create corresponding functions"
   ]
  },
  {
   "cell_type": "markdown",
   "metadata": {},
   "source": [
    "tgb - 5/21/2019 - Following https://github.com/tbeucler/CBRAIN-CAM/blob/master/notebooks/tbeucler_devlog/004_Calculating_Jacobians_of_NN_and_dynamics_of_TQ.ipynb but changed the gradient loop to a single Jacobian calculation and made use of the model diagnostics object"
   ]
  },
  {
   "cell_type": "code",
   "execution_count": 7,
   "metadata": {},
   "outputs": [],
   "source": [
    "def get_TQjacobian(model,inp,sample_index,md):\n",
    "# model is the neural network model from inp to out\n",
    "# inp is the input x generator from the generator (object = gen_obj)\n",
    "# sample_index is the reference number of the sample for x\n",
    "# md is the model diagnostics object\n",
    "# x.shape = (#sample,#inputs) so we are evaluating the gradient of\n",
    "# y(sample_index,:) with respect to x(sample_index,:)\n",
    "# cf is the conversion factor calculated using CAM constants\n",
    "    cf = np.zeros((1, md.valid_gen.n_inputs))\n",
    "    for index in range (md.valid_gen.n_inputs):\n",
    "        if index<90: cf[0,index]=L_V;\n",
    "        elif index<120: cf[0,index]=C_P;\n",
    "        elif index<150: cf[0,index]=1;\n",
    "        elif index<240: cf[0,index]=L_V*DT;\n",
    "        elif index<270: cf[0,index]=C_P*DT;\n",
    "        elif index<301: cf[0,index]=1;\n",
    "    else: cf[0,index]=DT;\n",
    "\n",
    "    J = np.zeros((md.valid_gen.n_outputs,md.valid_gen.n_inputs))\n",
    "    with tf.GradientTape(persistent=True) as tape:\n",
    "        TFinp = tf.convert_to_tensor(np.expand_dims(inp[0,:],axis=0))\n",
    "        tape.watch(TFinp)\n",
    "        pred = NN(TFinp)\n",
    "    J = tape.jacobian(pred,TFinp,experimental_use_pfor=False)\\\n",
    "    .numpy().squeeze()/(cf*md.valid_gen.input_transform.div)\n",
    "    \n",
    "    JTQ = np.zeros((60,60))\n",
    "    for i in range (60):\n",
    "        for j in range(60):\n",
    "            if (i<30) and (j<30): JTQ[i,j] = J[i,j] # d(dq/dt)/dq\n",
    "            elif (i>29) and (j<30): JTQ[i,j] = J[90+(i-30),j]-\\\n",
    "                J[120+(i-30),j]-J[150+(i-30),j] # d(dTcon/dt)/dq\n",
    "            elif (i<30) and (j>29): JTQ[i,j] = J[i,90+(j-30)] # d(dq/dt)/dT\n",
    "            elif (i>29) and (j>29): JTQ[i,j] = J[90+(i-30),90+(j-30)]-\\\n",
    "                J[120+(i-30),90+(j-30)]-J[150+(i-30),90+(j-30)] # d(dTcon/dt)/dT\n",
    "\n",
    "    return JTQ"
   ]
  },
  {
   "cell_type": "code",
   "execution_count": 8,
   "metadata": {},
   "outputs": [],
   "source": [
    "def get_RADjacobian(model,inp,sample_index,md):\n",
    "# model is the neural network model from inp to out\n",
    "# inp is the input x generator from the generator (object = gen_obj)\n",
    "# sample_index is the reference number of the sample for x\n",
    "# md is the model diagnostics object\n",
    "# x.shape = (#sample,#inputs) so we are evaluating the gradient of\n",
    "# y(sample_index,:) with respect to x(sample_index,:)\n",
    "# cf is the conversion factor calculated using CAM constants\n",
    "    cf = np.zeros((1, md.valid_gen.n_inputs))\n",
    "    for index in range (md.valid_gen.n_inputs):\n",
    "        if index<90: cf[0,index]=L_V;\n",
    "        elif index<120: cf[0,index]=C_P;\n",
    "        elif index<150: cf[0,index]=1;\n",
    "        elif index<240: cf[0,index]=L_V*DT;\n",
    "        elif index<270: cf[0,index]=C_P*DT;\n",
    "        elif index<301: cf[0,index]=1;\n",
    "    else: cf[0,index]=DT;\n",
    "        \n",
    "    J = np.zeros((md.valid_gen.n_outputs,md.valid_gen.n_inputs))\n",
    "    with tf.GradientTape(persistent=True) as tape:\n",
    "        TFinp = tf.convert_to_tensor(np.expand_dims(inp[0,:],axis=0))\n",
    "        tape.watch(TFinp)\n",
    "        pred = NN(TFinp)\n",
    "    J = tape.jacobian(pred,TFinp,experimental_use_pfor=False)\\\n",
    "    .numpy().squeeze()/(cf*md.valid_gen.input_transform.div)\n",
    "    \n",
    "    JRAD = np.zeros((60,60))\n",
    "    for i in range (60):\n",
    "        for j in range(60):\n",
    "            if (i<30) and (j<30): JRAD[i,j] = J[120+i,j]\n",
    "            elif (i>29) and (j<30): JRAD[i,j] = J[150+(i-30),j]\n",
    "            elif (i<30) and (j>29): JRAD[i,j] = J[120+i,90+(j-30)]\n",
    "            elif (i>29) and (j>29): JRAD[i,j] = J[150+(i-30),90+(j-30)]\n",
    "\n",
    "    return JRAD"
   ]
  },
  {
   "cell_type": "markdown",
   "metadata": {},
   "source": [
    "tgb - 5/21/2019 - Get radiative AND convective Jacobian for an entire batch"
   ]
  },
  {
   "cell_type": "code",
   "execution_count": 5,
   "metadata": {},
   "outputs": [],
   "source": [
    "def get_RADCONjacobian(model,inp,md,ind):\n",
    "# model is the neural network model from inp to out\n",
    "# inp is the input x generator from the generator (object = gen_obj)\n",
    "# sample_index is the reference number of the sample for x\n",
    "# md is the model diagnostics object\n",
    "# ind is the indices over which the Jacobian is calculated\n",
    "# x.shape = (#sample,#inputs) so we are evaluating the gradient of\n",
    "# y(sample_index,:) with respect to x(sample_index,:)\n",
    "# cf is the conversion factor calculated using CAM constants\n",
    "    cf = np.zeros((1, md.valid_gen.n_inputs))\n",
    "    for index in range (md.valid_gen.n_inputs):\n",
    "        if index<90: cf[0,index]=L_V;\n",
    "        elif index<120: cf[0,index]=C_P;\n",
    "        elif index<150: cf[0,index]=1;\n",
    "        elif index<240: cf[0,index]=L_V*DT;\n",
    "        elif index<270: cf[0,index]=C_P*DT;\n",
    "        elif index<301: cf[0,index]=1;\n",
    "    else: cf[0,index]=DT;\n",
    "    \n",
    "    JCON = np.zeros((60,60,len(ind)))\n",
    "    JRAD = np.zeros((60,60,len(ind)))\n",
    "    \n",
    "    J = np.zeros((md.valid_gen.n_outputs,md.valid_gen.n_inputs,len(ind)))\n",
    "    for count,i in enumerate(ind):\n",
    "        print('i=',i,'/',len(ind)-1,end=\"\\r\")\n",
    "        with tf.GradientTape(persistent=True) as tape:\n",
    "            TFinp = tf.convert_to_tensor(np.expand_dims(inp[i,:],axis=0))\n",
    "            tape.watch(TFinp)\n",
    "            pred = NN(TFinp)\n",
    "        J[:,:,i] = tape.jacobian(pred,TFinp,experimental_use_pfor=False)\\\n",
    "        .numpy().squeeze()/(cf*md.valid_gen.input_transform.div)\n",
    "    \n",
    "    for i in range (60):\n",
    "        for j in range(60):\n",
    "            # Convection\n",
    "            if (i<30) and (j<30): JCON[i,j] = J[i,j,:] # d(dq/dt)/dq\n",
    "            elif (i>29) and (j<30): JCON[i,j] = J[90+(i-30),j,:]-\\\n",
    "                J[120+(i-30),j,:]-J[150+(i-30),j,:] # d(dTcon/dt)/dq\n",
    "            elif (i<30) and (j>29): JCON[i,j] = J[i,90+(j-30),:] # d(dq/dt)/dT\n",
    "            elif (i>29) and (j>29): JCON[i,j] = J[90+(i-30),90+(j-30),:]-\\\n",
    "                J[120+(i-30),90+(j-30),:]-J[150+(i-30),90+(j-30),:] # d(dTcon/dt)/dT\n",
    "            # Radiation    \n",
    "            if (i<30) and (j<30): JRAD[i,j,:] = J[120+i,j,:]\n",
    "            elif (i>29) and (j<30): JRAD[i,j,:] = J[150+(i-30),j,:]\n",
    "            elif (i<30) and (j>29): JRAD[i,j,:] = J[120+i,90+(j-30),:]\n",
    "            elif (i>29) and (j>29): JRAD[i,j,:] = J[150+(i-30),90+(j-30),:]\n",
    "\n",
    "    return JCON,JRAD"
   ]
  },
  {
   "cell_type": "code",
   "execution_count": 6,
   "metadata": {},
   "outputs": [],
   "source": [
    "from tensorflow.python.ops.parallel_for.gradients import batch_jacobian\n",
    "def get_jacobian(x, model):\n",
    "    sess = tf.keras.backend.get_session()\n",
    "    jac = jacobian(model.output, model.input)\n",
    "    J = sess.run(jac, feed_dict={model.input: x.astype(np.float32)[None]})\n",
    "    return J.squeeze()\n",
    "def get_batch_jacobian(x, model):\n",
    "    sess = tf.keras.backend.get_session()\n",
    "    jac = batch_jacobian(model.output, model.input)\n",
    "    J = sess.run(jac, feed_dict={model.input: x.astype(np.float32)})\n",
    "    return J.squeeze()"
   ]
  },
  {
   "cell_type": "markdown",
   "metadata": {},
   "source": [
    "tgb - 6/4/2019 - Corrected it to the right units"
   ]
  },
  {
   "cell_type": "code",
   "execution_count": 7,
   "metadata": {},
   "outputs": [],
   "source": [
    "def get_RADCONjacobian(model,md,itime):\n",
    "    # model is the neural network model from inp to out\n",
    "    # inp is the input x generator from the generator (object = gen_obj)\n",
    "    # sample_index is the reference number of the sample for x\n",
    "    # md is the model diagnostics object\n",
    "    # ind is the indices over which the Jacobian is calculated\n",
    "    # x.shape = (#sample,#inputs) so we are evaluating the gradient of\n",
    "    # y(sample_index,:) with respect to x(sample_index,:)\n",
    "    # cf is the conversion factor calculated using CAM constants\n",
    "    X, truth = md.valid_gen[itime]\n",
    "\n",
    "    cf = np.zeros((1, md.valid_gen.n_inputs))\n",
    "    for index in range (md.valid_gen.n_inputs):\n",
    "        if index<90: cf[0,index]=L_V;\n",
    "        elif index<120: cf[0,index]=C_P;\n",
    "        elif index<150: cf[0,index]=1;\n",
    "        elif index<240: cf[0,index]=L_V*DT;\n",
    "        elif index<270: cf[0,index]=C_P*DT;\n",
    "        elif index<301: cf[0,index]=1;\n",
    "    else: cf[0,index]=DT;\n",
    "\n",
    "    cf_oup = np.zeros((1,md.valid_gen.n_outputs))\n",
    "    for index in range (md.valid_gen.n_outputs):\n",
    "        if index<90: cf_oup[0,index]=L_V;\n",
    "        elif index<210: cf_oup[0,index]=C_P;\n",
    "        else: cf_oup[0,index]=1;\n",
    "\n",
    "    JCON = np.zeros((60,60,8192))\n",
    "    JRAD = np.zeros((60,60,8192))\n",
    "\n",
    "    # J = np.zeros((md.valid_gen.n_outputs,md.valid_gen.n_inputs,len(ind)))\n",
    "    # for count,i in enumerate(ind):\n",
    "    #     print('i=',i,'/',len(ind)-1,end=\"\\r\")\n",
    "    #     with tf.GradientTape(persistent=True) as tape:\n",
    "    #         TFinp = tf.convert_to_tensor(np.expand_dims(inp[i,:],axis=0))\n",
    "    #         tape.watch(TFinp)\n",
    "    #         pred = NN(TFinp)\n",
    "    #     J[:,:,i] = tape.jacobian(pred,TFinp,experimental_use_pfor=False)\\\n",
    "    #     .numpy().squeeze()/(cf*md.valid_gen.input_transform.div)\n",
    "    for ind in range(32):\n",
    "        print('ind=',ind,'/',32,end=\"\\r\")\n",
    "        sample = np.arange(256*ind,256*(ind+1))\n",
    "        Jtmp = get_batch_jacobian(X[sample,:], model)*\\\n",
    "            np.transpose(cf_oup/md.valid_gen.output_transform.scale)\\\n",
    "            /(cf*md.valid_gen.input_transform.div)\n",
    "        if ind==0: J = Jtmp\n",
    "        else: J = np.concatenate((J,Jtmp),axis=0)\n",
    "    print(J.shape)\n",
    "\n",
    "    for i in range (60):\n",
    "        for j in range(60):\n",
    "            # Convection\n",
    "            if (i<30) and (j<30): JCON[i,j] = J[:,i,j] # d(dq/dt)/dq\n",
    "            elif (i>29) and (j<30): JCON[i,j] = J[:,90+(i-30),j]-\\\n",
    "                J[:,120+(i-30),j]-J[:,150+(i-30),j] # d(dTcon/dt)/dq\n",
    "            elif (i<30) and (j>29): JCON[i,j] = J[:,i,90+(j-30)] # d(dq/dt)/dT\n",
    "            elif (i>29) and (j>29): JCON[i,j] = J[:,90+(i-30),90+(j-30)]-\\\n",
    "                J[:,120+(i-30),90+(j-30)]-J[:,150+(i-30),90+(j-30)] # d(dTcon/dt)/dT\n",
    "            # Radiation    \n",
    "            if (i<30) and (j<30): JRAD[i,j,:] = J[:,120+i,j]\n",
    "            elif (i>29) and (j<30): JRAD[i,j,:] = J[:,150+(i-30),j]\n",
    "            elif (i<30) and (j>29): JRAD[i,j,:] = J[:,120+i,90+(j-30)]\n",
    "            elif (i>29) and (j>29): JRAD[i,j,:] = J[:,150+(i-30),90+(j-30)]\n",
    "                \n",
    "    return JCON,JRAD"
   ]
  },
  {
   "cell_type": "code",
   "execution_count": 26,
   "metadata": {},
   "outputs": [
    {
     "data": {
      "text/plain": [
       "(8192, 304)"
      ]
     },
     "execution_count": 26,
     "metadata": {},
     "output_type": "execute_result"
    }
   ],
   "source": [
    "X.shape"
   ]
  },
  {
   "cell_type": "code",
   "execution_count": 11,
   "metadata": {},
   "outputs": [],
   "source": [
    "JRAD2 = np.reshape(JRAD, (60,60,64,128))"
   ]
  },
  {
   "cell_type": "code",
   "execution_count": 12,
   "metadata": {},
   "outputs": [
    {
     "data": {
      "text/plain": [
       "(60, 60, 64, 128)"
      ]
     },
     "execution_count": 12,
     "metadata": {},
     "output_type": "execute_result"
    }
   ],
   "source": [
    "JRAD2.shape"
   ]
  },
  {
   "cell_type": "code",
   "execution_count": 13,
   "metadata": {},
   "outputs": [],
   "source": [
    "JRAD3 = JRAD2.mean(axis=3)"
   ]
  },
  {
   "cell_type": "code",
   "execution_count": 14,
   "metadata": {},
   "outputs": [
    {
     "data": {
      "text/plain": [
       "(60, 60, 64)"
      ]
     },
     "execution_count": 14,
     "metadata": {},
     "output_type": "execute_result"
    }
   ],
   "source": [
    "JRAD3.shape"
   ]
  },
  {
   "cell_type": "code",
   "execution_count": null,
   "metadata": {},
   "outputs": [],
   "source": [
    "np.mean(np.reshape(JRAD,(60,60,64,128)),axis=3)"
   ]
  },
  {
   "cell_type": "code",
   "execution_count": null,
   "metadata": {},
   "outputs": [
    {
     "name": "stdout",
     "output_type": "stream",
     "text": [
      "itime= 0\n",
      "i= 0 / 12763\r"
     ]
    },
    {
     "name": "stderr",
     "output_type": "stream",
     "text": [
      "/home/t/Tom.Beucler/miniconda3/lib/python3.6/site-packages/ipykernel_launcher.py:31: RuntimeWarning: divide by zero encountered in true_divide\n"
     ]
    },
    {
     "name": "stdout",
     "output_type": "stream",
     "text": [
      "itime= 0 Saving the arrays in HDF5 format\n",
      "itime= 1\n",
      "itime= 1 Saving the arrays in HDF5 format\n",
      "itime= 2\n",
      "i= 8 / 12763\r"
     ]
    }
   ],
   "source": [
    "import h5py\n",
    "\n",
    "JCONa = np.zeros((md.nlat,60,60))\n",
    "JRADa = np.copy(JCONa)\n",
    "\n",
    "for itime in range(100):\n",
    "    print('itime=',itime)\n",
    "    X, truth = md.valid_gen[itime]\n",
    "    Xgeo = X.values.reshape(md.nlat, md.nlon, 304)\n",
    "    for ilat in range(md.nlat):\n",
    "        print('ilat=',ilat,'/',str(md.nlat-1),end=\"\\r\")\n",
    "        Xlat = Xgeo[ilat,:,:]\n",
    "        JCON,JRAD = get_RADCONjacobian(NN,Xlat,md,np.arange(0,md.nlon))\n",
    "        JCONa[ilat,:,:] = JCON.mean(axis=2)/(itime+1)+\\\n",
    "        itime/(itime+1)*JCONa[ilat,:,:]\n",
    "        JRADa[ilat,:,:] = JRAD.mean(axis=2)/(itime+1)+\\\n",
    "        itime/(itime+1)*JRADa[ilat,:,:]\n",
    "\n",
    "    print('itime=',itime,'Saving the arrays in HDF5 format')\n",
    "    with h5py.File('HDF5_DATA/014_JCONa.h5', 'w') as hf:\n",
    "        hf.create_dataset(\"name-of-dataset\",  data=JCONa)\n",
    "    with h5py.File('HDF5_DATA/014_JRADa.h5', 'w') as hf:\n",
    "        hf.create_dataset(\"name-of-dataset\",  data=JRADa)"
   ]
  },
  {
   "cell_type": "markdown",
   "metadata": {},
   "source": [
    "tgb - 5/21/2019 - Save in HDF5 format using https://stackoverflow.com/questions/20928136/input-and-output-numpy-arrays-to-h5py"
   ]
  },
  {
   "cell_type": "code",
   "execution_count": 101,
   "metadata": {},
   "outputs": [],
   "source": [
    "# import h5py\n",
    "# with h5py.File('HDF5_DATA/014_JCON.h5', 'w') as hf:\n",
    "#     hf.create_dataset(\"name-of-dataset\",  data=JCON)\n",
    "# with h5py.File('HDF5_DATA/014_JRAD.h5', 'w') as hf:\n",
    "#     hf.create_dataset(\"name-of-dataset\",  data=JRAD)"
   ]
  },
  {
   "cell_type": "code",
   "execution_count": 20,
   "metadata": {},
   "outputs": [
    {
     "data": {
      "text/plain": [
       "(8192, 60, 60)"
      ]
     },
     "execution_count": 20,
     "metadata": {},
     "output_type": "execute_result"
    }
   ],
   "source": [
    "# JRAD = np.swapaxes(JRAD,1,2)\n",
    "# JRAD.shape\n",
    "# JRAD = np.swapaxes(JRAD,0,1)\n",
    "# JRAD.shape"
   ]
  },
  {
   "cell_type": "code",
   "execution_count": 7,
   "metadata": {},
   "outputs": [],
   "source": [
    "# with h5py.File('HDF5_DATA/014_JCONa.h5', 'r') as hf:\n",
    "#     JCON = hf['name-of-dataset'][:]\n",
    "# with h5py.File('HDF5_DATA/014_JRADa.h5', 'r') as hf:\n",
    "#     JRAD = hf['name-of-dataset'][:]"
   ]
  },
  {
   "cell_type": "markdown",
   "metadata": {},
   "source": [
    "tgb - 5/22/2019 - First calculate parameters useful for the particular graph, then graph for each latitude"
   ]
  },
  {
   "cell_type": "code",
   "execution_count": 8,
   "metadata": {},
   "outputs": [],
   "source": [
    "minlev = 200; # Minimum level [hPa]\n",
    "PS = 1e5; P0 = 1e5;\n",
    "P = P0*hyai+PS*hybi; # Total pressure [Pa]\n",
    "minind = np.argmin(abs(P-minlev*1e2));\n",
    "IND = np.concatenate((np.arange(minind,30),np.arange(30+minind,60)),axis=0)"
   ]
  },
  {
   "cell_type": "code",
   "execution_count": 58,
   "metadata": {},
   "outputs": [
    {
     "data": {
      "text/plain": [
       "<xarray.DataArray 'TS' (lat: 64, lon: 128)>\n",
       "array([[275.16, 275.16, 275.16, ..., 275.16, 275.16, 275.16],\n",
       "       [275.16, 275.16, 275.16, ..., 275.16, 275.16, 275.16],\n",
       "       [275.16, 275.16, 275.16, ..., 275.16, 275.16, 275.16],\n",
       "       ...,\n",
       "       [275.16, 275.16, 275.16, ..., 275.16, 275.16, 275.16],\n",
       "       [275.16, 275.16, 275.16, ..., 275.16, 275.16, 275.16],\n",
       "       [275.16, 275.16, 275.16, ..., 275.16, 275.16, 275.16]], dtype=float32)\n",
       "Coordinates:\n",
       "  * lat      (lat) float64 -87.86 -85.1 -82.31 -79.53 ... 79.53 82.31 85.1 87.86\n",
       "  * lon      (lon) float64 0.0 2.812 5.625 8.438 ... 348.8 351.6 354.4 357.2\n",
       "    time     float64 0.04167\n",
       "Attributes:\n",
       "    units:        K\n",
       "    long_name:    Surface temperature (radiative)\n",
       "    cell_method:  time: mean"
      ]
     },
     "execution_count": 58,
     "metadata": {},
     "output_type": "execute_result"
    }
   ],
   "source": [
    "coor.lat[ilat]\n",
    "coor.TS[ilat]"
   ]
  },
  {
   "cell_type": "code",
   "execution_count": 61,
   "metadata": {},
   "outputs": [
    {
     "data": {
      "text/plain": [
       "Text(0, 0.5, '$\\\\mathrm{SST\\\\ \\\\left(K\\\\right)}$')"
      ]
     },
     "execution_count": 61,
     "metadata": {},
     "output_type": "execute_result"
    },
    {
     "data": {
      "image/png": "[encoded data removed]",
      "text/plain": [
       "<Figure size 1600x160 with 1 Axes>"
      ]
     },
     "metadata": {},
     "output_type": "display_data"
    }
   ],
   "source": [
    "ilat = 2\n",
    "lw = 2.5\n",
    "siz = 200\n",
    "\n",
    "plt.figure(num=None, figsize=(20, 2), dpi=80, facecolor='w', edgecolor='k')\n",
    "plt.rc('text', usetex=True)\n",
    "plt.rc('font', family='serif')\n",
    "plt.plot(coor.lat,coor.TS.mean(axis=(0,2)),color='b',linewidth=lw)\n",
    "plt.xticks(fontsize=20); plt.yticks(fontsize=20)\n",
    "plt.scatter(coor.lat[ilat],coor.TS.mean(axis=(0,2))[ilat],s=siz,color='b')\n",
    "plt.xlim((np.min(coor.lat),np.max(coor.lat)));\n",
    "plt.xlabel(r'$\\mathrm{Latitude\\ \\left(^{\\circ}\\right)}$', fontsize = 20)\n",
    "#ax.xaxis.labelpad = 20\n",
    "plt.ylabel(r'$\\mathrm{SST\\ \\left(K\\right)}$', fontsize = 20)"
   ]
  },
  {
   "cell_type": "code",
   "execution_count": 80,
   "metadata": {},
   "outputs": [
    {
     "data": {
      "text/plain": [
       "(64, 128, 60, 60)"
      ]
     },
     "execution_count": 80,
     "metadata": {},
     "output_type": "execute_result"
    }
   ],
   "source": [
    "JCON.shape"
   ]
  },
  {
   "cell_type": "code",
   "execution_count": 87,
   "metadata": {},
   "outputs": [
    {
     "data": {
      "text/plain": [
       "(128, 60, 60)"
      ]
     },
     "execution_count": 87,
     "metadata": {},
     "output_type": "execute_result"
    }
   ],
   "source": [
    "JCON[ilat,:,:,:].shape"
   ]
  },
  {
   "cell_type": "code",
   "execution_count": 88,
   "metadata": {},
   "outputs": [
    {
     "name": "stdout",
     "output_type": "stream",
     "text": [
      "(60, 60)\n",
      "[[ 4.77292095e-06  1.72240550e-06 -1.44912740e-05 ... -6.76831302e-07\n",
      "  -1.07217891e-06 -1.66211323e-06]\n",
      " [ 1.52045963e-05  7.80347733e-06 -2.76349458e-05 ...  5.56718199e-09\n",
      "   1.10675654e-07 -4.06396424e-07]\n",
      " [ 7.62947698e-07 -7.37987197e-06 -2.96197530e-05 ... -5.89208336e-07\n",
      "  -8.95994007e-07 -1.51297125e-06]\n",
      " ...\n",
      " [-6.90974222e-05  1.67626852e-04 -2.44644732e-03 ...  1.98545918e-05\n",
      "   7.12046756e-05  6.84149210e-05]\n",
      " [ 2.65750160e-04  5.68746008e-04 -8.39261508e-04 ... -2.54051907e-05\n",
      "  -3.46307752e-05 -3.66336210e-05]\n",
      " [ 3.48785895e-04  5.02690733e-04  4.96003527e-03 ... -1.49622382e-04\n",
      "  -2.59888916e-04 -3.41393763e-04]]\n"
     ]
    }
   ],
   "source": [
    "J = JCON[ilat,:,:,:].mean(axis=0)\n",
    "print(J.shape)\n",
    "print(J)"
   ]
  },
  {
   "cell_type": "code",
   "execution_count": 11,
   "metadata": {},
   "outputs": [],
   "source": [
    "def Jacobian_figurelat(Jinp,coor,ilat=32,plot_option='CON',lw=2.5,siz=200,vmin=-3600*0.003, vmax=3600*0.003):\n",
    "\n",
    "    if len(Jinp.shape)>=4: J = Jinp[ilat,:,:,:].mean(axis=0)\n",
    "    #else: J = Jinp[ilat,:,:] tgb - 6/4/2019 - changed shape of Jacobian\n",
    "    else: J = Jinp[:,:,ilat]\n",
    "    # minlev = 200; # Minimum level [hPa]\n",
    "    plt.rc('text', usetex=True)\n",
    "    plt.rc('font', family='serif')\n",
    "    plt.figure(num=None, figsize=(20, 13.5), dpi=80, facecolor='w', edgecolor='k')\n",
    "\n",
    "    fig, ax = plt.subplots(figsize=(10,10))\n",
    "    # Extract the Jacobian from level minlev to the surface (index 30 here)\n",
    "    # PS = 1e5; P0 = 1e5;\n",
    "    # P = P0*hyai+PS*hybi; # Total pressure [Pa]\n",
    "    # minind = np.argmin(abs(P-minlev*1e2));\n",
    "    # IND = np.concatenate((np.arange(minind,30),np.arange(30+minind,60)),axis=0)\n",
    "    J = J[IND,:]; J = J[:,IND];\n",
    "    cax = ax.matshow(24*3600*J, vmin=vmin,vmax=vmax, cmap='bwr')\n",
    "\n",
    "    x = np.linspace(0.,60.,100);\n",
    "    plt.plot(x,J.shape[0]/2*x**0, color='k')\n",
    "    plt.plot(J.shape[0]/2*x**0,x, color='k')\n",
    "\n",
    "    plt.xlim((0,J.shape[0])); plt.ylim((J.shape[0],0))\n",
    "\n",
    "    cbar = fig.colorbar(cax, pad = 0.1)\n",
    "    cbar.ax.tick_params(labelsize=20)\n",
    "    cbar.set_label(r'$\\mathrm{Growth\\ rate\\ \\left(1/day\\right)}$', rotation=90, fontsize = 20)\n",
    "\n",
    "    plt.xticks(fontsize=20); plt.yticks(fontsize=20)\n",
    "    ax.xaxis.set_label_position('top')\n",
    "    X = plt.xlabel(r'Input level', fontsize = 20)\n",
    "    ax.xaxis.labelpad = 20\n",
    "    Y = plt.ylabel(r'Output level', fontsize = 20)\n",
    "    ax.yaxis.labelpad = 20\n",
    "\n",
    "    # fig.canvas.draw()\n",
    "    labelx = [item.get_text() for item in ax.get_xticklabels()]\n",
    "    # labelx[0] = '$\\mathrm{QV_{0hPa}}$'\n",
    "    # labelx[1] = '$\\mathrm{QV_{130hPa}}$'\n",
    "    # labelx[2] = '$\\mathrm{QV_{650hPa}}$'\n",
    "    # labelx[3] = '$\\mathrm{T_{0hPa}}$'\n",
    "    # labelx[4] = '$\\mathrm{T_{130hPa}}$'\n",
    "    # labelx[5] = '$\\mathrm{T_{650hPa}}$'\n",
    "    # labelx[6] = '$\\mathrm{T_{1000hPa}}$'\n",
    "    labelx[0] = '$\\mathrm{Q_{200hPa}}$'\n",
    "    labelx[1] = '$\\mathrm{Q_{500hPa}}$'\n",
    "    labelx[2] = '$\\mathrm{Q_{850hPa}}$'\n",
    "    labelx[3] = '$\\mathrm{Q_{967hPa}}$'\n",
    "    labelx[4] = '$\\mathrm{T_{350hPa}}$'\n",
    "    labelx[5] = '$\\mathrm{T_{730hPa}}$'\n",
    "    labelx[6] = '$\\mathrm{T_{925hPa}}$'\n",
    "    labely = [item.get_text() for item in ax.get_yticklabels()]\n",
    "    if plot_option=='RAD':\n",
    "    #     labely[0] = '$\\mathrm{LW_{0hPa}}$'\n",
    "    #     labely[1] = '$\\mathrm{LW_{130hPa}}$'\n",
    "    #     labely[2] = '$\\mathrm{LW_{650hPa}}$'\n",
    "    #     labely[3] = '$\\mathrm{SW_{0hPa}}$'\n",
    "    #     labely[4] = '$\\mathrm{SW_{130hPa}}$'\n",
    "    #     labely[5] = '$\\mathrm{SW_{650hPa}}$'\n",
    "    #     labely[6] = '$\\mathrm{SW_{1000hPa}}$'\n",
    "        labely[0] = '$\\mathrm{LW_{200hPa}}$'\n",
    "        labely[1] = '$\\mathrm{LW_{500hPa}}$'\n",
    "        labely[2] = '$\\mathrm{LW_{850hPa}}$'\n",
    "        labely[3] = '$\\mathrm{LW_{967hPa}}$'\n",
    "        labely[4] = '$\\mathrm{SW_{350hPa}}$'\n",
    "        labely[5] = '$\\mathrm{SW_{730hPa}}$'\n",
    "        labely[6] = '$\\mathrm{SW_{925hPa}}$'\n",
    "    elif plot_option=='CON':\n",
    "    #     labely[0] = '$\\mathrm{\\dot{QV}_{0hPa}}$'\n",
    "    #     labely[1] = '$\\mathrm{\\dot{QV}_{130hPa}}$'\n",
    "    #     labely[2] = '$\\mathrm{\\dot{QV}_{650hPa}}$'\n",
    "    #     labely[3] = '$\\mathrm{\\dot{T}_{0hPa}}$'\n",
    "    #     labely[4] = '$\\mathrm{\\dot{T}_{130hPa}}$'\n",
    "    #     labely[5] = '$\\mathrm{\\dot{T}_{650hPa}}$'\n",
    "    #     labely[6] = '$\\mathrm{\\dot{T}_{1000hPa}}$'\n",
    "        labely[0] = '$\\mathrm{\\dot{Q}_{200hPa}}$'\n",
    "        labely[1] = '$\\mathrm{\\dot{Q}_{500hPa}}$'\n",
    "        labely[2] = '$\\mathrm{\\dot{Q}_{850hPa}}$'\n",
    "        labely[3] = '$\\mathrm{\\dot{Q}_{967hPa}}$'\n",
    "        labely[4] = '$\\mathrm{\\dot{T}_{350hPa}}$'\n",
    "        labely[5] = '$\\mathrm{\\dot{T}_{730hPa}}$'\n",
    "        labely[6] = '$\\mathrm{\\dot{T}_{925hPa}}$'\n",
    "\n",
    "    ax.set_xticklabels(labelx)\n",
    "    ax.set_yticklabels(labely)\n",
    "\n",
    "    SSTplt = plt.axes([0.1, 0.05, 0.65, .15], facecolor='w')\n",
    "\n",
    "    #plt.figure(num=None, figsize=(20, 2), dpi=80, facecolor='w', edgecolor='k')\n",
    "    #plt.rc('text', usetex=True)\n",
    "    #plt.rc('font', family='serif')\n",
    "    SSTplt.plot(coor.lat,coor.TS.mean(axis=(0,2)),color='b',linewidth=lw)\n",
    "    SSTplt.tick_params(labelsize=15)\n",
    "    SSTplt.scatter(coor.lat[ilat],coor.TS.mean(axis=(0,2))[ilat],s=siz,color='b')\n",
    "    SSTplt.set_xlim((np.min(coor.lat),np.max(coor.lat)));\n",
    "    SSTplt.set_ylim((0.995*np.min(coor.TS.mean(axis=(0,2))),1.005*np.max(coor.TS.mean(axis=(0,2)))));\n",
    "    SSTplt.set_xlabel(r'$\\mathrm{Latitude\\ \\left(^{\\circ}\\right)}$', fontsize = 15)\n",
    "    #ax.xaxis.labelpad = 20\n",
    "    SSTplt.set_ylabel(r'$\\mathrm{SST\\ \\left(K\\right)}$', fontsize = 15)\n",
    "\n",
    "    return fig,ax"
   ]
  },
  {
   "cell_type": "code",
   "execution_count": 31,
   "metadata": {},
   "outputs": [
    {
     "data": {
      "text/plain": [
       "(<Figure size 720x720 with 3 Axes>,\n",
       " <matplotlib.axes._subplots.AxesSubplot at 0x14e9b81bca90>)"
      ]
     },
     "execution_count": 31,
     "metadata": {},
     "output_type": "execute_result"
    },
    {
     "data": {
      "text/plain": [
       "<Figure size 1600x1080 with 0 Axes>"
      ]
     },
     "metadata": {},
     "output_type": "display_data"
    },
    {
     "data": {
      "image/png": "[encoded data removed]",
      "text/plain": [
       "<Figure size 720x720 with 3 Axes>"
      ]
     },
     "metadata": {
      "needs_background": "light"
     },
     "output_type": "display_data"
    }
   ],
   "source": [
    "Jacobian_figurelat(np.mean(np.reshape(JRAD,(60,60,64,128)),axis=3),\\\n",
    "                   coor,ilat=35,plot_option='RAD',lw=2.5,siz=200,vmin=-0.2, vmax=0.2)"
   ]
  },
  {
   "cell_type": "code",
   "execution_count": 23,
   "metadata": {},
   "outputs": [
    {
     "data": {
      "text/plain": [
       "array([13, 14, 15, 16, 17, 18, 19, 20, 21, 22, 23, 24, 25, 26, 27, 28, 29,\n",
       "       43, 44, 45, 46, 47, 48, 49, 50, 51, 52, 53, 54, 55, 56, 57, 58, 59])"
      ]
     },
     "execution_count": 23,
     "metadata": {},
     "output_type": "execute_result"
    }
   ],
   "source": [
    "IND"
   ]
  },
  {
   "cell_type": "code",
   "execution_count": 25,
   "metadata": {},
   "outputs": [
    {
     "data": {
      "text/plain": [
       "(<Figure size 720x720 with 3 Axes>,\n",
       " <matplotlib.axes._subplots.AxesSubplot at 0x147cbd51b2e8>)"
      ]
     },
     "execution_count": 25,
     "metadata": {},
     "output_type": "execute_result"
    },
    {
     "data": {
      "text/plain": [
       "<Figure size 1600x1080 with 0 Axes>"
      ]
     },
     "metadata": {},
     "output_type": "display_data"
    },
    {
     "data": {
      "image/png": "[encoded data removed]",
      "text/plain": [
       "<Figure size 720x720 with 3 Axes>"
      ]
     },
     "metadata": {
      "needs_background": "light"
     },
     "output_type": "display_data"
    }
   ],
   "source": [
    "Jacobian_figurelat(JRAD,coor,ilat=30,plot_option='RAD',lw=2.5,siz=200,vmin=-3600*0.003, vmax=3600*0.003)"
   ]
  },
  {
   "cell_type": "code",
   "execution_count": 125,
   "metadata": {},
   "outputs": [
    {
     "name": "stdout",
     "output_type": "stream",
     "text": [
      "ilat= 63 / 63\r"
     ]
    }
   ],
   "source": [
    "for ilat in range(len(coor.lat)):\n",
    "    print('ilat=',ilat,'/',str(len(coor.lat)-1),end=\"\\r\")\n",
    "    Jacobian_figurelat(JCON,coor,ilat=ilat,plot_option='CON',lw=2.5,siz=200,vmin=-3600*0.003, vmax=3600*0.003)\n",
    "    plt.savefig('PNG_DATA/'+'CON'+str(ilat))\n",
    "    plt.close('all')"
   ]
  },
  {
   "cell_type": "markdown",
   "metadata": {},
   "source": [
    "tgb - 6/4/2019 - NE runs"
   ]
  },
  {
   "cell_type": "code",
   "execution_count": 12,
   "metadata": {},
   "outputs": [],
   "source": [
    "X, truth = md.valid_gen[itime]"
   ]
  },
  {
   "cell_type": "code",
   "execution_count": 19,
   "metadata": {},
   "outputs": [
    {
     "data": {
      "text/plain": [
       "256.0"
      ]
     },
     "execution_count": 19,
     "metadata": {},
     "output_type": "execute_result"
    }
   ],
   "source": [
    "np.floor(8192/32)"
   ]
  },
  {
   "cell_type": "code",
   "execution_count": 21,
   "metadata": {},
   "outputs": [
    {
     "data": {
      "text/plain": [
       "<xarray.DataArray 'vars' (sample: 256, var_names: 304)>\n",
       "array([[ 0.000252,  0.000241,  0.000174, ...,  0.117959, -0.003178, -0.059579],\n",
       "       [ 0.000252,  0.000242,  0.000174, ...,  0.118111, -0.002224, -0.058024],\n",
       "       [ 0.000252,  0.000242,  0.000173, ...,  0.118346, -0.001583, -0.056919],\n",
       "       ...,\n",
       "       [ 0.000254,  0.000244,  0.000169, ...,  0.072381, -0.009403, -0.055445],\n",
       "       [ 0.000255,  0.000244,  0.000169, ...,  0.072158, -0.009078, -0.053791],\n",
       "       [ 0.000255,  0.000245,  0.000169, ...,  0.072126, -0.010757, -0.05609 ]],\n",
       "      dtype=float32)\n",
       "Coordinates:\n",
       "  * var_names  (var_names) object 'QBP' 'QBP' 'QBP' ... 'SOLIN' 'SHFLX' 'LHFLX'\n",
       "    time       (sample) int64 ...\n",
       "    lat        (sample) float64 ...\n",
       "    lon        (sample) float64 ...\n",
       "Dimensions without coordinates: sample"
      ]
     },
     "execution_count": 21,
     "metadata": {},
     "output_type": "execute_result"
    }
   ],
   "source": [
    "ind = 0\n",
    "X[256*ind:256*(ind+1),:]"
   ]
  },
  {
   "cell_type": "code",
   "execution_count": 15,
   "metadata": {},
   "outputs": [
    {
     "name": "stdout",
     "output_type": "stream",
     "text": [
      "ind= 0 / 3210\r"
     ]
    },
    {
     "name": "stderr",
     "output_type": "stream",
     "text": [
      "/home/t/Tom.Beucler/miniconda3/lib/python3.6/site-packages/ipykernel_launcher.py:45: RuntimeWarning: divide by zero encountered in true_divide\n"
     ]
    },
    {
     "name": "stdout",
     "output_type": "stream",
     "text": [
      "(8192, 218, 304)\n",
      "(8192, 218, 304)\n",
      "ind= 8 / 3210\r"
     ]
    },
    {
     "ename": "KeyboardInterrupt",
     "evalue": "",
     "output_type": "error",
     "traceback": [
      "\u001b[0;31m---------------------------------------------------------------------------\u001b[0m",
      "\u001b[0;31mKeyboardInterrupt\u001b[0m                         Traceback (most recent call last)",
      "\u001b[0;32m<ipython-input-15-98ad9c4ffdb7>\u001b[0m in \u001b[0;36m<module>\u001b[0;34m\u001b[0m\n\u001b[1;32m      5\u001b[0m \u001b[0;32mfor\u001b[0m \u001b[0mit\u001b[0m \u001b[0;32min\u001b[0m \u001b[0mrange\u001b[0m\u001b[0;34m(\u001b[0m\u001b[0mNt\u001b[0m\u001b[0;34m)\u001b[0m\u001b[0;34m:\u001b[0m\u001b[0;34m\u001b[0m\u001b[0;34m\u001b[0m\u001b[0m\n\u001b[1;32m      6\u001b[0m     \u001b[0mprint\u001b[0m\u001b[0;34m(\u001b[0m\u001b[0;34m'itime='\u001b[0m\u001b[0;34m,\u001b[0m\u001b[0mit\u001b[0m\u001b[0;34m,\u001b[0m\u001b[0;34m'/'\u001b[0m\u001b[0;34m,\u001b[0m\u001b[0mNt\u001b[0m\u001b[0;34m,\u001b[0m\u001b[0mend\u001b[0m\u001b[0;34m=\u001b[0m\u001b[0;34m\"\\r\"\u001b[0m\u001b[0;34m)\u001b[0m\u001b[0;34m\u001b[0m\u001b[0;34m\u001b[0m\u001b[0m\n\u001b[0;32m----> 7\u001b[0;31m     \u001b[0mJCONa\u001b[0m\u001b[0;34m,\u001b[0m\u001b[0mJRADa\u001b[0m \u001b[0;34m=\u001b[0m \u001b[0mget_RADCONjacobian\u001b[0m\u001b[0;34m(\u001b[0m\u001b[0mNN\u001b[0m\u001b[0;34m,\u001b[0m\u001b[0mmd\u001b[0m\u001b[0;34m,\u001b[0m\u001b[0mit\u001b[0m\u001b[0;34m)\u001b[0m\u001b[0;34m\u001b[0m\u001b[0;34m\u001b[0m\u001b[0m\n\u001b[0m\u001b[1;32m      8\u001b[0m     \u001b[0mJCON\u001b[0m \u001b[0;34m=\u001b[0m \u001b[0mJCONa\u001b[0m\u001b[0;34m/\u001b[0m\u001b[0;34m(\u001b[0m\u001b[0mit\u001b[0m\u001b[0;34m+\u001b[0m\u001b[0;36m1\u001b[0m\u001b[0;34m)\u001b[0m\u001b[0;34m+\u001b[0m\u001b[0mit\u001b[0m\u001b[0;34m/\u001b[0m\u001b[0;34m(\u001b[0m\u001b[0mit\u001b[0m\u001b[0;34m+\u001b[0m\u001b[0;36m1\u001b[0m\u001b[0;34m)\u001b[0m\u001b[0;34m*\u001b[0m\u001b[0mJCON\u001b[0m\u001b[0;34m\u001b[0m\u001b[0;34m\u001b[0m\u001b[0m\n\u001b[1;32m      9\u001b[0m     \u001b[0mJRAD\u001b[0m \u001b[0;34m=\u001b[0m \u001b[0mJRADa\u001b[0m\u001b[0;34m/\u001b[0m\u001b[0;34m(\u001b[0m\u001b[0mit\u001b[0m\u001b[0;34m+\u001b[0m\u001b[0;36m1\u001b[0m\u001b[0;34m)\u001b[0m\u001b[0;34m+\u001b[0m\u001b[0mit\u001b[0m\u001b[0;34m/\u001b[0m\u001b[0;34m(\u001b[0m\u001b[0mit\u001b[0m\u001b[0;34m+\u001b[0m\u001b[0;36m1\u001b[0m\u001b[0;34m)\u001b[0m\u001b[0;34m*\u001b[0m\u001b[0mJRAD\u001b[0m\u001b[0;34m\u001b[0m\u001b[0;34m\u001b[0m\u001b[0m\n",
      "\u001b[0;32m<ipython-input-7-14fc8c2f8632>\u001b[0m in \u001b[0;36mget_RADCONjacobian\u001b[0;34m(model, md, itime)\u001b[0m\n\u001b[1;32m     43\u001b[0m         \u001b[0mJtmp\u001b[0m \u001b[0;34m=\u001b[0m \u001b[0mget_batch_jacobian\u001b[0m\u001b[0;34m(\u001b[0m\u001b[0mX\u001b[0m\u001b[0;34m[\u001b[0m\u001b[0msample\u001b[0m\u001b[0;34m,\u001b[0m\u001b[0;34m:\u001b[0m\u001b[0;34m]\u001b[0m\u001b[0;34m,\u001b[0m \u001b[0mmodel\u001b[0m\u001b[0;34m)\u001b[0m\u001b[0;34m*\u001b[0m\u001b[0;31m\\\u001b[0m\u001b[0;34m\u001b[0m\u001b[0;34m\u001b[0m\u001b[0m\n\u001b[1;32m     44\u001b[0m             \u001b[0mnp\u001b[0m\u001b[0;34m.\u001b[0m\u001b[0mtranspose\u001b[0m\u001b[0;34m(\u001b[0m\u001b[0mcf_oup\u001b[0m\u001b[0;34m/\u001b[0m\u001b[0mmd\u001b[0m\u001b[0;34m.\u001b[0m\u001b[0mvalid_gen\u001b[0m\u001b[0;34m.\u001b[0m\u001b[0moutput_transform\u001b[0m\u001b[0;34m.\u001b[0m\u001b[0mscale\u001b[0m\u001b[0;34m)\u001b[0m\u001b[0;31m\\\u001b[0m\u001b[0;34m\u001b[0m\u001b[0;34m\u001b[0m\u001b[0m\n\u001b[0;32m---> 45\u001b[0;31m             \u001b[0;34m/\u001b[0m\u001b[0;34m(\u001b[0m\u001b[0mcf\u001b[0m\u001b[0;34m*\u001b[0m\u001b[0mmd\u001b[0m\u001b[0;34m.\u001b[0m\u001b[0mvalid_gen\u001b[0m\u001b[0;34m.\u001b[0m\u001b[0minput_transform\u001b[0m\u001b[0;34m.\u001b[0m\u001b[0mdiv\u001b[0m\u001b[0;34m)\u001b[0m\u001b[0;34m\u001b[0m\u001b[0;34m\u001b[0m\u001b[0m\n\u001b[0m\u001b[1;32m     46\u001b[0m         \u001b[0;32mif\u001b[0m \u001b[0mind\u001b[0m\u001b[0;34m==\u001b[0m\u001b[0;36m0\u001b[0m\u001b[0;34m:\u001b[0m \u001b[0mJ\u001b[0m \u001b[0;34m=\u001b[0m \u001b[0mJtmp\u001b[0m\u001b[0;34m\u001b[0m\u001b[0;34m\u001b[0m\u001b[0m\n\u001b[1;32m     47\u001b[0m         \u001b[0;32melse\u001b[0m\u001b[0;34m:\u001b[0m \u001b[0mJ\u001b[0m \u001b[0;34m=\u001b[0m \u001b[0mnp\u001b[0m\u001b[0;34m.\u001b[0m\u001b[0mconcatenate\u001b[0m\u001b[0;34m(\u001b[0m\u001b[0;34m(\u001b[0m\u001b[0mJ\u001b[0m\u001b[0;34m,\u001b[0m\u001b[0mJtmp\u001b[0m\u001b[0;34m)\u001b[0m\u001b[0;34m,\u001b[0m\u001b[0maxis\u001b[0m\u001b[0;34m=\u001b[0m\u001b[0;36m0\u001b[0m\u001b[0;34m)\u001b[0m\u001b[0;34m\u001b[0m\u001b[0;34m\u001b[0m\u001b[0m\n",
      "\u001b[0;32m<ipython-input-6-9aea86169ada>\u001b[0m in \u001b[0;36mget_batch_jacobian\u001b[0;34m(x, model)\u001b[0m\n\u001b[1;32m      8\u001b[0m     \u001b[0msess\u001b[0m \u001b[0;34m=\u001b[0m \u001b[0mtf\u001b[0m\u001b[0;34m.\u001b[0m\u001b[0mkeras\u001b[0m\u001b[0;34m.\u001b[0m\u001b[0mbackend\u001b[0m\u001b[0;34m.\u001b[0m\u001b[0mget_session\u001b[0m\u001b[0;34m(\u001b[0m\u001b[0;34m)\u001b[0m\u001b[0;34m\u001b[0m\u001b[0;34m\u001b[0m\u001b[0m\n\u001b[1;32m      9\u001b[0m     \u001b[0mjac\u001b[0m \u001b[0;34m=\u001b[0m \u001b[0mbatch_jacobian\u001b[0m\u001b[0;34m(\u001b[0m\u001b[0mmodel\u001b[0m\u001b[0;34m.\u001b[0m\u001b[0moutput\u001b[0m\u001b[0;34m,\u001b[0m \u001b[0mmodel\u001b[0m\u001b[0;34m.\u001b[0m\u001b[0minput\u001b[0m\u001b[0;34m)\u001b[0m\u001b[0;34m\u001b[0m\u001b[0;34m\u001b[0m\u001b[0m\n\u001b[0;32m---> 10\u001b[0;31m     \u001b[0mJ\u001b[0m \u001b[0;34m=\u001b[0m \u001b[0msess\u001b[0m\u001b[0;34m.\u001b[0m\u001b[0mrun\u001b[0m\u001b[0;34m(\u001b[0m\u001b[0mjac\u001b[0m\u001b[0;34m,\u001b[0m \u001b[0mfeed_dict\u001b[0m\u001b[0;34m=\u001b[0m\u001b[0;34m{\u001b[0m\u001b[0mmodel\u001b[0m\u001b[0;34m.\u001b[0m\u001b[0minput\u001b[0m\u001b[0;34m:\u001b[0m \u001b[0mx\u001b[0m\u001b[0;34m.\u001b[0m\u001b[0mastype\u001b[0m\u001b[0;34m(\u001b[0m\u001b[0mnp\u001b[0m\u001b[0;34m.\u001b[0m\u001b[0mfloat32\u001b[0m\u001b[0;34m)\u001b[0m\u001b[0;34m}\u001b[0m\u001b[0;34m)\u001b[0m\u001b[0;34m\u001b[0m\u001b[0;34m\u001b[0m\u001b[0m\n\u001b[0m\u001b[1;32m     11\u001b[0m     \u001b[0;32mreturn\u001b[0m \u001b[0mJ\u001b[0m\u001b[0;34m.\u001b[0m\u001b[0msqueeze\u001b[0m\u001b[0;34m(\u001b[0m\u001b[0;34m)\u001b[0m\u001b[0;34m\u001b[0m\u001b[0;34m\u001b[0m\u001b[0m\n",
      "\u001b[0;32m~/miniconda3/lib/python3.6/site-packages/tensorflow/python/client/session.py\u001b[0m in \u001b[0;36mrun\u001b[0;34m(self, fetches, feed_dict, options, run_metadata)\u001b[0m\n\u001b[1;32m    927\u001b[0m     \u001b[0;32mtry\u001b[0m\u001b[0;34m:\u001b[0m\u001b[0;34m\u001b[0m\u001b[0;34m\u001b[0m\u001b[0m\n\u001b[1;32m    928\u001b[0m       result = self._run(None, fetches, feed_dict, options_ptr,\n\u001b[0;32m--> 929\u001b[0;31m                          run_metadata_ptr)\n\u001b[0m\u001b[1;32m    930\u001b[0m       \u001b[0;32mif\u001b[0m \u001b[0mrun_metadata\u001b[0m\u001b[0;34m:\u001b[0m\u001b[0;34m\u001b[0m\u001b[0;34m\u001b[0m\u001b[0m\n\u001b[1;32m    931\u001b[0m         \u001b[0mproto_data\u001b[0m \u001b[0;34m=\u001b[0m \u001b[0mtf_session\u001b[0m\u001b[0;34m.\u001b[0m\u001b[0mTF_GetBuffer\u001b[0m\u001b[0;34m(\u001b[0m\u001b[0mrun_metadata_ptr\u001b[0m\u001b[0;34m)\u001b[0m\u001b[0;34m\u001b[0m\u001b[0;34m\u001b[0m\u001b[0m\n",
      "\u001b[0;32m~/miniconda3/lib/python3.6/site-packages/tensorflow/python/client/session.py\u001b[0m in \u001b[0;36m_run\u001b[0;34m(self, handle, fetches, feed_dict, options, run_metadata)\u001b[0m\n\u001b[1;32m   1150\u001b[0m     \u001b[0;32mif\u001b[0m \u001b[0mfinal_fetches\u001b[0m \u001b[0;32mor\u001b[0m \u001b[0mfinal_targets\u001b[0m \u001b[0;32mor\u001b[0m \u001b[0;34m(\u001b[0m\u001b[0mhandle\u001b[0m \u001b[0;32mand\u001b[0m \u001b[0mfeed_dict_tensor\u001b[0m\u001b[0;34m)\u001b[0m\u001b[0;34m:\u001b[0m\u001b[0;34m\u001b[0m\u001b[0;34m\u001b[0m\u001b[0m\n\u001b[1;32m   1151\u001b[0m       results = self._do_run(handle, final_targets, final_fetches,\n\u001b[0;32m-> 1152\u001b[0;31m                              feed_dict_tensor, options, run_metadata)\n\u001b[0m\u001b[1;32m   1153\u001b[0m     \u001b[0;32melse\u001b[0m\u001b[0;34m:\u001b[0m\u001b[0;34m\u001b[0m\u001b[0;34m\u001b[0m\u001b[0m\n\u001b[1;32m   1154\u001b[0m       \u001b[0mresults\u001b[0m \u001b[0;34m=\u001b[0m \u001b[0;34m[\u001b[0m\u001b[0;34m]\u001b[0m\u001b[0;34m\u001b[0m\u001b[0;34m\u001b[0m\u001b[0m\n",
      "\u001b[0;32m~/miniconda3/lib/python3.6/site-packages/tensorflow/python/client/session.py\u001b[0m in \u001b[0;36m_do_run\u001b[0;34m(self, handle, target_list, fetch_list, feed_dict, options, run_metadata)\u001b[0m\n\u001b[1;32m   1326\u001b[0m     \u001b[0;32mif\u001b[0m \u001b[0mhandle\u001b[0m \u001b[0;32mis\u001b[0m \u001b[0;32mNone\u001b[0m\u001b[0;34m:\u001b[0m\u001b[0;34m\u001b[0m\u001b[0;34m\u001b[0m\u001b[0m\n\u001b[1;32m   1327\u001b[0m       return self._do_call(_run_fn, feeds, fetches, targets, options,\n\u001b[0;32m-> 1328\u001b[0;31m                            run_metadata)\n\u001b[0m\u001b[1;32m   1329\u001b[0m     \u001b[0;32melse\u001b[0m\u001b[0;34m:\u001b[0m\u001b[0;34m\u001b[0m\u001b[0;34m\u001b[0m\u001b[0m\n\u001b[1;32m   1330\u001b[0m       \u001b[0;32mreturn\u001b[0m \u001b[0mself\u001b[0m\u001b[0;34m.\u001b[0m\u001b[0m_do_call\u001b[0m\u001b[0;34m(\u001b[0m\u001b[0m_prun_fn\u001b[0m\u001b[0;34m,\u001b[0m \u001b[0mhandle\u001b[0m\u001b[0;34m,\u001b[0m \u001b[0mfeeds\u001b[0m\u001b[0;34m,\u001b[0m \u001b[0mfetches\u001b[0m\u001b[0;34m)\u001b[0m\u001b[0;34m\u001b[0m\u001b[0;34m\u001b[0m\u001b[0m\n",
      "\u001b[0;32m~/miniconda3/lib/python3.6/site-packages/tensorflow/python/client/session.py\u001b[0m in \u001b[0;36m_do_call\u001b[0;34m(self, fn, *args)\u001b[0m\n\u001b[1;32m   1332\u001b[0m   \u001b[0;32mdef\u001b[0m \u001b[0m_do_call\u001b[0m\u001b[0;34m(\u001b[0m\u001b[0mself\u001b[0m\u001b[0;34m,\u001b[0m \u001b[0mfn\u001b[0m\u001b[0;34m,\u001b[0m \u001b[0;34m*\u001b[0m\u001b[0margs\u001b[0m\u001b[0;34m)\u001b[0m\u001b[0;34m:\u001b[0m\u001b[0;34m\u001b[0m\u001b[0;34m\u001b[0m\u001b[0m\n\u001b[1;32m   1333\u001b[0m     \u001b[0;32mtry\u001b[0m\u001b[0;34m:\u001b[0m\u001b[0;34m\u001b[0m\u001b[0;34m\u001b[0m\u001b[0m\n\u001b[0;32m-> 1334\u001b[0;31m       \u001b[0;32mreturn\u001b[0m \u001b[0mfn\u001b[0m\u001b[0;34m(\u001b[0m\u001b[0;34m*\u001b[0m\u001b[0margs\u001b[0m\u001b[0;34m)\u001b[0m\u001b[0;34m\u001b[0m\u001b[0;34m\u001b[0m\u001b[0m\n\u001b[0m\u001b[1;32m   1335\u001b[0m     \u001b[0;32mexcept\u001b[0m \u001b[0merrors\u001b[0m\u001b[0;34m.\u001b[0m\u001b[0mOpError\u001b[0m \u001b[0;32mas\u001b[0m \u001b[0me\u001b[0m\u001b[0;34m:\u001b[0m\u001b[0;34m\u001b[0m\u001b[0;34m\u001b[0m\u001b[0m\n\u001b[1;32m   1336\u001b[0m       \u001b[0mmessage\u001b[0m \u001b[0;34m=\u001b[0m \u001b[0mcompat\u001b[0m\u001b[0;34m.\u001b[0m\u001b[0mas_text\u001b[0m\u001b[0;34m(\u001b[0m\u001b[0me\u001b[0m\u001b[0;34m.\u001b[0m\u001b[0mmessage\u001b[0m\u001b[0;34m)\u001b[0m\u001b[0;34m\u001b[0m\u001b[0;34m\u001b[0m\u001b[0m\n",
      "\u001b[0;32m~/miniconda3/lib/python3.6/site-packages/tensorflow/python/client/session.py\u001b[0m in \u001b[0;36m_run_fn\u001b[0;34m(feed_dict, fetch_list, target_list, options, run_metadata)\u001b[0m\n\u001b[1;32m   1315\u001b[0m     \u001b[0;32mdef\u001b[0m \u001b[0m_run_fn\u001b[0m\u001b[0;34m(\u001b[0m\u001b[0mfeed_dict\u001b[0m\u001b[0;34m,\u001b[0m \u001b[0mfetch_list\u001b[0m\u001b[0;34m,\u001b[0m \u001b[0mtarget_list\u001b[0m\u001b[0;34m,\u001b[0m \u001b[0moptions\u001b[0m\u001b[0;34m,\u001b[0m \u001b[0mrun_metadata\u001b[0m\u001b[0;34m)\u001b[0m\u001b[0;34m:\u001b[0m\u001b[0;34m\u001b[0m\u001b[0;34m\u001b[0m\u001b[0m\n\u001b[1;32m   1316\u001b[0m       \u001b[0;31m# Ensure any changes to the graph are reflected in the runtime.\u001b[0m\u001b[0;34m\u001b[0m\u001b[0;34m\u001b[0m\u001b[0;34m\u001b[0m\u001b[0m\n\u001b[0;32m-> 1317\u001b[0;31m       \u001b[0mself\u001b[0m\u001b[0;34m.\u001b[0m\u001b[0m_extend_graph\u001b[0m\u001b[0;34m(\u001b[0m\u001b[0;34m)\u001b[0m\u001b[0;34m\u001b[0m\u001b[0;34m\u001b[0m\u001b[0m\n\u001b[0m\u001b[1;32m   1318\u001b[0m       return self._call_tf_sessionrun(\n\u001b[1;32m   1319\u001b[0m           options, feed_dict, fetch_list, target_list, run_metadata)\n",
      "\u001b[0;32m~/miniconda3/lib/python3.6/site-packages/tensorflow/python/client/session.py\u001b[0m in \u001b[0;36m_extend_graph\u001b[0;34m(self)\u001b[0m\n\u001b[1;32m   1350\u001b[0m   \u001b[0;32mdef\u001b[0m \u001b[0m_extend_graph\u001b[0m\u001b[0;34m(\u001b[0m\u001b[0mself\u001b[0m\u001b[0;34m)\u001b[0m\u001b[0;34m:\u001b[0m\u001b[0;34m\u001b[0m\u001b[0;34m\u001b[0m\u001b[0m\n\u001b[1;32m   1351\u001b[0m     \u001b[0;32mwith\u001b[0m \u001b[0mself\u001b[0m\u001b[0;34m.\u001b[0m\u001b[0m_graph\u001b[0m\u001b[0;34m.\u001b[0m\u001b[0m_session_run_lock\u001b[0m\u001b[0;34m(\u001b[0m\u001b[0;34m)\u001b[0m\u001b[0;34m:\u001b[0m  \u001b[0;31m# pylint: disable=protected-access\u001b[0m\u001b[0;34m\u001b[0m\u001b[0;34m\u001b[0m\u001b[0m\n\u001b[0;32m-> 1352\u001b[0;31m       \u001b[0mtf_session\u001b[0m\u001b[0;34m.\u001b[0m\u001b[0mExtendSession\u001b[0m\u001b[0;34m(\u001b[0m\u001b[0mself\u001b[0m\u001b[0;34m.\u001b[0m\u001b[0m_session\u001b[0m\u001b[0;34m)\u001b[0m\u001b[0;34m\u001b[0m\u001b[0;34m\u001b[0m\u001b[0m\n\u001b[0m\u001b[1;32m   1353\u001b[0m \u001b[0;34m\u001b[0m\u001b[0m\n\u001b[1;32m   1354\u001b[0m   \u001b[0;31m# The threshold to run garbage collection to delete dead tensors.\u001b[0m\u001b[0;34m\u001b[0m\u001b[0;34m\u001b[0m\u001b[0;34m\u001b[0m\u001b[0m\n",
      "\u001b[0;31mKeyboardInterrupt\u001b[0m: "
     ]
    }
   ],
   "source": [
    "Nt = 10\n",
    "JCON = np.zeros((60,60,8192))\n",
    "JRAD = np.zeros((60,60,8192))\n",
    "\n",
    "for it in range(Nt):\n",
    "    print('itime=',it,'/',Nt,end=\"\\r\")\n",
    "    JCONa,JRADa = get_RADCONjacobian(NN,md,it)\n",
    "    JCON = JCONa/(it+1)+it/(it+1)*JCON\n",
    "    JRAD = JRADa/(it+1)+it/(it+1)*JRAD"
   ]
  },
  {
   "cell_type": "code",
   "execution_count": 17,
   "metadata": {},
   "outputs": [
    {
     "name": "stdout",
     "output_type": "stream",
     "text": [
      "ilat= 63 / 63\r"
     ]
    }
   ],
   "source": [
    "for ilat in range(len(coor.lat)):\n",
    "    print('ilat=',ilat,'/',str(len(coor.lat)-1),end=\"\\r\")\n",
    "    Jacobian_figurelat(np.mean(np.reshape(JCON,(60,60,64,128)),axis=3),\\\n",
    "                   coor,ilat=ilat,plot_option='CON',lw=2.5,siz=200,vmin=-0.2, vmax=0.2)\n",
    "    plt.savefig('PNG_DATA/'+'CON'+str(ilat))\n",
    "    Jacobian_figurelat(np.mean(np.reshape(JRAD,(60,60,64,128)),axis=3),\\\n",
    "                   coor,ilat=ilat,plot_option='RAD',lw=2.5,siz=200,vmin=-0.2, vmax=0.2)\n",
    "    plt.savefig('PNG_DATA/'+'RAD'+str(ilat))\n",
    "    plt.close('all')"
   ]
  },
  {
   "cell_type": "code",
   "execution_count": 10,
   "metadata": {},
   "outputs": [],
   "source": [
    "def Jacobian_figure(J,plot_option):\n",
    "# minlev = 200; # Minimum level [hPa]\n",
    "    plt.rc('text', usetex=True)\n",
    "    plt.rc('font', family='serif')\n",
    "    plt.figure(num=None, figsize=(20, 13.5), dpi=80, facecolor='w', edgecolor='k')\n",
    "\n",
    "    fig, ax = plt.subplots(figsize=(10,10))\n",
    "    # Extract the Jacobian from level minlev to the surface (index 30 here)\n",
    "    # PS = 1e5; P0 = 1e5;\n",
    "    # P = P0*hyai+PS*hybi; # Total pressure [Pa]\n",
    "    # minind = np.argmin(abs(P-minlev*1e2));\n",
    "    # IND = np.concatenate((np.arange(minind,30),np.arange(30+minind,60)),axis=0)\n",
    "    J = J[IND,:]; J = J[:,IND];\n",
    "    cax = ax.matshow(3600*J, vmin=-3600*0.003, vmax=3600*0.003, cmap='bwr')\n",
    "\n",
    "    x = np.linspace(0.,60.,100);\n",
    "    plt.plot(x,J.shape[0]/2*x**0, color='k')\n",
    "    plt.plot(J.shape[0]/2*x**0,x, color='k')\n",
    "\n",
    "    plt.xlim((0,J.shape[0])); plt.ylim((J.shape[0],0))\n",
    "\n",
    "    cbar = fig.colorbar(cax, pad = 0.1)\n",
    "    cbar.ax.tick_params(labelsize=20)\n",
    "    cbar.set_label(r'$\\mathrm{Growth\\ rate\\ \\left(1/hour\\right)}$', rotation=90, fontsize = 20)\n",
    "\n",
    "    plt.xticks(fontsize=20); plt.yticks(fontsize=20)\n",
    "    ax.xaxis.set_label_position('top')\n",
    "    X = plt.xlabel(r'Input level', fontsize = 20)\n",
    "    ax.xaxis.labelpad = 20\n",
    "    Y = plt.ylabel(r'Output level', fontsize = 20)\n",
    "    ax.yaxis.labelpad = 20\n",
    "\n",
    "    # fig.canvas.draw()\n",
    "    labelx = [item.get_text() for item in ax.get_xticklabels()]\n",
    "    # labelx[0] = '$\\mathrm{QV_{0hPa}}$'\n",
    "    # labelx[1] = '$\\mathrm{QV_{130hPa}}$'\n",
    "    # labelx[2] = '$\\mathrm{QV_{650hPa}}$'\n",
    "    # labelx[3] = '$\\mathrm{T_{0hPa}}$'\n",
    "    # labelx[4] = '$\\mathrm{T_{130hPa}}$'\n",
    "    # labelx[5] = '$\\mathrm{T_{650hPa}}$'\n",
    "    # labelx[6] = '$\\mathrm{T_{1000hPa}}$'\n",
    "    labelx[0] = '$\\mathrm{Q_{200hPa}}$'\n",
    "    labelx[1] = '$\\mathrm{Q_{500hPa}}$'\n",
    "    labelx[2] = '$\\mathrm{Q_{850hPa}}$'\n",
    "    labelx[3] = '$\\mathrm{Q_{967hPa}}$'\n",
    "    labelx[4] = '$\\mathrm{T_{350hPa}}$'\n",
    "    labelx[5] = '$\\mathrm{T_{730hPa}}$'\n",
    "    labelx[6] = '$\\mathrm{T_{925hPa}}$'\n",
    "    labely = [item.get_text() for item in ax.get_yticklabels()]\n",
    "    if plot_option=='RAD':\n",
    "    #     labely[0] = '$\\mathrm{LW_{0hPa}}$'\n",
    "    #     labely[1] = '$\\mathrm{LW_{130hPa}}$'\n",
    "    #     labely[2] = '$\\mathrm{LW_{650hPa}}$'\n",
    "    #     labely[3] = '$\\mathrm{SW_{0hPa}}$'\n",
    "    #     labely[4] = '$\\mathrm{SW_{130hPa}}$'\n",
    "    #     labely[5] = '$\\mathrm{SW_{650hPa}}$'\n",
    "    #     labely[6] = '$\\mathrm{SW_{1000hPa}}$'\n",
    "        labely[0] = '$\\mathrm{LW_{200hPa}}$'\n",
    "        labely[1] = '$\\mathrm{LW_{500hPa}}$'\n",
    "        labely[2] = '$\\mathrm{LW_{850hPa}}$'\n",
    "        labely[3] = '$\\mathrm{LW_{967hPa}}$'\n",
    "        labely[4] = '$\\mathrm{SW_{350hPa}}$'\n",
    "        labely[5] = '$\\mathrm{SW_{730hPa}}$'\n",
    "        labely[6] = '$\\mathrm{SW_{925hPa}}$'\n",
    "    elif plot_option=='CON':\n",
    "    #     labely[0] = '$\\mathrm{\\dot{QV}_{0hPa}}$'\n",
    "    #     labely[1] = '$\\mathrm{\\dot{QV}_{130hPa}}$'\n",
    "    #     labely[2] = '$\\mathrm{\\dot{QV}_{650hPa}}$'\n",
    "    #     labely[3] = '$\\mathrm{\\dot{T}_{0hPa}}$'\n",
    "    #     labely[4] = '$\\mathrm{\\dot{T}_{130hPa}}$'\n",
    "    #     labely[5] = '$\\mathrm{\\dot{T}_{650hPa}}$'\n",
    "    #     labely[6] = '$\\mathrm{\\dot{T}_{1000hPa}}$'\n",
    "        labely[0] = '$\\mathrm{\\dot{Q}_{200hPa}}$'\n",
    "        labely[1] = '$\\mathrm{\\dot{Q}_{500hPa}}$'\n",
    "        labely[2] = '$\\mathrm{\\dot{Q}_{850hPa}}$'\n",
    "        labely[3] = '$\\mathrm{\\dot{Q}_{967hPa}}$'\n",
    "        labely[4] = '$\\mathrm{\\dot{T}_{350hPa}}$'\n",
    "        labely[5] = '$\\mathrm{\\dot{T}_{730hPa}}$'\n",
    "        labely[6] = '$\\mathrm{\\dot{T}_{925hPa}}$'\n",
    "\n",
    "    ax.set_xticklabels(labelx)\n",
    "    ax.set_yticklabels(labely)\n",
    "    \n",
    "    return fig,ax"
   ]
  },
  {
   "cell_type": "code",
   "execution_count": null,
   "metadata": {},
   "outputs": [],
   "source": []
  }
 ],
 "metadata": {
  "kernelspec": {
   "display_name": "Python 3",
   "language": "python",
   "name": "python3"
  },
  "language_info": {
   "codemirror_mode": {
    "name": "ipython",
    "version": 3
   },
   "file_extension": ".py",
   "mimetype": "text/x-python",
   "name": "python",
   "nbconvert_exporter": "python",
   "pygments_lexer": "ipython3",
   "version": "3.7.3"
  }
 },
 "nbformat": 4,
 "nbformat_minor": 2
}
