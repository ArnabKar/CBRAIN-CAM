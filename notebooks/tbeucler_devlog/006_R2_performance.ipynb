{
 "cells": [
  {
   "cell_type": "markdown",
   "metadata": {},
   "source": [
    "tgb - 2/22/2019 - The goal is to reproduce the R2 scores plots from the original GRL paper about NNCAM\n",
    "Here, I am mostly following https://github.com/raspstephan/CBRAIN-CAM/blob/master/notebooks/presentation/grl_paper.ipynb and the networks are defined and trained in https://github.com/tbeucler/CBRAIN-CAM/blob/master/notebooks/tbeucler_devlog/005_Predicting_convective_and_radiative_heating_profiles.ipynb"
   ]
  },
  {
   "cell_type": "markdown",
   "metadata": {},
   "source": [
    "# 1) Load the neural networks"
   ]
  },
  {
   "cell_type": "markdown",
   "metadata": {},
   "source": [
    "## 1.1) Import modules"
   ]
  },
  {
   "cell_type": "code",
   "execution_count": 1,
   "metadata": {},
   "outputs": [
    {
     "name": "stderr",
     "output_type": "stream",
     "text": [
      "/home/t/Tom.Beucler/miniconda3/lib/python3.6/importlib/_bootstrap.py:219: RuntimeWarning: compiletime version 3.5 of module 'tensorflow.python.framework.fast_tensor_util' does not match runtime version 3.6\n",
      "  return f(*args, **kwds)\n"
     ]
    },
    {
     "name": "stdout",
     "output_type": "stream",
     "text": [
      "/filer/z-sv-pool12c/t/Tom.Beucler/SPCAM/CBRAIN-CAM\n"
     ]
    }
   ],
   "source": [
    "#!ln -s /filer/z-sv-pool12c/t/Tom.Beucler/SPCAM/CBRAIN-CAM/cbrain \\\n",
    "#/filer/z-sv-pool12c/t/Tom.Beucler/SPCAM/CBRAIN-CAM/notebooks/tbeucler_devlog/cbrain\n",
    "from cbrain.imports import *\n",
    "from cbrain.data_generator import *\n",
    "from cbrain.models import *\n",
    "from cbrain.losses import *\n",
    "from cbrain.utils import limit_mem\n",
    "import tensorflow as tf\n",
    "import tensorflow.math as tfm\n",
    "from tensorflow.keras.layers import *\n",
    "from tensorflow.keras.models import *\n",
    "import xarray as xr\n",
    "import numpy as np\n",
    "# Otherwise tensorflow will use ALL your GPU RAM for no reason\n",
    "limit_mem()\n",
    "TRAINDIR = '/local/Tom.Beucler/SPCAM_PHYS/'\n",
    "DATADIR = '/project/meteo/w2w/A6/S.Rasp/SP-CAM/sp32fbp_andkua/'\n",
    "PREFIX = '32_col_rad_12m_'\n",
    "%cd /filer/z-sv-pool12c/t/Tom.Beucler/SPCAM/CBRAIN-CAM"
   ]
  },
  {
   "cell_type": "markdown",
   "metadata": {},
   "source": [
    "## 1.2) Directly load conserving and unconstrained networks"
   ]
  },
  {
   "cell_type": "code",
   "execution_count": 2,
   "metadata": {},
   "outputs": [
    {
     "name": "stdout",
     "output_type": "stream",
     "text": [
      "/data/Tom.Beucler/SPCAM_PHYS/HDF5_DATA\n",
      "/data/Tom.Beucler/SPCAM_PHYS/HDF5_DATA\r\n"
     ]
    }
   ],
   "source": [
    "%cd $TRAINDIR/HDF5_DATA\n",
    "!pwd\n",
    "C_rad_5dens = load_model('C_rad_5dens.h5')\n",
    "U_rad_5dens = load_model('U_rad_5dens.h5')"
   ]
  },
  {
   "cell_type": "markdown",
   "metadata": {},
   "source": [
    "## 1.3) Define the weakly-constrained models then load weights\n",
    "tgb - 2/22/2019 - The custom loss function did not save properly so I am redefining the custom loss function, the model and then loading the weights of the trained networks."
   ]
  },
  {
   "cell_type": "markdown",
   "metadata": {},
   "source": [
    "### 1.3.1) Define custom loss function"
   ]
  },
  {
   "cell_type": "code",
   "execution_count": 4,
   "metadata": {},
   "outputs": [],
   "source": [
    "def customLoss(input_tensor,fsub,fdiv,normq,hyai,hybi,alpha = 0.5):\n",
    "\n",
    "        # tgb - 2/5/2019 - Loss function written above\n",
    "    def lossFunction(y_true,y_pred):    \n",
    "        loss = tfm.multiply(alpha, mse(y_true, y_pred))\n",
    "        loss += tfm.multiply(tfm.subtract(1.0,alpha), \\\n",
    "                            massent_res(input_tensor,y_pred,fsub,fdiv,normq,hyai,hybi))\n",
    "        return loss\n",
    "\n",
    "    # tgb - 2/5/2019 - Mass and enthalpy residual function\n",
    "    # Adapted from massent_check by converting numpy to tensorflow\n",
    "    def massent_res(x,y,fsub,fdiv,normq,hyai,hybi):\n",
    "\n",
    "        # 0) Constants\n",
    "        G = 9.80616; # Reference gravity constant [m.s-2]\n",
    "        L_F = 3.337e5; # Latent heat of fusion of water [W.kg-1]\n",
    "        L_V = 2.501e6; # Latent heat of vaporization of water [W.kg-1]\n",
    "        L_S = L_F+L_V; # Latent heat of sublimation of water [W.kg-1]\n",
    "        P0 = 1e5; # Reference surface pressure [Pa]   \n",
    "\n",
    "        # WATER&ENTHALPY) Get non-dimensional pressure differences (p_tilde above)\n",
    "        # In the input vector, PS is the 151st element after \n",
    "        # the first elements = [QBP, ..., VBP with shape 30*5=150]\n",
    "        PS = tfm.add( tfm.multiply( x[:,300], fdiv[300]), fsub[300])\n",
    "        # Reference for calculation of d_pressure is cbrain/models.py (e.g. QLayer)\n",
    "        P = tfm.add( tfm.multiply( P0, hyai), \\\n",
    "        tfm.multiply( PS[:,None], hybi))\n",
    "        dP = tfm.subtract( P[:, 1:], P[:, :-1])\n",
    "        # norm_output = dp_norm * L_V/G so dp_norm = norm_output * G/L_V\n",
    "        dP_NORM = tfm.divide( \\\n",
    "        tfm.multiply(normq[:30], \\\n",
    "                  G),\\\n",
    "        L_V)\n",
    "        # dp_tilde = dp/dp_norm\n",
    "        dP_TILD = tfm.divide( dP, dP_NORM)\n",
    "\n",
    "        # WATER.1) Calculate water vertical integral from level 1 to level 30\n",
    "        WATVEC = tfm.multiply( dP_TILD, tfm.add(tfm.add(y[:, :30],\\\n",
    "                                                        y[:, 30:60]),\\\n",
    "                                                y[:, 60:90]))\n",
    "        WATINT = tfm.reduce_sum( WATVEC, axis=1)\n",
    "\n",
    "        # WATER.2) Calculate forcing on the right-hand side (Net Evaporation-Precipitation)\n",
    "        # E-P is already normalized to units W.m-2 in the output vector\n",
    "        # so all we need to do is input-unnormalize LHF that is taken from the input vector\n",
    "        LHF = tfm.add( tfm.multiply( x[:,303], fdiv[303]), fsub[303])\n",
    "        # Note that total precipitation = PRECT + 1e-3*PRECTEND in the CAM model\n",
    "        # PRECTEND already multiplied by 1e-3 in output vector so no need to redo it\n",
    "        PREC = tfm.add( y[:, 214], y[:, 215])\n",
    "\n",
    "        # WATER.FINAL) Residual = E-P-DWATER/DT\n",
    "        WATRES = tfm.add(tfm.add(LHF,\\\n",
    "                                 tfm.negative(PREC)),\\\n",
    "                         tfm.negative(WATINT))\n",
    "\n",
    "        # ENTHALPY.1) Calculate net energy input from phase change and precipitation\n",
    "        # PHAS = Lf/Lv*((PRECST+PRECSTEN)-(PRECT+PRECTEND))\n",
    "        PHAS = tfm.divide( tfm.multiply( tfm.subtract(\\\n",
    "                                              tfm.add( y[:,216], y[:,217]),\\\n",
    "                                              tfm.add( y[:,214], y[:,215])),\\\n",
    "                                      L_F),\\\n",
    "                         L_V)\n",
    "\n",
    "        # ENTHALPY.2) Calculate net energy input from radiation, sensible heat flux and turbulent KE\n",
    "        # 2.1) RAD = FSNT-FSNS-FLNT+FLNS\n",
    "        RAD = tfm.add(\\\n",
    "                      tfm.subtract( y[:,210], y[:,211]),\\\n",
    "                      tfm.subtract( y[:,213], y[:,212]))\n",
    "        # 2.2) Unnormalize sensible heat flux\n",
    "        SHF = tfm.add( tfm.multiply( x[:,302], fdiv[302]), fsub[302])\n",
    "        # 2.3) Net turbulent kinetic energy dissipative heating is the column-integrated \n",
    "        # turbulent kinetic energy energy dissipative heating\n",
    "        KEDVEC = tfm.multiply( dP_TILD, y[:, 120:150])\n",
    "        KEDINT = tfm.reduce_sum( KEDVEC, axis=1)\n",
    "\n",
    "        # ENTHALPY.3) Calculate tendency of normalized column water vapor due to phase change\n",
    "        # 3.1) Column water vapor is the column integral of specific humidity\n",
    "        PHQVEC = tfm.multiply( dP_TILD, y[:, :30])\n",
    "        PHQINT = tfm.reduce_sum( PHQVEC, axis=1)\n",
    "        # 3.2) Multiply by L_S/L_V to normalize (explanation above)\n",
    "        SPDQINT = tfm.divide( tfm.multiply( tfm.subtract(\\\n",
    "                                                     PHQINT, LHF),\\\n",
    "                                        L_S),\\\n",
    "                           L_V)\n",
    "\n",
    "        # ENTHALPY.4) Same operation for liquid water tendency but multiplied by L_F/L_V\n",
    "        SPDQCINT = tfm.divide( tfm.multiply(\\\n",
    "                                      tfm.reduce_sum(\\\n",
    "                                             tfm.multiply( dP_TILD, y[:, 30:60]),\\\n",
    "                                             axis=1),\\\n",
    "                                      L_F),\\\n",
    "                         L_V)\n",
    "\n",
    "        # ENTHALPY.5) Same operation for temperature tendency\n",
    "        DTINT = tfm.reduce_sum( tfm.multiply( dP_TILD[:, :30], y[:, 90:120]), axis=1)\n",
    "\n",
    "        # ENTHALPY.FINAL) Residual = SPDQ+SPDQC+DTINT-RAD-SHF-PHAS\n",
    "        ENTRES = tfm.add(tfm.add(tfm.add(tfm.add(tfm.add(tfm.add(SPDQINT,\\\n",
    "                                                                 SPDQCINT),\\\n",
    "                                                         DTINT),\\\n",
    "                                                 tfm.negative(RAD)),\\\n",
    "                                         tfm.negative(SHF)),\\\n",
    "                                 tfm.negative(PHAS)),\\\n",
    "                         tfm.negative(KEDINT))\n",
    "        # Return sum of water and enthalpy square residuals\n",
    "        return tfm.add( tfm.square(WATRES), tfm.square(ENTRES))\n",
    "\n",
    "    return lossFunction"
   ]
  },
  {
   "cell_type": "markdown",
   "metadata": {},
   "source": [
    "### 1.3.2) Define weakly-constrained model"
   ]
  },
  {
   "cell_type": "code",
   "execution_count": 5,
   "metadata": {},
   "outputs": [],
   "source": [
    "# Weakly-constrained models with 5 dense layers\n",
    "# alpha=0.01\n",
    "inp001 = Input(shape=(304,))\n",
    "densout = Dense(512, activation='linear')(inp001)\n",
    "densout = LeakyReLU(alpha=0.3)(densout)\n",
    "for i in range (4):\n",
    "    densout = Dense(512, activation='linear')(densout)\n",
    "    densout = LeakyReLU(alpha=0.3)(densout)\n",
    "densout = Dense(218, activation='linear')(densout)\n",
    "out = LeakyReLU(alpha=0.3)(densout)\n",
    "W001_rad_5dens = Model(inputs=inp001, outputs=out)\n",
    "# alpha=0.5\n",
    "inp05 = Input(shape=(304,))\n",
    "densout = Dense(512, activation='linear')(inp05)\n",
    "densout = LeakyReLU(alpha=0.3)(densout)\n",
    "for i in range (4):\n",
    "    densout = Dense(512, activation='linear')(densout)\n",
    "    densout = LeakyReLU(alpha=0.3)(densout)\n",
    "densout = Dense(218, activation='linear')(densout)\n",
    "out = LeakyReLU(alpha=0.3)(densout)\n",
    "W05_rad_5dens = Model(inputs=inp05, outputs=out)\n",
    "# alpha=0.99\n",
    "inp099 = Input(shape=(304,))\n",
    "densout = Dense(512, activation='linear')(inp099)\n",
    "densout = LeakyReLU(alpha=0.3)(densout)\n",
    "for i in range (4):\n",
    "    densout = Dense(512, activation='linear')(densout)\n",
    "    densout = LeakyReLU(alpha=0.3)(densout)\n",
    "densout = Dense(218, activation='linear')(densout)\n",
    "out = LeakyReLU(alpha=0.3)(densout)\n",
    "W099_rad_5dens = Model(inputs=inp099, outputs=out)"
   ]
  },
  {
   "cell_type": "markdown",
   "metadata": {},
   "source": [
    "### 1.3.3) Load normalization files and compile weakly-constrained model with custom loss function"
   ]
  },
  {
   "cell_type": "code",
   "execution_count": 7,
   "metadata": {},
   "outputs": [
    {
     "name": "stdout",
     "output_type": "stream",
     "text": [
      "fsub.shape= (304,)\n",
      "fdiv.shape= (304,)\n",
      "normq.shape= (218,)\n",
      "hyai.shape= (31,)\n",
      "hybi.shape= (31,)\n"
     ]
    }
   ],
   "source": [
    "# 1) Open the file containing the normalization of the targets\n",
    "ds = xr.open_dataset(TRAINDIR + PREFIX + 'train_norm.nc')\n",
    "# 2) Open the pickle files containing the pressure converters\n",
    "with open(os.path.join('/filer/z-sv-pool12c/t/Tom.Beucler/SPCAM/CBRAIN-CAM/cbrain', 'hyai_hybi.pkl'), 'rb') as f:\n",
    "            hyai, hybi = pickle.load(f)\n",
    "# 3) Define fsub, fdiv, normq\n",
    "fsub = ds.feature_means.values\n",
    "fdiv = ds.feature_stds_by_var.values\n",
    "normq = ds.target_conv.values\n",
    "print('fsub.shape=',fsub.shape)\n",
    "print('fdiv.shape=',fdiv.shape)\n",
    "print('normq.shape=',normq.shape)\n",
    "print('hyai.shape=',hyai.shape)\n",
    "print('hybi.shape=',hybi.shape)\n",
    "\n",
    "ds.close()"
   ]
  },
  {
   "cell_type": "code",
   "execution_count": 8,
   "metadata": {},
   "outputs": [],
   "source": [
    "W001_rad_5dens.compile(loss=customLoss(inp001,fsub,fdiv,normq,hyai,hybi,alpha = 0.01),\\\n",
    "                       optimizer='rmsprop')\n",
    "W05_rad_5dens.compile(loss=customLoss(inp05,fsub,fdiv,normq,hyai,hybi,alpha = 0.5),\\\n",
    "                       optimizer='rmsprop')\n",
    "W099_rad_5dens.compile(loss=customLoss(inp099,fsub,fdiv,normq,hyai,hybi,alpha = 0.99),\\\n",
    "                       optimizer='rmsprop')"
   ]
  },
  {
   "cell_type": "markdown",
   "metadata": {},
   "source": [
    "### 1.3.4) Load neural network weights"
   ]
  },
  {
   "cell_type": "code",
   "execution_count": 9,
   "metadata": {},
   "outputs": [
    {
     "name": "stdout",
     "output_type": "stream",
     "text": [
      "/data/Tom.Beucler/SPCAM_PHYS/HDF5_DATA\n",
      "/data/Tom.Beucler/SPCAM_PHYS/HDF5_DATA\r\n"
     ]
    }
   ],
   "source": [
    "%cd $TRAINDIR/HDF5_DATA\n",
    "!pwd\n",
    "W001_rad_5dens.load_weights('W001_rad_5dens.h5')\n",
    "W05_rad_5dens.load_weights('W05_rad_5dens.h5')\n",
    "W099_rad_5dens.load_weights('W099_rad_5dens.h5')"
   ]
  },
  {
   "cell_type": "markdown",
   "metadata": {},
   "source": [
    "# 2) Geographical figures"
   ]
  },
  {
   "cell_type": "markdown",
   "metadata": {},
   "source": [
    "## 2.1) Define coordinates, variables and units"
   ]
  },
  {
   "cell_type": "code",
   "execution_count": 16,
   "metadata": {},
   "outputs": [],
   "source": [
    "ds = xr.open_dataset(DATADIR + \"AndKua_aqua_SPCAM3.0_sp_fbp32.cam2.h1.0000-01-01-00000.nc\",\\\n",
    "                    decode_times=False)"
   ]
  },
  {
   "cell_type": "code",
   "execution_count": 18,
   "metadata": {},
   "outputs": [
    {
     "data": {
      "text/plain": [
       "0.0874230126630051"
      ]
     },
     "execution_count": 18,
     "metadata": {},
     "output_type": "execute_result"
    }
   ],
   "source": [
    "lat, lon, lev = ds.lat.values, ds.lon.values, ds.lev.values\n",
    "# Make sure lat-lon and lev-lat plots have same sizes\n",
    "# Width / height\n",
    "latrange = lat.max()-lat.min(); lonrange = lon.max()-lon.min(); levrange = lev.max()-lev.min()\n",
    "tmp = lonrange / latrange\n",
    "asp = (latrange/tmp)/levrange; asp"
   ]
  },
  {
   "cell_type": "code",
   "execution_count": 20,
   "metadata": {},
   "outputs": [],
   "source": [
    "vars = ['TPHYSTND_NORAD', 'PHQ', 'PHCLDLIQ', 'PHCLDICE', 'QRL', 'QRS']\n",
    "# Full names\n",
    "name = {\n",
    "    'TPHYSTND_NORAD': 'Convective heating rate',\n",
    "    'PHQ': 'Convective moistening rate',\n",
    "    'PHCLDLIQ': 'Convective liquid water rate',\n",
    "    'PHCLDICE': 'Convective ice rate',\n",
    "    'QRL': 'Longwave heating rate',\n",
    "    'QRS': 'Shortwave heating rate'\n",
    "}\n",
    "# Units\n",
    "unit = {\n",
    "    'TPHYSTND_NORAD': '[K/s]',\n",
    "    'PHQ': '[kg/kg/s]',\n",
    "    'PHCLDLIQ': '[kg/kg/s]',\n",
    "    'PHCLDICE': '[kg/kg/s]',\n",
    "    'QRL': '[K/s]',\n",
    "    'QRS': '[K/s]'\n",
    "}"
   ]
  },
  {
   "cell_type": "code",
   "execution_count": 23,
   "metadata": {},
   "outputs": [],
   "source": [
    "def xy_wrap(axes, itime, ilev, var, **kwargs):\n",
    "    p, t = d.get_pt(itime=itime, var=var)\n",
    "    return plot_panels(axes, p[:, :, ilev], t[:, :, ilev], var, **kwargs)"
   ]
  },
  {
   "cell_type": "code",
   "execution_count": 24,
   "metadata": {},
   "outputs": [
    {
     "ename": "NameError",
     "evalue": "name 'labels' is not defined",
     "output_type": "error",
     "traceback": [
      "\u001b[0;31m---------------------------------------------------------------------------\u001b[0m",
      "\u001b[0;31mNameError\u001b[0m                                 Traceback (most recent call last)",
      "\u001b[0;32m<ipython-input-24-2894f9213a57>\u001b[0m in \u001b[0;36m<module>\u001b[0;34m\u001b[0m\n\u001b[1;32m      2\u001b[0m \u001b[0mplt\u001b[0m\u001b[0;34m.\u001b[0m\u001b[0msubplots_adjust\u001b[0m\u001b[0;34m(\u001b[0m\u001b[0mwspace\u001b[0m\u001b[0;34m=\u001b[0m\u001b[0;36m0.03\u001b[0m\u001b[0;34m,\u001b[0m \u001b[0mhspace\u001b[0m\u001b[0;34m=\u001b[0m\u001b[0;36m0.\u001b[0m\u001b[0;34m)\u001b[0m\u001b[0;34m\u001b[0m\u001b[0;34m\u001b[0m\u001b[0m\n\u001b[1;32m      3\u001b[0m \u001b[0;32mfor\u001b[0m \u001b[0mi\u001b[0m\u001b[0;34m,\u001b[0m \u001b[0mv\u001b[0m \u001b[0;32min\u001b[0m \u001b[0menumerate\u001b[0m\u001b[0;34m(\u001b[0m\u001b[0mvars\u001b[0m\u001b[0;34m)\u001b[0m\u001b[0;34m:\u001b[0m\u001b[0;34m\u001b[0m\u001b[0;34m\u001b[0m\u001b[0m\n\u001b[0;32m----> 4\u001b[0;31m     \u001b[0mxy_wrap\u001b[0m\u001b[0;34m(\u001b[0m\u001b[0maxes\u001b[0m\u001b[0;34m[\u001b[0m\u001b[0mi\u001b[0m\u001b[0;34m]\u001b[0m\u001b[0;34m,\u001b[0m \u001b[0;36m0\u001b[0m\u001b[0;34m,\u001b[0m \u001b[0;36m20\u001b[0m\u001b[0;34m,\u001b[0m \u001b[0mv\u001b[0m\u001b[0;34m,\u001b[0m \u001b[0mxlabel\u001b[0m \u001b[0;34m=\u001b[0m \u001b[0;32mTrue\u001b[0m \u001b[0;32mif\u001b[0m \u001b[0mi\u001b[0m \u001b[0;34m==\u001b[0m \u001b[0;36m3\u001b[0m \u001b[0;32melse\u001b[0m \u001b[0;32mFalse\u001b[0m\u001b[0;34m,\u001b[0m \u001b[0mlabels\u001b[0m\u001b[0;34m=\u001b[0m\u001b[0mlabels\u001b[0m\u001b[0;34m[\u001b[0m\u001b[0mi\u001b[0m\u001b[0;34m]\u001b[0m\u001b[0;34m,\u001b[0m \u001b[0mcmap\u001b[0m\u001b[0;34m=\u001b[0m\u001b[0;34m'RdBu_r'\u001b[0m\u001b[0;34m)\u001b[0m\u001b[0;34m\u001b[0m\u001b[0;34m\u001b[0m\u001b[0m\n\u001b[0m",
      "\u001b[0;31mNameError\u001b[0m: name 'labels' is not defined"
     ]
    },
    {
     "data": {
      "image/png": "[encoded data removed]",
      "text/plain": [
       "<Figure size 1080x1080 with 8 Axes>"
      ]
     },
     "metadata": {
      "needs_background": "light"
     },
     "output_type": "display_data"
    }
   ],
   "source": [
    "fig, axes = plt.subplots(4, 2, figsize=(15, 15))\n",
    "plt.subplots_adjust(wspace=0.03, hspace=0.)\n",
    "for i, v in enumerate(vars): \n",
    "    xy_wrap(axes[i], 0, 20, v, xlabel = True if i == 3 else False, labels=labels[i], cmap='RdBu_r')"
   ]
  },
  {
   "cell_type": "code",
   "execution_count": null,
   "metadata": {},
   "outputs": [],
   "source": []
  }
 ],
 "metadata": {
  "kernelspec": {
   "display_name": "Python 3",
   "language": "python",
   "name": "python3"
  },
  "language_info": {
   "codemirror_mode": {
    "name": "ipython",
    "version": 3
   },
   "file_extension": ".py",
   "mimetype": "text/x-python",
   "name": "python",
   "nbconvert_exporter": "python",
   "pygments_lexer": "ipython3",
   "version": "3.6.8"
  }
 },
 "nbformat": 4,
 "nbformat_minor": 2
}
