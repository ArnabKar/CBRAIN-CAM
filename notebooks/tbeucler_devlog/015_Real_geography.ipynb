{
 "cells": [
  {
   "cell_type": "markdown",
   "metadata": {},
   "source": [
    "tgb - 5/24/2019 - The goal of this notebook is to adapt the preprocessing script to the real-geography SPCAM5 runs. The general goal is for CBRAIN to be versatile and able to easily switch between SPCAM versions. The sub-goals are:  \n",
    "1) Adapt the variable reading procedure to SPCAM 5 variables  \n",
    "2) Add a SPCAM version flag to the config file in order to smoothly preprocess SPCAM5 data"
   ]
  },
  {
   "cell_type": "markdown",
   "metadata": {},
   "source": [
    "# 1) Develop SPCAM5 flag - Load CBRAIN modules"
   ]
  },
  {
   "cell_type": "code",
   "execution_count": 1,
   "metadata": {},
   "outputs": [
    {
     "name": "stdout",
     "output_type": "stream",
     "text": [
      "/home/tbeucler/pkg/miniconda3/bin/python\r\n"
     ]
    }
   ],
   "source": [
    "!which python"
   ]
  },
  {
   "cell_type": "code",
   "execution_count": 9,
   "metadata": {},
   "outputs": [
    {
     "name": "stdout",
     "output_type": "stream",
     "text": [
      "/oasis/scratch/comet/tbeucler/temp_project/CBRAIN-CAM/notebooks/tbeucler_devlog\r\n"
     ]
    }
   ],
   "source": [
    "from cbrain.CPUimports import *\n",
    "from cbrain.cam_constants import *\n",
    "import xarray as xr\n",
    "import numpy as np\n",
    "# Otherwise tensorflow will use ALL your GPU RAM for no reason\n",
    "#limit_mem()\n",
    "TRAINDIR = ''\n",
    "DATADIR = ''\n",
    "PREFIX = ''\n",
    "!pwd"
   ]
  },
  {
   "cell_type": "code",
   "execution_count": 31,
   "metadata": {},
   "outputs": [],
   "source": [
    "import xarray as xr\n",
    "path = '/oasis/scratch/comet/gmooers/temp_project/Tom/small_data/TimestepOutput_Neuralnet_SPCAM_216.cam.h0.2008-10.nc'\n",
    "path = '/oasis/scratch/comet/gmooers/temp_project/Tom/small_data/TimestepOutput_Neuralnet_SPCAM_216.cam.h1.2009-01-01-00000.nc'\n",
    "ds = xr.open_dataset(path, decode_times=False)"
   ]
  },
  {
   "cell_type": "code",
   "execution_count": 32,
   "metadata": {},
   "outputs": [
    {
     "data": {
      "text/plain": [
       "<xarray.Dataset>\n",
       "Dimensions:       (ilev: 31, lat: 96, lev: 30, lon: 144, nbnd: 2, slat: 95, slon: 144, time: 16)\n",
       "Coordinates:\n",
       "  * lev           (lev) float64 3.643 7.595 14.36 24.61 ... 957.5 976.3 992.6\n",
       "  * ilev          (ilev) float64 2.255 5.032 10.16 18.56 ... 967.5 985.1 1e+03\n",
       "  * time          (time) float64 83.0 83.01 83.02 83.03 ... 83.14 83.15 83.16\n",
       "  * lat           (lat) float64 -90.0 -88.11 -86.21 -84.32 ... 86.21 88.11 90.0\n",
       "  * lon           (lon) float64 0.0 2.5 5.0 7.5 10.0 ... 350.0 352.5 355.0 357.5\n",
       "  * slat          (slat) float64 -89.05 -87.16 -85.26 ... 85.26 87.16 89.05\n",
       "  * slon          (slon) float64 -1.25 1.25 3.75 6.25 ... 351.2 353.8 356.2\n",
       "Dimensions without coordinates: nbnd\n",
       "Data variables:\n",
       "    hyam          (lev) float64 ...\n",
       "    hybm          (lev) float64 ...\n",
       "    hyai          (ilev) float64 ...\n",
       "    hybi          (ilev) float64 ...\n",
       "    P0            float64 ...\n",
       "    date          (time) int32 ...\n",
       "    datesec       (time) int32 ...\n",
       "    w_stag        (slat) float64 ...\n",
       "    time_bnds     (time, nbnd) float64 ...\n",
       "    date_written  (time) |S8 ...\n",
       "    time_written  (time) |S8 ...\n",
       "    ntrm          int32 ...\n",
       "    ntrn          int32 ...\n",
       "    ntrk          int32 ...\n",
       "    ndbase        int32 ...\n",
       "    nsbase        int32 ...\n",
       "    nbdate        int32 ...\n",
       "    nbsec         int32 ...\n",
       "    mdt           int32 ...\n",
       "    nlon          (lat) int32 ...\n",
       "    wnummax       (lat) int32 ...\n",
       "    gw            (lat) float64 ...\n",
       "    ndcur         (time) int32 ...\n",
       "    nscur         (time) int32 ...\n",
       "    co2vmr        (time) float64 ...\n",
       "    ch4vmr        (time) float64 ...\n",
       "    n2ovmr        (time) float64 ...\n",
       "    f11vmr        (time) float64 ...\n",
       "    f12vmr        (time) float64 ...\n",
       "    sol_tsi       (time) float64 ...\n",
       "    nsteph        (time) int32 ...\n",
       "    CRM_VTEND     (time, lev, lat, lon) float32 ...\n",
       "    FLDS          (time, lat, lon) float32 ...\n",
       "    FLNS          (time, lat, lon) float32 ...\n",
       "    FLNT          (time, lat, lon) float32 ...\n",
       "    FSDS          (time, lat, lon) float32 ...\n",
       "    FSNS          (time, lat, lon) float32 ...\n",
       "    FSNT          (time, lat, lon) float32 ...\n",
       "    LHFLX         (time, lat, lon) float32 ...\n",
       "    PRECT         (time, lat, lon) float32 ...\n",
       "    PS            (time, lat, lon) float32 ...\n",
       "    PTEQ          (time, lev, lat, lon) float32 ...\n",
       "    PTTEND        (time, lev, lat, lon) float32 ...\n",
       "    Q             (time, lev, lat, lon) float32 ...\n",
       "    QAP           (time, lev, lat, lon) float32 ...\n",
       "    QBP           (time, lev, lat, lon) float32 ...\n",
       "    SHFLX         (time, lat, lon) float32 ...\n",
       "    SOLIN         (time, lat, lon) float32 ...\n",
       "    T             (time, lev, lat, lon) float32 ...\n",
       "    TBP           (time, lev, lat, lon) float32 ...\n",
       "    U10           (time, lat, lon) float32 ...\n",
       "    VAP           (time, lev, lat, lon) float32 ...\n",
       "Attributes:\n",
       "    Conventions:      CF-1.0\n",
       "    source:           CAM\n",
       "    case:             TimestepOutput_Neuralnet_SPCAM_216\n",
       "    title:            UNSET\n",
       "    logname:          tg854660\n",
       "    host:             c487-001.stamped\n",
       "    Version:          $Name$\n",
       "    revision_Id:      $Id$\n",
       "    initial_file:     /work/06166/tg854660/stampede2/UP_init_files/L30_f19_g1...\n",
       "    topography_file:  /work/06166/tg854660/stampede2/inputdata/atm/cam/topo/U..."
      ]
     },
     "execution_count": 32,
     "metadata": {},
     "output_type": "execute_result"
    }
   ],
   "source": [
    "ds"
   ]
  },
  {
   "cell_type": "code",
   "execution_count": 36,
   "metadata": {},
   "outputs": [
    {
     "data": {
      "text/plain": [
       "<xarray.DataArray 'PRECT' (time: 16, lat: 96, lon: 144)>\n",
       "[221184 values with dtype=float32]\n",
       "Coordinates:\n",
       "  * time     (time) float64 83.0 83.01 83.02 83.03 ... 83.12 83.14 83.15 83.16\n",
       "  * lat      (lat) float64 -90.0 -88.11 -86.21 -84.32 ... 84.32 86.21 88.11 90.0\n",
       "  * lon      (lon) float64 0.0 2.5 5.0 7.5 10.0 ... 350.0 352.5 355.0 357.5\n",
       "Attributes:\n",
       "    units:      m/s\n",
       "    long_name:  Total (convective and large-scale) precipitation rate (liq + ..."
      ]
     },
     "execution_count": 36,
     "metadata": {},
     "output_type": "execute_result"
    }
   ],
   "source": [
    "ds.PRECT"
   ]
  },
  {
   "cell_type": "code",
   "execution_count": 21,
   "metadata": {},
   "outputs": [
    {
     "name": "stdout",
     "output_type": "stream",
     "text": [
      "cbrain\t nn_config  preprocessing-5282019.py  README.md\r\n",
      "LICENSE  notebooks  preprocessing.py\t      train.py\r\n",
      "misc\t pp_config  quickstart.ipynb\t      wkspectra\r\n"
     ]
    }
   ],
   "source": [
    "!ls"
   ]
  },
  {
   "cell_type": "code",
   "execution_count": 35,
   "metadata": {},
   "outputs": [
    {
     "name": "stdout",
     "output_type": "stream",
     "text": [
      "05/28/2019 08:12:20 PM Preprocess training dataset\n",
      "05/28/2019 08:12:20 PM Start preprocessing file /oasis/scratch/comet/tbeucler/temp_project/000_train.nc\n",
      "05/28/2019 08:12:20 PM Reading input files\n",
      "05/28/2019 08:12:20 PM Reading input file /oasis/scratch/comet/gmooers/temp_project/Tom/small_data/TimestepOutput_Neuralnet_SPCAM_216.cam.h1.2009-01-01-[012]*\n",
      "05/28/2019 08:12:21 PM Crop levels\n",
      "05/28/2019 08:12:21 PM Create stacked dataarray\n",
      "These time steps are cut: []\n",
      "05/28/2019 08:12:21 PM Stack and reshape dataarray\n",
      "05/28/2019 08:12:21 PM Save dataarray as /oasis/scratch/comet/tbeucler/temp_project/000_train.nc\n",
      "05/28/2019 08:12:25 PM Done!\n",
      "05/28/2019 08:12:25 PM Shuffle training dataset\n",
      "05/28/2019 08:12:25 PM Start shuffling /oasis/scratch/comet/tbeucler/temp_project/000_train.nc into /oasis/scratch/comet/tbeucler/temp_project/000_train_shuffle.nc. Open and create datasets.\n",
      "05/28/2019 08:12:25 PM Shuffle!\n",
      "100%|#############################################| 1/1 [00:00<00:00,  1.52it/s]\n",
      "05/28/2019 08:12:26 PM Closing datasets\n",
      "05/28/2019 08:12:26 PM Done!\n",
      "05/28/2019 08:12:26 PM Preprocess validation dataset\n",
      "05/28/2019 08:12:26 PM Start preprocessing file /oasis/scratch/comet/tbeucler/temp_project/000_valid.nc\n",
      "05/28/2019 08:12:26 PM Reading input files\n",
      "05/28/2019 08:12:26 PM Reading input file /oasis/scratch/comet/gmooers/temp_project/Tom/small_data/TimestepOutput_Neuralnet_SPCAM_216.cam.h1.2009-01-01-[457]*\n",
      "05/28/2019 08:12:28 PM Crop levels\n",
      "05/28/2019 08:12:28 PM Create stacked dataarray\n",
      "These time steps are cut: []\n",
      "05/28/2019 08:12:28 PM Stack and reshape dataarray\n",
      "05/28/2019 08:12:28 PM Save dataarray as /oasis/scratch/comet/tbeucler/temp_project/000_valid.nc\n",
      "05/28/2019 08:13:06 PM Done!\n",
      "05/28/2019 08:13:06 PM Compute normalization file from train\n",
      "05/28/2019 08:13:06 PM Start normalizing by creating dataset.\n",
      "05/28/2019 08:13:06 PM Compute standard normalizations.\n",
      "05/28/2019 08:13:09 PM Saving normalization file as /oasis/scratch/comet/tbeucler/temp_project/000_norm.nc\n",
      "05/28/2019 08:13:09 PM Done!\n",
      "05/28/2019 08:13:09 PM Finish entire preprocessing script.\n"
     ]
    }
   ],
   "source": [
    "!python preprocessing-5282019.py -c pp_config/000_Land_debug.yml"
   ]
  },
  {
   "cell_type": "code",
   "execution_count": null,
   "metadata": {},
   "outputs": [],
   "source": []
  }
 ],
 "metadata": {
  "kernelspec": {
   "display_name": "Python 3",
   "language": "python",
   "name": "python3"
  },
  "language_info": {
   "codemirror_mode": {
    "name": "ipython",
    "version": 3
   },
   "file_extension": ".py",
   "mimetype": "text/x-python",
   "name": "python",
   "nbconvert_exporter": "python",
   "pygments_lexer": "ipython3",
   "version": "3.6.7"
  }
 },
 "nbformat": 4,
 "nbformat_minor": 1
}
