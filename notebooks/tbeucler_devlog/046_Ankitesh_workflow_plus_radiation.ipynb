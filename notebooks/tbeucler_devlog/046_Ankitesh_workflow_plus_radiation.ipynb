{
 "cells": [
  {
   "cell_type": "markdown",
   "metadata": {},
   "source": [
    "tgb - 4/10/2020 - Train 4 networks on new aquaplanet preprocessed data:  \n",
    "1. Standard (RH,T-TNS,LHF) input scaling\n",
    "2. Same with radiation as additional output\n",
    "3. Repeat with continuous vertical interpolation layer"
   ]
  },
  {
   "cell_type": "markdown",
   "metadata": {},
   "source": [
    "# Initialization"
   ]
  },
  {
   "cell_type": "code",
   "execution_count": 1,
   "metadata": {
    "scrolled": true
   },
   "outputs": [
    {
     "name": "stdout",
     "output_type": "stream",
     "text": [
      "/oasis/scratch/comet/tbeucler/temp_project/CBRAIN-CAM/notebooks/tbeucler_devlog\n"
     ]
    }
   ],
   "source": [
    "import sys\n",
    "sys.path.insert(1,\"/home1/07064/tg863631/anaconda3/envs/CbrainCustomLayer/lib/python3.6/site-packages\") #work around for h5py\n",
    "from cbrain.imports import *\n",
    "from cbrain.cam_constants import *\n",
    "from cbrain.utils import *\n",
    "from cbrain.layers import *\n",
    "from cbrain.data_generator import DataGenerator\n",
    "import tensorflow as tf\n",
    "from tensorflow import math as tfm\n",
    "from tensorflow.keras.layers import *\n",
    "from tensorflow.keras.models import *\n",
    "import tensorflow_probability as tfp\n",
    "import xarray as xr\n",
    "import numpy as np\n",
    "from cbrain.model_diagnostics import ModelDiagnostics\n",
    "import matplotlib as mpl\n",
    "import matplotlib.pyplot as plt\n",
    "import matplotlib.image as imag\n",
    "import scipy.integrate as sin\n",
    "# import cartopy.crs as ccrs\n",
    "import matplotlib.ticker as mticker\n",
    "# from cartopy.mpl.gridliner import LONGITUDE_FORMATTER, LATITUDE_FORMATTER\n",
    "import pickle\n",
    "# from climate_invariant import *\n",
    "from tensorflow.keras import layers\n",
    "import datetime\n",
    "from climate_invariant_utils import *\n",
    "import yaml"
   ]
  },
  {
   "cell_type": "code",
   "execution_count": 2,
   "metadata": {},
   "outputs": [
    {
     "name": "stdout",
     "output_type": "stream",
     "text": [
      "[name: \"/device:CPU:0\"\n",
      "device_type: \"CPU\"\n",
      "memory_limit: 268435456\n",
      "locality {\n",
      "}\n",
      "incarnation: 15646914538047649355\n",
      ", name: \"/device:XLA_CPU:0\"\n",
      "device_type: \"XLA_CPU\"\n",
      "memory_limit: 17179869184\n",
      "locality {\n",
      "}\n",
      "incarnation: 1859565570334349163\n",
      "physical_device_desc: \"device: XLA_CPU device\"\n",
      ", name: \"/device:GPU:0\"\n",
      "device_type: \"GPU\"\n",
      "memory_limit: 12092604416\n",
      "locality {\n",
      "  bus_id: 1\n",
      "  links {\n",
      "  }\n",
      "}\n",
      "incarnation: 5284712133385441354\n",
      "physical_device_desc: \"device: 0, name: Tesla K80, pci bus id: 0000:05:00.0, compute capability: 3.7\"\n",
      ", name: \"/device:XLA_GPU:0\"\n",
      "device_type: \"XLA_GPU\"\n",
      "memory_limit: 17179869184\n",
      "locality {\n",
      "}\n",
      "incarnation: 16508583576625392350\n",
      "physical_device_desc: \"device: XLA_GPU device\"\n",
      "]\n"
     ]
    }
   ],
   "source": [
    "from tensorflow.python.client import device_lib\n",
    "print(device_lib.list_local_devices())"
   ]
  },
  {
   "cell_type": "code",
   "execution_count": 3,
   "metadata": {},
   "outputs": [
    {
     "data": {
      "text/plain": [
       "['/usr/share/fonts/dejavu/DejaVuSansMono-BoldOblique.ttf',\n",
       " '/usr/share/fonts/abattis-cantarell/Cantarell-BoldOblique.otf',\n",
       " '/usr/share/fonts/dejavu/DejaVuSans.ttf',\n",
       " '/usr/share/fonts/google-noto-emoji/NotoColorEmoji.ttf',\n",
       " '/usr/share/fonts/abattis-cantarell/Cantarell-Regular.otf',\n",
       " '/usr/share/fonts/dejavu/DejaVuSans-Bold.ttf',\n",
       " '/usr/share/fonts/dejavu/DejaVuSansCondensed-Oblique.ttf',\n",
       " '/usr/share/fonts/abattis-cantarell/Cantarell-Bold.otf',\n",
       " '/usr/share/fonts/dejavu/DejaVuSansMono-Oblique.ttf',\n",
       " '/usr/share/fonts/dejavu/DejaVuSansCondensed-Bold.ttf',\n",
       " '/usr/share/fonts/dejavu/DejaVuSans-Oblique.ttf',\n",
       " '/usr/share/fonts/dejavu/DejaVuSans-BoldOblique.ttf',\n",
       " '/usr/share/fonts/dejavu/DejaVuSans-ExtraLight.ttf',\n",
       " '/usr/share/fonts/dejavu/DejaVuSansMono.ttf',\n",
       " '/usr/share/fonts/dejavu/DejaVuSansCondensed.ttf',\n",
       " '/usr/share/fonts/abattis-cantarell/Cantarell-Oblique.otf',\n",
       " '/usr/share/fonts/dejavu/DejaVuSansCondensed-BoldOblique.ttf',\n",
       " '/usr/share/fonts/dejavu/DejaVuSansMono-Bold.ttf']"
      ]
     },
     "execution_count": 3,
     "metadata": {},
     "output_type": "execute_result"
    }
   ],
   "source": [
    "import matplotlib.font_manager\n",
    "matplotlib.font_manager.findSystemFonts(fontpaths=None, fontext='ttf')"
   ]
  },
  {
   "cell_type": "markdown",
   "metadata": {},
   "source": [
    "# Ankitesh workflow: Exp 1 = (RH,T-TNS,LHFq) input rescaling "
   ]
  },
  {
   "cell_type": "markdown",
   "metadata": {},
   "source": [
    "Heavily draws from [https://github.com/ankitesh97/CBRAIN-CAM/blob/flexible_normalization/notebooks/ankitesh_devlog/LHTrans.ipynb]"
   ]
  },
  {
   "cell_type": "markdown",
   "metadata": {},
   "source": [
    "## Global variables"
   ]
  },
  {
   "cell_type": "code",
   "execution_count": 4,
   "metadata": {},
   "outputs": [],
   "source": [
    "# Load coordinates (just pick any file from the climate model run)\n",
    "coor = xr.open_dataset(\"/oasis/scratch/comet/ankitesh/temp_project/data/sp8fbp_minus4k.cam2.h1.0000-01-01-00000.nc\",\\\n",
    "                    decode_times=False)\n",
    "lat = coor.lat; lon = coor.lon; lev = coor.lev;\n",
    "coor.close();"
   ]
  },
  {
   "cell_type": "code",
   "execution_count": 5,
   "metadata": {},
   "outputs": [],
   "source": [
    "TRAINDIR = '/oasis/scratch/comet/ankitesh/temp_project/PrepData/newData/'\n",
    "path = '/oasis/scratch/comet/tbeucler/temp_project/CBRAIN-CAM/cbrain/'\n",
    "path_hyam = 'hyam_hybm.pkl'\n",
    "\n",
    "hf = open(path+path_hyam,'rb')\n",
    "hyam,hybm = pickle.load(hf)\n",
    "scale_dict = load_pickle('/oasis/scratch/comet/tbeucler/temp_project/CBRAIN-CAM/nn_config/scale_dicts/009_Wm2_scaling.pkl')"
   ]
  },
  {
   "cell_type": "markdown",
   "metadata": {},
   "source": [
    "Create data generator class"
   ]
  },
  {
   "cell_type": "code",
   "execution_count": 6,
   "metadata": {},
   "outputs": [],
   "source": [
    "# class DataGeneratorClimInv(DataGenerator):\n",
    "    \n",
    "#     def __init__(self, data_fn, input_vars, output_vars,\n",
    "#              norm_fn=None, input_transform=None, output_transform=None,\n",
    "#              batch_size=1024, shuffle=True, xarray=False, var_cut_off=None, \n",
    "#                  #normalize_flag=True,\n",
    "#              rh_trans=True,t2tns_trans=True,\n",
    "#              lhflx_trans=True,\n",
    "#              scaling=True,interpolate=True,\n",
    "#              hyam=None,hybm=None,                 \n",
    "#              inp_subRH=None,inp_divRH=None,\n",
    "#              inp_subTNS=None,inp_divTNS=None,\n",
    "#              lev=None, interm_size=40,\n",
    "#              lower_lim=6,\n",
    "#              is_continous=True,Tnot=5):\n",
    "        \n",
    "#         self.scaling = scaling\n",
    "#         self.interpolate = interpolate\n",
    "#         self.rh_trans = rh_trans\n",
    "#         self.t2tns_trans = t2tns_trans\n",
    "#         self.lhflx_trans = lhflx_trans\n",
    "#         self.inp_shape = 64\n",
    "#         super().__init__(data_fn, input_vars,output_vars,norm_fn,input_transform,output_transform,\n",
    "#                         batch_size,shuffle,xarray,var_cut_off) ## call the base data generator\n",
    "#         self.inp_sub = self.input_transform.sub\n",
    "#         self.inp_div = self.input_transform.div\n",
    "#         if rh_trans:\n",
    "#             self.qv2rhLayer = QV2RHNumpy(self.inp_sub,self.inp_div,inp_subRH,inp_divRH,hyam,hybm)\n",
    "        \n",
    "#         if lhflx_trans:\n",
    "#             self.lhflxLayer = LhflxTransNumpy(self.inp_sub,self.inp_div,hyam,hybm)\n",
    "            \n",
    "#         if t2tns_trans:\n",
    "#             self.t2tnsLayer = T2TmTNSNumpy(self.inp_sub,self.inp_div,inp_subTNS,inp_divTNS,hyam,hybm)\n",
    "            \n",
    "#         if scaling:\n",
    "#             self.scalingLayer = ScalingNumpy(hyam,hybm)\n",
    "#             self.inp_shape += 1\n",
    "                    \n",
    "#         if interpolate:\n",
    "#             self.interpLayer = InterpolationNumpy(lev,is_continous,Tnot,lower_lim,interm_size)\n",
    "#             self.inp_shape += interm_size*2 + 4 + 30 ## 4 same as 60-64 and 30 for lev_tilde.size\n",
    "        \n",
    "            \n",
    "        \n",
    "#     def __getitem__(self, index):\n",
    "#         # Compute start and end indices for batch\n",
    "#         start_idx = index * self.batch_size\n",
    "#         end_idx = start_idx + self.batch_size\n",
    "\n",
    "#         # Grab batch from data\n",
    "#         batch = self.data_ds['vars'][start_idx:end_idx]\n",
    "\n",
    "#         # Split into inputs and outputs\n",
    "#         X = batch[:, self.input_idxs]\n",
    "#         Y = batch[:, self.output_idxs]\n",
    "#         # Normalize\n",
    "#         X_norm = self.input_transform.transform(X)\n",
    "#         Y = self.output_transform.transform(Y)\n",
    "#         X_result = X_norm\n",
    "        \n",
    "#         if self.rh_trans:\n",
    "#             X_result = self.qv2rhLayer.process(X_result) \n",
    "            \n",
    "#         if self.lhflx_trans:\n",
    "#             X_result = self.lhflxLayer.process(X_result)\n",
    "#             X_result = X_result[:,:64]\n",
    "#             X = X[:,:64]\n",
    "            \n",
    "#         if self.t2tns_trans:\n",
    "#             X_result = self.t2tnsLayer.process(X_result)\n",
    "        \n",
    "#         if self.scaling:\n",
    "#             scalings = self.scalingLayer.process(X) \n",
    "#             X_result = np.hstack((X_result,scalings))\n",
    "        \n",
    "#         if self.interpolate:\n",
    "#             interpolated = self.interpLayer.process(X,X_result)\n",
    "#             X_result = np.hstack((X_result,interpolated))\n",
    "            \n",
    "\n",
    "\n",
    "#         return X,Y  \n",
    "    \n",
    "#     ##transforms the input data into the required format, take the unnormalized dataset\n",
    "#     def transform(self,X):\n",
    "#         X_norm = self.input_transform.transform(X)\n",
    "#         X_result = X_norm\n",
    "        \n",
    "#         if self.rh_trans:\n",
    "#             X_result = self.qv2rhLayer.process(X_result)  \n",
    "        \n",
    "#         if self.lhflx_trans:\n",
    "#             X_result = self.lhflxLayer.process(X_result)\n",
    "\n",
    "#         if self.t2tns_trans:\n",
    "#             X_result = self.t2tnsLayer.process(X_result)\n",
    "        \n",
    "#         if self.scaling:\n",
    "#             scalings = self.scalingLayer.process(X) \n",
    "#             X_result = np.hstack((X_result,scalings))\n",
    "        \n",
    "#         if self.interpolate:\n",
    "#             interpolated = self.interpLayer.process(X,X_result)\n",
    "#             X_result = np.hstack((X_result,interpolated))\n",
    "            \n",
    "\n",
    "#         return X_result"
   ]
  },
  {
   "cell_type": "markdown",
   "metadata": {},
   "source": [
    "tgb - 4/13/2020 - Updated class to handle both custom layers and data generator"
   ]
  },
  {
   "cell_type": "markdown",
   "metadata": {},
   "source": [
    "### Class"
   ]
  },
  {
   "cell_type": "code",
   "execution_count": 7,
   "metadata": {},
   "outputs": [],
   "source": [
    "class DataGeneratorClimInv(DataGenerator):\n",
    "    def __init__(self, data_fn, input_vars, output_vars,\n",
    "             norm_fn=None, input_transform=None, output_transform=None,\n",
    "             batch_size=1024, shuffle=True, xarray=False, var_cut_off=None, \n",
    "             rh_trans=True,t2tns_trans=True,\n",
    "             lhflx_trans=True,\n",
    "             scaling=True,interpolate=True,\n",
    "             hyam=None,hybm=None,                 \n",
    "             inp_subRH=None,inp_divRH=None,\n",
    "             inp_subTNS=None,inp_divTNS=None,\n",
    "             lev=None, interm_size=40,\n",
    "             lower_lim=6,\n",
    "             is_continous=True,Tnot=5,mode='train'):\n",
    "        self.scaling = scaling\n",
    "        self.interpolate = interpolate\n",
    "        self.rh_trans = rh_trans\n",
    "        self.t2tns_trans = t2tns_trans\n",
    "        self.lhflx_trans = lhflx_trans\n",
    "        self.inp_shape = 64\n",
    "        self.mode = mode\n",
    "        super().__init__(data_fn, input_vars,output_vars,norm_fn,input_transform,output_transform,\n",
    "                        batch_size,shuffle,xarray,var_cut_off) ## call the base data generator\n",
    "        self.inp_sub = self.input_transform.sub\n",
    "        self.inp_div = self.input_transform.div\n",
    "        if rh_trans:\n",
    "            self.qv2rhLayer = QV2RHNumpy(self.inp_sub,self.inp_div,inp_subRH,inp_divRH,hyam,hybm)\n",
    "        if lhflx_trans:\n",
    "            self.lhflxLayer = LhflxTransNumpy(self.inp_sub,self.inp_div,hyam,hybm)\n",
    "        if t2tns_trans:\n",
    "            self.t2tnsLayer = T2TmTNSNumpy(self.inp_sub,self.inp_div,inp_subTNS,inp_divTNS,hyam,hybm)\n",
    "        if scaling:\n",
    "            self.scalingLayer = ScalingNumpy(hyam,hybm)\n",
    "            self.inp_shape += 1\n",
    "        if interpolate:\n",
    "            self.interpLayer = InterpolationNumpy(lev,is_continous,Tnot,lower_lim,interm_size)\n",
    "            self.inp_shape += interm_size*2 + 4 + 30 ## 4 same as 60-64 and 30 for lev_tilde.size\n",
    "    def __getitem__(self, index):\n",
    "        # Compute start and end indices for batch\n",
    "        start_idx = index * self.batch_size\n",
    "        end_idx = start_idx + self.batch_size\n",
    "        # Grab batch from data\n",
    "        batch = self.data_ds['vars'][start_idx:end_idx]\n",
    "        #print(batch)\n",
    "        # Split into inputs and outputs\n",
    "        X = batch[:, self.input_idxs]\n",
    "        Y = batch[:, self.output_idxs]\n",
    "        #print(X)\n",
    "        # Normalize\n",
    "        X_norm = self.input_transform.transform(X)\n",
    "        Y = self.output_transform.transform(Y)\n",
    "        X_result = X_norm\n",
    "        if self.rh_trans:\n",
    "            X_result = self.qv2rhLayer.process(X_result) \n",
    "        if self.lhflx_trans:\n",
    "            #print(X_result)\n",
    "            X_result = self.lhflxLayer.process(X_result)\n",
    "            X_result = X_result[:,:64]\n",
    "            X = X[:,:64]\n",
    "        if self.t2tns_trans:\n",
    "            X_result = self.t2tnsLayer.process(X_result)\n",
    "        if self.scaling:\n",
    "            scalings = self.scalingLayer.process(X) \n",
    "            X_result = np.hstack((X_result,scalings))\n",
    "        if self.interpolate:\n",
    "            interpolated = self.interpLayer.process(X,X_result)\n",
    "            X_result = np.hstack((X_result,interpolated))\n",
    "        if self.mode=='val':\n",
    "            return xr.DataArray(X_result), xr.DataArray(Y)\n",
    "        return X_result,Y\n",
    "    ##transforms the input data into the required format, take the unnormalized dataset\n",
    "    def transform(self,X):\n",
    "        X_norm = self.input_transform.transform(X)\n",
    "        X_result = X_norm\n",
    "        if self.rh_trans:\n",
    "            X_result = self.qv2rhLayer.process(X_result)  \n",
    "        if self.lhflx_trans:\n",
    "            X_result = self.lhflxLayer.process(X_result)\n",
    "        if self.t2tns_trans:\n",
    "            X_result = self.t2tnsLayer.process(X_result)\n",
    "        if self.scaling:\n",
    "            scalings = self.scalingLayer.process(X) \n",
    "            X_result = np.hstack((X_result,scalings))\n",
    "        if self.interpolate:\n",
    "            interpolated = self.interpLayer.process(X,X_result)\n",
    "            X_result = np.hstack((X_result,interpolated))\n",
    "        return X_result"
   ]
  },
  {
   "cell_type": "markdown",
   "metadata": {},
   "source": [
    "## Data generators"
   ]
  },
  {
   "cell_type": "markdown",
   "metadata": {},
   "source": [
    "### Using RH"
   ]
  },
  {
   "cell_type": "code",
   "execution_count": 8,
   "metadata": {},
   "outputs": [],
   "source": [
    "scale_dict_RH = load_pickle('/home/ankitesh/CBrain_project/CBRAIN-CAM/nn_config/scale_dicts/009_Wm2_scaling.pkl')\n",
    "scale_dict_RH['RH'] = 0.01*L_S/G, # Arbitrary 0.1 factor as specific humidity is generally below 2%\n",
    "\n",
    "in_vars_RH = ['RH','TBP','PS', 'SOLIN', 'SHFLX', 'LHFLX', 'TS']\n",
    "out_vars_RH = ['PHQ','TPHYSTND','FSNT', 'FSNS', 'FLNT', 'FLNS']\n",
    "\n",
    "TRAINFILE_RH = 'CI_RH_M4K_WTS_NORM_train_shuffle.nc'\n",
    "NORMFILE_RH = 'CI_RH_M4K_WTS_NORM_norm.nc'\n",
    "VALIDFILE_RH = 'CI_RH_M4K_WTS_NORM_valid.nc'"
   ]
  },
  {
   "cell_type": "code",
   "execution_count": 9,
   "metadata": {},
   "outputs": [],
   "source": [
    "train_gen_RH = DataGenerator(\n",
    "    data_fn = TRAINDIR+TRAINFILE_RH,\n",
    "    input_vars = in_vars_RH,\n",
    "    output_vars = out_vars_RH,\n",
    "    norm_fn = TRAINDIR+NORMFILE_RH,\n",
    "    input_transform = ('mean', 'maxrs'),\n",
    "    output_transform = scale_dict_RH,\n",
    "    batch_size=1024,\n",
    "    shuffle=True,\n",
    "    #normalize_flag=True,\n",
    ")"
   ]
  },
  {
   "cell_type": "code",
   "execution_count": 10,
   "metadata": {},
   "outputs": [
    {
     "data": {
      "text/plain": [
       "(1024, 65)"
      ]
     },
     "execution_count": 10,
     "metadata": {},
     "output_type": "execute_result"
    }
   ],
   "source": [
    "train_gen_RH[0][0].shape ## 65th is TS"
   ]
  },
  {
   "cell_type": "code",
   "execution_count": 11,
   "metadata": {},
   "outputs": [
    {
     "data": {
      "text/plain": [
       "array([[-0.03116154, -0.02579025, -0.05795378, ...,  0.00822388,\n",
       "        -0.04112007, -0.3510278 ],\n",
       "       [-0.03114938, -0.02561203, -0.05776227, ..., -0.02999366,\n",
       "        -0.06616905, -0.37801621],\n",
       "       [-0.03052856, -0.02457501, -0.04795728, ...,  0.15219427,\n",
       "         0.07001481, -0.1633932 ],\n",
       "       ...,\n",
       "       [-0.02458712, -0.00671786, -0.03637124, ...,  0.01257827,\n",
       "        -0.05248252, -0.37801621],\n",
       "       [-0.03113521, -0.02556761, -0.05578798, ..., -0.00397757,\n",
       "        -0.07242653,  0.05717171],\n",
       "       [-0.03107435, -0.02489909, -0.05408576, ..., -0.04429404,\n",
       "        -0.05072512,  0.33383199]])"
      ]
     },
     "execution_count": 11,
     "metadata": {},
     "output_type": "execute_result"
    }
   ],
   "source": [
    "train_gen_RH[0][0]"
   ]
  },
  {
   "cell_type": "markdown",
   "metadata": {},
   "source": [
    "### Using T-TNS"
   ]
  },
  {
   "cell_type": "code",
   "execution_count": 12,
   "metadata": {},
   "outputs": [],
   "source": [
    "in_vars = ['QBP','TfromNS','PS', 'SOLIN', 'SHFLX', 'LHFLX', 'TS']\n",
    "out_vars = ['PHQ','TPHYSTND','FSNT', 'FSNS', 'FLNT', 'FLNS']\n",
    "\n",
    "TRAINFILE_TNS = 'CI_TNS_M4K_WTS_NORM_train_shuffle.nc'\n",
    "NORMFILE_TNS = 'CI_TNS_M4K_WTS_NORM_norm.nc'\n",
    "VALIDFILE_TNS = 'CI_TNS_M4K_WTS_NORM_valid.nc'"
   ]
  },
  {
   "cell_type": "code",
   "execution_count": 13,
   "metadata": {},
   "outputs": [],
   "source": [
    "train_gen_TNS = DataGenerator(\n",
    "    data_fn = TRAINDIR+TRAINFILE_TNS,\n",
    "    input_vars = in_vars,\n",
    "    output_vars = out_vars,\n",
    "    norm_fn = TRAINDIR+NORMFILE_TNS,\n",
    "    input_transform = ('mean', 'maxrs'),\n",
    "    output_transform = scale_dict,\n",
    "    batch_size=1024,\n",
    "    shuffle=True,\n",
    "    #normalize_flag=True\n",
    ")"
   ]
  },
  {
   "cell_type": "code",
   "execution_count": 14,
   "metadata": {},
   "outputs": [
    {
     "data": {
      "text/plain": [
       "array([[ 7.8266363e-05,  1.0521860e-04,  8.3636092e-05, ...,\n",
       "         8.2158856e-03, -4.1136038e-02, -2.3832844e-01],\n",
       "       [ 1.3011204e-04,  1.3450897e-04,  1.3287229e-04, ...,\n",
       "        -3.0001657e-02, -6.6185012e-02, -2.6531684e-01],\n",
       "       [-7.3485826e-05, -6.1155690e-05, -2.2192027e-05, ...,\n",
       "         1.5218627e-01,  6.9998845e-02, -5.0693844e-02],\n",
       "       ...,\n",
       "       [ 2.1072343e-05,  4.2982425e-05,  4.0559629e-05, ...,\n",
       "         1.2570272e-02, -5.2498486e-02, -2.6531684e-01],\n",
       "       [ 6.3013263e-06, -1.6509657e-05, -2.3950972e-05, ...,\n",
       "        -3.9855624e-03, -7.2442487e-02,  1.6987106e-01],\n",
       "       [-4.2441792e-05, -4.1135834e-05, -4.7525620e-05, ...,\n",
       "        -4.4302031e-02, -5.0741080e-02,  4.4653136e-01]], dtype=float32)"
      ]
     },
     "execution_count": 14,
     "metadata": {},
     "output_type": "execute_result"
    }
   ],
   "source": [
    "train_gen_TNS[0][0]"
   ]
  },
  {
   "cell_type": "markdown",
   "metadata": {},
   "source": [
    "### Data generator combined"
   ]
  },
  {
   "cell_type": "code",
   "execution_count": 15,
   "metadata": {},
   "outputs": [],
   "source": [
    "in_vars = ['QBP','TBP','PS', 'SOLIN', 'SHFLX', 'LHFLX', 'TS']\n",
    "out_vars = ['PHQ','TPHYSTND','FSNT', 'FSNS', 'FLNT', 'FLNS']"
   ]
  },
  {
   "cell_type": "code",
   "execution_count": 16,
   "metadata": {},
   "outputs": [],
   "source": [
    "## this won't be used just to show we can use it overall\n",
    "TRAINFILE = 'CI_SP_M4K_WTS_train_shuffle.nc'\n",
    "NORMFILE = 'CI_SP_M4K_WTS_NORM_norm.nc'\n",
    "VALIDFILE = 'CI_SP_M4K_WTS_valid.nc'\n",
    "\n",
    "train_gen = DataGeneratorClimInv(\n",
    "    data_fn = TRAINDIR+TRAINFILE,\n",
    "    input_vars = in_vars,\n",
    "    output_vars = out_vars,\n",
    "    norm_fn = TRAINDIR+NORMFILE,\n",
    "    input_transform = ('mean', 'maxrs'),\n",
    "    output_transform = scale_dict,\n",
    "    batch_size=1024,\n",
    "    shuffle=True,\n",
    "    #normalize_flag=True,\n",
    "    lev=lev,\n",
    "    hyam=hyam,hybm=hybm,\n",
    "    inp_subRH=train_gen_RH.input_transform.sub, inp_divRH=train_gen_RH.input_transform.div,\n",
    "    inp_subTNS=train_gen_TNS.input_transform.sub,inp_divTNS=train_gen_TNS.input_transform.div,\n",
    "    scaling=False,\n",
    "    interpolate=False\n",
    ")\n",
    "\n",
    "valid_gen = DataGeneratorClimInv(\n",
    "    data_fn = TRAINDIR+VALIDFILE,\n",
    "    input_vars = in_vars,\n",
    "    output_vars = out_vars,\n",
    "    norm_fn = TRAINDIR+NORMFILE,\n",
    "    input_transform = ('mean', 'maxrs'),\n",
    "    output_transform = scale_dict,\n",
    "    batch_size=1024,\n",
    "    shuffle=True,\n",
    "    #normalize_flag=True,\n",
    "    lev=lev,\n",
    "    hyam=hyam,hybm=hybm,\n",
    "    inp_subRH=train_gen_RH.input_transform.sub, inp_divRH=train_gen_RH.input_transform.div,\n",
    "    inp_subTNS=train_gen_TNS.input_transform.sub,inp_divTNS=train_gen_TNS.input_transform.div,\n",
    "    scaling=False,\n",
    "    interpolate=False\n",
    ")"
   ]
  },
  {
   "cell_type": "code",
   "execution_count": 17,
   "metadata": {},
   "outputs": [
    {
     "data": {
      "text/plain": [
       "array([[-3.1150199e-02, -2.5735410e-02, -5.7867717e-02, ...,\n",
       "        -9.6184701e-02, -8.5013285e-03, -2.6167861e-06],\n",
       "       [-3.0725701e-02, -2.4526425e-02, -4.3158535e-02, ...,\n",
       "        -1.1248506e-01,  1.8772926e-02, -7.4758309e-06],\n",
       "       [-3.0707045e-02, -2.4309644e-02, -4.8080746e-02, ...,\n",
       "        -2.0640454e-01, -2.7730091e-02, -8.6338832e-06],\n",
       "       ...,\n",
       "       [-3.1045359e-02, -2.4920296e-02, -4.6747047e-02, ...,\n",
       "        -2.3120576e-01, -1.3915333e-02,  8.6682184e-07],\n",
       "       [-3.1090843e-02, -2.5133165e-02, -5.3446773e-02, ...,\n",
       "        -2.3120576e-01, -4.2218819e-02, -1.1430574e-06],\n",
       "       [-3.0709369e-02, -2.4279768e-02, -4.7063876e-02, ...,\n",
       "        -2.3120576e-01, -6.9839531e-03, -6.5824958e-07]], dtype=float32)"
      ]
     },
     "execution_count": 17,
     "metadata": {},
     "output_type": "execute_result"
    }
   ],
   "source": [
    "train_gen[0][0]"
   ]
  },
  {
   "cell_type": "code",
   "execution_count": 18,
   "metadata": {},
   "outputs": [
    {
     "data": {
      "text/plain": [
       "array([[-3.11513897e-02, -2.55972967e-02, -5.76855838e-02, ...,\n",
       "         1.11451395e-01, -1.96151733e-02, -1.00337402e-05],\n",
       "       [-3.11514307e-02, -2.55967118e-02, -5.76833487e-02, ...,\n",
       "         1.11603700e-01, -1.98395941e-02, -1.00145280e-05],\n",
       "       [-3.11514717e-02, -2.55961251e-02, -5.76807670e-02, ...,\n",
       "         1.11838639e-01, -1.98753774e-02, -9.92992318e-06],\n",
       "       ...,\n",
       "       [-3.11518386e-02, -2.56830268e-02, -5.78699596e-02, ...,\n",
       "        -2.20751569e-01, -2.15642117e-02, -1.04346791e-05],\n",
       "       [-3.11520100e-02, -2.56797150e-02, -5.79008311e-02, ...,\n",
       "        -2.21710905e-01, -2.03872118e-02, -1.07214946e-05],\n",
       "       [-3.11520826e-02, -2.56768707e-02, -5.79310246e-02, ...,\n",
       "        -2.21848011e-01, -1.85891576e-02, -1.10917099e-05]], dtype=float32)"
      ]
     },
     "execution_count": 18,
     "metadata": {},
     "output_type": "execute_result"
    }
   ],
   "source": [
    "valid_gen[0][0]"
   ]
  },
  {
   "cell_type": "markdown",
   "metadata": {},
   "source": [
    "### Build Model"
   ]
  },
  {
   "cell_type": "code",
   "execution_count": 13,
   "metadata": {},
   "outputs": [],
   "source": [
    "inp = Input(shape=(64,)) ## input after rh and tns transformation\n",
    "densout = Dense(128, activation='linear')(inp)\n",
    "densout = LeakyReLU(alpha=0.3)(densout)\n",
    "for i in range (6):\n",
    "    densout = Dense(128, activation='linear')(densout)\n",
    "    densout = LeakyReLU(alpha=0.3)(densout)\n",
    "out = Dense(64, activation='linear')(densout)\n",
    "model = tf.keras.models.Model(inp, out)"
   ]
  },
  {
   "cell_type": "code",
   "execution_count": 14,
   "metadata": {},
   "outputs": [
    {
     "name": "stdout",
     "output_type": "stream",
     "text": [
      "Model: \"model\"\n",
      "_________________________________________________________________\n",
      "Layer (type)                 Output Shape              Param #   \n",
      "=================================================================\n",
      "input_1 (InputLayer)         [(None, 64)]              0         \n",
      "_________________________________________________________________\n",
      "dense (Dense)                (None, 128)               8320      \n",
      "_________________________________________________________________\n",
      "leaky_re_lu (LeakyReLU)      (None, 128)               0         \n",
      "_________________________________________________________________\n",
      "dense_1 (Dense)              (None, 128)               16512     \n",
      "_________________________________________________________________\n",
      "leaky_re_lu_1 (LeakyReLU)    (None, 128)               0         \n",
      "_________________________________________________________________\n",
      "dense_2 (Dense)              (None, 128)               16512     \n",
      "_________________________________________________________________\n",
      "leaky_re_lu_2 (LeakyReLU)    (None, 128)               0         \n",
      "_________________________________________________________________\n",
      "dense_3 (Dense)              (None, 128)               16512     \n",
      "_________________________________________________________________\n",
      "leaky_re_lu_3 (LeakyReLU)    (None, 128)               0         \n",
      "_________________________________________________________________\n",
      "dense_4 (Dense)              (None, 128)               16512     \n",
      "_________________________________________________________________\n",
      "leaky_re_lu_4 (LeakyReLU)    (None, 128)               0         \n",
      "_________________________________________________________________\n",
      "dense_5 (Dense)              (None, 128)               16512     \n",
      "_________________________________________________________________\n",
      "leaky_re_lu_5 (LeakyReLU)    (None, 128)               0         \n",
      "_________________________________________________________________\n",
      "dense_6 (Dense)              (None, 128)               16512     \n",
      "_________________________________________________________________\n",
      "leaky_re_lu_6 (LeakyReLU)    (None, 128)               0         \n",
      "_________________________________________________________________\n",
      "dense_7 (Dense)              (None, 64)                8256      \n",
      "=================================================================\n",
      "Total params: 115,648\n",
      "Trainable params: 115,648\n",
      "Non-trainable params: 0\n",
      "_________________________________________________________________\n"
     ]
    }
   ],
   "source": [
    "model.summary()"
   ]
  },
  {
   "cell_type": "code",
   "execution_count": 15,
   "metadata": {},
   "outputs": [],
   "source": [
    "model.compile(tf.keras.optimizers.Adam(), loss=mse)"
   ]
  },
  {
   "cell_type": "code",
   "execution_count": 16,
   "metadata": {},
   "outputs": [],
   "source": [
    "path_HDF5 = '/oasis/scratch/comet/tbeucler/temp_project/CBRAIN_models/'\n",
    "earlyStopping = EarlyStopping(monitor='val_loss', patience=10, verbose=0, mode='min')\n",
    "mcp_save_pos = ModelCheckpoint(path_HDF5+'RH_TTNS_SATF.hdf5',save_best_only=True, monitor='val_loss', mode='min')"
   ]
  },
  {
   "cell_type": "code",
   "execution_count": 17,
   "metadata": {},
   "outputs": [
    {
     "name": "stdout",
     "output_type": "stream",
     "text": [
      "Epoch 1/10\n",
      "41376/41376 [==============================] - 3379s 82ms/step - loss: 396.8877 - val_loss: 360.5896\n",
      "Epoch 2/10\n",
      "41376/41376 [==============================] - 1335s 32ms/step - loss: 358.4142 - val_loss: 347.4375\n",
      "Epoch 3/10\n",
      "41376/41376 [==============================] - 1333s 32ms/step - loss: 351.7821 - val_loss: 344.6531\n",
      "Epoch 4/10\n",
      "41376/41376 [==============================] - 1317s 32ms/step - loss: 348.2976 - val_loss: 339.6683\n",
      "Epoch 5/10\n",
      "41376/41376 [==============================] - 1311s 32ms/step - loss: 346.1985 - val_loss: 338.8742\n",
      "Epoch 6/10\n",
      "41376/41376 [==============================] - 1342s 32ms/step - loss: 344.6709 - val_loss: 339.7956\n",
      "Epoch 7/10\n",
      "41376/41376 [==============================] - 1315s 32ms/step - loss: 343.4981 - val_loss: 337.5439\n",
      "Epoch 8/10\n",
      "41376/41376 [==============================] - 1327s 32ms/step - loss: 342.4154 - val_loss: 337.2886\n",
      "Epoch 9/10\n",
      "41376/41376 [==============================] - 1668s 40ms/step - loss: 341.5560 - val_loss: 336.8392\n",
      "Epoch 10/10\n",
      "41376/41376 [==============================] - 2005s 48ms/step - loss: 340.8937 - val_loss: 336.7226\n"
     ]
    },
    {
     "data": {
      "text/plain": [
       "<tensorflow.python.keras.callbacks.History at 0x2b2ce3fec2b0>"
      ]
     },
     "execution_count": 17,
     "metadata": {},
     "output_type": "execute_result"
    }
   ],
   "source": [
    "Nep = 10\n",
    "# model_pos.load_weights(path_HDF5+'Pos_Scaled_half_Vertical.hdf5')\n",
    "#model.load_weights(path_HDF5+'RH_TNS_LH.hdf5')\n",
    "model.fit_generator(train_gen, epochs=Nep, validation_data=valid_gen,\\\n",
    "              callbacks=[earlyStopping, mcp_save_pos])"
   ]
  },
  {
   "cell_type": "markdown",
   "metadata": {},
   "source": [
    "# Figures for NOAA workshop"
   ]
  },
  {
   "cell_type": "markdown",
   "metadata": {},
   "source": [
    "## SST generalization plot"
   ]
  },
  {
   "cell_type": "markdown",
   "metadata": {},
   "source": [
    "TODO where data is, see [https://github.com/tbeucler/CBRAIN-CAM/blob/master/notebooks/tbeucler_devlog/034_AGU2019_Figures.ipynb]"
   ]
  },
  {
   "cell_type": "markdown",
   "metadata": {},
   "source": [
    "## Four-level input/vertical interpolation hierarchy"
   ]
  },
  {
   "cell_type": "markdown",
   "metadata": {},
   "source": [
    "### Ankitesh's diagnostic utilities"
   ]
  },
  {
   "cell_type": "code",
   "execution_count": 19,
   "metadata": {},
   "outputs": [],
   "source": [
    "class ClimateNet:\n",
    "    def __init__(self,pos_model,neg_model,dict_lay,subQ,divQ,\n",
    "                rh_trans,t2tns_trans,lhflx_trans,scaling, interpolate):\n",
    "        self.pos_model = load_model(pos_model,custom_objects=dict_lay)\n",
    "        self.neg_model = load_model(neg_model,custom_objects=dict_lay)\n",
    "        self.subQ,self.divQ = np.array(subQ),np.array(divQ)\n",
    "        in_vars = ['QBP','TBP','PS', 'SOLIN', 'SHFLX', 'LHFLX']\n",
    "        out_vars = ['PHQ','TPHYSTND','FSNT', 'FSNS', 'FLNT', 'FLNS']\n",
    "        self.pos_data_gen = DataGeneratorClimInv(\n",
    "                            data_fn = TRAINDIR+'PosCRH_CI_SP_M4K_train_shuffle.nc',\n",
    "                            input_vars = in_vars,\n",
    "                            output_vars = out_vars,\n",
    "                            norm_fn = TRAINDIR+'PosCRH_CI_SP_M4K_NORM_norm.nc',\n",
    "                            input_transform = ('mean', 'maxrs'),\n",
    "                            output_transform = scale_dict,\n",
    "                            batch_size=1024,\n",
    "                            shuffle=True,\n",
    "                            #normalize_flag=True,\n",
    "                            lev=lev,\n",
    "                            hyam=hyam,hybm=hybm,\n",
    "                            inp_subRH=train_gen_RH_pos.input_transform.sub, inp_divRH=train_gen_RH_pos.input_transform.div,\n",
    "                            inp_subTNS=train_gen_TNS_pos.input_transform.sub,inp_divTNS=train_gen_TNS_pos.input_transform.div,\n",
    "                            is_continous=True,\n",
    "                            interpolate=interpolate,\n",
    "                            rh_trans=rh_trans,\n",
    "                            t2tns_trans=t2tns_trans,\n",
    "                            \n",
    "            \n",
    "                        )\n",
    "\n",
    "        self.neg_data_gen = DataGeneratorClimInv(\n",
    "                            data_fn = TRAINDIR+'NegCRH_CI_SP_M4K_train_shuffle.nc',\n",
    "                            input_vars = in_vars,\n",
    "                            output_vars = out_vars,\n",
    "                            norm_fn = TRAINDIR+'NegCRH_CI_SP_M4K_NORM_norm.nc',\n",
    "                            input_transform = ('mean', 'maxrs'),\n",
    "                            output_transform = scale_dict,\n",
    "                            batch_size=1024,\n",
    "                            shuffle=True,\n",
    "                            #normalize_flag=True,\n",
    "                            lev=lev,\n",
    "                            hyam=hyam,hybm=hybm,\n",
    "                            inp_subRH=train_gen_RH_neg.input_transform.sub, inp_divRH=train_gen_RH_neg.input_transform.div,\n",
    "                            inp_subTNS=train_gen_TNS_neg.input_transform.sub,inp_divTNS=train_gen_TNS_neg.input_transform.div,\n",
    "                            is_continous=True,\n",
    "                            interpolate=interpolate,\n",
    "                            scaling=scaling,\n",
    "                            rh_trans=rh_trans,\n",
    "                            t2tns_trans=t2tns_trans\n",
    "                        )\n",
    "\n",
    "    \n",
    "    def reorder(self,op_pos,op_neg,mask):\n",
    "        op = []\n",
    "        pos_i=0\n",
    "        neg_i = 0\n",
    "        for m in mask:\n",
    "            if m:\n",
    "                op.append(op_pos[pos_i])\n",
    "                pos_i += 1\n",
    "            else:\n",
    "                op.append(op_neg[neg_i])\n",
    "                neg_i += 1\n",
    "        return np.array(op)\n",
    "                \n",
    "                \n",
    "    def predict_on_batch(self,inp):\n",
    "        #inp = batch x 179\n",
    "        inp_de = inp[:,:64]*self.divQ + self.subQ\n",
    "        \n",
    "        mask = ScalingNumpy(hyam,hybm).crh(inp_de)> 0.8\n",
    "        pos_inp = inp[mask]\n",
    "        neg_inp = inp[np.logical_not(mask)]\n",
    "        ### for positive\n",
    "        pos_inp = pos_inp*self.divQ + self.subQ\n",
    "        pos_inp = self.pos_data_gen.transform(pos_inp)\n",
    "        op_pos = self.pos_model.predict_on_batch(pos_inp)\n",
    "        neg_inp = neg_inp*self.divQ + self.subQ\n",
    "        neg_inp = self.neg_data_gen.transform(neg_inp)\n",
    "        op_neg = self.neg_model.predict_on_batch(neg_inp)\n",
    "        op = self.reorder(np.array(op_pos),np.array(op_neg),mask)\n",
    "        return op"
   ]
  },
  {
   "cell_type": "code",
   "execution_count": 20,
   "metadata": {},
   "outputs": [],
   "source": [
    "path_HDF5 = '/oasis/scratch/comet/ankitesh/temp_project/models/modelsForTom/' # Path to NN weights\n",
    "config_file = 'CI_SP_M4K_CONFIG.yml' # Configuration file\n",
    "data_file = ['CI_SP_M4K_valid.nc','CI_SP_P4K_valid.nc'] # Validation/test data sets\n",
    "NNarray = ['CI01_BF.hdf5','CI01_RH_TNS_LHQsat.hdf5','CI01_RH.hdf5',\n",
    "           'CI01_RH_TNS_LHQsat_Interp.hdf5','CI01_RH_TNS.hdf5'] # NN to evaluate \n",
    "NNname = ['Brute Force','RH TNS QSAT','RH','RH TNS QSAT I','RH TNS'] # Name of NNs for plotting\n",
    "dict_lay = {'SurRadLayer':SurRadLayer,'MassConsLayer':MassConsLayer,'EntConsLayer':EntConsLayer,\n",
    "            'QV2RH':QV2RH,'T2TmTNS':T2TmTNS,'eliq':eliq,'eice':eice,'esat':esat,'qv':qv,'RH':RH,\n",
    "           'reverseInterpLayer':reverseInterpLayer,'ScaleOp':ScaleOp}"
   ]
  },
  {
   "cell_type": "code",
   "execution_count": 21,
   "metadata": {},
   "outputs": [],
   "source": [
    "# def get_data_gen(config_fn, data_fn, normalize_flag=True,nlat=64, nlon=128, nlev=30, ntime=48):\n",
    "\n",
    "#     repo_dir = os.getcwd().split('CBRAIN-CAM')[0] + 'CBRAIN-CAM/'\n",
    "#     with open(config_fn, 'r') as f:\n",
    "#         config = yaml.load(f)\n",
    "#     in_vars = ['QBP','TBP','PS', 'SOLIN', 'SHFLX', 'LHFLX', 'TS']\n",
    "#     out_vars = ['PHQ','TPHYSTND','FSNT', 'FSNS', 'FLNT', 'FLNS']\n",
    "#     TRAINFILE = 'CI_SP_M4K_WTS_train_shuffle.nc'\n",
    "#     NORMFILE = 'CI_SP_M4K_WTS_NORM_norm.nc'\n",
    "#     VALIDFILE = 'CI_SP_M4K_WTS_valid.nc'\n",
    "#     out_scale_dict = load_pickle(config['output_dict'])\n",
    "#     valid_gen = DataGeneratorClimInv(\n",
    "#     data_fn = TRAINDIR+VALIDFILE,\n",
    "#     input_vars = in_vars,\n",
    "#     output_vars = out_vars,\n",
    "#     norm_fn = TRAINDIR+NORMFILE,\n",
    "#     input_transform = ('mean', 'maxrs'),\n",
    "#     output_transform = scale_dict,\n",
    "#     batch_size=nlat*nlon,\n",
    "#     shuffle=True,\n",
    "#     #normalize_flag=True,\n",
    "#     lev=lev,\n",
    "#     hyam=hyam,hybm=hybm,\n",
    "#     inp_subRH=train_gen_RH.input_transform.sub, inp_divRH=train_gen_RH.input_transform.div,\n",
    "#     inp_subTNS=train_gen_TNS.input_transform.sub,inp_divTNS=train_gen_TNS.input_transform.div,\n",
    "#     scaling=False,\n",
    "#     interpolate=False\n",
    "# )\n",
    "#     return valid_gen"
   ]
  },
  {
   "cell_type": "markdown",
   "metadata": {},
   "source": [
    "tgb - 4/13/2020 - Update from Ankitesh"
   ]
  },
  {
   "cell_type": "code",
   "execution_count": 22,
   "metadata": {},
   "outputs": [],
   "source": [
    "def get_data_gen(config_fn, data_fn, nlat=64, nlon=128, nlev=30, ntime=48, interpolate=False):\n",
    "    repo_dir = os.getcwd().split('CBRAIN-CAM')[0] + 'CBRAIN-CAM/'\n",
    "    with open(config_fn, 'r') as f:\n",
    "        config = yaml.load(f)\n",
    "    in_vars = ['QBP','TBP','PS', 'SOLIN', 'SHFLX', 'LHFLX']\n",
    "    out_vars = ['PHQ','TPHYSTND','FSNT', 'FSNS', 'FLNT', 'FLNS']\n",
    "    TRAINFILE = 'CI_SP_M4K_WTS_train_shuffle.nc'\n",
    "    NORMFILE = 'CI_SP_M4K_WTS_NORM_norm.nc'\n",
    "    VALIDFILE = 'CI_SP_M4K_WTS_valid.nc'\n",
    "    out_scale_dict = load_pickle(config['output_dict'])\n",
    "    valid_gen = DataGeneratorClimInv(\n",
    "    data_fn = TRAINDIR+VALIDFILE,\n",
    "    input_vars = in_vars,\n",
    "    output_vars = out_vars,\n",
    "    norm_fn = TRAINDIR+NORMFILE,\n",
    "    input_transform = ('mean', 'maxrs'),\n",
    "    output_transform = scale_dict,\n",
    "    batch_size=nlat*nlon,\n",
    "    shuffle=True,\n",
    "    #normalize_flag=True,\n",
    "    lev=lev,\n",
    "    hyam=hyam,hybm=hybm,\n",
    "    inp_subRH=train_gen_RH.input_transform.sub, inp_divRH=train_gen_RH.input_transform.div,\n",
    "    inp_subTNS=train_gen_TNS.input_transform.sub,inp_divTNS=train_gen_TNS.input_transform.div,\n",
    "    scaling=False,\n",
    "    interpolate=interpolate,\n",
    "    mode='val'\n",
    ")\n",
    "#     print(valid_gen)\n",
    "#     print(valid_gen[0][0])\n",
    "    return valid_gen"
   ]
  },
  {
   "cell_type": "code",
   "execution_count": 23,
   "metadata": {},
   "outputs": [],
   "source": [
    "# Indices of different variables\n",
    "PHQ_idx = slice(0,30)\n",
    "TPHYSTND_idx = slice(30,60)"
   ]
  },
  {
   "cell_type": "markdown",
   "metadata": {},
   "source": [
    "### Create model diagnostics object"
   ]
  },
  {
   "cell_type": "code",
   "execution_count": 24,
   "metadata": {},
   "outputs": [
    {
     "name": "stdout",
     "output_type": "stream",
     "text": [
      "NN name is  CI01_BF.hdf5\n",
      "data name is  CI_SP_M4K_valid.nc\n"
     ]
    },
    {
     "name": "stderr",
     "output_type": "stream",
     "text": [
      "/oasis/scratch/comet/tbeucler/temp_project/CBRAIN-CAM/notebooks/tbeucler_devlog/cbrain/model_diagnostics.py:25: YAMLLoadWarning: calling yaml.load() without Loader=... is deprecated, as the default Loader is unsafe. Please read https://msg.pyyaml.org/load for full details.\n",
      "  config = yaml.load(f)\n"
     ]
    },
    {
     "name": "stdout",
     "output_type": "stream",
     "text": [
      "data name is  CI_SP_P4K_valid.nc\n"
     ]
    },
    {
     "name": "stderr",
     "output_type": "stream",
     "text": [
      "/oasis/scratch/comet/tbeucler/temp_project/CBRAIN-CAM/notebooks/tbeucler_devlog/cbrain/model_diagnostics.py:25: YAMLLoadWarning: calling yaml.load() without Loader=... is deprecated, as the default Loader is unsafe. Please read https://msg.pyyaml.org/load for full details.\n",
      "  config = yaml.load(f)\n"
     ]
    },
    {
     "name": "stdout",
     "output_type": "stream",
     "text": [
      "NN name is  CI01_RH_TNS_LHQsat.hdf5\n",
      "data name is  CI_SP_M4K_valid.nc\n",
      "data name is  CI_SP_P4K_valid.nc\n",
      "NN name is  CI01_RH.hdf5\n"
     ]
    },
    {
     "name": "stderr",
     "output_type": "stream",
     "text": [
      "/oasis/scratch/comet/tbeucler/temp_project/CBRAIN-CAM/notebooks/tbeucler_devlog/cbrain/model_diagnostics.py:25: YAMLLoadWarning: calling yaml.load() without Loader=... is deprecated, as the default Loader is unsafe. Please read https://msg.pyyaml.org/load for full details.\n",
      "  config = yaml.load(f)\n",
      "/home/tbeucler/pkg/miniconda3/envs/CbrainCustomLayer/lib/python3.6/site-packages/ipykernel_launcher.py:4: YAMLLoadWarning: calling yaml.load() without Loader=... is deprecated, as the default Loader is unsafe. Please read https://msg.pyyaml.org/load for full details.\n",
      "  after removing the cwd from sys.path.\n",
      "/oasis/scratch/comet/tbeucler/temp_project/CBRAIN-CAM/notebooks/tbeucler_devlog/cbrain/model_diagnostics.py:25: YAMLLoadWarning: calling yaml.load() without Loader=... is deprecated, as the default Loader is unsafe. Please read https://msg.pyyaml.org/load for full details.\n",
      "  config = yaml.load(f)\n",
      "/home/tbeucler/pkg/miniconda3/envs/CbrainCustomLayer/lib/python3.6/site-packages/ipykernel_launcher.py:4: YAMLLoadWarning: calling yaml.load() without Loader=... is deprecated, as the default Loader is unsafe. Please read https://msg.pyyaml.org/load for full details.\n",
      "  after removing the cwd from sys.path.\n"
     ]
    },
    {
     "name": "stdout",
     "output_type": "stream",
     "text": [
      "data name is  CI_SP_M4K_valid.nc\n",
      "data name is  CI_SP_P4K_valid.nc\n",
      "NN name is  CI01_RH_TNS_LHQsat_Interp.hdf5\n"
     ]
    },
    {
     "name": "stderr",
     "output_type": "stream",
     "text": [
      "/oasis/scratch/comet/tbeucler/temp_project/CBRAIN-CAM/notebooks/tbeucler_devlog/cbrain/model_diagnostics.py:25: YAMLLoadWarning: calling yaml.load() without Loader=... is deprecated, as the default Loader is unsafe. Please read https://msg.pyyaml.org/load for full details.\n",
      "  config = yaml.load(f)\n",
      "/oasis/scratch/comet/tbeucler/temp_project/CBRAIN-CAM/notebooks/tbeucler_devlog/cbrain/model_diagnostics.py:25: YAMLLoadWarning: calling yaml.load() without Loader=... is deprecated, as the default Loader is unsafe. Please read https://msg.pyyaml.org/load for full details.\n",
      "  config = yaml.load(f)\n"
     ]
    },
    {
     "name": "stdout",
     "output_type": "stream",
     "text": [
      "data name is  CI_SP_M4K_valid.nc\n",
      "data name is  CI_SP_P4K_valid.nc\n"
     ]
    },
    {
     "name": "stderr",
     "output_type": "stream",
     "text": [
      "/oasis/scratch/comet/tbeucler/temp_project/CBRAIN-CAM/notebooks/tbeucler_devlog/cbrain/model_diagnostics.py:25: YAMLLoadWarning: calling yaml.load() without Loader=... is deprecated, as the default Loader is unsafe. Please read https://msg.pyyaml.org/load for full details.\n",
      "  config = yaml.load(f)\n",
      "/home/tbeucler/pkg/miniconda3/envs/CbrainCustomLayer/lib/python3.6/site-packages/ipykernel_launcher.py:4: YAMLLoadWarning: calling yaml.load() without Loader=... is deprecated, as the default Loader is unsafe. Please read https://msg.pyyaml.org/load for full details.\n",
      "  after removing the cwd from sys.path.\n",
      "/home/tbeucler/pkg/miniconda3/envs/CbrainCustomLayer/lib/python3.6/site-packages/ipykernel_launcher.py:4: YAMLLoadWarning: calling yaml.load() without Loader=... is deprecated, as the default Loader is unsafe. Please read https://msg.pyyaml.org/load for full details.\n",
      "  after removing the cwd from sys.path.\n",
      "/oasis/scratch/comet/tbeucler/temp_project/CBRAIN-CAM/notebooks/tbeucler_devlog/cbrain/model_diagnostics.py:25: YAMLLoadWarning: calling yaml.load() without Loader=... is deprecated, as the default Loader is unsafe. Please read https://msg.pyyaml.org/load for full details.\n",
      "  config = yaml.load(f)\n",
      "/home/tbeucler/pkg/miniconda3/envs/CbrainCustomLayer/lib/python3.6/site-packages/ipykernel_launcher.py:4: YAMLLoadWarning: calling yaml.load() without Loader=... is deprecated, as the default Loader is unsafe. Please read https://msg.pyyaml.org/load for full details.\n",
      "  after removing the cwd from sys.path.\n",
      "/home/tbeucler/pkg/miniconda3/envs/CbrainCustomLayer/lib/python3.6/site-packages/ipykernel_launcher.py:4: YAMLLoadWarning: calling yaml.load() without Loader=... is deprecated, as the default Loader is unsafe. Please read https://msg.pyyaml.org/load for full details.\n",
      "  after removing the cwd from sys.path.\n"
     ]
    },
    {
     "name": "stdout",
     "output_type": "stream",
     "text": [
      "NN name is  CI01_RH_TNS.hdf5\n",
      "data name is  CI_SP_M4K_valid.nc\n",
      "data name is  CI_SP_P4K_valid.nc\n"
     ]
    },
    {
     "name": "stderr",
     "output_type": "stream",
     "text": [
      "/oasis/scratch/comet/tbeucler/temp_project/CBRAIN-CAM/notebooks/tbeucler_devlog/cbrain/model_diagnostics.py:25: YAMLLoadWarning: calling yaml.load() without Loader=... is deprecated, as the default Loader is unsafe. Please read https://msg.pyyaml.org/load for full details.\n",
      "  config = yaml.load(f)\n",
      "/oasis/scratch/comet/tbeucler/temp_project/CBRAIN-CAM/notebooks/tbeucler_devlog/cbrain/model_diagnostics.py:25: YAMLLoadWarning: calling yaml.load() without Loader=... is deprecated, as the default Loader is unsafe. Please read https://msg.pyyaml.org/load for full details.\n",
      "  config = yaml.load(f)\n"
     ]
    }
   ],
   "source": [
    "# NN = {}; md = {};\n",
    "\n",
    "# for i,NNs in enumerate(NNarray):\n",
    "#     print('NN name is ',NNs)\n",
    "#     path = path_HDF5+NNs\n",
    "#     NN[NNs] = load_model(path,custom_objects=dict_lay)\n",
    "#     md[NNs] = {}\n",
    "#     for j,data in enumerate(data_file):\n",
    "#         print('data name is ',data)\n",
    "#         ##only         \n",
    "#         md[NNs][data[6:-3]] = ModelDiagnostics(NN[NNs],\n",
    "#                                                 '/home/ankitesh/CBrain_project/PrepData/'+config_file,\n",
    "#                                                 '/oasis/scratch/comet/ankitesh/temp_project/PrepData/'+data)\n",
    "#         if 'LH' in NNs:\n",
    "#              md[NNs][data[6:-3]].valid_gen = get_data_gen('/home/ankitesh/CBrain_project/PrepData/'+config_file,\n",
    "#                                                 '/oasis/scratch/comet/ankitesh/temp_project/PrepData/'+data)\n",
    "\n",
    "NN = {}; md = {};\n",
    "for i,NNs in enumerate(NNarray):\n",
    "    print('NN name is ',NNs)\n",
    "    path = path_HDF5+NNs\n",
    "    NN[NNs] = load_model(path,custom_objects=dict_lay)\n",
    "    md[NNs] = {}\n",
    "    for j,data in enumerate(data_file):\n",
    "        print('data name is ',data)\n",
    "        ##only         \n",
    "        md[NNs][data[6:-3]] = ModelDiagnostics(NN[NNs],\n",
    "                                                '/home/ankitesh/CBrain_project/PrepData/'+config_file,\n",
    "                                                '/oasis/scratch/comet/ankitesh/temp_project/PrepData/'+data)\n",
    "        if 'LH' in NNs:\n",
    "             md[NNs][data[6:-3]].valid_gen = get_data_gen('/home/ankitesh/CBrain_project/PrepData/'+config_file,\n",
    "                                                '/oasis/scratch/comet/ankitesh/temp_project/PrepData/'+data)\n",
    "        if 'Interp' in NNs:\n",
    "             md[NNs][data[6:-3]].valid_gen = get_data_gen('/home/ankitesh/CBrain_project/PrepData/'+config_file,\n",
    "                                                '/oasis/scratch/comet/ankitesh/temp_project/PrepData/'+data, interpolate=True)"
   ]
  },
  {
   "cell_type": "markdown",
   "metadata": {},
   "source": [
    "### Accumulate predictions over time in diagnostics object"
   ]
  },
  {
   "cell_type": "code",
   "execution_count": 31,
   "metadata": {},
   "outputs": [
    {
     "name": "stdout",
     "output_type": "stream",
     "text": [
      "i= 0 & NNs= CI01_BF.hdf5          \n",
      "j= 0 & iini= 500 & data= CI_SP_M4K_valid.nc          \r"
     ]
    },
    {
     "name": "stderr",
     "output_type": "stream",
     "text": [
      "/home/tbeucler/pkg/miniconda3/envs/CbrainCustomLayer/lib/python3.6/site-packages/ipykernel_launcher.py:23: TqdmDeprecationWarning: This function will be removed in tqdm==5.0.0\n",
      "Please use `tqdm.notebook.tqdm` instead of `tqdm.tqdm_notebook`\n"
     ]
    },
    {
     "data": {
      "application/vnd.jupyter.widget-view+json": {
       "model_id": "2224399c052c4e3988bb5d47d01377cc",
       "version_major": 2,
       "version_minor": 0
      },
      "text/plain": [
       "HBox(children=(FloatProgress(value=0.0, max=47.0), HTML(value='')))"
      ]
     },
     "metadata": {},
     "output_type": "display_data"
    },
    {
     "name": "stdout",
     "output_type": "stream",
     "text": [
      "\n",
      "j= 0 & iini= 1000 & data= CI_SP_M4K_valid.nc          \r"
     ]
    },
    {
     "data": {
      "application/vnd.jupyter.widget-view+json": {
       "model_id": "df91217e71e94f28b93bdce5381d18b1",
       "version_major": 2,
       "version_minor": 0
      },
      "text/plain": [
       "HBox(children=(FloatProgress(value=0.0, max=47.0), HTML(value='')))"
      ]
     },
     "metadata": {},
     "output_type": "display_data"
    },
    {
     "name": "stdout",
     "output_type": "stream",
     "text": [
      "\n",
      "j= 0 & iini= 1500 & data= CI_SP_M4K_valid.nc          \r"
     ]
    },
    {
     "data": {
      "application/vnd.jupyter.widget-view+json": {
       "model_id": "b1962ff77a3542939e291e612e488218",
       "version_major": 2,
       "version_minor": 0
      },
      "text/plain": [
       "HBox(children=(FloatProgress(value=0.0, max=47.0), HTML(value='')))"
      ]
     },
     "metadata": {},
     "output_type": "display_data"
    },
    {
     "name": "stdout",
     "output_type": "stream",
     "text": [
      "\n",
      "j= 1 & iini= 500 & data= CI_SP_P4K_valid.nc          \r"
     ]
    },
    {
     "data": {
      "application/vnd.jupyter.widget-view+json": {
       "model_id": "42c0248749ac4b0198908a220986e12b",
       "version_major": 2,
       "version_minor": 0
      },
      "text/plain": [
       "HBox(children=(FloatProgress(value=0.0, max=47.0), HTML(value='')))"
      ]
     },
     "metadata": {},
     "output_type": "display_data"
    },
    {
     "name": "stdout",
     "output_type": "stream",
     "text": [
      "\n",
      "j= 1 & iini= 1000 & data= CI_SP_P4K_valid.nc          \r"
     ]
    },
    {
     "data": {
      "application/vnd.jupyter.widget-view+json": {
       "model_id": "56c141f7229e4f0a8d47455e102a9cb0",
       "version_major": 2,
       "version_minor": 0
      },
      "text/plain": [
       "HBox(children=(FloatProgress(value=0.0, max=47.0), HTML(value='')))"
      ]
     },
     "metadata": {},
     "output_type": "display_data"
    },
    {
     "name": "stdout",
     "output_type": "stream",
     "text": [
      "\n",
      "j= 1 & iini= 1500 & data= CI_SP_P4K_valid.nc          \r"
     ]
    },
    {
     "data": {
      "application/vnd.jupyter.widget-view+json": {
       "model_id": "84951dda35ef49939e99459d304fc56a",
       "version_major": 2,
       "version_minor": 0
      },
      "text/plain": [
       "HBox(children=(FloatProgress(value=0.0, max=47.0), HTML(value='')))"
      ]
     },
     "metadata": {},
     "output_type": "display_data"
    },
    {
     "name": "stdout",
     "output_type": "stream",
     "text": [
      "\n",
      "i= 1 & NNs= CI01_RH_TNS_LHQsat.hdf5          \n",
      "j= 0 & iini= 500 & data= CI_SP_M4K_valid.nc          \r"
     ]
    },
    {
     "data": {
      "application/vnd.jupyter.widget-view+json": {
       "model_id": "fdf131c7016941048a7faaa3117f6391",
       "version_major": 2,
       "version_minor": 0
      },
      "text/plain": [
       "HBox(children=(FloatProgress(value=0.0, max=47.0), HTML(value='')))"
      ]
     },
     "metadata": {},
     "output_type": "display_data"
    },
    {
     "name": "stdout",
     "output_type": "stream",
     "text": [
      "\n",
      "j= 0 & iini= 1000 & data= CI_SP_M4K_valid.nc          \r"
     ]
    },
    {
     "data": {
      "application/vnd.jupyter.widget-view+json": {
       "model_id": "f48917b889b04e31aa7961f284b8d0b9",
       "version_major": 2,
       "version_minor": 0
      },
      "text/plain": [
       "HBox(children=(FloatProgress(value=0.0, max=47.0), HTML(value='')))"
      ]
     },
     "metadata": {},
     "output_type": "display_data"
    },
    {
     "name": "stdout",
     "output_type": "stream",
     "text": [
      "\n",
      "j= 0 & iini= 1500 & data= CI_SP_M4K_valid.nc          \r"
     ]
    },
    {
     "data": {
      "application/vnd.jupyter.widget-view+json": {
       "model_id": "a24141eb591e4ce0aee1e96fb586076a",
       "version_major": 2,
       "version_minor": 0
      },
      "text/plain": [
       "HBox(children=(FloatProgress(value=0.0, max=47.0), HTML(value='')))"
      ]
     },
     "metadata": {},
     "output_type": "display_data"
    },
    {
     "name": "stdout",
     "output_type": "stream",
     "text": [
      "\n",
      "j= 1 & iini= 500 & data= CI_SP_P4K_valid.nc          \r"
     ]
    },
    {
     "data": {
      "application/vnd.jupyter.widget-view+json": {
       "model_id": "09f60c797fae432cb3561937c26b6662",
       "version_major": 2,
       "version_minor": 0
      },
      "text/plain": [
       "HBox(children=(FloatProgress(value=0.0, max=47.0), HTML(value='')))"
      ]
     },
     "metadata": {},
     "output_type": "display_data"
    },
    {
     "name": "stdout",
     "output_type": "stream",
     "text": [
      "\n",
      "j= 1 & iini= 1000 & data= CI_SP_P4K_valid.nc          \r"
     ]
    },
    {
     "data": {
      "application/vnd.jupyter.widget-view+json": {
       "model_id": "1018863dfd494ce9ad2b2973a907ce05",
       "version_major": 2,
       "version_minor": 0
      },
      "text/plain": [
       "HBox(children=(FloatProgress(value=0.0, max=47.0), HTML(value='')))"
      ]
     },
     "metadata": {},
     "output_type": "display_data"
    },
    {
     "name": "stdout",
     "output_type": "stream",
     "text": [
      "\n",
      "j= 1 & iini= 1500 & data= CI_SP_P4K_valid.nc          \r"
     ]
    },
    {
     "data": {
      "application/vnd.jupyter.widget-view+json": {
       "model_id": "2b68e2076fc94f329392499d22cc2eb7",
       "version_major": 2,
       "version_minor": 0
      },
      "text/plain": [
       "HBox(children=(FloatProgress(value=0.0, max=47.0), HTML(value='')))"
      ]
     },
     "metadata": {},
     "output_type": "display_data"
    },
    {
     "name": "stdout",
     "output_type": "stream",
     "text": [
      "\n",
      "i= 2 & NNs= CI01_RH.hdf5          \n",
      "j= 0 & iini= 500 & data= CI_SP_M4K_valid.nc          \r"
     ]
    },
    {
     "data": {
      "application/vnd.jupyter.widget-view+json": {
       "model_id": "6a7e1e1e591e40d49adb41afd6648a37",
       "version_major": 2,
       "version_minor": 0
      },
      "text/plain": [
       "HBox(children=(FloatProgress(value=0.0, max=47.0), HTML(value='')))"
      ]
     },
     "metadata": {},
     "output_type": "display_data"
    },
    {
     "name": "stdout",
     "output_type": "stream",
     "text": [
      "\n",
      "j= 0 & iini= 1000 & data= CI_SP_M4K_valid.nc          \r"
     ]
    },
    {
     "data": {
      "application/vnd.jupyter.widget-view+json": {
       "model_id": "8a04f333a9fa4553911817297b8a0783",
       "version_major": 2,
       "version_minor": 0
      },
      "text/plain": [
       "HBox(children=(FloatProgress(value=0.0, max=47.0), HTML(value='')))"
      ]
     },
     "metadata": {},
     "output_type": "display_data"
    },
    {
     "name": "stdout",
     "output_type": "stream",
     "text": [
      "\n",
      "j= 0 & iini= 1500 & data= CI_SP_M4K_valid.nc          \r"
     ]
    },
    {
     "data": {
      "application/vnd.jupyter.widget-view+json": {
       "model_id": "2673646f481241a1aa2c386a6983c1f0",
       "version_major": 2,
       "version_minor": 0
      },
      "text/plain": [
       "HBox(children=(FloatProgress(value=0.0, max=47.0), HTML(value='')))"
      ]
     },
     "metadata": {},
     "output_type": "display_data"
    },
    {
     "name": "stdout",
     "output_type": "stream",
     "text": [
      "\n",
      "j= 1 & iini= 500 & data= CI_SP_P4K_valid.nc          \r"
     ]
    },
    {
     "data": {
      "application/vnd.jupyter.widget-view+json": {
       "model_id": "8a070e7aa5634852bb6e926c9ad5e08a",
       "version_major": 2,
       "version_minor": 0
      },
      "text/plain": [
       "HBox(children=(FloatProgress(value=0.0, max=47.0), HTML(value='')))"
      ]
     },
     "metadata": {},
     "output_type": "display_data"
    },
    {
     "name": "stdout",
     "output_type": "stream",
     "text": [
      "\n",
      "j= 1 & iini= 1000 & data= CI_SP_P4K_valid.nc          \r"
     ]
    },
    {
     "data": {
      "application/vnd.jupyter.widget-view+json": {
       "model_id": "a91dae25992d4798a5bc47b41218ac34",
       "version_major": 2,
       "version_minor": 0
      },
      "text/plain": [
       "HBox(children=(FloatProgress(value=0.0, max=47.0), HTML(value='')))"
      ]
     },
     "metadata": {},
     "output_type": "display_data"
    },
    {
     "name": "stdout",
     "output_type": "stream",
     "text": [
      "\n",
      "j= 1 & iini= 1500 & data= CI_SP_P4K_valid.nc          \r"
     ]
    },
    {
     "data": {
      "application/vnd.jupyter.widget-view+json": {
       "model_id": "2b15118a6de4437a94acc5437c6f8ba7",
       "version_major": 2,
       "version_minor": 0
      },
      "text/plain": [
       "HBox(children=(FloatProgress(value=0.0, max=47.0), HTML(value='')))"
      ]
     },
     "metadata": {},
     "output_type": "display_data"
    },
    {
     "name": "stdout",
     "output_type": "stream",
     "text": [
      "\n",
      "i= 3 & NNs= CI01_RH_TNS_LHQsat_Interp.hdf5          \n",
      "j= 0 & iini= 500 & data= CI_SP_M4K_valid.nc          \r"
     ]
    },
    {
     "data": {
      "application/vnd.jupyter.widget-view+json": {
       "model_id": "1c85d9db19644f0ca01e5cf37cc3c7dd",
       "version_major": 2,
       "version_minor": 0
      },
      "text/plain": [
       "HBox(children=(FloatProgress(value=0.0, max=47.0), HTML(value='')))"
      ]
     },
     "metadata": {},
     "output_type": "display_data"
    },
    {
     "name": "stdout",
     "output_type": "stream",
     "text": [
      "\n",
      "j= 0 & iini= 1000 & data= CI_SP_M4K_valid.nc          \r"
     ]
    },
    {
     "data": {
      "application/vnd.jupyter.widget-view+json": {
       "model_id": "7f04eb7bef6e403d891b0ba9a4b7d8d7",
       "version_major": 2,
       "version_minor": 0
      },
      "text/plain": [
       "HBox(children=(FloatProgress(value=0.0, max=47.0), HTML(value='')))"
      ]
     },
     "metadata": {},
     "output_type": "display_data"
    },
    {
     "name": "stdout",
     "output_type": "stream",
     "text": [
      "\n",
      "j= 0 & iini= 1500 & data= CI_SP_M4K_valid.nc          \r"
     ]
    },
    {
     "data": {
      "application/vnd.jupyter.widget-view+json": {
       "model_id": "e23ffba2d0aa4eadbd009fc91821ab51",
       "version_major": 2,
       "version_minor": 0
      },
      "text/plain": [
       "HBox(children=(FloatProgress(value=0.0, max=47.0), HTML(value='')))"
      ]
     },
     "metadata": {},
     "output_type": "display_data"
    },
    {
     "name": "stdout",
     "output_type": "stream",
     "text": [
      "\n",
      "j= 1 & iini= 500 & data= CI_SP_P4K_valid.nc          \r"
     ]
    },
    {
     "data": {
      "application/vnd.jupyter.widget-view+json": {
       "model_id": "4d0f3910b29746d49bef969fe0d6bc74",
       "version_major": 2,
       "version_minor": 0
      },
      "text/plain": [
       "HBox(children=(FloatProgress(value=0.0, max=47.0), HTML(value='')))"
      ]
     },
     "metadata": {},
     "output_type": "display_data"
    },
    {
     "name": "stdout",
     "output_type": "stream",
     "text": [
      "\n",
      "j= 1 & iini= 1000 & data= CI_SP_P4K_valid.nc          \r"
     ]
    },
    {
     "data": {
      "application/vnd.jupyter.widget-view+json": {
       "model_id": "6014261907c54244b7354a2760aa21a0",
       "version_major": 2,
       "version_minor": 0
      },
      "text/plain": [
       "HBox(children=(FloatProgress(value=0.0, max=47.0), HTML(value='')))"
      ]
     },
     "metadata": {},
     "output_type": "display_data"
    },
    {
     "name": "stdout",
     "output_type": "stream",
     "text": [
      "\n",
      "j= 1 & iini= 1500 & data= CI_SP_P4K_valid.nc          \r"
     ]
    },
    {
     "data": {
      "application/vnd.jupyter.widget-view+json": {
       "model_id": "2e44f3d72b5e41448697bc2d26652dad",
       "version_major": 2,
       "version_minor": 0
      },
      "text/plain": [
       "HBox(children=(FloatProgress(value=0.0, max=47.0), HTML(value='')))"
      ]
     },
     "metadata": {},
     "output_type": "display_data"
    },
    {
     "name": "stdout",
     "output_type": "stream",
     "text": [
      "\n",
      "i= 4 & NNs= CI01_RH_TNS.hdf5          \n",
      "j= 0 & iini= 500 & data= CI_SP_M4K_valid.nc          \r"
     ]
    },
    {
     "data": {
      "application/vnd.jupyter.widget-view+json": {
       "model_id": "be2b1ff2a49545c59352d02e1b04f606",
       "version_major": 2,
       "version_minor": 0
      },
      "text/plain": [
       "HBox(children=(FloatProgress(value=0.0, max=47.0), HTML(value='')))"
      ]
     },
     "metadata": {},
     "output_type": "display_data"
    },
    {
     "name": "stdout",
     "output_type": "stream",
     "text": [
      "\n",
      "j= 0 & iini= 1000 & data= CI_SP_M4K_valid.nc          \r"
     ]
    },
    {
     "data": {
      "application/vnd.jupyter.widget-view+json": {
       "model_id": "11350e8f686c442ba746545284192fc4",
       "version_major": 2,
       "version_minor": 0
      },
      "text/plain": [
       "HBox(children=(FloatProgress(value=0.0, max=47.0), HTML(value='')))"
      ]
     },
     "metadata": {},
     "output_type": "display_data"
    },
    {
     "name": "stdout",
     "output_type": "stream",
     "text": [
      "\n",
      "j= 0 & iini= 1500 & data= CI_SP_M4K_valid.nc          \r"
     ]
    },
    {
     "data": {
      "application/vnd.jupyter.widget-view+json": {
       "model_id": "4362ca54c4394bfa95e735b5cafae4ef",
       "version_major": 2,
       "version_minor": 0
      },
      "text/plain": [
       "HBox(children=(FloatProgress(value=0.0, max=47.0), HTML(value='')))"
      ]
     },
     "metadata": {},
     "output_type": "display_data"
    },
    {
     "name": "stdout",
     "output_type": "stream",
     "text": [
      "\n",
      "j= 1 & iini= 500 & data= CI_SP_P4K_valid.nc          \r"
     ]
    },
    {
     "data": {
      "application/vnd.jupyter.widget-view+json": {
       "model_id": "4f965ec5331c4d68b5677c9422e9af57",
       "version_major": 2,
       "version_minor": 0
      },
      "text/plain": [
       "HBox(children=(FloatProgress(value=0.0, max=47.0), HTML(value='')))"
      ]
     },
     "metadata": {},
     "output_type": "display_data"
    },
    {
     "name": "stdout",
     "output_type": "stream",
     "text": [
      "\n",
      "j= 1 & iini= 1000 & data= CI_SP_P4K_valid.nc          \r"
     ]
    },
    {
     "data": {
      "application/vnd.jupyter.widget-view+json": {
       "model_id": "7399ea586f7f4fc4b1ec85b28836fb49",
       "version_major": 2,
       "version_minor": 0
      },
      "text/plain": [
       "HBox(children=(FloatProgress(value=0.0, max=47.0), HTML(value='')))"
      ]
     },
     "metadata": {},
     "output_type": "display_data"
    },
    {
     "name": "stdout",
     "output_type": "stream",
     "text": [
      "\n",
      "j= 1 & iini= 1500 & data= CI_SP_P4K_valid.nc          \r"
     ]
    },
    {
     "data": {
      "application/vnd.jupyter.widget-view+json": {
       "model_id": "370e31e8244046bebf840e7561dc9ef9",
       "version_major": 2,
       "version_minor": 0
      },
      "text/plain": [
       "HBox(children=(FloatProgress(value=0.0, max=47.0), HTML(value='')))"
      ]
     },
     "metadata": {},
     "output_type": "display_data"
    },
    {
     "name": "stdout",
     "output_type": "stream",
     "text": [
      "\n"
     ]
    }
   ],
   "source": [
    "lat_ind = np.arange(26,40)\n",
    "# lat_ind = np.arange(57,64)\n",
    "\n",
    "# e.g. slices of (0,7), (14,20) and (57,64)?\n",
    "iinis = [500,1000,1500]\n",
    "# iini = 414 # Initial time to sample\n",
    "# iend = iini+47 # One day later\n",
    "diagno = {} # Diagnostics structure\n",
    "diagno['truth'] = {} # Diagnostics structure for the truth\n",
    "for i,NNs in enumerate(NNarray):\n",
    "    print('i=',i,'& NNs=',NNs,'         ')\n",
    "    diagno[NNs] = {} # Diagnostics structure for each NN\n",
    "    for j,data in enumerate(data_file):\n",
    "        diagno[NNs][data[6:-3]]={}\n",
    "        if i==0: diagno['truth'][data[6:-3]]={}\n",
    "        for iini in iinis:\n",
    "            \n",
    "            print('j=',j,'& iini=',iini,'& data=',data,'         ',end='\\r'),\n",
    "            \n",
    "            iend = iini+47\n",
    "            diagno[NNs][data[6:-3]][iini] = {} # Diagnostics structure for each data file\n",
    "            if i==0: diagno['truth'][data[6:-3]][iini] = {}\n",
    "            for itime in tqdm(np.arange(iini,iend)):\n",
    "                # Get input, prediction and truth from NN\n",
    "                inp, p, truth = md[NNs][data[6:-3]].get_inp_pred_truth(itime)  # [lat, lon, var, lev]\n",
    "                p = np.array(p)\n",
    "                # Get convective heating and moistening for each NN\n",
    "                if itime==iini:\n",
    "                    if i==0:\n",
    "                        diagno['truth'][data[6:-3]][iini]['PHQ'] = md[NNs][data[6:-3]].reshape_ngeo(truth[:,PHQ_idx])[lat_ind,:,:,np.newaxis]\n",
    "                        diagno['truth'][data[6:-3]][iini]['TPHYSTND'] = md[NNs][data[6:-3]].reshape_ngeo(truth[:,TPHYSTND_idx])[lat_ind,:,:,np.newaxis]\n",
    "\n",
    "                    diagno[NNs][data[6:-3]][iini]['PHQ'] = md[NNs][data[6:-3]].reshape_ngeo(p[:,PHQ_idx])[lat_ind,:,:,np.newaxis]\n",
    "                    diagno[NNs][data[6:-3]][iini]['TPHYSTND'] = md[NNs][data[6:-3]].reshape_ngeo(p[:,TPHYSTND_idx])[lat_ind,:,:,np.newaxis]\n",
    "                else:\n",
    "                    for istr,field in enumerate(['PHQ','TPHYSTND']):\n",
    "                        if field=='PHQ': ind_field = PHQ_idx\n",
    "                        elif field=='TPHYSTND': ind_field = TPHYSTND_idx\n",
    "                        diagno[NNs][data[6:-3]][iini][field] = np.concatenate((diagno[NNs][data[6:-3]][iini][field],\n",
    "                                                             md[NNs][data[6:-3]].\\\n",
    "                                                             reshape_ngeo(p[:,ind_field])[lat_ind,:,:,np.newaxis]),\n",
    "                                                            axis=3)\n",
    "                        if i==0:\n",
    "                            diagno['truth'][data[6:-3]][iini][field] = np.concatenate((diagno['truth'][data[6:-3]][iini][field],\n",
    "                                                                     md[NNs][data[6:-3]].\\\n",
    "                                                                     reshape_ngeo(truth[:,ind_field])[lat_ind,:,:,np.newaxis]),\n",
    "                                                                    axis=3)\n"
   ]
  },
  {
   "cell_type": "code",
   "execution_count": 27,
   "metadata": {},
   "outputs": [],
   "source": [
    "fz = 20\n",
    "lw = 4\n",
    "\n",
    "plt.rc('text', usetex=False)\n",
    "mpl.rcParams['mathtext.fontset'] = 'stix'\n",
    "mpl.rcParams['font.family'] = 'STIXGeneral'\n",
    "plt.rc('font', family='serif', size=fz)\n",
    "mpl.rcParams['lines.linewidth'] = lw\n",
    "plt.close('all')"
   ]
  },
  {
   "cell_type": "markdown",
   "metadata": {},
   "source": [
    "Test"
   ]
  },
  {
   "cell_type": "code",
   "execution_count": 34,
   "metadata": {},
   "outputs": [
    {
     "data": {
      "image/png": "[encoded data removed]",
      "text/plain": [
       "<Figure size 1080x540 with 2 Axes>"
      ]
     },
     "metadata": {
      "needs_background": "light"
     },
     "output_type": "display_data"
    }
   ],
   "source": [
    "data = 'P4K_valid'\n",
    "plt.figure(figsize=(15,7.5))\n",
    "iini = iinis[2]\n",
    "plt.subplot(1,2,1)\n",
    "plt.axvline(x=0,c='lightgray')\n",
    "for iNN,NNs in enumerate(NNarray):\n",
    "    plt.plot(np.mean(diagno[NNs][data][iini]['PHQ'],axis=(0,1,3)),lev,label=NNname[iNN])\n",
    "plt.plot(np.mean(diagno['truth'][data][iini]['PHQ'],axis=(0,1,3)),lev,label='Truth',color='k')\n",
    "plt.legend(loc=\"upper left\")\n",
    "plt.xlabel('Convective moistening ($\\mathrm{W\\ m^{-2}}$)')\n",
    "plt.ylabel('Pressure (hPa)')\n",
    "plt.gca().invert_yaxis()\n",
    "plt.title('data= '+data+' '+ '--- iini = '+str(iini))\n",
    "\n",
    "\n",
    "plt.subplot(1,2,2)\n",
    "plt.axvline(x=0,c='lightgray')\n",
    "for iNN,NNs in enumerate(NNarray):\n",
    "    plt.plot(np.mean(diagno[NNs][data][iini]['TPHYSTND'],axis=(0,1,3)),lev,label=NNname[iNN])\n",
    "plt.plot(np.mean(diagno['truth'][data][iini]['TPHYSTND'],axis=(0,1,3)),lev,label='Truth',color='k')\n",
    "plt.legend(loc=\"upper left\")\n",
    "plt.xlabel('Convective heating ($\\mathrm{W\\ m^{-2}}$)')\n",
    "plt.title('data= '+data+' '+ '--- iini = '+str(iini))\n",
    "plt.gca().invert_yaxis()"
   ]
  },
  {
   "cell_type": "markdown",
   "metadata": {},
   "source": [
    "### Hierarchy figures"
   ]
  },
  {
   "cell_type": "markdown",
   "metadata": {},
   "source": [
    "Truth M4"
   ]
  },
  {
   "cell_type": "code",
   "execution_count": 41,
   "metadata": {},
   "outputs": [],
   "source": [
    "fz = 40\n",
    "lw = 8\n",
    "\n",
    "plt.rc('text', usetex=False)\n",
    "mpl.rcParams['mathtext.fontset'] = 'stix'\n",
    "mpl.rcParams['font.family'] = 'STIXGeneral'\n",
    "plt.rc('font', family='serif', size=fz)\n",
    "mpl.rcParams['lines.linewidth'] = lw\n",
    "plt.close('all')"
   ]
  },
  {
   "cell_type": "code",
   "execution_count": 45,
   "metadata": {},
   "outputs": [
    {
     "data": {
      "text/plain": [
       "['CI01_BF.hdf5',\n",
       " 'CI01_RH_TNS_LHQsat.hdf5',\n",
       " 'CI01_RH.hdf5',\n",
       " 'CI01_RH_TNS_LHQsat_Interp.hdf5',\n",
       " 'CI01_RH_TNS.hdf5']"
      ]
     },
     "execution_count": 45,
     "metadata": {},
     "output_type": "execute_result"
    }
   ],
   "source": [
    "NNarray"
   ]
  },
  {
   "cell_type": "code",
   "execution_count": 46,
   "metadata": {},
   "outputs": [
    {
     "data": {
      "text/plain": [
       "['Brute Force', 'RH TNS QSAT', 'RH', 'RH TNS QSAT I', 'RH TNS']"
      ]
     },
     "execution_count": 46,
     "metadata": {},
     "output_type": "execute_result"
    }
   ],
   "source": [
    "NNname"
   ]
  },
  {
   "cell_type": "code",
   "execution_count": 68,
   "metadata": {},
   "outputs": [],
   "source": [
    "prop_cycle = plt.rcParams['axes.prop_cycle']\n",
    "colors = prop_cycle.by_key()['color']"
   ]
  },
  {
   "cell_type": "code",
   "execution_count": 76,
   "metadata": {},
   "outputs": [
    {
     "data": {
      "image/png": "[encoded data removed]",
      "text/plain": [
       "<Figure size 1440x720 with 2 Axes>"
      ]
     },
     "metadata": {
      "needs_background": "light"
     },
     "output_type": "display_data"
    }
   ],
   "source": [
    "NNa = ['CI01_RH_TNS_LHQsat.hdf5','CI01_RH_TNS_LHQsat_Interp.hdf5']\n",
    "NNn = ['Scaled LHF','Interpolation']\n",
    "COL = [colors[3],colors[4]]\n",
    "\n",
    "data = 'P4K_valid'\n",
    "plt.figure(figsize=(20,10))\n",
    "iini = iinis[1]\n",
    "plt.subplot(1,2,1)\n",
    "plt.axvline(x=0,c='lightgray')\n",
    "for iNN,NNs in enumerate(NNa):\n",
    "    plt.plot(np.mean(diagno[NNs][data][iini]['PHQ'],axis=(0,1,3)),lev,label=NNn[iNN],color=COL[iNN])\n",
    "plt.plot(np.mean(diagno['truth'][data][iini]['PHQ'],axis=(0,1,3)),lev,color='k')\n",
    "plt.legend(loc=\"upper left\")\n",
    "plt.xlabel('Moistening ($\\mathrm{W\\ m^{-2}}$)')\n",
    "plt.ylabel('Pressure (hPa)')\n",
    "plt.gca().invert_yaxis()\n",
    "\n",
    "plt.subplot(1,2,2)\n",
    "plt.axvline(x=0,c='lightgray')\n",
    "for iNN,NNs in enumerate(NNa):\n",
    "    plt.plot(np.mean(diagno[NNs][data][iini]['TPHYSTND'],axis=(0,1,3)),lev,label=NNn[iNN],color=COL[iNN])\n",
    "plt.plot(np.mean(diagno['truth'][data][iini]['TPHYSTND'],axis=(0,1,3)),lev,label='Truth',color='k')\n",
    "plt.xlabel('Heating ($\\mathrm{W\\ m^{-2}}$)')\n",
    "plt.gca().get_yaxis().set_ticks([])\n",
    "plt.gca().invert_yaxis()"
   ]
  },
  {
   "cell_type": "code",
   "execution_count": null,
   "metadata": {},
   "outputs": [],
   "source": []
  }
 ],
 "metadata": {
  "kernelspec": {
   "display_name": "Python 3",
   "language": "python",
   "name": "python3"
  },
  "language_info": {
   "codemirror_mode": {
    "name": "ipython",
    "version": 3
   },
   "file_extension": ".py",
   "mimetype": "text/x-python",
   "name": "python",
   "nbconvert_exporter": "python",
   "pygments_lexer": "ipython3",
   "version": "3.6.10"
  },
  "toc": {
   "base_numbering": 1,
   "nav_menu": {},
   "number_sections": true,
   "sideBar": true,
   "skip_h1_title": false,
   "title_cell": "Table of Contents",
   "title_sidebar": "Contents",
   "toc_cell": false,
   "toc_position": {
    "height": "calc(100% - 180px)",
    "left": "10px",
    "top": "150px",
    "width": "303.837px"
   },
   "toc_section_display": true,
   "toc_window_display": true
  }
 },
 "nbformat": 4,
 "nbformat_minor": 2
}
