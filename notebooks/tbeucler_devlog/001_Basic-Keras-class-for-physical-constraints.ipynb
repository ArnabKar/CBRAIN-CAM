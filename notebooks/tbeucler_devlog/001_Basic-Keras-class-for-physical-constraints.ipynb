{
 "cells": [
  {
   "cell_type": "markdown",
   "metadata": {},
   "source": [
    "## 1) Preprocess all the necessary variables\n",
    "### 1.1) Build feature, target and initial normalization files"
   ]
  },
  {
   "cell_type": "code",
   "execution_count": 1,
   "metadata": {},
   "outputs": [
    {
     "name": "stderr",
     "output_type": "stream",
     "text": [
      "Using TensorFlow backend.\n",
      "/home/t/Tom.Beucler/miniconda3/lib/python3.6/importlib/_bootstrap.py:219: RuntimeWarning: compiletime version 3.5 of module 'tensorflow.python.framework.fast_tensor_util' does not match runtime version 3.6\n",
      "  return f(*args, **kwds)\n"
     ]
    }
   ],
   "source": [
    "#!ln -s /filer/z-sv-pool12c/t/Tom.Beucler/SPCAM/CBRAIN-CAM/cbrain \\\n",
    "#/filer/z-sv-pool12c/t/Tom.Beucler/SPCAM/CBRAIN-CAM/notebooks/tbeucler_devlog/cbrain\n",
    "from cbrain.imports import *\n",
    "from cbrain.data_generator import *\n",
    "from cbrain.utils import limit_mem\n",
    "import tensorflow as tf\n",
    "# Otherwise tensorflow will use ALL your GPU RAM for no reason\n",
    "limit_mem()"
   ]
  },
  {
   "cell_type": "code",
   "execution_count": 2,
   "metadata": {},
   "outputs": [
    {
     "name": "stdout",
     "output_type": "stream",
     "text": [
      "/filer/z-sv-pool12c/t/Tom.Beucler/SPCAM/CBRAIN-CAM\n"
     ]
    }
   ],
   "source": [
    "%cd /filer/z-sv-pool12c/t/Tom.Beucler/SPCAM/CBRAIN-CAM"
   ]
  },
  {
   "cell_type": "code",
   "execution_count": 3,
   "metadata": {},
   "outputs": [
    {
     "data": {
      "text/plain": [
       "<xarray.DataArray 'PS' ()>\n",
       "array(98098.07, dtype=float32)"
      ]
     },
     "execution_count": 3,
     "metadata": {},
     "output_type": "execute_result"
    }
   ],
   "source": [
    "DATADIR = '/project/meteo/w2w/A6/S.Rasp/SP-CAM/sp32fbp_andkua/'\n",
    "import xarray as xr\n",
    "ds = xr.open_dataset(DATADIR + 'AndKua_aqua_SPCAM3.0_sp_fbp32.cam2.h1.0000-01-01-00000.nc', \n",
    "                     decode_times=False)\n",
    "ds.PS.mean(dim=['time','lon','lat'])"
   ]
  },
  {
   "cell_type": "code",
   "execution_count": 4,
   "metadata": {},
   "outputs": [
    {
     "name": "stdout",
     "output_type": "stream",
     "text": [
      "GitPython not found. Please install for better reproducibility.\n",
      "Time checkpoint reading data: 2.07 s\n",
      "Number of time steps: 576\n",
      "Cut time steps: [ 47  95 143 191 239 287 335 383 431 479 527]\n",
      "Cut time steps: [ 47  95 143 191 239 287 335 383 431 479 527]\n",
      "Time checkpoint create datasets: 2.15 s\n",
      "Time checkpoint reshape and rechunk: 6.38 s\n",
      "Compute means and stds\n",
      "Saving normalization file: /local/Tom.Beucler/SPCAM_PHYS/32_col_mp_3d_train_norm.nc\n",
      "Time checkpoint normalization arrays: 86.04 s\n",
      "Time checkpoint rechunk and ds: 86.64 s\n",
      "Save features: /local/Tom.Beucler/SPCAM_PHYS/32_col_mp_3d_train_features.nc\n",
      "Save targets: /local/Tom.Beucler/SPCAM_PHYS/32_col_mp_3d_train_targets.nc\n",
      "Total time: 122.43 s\n"
     ]
    }
   ],
   "source": [
    "!python cbrain/Test01_preprocess_aqua.py \\\n",
    "--config pp_config/32col_mp_ref_tbeucler_local.yml \\\n",
    "--aqua_names '*.h1.0000-*-01-*' \\\n",
    "--out_pref 32_col_mp_3d_train"
   ]
  },
  {
   "cell_type": "code",
   "execution_count": 7,
   "metadata": {},
   "outputs": [],
   "source": [
    "TRAINDIR = '/local/Tom.Beucler/SPCAM_PHYS/'"
   ]
  },
  {
   "cell_type": "code",
   "execution_count": 24,
   "metadata": {},
   "outputs": [
    {
     "name": "stdout",
     "output_type": "stream",
     "text": [
      "32_col_mp_3d_train_features.nc\t32_col_mp_3d_train_shuffle_features.nc\n",
      "32_col_mp_3d_train_norm.nc\t32_col_mp_3d_train_shuffle_targets.nc\n",
      "32_col_mp_3d_train_oldnorm.nc\t32_col_mp_3d_train_targets.nc\n",
      "/data/Tom.Beucler/SPCAM_PHYS\n",
      "/data/Tom.Beucler/SPCAM_PHYS\n"
     ]
    }
   ],
   "source": [
    "!ls $TRAINDIR\n",
    "%cd $TRAINDIR\n",
    "!pwd\n",
    "#!rm 32_col*"
   ]
  },
  {
   "cell_type": "markdown",
   "metadata": {},
   "source": [
    "### 1.2) Shuffle the data\n",
    "tgb - 1/16/2019 - Adapted from Stephan's entire worlflow for 32 column run"
   ]
  },
  {
   "cell_type": "code",
   "execution_count": 7,
   "metadata": {},
   "outputs": [
    {
     "name": "stdout",
     "output_type": "stream",
     "text": [
      "/filer/z-sv-pool12c/t/Tom.Beucler/SPCAM/CBRAIN-CAM\n",
      "usage: shuffle_ds.py [-h] [--method METHOD] [--pref PREF]\n",
      "                     [--random_seed RANDOM_SEED] [--chunk_size CHUNK_SIZE]\n",
      "                     [--verbose VERBOSE]\n",
      "\n",
      "optional arguments:\n",
      "  -h, --help            show this help message and exit\n",
      "  --method METHOD       [Meticulous or fast]\n",
      "  --pref PREF           Prefix. ie without the _features.nc\n",
      "  --random_seed RANDOM_SEED\n",
      "                        Random seed for shuffling of data.\n",
      "  --chunk_size CHUNK_SIZE\n",
      "                        Size of chunks for fast method\n",
      "  --verbose VERBOSE     Verbosity level\n"
     ]
    }
   ],
   "source": [
    "%cd /filer/z-sv-pool12c/t/Tom.Beucler/SPCAM/CBRAIN-CAM\n",
    "!python cbrain/shuffle_ds.py -h"
   ]
  },
  {
   "cell_type": "code",
   "execution_count": 8,
   "metadata": {},
   "outputs": [
    {
     "name": "stdout",
     "output_type": "stream",
     "text": [
      "Reading files: /local/Tom.Beucler/SPCAM_PHYS//32_col_mp_3d_train_features.nc /local/Tom.Beucler/SPCAM_PHYS//32_col_mp_3d_train_targets.nc\n",
      "Creating files: /local/Tom.Beucler/SPCAM_PHYS//32_col_mp_3d_train_shuffle_features.nc /local/Tom.Beucler/SPCAM_PHYS//32_col_mp_3d_train_shuffle_targets.nc\n",
      "GitPython not found. Please install for better reproducibility.\n",
      "GitPython not found. Please install for better reproducibility.\n",
      "100%|█████████████████████████████████████████████| 1/1 [00:10<00:00, 10.16s/it]\n"
     ]
    }
   ],
   "source": [
    "!python cbrain/shuffle_ds.py --pref $TRAINDIR/32_col_mp_3d_train"
   ]
  },
  {
   "cell_type": "markdown",
   "metadata": {},
   "source": [
    "### 1.3) Change the output's normalization using pressure levels\n",
    "#### Step 0: Load the file using xarray"
   ]
  },
  {
   "cell_type": "code",
   "execution_count": 9,
   "metadata": {},
   "outputs": [],
   "source": [
    "import xarray as xr\n",
    "ds.close()\n",
    "ds = xr.open_dataset(TRAINDIR + '32_col_mp_3d_train_norm.nc')"
   ]
  },
  {
   "cell_type": "code",
   "execution_count": 10,
   "metadata": {
    "scrolled": true
   },
   "outputs": [
    {
     "data": {
      "text/plain": [
       "<xarray.DataArray 'target_conv' (target_lev: 125)>\n",
       "array([2.550438e+05, 2.550438e+05, 2.550438e+05, 2.550438e+05, 2.550438e+05,\n",
       "       2.550438e+05, 2.550438e+05, 2.550438e+05, 2.550438e+05, 2.550438e+05,\n",
       "       2.550438e+05, 2.550438e+05, 2.550438e+05, 2.550438e+05, 2.550438e+05,\n",
       "       2.550438e+05, 2.550438e+05, 2.550438e+05, 2.550438e+05, 2.550438e+05,\n",
       "       2.550438e+05, 2.550438e+05, 2.550438e+05, 2.550438e+05, 2.550438e+05,\n",
       "       2.550438e+05, 2.550438e+05, 2.550438e+05, 2.550438e+05, 2.550438e+05,\n",
       "       2.550438e+05, 2.550438e+05, 2.550438e+05, 2.550438e+05, 2.550438e+05,\n",
       "       2.550438e+05, 2.550438e+05, 2.550438e+05, 2.550438e+05, 2.550438e+05,\n",
       "       2.550438e+05, 2.550438e+05, 2.550438e+05, 2.550438e+05, 2.550438e+05,\n",
       "       2.550438e+05, 2.550438e+05, 2.550438e+05, 2.550438e+05, 2.550438e+05,\n",
       "       2.550438e+05, 2.550438e+05, 2.550438e+05, 2.550438e+05, 2.550438e+05,\n",
       "       2.550438e+05, 2.550438e+05, 2.550438e+05, 2.550438e+05, 2.550438e+05,\n",
       "       2.550438e+05, 2.550438e+05, 2.550438e+05, 2.550438e+05, 2.550438e+05,\n",
       "       2.550438e+05, 2.550438e+05, 2.550438e+05, 2.550438e+05, 2.550438e+05,\n",
       "       2.550438e+05, 2.550438e+05, 2.550438e+05, 2.550438e+05, 2.550438e+05,\n",
       "       2.550438e+05, 2.550438e+05, 2.550438e+05, 2.550438e+05, 2.550438e+05,\n",
       "       2.550438e+05, 2.550438e+05, 2.550438e+05, 2.550438e+05, 2.550438e+05,\n",
       "       2.550438e+05, 2.550438e+05, 2.550438e+05, 2.550438e+05, 2.550438e+05,\n",
       "       1.024499e+02, 1.024499e+02, 1.024499e+02, 1.024499e+02, 1.024499e+02,\n",
       "       1.024499e+02, 1.024499e+02, 1.024499e+02, 1.024499e+02, 1.024499e+02,\n",
       "       1.024499e+02, 1.024499e+02, 1.024499e+02, 1.024499e+02, 1.024499e+02,\n",
       "       1.024499e+02, 1.024499e+02, 1.024499e+02, 1.024499e+02, 1.024499e+02,\n",
       "       1.024499e+02, 1.024499e+02, 1.024499e+02, 1.024499e+02, 1.024499e+02,\n",
       "       1.024499e+02, 1.024499e+02, 1.024499e+02, 1.024499e+02, 1.024499e+02,\n",
       "       1.000000e+00, 1.000000e+00, 1.000000e+00, 1.000000e+00, 2.501000e+09],\n",
       "      dtype=float32)\n",
       "Coordinates:\n",
       "  * target_lev  (target_lev) int64 0 1 2 3 4 5 6 ... 118 119 120 121 122 123 124"
      ]
     },
     "execution_count": 10,
     "metadata": {},
     "output_type": "execute_result"
    }
   ],
   "source": [
    "ds.target_conv\n"
   ]
  },
  {
   "cell_type": "markdown",
   "metadata": {},
   "source": [
    "#### Step 1: Check already existing normalizations\n",
    "$$\n",
    "\\left(\\frac{dq_{v,l,i}}{dt}\\right)\\rightarrow\\frac{L_{v}}{g}\\ \\left(\\mathrm{Missing}\\ \\Delta p\\right)\n",
    "$$\n",
    "$$\n",
    "\\left(\\frac{dT}{dt}\\right)\\rightarrow\\frac{c_{p}}{g}\\ \\left(\\mathrm{Missing\\ }\\Delta p\\right)\n",
    "$$\n",
    "$$\n",
    "{\\cal F}_{\\mathrm{rad}}\\rightarrow1\\ \\left(\\mathrm{All\\ good}\\right)\n",
    "$$\n",
    "$$\n",
    "\\mathrm{Precip}_{{\\cal V}}\\rightarrow\\rho L_{v}\\ \\left(\\mathrm{All\\ good}\\right)\n",
    "$$\n",
    "We need to multiply the first (4 variables) * (30 levels) by the vector delta_p (level)\n"
   ]
  },
  {
   "cell_type": "markdown",
   "metadata": {},
   "source": [
    "#### Step 2: Calculate differential pressure for each level"
   ]
  },
  {
   "cell_type": "code",
   "execution_count": 11,
   "metadata": {},
   "outputs": [
    {
     "data": {
      "text/plain": [
       "array([ 277.64523402,  512.62555644,  839.73696455, 1211.38058603,\n",
       "       1519.8353678 , 1745.60062587, 1737.79353499, 1423.96241426,\n",
       "       1675.21685362, 1970.80597281, 2318.55362654, 2727.6545763 ,\n",
       "       3208.94680917, 3775.1596421 , 4441.27991796, 5224.93720055,\n",
       "       6146.86310291, 7231.4709425 , 8507.44917989, 8510.85484028,\n",
       "       7811.29226089, 6591.71789885, 4899.05960858, 2836.21996641,\n",
       "       2660.87651253, 2463.98309246, 2246.78721279, 2010.62900014,\n",
       "       1757.35657103, 1488.78097534])"
      ]
     },
     "execution_count": 11,
     "metadata": {},
     "output_type": "execute_result"
    }
   ],
   "source": [
    "# 1.1 Open the pickle files containing the pressure converters\n",
    "with open(os.path.join('/filer/z-sv-pool12c/t/Tom.Beucler/SPCAM/CBRAIN-CAM/cbrain', 'hyai_hybi.pkl'), 'rb') as f:\n",
    "            hyai, hybi = pickle.load(f)\n",
    "# 1.2 Takes representative value for PS since purpose is normalization\n",
    "PS = 1e5; P0 = 1e5;\n",
    "P = P0*hyai+PS*hybi; # Total pressure [Pa]\n",
    "dP = P[1:]-P[:-1]; # Differential pressure [Pa]\n",
    "dP"
   ]
  },
  {
   "cell_type": "markdown",
   "metadata": {},
   "source": [
    "#### Step 3: Multiply Q/T tendency components of the norm. vector by dp"
   ]
  },
  {
   "cell_type": "code",
   "execution_count": 12,
   "metadata": {},
   "outputs": [],
   "source": [
    "import numpy as np\n",
    "\n",
    "ds.target_conv[:120] = np.multiply(ds.target_conv[:120],np.concatenate((dP,dP,dP,dP)))"
   ]
  },
  {
   "cell_type": "code",
   "execution_count": 13,
   "metadata": {},
   "outputs": [
    {
     "data": {
      "text/plain": [
       "<xarray.DataArray 'target_conv' (target_lev: 125)>\n",
       "array([7.081169e+07, 1.307420e+08, 2.141697e+08, 3.089551e+08, 3.876245e+08,\n",
       "       4.452045e+08, 4.432134e+08, 3.631727e+08, 4.272536e+08, 5.026418e+08,\n",
       "       5.913327e+08, 6.956713e+08, 8.184219e+08, 9.628309e+08, 1.132721e+09,\n",
       "       1.332588e+09, 1.567719e+09, 1.844342e+09, 2.169772e+09, 2.170640e+09,\n",
       "       1.992221e+09, 1.681177e+09, 1.249475e+09, 7.233602e+08, 6.786399e+08,\n",
       "       6.284236e+08, 5.730291e+08, 5.127984e+08, 4.482028e+08, 3.797043e+08,\n",
       "       7.081169e+07, 1.307420e+08, 2.141697e+08, 3.089551e+08, 3.876245e+08,\n",
       "       4.452045e+08, 4.432134e+08, 3.631727e+08, 4.272536e+08, 5.026418e+08,\n",
       "       5.913327e+08, 6.956713e+08, 8.184219e+08, 9.628309e+08, 1.132721e+09,\n",
       "       1.332588e+09, 1.567719e+09, 1.844342e+09, 2.169772e+09, 2.170640e+09,\n",
       "       1.992221e+09, 1.681177e+09, 1.249475e+09, 7.233602e+08, 6.786399e+08,\n",
       "       6.284236e+08, 5.730291e+08, 5.127984e+08, 4.482028e+08, 3.797043e+08,\n",
       "       7.081169e+07, 1.307420e+08, 2.141697e+08, 3.089551e+08, 3.876245e+08,\n",
       "       4.452045e+08, 4.432134e+08, 3.631727e+08, 4.272536e+08, 5.026418e+08,\n",
       "       5.913327e+08, 6.956713e+08, 8.184219e+08, 9.628309e+08, 1.132721e+09,\n",
       "       1.332588e+09, 1.567719e+09, 1.844342e+09, 2.169772e+09, 2.170640e+09,\n",
       "       1.992221e+09, 1.681177e+09, 1.249475e+09, 7.233602e+08, 6.786399e+08,\n",
       "       6.284236e+08, 5.730291e+08, 5.127984e+08, 4.482028e+08, 3.797043e+08,\n",
       "       2.844472e+04, 5.251843e+04, 8.603096e+04, 1.241058e+05, 1.557070e+05,\n",
       "       1.788366e+05, 1.780368e+05, 1.458848e+05, 1.716258e+05, 2.019089e+05,\n",
       "       2.375356e+05, 2.794479e+05, 3.287562e+05, 3.867647e+05, 4.550086e+05,\n",
       "       5.352942e+05, 6.297454e+05, 7.408634e+05, 8.715872e+05, 8.719361e+05,\n",
       "       8.002661e+05, 6.753208e+05, 5.019081e+05, 2.905704e+05, 2.726065e+05,\n",
       "       2.524348e+05, 2.301831e+05, 2.059887e+05, 1.800410e+05, 1.525255e+05,\n",
       "       1.000000e+00, 1.000000e+00, 1.000000e+00, 1.000000e+00, 2.501000e+09],\n",
       "      dtype=float32)\n",
       "Coordinates:\n",
       "  * target_lev  (target_lev) int64 0 1 2 3 4 5 6 ... 118 119 120 121 122 123 124"
      ]
     },
     "execution_count": 13,
     "metadata": {},
     "output_type": "execute_result"
    }
   ],
   "source": [
    "ds.target_conv"
   ]
  },
  {
   "cell_type": "markdown",
   "metadata": {},
   "source": [
    "#### Step 4: Replace targ_conv in the train_norm NETCDF file with the new values"
   ]
  },
  {
   "cell_type": "code",
   "execution_count": 14,
   "metadata": {},
   "outputs": [],
   "source": [
    "# 4.1 Copy old normalization file\n",
    "path1 = os.path.join(TRAINDIR,'32_col_mp_3d_train_norm.nc')\n",
    "path2 = os.path.join(TRAINDIR,'32_col_mp_3d_train_oldnorm.nc')\n",
    "!cp $path1 $path2"
   ]
  },
  {
   "cell_type": "code",
   "execution_count": 15,
   "metadata": {},
   "outputs": [
    {
     "data": {
      "text/plain": [
       "<xarray.DataArray 'target_conv' (target_lev: 125)>\n",
       "array([2.550438e+05, 2.550438e+05, 2.550438e+05, 2.550438e+05, 2.550438e+05,\n",
       "       2.550438e+05, 2.550438e+05, 2.550438e+05, 2.550438e+05, 2.550438e+05,\n",
       "       2.550438e+05, 2.550438e+05, 2.550438e+05, 2.550438e+05, 2.550438e+05,\n",
       "       2.550438e+05, 2.550438e+05, 2.550438e+05, 2.550438e+05, 2.550438e+05,\n",
       "       2.550438e+05, 2.550438e+05, 2.550438e+05, 2.550438e+05, 2.550438e+05,\n",
       "       2.550438e+05, 2.550438e+05, 2.550438e+05, 2.550438e+05, 2.550438e+05,\n",
       "       2.550438e+05, 2.550438e+05, 2.550438e+05, 2.550438e+05, 2.550438e+05,\n",
       "       2.550438e+05, 2.550438e+05, 2.550438e+05, 2.550438e+05, 2.550438e+05,\n",
       "       2.550438e+05, 2.550438e+05, 2.550438e+05, 2.550438e+05, 2.550438e+05,\n",
       "       2.550438e+05, 2.550438e+05, 2.550438e+05, 2.550438e+05, 2.550438e+05,\n",
       "       2.550438e+05, 2.550438e+05, 2.550438e+05, 2.550438e+05, 2.550438e+05,\n",
       "       2.550438e+05, 2.550438e+05, 2.550438e+05, 2.550438e+05, 2.550438e+05,\n",
       "       2.550438e+05, 2.550438e+05, 2.550438e+05, 2.550438e+05, 2.550438e+05,\n",
       "       2.550438e+05, 2.550438e+05, 2.550438e+05, 2.550438e+05, 2.550438e+05,\n",
       "       2.550438e+05, 2.550438e+05, 2.550438e+05, 2.550438e+05, 2.550438e+05,\n",
       "       2.550438e+05, 2.550438e+05, 2.550438e+05, 2.550438e+05, 2.550438e+05,\n",
       "       2.550438e+05, 2.550438e+05, 2.550438e+05, 2.550438e+05, 2.550438e+05,\n",
       "       2.550438e+05, 2.550438e+05, 2.550438e+05, 2.550438e+05, 2.550438e+05,\n",
       "       1.024499e+02, 1.024499e+02, 1.024499e+02, 1.024499e+02, 1.024499e+02,\n",
       "       1.024499e+02, 1.024499e+02, 1.024499e+02, 1.024499e+02, 1.024499e+02,\n",
       "       1.024499e+02, 1.024499e+02, 1.024499e+02, 1.024499e+02, 1.024499e+02,\n",
       "       1.024499e+02, 1.024499e+02, 1.024499e+02, 1.024499e+02, 1.024499e+02,\n",
       "       1.024499e+02, 1.024499e+02, 1.024499e+02, 1.024499e+02, 1.024499e+02,\n",
       "       1.024499e+02, 1.024499e+02, 1.024499e+02, 1.024499e+02, 1.024499e+02,\n",
       "       1.000000e+00, 1.000000e+00, 1.000000e+00, 1.000000e+00, 2.501000e+09],\n",
       "      dtype=float32)\n",
       "Coordinates:\n",
       "  * target_lev  (target_lev) int64 0 1 2 3 4 5 6 ... 118 119 120 121 122 123 124"
      ]
     },
     "execution_count": 15,
     "metadata": {},
     "output_type": "execute_result"
    }
   ],
   "source": [
    "# 4.1.CHECK that the old normalization file was properly copied\n",
    "xr.open_dataset(TRAINDIR + '32_col_mp_3d_train_oldnorm.nc').target_conv"
   ]
  },
  {
   "cell_type": "code",
   "execution_count": 16,
   "metadata": {},
   "outputs": [],
   "source": [
    "# 4.2 Create new dataset with characteristics of modified ds\n",
    "new_ds = xr.Dataset({\n",
    "            'feature_means': ds.feature_means,\n",
    "            'feature_stds': ds.feature_stds,\n",
    "            'feature_mins': ds.feature_mins,\n",
    "            'feature_maxs': ds.feature_maxs,\n",
    "            'target_means': ds.target_means,\n",
    "            'target_stds': ds.target_stds,\n",
    "            'target_mins': ds.target_mins,\n",
    "            'target_maxs': ds.target_maxs,\n",
    "            'feature_names': ds.feature_names,\n",
    "            'target_names': ds.target_names,\n",
    "            'feature_stds_by_var': ds.feature_stds_by_var,\n",
    "            'target_conv': ds.target_conv\n",
    "        })"
   ]
  },
  {
   "cell_type": "code",
   "execution_count": 17,
   "metadata": {},
   "outputs": [
    {
     "data": {
      "text/plain": [
       "<xarray.DataArray 'target_conv' (target_lev: 125)>\n",
       "array([7.081169e+07, 1.307420e+08, 2.141697e+08, 3.089551e+08, 3.876245e+08,\n",
       "       4.452045e+08, 4.432134e+08, 3.631727e+08, 4.272536e+08, 5.026418e+08,\n",
       "       5.913327e+08, 6.956713e+08, 8.184219e+08, 9.628309e+08, 1.132721e+09,\n",
       "       1.332588e+09, 1.567719e+09, 1.844342e+09, 2.169772e+09, 2.170640e+09,\n",
       "       1.992221e+09, 1.681177e+09, 1.249475e+09, 7.233602e+08, 6.786399e+08,\n",
       "       6.284236e+08, 5.730291e+08, 5.127984e+08, 4.482028e+08, 3.797043e+08,\n",
       "       7.081169e+07, 1.307420e+08, 2.141697e+08, 3.089551e+08, 3.876245e+08,\n",
       "       4.452045e+08, 4.432134e+08, 3.631727e+08, 4.272536e+08, 5.026418e+08,\n",
       "       5.913327e+08, 6.956713e+08, 8.184219e+08, 9.628309e+08, 1.132721e+09,\n",
       "       1.332588e+09, 1.567719e+09, 1.844342e+09, 2.169772e+09, 2.170640e+09,\n",
       "       1.992221e+09, 1.681177e+09, 1.249475e+09, 7.233602e+08, 6.786399e+08,\n",
       "       6.284236e+08, 5.730291e+08, 5.127984e+08, 4.482028e+08, 3.797043e+08,\n",
       "       7.081169e+07, 1.307420e+08, 2.141697e+08, 3.089551e+08, 3.876245e+08,\n",
       "       4.452045e+08, 4.432134e+08, 3.631727e+08, 4.272536e+08, 5.026418e+08,\n",
       "       5.913327e+08, 6.956713e+08, 8.184219e+08, 9.628309e+08, 1.132721e+09,\n",
       "       1.332588e+09, 1.567719e+09, 1.844342e+09, 2.169772e+09, 2.170640e+09,\n",
       "       1.992221e+09, 1.681177e+09, 1.249475e+09, 7.233602e+08, 6.786399e+08,\n",
       "       6.284236e+08, 5.730291e+08, 5.127984e+08, 4.482028e+08, 3.797043e+08,\n",
       "       2.844472e+04, 5.251843e+04, 8.603096e+04, 1.241058e+05, 1.557070e+05,\n",
       "       1.788366e+05, 1.780368e+05, 1.458848e+05, 1.716258e+05, 2.019089e+05,\n",
       "       2.375356e+05, 2.794479e+05, 3.287562e+05, 3.867647e+05, 4.550086e+05,\n",
       "       5.352942e+05, 6.297454e+05, 7.408634e+05, 8.715872e+05, 8.719361e+05,\n",
       "       8.002661e+05, 6.753208e+05, 5.019081e+05, 2.905704e+05, 2.726065e+05,\n",
       "       2.524348e+05, 2.301831e+05, 2.059887e+05, 1.800410e+05, 1.525255e+05,\n",
       "       1.000000e+00, 1.000000e+00, 1.000000e+00, 1.000000e+00, 2.501000e+09],\n",
       "      dtype=float32)\n",
       "Coordinates:\n",
       "  * target_lev  (target_lev) int64 0 1 2 3 4 5 6 ... 118 119 120 121 122 123 124"
      ]
     },
     "execution_count": 17,
     "metadata": {},
     "output_type": "execute_result"
    }
   ],
   "source": [
    "# 4.2 Check\n",
    "new_ds.target_conv"
   ]
  },
  {
   "cell_type": "code",
   "execution_count": 18,
   "metadata": {},
   "outputs": [],
   "source": [
    "# 4.3 Write new data set to initial target_conv file\n",
    "!rm $path1 # Remove normalization file"
   ]
  },
  {
   "cell_type": "code",
   "execution_count": 19,
   "metadata": {},
   "outputs": [],
   "source": [
    "new_ds.to_netcdf(path1) # Save the new dataset as the new normalization file"
   ]
  },
  {
   "cell_type": "code",
   "execution_count": 20,
   "metadata": {},
   "outputs": [
    {
     "data": {
      "text/plain": [
       "<xarray.DataArray 'target_conv' (target_lev: 125)>\n",
       "array([7.081169e+07, 1.307420e+08, 2.141697e+08, 3.089551e+08, 3.876245e+08,\n",
       "       4.452045e+08, 4.432134e+08, 3.631727e+08, 4.272536e+08, 5.026418e+08,\n",
       "       5.913327e+08, 6.956713e+08, 8.184219e+08, 9.628309e+08, 1.132721e+09,\n",
       "       1.332588e+09, 1.567719e+09, 1.844342e+09, 2.169772e+09, 2.170640e+09,\n",
       "       1.992221e+09, 1.681177e+09, 1.249475e+09, 7.233602e+08, 6.786399e+08,\n",
       "       6.284236e+08, 5.730291e+08, 5.127984e+08, 4.482028e+08, 3.797043e+08,\n",
       "       7.081169e+07, 1.307420e+08, 2.141697e+08, 3.089551e+08, 3.876245e+08,\n",
       "       4.452045e+08, 4.432134e+08, 3.631727e+08, 4.272536e+08, 5.026418e+08,\n",
       "       5.913327e+08, 6.956713e+08, 8.184219e+08, 9.628309e+08, 1.132721e+09,\n",
       "       1.332588e+09, 1.567719e+09, 1.844342e+09, 2.169772e+09, 2.170640e+09,\n",
       "       1.992221e+09, 1.681177e+09, 1.249475e+09, 7.233602e+08, 6.786399e+08,\n",
       "       6.284236e+08, 5.730291e+08, 5.127984e+08, 4.482028e+08, 3.797043e+08,\n",
       "       7.081169e+07, 1.307420e+08, 2.141697e+08, 3.089551e+08, 3.876245e+08,\n",
       "       4.452045e+08, 4.432134e+08, 3.631727e+08, 4.272536e+08, 5.026418e+08,\n",
       "       5.913327e+08, 6.956713e+08, 8.184219e+08, 9.628309e+08, 1.132721e+09,\n",
       "       1.332588e+09, 1.567719e+09, 1.844342e+09, 2.169772e+09, 2.170640e+09,\n",
       "       1.992221e+09, 1.681177e+09, 1.249475e+09, 7.233602e+08, 6.786399e+08,\n",
       "       6.284236e+08, 5.730291e+08, 5.127984e+08, 4.482028e+08, 3.797043e+08,\n",
       "       2.844472e+04, 5.251843e+04, 8.603096e+04, 1.241058e+05, 1.557070e+05,\n",
       "       1.788366e+05, 1.780368e+05, 1.458848e+05, 1.716258e+05, 2.019089e+05,\n",
       "       2.375356e+05, 2.794479e+05, 3.287562e+05, 3.867647e+05, 4.550086e+05,\n",
       "       5.352942e+05, 6.297454e+05, 7.408634e+05, 8.715872e+05, 8.719361e+05,\n",
       "       8.002661e+05, 6.753208e+05, 5.019081e+05, 2.905704e+05, 2.726065e+05,\n",
       "       2.524348e+05, 2.301831e+05, 2.059887e+05, 1.800410e+05, 1.525255e+05,\n",
       "       1.000000e+00, 1.000000e+00, 1.000000e+00, 1.000000e+00, 2.501000e+09],\n",
       "      dtype=float32)\n",
       "Coordinates:\n",
       "  * target_lev  (target_lev) int64 0 1 2 3 4 5 6 ... 118 119 120 121 122 123 124"
      ]
     },
     "execution_count": 20,
     "metadata": {},
     "output_type": "execute_result"
    }
   ],
   "source": [
    "# 4.3 CHECK\n",
    "xr.open_dataset(path1).close() # Don't forget to close the old handler!!\n",
    "xr.open_dataset(path1).target_conv # Before checking if the new normalizations are at the right place"
   ]
  },
  {
   "cell_type": "markdown",
   "metadata": {},
   "source": [
    "## 2) Create data generator and produce data sample\n"
   ]
  },
  {
   "cell_type": "markdown",
   "metadata": {},
   "source": [
    "### 2.1) Create data generator"
   ]
  },
  {
   "cell_type": "code",
   "execution_count": null,
   "metadata": {},
   "outputs": [],
   "source": [
    "xr.open_dataset(path1).close() # Don't forget to close xarray handler!!"
   ]
  },
  {
   "cell_type": "code",
   "execution_count": 8,
   "metadata": {},
   "outputs": [
    {
     "name": "stdout",
     "output_type": "stream",
     "text": [
      "Generator will have 4620288 samples in 9024 batches\n",
      "Features have shape 154; targets have shape 125\n"
     ]
    }
   ],
   "source": [
    "train_gen_obj = DataGenerator(\n",
    "    data_dir=TRAINDIR, \n",
    "    feature_fn='32_col_mp_3d_train_features.nc',\n",
    "    target_fn='32_col_mp_3d_train_targets.nc',\n",
    "    batch_size=512,\n",
    "    norm_fn='32_col_mp_3d_train_norm.nc',\n",
    "    fsub='feature_means',   # Subtracct the mean\n",
    "    fdiv='feature_stds_by_var',    # Then divide by Std\n",
    "    tmult='target_conv',    # For targets/output: use values from preprocess_aqua.\n",
    "    shuffle=True,\n",
    ")"
   ]
  },
  {
   "cell_type": "code",
   "execution_count": 9,
   "metadata": {},
   "outputs": [],
   "source": [
    "gen = train_gen_obj.return_generator()"
   ]
  },
  {
   "cell_type": "markdown",
   "metadata": {},
   "source": [
    "### 2.2) Produce data sample"
   ]
  },
  {
   "cell_type": "code",
   "execution_count": 10,
   "metadata": {},
   "outputs": [],
   "source": [
    "x, y = next(gen)"
   ]
  },
  {
   "cell_type": "code",
   "execution_count": 11,
   "metadata": {},
   "outputs": [
    {
     "data": {
      "text/plain": [
       "((512, 154), (512, 125))"
      ]
     },
     "execution_count": 11,
     "metadata": {},
     "output_type": "execute_result"
    }
   ],
   "source": [
    "x.shape, y.shape"
   ]
  },
  {
   "cell_type": "markdown",
   "metadata": {},
   "source": [
    "## 3) Simple neural network"
   ]
  },
  {
   "cell_type": "code",
   "execution_count": 12,
   "metadata": {},
   "outputs": [],
   "source": [
    "from keras.layers import *\n",
    "from keras.models import *"
   ]
  },
  {
   "cell_type": "markdown",
   "metadata": {},
   "source": [
    "### 3.1) A simple example"
   ]
  },
  {
   "cell_type": "code",
   "execution_count": 13,
   "metadata": {},
   "outputs": [],
   "source": [
    "inp = Input(shape=(154,))\n",
    "act = Dense(124, activation='relu')(inp)\n",
    "for i in range (7):\n",
    "    act = Dense(124, activation='relu')(act)\n",
    "out = Dense(125)(act)\n",
    "model1 = Model(inputs=inp, outputs=out)"
   ]
  },
  {
   "cell_type": "code",
   "execution_count": 14,
   "metadata": {},
   "outputs": [
    {
     "name": "stdout",
     "output_type": "stream",
     "text": [
      "_________________________________________________________________\n",
      "Layer (type)                 Output Shape              Param #   \n",
      "=================================================================\n",
      "input_2 (InputLayer)         (None, 154)               0         \n",
      "_________________________________________________________________\n",
      "dense_10 (Dense)             (None, 124)               19220     \n",
      "_________________________________________________________________\n",
      "dense_11 (Dense)             (None, 124)               15500     \n",
      "_________________________________________________________________\n",
      "dense_12 (Dense)             (None, 124)               15500     \n",
      "_________________________________________________________________\n",
      "dense_13 (Dense)             (None, 124)               15500     \n",
      "_________________________________________________________________\n",
      "dense_14 (Dense)             (None, 124)               15500     \n",
      "_________________________________________________________________\n",
      "dense_15 (Dense)             (None, 124)               15500     \n",
      "_________________________________________________________________\n",
      "dense_16 (Dense)             (None, 124)               15500     \n",
      "_________________________________________________________________\n",
      "dense_17 (Dense)             (None, 124)               15500     \n",
      "_________________________________________________________________\n",
      "dense_18 (Dense)             (None, 125)               15625     \n",
      "=================================================================\n",
      "Total params: 143,345\n",
      "Trainable params: 143,345\n",
      "Non-trainable params: 0\n",
      "_________________________________________________________________\n"
     ]
    }
   ],
   "source": [
    "model1.summary()"
   ]
  },
  {
   "cell_type": "code",
   "execution_count": 15,
   "metadata": {},
   "outputs": [],
   "source": [
    "model1.compile('adam', loss='mse')"
   ]
  },
  {
   "cell_type": "code",
   "execution_count": 16,
   "metadata": {},
   "outputs": [
    {
     "name": "stdout",
     "output_type": "stream",
     "text": [
      "Epoch 1/2\n",
      "9024/9024 [==============================] - 64s 7ms/step - loss: 295.4242\n",
      "Epoch 2/2\n",
      "9024/9024 [==============================] - 56s 6ms/step - loss: 210.5696\n"
     ]
    },
    {
     "data": {
      "text/plain": [
       "<keras.callbacks.History at 0x7fe504316710>"
      ]
     },
     "execution_count": 16,
     "metadata": {},
     "output_type": "execute_result"
    }
   ],
   "source": [
    "model1.fit_generator(gen, train_gen_obj.n_batches, epochs=2)"
   ]
  },
  {
   "cell_type": "code",
   "execution_count": 17,
   "metadata": {},
   "outputs": [],
   "source": [
    "preds = model1.predict_on_batch(x)"
   ]
  },
  {
   "cell_type": "code",
   "execution_count": 18,
   "metadata": {},
   "outputs": [
    {
     "data": {
      "text/plain": [
       "(512, 125)"
      ]
     },
     "execution_count": 18,
     "metadata": {},
     "output_type": "execute_result"
    }
   ],
   "source": [
    "preds.shape"
   ]
  },
  {
   "cell_type": "code",
   "execution_count": 19,
   "metadata": {},
   "outputs": [
    {
     "data": {
      "text/plain": [
       "array([ 0.0000000e+00,  0.0000000e+00,  1.1683633e-04, -1.8150534e-04,\n",
       "        2.8191236e-05, -1.2674624e-04,  3.2557498e-04, -2.3665362e-04,\n",
       "        1.0368231e-04,  4.4764183e-04,  9.7565079e-04,  6.6266386e-03,\n",
       "       -2.4458408e-02,  7.7702858e-02, -7.9534091e-02, -3.0769283e-01,\n",
       "       -2.9614696e-01, -3.2436770e-01, -1.4933038e+01,  1.1325694e+02,\n",
       "        1.1042747e+02, -1.3367409e+02, -9.7812202e+01, -1.2961019e+01,\n",
       "       -2.1165226e+01, -3.0767555e+01, -1.5683941e+01,  6.6389933e+00,\n",
       "       -3.9723598e+01, -5.9443699e+01,  0.0000000e+00,  0.0000000e+00,\n",
       "        0.0000000e+00,  0.0000000e+00,  0.0000000e+00,  0.0000000e+00,\n",
       "        0.0000000e+00,  0.0000000e+00,  0.0000000e+00,  0.0000000e+00,\n",
       "        0.0000000e+00,  0.0000000e+00,  0.0000000e+00,  0.0000000e+00,\n",
       "        0.0000000e+00,  0.0000000e+00,  0.0000000e+00,  0.0000000e+00,\n",
       "        0.0000000e+00,  2.3594544e+00,  6.4320625e+01, -2.1832945e+01,\n",
       "       -4.4953237e+00,  2.9705560e+00, -4.5950494e+00, -4.7523217e+00,\n",
       "       -2.3259480e+00,  0.0000000e+00,  0.0000000e+00,  0.0000000e+00,\n",
       "        0.0000000e+00,  0.0000000e+00,  0.0000000e+00,  0.0000000e+00,\n",
       "        0.0000000e+00,  0.0000000e+00,  0.0000000e+00,  0.0000000e+00,\n",
       "        0.0000000e+00,  0.0000000e+00,  0.0000000e+00,  0.0000000e+00,\n",
       "        0.0000000e+00,  0.0000000e+00,  0.0000000e+00,  0.0000000e+00,\n",
       "        0.0000000e+00,  0.0000000e+00,  0.0000000e+00,  6.7914357e+00,\n",
       "       -9.1242599e-01,  0.0000000e+00,  0.0000000e+00,  0.0000000e+00,\n",
       "        0.0000000e+00,  0.0000000e+00,  0.0000000e+00,  0.0000000e+00,\n",
       "        0.0000000e+00,  0.0000000e+00,  2.2326913e+00,  2.9884062e+00,\n",
       "       -1.8307689e+00,  1.0012641e+01,  2.5623555e+00,  1.5332817e+00,\n",
       "        6.9164151e-01,  1.0984515e+00, -3.7742987e-01,  8.3896631e-01,\n",
       "        9.7346652e-01, -2.2580650e+00,  1.6124072e+00, -6.2127047e+00,\n",
       "        4.7848113e-02, -3.7017672e+00, -8.1943054e+00, -8.1561766e+00,\n",
       "       -1.0749043e+01, -2.3681652e+01,  1.1091612e+02,  1.3565686e+02,\n",
       "        8.6316261e+01,  1.8346081e+01,  1.0180499e+01,  1.3182677e+01,\n",
       "        1.2943122e+01,  1.5314125e+01,  1.7463171e+01,  5.1009412e+00,\n",
       "        7.9701630e+02,  5.8561182e+02,  2.6385580e+02,  7.4926163e+01,\n",
       "        2.2884337e+02], dtype=float32)"
      ]
     },
     "execution_count": 19,
     "metadata": {},
     "output_type": "execute_result"
    },
    {
     "data": {
      "image/png": "[encoded data removed]",
      "text/plain": [
       "<Figure size 432x288 with 1 Axes>"
      ]
     },
     "metadata": {
      "needs_background": "light"
     },
     "output_type": "display_data"
    }
   ],
   "source": [
    "plt.plot(preds[413])\n",
    "plt.plot(y[413])\n",
    "plt.legend(['predicted','truth'])\n",
    "y[413,]\n",
    "#plt.axis([0,50,-50,20])"
   ]
  },
  {
   "cell_type": "markdown",
   "metadata": {},
   "source": [
    "### 3.2) Implement energy conservation layer\n",
    "#### Step 0: Load input's normalization separately"
   ]
  },
  {
   "cell_type": "code",
   "execution_count": 13,
   "metadata": {},
   "outputs": [
    {
     "data": {
      "text/plain": [
       "<xarray.Dataset>\n",
       "Dimensions:              (feature_lev: 154, target_lev: 125)\n",
       "Coordinates:\n",
       "  * feature_lev          (feature_lev) int64 0 1 2 3 4 5 ... 149 150 151 152 153\n",
       "  * target_lev           (target_lev) int64 0 1 2 3 4 5 ... 120 121 122 123 124\n",
       "Data variables:\n",
       "    feature_means        (feature_lev) float32 ...\n",
       "    feature_stds         (feature_lev) float32 ...\n",
       "    feature_mins         (feature_lev) float32 ...\n",
       "    feature_maxs         (feature_lev) float32 ...\n",
       "    target_means         (target_lev) float32 ...\n",
       "    target_stds          (target_lev) float32 ...\n",
       "    target_mins          (target_lev) float32 ...\n",
       "    target_maxs          (target_lev) float32 ...\n",
       "    feature_names        (feature_lev) object ...\n",
       "    target_names         (target_lev) object ...\n",
       "    feature_stds_by_var  (feature_lev) float32 ...\n",
       "    target_conv          (target_lev) float32 ..."
      ]
     },
     "execution_count": 13,
     "metadata": {},
     "output_type": "execute_result"
    }
   ],
   "source": [
    "ds = xr.open_dataset(TRAINDIR + '32_col_mp_3d_train_norm.nc')\n",
    "ds"
   ]
  },
  {
   "cell_type": "code",
   "execution_count": 14,
   "metadata": {},
   "outputs": [
    {
     "name": "stdout",
     "output_type": "stream",
     "text": [
      "(154,)\n",
      "(154,)\n",
      "(125,)\n"
     ]
    }
   ],
   "source": [
    "fsub = ds.feature_means.values\n",
    "fdiv = ds.feature_stds_by_var.values\n",
    "normq = ds.target_conv.values\n",
    "print(fsub.shape)\n",
    "print(fdiv.shape)\n",
    "print(normq.shape)"
   ]
  },
  {
   "cell_type": "code",
   "execution_count": 15,
   "metadata": {},
   "outputs": [],
   "source": [
    "ds.close()"
   ]
  },
  {
   "cell_type": "markdown",
   "metadata": {},
   "source": [
    "#### Step 1: Test the physical constraint layer in Numpy for basic debugging"
   ]
  },
  {
   "cell_type": "code",
   "execution_count": 24,
   "metadata": {},
   "outputs": [],
   "source": [
    "import numpy as np\n",
    "def safe_softplus(x, limit=30):\n",
    "  if x>limit:\n",
    "    return x\n",
    "  else:\n",
    "    return np.log(1.0 + np.exp(x))"
   ]
  },
  {
   "cell_type": "code",
   "execution_count": 25,
   "metadata": {},
   "outputs": [
    {
     "ename": "NameError",
     "evalue": "name 'qap' is not defined",
     "output_type": "error",
     "traceback": [
      "\u001b[0;31m---------------------------------------------------------------------------\u001b[0m",
      "\u001b[0;31mNameError\u001b[0m                                 Traceback (most recent call last)",
      "\u001b[0;32m<ipython-input-25-71007347a76f>\u001b[0m in \u001b[0;36m<module>\u001b[0;34m\u001b[0m\n\u001b[0;32m----> 1\u001b[0;31m \u001b[0mprint\u001b[0m\u001b[0;34m(\u001b[0m\u001b[0mqap\u001b[0m\u001b[0;34m.\u001b[0m\u001b[0mshape\u001b[0m\u001b[0;34m)\u001b[0m\u001b[0;34m\u001b[0m\u001b[0;34m\u001b[0m\u001b[0m\n\u001b[0m\u001b[1;32m      2\u001b[0m \u001b[0mprint\u001b[0m\u001b[0;34m(\u001b[0m\u001b[0mfsub\u001b[0m\u001b[0;34m.\u001b[0m\u001b[0mshape\u001b[0m\u001b[0;34m)\u001b[0m\u001b[0;34m\u001b[0m\u001b[0;34m\u001b[0m\u001b[0m\n",
      "\u001b[0;31mNameError\u001b[0m: name 'qap' is not defined"
     ]
    }
   ],
   "source": [
    "print(qap.shape)\n",
    "print(fsub.shape)"
   ]
  },
  {
   "cell_type": "code",
   "execution_count": 100,
   "metadata": {},
   "outputs": [
    {
     "name": "stdout",
     "output_type": "stream",
     "text": [
      "[1.8890089e-06 1.8709759e-06 1.7035223e-06 1.7005252e-06 1.6415983e-06\n",
      " 1.5045957e-06 1.4606607e-06 1.4591218e-06 1.4598600e-06 1.4735780e-06\n",
      " 1.5066166e-06 1.5988817e-06 2.0526277e-06 4.9225710e-06 1.0806412e-05\n",
      " 2.0793159e-05 5.1943964e-05 1.3326522e-04 2.4402043e-04 3.3523864e-04\n",
      " 6.6088326e-04 1.1144076e-03 1.5189773e-03 1.8160637e-03 2.0421566e-03\n",
      " 2.2358480e-03 2.4027592e-03 2.5413563e-03 2.7411170e-03 2.9877913e-03\n",
      " 0.0000000e+00 0.0000000e+00 0.0000000e+00 0.0000000e+00 0.0000000e+00\n",
      " 0.0000000e+00 0.0000000e+00 0.0000000e+00 0.0000000e+00 0.0000000e+00\n",
      " 0.0000000e+00 0.0000000e+00 0.0000000e+00 0.0000000e+00 0.0000000e+00\n",
      " 1.7347235e-18 0.0000000e+00 0.0000000e+00 2.2737368e-13 0.0000000e+00\n",
      " 0.0000000e+00 9.0949470e-13 9.5405994e-09 4.6377809e-06 1.5204386e-05\n",
      " 1.5759480e-05 4.7640169e-06 1.4436255e-06 1.9511208e-07 5.5640478e-05\n",
      " 1.2481135e-09 1.0923745e-09 6.6391337e-14 0.0000000e+00 0.0000000e+00\n",
      " 0.0000000e+00 0.0000000e+00 0.0000000e+00 0.0000000e+00 0.0000000e+00\n",
      " 0.0000000e+00 0.0000000e+00 0.0000000e+00 0.0000000e+00 0.0000000e+00\n",
      " 0.0000000e+00 1.0792442e-06 2.3847208e-06 2.8053364e-07 4.9385562e-10\n",
      " 3.5487983e-07 5.8079468e-07 2.8306499e-06 1.6917746e-05 1.9704165e-05\n",
      " 1.1375946e-05 1.6043600e-06 1.7757384e-07 2.1891026e-08 6.0673920e-06]\n"
     ]
    },
    {
     "data": {
      "text/plain": [
       "array([7.4313283e-02, 1.3589725e-01, 2.0269047e-01, 2.9188102e-01,\n",
       "       3.5351321e-01, 3.7214047e-01, 3.5965800e-01, 2.9439625e-01,\n",
       "       3.4651691e-01, 4.1148993e-01, 4.9495089e-01, 6.1794227e-01,\n",
       "       9.3328631e-01, 2.6331131e+00, 6.8003597e+00, 1.5393726e+01,\n",
       "       4.5240860e+01, 1.3654811e+02, 2.9414923e+02, 4.0426810e+02,\n",
       "       7.3145874e+02, 1.0408422e+03, 1.0544020e+03, 7.2981561e+02,\n",
       "       7.6993835e+02, 7.8058862e+02, 7.6491705e+02, 7.2400189e+02,\n",
       "       6.8254248e+02, 6.3026514e+02, 0.0000000e+00, 0.0000000e+00,\n",
       "       0.0000000e+00, 0.0000000e+00, 0.0000000e+00, 0.0000000e+00,\n",
       "       0.0000000e+00, 0.0000000e+00, 0.0000000e+00, 0.0000000e+00,\n",
       "       0.0000000e+00, 0.0000000e+00, 0.0000000e+00, 0.0000000e+00,\n",
       "       0.0000000e+00, 1.2842618e-12, 0.0000000e+00, 0.0000000e+00,\n",
       "       2.7408277e-07, 0.0000000e+00, 0.0000000e+00, 8.4945623e-07,\n",
       "       6.6226311e-03, 1.8637701e+00, 5.7323909e+00, 5.5020161e+00,\n",
       "       1.5166223e+00, 4.1127157e-01, 4.8583217e-02, 1.1737184e+01,\n",
       "       4.9100567e-05, 7.9343990e-05, 7.8994509e-09, 0.0000000e+00,\n",
       "       0.0000000e+00, 0.0000000e+00, 0.0000000e+00, 0.0000000e+00,\n",
       "       0.0000000e+00, 0.0000000e+00, 0.0000000e+00, 0.0000000e+00,\n",
       "       0.0000000e+00, 0.0000000e+00, 0.0000000e+00, 0.0000000e+00,\n",
       "       9.3997324e-01, 2.4434664e+00, 3.3816332e-01, 5.9554609e-04,\n",
       "       3.9277732e-01, 5.4245466e-01, 1.9649028e+00, 6.7986798e+00,\n",
       "       7.4289074e+00, 3.9716182e+00, 5.1074719e-01, 5.0588656e-02,\n",
       "       5.4508997e-03, 1.2798972e+00], dtype=float32)"
      ]
     },
     "execution_count": 100,
     "metadata": {},
     "output_type": "execute_result"
    }
   ],
   "source": [
    "x, y = next(gen) # (Input,Output) pair retrieved iteratively from the generator\n",
    "testinp = x; testdensout = y;  # The output of the densely connected layer,\n",
    "# which is the input for the physical constraints layer, has shape (125,)=y.shape\n",
    "qbp = np.add(np.multiply(testinp[:,:90],fdiv[:90,]),fsub[:90,])\n",
    "index = 5\n",
    "print(qbp[index,:])\n",
    "# Bound on dq/dt\n",
    "np.multiply(normq[:90,],qbp[index,:])/1800"
   ]
  },
  {
   "cell_type": "code",
   "execution_count": 109,
   "metadata": {},
   "outputs": [
    {
     "name": "stdout",
     "output_type": "stream",
     "text": [
      "[[ 0.00000000e+00  0.00000000e+00 -3.52463167e-06 ...  7.14828730e-01\n",
      "  -1.94745120e-02 -5.09016812e-01]\n",
      " [ 0.00000000e+00  0.00000000e+00 -3.91810636e-06 ... -8.12336057e-02\n",
      "   1.09404393e-01 -2.64686853e-01]\n",
      " [ 0.00000000e+00  0.00000000e+00 -3.83413817e-06 ...  2.25569099e-01\n",
      "  -5.04336655e-02 -1.75489992e-01]\n",
      " ...\n",
      " [ 0.00000000e+00  0.00000000e+00 -4.57383749e-06 ...  4.15254906e-02\n",
      "   3.08697671e-01 -1.18188016e-01]\n",
      " [ 0.00000000e+00  0.00000000e+00 -5.56462510e-06 ...  8.04110393e-02\n",
      "  -4.38176608e-03  3.40724625e-02]\n",
      " [ 0.00000000e+00  0.00000000e+00 -5.02103740e-06 ... -5.38274534e-02\n",
      "  -2.09472924e-01 -1.75753996e-01]]\n",
      "[ 0.0000000e+00  0.0000000e+00 -3.1418069e-06 -3.6398256e-07\n",
      "  3.0054719e-06 -1.6221151e-05  8.7531935e-06  1.2292489e-05\n",
      "  1.0967176e-05 -6.3576708e-06  3.7818052e-07 -2.8339788e-04\n",
      " -1.0227459e-03 -2.1273026e-03 -3.6572393e-02  2.8603417e-03\n",
      " -2.7998945e-01 -4.5961341e-01  9.0005070e-01  6.8134266e-01\n",
      " -8.2287771e-01  2.3013981e-01  2.4323208e+00 -8.4881544e-01\n",
      " -2.9298425e+00 -4.2743530e+00 -6.0948601e+00 -3.7398868e+00\n",
      " -7.9316592e+00  2.2475309e+00  0.0000000e+00  0.0000000e+00\n",
      "  0.0000000e+00  0.0000000e+00  0.0000000e+00  0.0000000e+00\n",
      "  0.0000000e+00  0.0000000e+00  0.0000000e+00  0.0000000e+00\n",
      "  0.0000000e+00  0.0000000e+00  0.0000000e+00  0.0000000e+00\n",
      "  0.0000000e+00  0.0000000e+00  0.0000000e+00  0.0000000e+00\n",
      "  0.0000000e+00  0.0000000e+00  0.0000000e+00  0.0000000e+00\n",
      " -6.6228681e-03  2.7891830e-01 -2.1353826e-01 -3.2629719e-01\n",
      "  1.7228601e+00  2.1396577e+00  2.6639417e-01  1.4741515e-01\n",
      "  0.0000000e+00  0.0000000e+00 -7.9088540e-09  0.0000000e+00\n",
      "  0.0000000e+00  0.0000000e+00  0.0000000e+00  0.0000000e+00\n",
      "  0.0000000e+00  0.0000000e+00  0.0000000e+00  0.0000000e+00\n",
      "  0.0000000e+00  0.0000000e+00  0.0000000e+00  0.0000000e+00\n",
      "  2.2770013e-01 -3.7225777e-01 -7.2824322e-02  1.2946053e-05\n",
      " -3.2056555e-01 -3.0137960e-02 -1.0958794e+00  4.8559111e-01\n",
      "  1.8252365e-01 -2.3702376e-01  5.0828320e-01  2.0182897e-01\n",
      " -5.4508969e-03 -2.7768889e-02]\n",
      "[[0.6931472  0.6931472  0.6931454  ... 1.1131188  0.6834573  0.47068232]\n",
      " [0.6931472  0.6931472  0.6931452  ... 0.653355   0.7493448  0.5695357 ]\n",
      " [0.6931472  0.6931472  0.6931453  ... 0.8122785  0.66824824 0.60924685]\n",
      " ...\n",
      " [0.6931472  0.6931472  0.69314486 ... 0.71412545 0.85936075 0.6357982 ]\n",
      " [0.6931472  0.6931472  0.6931444  ... 0.7341607  0.6909587  0.7103285 ]\n",
      " [0.6931472  0.6931472  0.6931447  ... 0.6665956  0.5938856  0.6091264 ]] (512, 90)\n"
     ]
    }
   ],
   "source": [
    "# SOFTPLUS\n",
    "import copy\n",
    "qap = copy.copy(testdensout[:,:90])\n",
    "print(qap)\n",
    "print(qap[5,:])\n",
    "for i in range(qap.shape[0]):\n",
    "    for j in range (qap.shape[1]):\n",
    "        qap[i,j] = safe_softplus(qap[i,j])\n",
    "print(qap,qap.shape)          \n"
   ]
  },
  {
   "cell_type": "markdown",
   "metadata": {},
   "source": [
    "#### Step 2: Rigorously implement the physical constraint layer in tensorflow"
   ]
  },
  {
   "cell_type": "code",
   "execution_count": 143,
   "metadata": {},
   "outputs": [],
   "source": [
    "class PositiveConstraintLayer(Layer):\n",
    "    \n",
    "    def __init__(self, **kwargs):\n",
    "        super().__init__(**kwargs)\n",
    "        \n",
    "    def build(self, input_shape):\n",
    "        super().build(input_shape)  # Be sure to call this somewhere!\n",
    "        \n",
    "    def call(self, inp):\n",
    "        # inputs will be [n_samples, 125 = 30*4+5] with \n",
    "        # [PHQ, PHCLDLIQ, PHCLDICE, TPHYSTND, FSNT, FSNS, FLNT, FLNS, PRECT]\n",
    "        \n",
    "        # SOFTPLUS PART\n",
    "        qap = inp[:, :90]\n",
    "        remain = inp[:, 90:]\n",
    "        # softplus on x_q\n",
    "        qap = K.softplus(qap)\n",
    "        \n",
    "        # Concat out\n",
    "        out = K.concatenate([qap, remain])\n",
    "        \n",
    "        return out\n",
    "    \n",
    "    def compute_output_shape(self, input_shape):\n",
    "        return input_shape"
   ]
  },
  {
   "cell_type": "code",
   "execution_count": 144,
   "metadata": {},
   "outputs": [],
   "source": [
    "class CloudTendencyLayer(Layer):\n",
    "    \n",
    "    def __init__(self, fsub, fdiv, normq, dt=30*60, **kwargs):\n",
    "        self.fsub = fsub \n",
    "        self.fdiv = fdiv\n",
    "        self.normq = normq\n",
    "        self.dt = dt\n",
    "        super().__init__(**kwargs)\n",
    "        \n",
    "    def build(self, input_shape):\n",
    "        super().build(input_shape)  # Be sure to call this somewhere!\n",
    "        \n",
    "    def call(self, arrs):\n",
    "        # arrs (for arrays) is a list with \n",
    "        # [inputs and the output of the previous layer]\n",
    "        # inputs will be [n_sample, 154 = 30*5+4] with\n",
    "        # [QBP, QCBP, QIBP, TBP, VBP, PS, SOLIN, SHFLX, LHFLX]\n",
    "        # outputs will be [n_samples, 125 = 30*4+5] with \n",
    "        # [PHQ, PHCLDLIQ, PHCLDICE, TPHYSTND, FSNT, FSNS, FLNT, FLNS, PRECT]\n",
    "        \n",
    "        # Split between the inputs inp & the output of the densely connected\n",
    "        # neural network, densout\n",
    "        inp, densout = arrs\n",
    "        \n",
    "        # Identify qap and rest of vector\n",
    "        qap = densout[:, :90]\n",
    "        remain = densout[:, 90:]\n",
    "        \n",
    "        # OPTION 1\n",
    "        # 1) Unnormalize qbp\n",
    "        qbp = inp[:, :90]\n",
    "        qbp = tf.math.add(tf.math.multiply(qbp,self.fdiv[:90,]),self.fsub[:90,])\n",
    "        # 2) Calculate temporal difference\n",
    "        diff = tf.math.divide(tf.math.subtract(qap,qbp),self.dt)\n",
    "        # 3) Normalize the temporal difference according to output's normalization\n",
    "        diff = tf.math.multiply(diff,self.normq[:90,])\n",
    "        \n",
    "        # Concat out\n",
    "        out = K.concatenate([diff, remain])\n",
    "        \n",
    "        return out\n",
    "    \n",
    "    def compute_output_shape(self, input_shape):\n",
    "        return input_shape[1]"
   ]
  },
  {
   "cell_type": "code",
   "execution_count": 60,
   "metadata": {},
   "outputs": [],
   "source": [
    "class PhysicalConstraintLayer(Layer):\n",
    "    \n",
    "    def __init__(self, fsub, fdiv, normq, dt=30*60, **kwargs):\n",
    "        self.fsub = fsub \n",
    "        self.fdiv = fdiv\n",
    "        self.normq = normq\n",
    "        self.dt = dt\n",
    "        super().__init__(**kwargs)\n",
    "        \n",
    "    def build(self, input_shape):\n",
    "        super().build(input_shape)  # Be sure to call this somewhere!\n",
    "        \n",
    "    def call(self, arrs):\n",
    "        # arrs (for arrays) is a list with \n",
    "        # [inputs and the output of the previous layer]\n",
    "        # inputs will be [n_sample, 154 = 30*5+4] with\n",
    "        # [QBP, QCBP, QIBP, TBP, VBP, PS, SOLIN, SHFLX, LHFLX]\n",
    "        # outputs will be [n_samples, 125 = 30*4+5] with \n",
    "        # [PHQ, PHCLDLIQ, PHCLDICE, TPHYSTND, FSNT, FSNS, FLNT, FLNS, PRECT]\n",
    "        \n",
    "        # Split between the inputs inp & the output of the densely connected\n",
    "        # neural network, densout\n",
    "        inp, densout = arrs\n",
    "        \n",
    "        # SOFTPLUS PART\n",
    "        qap = densout[:, :90]\n",
    "        remain = densout[:, 90:]\n",
    "        # softplus on x_q, then multiply by 10^-3 for order of magnitude\n",
    "        qap = tf.math.multiply(1e-3,K.relu(qap))\n",
    "        \n",
    "        # FROM Q TO DQ/DT\n",
    "        # OPTION 1\n",
    "        # 1) Unnormalize qbp\n",
    "        qbp = inp[:, :90]\n",
    "        qbp = tf.math.add(tf.math.multiply(qbp,self.fdiv[:90,]),self.fsub[:90,])\n",
    "        # 2) Calculate temporal difference\n",
    "        diff = tf.math.divide(tf.math.subtract(qap,qbp),self.dt)\n",
    "        # 3) Normalize the temporal difference according to output's normalization\n",
    "        diff = tf.math.multiply(diff,self.normq[:90,])\n",
    "        \n",
    "        # OPTION 2\n",
    "        # 1) Normalize qap\n",
    "        #qap = tf.math.divide(tf.math.subtract(qap,self.fsub[:90,]),self.fdiv[:90,])\n",
    "        # 2) Calculate temporal difference\n",
    "        #qbp = inp[:, :90]\n",
    "        #diff = tf.math.divide(tf.math.subtract(qap,qbp),self.dt)\n",
    "        # 3) Unnormalize dq/dt\n",
    "        #diff = tf.math.multiply(diff,self.fdiv[:90,])\n",
    "        # 4) Normalize the temporal difference according to output's normalization\n",
    "        #diff = tf.math.multiply(diff,self.normq[:90,])\n",
    "        \n",
    "        # Concat out\n",
    "        out = K.concatenate([diff, remain])\n",
    "        \n",
    "        return out\n",
    "    \n",
    "    def compute_output_shape(self, input_shape):\n",
    "        return input_shape[1]"
   ]
  },
  {
   "cell_type": "code",
   "execution_count": 61,
   "metadata": {},
   "outputs": [],
   "source": [
    "inp = Input(shape=(154,))\n",
    "densout = Dense(256, activation='relu')(inp)\n",
    "for i in range(4):\n",
    "    densout = Dense(256, activation='relu')(densout)\n",
    "densout = Dense(125, activation='relu')(densout)\n",
    "out = PhysicalConstraintLayer(\n",
    "    input_shape=(125,), fsub=fsub, fdiv=fdiv, normq=normq\n",
    ")([inp, densout])\n",
    "m = Model(inputs=inp, outputs=out)"
   ]
  },
  {
   "cell_type": "code",
   "execution_count": 146,
   "metadata": {},
   "outputs": [],
   "source": [
    "inp = Input(shape=(154,))\n",
    "densout = Dense(256, activation='relu')(inp)\n",
    "for i in range(4):\n",
    "    densout = Dense(256, activation='relu')(densout)\n",
    "densout = Dense(125, activation='relu')(densout)\n",
    "densout = PositiveConstraintLayer(\n",
    "    input_shape=(125,)\n",
    ")(densout)\n",
    "out = CloudTendencyLayer(\n",
    "    input_shape=(125,), fsub=fsub, fdiv=fdiv, normq=normq\n",
    ")([inp, densout])\n",
    "m = Model(inputs=inp, outputs=out)"
   ]
  },
  {
   "cell_type": "code",
   "execution_count": 64,
   "metadata": {},
   "outputs": [],
   "source": [
    "m.compile('adam', 'mse')"
   ]
  },
  {
   "cell_type": "code",
   "execution_count": 65,
   "metadata": {
    "scrolled": true
   },
   "outputs": [
    {
     "name": "stdout",
     "output_type": "stream",
     "text": [
      "__________________________________________________________________________________________________\n",
      "Layer (type)                    Output Shape         Param #     Connected to                     \n",
      "==================================================================================================\n",
      "input_8 (InputLayer)            (None, 154)          0                                            \n",
      "__________________________________________________________________________________________________\n",
      "dense_43 (Dense)                (None, 256)          39680       input_8[0][0]                    \n",
      "__________________________________________________________________________________________________\n",
      "dense_44 (Dense)                (None, 256)          65792       dense_43[0][0]                   \n",
      "__________________________________________________________________________________________________\n",
      "dense_45 (Dense)                (None, 256)          65792       dense_44[0][0]                   \n",
      "__________________________________________________________________________________________________\n",
      "dense_46 (Dense)                (None, 256)          65792       dense_45[0][0]                   \n",
      "__________________________________________________________________________________________________\n",
      "dense_47 (Dense)                (None, 256)          65792       dense_46[0][0]                   \n",
      "__________________________________________________________________________________________________\n",
      "dense_48 (Dense)                (None, 125)          32125       dense_47[0][0]                   \n",
      "__________________________________________________________________________________________________\n",
      "physical_constraint_layer_8 (Ph (None, 125)          0           input_8[0][0]                    \n",
      "                                                                 dense_48[0][0]                   \n",
      "==================================================================================================\n",
      "Total params: 334,973\n",
      "Trainable params: 334,973\n",
      "Non-trainable params: 0\n",
      "__________________________________________________________________________________________________\n"
     ]
    }
   ],
   "source": [
    "m.summary()"
   ]
  },
  {
   "cell_type": "code",
   "execution_count": 69,
   "metadata": {},
   "outputs": [
    {
     "name": "stdout",
     "output_type": "stream",
     "text": [
      "Epoch 1/5\n",
      "9024/9024 [==============================] - 33s 4ms/step - loss: 4074.8826\n",
      "Epoch 2/5\n",
      "9024/9024 [==============================] - 32s 4ms/step - loss: 3002.3257\n",
      "Epoch 3/5\n",
      "9024/9024 [==============================] - 32s 4ms/step - loss: 2749.5319\n",
      "Epoch 4/5\n",
      "9024/9024 [==============================] - 32s 4ms/step - loss: 2036.9388\n",
      "Epoch 5/5\n",
      "9024/9024 [==============================] - 34s 4ms/step - loss: 1755.3189\n"
     ]
    },
    {
     "data": {
      "text/plain": [
       "<keras.callbacks.History at 0x7f1a4d52f400>"
      ]
     },
     "execution_count": 69,
     "metadata": {},
     "output_type": "execute_result"
    }
   ],
   "source": [
    "m.fit_generator(gen, train_gen_obj.n_batches, epochs=5)"
   ]
  },
  {
   "cell_type": "code",
   "execution_count": 67,
   "metadata": {},
   "outputs": [],
   "source": [
    "preds = m.predict_on_batch(x)"
   ]
  },
  {
   "cell_type": "code",
   "execution_count": 68,
   "metadata": {},
   "outputs": [
    {
     "data": {
      "image/png": "[encoded data removed]",
      "text/plain": [
       "<Figure size 432x288 with 1 Axes>"
      ]
     },
     "metadata": {
      "needs_background": "light"
     },
     "output_type": "display_data"
    }
   ],
   "source": [
    "plt.plot(preds[510], label='nn')\n",
    "plt.plot(y[510], label='truth')\n",
    "plt.legend();\n",
    "#plt.axis([0,50,-100,100])"
   ]
  },
  {
   "cell_type": "markdown",
   "metadata": {},
   "source": [
    "TODO: Validation"
   ]
  },
  {
   "cell_type": "code",
   "execution_count": null,
   "metadata": {},
   "outputs": [],
   "source": []
  }
 ],
 "metadata": {
  "kernelspec": {
   "display_name": "Python 3",
   "language": "python",
   "name": "python3"
  },
  "language_info": {
   "codemirror_mode": {
    "name": "ipython",
    "version": 3
   },
   "file_extension": ".py",
   "mimetype": "text/x-python",
   "name": "python",
   "nbconvert_exporter": "python",
   "pygments_lexer": "ipython3",
   "version": "3.6.8"
  },
  "toc": {
   "base_numbering": 1,
   "nav_menu": {},
   "number_sections": true,
   "sideBar": false,
   "skip_h1_title": true,
   "title_cell": "Table of Contents",
   "title_sidebar": "Contents",
   "toc_cell": false,
   "toc_position": {},
   "toc_section_display": true,
   "toc_window_display": false
  }
 },
 "nbformat": 4,
 "nbformat_minor": 2
}
