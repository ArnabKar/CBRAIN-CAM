{
 "cells": [
  {
   "cell_type": "markdown",
   "metadata": {},
   "source": [
    "## 1) Preprocess all the necessary variables\n",
    "### 1.1) Build feature, target and initial normalization files"
   ]
  },
  {
   "cell_type": "code",
   "execution_count": 1,
   "metadata": {},
   "outputs": [
    {
     "name": "stderr",
     "output_type": "stream",
     "text": [
      "Using TensorFlow backend.\n",
      "/home/t/Tom.Beucler/miniconda3/lib/python3.6/importlib/_bootstrap.py:219: RuntimeWarning: compiletime version 3.5 of module 'tensorflow.python.framework.fast_tensor_util' does not match runtime version 3.6\n",
      "  return f(*args, **kwds)\n"
     ]
    }
   ],
   "source": [
    "#!ln -s /filer/z-sv-pool12c/t/Tom.Beucler/SPCAM/CBRAIN-CAM/cbrain \\\n",
    "#/filer/z-sv-pool12c/t/Tom.Beucler/SPCAM/CBRAIN-CAM/notebooks/tbeucler_devlog/cbrain\n",
    "from cbrain.imports import *\n",
    "from cbrain.data_generator import *\n",
    "from cbrain.utils import limit_mem\n",
    "import tensorflow as tf\n",
    "import tensorflow.math as tfm\n",
    "# Otherwise tensorflow will use ALL your GPU RAM for no reason\n",
    "limit_mem()"
   ]
  },
  {
   "cell_type": "code",
   "execution_count": 2,
   "metadata": {},
   "outputs": [
    {
     "name": "stdout",
     "output_type": "stream",
     "text": [
      "/filer/z-sv-pool12c/t/Tom.Beucler/SPCAM/CBRAIN-CAM\n"
     ]
    }
   ],
   "source": [
    "%cd /filer/z-sv-pool12c/t/Tom.Beucler/SPCAM/CBRAIN-CAM\n",
    "TRAINDIR = '/local/Tom.Beucler/SPCAM_PHYS/'"
   ]
  },
  {
   "cell_type": "markdown",
   "metadata": {},
   "source": [
    "tgb - 1/22/2019 - I get very confused by all the types of precip so there are some tests below.  \n",
    "https://gitlab.com/mspritch/spcam3.0-neural-net/blob/master/models/atm/cam/src/physics/cam1/tphysbc_internallythreaded.F90  \n",
    "look for wtricesink and icesink\n",
    "  \n",
    "The different types of precipitation are:  \n",
    "PRECC,PRECL,PRECSC,PRECSL,PRECSTEN,PRECT,PRECTEND.  \n",
    "PRECC: Convective precipitation rate (m/s)  \n",
    "PRECL: Large-scale precipitation rate (m/s)  \n",
    "PRECSC: Convective snow rate - water equivalent (m/s)  \n",
    "PRECSL: Large-scale snow rate - water equivalent (m/s)  \n",
    "PRECSTEN: Large-scale snow rate - water equivalent (m/s)  \n",
    "PRECT: Total precipitation rate (m/s)  \n",
    "PRECTEND: Large-scale snow rate - water equivalent (m/s)  \n",
    "  \n",
    "So there seems to be problematic flags regarding the snow rate.  \n",
    "  \n",
    "The relation for the liquid precipitation rate is:  \n",
    "PRECT = PRECC + PRECL  \n",
    "Total precip = Convective precip + Large-scale precip  \n",
    "\n",
    "There doesn't seem to be an obvious relation for the snow rate.  \n",
    "  \n",
    "According to the mass/water conservation, the condensation sink at the surface is:\n",
    "PRECT [liquid] + 1e-3 * PRECTEND [??snow converted to liquid equivalent??]  \n",
    "and that is balanced by the latent heat flux, proportional to the evaporation source.  \n",
    "  \n",
    "But apparently there's another component of the snow rate that is important for energy conservation but doesn't enter the water conservation equation. If I naively follow:  \n",
    "https://github.com/raspstephan/CBRAIN-CAM/blob/master/notebooks/dev/old_notebooks/energy_conservation.ipynb  \n",
    "that precipitation term is a source rather than a sink for the energy:  \n",
    "+L_F*( PRECSC + PRECSL + 1e-3 * PRECSTEN )  \n",
    "Maybe it describes the liq->snow conversion in the column? Unsure...\n",
    "By analogy to the ??liquid precip??, we define:  \n",
    "PRECST = PRECSC + PRECSL  \n",
    "and also predict PRECSTEN. \n",
    "\n",
    "tgb - 1/22/2019 - Let's predict these two more quantities and see if we can conserve FMSE :)\n",
    "\n"
   ]
  },
  {
   "cell_type": "code",
   "execution_count": 3,
   "metadata": {},
   "outputs": [
    {
     "name": "stdout",
     "output_type": "stream",
     "text": [
      "OrderedDict([('units', 'K/s'), ('long_name', 'dT/dt vertical diffusion KE dissipation'), ('cell_method', 'time: mean')]) <xarray.DataArray 'DTVKE' (lev: 30)>\n",
      "array([6.190228e-11, 7.607866e-11, 6.988708e-11, 7.102008e-11, 8.425537e-11,\n",
      "       1.770534e-10, 6.262000e-10, 5.441891e-09, 1.147568e-08, 1.310354e-08,\n",
      "       1.299817e-08, 9.034349e-09, 4.209920e-09, 3.817676e-09, 3.808339e-09,\n",
      "       2.463906e-09, 1.168622e-09, 4.617561e-10, 2.209182e-10, 1.410370e-10,\n",
      "       1.227459e-10, 2.885002e-10, 2.581773e-09, 1.329442e-08, 3.226186e-08,\n",
      "       6.681960e-08, 1.263978e-07, 2.324936e-07, 4.423991e-07, 1.105985e-05],\n",
      "      dtype=float32)\n",
      "Coordinates:\n",
      "  * lev      (lev) float64 3.643 7.595 14.36 24.61 ... 936.2 957.5 976.3 992.6 sum= <xarray.DataArray 'DTVKE' ()>\n",
      "array(1.204602e-05, dtype=float32)\n",
      "OrderedDict([('units', 'K/s'), ('long_name', 'T physics tendency'), ('cell_method', 'time: mean')]) <xarray.DataArray 'TPHYSTND' (lev: 30)>\n",
      "array([ 7.867698e-07, -7.975862e-07, -5.422063e-06,  1.249287e-05,\n",
      "       -1.617808e-06, -1.160911e-07, -7.232267e-07, -5.619410e-07,\n",
      "        2.782731e-07, -3.554236e-07, -9.760744e-07, -2.147032e-06,\n",
      "       -2.635271e-06, -3.087351e-06, -3.616228e-06, -4.214406e-06,\n",
      "       -4.245832e-06, -3.104280e-06, -8.202992e-07,  1.217512e-06,\n",
      "        1.152844e-06, -3.406510e-07, -5.682986e-07,  4.011925e-06,\n",
      "        5.285697e-06,  6.865961e-06,  7.266987e-06,  6.980339e-06,\n",
      "        5.580496e-06,  2.152684e-06], dtype=float32)\n",
      "Coordinates:\n",
      "  * lev      (lev) float64 3.643 7.595 14.36 24.61 ... 936.2 957.5 976.3 992.6 sum= <xarray.DataArray 'TPHYSTND' ()>\n",
      "array(1.87225e-05, dtype=float32)\n",
      "<xarray.DataArray 'PRECSC' ()>\n",
      "array(3.631796e-09, dtype=float32)\n",
      "<xarray.DataArray 'PRECSL' ()>\n",
      "array(2.199336e-09, dtype=float32)\n",
      "<xarray.DataArray ()>\n",
      "array(5.831132e-09, dtype=float32)\n",
      "<xarray.DataArray 'PRECSTEN' ()>\n",
      "array(4.206476e-07, dtype=float32)\n",
      "OrderedDict([('units', 'm/s'), ('long_name', 'Large-scale (stable) snow rate (water equivalent)'), ('cell_method', 'time: mean')]) <xarray.DataArray 'PRECTEND' ()>\n",
      "array(4.809106e-07, dtype=float32)\n"
     ]
    }
   ],
   "source": [
    "DATADIR = '/project/meteo/w2w/A6/S.Rasp/SP-CAM/sp32fbp_andkua/'\n",
    "import xarray as xr\n",
    "import numpy as np\n",
    "ds = xr.open_dataset(DATADIR + 'AndKua_aqua_SPCAM3.0_sp_fbp32.cam2.h1.0000-01-01-00000.nc', \n",
    "                     decode_times=False)\n",
    "# The large-scale snow rate equivalent needs to be multiplied by 1e-3 for water conservation\n",
    "#print(ds.PRECC)\n",
    "#print(ds.PRECL)\n",
    "print(ds.DTVKE.attrs,ds.DTVKE.mean(dim=['lon','lat','time'])/1800,'sum=',np.sum(ds.DTVKE.mean(dim=['lon','lat','time'])/1800))\n",
    "print(ds.TPHYSTND.attrs,ds.TPHYSTND.mean(dim=['lon','lat','time']),'sum=',np.sum(ds.TPHYSTND.mean(dim=['lon','lat','time'])))\n",
    "print(ds.PRECSC.mean(dim=['lon','lat','time']))\n",
    "print(ds.PRECSL.mean(dim=['lon','lat','time']))\n",
    "print(ds.PRECSC.mean(dim=['lon','lat','time'])+ds.PRECSL.mean(dim=['lon','lat','time']))\n",
    "print(ds.PRECSTEN.mean(dim=['lon','lat','time']))\n",
    "print(ds.PRECTEND.attrs,ds.PRECTEND.mean(dim=['lon','lat','time']))"
   ]
  },
  {
   "cell_type": "code",
   "execution_count": 126,
   "metadata": {},
   "outputs": [
    {
     "name": "stdout",
     "output_type": "stream",
     "text": [
      "GitPython not found. Please install for better reproducibility.\n",
      "Time checkpoint reading data: 23.85 s\n",
      "Number of time steps: 1728\n",
      "Cut time steps: [ 143  287  431  575  719  863 1007 1151 1295 1439 1583]\n",
      "Cut time steps: [ 143  287  431  575  719  863 1007 1151 1295 1439 1583]\n",
      "Time checkpoint create datasets: 23.96 s\n",
      "Time checkpoint reshape and rechunk: 36.44 s\n",
      "Compute means and stds\n",
      "Saving normalization file: /local/Tom.Beucler/SPCAM_PHYS/32_col_mp_3d_train_norm.nc\n",
      "Time checkpoint normalization arrays: 340.85 s\n",
      "Time checkpoint rechunk and ds: 343.04 s\n",
      "Save features: /local/Tom.Beucler/SPCAM_PHYS/32_col_mp_3d_train_features.nc\n",
      "Save targets: /local/Tom.Beucler/SPCAM_PHYS/32_col_mp_3d_train_targets.nc\n",
      "Total time: 459.15 s\n"
     ]
    }
   ],
   "source": [
    "!python cbrain/Test01_preprocess_aqua.py \\\n",
    "--config pp_config/32col_mp_ref_tbeucler_local.yml \\\n",
    "--aqua_names '*.h1.0000-*-0[1-3]-*' \\\n",
    "--out_pref 32_col_mp_3d_train"
   ]
  },
  {
   "cell_type": "code",
   "execution_count": 123,
   "metadata": {},
   "outputs": [
    {
     "name": "stdout",
     "output_type": "stream",
     "text": [
      "/data/Tom.Beucler/SPCAM_PHYS\n",
      "/data/Tom.Beucler/SPCAM_PHYS\n",
      "rm: cannot remove '32_col*': No such file or directory\n"
     ]
    }
   ],
   "source": [
    "!ls $TRAINDIR\n",
    "%cd $TRAINDIR\n",
    "!pwd\n",
    "#!rm 32_col*"
   ]
  },
  {
   "cell_type": "markdown",
   "metadata": {},
   "source": [
    "### 1.2) Create validation dataset\n",
    "tgb - 1/23/2019 - Adapted from Stephan's entire workflow for 32 column run\n"
   ]
  },
  {
   "cell_type": "code",
   "execution_count": 274,
   "metadata": {},
   "outputs": [
    {
     "name": "stdout",
     "output_type": "stream",
     "text": [
      "GitPython not found. Please install for better reproducibility.\n",
      "Time checkpoint reading data: 10.20 s\n",
      "Number of time steps: 432\n",
      "Cut time steps: [143 287]\n",
      "Cut time steps: [143 287]\n",
      "Time checkpoint create datasets: 10.29 s\n",
      "Time checkpoint reshape and rechunk: 13.35 s\n",
      "Load external normalization file\n",
      "Time checkpoint normalization arrays: 13.35 s\n",
      "Time checkpoint rechunk and ds: 13.67 s\n",
      "Save features: /local/Tom.Beucler/SPCAM_PHYS/32_col_mp_3d_valid_features.nc\n",
      "Save targets: /local/Tom.Beucler/SPCAM_PHYS/32_col_mp_3d_valid_targets.nc\n",
      "Total time: 69.42 s\n"
     ]
    }
   ],
   "source": [
    "!python cbrain/Test01_preprocess_aqua.py \\\n",
    "--config pp_config/32col_mp_ref_tbeucler_local.yml \\\n",
    "--aqua_names '*.h1.0001-*-0[1-3]-*' \\\n",
    "--out_pref 32_col_mp_3d_valid --ext_norm Nope"
   ]
  },
  {
   "cell_type": "code",
   "execution_count": 275,
   "metadata": {},
   "outputs": [
    {
     "name": "stdout",
     "output_type": "stream",
     "text": [
      "32_col_mp_3d_train_features.nc\t\t32_col_mp_3d_train_shuffle_targets.nc\r\n",
      "32_col_mp_3d_train_norm.nc\t\t32_col_mp_3d_train_targets.nc\r\n",
      "32_col_mp_3d_train_oldnorm.nc\t\t32_col_mp_3d_valid_features.nc\r\n",
      "32_col_mp_3d_train_shuffle_features.nc\t32_col_mp_3d_valid_targets.nc\r\n"
     ]
    }
   ],
   "source": [
    "!ls $TRAINDIR"
   ]
  },
  {
   "cell_type": "markdown",
   "metadata": {},
   "source": [
    "### 1.3) Shuffle the training dataset\n",
    "tgb - 1/16/2019 - Adapted from Stephan's entire worlflow for 32 column run"
   ]
  },
  {
   "cell_type": "code",
   "execution_count": 4,
   "metadata": {},
   "outputs": [
    {
     "name": "stdout",
     "output_type": "stream",
     "text": [
      "/filer/z-sv-pool12c/t/Tom.Beucler/SPCAM/CBRAIN-CAM\n",
      "usage: shuffle_ds.py [-h] [--method METHOD] [--pref PREF]\n",
      "                     [--random_seed RANDOM_SEED] [--chunk_size CHUNK_SIZE]\n",
      "                     [--verbose VERBOSE]\n",
      "\n",
      "optional arguments:\n",
      "  -h, --help            show this help message and exit\n",
      "  --method METHOD       [Meticulous or fast]\n",
      "  --pref PREF           Prefix. ie without the _features.nc\n",
      "  --random_seed RANDOM_SEED\n",
      "                        Random seed for shuffling of data.\n",
      "  --chunk_size CHUNK_SIZE\n",
      "                        Size of chunks for fast method\n",
      "  --verbose VERBOSE     Verbosity level\n"
     ]
    }
   ],
   "source": [
    "%cd /filer/z-sv-pool12c/t/Tom.Beucler/SPCAM/CBRAIN-CAM\n",
    "!python cbrain/shuffle_ds.py -h"
   ]
  },
  {
   "cell_type": "code",
   "execution_count": 128,
   "metadata": {},
   "outputs": [
    {
     "name": "stdout",
     "output_type": "stream",
     "text": [
      "Reading files: /local/Tom.Beucler/SPCAM_PHYS//32_col_mp_3d_train_features.nc /local/Tom.Beucler/SPCAM_PHYS//32_col_mp_3d_train_targets.nc\n",
      "Creating files: /local/Tom.Beucler/SPCAM_PHYS//32_col_mp_3d_train_shuffle_features.nc /local/Tom.Beucler/SPCAM_PHYS//32_col_mp_3d_train_shuffle_targets.nc\n",
      "GitPython not found. Please install for better reproducibility.\n",
      "GitPython not found. Please install for better reproducibility.\n",
      "100%|█████████████████████████████████████████████| 2/2 [00:44<00:00, 26.89s/it]\n"
     ]
    }
   ],
   "source": [
    "!python cbrain/shuffle_ds.py --pref $TRAINDIR/32_col_mp_3d_train"
   ]
  },
  {
   "cell_type": "markdown",
   "metadata": {},
   "source": [
    "tgb - 1/24/2019 - Also shuffle the validation dataset"
   ]
  },
  {
   "cell_type": "code",
   "execution_count": 5,
   "metadata": {},
   "outputs": [
    {
     "name": "stdout",
     "output_type": "stream",
     "text": [
      "Reading files: /local/Tom.Beucler/SPCAM_PHYS//32_col_mp_3d_valid_features.nc /local/Tom.Beucler/SPCAM_PHYS//32_col_mp_3d_valid_targets.nc\n",
      "Creating files: /local/Tom.Beucler/SPCAM_PHYS//32_col_mp_3d_valid_shuffle_features.nc /local/Tom.Beucler/SPCAM_PHYS//32_col_mp_3d_valid_shuffle_targets.nc\n",
      "GitPython not found. Please install for better reproducibility.\n",
      "GitPython not found. Please install for better reproducibility.\n",
      "100%|█████████████████████████████████████████████| 1/1 [00:11<00:00, 11.78s/it]\n"
     ]
    }
   ],
   "source": [
    "!python cbrain/shuffle_ds.py --pref $TRAINDIR/32_col_mp_3d_valid"
   ]
  },
  {
   "cell_type": "markdown",
   "metadata": {},
   "source": [
    "### 1.4) Change the output's normalization using pressure levels\n",
    "#### Step 0: Load the file using xarray"
   ]
  },
  {
   "cell_type": "code",
   "execution_count": 129,
   "metadata": {},
   "outputs": [],
   "source": [
    "import xarray as xr\n",
    "ds.close()\n",
    "ds = xr.open_dataset(TRAINDIR + '32_col_mp_3d_train_norm.nc')"
   ]
  },
  {
   "cell_type": "code",
   "execution_count": 130,
   "metadata": {
    "scrolled": true
   },
   "outputs": [
    {
     "data": {
      "text/plain": [
       "<xarray.DataArray 'target_conv' (target_lev: 158)>\n",
       "array([2.550438e+05, 2.550438e+05, 2.550438e+05, 2.550438e+05, 2.550438e+05,\n",
       "       2.550438e+05, 2.550438e+05, 2.550438e+05, 2.550438e+05, 2.550438e+05,\n",
       "       2.550438e+05, 2.550438e+05, 2.550438e+05, 2.550438e+05, 2.550438e+05,\n",
       "       2.550438e+05, 2.550438e+05, 2.550438e+05, 2.550438e+05, 2.550438e+05,\n",
       "       2.550438e+05, 2.550438e+05, 2.550438e+05, 2.550438e+05, 2.550438e+05,\n",
       "       2.550438e+05, 2.550438e+05, 2.550438e+05, 2.550438e+05, 2.550438e+05,\n",
       "       2.550438e+05, 2.550438e+05, 2.550438e+05, 2.550438e+05, 2.550438e+05,\n",
       "       2.550438e+05, 2.550438e+05, 2.550438e+05, 2.550438e+05, 2.550438e+05,\n",
       "       2.550438e+05, 2.550438e+05, 2.550438e+05, 2.550438e+05, 2.550438e+05,\n",
       "       2.550438e+05, 2.550438e+05, 2.550438e+05, 2.550438e+05, 2.550438e+05,\n",
       "       2.550438e+05, 2.550438e+05, 2.550438e+05, 2.550438e+05, 2.550438e+05,\n",
       "       2.550438e+05, 2.550438e+05, 2.550438e+05, 2.550438e+05, 2.550438e+05,\n",
       "       2.550438e+05, 2.550438e+05, 2.550438e+05, 2.550438e+05, 2.550438e+05,\n",
       "       2.550438e+05, 2.550438e+05, 2.550438e+05, 2.550438e+05, 2.550438e+05,\n",
       "       2.550438e+05, 2.550438e+05, 2.550438e+05, 2.550438e+05, 2.550438e+05,\n",
       "       2.550438e+05, 2.550438e+05, 2.550438e+05, 2.550438e+05, 2.550438e+05,\n",
       "       2.550438e+05, 2.550438e+05, 2.550438e+05, 2.550438e+05, 2.550438e+05,\n",
       "       2.550438e+05, 2.550438e+05, 2.550438e+05, 2.550438e+05, 2.550438e+05,\n",
       "       1.024499e+02, 1.024499e+02, 1.024499e+02, 1.024499e+02, 1.024499e+02,\n",
       "       1.024499e+02, 1.024499e+02, 1.024499e+02, 1.024499e+02, 1.024499e+02,\n",
       "       1.024499e+02, 1.024499e+02, 1.024499e+02, 1.024499e+02, 1.024499e+02,\n",
       "       1.024499e+02, 1.024499e+02, 1.024499e+02, 1.024499e+02, 1.024499e+02,\n",
       "       1.024499e+02, 1.024499e+02, 1.024499e+02, 1.024499e+02, 1.024499e+02,\n",
       "       1.024499e+02, 1.024499e+02, 1.024499e+02, 1.024499e+02, 1.024499e+02,\n",
       "       1.024499e+02, 1.024499e+02, 1.024499e+02, 1.024499e+02, 1.024499e+02,\n",
       "       1.024499e+02, 1.024499e+02, 1.024499e+02, 1.024499e+02, 1.024499e+02,\n",
       "       1.024499e+02, 1.024499e+02, 1.024499e+02, 1.024499e+02, 1.024499e+02,\n",
       "       1.024499e+02, 1.024499e+02, 1.024499e+02, 1.024499e+02, 1.024499e+02,\n",
       "       1.024499e+02, 1.024499e+02, 1.024499e+02, 1.024499e+02, 1.024499e+02,\n",
       "       1.024499e+02, 1.024499e+02, 1.024499e+02, 1.024499e+02, 1.024499e+02,\n",
       "       1.000000e+00, 1.000000e+00, 1.000000e+00, 1.000000e+00, 2.501000e+09,\n",
       "       2.501000e+06, 2.501000e+09, 2.501000e+06], dtype=float32)\n",
       "Coordinates:\n",
       "  * target_lev  (target_lev) int64 0 1 2 3 4 5 6 ... 151 152 153 154 155 156 157"
      ]
     },
     "execution_count": 130,
     "metadata": {},
     "output_type": "execute_result"
    }
   ],
   "source": [
    "ds.target_conv\n"
   ]
  },
  {
   "cell_type": "markdown",
   "metadata": {},
   "source": [
    "#### Step 1: Check already existing normalizations\n",
    "$$\n",
    "\\left(\\frac{dq_{v,l,i}}{dt}\\right)\\rightarrow\\frac{L_{v}}{g}\\ \\left(\\mathrm{Missing}\\ \\Delta p\\right)\n",
    "$$\n",
    "$$\n",
    "\\left(\\frac{dT}{dt}\\right)\\rightarrow\\frac{c_{p}}{g}\\ \\left(\\mathrm{Missing\\ }\\Delta p\\right)\n",
    "$$\n",
    "$$\n",
    "\\left(\\frac{dT_{TKE}}{dt}\\right)\\rightarrow\\frac{c_{p}}{g}\\ \\left(\\mathrm{Missing\\ }\\Delta p\\right)\n",
    "$$\n",
    "$$\n",
    "{\\cal F}_{\\mathrm{rad}}\\rightarrow1\\ \\left(\\mathrm{All\\ good}\\right)\n",
    "$$\n",
    "$$\n",
    "\\mathrm{Precip}_{{\\cal V}}\\rightarrow\\rho L_{v}\\ \\left(\\mathrm{All\\ good}\\right)\n",
    "$$\n",
    "$$\n",
    "\\mathrm{Precip}_{{\\mathrm{tend}, \\cal V}}\\rightarrow\\ 10^{-3}\\ \\rho\\ L_{v}\\ \\left(\\mathrm{All\\ good}\\right)\n",
    "$$\n",
    "We need to multiply the first (5 variables) * (30 levels) = (150 scalars) by the vector delta_p (level)\n"
   ]
  },
  {
   "cell_type": "markdown",
   "metadata": {},
   "source": [
    "#### Step 2: Calculate differential pressure for each level"
   ]
  },
  {
   "cell_type": "code",
   "execution_count": 131,
   "metadata": {},
   "outputs": [
    {
     "data": {
      "text/plain": [
       "array([ 277.64523402,  512.62555644,  839.73696455, 1211.38058603,\n",
       "       1519.8353678 , 1745.60062587, 1737.79353499, 1423.96241426,\n",
       "       1675.21685362, 1970.80597281, 2318.55362654, 2727.6545763 ,\n",
       "       3208.94680917, 3775.1596421 , 4441.27991796, 5224.93720055,\n",
       "       6146.86310291, 7231.4709425 , 8507.44917989, 8510.85484028,\n",
       "       7811.29226089, 6591.71789885, 4899.05960858, 2836.21996641,\n",
       "       2660.87651253, 2463.98309246, 2246.78721279, 2010.62900014,\n",
       "       1757.35657103, 1488.78097534])"
      ]
     },
     "execution_count": 131,
     "metadata": {},
     "output_type": "execute_result"
    }
   ],
   "source": [
    "# 1.1 Open the pickle files containing the pressure converters\n",
    "with open(os.path.join('/filer/z-sv-pool12c/t/Tom.Beucler/SPCAM/CBRAIN-CAM/cbrain', 'hyai_hybi.pkl'), 'rb') as f:\n",
    "            hyai, hybi = pickle.load(f)\n",
    "# 1.2 Takes representative value for PS since purpose is normalization\n",
    "PS = 1e5; P0 = 1e5;\n",
    "P = P0*hyai+PS*hybi; # Total pressure [Pa]\n",
    "dP = P[1:]-P[:-1]; # Differential pressure [Pa]\n",
    "dP"
   ]
  },
  {
   "cell_type": "markdown",
   "metadata": {},
   "source": [
    "#### Step 3: Multiply Q/T tendency components of the norm. vector by dp"
   ]
  },
  {
   "cell_type": "code",
   "execution_count": 132,
   "metadata": {},
   "outputs": [],
   "source": [
    "import numpy as np\n",
    "dt = 30*60; # timestep\n",
    "ds.target_conv[:150] = np.multiply(ds.target_conv[:150],np.concatenate((dP,dP,dP,dP,np.divide(dP,dt))))"
   ]
  },
  {
   "cell_type": "code",
   "execution_count": 133,
   "metadata": {},
   "outputs": [
    {
     "data": {
      "text/plain": [
       "<xarray.DataArray 'target_conv' (target_lev: 158)>\n",
       "array([7.081169e+07, 1.307420e+08, 2.141697e+08, 3.089551e+08, 3.876245e+08,\n",
       "       4.452045e+08, 4.432134e+08, 3.631727e+08, 4.272536e+08, 5.026418e+08,\n",
       "       5.913327e+08, 6.956713e+08, 8.184219e+08, 9.628309e+08, 1.132721e+09,\n",
       "       1.332588e+09, 1.567719e+09, 1.844342e+09, 2.169772e+09, 2.170640e+09,\n",
       "       1.992221e+09, 1.681177e+09, 1.249475e+09, 7.233602e+08, 6.786399e+08,\n",
       "       6.284236e+08, 5.730291e+08, 5.127984e+08, 4.482028e+08, 3.797043e+08,\n",
       "       7.081169e+07, 1.307420e+08, 2.141697e+08, 3.089551e+08, 3.876245e+08,\n",
       "       4.452045e+08, 4.432134e+08, 3.631727e+08, 4.272536e+08, 5.026418e+08,\n",
       "       5.913327e+08, 6.956713e+08, 8.184219e+08, 9.628309e+08, 1.132721e+09,\n",
       "       1.332588e+09, 1.567719e+09, 1.844342e+09, 2.169772e+09, 2.170640e+09,\n",
       "       1.992221e+09, 1.681177e+09, 1.249475e+09, 7.233602e+08, 6.786399e+08,\n",
       "       6.284236e+08, 5.730291e+08, 5.127984e+08, 4.482028e+08, 3.797043e+08,\n",
       "       7.081169e+07, 1.307420e+08, 2.141697e+08, 3.089551e+08, 3.876245e+08,\n",
       "       4.452045e+08, 4.432134e+08, 3.631727e+08, 4.272536e+08, 5.026418e+08,\n",
       "       5.913327e+08, 6.956713e+08, 8.184219e+08, 9.628309e+08, 1.132721e+09,\n",
       "       1.332588e+09, 1.567719e+09, 1.844342e+09, 2.169772e+09, 2.170640e+09,\n",
       "       1.992221e+09, 1.681177e+09, 1.249475e+09, 7.233602e+08, 6.786399e+08,\n",
       "       6.284236e+08, 5.730291e+08, 5.127984e+08, 4.482028e+08, 3.797043e+08,\n",
       "       2.844472e+04, 5.251843e+04, 8.603096e+04, 1.241058e+05, 1.557070e+05,\n",
       "       1.788366e+05, 1.780368e+05, 1.458848e+05, 1.716258e+05, 2.019089e+05,\n",
       "       2.375356e+05, 2.794479e+05, 3.287562e+05, 3.867647e+05, 4.550086e+05,\n",
       "       5.352942e+05, 6.297454e+05, 7.408634e+05, 8.715872e+05, 8.719361e+05,\n",
       "       8.002661e+05, 6.753208e+05, 5.019081e+05, 2.905704e+05, 2.726065e+05,\n",
       "       2.524348e+05, 2.301831e+05, 2.059887e+05, 1.800410e+05, 1.525255e+05,\n",
       "       1.580262e+01, 2.917691e+01, 4.779498e+01, 6.894767e+01, 8.650387e+01,\n",
       "       9.935366e+01, 9.890931e+01, 8.104710e+01, 9.534766e+01, 1.121716e+02,\n",
       "       1.319642e+02, 1.552488e+02, 1.826424e+02, 2.148693e+02, 2.527826e+02,\n",
       "       2.973857e+02, 3.498586e+02, 4.115908e+02, 4.842151e+02, 4.844090e+02,\n",
       "       4.445923e+02, 3.751782e+02, 2.788378e+02, 1.614280e+02, 1.514481e+02,\n",
       "       1.402415e+02, 1.278795e+02, 1.144382e+02, 1.000228e+02, 8.473636e+01,\n",
       "       1.000000e+00, 1.000000e+00, 1.000000e+00, 1.000000e+00, 2.501000e+09,\n",
       "       2.501000e+06, 2.501000e+09, 2.501000e+06], dtype=float32)\n",
       "Coordinates:\n",
       "  * target_lev  (target_lev) int64 0 1 2 3 4 5 6 ... 151 152 153 154 155 156 157"
      ]
     },
     "execution_count": 133,
     "metadata": {},
     "output_type": "execute_result"
    }
   ],
   "source": [
    "ds.target_conv"
   ]
  },
  {
   "cell_type": "markdown",
   "metadata": {},
   "source": [
    "#### Step 4: Replace targ_conv in the train_norm NETCDF file with the new values"
   ]
  },
  {
   "cell_type": "code",
   "execution_count": 134,
   "metadata": {},
   "outputs": [],
   "source": [
    "# 4.1 Copy old normalization file\n",
    "path1 = os.path.join(TRAINDIR,'32_col_mp_3d_train_norm.nc')\n",
    "path2 = os.path.join(TRAINDIR,'32_col_mp_3d_train_oldnorm.nc')\n",
    "!cp $path1 $path2"
   ]
  },
  {
   "cell_type": "code",
   "execution_count": 135,
   "metadata": {},
   "outputs": [
    {
     "data": {
      "text/plain": [
       "<xarray.DataArray 'target_conv' (target_lev: 158)>\n",
       "array([2.550438e+05, 2.550438e+05, 2.550438e+05, 2.550438e+05, 2.550438e+05,\n",
       "       2.550438e+05, 2.550438e+05, 2.550438e+05, 2.550438e+05, 2.550438e+05,\n",
       "       2.550438e+05, 2.550438e+05, 2.550438e+05, 2.550438e+05, 2.550438e+05,\n",
       "       2.550438e+05, 2.550438e+05, 2.550438e+05, 2.550438e+05, 2.550438e+05,\n",
       "       2.550438e+05, 2.550438e+05, 2.550438e+05, 2.550438e+05, 2.550438e+05,\n",
       "       2.550438e+05, 2.550438e+05, 2.550438e+05, 2.550438e+05, 2.550438e+05,\n",
       "       2.550438e+05, 2.550438e+05, 2.550438e+05, 2.550438e+05, 2.550438e+05,\n",
       "       2.550438e+05, 2.550438e+05, 2.550438e+05, 2.550438e+05, 2.550438e+05,\n",
       "       2.550438e+05, 2.550438e+05, 2.550438e+05, 2.550438e+05, 2.550438e+05,\n",
       "       2.550438e+05, 2.550438e+05, 2.550438e+05, 2.550438e+05, 2.550438e+05,\n",
       "       2.550438e+05, 2.550438e+05, 2.550438e+05, 2.550438e+05, 2.550438e+05,\n",
       "       2.550438e+05, 2.550438e+05, 2.550438e+05, 2.550438e+05, 2.550438e+05,\n",
       "       2.550438e+05, 2.550438e+05, 2.550438e+05, 2.550438e+05, 2.550438e+05,\n",
       "       2.550438e+05, 2.550438e+05, 2.550438e+05, 2.550438e+05, 2.550438e+05,\n",
       "       2.550438e+05, 2.550438e+05, 2.550438e+05, 2.550438e+05, 2.550438e+05,\n",
       "       2.550438e+05, 2.550438e+05, 2.550438e+05, 2.550438e+05, 2.550438e+05,\n",
       "       2.550438e+05, 2.550438e+05, 2.550438e+05, 2.550438e+05, 2.550438e+05,\n",
       "       2.550438e+05, 2.550438e+05, 2.550438e+05, 2.550438e+05, 2.550438e+05,\n",
       "       1.024499e+02, 1.024499e+02, 1.024499e+02, 1.024499e+02, 1.024499e+02,\n",
       "       1.024499e+02, 1.024499e+02, 1.024499e+02, 1.024499e+02, 1.024499e+02,\n",
       "       1.024499e+02, 1.024499e+02, 1.024499e+02, 1.024499e+02, 1.024499e+02,\n",
       "       1.024499e+02, 1.024499e+02, 1.024499e+02, 1.024499e+02, 1.024499e+02,\n",
       "       1.024499e+02, 1.024499e+02, 1.024499e+02, 1.024499e+02, 1.024499e+02,\n",
       "       1.024499e+02, 1.024499e+02, 1.024499e+02, 1.024499e+02, 1.024499e+02,\n",
       "       1.024499e+02, 1.024499e+02, 1.024499e+02, 1.024499e+02, 1.024499e+02,\n",
       "       1.024499e+02, 1.024499e+02, 1.024499e+02, 1.024499e+02, 1.024499e+02,\n",
       "       1.024499e+02, 1.024499e+02, 1.024499e+02, 1.024499e+02, 1.024499e+02,\n",
       "       1.024499e+02, 1.024499e+02, 1.024499e+02, 1.024499e+02, 1.024499e+02,\n",
       "       1.024499e+02, 1.024499e+02, 1.024499e+02, 1.024499e+02, 1.024499e+02,\n",
       "       1.024499e+02, 1.024499e+02, 1.024499e+02, 1.024499e+02, 1.024499e+02,\n",
       "       1.000000e+00, 1.000000e+00, 1.000000e+00, 1.000000e+00, 2.501000e+09,\n",
       "       2.501000e+06, 2.501000e+09, 2.501000e+06], dtype=float32)\n",
       "Coordinates:\n",
       "  * target_lev  (target_lev) int64 0 1 2 3 4 5 6 ... 151 152 153 154 155 156 157"
      ]
     },
     "execution_count": 135,
     "metadata": {},
     "output_type": "execute_result"
    }
   ],
   "source": [
    "# 4.1.CHECK that the old normalization file was properly copied\n",
    "xr.open_dataset(TRAINDIR + '32_col_mp_3d_train_oldnorm.nc').target_conv"
   ]
  },
  {
   "cell_type": "code",
   "execution_count": 136,
   "metadata": {},
   "outputs": [],
   "source": [
    "# 4.2 Create new dataset with characteristics of modified ds\n",
    "new_ds = xr.Dataset({\n",
    "            'feature_means': ds.feature_means,\n",
    "            'feature_stds': ds.feature_stds,\n",
    "            'feature_mins': ds.feature_mins,\n",
    "            'feature_maxs': ds.feature_maxs,\n",
    "            'target_means': ds.target_means,\n",
    "            'target_stds': ds.target_stds,\n",
    "            'target_mins': ds.target_mins,\n",
    "            'target_maxs': ds.target_maxs,\n",
    "            'feature_names': ds.feature_names,\n",
    "            'target_names': ds.target_names,\n",
    "            'feature_stds_by_var': ds.feature_stds_by_var,\n",
    "            'target_conv': ds.target_conv\n",
    "        })"
   ]
  },
  {
   "cell_type": "code",
   "execution_count": 137,
   "metadata": {},
   "outputs": [
    {
     "data": {
      "text/plain": [
       "<xarray.DataArray 'target_conv' (target_lev: 158)>\n",
       "array([7.081169e+07, 1.307420e+08, 2.141697e+08, 3.089551e+08, 3.876245e+08,\n",
       "       4.452045e+08, 4.432134e+08, 3.631727e+08, 4.272536e+08, 5.026418e+08,\n",
       "       5.913327e+08, 6.956713e+08, 8.184219e+08, 9.628309e+08, 1.132721e+09,\n",
       "       1.332588e+09, 1.567719e+09, 1.844342e+09, 2.169772e+09, 2.170640e+09,\n",
       "       1.992221e+09, 1.681177e+09, 1.249475e+09, 7.233602e+08, 6.786399e+08,\n",
       "       6.284236e+08, 5.730291e+08, 5.127984e+08, 4.482028e+08, 3.797043e+08,\n",
       "       7.081169e+07, 1.307420e+08, 2.141697e+08, 3.089551e+08, 3.876245e+08,\n",
       "       4.452045e+08, 4.432134e+08, 3.631727e+08, 4.272536e+08, 5.026418e+08,\n",
       "       5.913327e+08, 6.956713e+08, 8.184219e+08, 9.628309e+08, 1.132721e+09,\n",
       "       1.332588e+09, 1.567719e+09, 1.844342e+09, 2.169772e+09, 2.170640e+09,\n",
       "       1.992221e+09, 1.681177e+09, 1.249475e+09, 7.233602e+08, 6.786399e+08,\n",
       "       6.284236e+08, 5.730291e+08, 5.127984e+08, 4.482028e+08, 3.797043e+08,\n",
       "       7.081169e+07, 1.307420e+08, 2.141697e+08, 3.089551e+08, 3.876245e+08,\n",
       "       4.452045e+08, 4.432134e+08, 3.631727e+08, 4.272536e+08, 5.026418e+08,\n",
       "       5.913327e+08, 6.956713e+08, 8.184219e+08, 9.628309e+08, 1.132721e+09,\n",
       "       1.332588e+09, 1.567719e+09, 1.844342e+09, 2.169772e+09, 2.170640e+09,\n",
       "       1.992221e+09, 1.681177e+09, 1.249475e+09, 7.233602e+08, 6.786399e+08,\n",
       "       6.284236e+08, 5.730291e+08, 5.127984e+08, 4.482028e+08, 3.797043e+08,\n",
       "       2.844472e+04, 5.251843e+04, 8.603096e+04, 1.241058e+05, 1.557070e+05,\n",
       "       1.788366e+05, 1.780368e+05, 1.458848e+05, 1.716258e+05, 2.019089e+05,\n",
       "       2.375356e+05, 2.794479e+05, 3.287562e+05, 3.867647e+05, 4.550086e+05,\n",
       "       5.352942e+05, 6.297454e+05, 7.408634e+05, 8.715872e+05, 8.719361e+05,\n",
       "       8.002661e+05, 6.753208e+05, 5.019081e+05, 2.905704e+05, 2.726065e+05,\n",
       "       2.524348e+05, 2.301831e+05, 2.059887e+05, 1.800410e+05, 1.525255e+05,\n",
       "       1.580262e+01, 2.917691e+01, 4.779498e+01, 6.894767e+01, 8.650387e+01,\n",
       "       9.935366e+01, 9.890931e+01, 8.104710e+01, 9.534766e+01, 1.121716e+02,\n",
       "       1.319642e+02, 1.552488e+02, 1.826424e+02, 2.148693e+02, 2.527826e+02,\n",
       "       2.973857e+02, 3.498586e+02, 4.115908e+02, 4.842151e+02, 4.844090e+02,\n",
       "       4.445923e+02, 3.751782e+02, 2.788378e+02, 1.614280e+02, 1.514481e+02,\n",
       "       1.402415e+02, 1.278795e+02, 1.144382e+02, 1.000228e+02, 8.473636e+01,\n",
       "       1.000000e+00, 1.000000e+00, 1.000000e+00, 1.000000e+00, 2.501000e+09,\n",
       "       2.501000e+06, 2.501000e+09, 2.501000e+06], dtype=float32)\n",
       "Coordinates:\n",
       "  * target_lev  (target_lev) int64 0 1 2 3 4 5 6 ... 151 152 153 154 155 156 157"
      ]
     },
     "execution_count": 137,
     "metadata": {},
     "output_type": "execute_result"
    }
   ],
   "source": [
    "# 4.2 Check\n",
    "new_ds.target_conv"
   ]
  },
  {
   "cell_type": "code",
   "execution_count": 138,
   "metadata": {},
   "outputs": [],
   "source": [
    "# 4.3 Write new data set to initial target_conv file\n",
    "!rm $path1 # Remove normalization file"
   ]
  },
  {
   "cell_type": "code",
   "execution_count": 139,
   "metadata": {},
   "outputs": [],
   "source": [
    "new_ds.to_netcdf(path1) # Save the new dataset as the new normalization file"
   ]
  },
  {
   "cell_type": "code",
   "execution_count": 140,
   "metadata": {},
   "outputs": [
    {
     "data": {
      "text/plain": [
       "<xarray.DataArray 'target_conv' (target_lev: 158)>\n",
       "array([7.081169e+07, 1.307420e+08, 2.141697e+08, 3.089551e+08, 3.876245e+08,\n",
       "       4.452045e+08, 4.432134e+08, 3.631727e+08, 4.272536e+08, 5.026418e+08,\n",
       "       5.913327e+08, 6.956713e+08, 8.184219e+08, 9.628309e+08, 1.132721e+09,\n",
       "       1.332588e+09, 1.567719e+09, 1.844342e+09, 2.169772e+09, 2.170640e+09,\n",
       "       1.992221e+09, 1.681177e+09, 1.249475e+09, 7.233602e+08, 6.786399e+08,\n",
       "       6.284236e+08, 5.730291e+08, 5.127984e+08, 4.482028e+08, 3.797043e+08,\n",
       "       7.081169e+07, 1.307420e+08, 2.141697e+08, 3.089551e+08, 3.876245e+08,\n",
       "       4.452045e+08, 4.432134e+08, 3.631727e+08, 4.272536e+08, 5.026418e+08,\n",
       "       5.913327e+08, 6.956713e+08, 8.184219e+08, 9.628309e+08, 1.132721e+09,\n",
       "       1.332588e+09, 1.567719e+09, 1.844342e+09, 2.169772e+09, 2.170640e+09,\n",
       "       1.992221e+09, 1.681177e+09, 1.249475e+09, 7.233602e+08, 6.786399e+08,\n",
       "       6.284236e+08, 5.730291e+08, 5.127984e+08, 4.482028e+08, 3.797043e+08,\n",
       "       7.081169e+07, 1.307420e+08, 2.141697e+08, 3.089551e+08, 3.876245e+08,\n",
       "       4.452045e+08, 4.432134e+08, 3.631727e+08, 4.272536e+08, 5.026418e+08,\n",
       "       5.913327e+08, 6.956713e+08, 8.184219e+08, 9.628309e+08, 1.132721e+09,\n",
       "       1.332588e+09, 1.567719e+09, 1.844342e+09, 2.169772e+09, 2.170640e+09,\n",
       "       1.992221e+09, 1.681177e+09, 1.249475e+09, 7.233602e+08, 6.786399e+08,\n",
       "       6.284236e+08, 5.730291e+08, 5.127984e+08, 4.482028e+08, 3.797043e+08,\n",
       "       2.844472e+04, 5.251843e+04, 8.603096e+04, 1.241058e+05, 1.557070e+05,\n",
       "       1.788366e+05, 1.780368e+05, 1.458848e+05, 1.716258e+05, 2.019089e+05,\n",
       "       2.375356e+05, 2.794479e+05, 3.287562e+05, 3.867647e+05, 4.550086e+05,\n",
       "       5.352942e+05, 6.297454e+05, 7.408634e+05, 8.715872e+05, 8.719361e+05,\n",
       "       8.002661e+05, 6.753208e+05, 5.019081e+05, 2.905704e+05, 2.726065e+05,\n",
       "       2.524348e+05, 2.301831e+05, 2.059887e+05, 1.800410e+05, 1.525255e+05,\n",
       "       1.580262e+01, 2.917691e+01, 4.779498e+01, 6.894767e+01, 8.650387e+01,\n",
       "       9.935366e+01, 9.890931e+01, 8.104710e+01, 9.534766e+01, 1.121716e+02,\n",
       "       1.319642e+02, 1.552488e+02, 1.826424e+02, 2.148693e+02, 2.527826e+02,\n",
       "       2.973857e+02, 3.498586e+02, 4.115908e+02, 4.842151e+02, 4.844090e+02,\n",
       "       4.445923e+02, 3.751782e+02, 2.788378e+02, 1.614280e+02, 1.514481e+02,\n",
       "       1.402415e+02, 1.278795e+02, 1.144382e+02, 1.000228e+02, 8.473636e+01,\n",
       "       1.000000e+00, 1.000000e+00, 1.000000e+00, 1.000000e+00, 2.501000e+09,\n",
       "       2.501000e+06, 2.501000e+09, 2.501000e+06], dtype=float32)\n",
       "Coordinates:\n",
       "  * target_lev  (target_lev) int64 0 1 2 3 4 5 6 ... 151 152 153 154 155 156 157"
      ]
     },
     "execution_count": 140,
     "metadata": {},
     "output_type": "execute_result"
    }
   ],
   "source": [
    "# 4.3 CHECK\n",
    "xr.open_dataset(path1).close() # Don't forget to close the old handler!!\n",
    "xr.open_dataset(path1).target_conv # Before checking if the new normalizations are at the right place"
   ]
  },
  {
   "cell_type": "markdown",
   "metadata": {},
   "source": [
    "## 2) Create data generator and produce data sample\n"
   ]
  },
  {
   "cell_type": "markdown",
   "metadata": {},
   "source": [
    "### 2.1) Create data generator from training dataset"
   ]
  },
  {
   "cell_type": "code",
   "execution_count": 141,
   "metadata": {},
   "outputs": [],
   "source": [
    "xr.open_dataset(path1).close() # Don't forget to close xarray handler!!"
   ]
  },
  {
   "cell_type": "code",
   "execution_count": 6,
   "metadata": {},
   "outputs": [
    {
     "name": "stdout",
     "output_type": "stream",
     "text": [
      "Generator will have 14057472 samples in 27456 batches\n",
      "Features have shape 154; targets have shape 158\n"
     ]
    }
   ],
   "source": [
    "train_gen_obj = DataGenerator(\n",
    "    data_dir=TRAINDIR, \n",
    "    feature_fn='32_col_mp_3d_train_shuffle_features.nc',\n",
    "    target_fn='32_col_mp_3d_train_shuffle_targets.nc',\n",
    "    batch_size=512,\n",
    "    norm_fn='32_col_mp_3d_train_norm.nc',\n",
    "    fsub='feature_means',   # Subtracct the mean\n",
    "    fdiv='feature_stds_by_var',    # Then divide by Std\n",
    "    tmult='target_conv',    # For targets/output: use values from preprocess_aqua.\n",
    "    shuffle=True,\n",
    ")"
   ]
  },
  {
   "cell_type": "code",
   "execution_count": 7,
   "metadata": {},
   "outputs": [],
   "source": [
    "gen = train_gen_obj.return_generator()"
   ]
  },
  {
   "cell_type": "markdown",
   "metadata": {},
   "source": [
    "### 2.2) Produce data sample"
   ]
  },
  {
   "cell_type": "code",
   "execution_count": 8,
   "metadata": {},
   "outputs": [
    {
     "data": {
      "text/plain": [
       "((512, 154), (512, 158))"
      ]
     },
     "execution_count": 8,
     "metadata": {},
     "output_type": "execute_result"
    }
   ],
   "source": [
    "x, y = next(gen)\n",
    "\n",
    "x.shape, y.shape"
   ]
  },
  {
   "cell_type": "markdown",
   "metadata": {},
   "source": [
    "### 2.3) Create data generator from validation dataset and produce sample"
   ]
  },
  {
   "cell_type": "code",
   "execution_count": 9,
   "metadata": {},
   "outputs": [
    {
     "name": "stdout",
     "output_type": "stream",
     "text": [
      "Generator will have 3514368 samples in 6864 batches\n",
      "Features have shape 154; targets have shape 158\n"
     ]
    }
   ],
   "source": [
    "valid_gen_obj = DataGenerator(\n",
    "    data_dir=TRAINDIR, \n",
    "    feature_fn='32_col_mp_3d_valid_shuffle_features.nc',\n",
    "    target_fn='32_col_mp_3d_valid_shuffle_targets.nc',\n",
    "    batch_size=512,\n",
    "    norm_fn='32_col_mp_3d_train_norm.nc',\n",
    "    fsub='feature_means',   # Subtracct the mean\n",
    "    fdiv='feature_stds_by_var',    # Then divide by Std\n",
    "    tmult='target_conv',    # For targets/output: use values from preprocess_aqua.\n",
    "    shuffle=True,\n",
    ")"
   ]
  },
  {
   "cell_type": "code",
   "execution_count": 10,
   "metadata": {},
   "outputs": [],
   "source": [
    "validgen = valid_gen_obj.return_generator()"
   ]
  },
  {
   "cell_type": "code",
   "execution_count": 11,
   "metadata": {},
   "outputs": [
    {
     "data": {
      "text/plain": [
       "((512, 154), (512, 158))"
      ]
     },
     "execution_count": 11,
     "metadata": {},
     "output_type": "execute_result"
    }
   ],
   "source": [
    "xval, yval = next(validgen)\n",
    "\n",
    "xval.shape, yval.shape"
   ]
  },
  {
   "cell_type": "markdown",
   "metadata": {},
   "source": [
    "## 3) Neural network attempts (tgb - started 1/15/2019)"
   ]
  },
  {
   "cell_type": "code",
   "execution_count": 12,
   "metadata": {},
   "outputs": [],
   "source": [
    "from keras.layers import *\n",
    "from keras.models import *"
   ]
  },
  {
   "cell_type": "markdown",
   "metadata": {},
   "source": [
    "### 3.3) Energy conservation strategy (tgb - started 1/18/2019)\n",
    "#### Step 0: Load all the variables to calculate mass-weighted vertical integrals "
   ]
  },
  {
   "cell_type": "code",
   "execution_count": 13,
   "metadata": {},
   "outputs": [],
   "source": [
    "# 1) Open the file containing the normalization of the targets\n",
    "ds = xr.open_dataset(TRAINDIR + '32_col_mp_3d_train_norm.nc')\n",
    "# 2) Open the pickle files containing the pressure converters\n",
    "with open(os.path.join('/filer/z-sv-pool12c/t/Tom.Beucler/SPCAM/CBRAIN-CAM/cbrain', 'hyai_hybi.pkl'), 'rb') as f:\n",
    "            hyai, hybi = pickle.load(f)"
   ]
  },
  {
   "cell_type": "code",
   "execution_count": 14,
   "metadata": {},
   "outputs": [
    {
     "name": "stdout",
     "output_type": "stream",
     "text": [
      "(154,)\n",
      "(154,)\n",
      "(158,)\n",
      "(31,)\n",
      "(31,)\n"
     ]
    }
   ],
   "source": [
    "fsub = ds.feature_means.values\n",
    "fdiv = ds.feature_stds_by_var.values\n",
    "normq = ds.target_conv.values\n",
    "print(fsub.shape)\n",
    "print(fdiv.shape)\n",
    "print(normq.shape)\n",
    "print(hyai.shape)\n",
    "print(hybi.shape)"
   ]
  },
  {
   "cell_type": "code",
   "execution_count": 15,
   "metadata": {},
   "outputs": [],
   "source": [
    "ds.close()"
   ]
  },
  {
   "cell_type": "markdown",
   "metadata": {},
   "source": [
    "#### Step 1: Implement mass conservation layer"
   ]
  },
  {
   "cell_type": "markdown",
   "metadata": {},
   "source": [
    "##### Enforcing mass conservation\n",
    "\n",
    "Reference for mass and energy conservation:\n",
    "\n",
    "(Original CAM F90 script, look for \"Compute vertical integrals of dry static energy and water\" in the script)  \n",
    "https://gitlab.com/mspritch/spcam3.0-neural-net/blob/master/models/atm/cam/src/physics/cam1/check_energy.F90\n",
    "\n",
    "(Stephan's energy/mass verification scripts)  \n",
    "https://github.com/raspstephan/CBRAIN-CAM/blob/master/notebooks/dev/old_notebooks/energy_conservation.ipynb\n",
    "\n",
    "##### Mass/Water conservation equation in W/m2\n",
    "\n",
    "If the network predicts the water vapor tendency, defined as the difference between the moisture before and after physics divided by the timestep dt (normalized in energy units W/m2):\n",
    "$$\\delta q_{v,i,l}\\left(p\\right)\\overset{\\mathrm{def}}{=}\\frac{L_{v}\\Delta p_{\\mathrm{norm}}}{g}\\frac{q_{v,i,l}^{a}\\left(p\\right)-q_{v,i,l}^{b}\\left(p\\right)}{\\Delta t}$$\n",
    "\n",
    "The water conservation equation is (normalized in energy units W/m2):\n",
    "$$\\underbrace{\\int_{0}^{\\widetilde{p_{s}}}d\\widetilde{p}\\left(\\delta q_{v}+\\delta q_{l}+\\delta q_{i}\\right)}_{\\mathrm{Difference\\ after-before\\ physics}}=\\underbrace{\\int_{\\widetilde{t}}^{\\widetilde{t}+1} \\widetilde{dt}\\ \\left(LHF-L_{v}P-10^{-3}\\cdot L_{v} P_{tend}\\right)}_{\\mathrm{Cond-Precip\\ during\\ \\Delta t}}\n",
    "$$\n",
    "\n",
    "where we have defined:\n",
    "$$\n",
    "\\widetilde{p}\\overset{\\mathrm{def}}{=}\\frac{p}{p_{\\mathrm{norm}}}\n",
    "$$\n",
    "$$\n",
    "\\widetilde{t}\\overset{\\mathrm{def}}{=}\\frac{t}{\\Delta t}\n",
    "$$\n",
    "Note that the precipitation variables here sum up to the water flux from the atmosphere to the surface due to precipitation:\n",
    "$$\n",
    "\\mathrm{Precipitation\\ flux\\ atm\\rightarrow surf.\\ \\left[kg.m^{-2}.s^{-1}\\right]}=P+10^{-3}\\cdot P_{tend}\n",
    "$$\n",
    "The idea is to predict all variables but one. The specific humidity at the lowest level of the model (here 30) is likely to be one of the most penalized output variables as it has one of the largest tendencies (in W/m2) in the final cost function. If we predict all other variables and calculate that variable as a residual, it yields:\n",
    "\n",
    "$$\\Delta \\widetilde{p}_{30} \\delta q_{v}^{30}=\\int_{\\widetilde{t}}^{\\widetilde{t}+1} \\widetilde{dt}\\ \\left(LHF-L_{v}P-10^{-3}\\cdot L_{v} P_{tend}\\right)-\\int_{0}^{\\widetilde{p_{s}}}d\\widetilde{p}\\left(\\delta q_{l}+\\delta q_{i}\\right)-\\int_{0}^{\\widetilde{p_{30}}}d\\widetilde{p}\\delta q_{v}\n",
    "$$\n",
    "\n",
    "Note that because we are already working with tendencies, the timestep variable dt is not needed in the water conservation layer.\n",
    "\n",
    "\n"
   ]
  },
  {
   "cell_type": "code",
   "execution_count": 16,
   "metadata": {},
   "outputs": [],
   "source": [
    "class MasConsLay(Layer):\n",
    "    \n",
    "    def __init__(self, fsub, fdiv, normq, hyai, hybi, output_dim, **kwargs):\n",
    "        self.fsub = fsub # Subtraction for normalization of inputs \n",
    "        self.fdiv = fdiv # Division for normalization of inputs\n",
    "        self.normq = normq # Normalization of output's water concentration\n",
    "        self.hyai = hyai # CAM constants to calculate d_pressure\n",
    "        self.hybi = hybi # CAM constants to calculate d_pressure\n",
    "        self.output_dim = output_dim # Dimension of output\n",
    "        super().__init__(**kwargs)\n",
    "        \n",
    "    def build(self, input_shape):\n",
    "        super().build(input_shape)  # Be sure to call this somewhere!\n",
    "        \n",
    "    def call(self, arrs):\n",
    "        # arrs (for arrays) is a list with \n",
    "        # [inputs=inp and the output of the previous layer=densout]\n",
    "        # inputs will be [n_sample, 154 = 30*5+4] with\n",
    "        # [QBP, QCBP, QIBP, TBP, VBP, PS, SOLIN, SHFLX, LHFLX]\n",
    "        # outputs of the previous dense layer will be [n_samples, 124 = 30*4+6-2] with\n",
    "        # [DELQ\\{PHQ AT LOWEST LVL}, DELCLDLIQ, DELCLDICE, \n",
    "        # TPHYSTND\\{TPHYSTND AT LOWEST LVL}, FSNT, FSNS, FLNT, FLNS, PRECT, PRECTEND]\n",
    "        \n",
    "        # Split between the inputs inp & the output of the densely connected\n",
    "        # neural network, densout\n",
    "        inp, densout = arrs\n",
    "        \n",
    "        # 0) Constants\n",
    "        G = 9.80616; # Reference gravity constant [m.s-2]\n",
    "        L_V = 2.501e6; # Latent heat of vaporization of water [W.kg-1]\n",
    "        P0 = 1e5; # Reference surface pressure [Pa]\n",
    "        \n",
    "        # 1) Get non-dimensional pressure differences (p_tilde above)\n",
    "        # In the input vector, PS is the 151st element after \n",
    "        # the first elements = [QBP, ..., VBP with shape 30*5=150]\n",
    "        PS = tfm.add( tfm.multiply( inp[:,150], self.fdiv[150]), self.fsub[150])\n",
    "        # Reference for calculation of d_pressure is cbrain/models.py (e.g. QLayer)\n",
    "        P = tfm.add( tfm.multiply( P0, self.hyai), \\\n",
    "                    tfm.multiply( PS[:,None], self.hybi))\n",
    "        dP = tfm.subtract( P[:, 1:], P[:, :-1])\n",
    "        # norm_output = dp_norm * L_V/G so dp_norm = norm_output * G/L_V\n",
    "        dP_NORM = tfm.divide( \\\n",
    "                             tfm.multiply(self.normq[:30], \\\n",
    "                                   G), L_V)\n",
    "        # dp_tilde = dp/dp_norm\n",
    "        # Wondering about broadcasting here...\n",
    "        # tf.div or simply \\ would support broadcasting \n",
    "        dP_TILD = tfm.divide( dP, dP_NORM)\n",
    "        \n",
    "        # 2) Calculate cloud water vertical integral from level 1 to level 30\n",
    "        # The indices are tricky here because we are missing del(q_v)@(level 30)\n",
    "        # so e.g. q_liq@(level 1) is the 30th element of the output of the \n",
    "        # previous dense layer\n",
    "        CLDVEC = tfm.multiply( dP_TILD, \\\n",
    "                                  tfm.add( densout[:, 29:59], densout[:, 59:89]))\n",
    "        CLDINT = tfm.reduce_sum( CLDVEC, axis=1)\n",
    "        \n",
    "        # 3) Calculate water vapor vertical integral from level 1 to level 29\n",
    "        VAPVEC = tfm.multiply( dP_TILD[:, :29], \\\n",
    "                                  densout[:, :29])\n",
    "        VAPINT = tfm.reduce_sum( VAPVEC, axis=1)\n",
    "        \n",
    "        # 4) Calculate forcing on the right-hand side (Net Evaporation-Precipitation)\n",
    "        # E-P is already normalized to units W.m-2 in the output vector\n",
    "        # so all we need to do is input-unnormalize LHF that is taken from the input vector\n",
    "        LHF = tfm.add( tfm.multiply( inp[:,153], self.fdiv[153]), self.fsub[153])\n",
    "        # Note that total precipitation = PRECT + 1e-3*PRECTEND in the CAM model\n",
    "        # PRECTEND already multiplied by 1e-3 in output vector so no need to redo it\n",
    "        PREC = tfm.add( densout[:, 152], densout[:, 153])\n",
    "        \n",
    "        # 5) Infer water vapor tendency at level 30 as a residual\n",
    "        # Composing tfm.add 3 times because not sure how to use tfm.add_n\n",
    "        DELQV30 = tfm.divide( \\\n",
    "                             tfm.add( tfm.add( tfm.add (\\\n",
    "                                                        LHF, tfm.negative(PREC)), \\\n",
    "                                              tfm.negative(CLDINT)), \\\n",
    "                                     tfm.negative(VAPINT)), \\\n",
    "                             dP_TILD[:, 29])\n",
    "        \n",
    "        # 6) Concatenate the water tendencies with the newly inferred tendency\n",
    "        # to get the final vector out of shape (#samples,125) with\n",
    "        # [DELQ, DELCLDLIQ, DELCLDICE, \n",
    "        # TPHYSTND\\{TPHYSTND AT SURFACE}, FSNT, FSNS, FLNT, FLNS, PRECT PRECTEND]\n",
    "        # Uses https://www.tensorflow.org/api_docs/python/tf/concat\n",
    "        DELQV30 = tf.expand_dims(DELQV30,1) # Adds dimension=1 to axis=1\n",
    "        out = tf.concat([densout[:, :29], DELQV30, densout[:, 29:]], 1)\n",
    "        return out\n",
    "    \n",
    "    def compute_output_shape(self, input_shape):\n",
    "        return (input_shape[0][0], self.output_dim) # The output has size 125=30*4+6-1\n",
    "    # and is ready to be fed to the energy conservation layer\n",
    "    # before we reach the total number of outputs = 126"
   ]
  },
  {
   "cell_type": "markdown",
   "metadata": {},
   "source": [
    "#### Step 2: Implement energy conservation layer\n",
    "##### Energy conservation equation in W/m2\n",
    "\n",
    "The total energy conservation in CAM is much more delicate than the water mass conservation. One key simplification is that the net advection of moist static energy in the CRM (within a grid-box) is zero, so we only need to focus on the thermodynamics. \n",
    "  \n",
    "  The two reference scripts of SPCAM are:  \n",
    "1)https://gitlab.com/mspritch/spcam3.0-neural-net/blob/master/models/atm/cam/src/physics/cam1/check_energy.F90 (look for te_tdn)  \n",
    "2)https://gitlab.com/mspritch/spcam3.0-neural-net/blob/master/models/atm/cam/src/physics/cam1/tphysbc_internallythreaded.F90 (look for wtricesink and icesink)  \n",
    "  \n",
    "  Another very useful script is Stephan's attempt at conserving energy/making sense of the variables:  \n",
    "https://github.com/raspstephan/CBRAIN-CAM/blob/master/notebooks/dev/old_notebooks/energy_conservation.ipynb  \n",
    "which is extremely helpful since some NETCDF flags are misleading/have the wrong attributes.  \n",
    "\n",
    "Following these files, we define the total energy, where the enthalpy component uses the ice as the reference phase of energy 0 (therefore, each gram of water in the forms of liquid or vapor add to the total energy of the system):\n",
    "$$\n",
    "e\\ \\left[\\mathrm{J\\ kg^{-1}}\\right]\\overset{\\mathrm{def}}{=}\\frac{\\overrightarrow{u}\\cdot\\overrightarrow{u}}{2}+c_{p}T+L_{s}q_{v}+L_{f}q_{l}\n",
    "$$\n",
    "We then isolate the column tendency of each variable that is due to precipitation or phase change between ice and liquid within the column.\n",
    "$$\n",
    "\\delta QV_{SP}\\ \\left[\\mathrm{kg\\ m^{-2}}\\right]\\overset{\\mathrm{def}}{=}\\int_{0}^{p_{s}}\\frac{dp}{g}\\left(\\frac{dq_{v}}{dt}\\right)-\\frac{\\mathrm{LHF}}{L_{v}}\n",
    "$$\n",
    "$$\n",
    "\\delta QL_{SP}\\ \\left[\\mathrm{kg\\ m^{-2}}\\right]\\overset{\\mathrm{def}}{=}\\int_{0}^{p_{s}}\\frac{dp}{g}\\left(\\frac{dq_{l}}{dt}\\right)\n",
    "$$\n",
    "$$\n",
    "\\delta T_{SP}\\ \\left[\\mathrm{W\\ m^{-2}\\ K^{-1}}\\right]\\overset{\\mathrm{def}}{=}\\int_{0}^{p_{s}}\\frac{dp}{g}\\left(\\frac{dT}{dt}\\right)-\\frac{\\mathrm{RAD}}{c_{p}}-\\frac{\\mathrm{SHF}}{c_{p}}-\\int_{0}^{p_{s}}\\frac{dp}{g}\\left(\\frac{dT_{KE}}{dt}\\right)\n",
    "$$\n",
    "where we have introduced the net radiative heating of the column:\n",
    "$$\n",
    "\\mathrm{RAD}\\overset{\\mathrm{def}}{=}\\mathrm{SW}_{t}-\\mathrm{SW}_{s}+\\mathrm{LW}_{s}-\\mathrm{LW}_{t}\n",
    "$$\n",
    "Physically, we have removed the following energetic contributions:\n",
    "- The net evaporation due to the latent heat flux from the column water vapor tendency,\n",
    "- The net radiative flux, the sensible heat flux and the column turbulent dissipation of kinetic energy from the column temperature tendency,\n",
    "- Nothing from the column liquid water tendency, since it is all due to conversion to vapor or ice.  \n",
    "  \n",
    "The next step is to calculate the total energy tendency due to precipitation/phase change by summing all of the components we have calculated before:\n",
    "$$\n",
    "\\delta E_{\\mathrm{SP}}\\ \\left[\\mathrm{W\\ m^{-2}}\\right]=c_{p}\\delta T_{SP}+L_{s}\\delta QV_{SP}+L_{f}\\delta QL_{SP}\n",
    "$$\n",
    "Note that:\n",
    "- Because the current setup of SPCAM does not resolve momentum transfer, we have left the change in kinetic energy out.\n",
    "- Because the reference state is ice (and not liquid as is often seen for the frozen moist static energy), the latent heat flux is multiplied by the ratio L_s/L_v>1 of the latent heat of sublimation to the latent heat of vaporization.  \n",
    "  \n",
    "The change from phase change/precipitation is a sum of two terms:\n",
    "  - An energy source from the net change from (liquid) to (ice) within the column \"SNOW\".\n",
    "  - An energy sink from the precipitation flux from the (atmopshere) to the (surface) \"P\".\n",
    "$$\n",
    "\\delta E_{\\mathrm{SP}}\\ \\left[\\mathrm{W\\ m^{-2}}\\right]=L_{f}\\left(SNOW+10^{-3}SNOW_{tend}-P-10^{-3}P_{tend}\\ \\left[\\mathrm{All\\ in\\ kg\\ m^{-2}\\ s^{-1}}\\right]\\right)\n",
    "$$  \n",
    "We work with the same non-dimensional variable as before, since all variables have been normalized in the output vector to have units W/m2. Additionally to:\n",
    "$$\n",
    "\\delta q_{v,i,l}\\left(p\\right)\\overset{\\mathrm{def}}{=}\\frac{L_{v}\\Delta p_{\\mathrm{norm}}}{g}\\frac{q_{v,i,l}^{a}\\left(p\\right)-q_{v,i,l}^{b}\\left(p\\right)}{\\Delta t}\n",
    "$$\n",
    "we now also introduce the level-by-level temperature tendency in units W/m2:\n",
    "$$\n",
    "\\delta T\\left(p\\right)\\overset{\\mathrm{def}}{=}\\frac{c_{p}\\Delta p_{\\mathrm{norm}}}{g}\\left(\\frac{dT}{dt}\\right)\\left(p\\right)\n",
    "$$\n",
    "  \n",
    "  The equations become:\n",
    "$$\n",
    "L_{v}\\cdot\\delta QV_{SP}\\ \\left[\\mathrm{W\\ m^{-2}}\\right]\\overset{\\mathrm{def}}{=}\\int_{0}^{\\widetilde{p_{s}}}d\\widetilde{p}\\cdot\\delta q_{v}-\\mathrm{LHF}\n",
    "$$\n",
    "$$\n",
    "L_{v}\\cdot\\delta QL_{SP}\\ \\left[\\mathrm{W\\ m^{-2}}\\right]\\overset{\\mathrm{def}}{=}\\int_{0}^{\\widetilde{p_{s}}}d\\widetilde{p}\\cdot\\delta q_{l}\n",
    "$$\n",
    "$$\n",
    "c_{p}\\cdot\\delta T_{SP}\\ \\left[\\mathrm{W\\ m^{-2}}\\right]\\overset{\\mathrm{def}}{=}\\int_{0}^{\\widetilde{p_{s}}}d\\widetilde{p}\\cdot\\delta T-\\mathrm{RAD}-\\mathrm{SHF}-\\int_{0}^{\\widetilde{p_{s}}}d\\widetilde{p}\\cdot\\delta T_{TKE}\n",
    "$$  \n",
    "  \n",
    "  We now isolate the temperature tendency at level 30 and write it as a residual of the energy budget using all the variables normalized to units W/m2:\n",
    "$$\n",
    "\\begin{aligned}\\Delta\\widetilde{p}_{30}\\cdot\\delta T_{30} & =\\frac{L_{f}}{L_{v}}\\left(L_{v}SNOW+10^{-3}L_{v}SNOW_{tend}-L_{v}P-10^{-3}L_{v}P_{tend}\\right)\\\\\n",
    " & +\\mathrm{RAD}+\\mathrm{SHF}+\\int_{0}^{\\widetilde{p_{s}}}d\\widetilde{p}\\cdot\\delta T_{TKE}\\\\\n",
    " & -\\frac{L_{s}}{L_{v}}\\left(\\int_{0}^{\\widetilde{p_{s}}}d\\widetilde{p}\\cdot\\delta q_{v}-\\mathrm{LHF}\\right)-\\frac{L_{f}}{L_{v}}\\int_{0}^{\\widetilde{p_{s}}}d\\widetilde{p}\\cdot\\delta q_{l}\\\\\n",
    " & -\\int_{0}^{\\widetilde{p_{30}}}d\\widetilde{p}\\cdot\\delta T\n",
    "\\end{aligned}\n",
    "$$"
   ]
  },
  {
   "cell_type": "code",
   "execution_count": 17,
   "metadata": {},
   "outputs": [],
   "source": [
    "class EntConsLay(Layer):\n",
    "    \n",
    "    def __init__(self, fsub, fdiv, normq, hyai, hybi, output_dim, **kwargs):\n",
    "        self.fsub = fsub # Subtraction for normalization of inputs \n",
    "        self.fdiv = fdiv # Division for normalization of inputs\n",
    "        self.normq = normq # Normalization of output's water concentration\n",
    "        self.hyai = hyai # CAM constants to calculate d_pressure\n",
    "        self.hybi = hybi # CAM constants to calculate d_pressure\n",
    "        self.output_dim = output_dim # Dimension of output\n",
    "        super().__init__(**kwargs)\n",
    "        \n",
    "    def build(self, input_shape):\n",
    "        super().build(input_shape)  # Be sure to call this somewhere!\n",
    "        \n",
    "    def call(self, arrs):\n",
    "        # arrs (for arrays) is a list with \n",
    "        # [inputs=inp and the output of the previous layer=massout]\n",
    "        # inputs will be [n_sample, 154 = 30*5+4] with\n",
    "        # [QBP, QCBP, QIBP, TBP, VBP, PS, SOLIN, SHFLX, LHFLX]\n",
    "        # outputs of the previous dense layer will be [n_samples, 157 = 30*5+8-1] with\n",
    "        # [DELQ, DELCLDLIQ, DELCLDICE, \n",
    "        # TPHYSTND\\{TPHYSTND AT LOWEST LVL}, DTVKE,\n",
    "        # FSNT, FSNS, FLNT, FLNS, PRECT, PRECTEND, PRECST, PRECSTEN]\n",
    "        \n",
    "        # Split between the inputs inp & the output of the densely connected\n",
    "        # neural network, massout\n",
    "        inp, massout = arrs\n",
    "        \n",
    "        # 0) Constants\n",
    "        G = 9.80616; # Reference gravity constant [m.s-2]\n",
    "        L_F = 3.337e5; # Latent heat of fusion of water [W.kg-1]\n",
    "        L_V = 2.501e6; # Latent heat of vaporization of water [W.kg-1]\n",
    "        P0 = 1e5; # Reference surface pressure [Pa]\n",
    "        \n",
    "        # 1) Get non-dimensional pressure differences (p_tilde above)\n",
    "        # In the input vector, PS is the 151st element after \n",
    "        # the first elements = [QBP, ..., VBP with shape 30*5=150]\n",
    "        PS = tfm.add( tfm.multiply( inp[:,150], self.fdiv[150]), self.fsub[150])\n",
    "        # Reference for calculation of d_pressure is cbrain/models.py (e.g. QLayer)\n",
    "        P = tfm.add( tfm.multiply( P0, self.hyai), \\\n",
    "                    tfm.multiply( PS[:,None], self.hybi))\n",
    "        dP = tfm.subtract( P[:, 1:], P[:, :-1])\n",
    "        # norm_output = dp_norm * L_V/G so dp_norm = norm_output * G/L_V\n",
    "        dP_NORM = tfm.divide( \\\n",
    "                             tfm.multiply(self.normq[:30], \\\n",
    "                                          G),\\\n",
    "                             L_V)\n",
    "        # dp_tilde = dp/dp_norm\n",
    "        dP_TILD = tfm.divide( dP, dP_NORM)\n",
    "        \n",
    "        # 2) Calculate net energy input from phase change and precipitation\n",
    "        # PHAS = Lf/Lv*((PRECST+PRECSTEN)-(PRECT+PRECTEND))\n",
    "        PHAS = tfm.divide( tfm.multiply( tfm.subtract(\\\n",
    "                                                      tfm.add( massout[:,155], massout[:,156]),\\\n",
    "                                                      tfm.add( massout[:,153], massout[:,154])),\\\n",
    "                                        L_F),\\\n",
    "                          L_V)\n",
    "        \n",
    "        # 3) Calculate net energy input from radiation, sensible heat flux and turbulent KE\n",
    "        # 3.1) RAD = FSNT-FSNS-FLNT+FLNS\n",
    "        RAD = tfm.add(\\\n",
    "                      tfm.subtract( massout[:,149], massout[:,150]),\\\n",
    "                      tfm.subtract( massout[:,152], massout[:,151]))\n",
    "        # 3.2) Unnormalize sensible heat flux\n",
    "        SHF = tfm.add( tfm.multiply( inp[:,152], self.fdiv[152]), self.fsub[152])\n",
    "        # 3.3) Net turbulent kinetic energy dissipative heating is the column-integrated \n",
    "        # turbulent kinetic energy energy dissipative heating\n",
    "        KEDVEC = tfm.multiply( dP_TILD, massout[:, 119:149])\n",
    "        KEDINT = tfm.reduce_sum( KEDVEC, axis=1)\n",
    "        \n",
    "        # 4) Calculate tendency of normalized column water vapor due to phase change\n",
    "        # 4.1) Unnormalize latent heat flux\n",
    "        LHF = tfm.add( tfm.multiply( inp[:,153], self.fdiv[153]), self.fsub[153])\n",
    "        # 4.2) Column water vapor is the column integral of specific humidity\n",
    "        PHQVEC = tfm.multiply( dP_TILD, massout[:, :30])\n",
    "        PHQINT = tfm.reduce_sum( PHQVEC, axis=1)\n",
    "        # 4.3) Multiply by L_S/L_V to normalize (explanation above)\n",
    "        SPDQINT = tfm.divide( tfm.multiply( tfm.subtract(\\\n",
    "                                                         PHQINT, LHF),\\\n",
    "                                           L_S),\\\n",
    "                             L_V)\n",
    "        \n",
    "        # 5) Same operation for liquid water tendency but multiplied by L_F/L_V\n",
    "        SPDQCINT = tfm.divide( tfm.multiply(\\\n",
    "                                            tfm.reduce_sum(\\\n",
    "                                                           tfm.multiply( dP_TILD, massout[:, 30:60]),\\\n",
    "                                                           axis=1),\\\n",
    "                                            L_F),\\\n",
    "                              L_V)\n",
    "        \n",
    "        # 6) Same operation for temperature but only integrate from level 1 to level 29\n",
    "        DTINT = tfm.reduce_sum( tfm.multiply( dP_TILD[:, :29], massout[:, 90:119]), axis=1)\n",
    "\n",
    "        # 7) Now calculate dT30 as a residual\n",
    "        dT30 = tfm.divide(tfm.add(tfm.add(tfm.add(tfm.add(tfm.add(tfm.add(\\\n",
    "                                                                          PHAS,RAD),\\\n",
    "                                                                  SHF),\\\n",
    "                                                          KEDINT),\\\n",
    "                                                  tfm.negative( SPDQINT)),\\\n",
    "                                          tfm.negative( SPDQCINT)),\\\n",
    "                                  tfm.negative( DTINT)),\\\n",
    "                          dP_TILD[:, 29])\n",
    "        dT30 = tf.expand_dims(dT30,1)\n",
    "\n",
    "        out = tf.concat([massout[:, :119], dT30, massout[:, 119:]], 1)\n",
    "        return out\n",
    "    \n",
    "    def compute_output_shape(self, input_shape):\n",
    "        return (input_shape[0][0], self.output_dim)\n",
    "    # and is ready to be used in the cost function"
   ]
  },
  {
   "cell_type": "markdown",
   "metadata": {},
   "source": [
    "#### Step 3: Formulate mass/energy conserving model\n",
    "We start with inputs [QBP, QCBP, QIBP, TBP, VBP, PS, SOLIN, SHFLX, LHFLX] of shape 154  \n",
    "We then have a few dense layers with size proportional to a power of 2\n",
    "  \n",
    "For now, there is no other \"physically-constraining\" layers than  \n",
    "the mass+energy conservation layers which take input of shape 156  \n",
    "  \n",
    "After mass layer outputs vector of shape 157  \n",
    "After energy layer outputs final vector of shape 158  \n",
    "i.e. [PHQ, PHCLDLIQ, PHCLDICE, TPHYSTND, DTVKE, FSNT, FSNS, FLNT, FLNS, PRECT, PRECTEND, PRECST, PRECSTEN]"
   ]
  },
  {
   "cell_type": "code",
   "execution_count": 18,
   "metadata": {},
   "outputs": [],
   "source": [
    "inp = Input(shape=(154,))\n",
    "densout = Dense(256, activation='relu')(inp)\n",
    "for i in range (4):\n",
    "    densout = Dense(256, activation='relu')(densout)\n",
    "densout = Dense(156, activation='relu')(densout)    \n",
    "massout = MasConsLay(\n",
    "    input_shape=(156,), fsub=fsub, fdiv=fdiv, normq=normq,\\\n",
    "    hyai=hyai, hybi=hybi, output_dim = 157\n",
    ")([inp, densout])\n",
    "out = EntConsLay(\n",
    "    input_shape=(157,), fsub=fsub, fdiv=fdiv, normq=normq,\\\n",
    "    hyai=hyai, hybi=hybi, output_dim = 158\n",
    ")([inp, massout])\n",
    "model1 = Model(inputs=inp, outputs=out)"
   ]
  },
  {
   "cell_type": "code",
   "execution_count": 79,
   "metadata": {},
   "outputs": [],
   "source": [
    "# tgb - 1/24/2019 - Make layers bigger\n",
    "inp = Input(shape=(154,))\n",
    "densout = Dense(256, activation='relu')(inp)\n",
    "for i in range (4):\n",
    "    densout = Dense(512, activation='relu')(densout)\n",
    "densout = Dense(156, activation='relu')(densout)    \n",
    "massout = MasConsLay(\n",
    "    input_shape=(156,), fsub=fsub, fdiv=fdiv, normq=normq,\\\n",
    "    hyai=hyai, hybi=hybi, output_dim = 157\n",
    ")([inp, densout])\n",
    "out = EntConsLay(\n",
    "    input_shape=(157,), fsub=fsub, fdiv=fdiv, normq=normq,\\\n",
    "    hyai=hyai, hybi=hybi, output_dim = 158\n",
    ")([inp, massout])\n",
    "model3 = Model(inputs=inp, outputs=out)"
   ]
  },
  {
   "cell_type": "code",
   "execution_count": 94,
   "metadata": {},
   "outputs": [],
   "source": [
    "# tgb - 1/24/2019 - Add more layers\n",
    "inp = Input(shape=(154,))\n",
    "densout = Dense(256, activation='relu')(inp)\n",
    "for i in range (8):\n",
    "    densout = Dense(256, activation='relu')(densout)\n",
    "densout = Dense(156, activation='relu')(densout)    \n",
    "massout = MasConsLay(\n",
    "    input_shape=(156,), fsub=fsub, fdiv=fdiv, normq=normq,\\\n",
    "    hyai=hyai, hybi=hybi, output_dim = 157\n",
    ")([inp, densout])\n",
    "out = EntConsLay(\n",
    "    input_shape=(157,), fsub=fsub, fdiv=fdiv, normq=normq,\\\n",
    "    hyai=hyai, hybi=hybi, output_dim = 158\n",
    ")([inp, massout])\n",
    "model5 = Model(inputs=inp, outputs=out)"
   ]
  },
  {
   "cell_type": "code",
   "execution_count": 99,
   "metadata": {},
   "outputs": [],
   "source": [
    "#model3.compile('adam','mse') # careful, model resets the weights and biases"
   ]
  },
  {
   "cell_type": "code",
   "execution_count": 97,
   "metadata": {},
   "outputs": [
    {
     "name": "stdout",
     "output_type": "stream",
     "text": [
      "__________________________________________________________________________________________________\n",
      "Layer (type)                    Output Shape         Param #     Connected to                     \n",
      "==================================================================================================\n",
      "input_5 (InputLayer)            (None, 154)          0                                            \n",
      "__________________________________________________________________________________________________\n",
      "dense_29 (Dense)                (None, 256)          39680       input_5[0][0]                    \n",
      "__________________________________________________________________________________________________\n",
      "dense_30 (Dense)                (None, 256)          65792       dense_29[0][0]                   \n",
      "__________________________________________________________________________________________________\n",
      "dense_31 (Dense)                (None, 256)          65792       dense_30[0][0]                   \n",
      "__________________________________________________________________________________________________\n",
      "dense_32 (Dense)                (None, 256)          65792       dense_31[0][0]                   \n",
      "__________________________________________________________________________________________________\n",
      "dense_33 (Dense)                (None, 256)          65792       dense_32[0][0]                   \n",
      "__________________________________________________________________________________________________\n",
      "dense_34 (Dense)                (None, 256)          65792       dense_33[0][0]                   \n",
      "__________________________________________________________________________________________________\n",
      "dense_35 (Dense)                (None, 256)          65792       dense_34[0][0]                   \n",
      "__________________________________________________________________________________________________\n",
      "dense_36 (Dense)                (None, 256)          65792       dense_35[0][0]                   \n",
      "__________________________________________________________________________________________________\n",
      "dense_37 (Dense)                (None, 256)          65792       dense_36[0][0]                   \n",
      "__________________________________________________________________________________________________\n",
      "dense_38 (Dense)                (None, 156)          40092       dense_37[0][0]                   \n",
      "__________________________________________________________________________________________________\n",
      "mas_cons_lay_4 (MasConsLay)     (None, 157)          0           input_5[0][0]                    \n",
      "                                                                 dense_38[0][0]                   \n",
      "__________________________________________________________________________________________________\n",
      "ent_cons_lay_4 (EntConsLay)     (None, 158)          0           input_5[0][0]                    \n",
      "                                                                 mas_cons_lay_4[0][0]             \n",
      "==================================================================================================\n",
      "Total params: 606,108\n",
      "Trainable params: 606,108\n",
      "Non-trainable params: 0\n",
      "__________________________________________________________________________________________________\n"
     ]
    }
   ],
   "source": [
    "model5.summary()"
   ]
  },
  {
   "cell_type": "code",
   "execution_count": 100,
   "metadata": {},
   "outputs": [
    {
     "name": "stdout",
     "output_type": "stream",
     "text": [
      "Epoch 1/20\n",
      "27456/27456 [==============================] - 144s 5ms/step - loss: 353.5595 - val_loss: 328.8927\n",
      "Epoch 2/20\n",
      "27456/27456 [==============================] - 143s 5ms/step - loss: 353.2801 - val_loss: 328.7908\n",
      "Epoch 3/20\n",
      "27456/27456 [==============================] - 143s 5ms/step - loss: 353.0433 - val_loss: 328.6031\n",
      "Epoch 4/20\n",
      "27456/27456 [==============================] - 143s 5ms/step - loss: 352.8499 - val_loss: 328.4994\n",
      "Epoch 5/20\n",
      "27456/27456 [==============================] - 143s 5ms/step - loss: 352.6412 - val_loss: 328.4430\n",
      "Epoch 6/20\n",
      "27456/27456 [==============================] - 143s 5ms/step - loss: 352.4556 - val_loss: 328.4631\n",
      "Epoch 7/20\n",
      "27456/27456 [==============================] - 143s 5ms/step - loss: 352.2946 - val_loss: 328.4809\n",
      "Epoch 8/20\n",
      "27456/27456 [==============================] - 143s 5ms/step - loss: 352.1611 - val_loss: 328.2367\n",
      "Epoch 9/20\n",
      "27456/27456 [==============================] - 143s 5ms/step - loss: 351.9849 - val_loss: 328.3588\n",
      "Epoch 10/20\n",
      "27456/27456 [==============================] - 143s 5ms/step - loss: 351.8712 - val_loss: 328.4189\n",
      "Epoch 11/20\n",
      "27456/27456 [==============================] - 143s 5ms/step - loss: 351.7212 - val_loss: 328.2110\n",
      "Epoch 12/20\n",
      "27456/27456 [==============================] - 143s 5ms/step - loss: 351.6117 - val_loss: 328.2988\n",
      "Epoch 13/20\n",
      "27456/27456 [==============================] - 143s 5ms/step - loss: 351.4682 - val_loss: 328.4308\n",
      "Epoch 14/20\n",
      "27456/27456 [==============================] - 143s 5ms/step - loss: 351.2728 - val_loss: 328.1324\n",
      "Epoch 15/20\n",
      "27456/27456 [==============================] - 143s 5ms/step - loss: 351.1588 - val_loss: 328.1374\n",
      "Epoch 16/20\n",
      "27456/27456 [==============================] - 143s 5ms/step - loss: 351.0482 - val_loss: 328.0539\n",
      "Epoch 17/20\n",
      "27456/27456 [==============================] - 143s 5ms/step - loss: 350.9331 - val_loss: 328.1856\n",
      "Epoch 18/20\n",
      "27456/27456 [==============================] - 143s 5ms/step - loss: 350.8660 - val_loss: 328.2517\n",
      "Epoch 19/20\n",
      "27456/27456 [==============================] - 143s 5ms/step - loss: 350.8180 - val_loss: 328.5084\n",
      "Epoch 20/20\n",
      "27456/27456 [==============================] - 143s 5ms/step - loss: 350.7147 - val_loss: 328.3230\n",
      "Epoch 1/20\n",
      "27456/27456 [==============================] - 145s 5ms/step - loss: 355.1296 - val_loss: 330.0463\n",
      "Epoch 2/20\n",
      "27456/27456 [==============================] - 144s 5ms/step - loss: 354.5395 - val_loss: 329.6653\n",
      "Epoch 3/20\n",
      "27456/27456 [==============================] - 144s 5ms/step - loss: 353.7230 - val_loss: 328.9119\n",
      "Epoch 4/20\n",
      "27456/27456 [==============================] - 144s 5ms/step - loss: 353.0740 - val_loss: 328.8114\n",
      "Epoch 5/20\n",
      "27456/27456 [==============================] - 144s 5ms/step - loss: 351.7079 - val_loss: 327.7159\n",
      "Epoch 6/20\n",
      "27456/27456 [==============================] - 144s 5ms/step - loss: 351.1456 - val_loss: 327.4075\n",
      "Epoch 7/20\n",
      "27456/27456 [==============================] - 144s 5ms/step - loss: 350.8289 - val_loss: 327.0711\n",
      "Epoch 8/20\n",
      "27456/27456 [==============================] - 144s 5ms/step - loss: 350.5511 - val_loss: 327.1944\n",
      "Epoch 9/20\n",
      "27456/27456 [==============================] - 144s 5ms/step - loss: 350.3254 - val_loss: 327.0459\n",
      "Epoch 10/20\n",
      "27456/27456 [==============================] - 144s 5ms/step - loss: 350.1401 - val_loss: 326.9657\n",
      "Epoch 11/20\n",
      "27456/27456 [==============================] - 144s 5ms/step - loss: 349.9357 - val_loss: 327.0997\n",
      "Epoch 12/20\n",
      "27456/27456 [==============================] - 144s 5ms/step - loss: 349.7658 - val_loss: 327.0427\n",
      "Epoch 13/20\n",
      "27456/27456 [==============================] - 144s 5ms/step - loss: 349.5579 - val_loss: 327.3756\n",
      "Epoch 14/20\n",
      "27456/27456 [==============================] - 144s 5ms/step - loss: 349.4037 - val_loss: 327.4496\n",
      "Epoch 15/20\n",
      "27456/27456 [==============================] - 144s 5ms/step - loss: 349.2203 - val_loss: 327.5226\n",
      "Epoch 16/20\n",
      "27456/27456 [==============================] - 144s 5ms/step - loss: 349.0905 - val_loss: 327.4229\n",
      "Epoch 17/20\n",
      "27456/27456 [==============================] - 144s 5ms/step - loss: 348.9462 - val_loss: 327.4562\n",
      "Epoch 18/20\n",
      "27456/27456 [==============================] - 144s 5ms/step - loss: 348.8115 - val_loss: 327.6788\n",
      "Epoch 19/20\n",
      "27456/27456 [==============================] - 144s 5ms/step - loss: 348.6473 - val_loss: 327.5996\n",
      "Epoch 20/20\n",
      "27456/27456 [==============================] - 144s 5ms/step - loss: 348.5435 - val_loss: 327.6785\n",
      "Epoch 1/20\n",
      "27456/27456 [==============================] - 167s 6ms/step - loss: 391.5553 - val_loss: 352.8534\n",
      "Epoch 2/20\n",
      "27456/27456 [==============================] - 166s 6ms/step - loss: 378.2636 - val_loss: 349.0051\n",
      "Epoch 3/20\n",
      "27456/27456 [==============================] - 166s 6ms/step - loss: 375.6165 - val_loss: 347.8552\n",
      "Epoch 4/20\n",
      "27456/27456 [==============================] - 166s 6ms/step - loss: 374.2535 - val_loss: 346.9606\n",
      "Epoch 5/20\n",
      "27456/27456 [==============================] - 166s 6ms/step - loss: 372.8745 - val_loss: 342.5588\n",
      "Epoch 6/20\n",
      "27456/27456 [==============================] - 166s 6ms/step - loss: 368.7425 - val_loss: 341.9935\n",
      "Epoch 7/20\n",
      "27456/27456 [==============================] - 166s 6ms/step - loss: 367.9738 - val_loss: 341.5694\n",
      "Epoch 8/20\n",
      "27456/27456 [==============================] - 166s 6ms/step - loss: 362.1223 - val_loss: 333.1603\n",
      "Epoch 9/20\n",
      "27456/27456 [==============================] - 166s 6ms/step - loss: 358.0039 - val_loss: 332.8483\n",
      "Epoch 10/20\n",
      "27456/27456 [==============================] - 166s 6ms/step - loss: 357.5247 - val_loss: 332.6510\n",
      "Epoch 11/20\n",
      "27456/27456 [==============================] - 166s 6ms/step - loss: 357.2107 - val_loss: 332.5878\n",
      "Epoch 12/20\n",
      "27456/27456 [==============================] - 166s 6ms/step - loss: 356.9403 - val_loss: 332.1594\n",
      "Epoch 13/20\n",
      "27456/27456 [==============================] - 166s 6ms/step - loss: 354.3934 - val_loss: 327.5562\n",
      "Epoch 14/20\n",
      "27456/27456 [==============================] - 166s 6ms/step - loss: 351.4318 - val_loss: 327.3312\n",
      "Epoch 15/20\n",
      "27456/27456 [==============================] - 166s 6ms/step - loss: 351.1632 - val_loss: 327.1273\n",
      "Epoch 16/20\n",
      "27456/27456 [==============================] - 166s 6ms/step - loss: 350.8897 - val_loss: 327.1011\n",
      "Epoch 17/20\n",
      "27456/27456 [==============================] - 166s 6ms/step - loss: 350.6274 - val_loss: 327.0347\n",
      "Epoch 18/20\n",
      "27456/27456 [==============================] - 166s 6ms/step - loss: 350.4552 - val_loss: 326.8875\n",
      "Epoch 19/20\n",
      "27456/27456 [==============================] - 166s 6ms/step - loss: 350.2944 - val_loss: 326.7450\n",
      "Epoch 20/20\n",
      "27456/27456 [==============================] - 166s 6ms/step - loss: 350.1480 - val_loss: 326.9299\n"
     ]
    }
   ],
   "source": [
    "history1 = model1.fit_generator(gen, train_gen_obj.n_batches, epochs=20, \\\n",
    "                     validation_data=validgen, validation_steps= valid_gen_obj.n_batches)\n",
    "history3 = model3.fit_generator(gen, train_gen_obj.n_batches, epochs=20, \\\n",
    "                     validation_data=validgen, validation_steps= valid_gen_obj.n_batches)\n",
    "history5 = model5.fit_generator(gen, train_gen_obj.n_batches, epochs=20, \\\n",
    "                     validation_data=validgen, validation_steps= valid_gen_obj.n_batches)"
   ]
  },
  {
   "cell_type": "code",
   "execution_count": 109,
   "metadata": {},
   "outputs": [
    {
     "data": {
      "image/png": "[encoded data removed]",
      "text/plain": [
       "<Figure size 432x288 with 1 Axes>"
      ]
     },
     "metadata": {
      "needs_background": "light"
     },
     "output_type": "display_data"
    }
   ],
   "source": [
    "import matplotlib.pyplot as plt\n",
    "\n",
    "hdict1 = history1.history\n",
    "train_loss_values1 = hdict1['loss']\n",
    "valid_loss_values1 = hdict1['val_loss']\n",
    "epochs1 = range(1, len(train_loss_values1) + 1)\n",
    "hdict3 = history3.history\n",
    "train_loss_values3 = hdict3['loss']\n",
    "valid_loss_values3 = hdict3['val_loss']\n",
    "epochs3 = range(1, len(train_loss_values3) + 1)\n",
    "hdict5 = history5.history\n",
    "train_loss_values5 = hdict5['loss']\n",
    "valid_loss_values5 = hdict5['val_loss']\n",
    "epochs5 = range(1, len(train_loss_values5) + 1)\n",
    "\n",
    "plt.plot(epochs1, train_loss_values1, 'bo', label='Std Train loss')\n",
    "plt.plot(epochs1, valid_loss_values1, 'b', label='Std Valid loss')\n",
    "plt.plot(epochs3, train_loss_values3, 'ro', label='Larg Train loss')\n",
    "plt.plot(epochs3, valid_loss_values3, 'r', label='Larg Valid loss')\n",
    "plt.plot(epochs5, train_loss_values5, 'go', label='More Train loss')\n",
    "plt.plot(epochs5, valid_loss_values5, 'g', label='More Valid loss')\n",
    "plt.title('Training and validation loss')\n",
    "plt.xlabel('Epochs')\n",
    "plt.ylabel('Loss')\n",
    "plt.legend(); plt.show()"
   ]
  },
  {
   "cell_type": "code",
   "execution_count": 175,
   "metadata": {},
   "outputs": [
    {
     "data": {
      "text/plain": [
       "array([ 1.18169428e-05,  5.12940278e-06,  5.17723674e-06,  2.36581513e-06,\n",
       "        4.79932132e-05,  2.03128881e-03,  3.00917514e-02,  3.25429067e-02,\n",
       "        6.41387748e-03,  4.12391014e-02,  1.00992456e+03,  7.46461365e+02,\n",
       "        2.68334381e+02,  4.53668709e+01,  2.91980400e+01, -9.99487591e+00,\n",
       "        0.00000000e+00, -7.88744539e-02], dtype=float32)"
      ]
     },
     "execution_count": 175,
     "metadata": {},
     "output_type": "execute_result"
    },
    {
     "data": {
      "image/png": "[encoded data removed]",
      "text/plain": [
       "<Figure size 432x288 with 1 Axes>"
      ]
     },
     "metadata": {
      "needs_background": "light"
     },
     "output_type": "display_data"
    }
   ],
   "source": [
    "pred1 = model1.predict_on_batch(x)\n",
    "import matplotlib.pyplot as plt\n",
    "ind_test = 150;\n",
    "plt.plot(pred1[ind_test,:], label='nn')\n",
    "plt.plot(y[ind_test,:], label='truth')\n",
    "plt.legend();\n",
    "y[ind_test,140:]"
   ]
  },
  {
   "cell_type": "markdown",
   "metadata": {},
   "source": [
    "#### Step 4: Comparing to simple dense model with same inputs/outputs"
   ]
  },
  {
   "cell_type": "code",
   "execution_count": 110,
   "metadata": {},
   "outputs": [],
   "source": [
    "inp = Input(shape=(154,))\n",
    "densout = Dense(256, activation='relu')(inp)\n",
    "for i in range (4):\n",
    "    densout = Dense(256, activation='relu')(densout)\n",
    "out = Dense(158, activation='relu')(densout)    \n",
    "model2 = Model(inputs=inp, outputs=out)"
   ]
  },
  {
   "cell_type": "code",
   "execution_count": 111,
   "metadata": {},
   "outputs": [],
   "source": [
    "# Larger layers\n",
    "inp = Input(shape=(154,))\n",
    "densout = Dense(256, activation='relu')(inp)\n",
    "for i in range (4):\n",
    "    densout = Dense(512, activation='relu')(densout)\n",
    "out = Dense(158, activation='relu')(densout)    \n",
    "model4 = Model(inputs=inp, outputs=out)"
   ]
  },
  {
   "cell_type": "code",
   "execution_count": 112,
   "metadata": {},
   "outputs": [],
   "source": [
    "# More layers\n",
    "inp = Input(shape=(154,))\n",
    "densout = Dense(256, activation='relu')(inp)\n",
    "for i in range (8):\n",
    "    densout = Dense(256, activation='relu')(densout)\n",
    "out = Dense(158, activation='relu')(densout)    \n",
    "model6 = Model(inputs=inp, outputs=out)"
   ]
  },
  {
   "cell_type": "code",
   "execution_count": 117,
   "metadata": {},
   "outputs": [],
   "source": [
    "#model6.compile('adam','mse') # Careful, compile resets the weights/biases"
   ]
  },
  {
   "cell_type": "code",
   "execution_count": 118,
   "metadata": {},
   "outputs": [
    {
     "name": "stdout",
     "output_type": "stream",
     "text": [
      "_________________________________________________________________\n",
      "Layer (type)                 Output Shape              Param #   \n",
      "=================================================================\n",
      "input_14 (InputLayer)        (None, 154)               0         \n",
      "_________________________________________________________________\n",
      "dense_99 (Dense)             (None, 256)               39680     \n",
      "_________________________________________________________________\n",
      "dense_100 (Dense)            (None, 256)               65792     \n",
      "_________________________________________________________________\n",
      "dense_101 (Dense)            (None, 256)               65792     \n",
      "_________________________________________________________________\n",
      "dense_102 (Dense)            (None, 256)               65792     \n",
      "_________________________________________________________________\n",
      "dense_103 (Dense)            (None, 256)               65792     \n",
      "_________________________________________________________________\n",
      "dense_104 (Dense)            (None, 256)               65792     \n",
      "_________________________________________________________________\n",
      "dense_105 (Dense)            (None, 256)               65792     \n",
      "_________________________________________________________________\n",
      "dense_106 (Dense)            (None, 256)               65792     \n",
      "_________________________________________________________________\n",
      "dense_107 (Dense)            (None, 256)               65792     \n",
      "_________________________________________________________________\n",
      "dense_108 (Dense)            (None, 158)               40606     \n",
      "=================================================================\n",
      "Total params: 606,622\n",
      "Trainable params: 606,622\n",
      "Non-trainable params: 0\n",
      "_________________________________________________________________\n"
     ]
    }
   ],
   "source": [
    "model6.summary()"
   ]
  },
  {
   "cell_type": "code",
   "execution_count": null,
   "metadata": {},
   "outputs": [
    {
     "name": "stdout",
     "output_type": "stream",
     "text": [
      "Epoch 1/20\n",
      "27456/27456 [==============================] - 132s 5ms/step - loss: 254.8290 - val_loss: 228.2938\n",
      "Epoch 2/20\n",
      "27456/27456 [==============================] - 134s 5ms/step - loss: 237.9216 - val_loss: 223.8188\n",
      "Epoch 3/20\n",
      "27456/27456 [==============================] - 141s 5ms/step - loss: 224.6774 - val_loss: 207.9285\n",
      "Epoch 4/20\n",
      "27456/27456 [==============================] - 127s 5ms/step - loss: 217.5935 - val_loss: 207.2040\n",
      "Epoch 5/20\n",
      "27456/27456 [==============================] - 134s 5ms/step - loss: 216.3367 - val_loss: 206.0627\n",
      "Epoch 6/20\n",
      "27456/27456 [==============================] - 141s 5ms/step - loss: 215.0186 - val_loss: 204.6537\n",
      "Epoch 7/20\n",
      "19634/27456 [====================>.........] - ETA: 33s - loss: 213.6706"
     ]
    }
   ],
   "source": [
    "history2 = model2.fit_generator(gen, train_gen_obj.n_batches, epochs=20, \\\n",
    "                     validation_data=validgen, validation_steps= valid_gen_obj.n_batches)\n",
    "history4 = model4.fit_generator(gen, train_gen_obj.n_batches, epochs=20, \\\n",
    "                     validation_data=validgen, validation_steps= valid_gen_obj.n_batches)\n",
    "history6 = model6.fit_generator(gen, train_gen_obj.n_batches, epochs=20, \\\n",
    "                     validation_data=validgen, validation_steps= valid_gen_obj.n_batches)"
   ]
  },
  {
   "cell_type": "code",
   "execution_count": null,
   "metadata": {},
   "outputs": [],
   "source": [
    "import matplotlib.pyplot as plt\n",
    "\n",
    "hdict2 = history2.history\n",
    "train_loss_values2 = hdict2['loss']\n",
    "valid_loss_values2 = hdict2['val_loss']\n",
    "epochs2 = range(1, len(train_loss_values2) + 1)\n",
    "hdict4 = history4.history\n",
    "train_loss_values4 = hdict4['loss']\n",
    "valid_loss_values4 = hdict4['val_loss']\n",
    "epochs4 = range(1, len(train_loss_values4) + 1)\n",
    "hdict6 = history6.history\n",
    "train_loss_values6 = hdict6['loss']\n",
    "valid_loss_values6 = hdict6['val_loss']\n",
    "epochs6 = range(1, len(train_loss_values6) + 1)\n",
    "\n",
    "plt.plot(epochs2, train_loss_values2, 'bo', label='Std Train loss')\n",
    "plt.plot(epochs2, valid_loss_values2, 'b', label='Std Valid loss')\n",
    "plt.plot(epochs4, train_loss_values4, 'ro', label='Larg Train loss')\n",
    "plt.plot(epochs4, valid_loss_values4, 'r', label='Larg Valid loss')\n",
    "plt.plot(epochs6, train_loss_values6, 'go', label='More Train loss')\n",
    "plt.plot(epochs6, valid_loss_values6, 'g', label='More Valid loss')\n",
    "plt.title('Training and validation loss')\n",
    "plt.xlabel('Epochs')\n",
    "plt.ylabel('Loss')\n",
    "plt.legend(); plt.show()"
   ]
  },
  {
   "cell_type": "code",
   "execution_count": 45,
   "metadata": {},
   "outputs": [
    {
     "data": {
      "image/png": "[encoded data removed]",
      "text/plain": [
       "<Figure size 432x288 with 1 Axes>"
      ]
     },
     "metadata": {
      "needs_background": "light"
     },
     "output_type": "display_data"
    }
   ],
   "source": [
    "xval, yval = next(validgen)\n",
    "pred1 = model1.predict_on_batch(xval)\n",
    "pred2 = model2.predict_on_batch(xval)\n",
    "pred3 = model3.predict_on_batch(xval)\n",
    "pred4 = model4.predict_on_batch(xval)\n",
    "pred5 = model5.predict_on_batch(xval)\n",
    "import matplotlib.pyplot as plt\n",
    "ind_test = 15;\n",
    "plt.plot(pred1[ind_test,:], label='nn1')\n",
    "plt.plot(pred2[ind_test,:], label='nn2')\n",
    "plt.plot(pred3[ind_test,:], label='nn3')\n",
    "plt.plot(pred4[ind_test,:], label='nn4')\n",
    "plt.plot(pred5[ind_test,:], label='nn5')\n",
    "plt.plot(y[ind_test,:], label='truth')\n",
    "plt.legend();"
   ]
  },
  {
   "cell_type": "markdown",
   "metadata": {},
   "source": [
    "#### Step 5: Check energy and mass conservation for the predictions\n",
    "If we coded the mass/enthalpy conservation layers properly  \n",
    "pred1 from the mass/enthalpy-conserving model1 should conserve mass/energy  \n",
    "pred2 which is a \"naive\" dense network should be close to conserving mass/energy  \n",
    "The function below is directly adapted from the tested mass/enthalpy conservation layers in numpy that have been used to develop the tensorflow layers"
   ]
  },
  {
   "cell_type": "code",
   "execution_count": 26,
   "metadata": {},
   "outputs": [],
   "source": [
    "def massent_check(x,y,fsub=fsub,fdiv=fdiv,normq=normq,hyai=hyai,hybi=hybi):\n",
    "    import numpy as np\n",
    "    # 0) Constants\n",
    "    G = 9.80616; # Reference gravity constant [m.s-2]\n",
    "    L_F = 3.337e5; # Latent heat of fusion of water [W.kg-1]\n",
    "    L_V = 2.501e6; # Latent heat of vaporization of water [W.kg-1]\n",
    "    L_S = L_F+L_V; # Latent heat of sublimation of water [W.kg-1]\n",
    "    P0 = 1e5; # Reference surface pressure [Pa]   \n",
    "\n",
    "    # WATER&ENTHALPY) Get non-dimensional pressure differences (p_tilde above)\n",
    "    # In the input vector, PS is the 151st element after \n",
    "    # the first elements = [QBP, ..., VBP with shape 30*5=150]\n",
    "    PS = np.add( np.multiply( x[:,150], fdiv[150]), fsub[150])\n",
    "    # Reference for calculation of d_pressure is cbrain/models.py (e.g. QLayer)\n",
    "    P = np.add( np.multiply( P0, hyai), \\\n",
    "    np.multiply( PS[:,None], hybi))\n",
    "    dP = np.subtract( P[:, 1:], P[:, :-1])\n",
    "    # norm_output = dp_norm * L_V/G so dp_norm = norm_output * G/L_V\n",
    "    dP_NORM = np.divide( \\\n",
    "    np.multiply(normq[:30], \\\n",
    "              G),\\\n",
    "    L_V)\n",
    "    # dp_tilde = dp/dp_norm\n",
    "    dP_TILD = np.divide( dP, dP_NORM)\n",
    "\n",
    "    # WATER.1) Calculate water vertical integral from level 1 to level 30\n",
    "    WATVEC = np.multiply( dP_TILD, y[:, :30] + y[:, 30:60] + y[:, 60:90])\n",
    "    WATINT = np.sum( WATVEC, axis=1)\n",
    "\n",
    "    # WATER.2) Calculate forcing on the right-hand side (Net Evaporation-Precipitation)\n",
    "    # E-P is already normalized to units W.m-2 in the output vector\n",
    "    # so all we need to do is input-unnormalize LHF that is taken from the input vector\n",
    "    LHF = np.add( np.multiply( x[:,153], fdiv[153]), fsub[153])\n",
    "    # Note that total precipitation = PRECT + 1e-3*PRECTEND in the CAM model\n",
    "    # PRECTEND already multiplied by 1e-3 in output vector so no need to redo it\n",
    "    PREC = np.add( y[:, 154], y[:, 155])\n",
    "\n",
    "    # WATER.FINAL) Residual = E-P-DWATER/DT\n",
    "    WATRES = LHF-PREC-WATINT\n",
    "    \n",
    "    # ENTHALPY.1) Calculate net energy input from phase change and precipitation\n",
    "    # PHAS = Lf/Lv*((PRECST+PRECSTEN)-(PRECT+PRECTEND))\n",
    "    PHAS = np.divide( np.multiply( np.subtract(\\\n",
    "                                          np.add( y[:,156], y[:,157]),\\\n",
    "                                          np.add( y[:,154], y[:,155])),\\\n",
    "                                  L_F),\\\n",
    "                     L_V)\n",
    "    \n",
    "    # ENTHALPY.2) Calculate net energy input from radiation, sensible heat flux and turbulent KE\n",
    "    # 2.1) RAD = FSNT-FSNS-FLNT+FLNS\n",
    "    RAD = np.add(\\\n",
    "            np.subtract( y[:,150], y[:,151]),\\\n",
    "            np.subtract( y[:,153], y[:,152]))\n",
    "    # 2.2) Unnormalize sensible heat flux\n",
    "    SHF = np.add( np.multiply( x[:,152], fdiv[152]), fsub[152])\n",
    "    # 2.3) Net turbulent kinetic energy dissipative heating is the column-integrated \n",
    "    # turbulent kinetic energy energy dissipative heating\n",
    "    KEDVEC = np.multiply( dP_TILD, y[:, 120:150])\n",
    "    KEDINT = np.sum( KEDVEC, axis=1)\n",
    "    \n",
    "    # ENTHALPY.3) Calculate tendency of normalized column water vapor due to phase change\n",
    "    # 3.1) Column water vapor is the column integral of specific humidity\n",
    "    PHQVEC = np.multiply( dP_TILD, y[:, :30])\n",
    "    PHQINT = np.sum( PHQVEC, axis=1)\n",
    "    # 3.2) Multiply by L_S/L_V to normalize (explanation above)\n",
    "    SPDQINT = np.divide( np.multiply( np.subtract(\\\n",
    "                                                 PHQINT, LHF),\\\n",
    "                                    L_S),\\\n",
    "                       L_V)\n",
    "    \n",
    "    # ENTHALPY.4) Same operation for liquid water tendency but multiplied by L_F/L_V\n",
    "    SPDQCINT = np.divide( np.multiply(\\\n",
    "                                  np.sum(\\\n",
    "                                         np.multiply( dP_TILD, y[:, 30:60]),\\\n",
    "                                         axis=1),\\\n",
    "                                  L_F),\\\n",
    "                     L_V)\n",
    "    \n",
    "    # ENTHALPY.5) Same operation for temperature tendency\n",
    "    DTINT = np.sum( np.multiply( dP_TILD[:, :30], y[:, 90:120]), axis=1)\n",
    "    \n",
    "    # ENTHALPY.FINAL) Residual = SPDQ+SPDQC+DTINT-RAD-SHF-PHAS\n",
    "    ENTRES = SPDQINT+SPDQCINT+DTINT-RAD-SHF-PHAS-KEDINT\n",
    "\n",
    "    import matplotlib.pyplot as plt\n",
    "    from matplotlib import rc\n",
    "    plt.rc('text', usetex=True)\n",
    "    plt.rc('font', family='serif')\n",
    "    \n",
    "    plt.figure(num=None, figsize=(12, 3), dpi=80, facecolor='w', edgecolor='k')\n",
    "    \n",
    "    plt.subplot(121)\n",
    "    plt.hist(WATRES)\n",
    "    plt.xlabel(r\"$\\mathrm{Water\\ Residual\\ \\left[W.m^{-2}\\right]}$\", fontsize=16)\n",
    "    plt.ylabel(r'Number of samples', fontsize=16)\n",
    "    plt.xticks(fontsize=14); plt.yticks(fontsize=14)\n",
    "    \n",
    "    plt.subplot(122)\n",
    "    plt.hist(ENTRES)\n",
    "    plt.xlabel(r\"$\\mathrm{Enthalpy\\ Residual\\ \\left[W.m^{-2}\\right]}$\", fontsize=16)\n",
    "    plt.ylabel(r'Number of samples', fontsize=16)\n",
    "    plt.xticks(fontsize=14); plt.yticks(fontsize=14)"
   ]
  },
  {
   "cell_type": "code",
   "execution_count": 57,
   "metadata": {},
   "outputs": [],
   "source": [
    "x, y = next(gen)\n",
    "pred1 = model1.predict_on_batch(x)\n",
    "pred2 = model2.predict_on_batch(x)"
   ]
  },
  {
   "cell_type": "code",
   "execution_count": 42,
   "metadata": {},
   "outputs": [
    {
     "data": {
      "image/png": "[encoded data removed]",
      "text/plain": [
       "<Figure size 960x240 with 2 Axes>"
      ]
     },
     "metadata": {},
     "output_type": "display_data"
    }
   ],
   "source": [
    "massent_check(x,y)"
   ]
  },
  {
   "cell_type": "code",
   "execution_count": 43,
   "metadata": {},
   "outputs": [
    {
     "data": {
      "image/png": "[encoded data removed]",
      "text/plain": [
       "<Figure size 960x240 with 2 Axes>"
      ]
     },
     "metadata": {},
     "output_type": "display_data"
    }
   ],
   "source": [
    "massent_check(x,pred1)"
   ]
  },
  {
   "cell_type": "code",
   "execution_count": 44,
   "metadata": {},
   "outputs": [
    {
     "data": {
      "image/png": "[encoded data removed]",
      "text/plain": [
       "<Figure size 960x240 with 2 Axes>"
      ]
     },
     "metadata": {},
     "output_type": "display_data"
    }
   ],
   "source": [
    "massent_check(x,pred2)"
   ]
  },
  {
   "cell_type": "markdown",
   "metadata": {},
   "source": [
    "#### Step 6: Check positivity of water species\n",
    "There are two necessary steps:  \n",
    "1) Load the water species concentrations \"before physics\" from the input vector and unnormalize them  \n",
    "2) Invert the output normalization to get the water concentrations \"after physics\"\n",
    "\n",
    "$$\n",
    "\\delta q_{v,i,l}\\left(p\\right)=\\frac{L_{v}\\Delta p_{\\mathrm{norm}}}{g}\\frac{q_{v,i,l}^{a}\\left(p\\right)-q_{v,i,l}^{b}\\left(p\\right)}{\\Delta t}\\ \\Rightarrow\\ q_{v,i,l}^{a}\\left(p\\right)=q_{v,i,l}^{b}\\left(p\\right)+\\frac{g\\Delta t}{L_{v}\\Delta p_{\\mathrm{norm}}}\\delta q_{v,i,l}\\left(p\\right)\n",
    "$$"
   ]
  },
  {
   "cell_type": "code",
   "execution_count": 75,
   "metadata": {},
   "outputs": [],
   "source": [
    "def watpos_check(x,y,fsub=fsub,fdiv=fdiv,normq=normq,dt=30*60):\n",
    "    \n",
    "    import numpy as np\n",
    "\n",
    "    # 1) Extract water species concentrations from inputs\n",
    "    QVB = np.add( np.multiply( x[:, :30], fdiv[ :30]), fsub[ :30])\n",
    "    QLB = np.add( np.multiply( x[:, 30:60], fdiv[ 30:60]), fsub[ 30:60])\n",
    "    QSB = np.add( np.multiply( x[:, 60:90], fdiv[ 60:90]), fsub[ 60:90])\n",
    "\n",
    "    # 2) Inverse output normalization and get water concentration after physics\n",
    "    QVA = QVB + np.divide( dt*y[:, :30] , normq[:30])\n",
    "    QLA = QLB + np.divide( dt*y[:, 30:60] , normq[:30])\n",
    "    QSA = QSB + np.divide( dt*y[:, 60:90] , normq[:30])\n",
    "\n",
    "    import matplotlib.pyplot as plt\n",
    "    from matplotlib import rc\n",
    "    plt.rc('text', usetex=True)\n",
    "    plt.rc('font', family='serif')\n",
    "\n",
    "    plt.figure(num=None, figsize=(12, 6), dpi=80, facecolor='w', edgecolor='k')\n",
    "\n",
    "    plt.subplot(231)\n",
    "    plt.hist(1e3*QVA)\n",
    "    plt.xlabel(r\"$\\mathrm{Water\\ vapor\\ concentration\\ \\left[g/kg\\right]}$\", fontsize=16)\n",
    "    plt.ylabel(r'Number of samples', fontsize=16)\n",
    "    plt.xticks(fontsize=14); plt.yticks(fontsize=14)\n",
    "\n",
    "    plt.subplot(232)\n",
    "    plt.hist(1e3*QLA)\n",
    "    plt.xlabel(r\"$\\mathrm{Liquid\\ water\\ concentration\\ \\left[g/kg\\right]}$\", fontsize=16)\n",
    "    plt.xticks(fontsize=14); plt.yticks(fontsize=14)\n",
    "\n",
    "    plt.subplot(233)\n",
    "    plt.hist(1e3*QSA)\n",
    "    plt.xlabel(r\"$\\mathrm{Ice\\ concentration\\ \\left[g/kg\\right]}$\", fontsize=16)\n",
    "    plt.xticks(fontsize=14); plt.yticks(fontsize=14)\n",
    "    \n",
    "    plt.subplot(234)\n",
    "    plt.hist(1e3*(QVA-QVB))\n",
    "    plt.xlabel(r\"$\\mathrm{Water\\ vapor\\ change\\ \\left[g/kg\\right]}$\", fontsize=16)\n",
    "    plt.ylabel(r'Number of samples', fontsize=16)\n",
    "    plt.xticks(fontsize=14); plt.yticks(fontsize=14)\n",
    "\n",
    "    plt.subplot(235)\n",
    "    plt.hist(1e3*(QLA-QLB))\n",
    "    plt.xlabel(r\"$\\mathrm{Liquid\\ water\\ change\\ \\left[g/kg\\right]}$\", fontsize=16)\n",
    "    plt.xticks(fontsize=14); plt.yticks(fontsize=14)\n",
    "\n",
    "    plt.subplot(236)\n",
    "    plt.hist(1e3*(QSA-QSB))\n",
    "    plt.xlabel(r\"$\\mathrm{Ice\\ change\\ \\left[g/kg\\right]}$\", fontsize=16)\n",
    "    plt.xticks(fontsize=14); plt.yticks(fontsize=14)\n",
    "    \n",
    "    plt.subplots_adjust(left=None, bottom=None, right=None, top=None, wspace=None, hspace=0.5)"
   ]
  },
  {
   "cell_type": "code",
   "execution_count": 76,
   "metadata": {},
   "outputs": [
    {
     "data": {
      "image/png": "[encoded data removed]",
      "text/plain": [
       "<Figure size 960x480 with 6 Axes>"
      ]
     },
     "metadata": {},
     "output_type": "display_data"
    }
   ],
   "source": [
    "watpos_check(x,y,fsub,fdiv,normq,dt)"
   ]
  },
  {
   "cell_type": "code",
   "execution_count": 77,
   "metadata": {},
   "outputs": [
    {
     "data": {
      "image/png": "[encoded data removed]",
      "text/plain": [
       "<Figure size 960x480 with 6 Axes>"
      ]
     },
     "metadata": {},
     "output_type": "display_data"
    }
   ],
   "source": [
    "watpos_check(x,pred1,fsub,fdiv,normq,dt)"
   ]
  },
  {
   "cell_type": "code",
   "execution_count": 78,
   "metadata": {},
   "outputs": [
    {
     "data": {
      "image/png": "[encoded data removed]",
      "text/plain": [
       "<Figure size 960x480 with 6 Axes>"
      ]
     },
     "metadata": {},
     "output_type": "display_data"
    }
   ],
   "source": [
    "watpos_check(x,pred2,fsub,fdiv,normq,dt)"
   ]
  },
  {
   "cell_type": "markdown",
   "metadata": {},
   "source": [
    "#### Side step: Debugging\n",
    "##### Mass conservation layer in Numpy"
   ]
  },
  {
   "cell_type": "code",
   "execution_count": 189,
   "metadata": {},
   "outputs": [
    {
     "name": "stdout",
     "output_type": "stream",
     "text": [
      "(512, 156)\n",
      "dP= [ 277.64523402  512.62555644  839.73696455 1211.38058603 1519.8353678\n",
      " 1745.60062587 1737.79353499 1423.96241426 1675.21685362 1970.80597281\n",
      " 2318.55362654 2727.6545763  3197.7786471  3762.02087322 4425.8228367\n",
      " 5206.75274756 6125.47004496 7206.30310716 8477.84052202 8481.23433368\n",
      " 7784.10646187 6568.77660212 4882.00930607 2826.34901551 2651.61580947\n",
      " 2455.40763694 2238.96767435 2003.63136295 1751.24040859 1484.55609408]\n",
      "dP_TILD= [1.         1.00000001 1.00000003 0.99999998 1.00000003 1.00000002\n",
      " 1.00000004 1.00000001 1.00000003 1.00000003 0.99999996 1.00000001\n",
      " 0.99651969 0.99651967 0.99651971 0.99651962 0.99651965 0.99651971\n",
      " 0.99651979 0.99651972 0.99651965 0.9965197  0.99651979 0.99651977\n",
      " 0.99651979 0.99651965 0.99651973 0.99651972 0.99651968 0.99716217]\n",
      "CLDVEC= [ 0.00000000e+00  0.00000000e+00  0.00000000e+00  0.00000000e+00\n",
      "  0.00000000e+00  0.00000000e+00  0.00000000e+00  0.00000000e+00\n",
      "  0.00000000e+00  0.00000000e+00  0.00000000e+00  0.00000000e+00\n",
      "  0.00000000e+00  0.00000000e+00  0.00000000e+00  0.00000000e+00\n",
      "  0.00000000e+00  0.00000000e+00 -2.01829318e-02 -4.04875675e-04\n",
      " -1.24406984e-13  0.00000000e+00 -4.54874583e-03 -4.70635920e-02\n",
      "  4.15789425e-01 -1.56063280e+00 -1.29520629e+00  1.86089540e+00\n",
      "  7.86679466e-01  7.64881946e-02]\n",
      "CLDINT= 0.21181325305724952\n",
      "VAPVEC= [ 0.00000000e+00  0.00000000e+00 -7.22653271e-06  7.36196517e-06\n",
      " -2.18848751e-05  1.81146647e-05  3.45948472e-06  6.31680114e-07\n",
      "  2.13570304e-06  2.47899637e-06  1.25387563e-04 -1.31903349e-04\n",
      " -5.79337804e-04  9.73641240e-04 -4.67346337e-03  4.52160660e-03\n",
      " -3.71324193e-02  3.00382706e-01 -8.99144243e-01 -5.65429841e-01\n",
      "  2.39909258e+00  7.29378195e-02 -5.35054990e+00  3.84908059e+00\n",
      "  2.26981845e+00 -7.13247702e-03 -2.91737946e+00  3.15153636e-01\n",
      " -1.47380316e+00]\n",
      "VAPINT= -2.04386471915228\n",
      "LHF= 23.281357\n",
      "PREC= 26.041534\n",
      "E-P= -2.7601776\n",
      "E-P-CLDINT-VAPINT= -0.928126146209657\n",
      "DELQV30= -0.9307675089060945\n",
      "(512, 29)\n",
      "(512, 127)\n",
      "[0.00000000e+00 0.00000000e+00 0.00000000e+00 0.00000000e+00\n",
      " 0.00000000e+00 0.00000000e+00 0.00000000e+00 0.00000000e+00\n",
      " 0.00000000e+00 0.00000000e+00 0.00000000e+00 0.00000000e+00\n",
      " 0.00000000e+00 0.00000000e+00 0.00000000e+00 0.00000000e+00\n",
      " 0.00000000e+00 0.00000000e+00 0.00000000e+00 0.00000000e+00\n",
      " 0.00000000e+00 0.00000000e+00 0.00000000e+00 0.00000000e+00\n",
      " 0.00000000e+00 0.00000000e+00 0.00000000e+00 0.00000000e+00\n",
      " 0.00000000e+00 1.81539658e-06 0.00000000e+00 0.00000000e+00\n",
      " 0.00000000e+00 0.00000000e+00 0.00000000e+00 0.00000000e+00\n",
      " 0.00000000e+00 0.00000000e+00 0.00000000e+00 0.00000000e+00\n",
      " 0.00000000e+00 0.00000000e+00 0.00000000e+00 0.00000000e+00\n",
      " 0.00000000e+00 0.00000000e+00 0.00000000e+00 0.00000000e+00\n",
      " 0.00000000e+00 0.00000000e+00 0.00000000e+00 0.00000000e+00\n",
      " 0.00000000e+00 0.00000000e+00 0.00000000e+00 0.00000000e+00\n",
      " 0.00000000e+00 0.00000000e+00 0.00000000e+00 0.00000000e+00\n",
      " 0.00000000e+00 0.00000000e+00 0.00000000e+00 0.00000000e+00\n",
      " 0.00000000e+00 0.00000000e+00 0.00000000e+00 0.00000000e+00\n",
      " 0.00000000e+00 0.00000000e+00 0.00000000e+00 0.00000000e+00\n",
      " 0.00000000e+00 0.00000000e+00 0.00000000e+00 0.00000000e+00\n",
      " 0.00000000e+00 0.00000000e+00 0.00000000e+00 0.00000000e+00\n",
      " 0.00000000e+00 0.00000000e+00 0.00000000e+00 0.00000000e+00\n",
      " 0.00000000e+00 0.00000000e+00 0.00000000e+00 0.00000000e+00\n",
      " 0.00000000e+00 0.00000000e+00 0.00000000e+00 0.00000000e+00\n",
      " 0.00000000e+00 0.00000000e+00 0.00000000e+00 0.00000000e+00\n",
      " 0.00000000e+00 0.00000000e+00 0.00000000e+00 0.00000000e+00\n",
      " 0.00000000e+00 0.00000000e+00 0.00000000e+00 0.00000000e+00\n",
      " 0.00000000e+00 0.00000000e+00 0.00000000e+00 0.00000000e+00\n",
      " 0.00000000e+00 0.00000000e+00 0.00000000e+00 0.00000000e+00\n",
      " 0.00000000e+00 0.00000000e+00 0.00000000e+00 0.00000000e+00\n",
      " 0.00000000e+00 0.00000000e+00 0.00000000e+00]\n"
     ]
    },
    {
     "data": {
      "text/plain": [
       "Text(0, 0.5, '# of samples')"
      ]
     },
     "execution_count": 189,
     "metadata": {},
     "output_type": "execute_result"
    },
    {
     "data": {
      "image/png": "[encoded data removed]",
      "text/plain": [
       "<Figure size 432x288 with 1 Axes>"
      ]
     },
     "metadata": {
      "needs_background": "light"
     },
     "output_type": "display_data"
    }
   ],
   "source": [
    "import numpy as np\n",
    "import copy\n",
    "x, y = next(gen)\n",
    "inp = copy.copy(x);\n",
    "ycop = copy.copy(y);\n",
    "densout = np.concatenate([ycop[:,:29],ycop[:,30:119],ycop[:,120:]],1)\n",
    "print(densout.shape)\n",
    "# 0) Constants\n",
    "G = 9.80616; # Reference gravity constant [m.s-2]\n",
    "L_V = 2.501e6; # Latent heat of vaporization of water [W.kg-1]\n",
    "P0 = 1e5; # Reference surface pressure [Pa]\n",
    "ind_test = 59; # Reference index to test        \n",
    "    \n",
    "# 1) Get non-dimensional pressure differences (p_tilde above)\n",
    "# In the input vector, PS is the 151st element after \n",
    "# the first elements = [QBP, ..., VBP with shape 30*5=150]\n",
    "PS = np.add( np.multiply( inp[:,150], fdiv[150]), fsub[150])\n",
    "# Reference for calculation of d_pressure is cbrain/models.py (e.g. QLayer)\n",
    "P = np.add( np.multiply( P0, hyai), \\\n",
    "                        np.multiply( PS[:,None], hybi))\n",
    "dP = np.subtract( P[:, 1:], P[:, :-1])\n",
    "print('dP=',dP[ind_test,:])\n",
    "# norm_output = dp_norm * L_V/G so dp_norm = norm_output * G/L_V\n",
    "dP_NORM = np.divide( \\\n",
    "                  np.multiply(normq[:30], \\\n",
    "                                   G), L_V)\n",
    "        # dp_tilde = dp/dp_norm\n",
    "        # Wondering about broadcasting here...\n",
    "        # tf.div or simply \\ would support broadcasting \n",
    "dP_TILD = np.divide( dP, dP_NORM)\n",
    "print('dP_TILD=',dP_TILD[ind_test,:])\n",
    "        \n",
    "        # 2) Calculate cloud water vertical integral from level 1 to level 30\n",
    "        # The indices are tricky here because we are missing del(q_v)@(level 30)\n",
    "        # so e.g. q_liq@(level 1) is the 30th element of the output of the \n",
    "        # previous dense layer\n",
    "CLDVEC = np.multiply( dP_TILD, \\\n",
    "                                  np.add( densout[:, 29:59], densout[:, 59:89]))\n",
    "print('CLDVEC=',CLDVEC[ind_test,:])\n",
    "CLDINT = np.sum( CLDVEC, axis=1)\n",
    "print('CLDINT=',CLDINT[ind_test])\n",
    "        \n",
    "        # 3) Calculate water vapor vertical integral from level 1 to level 29\n",
    "VAPVEC = np.multiply( dP_TILD[:, :29], \\\n",
    "                                  densout[:, :29])\n",
    "print('VAPVEC=',VAPVEC[ind_test,:])\n",
    "VAPINT = np.sum( VAPVEC, axis=1)\n",
    "print('VAPINT=',VAPINT[ind_test])\n",
    "        \n",
    "        # 4) Calculate forcing on the right-hand side (Net Evaporation-Precipitation)\n",
    "        # E-P is already normalized to units W.m-2 in the output vector\n",
    "        # so all we need to do is input-unnormalize LHF that is taken from the input vector\n",
    "LHF = np.add( np.multiply( inp[:,153], fdiv[153]), fsub[153])\n",
    "SHF = np.add( np.multiply( inp[:,152], fdiv[152]), fsub[152])\n",
    "print('LHF=',LHF[ind_test])\n",
    "        # Note that total precipitation = PRECT + 1e-3*PRECTEND in the CAM model\n",
    "        # PRECTEND already multiplied by 1e-3 in output vector so no need to redo it\n",
    "# Modification 3 here !!!!!!!!!!!!!\n",
    "PREC = np.add( densout[:, 152], densout[:, 153])\n",
    "# !!!!!!!!!!!!!!!! Careful with indices after adding TKE dissipation\n",
    "print('PREC=',PREC[ind_test])\n",
    "print('E-P=',LHF[ind_test]-PREC[ind_test])\n",
    "print('E-P-CLDINT-VAPINT=',LHF[ind_test]-PREC[ind_test]-CLDINT[ind_test]-VAPINT[ind_test])\n",
    "        # 5) Infer water vapor tendency at level 30 as a residual\n",
    "        # Use add_n to be able to add multiple variables\n",
    "# Modification 2 here !!!!!!!!!!!!!!!!!!!!!!!!\n",
    "DELQV30 = np.divide(np.add(np.add(np.add(LHF,np.negative(PREC)),np.negative(CLDINT)),np.negative(VAPINT)), \\\n",
    "                                 dP_TILD[:, 29])\n",
    "# !!!!!!!!!!!!!!!!!!!!!!!!!!\n",
    "print('DELQV30=',DELQV30[ind_test])\n",
    "        \n",
    "        # 6) Concatenate the water tendencies with the newly inferred tendency\n",
    "        # to get the final vector out of shape (#samples,125) with\n",
    "        # [DELQ, DELCLDLIQ, DELCLDICE, \n",
    "        # TPHYSTND\\{TPHYSTND AT SURFACE}, FSNT, FSNS, FLNT, FLNS, PRECT PRECTEND]\n",
    "        # Uses https://www.tensorflow.org/api_docs/python/tf/concat\n",
    "# Modification 1 here!!!!!!!!!!!!!!!!!!!!!\n",
    "DELQV30 = np.expand_dims(DELQV30,1)\n",
    "# !!!!!!!!!!!!!!!!!!!!!!!!!\n",
    "print(densout[:, :29].shape)\n",
    "print(densout[:, 29:].shape)\n",
    "out = np.concatenate([densout[:, :29], DELQV30, densout[:, 29:]], 1)\n",
    "print(out[ind_test,:119]-y[ind_test,:119]) # Should be 0\n",
    "\n",
    "import matplotlib.pyplot as plt\n",
    "plt.hist(out[:,29]-y[:,29])\n",
    "plt.xlabel(\"Residual (W.m^{-2})\", fontsize=16)\n",
    "plt.ylabel(\"# of samples\", fontsize=16)"
   ]
  },
  {
   "cell_type": "markdown",
   "metadata": {},
   "source": [
    "##### FMSE conservation layer in Numpy"
   ]
  },
  {
   "cell_type": "code",
   "execution_count": 151,
   "metadata": {},
   "outputs": [
    {
     "name": "stdout",
     "output_type": "stream",
     "text": [
      "[ 0.00000000e+00  0.00000000e+00  0.00000000e+00  0.00000000e+00\n",
      "  0.00000000e+00  0.00000000e+00  0.00000000e+00  0.00000000e+00\n",
      "  0.00000000e+00  0.00000000e+00  0.00000000e+00  0.00000000e+00\n",
      "  0.00000000e+00  0.00000000e+00  0.00000000e+00  0.00000000e+00\n",
      "  0.00000000e+00  0.00000000e+00  0.00000000e+00  0.00000000e+00\n",
      "  0.00000000e+00  0.00000000e+00  0.00000000e+00  0.00000000e+00\n",
      "  0.00000000e+00  0.00000000e+00  0.00000000e+00  0.00000000e+00\n",
      "  0.00000000e+00  0.00000000e+00  0.00000000e+00  0.00000000e+00\n",
      "  0.00000000e+00  0.00000000e+00  0.00000000e+00  0.00000000e+00\n",
      "  0.00000000e+00  0.00000000e+00  0.00000000e+00  0.00000000e+00\n",
      "  0.00000000e+00  0.00000000e+00  0.00000000e+00  0.00000000e+00\n",
      "  0.00000000e+00  0.00000000e+00  0.00000000e+00  0.00000000e+00\n",
      "  0.00000000e+00  0.00000000e+00  0.00000000e+00  0.00000000e+00\n",
      "  0.00000000e+00  0.00000000e+00  0.00000000e+00  0.00000000e+00\n",
      "  0.00000000e+00  0.00000000e+00  0.00000000e+00  0.00000000e+00\n",
      "  0.00000000e+00  0.00000000e+00  0.00000000e+00  0.00000000e+00\n",
      "  0.00000000e+00  0.00000000e+00  0.00000000e+00  0.00000000e+00\n",
      "  0.00000000e+00  0.00000000e+00  0.00000000e+00  0.00000000e+00\n",
      "  0.00000000e+00  0.00000000e+00  0.00000000e+00  0.00000000e+00\n",
      "  0.00000000e+00  0.00000000e+00  0.00000000e+00  0.00000000e+00\n",
      "  0.00000000e+00  0.00000000e+00  0.00000000e+00  0.00000000e+00\n",
      "  0.00000000e+00  0.00000000e+00  0.00000000e+00  0.00000000e+00\n",
      "  0.00000000e+00  0.00000000e+00  0.00000000e+00  0.00000000e+00\n",
      "  0.00000000e+00  0.00000000e+00  0.00000000e+00  0.00000000e+00\n",
      "  0.00000000e+00  0.00000000e+00  0.00000000e+00  0.00000000e+00\n",
      "  0.00000000e+00  0.00000000e+00  0.00000000e+00  0.00000000e+00\n",
      "  0.00000000e+00  0.00000000e+00  0.00000000e+00  0.00000000e+00\n",
      "  0.00000000e+00  0.00000000e+00  0.00000000e+00  0.00000000e+00\n",
      "  0.00000000e+00  0.00000000e+00  0.00000000e+00  0.00000000e+00\n",
      "  0.00000000e+00  0.00000000e+00  0.00000000e+00 -1.89548166e-05\n",
      "  0.00000000e+00  0.00000000e+00  0.00000000e+00  0.00000000e+00\n",
      "  0.00000000e+00  0.00000000e+00  0.00000000e+00  0.00000000e+00\n",
      "  0.00000000e+00  0.00000000e+00  0.00000000e+00  0.00000000e+00\n",
      "  0.00000000e+00  0.00000000e+00  0.00000000e+00  0.00000000e+00\n",
      "  0.00000000e+00  0.00000000e+00  0.00000000e+00  0.00000000e+00\n",
      "  0.00000000e+00  0.00000000e+00  0.00000000e+00  0.00000000e+00\n",
      "  0.00000000e+00  0.00000000e+00  0.00000000e+00  0.00000000e+00\n",
      "  0.00000000e+00  0.00000000e+00  0.00000000e+00  0.00000000e+00\n",
      "  0.00000000e+00  0.00000000e+00  0.00000000e+00  0.00000000e+00\n",
      "  0.00000000e+00  0.00000000e+00]\n",
      "RESID 1.5543037363840995e-06\n"
     ]
    },
    {
     "data": {
      "text/plain": [
       "Text(0, 0.5, '# of samples')"
      ]
     },
     "execution_count": 151,
     "metadata": {},
     "output_type": "execute_result"
    },
    {
     "data": {
      "image/png": "[encoded data removed]",
      "text/plain": [
       "<Figure size 432x288 with 1 Axes>"
      ]
     },
     "metadata": {
      "needs_background": "light"
     },
     "output_type": "display_data"
    }
   ],
   "source": [
    "import numpy as np\n",
    "import copy\n",
    "x, y = next(gen)\n",
    "inp = copy.copy(x);\n",
    "ycop = copy.copy(y);\n",
    "massout = np.concatenate([ycop[:,:119],ycop[:,120:]],1)\n",
    "\n",
    "# 0) Constants\n",
    "dt = 1800; # Timestep [s]\n",
    "G = 9.80616; # Reference gravity constant [m.s-2]\n",
    "L_F = 3.337e5; # Latent heat of fusion of water [W.kg-1]\n",
    "L_V = 2.501e6; # Latent heat of vaporization of water [W.kg-1]\n",
    "L_S = L_F+L_V; # Latent heat of sublimation\n",
    "P0 = 1e5; # Reference surface pressure [Pa]\n",
    "ind_test = 20;\n",
    "#print('truth=',y[ind_test,:])\n",
    "        \n",
    "        # 1) Get non-dimensional pressure differences (p_tilde above)\n",
    "        # In the input vector, PS is the 151st element after \n",
    "        # the first elements = [QBP, ..., VBP with shape 30*5=150]\n",
    "PS = np.add( np.multiply( inp[:,150], fdiv[150]), fsub[150])\n",
    "        # Reference for calculation of d_pressure is cbrain/models.py (e.g. QLayer)\n",
    "P = np.add( np.multiply( P0, hyai), \\\n",
    "                        np.multiply( PS[:,None], hybi))\n",
    "dP = np.subtract( P[:, 1:], P[:, :-1])\n",
    "        # norm_output = dp_norm * L_V/G so dp_norm = norm_output * G/L_V\n",
    "dP_NORM = np.divide( \\\n",
    "                  np.multiply(normq[:30], \\\n",
    "                                   G), L_V)\n",
    "        # dp_tilde = dp/dp_norm\n",
    "dP_TILD = np.divide( dP, dP_NORM)\n",
    "#print('dP_TILD=',dP_TILD[ind_test,:])\n",
    "        \n",
    "# 2) Calculate net energy input from phase change and precipitation\n",
    "# PHAS = Lf/Lv*((PRECST+PRECSTEN)-(PRECT+PRECTEND))\n",
    "PHAS = np.divide( np.multiply( np.subtract(\\\n",
    "                                          np.add( massout[:,155], massout[:,156]),\\\n",
    "                                          np.add( massout[:,153], massout[:,154])),\\\n",
    "                             L_F),\\\n",
    "                L_V)\n",
    "#print('Check PHAS=',PHAS[ind_test])\n",
    "\n",
    "# 3) Calculate net energy input from radiation, sensible heat flux and turbulent KE\n",
    "# 3.1) RAD = FSNT-FSNS-FLNT+FLNS\n",
    "RAD = np.add(\\\n",
    "            np.subtract( massout[:,149], massout[:,150]),\\\n",
    "            np.subtract( massout[:,152], massout[:,151]))\n",
    "#print('Check RAD=',RAD[ind_test])\n",
    "# 3.2) Unnormalize sensible heat flux\n",
    "SHF = np.add( np.multiply( inp[:,152], fdiv[152]), fsub[152])\n",
    "#print('Check SHF=',SHF[ind_test])\n",
    "# 3.3) Net turbulent kinetic energy dissipative heating is the column-integrated \n",
    "# turbulent kinetic energy energy dissipative heating\n",
    "KEDVEC = np.multiply( dP_TILD, massout[:, 119:149])\n",
    "KEDINT = np.sum( KEDVEC, axis=1)\n",
    "#print('Check KEDINT=',KEDINT[ind_test])\n",
    "\n",
    "# 4) Calculate tendency of normalized column water vapor due to phase change\n",
    "# 4.1) Unnormalize latent heat flux\n",
    "LHF = np.add( np.multiply( inp[:,153], fdiv[153]), fsub[153])\n",
    "#print('Check LHF=',LHF[ind_test])\n",
    "# 4.2) Column water vapor is the column integral of specific humidity\n",
    "PHQVEC = np.multiply( dP_TILD, massout[:, :30])\n",
    "PHQINT = np.sum( PHQVEC, axis=1)\n",
    "# 4.3) Multiply by L_S/L_V to normalize (explanation above)\n",
    "SPDQINT = np.divide( np.multiply( np.subtract(\\\n",
    "                                             PHQINT, LHF),\\\n",
    "                                L_S),\\\n",
    "                   L_V)\n",
    "#print('Check SPDQINT=',SPDQINT[ind_test])\n",
    "\n",
    "# 5) Same operation for liquid water tendency but multiplied by L_F/L_V\n",
    "SPDQCINT = np.divide( np.multiply(\\\n",
    "                                  np.sum(\\\n",
    "                                         np.multiply( dP_TILD, massout[:, 30:60]),\\\n",
    "                                         axis=1),\\\n",
    "                                  L_F),\\\n",
    "                     L_V)\n",
    "#print('Check SPDQCINT=',SPDQCINT[ind_test])\n",
    "\n",
    "# 6) Same operation for temperature but only integrate from level 1 to level 29\n",
    "SPDTINT = np.sum( np.multiply( dP_TILD[:, :29], massout[:, 90:119]), axis=1)\n",
    "#print('Check SPDTINT=',SPDTINT[ind_test])\n",
    "\n",
    "# 7) Now calculate dT30 as a residual\n",
    "dT30 = np.divide(np.add(np.add(np.add(np.add(np.add(np.add(\\\n",
    "                                                          PHAS,RAD),\\\n",
    "                                                   SHF),\\\n",
    "                                             KEDINT),\\\n",
    "                                     np.negative( SPDQINT)),\\\n",
    "                              np.negative( SPDQCINT)),\\\n",
    "                       np.negative( SPDTINT)),\\\n",
    "                dP_TILD[:, 29])\n",
    "dT30 = np.expand_dims(dT30,1)\n",
    "\n",
    "out = np.concatenate([massout[:, :119], dT30, massout[:, 119:]], 1)\n",
    "print(out[ind_test,:]-y[ind_test,:]) # Should be 0\n",
    "\n",
    "        # 2) Calculate latent heat vertical integral from level 1 to level 30\n",
    "#LATVEC = np.multiply( dP_TILD, \\\n",
    "#                                  np.add( \\\n",
    "#                                    massout[:, :30], \\\n",
    "#                                    np.divide( np.multiply( L_F, \\\n",
    "#                                    np.negative(massout[:, 60:90])), L_V)))\n",
    "#LATVEC = np.multiply( dP_TILD, \\\n",
    "#                                  np.add( \\\n",
    "#                                    np.divide( np.multiply( L_S, \\\n",
    "#                                    y[:, :30]), L_V), \\\n",
    "#                                    np.divide( np.multiply( L_F, \\\n",
    "#                                    y[:, 30:60]), L_V)))\n",
    "#LATINT = np.sum( LATVEC, axis=1)\n",
    "#print('LATVEC=',LATVEC[ind_test,:])\n",
    "#print('LATINT=',LATINT[ind_test])\n",
    "################### Functional energy routine for comparison ######################\n",
    "PHQVEC = np.multiply( dP_TILD, y[:, :30])\n",
    "PHQINT = np.sum( PHQVEC, axis=1)\n",
    "LHF = np.add( np.multiply( inp[:,153], fdiv[153]), fsub[153])\n",
    "#print('LHF=',LHF[ind_test])\n",
    "SPDQINT = np.subtract( PHQINT, LHF)\n",
    "#print('SPDQINT',SPDQINT[ind_test],'=PHQINT',PHQINT[ind_test],'-LHF',LHF[ind_test])\n",
    "\n",
    "PHCVEC = np.multiply( dP_TILD, y[:, 30:60])\n",
    "SPDQCINT = np.sum( PHCVEC, axis=1)\n",
    "#print('SPDQCINT',SPDQCINT[ind_test])\n",
    "        # 3) Calculate sensible heat vertical integral from level 1 to level 29\n",
    "        # The temperature tendency is contained in \n",
    "        # the 91st to 119th element of the output vector\n",
    "#print('KEDVEC=',KEDVEC[ind_test,:])    \n",
    "KEDVEC = np.multiply(dP_TILD, y[:, 120:150])\n",
    "KEDINT = np.sum( KEDVEC, axis=1)\n",
    "#print('KEDINT=',KEDINT[ind_test])\n",
    "SHF = np.add( np.multiply( inp[:,152], fdiv[152]), fsub[152])\n",
    "#print('SHF=',SHF[ind_test])\n",
    "SW = np.subtract(y[:,150],y[:,151])\n",
    "LW = np.subtract(y[:,153],y[:,152]);\n",
    "SENVEC = np.multiply( dP_TILD, y[:, 90:120])\n",
    "SENINT = np.sum( SENVEC, axis=1)\n",
    "#SENINT29 = np.sum( np.multiply (dP_TILD[:, :29], y[:, 90:119]), axis=1)\n",
    "#print('SENINT29=',SENINT29[ind_test])\n",
    "SPDTINT = np.subtract( SENINT, np.add(np.add(np.add(KEDINT, SHF), SW), LW))\n",
    "#print('RAD=',LW[ind_test]+SW[ind_test])\n",
    "#print('SPDTINT',SPDTINT[ind_test],'=DTPHYSINT',SENINT[ind_test],\\\n",
    "#     '-SHF',SHF[ind_test],'-KED',KEDINT[ind_test],'-SW',SW[ind_test],'-LW',LW[ind_test])\n",
    "        \n",
    "# Renormalize\n",
    "SPDQINT_NORM = np.divide( np.multiply( SPDQINT, L_S), L_V)\n",
    "#print('SPDQINT_NORM=',SPDQINT_NORM[ind_test])\n",
    "SPDQCINT_NORM = np.divide( np.multiply( SPDQCINT, L_F), L_V)\n",
    "#print('SPDQCINT_NORM=',SPDQCINT_NORM[ind_test])\n",
    "#print('SPDQINT_NORM',SPDQINT_NORM[ind_test],' & SPDQCINT_NORM',SPDQCINT_NORM[ind_test])\n",
    "        # 4) Calculate forcing on the right-hand side (Net radiation + surface ent. fluxes)\n",
    "        # RHS = SHF+LHF\n",
    "        # !!!! Modification 1 : Unnormalize LHF and SHF !!!!!!!!!\n",
    "\n",
    "# Should I multiply LHF by LS/LV?\n",
    "\n",
    "LIQ = np.divide( np.multiply( y[:,154]+y[:,155], L_F), L_V) # Fallout of liquid precip\n",
    "ICE = np.divide( np.multiply( y[:,156]+y[:,157], L_F), L_V) # Conversion liq->ice\n",
    "SINK = ICE-LIQ\n",
    "#print('SINK=',SINK[ind_test],'=ICE',ICE[ind_test],'-LIQ',LIQ[ind_test])\n",
    "\n",
    "RESID = SPDQINT_NORM+SPDQCINT_NORM+SPDTINT-SINK\n",
    "print('RESID',RESID[ind_test])\n",
    "        # 5) Infer temperature tendency at level 30 as a residual\n",
    "        # Composites np.add twice because not sure how to use np.add_n\n",
    "#DELT30 = np.divide( \\\n",
    "#                                np.add(np.add( \\\n",
    "#                                   RHS,np.negative(LATINT)), \\\n",
    "#                                   np.negative(SENINT)), \\\n",
    "#                                dP_TILD[:, 29])\n",
    "#print('DELT30=',DELT30[ind_test])        \n",
    "        # 6) Concatenate the water tendencies with the newly inferred tendency\n",
    "        # to get the final vector out of shape (#samples,126) with\n",
    "        # [DELQ, DELCLDLIQ, DELCLDICE, \n",
    "        # TPHYSTND, FSNT, FSNS, FLNT, FLNS, PRECT PRECTEND]\n",
    "        # Uses https://www.tensorflow.org/api_docs/python/tf/concat\n",
    "#DELT30 = np.expand_dims(DELT30,1)\n",
    "#out = np.concatenate([massout[:, :119], DELT30, massout[:, 119:]], 1)\n",
    "#print(out[ind_test,:]-y[ind_test,:]) # Should be 0\n",
    "import matplotlib.pyplot as plt\n",
    "plt.hist(out[:,119]-y[:,119])\n",
    "plt.xlabel(\"Residual (W.m^{-2})\", fontsize=16)\n",
    "plt.ylabel(\"# of samples\", fontsize=16)\n"
   ]
  },
  {
   "cell_type": "markdown",
   "metadata": {},
   "source": [
    "### 3.1) A simple example"
   ]
  },
  {
   "cell_type": "code",
   "execution_count": 21,
   "metadata": {},
   "outputs": [],
   "source": [
    "inp = Input(shape=(154,))\n",
    "act = Dense(124, activation='relu')(inp)\n",
    "for i in range (7):\n",
    "    act = Dense(124, activation='relu')(act)\n",
    "out = Dense(125)(act)\n",
    "model1 = Model(inputs=inp, outputs=out)"
   ]
  },
  {
   "cell_type": "code",
   "execution_count": 22,
   "metadata": {},
   "outputs": [
    {
     "name": "stdout",
     "output_type": "stream",
     "text": [
      "_________________________________________________________________\n",
      "Layer (type)                 Output Shape              Param #   \n",
      "=================================================================\n",
      "input_1 (InputLayer)         (None, 154)               0         \n",
      "_________________________________________________________________\n",
      "dense_1 (Dense)              (None, 124)               19220     \n",
      "_________________________________________________________________\n",
      "dense_2 (Dense)              (None, 124)               15500     \n",
      "_________________________________________________________________\n",
      "dense_3 (Dense)              (None, 124)               15500     \n",
      "_________________________________________________________________\n",
      "dense_4 (Dense)              (None, 124)               15500     \n",
      "_________________________________________________________________\n",
      "dense_5 (Dense)              (None, 124)               15500     \n",
      "_________________________________________________________________\n",
      "dense_6 (Dense)              (None, 124)               15500     \n",
      "_________________________________________________________________\n",
      "dense_7 (Dense)              (None, 124)               15500     \n",
      "_________________________________________________________________\n",
      "dense_8 (Dense)              (None, 124)               15500     \n",
      "_________________________________________________________________\n",
      "dense_9 (Dense)              (None, 125)               15625     \n",
      "=================================================================\n",
      "Total params: 143,345\n",
      "Trainable params: 143,345\n",
      "Non-trainable params: 0\n",
      "_________________________________________________________________\n"
     ]
    }
   ],
   "source": [
    "model1.summary()"
   ]
  },
  {
   "cell_type": "code",
   "execution_count": 23,
   "metadata": {},
   "outputs": [],
   "source": [
    "model1.compile('adam', loss='mse')"
   ]
  },
  {
   "cell_type": "code",
   "execution_count": 24,
   "metadata": {},
   "outputs": [
    {
     "name": "stdout",
     "output_type": "stream",
     "text": [
      "Epoch 1/10\n",
      "9024/9024 [==============================] - 46s 5ms/step - loss: 302.7223\n",
      "Epoch 2/10\n",
      "9024/9024 [==============================] - 40s 4ms/step - loss: 214.0051\n",
      "Epoch 3/10\n",
      "2746/9024 [========>.....................] - ETA: 27s - loss: 214.7549"
     ]
    },
    {
     "ename": "KeyboardInterrupt",
     "evalue": "",
     "output_type": "error",
     "traceback": [
      "\u001b[0;31m---------------------------------------------------------------------------\u001b[0m",
      "\u001b[0;31mKeyboardInterrupt\u001b[0m                         Traceback (most recent call last)",
      "\u001b[0;32m<ipython-input-24-e9938f4c8c15>\u001b[0m in \u001b[0;36m<module>\u001b[0;34m\u001b[0m\n\u001b[0;32m----> 1\u001b[0;31m \u001b[0mmodel1\u001b[0m\u001b[0;34m.\u001b[0m\u001b[0mfit_generator\u001b[0m\u001b[0;34m(\u001b[0m\u001b[0mgen\u001b[0m\u001b[0;34m,\u001b[0m \u001b[0mtrain_gen_obj\u001b[0m\u001b[0;34m.\u001b[0m\u001b[0mn_batches\u001b[0m\u001b[0;34m,\u001b[0m \u001b[0mepochs\u001b[0m\u001b[0;34m=\u001b[0m\u001b[0;36m10\u001b[0m\u001b[0;34m)\u001b[0m\u001b[0;34m\u001b[0m\u001b[0;34m\u001b[0m\u001b[0m\n\u001b[0m",
      "\u001b[0;32m~/miniconda3/lib/python3.6/site-packages/keras/legacy/interfaces.py\u001b[0m in \u001b[0;36mwrapper\u001b[0;34m(*args, **kwargs)\u001b[0m\n\u001b[1;32m     89\u001b[0m                 warnings.warn('Update your `' + object_name +\n\u001b[1;32m     90\u001b[0m                               '` call to the Keras 2 API: ' + signature, stacklevel=2)\n\u001b[0;32m---> 91\u001b[0;31m             \u001b[0;32mreturn\u001b[0m \u001b[0mfunc\u001b[0m\u001b[0;34m(\u001b[0m\u001b[0;34m*\u001b[0m\u001b[0margs\u001b[0m\u001b[0;34m,\u001b[0m \u001b[0;34m**\u001b[0m\u001b[0mkwargs\u001b[0m\u001b[0;34m)\u001b[0m\u001b[0;34m\u001b[0m\u001b[0;34m\u001b[0m\u001b[0m\n\u001b[0m\u001b[1;32m     92\u001b[0m         \u001b[0mwrapper\u001b[0m\u001b[0;34m.\u001b[0m\u001b[0m_original_function\u001b[0m \u001b[0;34m=\u001b[0m \u001b[0mfunc\u001b[0m\u001b[0;34m\u001b[0m\u001b[0;34m\u001b[0m\u001b[0m\n\u001b[1;32m     93\u001b[0m         \u001b[0;32mreturn\u001b[0m \u001b[0mwrapper\u001b[0m\u001b[0;34m\u001b[0m\u001b[0;34m\u001b[0m\u001b[0m\n",
      "\u001b[0;32m~/miniconda3/lib/python3.6/site-packages/keras/engine/training.py\u001b[0m in \u001b[0;36mfit_generator\u001b[0;34m(self, generator, steps_per_epoch, epochs, verbose, callbacks, validation_data, validation_steps, class_weight, max_queue_size, workers, use_multiprocessing, shuffle, initial_epoch)\u001b[0m\n\u001b[1;32m   2228\u001b[0m                     outs = self.train_on_batch(x, y,\n\u001b[1;32m   2229\u001b[0m                                                \u001b[0msample_weight\u001b[0m\u001b[0;34m=\u001b[0m\u001b[0msample_weight\u001b[0m\u001b[0;34m,\u001b[0m\u001b[0;34m\u001b[0m\u001b[0;34m\u001b[0m\u001b[0m\n\u001b[0;32m-> 2230\u001b[0;31m                                                class_weight=class_weight)\n\u001b[0m\u001b[1;32m   2231\u001b[0m \u001b[0;34m\u001b[0m\u001b[0m\n\u001b[1;32m   2232\u001b[0m                     \u001b[0;32mif\u001b[0m \u001b[0;32mnot\u001b[0m \u001b[0misinstance\u001b[0m\u001b[0;34m(\u001b[0m\u001b[0mouts\u001b[0m\u001b[0;34m,\u001b[0m \u001b[0mlist\u001b[0m\u001b[0;34m)\u001b[0m\u001b[0;34m:\u001b[0m\u001b[0;34m\u001b[0m\u001b[0;34m\u001b[0m\u001b[0m\n",
      "\u001b[0;32m~/miniconda3/lib/python3.6/site-packages/keras/engine/training.py\u001b[0m in \u001b[0;36mtrain_on_batch\u001b[0;34m(self, x, y, sample_weight, class_weight)\u001b[0m\n\u001b[1;32m   1881\u001b[0m             \u001b[0mins\u001b[0m \u001b[0;34m=\u001b[0m \u001b[0mx\u001b[0m \u001b[0;34m+\u001b[0m \u001b[0my\u001b[0m \u001b[0;34m+\u001b[0m \u001b[0msample_weights\u001b[0m\u001b[0;34m\u001b[0m\u001b[0;34m\u001b[0m\u001b[0m\n\u001b[1;32m   1882\u001b[0m         \u001b[0mself\u001b[0m\u001b[0;34m.\u001b[0m\u001b[0m_make_train_function\u001b[0m\u001b[0;34m(\u001b[0m\u001b[0;34m)\u001b[0m\u001b[0;34m\u001b[0m\u001b[0;34m\u001b[0m\u001b[0m\n\u001b[0;32m-> 1883\u001b[0;31m         \u001b[0moutputs\u001b[0m \u001b[0;34m=\u001b[0m \u001b[0mself\u001b[0m\u001b[0;34m.\u001b[0m\u001b[0mtrain_function\u001b[0m\u001b[0;34m(\u001b[0m\u001b[0mins\u001b[0m\u001b[0;34m)\u001b[0m\u001b[0;34m\u001b[0m\u001b[0;34m\u001b[0m\u001b[0m\n\u001b[0m\u001b[1;32m   1884\u001b[0m         \u001b[0;32mif\u001b[0m \u001b[0mlen\u001b[0m\u001b[0;34m(\u001b[0m\u001b[0moutputs\u001b[0m\u001b[0;34m)\u001b[0m \u001b[0;34m==\u001b[0m \u001b[0;36m1\u001b[0m\u001b[0;34m:\u001b[0m\u001b[0;34m\u001b[0m\u001b[0;34m\u001b[0m\u001b[0m\n\u001b[1;32m   1885\u001b[0m             \u001b[0;32mreturn\u001b[0m \u001b[0moutputs\u001b[0m\u001b[0;34m[\u001b[0m\u001b[0;36m0\u001b[0m\u001b[0;34m]\u001b[0m\u001b[0;34m\u001b[0m\u001b[0;34m\u001b[0m\u001b[0m\n",
      "\u001b[0;32m~/miniconda3/lib/python3.6/site-packages/keras/backend/tensorflow_backend.py\u001b[0m in \u001b[0;36m__call__\u001b[0;34m(self, inputs)\u001b[0m\n\u001b[1;32m   2480\u001b[0m         \u001b[0msession\u001b[0m \u001b[0;34m=\u001b[0m \u001b[0mget_session\u001b[0m\u001b[0;34m(\u001b[0m\u001b[0;34m)\u001b[0m\u001b[0;34m\u001b[0m\u001b[0;34m\u001b[0m\u001b[0m\n\u001b[1;32m   2481\u001b[0m         updated = session.run(fetches=fetches, feed_dict=feed_dict,\n\u001b[0;32m-> 2482\u001b[0;31m                               **self.session_kwargs)\n\u001b[0m\u001b[1;32m   2483\u001b[0m         \u001b[0;32mreturn\u001b[0m \u001b[0mupdated\u001b[0m\u001b[0;34m[\u001b[0m\u001b[0;34m:\u001b[0m\u001b[0mlen\u001b[0m\u001b[0;34m(\u001b[0m\u001b[0mself\u001b[0m\u001b[0;34m.\u001b[0m\u001b[0moutputs\u001b[0m\u001b[0;34m)\u001b[0m\u001b[0;34m]\u001b[0m\u001b[0;34m\u001b[0m\u001b[0;34m\u001b[0m\u001b[0m\n\u001b[1;32m   2484\u001b[0m \u001b[0;34m\u001b[0m\u001b[0m\n",
      "\u001b[0;32m~/miniconda3/lib/python3.6/site-packages/tensorflow/python/client/session.py\u001b[0m in \u001b[0;36mrun\u001b[0;34m(self, fetches, feed_dict, options, run_metadata)\u001b[0m\n\u001b[1;32m    927\u001b[0m     \u001b[0;32mtry\u001b[0m\u001b[0;34m:\u001b[0m\u001b[0;34m\u001b[0m\u001b[0;34m\u001b[0m\u001b[0m\n\u001b[1;32m    928\u001b[0m       result = self._run(None, fetches, feed_dict, options_ptr,\n\u001b[0;32m--> 929\u001b[0;31m                          run_metadata_ptr)\n\u001b[0m\u001b[1;32m    930\u001b[0m       \u001b[0;32mif\u001b[0m \u001b[0mrun_metadata\u001b[0m\u001b[0;34m:\u001b[0m\u001b[0;34m\u001b[0m\u001b[0;34m\u001b[0m\u001b[0m\n\u001b[1;32m    931\u001b[0m         \u001b[0mproto_data\u001b[0m \u001b[0;34m=\u001b[0m \u001b[0mtf_session\u001b[0m\u001b[0;34m.\u001b[0m\u001b[0mTF_GetBuffer\u001b[0m\u001b[0;34m(\u001b[0m\u001b[0mrun_metadata_ptr\u001b[0m\u001b[0;34m)\u001b[0m\u001b[0;34m\u001b[0m\u001b[0;34m\u001b[0m\u001b[0m\n",
      "\u001b[0;32m~/miniconda3/lib/python3.6/site-packages/tensorflow/python/client/session.py\u001b[0m in \u001b[0;36m_run\u001b[0;34m(self, handle, fetches, feed_dict, options, run_metadata)\u001b[0m\n\u001b[1;32m   1150\u001b[0m     \u001b[0;32mif\u001b[0m \u001b[0mfinal_fetches\u001b[0m \u001b[0;32mor\u001b[0m \u001b[0mfinal_targets\u001b[0m \u001b[0;32mor\u001b[0m \u001b[0;34m(\u001b[0m\u001b[0mhandle\u001b[0m \u001b[0;32mand\u001b[0m \u001b[0mfeed_dict_tensor\u001b[0m\u001b[0;34m)\u001b[0m\u001b[0;34m:\u001b[0m\u001b[0;34m\u001b[0m\u001b[0;34m\u001b[0m\u001b[0m\n\u001b[1;32m   1151\u001b[0m       results = self._do_run(handle, final_targets, final_fetches,\n\u001b[0;32m-> 1152\u001b[0;31m                              feed_dict_tensor, options, run_metadata)\n\u001b[0m\u001b[1;32m   1153\u001b[0m     \u001b[0;32melse\u001b[0m\u001b[0;34m:\u001b[0m\u001b[0;34m\u001b[0m\u001b[0;34m\u001b[0m\u001b[0m\n\u001b[1;32m   1154\u001b[0m       \u001b[0mresults\u001b[0m \u001b[0;34m=\u001b[0m \u001b[0;34m[\u001b[0m\u001b[0;34m]\u001b[0m\u001b[0;34m\u001b[0m\u001b[0;34m\u001b[0m\u001b[0m\n",
      "\u001b[0;32m~/miniconda3/lib/python3.6/site-packages/tensorflow/python/client/session.py\u001b[0m in \u001b[0;36m_do_run\u001b[0;34m(self, handle, target_list, fetch_list, feed_dict, options, run_metadata)\u001b[0m\n\u001b[1;32m   1326\u001b[0m     \u001b[0;32mif\u001b[0m \u001b[0mhandle\u001b[0m \u001b[0;32mis\u001b[0m \u001b[0;32mNone\u001b[0m\u001b[0;34m:\u001b[0m\u001b[0;34m\u001b[0m\u001b[0;34m\u001b[0m\u001b[0m\n\u001b[1;32m   1327\u001b[0m       return self._do_call(_run_fn, feeds, fetches, targets, options,\n\u001b[0;32m-> 1328\u001b[0;31m                            run_metadata)\n\u001b[0m\u001b[1;32m   1329\u001b[0m     \u001b[0;32melse\u001b[0m\u001b[0;34m:\u001b[0m\u001b[0;34m\u001b[0m\u001b[0;34m\u001b[0m\u001b[0m\n\u001b[1;32m   1330\u001b[0m       \u001b[0;32mreturn\u001b[0m \u001b[0mself\u001b[0m\u001b[0;34m.\u001b[0m\u001b[0m_do_call\u001b[0m\u001b[0;34m(\u001b[0m\u001b[0m_prun_fn\u001b[0m\u001b[0;34m,\u001b[0m \u001b[0mhandle\u001b[0m\u001b[0;34m,\u001b[0m \u001b[0mfeeds\u001b[0m\u001b[0;34m,\u001b[0m \u001b[0mfetches\u001b[0m\u001b[0;34m)\u001b[0m\u001b[0;34m\u001b[0m\u001b[0;34m\u001b[0m\u001b[0m\n",
      "\u001b[0;32m~/miniconda3/lib/python3.6/site-packages/tensorflow/python/client/session.py\u001b[0m in \u001b[0;36m_do_call\u001b[0;34m(self, fn, *args)\u001b[0m\n\u001b[1;32m   1332\u001b[0m   \u001b[0;32mdef\u001b[0m \u001b[0m_do_call\u001b[0m\u001b[0;34m(\u001b[0m\u001b[0mself\u001b[0m\u001b[0;34m,\u001b[0m \u001b[0mfn\u001b[0m\u001b[0;34m,\u001b[0m \u001b[0;34m*\u001b[0m\u001b[0margs\u001b[0m\u001b[0;34m)\u001b[0m\u001b[0;34m:\u001b[0m\u001b[0;34m\u001b[0m\u001b[0;34m\u001b[0m\u001b[0m\n\u001b[1;32m   1333\u001b[0m     \u001b[0;32mtry\u001b[0m\u001b[0;34m:\u001b[0m\u001b[0;34m\u001b[0m\u001b[0;34m\u001b[0m\u001b[0m\n\u001b[0;32m-> 1334\u001b[0;31m       \u001b[0;32mreturn\u001b[0m \u001b[0mfn\u001b[0m\u001b[0;34m(\u001b[0m\u001b[0;34m*\u001b[0m\u001b[0margs\u001b[0m\u001b[0;34m)\u001b[0m\u001b[0;34m\u001b[0m\u001b[0;34m\u001b[0m\u001b[0m\n\u001b[0m\u001b[1;32m   1335\u001b[0m     \u001b[0;32mexcept\u001b[0m \u001b[0merrors\u001b[0m\u001b[0;34m.\u001b[0m\u001b[0mOpError\u001b[0m \u001b[0;32mas\u001b[0m \u001b[0me\u001b[0m\u001b[0;34m:\u001b[0m\u001b[0;34m\u001b[0m\u001b[0;34m\u001b[0m\u001b[0m\n\u001b[1;32m   1336\u001b[0m       \u001b[0mmessage\u001b[0m \u001b[0;34m=\u001b[0m \u001b[0mcompat\u001b[0m\u001b[0;34m.\u001b[0m\u001b[0mas_text\u001b[0m\u001b[0;34m(\u001b[0m\u001b[0me\u001b[0m\u001b[0;34m.\u001b[0m\u001b[0mmessage\u001b[0m\u001b[0;34m)\u001b[0m\u001b[0;34m\u001b[0m\u001b[0;34m\u001b[0m\u001b[0m\n",
      "\u001b[0;32m~/miniconda3/lib/python3.6/site-packages/tensorflow/python/client/session.py\u001b[0m in \u001b[0;36m_run_fn\u001b[0;34m(feed_dict, fetch_list, target_list, options, run_metadata)\u001b[0m\n\u001b[1;32m   1317\u001b[0m       \u001b[0mself\u001b[0m\u001b[0;34m.\u001b[0m\u001b[0m_extend_graph\u001b[0m\u001b[0;34m(\u001b[0m\u001b[0;34m)\u001b[0m\u001b[0;34m\u001b[0m\u001b[0;34m\u001b[0m\u001b[0m\n\u001b[1;32m   1318\u001b[0m       return self._call_tf_sessionrun(\n\u001b[0;32m-> 1319\u001b[0;31m           options, feed_dict, fetch_list, target_list, run_metadata)\n\u001b[0m\u001b[1;32m   1320\u001b[0m \u001b[0;34m\u001b[0m\u001b[0m\n\u001b[1;32m   1321\u001b[0m     \u001b[0;32mdef\u001b[0m \u001b[0m_prun_fn\u001b[0m\u001b[0;34m(\u001b[0m\u001b[0mhandle\u001b[0m\u001b[0;34m,\u001b[0m \u001b[0mfeed_dict\u001b[0m\u001b[0;34m,\u001b[0m \u001b[0mfetch_list\u001b[0m\u001b[0;34m)\u001b[0m\u001b[0;34m:\u001b[0m\u001b[0;34m\u001b[0m\u001b[0;34m\u001b[0m\u001b[0m\n",
      "\u001b[0;32m~/miniconda3/lib/python3.6/site-packages/tensorflow/python/client/session.py\u001b[0m in \u001b[0;36m_call_tf_sessionrun\u001b[0;34m(self, options, feed_dict, fetch_list, target_list, run_metadata)\u001b[0m\n\u001b[1;32m   1405\u001b[0m     return tf_session.TF_SessionRun_wrapper(\n\u001b[1;32m   1406\u001b[0m         \u001b[0mself\u001b[0m\u001b[0;34m.\u001b[0m\u001b[0m_session\u001b[0m\u001b[0;34m,\u001b[0m \u001b[0moptions\u001b[0m\u001b[0;34m,\u001b[0m \u001b[0mfeed_dict\u001b[0m\u001b[0;34m,\u001b[0m \u001b[0mfetch_list\u001b[0m\u001b[0;34m,\u001b[0m \u001b[0mtarget_list\u001b[0m\u001b[0;34m,\u001b[0m\u001b[0;34m\u001b[0m\u001b[0;34m\u001b[0m\u001b[0m\n\u001b[0;32m-> 1407\u001b[0;31m         run_metadata)\n\u001b[0m\u001b[1;32m   1408\u001b[0m \u001b[0;34m\u001b[0m\u001b[0m\n\u001b[1;32m   1409\u001b[0m   \u001b[0;32mdef\u001b[0m \u001b[0m_call_tf_sessionprun\u001b[0m\u001b[0;34m(\u001b[0m\u001b[0mself\u001b[0m\u001b[0;34m,\u001b[0m \u001b[0mhandle\u001b[0m\u001b[0;34m,\u001b[0m \u001b[0mfeed_dict\u001b[0m\u001b[0;34m,\u001b[0m \u001b[0mfetch_list\u001b[0m\u001b[0;34m)\u001b[0m\u001b[0;34m:\u001b[0m\u001b[0;34m\u001b[0m\u001b[0;34m\u001b[0m\u001b[0m\n",
      "\u001b[0;31mKeyboardInterrupt\u001b[0m: "
     ]
    }
   ],
   "source": [
    "model1.fit_generator(gen, train_gen_obj.n_batches, epochs=10)"
   ]
  },
  {
   "cell_type": "code",
   "execution_count": 17,
   "metadata": {},
   "outputs": [],
   "source": [
    "preds = model1.predict_on_batch(x)"
   ]
  },
  {
   "cell_type": "code",
   "execution_count": 18,
   "metadata": {},
   "outputs": [
    {
     "data": {
      "text/plain": [
       "(512, 125)"
      ]
     },
     "execution_count": 18,
     "metadata": {},
     "output_type": "execute_result"
    }
   ],
   "source": [
    "preds.shape"
   ]
  },
  {
   "cell_type": "code",
   "execution_count": 19,
   "metadata": {},
   "outputs": [
    {
     "data": {
      "text/plain": [
       "array([ 0.0000000e+00,  0.0000000e+00,  1.1683633e-04, -1.8150534e-04,\n",
       "        2.8191236e-05, -1.2674624e-04,  3.2557498e-04, -2.3665362e-04,\n",
       "        1.0368231e-04,  4.4764183e-04,  9.7565079e-04,  6.6266386e-03,\n",
       "       -2.4458408e-02,  7.7702858e-02, -7.9534091e-02, -3.0769283e-01,\n",
       "       -2.9614696e-01, -3.2436770e-01, -1.4933038e+01,  1.1325694e+02,\n",
       "        1.1042747e+02, -1.3367409e+02, -9.7812202e+01, -1.2961019e+01,\n",
       "       -2.1165226e+01, -3.0767555e+01, -1.5683941e+01,  6.6389933e+00,\n",
       "       -3.9723598e+01, -5.9443699e+01,  0.0000000e+00,  0.0000000e+00,\n",
       "        0.0000000e+00,  0.0000000e+00,  0.0000000e+00,  0.0000000e+00,\n",
       "        0.0000000e+00,  0.0000000e+00,  0.0000000e+00,  0.0000000e+00,\n",
       "        0.0000000e+00,  0.0000000e+00,  0.0000000e+00,  0.0000000e+00,\n",
       "        0.0000000e+00,  0.0000000e+00,  0.0000000e+00,  0.0000000e+00,\n",
       "        0.0000000e+00,  2.3594544e+00,  6.4320625e+01, -2.1832945e+01,\n",
       "       -4.4953237e+00,  2.9705560e+00, -4.5950494e+00, -4.7523217e+00,\n",
       "       -2.3259480e+00,  0.0000000e+00,  0.0000000e+00,  0.0000000e+00,\n",
       "        0.0000000e+00,  0.0000000e+00,  0.0000000e+00,  0.0000000e+00,\n",
       "        0.0000000e+00,  0.0000000e+00,  0.0000000e+00,  0.0000000e+00,\n",
       "        0.0000000e+00,  0.0000000e+00,  0.0000000e+00,  0.0000000e+00,\n",
       "        0.0000000e+00,  0.0000000e+00,  0.0000000e+00,  0.0000000e+00,\n",
       "        0.0000000e+00,  0.0000000e+00,  0.0000000e+00,  6.7914357e+00,\n",
       "       -9.1242599e-01,  0.0000000e+00,  0.0000000e+00,  0.0000000e+00,\n",
       "        0.0000000e+00,  0.0000000e+00,  0.0000000e+00,  0.0000000e+00,\n",
       "        0.0000000e+00,  0.0000000e+00,  2.2326913e+00,  2.9884062e+00,\n",
       "       -1.8307689e+00,  1.0012641e+01,  2.5623555e+00,  1.5332817e+00,\n",
       "        6.9164151e-01,  1.0984515e+00, -3.7742987e-01,  8.3896631e-01,\n",
       "        9.7346652e-01, -2.2580650e+00,  1.6124072e+00, -6.2127047e+00,\n",
       "        4.7848113e-02, -3.7017672e+00, -8.1943054e+00, -8.1561766e+00,\n",
       "       -1.0749043e+01, -2.3681652e+01,  1.1091612e+02,  1.3565686e+02,\n",
       "        8.6316261e+01,  1.8346081e+01,  1.0180499e+01,  1.3182677e+01,\n",
       "        1.2943122e+01,  1.5314125e+01,  1.7463171e+01,  5.1009412e+00,\n",
       "        7.9701630e+02,  5.8561182e+02,  2.6385580e+02,  7.4926163e+01,\n",
       "        2.2884337e+02], dtype=float32)"
      ]
     },
     "execution_count": 19,
     "metadata": {},
     "output_type": "execute_result"
    },
    {
     "data": {
      "image/png": "[encoded data removed]",
      "text/plain": [
       "<Figure size 432x288 with 1 Axes>"
      ]
     },
     "metadata": {
      "needs_background": "light"
     },
     "output_type": "display_data"
    }
   ],
   "source": [
    "plt.plot(preds[413])\n",
    "plt.plot(y[413])\n",
    "plt.legend(['predicted','truth'])\n",
    "y[413,]\n",
    "#plt.axis([0,50,-50,20])"
   ]
  },
  {
   "cell_type": "markdown",
   "metadata": {},
   "source": [
    "### 3.2) Implement energy conservation layer: First attempt focused on positivity\n",
    "tgb - 1/18/2019 - The hard constraint on q made the optimization problem much much harder \n",
    "Two conclusions are: (1) Try to keep it soft constraints for optimization\n",
    "(2) Maybe predict delta(after-before) physics to avoid getting too different values in the vectors\n",
    "#### Step 0: Load input's normalization separately"
   ]
  },
  {
   "cell_type": "code",
   "execution_count": 17,
   "metadata": {},
   "outputs": [
    {
     "data": {
      "text/plain": [
       "<xarray.Dataset>\n",
       "Dimensions:              (feature_lev: 154, target_lev: 125)\n",
       "Coordinates:\n",
       "  * feature_lev          (feature_lev) int64 0 1 2 3 4 5 ... 149 150 151 152 153\n",
       "  * target_lev           (target_lev) int64 0 1 2 3 4 5 ... 120 121 122 123 124\n",
       "Data variables:\n",
       "    feature_means        (feature_lev) float32 ...\n",
       "    feature_stds         (feature_lev) float32 ...\n",
       "    feature_mins         (feature_lev) float32 ...\n",
       "    feature_maxs         (feature_lev) float32 ...\n",
       "    target_means         (target_lev) float32 ...\n",
       "    target_stds          (target_lev) float32 ...\n",
       "    target_mins          (target_lev) float32 ...\n",
       "    target_maxs          (target_lev) float32 ...\n",
       "    feature_names        (feature_lev) object ...\n",
       "    target_names         (target_lev) object ...\n",
       "    feature_stds_by_var  (feature_lev) float32 ...\n",
       "    target_conv          (target_lev) float32 ..."
      ]
     },
     "execution_count": 17,
     "metadata": {},
     "output_type": "execute_result"
    }
   ],
   "source": [
    "ds = xr.open_dataset(TRAINDIR + '32_col_mp_3d_train_norm.nc')\n",
    "ds"
   ]
  },
  {
   "cell_type": "code",
   "execution_count": 18,
   "metadata": {},
   "outputs": [
    {
     "name": "stdout",
     "output_type": "stream",
     "text": [
      "(154,)\n",
      "(154,)\n",
      "(125,)\n"
     ]
    }
   ],
   "source": [
    "fsub = ds.feature_means.values\n",
    "fdiv = ds.feature_stds_by_var.values\n",
    "normq = ds.target_conv.values\n",
    "print(fsub.shape)\n",
    "print(fdiv.shape)\n",
    "print(normq.shape)"
   ]
  },
  {
   "cell_type": "code",
   "execution_count": 19,
   "metadata": {},
   "outputs": [],
   "source": [
    "ds.close()"
   ]
  },
  {
   "cell_type": "markdown",
   "metadata": {},
   "source": [
    "#### Step 1: Test the physical constraint layer in Numpy for basic debugging"
   ]
  },
  {
   "cell_type": "code",
   "execution_count": 69,
   "metadata": {},
   "outputs": [
    {
     "data": {
      "text/plain": [
       "157"
      ]
     },
     "execution_count": 69,
     "metadata": {},
     "output_type": "execute_result"
    }
   ],
   "source": [
    "import numpy as np\n",
    "a = (156,)\n",
    "a[0]+1"
   ]
  },
  {
   "cell_type": "code",
   "execution_count": 24,
   "metadata": {},
   "outputs": [],
   "source": [
    "import numpy as np\n",
    "def safe_softplus(x, limit=30):\n",
    "  if x>limit:\n",
    "    return x\n",
    "  else:\n",
    "    return np.log(1.0 + np.exp(x))"
   ]
  },
  {
   "cell_type": "code",
   "execution_count": 25,
   "metadata": {},
   "outputs": [
    {
     "ename": "NameError",
     "evalue": "name 'qap' is not defined",
     "output_type": "error",
     "traceback": [
      "\u001b[0;31m---------------------------------------------------------------------------\u001b[0m",
      "\u001b[0;31mNameError\u001b[0m                                 Traceback (most recent call last)",
      "\u001b[0;32m<ipython-input-25-71007347a76f>\u001b[0m in \u001b[0;36m<module>\u001b[0;34m\u001b[0m\n\u001b[0;32m----> 1\u001b[0;31m \u001b[0mprint\u001b[0m\u001b[0;34m(\u001b[0m\u001b[0mqap\u001b[0m\u001b[0;34m.\u001b[0m\u001b[0mshape\u001b[0m\u001b[0;34m)\u001b[0m\u001b[0;34m\u001b[0m\u001b[0;34m\u001b[0m\u001b[0m\n\u001b[0m\u001b[1;32m      2\u001b[0m \u001b[0mprint\u001b[0m\u001b[0;34m(\u001b[0m\u001b[0mfsub\u001b[0m\u001b[0;34m.\u001b[0m\u001b[0mshape\u001b[0m\u001b[0;34m)\u001b[0m\u001b[0;34m\u001b[0m\u001b[0;34m\u001b[0m\u001b[0m\n",
      "\u001b[0;31mNameError\u001b[0m: name 'qap' is not defined"
     ]
    }
   ],
   "source": [
    "print(qap.shape)\n",
    "print(fsub.shape)"
   ]
  },
  {
   "cell_type": "code",
   "execution_count": 100,
   "metadata": {},
   "outputs": [
    {
     "name": "stdout",
     "output_type": "stream",
     "text": [
      "[1.8890089e-06 1.8709759e-06 1.7035223e-06 1.7005252e-06 1.6415983e-06\n",
      " 1.5045957e-06 1.4606607e-06 1.4591218e-06 1.4598600e-06 1.4735780e-06\n",
      " 1.5066166e-06 1.5988817e-06 2.0526277e-06 4.9225710e-06 1.0806412e-05\n",
      " 2.0793159e-05 5.1943964e-05 1.3326522e-04 2.4402043e-04 3.3523864e-04\n",
      " 6.6088326e-04 1.1144076e-03 1.5189773e-03 1.8160637e-03 2.0421566e-03\n",
      " 2.2358480e-03 2.4027592e-03 2.5413563e-03 2.7411170e-03 2.9877913e-03\n",
      " 0.0000000e+00 0.0000000e+00 0.0000000e+00 0.0000000e+00 0.0000000e+00\n",
      " 0.0000000e+00 0.0000000e+00 0.0000000e+00 0.0000000e+00 0.0000000e+00\n",
      " 0.0000000e+00 0.0000000e+00 0.0000000e+00 0.0000000e+00 0.0000000e+00\n",
      " 1.7347235e-18 0.0000000e+00 0.0000000e+00 2.2737368e-13 0.0000000e+00\n",
      " 0.0000000e+00 9.0949470e-13 9.5405994e-09 4.6377809e-06 1.5204386e-05\n",
      " 1.5759480e-05 4.7640169e-06 1.4436255e-06 1.9511208e-07 5.5640478e-05\n",
      " 1.2481135e-09 1.0923745e-09 6.6391337e-14 0.0000000e+00 0.0000000e+00\n",
      " 0.0000000e+00 0.0000000e+00 0.0000000e+00 0.0000000e+00 0.0000000e+00\n",
      " 0.0000000e+00 0.0000000e+00 0.0000000e+00 0.0000000e+00 0.0000000e+00\n",
      " 0.0000000e+00 1.0792442e-06 2.3847208e-06 2.8053364e-07 4.9385562e-10\n",
      " 3.5487983e-07 5.8079468e-07 2.8306499e-06 1.6917746e-05 1.9704165e-05\n",
      " 1.1375946e-05 1.6043600e-06 1.7757384e-07 2.1891026e-08 6.0673920e-06]\n"
     ]
    },
    {
     "data": {
      "text/plain": [
       "array([7.4313283e-02, 1.3589725e-01, 2.0269047e-01, 2.9188102e-01,\n",
       "       3.5351321e-01, 3.7214047e-01, 3.5965800e-01, 2.9439625e-01,\n",
       "       3.4651691e-01, 4.1148993e-01, 4.9495089e-01, 6.1794227e-01,\n",
       "       9.3328631e-01, 2.6331131e+00, 6.8003597e+00, 1.5393726e+01,\n",
       "       4.5240860e+01, 1.3654811e+02, 2.9414923e+02, 4.0426810e+02,\n",
       "       7.3145874e+02, 1.0408422e+03, 1.0544020e+03, 7.2981561e+02,\n",
       "       7.6993835e+02, 7.8058862e+02, 7.6491705e+02, 7.2400189e+02,\n",
       "       6.8254248e+02, 6.3026514e+02, 0.0000000e+00, 0.0000000e+00,\n",
       "       0.0000000e+00, 0.0000000e+00, 0.0000000e+00, 0.0000000e+00,\n",
       "       0.0000000e+00, 0.0000000e+00, 0.0000000e+00, 0.0000000e+00,\n",
       "       0.0000000e+00, 0.0000000e+00, 0.0000000e+00, 0.0000000e+00,\n",
       "       0.0000000e+00, 1.2842618e-12, 0.0000000e+00, 0.0000000e+00,\n",
       "       2.7408277e-07, 0.0000000e+00, 0.0000000e+00, 8.4945623e-07,\n",
       "       6.6226311e-03, 1.8637701e+00, 5.7323909e+00, 5.5020161e+00,\n",
       "       1.5166223e+00, 4.1127157e-01, 4.8583217e-02, 1.1737184e+01,\n",
       "       4.9100567e-05, 7.9343990e-05, 7.8994509e-09, 0.0000000e+00,\n",
       "       0.0000000e+00, 0.0000000e+00, 0.0000000e+00, 0.0000000e+00,\n",
       "       0.0000000e+00, 0.0000000e+00, 0.0000000e+00, 0.0000000e+00,\n",
       "       0.0000000e+00, 0.0000000e+00, 0.0000000e+00, 0.0000000e+00,\n",
       "       9.3997324e-01, 2.4434664e+00, 3.3816332e-01, 5.9554609e-04,\n",
       "       3.9277732e-01, 5.4245466e-01, 1.9649028e+00, 6.7986798e+00,\n",
       "       7.4289074e+00, 3.9716182e+00, 5.1074719e-01, 5.0588656e-02,\n",
       "       5.4508997e-03, 1.2798972e+00], dtype=float32)"
      ]
     },
     "execution_count": 100,
     "metadata": {},
     "output_type": "execute_result"
    }
   ],
   "source": [
    "x, y = next(gen) # (Input,Output) pair retrieved iteratively from the generator\n",
    "testinp = x; testdensout = y;  # The output of the densely connected layer,\n",
    "# which is the input for the physical constraints layer, has shape (125,)=y.shape\n",
    "qbp = np.add(np.multiply(testinp[:,:90],fdiv[:90,]),fsub[:90,])\n",
    "index = 5\n",
    "print(qbp[index,:])\n",
    "# Bound on dq/dt\n",
    "np.multiply(normq[:90,],qbp[index,:])/1800"
   ]
  },
  {
   "cell_type": "code",
   "execution_count": 109,
   "metadata": {},
   "outputs": [
    {
     "name": "stdout",
     "output_type": "stream",
     "text": [
      "[[ 0.00000000e+00  0.00000000e+00 -3.52463167e-06 ...  7.14828730e-01\n",
      "  -1.94745120e-02 -5.09016812e-01]\n",
      " [ 0.00000000e+00  0.00000000e+00 -3.91810636e-06 ... -8.12336057e-02\n",
      "   1.09404393e-01 -2.64686853e-01]\n",
      " [ 0.00000000e+00  0.00000000e+00 -3.83413817e-06 ...  2.25569099e-01\n",
      "  -5.04336655e-02 -1.75489992e-01]\n",
      " ...\n",
      " [ 0.00000000e+00  0.00000000e+00 -4.57383749e-06 ...  4.15254906e-02\n",
      "   3.08697671e-01 -1.18188016e-01]\n",
      " [ 0.00000000e+00  0.00000000e+00 -5.56462510e-06 ...  8.04110393e-02\n",
      "  -4.38176608e-03  3.40724625e-02]\n",
      " [ 0.00000000e+00  0.00000000e+00 -5.02103740e-06 ... -5.38274534e-02\n",
      "  -2.09472924e-01 -1.75753996e-01]]\n",
      "[ 0.0000000e+00  0.0000000e+00 -3.1418069e-06 -3.6398256e-07\n",
      "  3.0054719e-06 -1.6221151e-05  8.7531935e-06  1.2292489e-05\n",
      "  1.0967176e-05 -6.3576708e-06  3.7818052e-07 -2.8339788e-04\n",
      " -1.0227459e-03 -2.1273026e-03 -3.6572393e-02  2.8603417e-03\n",
      " -2.7998945e-01 -4.5961341e-01  9.0005070e-01  6.8134266e-01\n",
      " -8.2287771e-01  2.3013981e-01  2.4323208e+00 -8.4881544e-01\n",
      " -2.9298425e+00 -4.2743530e+00 -6.0948601e+00 -3.7398868e+00\n",
      " -7.9316592e+00  2.2475309e+00  0.0000000e+00  0.0000000e+00\n",
      "  0.0000000e+00  0.0000000e+00  0.0000000e+00  0.0000000e+00\n",
      "  0.0000000e+00  0.0000000e+00  0.0000000e+00  0.0000000e+00\n",
      "  0.0000000e+00  0.0000000e+00  0.0000000e+00  0.0000000e+00\n",
      "  0.0000000e+00  0.0000000e+00  0.0000000e+00  0.0000000e+00\n",
      "  0.0000000e+00  0.0000000e+00  0.0000000e+00  0.0000000e+00\n",
      " -6.6228681e-03  2.7891830e-01 -2.1353826e-01 -3.2629719e-01\n",
      "  1.7228601e+00  2.1396577e+00  2.6639417e-01  1.4741515e-01\n",
      "  0.0000000e+00  0.0000000e+00 -7.9088540e-09  0.0000000e+00\n",
      "  0.0000000e+00  0.0000000e+00  0.0000000e+00  0.0000000e+00\n",
      "  0.0000000e+00  0.0000000e+00  0.0000000e+00  0.0000000e+00\n",
      "  0.0000000e+00  0.0000000e+00  0.0000000e+00  0.0000000e+00\n",
      "  2.2770013e-01 -3.7225777e-01 -7.2824322e-02  1.2946053e-05\n",
      " -3.2056555e-01 -3.0137960e-02 -1.0958794e+00  4.8559111e-01\n",
      "  1.8252365e-01 -2.3702376e-01  5.0828320e-01  2.0182897e-01\n",
      " -5.4508969e-03 -2.7768889e-02]\n",
      "[[0.6931472  0.6931472  0.6931454  ... 1.1131188  0.6834573  0.47068232]\n",
      " [0.6931472  0.6931472  0.6931452  ... 0.653355   0.7493448  0.5695357 ]\n",
      " [0.6931472  0.6931472  0.6931453  ... 0.8122785  0.66824824 0.60924685]\n",
      " ...\n",
      " [0.6931472  0.6931472  0.69314486 ... 0.71412545 0.85936075 0.6357982 ]\n",
      " [0.6931472  0.6931472  0.6931444  ... 0.7341607  0.6909587  0.7103285 ]\n",
      " [0.6931472  0.6931472  0.6931447  ... 0.6665956  0.5938856  0.6091264 ]] (512, 90)\n"
     ]
    }
   ],
   "source": [
    "# SOFTPLUS\n",
    "import copy\n",
    "qap = copy.copy(testdensout[:,:90])\n",
    "print(qap)\n",
    "print(qap[5,:])\n",
    "for i in range(qap.shape[0]):\n",
    "    for j in range (qap.shape[1]):\n",
    "        qap[i,j] = safe_softplus(qap[i,j])\n",
    "print(qap,qap.shape)          \n"
   ]
  },
  {
   "cell_type": "markdown",
   "metadata": {},
   "source": [
    "#### Step 2: Rigorously implement the physical constraint layer in tensorflow"
   ]
  },
  {
   "cell_type": "code",
   "execution_count": 143,
   "metadata": {},
   "outputs": [],
   "source": [
    "class PositiveConstraintLayer(Layer):\n",
    "    \n",
    "    def __init__(self, **kwargs):\n",
    "        super().__init__(**kwargs)\n",
    "        \n",
    "    def build(self, input_shape):\n",
    "        super().build(input_shape)  # Be sure to call this somewhere!\n",
    "        \n",
    "    def call(self, inp):\n",
    "        # inputs will be [n_samples, 125 = 30*4+5] with \n",
    "        # [PHQ, PHCLDLIQ, PHCLDICE, TPHYSTND, FSNT, FSNS, FLNT, FLNS, PRECT]\n",
    "        \n",
    "        # SOFTPLUS PART\n",
    "        qap = inp[:, :90]\n",
    "        remain = inp[:, 90:]\n",
    "        # softplus on x_q\n",
    "        qap = K.softplus(qap)\n",
    "        \n",
    "        # Concat out\n",
    "        out = K.concatenate([qap, remain])\n",
    "        \n",
    "        return out\n",
    "    \n",
    "    def compute_output_shape(self, input_shape):\n",
    "        return input_shape"
   ]
  },
  {
   "cell_type": "code",
   "execution_count": 144,
   "metadata": {},
   "outputs": [],
   "source": [
    "class CloudTendencyLayer(Layer):\n",
    "    \n",
    "    def __init__(self, fsub, fdiv, normq, dt=30*60, **kwargs):\n",
    "        self.fsub = fsub \n",
    "        self.fdiv = fdiv\n",
    "        self.normq = normq\n",
    "        self.dt = dt\n",
    "        super().__init__(**kwargs)\n",
    "        \n",
    "    def build(self, input_shape):\n",
    "        super().build(input_shape)  # Be sure to call this somewhere!\n",
    "        \n",
    "    def call(self, arrs):\n",
    "        # arrs (for arrays) is a list with \n",
    "        # [inputs and the output of the previous layer]\n",
    "        # inputs will be [n_sample, 154 = 30*5+4] with\n",
    "        # [QBP, QCBP, QIBP, TBP, VBP, PS, SOLIN, SHFLX, LHFLX]\n",
    "        # outputs will be [n_samples, 125 = 30*4+5] with \n",
    "        # [PHQ, PHCLDLIQ, PHCLDICE, TPHYSTND, FSNT, FSNS, FLNT, FLNS, PRECT]\n",
    "        \n",
    "        # Split between the inputs inp & the output of the densely connected\n",
    "        # neural network, densout\n",
    "        inp, densout = arrs\n",
    "        \n",
    "        # Identify qap and rest of vector\n",
    "        qap = densout[:, :90]\n",
    "        remain = densout[:, 90:]\n",
    "        \n",
    "        # OPTION 1\n",
    "        # 1) Unnormalize qbp\n",
    "        qbp = inp[:, :90]\n",
    "        qbp = tf.math.add(tf.math.multiply(qbp,self.fdiv[:90,]),self.fsub[:90,])\n",
    "        # 2) Calculate temporal difference\n",
    "        diff = tf.math.divide(tf.math.subtract(qap,qbp),self.dt)\n",
    "        # 3) Normalize the temporal difference according to output's normalization\n",
    "        diff = tf.math.multiply(diff,self.normq[:90,])\n",
    "        \n",
    "        # Concat out\n",
    "        out = K.concatenate([diff, remain])\n",
    "        \n",
    "        return out\n",
    "    \n",
    "    def compute_output_shape(self, input_shape):\n",
    "        return input_shape[1]"
   ]
  },
  {
   "cell_type": "code",
   "execution_count": 60,
   "metadata": {},
   "outputs": [],
   "source": [
    "class PhysicalConstraintLayer(Layer):\n",
    "    \n",
    "    def __init__(self, fsub, fdiv, normq, dt=30*60, **kwargs):\n",
    "        self.fsub = fsub \n",
    "        self.fdiv = fdiv\n",
    "        self.normq = normq\n",
    "        self.dt = dt\n",
    "        super().__init__(**kwargs)\n",
    "        \n",
    "    def build(self, input_shape):\n",
    "        super().build(input_shape)  # Be sure to call this somewhere!\n",
    "        \n",
    "    def call(self, arrs):\n",
    "        # arrs (for arrays) is a list with \n",
    "        # [inputs and the output of the previous layer]\n",
    "        # inputs will be [n_sample, 154 = 30*5+4] with\n",
    "        # [QBP, QCBP, QIBP, TBP, VBP, PS, SOLIN, SHFLX, LHFLX]\n",
    "        # outputs will be [n_samples, 125 = 30*4+5] with \n",
    "        # [PHQ, PHCLDLIQ, PHCLDICE, TPHYSTND, FSNT, FSNS, FLNT, FLNS, PRECT]\n",
    "        \n",
    "        # Split between the inputs inp & the output of the densely connected\n",
    "        # neural network, densout\n",
    "        inp, densout = arrs\n",
    "        \n",
    "        # SOFTPLUS PART\n",
    "        qap = densout[:, :90]\n",
    "        remain = densout[:, 90:]\n",
    "        # softplus on x_q, then multiply by 10^-3 for order of magnitude\n",
    "        qap = tf.math.multiply(1e-3,K.relu(qap))\n",
    "        \n",
    "        # FROM Q TO DQ/DT\n",
    "        # OPTION 1\n",
    "        # 1) Unnormalize qbp\n",
    "        qbp = inp[:, :90]\n",
    "        qbp = tf.math.add(tf.math.multiply(qbp,self.fdiv[:90,]),self.fsub[:90,])\n",
    "        # 2) Calculate temporal difference\n",
    "        diff = tf.math.divide(tf.math.subtract(qap,qbp),self.dt)\n",
    "        # 3) Normalize the temporal difference according to output's normalization\n",
    "        diff = tf.math.multiply(diff,self.normq[:90,])\n",
    "        \n",
    "        # OPTION 2\n",
    "        # 1) Normalize qap\n",
    "        #qap = tf.math.divide(tf.math.subtract(qap,self.fsub[:90,]),self.fdiv[:90,])\n",
    "        # 2) Calculate temporal difference\n",
    "        #qbp = inp[:, :90]\n",
    "        #diff = tf.math.divide(tf.math.subtract(qap,qbp),self.dt)\n",
    "        # 3) Unnormalize dq/dt\n",
    "        #diff = tf.math.multiply(diff,self.fdiv[:90,])\n",
    "        # 4) Normalize the temporal difference according to output's normalization\n",
    "        #diff = tf.math.multiply(diff,self.normq[:90,])\n",
    "        \n",
    "        # Concat out\n",
    "        out = K.concatenate([diff, remain])\n",
    "        \n",
    "        return out\n",
    "    \n",
    "    def compute_output_shape(self, input_shape):\n",
    "        return input_shape[1]"
   ]
  },
  {
   "cell_type": "code",
   "execution_count": 61,
   "metadata": {},
   "outputs": [],
   "source": [
    "inp = Input(shape=(154,))\n",
    "densout = Dense(256, activation='relu')(inp)\n",
    "for i in range(4):\n",
    "    densout = Dense(256, activation='relu')(densout)\n",
    "densout = Dense(125, activation='relu')(densout)\n",
    "out = PhysicalConstraintLayer(\n",
    "    input_shape=(125,), fsub=fsub, fdiv=fdiv, normq=normq\n",
    ")([inp, densout])\n",
    "m = Model(inputs=inp, outputs=out)"
   ]
  },
  {
   "cell_type": "code",
   "execution_count": 146,
   "metadata": {},
   "outputs": [],
   "source": [
    "inp = Input(shape=(154,))\n",
    "densout = Dense(256, activation='relu')(inp)\n",
    "for i in range(4):\n",
    "    densout = Dense(256, activation='relu')(densout)\n",
    "densout = Dense(125, activation='relu')(densout)\n",
    "densout = PositiveConstraintLayer(\n",
    "    input_shape=(125,)\n",
    ")(densout)\n",
    "out = CloudTendencyLayer(\n",
    "    input_shape=(125,), fsub=fsub, fdiv=fdiv, normq=normq\n",
    ")([inp, densout])\n",
    "m = Model(inputs=inp, outputs=out)"
   ]
  },
  {
   "cell_type": "code",
   "execution_count": 64,
   "metadata": {},
   "outputs": [],
   "source": [
    "m.compile('adam', 'mse')"
   ]
  },
  {
   "cell_type": "code",
   "execution_count": 65,
   "metadata": {
    "scrolled": true
   },
   "outputs": [
    {
     "name": "stdout",
     "output_type": "stream",
     "text": [
      "__________________________________________________________________________________________________\n",
      "Layer (type)                    Output Shape         Param #     Connected to                     \n",
      "==================================================================================================\n",
      "input_8 (InputLayer)            (None, 154)          0                                            \n",
      "__________________________________________________________________________________________________\n",
      "dense_43 (Dense)                (None, 256)          39680       input_8[0][0]                    \n",
      "__________________________________________________________________________________________________\n",
      "dense_44 (Dense)                (None, 256)          65792       dense_43[0][0]                   \n",
      "__________________________________________________________________________________________________\n",
      "dense_45 (Dense)                (None, 256)          65792       dense_44[0][0]                   \n",
      "__________________________________________________________________________________________________\n",
      "dense_46 (Dense)                (None, 256)          65792       dense_45[0][0]                   \n",
      "__________________________________________________________________________________________________\n",
      "dense_47 (Dense)                (None, 256)          65792       dense_46[0][0]                   \n",
      "__________________________________________________________________________________________________\n",
      "dense_48 (Dense)                (None, 125)          32125       dense_47[0][0]                   \n",
      "__________________________________________________________________________________________________\n",
      "physical_constraint_layer_8 (Ph (None, 125)          0           input_8[0][0]                    \n",
      "                                                                 dense_48[0][0]                   \n",
      "==================================================================================================\n",
      "Total params: 334,973\n",
      "Trainable params: 334,973\n",
      "Non-trainable params: 0\n",
      "__________________________________________________________________________________________________\n"
     ]
    }
   ],
   "source": [
    "m.summary()"
   ]
  },
  {
   "cell_type": "code",
   "execution_count": 75,
   "metadata": {},
   "outputs": [
    {
     "name": "stdout",
     "output_type": "stream",
     "text": [
      "Epoch 1/18\n",
      "9024/9024 [==============================] - 32s 4ms/step - loss: 955.1480\n",
      "Epoch 2/18\n",
      "9024/9024 [==============================] - 32s 4ms/step - loss: 901.2071\n",
      "Epoch 3/18\n",
      "9024/9024 [==============================] - 35s 4ms/step - loss: 869.4739\n",
      "Epoch 4/18\n",
      "9024/9024 [==============================] - 35s 4ms/step - loss: 865.2605\n",
      "Epoch 5/18\n",
      "9024/9024 [==============================] - 35s 4ms/step - loss: 879.6664\n",
      "Epoch 6/18\n",
      "9024/9024 [==============================] - 36s 4ms/step - loss: 831.5987\n",
      "Epoch 7/18\n",
      "9024/9024 [==============================] - 35s 4ms/step - loss: 792.0738\n",
      "Epoch 8/18\n",
      "9024/9024 [==============================] - 35s 4ms/step - loss: 836.7333\n",
      "Epoch 9/18\n",
      "9024/9024 [==============================] - 36s 4ms/step - loss: 858.6139\n",
      "Epoch 10/18\n",
      "9024/9024 [==============================] - 36s 4ms/step - loss: 788.8702\n",
      "Epoch 11/18\n",
      "9024/9024 [==============================] - 36s 4ms/step - loss: 801.9747\n",
      "Epoch 12/18\n",
      "9024/9024 [==============================] - 36s 4ms/step - loss: 796.7849\n",
      "Epoch 13/18\n",
      "9024/9024 [==============================] - 36s 4ms/step - loss: 802.8593\n",
      "Epoch 14/18\n",
      "9024/9024 [==============================] - 35s 4ms/step - loss: 769.9501\n",
      "Epoch 15/18\n",
      "9024/9024 [==============================] - 35s 4ms/step - loss: 778.1322\n",
      "Epoch 16/18\n",
      "9024/9024 [==============================] - 35s 4ms/step - loss: 777.9330\n",
      "Epoch 17/18\n",
      "9024/9024 [==============================] - 32s 4ms/step - loss: 748.8775\n",
      "Epoch 18/18\n",
      "9024/9024 [==============================] - 32s 3ms/step - loss: 816.3657\n"
     ]
    },
    {
     "data": {
      "text/plain": [
       "<keras.callbacks.History at 0x7f1a5c5128d0>"
      ]
     },
     "execution_count": 75,
     "metadata": {},
     "output_type": "execute_result"
    }
   ],
   "source": [
    "m.fit_generator(gen, train_gen_obj.n_batches, epochs=18)"
   ]
  },
  {
   "cell_type": "code",
   "execution_count": 76,
   "metadata": {},
   "outputs": [],
   "source": [
    "preds = m.predict_on_batch(x)"
   ]
  },
  {
   "cell_type": "code",
   "execution_count": 77,
   "metadata": {},
   "outputs": [
    {
     "data": {
      "image/png": "[encoded data removed]",
      "text/plain": [
       "<Figure size 432x288 with 1 Axes>"
      ]
     },
     "metadata": {
      "needs_background": "light"
     },
     "output_type": "display_data"
    }
   ],
   "source": [
    "plt.plot(preds[510], label='nn')\n",
    "plt.plot(y[510], label='truth')\n",
    "plt.legend();\n",
    "#plt.axis([0,50,-100,100])"
   ]
  },
  {
   "cell_type": "markdown",
   "metadata": {},
   "source": [
    "TODO: Validation"
   ]
  },
  {
   "cell_type": "code",
   "execution_count": null,
   "metadata": {},
   "outputs": [],
   "source": []
  }
 ],
 "metadata": {
  "kernelspec": {
   "display_name": "Python 3",
   "language": "python",
   "name": "python3"
  },
  "language_info": {
   "codemirror_mode": {
    "name": "ipython",
    "version": 3
   },
   "file_extension": ".py",
   "mimetype": "text/x-python",
   "name": "python",
   "nbconvert_exporter": "python",
   "pygments_lexer": "ipython3",
   "version": "3.6.8"
  },
  "toc": {
   "base_numbering": 1,
   "nav_menu": {},
   "number_sections": true,
   "sideBar": false,
   "skip_h1_title": true,
   "title_cell": "Table of Contents",
   "title_sidebar": "Contents",
   "toc_cell": false,
   "toc_position": {},
   "toc_section_display": true,
   "toc_window_display": false
  }
 },
 "nbformat": 4,
 "nbformat_minor": 2
}
