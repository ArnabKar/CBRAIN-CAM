{
 "cells": [
  {
   "cell_type": "markdown",
   "metadata": {},
   "source": [
    "## 1) Preprocess all the necessary variables\n",
    "### 1.1) Build feature, target and initial normalization files"
   ]
  },
  {
   "cell_type": "code",
   "execution_count": 1,
   "metadata": {},
   "outputs": [
    {
     "name": "stderr",
     "output_type": "stream",
     "text": [
      "Using TensorFlow backend.\n",
      "/home/t/Tom.Beucler/miniconda3/lib/python3.6/importlib/_bootstrap.py:219: RuntimeWarning: compiletime version 3.5 of module 'tensorflow.python.framework.fast_tensor_util' does not match runtime version 3.6\n",
      "  return f(*args, **kwds)\n"
     ]
    }
   ],
   "source": [
    "#!ln -s /filer/z-sv-pool12c/t/Tom.Beucler/SPCAM/CBRAIN-CAM/cbrain \\\n",
    "#/filer/z-sv-pool12c/t/Tom.Beucler/SPCAM/CBRAIN-CAM/notebooks/tbeucler_devlog/cbrain\n",
    "from cbrain.imports import *\n",
    "from cbrain.data_generator import *\n",
    "from cbrain.utils import limit_mem\n",
    "import tensorflow as tf\n",
    "# Otherwise tensorflow will use ALL your GPU RAM for no reason\n",
    "limit_mem()"
   ]
  },
  {
   "cell_type": "code",
   "execution_count": 19,
   "metadata": {},
   "outputs": [
    {
     "name": "stdout",
     "output_type": "stream",
     "text": [
      "/filer/z-sv-pool12c/t/Tom.Beucler/SPCAM/CBRAIN-CAM\n"
     ]
    }
   ],
   "source": [
    "%cd /filer/z-sv-pool12c/t/Tom.Beucler/SPCAM/CBRAIN-CAM\n",
    "TRAINDIR = '/local/Tom.Beucler/SPCAM_PHYS/'"
   ]
  },
  {
   "cell_type": "code",
   "execution_count": 173,
   "metadata": {},
   "outputs": [
    {
     "name": "stdout",
     "output_type": "stream",
     "text": [
      "OrderedDict([('units', 'm/s'), ('long_name', 'Large-scale (stable) snow rate (water equivalent)'), ('cell_method', 'time: mean')])\n",
      "<xarray.DataArray 'PRECTEND' ()>\n",
      "array(4.809106e-07, dtype=float32)\n",
      "<xarray.DataArray 'PRECTEND' ()>\n",
      "array(2.617815e-05, dtype=float32)\n",
      "OrderedDict([('units', 'm/s'), ('long_name', 'Total (convective and large-scale) precipitation rate'), ('cell_method', 'time: mean')])\n",
      "<xarray.DataArray 'PRECT' ()>\n",
      "array(3.31902e-08, dtype=float32)\n",
      "<xarray.DataArray 'PRECT' ()>\n",
      "array(1.147337e-07, dtype=float32)\n",
      "<xarray.DataArray 'QAP' (lev: 30)>\n",
      "array([1.712285e-06, 1.681808e-06, 1.394103e-06, 1.487490e-06, 1.439422e-06,\n",
      "       1.390901e-06, 1.384163e-06, 1.423204e-06, 1.569639e-06, 2.076636e-06,\n",
      "       3.863986e-06, 8.995262e-06, 2.052436e-05, 4.320895e-05, 8.541442e-05,\n",
      "       1.625194e-04, 2.930840e-04, 5.206625e-04, 9.158371e-04, 1.510275e-03,\n",
      "       2.371259e-03, 3.607772e-03, 4.945062e-03, 5.719575e-03, 6.302443e-03,\n",
      "       6.846427e-03, 7.309671e-03, 7.664527e-03, 7.874778e-03, 8.367070e-03],\n",
      "      dtype=float32)\n",
      "Coordinates:\n",
      "  * lev      (lev) float64 3.643 7.595 14.36 24.61 ... 936.2 957.5 976.3 992.6\n",
      "LHF= <xarray.DataArray 'LHFLX' ()>\n",
      "array(69.92582, dtype=float32)\n"
     ]
    }
   ],
   "source": [
    "DATADIR = '/project/meteo/w2w/A6/S.Rasp/SP-CAM/sp32fbp_andkua/'\n",
    "import xarray as xr\n",
    "ds = xr.open_dataset(DATADIR + 'AndKua_aqua_SPCAM3.0_sp_fbp32.cam2.h1.0000-01-01-00000.nc', \n",
    "                     decode_times=False)\n",
    "# The large-scale snow rate equivalent needs to be multiplied by 1e-3 for water conservation\n",
    "print(ds.PRECTEND.attrs)\n",
    "print(ds.PRECTEND.mean(dim=['lon','lat','time']))\n",
    "print(ds.PRECTEND.std(dim=['lon','lat','time']))\n",
    "# The total precipitation rate is in volume rate/surface units\n",
    "print(ds.PRECT.attrs)\n",
    "print(ds.PRECT.mean(dim=['lon','lat','time']))\n",
    "print(ds.PRECT.std(dim=['lon','lat','time']))\n",
    "# Water vapor variable\n",
    "print(ds.QAP.mean(dim=['lon','lat','time']))\n",
    "# Latent heat flux\n",
    "print('LHF=',ds.LHFLX.mean(dim=['lon','lat','time']))"
   ]
  },
  {
   "cell_type": "code",
   "execution_count": 25,
   "metadata": {},
   "outputs": [
    {
     "name": "stdout",
     "output_type": "stream",
     "text": [
      "GitPython not found. Please install for better reproducibility.\n",
      "Time checkpoint reading data: 0.38 s\n",
      "Number of time steps: 576\n",
      "Cut time steps: [ 47  95 143 191 239 287 335 383 431 479 527]\n",
      "Cut time steps: [ 47  95 143 191 239 287 335 383 431 479 527]\n",
      "Time checkpoint create datasets: 0.48 s\n",
      "Time checkpoint reshape and rechunk: 5.54 s\n",
      "Compute means and stds\n",
      "Saving normalization file: /local/Tom.Beucler/SPCAM_PHYS/32_col_mp_3d_train_norm.nc\n",
      "Time checkpoint normalization arrays: 85.72 s\n",
      "Time checkpoint rechunk and ds: 86.69 s\n",
      "Save features: /local/Tom.Beucler/SPCAM_PHYS/32_col_mp_3d_train_features.nc\n",
      "Save targets: /local/Tom.Beucler/SPCAM_PHYS/32_col_mp_3d_train_targets.nc\n",
      "Total time: 123.85 s\n"
     ]
    }
   ],
   "source": [
    "!python cbrain/Test01_preprocess_aqua.py \\\n",
    "--config pp_config/32col_mp_ref_tbeucler_local.yml \\\n",
    "--aqua_names '*.h1.0000-*-01-*' \\\n",
    "--out_pref 32_col_mp_3d_train"
   ]
  },
  {
   "cell_type": "code",
   "execution_count": 17,
   "metadata": {},
   "outputs": [
    {
     "name": "stdout",
     "output_type": "stream",
     "text": [
      "/data/Tom.Beucler/SPCAM_PHYS\n",
      "/data/Tom.Beucler/SPCAM_PHYS\n",
      "rm: cannot remove '32_col*': No such file or directory\n"
     ]
    }
   ],
   "source": [
    "!ls $TRAINDIR\n",
    "%cd $TRAINDIR\n",
    "!pwd\n",
    "#!rm 32_col*"
   ]
  },
  {
   "cell_type": "markdown",
   "metadata": {},
   "source": [
    "### 1.2) Shuffle the data\n",
    "tgb - 1/16/2019 - Adapted from Stephan's entire worlflow for 32 column run"
   ]
  },
  {
   "cell_type": "code",
   "execution_count": 26,
   "metadata": {},
   "outputs": [
    {
     "name": "stdout",
     "output_type": "stream",
     "text": [
      "/filer/z-sv-pool12c/t/Tom.Beucler/SPCAM/CBRAIN-CAM\n",
      "usage: shuffle_ds.py [-h] [--method METHOD] [--pref PREF]\n",
      "                     [--random_seed RANDOM_SEED] [--chunk_size CHUNK_SIZE]\n",
      "                     [--verbose VERBOSE]\n",
      "\n",
      "optional arguments:\n",
      "  -h, --help            show this help message and exit\n",
      "  --method METHOD       [Meticulous or fast]\n",
      "  --pref PREF           Prefix. ie without the _features.nc\n",
      "  --random_seed RANDOM_SEED\n",
      "                        Random seed for shuffling of data.\n",
      "  --chunk_size CHUNK_SIZE\n",
      "                        Size of chunks for fast method\n",
      "  --verbose VERBOSE     Verbosity level\n"
     ]
    }
   ],
   "source": [
    "%cd /filer/z-sv-pool12c/t/Tom.Beucler/SPCAM/CBRAIN-CAM\n",
    "!python cbrain/shuffle_ds.py -h"
   ]
  },
  {
   "cell_type": "code",
   "execution_count": 27,
   "metadata": {},
   "outputs": [
    {
     "name": "stdout",
     "output_type": "stream",
     "text": [
      "Reading files: /local/Tom.Beucler/SPCAM_PHYS//32_col_mp_3d_train_features.nc /local/Tom.Beucler/SPCAM_PHYS//32_col_mp_3d_train_targets.nc\n",
      "Creating files: /local/Tom.Beucler/SPCAM_PHYS//32_col_mp_3d_train_shuffle_features.nc /local/Tom.Beucler/SPCAM_PHYS//32_col_mp_3d_train_shuffle_targets.nc\n",
      "GitPython not found. Please install for better reproducibility.\n",
      "GitPython not found. Please install for better reproducibility.\n",
      "100%|█████████████████████████████████████████████| 1/1 [00:11<00:00, 11.24s/it]\n"
     ]
    }
   ],
   "source": [
    "!python cbrain/shuffle_ds.py --pref $TRAINDIR/32_col_mp_3d_train"
   ]
  },
  {
   "cell_type": "markdown",
   "metadata": {},
   "source": [
    "### 1.3) Change the output's normalization using pressure levels\n",
    "#### Step 0: Load the file using xarray"
   ]
  },
  {
   "cell_type": "code",
   "execution_count": 28,
   "metadata": {},
   "outputs": [],
   "source": [
    "import xarray as xr\n",
    "ds.close()\n",
    "ds = xr.open_dataset(TRAINDIR + '32_col_mp_3d_train_norm.nc')"
   ]
  },
  {
   "cell_type": "code",
   "execution_count": 29,
   "metadata": {
    "scrolled": true
   },
   "outputs": [
    {
     "data": {
      "text/plain": [
       "<xarray.DataArray 'target_conv' (target_lev: 126)>\n",
       "array([2.550438e+05, 2.550438e+05, 2.550438e+05, 2.550438e+05, 2.550438e+05,\n",
       "       2.550438e+05, 2.550438e+05, 2.550438e+05, 2.550438e+05, 2.550438e+05,\n",
       "       2.550438e+05, 2.550438e+05, 2.550438e+05, 2.550438e+05, 2.550438e+05,\n",
       "       2.550438e+05, 2.550438e+05, 2.550438e+05, 2.550438e+05, 2.550438e+05,\n",
       "       2.550438e+05, 2.550438e+05, 2.550438e+05, 2.550438e+05, 2.550438e+05,\n",
       "       2.550438e+05, 2.550438e+05, 2.550438e+05, 2.550438e+05, 2.550438e+05,\n",
       "       2.550438e+05, 2.550438e+05, 2.550438e+05, 2.550438e+05, 2.550438e+05,\n",
       "       2.550438e+05, 2.550438e+05, 2.550438e+05, 2.550438e+05, 2.550438e+05,\n",
       "       2.550438e+05, 2.550438e+05, 2.550438e+05, 2.550438e+05, 2.550438e+05,\n",
       "       2.550438e+05, 2.550438e+05, 2.550438e+05, 2.550438e+05, 2.550438e+05,\n",
       "       2.550438e+05, 2.550438e+05, 2.550438e+05, 2.550438e+05, 2.550438e+05,\n",
       "       2.550438e+05, 2.550438e+05, 2.550438e+05, 2.550438e+05, 2.550438e+05,\n",
       "       2.550438e+05, 2.550438e+05, 2.550438e+05, 2.550438e+05, 2.550438e+05,\n",
       "       2.550438e+05, 2.550438e+05, 2.550438e+05, 2.550438e+05, 2.550438e+05,\n",
       "       2.550438e+05, 2.550438e+05, 2.550438e+05, 2.550438e+05, 2.550438e+05,\n",
       "       2.550438e+05, 2.550438e+05, 2.550438e+05, 2.550438e+05, 2.550438e+05,\n",
       "       2.550438e+05, 2.550438e+05, 2.550438e+05, 2.550438e+05, 2.550438e+05,\n",
       "       2.550438e+05, 2.550438e+05, 2.550438e+05, 2.550438e+05, 2.550438e+05,\n",
       "       1.024499e+02, 1.024499e+02, 1.024499e+02, 1.024499e+02, 1.024499e+02,\n",
       "       1.024499e+02, 1.024499e+02, 1.024499e+02, 1.024499e+02, 1.024499e+02,\n",
       "       1.024499e+02, 1.024499e+02, 1.024499e+02, 1.024499e+02, 1.024499e+02,\n",
       "       1.024499e+02, 1.024499e+02, 1.024499e+02, 1.024499e+02, 1.024499e+02,\n",
       "       1.024499e+02, 1.024499e+02, 1.024499e+02, 1.024499e+02, 1.024499e+02,\n",
       "       1.024499e+02, 1.024499e+02, 1.024499e+02, 1.024499e+02, 1.024499e+02,\n",
       "       1.000000e+00, 1.000000e+00, 1.000000e+00, 1.000000e+00, 2.501000e+09,\n",
       "       2.501000e+06], dtype=float32)\n",
       "Coordinates:\n",
       "  * target_lev  (target_lev) int64 0 1 2 3 4 5 6 ... 119 120 121 122 123 124 125"
      ]
     },
     "execution_count": 29,
     "metadata": {},
     "output_type": "execute_result"
    }
   ],
   "source": [
    "ds.target_conv\n"
   ]
  },
  {
   "cell_type": "markdown",
   "metadata": {},
   "source": [
    "#### Step 1: Check already existing normalizations\n",
    "$$\n",
    "\\left(\\frac{dq_{v,l,i}}{dt}\\right)\\rightarrow\\frac{L_{v}}{g}\\ \\left(\\mathrm{Missing}\\ \\Delta p\\right)\n",
    "$$\n",
    "$$\n",
    "\\left(\\frac{dT}{dt}\\right)\\rightarrow\\frac{c_{p}}{g}\\ \\left(\\mathrm{Missing\\ }\\Delta p\\right)\n",
    "$$\n",
    "$$\n",
    "{\\cal F}_{\\mathrm{rad}}\\rightarrow1\\ \\left(\\mathrm{All\\ good}\\right)\n",
    "$$\n",
    "$$\n",
    "\\mathrm{Precip}_{{\\cal V}}\\rightarrow\\rho L_{v}\\ \\left(\\mathrm{All\\ good}\\right)\n",
    "$$\n",
    "$$\n",
    "\\mathrm{Precip}_{{\\mathrm{tend}, \\cal V}}\\rightarrow\\ 10^{-3}\\ \\rho\\ L_{v}\\ \\left(\\mathrm{All\\ good}\\right)\n",
    "$$\n",
    "We need to multiply the first (4 variables) * (30 levels) = (120 scalars) by the vector delta_p (level)\n"
   ]
  },
  {
   "cell_type": "markdown",
   "metadata": {},
   "source": [
    "#### Step 2: Calculate differential pressure for each level"
   ]
  },
  {
   "cell_type": "code",
   "execution_count": 30,
   "metadata": {},
   "outputs": [
    {
     "data": {
      "text/plain": [
       "array([ 277.64523402,  512.62555644,  839.73696455, 1211.38058603,\n",
       "       1519.8353678 , 1745.60062587, 1737.79353499, 1423.96241426,\n",
       "       1675.21685362, 1970.80597281, 2318.55362654, 2727.6545763 ,\n",
       "       3208.94680917, 3775.1596421 , 4441.27991796, 5224.93720055,\n",
       "       6146.86310291, 7231.4709425 , 8507.44917989, 8510.85484028,\n",
       "       7811.29226089, 6591.71789885, 4899.05960858, 2836.21996641,\n",
       "       2660.87651253, 2463.98309246, 2246.78721279, 2010.62900014,\n",
       "       1757.35657103, 1488.78097534])"
      ]
     },
     "execution_count": 30,
     "metadata": {},
     "output_type": "execute_result"
    }
   ],
   "source": [
    "# 1.1 Open the pickle files containing the pressure converters\n",
    "with open(os.path.join('/filer/z-sv-pool12c/t/Tom.Beucler/SPCAM/CBRAIN-CAM/cbrain', 'hyai_hybi.pkl'), 'rb') as f:\n",
    "            hyai, hybi = pickle.load(f)\n",
    "# 1.2 Takes representative value for PS since purpose is normalization\n",
    "PS = 1e5; P0 = 1e5;\n",
    "P = P0*hyai+PS*hybi; # Total pressure [Pa]\n",
    "dP = P[1:]-P[:-1]; # Differential pressure [Pa]\n",
    "dP"
   ]
  },
  {
   "cell_type": "markdown",
   "metadata": {},
   "source": [
    "#### Step 3: Multiply Q/T tendency components of the norm. vector by dp"
   ]
  },
  {
   "cell_type": "code",
   "execution_count": 31,
   "metadata": {},
   "outputs": [],
   "source": [
    "import numpy as np\n",
    "\n",
    "ds.target_conv[:120] = np.multiply(ds.target_conv[:120],np.concatenate((dP,dP,dP,dP)))"
   ]
  },
  {
   "cell_type": "code",
   "execution_count": 32,
   "metadata": {},
   "outputs": [
    {
     "data": {
      "text/plain": [
       "<xarray.DataArray 'target_conv' (target_lev: 126)>\n",
       "array([7.081169e+07, 1.307420e+08, 2.141697e+08, 3.089551e+08, 3.876245e+08,\n",
       "       4.452045e+08, 4.432134e+08, 3.631727e+08, 4.272536e+08, 5.026418e+08,\n",
       "       5.913327e+08, 6.956713e+08, 8.184219e+08, 9.628309e+08, 1.132721e+09,\n",
       "       1.332588e+09, 1.567719e+09, 1.844342e+09, 2.169772e+09, 2.170640e+09,\n",
       "       1.992221e+09, 1.681177e+09, 1.249475e+09, 7.233602e+08, 6.786399e+08,\n",
       "       6.284236e+08, 5.730291e+08, 5.127984e+08, 4.482028e+08, 3.797043e+08,\n",
       "       7.081169e+07, 1.307420e+08, 2.141697e+08, 3.089551e+08, 3.876245e+08,\n",
       "       4.452045e+08, 4.432134e+08, 3.631727e+08, 4.272536e+08, 5.026418e+08,\n",
       "       5.913327e+08, 6.956713e+08, 8.184219e+08, 9.628309e+08, 1.132721e+09,\n",
       "       1.332588e+09, 1.567719e+09, 1.844342e+09, 2.169772e+09, 2.170640e+09,\n",
       "       1.992221e+09, 1.681177e+09, 1.249475e+09, 7.233602e+08, 6.786399e+08,\n",
       "       6.284236e+08, 5.730291e+08, 5.127984e+08, 4.482028e+08, 3.797043e+08,\n",
       "       7.081169e+07, 1.307420e+08, 2.141697e+08, 3.089551e+08, 3.876245e+08,\n",
       "       4.452045e+08, 4.432134e+08, 3.631727e+08, 4.272536e+08, 5.026418e+08,\n",
       "       5.913327e+08, 6.956713e+08, 8.184219e+08, 9.628309e+08, 1.132721e+09,\n",
       "       1.332588e+09, 1.567719e+09, 1.844342e+09, 2.169772e+09, 2.170640e+09,\n",
       "       1.992221e+09, 1.681177e+09, 1.249475e+09, 7.233602e+08, 6.786399e+08,\n",
       "       6.284236e+08, 5.730291e+08, 5.127984e+08, 4.482028e+08, 3.797043e+08,\n",
       "       2.844472e+04, 5.251843e+04, 8.603096e+04, 1.241058e+05, 1.557070e+05,\n",
       "       1.788366e+05, 1.780368e+05, 1.458848e+05, 1.716258e+05, 2.019089e+05,\n",
       "       2.375356e+05, 2.794479e+05, 3.287562e+05, 3.867647e+05, 4.550086e+05,\n",
       "       5.352942e+05, 6.297454e+05, 7.408634e+05, 8.715872e+05, 8.719361e+05,\n",
       "       8.002661e+05, 6.753208e+05, 5.019081e+05, 2.905704e+05, 2.726065e+05,\n",
       "       2.524348e+05, 2.301831e+05, 2.059887e+05, 1.800410e+05, 1.525255e+05,\n",
       "       1.000000e+00, 1.000000e+00, 1.000000e+00, 1.000000e+00, 2.501000e+09,\n",
       "       2.501000e+06], dtype=float32)\n",
       "Coordinates:\n",
       "  * target_lev  (target_lev) int64 0 1 2 3 4 5 6 ... 119 120 121 122 123 124 125"
      ]
     },
     "execution_count": 32,
     "metadata": {},
     "output_type": "execute_result"
    }
   ],
   "source": [
    "ds.target_conv"
   ]
  },
  {
   "cell_type": "markdown",
   "metadata": {},
   "source": [
    "#### Step 4: Replace targ_conv in the train_norm NETCDF file with the new values"
   ]
  },
  {
   "cell_type": "code",
   "execution_count": 33,
   "metadata": {},
   "outputs": [],
   "source": [
    "# 4.1 Copy old normalization file\n",
    "path1 = os.path.join(TRAINDIR,'32_col_mp_3d_train_norm.nc')\n",
    "path2 = os.path.join(TRAINDIR,'32_col_mp_3d_train_oldnorm.nc')\n",
    "!cp $path1 $path2"
   ]
  },
  {
   "cell_type": "code",
   "execution_count": 34,
   "metadata": {},
   "outputs": [
    {
     "data": {
      "text/plain": [
       "<xarray.DataArray 'target_conv' (target_lev: 126)>\n",
       "array([2.550438e+05, 2.550438e+05, 2.550438e+05, 2.550438e+05, 2.550438e+05,\n",
       "       2.550438e+05, 2.550438e+05, 2.550438e+05, 2.550438e+05, 2.550438e+05,\n",
       "       2.550438e+05, 2.550438e+05, 2.550438e+05, 2.550438e+05, 2.550438e+05,\n",
       "       2.550438e+05, 2.550438e+05, 2.550438e+05, 2.550438e+05, 2.550438e+05,\n",
       "       2.550438e+05, 2.550438e+05, 2.550438e+05, 2.550438e+05, 2.550438e+05,\n",
       "       2.550438e+05, 2.550438e+05, 2.550438e+05, 2.550438e+05, 2.550438e+05,\n",
       "       2.550438e+05, 2.550438e+05, 2.550438e+05, 2.550438e+05, 2.550438e+05,\n",
       "       2.550438e+05, 2.550438e+05, 2.550438e+05, 2.550438e+05, 2.550438e+05,\n",
       "       2.550438e+05, 2.550438e+05, 2.550438e+05, 2.550438e+05, 2.550438e+05,\n",
       "       2.550438e+05, 2.550438e+05, 2.550438e+05, 2.550438e+05, 2.550438e+05,\n",
       "       2.550438e+05, 2.550438e+05, 2.550438e+05, 2.550438e+05, 2.550438e+05,\n",
       "       2.550438e+05, 2.550438e+05, 2.550438e+05, 2.550438e+05, 2.550438e+05,\n",
       "       2.550438e+05, 2.550438e+05, 2.550438e+05, 2.550438e+05, 2.550438e+05,\n",
       "       2.550438e+05, 2.550438e+05, 2.550438e+05, 2.550438e+05, 2.550438e+05,\n",
       "       2.550438e+05, 2.550438e+05, 2.550438e+05, 2.550438e+05, 2.550438e+05,\n",
       "       2.550438e+05, 2.550438e+05, 2.550438e+05, 2.550438e+05, 2.550438e+05,\n",
       "       2.550438e+05, 2.550438e+05, 2.550438e+05, 2.550438e+05, 2.550438e+05,\n",
       "       2.550438e+05, 2.550438e+05, 2.550438e+05, 2.550438e+05, 2.550438e+05,\n",
       "       1.024499e+02, 1.024499e+02, 1.024499e+02, 1.024499e+02, 1.024499e+02,\n",
       "       1.024499e+02, 1.024499e+02, 1.024499e+02, 1.024499e+02, 1.024499e+02,\n",
       "       1.024499e+02, 1.024499e+02, 1.024499e+02, 1.024499e+02, 1.024499e+02,\n",
       "       1.024499e+02, 1.024499e+02, 1.024499e+02, 1.024499e+02, 1.024499e+02,\n",
       "       1.024499e+02, 1.024499e+02, 1.024499e+02, 1.024499e+02, 1.024499e+02,\n",
       "       1.024499e+02, 1.024499e+02, 1.024499e+02, 1.024499e+02, 1.024499e+02,\n",
       "       1.000000e+00, 1.000000e+00, 1.000000e+00, 1.000000e+00, 2.501000e+09,\n",
       "       2.501000e+06], dtype=float32)\n",
       "Coordinates:\n",
       "  * target_lev  (target_lev) int64 0 1 2 3 4 5 6 ... 119 120 121 122 123 124 125"
      ]
     },
     "execution_count": 34,
     "metadata": {},
     "output_type": "execute_result"
    }
   ],
   "source": [
    "# 4.1.CHECK that the old normalization file was properly copied\n",
    "xr.open_dataset(TRAINDIR + '32_col_mp_3d_train_oldnorm.nc').target_conv"
   ]
  },
  {
   "cell_type": "code",
   "execution_count": 35,
   "metadata": {},
   "outputs": [],
   "source": [
    "# 4.2 Create new dataset with characteristics of modified ds\n",
    "new_ds = xr.Dataset({\n",
    "            'feature_means': ds.feature_means,\n",
    "            'feature_stds': ds.feature_stds,\n",
    "            'feature_mins': ds.feature_mins,\n",
    "            'feature_maxs': ds.feature_maxs,\n",
    "            'target_means': ds.target_means,\n",
    "            'target_stds': ds.target_stds,\n",
    "            'target_mins': ds.target_mins,\n",
    "            'target_maxs': ds.target_maxs,\n",
    "            'feature_names': ds.feature_names,\n",
    "            'target_names': ds.target_names,\n",
    "            'feature_stds_by_var': ds.feature_stds_by_var,\n",
    "            'target_conv': ds.target_conv\n",
    "        })"
   ]
  },
  {
   "cell_type": "code",
   "execution_count": 36,
   "metadata": {},
   "outputs": [
    {
     "data": {
      "text/plain": [
       "<xarray.DataArray 'target_conv' (target_lev: 126)>\n",
       "array([7.081169e+07, 1.307420e+08, 2.141697e+08, 3.089551e+08, 3.876245e+08,\n",
       "       4.452045e+08, 4.432134e+08, 3.631727e+08, 4.272536e+08, 5.026418e+08,\n",
       "       5.913327e+08, 6.956713e+08, 8.184219e+08, 9.628309e+08, 1.132721e+09,\n",
       "       1.332588e+09, 1.567719e+09, 1.844342e+09, 2.169772e+09, 2.170640e+09,\n",
       "       1.992221e+09, 1.681177e+09, 1.249475e+09, 7.233602e+08, 6.786399e+08,\n",
       "       6.284236e+08, 5.730291e+08, 5.127984e+08, 4.482028e+08, 3.797043e+08,\n",
       "       7.081169e+07, 1.307420e+08, 2.141697e+08, 3.089551e+08, 3.876245e+08,\n",
       "       4.452045e+08, 4.432134e+08, 3.631727e+08, 4.272536e+08, 5.026418e+08,\n",
       "       5.913327e+08, 6.956713e+08, 8.184219e+08, 9.628309e+08, 1.132721e+09,\n",
       "       1.332588e+09, 1.567719e+09, 1.844342e+09, 2.169772e+09, 2.170640e+09,\n",
       "       1.992221e+09, 1.681177e+09, 1.249475e+09, 7.233602e+08, 6.786399e+08,\n",
       "       6.284236e+08, 5.730291e+08, 5.127984e+08, 4.482028e+08, 3.797043e+08,\n",
       "       7.081169e+07, 1.307420e+08, 2.141697e+08, 3.089551e+08, 3.876245e+08,\n",
       "       4.452045e+08, 4.432134e+08, 3.631727e+08, 4.272536e+08, 5.026418e+08,\n",
       "       5.913327e+08, 6.956713e+08, 8.184219e+08, 9.628309e+08, 1.132721e+09,\n",
       "       1.332588e+09, 1.567719e+09, 1.844342e+09, 2.169772e+09, 2.170640e+09,\n",
       "       1.992221e+09, 1.681177e+09, 1.249475e+09, 7.233602e+08, 6.786399e+08,\n",
       "       6.284236e+08, 5.730291e+08, 5.127984e+08, 4.482028e+08, 3.797043e+08,\n",
       "       2.844472e+04, 5.251843e+04, 8.603096e+04, 1.241058e+05, 1.557070e+05,\n",
       "       1.788366e+05, 1.780368e+05, 1.458848e+05, 1.716258e+05, 2.019089e+05,\n",
       "       2.375356e+05, 2.794479e+05, 3.287562e+05, 3.867647e+05, 4.550086e+05,\n",
       "       5.352942e+05, 6.297454e+05, 7.408634e+05, 8.715872e+05, 8.719361e+05,\n",
       "       8.002661e+05, 6.753208e+05, 5.019081e+05, 2.905704e+05, 2.726065e+05,\n",
       "       2.524348e+05, 2.301831e+05, 2.059887e+05, 1.800410e+05, 1.525255e+05,\n",
       "       1.000000e+00, 1.000000e+00, 1.000000e+00, 1.000000e+00, 2.501000e+09,\n",
       "       2.501000e+06], dtype=float32)\n",
       "Coordinates:\n",
       "  * target_lev  (target_lev) int64 0 1 2 3 4 5 6 ... 119 120 121 122 123 124 125"
      ]
     },
     "execution_count": 36,
     "metadata": {},
     "output_type": "execute_result"
    }
   ],
   "source": [
    "# 4.2 Check\n",
    "new_ds.target_conv"
   ]
  },
  {
   "cell_type": "code",
   "execution_count": 37,
   "metadata": {},
   "outputs": [],
   "source": [
    "# 4.3 Write new data set to initial target_conv file\n",
    "!rm $path1 # Remove normalization file"
   ]
  },
  {
   "cell_type": "code",
   "execution_count": 38,
   "metadata": {},
   "outputs": [],
   "source": [
    "new_ds.to_netcdf(path1) # Save the new dataset as the new normalization file"
   ]
  },
  {
   "cell_type": "code",
   "execution_count": 39,
   "metadata": {},
   "outputs": [
    {
     "data": {
      "text/plain": [
       "<xarray.DataArray 'target_conv' (target_lev: 126)>\n",
       "array([7.081169e+07, 1.307420e+08, 2.141697e+08, 3.089551e+08, 3.876245e+08,\n",
       "       4.452045e+08, 4.432134e+08, 3.631727e+08, 4.272536e+08, 5.026418e+08,\n",
       "       5.913327e+08, 6.956713e+08, 8.184219e+08, 9.628309e+08, 1.132721e+09,\n",
       "       1.332588e+09, 1.567719e+09, 1.844342e+09, 2.169772e+09, 2.170640e+09,\n",
       "       1.992221e+09, 1.681177e+09, 1.249475e+09, 7.233602e+08, 6.786399e+08,\n",
       "       6.284236e+08, 5.730291e+08, 5.127984e+08, 4.482028e+08, 3.797043e+08,\n",
       "       7.081169e+07, 1.307420e+08, 2.141697e+08, 3.089551e+08, 3.876245e+08,\n",
       "       4.452045e+08, 4.432134e+08, 3.631727e+08, 4.272536e+08, 5.026418e+08,\n",
       "       5.913327e+08, 6.956713e+08, 8.184219e+08, 9.628309e+08, 1.132721e+09,\n",
       "       1.332588e+09, 1.567719e+09, 1.844342e+09, 2.169772e+09, 2.170640e+09,\n",
       "       1.992221e+09, 1.681177e+09, 1.249475e+09, 7.233602e+08, 6.786399e+08,\n",
       "       6.284236e+08, 5.730291e+08, 5.127984e+08, 4.482028e+08, 3.797043e+08,\n",
       "       7.081169e+07, 1.307420e+08, 2.141697e+08, 3.089551e+08, 3.876245e+08,\n",
       "       4.452045e+08, 4.432134e+08, 3.631727e+08, 4.272536e+08, 5.026418e+08,\n",
       "       5.913327e+08, 6.956713e+08, 8.184219e+08, 9.628309e+08, 1.132721e+09,\n",
       "       1.332588e+09, 1.567719e+09, 1.844342e+09, 2.169772e+09, 2.170640e+09,\n",
       "       1.992221e+09, 1.681177e+09, 1.249475e+09, 7.233602e+08, 6.786399e+08,\n",
       "       6.284236e+08, 5.730291e+08, 5.127984e+08, 4.482028e+08, 3.797043e+08,\n",
       "       2.844472e+04, 5.251843e+04, 8.603096e+04, 1.241058e+05, 1.557070e+05,\n",
       "       1.788366e+05, 1.780368e+05, 1.458848e+05, 1.716258e+05, 2.019089e+05,\n",
       "       2.375356e+05, 2.794479e+05, 3.287562e+05, 3.867647e+05, 4.550086e+05,\n",
       "       5.352942e+05, 6.297454e+05, 7.408634e+05, 8.715872e+05, 8.719361e+05,\n",
       "       8.002661e+05, 6.753208e+05, 5.019081e+05, 2.905704e+05, 2.726065e+05,\n",
       "       2.524348e+05, 2.301831e+05, 2.059887e+05, 1.800410e+05, 1.525255e+05,\n",
       "       1.000000e+00, 1.000000e+00, 1.000000e+00, 1.000000e+00, 2.501000e+09,\n",
       "       2.501000e+06], dtype=float32)\n",
       "Coordinates:\n",
       "  * target_lev  (target_lev) int64 0 1 2 3 4 5 6 ... 119 120 121 122 123 124 125"
      ]
     },
     "execution_count": 39,
     "metadata": {},
     "output_type": "execute_result"
    }
   ],
   "source": [
    "# 4.3 CHECK\n",
    "xr.open_dataset(path1).close() # Don't forget to close the old handler!!\n",
    "xr.open_dataset(path1).target_conv # Before checking if the new normalizations are at the right place"
   ]
  },
  {
   "cell_type": "markdown",
   "metadata": {},
   "source": [
    "## 2) Create data generator and produce data sample\n"
   ]
  },
  {
   "cell_type": "markdown",
   "metadata": {},
   "source": [
    "### 2.1) Create data generator"
   ]
  },
  {
   "cell_type": "code",
   "execution_count": 40,
   "metadata": {},
   "outputs": [],
   "source": [
    "xr.open_dataset(path1).close() # Don't forget to close xarray handler!!"
   ]
  },
  {
   "cell_type": "code",
   "execution_count": 46,
   "metadata": {},
   "outputs": [
    {
     "name": "stdout",
     "output_type": "stream",
     "text": [
      "Generator will have 4620288 samples in 9024 batches\n",
      "Features have shape 154; targets have shape 126\n"
     ]
    }
   ],
   "source": [
    "train_gen_obj = DataGenerator(\n",
    "    data_dir=TRAINDIR, \n",
    "    feature_fn='32_col_mp_3d_train_features.nc',\n",
    "    target_fn='32_col_mp_3d_train_targets.nc',\n",
    "    batch_size=512,\n",
    "    norm_fn='32_col_mp_3d_train_norm.nc',\n",
    "    fsub='feature_means',   # Subtracct the mean\n",
    "    fdiv='feature_stds_by_var',    # Then divide by Std\n",
    "    tmult='target_conv',    # For targets/output: use values from preprocess_aqua.\n",
    "    shuffle=True,\n",
    ")"
   ]
  },
  {
   "cell_type": "code",
   "execution_count": 47,
   "metadata": {},
   "outputs": [],
   "source": [
    "gen = train_gen_obj.return_generator()"
   ]
  },
  {
   "cell_type": "markdown",
   "metadata": {},
   "source": [
    "### 2.2) Produce data sample"
   ]
  },
  {
   "cell_type": "code",
   "execution_count": 48,
   "metadata": {},
   "outputs": [],
   "source": [
    "x, y = next(gen)"
   ]
  },
  {
   "cell_type": "code",
   "execution_count": 49,
   "metadata": {},
   "outputs": [
    {
     "data": {
      "text/plain": [
       "((512, 154), (512, 126))"
      ]
     },
     "execution_count": 49,
     "metadata": {},
     "output_type": "execute_result"
    }
   ],
   "source": [
    "x.shape, y.shape"
   ]
  },
  {
   "cell_type": "markdown",
   "metadata": {},
   "source": [
    "## 3) Neural network attempts (tgb - started 1/15/2019)"
   ]
  },
  {
   "cell_type": "code",
   "execution_count": 50,
   "metadata": {},
   "outputs": [],
   "source": [
    "from keras.layers import *\n",
    "from keras.models import *"
   ]
  },
  {
   "cell_type": "markdown",
   "metadata": {},
   "source": [
    "### 3.3) Energy conservation strategy (tgb - started 1/18/2019)\n",
    "#### Step 0: Load all the variables to calculate mass-weighted vertical integrals "
   ]
  },
  {
   "cell_type": "code",
   "execution_count": 55,
   "metadata": {},
   "outputs": [],
   "source": [
    "# 1) Open the file containing the normalization of the targets\n",
    "ds = xr.open_dataset(TRAINDIR + '32_col_mp_3d_train_norm.nc')\n",
    "# 2) Open the pickle files containing the pressure converters\n",
    "with open(os.path.join('/filer/z-sv-pool12c/t/Tom.Beucler/SPCAM/CBRAIN-CAM/cbrain', 'hyai_hybi.pkl'), 'rb') as f:\n",
    "            hyai, hybi = pickle.load(f)"
   ]
  },
  {
   "cell_type": "code",
   "execution_count": 56,
   "metadata": {},
   "outputs": [
    {
     "name": "stdout",
     "output_type": "stream",
     "text": [
      "(154,)\n",
      "(154,)\n",
      "(126,)\n",
      "(31,)\n",
      "(31,)\n"
     ]
    }
   ],
   "source": [
    "fsub = ds.feature_means.values\n",
    "fdiv = ds.feature_stds_by_var.values\n",
    "normq = ds.target_conv.values\n",
    "print(fsub.shape)\n",
    "print(fdiv.shape)\n",
    "print(normq.shape)\n",
    "print(hyai.shape)\n",
    "print(hybi.shape)"
   ]
  },
  {
   "cell_type": "code",
   "execution_count": 57,
   "metadata": {},
   "outputs": [],
   "source": [
    "ds.close()"
   ]
  },
  {
   "cell_type": "markdown",
   "metadata": {},
   "source": [
    "#### Step 1: Implement mass conservation layer"
   ]
  },
  {
   "cell_type": "markdown",
   "metadata": {},
   "source": [
    "##### Enforcing mass conservation\n",
    "\n",
    "Reference for mass and energy conservation:\n",
    "\n",
    "(Original CAM F90 script, look for \"Compute vertical integrals of dry static energy and water\" in the script)  \n",
    "https://gitlab.com/mspritch/spcam3.0-neural-net/blob/master/models/atm/cam/src/physics/cam1/check_energy.F90\n",
    "\n",
    "(Stephan's energy/mass verification scripts)  \n",
    "https://github.com/raspstephan/CBRAIN-CAM/blob/master/notebooks/dev/old_notebooks/energy_conservation.ipynb\n",
    "\n",
    "##### Mass/Water conservation equation in W/m2\n",
    "\n",
    "If the network predicts the water vapor tendency, defined as the difference between the moisture before and after physics divided by the timestep dt (normalized in energy units W/m2):\n",
    "$$\\delta q_{v,i,l}\\left(p\\right)\\overset{\\mathrm{def}}{=}\\frac{L_{v}\\Delta p_{\\mathrm{norm}}}{g}\\frac{q_{v,i,l}^{a}\\left(p\\right)-q_{v,i,l}^{b}\\left(p\\right)}{\\Delta t}$$\n",
    "\n",
    "The water conservation equation is (normalized in energy units W/m2):\n",
    "$$\\underbrace{\\int_{0}^{\\widetilde{p_{s}}}d\\widetilde{p}\\left(\\delta q_{v}+\\delta q_{l}+\\delta q_{i}\\right)}_{\\mathrm{Difference\\ after-before\\ physics}}=\\underbrace{\\int_{\\widetilde{t}}^{\\widetilde{t}+1} \\widetilde{dt}\\ \\left(LHF-L_{v}P-10^{-3}\\cdot L_{v} P_{tend}\\right)}_{\\mathrm{Evap-Precip\\ during\\ \\Delta t}}\n",
    "$$\n",
    "\n",
    "where we have defined:\n",
    "$$\n",
    "\\widetilde{p}\\overset{\\mathrm{def}}{=}\\frac{p}{p_{\\mathrm{norm}}}\n",
    "$$\n",
    "$$\n",
    "\\widetilde{t}\\overset{\\mathrm{def}}{=}\\frac{t}{\\Delta t}\n",
    "$$\n",
    "The idea is to predict all variables but one. The specific humidity at the lowest level of the model (here 30) is likely to be one of the most penalized output variables as it has one of the largest tendencies (in W/m2) in the final cost function. If we predict all other variables and calculate that variable as a residual, it yields:\n",
    "\n",
    "$$\\Delta \\widetilde{p}_{30} \\delta q_{v}^{30}=\\int_{\\widetilde{t}}^{\\widetilde{t}+1} \\widetilde{dt}\\ \\left(LHF-L_{v}P-10^{-3}\\cdot L_{v} P_{tend}\\right)-\\int_{0}^{\\widetilde{p_{s}}}d\\widetilde{p}\\left(\\delta q_{l}+\\delta q_{i}\\right)-\\int_{0}^{\\widetilde{p_{30}}}d\\widetilde{p}\\delta q_{v}\n",
    "$$\n",
    "\n",
    "Note that because we are already working with tendencies, the timestep variable dt is not needed in the water conservation layer.\n",
    "\n",
    "\n"
   ]
  },
  {
   "cell_type": "code",
   "execution_count": 113,
   "metadata": {},
   "outputs": [],
   "source": [
    "class MassConservationLayer(Layer):\n",
    "    \n",
    "    def __init__(self, fsub, fdiv, normq, hyai, hybi, **kwargs):\n",
    "        self.fsub = fsub # Subtraction for normalization of inputs \n",
    "        self.fdiv = fdiv # Division for normalization of inputs\n",
    "        self.normq = normq # Normalization of output's water concentration\n",
    "        self.hyai = hyai # CAM constants to calculate d_pressure\n",
    "        self.hybi = hybi # CAM constants to calculate d_pressure \n",
    "        super().__init__(**kwargs)\n",
    "        \n",
    "    def build(self, input_shape):\n",
    "        super().build(input_shape)  # Be sure to call this somewhere!\n",
    "        \n",
    "    def call(self, arrs):\n",
    "        # arrs (for arrays) is a list with \n",
    "        # [inputs=inp and the output of the previous layer=densout]\n",
    "        # inputs will be [n_sample, 154 = 30*5+4] with\n",
    "        # [QBP, QCBP, QIBP, TBP, VBP, PS, SOLIN, SHFLX, LHFLX]\n",
    "        # outputs of the previous dense layer will be [n_samples, 124 = 30*4+6-2] with\n",
    "        # [DELQ\\{PHQ AT LOWEST LVL}, DELCLDLIQ, DELCLDICE, \n",
    "        # TPHYSTND\\{TPHYSTND AT LOWEST LVL}, FSNT, FSNS, FLNT, FLNS, PRECT, PRECTEND]\n",
    "        \n",
    "        # Split between the inputs inp & the output of the densely connected\n",
    "        # neural network, densout\n",
    "        inp, densout = arrs\n",
    "        \n",
    "        # 0) Constants\n",
    "        G = 9.80616; # Reference gravity constant [m.s-2]\n",
    "        L_V = 2.501e6; # Latent heat of vaporization of water [W.kg-1]\n",
    "        P0 = 1e5; # Reference surface pressure [Pa]\n",
    "        \n",
    "        # 1) Get non-dimensional pressure differences (p_tilde above)\n",
    "        # In the input vector, PS is the 151st element after \n",
    "        # the first elements = [QBP, ..., VBP with shape 30*5=150]\n",
    "        PS = tf.math.add( tf.math.multiply( inp[:,150], self.fdiv[150]), self.fsub[150])\n",
    "        # Reference for calculation of d_pressure is cbrain/models.py (e.g. QLayer)\n",
    "        P = tf.math.add( tf.math.multiply( P0, self.hyai), \\\n",
    "                        tf.math.multiply( PS[:,None], self.hybi))\n",
    "        dP = tf.math.subtract( P[:, 1:], P[:, :-1])\n",
    "        # norm_output = dp_norm * L_V/G so dp_norm = norm_output * G/L_V\n",
    "        dP_NORM = tf.math.divide( \\\n",
    "                  tf.math.multiply(self.normq[:30], \\\n",
    "                                   G), L_V)\n",
    "        # dp_tilde = dp/dp_norm\n",
    "        # Wondering about broadcasting here...\n",
    "        # tf.div or simply \\ would support broadcasting \n",
    "        dP_TILD = tf.math.divide( dP, dP_NORM)\n",
    "        \n",
    "        # 2) Calculate cloud water vertical integral from level 1 to level 30\n",
    "        # The indices are tricky here because we are missing del(q_v)@(level 30)\n",
    "        # so e.g. q_liq@(level 1) is the 30th element of the output of the \n",
    "        # previous dense layer\n",
    "        CLDVEC = tf.math.multiply( dP_TILD, \\\n",
    "                                  tf.math.add( densout[:, 29:59], densout[:, 59:89]))\n",
    "        CLDINT = tf.math.reduce_sum( CLDVEC, axis=1)\n",
    "        \n",
    "        # 3) Calculate water vapor vertical integral from level 1 to level 29\n",
    "        VAPVEC = tf.math.multiply( dP_TILD[:, :29], \\\n",
    "                                  densout[:, :29])\n",
    "        VAPINT = tf.math.reduce_sum( VAPVEC, axis=1)\n",
    "        \n",
    "        # 4) Calculate forcing on the right-hand side (Net Evaporation-Precipitation)\n",
    "        # E-P is already normalized to units W.m-2 in the output vector\n",
    "        # so all we need to do is input-unnormalize LHF that is taken from the input vector\n",
    "        LHF = tf.math.add( tf.math.multiply( inp[:,153], self.fdiv[153]), self.fsub[153])\n",
    "        # Note that total precipitation = PRECT + 1e-3*PRECTEND in the CAM model\n",
    "        # PRECTEND already multiplied by 1e-3 in output vector so no need to redo it\n",
    "        PREC = tf.math.add( densout[:, 122], densout[:, 123])\n",
    "        \n",
    "        # 5) Infer water vapor tendency at level 30 as a residual\n",
    "        # Use add_n to be able to add multiple variables\n",
    "        DELQV30 = tf.math.divide( \\\n",
    "                                 tf.math.add_n( \\\n",
    "                                    [LHF, tf.math.negative(PREC), \\\n",
    "                                    tf.math.negative(CLDINT), \\\n",
    "                                    tf.math.negative(VAPINT)]), \\\n",
    "                                 dP_TILD[:, 29])\n",
    "        \n",
    "        # 6) Concatenate the water tendencies with the newly inferred tendency\n",
    "        # to get the final vector out of shape (#samples,125) with\n",
    "        # [DELQ, DELCLDLIQ, DELCLDICE, \n",
    "        # TPHYSTND\\{TPHYSTND AT SURFACE}, FSNT, FSNS, FLNT, FLNS, PRECT PRECTEND]\n",
    "        # Uses https://www.tensorflow.org/api_docs/python/tf/concat\n",
    "        out = tf.concat([densout[:, :29], DELQV30, densout[:, 29:]], 1)\n",
    "        return out\n",
    "    \n",
    "    def compute_output_shape(self, input_shape):\n",
    "        return input_shape[1]+(1,) # The output has size 125=30*4+6-1\n",
    "    # and is ready to be fed to the energy conservation layer\n",
    "    # before we reach the total number of outputs = 126"
   ]
  },
  {
   "cell_type": "markdown",
   "metadata": {},
   "source": [
    "#### Step 2: Implement energy conservation layer\n",
    "##### Energy conservation equation in W/m2\n",
    "\n",
    "We start from the frozen moist static energy conservation equation:\n",
    "$$\n",
    "\\begin{aligned}\\left(\\mathrm{FMSE\\ conservation\\ in\\ Wm^{-2}}\\right)\\ \\  & c_{p}\\int_{0}^{p_{s}}\\frac{dp}{g}\\left(\\frac{dT}{dt}\\right)_{phys}+L_{v}\\int_{0}^{p_{s}}\\frac{dp}{g}\\left(\\frac{dq_{v}}{dt}\\right)_{phys}-L_{f}\\int_{0}^{p_{s}}\\frac{dp}{g}\\left(\\frac{dq_{i}}{dt}\\right)_{phys}\\\\\n",
    " & =\\mathrm{LHF}+\\mathrm{SHF}+\\mathrm{SW}_{t}-\\mathrm{SW}_{s}+\\mathrm{LW}_{s}-\\mathrm{LW}_{t}\n",
    "\\end{aligned}\n",
    "$$  \n",
    "\n",
    "and isolate the temperature tendency closest to the surface (level 30), that we calculate as a residual:  \n",
    "\n",
    "$$\n",
    "\\begin{aligned}\\left(\\mathrm{Isolate\\ lvl\\ 30}\\right)\\ \\frac{c_{p}\\Delta p_{30}}{g}\\left(\\frac{dT}{dt}\\right)_{phys,30}= & \\mathrm{LHF}+\\mathrm{SHF}+\\mathrm{SW}_{t}-\\mathrm{SW}_{s}+\\mathrm{LW}_{s}-\\mathrm{LW}_{t}\\\\\n",
    " & -c_{p}\\int_{0}^{p_{30}}\\frac{dp}{g}\\left(\\frac{dT}{dt}\\right)_{phys}-L_{v}\\int_{0}^{p_{s}}\\frac{dp}{g}\\left(\\frac{dq_{v}}{dt}\\right)_{phys}+L_{f}\\int_{0}^{p_{s}}\\frac{dp}{g}\\left(\\frac{dq_{i}}{dt}\\right)_{phys}\n",
    "\\end{aligned}\n",
    "$$\n",
    "\n",
    "We now introduce the normalization used for the outputs:\n",
    "$$\n",
    "\\delta T\\left(p\\right)\\overset{\\mathrm{def}}{=}\\frac{c_{p}\\Delta p_{\\mathrm{norm}}}{g}\\frac{T^{a}\\left(p\\right)-T^{b}\\left(p\\right)}{\\Delta t}\n",
    "$$\n",
    "$$\n",
    "\\delta q_{v,i,l}\\left(p\\right)\\overset{\\mathrm{def}}{=}\\frac{L_{v}\\Delta p_{\\mathrm{norm}}}{g}\\frac{q_{v,i,l}^{a}\\left(p\\right)-q_{v,i,l}^{b}\\left(p\\right)}{\\Delta t}\n",
    "$$\n",
    "\n",
    "which leads to the non-dimensional version of the residual equation:\n",
    "$$\n",
    "\\begin{aligned}\\left(\\mathrm{Non-dim}\\right)\\Delta\\widetilde{p}_{30}\\delta T_{30} & =\\mathrm{LHF}+\\mathrm{SHF}+\\mathrm{SW}_{t}-\\mathrm{SW}_{s}+\\mathrm{LW}_{s}-\\mathrm{LW}_{t}\\\\\n",
    " & -\\int_{0}^{\\widetilde{p}_{30}}d\\widetilde{p}\\cdot\\delta T-\\int_{0}^{\\widetilde{p}_{s}}d\\widetilde{p}\\cdot\\delta q_{v}+\\frac{L_{f}}{L_{v}}\\int_{0}^{\\widetilde{p}_{s}}d\\widetilde{p}\\cdot\\delta q_{i}\n",
    "\\end{aligned}\n",
    "$$\n",
    "\n",
    "Remark: One could ask if we could have avoided a factor L_f/L_v by normalizing the ice concentration outputs using L_f * del_p/g rather than L_v * del_p/g. It would simplify the equation above, but then add a factor L_v/L_f in the mass conservation equation (previous layer). "
   ]
  },
  {
   "cell_type": "code",
   "execution_count": 112,
   "metadata": {},
   "outputs": [],
   "source": [
    "class FMSEConservationLayer(Layer):\n",
    "    \n",
    "    def __init__(self, fsub, fdiv, normq, hyai, hybi, **kwargs):\n",
    "        self.fsub = fsub # Subtraction for normalization of inputs \n",
    "        self.fdiv = fdiv # Division for normalization of inputs\n",
    "        self.normq = normq # Normalization of output's water concentration\n",
    "        self.hyai = hyai # CAM constants to calculate d_pressure\n",
    "        self.hybi = hybi # CAM constants to calculate d_pressure \n",
    "        super().__init__(**kwargs)\n",
    "        \n",
    "    def build(self, input_shape):\n",
    "        super().build(input_shape)  # Be sure to call this somewhere!\n",
    "        \n",
    "    def call(self, arrs):\n",
    "        # arrs (for arrays) is a list with \n",
    "        # [inputs=inp and the output of the previous layer=massout]\n",
    "        # inputs will be [n_sample, 154 = 30*5+4] with\n",
    "        # [QBP, QCBP, QIBP, TBP, VBP, PS, SOLIN, SHFLX, LHFLX]\n",
    "        # outputs of the previous dense layer will be [n_samples, 125 = 30*4+6-1] with\n",
    "        # [DELQ, DELCLDLIQ, DELCLDICE, \n",
    "        # TPHYSTND\\{TPHYSTND AT LOWEST LVL}, FSNT, FSNS, FLNT, FLNS, PRECT, PRECTEND]\n",
    "        \n",
    "        # Split between the inputs inp & the output of the densely connected\n",
    "        # neural network, massout\n",
    "        inp, massout = arrs\n",
    "        \n",
    "        # 0) Constants\n",
    "        G = 9.80616; # Reference gravity constant [m.s-2]\n",
    "        L_F = 3.337e5; # Latent heat of fusion of water [W.kg-1]\n",
    "        L_V = 2.501e6; # Latent heat of vaporization of water [W.kg-1]\n",
    "        P0 = 1e5; # Reference surface pressure [Pa]\n",
    "        \n",
    "        # 1) Get non-dimensional pressure differences (p_tilde above)\n",
    "        # In the input vector, PS is the 151st element after \n",
    "        # the first elements = [QBP, ..., VBP with shape 30*5=150]\n",
    "        PS = tf.math.add( tf.math.multiply( inp[:,150], self.fdiv[150]), self.fsub[150])\n",
    "        # Reference for calculation of d_pressure is cbrain/models.py (e.g. QLayer)\n",
    "        P = tf.math.add( tf.math.multiply( P0, self.hyai), \\\n",
    "                        tf.math.multiply( PS[:,None], self.hybi))\n",
    "        dP = tf.math.subtract( P[:, 1:], P[:, :-1])\n",
    "        # norm_output = dp_norm * L_V/G so dp_norm = norm_output * G/L_V\n",
    "        dP_NORM = tf.math.divide( \\\n",
    "                  tf.math.multiply(self.normq[:30], \\\n",
    "                                   G), L_V)\n",
    "        # dp_tilde = dp/dp_norm\n",
    "        dP_TILD = tf.math.divide( dP, dP_NORM)\n",
    "        \n",
    "        # 2) Calculate latent heat vertical integral from level 1 to level 30\n",
    "        LATVEC = tf.math.multiply( dP_TILD, \\\n",
    "                                  tf.math.add( \\\n",
    "                                    massout[:, :30], \\\n",
    "                                    tf.math_divide( tf.math.multiply( L_F, \\\n",
    "                                    tf.math.negative(massout[:, 60:90])), L_V)))               \n",
    "        LATINT = tf.math.reduce_sum( LATVEC, axis=1)\n",
    "        \n",
    "        # 3) Calculate sensible heat vertical integral from level 1 to level 29\n",
    "        # The temperature tendency is contained in \n",
    "        # the 91st to 119th element of the output vector\n",
    "        SENVEC = tf.math.multiply( dP_TILD[:, :29], massout[:, 90:119])\n",
    "        SENINT = tf.math.reduce_sum( SENVEC, axis=1)\n",
    "        \n",
    "        # 4) Calculate forcing on the right-hand side (Net radiation + surface ent. fluxes)\n",
    "        # RHS = SHF+LHF\n",
    "        RHS = inp[:,152]+inp[:,153]+\\\n",
    "        massout[:,119]-massout[:,120]-massout[:,121]+massout[:,122] # +SWs-SWt-LWt+LWs\n",
    "        \n",
    "        # 5) Infer temperature tendency at level 30 as a residual\n",
    "        # Use add_n to be able to add multiple variables\n",
    "        DELT30 = tf.math.divide( \\\n",
    "                                tf.math.add_n( \\\n",
    "                                   [RHS, \\\n",
    "                                   tf.math.negative(LATINT), \\\n",
    "                                   tf.math.negative(SENINT)]), \\\n",
    "                                dP_TILD[:, 29])\n",
    "        \n",
    "        # 6) Concatenate the water tendencies with the newly inferred tendency\n",
    "        # to get the final vector out of shape (#samples,126) with\n",
    "        # [DELQ, DELCLDLIQ, DELCLDICE, \n",
    "        # TPHYSTND, FSNT, FSNS, FLNT, FLNS, PRECT PRECTEND]\n",
    "        # Uses https://www.tensorflow.org/api_docs/python/tf/concat\n",
    "        out = tf.concat([massout[:, :119], DELT30, massout[:, 119:]], 1)\n",
    "        \n",
    "        return out\n",
    "    \n",
    "    def compute_output_shape(self, input_shape):\n",
    "        return input_shape[1]+(1,) # The output has size 126\n",
    "    # and is ready to be used in the cost function"
   ]
  },
  {
   "cell_type": "markdown",
   "metadata": {},
   "source": [
    "#### Step 3: Formulate mass/energy conserving model\n",
    "We start with inputs [QBP, QCBP, QIBP, TBP, VBP, PS, SOLIN, SHFLX, LHFLX] of shape 154  \n",
    "We then have a few dense layers with size proportional to a power of 2\n",
    "  \n",
    "For now, there is no other \"physically-constraining\" layers than  \n",
    "the mass+energy conservation layers which take input of shape 124  \n",
    "  \n",
    "After mass layer outputs vector of shape 125  \n",
    "After energy layer outputs final vector of shape 126  \n",
    "i.e. [DELQ, DELCLDLIQ, DELCLDICE, TPHYSTND, FSNT, FSNS, FLNT, FLNS, PRECT PRECTEND]"
   ]
  },
  {
   "cell_type": "code",
   "execution_count": 114,
   "metadata": {},
   "outputs": [
    {
     "ename": "ValueError",
     "evalue": "Shape must be rank 2 but is rank 1 for 'mass_conservation_layer_13/concat' (op: 'ConcatV2') with input shapes: [?,29], [?], [?,95], [].",
     "output_type": "error",
     "traceback": [
      "\u001b[0;31m---------------------------------------------------------------------------\u001b[0m",
      "\u001b[0;31mInvalidArgumentError\u001b[0m                      Traceback (most recent call last)",
      "\u001b[0;32m~/miniconda3/lib/python3.6/site-packages/tensorflow/python/framework/ops.py\u001b[0m in \u001b[0;36m_create_c_op\u001b[0;34m(graph, node_def, inputs, control_inputs)\u001b[0m\n\u001b[1;32m   1627\u001b[0m   \u001b[0;32mtry\u001b[0m\u001b[0;34m:\u001b[0m\u001b[0;34m\u001b[0m\u001b[0;34m\u001b[0m\u001b[0m\n\u001b[0;32m-> 1628\u001b[0;31m     \u001b[0mc_op\u001b[0m \u001b[0;34m=\u001b[0m \u001b[0mc_api\u001b[0m\u001b[0;34m.\u001b[0m\u001b[0mTF_FinishOperation\u001b[0m\u001b[0;34m(\u001b[0m\u001b[0mop_desc\u001b[0m\u001b[0;34m)\u001b[0m\u001b[0;34m\u001b[0m\u001b[0;34m\u001b[0m\u001b[0m\n\u001b[0m\u001b[1;32m   1629\u001b[0m   \u001b[0;32mexcept\u001b[0m \u001b[0merrors\u001b[0m\u001b[0;34m.\u001b[0m\u001b[0mInvalidArgumentError\u001b[0m \u001b[0;32mas\u001b[0m \u001b[0me\u001b[0m\u001b[0;34m:\u001b[0m\u001b[0;34m\u001b[0m\u001b[0;34m\u001b[0m\u001b[0m\n",
      "\u001b[0;31mInvalidArgumentError\u001b[0m: Shape must be rank 2 but is rank 1 for 'mass_conservation_layer_13/concat' (op: 'ConcatV2') with input shapes: [?,29], [?], [?,95], [].",
      "\nDuring handling of the above exception, another exception occurred:\n",
      "\u001b[0;31mValueError\u001b[0m                                Traceback (most recent call last)",
      "\u001b[0;32m<ipython-input-114-237781bfa82a>\u001b[0m in \u001b[0;36m<module>\u001b[0;34m\u001b[0m\n\u001b[1;32m      6\u001b[0m     \u001b[0minput_shape\u001b[0m\u001b[0;34m=\u001b[0m\u001b[0;34m(\u001b[0m\u001b[0;36m124\u001b[0m\u001b[0;34m,\u001b[0m\u001b[0;34m)\u001b[0m\u001b[0;34m,\u001b[0m \u001b[0mfsub\u001b[0m\u001b[0;34m=\u001b[0m\u001b[0mfsub\u001b[0m\u001b[0;34m,\u001b[0m \u001b[0mfdiv\u001b[0m\u001b[0;34m=\u001b[0m\u001b[0mfdiv\u001b[0m\u001b[0;34m,\u001b[0m \u001b[0mnormq\u001b[0m\u001b[0;34m=\u001b[0m\u001b[0mnormq\u001b[0m\u001b[0;34m,\u001b[0m\u001b[0;31m\\\u001b[0m\u001b[0;34m\u001b[0m\u001b[0;34m\u001b[0m\u001b[0m\n\u001b[1;32m      7\u001b[0m     \u001b[0mhyai\u001b[0m\u001b[0;34m=\u001b[0m\u001b[0mhyai\u001b[0m\u001b[0;34m,\u001b[0m \u001b[0mhybi\u001b[0m\u001b[0;34m=\u001b[0m\u001b[0mhybi\u001b[0m\u001b[0;34m\u001b[0m\u001b[0;34m\u001b[0m\u001b[0m\n\u001b[0;32m----> 8\u001b[0;31m )([inp, densout])\n\u001b[0m\u001b[1;32m      9\u001b[0m out = FMSEConservationLayer(\n\u001b[1;32m     10\u001b[0m     \u001b[0minput_shape\u001b[0m\u001b[0;34m=\u001b[0m\u001b[0;34m(\u001b[0m\u001b[0;36m125\u001b[0m\u001b[0;34m,\u001b[0m\u001b[0;34m)\u001b[0m\u001b[0;34m,\u001b[0m \u001b[0mfsub\u001b[0m\u001b[0;34m=\u001b[0m\u001b[0mfsub\u001b[0m\u001b[0;34m,\u001b[0m \u001b[0mfdiv\u001b[0m\u001b[0;34m=\u001b[0m\u001b[0mfdiv\u001b[0m\u001b[0;34m,\u001b[0m \u001b[0mnormq\u001b[0m\u001b[0;34m=\u001b[0m\u001b[0mnormq\u001b[0m\u001b[0;34m,\u001b[0m\u001b[0;31m\\\u001b[0m\u001b[0;34m\u001b[0m\u001b[0;34m\u001b[0m\u001b[0m\n",
      "\u001b[0;32m~/miniconda3/lib/python3.6/site-packages/keras/engine/topology.py\u001b[0m in \u001b[0;36m__call__\u001b[0;34m(self, inputs, **kwargs)\u001b[0m\n\u001b[1;32m    617\u001b[0m \u001b[0;34m\u001b[0m\u001b[0m\n\u001b[1;32m    618\u001b[0m             \u001b[0;31m# Actually call the layer, collecting output(s), mask(s), and shape(s).\u001b[0m\u001b[0;34m\u001b[0m\u001b[0;34m\u001b[0m\u001b[0;34m\u001b[0m\u001b[0m\n\u001b[0;32m--> 619\u001b[0;31m             \u001b[0moutput\u001b[0m \u001b[0;34m=\u001b[0m \u001b[0mself\u001b[0m\u001b[0;34m.\u001b[0m\u001b[0mcall\u001b[0m\u001b[0;34m(\u001b[0m\u001b[0minputs\u001b[0m\u001b[0;34m,\u001b[0m \u001b[0;34m**\u001b[0m\u001b[0mkwargs\u001b[0m\u001b[0;34m)\u001b[0m\u001b[0;34m\u001b[0m\u001b[0;34m\u001b[0m\u001b[0m\n\u001b[0m\u001b[1;32m    620\u001b[0m             \u001b[0moutput_mask\u001b[0m \u001b[0;34m=\u001b[0m \u001b[0mself\u001b[0m\u001b[0;34m.\u001b[0m\u001b[0mcompute_mask\u001b[0m\u001b[0;34m(\u001b[0m\u001b[0minputs\u001b[0m\u001b[0;34m,\u001b[0m \u001b[0mprevious_mask\u001b[0m\u001b[0;34m)\u001b[0m\u001b[0;34m\u001b[0m\u001b[0;34m\u001b[0m\u001b[0m\n\u001b[1;32m    621\u001b[0m \u001b[0;34m\u001b[0m\u001b[0m\n",
      "\u001b[0;32m<ipython-input-113-4169b9298559>\u001b[0m in \u001b[0;36mcall\u001b[0;34m(self, arrs)\u001b[0m\n\u001b[1;32m     82\u001b[0m         \u001b[0;31m# TPHYSTND\\{TPHYSTND AT SURFACE}, FSNT, FSNS, FLNT, FLNS, PRECT PRECTEND]\u001b[0m\u001b[0;34m\u001b[0m\u001b[0;34m\u001b[0m\u001b[0;34m\u001b[0m\u001b[0m\n\u001b[1;32m     83\u001b[0m         \u001b[0;31m# Uses https://www.tensorflow.org/api_docs/python/tf/concat\u001b[0m\u001b[0;34m\u001b[0m\u001b[0;34m\u001b[0m\u001b[0;34m\u001b[0m\u001b[0m\n\u001b[0;32m---> 84\u001b[0;31m         \u001b[0mout\u001b[0m \u001b[0;34m=\u001b[0m \u001b[0mtf\u001b[0m\u001b[0;34m.\u001b[0m\u001b[0mconcat\u001b[0m\u001b[0;34m(\u001b[0m\u001b[0;34m[\u001b[0m\u001b[0mdensout\u001b[0m\u001b[0;34m[\u001b[0m\u001b[0;34m:\u001b[0m\u001b[0;34m,\u001b[0m \u001b[0;34m:\u001b[0m\u001b[0;36m29\u001b[0m\u001b[0;34m]\u001b[0m\u001b[0;34m,\u001b[0m \u001b[0mDELQV30\u001b[0m\u001b[0;34m,\u001b[0m \u001b[0mdensout\u001b[0m\u001b[0;34m[\u001b[0m\u001b[0;34m:\u001b[0m\u001b[0;34m,\u001b[0m \u001b[0;36m29\u001b[0m\u001b[0;34m:\u001b[0m\u001b[0;34m]\u001b[0m\u001b[0;34m]\u001b[0m\u001b[0;34m,\u001b[0m \u001b[0;36m1\u001b[0m\u001b[0;34m)\u001b[0m\u001b[0;34m\u001b[0m\u001b[0;34m\u001b[0m\u001b[0m\n\u001b[0m\u001b[1;32m     85\u001b[0m         \u001b[0;32mreturn\u001b[0m \u001b[0mout\u001b[0m\u001b[0;34m\u001b[0m\u001b[0;34m\u001b[0m\u001b[0m\n\u001b[1;32m     86\u001b[0m \u001b[0;34m\u001b[0m\u001b[0m\n",
      "\u001b[0;32m~/miniconda3/lib/python3.6/site-packages/tensorflow/python/ops/array_ops.py\u001b[0m in \u001b[0;36mconcat\u001b[0;34m(values, axis, name)\u001b[0m\n\u001b[1;32m   1122\u001b[0m               tensor_shape.scalar())\n\u001b[1;32m   1123\u001b[0m       \u001b[0;32mreturn\u001b[0m \u001b[0midentity\u001b[0m\u001b[0;34m(\u001b[0m\u001b[0mvalues\u001b[0m\u001b[0;34m[\u001b[0m\u001b[0;36m0\u001b[0m\u001b[0;34m]\u001b[0m\u001b[0;34m,\u001b[0m \u001b[0mname\u001b[0m\u001b[0;34m=\u001b[0m\u001b[0mscope\u001b[0m\u001b[0;34m)\u001b[0m\u001b[0;34m\u001b[0m\u001b[0;34m\u001b[0m\u001b[0m\n\u001b[0;32m-> 1124\u001b[0;31m   \u001b[0;32mreturn\u001b[0m \u001b[0mgen_array_ops\u001b[0m\u001b[0;34m.\u001b[0m\u001b[0mconcat_v2\u001b[0m\u001b[0;34m(\u001b[0m\u001b[0mvalues\u001b[0m\u001b[0;34m=\u001b[0m\u001b[0mvalues\u001b[0m\u001b[0;34m,\u001b[0m \u001b[0maxis\u001b[0m\u001b[0;34m=\u001b[0m\u001b[0maxis\u001b[0m\u001b[0;34m,\u001b[0m \u001b[0mname\u001b[0m\u001b[0;34m=\u001b[0m\u001b[0mname\u001b[0m\u001b[0;34m)\u001b[0m\u001b[0;34m\u001b[0m\u001b[0;34m\u001b[0m\u001b[0m\n\u001b[0m\u001b[1;32m   1125\u001b[0m \u001b[0;34m\u001b[0m\u001b[0m\n\u001b[1;32m   1126\u001b[0m \u001b[0;34m\u001b[0m\u001b[0m\n",
      "\u001b[0;32m~/miniconda3/lib/python3.6/site-packages/tensorflow/python/ops/gen_array_ops.py\u001b[0m in \u001b[0;36mconcat_v2\u001b[0;34m(values, axis, name)\u001b[0m\n\u001b[1;32m   1031\u001b[0m     \u001b[0m_attr_N\u001b[0m \u001b[0;34m=\u001b[0m \u001b[0mlen\u001b[0m\u001b[0;34m(\u001b[0m\u001b[0mvalues\u001b[0m\u001b[0;34m)\u001b[0m\u001b[0;34m\u001b[0m\u001b[0;34m\u001b[0m\u001b[0m\n\u001b[1;32m   1032\u001b[0m     _, _, _op = _op_def_lib._apply_op_helper(\n\u001b[0;32m-> 1033\u001b[0;31m         \"ConcatV2\", values=values, axis=axis, name=name)\n\u001b[0m\u001b[1;32m   1034\u001b[0m     \u001b[0m_result\u001b[0m \u001b[0;34m=\u001b[0m \u001b[0m_op\u001b[0m\u001b[0;34m.\u001b[0m\u001b[0moutputs\u001b[0m\u001b[0;34m[\u001b[0m\u001b[0;34m:\u001b[0m\u001b[0;34m]\u001b[0m\u001b[0;34m\u001b[0m\u001b[0;34m\u001b[0m\u001b[0m\n\u001b[1;32m   1035\u001b[0m     \u001b[0m_inputs_flat\u001b[0m \u001b[0;34m=\u001b[0m \u001b[0m_op\u001b[0m\u001b[0;34m.\u001b[0m\u001b[0minputs\u001b[0m\u001b[0;34m\u001b[0m\u001b[0;34m\u001b[0m\u001b[0m\n",
      "\u001b[0;32m~/miniconda3/lib/python3.6/site-packages/tensorflow/python/framework/op_def_library.py\u001b[0m in \u001b[0;36m_apply_op_helper\u001b[0;34m(self, op_type_name, name, **keywords)\u001b[0m\n\u001b[1;32m    785\u001b[0m         op = g.create_op(op_type_name, inputs, output_types, name=scope,\n\u001b[1;32m    786\u001b[0m                          \u001b[0minput_types\u001b[0m\u001b[0;34m=\u001b[0m\u001b[0minput_types\u001b[0m\u001b[0;34m,\u001b[0m \u001b[0mattrs\u001b[0m\u001b[0;34m=\u001b[0m\u001b[0mattr_protos\u001b[0m\u001b[0;34m,\u001b[0m\u001b[0;34m\u001b[0m\u001b[0;34m\u001b[0m\u001b[0m\n\u001b[0;32m--> 787\u001b[0;31m                          op_def=op_def)\n\u001b[0m\u001b[1;32m    788\u001b[0m       \u001b[0;32mreturn\u001b[0m \u001b[0moutput_structure\u001b[0m\u001b[0;34m,\u001b[0m \u001b[0mop_def\u001b[0m\u001b[0;34m.\u001b[0m\u001b[0mis_stateful\u001b[0m\u001b[0;34m,\u001b[0m \u001b[0mop\u001b[0m\u001b[0;34m\u001b[0m\u001b[0;34m\u001b[0m\u001b[0m\n\u001b[1;32m    789\u001b[0m \u001b[0;34m\u001b[0m\u001b[0m\n",
      "\u001b[0;32m~/miniconda3/lib/python3.6/site-packages/tensorflow/python/util/deprecation.py\u001b[0m in \u001b[0;36mnew_func\u001b[0;34m(*args, **kwargs)\u001b[0m\n\u001b[1;32m    486\u001b[0m                 \u001b[0;34m'in a future version'\u001b[0m \u001b[0;32mif\u001b[0m \u001b[0mdate\u001b[0m \u001b[0;32mis\u001b[0m \u001b[0;32mNone\u001b[0m \u001b[0;32melse\u001b[0m \u001b[0;34m(\u001b[0m\u001b[0;34m'after %s'\u001b[0m \u001b[0;34m%\u001b[0m \u001b[0mdate\u001b[0m\u001b[0;34m)\u001b[0m\u001b[0;34m,\u001b[0m\u001b[0;34m\u001b[0m\u001b[0;34m\u001b[0m\u001b[0m\n\u001b[1;32m    487\u001b[0m                 instructions)\n\u001b[0;32m--> 488\u001b[0;31m       \u001b[0;32mreturn\u001b[0m \u001b[0mfunc\u001b[0m\u001b[0;34m(\u001b[0m\u001b[0;34m*\u001b[0m\u001b[0margs\u001b[0m\u001b[0;34m,\u001b[0m \u001b[0;34m**\u001b[0m\u001b[0mkwargs\u001b[0m\u001b[0;34m)\u001b[0m\u001b[0;34m\u001b[0m\u001b[0;34m\u001b[0m\u001b[0m\n\u001b[0m\u001b[1;32m    489\u001b[0m     return tf_decorator.make_decorator(func, new_func, 'deprecated',\n\u001b[1;32m    490\u001b[0m                                        _add_deprecated_arg_notice_to_docstring(\n",
      "\u001b[0;32m~/miniconda3/lib/python3.6/site-packages/tensorflow/python/framework/ops.py\u001b[0m in \u001b[0;36mcreate_op\u001b[0;34m(***failed resolving arguments***)\u001b[0m\n\u001b[1;32m   3272\u001b[0m           \u001b[0minput_types\u001b[0m\u001b[0;34m=\u001b[0m\u001b[0minput_types\u001b[0m\u001b[0;34m,\u001b[0m\u001b[0;34m\u001b[0m\u001b[0;34m\u001b[0m\u001b[0m\n\u001b[1;32m   3273\u001b[0m           \u001b[0moriginal_op\u001b[0m\u001b[0;34m=\u001b[0m\u001b[0mself\u001b[0m\u001b[0;34m.\u001b[0m\u001b[0m_default_original_op\u001b[0m\u001b[0;34m,\u001b[0m\u001b[0;34m\u001b[0m\u001b[0;34m\u001b[0m\u001b[0m\n\u001b[0;32m-> 3274\u001b[0;31m           op_def=op_def)\n\u001b[0m\u001b[1;32m   3275\u001b[0m       \u001b[0mself\u001b[0m\u001b[0;34m.\u001b[0m\u001b[0m_create_op_helper\u001b[0m\u001b[0;34m(\u001b[0m\u001b[0mret\u001b[0m\u001b[0;34m,\u001b[0m \u001b[0mcompute_device\u001b[0m\u001b[0;34m=\u001b[0m\u001b[0mcompute_device\u001b[0m\u001b[0;34m)\u001b[0m\u001b[0;34m\u001b[0m\u001b[0;34m\u001b[0m\u001b[0m\n\u001b[1;32m   3276\u001b[0m     \u001b[0;32mreturn\u001b[0m \u001b[0mret\u001b[0m\u001b[0;34m\u001b[0m\u001b[0;34m\u001b[0m\u001b[0m\n",
      "\u001b[0;32m~/miniconda3/lib/python3.6/site-packages/tensorflow/python/framework/ops.py\u001b[0m in \u001b[0;36m__init__\u001b[0;34m(self, node_def, g, inputs, output_types, control_inputs, input_types, original_op, op_def)\u001b[0m\n\u001b[1;32m   1790\u001b[0m           op_def, inputs, node_def.attr)\n\u001b[1;32m   1791\u001b[0m       self._c_op = _create_c_op(self._graph, node_def, grouped_inputs,\n\u001b[0;32m-> 1792\u001b[0;31m                                 control_input_ops)\n\u001b[0m\u001b[1;32m   1793\u001b[0m \u001b[0;34m\u001b[0m\u001b[0m\n\u001b[1;32m   1794\u001b[0m     \u001b[0;31m# Initialize self._outputs.\u001b[0m\u001b[0;34m\u001b[0m\u001b[0;34m\u001b[0m\u001b[0;34m\u001b[0m\u001b[0m\n",
      "\u001b[0;32m~/miniconda3/lib/python3.6/site-packages/tensorflow/python/framework/ops.py\u001b[0m in \u001b[0;36m_create_c_op\u001b[0;34m(graph, node_def, inputs, control_inputs)\u001b[0m\n\u001b[1;32m   1629\u001b[0m   \u001b[0;32mexcept\u001b[0m \u001b[0merrors\u001b[0m\u001b[0;34m.\u001b[0m\u001b[0mInvalidArgumentError\u001b[0m \u001b[0;32mas\u001b[0m \u001b[0me\u001b[0m\u001b[0;34m:\u001b[0m\u001b[0;34m\u001b[0m\u001b[0;34m\u001b[0m\u001b[0m\n\u001b[1;32m   1630\u001b[0m     \u001b[0;31m# Convert to ValueError for backwards compatibility.\u001b[0m\u001b[0;34m\u001b[0m\u001b[0;34m\u001b[0m\u001b[0;34m\u001b[0m\u001b[0m\n\u001b[0;32m-> 1631\u001b[0;31m     \u001b[0;32mraise\u001b[0m \u001b[0mValueError\u001b[0m\u001b[0;34m(\u001b[0m\u001b[0mstr\u001b[0m\u001b[0;34m(\u001b[0m\u001b[0me\u001b[0m\u001b[0;34m)\u001b[0m\u001b[0;34m)\u001b[0m\u001b[0;34m\u001b[0m\u001b[0;34m\u001b[0m\u001b[0m\n\u001b[0m\u001b[1;32m   1632\u001b[0m \u001b[0;34m\u001b[0m\u001b[0m\n\u001b[1;32m   1633\u001b[0m   \u001b[0;32mreturn\u001b[0m \u001b[0mc_op\u001b[0m\u001b[0;34m\u001b[0m\u001b[0;34m\u001b[0m\u001b[0m\n",
      "\u001b[0;31mValueError\u001b[0m: Shape must be rank 2 but is rank 1 for 'mass_conservation_layer_13/concat' (op: 'ConcatV2') with input shapes: [?,29], [?], [?,95], []."
     ]
    }
   ],
   "source": [
    "inp = Input(shape=(154,))\n",
    "densout = Dense(124, activation='relu')(inp)\n",
    "for i in range (5):\n",
    "    densout = Dense(124, activation='relu')(densout)\n",
    "massout = MassConservationLayer(\n",
    "    input_shape=(124,), fsub=fsub, fdiv=fdiv, normq=normq,\\\n",
    "    hyai=hyai, hybi=hybi\n",
    ")([inp, densout])\n",
    "out = FMSEConservationLayer(\n",
    "    input_shape=(125,), fsub=fsub, fdiv=fdiv, normq=normq,\\\n",
    "    hyai=hyai, hybi=hybi\n",
    ")([inp, massout])\n",
    "model1 = Model(inputs=inp, outputs=out)"
   ]
  },
  {
   "cell_type": "markdown",
   "metadata": {},
   "source": [
    "#### Final step: Debugging\n",
    "##### Mass conservation layer in Numpy"
   ]
  },
  {
   "cell_type": "code",
   "execution_count": 191,
   "metadata": {},
   "outputs": [
    {
     "name": "stdout",
     "output_type": "stream",
     "text": [
      "dP= [ 277.64523402  512.62555644  839.73696455 1211.38058603 1519.8353678\n",
      " 1745.60062587 1737.79353499 1423.96241426 1675.21685362 1970.80597281\n",
      " 2318.55362654 2727.6545763  3220.26716374 3788.47745763 4456.94763833\n",
      " 5243.36945951 6168.54769163 7256.98174883 8537.46132541 8540.878996\n",
      " 7838.8485304  6614.97182474 4916.34226159 2846.22543225 2670.26341446\n",
      " 2472.67540874 2254.71331084 2017.72199661 1763.55608059 1493.06343056]\n",
      "dP_TILD= [1.         1.00000001 1.00000003 0.99999998 1.00000003 1.00000002\n",
      " 1.00000004 1.00000001 1.00000003 1.00000003 0.99999996 1.00000001\n",
      " 1.00352776 1.00352774 1.00352778 1.00352769 1.00352772 1.00352778\n",
      " 1.00352786 1.00352779 1.00352772 1.00352777 1.00352786 1.00352783\n",
      " 1.00352786 1.00352772 1.00352779 1.0035278  1.00352775 1.00287646]\n",
      "CLDVEC= [ 0.00000000e+00  0.00000000e+00  0.00000000e+00  0.00000000e+00\n",
      "  0.00000000e+00  0.00000000e+00  0.00000000e+00  0.00000000e+00\n",
      "  0.00000000e+00  0.00000000e+00  0.00000000e+00  0.00000000e+00\n",
      "  0.00000000e+00 -3.94776647e-05 -1.73385742e-02 -9.52191707e-02\n",
      " -1.62443771e-01 -1.46844858e-01 -3.28506151e-01 -4.52233337e-02\n",
      " -6.36237768e-05  0.00000000e+00 -2.08681685e-01  1.45416626e+00\n",
      " -2.22411952e+00 -4.63715309e+00 -3.29213028e+00 -1.04031098e+00\n",
      " -1.18968971e+00  1.96839430e+00]\n",
      "CLDINT= -9.965203665095824\n",
      "VAPVEC= [ 0.00000000e+00  0.00000000e+00 -6.20877082e-06  7.42419279e-06\n",
      " -3.62986507e-06 -4.21018266e-07 -1.32664206e-05  1.35010497e-05\n",
      "  8.07660790e-06 -1.01732270e-05  3.20383947e-04 -4.49529098e-04\n",
      " -6.27209624e-04 -2.46157019e-03 -2.22185742e-02  1.23084702e-01\n",
      "  1.18179935e-01 -2.66308751e-01  9.86167356e-01  5.67695306e-01\n",
      " -6.60883014e-01  2.99991304e-01  1.35212252e+00 -5.03804992e+00\n",
      " -1.52145163e+00 -6.80746114e+00 -6.33229953e-02 -7.37885105e+00\n",
      " -2.14279396e+00]\n",
      "VAPINT= -20.45732253609879\n",
      "LHF= 7.3448486\n",
      "PREC= 35.742027\n",
      "E-P= -28.397179\n",
      "E-P-CLDINT-VAPINT= 2.0253475512922705\n",
      "DELQV30= 2.019538422092725\n",
      "(512, 1)\n",
      "(512, 29)\n",
      "(512, 95)\n",
      "[0.00000000e+00 0.00000000e+00 0.00000000e+00 0.00000000e+00\n",
      " 0.00000000e+00 0.00000000e+00 0.00000000e+00 0.00000000e+00\n",
      " 0.00000000e+00 0.00000000e+00 0.00000000e+00 0.00000000e+00\n",
      " 0.00000000e+00 0.00000000e+00 0.00000000e+00 0.00000000e+00\n",
      " 0.00000000e+00 0.00000000e+00 0.00000000e+00 0.00000000e+00\n",
      " 0.00000000e+00 0.00000000e+00 0.00000000e+00 0.00000000e+00\n",
      " 0.00000000e+00 0.00000000e+00 0.00000000e+00 0.00000000e+00\n",
      " 0.00000000e+00 4.13074002e-06 0.00000000e+00 0.00000000e+00\n",
      " 0.00000000e+00 0.00000000e+00 0.00000000e+00 0.00000000e+00\n",
      " 0.00000000e+00 0.00000000e+00 0.00000000e+00 0.00000000e+00\n",
      " 0.00000000e+00 0.00000000e+00 0.00000000e+00 0.00000000e+00\n",
      " 0.00000000e+00 0.00000000e+00 0.00000000e+00 0.00000000e+00\n",
      " 0.00000000e+00 0.00000000e+00 0.00000000e+00 0.00000000e+00\n",
      " 0.00000000e+00 0.00000000e+00 0.00000000e+00 0.00000000e+00\n",
      " 0.00000000e+00 0.00000000e+00 0.00000000e+00 0.00000000e+00\n",
      " 0.00000000e+00 0.00000000e+00 0.00000000e+00 0.00000000e+00\n",
      " 0.00000000e+00 0.00000000e+00 0.00000000e+00 0.00000000e+00\n",
      " 0.00000000e+00 0.00000000e+00 0.00000000e+00 0.00000000e+00\n",
      " 0.00000000e+00 0.00000000e+00 0.00000000e+00 0.00000000e+00\n",
      " 0.00000000e+00 0.00000000e+00 0.00000000e+00 0.00000000e+00\n",
      " 0.00000000e+00 0.00000000e+00 0.00000000e+00 0.00000000e+00\n",
      " 0.00000000e+00 0.00000000e+00 0.00000000e+00 0.00000000e+00\n",
      " 0.00000000e+00 0.00000000e+00 0.00000000e+00 0.00000000e+00\n",
      " 0.00000000e+00 0.00000000e+00 0.00000000e+00 0.00000000e+00\n",
      " 0.00000000e+00 0.00000000e+00 0.00000000e+00 0.00000000e+00\n",
      " 0.00000000e+00 0.00000000e+00 0.00000000e+00 0.00000000e+00\n",
      " 0.00000000e+00 0.00000000e+00 0.00000000e+00 0.00000000e+00\n",
      " 0.00000000e+00 0.00000000e+00 0.00000000e+00 0.00000000e+00\n",
      " 0.00000000e+00 0.00000000e+00 0.00000000e+00 0.00000000e+00\n",
      " 0.00000000e+00 0.00000000e+00 0.00000000e+00]\n"
     ]
    }
   ],
   "source": [
    "import numpy as np\n",
    "import copy\n",
    "x, y = next(gen)\n",
    "inp = copy.copy(x);\n",
    "ycop = copy.copy(y);\n",
    "densout = np.concatenate([ycop[:,:29],ycop[:,30:119],ycop[:,120:]],1)\n",
    "\n",
    "# 0) Constants\n",
    "G = 9.80616; # Reference gravity constant [m.s-2]\n",
    "L_V = 2.501e6; # Latent heat of vaporization of water [W.kg-1]\n",
    "P0 = 1e5; # Reference surface pressure [Pa]\n",
    "ind_test = 59; # Reference index to test        \n",
    "    \n",
    "# 1) Get non-dimensional pressure differences (p_tilde above)\n",
    "# In the input vector, PS is the 151st element after \n",
    "# the first elements = [QBP, ..., VBP with shape 30*5=150]\n",
    "PS = np.add( np.multiply( inp[:,150], fdiv[150]), fsub[150])\n",
    "# Reference for calculation of d_pressure is cbrain/models.py (e.g. QLayer)\n",
    "P = np.add( np.multiply( P0, hyai), \\\n",
    "                        np.multiply( PS[:,None], hybi))\n",
    "dP = np.subtract( P[:, 1:], P[:, :-1])\n",
    "print('dP=',dP[ind_test,:])\n",
    "# norm_output = dp_norm * L_V/G so dp_norm = norm_output * G/L_V\n",
    "dP_NORM = np.divide( \\\n",
    "                  np.multiply(normq[:30], \\\n",
    "                                   G), L_V)\n",
    "        # dp_tilde = dp/dp_norm\n",
    "        # Wondering about broadcasting here...\n",
    "        # tf.div or simply \\ would support broadcasting \n",
    "dP_TILD = np.divide( dP, dP_NORM)\n",
    "print('dP_TILD=',dP_TILD[ind_test,:])\n",
    "        \n",
    "        # 2) Calculate cloud water vertical integral from level 1 to level 30\n",
    "        # The indices are tricky here because we are missing del(q_v)@(level 30)\n",
    "        # so e.g. q_liq@(level 1) is the 30th element of the output of the \n",
    "        # previous dense layer\n",
    "CLDVEC = np.multiply( dP_TILD, \\\n",
    "                                  np.add( densout[:, 29:59], densout[:, 59:89]))\n",
    "print('CLDVEC=',CLDVEC[ind_test,:])\n",
    "CLDINT = np.sum( CLDVEC, axis=1)\n",
    "print('CLDINT=',CLDINT[ind_test])\n",
    "        \n",
    "        # 3) Calculate water vapor vertical integral from level 1 to level 29\n",
    "VAPVEC = np.multiply( dP_TILD[:, :29], \\\n",
    "                                  densout[:, :29])\n",
    "print('VAPVEC=',VAPVEC[ind_test,:])\n",
    "VAPINT = np.sum( VAPVEC, axis=1)\n",
    "print('VAPINT=',VAPINT[ind_test])\n",
    "        \n",
    "        # 4) Calculate forcing on the right-hand side (Net Evaporation-Precipitation)\n",
    "        # E-P is already normalized to units W.m-2 in the output vector\n",
    "        # so all we need to do is input-unnormalize LHF that is taken from the input vector\n",
    "LHF = np.add( np.multiply( inp[:,153], fdiv[153]), fsub[153])\n",
    "SHF = np.add( np.multiply( inp[:,152], fdiv[152]), fsub[152])\n",
    "print('LHF=',LHF[ind_test])\n",
    "        # Note that total precipitation = PRECT + 1e-3*PRECTEND in the CAM model\n",
    "        # PRECTEND already multiplied by 1e-3 in output vector so no need to redo it\n",
    "PREC = np.add( densout[:, 122], densout[:, 123])\n",
    "print('PREC=',PREC[ind_test])\n",
    "print('E-P=',LHF[ind_test]-PREC[ind_test])\n",
    "print('E-P-CLDINT-VAPINT=',LHF[ind_test]-PREC[ind_test]-CLDINT[ind_test]-VAPINT[ind_test])\n",
    "        # 5) Infer water vapor tendency at level 30 as a residual\n",
    "        # Use add_n to be able to add multiple variables\n",
    "# Modification 2 here !!!!!!!!!!!!!!!!!!!!!!!!\n",
    "DELQV30 = np.divide(np.add(np.add(np.add(LHF,np.negative(PREC)),np.negative(CLDINT)),np.negative(VAPINT)), \\\n",
    "                                 dP_TILD[:, 29])\n",
    "# !!!!!!!!!!!!!!!!!!!!!!!!!!\n",
    "print('DELQV30=',DELQV30[ind_test])\n",
    "        \n",
    "        # 6) Concatenate the water tendencies with the newly inferred tendency\n",
    "        # to get the final vector out of shape (#samples,125) with\n",
    "        # [DELQ, DELCLDLIQ, DELCLDICE, \n",
    "        # TPHYSTND\\{TPHYSTND AT SURFACE}, FSNT, FSNS, FLNT, FLNS, PRECT PRECTEND]\n",
    "        # Uses https://www.tensorflow.org/api_docs/python/tf/concat\n",
    "# Modification 1 here!!!!!!!!!!!!!!!!!!!!!\n",
    "DELQV30 = np.expand_dims(DELQV30,1)\n",
    "# !!!!!!!!!!!!!!!!!!!!!!!!!\n",
    "print(a.shape)\n",
    "print(densout[:, :29].shape)\n",
    "print(densout[:, 29:].shape)\n",
    "out = np.concatenate([densout[:, :29], DELQV30, densout[:, 29:]], 1)\n",
    "print(out[5,:119]-y[5,:119]) # Should be 0"
   ]
  },
  {
   "cell_type": "markdown",
   "metadata": {},
   "source": [
    "### 3.1) A simple example"
   ]
  },
  {
   "cell_type": "code",
   "execution_count": 21,
   "metadata": {},
   "outputs": [],
   "source": [
    "inp = Input(shape=(154,))\n",
    "act = Dense(124, activation='relu')(inp)\n",
    "for i in range (7):\n",
    "    act = Dense(124, activation='relu')(act)\n",
    "out = Dense(125)(act)\n",
    "model1 = Model(inputs=inp, outputs=out)"
   ]
  },
  {
   "cell_type": "code",
   "execution_count": 22,
   "metadata": {},
   "outputs": [
    {
     "name": "stdout",
     "output_type": "stream",
     "text": [
      "_________________________________________________________________\n",
      "Layer (type)                 Output Shape              Param #   \n",
      "=================================================================\n",
      "input_1 (InputLayer)         (None, 154)               0         \n",
      "_________________________________________________________________\n",
      "dense_1 (Dense)              (None, 124)               19220     \n",
      "_________________________________________________________________\n",
      "dense_2 (Dense)              (None, 124)               15500     \n",
      "_________________________________________________________________\n",
      "dense_3 (Dense)              (None, 124)               15500     \n",
      "_________________________________________________________________\n",
      "dense_4 (Dense)              (None, 124)               15500     \n",
      "_________________________________________________________________\n",
      "dense_5 (Dense)              (None, 124)               15500     \n",
      "_________________________________________________________________\n",
      "dense_6 (Dense)              (None, 124)               15500     \n",
      "_________________________________________________________________\n",
      "dense_7 (Dense)              (None, 124)               15500     \n",
      "_________________________________________________________________\n",
      "dense_8 (Dense)              (None, 124)               15500     \n",
      "_________________________________________________________________\n",
      "dense_9 (Dense)              (None, 125)               15625     \n",
      "=================================================================\n",
      "Total params: 143,345\n",
      "Trainable params: 143,345\n",
      "Non-trainable params: 0\n",
      "_________________________________________________________________\n"
     ]
    }
   ],
   "source": [
    "model1.summary()"
   ]
  },
  {
   "cell_type": "code",
   "execution_count": 23,
   "metadata": {},
   "outputs": [],
   "source": [
    "model1.compile('adam', loss='mse')"
   ]
  },
  {
   "cell_type": "code",
   "execution_count": 24,
   "metadata": {},
   "outputs": [
    {
     "name": "stdout",
     "output_type": "stream",
     "text": [
      "Epoch 1/10\n",
      "9024/9024 [==============================] - 46s 5ms/step - loss: 302.7223\n",
      "Epoch 2/10\n",
      "9024/9024 [==============================] - 40s 4ms/step - loss: 214.0051\n",
      "Epoch 3/10\n",
      "2746/9024 [========>.....................] - ETA: 27s - loss: 214.7549"
     ]
    },
    {
     "ename": "KeyboardInterrupt",
     "evalue": "",
     "output_type": "error",
     "traceback": [
      "\u001b[0;31m---------------------------------------------------------------------------\u001b[0m",
      "\u001b[0;31mKeyboardInterrupt\u001b[0m                         Traceback (most recent call last)",
      "\u001b[0;32m<ipython-input-24-e9938f4c8c15>\u001b[0m in \u001b[0;36m<module>\u001b[0;34m\u001b[0m\n\u001b[0;32m----> 1\u001b[0;31m \u001b[0mmodel1\u001b[0m\u001b[0;34m.\u001b[0m\u001b[0mfit_generator\u001b[0m\u001b[0;34m(\u001b[0m\u001b[0mgen\u001b[0m\u001b[0;34m,\u001b[0m \u001b[0mtrain_gen_obj\u001b[0m\u001b[0;34m.\u001b[0m\u001b[0mn_batches\u001b[0m\u001b[0;34m,\u001b[0m \u001b[0mepochs\u001b[0m\u001b[0;34m=\u001b[0m\u001b[0;36m10\u001b[0m\u001b[0;34m)\u001b[0m\u001b[0;34m\u001b[0m\u001b[0;34m\u001b[0m\u001b[0m\n\u001b[0m",
      "\u001b[0;32m~/miniconda3/lib/python3.6/site-packages/keras/legacy/interfaces.py\u001b[0m in \u001b[0;36mwrapper\u001b[0;34m(*args, **kwargs)\u001b[0m\n\u001b[1;32m     89\u001b[0m                 warnings.warn('Update your `' + object_name +\n\u001b[1;32m     90\u001b[0m                               '` call to the Keras 2 API: ' + signature, stacklevel=2)\n\u001b[0;32m---> 91\u001b[0;31m             \u001b[0;32mreturn\u001b[0m \u001b[0mfunc\u001b[0m\u001b[0;34m(\u001b[0m\u001b[0;34m*\u001b[0m\u001b[0margs\u001b[0m\u001b[0;34m,\u001b[0m \u001b[0;34m**\u001b[0m\u001b[0mkwargs\u001b[0m\u001b[0;34m)\u001b[0m\u001b[0;34m\u001b[0m\u001b[0;34m\u001b[0m\u001b[0m\n\u001b[0m\u001b[1;32m     92\u001b[0m         \u001b[0mwrapper\u001b[0m\u001b[0;34m.\u001b[0m\u001b[0m_original_function\u001b[0m \u001b[0;34m=\u001b[0m \u001b[0mfunc\u001b[0m\u001b[0;34m\u001b[0m\u001b[0;34m\u001b[0m\u001b[0m\n\u001b[1;32m     93\u001b[0m         \u001b[0;32mreturn\u001b[0m \u001b[0mwrapper\u001b[0m\u001b[0;34m\u001b[0m\u001b[0;34m\u001b[0m\u001b[0m\n",
      "\u001b[0;32m~/miniconda3/lib/python3.6/site-packages/keras/engine/training.py\u001b[0m in \u001b[0;36mfit_generator\u001b[0;34m(self, generator, steps_per_epoch, epochs, verbose, callbacks, validation_data, validation_steps, class_weight, max_queue_size, workers, use_multiprocessing, shuffle, initial_epoch)\u001b[0m\n\u001b[1;32m   2228\u001b[0m                     outs = self.train_on_batch(x, y,\n\u001b[1;32m   2229\u001b[0m                                                \u001b[0msample_weight\u001b[0m\u001b[0;34m=\u001b[0m\u001b[0msample_weight\u001b[0m\u001b[0;34m,\u001b[0m\u001b[0;34m\u001b[0m\u001b[0;34m\u001b[0m\u001b[0m\n\u001b[0;32m-> 2230\u001b[0;31m                                                class_weight=class_weight)\n\u001b[0m\u001b[1;32m   2231\u001b[0m \u001b[0;34m\u001b[0m\u001b[0m\n\u001b[1;32m   2232\u001b[0m                     \u001b[0;32mif\u001b[0m \u001b[0;32mnot\u001b[0m \u001b[0misinstance\u001b[0m\u001b[0;34m(\u001b[0m\u001b[0mouts\u001b[0m\u001b[0;34m,\u001b[0m \u001b[0mlist\u001b[0m\u001b[0;34m)\u001b[0m\u001b[0;34m:\u001b[0m\u001b[0;34m\u001b[0m\u001b[0;34m\u001b[0m\u001b[0m\n",
      "\u001b[0;32m~/miniconda3/lib/python3.6/site-packages/keras/engine/training.py\u001b[0m in \u001b[0;36mtrain_on_batch\u001b[0;34m(self, x, y, sample_weight, class_weight)\u001b[0m\n\u001b[1;32m   1881\u001b[0m             \u001b[0mins\u001b[0m \u001b[0;34m=\u001b[0m \u001b[0mx\u001b[0m \u001b[0;34m+\u001b[0m \u001b[0my\u001b[0m \u001b[0;34m+\u001b[0m \u001b[0msample_weights\u001b[0m\u001b[0;34m\u001b[0m\u001b[0;34m\u001b[0m\u001b[0m\n\u001b[1;32m   1882\u001b[0m         \u001b[0mself\u001b[0m\u001b[0;34m.\u001b[0m\u001b[0m_make_train_function\u001b[0m\u001b[0;34m(\u001b[0m\u001b[0;34m)\u001b[0m\u001b[0;34m\u001b[0m\u001b[0;34m\u001b[0m\u001b[0m\n\u001b[0;32m-> 1883\u001b[0;31m         \u001b[0moutputs\u001b[0m \u001b[0;34m=\u001b[0m \u001b[0mself\u001b[0m\u001b[0;34m.\u001b[0m\u001b[0mtrain_function\u001b[0m\u001b[0;34m(\u001b[0m\u001b[0mins\u001b[0m\u001b[0;34m)\u001b[0m\u001b[0;34m\u001b[0m\u001b[0;34m\u001b[0m\u001b[0m\n\u001b[0m\u001b[1;32m   1884\u001b[0m         \u001b[0;32mif\u001b[0m \u001b[0mlen\u001b[0m\u001b[0;34m(\u001b[0m\u001b[0moutputs\u001b[0m\u001b[0;34m)\u001b[0m \u001b[0;34m==\u001b[0m \u001b[0;36m1\u001b[0m\u001b[0;34m:\u001b[0m\u001b[0;34m\u001b[0m\u001b[0;34m\u001b[0m\u001b[0m\n\u001b[1;32m   1885\u001b[0m             \u001b[0;32mreturn\u001b[0m \u001b[0moutputs\u001b[0m\u001b[0;34m[\u001b[0m\u001b[0;36m0\u001b[0m\u001b[0;34m]\u001b[0m\u001b[0;34m\u001b[0m\u001b[0;34m\u001b[0m\u001b[0m\n",
      "\u001b[0;32m~/miniconda3/lib/python3.6/site-packages/keras/backend/tensorflow_backend.py\u001b[0m in \u001b[0;36m__call__\u001b[0;34m(self, inputs)\u001b[0m\n\u001b[1;32m   2480\u001b[0m         \u001b[0msession\u001b[0m \u001b[0;34m=\u001b[0m \u001b[0mget_session\u001b[0m\u001b[0;34m(\u001b[0m\u001b[0;34m)\u001b[0m\u001b[0;34m\u001b[0m\u001b[0;34m\u001b[0m\u001b[0m\n\u001b[1;32m   2481\u001b[0m         updated = session.run(fetches=fetches, feed_dict=feed_dict,\n\u001b[0;32m-> 2482\u001b[0;31m                               **self.session_kwargs)\n\u001b[0m\u001b[1;32m   2483\u001b[0m         \u001b[0;32mreturn\u001b[0m \u001b[0mupdated\u001b[0m\u001b[0;34m[\u001b[0m\u001b[0;34m:\u001b[0m\u001b[0mlen\u001b[0m\u001b[0;34m(\u001b[0m\u001b[0mself\u001b[0m\u001b[0;34m.\u001b[0m\u001b[0moutputs\u001b[0m\u001b[0;34m)\u001b[0m\u001b[0;34m]\u001b[0m\u001b[0;34m\u001b[0m\u001b[0;34m\u001b[0m\u001b[0m\n\u001b[1;32m   2484\u001b[0m \u001b[0;34m\u001b[0m\u001b[0m\n",
      "\u001b[0;32m~/miniconda3/lib/python3.6/site-packages/tensorflow/python/client/session.py\u001b[0m in \u001b[0;36mrun\u001b[0;34m(self, fetches, feed_dict, options, run_metadata)\u001b[0m\n\u001b[1;32m    927\u001b[0m     \u001b[0;32mtry\u001b[0m\u001b[0;34m:\u001b[0m\u001b[0;34m\u001b[0m\u001b[0;34m\u001b[0m\u001b[0m\n\u001b[1;32m    928\u001b[0m       result = self._run(None, fetches, feed_dict, options_ptr,\n\u001b[0;32m--> 929\u001b[0;31m                          run_metadata_ptr)\n\u001b[0m\u001b[1;32m    930\u001b[0m       \u001b[0;32mif\u001b[0m \u001b[0mrun_metadata\u001b[0m\u001b[0;34m:\u001b[0m\u001b[0;34m\u001b[0m\u001b[0;34m\u001b[0m\u001b[0m\n\u001b[1;32m    931\u001b[0m         \u001b[0mproto_data\u001b[0m \u001b[0;34m=\u001b[0m \u001b[0mtf_session\u001b[0m\u001b[0;34m.\u001b[0m\u001b[0mTF_GetBuffer\u001b[0m\u001b[0;34m(\u001b[0m\u001b[0mrun_metadata_ptr\u001b[0m\u001b[0;34m)\u001b[0m\u001b[0;34m\u001b[0m\u001b[0;34m\u001b[0m\u001b[0m\n",
      "\u001b[0;32m~/miniconda3/lib/python3.6/site-packages/tensorflow/python/client/session.py\u001b[0m in \u001b[0;36m_run\u001b[0;34m(self, handle, fetches, feed_dict, options, run_metadata)\u001b[0m\n\u001b[1;32m   1150\u001b[0m     \u001b[0;32mif\u001b[0m \u001b[0mfinal_fetches\u001b[0m \u001b[0;32mor\u001b[0m \u001b[0mfinal_targets\u001b[0m \u001b[0;32mor\u001b[0m \u001b[0;34m(\u001b[0m\u001b[0mhandle\u001b[0m \u001b[0;32mand\u001b[0m \u001b[0mfeed_dict_tensor\u001b[0m\u001b[0;34m)\u001b[0m\u001b[0;34m:\u001b[0m\u001b[0;34m\u001b[0m\u001b[0;34m\u001b[0m\u001b[0m\n\u001b[1;32m   1151\u001b[0m       results = self._do_run(handle, final_targets, final_fetches,\n\u001b[0;32m-> 1152\u001b[0;31m                              feed_dict_tensor, options, run_metadata)\n\u001b[0m\u001b[1;32m   1153\u001b[0m     \u001b[0;32melse\u001b[0m\u001b[0;34m:\u001b[0m\u001b[0;34m\u001b[0m\u001b[0;34m\u001b[0m\u001b[0m\n\u001b[1;32m   1154\u001b[0m       \u001b[0mresults\u001b[0m \u001b[0;34m=\u001b[0m \u001b[0;34m[\u001b[0m\u001b[0;34m]\u001b[0m\u001b[0;34m\u001b[0m\u001b[0;34m\u001b[0m\u001b[0m\n",
      "\u001b[0;32m~/miniconda3/lib/python3.6/site-packages/tensorflow/python/client/session.py\u001b[0m in \u001b[0;36m_do_run\u001b[0;34m(self, handle, target_list, fetch_list, feed_dict, options, run_metadata)\u001b[0m\n\u001b[1;32m   1326\u001b[0m     \u001b[0;32mif\u001b[0m \u001b[0mhandle\u001b[0m \u001b[0;32mis\u001b[0m \u001b[0;32mNone\u001b[0m\u001b[0;34m:\u001b[0m\u001b[0;34m\u001b[0m\u001b[0;34m\u001b[0m\u001b[0m\n\u001b[1;32m   1327\u001b[0m       return self._do_call(_run_fn, feeds, fetches, targets, options,\n\u001b[0;32m-> 1328\u001b[0;31m                            run_metadata)\n\u001b[0m\u001b[1;32m   1329\u001b[0m     \u001b[0;32melse\u001b[0m\u001b[0;34m:\u001b[0m\u001b[0;34m\u001b[0m\u001b[0;34m\u001b[0m\u001b[0m\n\u001b[1;32m   1330\u001b[0m       \u001b[0;32mreturn\u001b[0m \u001b[0mself\u001b[0m\u001b[0;34m.\u001b[0m\u001b[0m_do_call\u001b[0m\u001b[0;34m(\u001b[0m\u001b[0m_prun_fn\u001b[0m\u001b[0;34m,\u001b[0m \u001b[0mhandle\u001b[0m\u001b[0;34m,\u001b[0m \u001b[0mfeeds\u001b[0m\u001b[0;34m,\u001b[0m \u001b[0mfetches\u001b[0m\u001b[0;34m)\u001b[0m\u001b[0;34m\u001b[0m\u001b[0;34m\u001b[0m\u001b[0m\n",
      "\u001b[0;32m~/miniconda3/lib/python3.6/site-packages/tensorflow/python/client/session.py\u001b[0m in \u001b[0;36m_do_call\u001b[0;34m(self, fn, *args)\u001b[0m\n\u001b[1;32m   1332\u001b[0m   \u001b[0;32mdef\u001b[0m \u001b[0m_do_call\u001b[0m\u001b[0;34m(\u001b[0m\u001b[0mself\u001b[0m\u001b[0;34m,\u001b[0m \u001b[0mfn\u001b[0m\u001b[0;34m,\u001b[0m \u001b[0;34m*\u001b[0m\u001b[0margs\u001b[0m\u001b[0;34m)\u001b[0m\u001b[0;34m:\u001b[0m\u001b[0;34m\u001b[0m\u001b[0;34m\u001b[0m\u001b[0m\n\u001b[1;32m   1333\u001b[0m     \u001b[0;32mtry\u001b[0m\u001b[0;34m:\u001b[0m\u001b[0;34m\u001b[0m\u001b[0;34m\u001b[0m\u001b[0m\n\u001b[0;32m-> 1334\u001b[0;31m       \u001b[0;32mreturn\u001b[0m \u001b[0mfn\u001b[0m\u001b[0;34m(\u001b[0m\u001b[0;34m*\u001b[0m\u001b[0margs\u001b[0m\u001b[0;34m)\u001b[0m\u001b[0;34m\u001b[0m\u001b[0;34m\u001b[0m\u001b[0m\n\u001b[0m\u001b[1;32m   1335\u001b[0m     \u001b[0;32mexcept\u001b[0m \u001b[0merrors\u001b[0m\u001b[0;34m.\u001b[0m\u001b[0mOpError\u001b[0m \u001b[0;32mas\u001b[0m \u001b[0me\u001b[0m\u001b[0;34m:\u001b[0m\u001b[0;34m\u001b[0m\u001b[0;34m\u001b[0m\u001b[0m\n\u001b[1;32m   1336\u001b[0m       \u001b[0mmessage\u001b[0m \u001b[0;34m=\u001b[0m \u001b[0mcompat\u001b[0m\u001b[0;34m.\u001b[0m\u001b[0mas_text\u001b[0m\u001b[0;34m(\u001b[0m\u001b[0me\u001b[0m\u001b[0;34m.\u001b[0m\u001b[0mmessage\u001b[0m\u001b[0;34m)\u001b[0m\u001b[0;34m\u001b[0m\u001b[0;34m\u001b[0m\u001b[0m\n",
      "\u001b[0;32m~/miniconda3/lib/python3.6/site-packages/tensorflow/python/client/session.py\u001b[0m in \u001b[0;36m_run_fn\u001b[0;34m(feed_dict, fetch_list, target_list, options, run_metadata)\u001b[0m\n\u001b[1;32m   1317\u001b[0m       \u001b[0mself\u001b[0m\u001b[0;34m.\u001b[0m\u001b[0m_extend_graph\u001b[0m\u001b[0;34m(\u001b[0m\u001b[0;34m)\u001b[0m\u001b[0;34m\u001b[0m\u001b[0;34m\u001b[0m\u001b[0m\n\u001b[1;32m   1318\u001b[0m       return self._call_tf_sessionrun(\n\u001b[0;32m-> 1319\u001b[0;31m           options, feed_dict, fetch_list, target_list, run_metadata)\n\u001b[0m\u001b[1;32m   1320\u001b[0m \u001b[0;34m\u001b[0m\u001b[0m\n\u001b[1;32m   1321\u001b[0m     \u001b[0;32mdef\u001b[0m \u001b[0m_prun_fn\u001b[0m\u001b[0;34m(\u001b[0m\u001b[0mhandle\u001b[0m\u001b[0;34m,\u001b[0m \u001b[0mfeed_dict\u001b[0m\u001b[0;34m,\u001b[0m \u001b[0mfetch_list\u001b[0m\u001b[0;34m)\u001b[0m\u001b[0;34m:\u001b[0m\u001b[0;34m\u001b[0m\u001b[0;34m\u001b[0m\u001b[0m\n",
      "\u001b[0;32m~/miniconda3/lib/python3.6/site-packages/tensorflow/python/client/session.py\u001b[0m in \u001b[0;36m_call_tf_sessionrun\u001b[0;34m(self, options, feed_dict, fetch_list, target_list, run_metadata)\u001b[0m\n\u001b[1;32m   1405\u001b[0m     return tf_session.TF_SessionRun_wrapper(\n\u001b[1;32m   1406\u001b[0m         \u001b[0mself\u001b[0m\u001b[0;34m.\u001b[0m\u001b[0m_session\u001b[0m\u001b[0;34m,\u001b[0m \u001b[0moptions\u001b[0m\u001b[0;34m,\u001b[0m \u001b[0mfeed_dict\u001b[0m\u001b[0;34m,\u001b[0m \u001b[0mfetch_list\u001b[0m\u001b[0;34m,\u001b[0m \u001b[0mtarget_list\u001b[0m\u001b[0;34m,\u001b[0m\u001b[0;34m\u001b[0m\u001b[0;34m\u001b[0m\u001b[0m\n\u001b[0;32m-> 1407\u001b[0;31m         run_metadata)\n\u001b[0m\u001b[1;32m   1408\u001b[0m \u001b[0;34m\u001b[0m\u001b[0m\n\u001b[1;32m   1409\u001b[0m   \u001b[0;32mdef\u001b[0m \u001b[0m_call_tf_sessionprun\u001b[0m\u001b[0;34m(\u001b[0m\u001b[0mself\u001b[0m\u001b[0;34m,\u001b[0m \u001b[0mhandle\u001b[0m\u001b[0;34m,\u001b[0m \u001b[0mfeed_dict\u001b[0m\u001b[0;34m,\u001b[0m \u001b[0mfetch_list\u001b[0m\u001b[0;34m)\u001b[0m\u001b[0;34m:\u001b[0m\u001b[0;34m\u001b[0m\u001b[0;34m\u001b[0m\u001b[0m\n",
      "\u001b[0;31mKeyboardInterrupt\u001b[0m: "
     ]
    }
   ],
   "source": [
    "model1.fit_generator(gen, train_gen_obj.n_batches, epochs=10)"
   ]
  },
  {
   "cell_type": "code",
   "execution_count": 17,
   "metadata": {},
   "outputs": [],
   "source": [
    "preds = model1.predict_on_batch(x)"
   ]
  },
  {
   "cell_type": "code",
   "execution_count": 18,
   "metadata": {},
   "outputs": [
    {
     "data": {
      "text/plain": [
       "(512, 125)"
      ]
     },
     "execution_count": 18,
     "metadata": {},
     "output_type": "execute_result"
    }
   ],
   "source": [
    "preds.shape"
   ]
  },
  {
   "cell_type": "code",
   "execution_count": 19,
   "metadata": {},
   "outputs": [
    {
     "data": {
      "text/plain": [
       "array([ 0.0000000e+00,  0.0000000e+00,  1.1683633e-04, -1.8150534e-04,\n",
       "        2.8191236e-05, -1.2674624e-04,  3.2557498e-04, -2.3665362e-04,\n",
       "        1.0368231e-04,  4.4764183e-04,  9.7565079e-04,  6.6266386e-03,\n",
       "       -2.4458408e-02,  7.7702858e-02, -7.9534091e-02, -3.0769283e-01,\n",
       "       -2.9614696e-01, -3.2436770e-01, -1.4933038e+01,  1.1325694e+02,\n",
       "        1.1042747e+02, -1.3367409e+02, -9.7812202e+01, -1.2961019e+01,\n",
       "       -2.1165226e+01, -3.0767555e+01, -1.5683941e+01,  6.6389933e+00,\n",
       "       -3.9723598e+01, -5.9443699e+01,  0.0000000e+00,  0.0000000e+00,\n",
       "        0.0000000e+00,  0.0000000e+00,  0.0000000e+00,  0.0000000e+00,\n",
       "        0.0000000e+00,  0.0000000e+00,  0.0000000e+00,  0.0000000e+00,\n",
       "        0.0000000e+00,  0.0000000e+00,  0.0000000e+00,  0.0000000e+00,\n",
       "        0.0000000e+00,  0.0000000e+00,  0.0000000e+00,  0.0000000e+00,\n",
       "        0.0000000e+00,  2.3594544e+00,  6.4320625e+01, -2.1832945e+01,\n",
       "       -4.4953237e+00,  2.9705560e+00, -4.5950494e+00, -4.7523217e+00,\n",
       "       -2.3259480e+00,  0.0000000e+00,  0.0000000e+00,  0.0000000e+00,\n",
       "        0.0000000e+00,  0.0000000e+00,  0.0000000e+00,  0.0000000e+00,\n",
       "        0.0000000e+00,  0.0000000e+00,  0.0000000e+00,  0.0000000e+00,\n",
       "        0.0000000e+00,  0.0000000e+00,  0.0000000e+00,  0.0000000e+00,\n",
       "        0.0000000e+00,  0.0000000e+00,  0.0000000e+00,  0.0000000e+00,\n",
       "        0.0000000e+00,  0.0000000e+00,  0.0000000e+00,  6.7914357e+00,\n",
       "       -9.1242599e-01,  0.0000000e+00,  0.0000000e+00,  0.0000000e+00,\n",
       "        0.0000000e+00,  0.0000000e+00,  0.0000000e+00,  0.0000000e+00,\n",
       "        0.0000000e+00,  0.0000000e+00,  2.2326913e+00,  2.9884062e+00,\n",
       "       -1.8307689e+00,  1.0012641e+01,  2.5623555e+00,  1.5332817e+00,\n",
       "        6.9164151e-01,  1.0984515e+00, -3.7742987e-01,  8.3896631e-01,\n",
       "        9.7346652e-01, -2.2580650e+00,  1.6124072e+00, -6.2127047e+00,\n",
       "        4.7848113e-02, -3.7017672e+00, -8.1943054e+00, -8.1561766e+00,\n",
       "       -1.0749043e+01, -2.3681652e+01,  1.1091612e+02,  1.3565686e+02,\n",
       "        8.6316261e+01,  1.8346081e+01,  1.0180499e+01,  1.3182677e+01,\n",
       "        1.2943122e+01,  1.5314125e+01,  1.7463171e+01,  5.1009412e+00,\n",
       "        7.9701630e+02,  5.8561182e+02,  2.6385580e+02,  7.4926163e+01,\n",
       "        2.2884337e+02], dtype=float32)"
      ]
     },
     "execution_count": 19,
     "metadata": {},
     "output_type": "execute_result"
    },
    {
     "data": {
      "image/png": "[encoded data removed]",
      "text/plain": [
       "<Figure size 432x288 with 1 Axes>"
      ]
     },
     "metadata": {
      "needs_background": "light"
     },
     "output_type": "display_data"
    }
   ],
   "source": [
    "plt.plot(preds[413])\n",
    "plt.plot(y[413])\n",
    "plt.legend(['predicted','truth'])\n",
    "y[413,]\n",
    "#plt.axis([0,50,-50,20])"
   ]
  },
  {
   "cell_type": "markdown",
   "metadata": {},
   "source": [
    "### 3.2) Implement energy conservation layer: First attempt focused on positivity\n",
    "tgb - 1/18/2019 - The hard constraint on q made the optimization problem much much harder \n",
    "Two conclusions are: (1) Try to keep it soft constraints for optimization\n",
    "(2) Maybe predict delta(after-before) physics to avoid getting too different values in the vectors\n",
    "#### Step 0: Load input's normalization separately"
   ]
  },
  {
   "cell_type": "code",
   "execution_count": 17,
   "metadata": {},
   "outputs": [
    {
     "data": {
      "text/plain": [
       "<xarray.Dataset>\n",
       "Dimensions:              (feature_lev: 154, target_lev: 125)\n",
       "Coordinates:\n",
       "  * feature_lev          (feature_lev) int64 0 1 2 3 4 5 ... 149 150 151 152 153\n",
       "  * target_lev           (target_lev) int64 0 1 2 3 4 5 ... 120 121 122 123 124\n",
       "Data variables:\n",
       "    feature_means        (feature_lev) float32 ...\n",
       "    feature_stds         (feature_lev) float32 ...\n",
       "    feature_mins         (feature_lev) float32 ...\n",
       "    feature_maxs         (feature_lev) float32 ...\n",
       "    target_means         (target_lev) float32 ...\n",
       "    target_stds          (target_lev) float32 ...\n",
       "    target_mins          (target_lev) float32 ...\n",
       "    target_maxs          (target_lev) float32 ...\n",
       "    feature_names        (feature_lev) object ...\n",
       "    target_names         (target_lev) object ...\n",
       "    feature_stds_by_var  (feature_lev) float32 ...\n",
       "    target_conv          (target_lev) float32 ..."
      ]
     },
     "execution_count": 17,
     "metadata": {},
     "output_type": "execute_result"
    }
   ],
   "source": [
    "ds = xr.open_dataset(TRAINDIR + '32_col_mp_3d_train_norm.nc')\n",
    "ds"
   ]
  },
  {
   "cell_type": "code",
   "execution_count": 18,
   "metadata": {},
   "outputs": [
    {
     "name": "stdout",
     "output_type": "stream",
     "text": [
      "(154,)\n",
      "(154,)\n",
      "(125,)\n"
     ]
    }
   ],
   "source": [
    "fsub = ds.feature_means.values\n",
    "fdiv = ds.feature_stds_by_var.values\n",
    "normq = ds.target_conv.values\n",
    "print(fsub.shape)\n",
    "print(fdiv.shape)\n",
    "print(normq.shape)"
   ]
  },
  {
   "cell_type": "code",
   "execution_count": 19,
   "metadata": {},
   "outputs": [],
   "source": [
    "ds.close()"
   ]
  },
  {
   "cell_type": "markdown",
   "metadata": {},
   "source": [
    "#### Step 1: Test the physical constraint layer in Numpy for basic debugging"
   ]
  },
  {
   "cell_type": "code",
   "execution_count": 63,
   "metadata": {},
   "outputs": [
    {
     "name": "stdout",
     "output_type": "stream",
     "text": [
      "[[[0.9818167  0.09225867 0.2593662  0.0859784 ]\n",
      "  [0.27363139 0.09240143 0.50830887 0.43835565]\n",
      "  [0.17405033 0.17480789 0.62610907 0.38712134]]\n",
      "\n",
      " [[0.05619494 0.9201926  0.40495249 0.59104755]\n",
      "  [0.88541195 0.402159   0.82066004 0.91475222]\n",
      "  [0.17406738 0.89249246 0.11983245 0.27512741]]\n",
      "\n",
      " [[0.80821145 0.90068455 0.68413879 0.10482585]\n",
      "  [0.52299228 0.57263411 0.28185973 0.99129581]\n",
      "  [0.33562796 0.21025477 0.11013603 0.37850126]]\n",
      "\n",
      " [[0.69261869 0.23141709 0.76954422 0.13540127]\n",
      "  [0.44046793 0.70237374 0.1353094  0.59784221]\n",
      "  [0.79895251 0.5955489  0.51146392 0.83829955]]\n",
      "\n",
      " [[0.98542035 0.18131295 0.69134634 0.08065755]\n",
      "  [0.04284102 0.28081897 0.97091979 0.55219565]\n",
      "  [0.26827134 0.1325861  0.9201834  0.36236658]]\n",
      "\n",
      " [[0.30669727 0.85796343 0.60440283 0.16863611]\n",
      "  [0.42151053 0.92823107 0.90120357 0.07010979]\n",
      "  [0.26861319 0.1545394  0.53381171 0.74998332]]]\n",
      "[[1.42949843 0.359468   1.39378414 0.91145539]\n",
      " [1.11567427 2.21484406 1.34544497 1.78092719]\n",
      " [1.66683168 1.68357343 1.07613455 1.47462292]\n",
      " [1.93203914 1.52933973 1.41631754 1.57154303]\n",
      " [1.29653272 0.59471802 2.58244953 0.99521979]\n",
      " [0.99682099 1.9407339  2.03941812 0.98872922]]\n"
     ]
    }
   ],
   "source": [
    "import numpy as np\n",
    "a = np.random.rand(6,3,4)\n",
    "print(a)\n",
    "b = np.sum(a,axis=1)\n",
    "print(b)"
   ]
  },
  {
   "cell_type": "code",
   "execution_count": 24,
   "metadata": {},
   "outputs": [],
   "source": [
    "import numpy as np\n",
    "def safe_softplus(x, limit=30):\n",
    "  if x>limit:\n",
    "    return x\n",
    "  else:\n",
    "    return np.log(1.0 + np.exp(x))"
   ]
  },
  {
   "cell_type": "code",
   "execution_count": 25,
   "metadata": {},
   "outputs": [
    {
     "ename": "NameError",
     "evalue": "name 'qap' is not defined",
     "output_type": "error",
     "traceback": [
      "\u001b[0;31m---------------------------------------------------------------------------\u001b[0m",
      "\u001b[0;31mNameError\u001b[0m                                 Traceback (most recent call last)",
      "\u001b[0;32m<ipython-input-25-71007347a76f>\u001b[0m in \u001b[0;36m<module>\u001b[0;34m\u001b[0m\n\u001b[0;32m----> 1\u001b[0;31m \u001b[0mprint\u001b[0m\u001b[0;34m(\u001b[0m\u001b[0mqap\u001b[0m\u001b[0;34m.\u001b[0m\u001b[0mshape\u001b[0m\u001b[0;34m)\u001b[0m\u001b[0;34m\u001b[0m\u001b[0;34m\u001b[0m\u001b[0m\n\u001b[0m\u001b[1;32m      2\u001b[0m \u001b[0mprint\u001b[0m\u001b[0;34m(\u001b[0m\u001b[0mfsub\u001b[0m\u001b[0;34m.\u001b[0m\u001b[0mshape\u001b[0m\u001b[0;34m)\u001b[0m\u001b[0;34m\u001b[0m\u001b[0;34m\u001b[0m\u001b[0m\n",
      "\u001b[0;31mNameError\u001b[0m: name 'qap' is not defined"
     ]
    }
   ],
   "source": [
    "print(qap.shape)\n",
    "print(fsub.shape)"
   ]
  },
  {
   "cell_type": "code",
   "execution_count": 100,
   "metadata": {},
   "outputs": [
    {
     "name": "stdout",
     "output_type": "stream",
     "text": [
      "[1.8890089e-06 1.8709759e-06 1.7035223e-06 1.7005252e-06 1.6415983e-06\n",
      " 1.5045957e-06 1.4606607e-06 1.4591218e-06 1.4598600e-06 1.4735780e-06\n",
      " 1.5066166e-06 1.5988817e-06 2.0526277e-06 4.9225710e-06 1.0806412e-05\n",
      " 2.0793159e-05 5.1943964e-05 1.3326522e-04 2.4402043e-04 3.3523864e-04\n",
      " 6.6088326e-04 1.1144076e-03 1.5189773e-03 1.8160637e-03 2.0421566e-03\n",
      " 2.2358480e-03 2.4027592e-03 2.5413563e-03 2.7411170e-03 2.9877913e-03\n",
      " 0.0000000e+00 0.0000000e+00 0.0000000e+00 0.0000000e+00 0.0000000e+00\n",
      " 0.0000000e+00 0.0000000e+00 0.0000000e+00 0.0000000e+00 0.0000000e+00\n",
      " 0.0000000e+00 0.0000000e+00 0.0000000e+00 0.0000000e+00 0.0000000e+00\n",
      " 1.7347235e-18 0.0000000e+00 0.0000000e+00 2.2737368e-13 0.0000000e+00\n",
      " 0.0000000e+00 9.0949470e-13 9.5405994e-09 4.6377809e-06 1.5204386e-05\n",
      " 1.5759480e-05 4.7640169e-06 1.4436255e-06 1.9511208e-07 5.5640478e-05\n",
      " 1.2481135e-09 1.0923745e-09 6.6391337e-14 0.0000000e+00 0.0000000e+00\n",
      " 0.0000000e+00 0.0000000e+00 0.0000000e+00 0.0000000e+00 0.0000000e+00\n",
      " 0.0000000e+00 0.0000000e+00 0.0000000e+00 0.0000000e+00 0.0000000e+00\n",
      " 0.0000000e+00 1.0792442e-06 2.3847208e-06 2.8053364e-07 4.9385562e-10\n",
      " 3.5487983e-07 5.8079468e-07 2.8306499e-06 1.6917746e-05 1.9704165e-05\n",
      " 1.1375946e-05 1.6043600e-06 1.7757384e-07 2.1891026e-08 6.0673920e-06]\n"
     ]
    },
    {
     "data": {
      "text/plain": [
       "array([7.4313283e-02, 1.3589725e-01, 2.0269047e-01, 2.9188102e-01,\n",
       "       3.5351321e-01, 3.7214047e-01, 3.5965800e-01, 2.9439625e-01,\n",
       "       3.4651691e-01, 4.1148993e-01, 4.9495089e-01, 6.1794227e-01,\n",
       "       9.3328631e-01, 2.6331131e+00, 6.8003597e+00, 1.5393726e+01,\n",
       "       4.5240860e+01, 1.3654811e+02, 2.9414923e+02, 4.0426810e+02,\n",
       "       7.3145874e+02, 1.0408422e+03, 1.0544020e+03, 7.2981561e+02,\n",
       "       7.6993835e+02, 7.8058862e+02, 7.6491705e+02, 7.2400189e+02,\n",
       "       6.8254248e+02, 6.3026514e+02, 0.0000000e+00, 0.0000000e+00,\n",
       "       0.0000000e+00, 0.0000000e+00, 0.0000000e+00, 0.0000000e+00,\n",
       "       0.0000000e+00, 0.0000000e+00, 0.0000000e+00, 0.0000000e+00,\n",
       "       0.0000000e+00, 0.0000000e+00, 0.0000000e+00, 0.0000000e+00,\n",
       "       0.0000000e+00, 1.2842618e-12, 0.0000000e+00, 0.0000000e+00,\n",
       "       2.7408277e-07, 0.0000000e+00, 0.0000000e+00, 8.4945623e-07,\n",
       "       6.6226311e-03, 1.8637701e+00, 5.7323909e+00, 5.5020161e+00,\n",
       "       1.5166223e+00, 4.1127157e-01, 4.8583217e-02, 1.1737184e+01,\n",
       "       4.9100567e-05, 7.9343990e-05, 7.8994509e-09, 0.0000000e+00,\n",
       "       0.0000000e+00, 0.0000000e+00, 0.0000000e+00, 0.0000000e+00,\n",
       "       0.0000000e+00, 0.0000000e+00, 0.0000000e+00, 0.0000000e+00,\n",
       "       0.0000000e+00, 0.0000000e+00, 0.0000000e+00, 0.0000000e+00,\n",
       "       9.3997324e-01, 2.4434664e+00, 3.3816332e-01, 5.9554609e-04,\n",
       "       3.9277732e-01, 5.4245466e-01, 1.9649028e+00, 6.7986798e+00,\n",
       "       7.4289074e+00, 3.9716182e+00, 5.1074719e-01, 5.0588656e-02,\n",
       "       5.4508997e-03, 1.2798972e+00], dtype=float32)"
      ]
     },
     "execution_count": 100,
     "metadata": {},
     "output_type": "execute_result"
    }
   ],
   "source": [
    "x, y = next(gen) # (Input,Output) pair retrieved iteratively from the generator\n",
    "testinp = x; testdensout = y;  # The output of the densely connected layer,\n",
    "# which is the input for the physical constraints layer, has shape (125,)=y.shape\n",
    "qbp = np.add(np.multiply(testinp[:,:90],fdiv[:90,]),fsub[:90,])\n",
    "index = 5\n",
    "print(qbp[index,:])\n",
    "# Bound on dq/dt\n",
    "np.multiply(normq[:90,],qbp[index,:])/1800"
   ]
  },
  {
   "cell_type": "code",
   "execution_count": 109,
   "metadata": {},
   "outputs": [
    {
     "name": "stdout",
     "output_type": "stream",
     "text": [
      "[[ 0.00000000e+00  0.00000000e+00 -3.52463167e-06 ...  7.14828730e-01\n",
      "  -1.94745120e-02 -5.09016812e-01]\n",
      " [ 0.00000000e+00  0.00000000e+00 -3.91810636e-06 ... -8.12336057e-02\n",
      "   1.09404393e-01 -2.64686853e-01]\n",
      " [ 0.00000000e+00  0.00000000e+00 -3.83413817e-06 ...  2.25569099e-01\n",
      "  -5.04336655e-02 -1.75489992e-01]\n",
      " ...\n",
      " [ 0.00000000e+00  0.00000000e+00 -4.57383749e-06 ...  4.15254906e-02\n",
      "   3.08697671e-01 -1.18188016e-01]\n",
      " [ 0.00000000e+00  0.00000000e+00 -5.56462510e-06 ...  8.04110393e-02\n",
      "  -4.38176608e-03  3.40724625e-02]\n",
      " [ 0.00000000e+00  0.00000000e+00 -5.02103740e-06 ... -5.38274534e-02\n",
      "  -2.09472924e-01 -1.75753996e-01]]\n",
      "[ 0.0000000e+00  0.0000000e+00 -3.1418069e-06 -3.6398256e-07\n",
      "  3.0054719e-06 -1.6221151e-05  8.7531935e-06  1.2292489e-05\n",
      "  1.0967176e-05 -6.3576708e-06  3.7818052e-07 -2.8339788e-04\n",
      " -1.0227459e-03 -2.1273026e-03 -3.6572393e-02  2.8603417e-03\n",
      " -2.7998945e-01 -4.5961341e-01  9.0005070e-01  6.8134266e-01\n",
      " -8.2287771e-01  2.3013981e-01  2.4323208e+00 -8.4881544e-01\n",
      " -2.9298425e+00 -4.2743530e+00 -6.0948601e+00 -3.7398868e+00\n",
      " -7.9316592e+00  2.2475309e+00  0.0000000e+00  0.0000000e+00\n",
      "  0.0000000e+00  0.0000000e+00  0.0000000e+00  0.0000000e+00\n",
      "  0.0000000e+00  0.0000000e+00  0.0000000e+00  0.0000000e+00\n",
      "  0.0000000e+00  0.0000000e+00  0.0000000e+00  0.0000000e+00\n",
      "  0.0000000e+00  0.0000000e+00  0.0000000e+00  0.0000000e+00\n",
      "  0.0000000e+00  0.0000000e+00  0.0000000e+00  0.0000000e+00\n",
      " -6.6228681e-03  2.7891830e-01 -2.1353826e-01 -3.2629719e-01\n",
      "  1.7228601e+00  2.1396577e+00  2.6639417e-01  1.4741515e-01\n",
      "  0.0000000e+00  0.0000000e+00 -7.9088540e-09  0.0000000e+00\n",
      "  0.0000000e+00  0.0000000e+00  0.0000000e+00  0.0000000e+00\n",
      "  0.0000000e+00  0.0000000e+00  0.0000000e+00  0.0000000e+00\n",
      "  0.0000000e+00  0.0000000e+00  0.0000000e+00  0.0000000e+00\n",
      "  2.2770013e-01 -3.7225777e-01 -7.2824322e-02  1.2946053e-05\n",
      " -3.2056555e-01 -3.0137960e-02 -1.0958794e+00  4.8559111e-01\n",
      "  1.8252365e-01 -2.3702376e-01  5.0828320e-01  2.0182897e-01\n",
      " -5.4508969e-03 -2.7768889e-02]\n",
      "[[0.6931472  0.6931472  0.6931454  ... 1.1131188  0.6834573  0.47068232]\n",
      " [0.6931472  0.6931472  0.6931452  ... 0.653355   0.7493448  0.5695357 ]\n",
      " [0.6931472  0.6931472  0.6931453  ... 0.8122785  0.66824824 0.60924685]\n",
      " ...\n",
      " [0.6931472  0.6931472  0.69314486 ... 0.71412545 0.85936075 0.6357982 ]\n",
      " [0.6931472  0.6931472  0.6931444  ... 0.7341607  0.6909587  0.7103285 ]\n",
      " [0.6931472  0.6931472  0.6931447  ... 0.6665956  0.5938856  0.6091264 ]] (512, 90)\n"
     ]
    }
   ],
   "source": [
    "# SOFTPLUS\n",
    "import copy\n",
    "qap = copy.copy(testdensout[:,:90])\n",
    "print(qap)\n",
    "print(qap[5,:])\n",
    "for i in range(qap.shape[0]):\n",
    "    for j in range (qap.shape[1]):\n",
    "        qap[i,j] = safe_softplus(qap[i,j])\n",
    "print(qap,qap.shape)          \n"
   ]
  },
  {
   "cell_type": "markdown",
   "metadata": {},
   "source": [
    "#### Step 2: Rigorously implement the physical constraint layer in tensorflow"
   ]
  },
  {
   "cell_type": "code",
   "execution_count": 143,
   "metadata": {},
   "outputs": [],
   "source": [
    "class PositiveConstraintLayer(Layer):\n",
    "    \n",
    "    def __init__(self, **kwargs):\n",
    "        super().__init__(**kwargs)\n",
    "        \n",
    "    def build(self, input_shape):\n",
    "        super().build(input_shape)  # Be sure to call this somewhere!\n",
    "        \n",
    "    def call(self, inp):\n",
    "        # inputs will be [n_samples, 125 = 30*4+5] with \n",
    "        # [PHQ, PHCLDLIQ, PHCLDICE, TPHYSTND, FSNT, FSNS, FLNT, FLNS, PRECT]\n",
    "        \n",
    "        # SOFTPLUS PART\n",
    "        qap = inp[:, :90]\n",
    "        remain = inp[:, 90:]\n",
    "        # softplus on x_q\n",
    "        qap = K.softplus(qap)\n",
    "        \n",
    "        # Concat out\n",
    "        out = K.concatenate([qap, remain])\n",
    "        \n",
    "        return out\n",
    "    \n",
    "    def compute_output_shape(self, input_shape):\n",
    "        return input_shape"
   ]
  },
  {
   "cell_type": "code",
   "execution_count": 144,
   "metadata": {},
   "outputs": [],
   "source": [
    "class CloudTendencyLayer(Layer):\n",
    "    \n",
    "    def __init__(self, fsub, fdiv, normq, dt=30*60, **kwargs):\n",
    "        self.fsub = fsub \n",
    "        self.fdiv = fdiv\n",
    "        self.normq = normq\n",
    "        self.dt = dt\n",
    "        super().__init__(**kwargs)\n",
    "        \n",
    "    def build(self, input_shape):\n",
    "        super().build(input_shape)  # Be sure to call this somewhere!\n",
    "        \n",
    "    def call(self, arrs):\n",
    "        # arrs (for arrays) is a list with \n",
    "        # [inputs and the output of the previous layer]\n",
    "        # inputs will be [n_sample, 154 = 30*5+4] with\n",
    "        # [QBP, QCBP, QIBP, TBP, VBP, PS, SOLIN, SHFLX, LHFLX]\n",
    "        # outputs will be [n_samples, 125 = 30*4+5] with \n",
    "        # [PHQ, PHCLDLIQ, PHCLDICE, TPHYSTND, FSNT, FSNS, FLNT, FLNS, PRECT]\n",
    "        \n",
    "        # Split between the inputs inp & the output of the densely connected\n",
    "        # neural network, densout\n",
    "        inp, densout = arrs\n",
    "        \n",
    "        # Identify qap and rest of vector\n",
    "        qap = densout[:, :90]\n",
    "        remain = densout[:, 90:]\n",
    "        \n",
    "        # OPTION 1\n",
    "        # 1) Unnormalize qbp\n",
    "        qbp = inp[:, :90]\n",
    "        qbp = tf.math.add(tf.math.multiply(qbp,self.fdiv[:90,]),self.fsub[:90,])\n",
    "        # 2) Calculate temporal difference\n",
    "        diff = tf.math.divide(tf.math.subtract(qap,qbp),self.dt)\n",
    "        # 3) Normalize the temporal difference according to output's normalization\n",
    "        diff = tf.math.multiply(diff,self.normq[:90,])\n",
    "        \n",
    "        # Concat out\n",
    "        out = K.concatenate([diff, remain])\n",
    "        \n",
    "        return out\n",
    "    \n",
    "    def compute_output_shape(self, input_shape):\n",
    "        return input_shape[1]"
   ]
  },
  {
   "cell_type": "code",
   "execution_count": 60,
   "metadata": {},
   "outputs": [],
   "source": [
    "class PhysicalConstraintLayer(Layer):\n",
    "    \n",
    "    def __init__(self, fsub, fdiv, normq, dt=30*60, **kwargs):\n",
    "        self.fsub = fsub \n",
    "        self.fdiv = fdiv\n",
    "        self.normq = normq\n",
    "        self.dt = dt\n",
    "        super().__init__(**kwargs)\n",
    "        \n",
    "    def build(self, input_shape):\n",
    "        super().build(input_shape)  # Be sure to call this somewhere!\n",
    "        \n",
    "    def call(self, arrs):\n",
    "        # arrs (for arrays) is a list with \n",
    "        # [inputs and the output of the previous layer]\n",
    "        # inputs will be [n_sample, 154 = 30*5+4] with\n",
    "        # [QBP, QCBP, QIBP, TBP, VBP, PS, SOLIN, SHFLX, LHFLX]\n",
    "        # outputs will be [n_samples, 125 = 30*4+5] with \n",
    "        # [PHQ, PHCLDLIQ, PHCLDICE, TPHYSTND, FSNT, FSNS, FLNT, FLNS, PRECT]\n",
    "        \n",
    "        # Split between the inputs inp & the output of the densely connected\n",
    "        # neural network, densout\n",
    "        inp, densout = arrs\n",
    "        \n",
    "        # SOFTPLUS PART\n",
    "        qap = densout[:, :90]\n",
    "        remain = densout[:, 90:]\n",
    "        # softplus on x_q, then multiply by 10^-3 for order of magnitude\n",
    "        qap = tf.math.multiply(1e-3,K.relu(qap))\n",
    "        \n",
    "        # FROM Q TO DQ/DT\n",
    "        # OPTION 1\n",
    "        # 1) Unnormalize qbp\n",
    "        qbp = inp[:, :90]\n",
    "        qbp = tf.math.add(tf.math.multiply(qbp,self.fdiv[:90,]),self.fsub[:90,])\n",
    "        # 2) Calculate temporal difference\n",
    "        diff = tf.math.divide(tf.math.subtract(qap,qbp),self.dt)\n",
    "        # 3) Normalize the temporal difference according to output's normalization\n",
    "        diff = tf.math.multiply(diff,self.normq[:90,])\n",
    "        \n",
    "        # OPTION 2\n",
    "        # 1) Normalize qap\n",
    "        #qap = tf.math.divide(tf.math.subtract(qap,self.fsub[:90,]),self.fdiv[:90,])\n",
    "        # 2) Calculate temporal difference\n",
    "        #qbp = inp[:, :90]\n",
    "        #diff = tf.math.divide(tf.math.subtract(qap,qbp),self.dt)\n",
    "        # 3) Unnormalize dq/dt\n",
    "        #diff = tf.math.multiply(diff,self.fdiv[:90,])\n",
    "        # 4) Normalize the temporal difference according to output's normalization\n",
    "        #diff = tf.math.multiply(diff,self.normq[:90,])\n",
    "        \n",
    "        # Concat out\n",
    "        out = K.concatenate([diff, remain])\n",
    "        \n",
    "        return out\n",
    "    \n",
    "    def compute_output_shape(self, input_shape):\n",
    "        return input_shape[1]"
   ]
  },
  {
   "cell_type": "code",
   "execution_count": 61,
   "metadata": {},
   "outputs": [],
   "source": [
    "inp = Input(shape=(154,))\n",
    "densout = Dense(256, activation='relu')(inp)\n",
    "for i in range(4):\n",
    "    densout = Dense(256, activation='relu')(densout)\n",
    "densout = Dense(125, activation='relu')(densout)\n",
    "out = PhysicalConstraintLayer(\n",
    "    input_shape=(125,), fsub=fsub, fdiv=fdiv, normq=normq\n",
    ")([inp, densout])\n",
    "m = Model(inputs=inp, outputs=out)"
   ]
  },
  {
   "cell_type": "code",
   "execution_count": 146,
   "metadata": {},
   "outputs": [],
   "source": [
    "inp = Input(shape=(154,))\n",
    "densout = Dense(256, activation='relu')(inp)\n",
    "for i in range(4):\n",
    "    densout = Dense(256, activation='relu')(densout)\n",
    "densout = Dense(125, activation='relu')(densout)\n",
    "densout = PositiveConstraintLayer(\n",
    "    input_shape=(125,)\n",
    ")(densout)\n",
    "out = CloudTendencyLayer(\n",
    "    input_shape=(125,), fsub=fsub, fdiv=fdiv, normq=normq\n",
    ")([inp, densout])\n",
    "m = Model(inputs=inp, outputs=out)"
   ]
  },
  {
   "cell_type": "code",
   "execution_count": 64,
   "metadata": {},
   "outputs": [],
   "source": [
    "m.compile('adam', 'mse')"
   ]
  },
  {
   "cell_type": "code",
   "execution_count": 65,
   "metadata": {
    "scrolled": true
   },
   "outputs": [
    {
     "name": "stdout",
     "output_type": "stream",
     "text": [
      "__________________________________________________________________________________________________\n",
      "Layer (type)                    Output Shape         Param #     Connected to                     \n",
      "==================================================================================================\n",
      "input_8 (InputLayer)            (None, 154)          0                                            \n",
      "__________________________________________________________________________________________________\n",
      "dense_43 (Dense)                (None, 256)          39680       input_8[0][0]                    \n",
      "__________________________________________________________________________________________________\n",
      "dense_44 (Dense)                (None, 256)          65792       dense_43[0][0]                   \n",
      "__________________________________________________________________________________________________\n",
      "dense_45 (Dense)                (None, 256)          65792       dense_44[0][0]                   \n",
      "__________________________________________________________________________________________________\n",
      "dense_46 (Dense)                (None, 256)          65792       dense_45[0][0]                   \n",
      "__________________________________________________________________________________________________\n",
      "dense_47 (Dense)                (None, 256)          65792       dense_46[0][0]                   \n",
      "__________________________________________________________________________________________________\n",
      "dense_48 (Dense)                (None, 125)          32125       dense_47[0][0]                   \n",
      "__________________________________________________________________________________________________\n",
      "physical_constraint_layer_8 (Ph (None, 125)          0           input_8[0][0]                    \n",
      "                                                                 dense_48[0][0]                   \n",
      "==================================================================================================\n",
      "Total params: 334,973\n",
      "Trainable params: 334,973\n",
      "Non-trainable params: 0\n",
      "__________________________________________________________________________________________________\n"
     ]
    }
   ],
   "source": [
    "m.summary()"
   ]
  },
  {
   "cell_type": "code",
   "execution_count": 75,
   "metadata": {},
   "outputs": [
    {
     "name": "stdout",
     "output_type": "stream",
     "text": [
      "Epoch 1/18\n",
      "9024/9024 [==============================] - 32s 4ms/step - loss: 955.1480\n",
      "Epoch 2/18\n",
      "9024/9024 [==============================] - 32s 4ms/step - loss: 901.2071\n",
      "Epoch 3/18\n",
      "9024/9024 [==============================] - 35s 4ms/step - loss: 869.4739\n",
      "Epoch 4/18\n",
      "9024/9024 [==============================] - 35s 4ms/step - loss: 865.2605\n",
      "Epoch 5/18\n",
      "9024/9024 [==============================] - 35s 4ms/step - loss: 879.6664\n",
      "Epoch 6/18\n",
      "9024/9024 [==============================] - 36s 4ms/step - loss: 831.5987\n",
      "Epoch 7/18\n",
      "9024/9024 [==============================] - 35s 4ms/step - loss: 792.0738\n",
      "Epoch 8/18\n",
      "9024/9024 [==============================] - 35s 4ms/step - loss: 836.7333\n",
      "Epoch 9/18\n",
      "9024/9024 [==============================] - 36s 4ms/step - loss: 858.6139\n",
      "Epoch 10/18\n",
      "9024/9024 [==============================] - 36s 4ms/step - loss: 788.8702\n",
      "Epoch 11/18\n",
      "9024/9024 [==============================] - 36s 4ms/step - loss: 801.9747\n",
      "Epoch 12/18\n",
      "9024/9024 [==============================] - 36s 4ms/step - loss: 796.7849\n",
      "Epoch 13/18\n",
      "9024/9024 [==============================] - 36s 4ms/step - loss: 802.8593\n",
      "Epoch 14/18\n",
      "9024/9024 [==============================] - 35s 4ms/step - loss: 769.9501\n",
      "Epoch 15/18\n",
      "9024/9024 [==============================] - 35s 4ms/step - loss: 778.1322\n",
      "Epoch 16/18\n",
      "9024/9024 [==============================] - 35s 4ms/step - loss: 777.9330\n",
      "Epoch 17/18\n",
      "9024/9024 [==============================] - 32s 4ms/step - loss: 748.8775\n",
      "Epoch 18/18\n",
      "9024/9024 [==============================] - 32s 3ms/step - loss: 816.3657\n"
     ]
    },
    {
     "data": {
      "text/plain": [
       "<keras.callbacks.History at 0x7f1a5c5128d0>"
      ]
     },
     "execution_count": 75,
     "metadata": {},
     "output_type": "execute_result"
    }
   ],
   "source": [
    "m.fit_generator(gen, train_gen_obj.n_batches, epochs=18)"
   ]
  },
  {
   "cell_type": "code",
   "execution_count": 76,
   "metadata": {},
   "outputs": [],
   "source": [
    "preds = m.predict_on_batch(x)"
   ]
  },
  {
   "cell_type": "code",
   "execution_count": 77,
   "metadata": {},
   "outputs": [
    {
     "data": {
      "image/png": "[encoded data removed]",
      "text/plain": [
       "<Figure size 432x288 with 1 Axes>"
      ]
     },
     "metadata": {
      "needs_background": "light"
     },
     "output_type": "display_data"
    }
   ],
   "source": [
    "plt.plot(preds[510], label='nn')\n",
    "plt.plot(y[510], label='truth')\n",
    "plt.legend();\n",
    "#plt.axis([0,50,-100,100])"
   ]
  },
  {
   "cell_type": "markdown",
   "metadata": {},
   "source": [
    "TODO: Validation"
   ]
  },
  {
   "cell_type": "code",
   "execution_count": null,
   "metadata": {},
   "outputs": [],
   "source": []
  }
 ],
 "metadata": {
  "kernelspec": {
   "display_name": "Python 3",
   "language": "python",
   "name": "python3"
  },
  "language_info": {
   "codemirror_mode": {
    "name": "ipython",
    "version": 3
   },
   "file_extension": ".py",
   "mimetype": "text/x-python",
   "name": "python",
   "nbconvert_exporter": "python",
   "pygments_lexer": "ipython3",
   "version": "3.6.8"
  },
  "toc": {
   "base_numbering": 1,
   "nav_menu": {},
   "number_sections": true,
   "sideBar": false,
   "skip_h1_title": true,
   "title_cell": "Table of Contents",
   "title_sidebar": "Contents",
   "toc_cell": false,
   "toc_position": {},
   "toc_section_display": true,
   "toc_window_display": false
  }
 },
 "nbformat": 4,
 "nbformat_minor": 2
}
