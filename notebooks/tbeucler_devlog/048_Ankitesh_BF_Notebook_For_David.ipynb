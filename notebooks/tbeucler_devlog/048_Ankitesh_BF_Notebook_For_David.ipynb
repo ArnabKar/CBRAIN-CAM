{
 "cells": [
  {
   "cell_type": "markdown",
   "metadata": {},
   "source": [
    "tgb - 4/15/2020\n",
    "- Adapting Ankitesh's notebook that builds and train a \"brute-force\" network to David Walling's hyperparameter search  \n",
    "- Adding the option to choose between aquaplanet and real-geography data"
   ]
  },
  {
   "cell_type": "code",
   "execution_count": 1,
   "metadata": {},
   "outputs": [
    {
     "name": "stdout",
     "output_type": "stream",
     "text": [
      "/nfspool-0/home/tbeucler/CBRAIN-CAM/notebooks/tbeucler_devlog\n"
     ]
    }
   ],
   "source": [
    "import sys\n",
    "sys.path.insert(1,\"/home1/07064/tg863631/anaconda3/envs/CbrainCustomLayer/lib/python3.6/site-packages\") #work around for h5py\n",
    "from cbrain.imports import *\n",
    "from cbrain.cam_constants import *\n",
    "from cbrain.utils import *\n",
    "from cbrain.layers import *\n",
    "from cbrain.data_generator import DataGenerator\n",
    "\n",
    "import tensorflow as tf\n",
    "physical_devices = tf.config.experimental.list_physical_devices('GPU') \n",
    "tf.config.experimental.set_memory_growth(physical_devices[0], True)\n",
    "tf.config.experimental.set_memory_growth(physical_devices[1], True)\n",
    "tf.config.experimental.set_memory_growth(physical_devices[2], True)\n",
    "\n",
    "import os\n",
    "os.environ[\"CUDA_VISIBLE_DEVICES\"]=\"1\"\n",
    "\n",
    "from tensorflow import math as tfm\n",
    "from tensorflow.keras.layers import *\n",
    "from tensorflow.keras.models import *\n",
    "import tensorflow_probability as tfp\n",
    "import xarray as xr\n",
    "import numpy as np\n",
    "from cbrain.model_diagnostics import ModelDiagnostics\n",
    "import matplotlib as mpl\n",
    "import matplotlib.pyplot as plt\n",
    "import matplotlib.image as imag\n",
    "import scipy.integrate as sin\n",
    "# import cartopy.crs as ccrs\n",
    "import matplotlib.ticker as mticker\n",
    "# from cartopy.mpl.gridliner import LONGITUDE_FORMATTER, LATITUDE_FORMATTER\n",
    "import pickle\n",
    "# from climate_invariant import *\n",
    "from tensorflow.keras import layers\n",
    "import datetime\n",
    "from climate_invariant_utils import *\n",
    "import yaml\n"
   ]
  },
  {
   "cell_type": "markdown",
   "metadata": {},
   "source": [
    "## Global Variables"
   ]
  },
  {
   "cell_type": "code",
   "execution_count": 2,
   "metadata": {},
   "outputs": [],
   "source": [
    "# Load coordinates (just pick any file from the climate model run)\n",
    "\n",
    "# Comet path below\n",
    "# coor = xr.open_dataset(\"/oasis/scratch/comet/ankitesh/temp_project/data/sp8fbp_minus4k.cam2.h1.0000-01-01-00000.nc\",\\\n",
    "#                     decode_times=False)\n",
    "\n",
    "# GP path below\n",
    "path_0K = '/DFS-L/DATA/pritchard/tbeucler/SPCAM/fluxbypass_aqua/'\n",
    "coor = xr.open_dataset(path_0K+\"AndKua_aqua_SPCAM3.0_sp_fbp_f4.cam2.h1.0000-09-02-00000.nc\")\n",
    "\n",
    "lat = coor.lat; lon = coor.lon; lev = coor.lev;\n",
    "coor.close();"
   ]
  },
  {
   "cell_type": "code",
   "execution_count": 3,
   "metadata": {},
   "outputs": [],
   "source": [
    "# Comet path below\n",
    "# TRAINDIR = '/oasis/scratch/comet/ankitesh/temp_project/PrepData/CRHData/'\n",
    "# path = '/home/ankitesh/CBrain_project/CBRAIN-CAM/cbrain/'\n",
    "\n",
    "# GP path below\n",
    "TRAINDIR = '/DFS-L/DATA/pritchard/tbeucler/SPCAM/SPCAM_PHYS/'\n",
    "path = '/export/nfs0home/tbeucler/CBRAIN-CAM/cbrain/'\n",
    "path_nnconfig = '/export/nfs0home/tbeucler/CBRAIN-CAM/nn_config/'\n",
    "\n",
    "# Load hyam and hybm to calculate pressure field in SPCAM\n",
    "path_hyam = 'hyam_hybm.pkl'\n",
    "hf = open(path+path_hyam,'rb')\n",
    "hyam,hybm = pickle.load(hf)\n",
    "\n",
    "# Scale dictionary to convert the loss to W/m2\n",
    "scale_dict = load_pickle(path_nnconfig+'scale_dicts/009_Wm2_scaling.pkl')"
   ]
  },
  {
   "cell_type": "markdown",
   "metadata": {},
   "source": [
    "New Data generator class for the climate-invariant network. Calculates the physical rescalings needed to make the NN climate-invariant"
   ]
  },
  {
   "cell_type": "code",
   "execution_count": 4,
   "metadata": {},
   "outputs": [],
   "source": [
    "class DataGeneratorClimInv(DataGenerator):\n",
    "    \n",
    "    def __init__(self, data_fn, input_vars, output_vars,\n",
    "             norm_fn=None, input_transform=None, output_transform=None,\n",
    "             batch_size=1024, shuffle=True, xarray=False, var_cut_off=None,\n",
    "             rh_trans=True,t2tns_trans=True,\n",
    "             lhflx_trans=True,\n",
    "             scaling=True,interpolate=True,\n",
    "             hyam=None,hybm=None,                 \n",
    "             inp_subRH=None,inp_divRH=None,\n",
    "             inp_subTNS=None,inp_divTNS=None,\n",
    "             lev=None, interm_size=40,\n",
    "             lower_lim=6,\n",
    "             is_continous=True,Tnot=5,\n",
    "                mode='train',portion=1):\n",
    "        \n",
    "        self.scaling = scaling\n",
    "        self.interpolate = interpolate\n",
    "        self.rh_trans = rh_trans\n",
    "        self.t2tns_trans = t2tns_trans\n",
    "        self.lhflx_trans = lhflx_trans\n",
    "        self.inp_shape = 64\n",
    "        self.mode=mode\n",
    "        super().__init__(data_fn, input_vars,output_vars,norm_fn,input_transform,output_transform,\n",
    "                        batch_size,shuffle,xarray,var_cut_off) ## call the base data generator\n",
    "        self.inp_sub = self.input_transform.sub\n",
    "        self.inp_div = self.input_transform.div\n",
    "        if rh_trans:\n",
    "            self.qv2rhLayer = QV2RHNumpy(self.inp_sub,self.inp_div,inp_subRH,inp_divRH,hyam,hybm)\n",
    "        \n",
    "        if lhflx_trans:\n",
    "            self.lhflxLayer = LhflxTransNumpy(self.inp_sub,self.inp_div,hyam,hybm)\n",
    "            \n",
    "        if t2tns_trans:\n",
    "            self.t2tnsLayer = T2TmTNSNumpy(self.inp_sub,self.inp_div,inp_subTNS,inp_divTNS,hyam,hybm)\n",
    "            \n",
    "        if scaling:\n",
    "            self.scalingLayer = ScalingNumpy(hyam,hybm)\n",
    "            self.inp_shape += 1\n",
    "                    \n",
    "        if interpolate:\n",
    "            self.interpLayer = InterpolationNumpy(lev,is_continous,Tnot,lower_lim,interm_size)\n",
    "            self.inp_shape += interm_size*2 + 4 + 30 ## 4 same as 60-64 and 30 for lev_tilde.size\n",
    "            \n",
    "        # tgb - 7/9/2020 - Test only training on a subset of the data determined by portion\n",
    "        self.portion = portion\n",
    "            \n",
    "        \n",
    "    def __getitem__(self, index):\n",
    "        \n",
    "        # If portion<1, only look at a subset of the data by putting an upper bound on index\n",
    "        if self.portion<1: index = index % round(1/self.portion)\n",
    "        elif self.portion>1: print('Setting portion=1 because portion>1')\n",
    "        elif self.portion<0: print('Setting portion=1 because portion<0')\n",
    "        \n",
    "        # Compute start and end indices for batch\n",
    "        start_idx = index * self.batch_size\n",
    "        end_idx = start_idx + self.batch_size\n",
    "\n",
    "        # Grab batch from data\n",
    "        batch = self.data_ds['vars'][start_idx:end_idx]\n",
    "\n",
    "        # Split into inputs and outputs\n",
    "        X = batch[:, self.input_idxs]\n",
    "        Y = batch[:, self.output_idxs]\n",
    "        # Normalize\n",
    "        X_norm = self.input_transform.transform(X)\n",
    "        Y = self.output_transform.transform(Y)\n",
    "        X_result = X_norm\n",
    "        \n",
    "        if self.rh_trans:\n",
    "            X_result = self.qv2rhLayer.process(X_result) \n",
    "            \n",
    "        if self.lhflx_trans:\n",
    "            X_result = self.lhflxLayer.process(X_result)\n",
    "            X_result = X_result[:,:64]\n",
    "            X = X[:,:64]\n",
    "            \n",
    "        if self.t2tns_trans:\n",
    "            X_result = self.t2tnsLayer.process(X_result)\n",
    "        \n",
    "        if self.scaling:\n",
    "            scalings = self.scalingLayer.process(X) \n",
    "            X_result = np.hstack((X_result,scalings))\n",
    "        \n",
    "        if self.interpolate:\n",
    "            interpolated = self.interpLayer.process(X,X_result)\n",
    "            X_result = np.hstack((X_result,interpolated))\n",
    "            \n",
    "\n",
    "        if self.mode=='val':\n",
    "            return xr.DataArray(X_result), xr.DataArray(Y)\n",
    "        return X_result,Y\n",
    "    \n",
    "    ##transforms the input data into the required format, take the unnormalized dataset\n",
    "    def transform(self,X):\n",
    "        X_norm = self.input_transform.transform(X)\n",
    "        X_result = X_norm\n",
    "        \n",
    "        if self.rh_trans:\n",
    "            X_result = self.qv2rhLayer.process(X_result)  \n",
    "        \n",
    "        if self.lhflx_trans:\n",
    "            X_result = self.lhflxLayer.process(X_result)\n",
    "            X_result = X_result[:,:64]\n",
    "            X = X[:,:64]\n",
    "\n",
    "        if self.t2tns_trans:\n",
    "            X_result = self.t2tnsLayer.process(X_result)\n",
    "        \n",
    "        if self.scaling:\n",
    "            scalings = self.scalingLayer.process(X) \n",
    "            X_result = np.hstack((X_result,scalings))\n",
    "        \n",
    "        if self.interpolate:\n",
    "            interpolated = self.interpLayer.process(X,X_result)\n",
    "            X_result = np.hstack((X_result,interpolated))\n",
    "            \n",
    "\n",
    "        return X_result"
   ]
  },
  {
   "cell_type": "markdown",
   "metadata": {},
   "source": [
    "## Data Generators"
   ]
  },
  {
   "cell_type": "markdown",
   "metadata": {},
   "source": [
    "### Choose between aquaplanet and realistic geography here"
   ]
  },
  {
   "cell_type": "code",
   "execution_count": 5,
   "metadata": {},
   "outputs": [],
   "source": [
    "# GP paths below\n",
    "path_aquaplanet = '/DFS-L/DATA/pritchard/tbeucler/SPCAM/SPCAM_PHYS/'\n",
    "path_realgeography = ''\n",
    "\n",
    "# Comet paths below\n",
    "# path_aquaplanet = '/oasis/scratch/comet/ankitesh/temp_project/PrepData/'\n",
    "# path_realgeography = '/oasis/scratch/comet/ankitesh/temp_project/PrepData/geography/'\n",
    "\n",
    "path = path_aquaplanet"
   ]
  },
  {
   "cell_type": "markdown",
   "metadata": {},
   "source": [
    "### Baseline Data Generator, without ozone as input but with radiative outputs"
   ]
  },
  {
   "cell_type": "code",
   "execution_count": 6,
   "metadata": {},
   "outputs": [],
   "source": [
    "in_vars = ['QBP','TBP','PS', 'SOLIN', 'SHFLX', 'LHFLX']\n",
    "if path==path_aquaplanet: out_vars = ['PHQ','TPHYSTND','QRL', 'QRS']\n",
    "elif path==path_realgeography: out_vars = ['PTEQ','PTTEND','FSNT','FSNS','FLNT','FLNS']\n",
    "\n",
    "TRAINFILE_O3 = '2021_01_24_O3_TRAIN_shuffle.nc'\n",
    "NORMFILE_O3 = '2021_01_24_NORM_O3_small.nc'\n",
    "VALIDFILE_O3 = '2021_01_24_O3_VALID.nc'\n",
    "TESTFILE_O3 = '2021_01_24_O3_TEST.nc'"
   ]
  },
  {
   "cell_type": "code",
   "execution_count": 7,
   "metadata": {},
   "outputs": [],
   "source": [
    "train_gen_noO3 = DataGenerator(\n",
    "    data_fn = TRAINDIR+TRAINFILE_O3,\n",
    "    input_vars = in_vars,\n",
    "    output_vars = out_vars,\n",
    "    norm_fn = TRAINDIR+NORMFILE_O3,\n",
    "    input_transform = ('mean', 'maxrs'),\n",
    "    output_transform = scale_dict,\n",
    "    batch_size=8192,\n",
    "    shuffle=True\n",
    ")"
   ]
  },
  {
   "cell_type": "code",
   "execution_count": 8,
   "metadata": {},
   "outputs": [],
   "source": [
    "valid_gen_noO3 = DataGenerator(\n",
    "    data_fn = TRAINDIR+VALIDFILE_O3,\n",
    "    input_vars = in_vars,\n",
    "    output_vars = out_vars,\n",
    "    norm_fn = TRAINDIR+NORMFILE_O3,\n",
    "    input_transform = ('mean', 'maxrs'),\n",
    "    output_transform = scale_dict,\n",
    "    batch_size=8192,\n",
    "    shuffle=True\n",
    ")"
   ]
  },
  {
   "cell_type": "code",
   "execution_count": 9,
   "metadata": {},
   "outputs": [],
   "source": [
    "test_gen_noO3 = DataGenerator(\n",
    "    data_fn = TRAINDIR+TESTFILE_O3,\n",
    "    input_vars = in_vars,\n",
    "    output_vars = out_vars,\n",
    "    norm_fn = TRAINDIR+NORMFILE_O3,\n",
    "    input_transform = ('mean', 'maxrs'),\n",
    "    output_transform = scale_dict,\n",
    "    batch_size=8192,\n",
    "    shuffle=True\n",
    ")"
   ]
  },
  {
   "cell_type": "markdown",
   "metadata": {},
   "source": [
    "### Data Generator using RH"
   ]
  },
  {
   "cell_type": "code",
   "execution_count": 6,
   "metadata": {},
   "outputs": [],
   "source": [
    "scale_dict_RH = load_pickle('/home/ankitesh/CBrain_project/CBRAIN-CAM/nn_config/scale_dicts/009_Wm2_scaling_2.pkl')\n",
    "scale_dict_RH['RH'] = 0.01*L_S/G, # Arbitrary 0.1 factor as specific humidity is generally below 2%\n",
    "\n",
    "in_vars_RH = ['RH','TBP','PS', 'SOLIN', 'SHFLX', 'LHFLX']\n",
    "if path==path_realgeography: out_vars_RH = ['PTEQ','PTTEND','FSNT','FSNS','FLNT','FLNS']\n",
    "elif path==path_aquaplanet: out_vars_RH = ['PHQ','TPHYSTND','FSNT', 'FSNS', 'FLNT', 'FLNS']\n",
    "\n",
    "TRAINFILE_RH = 'CI_RH_M4K_NORM_train_shuffle.nc'\n",
    "NORMFILE_RH = 'CI_RH_M4K_NORM_norm.nc'\n",
    "VALIDFILE_RH = 'CI_RH_M4K_NORM_valid.nc'"
   ]
  },
  {
   "cell_type": "code",
   "execution_count": 7,
   "metadata": {},
   "outputs": [],
   "source": [
    "train_gen_RH = DataGenerator(\n",
    "    data_fn = path+TRAINFILE_RH,\n",
    "    input_vars = in_vars_RH,\n",
    "    output_vars = out_vars_RH,\n",
    "    norm_fn = path+NORMFILE_RH,\n",
    "    input_transform = ('mean', 'maxrs'),\n",
    "    output_transform = scale_dict_RH,\n",
    "    batch_size=1024,\n",
    "    shuffle=True,\n",
    ")"
   ]
  },
  {
   "cell_type": "markdown",
   "metadata": {},
   "source": [
    "### Data Generator using TNS"
   ]
  },
  {
   "cell_type": "code",
   "execution_count": 8,
   "metadata": {},
   "outputs": [],
   "source": [
    "in_vars = ['QBP','TfromNS','PS', 'SOLIN', 'SHFLX', 'LHFLX']\n",
    "if path==path_aquaplanet: out_vars = ['PHQ','TPHYSTND','FSNT', 'FSNS', 'FLNT', 'FLNS']\n",
    "elif path==path_realgeography: out_vars = ['PTEQ','PTTEND','FSNT','FSNS','FLNT','FLNS']\n",
    "\n",
    "TRAINFILE_TNS = 'CI_TNS_M4K_NORM_train_shuffle.nc'\n",
    "NORMFILE_TNS = 'CI_TNS_M4K_NORM_norm.nc'\n",
    "VALIDFILE_TNS = 'CI_TNS_M4K_NORM_valid.nc'"
   ]
  },
  {
   "cell_type": "code",
   "execution_count": 9,
   "metadata": {},
   "outputs": [],
   "source": [
    "train_gen_TNS = DataGenerator(\n",
    "    data_fn = path+TRAINFILE_TNS,\n",
    "    input_vars = in_vars,\n",
    "    output_vars = out_vars,\n",
    "    norm_fn = path+NORMFILE_TNS,\n",
    "    input_transform = ('mean', 'maxrs'),\n",
    "    output_transform = scale_dict,\n",
    "    batch_size=1024,\n",
    "    shuffle=True,\n",
    ")"
   ]
  },
  {
   "cell_type": "markdown",
   "metadata": {},
   "source": [
    "### Data Generator using $O_{3}$"
   ]
  },
  {
   "cell_type": "code",
   "execution_count": 39,
   "metadata": {},
   "outputs": [],
   "source": [
    "in_vars = ['QBP','TBP','O3_AQUA','PS', 'SOLIN', 'SHFLX', 'LHFLX']\n",
    "if path==path_aquaplanet: out_vars = ['PHQ','TPHYSTND','QRL', 'QRS']\n",
    "elif path==path_realgeography: out_vars = ['PTEQ','PTTEND','FSNT','FSNS','FLNT','FLNS']\n",
    "\n",
    "TRAINFILE_O3 = '2021_01_24_O3_TRAIN_shuffle.nc'\n",
    "NORMFILE_O3 = '2021_01_24_NORM_O3_small.nc'\n",
    "VALIDFILE_O3 = '2021_01_24_O3_VALID.nc'\n",
    "TESTFILE_O3 = '2021_01_24_O3_TEST.nc'"
   ]
  },
  {
   "cell_type": "code",
   "execution_count": 40,
   "metadata": {},
   "outputs": [],
   "source": [
    "train_gen_O3 = DataGenerator(\n",
    "    data_fn = TRAINDIR+TRAINFILE_O3,\n",
    "    input_vars = in_vars,\n",
    "    output_vars = out_vars,\n",
    "    norm_fn = TRAINDIR+NORMFILE_O3,\n",
    "    input_transform = ('mean', 'maxrs'),\n",
    "    output_transform = scale_dict,\n",
    "    batch_size=8192,\n",
    "    shuffle=True\n",
    ")"
   ]
  },
  {
   "cell_type": "code",
   "execution_count": 41,
   "metadata": {},
   "outputs": [],
   "source": [
    "valid_gen_O3 = DataGenerator(\n",
    "    data_fn = TRAINDIR+VALIDFILE_O3,\n",
    "    input_vars = in_vars,\n",
    "    output_vars = out_vars,\n",
    "    norm_fn = TRAINDIR+NORMFILE_O3,\n",
    "    input_transform = ('mean', 'maxrs'),\n",
    "    output_transform = scale_dict,\n",
    "    batch_size=8192,\n",
    "    shuffle=True\n",
    ")"
   ]
  },
  {
   "cell_type": "code",
   "execution_count": 42,
   "metadata": {},
   "outputs": [],
   "source": [
    "test_gen_O3 = DataGenerator(\n",
    "    data_fn = TRAINDIR+TESTFILE_O3,\n",
    "    input_vars = in_vars,\n",
    "    output_vars = out_vars,\n",
    "    norm_fn = TRAINDIR+NORMFILE_O3,\n",
    "    input_transform = ('mean', 'maxrs'),\n",
    "    output_transform = scale_dict,\n",
    "    batch_size=8192,\n",
    "    shuffle=True\n",
    ")"
   ]
  },
  {
   "cell_type": "markdown",
   "metadata": {},
   "source": [
    "### Data Generator Combined"
   ]
  },
  {
   "cell_type": "code",
   "execution_count": 10,
   "metadata": {},
   "outputs": [],
   "source": [
    "in_vars = ['QBP','TBP','PS', 'SOLIN', 'SHFLX', 'LHFLX']\n",
    "if path==path_aquaplanet: out_vars = ['PHQ','TPHYSTND','FSNT', 'FSNS', 'FLNT', 'FLNS']\n",
    "elif path==path_realgeography: out_vars = ['PTEQ','PTTEND','FSNT','FSNS','FLNT','FLNS']"
   ]
  },
  {
   "cell_type": "code",
   "execution_count": 11,
   "metadata": {},
   "outputs": [],
   "source": [
    "TRAINFILE = 'CI_SP_M4K_train_shuffle.nc'\n",
    "NORMFILE = 'CI_SP_M4K_NORM_norm.nc'\n",
    "VALIDFILE = 'CI_SP_M4K_valid.nc'\n",
    "\n",
    "train_gen = DataGeneratorClimInv(\n",
    "    data_fn = path+TRAINFILE,\n",
    "    input_vars = in_vars,\n",
    "    output_vars = out_vars,\n",
    "    norm_fn = path+NORMFILE,\n",
    "    input_transform = ('mean', 'maxrs'),\n",
    "    output_transform = scale_dict,\n",
    "    batch_size=1024,\n",
    "    shuffle=True,\n",
    "    lev=lev,\n",
    "    hyam=hyam,hybm=hybm,\n",
    "    inp_subRH=train_gen_RH.input_transform.sub, inp_divRH=train_gen_RH.input_transform.div,\n",
    "    inp_subTNS=train_gen_TNS.input_transform.sub,inp_divTNS=train_gen_TNS.input_transform.div,\n",
    "    rh_trans=False,t2tns_trans=False,\n",
    "    lhflx_trans=False,\n",
    "    scaling=False,\n",
    "    interpolate=False\n",
    ")\n",
    "\n",
    "valid_gen = DataGeneratorClimInv(\n",
    "    data_fn = path+VALIDFILE,\n",
    "    input_vars = in_vars,\n",
    "    output_vars = out_vars,\n",
    "    norm_fn = path+NORMFILE,\n",
    "    input_transform = ('mean', 'maxrs'),\n",
    "    output_transform = scale_dict,\n",
    "    batch_size=1024,\n",
    "    shuffle=True,\n",
    "    lev=lev,\n",
    "    hyam=hyam,hybm=hybm,\n",
    "    inp_subRH=train_gen_RH.input_transform.sub, inp_divRH=train_gen_RH.input_transform.div,\n",
    "    inp_subTNS=train_gen_TNS.input_transform.sub,inp_divTNS=train_gen_TNS.input_transform.div,\n",
    "    rh_trans=False,t2tns_trans=False,\n",
    "    lhflx_trans=False,\n",
    "    scaling=False,\n",
    "    interpolate=False\n",
    ")\n"
   ]
  },
  {
   "cell_type": "markdown",
   "metadata": {},
   "source": [
    "### Check number of samples for Griffin"
   ]
  },
  {
   "cell_type": "code",
   "execution_count": 12,
   "metadata": {},
   "outputs": [],
   "source": [
    "data = xr.open_dataset(path+TRAINFILE)"
   ]
  },
  {
   "cell_type": "code",
   "execution_count": 13,
   "metadata": {},
   "outputs": [
    {
     "data": {
      "text/html": [
       "<div><svg style=\"position: absolute; width: 0; height: 0; overflow: hidden\">\n",
       "<defs>\n",
       "<symbol id=\"icon-database\" viewBox=\"0 0 32 32\">\n",
       "<title>Show/Hide data repr</title>\n",
       "<path d=\"M16 0c-8.837 0-16 2.239-16 5v4c0 2.761 7.163 5 16 5s16-2.239 16-5v-4c0-2.761-7.163-5-16-5z\"></path>\n",
       "<path d=\"M16 17c-8.837 0-16-2.239-16-5v6c0 2.761 7.163 5 16 5s16-2.239 16-5v-6c0 2.761-7.163 5-16 5z\"></path>\n",
       "<path d=\"M16 26c-8.837 0-16-2.239-16-5v6c0 2.761 7.163 5 16 5s16-2.239 16-5v-6c0 2.761-7.163 5-16 5z\"></path>\n",
       "</symbol>\n",
       "<symbol id=\"icon-file-text2\" viewBox=\"0 0 32 32\">\n",
       "<title>Show/Hide attributes</title>\n",
       "<path d=\"M28.681 7.159c-0.694-0.947-1.662-2.053-2.724-3.116s-2.169-2.030-3.116-2.724c-1.612-1.182-2.393-1.319-2.841-1.319h-15.5c-1.378 0-2.5 1.121-2.5 2.5v27c0 1.378 1.122 2.5 2.5 2.5h23c1.378 0 2.5-1.122 2.5-2.5v-19.5c0-0.448-0.137-1.23-1.319-2.841zM24.543 5.457c0.959 0.959 1.712 1.825 2.268 2.543h-4.811v-4.811c0.718 0.556 1.584 1.309 2.543 2.268zM28 29.5c0 0.271-0.229 0.5-0.5 0.5h-23c-0.271 0-0.5-0.229-0.5-0.5v-27c0-0.271 0.229-0.5 0.5-0.5 0 0 15.499-0 15.5 0v7c0 0.552 0.448 1 1 1h7v19.5z\"></path>\n",
       "<path d=\"M23 26h-14c-0.552 0-1-0.448-1-1s0.448-1 1-1h14c0.552 0 1 0.448 1 1s-0.448 1-1 1z\"></path>\n",
       "<path d=\"M23 22h-14c-0.552 0-1-0.448-1-1s0.448-1 1-1h14c0.552 0 1 0.448 1 1s-0.448 1-1 1z\"></path>\n",
       "<path d=\"M23 18h-14c-0.552 0-1-0.448-1-1s0.448-1 1-1h14c0.552 0 1 0.448 1 1s-0.448 1-1 1z\"></path>\n",
       "</symbol>\n",
       "</defs>\n",
       "</svg>\n",
       "<style>/* CSS stylesheet for displaying xarray objects in jupyterlab.\n",
       " *\n",
       " */\n",
       "\n",
       ":root {\n",
       "  --xr-font-color0: var(--jp-content-font-color0, rgba(0, 0, 0, 1));\n",
       "  --xr-font-color2: var(--jp-content-font-color2, rgba(0, 0, 0, 0.54));\n",
       "  --xr-font-color3: var(--jp-content-font-color3, rgba(0, 0, 0, 0.38));\n",
       "  --xr-border-color: var(--jp-border-color2, #e0e0e0);\n",
       "  --xr-disabled-color: var(--jp-layout-color3, #bdbdbd);\n",
       "  --xr-background-color: var(--jp-layout-color0, white);\n",
       "  --xr-background-color-row-even: var(--jp-layout-color1, white);\n",
       "  --xr-background-color-row-odd: var(--jp-layout-color2, #eeeeee);\n",
       "}\n",
       "\n",
       ".xr-wrap {\n",
       "  min-width: 300px;\n",
       "  max-width: 700px;\n",
       "}\n",
       "\n",
       ".xr-header {\n",
       "  padding-top: 6px;\n",
       "  padding-bottom: 6px;\n",
       "  margin-bottom: 4px;\n",
       "  border-bottom: solid 1px var(--xr-border-color);\n",
       "}\n",
       "\n",
       ".xr-header > div,\n",
       ".xr-header > ul {\n",
       "  display: inline;\n",
       "  margin-top: 0;\n",
       "  margin-bottom: 0;\n",
       "}\n",
       "\n",
       ".xr-obj-type,\n",
       ".xr-array-name {\n",
       "  margin-left: 2px;\n",
       "  margin-right: 10px;\n",
       "}\n",
       "\n",
       ".xr-obj-type {\n",
       "  color: var(--xr-font-color2);\n",
       "}\n",
       "\n",
       ".xr-sections {\n",
       "  padding-left: 0 !important;\n",
       "  display: grid;\n",
       "  grid-template-columns: 150px auto auto 1fr 20px 20px;\n",
       "}\n",
       "\n",
       ".xr-section-item {\n",
       "  display: contents;\n",
       "}\n",
       "\n",
       ".xr-section-item input {\n",
       "  display: none;\n",
       "}\n",
       "\n",
       ".xr-section-item input + label {\n",
       "  color: var(--xr-disabled-color);\n",
       "}\n",
       "\n",
       ".xr-section-item input:enabled + label {\n",
       "  cursor: pointer;\n",
       "  color: var(--xr-font-color2);\n",
       "}\n",
       "\n",
       ".xr-section-item input:enabled + label:hover {\n",
       "  color: var(--xr-font-color0);\n",
       "}\n",
       "\n",
       ".xr-section-summary {\n",
       "  grid-column: 1;\n",
       "  color: var(--xr-font-color2);\n",
       "  font-weight: 500;\n",
       "}\n",
       "\n",
       ".xr-section-summary > span {\n",
       "  display: inline-block;\n",
       "  padding-left: 0.5em;\n",
       "}\n",
       "\n",
       ".xr-section-summary-in:disabled + label {\n",
       "  color: var(--xr-font-color2);\n",
       "}\n",
       "\n",
       ".xr-section-summary-in + label:before {\n",
       "  display: inline-block;\n",
       "  content: '►';\n",
       "  font-size: 11px;\n",
       "  width: 15px;\n",
       "  text-align: center;\n",
       "}\n",
       "\n",
       ".xr-section-summary-in:disabled + label:before {\n",
       "  color: var(--xr-disabled-color);\n",
       "}\n",
       "\n",
       ".xr-section-summary-in:checked + label:before {\n",
       "  content: '▼';\n",
       "}\n",
       "\n",
       ".xr-section-summary-in:checked + label > span {\n",
       "  display: none;\n",
       "}\n",
       "\n",
       ".xr-section-summary,\n",
       ".xr-section-inline-details {\n",
       "  padding-top: 4px;\n",
       "  padding-bottom: 4px;\n",
       "}\n",
       "\n",
       ".xr-section-inline-details {\n",
       "  grid-column: 2 / -1;\n",
       "}\n",
       "\n",
       ".xr-section-details {\n",
       "  display: none;\n",
       "  grid-column: 1 / -1;\n",
       "  margin-bottom: 5px;\n",
       "}\n",
       "\n",
       ".xr-section-summary-in:checked ~ .xr-section-details {\n",
       "  display: contents;\n",
       "}\n",
       "\n",
       ".xr-array-wrap {\n",
       "  grid-column: 1 / -1;\n",
       "  display: grid;\n",
       "  grid-template-columns: 20px auto;\n",
       "}\n",
       "\n",
       ".xr-array-wrap > label {\n",
       "  grid-column: 1;\n",
       "  vertical-align: top;\n",
       "}\n",
       "\n",
       ".xr-preview {\n",
       "  color: var(--xr-font-color3);\n",
       "}\n",
       "\n",
       ".xr-array-preview,\n",
       ".xr-array-data {\n",
       "  padding: 0 5px !important;\n",
       "  grid-column: 2;\n",
       "}\n",
       "\n",
       ".xr-array-data,\n",
       ".xr-array-in:checked ~ .xr-array-preview {\n",
       "  display: none;\n",
       "}\n",
       "\n",
       ".xr-array-in:checked ~ .xr-array-data,\n",
       ".xr-array-preview {\n",
       "  display: inline-block;\n",
       "}\n",
       "\n",
       ".xr-dim-list {\n",
       "  display: inline-block !important;\n",
       "  list-style: none;\n",
       "  padding: 0 !important;\n",
       "  margin: 0;\n",
       "}\n",
       "\n",
       ".xr-dim-list li {\n",
       "  display: inline-block;\n",
       "  padding: 0;\n",
       "  margin: 0;\n",
       "}\n",
       "\n",
       ".xr-dim-list:before {\n",
       "  content: '(';\n",
       "}\n",
       "\n",
       ".xr-dim-list:after {\n",
       "  content: ')';\n",
       "}\n",
       "\n",
       ".xr-dim-list li:not(:last-child):after {\n",
       "  content: ',';\n",
       "  padding-right: 5px;\n",
       "}\n",
       "\n",
       ".xr-has-index {\n",
       "  font-weight: bold;\n",
       "}\n",
       "\n",
       ".xr-var-list,\n",
       ".xr-var-item {\n",
       "  display: contents;\n",
       "}\n",
       "\n",
       ".xr-var-item > div,\n",
       ".xr-var-item label,\n",
       ".xr-var-item > .xr-var-name span {\n",
       "  background-color: var(--xr-background-color-row-even);\n",
       "  margin-bottom: 0;\n",
       "}\n",
       "\n",
       ".xr-var-item > .xr-var-name:hover span {\n",
       "  padding-right: 5px;\n",
       "}\n",
       "\n",
       ".xr-var-list > li:nth-child(odd) > div,\n",
       ".xr-var-list > li:nth-child(odd) > label,\n",
       ".xr-var-list > li:nth-child(odd) > .xr-var-name span {\n",
       "  background-color: var(--xr-background-color-row-odd);\n",
       "}\n",
       "\n",
       ".xr-var-name {\n",
       "  grid-column: 1;\n",
       "}\n",
       "\n",
       ".xr-var-dims {\n",
       "  grid-column: 2;\n",
       "}\n",
       "\n",
       ".xr-var-dtype {\n",
       "  grid-column: 3;\n",
       "  text-align: right;\n",
       "  color: var(--xr-font-color2);\n",
       "}\n",
       "\n",
       ".xr-var-preview {\n",
       "  grid-column: 4;\n",
       "}\n",
       "\n",
       ".xr-var-name,\n",
       ".xr-var-dims,\n",
       ".xr-var-dtype,\n",
       ".xr-preview,\n",
       ".xr-attrs dt {\n",
       "  white-space: nowrap;\n",
       "  overflow: hidden;\n",
       "  text-overflow: ellipsis;\n",
       "  padding-right: 10px;\n",
       "}\n",
       "\n",
       ".xr-var-name:hover,\n",
       ".xr-var-dims:hover,\n",
       ".xr-var-dtype:hover,\n",
       ".xr-attrs dt:hover {\n",
       "  overflow: visible;\n",
       "  width: auto;\n",
       "  z-index: 1;\n",
       "}\n",
       "\n",
       ".xr-var-attrs,\n",
       ".xr-var-data {\n",
       "  display: none;\n",
       "  background-color: var(--xr-background-color) !important;\n",
       "  padding-bottom: 5px !important;\n",
       "}\n",
       "\n",
       ".xr-var-attrs-in:checked ~ .xr-var-attrs,\n",
       ".xr-var-data-in:checked ~ .xr-var-data {\n",
       "  display: block;\n",
       "}\n",
       "\n",
       ".xr-var-data > table {\n",
       "  float: right;\n",
       "}\n",
       "\n",
       ".xr-var-name span,\n",
       ".xr-var-data,\n",
       ".xr-attrs {\n",
       "  padding-left: 25px !important;\n",
       "}\n",
       "\n",
       ".xr-attrs,\n",
       ".xr-var-attrs,\n",
       ".xr-var-data {\n",
       "  grid-column: 1 / -1;\n",
       "}\n",
       "\n",
       "dl.xr-attrs {\n",
       "  padding: 0;\n",
       "  margin: 0;\n",
       "  display: grid;\n",
       "  grid-template-columns: 125px auto;\n",
       "}\n",
       "\n",
       ".xr-attrs dt, dd {\n",
       "  padding: 0;\n",
       "  margin: 0;\n",
       "  float: left;\n",
       "  padding-right: 10px;\n",
       "  width: auto;\n",
       "}\n",
       "\n",
       ".xr-attrs dt {\n",
       "  font-weight: normal;\n",
       "  grid-column: 1;\n",
       "}\n",
       "\n",
       ".xr-attrs dt:hover span {\n",
       "  display: inline-block;\n",
       "  background: var(--xr-background-color);\n",
       "  padding-right: 10px;\n",
       "}\n",
       "\n",
       ".xr-attrs dd {\n",
       "  grid-column: 2;\n",
       "  white-space: pre-wrap;\n",
       "  word-break: break-all;\n",
       "}\n",
       "\n",
       ".xr-icon-database,\n",
       ".xr-icon-file-text2 {\n",
       "  display: inline-block;\n",
       "  vertical-align: middle;\n",
       "  width: 1em;\n",
       "  height: 1.5em !important;\n",
       "  stroke-width: 0;\n",
       "  stroke: currentColor;\n",
       "  fill: currentColor;\n",
       "}\n",
       "</style><div class='xr-wrap'><div class='xr-header'><div class='xr-obj-type'>xarray.DataArray</div><div class='xr-array-name'>'vars'</div><ul class='xr-dim-list'><li><span>sample</span>: 31518720</li><li><span class='xr-has-index'>var_names</span>: 188</li></ul></div><ul class='xr-sections'><li class='xr-section-item'><div class='xr-array-wrap'><input id='section-ce74f704-a65f-4611-9ebd-4e11b787aa3a' class='xr-array-in' type='checkbox' ><label for='section-ce74f704-a65f-4611-9ebd-4e11b787aa3a' title='Show/hide data repr'><svg class='icon xr-icon-database'><use xlink:href='#icon-database'></use></svg></label><div class='xr-array-preview xr-preview'><span>...</span></div><pre class='xr-array-data'>[5925519360 values with dtype=float32]</pre></div></li><li class='xr-section-item'><input id='section-4548855d-4207-4516-a908-f0024d956217' class='xr-section-summary-in' type='checkbox'  checked><label for='section-4548855d-4207-4516-a908-f0024d956217' class='xr-section-summary' >Coordinates: <span>(1)</span></label><div class='xr-section-inline-details'></div><div class='xr-section-details'><ul class='xr-var-list'><li class='xr-var-item'><div class='xr-var-name'><span class='xr-has-index'>var_names</span></div><div class='xr-var-dims'>(var_names)</div><div class='xr-var-dtype'>object</div><div class='xr-var-preview xr-preview'>&#x27;QBP&#x27; &#x27;QBP&#x27; &#x27;QBP&#x27; ... &#x27;FLNT&#x27; &#x27;FLNS&#x27;</div><input id='attrs-bfc9fab8-8062-4864-808b-1feee54150e6' class='xr-var-attrs-in' type='checkbox' disabled><label for='attrs-bfc9fab8-8062-4864-808b-1feee54150e6' title='Show/Hide attributes'><svg class='icon xr-icon-file-text2'><use xlink:href='#icon-file-text2'></use></svg></label><input id='data-07494ae2-c559-4b2d-acd6-f3d2ff7145aa' class='xr-var-data-in' type='checkbox'><label for='data-07494ae2-c559-4b2d-acd6-f3d2ff7145aa' title='Show/Hide data repr'><svg class='icon xr-icon-database'><use xlink:href='#icon-database'></use></svg></label><div class='xr-var-attrs'><dl class='xr-attrs'></dl></div><pre class='xr-var-data'>array([&#x27;QBP&#x27;, &#x27;QBP&#x27;, &#x27;QBP&#x27;, &#x27;QBP&#x27;, &#x27;QBP&#x27;, &#x27;QBP&#x27;, &#x27;QBP&#x27;, &#x27;QBP&#x27;, &#x27;QBP&#x27;, &#x27;QBP&#x27;,\n",
       "       &#x27;QBP&#x27;, &#x27;QBP&#x27;, &#x27;QBP&#x27;, &#x27;QBP&#x27;, &#x27;QBP&#x27;, &#x27;QBP&#x27;, &#x27;QBP&#x27;, &#x27;QBP&#x27;, &#x27;QBP&#x27;, &#x27;QBP&#x27;,\n",
       "       &#x27;QBP&#x27;, &#x27;QBP&#x27;, &#x27;QBP&#x27;, &#x27;QBP&#x27;, &#x27;QBP&#x27;, &#x27;QBP&#x27;, &#x27;QBP&#x27;, &#x27;QBP&#x27;, &#x27;QBP&#x27;, &#x27;QBP&#x27;,\n",
       "       &#x27;TBP&#x27;, &#x27;TBP&#x27;, &#x27;TBP&#x27;, &#x27;TBP&#x27;, &#x27;TBP&#x27;, &#x27;TBP&#x27;, &#x27;TBP&#x27;, &#x27;TBP&#x27;, &#x27;TBP&#x27;, &#x27;TBP&#x27;,\n",
       "       &#x27;TBP&#x27;, &#x27;TBP&#x27;, &#x27;TBP&#x27;, &#x27;TBP&#x27;, &#x27;TBP&#x27;, &#x27;TBP&#x27;, &#x27;TBP&#x27;, &#x27;TBP&#x27;, &#x27;TBP&#x27;, &#x27;TBP&#x27;,\n",
       "       &#x27;TBP&#x27;, &#x27;TBP&#x27;, &#x27;TBP&#x27;, &#x27;TBP&#x27;, &#x27;TBP&#x27;, &#x27;TBP&#x27;, &#x27;TBP&#x27;, &#x27;TBP&#x27;, &#x27;TBP&#x27;, &#x27;TBP&#x27;,\n",
       "       &#x27;PS&#x27;, &#x27;SOLIN&#x27;, &#x27;SHFLX&#x27;, &#x27;LHFLX&#x27;, &#x27;QRL&#x27;, &#x27;QRL&#x27;, &#x27;QRL&#x27;, &#x27;QRL&#x27;, &#x27;QRL&#x27;,\n",
       "       &#x27;QRL&#x27;, &#x27;QRL&#x27;, &#x27;QRL&#x27;, &#x27;QRL&#x27;, &#x27;QRL&#x27;, &#x27;QRL&#x27;, &#x27;QRL&#x27;, &#x27;QRL&#x27;, &#x27;QRL&#x27;, &#x27;QRL&#x27;,\n",
       "       &#x27;QRL&#x27;, &#x27;QRL&#x27;, &#x27;QRL&#x27;, &#x27;QRL&#x27;, &#x27;QRL&#x27;, &#x27;QRL&#x27;, &#x27;QRL&#x27;, &#x27;QRL&#x27;, &#x27;QRL&#x27;, &#x27;QRL&#x27;,\n",
       "       &#x27;QRL&#x27;, &#x27;QRL&#x27;, &#x27;QRL&#x27;, &#x27;QRL&#x27;, &#x27;QRL&#x27;, &#x27;QRS&#x27;, &#x27;QRS&#x27;, &#x27;QRS&#x27;, &#x27;QRS&#x27;, &#x27;QRS&#x27;,\n",
       "       &#x27;QRS&#x27;, &#x27;QRS&#x27;, &#x27;QRS&#x27;, &#x27;QRS&#x27;, &#x27;QRS&#x27;, &#x27;QRS&#x27;, &#x27;QRS&#x27;, &#x27;QRS&#x27;, &#x27;QRS&#x27;, &#x27;QRS&#x27;,\n",
       "       &#x27;QRS&#x27;, &#x27;QRS&#x27;, &#x27;QRS&#x27;, &#x27;QRS&#x27;, &#x27;QRS&#x27;, &#x27;QRS&#x27;, &#x27;QRS&#x27;, &#x27;QRS&#x27;, &#x27;QRS&#x27;, &#x27;QRS&#x27;,\n",
       "       &#x27;QRS&#x27;, &#x27;QRS&#x27;, &#x27;QRS&#x27;, &#x27;QRS&#x27;, &#x27;QRS&#x27;, &#x27;PTEQ&#x27;, &#x27;PTEQ&#x27;, &#x27;PTEQ&#x27;, &#x27;PTEQ&#x27;,\n",
       "       &#x27;PTEQ&#x27;, &#x27;PTEQ&#x27;, &#x27;PTEQ&#x27;, &#x27;PTEQ&#x27;, &#x27;PTEQ&#x27;, &#x27;PTEQ&#x27;, &#x27;PTEQ&#x27;, &#x27;PTEQ&#x27;, &#x27;PTEQ&#x27;,\n",
       "       &#x27;PTEQ&#x27;, &#x27;PTEQ&#x27;, &#x27;PTEQ&#x27;, &#x27;PTEQ&#x27;, &#x27;PTEQ&#x27;, &#x27;PTEQ&#x27;, &#x27;PTEQ&#x27;, &#x27;PTEQ&#x27;, &#x27;PTEQ&#x27;,\n",
       "       &#x27;PTEQ&#x27;, &#x27;PTEQ&#x27;, &#x27;PTEQ&#x27;, &#x27;PTEQ&#x27;, &#x27;PTEQ&#x27;, &#x27;PTEQ&#x27;, &#x27;PTEQ&#x27;, &#x27;PTEQ&#x27;,\n",
       "       &#x27;PTTEND&#x27;, &#x27;PTTEND&#x27;, &#x27;PTTEND&#x27;, &#x27;PTTEND&#x27;, &#x27;PTTEND&#x27;, &#x27;PTTEND&#x27;, &#x27;PTTEND&#x27;,\n",
       "       &#x27;PTTEND&#x27;, &#x27;PTTEND&#x27;, &#x27;PTTEND&#x27;, &#x27;PTTEND&#x27;, &#x27;PTTEND&#x27;, &#x27;PTTEND&#x27;, &#x27;PTTEND&#x27;,\n",
       "       &#x27;PTTEND&#x27;, &#x27;PTTEND&#x27;, &#x27;PTTEND&#x27;, &#x27;PTTEND&#x27;, &#x27;PTTEND&#x27;, &#x27;PTTEND&#x27;, &#x27;PTTEND&#x27;,\n",
       "       &#x27;PTTEND&#x27;, &#x27;PTTEND&#x27;, &#x27;PTTEND&#x27;, &#x27;PTTEND&#x27;, &#x27;PTTEND&#x27;, &#x27;PTTEND&#x27;, &#x27;PTTEND&#x27;,\n",
       "       &#x27;PTTEND&#x27;, &#x27;PTTEND&#x27;, &#x27;FSNT&#x27;, &#x27;FSNS&#x27;, &#x27;FLNT&#x27;, &#x27;FLNS&#x27;], dtype=object)</pre></li></ul></div></li><li class='xr-section-item'><input id='section-ea7cbb8d-b7a8-4d0a-8d7a-95bd52fc0dc3' class='xr-section-summary-in' type='checkbox' disabled ><label for='section-ea7cbb8d-b7a8-4d0a-8d7a-95bd52fc0dc3' class='xr-section-summary'  title='Expand/collapse section'>Attributes: <span>(0)</span></label><div class='xr-section-inline-details'></div><div class='xr-section-details'><dl class='xr-attrs'></dl></div></li></ul></div></div>"
      ],
      "text/plain": [
       "<xarray.DataArray 'vars' (sample: 31518720, var_names: 188)>\n",
       "[5925519360 values with dtype=float32]\n",
       "Coordinates:\n",
       "  * var_names  (var_names) object 'QBP' 'QBP' 'QBP' ... 'FSNS' 'FLNT' 'FLNS'\n",
       "Dimensions without coordinates: sample"
      ]
     },
     "execution_count": 13,
     "metadata": {},
     "output_type": "execute_result"
    }
   ],
   "source": [
    "data.vars"
   ]
  },
  {
   "cell_type": "code",
   "execution_count": 14,
   "metadata": {},
   "outputs": [],
   "source": [
    "datageo = xr.open_dataset(path_realgeography+VALIDFILE)"
   ]
  },
  {
   "cell_type": "code",
   "execution_count": 46,
   "metadata": {},
   "outputs": [
    {
     "data": {
      "text/html": [
       "<div><svg style=\"position: absolute; width: 0; height: 0; overflow: hidden\">\n",
       "<defs>\n",
       "<symbol id=\"icon-database\" viewBox=\"0 0 32 32\">\n",
       "<title>Show/Hide data repr</title>\n",
       "<path d=\"M16 0c-8.837 0-16 2.239-16 5v4c0 2.761 7.163 5 16 5s16-2.239 16-5v-4c0-2.761-7.163-5-16-5z\"></path>\n",
       "<path d=\"M16 17c-8.837 0-16-2.239-16-5v6c0 2.761 7.163 5 16 5s16-2.239 16-5v-6c0 2.761-7.163 5-16 5z\"></path>\n",
       "<path d=\"M16 26c-8.837 0-16-2.239-16-5v6c0 2.761 7.163 5 16 5s16-2.239 16-5v-6c0 2.761-7.163 5-16 5z\"></path>\n",
       "</symbol>\n",
       "<symbol id=\"icon-file-text2\" viewBox=\"0 0 32 32\">\n",
       "<title>Show/Hide attributes</title>\n",
       "<path d=\"M28.681 7.159c-0.694-0.947-1.662-2.053-2.724-3.116s-2.169-2.030-3.116-2.724c-1.612-1.182-2.393-1.319-2.841-1.319h-15.5c-1.378 0-2.5 1.121-2.5 2.5v27c0 1.378 1.122 2.5 2.5 2.5h23c1.378 0 2.5-1.122 2.5-2.5v-19.5c0-0.448-0.137-1.23-1.319-2.841zM24.543 5.457c0.959 0.959 1.712 1.825 2.268 2.543h-4.811v-4.811c0.718 0.556 1.584 1.309 2.543 2.268zM28 29.5c0 0.271-0.229 0.5-0.5 0.5h-23c-0.271 0-0.5-0.229-0.5-0.5v-27c0-0.271 0.229-0.5 0.5-0.5 0 0 15.499-0 15.5 0v7c0 0.552 0.448 1 1 1h7v19.5z\"></path>\n",
       "<path d=\"M23 26h-14c-0.552 0-1-0.448-1-1s0.448-1 1-1h14c0.552 0 1 0.448 1 1s-0.448 1-1 1z\"></path>\n",
       "<path d=\"M23 22h-14c-0.552 0-1-0.448-1-1s0.448-1 1-1h14c0.552 0 1 0.448 1 1s-0.448 1-1 1z\"></path>\n",
       "<path d=\"M23 18h-14c-0.552 0-1-0.448-1-1s0.448-1 1-1h14c0.552 0 1 0.448 1 1s-0.448 1-1 1z\"></path>\n",
       "</symbol>\n",
       "</defs>\n",
       "</svg>\n",
       "<style>/* CSS stylesheet for displaying xarray objects in jupyterlab.\n",
       " *\n",
       " */\n",
       "\n",
       ":root {\n",
       "  --xr-font-color0: var(--jp-content-font-color0, rgba(0, 0, 0, 1));\n",
       "  --xr-font-color2: var(--jp-content-font-color2, rgba(0, 0, 0, 0.54));\n",
       "  --xr-font-color3: var(--jp-content-font-color3, rgba(0, 0, 0, 0.38));\n",
       "  --xr-border-color: var(--jp-border-color2, #e0e0e0);\n",
       "  --xr-disabled-color: var(--jp-layout-color3, #bdbdbd);\n",
       "  --xr-background-color: var(--jp-layout-color0, white);\n",
       "  --xr-background-color-row-even: var(--jp-layout-color1, white);\n",
       "  --xr-background-color-row-odd: var(--jp-layout-color2, #eeeeee);\n",
       "}\n",
       "\n",
       ".xr-wrap {\n",
       "  min-width: 300px;\n",
       "  max-width: 700px;\n",
       "}\n",
       "\n",
       ".xr-header {\n",
       "  padding-top: 6px;\n",
       "  padding-bottom: 6px;\n",
       "  margin-bottom: 4px;\n",
       "  border-bottom: solid 1px var(--xr-border-color);\n",
       "}\n",
       "\n",
       ".xr-header > div,\n",
       ".xr-header > ul {\n",
       "  display: inline;\n",
       "  margin-top: 0;\n",
       "  margin-bottom: 0;\n",
       "}\n",
       "\n",
       ".xr-obj-type,\n",
       ".xr-array-name {\n",
       "  margin-left: 2px;\n",
       "  margin-right: 10px;\n",
       "}\n",
       "\n",
       ".xr-obj-type {\n",
       "  color: var(--xr-font-color2);\n",
       "}\n",
       "\n",
       ".xr-sections {\n",
       "  padding-left: 0 !important;\n",
       "  display: grid;\n",
       "  grid-template-columns: 150px auto auto 1fr 20px 20px;\n",
       "}\n",
       "\n",
       ".xr-section-item {\n",
       "  display: contents;\n",
       "}\n",
       "\n",
       ".xr-section-item input {\n",
       "  display: none;\n",
       "}\n",
       "\n",
       ".xr-section-item input + label {\n",
       "  color: var(--xr-disabled-color);\n",
       "}\n",
       "\n",
       ".xr-section-item input:enabled + label {\n",
       "  cursor: pointer;\n",
       "  color: var(--xr-font-color2);\n",
       "}\n",
       "\n",
       ".xr-section-item input:enabled + label:hover {\n",
       "  color: var(--xr-font-color0);\n",
       "}\n",
       "\n",
       ".xr-section-summary {\n",
       "  grid-column: 1;\n",
       "  color: var(--xr-font-color2);\n",
       "  font-weight: 500;\n",
       "}\n",
       "\n",
       ".xr-section-summary > span {\n",
       "  display: inline-block;\n",
       "  padding-left: 0.5em;\n",
       "}\n",
       "\n",
       ".xr-section-summary-in:disabled + label {\n",
       "  color: var(--xr-font-color2);\n",
       "}\n",
       "\n",
       ".xr-section-summary-in + label:before {\n",
       "  display: inline-block;\n",
       "  content: '►';\n",
       "  font-size: 11px;\n",
       "  width: 15px;\n",
       "  text-align: center;\n",
       "}\n",
       "\n",
       ".xr-section-summary-in:disabled + label:before {\n",
       "  color: var(--xr-disabled-color);\n",
       "}\n",
       "\n",
       ".xr-section-summary-in:checked + label:before {\n",
       "  content: '▼';\n",
       "}\n",
       "\n",
       ".xr-section-summary-in:checked + label > span {\n",
       "  display: none;\n",
       "}\n",
       "\n",
       ".xr-section-summary,\n",
       ".xr-section-inline-details {\n",
       "  padding-top: 4px;\n",
       "  padding-bottom: 4px;\n",
       "}\n",
       "\n",
       ".xr-section-inline-details {\n",
       "  grid-column: 2 / -1;\n",
       "}\n",
       "\n",
       ".xr-section-details {\n",
       "  display: none;\n",
       "  grid-column: 1 / -1;\n",
       "  margin-bottom: 5px;\n",
       "}\n",
       "\n",
       ".xr-section-summary-in:checked ~ .xr-section-details {\n",
       "  display: contents;\n",
       "}\n",
       "\n",
       ".xr-array-wrap {\n",
       "  grid-column: 1 / -1;\n",
       "  display: grid;\n",
       "  grid-template-columns: 20px auto;\n",
       "}\n",
       "\n",
       ".xr-array-wrap > label {\n",
       "  grid-column: 1;\n",
       "  vertical-align: top;\n",
       "}\n",
       "\n",
       ".xr-preview {\n",
       "  color: var(--xr-font-color3);\n",
       "}\n",
       "\n",
       ".xr-array-preview,\n",
       ".xr-array-data {\n",
       "  padding: 0 5px !important;\n",
       "  grid-column: 2;\n",
       "}\n",
       "\n",
       ".xr-array-data,\n",
       ".xr-array-in:checked ~ .xr-array-preview {\n",
       "  display: none;\n",
       "}\n",
       "\n",
       ".xr-array-in:checked ~ .xr-array-data,\n",
       ".xr-array-preview {\n",
       "  display: inline-block;\n",
       "}\n",
       "\n",
       ".xr-dim-list {\n",
       "  display: inline-block !important;\n",
       "  list-style: none;\n",
       "  padding: 0 !important;\n",
       "  margin: 0;\n",
       "}\n",
       "\n",
       ".xr-dim-list li {\n",
       "  display: inline-block;\n",
       "  padding: 0;\n",
       "  margin: 0;\n",
       "}\n",
       "\n",
       ".xr-dim-list:before {\n",
       "  content: '(';\n",
       "}\n",
       "\n",
       ".xr-dim-list:after {\n",
       "  content: ')';\n",
       "}\n",
       "\n",
       ".xr-dim-list li:not(:last-child):after {\n",
       "  content: ',';\n",
       "  padding-right: 5px;\n",
       "}\n",
       "\n",
       ".xr-has-index {\n",
       "  font-weight: bold;\n",
       "}\n",
       "\n",
       ".xr-var-list,\n",
       ".xr-var-item {\n",
       "  display: contents;\n",
       "}\n",
       "\n",
       ".xr-var-item > div,\n",
       ".xr-var-item label,\n",
       ".xr-var-item > .xr-var-name span {\n",
       "  background-color: var(--xr-background-color-row-even);\n",
       "  margin-bottom: 0;\n",
       "}\n",
       "\n",
       ".xr-var-item > .xr-var-name:hover span {\n",
       "  padding-right: 5px;\n",
       "}\n",
       "\n",
       ".xr-var-list > li:nth-child(odd) > div,\n",
       ".xr-var-list > li:nth-child(odd) > label,\n",
       ".xr-var-list > li:nth-child(odd) > .xr-var-name span {\n",
       "  background-color: var(--xr-background-color-row-odd);\n",
       "}\n",
       "\n",
       ".xr-var-name {\n",
       "  grid-column: 1;\n",
       "}\n",
       "\n",
       ".xr-var-dims {\n",
       "  grid-column: 2;\n",
       "}\n",
       "\n",
       ".xr-var-dtype {\n",
       "  grid-column: 3;\n",
       "  text-align: right;\n",
       "  color: var(--xr-font-color2);\n",
       "}\n",
       "\n",
       ".xr-var-preview {\n",
       "  grid-column: 4;\n",
       "}\n",
       "\n",
       ".xr-var-name,\n",
       ".xr-var-dims,\n",
       ".xr-var-dtype,\n",
       ".xr-preview,\n",
       ".xr-attrs dt {\n",
       "  white-space: nowrap;\n",
       "  overflow: hidden;\n",
       "  text-overflow: ellipsis;\n",
       "  padding-right: 10px;\n",
       "}\n",
       "\n",
       ".xr-var-name:hover,\n",
       ".xr-var-dims:hover,\n",
       ".xr-var-dtype:hover,\n",
       ".xr-attrs dt:hover {\n",
       "  overflow: visible;\n",
       "  width: auto;\n",
       "  z-index: 1;\n",
       "}\n",
       "\n",
       ".xr-var-attrs,\n",
       ".xr-var-data {\n",
       "  display: none;\n",
       "  background-color: var(--xr-background-color) !important;\n",
       "  padding-bottom: 5px !important;\n",
       "}\n",
       "\n",
       ".xr-var-attrs-in:checked ~ .xr-var-attrs,\n",
       ".xr-var-data-in:checked ~ .xr-var-data {\n",
       "  display: block;\n",
       "}\n",
       "\n",
       ".xr-var-data > table {\n",
       "  float: right;\n",
       "}\n",
       "\n",
       ".xr-var-name span,\n",
       ".xr-var-data,\n",
       ".xr-attrs {\n",
       "  padding-left: 25px !important;\n",
       "}\n",
       "\n",
       ".xr-attrs,\n",
       ".xr-var-attrs,\n",
       ".xr-var-data {\n",
       "  grid-column: 1 / -1;\n",
       "}\n",
       "\n",
       "dl.xr-attrs {\n",
       "  padding: 0;\n",
       "  margin: 0;\n",
       "  display: grid;\n",
       "  grid-template-columns: 125px auto;\n",
       "}\n",
       "\n",
       ".xr-attrs dt, dd {\n",
       "  padding: 0;\n",
       "  margin: 0;\n",
       "  float: left;\n",
       "  padding-right: 10px;\n",
       "  width: auto;\n",
       "}\n",
       "\n",
       ".xr-attrs dt {\n",
       "  font-weight: normal;\n",
       "  grid-column: 1;\n",
       "}\n",
       "\n",
       ".xr-attrs dt:hover span {\n",
       "  display: inline-block;\n",
       "  background: var(--xr-background-color);\n",
       "  padding-right: 10px;\n",
       "}\n",
       "\n",
       ".xr-attrs dd {\n",
       "  grid-column: 2;\n",
       "  white-space: pre-wrap;\n",
       "  word-break: break-all;\n",
       "}\n",
       "\n",
       ".xr-icon-database,\n",
       ".xr-icon-file-text2 {\n",
       "  display: inline-block;\n",
       "  vertical-align: middle;\n",
       "  width: 1em;\n",
       "  height: 1.5em !important;\n",
       "  stroke-width: 0;\n",
       "  stroke: currentColor;\n",
       "  fill: currentColor;\n",
       "}\n",
       "</style><div class='xr-wrap'><div class='xr-header'><div class='xr-obj-type'>xarray.DataArray</div><div class='xr-array-name'>'vars'</div><ul class='xr-dim-list'><li><span>sample</span>: 47278080</li><li><span class='xr-has-index'>var_names</span>: 188</li></ul></div><ul class='xr-sections'><li class='xr-section-item'><div class='xr-array-wrap'><input id='section-3be236b1-ef24-4132-aae7-a5fc019d5897' class='xr-array-in' type='checkbox' ><label for='section-3be236b1-ef24-4132-aae7-a5fc019d5897' title='Show/hide data repr'><svg class='icon xr-icon-database'><use xlink:href='#icon-database'></use></svg></label><div class='xr-array-preview xr-preview'><span>...</span></div><pre class='xr-array-data'>[8888279040 values with dtype=float32]</pre></div></li><li class='xr-section-item'><input id='section-6fa79f4c-ade2-4294-b2db-1ecdb15d2129' class='xr-section-summary-in' type='checkbox'  checked><label for='section-6fa79f4c-ade2-4294-b2db-1ecdb15d2129' class='xr-section-summary' >Coordinates: <span>(4)</span></label><div class='xr-section-inline-details'></div><div class='xr-section-details'><ul class='xr-var-list'><li class='xr-var-item'><div class='xr-var-name'><span class='xr-has-index'>var_names</span></div><div class='xr-var-dims'>(var_names)</div><div class='xr-var-dtype'>object</div><div class='xr-var-preview xr-preview'>&#x27;QBP&#x27; &#x27;QBP&#x27; &#x27;QBP&#x27; ... &#x27;FLNT&#x27; &#x27;FLNS&#x27;</div><input id='attrs-04d6b8a1-16fd-47e8-8727-cb07c704a847' class='xr-var-attrs-in' type='checkbox' disabled><label for='attrs-04d6b8a1-16fd-47e8-8727-cb07c704a847' title='Show/Hide attributes'><svg class='icon xr-icon-file-text2'><use xlink:href='#icon-file-text2'></use></svg></label><input id='data-ea6f4626-acef-48bc-8fa4-d9852d4a33ff' class='xr-var-data-in' type='checkbox'><label for='data-ea6f4626-acef-48bc-8fa4-d9852d4a33ff' title='Show/Hide data repr'><svg class='icon xr-icon-database'><use xlink:href='#icon-database'></use></svg></label><div class='xr-var-attrs'><dl class='xr-attrs'></dl></div><pre class='xr-var-data'>array([&#x27;QBP&#x27;, &#x27;QBP&#x27;, &#x27;QBP&#x27;, &#x27;QBP&#x27;, &#x27;QBP&#x27;, &#x27;QBP&#x27;, &#x27;QBP&#x27;, &#x27;QBP&#x27;, &#x27;QBP&#x27;, &#x27;QBP&#x27;,\n",
       "       &#x27;QBP&#x27;, &#x27;QBP&#x27;, &#x27;QBP&#x27;, &#x27;QBP&#x27;, &#x27;QBP&#x27;, &#x27;QBP&#x27;, &#x27;QBP&#x27;, &#x27;QBP&#x27;, &#x27;QBP&#x27;, &#x27;QBP&#x27;,\n",
       "       &#x27;QBP&#x27;, &#x27;QBP&#x27;, &#x27;QBP&#x27;, &#x27;QBP&#x27;, &#x27;QBP&#x27;, &#x27;QBP&#x27;, &#x27;QBP&#x27;, &#x27;QBP&#x27;, &#x27;QBP&#x27;, &#x27;QBP&#x27;,\n",
       "       &#x27;TBP&#x27;, &#x27;TBP&#x27;, &#x27;TBP&#x27;, &#x27;TBP&#x27;, &#x27;TBP&#x27;, &#x27;TBP&#x27;, &#x27;TBP&#x27;, &#x27;TBP&#x27;, &#x27;TBP&#x27;, &#x27;TBP&#x27;,\n",
       "       &#x27;TBP&#x27;, &#x27;TBP&#x27;, &#x27;TBP&#x27;, &#x27;TBP&#x27;, &#x27;TBP&#x27;, &#x27;TBP&#x27;, &#x27;TBP&#x27;, &#x27;TBP&#x27;, &#x27;TBP&#x27;, &#x27;TBP&#x27;,\n",
       "       &#x27;TBP&#x27;, &#x27;TBP&#x27;, &#x27;TBP&#x27;, &#x27;TBP&#x27;, &#x27;TBP&#x27;, &#x27;TBP&#x27;, &#x27;TBP&#x27;, &#x27;TBP&#x27;, &#x27;TBP&#x27;, &#x27;TBP&#x27;,\n",
       "       &#x27;PS&#x27;, &#x27;SOLIN&#x27;, &#x27;SHFLX&#x27;, &#x27;LHFLX&#x27;, &#x27;QRL&#x27;, &#x27;QRL&#x27;, &#x27;QRL&#x27;, &#x27;QRL&#x27;, &#x27;QRL&#x27;,\n",
       "       &#x27;QRL&#x27;, &#x27;QRL&#x27;, &#x27;QRL&#x27;, &#x27;QRL&#x27;, &#x27;QRL&#x27;, &#x27;QRL&#x27;, &#x27;QRL&#x27;, &#x27;QRL&#x27;, &#x27;QRL&#x27;, &#x27;QRL&#x27;,\n",
       "       &#x27;QRL&#x27;, &#x27;QRL&#x27;, &#x27;QRL&#x27;, &#x27;QRL&#x27;, &#x27;QRL&#x27;, &#x27;QRL&#x27;, &#x27;QRL&#x27;, &#x27;QRL&#x27;, &#x27;QRL&#x27;, &#x27;QRL&#x27;,\n",
       "       &#x27;QRL&#x27;, &#x27;QRL&#x27;, &#x27;QRL&#x27;, &#x27;QRL&#x27;, &#x27;QRL&#x27;, &#x27;QRS&#x27;, &#x27;QRS&#x27;, &#x27;QRS&#x27;, &#x27;QRS&#x27;, &#x27;QRS&#x27;,\n",
       "       &#x27;QRS&#x27;, &#x27;QRS&#x27;, &#x27;QRS&#x27;, &#x27;QRS&#x27;, &#x27;QRS&#x27;, &#x27;QRS&#x27;, &#x27;QRS&#x27;, &#x27;QRS&#x27;, &#x27;QRS&#x27;, &#x27;QRS&#x27;,\n",
       "       &#x27;QRS&#x27;, &#x27;QRS&#x27;, &#x27;QRS&#x27;, &#x27;QRS&#x27;, &#x27;QRS&#x27;, &#x27;QRS&#x27;, &#x27;QRS&#x27;, &#x27;QRS&#x27;, &#x27;QRS&#x27;, &#x27;QRS&#x27;,\n",
       "       &#x27;QRS&#x27;, &#x27;QRS&#x27;, &#x27;QRS&#x27;, &#x27;QRS&#x27;, &#x27;QRS&#x27;, &#x27;PTEQ&#x27;, &#x27;PTEQ&#x27;, &#x27;PTEQ&#x27;, &#x27;PTEQ&#x27;,\n",
       "       &#x27;PTEQ&#x27;, &#x27;PTEQ&#x27;, &#x27;PTEQ&#x27;, &#x27;PTEQ&#x27;, &#x27;PTEQ&#x27;, &#x27;PTEQ&#x27;, &#x27;PTEQ&#x27;, &#x27;PTEQ&#x27;, &#x27;PTEQ&#x27;,\n",
       "       &#x27;PTEQ&#x27;, &#x27;PTEQ&#x27;, &#x27;PTEQ&#x27;, &#x27;PTEQ&#x27;, &#x27;PTEQ&#x27;, &#x27;PTEQ&#x27;, &#x27;PTEQ&#x27;, &#x27;PTEQ&#x27;, &#x27;PTEQ&#x27;,\n",
       "       &#x27;PTEQ&#x27;, &#x27;PTEQ&#x27;, &#x27;PTEQ&#x27;, &#x27;PTEQ&#x27;, &#x27;PTEQ&#x27;, &#x27;PTEQ&#x27;, &#x27;PTEQ&#x27;, &#x27;PTEQ&#x27;,\n",
       "       &#x27;PTTEND&#x27;, &#x27;PTTEND&#x27;, &#x27;PTTEND&#x27;, &#x27;PTTEND&#x27;, &#x27;PTTEND&#x27;, &#x27;PTTEND&#x27;, &#x27;PTTEND&#x27;,\n",
       "       &#x27;PTTEND&#x27;, &#x27;PTTEND&#x27;, &#x27;PTTEND&#x27;, &#x27;PTTEND&#x27;, &#x27;PTTEND&#x27;, &#x27;PTTEND&#x27;, &#x27;PTTEND&#x27;,\n",
       "       &#x27;PTTEND&#x27;, &#x27;PTTEND&#x27;, &#x27;PTTEND&#x27;, &#x27;PTTEND&#x27;, &#x27;PTTEND&#x27;, &#x27;PTTEND&#x27;, &#x27;PTTEND&#x27;,\n",
       "       &#x27;PTTEND&#x27;, &#x27;PTTEND&#x27;, &#x27;PTTEND&#x27;, &#x27;PTTEND&#x27;, &#x27;PTTEND&#x27;, &#x27;PTTEND&#x27;, &#x27;PTTEND&#x27;,\n",
       "       &#x27;PTTEND&#x27;, &#x27;PTTEND&#x27;, &#x27;FSNT&#x27;, &#x27;FSNS&#x27;, &#x27;FLNT&#x27;, &#x27;FLNS&#x27;], dtype=object)</pre></li><li class='xr-var-item'><div class='xr-var-name'><span>time</span></div><div class='xr-var-dims'>(sample)</div><div class='xr-var-dtype'>int64</div><div class='xr-var-preview xr-preview'>...</div><input id='attrs-1e421471-7dec-43b1-baaf-176626271e38' class='xr-var-attrs-in' type='checkbox' disabled><label for='attrs-1e421471-7dec-43b1-baaf-176626271e38' title='Show/Hide attributes'><svg class='icon xr-icon-file-text2'><use xlink:href='#icon-file-text2'></use></svg></label><input id='data-51f3ce59-8f73-49a4-84dd-53412e45b038' class='xr-var-data-in' type='checkbox'><label for='data-51f3ce59-8f73-49a4-84dd-53412e45b038' title='Show/Hide data repr'><svg class='icon xr-icon-database'><use xlink:href='#icon-database'></use></svg></label><div class='xr-var-attrs'><dl class='xr-attrs'></dl></div><pre class='xr-var-data'>[47278080 values with dtype=int64]</pre></li><li class='xr-var-item'><div class='xr-var-name'><span>lat</span></div><div class='xr-var-dims'>(sample)</div><div class='xr-var-dtype'>float64</div><div class='xr-var-preview xr-preview'>...</div><input id='attrs-36aba2cf-e1f5-4451-9404-b8544a96831b' class='xr-var-attrs-in' type='checkbox' disabled><label for='attrs-36aba2cf-e1f5-4451-9404-b8544a96831b' title='Show/Hide attributes'><svg class='icon xr-icon-file-text2'><use xlink:href='#icon-file-text2'></use></svg></label><input id='data-fdf729d5-6eb9-45d9-a908-0d7305fe5b98' class='xr-var-data-in' type='checkbox'><label for='data-fdf729d5-6eb9-45d9-a908-0d7305fe5b98' title='Show/Hide data repr'><svg class='icon xr-icon-database'><use xlink:href='#icon-database'></use></svg></label><div class='xr-var-attrs'><dl class='xr-attrs'></dl></div><pre class='xr-var-data'>[47278080 values with dtype=float64]</pre></li><li class='xr-var-item'><div class='xr-var-name'><span>lon</span></div><div class='xr-var-dims'>(sample)</div><div class='xr-var-dtype'>float64</div><div class='xr-var-preview xr-preview'>...</div><input id='attrs-7303abab-3ffb-453f-9458-8c09f895e642' class='xr-var-attrs-in' type='checkbox' disabled><label for='attrs-7303abab-3ffb-453f-9458-8c09f895e642' title='Show/Hide attributes'><svg class='icon xr-icon-file-text2'><use xlink:href='#icon-file-text2'></use></svg></label><input id='data-533d0db5-4e3a-4202-b478-7ee891092d4e' class='xr-var-data-in' type='checkbox'><label for='data-533d0db5-4e3a-4202-b478-7ee891092d4e' title='Show/Hide data repr'><svg class='icon xr-icon-database'><use xlink:href='#icon-database'></use></svg></label><div class='xr-var-attrs'><dl class='xr-attrs'></dl></div><pre class='xr-var-data'>[47278080 values with dtype=float64]</pre></li></ul></div></li><li class='xr-section-item'><input id='section-664e1d09-cbb4-46de-a842-1ab13738d162' class='xr-section-summary-in' type='checkbox' disabled ><label for='section-664e1d09-cbb4-46de-a842-1ab13738d162' class='xr-section-summary'  title='Expand/collapse section'>Attributes: <span>(0)</span></label><div class='xr-section-inline-details'></div><div class='xr-section-details'><dl class='xr-attrs'></dl></div></li></ul></div></div>"
      ],
      "text/plain": [
       "<xarray.DataArray 'vars' (sample: 47278080, var_names: 188)>\n",
       "[8888279040 values with dtype=float32]\n",
       "Coordinates:\n",
       "  * var_names  (var_names) object 'QBP' 'QBP' 'QBP' ... 'FSNS' 'FLNT' 'FLNS'\n",
       "    time       (sample) int64 ...\n",
       "    lat        (sample) float64 ...\n",
       "    lon        (sample) float64 ...\n",
       "Dimensions without coordinates: sample"
      ]
     },
     "execution_count": 46,
     "metadata": {},
     "output_type": "execute_result"
    }
   ],
   "source": [
    "datageo.vars"
   ]
  },
  {
   "cell_type": "markdown",
   "metadata": {},
   "source": [
    "## Brute-Force Model"
   ]
  },
  {
   "cell_type": "markdown",
   "metadata": {},
   "source": [
    "### Climate-invariant (T,Q,PS,S0,SHF,LHF)->($\\dot{T}$,$\\dot{q}$,RADFLUX)"
   ]
  },
  {
   "cell_type": "code",
   "execution_count": 28,
   "metadata": {},
   "outputs": [],
   "source": [
    "inp = Input(shape=(64,)) ## input after rh and tns transformation\n",
    "densout = Dense(128, activation='linear')(inp)\n",
    "densout = LeakyReLU(alpha=0.3)(densout)\n",
    "for i in range (6):\n",
    "    densout = Dense(128, activation='linear')(densout)\n",
    "    densout = LeakyReLU(alpha=0.3)(densout)\n",
    "dense_out = Dense(64, activation='linear')(densout)\n",
    "model = tf.keras.models.Model(inp, dense_out)"
   ]
  },
  {
   "cell_type": "code",
   "execution_count": 29,
   "metadata": {},
   "outputs": [],
   "source": [
    "# Where to save the model\n",
    "path_HDF5 = '/oasis/scratch/comet/tbeucler/temp_project/CBRAIN_models/'\n",
    "save_name = 'BF_temp'"
   ]
  },
  {
   "cell_type": "code",
   "execution_count": 30,
   "metadata": {},
   "outputs": [],
   "source": [
    "model.compile(tf.keras.optimizers.Adam(), loss=mse)\n",
    "earlyStopping = EarlyStopping(monitor='val_loss', patience=10, verbose=0, mode='min')\n",
    "mcp_save_pos = ModelCheckpoint(path_HDF5+save_name+'.hdf5',save_best_only=True, monitor='val_loss', mode='min')\n",
    "# tensorboard_callback = tf.keras.callbacks.TensorBoard(logdir, histogram_freq=0, update_freq=1000,embeddings_freq=1)"
   ]
  },
  {
   "cell_type": "code",
   "execution_count": 31,
   "metadata": {},
   "outputs": [
    {
     "ename": "NameError",
     "evalue": "name 'train_gen' is not defined",
     "output_type": "error",
     "traceback": [
      "\u001b[0;31m---------------------------------------------------------------------------\u001b[0m",
      "\u001b[0;31mNameError\u001b[0m                                 Traceback (most recent call last)",
      "\u001b[0;32m<ipython-input-31-0f35d231cc48>\u001b[0m in \u001b[0;36m<module>\u001b[0;34m\u001b[0m\n\u001b[1;32m      1\u001b[0m \u001b[0mNep\u001b[0m \u001b[0;34m=\u001b[0m \u001b[0;36m10\u001b[0m\u001b[0;34m\u001b[0m\u001b[0;34m\u001b[0m\u001b[0m\n\u001b[0;32m----> 2\u001b[0;31m model.fit_generator(train_gen, epochs=Nep, validation_data=valid_gen,\\\n\u001b[0m\u001b[1;32m      3\u001b[0m               callbacks=[earlyStopping, mcp_save_pos])\n",
      "\u001b[0;31mNameError\u001b[0m: name 'train_gen' is not defined"
     ]
    }
   ],
   "source": [
    "Nep = 10\n",
    "model.fit_generator(train_gen, epochs=Nep, validation_data=valid_gen,\\\n",
    "              callbacks=[earlyStopping, mcp_save_pos])"
   ]
  },
  {
   "cell_type": "markdown",
   "metadata": {},
   "source": [
    "### Ozone (T,Q,$O_{3}$,S0,PS,LHF,SHF)$\\rightarrow$($\\dot{q}$,$\\dot{T}$,lw,sw)"
   ]
  },
  {
   "cell_type": "code",
   "execution_count": 10,
   "metadata": {},
   "outputs": [],
   "source": [
    "inp = Input(shape=(94,)) ## input after rh and tns transformation\n",
    "densout = Dense(128, activation='linear')(inp)\n",
    "densout = LeakyReLU(alpha=0.3)(densout)\n",
    "for i in range (6):\n",
    "    densout = Dense(128, activation='linear')(densout)\n",
    "    densout = LeakyReLU(alpha=0.3)(densout)\n",
    "dense_out = Dense(120, activation='linear')(densout)\n",
    "model = tf.keras.models.Model(inp, dense_out)"
   ]
  },
  {
   "cell_type": "code",
   "execution_count": 11,
   "metadata": {},
   "outputs": [],
   "source": [
    "# Where to save the model\n",
    "path_HDF5 = '/DFS-L/DATA/pritchard/tbeucler/SPCAM/HDF5_DATA/'\n",
    "save_name = '2021_01_25_O3'"
   ]
  },
  {
   "cell_type": "code",
   "execution_count": 12,
   "metadata": {},
   "outputs": [],
   "source": [
    "model.compile(tf.keras.optimizers.Adam(), loss=mse)\n",
    "earlyStopping = EarlyStopping(monitor='val_loss', patience=10, verbose=0, mode='min')\n",
    "mcp_save_pos = ModelCheckpoint(path_HDF5+save_name+'.hdf5',save_best_only=True, monitor='val_loss', mode='min')\n",
    "# tensorboard_callback = tf.keras.callbacks.TensorBoard(logdir, histogram_freq=0, update_freq=1000,embeddings_freq=1)"
   ]
  },
  {
   "cell_type": "code",
   "execution_count": 13,
   "metadata": {},
   "outputs": [
    {
     "name": "stdout",
     "output_type": "stream",
     "text": [
      "Epoch 1/10\n",
      "5759/5759 [==============================] - 1548s 269ms/step - loss: 316.0037 - val_loss: 294.2549\n",
      "Epoch 2/10\n",
      "5759/5759 [==============================] - 1288s 224ms/step - loss: 287.4542 - val_loss: 282.2092\n",
      "Epoch 3/10\n",
      "5759/5759 [==============================] - 1219s 212ms/step - loss: 278.3549 - val_loss: 273.9662\n",
      "Epoch 4/10\n",
      "5759/5759 [==============================] - 1325s 230ms/step - loss: 273.1130 - val_loss: 269.2764\n",
      "Epoch 5/10\n",
      "5759/5759 [==============================] - 1525s 265ms/step - loss: 269.0706 - val_loss: 265.5691\n",
      "Epoch 6/10\n",
      "5759/5759 [==============================] - 1435s 249ms/step - loss: 266.1625 - val_loss: 265.4249\n",
      "Epoch 7/10\n",
      "5759/5759 [==============================] - 1293s 225ms/step - loss: 264.1924 - val_loss: 263.4615\n",
      "Epoch 8/10\n",
      "5759/5759 [==============================] - 1124s 195ms/step - loss: 262.4959 - val_loss: 261.5491\n",
      "Epoch 9/10\n",
      "5759/5759 [==============================] - 1403s 244ms/step - loss: 260.9816 - val_loss: 259.6279\n",
      "Epoch 10/10\n",
      "5759/5759 [==============================] - 1463s 254ms/step - loss: 259.6259 - val_loss: 260.3338\n"
     ]
    },
    {
     "data": {
      "text/plain": [
       "<tensorflow.python.keras.callbacks.History at 0x7f3dc0055828>"
      ]
     },
     "execution_count": 13,
     "metadata": {},
     "output_type": "execute_result"
    }
   ],
   "source": [
    "Nep = 10\n",
    "model.fit_generator(train_gen_O3, epochs=Nep, validation_data=valid_gen_O3,\\\n",
    "              callbacks=[earlyStopping, mcp_save_pos])"
   ]
  },
  {
   "cell_type": "code",
   "execution_count": 14,
   "metadata": {},
   "outputs": [
    {
     "name": "stdout",
     "output_type": "stream",
     "text": [
      "Epoch 1/10\n",
      "5759/5759 [==============================] - 1273s 221ms/step - loss: 258.6488 - val_loss: 257.5156\n",
      "Epoch 2/10\n",
      "5759/5759 [==============================] - 1294s 225ms/step - loss: 257.8933 - val_loss: 257.0145\n",
      "Epoch 3/10\n",
      "5759/5759 [==============================] - 1792s 311ms/step - loss: 257.1898 - val_loss: 256.4173\n",
      "Epoch 4/10\n",
      "5759/5759 [==============================] - 1352s 235ms/step - loss: 256.4759 - val_loss: 257.0284\n",
      "Epoch 5/10\n",
      "5759/5759 [==============================] - 1171s 203ms/step - loss: 255.9138 - val_loss: 254.0304\n",
      "Epoch 6/10\n",
      " 537/5759 [=>............................] - ETA: 15:26 - loss: 255.7255"
     ]
    },
    {
     "name": "stderr",
     "output_type": "stream",
     "text": [
      "ERROR:root:Internal Python error in the inspect module.\n",
      "Below is the traceback from this internal error.\n",
      "\n"
     ]
    },
    {
     "name": "stdout",
     "output_type": "stream",
     "text": [
      "Traceback (most recent call last):\n",
      "  File \"/DFS-L/DATA/pritchard/tbeucler/miniconda3/envs/CbrainCustomLayer/lib/python3.6/site-packages/IPython/core/interactiveshell.py\", line 3331, in run_code\n",
      "    exec(code_obj, self.user_global_ns, self.user_ns)\n",
      "  File \"<ipython-input-14-82ad74e99ce3>\", line 3, in <module>\n",
      "    callbacks=[earlyStopping, mcp_save_pos])\n",
      "  File \"/DFS-L/DATA/pritchard/tbeucler/miniconda3/envs/CbrainCustomLayer/lib/python3.6/site-packages/tensorflow_core/python/keras/engine/training.py\", line 1297, in fit_generator\n",
      "    steps_name='steps_per_epoch')\n",
      "  File \"/DFS-L/DATA/pritchard/tbeucler/miniconda3/envs/CbrainCustomLayer/lib/python3.6/site-packages/tensorflow_core/python/keras/engine/training_generator.py\", line 265, in model_iteration\n",
      "    batch_outs = batch_function(*batch_data)\n",
      "  File \"/DFS-L/DATA/pritchard/tbeucler/miniconda3/envs/CbrainCustomLayer/lib/python3.6/site-packages/tensorflow_core/python/keras/engine/training.py\", line 973, in train_on_batch\n",
      "    class_weight=class_weight, reset_metrics=reset_metrics)\n",
      "  File \"/DFS-L/DATA/pritchard/tbeucler/miniconda3/envs/CbrainCustomLayer/lib/python3.6/site-packages/tensorflow_core/python/keras/engine/training_v2_utils.py\", line 254, in train_on_batch\n",
      "    batch_size = array_ops.shape(nest.flatten(x, expand_composites=True)[0])[0]\n",
      "  File \"/DFS-L/DATA/pritchard/tbeucler/miniconda3/envs/CbrainCustomLayer/lib/python3.6/site-packages/tensorflow_core/python/ops/array_ops.py\", line 458, in shape\n",
      "    return shape_internal(input, name, optimize=True, out_type=out_type)\n",
      "  File \"/DFS-L/DATA/pritchard/tbeucler/miniconda3/envs/CbrainCustomLayer/lib/python3.6/site-packages/tensorflow_core/python/ops/array_ops.py\", line 486, in shape_internal\n",
      "    return gen_array_ops.shape(input, name=name, out_type=out_type)\n",
      "  File \"/DFS-L/DATA/pritchard/tbeucler/miniconda3/envs/CbrainCustomLayer/lib/python3.6/site-packages/tensorflow_core/python/ops/gen_array_ops.py\", line 8961, in shape\n",
      "    name, _ctx._post_execution_callbacks, input, \"out_type\", out_type)\n",
      "KeyboardInterrupt\n",
      "\n",
      "During handling of the above exception, another exception occurred:\n",
      "\n",
      "Traceback (most recent call last):\n",
      "  File \"/DFS-L/DATA/pritchard/tbeucler/miniconda3/envs/CbrainCustomLayer/lib/python3.6/site-packages/IPython/core/interactiveshell.py\", line 2044, in showtraceback\n",
      "    stb = value._render_traceback_()\n",
      "AttributeError: 'KeyboardInterrupt' object has no attribute '_render_traceback_'\n",
      "\n",
      "During handling of the above exception, another exception occurred:\n",
      "\n",
      "Traceback (most recent call last):\n",
      "  File \"/DFS-L/DATA/pritchard/tbeucler/miniconda3/envs/CbrainCustomLayer/lib/python3.6/site-packages/IPython/core/ultratb.py\", line 1148, in get_records\n",
      "    return _fixed_getinnerframes(etb, number_of_lines_of_context, tb_offset)\n",
      "  File \"/DFS-L/DATA/pritchard/tbeucler/miniconda3/envs/CbrainCustomLayer/lib/python3.6/site-packages/IPython/core/ultratb.py\", line 316, in wrapped\n",
      "    return f(*args, **kwargs)\n",
      "  File \"/DFS-L/DATA/pritchard/tbeucler/miniconda3/envs/CbrainCustomLayer/lib/python3.6/site-packages/IPython/core/ultratb.py\", line 350, in _fixed_getinnerframes\n",
      "    records = fix_frame_records_filenames(inspect.getinnerframes(etb, context))\n",
      "  File \"/DFS-L/DATA/pritchard/tbeucler/miniconda3/envs/CbrainCustomLayer/lib/python3.6/inspect.py\", line 1490, in getinnerframes\n",
      "    frameinfo = (tb.tb_frame,) + getframeinfo(tb, context)\n",
      "  File \"/DFS-L/DATA/pritchard/tbeucler/miniconda3/envs/CbrainCustomLayer/lib/python3.6/inspect.py\", line 1448, in getframeinfo\n",
      "    filename = getsourcefile(frame) or getfile(frame)\n",
      "  File \"/DFS-L/DATA/pritchard/tbeucler/miniconda3/envs/CbrainCustomLayer/lib/python3.6/inspect.py\", line 696, in getsourcefile\n",
      "    if getattr(getmodule(object, filename), '__loader__', None) is not None:\n",
      "  File \"/DFS-L/DATA/pritchard/tbeucler/miniconda3/envs/CbrainCustomLayer/lib/python3.6/inspect.py\", line 739, in getmodule\n",
      "    f = getabsfile(module)\n",
      "  File \"/DFS-L/DATA/pritchard/tbeucler/miniconda3/envs/CbrainCustomLayer/lib/python3.6/inspect.py\", line 708, in getabsfile\n",
      "    _filename = getsourcefile(object) or getfile(object)\n",
      "  File \"/DFS-L/DATA/pritchard/tbeucler/miniconda3/envs/CbrainCustomLayer/lib/python3.6/inspect.py\", line 693, in getsourcefile\n",
      "    if os.path.exists(filename):\n",
      "  File \"/DFS-L/DATA/pritchard/tbeucler/miniconda3/envs/CbrainCustomLayer/lib/python3.6/genericpath.py\", line 19, in exists\n",
      "    os.stat(path)\n",
      "KeyboardInterrupt\n"
     ]
    },
    {
     "ename": "KeyboardInterrupt",
     "evalue": "",
     "output_type": "error",
     "traceback": [
      "\u001b[0;31m---------------------------------------------------------------------------\u001b[0m"
     ]
    }
   ],
   "source": [
    "Nep = 10\n",
    "model.fit_generator(train_gen_O3, epochs=Nep, validation_data=valid_gen_O3,\\\n",
    "              callbacks=[earlyStopping, mcp_save_pos])"
   ]
  },
  {
   "cell_type": "markdown",
   "metadata": {},
   "source": [
    "### No Ozone (T,Q,S0,PS,LHF,SHF)$\\rightarrow$($\\dot{q}$,$\\dot{T}$,lw,sw)"
   ]
  },
  {
   "cell_type": "code",
   "execution_count": 10,
   "metadata": {},
   "outputs": [],
   "source": [
    "inp = Input(shape=(64,)) ## input after rh and tns transformation\n",
    "densout = Dense(128, activation='linear')(inp)\n",
    "densout = LeakyReLU(alpha=0.3)(densout)\n",
    "for i in range (6):\n",
    "    densout = Dense(128, activation='linear')(densout)\n",
    "    densout = LeakyReLU(alpha=0.3)(densout)\n",
    "dense_out = Dense(120, activation='linear')(densout)\n",
    "model = tf.keras.models.Model(inp, dense_out)"
   ]
  },
  {
   "cell_type": "code",
   "execution_count": 11,
   "metadata": {},
   "outputs": [],
   "source": [
    "# Where to save the model\n",
    "path_HDF5 = '/DFS-L/DATA/pritchard/tbeucler/SPCAM/HDF5_DATA/'\n",
    "save_name = '2021_01_25_noO3'"
   ]
  },
  {
   "cell_type": "code",
   "execution_count": 12,
   "metadata": {},
   "outputs": [],
   "source": [
    "model.compile(tf.keras.optimizers.Adam(), loss=mse)"
   ]
  },
  {
   "cell_type": "code",
   "execution_count": 13,
   "metadata": {},
   "outputs": [],
   "source": [
    "model.load_weights(path_HDF5+save_name+'.hdf5')"
   ]
  },
  {
   "cell_type": "code",
   "execution_count": 14,
   "metadata": {},
   "outputs": [],
   "source": [
    "\n",
    "earlyStopping = EarlyStopping(monitor='val_loss', patience=10, verbose=0, mode='min')\n",
    "mcp_save_pos = ModelCheckpoint(path_HDF5+save_name+'.hdf5',save_best_only=True, monitor='val_loss', mode='min')\n",
    "# tensorboard_callback = tf.keras.callbacks.TensorBoard(logdir, histogram_freq=0, update_freq=1000,embeddings_freq=1)"
   ]
  },
  {
   "cell_type": "code",
   "execution_count": 15,
   "metadata": {},
   "outputs": [],
   "source": [
    "# Nep = 15\n",
    "# model.fit_generator(train_gen_noO3, epochs=Nep, validation_data=valid_gen_noO3,\\\n",
    "#               callbacks=[earlyStopping, mcp_save_pos])"
   ]
  },
  {
   "cell_type": "code",
   "execution_count": 16,
   "metadata": {},
   "outputs": [
    {
     "name": "stdout",
     "output_type": "stream",
     "text": [
      "Epoch 1/10\n",
      "5759/5759 [==============================] - 1228s 213ms/step - loss: 263.3695 - val_loss: 261.8396\n",
      "Epoch 2/10\n",
      "5759/5759 [==============================] - 1203s 209ms/step - loss: 261.7480 - val_loss: 260.0046\n",
      "Epoch 3/10\n",
      "5759/5759 [==============================] - 1220s 212ms/step - loss: 260.1949 - val_loss: 259.9917\n",
      "Epoch 4/10\n",
      "5759/5759 [==============================] - 1184s 206ms/step - loss: 258.9656 - val_loss: 258.0118\n",
      "Epoch 5/10\n",
      "5759/5759 [==============================] - 1243s 216ms/step - loss: 258.0029 - val_loss: 257.2296\n",
      "Epoch 6/10\n",
      "5759/5759 [==============================] - 1297s 225ms/step - loss: 257.2727 - val_loss: 256.7972\n",
      "Epoch 7/10\n",
      "5759/5759 [==============================] - 1356s 235ms/step - loss: 256.4935 - val_loss: 256.0837\n",
      "Epoch 8/10\n",
      "5759/5759 [==============================] - 1235s 215ms/step - loss: 255.8603 - val_loss: 254.4939\n",
      "Epoch 9/10\n",
      "5759/5759 [==============================] - 1340s 233ms/step - loss: 255.3748 - val_loss: 253.7328\n",
      "Epoch 10/10\n",
      "5759/5759 [==============================] - 1344s 233ms/step - loss: 254.8254 - val_loss: 255.2666\n"
     ]
    },
    {
     "data": {
      "text/plain": [
       "<tensorflow.python.keras.callbacks.History at 0x7f1d50f23550>"
      ]
     },
     "execution_count": 16,
     "metadata": {},
     "output_type": "execute_result"
    }
   ],
   "source": [
    "Nep = 10\n",
    "model.fit_generator(train_gen_noO3, epochs=Nep, validation_data=valid_gen_noO3,\\\n",
    "              callbacks=[earlyStopping, mcp_save_pos])"
   ]
  },
  {
   "cell_type": "markdown",
   "metadata": {},
   "source": [
    "## Validation Check"
   ]
  },
  {
   "cell_type": "markdown",
   "metadata": {},
   "source": [
    "### Chech on validation dataset (m4K simulation) to make sure the NN was properly fitted"
   ]
  },
  {
   "cell_type": "code",
   "execution_count": 15,
   "metadata": {},
   "outputs": [],
   "source": [
    "Ankitesh_models = '/oasis/scratch/comet/ankitesh/temp_project/models/'\n",
    "path_aqua = 'BF.hdf5'\n",
    "path_geo = 'BF_Geography.hdf5'"
   ]
  },
  {
   "cell_type": "code",
   "execution_count": 16,
   "metadata": {},
   "outputs": [],
   "source": [
    "model_aqua = load_model(Ankitesh_models+path_aqua)\n",
    "model_geo = load_model(Ankitesh_models+path_geo)"
   ]
  },
  {
   "cell_type": "markdown",
   "metadata": {},
   "source": [
    "tgb - 7/8/2020 - Test loading `pb` model"
   ]
  },
  {
   "cell_type": "markdown",
   "metadata": {},
   "source": [
    "### TODO"
   ]
  },
  {
   "cell_type": "code",
   "execution_count": 17,
   "metadata": {},
   "outputs": [],
   "source": [
    "config_file = 'CI_SP_M4K_CONFIG.yml' # Configuration file\n",
    "if path==path_aquaplanet: data_file = ['CI_SP_M4K_valid.nc','CI_SP_P4K_valid.nc']  # Validation/test data sets\n",
    "elif path==path_realgeography: data_file = ['geography/CI_SP_M4K_valid.nc','geography/CI_SP_P4K_valid.nc']\n",
    "NNarray = [path_aqua,path_geo]\n",
    "NNname = ['Fit_aqua','Fit_geo'] # Name of NNs for plotting"
   ]
  },
  {
   "cell_type": "code",
   "execution_count": 18,
   "metadata": {},
   "outputs": [
    {
     "name": "stdout",
     "output_type": "stream",
     "text": [
      "NN name is  BF.hdf5\n",
      "data name is  geography/CI_SP_M4K_valid.nc\n"
     ]
    },
    {
     "name": "stderr",
     "output_type": "stream",
     "text": [
      "/oasis/scratch/comet/tbeucler/temp_project/CBRAIN-CAM/notebooks/tbeucler_devlog/cbrain/model_diagnostics.py:25: YAMLLoadWarning: calling yaml.load() without Loader=... is deprecated, as the default Loader is unsafe. Please read https://msg.pyyaml.org/load for full details.\n",
      "  config = yaml.load(f)\n"
     ]
    },
    {
     "name": "stdout",
     "output_type": "stream",
     "text": [
      "data name is  geography/CI_SP_P4K_valid.nc\n"
     ]
    },
    {
     "name": "stderr",
     "output_type": "stream",
     "text": [
      "/oasis/scratch/comet/tbeucler/temp_project/CBRAIN-CAM/notebooks/tbeucler_devlog/cbrain/model_diagnostics.py:25: YAMLLoadWarning: calling yaml.load() without Loader=... is deprecated, as the default Loader is unsafe. Please read https://msg.pyyaml.org/load for full details.\n",
      "  config = yaml.load(f)\n"
     ]
    },
    {
     "name": "stdout",
     "output_type": "stream",
     "text": [
      "NN name is  BF_Geography.hdf5\n",
      "data name is  geography/CI_SP_M4K_valid.nc\n"
     ]
    },
    {
     "name": "stderr",
     "output_type": "stream",
     "text": [
      "/oasis/scratch/comet/tbeucler/temp_project/CBRAIN-CAM/notebooks/tbeucler_devlog/cbrain/model_diagnostics.py:25: YAMLLoadWarning: calling yaml.load() without Loader=... is deprecated, as the default Loader is unsafe. Please read https://msg.pyyaml.org/load for full details.\n",
      "  config = yaml.load(f)\n"
     ]
    },
    {
     "name": "stdout",
     "output_type": "stream",
     "text": [
      "data name is  geography/CI_SP_P4K_valid.nc\n"
     ]
    },
    {
     "name": "stderr",
     "output_type": "stream",
     "text": [
      "/oasis/scratch/comet/tbeucler/temp_project/CBRAIN-CAM/notebooks/tbeucler_devlog/cbrain/model_diagnostics.py:25: YAMLLoadWarning: calling yaml.load() without Loader=... is deprecated, as the default Loader is unsafe. Please read https://msg.pyyaml.org/load for full details.\n",
      "  config = yaml.load(f)\n"
     ]
    }
   ],
   "source": [
    "NN = {}; md = {};\n",
    "for i,NNs in enumerate(NNarray):\n",
    "    print('NN name is ',NNs)\n",
    "    md[NNs] = {}\n",
    "    for j,data in enumerate(data_file):\n",
    "        print('data name is ',data)\n",
    "        \n",
    "        NN[NNs] = load_model(Ankitesh_models+NNs)\n",
    "        md[NNs][data[6:-3]] = ModelDiagnostics(NN[NNs],\n",
    "                                                '/home/ankitesh/CBrain_project/PrepData/'+config_file,\n",
    "                                                '/oasis/scratch/comet/ankitesh/temp_project/PrepData/'+data)"
   ]
  },
  {
   "cell_type": "code",
   "execution_count": 16,
   "metadata": {},
   "outputs": [
    {
     "data": {
      "text/plain": [
       "['CI_SP_M4K_valid.nc', 'CI_SP_P4K_valid.nc']"
      ]
     },
     "execution_count": 16,
     "metadata": {},
     "output_type": "execute_result"
    }
   ],
   "source": [
    "data_file"
   ]
  },
  {
   "cell_type": "code",
   "execution_count": 17,
   "metadata": {},
   "outputs": [
    {
     "data": {
      "text/plain": [
       "{'BF.hdf5': {'M4K_valid': <cbrain.model_diagnostics.ModelDiagnostics at 0x2b72704cef28>,\n",
       "  'P4K_valid': <cbrain.model_diagnostics.ModelDiagnostics at 0x2b7270a9f908>},\n",
       " 'BF_Geography.hdf5': {'M4K_valid': <cbrain.model_diagnostics.ModelDiagnostics at 0x2b7270f7b860>,\n",
       "  'P4K_valid': <cbrain.model_diagnostics.ModelDiagnostics at 0x2b727133cc18>}}"
      ]
     },
     "execution_count": 17,
     "metadata": {},
     "output_type": "execute_result"
    }
   ],
   "source": [
    "md"
   ]
  },
  {
   "cell_type": "code",
   "execution_count": 18,
   "metadata": {},
   "outputs": [
    {
     "data": {
      "text/plain": [
       "['CI_SP_M4K_valid.nc', 'CI_SP_P4K_valid.nc']"
      ]
     },
     "execution_count": 18,
     "metadata": {},
     "output_type": "execute_result"
    }
   ],
   "source": [
    "data_file"
   ]
  },
  {
   "cell_type": "code",
   "execution_count": 47,
   "metadata": {},
   "outputs": [],
   "source": [
    "data = data_file[1]"
   ]
  },
  {
   "cell_type": "code",
   "execution_count": 48,
   "metadata": {},
   "outputs": [
    {
     "data": {
      "text/plain": [
       "1692"
      ]
     },
     "execution_count": 48,
     "metadata": {},
     "output_type": "execute_result"
    }
   ],
   "source": [
    "md[NNs][data[6:-3]].valid_gen.n_batches"
   ]
  },
  {
   "cell_type": "markdown",
   "metadata": {},
   "source": [
    "### Diagnostics at random drawn time steps"
   ]
  },
  {
   "cell_type": "code",
   "execution_count": 32,
   "metadata": {},
   "outputs": [],
   "source": [
    "NNarray = ['2021_01_25_O3','2021_01_25_noO3']\n",
    "#dict_lay = {'SurRadLayer':SurRadLayer,'MassConsLayer':MassConsLayer,'EntConsLayer':EntConsLayer}"
   ]
  },
  {
   "cell_type": "code",
   "execution_count": 36,
   "metadata": {},
   "outputs": [],
   "source": [
    "path = '/DFS-L/DATA/pritchard/tbeucler/SPCAM/HDF5_DATA/'"
   ]
  },
  {
   "cell_type": "code",
   "execution_count": 37,
   "metadata": {},
   "outputs": [
    {
     "name": "stdout",
     "output_type": "stream",
     "text": [
      "NN name is  2021_01_25_O3.hdf5\n",
      "NN name is  2021_01_25_noO3.hdf5\n"
     ]
    }
   ],
   "source": [
    "NN = {};\n",
    "for i,NNs in enumerate(NNarray):\n",
    "    print('NN name is ',NNs+'.hdf5')\n",
    "    path_model = path+NNs+'.hdf5'\n",
    "    NN[NNs] = load_model(path_model)"
   ]
  },
  {
   "cell_type": "code",
   "execution_count": 52,
   "metadata": {},
   "outputs": [],
   "source": [
    "gen = valid_gen_O3"
   ]
  },
  {
   "cell_type": "markdown",
   "metadata": {},
   "source": [
    "$O_{3}$ vs no $O_{3}$"
   ]
  },
  {
   "cell_type": "code",
   "execution_count": 84,
   "metadata": {},
   "outputs": [],
   "source": [
    "Nt = 100\n",
    "t_random = np.random.choice(np.linspace(0,1691,1692),size=((Nt,)),replace=False).astype('int')"
   ]
  },
  {
   "cell_type": "code",
   "execution_count": 85,
   "metadata": {},
   "outputs": [
    {
     "name": "stdout",
     "output_type": "stream",
     "text": [
      "iar= 99 / 99  & itime 1343\r"
     ]
    }
   ],
   "source": [
    "# Direct\n",
    "MSE = {}\n",
    "VAR = {}\n",
    "INP = {}\n",
    "\n",
    "for iar,itime in enumerate(t_random):\n",
    "    print('iar=',iar,'/',Nt-1,' & itime',itime,end=\"\\r\")\n",
    "    for i,NNs in enumerate(NNarray):\n",
    "        if iar==0: MSE[NNs] = {}; VAR[NNs] = {}\n",
    "        \n",
    "        inp = gen[itime][0]\n",
    "        inp_noO3 = np.delete(inp,np.arange(60,90),axis=1)\n",
    "        truth = gen[itime][1]\n",
    "        \n",
    "        if i==0: p = NN[NNs].predict_on_batch(inp)\n",
    "        elif i==1: p = NN[NNs].predict_on_batch(inp_noO3)\n",
    "        \n",
    "        inp_geo = np.reshape(inp,(64,128,inp.shape[1],1))\n",
    "        p_geo = np.reshape(p,(64,128,p.shape[1]))\n",
    "        t_geo = np.reshape(truth,(64,128,truth.shape[1]))\n",
    "        \n",
    "        if iar==0: \n",
    "            MSE[NNs] = np.mean((t_geo-p_geo)**2,axis=2)\n",
    "            VAR[NNs] = np.var(p_geo,axis=2)\n",
    "            INP[NNs] = inp_geo\n",
    "        else: \n",
    "            MSE[NNs] = np.concatenate((MSE[NNs],np.mean((t_geo-p_geo)**2,axis=2)),axis=1)\n",
    "            VAR[NNs] = np.concatenate((VAR[NNs],np.var(p_geo,axis=2)),axis=1)\n",
    "            INP[NNs] = np.concatenate((INP[NNs],inp_geo),axis=3)"
   ]
  },
  {
   "cell_type": "code",
   "execution_count": 86,
   "metadata": {},
   "outputs": [
    {
     "data": {
      "text/plain": [
       "(64, 128, 94, 100)"
      ]
     },
     "execution_count": 86,
     "metadata": {},
     "output_type": "execute_result"
    }
   ],
   "source": [
    "INP[NNs].shape"
   ]
  },
  {
   "cell_type": "code",
   "execution_count": 98,
   "metadata": {},
   "outputs": [
    {
     "data": {
      "text/plain": [
       "Text(0, 0.5, 'Norm O3 value')"
      ]
     },
     "execution_count": 98,
     "metadata": {},
     "output_type": "execute_result"
    },
    {
     "data": {
      "image/png": "[encoded data removed]",
      "text/plain": [
       "<Figure size 432x288 with 1 Axes>"
      ]
     },
     "metadata": {
      "needs_background": "light"
     },
     "output_type": "display_data"
    }
   ],
   "source": [
    "plt.plot(np.mean(INP[NNs][:,:,89,:],axis=(1,2)),label='z=29')\n",
    "plt.plot(np.mean(INP[NNs][:,:,79,:],axis=(1,2)),label='z=19')\n",
    "plt.plot(np.mean(INP[NNs][:,:,69,:],axis=(1,2)),label='z=9')\n",
    "plt.legend()\n",
    "plt.xlabel('Latitude')\n",
    "plt.ylabel('Norm O3 value')"
   ]
  },
  {
   "cell_type": "code",
   "execution_count": 99,
   "metadata": {},
   "outputs": [
    {
     "data": {
      "text/plain": [
       "Text(0, 0.5, 'Norm O3 value')"
      ]
     },
     "execution_count": 99,
     "metadata": {},
     "output_type": "execute_result"
    },
    {
     "data": {
      "image/png": "[encoded data removed]",
      "text/plain": [
       "<Figure size 432x288 with 1 Axes>"
      ]
     },
     "metadata": {
      "needs_background": "light"
     },
     "output_type": "display_data"
    }
   ],
   "source": [
    "plt.plot(np.mean(INP[NNs][:,:,89,:],axis=(0,2)),label='29')\n",
    "plt.plot(np.mean(INP[NNs][:,:,79,:],axis=(0,2)),label='19')\n",
    "plt.plot(np.mean(INP[NNs][:,:,69,:],axis=(0,2)),label='9')\n",
    "plt.legend()\n",
    "plt.xlabel('Longitude')\n",
    "plt.ylabel('Norm O3 value')"
   ]
  },
  {
   "cell_type": "code",
   "execution_count": 97,
   "metadata": {},
   "outputs": [
    {
     "data": {
      "text/plain": [
       "Text(0.5, 0, 'Vertical level')"
      ]
     },
     "execution_count": 97,
     "metadata": {},
     "output_type": "execute_result"
    },
    {
     "data": {
      "image/png": "[encoded data removed]",
      "text/plain": [
       "<Figure size 432x288 with 1 Axes>"
      ]
     },
     "metadata": {
      "needs_background": "light"
     },
     "output_type": "display_data"
    }
   ],
   "source": [
    "plt.plot(np.mean(INP[NNs][:,:,60:90,:],axis=(0,1,3))*\\\n",
    "         train_gen_O3.input_transform.div[60:90]+\\\n",
    "         train_gen_O3.input_transform.sub[60:90])\n",
    "plt.ylabel('True O3 value')\n",
    "plt.xlabel('Vertical level')"
   ]
  },
  {
   "cell_type": "code",
   "execution_count": 90,
   "metadata": {},
   "outputs": [
    {
     "ename": "AttributeError",
     "evalue": "'numpy.ndarray' object has no attribute 'div'",
     "output_type": "error",
     "traceback": [
      "\u001b[0;31m---------------------------------------------------------------------------\u001b[0m",
      "\u001b[0;31mAttributeError\u001b[0m                            Traceback (most recent call last)",
      "\u001b[0;32m<ipython-input-90-8e55a4e8a297>\u001b[0m in \u001b[0;36m<module>\u001b[0;34m\u001b[0m\n\u001b[0;32m----> 1\u001b[0;31m \u001b[0minp\u001b[0m\u001b[0;34m.\u001b[0m\u001b[0mdiv\u001b[0m\u001b[0;34m\u001b[0m\u001b[0;34m\u001b[0m\u001b[0m\n\u001b[0m",
      "\u001b[0;31mAttributeError\u001b[0m: 'numpy.ndarray' object has no attribute 'div'"
     ]
    }
   ],
   "source": [
    "inp.div"
   ]
  },
  {
   "cell_type": "code",
   "execution_count": null,
   "metadata": {},
   "outputs": [],
   "source": [
    "plt.plot(np.mean(INP[NNs][:,:,60:90,:],axis=(0,1,3)))"
   ]
  },
  {
   "cell_type": "code",
   "execution_count": 77,
   "metadata": {},
   "outputs": [
    {
     "data": {
      "text/plain": [
       "255.59680334958662"
      ]
     },
     "execution_count": 77,
     "metadata": {},
     "output_type": "execute_result"
    }
   ],
   "source": [
    "MSE['2021_01_25_O3'].mean()"
   ]
  },
  {
   "cell_type": "code",
   "execution_count": 78,
   "metadata": {},
   "outputs": [
    {
     "data": {
      "text/plain": [
       "255.3958713068107"
      ]
     },
     "execution_count": 78,
     "metadata": {},
     "output_type": "execute_result"
    }
   ],
   "source": [
    "MSE['2021_01_25_noO3'].mean()"
   ]
  },
  {
   "cell_type": "code",
   "execution_count": null,
   "metadata": {},
   "outputs": [],
   "source": []
  },
  {
   "cell_type": "code",
   "execution_count": 59,
   "metadata": {},
   "outputs": [
    {
     "data": {
      "text/plain": [
       "TensorShape([8192, 120])"
      ]
     },
     "execution_count": 59,
     "metadata": {},
     "output_type": "execute_result"
    }
   ],
   "source": [
    "p.shape"
   ]
  },
  {
   "cell_type": "code",
   "execution_count": 50,
   "metadata": {},
   "outputs": [
    {
     "name": "stdout",
     "output_type": "stream",
     "text": [
      "iar= 9 / 9  & itime 5182\r"
     ]
    }
   ],
   "source": [
    "# Using md\n",
    "MSE = {}\n",
    "VAR = {}\n",
    "diagno = {}\n",
    "diagno['truth'] = {}\n",
    "diagno['pred'] = {}\n",
    "\n",
    "for iar,itime in enumerate(t_random):\n",
    "    print('iar=',iar,'/',Nt-1,' & itime',itime,end=\"\\r\")\n",
    "    for i,NNs in enumerate(NNarray):\n",
    "        if iar==0: MSE[NNs] = {}; VAR[NNs] = {}\n",
    "\n",
    "        inp, p, truth = md[NNs][data[6:-3]].get_inp_pred_truth(itime)  # [lat, lon, var, lev]\n",
    "        \n",
    "        t_geo = md[NNs][data[6:-3]].reshape_ngeo(truth)[:,:,:]\n",
    "        p_geo = md[NNs][data[6:-3]].reshape_ngeo(p.numpy())[:,:,:]\n",
    "        \n",
    "        if iar==0: \n",
    "            MSE[NNs][data[6:-3]] = np.mean((t_geo-p_geo)**2,axis=2)\n",
    "            VAR[NNs][data[6:-3]] = np.var(p_geo,axis=2)\n",
    "        else: \n",
    "            MSE[NNs][data[6:-3]] = np.concatenate((MSE[NNs][data[6:-3]],\n",
    "                                                   np.mean((t_geo-p_geo)**2,axis=2)),axis=1)\n",
    "            VAR[NNs][data[6:-3]] = np.concatenate((VAR[NNs][data[6:-3]],\n",
    "                                                   np.var(p_geo,axis=2)),axis=1)\n",
    "\n",
    "#         MSE[NNs] = (MSE['samples']*MSE[NNs]+np.mean((p-truth)**2))/(MSE['samples']+1)\n",
    "#         MSE['samples'] += 1"
   ]
  },
  {
   "cell_type": "code",
   "execution_count": 51,
   "metadata": {},
   "outputs": [
    {
     "data": {
      "text/plain": [
       "Text(0.5, 1.0, 'P4K_valid')"
      ]
     },
     "execution_count": 51,
     "metadata": {},
     "output_type": "execute_result"
    },
    {
     "data": {
      "image/png": "[encoded data removed]",
      "text/plain": [
       "<Figure size 432x288 with 1 Axes>"
      ]
     },
     "metadata": {
      "needs_background": "light"
     },
     "output_type": "display_data"
    }
   ],
   "source": [
    "for i,NNs in enumerate(NNarray):\n",
    "    plt.scatter(np.mean(coor.TS,axis=(0,2)),np.log10(np.mean(MSE[NNs][data[6:-3]],axis=1)),label=NNs)\n",
    "plt.legend()\n",
    "plt.title(data[6:-3])"
   ]
  },
  {
   "cell_type": "code",
   "execution_count": 52,
   "metadata": {},
   "outputs": [
    {
     "data": {
      "text/plain": [
       "Text(0.5, 1.0, 'P4K_valid')"
      ]
     },
     "execution_count": 52,
     "metadata": {},
     "output_type": "execute_result"
    },
    {
     "data": {
      "image/png": "[encoded data removed]",
      "text/plain": [
       "<Figure size 432x288 with 1 Axes>"
      ]
     },
     "metadata": {
      "needs_background": "light"
     },
     "output_type": "display_data"
    }
   ],
   "source": [
    "for i,NNs in enumerate(NNarray):\n",
    "    plt.scatter(np.mean(coor.TS,axis=(0,2)),np.mean(MSE[NNs][data[6:-3]],axis=1)/\n",
    "                np.mean(VAR[NNs][data[6:-3]],axis=1),label=NNs)\n",
    "plt.legend()\n",
    "plt.title(data[6:-3])"
   ]
  },
  {
   "cell_type": "code",
   "execution_count": 69,
   "metadata": {},
   "outputs": [
    {
     "data": {
      "text/plain": [
       "(40, 64, 128)"
      ]
     },
     "execution_count": 69,
     "metadata": {},
     "output_type": "execute_result"
    }
   ],
   "source": [
    "coor.TS.shape"
   ]
  },
  {
   "cell_type": "code",
   "execution_count": 15,
   "metadata": {},
   "outputs": [
    {
     "data": {
      "text/plain": [
       "19850.45904296875"
      ]
     },
     "execution_count": 15,
     "metadata": {},
     "output_type": "execute_result"
    }
   ],
   "source": [
    "model_aqua.evaluate_generator(valid_gen,steps=100)"
   ]
  },
  {
   "cell_type": "code",
   "execution_count": 16,
   "metadata": {},
   "outputs": [
    {
     "data": {
      "text/plain": [
       "215.8908876657486"
      ]
     },
     "execution_count": 16,
     "metadata": {},
     "output_type": "execute_result"
    }
   ],
   "source": [
    "model_geo.evaluate_generator(valid_gen,steps=100)"
   ]
  },
  {
   "cell_type": "code",
   "execution_count": 26,
   "metadata": {},
   "outputs": [
    {
     "data": {
      "text/plain": [
       "380.3752907935891"
      ]
     },
     "execution_count": 26,
     "metadata": {},
     "output_type": "execute_result"
    }
   ],
   "source": [
    "model = load_model(path_HDF5+save_name+'.hdf5')\n",
    "model.evaluate_generator(valid_gen)"
   ]
  },
  {
   "cell_type": "markdown",
   "metadata": {},
   "source": [
    "### Check on test dataset (p4k simulation) to test ability of NN to generalize to unseen climate"
   ]
  },
  {
   "cell_type": "code",
   "execution_count": 30,
   "metadata": {},
   "outputs": [],
   "source": [
    "in_vars = ['QBP','TBP','PS', 'SOLIN', 'SHFLX', 'LHFLX']\n",
    "out_vars = ['PHQ','TPHYSTND','FSNT', 'FSNS', 'FLNT', 'FLNS']"
   ]
  },
  {
   "cell_type": "code",
   "execution_count": 31,
   "metadata": {},
   "outputs": [],
   "source": [
    "NORMFILE = 'CI_SP_M4K_NORM_norm.nc'\n",
    "VALIDFILE = 'CI_SP_P4K_valid.nc'\n",
    "\n",
    "valid_gen = DataGeneratorClimInv(\n",
    "    data_fn = path+VALIDFILE,\n",
    "    input_vars = in_vars,\n",
    "    output_vars = out_vars,\n",
    "    norm_fn = path+NORMFILE,\n",
    "    input_transform = ('mean', 'maxrs'),\n",
    "    output_transform = scale_dict,\n",
    "    batch_size=1024,\n",
    "    shuffle=True,\n",
    "    lev=lev,\n",
    "    hyam=hyam,hybm=hybm,\n",
    "    inp_subRH=train_gen_RH.input_transform.sub, inp_divRH=train_gen_RH.input_transform.div,\n",
    "    inp_subTNS=train_gen_TNS.input_transform.sub,inp_divTNS=train_gen_TNS.input_transform.div,\n",
    "    rh_trans=False,t2tns_trans=False,\n",
    "    lhflx_trans=False,\n",
    "    scaling=False,\n",
    "    interpolate=False\n",
    ")"
   ]
  },
  {
   "cell_type": "code",
   "execution_count": 35,
   "metadata": {},
   "outputs": [
    {
     "data": {
      "text/plain": [
       "7919.925893538951"
      ]
     },
     "execution_count": 35,
     "metadata": {},
     "output_type": "execute_result"
    }
   ],
   "source": [
    "model = load_model(path_HDF5+save_name+'.hdf5')\n",
    "model.evaluate_generator(valid_gen)"
   ]
  },
  {
   "cell_type": "markdown",
   "metadata": {},
   "source": [
    "## Retrain BF models for transfer learning"
   ]
  },
  {
   "cell_type": "code",
   "execution_count": 16,
   "metadata": {},
   "outputs": [
    {
     "data": {
      "text/plain": [
       "{'BF.hdf5': <tensorflow.python.keras.engine.training.Model at 0x2b1552a2bc18>,\n",
       " 'BF_Geography.hdf5': <tensorflow.python.keras.engine.training.Model at 0x2b155343c630>}"
      ]
     },
     "execution_count": 16,
     "metadata": {},
     "output_type": "execute_result"
    }
   ],
   "source": [
    "NN"
   ]
  },
  {
   "cell_type": "code",
   "execution_count": 17,
   "metadata": {},
   "outputs": [],
   "source": [
    "BF_geog = NN['BF_Geography.hdf5']"
   ]
  },
  {
   "cell_type": "code",
   "execution_count": 18,
   "metadata": {},
   "outputs": [
    {
     "name": "stdout",
     "output_type": "stream",
     "text": [
      "Model: \"model\"\n",
      "_________________________________________________________________\n",
      "Layer (type)                 Output Shape              Param #   \n",
      "=================================================================\n",
      "input_1 (InputLayer)         [(None, 64)]              0         \n",
      "_________________________________________________________________\n",
      "dense (Dense)                (None, 128)               8320      \n",
      "_________________________________________________________________\n",
      "leaky_re_lu (LeakyReLU)      (None, 128)               0         \n",
      "_________________________________________________________________\n",
      "dense_1 (Dense)              (None, 128)               16512     \n",
      "_________________________________________________________________\n",
      "leaky_re_lu_1 (LeakyReLU)    (None, 128)               0         \n",
      "_________________________________________________________________\n",
      "dense_2 (Dense)              (None, 128)               16512     \n",
      "_________________________________________________________________\n",
      "leaky_re_lu_2 (LeakyReLU)    (None, 128)               0         \n",
      "_________________________________________________________________\n",
      "dense_3 (Dense)              (None, 128)               16512     \n",
      "_________________________________________________________________\n",
      "leaky_re_lu_3 (LeakyReLU)    (None, 128)               0         \n",
      "_________________________________________________________________\n",
      "dense_4 (Dense)              (None, 128)               16512     \n",
      "_________________________________________________________________\n",
      "leaky_re_lu_4 (LeakyReLU)    (None, 128)               0         \n",
      "_________________________________________________________________\n",
      "dense_5 (Dense)              (None, 128)               16512     \n",
      "_________________________________________________________________\n",
      "leaky_re_lu_5 (LeakyReLU)    (None, 128)               0         \n",
      "_________________________________________________________________\n",
      "dense_6 (Dense)              (None, 128)               16512     \n",
      "_________________________________________________________________\n",
      "leaky_re_lu_6 (LeakyReLU)    (None, 128)               0         \n",
      "_________________________________________________________________\n",
      "dense_7 (Dense)              (None, 64)                8256      \n",
      "=================================================================\n",
      "Total params: 115,648\n",
      "Trainable params: 115,648\n",
      "Non-trainable params: 0\n",
      "_________________________________________________________________\n"
     ]
    }
   ],
   "source": [
    "BF_geog.summary()"
   ]
  },
  {
   "cell_type": "code",
   "execution_count": 19,
   "metadata": {},
   "outputs": [],
   "source": [
    "# Where to save the model\n",
    "path_HDF5 = '/oasis/scratch/comet/tbeucler/temp_project/CBRAIN_models/'\n",
    "save_name = 'BF_Geog_2020_07_22'"
   ]
  },
  {
   "cell_type": "code",
   "execution_count": 20,
   "metadata": {},
   "outputs": [],
   "source": [
    "#model.compile(tf.keras.optimizers.Adam(), loss=mse)\n",
    "earlyStopping = EarlyStopping(monitor='val_loss', patience=10, verbose=0, mode='min')\n",
    "mcp_save_pos = ModelCheckpoint(path_HDF5+save_name+'.hdf5',save_best_only=True, monitor='val_loss', mode='min')"
   ]
  },
  {
   "cell_type": "code",
   "execution_count": null,
   "metadata": {},
   "outputs": [
    {
     "name": "stdout",
     "output_type": "stream",
     "text": [
      "Epoch 1/10\n",
      "30780/30780 [==============================] - 2630s 85ms/step - loss: 263.0082 - val_loss: 271.8903\n",
      "Epoch 2/10\n",
      "30780/30780 [==============================] - 2892s 94ms/step - loss: 259.8000 - val_loss: 271.1745\n",
      "Epoch 3/10\n",
      "30780/30780 [==============================] - 2754s 89ms/step - loss: 257.4323 - val_loss: 263.0838\n",
      "Epoch 4/10\n",
      "30780/30780 [==============================] - 2782s 90ms/step - loss: 255.5233 - val_loss: 264.0390\n",
      "Epoch 5/10\n",
      "30780/30780 [==============================] - 2822s 92ms/step - loss: 253.9055 - val_loss: 266.4253\n",
      "Epoch 6/10\n",
      "30780/30780 [==============================] - 2527s 82ms/step - loss: 252.6703 - val_loss: 259.0603\n",
      "Epoch 7/10\n",
      "30780/30780 [==============================] - 2931s 95ms/step - loss: 251.3679 - val_loss: 258.7864\n",
      "Epoch 8/10\n",
      "30780/30780 [==============================] - 2814s 91ms/step - loss: 250.3712 - val_loss: 262.4873\n",
      "Epoch 9/10\n",
      "30780/30780 [==============================] - 2722s 88ms/step - loss: 249.4682 - val_loss: 256.6093\n",
      "Epoch 10/10\n",
      "19401/30780 [=================>............] - ETA: 15:35 - loss: 248.7051"
     ]
    }
   ],
   "source": [
    "Nep = 10\n",
    "BF_geog.fit_generator(train_gen, epochs=Nep, validation_data=valid_gen,\\\n",
    "              callbacks=[earlyStopping, mcp_save_pos])"
   ]
  },
  {
   "cell_type": "markdown",
   "metadata": {},
   "source": [
    "## Transfer Learning experiments"
   ]
  },
  {
   "cell_type": "markdown",
   "metadata": {},
   "source": [
    "tgb - 7/9/2020 - Use portion<1"
   ]
  },
  {
   "cell_type": "markdown",
   "metadata": {},
   "source": [
    "### From BF aqua to BF geo"
   ]
  },
  {
   "cell_type": "code",
   "execution_count": 17,
   "metadata": {},
   "outputs": [],
   "source": [
    "TRAINFILE = 'CI_SP_M4K_train_shuffle.nc'\n",
    "NORMFILE = 'CI_SP_M4K_NORM_norm.nc'\n",
    "VALIDFILE = 'CI_SP_M4K_valid.nc'"
   ]
  },
  {
   "cell_type": "markdown",
   "metadata": {},
   "source": [
    "tgb - 7/23/2020 - Only training last three indices, be careful with saved names!"
   ]
  },
  {
   "cell_type": "code",
   "execution_count": 19,
   "metadata": {},
   "outputs": [],
   "source": [
    "por_array = [0.01,0.1,1]"
   ]
  },
  {
   "cell_type": "code",
   "execution_count": 20,
   "metadata": {},
   "outputs": [],
   "source": [
    "Nep = 10"
   ]
  },
  {
   "cell_type": "code",
   "execution_count": 21,
   "metadata": {},
   "outputs": [
    {
     "name": "stdout",
     "output_type": "stream",
     "text": [
      "por= 0.01\n",
      "Epoch 1/10\n",
      "30780/30780 [==============================] - 678s 22ms/step - loss: 260.9263\n",
      "Epoch 2/10\n",
      "30780/30780 [==============================] - 669s 22ms/step - loss: 191.0123\n",
      "Epoch 3/10\n",
      "30780/30780 [==============================] - 659s 21ms/step - loss: 159.3961\n",
      "Epoch 4/10\n",
      "30780/30780 [==============================] - 659s 21ms/step - loss: 141.7537\n",
      "Epoch 5/10\n",
      "30780/30780 [==============================] - 728s 24ms/step - loss: 130.5818\n",
      "Epoch 6/10\n",
      "30780/30780 [==============================] - 732s 24ms/step - loss: 122.8509\n",
      "Epoch 7/10\n",
      "30780/30780 [==============================] - 731s 24ms/step - loss: 117.2167\n",
      "Epoch 8/10\n",
      "30780/30780 [==============================] - 729s 24ms/step - loss: 112.6793\n",
      "Epoch 9/10\n",
      "30780/30780 [==============================] - 730s 24ms/step - loss: 109.1834\n",
      "Epoch 10/10\n",
      "30780/30780 [==============================] - 727s 24ms/step - loss: 106.4457\n",
      "por= 0.1\n",
      "Epoch 1/10\n",
      "30780/30780 [==============================] - 736s 24ms/step - loss: 160.88890s - loss\n",
      "Epoch 2/10\n",
      "30780/30780 [==============================] - 730s 24ms/step - loss: 73.4495\n",
      "Epoch 3/10\n",
      "30780/30780 [==============================] - 732s 24ms/step - loss: 56.6356\n",
      "Epoch 4/10\n",
      "30780/30780 [==============================] - 731s 24ms/step - loss: 48.0502\n",
      "Epoch 5/10\n",
      "30780/30780 [==============================] - 732s 24ms/step - loss: 42.5893\n",
      "Epoch 6/10\n",
      "30780/30780 [==============================] - 737s 24ms/step - loss: 38.8166\n",
      "Epoch 7/10\n",
      "30780/30780 [==============================] - 732s 24ms/step - loss: 36.1240\n",
      "Epoch 8/10\n",
      "30780/30780 [==============================] - 732s 24ms/step - loss: 34.0619\n",
      "Epoch 9/10\n",
      "30780/30780 [==============================] - 732s 24ms/step - loss: 32.3243\n",
      "Epoch 10/10\n",
      "30780/30780 [==============================] - 731s 24ms/step - loss: 30.9115\n",
      "por= 1\n",
      "Epoch 1/10\n",
      "30780/30780 [==============================] - 757s 25ms/step - loss: 299.6331\n",
      "Epoch 2/10\n",
      "30780/30780 [==============================] - 730s 24ms/step - loss: 268.1993\n",
      "Epoch 3/10\n",
      "30780/30780 [==============================] - 730s 24ms/step - loss: 261.4046\n",
      "Epoch 4/10\n",
      "30780/30780 [==============================] - 732s 24ms/step - loss: 257.6268\n",
      "Epoch 5/10\n",
      "30780/30780 [==============================] - 732s 24ms/step - loss: 254.9493\n",
      "Epoch 6/10\n",
      "30780/30780 [==============================] - 733s 24ms/step - loss: 253.1743\n",
      "Epoch 7/10\n",
      "30780/30780 [==============================] - 730s 24ms/step - loss: 251.6393\n",
      "Epoch 8/10\n",
      "30780/30780 [==============================] - 730s 24ms/step - loss: 250.2753\n",
      "Epoch 9/10\n",
      "30780/30780 [==============================] - 732s 24ms/step - loss: 249.1530\n",
      "Epoch 10/10\n",
      "30780/30780 [==============================] - 781s 25ms/step - loss: 248.2268\n"
     ]
    }
   ],
   "source": [
    "NN = {}\n",
    "for i,por in enumerate(por_array):\n",
    "    print('por=',por)\n",
    "    graph = tf.Graph()\n",
    "    \n",
    "    #with tf.Session(graph=graph): # Legacy from tf1\n",
    "        \n",
    "    # 1) Define new generators\n",
    "    train_gen = DataGeneratorClimInv(\n",
    "    data_fn = path+TRAINFILE,\n",
    "    input_vars = in_vars,\n",
    "    output_vars = out_vars,\n",
    "    norm_fn = path+NORMFILE,\n",
    "    input_transform = ('mean', 'maxrs'),\n",
    "    output_transform = scale_dict,\n",
    "    batch_size=1024,\n",
    "    shuffle=True,\n",
    "    lev=lev,\n",
    "    hyam=hyam,hybm=hybm,\n",
    "    inp_subRH=train_gen_RH.input_transform.sub, inp_divRH=train_gen_RH.input_transform.div,\n",
    "    inp_subTNS=train_gen_TNS.input_transform.sub,inp_divTNS=train_gen_TNS.input_transform.div,\n",
    "    rh_trans=False,t2tns_trans=False,\n",
    "    lhflx_trans=False,\n",
    "    scaling=False,\n",
    "    interpolate=False,\n",
    "    portion=por\n",
    "    )\n",
    "\n",
    "    valid_gen = DataGeneratorClimInv(\n",
    "    data_fn = path+VALIDFILE,\n",
    "    input_vars = in_vars,\n",
    "    output_vars = out_vars,\n",
    "    norm_fn = path+NORMFILE,\n",
    "    input_transform = ('mean', 'maxrs'),\n",
    "    output_transform = scale_dict,\n",
    "    batch_size=1024,\n",
    "    shuffle=True,\n",
    "    lev=lev,\n",
    "    hyam=hyam,hybm=hybm,\n",
    "    inp_subRH=train_gen_RH.input_transform.sub, inp_divRH=train_gen_RH.input_transform.div,\n",
    "    inp_subTNS=train_gen_TNS.input_transform.sub,inp_divTNS=train_gen_TNS.input_transform.div,\n",
    "    rh_trans=False,t2tns_trans=False,\n",
    "    lhflx_trans=False,\n",
    "    scaling=False,\n",
    "    interpolate=False,\n",
    "    )\n",
    "\n",
    "    # 2) Load model\n",
    "    NN[por] = load_model('/oasis/scratch/comet/tbeucler/temp_project/CBRAIN_models/BF_Aqua_2020_07_22.hdf5') # Load aquaplanet model\n",
    "\n",
    "    # 3) Define callbacks and save_name of new model\n",
    "    path_HDF5 = '/oasis/scratch/comet/tbeucler/temp_project/CBRAIN_models/'\n",
    "    save_name = 'TL_BF_2020_07_23_porindex_'+str(i+3)\n",
    "    earlyStopping = EarlyStopping(monitor='loss', patience=5, verbose=0, mode='min')\n",
    "    mcp_save_pos = ModelCheckpoint(path_HDF5+save_name+'.hdf5',save_best_only=True, monitor='loss', mode='min')\n",
    "\n",
    "    # 4) Train model for Nep epochs and CANNOT save state of best validation loss because\n",
    "    # it would NOT be consistent with transfer learning scenario\n",
    "    NN[por].fit_generator(train_gen, epochs=Nep, callbacks=[earlyStopping, mcp_save_pos])"
   ]
  },
  {
   "cell_type": "markdown",
   "metadata": {},
   "source": [
    "tgb - 7/23/2020 - Legacy = Trained por_array = `[0.00001,0.0001,0.001]` already and now only training the last three indices"
   ]
  },
  {
   "cell_type": "code",
   "execution_count": 18,
   "metadata": {},
   "outputs": [],
   "source": [
    "por_array = [0.00001,0.0001,0.001,0.01,0.1,1]"
   ]
  },
  {
   "cell_type": "code",
   "execution_count": 19,
   "metadata": {},
   "outputs": [
    {
     "data": {
      "text/plain": [
       "[1e-05, 0.0001, 0.001, 0.01, 0.1, 1]"
      ]
     },
     "execution_count": 19,
     "metadata": {},
     "output_type": "execute_result"
    }
   ],
   "source": [
    "por_array"
   ]
  },
  {
   "cell_type": "code",
   "execution_count": 20,
   "metadata": {},
   "outputs": [],
   "source": [
    "Nep = 10"
   ]
  },
  {
   "cell_type": "code",
   "execution_count": null,
   "metadata": {},
   "outputs": [
    {
     "name": "stdout",
     "output_type": "stream",
     "text": [
      "por= 1e-05\n",
      "Epoch 1/10\n",
      "30780/30780 [==============================] - 1600s 52ms/step - loss: 300.9996\n",
      "Epoch 2/10\n",
      "30780/30780 [==============================] - 728s 24ms/step - loss: 268.3539\n",
      "Epoch 3/10\n",
      "30780/30780 [==============================] - 731s 24ms/step - loss: 261.4873\n",
      "Epoch 4/10\n",
      "30780/30780 [==============================] - 737s 24ms/step - loss: 257.6655\n",
      "Epoch 5/10\n",
      "30780/30780 [==============================] - 726s 24ms/step - loss: 255.0232\n",
      "Epoch 6/10\n",
      "30780/30780 [==============================] - 727s 24ms/step - loss: 253.0973\n",
      "Epoch 7/10\n",
      "30780/30780 [==============================] - 791s 26ms/step - loss: 251.5846\n",
      "Epoch 8/10\n",
      "30780/30780 [==============================] - 737s 24ms/step - loss: 250.1482\n",
      "Epoch 9/10\n",
      "30780/30780 [==============================] - 736s 24ms/step - loss: 249.0893\n",
      "Epoch 10/10\n",
      "30780/30780 [==============================] - 729s 24ms/step - loss: 248.3081\n",
      "por= 0.0001\n",
      "Epoch 1/10\n",
      "30780/30780 [==============================] - 731s 24ms/step - loss: 279.1800\n",
      "Epoch 2/10\n",
      "30780/30780 [==============================] - 726s 24ms/step - loss: 248.6469\n",
      "Epoch 3/10\n",
      "30780/30780 [==============================] - 734s 24ms/step - loss: 241.9234\n",
      "Epoch 4/10\n",
      "30780/30780 [==============================] - 734s 24ms/step - loss: 238.0122\n",
      "Epoch 5/10\n",
      "30780/30780 [==============================] - 726s 24ms/step - loss: 235.3506\n",
      "Epoch 6/10\n",
      "30780/30780 [==============================] - 756s 25ms/step - loss: 233.3544\n",
      "Epoch 7/10\n",
      "30780/30780 [==============================] - 728s 24ms/step - loss: 231.7297\n",
      "Epoch 8/10\n",
      "30780/30780 [==============================] - 737s 24ms/step - loss: 230.5901\n",
      "Epoch 9/10\n",
      "30780/30780 [==============================] - 734s 24ms/step - loss: 229.4052\n",
      "Epoch 10/10\n",
      "30780/30780 [==============================] - 727s 24ms/step - loss: 228.5575\n",
      "por= 0.001\n",
      "Epoch 1/10\n",
      "30780/30780 [==============================] - 726s 24ms/step - loss: 275.7054\n",
      "Epoch 2/10\n",
      "30780/30780 [==============================] - 728s 24ms/step - loss: 243.6084\n",
      "Epoch 3/10\n",
      "30780/30780 [==============================] - 736s 24ms/step - loss: 235.9976\n",
      "Epoch 4/10\n",
      "30780/30780 [==============================] - 736s 24ms/step - loss: 231.0101\n",
      "Epoch 5/10\n",
      "30780/30780 [==============================] - 727s 24ms/step - loss: 227.2678\n",
      "Epoch 6/10\n",
      "30780/30780 [==============================] - 738s 24ms/step - loss: 223.9700\n",
      "Epoch 7/10\n",
      "30780/30780 [==============================] - 723s 23ms/step - loss: 221.2852\n",
      "Epoch 8/10\n",
      "30780/30780 [==============================] - 736s 24ms/step - loss: 218.5366\n",
      "Epoch 9/10\n",
      "30780/30780 [==============================] - 735s 24ms/step - loss: 216.0000\n",
      "Epoch 10/10\n",
      "30780/30780 [==============================] - 729s 24ms/step - loss: 213.8127\n",
      "por= 0.01\n",
      "Epoch 1/10\n",
      "30780/30780 [==============================] - 731s 24ms/step - loss: 261.9976\n",
      "Epoch 2/10\n",
      "27815/30780 [==========================>...] - ETA: 1:09 - loss: 192.2422"
     ]
    }
   ],
   "source": [
    "NN = {}\n",
    "for i,por in enumerate(por_array):\n",
    "    print('por=',por)\n",
    "    graph = tf.Graph()\n",
    "    \n",
    "    #with tf.Session(graph=graph): # Legacy from tf1\n",
    "        \n",
    "    # 1) Define new generators\n",
    "    train_gen = DataGeneratorClimInv(\n",
    "    data_fn = path+TRAINFILE,\n",
    "    input_vars = in_vars,\n",
    "    output_vars = out_vars,\n",
    "    norm_fn = path+NORMFILE,\n",
    "    input_transform = ('mean', 'maxrs'),\n",
    "    output_transform = scale_dict,\n",
    "    batch_size=1024,\n",
    "    shuffle=True,\n",
    "    lev=lev,\n",
    "    hyam=hyam,hybm=hybm,\n",
    "    inp_subRH=train_gen_RH.input_transform.sub, inp_divRH=train_gen_RH.input_transform.div,\n",
    "    inp_subTNS=train_gen_TNS.input_transform.sub,inp_divTNS=train_gen_TNS.input_transform.div,\n",
    "    rh_trans=False,t2tns_trans=False,\n",
    "    lhflx_trans=False,\n",
    "    scaling=False,\n",
    "    interpolate=False,\n",
    "    portion=por\n",
    "    )\n",
    "\n",
    "    valid_gen = DataGeneratorClimInv(\n",
    "    data_fn = path+VALIDFILE,\n",
    "    input_vars = in_vars,\n",
    "    output_vars = out_vars,\n",
    "    norm_fn = path+NORMFILE,\n",
    "    input_transform = ('mean', 'maxrs'),\n",
    "    output_transform = scale_dict,\n",
    "    batch_size=1024,\n",
    "    shuffle=True,\n",
    "    lev=lev,\n",
    "    hyam=hyam,hybm=hybm,\n",
    "    inp_subRH=train_gen_RH.input_transform.sub, inp_divRH=train_gen_RH.input_transform.div,\n",
    "    inp_subTNS=train_gen_TNS.input_transform.sub,inp_divTNS=train_gen_TNS.input_transform.div,\n",
    "    rh_trans=False,t2tns_trans=False,\n",
    "    lhflx_trans=False,\n",
    "    scaling=False,\n",
    "    interpolate=False,\n",
    "    )\n",
    "\n",
    "    # 2) Load model\n",
    "    NN[por] = load_model('/oasis/scratch/comet/tbeucler/temp_project/CBRAIN_models/BF_Aqua_2020_07_22.hdf5') # Load aquaplanet model\n",
    "\n",
    "    # 3) Define callbacks and save_name of new model\n",
    "    path_HDF5 = '/oasis/scratch/comet/tbeucler/temp_project/CBRAIN_models/'\n",
    "    save_name = 'TL_BF_2020_07_23_porindex_'+str(i)\n",
    "    earlyStopping = EarlyStopping(monitor='loss', patience=5, verbose=0, mode='min')\n",
    "    mcp_save_pos = ModelCheckpoint(path_HDF5+save_name+'.hdf5',save_best_only=True, monitor='loss', mode='min')\n",
    "\n",
    "    # 4) Train model for Nep epochs and CANNOT save state of best validation loss because\n",
    "    # it would NOT be consistent with transfer learning scenario\n",
    "    NN[por].fit_generator(train_gen, epochs=Nep, callbacks=[earlyStopping, mcp_save_pos])"
   ]
  },
  {
   "cell_type": "markdown",
   "metadata": {},
   "source": []
  }
 ],
 "metadata": {
  "kernelspec": {
   "display_name": "Python 3",
   "language": "python",
   "name": "python3"
  },
  "language_info": {
   "codemirror_mode": {
    "name": "ipython",
    "version": 3
   },
   "file_extension": ".py",
   "mimetype": "text/x-python",
   "name": "python",
   "nbconvert_exporter": "python",
   "pygments_lexer": "ipython3",
   "version": "3.6.10"
  },
  "toc": {
   "base_numbering": 1,
   "nav_menu": {},
   "number_sections": true,
   "sideBar": true,
   "skip_h1_title": false,
   "title_cell": "Table of Contents",
   "title_sidebar": "Contents",
   "toc_cell": false,
   "toc_position": {
    "height": "calc(100% - 180px)",
    "left": "10px",
    "top": "150px",
    "width": "398.188px"
   },
   "toc_section_display": true,
   "toc_window_display": true
  }
 },
 "nbformat": 4,
 "nbformat_minor": 4
}
