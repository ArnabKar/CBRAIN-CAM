{
 "cells": [
  {
   "cell_type": "markdown",
   "metadata": {},
   "source": [
    "tgb - 11/12/2019 - Phase 1 of the project - Changing the inputs without changing the outputs"
   ]
  },
  {
   "cell_type": "markdown",
   "metadata": {},
   "source": [
    "# 0) Initialization"
   ]
  },
  {
   "cell_type": "markdown",
   "metadata": {},
   "source": [
    "Import utilities"
   ]
  },
  {
   "cell_type": "code",
   "execution_count": 1,
   "metadata": {},
   "outputs": [
    {
     "name": "stderr",
     "output_type": "stream",
     "text": [
      "/home/t/Tom.Beucler/miniconda3/lib/python3.7/site-packages/tensorflow/python/framework/dtypes.py:516: FutureWarning: Passing (type, 1) or '1type' as a synonym of type is deprecated; in a future version of numpy, it will be understood as (type, (1,)) / '(1,)type'.\n",
      "  _np_qint8 = np.dtype([(\"qint8\", np.int8, 1)])\n",
      "/home/t/Tom.Beucler/miniconda3/lib/python3.7/site-packages/tensorflow/python/framework/dtypes.py:517: FutureWarning: Passing (type, 1) or '1type' as a synonym of type is deprecated; in a future version of numpy, it will be understood as (type, (1,)) / '(1,)type'.\n",
      "  _np_quint8 = np.dtype([(\"quint8\", np.uint8, 1)])\n",
      "/home/t/Tom.Beucler/miniconda3/lib/python3.7/site-packages/tensorflow/python/framework/dtypes.py:518: FutureWarning: Passing (type, 1) or '1type' as a synonym of type is deprecated; in a future version of numpy, it will be understood as (type, (1,)) / '(1,)type'.\n",
      "  _np_qint16 = np.dtype([(\"qint16\", np.int16, 1)])\n",
      "/home/t/Tom.Beucler/miniconda3/lib/python3.7/site-packages/tensorflow/python/framework/dtypes.py:519: FutureWarning: Passing (type, 1) or '1type' as a synonym of type is deprecated; in a future version of numpy, it will be understood as (type, (1,)) / '(1,)type'.\n",
      "  _np_quint16 = np.dtype([(\"quint16\", np.uint16, 1)])\n",
      "/home/t/Tom.Beucler/miniconda3/lib/python3.7/site-packages/tensorflow/python/framework/dtypes.py:520: FutureWarning: Passing (type, 1) or '1type' as a synonym of type is deprecated; in a future version of numpy, it will be understood as (type, (1,)) / '(1,)type'.\n",
      "  _np_qint32 = np.dtype([(\"qint32\", np.int32, 1)])\n",
      "/home/t/Tom.Beucler/miniconda3/lib/python3.7/site-packages/tensorflow/python/framework/dtypes.py:525: FutureWarning: Passing (type, 1) or '1type' as a synonym of type is deprecated; in a future version of numpy, it will be understood as (type, (1,)) / '(1,)type'.\n",
      "  np_resource = np.dtype([(\"resource\", np.ubyte, 1)])\n",
      "/home/t/Tom.Beucler/miniconda3/lib/python3.7/site-packages/tensorboard/compat/tensorflow_stub/dtypes.py:541: FutureWarning: Passing (type, 1) or '1type' as a synonym of type is deprecated; in a future version of numpy, it will be understood as (type, (1,)) / '(1,)type'.\n",
      "  _np_qint8 = np.dtype([(\"qint8\", np.int8, 1)])\n",
      "/home/t/Tom.Beucler/miniconda3/lib/python3.7/site-packages/tensorboard/compat/tensorflow_stub/dtypes.py:542: FutureWarning: Passing (type, 1) or '1type' as a synonym of type is deprecated; in a future version of numpy, it will be understood as (type, (1,)) / '(1,)type'.\n",
      "  _np_quint8 = np.dtype([(\"quint8\", np.uint8, 1)])\n",
      "/home/t/Tom.Beucler/miniconda3/lib/python3.7/site-packages/tensorboard/compat/tensorflow_stub/dtypes.py:543: FutureWarning: Passing (type, 1) or '1type' as a synonym of type is deprecated; in a future version of numpy, it will be understood as (type, (1,)) / '(1,)type'.\n",
      "  _np_qint16 = np.dtype([(\"qint16\", np.int16, 1)])\n",
      "/home/t/Tom.Beucler/miniconda3/lib/python3.7/site-packages/tensorboard/compat/tensorflow_stub/dtypes.py:544: FutureWarning: Passing (type, 1) or '1type' as a synonym of type is deprecated; in a future version of numpy, it will be understood as (type, (1,)) / '(1,)type'.\n",
      "  _np_quint16 = np.dtype([(\"quint16\", np.uint16, 1)])\n",
      "/home/t/Tom.Beucler/miniconda3/lib/python3.7/site-packages/tensorboard/compat/tensorflow_stub/dtypes.py:545: FutureWarning: Passing (type, 1) or '1type' as a synonym of type is deprecated; in a future version of numpy, it will be understood as (type, (1,)) / '(1,)type'.\n",
      "  _np_qint32 = np.dtype([(\"qint32\", np.int32, 1)])\n",
      "/home/t/Tom.Beucler/miniconda3/lib/python3.7/site-packages/tensorboard/compat/tensorflow_stub/dtypes.py:550: FutureWarning: Passing (type, 1) or '1type' as a synonym of type is deprecated; in a future version of numpy, it will be understood as (type, (1,)) / '(1,)type'.\n",
      "  np_resource = np.dtype([(\"resource\", np.ubyte, 1)])\n",
      "WARNING: Logging before flag parsing goes to stderr.\n",
      "W1112 18:34:04.309802 22507181705024 deprecation_wrapper.py:119] From /home/t/Tom.Beucler/SPCAM/CBRAIN-CAM/notebooks/tbeucler_devlog/cbrain/models.py:16: The name tf.keras.layers.CuDNNGRU is deprecated. Please use tf.compat.v1.keras.layers.CuDNNGRU instead.\n",
      "\n",
      "W1112 18:34:04.310376 22507181705024 deprecation_wrapper.py:119] From /home/t/Tom.Beucler/SPCAM/CBRAIN-CAM/notebooks/tbeucler_devlog/cbrain/models.py:16: The name tf.keras.layers.CuDNNLSTM is deprecated. Please use tf.compat.v1.keras.layers.CuDNNLSTM instead.\n",
      "\n"
     ]
    },
    {
     "name": "stdout",
     "output_type": "stream",
     "text": [
      "/home/t/Tom.Beucler/SPCAM/CBRAIN-CAM/notebooks/tbeucler_devlog\n"
     ]
    },
    {
     "name": "stderr",
     "output_type": "stream",
     "text": [
      "W1112 18:34:04.666904 22507181705024 deprecation_wrapper.py:119] From /home/t/Tom.Beucler/SPCAM/CBRAIN-CAM/notebooks/tbeucler_devlog/cbrain/utils.py:145: The name tf.ConfigProto is deprecated. Please use tf.compat.v1.ConfigProto instead.\n",
      "\n",
      "W1112 18:34:04.667616 22507181705024 deprecation_wrapper.py:119] From /home/t/Tom.Beucler/SPCAM/CBRAIN-CAM/notebooks/tbeucler_devlog/cbrain/utils.py:148: The name tf.keras.backend.set_session is deprecated. Please use tf.compat.v1.keras.backend.set_session instead.\n",
      "\n",
      "W1112 18:34:04.669150 22507181705024 deprecation_wrapper.py:119] From /home/t/Tom.Beucler/SPCAM/CBRAIN-CAM/notebooks/tbeucler_devlog/cbrain/utils.py:148: The name tf.Session is deprecated. Please use tf.compat.v1.Session instead.\n",
      "\n"
     ]
    },
    {
     "name": "stdout",
     "output_type": "stream",
     "text": [
      "/filer/z-sv-pool12c/t/Tom.Beucler/SPCAM/CBRAIN-CAM\n"
     ]
    }
   ],
   "source": [
    "from cbrain.imports import *\n",
    "from cbrain.data_generator import *\n",
    "from cbrain.cam_constants import *\n",
    "from cbrain.losses import *\n",
    "from cbrain.utils import limit_mem\n",
    "from cbrain.layers import *\n",
    "import tensorflow as tf\n",
    "import tensorflow.math as tfm\n",
    "from tensorflow.keras.layers import *\n",
    "from tensorflow.keras.models import *\n",
    "import xarray as xr\n",
    "import numpy as np\n",
    "from cbrain.model_diagnostics import ModelDiagnostics\n",
    "import matplotlib as mpl\n",
    "import matplotlib.pyplot as plt\n",
    "import matplotlib.image as imag\n",
    "\n",
    "TRAINDIR = '/local/Tom.Beucler/SPCAM_PHYS/'\n",
    "DATADIR = '/project/meteo/w2w/A6/S.Rasp/SP-CAM/fluxbypass_aqua/'\n",
    "PREFIX = '8col009_01_'\n",
    "%cd /filer/z-sv-pool12c/t/Tom.Beucler/SPCAM/CBRAIN-CAM\n",
    "\n",
    "# Otherwise tensorflow will use ALL your GPU RAM for no reason\n",
    "limit_mem()"
   ]
  },
  {
   "cell_type": "markdown",
   "metadata": {},
   "source": [
    "# 1) Develop utilities to recast inputs"
   ]
  },
  {
   "cell_type": "markdown",
   "metadata": {},
   "source": [
    "We would like to rephrase two types of inputs:  \n",
    "1) Temperature as a deviation from the moist adiabat to avoid going out of training  \n",
    "2) Moisture variables, including microphysical variables, as relative humidities to avoid going out of training  \n",
    "3) Fow now, we will ignore \"large-scale tendencies\"   \n",
    "We will then train networks with similar architectures, one with \"rephrased\" inputs and one without to see if the one with \"rephrased\" inputs generalizes better to +4K near the Equator"
   ]
  },
  {
   "cell_type": "code",
   "execution_count": 2,
   "metadata": {},
   "outputs": [],
   "source": [
    "data = xr.open_dataset(\"/project/meteo/w2w/A6/S.Rasp/SP-CAM/fluxbypass_aqua/AndKua_aqua_SPCAM3.0_sp_fbp_f4.cam2.h1.0000-01-01-00000.nc\",\\\n",
    "                    decode_times=False)"
   ]
  },
  {
   "cell_type": "code",
   "execution_count": 3,
   "metadata": {},
   "outputs": [
    {
     "data": {
      "text/plain": [
       "<xarray.Dataset>\n",
       "Dimensions:       (crm_x: 8, crm_y: 1, crm_z: 28, ilev: 31, isccp_prs: 7, isccp_prstau: 49, isccp_tau: 7, lat: 64, lev: 30, lon: 128, tbnd: 2, time: 48)\n",
       "Coordinates:\n",
       "  * lat           (lat) float64 -87.86 -85.1 -82.31 -79.53 ... 82.31 85.1 87.86\n",
       "  * lon           (lon) float64 0.0 2.812 5.625 8.438 ... 351.6 354.4 357.2\n",
       "  * crm_x         (crm_x) float64 0.0 4.0 8.0 12.0 16.0 20.0 24.0 28.0\n",
       "  * crm_y         (crm_y) float64 0.0\n",
       "  * crm_z         (crm_z) float64 992.6 976.3 957.5 936.2 ... 38.27 24.61 14.36\n",
       "  * lev           (lev) float64 3.643 7.595 14.36 24.61 ... 957.5 976.3 992.6\n",
       "  * ilev          (ilev) float64 2.255 5.032 10.16 18.56 ... 967.5 985.1 1e+03\n",
       "  * isccp_prs     (isccp_prs) float64 90.0 245.0 375.0 500.0 620.0 740.0 900.0\n",
       "  * isccp_tau     (isccp_tau) float64 0.15 0.8 2.45 6.5 16.2 41.5 219.5\n",
       "  * isccp_prstau  (isccp_prstau) float64 90.0 90.0 90.0 ... 900.0 900.0 900.2\n",
       "  * time          (time) float64 0.0 0.02083 0.04167 ... 0.9375 0.9583 0.9792\n",
       "Dimensions without coordinates: tbnd\n",
       "Data variables:\n",
       "    P0            float64 ...\n",
       "    time_bnds     (time, tbnd) float64 ...\n",
       "    date_written  (time) |S8 ...\n",
       "    time_written  (time) |S8 ...\n",
       "    ntrm          int32 ...\n",
       "    ntrn          int32 ...\n",
       "    ntrk          int32 ...\n",
       "    ndbase        int32 ...\n",
       "    nsbase        int32 ...\n",
       "    nbdate        int32 ...\n",
       "    nbsec         int32 ...\n",
       "    mdt           int32 ...\n",
       "    nlon          (lat) int32 ...\n",
       "    wnummax       (lat) int32 ...\n",
       "    hyai          (ilev) float64 ...\n",
       "    hybi          (ilev) float64 ...\n",
       "    hyam          (lev) float64 ...\n",
       "    hybm          (lev) float64 ...\n",
       "    gw            (lat) float64 ...\n",
       "    ndcur         (time) int32 ...\n",
       "    nscur         (time) int32 ...\n",
       "    date          (time) int32 ...\n",
       "    datesec       (time) int32 ...\n",
       "    nsteph        (time) int32 ...\n",
       "    DTV           (time, lev, lat, lon) float32 ...\n",
       "    DTVKE         (time, lev, lat, lon) float32 ...\n",
       "    FLNS          (time, lat, lon) float32 ...\n",
       "    FLNT          (time, lat, lon) float32 ...\n",
       "    FLUT          (time, lat, lon) float32 ...\n",
       "    FSNS          (time, lat, lon) float32 ...\n",
       "    FSNT          (time, lat, lon) float32 ...\n",
       "    LHFLX         (time, lat, lon) float32 ...\n",
       "    PHCLDICE      (time, lev, lat, lon) float32 ...\n",
       "    PHCLDLIQ      (time, lev, lat, lon) float32 ...\n",
       "    PHQ           (time, lev, lat, lon) float32 ...\n",
       "    PRECC         (time, lat, lon) float32 ...\n",
       "    PRECL         (time, lat, lon) float32 ...\n",
       "    PRECSC        (time, lat, lon) float32 ...\n",
       "    PRECSL        (time, lat, lon) float32 ...\n",
       "    PRECSTEN      (time, lat, lon) float32 ...\n",
       "    PRECT         (time, lat, lon) float32 ...\n",
       "    PRECTEND      (time, lat, lon) float32 ...\n",
       "    PS            (time, lat, lon) float32 ...\n",
       "    QAP           (time, lev, lat, lon) float32 ...\n",
       "    QCAP          (time, lev, lat, lon) float32 ...\n",
       "    QIAP          (time, lev, lat, lon) float32 ...\n",
       "    QRL           (time, lev, lat, lon) float32 ...\n",
       "    QRS           (time, lev, lat, lon) float32 ...\n",
       "    SHFLX         (time, lat, lon) float32 ...\n",
       "    SOLIN         (time, lat, lon) float32 ...\n",
       "    SPDQ          (time, lev, lat, lon) float32 ...\n",
       "    SPDT          (time, lev, lat, lon) float32 ...\n",
       "    T             (time, lev, lat, lon) float32 ...\n",
       "    TAP           (time, lev, lat, lon) float32 ...\n",
       "    TPHYSTND      (time, lev, lat, lon) float32 ...\n",
       "    TS            (time, lat, lon) float32 ...\n",
       "    UAP           (time, lev, lat, lon) float32 ...\n",
       "    VAP           (time, lev, lat, lon) float32 ...\n",
       "    VD01          (time, lev, lat, lon) float32 ...\n",
       "    VPHYSTND      (time, lev, lat, lon) float32 ...\n",
       "Attributes:\n",
       "    Conventions:  CF-1.0\n",
       "    source:       CAM\n",
       "    case:         AndKua_aqua_SPCAM3.0_sp_fbp_f4\n",
       "    title:        \n",
       "    logname:      tg847872\n",
       "    host:         \n",
       "    Version:      $Name:  $\n",
       "    revision_Id:  $Id: history.F90,v 1.26.2.38 2003/12/15 18:52:35 hender Exp $"
      ]
     },
     "execution_count": 3,
     "metadata": {},
     "output_type": "execute_result"
    }
   ],
   "source": [
    "data"
   ]
  },
  {
   "cell_type": "markdown",
   "metadata": {},
   "source": [
    "## 1.1) Code up relative humidity from Tristan's utilities"
   ]
  },
  {
   "cell_type": "markdown",
   "metadata": {},
   "source": [
    "From [https://github.com/thabbott/matlab]. Since the microphysics scheme is one-moment, we only need to keep track of a single relative humidity that takes into account both the saturation pressure with respect to liquid and ice."
   ]
  },
  {
   "cell_type": "code",
   "execution_count": 67,
   "metadata": {},
   "outputs": [],
   "source": [
    "# SAM Constants, TODO = Check that they are the same in SPCAM\n",
    "# In functions\n",
    "a_liq = np.array([-0.976195544e-15,-0.952447341e-13,0.640689451e-10,0.206739458e-7,0.302950461e-5,0.264847430e-3,0.142986287e-1,0.443987641,6.11239921]);\n",
    "a_ice = np.array([0.252751365e-14,0.146898966e-11,0.385852041e-9,0.602588177e-7,0.615021634e-5,0.420895665e-3,0.188439774e-1,0.503160820,6.11147274]);\n",
    "c_liq = -80\n",
    "c_ice = np.array([273.15,185,-100,0.00763685,0.000151069,7.48215e-07])\n",
    "# General\n",
    "R = 287\n",
    "Rv = 461\n",
    "T0 = 273.16\n",
    "T00 = 253.16"
   ]
  },
  {
   "cell_type": "code",
   "execution_count": 20,
   "metadata": {},
   "outputs": [],
   "source": [
    "# Test variables\n",
    "T = data.T # Absolute temperature (K)\n",
    "# From temperature, get saturation pressure over liquid\n",
    "Xliq = np.maximum(c_liq,T-T0)\n",
    "eliq = 100*np.polyval(a_liq,Xliq)"
   ]
  },
  {
   "cell_type": "code",
   "execution_count": 34,
   "metadata": {},
   "outputs": [],
   "source": [
    "def eliq(T):\n",
    "    a_liq = np.array([-0.976195544e-15,-0.952447341e-13,0.640689451e-10,0.206739458e-7,0.302950461e-5,0.264847430e-3,0.142986287e-1,0.443987641,6.11239921]);\n",
    "    c_liq = -80\n",
    "    T0 = 273.16\n",
    "    return 100*np.polyval(a_liq,np.maximum(c_liq,T-T0))"
   ]
  },
  {
   "cell_type": "code",
   "execution_count": 128,
   "metadata": {},
   "outputs": [],
   "source": [
    "# Test variables\n",
    "T = data.T.values # Absolute temperature (K)\n",
    "# From temperature, set saturation pressure over ice\n",
    "eice = (T>c_ice[0])*eliq(T)+\\\n",
    "(T<=c_ice[0])*(T>c_ice[1])*100*np.polyval(a_ice,T-T0)+\\\n",
    "(T<=c_ice[1])*100*(c_ice[3]+np.maximum(c_ice[2],T-T0)*(c_ice[4]+np.maximum(c_ice[2],T-T0)*c_ice[5]))"
   ]
  },
  {
   "cell_type": "code",
   "execution_count": 129,
   "metadata": {},
   "outputs": [],
   "source": [
    "def eice(T):\n",
    "    a_ice = np.array([0.252751365e-14,0.146898966e-11,0.385852041e-9,0.602588177e-7,0.615021634e-5,0.420895665e-3,0.188439774e-1,0.503160820,6.11147274]);\n",
    "    c_ice = np.array([273.15,185,-100,0.00763685,0.000151069,7.48215e-07])\n",
    "    T0 = 273.16\n",
    "    return (T>c_ice[0])*eliq(T)+\\\n",
    "(T<=c_ice[0])*(T>c_ice[1])*100*np.polyval(a_ice,T-T0)+\\\n",
    "(T<=c_ice[1])*100*(c_ice[3]+np.maximum(c_ice[2],T-T0)*(c_ice[4]+np.maximum(c_ice[2],T-T0)*c_ice[5]))    "
   ]
  },
  {
   "cell_type": "code",
   "execution_count": 122,
   "metadata": {},
   "outputs": [],
   "source": [
    "def esat(T):\n",
    "    T0 = 273.16\n",
    "    T00 = 253.16\n",
    "    omega = np.maximum(0,np.minimum(1,(T-T00)/(T0-T00)))\n",
    "    \n",
    "    return (T>T0)*eliq(T)+(T<T00)*eice(T)+(T<=T0)*(T>=T00)*(omega*eliq(T)+(1-omega)*eice(T))"
   ]
  },
  {
   "cell_type": "code",
   "execution_count": 136,
   "metadata": {},
   "outputs": [],
   "source": [
    "# Test variables\n",
    "p = np.moveaxis((data.hyam*data.P0+data.hybm*data.PS).values,0,1) # Total pressure (Pa)\n",
    "T = data.T # Absolute temperature (K)\n",
    "qv = data.QAP # Specific humidity (kg/kg)\n",
    "ql = data.QCAP # Liquid water (kg/kg)\n",
    "qi = data.QIAP # Ice (kg/kg)\n",
    "# From specific humidity, liquid water and ice to relative humidity\n",
    "# 1) Partial pressure from total water and temperature\n",
    "e = Rv*p*qv/R\n",
    "# 2) Relative humidity from saturation pressure\n",
    "RH = e/esat(T)\n",
    "# 3) Relative humidity from saturation specific humidity\n",
    "qsatl=R/Rv*eliq(T)/np.maximum(eliq(T),p-eliq(T))\n",
    "RHliq = qv/qsatl\n",
    "qsati=R/Rv*eice(T)/np.maximum(eice(T),p-eice(T))\n",
    "RHice = qv/qsati"
   ]
  },
  {
   "cell_type": "code",
   "execution_count": 156,
   "metadata": {},
   "outputs": [],
   "source": [
    "def RH(T,qv,P0,PS,hyam,hybm):\n",
    "    R = 287\n",
    "    Rv = 461\n",
    "    p = np.moveaxis((hyam*P0+hybm*PS).values,0,1) # Total pressure (Pa)\n",
    "    return Rv*p*qv/(R*esat(T))"
   ]
  },
  {
   "cell_type": "code",
   "execution_count": 158,
   "metadata": {},
   "outputs": [],
   "source": [
    "RH0 = RH(data.T,data.QAP,data.P0,data.PS,data.hyam,data.hybm)"
   ]
  },
  {
   "cell_type": "code",
   "execution_count": 165,
   "metadata": {},
   "outputs": [
    {
     "data": {
      "text/plain": [
       "<matplotlib.legend.Legend at 0x147769ea00f0>"
      ]
     },
     "execution_count": 165,
     "metadata": {},
     "output_type": "execute_result"
    },
    {
     "data": {
      "image/png": "[encoded data removed]",
      "text/plain": [
       "<Figure size 432x288 with 1 Axes>"
      ]
     },
     "metadata": {
      "needs_background": "light"
     },
     "output_type": "display_data"
    }
   ],
   "source": [
    "# Plot characteristics\n",
    "fz = 15\n",
    "lw = 2\n",
    "plt.rc('text', usetex=True)\n",
    "plt.rc('font', family='serif', size=fz)\n",
    "mpl.rcParams['lines.linewidth'] = lw\n",
    "plt.close('all')\n",
    "\n",
    "plt.plot(np.mean(RH0,axis=(0,2,3)),data.lev,label='Total RH')\n",
    "plt.plot(np.mean(RHliq,axis=(0,2,3)),data.lev,label='Liquid RH')\n",
    "plt.plot(np.mean(RHice,axis=(0,2,3)),data.lev,label='Ice RH')\n",
    "plt.xlim((0,1))\n",
    "plt.ylabel('Pressure')\n",
    "plt.xlabel('RH')\n",
    "plt.gca().invert_yaxis()\n",
    "plt.legend()"
   ]
  },
  {
   "cell_type": "code",
   "execution_count": 171,
   "metadata": {},
   "outputs": [
    {
     "data": {
      "text/plain": [
       "Text(0.5, 0.98, 'Histogram of Relative humidity')"
      ]
     },
     "execution_count": 171,
     "metadata": {},
     "output_type": "execute_result"
    },
    {
     "data": {
      "image/png": "[encoded data removed]",
      "text/plain": [
       "<Figure size 1080x360 with 1 Axes>"
      ]
     },
     "metadata": {
      "needs_background": "light"
     },
     "output_type": "display_data"
    }
   ],
   "source": [
    "plt.figure(figsize=(15,5))\n",
    "plt.hist(RH0.values.flatten(),bins=100)\n",
    "plt.xlabel('Pressure [hPa]')\n",
    "plt.suptitle(\"Histogram of Relative humidity\")"
   ]
  },
  {
   "cell_type": "code",
   "execution_count": 172,
   "metadata": {},
   "outputs": [
    {
     "data": {
      "text/plain": [
       "Text(0.5, 0.98, 'Histogram of Pressure for which RH larger than1.05')"
      ]
     },
     "execution_count": 172,
     "metadata": {},
     "output_type": "execute_result"
    },
    {
     "data": {
      "image/png": "[encoded data removed]",
      "text/plain": [
       "<Figure size 1080x360 with 2 Axes>"
      ]
     },
     "metadata": {
      "needs_background": "light"
     },
     "output_type": "display_data"
    }
   ],
   "source": [
    "RHthres = 1.05\n",
    "plt.figure(figsize=(15,5))\n",
    "plt.subplot(1,2,1)\n",
    "plt.hist(p[RH0>RHthres]/1e2)\n",
    "plt.xlabel('Pressure [hPa]')\n",
    "plt.subplot(1,2,2)\n",
    "plt.hist(p.flatten()/1e2)\n",
    "plt.xlabel('Pressure [hPa]')\n",
    "plt.suptitle(\"Histogram of Pressure for which RH larger than\"+str(RHthres))"
   ]
  },
  {
   "cell_type": "markdown",
   "metadata": {},
   "source": [
    "## 1.2) Code up deviation from moist adiabatic profile from Tristan's utilities"
   ]
  },
  {
   "cell_type": "code",
   "execution_count": null,
   "metadata": {},
   "outputs": [],
   "source": []
  }
 ],
 "metadata": {
  "kernelspec": {
   "display_name": "Python 3",
   "language": "python",
   "name": "python3"
  },
  "language_info": {
   "codemirror_mode": {
    "name": "ipython",
    "version": 3
   },
   "file_extension": ".py",
   "mimetype": "text/x-python",
   "name": "python",
   "nbconvert_exporter": "python",
   "pygments_lexer": "ipython3",
   "version": "3.7.3"
  }
 },
 "nbformat": 4,
 "nbformat_minor": 2
}
