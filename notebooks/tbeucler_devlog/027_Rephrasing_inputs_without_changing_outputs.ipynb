{
 "cells": [
  {
   "cell_type": "markdown",
   "metadata": {},
   "source": [
    "tgb - 11/12/2019 - Phase 1 of the project - Changing the inputs without changing the outputs"
   ]
  },
  {
   "cell_type": "markdown",
   "metadata": {},
   "source": [
    "# 0) Initialization"
   ]
  },
  {
   "cell_type": "markdown",
   "metadata": {},
   "source": [
    "Import utilities"
   ]
  },
  {
   "cell_type": "code",
   "execution_count": 1,
   "metadata": {},
   "outputs": [
    {
     "name": "stderr",
     "output_type": "stream",
     "text": [
      "/home/t/Tom.Beucler/miniconda3/lib/python3.7/site-packages/tensorflow/python/framework/dtypes.py:516: FutureWarning: Passing (type, 1) or '1type' as a synonym of type is deprecated; in a future version of numpy, it will be understood as (type, (1,)) / '(1,)type'.\n",
      "  _np_qint8 = np.dtype([(\"qint8\", np.int8, 1)])\n",
      "/home/t/Tom.Beucler/miniconda3/lib/python3.7/site-packages/tensorflow/python/framework/dtypes.py:517: FutureWarning: Passing (type, 1) or '1type' as a synonym of type is deprecated; in a future version of numpy, it will be understood as (type, (1,)) / '(1,)type'.\n",
      "  _np_quint8 = np.dtype([(\"quint8\", np.uint8, 1)])\n",
      "/home/t/Tom.Beucler/miniconda3/lib/python3.7/site-packages/tensorflow/python/framework/dtypes.py:518: FutureWarning: Passing (type, 1) or '1type' as a synonym of type is deprecated; in a future version of numpy, it will be understood as (type, (1,)) / '(1,)type'.\n",
      "  _np_qint16 = np.dtype([(\"qint16\", np.int16, 1)])\n",
      "/home/t/Tom.Beucler/miniconda3/lib/python3.7/site-packages/tensorflow/python/framework/dtypes.py:519: FutureWarning: Passing (type, 1) or '1type' as a synonym of type is deprecated; in a future version of numpy, it will be understood as (type, (1,)) / '(1,)type'.\n",
      "  _np_quint16 = np.dtype([(\"quint16\", np.uint16, 1)])\n",
      "/home/t/Tom.Beucler/miniconda3/lib/python3.7/site-packages/tensorflow/python/framework/dtypes.py:520: FutureWarning: Passing (type, 1) or '1type' as a synonym of type is deprecated; in a future version of numpy, it will be understood as (type, (1,)) / '(1,)type'.\n",
      "  _np_qint32 = np.dtype([(\"qint32\", np.int32, 1)])\n",
      "/home/t/Tom.Beucler/miniconda3/lib/python3.7/site-packages/tensorflow/python/framework/dtypes.py:525: FutureWarning: Passing (type, 1) or '1type' as a synonym of type is deprecated; in a future version of numpy, it will be understood as (type, (1,)) / '(1,)type'.\n",
      "  np_resource = np.dtype([(\"resource\", np.ubyte, 1)])\n",
      "/home/t/Tom.Beucler/miniconda3/lib/python3.7/site-packages/tensorboard/compat/tensorflow_stub/dtypes.py:541: FutureWarning: Passing (type, 1) or '1type' as a synonym of type is deprecated; in a future version of numpy, it will be understood as (type, (1,)) / '(1,)type'.\n",
      "  _np_qint8 = np.dtype([(\"qint8\", np.int8, 1)])\n",
      "/home/t/Tom.Beucler/miniconda3/lib/python3.7/site-packages/tensorboard/compat/tensorflow_stub/dtypes.py:542: FutureWarning: Passing (type, 1) or '1type' as a synonym of type is deprecated; in a future version of numpy, it will be understood as (type, (1,)) / '(1,)type'.\n",
      "  _np_quint8 = np.dtype([(\"quint8\", np.uint8, 1)])\n",
      "/home/t/Tom.Beucler/miniconda3/lib/python3.7/site-packages/tensorboard/compat/tensorflow_stub/dtypes.py:543: FutureWarning: Passing (type, 1) or '1type' as a synonym of type is deprecated; in a future version of numpy, it will be understood as (type, (1,)) / '(1,)type'.\n",
      "  _np_qint16 = np.dtype([(\"qint16\", np.int16, 1)])\n",
      "/home/t/Tom.Beucler/miniconda3/lib/python3.7/site-packages/tensorboard/compat/tensorflow_stub/dtypes.py:544: FutureWarning: Passing (type, 1) or '1type' as a synonym of type is deprecated; in a future version of numpy, it will be understood as (type, (1,)) / '(1,)type'.\n",
      "  _np_quint16 = np.dtype([(\"quint16\", np.uint16, 1)])\n",
      "/home/t/Tom.Beucler/miniconda3/lib/python3.7/site-packages/tensorboard/compat/tensorflow_stub/dtypes.py:545: FutureWarning: Passing (type, 1) or '1type' as a synonym of type is deprecated; in a future version of numpy, it will be understood as (type, (1,)) / '(1,)type'.\n",
      "  _np_qint32 = np.dtype([(\"qint32\", np.int32, 1)])\n",
      "/home/t/Tom.Beucler/miniconda3/lib/python3.7/site-packages/tensorboard/compat/tensorflow_stub/dtypes.py:550: FutureWarning: Passing (type, 1) or '1type' as a synonym of type is deprecated; in a future version of numpy, it will be understood as (type, (1,)) / '(1,)type'.\n",
      "  np_resource = np.dtype([(\"resource\", np.ubyte, 1)])\n",
      "WARNING: Logging before flag parsing goes to stderr.\n",
      "W1114 00:33:42.946304 22505199671104 deprecation_wrapper.py:119] From /home/t/Tom.Beucler/SPCAM/CBRAIN-CAM/notebooks/tbeucler_devlog/cbrain/models.py:16: The name tf.keras.layers.CuDNNGRU is deprecated. Please use tf.compat.v1.keras.layers.CuDNNGRU instead.\n",
      "\n",
      "W1114 00:33:42.946898 22505199671104 deprecation_wrapper.py:119] From /home/t/Tom.Beucler/SPCAM/CBRAIN-CAM/notebooks/tbeucler_devlog/cbrain/models.py:16: The name tf.keras.layers.CuDNNLSTM is deprecated. Please use tf.compat.v1.keras.layers.CuDNNLSTM instead.\n",
      "\n",
      "W1114 00:33:42.959698 22505199671104 deprecation_wrapper.py:119] From /home/t/Tom.Beucler/SPCAM/CBRAIN-CAM/notebooks/tbeucler_devlog/cbrain/utils.py:145: The name tf.ConfigProto is deprecated. Please use tf.compat.v1.ConfigProto instead.\n",
      "\n",
      "W1114 00:33:42.960130 22505199671104 deprecation_wrapper.py:119] From /home/t/Tom.Beucler/SPCAM/CBRAIN-CAM/notebooks/tbeucler_devlog/cbrain/utils.py:148: The name tf.keras.backend.set_session is deprecated. Please use tf.compat.v1.keras.backend.set_session instead.\n",
      "\n",
      "W1114 00:33:42.960514 22505199671104 deprecation_wrapper.py:119] From /home/t/Tom.Beucler/SPCAM/CBRAIN-CAM/notebooks/tbeucler_devlog/cbrain/utils.py:148: The name tf.Session is deprecated. Please use tf.compat.v1.Session instead.\n",
      "\n"
     ]
    },
    {
     "name": "stdout",
     "output_type": "stream",
     "text": [
      "/home/t/Tom.Beucler/SPCAM/CBRAIN-CAM/notebooks/tbeucler_devlog\n",
      "/filer/z-sv-pool12c/t/Tom.Beucler/SPCAM/CBRAIN-CAM\n"
     ]
    }
   ],
   "source": [
    "from cbrain.imports import *\n",
    "from cbrain.data_generator import *\n",
    "from cbrain.cam_constants import *\n",
    "from cbrain.losses import *\n",
    "from cbrain.utils import limit_mem\n",
    "from cbrain.layers import *\n",
    "import tensorflow as tf\n",
    "import tensorflow.math as tfm\n",
    "from tensorflow.keras.layers import *\n",
    "from tensorflow.keras.models import *\n",
    "import xarray as xr\n",
    "import numpy as np\n",
    "from cbrain.model_diagnostics import ModelDiagnostics\n",
    "import matplotlib as mpl\n",
    "import matplotlib.pyplot as plt\n",
    "import matplotlib.image as imag\n",
    "import scipy.integrate as sin\n",
    "\n",
    "TRAINDIR = '/local/Tom.Beucler/SPCAM_PHYS/'\n",
    "DATADIR = '/project/meteo/w2w/A6/S.Rasp/SP-CAM/fluxbypass_aqua/'\n",
    "PREFIX = '8col009_01_'\n",
    "%cd /filer/z-sv-pool12c/t/Tom.Beucler/SPCAM/CBRAIN-CAM\n",
    "\n",
    "# Otherwise tensorflow will use ALL your GPU RAM for no reason\n",
    "limit_mem()"
   ]
  },
  {
   "cell_type": "markdown",
   "metadata": {},
   "source": [
    "# 1) Develop utilities to recast inputs"
   ]
  },
  {
   "cell_type": "markdown",
   "metadata": {},
   "source": [
    "We would like to rephrase two types of inputs:  \n",
    "1) Temperature as a deviation from the moist adiabat to avoid going out of training  \n",
    "2) Moisture variables, including microphysical variables, as relative humidities to avoid going out of training  \n",
    "3) Fow now, we will ignore \"large-scale tendencies\"   \n",
    "We will then train networks with similar architectures, one with \"rephrased\" inputs and one without to see if the one with \"rephrased\" inputs generalizes better to +4K near the Equator"
   ]
  },
  {
   "cell_type": "code",
   "execution_count": 20,
   "metadata": {},
   "outputs": [],
   "source": [
    "data = xr.open_dataset(\"/project/meteo/w2w/A6/S.Rasp/SP-CAM/fluxbypass_aqua/AndKua_aqua_SPCAM3.0_sp_fbp_f4.cam2.h1.0000-01-01-00000.nc\",\\\n",
    "                    decode_times=False)"
   ]
  },
  {
   "cell_type": "code",
   "execution_count": 21,
   "metadata": {},
   "outputs": [
    {
     "data": {
      "text/plain": [
       "<xarray.Dataset>\n",
       "Dimensions:       (crm_x: 8, crm_y: 1, crm_z: 28, ilev: 31, isccp_prs: 7, isccp_prstau: 49, isccp_tau: 7, lat: 64, lev: 30, lon: 128, tbnd: 2, time: 48)\n",
       "Coordinates:\n",
       "  * lat           (lat) float64 -87.86 -85.1 -82.31 -79.53 ... 82.31 85.1 87.86\n",
       "  * lon           (lon) float64 0.0 2.812 5.625 8.438 ... 351.6 354.4 357.2\n",
       "  * crm_x         (crm_x) float64 0.0 4.0 8.0 12.0 16.0 20.0 24.0 28.0\n",
       "  * crm_y         (crm_y) float64 0.0\n",
       "  * crm_z         (crm_z) float64 992.6 976.3 957.5 936.2 ... 38.27 24.61 14.36\n",
       "  * lev           (lev) float64 3.643 7.595 14.36 24.61 ... 957.5 976.3 992.6\n",
       "  * ilev          (ilev) float64 2.255 5.032 10.16 18.56 ... 967.5 985.1 1e+03\n",
       "  * isccp_prs     (isccp_prs) float64 90.0 245.0 375.0 500.0 620.0 740.0 900.0\n",
       "  * isccp_tau     (isccp_tau) float64 0.15 0.8 2.45 6.5 16.2 41.5 219.5\n",
       "  * isccp_prstau  (isccp_prstau) float64 90.0 90.0 90.0 ... 900.0 900.0 900.2\n",
       "  * time          (time) float64 0.0 0.02083 0.04167 ... 0.9375 0.9583 0.9792\n",
       "Dimensions without coordinates: tbnd\n",
       "Data variables:\n",
       "    P0            float64 ...\n",
       "    time_bnds     (time, tbnd) float64 ...\n",
       "    date_written  (time) |S8 ...\n",
       "    time_written  (time) |S8 ...\n",
       "    ntrm          int32 ...\n",
       "    ntrn          int32 ...\n",
       "    ntrk          int32 ...\n",
       "    ndbase        int32 ...\n",
       "    nsbase        int32 ...\n",
       "    nbdate        int32 ...\n",
       "    nbsec         int32 ...\n",
       "    mdt           int32 ...\n",
       "    nlon          (lat) int32 ...\n",
       "    wnummax       (lat) int32 ...\n",
       "    hyai          (ilev) float64 ...\n",
       "    hybi          (ilev) float64 ...\n",
       "    hyam          (lev) float64 ...\n",
       "    hybm          (lev) float64 ...\n",
       "    gw            (lat) float64 ...\n",
       "    ndcur         (time) int32 ...\n",
       "    nscur         (time) int32 ...\n",
       "    date          (time) int32 ...\n",
       "    datesec       (time) int32 ...\n",
       "    nsteph        (time) int32 ...\n",
       "    DTV           (time, lev, lat, lon) float32 ...\n",
       "    DTVKE         (time, lev, lat, lon) float32 ...\n",
       "    FLNS          (time, lat, lon) float32 ...\n",
       "    FLNT          (time, lat, lon) float32 ...\n",
       "    FLUT          (time, lat, lon) float32 ...\n",
       "    FSNS          (time, lat, lon) float32 ...\n",
       "    FSNT          (time, lat, lon) float32 ...\n",
       "    LHFLX         (time, lat, lon) float32 ...\n",
       "    PHCLDICE      (time, lev, lat, lon) float32 ...\n",
       "    PHCLDLIQ      (time, lev, lat, lon) float32 ...\n",
       "    PHQ           (time, lev, lat, lon) float32 ...\n",
       "    PRECC         (time, lat, lon) float32 ...\n",
       "    PRECL         (time, lat, lon) float32 ...\n",
       "    PRECSC        (time, lat, lon) float32 ...\n",
       "    PRECSL        (time, lat, lon) float32 ...\n",
       "    PRECSTEN      (time, lat, lon) float32 ...\n",
       "    PRECT         (time, lat, lon) float32 ...\n",
       "    PRECTEND      (time, lat, lon) float32 ...\n",
       "    PS            (time, lat, lon) float32 ...\n",
       "    QAP           (time, lev, lat, lon) float32 ...\n",
       "    QCAP          (time, lev, lat, lon) float32 ...\n",
       "    QIAP          (time, lev, lat, lon) float32 ...\n",
       "    QRL           (time, lev, lat, lon) float32 ...\n",
       "    QRS           (time, lev, lat, lon) float32 ...\n",
       "    SHFLX         (time, lat, lon) float32 ...\n",
       "    SOLIN         (time, lat, lon) float32 ...\n",
       "    SPDQ          (time, lev, lat, lon) float32 ...\n",
       "    SPDT          (time, lev, lat, lon) float32 ...\n",
       "    T             (time, lev, lat, lon) float32 ...\n",
       "    TAP           (time, lev, lat, lon) float32 ...\n",
       "    TPHYSTND      (time, lev, lat, lon) float32 ...\n",
       "    TS            (time, lat, lon) float32 ...\n",
       "    UAP           (time, lev, lat, lon) float32 ...\n",
       "    VAP           (time, lev, lat, lon) float32 ...\n",
       "    VD01          (time, lev, lat, lon) float32 ...\n",
       "    VPHYSTND      (time, lev, lat, lon) float32 ...\n",
       "Attributes:\n",
       "    Conventions:  CF-1.0\n",
       "    source:       CAM\n",
       "    case:         AndKua_aqua_SPCAM3.0_sp_fbp_f4\n",
       "    title:        \n",
       "    logname:      tg847872\n",
       "    host:         \n",
       "    Version:      $Name:  $\n",
       "    revision_Id:  $Id: history.F90,v 1.26.2.38 2003/12/15 18:52:35 hender Exp $"
      ]
     },
     "execution_count": 21,
     "metadata": {},
     "output_type": "execute_result"
    }
   ],
   "source": [
    "data"
   ]
  },
  {
   "cell_type": "markdown",
   "metadata": {},
   "source": [
    "## 1.1) Code up relative humidity from Tristan's utilities"
   ]
  },
  {
   "cell_type": "markdown",
   "metadata": {},
   "source": [
    "From [https://github.com/thabbott/matlab]. Since the microphysics scheme is one-moment, we only need to keep track of a single relative humidity that takes into account both the saturation pressure with respect to liquid and ice."
   ]
  },
  {
   "cell_type": "code",
   "execution_count": 22,
   "metadata": {},
   "outputs": [],
   "source": [
    "# SAM Constants, TODO = Check that they are the same in SPCAM\n",
    "# In functions\n",
    "a_liq = np.array([-0.976195544e-15,-0.952447341e-13,0.640689451e-10,0.206739458e-7,0.302950461e-5,0.264847430e-3,0.142986287e-1,0.443987641,6.11239921]);\n",
    "a_ice = np.array([0.252751365e-14,0.146898966e-11,0.385852041e-9,0.602588177e-7,0.615021634e-5,0.420895665e-3,0.188439774e-1,0.503160820,6.11147274]);\n",
    "c_liq = -80\n",
    "c_ice = np.array([273.15,185,-100,0.00763685,0.000151069,7.48215e-07])\n",
    "# General\n",
    "cp = 1.004e3\n",
    "g = 9.81\n",
    "Lc = 2.5104e6\n",
    "Lf = 0.3336e6\n",
    "Ls = 2.8440e6\n",
    "R = 287\n",
    "Rv = 461\n",
    "T0 = 273.16\n",
    "T0p = 283.16\n",
    "T00 = 253.16\n",
    "T00p = 268.16"
   ]
  },
  {
   "cell_type": "code",
   "execution_count": 23,
   "metadata": {},
   "outputs": [],
   "source": [
    "# Test variables\n",
    "T = data.T # Absolute temperature (K)\n",
    "# From temperature, get saturation pressure over liquid\n",
    "Xliq = np.maximum(c_liq,T-T0)\n",
    "eliq = 100*np.polyval(a_liq,Xliq)"
   ]
  },
  {
   "cell_type": "code",
   "execution_count": 24,
   "metadata": {},
   "outputs": [],
   "source": [
    "def eliq(T):\n",
    "    a_liq = np.array([-0.976195544e-15,-0.952447341e-13,0.640689451e-10,0.206739458e-7,0.302950461e-5,0.264847430e-3,0.142986287e-1,0.443987641,6.11239921]);\n",
    "    c_liq = -80\n",
    "    T0 = 273.16\n",
    "    return 100*np.polyval(a_liq,np.maximum(c_liq,T-T0))"
   ]
  },
  {
   "cell_type": "code",
   "execution_count": 25,
   "metadata": {},
   "outputs": [],
   "source": [
    "def deliqdT(T):\n",
    "    a_liq = np.array([-0.599634321e-17,-0.792933209e-14,-0.604119582e-12,0.385208005e-9,0.103167413e-6,0.121167162e-4,0.794747212e-3,0.285976452e-1,0.443956472])\n",
    "    c_liq = -80\n",
    "    T0 = 273.16\n",
    "    return 100*np.polyval(a_liq,np.maximum(c_liq,T-T0))"
   ]
  },
  {
   "cell_type": "code",
   "execution_count": 26,
   "metadata": {},
   "outputs": [],
   "source": [
    "# Test variables\n",
    "T = data.T.values # Absolute temperature (K)\n",
    "# From temperature, set saturation pressure over ice\n",
    "eice = (T>c_ice[0])*eliq(T)+\\\n",
    "(T<=c_ice[0])*(T>c_ice[1])*100*np.polyval(a_ice,T-T0)+\\\n",
    "(T<=c_ice[1])*100*(c_ice[3]+np.maximum(c_ice[2],T-T0)*(c_ice[4]+np.maximum(c_ice[2],T-T0)*c_ice[5]))"
   ]
  },
  {
   "cell_type": "code",
   "execution_count": 27,
   "metadata": {},
   "outputs": [],
   "source": [
    "def eice(T):\n",
    "    a_ice = np.array([0.252751365e-14,0.146898966e-11,0.385852041e-9,0.602588177e-7,0.615021634e-5,0.420895665e-3,0.188439774e-1,0.503160820,6.11147274]);\n",
    "    c_ice = np.array([273.15,185,-100,0.00763685,0.000151069,7.48215e-07])\n",
    "    T0 = 273.16\n",
    "    return (T>c_ice[0])*eliq(T)+\\\n",
    "(T<=c_ice[0])*(T>c_ice[1])*100*np.polyval(a_ice,T-T0)+\\\n",
    "(T<=c_ice[1])*100*(c_ice[3]+np.maximum(c_ice[2],T-T0)*(c_ice[4]+np.maximum(c_ice[2],T-T0)*c_ice[5]))    "
   ]
  },
  {
   "cell_type": "code",
   "execution_count": 28,
   "metadata": {},
   "outputs": [],
   "source": [
    "def deicedT(T):\n",
    "    a_ice = np.array([0.497275778e-16,0.390204672e-13,0.132073448e-10,0.255653718e-8,0.312668753e-6,0.249065913e-4,0.126710138e-2,0.377174432e-1,0.503223089])\n",
    "    c_ice = np.array([273.15,185,-100,0.0013186,2.60269e-05,1.28676e-07])\n",
    "    T0 = 273.16\n",
    "    return (T>c_ice[0])*deliqdT(T)+\\\n",
    "(T<=c_ice[0])*(T>c_ice[1])*100*np.polyval(a_ice,T-T0)+\\\n",
    "(T<=c_ice[1])*100*(c_ice[3]+np.maximum(c_ice[2],T-T0)*(c_ice[4]+np.maximum(c_ice[2],T-T0)*c_ice[5]))    "
   ]
  },
  {
   "cell_type": "code",
   "execution_count": 29,
   "metadata": {},
   "outputs": [],
   "source": [
    "def esat(T):\n",
    "    T0 = 273.16\n",
    "    T00 = 253.16\n",
    "    omega = np.maximum(0,np.minimum(1,(T-T00)/(T0-T00)))\n",
    "    \n",
    "    return (T>T0)*eliq(T)+(T<T00)*eice(T)+(T<=T0)*(T>=T00)*(omega*eliq(T)+(1-omega)*eice(T))"
   ]
  },
  {
   "cell_type": "code",
   "execution_count": 30,
   "metadata": {},
   "outputs": [],
   "source": [
    "# Test variables\n",
    "p = np.moveaxis((data.hyam*data.P0+data.hybm*data.PS).values,0,1) # Total pressure (Pa)\n",
    "T = data.T # Absolute temperature (K)\n",
    "qv = data.QAP # Specific humidity (kg/kg)\n",
    "ql = data.QCAP # Liquid water (kg/kg)\n",
    "qi = data.QIAP # Ice (kg/kg)\n",
    "# From specific humidity, liquid water and ice to relative humidity\n",
    "# 1) Partial pressure from total water and temperature\n",
    "e = Rv*p*qv/R\n",
    "# 2) Relative humidity from saturation pressure\n",
    "RH = e/esat(T)\n",
    "# 3) Relative humidity from saturation specific humidity\n",
    "qsatl=R/Rv*eliq(T)/np.maximum(eliq(T),p-eliq(T))\n",
    "RHliq = qv/qsatl\n",
    "qsati=R/Rv*eice(T)/np.maximum(eice(T),p-eice(T))\n",
    "RHice = qv/qsati"
   ]
  },
  {
   "cell_type": "code",
   "execution_count": 31,
   "metadata": {},
   "outputs": [],
   "source": [
    "def RH(T,qv,P0,PS,hyam,hybm):\n",
    "    R = 287\n",
    "    Rv = 461\n",
    "    p = np.moveaxis((hyam*P0+hybm*PS).values,0,1) # Total pressure (Pa)\n",
    "    return Rv*p*qv/(R*esat(T))"
   ]
  },
  {
   "cell_type": "code",
   "execution_count": 32,
   "metadata": {},
   "outputs": [],
   "source": [
    "RH0 = RH(data.T,data.QAP,data.P0,data.PS,data.hyam,data.hybm)"
   ]
  },
  {
   "cell_type": "code",
   "execution_count": 33,
   "metadata": {},
   "outputs": [
    {
     "data": {
      "text/plain": [
       "<matplotlib.legend.Legend at 0x1477745eb710>"
      ]
     },
     "execution_count": 33,
     "metadata": {},
     "output_type": "execute_result"
    },
    {
     "data": {
      "image/png": "[encoded data removed]",
      "text/plain": [
       "<Figure size 432x288 with 1 Axes>"
      ]
     },
     "metadata": {
      "needs_background": "light"
     },
     "output_type": "display_data"
    }
   ],
   "source": [
    "# Plot characteristics\n",
    "fz = 15\n",
    "lw = 2\n",
    "plt.rc('text', usetex=True)\n",
    "plt.rc('font', family='serif', size=fz)\n",
    "mpl.rcParams['lines.linewidth'] = lw\n",
    "plt.close('all')\n",
    "\n",
    "plt.plot(np.mean(RH0,axis=(0,2,3)),data.lev,label='Total RH')\n",
    "plt.plot(np.mean(RHliq,axis=(0,2,3)),data.lev,label='Liquid RH')\n",
    "plt.plot(np.mean(RHice,axis=(0,2,3)),data.lev,label='Ice RH')\n",
    "plt.xlim((0,1))\n",
    "plt.ylabel('Pressure')\n",
    "plt.xlabel('RH')\n",
    "plt.gca().invert_yaxis()\n",
    "plt.legend()"
   ]
  },
  {
   "cell_type": "code",
   "execution_count": 34,
   "metadata": {},
   "outputs": [
    {
     "data": {
      "text/plain": [
       "Text(0.5, 0.98, 'Histogram of Relative humidity')"
      ]
     },
     "execution_count": 34,
     "metadata": {},
     "output_type": "execute_result"
    },
    {
     "data": {
      "image/png": "[encoded data removed]",
      "text/plain": [
       "<Figure size 1080x360 with 1 Axes>"
      ]
     },
     "metadata": {
      "needs_background": "light"
     },
     "output_type": "display_data"
    }
   ],
   "source": [
    "plt.figure(figsize=(15,5))\n",
    "plt.hist(RH0.values.flatten(),bins=100)\n",
    "plt.xlabel('Pressure [hPa]')\n",
    "plt.suptitle(\"Histogram of Relative humidity\")"
   ]
  },
  {
   "cell_type": "code",
   "execution_count": 35,
   "metadata": {},
   "outputs": [
    {
     "data": {
      "text/plain": [
       "Text(0.5, 0.98, 'Histogram of Pressure for which RH larger than1.05')"
      ]
     },
     "execution_count": 35,
     "metadata": {},
     "output_type": "execute_result"
    },
    {
     "data": {
      "image/png": "[encoded data removed]",
      "text/plain": [
       "<Figure size 1080x360 with 2 Axes>"
      ]
     },
     "metadata": {
      "needs_background": "light"
     },
     "output_type": "display_data"
    }
   ],
   "source": [
    "RHthres = 1.05\n",
    "plt.figure(figsize=(15,5))\n",
    "plt.subplot(1,2,1)\n",
    "plt.hist(p[RH0>RHthres]/1e2)\n",
    "plt.xlabel('Pressure [hPa]')\n",
    "plt.subplot(1,2,2)\n",
    "plt.hist(p.flatten()/1e2)\n",
    "plt.xlabel('Pressure [hPa]')\n",
    "plt.suptitle(\"Histogram of Pressure for which RH larger than\"+str(RHthres))"
   ]
  },
  {
   "cell_type": "markdown",
   "metadata": {},
   "source": [
    "## 1.2) Code up deviation from moist adiabatic profile from Tristan's utilities"
   ]
  },
  {
   "cell_type": "code",
   "execution_count": 36,
   "metadata": {},
   "outputs": [],
   "source": [
    "# Calculate z from hydrostasy and ideal gas law\n",
    "eps = R/Rv # Ratio of molecular weight(H2O)/molecular weight(dry air)\n",
    "\n",
    "r = qv/(qv**0-qv)\n",
    "Tv = T*(r**0+r/eps)/(r**0+r)\n",
    "RHO = p/(R*Tv)\n",
    "\n",
    "Z = -sin.cumtrapz(x=p,y=1/(g*RHO),axis=1)\n",
    "Z = np.concatenate((np.zeros((p.shape[0],1,p.shape[2],p.shape[3])),Z),axis=1)\n",
    "Z = Z-Z[:,[-1],:,:]"
   ]
  },
  {
   "cell_type": "code",
   "execution_count": 37,
   "metadata": {},
   "outputs": [],
   "source": [
    "def geopotential_height(p,qv,T):\n",
    "    # Calculate z from hydrostasy and ideal gas law\n",
    "    R = 287\n",
    "    Rv = 461\n",
    "    eps = R/Rv # Ratio of molecular weight(H2O)/molecular weight(dry air)\n",
    "\n",
    "    r = qv/(qv**0-qv)\n",
    "    Tv = T*(r**0+r/eps)/(r**0+r)\n",
    "    RHO = p/(R*Tv)\n",
    "\n",
    "    if np.size(p.shape)==4:\n",
    "        Z = -sin.cumtrapz(x=p,y=1/(g*RHO),axis=1)\n",
    "        Z = np.concatenate((np.zeros((p.shape[0],1,p.shape[2],p.shape[3])),Z),axis=1)\n",
    "        Z = Z-Z[:,[-1],:,:]\n",
    "    elif np.size(p.shape)==1:\n",
    "        Z = -sin.cumtrapz(x=p,y=1/(g*RHO),axis=0)\n",
    "        Z = np.concatenate((np.zeros(1,),Z),axis=0)\n",
    "        Z = Z-Z[-1]\n",
    "    \n",
    "    return Z"
   ]
  },
  {
   "cell_type": "markdown",
   "metadata": {},
   "source": [
    "Translating Tristan's script [https://github.com/thabbott/matlab/blob/master/SAMtools/SOM_getState.m] to Python"
   ]
  },
  {
   "cell_type": "code",
   "execution_count": 38,
   "metadata": {},
   "outputs": [],
   "source": [
    "def qsatliq(T,p):\n",
    "    R = 287\n",
    "    Rv = 461\n",
    "    eps = R/Rv # Ratio of molecular weight(H2O)/molecular weight(dry air)\n",
    "    \n",
    "    e = eliq(T)\n",
    "    \n",
    "    return eps*e/np.maximum(e,p-e)"
   ]
  },
  {
   "cell_type": "code",
   "execution_count": 39,
   "metadata": {},
   "outputs": [],
   "source": [
    "def qsatice(T,p):\n",
    "    R = 287\n",
    "    Rv = 461\n",
    "    eps = R/Rv # Ratio of molecular weight(H2O)/molecular weight(dry air)\n",
    "    \n",
    "    e = eice(T)\n",
    "    \n",
    "    return eps*e/np.maximum(e,p-e)"
   ]
  },
  {
   "cell_type": "code",
   "execution_count": 40,
   "metadata": {},
   "outputs": [],
   "source": [
    "def qsat(T,p):\n",
    "    R = 287\n",
    "    Rv = 461\n",
    "    eps = R/Rv # Ratio of molecular weight(H2O)/molecular weight(dry air)\n",
    "    \n",
    "    e = esat(T)\n",
    "    \n",
    "    return eps*e/np.maximum(e,p-e)"
   ]
  },
  {
   "cell_type": "code",
   "execution_count": 41,
   "metadata": {},
   "outputs": [],
   "source": [
    "def dqsatliqdT(T,p):\n",
    "    R = 287\n",
    "    Rv = 461\n",
    "    eps = R/Rv # Ratio of molecular weight(H2O)/molecular weight(dry air)\n",
    "    \n",
    "    return eps*deliqdT(T)/p"
   ]
  },
  {
   "cell_type": "code",
   "execution_count": 42,
   "metadata": {},
   "outputs": [],
   "source": [
    "def dqsaticedT(T,p):\n",
    "    R = 287\n",
    "    Rv = 461\n",
    "    eps = R/Rv # Ratio of molecular weight(H2O)/molecular weight(dry air)\n",
    "    \n",
    "    return eps*deicedT(T)/p"
   ]
  },
  {
   "cell_type": "code",
   "execution_count": 43,
   "metadata": {},
   "outputs": [],
   "source": [
    "# Initial conditions: Lowest-level h_l(qp=0), qt, qp=0 and profiles of z and p\n",
    "omega = np.maximum(0,np.minimum(1,(T[:,-1,:,:]-T00)/(T0-T00))) # Partition function between liquid and ice\n",
    "z_lift = geopotential_height(p,qv,T) # Geopotential height profile (x,y,p)\n",
    "qt = qv[:,-1,:,:]+ql[:,-1,:,:]+qi[:,-1,:,:] # Total water assuming qp=0\n",
    "hL = cp*T[:,-1,:,:]+g*z_lift[:,-1,:,:]-Lc*omega*qt-Ls*(1-omega)*qt # Assumes qp=0\n",
    "# Changes shape of qt and hL assuming they are conserved throughout the profile\n",
    "qtad = np.moveaxis(np.tile(np.expand_dims(qt,axis=3),30),3,1)\n",
    "hLad = np.moveaxis(np.tile(np.expand_dims(hL,axis=3),30),3,1)"
   ]
  },
  {
   "cell_type": "code",
   "execution_count": 155,
   "metadata": {},
   "outputs": [
    {
     "name": "stdout",
     "output_type": "stream",
     "text": [
      "0\n"
     ]
    }
   ],
   "source": [
    "# Pre-compute some frequently-used values (qp=0)\n",
    "an = 1/(T0-T00)\n",
    "bn = T00*an\n",
    "ap = 1/(T0p-T00p)\n",
    "bp = T00p*ap\n",
    "fac_cond = Lc/cp\n",
    "fac_sub = Ls/cp\n",
    "fac_fus = Lf/cp\n",
    "fac1 = fac_cond+(1+bp)*fac_fus\n",
    "fac2 = fac_fus*ap\n",
    "\n",
    "# Pre-allocate arrays\n",
    "qsatt = np.zeros((np.shape(hLad)))\n",
    "qn = np.zeros((np.shape(hLad)))\n",
    "\n",
    "# Make sure that total water concentration is positive\n",
    "qt = np.maximum(0,qt)\n",
    "\n",
    "# Calculate initial guess for temperature\n",
    "Tad = (hLad-g*z_lift)/cp\n",
    "T1 = Tad\n",
    "# Calculate qsatt for all cloud types\n",
    "om = an*T-bn\n",
    "qsatt = (Tad>T0)*qsatliq(T,p)+(Tad<T00)*qsatice(T,p)+\\\n",
    "(Tad<=T0)*(Tad>=T00)*(om*qsatliq(T,p)+(1-om)*qsatice(T,p))\n",
    "\n",
    "# Test if condensation possible. Iterate if it is\n",
    "m0 = (qtad>qsatt)\n",
    "Tt = Tad[m0]\n",
    "T1t = T1[m0]\n",
    "pt = p[m0]\n",
    "qTt = qtad[m0]\n",
    "qst = qsatt.values[m0]\n",
    "dqst = np.zeros((np.shape(qTt)))\n",
    "lstn = np.zeros((np.shape(qTt)))\n",
    "dlstn = np.zeros((np.shape(qTt)))\n",
    "lstp = np.zeros((np.shape(qTt)))\n",
    "dlstp = np.zeros((np.shape(qTt)))\n",
    "\n",
    "niter = 0\n",
    "maxiter = 1\n",
    "dtabs = 100*np.ones((np.shape(qTt)))\n",
    "\n",
    "# Debugging\n",
    "qnd = np.zeros((2*maxiter+1,1))\n",
    "Td = np.zeros((2*maxiter+1,1))\n",
    "\n",
    "while ((dtabs>0.01).any()) and niter<maxiter:\n",
    "    print(niter)\n",
    "    # Handle cloud condensate\n",
    "    om = an*T1t-bn\n",
    "    lstn = (T1t>T0)*fac_cond+(T1t<T00)*fac_sub+\\\n",
    "    (T1t<=T0)*(T1t>=T00)*(fac_cond+(1-om)*fac_fus)\n",
    "    dlstn = (T1t<=T0)*(T1t>=T00)*fac_fus\n",
    "    qst = (T1t>T0)*qsatliq(T1t,pt)+(T1t<T00)*qsatice(T1t,pt)+\\\n",
    "    (T1t<=T0)*(T1t>=T00)*(om*qsatliq(T1t,pt)+(1-om)*qsatice(T1t,pt))\n",
    "    dqst = (T1t>T0)*dqsatliqdT(T1t,pt)+(T1t<T00)*dqsaticedT(T1t,pt)+\\\n",
    "    (T1t<=T0)*(T1t>=T00)*(om*dqsatliqdT(T1t,pt)+(1-om)*dqsaticedT(T1t,pt))\n",
    "    # Handle precipitable condensate (commented because qp=0)\n",
    "#     omp = ap*T1t-bp\n",
    "#     lstp = (T1t>T0p)*fac_cond+(T1t<T00p)*fac_sub+\\\n",
    "#     (T1t<=T0p)*(T1t>=T00p)*(fac_cond+(1-omp)*fac_fus)\n",
    "#     dlstp = (T1t<=T0p)*(T1t>=T00p)*fac_fus\n",
    "    # Update\n",
    "    fff = Tt - T1t + lstn*(qTt - qst) # qp=0\n",
    "    dfff = dlstn*(qTt - qst) - lstn*dqst - 1 # qp=0\n",
    "    dtabs = -fff/dfff\n",
    "    niter += 1\n",
    "    T1t = T1t + dtabs\n",
    "    # Debug\n",
    "    qnd[niter-1] = np.maximum(0, qTt[0] - qst[0])\n",
    "    Td[niter-1] = T1t[0]\n",
    "# Add the bisection if needed\n",
    "# TODO\n",
    "# Finalize all fields\n",
    "qst = qst + dqst*dtabs\n",
    "qn[m0] = np.maximum(0, qTt - qst)\n",
    "qn[~m0] = 0\n",
    "Tad[m0] = T1t\n",
    "# Return temperature and cloud condensate\n",
    "res = {}\n",
    "res['T'] = Tad\n",
    "res['qn'] = qn"
   ]
  },
  {
   "cell_type": "code",
   "execution_count": 153,
   "metadata": {},
   "outputs": [
    {
     "data": {
      "text/plain": [
       "(48, 30, 64, 128)"
      ]
     },
     "execution_count": 153,
     "metadata": {},
     "output_type": "execute_result"
    }
   ],
   "source": [
    "T.shape"
   ]
  },
  {
   "cell_type": "code",
   "execution_count": 154,
   "metadata": {},
   "outputs": [
    {
     "data": {
      "text/plain": [
       "[<matplotlib.lines.Line2D at 0x7f2a2c65cef0>]"
      ]
     },
     "execution_count": 154,
     "metadata": {},
     "output_type": "execute_result"
    },
    {
     "data": {
      "image/png": "[encoded data removed]",
      "text/plain": [
       "<Figure size 432x288 with 1 Axes>"
      ]
     },
     "metadata": {
      "needs_background": "light"
     },
     "output_type": "display_data"
    }
   ],
   "source": [
    "plt.plot(data.lev,np.mean(Tad[:,:,29:35,:],axis=(0,2,3)))\n",
    "plt.plot(data.lev,np.mean(T[:,:,29:35,:],axis=(0,2,3)))"
   ]
  },
  {
   "cell_type": "markdown",
   "metadata": {},
   "source": [
    "tgb - 11/13/2019 - This calculation is taking too long because it's an iterative solving algorithm with high precision. Below, I use an extremly cheap and approximate algorithm that calculates the \"average moist adiabatic lapse rate\" [https://github.com/tbeucler/2016_Moisture_Radiative-Cooling_Instability/blob/master/Gamma_m.m]"
   ]
  },
  {
   "cell_type": "code",
   "execution_count": 44,
   "metadata": {},
   "outputs": [],
   "source": [
    "# Constants\n",
    "Gamma_d = g/cp\n",
    "pref = 500e2\n",
    "eps = R/Rv\n",
    "# Range of test moist adiabatic lapse rates\n",
    "Gm_range = np.linspace(Gamma_d/10,Gamma_d,1000)\n",
    "Gm = np.zeros(np.shape(data.TS))\n",
    "# SST range\n",
    "Ts_range = np.linspace(270,310,4000)\n",
    "\n",
    "# # For each location, find \"best\" average lapse rate\n",
    "# for it in range(data.TS.shape[0]):\n",
    "#     for ilat in range(data.TS.shape[1]):\n",
    "#         for ilon in range(data.TS.shape[2]):\n",
    "Gm = np.zeros((np.size(Ts_range,)))\n",
    "for iTs,Ts in enumerate(Ts_range):\n",
    "            \n",
    "            #Ttest = (data.TS[it,ilat,ilon]).values*(pref/data.PS[it,ilat,ilon]).values**(Gm_range*R/g)\n",
    "            #Ttest = (data.TS[it,ilat,ilon]).values*(pref/1e5)**(Gm_range*R/g)\n",
    "    Ttest = Ts*(pref/1e5)**(Gm_range*R/g)\n",
    "    qsat0 = qsat(Ttest,pref)\n",
    "\n",
    "    term_0 = Gm_range/Gamma_d\n",
    "    term_1 = 1+Lc*qsat0/(R*Ttest)\n",
    "    term_2 = 1+(eps*qsat0*Lc**2)/(cp*R*Ttest**2)\n",
    "\n",
    "    ind_min = np.argmin(np.abs(term_1/term_2-term_0))\n",
    "    #print(ind_min)\n",
    "    #Gm[it,ilat,ilon] = Gm_range[ind_min]\n",
    "    Gm[iTs] = Gm_range[ind_min]\n",
    "Ts_MA = np.tile(Ts_range,(30,1))*np.transpose(np.tile(100*data.lev.values/1e5,(4000,1)))**(np.tile(Gm,(30,1))*R/g)"
   ]
  },
  {
   "cell_type": "code",
   "execution_count": 45,
   "metadata": {},
   "outputs": [
    {
     "data": {
      "text/plain": [
       "Text(0, 0.5, 'Moist to dry lapse rate ratio')"
      ]
     },
     "execution_count": 45,
     "metadata": {},
     "output_type": "execute_result"
    },
    {
     "data": {
      "image/png": "[encoded data removed]",
      "text/plain": [
       "<Figure size 432x288 with 1 Axes>"
      ]
     },
     "metadata": {
      "needs_background": "light"
     },
     "output_type": "display_data"
    }
   ],
   "source": [
    "plt.plot(Ts_range,Gm/Gamma_d)\n",
    "plt.xlabel('SST [K]')\n",
    "plt.ylabel('Moist to dry lapse rate ratio')"
   ]
  },
  {
   "cell_type": "code",
   "execution_count": 46,
   "metadata": {},
   "outputs": [
    {
     "data": {
      "text/plain": [
       "(30, 4000)"
      ]
     },
     "execution_count": 46,
     "metadata": {},
     "output_type": "execute_result"
    }
   ],
   "source": [
    "Ts_MA.shape"
   ]
  },
  {
   "cell_type": "code",
   "execution_count": 47,
   "metadata": {},
   "outputs": [],
   "source": [
    "T_MAfit = np.zeros((30,data.TS.values.flatten().size))\n",
    "for iTs,Ts in enumerate(data.TS.values.flatten()):\n",
    "    T_MAfit[:,iTs] = Ts_MA[:,np.abs(Ts-Ts_range).argmin()]"
   ]
  },
  {
   "cell_type": "code",
   "execution_count": 65,
   "metadata": {},
   "outputs": [],
   "source": [
    "T_MAfit_reshape = np.moveaxis(np.reshape(T_MAfit,(30,48,64,128)),0,1)"
   ]
  },
  {
   "cell_type": "code",
   "execution_count": 66,
   "metadata": {},
   "outputs": [
    {
     "data": {
      "text/plain": [
       "(48, 30, 64, 128)"
      ]
     },
     "execution_count": 66,
     "metadata": {},
     "output_type": "execute_result"
    }
   ],
   "source": [
    "T_MAfit_reshape.shape"
   ]
  },
  {
   "cell_type": "code",
   "execution_count": 67,
   "metadata": {},
   "outputs": [],
   "source": [
    "def nearest_index(array, value):\n",
    "    idx = (np.abs(array-value)).argmin()\n",
    "    return idx"
   ]
  },
  {
   "cell_type": "code",
   "execution_count": 68,
   "metadata": {},
   "outputs": [
    {
     "data": {
      "text/plain": [
       "[<matplotlib.lines.Line2D at 0x1477741f5f60>]"
      ]
     },
     "execution_count": 68,
     "metadata": {},
     "output_type": "execute_result"
    },
    {
     "data": {
      "image/png": "[encoded data removed]",
      "text/plain": [
       "<Figure size 432x288 with 1 Axes>"
      ]
     },
     "metadata": {
      "needs_background": "light"
     },
     "output_type": "display_data"
    }
   ],
   "source": [
    "plt.plot(data.lev,np.mean(T[:,:,38:40,:],axis=(0,2,3)))\n",
    "plt.plot(data.lev,np.mean(T_MAfit_reshape[:,:,38:40,:],axis=(0,2,3)))"
   ]
  },
  {
   "cell_type": "code",
   "execution_count": 52,
   "metadata": {},
   "outputs": [],
   "source": [
    "# Save Ts_range and Ts_MA in pkl file\n",
    "pathPKL = '/local/Tom.Beucler/SPCAM_PHYS'\n",
    "hf = open(pathPKL+'20191113_MA.pkl','wb')\n",
    "ForPOG = {\"Ts_range\" : Ts_range,\n",
    "          \"Ts_MA\" : Ts_MA}\n",
    "pickle.dump(ForPOG,hf)\n",
    "hf.close()"
   ]
  },
  {
   "cell_type": "code",
   "execution_count": 55,
   "metadata": {},
   "outputs": [],
   "source": [
    "hf = open(pathPKL+'20191113_MA.pkl','rb')\n",
    "MA = pickle.load(hf)"
   ]
  },
  {
   "cell_type": "code",
   "execution_count": 58,
   "metadata": {},
   "outputs": [
    {
     "data": {
      "text/plain": [
       "(30, 4000)"
      ]
     },
     "execution_count": 58,
     "metadata": {},
     "output_type": "execute_result"
    }
   ],
   "source": [
    "MA['Ts_MA'].shape"
   ]
  },
  {
   "cell_type": "code",
   "execution_count": 59,
   "metadata": {},
   "outputs": [],
   "source": [
    "T_MAfit = np.zeros((data.lev.size,data.TS.values.flatten().size))\n",
    "for iTs,Ts in enumerate(data.TS.values.flatten()):\n",
    "    T_MAfit[:,iTs] = MA['Ts_MA'][:,np.abs(Ts-MA['Ts_range']).argmin()]"
   ]
  },
  {
   "cell_type": "markdown",
   "metadata": {},
   "source": [
    "# 2) Check that RH was properly calculated in pre-processing"
   ]
  },
  {
   "cell_type": "code",
   "execution_count": 2,
   "metadata": {},
   "outputs": [],
   "source": [
    "data103 = xr.open_dataset(\"/local/Tom.Beucler/SPCAM_PHYS/103_train.nc\",\\\n",
    "                    decode_times=False)"
   ]
  },
  {
   "cell_type": "code",
   "execution_count": 14,
   "metadata": {},
   "outputs": [],
   "source": [
    "data104 = xr.open_dataset(\"/local/Tom.Beucler/SPCAM_PHYS/100_train.nc\",\\\n",
    "                    decode_times=False)"
   ]
  },
  {
   "cell_type": "code",
   "execution_count": 18,
   "metadata": {},
   "outputs": [
    {
     "data": {
      "text/plain": [
       "<xarray.DataArray 'vars' (sample: 3530752, var_names: 128)>\n",
       "[451936256 values with dtype=float64]\n",
       "Coordinates:\n",
       "  * var_names  (var_names) object 'RH' 'RH' 'RH' 'RH' ... 'FSNS' 'FLNT' 'FLNS'\n",
       "    time       (sample) int64 ...\n",
       "    lat        (sample) float64 ...\n",
       "    lon        (sample) float64 ...\n",
       "Dimensions without coordinates: sample"
      ]
     },
     "execution_count": 18,
     "metadata": {},
     "output_type": "execute_result"
    }
   ],
   "source": [
    "data103.vars"
   ]
  },
  {
   "cell_type": "code",
   "execution_count": 16,
   "metadata": {},
   "outputs": [
    {
     "data": {
      "text/plain": [
       "<xarray.DataArray 'vars' (sample: 3530752, var_names: 128)>\n",
       "[451936256 values with dtype=float32]\n",
       "Coordinates:\n",
       "  * var_names  (var_names) object 'QBP' 'QBP' 'QBP' ... 'FSNS' 'FLNT' 'FLNS'\n",
       "    time       (sample) int64 ...\n",
       "    lat        (sample) float64 ...\n",
       "    lon        (sample) float64 ...\n",
       "Dimensions without coordinates: sample"
      ]
     },
     "execution_count": 16,
     "metadata": {},
     "output_type": "execute_result"
    }
   ],
   "source": [
    "data104.vars"
   ]
  },
  {
   "cell_type": "code",
   "execution_count": null,
   "metadata": {},
   "outputs": [],
   "source": []
  }
 ],
 "metadata": {
  "kernelspec": {
   "display_name": "Python 3",
   "language": "python",
   "name": "python3"
  },
  "language_info": {
   "codemirror_mode": {
    "name": "ipython",
    "version": 3
   },
   "file_extension": ".py",
   "mimetype": "text/x-python",
   "name": "python",
   "nbconvert_exporter": "python",
   "pygments_lexer": "ipython3",
   "version": "3.7.3"
  }
 },
 "nbformat": 4,
 "nbformat_minor": 2
}
