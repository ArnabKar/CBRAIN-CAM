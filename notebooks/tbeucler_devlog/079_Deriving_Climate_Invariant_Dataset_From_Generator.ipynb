{
 "cells": [
  {
   "cell_type": "markdown",
   "metadata": {},
   "source": [
    "tgb - 12/20/2021- The goal is to directly derive the climate-invariant dataset using the custom generator to avoid inconsistencies in the formulation of the relative humidity, plume buoyancy, and scaled latent heat flux rescalings. This dataset can then be used for the causal discovery project led by Nando Iglesias. "
   ]
  },
  {
   "cell_type": "markdown",
   "metadata": {},
   "source": [
    "# Imports"
   ]
  },
  {
   "cell_type": "code",
   "execution_count": 1,
   "metadata": {},
   "outputs": [
    {
     "name": "stdout",
     "output_type": "stream",
     "text": [
      "/nfspool-0/home/tbeucler/CBRAIN-CAM/notebooks/tbeucler_devlog\n"
     ]
    }
   ],
   "source": [
    "from cbrain.climate_invariant import *\n",
    "from cbrain.climate_invariant_utils import *\n",
    "\n",
    "import tensorflow as tf\n",
    "physical_devices = tf.config.experimental.list_physical_devices('GPU') \n",
    "tf.config.experimental.set_memory_growth(physical_devices[0], True)\n",
    "tf.config.experimental.set_memory_growth(physical_devices[1], True)\n",
    "tf.config.experimental.set_memory_growth(physical_devices[2], True)\n",
    "import os\n",
    "os.environ[\"CUDA_VISIBLE_DEVICES\"]=\"2\""
   ]
  },
  {
   "cell_type": "code",
   "execution_count": 2,
   "metadata": {},
   "outputs": [],
   "source": [
    "path_data = '/DFS-L/DATA/pritchard/tbeucler/SPCAM/SPCAM_PHYS/'"
   ]
  },
  {
   "cell_type": "markdown",
   "metadata": {},
   "source": [
    "# Define data generators"
   ]
  },
  {
   "cell_type": "markdown",
   "metadata": {},
   "source": [
    "## Below is how we would build a standard or \"brute-force\" data generator `train_gen_BF`."
   ]
  },
  {
   "cell_type": "markdown",
   "metadata": {},
   "source": [
    "1. We would first specify the input variables `in_vars`, the output variables `out_vars`, and the path of the training set `path_train`. "
   ]
  },
  {
   "cell_type": "code",
   "execution_count": 3,
   "metadata": {},
   "outputs": [],
   "source": [
    "#in_vars = ['QBP','TBP','PS','SOLIN','SHFLX','LHFLX'] # We take the large-scale climate state as inputs\n",
    "in_vars = ['QBP','TBP','PS','SOLIN','SHFLX','LHFLX']\n",
    "out_vars = ['PHQ','TPHYSTND','FSNT','FSNS','FLNT','FLNS', 'PRECT'] # and we output the response of clouds/storms to these climate conditions\n",
    "#path_train = path_data + 'Aqua_0K_withVBP/2021_09_02_TRAIN_For_Nando.nc'\n",
    "path_train = path_data + '2022_01_10_TRAIN_For_Nando_t-dt.nc'"
   ]
  },
  {
   "cell_type": "markdown",
   "metadata": {},
   "source": [
    "2. To make sure all outputs have the same units (in our case W/m$^2 $), we multiply the raw outputs by the right physical constants, stored in a dictionary called `scale_dict`. "
   ]
  },
  {
   "cell_type": "code",
   "execution_count": 7,
   "metadata": {},
   "outputs": [],
   "source": [
    "import pickle\n",
    "scale_dict = pickle.load(open(path_data+'CIML_Zenodo/009_Wm2_scaling.pkl','rb'))"
   ]
  },
  {
   "cell_type": "markdown",
   "metadata": {},
   "source": [
    "3. We scale the inputs to [-1,1] by subtracting their mean before dividing them by their range. The means and ranges are stored in a normalization file stored in `path_input_norm`. "
   ]
  },
  {
   "cell_type": "code",
   "execution_count": 5,
   "metadata": {},
   "outputs": [],
   "source": [
    "path_input_norm = path_data + '2022_01_10_Norm_Outputs_t-dt.nc'"
   ]
  },
  {
   "cell_type": "markdown",
   "metadata": {},
   "source": [
    "4. We are now ready to build our first data generator!"
   ]
  },
  {
   "cell_type": "code",
   "execution_count": 6,
   "metadata": {},
   "outputs": [],
   "source": [
    "N_batch = 8192"
   ]
  },
  {
   "cell_type": "code",
   "execution_count": 7,
   "metadata": {},
   "outputs": [],
   "source": [
    "train_gen_BF = DataGeneratorCI(\n",
    "    data_fn = path_train,\n",
    "    input_vars = in_vars,\n",
    "    output_vars = out_vars,\n",
    "    norm_fn = path_input_norm,\n",
    "    input_transform = ('mean', 'maxrs'),\n",
    "    output_transform = scale_dict,\n",
    "    shuffle = False,\n",
    "    batch_size=N_batch\n",
    ")"
   ]
  },
  {
   "cell_type": "code",
   "execution_count": 8,
   "metadata": {},
   "outputs": [
    {
     "data": {
      "text/plain": [
       "(8192, 64)"
      ]
     },
     "execution_count": 8,
     "metadata": {},
     "output_type": "execute_result"
    }
   ],
   "source": [
    "train_gen_BF[50][0].shape"
   ]
  },
  {
   "cell_type": "code",
   "execution_count": 9,
   "metadata": {},
   "outputs": [
    {
     "data": {
      "text/plain": [
       "(8192, 65)"
      ]
     },
     "execution_count": 9,
     "metadata": {},
     "output_type": "execute_result"
    }
   ],
   "source": [
    "train_gen_BF[50][1].shape"
   ]
  },
  {
   "cell_type": "markdown",
   "metadata": {},
   "source": [
    "## Now, we would like to build a \"climate-invariant\" data generator `train_gen_CI`, which requires a few more steps"
   ]
  },
  {
   "cell_type": "markdown",
   "metadata": {},
   "source": [
    "### First, we have to create one standard generator per input rescaling. This will help us renormalize the inputs to [-1,1] every time we feed them to the neural network. "
   ]
  },
  {
   "cell_type": "markdown",
   "metadata": {},
   "source": [
    "1. First, let's define the path to the three normalization files for the three input rescalings:\n",
    "Relative humidity `RH`, plume buoyancy `BMSE`, and normalized latent heat flux `LHF_nsDELQ` "
   ]
  },
  {
   "cell_type": "code",
   "execution_count": 10,
   "metadata": {},
   "outputs": [],
   "source": [
    "path_norm_RH = path_data + '2021_02_01_NORM_O3_RH_small.nc'\n",
    "path_norm_BMSE = path_data + '2021_06_16_NORM_BMSE_small.nc'\n",
    "path_norm_LHF_nsDELQ = path_data + '2021_02_01_NORM_O3_LHF_nsDELQ_small.nc'"
   ]
  },
  {
   "cell_type": "markdown",
   "metadata": {},
   "source": [
    "2. We can now define one data generator per input rescaling"
   ]
  },
  {
   "cell_type": "code",
   "execution_count": 11,
   "metadata": {},
   "outputs": [],
   "source": [
    "def train_gen_rescaling(input_rescaling):\n",
    "    return DataGeneratorCI(\n",
    "        data_fn = path_train,\n",
    "        input_vars = input_rescaling,\n",
    "        output_vars = out_vars,\n",
    "        norm_fn = path_input_norm,\n",
    "        input_transform = ('mean', 'maxrs'),\n",
    "        output_transform = scale_dict)"
   ]
  },
  {
   "cell_type": "code",
   "execution_count": 12,
   "metadata": {},
   "outputs": [],
   "source": [
    "train_gen_RH = train_gen_rescaling(in_vars)\n",
    "train_gen_BMSE = train_gen_rescaling(in_vars)\n",
    "train_gen_LHF_nsDELQ = train_gen_rescaling(in_vars)"
   ]
  },
  {
   "cell_type": "markdown",
   "metadata": {},
   "source": [
    "### Then, the normalization factors of these generators can be combined to form a \"climate-invariant\" data generator `train_gen_CI`"
   ]
  },
  {
   "cell_type": "code",
   "execution_count": 13,
   "metadata": {},
   "outputs": [],
   "source": [
    "train_gen_CI = DataGeneratorCI(\n",
    "    data_fn = path_train,\n",
    "    input_vars = in_vars,\n",
    "    output_vars = out_vars,\n",
    "    norm_fn = path_input_norm,\n",
    "    input_transform = ('mean','maxrs'),\n",
    "    output_transform = scale_dict,\n",
    "    shuffle = False,\n",
    "    batch_size=N_batch,\n",
    "    Qscaling = 'RH',\n",
    "    Tscaling = 'BMSE',\n",
    "    LHFscaling = 'LHF_nsDELQ',\n",
    "    hyam=hyam, hybm=hybm, # Arrays to define mid-levels of hybrid vertical coordinate\n",
    "    inp_sub_Qscaling=train_gen_RH.input_transform.sub, # What to subtract from RH inputs\n",
    "    inp_div_Qscaling=train_gen_RH.input_transform.div, # What to divide RH inputs by\n",
    "    inp_sub_Tscaling=train_gen_BMSE.input_transform.sub,\n",
    "    inp_div_Tscaling=train_gen_BMSE.input_transform.div,\n",
    "    inp_sub_LHFscaling=train_gen_LHF_nsDELQ.input_transform.sub,\n",
    "    inp_div_LHFscaling=train_gen_LHF_nsDELQ.input_transform.div\n",
    ")"
   ]
  },
  {
   "cell_type": "markdown",
   "metadata": {},
   "source": [
    "# Regenerate the scaled dataset"
   ]
  },
  {
   "cell_type": "markdown",
   "metadata": {},
   "source": [
    "## Create new training file"
   ]
  },
  {
   "cell_type": "code",
   "execution_count": 14,
   "metadata": {},
   "outputs": [],
   "source": [
    "#path_train = path_data + 'Aqua_0K_withVBP/2021_09_02_TRAIN_For_Nando.nc'\n",
    "path_train = path_data + '2022_01_10_TRAIN_For_Nando_t-dt.nc'"
   ]
  },
  {
   "cell_type": "code",
   "execution_count": 15,
   "metadata": {},
   "outputs": [],
   "source": [
    "train_raw = xr.open_dataset(path_train)"
   ]
  },
  {
   "cell_type": "markdown",
   "metadata": {},
   "source": [
    "### var_names"
   ]
  },
  {
   "cell_type": "code",
   "execution_count": 16,
   "metadata": {},
   "outputs": [
    {
     "data": {
      "text/plain": [
       "array(['QBP', 'QBP', 'QBP', 'QBP', 'QBP', 'QBP', 'QBP', 'QBP', 'QBP',\n",
       "       'QBP', 'QBP', 'QBP', 'QBP', 'QBP', 'QBP', 'QBP', 'QBP', 'QBP',\n",
       "       'QBP', 'QBP', 'QBP', 'QBP', 'QBP', 'QBP', 'QBP', 'QBP', 'QBP',\n",
       "       'QBP', 'QBP', 'QBP', 'TBP', 'TBP', 'TBP', 'TBP', 'TBP', 'TBP',\n",
       "       'TBP', 'TBP', 'TBP', 'TBP', 'TBP', 'TBP', 'TBP', 'TBP', 'TBP',\n",
       "       'TBP', 'TBP', 'TBP', 'TBP', 'TBP', 'TBP', 'TBP', 'TBP', 'TBP',\n",
       "       'TBP', 'TBP', 'TBP', 'TBP', 'TBP', 'TBP', 'VBP', 'VBP', 'VBP',\n",
       "       'VBP', 'VBP', 'VBP', 'VBP', 'VBP', 'VBP', 'VBP', 'VBP', 'VBP',\n",
       "       'VBP', 'VBP', 'VBP', 'VBP', 'VBP', 'VBP', 'VBP', 'VBP', 'VBP',\n",
       "       'VBP', 'VBP', 'VBP', 'VBP', 'VBP', 'VBP', 'VBP', 'VBP', 'VBP',\n",
       "       'PS', 'SOLIN', 'SHFLX', 'LHFLX', 'PHQ', 'PHQ', 'PHQ', 'PHQ', 'PHQ',\n",
       "       'PHQ', 'PHQ', 'PHQ', 'PHQ', 'PHQ', 'PHQ', 'PHQ', 'PHQ', 'PHQ',\n",
       "       'PHQ', 'PHQ', 'PHQ', 'PHQ', 'PHQ', 'PHQ', 'PHQ', 'PHQ', 'PHQ',\n",
       "       'PHQ', 'PHQ', 'PHQ', 'PHQ', 'PHQ', 'PHQ', 'PHQ', 'TPHYSTND',\n",
       "       'TPHYSTND', 'TPHYSTND', 'TPHYSTND', 'TPHYSTND', 'TPHYSTND',\n",
       "       'TPHYSTND', 'TPHYSTND', 'TPHYSTND', 'TPHYSTND', 'TPHYSTND',\n",
       "       'TPHYSTND', 'TPHYSTND', 'TPHYSTND', 'TPHYSTND', 'TPHYSTND',\n",
       "       'TPHYSTND', 'TPHYSTND', 'TPHYSTND', 'TPHYSTND', 'TPHYSTND',\n",
       "       'TPHYSTND', 'TPHYSTND', 'TPHYSTND', 'TPHYSTND', 'TPHYSTND',\n",
       "       'TPHYSTND', 'TPHYSTND', 'TPHYSTND', 'TPHYSTND', 'FSNT', 'FSNS',\n",
       "       'FLNT', 'FLNS', 'PRECT', 'PHQt-dt', 'PHQt-dt', 'PHQt-dt',\n",
       "       'PHQt-dt', 'PHQt-dt', 'PHQt-dt', 'PHQt-dt', 'PHQt-dt', 'PHQt-dt',\n",
       "       'PHQt-dt', 'PHQt-dt', 'PHQt-dt', 'PHQt-dt', 'PHQt-dt', 'PHQt-dt',\n",
       "       'PHQt-dt', 'PHQt-dt', 'PHQt-dt', 'PHQt-dt', 'PHQt-dt', 'PHQt-dt',\n",
       "       'PHQt-dt', 'PHQt-dt', 'PHQt-dt', 'PHQt-dt', 'PHQt-dt', 'PHQt-dt',\n",
       "       'PHQt-dt', 'PHQt-dt', 'PHQt-dt', 'TPHYSTNDt-dt', 'TPHYSTNDt-dt',\n",
       "       'TPHYSTNDt-dt', 'TPHYSTNDt-dt', 'TPHYSTNDt-dt', 'TPHYSTNDt-dt',\n",
       "       'TPHYSTNDt-dt', 'TPHYSTNDt-dt', 'TPHYSTNDt-dt', 'TPHYSTNDt-dt',\n",
       "       'TPHYSTNDt-dt', 'TPHYSTNDt-dt', 'TPHYSTNDt-dt', 'TPHYSTNDt-dt',\n",
       "       'TPHYSTNDt-dt', 'TPHYSTNDt-dt', 'TPHYSTNDt-dt', 'TPHYSTNDt-dt',\n",
       "       'TPHYSTNDt-dt', 'TPHYSTNDt-dt', 'TPHYSTNDt-dt', 'TPHYSTNDt-dt',\n",
       "       'TPHYSTNDt-dt', 'TPHYSTNDt-dt', 'TPHYSTNDt-dt', 'TPHYSTNDt-dt',\n",
       "       'TPHYSTNDt-dt', 'TPHYSTNDt-dt', 'TPHYSTNDt-dt', 'TPHYSTNDt-dt',\n",
       "       'FSNTt-dt', 'FSNSt-dt', 'FLNTt-dt', 'FLNSt-dt', 'PRECTt-dt'],\n",
       "      dtype=object)"
      ]
     },
     "execution_count": 16,
     "metadata": {},
     "output_type": "execute_result"
    }
   ],
   "source": [
    "train_raw['var_names'].values"
   ]
  },
  {
   "cell_type": "code",
   "execution_count": 17,
   "metadata": {},
   "outputs": [],
   "source": [
    "train_raw_CI = train_raw.copy()"
   ]
  },
  {
   "cell_type": "code",
   "execution_count": 18,
   "metadata": {},
   "outputs": [],
   "source": [
    "var_names_CI = train_raw_CI['var_names'].values\n",
    "for i in range(60):\n",
    "    if i<30: var_names_CI[i] = 'RH'\n",
    "    else: var_names_CI[i] = 'BMSE'"
   ]
  },
  {
   "cell_type": "code",
   "execution_count": 19,
   "metadata": {},
   "outputs": [],
   "source": [
    "var_names_CI[93] = 'LHF_nsDELQ'"
   ]
  },
  {
   "cell_type": "code",
   "execution_count": 20,
   "metadata": {},
   "outputs": [
    {
     "data": {
      "text/html": [
       "<div><svg style=\"position: absolute; width: 0; height: 0; overflow: hidden\">\n",
       "<defs>\n",
       "<symbol id=\"icon-database\" viewBox=\"0 0 32 32\">\n",
       "<title>Show/Hide data repr</title>\n",
       "<path d=\"M16 0c-8.837 0-16 2.239-16 5v4c0 2.761 7.163 5 16 5s16-2.239 16-5v-4c0-2.761-7.163-5-16-5z\"></path>\n",
       "<path d=\"M16 17c-8.837 0-16-2.239-16-5v6c0 2.761 7.163 5 16 5s16-2.239 16-5v-6c0 2.761-7.163 5-16 5z\"></path>\n",
       "<path d=\"M16 26c-8.837 0-16-2.239-16-5v6c0 2.761 7.163 5 16 5s16-2.239 16-5v-6c0 2.761-7.163 5-16 5z\"></path>\n",
       "</symbol>\n",
       "<symbol id=\"icon-file-text2\" viewBox=\"0 0 32 32\">\n",
       "<title>Show/Hide attributes</title>\n",
       "<path d=\"M28.681 7.159c-0.694-0.947-1.662-2.053-2.724-3.116s-2.169-2.030-3.116-2.724c-1.612-1.182-2.393-1.319-2.841-1.319h-15.5c-1.378 0-2.5 1.121-2.5 2.5v27c0 1.378 1.122 2.5 2.5 2.5h23c1.378 0 2.5-1.122 2.5-2.5v-19.5c0-0.448-0.137-1.23-1.319-2.841zM24.543 5.457c0.959 0.959 1.712 1.825 2.268 2.543h-4.811v-4.811c0.718 0.556 1.584 1.309 2.543 2.268zM28 29.5c0 0.271-0.229 0.5-0.5 0.5h-23c-0.271 0-0.5-0.229-0.5-0.5v-27c0-0.271 0.229-0.5 0.5-0.5 0 0 15.499-0 15.5 0v7c0 0.552 0.448 1 1 1h7v19.5z\"></path>\n",
       "<path d=\"M23 26h-14c-0.552 0-1-0.448-1-1s0.448-1 1-1h14c0.552 0 1 0.448 1 1s-0.448 1-1 1z\"></path>\n",
       "<path d=\"M23 22h-14c-0.552 0-1-0.448-1-1s0.448-1 1-1h14c0.552 0 1 0.448 1 1s-0.448 1-1 1z\"></path>\n",
       "<path d=\"M23 18h-14c-0.552 0-1-0.448-1-1s0.448-1 1-1h14c0.552 0 1 0.448 1 1s-0.448 1-1 1z\"></path>\n",
       "</symbol>\n",
       "</defs>\n",
       "</svg>\n",
       "<style>/* CSS stylesheet for displaying xarray objects in jupyterlab.\n",
       " *\n",
       " */\n",
       "\n",
       ":root {\n",
       "  --xr-font-color0: var(--jp-content-font-color0, rgba(0, 0, 0, 1));\n",
       "  --xr-font-color2: var(--jp-content-font-color2, rgba(0, 0, 0, 0.54));\n",
       "  --xr-font-color3: var(--jp-content-font-color3, rgba(0, 0, 0, 0.38));\n",
       "  --xr-border-color: var(--jp-border-color2, #e0e0e0);\n",
       "  --xr-disabled-color: var(--jp-layout-color3, #bdbdbd);\n",
       "  --xr-background-color: var(--jp-layout-color0, white);\n",
       "  --xr-background-color-row-even: var(--jp-layout-color1, white);\n",
       "  --xr-background-color-row-odd: var(--jp-layout-color2, #eeeeee);\n",
       "}\n",
       "\n",
       ".xr-wrap {\n",
       "  min-width: 300px;\n",
       "  max-width: 700px;\n",
       "}\n",
       "\n",
       ".xr-header {\n",
       "  padding-top: 6px;\n",
       "  padding-bottom: 6px;\n",
       "  margin-bottom: 4px;\n",
       "  border-bottom: solid 1px var(--xr-border-color);\n",
       "}\n",
       "\n",
       ".xr-header > div,\n",
       ".xr-header > ul {\n",
       "  display: inline;\n",
       "  margin-top: 0;\n",
       "  margin-bottom: 0;\n",
       "}\n",
       "\n",
       ".xr-obj-type,\n",
       ".xr-array-name {\n",
       "  margin-left: 2px;\n",
       "  margin-right: 10px;\n",
       "}\n",
       "\n",
       ".xr-obj-type {\n",
       "  color: var(--xr-font-color2);\n",
       "}\n",
       "\n",
       ".xr-sections {\n",
       "  padding-left: 0 !important;\n",
       "  display: grid;\n",
       "  grid-template-columns: 150px auto auto 1fr 20px 20px;\n",
       "}\n",
       "\n",
       ".xr-section-item {\n",
       "  display: contents;\n",
       "}\n",
       "\n",
       ".xr-section-item input {\n",
       "  display: none;\n",
       "}\n",
       "\n",
       ".xr-section-item input + label {\n",
       "  color: var(--xr-disabled-color);\n",
       "}\n",
       "\n",
       ".xr-section-item input:enabled + label {\n",
       "  cursor: pointer;\n",
       "  color: var(--xr-font-color2);\n",
       "}\n",
       "\n",
       ".xr-section-item input:enabled + label:hover {\n",
       "  color: var(--xr-font-color0);\n",
       "}\n",
       "\n",
       ".xr-section-summary {\n",
       "  grid-column: 1;\n",
       "  color: var(--xr-font-color2);\n",
       "  font-weight: 500;\n",
       "}\n",
       "\n",
       ".xr-section-summary > span {\n",
       "  display: inline-block;\n",
       "  padding-left: 0.5em;\n",
       "}\n",
       "\n",
       ".xr-section-summary-in:disabled + label {\n",
       "  color: var(--xr-font-color2);\n",
       "}\n",
       "\n",
       ".xr-section-summary-in + label:before {\n",
       "  display: inline-block;\n",
       "  content: '►';\n",
       "  font-size: 11px;\n",
       "  width: 15px;\n",
       "  text-align: center;\n",
       "}\n",
       "\n",
       ".xr-section-summary-in:disabled + label:before {\n",
       "  color: var(--xr-disabled-color);\n",
       "}\n",
       "\n",
       ".xr-section-summary-in:checked + label:before {\n",
       "  content: '▼';\n",
       "}\n",
       "\n",
       ".xr-section-summary-in:checked + label > span {\n",
       "  display: none;\n",
       "}\n",
       "\n",
       ".xr-section-summary,\n",
       ".xr-section-inline-details {\n",
       "  padding-top: 4px;\n",
       "  padding-bottom: 4px;\n",
       "}\n",
       "\n",
       ".xr-section-inline-details {\n",
       "  grid-column: 2 / -1;\n",
       "}\n",
       "\n",
       ".xr-section-details {\n",
       "  display: none;\n",
       "  grid-column: 1 / -1;\n",
       "  margin-bottom: 5px;\n",
       "}\n",
       "\n",
       ".xr-section-summary-in:checked ~ .xr-section-details {\n",
       "  display: contents;\n",
       "}\n",
       "\n",
       ".xr-array-wrap {\n",
       "  grid-column: 1 / -1;\n",
       "  display: grid;\n",
       "  grid-template-columns: 20px auto;\n",
       "}\n",
       "\n",
       ".xr-array-wrap > label {\n",
       "  grid-column: 1;\n",
       "  vertical-align: top;\n",
       "}\n",
       "\n",
       ".xr-preview {\n",
       "  color: var(--xr-font-color3);\n",
       "}\n",
       "\n",
       ".xr-array-preview,\n",
       ".xr-array-data {\n",
       "  padding: 0 5px !important;\n",
       "  grid-column: 2;\n",
       "}\n",
       "\n",
       ".xr-array-data,\n",
       ".xr-array-in:checked ~ .xr-array-preview {\n",
       "  display: none;\n",
       "}\n",
       "\n",
       ".xr-array-in:checked ~ .xr-array-data,\n",
       ".xr-array-preview {\n",
       "  display: inline-block;\n",
       "}\n",
       "\n",
       ".xr-dim-list {\n",
       "  display: inline-block !important;\n",
       "  list-style: none;\n",
       "  padding: 0 !important;\n",
       "  margin: 0;\n",
       "}\n",
       "\n",
       ".xr-dim-list li {\n",
       "  display: inline-block;\n",
       "  padding: 0;\n",
       "  margin: 0;\n",
       "}\n",
       "\n",
       ".xr-dim-list:before {\n",
       "  content: '(';\n",
       "}\n",
       "\n",
       ".xr-dim-list:after {\n",
       "  content: ')';\n",
       "}\n",
       "\n",
       ".xr-dim-list li:not(:last-child):after {\n",
       "  content: ',';\n",
       "  padding-right: 5px;\n",
       "}\n",
       "\n",
       ".xr-has-index {\n",
       "  font-weight: bold;\n",
       "}\n",
       "\n",
       ".xr-var-list,\n",
       ".xr-var-item {\n",
       "  display: contents;\n",
       "}\n",
       "\n",
       ".xr-var-item > div,\n",
       ".xr-var-item label,\n",
       ".xr-var-item > .xr-var-name span {\n",
       "  background-color: var(--xr-background-color-row-even);\n",
       "  margin-bottom: 0;\n",
       "}\n",
       "\n",
       ".xr-var-item > .xr-var-name:hover span {\n",
       "  padding-right: 5px;\n",
       "}\n",
       "\n",
       ".xr-var-list > li:nth-child(odd) > div,\n",
       ".xr-var-list > li:nth-child(odd) > label,\n",
       ".xr-var-list > li:nth-child(odd) > .xr-var-name span {\n",
       "  background-color: var(--xr-background-color-row-odd);\n",
       "}\n",
       "\n",
       ".xr-var-name {\n",
       "  grid-column: 1;\n",
       "}\n",
       "\n",
       ".xr-var-dims {\n",
       "  grid-column: 2;\n",
       "}\n",
       "\n",
       ".xr-var-dtype {\n",
       "  grid-column: 3;\n",
       "  text-align: right;\n",
       "  color: var(--xr-font-color2);\n",
       "}\n",
       "\n",
       ".xr-var-preview {\n",
       "  grid-column: 4;\n",
       "}\n",
       "\n",
       ".xr-var-name,\n",
       ".xr-var-dims,\n",
       ".xr-var-dtype,\n",
       ".xr-preview,\n",
       ".xr-attrs dt {\n",
       "  white-space: nowrap;\n",
       "  overflow: hidden;\n",
       "  text-overflow: ellipsis;\n",
       "  padding-right: 10px;\n",
       "}\n",
       "\n",
       ".xr-var-name:hover,\n",
       ".xr-var-dims:hover,\n",
       ".xr-var-dtype:hover,\n",
       ".xr-attrs dt:hover {\n",
       "  overflow: visible;\n",
       "  width: auto;\n",
       "  z-index: 1;\n",
       "}\n",
       "\n",
       ".xr-var-attrs,\n",
       ".xr-var-data {\n",
       "  display: none;\n",
       "  background-color: var(--xr-background-color) !important;\n",
       "  padding-bottom: 5px !important;\n",
       "}\n",
       "\n",
       ".xr-var-attrs-in:checked ~ .xr-var-attrs,\n",
       ".xr-var-data-in:checked ~ .xr-var-data {\n",
       "  display: block;\n",
       "}\n",
       "\n",
       ".xr-var-data > table {\n",
       "  float: right;\n",
       "}\n",
       "\n",
       ".xr-var-name span,\n",
       ".xr-var-data,\n",
       ".xr-attrs {\n",
       "  padding-left: 25px !important;\n",
       "}\n",
       "\n",
       ".xr-attrs,\n",
       ".xr-var-attrs,\n",
       ".xr-var-data {\n",
       "  grid-column: 1 / -1;\n",
       "}\n",
       "\n",
       "dl.xr-attrs {\n",
       "  padding: 0;\n",
       "  margin: 0;\n",
       "  display: grid;\n",
       "  grid-template-columns: 125px auto;\n",
       "}\n",
       "\n",
       ".xr-attrs dt, dd {\n",
       "  padding: 0;\n",
       "  margin: 0;\n",
       "  float: left;\n",
       "  padding-right: 10px;\n",
       "  width: auto;\n",
       "}\n",
       "\n",
       ".xr-attrs dt {\n",
       "  font-weight: normal;\n",
       "  grid-column: 1;\n",
       "}\n",
       "\n",
       ".xr-attrs dt:hover span {\n",
       "  display: inline-block;\n",
       "  background: var(--xr-background-color);\n",
       "  padding-right: 10px;\n",
       "}\n",
       "\n",
       ".xr-attrs dd {\n",
       "  grid-column: 2;\n",
       "  white-space: pre-wrap;\n",
       "  word-break: break-all;\n",
       "}\n",
       "\n",
       ".xr-icon-database,\n",
       ".xr-icon-file-text2 {\n",
       "  display: inline-block;\n",
       "  vertical-align: middle;\n",
       "  width: 1em;\n",
       "  height: 1.5em !important;\n",
       "  stroke-width: 0;\n",
       "  stroke: currentColor;\n",
       "  fill: currentColor;\n",
       "}\n",
       "</style><div class='xr-wrap'><div class='xr-header'><div class='xr-obj-type'>xarray.Dataset</div></div><ul class='xr-sections'><li class='xr-section-item'><input id='section-c0d12c4f-f105-4d80-b515-d146cb59ee18' class='xr-section-summary-in' type='checkbox' disabled ><label for='section-c0d12c4f-f105-4d80-b515-d146cb59ee18' class='xr-section-summary'  title='Expand/collapse section'>Dimensions:</label><div class='xr-section-inline-details'><ul class='xr-dim-list'><li><span>sample</span>: 47177728</li><li><span class='xr-has-index'>var_names</span>: 224</li></ul></div><div class='xr-section-details'></div></li><li class='xr-section-item'><input id='section-f0664162-3ff5-408f-84d3-acd00deb17cf' class='xr-section-summary-in' type='checkbox'  checked><label for='section-f0664162-3ff5-408f-84d3-acd00deb17cf' class='xr-section-summary' >Coordinates: <span>(4)</span></label><div class='xr-section-inline-details'></div><div class='xr-section-details'><ul class='xr-var-list'><li class='xr-var-item'><div class='xr-var-name'><span class='xr-has-index'>var_names</span></div><div class='xr-var-dims'>(var_names)</div><div class='xr-var-dtype'>object</div><div class='xr-var-preview xr-preview'>&#x27;RH&#x27; &#x27;RH&#x27; ... &#x27;PRECTt-dt&#x27;</div><input id='attrs-7ff694ac-5d25-4060-9d3f-f29a8c69d4e2' class='xr-var-attrs-in' type='checkbox' disabled><label for='attrs-7ff694ac-5d25-4060-9d3f-f29a8c69d4e2' title='Show/Hide attributes'><svg class='icon xr-icon-file-text2'><use xlink:href='#icon-file-text2'></use></svg></label><input id='data-c37b0385-94ab-4411-8370-083004bbc3fc' class='xr-var-data-in' type='checkbox'><label for='data-c37b0385-94ab-4411-8370-083004bbc3fc' title='Show/Hide data repr'><svg class='icon xr-icon-database'><use xlink:href='#icon-database'></use></svg></label><div class='xr-var-attrs'><dl class='xr-attrs'></dl></div><pre class='xr-var-data'>array([&#x27;RH&#x27;, &#x27;RH&#x27;, &#x27;RH&#x27;, ..., &#x27;FLNTt-dt&#x27;, &#x27;FLNSt-dt&#x27;, &#x27;PRECTt-dt&#x27;],\n",
       "      dtype=object)</pre></li><li class='xr-var-item'><div class='xr-var-name'><span>time</span></div><div class='xr-var-dims'>(sample)</div><div class='xr-var-dtype'>int64</div><div class='xr-var-preview xr-preview'>...</div><input id='attrs-44a79c60-6840-435f-b253-fdc25396e0cf' class='xr-var-attrs-in' type='checkbox' disabled><label for='attrs-44a79c60-6840-435f-b253-fdc25396e0cf' title='Show/Hide attributes'><svg class='icon xr-icon-file-text2'><use xlink:href='#icon-file-text2'></use></svg></label><input id='data-666d97bd-5241-490e-9456-71e71a27cfd5' class='xr-var-data-in' type='checkbox'><label for='data-666d97bd-5241-490e-9456-71e71a27cfd5' title='Show/Hide data repr'><svg class='icon xr-icon-database'><use xlink:href='#icon-database'></use></svg></label><div class='xr-var-attrs'><dl class='xr-attrs'></dl></div><pre class='xr-var-data'>[47177728 values with dtype=int64]</pre></li><li class='xr-var-item'><div class='xr-var-name'><span>lat</span></div><div class='xr-var-dims'>(sample)</div><div class='xr-var-dtype'>float64</div><div class='xr-var-preview xr-preview'>...</div><input id='attrs-00690b50-bfb2-46b8-866c-972690c6df88' class='xr-var-attrs-in' type='checkbox' disabled><label for='attrs-00690b50-bfb2-46b8-866c-972690c6df88' title='Show/Hide attributes'><svg class='icon xr-icon-file-text2'><use xlink:href='#icon-file-text2'></use></svg></label><input id='data-ed1a8ec9-18db-433a-87a5-b6520c85e5a1' class='xr-var-data-in' type='checkbox'><label for='data-ed1a8ec9-18db-433a-87a5-b6520c85e5a1' title='Show/Hide data repr'><svg class='icon xr-icon-database'><use xlink:href='#icon-database'></use></svg></label><div class='xr-var-attrs'><dl class='xr-attrs'></dl></div><pre class='xr-var-data'>[47177728 values with dtype=float64]</pre></li><li class='xr-var-item'><div class='xr-var-name'><span>lon</span></div><div class='xr-var-dims'>(sample)</div><div class='xr-var-dtype'>float64</div><div class='xr-var-preview xr-preview'>...</div><input id='attrs-c6921555-91ca-4305-a308-e707780ce1ea' class='xr-var-attrs-in' type='checkbox' disabled><label for='attrs-c6921555-91ca-4305-a308-e707780ce1ea' title='Show/Hide attributes'><svg class='icon xr-icon-file-text2'><use xlink:href='#icon-file-text2'></use></svg></label><input id='data-8a5bba03-8880-451e-99e2-368abae145d2' class='xr-var-data-in' type='checkbox'><label for='data-8a5bba03-8880-451e-99e2-368abae145d2' title='Show/Hide data repr'><svg class='icon xr-icon-database'><use xlink:href='#icon-database'></use></svg></label><div class='xr-var-attrs'><dl class='xr-attrs'></dl></div><pre class='xr-var-data'>[47177728 values with dtype=float64]</pre></li></ul></div></li><li class='xr-section-item'><input id='section-f209dda6-11c7-4b88-841f-a1e57341d30e' class='xr-section-summary-in' type='checkbox'  checked><label for='section-f209dda6-11c7-4b88-841f-a1e57341d30e' class='xr-section-summary' >Data variables: <span>(1)</span></label><div class='xr-section-inline-details'></div><div class='xr-section-details'><ul class='xr-var-list'><li class='xr-var-item'><div class='xr-var-name'><span>vars</span></div><div class='xr-var-dims'>(sample, var_names)</div><div class='xr-var-dtype'>float32</div><div class='xr-var-preview xr-preview'>...</div><input id='attrs-60fb869a-cb8e-4749-ac70-362ad9ea301b' class='xr-var-attrs-in' type='checkbox' disabled><label for='attrs-60fb869a-cb8e-4749-ac70-362ad9ea301b' title='Show/Hide attributes'><svg class='icon xr-icon-file-text2'><use xlink:href='#icon-file-text2'></use></svg></label><input id='data-50b20393-d17e-41db-9ca2-8e9450662215' class='xr-var-data-in' type='checkbox'><label for='data-50b20393-d17e-41db-9ca2-8e9450662215' title='Show/Hide data repr'><svg class='icon xr-icon-database'><use xlink:href='#icon-database'></use></svg></label><div class='xr-var-attrs'><dl class='xr-attrs'></dl></div><pre class='xr-var-data'>[10567811072 values with dtype=float32]</pre></li></ul></div></li><li class='xr-section-item'><input id='section-3f0c5be3-0f73-4173-8dc9-e183f994f608' class='xr-section-summary-in' type='checkbox' disabled ><label for='section-3f0c5be3-0f73-4173-8dc9-e183f994f608' class='xr-section-summary'  title='Expand/collapse section'>Attributes: <span>(0)</span></label><div class='xr-section-inline-details'></div><div class='xr-section-details'><dl class='xr-attrs'></dl></div></li></ul></div></div>"
      ],
      "text/plain": [
       "<xarray.Dataset>\n",
       "Dimensions:    (sample: 47177728, var_names: 224)\n",
       "Coordinates:\n",
       "  * var_names  (var_names) object 'RH' 'RH' 'RH' ... 'FLNSt-dt' 'PRECTt-dt'\n",
       "    time       (sample) int64 ...\n",
       "    lat        (sample) float64 ...\n",
       "    lon        (sample) float64 ...\n",
       "Dimensions without coordinates: sample\n",
       "Data variables:\n",
       "    vars       (sample, var_names) float32 ..."
      ]
     },
     "execution_count": 20,
     "metadata": {},
     "output_type": "execute_result"
    }
   ],
   "source": [
    "train_raw_CI.assign_coords({'var_names':var_names_CI})"
   ]
  },
  {
   "cell_type": "markdown",
   "metadata": {},
   "source": [
    "### vars"
   ]
  },
  {
   "cell_type": "code",
   "execution_count": 21,
   "metadata": {},
   "outputs": [
    {
     "data": {
      "text/plain": [
       "(65,)"
      ]
     },
     "execution_count": 21,
     "metadata": {},
     "output_type": "execute_result"
    }
   ],
   "source": [
    "train_gen_CI.output_transform.scale.shape"
   ]
  },
  {
   "cell_type": "code",
   "execution_count": 22,
   "metadata": {},
   "outputs": [
    {
     "data": {
      "text/plain": [
       "(8192, 64)"
      ]
     },
     "execution_count": 22,
     "metadata": {},
     "output_type": "execute_result"
    }
   ],
   "source": [
    "train_gen_CI[0][0].shape"
   ]
  },
  {
   "cell_type": "code",
   "execution_count": 23,
   "metadata": {},
   "outputs": [
    {
     "data": {
      "text/plain": [
       "(224,)"
      ]
     },
     "execution_count": 23,
     "metadata": {},
     "output_type": "execute_result"
    }
   ],
   "source": [
    "train_raw_CI['vars'][0].values.shape"
   ]
  },
  {
   "cell_type": "code",
   "execution_count": 24,
   "metadata": {},
   "outputs": [],
   "source": [
    "train_gen_BF_0_pu = (train_gen_BF[0][0]*train_gen_BF.input_transform.div+train_gen_BF.input_transform.sub)"
   ]
  },
  {
   "cell_type": "code",
   "execution_count": 25,
   "metadata": {},
   "outputs": [
    {
     "data": {
      "text/plain": [
       "array([1.7381838e-06, 1.6579336e-06, 1.4306893e-06, 1.4215012e-06,\n",
       "       1.2831629e-06, 1.2795708e-06, 1.2820553e-06, 1.2995041e-06,\n",
       "       1.3052462e-06, 1.3062929e-06, 1.3133019e-06, 1.4116081e-06,\n",
       "       2.0213665e-06, 3.4514924e-06, 6.4445849e-06, 1.3533645e-05,\n",
       "       2.5911606e-05, 5.6728924e-05, 1.2745283e-04, 2.6673404e-04,\n",
       "       4.5801210e-04, 9.5409341e-04, 1.2293411e-03, 1.8398142e-03,\n",
       "       2.1690321e-03, 2.4146475e-03, 2.6721214e-03, 2.8284965e-03,\n",
       "       2.8885789e-03, 3.1328364e-03], dtype=float32)"
      ]
     },
     "execution_count": 25,
     "metadata": {},
     "output_type": "execute_result"
    }
   ],
   "source": [
    "train_gen_BF_0_pu[1000][:30]"
   ]
  },
  {
   "cell_type": "code",
   "execution_count": 26,
   "metadata": {},
   "outputs": [
    {
     "data": {
      "text/plain": [
       "(47177728, 224)"
      ]
     },
     "execution_count": 26,
     "metadata": {},
     "output_type": "execute_result"
    }
   ],
   "source": [
    "train_raw_CI['vars'].shape"
   ]
  },
  {
   "cell_type": "code",
   "execution_count": 27,
   "metadata": {},
   "outputs": [
    {
     "data": {
      "text/plain": [
       "array([1.7381838e-06, 1.6579336e-06, 1.4306893e-06, 1.4215012e-06,\n",
       "       1.2831629e-06, 1.2795708e-06, 1.2820553e-06, 1.2995041e-06,\n",
       "       1.3052462e-06, 1.3062929e-06, 1.3133019e-06, 1.4116080e-06,\n",
       "       2.0213670e-06, 3.4514912e-06, 6.4445876e-06, 1.3533647e-05,\n",
       "       2.5911615e-05, 5.6728903e-05, 1.2745282e-04, 2.6673407e-04,\n",
       "       4.5801213e-04, 9.5409347e-04, 1.2293413e-03, 1.8398144e-03,\n",
       "       2.1690319e-03, 2.4146475e-03, 2.6721214e-03, 2.8284967e-03,\n",
       "       2.8885792e-03, 3.1328364e-03], dtype=float32)"
      ]
     },
     "execution_count": 27,
     "metadata": {},
     "output_type": "execute_result"
    }
   ],
   "source": [
    "train_raw_CI['vars'][1000][:30].values"
   ]
  },
  {
   "cell_type": "code",
   "execution_count": 28,
   "metadata": {},
   "outputs": [],
   "source": [
    "train_gen_CI_0_pu = (train_gen_CI[0][0]*train_gen_CI.input_transform.div+train_gen_CI.input_transform.sub)"
   ]
  },
  {
   "cell_type": "code",
   "execution_count": 29,
   "metadata": {},
   "outputs": [
    {
     "data": {
      "text/plain": [
       "array([1.9735626e-05, 1.3552811e-04, 1.5667443e-03, 2.3940048e-04,\n",
       "       7.2050310e-04, 1.4135052e-03, 2.1991380e-03, 2.9280463e-03,\n",
       "       4.2576068e-03, 5.6687603e-03, 7.3259524e-03, 1.0606945e-02,\n",
       "       2.1620281e-02, 4.9715336e-02, 1.1197579e-01, 2.3079984e-01,\n",
       "       3.2419598e-01, 4.1257945e-01, 4.6153700e-01, 4.8926058e-01,\n",
       "       5.1830405e-01, 7.3986965e-01, 6.8840361e-01, 8.7931424e-01,\n",
       "       9.3197358e-01, 9.1838229e-01, 9.1030759e-01, 8.6289239e-01,\n",
       "       8.0696636e-01, 8.0320734e-01], dtype=float32)"
      ]
     },
     "execution_count": 29,
     "metadata": {},
     "output_type": "execute_result"
    }
   ],
   "source": [
    "train_gen_CI_0_pu[1000][:30]"
   ]
  },
  {
   "cell_type": "code",
   "execution_count": 30,
   "metadata": {},
   "outputs": [],
   "source": [
    "new_values = np.zeros(train_raw_CI['vars'].shape)"
   ]
  },
  {
   "cell_type": "code",
   "execution_count": 31,
   "metadata": {},
   "outputs": [
    {
     "data": {
      "text/plain": [
       "(47177728, 224)"
      ]
     },
     "execution_count": 31,
     "metadata": {},
     "output_type": "execute_result"
    }
   ],
   "source": [
    "new_values.shape"
   ]
  },
  {
   "cell_type": "code",
   "execution_count": 32,
   "metadata": {},
   "outputs": [
    {
     "data": {
      "text/plain": [
       "array(['PHQ', 'PHQ', 'PHQ', 'PHQ', 'PHQ', 'PHQ', 'PHQ', 'PHQ', 'PHQ',\n",
       "       'PHQ', 'PHQ', 'PHQ', 'PHQ', 'PHQ', 'PHQ', 'PHQ', 'PHQ', 'PHQ',\n",
       "       'PHQ', 'PHQ', 'PHQ', 'PHQ', 'PHQ', 'PHQ', 'PHQ', 'PHQ', 'PHQ',\n",
       "       'PHQ', 'PHQ', 'PHQ', 'TPHYSTND', 'TPHYSTND', 'TPHYSTND',\n",
       "       'TPHYSTND', 'TPHYSTND', 'TPHYSTND', 'TPHYSTND', 'TPHYSTND',\n",
       "       'TPHYSTND', 'TPHYSTND', 'TPHYSTND', 'TPHYSTND', 'TPHYSTND',\n",
       "       'TPHYSTND', 'TPHYSTND', 'TPHYSTND', 'TPHYSTND', 'TPHYSTND',\n",
       "       'TPHYSTND', 'TPHYSTND', 'TPHYSTND', 'TPHYSTND', 'TPHYSTND',\n",
       "       'TPHYSTND', 'TPHYSTND', 'TPHYSTND', 'TPHYSTND', 'TPHYSTND',\n",
       "       'TPHYSTND', 'TPHYSTND', 'FSNT', 'FSNS', 'FLNT', 'FLNS', 'PRECT',\n",
       "       'PHQt-dt', 'PHQt-dt', 'PHQt-dt', 'PHQt-dt', 'PHQt-dt', 'PHQt-dt',\n",
       "       'PHQt-dt', 'PHQt-dt', 'PHQt-dt', 'PHQt-dt', 'PHQt-dt', 'PHQt-dt',\n",
       "       'PHQt-dt', 'PHQt-dt', 'PHQt-dt', 'PHQt-dt', 'PHQt-dt', 'PHQt-dt',\n",
       "       'PHQt-dt', 'PHQt-dt', 'PHQt-dt', 'PHQt-dt', 'PHQt-dt', 'PHQt-dt',\n",
       "       'PHQt-dt', 'PHQt-dt', 'PHQt-dt', 'PHQt-dt', 'PHQt-dt', 'PHQt-dt',\n",
       "       'TPHYSTNDt-dt', 'TPHYSTNDt-dt', 'TPHYSTNDt-dt', 'TPHYSTNDt-dt',\n",
       "       'TPHYSTNDt-dt', 'TPHYSTNDt-dt', 'TPHYSTNDt-dt', 'TPHYSTNDt-dt',\n",
       "       'TPHYSTNDt-dt', 'TPHYSTNDt-dt', 'TPHYSTNDt-dt', 'TPHYSTNDt-dt',\n",
       "       'TPHYSTNDt-dt', 'TPHYSTNDt-dt', 'TPHYSTNDt-dt', 'TPHYSTNDt-dt',\n",
       "       'TPHYSTNDt-dt', 'TPHYSTNDt-dt', 'TPHYSTNDt-dt', 'TPHYSTNDt-dt',\n",
       "       'TPHYSTNDt-dt', 'TPHYSTNDt-dt', 'TPHYSTNDt-dt', 'TPHYSTNDt-dt',\n",
       "       'TPHYSTNDt-dt', 'TPHYSTNDt-dt', 'TPHYSTNDt-dt', 'TPHYSTNDt-dt',\n",
       "       'TPHYSTNDt-dt', 'TPHYSTNDt-dt', 'FSNTt-dt', 'FSNSt-dt', 'FLNTt-dt',\n",
       "       'FLNSt-dt', 'PRECTt-dt'], dtype=object)"
      ]
     },
     "execution_count": 32,
     "metadata": {},
     "output_type": "execute_result"
    }
   ],
   "source": [
    "train_raw['var_names'].values[94:]"
   ]
  },
  {
   "cell_type": "code",
   "execution_count": 33,
   "metadata": {},
   "outputs": [
    {
     "name": "stdout",
     "output_type": "stream",
     "text": [
      "progress= 99.84 %                \r"
     ]
    }
   ],
   "source": [
    "for ibatch in range((train_gen_CI.n_samples)//N_batch):\n",
    "    if ibatch % 10==0: print('progress=','%2.2f' % (100*ibatch/((train_gen_CI.n_samples)//N_batch)),\n",
    "                              '%','               ',end='\\r')\n",
    "    train_gen_CI_pu = (train_gen_CI[ibatch][0]*train_gen_CI.input_transform.div+\\\n",
    "                       train_gen_CI.input_transform.sub)\n",
    "    new_values[ibatch*N_batch:((1+ibatch)*N_batch),:] = np.concatenate(\n",
    "        (train_gen_CI_pu[:,:60],\n",
    "        train_raw_CI['vars'][ibatch*N_batch:((1+ibatch)*N_batch),60:90],\n",
    "        train_gen_CI_pu[:,60:],\n",
    "        train_raw_CI['vars'][ibatch*N_batch:((1+ibatch)*N_batch),94:]),\n",
    "        axis=1\n",
    "    )"
   ]
  },
  {
   "cell_type": "code",
   "execution_count": 34,
   "metadata": {},
   "outputs": [
    {
     "data": {
      "text/plain": [
       "(47177728, 224)"
      ]
     },
     "execution_count": 34,
     "metadata": {},
     "output_type": "execute_result"
    }
   ],
   "source": [
    "new_values.shape"
   ]
  },
  {
   "cell_type": "code",
   "execution_count": 35,
   "metadata": {},
   "outputs": [],
   "source": [
    "train_raw_CI['vars'].values = new_values"
   ]
  },
  {
   "cell_type": "markdown",
   "metadata": {},
   "source": [
    "### Save new training dataset"
   ]
  },
  {
   "cell_type": "code",
   "execution_count": 36,
   "metadata": {},
   "outputs": [],
   "source": [
    "path_save_dir = '/DFS-L/DATA/pritchard/tbeucler/SPCAM/SPCAM_PHYS/'"
   ]
  },
  {
   "cell_type": "code",
   "execution_count": 37,
   "metadata": {},
   "outputs": [],
   "source": [
    "train_raw_CI.to_netcdf(path_save_dir+'2022_01_13_TRAIN_For_Nando_CI_t-dt.nc',mode='w')"
   ]
  },
  {
   "cell_type": "code",
   "execution_count": 38,
   "metadata": {},
   "outputs": [
    {
     "data": {
      "text/plain": [
       "array(['PS', 'SOLIN', 'SHFLX', 'LHF_nsDELQ', 'PHQ'], dtype=object)"
      ]
     },
     "execution_count": 38,
     "metadata": {},
     "output_type": "execute_result"
    }
   ],
   "source": [
    "train_raw_CI['var_names'][90:95].values"
   ]
  },
  {
   "cell_type": "markdown",
   "metadata": {},
   "source": [
    "## Create new normalization file"
   ]
  },
  {
   "cell_type": "code",
   "execution_count": 39,
   "metadata": {},
   "outputs": [],
   "source": [
    "norm_RH_dataset = xr.open_dataset(path_norm_RH)\n",
    "norm_BMSE_dataset = xr.open_dataset(path_norm_BMSE)\n",
    "norm_LHF_nsDELQ_dataset = xr.open_dataset(path_norm_LHF_nsDELQ) "
   ]
  },
  {
   "cell_type": "code",
   "execution_count": 40,
   "metadata": {},
   "outputs": [],
   "source": [
    "norm_dataset = xr.open_dataset(path_input_norm)"
   ]
  },
  {
   "cell_type": "code",
   "execution_count": 41,
   "metadata": {},
   "outputs": [],
   "source": [
    "new_norm_dataset = norm_dataset.copy()"
   ]
  },
  {
   "cell_type": "markdown",
   "metadata": {},
   "source": [
    "### Coordinates"
   ]
  },
  {
   "cell_type": "code",
   "execution_count": 42,
   "metadata": {},
   "outputs": [],
   "source": [
    "var_names_full = norm_dataset['var_names'].values\n",
    "var_names_full_single = norm_dataset['var_names_single'].values"
   ]
  },
  {
   "cell_type": "code",
   "execution_count": 43,
   "metadata": {},
   "outputs": [],
   "source": [
    "for i in range(30): var_names_full = np.append(var_names_full,'RH')\n",
    "for i in range(30): var_names_full = np.append(var_names_full,'BMSE')\n",
    "var_names_full = np.append(var_names_full,'LHF_nsDELQ')\n",
    "\n",
    "var_names_full_single = np.append(var_names_full_single,'RH')\n",
    "var_names_full_single = np.append(var_names_full_single,'BMSE')\n",
    "var_names_full_single = np.append(var_names_full_single,'LHF_nsDELQ')"
   ]
  },
  {
   "cell_type": "code",
   "execution_count": 44,
   "metadata": {},
   "outputs": [
    {
     "data": {
      "text/plain": [
       "(648,)"
      ]
     },
     "execution_count": 44,
     "metadata": {},
     "output_type": "execute_result"
    }
   ],
   "source": [
    "var_names_full.shape"
   ]
  },
  {
   "cell_type": "code",
   "execution_count": 45,
   "metadata": {},
   "outputs": [
    {
     "data": {
      "text/plain": [
       "(39,)"
      ]
     },
     "execution_count": 45,
     "metadata": {},
     "output_type": "execute_result"
    }
   ],
   "source": [
    "var_names_full_single.shape"
   ]
  },
  {
   "cell_type": "code",
   "execution_count": 46,
   "metadata": {},
   "outputs": [],
   "source": [
    "new_coor = {}\n",
    "new_coor['var_names'] = var_names_full\n",
    "new_coor['var_names_single'] = var_names_full_single"
   ]
  },
  {
   "cell_type": "markdown",
   "metadata": {},
   "source": [
    "### Data"
   ]
  },
  {
   "cell_type": "markdown",
   "metadata": {},
   "source": [
    "#### Full profiles"
   ]
  },
  {
   "cell_type": "code",
   "execution_count": 47,
   "metadata": {},
   "outputs": [],
   "source": [
    "KEY = ['mean','std','min','max']"
   ]
  },
  {
   "cell_type": "code",
   "execution_count": 48,
   "metadata": {},
   "outputs": [],
   "source": [
    "norm_data = {}"
   ]
  },
  {
   "cell_type": "code",
   "execution_count": 49,
   "metadata": {},
   "outputs": [],
   "source": [
    "for key in KEY:\n",
    "    norm_data[key] = norm_dataset[key].values"
   ]
  },
  {
   "cell_type": "code",
   "execution_count": 50,
   "metadata": {},
   "outputs": [
    {
     "data": {
      "text/plain": [
       "array(['RH', 'RH', 'RH', 'RH', 'RH', 'RH', 'RH', 'RH', 'RH', 'RH', 'RH',\n",
       "       'RH', 'RH', 'RH', 'RH', 'RH', 'RH', 'RH', 'RH', 'RH', 'RH', 'RH',\n",
       "       'RH', 'RH', 'RH', 'RH', 'RH', 'RH', 'RH', 'RH'], dtype=object)"
      ]
     },
     "execution_count": 50,
     "metadata": {},
     "output_type": "execute_result"
    }
   ],
   "source": [
    "norm_RH_dataset['var_names'][:30].values"
   ]
  },
  {
   "cell_type": "code",
   "execution_count": 51,
   "metadata": {},
   "outputs": [],
   "source": [
    "for key in KEY:\n",
    "    norm_data[key] = np.append(norm_data[key],norm_RH_dataset[key][:30].values)"
   ]
  },
  {
   "cell_type": "code",
   "execution_count": 52,
   "metadata": {},
   "outputs": [
    {
     "data": {
      "text/plain": [
       "array(['BMSE', 'BMSE', 'BMSE', 'BMSE', 'BMSE', 'BMSE', 'BMSE', 'BMSE',\n",
       "       'BMSE', 'BMSE', 'BMSE', 'BMSE', 'BMSE', 'BMSE', 'BMSE', 'BMSE',\n",
       "       'BMSE', 'BMSE', 'BMSE', 'BMSE', 'BMSE', 'BMSE', 'BMSE', 'BMSE',\n",
       "       'BMSE', 'BMSE', 'BMSE', 'BMSE', 'BMSE', 'BMSE'], dtype=object)"
      ]
     },
     "execution_count": 52,
     "metadata": {},
     "output_type": "execute_result"
    }
   ],
   "source": [
    "norm_BMSE_dataset['var_names'][30:60].values"
   ]
  },
  {
   "cell_type": "code",
   "execution_count": 53,
   "metadata": {},
   "outputs": [],
   "source": [
    "for key in KEY:\n",
    "    norm_data[key] = np.append(norm_data[key],norm_BMSE_dataset[key][30:60].values)"
   ]
  },
  {
   "cell_type": "code",
   "execution_count": 54,
   "metadata": {},
   "outputs": [
    {
     "data": {
      "text/plain": [
       "array('LHF_nsDELQ', dtype='<U10')"
      ]
     },
     "execution_count": 54,
     "metadata": {},
     "output_type": "execute_result"
    }
   ],
   "source": [
    "norm_LHF_nsDELQ_dataset['var_names'][93].values"
   ]
  },
  {
   "cell_type": "code",
   "execution_count": 55,
   "metadata": {},
   "outputs": [],
   "source": [
    "for key in KEY:\n",
    "    norm_data[key] = np.append(norm_data[key],norm_LHF_nsDELQ_dataset[key][93].values)"
   ]
  },
  {
   "cell_type": "markdown",
   "metadata": {},
   "source": [
    "#### One std per variable"
   ]
  },
  {
   "cell_type": "code",
   "execution_count": 56,
   "metadata": {},
   "outputs": [],
   "source": [
    "key0 = 'std_by_var'"
   ]
  },
  {
   "cell_type": "code",
   "execution_count": 57,
   "metadata": {},
   "outputs": [],
   "source": [
    "norm_data[key0] = norm_dataset[key0].values"
   ]
  },
  {
   "cell_type": "code",
   "execution_count": 58,
   "metadata": {},
   "outputs": [
    {
     "data": {
      "text/plain": [
       "(36,)"
      ]
     },
     "execution_count": 58,
     "metadata": {},
     "output_type": "execute_result"
    }
   ],
   "source": [
    "norm_dataset[key0].values.shape"
   ]
  },
  {
   "cell_type": "code",
   "execution_count": 59,
   "metadata": {},
   "outputs": [
    {
     "data": {
      "text/plain": [
       "array('RH', dtype='<U2')"
      ]
     },
     "execution_count": 59,
     "metadata": {},
     "output_type": "execute_result"
    }
   ],
   "source": [
    "norm_RH_dataset['var_names_single'][0].values"
   ]
  },
  {
   "cell_type": "code",
   "execution_count": 60,
   "metadata": {},
   "outputs": [],
   "source": [
    "norm_data[key0] = np.append(norm_data[key0],\n",
    "                            norm_RH_dataset[key0][0].values)"
   ]
  },
  {
   "cell_type": "code",
   "execution_count": 61,
   "metadata": {},
   "outputs": [
    {
     "data": {
      "text/plain": [
       "array('BMSE', dtype='<U4')"
      ]
     },
     "execution_count": 61,
     "metadata": {},
     "output_type": "execute_result"
    }
   ],
   "source": [
    "norm_BMSE_dataset['var_names_single'][1].values"
   ]
  },
  {
   "cell_type": "code",
   "execution_count": 62,
   "metadata": {},
   "outputs": [],
   "source": [
    "norm_data[key0] = np.append(norm_data[key0],\n",
    "                            norm_BMSE_dataset[key0][1].values)"
   ]
  },
  {
   "cell_type": "code",
   "execution_count": 63,
   "metadata": {},
   "outputs": [
    {
     "data": {
      "text/plain": [
       "array('LHF_nsDELQ', dtype='<U10')"
      ]
     },
     "execution_count": 63,
     "metadata": {},
     "output_type": "execute_result"
    }
   ],
   "source": [
    "norm_LHF_nsDELQ_dataset['var_names_single'][6].values"
   ]
  },
  {
   "cell_type": "code",
   "execution_count": 64,
   "metadata": {},
   "outputs": [],
   "source": [
    "norm_data[key0] = np.append(norm_data[key0],\n",
    "                            norm_LHF_nsDELQ_dataset[key0][6].values)"
   ]
  },
  {
   "cell_type": "code",
   "execution_count": 65,
   "metadata": {},
   "outputs": [
    {
     "name": "stdout",
     "output_type": "stream",
     "text": [
      "mean(648,)\n",
      "std(648,)\n",
      "min(648,)\n",
      "max(648,)\n",
      "std_by_var(39,)\n"
     ]
    }
   ],
   "source": [
    "for key in norm_data.keys():\n",
    "    print(key+str(norm_data[key].shape))"
   ]
  },
  {
   "cell_type": "code",
   "execution_count": 66,
   "metadata": {},
   "outputs": [],
   "source": [
    "norm_data_dict = {}"
   ]
  },
  {
   "cell_type": "code",
   "execution_count": 67,
   "metadata": {},
   "outputs": [],
   "source": [
    "for key in KEY:\n",
    "    norm_data_dict[key] = (['var_names'],norm_data[key])\n",
    "norm_data_dict[key0] = (['var_names_single'],norm_data[key0])"
   ]
  },
  {
   "cell_type": "markdown",
   "metadata": {},
   "source": [
    "### Combine coordinates and data into a new xarray dataset"
   ]
  },
  {
   "cell_type": "code",
   "execution_count": 68,
   "metadata": {},
   "outputs": [],
   "source": [
    "new_norm = xr.Dataset(\n",
    "    data_vars = norm_data_dict,\n",
    "    coords = new_coor\n",
    ")"
   ]
  },
  {
   "cell_type": "markdown",
   "metadata": {},
   "source": [
    "### Check that new normalization file was created correctly"
   ]
  },
  {
   "cell_type": "markdown",
   "metadata": {},
   "source": [
    "#### Full profiles"
   ]
  },
  {
   "cell_type": "code",
   "execution_count": 69,
   "metadata": {},
   "outputs": [
    {
     "data": {
      "text/plain": [
       "array(['BMSE', 'BMSE', 'BMSE', 'BMSE', 'BMSE', 'BMSE', 'BMSE', 'BMSE',\n",
       "       'BMSE', 'BMSE', 'BMSE', 'BMSE', 'BMSE', 'BMSE', 'BMSE', 'BMSE',\n",
       "       'BMSE', 'BMSE', 'BMSE', 'BMSE', 'BMSE', 'BMSE', 'BMSE', 'BMSE',\n",
       "       'BMSE', 'BMSE', 'BMSE', 'BMSE', 'BMSE', 'BMSE'], dtype=object)"
      ]
     },
     "execution_count": 69,
     "metadata": {},
     "output_type": "execute_result"
    }
   ],
   "source": [
    "new_norm['var_names'][-31:-1].values"
   ]
  },
  {
   "cell_type": "code",
   "execution_count": 70,
   "metadata": {},
   "outputs": [
    {
     "data": {
      "text/plain": [
       "array([-1.31116964e+01, -1.10533083e+01, -9.24844476e+00, -7.55641638e+00,\n",
       "       -6.33420238e+00, -5.38641029e+00, -4.73032847e+00, -4.26705961e+00,\n",
       "       -3.90010160e+00, -3.51368711e+00, -3.11597357e+00, -2.67607478e+00,\n",
       "       -2.22679080e+00, -1.75694275e+00, -1.44067605e+00, -1.30229558e+00,\n",
       "       -1.06961250e+00, -9.08340034e-01, -7.54189932e-01, -5.73731456e-01,\n",
       "       -4.37089447e-01, -3.42989613e-01, -2.62232670e-01, -2.35843909e-01,\n",
       "       -2.21079333e-01, -2.12816024e-01, -1.93379778e-01, -1.65845811e-01,\n",
       "       -1.37980631e-01, -4.34919917e-04])"
      ]
     },
     "execution_count": 70,
     "metadata": {},
     "output_type": "execute_result"
    }
   ],
   "source": [
    "new_norm['min'][-31:-1].values"
   ]
  },
  {
   "cell_type": "code",
   "execution_count": 71,
   "metadata": {},
   "outputs": [
    {
     "data": {
      "text/plain": [
       "array(['BMSE', 'BMSE', 'BMSE', 'BMSE', 'BMSE', 'BMSE', 'BMSE', 'BMSE',\n",
       "       'BMSE', 'BMSE', 'BMSE', 'BMSE', 'BMSE', 'BMSE', 'BMSE', 'BMSE',\n",
       "       'BMSE', 'BMSE', 'BMSE', 'BMSE', 'BMSE', 'BMSE', 'BMSE', 'BMSE',\n",
       "       'BMSE', 'BMSE', 'BMSE', 'BMSE', 'BMSE', 'BMSE'], dtype=object)"
      ]
     },
     "execution_count": 71,
     "metadata": {},
     "output_type": "execute_result"
    }
   ],
   "source": [
    "norm_BMSE_dataset['var_names'][30:60].values"
   ]
  },
  {
   "cell_type": "code",
   "execution_count": 72,
   "metadata": {},
   "outputs": [
    {
     "data": {
      "text/plain": [
       "array([-1.31116964e+01, -1.10533083e+01, -9.24844476e+00, -7.55641638e+00,\n",
       "       -6.33420238e+00, -5.38641029e+00, -4.73032847e+00, -4.26705961e+00,\n",
       "       -3.90010160e+00, -3.51368711e+00, -3.11597357e+00, -2.67607478e+00,\n",
       "       -2.22679080e+00, -1.75694275e+00, -1.44067605e+00, -1.30229558e+00,\n",
       "       -1.06961250e+00, -9.08340034e-01, -7.54189932e-01, -5.73731456e-01,\n",
       "       -4.37089447e-01, -3.42989613e-01, -2.62232670e-01, -2.35843909e-01,\n",
       "       -2.21079333e-01, -2.12816024e-01, -1.93379778e-01, -1.65845811e-01,\n",
       "       -1.37980631e-01, -4.34919917e-04])"
      ]
     },
     "execution_count": 72,
     "metadata": {},
     "output_type": "execute_result"
    }
   ],
   "source": [
    "norm_BMSE_dataset['min'][30:60].values"
   ]
  },
  {
   "cell_type": "markdown",
   "metadata": {},
   "source": [
    "#### One std per variable"
   ]
  },
  {
   "cell_type": "code",
   "execution_count": 73,
   "metadata": {},
   "outputs": [
    {
     "data": {
      "text/plain": [
       "array('RH', dtype='<U2')"
      ]
     },
     "execution_count": 73,
     "metadata": {},
     "output_type": "execute_result"
    }
   ],
   "source": [
    "new_norm['var_names_single'][-3].values"
   ]
  },
  {
   "cell_type": "code",
   "execution_count": 74,
   "metadata": {},
   "outputs": [
    {
     "data": {
      "text/plain": [
       "array(0.39380189)"
      ]
     },
     "execution_count": 74,
     "metadata": {},
     "output_type": "execute_result"
    }
   ],
   "source": [
    "new_norm['std_by_var'][-3].values"
   ]
  },
  {
   "cell_type": "code",
   "execution_count": 75,
   "metadata": {},
   "outputs": [
    {
     "data": {
      "text/plain": [
       "array('RH', dtype='<U2')"
      ]
     },
     "execution_count": 75,
     "metadata": {},
     "output_type": "execute_result"
    }
   ],
   "source": [
    "norm_RH_dataset['var_names_single'][0].values"
   ]
  },
  {
   "cell_type": "code",
   "execution_count": 76,
   "metadata": {},
   "outputs": [
    {
     "data": {
      "text/plain": [
       "array(0.39380189)"
      ]
     },
     "execution_count": 76,
     "metadata": {},
     "output_type": "execute_result"
    }
   ],
   "source": [
    "norm_RH_dataset['std_by_var'][0].values"
   ]
  },
  {
   "cell_type": "markdown",
   "metadata": {},
   "source": [
    "## Save new norm file"
   ]
  },
  {
   "cell_type": "code",
   "execution_count": 77,
   "metadata": {},
   "outputs": [
    {
     "data": {
      "text/html": [
       "<div><svg style=\"position: absolute; width: 0; height: 0; overflow: hidden\">\n",
       "<defs>\n",
       "<symbol id=\"icon-database\" viewBox=\"0 0 32 32\">\n",
       "<title>Show/Hide data repr</title>\n",
       "<path d=\"M16 0c-8.837 0-16 2.239-16 5v4c0 2.761 7.163 5 16 5s16-2.239 16-5v-4c0-2.761-7.163-5-16-5z\"></path>\n",
       "<path d=\"M16 17c-8.837 0-16-2.239-16-5v6c0 2.761 7.163 5 16 5s16-2.239 16-5v-6c0 2.761-7.163 5-16 5z\"></path>\n",
       "<path d=\"M16 26c-8.837 0-16-2.239-16-5v6c0 2.761 7.163 5 16 5s16-2.239 16-5v-6c0 2.761-7.163 5-16 5z\"></path>\n",
       "</symbol>\n",
       "<symbol id=\"icon-file-text2\" viewBox=\"0 0 32 32\">\n",
       "<title>Show/Hide attributes</title>\n",
       "<path d=\"M28.681 7.159c-0.694-0.947-1.662-2.053-2.724-3.116s-2.169-2.030-3.116-2.724c-1.612-1.182-2.393-1.319-2.841-1.319h-15.5c-1.378 0-2.5 1.121-2.5 2.5v27c0 1.378 1.122 2.5 2.5 2.5h23c1.378 0 2.5-1.122 2.5-2.5v-19.5c0-0.448-0.137-1.23-1.319-2.841zM24.543 5.457c0.959 0.959 1.712 1.825 2.268 2.543h-4.811v-4.811c0.718 0.556 1.584 1.309 2.543 2.268zM28 29.5c0 0.271-0.229 0.5-0.5 0.5h-23c-0.271 0-0.5-0.229-0.5-0.5v-27c0-0.271 0.229-0.5 0.5-0.5 0 0 15.499-0 15.5 0v7c0 0.552 0.448 1 1 1h7v19.5z\"></path>\n",
       "<path d=\"M23 26h-14c-0.552 0-1-0.448-1-1s0.448-1 1-1h14c0.552 0 1 0.448 1 1s-0.448 1-1 1z\"></path>\n",
       "<path d=\"M23 22h-14c-0.552 0-1-0.448-1-1s0.448-1 1-1h14c0.552 0 1 0.448 1 1s-0.448 1-1 1z\"></path>\n",
       "<path d=\"M23 18h-14c-0.552 0-1-0.448-1-1s0.448-1 1-1h14c0.552 0 1 0.448 1 1s-0.448 1-1 1z\"></path>\n",
       "</symbol>\n",
       "</defs>\n",
       "</svg>\n",
       "<style>/* CSS stylesheet for displaying xarray objects in jupyterlab.\n",
       " *\n",
       " */\n",
       "\n",
       ":root {\n",
       "  --xr-font-color0: var(--jp-content-font-color0, rgba(0, 0, 0, 1));\n",
       "  --xr-font-color2: var(--jp-content-font-color2, rgba(0, 0, 0, 0.54));\n",
       "  --xr-font-color3: var(--jp-content-font-color3, rgba(0, 0, 0, 0.38));\n",
       "  --xr-border-color: var(--jp-border-color2, #e0e0e0);\n",
       "  --xr-disabled-color: var(--jp-layout-color3, #bdbdbd);\n",
       "  --xr-background-color: var(--jp-layout-color0, white);\n",
       "  --xr-background-color-row-even: var(--jp-layout-color1, white);\n",
       "  --xr-background-color-row-odd: var(--jp-layout-color2, #eeeeee);\n",
       "}\n",
       "\n",
       ".xr-wrap {\n",
       "  min-width: 300px;\n",
       "  max-width: 700px;\n",
       "}\n",
       "\n",
       ".xr-header {\n",
       "  padding-top: 6px;\n",
       "  padding-bottom: 6px;\n",
       "  margin-bottom: 4px;\n",
       "  border-bottom: solid 1px var(--xr-border-color);\n",
       "}\n",
       "\n",
       ".xr-header > div,\n",
       ".xr-header > ul {\n",
       "  display: inline;\n",
       "  margin-top: 0;\n",
       "  margin-bottom: 0;\n",
       "}\n",
       "\n",
       ".xr-obj-type,\n",
       ".xr-array-name {\n",
       "  margin-left: 2px;\n",
       "  margin-right: 10px;\n",
       "}\n",
       "\n",
       ".xr-obj-type {\n",
       "  color: var(--xr-font-color2);\n",
       "}\n",
       "\n",
       ".xr-sections {\n",
       "  padding-left: 0 !important;\n",
       "  display: grid;\n",
       "  grid-template-columns: 150px auto auto 1fr 20px 20px;\n",
       "}\n",
       "\n",
       ".xr-section-item {\n",
       "  display: contents;\n",
       "}\n",
       "\n",
       ".xr-section-item input {\n",
       "  display: none;\n",
       "}\n",
       "\n",
       ".xr-section-item input + label {\n",
       "  color: var(--xr-disabled-color);\n",
       "}\n",
       "\n",
       ".xr-section-item input:enabled + label {\n",
       "  cursor: pointer;\n",
       "  color: var(--xr-font-color2);\n",
       "}\n",
       "\n",
       ".xr-section-item input:enabled + label:hover {\n",
       "  color: var(--xr-font-color0);\n",
       "}\n",
       "\n",
       ".xr-section-summary {\n",
       "  grid-column: 1;\n",
       "  color: var(--xr-font-color2);\n",
       "  font-weight: 500;\n",
       "}\n",
       "\n",
       ".xr-section-summary > span {\n",
       "  display: inline-block;\n",
       "  padding-left: 0.5em;\n",
       "}\n",
       "\n",
       ".xr-section-summary-in:disabled + label {\n",
       "  color: var(--xr-font-color2);\n",
       "}\n",
       "\n",
       ".xr-section-summary-in + label:before {\n",
       "  display: inline-block;\n",
       "  content: '►';\n",
       "  font-size: 11px;\n",
       "  width: 15px;\n",
       "  text-align: center;\n",
       "}\n",
       "\n",
       ".xr-section-summary-in:disabled + label:before {\n",
       "  color: var(--xr-disabled-color);\n",
       "}\n",
       "\n",
       ".xr-section-summary-in:checked + label:before {\n",
       "  content: '▼';\n",
       "}\n",
       "\n",
       ".xr-section-summary-in:checked + label > span {\n",
       "  display: none;\n",
       "}\n",
       "\n",
       ".xr-section-summary,\n",
       ".xr-section-inline-details {\n",
       "  padding-top: 4px;\n",
       "  padding-bottom: 4px;\n",
       "}\n",
       "\n",
       ".xr-section-inline-details {\n",
       "  grid-column: 2 / -1;\n",
       "}\n",
       "\n",
       ".xr-section-details {\n",
       "  display: none;\n",
       "  grid-column: 1 / -1;\n",
       "  margin-bottom: 5px;\n",
       "}\n",
       "\n",
       ".xr-section-summary-in:checked ~ .xr-section-details {\n",
       "  display: contents;\n",
       "}\n",
       "\n",
       ".xr-array-wrap {\n",
       "  grid-column: 1 / -1;\n",
       "  display: grid;\n",
       "  grid-template-columns: 20px auto;\n",
       "}\n",
       "\n",
       ".xr-array-wrap > label {\n",
       "  grid-column: 1;\n",
       "  vertical-align: top;\n",
       "}\n",
       "\n",
       ".xr-preview {\n",
       "  color: var(--xr-font-color3);\n",
       "}\n",
       "\n",
       ".xr-array-preview,\n",
       ".xr-array-data {\n",
       "  padding: 0 5px !important;\n",
       "  grid-column: 2;\n",
       "}\n",
       "\n",
       ".xr-array-data,\n",
       ".xr-array-in:checked ~ .xr-array-preview {\n",
       "  display: none;\n",
       "}\n",
       "\n",
       ".xr-array-in:checked ~ .xr-array-data,\n",
       ".xr-array-preview {\n",
       "  display: inline-block;\n",
       "}\n",
       "\n",
       ".xr-dim-list {\n",
       "  display: inline-block !important;\n",
       "  list-style: none;\n",
       "  padding: 0 !important;\n",
       "  margin: 0;\n",
       "}\n",
       "\n",
       ".xr-dim-list li {\n",
       "  display: inline-block;\n",
       "  padding: 0;\n",
       "  margin: 0;\n",
       "}\n",
       "\n",
       ".xr-dim-list:before {\n",
       "  content: '(';\n",
       "}\n",
       "\n",
       ".xr-dim-list:after {\n",
       "  content: ')';\n",
       "}\n",
       "\n",
       ".xr-dim-list li:not(:last-child):after {\n",
       "  content: ',';\n",
       "  padding-right: 5px;\n",
       "}\n",
       "\n",
       ".xr-has-index {\n",
       "  font-weight: bold;\n",
       "}\n",
       "\n",
       ".xr-var-list,\n",
       ".xr-var-item {\n",
       "  display: contents;\n",
       "}\n",
       "\n",
       ".xr-var-item > div,\n",
       ".xr-var-item label,\n",
       ".xr-var-item > .xr-var-name span {\n",
       "  background-color: var(--xr-background-color-row-even);\n",
       "  margin-bottom: 0;\n",
       "}\n",
       "\n",
       ".xr-var-item > .xr-var-name:hover span {\n",
       "  padding-right: 5px;\n",
       "}\n",
       "\n",
       ".xr-var-list > li:nth-child(odd) > div,\n",
       ".xr-var-list > li:nth-child(odd) > label,\n",
       ".xr-var-list > li:nth-child(odd) > .xr-var-name span {\n",
       "  background-color: var(--xr-background-color-row-odd);\n",
       "}\n",
       "\n",
       ".xr-var-name {\n",
       "  grid-column: 1;\n",
       "}\n",
       "\n",
       ".xr-var-dims {\n",
       "  grid-column: 2;\n",
       "}\n",
       "\n",
       ".xr-var-dtype {\n",
       "  grid-column: 3;\n",
       "  text-align: right;\n",
       "  color: var(--xr-font-color2);\n",
       "}\n",
       "\n",
       ".xr-var-preview {\n",
       "  grid-column: 4;\n",
       "}\n",
       "\n",
       ".xr-var-name,\n",
       ".xr-var-dims,\n",
       ".xr-var-dtype,\n",
       ".xr-preview,\n",
       ".xr-attrs dt {\n",
       "  white-space: nowrap;\n",
       "  overflow: hidden;\n",
       "  text-overflow: ellipsis;\n",
       "  padding-right: 10px;\n",
       "}\n",
       "\n",
       ".xr-var-name:hover,\n",
       ".xr-var-dims:hover,\n",
       ".xr-var-dtype:hover,\n",
       ".xr-attrs dt:hover {\n",
       "  overflow: visible;\n",
       "  width: auto;\n",
       "  z-index: 1;\n",
       "}\n",
       "\n",
       ".xr-var-attrs,\n",
       ".xr-var-data {\n",
       "  display: none;\n",
       "  background-color: var(--xr-background-color) !important;\n",
       "  padding-bottom: 5px !important;\n",
       "}\n",
       "\n",
       ".xr-var-attrs-in:checked ~ .xr-var-attrs,\n",
       ".xr-var-data-in:checked ~ .xr-var-data {\n",
       "  display: block;\n",
       "}\n",
       "\n",
       ".xr-var-data > table {\n",
       "  float: right;\n",
       "}\n",
       "\n",
       ".xr-var-name span,\n",
       ".xr-var-data,\n",
       ".xr-attrs {\n",
       "  padding-left: 25px !important;\n",
       "}\n",
       "\n",
       ".xr-attrs,\n",
       ".xr-var-attrs,\n",
       ".xr-var-data {\n",
       "  grid-column: 1 / -1;\n",
       "}\n",
       "\n",
       "dl.xr-attrs {\n",
       "  padding: 0;\n",
       "  margin: 0;\n",
       "  display: grid;\n",
       "  grid-template-columns: 125px auto;\n",
       "}\n",
       "\n",
       ".xr-attrs dt, dd {\n",
       "  padding: 0;\n",
       "  margin: 0;\n",
       "  float: left;\n",
       "  padding-right: 10px;\n",
       "  width: auto;\n",
       "}\n",
       "\n",
       ".xr-attrs dt {\n",
       "  font-weight: normal;\n",
       "  grid-column: 1;\n",
       "}\n",
       "\n",
       ".xr-attrs dt:hover span {\n",
       "  display: inline-block;\n",
       "  background: var(--xr-background-color);\n",
       "  padding-right: 10px;\n",
       "}\n",
       "\n",
       ".xr-attrs dd {\n",
       "  grid-column: 2;\n",
       "  white-space: pre-wrap;\n",
       "  word-break: break-all;\n",
       "}\n",
       "\n",
       ".xr-icon-database,\n",
       ".xr-icon-file-text2 {\n",
       "  display: inline-block;\n",
       "  vertical-align: middle;\n",
       "  width: 1em;\n",
       "  height: 1.5em !important;\n",
       "  stroke-width: 0;\n",
       "  stroke: currentColor;\n",
       "  fill: currentColor;\n",
       "}\n",
       "</style><div class='xr-wrap'><div class='xr-header'><div class='xr-obj-type'>xarray.Dataset</div></div><ul class='xr-sections'><li class='xr-section-item'><input id='section-dc487c12-3900-47b0-9db7-298285279608' class='xr-section-summary-in' type='checkbox' disabled ><label for='section-dc487c12-3900-47b0-9db7-298285279608' class='xr-section-summary'  title='Expand/collapse section'>Dimensions:</label><div class='xr-section-inline-details'><ul class='xr-dim-list'><li><span class='xr-has-index'>var_names</span>: 648</li><li><span class='xr-has-index'>var_names_single</span>: 39</li></ul></div><div class='xr-section-details'></div></li><li class='xr-section-item'><input id='section-3145886d-76e4-4df2-8170-3307108911b9' class='xr-section-summary-in' type='checkbox'  checked><label for='section-3145886d-76e4-4df2-8170-3307108911b9' class='xr-section-summary' >Coordinates: <span>(2)</span></label><div class='xr-section-inline-details'></div><div class='xr-section-details'><ul class='xr-var-list'><li class='xr-var-item'><div class='xr-var-name'><span class='xr-has-index'>var_names</span></div><div class='xr-var-dims'>(var_names)</div><div class='xr-var-dtype'>object</div><div class='xr-var-preview xr-preview'>&#x27;QBP&#x27; &#x27;QBP&#x27; ... &#x27;BMSE&#x27; &#x27;LHF_nsDELQ&#x27;</div><input id='attrs-5e61acd6-57d5-46ec-87a6-0f759c0a5eec' class='xr-var-attrs-in' type='checkbox' disabled><label for='attrs-5e61acd6-57d5-46ec-87a6-0f759c0a5eec' title='Show/Hide attributes'><svg class='icon xr-icon-file-text2'><use xlink:href='#icon-file-text2'></use></svg></label><input id='data-393de2a6-d4d7-4567-847d-8a6db3432656' class='xr-var-data-in' type='checkbox'><label for='data-393de2a6-d4d7-4567-847d-8a6db3432656' title='Show/Hide data repr'><svg class='icon xr-icon-database'><use xlink:href='#icon-database'></use></svg></label><div class='xr-var-attrs'><dl class='xr-attrs'></dl></div><pre class='xr-var-data'>array([&#x27;QBP&#x27;, &#x27;QBP&#x27;, &#x27;QBP&#x27;, ..., &#x27;BMSE&#x27;, &#x27;BMSE&#x27;, &#x27;LHF_nsDELQ&#x27;], dtype=object)</pre></li><li class='xr-var-item'><div class='xr-var-name'><span class='xr-has-index'>var_names_single</span></div><div class='xr-var-dims'>(var_names_single)</div><div class='xr-var-dtype'>object</div><div class='xr-var-preview xr-preview'>&#x27;QBP&#x27; &#x27;QCBP&#x27; ... &#x27;LHF_nsDELQ&#x27;</div><input id='attrs-a058be2a-dddf-4fcd-ab5e-86c95fe134c3' class='xr-var-attrs-in' type='checkbox' disabled><label for='attrs-a058be2a-dddf-4fcd-ab5e-86c95fe134c3' title='Show/Hide attributes'><svg class='icon xr-icon-file-text2'><use xlink:href='#icon-file-text2'></use></svg></label><input id='data-ab96bafc-b83a-4ef7-be3e-62553c8d9a54' class='xr-var-data-in' type='checkbox'><label for='data-ab96bafc-b83a-4ef7-be3e-62553c8d9a54' title='Show/Hide data repr'><svg class='icon xr-icon-database'><use xlink:href='#icon-database'></use></svg></label><div class='xr-var-attrs'><dl class='xr-attrs'></dl></div><pre class='xr-var-data'>array([&#x27;QBP&#x27;, &#x27;QCBP&#x27;, &#x27;QIBP&#x27;, &#x27;TBP&#x27;, &#x27;VBP&#x27;, &#x27;PS&#x27;, &#x27;SOLIN&#x27;, &#x27;SHFLX&#x27;, &#x27;LHFLX&#x27;,\n",
       "       &#x27;PHQ&#x27;, &#x27;PHCLDLIQ&#x27;, &#x27;PHCLDICE&#x27;, &#x27;TPHYSTND&#x27;, &#x27;QRL&#x27;, &#x27;QRS&#x27;, &#x27;DTVKE&#x27;,\n",
       "       &#x27;FSNT&#x27;, &#x27;FSNS&#x27;, &#x27;FLNT&#x27;, &#x27;FLNS&#x27;, &#x27;PRECT&#x27;, &#x27;PRECTEND&#x27;, &#x27;PRECST&#x27;,\n",
       "       &#x27;PRECSTEN&#x27;, &#x27;Qdt_adiabatic&#x27;, &#x27;QCdt_adiabatic&#x27;, &#x27;QIdt_adiabatic&#x27;,\n",
       "       &#x27;Tdt_adiabatic&#x27;, &#x27;Vdt_adiabatic&#x27;, &#x27;PHQt-dt&#x27;, &#x27;TPHYSTNDt-dt&#x27;, &#x27;FSNTt-dt&#x27;,\n",
       "       &#x27;FSNSt-dt&#x27;, &#x27;FLNTt-dt&#x27;, &#x27;FLNSt-dt&#x27;, &#x27;PRECTt-dt&#x27;, &#x27;RH&#x27;, &#x27;BMSE&#x27;,\n",
       "       &#x27;LHF_nsDELQ&#x27;], dtype=object)</pre></li></ul></div></li><li class='xr-section-item'><input id='section-00854f4c-84b2-477f-b67a-969543f2ebf7' class='xr-section-summary-in' type='checkbox'  checked><label for='section-00854f4c-84b2-477f-b67a-969543f2ebf7' class='xr-section-summary' >Data variables: <span>(5)</span></label><div class='xr-section-inline-details'></div><div class='xr-section-details'><ul class='xr-var-list'><li class='xr-var-item'><div class='xr-var-name'><span>mean</span></div><div class='xr-var-dims'>(var_names)</div><div class='xr-var-dtype'>float64</div><div class='xr-var-preview xr-preview'>1.655e-06 1.61e-06 ... 0.007954</div><input id='attrs-e678559c-9f60-4919-942b-486726e71dab' class='xr-var-attrs-in' type='checkbox' disabled><label for='attrs-e678559c-9f60-4919-942b-486726e71dab' title='Show/Hide attributes'><svg class='icon xr-icon-file-text2'><use xlink:href='#icon-file-text2'></use></svg></label><input id='data-05792085-21e5-4cd3-a2d9-a88ea65352b2' class='xr-var-data-in' type='checkbox'><label for='data-05792085-21e5-4cd3-a2d9-a88ea65352b2' title='Show/Hide data repr'><svg class='icon xr-icon-database'><use xlink:href='#icon-database'></use></svg></label><div class='xr-var-attrs'><dl class='xr-attrs'></dl></div><pre class='xr-var-data'>array([ 1.65490701e-06,  1.60977231e-06,  1.25134920e-06,  1.32252080e-06,\n",
       "        1.21504206e-06,  1.13864201e-06,  1.20267748e-06,  1.27180010e-06,\n",
       "        1.48661900e-06,  2.08154233e-06,  3.61759612e-06,  8.29659257e-06,\n",
       "        1.91388026e-05,  4.09034001e-05,  8.28078555e-05,  1.57798175e-04,\n",
       "        2.90706550e-04,  5.21253853e-04,  8.98803351e-04,  1.45990250e-03,\n",
       "        2.30280589e-03,  3.48724634e-03,  4.81598545e-03,  5.64838341e-03,\n",
       "        6.21533068e-03,  6.66121626e-03,  6.98323827e-03,  7.25318119e-03,\n",
       "        7.44542666e-03,  7.98365194e-03,  0.00000000e+00,  0.00000000e+00,\n",
       "        0.00000000e+00,  0.00000000e+00,  0.00000000e+00,  0.00000000e+00,\n",
       "        0.00000000e+00,  0.00000000e+00,  0.00000000e+00,  0.00000000e+00,\n",
       "        0.00000000e+00,  0.00000000e+00,  0.00000000e+00,  0.00000000e+00,\n",
       "        1.77991752e-29,  2.48709959e-11,  8.70381029e-08,  9.82898996e-07,\n",
       "        2.49817776e-06,  4.37761810e-06,  7.93542313e-06,  1.53488400e-05,\n",
       "        3.13594974e-05,  3.87354848e-05,  3.11420190e-05,  2.33904957e-05,\n",
       "        1.45284139e-05,  7.64739889e-06,  4.99250655e-06,  4.32171737e-06,\n",
       "        1.77138704e-09,  1.94747152e-09,  2.97685676e-09,  1.42730758e-11,\n",
       "        3.12758782e-12,  7.88840087e-12,  6.73009926e-10,  2.99652818e-08,\n",
       "        1.33221675e-07,  4.59886223e-07,  1.12479199e-06,  2.05053084e-06,\n",
       "        3.07420783e-06,  4.04237699e-06,  4.93017706e-06,  5.47681020e-06,\n",
       "        5.89795445e-06,  5.72882982e-06,  5.11388362e-06,  4.52088716e-06,\n",
       "        3.91686581e-06,  3.92287438e-06,  4.74306989e-06,  6.09795916e-06,\n",
       "        4.73738919e-06,  2.38089979e-06,  4.27506507e-07,  8.63057181e-09,\n",
       "        6.06247053e-10,  2.47667636e-10,  2.41120377e+02,  2.36409531e+02,\n",
       "        2.24904907e+02,  2.38087341e+02,  2.37901886e+02,  2.36464081e+02,\n",
       "        2.28494003e+02,  2.25452240e+02,  2.29123871e+02,  2.35577774e+02,\n",
       "        2.35431488e+02,  2.35567520e+02,  2.36163437e+02,  2.41480392e+02,\n",
       "        2.43928955e+02,  2.47061829e+02,  2.50802628e+02,  2.53757736e+02,\n",
       "        2.55586899e+02,  2.56965302e+02,  2.57616669e+02,  2.58223785e+02,\n",
       "        2.59492523e+02,  2.60223145e+02,  2.60703094e+02,  2.61118927e+02,\n",
       "        2.61580994e+02,  2.62037537e+02,  2.62781616e+02,  2.63217072e+02,\n",
       "        2.25006297e-01,  7.29389340e-02,  6.54194430e-02, -4.75727692e-02,\n",
       "        6.46841154e-02, -4.17444594e-02,  1.04619730e-02, -5.95965572e-02,\n",
       "       -8.89930204e-02, -1.58774123e-01, -2.74782807e-01, -4.25266832e-01,\n",
       "       -4.99211252e-01, -3.87834340e-01, -1.13353483e-01,  8.58197361e-02,\n",
       "        9.97826159e-02,  4.76691313e-02,  3.30327041e-02,  2.11180802e-02,\n",
       "        1.76724717e-02,  2.69175358e-02,  9.87402946e-02,  1.72270179e-01,\n",
       "        1.88677609e-01,  1.97878614e-01,  2.42180660e-01,  3.08622956e-01,\n",
       "        3.50007951e-01,  3.70997012e-01,  1.09561484e+05,  3.24290985e+02,\n",
       "        1.08900232e+01,  7.03711777e+01,  0.00000000e+00,  0.00000000e+00,\n",
       "       -1.84405456e-13,  1.06615129e-13, -1.07740558e-14, -1.32280517e-14,\n",
       "       -1.16558154e-14, -2.93854906e-14, -6.57166812e-13, -4.08891020e-12,\n",
       "       -1.88146686e-11, -6.94184710e-11, -2.14705906e-10, -5.42950629e-10,\n",
       "       -1.04672615e-09, -1.61538394e-09, -2.28162444e-09, -2.80745405e-09,\n",
       "       -3.18296145e-09, -3.20787952e-09, -2.14569273e-09,  1.39610379e-09,\n",
       "        4.37245129e-09,  3.34261574e-09,  4.02649958e-09,  4.56303839e-09,\n",
       "        4.40949810e-09,  5.23432941e-09,  5.39124922e-09,  5.89879612e-09,\n",
       "        0.00000000e+00,  0.00000000e+00,  0.00000000e+00,  0.00000000e+00,\n",
       "        0.00000000e+00,  0.00000000e+00,  0.00000000e+00,  0.00000000e+00,\n",
       "        0.00000000e+00,  0.00000000e+00,  0.00000000e+00,  0.00000000e+00,\n",
       "        0.00000000e+00,  0.00000000e+00, -9.88842819e-33, -1.38172080e-14,\n",
       "       -4.82590565e-11, -7.04136610e-11, -7.27697902e-11, -1.00556910e-10,\n",
       "       -7.42960762e-11, -5.25951201e-12,  8.38130884e-11,  3.61717795e-10,\n",
       "        9.26581242e-11,  1.27410860e-10,  1.09590850e-10,  8.65514743e-11,\n",
       "        7.00640587e-11,  3.71158763e-11,  0.00000000e+00,  0.00000000e+00,\n",
       "       -7.97625939e-15, -2.31658090e-15, -2.53724517e-17, -1.42955048e-16,\n",
       "       -7.15670419e-15, -7.49730735e-13, -4.56841726e-12, -1.75863091e-11,\n",
       "       -4.46432578e-11, -7.48728163e-11, -9.97315355e-11, -1.16073103e-10,\n",
       "       -9.02798947e-11, -5.27740872e-11,  4.97895683e-11,  5.88881235e-11,\n",
       "        2.17344510e-11,  3.61122382e-11,  2.16717391e-11,  7.18074558e-12,\n",
       "        2.53619001e-12,  1.93240424e-11,  6.08698378e-12, -4.83259439e-12,\n",
       "       -6.41074086e-12, -7.07972580e-13, -3.42395756e-14, -5.65681372e-16,\n",
       "        1.11032546e-06, -6.73710531e-07, -1.00359930e-05,  1.55390844e-05,\n",
       "       -1.65954248e-06, -8.18044796e-08, -7.55903613e-07, -5.73859381e-07,\n",
       "       -1.07240133e-07, -5.53748350e-07, -1.37090251e-06, -2.96365056e-06,\n",
       "       -3.78425239e-06, -4.43904582e-06, -4.68912185e-06, -4.93969765e-06,\n",
       "       -4.53720577e-06, -3.28954320e-06, -1.41573037e-06, -4.85339058e-07,\n",
       "       -1.25657937e-06, -3.65456913e-06, -3.36725725e-06,  2.07562471e-06,\n",
       "        4.25782446e-06,  6.54483392e-06,  7.48146749e-06,  7.47545118e-06,\n",
       "        6.17171690e-06,  4.06227173e-06, -3.80453639e-05, -2.75972743e-05,\n",
       "       -1.85792942e-06, -1.75181285e-05, -9.92301102e-06, -5.53735163e-06,\n",
       "       -3.35629738e-06, -2.42941155e-06, -2.80418294e-06, -3.18909133e-06,\n",
       "       -4.24633436e-06, -6.23125788e-06, -8.25527786e-06, -1.03910988e-05,\n",
       "       -1.27084113e-05, -1.57807790e-05, -1.82869353e-05, -1.94930562e-05,\n",
       "       -1.86902762e-05, -1.85758581e-05, -2.01178245e-05, -2.36626747e-05,\n",
       "       -3.09304960e-05, -3.73145995e-05, -2.85167498e-05, -2.00222439e-05,\n",
       "       -1.39264639e-05, -1.11997633e-05, -1.22209995e-05, -1.67959843e-05,\n",
       "        3.92731490e-05,  2.79519663e-05,  2.01791809e-05,  1.31682373e-05,\n",
       "        8.60972796e-06,  5.68681889e-06,  3.82260851e-06,  2.95772634e-06,\n",
       "        2.54295082e-06,  2.46551144e-06,  2.64543610e-06,  3.02553485e-06,\n",
       "        3.58485659e-06,  4.10049870e-06,  4.55027339e-06,  5.10827340e-06,\n",
       "        5.90553555e-06,  6.49683443e-06,  6.64452728e-06,  6.71007183e-06,\n",
       "        7.13836516e-06,  8.42113241e-06,  9.96811741e-06,  1.03955163e-05,\n",
       "        8.96045913e-06,  7.46295109e-06,  6.14395458e-06,  5.32383820e-06,\n",
       "        4.94513188e-06,  4.95181712e-06,  9.86199069e-08,  1.26155584e-07,\n",
       "        1.16278031e-07,  1.17038518e-07,  1.41040346e-07,  2.71284392e-07,\n",
       "        1.22761651e-06,  6.09813515e-06,  1.21693056e-05,  1.65166493e-05,\n",
       "        1.70695694e-05,  1.37090328e-05,  1.14211134e-05,  1.08442828e-05,\n",
       "        8.47681895e-06,  5.08131370e-06,  2.75605476e-06,  1.37553354e-06,\n",
       "        6.18688603e-07,  3.56458969e-07,  3.05132488e-07,  6.78447577e-07,\n",
       "        5.80988126e-06,  2.71326207e-05,  5.80963097e-05,  1.11727961e-04,\n",
       "        2.01186718e-04,  3.64433188e-04,  7.08495965e-04,  1.88553892e-02,\n",
       "        2.30310211e+02,  1.63336288e+02,  2.31844223e+02,  5.26923752e+01,\n",
       "        3.00125222e-08,  1.99216554e-08,  5.09223907e-09,  9.14802385e-08,\n",
       "       -1.27310356e-14, -1.11603054e-14,  1.79005966e-13, -1.16670914e-13,\n",
       "        2.65216964e-15,  6.25383017e-15,  7.02391695e-15,  2.37766519e-14,\n",
       "        6.38299851e-13,  4.04370070e-12,  1.87371403e-11,  6.94706445e-11,\n",
       "        2.13965207e-10,  5.40099909e-10,  1.04790399e-09,  1.62971137e-09,\n",
       "        2.32044672e-09,  2.86494695e-09,  3.20448379e-09,  3.15984350e-09,\n",
       "        2.08681694e-09, -1.39464507e-09, -4.42520287e-09, -3.41144624e-09,\n",
       "       -4.09619938e-09, -4.63660088e-09, -4.50363613e-09, -5.33178479e-09,\n",
       "       -5.48579360e-09, -6.09678086e-09,  0.00000000e+00,  0.00000000e+00,\n",
       "        0.00000000e+00,  0.00000000e+00,  0.00000000e+00,  0.00000000e+00,\n",
       "        0.00000000e+00,  0.00000000e+00,  0.00000000e+00,  0.00000000e+00,\n",
       "        0.00000000e+00,  0.00000000e+00,  0.00000000e+00,  0.00000000e+00,\n",
       "        9.88842819e-33,  1.38172089e-14,  4.82312350e-11,  7.04688946e-11,\n",
       "        7.27423607e-11,  1.01041432e-10,  7.47688370e-11,  6.05828365e-12,\n",
       "       -8.62759308e-11, -3.65425301e-10, -9.33482736e-11, -1.27664171e-10,\n",
       "       -1.10191752e-10, -8.77655448e-11, -7.19974913e-11, -3.74960861e-11,\n",
       "       -3.47566867e-17, -6.58443973e-17,  8.45917066e-15,  2.32473995e-15,\n",
       "        4.14200865e-17,  1.37834442e-16,  9.00644797e-15,  7.50311163e-13,\n",
       "        4.54254212e-12,  1.75455709e-11,  4.47380674e-11,  7.53886814e-11,\n",
       "        1.00461653e-10,  1.16888166e-10,  9.09097173e-11,  5.36309885e-11,\n",
       "       -4.87202848e-11, -5.76835801e-11, -2.01158638e-11, -3.54309776e-11,\n",
       "       -2.14961521e-11, -7.49498207e-12, -2.95507781e-12, -1.95133631e-11,\n",
       "       -6.12557878e-12,  4.99914520e-12,  6.47651681e-12,  7.00289490e-13,\n",
       "        3.09958155e-14,  5.54767024e-15, -1.20166908e-06,  6.21036577e-07,\n",
       "        9.78610387e-06, -1.53252604e-05,  1.76268929e-06,  9.08225033e-08,\n",
       "        6.24389713e-07,  3.66146878e-07,  4.32943317e-08,  5.20341530e-07,\n",
       "        1.20246978e-06,  2.68129747e-06,  3.65456458e-06,  4.45123533e-06,\n",
       "        4.67906375e-06,  4.80451808e-06,  4.34809454e-06,  3.03695538e-06,\n",
       "        1.13693545e-06,  2.69356974e-07,  1.03628179e-06,  3.43126294e-06,\n",
       "        3.23242102e-06, -2.21488244e-06, -4.40390249e-06, -6.65365405e-06,\n",
       "       -7.53609083e-06, -7.43009468e-06, -5.90904710e-06,  6.55891290e-06,\n",
       "        1.32606942e-07, -1.42198786e-07,  6.43725118e-09,  2.15315570e-08,\n",
       "       -1.23708361e-07,  1.62842149e-08, -3.53617168e-07, -2.29520552e-07,\n",
       "        2.22604957e-08, -4.51914808e-08,  2.86723804e-07,  5.99683233e-07,\n",
       "        5.44909994e-07,  5.05314404e-08, -1.11471230e-07, -1.57871796e-07,\n",
       "       -3.30998461e-07, -1.78165322e-07,  1.10490731e-07,  9.48061825e-08,\n",
       "       -5.98585146e-08, -1.15723630e-07, -2.20791108e-07, -6.80701135e-07,\n",
       "       -2.04456364e-06, -4.80243716e-06, -4.59316198e-06,  3.74668866e-06,\n",
       "        1.67309699e-05,  3.12320226e-05,  0.00000000e+00,  0.00000000e+00,\n",
       "       -1.84405456e-13,  1.06615129e-13, -1.07740558e-14, -1.32280517e-14,\n",
       "       -1.16558154e-14, -2.93854906e-14, -6.57166812e-13, -4.08891020e-12,\n",
       "       -1.88146686e-11, -6.94184710e-11, -2.14705906e-10, -5.42950629e-10,\n",
       "       -1.04672615e-09, -1.61538394e-09, -2.28162444e-09, -2.80745405e-09,\n",
       "       -3.18296145e-09, -3.20787952e-09, -2.14569273e-09,  1.39610379e-09,\n",
       "        4.37245129e-09,  3.34261574e-09,  4.02649958e-09,  4.56303839e-09,\n",
       "        4.40949810e-09,  5.23432941e-09,  5.39124922e-09,  5.89879612e-09,\n",
       "        1.11032546e-06, -6.73710531e-07, -1.00359930e-05,  1.55390844e-05,\n",
       "       -1.65954248e-06, -8.18044796e-08, -7.55903613e-07, -5.73859381e-07,\n",
       "       -1.07240133e-07, -5.53748350e-07, -1.37090251e-06, -2.96365056e-06,\n",
       "       -3.78425239e-06, -4.43904582e-06, -4.68912185e-06, -4.93969765e-06,\n",
       "       -4.53720577e-06, -3.28954320e-06, -1.41573037e-06, -4.85339058e-07,\n",
       "       -1.25657937e-06, -3.65456913e-06, -3.36725725e-06,  2.07562471e-06,\n",
       "        4.25782446e-06,  6.54483392e-06,  7.48146749e-06,  7.47545118e-06,\n",
       "        6.17171690e-06,  4.06227173e-06,  2.30310211e+02,  1.63336288e+02,\n",
       "        2.31844223e+02,  5.26923752e+01,  3.00125222e-08,  8.77171272e-02,\n",
       "        1.48052742e-01,  1.41729841e-01,  6.80493760e-02,  6.64372813e-02,\n",
       "        7.13926907e-02,  1.58385197e-01,  2.36197384e-01,  2.16699081e-01,\n",
       "        2.32354184e-01,  2.86990578e-01,  3.55863989e-01,  4.24678847e-01,\n",
       "        4.72292201e-01,  5.06554410e-01,  5.48651863e-01,  5.77149146e-01,\n",
       "        5.89031598e-01,  5.84185394e-01,  5.82645782e-01,  6.14622873e-01,\n",
       "        7.05697300e-01,  8.33210157e-01,  8.83144841e-01,  9.03958336e-01,\n",
       "        9.06710168e-01,  8.94107562e-01,  8.68933266e-01,  8.34779466e-01,\n",
       "        8.33418376e-01, -4.00554868e+00, -5.51612582e+00, -7.53976408e+00,\n",
       "       -4.92733378e+00, -4.75926980e+00, -4.06667155e+00, -3.29265373e+00,\n",
       "       -2.76421626e+00, -2.39479296e+00, -2.03422430e+00, -1.67829473e+00,\n",
       "       -1.32668592e+00, -1.00346602e+00, -7.32355679e-01, -5.21988785e-01,\n",
       "       -3.62944323e-01, -2.42846319e-01, -1.49522538e-01, -7.19474030e-02,\n",
       "       -7.33157626e-03,  3.52665651e-02,  5.46795283e-02,  5.61516069e-02,\n",
       "        5.10403021e-02,  4.21202158e-02,  3.24117022e-02,  2.38070651e-02,\n",
       "        1.66014297e-02,  1.35225718e-02, -2.98660228e-04,  7.95444569e-03])</pre></li><li class='xr-var-item'><div class='xr-var-name'><span>std</span></div><div class='xr-var-dims'>(var_names)</div><div class='xr-var-dtype'>float64</div><div class='xr-var-preview xr-preview'>2.691e-07 2.58e-07 ... 0.005171</div><input id='attrs-47453b2d-e46f-4fde-83fb-a6d8c16ada47' class='xr-var-attrs-in' type='checkbox' disabled><label for='attrs-47453b2d-e46f-4fde-83fb-a6d8c16ada47' title='Show/Hide attributes'><svg class='icon xr-icon-file-text2'><use xlink:href='#icon-file-text2'></use></svg></label><input id='data-2d790cf1-f19f-42ae-94bf-03b790f4d505' class='xr-var-data-in' type='checkbox'><label for='data-2d790cf1-f19f-42ae-94bf-03b790f4d505' title='Show/Hide data repr'><svg class='icon xr-icon-database'><use xlink:href='#icon-database'></use></svg></label><div class='xr-var-attrs'><dl class='xr-attrs'></dl></div><pre class='xr-var-data'>array([2.69140145e-07, 2.58005684e-07, 3.15275315e-07, 1.95550740e-07,\n",
       "       2.07848657e-07, 2.43023266e-07, 2.72312747e-07, 3.65450546e-07,\n",
       "       4.47103673e-07, 9.62855211e-07, 3.30863350e-06, 1.06295283e-05,\n",
       "       2.87134208e-05, 6.65922053e-05, 1.40905147e-04, 2.70612392e-04,\n",
       "       4.76137211e-04, 7.87169382e-04, 1.25002977e-03, 1.81973388e-03,\n",
       "       2.49684090e-03, 3.29816784e-03, 4.11090953e-03, 4.44192067e-03,\n",
       "       4.71646152e-03, 5.03629260e-03, 5.29786525e-03, 5.46803325e-03,\n",
       "       5.56150079e-03, 5.82053931e-03, 0.00000000e+00, 0.00000000e+00,\n",
       "       0.00000000e+00, 0.00000000e+00, 0.00000000e+00, 0.00000000e+00,\n",
       "       0.00000000e+00, 0.00000000e+00, 0.00000000e+00, 0.00000000e+00,\n",
       "       0.00000000e+00, 0.00000000e+00, 0.00000000e+00, 0.00000000e+00,\n",
       "       0.00000000e+00, 1.20509496e-08, 1.19304980e-06, 8.45344766e-06,\n",
       "       1.80832176e-05, 2.46032487e-05, 3.35267287e-05, 4.47588354e-05,\n",
       "       6.27823247e-05, 7.12679612e-05, 5.05829266e-05, 3.78814111e-05,\n",
       "       3.06210241e-05, 2.89519521e-05, 3.50079863e-05, 4.91167557e-05,\n",
       "       3.04614711e-09, 3.64807740e-09, 9.57906998e-09, 7.79531578e-11,\n",
       "       1.59997821e-10, 6.84145673e-09, 1.79401340e-07, 2.59509170e-06,\n",
       "       5.26894019e-06, 8.97352311e-06, 1.31325278e-05, 1.66903064e-05,\n",
       "       1.95215598e-05, 2.22195122e-05, 2.47712796e-05, 2.51745023e-05,\n",
       "       2.25116783e-05, 1.74489833e-05, 1.55893704e-05, 1.33063486e-05,\n",
       "       1.15762468e-05, 1.09934035e-05, 1.10890196e-05, 1.16495630e-05,\n",
       "       8.57618670e-06, 4.54375459e-06, 1.16571448e-06, 2.36509763e-07,\n",
       "       9.89717535e-08, 8.21990866e-08, 2.89488602e+01, 2.67563648e+01,\n",
       "       2.81640797e+01, 2.51680088e+01, 2.52554855e+01, 2.78251247e+01,\n",
       "       2.59012260e+01, 2.45990391e+01, 2.58337975e+01, 2.90308914e+01,\n",
       "       2.72109280e+01, 2.52099419e+01, 2.33455315e+01, 2.54824581e+01,\n",
       "       2.38018417e+01, 2.15136166e+01, 1.90509987e+01, 1.60477314e+01,\n",
       "       1.34818840e+01, 1.33195705e+01, 1.49122829e+01, 1.64450932e+01,\n",
       "       1.70215874e+01, 1.79459934e+01, 1.86784172e+01, 1.95054932e+01,\n",
       "       2.03586445e+01, 2.12210617e+01, 2.17979641e+01, 2.25416794e+01,\n",
       "       1.45517321e+01, 1.05844345e+01, 8.35224056e+00, 6.90760517e+00,\n",
       "       5.66056013e+00, 5.11664724e+00, 5.37692976e+00, 6.22239447e+00,\n",
       "       6.96781778e+00, 7.92875242e+00, 9.16476536e+00, 1.04274178e+01,\n",
       "       1.13718290e+01, 1.17398796e+01, 1.14808159e+01, 1.07158623e+01,\n",
       "       9.56742477e+00, 8.24789524e+00, 7.00619364e+00, 6.16072702e+00,\n",
       "       5.69937754e+00, 5.52297258e+00, 5.55780172e+00, 5.74606180e+00,\n",
       "       6.00794125e+00, 6.30028772e+00, 6.45045280e+00, 6.40977812e+00,\n",
       "       6.20179653e+00, 5.84421492e+00, 1.17165684e+04, 4.18661896e+02,\n",
       "       1.42491674e+01, 7.67799759e+01, 0.00000000e+00, 0.00000000e+00,\n",
       "       1.64674589e-12, 9.44853245e-13, 5.16140733e-13, 3.44339141e-12,\n",
       "       2.99424830e-12, 4.38227883e-12, 1.77040951e-11, 6.40397874e-11,\n",
       "       2.07698608e-10, 6.21060425e-10, 1.70158210e-09, 4.10889101e-09,\n",
       "       8.01412092e-09, 1.26674022e-08, 1.79536830e-08, 2.15291376e-08,\n",
       "       2.42397142e-08, 2.83071397e-08, 3.55947307e-08, 4.76447326e-08,\n",
       "       5.97796159e-08, 7.42605479e-08, 7.68462414e-08, 7.83426160e-08,\n",
       "       7.46609246e-08, 6.65830200e-08, 6.80547103e-08, 9.10448179e-08,\n",
       "       0.00000000e+00, 0.00000000e+00, 0.00000000e+00, 0.00000000e+00,\n",
       "       0.00000000e+00, 0.00000000e+00, 0.00000000e+00, 0.00000000e+00,\n",
       "       0.00000000e+00, 0.00000000e+00, 0.00000000e+00, 0.00000000e+00,\n",
       "       0.00000000e+00, 0.00000000e+00, 0.00000000e+00, 6.69497053e-12,\n",
       "       6.62113586e-10, 2.65265387e-09, 6.66374866e-09, 8.85565310e-09,\n",
       "       1.17141035e-08, 1.59777969e-08, 2.23700063e-08, 2.54900012e-08,\n",
       "       2.03890966e-08, 1.45492107e-08, 9.01995989e-09, 4.99117148e-09,\n",
       "       3.22773874e-09, 3.58799745e-09, 0.00000000e+00, 0.00000000e+00,\n",
       "       1.11971099e-12, 4.09054504e-14, 7.68994785e-14, 4.69010724e-12,\n",
       "       9.54946747e-11, 1.07829545e-09, 1.92594229e-09, 2.97885205e-09,\n",
       "       4.03559719e-09, 4.74777906e-09, 5.31469535e-09, 6.12373707e-09,\n",
       "       6.80248480e-09, 6.82357815e-09, 6.53282584e-09, 5.04035036e-09,\n",
       "       4.52565851e-09, 4.77408335e-09, 5.15557774e-09, 5.39093614e-09,\n",
       "       5.52857093e-09, 4.81438134e-09, 3.23082827e-09, 1.70485714e-09,\n",
       "       4.72298034e-10, 4.49903864e-11, 1.47703169e-11, 1.20410288e-11,\n",
       "       4.20487449e-05, 3.03256347e-05, 3.30667826e-05, 2.39768833e-05,\n",
       "       8.85468125e-06, 6.60268188e-06, 6.22693460e-06, 9.66824700e-06,\n",
       "       1.07087371e-05, 1.18607622e-05, 1.33707354e-05, 1.68699025e-05,\n",
       "       2.13984313e-05, 2.49636250e-05, 3.38006175e-05, 4.51004016e-05,\n",
       "       5.61425804e-05, 6.18907361e-05, 6.34784155e-05, 6.46215049e-05,\n",
       "       6.57171986e-05, 7.26220533e-05, 7.80541668e-05, 8.08172044e-05,\n",
       "       7.19238014e-05, 6.23596934e-05, 5.21168804e-05, 4.57982133e-05,\n",
       "       4.66328747e-05, 6.13757657e-05, 1.82970889e-05, 1.23045675e-05,\n",
       "       4.79789423e-06, 9.64492301e-06, 5.57168187e-06, 5.56991654e-06,\n",
       "       4.93734069e-06, 6.15341696e-06, 7.42471639e-06, 9.70193014e-06,\n",
       "       1.14892673e-05, 1.31624638e-05, 1.58152488e-05, 1.57544964e-05,\n",
       "       1.48355057e-05, 1.30193939e-05, 1.15298471e-05, 1.06159978e-05,\n",
       "       9.81818539e-06, 9.88963984e-06, 1.14376917e-05, 1.61273547e-05,\n",
       "       2.80502845e-05, 4.38540337e-05, 3.60508056e-05, 2.83637819e-05,\n",
       "       2.23318730e-05, 1.92184234e-05, 2.13425537e-05, 2.69717402e-05,\n",
       "       4.75521119e-05, 3.37499623e-05, 2.37536569e-05, 1.47590645e-05,\n",
       "       9.41226790e-06, 6.33347554e-06, 4.60921137e-06, 4.44256557e-06,\n",
       "       4.92238223e-06, 6.82155132e-06, 8.34507227e-06, 9.23242351e-06,\n",
       "       1.02810136e-05, 1.06117814e-05, 1.00584402e-05, 9.50304366e-06,\n",
       "       9.73927126e-06, 9.60493344e-06, 9.58724650e-06, 9.69787106e-06,\n",
       "       1.03161447e-05, 1.30752369e-05, 1.56817969e-05, 1.72591335e-05,\n",
       "       1.45589229e-05, 1.17708942e-05, 1.00723901e-05, 8.81413507e-06,\n",
       "       9.06001151e-06, 1.01085798e-05, 1.72594966e-07, 1.93745180e-07,\n",
       "       1.49723945e-07, 1.42472089e-07, 1.76651668e-07, 4.80728602e-07,\n",
       "       1.57886989e-05, 5.30844445e-05, 9.64855717e-05, 1.29654887e-04,\n",
       "       1.45073849e-04, 1.27899955e-04, 1.01265010e-04, 9.02203901e-05,\n",
       "       6.67464847e-05, 3.90488640e-05, 2.68319545e-05, 1.72323817e-05,\n",
       "       8.16853117e-06, 2.90467415e-06, 2.45691831e-06, 1.02519371e-05,\n",
       "       4.88369260e-05, 1.36400966e-04, 2.03072443e-04, 3.54143645e-04,\n",
       "       6.46483852e-04, 1.10799086e-03, 1.97859178e-03, 3.55641544e-02,\n",
       "       3.16437195e+02, 2.40660278e+02, 4.59179840e+01, 2.73094864e+01,\n",
       "       1.07634975e-07, 2.23587886e-05, 1.39119232e-08, 9.45345255e-06,\n",
       "       4.73498356e-13, 3.84762887e-13, 1.93568317e-12, 1.24649271e-12,\n",
       "       5.03657337e-13, 7.56013308e-13, 1.17811186e-12, 2.47995569e-12,\n",
       "       9.28770602e-12, 4.22092569e-11, 1.65625555e-10, 5.48383228e-10,\n",
       "       1.56218816e-09, 3.85825283e-09, 7.72264741e-09, 1.23493260e-08,\n",
       "       1.75290698e-08, 2.09494395e-08, 2.43918379e-08, 2.93194464e-08,\n",
       "       3.51482932e-08, 4.01204048e-08, 3.97667392e-08, 3.77375393e-08,\n",
       "       3.59598005e-08, 3.37191679e-08, 3.09834967e-08, 2.80513568e-08,\n",
       "       2.77836882e-08, 3.54126435e-08, 0.00000000e+00, 0.00000000e+00,\n",
       "       0.00000000e+00, 0.00000000e+00, 0.00000000e+00, 0.00000000e+00,\n",
       "       0.00000000e+00, 0.00000000e+00, 0.00000000e+00, 0.00000000e+00,\n",
       "       0.00000000e+00, 0.00000000e+00, 0.00000000e+00, 0.00000000e+00,\n",
       "       0.00000000e+00, 6.69497053e-12, 6.60506538e-10, 8.61058835e-10,\n",
       "       1.01650666e-09, 1.43788725e-09, 2.17274776e-09, 3.03107539e-09,\n",
       "       3.87422761e-09, 4.71317030e-09, 3.72058939e-09, 3.10705972e-09,\n",
       "       2.45366127e-09, 1.93185290e-09, 2.15018670e-09, 4.56534366e-09,\n",
       "       8.43274154e-15, 1.24491109e-14, 1.14058990e-12, 2.72734665e-14,\n",
       "       4.80374915e-14, 2.11099584e-13, 1.03295905e-11, 1.43262735e-10,\n",
       "       3.20040161e-10, 5.46550583e-10, 8.40123415e-10, 1.13393361e-09,\n",
       "       1.54474133e-09, 1.84088877e-09, 1.95368943e-09, 1.99904893e-09,\n",
       "       2.49954279e-09, 2.20770402e-09, 2.02440442e-09, 2.02584172e-09,\n",
       "       2.00102734e-09, 2.01541850e-09, 2.07065987e-09, 1.74904591e-09,\n",
       "       1.15743004e-09, 6.40386355e-10, 1.90370761e-10, 1.97619074e-11,\n",
       "       4.56986836e-12, 2.10815892e-12, 7.32651752e-05, 6.15908939e-05,\n",
       "       5.16160471e-05, 3.69274021e-05, 4.12360350e-05, 4.05959654e-05,\n",
       "       4.06629733e-05, 4.03101512e-05, 3.82726466e-05, 4.10305038e-05,\n",
       "       4.68224061e-05, 5.33184138e-05, 5.45652765e-05, 5.00060778e-05,\n",
       "       5.12060833e-05, 6.05159257e-05, 7.27624065e-05, 8.00071939e-05,\n",
       "       8.01746646e-05, 7.68386599e-05, 7.33892157e-05, 7.37784358e-05,\n",
       "       7.15429051e-05, 7.03036421e-05, 6.36956756e-05, 5.61489505e-05,\n",
       "       4.82896830e-05, 4.18564050e-05, 3.93564369e-05, 4.85802957e-05,\n",
       "       2.14938234e-04, 1.44765494e-04, 1.19694261e-04, 1.02957885e-04,\n",
       "       8.75266996e-05, 8.28924531e-05, 8.89383809e-05, 1.02404963e-04,\n",
       "       1.12624242e-04, 1.26928746e-04, 1.47179075e-04, 1.75998895e-04,\n",
       "       2.08501369e-04, 2.34340856e-04, 2.45005969e-04, 2.37417218e-04,\n",
       "       2.13427687e-04, 1.80235991e-04, 1.46449383e-04, 1.23147998e-04,\n",
       "       1.13204158e-04, 1.13779839e-04, 1.21735771e-04, 1.34854388e-04,\n",
       "       1.49087573e-04, 1.64509867e-04, 1.78673872e-04, 1.94376684e-04,\n",
       "       2.19049660e-04, 2.60394678e-04, 0.00000000e+00, 0.00000000e+00,\n",
       "       1.64674589e-12, 9.44853245e-13, 5.16140733e-13, 3.44339141e-12,\n",
       "       2.99424830e-12, 4.38227883e-12, 1.77040951e-11, 6.40397874e-11,\n",
       "       2.07698608e-10, 6.21060425e-10, 1.70158210e-09, 4.10889101e-09,\n",
       "       8.01412092e-09, 1.26674022e-08, 1.79536830e-08, 2.15291376e-08,\n",
       "       2.42397142e-08, 2.83071397e-08, 3.55947307e-08, 4.76447326e-08,\n",
       "       5.97796159e-08, 7.42605479e-08, 7.68462414e-08, 7.83426160e-08,\n",
       "       7.46609246e-08, 6.65830200e-08, 6.80547103e-08, 9.10448179e-08,\n",
       "       4.20487449e-05, 3.03256347e-05, 3.30667826e-05, 2.39768833e-05,\n",
       "       8.85468125e-06, 6.60268188e-06, 6.22693460e-06, 9.66824700e-06,\n",
       "       1.07087371e-05, 1.18607622e-05, 1.33707354e-05, 1.68699025e-05,\n",
       "       2.13984313e-05, 2.49636250e-05, 3.38006175e-05, 4.51004016e-05,\n",
       "       5.61425804e-05, 6.18907361e-05, 6.34784155e-05, 6.46215049e-05,\n",
       "       6.57171986e-05, 7.26220533e-05, 7.80541668e-05, 8.08172044e-05,\n",
       "       7.19238014e-05, 6.23596934e-05, 5.21168804e-05, 4.57982133e-05,\n",
       "       4.66328747e-05, 6.13757657e-05, 3.16437195e+02, 2.40660278e+02,\n",
       "       4.59179840e+01, 2.73094864e+01, 1.07634975e-07, 2.32175795e-01,\n",
       "       4.09579067e-01, 3.26126673e-01, 1.84546453e-01, 1.84859928e-01,\n",
       "       1.68284495e-01, 2.26190179e-01, 3.12684566e-01, 2.81367808e-01,\n",
       "       3.02034536e-01, 3.39970239e-01, 3.55940224e-01, 3.50015989e-01,\n",
       "       3.32342540e-01, 3.18286926e-01, 3.15449966e-01, 3.25805242e-01,\n",
       "       3.36054062e-01, 3.36246310e-01, 3.23882740e-01, 3.00083891e-01,\n",
       "       2.46775793e-01, 1.56934035e-01, 9.95125119e-02, 7.15819098e-02,\n",
       "       6.08830239e-02, 6.57798447e-02, 7.74020146e-02, 8.98068649e-02,\n",
       "       9.58698485e-02, 4.17485445e+00, 2.63893186e+00, 7.63622332e-01,\n",
       "       1.27654461e+00, 6.79246903e-01, 9.24614707e-01, 1.21874491e+00,\n",
       "       1.30756958e+00, 1.25618299e+00, 1.16141897e+00, 1.03766656e+00,\n",
       "       8.87432952e-01, 7.26767022e-01, 5.82218288e-01, 4.69229045e-01,\n",
       "       3.91625533e-01, 3.37811223e-01, 2.90799604e-01, 2.39953217e-01,\n",
       "       1.86688072e-01, 1.37258086e-01, 9.46082175e-02, 6.08587436e-02,\n",
       "       4.45827192e-02, 3.65069933e-02, 2.96286448e-02, 2.39733908e-02,\n",
       "       1.90699762e-02, 1.35747693e-02, 1.06420012e-04, 5.17111286e-03])</pre></li><li class='xr-var-item'><div class='xr-var-name'><span>min</span></div><div class='xr-var-dims'>(var_names)</div><div class='xr-var-dtype'>float64</div><div class='xr-var-preview xr-preview'>1.074e-06 1.049e-06 ... -0.0243</div><input id='attrs-0f2de6c7-3b09-49ff-8dad-aa7ddf68c36c' class='xr-var-attrs-in' type='checkbox' disabled><label for='attrs-0f2de6c7-3b09-49ff-8dad-aa7ddf68c36c' title='Show/Hide attributes'><svg class='icon xr-icon-file-text2'><use xlink:href='#icon-file-text2'></use></svg></label><input id='data-98c5ecee-6203-41ae-8e21-3422521a4216' class='xr-var-data-in' type='checkbox'><label for='data-98c5ecee-6203-41ae-8e21-3422521a4216' title='Show/Hide data repr'><svg class='icon xr-icon-database'><use xlink:href='#icon-database'></use></svg></label><div class='xr-var-attrs'><dl class='xr-attrs'></dl></div><pre class='xr-var-data'>array([ 1.07360336e-06,  1.04927494e-06,  4.64357868e-07,  8.89313242e-07,\n",
       "        6.42930388e-07,  4.15302196e-07,  9.09597020e-08,  1.64368181e-08,\n",
       "        2.32422899e-08,  2.60085784e-08,  3.82985235e-08,  1.23004895e-08,\n",
       "        1.43860035e-08,  9.03616950e-08,  5.16981657e-08,  7.67779298e-08,\n",
       "        2.66308717e-08,  6.19428647e-07,  9.35699859e-07,  1.27455814e-06,\n",
       "        2.23215898e-06,  1.12324378e-05,  3.08892741e-05,  4.80826166e-05,\n",
       "        1.82277960e-04,  4.44781035e-04,  6.87780441e-04,  1.31737289e-03,\n",
       "        9.89836291e-04,  1.36196822e-05,  0.00000000e+00,  0.00000000e+00,\n",
       "        0.00000000e+00,  0.00000000e+00,  0.00000000e+00,  0.00000000e+00,\n",
       "        0.00000000e+00,  0.00000000e+00,  0.00000000e+00,  0.00000000e+00,\n",
       "        0.00000000e+00,  0.00000000e+00,  0.00000000e+00,  0.00000000e+00,\n",
       "        0.00000000e+00,  0.00000000e+00,  0.00000000e+00, -1.45519152e-11,\n",
       "       -2.91038305e-11, -2.91038305e-11, -2.91038305e-11, -2.91038305e-11,\n",
       "       -2.91038305e-11, -2.91038305e-11, -2.91038305e-11, -2.91038305e-11,\n",
       "       -1.45519152e-11, -7.27595761e-12, -3.63797881e-12, -7.27595761e-12,\n",
       "        5.80534622e-12,  2.76528128e-12, -1.77635684e-15, -1.38777878e-17,\n",
       "       -8.88178420e-16, -4.44089210e-16, -4.54747351e-13, -1.81898940e-12,\n",
       "       -7.27595761e-12, -7.27595761e-12, -5.82076609e-11, -2.91038305e-11,\n",
       "       -5.82076609e-11, -5.82076609e-11, -5.82076609e-11, -5.82076609e-11,\n",
       "       -2.91038305e-11, -5.82076609e-11, -2.91038305e-11, -2.91038305e-11,\n",
       "       -2.91038305e-11, -1.45519152e-11, -1.45519152e-11, -1.45519152e-11,\n",
       "       -7.27595761e-12, -3.63797881e-12, -9.09494702e-13, -2.27373675e-13,\n",
       "       -1.13686838e-13, -2.27373675e-13,  1.60716492e+02,  1.63241028e+02,\n",
       "        1.55604935e+02,  1.79021759e+02,  1.81446030e+02,  1.84009262e+02,\n",
       "        1.69950974e+02,  1.76100998e+02,  1.84058853e+02,  1.85003265e+02,\n",
       "        1.84266190e+02,  1.88020248e+02,  1.89476410e+02,  1.95280090e+02,\n",
       "        2.01456039e+02,  2.04783905e+02,  2.10930450e+02,  2.19987549e+02,\n",
       "        2.28884064e+02,  2.37865189e+02,  2.46233856e+02,  2.52669189e+02,\n",
       "        2.57346863e+02,  2.60326660e+02,  2.62274445e+02,  2.64108765e+02,\n",
       "        2.65823456e+02,  2.67444763e+02,  2.68822083e+02,  2.68631500e+02,\n",
       "       -1.24752060e+02, -8.37561035e+01, -6.74983444e+01, -5.80777321e+01,\n",
       "       -4.69087181e+01, -3.90771523e+01, -3.74089928e+01, -3.72317390e+01,\n",
       "       -4.61336250e+01, -5.45978012e+01, -6.39146347e+01, -7.25183411e+01,\n",
       "       -8.17544861e+01, -7.62082291e+01, -7.57269669e+01, -7.29464035e+01,\n",
       "       -6.35884056e+01, -5.61427002e+01, -4.91951714e+01, -4.06811676e+01,\n",
       "       -3.52130623e+01, -4.20174789e+01, -4.77360764e+01, -4.96135635e+01,\n",
       "       -4.90609703e+01, -4.64928856e+01, -4.20664482e+01, -3.79635315e+01,\n",
       "       -3.58529053e+01, -3.34683228e+01,  8.99998125e+04,  0.00000000e+00,\n",
       "       -7.30205231e+01, -9.76049728e+01,  0.00000000e+00,  0.00000000e+00,\n",
       "       -1.51575419e-10, -3.73105748e-11, -2.23536620e-10, -1.87390792e-09,\n",
       "       -9.26117016e-10, -4.54078192e-10, -1.25330246e-09, -2.99547054e-09,\n",
       "       -1.38002942e-08, -5.64394469e-08, -1.59093233e-07, -3.25143247e-07,\n",
       "       -5.26081692e-07, -7.00907776e-07, -7.83349890e-07, -8.87552858e-07,\n",
       "       -8.81948665e-07, -1.02271645e-06, -1.21962967e-06, -1.12735370e-06,\n",
       "       -1.17365369e-06, -1.20365087e-06, -1.38313260e-06, -1.46291177e-06,\n",
       "       -1.64631047e-06, -1.43467344e-06, -1.87268643e-06, -2.56884505e-06,\n",
       "        0.00000000e+00,  0.00000000e+00, -0.00000000e+00,  0.00000000e+00,\n",
       "        0.00000000e+00,  0.00000000e+00,  0.00000000e+00,  0.00000000e+00,\n",
       "        0.00000000e+00,  0.00000000e+00,  0.00000000e+00,  0.00000000e+00,\n",
       "        0.00000000e+00,  0.00000000e+00, -7.15708478e-26, -1.21041497e-08,\n",
       "       -5.99816303e-08, -1.83351546e-07, -2.95484625e-07, -4.61666730e-07,\n",
       "       -4.12047683e-07, -3.66690870e-07, -3.74801715e-07, -3.64701179e-07,\n",
       "       -2.69173256e-07, -2.44769382e-07, -1.68510681e-07, -1.34276178e-07,\n",
       "       -2.18046281e-07, -3.06364996e-07,  0.00000000e+00,  0.00000000e+00,\n",
       "       -4.53988444e-11, -1.79773661e-11, -2.23609742e-11, -1.07396048e-08,\n",
       "       -9.12622795e-08, -5.95487563e-07, -4.90126297e-07, -4.78260688e-07,\n",
       "       -6.27317718e-07, -4.57657478e-07, -4.74623647e-07, -4.56494860e-07,\n",
       "       -4.11596972e-07, -3.64227873e-07, -3.97563639e-07, -2.48981337e-07,\n",
       "       -2.30783968e-07, -2.11585046e-07, -1.77727685e-07, -1.30635669e-07,\n",
       "       -1.01762190e-07, -7.40850297e-08, -5.05492785e-08, -2.84632655e-08,\n",
       "       -1.35679974e-08, -6.21858343e-09, -6.77101886e-09, -5.55299851e-09,\n",
       "       -7.09619489e-05, -5.59736836e-05, -9.07434849e-04, -8.18251137e-05,\n",
       "       -2.12188854e-04, -3.64329986e-04, -2.23783450e-03, -2.52920878e-03,\n",
       "       -9.02813044e-04, -8.56406463e-04, -1.10851973e-03, -2.56081996e-03,\n",
       "       -1.99491996e-03, -1.91447837e-03, -7.47245154e-04, -8.36336752e-04,\n",
       "       -9.54321877e-04, -9.88243264e-04, -8.39701912e-04, -7.48582825e-04,\n",
       "       -9.05754161e-04, -9.12282208e-04, -7.86739052e-04, -7.23172154e-04,\n",
       "       -8.08801211e-04, -6.83418999e-04, -6.65882020e-04, -8.04953859e-04,\n",
       "       -1.03036722e-03, -1.44453719e-03, -7.16730647e-05, -5.65938244e-05,\n",
       "       -2.95275240e-05, -4.09846725e-05, -3.02849203e-05, -1.26493032e-04,\n",
       "       -3.31034971e-04, -3.94189934e-04, -3.58903664e-04, -3.31093906e-04,\n",
       "       -3.21697415e-04, -2.90853117e-04, -2.94275058e-04, -2.83421163e-04,\n",
       "       -2.44150928e-04, -2.29393336e-04, -2.02052077e-04, -1.74566710e-04,\n",
       "       -1.68873346e-04, -1.45632075e-04, -1.50045642e-04, -2.12108149e-04,\n",
       "       -2.72684236e-04, -4.36235772e-04, -4.27357765e-04, -4.41576674e-04,\n",
       "       -4.82733652e-04, -5.33618149e-04, -6.07920636e-04, -7.22438097e-04,\n",
       "        0.00000000e+00,  0.00000000e+00,  0.00000000e+00,  0.00000000e+00,\n",
       "        0.00000000e+00,  0.00000000e+00,  0.00000000e+00,  0.00000000e+00,\n",
       "        0.00000000e+00,  0.00000000e+00,  0.00000000e+00,  0.00000000e+00,\n",
       "        0.00000000e+00,  0.00000000e+00,  0.00000000e+00,  0.00000000e+00,\n",
       "        0.00000000e+00,  0.00000000e+00,  0.00000000e+00,  0.00000000e+00,\n",
       "        0.00000000e+00,  0.00000000e+00,  0.00000000e+00,  0.00000000e+00,\n",
       "        0.00000000e+00,  0.00000000e+00,  0.00000000e+00,  0.00000000e+00,\n",
       "        0.00000000e+00,  0.00000000e+00,  1.89967891e-16,  2.63243117e-12,\n",
       "        1.37605693e-12,  1.28493692e-13,  3.45409546e-13,  1.54083972e-12,\n",
       "        2.91163225e-13,  2.93570420e-12,  2.80168738e-13,  3.32043551e-12,\n",
       "        2.26107978e-12,  1.77812355e-13,  2.42159374e-12,  6.30292823e-12,\n",
       "        6.70520367e-12,  9.75891763e-12,  3.64231475e-12,  8.98170861e-12,\n",
       "        4.67870187e-12,  2.11330779e-12, -1.18833316e-06, -2.05290871e-06,\n",
       "       -8.83258872e-06, -1.67168218e-05, -1.98372727e-05, -2.87488911e-05,\n",
       "       -2.57524589e-05, -2.70646760e-05, -1.55464477e-05,  6.32450181e-09,\n",
       "        0.00000000e+00,  0.00000000e+00,  6.68157806e+01, -2.17531395e+01,\n",
       "        0.00000000e+00, -1.57366099e-03,  0.00000000e+00, -5.29603334e-04,\n",
       "       -6.78729382e-12, -5.68415237e-12, -3.97285919e-11, -4.61802888e-11,\n",
       "       -1.14428203e-10, -3.24254068e-10, -1.70949629e-10, -1.48232093e-10,\n",
       "       -4.30724817e-10, -9.76081882e-10, -3.32044192e-09, -5.38573763e-09,\n",
       "       -1.21698918e-08, -2.21463168e-08, -4.87072498e-08, -7.81665861e-08,\n",
       "       -1.23421458e-07, -2.27977026e-07, -3.56087554e-07, -4.30155637e-07,\n",
       "       -4.96082407e-07, -4.76668475e-07, -5.04764785e-07, -5.30903037e-07,\n",
       "       -6.26584495e-07, -6.51649884e-07, -8.44481406e-07, -6.68303755e-07,\n",
       "       -1.31951288e-06, -2.41112389e-06,  0.00000000e+00,  0.00000000e+00,\n",
       "        0.00000000e+00,  0.00000000e+00,  0.00000000e+00,  0.00000000e+00,\n",
       "        0.00000000e+00,  0.00000000e+00,  0.00000000e+00,  0.00000000e+00,\n",
       "        0.00000000e+00,  0.00000000e+00,  0.00000000e+00,  0.00000000e+00,\n",
       "        0.00000000e+00, -1.67363349e-25, -1.84586268e-09, -3.27715917e-08,\n",
       "       -7.70415269e-08, -1.09790548e-07, -1.14095421e-07, -1.26134225e-07,\n",
       "       -1.34908149e-07, -1.66780183e-07, -1.15524649e-07, -1.07046041e-07,\n",
       "       -1.32066816e-07, -1.15553135e-07, -3.42373482e-07, -8.56519080e-07,\n",
       "       -1.69352068e-13, -4.83014128e-13, -6.51883963e-11, -1.01111047e-11,\n",
       "       -2.05020636e-11, -1.86414079e-10, -1.79354789e-08, -9.54777661e-08,\n",
       "       -1.17889009e-07, -1.79211753e-07, -2.32999582e-07, -2.48167339e-07,\n",
       "       -2.12687169e-07, -2.50562294e-07, -2.48006472e-07, -2.41379752e-07,\n",
       "       -2.45548989e-07, -3.09413139e-07, -2.51187430e-07, -2.12144712e-07,\n",
       "       -1.71873580e-07, -1.40552658e-07, -1.45180536e-07, -9.33927637e-08,\n",
       "       -5.82461155e-08, -3.95720932e-08, -1.98858672e-08, -6.63648825e-09,\n",
       "       -1.54543356e-09, -8.84396667e-10, -8.36410502e-04, -5.94567216e-04,\n",
       "       -3.38168669e-04, -4.47353785e-04, -3.35905293e-04, -4.49100073e-04,\n",
       "       -5.64244576e-04, -7.26860890e-04, -5.11135499e-04, -6.95529510e-04,\n",
       "       -7.86353194e-04, -1.09831069e-03, -6.91384193e-04, -8.83466913e-04,\n",
       "       -1.27893232e-03, -1.74489338e-03, -1.64542301e-03, -1.58333674e-03,\n",
       "       -1.61553279e-03, -1.46153767e-03, -1.33143109e-03, -1.26361428e-03,\n",
       "       -1.10655045e-03, -9.85107385e-04, -9.41179052e-04, -8.21804453e-04,\n",
       "       -6.68199325e-04, -5.66728355e-04, -5.13509091e-04, -1.18852407e-03,\n",
       "       -3.01756128e-03, -1.79918716e-03, -1.07876142e-03, -8.50873243e-04,\n",
       "       -7.14010384e-04, -7.10610009e-04, -8.38395208e-04, -1.19083375e-03,\n",
       "       -1.17486913e-03, -1.38565572e-03, -1.65289349e-03, -2.02572928e-03,\n",
       "       -3.08096572e-03, -3.61857633e-03, -4.03690012e-03, -4.09100624e-03,\n",
       "       -3.63378739e-03, -3.02683841e-03, -2.37520738e-03, -1.87072007e-03,\n",
       "       -1.84460694e-03, -2.07130541e-03, -2.38115434e-03, -2.83111073e-03,\n",
       "       -2.96751363e-03, -3.14020412e-03, -2.83332518e-03, -2.47441931e-03,\n",
       "       -2.76780757e-03, -3.18364147e-03,  0.00000000e+00,  0.00000000e+00,\n",
       "       -1.51575419e-10, -3.73105748e-11, -2.23536620e-10, -1.87390792e-09,\n",
       "       -9.26117016e-10, -4.54078192e-10, -1.25330246e-09, -2.99547054e-09,\n",
       "       -1.38002942e-08, -5.64394469e-08, -1.59093233e-07, -3.25143247e-07,\n",
       "       -5.26081692e-07, -7.00907776e-07, -7.83349890e-07, -8.87552858e-07,\n",
       "       -8.81948665e-07, -1.02271645e-06, -1.21962967e-06, -1.12735370e-06,\n",
       "       -1.17365369e-06, -1.20365087e-06, -1.38313260e-06, -1.46291177e-06,\n",
       "       -1.64631047e-06, -1.43467344e-06, -1.87268643e-06, -2.56884505e-06,\n",
       "       -7.09619489e-05, -5.59736836e-05, -9.07434849e-04, -8.18251137e-05,\n",
       "       -2.12188854e-04, -3.64329986e-04, -2.23783450e-03, -2.52920878e-03,\n",
       "       -9.02813044e-04, -8.56406463e-04, -1.10851973e-03, -2.56081996e-03,\n",
       "       -1.99491996e-03, -1.91447837e-03, -7.47245154e-04, -8.36336752e-04,\n",
       "       -9.54321877e-04, -9.88243264e-04, -8.39701912e-04, -7.48582825e-04,\n",
       "       -9.05754161e-04, -9.12282208e-04, -7.86739052e-04, -7.23172154e-04,\n",
       "       -8.08801211e-04, -6.83418999e-04, -6.65882020e-04, -8.04953859e-04,\n",
       "       -1.03036722e-03, -1.44453719e-03,  0.00000000e+00,  0.00000000e+00,\n",
       "        6.68157806e+01, -2.17531395e+01,  0.00000000e+00,  1.04866512e-05,\n",
       "        5.76689229e-05,  6.46827134e-04,  1.26969350e-04,  3.70828729e-04,\n",
       "        6.60153643e-04,  1.01785518e-03,  1.40872859e-03,  1.93891552e-03,\n",
       "        2.64943910e-03,  4.13261634e-03,  4.83984611e-03,  2.86337478e-03,\n",
       "        4.37335838e-03,  4.07588027e-03,  4.77227193e-04,  1.01594897e-03,\n",
       "        1.14559389e-04,  9.26674431e-05,  1.20777219e-03,  4.13738140e-03,\n",
       "        1.04642409e-02,  3.08167568e-02,  8.99568275e-02,  1.48998695e-01,\n",
       "        2.38165264e-01,  4.29529543e-01,  4.51336896e-01,  4.99344501e-01,\n",
       "        4.86564415e-01, -1.31116964e+01, -1.10533083e+01, -9.24844476e+00,\n",
       "       -7.55641638e+00, -6.33420238e+00, -5.38641029e+00, -4.73032847e+00,\n",
       "       -4.26705961e+00, -3.90010160e+00, -3.51368711e+00, -3.11597357e+00,\n",
       "       -2.67607478e+00, -2.22679080e+00, -1.75694275e+00, -1.44067605e+00,\n",
       "       -1.30229558e+00, -1.06961250e+00, -9.08340034e-01, -7.54189932e-01,\n",
       "       -5.73731456e-01, -4.37089447e-01, -3.42989613e-01, -2.62232670e-01,\n",
       "       -2.35843909e-01, -2.21079333e-01, -2.12816024e-01, -1.93379778e-01,\n",
       "       -1.65845811e-01, -1.37980631e-01, -4.34919917e-04, -2.43044811e-02])</pre></li><li class='xr-var-item'><div class='xr-var-name'><span>max</span></div><div class='xr-var-dims'>(var_names)</div><div class='xr-var-dtype'>float64</div><div class='xr-var-preview xr-preview'>1.904e-06 1.894e-06 ... 0.06372</div><input id='attrs-903f27c2-daeb-48f2-a757-442d7201f02a' class='xr-var-attrs-in' type='checkbox' disabled><label for='attrs-903f27c2-daeb-48f2-a757-442d7201f02a' title='Show/Hide attributes'><svg class='icon xr-icon-file-text2'><use xlink:href='#icon-file-text2'></use></svg></label><input id='data-9d193115-a3b6-4d0b-8505-7a113dd534dd' class='xr-var-data-in' type='checkbox'><label for='data-9d193115-a3b6-4d0b-8505-7a113dd534dd' title='Show/Hide data repr'><svg class='icon xr-icon-database'><use xlink:href='#icon-database'></use></svg></label><div class='xr-var-attrs'><dl class='xr-attrs'></dl></div><pre class='xr-var-data'>array([ 1.90379683e-06,  1.89369416e-06,  1.77703805e-06,  2.01653575e-06,\n",
       "        3.97796566e-06,  1.82309122e-05,  8.35683841e-06,  3.34147353e-06,\n",
       "        5.22104619e-06,  1.23560931e-05,  3.96524629e-05,  1.49290601e-04,\n",
       "        4.28026658e-04,  9.60176229e-04,  1.83086935e-03,  3.11124604e-03,\n",
       "        4.74187825e-03,  6.55121636e-03,  8.59835930e-03,  1.09824855e-02,\n",
       "        1.34607973e-02,  1.54475439e-02,  1.72660276e-02,  1.84425339e-02,\n",
       "        1.91658661e-02,  1.98007058e-02,  2.04763189e-02,  2.13509947e-02,\n",
       "        2.19190978e-02,  2.32112296e-02,  0.00000000e+00,  0.00000000e+00,\n",
       "        0.00000000e+00,  0.00000000e+00,  0.00000000e+00,  0.00000000e+00,\n",
       "        0.00000000e+00,  0.00000000e+00,  0.00000000e+00,  0.00000000e+00,\n",
       "        0.00000000e+00,  0.00000000e+00,  0.00000000e+00,  0.00000000e+00,\n",
       "        1.28827524e-22,  2.17874694e-05,  1.07966931e-04,  4.08882392e-04,\n",
       "        9.10736795e-04,  1.01177103e-03,  9.55824391e-04,  8.97143735e-04,\n",
       "        9.04145185e-04,  1.05708640e-03,  9.62980906e-04,  9.53687064e-04,\n",
       "        9.96097457e-04,  1.02944125e-03,  1.06257375e-03,  1.32121332e-03,\n",
       "        1.12947012e-08,  2.09175628e-08,  2.56313285e-07,  3.25484883e-08,\n",
       "        4.02497520e-08,  2.49251880e-05,  3.55304888e-04,  1.86289544e-03,\n",
       "        1.69832748e-03,  1.72881945e-03,  1.76898669e-03,  1.53909693e-03,\n",
       "        1.33085751e-03,  1.27014611e-03,  9.98083386e-04,  9.23887303e-04,\n",
       "        1.08850235e-03,  6.66302338e-04,  5.93116914e-04,  4.27241117e-04,\n",
       "        3.47012305e-04,  2.44434079e-04,  2.27566503e-04,  2.26944103e-04,\n",
       "        1.37469819e-04,  8.10408528e-05,  5.79871339e-05,  5.15448155e-05,\n",
       "        5.08652993e-05,  5.88272160e-05,  2.52264175e+02,  2.45284836e+02,\n",
       "        2.29327286e+02,  2.45504333e+02,  2.41626572e+02,  2.36194504e+02,\n",
       "        2.34955170e+02,  2.34144211e+02,  2.32965607e+02,  2.30955811e+02,\n",
       "        2.28802505e+02,  2.28595215e+02,  2.29576462e+02,  2.35430496e+02,\n",
       "        2.44417618e+02,  2.53857437e+02,  2.62105377e+02,  2.69858978e+02,\n",
       "        2.77890564e+02,  2.84228455e+02,  2.89996826e+02,  2.93970917e+02,\n",
       "        2.96114777e+02,  2.97777832e+02,  2.98874420e+02,  3.00885529e+02,\n",
       "        3.02046600e+02,  3.01433167e+02,  3.00912476e+02,  3.02219116e+02,\n",
       "        1.32302811e+02,  9.78116684e+01,  7.39252777e+01,  6.00594292e+01,\n",
       "        5.04846382e+01,  4.23789482e+01,  3.92969589e+01,  3.86121979e+01,\n",
       "        3.80886383e+01,  4.96158295e+01,  6.04709663e+01,  6.43640366e+01,\n",
       "        6.85183258e+01,  7.32907867e+01,  7.53254547e+01,  7.51946869e+01,\n",
       "        6.54330292e+01,  5.47936401e+01,  4.81814194e+01,  3.96523361e+01,\n",
       "        3.76313362e+01,  3.67978706e+01,  3.76259155e+01,  4.15219078e+01,\n",
       "        4.55595055e+01,  4.75407257e+01,  4.23616943e+01,  3.86632690e+01,\n",
       "        3.55509071e+01,  3.19237156e+01,  1.02512578e+05,  1.41064417e+03,\n",
       "        2.36012909e+02,  7.64503479e+02,  0.00000000e+00,  0.00000000e+00,\n",
       "        3.39098159e-11,  6.71553646e-11,  1.56629776e-09,  9.13369469e-09,\n",
       "        1.75125903e-09,  1.10215659e-09,  1.90850424e-09,  3.55206486e-09,\n",
       "        8.34636715e-09,  2.38354989e-08,  5.13715364e-08,  1.26402483e-07,\n",
       "        2.96630958e-07,  4.18213546e-07,  5.29052272e-07,  8.90691865e-07,\n",
       "        9.07236085e-07,  1.09857353e-06,  1.10677138e-06,  1.28174827e-06,\n",
       "        1.45411741e-06,  1.29509920e-06,  1.46133584e-06,  1.20804441e-06,\n",
       "        8.78946707e-07,  8.08319101e-07,  8.16588511e-07,  1.53999019e-06,\n",
       "        0.00000000e+00,  0.00000000e+00, -0.00000000e+00,  0.00000000e+00,\n",
       "        0.00000000e+00,  0.00000000e+00,  0.00000000e+00,  0.00000000e+00,\n",
       "        0.00000000e+00,  0.00000000e+00,  0.00000000e+00,  0.00000000e+00,\n",
       "        0.00000000e+00,  0.00000000e+00, -0.00000000e+00, -0.00000000e+00,\n",
       "        3.11283692e-08,  1.68346475e-07,  2.82370650e-07,  3.74818399e-07,\n",
       "        4.07410027e-07,  3.90743054e-07,  3.80645957e-07,  3.86581206e-07,\n",
       "        3.17287345e-07,  2.50194432e-07,  1.97579652e-07,  1.67310660e-07,\n",
       "        1.86933420e-07,  4.03154502e-07,  0.00000000e+00,  0.00000000e+00,\n",
       "        9.34293129e-11,  1.85719599e-11,  2.17896742e-11,  1.37148986e-08,\n",
       "        2.12084259e-07,  9.98739552e-07,  8.34415289e-07,  8.27967654e-07,\n",
       "        1.15910382e-06,  8.42949817e-07,  8.42365978e-07,  7.07463016e-07,\n",
       "        7.16821489e-07,  6.85712678e-07,  7.32315414e-07,  4.22519634e-07,\n",
       "        3.67254586e-07,  2.54655617e-07,  2.17880725e-07,  1.69660197e-07,\n",
       "        1.45214116e-07,  9.56253174e-08,  6.10362676e-08,  3.30153291e-08,\n",
       "        1.52806070e-08,  1.07393685e-08,  7.29995664e-09,  1.40880729e-08,\n",
       "        1.48989595e-04,  1.28780390e-04,  1.17137228e-04,  8.87883129e-04,\n",
       "        7.60438779e-05,  1.06920103e-04,  3.17697180e-04,  2.10253219e-03,\n",
       "        1.16373121e-03,  1.87634444e-03,  1.28245319e-03,  1.19019195e-03,\n",
       "        1.32737798e-03,  1.47128990e-03,  2.04580673e-03,  1.98601349e-03,\n",
       "        2.22652662e-03,  1.92908279e-03,  2.09069531e-03,  1.96928205e-03,\n",
       "        1.79410237e-03,  1.96588552e-03,  1.36492425e-03,  1.33331388e-03,\n",
       "        1.17050880e-03,  1.01469248e-03,  9.60519945e-04,  8.82551540e-04,\n",
       "        9.00815125e-04,  1.21512474e-03, -1.64220523e-06,  1.04105056e-05,\n",
       "        1.09156008e-05, -1.39920132e-06,  3.89838988e-06,  8.50758079e-06,\n",
       "        4.99547277e-05,  2.01674135e-04,  2.77175684e-04,  2.59570981e-04,\n",
       "        2.89686053e-04,  3.69902700e-04,  3.24275199e-04,  2.96424667e-04,\n",
       "        2.04935481e-04,  1.51516972e-04,  1.38894931e-04,  1.18823038e-04,\n",
       "        9.19280137e-05,  6.54886899e-05,  3.93596129e-05,  4.70060331e-05,\n",
       "        5.90779455e-05,  1.13673486e-04,  1.03138242e-04,  9.39245365e-05,\n",
       "        8.09609992e-05,  8.26931500e-05,  8.62091838e-05,  5.27801349e-05,\n",
       "        1.84052478e-04,  1.51943590e-04,  1.08854969e-04,  6.68201246e-05,\n",
       "        3.87138243e-05,  2.70598212e-05,  1.83127035e-04,  1.15577760e-03,\n",
       "        7.12830981e-04,  7.28969113e-04,  7.28905317e-04,  6.36128127e-04,\n",
       "        4.98172711e-04,  5.76585124e-04,  5.33446670e-04,  4.55406524e-04,\n",
       "        3.75680858e-04,  2.93578487e-04,  1.95589862e-04,  1.80089948e-04,\n",
       "        1.86229154e-04,  2.17172201e-04,  2.94407684e-04,  4.31851251e-04,\n",
       "        4.31929337e-04,  4.32976463e-04,  4.43086377e-04,  4.58760915e-04,\n",
       "        5.37512475e-04,  6.06062706e-04,  3.55341444e-06,  6.34279240e-06,\n",
       "        8.44641727e-06,  5.90512263e-06,  2.25531335e-06,  9.02743850e-05,\n",
       "        4.46338160e-03,  9.41899791e-03,  9.27406270e-03,  1.13362763e-02,\n",
       "        1.20792668e-02,  1.02312090e-02,  7.26263504e-03,  7.70780491e-03,\n",
       "        5.62888198e-03,  4.02669935e-03,  4.04330017e-03,  3.68254283e-03,\n",
       "        3.17535806e-03,  9.32960480e-04,  1.01601053e-03,  4.07484593e-03,\n",
       "        7.13917287e-03,  1.77700911e-02,  1.72251724e-02,  3.53759564e-02,\n",
       "        4.41297330e-02,  4.88787740e-02,  7.61296302e-02,  1.20405984e+00,\n",
       "        1.32446704e+03,  1.12047900e+03,  3.23226746e+02,  1.36786407e+02,\n",
       "        3.71949136e-06,  1.68364390e-03,  4.42496940e-07,  8.58694548e-04,\n",
       "        5.47010527e-12,  4.99678901e-12,  1.10454659e-10,  3.54884837e-11,\n",
       "        1.38390799e-10,  4.57841626e-10,  4.30943475e-10,  1.81796522e-10,\n",
       "        5.20234134e-10,  2.06028816e-09,  9.30024768e-09,  3.71926419e-08,\n",
       "        9.94219320e-08,  1.90944505e-07,  3.20265400e-07,  4.74258940e-07,\n",
       "        6.29726969e-07,  5.88641399e-07,  6.12045767e-07,  6.38578399e-07,\n",
       "        7.32810634e-07,  6.96454947e-07,  6.79520895e-07,  6.14667215e-07,\n",
       "        6.23765970e-07,  6.00331362e-07,  8.65836910e-07,  7.35035940e-07,\n",
       "        1.33594210e-06,  2.49094046e-06,  0.00000000e+00,  0.00000000e+00,\n",
       "        0.00000000e+00,  0.00000000e+00,  0.00000000e+00,  0.00000000e+00,\n",
       "        0.00000000e+00,  0.00000000e+00,  0.00000000e+00,  0.00000000e+00,\n",
       "        0.00000000e+00,  0.00000000e+00,  0.00000000e+00,  0.00000000e+00,\n",
       "        7.15708478e-26,  1.21041497e-08,  5.99816303e-08,  8.91191547e-08,\n",
       "        1.03991681e-07,  7.66493926e-08,  8.25442186e-08,  1.21981628e-07,\n",
       "        1.47354243e-07,  9.00798369e-08,  1.01775932e-07,  8.49461514e-08,\n",
       "        9.43175138e-08,  9.34319360e-08,  2.94105547e-07,  7.34007415e-07,\n",
       "        2.12481264e-13,  3.50955322e-13,  4.24513376e-11,  1.06702364e-11,\n",
       "        2.05756974e-11,  6.73584910e-10,  1.30883908e-08,  6.88825423e-08,\n",
       "        1.04664259e-07,  1.31160320e-07,  1.75822706e-07,  1.57046600e-07,\n",
       "        1.81639152e-07,  1.47816479e-07,  1.76631474e-07,  1.78387339e-07,\n",
       "        1.92051203e-07,  3.10032760e-07,  2.24611910e-07,  1.73816943e-07,\n",
       "        1.45997163e-07,  1.19721292e-07,  1.12509120e-07,  8.30660909e-08,\n",
       "        5.25558725e-08,  3.49911282e-08,  1.56341216e-08,  6.51182797e-09,\n",
       "        2.04663420e-09,  1.40105472e-09,  9.46697663e-04,  6.82364567e-04,\n",
       "        6.77235948e-04,  3.30251059e-04,  4.32942703e-04,  4.69928316e-04,\n",
       "        6.54390140e-04,  6.37029007e-04,  5.38567430e-04,  8.13234132e-04,\n",
       "        1.14774064e-03,  2.03334377e-03,  2.05990253e-03,  1.86551409e-03,\n",
       "        7.36999500e-04,  5.92117314e-04,  7.19892734e-04,  7.75010849e-04,\n",
       "        7.63159886e-04,  6.88196800e-04,  6.26508903e-04,  5.88921423e-04,\n",
       "        8.04273819e-04,  1.01048790e-03,  7.72382948e-04,  6.63604762e-04,\n",
       "        5.18798828e-04,  9.93025023e-04,  6.69216563e-04,  8.82907421e-04,\n",
       "        1.91819936e-03,  1.14652212e-03,  9.14942648e-04,  7.61920470e-04,\n",
       "        6.49287424e-04,  5.68469113e-04,  6.78854005e-04,  9.69953777e-04,\n",
       "        1.13623647e-03,  1.27508747e-03,  1.88036321e-03,  2.85564852e-03,\n",
       "        2.95866118e-03,  2.62755295e-03,  2.83821113e-03,  2.70323385e-03,\n",
       "        2.33159796e-03,  1.92369963e-03,  1.76455139e-03,  1.70495117e-03,\n",
       "        1.78293488e-03,  1.92523468e-03,  2.02842220e-03,  2.26205518e-03,\n",
       "        2.33932491e-03,  2.15418381e-03,  2.20535183e-03,  2.58512073e-03,\n",
       "        2.73125432e-03,  3.00309085e-03,  0.00000000e+00,  0.00000000e+00,\n",
       "        3.39098159e-11,  6.71553646e-11,  1.56629776e-09,  9.13369469e-09,\n",
       "        1.75125903e-09,  1.10215659e-09,  1.90850424e-09,  3.55206486e-09,\n",
       "        8.34636715e-09,  2.38354989e-08,  5.13715364e-08,  1.26402483e-07,\n",
       "        2.96630958e-07,  4.18213546e-07,  5.29052272e-07,  8.90691865e-07,\n",
       "        9.07236085e-07,  1.09857353e-06,  1.10677138e-06,  1.28174827e-06,\n",
       "        1.45411741e-06,  1.29509920e-06,  1.46133584e-06,  1.20804441e-06,\n",
       "        8.78946707e-07,  8.08319101e-07,  8.16588511e-07,  1.53999019e-06,\n",
       "        1.48989595e-04,  1.28780390e-04,  1.17137228e-04,  8.87883129e-04,\n",
       "        7.60438779e-05,  1.06920103e-04,  3.17697180e-04,  2.10253219e-03,\n",
       "        1.16373121e-03,  1.87634444e-03,  1.28245319e-03,  1.19019195e-03,\n",
       "        1.32737798e-03,  1.47128990e-03,  2.04580673e-03,  1.98601349e-03,\n",
       "        2.22652662e-03,  1.92908279e-03,  2.09069531e-03,  1.96928205e-03,\n",
       "        1.79410237e-03,  1.96588552e-03,  1.36492425e-03,  1.33331388e-03,\n",
       "        1.17050880e-03,  1.01469248e-03,  9.60519945e-04,  8.82551540e-04,\n",
       "        9.00815125e-04,  1.21512474e-03,  1.32446704e+03,  1.12047900e+03,\n",
       "        3.23226746e+02,  1.36786407e+02,  3.71949136e-06,  7.58424538e-01,\n",
       "        1.51677395e+00,  1.14258215e+00,  1.00584694e+00,  1.00979158e+00,\n",
       "        1.46784176e+00,  1.36917954e+00,  1.57482161e+00,  1.55263810e+00,\n",
       "        1.48415094e+00,  1.67722770e+00,  1.83640403e+00,  1.84536380e+00,\n",
       "        1.78485317e+00,  1.69840019e+00,  1.62332904e+00,  1.45962081e+00,\n",
       "        1.39224905e+00,  1.28389196e+00,  1.22822327e+00,  1.18523169e+00,\n",
       "        1.16418805e+00,  1.13282610e+00,  1.11097554e+00,  1.10140936e+00,\n",
       "        1.08765250e+00,  1.07612105e+00,  1.06177710e+00,  1.04238451e+00,\n",
       "        1.03626697e+00, -4.32305654e-01, -1.58716380e+00, -5.56009119e+00,\n",
       "       -2.52057933e+00, -2.99731488e+00, -1.61654064e+00, -2.94878143e-01,\n",
       "        3.85236636e-01,  5.27675117e-01,  7.04136481e-01,  6.91645051e-01,\n",
       "        7.18177033e-01,  7.63712241e-01,  7.82056033e-01,  7.74956478e-01,\n",
       "        7.22324120e-01,  6.70698714e-01,  6.20130140e-01,  5.74726736e-01,\n",
       "        4.95077251e-01,  4.00088487e-01,  3.32611094e-01,  2.67948200e-01,\n",
       "        2.24137572e-01,  1.98625058e-01,  1.87403879e-01,  1.51585626e-01,\n",
       "        1.18772122e-01,  8.59022068e-02, -1.33826386e-04,  6.37240587e-02])</pre></li><li class='xr-var-item'><div class='xr-var-name'><span>std_by_var</span></div><div class='xr-var-dims'>(var_names_single)</div><div class='xr-var-dtype'>float64</div><div class='xr-var-preview xr-preview'>0.003775 2.857e-05 ... 0.005171</div><input id='attrs-356ca17a-c60f-472e-b609-dde306dc1eec' class='xr-var-attrs-in' type='checkbox' disabled><label for='attrs-356ca17a-c60f-472e-b609-dde306dc1eec' title='Show/Hide attributes'><svg class='icon xr-icon-file-text2'><use xlink:href='#icon-file-text2'></use></svg></label><input id='data-4c3df90f-d914-4b95-9845-978d292a9c9c' class='xr-var-data-in' type='checkbox'><label for='data-4c3df90f-d914-4b95-9845-978d292a9c9c' title='Show/Hide data repr'><svg class='icon xr-icon-database'><use xlink:href='#icon-database'></use></svg></label><div class='xr-var-attrs'><dl class='xr-attrs'></dl></div><pre class='xr-var-data'>array([3.77459545e-03, 2.85734750e-05, 1.20059749e-05, 7.22105484e+01,\n",
       "       5.85772562e+00, 1.17165684e+04, 4.18661896e+02, 1.42491674e+01,\n",
       "       7.67799759e+01, 3.75089932e-08, 8.56225579e-09, 3.69725917e-09,\n",
       "       4.03835147e-05, 1.95418670e-05, 1.48677709e-05, 7.46821100e-03,\n",
       "       3.16437195e+02, 2.40660278e+02, 4.59179840e+01, 2.73094864e+01,\n",
       "       1.07634975e-07, 2.23587886e-05, 1.39119232e-08, 9.45345255e-06,\n",
       "       1.94966070e-08, 1.87601046e-09, 1.28218880e-09, 4.63586111e-05,\n",
       "       1.35456154e-04, 3.75089932e-08, 4.03835147e-05, 3.16437195e+02,\n",
       "       2.40660278e+02, 4.59179840e+01, 2.73094864e+01, 1.07634975e-07,\n",
       "       3.93801892e-01, 2.34793108e+00, 5.17111286e-03])</pre></li></ul></div></li><li class='xr-section-item'><input id='section-2b71dca2-46e4-42e2-9673-204775c28362' class='xr-section-summary-in' type='checkbox' disabled ><label for='section-2b71dca2-46e4-42e2-9673-204775c28362' class='xr-section-summary'  title='Expand/collapse section'>Attributes: <span>(0)</span></label><div class='xr-section-inline-details'></div><div class='xr-section-details'><dl class='xr-attrs'></dl></div></li></ul></div></div>"
      ],
      "text/plain": [
       "<xarray.Dataset>\n",
       "Dimensions:           (var_names: 648, var_names_single: 39)\n",
       "Coordinates:\n",
       "  * var_names         (var_names) object 'QBP' 'QBP' ... 'BMSE' 'LHF_nsDELQ'\n",
       "  * var_names_single  (var_names_single) object 'QBP' 'QCBP' ... 'LHF_nsDELQ'\n",
       "Data variables:\n",
       "    mean              (var_names) float64 1.655e-06 1.61e-06 ... 0.007954\n",
       "    std               (var_names) float64 2.691e-07 2.58e-07 ... 0.005171\n",
       "    min               (var_names) float64 1.074e-06 1.049e-06 ... -0.0243\n",
       "    max               (var_names) float64 1.904e-06 1.894e-06 ... 0.06372\n",
       "    std_by_var        (var_names_single) float64 0.003775 2.857e-05 ... 0.005171"
      ]
     },
     "execution_count": 77,
     "metadata": {},
     "output_type": "execute_result"
    }
   ],
   "source": [
    "new_norm"
   ]
  },
  {
   "cell_type": "code",
   "execution_count": 78,
   "metadata": {},
   "outputs": [
    {
     "data": {
      "text/html": [
       "<div><svg style=\"position: absolute; width: 0; height: 0; overflow: hidden\">\n",
       "<defs>\n",
       "<symbol id=\"icon-database\" viewBox=\"0 0 32 32\">\n",
       "<title>Show/Hide data repr</title>\n",
       "<path d=\"M16 0c-8.837 0-16 2.239-16 5v4c0 2.761 7.163 5 16 5s16-2.239 16-5v-4c0-2.761-7.163-5-16-5z\"></path>\n",
       "<path d=\"M16 17c-8.837 0-16-2.239-16-5v6c0 2.761 7.163 5 16 5s16-2.239 16-5v-6c0 2.761-7.163 5-16 5z\"></path>\n",
       "<path d=\"M16 26c-8.837 0-16-2.239-16-5v6c0 2.761 7.163 5 16 5s16-2.239 16-5v-6c0 2.761-7.163 5-16 5z\"></path>\n",
       "</symbol>\n",
       "<symbol id=\"icon-file-text2\" viewBox=\"0 0 32 32\">\n",
       "<title>Show/Hide attributes</title>\n",
       "<path d=\"M28.681 7.159c-0.694-0.947-1.662-2.053-2.724-3.116s-2.169-2.030-3.116-2.724c-1.612-1.182-2.393-1.319-2.841-1.319h-15.5c-1.378 0-2.5 1.121-2.5 2.5v27c0 1.378 1.122 2.5 2.5 2.5h23c1.378 0 2.5-1.122 2.5-2.5v-19.5c0-0.448-0.137-1.23-1.319-2.841zM24.543 5.457c0.959 0.959 1.712 1.825 2.268 2.543h-4.811v-4.811c0.718 0.556 1.584 1.309 2.543 2.268zM28 29.5c0 0.271-0.229 0.5-0.5 0.5h-23c-0.271 0-0.5-0.229-0.5-0.5v-27c0-0.271 0.229-0.5 0.5-0.5 0 0 15.499-0 15.5 0v7c0 0.552 0.448 1 1 1h7v19.5z\"></path>\n",
       "<path d=\"M23 26h-14c-0.552 0-1-0.448-1-1s0.448-1 1-1h14c0.552 0 1 0.448 1 1s-0.448 1-1 1z\"></path>\n",
       "<path d=\"M23 22h-14c-0.552 0-1-0.448-1-1s0.448-1 1-1h14c0.552 0 1 0.448 1 1s-0.448 1-1 1z\"></path>\n",
       "<path d=\"M23 18h-14c-0.552 0-1-0.448-1-1s0.448-1 1-1h14c0.552 0 1 0.448 1 1s-0.448 1-1 1z\"></path>\n",
       "</symbol>\n",
       "</defs>\n",
       "</svg>\n",
       "<style>/* CSS stylesheet for displaying xarray objects in jupyterlab.\n",
       " *\n",
       " */\n",
       "\n",
       ":root {\n",
       "  --xr-font-color0: var(--jp-content-font-color0, rgba(0, 0, 0, 1));\n",
       "  --xr-font-color2: var(--jp-content-font-color2, rgba(0, 0, 0, 0.54));\n",
       "  --xr-font-color3: var(--jp-content-font-color3, rgba(0, 0, 0, 0.38));\n",
       "  --xr-border-color: var(--jp-border-color2, #e0e0e0);\n",
       "  --xr-disabled-color: var(--jp-layout-color3, #bdbdbd);\n",
       "  --xr-background-color: var(--jp-layout-color0, white);\n",
       "  --xr-background-color-row-even: var(--jp-layout-color1, white);\n",
       "  --xr-background-color-row-odd: var(--jp-layout-color2, #eeeeee);\n",
       "}\n",
       "\n",
       ".xr-wrap {\n",
       "  min-width: 300px;\n",
       "  max-width: 700px;\n",
       "}\n",
       "\n",
       ".xr-header {\n",
       "  padding-top: 6px;\n",
       "  padding-bottom: 6px;\n",
       "  margin-bottom: 4px;\n",
       "  border-bottom: solid 1px var(--xr-border-color);\n",
       "}\n",
       "\n",
       ".xr-header > div,\n",
       ".xr-header > ul {\n",
       "  display: inline;\n",
       "  margin-top: 0;\n",
       "  margin-bottom: 0;\n",
       "}\n",
       "\n",
       ".xr-obj-type,\n",
       ".xr-array-name {\n",
       "  margin-left: 2px;\n",
       "  margin-right: 10px;\n",
       "}\n",
       "\n",
       ".xr-obj-type {\n",
       "  color: var(--xr-font-color2);\n",
       "}\n",
       "\n",
       ".xr-sections {\n",
       "  padding-left: 0 !important;\n",
       "  display: grid;\n",
       "  grid-template-columns: 150px auto auto 1fr 20px 20px;\n",
       "}\n",
       "\n",
       ".xr-section-item {\n",
       "  display: contents;\n",
       "}\n",
       "\n",
       ".xr-section-item input {\n",
       "  display: none;\n",
       "}\n",
       "\n",
       ".xr-section-item input + label {\n",
       "  color: var(--xr-disabled-color);\n",
       "}\n",
       "\n",
       ".xr-section-item input:enabled + label {\n",
       "  cursor: pointer;\n",
       "  color: var(--xr-font-color2);\n",
       "}\n",
       "\n",
       ".xr-section-item input:enabled + label:hover {\n",
       "  color: var(--xr-font-color0);\n",
       "}\n",
       "\n",
       ".xr-section-summary {\n",
       "  grid-column: 1;\n",
       "  color: var(--xr-font-color2);\n",
       "  font-weight: 500;\n",
       "}\n",
       "\n",
       ".xr-section-summary > span {\n",
       "  display: inline-block;\n",
       "  padding-left: 0.5em;\n",
       "}\n",
       "\n",
       ".xr-section-summary-in:disabled + label {\n",
       "  color: var(--xr-font-color2);\n",
       "}\n",
       "\n",
       ".xr-section-summary-in + label:before {\n",
       "  display: inline-block;\n",
       "  content: '►';\n",
       "  font-size: 11px;\n",
       "  width: 15px;\n",
       "  text-align: center;\n",
       "}\n",
       "\n",
       ".xr-section-summary-in:disabled + label:before {\n",
       "  color: var(--xr-disabled-color);\n",
       "}\n",
       "\n",
       ".xr-section-summary-in:checked + label:before {\n",
       "  content: '▼';\n",
       "}\n",
       "\n",
       ".xr-section-summary-in:checked + label > span {\n",
       "  display: none;\n",
       "}\n",
       "\n",
       ".xr-section-summary,\n",
       ".xr-section-inline-details {\n",
       "  padding-top: 4px;\n",
       "  padding-bottom: 4px;\n",
       "}\n",
       "\n",
       ".xr-section-inline-details {\n",
       "  grid-column: 2 / -1;\n",
       "}\n",
       "\n",
       ".xr-section-details {\n",
       "  display: none;\n",
       "  grid-column: 1 / -1;\n",
       "  margin-bottom: 5px;\n",
       "}\n",
       "\n",
       ".xr-section-summary-in:checked ~ .xr-section-details {\n",
       "  display: contents;\n",
       "}\n",
       "\n",
       ".xr-array-wrap {\n",
       "  grid-column: 1 / -1;\n",
       "  display: grid;\n",
       "  grid-template-columns: 20px auto;\n",
       "}\n",
       "\n",
       ".xr-array-wrap > label {\n",
       "  grid-column: 1;\n",
       "  vertical-align: top;\n",
       "}\n",
       "\n",
       ".xr-preview {\n",
       "  color: var(--xr-font-color3);\n",
       "}\n",
       "\n",
       ".xr-array-preview,\n",
       ".xr-array-data {\n",
       "  padding: 0 5px !important;\n",
       "  grid-column: 2;\n",
       "}\n",
       "\n",
       ".xr-array-data,\n",
       ".xr-array-in:checked ~ .xr-array-preview {\n",
       "  display: none;\n",
       "}\n",
       "\n",
       ".xr-array-in:checked ~ .xr-array-data,\n",
       ".xr-array-preview {\n",
       "  display: inline-block;\n",
       "}\n",
       "\n",
       ".xr-dim-list {\n",
       "  display: inline-block !important;\n",
       "  list-style: none;\n",
       "  padding: 0 !important;\n",
       "  margin: 0;\n",
       "}\n",
       "\n",
       ".xr-dim-list li {\n",
       "  display: inline-block;\n",
       "  padding: 0;\n",
       "  margin: 0;\n",
       "}\n",
       "\n",
       ".xr-dim-list:before {\n",
       "  content: '(';\n",
       "}\n",
       "\n",
       ".xr-dim-list:after {\n",
       "  content: ')';\n",
       "}\n",
       "\n",
       ".xr-dim-list li:not(:last-child):after {\n",
       "  content: ',';\n",
       "  padding-right: 5px;\n",
       "}\n",
       "\n",
       ".xr-has-index {\n",
       "  font-weight: bold;\n",
       "}\n",
       "\n",
       ".xr-var-list,\n",
       ".xr-var-item {\n",
       "  display: contents;\n",
       "}\n",
       "\n",
       ".xr-var-item > div,\n",
       ".xr-var-item label,\n",
       ".xr-var-item > .xr-var-name span {\n",
       "  background-color: var(--xr-background-color-row-even);\n",
       "  margin-bottom: 0;\n",
       "}\n",
       "\n",
       ".xr-var-item > .xr-var-name:hover span {\n",
       "  padding-right: 5px;\n",
       "}\n",
       "\n",
       ".xr-var-list > li:nth-child(odd) > div,\n",
       ".xr-var-list > li:nth-child(odd) > label,\n",
       ".xr-var-list > li:nth-child(odd) > .xr-var-name span {\n",
       "  background-color: var(--xr-background-color-row-odd);\n",
       "}\n",
       "\n",
       ".xr-var-name {\n",
       "  grid-column: 1;\n",
       "}\n",
       "\n",
       ".xr-var-dims {\n",
       "  grid-column: 2;\n",
       "}\n",
       "\n",
       ".xr-var-dtype {\n",
       "  grid-column: 3;\n",
       "  text-align: right;\n",
       "  color: var(--xr-font-color2);\n",
       "}\n",
       "\n",
       ".xr-var-preview {\n",
       "  grid-column: 4;\n",
       "}\n",
       "\n",
       ".xr-var-name,\n",
       ".xr-var-dims,\n",
       ".xr-var-dtype,\n",
       ".xr-preview,\n",
       ".xr-attrs dt {\n",
       "  white-space: nowrap;\n",
       "  overflow: hidden;\n",
       "  text-overflow: ellipsis;\n",
       "  padding-right: 10px;\n",
       "}\n",
       "\n",
       ".xr-var-name:hover,\n",
       ".xr-var-dims:hover,\n",
       ".xr-var-dtype:hover,\n",
       ".xr-attrs dt:hover {\n",
       "  overflow: visible;\n",
       "  width: auto;\n",
       "  z-index: 1;\n",
       "}\n",
       "\n",
       ".xr-var-attrs,\n",
       ".xr-var-data {\n",
       "  display: none;\n",
       "  background-color: var(--xr-background-color) !important;\n",
       "  padding-bottom: 5px !important;\n",
       "}\n",
       "\n",
       ".xr-var-attrs-in:checked ~ .xr-var-attrs,\n",
       ".xr-var-data-in:checked ~ .xr-var-data {\n",
       "  display: block;\n",
       "}\n",
       "\n",
       ".xr-var-data > table {\n",
       "  float: right;\n",
       "}\n",
       "\n",
       ".xr-var-name span,\n",
       ".xr-var-data,\n",
       ".xr-attrs {\n",
       "  padding-left: 25px !important;\n",
       "}\n",
       "\n",
       ".xr-attrs,\n",
       ".xr-var-attrs,\n",
       ".xr-var-data {\n",
       "  grid-column: 1 / -1;\n",
       "}\n",
       "\n",
       "dl.xr-attrs {\n",
       "  padding: 0;\n",
       "  margin: 0;\n",
       "  display: grid;\n",
       "  grid-template-columns: 125px auto;\n",
       "}\n",
       "\n",
       ".xr-attrs dt, dd {\n",
       "  padding: 0;\n",
       "  margin: 0;\n",
       "  float: left;\n",
       "  padding-right: 10px;\n",
       "  width: auto;\n",
       "}\n",
       "\n",
       ".xr-attrs dt {\n",
       "  font-weight: normal;\n",
       "  grid-column: 1;\n",
       "}\n",
       "\n",
       ".xr-attrs dt:hover span {\n",
       "  display: inline-block;\n",
       "  background: var(--xr-background-color);\n",
       "  padding-right: 10px;\n",
       "}\n",
       "\n",
       ".xr-attrs dd {\n",
       "  grid-column: 2;\n",
       "  white-space: pre-wrap;\n",
       "  word-break: break-all;\n",
       "}\n",
       "\n",
       ".xr-icon-database,\n",
       ".xr-icon-file-text2 {\n",
       "  display: inline-block;\n",
       "  vertical-align: middle;\n",
       "  width: 1em;\n",
       "  height: 1.5em !important;\n",
       "  stroke-width: 0;\n",
       "  stroke: currentColor;\n",
       "  fill: currentColor;\n",
       "}\n",
       "</style><div class='xr-wrap'><div class='xr-header'><div class='xr-obj-type'>xarray.Dataset</div></div><ul class='xr-sections'><li class='xr-section-item'><input id='section-d20ea2dd-39d3-4a3e-9f03-fbc61c91f3e7' class='xr-section-summary-in' type='checkbox' disabled ><label for='section-d20ea2dd-39d3-4a3e-9f03-fbc61c91f3e7' class='xr-section-summary'  title='Expand/collapse section'>Dimensions:</label><div class='xr-section-inline-details'><ul class='xr-dim-list'><li><span class='xr-has-index'>var_names</span>: 587</li><li><span class='xr-has-index'>var_names_single</span>: 36</li></ul></div><div class='xr-section-details'></div></li><li class='xr-section-item'><input id='section-dafc227d-5f75-46bd-b403-90e0cef3cbd0' class='xr-section-summary-in' type='checkbox'  checked><label for='section-dafc227d-5f75-46bd-b403-90e0cef3cbd0' class='xr-section-summary' >Coordinates: <span>(2)</span></label><div class='xr-section-inline-details'></div><div class='xr-section-details'><ul class='xr-var-list'><li class='xr-var-item'><div class='xr-var-name'><span class='xr-has-index'>var_names</span></div><div class='xr-var-dims'>(var_names)</div><div class='xr-var-dtype'>object</div><div class='xr-var-preview xr-preview'>&#x27;QBP&#x27; &#x27;QBP&#x27; ... &#x27;PRECTt-dt&#x27;</div><input id='attrs-5f7d1aea-2024-4c43-baf8-e44a2905098f' class='xr-var-attrs-in' type='checkbox' disabled><label for='attrs-5f7d1aea-2024-4c43-baf8-e44a2905098f' title='Show/Hide attributes'><svg class='icon xr-icon-file-text2'><use xlink:href='#icon-file-text2'></use></svg></label><input id='data-64ac7252-18ef-4aca-81a7-b8013efd9c52' class='xr-var-data-in' type='checkbox'><label for='data-64ac7252-18ef-4aca-81a7-b8013efd9c52' title='Show/Hide data repr'><svg class='icon xr-icon-database'><use xlink:href='#icon-database'></use></svg></label><div class='xr-var-attrs'><dl class='xr-attrs'></dl></div><pre class='xr-var-data'>array([&#x27;QBP&#x27;, &#x27;QBP&#x27;, &#x27;QBP&#x27;, ..., &#x27;FLNTt-dt&#x27;, &#x27;FLNSt-dt&#x27;, &#x27;PRECTt-dt&#x27;],\n",
       "      dtype=object)</pre></li><li class='xr-var-item'><div class='xr-var-name'><span class='xr-has-index'>var_names_single</span></div><div class='xr-var-dims'>(var_names_single)</div><div class='xr-var-dtype'>object</div><div class='xr-var-preview xr-preview'>&#x27;QBP&#x27; &#x27;QCBP&#x27; ... &#x27;PRECTt-dt&#x27;</div><input id='attrs-f38a8a4a-8ccb-4c40-b145-346554076372' class='xr-var-attrs-in' type='checkbox' disabled><label for='attrs-f38a8a4a-8ccb-4c40-b145-346554076372' title='Show/Hide attributes'><svg class='icon xr-icon-file-text2'><use xlink:href='#icon-file-text2'></use></svg></label><input id='data-c3725db7-a9b2-48a1-888e-77595467792c' class='xr-var-data-in' type='checkbox'><label for='data-c3725db7-a9b2-48a1-888e-77595467792c' title='Show/Hide data repr'><svg class='icon xr-icon-database'><use xlink:href='#icon-database'></use></svg></label><div class='xr-var-attrs'><dl class='xr-attrs'></dl></div><pre class='xr-var-data'>array([&#x27;QBP&#x27;, &#x27;QCBP&#x27;, &#x27;QIBP&#x27;, &#x27;TBP&#x27;, &#x27;VBP&#x27;, &#x27;PS&#x27;, &#x27;SOLIN&#x27;, &#x27;SHFLX&#x27;, &#x27;LHFLX&#x27;,\n",
       "       &#x27;PHQ&#x27;, &#x27;PHCLDLIQ&#x27;, &#x27;PHCLDICE&#x27;, &#x27;TPHYSTND&#x27;, &#x27;QRL&#x27;, &#x27;QRS&#x27;, &#x27;DTVKE&#x27;,\n",
       "       &#x27;FSNT&#x27;, &#x27;FSNS&#x27;, &#x27;FLNT&#x27;, &#x27;FLNS&#x27;, &#x27;PRECT&#x27;, &#x27;PRECTEND&#x27;, &#x27;PRECST&#x27;,\n",
       "       &#x27;PRECSTEN&#x27;, &#x27;Qdt_adiabatic&#x27;, &#x27;QCdt_adiabatic&#x27;, &#x27;QIdt_adiabatic&#x27;,\n",
       "       &#x27;Tdt_adiabatic&#x27;, &#x27;Vdt_adiabatic&#x27;, &#x27;PHQt-dt&#x27;, &#x27;TPHYSTNDt-dt&#x27;, &#x27;FSNTt-dt&#x27;,\n",
       "       &#x27;FSNSt-dt&#x27;, &#x27;FLNTt-dt&#x27;, &#x27;FLNSt-dt&#x27;, &#x27;PRECTt-dt&#x27;], dtype=object)</pre></li></ul></div></li><li class='xr-section-item'><input id='section-1b15caec-bd03-4218-905d-b1708de6ac33' class='xr-section-summary-in' type='checkbox'  checked><label for='section-1b15caec-bd03-4218-905d-b1708de6ac33' class='xr-section-summary' >Data variables: <span>(5)</span></label><div class='xr-section-inline-details'></div><div class='xr-section-details'><ul class='xr-var-list'><li class='xr-var-item'><div class='xr-var-name'><span>mean</span></div><div class='xr-var-dims'>(var_names)</div><div class='xr-var-dtype'>float32</div><div class='xr-var-preview xr-preview'>1.654907e-06 ... 3.0012522e-08</div><input id='attrs-76858b62-91c6-4ba3-b7b3-789879800aa8' class='xr-var-attrs-in' type='checkbox' disabled><label for='attrs-76858b62-91c6-4ba3-b7b3-789879800aa8' title='Show/Hide attributes'><svg class='icon xr-icon-file-text2'><use xlink:href='#icon-file-text2'></use></svg></label><input id='data-724cd5ba-3f3a-4d53-8dab-c3dfc1780ae8' class='xr-var-data-in' type='checkbox'><label for='data-724cd5ba-3f3a-4d53-8dab-c3dfc1780ae8' title='Show/Hide data repr'><svg class='icon xr-icon-database'><use xlink:href='#icon-database'></use></svg></label><div class='xr-var-attrs'><dl class='xr-attrs'></dl></div><pre class='xr-var-data'>array([1.654907e-06, 1.609772e-06, 1.251349e-06, ..., 2.318442e+02,\n",
       "       5.269238e+01, 3.001252e-08], dtype=float32)</pre></li><li class='xr-var-item'><div class='xr-var-name'><span>std</span></div><div class='xr-var-dims'>(var_names)</div><div class='xr-var-dtype'>float32</div><div class='xr-var-preview xr-preview'>2.6914014e-07 ... 1.07634975e-07</div><input id='attrs-14237d45-2b19-4200-8e22-db8b31bcdad4' class='xr-var-attrs-in' type='checkbox' disabled><label for='attrs-14237d45-2b19-4200-8e22-db8b31bcdad4' title='Show/Hide attributes'><svg class='icon xr-icon-file-text2'><use xlink:href='#icon-file-text2'></use></svg></label><input id='data-9afc9df7-d0b7-41a5-b3ed-df048f9b7fc9' class='xr-var-data-in' type='checkbox'><label for='data-9afc9df7-d0b7-41a5-b3ed-df048f9b7fc9' title='Show/Hide data repr'><svg class='icon xr-icon-database'><use xlink:href='#icon-database'></use></svg></label><div class='xr-var-attrs'><dl class='xr-attrs'></dl></div><pre class='xr-var-data'>array([2.691401e-07, 2.580057e-07, 3.152753e-07, ..., 4.591798e+01,\n",
       "       2.730949e+01, 1.076350e-07], dtype=float32)</pre></li><li class='xr-var-item'><div class='xr-var-name'><span>min</span></div><div class='xr-var-dims'>(var_names)</div><div class='xr-var-dtype'>float32</div><div class='xr-var-preview xr-preview'>1.0736034e-06 1.0492749e-06 ... 0.0</div><input id='attrs-b2c42852-c692-459f-8538-5ff878e41098' class='xr-var-attrs-in' type='checkbox' disabled><label for='attrs-b2c42852-c692-459f-8538-5ff878e41098' title='Show/Hide attributes'><svg class='icon xr-icon-file-text2'><use xlink:href='#icon-file-text2'></use></svg></label><input id='data-901501e4-6f46-4540-af54-c459d70b0338' class='xr-var-data-in' type='checkbox'><label for='data-901501e4-6f46-4540-af54-c459d70b0338' title='Show/Hide data repr'><svg class='icon xr-icon-database'><use xlink:href='#icon-database'></use></svg></label><div class='xr-var-attrs'><dl class='xr-attrs'></dl></div><pre class='xr-var-data'>array([ 1.073603e-06,  1.049275e-06,  4.643579e-07, ...,  6.681578e+01,\n",
       "       -2.175314e+01,  0.000000e+00], dtype=float32)</pre></li><li class='xr-var-item'><div class='xr-var-name'><span>max</span></div><div class='xr-var-dims'>(var_names)</div><div class='xr-var-dtype'>float32</div><div class='xr-var-preview xr-preview'>1.9037968e-06 ... 3.7194914e-06</div><input id='attrs-3f69ed97-fe2d-4037-8cbe-b84576bb0910' class='xr-var-attrs-in' type='checkbox' disabled><label for='attrs-3f69ed97-fe2d-4037-8cbe-b84576bb0910' title='Show/Hide attributes'><svg class='icon xr-icon-file-text2'><use xlink:href='#icon-file-text2'></use></svg></label><input id='data-87544e27-b4d1-4f6a-877b-5bc77904a964' class='xr-var-data-in' type='checkbox'><label for='data-87544e27-b4d1-4f6a-877b-5bc77904a964' title='Show/Hide data repr'><svg class='icon xr-icon-database'><use xlink:href='#icon-database'></use></svg></label><div class='xr-var-attrs'><dl class='xr-attrs'></dl></div><pre class='xr-var-data'>array([1.903797e-06, 1.893694e-06, 1.777038e-06, ..., 3.232267e+02,\n",
       "       1.367864e+02, 3.719491e-06], dtype=float32)</pre></li><li class='xr-var-item'><div class='xr-var-name'><span>std_by_var</span></div><div class='xr-var-dims'>(var_names_single)</div><div class='xr-var-dtype'>float64</div><div class='xr-var-preview xr-preview'>0.003775 2.857e-05 ... 1.076e-07</div><input id='attrs-95bd1e69-5ea4-43b1-a81f-0a2587be9064' class='xr-var-attrs-in' type='checkbox' disabled><label for='attrs-95bd1e69-5ea4-43b1-a81f-0a2587be9064' title='Show/Hide attributes'><svg class='icon xr-icon-file-text2'><use xlink:href='#icon-file-text2'></use></svg></label><input id='data-d14c79af-3ad8-419b-968e-853e1ac49719' class='xr-var-data-in' type='checkbox'><label for='data-d14c79af-3ad8-419b-968e-853e1ac49719' title='Show/Hide data repr'><svg class='icon xr-icon-database'><use xlink:href='#icon-database'></use></svg></label><div class='xr-var-attrs'><dl class='xr-attrs'></dl></div><pre class='xr-var-data'>array([3.774595e-03, 2.857347e-05, 1.200597e-05, 7.221055e+01, 5.857726e+00,\n",
       "       1.171657e+04, 4.186619e+02, 1.424917e+01, 7.677998e+01, 3.750899e-08,\n",
       "       8.562256e-09, 3.697259e-09, 4.038351e-05, 1.954187e-05, 1.486777e-05,\n",
       "       7.468211e-03, 3.164372e+02, 2.406603e+02, 4.591798e+01, 2.730949e+01,\n",
       "       1.076350e-07, 2.235879e-05, 1.391192e-08, 9.453453e-06, 1.949661e-08,\n",
       "       1.876010e-09, 1.282189e-09, 4.635861e-05, 1.354562e-04, 3.750899e-08,\n",
       "       4.038351e-05, 3.164372e+02, 2.406603e+02, 4.591798e+01, 2.730949e+01,\n",
       "       1.076350e-07])</pre></li></ul></div></li><li class='xr-section-item'><input id='section-8d94b625-5436-4f9f-8b2d-0d5163f27015' class='xr-section-summary-in' type='checkbox' disabled ><label for='section-8d94b625-5436-4f9f-8b2d-0d5163f27015' class='xr-section-summary'  title='Expand/collapse section'>Attributes: <span>(0)</span></label><div class='xr-section-inline-details'></div><div class='xr-section-details'><dl class='xr-attrs'></dl></div></li></ul></div></div>"
      ],
      "text/plain": [
       "<xarray.Dataset>\n",
       "Dimensions:           (var_names: 587, var_names_single: 36)\n",
       "Coordinates:\n",
       "  * var_names         (var_names) object 'QBP' 'QBP' ... 'FLNSt-dt' 'PRECTt-dt'\n",
       "  * var_names_single  (var_names_single) object 'QBP' 'QCBP' ... 'PRECTt-dt'\n",
       "Data variables:\n",
       "    mean              (var_names) float32 1.654907e-06 ... 3.0012522e-08\n",
       "    std               (var_names) float32 2.6914014e-07 ... 1.07634975e-07\n",
       "    min               (var_names) float32 1.0736034e-06 1.0492749e-06 ... 0.0\n",
       "    max               (var_names) float32 1.9037968e-06 ... 3.7194914e-06\n",
       "    std_by_var        (var_names_single) float64 0.003775 ... 1.076e-07"
      ]
     },
     "execution_count": 78,
     "metadata": {},
     "output_type": "execute_result"
    }
   ],
   "source": [
    "norm_dataset"
   ]
  },
  {
   "cell_type": "code",
   "execution_count": 79,
   "metadata": {},
   "outputs": [],
   "source": [
    "new_norm.to_netcdf(path_save_dir+'2022_01_13_NORM_For_Nando_CI_t-dt.nc',mode='w')"
   ]
  },
  {
   "cell_type": "markdown",
   "metadata": {},
   "source": [
    "# Check that training is now stable"
   ]
  },
  {
   "cell_type": "markdown",
   "metadata": {},
   "source": [
    "## Climate invariant, without outputs [t-dt]"
   ]
  },
  {
   "cell_type": "code",
   "execution_count": null,
   "metadata": {},
   "outputs": [],
   "source": [
    "path_save_dir = '/DFS-L/DATA/pritchard/tbeucler/SPCAM/SPCAM_PHYS/Aqua_0K_ClimInv_withVBP/'"
   ]
  },
  {
   "cell_type": "code",
   "execution_count": null,
   "metadata": {},
   "outputs": [],
   "source": [
    "path_train = '2021_12_22_TRAIN_For_Nando_CI.nc'\n",
    "path_newnorm = '2021_12_22_NORM_For_Nando_CI.nc'"
   ]
  },
  {
   "cell_type": "code",
   "execution_count": null,
   "metadata": {},
   "outputs": [],
   "source": [
    "test_train = xr.open_dataset(path_save_dir+path_train)"
   ]
  },
  {
   "cell_type": "code",
   "execution_count": null,
   "metadata": {},
   "outputs": [],
   "source": [
    "test_train['var_names'][90:95]"
   ]
  },
  {
   "cell_type": "code",
   "execution_count": null,
   "metadata": {},
   "outputs": [],
   "source": [
    "in_vars = ['RH','BMSE','PS', 'SOLIN', 'SHFLX', 'LHF_nsDELQ']\n",
    "out_vars = ['PHQ','TPHYSTND','FSNT','FSNS','FLNT','FLNS','PRECT']"
   ]
  },
  {
   "cell_type": "code",
   "execution_count": null,
   "metadata": {},
   "outputs": [],
   "source": [
    "train_gen_Nando = DataGeneratorCI(\n",
    "    data_fn = path_save_dir+path_train,\n",
    "    input_vars = in_vars,\n",
    "    output_vars = out_vars,\n",
    "    norm_fn = path_save_dir+path_newnorm,\n",
    "    input_transform = ('mean', 'maxrs'),\n",
    "    output_transform = scale_dict,\n",
    "    batch_size=N_batch\n",
    ")"
   ]
  },
  {
   "cell_type": "code",
   "execution_count": null,
   "metadata": {},
   "outputs": [],
   "source": [
    "train_gen_Nando[0][0]"
   ]
  },
  {
   "cell_type": "code",
   "execution_count": null,
   "metadata": {},
   "outputs": [],
   "source": [
    "inp = Input(shape=(64,)) ## input after rh and tns transformation\n",
    "densout = Dense(128, activation='linear')(inp)\n",
    "densout = LeakyReLU(alpha=0.3)(densout)\n",
    "for i in range (6):\n",
    "    densout = Dense(128, activation='linear')(densout)\n",
    "    densout = LeakyReLU(alpha=0.3)(densout)\n",
    "dense_out = Dense(65, activation='linear')(densout)\n",
    "model = tf.keras.models.Model(inp, dense_out)"
   ]
  },
  {
   "cell_type": "code",
   "execution_count": null,
   "metadata": {},
   "outputs": [],
   "source": [
    "model.summary()"
   ]
  },
  {
   "cell_type": "code",
   "execution_count": null,
   "metadata": {},
   "outputs": [],
   "source": [
    "model.compile(tf.keras.optimizers.Adam(), loss=mse)"
   ]
  },
  {
   "cell_type": "code",
   "execution_count": null,
   "metadata": {},
   "outputs": [],
   "source": [
    "# Where to save the model\n",
    "path_HDF5 = '/DFS-L/DATA/pritchard/tbeucler/SPCAM/HDF5_DATA/'\n",
    "save_name = '2021_12_22_Test_Nando'"
   ]
  },
  {
   "cell_type": "code",
   "execution_count": null,
   "metadata": {},
   "outputs": [],
   "source": [
    "earlyStopping = EarlyStopping(monitor='val_loss', patience=10, verbose=0, mode='min')\n",
    "mcp_save_pos = ModelCheckpoint(path_HDF5+save_name+'.hdf5',save_best_only=True, monitor='val_loss', mode='min')"
   ]
  },
  {
   "cell_type": "code",
   "execution_count": null,
   "metadata": {},
   "outputs": [],
   "source": [
    "Nep = 20\n",
    "model.fit_generator(train_gen_Nando, epochs=Nep, validation_data=train_gen_Nando,\\\n",
    "                    callbacks=[earlyStopping, mcp_save_pos])"
   ]
  },
  {
   "cell_type": "markdown",
   "metadata": {},
   "source": [
    "## Climate invariant, with tendencies [t-dt]"
   ]
  },
  {
   "cell_type": "code",
   "execution_count": 3,
   "metadata": {},
   "outputs": [],
   "source": [
    "path_save_dir = '/DFS-L/DATA/pritchard/tbeucler/SPCAM/SPCAM_PHYS/'"
   ]
  },
  {
   "cell_type": "code",
   "execution_count": 20,
   "metadata": {},
   "outputs": [],
   "source": [
    "path_train = '2022_01_13_TRAIN_For_Nando_CI_t-dt.nc'\n",
    "path_valid = '2022_01_13_VALID_For_Nando_CI_t-dt.nc'\n",
    "path_newnorm = '2022_01_13_NORM_For_Nando_CI_t-dt.nc'"
   ]
  },
  {
   "cell_type": "code",
   "execution_count": 21,
   "metadata": {},
   "outputs": [],
   "source": [
    "in_vars = ['RH','BMSE','PS', 'SOLIN', 'SHFLX', 'LHF_nsDELQ',\n",
    "          'PHQt-dt','TPHYSTNDt-dt','FSNTt-dt','FSNSt-dt',\n",
    "           'FLNTt-dt','FLNSt-dt','PRECTt-dt']\n",
    "out_vars = ['PHQ','TPHYSTND','FSNT','FSNS','FLNT','FLNS','PRECT']"
   ]
  },
  {
   "cell_type": "code",
   "execution_count": 22,
   "metadata": {},
   "outputs": [],
   "source": [
    "N_batch = 8192"
   ]
  },
  {
   "cell_type": "code",
   "execution_count": 23,
   "metadata": {},
   "outputs": [],
   "source": [
    "train_gen_Nando = DataGeneratorCI(\n",
    "    data_fn = path_save_dir+path_train,\n",
    "    input_vars = in_vars,\n",
    "    output_vars = out_vars,\n",
    "    norm_fn = path_save_dir+path_newnorm,\n",
    "    input_transform = ('mean', 'maxrs'),\n",
    "    output_transform = scale_dict,\n",
    "    batch_size=N_batch\n",
    ")"
   ]
  },
  {
   "cell_type": "code",
   "execution_count": 24,
   "metadata": {},
   "outputs": [],
   "source": [
    "valid_gen_Nando = DataGeneratorCI(\n",
    "    data_fn = path_save_dir+path_valid,\n",
    "    input_vars = in_vars,\n",
    "    output_vars = out_vars,\n",
    "    norm_fn = path_save_dir+path_newnorm,\n",
    "    input_transform = ('mean', 'maxrs'),\n",
    "    output_transform = scale_dict,\n",
    "    batch_size=N_batch\n",
    ")"
   ]
  },
  {
   "cell_type": "code",
   "execution_count": 13,
   "metadata": {},
   "outputs": [
    {
     "data": {
      "text/plain": [
       "(8192, 129)"
      ]
     },
     "execution_count": 13,
     "metadata": {},
     "output_type": "execute_result"
    }
   ],
   "source": [
    "train_gen_Nando[0][0].shape"
   ]
  },
  {
   "cell_type": "code",
   "execution_count": 12,
   "metadata": {},
   "outputs": [
    {
     "data": {
      "text/plain": [
       "array([[ 0.00000000e+00,  0.00000000e+00, -4.36275468e-06, ...,\n",
       "         1.68086456e+02,  1.49382973e+01,  9.23653030e+01],\n",
       "       [ 0.00000000e+00,  0.00000000e+00, -3.89850584e-06, ...,\n",
       "         1.67319870e+02,  1.46057901e+01,  9.23800430e+01],\n",
       "       [ 0.00000000e+00,  0.00000000e+00, -3.86164402e-06, ...,\n",
       "         1.66681015e+02,  1.45049973e+01,  8.66826935e+01],\n",
       "       ...,\n",
       "       [ 0.00000000e+00,  0.00000000e+00, -9.70067777e-05, ...,\n",
       "         2.12936111e+02,  6.35897522e+01,  1.22346325e+01],\n",
       "       [ 0.00000000e+00,  0.00000000e+00, -9.47348162e-05, ...,\n",
       "         2.18299789e+02,  9.45541534e+01,  6.73200469e-04],\n",
       "       [ 0.00000000e+00,  0.00000000e+00, -9.27014407e-05, ...,\n",
       "         2.19012955e+02,  1.04582176e+02,  0.00000000e+00]], dtype=float32)"
      ]
     },
     "execution_count": 12,
     "metadata": {},
     "output_type": "execute_result"
    }
   ],
   "source": [
    "train_gen_Nando[0][1]"
   ]
  },
  {
   "cell_type": "code",
   "execution_count": 14,
   "metadata": {},
   "outputs": [],
   "source": [
    "inp = Input(shape=(129,)) ## input after rh and tns transformation\n",
    "densout = Dense(128, activation='linear')(inp)\n",
    "densout = LeakyReLU(alpha=0.3)(densout)\n",
    "for i in range (6):\n",
    "    densout = Dense(128, activation='linear')(densout)\n",
    "    densout = LeakyReLU(alpha=0.3)(densout)\n",
    "dense_out = Dense(65, activation='linear')(densout)\n",
    "model = tf.keras.models.Model(inp, dense_out)"
   ]
  },
  {
   "cell_type": "code",
   "execution_count": 15,
   "metadata": {},
   "outputs": [
    {
     "name": "stdout",
     "output_type": "stream",
     "text": [
      "Model: \"model\"\n",
      "_________________________________________________________________\n",
      "Layer (type)                 Output Shape              Param #   \n",
      "=================================================================\n",
      "input_1 (InputLayer)         [(None, 129)]             0         \n",
      "_________________________________________________________________\n",
      "dense (Dense)                (None, 128)               16640     \n",
      "_________________________________________________________________\n",
      "leaky_re_lu (LeakyReLU)      (None, 128)               0         \n",
      "_________________________________________________________________\n",
      "dense_1 (Dense)              (None, 128)               16512     \n",
      "_________________________________________________________________\n",
      "leaky_re_lu_1 (LeakyReLU)    (None, 128)               0         \n",
      "_________________________________________________________________\n",
      "dense_2 (Dense)              (None, 128)               16512     \n",
      "_________________________________________________________________\n",
      "leaky_re_lu_2 (LeakyReLU)    (None, 128)               0         \n",
      "_________________________________________________________________\n",
      "dense_3 (Dense)              (None, 128)               16512     \n",
      "_________________________________________________________________\n",
      "leaky_re_lu_3 (LeakyReLU)    (None, 128)               0         \n",
      "_________________________________________________________________\n",
      "dense_4 (Dense)              (None, 128)               16512     \n",
      "_________________________________________________________________\n",
      "leaky_re_lu_4 (LeakyReLU)    (None, 128)               0         \n",
      "_________________________________________________________________\n",
      "dense_5 (Dense)              (None, 128)               16512     \n",
      "_________________________________________________________________\n",
      "leaky_re_lu_5 (LeakyReLU)    (None, 128)               0         \n",
      "_________________________________________________________________\n",
      "dense_6 (Dense)              (None, 128)               16512     \n",
      "_________________________________________________________________\n",
      "leaky_re_lu_6 (LeakyReLU)    (None, 128)               0         \n",
      "_________________________________________________________________\n",
      "dense_7 (Dense)              (None, 65)                8385      \n",
      "=================================================================\n",
      "Total params: 124,097\n",
      "Trainable params: 124,097\n",
      "Non-trainable params: 0\n",
      "_________________________________________________________________\n"
     ]
    }
   ],
   "source": [
    "model.summary()"
   ]
  },
  {
   "cell_type": "code",
   "execution_count": 16,
   "metadata": {},
   "outputs": [],
   "source": [
    "model.compile(tf.keras.optimizers.Adam(), loss=mse)"
   ]
  },
  {
   "cell_type": "code",
   "execution_count": 17,
   "metadata": {},
   "outputs": [],
   "source": [
    "# Where to save the model\n",
    "path_HDF5 = '/DFS-L/DATA/pritchard/tbeucler/SPCAM/HDF5_DATA/'\n",
    "save_name = '2022_01_14_Test_Nando_CI_t-dt'"
   ]
  },
  {
   "cell_type": "code",
   "execution_count": 25,
   "metadata": {},
   "outputs": [],
   "source": [
    "earlyStopping = EarlyStopping(monitor='val_loss', patience=10, verbose=0, mode='min')\n",
    "mcp_save_pos = ModelCheckpoint(path_HDF5+save_name+'.hdf5',save_best_only=True, monitor='val_loss', mode='min')"
   ]
  },
  {
   "cell_type": "code",
   "execution_count": 19,
   "metadata": {},
   "outputs": [
    {
     "name": "stdout",
     "output_type": "stream",
     "text": [
      "Epoch 1/20\n",
      "5759/5759 [==============================] - 628s 109ms/step - loss: 667.7092 - val_loss: 506.9509\n",
      "Epoch 2/20\n",
      "5759/5759 [==============================] - 380s 66ms/step - loss: 484.7378 - val_loss: 469.2093\n",
      "Epoch 3/20\n",
      "5759/5759 [==============================] - 396s 69ms/step - loss: 459.0680 - val_loss: 455.7274\n",
      "Epoch 4/20\n",
      "5759/5759 [==============================] - 373s 65ms/step - loss: 445.9709 - val_loss: 442.7835\n",
      "Epoch 5/20\n",
      "5759/5759 [==============================] - 377s 65ms/step - loss: 437.5426 - val_loss: 434.9219\n",
      "Epoch 6/20\n",
      "5759/5759 [==============================] - 373s 65ms/step - loss: 431.2449 - val_loss: 427.4742\n",
      "Epoch 7/20\n",
      "5759/5759 [==============================] - 382s 66ms/step - loss: 426.4773 - val_loss: 433.7461\n",
      "Epoch 8/20\n",
      "5759/5759 [==============================] - 369s 64ms/step - loss: 422.8159 - val_loss: 424.9642\n",
      "Epoch 9/20\n",
      "5759/5759 [==============================] - 371s 64ms/step - loss: 419.8550 - val_loss: 416.3854\n",
      "Epoch 10/20\n",
      "5759/5759 [==============================] - 383s 67ms/step - loss: 417.2843 - val_loss: 415.1655\n",
      "Epoch 11/20\n",
      "5759/5759 [==============================] - 377s 65ms/step - loss: 414.8825 - val_loss: 410.8655\n",
      "Epoch 12/20\n",
      "5759/5759 [==============================] - 362s 63ms/step - loss: 412.9388 - val_loss: 412.6044\n",
      "Epoch 13/20\n",
      "5759/5759 [==============================] - 356s 62ms/step - loss: 411.3169 - val_loss: 409.9739\n",
      "Epoch 14/20\n",
      "5759/5759 [==============================] - 362s 63ms/step - loss: 409.7007 - val_loss: 407.6163\n",
      "Epoch 15/20\n",
      "5759/5759 [==============================] - 365s 63ms/step - loss: 408.4143 - val_loss: 410.2210\n",
      "Epoch 16/20\n",
      "5759/5759 [==============================] - 354s 61ms/step - loss: 407.3000 - val_loss: 405.1624\n",
      "Epoch 17/20\n",
      "5759/5759 [==============================] - 389s 68ms/step - loss: 406.1050 - val_loss: 403.3965\n",
      "Epoch 18/20\n",
      "5759/5759 [==============================] - 366s 64ms/step - loss: 405.1521 - val_loss: 401.9689\n",
      "Epoch 19/20\n",
      "5759/5759 [==============================] - 376s 65ms/step - loss: 404.2958 - val_loss: 402.9567\n",
      "Epoch 20/20\n",
      "5759/5759 [==============================] - 365s 63ms/step - loss: 403.4886 - val_loss: 400.6679\n"
     ]
    },
    {
     "data": {
      "text/plain": [
       "<tensorflow.python.keras.callbacks.History at 0x7fc4a02d3550>"
      ]
     },
     "execution_count": 19,
     "metadata": {},
     "output_type": "execute_result"
    }
   ],
   "source": [
    "Nep = 20\n",
    "model.fit_generator(train_gen_Nando, epochs=Nep, validation_data=train_gen_Nando,\\\n",
    "                    callbacks=[earlyStopping, mcp_save_pos])"
   ]
  },
  {
   "cell_type": "code",
   "execution_count": null,
   "metadata": {},
   "outputs": [
    {
     "name": "stdout",
     "output_type": "stream",
     "text": [
      "Epoch 1/20\n",
      "1243/5759 [=====>........................] - ETA: 4:10 - loss: 402.7415"
     ]
    }
   ],
   "source": [
    "Nep = 20\n",
    "model.fit_generator(train_gen_Nando, epochs=Nep, validation_data=valid_gen_Nando,\\\n",
    "                    callbacks=[earlyStopping, mcp_save_pos])"
   ]
  },
  {
   "cell_type": "code",
   "execution_count": null,
   "metadata": {},
   "outputs": [],
   "source": []
  }
 ],
 "metadata": {
  "kernelspec": {
   "display_name": "Python 3",
   "language": "python",
   "name": "python3"
  },
  "language_info": {
   "codemirror_mode": {
    "name": "ipython",
    "version": 3
   },
   "file_extension": ".py",
   "mimetype": "text/x-python",
   "name": "python",
   "nbconvert_exporter": "python",
   "pygments_lexer": "ipython3",
   "version": "3.6.10"
  },
  "toc": {
   "base_numbering": 1,
   "nav_menu": {},
   "number_sections": true,
   "sideBar": true,
   "skip_h1_title": false,
   "title_cell": "Table of Contents",
   "title_sidebar": "Contents",
   "toc_cell": false,
   "toc_position": {},
   "toc_section_display": true,
   "toc_window_display": true
  }
 },
 "nbformat": 4,
 "nbformat_minor": 4
}
