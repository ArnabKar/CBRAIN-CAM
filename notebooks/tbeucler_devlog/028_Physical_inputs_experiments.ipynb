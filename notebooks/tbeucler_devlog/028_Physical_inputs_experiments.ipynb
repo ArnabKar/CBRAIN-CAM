{
 "cells": [
  {
   "cell_type": "markdown",
   "metadata": {},
   "source": [
    "tgb - 11/13/2019 - Testing if rescaling the inputs changes the ability of the network to generalize.   \n",
    "Architecture = From [], predict []   \n",
    "Test 1 = Rephrase all water concentrations as RH  \n",
    "Test 2 = Rephrase all temperature as deviations from moist adiabat  \n",
    "  \n",
    "tgb - 11/15/2019 - This notebook is mostly used for pre-processing"
   ]
  },
  {
   "cell_type": "markdown",
   "metadata": {},
   "source": [
    "# 0) Imports"
   ]
  },
  {
   "cell_type": "code",
   "execution_count": 10,
   "metadata": {},
   "outputs": [
    {
     "name": "stdout",
     "output_type": "stream",
     "text": [
      "/filer/z-sv-pool12c/t/Tom.Beucler/SPCAM/CBRAIN-CAM\n"
     ]
    }
   ],
   "source": [
    "from cbrain.imports import *\n",
    "from cbrain.data_generator import *\n",
    "from cbrain.cam_constants import *\n",
    "from cbrain.losses import *\n",
    "from cbrain.utils import limit_mem\n",
    "from cbrain.layers import *\n",
    "import tensorflow as tf\n",
    "import tensorflow.math as tfm\n",
    "from tensorflow.keras.layers import *\n",
    "from tensorflow.keras.models import *\n",
    "import xarray as xr\n",
    "import numpy as np\n",
    "from cbrain.model_diagnostics import ModelDiagnostics\n",
    "import matplotlib as mpl\n",
    "import matplotlib.pyplot as plt\n",
    "import matplotlib.image as imag\n",
    "import scipy.integrate as sin\n",
    "\n",
    "TRAINDIR = '/local/Tom.Beucler/SPCAM_PHYS/'\n",
    "DATADIR = '/project/meteo/w2w/A6/S.Rasp/SP-CAM/fluxbypass_aqua/'\n",
    "PREFIX = '8col009_01_'\n",
    "%cd /filer/z-sv-pool12c/t/Tom.Beucler/SPCAM/CBRAIN-CAM\n",
    "\n",
    "# Otherwise tensorflow will use ALL your GPU RAM for no reason\n",
    "limit_mem()"
   ]
  },
  {
   "cell_type": "markdown",
   "metadata": {},
   "source": [
    "# 1) Preprocessing"
   ]
  },
  {
   "cell_type": "code",
   "execution_count": 14,
   "metadata": {},
   "outputs": [
    {
     "name": "stdout",
     "output_type": "stream",
     "text": [
      "/home/t/Tom.Beucler/miniconda3/lib/python3.7/site-packages/tensorflow/python/framework/dtypes.py:516: FutureWarning: Passing (type, 1) or '1type' as a synonym of type is deprecated; in a future version of numpy, it will be understood as (type, (1,)) / '(1,)type'.\n",
      "  _np_qint8 = np.dtype([(\"qint8\", np.int8, 1)])\n",
      "/home/t/Tom.Beucler/miniconda3/lib/python3.7/site-packages/tensorflow/python/framework/dtypes.py:517: FutureWarning: Passing (type, 1) or '1type' as a synonym of type is deprecated; in a future version of numpy, it will be understood as (type, (1,)) / '(1,)type'.\n",
      "  _np_quint8 = np.dtype([(\"quint8\", np.uint8, 1)])\n",
      "/home/t/Tom.Beucler/miniconda3/lib/python3.7/site-packages/tensorflow/python/framework/dtypes.py:518: FutureWarning: Passing (type, 1) or '1type' as a synonym of type is deprecated; in a future version of numpy, it will be understood as (type, (1,)) / '(1,)type'.\n",
      "  _np_qint16 = np.dtype([(\"qint16\", np.int16, 1)])\n",
      "/home/t/Tom.Beucler/miniconda3/lib/python3.7/site-packages/tensorflow/python/framework/dtypes.py:519: FutureWarning: Passing (type, 1) or '1type' as a synonym of type is deprecated; in a future version of numpy, it will be understood as (type, (1,)) / '(1,)type'.\n",
      "  _np_quint16 = np.dtype([(\"quint16\", np.uint16, 1)])\n",
      "/home/t/Tom.Beucler/miniconda3/lib/python3.7/site-packages/tensorflow/python/framework/dtypes.py:520: FutureWarning: Passing (type, 1) or '1type' as a synonym of type is deprecated; in a future version of numpy, it will be understood as (type, (1,)) / '(1,)type'.\n",
      "  _np_qint32 = np.dtype([(\"qint32\", np.int32, 1)])\n",
      "/home/t/Tom.Beucler/miniconda3/lib/python3.7/site-packages/tensorflow/python/framework/dtypes.py:525: FutureWarning: Passing (type, 1) or '1type' as a synonym of type is deprecated; in a future version of numpy, it will be understood as (type, (1,)) / '(1,)type'.\n",
      "  np_resource = np.dtype([(\"resource\", np.ubyte, 1)])\n",
      "/home/t/Tom.Beucler/miniconda3/lib/python3.7/site-packages/tensorboard/compat/tensorflow_stub/dtypes.py:541: FutureWarning: Passing (type, 1) or '1type' as a synonym of type is deprecated; in a future version of numpy, it will be understood as (type, (1,)) / '(1,)type'.\n",
      "  _np_qint8 = np.dtype([(\"qint8\", np.int8, 1)])\n",
      "/home/t/Tom.Beucler/miniconda3/lib/python3.7/site-packages/tensorboard/compat/tensorflow_stub/dtypes.py:542: FutureWarning: Passing (type, 1) or '1type' as a synonym of type is deprecated; in a future version of numpy, it will be understood as (type, (1,)) / '(1,)type'.\n",
      "  _np_quint8 = np.dtype([(\"quint8\", np.uint8, 1)])\n",
      "/home/t/Tom.Beucler/miniconda3/lib/python3.7/site-packages/tensorboard/compat/tensorflow_stub/dtypes.py:543: FutureWarning: Passing (type, 1) or '1type' as a synonym of type is deprecated; in a future version of numpy, it will be understood as (type, (1,)) / '(1,)type'.\n",
      "  _np_qint16 = np.dtype([(\"qint16\", np.int16, 1)])\n",
      "/home/t/Tom.Beucler/miniconda3/lib/python3.7/site-packages/tensorboard/compat/tensorflow_stub/dtypes.py:544: FutureWarning: Passing (type, 1) or '1type' as a synonym of type is deprecated; in a future version of numpy, it will be understood as (type, (1,)) / '(1,)type'.\n",
      "  _np_quint16 = np.dtype([(\"quint16\", np.uint16, 1)])\n",
      "/home/t/Tom.Beucler/miniconda3/lib/python3.7/site-packages/tensorboard/compat/tensorflow_stub/dtypes.py:545: FutureWarning: Passing (type, 1) or '1type' as a synonym of type is deprecated; in a future version of numpy, it will be understood as (type, (1,)) / '(1,)type'.\n",
      "  _np_qint32 = np.dtype([(\"qint32\", np.int32, 1)])\n",
      "/home/t/Tom.Beucler/miniconda3/lib/python3.7/site-packages/tensorboard/compat/tensorflow_stub/dtypes.py:550: FutureWarning: Passing (type, 1) or '1type' as a synonym of type is deprecated; in a future version of numpy, it will be understood as (type, (1,)) / '(1,)type'.\n",
      "  np_resource = np.dtype([(\"resource\", np.ubyte, 1)])\n",
      "WARNING: Logging before flag parsing goes to stderr.\n",
      "W1115 23:16:19.075913 22554465851200 deprecation_wrapper.py:119] From /filer/z-sv-pool12c/t/Tom.Beucler/SPCAM/CBRAIN-CAM/cbrain/models.py:16: The name tf.keras.layers.CuDNNGRU is deprecated. Please use tf.compat.v1.keras.layers.CuDNNGRU instead.\n",
      "\n",
      "W1115 23:16:19.076068 22554465851200 deprecation_wrapper.py:119] From /filer/z-sv-pool12c/t/Tom.Beucler/SPCAM/CBRAIN-CAM/cbrain/models.py:16: The name tf.keras.layers.CuDNNLSTM is deprecated. Please use tf.compat.v1.keras.layers.CuDNNLSTM instead.\n",
      "\n",
      "/filer/z-sv-pool12c/t/Tom.Beucler/SPCAM/CBRAIN-CAM\n",
      "/home/t/Tom.Beucler/miniconda3/lib/python3.7/site-packages/xarray/backends/api.py:783: FutureWarning: In xarray version 0.13 `auto_combine` will be deprecated.\n",
      "  coords=coords)\n",
      "/home/t/Tom.Beucler/miniconda3/lib/python3.7/site-packages/xarray/backends/api.py:783: FutureWarning: Also `open_mfdataset` will no longer accept a `concat_dim` argument.\n",
      "To get equivalent behaviour from now on please use the new\n",
      "`combine_nested` function instead (or the `combine='nested'` option to\n",
      "`open_mfdataset`).The datasets supplied have global dimension coordinates. You may want\n",
      "to use the new `combine_by_coords` function (or the\n",
      "`combine='by_coords'` option to `open_mfdataset` to order the datasets\n",
      "before concatenation. Alternatively, to continue concatenating based\n",
      "on the order the datasets are supplied in in future, please use the\n",
      "new `combine_nested` function (or the `combine='nested'` option to\n",
      "open_mfdataset).\n",
      "  coords=coords)\n",
      "These time steps are cut: [ 431  863 1295 1727 2159 2591 3023 3455 3887 4319 4751]\n",
      "100%|█████████████████████████████████████████████| 5/5 [01:05<00:00, 12.37s/it]\n",
      "/home/t/Tom.Beucler/miniconda3/lib/python3.7/site-packages/xarray/backends/api.py:783: FutureWarning: In xarray version 0.13 `auto_combine` will be deprecated.\n",
      "  coords=coords)\n",
      "/home/t/Tom.Beucler/miniconda3/lib/python3.7/site-packages/xarray/backends/api.py:783: FutureWarning: Also `open_mfdataset` will no longer accept a `concat_dim` argument.\n",
      "To get equivalent behaviour from now on please use the new\n",
      "`combine_nested` function instead (or the `combine='nested'` option to\n",
      "`open_mfdataset`).The datasets supplied have global dimension coordinates. You may want\n",
      "to use the new `combine_by_coords` function (or the\n",
      "`combine='by_coords'` option to `open_mfdataset` to order the datasets\n",
      "before concatenation. Alternatively, to continue concatenating based\n",
      "on the order the datasets are supplied in in future, please use the\n",
      "new `combine_nested` function (or the `combine='nested'` option to\n",
      "open_mfdataset).\n",
      "  coords=coords)\n",
      "These time steps are cut: [ 431  863 1295 1727 2159 2591 3023 3455 3887 4319 4751]\n"
     ]
    }
   ],
   "source": [
    "!python preprocessing-11132019.py -c /home/t/Tom.Beucler/SPCAM/CBRAIN-CAM/pp_config/120_POG_84G_p4K_TfromTSinput.yml"
   ]
  },
  {
   "cell_type": "code",
   "execution_count": 13,
   "metadata": {},
   "outputs": [
    {
     "name": "stdout",
     "output_type": "stream",
     "text": [
      "-rw-r--r-- 1 Tom.Beucler ls-craig  15K Nov 13 22:17 /local/Tom.Beucler/SPCAM_PHYS/100_norm.nc\r\n",
      "-rw-r--r-- 1 Tom.Beucler ls-craig 1.8G Nov 13 22:16 /local/Tom.Beucler/SPCAM_PHYS/100_train.nc\r\n",
      "-rw-r--r-- 1 Tom.Beucler ls-craig 1.8G Nov 13 22:16 /local/Tom.Beucler/SPCAM_PHYS/100_train_shuffle.nc\r\n",
      "-rw-r--r-- 1 Tom.Beucler ls-craig 1.8G Nov 13 22:17 /local/Tom.Beucler/SPCAM_PHYS/100_valid.nc\r\n",
      "-rw-r--r-- 1 Tom.Beucler ls-craig  22G Nov 13 22:32 /local/Tom.Beucler/SPCAM_PHYS/101_train.nc\r\n",
      "-rw-r--r-- 1 Tom.Beucler ls-craig  22G Nov 13 22:33 /local/Tom.Beucler/SPCAM_PHYS/101_train_shuffle.nc\r\n",
      "-rw-r--r-- 1 Tom.Beucler ls-craig  22G Nov 13 22:47 /local/Tom.Beucler/SPCAM_PHYS/101_valid.nc\r\n",
      "-rw-r--r-- 1 Tom.Beucler ls-craig  22G Nov 13 23:57 /local/Tom.Beucler/SPCAM_PHYS/102_train.nc\r\n",
      "-rw-r--r-- 1 Tom.Beucler ls-craig  22G Nov 13 23:58 /local/Tom.Beucler/SPCAM_PHYS/102_train_shuffle.nc\r\n",
      "-rw-r--r-- 1 Tom.Beucler ls-craig  22G Nov 14 00:13 /local/Tom.Beucler/SPCAM_PHYS/102_valid.nc\r\n",
      "-rw-r--r-- 1 Tom.Beucler ls-craig  17K Nov 14 01:47 /local/Tom.Beucler/SPCAM_PHYS/103_norm.nc\r\n",
      "-rw-r--r-- 1 Tom.Beucler ls-craig 3.5G Nov 14 01:44 /local/Tom.Beucler/SPCAM_PHYS/103_train.nc\r\n",
      "-rw-r--r-- 1 Tom.Beucler ls-craig 3.5G Nov 14 01:44 /local/Tom.Beucler/SPCAM_PHYS/103_train_shuffle.nc\r\n",
      "-rw-r--r-- 1 Tom.Beucler ls-craig 3.5G Nov 14 01:47 /local/Tom.Beucler/SPCAM_PHYS/103_valid.nc\r\n",
      "-rw-r--r-- 1 Tom.Beucler ls-craig  42G Nov 14 02:23 /local/Tom.Beucler/SPCAM_PHYS/104_train.nc\r\n",
      "-rw-r--r-- 1 Tom.Beucler ls-craig  42G Nov 14 02:26 /local/Tom.Beucler/SPCAM_PHYS/104_train_shuffle.nc\r\n",
      "-rw-r--r-- 1 Tom.Beucler ls-craig  42G Nov 14 02:58 /local/Tom.Beucler/SPCAM_PHYS/104_valid.nc\r\n",
      "-rw-r--r-- 1 Tom.Beucler ls-craig  42G Nov 14 03:53 /local/Tom.Beucler/SPCAM_PHYS/105_train.nc\r\n",
      "-rw-r--r-- 1 Tom.Beucler ls-craig  42G Nov 14 03:56 /local/Tom.Beucler/SPCAM_PHYS/105_train_shuffle.nc\r\n",
      "-rw-r--r-- 1 Tom.Beucler ls-craig  42G Nov 14 04:31 /local/Tom.Beucler/SPCAM_PHYS/105_valid.nc\r\n",
      "-rw-r--r-- 1 Tom.Beucler ls-craig  17K Nov 14 06:44 /local/Tom.Beucler/SPCAM_PHYS/106_norm.nc\r\n",
      "-rw-r--r-- 1 Tom.Beucler ls-craig  15K Nov 15 20:06 /local/Tom.Beucler/SPCAM_PHYS/112_norm.nc\r\n",
      "-rw-r--r-- 1 Tom.Beucler ls-craig 1.8G Nov 15 20:05 /local/Tom.Beucler/SPCAM_PHYS/112_train.nc\r\n",
      "-rw-r--r-- 1 Tom.Beucler ls-craig 1.8G Nov 15 20:05 /local/Tom.Beucler/SPCAM_PHYS/112_train_shuffle.nc\r\n",
      "-rw-r--r-- 1 Tom.Beucler ls-craig 1.8G Nov 15 20:06 /local/Tom.Beucler/SPCAM_PHYS/112_valid.nc\r\n",
      "-rw-r--r-- 1 Tom.Beucler ls-craig  22G Nov 15 20:22 /local/Tom.Beucler/SPCAM_PHYS/113_train.nc\r\n",
      "-rw-r--r-- 1 Tom.Beucler ls-craig  22G Nov 15 20:23 /local/Tom.Beucler/SPCAM_PHYS/113_train_shuffle.nc\r\n",
      "-rw-r--r-- 1 Tom.Beucler ls-craig  22G Nov 15 20:33 /local/Tom.Beucler/SPCAM_PHYS/113_valid.nc\r\n",
      "-rw-r--r-- 1 Tom.Beucler ls-craig  22G Nov 15 21:00 /local/Tom.Beucler/SPCAM_PHYS/114_train.nc\r\n",
      "-rw-r--r-- 1 Tom.Beucler ls-craig  22G Nov 15 21:01 /local/Tom.Beucler/SPCAM_PHYS/114_train_shuffle.nc\r\n",
      "-rw-r--r-- 1 Tom.Beucler ls-craig  22G Nov 15 21:14 /local/Tom.Beucler/SPCAM_PHYS/114_valid.nc\r\n",
      "-rw-r--r-- 1 Tom.Beucler ls-craig  15K Nov 15 21:27 /local/Tom.Beucler/SPCAM_PHYS/115_norm.nc\r\n",
      "-rw-r--r-- 1 Tom.Beucler ls-craig 1.8G Nov 15 21:26 /local/Tom.Beucler/SPCAM_PHYS/115_train.nc\r\n",
      "-rw-r--r-- 1 Tom.Beucler ls-craig 1.8G Nov 15 21:26 /local/Tom.Beucler/SPCAM_PHYS/115_train_shuffle.nc\r\n",
      "-rw-r--r-- 1 Tom.Beucler ls-craig 1.8G Nov 15 21:27 /local/Tom.Beucler/SPCAM_PHYS/115_valid.nc\r\n",
      "-rw-r--r-- 1 Tom.Beucler ls-craig  15K Nov 15 22:47 /local/Tom.Beucler/SPCAM_PHYS/118_norm.nc\r\n",
      "-rw-r--r-- 1 Tom.Beucler ls-craig 1.8G Nov 15 22:46 /local/Tom.Beucler/SPCAM_PHYS/118_train.nc\r\n",
      "-rw-r--r-- 1 Tom.Beucler ls-craig 1.8G Nov 15 22:46 /local/Tom.Beucler/SPCAM_PHYS/118_train_shuffle.nc\r\n",
      "-rw-r--r-- 1 Tom.Beucler ls-craig 1.8G Nov 15 22:46 /local/Tom.Beucler/SPCAM_PHYS/118_valid.nc\r\n",
      "-rw-r--r-- 1 Tom.Beucler ls-craig  22G Nov 15 22:55 /local/Tom.Beucler/SPCAM_PHYS/119_train.nc\r\n",
      "-rw-r--r-- 1 Tom.Beucler ls-craig  22G Nov 15 22:56 /local/Tom.Beucler/SPCAM_PHYS/119_train_shuffle.nc\r\n",
      "-rw-r--r-- 1 Tom.Beucler ls-craig  22G Nov 15 23:02 /local/Tom.Beucler/SPCAM_PHYS/119_valid.nc\r\n"
     ]
    }
   ],
   "source": [
    "!ls -la -h /local/Tom.Beucler/SPCAM_PHYS/1*"
   ]
  },
  {
   "cell_type": "code",
   "execution_count": null,
   "metadata": {},
   "outputs": [],
   "source": []
  }
 ],
 "metadata": {
  "kernelspec": {
   "display_name": "Python 3",
   "language": "python",
   "name": "python3"
  },
  "language_info": {
   "codemirror_mode": {
    "name": "ipython",
    "version": 3
   },
   "file_extension": ".py",
   "mimetype": "text/x-python",
   "name": "python",
   "nbconvert_exporter": "python",
   "pygments_lexer": "ipython3",
   "version": "3.7.3"
  }
 },
 "nbformat": 4,
 "nbformat_minor": 2
}
