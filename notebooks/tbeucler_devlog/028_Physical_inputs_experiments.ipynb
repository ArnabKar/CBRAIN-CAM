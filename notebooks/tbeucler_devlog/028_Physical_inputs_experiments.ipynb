{
 "cells": [
  {
   "cell_type": "markdown",
   "metadata": {},
   "source": [
    "tgb - 11/13/2019 - Testing if rescaling the inputs changes the ability of the network to generalize.   \n",
    "Architecture = From [], predict []   \n",
    "Test 1 = Rephrase all water concentrations as RH  \n",
    "Test 2 = Rephrase all temperature as deviations from moist adiabat  \n",
    "  \n",
    "tgb - 11/15/2019 - This notebook is mostly used for pre-processing"
   ]
  },
  {
   "cell_type": "markdown",
   "metadata": {},
   "source": [
    "# 0) Imports"
   ]
  },
  {
   "cell_type": "code",
   "execution_count": 1,
   "metadata": {},
   "outputs": [
    {
     "name": "stdout",
     "output_type": "stream",
     "text": [
      "/nfspool-0/home/tbeucler/CBRAIN-CAM/notebooks/tbeucler_devlog\n",
      "[Errno 2] No such file or directory: '/filer/z-sv-pool12c/t/Tom.Beucler/SPCAM/CBRAIN-CAM'\n",
      "/nfspool-0/home/tbeucler/CBRAIN-CAM/notebooks/tbeucler_devlog\n"
     ]
    }
   ],
   "source": [
    "from cbrain.imports import *\n",
    "from cbrain.data_generator import *\n",
    "from cbrain.cam_constants import *\n",
    "from cbrain.losses import *\n",
    "from cbrain.utils import limit_mem\n",
    "from cbrain.layers import *\n",
    "import tensorflow as tf\n",
    "import tensorflow.math as tfm\n",
    "from tensorflow.keras.layers import *\n",
    "from tensorflow.keras.models import *\n",
    "import xarray as xr\n",
    "import numpy as np\n",
    "from cbrain.model_diagnostics import ModelDiagnostics\n",
    "import matplotlib as mpl\n",
    "import matplotlib.pyplot as plt\n",
    "import matplotlib.image as imag\n",
    "import scipy.integrate as sin\n",
    "\n",
    "TRAINDIR = '/local/Tom.Beucler/SPCAM_PHYS/'\n",
    "DATADIR = '/project/meteo/w2w/A6/S.Rasp/SP-CAM/fluxbypass_aqua/'\n",
    "PREFIX = '8col009_01_'\n",
    "%cd /filer/z-sv-pool12c/t/Tom.Beucler/SPCAM/CBRAIN-CAM\n",
    "\n",
    "# Otherwise tensorflow will use ALL your GPU RAM for no reason\n",
    "limit_mem()"
   ]
  },
  {
   "cell_type": "markdown",
   "metadata": {},
   "source": [
    "# 1) Preprocessing"
   ]
  },
  {
   "cell_type": "code",
   "execution_count": 2,
   "metadata": {},
   "outputs": [
    {
     "name": "stdout",
     "output_type": "stream",
     "text": [
      "/nfspool-0/home/tbeucler/CBRAIN-CAM\n"
     ]
    }
   ],
   "source": [
    "%cd /export/nfs0home/tbeucler/CBRAIN-CAM"
   ]
  },
  {
   "cell_type": "code",
   "execution_count": 3,
   "metadata": {},
   "outputs": [
    {
     "name": "stdout",
     "output_type": "stream",
     "text": [
      "/nfspool-0/home/tbeucler/CBRAIN-CAM\n",
      "03/01/2021 09:59:26 PM Preprocess training dataset\n",
      "03/01/2021 09:59:26 PM Start preprocessing file /DFS-L/DATA/pritchard/tbeucler/SPCAM/SPCAM_PHYS/2021_02_01_O3_SHF_nsDELT_small.nc\n",
      "03/01/2021 09:59:26 PM Reading input files\n",
      "03/01/2021 09:59:26 PM Reading input file /DFS-L/DATA/pritchard/tbeucler/SPCAM/fluxbypass_aqua/AndKua_aqua_SPCAM3.0_sp_fbp_f4.cam2.h1.0001-0[1-2]-01-00000.nc\n",
      "03/01/2021 09:59:35 PM Crop levels\n",
      "03/01/2021 09:59:35 PM Create stacked dataarray\n",
      "var is  QBP\n",
      "var is  TBP\n",
      "var is  O3_AQUA\n",
      "var is  PS\n",
      "var is  SOLIN\n",
      "var is  SHF_nsDELT\n",
      "Computing TBP\n",
      "Computing Tden\n",
      "Returning normalized SHF\n",
      "var is  LHFLX\n",
      "var is  PHQ\n",
      "var is  TPHYSTND\n",
      "var is  QRL\n",
      "var is  QRS\n",
      "These time steps are cut: [47]\n",
      "03/01/2021 09:59:36 PM Stack and reshape dataarray\n",
      "03/01/2021 09:59:37 PM Save dataarray as /DFS-L/DATA/pritchard/tbeucler/SPCAM/SPCAM_PHYS/2021_02_01_O3_SHF_nsDELT_small.nc\n",
      "OMP: Info #212: KMP_AFFINITY: decoding x2APIC ids.\n",
      "OMP: Info #210: KMP_AFFINITY: Affinity capable, using global cpuid leaf 11 info\n",
      "OMP: Info #154: KMP_AFFINITY: Initial OS proc set respected: 0\n",
      "OMP: Info #156: KMP_AFFINITY: 1 available OS procs\n",
      "OMP: Info #157: KMP_AFFINITY: Uniform topology\n",
      "OMP: Info #159: KMP_AFFINITY: 1 packages x 1 cores/pkg x 1 threads/core (1 total cores)\n",
      "OMP: Info #214: KMP_AFFINITY: OS proc to physical thread map:\n",
      "OMP: Info #171: KMP_AFFINITY: OS proc 0 maps to package 0 \n",
      "OMP: Info #250: KMP_AFFINITY: pid 238243 tid 238420 thread 0 bound to OS proc set 0\n",
      "OMP: Info #250: KMP_AFFINITY: pid 238243 tid 238427 thread 1 bound to OS proc set 0\n",
      "OMP: Info #250: KMP_AFFINITY: pid 238243 tid 238426 thread 2 bound to OS proc set 0\n",
      "OMP: Info #250: KMP_AFFINITY: pid 238243 tid 238417 thread 3 bound to OS proc set 0\n",
      "OMP: Info #250: KMP_AFFINITY: pid 238243 tid 238410 thread 4 bound to OS proc set 0\n",
      "OMP: Info #250: KMP_AFFINITY: pid 238243 tid 238414 thread 5 bound to OS proc set 0\n",
      "OMP: Info #250: KMP_AFFINITY: pid 238243 tid 238429 thread 6 bound to OS proc set 0\n",
      "OMP: Info #250: KMP_AFFINITY: pid 238243 tid 238389 thread 7 bound to OS proc set 0\n",
      "OMP: Info #250: KMP_AFFINITY: pid 238243 tid 238418 thread 8 bound to OS proc set 0\n",
      "03/01/2021 10:00:27 PM Done!\n",
      "03/01/2021 10:00:27 PM Shuffle training dataset\n",
      "03/01/2021 10:00:27 PM Start shuffling /DFS-L/DATA/pritchard/tbeucler/SPCAM/SPCAM_PHYS/2021_02_01_O3_SHF_nsDELT_small.nc into /DFS-L/DATA/pritchard/tbeucler/SPCAM/SPCAM_PHYS/2021_02_01_O3_SHF_nsDELT_small_shuffle.nc. Open and create datasets.\n",
      "03/01/2021 10:00:27 PM Shuffle!\n",
      "  0%|                                                     | 0/1 [00:00<?, ?it/s]OMP: Info #250: KMP_AFFINITY: pid 238243 tid 238243 thread 9 bound to OS proc set 0\n",
      "100%|█████████████████████████████████████████████| 1/1 [00:03<00:00,  3.65s/it]\n",
      "03/01/2021 10:00:30 PM Closing datasets\n",
      "03/01/2021 10:00:30 PM Done!\n",
      "03/01/2021 10:00:30 PM Compute normalization file from train\n",
      "03/01/2021 10:00:30 PM Start normalizing by creating dataset.\n",
      "03/01/2021 10:00:30 PM Compute standard normalizations.\n",
      "03/01/2021 10:00:38 PM Saving normalization file as /DFS-L/DATA/pritchard/tbeucler/SPCAM/SPCAM_PHYS/2021_02_01_NORM_O3_SHF_nsDELT_small.nc\n",
      "03/01/2021 10:00:38 PM Done!\n",
      "03/01/2021 10:00:38 PM Finish entire preprocessing script.\n"
     ]
    }
   ],
   "source": [
    "!python preprocessing-11132019.py -c /export/nfs0home/tbeucler/CBRAIN-CAM/pp_config/2021_03_01_O3_SHFnsDELT_input_small_data_test.yml"
   ]
  },
  {
   "cell_type": "code",
   "execution_count": 8,
   "metadata": {},
   "outputs": [
    {
     "name": "stdout",
     "output_type": "stream",
     "text": [
      "/nfspool-0/home/tbeucler/CBRAIN-CAM\n",
      "03/01/2021 10:37:41 PM Preprocess training dataset\n",
      "03/01/2021 10:37:41 PM Start preprocessing file /DFS-L/DATA/pritchard/tbeucler/SPCAM/SPCAM_PHYS/2021_02_01_O3_LHF_nsDELQ_small.nc\n",
      "03/01/2021 10:37:41 PM Reading input files\n",
      "03/01/2021 10:37:41 PM Reading input file /DFS-L/DATA/pritchard/tbeucler/SPCAM/fluxbypass_aqua/AndKua_aqua_SPCAM3.0_sp_fbp_f4.cam2.h1.0001-0[1-2]-01-00000.nc\n",
      "03/01/2021 10:37:42 PM Crop levels\n",
      "03/01/2021 10:37:42 PM Create stacked dataarray\n",
      "var is  QBP\n",
      "var is  TBP\n",
      "var is  O3_AQUA\n",
      "var is  PS\n",
      "var is  SOLIN\n",
      "var is  SHFLX\n",
      "var is  LHF_nsDELQ\n",
      "OMP: Info #212: KMP_AFFINITY: decoding x2APIC ids.\n",
      "OMP: Info #210: KMP_AFFINITY: Affinity capable, using global cpuid leaf 11 info\n",
      "OMP: Info #154: KMP_AFFINITY: Initial OS proc set respected: 0\n",
      "OMP: Info #156: KMP_AFFINITY: 1 available OS procs\n",
      "OMP: Info #157: KMP_AFFINITY: Uniform topology\n",
      "OMP: Info #159: KMP_AFFINITY: 1 packages x 1 cores/pkg x 1 threads/core (1 total cores)\n",
      "OMP: Info #214: KMP_AFFINITY: OS proc to physical thread map:\n",
      "OMP: Info #171: KMP_AFFINITY: OS proc 0 maps to package 0 \n",
      "OMP: Info #250: KMP_AFFINITY: pid 261058 tid 261142 thread 0 bound to OS proc set 0\n",
      "OMP: Info #250: KMP_AFFINITY: pid 261058 tid 261143 thread 1 bound to OS proc set 0\n",
      "OMP: Info #250: KMP_AFFINITY: pid 261058 tid 261058 thread 2 bound to OS proc set 0\n",
      "OMP: Info #250: KMP_AFFINITY: pid 261058 tid 261149 thread 3 bound to OS proc set 0\n",
      "OMP: Info #250: KMP_AFFINITY: pid 261058 tid 261155 thread 4 bound to OS proc set 0\n",
      "OMP: Info #250: KMP_AFFINITY: pid 261058 tid 261161 thread 5 bound to OS proc set 0\n",
      "OMP: Info #250: KMP_AFFINITY: pid 261058 tid 261167 thread 6 bound to OS proc set 0\n",
      "OMP: Info #250: KMP_AFFINITY: pid 261058 tid 261173 thread 7 bound to OS proc set 0\n",
      "var is  PHQ\n",
      "var is  TPHYSTND\n",
      "var is  QRL\n",
      "var is  QRS\n",
      "Traceback (most recent call last):\n",
      "  File \"preprocessing-11132019.py\", line 98, in <module>\n",
      "    main(args)\n",
      "  File \"preprocessing-11132019.py\", line 31, in main\n",
      "    preprocess(args.in_dir, args.in_fns, args.out_dir, args.out_fn, args.vars)\n",
      "  File \"/nfspool-0/home/tbeucler/CBRAIN-CAM/cbrain/preprocessing/convert_dataset_20191113.py\", line 684, in preprocess\n",
      "    da = create_stacked_da(ds, vars)\n",
      "  File \"/nfspool-0/home/tbeucler/CBRAIN-CAM/cbrain/preprocessing/convert_dataset_20191113.py\", line 600, in create_stacked_da\n",
      "    concat_da = rename_time_lev_and_cut_times(ds, var_list)\n",
      "  File \"/nfspool-0/home/tbeucler/CBRAIN-CAM/cbrain/preprocessing/convert_dataset_20191113.py\", line 625, in rename_time_lev_and_cut_times\n",
      "    da.coords['lev'] = np.arange(ilev, ilev + da.coords['lev'].size)\n",
      "  File \"/DFS-L/DATA/pritchard/tbeucler/miniconda3/envs/Griffin_cpu/lib/python3.7/site-packages/xarray/core/coordinates.py\", line 23, in __setitem__\n",
      "    self.update({key: value})\n",
      "  File \"/DFS-L/DATA/pritchard/tbeucler/miniconda3/envs/Griffin_cpu/lib/python3.7/site-packages/xarray/core/coordinates.py\", line 91, in update\n",
      "    self._update_coords(coords)\n",
      "  File \"/DFS-L/DATA/pritchard/tbeucler/miniconda3/envs/Griffin_cpu/lib/python3.7/site-packages/xarray/core/coordinates.py\", line 235, in _update_coords\n",
      "    raise ValueError('cannot add coordinates with new dimensions to '\n",
      "ValueError: cannot add coordinates with new dimensions to a DataArray\n"
     ]
    }
   ],
   "source": [
    "!python preprocessing-11132019.py -c /export/nfs0home/tbeucler/CBRAIN-CAM/pp_config/2021_03_01_O3_LHFnsDELQ_input_small_data_test.yml"
   ]
  },
  {
   "cell_type": "code",
   "execution_count": 9,
   "metadata": {},
   "outputs": [
    {
     "name": "stdout",
     "output_type": "stream",
     "text": [
      "/nfspool-0/home/tbeucler/CBRAIN-CAM\n",
      "03/01/2021 10:38:29 PM Preprocess training dataset\n",
      "03/01/2021 10:38:29 PM Start preprocessing file /DFS-L/DATA/pritchard/tbeucler/SPCAM/SPCAM_PHYS/2021_02_01_O3_LHF_nsQ_small.nc\n",
      "03/01/2021 10:38:29 PM Reading input files\n",
      "03/01/2021 10:38:29 PM Reading input file /DFS-L/DATA/pritchard/tbeucler/SPCAM/fluxbypass_aqua/AndKua_aqua_SPCAM3.0_sp_fbp_f4.cam2.h1.0001-0[1-2]-01-00000.nc\n",
      "03/01/2021 10:38:30 PM Crop levels\n",
      "03/01/2021 10:38:30 PM Create stacked dataarray\n",
      "var is  QBP\n",
      "var is  TBP\n",
      "var is  O3_AQUA\n",
      "var is  PS\n",
      "var is  SOLIN\n",
      "var is  SHFLX\n",
      "var is  LHF_nsQ\n",
      "OMP: Info #212: KMP_AFFINITY: decoding x2APIC ids.\n",
      "OMP: Info #210: KMP_AFFINITY: Affinity capable, using global cpuid leaf 11 info\n",
      "OMP: Info #154: KMP_AFFINITY: Initial OS proc set respected: 0\n",
      "OMP: Info #156: KMP_AFFINITY: 1 available OS procs\n",
      "OMP: Info #157: KMP_AFFINITY: Uniform topology\n",
      "OMP: Info #159: KMP_AFFINITY: 1 packages x 1 cores/pkg x 1 threads/core (1 total cores)\n",
      "OMP: Info #214: KMP_AFFINITY: OS proc to physical thread map:\n",
      "OMP: Info #171: KMP_AFFINITY: OS proc 0 maps to package 0 \n",
      "OMP: Info #250: KMP_AFFINITY: pid 261550 tid 261550 thread 0 bound to OS proc set 0\n",
      "OMP: Info #250: KMP_AFFINITY: pid 261550 tid 261644 thread 1 bound to OS proc set 0\n",
      "OMP: Info #250: KMP_AFFINITY: pid 261550 tid 261650 thread 2 bound to OS proc set 0\n",
      "OMP: Info #250: KMP_AFFINITY: pid 261550 tid 261656 thread 3 bound to OS proc set 0\n",
      "OMP: Info #250: KMP_AFFINITY: pid 261550 tid 261662 thread 4 bound to OS proc set 0\n",
      "OMP: Info #250: KMP_AFFINITY: pid 261550 tid 261668 thread 5 bound to OS proc set 0\n",
      "OMP: Info #250: KMP_AFFINITY: pid 261550 tid 261626 thread 6 bound to OS proc set 0\n",
      "Traceback (most recent call last):\n",
      "  File \"preprocessing-11132019.py\", line 98, in <module>\n",
      "    main(args)\n",
      "  File \"preprocessing-11132019.py\", line 31, in main\n",
      "    preprocess(args.in_dir, args.in_fns, args.out_dir, args.out_fn, args.vars)\n",
      "  File \"/nfspool-0/home/tbeucler/CBRAIN-CAM/cbrain/preprocessing/convert_dataset_20191113.py\", line 684, in preprocess\n",
      "    da = create_stacked_da(ds, vars)\n",
      "  File \"/nfspool-0/home/tbeucler/CBRAIN-CAM/cbrain/preprocessing/convert_dataset_20191113.py\", line 583, in create_stacked_da\n",
      "    da = compute_LHF_nsQ(ds,1e-3) # For now, hardcode eps=1e-3\n",
      "  File \"/nfspool-0/home/tbeucler/CBRAIN-CAM/cbrain/preprocessing/convert_dataset_20191113.py\", line 456, in compute_LHF_nsQ\n",
      "    Qden = qsat(ds['TS'][1:,:,:],ds['P0'],ds['PS'][1:,:,:],ds['hyam'][-1],ds['hybm'][-1])\n",
      "  File \"/nfspool-0/home/tbeucler/CBRAIN-CAM/cbrain/preprocessing/convert_dataset_20191113.py\", line 454, in qsat\n",
      "    return qv(T,1,P0,PS,hyam,hybm)\n",
      "  File \"/nfspool-0/home/tbeucler/CBRAIN-CAM/cbrain/preprocessing/convert_dataset_20191113.py\", line 451, in qv\n",
      "    return R*esat(T)*RH/(Rv*p)\n",
      "  File \"/DFS-L/DATA/pritchard/tbeucler/miniconda3/envs/Griffin_cpu/lib/python3.7/site-packages/xarray/core/dataarray.py\", line 2009, in func\n",
      "    if not reflexive\n",
      "  File \"/DFS-L/DATA/pritchard/tbeucler/miniconda3/envs/Griffin_cpu/lib/python3.7/site-packages/xarray/core/variable.py\", line 1774, in func\n",
      "    result = Variable(dims, new_data, attrs=attrs)\n",
      "  File \"/DFS-L/DATA/pritchard/tbeucler/miniconda3/envs/Griffin_cpu/lib/python3.7/site-packages/xarray/core/variable.py\", line 265, in __init__\n",
      "    self._dims = self._parse_dimensions(dims)\n",
      "  File \"/DFS-L/DATA/pritchard/tbeucler/miniconda3/envs/Griffin_cpu/lib/python3.7/site-packages/xarray/core/variable.py\", line 443, in _parse_dimensions\n",
      "    % (dims, self.ndim))\n",
      "ValueError: dimensions ('time', 'lat', 'lon') must have the same length as the number of data dimensions, ndim=4\n"
     ]
    }
   ],
   "source": [
    "!python preprocessing-11132019.py -c /export/nfs0home/tbeucler/CBRAIN-CAM/pp_config/2021_03_01_O3_LHFnsQ_input_small_data_test.yml"
   ]
  },
  {
   "cell_type": "code",
   "execution_count": 30,
   "metadata": {},
   "outputs": [
    {
     "name": "stdout",
     "output_type": "stream",
     "text": [
      "/nfspool-0/home/tbeucler/CBRAIN-CAM\n",
      "02/25/2021 08:38:08 PM Preprocess training dataset\n",
      "02/25/2021 08:38:08 PM Start preprocessing file /DFS-L/DATA/pritchard/tbeucler/SPCAM/SPCAM_PHYS/2021_02_01_O3_QSATdeficit_small.nc\n",
      "02/25/2021 08:38:08 PM Reading input files\n",
      "02/25/2021 08:38:08 PM Reading input file /DFS-L/DATA/pritchard/tbeucler/SPCAM/fluxbypass_aqua/AndKua_aqua_SPCAM3.0_sp_fbp_f4.cam2.h1.0001-0[1-2]-01-00000.nc\n",
      "02/25/2021 08:38:10 PM Crop levels\n",
      "02/25/2021 08:38:10 PM Create stacked dataarray\n",
      "var is  QSATdeficit\n",
      "OMP: Info #212: KMP_AFFINITY: decoding x2APIC ids.\n",
      "OMP: Info #210: KMP_AFFINITY: Affinity capable, using global cpuid leaf 11 info\n",
      "OMP: Info #154: KMP_AFFINITY: Initial OS proc set respected: 0\n",
      "OMP: Info #156: KMP_AFFINITY: 1 available OS procs\n",
      "OMP: Info #157: KMP_AFFINITY: Uniform topology\n",
      "OMP: Info #159: KMP_AFFINITY: 1 packages x 1 cores/pkg x 1 threads/core (1 total cores)\n",
      "OMP: Info #214: KMP_AFFINITY: OS proc to physical thread map:\n",
      "OMP: Info #171: KMP_AFFINITY: OS proc 0 maps to package 0 \n",
      "OMP: Info #250: KMP_AFFINITY: pid 215754 tid 215754 thread 0 bound to OS proc set 0\n",
      "OMP: Info #250: KMP_AFFINITY: pid 215754 tid 216589 thread 1 bound to OS proc set 0\n",
      "OMP: Info #250: KMP_AFFINITY: pid 215754 tid 216597 thread 2 bound to OS proc set 0\n",
      "OMP: Info #250: KMP_AFFINITY: pid 215754 tid 216565 thread 3 bound to OS proc set 0\n",
      "OMP: Info #250: KMP_AFFINITY: pid 215754 tid 216560 thread 4 bound to OS proc set 0\n",
      "OMP: Info #250: KMP_AFFINITY: pid 215754 tid 216580 thread 5 bound to OS proc set 0\n",
      "OMP: Info #250: KMP_AFFINITY: pid 215754 tid 216593 thread 6 bound to OS proc set 0\n",
      "OMP: Info #250: KMP_AFFINITY: pid 215754 tid 216601 thread 7 bound to OS proc set 0\n",
      "OMP: Info #250: KMP_AFFINITY: pid 215754 tid 216568 thread 8 bound to OS proc set 0\n",
      "OMP: Info #250: KMP_AFFINITY: pid 215754 tid 216573 thread 9 bound to OS proc set 0\n",
      "OMP: Info #250: KMP_AFFINITY: pid 215754 tid 216588 thread 10 bound to OS proc set 0\n",
      "OMP: Info #250: KMP_AFFINITY: pid 215754 tid 216596 thread 11 bound to OS proc set 0\n",
      "OMP: Info #250: KMP_AFFINITY: pid 215754 tid 216602 thread 12 bound to OS proc set 0\n",
      "var is  TBP\n",
      "var is  O3_AQUA\n",
      "var is  PS\n",
      "var is  SOLIN\n",
      "var is  SHFLX\n",
      "var is  LHFLX\n",
      "var is  PHQ\n",
      "var is  TPHYSTND\n",
      "var is  QRL\n",
      "var is  QRS\n",
      "These time steps are cut: [47]\n",
      "02/25/2021 08:38:21 PM Stack and reshape dataarray\n",
      "02/25/2021 08:38:22 PM Save dataarray as /DFS-L/DATA/pritchard/tbeucler/SPCAM/SPCAM_PHYS/2021_02_01_O3_QSATdeficit_small.nc\n",
      "OMP: Info #250: KMP_AFFINITY: pid 215754 tid 216579 thread 13 bound to OS proc set 0\n",
      "OMP: Info #250: KMP_AFFINITY: pid 215754 tid 216595 thread 14 bound to OS proc set 0\n",
      "OMP: Info #250: KMP_AFFINITY: pid 215754 tid 216569 thread 15 bound to OS proc set 0\n",
      "OMP: Info #250: KMP_AFFINITY: pid 215754 tid 216581 thread 16 bound to OS proc set 0\n",
      "OMP: Info #250: KMP_AFFINITY: pid 215754 tid 216582 thread 17 bound to OS proc set 0\n",
      "02/25/2021 08:38:51 PM Done!\n",
      "02/25/2021 08:38:51 PM Shuffle training dataset\n",
      "02/25/2021 08:38:51 PM Start shuffling /DFS-L/DATA/pritchard/tbeucler/SPCAM/SPCAM_PHYS/2021_02_01_O3_QSATdeficit_small.nc into /DFS-L/DATA/pritchard/tbeucler/SPCAM/SPCAM_PHYS/2021_02_01_O3_QSATdeficit_small_shuffle.nc. Open and create datasets.\n",
      "02/25/2021 08:38:51 PM Shuffle!\n",
      "100%|█████████████████████████████████████████████| 1/1 [00:02<00:00,  2.54s/it]\n",
      "02/25/2021 08:38:54 PM Closing datasets\n",
      "02/25/2021 08:38:54 PM Done!\n",
      "02/25/2021 08:38:54 PM Compute normalization file from train\n",
      "02/25/2021 08:38:54 PM Start normalizing by creating dataset.\n",
      "02/25/2021 08:38:54 PM Compute standard normalizations.\n",
      "02/25/2021 08:39:00 PM Saving normalization file as /DFS-L/DATA/pritchard/tbeucler/SPCAM/SPCAM_PHYS/2021_02_01_NORM_O3_QSATdeficit_small.nc\n",
      "02/25/2021 08:39:00 PM Done!\n",
      "02/25/2021 08:39:00 PM Finish entire preprocessing script.\n"
     ]
    }
   ],
   "source": [
    "!python preprocessing-11132019.py -c /export/nfs0home/tbeucler/CBRAIN-CAM/pp_config/2021_02_01_O3_QSATdeficit_input_small_data_test.yml"
   ]
  },
  {
   "cell_type": "code",
   "execution_count": 13,
   "metadata": {},
   "outputs": [
    {
     "name": "stdout",
     "output_type": "stream",
     "text": [
      "/nfspool-0/home/tbeucler/CBRAIN-CAM\n",
      "01/24/2021 03:32:52 PM Preprocess training dataset\n",
      "01/24/2021 03:32:52 PM Start preprocessing file /DFS-L/DATA/pritchard/tbeucler/SPCAM/SPCAM_PHYS/2021_01_24_O3_small.nc\n",
      "01/24/2021 03:32:52 PM Reading input files\n",
      "01/24/2021 03:32:52 PM Reading input file /DFS-L/DATA/pritchard/tbeucler/SPCAM/fluxbypass_aqua/AndKua_aqua_SPCAM3.0_sp_fbp_f4.cam2.h1.0001-0[1-2]-01-00000.nc\n",
      "01/24/2021 03:32:53 PM Crop levels\n",
      "01/24/2021 03:32:53 PM Create stacked dataarray\n",
      "var is  QBP\n",
      "var is  TBP\n",
      "var is  O3_AQUA\n",
      "var is  PS\n",
      "var is  SOLIN\n",
      "var is  SHFLX\n",
      "var is  LHFLX\n",
      "var is  PHQ\n",
      "var is  TPHYSTND\n",
      "var is  QRL\n",
      "var is  QRS\n",
      "These time steps are cut: [47]\n",
      "01/24/2021 03:32:54 PM Stack and reshape dataarray\n",
      "01/24/2021 03:32:55 PM Save dataarray as /DFS-L/DATA/pritchard/tbeucler/SPCAM/SPCAM_PHYS/2021_01_24_O3_small.nc\n",
      "OMP: Info #212: KMP_AFFINITY: decoding x2APIC ids.\n",
      "OMP: Info #210: KMP_AFFINITY: Affinity capable, using global cpuid leaf 11 info\n",
      "OMP: Info #154: KMP_AFFINITY: Initial OS proc set respected: 0\n",
      "OMP: Info #156: KMP_AFFINITY: 1 available OS procs\n",
      "OMP: Info #157: KMP_AFFINITY: Uniform topology\n",
      "OMP: Info #159: KMP_AFFINITY: 1 packages x 1 cores/pkg x 1 threads/core (1 total cores)\n",
      "OMP: Info #214: KMP_AFFINITY: OS proc to physical thread map:\n",
      "OMP: Info #171: KMP_AFFINITY: OS proc 0 maps to package 0 \n",
      "OMP: Info #250: KMP_AFFINITY: pid 261881 tid 262398 thread 0 bound to OS proc set 0\n",
      "OMP: Info #250: KMP_AFFINITY: pid 261881 tid 262402 thread 1 bound to OS proc set 0\n",
      "OMP: Info #250: KMP_AFFINITY: pid 261881 tid 262387 thread 2 bound to OS proc set 0\n",
      "OMP: Info #250: KMP_AFFINITY: pid 261881 tid 262367 thread 3 bound to OS proc set 0\n",
      "OMP: Info #250: KMP_AFFINITY: pid 261881 tid 262394 thread 4 bound to OS proc set 0\n",
      "OMP: Info #250: KMP_AFFINITY: pid 261881 tid 262372 thread 5 bound to OS proc set 0\n",
      "01/24/2021 03:33:20 PM Done!\n",
      "01/24/2021 03:33:20 PM Shuffle training dataset\n",
      "01/24/2021 03:33:20 PM Start shuffling /DFS-L/DATA/pritchard/tbeucler/SPCAM/SPCAM_PHYS/2021_01_24_O3_small.nc into /DFS-L/DATA/pritchard/tbeucler/SPCAM/SPCAM_PHYS/2021_01_24_O3_small_shuffle.nc. Open and create datasets.\n",
      "01/24/2021 03:33:20 PM Shuffle!\n",
      "100%|█████████████████████████████████████████████| 1/1 [00:04<00:00,  4.67s/it]\n",
      "01/24/2021 03:33:25 PM Closing datasets\n",
      "01/24/2021 03:33:25 PM Done!\n",
      "01/24/2021 03:33:25 PM Compute normalization file from train\n",
      "01/24/2021 03:33:25 PM Start normalizing by creating dataset.\n",
      "01/24/2021 03:33:25 PM Compute standard normalizations.\n",
      "OMP: Info #250: KMP_AFFINITY: pid 261881 tid 261881 thread 6 bound to OS proc set 0\n",
      "01/24/2021 03:33:40 PM Saving normalization file as /DFS-L/DATA/pritchard/tbeucler/SPCAM/SPCAM_PHYS/2021_01_24_NORM_O3_small.nc\n",
      "01/24/2021 03:33:40 PM Done!\n",
      "01/24/2021 03:33:40 PM Finish entire preprocessing script.\n"
     ]
    }
   ],
   "source": [
    "!python preprocessing-11132019.py -c /export/nfs0home/tbeucler/CBRAIN-CAM/pp_config/2021_01_24_O3_input_small_data_test"
   ]
  },
  {
   "cell_type": "code",
   "execution_count": 14,
   "metadata": {},
   "outputs": [
    {
     "name": "stdout",
     "output_type": "stream",
     "text": [
      "/nfspool-0/home/tbeucler/CBRAIN-CAM\n",
      "01/24/2021 03:46:36 PM Preprocess training dataset\n",
      "01/24/2021 03:46:36 PM Start preprocessing file /DFS-L/DATA/pritchard/tbeucler/SPCAM/SPCAM_PHYS/2021_01_24_O3_TRAIN.nc\n",
      "01/24/2021 03:46:36 PM Reading input files\n",
      "01/24/2021 03:46:36 PM Reading input file /DFS-L/DATA/pritchard/tbeucler/SPCAM/fluxbypass_aqua/AndKua_aqua_SPCAM3.0_sp_fbp_f4.cam2.h1.0001-0[1-4]-*-*.nc\n",
      "01/24/2021 03:50:19 PM Crop levels\n",
      "01/24/2021 03:50:19 PM Create stacked dataarray\n",
      "var is  QBP\n",
      "var is  TBP\n",
      "var is  O3_AQUA\n",
      "var is  PS\n",
      "var is  SOLIN\n",
      "var is  SHFLX\n",
      "var is  LHFLX\n",
      "var is  PHQ\n",
      "var is  TPHYSTND\n",
      "var is  QRL\n",
      "var is  QRS\n",
      "These time steps are cut: []\n",
      "01/24/2021 03:50:59 PM Stack and reshape dataarray\n",
      "01/24/2021 03:51:35 PM Save dataarray as /DFS-L/DATA/pritchard/tbeucler/SPCAM/SPCAM_PHYS/2021_01_24_O3_TRAIN.nc\n",
      "OMP: Info #212: KMP_AFFINITY: decoding x2APIC ids.\n",
      "OMP: Info #210: KMP_AFFINITY: Affinity capable, using global cpuid leaf 11 info\n",
      "OMP: Info #154: KMP_AFFINITY: Initial OS proc set respected: 0\n",
      "OMP: Info #156: KMP_AFFINITY: 1 available OS procs\n",
      "OMP: Info #157: KMP_AFFINITY: Uniform topology\n",
      "OMP: Info #159: KMP_AFFINITY: 1 packages x 1 cores/pkg x 1 threads/core (1 total cores)\n",
      "OMP: Info #214: KMP_AFFINITY: OS proc to physical thread map:\n",
      "OMP: Info #171: KMP_AFFINITY: OS proc 0 maps to package 0 \n",
      "OMP: Info #250: KMP_AFFINITY: pid 268920 tid 271518 thread 0 bound to OS proc set 0\n",
      "OMP: Info #250: KMP_AFFINITY: pid 268920 tid 271520 thread 1 bound to OS proc set 0\n",
      "OMP: Info #250: KMP_AFFINITY: pid 268920 tid 271522 thread 2 bound to OS proc set 0\n",
      "OMP: Info #250: KMP_AFFINITY: pid 268920 tid 271524 thread 3 bound to OS proc set 0\n",
      "OMP: Info #250: KMP_AFFINITY: pid 268920 tid 271523 thread 4 bound to OS proc set 0\n",
      "OMP: Info #250: KMP_AFFINITY: pid 268920 tid 271526 thread 5 bound to OS proc set 0\n",
      "OMP: Info #250: KMP_AFFINITY: pid 268920 tid 271528 thread 6 bound to OS proc set 0\n",
      "OMP: Info #250: KMP_AFFINITY: pid 268920 tid 271530 thread 7 bound to OS proc set 0\n",
      "OMP: Info #250: KMP_AFFINITY: pid 268920 tid 271532 thread 8 bound to OS proc set 0\n",
      "OMP: Info #250: KMP_AFFINITY: pid 268920 tid 271534 thread 9 bound to OS proc set 0\n",
      "OMP: Info #250: KMP_AFFINITY: pid 268920 tid 271536 thread 10 bound to OS proc set 0\n",
      "OMP: Info #250: KMP_AFFINITY: pid 268920 tid 271538 thread 11 bound to OS proc set 0\n",
      "OMP: Info #250: KMP_AFFINITY: pid 268920 tid 271499 thread 12 bound to OS proc set 0\n",
      "OMP: Info #250: KMP_AFFINITY: pid 268920 tid 271501 thread 13 bound to OS proc set 0\n",
      "OMP: Info #250: KMP_AFFINITY: pid 268920 tid 271505 thread 14 bound to OS proc set 0\n",
      "OMP: Info #250: KMP_AFFINITY: pid 268920 tid 271513 thread 15 bound to OS proc set 0\n",
      "OMP: Info #250: KMP_AFFINITY: pid 268920 tid 271511 thread 16 bound to OS proc set 0\n",
      "OMP: Info #250: KMP_AFFINITY: pid 268920 tid 271509 thread 17 bound to OS proc set 0\n",
      "OMP: Info #250: KMP_AFFINITY: pid 268920 tid 271507 thread 18 bound to OS proc set 0\n",
      "OMP: Info #250: KMP_AFFINITY: pid 268920 tid 271515 thread 19 bound to OS proc set 0\n",
      "OMP: Info #250: KMP_AFFINITY: pid 268920 tid 271503 thread 20 bound to OS proc set 0\n",
      "OMP: Info #250: KMP_AFFINITY: pid 268920 tid 271497 thread 21 bound to OS proc set 0\n",
      "OMP: Info #250: KMP_AFFINITY: pid 268920 tid 271495 thread 22 bound to OS proc set 0\n",
      "OMP: Info #250: KMP_AFFINITY: pid 268920 tid 271494 thread 23 bound to OS proc set 0\n",
      "OMP: Info #250: KMP_AFFINITY: pid 268920 tid 271540 thread 24 bound to OS proc set 0\n",
      "OMP: Info #250: KMP_AFFINITY: pid 268920 tid 271519 thread 25 bound to OS proc set 0\n",
      "OMP: Info #250: KMP_AFFINITY: pid 268920 tid 271527 thread 26 bound to OS proc set 0\n",
      "OMP: Info #250: KMP_AFFINITY: pid 268920 tid 271531 thread 27 bound to OS proc set 0\n",
      "OMP: Info #250: KMP_AFFINITY: pid 268920 tid 271514 thread 28 bound to OS proc set 0\n",
      "OMP: Info #250: KMP_AFFINITY: pid 268920 tid 271535 thread 29 bound to OS proc set 0\n",
      "OMP: Info #250: KMP_AFFINITY: pid 268920 tid 271510 thread 30 bound to OS proc set 0\n",
      "OMP: Info #250: KMP_AFFINITY: pid 268920 tid 271500 thread 31 bound to OS proc set 0\n",
      "OMP: Info #250: KMP_AFFINITY: pid 268920 tid 271493 thread 32 bound to OS proc set 0\n",
      "OMP: Info #250: KMP_AFFINITY: pid 268920 tid 271516 thread 33 bound to OS proc set 0\n",
      "OMP: Info #250: KMP_AFFINITY: pid 268920 tid 271496 thread 34 bound to OS proc set 0\n",
      "OMP: Info #250: KMP_AFFINITY: pid 268920 tid 271498 thread 35 bound to OS proc set 0\n",
      "OMP: Info #250: KMP_AFFINITY: pid 268920 tid 271525 thread 36 bound to OS proc set 0\n",
      "OMP: Info #250: KMP_AFFINITY: pid 268920 tid 271521 thread 37 bound to OS proc set 0\n",
      "OMP: Info #250: KMP_AFFINITY: pid 268920 tid 271529 thread 38 bound to OS proc set 0\n",
      "OMP: Info #250: KMP_AFFINITY: pid 268920 tid 271533 thread 39 bound to OS proc set 0\n",
      "OMP: Info #250: KMP_AFFINITY: pid 268920 tid 271537 thread 40 bound to OS proc set 0\n",
      "OMP: Info #250: KMP_AFFINITY: pid 268920 tid 271502 thread 41 bound to OS proc set 0\n",
      "OMP: Info #250: KMP_AFFINITY: pid 268920 tid 271539 thread 42 bound to OS proc set 0\n",
      "OMP: Info #250: KMP_AFFINITY: pid 268920 tid 271512 thread 43 bound to OS proc set 0\n",
      "OMP: Info #250: KMP_AFFINITY: pid 268920 tid 271508 thread 44 bound to OS proc set 0\n",
      "OMP: Info #250: KMP_AFFINITY: pid 268920 tid 271504 thread 45 bound to OS proc set 0\n",
      "OMP: Info #250: KMP_AFFINITY: pid 268920 tid 271517 thread 46 bound to OS proc set 0\n",
      "OMP: Info #250: KMP_AFFINITY: pid 268920 tid 271506 thread 47 bound to OS proc set 0\n",
      "01/24/2021 04:33:23 PM Done!\n",
      "01/24/2021 04:33:24 PM Shuffle training dataset\n",
      "01/24/2021 04:33:24 PM Start shuffling /DFS-L/DATA/pritchard/tbeucler/SPCAM/SPCAM_PHYS/2021_01_24_O3_TRAIN.nc into /DFS-L/DATA/pritchard/tbeucler/SPCAM/SPCAM_PHYS/2021_01_24_O3_TRAIN_shuffle.nc. Open and create datasets.\n",
      "01/24/2021 04:33:28 PM Shuffle!\n",
      "100%|█████████████████████████████████████████████| 5/5 [07:13<00:00, 83.96s/it]\n",
      "01/24/2021 04:40:42 PM Closing datasets\n",
      "01/24/2021 04:40:43 PM Done!\n",
      "01/24/2021 04:40:43 PM Preprocess validation dataset\n",
      "01/24/2021 04:40:43 PM Start preprocessing file /DFS-L/DATA/pritchard/tbeucler/SPCAM/SPCAM_PHYS/2021_01_24_O3_VALID.nc\n",
      "01/24/2021 04:40:43 PM Reading input files\n",
      "01/24/2021 04:40:43 PM Reading input file /DFS-L/DATA/pritchard/tbeucler/SPCAM/fluxbypass_aqua/AndKua_aqua_SPCAM3.0_sp_fbp_f4.cam2.h1.0001-0[5-8]-*-*.nc\n",
      "01/24/2021 04:44:51 PM Crop levels\n",
      "01/24/2021 04:44:51 PM Create stacked dataarray\n",
      "var is  QBP\n",
      "var is  TBP\n",
      "var is  O3_AQUA\n",
      "var is  PS\n",
      "var is  SOLIN\n",
      "var is  SHFLX\n",
      "var is  LHFLX\n",
      "var is  PHQ\n",
      "var is  TPHYSTND\n",
      "var is  QRL\n",
      "var is  QRS\n",
      "These time steps are cut: []\n",
      "01/24/2021 04:45:32 PM Stack and reshape dataarray\n",
      "01/24/2021 04:46:13 PM Save dataarray as /DFS-L/DATA/pritchard/tbeucler/SPCAM/SPCAM_PHYS/2021_01_24_O3_VALID.nc\n",
      "01/24/2021 05:26:33 PM Done!\n",
      "01/24/2021 05:26:34 PM Finish entire preprocessing script.\n"
     ]
    }
   ],
   "source": [
    "!python preprocessing-11132019.py -c /export/nfs0home/tbeucler/CBRAIN-CAM/pp_config/2021_01_24_O3_Train_Valid.yml"
   ]
  },
  {
   "cell_type": "code",
   "execution_count": 30,
   "metadata": {},
   "outputs": [
    {
     "name": "stdout",
     "output_type": "stream",
     "text": [
      "/nfspool-0/home/tbeucler/CBRAIN-CAM\n",
      "01/24/2021 06:48:24 PM Preprocess training dataset\n",
      "01/24/2021 06:48:24 PM Start preprocessing file /DFS-L/DATA/pritchard/tbeucler/SPCAM/SPCAM_PHYS/2021_01_24_O3_TEST.nc\n",
      "01/24/2021 06:48:24 PM Reading input files\n",
      "01/24/2021 06:48:24 PM Reading input file /DFS-L/DATA/pritchard/tbeucler/SPCAM/fluxbypass_aqua/AndKua_aqua_SPCAM3.0_sp_fbp_f4.cam2.h1.0000-0[6-9]-*-*.nc\n",
      "01/24/2021 06:52:06 PM Crop levels\n",
      "01/24/2021 06:52:06 PM Create stacked dataarray\n",
      "var is  QBP\n",
      "var is  TBP\n",
      "var is  O3_AQUA\n",
      "var is  PS\n",
      "var is  SOLIN\n",
      "var is  SHFLX\n",
      "var is  LHFLX\n",
      "var is  PHQ\n",
      "var is  TPHYSTND\n",
      "var is  QRL\n",
      "var is  QRS\n",
      "These time steps are cut: []\n",
      "01/24/2021 06:52:55 PM Stack and reshape dataarray\n",
      "01/24/2021 06:53:31 PM Save dataarray as /DFS-L/DATA/pritchard/tbeucler/SPCAM/SPCAM_PHYS/2021_01_24_O3_TEST.nc\n",
      "OMP: Info #212: KMP_AFFINITY: decoding x2APIC ids.\n",
      "OMP: Info #210: KMP_AFFINITY: Affinity capable, using global cpuid leaf 11 info\n",
      "OMP: Info #154: KMP_AFFINITY: Initial OS proc set respected: 0\n",
      "OMP: Info #156: KMP_AFFINITY: 1 available OS procs\n",
      "OMP: Info #157: KMP_AFFINITY: Uniform topology\n",
      "OMP: Info #159: KMP_AFFINITY: 1 packages x 1 cores/pkg x 1 threads/core (1 total cores)\n",
      "OMP: Info #214: KMP_AFFINITY: OS proc to physical thread map:\n",
      "OMP: Info #171: KMP_AFFINITY: OS proc 0 maps to package 0 \n",
      "OMP: Info #250: KMP_AFFINITY: pid 82343 tid 84992 thread 0 bound to OS proc set 0\n",
      "OMP: Info #250: KMP_AFFINITY: pid 82343 tid 84994 thread 1 bound to OS proc set 0\n",
      "OMP: Info #250: KMP_AFFINITY: pid 82343 tid 84996 thread 2 bound to OS proc set 0\n",
      "OMP: Info #250: KMP_AFFINITY: pid 82343 tid 84998 thread 3 bound to OS proc set 0\n",
      "OMP: Info #250: KMP_AFFINITY: pid 82343 tid 85000 thread 4 bound to OS proc set 0\n",
      "OMP: Info #250: KMP_AFFINITY: pid 82343 tid 85002 thread 5 bound to OS proc set 0\n",
      "OMP: Info #250: KMP_AFFINITY: pid 82343 tid 85004 thread 6 bound to OS proc set 0\n",
      "OMP: Info #250: KMP_AFFINITY: pid 82343 tid 85006 thread 7 bound to OS proc set 0\n",
      "OMP: Info #250: KMP_AFFINITY: pid 82343 tid 85008 thread 8 bound to OS proc set 0\n",
      "OMP: Info #250: KMP_AFFINITY: pid 82343 tid 85010 thread 9 bound to OS proc set 0\n",
      "OMP: Info #250: KMP_AFFINITY: pid 82343 tid 85012 thread 10 bound to OS proc set 0\n",
      "OMP: Info #250: KMP_AFFINITY: pid 82343 tid 85014 thread 11 bound to OS proc set 0\n",
      "OMP: Info #250: KMP_AFFINITY: pid 82343 tid 85016 thread 12 bound to OS proc set 0\n",
      "OMP: Info #250: KMP_AFFINITY: pid 82343 tid 85018 thread 13 bound to OS proc set 0\n",
      "OMP: Info #250: KMP_AFFINITY: pid 82343 tid 85020 thread 14 bound to OS proc set 0\n",
      "OMP: Info #250: KMP_AFFINITY: pid 82343 tid 85022 thread 15 bound to OS proc set 0\n",
      "OMP: Info #250: KMP_AFFINITY: pid 82343 tid 85024 thread 16 bound to OS proc set 0\n",
      "OMP: Info #250: KMP_AFFINITY: pid 82343 tid 85026 thread 17 bound to OS proc set 0\n",
      "OMP: Info #250: KMP_AFFINITY: pid 82343 tid 85028 thread 18 bound to OS proc set 0\n",
      "OMP: Info #250: KMP_AFFINITY: pid 82343 tid 85030 thread 19 bound to OS proc set 0\n",
      "OMP: Info #250: KMP_AFFINITY: pid 82343 tid 85032 thread 20 bound to OS proc set 0\n",
      "OMP: Info #250: KMP_AFFINITY: pid 82343 tid 85034 thread 21 bound to OS proc set 0\n",
      "OMP: Info #250: KMP_AFFINITY: pid 82343 tid 85036 thread 22 bound to OS proc set 0\n",
      "OMP: Info #250: KMP_AFFINITY: pid 82343 tid 84991 thread 23 bound to OS proc set 0\n",
      "OMP: Info #250: KMP_AFFINITY: pid 82343 tid 84993 thread 24 bound to OS proc set 0\n",
      "OMP: Info #250: KMP_AFFINITY: pid 82343 tid 85007 thread 25 bound to OS proc set 0\n",
      "OMP: Info #250: KMP_AFFINITY: pid 82343 tid 85013 thread 26 bound to OS proc set 0\n",
      "OMP: Info #250: KMP_AFFINITY: pid 82343 tid 84997 thread 27 bound to OS proc set 0\n",
      "OMP: Info #250: KMP_AFFINITY: pid 82343 tid 85025 thread 28 bound to OS proc set 0\n",
      "OMP: Info #250: KMP_AFFINITY: pid 82343 tid 85035 thread 29 bound to OS proc set 0\n",
      "OMP: Info #250: KMP_AFFINITY: pid 82343 tid 85029 thread 30 bound to OS proc set 0\n",
      "OMP: Info #250: KMP_AFFINITY: pid 82343 tid 84999 thread 31 bound to OS proc set 0\n",
      "OMP: Info #250: KMP_AFFINITY: pid 82343 tid 85033 thread 32 bound to OS proc set 0\n",
      "OMP: Info #250: KMP_AFFINITY: pid 82343 tid 85038 thread 33 bound to OS proc set 0\n",
      "OMP: Info #250: KMP_AFFINITY: pid 82343 tid 84995 thread 34 bound to OS proc set 0\n",
      "OMP: Info #250: KMP_AFFINITY: pid 82343 tid 85011 thread 35 bound to OS proc set 0\n",
      "OMP: Info #250: KMP_AFFINITY: pid 82343 tid 85021 thread 36 bound to OS proc set 0\n",
      "OMP: Info #250: KMP_AFFINITY: pid 82343 tid 85001 thread 37 bound to OS proc set 0\n",
      "OMP: Info #250: KMP_AFFINITY: pid 82343 tid 85023 thread 38 bound to OS proc set 0\n",
      "OMP: Info #250: KMP_AFFINITY: pid 82343 tid 85003 thread 39 bound to OS proc set 0\n",
      "OMP: Info #250: KMP_AFFINITY: pid 82343 tid 85027 thread 40 bound to OS proc set 0\n",
      "OMP: Info #250: KMP_AFFINITY: pid 82343 tid 85037 thread 41 bound to OS proc set 0\n",
      "OMP: Info #250: KMP_AFFINITY: pid 82343 tid 85009 thread 42 bound to OS proc set 0\n",
      "OMP: Info #250: KMP_AFFINITY: pid 82343 tid 85019 thread 43 bound to OS proc set 0\n",
      "OMP: Info #250: KMP_AFFINITY: pid 82343 tid 85031 thread 44 bound to OS proc set 0\n",
      "OMP: Info #250: KMP_AFFINITY: pid 82343 tid 85015 thread 45 bound to OS proc set 0\n",
      "OMP: Info #250: KMP_AFFINITY: pid 82343 tid 85017 thread 46 bound to OS proc set 0\n",
      "OMP: Info #250: KMP_AFFINITY: pid 82343 tid 85005 thread 47 bound to OS proc set 0\n",
      "01/24/2021 07:31:30 PM Done!\n",
      "01/24/2021 07:31:32 PM Shuffle training dataset\n",
      "01/24/2021 07:31:32 PM Start shuffling /DFS-L/DATA/pritchard/tbeucler/SPCAM/SPCAM_PHYS/2021_01_24_O3_TEST.nc into /DFS-L/DATA/pritchard/tbeucler/SPCAM/SPCAM_PHYS/2021_01_24_O3_TEST_shuffle.nc. Open and create datasets.\n",
      "01/24/2021 07:31:35 PM Shuffle!\n",
      "100%|█████████████████████████████████████████████| 5/5 [07:55<00:00, 95.10s/it]\n",
      "01/24/2021 07:39:32 PM Closing datasets\n",
      "01/24/2021 07:39:32 PM Done!\n",
      "01/24/2021 07:39:32 PM Finish entire preprocessing script.\n"
     ]
    }
   ],
   "source": [
    "!python preprocessing-11132019.py -c /export/nfs0home/tbeucler/CBRAIN-CAM/pp_config/2021_01_24_O3_Test.yml"
   ]
  },
  {
   "cell_type": "code",
   "execution_count": 1,
   "metadata": {},
   "outputs": [
    {
     "name": "stdout",
     "output_type": "stream",
     "text": [
      "python: can't open file 'preprocessing-11132019.py': [Errno 2] No such file or directory\n"
     ]
    }
   ],
   "source": [
    "!python preprocessing-11132019.py -c /home/t/Tom.Beucler/SPCAM/CBRAIN-CAM/pp_config/147_POG_RHinput_FLUXoutput_test.yml"
   ]
  },
  {
   "cell_type": "code",
   "execution_count": 4,
   "metadata": {},
   "outputs": [
    {
     "name": "stdout",
     "output_type": "stream",
     "text": [
      "/home/t/Tom.Beucler/miniconda3/lib/python3.7/site-packages/tensorflow/python/framework/dtypes.py:516: FutureWarning: Passing (type, 1) or '1type' as a synonym of type is deprecated; in a future version of numpy, it will be understood as (type, (1,)) / '(1,)type'.\n",
      "  _np_qint8 = np.dtype([(\"qint8\", np.int8, 1)])\n",
      "/home/t/Tom.Beucler/miniconda3/lib/python3.7/site-packages/tensorflow/python/framework/dtypes.py:517: FutureWarning: Passing (type, 1) or '1type' as a synonym of type is deprecated; in a future version of numpy, it will be understood as (type, (1,)) / '(1,)type'.\n",
      "  _np_quint8 = np.dtype([(\"quint8\", np.uint8, 1)])\n",
      "/home/t/Tom.Beucler/miniconda3/lib/python3.7/site-packages/tensorflow/python/framework/dtypes.py:518: FutureWarning: Passing (type, 1) or '1type' as a synonym of type is deprecated; in a future version of numpy, it will be understood as (type, (1,)) / '(1,)type'.\n",
      "  _np_qint16 = np.dtype([(\"qint16\", np.int16, 1)])\n",
      "/home/t/Tom.Beucler/miniconda3/lib/python3.7/site-packages/tensorflow/python/framework/dtypes.py:519: FutureWarning: Passing (type, 1) or '1type' as a synonym of type is deprecated; in a future version of numpy, it will be understood as (type, (1,)) / '(1,)type'.\n",
      "  _np_quint16 = np.dtype([(\"quint16\", np.uint16, 1)])\n",
      "/home/t/Tom.Beucler/miniconda3/lib/python3.7/site-packages/tensorflow/python/framework/dtypes.py:520: FutureWarning: Passing (type, 1) or '1type' as a synonym of type is deprecated; in a future version of numpy, it will be understood as (type, (1,)) / '(1,)type'.\n",
      "  _np_qint32 = np.dtype([(\"qint32\", np.int32, 1)])\n",
      "/home/t/Tom.Beucler/miniconda3/lib/python3.7/site-packages/tensorflow/python/framework/dtypes.py:525: FutureWarning: Passing (type, 1) or '1type' as a synonym of type is deprecated; in a future version of numpy, it will be understood as (type, (1,)) / '(1,)type'.\n",
      "  np_resource = np.dtype([(\"resource\", np.ubyte, 1)])\n",
      "/home/t/Tom.Beucler/miniconda3/lib/python3.7/site-packages/tensorboard/compat/tensorflow_stub/dtypes.py:541: FutureWarning: Passing (type, 1) or '1type' as a synonym of type is deprecated; in a future version of numpy, it will be understood as (type, (1,)) / '(1,)type'.\n",
      "  _np_qint8 = np.dtype([(\"qint8\", np.int8, 1)])\n",
      "/home/t/Tom.Beucler/miniconda3/lib/python3.7/site-packages/tensorboard/compat/tensorflow_stub/dtypes.py:542: FutureWarning: Passing (type, 1) or '1type' as a synonym of type is deprecated; in a future version of numpy, it will be understood as (type, (1,)) / '(1,)type'.\n",
      "  _np_quint8 = np.dtype([(\"quint8\", np.uint8, 1)])\n",
      "/home/t/Tom.Beucler/miniconda3/lib/python3.7/site-packages/tensorboard/compat/tensorflow_stub/dtypes.py:543: FutureWarning: Passing (type, 1) or '1type' as a synonym of type is deprecated; in a future version of numpy, it will be understood as (type, (1,)) / '(1,)type'.\n",
      "  _np_qint16 = np.dtype([(\"qint16\", np.int16, 1)])\n",
      "/home/t/Tom.Beucler/miniconda3/lib/python3.7/site-packages/tensorboard/compat/tensorflow_stub/dtypes.py:544: FutureWarning: Passing (type, 1) or '1type' as a synonym of type is deprecated; in a future version of numpy, it will be understood as (type, (1,)) / '(1,)type'.\n",
      "  _np_quint16 = np.dtype([(\"quint16\", np.uint16, 1)])\n",
      "/home/t/Tom.Beucler/miniconda3/lib/python3.7/site-packages/tensorboard/compat/tensorflow_stub/dtypes.py:545: FutureWarning: Passing (type, 1) or '1type' as a synonym of type is deprecated; in a future version of numpy, it will be understood as (type, (1,)) / '(1,)type'.\n",
      "  _np_qint32 = np.dtype([(\"qint32\", np.int32, 1)])\n",
      "/home/t/Tom.Beucler/miniconda3/lib/python3.7/site-packages/tensorboard/compat/tensorflow_stub/dtypes.py:550: FutureWarning: Passing (type, 1) or '1type' as a synonym of type is deprecated; in a future version of numpy, it will be understood as (type, (1,)) / '(1,)type'.\n",
      "  np_resource = np.dtype([(\"resource\", np.ubyte, 1)])\n",
      "WARNING: Logging before flag parsing goes to stderr.\n",
      "W1203 09:16:12.126064 22678077486912 deprecation_wrapper.py:119] From /filer/z-sv-pool12c/t/Tom.Beucler/SPCAM/CBRAIN-CAM/cbrain/models.py:16: The name tf.keras.layers.CuDNNGRU is deprecated. Please use tf.compat.v1.keras.layers.CuDNNGRU instead.\n",
      "\n",
      "W1203 09:16:12.126324 22678077486912 deprecation_wrapper.py:119] From /filer/z-sv-pool12c/t/Tom.Beucler/SPCAM/CBRAIN-CAM/cbrain/models.py:16: The name tf.keras.layers.CuDNNLSTM is deprecated. Please use tf.compat.v1.keras.layers.CuDNNLSTM instead.\n",
      "\n",
      "/filer/z-sv-pool12c/t/Tom.Beucler/SPCAM/CBRAIN-CAM\n",
      "/home/t/Tom.Beucler/miniconda3/lib/python3.7/site-packages/xarray/backends/api.py:783: FutureWarning: In xarray version 0.13 `auto_combine` will be deprecated.\n",
      "  coords=coords)\n",
      "/home/t/Tom.Beucler/miniconda3/lib/python3.7/site-packages/xarray/backends/api.py:783: FutureWarning: Also `open_mfdataset` will no longer accept a `concat_dim` argument.\n",
      "To get equivalent behaviour from now on please use the new\n",
      "`combine_nested` function instead (or the `combine='nested'` option to\n",
      "`open_mfdataset`).The datasets supplied have global dimension coordinates. You may want\n",
      "to use the new `combine_by_coords` function (or the\n",
      "`combine='by_coords'` option to `open_mfdataset` to order the datasets\n",
      "before concatenation. Alternatively, to continue concatenating based\n",
      "on the order the datasets are supplied in in future, please use the\n",
      "new `combine_nested` function (or the `combine='nested'` option to\n",
      "open_mfdataset).\n",
      "  coords=coords)\n",
      "var is  QBP\n",
      "var is  TfromTS\n",
      "var is  PS\n",
      "var is  SOLIN\n",
      "var is  SHFLX\n",
      "var is  LHFLX\n",
      "var is  PHQ\n",
      "var is  TPHYSTND\n",
      "var is  FSNT\n",
      "var is  FSNS\n",
      "var is  FLNT\n",
      "var is  FLNS\n",
      "These time steps are cut: []\n",
      "HDF5-DIAG: Error detected in HDF5 (1.10.4) thread 22678077486912:\n",
      "  #000: H5F.c line 444 in H5Fcreate(): unable to create file\n",
      "    major: File accessibilty\n",
      "    minor: Unable to open file\n",
      "  #001: H5Fint.c line 1364 in H5F__create(): unable to open file\n",
      "    major: File accessibilty\n",
      "    minor: Unable to open file\n",
      "  #002: H5Fint.c line 1559 in H5F_open(): unable to open file: name = '/local/Tom.Beucler/SPCAM_PHYS/118_train.nc', tent_flags = 13\n",
      "    major: File accessibilty\n",
      "    minor: Unable to open file\n",
      "  #003: H5FD.c line 734 in H5FD_open(): open failed\n",
      "    major: Virtual File Layer\n",
      "    minor: Unable to initialize object\n",
      "  #004: H5FDsec2.c line 346 in H5FD_sec2_open(): unable to open file: name = '/local/Tom.Beucler/SPCAM_PHYS/118_train.nc', errno = 28, error message = 'No space left on device', flags = 13, o_flags = 242\n",
      "    major: File accessibilty\n",
      "    minor: Unable to open file\n",
      "Traceback (most recent call last):\n",
      "  File \"/home/t/Tom.Beucler/miniconda3/lib/python3.7/site-packages/xarray/backends/file_manager.py\", line 186, in _acquire_with_cache_info\n",
      "    file = self._cache[self._key]\n",
      "  File \"/home/t/Tom.Beucler/miniconda3/lib/python3.7/site-packages/xarray/backends/lru_cache.py\", line 42, in __getitem__\n",
      "    value = self._cache[key]\n",
      "KeyError: [<class 'netCDF4._netCDF4.Dataset'>, ('/local/Tom.Beucler/SPCAM_PHYS/118_train.nc',), 'a', (('clobber', True), ('diskless', False), ('format', 'NETCDF4'), ('persist', False))]\n",
      "\n",
      "During handling of the above exception, another exception occurred:\n",
      "\n",
      "Traceback (most recent call last):\n",
      "  File \"preprocessing-11132019.py\", line 79, in <module>\n",
      "    main(args)\n",
      "  File \"preprocessing-11132019.py\", line 29, in main\n",
      "    preprocess(args.in_dir, args.in_fns, args.out_dir, args.out_fn, args.vars)\n",
      "  File \"/filer/z-sv-pool12c/t/Tom.Beucler/SPCAM/CBRAIN-CAM/cbrain/preprocessing/convert_dataset_20191113.py\", line 395, in preprocess\n",
      "    da.to_netcdf(out_fn)\n",
      "  File \"/home/t/Tom.Beucler/miniconda3/lib/python3.7/site-packages/xarray/core/dataarray.py\", line 2009, in to_netcdf\n",
      "    return dataset.to_netcdf(*args, **kwargs)\n",
      "  File \"/home/t/Tom.Beucler/miniconda3/lib/python3.7/site-packages/xarray/core/dataset.py\", line 1384, in to_netcdf\n",
      "    compute=compute)\n",
      "  File \"/home/t/Tom.Beucler/miniconda3/lib/python3.7/site-packages/xarray/backends/api.py\", line 871, in to_netcdf\n",
      "    store = store_open(target, mode, format, group, **kwargs)\n",
      "  File \"/home/t/Tom.Beucler/miniconda3/lib/python3.7/site-packages/xarray/backends/netCDF4_.py\", line 335, in open\n",
      "    autoclose=autoclose)\n",
      "  File \"/home/t/Tom.Beucler/miniconda3/lib/python3.7/site-packages/xarray/backends/netCDF4_.py\", line 293, in __init__\n",
      "    self.format = self.ds.data_model\n",
      "  File \"/home/t/Tom.Beucler/miniconda3/lib/python3.7/site-packages/xarray/backends/netCDF4_.py\", line 344, in ds\n",
      "    return self._acquire()\n",
      "  File \"/home/t/Tom.Beucler/miniconda3/lib/python3.7/site-packages/xarray/backends/netCDF4_.py\", line 338, in _acquire\n",
      "    with self._manager.acquire_context(needs_lock) as root:\n",
      "  File \"/home/t/Tom.Beucler/miniconda3/lib/python3.7/contextlib.py\", line 112, in __enter__\n",
      "    return next(self.gen)\n",
      "  File \"/home/t/Tom.Beucler/miniconda3/lib/python3.7/site-packages/xarray/backends/file_manager.py\", line 174, in acquire_context\n",
      "    file, cached = self._acquire_with_cache_info(needs_lock)\n",
      "  File \"/home/t/Tom.Beucler/miniconda3/lib/python3.7/site-packages/xarray/backends/file_manager.py\", line 192, in _acquire_with_cache_info\n",
      "    file = self._opener(*self._args, **kwargs)\n",
      "  File \"netCDF4/_netCDF4.pyx\", line 2291, in netCDF4._netCDF4.Dataset.__init__\n",
      "  File \"netCDF4/_netCDF4.pyx\", line 1855, in netCDF4._netCDF4._ensure_nc_success\n",
      "PermissionError: [Errno 13] Permission denied: b'/local/Tom.Beucler/SPCAM_PHYS/118_train.nc'\n"
     ]
    }
   ],
   "source": [
    "!python preprocessing-11132019.py -c /home/t/Tom.Beucler/SPCAM/CBRAIN-CAM/pp_config/118_POG_TfromTSinput_test.yml"
   ]
  },
  {
   "cell_type": "code",
   "execution_count": 13,
   "metadata": {},
   "outputs": [
    {
     "name": "stdout",
     "output_type": "stream",
     "text": [
      "-rw-r--r-- 1 Tom.Beucler ls-craig  15K Nov 13 22:17 /local/Tom.Beucler/SPCAM_PHYS/100_norm.nc\n",
      "-rw-r--r-- 1 Tom.Beucler ls-craig 1.8G Nov 13 22:16 /local/Tom.Beucler/SPCAM_PHYS/100_train.nc\n",
      "-rw-r--r-- 1 Tom.Beucler ls-craig 1.8G Nov 13 22:16 /local/Tom.Beucler/SPCAM_PHYS/100_train_shuffle.nc\n",
      "-rw-r--r-- 1 Tom.Beucler ls-craig 1.8G Nov 13 22:17 /local/Tom.Beucler/SPCAM_PHYS/100_valid.nc\n",
      "-rw-r--r-- 1 Tom.Beucler ls-craig  22G Nov 13 22:32 /local/Tom.Beucler/SPCAM_PHYS/101_train.nc\n",
      "-rw-r--r-- 1 Tom.Beucler ls-craig  22G Nov 13 22:33 /local/Tom.Beucler/SPCAM_PHYS/101_train_shuffle.nc\n",
      "-rw-r--r-- 1 Tom.Beucler ls-craig  22G Nov 13 22:47 /local/Tom.Beucler/SPCAM_PHYS/101_valid.nc\n",
      "-rw-r--r-- 1 Tom.Beucler ls-craig  22G Nov 13 23:57 /local/Tom.Beucler/SPCAM_PHYS/102_train.nc\n",
      "-rw-r--r-- 1 Tom.Beucler ls-craig  22G Nov 13 23:58 /local/Tom.Beucler/SPCAM_PHYS/102_train_shuffle.nc\n",
      "-rw-r--r-- 1 Tom.Beucler ls-craig  22G Nov 14 00:13 /local/Tom.Beucler/SPCAM_PHYS/102_valid.nc\n",
      "-rw-r--r-- 1 Tom.Beucler ls-craig  17K Nov 14 01:47 /local/Tom.Beucler/SPCAM_PHYS/103_norm.nc\n",
      "-rw-r--r-- 1 Tom.Beucler ls-craig 3.5G Nov 14 01:44 /local/Tom.Beucler/SPCAM_PHYS/103_train.nc\n",
      "-rw-r--r-- 1 Tom.Beucler ls-craig 3.5G Nov 14 01:44 /local/Tom.Beucler/SPCAM_PHYS/103_train_shuffle.nc\n",
      "-rw-r--r-- 1 Tom.Beucler ls-craig 3.5G Nov 14 01:47 /local/Tom.Beucler/SPCAM_PHYS/103_valid.nc\n",
      "-rw-r--r-- 1 Tom.Beucler ls-craig  42G Nov 14 02:23 /local/Tom.Beucler/SPCAM_PHYS/104_train.nc\n",
      "-rw-r--r-- 1 Tom.Beucler ls-craig  42G Nov 14 02:26 /local/Tom.Beucler/SPCAM_PHYS/104_train_shuffle.nc\n",
      "-rw-r--r-- 1 Tom.Beucler ls-craig  42G Nov 14 02:58 /local/Tom.Beucler/SPCAM_PHYS/104_valid.nc\n",
      "-rw-r--r-- 1 Tom.Beucler ls-craig  42G Nov 14 03:53 /local/Tom.Beucler/SPCAM_PHYS/105_train.nc\n",
      "-rw-r--r-- 1 Tom.Beucler ls-craig  42G Nov 14 03:56 /local/Tom.Beucler/SPCAM_PHYS/105_train_shuffle.nc\n",
      "-rw-r--r-- 1 Tom.Beucler ls-craig  42G Nov 14 04:31 /local/Tom.Beucler/SPCAM_PHYS/105_valid.nc\n",
      "-rw-r--r-- 1 Tom.Beucler ls-craig  17K Nov 14 06:44 /local/Tom.Beucler/SPCAM_PHYS/106_norm.nc\n",
      "-rw-r--r-- 1 Tom.Beucler ls-craig  15K Nov 15 20:06 /local/Tom.Beucler/SPCAM_PHYS/112_norm.nc\n",
      "-rw-r--r-- 1 Tom.Beucler ls-craig 1.8G Nov 15 20:05 /local/Tom.Beucler/SPCAM_PHYS/112_train.nc\n",
      "-rw-r--r-- 1 Tom.Beucler ls-craig 1.8G Nov 15 20:05 /local/Tom.Beucler/SPCAM_PHYS/112_train_shuffle.nc\n",
      "-rw-r--r-- 1 Tom.Beucler ls-craig 1.8G Nov 15 20:06 /local/Tom.Beucler/SPCAM_PHYS/112_valid.nc\n",
      "-rw-r--r-- 1 Tom.Beucler ls-craig  22G Nov 15 20:22 /local/Tom.Beucler/SPCAM_PHYS/113_train.nc\n",
      "-rw-r--r-- 1 Tom.Beucler ls-craig  22G Nov 15 20:23 /local/Tom.Beucler/SPCAM_PHYS/113_train_shuffle.nc\n",
      "-rw-r--r-- 1 Tom.Beucler ls-craig  22G Nov 15 20:33 /local/Tom.Beucler/SPCAM_PHYS/113_valid.nc\n",
      "-rw-r--r-- 1 Tom.Beucler ls-craig  22G Nov 15 21:00 /local/Tom.Beucler/SPCAM_PHYS/114_train.nc\n",
      "-rw-r--r-- 1 Tom.Beucler ls-craig  22G Nov 15 21:01 /local/Tom.Beucler/SPCAM_PHYS/114_train_shuffle.nc\n",
      "-rw-r--r-- 1 Tom.Beucler ls-craig  22G Nov 15 21:14 /local/Tom.Beucler/SPCAM_PHYS/114_valid.nc\n",
      "-rw-r--r-- 1 Tom.Beucler ls-craig  15K Nov 15 21:27 /local/Tom.Beucler/SPCAM_PHYS/115_norm.nc\n",
      "-rw-r--r-- 1 Tom.Beucler ls-craig 1.8G Nov 15 21:26 /local/Tom.Beucler/SPCAM_PHYS/115_train.nc\n",
      "-rw-r--r-- 1 Tom.Beucler ls-craig 1.8G Nov 15 21:26 /local/Tom.Beucler/SPCAM_PHYS/115_train_shuffle.nc\n",
      "-rw-r--r-- 1 Tom.Beucler ls-craig 1.8G Nov 15 21:27 /local/Tom.Beucler/SPCAM_PHYS/115_valid.nc\n",
      "-rw-r--r-- 1 Tom.Beucler ls-craig  15K Nov 15 22:47 /local/Tom.Beucler/SPCAM_PHYS/118_norm.nc\n",
      "-rw-r--r-- 1 Tom.Beucler ls-craig 1.8G Nov 15 22:46 /local/Tom.Beucler/SPCAM_PHYS/118_train.nc\n",
      "-rw-r--r-- 1 Tom.Beucler ls-craig 1.8G Nov 15 22:46 /local/Tom.Beucler/SPCAM_PHYS/118_train_shuffle.nc\n",
      "-rw-r--r-- 1 Tom.Beucler ls-craig 1.8G Nov 15 22:46 /local/Tom.Beucler/SPCAM_PHYS/118_valid.nc\n",
      "-rw-r--r-- 1 Tom.Beucler ls-craig  22G Nov 15 22:55 /local/Tom.Beucler/SPCAM_PHYS/119_train.nc\n",
      "-rw-r--r-- 1 Tom.Beucler ls-craig  22G Nov 15 22:56 /local/Tom.Beucler/SPCAM_PHYS/119_train_shuffle.nc\n",
      "-rw-r--r-- 1 Tom.Beucler ls-craig  22G Nov 15 23:02 /local/Tom.Beucler/SPCAM_PHYS/119_valid.nc\n"
     ]
    }
   ],
   "source": [
    "!ls -la -h /local/Tom.Beucler/SPCAM_PHYS/1*"
   ]
  },
  {
   "cell_type": "markdown",
   "metadata": {},
   "source": [
    "# 2) Check the preprocessed data"
   ]
  },
  {
   "cell_type": "code",
   "execution_count": 4,
   "metadata": {},
   "outputs": [],
   "source": [
    "path_data = '/DFS-L/DATA/pritchard/tbeucler/SPCAM/SPCAM_PHYS/'"
   ]
  },
  {
   "cell_type": "code",
   "execution_count": 5,
   "metadata": {},
   "outputs": [],
   "source": [
    "path_QSATdeficit = path_data+'2021_02_01_NORM_O3_QSATdeficit_small.nc'"
   ]
  },
  {
   "cell_type": "code",
   "execution_count": 6,
   "metadata": {},
   "outputs": [],
   "source": [
    "path_TfromNS = path_data+'2021_02_01_NORM_O3_TfromNS_small.nc'"
   ]
  },
  {
   "cell_type": "code",
   "execution_count": 7,
   "metadata": {},
   "outputs": [],
   "source": [
    "path_Bcons = path_data+'2021_02_01_NORM_O3_BCONS_small.nc'"
   ]
  },
  {
   "cell_type": "code",
   "execution_count": 8,
   "metadata": {},
   "outputs": [],
   "source": [
    "data_QSATdeficit = xr.open_dataset(path_QSATdeficit)\n",
    "data_TfromNS = xr.open_dataset(path_TfromNS)\n",
    "data_Bcons = xr.open_dataset(path_Bcons)"
   ]
  },
  {
   "cell_type": "code",
   "execution_count": 9,
   "metadata": {},
   "outputs": [
    {
     "data": {
      "text/plain": [
       "<xarray.Dataset>\n",
       "Dimensions:           (var_names: 214, var_names_single: 11)\n",
       "Coordinates:\n",
       "  * var_names         (var_names) object 'QSATdeficit' 'QSATdeficit' ... 'QRS'\n",
       "  * var_names_single  (var_names_single) object 'QSATdeficit' 'TBP' ... 'QRS'\n",
       "Data variables:\n",
       "    mean              (var_names) float64 ...\n",
       "    std               (var_names) float64 ...\n",
       "    min               (var_names) float64 ...\n",
       "    max               (var_names) float64 ...\n",
       "    std_by_var        (var_names_single) float64 ..."
      ]
     },
     "execution_count": 9,
     "metadata": {},
     "output_type": "execute_result"
    }
   ],
   "source": [
    "data_QSATdeficit"
   ]
  },
  {
   "cell_type": "code",
   "execution_count": 17,
   "metadata": {},
   "outputs": [
    {
     "data": {
      "text/plain": [
       "<xarray.Dataset>\n",
       "Dimensions:           (var_names: 214, var_names_single: 11)\n",
       "Coordinates:\n",
       "  * var_names         (var_names) object 'QBP' 'QBP' 'QBP' ... 'QRS' 'QRS' 'QRS'\n",
       "  * var_names_single  (var_names_single) object 'QBP' 'TfromNS' ... 'QRL' 'QRS'\n",
       "Data variables:\n",
       "    mean              (var_names) float64 ...\n",
       "    std               (var_names) float64 ...\n",
       "    min               (var_names) float64 ...\n",
       "    max               (var_names) float64 ...\n",
       "    std_by_var        (var_names_single) float64 ..."
      ]
     },
     "execution_count": 17,
     "metadata": {},
     "output_type": "execute_result"
    }
   ],
   "source": [
    "data_TfromNS"
   ]
  },
  {
   "cell_type": "code",
   "execution_count": 23,
   "metadata": {},
   "outputs": [
    {
     "data": {
      "text/plain": [
       "(214,)"
      ]
     },
     "execution_count": 23,
     "metadata": {},
     "output_type": "execute_result"
    }
   ],
   "source": [
    "data_TfromNS['mean'].shape"
   ]
  },
  {
   "cell_type": "code",
   "execution_count": 10,
   "metadata": {},
   "outputs": [
    {
     "data": {
      "text/plain": [
       "<xarray.DataArray 'mean' (var_names: 30)>\n",
       "array([3.514103e-02, 5.407069e-03, 3.441649e-04, 2.163555e-03, 6.659779e-04,\n",
       "       2.984441e-04, 1.824647e-04, 1.344675e-04, 9.427601e-05, 6.970832e-05,\n",
       "       5.265598e-05, 3.859004e-05, 3.558415e-05, 5.230486e-05, 1.046076e-04,\n",
       "       2.272342e-04, 4.811124e-04, 9.102161e-04, 1.484617e-03, 2.062735e-03,\n",
       "       2.350633e-03, 1.879407e-03, 9.880273e-04, 7.757872e-04, 6.943080e-04,\n",
       "       7.268760e-04, 9.064377e-04, 1.236276e-03, 1.673174e-03, 1.837612e-03])\n",
       "Coordinates:\n",
       "  * var_names  (var_names) object 'QSATdeficit' 'QSATdeficit' ... 'QSATdeficit'"
      ]
     },
     "execution_count": 10,
     "metadata": {},
     "output_type": "execute_result"
    }
   ],
   "source": [
    "data_QSATdeficit['mean'][:30]"
   ]
  },
  {
   "cell_type": "code",
   "execution_count": 24,
   "metadata": {},
   "outputs": [
    {
     "data": {
      "text/plain": [
       "<xarray.DataArray 'mean' (var_names: 30)>\n",
       "array([-59.558428, -66.212014, -81.912259, -64.22248 , -67.529307, -72.369765,\n",
       "       -76.540285, -77.553016, -77.075974, -75.904117, -74.379141, -72.655088,\n",
       "       -70.094929, -66.142031, -60.618139, -53.835679, -46.212485, -38.179249,\n",
       "       -30.09733 , -22.926994, -17.293411, -13.378349, -10.817899,  -8.781711,\n",
       "        -7.18645 ,  -5.597677,  -4.051676,  -2.564866,  -1.248037,   0.      ])\n",
       "Coordinates:\n",
       "  * var_names  (var_names) object 'TfromNS' 'TfromNS' ... 'TfromNS' 'TfromNS'"
      ]
     },
     "execution_count": 24,
     "metadata": {},
     "output_type": "execute_result"
    }
   ],
   "source": [
    "data_TfromNS['mean'][30:60]"
   ]
  },
  {
   "cell_type": "code",
   "execution_count": 27,
   "metadata": {},
   "outputs": [
    {
     "data": {
      "text/plain": [
       "<xarray.DataArray 'mean' (var_names: 30)>\n",
       "array([-7.136291, -6.417706, -5.430064, -5.115713, -4.414625, -3.694918,\n",
       "       -3.03892 , -2.60646 , -2.298347, -2.003542, -1.708663, -1.408087,\n",
       "       -1.128457, -0.89279 , -0.70768 , -0.561357, -0.437461, -0.318778,\n",
       "       -0.19061 , -0.050186,  0.087976,  0.221134,  0.332587,  0.38927 ,\n",
       "        0.420973,  0.444621,  0.461478,  0.472063,  0.480409,  0.482797])\n",
       "Coordinates:\n",
       "  * var_names  (var_names) object 'BCONS' 'BCONS' 'BCONS' ... 'BCONS' 'BCONS'"
      ]
     },
     "execution_count": 27,
     "metadata": {},
     "output_type": "execute_result"
    }
   ],
   "source": [
    "data_Bcons['mean'][30:60]"
   ]
  },
  {
   "cell_type": "code",
   "execution_count": 28,
   "metadata": {},
   "outputs": [
    {
     "data": {
      "text/plain": [
       "<xarray.DataArray 'std' (var_names: 30)>\n",
       "array([0.345221, 0.358849, 0.447796, 0.472759, 0.502322, 0.659741, 0.873119,\n",
       "       0.949976, 0.899141, 0.821077, 0.721789, 0.594561, 0.458232, 0.337888,\n",
       "       0.250219, 0.211724, 0.210609, 0.223081, 0.238343, 0.253022, 0.266222,\n",
       "       0.283593, 0.295027, 0.296891, 0.301636, 0.305545, 0.307526, 0.308157,\n",
       "       0.307485, 0.308727])\n",
       "Coordinates:\n",
       "  * var_names  (var_names) object 'BCONS' 'BCONS' 'BCONS' ... 'BCONS' 'BCONS'"
      ]
     },
     "execution_count": 28,
     "metadata": {},
     "output_type": "execute_result"
    }
   ],
   "source": [
    "data_Bcons['std'][30:60]"
   ]
  },
  {
   "cell_type": "markdown",
   "metadata": {},
   "source": [
    "# 3) Preprocessing for PRL paper"
   ]
  },
  {
   "cell_type": "code",
   "execution_count": 2,
   "metadata": {},
   "outputs": [
    {
     "name": "stdout",
     "output_type": "stream",
     "text": [
      "/home/t/Tom.Beucler/miniconda3/lib/python3.7/site-packages/tensorflow/python/framework/dtypes.py:516: FutureWarning: Passing (type, 1) or '1type' as a synonym of type is deprecated; in a future version of numpy, it will be understood as (type, (1,)) / '(1,)type'.\n",
      "  _np_qint8 = np.dtype([(\"qint8\", np.int8, 1)])\n",
      "/home/t/Tom.Beucler/miniconda3/lib/python3.7/site-packages/tensorflow/python/framework/dtypes.py:517: FutureWarning: Passing (type, 1) or '1type' as a synonym of type is deprecated; in a future version of numpy, it will be understood as (type, (1,)) / '(1,)type'.\n",
      "  _np_quint8 = np.dtype([(\"quint8\", np.uint8, 1)])\n",
      "/home/t/Tom.Beucler/miniconda3/lib/python3.7/site-packages/tensorflow/python/framework/dtypes.py:518: FutureWarning: Passing (type, 1) or '1type' as a synonym of type is deprecated; in a future version of numpy, it will be understood as (type, (1,)) / '(1,)type'.\n",
      "  _np_qint16 = np.dtype([(\"qint16\", np.int16, 1)])\n",
      "/home/t/Tom.Beucler/miniconda3/lib/python3.7/site-packages/tensorflow/python/framework/dtypes.py:519: FutureWarning: Passing (type, 1) or '1type' as a synonym of type is deprecated; in a future version of numpy, it will be understood as (type, (1,)) / '(1,)type'.\n",
      "  _np_quint16 = np.dtype([(\"quint16\", np.uint16, 1)])\n",
      "/home/t/Tom.Beucler/miniconda3/lib/python3.7/site-packages/tensorflow/python/framework/dtypes.py:520: FutureWarning: Passing (type, 1) or '1type' as a synonym of type is deprecated; in a future version of numpy, it will be understood as (type, (1,)) / '(1,)type'.\n",
      "  _np_qint32 = np.dtype([(\"qint32\", np.int32, 1)])\n",
      "/home/t/Tom.Beucler/miniconda3/lib/python3.7/site-packages/tensorflow/python/framework/dtypes.py:525: FutureWarning: Passing (type, 1) or '1type' as a synonym of type is deprecated; in a future version of numpy, it will be understood as (type, (1,)) / '(1,)type'.\n",
      "  np_resource = np.dtype([(\"resource\", np.ubyte, 1)])\n",
      "/home/t/Tom.Beucler/miniconda3/lib/python3.7/site-packages/tensorboard/compat/tensorflow_stub/dtypes.py:541: FutureWarning: Passing (type, 1) or '1type' as a synonym of type is deprecated; in a future version of numpy, it will be understood as (type, (1,)) / '(1,)type'.\n",
      "  _np_qint8 = np.dtype([(\"qint8\", np.int8, 1)])\n",
      "/home/t/Tom.Beucler/miniconda3/lib/python3.7/site-packages/tensorboard/compat/tensorflow_stub/dtypes.py:542: FutureWarning: Passing (type, 1) or '1type' as a synonym of type is deprecated; in a future version of numpy, it will be understood as (type, (1,)) / '(1,)type'.\n",
      "  _np_quint8 = np.dtype([(\"quint8\", np.uint8, 1)])\n",
      "/home/t/Tom.Beucler/miniconda3/lib/python3.7/site-packages/tensorboard/compat/tensorflow_stub/dtypes.py:543: FutureWarning: Passing (type, 1) or '1type' as a synonym of type is deprecated; in a future version of numpy, it will be understood as (type, (1,)) / '(1,)type'.\n",
      "  _np_qint16 = np.dtype([(\"qint16\", np.int16, 1)])\n",
      "/home/t/Tom.Beucler/miniconda3/lib/python3.7/site-packages/tensorboard/compat/tensorflow_stub/dtypes.py:544: FutureWarning: Passing (type, 1) or '1type' as a synonym of type is deprecated; in a future version of numpy, it will be understood as (type, (1,)) / '(1,)type'.\n",
      "  _np_quint16 = np.dtype([(\"quint16\", np.uint16, 1)])\n",
      "/home/t/Tom.Beucler/miniconda3/lib/python3.7/site-packages/tensorboard/compat/tensorflow_stub/dtypes.py:545: FutureWarning: Passing (type, 1) or '1type' as a synonym of type is deprecated; in a future version of numpy, it will be understood as (type, (1,)) / '(1,)type'.\n",
      "  _np_qint32 = np.dtype([(\"qint32\", np.int32, 1)])\n",
      "/home/t/Tom.Beucler/miniconda3/lib/python3.7/site-packages/tensorboard/compat/tensorflow_stub/dtypes.py:550: FutureWarning: Passing (type, 1) or '1type' as a synonym of type is deprecated; in a future version of numpy, it will be understood as (type, (1,)) / '(1,)type'.\n",
      "  np_resource = np.dtype([(\"resource\", np.ubyte, 1)])\n",
      "WARNING: Logging before flag parsing goes to stderr.\n",
      "W0107 01:36:55.220432 22365531158336 deprecation_wrapper.py:119] From /filer/z-sv-pool12c/t/Tom.Beucler/SPCAM/CBRAIN-CAM/cbrain/models.py:16: The name tf.keras.layers.CuDNNGRU is deprecated. Please use tf.compat.v1.keras.layers.CuDNNGRU instead.\n",
      "\n",
      "W0107 01:36:55.223832 22365531158336 deprecation_wrapper.py:119] From /filer/z-sv-pool12c/t/Tom.Beucler/SPCAM/CBRAIN-CAM/cbrain/models.py:16: The name tf.keras.layers.CuDNNLSTM is deprecated. Please use tf.compat.v1.keras.layers.CuDNNLSTM instead.\n",
      "\n",
      "/filer/z-sv-pool12c/t/Tom.Beucler/SPCAM/CBRAIN-CAM\n",
      "/home/t/Tom.Beucler/miniconda3/lib/python3.7/site-packages/xarray/backends/api.py:783: FutureWarning: In xarray version 0.13 `auto_combine` will be deprecated.\n",
      "  coords=coords)\n",
      "/home/t/Tom.Beucler/miniconda3/lib/python3.7/site-packages/xarray/backends/api.py:783: FutureWarning: Also `open_mfdataset` will no longer accept a `concat_dim` argument.\n",
      "To get equivalent behaviour from now on please use the new\n",
      "`combine_nested` function instead (or the `combine='nested'` option to\n",
      "`open_mfdataset`).The datasets supplied have global dimension coordinates. You may want\n",
      "to use the new `combine_by_coords` function (or the\n",
      "`combine='by_coords'` option to `open_mfdataset` to order the datasets\n",
      "before concatenation. Alternatively, to continue concatenating based\n",
      "on the order the datasets are supplied in in future, please use the\n",
      "new `combine_nested` function (or the `combine='nested'` option to\n",
      "open_mfdataset).\n",
      "  coords=coords)\n",
      "var is  RH\n",
      "var is  QCBP\n",
      "var is  QIBP\n",
      "var is  TBP\n",
      "var is  VBP\n",
      "var is  PS\n",
      "var is  SOLIN\n",
      "var is  SHFLX\n",
      "var is  LHFLX\n",
      "var is  dRHdt\n",
      "var is  PHCLDLIQ\n",
      "var is  PHCLDICE\n",
      "var is  TPHYSTND\n",
      "var is  QRL\n",
      "var is  QRS\n",
      "var is  DTVKE\n",
      "var is  FSNT\n",
      "var is  FSNS\n",
      "var is  FLNT\n",
      "var is  FLNS\n",
      "var is  PRECT\n",
      "var is  PRECTEND\n",
      "var is  PRECST\n",
      "var is  PRECSTEN\n",
      "var is  Qdt_adiabatic\n",
      "var is  QCdt_adiabatic\n",
      "var is  QIdt_adiabatic\n",
      "var is  Tdt_adiabatic\n",
      "var is  Vdt_adiabatic\n",
      "These time steps are cut: [  95  191  287  383  479  575  671  767  863  959 1055]\n",
      "  0%|                                                     | 0/1 [00:00<?, ?it/s]Killed\n"
     ]
    }
   ],
   "source": [
    "!python preprocessing-11132019.py -c /home/t/Tom.Beucler/SPCAM/CBRAIN-CAM/pp_config/8col_rad_tbeucler_local-RH-test.yml"
   ]
  },
  {
   "cell_type": "code",
   "execution_count": 3,
   "metadata": {},
   "outputs": [
    {
     "name": "stdout",
     "output_type": "stream",
     "text": [
      "/home/t/Tom.Beucler/miniconda3/lib/python3.7/site-packages/tensorflow/python/framework/dtypes.py:516: FutureWarning: Passing (type, 1) or '1type' as a synonym of type is deprecated; in a future version of numpy, it will be understood as (type, (1,)) / '(1,)type'.\n",
      "  _np_qint8 = np.dtype([(\"qint8\", np.int8, 1)])\n",
      "/home/t/Tom.Beucler/miniconda3/lib/python3.7/site-packages/tensorflow/python/framework/dtypes.py:517: FutureWarning: Passing (type, 1) or '1type' as a synonym of type is deprecated; in a future version of numpy, it will be understood as (type, (1,)) / '(1,)type'.\n",
      "  _np_quint8 = np.dtype([(\"quint8\", np.uint8, 1)])\n",
      "/home/t/Tom.Beucler/miniconda3/lib/python3.7/site-packages/tensorflow/python/framework/dtypes.py:518: FutureWarning: Passing (type, 1) or '1type' as a synonym of type is deprecated; in a future version of numpy, it will be understood as (type, (1,)) / '(1,)type'.\n",
      "  _np_qint16 = np.dtype([(\"qint16\", np.int16, 1)])\n",
      "/home/t/Tom.Beucler/miniconda3/lib/python3.7/site-packages/tensorflow/python/framework/dtypes.py:519: FutureWarning: Passing (type, 1) or '1type' as a synonym of type is deprecated; in a future version of numpy, it will be understood as (type, (1,)) / '(1,)type'.\n",
      "  _np_quint16 = np.dtype([(\"quint16\", np.uint16, 1)])\n",
      "/home/t/Tom.Beucler/miniconda3/lib/python3.7/site-packages/tensorflow/python/framework/dtypes.py:520: FutureWarning: Passing (type, 1) or '1type' as a synonym of type is deprecated; in a future version of numpy, it will be understood as (type, (1,)) / '(1,)type'.\n",
      "  _np_qint32 = np.dtype([(\"qint32\", np.int32, 1)])\n",
      "/home/t/Tom.Beucler/miniconda3/lib/python3.7/site-packages/tensorflow/python/framework/dtypes.py:525: FutureWarning: Passing (type, 1) or '1type' as a synonym of type is deprecated; in a future version of numpy, it will be understood as (type, (1,)) / '(1,)type'.\n",
      "  np_resource = np.dtype([(\"resource\", np.ubyte, 1)])\n",
      "/home/t/Tom.Beucler/miniconda3/lib/python3.7/site-packages/tensorboard/compat/tensorflow_stub/dtypes.py:541: FutureWarning: Passing (type, 1) or '1type' as a synonym of type is deprecated; in a future version of numpy, it will be understood as (type, (1,)) / '(1,)type'.\n",
      "  _np_qint8 = np.dtype([(\"qint8\", np.int8, 1)])\n",
      "/home/t/Tom.Beucler/miniconda3/lib/python3.7/site-packages/tensorboard/compat/tensorflow_stub/dtypes.py:542: FutureWarning: Passing (type, 1) or '1type' as a synonym of type is deprecated; in a future version of numpy, it will be understood as (type, (1,)) / '(1,)type'.\n",
      "  _np_quint8 = np.dtype([(\"quint8\", np.uint8, 1)])\n",
      "/home/t/Tom.Beucler/miniconda3/lib/python3.7/site-packages/tensorboard/compat/tensorflow_stub/dtypes.py:543: FutureWarning: Passing (type, 1) or '1type' as a synonym of type is deprecated; in a future version of numpy, it will be understood as (type, (1,)) / '(1,)type'.\n",
      "  _np_qint16 = np.dtype([(\"qint16\", np.int16, 1)])\n",
      "/home/t/Tom.Beucler/miniconda3/lib/python3.7/site-packages/tensorboard/compat/tensorflow_stub/dtypes.py:544: FutureWarning: Passing (type, 1) or '1type' as a synonym of type is deprecated; in a future version of numpy, it will be understood as (type, (1,)) / '(1,)type'.\n",
      "  _np_quint16 = np.dtype([(\"quint16\", np.uint16, 1)])\n",
      "/home/t/Tom.Beucler/miniconda3/lib/python3.7/site-packages/tensorboard/compat/tensorflow_stub/dtypes.py:545: FutureWarning: Passing (type, 1) or '1type' as a synonym of type is deprecated; in a future version of numpy, it will be understood as (type, (1,)) / '(1,)type'.\n",
      "  _np_qint32 = np.dtype([(\"qint32\", np.int32, 1)])\n",
      "/home/t/Tom.Beucler/miniconda3/lib/python3.7/site-packages/tensorboard/compat/tensorflow_stub/dtypes.py:550: FutureWarning: Passing (type, 1) or '1type' as a synonym of type is deprecated; in a future version of numpy, it will be understood as (type, (1,)) / '(1,)type'.\n",
      "  np_resource = np.dtype([(\"resource\", np.ubyte, 1)])\n",
      "WARNING: Logging before flag parsing goes to stderr.\n",
      "W0107 02:16:09.106168 23010143696704 deprecation_wrapper.py:119] From /filer/z-sv-pool12c/t/Tom.Beucler/SPCAM/CBRAIN-CAM/cbrain/models.py:16: The name tf.keras.layers.CuDNNGRU is deprecated. Please use tf.compat.v1.keras.layers.CuDNNGRU instead.\n",
      "\n",
      "W0107 02:16:09.106508 23010143696704 deprecation_wrapper.py:119] From /filer/z-sv-pool12c/t/Tom.Beucler/SPCAM/CBRAIN-CAM/cbrain/models.py:16: The name tf.keras.layers.CuDNNLSTM is deprecated. Please use tf.compat.v1.keras.layers.CuDNNLSTM instead.\n",
      "\n",
      "/filer/z-sv-pool12c/t/Tom.Beucler/SPCAM/CBRAIN-CAM\n",
      "/home/t/Tom.Beucler/miniconda3/lib/python3.7/site-packages/xarray/backends/api.py:783: FutureWarning: In xarray version 0.13 `auto_combine` will be deprecated.\n",
      "  coords=coords)\n",
      "/home/t/Tom.Beucler/miniconda3/lib/python3.7/site-packages/xarray/backends/api.py:783: FutureWarning: Also `open_mfdataset` will no longer accept a `concat_dim` argument.\n",
      "To get equivalent behaviour from now on please use the new\n",
      "`combine_nested` function instead (or the `combine='nested'` option to\n",
      "`open_mfdataset`).The datasets supplied have global dimension coordinates. You may want\n",
      "to use the new `combine_by_coords` function (or the\n",
      "`combine='by_coords'` option to `open_mfdataset` to order the datasets\n",
      "before concatenation. Alternatively, to continue concatenating based\n",
      "on the order the datasets are supplied in in future, please use the\n",
      "new `combine_nested` function (or the `combine='nested'` option to\n",
      "open_mfdataset).\n",
      "  coords=coords)\n",
      "var is  QBP\n",
      "var is  QCBP\n",
      "var is  QIBP\n",
      "var is  TBP\n",
      "var is  VBP\n",
      "var is  PS\n",
      "var is  SOLIN\n",
      "var is  SHFLX\n",
      "var is  LHFLX\n",
      "var is  PHQ\n",
      "var is  PHCLDLIQ\n",
      "var is  PHCLDICE\n",
      "var is  TPHYSTND\n",
      "var is  QRL\n",
      "var is  QRS\n",
      "var is  DTVKE\n",
      "var is  FSNT\n",
      "var is  FSNS\n",
      "var is  FLNT\n",
      "var is  FLNS\n",
      "var is  PRECT\n",
      "var is  PRECTEND\n",
      "var is  PRECST\n",
      "var is  PRECSTEN\n",
      "var is  Qdt_adiabatic\n",
      "var is  QCdt_adiabatic\n",
      "var is  QIdt_adiabatic\n",
      "var is  Tdt_adiabatic\n",
      "var is  Vdt_adiabatic\n",
      "These time steps are cut: [ 479  959 1439 1919 2399 2879 3359 3839 4319 4799 5279]\n",
      "100%|█████████████████████████████████████████████| 5/5 [06:25<00:00, 77.66s/it]\n",
      "/home/t/Tom.Beucler/miniconda3/lib/python3.7/site-packages/xarray/backends/api.py:783: FutureWarning: In xarray version 0.13 `auto_combine` will be deprecated.\n",
      "  coords=coords)\n",
      "/home/t/Tom.Beucler/miniconda3/lib/python3.7/site-packages/xarray/backends/api.py:783: FutureWarning: Also `open_mfdataset` will no longer accept a `concat_dim` argument.\n",
      "To get equivalent behaviour from now on please use the new\n",
      "`combine_nested` function instead (or the `combine='nested'` option to\n",
      "`open_mfdataset`).The datasets supplied have global dimension coordinates. You may want\n",
      "to use the new `combine_by_coords` function (or the\n",
      "`combine='by_coords'` option to `open_mfdataset` to order the datasets\n",
      "before concatenation. Alternatively, to continue concatenating based\n",
      "on the order the datasets are supplied in in future, please use the\n",
      "new `combine_nested` function (or the `combine='nested'` option to\n",
      "open_mfdataset).\n",
      "  coords=coords)\n",
      "var is  QBP\n",
      "var is  QCBP\n",
      "var is  QIBP\n",
      "var is  TBP\n",
      "var is  VBP\n",
      "var is  PS\n",
      "var is  SOLIN\n",
      "var is  SHFLX\n",
      "var is  LHFLX\n",
      "var is  PHQ\n",
      "var is  PHCLDLIQ\n",
      "var is  PHCLDICE\n",
      "var is  TPHYSTND\n",
      "var is  QRL\n",
      "var is  QRS\n",
      "var is  DTVKE\n",
      "var is  FSNT\n",
      "var is  FSNS\n",
      "var is  FLNT\n",
      "var is  FLNS\n",
      "var is  PRECT\n",
      "var is  PRECTEND\n",
      "var is  PRECST\n",
      "var is  PRECSTEN\n",
      "var is  Qdt_adiabatic\n",
      "var is  QCdt_adiabatic\n",
      "var is  QIdt_adiabatic\n",
      "var is  Tdt_adiabatic\n",
      "var is  Vdt_adiabatic\n",
      "These time steps are cut: []\n"
     ]
    }
   ],
   "source": [
    "!python preprocessing-11132019.py -c /home/t/Tom.Beucler/SPCAM/CBRAIN-CAM/pp_config/8col_rad_tbeucler_local-test.yml"
   ]
  },
  {
   "cell_type": "code",
   "execution_count": null,
   "metadata": {},
   "outputs": [],
   "source": []
  }
 ],
 "metadata": {
  "kernelspec": {
   "display_name": "Python 3",
   "language": "python",
   "name": "python3"
  },
  "language_info": {
   "codemirror_mode": {
    "name": "ipython",
    "version": 3
   },
   "file_extension": ".py",
   "mimetype": "text/x-python",
   "name": "python",
   "nbconvert_exporter": "python",
   "pygments_lexer": "ipython3",
   "version": "3.7.3"
  },
  "toc": {
   "base_numbering": 1,
   "nav_menu": {},
   "number_sections": false,
   "sideBar": true,
   "skip_h1_title": false,
   "title_cell": "Table of Contents",
   "title_sidebar": "Contents",
   "toc_cell": false,
   "toc_position": {
    "height": "calc(100% - 180px)",
    "left": "10px",
    "top": "150px",
    "width": "384px"
   },
   "toc_section_display": true,
   "toc_window_display": true
  }
 },
 "nbformat": 4,
 "nbformat_minor": 2
}
