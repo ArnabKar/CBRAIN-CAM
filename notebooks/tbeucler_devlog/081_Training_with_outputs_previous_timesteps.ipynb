{
 "cells": [
  {
   "cell_type": "markdown",
   "metadata": {},
   "source": [
    "tgb - 1/10/2022 - Testing whether adding tendencies from previous timesteps helps significantly improve performance"
   ]
  },
  {
   "cell_type": "markdown",
   "metadata": {},
   "source": [
    "# Initialization"
   ]
  },
  {
   "cell_type": "markdown",
   "metadata": {},
   "source": [
    "## Imports"
   ]
  },
  {
   "cell_type": "code",
   "execution_count": 1,
   "metadata": {},
   "outputs": [
    {
     "name": "stdout",
     "output_type": "stream",
     "text": [
      "/nfspool-0/home/tbeucler/CBRAIN-CAM/notebooks/tbeucler_devlog\n"
     ]
    }
   ],
   "source": [
    "from cbrain.climate_invariant import *\n",
    "from cbrain.climate_invariant_utils import *"
   ]
  },
  {
   "cell_type": "markdown",
   "metadata": {},
   "source": [
    "# Load dataset and define data generator"
   ]
  },
  {
   "cell_type": "markdown",
   "metadata": {},
   "source": [
    "## Paths"
   ]
  },
  {
   "cell_type": "code",
   "execution_count": 121,
   "metadata": {},
   "outputs": [],
   "source": [
    "path_data = '/DFS-L/DATA/pritchard/tbeucler/SPCAM/SPCAM_PHYS/'\n",
    "in_vars = ['QBP','TBP','VBP','PS','SOLIN','SHFLX','LHFLX',\n",
    "          'PHQt-dt','TPHYSTNDt-dt','FSNTt-dt',\n",
    "           'FSNSt-dt','FLNTt-dt','FLNSt-dt', 'PRECTt-dt'] # We take the large-scale climate state as inputs\n",
    "in_vars_ctrl = ['QBP','TBP','VBP','PS','SOLIN','SHFLX','LHFLX']\n",
    "in_vars_check = ['QBP','TBP','VBP','PS','SOLIN','SHFLX','LHFLX',\n",
    "                 'PHQ','TPHYSTND','FSNT',\n",
    "                 'FSNS','FLNT','FLNS', 'PRECT'] # We take the large-scale climate state as inputs\n",
    "out_vars = ['PHQ','TPHYSTND','FSNT','FSNS','FLNT','FLNS', 'PRECT'] # and we output the response of clouds/storms to these climate conditions\n",
    "path_train = path_data + '2022_01_10_TRAIN_For_Nando_t-dt.nc'\n",
    "path_valid = path_data + '2022_01_10_VALID_For_Nando_t-dt.nc'\n",
    "path_input_norm = path_data + '2022_01_10_Norm_Outputs_t-dt.nc'"
   ]
  },
  {
   "cell_type": "markdown",
   "metadata": {},
   "source": [
    "## Create new normalization file"
   ]
  },
  {
   "cell_type": "code",
   "execution_count": 30,
   "metadata": {},
   "outputs": [],
   "source": [
    "norm_dataset = xr.open_dataset(path_input_norm)"
   ]
  },
  {
   "cell_type": "code",
   "execution_count": 31,
   "metadata": {},
   "outputs": [
    {
     "data": {
      "text/html": [
       "<div><svg style=\"position: absolute; width: 0; height: 0; overflow: hidden\">\n",
       "<defs>\n",
       "<symbol id=\"icon-database\" viewBox=\"0 0 32 32\">\n",
       "<title>Show/Hide data repr</title>\n",
       "<path d=\"M16 0c-8.837 0-16 2.239-16 5v4c0 2.761 7.163 5 16 5s16-2.239 16-5v-4c0-2.761-7.163-5-16-5z\"></path>\n",
       "<path d=\"M16 17c-8.837 0-16-2.239-16-5v6c0 2.761 7.163 5 16 5s16-2.239 16-5v-6c0 2.761-7.163 5-16 5z\"></path>\n",
       "<path d=\"M16 26c-8.837 0-16-2.239-16-5v6c0 2.761 7.163 5 16 5s16-2.239 16-5v-6c0 2.761-7.163 5-16 5z\"></path>\n",
       "</symbol>\n",
       "<symbol id=\"icon-file-text2\" viewBox=\"0 0 32 32\">\n",
       "<title>Show/Hide attributes</title>\n",
       "<path d=\"M28.681 7.159c-0.694-0.947-1.662-2.053-2.724-3.116s-2.169-2.030-3.116-2.724c-1.612-1.182-2.393-1.319-2.841-1.319h-15.5c-1.378 0-2.5 1.121-2.5 2.5v27c0 1.378 1.122 2.5 2.5 2.5h23c1.378 0 2.5-1.122 2.5-2.5v-19.5c0-0.448-0.137-1.23-1.319-2.841zM24.543 5.457c0.959 0.959 1.712 1.825 2.268 2.543h-4.811v-4.811c0.718 0.556 1.584 1.309 2.543 2.268zM28 29.5c0 0.271-0.229 0.5-0.5 0.5h-23c-0.271 0-0.5-0.229-0.5-0.5v-27c0-0.271 0.229-0.5 0.5-0.5 0 0 15.499-0 15.5 0v7c0 0.552 0.448 1 1 1h7v19.5z\"></path>\n",
       "<path d=\"M23 26h-14c-0.552 0-1-0.448-1-1s0.448-1 1-1h14c0.552 0 1 0.448 1 1s-0.448 1-1 1z\"></path>\n",
       "<path d=\"M23 22h-14c-0.552 0-1-0.448-1-1s0.448-1 1-1h14c0.552 0 1 0.448 1 1s-0.448 1-1 1z\"></path>\n",
       "<path d=\"M23 18h-14c-0.552 0-1-0.448-1-1s0.448-1 1-1h14c0.552 0 1 0.448 1 1s-0.448 1-1 1z\"></path>\n",
       "</symbol>\n",
       "</defs>\n",
       "</svg>\n",
       "<style>/* CSS stylesheet for displaying xarray objects in jupyterlab.\n",
       " *\n",
       " */\n",
       "\n",
       ":root {\n",
       "  --xr-font-color0: var(--jp-content-font-color0, rgba(0, 0, 0, 1));\n",
       "  --xr-font-color2: var(--jp-content-font-color2, rgba(0, 0, 0, 0.54));\n",
       "  --xr-font-color3: var(--jp-content-font-color3, rgba(0, 0, 0, 0.38));\n",
       "  --xr-border-color: var(--jp-border-color2, #e0e0e0);\n",
       "  --xr-disabled-color: var(--jp-layout-color3, #bdbdbd);\n",
       "  --xr-background-color: var(--jp-layout-color0, white);\n",
       "  --xr-background-color-row-even: var(--jp-layout-color1, white);\n",
       "  --xr-background-color-row-odd: var(--jp-layout-color2, #eeeeee);\n",
       "}\n",
       "\n",
       ".xr-wrap {\n",
       "  min-width: 300px;\n",
       "  max-width: 700px;\n",
       "}\n",
       "\n",
       ".xr-header {\n",
       "  padding-top: 6px;\n",
       "  padding-bottom: 6px;\n",
       "  margin-bottom: 4px;\n",
       "  border-bottom: solid 1px var(--xr-border-color);\n",
       "}\n",
       "\n",
       ".xr-header > div,\n",
       ".xr-header > ul {\n",
       "  display: inline;\n",
       "  margin-top: 0;\n",
       "  margin-bottom: 0;\n",
       "}\n",
       "\n",
       ".xr-obj-type,\n",
       ".xr-array-name {\n",
       "  margin-left: 2px;\n",
       "  margin-right: 10px;\n",
       "}\n",
       "\n",
       ".xr-obj-type {\n",
       "  color: var(--xr-font-color2);\n",
       "}\n",
       "\n",
       ".xr-sections {\n",
       "  padding-left: 0 !important;\n",
       "  display: grid;\n",
       "  grid-template-columns: 150px auto auto 1fr 20px 20px;\n",
       "}\n",
       "\n",
       ".xr-section-item {\n",
       "  display: contents;\n",
       "}\n",
       "\n",
       ".xr-section-item input {\n",
       "  display: none;\n",
       "}\n",
       "\n",
       ".xr-section-item input + label {\n",
       "  color: var(--xr-disabled-color);\n",
       "}\n",
       "\n",
       ".xr-section-item input:enabled + label {\n",
       "  cursor: pointer;\n",
       "  color: var(--xr-font-color2);\n",
       "}\n",
       "\n",
       ".xr-section-item input:enabled + label:hover {\n",
       "  color: var(--xr-font-color0);\n",
       "}\n",
       "\n",
       ".xr-section-summary {\n",
       "  grid-column: 1;\n",
       "  color: var(--xr-font-color2);\n",
       "  font-weight: 500;\n",
       "}\n",
       "\n",
       ".xr-section-summary > span {\n",
       "  display: inline-block;\n",
       "  padding-left: 0.5em;\n",
       "}\n",
       "\n",
       ".xr-section-summary-in:disabled + label {\n",
       "  color: var(--xr-font-color2);\n",
       "}\n",
       "\n",
       ".xr-section-summary-in + label:before {\n",
       "  display: inline-block;\n",
       "  content: '►';\n",
       "  font-size: 11px;\n",
       "  width: 15px;\n",
       "  text-align: center;\n",
       "}\n",
       "\n",
       ".xr-section-summary-in:disabled + label:before {\n",
       "  color: var(--xr-disabled-color);\n",
       "}\n",
       "\n",
       ".xr-section-summary-in:checked + label:before {\n",
       "  content: '▼';\n",
       "}\n",
       "\n",
       ".xr-section-summary-in:checked + label > span {\n",
       "  display: none;\n",
       "}\n",
       "\n",
       ".xr-section-summary,\n",
       ".xr-section-inline-details {\n",
       "  padding-top: 4px;\n",
       "  padding-bottom: 4px;\n",
       "}\n",
       "\n",
       ".xr-section-inline-details {\n",
       "  grid-column: 2 / -1;\n",
       "}\n",
       "\n",
       ".xr-section-details {\n",
       "  display: none;\n",
       "  grid-column: 1 / -1;\n",
       "  margin-bottom: 5px;\n",
       "}\n",
       "\n",
       ".xr-section-summary-in:checked ~ .xr-section-details {\n",
       "  display: contents;\n",
       "}\n",
       "\n",
       ".xr-array-wrap {\n",
       "  grid-column: 1 / -1;\n",
       "  display: grid;\n",
       "  grid-template-columns: 20px auto;\n",
       "}\n",
       "\n",
       ".xr-array-wrap > label {\n",
       "  grid-column: 1;\n",
       "  vertical-align: top;\n",
       "}\n",
       "\n",
       ".xr-preview {\n",
       "  color: var(--xr-font-color3);\n",
       "}\n",
       "\n",
       ".xr-array-preview,\n",
       ".xr-array-data {\n",
       "  padding: 0 5px !important;\n",
       "  grid-column: 2;\n",
       "}\n",
       "\n",
       ".xr-array-data,\n",
       ".xr-array-in:checked ~ .xr-array-preview {\n",
       "  display: none;\n",
       "}\n",
       "\n",
       ".xr-array-in:checked ~ .xr-array-data,\n",
       ".xr-array-preview {\n",
       "  display: inline-block;\n",
       "}\n",
       "\n",
       ".xr-dim-list {\n",
       "  display: inline-block !important;\n",
       "  list-style: none;\n",
       "  padding: 0 !important;\n",
       "  margin: 0;\n",
       "}\n",
       "\n",
       ".xr-dim-list li {\n",
       "  display: inline-block;\n",
       "  padding: 0;\n",
       "  margin: 0;\n",
       "}\n",
       "\n",
       ".xr-dim-list:before {\n",
       "  content: '(';\n",
       "}\n",
       "\n",
       ".xr-dim-list:after {\n",
       "  content: ')';\n",
       "}\n",
       "\n",
       ".xr-dim-list li:not(:last-child):after {\n",
       "  content: ',';\n",
       "  padding-right: 5px;\n",
       "}\n",
       "\n",
       ".xr-has-index {\n",
       "  font-weight: bold;\n",
       "}\n",
       "\n",
       ".xr-var-list,\n",
       ".xr-var-item {\n",
       "  display: contents;\n",
       "}\n",
       "\n",
       ".xr-var-item > div,\n",
       ".xr-var-item label,\n",
       ".xr-var-item > .xr-var-name span {\n",
       "  background-color: var(--xr-background-color-row-even);\n",
       "  margin-bottom: 0;\n",
       "}\n",
       "\n",
       ".xr-var-item > .xr-var-name:hover span {\n",
       "  padding-right: 5px;\n",
       "}\n",
       "\n",
       ".xr-var-list > li:nth-child(odd) > div,\n",
       ".xr-var-list > li:nth-child(odd) > label,\n",
       ".xr-var-list > li:nth-child(odd) > .xr-var-name span {\n",
       "  background-color: var(--xr-background-color-row-odd);\n",
       "}\n",
       "\n",
       ".xr-var-name {\n",
       "  grid-column: 1;\n",
       "}\n",
       "\n",
       ".xr-var-dims {\n",
       "  grid-column: 2;\n",
       "}\n",
       "\n",
       ".xr-var-dtype {\n",
       "  grid-column: 3;\n",
       "  text-align: right;\n",
       "  color: var(--xr-font-color2);\n",
       "}\n",
       "\n",
       ".xr-var-preview {\n",
       "  grid-column: 4;\n",
       "}\n",
       "\n",
       ".xr-var-name,\n",
       ".xr-var-dims,\n",
       ".xr-var-dtype,\n",
       ".xr-preview,\n",
       ".xr-attrs dt {\n",
       "  white-space: nowrap;\n",
       "  overflow: hidden;\n",
       "  text-overflow: ellipsis;\n",
       "  padding-right: 10px;\n",
       "}\n",
       "\n",
       ".xr-var-name:hover,\n",
       ".xr-var-dims:hover,\n",
       ".xr-var-dtype:hover,\n",
       ".xr-attrs dt:hover {\n",
       "  overflow: visible;\n",
       "  width: auto;\n",
       "  z-index: 1;\n",
       "}\n",
       "\n",
       ".xr-var-attrs,\n",
       ".xr-var-data {\n",
       "  display: none;\n",
       "  background-color: var(--xr-background-color) !important;\n",
       "  padding-bottom: 5px !important;\n",
       "}\n",
       "\n",
       ".xr-var-attrs-in:checked ~ .xr-var-attrs,\n",
       ".xr-var-data-in:checked ~ .xr-var-data {\n",
       "  display: block;\n",
       "}\n",
       "\n",
       ".xr-var-data > table {\n",
       "  float: right;\n",
       "}\n",
       "\n",
       ".xr-var-name span,\n",
       ".xr-var-data,\n",
       ".xr-attrs {\n",
       "  padding-left: 25px !important;\n",
       "}\n",
       "\n",
       ".xr-attrs,\n",
       ".xr-var-attrs,\n",
       ".xr-var-data {\n",
       "  grid-column: 1 / -1;\n",
       "}\n",
       "\n",
       "dl.xr-attrs {\n",
       "  padding: 0;\n",
       "  margin: 0;\n",
       "  display: grid;\n",
       "  grid-template-columns: 125px auto;\n",
       "}\n",
       "\n",
       ".xr-attrs dt, dd {\n",
       "  padding: 0;\n",
       "  margin: 0;\n",
       "  float: left;\n",
       "  padding-right: 10px;\n",
       "  width: auto;\n",
       "}\n",
       "\n",
       ".xr-attrs dt {\n",
       "  font-weight: normal;\n",
       "  grid-column: 1;\n",
       "}\n",
       "\n",
       ".xr-attrs dt:hover span {\n",
       "  display: inline-block;\n",
       "  background: var(--xr-background-color);\n",
       "  padding-right: 10px;\n",
       "}\n",
       "\n",
       ".xr-attrs dd {\n",
       "  grid-column: 2;\n",
       "  white-space: pre-wrap;\n",
       "  word-break: break-all;\n",
       "}\n",
       "\n",
       ".xr-icon-database,\n",
       ".xr-icon-file-text2 {\n",
       "  display: inline-block;\n",
       "  vertical-align: middle;\n",
       "  width: 1em;\n",
       "  height: 1.5em !important;\n",
       "  stroke-width: 0;\n",
       "  stroke: currentColor;\n",
       "  fill: currentColor;\n",
       "}\n",
       "</style><div class='xr-wrap'><div class='xr-header'><div class='xr-obj-type'>xarray.Dataset</div></div><ul class='xr-sections'><li class='xr-section-item'><input id='section-317d3c9a-e41f-4af7-ac82-c431d8cd25a7' class='xr-section-summary-in' type='checkbox' disabled ><label for='section-317d3c9a-e41f-4af7-ac82-c431d8cd25a7' class='xr-section-summary'  title='Expand/collapse section'>Dimensions:</label><div class='xr-section-inline-details'><ul class='xr-dim-list'><li><span class='xr-has-index'>var_names</span>: 522</li><li><span class='xr-has-index'>var_names_single</span>: 29</li></ul></div><div class='xr-section-details'></div></li><li class='xr-section-item'><input id='section-35b8fafc-8b54-4393-b0ed-4ad1eb813bbc' class='xr-section-summary-in' type='checkbox'  checked><label for='section-35b8fafc-8b54-4393-b0ed-4ad1eb813bbc' class='xr-section-summary' >Coordinates: <span>(2)</span></label><div class='xr-section-inline-details'></div><div class='xr-section-details'><ul class='xr-var-list'><li class='xr-var-item'><div class='xr-var-name'><span class='xr-has-index'>var_names</span></div><div class='xr-var-dims'>(var_names)</div><div class='xr-var-dtype'>object</div><div class='xr-var-preview xr-preview'>&#x27;QBP&#x27; &#x27;QBP&#x27; ... &#x27;Vdt_adiabatic&#x27;</div><input id='attrs-5d21db7c-bf27-49f5-861a-a5bea93f3081' class='xr-var-attrs-in' type='checkbox' disabled><label for='attrs-5d21db7c-bf27-49f5-861a-a5bea93f3081' title='Show/Hide attributes'><svg class='icon xr-icon-file-text2'><use xlink:href='#icon-file-text2'></use></svg></label><input id='data-71e60454-d5a7-4085-9d3d-dec2fbf187db' class='xr-var-data-in' type='checkbox'><label for='data-71e60454-d5a7-4085-9d3d-dec2fbf187db' title='Show/Hide data repr'><svg class='icon xr-icon-database'><use xlink:href='#icon-database'></use></svg></label><div class='xr-var-attrs'><dl class='xr-attrs'></dl></div><pre class='xr-var-data'>array([&#x27;QBP&#x27;, &#x27;QBP&#x27;, &#x27;QBP&#x27;, ..., &#x27;Vdt_adiabatic&#x27;, &#x27;Vdt_adiabatic&#x27;,\n",
       "       &#x27;Vdt_adiabatic&#x27;], dtype=object)</pre></li><li class='xr-var-item'><div class='xr-var-name'><span class='xr-has-index'>var_names_single</span></div><div class='xr-var-dims'>(var_names_single)</div><div class='xr-var-dtype'>object</div><div class='xr-var-preview xr-preview'>&#x27;QBP&#x27; &#x27;QCBP&#x27; ... &#x27;Vdt_adiabatic&#x27;</div><input id='attrs-5b7dbcff-c99e-40b8-9c8d-756deeac9b13' class='xr-var-attrs-in' type='checkbox' disabled><label for='attrs-5b7dbcff-c99e-40b8-9c8d-756deeac9b13' title='Show/Hide attributes'><svg class='icon xr-icon-file-text2'><use xlink:href='#icon-file-text2'></use></svg></label><input id='data-fc71b5ab-0437-41da-a4b7-44a63638b8b4' class='xr-var-data-in' type='checkbox'><label for='data-fc71b5ab-0437-41da-a4b7-44a63638b8b4' title='Show/Hide data repr'><svg class='icon xr-icon-database'><use xlink:href='#icon-database'></use></svg></label><div class='xr-var-attrs'><dl class='xr-attrs'></dl></div><pre class='xr-var-data'>array([&#x27;QBP&#x27;, &#x27;QCBP&#x27;, &#x27;QIBP&#x27;, &#x27;TBP&#x27;, &#x27;VBP&#x27;, &#x27;PS&#x27;, &#x27;SOLIN&#x27;, &#x27;SHFLX&#x27;, &#x27;LHFLX&#x27;,\n",
       "       &#x27;PHQ&#x27;, &#x27;PHCLDLIQ&#x27;, &#x27;PHCLDICE&#x27;, &#x27;TPHYSTND&#x27;, &#x27;QRL&#x27;, &#x27;QRS&#x27;, &#x27;DTVKE&#x27;,\n",
       "       &#x27;FSNT&#x27;, &#x27;FSNS&#x27;, &#x27;FLNT&#x27;, &#x27;FLNS&#x27;, &#x27;PRECT&#x27;, &#x27;PRECTEND&#x27;, &#x27;PRECST&#x27;,\n",
       "       &#x27;PRECSTEN&#x27;, &#x27;Qdt_adiabatic&#x27;, &#x27;QCdt_adiabatic&#x27;, &#x27;QIdt_adiabatic&#x27;,\n",
       "       &#x27;Tdt_adiabatic&#x27;, &#x27;Vdt_adiabatic&#x27;], dtype=object)</pre></li></ul></div></li><li class='xr-section-item'><input id='section-e2e5d77d-e459-441b-97c2-6015794ef938' class='xr-section-summary-in' type='checkbox'  checked><label for='section-e2e5d77d-e459-441b-97c2-6015794ef938' class='xr-section-summary' >Data variables: <span>(5)</span></label><div class='xr-section-inline-details'></div><div class='xr-section-details'><ul class='xr-var-list'><li class='xr-var-item'><div class='xr-var-name'><span>mean</span></div><div class='xr-var-dims'>(var_names)</div><div class='xr-var-dtype'>float32</div><div class='xr-var-preview xr-preview'>...</div><input id='attrs-7ca6b47a-4b82-4cb9-802d-6fada142bd36' class='xr-var-attrs-in' type='checkbox' disabled><label for='attrs-7ca6b47a-4b82-4cb9-802d-6fada142bd36' title='Show/Hide attributes'><svg class='icon xr-icon-file-text2'><use xlink:href='#icon-file-text2'></use></svg></label><input id='data-52966b4d-82ab-4aa2-9d76-4068baa49912' class='xr-var-data-in' type='checkbox'><label for='data-52966b4d-82ab-4aa2-9d76-4068baa49912' title='Show/Hide data repr'><svg class='icon xr-icon-database'><use xlink:href='#icon-database'></use></svg></label><div class='xr-var-attrs'><dl class='xr-attrs'></dl></div><pre class='xr-var-data'>array([1.654907e-06, 1.609772e-06, 1.251349e-06, ..., 3.746689e-06,\n",
       "       1.673097e-05, 3.123202e-05], dtype=float32)</pre></li><li class='xr-var-item'><div class='xr-var-name'><span>std</span></div><div class='xr-var-dims'>(var_names)</div><div class='xr-var-dtype'>float32</div><div class='xr-var-preview xr-preview'>...</div><input id='attrs-3a4c5ce2-f31b-4a48-97fc-fe124b8fbd87' class='xr-var-attrs-in' type='checkbox' disabled><label for='attrs-3a4c5ce2-f31b-4a48-97fc-fe124b8fbd87' title='Show/Hide attributes'><svg class='icon xr-icon-file-text2'><use xlink:href='#icon-file-text2'></use></svg></label><input id='data-2a921de1-e588-406a-a8cb-ebdd0bcc10df' class='xr-var-data-in' type='checkbox'><label for='data-2a921de1-e588-406a-a8cb-ebdd0bcc10df' title='Show/Hide data repr'><svg class='icon xr-icon-database'><use xlink:href='#icon-database'></use></svg></label><div class='xr-var-attrs'><dl class='xr-attrs'></dl></div><pre class='xr-var-data'>array([2.691401e-07, 2.580057e-07, 3.152753e-07, ..., 1.943767e-04,\n",
       "       2.190497e-04, 2.603947e-04], dtype=float32)</pre></li><li class='xr-var-item'><div class='xr-var-name'><span>min</span></div><div class='xr-var-dims'>(var_names)</div><div class='xr-var-dtype'>float32</div><div class='xr-var-preview xr-preview'>...</div><input id='attrs-13b28755-2d3a-43a8-b2f1-81606c4cd1e6' class='xr-var-attrs-in' type='checkbox' disabled><label for='attrs-13b28755-2d3a-43a8-b2f1-81606c4cd1e6' title='Show/Hide attributes'><svg class='icon xr-icon-file-text2'><use xlink:href='#icon-file-text2'></use></svg></label><input id='data-55d4b756-ff43-4bbf-8aaa-358090e88023' class='xr-var-data-in' type='checkbox'><label for='data-55d4b756-ff43-4bbf-8aaa-358090e88023' title='Show/Hide data repr'><svg class='icon xr-icon-database'><use xlink:href='#icon-database'></use></svg></label><div class='xr-var-attrs'><dl class='xr-attrs'></dl></div><pre class='xr-var-data'>array([ 1.073603e-06,  1.049275e-06,  4.643579e-07, ..., -2.474419e-03,\n",
       "       -2.767808e-03, -3.183641e-03], dtype=float32)</pre></li><li class='xr-var-item'><div class='xr-var-name'><span>max</span></div><div class='xr-var-dims'>(var_names)</div><div class='xr-var-dtype'>float32</div><div class='xr-var-preview xr-preview'>...</div><input id='attrs-d273565a-f1df-4b4e-a028-d5997d6e9bd9' class='xr-var-attrs-in' type='checkbox' disabled><label for='attrs-d273565a-f1df-4b4e-a028-d5997d6e9bd9' title='Show/Hide attributes'><svg class='icon xr-icon-file-text2'><use xlink:href='#icon-file-text2'></use></svg></label><input id='data-0901887c-2d27-4edc-a48f-8f08fd2dba36' class='xr-var-data-in' type='checkbox'><label for='data-0901887c-2d27-4edc-a48f-8f08fd2dba36' title='Show/Hide data repr'><svg class='icon xr-icon-database'><use xlink:href='#icon-database'></use></svg></label><div class='xr-var-attrs'><dl class='xr-attrs'></dl></div><pre class='xr-var-data'>array([1.903797e-06, 1.893694e-06, 1.777038e-06, ..., 2.585121e-03,\n",
       "       2.731254e-03, 3.003091e-03], dtype=float32)</pre></li><li class='xr-var-item'><div class='xr-var-name'><span>std_by_var</span></div><div class='xr-var-dims'>(var_names_single)</div><div class='xr-var-dtype'>float64</div><div class='xr-var-preview xr-preview'>...</div><input id='attrs-fc16d91c-61d4-43b6-90b1-d1b1803f0ab6' class='xr-var-attrs-in' type='checkbox' disabled><label for='attrs-fc16d91c-61d4-43b6-90b1-d1b1803f0ab6' title='Show/Hide attributes'><svg class='icon xr-icon-file-text2'><use xlink:href='#icon-file-text2'></use></svg></label><input id='data-cc5da32c-75f9-4c05-b285-ee6bcf984e10' class='xr-var-data-in' type='checkbox'><label for='data-cc5da32c-75f9-4c05-b285-ee6bcf984e10' title='Show/Hide data repr'><svg class='icon xr-icon-database'><use xlink:href='#icon-database'></use></svg></label><div class='xr-var-attrs'><dl class='xr-attrs'></dl></div><pre class='xr-var-data'>array([3.774595e-03, 2.857347e-05, 1.200597e-05, 7.221055e+01, 5.857726e+00,\n",
       "       1.171657e+04, 4.186619e+02, 1.424917e+01, 7.677998e+01, 3.750899e-08,\n",
       "       8.562256e-09, 3.697259e-09, 4.038351e-05, 1.954187e-05, 1.486777e-05,\n",
       "       7.468211e-03, 3.164372e+02, 2.406603e+02, 4.591798e+01, 2.730949e+01,\n",
       "       1.076350e-07, 2.235879e-05, 1.391192e-08, 9.453453e-06, 1.949661e-08,\n",
       "       1.876010e-09, 1.282189e-09, 4.635861e-05, 1.354562e-04])</pre></li></ul></div></li><li class='xr-section-item'><input id='section-753682e4-9206-4a15-ac6f-c2bcaa9c7fbf' class='xr-section-summary-in' type='checkbox' disabled ><label for='section-753682e4-9206-4a15-ac6f-c2bcaa9c7fbf' class='xr-section-summary'  title='Expand/collapse section'>Attributes: <span>(0)</span></label><div class='xr-section-inline-details'></div><div class='xr-section-details'><dl class='xr-attrs'></dl></div></li></ul></div></div>"
      ],
      "text/plain": [
       "<xarray.Dataset>\n",
       "Dimensions:           (var_names: 522, var_names_single: 29)\n",
       "Coordinates:\n",
       "  * var_names         (var_names) object 'QBP' 'QBP' ... 'Vdt_adiabatic'\n",
       "  * var_names_single  (var_names_single) object 'QBP' 'QCBP' ... 'Vdt_adiabatic'\n",
       "Data variables:\n",
       "    mean              (var_names) float32 ...\n",
       "    std               (var_names) float32 ...\n",
       "    min               (var_names) float32 ...\n",
       "    max               (var_names) float32 ...\n",
       "    std_by_var        (var_names_single) float64 ..."
      ]
     },
     "execution_count": 31,
     "metadata": {},
     "output_type": "execute_result"
    }
   ],
   "source": [
    "norm_dataset"
   ]
  },
  {
   "cell_type": "code",
   "execution_count": 32,
   "metadata": {},
   "outputs": [],
   "source": [
    "var_names_full = norm_dataset['var_names'].values\n",
    "var_names_full_single = norm_dataset['var_names_single'].values"
   ]
  },
  {
   "cell_type": "code",
   "execution_count": 33,
   "metadata": {},
   "outputs": [],
   "source": [
    "for i in range(30):\n",
    "    var_names_full = np.append(var_names_full,'PHQt-dt')\n",
    "for i in range(30):\n",
    "    var_names_full = np.append(var_names_full,'TPHYSTNDt-dt')\n",
    "var_names_full = np.append(var_names_full,\n",
    "                           ['FSNTt-dt','FSNSt-dt','FLNTt-dt','FLNSt-dt', 'PRECTt-dt'])"
   ]
  },
  {
   "cell_type": "code",
   "execution_count": 34,
   "metadata": {},
   "outputs": [],
   "source": [
    "var_names_full_single = np.append(var_names_full_single,\n",
    "                                 ['PHQt-dt','TPHYSTNDt-dt',\n",
    "                                  'FSNTt-dt','FSNSt-dt','FLNTt-dt','FLNSt-dt', 'PRECTt-dt'])"
   ]
  },
  {
   "cell_type": "code",
   "execution_count": 35,
   "metadata": {},
   "outputs": [],
   "source": [
    "new_coor = {}\n",
    "new_coor['var_names'] = var_names_full\n",
    "new_coor['var_names_single']= var_names_full_single"
   ]
  },
  {
   "cell_type": "code",
   "execution_count": 36,
   "metadata": {},
   "outputs": [],
   "source": [
    "norm_data = {}"
   ]
  },
  {
   "cell_type": "code",
   "execution_count": 37,
   "metadata": {},
   "outputs": [],
   "source": [
    "KEY = ['mean','std','min','max']"
   ]
  },
  {
   "cell_type": "code",
   "execution_count": 58,
   "metadata": {},
   "outputs": [
    {
     "data": {
      "text/plain": [
       "array(['FSNT', 'FSNS', 'FLNT', 'FLNS', 'PRECT'], dtype=object)"
      ]
     },
     "execution_count": 58,
     "metadata": {},
     "output_type": "execute_result"
    }
   ],
   "source": [
    "var_names_full[364:369]"
   ]
  },
  {
   "cell_type": "code",
   "execution_count": 59,
   "metadata": {},
   "outputs": [],
   "source": [
    "for key in KEY:\n",
    "    norm_data[key] = norm_dataset[key].values\n",
    "    for i in range(30):\n",
    "        norm_data[key] = np.append(norm_data[key],norm_data[key][154+i])\n",
    "    for i in range(30):\n",
    "        norm_data[key] = np.append(norm_data[key],norm_data[key][244+i])\n",
    "    norm_data[key] = np.append(norm_data[key],norm_data[key][364:369])"
   ]
  },
  {
   "cell_type": "code",
   "execution_count": 62,
   "metadata": {},
   "outputs": [],
   "source": [
    "key0 = 'std_by_var'"
   ]
  },
  {
   "cell_type": "code",
   "execution_count": 63,
   "metadata": {},
   "outputs": [],
   "source": [
    "norm_data[key0] = norm_dataset[key0].values"
   ]
  },
  {
   "cell_type": "code",
   "execution_count": 79,
   "metadata": {},
   "outputs": [
    {
     "data": {
      "text/plain": [
       "array(['PHQ', 'TPHYSTND', 'FSNT', 'FSNS', 'FLNT', 'FLNS', 'PRECT'],\n",
       "      dtype=object)"
      ]
     },
     "execution_count": 79,
     "metadata": {},
     "output_type": "execute_result"
    }
   ],
   "source": [
    "var_names_full_single[np.concatenate(([9],[12],np.arange(16,21)))]"
   ]
  },
  {
   "cell_type": "code",
   "execution_count": 80,
   "metadata": {},
   "outputs": [],
   "source": [
    "norm_data[key0] = np.append(norm_data[key0],norm_data[key0][np.concatenate(([9],[12],np.arange(16,21)))])"
   ]
  },
  {
   "cell_type": "code",
   "execution_count": 83,
   "metadata": {},
   "outputs": [],
   "source": [
    "norm_data_dict = {}"
   ]
  },
  {
   "cell_type": "code",
   "execution_count": 84,
   "metadata": {},
   "outputs": [],
   "source": [
    "for key in KEY:\n",
    "    norm_data_dict[key] = (['var_names'],norm_data[key])\n",
    "norm_data_dict[key0] = (['var_names_single'],norm_data[key0])"
   ]
  },
  {
   "cell_type": "code",
   "execution_count": 85,
   "metadata": {},
   "outputs": [],
   "source": [
    "new_norm = xr.Dataset(\n",
    "    data_vars = norm_data_dict,\n",
    "    coords = new_coor\n",
    ")"
   ]
  },
  {
   "cell_type": "code",
   "execution_count": 87,
   "metadata": {},
   "outputs": [],
   "source": [
    "path_save_norm = '/DFS-L/DATA/pritchard/tbeucler/SPCAM/SPCAM_PHYS/2022_01_10_Norm_Outputs_t-dt.nc'"
   ]
  },
  {
   "cell_type": "code",
   "execution_count": 88,
   "metadata": {},
   "outputs": [],
   "source": [
    "new_norm.to_netcdf(path_save_norm,mode='w')"
   ]
  },
  {
   "cell_type": "markdown",
   "metadata": {},
   "source": [
    "## Generators"
   ]
  },
  {
   "cell_type": "code",
   "execution_count": 90,
   "metadata": {},
   "outputs": [],
   "source": [
    "scale_dict = pickle.load(open(path_data+'CIML_Zenodo/009_Wm2_scaling.pkl','rb'))"
   ]
  },
  {
   "cell_type": "code",
   "execution_count": 91,
   "metadata": {},
   "outputs": [],
   "source": [
    "N_batch = 8192\n",
    "\n",
    "train_gen_BF = DataGeneratorCI(\n",
    "    data_fn = path_train,\n",
    "    input_vars = in_vars,\n",
    "    output_vars = out_vars,\n",
    "    norm_fn = path_input_norm,\n",
    "    input_transform = ('mean', 'maxrs'),\n",
    "    output_transform = scale_dict,\n",
    "    shuffle = False,\n",
    "    batch_size=N_batch\n",
    ")"
   ]
  },
  {
   "cell_type": "code",
   "execution_count": 92,
   "metadata": {},
   "outputs": [],
   "source": [
    "valid_gen_BF = DataGeneratorCI(\n",
    "    data_fn = path_valid,\n",
    "    input_vars = in_vars,\n",
    "    output_vars = out_vars,\n",
    "    norm_fn = path_input_norm,\n",
    "    input_transform = ('mean', 'maxrs'),\n",
    "    output_transform = scale_dict,\n",
    "    shuffle = False,\n",
    "    batch_size=N_batch\n",
    ")"
   ]
  },
  {
   "cell_type": "code",
   "execution_count": 114,
   "metadata": {},
   "outputs": [],
   "source": [
    "train_gen_ctrl = DataGeneratorCI(\n",
    "    data_fn = path_train,\n",
    "    input_vars = in_vars_ctrl,\n",
    "    output_vars = out_vars,\n",
    "    norm_fn = path_input_norm,\n",
    "    input_transform = ('mean', 'maxrs'),\n",
    "    output_transform = scale_dict,\n",
    "    shuffle = False,\n",
    "    batch_size=N_batch\n",
    ")"
   ]
  },
  {
   "cell_type": "code",
   "execution_count": 130,
   "metadata": {},
   "outputs": [],
   "source": [
    "valid_gen_ctrl = DataGeneratorCI(\n",
    "    data_fn = path_valid,\n",
    "    input_vars = in_vars_ctrl,\n",
    "    output_vars = out_vars,\n",
    "    norm_fn = path_input_norm,\n",
    "    input_transform = ('mean', 'maxrs'),\n",
    "    output_transform = scale_dict,\n",
    "    shuffle = False,\n",
    "    batch_size=N_batch\n",
    ")"
   ]
  },
  {
   "cell_type": "code",
   "execution_count": 122,
   "metadata": {},
   "outputs": [],
   "source": [
    "train_gen_check = DataGeneratorCI(\n",
    "    data_fn = path_train,\n",
    "    input_vars = in_vars_check,\n",
    "    output_vars = out_vars,\n",
    "    norm_fn = path_input_norm,\n",
    "    input_transform = ('mean', 'maxrs'),\n",
    "    output_transform = scale_dict,\n",
    "    shuffle = False,\n",
    "    batch_size=N_batch\n",
    ")"
   ]
  },
  {
   "cell_type": "code",
   "execution_count": 129,
   "metadata": {},
   "outputs": [],
   "source": [
    "valid_gen_check = DataGeneratorCI(\n",
    "    data_fn = path_valid,\n",
    "    input_vars = in_vars_check,\n",
    "    output_vars = out_vars,\n",
    "    norm_fn = path_input_norm,\n",
    "    input_transform = ('mean', 'maxrs'),\n",
    "    output_transform = scale_dict,\n",
    "    shuffle = False,\n",
    "    batch_size=N_batch\n",
    ")"
   ]
  },
  {
   "cell_type": "code",
   "execution_count": 102,
   "metadata": {},
   "outputs": [
    {
     "data": {
      "text/plain": [
       "(8192, 159)"
      ]
     },
     "execution_count": 102,
     "metadata": {},
     "output_type": "execute_result"
    }
   ],
   "source": [
    "train_gen_BF[0][0].shape"
   ]
  },
  {
   "cell_type": "code",
   "execution_count": 103,
   "metadata": {},
   "outputs": [
    {
     "data": {
      "text/plain": [
       "(8192, 65)"
      ]
     },
     "execution_count": 103,
     "metadata": {},
     "output_type": "execute_result"
    }
   ],
   "source": [
    "train_gen_BF[0][1].shape"
   ]
  },
  {
   "cell_type": "markdown",
   "metadata": {},
   "source": [
    "# Neural networks"
   ]
  },
  {
   "cell_type": "markdown",
   "metadata": {},
   "source": [
    "## With outputs[t-dt]"
   ]
  },
  {
   "cell_type": "code",
   "execution_count": 107,
   "metadata": {},
   "outputs": [],
   "source": [
    "inp = Input(shape=(159,)) ## input after rh and tns transformation\n",
    "densout = Dense(128, activation='linear')(inp)\n",
    "densout = LeakyReLU(alpha=0.3)(densout)\n",
    "for i in range (6):\n",
    "    densout = Dense(128, activation='linear')(densout)\n",
    "    densout = LeakyReLU(alpha=0.3)(densout)\n",
    "dense_out = Dense(65, activation='linear')(densout)\n",
    "model = tf.keras.models.Model(inp, dense_out)"
   ]
  },
  {
   "cell_type": "code",
   "execution_count": 108,
   "metadata": {},
   "outputs": [],
   "source": [
    "model.compile(tf.keras.optimizers.Adam(), loss=mse)"
   ]
  },
  {
   "cell_type": "code",
   "execution_count": 109,
   "metadata": {},
   "outputs": [],
   "source": [
    "# Where to save the model\n",
    "path_HDF5 = '/DFS-L/DATA/pritchard/tbeucler/SPCAM/HDF5_DATA/'\n",
    "save_name = '2022_01_10_Test_with_outputs_t-dt'"
   ]
  },
  {
   "cell_type": "code",
   "execution_count": 110,
   "metadata": {},
   "outputs": [],
   "source": [
    "earlyStopping = EarlyStopping(monitor='val_loss', patience=10, verbose=0, mode='min')\n",
    "mcp_save_pos = ModelCheckpoint(path_HDF5+save_name+'.hdf5',save_best_only=True, monitor='val_loss', mode='min')"
   ]
  },
  {
   "cell_type": "code",
   "execution_count": 112,
   "metadata": {},
   "outputs": [
    {
     "name": "stdout",
     "output_type": "stream",
     "text": [
      "Epoch 1/20\n",
      "5759/5759 [==============================] - 704s 122ms/step - loss: 698.5109 - val_loss: 534.3392\n",
      "Epoch 2/20\n",
      "5759/5759 [==============================] - 620s 108ms/step - loss: 511.7525 - val_loss: 491.9944\n",
      "Epoch 3/20\n",
      "5759/5759 [==============================] - 359s 62ms/step - loss: 479.7723 - val_loss: 464.8938\n",
      "Epoch 4/20\n",
      "5759/5759 [==============================] - 390s 68ms/step - loss: 462.8350 - val_loss: 456.0069\n",
      "Epoch 5/20\n",
      "5759/5759 [==============================] - 381s 66ms/step - loss: 451.6360 - val_loss: 441.4028\n",
      "Epoch 6/20\n",
      "5759/5759 [==============================] - 384s 67ms/step - loss: 443.0424 - val_loss: 435.3585\n",
      "Epoch 7/20\n",
      "5759/5759 [==============================] - 418s 73ms/step - loss: 436.4950 - val_loss: 439.3909\n",
      "Epoch 8/20\n",
      "5759/5759 [==============================] - 365s 63ms/step - loss: 431.7736 - val_loss: 433.2342\n",
      "Epoch 9/20\n",
      "5759/5759 [==============================] - 377s 65ms/step - loss: 427.6234 - val_loss: 422.8021\n",
      "Epoch 10/20\n",
      "5759/5759 [==============================] - 355s 62ms/step - loss: 424.4536 - val_loss: 420.5242\n",
      "Epoch 11/20\n",
      "5759/5759 [==============================] - 373s 65ms/step - loss: 421.2624 - val_loss: 415.3706\n",
      "Epoch 12/20\n",
      "5759/5759 [==============================] - 390s 68ms/step - loss: 418.5283 - val_loss: 417.3968\n",
      "Epoch 13/20\n",
      "5759/5759 [==============================] - 390s 68ms/step - loss: 416.2800 - val_loss: 415.1545\n",
      "Epoch 14/20\n",
      "5759/5759 [==============================] - 394s 68ms/step - loss: 414.0647 - val_loss: 420.1360\n",
      "Epoch 15/20\n",
      "5759/5759 [==============================] - 385s 67ms/step - loss: 412.0243 - val_loss: 412.1226\n",
      "Epoch 16/20\n",
      "5759/5759 [==============================] - 375s 65ms/step - loss: 410.3326 - val_loss: 408.3540\n",
      "Epoch 17/20\n",
      "5759/5759 [==============================] - 411s 71ms/step - loss: 409.0123 - val_loss: 407.1509\n",
      "Epoch 18/20\n",
      "5759/5759 [==============================] - 379s 66ms/step - loss: 407.5632 - val_loss: 412.3581\n",
      "Epoch 19/20\n",
      "5759/5759 [==============================] - 373s 65ms/step - loss: 406.2172 - val_loss: 406.6588\n",
      "Epoch 20/20\n",
      "5759/5759 [==============================] - 344s 60ms/step - loss: 405.0432 - val_loss: 400.6283\n"
     ]
    },
    {
     "data": {
      "text/plain": [
       "<tensorflow.python.keras.callbacks.History at 0x7fa52c18e828>"
      ]
     },
     "execution_count": 112,
     "metadata": {},
     "output_type": "execute_result"
    }
   ],
   "source": [
    "Nep = 20\n",
    "model.fit_generator(train_gen_BF, epochs=Nep, validation_data=valid_gen_BF,\\\n",
    "                    callbacks=[earlyStopping, mcp_save_pos])"
   ]
  },
  {
   "cell_type": "markdown",
   "metadata": {},
   "source": [
    "## Without outputs [t-dt] (ctrl)"
   ]
  },
  {
   "cell_type": "code",
   "execution_count": 116,
   "metadata": {},
   "outputs": [],
   "source": [
    "inp = Input(shape=(94,)) ## input after rh and tns transformation\n",
    "densout = Dense(128, activation='linear')(inp)\n",
    "densout = LeakyReLU(alpha=0.3)(densout)\n",
    "for i in range (6):\n",
    "    densout = Dense(128, activation='linear')(densout)\n",
    "    densout = LeakyReLU(alpha=0.3)(densout)\n",
    "dense_out = Dense(65, activation='linear')(densout)\n",
    "model2 = tf.keras.models.Model(inp, dense_out)"
   ]
  },
  {
   "cell_type": "code",
   "execution_count": 117,
   "metadata": {},
   "outputs": [],
   "source": [
    "model2.compile(tf.keras.optimizers.Adam(), loss=mse)"
   ]
  },
  {
   "cell_type": "code",
   "execution_count": 118,
   "metadata": {},
   "outputs": [],
   "source": [
    "# Where to save the model\n",
    "path_HDF5 = '/DFS-L/DATA/pritchard/tbeucler/SPCAM/HDF5_DATA/'\n",
    "save_name = '2022_01_10_Test_ctrl'"
   ]
  },
  {
   "cell_type": "code",
   "execution_count": 119,
   "metadata": {},
   "outputs": [],
   "source": [
    "earlyStopping = EarlyStopping(monitor='val_loss', patience=10, verbose=0, mode='min')\n",
    "mcp_save_pos = ModelCheckpoint(path_HDF5+save_name+'.hdf5',save_best_only=True, monitor='val_loss', mode='min')"
   ]
  },
  {
   "cell_type": "code",
   "execution_count": 120,
   "metadata": {},
   "outputs": [
    {
     "name": "stdout",
     "output_type": "stream",
     "text": [
      "Epoch 1/20\n",
      "5759/5759 [==============================] - 330s 57ms/step - loss: 1040.4823 - val_loss: 850.4765\n",
      "Epoch 2/20\n",
      "5759/5759 [==============================] - 349s 61ms/step - loss: 801.4659 - val_loss: 784.1218\n",
      "Epoch 3/20\n",
      "5759/5759 [==============================] - 319s 55ms/step - loss: 761.4127 - val_loss: 746.3516\n",
      "Epoch 4/20\n",
      "5759/5759 [==============================] - 351s 61ms/step - loss: 741.0682 - val_loss: 729.3660\n",
      "Epoch 5/20\n",
      "5759/5759 [==============================] - 396s 69ms/step - loss: 725.7501 - val_loss: 710.7130\n",
      "Epoch 6/20\n",
      "5759/5759 [==============================] - 335s 58ms/step - loss: 712.2777 - val_loss: 704.9843\n",
      "Epoch 7/20\n",
      "5759/5759 [==============================] - 346s 60ms/step - loss: 701.4451 - val_loss: 691.3455\n",
      "Epoch 8/20\n",
      "5759/5759 [==============================] - 355s 62ms/step - loss: 693.2357 - val_loss: 688.6079\n",
      "Epoch 9/20\n",
      "5759/5759 [==============================] - 361s 63ms/step - loss: 686.7506 - val_loss: 684.4446\n",
      "Epoch 10/20\n",
      "5759/5759 [==============================] - 354s 61ms/step - loss: 680.7070 - val_loss: 683.3417\n",
      "Epoch 11/20\n",
      "5759/5759 [==============================] - 345s 60ms/step - loss: 675.8652 - val_loss: 685.6529\n",
      "Epoch 12/20\n",
      "5759/5759 [==============================] - 319s 55ms/step - loss: 671.5466 - val_loss: 674.4385\n",
      "Epoch 13/20\n",
      "5759/5759 [==============================] - 338s 59ms/step - loss: 667.0903 - val_loss: 665.2335\n",
      "Epoch 14/20\n",
      "5759/5759 [==============================] - 371s 64ms/step - loss: 664.1334 - val_loss: 669.6749\n",
      "Epoch 15/20\n",
      "5759/5759 [==============================] - 375s 65ms/step - loss: 660.9533 - val_loss: 662.7975\n",
      "Epoch 16/20\n",
      "5759/5759 [==============================] - 312s 54ms/step - loss: 658.0558 - val_loss: 670.8854\n",
      "Epoch 17/20\n",
      "5759/5759 [==============================] - 294s 51ms/step - loss: 655.9577 - val_loss: 656.8647\n",
      "Epoch 18/20\n",
      "5759/5759 [==============================] - 330s 57ms/step - loss: 653.5611 - val_loss: 657.3830\n",
      "Epoch 19/20\n",
      "5759/5759 [==============================] - 327s 57ms/step - loss: 651.6345 - val_loss: 654.4085\n",
      "Epoch 20/20\n",
      "5759/5759 [==============================] - 350s 61ms/step - loss: 650.1506 - val_loss: 648.1853\n"
     ]
    },
    {
     "data": {
      "text/plain": [
       "<tensorflow.python.keras.callbacks.History at 0x7fa52c07d2b0>"
      ]
     },
     "execution_count": 120,
     "metadata": {},
     "output_type": "execute_result"
    }
   ],
   "source": [
    "Nep = 20\n",
    "model2.fit_generator(train_gen_ctrl, epochs=Nep, validation_data=valid_gen_ctrl,\\\n",
    "                    callbacks=[earlyStopping, mcp_save_pos])"
   ]
  },
  {
   "cell_type": "markdown",
   "metadata": {},
   "source": [
    "## With outputs [t] (safety check that it performs better than with outputs [t-dt], because the NN has the answer in that case)"
   ]
  },
  {
   "cell_type": "code",
   "execution_count": 124,
   "metadata": {},
   "outputs": [],
   "source": [
    "inp = Input(shape=(159,)) ## input after rh and tns transformation\n",
    "densout = Dense(128, activation='linear')(inp)\n",
    "densout = LeakyReLU(alpha=0.3)(densout)\n",
    "for i in range (6):\n",
    "    densout = Dense(128, activation='linear')(densout)\n",
    "    densout = LeakyReLU(alpha=0.3)(densout)\n",
    "dense_out = Dense(65, activation='linear')(densout)\n",
    "model3 = tf.keras.models.Model(inp, dense_out)"
   ]
  },
  {
   "cell_type": "code",
   "execution_count": 125,
   "metadata": {},
   "outputs": [],
   "source": [
    "model3.compile(tf.keras.optimizers.Adam(), loss=mse)"
   ]
  },
  {
   "cell_type": "code",
   "execution_count": 126,
   "metadata": {},
   "outputs": [],
   "source": [
    "# Where to save the model\n",
    "path_HDF5 = '/DFS-L/DATA/pritchard/tbeucler/SPCAM/HDF5_DATA/'\n",
    "save_name = '2022_01_10_Test_check_with_answer'"
   ]
  },
  {
   "cell_type": "code",
   "execution_count": 127,
   "metadata": {},
   "outputs": [],
   "source": [
    "earlyStopping = EarlyStopping(monitor='val_loss', patience=10, verbose=0, mode='min')\n",
    "mcp_save_pos = ModelCheckpoint(path_HDF5+save_name+'.hdf5',save_best_only=True, monitor='val_loss', mode='min')"
   ]
  },
  {
   "cell_type": "code",
   "execution_count": 131,
   "metadata": {},
   "outputs": [
    {
     "name": "stdout",
     "output_type": "stream",
     "text": [
      "Epoch 1/20\n",
      "5759/5759 [==============================] - 676s 117ms/step - loss: 360.5617 - val_loss: 86.2019\n",
      "Epoch 2/20\n",
      "5759/5759 [==============================] - 617s 107ms/step - loss: 60.8476 - val_loss: 42.0848\n",
      "Epoch 3/20\n",
      "5759/5759 [==============================] - 474s 82ms/step - loss: 31.8291 - val_loss: 22.5468\n",
      "Epoch 4/20\n",
      "5759/5759 [==============================] - 465s 81ms/step - loss: 18.4504 - val_loss: 14.5692\n",
      "Epoch 5/20\n",
      "5759/5759 [==============================] - 472s 82ms/step - loss: 13.7249 - val_loss: 13.5438\n",
      "Epoch 6/20\n",
      "5758/5759 [============================>.] - ETA: 0s - loss: 11.2512"
     ]
    },
    {
     "name": "stderr",
     "output_type": "stream",
     "text": [
      "ERROR:root:Internal Python error in the inspect module.\n",
      "Below is the traceback from this internal error.\n",
      "\n"
     ]
    },
    {
     "name": "stdout",
     "output_type": "stream",
     "text": [
      "Traceback (most recent call last):\n",
      "  File \"/DFS-L/DATA/pritchard/tbeucler/Miniconda3_2021_04_12/miniconda3/envs/CbrainCustomLayer/lib/python3.6/site-packages/IPython/core/interactiveshell.py\", line 3331, in run_code\n",
      "    exec(code_obj, self.user_global_ns, self.user_ns)\n",
      "  File \"<ipython-input-131-aced3ca191ba>\", line 3, in <module>\n",
      "    callbacks=[earlyStopping, mcp_save_pos])\n",
      "  File \"/DFS-L/DATA/pritchard/tbeucler/Miniconda3_2021_04_12/miniconda3/envs/CbrainCustomLayer/lib/python3.6/site-packages/tensorflow_core/python/keras/engine/training.py\", line 1297, in fit_generator\n",
      "    steps_name='steps_per_epoch')\n",
      "  File \"/DFS-L/DATA/pritchard/tbeucler/Miniconda3_2021_04_12/miniconda3/envs/CbrainCustomLayer/lib/python3.6/site-packages/tensorflow_core/python/keras/engine/training_generator.py\", line 323, in model_iteration\n",
      "    steps_name='validation_steps')\n",
      "  File \"/DFS-L/DATA/pritchard/tbeucler/Miniconda3_2021_04_12/miniconda3/envs/CbrainCustomLayer/lib/python3.6/site-packages/tensorflow_core/python/keras/engine/training_generator.py\", line 265, in model_iteration\n",
      "    batch_outs = batch_function(*batch_data)\n",
      "  File \"/DFS-L/DATA/pritchard/tbeucler/Miniconda3_2021_04_12/miniconda3/envs/CbrainCustomLayer/lib/python3.6/site-packages/tensorflow_core/python/keras/engine/training.py\", line 1070, in test_on_batch\n",
      "    reset_metrics=reset_metrics)\n",
      "  File \"/DFS-L/DATA/pritchard/tbeucler/Miniconda3_2021_04_12/miniconda3/envs/CbrainCustomLayer/lib/python3.6/site-packages/tensorflow_core/python/keras/engine/training_v2_utils.py\", line 327, in test_on_batch\n",
      "    output_loss_metrics=model._output_loss_metrics)\n",
      "  File \"/DFS-L/DATA/pritchard/tbeucler/Miniconda3_2021_04_12/miniconda3/envs/CbrainCustomLayer/lib/python3.6/site-packages/tensorflow_core/python/keras/engine/training_eager.py\", line 354, in test_on_batch\n",
      "    output_loss_metrics=output_loss_metrics))\n",
      "  File \"/DFS-L/DATA/pritchard/tbeucler/Miniconda3_2021_04_12/miniconda3/envs/CbrainCustomLayer/lib/python3.6/site-packages/tensorflow_core/python/keras/engine/training_eager.py\", line 170, in _model_loss\n",
      "    reduction=losses_utils.ReductionV2.NONE)\n",
      "  File \"/DFS-L/DATA/pritchard/tbeucler/Miniconda3_2021_04_12/miniconda3/envs/CbrainCustomLayer/lib/python3.6/site-packages/tensorflow_core/python/keras/utils/losses_utils.py\", line 107, in compute_weighted_loss\n",
      "    losses, sample_weight)\n",
      "  File \"/DFS-L/DATA/pritchard/tbeucler/Miniconda3_2021_04_12/miniconda3/envs/CbrainCustomLayer/lib/python3.6/site-packages/tensorflow_core/python/ops/losses/util.py\", line 148, in scale_losses_by_sample_weight\n",
      "    sample_weight = weights_broadcast_ops.broadcast_weights(sample_weight, losses)\n",
      "  File \"/DFS-L/DATA/pritchard/tbeucler/Miniconda3_2021_04_12/miniconda3/envs/CbrainCustomLayer/lib/python3.6/site-packages/tensorflow_core/python/ops/weights_broadcast_ops.py\", line 169, in broadcast_weights\n",
      "    weights, array_ops.ones_like(values), name=scope)\n",
      "  File \"/DFS-L/DATA/pritchard/tbeucler/Miniconda3_2021_04_12/miniconda3/envs/CbrainCustomLayer/lib/python3.6/site-packages/tensorflow_core/python/util/dispatch.py\", line 180, in wrapper\n",
      "    return target(*args, **kwargs)\n",
      "  File \"/DFS-L/DATA/pritchard/tbeucler/Miniconda3_2021_04_12/miniconda3/envs/CbrainCustomLayer/lib/python3.6/site-packages/tensorflow_core/python/ops/array_ops.py\", line 2494, in ones_like\n",
      "    return ones_like_impl(tensor, dtype, name, optimize)\n",
      "  File \"/DFS-L/DATA/pritchard/tbeucler/Miniconda3_2021_04_12/miniconda3/envs/CbrainCustomLayer/lib/python3.6/site-packages/tensorflow_core/python/ops/array_ops.py\", line 2536, in ones_like_impl\n",
      "    ret = ones(ones_shape, dtype=dtype, name=name)\n",
      "  File \"/DFS-L/DATA/pritchard/tbeucler/Miniconda3_2021_04_12/miniconda3/envs/CbrainCustomLayer/lib/python3.6/site-packages/tensorflow_core/python/ops/array_ops.py\", line 2583, in ones\n",
      "    output = fill(shape, constant(one, dtype=dtype), name=name)\n",
      "  File \"/DFS-L/DATA/pritchard/tbeucler/Miniconda3_2021_04_12/miniconda3/envs/CbrainCustomLayer/lib/python3.6/site-packages/tensorflow_core/python/ops/array_ops.py\", line 171, in fill\n",
      "    result = gen_array_ops.fill(dims, value, name=name)\n",
      "  File \"/DFS-L/DATA/pritchard/tbeucler/Miniconda3_2021_04_12/miniconda3/envs/CbrainCustomLayer/lib/python3.6/site-packages/tensorflow_core/python/ops/gen_array_ops.py\", line 3586, in fill\n",
      "    name, _ctx._post_execution_callbacks, dims, value)\n",
      "KeyboardInterrupt\n",
      "\n",
      "During handling of the above exception, another exception occurred:\n",
      "\n",
      "Traceback (most recent call last):\n",
      "  File \"/DFS-L/DATA/pritchard/tbeucler/Miniconda3_2021_04_12/miniconda3/envs/CbrainCustomLayer/lib/python3.6/site-packages/IPython/core/interactiveshell.py\", line 2044, in showtraceback\n",
      "    stb = value._render_traceback_()\n",
      "AttributeError: 'KeyboardInterrupt' object has no attribute '_render_traceback_'\n",
      "\n",
      "During handling of the above exception, another exception occurred:\n",
      "\n",
      "Traceback (most recent call last):\n",
      "  File \"/DFS-L/DATA/pritchard/tbeucler/Miniconda3_2021_04_12/miniconda3/envs/CbrainCustomLayer/lib/python3.6/site-packages/IPython/core/ultratb.py\", line 1151, in get_records\n",
      "    return _fixed_getinnerframes(etb, number_of_lines_of_context, tb_offset)\n",
      "  File \"/DFS-L/DATA/pritchard/tbeucler/Miniconda3_2021_04_12/miniconda3/envs/CbrainCustomLayer/lib/python3.6/site-packages/IPython/core/ultratb.py\", line 319, in wrapped\n",
      "    return f(*args, **kwargs)\n",
      "  File \"/DFS-L/DATA/pritchard/tbeucler/Miniconda3_2021_04_12/miniconda3/envs/CbrainCustomLayer/lib/python3.6/site-packages/IPython/core/ultratb.py\", line 353, in _fixed_getinnerframes\n",
      "    records = fix_frame_records_filenames(inspect.getinnerframes(etb, context))\n",
      "  File \"/DFS-L/DATA/pritchard/tbeucler/Miniconda3_2021_04_12/miniconda3/envs/CbrainCustomLayer/lib/python3.6/inspect.py\", line 1490, in getinnerframes\n",
      "    frameinfo = (tb.tb_frame,) + getframeinfo(tb, context)\n",
      "  File \"/DFS-L/DATA/pritchard/tbeucler/Miniconda3_2021_04_12/miniconda3/envs/CbrainCustomLayer/lib/python3.6/inspect.py\", line 1452, in getframeinfo\n",
      "    lines, lnum = findsource(frame)\n",
      "  File \"/DFS-L/DATA/pritchard/tbeucler/Miniconda3_2021_04_12/miniconda3/envs/CbrainCustomLayer/lib/python3.6/site-packages/IPython/core/ultratb.py\", line 185, in findsource\n",
      "    lines = linecache.getlines(file, globals_dict)\n",
      "  File \"/DFS-L/DATA/pritchard/tbeucler/Miniconda3_2021_04_12/miniconda3/envs/CbrainCustomLayer/lib/python3.6/linecache.py\", line 47, in getlines\n",
      "    return updatecache(filename, module_globals)\n",
      "  File \"/DFS-L/DATA/pritchard/tbeucler/Miniconda3_2021_04_12/miniconda3/envs/CbrainCustomLayer/lib/python3.6/linecache.py\", line 136, in updatecache\n",
      "    with tokenize.open(fullname) as fp:\n",
      "  File \"/DFS-L/DATA/pritchard/tbeucler/Miniconda3_2021_04_12/miniconda3/envs/CbrainCustomLayer/lib/python3.6/tokenize.py\", line 454, in open\n",
      "    encoding, lines = detect_encoding(buffer.readline)\n",
      "  File \"/DFS-L/DATA/pritchard/tbeucler/Miniconda3_2021_04_12/miniconda3/envs/CbrainCustomLayer/lib/python3.6/tokenize.py\", line 423, in detect_encoding\n",
      "    first = read_or_stop()\n",
      "  File \"/DFS-L/DATA/pritchard/tbeucler/Miniconda3_2021_04_12/miniconda3/envs/CbrainCustomLayer/lib/python3.6/tokenize.py\", line 381, in read_or_stop\n",
      "    return readline()\n",
      "KeyboardInterrupt\n"
     ]
    },
    {
     "ename": "KeyboardInterrupt",
     "evalue": "",
     "output_type": "error",
     "traceback": [
      "\u001b[0;31m---------------------------------------------------------------------------\u001b[0m"
     ]
    }
   ],
   "source": [
    "Nep = 20\n",
    "model3.fit_generator(train_gen_check, epochs=Nep, validation_data=valid_gen_check,\\\n",
    "                    callbacks=[earlyStopping, mcp_save_pos])"
   ]
  },
  {
   "cell_type": "markdown",
   "metadata": {},
   "source": [
    "Safety check worked"
   ]
  },
  {
   "cell_type": "code",
   "execution_count": null,
   "metadata": {},
   "outputs": [],
   "source": []
  }
 ],
 "metadata": {
  "kernelspec": {
   "display_name": "Python 3",
   "language": "python",
   "name": "python3"
  },
  "language_info": {
   "codemirror_mode": {
    "name": "ipython",
    "version": 3
   },
   "file_extension": ".py",
   "mimetype": "text/x-python",
   "name": "python",
   "nbconvert_exporter": "python",
   "pygments_lexer": "ipython3",
   "version": "3.6.10"
  },
  "toc": {
   "base_numbering": 1,
   "nav_menu": {},
   "number_sections": true,
   "sideBar": true,
   "skip_h1_title": false,
   "title_cell": "Table of Contents",
   "title_sidebar": "Contents",
   "toc_cell": false,
   "toc_position": {
    "height": "calc(100% - 180px)",
    "left": "10px",
    "top": "150px",
    "width": "384px"
   },
   "toc_section_display": true,
   "toc_window_display": true
  }
 },
 "nbformat": 4,
 "nbformat_minor": 4
}
