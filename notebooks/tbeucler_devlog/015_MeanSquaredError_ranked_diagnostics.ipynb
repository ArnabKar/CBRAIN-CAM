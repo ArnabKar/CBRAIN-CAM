{
 "cells": [
  {
   "cell_type": "markdown",
   "metadata": {},
   "source": [
    "tgb - 5/28/2019 - The goal of this notebook is to develop MSE-ranked diagnostics in the hope to identify climate conditions in which our network performs poorly. What we have so far is the average error for each variable in the md.stats object. The goal is to do the opposite: The climate variable as a function of the error."
   ]
  },
  {
   "cell_type": "markdown",
   "metadata": {},
   "source": [
    "# 1) Loading CBRAIN"
   ]
  },
  {
   "cell_type": "code",
   "execution_count": 1,
   "metadata": {},
   "outputs": [
    {
     "name": "stdout",
     "output_type": "stream",
     "text": [
      "/filer/z-sv-pool12c/t/Tom.Beucler/SPCAM/CBRAIN-CAM\n"
     ]
    }
   ],
   "source": [
    "from cbrain.imports import *\n",
    "from cbrain.data_generator import *\n",
    "from cbrain.cam_constants import *\n",
    "from cbrain.losses import *\n",
    "from cbrain.utils import limit_mem\n",
    "from cbrain.layers import *\n",
    "from cbrain.model_diagnostics import *\n",
    "import tensorflow as tf\n",
    "import tensorflow.math as tfm\n",
    "from tensorflow.keras.layers import *\n",
    "from tensorflow.keras.models import *\n",
    "import xarray as xr\n",
    "import numpy as np\n",
    "from cbrain.model_diagnostics import ModelDiagnostics\n",
    "from numpy import linalg as LA\n",
    "import matplotlib.pyplot as plt\n",
    "# Otherwise tensorflow will use ALL your GPU RAM for no reason\n",
    "limit_mem()\n",
    "TRAINDIR = '/local/Tom.Beucler/SPCAM_PHYS/'\n",
    "DATADIR = '/project/meteo/w2w/A6/S.Rasp/SP-CAM/fluxbypass_aqua/'\n",
    "PREFIX = '8col009_01_'\n",
    "%cd /filer/z-sv-pool12c/t/Tom.Beucler/SPCAM/CBRAIN-CAM"
   ]
  },
  {
   "cell_type": "code",
   "execution_count": 2,
   "metadata": {},
   "outputs": [],
   "source": [
    "coor = xr.open_dataset(\"/project/meteo/w2w/A6/S.Rasp/SP-CAM/fluxbypass_aqua/AndKua_aqua_SPCAM3.0_sp_fbp_f4.cam2.h1.0000-01-01-00000.nc\",\\\n",
    "                    decode_times=False)\n",
    "lat = coor.lat; lon = coor.lon;\n",
    "coor.close();"
   ]
  },
  {
   "cell_type": "code",
   "execution_count": 3,
   "metadata": {},
   "outputs": [],
   "source": [
    "config_fn = '/filer/z-sv-pool12c/t/Tom.Beucler/SPCAM/CBRAIN-CAM/pp_config/8col_rad_tbeucler_local_PostProc.yml'\n",
    "data_fn = '/local/Tom.Beucler/SPCAM_PHYS/8col009_01_valid.nc'\n",
    "dict_lay = {'SurRadLayer':SurRadLayer,'MassConsLayer':MassConsLayer,'EntConsLayer':EntConsLayer}"
   ]
  },
  {
   "cell_type": "markdown",
   "metadata": {},
   "source": [
    "# 2) Calculate mean of variables conditioned on MSE"
   ]
  },
  {
   "cell_type": "markdown",
   "metadata": {},
   "source": [
    "## 2.1) Define models"
   ]
  },
  {
   "cell_type": "markdown",
   "metadata": {},
   "source": [
    "tgb - 5/28/2019 - For now use the best performing LCnet and LACnet"
   ]
  },
  {
   "cell_type": "code",
   "execution_count": 4,
   "metadata": {},
   "outputs": [
    {
     "name": "stdout",
     "output_type": "stream",
     "text": [
      "/data/Tom.Beucler/SPCAM_PHYS/HDF5_DATA\n",
      "WARNING:tensorflow:From /home/t/Tom.Beucler/miniconda3/lib/python3.6/site-packages/tensorflow/python/ops/resource_variable_ops.py:435: colocate_with (from tensorflow.python.framework.ops) is deprecated and will be removed in a future version.\n",
      "Instructions for updating:\n",
      "Colocations handled automatically by placer.\n",
      "WARNING:tensorflow:From /home/t/Tom.Beucler/miniconda3/lib/python3.6/site-packages/tensorflow/python/ops/math_ops.py:3066: to_int32 (from tensorflow.python.ops.math_ops) is deprecated and will be removed in a future version.\n",
      "Instructions for updating:\n",
      "Use tf.cast instead.\n"
     ]
    }
   ],
   "source": [
    "NN = {}; md = {};\n",
    "%cd $TRAINDIR/HDF5_DATA\n",
    "# NNA0.01\n",
    "path = TRAINDIR+'HDF5_DATA/NNA0.01.h5'\n",
    "NN['NNA0.01'] = load_model(path,custom_objects=dict_lay)\n",
    "md['NNA0.01'] = ModelDiagnostics(NN,config_fn,data_fn)\n",
    "# NNL0.01\n",
    "path = TRAINDIR+'HDF5_DATA/NNL0.01.h5'\n",
    "NN['NNL0.01'] = load_model(path,custom_objects=dict_lay)\n",
    "md['NNL0.01'] = ModelDiagnostics(NN,config_fn,data_fn)"
   ]
  },
  {
   "cell_type": "code",
   "execution_count": 5,
   "metadata": {},
   "outputs": [],
   "source": [
    "NNa = ['NNA0.01','NNL0.01'] # LACnet and LCnet"
   ]
  },
  {
   "cell_type": "markdown",
   "metadata": {},
   "source": [
    "## 2.2) Accumulates all variables over Nt timesteps, with a focus on P-CWV"
   ]
  },
  {
   "cell_type": "code",
   "execution_count": 6,
   "metadata": {},
   "outputs": [
    {
     "name": "stdout",
     "output_type": "stream",
     "text": [
      "itime= 99 / 99\r"
     ]
    }
   ],
   "source": [
    "# User's choice\n",
    "Nt = 100\n",
    "\n",
    "P_CONV = 1e3*24*3600 # Conversion from m/s to mm/day\n",
    "\n",
    "# Initialization\n",
    "CWVtot = np.zeros((len(coor.lat),len(coor.lon),1))\n",
    "QVtot = np.zeros((len(coor.lat),len(coor.lon),len(coor.lev),1))\n",
    "Ttot = np.copy(QVtot)\n",
    "CSHtot = np.copy(CWVtot)\n",
    "xtot = np.zeros((len(coor.lat),len(coor.lon),304,1))\n",
    "PRECtot = np.zeros((len(coor.lat),len(coor.lon),1))\n",
    "\n",
    "PREC_NN = {}; MSE_NN = {};\n",
    "for iNN,NNname in enumerate(NNa):\n",
    "    PREC_NN[NNname] = np.zeros((len(coor.lat),len(coor.lon),1))\n",
    "    MSE_NN[NNname] = np.copy(PREC_NN[NNname])\n",
    "\n",
    "for itime in range(Nt):\n",
    "    print('itime=',itime,'/',Nt-1,end=\"\\r\")\n",
    "    m = md[NNname] # Reference model diagnostic object\n",
    "    # 1) Predict total precipitation on batch (liquid equivalent in mm/day)\n",
    "    X, truth = m.valid_gen[itime]\n",
    "    PRECIP = (np.sum(truth.values[:,-4:-2],axis=1))*P_CONV/(L_V*RHO_L)\n",
    "    # 2) Save mean input\n",
    "    xgeo = m.reshape_ngeo(m.valid_gen.input_transform.inverse_transform(X).values)\n",
    "    xtot = np.concatenate((xtot,np.expand_dims(xgeo[:,:,:],axis=3)),axis=3)\n",
    "    # 3) Water vapor\n",
    "    QV = m.valid_gen.input_transform.inverse_transform(X)[:,m.get_input_var_idx('QBP')]\n",
    "    QVgeo = m.reshape_ngeo(QV.values)\n",
    "    QVtot = np.concatenate((QVtot,np.expand_dims(QVgeo[:,:,:],axis=3)),axis=3)\n",
    "    CWVgeo = m.reshape_ngeo(np.expand_dims(np.sum(m.dP(itime)*QV/G,axis=1),axis=1))\n",
    "    CWVtot = np.concatenate((CWVtot,CWVgeo[:,:,:][:,:,:]),axis=2)\n",
    "    # 4) Precipitation\n",
    "    PRECgeo = m.reshape_ngeo(PRECIP)\n",
    "    PRECtot = np.concatenate((PRECtot,PRECgeo[:,:,:][:,:,:]),axis=2)\n",
    "    # 5) Temperature\n",
    "    T = m.valid_gen.input_transform.inverse_transform(X)[:,m.get_input_var_idx('TBP')]\n",
    "    Tgeo = m.reshape_ngeo(T.values)[:,:,:]\n",
    "    Ttot = np.concatenate((Ttot,np.expand_dims(Tgeo[:,:,:],axis=3)),axis=3)\n",
    "    CSHgeo = m.reshape_ngeo(np.expand_dims(np.sum(m.dP(itime)*C_P*T/(L_V*G),axis=1),axis=1))\n",
    "    CSHtot = np.concatenate((CSHtot,CSHgeo[:,:,:][:,:,:]),axis=2)\n",
    "    # 5) Precipitation from NN prediction\n",
    "    for iNN,NNname in enumerate(NNa):\n",
    "        pred = md[NNname].model[NNname].predict_on_batch(X)\n",
    "        PRECIP_NN = (np.sum(pred[:,-4:-2],axis=1))*P_CONV/(L_V*RHO_L)\n",
    "        PREC_NN[NNname] = np.concatenate((\n",
    "            PREC_NN[NNname],\n",
    "            md[NNname].reshape_ngeo(PRECIP_NN)[:,:,:][:,:,:]),\n",
    "            axis=2)\n",
    "        MEANSE_NN = np.sum((pred-truth.values)**2,axis=1)/pred.shape[1]\n",
    "        MSE_NN[NNname] = np.concatenate((\n",
    "            MSE_NN[NNname],\n",
    "            md[NNname].reshape_ngeo(MEANSE_NN)[:,:,:][:,:,:]),\n",
    "            axis=2)\n",
    "\n",
    "# Remove initial zero\n",
    "QVtot = QVtot[:,:,:,1:]\n",
    "Ttot = Ttot[:,:,:,1:]\n",
    "CWVtot = CWVtot[:,:,1:]\n",
    "CSHtot = CSHtot[:,:,1:]\n",
    "PRECtot = PRECtot[:,:,1:]\n",
    "xtot = xtot[:,:,:,1:]\n",
    "for iNN,NNname in enumerate(NNa):\n",
    "    PREC_NN[NNname] = PREC_NN[NNname][:,:,1:]\n",
    "    MSE_NN[NNname] = MSE_NN[NNname][:,:,1:]"
   ]
  },
  {
   "cell_type": "code",
   "execution_count": 7,
   "metadata": {},
   "outputs": [
    {
     "name": "stdout",
     "output_type": "stream",
     "text": [
      "ibin= 99 / 99  & edge= 70.094949494949595\r"
     ]
    }
   ],
   "source": [
    "# First use column water vapor as binning variable to test\n",
    "# Histogram parameters\n",
    "Nbin = 100\n",
    "CWVmin = 20\n",
    "CWVmax = 70\n",
    "# Initialization\n",
    "CWVm = np.zeros((Nbin-1,1))\n",
    "CSHm = np.copy(CWVm)\n",
    "Pm = np.copy(CWVm)\n",
    "\n",
    "PNNm = {}; MSENNm = {};\n",
    "for iNN,NNname in enumerate(NNa):\n",
    "    PNNm[NNname] = np.copy(Pm)\n",
    "    MSENNm[NNname] = np.copy(Pm)\n",
    "\n",
    "for ibin,edge in enumerate(np.linspace(CWVmin,CWVmax,num=Nbin)):\n",
    "    print('ibin=',ibin,'/',Nbin-1,' & edge=',edge,end=\"\\r\")\n",
    "    if ibin>0:\n",
    "        CWVm[ibin-1] = np.average(CWVtot,weights=(CWVtot>=edge_left)*(CWVtot<edge))\n",
    "        Pm[ibin-1] = np.average(PRECtot,weights=(CWVtot>=edge_left)*(CWVtot<edge))\n",
    "        CSHm[ibin-1] = np.average(CSHtot,weights=(CWVtot>=edge_left)*(CWVtot<edge))\n",
    "        for iNN,NNname in enumerate(NNa):\n",
    "            PNNm[NNname][ibin-1] = np.average(\n",
    "                PREC_NN[NNname],\n",
    "                weights=(CWVtot>=edge_left)*(CWVtot<edge))\n",
    "            MSENNm[NNname][ibin-1] = np.average(\n",
    "                MSE_NN[NNname],\n",
    "                weights=(CWVtot>=edge_left)*(CWVtot<edge))\n",
    "        \n",
    "    edge_left = edge"
   ]
  },
  {
   "cell_type": "code",
   "execution_count": 8,
   "metadata": {},
   "outputs": [
    {
     "data": {
      "text/plain": [
       "<matplotlib.legend.Legend at 0x148c98ac5a90>"
      ]
     },
     "execution_count": 8,
     "metadata": {},
     "output_type": "execute_result"
    },
    {
     "data": {
      "image/png": "[encoded data removed]",
      "text/plain": [
       "<Figure size 1200x400 with 1 Axes>"
      ]
     },
     "metadata": {},
     "output_type": "display_data"
    }
   ],
   "source": [
    "import matplotlib.pyplot as plt\n",
    "plt.figure(num=None, figsize=(15,5), dpi=80, facecolor='w', edgecolor='k')\n",
    "for iNN,NNname in enumerate(NNa):\n",
    "    plt.scatter(CWVm,MSENNm[NNname],label=NNname)\n",
    "plt.legend()"
   ]
  },
  {
   "cell_type": "markdown",
   "metadata": {},
   "source": [
    "tgb - Then flip it and use the MSE as the binning variable"
   ]
  },
  {
   "cell_type": "code",
   "execution_count": 9,
   "metadata": {},
   "outputs": [
    {
     "name": "stdout",
     "output_type": "stream",
     "text": [
      "ibin= 99 / 99  & edge= 2000.0979797979797\r"
     ]
    }
   ],
   "source": [
    "# Model choice\n",
    "MSEtot = MSE_NN['NNA0.01']\n",
    "# Histogram parameters\n",
    "Nbin = 100\n",
    "MSEmin = 0\n",
    "MSEmax = 2e3\n",
    "# Initialization\n",
    "CWVm = np.zeros((Nbin-1,1))\n",
    "CSHm = np.copy(CWVm)\n",
    "Pm = np.copy(CWVm)\n",
    "MSEm = np.copy(CWVm)\n",
    "lattot = np.expand_dims(np.expand_dims(lat.values,axis=1),axis=2)\n",
    "for i in range(2):\n",
    "    lattot = np.repeat(lattot,CWVtot.shape[i+1],axis=i+1)\n",
    "latm = np.copy(CWVm)\n",
    "\n",
    "for ibin,edge in enumerate(np.linspace(MSEmin,MSEmax,num=Nbin)):\n",
    "    print('ibin=',ibin,'/',Nbin-1,' & edge=',edge,end=\"\\r\")\n",
    "    if ibin>0:\n",
    "        CWVm[ibin-1] = np.average(CWVtot,weights=(MSEtot>=edge_left)*(MSEtot<edge))\n",
    "        Pm[ibin-1] = np.average(PRECtot,weights=(MSEtot>=edge_left)*(MSEtot<edge))\n",
    "        CSHm[ibin-1] = np.average(CSHtot,weights=(MSEtot>=edge_left)*(MSEtot<edge))\n",
    "        MSEm[ibin-1] = np.average(MSEtot,weights=(MSEtot>=edge_left)*(MSEtot<edge))\n",
    "        latm[ibin-1] = np.average(lattot,weights=(MSEtot>=edge_left)*(MSEtot<edge))\n",
    "        \n",
    "    edge_left = edge"
   ]
  },
  {
   "cell_type": "code",
   "execution_count": 10,
   "metadata": {},
   "outputs": [
    {
     "data": {
      "text/plain": [
       "<matplotlib.collections.PathCollection at 0x148c989f8400>"
      ]
     },
     "execution_count": 10,
     "metadata": {},
     "output_type": "execute_result"
    },
    {
     "data": {
      "image/png": "[encoded data removed]",
      "text/plain": [
       "<Figure size 1200x400 with 1 Axes>"
      ]
     },
     "metadata": {},
     "output_type": "display_data"
    }
   ],
   "source": [
    "import matplotlib.pyplot as plt\n",
    "plt.figure(num=None, figsize=(15,5), dpi=80, facecolor='w', edgecolor='k')\n",
    "plt.scatter(MSEm,Pm)"
   ]
  },
  {
   "cell_type": "code",
   "execution_count": 12,
   "metadata": {},
   "outputs": [
    {
     "data": {
      "text/plain": [
       "<matplotlib.collections.PathCollection at 0x148c98937c18>"
      ]
     },
     "execution_count": 12,
     "metadata": {},
     "output_type": "execute_result"
    },
    {
     "data": {
      "image/png": "[encoded data removed]",
      "text/plain": [
       "<Figure size 1200x400 with 1 Axes>"
      ]
     },
     "metadata": {},
     "output_type": "display_data"
    }
   ],
   "source": [
    "plt.figure(num=None, figsize=(15,5), dpi=80, facecolor='w', edgecolor='k')\n",
    "plt.scatter(MSEm,latm)"
   ]
  },
  {
   "cell_type": "code",
   "execution_count": 11,
   "metadata": {},
   "outputs": [
    {
     "data": {
      "text/plain": [
       "<matplotlib.collections.PathCollection at 0x148c9895bc18>"
      ]
     },
     "execution_count": 11,
     "metadata": {},
     "output_type": "execute_result"
    },
    {
     "data": {
      "image/png": "[encoded data removed]",
      "text/plain": [
       "<Figure size 1200x400 with 1 Axes>"
      ]
     },
     "metadata": {},
     "output_type": "display_data"
    }
   ],
   "source": [
    "plt.figure(num=None, figsize=(15,5), dpi=80, facecolor='w', edgecolor='k')\n",
    "plt.scatter(MSEm,CWVm)"
   ]
  },
  {
   "cell_type": "code",
   "execution_count": 13,
   "metadata": {},
   "outputs": [
    {
     "data": {
      "text/plain": [
       "<matplotlib.collections.PathCollection at 0x148c988a3a20>"
      ]
     },
     "execution_count": 13,
     "metadata": {},
     "output_type": "execute_result"
    },
    {
     "data": {
      "image/png": "[encoded data removed]",
      "text/plain": [
       "<Figure size 1200x400 with 1 Axes>"
      ]
     },
     "metadata": {},
     "output_type": "display_data"
    }
   ],
   "source": [
    "plt.figure(num=None, figsize=(15,5), dpi=80, facecolor='w', edgecolor='k')\n",
    "plt.scatter(MSEm,CSHm)"
   ]
  },
  {
   "cell_type": "code",
   "execution_count": 81,
   "metadata": {},
   "outputs": [],
   "source": [
    "lattot = np.expand_dims(np.expand_dims(lat.values,axis=1),axis=2)"
   ]
  },
  {
   "cell_type": "code",
   "execution_count": 82,
   "metadata": {},
   "outputs": [
    {
     "data": {
      "text/plain": [
       "(64, 1, 1)"
      ]
     },
     "execution_count": 82,
     "metadata": {},
     "output_type": "execute_result"
    }
   ],
   "source": [
    "lattot.shape"
   ]
  },
  {
   "cell_type": "code",
   "execution_count": 84,
   "metadata": {},
   "outputs": [],
   "source": [
    "lattot = np.repeat(lattot,CWVtot.shape[1],axis=1)"
   ]
  },
  {
   "cell_type": "code",
   "execution_count": 89,
   "metadata": {},
   "outputs": [
    {
     "data": {
      "text/plain": [
       "(4096, 1, 100)"
      ]
     },
     "execution_count": 89,
     "metadata": {},
     "output_type": "execute_result"
    }
   ],
   "source": [
    "lattot.shape"
   ]
  },
  {
   "cell_type": "code",
   "execution_count": null,
   "metadata": {},
   "outputs": [],
   "source": []
  }
 ],
 "metadata": {
  "kernelspec": {
   "display_name": "Python 3",
   "language": "python",
   "name": "python3"
  },
  "language_info": {
   "codemirror_mode": {
    "name": "ipython",
    "version": 3
   },
   "file_extension": ".py",
   "mimetype": "text/x-python",
   "name": "python",
   "nbconvert_exporter": "python",
   "pygments_lexer": "ipython3",
   "version": "3.6.8"
  }
 },
 "nbformat": 4,
 "nbformat_minor": 2
}
