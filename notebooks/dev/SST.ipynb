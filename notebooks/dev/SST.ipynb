{
 "cells": [
  {
   "cell_type": "code",
   "execution_count": 2,
   "metadata": {},
   "outputs": [],
   "source": [
    "import numpy as np\n",
    "import matplotlib.pyplot as plt\n",
    "%matplotlib inline\n",
    "import xarray as xr"
   ]
  },
  {
   "cell_type": "code",
   "execution_count": 3,
   "metadata": {},
   "outputs": [],
   "source": [
    "ds = xr.open_dataset('/scratch/05488/tg847872/fluxbypass_aqua/AndKua_aqua_SPCAM3.0_sp_fbp_f4.cam2.h1.0001-01-09-00000.nc',\n",
    "                    decode_times=False)"
   ]
  },
  {
   "cell_type": "code",
   "execution_count": 73,
   "metadata": {},
   "outputs": [],
   "source": [
    "dsp4 = xr.open_dataset('/scratch/05488/tg847872/debug/AndKua_aqua_SPCAM3.0_sst_p4.cam2.h1.0000-01-01-00000.nc',\n",
    "                    decode_times=False)"
   ]
  },
  {
   "cell_type": "code",
   "execution_count": 77,
   "metadata": {},
   "outputs": [],
   "source": [
    "dsw1 = xr.open_dataset('/scratch/05488/tg847872/debug/AndKua_aqua_SPCAM3.0_sst_3KEQ.cam2.h1.0000-01-01-00000.nc',\n",
    "                    decode_times=False)"
   ]
  },
  {
   "cell_type": "code",
   "execution_count": 49,
   "metadata": {},
   "outputs": [],
   "source": [
    "TS = ds.TS.isel(time=0).values - 273.15"
   ]
  },
  {
   "cell_type": "code",
   "execution_count": 50,
   "metadata": {},
   "outputs": [
    {
     "data": {
      "image/png": "[encoded data removed]",
      "text/plain": [
       "<Figure size 432x288 with 2 Axes>"
      ]
     },
     "metadata": {},
     "output_type": "display_data"
    }
   ],
   "source": [
    "plt.imshow(TS); plt.colorbar();"
   ]
  },
  {
   "cell_type": "code",
   "execution_count": 74,
   "metadata": {},
   "outputs": [
    {
     "data": {
      "image/png": "[encoded data removed]",
      "text/plain": [
       "<Figure size 432x288 with 2 Axes>"
      ]
     },
     "metadata": {},
     "output_type": "display_data"
    }
   ],
   "source": [
    "plt.imshow(dsp4.TS.isel(time=0).values - 273.15); plt.colorbar();"
   ]
  },
  {
   "cell_type": "code",
   "execution_count": 78,
   "metadata": {},
   "outputs": [
    {
     "data": {
      "image/png": "[encoded data removed]",
      "text/plain": [
       "<Figure size 432x288 with 2 Axes>"
      ]
     },
     "metadata": {},
     "output_type": "display_data"
    }
   ],
   "source": [
    "plt.imshow(dsw1.TS.isel(time=0).values - 273.15); plt.colorbar();"
   ]
  },
  {
   "cell_type": "code",
   "execution_count": 4,
   "metadata": {},
   "outputs": [],
   "source": [
    "lat, lon = ds.lat.values, ds.lon.values"
   ]
  },
  {
   "cell_type": "code",
   "execution_count": 7,
   "metadata": {},
   "outputs": [],
   "source": [
    "rlat, rlon = np.deg2rad(lat), np.deg2rad(lon)"
   ]
  },
  {
   "cell_type": "code",
   "execution_count": 10,
   "metadata": {},
   "outputs": [
    {
     "data": {
      "text/plain": [
       "(64, 128)"
      ]
     },
     "execution_count": 10,
     "metadata": {},
     "output_type": "execute_result"
    }
   ],
   "source": [
    "nlat, nlon = lat.shape[0], lon.shape[0]; nlat, nlon"
   ]
  },
  {
   "cell_type": "code",
   "execution_count": 32,
   "metadata": {},
   "outputs": [
    {
     "data": {
      "text/plain": [
       "array([-1.53351258, -1.48521458, -1.43663135, -1.38798367, -1.33931156,\n",
       "       -1.29062761, -1.24193706, -1.19324245, -1.14454516, -1.09584602,\n",
       "       -1.04714554, -0.99844407, -0.94974185, -0.90103903, -0.85233575,\n",
       "       -0.80363208, -0.75492811, -0.70622389, -0.65751945, -0.60881484,\n",
       "       -0.56011008, -0.5114052 , -0.46270021, -0.41399513, -0.36528998,\n",
       "       -0.31658477, -0.2678795 , -0.21917419, -0.17046885, -0.12176348,\n",
       "       -0.0730581 , -0.0243527 ,  0.0243527 ,  0.0730581 ,  0.12176348,\n",
       "        0.17046885,  0.21917419,  0.2678795 ,  0.31658477,  0.36528998,\n",
       "        0.41399513,  0.46270021,  0.5114052 ,  0.56011008,  0.60881484,\n",
       "        0.65751945,  0.70622389,  0.75492811,  0.80363208,  0.85233575,\n",
       "        0.90103903,  0.94974185,  0.99844407,  1.04714554,  1.09584602,\n",
       "        1.14454516,  1.19324245,  1.24193706,  1.29062761,  1.33931156,\n",
       "        1.38798367,  1.43663135,  1.48521458,  1.53351258])"
      ]
     },
     "execution_count": 32,
     "metadata": {},
     "output_type": "execute_result"
    }
   ],
   "source": [
    "rlat"
   ]
  },
  {
   "cell_type": "code",
   "execution_count": 34,
   "metadata": {},
   "outputs": [
    {
     "data": {
      "text/plain": [
       "59.99999999999999"
      ]
     },
     "execution_count": 34,
     "metadata": {},
     "output_type": "execute_result"
    }
   ],
   "source": [
    "np.rad2deg(np.pi/3)"
   ]
  },
  {
   "cell_type": "code",
   "execution_count": 71,
   "metadata": {},
   "outputs": [
    {
     "data": {
      "text/plain": [
       "(0.5235987755982988, 0.5235987755982988)"
      ]
     },
     "execution_count": 71,
     "metadata": {},
     "output_type": "execute_result"
    }
   ],
   "source": [
    "np.deg2rad(30.), 30/180*np.pi"
   ]
  },
  {
   "cell_type": "code",
   "execution_count": 18,
   "metadata": {},
   "outputs": [],
   "source": [
    "def C5N(const=2.):\n",
    "    sst = np.empty((nlon, nlat))\n",
    "    for j in range(nlat):\n",
    "        if lat[j] < -60. or lat[j] > 60.:\n",
    "            zeta = 1.\n",
    "        elif lat[j] > 5. and lat[j] <= 60.:\n",
    "            zeta = (np.sin(np.pi*(lat[j]-5.)/110.))**2\n",
    "        elif lat[j] >= -60 and lat[j] < 5.:\n",
    "            zeta = (np.sin(np.pi*(lat[j]-5.)/130.))**2\n",
    "        for i in range(nlon):\n",
    "            sst[i,j] = const + 27/2. * (2 - zeta - zeta**2)\n",
    "    return sst"
   ]
  },
  {
   "cell_type": "code",
   "execution_count": 21,
   "metadata": {},
   "outputs": [],
   "source": [
    "sst_c5n = C5N()"
   ]
  },
  {
   "cell_type": "code",
   "execution_count": 22,
   "metadata": {},
   "outputs": [
    {
     "data": {
      "image/png": "[encoded data removed]",
      "text/plain": [
       "<Figure size 432x288 with 2 Axes>"
      ]
     },
     "metadata": {},
     "output_type": "display_data"
    }
   ],
   "source": [
    "plt.imshow(sst_c5n.T); plt.colorbar(shrink=0.6);"
   ]
  },
  {
   "cell_type": "code",
   "execution_count": 57,
   "metadata": {},
   "outputs": [],
   "source": [
    "def CTRL():\n",
    "    sst = np.empty((nlon, nlat))\n",
    "    for j in range(nlat):\n",
    "        for i in range(nlon):\n",
    "            if rlat[j] > -(np.pi/3) and rlat[j] < (np.pi/3):\n",
    "                sst[i,j] = 27 * (1 - np.sin(3*rlat[j]/2)**2)\n",
    "            else:\n",
    "                sst[i,j] = 0.\n",
    "    return sst"
   ]
  },
  {
   "cell_type": "code",
   "execution_count": 58,
   "metadata": {},
   "outputs": [],
   "source": [
    "sst_ctrl = CTRL()"
   ]
  },
  {
   "cell_type": "code",
   "execution_count": 59,
   "metadata": {},
   "outputs": [
    {
     "data": {
      "image/png": "[encoded data removed]",
      "text/plain": [
       "<Figure size 432x288 with 2 Axes>"
      ]
     },
     "metadata": {},
     "output_type": "display_data"
    }
   ],
   "source": [
    "plt.imshow(sst_ctrl.T); plt.colorbar(shrink=0.6);"
   ]
  },
  {
   "cell_type": "code",
   "execution_count": 60,
   "metadata": {},
   "outputs": [],
   "source": [
    "def s3KW1():\n",
    "    sst = np.empty((nlon, nlat))\n",
    "    lat_d, lon_0, xi = np.deg2rad(30), np.deg2rad(0), 3\n",
    "    for j in range(nlat):\n",
    "        for i in range(nlon):\n",
    "            if rlat[j] > -lat_d and rlat[j] < lat_d:\n",
    "                sst[i,j] = xi * np.cos(rlon[i] - lon_0) * np.cos(np.pi/2 * rlat[j]/lat_d)**2\n",
    "            else:\n",
    "                sst[i,j] = 0.\n",
    "    return sst"
   ]
  },
  {
   "cell_type": "code",
   "execution_count": 61,
   "metadata": {},
   "outputs": [],
   "source": [
    "pert_3KW1 = s3KW1()"
   ]
  },
  {
   "cell_type": "code",
   "execution_count": 62,
   "metadata": {},
   "outputs": [
    {
     "data": {
      "image/png": "[encoded data removed]",
      "text/plain": [
       "<Figure size 432x288 with 2 Axes>"
      ]
     },
     "metadata": {},
     "output_type": "display_data"
    }
   ],
   "source": [
    "plt.imshow(pert_3KW1.T); plt.colorbar(shrink=0.6);"
   ]
  },
  {
   "cell_type": "code",
   "execution_count": 66,
   "metadata": {},
   "outputs": [],
   "source": [
    "sst_3KW1 = sst_ctrl + pert_3KW1"
   ]
  },
  {
   "cell_type": "code",
   "execution_count": 67,
   "metadata": {},
   "outputs": [
    {
     "data": {
      "image/png": "[encoded data removed]",
      "text/plain": [
       "<Figure size 432x288 with 2 Axes>"
      ]
     },
     "metadata": {},
     "output_type": "display_data"
    }
   ],
   "source": [
    "plt.imshow(sst_3KW1.T); plt.colorbar(shrink=0.6);"
   ]
  },
  {
   "cell_type": "code",
   "execution_count": 68,
   "metadata": {},
   "outputs": [
    {
     "data": {
      "image/png": "[encoded data removed]",
      "text/plain": [
       "<Figure size 432x288 with 2 Axes>"
      ]
     },
     "metadata": {},
     "output_type": "display_data"
    }
   ],
   "source": [
    "plt.imshow(sst_3KW1.T - sst_c5n.T); plt.colorbar(shrink=0.6);"
   ]
  },
  {
   "cell_type": "code",
   "execution_count": null,
   "metadata": {},
   "outputs": [],
   "source": []
  }
 ],
 "metadata": {
  "kernelspec": {
   "display_name": "Python 3",
   "language": "python",
   "name": "python3"
  },
  "language_info": {
   "codemirror_mode": {
    "name": "ipython",
    "version": 3
   },
   "file_extension": ".py",
   "mimetype": "text/x-python",
   "name": "python",
   "nbconvert_exporter": "python",
   "pygments_lexer": "ipython3",
   "version": "3.6.4"
  },
  "toc": {
   "nav_menu": {},
   "number_sections": true,
   "sideBar": false,
   "skip_h1_title": true,
   "title_cell": "Table of Contents",
   "title_sidebar": "Contents",
   "toc_cell": false,
   "toc_position": {},
   "toc_section_display": true,
   "toc_window_display": false
  }
 },
 "nbformat": 4,
 "nbformat_minor": 2
}
