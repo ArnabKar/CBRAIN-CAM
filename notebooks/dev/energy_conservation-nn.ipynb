{
 "cells": [
  {
   "cell_type": "code",
   "execution_count": 1,
   "metadata": {},
   "outputs": [],
   "source": [
    "%load_ext autoreload\n",
    "%autoreload 2"
   ]
  },
  {
   "cell_type": "code",
   "execution_count": 2,
   "metadata": {},
   "outputs": [
    {
     "name": "stderr",
     "output_type": "stream",
     "text": [
      "/export/home/srasp/anaconda3/lib/python3.6/site-packages/h5py/__init__.py:36: FutureWarning: Conversion of the second argument of issubdtype from `float` to `np.floating` is deprecated. In future, it will be treated as `np.float64 == np.dtype(float).type`.\n",
      "  from ._conv import register_converters as _register_converters\n",
      "Using TensorFlow backend.\n"
     ]
    }
   ],
   "source": [
    "%matplotlib inline\n",
    "from cbrain.imports import *\n",
    "from cbrain.utils import *"
   ]
  },
  {
   "cell_type": "code",
   "execution_count": 3,
   "metadata": {},
   "outputs": [],
   "source": [
    "# Load the data\n",
    "DATA_DIR = '/beegfs/DATA/pritchard/srasp/fluxbypass_aqua/'\n",
    "n_days = 1\n",
    "ds = xr.open_mfdataset(\n",
    "    f'{DATA_DIR}AndKua_aqua_SPCAM3.0_sp_fbp_f2.cam2.h1.0000-01-0[1-{n_days}]*',\n",
    "    decode_times=False)"
   ]
  },
  {
   "cell_type": "code",
   "execution_count": 16,
   "metadata": {},
   "outputs": [
    {
     "name": "stdout",
     "output_type": "stream",
     "text": [
      "['P0', 'time_bnds', 'date_written', 'time_written', 'ntrm', 'ntrn', 'ntrk', 'ndbase', 'nsbase', 'nbdate', 'nbsec', 'mdt', 'nlon', 'wnummax', 'hyai', 'hybi', 'hyam', 'hybm', 'gw', 'ndcur', 'nscur', 'date', 'datesec', 'nsteph', 'DTV', 'FLNS', 'FLNT', 'FLUT', 'FSNS', 'FSNT', 'LHFLX', 'PHQ', 'PRECC', 'PRECL', 'PRECSC', 'PRECSL', 'PRECSTEN', 'PRECT', 'PRECTEND', 'PS', 'QAP', 'QRL', 'QRS', 'SHFLX', 'SOLIN', 'SPDQ', 'SPDT', 'T', 'TAP', 'TPHYSTND', 'TS', 'UAP', 'VAP', 'VD01']\n"
     ]
    }
   ],
   "source": [
    "print(list(ds.data_vars.keys()))"
   ]
  },
  {
   "cell_type": "code",
   "execution_count": 19,
   "metadata": {},
   "outputs": [],
   "source": [
    "ds['TPHYSTND_NORAD'] = ds.TPHYSTND - ds.QRL - ds.QRS"
   ]
  },
  {
   "cell_type": "markdown",
   "metadata": {},
   "source": [
    "## MSE conservation"
   ]
  },
  {
   "cell_type": "code",
   "execution_count": 4,
   "metadata": {},
   "outputs": [],
   "source": [
    "# Precipitation term\n",
    "dprec = ((ds.PRECSC + ds.PRECSL)*1e3 + ds.PRECSTEN - (ds.PRECT*1e3 + ds.PRECTEND))*L_I"
   ]
  },
  {
   "cell_type": "code",
   "execution_count": 5,
   "metadata": {},
   "outputs": [],
   "source": [
    "# Surface terms\n",
    "dsurf = ds.LHFLX + ds.SHFLX"
   ]
  },
  {
   "cell_type": "code",
   "execution_count": 20,
   "metadata": {},
   "outputs": [],
   "source": [
    "# Convection terms\n",
    "dconv = vint(ds, 'TPHYSTND_NORAD', 1)*C_P + vint(ds, 'PHQ', 1)*L_S #+vint(ds.PHQC)*L_I"
   ]
  },
  {
   "cell_type": "code",
   "execution_count": 28,
   "metadata": {},
   "outputs": [],
   "source": [
    "dsp = vint(ds, 'SPDT', 1)*C_P + vint(ds, 'SPDQ', 1)*L_S"
   ]
  },
  {
   "cell_type": "code",
   "execution_count": 38,
   "metadata": {},
   "outputs": [
    {
     "data": {
      "text/plain": [
       "[array(-0.07156746, dtype=float32),\n",
       " array(16.838099, dtype=float32),\n",
       " array(19.21878972),\n",
       " array(0.94432083)]"
      ]
     },
     "execution_count": 38,
     "metadata": {},
     "output_type": "execute_result"
    }
   ],
   "source": [
    "# Get statistics for a single grid point\n",
    "ilat, ilon, itime = 0, 0, -1\n",
    "[d.isel(time=itime, lat=ilat, lon=ilon).values for d in [dprec, dsurf, dconv, dsp]]"
   ]
  },
  {
   "cell_type": "code",
   "execution_count": 37,
   "metadata": {},
   "outputs": [
    {
     "data": {
      "text/plain": [
       "array(-37.69669805)"
      ]
     },
     "execution_count": 37,
     "metadata": {},
     "output_type": "execute_result"
    }
   ],
   "source": [
    "dE = dsurf + dconv + dprec; dE.isel(time=itime, lat=ilat, lon=ilon).values"
   ]
  },
  {
   "cell_type": "code",
   "execution_count": 15,
   "metadata": {},
   "outputs": [
    {
     "data": {
      "text/plain": [
       "array(21.430807, dtype=float32)"
      ]
     },
     "execution_count": 15,
     "metadata": {},
     "output_type": "execute_result"
    }
   ],
   "source": [
    "ds.SHFLX.isel(time=itime, lat=ilat, lon=ilon).values"
   ]
  },
  {
   "cell_type": "code",
   "execution_count": 27,
   "metadata": {},
   "outputs": [
    {
     "data": {
      "text/plain": [
       "array(121.31707, dtype=float32)"
      ]
     },
     "execution_count": 27,
     "metadata": {},
     "output_type": "execute_result"
    }
   ],
   "source": [
    "ds.LHFLX.isel(time=itime, lat=ilat, lon=ilon).values"
   ]
  },
  {
   "cell_type": "code",
   "execution_count": 30,
   "metadata": {},
   "outputs": [
    {
     "data": {
      "text/plain": [
       "(1210.2160000665372, 1185.6700879383177)"
      ]
     },
     "execution_count": 30,
     "metadata": {},
     "output_type": "execute_result"
    }
   ],
   "source": [
    "(vint(ds, 'TPHYSTND_NORAD', 1).isel(time=itime, lat=ilat, lon=ilon).values*C_P,\n",
    " vint(ds, 'SPDT', 1).isel(time=itime, lat=ilat, lon=ilon).values*C_P)"
   ]
  },
  {
   "cell_type": "code",
   "execution_count": 32,
   "metadata": {},
   "outputs": [
    {
     "data": {
      "text/plain": [
       "(-1074.8646605068827, -1196.085754289555)"
      ]
     },
     "execution_count": 32,
     "metadata": {},
     "output_type": "execute_result"
    }
   ],
   "source": [
    "(vint(ds, 'PHQ', 1).isel(time=itime, lat=ilat, lon=ilon).values*L_V,\n",
    " vint(ds, 'SPDQ', 1).isel(time=itime, lat=ilat, lon=ilon).values*L_V)"
   ]
  },
  {
   "cell_type": "code",
   "execution_count": 13,
   "metadata": {},
   "outputs": [
    {
     "data": {
      "text/plain": [
       "<matplotlib.collections.QuadMesh at 0x2b998402c9b0>"
      ]
     },
     "execution_count": 13,
     "metadata": {},
     "output_type": "execute_result"
    },
    {
     "data": {
      "image/png": "[encoded data removed]",
      "text/plain": [
       "<Figure size 432x288 with 2 Axes>"
      ]
     },
     "metadata": {},
     "output_type": "display_data"
    }
   ],
   "source": [
    "dprec.isel(time=-1).plot()"
   ]
  },
  {
   "cell_type": "markdown",
   "metadata": {},
   "source": [
    "## I am confused, why not try radiation..."
   ]
  },
  {
   "cell_type": "code",
   "execution_count": 39,
   "metadata": {},
   "outputs": [],
   "source": [
    "flx_net = ds.FSNT - ds.FSNS - ds.FLNT + ds.FLNS"
   ]
  },
  {
   "cell_type": "code",
   "execution_count": 48,
   "metadata": {},
   "outputs": [
    {
     "data": {
      "text/plain": [
       "<xarray.DataArray 'FSNT' (time: 48, lat: 64, lon: 128)>\n",
       "dask.array<shape=(48, 64, 128), dtype=float32, chunksize=(48, 64, 128)>\n",
       "Coordinates:\n",
       "  * lat      (lat) float64 -87.86 -85.1 -82.31 -79.53 -76.74 -73.95 -71.16 ...\n",
       "  * lon      (lon) float64 0.0 2.812 5.625 8.438 11.25 14.06 16.88 19.69 ...\n",
       "  * time     (time) float64 0.0 0.02083 0.04167 0.0625 0.08333 0.1042 0.125 ...\n",
       "Attributes:\n",
       "    units:        W/m2\n",
       "    long_name:    Net solar flux at top of model\n",
       "    cell_method:  time: mean"
      ]
     },
     "execution_count": 48,
     "metadata": {},
     "output_type": "execute_result"
    }
   ],
   "source": [
    "ds.FSNT"
   ]
  },
  {
   "cell_type": "code",
   "execution_count": 40,
   "metadata": {},
   "outputs": [],
   "source": [
    "drad = vint(ds, 'QRL', C_P) + vint(ds, 'QRS', C_P)"
   ]
  },
  {
   "cell_type": "code",
   "execution_count": 41,
   "metadata": {},
   "outputs": [],
   "source": [
    "ilat, ilon, itime = 32, 0, -1"
   ]
  },
  {
   "cell_type": "code",
   "execution_count": 42,
   "metadata": {},
   "outputs": [
    {
     "data": {
      "text/plain": [
       "array(-97.08189, dtype=float32)"
      ]
     },
     "execution_count": 42,
     "metadata": {},
     "output_type": "execute_result"
    }
   ],
   "source": [
    "flx_net.isel(time=itime, lat=ilat, lon=ilon).values"
   ]
  },
  {
   "cell_type": "code",
   "execution_count": 43,
   "metadata": {},
   "outputs": [
    {
     "data": {
      "text/plain": [
       "array(-96.59567565)"
      ]
     },
     "execution_count": 43,
     "metadata": {},
     "output_type": "execute_result"
    }
   ],
   "source": [
    "drad.isel(time=itime, lat=ilat, lon=ilon).values"
   ]
  },
  {
   "cell_type": "code",
   "execution_count": 44,
   "metadata": {},
   "outputs": [
    {
     "data": {
      "text/plain": [
       "<matplotlib.collections.PathCollection at 0x2b998b155a90>"
      ]
     },
     "execution_count": 44,
     "metadata": {},
     "output_type": "execute_result"
    },
    {
     "data": {
      "image/png": "[encoded data removed]",
      "text/plain": [
       "<Figure size 432x288 with 1 Axes>"
      ]
     },
     "metadata": {},
     "output_type": "display_data"
    }
   ],
   "source": [
    "plt.scatter(drad.isel(lon=0), flx_net.isel(lon=0))"
   ]
  },
  {
   "cell_type": "code",
   "execution_count": 46,
   "metadata": {},
   "outputs": [],
   "source": [
    "# Predict QRL(z), QRS(z), 4*F\n",
    "# Input PS + SOLIN, TBP, QBP"
   ]
  },
  {
   "cell_type": "code",
   "execution_count": 50,
   "metadata": {},
   "outputs": [],
   "source": [
    "??get_P_from_ds"
   ]
  },
  {
   "cell_type": "code",
   "execution_count": 52,
   "metadata": {},
   "outputs": [
    {
     "data": {
      "text/plain": [
       "<xarray.DataArray 'hybi' (ilev: 31)>\n",
       "dask.array<shape=(31,), dtype=float64, chunksize=(31,)>\n",
       "Coordinates:\n",
       "  * ilev     (ilev) float64 2.255 5.032 10.16 18.56 30.67 45.87 63.32 80.7 ...\n",
       "Attributes:\n",
       "    long_name:  hybrid B coefficient at layer interfaces"
      ]
     },
     "execution_count": 52,
     "metadata": {},
     "output_type": "execute_result"
    }
   ],
   "source": [
    "ds.hybi"
   ]
  },
  {
   "cell_type": "code",
   "execution_count": 58,
   "metadata": {},
   "outputs": [
    {
     "data": {
      "text/plain": [
       "(48, 1, 64, 128)"
      ]
     },
     "execution_count": 58,
     "metadata": {},
     "output_type": "execute_result"
    }
   ],
   "source": [
    "np.expand_dims(ds.PS, 1).shape"
   ]
  },
  {
   "cell_type": "code",
   "execution_count": 56,
   "metadata": {},
   "outputs": [
    {
     "data": {
      "text/plain": [
       "(48, 30, 64, 128)"
      ]
     },
     "execution_count": 56,
     "metadata": {},
     "output_type": "execute_result"
    }
   ],
   "source": [
    "ds.TAP.values.shape"
   ]
  },
  {
   "cell_type": "code",
   "execution_count": 115,
   "metadata": {},
   "outputs": [],
   "source": [
    "feature_arrs = np.concatenate(\n",
    "    [np.expand_dims(ds.PS, 1), np.expand_dims(ds.SOLIN, 1), ds.TAP, ds.QAP], 1)"
   ]
  },
  {
   "cell_type": "code",
   "execution_count": 116,
   "metadata": {},
   "outputs": [
    {
     "data": {
      "text/plain": [
       "(48, 62, 64, 128)"
      ]
     },
     "execution_count": 116,
     "metadata": {},
     "output_type": "execute_result"
    }
   ],
   "source": [
    "feature_arrs.shape"
   ]
  },
  {
   "cell_type": "code",
   "execution_count": 117,
   "metadata": {},
   "outputs": [
    {
     "data": {
      "text/plain": [
       "(48, 64, 128, 62)"
      ]
     },
     "execution_count": 117,
     "metadata": {},
     "output_type": "execute_result"
    }
   ],
   "source": [
    "feature_arrs = np.rollaxis(feature_arrs, 1, 4); feature_arrs.shape"
   ]
  },
  {
   "cell_type": "code",
   "execution_count": 118,
   "metadata": {},
   "outputs": [],
   "source": [
    "features = feature_arrs.reshape(-1, 62)"
   ]
  },
  {
   "cell_type": "code",
   "execution_count": 119,
   "metadata": {},
   "outputs": [],
   "source": [
    "target_arrs = np.concatenate(\n",
    "    [np.expand_dims(ds.FSNT, 1), np.expand_dims(ds.FSNS, 1), \n",
    "     np.expand_dims(ds.FLNT, 1), np.expand_dims(ds.FLNS, 1),\n",
    "     ds.QRL*C_P, ds.QRS*C_P], 1)"
   ]
  },
  {
   "cell_type": "code",
   "execution_count": 120,
   "metadata": {},
   "outputs": [
    {
     "data": {
      "text/plain": [
       "(48, 64, 128, 64)"
      ]
     },
     "execution_count": 120,
     "metadata": {},
     "output_type": "execute_result"
    }
   ],
   "source": [
    "target_arrs = np.rollaxis(target_arrs, 1, 4); target_arrs.shape"
   ]
  },
  {
   "cell_type": "code",
   "execution_count": 121,
   "metadata": {},
   "outputs": [],
   "source": [
    "targets = target_arrs.reshape(-1, 64)"
   ]
  },
  {
   "cell_type": "code",
   "execution_count": 122,
   "metadata": {},
   "outputs": [],
   "source": [
    "targets[:, :4] /= 1e4"
   ]
  },
  {
   "cell_type": "code",
   "execution_count": 123,
   "metadata": {},
   "outputs": [],
   "source": [
    "ngeo = 46*128"
   ]
  },
  {
   "cell_type": "code",
   "execution_count": 124,
   "metadata": {},
   "outputs": [
    {
     "data": {
      "text/plain": [
       "(393216, 62)"
      ]
     },
     "execution_count": 124,
     "metadata": {},
     "output_type": "execute_result"
    }
   ],
   "source": [
    "features.shape"
   ]
  },
  {
   "cell_type": "code",
   "execution_count": 125,
   "metadata": {},
   "outputs": [],
   "source": [
    "fmeans = features.mean(0)\n",
    "fstds = features.std(0)"
   ]
  },
  {
   "cell_type": "code",
   "execution_count": 126,
   "metadata": {},
   "outputs": [],
   "source": [
    "features = (features - features.mean(0)) / features.std(0)"
   ]
  },
  {
   "cell_type": "code",
   "execution_count": 127,
   "metadata": {},
   "outputs": [],
   "source": [
    "x_trn, x_val = features[:40*ngeo], features[40*ngeo:]\n",
    "y_trn, y_val = targets[:40*ngeo], targets[40*ngeo:]"
   ]
  },
  {
   "cell_type": "code",
   "execution_count": 128,
   "metadata": {},
   "outputs": [],
   "source": [
    "from keras.layers import *"
   ]
  },
  {
   "cell_type": "code",
   "execution_count": 129,
   "metadata": {},
   "outputs": [],
   "source": [
    "inp = Input(shape=(62,))\n",
    "x = LeakyReLU()(Dense(256)(inp))\n",
    "x = LeakyReLU()(Dense(256)(x))\n",
    "outp = Dense(64)(x)\n",
    "net = keras.models.Model(inp, outp)"
   ]
  },
  {
   "cell_type": "code",
   "execution_count": 130,
   "metadata": {},
   "outputs": [
    {
     "name": "stdout",
     "output_type": "stream",
     "text": [
      "_________________________________________________________________\n",
      "Layer (type)                 Output Shape              Param #   \n",
      "=================================================================\n",
      "input_5 (InputLayer)         (None, 62)                0         \n",
      "_________________________________________________________________\n",
      "dense_10 (Dense)             (None, 256)               16128     \n",
      "_________________________________________________________________\n",
      "leaky_re_lu_8 (LeakyReLU)    (None, 256)               0         \n",
      "_________________________________________________________________\n",
      "dense_11 (Dense)             (None, 256)               65792     \n",
      "_________________________________________________________________\n",
      "leaky_re_lu_9 (LeakyReLU)    (None, 256)               0         \n",
      "_________________________________________________________________\n",
      "dense_12 (Dense)             (None, 64)                16448     \n",
      "=================================================================\n",
      "Total params: 98,368\n",
      "Trainable params: 98,368\n",
      "Non-trainable params: 0\n",
      "_________________________________________________________________\n"
     ]
    }
   ],
   "source": [
    "net.summary()"
   ]
  },
  {
   "cell_type": "code",
   "execution_count": 131,
   "metadata": {},
   "outputs": [],
   "source": [
    "net.compile('adam', 'mse')"
   ]
  },
  {
   "cell_type": "code",
   "execution_count": 133,
   "metadata": {},
   "outputs": [
    {
     "name": "stdout",
     "output_type": "stream",
     "text": [
      "Train on 235520 samples, validate on 157696 samples\n",
      "Epoch 1/5\n",
      "235520/235520 [==============================] - 3s 13us/step - loss: 2.1787e-04 - val_loss: 1.8812e-04\n",
      "Epoch 2/5\n",
      "235520/235520 [==============================] - 3s 13us/step - loss: 2.0530e-04 - val_loss: 1.7666e-04\n",
      "Epoch 3/5\n",
      "235520/235520 [==============================] - 3s 13us/step - loss: 1.9523e-04 - val_loss: 1.6909e-04\n",
      "Epoch 4/5\n",
      "235520/235520 [==============================] - 3s 13us/step - loss: 1.8731e-04 - val_loss: 1.6338e-04\n",
      "Epoch 5/5\n",
      "235520/235520 [==============================] - 3s 13us/step - loss: 1.8024e-04 - val_loss: 1.5806e-04\n"
     ]
    },
    {
     "data": {
      "text/plain": [
       "<keras.callbacks.History at 0x2b9bc180d208>"
      ]
     },
     "execution_count": 133,
     "metadata": {},
     "output_type": "execute_result"
    }
   ],
   "source": [
    "net.fit(x_trn, y_trn, batch_size=1024, epochs=5, validation_data=(x_val, y_val))"
   ]
  },
  {
   "cell_type": "code",
   "execution_count": 134,
   "metadata": {},
   "outputs": [],
   "source": [
    "net.optimizer.lr = 1e-4"
   ]
  },
  {
   "cell_type": "code",
   "execution_count": 139,
   "metadata": {},
   "outputs": [
    {
     "name": "stdout",
     "output_type": "stream",
     "text": [
      "Train on 235520 samples, validate on 157696 samples\n",
      "Epoch 1/10\n",
      "235520/235520 [==============================] - 3s 13us/step - loss: 1.3776e-04 - val_loss: 1.2548e-04\n",
      "Epoch 2/10\n",
      "235520/235520 [==============================] - 3s 13us/step - loss: 1.3458e-04 - val_loss: 1.2067e-04\n",
      "Epoch 3/10\n",
      "235520/235520 [==============================] - 3s 13us/step - loss: 1.3395e-04 - val_loss: 1.1985e-04\n",
      "Epoch 4/10\n",
      "235520/235520 [==============================] - 3s 13us/step - loss: 1.3117e-04 - val_loss: 1.1984e-04\n",
      "Epoch 5/10\n",
      "235520/235520 [==============================] - 3s 13us/step - loss: 1.2961e-04 - val_loss: 1.1887e-04\n",
      "Epoch 6/10\n",
      "235520/235520 [==============================] - 3s 13us/step - loss: 1.2687e-04 - val_loss: 1.1591e-04\n",
      "Epoch 7/10\n",
      "235520/235520 [==============================] - 3s 13us/step - loss: 1.2514e-04 - val_loss: 1.1622e-04\n",
      "Epoch 8/10\n",
      "235520/235520 [==============================] - 3s 13us/step - loss: 1.2316e-04 - val_loss: 1.1482e-04\n",
      "Epoch 9/10\n",
      "235520/235520 [==============================] - 3s 13us/step - loss: 1.2005e-04 - val_loss: 1.1103e-04\n",
      "Epoch 10/10\n",
      "235520/235520 [==============================] - 3s 13us/step - loss: 1.1819e-04 - val_loss: 1.0982e-04\n"
     ]
    },
    {
     "data": {
      "text/plain": [
       "<keras.callbacks.History at 0x2b99984ce4e0>"
      ]
     },
     "execution_count": 139,
     "metadata": {},
     "output_type": "execute_result"
    }
   ],
   "source": [
    "net.fit(x_trn, y_trn, batch_size=1024, epochs=10, validation_data=(x_val, y_val))"
   ]
  },
  {
   "cell_type": "code",
   "execution_count": 136,
   "metadata": {},
   "outputs": [],
   "source": [
    "preds = net.predict(x_val, batch_size=1024)"
   ]
  },
  {
   "cell_type": "code",
   "execution_count": 138,
   "metadata": {},
   "outputs": [
    {
     "data": {
      "image/png": "[encoded data removed]",
      "text/plain": [
       "<Figure size 432x288 with 1 Axes>"
      ]
     },
     "metadata": {},
     "output_type": "display_data"
    }
   ],
   "source": [
    "plt.plot(y_val[1000])\n",
    "plt.plot(preds[1000]);"
   ]
  },
  {
   "cell_type": "code",
   "execution_count": 144,
   "metadata": {},
   "outputs": [],
   "source": [
    "hyai, hybi, P0 = ds.hyai.values, ds.hybi.values, ds.P0.values"
   ]
  },
  {
   "cell_type": "code",
   "execution_count": 146,
   "metadata": {},
   "outputs": [
    {
     "data": {
      "text/plain": [
       "(157696, 62)"
      ]
     },
     "execution_count": 146,
     "metadata": {},
     "output_type": "execute_result"
    }
   ],
   "source": [
    "x_val.shape"
   ]
  },
  {
   "cell_type": "code",
   "execution_count": 155,
   "metadata": {},
   "outputs": [],
   "source": [
    "# Get energy conservation from xs and ys!\n",
    "PS = x_val[:, 0] * fstds[0] + fmeans[0]\n",
    "P = P0 * hyai + PS[:, None] * hybi\n",
    "dP = P[:, 1:] - P[:, :-1]"
   ]
  },
  {
   "cell_type": "code",
   "execution_count": 157,
   "metadata": {},
   "outputs": [
    {
     "data": {
      "text/plain": [
       "(157696, 30)"
      ]
     },
     "execution_count": 157,
     "metadata": {},
     "output_type": "execute_result"
    }
   ],
   "source": [
    "dP.shape"
   ]
  },
  {
   "cell_type": "code",
   "execution_count": 160,
   "metadata": {},
   "outputs": [],
   "source": [
    "vintQRL = np.sum(y_val[:, -60:-30]*dP/G, 1)\n",
    "vintQRS = np.sum(y_val[:, -30:]*dP/G, 1)"
   ]
  },
  {
   "cell_type": "code",
   "execution_count": 166,
   "metadata": {},
   "outputs": [],
   "source": [
    "signs = np.array([1, -1, -1, 1])"
   ]
  },
  {
   "cell_type": "code",
   "execution_count": 172,
   "metadata": {},
   "outputs": [],
   "source": [
    "F1to3 = np.sum(y_val[:, :3]*signs[:3], 1) * 1e4\n",
    "F1to4 = np.sum(y_val[:, :4]*signs, 1) * 1e4"
   ]
  },
  {
   "cell_type": "code",
   "execution_count": 224,
   "metadata": {},
   "outputs": [],
   "source": [
    "F4 = (vintQRL + vintQRS - F1to3)"
   ]
  },
  {
   "cell_type": "code",
   "execution_count": 173,
   "metadata": {},
   "outputs": [
    {
     "data": {
      "text/plain": [
       "array([ -41.21759988,  -41.02965561,  -53.37605315, ..., -100.63945054,\n",
       "       -102.24919032,  -79.09752523])"
      ]
     },
     "execution_count": 173,
     "metadata": {},
     "output_type": "execute_result"
    }
   ],
   "source": [
    "vintQRL + vintQRS"
   ]
  },
  {
   "cell_type": "code",
   "execution_count": 174,
   "metadata": {},
   "outputs": [
    {
     "data": {
      "text/plain": [
       "array([ -41.42508144,  -41.23616498,  -53.64470184, ..., -101.14599951,\n",
       "       -102.76385583,  -79.49565537])"
      ]
     },
     "execution_count": 174,
     "metadata": {},
     "output_type": "execute_result"
    }
   ],
   "source": [
    "F1to4"
   ]
  },
  {
   "cell_type": "code",
   "execution_count": 221,
   "metadata": {},
   "outputs": [
    {
     "data": {
      "text/plain": [
       "array([ -61.04013417, -107.53715411, -162.99573705, ..., -185.21094695,\n",
       "       -177.43123695, -169.82212663])"
      ]
     },
     "execution_count": 221,
     "metadata": {},
     "output_type": "execute_result"
    }
   ],
   "source": [
    "F1to3"
   ]
  },
  {
   "cell_type": "code",
   "execution_count": 225,
   "metadata": {},
   "outputs": [
    {
     "data": {
      "text/plain": [
       "array([ 19.82253429,  66.50749849, 109.61968389, ...,  84.57149641,\n",
       "        75.18204663,  90.7246014 ])"
      ]
     },
     "execution_count": 225,
     "metadata": {},
     "output_type": "execute_result"
    }
   ],
   "source": [
    "F4"
   ]
  },
  {
   "cell_type": "code",
   "execution_count": 176,
   "metadata": {},
   "outputs": [
    {
     "data": {
      "text/plain": [
       "array([ 19.82253429,  66.50749849, 109.61968389, ...,  84.57149641,\n",
       "        75.18204663,  90.7246014 ])"
      ]
     },
     "execution_count": 176,
     "metadata": {},
     "output_type": "execute_result"
    }
   ],
   "source": [
    "vintQRL + vintQRS -F1to3"
   ]
  },
  {
   "cell_type": "code",
   "execution_count": 178,
   "metadata": {},
   "outputs": [
    {
     "data": {
      "text/plain": [
       "array([ 19.615053,  66.30099 , 109.351036, ...,  84.06495 ,  74.66738 ,\n",
       "        90.32647 ], dtype=float32)"
      ]
     },
     "execution_count": 178,
     "metadata": {},
     "output_type": "execute_result"
    }
   ],
   "source": [
    "y_val[:, 3]*1e4"
   ]
  },
  {
   "cell_type": "code",
   "execution_count": 175,
   "metadata": {},
   "outputs": [],
   "source": [
    "from keras import backend as K\n",
    "from keras.engine.topology import Layer\n",
    "import numpy as np"
   ]
  },
  {
   "cell_type": "code",
   "execution_count": 210,
   "metadata": {},
   "outputs": [],
   "source": [
    "class ConservationLayer(Layer):\n",
    "\n",
    "    def __init__(self, **kwargs):\n",
    "        super(ConservationLayer, self).__init__(**kwargs)\n",
    "\n",
    "    def build(self, input_shape):\n",
    "        super(ConservationLayer, self).build(input_shape)  # Be sure to call this somewhere!\n",
    "\n",
    "    def call(self, arrs):\n",
    "        \"\"\"\n",
    "        features -> 62 layers\n",
    "        x -> 63 layers\n",
    "        \"\"\"\n",
    "        features, x = arrs\n",
    "        PS = features[:, 0] * fstds[0] + fmeans[0]\n",
    "        P = P0 * hyai + PS[:, None] * hybi\n",
    "        dP = P[:, 1:] - P[:, :-1]\n",
    "        vintQRL = K.sum(x[:, -60:-30]*dP/G, 1)\n",
    "        vintQRS = K.sum(x[:, -30:]*dP/G, 1)\n",
    "        signs = np.array([1, -1, -1, 1], dtype='float32')\n",
    "        F1to3 = K.sum(x[:, :3]*signs[:3], 1) * 1e4\n",
    "        F4 = (vintQRL + vintQRS - F1to3) / 1e4\n",
    "        return K.concatenate([x, K.reshape(F4, (-1, 1))], 1)\n",
    "\n",
    "    def compute_output_shape(self, input_shape):\n",
    "        return (input_shape[1][0], input_shape[1][1]+1)"
   ]
  },
  {
   "cell_type": "code",
   "execution_count": 211,
   "metadata": {},
   "outputs": [],
   "source": [
    "inp = Input(shape=(62,))\n",
    "x = LeakyReLU()(Dense(256)(inp))\n",
    "x = LeakyReLU()(Dense(256)(x))\n",
    "tmp = Dense(63)(x)\n",
    "outp = ConservationLayer()([inp, tmp])\n",
    "net = keras.models.Model(inp, outp)"
   ]
  },
  {
   "cell_type": "code",
   "execution_count": 212,
   "metadata": {},
   "outputs": [
    {
     "name": "stdout",
     "output_type": "stream",
     "text": [
      "__________________________________________________________________________________________________\n",
      "Layer (type)                    Output Shape         Param #     Connected to                     \n",
      "==================================================================================================\n",
      "input_19 (InputLayer)           (None, 62)           0                                            \n",
      "__________________________________________________________________________________________________\n",
      "dense_52 (Dense)                (None, 256)          16128       input_19[0][0]                   \n",
      "__________________________________________________________________________________________________\n",
      "leaky_re_lu_36 (LeakyReLU)      (None, 256)          0           dense_52[0][0]                   \n",
      "__________________________________________________________________________________________________\n",
      "dense_53 (Dense)                (None, 256)          65792       leaky_re_lu_36[0][0]             \n",
      "__________________________________________________________________________________________________\n",
      "leaky_re_lu_37 (LeakyReLU)      (None, 256)          0           dense_53[0][0]                   \n",
      "__________________________________________________________________________________________________\n",
      "dense_54 (Dense)                (None, 63)           16191       leaky_re_lu_37[0][0]             \n",
      "__________________________________________________________________________________________________\n",
      "conservation_layer_12 (Conserva (None, 64)           0           input_19[0][0]                   \n",
      "                                                                 dense_54[0][0]                   \n",
      "==================================================================================================\n",
      "Total params: 98,111\n",
      "Trainable params: 98,111\n",
      "Non-trainable params: 0\n",
      "__________________________________________________________________________________________________\n"
     ]
    }
   ],
   "source": [
    "net.summary()"
   ]
  },
  {
   "cell_type": "code",
   "execution_count": 213,
   "metadata": {},
   "outputs": [],
   "source": [
    "net.compile('adam', 'mse')"
   ]
  },
  {
   "cell_type": "code",
   "execution_count": 214,
   "metadata": {},
   "outputs": [
    {
     "name": "stdout",
     "output_type": "stream",
     "text": [
      "Train on 235520 samples, validate on 157696 samples\n",
      "Epoch 1/5\n",
      "235520/235520 [==============================] - 4s 19us/step - loss: 0.0047 - val_loss: 6.1804e-04\n",
      "Epoch 2/5\n",
      "235520/235520 [==============================] - 4s 15us/step - loss: 4.8064e-04 - val_loss: 3.6480e-04\n",
      "Epoch 3/5\n",
      "235520/235520 [==============================] - 4s 15us/step - loss: 3.3807e-04 - val_loss: 2.8086e-04\n",
      "Epoch 4/5\n",
      "235520/235520 [==============================] - 4s 15us/step - loss: 2.8045e-04 - val_loss: 2.3862e-04\n",
      "Epoch 5/5\n",
      "235520/235520 [==============================] - 4s 15us/step - loss: 2.4891e-04 - val_loss: 2.1317e-04\n"
     ]
    },
    {
     "data": {
      "text/plain": [
       "<keras.callbacks.History at 0x2b99bab54390>"
      ]
     },
     "execution_count": 214,
     "metadata": {},
     "output_type": "execute_result"
    }
   ],
   "source": [
    "net.fit(x_trn, y_trn, batch_size=1024, epochs=5, validation_data=(x_val, y_val))"
   ]
  },
  {
   "cell_type": "code",
   "execution_count": 215,
   "metadata": {},
   "outputs": [],
   "source": [
    "preds = net.predict(x_val, batch_size=1024)"
   ]
  },
  {
   "cell_type": "code",
   "execution_count": 226,
   "metadata": {},
   "outputs": [
    {
     "data": {
      "image/png": "[encoded data removed]",
      "text/plain": [
       "<Figure size 432x288 with 1 Axes>"
      ]
     },
     "metadata": {},
     "output_type": "display_data"
    }
   ],
   "source": [
    "plt.plot(y_val[1000])\n",
    "plt.plot(preds[1000]);"
   ]
  },
  {
   "cell_type": "code",
   "execution_count": 249,
   "metadata": {},
   "outputs": [],
   "source": [
    "def get_dE(x, y):\n",
    "    PS = x[:, 0] * fstds[0] + fmeans[0]\n",
    "    P = P0 * hyai + PS[:, None] * hybi\n",
    "    dP = P[:, 1:] - P[:, :-1]\n",
    "    vintQRL = np.sum(y[:, -60:-30]*dP/G, 1)\n",
    "    vintQRS = np.sum(y[:, -30:]*dP/G, 1)\n",
    "    signs = np.array([1, -1, -1, 1])\n",
    "    #F1to3 = np.sum(y[:, :3]*signs[:3], 1) * 1e4\n",
    "    F1to4 = np.sum(y[:, :4]*signs, 1) * 1e4\n",
    "    #F4 = (vintQRL + vintQRS - F1to3) / 1e4\n",
    "    #out_y = np.concatenate([y, np.reshape(F4, (-1, 1))], 1)\n",
    "    return vintQRL + vintQRS, F1to4"
   ]
  },
  {
   "cell_type": "code",
   "execution_count": 250,
   "metadata": {},
   "outputs": [
    {
     "data": {
      "text/plain": [
       "(array([ -41.21759988,  -41.02965561,  -53.37605315, ..., -100.63945054,\n",
       "        -102.24919032,  -79.09752523]),\n",
       " array([ -41.42508144,  -41.23616498,  -53.64470184, ..., -101.14599951,\n",
       "        -102.76385583,  -79.49565537]))"
      ]
     },
     "execution_count": 250,
     "metadata": {},
     "output_type": "execute_result"
    }
   ],
   "source": [
    "get_dE(x_val, y_val)"
   ]
  },
  {
   "cell_type": "code",
   "execution_count": 251,
   "metadata": {},
   "outputs": [
    {
     "data": {
      "text/plain": [
       "(array([ -76.79050152,  -87.4909372 ,  -73.91774505, ..., -107.31936745,\n",
       "         -78.12341873, -102.87592715]),\n",
       " array([-107.52926581, -132.59546016, -312.47414649, ...,   55.07215858,\n",
       "          43.46565809,   76.63803175]))"
      ]
     },
     "execution_count": 251,
     "metadata": {},
     "output_type": "execute_result"
    }
   ],
   "source": [
    "get_dE(x_val, preds)"
   ]
  },
  {
   "cell_type": "code",
   "execution_count": 257,
   "metadata": {},
   "outputs": [],
   "source": [
    "def debug(arrs):\n",
    "        \"\"\"\n",
    "        features -> 62 layers\n",
    "        x -> 63 layers\n",
    "        \"\"\"\n",
    "        features, x = arrs\n",
    "        PS = features[:, 0] * fstds[0] + fmeans[0]\n",
    "        P = P0 * hyai + PS[:, None] * hybi\n",
    "        dP = P[:, 1:] - P[:, :-1]\n",
    "        vintQRL = np.sum(x[:, -60:-30]*dP/G, 1)\n",
    "        vintQRS = np.sum(x[:, -30:]*dP/G, 1)\n",
    "        signs = np.array([1, -1, -1, 1], dtype='float32')\n",
    "        F1to3 = np.sum(x[:, :3]*signs[:3], 1) * 1e4\n",
    "        F4 = (vintQRL + vintQRS - F1to3) / 1e4\n",
    "        return np.concatenate([x, np.reshape(F4, (-1, 1))], 1)"
   ]
  },
  {
   "cell_type": "code",
   "execution_count": 260,
   "metadata": {},
   "outputs": [],
   "source": [
    "test = debug([x_val, np.random.rand(x_val.shape[0], 63)])"
   ]
  },
  {
   "cell_type": "code",
   "execution_count": 261,
   "metadata": {},
   "outputs": [
    {
     "data": {
      "text/plain": [
       "(157696, 64)"
      ]
     },
     "execution_count": 261,
     "metadata": {},
     "output_type": "execute_result"
    }
   ],
   "source": [
    "test.shape"
   ]
  },
  {
   "cell_type": "code",
   "execution_count": 262,
   "metadata": {},
   "outputs": [
    {
     "data": {
      "text/plain": [
       "(array([10771.76183786,  8428.88843034,  9235.49965444, ...,\n",
       "        10088.12116751,  8878.14609199,  9629.00356374]),\n",
       " array([ 1226.06540204,  7087.97136055, -3331.11885512, ...,\n",
       "         5745.15096949, -3728.73875679,  5023.44141538]))"
      ]
     },
     "execution_count": 262,
     "metadata": {},
     "output_type": "execute_result"
    }
   ],
   "source": [
    "get_dE(x_val, test)"
   ]
  },
  {
   "cell_type": "code",
   "execution_count": 237,
   "metadata": {},
   "outputs": [
    {
     "data": {
      "text/plain": [
       "(array([9940.75630184, 9788.95491879]), array([-106.82511741, 7409.9099584 ]))"
      ]
     },
     "execution_count": 237,
     "metadata": {},
     "output_type": "execute_result"
    }
   ],
   "source": [
    "get_dE(np.random.rand(2, 62), np.random.rand(2, 63))"
   ]
  },
  {
   "cell_type": "code",
   "execution_count": null,
   "metadata": {},
   "outputs": [],
   "source": []
  },
  {
   "cell_type": "code",
   "execution_count": null,
   "metadata": {},
   "outputs": [],
   "source": []
  },
  {
   "cell_type": "code",
   "execution_count": 216,
   "metadata": {},
   "outputs": [],
   "source": [
    "# Get energy conservation from xs and ys!\n",
    "PS = x_val[:, 0] * fstds[0] + fmeans[0]\n",
    "P = P0 * hyai + PS[:, None] * hybi\n",
    "dP = P[:, 1:] - P[:, :-1]"
   ]
  },
  {
   "cell_type": "code",
   "execution_count": 217,
   "metadata": {},
   "outputs": [
    {
     "data": {
      "text/plain": [
       "(157696, 30)"
      ]
     },
     "execution_count": 217,
     "metadata": {},
     "output_type": "execute_result"
    }
   ],
   "source": [
    "dP.shape"
   ]
  },
  {
   "cell_type": "code",
   "execution_count": 160,
   "metadata": {},
   "outputs": [],
   "source": [
    "vintQRL = np.sum(y_val[:, -60:-30]*dP/G, 1)\n",
    "vintQRS = np.sum(y_val[:, -30:]*dP/G, 1)"
   ]
  },
  {
   "cell_type": "code",
   "execution_count": 166,
   "metadata": {},
   "outputs": [],
   "source": [
    "signs = np.array([1, -1, -1, 1])"
   ]
  },
  {
   "cell_type": "code",
   "execution_count": 172,
   "metadata": {},
   "outputs": [],
   "source": [
    "F1to3 = np.sum(y_val[:, :3]*signs[:3], 1) * 1e4\n",
    "F1to4 = np.sum(y_val[:, :4]*signs, 1) * 1e4"
   ]
  },
  {
   "cell_type": "code",
   "execution_count": 173,
   "metadata": {},
   "outputs": [
    {
     "data": {
      "text/plain": [
       "array([ -41.21759988,  -41.02965561,  -53.37605315, ..., -100.63945054,\n",
       "       -102.24919032,  -79.09752523])"
      ]
     },
     "execution_count": 173,
     "metadata": {},
     "output_type": "execute_result"
    }
   ],
   "source": [
    "vintQRL + vintQRS"
   ]
  },
  {
   "cell_type": "code",
   "execution_count": 174,
   "metadata": {},
   "outputs": [
    {
     "data": {
      "text/plain": [
       "array([ -41.42508144,  -41.23616498,  -53.64470184, ..., -101.14599951,\n",
       "       -102.76385583,  -79.49565537])"
      ]
     },
     "execution_count": 174,
     "metadata": {},
     "output_type": "execute_result"
    }
   ],
   "source": [
    "F1to4"
   ]
  },
  {
   "cell_type": "code",
   "execution_count": 176,
   "metadata": {},
   "outputs": [
    {
     "data": {
      "text/plain": [
       "array([ 19.82253429,  66.50749849, 109.61968389, ...,  84.57149641,\n",
       "        75.18204663,  90.7246014 ])"
      ]
     },
     "execution_count": 176,
     "metadata": {},
     "output_type": "execute_result"
    }
   ],
   "source": [
    "vintQRL + vintQRS -F1to3"
   ]
  },
  {
   "cell_type": "code",
   "execution_count": 178,
   "metadata": {},
   "outputs": [
    {
     "data": {
      "text/plain": [
       "array([ 19.615053,  66.30099 , 109.351036, ...,  84.06495 ,  74.66738 ,\n",
       "        90.32647 ], dtype=float32)"
      ]
     },
     "execution_count": 178,
     "metadata": {},
     "output_type": "execute_result"
    }
   ],
   "source": [
    "y_val[:, 3]*1e4"
   ]
  },
  {
   "cell_type": "code",
   "execution_count": null,
   "metadata": {},
   "outputs": [],
   "source": []
  }
 ],
 "metadata": {
  "kernelspec": {
   "display_name": "Python 3",
   "language": "python",
   "name": "python3"
  },
  "language_info": {
   "codemirror_mode": {
    "name": "ipython",
    "version": 3
   },
   "file_extension": ".py",
   "mimetype": "text/x-python",
   "name": "python",
   "nbconvert_exporter": "python",
   "pygments_lexer": "ipython3",
   "version": "3.6.4"
  },
  "toc": {
   "nav_menu": {},
   "number_sections": true,
   "sideBar": true,
   "skip_h1_title": true,
   "title_cell": "Table of Contents",
   "title_sidebar": "Contents",
   "toc_cell": false,
   "toc_position": {},
   "toc_section_display": true,
   "toc_window_display": false
  }
 },
 "nbformat": 4,
 "nbformat_minor": 2
}
