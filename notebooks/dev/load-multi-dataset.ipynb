{
 "cells": [
  {
   "cell_type": "code",
   "execution_count": 1,
   "metadata": {},
   "outputs": [],
   "source": [
    "import xarray as xr\n",
    "from glob import glob"
   ]
  },
  {
   "cell_type": "code",
   "execution_count": 2,
   "metadata": {},
   "outputs": [],
   "source": [
    "DATADIR = '/beegfs/DATA/pritchard/srasp/'"
   ]
  },
  {
   "cell_type": "code",
   "execution_count": 3,
   "metadata": {},
   "outputs": [
    {
     "data": {
      "text/plain": [
       "['/beegfs/DATA/pritchard/srasp/sp8fbp_4k_fullout/sp8fbp_4k.cam2.h1.0000-01-01-00000.nc',\n",
       " '/beegfs/DATA/pritchard/srasp/sp8fbp_4k_fullout/sp8fbp_4k.cam2.h1.0000-01-02-00000.nc',\n",
       " '/beegfs/DATA/pritchard/srasp/sp8fbp_4k_fullout/sp8fbp_4k.cam2.h1.0000-01-03-00000.nc']"
      ]
     },
     "execution_count": 3,
     "metadata": {},
     "output_type": "execute_result"
    }
   ],
   "source": [
    "files1 = sorted(glob(f'{DATADIR}sp8fbp_4k_fullout/sp8fbp_4k.cam2.h1.0000-01-0[1-3]*')); files1"
   ]
  },
  {
   "cell_type": "code",
   "execution_count": 4,
   "metadata": {},
   "outputs": [
    {
     "data": {
      "text/plain": [
       "['/scratch/srasp/fluxbypass_aqua/AndKua_aqua_SPCAM3.0_sp_fbp_f4.cam2.h1.0000-01-01-00000.nc',\n",
       " '/scratch/srasp/fluxbypass_aqua/AndKua_aqua_SPCAM3.0_sp_fbp_f4.cam2.h1.0000-01-02-00000.nc',\n",
       " '/scratch/srasp/fluxbypass_aqua/AndKua_aqua_SPCAM3.0_sp_fbp_f4.cam2.h1.0000-01-03-00000.nc']"
      ]
     },
     "execution_count": 4,
     "metadata": {},
     "output_type": "execute_result"
    }
   ],
   "source": [
    "files2 = sorted(glob(f'/scratch/srasp/fluxbypass_aqua/AndKua_aqua_SPCAM3.0_sp_fbp_f4.cam2.h1.0000-01-0[1-3]*')); files2"
   ]
  },
  {
   "cell_type": "code",
   "execution_count": 39,
   "metadata": {},
   "outputs": [],
   "source": [
    "ds1 = xr.open_mfdataset(files1, decode_times=False)"
   ]
  },
  {
   "cell_type": "code",
   "execution_count": 40,
   "metadata": {},
   "outputs": [],
   "source": [
    "ds2 = xr.open_mfdataset(files2, decode_times=False)"
   ]
  },
  {
   "cell_type": "code",
   "execution_count": 41,
   "metadata": {},
   "outputs": [
    {
     "data": {
      "text/plain": [
       "(<xarray.DataArray 'time' (time: 144)>\n",
       " array([0.      , 0.020833, 0.041667, 0.0625  , 0.083333, 0.104167, 0.125   ,\n",
       "        0.145833, 0.166667, 0.1875  , 0.208333, 0.229167, 0.25    , 0.270833,\n",
       "        0.291667, 0.3125  , 0.333333, 0.354167, 0.375   , 0.395833, 0.416667,\n",
       "        0.4375  , 0.458333, 0.479167, 0.5     , 0.520833, 0.541667, 0.5625  ,\n",
       "        0.583333, 0.604167, 0.625   , 0.645833, 0.666667, 0.6875  , 0.708333,\n",
       "        0.729167, 0.75    , 0.770833, 0.791667, 0.8125  , 0.833333, 0.854167,\n",
       "        0.875   , 0.895833, 0.916667, 0.9375  , 0.958333, 0.979167, 1.      ,\n",
       "        1.020833, 1.041667, 1.0625  , 1.083333, 1.104167, 1.125   , 1.145833,\n",
       "        1.166667, 1.1875  , 1.208333, 1.229167, 1.25    , 1.270833, 1.291667,\n",
       "        1.3125  , 1.333333, 1.354167, 1.375   , 1.395833, 1.416667, 1.4375  ,\n",
       "        1.458333, 1.479167, 1.5     , 1.520833, 1.541667, 1.5625  , 1.583333,\n",
       "        1.604167, 1.625   , 1.645833, 1.666667, 1.6875  , 1.708333, 1.729167,\n",
       "        1.75    , 1.770833, 1.791667, 1.8125  , 1.833333, 1.854167, 1.875   ,\n",
       "        1.895833, 1.916667, 1.9375  , 1.958333, 1.979167, 2.      , 2.020833,\n",
       "        2.041667, 2.0625  , 2.083333, 2.104167, 2.125   , 2.145833, 2.166667,\n",
       "        2.1875  , 2.208333, 2.229167, 2.25    , 2.270833, 2.291667, 2.3125  ,\n",
       "        2.333333, 2.354167, 2.375   , 2.395833, 2.416667, 2.4375  , 2.458333,\n",
       "        2.479167, 2.5     , 2.520833, 2.541667, 2.5625  , 2.583333, 2.604167,\n",
       "        2.625   , 2.645833, 2.666667, 2.6875  , 2.708333, 2.729167, 2.75    ,\n",
       "        2.770833, 2.791667, 2.8125  , 2.833333, 2.854167, 2.875   , 2.895833,\n",
       "        2.916667, 2.9375  , 2.958333, 2.979167])\n",
       " Coordinates:\n",
       "   * time     (time) float64 0.0 0.02083 0.04167 0.0625 0.08333 0.1042 0.125 ...\n",
       " Attributes:\n",
       "     long_name:  time\n",
       "     units:      days since 0000-01-01 00:00:00\n",
       "     calendar:   noleap\n",
       "     bounds:     time_bnds, <xarray.DataArray 'time' (time: 144)>\n",
       " array([0.      , 0.020833, 0.041667, 0.0625  , 0.083333, 0.104167, 0.125   ,\n",
       "        0.145833, 0.166667, 0.1875  , 0.208333, 0.229167, 0.25    , 0.270833,\n",
       "        0.291667, 0.3125  , 0.333333, 0.354167, 0.375   , 0.395833, 0.416667,\n",
       "        0.4375  , 0.458333, 0.479167, 0.5     , 0.520833, 0.541667, 0.5625  ,\n",
       "        0.583333, 0.604167, 0.625   , 0.645833, 0.666667, 0.6875  , 0.708333,\n",
       "        0.729167, 0.75    , 0.770833, 0.791667, 0.8125  , 0.833333, 0.854167,\n",
       "        0.875   , 0.895833, 0.916667, 0.9375  , 0.958333, 0.979167, 1.      ,\n",
       "        1.020833, 1.041667, 1.0625  , 1.083333, 1.104167, 1.125   , 1.145833,\n",
       "        1.166667, 1.1875  , 1.208333, 1.229167, 1.25    , 1.270833, 1.291667,\n",
       "        1.3125  , 1.333333, 1.354167, 1.375   , 1.395833, 1.416667, 1.4375  ,\n",
       "        1.458333, 1.479167, 1.5     , 1.520833, 1.541667, 1.5625  , 1.583333,\n",
       "        1.604167, 1.625   , 1.645833, 1.666667, 1.6875  , 1.708333, 1.729167,\n",
       "        1.75    , 1.770833, 1.791667, 1.8125  , 1.833333, 1.854167, 1.875   ,\n",
       "        1.895833, 1.916667, 1.9375  , 1.958333, 1.979167, 2.      , 2.020833,\n",
       "        2.041667, 2.0625  , 2.083333, 2.104167, 2.125   , 2.145833, 2.166667,\n",
       "        2.1875  , 2.208333, 2.229167, 2.25    , 2.270833, 2.291667, 2.3125  ,\n",
       "        2.333333, 2.354167, 2.375   , 2.395833, 2.416667, 2.4375  , 2.458333,\n",
       "        2.479167, 2.5     , 2.520833, 2.541667, 2.5625  , 2.583333, 2.604167,\n",
       "        2.625   , 2.645833, 2.666667, 2.6875  , 2.708333, 2.729167, 2.75    ,\n",
       "        2.770833, 2.791667, 2.8125  , 2.833333, 2.854167, 2.875   , 2.895833,\n",
       "        2.916667, 2.9375  , 2.958333, 2.979167])\n",
       " Coordinates:\n",
       "   * time     (time) float64 0.0 0.02083 0.04167 0.0625 0.08333 0.1042 0.125 ...\n",
       " Attributes:\n",
       "     long_name:  time\n",
       "     units:      days since 0000-01-01 00:00:00\n",
       "     calendar:   noleap\n",
       "     bounds:     time_bnds)"
      ]
     },
     "execution_count": 41,
     "metadata": {},
     "output_type": "execute_result"
    }
   ],
   "source": [
    "ds1.time, ds2.time"
   ]
  },
  {
   "cell_type": "code",
   "execution_count": 42,
   "metadata": {},
   "outputs": [],
   "source": [
    "ds1['time'] -= 100*366"
   ]
  },
  {
   "cell_type": "code",
   "execution_count": 43,
   "metadata": {},
   "outputs": [
    {
     "data": {
      "text/plain": [
       "<xarray.DataArray 'time' (time: 144)>\n",
       "array([-36600.      , -36599.979167, -36599.958333, -36599.9375  ,\n",
       "       -36599.916667, -36599.895833, -36599.875   , -36599.854167,\n",
       "       -36599.833333, -36599.8125  , -36599.791667, -36599.770833,\n",
       "       -36599.75    , -36599.729167, -36599.708333, -36599.6875  ,\n",
       "       -36599.666667, -36599.645833, -36599.625   , -36599.604167,\n",
       "       -36599.583333, -36599.5625  , -36599.541667, -36599.520833,\n",
       "       -36599.5     , -36599.479167, -36599.458333, -36599.4375  ,\n",
       "       -36599.416667, -36599.395833, -36599.375   , -36599.354167,\n",
       "       -36599.333333, -36599.3125  , -36599.291667, -36599.270833,\n",
       "       -36599.25    , -36599.229167, -36599.208333, -36599.1875  ,\n",
       "       -36599.166667, -36599.145833, -36599.125   , -36599.104167,\n",
       "       -36599.083333, -36599.0625  , -36599.041667, -36599.020833,\n",
       "       -36599.      , -36598.979167, -36598.958333, -36598.9375  ,\n",
       "       -36598.916667, -36598.895833, -36598.875   , -36598.854167,\n",
       "       -36598.833333, -36598.8125  , -36598.791667, -36598.770833,\n",
       "       -36598.75    , -36598.729167, -36598.708333, -36598.6875  ,\n",
       "       -36598.666667, -36598.645833, -36598.625   , -36598.604167,\n",
       "       -36598.583333, -36598.5625  , -36598.541667, -36598.520833,\n",
       "       -36598.5     , -36598.479167, -36598.458333, -36598.4375  ,\n",
       "       -36598.416667, -36598.395833, -36598.375   , -36598.354167,\n",
       "       -36598.333333, -36598.3125  , -36598.291667, -36598.270833,\n",
       "       -36598.25    , -36598.229167, -36598.208333, -36598.1875  ,\n",
       "       -36598.166667, -36598.145833, -36598.125   , -36598.104167,\n",
       "       -36598.083333, -36598.0625  , -36598.041667, -36598.020833,\n",
       "       -36598.      , -36597.979167, -36597.958333, -36597.9375  ,\n",
       "       -36597.916667, -36597.895833, -36597.875   , -36597.854167,\n",
       "       -36597.833333, -36597.8125  , -36597.791667, -36597.770833,\n",
       "       -36597.75    , -36597.729167, -36597.708333, -36597.6875  ,\n",
       "       -36597.666667, -36597.645833, -36597.625   , -36597.604167,\n",
       "       -36597.583333, -36597.5625  , -36597.541667, -36597.520833,\n",
       "       -36597.5     , -36597.479167, -36597.458333, -36597.4375  ,\n",
       "       -36597.416667, -36597.395833, -36597.375   , -36597.354167,\n",
       "       -36597.333333, -36597.3125  , -36597.291667, -36597.270833,\n",
       "       -36597.25    , -36597.229167, -36597.208333, -36597.1875  ,\n",
       "       -36597.166667, -36597.145833, -36597.125   , -36597.104167,\n",
       "       -36597.083333, -36597.0625  , -36597.041667, -36597.020833])\n",
       "Coordinates:\n",
       "  * time     (time) float64 -3.66e+04 -3.66e+04 -3.66e+04 -3.66e+04 ...\n",
       "Attributes:\n",
       "    long_name:  time\n",
       "    units:      days since 0000-01-01 00:00:00\n",
       "    calendar:   noleap\n",
       "    bounds:     time_bnds"
      ]
     },
     "execution_count": 43,
     "metadata": {},
     "output_type": "execute_result"
    }
   ],
   "source": [
    "ds1.time"
   ]
  },
  {
   "cell_type": "code",
   "execution_count": 44,
   "metadata": {},
   "outputs": [],
   "source": [
    "dslist = [ds1, ds2]"
   ]
  },
  {
   "cell_type": "code",
   "execution_count": 48,
   "metadata": {},
   "outputs": [
    {
     "data": {
      "text/plain": [
       "{'DTV',\n",
       " 'DTVKE',\n",
       " 'FLNS',\n",
       " 'FLNT',\n",
       " 'FSNS',\n",
       " 'FSNT',\n",
       " 'LHFLX',\n",
       " 'P0',\n",
       " 'PHCLDICE',\n",
       " 'PHCLDLIQ',\n",
       " 'PHQ',\n",
       " 'PRECC',\n",
       " 'PRECL',\n",
       " 'PRECSC',\n",
       " 'PRECSL',\n",
       " 'PRECSTEN',\n",
       " 'PRECT',\n",
       " 'PRECTEND',\n",
       " 'PS',\n",
       " 'QAP',\n",
       " 'QCAP',\n",
       " 'QIAP',\n",
       " 'SHFLX',\n",
       " 'SOLIN',\n",
       " 'TAP',\n",
       " 'TPHYSTND',\n",
       " 'TS',\n",
       " 'UAP',\n",
       " 'VAP',\n",
       " 'VD01',\n",
       " 'VPHYSTND',\n",
       " 'date',\n",
       " 'date_written',\n",
       " 'datesec',\n",
       " 'gw',\n",
       " 'hyai',\n",
       " 'hyam',\n",
       " 'hybi',\n",
       " 'hybm',\n",
       " 'mdt',\n",
       " 'nbdate',\n",
       " 'nbsec',\n",
       " 'ndbase',\n",
       " 'ndcur',\n",
       " 'nlon',\n",
       " 'nsbase',\n",
       " 'nscur',\n",
       " 'nsteph',\n",
       " 'ntrk',\n",
       " 'ntrm',\n",
       " 'ntrn',\n",
       " 'time_bnds',\n",
       " 'time_written',\n",
       " 'wnummax'}"
      ]
     },
     "execution_count": 48,
     "metadata": {},
     "output_type": "execute_result"
    }
   ],
   "source": [
    "set.intersection(*map(set,[list(ds.data_vars) for ds in dslist]))"
   ]
  },
  {
   "cell_type": "code",
   "execution_count": 47,
   "metadata": {},
   "outputs": [
    {
     "data": {
      "text/plain": [
       "['time_written',\n",
       " 'SHFLX',\n",
       " 'PHQ',\n",
       " 'PRECSL',\n",
       " 'QRL',\n",
       " 'ntrm',\n",
       " 'SOLIN',\n",
       " 'nlon',\n",
       " 'PHCLDLIQ',\n",
       " 'gw',\n",
       " 'nbdate',\n",
       " 'PRECT',\n",
       " 'QIAP',\n",
       " 'FSNS',\n",
       " 'UAP',\n",
       " 'QCAP',\n",
       " 'VD01',\n",
       " 'mdt',\n",
       " 'TW',\n",
       " 'DTVKE',\n",
       " 'ndbase',\n",
       " 'PRECSC',\n",
       " 'FLNS',\n",
       " 'DTV',\n",
       " 'date_written',\n",
       " 'ntrk',\n",
       " 'nsteph',\n",
       " 'date',\n",
       " 'PRECC',\n",
       " 'nsbase',\n",
       " 'SPDT',\n",
       " 'time_bnds',\n",
       " 'wnummax',\n",
       " 'hyam',\n",
       " 'ntrn',\n",
       " 'PRECTEND',\n",
       " 'FLUT',\n",
       " 'SPDQ',\n",
       " 'LHFLX',\n",
       " 'hybm',\n",
       " 'P0',\n",
       " 'hybi',\n",
       " 'PHCLDICE',\n",
       " 'TS',\n",
       " 'nscur',\n",
       " 'TE',\n",
       " 'TPHYSTND',\n",
       " 'VAP',\n",
       " 'QRS',\n",
       " 'FSNT',\n",
       " 'ndcur',\n",
       " 'hyai',\n",
       " 'T',\n",
       " 'nbsec',\n",
       " 'PS',\n",
       " 'PRECL',\n",
       " 'QAP',\n",
       " 'TAP',\n",
       " 'FLNT',\n",
       " 'VPHYSTND',\n",
       " 'PRECSTEN',\n",
       " 'datesec']"
      ]
     },
     "execution_count": 47,
     "metadata": {},
     "output_type": "execute_result"
    }
   ],
   "source": [
    "list(set().union(*[list(ds.data_vars) for ds in dslist]))"
   ]
  },
  {
   "cell_type": "code",
   "execution_count": 25,
   "metadata": {},
   "outputs": [],
   "source": [
    "common = [v for v in list(set(list(ds1.data_vars) + list(ds2.data_vars))) \n",
    "          if v in list(ds1.data_vars) and v in list(ds2.data_vars)]"
   ]
  },
  {
   "cell_type": "code",
   "execution_count": 27,
   "metadata": {},
   "outputs": [],
   "source": [
    "notin1 = [v for v in list(ds1.data_vars) if v not in list(ds2.data_vars)]\n",
    "notin2 = [v for v in list(ds2.data_vars) if v not in list(ds1.data_vars)]"
   ]
  },
  {
   "cell_type": "code",
   "execution_count": 28,
   "metadata": {},
   "outputs": [
    {
     "data": {
      "text/plain": [
       "(['TE', 'TW'], ['FLUT', 'QRL', 'QRS', 'SPDQ', 'SPDT', 'T'])"
      ]
     },
     "execution_count": 28,
     "metadata": {},
     "output_type": "execute_result"
    }
   ],
   "source": [
    "notin1, notin2"
   ]
  },
  {
   "cell_type": "code",
   "execution_count": 31,
   "metadata": {},
   "outputs": [],
   "source": [
    "ds1 = ds1.drop(notin1)\n",
    "ds2 = ds2.drop(notin2)"
   ]
  },
  {
   "cell_type": "code",
   "execution_count": 34,
   "metadata": {},
   "outputs": [
    {
     "data": {
      "text/plain": [
       "<xarray.Dataset>\n",
       "Dimensions:       (crm_x: 8, crm_y: 1, crm_z: 28, ilev: 31, isccp_prs: 7, isccp_prstau: 49, isccp_tau: 7, lat: 64, lev: 30, lon: 128, tbnd: 2, time: 144)\n",
       "Coordinates:\n",
       "  * lat           (lat) float64 -87.86 -85.1 -82.31 -79.53 -76.74 -73.95 ...\n",
       "  * lon           (lon) float64 0.0 2.812 5.625 8.438 11.25 14.06 16.88 ...\n",
       "  * crm_x         (crm_x) float64 0.0 4.0 8.0 12.0 16.0 20.0 24.0 28.0\n",
       "  * crm_y         (crm_y) float64 0.0\n",
       "  * crm_z         (crm_z) float64 992.6 976.3 957.5 936.2 912.6 887.0 859.5 ...\n",
       "  * lev           (lev) float64 3.643 7.595 14.36 24.61 38.27 54.6 72.01 ...\n",
       "  * ilev          (ilev) float64 2.255 5.032 10.16 18.56 30.67 45.87 63.32 ...\n",
       "  * isccp_prs     (isccp_prs) float64 90.0 245.0 375.0 500.0 620.0 740.0 900.0\n",
       "  * isccp_tau     (isccp_tau) float64 0.15 0.8 2.45 6.5 16.2 41.5 219.5\n",
       "  * isccp_prstau  (isccp_prstau) float64 90.0 90.0 90.0 90.01 90.02 90.04 ...\n",
       "  * time          (time) float64 -3.66e+04 -3.66e+04 -3.66e+04 -3.66e+04 ...\n",
       "Dimensions without coordinates: tbnd\n",
       "Data variables:\n",
       "    P0            (time) float64 1e+05 1e+05 1e+05 1e+05 1e+05 1e+05 1e+05 ...\n",
       "    time_bnds     (time, tbnd) float64 dask.array<shape=(144, 2), chunksize=(48, 2)>\n",
       "    date_written  (time) |S8 dask.array<shape=(144,), chunksize=(48,)>\n",
       "    time_written  (time) |S8 dask.array<shape=(144,), chunksize=(48,)>\n",
       "    ntrm          (time) int32 63 63 63 63 63 63 63 63 63 63 63 63 63 63 63 ...\n",
       "    ntrn          (time) int32 63 63 63 63 63 63 63 63 63 63 63 63 63 63 63 ...\n",
       "    ntrk          (time) int32 63 63 63 63 63 63 63 63 63 63 63 63 63 63 63 ...\n",
       "    ndbase        (time) int32 0 0 0 0 0 0 0 0 0 0 0 0 0 0 0 0 0 0 0 0 0 0 0 ...\n",
       "    nsbase        (time) int32 0 0 0 0 0 0 0 0 0 0 0 0 0 0 0 0 0 0 0 0 0 0 0 ...\n",
       "    nbdate        (time) int32 101 101 101 101 101 101 101 101 101 101 101 ...\n",
       "    nbsec         (time) int32 0 0 0 0 0 0 0 0 0 0 0 0 0 0 0 0 0 0 0 0 0 0 0 ...\n",
       "    mdt           (time) int32 1800 1800 1800 1800 1800 1800 1800 1800 1800 ...\n",
       "    nlon          (time, lat) int32 dask.array<shape=(144, 64), chunksize=(48, 64)>\n",
       "    wnummax       (time, lat) int32 dask.array<shape=(144, 64), chunksize=(48, 64)>\n",
       "    hyai          (time, ilev) float64 dask.array<shape=(144, 31), chunksize=(48, 31)>\n",
       "    hybi          (time, ilev) float64 dask.array<shape=(144, 31), chunksize=(48, 31)>\n",
       "    hyam          (time, lev) float64 dask.array<shape=(144, 30), chunksize=(48, 30)>\n",
       "    hybm          (time, lev) float64 dask.array<shape=(144, 30), chunksize=(48, 30)>\n",
       "    gw            (time, lat) float64 dask.array<shape=(144, 64), chunksize=(48, 64)>\n",
       "    ndcur         (time) int32 dask.array<shape=(144,), chunksize=(48,)>\n",
       "    nscur         (time) int32 dask.array<shape=(144,), chunksize=(48,)>\n",
       "    date          (time) int32 dask.array<shape=(144,), chunksize=(48,)>\n",
       "    datesec       (time) int32 dask.array<shape=(144,), chunksize=(48,)>\n",
       "    nsteph        (time) int32 dask.array<shape=(144,), chunksize=(48,)>\n",
       "    DTV           (time, lev, lat, lon) float32 dask.array<shape=(144, 30, 64, 128), chunksize=(48, 30, 64, 128)>\n",
       "    DTVKE         (time, lev, lat, lon) float32 dask.array<shape=(144, 30, 64, 128), chunksize=(48, 30, 64, 128)>\n",
       "    FLNS          (time, lat, lon) float32 dask.array<shape=(144, 64, 128), chunksize=(48, 64, 128)>\n",
       "    FLNT          (time, lat, lon) float32 dask.array<shape=(144, 64, 128), chunksize=(48, 64, 128)>\n",
       "    FSNS          (time, lat, lon) float32 dask.array<shape=(144, 64, 128), chunksize=(48, 64, 128)>\n",
       "    FSNT          (time, lat, lon) float32 dask.array<shape=(144, 64, 128), chunksize=(48, 64, 128)>\n",
       "    LHFLX         (time, lat, lon) float32 dask.array<shape=(144, 64, 128), chunksize=(48, 64, 128)>\n",
       "    PHCLDICE      (time, lev, lat, lon) float32 dask.array<shape=(144, 30, 64, 128), chunksize=(48, 30, 64, 128)>\n",
       "    PHCLDLIQ      (time, lev, lat, lon) float32 dask.array<shape=(144, 30, 64, 128), chunksize=(48, 30, 64, 128)>\n",
       "    PHQ           (time, lev, lat, lon) float32 dask.array<shape=(144, 30, 64, 128), chunksize=(48, 30, 64, 128)>\n",
       "    PRECC         (time, lat, lon) float32 dask.array<shape=(144, 64, 128), chunksize=(48, 64, 128)>\n",
       "    PRECL         (time, lat, lon) float32 dask.array<shape=(144, 64, 128), chunksize=(48, 64, 128)>\n",
       "    PRECSC        (time, lat, lon) float32 dask.array<shape=(144, 64, 128), chunksize=(48, 64, 128)>\n",
       "    PRECSL        (time, lat, lon) float32 dask.array<shape=(144, 64, 128), chunksize=(48, 64, 128)>\n",
       "    PRECSTEN      (time, lat, lon) float32 dask.array<shape=(144, 64, 128), chunksize=(48, 64, 128)>\n",
       "    PRECT         (time, lat, lon) float32 dask.array<shape=(144, 64, 128), chunksize=(48, 64, 128)>\n",
       "    PRECTEND      (time, lat, lon) float32 dask.array<shape=(144, 64, 128), chunksize=(48, 64, 128)>\n",
       "    PS            (time, lat, lon) float32 dask.array<shape=(144, 64, 128), chunksize=(48, 64, 128)>\n",
       "    QAP           (time, lev, lat, lon) float32 dask.array<shape=(144, 30, 64, 128), chunksize=(48, 30, 64, 128)>\n",
       "    QCAP          (time, lev, lat, lon) float32 dask.array<shape=(144, 30, 64, 128), chunksize=(48, 30, 64, 128)>\n",
       "    QIAP          (time, lev, lat, lon) float32 dask.array<shape=(144, 30, 64, 128), chunksize=(48, 30, 64, 128)>\n",
       "    SHFLX         (time, lat, lon) float32 dask.array<shape=(144, 64, 128), chunksize=(48, 64, 128)>\n",
       "    SOLIN         (time, lat, lon) float32 dask.array<shape=(144, 64, 128), chunksize=(48, 64, 128)>\n",
       "    TAP           (time, lev, lat, lon) float32 dask.array<shape=(144, 30, 64, 128), chunksize=(48, 30, 64, 128)>\n",
       "    TPHYSTND      (time, lev, lat, lon) float32 dask.array<shape=(144, 30, 64, 128), chunksize=(48, 30, 64, 128)>\n",
       "    TS            (time, lat, lon) float32 dask.array<shape=(144, 64, 128), chunksize=(48, 64, 128)>\n",
       "    UAP           (time, lev, lat, lon) float32 dask.array<shape=(144, 30, 64, 128), chunksize=(48, 30, 64, 128)>\n",
       "    VAP           (time, lev, lat, lon) float32 dask.array<shape=(144, 30, 64, 128), chunksize=(48, 30, 64, 128)>\n",
       "    VD01          (time, lev, lat, lon) float32 dask.array<shape=(144, 30, 64, 128), chunksize=(48, 30, 64, 128)>\n",
       "    VPHYSTND      (time, lev, lat, lon) float32 dask.array<shape=(144, 30, 64, 128), chunksize=(48, 30, 64, 128)>\n",
       "Attributes:\n",
       "    Conventions:  CF-1.0\n",
       "    source:       CAM\n",
       "    case:         sp8fbp_4k\n",
       "    title:        \n",
       "    logname:      tg847872\n",
       "    host:         \n",
       "    Version:      $Name:  $\n",
       "    revision_Id:  $Id: history.F90,v 1.26.2.38 2003/12/15 18:52:35 hender Exp $"
      ]
     },
     "execution_count": 34,
     "metadata": {},
     "output_type": "execute_result"
    }
   ],
   "source": [
    "ds1.drop([])"
   ]
  },
  {
   "cell_type": "code",
   "execution_count": 32,
   "metadata": {},
   "outputs": [],
   "source": [
    "ds3 = xr.concat([ds1, ds2], dim='time')"
   ]
  },
  {
   "cell_type": "code",
   "execution_count": 33,
   "metadata": {},
   "outputs": [
    {
     "data": {
      "text/plain": [
       "<xarray.Dataset>\n",
       "Dimensions:       (crm_x: 8, crm_y: 1, crm_z: 28, ilev: 31, isccp_prs: 7, isccp_prstau: 49, isccp_tau: 7, lat: 64, lev: 30, lon: 128, tbnd: 2, time: 288)\n",
       "Coordinates:\n",
       "  * lat           (lat) float64 -87.86 -85.1 -82.31 -79.53 -76.74 -73.95 ...\n",
       "  * lon           (lon) float64 0.0 2.812 5.625 8.438 11.25 14.06 16.88 ...\n",
       "  * crm_x         (crm_x) float64 0.0 4.0 8.0 12.0 16.0 20.0 24.0 28.0\n",
       "  * crm_y         (crm_y) float64 0.0\n",
       "  * crm_z         (crm_z) float64 992.6 976.3 957.5 936.2 912.6 887.0 859.5 ...\n",
       "  * lev           (lev) float64 3.643 7.595 14.36 24.61 38.27 54.6 72.01 ...\n",
       "  * ilev          (ilev) float64 2.255 5.032 10.16 18.56 30.67 45.87 63.32 ...\n",
       "  * isccp_prs     (isccp_prs) float64 90.0 245.0 375.0 500.0 620.0 740.0 900.0\n",
       "  * isccp_tau     (isccp_tau) float64 0.15 0.8 2.45 6.5 16.2 41.5 219.5\n",
       "  * isccp_prstau  (isccp_prstau) float64 90.0 90.0 90.0 90.01 90.02 90.04 ...\n",
       "  * time          (time) float64 -3.66e+04 -3.66e+04 -3.66e+04 -3.66e+04 ...\n",
       "Dimensions without coordinates: tbnd\n",
       "Data variables:\n",
       "    P0            (time) float64 1e+05 1e+05 1e+05 1e+05 1e+05 1e+05 1e+05 ...\n",
       "    time_bnds     (time, tbnd) float64 dask.array<shape=(288, 2), chunksize=(48, 2)>\n",
       "    date_written  (time) |S8 dask.array<shape=(288,), chunksize=(48,)>\n",
       "    time_written  (time) |S8 dask.array<shape=(288,), chunksize=(48,)>\n",
       "    ntrm          (time) int32 63 63 63 63 63 63 63 63 63 63 63 63 63 63 63 ...\n",
       "    ntrn          (time) int32 63 63 63 63 63 63 63 63 63 63 63 63 63 63 63 ...\n",
       "    ntrk          (time) int32 63 63 63 63 63 63 63 63 63 63 63 63 63 63 63 ...\n",
       "    ndbase        (time) int32 0 0 0 0 0 0 0 0 0 0 0 0 0 0 0 0 0 0 0 0 0 0 0 ...\n",
       "    nsbase        (time) int32 0 0 0 0 0 0 0 0 0 0 0 0 0 0 0 0 0 0 0 0 0 0 0 ...\n",
       "    nbdate        (time) int32 101 101 101 101 101 101 101 101 101 101 101 ...\n",
       "    nbsec         (time) int32 0 0 0 0 0 0 0 0 0 0 0 0 0 0 0 0 0 0 0 0 0 0 0 ...\n",
       "    mdt           (time) int32 1800 1800 1800 1800 1800 1800 1800 1800 1800 ...\n",
       "    nlon          (time, lat) int32 dask.array<shape=(288, 64), chunksize=(48, 64)>\n",
       "    wnummax       (time, lat) int32 dask.array<shape=(288, 64), chunksize=(48, 64)>\n",
       "    hyai          (time, ilev) float64 dask.array<shape=(288, 31), chunksize=(48, 31)>\n",
       "    hybi          (time, ilev) float64 dask.array<shape=(288, 31), chunksize=(48, 31)>\n",
       "    hyam          (time, lev) float64 dask.array<shape=(288, 30), chunksize=(48, 30)>\n",
       "    hybm          (time, lev) float64 dask.array<shape=(288, 30), chunksize=(48, 30)>\n",
       "    gw            (time, lat) float64 dask.array<shape=(288, 64), chunksize=(48, 64)>\n",
       "    ndcur         (time) int32 dask.array<shape=(288,), chunksize=(48,)>\n",
       "    nscur         (time) int32 dask.array<shape=(288,), chunksize=(48,)>\n",
       "    date          (time) int32 dask.array<shape=(288,), chunksize=(48,)>\n",
       "    datesec       (time) int32 dask.array<shape=(288,), chunksize=(48,)>\n",
       "    nsteph        (time) int32 dask.array<shape=(288,), chunksize=(48,)>\n",
       "    DTV           (time, lev, lat, lon) float32 dask.array<shape=(288, 30, 64, 128), chunksize=(48, 30, 64, 128)>\n",
       "    DTVKE         (time, lev, lat, lon) float32 dask.array<shape=(288, 30, 64, 128), chunksize=(48, 30, 64, 128)>\n",
       "    FLNS          (time, lat, lon) float32 dask.array<shape=(288, 64, 128), chunksize=(48, 64, 128)>\n",
       "    FLNT          (time, lat, lon) float32 dask.array<shape=(288, 64, 128), chunksize=(48, 64, 128)>\n",
       "    FSNS          (time, lat, lon) float32 dask.array<shape=(288, 64, 128), chunksize=(48, 64, 128)>\n",
       "    FSNT          (time, lat, lon) float32 dask.array<shape=(288, 64, 128), chunksize=(48, 64, 128)>\n",
       "    LHFLX         (time, lat, lon) float32 dask.array<shape=(288, 64, 128), chunksize=(48, 64, 128)>\n",
       "    PHCLDICE      (time, lev, lat, lon) float32 dask.array<shape=(288, 30, 64, 128), chunksize=(48, 30, 64, 128)>\n",
       "    PHCLDLIQ      (time, lev, lat, lon) float32 dask.array<shape=(288, 30, 64, 128), chunksize=(48, 30, 64, 128)>\n",
       "    PHQ           (time, lev, lat, lon) float32 dask.array<shape=(288, 30, 64, 128), chunksize=(48, 30, 64, 128)>\n",
       "    PRECC         (time, lat, lon) float32 dask.array<shape=(288, 64, 128), chunksize=(48, 64, 128)>\n",
       "    PRECL         (time, lat, lon) float32 dask.array<shape=(288, 64, 128), chunksize=(48, 64, 128)>\n",
       "    PRECSC        (time, lat, lon) float32 dask.array<shape=(288, 64, 128), chunksize=(48, 64, 128)>\n",
       "    PRECSL        (time, lat, lon) float32 dask.array<shape=(288, 64, 128), chunksize=(48, 64, 128)>\n",
       "    PRECSTEN      (time, lat, lon) float32 dask.array<shape=(288, 64, 128), chunksize=(48, 64, 128)>\n",
       "    PRECT         (time, lat, lon) float32 dask.array<shape=(288, 64, 128), chunksize=(48, 64, 128)>\n",
       "    PRECTEND      (time, lat, lon) float32 dask.array<shape=(288, 64, 128), chunksize=(48, 64, 128)>\n",
       "    PS            (time, lat, lon) float32 dask.array<shape=(288, 64, 128), chunksize=(48, 64, 128)>\n",
       "    QAP           (time, lev, lat, lon) float32 dask.array<shape=(288, 30, 64, 128), chunksize=(48, 30, 64, 128)>\n",
       "    QCAP          (time, lev, lat, lon) float32 dask.array<shape=(288, 30, 64, 128), chunksize=(48, 30, 64, 128)>\n",
       "    QIAP          (time, lev, lat, lon) float32 dask.array<shape=(288, 30, 64, 128), chunksize=(48, 30, 64, 128)>\n",
       "    SHFLX         (time, lat, lon) float32 dask.array<shape=(288, 64, 128), chunksize=(48, 64, 128)>\n",
       "    SOLIN         (time, lat, lon) float32 dask.array<shape=(288, 64, 128), chunksize=(48, 64, 128)>\n",
       "    TAP           (time, lev, lat, lon) float32 dask.array<shape=(288, 30, 64, 128), chunksize=(48, 30, 64, 128)>\n",
       "    TPHYSTND      (time, lev, lat, lon) float32 dask.array<shape=(288, 30, 64, 128), chunksize=(48, 30, 64, 128)>\n",
       "    TS            (time, lat, lon) float32 dask.array<shape=(288, 64, 128), chunksize=(48, 64, 128)>\n",
       "    UAP           (time, lev, lat, lon) float32 dask.array<shape=(288, 30, 64, 128), chunksize=(48, 30, 64, 128)>\n",
       "    VAP           (time, lev, lat, lon) float32 dask.array<shape=(288, 30, 64, 128), chunksize=(48, 30, 64, 128)>\n",
       "    VD01          (time, lev, lat, lon) float32 dask.array<shape=(288, 30, 64, 128), chunksize=(48, 30, 64, 128)>\n",
       "    VPHYSTND      (time, lev, lat, lon) float32 dask.array<shape=(288, 30, 64, 128), chunksize=(48, 30, 64, 128)>\n",
       "Attributes:\n",
       "    Conventions:  CF-1.0\n",
       "    source:       CAM\n",
       "    case:         sp8fbp_4k\n",
       "    title:        \n",
       "    logname:      tg847872\n",
       "    host:         \n",
       "    Version:      $Name:  $\n",
       "    revision_Id:  $Id: history.F90,v 1.26.2.38 2003/12/15 18:52:35 hender Exp $"
      ]
     },
     "execution_count": 33,
     "metadata": {},
     "output_type": "execute_result"
    }
   ],
   "source": [
    "ds3"
   ]
  },
  {
   "cell_type": "code",
   "execution_count": null,
   "metadata": {},
   "outputs": [],
   "source": []
  }
 ],
 "metadata": {
  "kernelspec": {
   "display_name": "Python 3",
   "language": "python",
   "name": "python3"
  },
  "language_info": {
   "codemirror_mode": {
    "name": "ipython",
    "version": 3
   },
   "file_extension": ".py",
   "mimetype": "text/x-python",
   "name": "python",
   "nbconvert_exporter": "python",
   "pygments_lexer": "ipython3",
   "version": "3.6.4"
  },
  "toc": {
   "nav_menu": {},
   "number_sections": true,
   "sideBar": true,
   "skip_h1_title": true,
   "title_cell": "Table of Contents",
   "title_sidebar": "Contents",
   "toc_cell": false,
   "toc_position": {},
   "toc_section_display": true,
   "toc_window_display": false
  }
 },
 "nbformat": 4,
 "nbformat_minor": 2
}
