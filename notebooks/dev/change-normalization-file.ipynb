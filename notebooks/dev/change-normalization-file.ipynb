{
 "cells": [
  {
   "cell_type": "markdown",
   "metadata": {
    "toc": true
   },
   "source": [
    "<h1>Table of Contents<span class=\"tocSkip\"></span></h1>\n",
    "<div class=\"toc\"><ul class=\"toc-item\"></ul></div>"
   ]
  },
  {
   "cell_type": "code",
   "execution_count": 1,
   "metadata": {},
   "outputs": [],
   "source": [
    "import xarray as xr\n",
    "import numpy as np\n",
    "import matplotlib.pyplot as plt\n",
    "%matplotlib inline"
   ]
  },
  {
   "cell_type": "code",
   "execution_count": 2,
   "metadata": {},
   "outputs": [],
   "source": [
    "norm_fn = '/local/S.Rasp/preprocessed_data/fbp_engy_ess_ref_train_sample1_norm.nc'"
   ]
  },
  {
   "cell_type": "code",
   "execution_count": 3,
   "metadata": {},
   "outputs": [],
   "source": [
    "norm = xr.open_dataset(norm_fn)"
   ]
  },
  {
   "cell_type": "code",
   "execution_count": 4,
   "metadata": {},
   "outputs": [
    {
     "data": {
      "text/plain": [
       "<xarray.Dataset>\n",
       "Dimensions:              (feature_lev: 94, target_lev: 65)\n",
       "Coordinates:\n",
       "  * feature_lev          (feature_lev) int64 0 1 2 3 4 5 6 7 8 9 10 11 12 13 ...\n",
       "  * target_lev           (target_lev) int64 0 1 2 3 4 5 6 7 8 9 10 11 12 13 ...\n",
       "Data variables:\n",
       "    feature_means        (feature_lev) float32 ...\n",
       "    feature_stds         (feature_lev) float32 ...\n",
       "    feature_mins         (feature_lev) float32 ...\n",
       "    feature_maxs         (feature_lev) float32 ...\n",
       "    target_means         (target_lev) float32 ...\n",
       "    target_stds          (target_lev) float32 ...\n",
       "    target_mins          (target_lev) float32 ...\n",
       "    target_maxs          (target_lev) float32 ...\n",
       "    feature_names        (feature_lev) object ...\n",
       "    target_names         (target_lev) object ...\n",
       "    feature_stds_by_var  (feature_lev) float32 ...\n",
       "    target_conv          (target_lev) float32 ...\n",
       "Attributes:\n",
       "    log:      \\n    Time: 2018-05-06T14:01:56\\n\\n    Executed command:\\n\\n   ..."
      ]
     },
     "execution_count": 4,
     "metadata": {},
     "output_type": "execute_result"
    }
   ],
   "source": [
    "norm"
   ]
  },
  {
   "cell_type": "code",
   "execution_count": 5,
   "metadata": {},
   "outputs": [
    {
     "data": {
      "text/plain": [
       "<xarray.DataArray 'target_conv' (target_lev: 65)>\n",
       "array([ 1.00464e+03,  1.00464e+03,  1.00464e+03,  1.00464e+03,  1.00464e+03,\n",
       "        1.00464e+03,  1.00464e+03,  1.00464e+03,  1.00464e+03,  1.00464e+03,\n",
       "        1.00464e+03,  1.00464e+03,  1.00464e+03,  1.00464e+03,  1.00464e+03,\n",
       "        1.00464e+03,  1.00464e+03,  1.00464e+03,  1.00464e+03,  1.00464e+03,\n",
       "        1.00464e+03,  1.00464e+03,  1.00464e+03,  1.00464e+03,  1.00464e+03,\n",
       "        1.00464e+03,  1.00464e+03,  1.00464e+03,  1.00464e+03,  1.00464e+03,\n",
       "        2.83470e+06,  2.83470e+06,  2.83470e+06,  2.83470e+06,  2.83470e+06,\n",
       "        2.83470e+06,  2.83470e+06,  2.83470e+06,  2.83470e+06,  2.83470e+06,\n",
       "        2.83470e+06,  2.83470e+06,  2.83470e+06,  2.83470e+06,  2.83470e+06,\n",
       "        2.83470e+06,  2.83470e+06,  2.83470e+06,  2.83470e+06,  2.83470e+06,\n",
       "        2.83470e+06,  2.83470e+06,  2.83470e+06,  2.83470e+06,  2.83470e+06,\n",
       "        2.83470e+06,  2.83470e+06,  2.83470e+06,  2.83470e+06,  2.83470e+06,\n",
       "        1.00000e-03, -1.00000e-03, -1.00000e-03,  1.00000e-03,  1.72800e+06],\n",
       "      dtype=float32)\n",
       "Coordinates:\n",
       "  * target_lev  (target_lev) int64 0 1 2 3 4 5 6 7 8 9 10 11 12 13 14 15 16 ..."
      ]
     },
     "execution_count": 5,
     "metadata": {},
     "output_type": "execute_result"
    }
   ],
   "source": [
    "norm['target_conv']"
   ]
  },
  {
   "cell_type": "code",
   "execution_count": 6,
   "metadata": {},
   "outputs": [
    {
     "data": {
      "text/plain": [
       "<xarray.DataArray 'target_stds' (target_lev: 65)>\n",
       "array([4.222092e-05, 3.054340e-05, 3.381253e-05, 2.451552e-05, 8.957083e-06,\n",
       "       6.645331e-06, 6.468793e-06, 9.915496e-06, 1.091423e-05, 1.223686e-05,\n",
       "       1.381294e-05, 1.731757e-05, 2.093899e-05, 2.516005e-05, 3.427438e-05,\n",
       "       4.587084e-05, 5.748007e-05, 6.356157e-05, 6.572238e-05, 6.707018e-05,\n",
       "       6.800402e-05, 7.491145e-05, 7.994581e-05, 8.300694e-05, 7.386160e-05,\n",
       "       6.395006e-05, 5.364083e-05, 4.733973e-05, 4.832533e-05, 6.347254e-05,\n",
       "       0.000000e+00, 0.000000e+00, 1.491135e-12, 8.110661e-13, 3.404944e-13,\n",
       "       3.700434e-12, 2.671416e-12, 4.489682e-12, 1.811464e-11, 6.524220e-11,\n",
       "       2.124115e-10, 6.330181e-10, 1.734122e-09, 4.202714e-09, 8.210532e-09,\n",
       "       1.293397e-08, 1.820800e-08, 2.181663e-08, 2.481340e-08, 2.913694e-08,\n",
       "       3.655530e-08, 4.871007e-08, 6.128263e-08, 7.587361e-08, 7.839297e-08,\n",
       "       7.974870e-08, 7.604952e-08, 6.805428e-08, 6.973346e-08, 9.301567e-08,\n",
       "       3.257105e+02, 2.506800e+02, 4.630025e+01, 2.774295e+01, 1.113590e-07],\n",
       "      dtype=float32)\n",
       "Coordinates:\n",
       "  * target_lev  (target_lev) int64 0 1 2 3 4 5 6 7 8 9 10 11 12 13 14 15 16 ..."
      ]
     },
     "execution_count": 6,
     "metadata": {},
     "output_type": "execute_result"
    }
   ],
   "source": [
    "norm['target_stds']"
   ]
  },
  {
   "cell_type": "code",
   "execution_count": 7,
   "metadata": {},
   "outputs": [],
   "source": [
    "tmp = norm['target_conv'] * norm['target_stds']"
   ]
  },
  {
   "cell_type": "code",
   "execution_count": 8,
   "metadata": {},
   "outputs": [
    {
     "data": {
      "text/plain": [
       "<BarContainer object of 65 artists>"
      ]
     },
     "execution_count": 8,
     "metadata": {},
     "output_type": "execute_result"
    },
    {
     "data": {
      "image/png": "[encoded data removed]",
      "text/plain": [
       "<Figure size 432x288 with 1 Axes>"
      ]
     },
     "metadata": {},
     "output_type": "display_data"
    }
   ],
   "source": [
    "plt.bar(range(65), np.abs(tmp))"
   ]
  },
  {
   "cell_type": "code",
   "execution_count": 9,
   "metadata": {},
   "outputs": [],
   "source": [
    "norm['target_conv'][-5:-1] /= 5"
   ]
  },
  {
   "cell_type": "code",
   "execution_count": 10,
   "metadata": {},
   "outputs": [],
   "source": [
    "norm['target_conv'][-1] /= 5"
   ]
  },
  {
   "cell_type": "code",
   "execution_count": 11,
   "metadata": {},
   "outputs": [
    {
     "data": {
      "text/plain": [
       "<BarContainer object of 65 artists>"
      ]
     },
     "execution_count": 11,
     "metadata": {},
     "output_type": "execute_result"
    },
    {
     "data": {
      "image/png": "[encoded data removed]",
      "text/plain": [
       "<Figure size 432x288 with 1 Axes>"
      ]
     },
     "metadata": {},
     "output_type": "display_data"
    }
   ],
   "source": [
    "plt.bar(range(65), np.abs(norm['target_conv'] * norm['target_stds']))"
   ]
  },
  {
   "cell_type": "code",
   "execution_count": 12,
   "metadata": {},
   "outputs": [],
   "source": [
    "norm.to_netcdf('/local/S.Rasp/preprocessed_data/fbp_engy_ess_ref_train_sample1_norm_small_fluxes2.nc')"
   ]
  },
  {
   "cell_type": "code",
   "execution_count": 13,
   "metadata": {},
   "outputs": [],
   "source": [
    "norm.close()"
   ]
  },
  {
   "cell_type": "code",
   "execution_count": null,
   "metadata": {},
   "outputs": [],
   "source": []
  }
 ],
 "metadata": {
  "kernelspec": {
   "display_name": "Python 3",
   "language": "python",
   "name": "python3"
  },
  "language_info": {
   "codemirror_mode": {
    "name": "ipython",
    "version": 3
   },
   "file_extension": ".py",
   "mimetype": "text/x-python",
   "name": "python",
   "nbconvert_exporter": "python",
   "pygments_lexer": "ipython3",
   "version": "3.6.5"
  },
  "toc": {
   "base_numbering": 1,
   "nav_menu": {},
   "number_sections": true,
   "sideBar": true,
   "skip_h1_title": true,
   "title_cell": "Table of Contents",
   "title_sidebar": "Contents",
   "toc_cell": true,
   "toc_position": {},
   "toc_section_display": true,
   "toc_window_display": false
  }
 },
 "nbformat": 4,
 "nbformat_minor": 2
}
