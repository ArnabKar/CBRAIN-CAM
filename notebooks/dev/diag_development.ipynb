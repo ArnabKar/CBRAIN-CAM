{
 "cells": [
  {
   "cell_type": "code",
   "execution_count": 1,
   "metadata": {},
   "outputs": [],
   "source": [
    "%load_ext autoreload\n",
    "%autoreload 2\n",
    "%matplotlib inline"
   ]
  },
  {
   "cell_type": "code",
   "execution_count": 2,
   "metadata": {},
   "outputs": [
    {
     "name": "stderr",
     "output_type": "stream",
     "text": [
      "/export/home/srasp/anaconda3/lib/python3.6/site-packages/h5py/__init__.py:36: FutureWarning: Conversion of the second argument of issubdtype from `float` to `np.floating` is deprecated. In future, it will be treated as `np.float64 == np.dtype(float).type`.\n",
      "  from ._conv import register_converters as _register_converters\n",
      "Using TensorFlow backend.\n"
     ]
    }
   ],
   "source": [
    "from cbrain.imports import *\n",
    "sys.path.append('../../../CBRAIN_TF/')"
   ]
  },
  {
   "cell_type": "markdown",
   "metadata": {},
   "source": [
    "## New unified class"
   ]
  },
  {
   "cell_type": "code",
   "execution_count": 188,
   "metadata": {},
   "outputs": [],
   "source": [
    "range_dict = {\n",
    "    'SPDT': [-5e-4, 5e-4],\n",
    "    'SPDQ': [-5e-7, 5e-7],\n",
    "    'QRL': [-2e-4, 2e-4],\n",
    "    'QRS': [-1.2e-4, 1.2e-4],\n",
    "    'TPHYSTND_NORAD': [-5e-4, 5e-4],\n",
    "    'PHQ': [-5e-7, 5e-7],\n",
    "}"
   ]
  },
  {
   "cell_type": "code",
   "execution_count": 258,
   "metadata": {},
   "outputs": [],
   "source": [
    "class ModelDiagnostics(object):\n",
    "    \"\"\"\n",
    "    Two basic functionalities:\n",
    "    1. Plotting --> need preds and truth of selected time step in original values for one var\n",
    "    2. Global statistics --> also from denormalized values\n",
    "    \n",
    "    Differences between TF and Keras:\n",
    "    1. Data loading: For Keras I will use my data_generator (much faster), \n",
    "                     for TF I will read and process the raw aqua files\n",
    "    2. Output normalization\n",
    "    3. Output shape: 1D for Keras, 2D for TF --> Use TF convention\n",
    "    NOTE: This cannot handle outputs with one level.\n",
    "    \"\"\"\n",
    "    def __init__(self, is_tf, model_path, \n",
    "                 k_fpath=None, k_tpath=None, k_npath=None, k_norms=None,\n",
    "                 tf_filepattern=None, tf_fvars=None, tf_tvars=None, tf_meanpath=None, \n",
    "                 tf_stdpath=None, nlat=64, nlon=128, nlev=30, ntime=48):\n",
    "        # Basic setup\n",
    "        self.is_tf = is_tf; self.is_k = not is_tf\n",
    "        self.model = keras.models.load_model(model_path, custom_objects={\"tf\": tf})\n",
    "        self.nlat, self.nlon, self.nlev = (nlat, nlon, nlev)\n",
    "        self.ngeo = nlat * nlon\n",
    "        self.ntime = ntime\n",
    "        # Get variable names and open arrays\n",
    "        if self.is_k: \n",
    "            self.k_norm = h5py.File(k_npath, 'r')\n",
    "            self._get_k_norm_arrs(*k_norms)\n",
    "            self.k_features = h5py.File(k_fpath, 'r')\n",
    "            self.k_targets = h5py.File(k_tpath, 'r')\n",
    "            self.fvars, self.tvars = self._get_k_vars()\n",
    "        else:\n",
    "            self.fvars, self.tvars = (tf_fvars, tf_tvars)\n",
    "            self.tf_mean, self.tf_std = (nc.Dataset(tf_meanpath), nc.Dataset(tf_stdpath))\n",
    "            self.tf_files = sorted(glob(tf_filepattern))\n",
    "    \n",
    "    # Init helper functions\n",
    "    def _get_k_vars(self):\n",
    "        \"\"\"\n",
    "        Return unique variable names for features and targets in correct order.\n",
    "        \"\"\"\n",
    "        return [list(dict.fromkeys(\n",
    "            [f.split('_lev')[0] for f in list(self.k_norm[f'{a}_names'][:])]\n",
    "            )) for a in ['feature', 'target']]\n",
    "    \n",
    "    def _get_k_norm_arrs(self, fsub, fdiv, tsub, tmult):\n",
    "        \"\"\"\n",
    "        Allocate normalization arrays for keras.\n",
    "        \"\"\"\n",
    "        self.fsub = 0. if fsub is None else self.k_norm[fsub]\n",
    "        if fdiv is None: self.fdiv = 1.\n",
    "        elif fdiv == 'range': \n",
    "            self.fdiv = self.k_norm['feature_maxs'] - self.k_norm['feature_mins']\n",
    "        elif fdiv == 'max_rs': self.fdiv = np.maximum(\n",
    "            self.k_norm['feature_maxs'][:] - self.k_norm['feature_mins'][:],\n",
    "            self.k_norm['feature_stds_by_var'])\n",
    "        else: self.fdiv = self.k_norm['fdiv']\n",
    "        self.tsub = 0. if tsub is None else self.k_norm[tsub]\n",
    "        self.tmult = 1. if fsub is None else self.k_norm[tmult]\n",
    "    \n",
    "    \n",
    "    def get_pt(self, itime, var=None):\n",
    "        \"\"\"\n",
    "        Returns denormalized predictions and truth for a given time step and var.\n",
    "        [lat, lon, lev] or [lat, lon, var, lev] if var is None\n",
    "        \"\"\"\n",
    "        if self.is_k: p, t = self._get_k_pt(itime, var)\n",
    "        else: p, t = self._get_tf_pt(itime, var)\n",
    "        return p, t\n",
    "    \n",
    "    def _get_k_pt(self, itime, var=None):\n",
    "        \"\"\"Keras version\"\"\"\n",
    "        f = (self.k_features['features'][itime*self.ngeo:(itime+1)*self.ngeo] -\n",
    "             self.fsub) / self.fdiv\n",
    "        p = self.model.predict_on_batch(f) / self.tmult + self.tsub\n",
    "        t = self.k_targets['targets'][itime*self.ngeo:(itime+1)*self.ngeo]\n",
    "        # At this stage they have shape [ngeo, stacked_levs]\n",
    "        return self._k_reshape(p, var), self._k_reshape(t, var)\n",
    "    \n",
    "    def _get_tf_pt(self, itime=None, var=None, idate=None):\n",
    "        \"\"\"Tensorflow version\n",
    "        If idate is given, instead of itime, return the entire file\n",
    "        \"\"\"\n",
    "        if idate is None:\n",
    "            idate = itime // self.ntime; itime_tmp = itime % self.ntime\n",
    "        else: itime_tmp = None\n",
    "        f = self._get_tf_f_or_t(idate, itime_tmp, 'f')\n",
    "        p = self.model.predict_on_batch(f)\n",
    "        t = self._get_tf_f_or_t(idate, itime_tmp, 't', normalize=False)\n",
    "        p, t = (self._tf_reshape(p), self._tf_reshape(t))\n",
    "        if var is None:\n",
    "            return self._tf_denorm(p), t\n",
    "        else:\n",
    "            var_idx = self.tvars.index(var)\n",
    "            return self._tf_denorm(p)[..., var_idx, :], t[..., var_idx, :]\n",
    "        \n",
    "    def _k_reshape(self, x, var=None):\n",
    "        \"\"\"For targets only atm.\n",
    "        [ngeo, stacked_levs] --> [lat, lon, var, lev]\n",
    "        Select var if not None.\n",
    "        \"\"\"\n",
    "        x = x.reshape(self.nlat, self.nlon, -1, self.nlev)\n",
    "        if var is not None: x = x[:, :, self.tvars.index(var), :]\n",
    "        return x\n",
    "    \n",
    "    def _tf_reshape(self, x):\n",
    "        \"\"\"[ngeo, var, nlev] -- > [lat, lon, var, lev]\n",
    "        or [ngeo*ntime, var, nlev] --> [ntime, lat, lon, var, lev]\n",
    "        \"\"\"\n",
    "        ntar = len(self.tvars)\n",
    "        if x.shape[0] == self.ngeo:\n",
    "            return x.reshape(self.nlat, self.nlon, ntar, self.nlev)[:, :, :, ::-1]\n",
    "        else:\n",
    "            return x.reshape(self.ntime, self.nlat, self.nlon, ntar, self.nlev)[:, :, :, ::-1]\n",
    "    \n",
    "    def _get_tf_f_or_t(self, idate, itime, f_or_t, normalize=True):\n",
    "        with nc.Dataset(self.tf_files[idate], 'r') as ds:\n",
    "            arr = []\n",
    "            vars = self.fvars if f_or_t == 'f' else self.tvars\n",
    "            for var in vars:\n",
    "                da = ds[var][:]\n",
    "                if normalize: da = (da - self.tf_mean[var][:]) / self.tf_std[var][:]\n",
    "                if da.ndim == 4:   # 3D variables [time, lev, lat, lon] --> [sample, lev]\n",
    "                    a = np.rollaxis(da, 1, 4).reshape(-1, self.nlev)\n",
    "                elif da.ndim == 3:   # 2D variables [time, lat, lon]\n",
    "                    a = np.rollaxis(np.tile(da.reshape(-1), (self.nlev, 1)), 0, 2)\n",
    "                elif da.ndim == 1:   # lat\n",
    "                    a = np.rollaxis(np.tile(da, (self.ntime, self.nlev, self.nlon, 1)), \n",
    "                                    1, 4).reshape(-1, self.nlev)\n",
    "                else:\n",
    "                    raise Exception('Incompatible number of dimensions')\n",
    "                arr.append(a)\n",
    "            arr = np.expand_dims(np.rollaxis(np.array(arr), 0, 2), 3) # [sample, feature, lev, 1]\n",
    "        arr =  arr[:, :, -self.nlev:][:, :, ::-1]\n",
    "        if itime is not None: arr = arr[itime*self.ngeo:(itime+1)*self.ngeo]\n",
    "        return arr\n",
    "    \n",
    "    def _tf_denorm(self, x, f_or_t='t'):\n",
    "        for i, var in enumerate(self.fvars if f_or_t == 'f' else self.tvars):\n",
    "            m, s = [np.rollaxis(ds[var][-self.nlev:], 0, 3) \n",
    "                    for ds in [self.tf_mean, self.tf_std]]\n",
    "            x[..., i, :] = x[..., i, :] * s + m\n",
    "        return x\n",
    "    \n",
    "    # Plotting functions\n",
    "    def plot_double_xy(self, itime, ilev, var, **kwargs):\n",
    "        p, t = self.get_pt(itime, var)\n",
    "        self._plot_double_slice(p[:, :, ilev], t[:, :, ilev], **kwargs)\n",
    "        \n",
    "    def plot_double_yz(self, itime, ilon, var, **kwargs):\n",
    "        p, t = self.get_pt(itime, var)\n",
    "        self._plot_double_slice(p[:, ilon, :].T, t[:, ilon, :].T, **kwargs)\n",
    "        \n",
    "    def _plot_double_slice(self, p, t, unit='', **kwargs):\n",
    "        fig, axes = plt.subplots(1, 2, figsize=(12, 5))\n",
    "        I1 = axes[0].imshow(t, **kwargs)\n",
    "        I2 = axes[1].imshow(p, **kwargs)\n",
    "        cb1 = fig.colorbar(I1, ax=axes[0], orientation='horizontal')\n",
    "        cb2 = fig.colorbar(I2, ax=axes[1], orientation='horizontal')\n",
    "        cb1.set_label(unit); cb2.set_label(unit)\n",
    "        axes[0].set_title('CBRAIN Predictions')\n",
    "        axes[1].set_title('SP-CAM Truth')\n",
    "        plt.show()\n",
    "    \n",
    "    # Statistics computation\n",
    "    def compute_stats(self, niter=None):\n",
    "        if self.is_k: nt = self.k_features['features'].shape[0] / self.ngeo\n",
    "        else: nt = len(self.tf_files) * self.ntime\n",
    "        if niter is not None: nt = niter\n",
    "        # Allocate stats arrays\n",
    "        psum = np.zeros((self.nlat, self.nlon, len(self.tvars), self.nlev))\n",
    "        tsum = np.copy(psum); sse = np.copy(psum)\n",
    "        psqsum = np.copy(psum); tsqsum = np.copy(psum)\n",
    "        for itime in tqdm(range(nt)):\n",
    "            if self.is_k:\n",
    "                t, p = self.get_pt(itime)   # [lat, lon, var, lev]\n",
    "            else:   # For TF load entire aqua file at once!\n",
    "                itmp = itime % self.ntime; idate = itime // self.ntime\n",
    "                if itmp == 0:\n",
    "                    tday, pday = self._get_tf_pt(idate=idate)\n",
    "                t, p = (tday[itmp], pday[itmp])\n",
    "            # Compute statistics\n",
    "            psum += p; tsum += t\n",
    "            psqsum += p ** 2; tsqsum += t ** 2\n",
    "            sse += (t - p) ** 2\n",
    "        # Compute average statistics\n",
    "        self.stats_dict = {}\n",
    "        pmean = psum / nt; tmean = tsum / nt\n",
    "        self.bias = pmean - tmean; self.stats_dict['bias'] = self.bias\n",
    "        self.mse = sse / nt; self.stats_dict['mse'] = self.mse\n",
    "        self.pred_var = (psqsum / nt - pmean ** 2) * nt / (nt - 1)  # Sample variance\n",
    "        self.stats_dict['pred_var'] = self.pred_var\n",
    "        self.true_var = (tsqsum / nt - tmean ** 2) * nt / (nt - 1)\n",
    "        self.stats_dict['true_var'] = self.true_var\n",
    "            "
   ]
  },
  {
   "cell_type": "code",
   "execution_count": 239,
   "metadata": {},
   "outputs": [],
   "source": [
    "a = np.ones((2, 3, 4, 5))"
   ]
  },
  {
   "cell_type": "code",
   "execution_count": 240,
   "metadata": {},
   "outputs": [
    {
     "data": {
      "text/plain": [
       "(2, 3, 4, 5)"
      ]
     },
     "execution_count": 240,
     "metadata": {},
     "output_type": "execute_result"
    }
   ],
   "source": [
    "a.shape"
   ]
  },
  {
   "cell_type": "code",
   "execution_count": 243,
   "metadata": {},
   "outputs": [
    {
     "data": {
      "text/plain": [
       "(2, 3, 2, 5)"
      ]
     },
     "execution_count": 243,
     "metadata": {},
     "output_type": "execute_result"
    }
   ],
   "source": [
    "a[..., 2:4, :].shape"
   ]
  },
  {
   "cell_type": "markdown",
   "metadata": {},
   "source": [
    "### Keras"
   ]
  },
  {
   "cell_type": "code",
   "execution_count": 229,
   "metadata": {},
   "outputs": [],
   "source": [
    "kmodel_path = '/export/home/srasp/repositories/CBRAIN-Keras-Diagnostics/saved_models/B018_purecrm_essv2_nonorm_sample1_max_rs.h5'\n",
    "pp_dir = '/scratch/srasp/preprocessed_data/'\n",
    "k_fpath = f'{pp_dir}purecrm_essv2_nonorm_train_sample1_features.nc'\n",
    "k_tpath = f'{pp_dir}purecrm_essv2_nonorm_train_sample1_targets.nc'\n",
    "k_npath = f'{pp_dir}purecrm_essv2_nonorm_train_sample1_norm.nc'\n",
    "k_norms = ('feature_means', 'max_rs', None, 'target_conv')"
   ]
  },
  {
   "cell_type": "code",
   "execution_count": 233,
   "metadata": {},
   "outputs": [],
   "source": [
    "d = ModelDiagnostics(False, kmodel_path, k_fpath=k_fpath, k_tpath=k_tpath, k_npath=k_npath, \n",
    "                     k_norms=k_norms)"
   ]
  },
  {
   "cell_type": "code",
   "execution_count": 234,
   "metadata": {},
   "outputs": [
    {
     "name": "stderr",
     "output_type": "stream",
     "text": [
      "100%|██████████| 5/5 [00:00<00:00,  8.18it/s]\n"
     ]
    }
   ],
   "source": [
    "d.compute_stats(5)"
   ]
  },
  {
   "cell_type": "code",
   "execution_count": 235,
   "metadata": {},
   "outputs": [
    {
     "data": {
      "text/plain": [
       "(64, 128, 4, 30)"
      ]
     },
     "execution_count": 235,
     "metadata": {},
     "output_type": "execute_result"
    }
   ],
   "source": [
    "d.bias.shape"
   ]
  },
  {
   "cell_type": "code",
   "execution_count": 215,
   "metadata": {},
   "outputs": [
    {
     "data": {
      "image/png": "[encoded data removed]",
      "text/plain": [
       "<matplotlib.figure.Figure at 0x2b4c229a3908>"
      ]
     },
     "metadata": {},
     "output_type": "display_data"
    }
   ],
   "source": [
    "d.plot_double_yz(100, 20, 'SPDQ', cmap='bwr')"
   ]
  },
  {
   "cell_type": "code",
   "execution_count": 167,
   "metadata": {},
   "outputs": [],
   "source": [
    "p, t = d.get_pt(100, 'SPDQ')"
   ]
  },
  {
   "cell_type": "code",
   "execution_count": 168,
   "metadata": {},
   "outputs": [
    {
     "data": {
      "text/plain": [
       "<matplotlib.colorbar.Colorbar at 0x2b4c1f71f5f8>"
      ]
     },
     "execution_count": 168,
     "metadata": {},
     "output_type": "execute_result"
    },
    {
     "data": {
      "image/png": "[encoded data removed]",
      "text/plain": [
       "<matplotlib.figure.Figure at 0x2b4c1f61c080>"
      ]
     },
     "metadata": {},
     "output_type": "display_data"
    }
   ],
   "source": [
    "plt.imshow(t[:, 0, :].T); plt.colorbar()"
   ]
  },
  {
   "cell_type": "code",
   "execution_count": 161,
   "metadata": {},
   "outputs": [
    {
     "data": {
      "text/plain": [
       "<matplotlib.image.AxesImage at 0x2b4c1f57dcf8>"
      ]
     },
     "execution_count": 161,
     "metadata": {},
     "output_type": "execute_result"
    },
    {
     "data": {
      "image/png": "[encoded data removed]",
      "text/plain": [
       "<matplotlib.figure.Figure at 0x2b4c1f552a90>"
      ]
     },
     "metadata": {},
     "output_type": "display_data"
    }
   ],
   "source": [
    "plt.imshow(t[:, :, 20])"
   ]
  },
  {
   "cell_type": "markdown",
   "metadata": {},
   "source": [
    "### TF"
   ]
  },
  {
   "cell_type": "code",
   "execution_count": 115,
   "metadata": {},
   "outputs": [],
   "source": [
    "model_dir = '/export/home/srasp/TF_models/'\n",
    "model_fn = 'saved_keras_model_0220a.h5'\n",
    "mean_fn = 'mean_nolat_0213.nc'\n",
    "std_fn = 'std_nolat_0213.nc'"
   ]
  },
  {
   "cell_type": "code",
   "execution_count": 116,
   "metadata": {},
   "outputs": [],
   "source": [
    "model_path = model_dir + model_fn\n",
    "mean_path = model_dir + mean_fn\n",
    "std_path = model_dir + std_fn"
   ]
  },
  {
   "cell_type": "code",
   "execution_count": 117,
   "metadata": {},
   "outputs": [],
   "source": [
    "inps = ['TBP','QBP','PS','SHFLX','LHFLX','dTdt_adiabatic','dQdt_adiabatic']\n",
    "outps = ['TPHYSTND_NORAD','PHQ']"
   ]
  },
  {
   "cell_type": "code",
   "execution_count": 118,
   "metadata": {},
   "outputs": [],
   "source": [
    "data_dir = '/scratch/srasp/Aquaplanet_enhance05_old_matlab/'\n",
    "aqua_fn = 'AndKua_aqua_SPCAM3.0_enhance05.cam2.h1.0000-01-05-00000.nc'\n",
    "aqua_pattern = data_dir + 'AndKua_aqua_SPCAM3.0_enhance05.cam2.h1.0000-01-0*-00000.nc'"
   ]
  },
  {
   "cell_type": "code",
   "execution_count": 259,
   "metadata": {},
   "outputs": [
    {
     "name": "stderr",
     "output_type": "stream",
     "text": [
      "/export/home/srasp/anaconda3/lib/python3.6/site-packages/keras/models.py:255: UserWarning: No training configuration found in save file: the model was *not* compiled. Compile it manually.\n",
      "  warnings.warn('No training configuration found in save file: '\n"
     ]
    }
   ],
   "source": [
    "d2 = ModelDiagnostics(True, model_path, tf_filepattern=aqua_pattern, tf_fvars=inps, \n",
    "                      tf_tvars=outps, tf_meanpath=mean_path, tf_stdpath=std_path)"
   ]
  },
  {
   "cell_type": "code",
   "execution_count": 263,
   "metadata": {},
   "outputs": [],
   "source": [
    "%load_ext line_profiler"
   ]
  },
  {
   "cell_type": "code",
   "execution_count": 266,
   "metadata": {},
   "outputs": [
    {
     "name": "stderr",
     "output_type": "stream",
     "text": [
      "100%|██████████| 5/5 [01:12<00:00, 14.48s/it]\n"
     ]
    }
   ],
   "source": [
    "%lprun -f d2._get_tf_pt d2.compute_stats(5)"
   ]
  },
  {
   "cell_type": "code",
   "execution_count": 267,
   "metadata": {},
   "outputs": [],
   "source": [
    "%lprun -f d2._get_tf_pt d2._get_tf_pt(idate=0)"
   ]
  },
  {
   "cell_type": "code",
   "execution_count": 249,
   "metadata": {},
   "outputs": [
    {
     "data": {
      "image/png": "[encoded data removed]",
      "text/plain": [
       "<matplotlib.figure.Figure at 0x2b4c6ffb3a20>"
      ]
     },
     "metadata": {},
     "output_type": "display_data"
    }
   ],
   "source": [
    "d2.plot_double_yz(100, 20, 'TPHYSTND_NORAD', cmap='bwr')"
   ]
  },
  {
   "cell_type": "code",
   "execution_count": 184,
   "metadata": {},
   "outputs": [
    {
     "name": "stdout",
     "output_type": "stream",
     "text": [
      "2 4 ['/scratch/srasp/Aquaplanet_enhance05_old_matlab/AndKua_aqua_SPCAM3.0_enhance05.cam2.h1.0000-01-01-00000.nc', '/scratch/srasp/Aquaplanet_enhance05_old_matlab/AndKua_aqua_SPCAM3.0_enhance05.cam2.h1.0000-01-02-00000.nc', '/scratch/srasp/Aquaplanet_enhance05_old_matlab/AndKua_aqua_SPCAM3.0_enhance05.cam2.h1.0000-01-03-00000.nc', '/scratch/srasp/Aquaplanet_enhance05_old_matlab/AndKua_aqua_SPCAM3.0_enhance05.cam2.h1.0000-01-04-00000.nc', '/scratch/srasp/Aquaplanet_enhance05_old_matlab/AndKua_aqua_SPCAM3.0_enhance05.cam2.h1.0000-01-05-00000.nc', '/scratch/srasp/Aquaplanet_enhance05_old_matlab/AndKua_aqua_SPCAM3.0_enhance05.cam2.h1.0000-01-06-00000.nc', '/scratch/srasp/Aquaplanet_enhance05_old_matlab/AndKua_aqua_SPCAM3.0_enhance05.cam2.h1.0000-01-07-00000.nc', '/scratch/srasp/Aquaplanet_enhance05_old_matlab/AndKua_aqua_SPCAM3.0_enhance05.cam2.h1.0000-01-08-00000.nc', '/scratch/srasp/Aquaplanet_enhance05_old_matlab/AndKua_aqua_SPCAM3.0_enhance05.cam2.h1.0000-01-09-00000.nc']\n"
     ]
    }
   ],
   "source": [
    "p, t = d2.get_pt(100, 'TPHYSTND_NORAD')"
   ]
  },
  {
   "cell_type": "code",
   "execution_count": 185,
   "metadata": {},
   "outputs": [
    {
     "data": {
      "text/plain": [
       "<matplotlib.colorbar.Colorbar at 0x2b4c2083dfd0>"
      ]
     },
     "execution_count": 185,
     "metadata": {},
     "output_type": "execute_result"
    },
    {
     "data": {
      "image/png": "[encoded data removed]",
      "text/plain": [
       "<matplotlib.figure.Figure at 0x2b4c207dad68>"
      ]
     },
     "metadata": {},
     "output_type": "display_data"
    }
   ],
   "source": [
    "plt.imshow(t[:, 0, :].T); plt.colorbar()"
   ]
  },
  {
   "cell_type": "code",
   "execution_count": 186,
   "metadata": {},
   "outputs": [
    {
     "data": {
      "text/plain": [
       "<matplotlib.image.AxesImage at 0x2b4c208b5a90>"
      ]
     },
     "execution_count": 186,
     "metadata": {},
     "output_type": "execute_result"
    },
    {
     "data": {
      "image/png": "[encoded data removed]",
      "text/plain": [
       "<matplotlib.figure.Figure at 0x2b4c2087c6d8>"
      ]
     },
     "metadata": {},
     "output_type": "display_data"
    }
   ],
   "source": [
    "plt.imshow(t[:, :, 20])"
   ]
  },
  {
   "cell_type": "code",
   "execution_count": 187,
   "metadata": {},
   "outputs": [
    {
     "data": {
      "text/plain": [
       "<matplotlib.colorbar.Colorbar at 0x2b4c20955470>"
      ]
     },
     "execution_count": 187,
     "metadata": {},
     "output_type": "execute_result"
    },
    {
     "data": {
      "image/png": "[encoded data removed]",
      "text/plain": [
       "<matplotlib.figure.Figure at 0x2b4c20826cc0>"
      ]
     },
     "metadata": {},
     "output_type": "display_data"
    }
   ],
   "source": [
    "plt.imshow(p[:, 0, :].T); plt.colorbar()"
   ]
  },
  {
   "cell_type": "code",
   "execution_count": 169,
   "metadata": {},
   "outputs": [],
   "source": [
    "f = d2._get_tf_f_or_t(2, 4, 'f')"
   ]
  },
  {
   "cell_type": "code",
   "execution_count": 170,
   "metadata": {},
   "outputs": [
    {
     "data": {
      "text/plain": [
       "(8192, 7, 30, 1)"
      ]
     },
     "execution_count": 170,
     "metadata": {},
     "output_type": "execute_result"
    }
   ],
   "source": [
    "f.shape"
   ]
  },
  {
   "cell_type": "code",
   "execution_count": 176,
   "metadata": {},
   "outputs": [
    {
     "data": {
      "text/plain": [
       "<matplotlib.colorbar.Colorbar at 0x2b4c1f8f3da0>"
      ]
     },
     "execution_count": 176,
     "metadata": {},
     "output_type": "execute_result"
    },
    {
     "data": {
      "image/png": "[encoded data removed]",
      "text/plain": [
       "<matplotlib.figure.Figure at 0x2b4c1f826630>"
      ]
     },
     "metadata": {},
     "output_type": "display_data"
    }
   ],
   "source": [
    "plt.imshow(f.reshape(64, 128, 7, 30)[:, 0, 0, :].T); plt.colorbar()"
   ]
  },
  {
   "cell_type": "code",
   "execution_count": 171,
   "metadata": {},
   "outputs": [],
   "source": [
    "myp = d2.model.predict_on_batch(f)"
   ]
  },
  {
   "cell_type": "code",
   "execution_count": 172,
   "metadata": {},
   "outputs": [
    {
     "data": {
      "text/plain": [
       "(8192, 2, 30, 1)"
      ]
     },
     "execution_count": 172,
     "metadata": {},
     "output_type": "execute_result"
    }
   ],
   "source": [
    "myp.shape"
   ]
  },
  {
   "cell_type": "code",
   "execution_count": null,
   "metadata": {},
   "outputs": [],
   "source": [
    "myp.reshape(64, 128, 2, 30)"
   ]
  },
  {
   "cell_type": "code",
   "execution_count": 174,
   "metadata": {},
   "outputs": [
    {
     "data": {
      "text/plain": [
       "<matplotlib.colorbar.Colorbar at 0x2b4c1f848550>"
      ]
     },
     "execution_count": 174,
     "metadata": {},
     "output_type": "execute_result"
    },
    {
     "data": {
      "image/png": "[encoded data removed]",
      "text/plain": [
       "<matplotlib.figure.Figure at 0x2b4c1f6d6748>"
      ]
     },
     "metadata": {},
     "output_type": "display_data"
    }
   ],
   "source": [
    "plt.imshow(myp.reshape(64, 128, 2, 30)[:, 0, 0, :].T); plt.colorbar()"
   ]
  },
  {
   "cell_type": "code",
   "execution_count": null,
   "metadata": {},
   "outputs": [],
   "source": [
    "plt.imshow(f[:, 0, :].T); plt.colorbar()"
   ]
  },
  {
   "cell_type": "code",
   "execution_count": null,
   "metadata": {},
   "outputs": [],
   "source": []
  },
  {
   "cell_type": "code",
   "execution_count": null,
   "metadata": {},
   "outputs": [],
   "source": []
  },
  {
   "cell_type": "code",
   "execution_count": 102,
   "metadata": {},
   "outputs": [
    {
     "name": "stderr",
     "output_type": "stream",
     "text": [
      "/export/home/srasp/anaconda3/lib/python3.6/site-packages/keras/models.py:255: UserWarning: No training configuration found in save file: the model was *not* compiled. Compile it manually.\n",
      "  warnings.warn('No training configuration found in save file: '\n"
     ]
    }
   ],
   "source": [
    "old = ModelDiagnosticsTF(model_path, inps, outps, mean_path, std_path, aqua_pattern)"
   ]
  },
  {
   "cell_type": "code",
   "execution_count": null,
   "metadata": {},
   "outputs": [],
   "source": []
  },
  {
   "cell_type": "code",
   "execution_count": 129,
   "metadata": {},
   "outputs": [],
   "source": [
    "to, po = old.get_tp('TPHYSTND_NORAD', 2, 4)"
   ]
  },
  {
   "cell_type": "code",
   "execution_count": 104,
   "metadata": {},
   "outputs": [
    {
     "data": {
      "text/plain": [
       "(64, 128, 30)"
      ]
     },
     "execution_count": 104,
     "metadata": {},
     "output_type": "execute_result"
    }
   ],
   "source": [
    "to.shape"
   ]
  },
  {
   "cell_type": "code",
   "execution_count": 130,
   "metadata": {},
   "outputs": [
    {
     "data": {
      "text/plain": [
       "<matplotlib.image.AxesImage at 0x2b4c1cd0f048>"
      ]
     },
     "execution_count": 130,
     "metadata": {},
     "output_type": "execute_result"
    },
    {
     "data": {
      "image/png": "[encoded data removed]",
      "text/plain": [
       "<matplotlib.figure.Figure at 0x2b4c1ccf28d0>"
      ]
     },
     "metadata": {},
     "output_type": "display_data"
    }
   ],
   "source": [
    "plt.imshow(to[:, 0, :].T)"
   ]
  },
  {
   "cell_type": "markdown",
   "metadata": {},
   "source": [
    "## TF class"
   ]
  },
  {
   "cell_type": "code",
   "execution_count": 101,
   "metadata": {},
   "outputs": [],
   "source": [
    "class ModelDiagnosticsTF(object):\n",
    "    \"\"\"\n",
    "    Model diagnostics class.\n",
    "    \"\"\"\n",
    "    def __init__(self, model_path, feature_vars, target_vars,\n",
    "                 mean_path, std_path, valid_file_pattern, \n",
    "                 nlat=64, nlon=128, nlev=30):\n",
    "        \"\"\"\n",
    "        TF version\n",
    "        \"\"\"\n",
    "        self.model_path = model_path\n",
    "        self.model = keras.models.load_model(model_path, custom_objects={\"tf\": tf})\n",
    "        self.mean = nc.Dataset(mean_path, 'r')\n",
    "        self.std = nc.Dataset(std_path, 'r')\n",
    "        self.nlat = nlat; self.nlon = nlon; self.nlev = nlev\n",
    "        self.ntime = 48\n",
    "        self.ngeo = nlat * nlon\n",
    "        self.feature_vars, self.target_vars = (feature_vars, target_vars)\n",
    "        self.valid_files = sorted(glob(valid_file_pattern))\n",
    "\n",
    "    def get_tp(self, var, idate, itime):\n",
    "        \"\"\"Return denormalized predictions and targets for one variable\n",
    "        [lat, lon, lev]\n",
    "        \"\"\"\n",
    "        # Get feature array\n",
    "        f, t = self._get_ft(idate, itime)\n",
    "        p = self._get_pred(f)\n",
    "        var_idx = self.target_vars.index(var)\n",
    "        t, p = (self.unravel(t), self.unravel(p))\n",
    "        return self._denorm(t, 't')[:, :, var_idx], self._denorm(p, 't')[:, :, var_idx]\n",
    "            \n",
    "    def _get_f_or_t(self, idate, itime, f_or_t):\n",
    "        with nc.Dataset(self.valid_files[idate], 'r') as ds:\n",
    "            arr = []\n",
    "            vars = self.feature_vars if f_or_t == 'f' else self.target_vars\n",
    "            for var in vars:\n",
    "                da = (ds[var][:] - self.mean[var][:]) / self.std[var][:]\n",
    "                if da.ndim == 4:   # 3D variables [time, lev, lat, lon] --> [sample, lev]\n",
    "                    a = np.rollaxis(da, 1, 4).reshape(-1, self.nlev)\n",
    "                elif da.ndim == 3:   # 2D variables [time, lat, lon]\n",
    "                    a = np.rollaxis(np.tile(da.reshape(-1), (self.nlev, 1)), 0, 2)\n",
    "                elif da.ndim == 1:   # lat\n",
    "                    a = np.rollaxis(np.tile(da, (self.ntime, self.nlev, self.nlon, 1)), \n",
    "                                    1, 4).reshape(-1, 30)\n",
    "                else:\n",
    "                    raise Exception('Incompatible number of dimensions')\n",
    "                arr.append(a)\n",
    "            arr = np.expand_dims(np.rollaxis(np.array(arr), 0, 2), 3) # [sample, feature, lev, 1]\n",
    "        arr =  arr[:, :, -self.nlev:][:, ::-1]\n",
    "        if itime is not None: arr = arr[itime*self.ngeo:(itime+1)*self.ngeo]\n",
    "        return arr\n",
    "    \n",
    "    def _get_ft(self, idate, itime):\n",
    "        return self._get_f_or_t(idate, itime, 'f'), self._get_f_or_t(idate, itime, 't')\n",
    "    \n",
    "    def _get_pred(self, f):\n",
    "        return self.model.predict(f, batch_size=1024)\n",
    "    \n",
    "    def _denorm(self, x, f_or_t):\n",
    "        for i, var in enumerate(self.feature_vars if f_or_t == 'f' else self.target_vars):\n",
    "            m, s = [np.rollaxis(ds[var][-self.nlev:][::-1], 0, 3) \n",
    "                    for ds in [self.mean, self.std]]\n",
    "            x[:, :, i, :] = x[:, :, i, :] * s + m\n",
    "        return x\n",
    "    \n",
    "    def unravel(self, x):\n",
    "        return x.reshape(self.nlat, self.nlon, -1, self.nlev)\n",
    "    \n",
    "    def compute_stats(self, niter=None):\n",
    "        \"\"\"\n",
    "        Compute statistics over entire dataset [lat, lon, lev].\n",
    "        bias = mean(preds) - mean(true)\n",
    "        mse = sse(preds, true) / n_samples\n",
    "        rel_mse = mse / std(true)\n",
    "        std_error = std(preds) - std(true)\n",
    "        \"\"\"\n",
    "        psum = np.zeros((self.ngeo, len(self.target_vars)*self.nlev))\n",
    "        tsum = np.copy(psum); sse = np.copy(psum)\n",
    "        psqsum = np.copy(psum); tsqsum = np.copy(psum)\n",
    "        ndates = len(self.valid_files) if niter is None else niter\n",
    "        n = ndates * self.ntime\n",
    "        for idate in tqdm(range(ndates)):\n",
    "            f_date, t_date = self._get_ft(idate, None)   # Full file\n",
    "            for itime in range(self.ntime):\n",
    "                f = f_date[itime*self.ngeo:(itime+1)*self.ngeo]\n",
    "                t = t_date[itime*self.ngeo:(itime+1)*self.ngeo]\n",
    "                # Get predictions\n",
    "                p = self.model.predict_on_batch(f)  # [ngeo samples, z]\n",
    "                # Unscale outputs at this level\n",
    "                t, p = (self.unravel(t), self.unravel(p))\n",
    "                t = self._denorm(t, 't')\n",
    "                p = self._denorm(p, 't')\n",
    "                t, p = [a.reshape(-1, len(self.target_vars)*self.nlev) for a in [t, p]]\n",
    "                # Compute statistics\n",
    "                psum += p; tsum += t\n",
    "                psqsum += p ** 2; tsqsum += t ** 2\n",
    "                sse += (t - p) ** 2\n",
    "\n",
    "\n",
    "        # Compute average statistics\n",
    "        self.stats_dict = {}\n",
    "        pmean = psum / n; tmean = tsum / n\n",
    "        self.bias = pmean - tmean; self.stats_dict['bias'] = self.bias\n",
    "        self.mse = sse / n; self.stats_dict['mse'] = self.mse\n",
    "        self.pred_var = (psqsum / n - pmean ** 2) * n / (n - 1)  # Sample variance\n",
    "        self.stats_dict['pred_var'] = self.pred_var\n",
    "        self.true_var = (tsqsum / n - tmean ** 2) * n / (n - 1)\n",
    "        self.stats_dict['true_var'] = self.true_var\n",
    "    \n",
    "    def mean_stats(self, cutoff_level=9):\n",
    "        expl_var_str = f'expl_var_cut{cutoff_level}'\n",
    "        df = pd.DataFrame(\n",
    "            index=self.target_vars + ['all'],\n",
    "            columns=list(self.stats_dict.keys()) + [expl_var_str])\n",
    "        # Compute statistics for each variable\n",
    "        for var in self.target_vars + ['all']:\n",
    "            sl = slice(0, None) if var == 'all' else \\\n",
    "                slice(self.target_vars.index(var), self.target_vars.index(var)+1, 1)\n",
    "            for stat_name, stat in self.stats_dict.items():\n",
    "                re_stat = self.unravel(stat)[:, :, sl]\n",
    "                df.loc[var, stat_name] = np.mean(re_stat)\n",
    "\n",
    "            df.loc[var, expl_var_str] = np.mean((1. - (\n",
    "                 np.mean(self.unravel(self.mse)[:, :, sl], axis=(0, 1)) / \n",
    "                 np.mean(self.unravel(self.true_var)[:, :, sl], axis=(0, 1))\n",
    "            ).reshape(-1, self.nlev))[:, :cutoff_level])\n",
    "        return df"
   ]
  },
  {
   "cell_type": "code",
   "execution_count": 27,
   "metadata": {},
   "outputs": [
    {
     "name": "stderr",
     "output_type": "stream",
     "text": [
      "/export/home/srasp/anaconda3/lib/python3.6/site-packages/keras/models.py:255: UserWarning: No training configuration found in save file: the model was *not* compiled. Compile it manually.\n",
      "  warnings.warn('No training configuration found in save file: '\n"
     ]
    }
   ],
   "source": [
    "diag = ModelDiagnostics(model_path, inps, outps, mean_path, std_path, aqua_pattern)"
   ]
  },
  {
   "cell_type": "code",
   "execution_count": 28,
   "metadata": {},
   "outputs": [
    {
     "name": "stdout",
     "output_type": "stream",
     "text": [
      "_________________________________________________________________\n",
      "Layer (type)                 Output Shape              Param #   \n",
      "=================================================================\n",
      "activation_1 (Activation)    (None, 7, 30, 1)          0         \n",
      "_________________________________________________________________\n",
      "flatten_1 (Flatten)          (None, 210)               0         \n",
      "_________________________________________________________________\n",
      "dense_1 (Dense)              (None, 1024)              216064    \n",
      "_________________________________________________________________\n",
      "dense_2 (Dense)              (None, 1024)              1049600   \n",
      "_________________________________________________________________\n",
      "dense_3 (Dense)              (None, 60)                61500     \n",
      "_________________________________________________________________\n",
      "reshape_1 (Reshape)          (None, 2, 30, 1)          0         \n",
      "=================================================================\n",
      "Total params: 1,327,164\n",
      "Trainable params: 1,327,164\n",
      "Non-trainable params: 0\n",
      "_________________________________________________________________\n"
     ]
    }
   ],
   "source": [
    "diag.model.summary()"
   ]
  },
  {
   "cell_type": "code",
   "execution_count": 29,
   "metadata": {},
   "outputs": [],
   "source": [
    "f, t = diag._get_ft(0, None)"
   ]
  },
  {
   "cell_type": "code",
   "execution_count": 30,
   "metadata": {},
   "outputs": [
    {
     "data": {
      "text/plain": [
       "(393216, 7, 30, 1)"
      ]
     },
     "execution_count": 30,
     "metadata": {},
     "output_type": "execute_result"
    }
   ],
   "source": [
    "f.shape"
   ]
  },
  {
   "cell_type": "code",
   "execution_count": 31,
   "metadata": {},
   "outputs": [
    {
     "data": {
      "text/plain": [
       "8192"
      ]
     },
     "execution_count": 31,
     "metadata": {},
     "output_type": "execute_result"
    }
   ],
   "source": [
    "diag.ngeo"
   ]
  },
  {
   "cell_type": "code",
   "execution_count": 33,
   "metadata": {},
   "outputs": [],
   "source": [
    "p = diag.model.predict(f, batch_size=f.shape[0])"
   ]
  },
  {
   "cell_type": "code",
   "execution_count": null,
   "metadata": {},
   "outputs": [],
   "source": []
  },
  {
   "cell_type": "code",
   "execution_count": null,
   "metadata": {},
   "outputs": [],
   "source": []
  },
  {
   "cell_type": "code",
   "execution_count": 12,
   "metadata": {},
   "outputs": [
    {
     "name": "stderr",
     "output_type": "stream",
     "text": [
      "100%|██████████| 19/19 [08:25<00:00, 26.61s/it]\n"
     ]
    }
   ],
   "source": [
    "diag.compute_stats()"
   ]
  },
  {
   "cell_type": "code",
   "execution_count": 13,
   "metadata": {},
   "outputs": [
    {
     "data": {
      "text/html": [
       "<div>\n",
       "<style>\n",
       "    .dataframe thead tr:only-child th {\n",
       "        text-align: right;\n",
       "    }\n",
       "\n",
       "    .dataframe thead th {\n",
       "        text-align: left;\n",
       "    }\n",
       "\n",
       "    .dataframe tbody tr th {\n",
       "        vertical-align: top;\n",
       "    }\n",
       "</style>\n",
       "<table border=\"1\" class=\"dataframe\">\n",
       "  <thead>\n",
       "    <tr style=\"text-align: right;\">\n",
       "      <th></th>\n",
       "      <th>bias</th>\n",
       "      <th>mse</th>\n",
       "      <th>pred_var</th>\n",
       "      <th>true_var</th>\n",
       "      <th>expl_var_cut9</th>\n",
       "    </tr>\n",
       "  </thead>\n",
       "  <tbody>\n",
       "    <tr>\n",
       "      <th>TPHYSTND_NORAD</th>\n",
       "      <td>5.36678e-06</td>\n",
       "      <td>9.05461e-09</td>\n",
       "      <td>5.41571e-09</td>\n",
       "      <td>1.56746e-09</td>\n",
       "      <td>-3.17618e+09</td>\n",
       "    </tr>\n",
       "    <tr>\n",
       "      <th>PHQ</th>\n",
       "      <td>-5.86703e-09</td>\n",
       "      <td>3.29807e-14</td>\n",
       "      <td>1.23753e-14</td>\n",
       "      <td>1.87868e-14</td>\n",
       "      <td>-8.43454</td>\n",
       "    </tr>\n",
       "    <tr>\n",
       "      <th>all</th>\n",
       "      <td>2.68045e-06</td>\n",
       "      <td>4.52732e-09</td>\n",
       "      <td>2.70786e-09</td>\n",
       "      <td>7.8374e-10</td>\n",
       "      <td>-1.58809e+09</td>\n",
       "    </tr>\n",
       "  </tbody>\n",
       "</table>\n",
       "</div>"
      ],
      "text/plain": [
       "                       bias          mse     pred_var     true_var  \\\n",
       "TPHYSTND_NORAD  5.36678e-06  9.05461e-09  5.41571e-09  1.56746e-09   \n",
       "PHQ            -5.86703e-09  3.29807e-14  1.23753e-14  1.87868e-14   \n",
       "all             2.68045e-06  4.52732e-09  2.70786e-09   7.8374e-10   \n",
       "\n",
       "               expl_var_cut9  \n",
       "TPHYSTND_NORAD  -3.17618e+09  \n",
       "PHQ                 -8.43454  \n",
       "all             -1.58809e+09  "
      ]
     },
     "execution_count": 13,
     "metadata": {},
     "output_type": "execute_result"
    }
   ],
   "source": [
    "diag.mean_stats()"
   ]
  },
  {
   "cell_type": "code",
   "execution_count": null,
   "metadata": {
    "collapsed": true
   },
   "outputs": [],
   "source": []
  },
  {
   "cell_type": "code",
   "execution_count": 34,
   "metadata": {},
   "outputs": [
    {
     "ename": "AxisError",
     "evalue": "'start' arg requires -1 <= start < 2, but 2 was passed in",
     "output_type": "error",
     "traceback": [
      "\u001b[0;31m---------------------------------------------------------------------------\u001b[0m",
      "\u001b[0;31mAxisError\u001b[0m                                 Traceback (most recent call last)",
      "\u001b[0;32m<ipython-input-34-efc9fb583337>\u001b[0m in \u001b[0;36m<module>\u001b[0;34m()\u001b[0m\n\u001b[0;32m----> 1\u001b[0;31m \u001b[0mt\u001b[0m\u001b[0;34m,\u001b[0m \u001b[0mp\u001b[0m \u001b[0;34m=\u001b[0m \u001b[0mdiag\u001b[0m\u001b[0;34m.\u001b[0m\u001b[0mget_tp\u001b[0m\u001b[0;34m(\u001b[0m\u001b[0;34m'TPHYSTND_NORAD'\u001b[0m\u001b[0;34m,\u001b[0m \u001b[0;36m4\u001b[0m\u001b[0;34m,\u001b[0m \u001b[0;36m47\u001b[0m\u001b[0;34m)\u001b[0m\u001b[0;34m\u001b[0m\u001b[0m\n\u001b[0m",
      "\u001b[0;32m<ipython-input-8-e20271df5f21>\u001b[0m in \u001b[0;36mget_tp\u001b[0;34m(self, var, idate, itime)\u001b[0m\n\u001b[1;32m     24\u001b[0m         \"\"\"\n\u001b[1;32m     25\u001b[0m         \u001b[0;31m# Get feature array\u001b[0m\u001b[0;34m\u001b[0m\u001b[0;34m\u001b[0m\u001b[0m\n\u001b[0;32m---> 26\u001b[0;31m         \u001b[0mf\u001b[0m\u001b[0;34m,\u001b[0m \u001b[0mt\u001b[0m \u001b[0;34m=\u001b[0m \u001b[0mself\u001b[0m\u001b[0;34m.\u001b[0m\u001b[0m_get_ft\u001b[0m\u001b[0;34m(\u001b[0m\u001b[0midate\u001b[0m\u001b[0;34m,\u001b[0m \u001b[0mitime\u001b[0m\u001b[0;34m)\u001b[0m\u001b[0;34m\u001b[0m\u001b[0m\n\u001b[0m\u001b[1;32m     27\u001b[0m         \u001b[0mp\u001b[0m \u001b[0;34m=\u001b[0m \u001b[0mself\u001b[0m\u001b[0;34m.\u001b[0m\u001b[0m_get_pred\u001b[0m\u001b[0;34m(\u001b[0m\u001b[0mf\u001b[0m\u001b[0;34m)\u001b[0m\u001b[0;34m\u001b[0m\u001b[0m\n\u001b[1;32m     28\u001b[0m         \u001b[0mvar_idx\u001b[0m \u001b[0;34m=\u001b[0m \u001b[0mself\u001b[0m\u001b[0;34m.\u001b[0m\u001b[0mtarget_vars\u001b[0m\u001b[0;34m.\u001b[0m\u001b[0mindex\u001b[0m\u001b[0;34m(\u001b[0m\u001b[0mvar\u001b[0m\u001b[0;34m)\u001b[0m\u001b[0;34m\u001b[0m\u001b[0m\n",
      "\u001b[0;32m<ipython-input-8-e20271df5f21>\u001b[0m in \u001b[0;36m_get_ft\u001b[0;34m(self, idate, itime)\u001b[0m\n\u001b[1;32m     52\u001b[0m \u001b[0;34m\u001b[0m\u001b[0m\n\u001b[1;32m     53\u001b[0m     \u001b[0;32mdef\u001b[0m \u001b[0m_get_ft\u001b[0m\u001b[0;34m(\u001b[0m\u001b[0mself\u001b[0m\u001b[0;34m,\u001b[0m \u001b[0midate\u001b[0m\u001b[0;34m,\u001b[0m \u001b[0mitime\u001b[0m\u001b[0;34m)\u001b[0m\u001b[0;34m:\u001b[0m\u001b[0;34m\u001b[0m\u001b[0m\n\u001b[0;32m---> 54\u001b[0;31m         \u001b[0;32mreturn\u001b[0m \u001b[0mself\u001b[0m\u001b[0;34m.\u001b[0m\u001b[0m_get_f_or_t\u001b[0m\u001b[0;34m(\u001b[0m\u001b[0midate\u001b[0m\u001b[0;34m,\u001b[0m \u001b[0mitime\u001b[0m\u001b[0;34m,\u001b[0m \u001b[0;34m'f'\u001b[0m\u001b[0;34m)\u001b[0m\u001b[0;34m,\u001b[0m \u001b[0mself\u001b[0m\u001b[0;34m.\u001b[0m\u001b[0m_get_f_or_t\u001b[0m\u001b[0;34m(\u001b[0m\u001b[0midate\u001b[0m\u001b[0;34m,\u001b[0m \u001b[0mitime\u001b[0m\u001b[0;34m,\u001b[0m \u001b[0;34m't'\u001b[0m\u001b[0;34m)\u001b[0m\u001b[0;34m\u001b[0m\u001b[0m\n\u001b[0m\u001b[1;32m     55\u001b[0m \u001b[0;34m\u001b[0m\u001b[0m\n\u001b[1;32m     56\u001b[0m     \u001b[0;32mdef\u001b[0m \u001b[0m_get_pred\u001b[0m\u001b[0;34m(\u001b[0m\u001b[0mself\u001b[0m\u001b[0;34m,\u001b[0m \u001b[0mf\u001b[0m\u001b[0;34m)\u001b[0m\u001b[0;34m:\u001b[0m\u001b[0;34m\u001b[0m\u001b[0m\n",
      "\u001b[0;32m<ipython-input-8-e20271df5f21>\u001b[0m in \u001b[0;36m_get_f_or_t\u001b[0;34m(self, idate, itime, f_or_t)\u001b[0m\n\u001b[1;32m     46\u001b[0m                     \u001b[0;32mraise\u001b[0m \u001b[0mException\u001b[0m\u001b[0;34m(\u001b[0m\u001b[0;34m'Incompatible number of dimensions'\u001b[0m\u001b[0;34m)\u001b[0m\u001b[0;34m\u001b[0m\u001b[0m\n\u001b[1;32m     47\u001b[0m                 \u001b[0marr\u001b[0m\u001b[0;34m.\u001b[0m\u001b[0mappend\u001b[0m\u001b[0;34m(\u001b[0m\u001b[0ma\u001b[0m\u001b[0;34m)\u001b[0m\u001b[0;34m\u001b[0m\u001b[0m\n\u001b[0;32m---> 48\u001b[0;31m             \u001b[0marr\u001b[0m \u001b[0;34m=\u001b[0m \u001b[0mnp\u001b[0m\u001b[0;34m.\u001b[0m\u001b[0mexpand_dims\u001b[0m\u001b[0;34m(\u001b[0m\u001b[0mnp\u001b[0m\u001b[0;34m.\u001b[0m\u001b[0mrollaxis\u001b[0m\u001b[0;34m(\u001b[0m\u001b[0mnp\u001b[0m\u001b[0;34m.\u001b[0m\u001b[0marray\u001b[0m\u001b[0;34m(\u001b[0m\u001b[0marr\u001b[0m\u001b[0;34m)\u001b[0m\u001b[0;34m,\u001b[0m \u001b[0;36m0\u001b[0m\u001b[0;34m,\u001b[0m \u001b[0;36m2\u001b[0m\u001b[0;34m)\u001b[0m\u001b[0;34m,\u001b[0m \u001b[0;36m3\u001b[0m\u001b[0;34m)\u001b[0m \u001b[0;31m# [sample, feature, lev, 1]\u001b[0m\u001b[0;34m\u001b[0m\u001b[0m\n\u001b[0m\u001b[1;32m     49\u001b[0m         \u001b[0marr\u001b[0m \u001b[0;34m=\u001b[0m  \u001b[0marr\u001b[0m\u001b[0;34m[\u001b[0m\u001b[0;34m:\u001b[0m\u001b[0;34m,\u001b[0m \u001b[0;34m:\u001b[0m\u001b[0;34m,\u001b[0m \u001b[0;34m-\u001b[0m\u001b[0mself\u001b[0m\u001b[0;34m.\u001b[0m\u001b[0mnlev\u001b[0m\u001b[0;34m:\u001b[0m\u001b[0;34m]\u001b[0m\u001b[0;34m[\u001b[0m\u001b[0;34m:\u001b[0m\u001b[0;34m,\u001b[0m \u001b[0;34m:\u001b[0m\u001b[0;34m:\u001b[0m\u001b[0;34m-\u001b[0m\u001b[0;36m1\u001b[0m\u001b[0;34m]\u001b[0m\u001b[0;34m\u001b[0m\u001b[0m\n\u001b[1;32m     50\u001b[0m         \u001b[0;32mif\u001b[0m \u001b[0mitime\u001b[0m \u001b[0;32mis\u001b[0m \u001b[0;32mnot\u001b[0m \u001b[0;32mNone\u001b[0m\u001b[0;34m:\u001b[0m \u001b[0marr\u001b[0m \u001b[0;34m=\u001b[0m \u001b[0marr\u001b[0m\u001b[0;34m[\u001b[0m\u001b[0mitime\u001b[0m\u001b[0;34m*\u001b[0m\u001b[0mself\u001b[0m\u001b[0;34m.\u001b[0m\u001b[0mngeo\u001b[0m\u001b[0;34m:\u001b[0m\u001b[0;34m(\u001b[0m\u001b[0mitime\u001b[0m\u001b[0;34m+\u001b[0m\u001b[0;36m1\u001b[0m\u001b[0;34m)\u001b[0m\u001b[0;34m*\u001b[0m\u001b[0mself\u001b[0m\u001b[0;34m.\u001b[0m\u001b[0mngeo\u001b[0m\u001b[0;34m]\u001b[0m\u001b[0;34m\u001b[0m\u001b[0m\n",
      "\u001b[0;32m~/anaconda3/lib/python3.6/site-packages/numpy/core/numeric.py\u001b[0m in \u001b[0;36mrollaxis\u001b[0;34m(a, axis, start)\u001b[0m\n\u001b[1;32m   1445\u001b[0m     \u001b[0mmsg\u001b[0m \u001b[0;34m=\u001b[0m \u001b[0;34m\"'%s' arg requires %d <= %s < %d, but %d was passed in\"\u001b[0m\u001b[0;34m\u001b[0m\u001b[0m\n\u001b[1;32m   1446\u001b[0m     \u001b[0;32mif\u001b[0m \u001b[0;32mnot\u001b[0m \u001b[0;34m(\u001b[0m\u001b[0;36m0\u001b[0m \u001b[0;34m<=\u001b[0m \u001b[0mstart\u001b[0m \u001b[0;34m<\u001b[0m \u001b[0mn\u001b[0m \u001b[0;34m+\u001b[0m \u001b[0;36m1\u001b[0m\u001b[0;34m)\u001b[0m\u001b[0;34m:\u001b[0m\u001b[0;34m\u001b[0m\u001b[0m\n\u001b[0;32m-> 1447\u001b[0;31m         \u001b[0;32mraise\u001b[0m \u001b[0mAxisError\u001b[0m\u001b[0;34m(\u001b[0m\u001b[0mmsg\u001b[0m \u001b[0;34m%\u001b[0m \u001b[0;34m(\u001b[0m\u001b[0;34m'start'\u001b[0m\u001b[0;34m,\u001b[0m \u001b[0;34m-\u001b[0m\u001b[0mn\u001b[0m\u001b[0;34m,\u001b[0m \u001b[0;34m'start'\u001b[0m\u001b[0;34m,\u001b[0m \u001b[0mn\u001b[0m \u001b[0;34m+\u001b[0m \u001b[0;36m1\u001b[0m\u001b[0;34m,\u001b[0m \u001b[0mstart\u001b[0m\u001b[0;34m)\u001b[0m\u001b[0;34m)\u001b[0m\u001b[0;34m\u001b[0m\u001b[0m\n\u001b[0m\u001b[1;32m   1448\u001b[0m     \u001b[0;32mif\u001b[0m \u001b[0maxis\u001b[0m \u001b[0;34m<\u001b[0m \u001b[0mstart\u001b[0m\u001b[0;34m:\u001b[0m\u001b[0;34m\u001b[0m\u001b[0m\n\u001b[1;32m   1449\u001b[0m         \u001b[0;31m# it's been removed\u001b[0m\u001b[0;34m\u001b[0m\u001b[0;34m\u001b[0m\u001b[0m\n",
      "\u001b[0;31mAxisError\u001b[0m: 'start' arg requires -1 <= start < 2, but 2 was passed in"
     ]
    }
   ],
   "source": [
    "t, p = diag.get_tp('TPHYSTND_NORAD', 4, 47)"
   ]
  },
  {
   "cell_type": "code",
   "execution_count": null,
   "metadata": {},
   "outputs": [],
   "source": [
    "t.shape"
   ]
  },
  {
   "cell_type": "code",
   "execution_count": null,
   "metadata": {
    "collapsed": true
   },
   "outputs": [],
   "source": [
    "diag.valid_files[4]"
   ]
  },
  {
   "cell_type": "code",
   "execution_count": 91,
   "metadata": {
    "collapsed": true
   },
   "outputs": [],
   "source": [
    "def plot_double_slice(t, p, var=None, unit='', **kwargs):\n",
    "    fig, axes = plt.subplots(1, 2, figsize=(12, 5))\n",
    "    I1 = axes[0].imshow(t, **kwargs)\n",
    "    I2 = axes[1].imshow(p, **kwargs)\n",
    "    cb1 = fig.colorbar(I1, ax=axes[0], orientation='horizontal')\n",
    "    cb2 = fig.colorbar(I2, ax=axes[1], orientation='horizontal')\n",
    "    cb1.set_label(unit); cb2.set_label(unit)\n",
    "    axes[0].set_title('SP-CAM Truth')\n",
    "    axes[1].set_title('CBRAIN Predictions')\n",
    "    plt.show()"
   ]
  },
  {
   "cell_type": "code",
   "execution_count": 92,
   "metadata": {
    "collapsed": true
   },
   "outputs": [],
   "source": [
    "range_dict = {\n",
    "    'SPDT': [-5e-4, 5e-4],\n",
    "    'SPDQ': [-5e-7, 5e-7],\n",
    "    'QRL': [-2e-4, 2e-4],\n",
    "    'QRS': [-1.2e-4, 1.2e-4],\n",
    "    'TPHYSTND_NORAD': [-5e-4, 5e-4],\n",
    "    'PHQ': [-5e-7, 5e-7],\n",
    "}"
   ]
  },
  {
   "cell_type": "code",
   "execution_count": 93,
   "metadata": {},
   "outputs": [
    {
     "data": {
      "image/png": "[encoded data removed]",
      "text/plain": [
       "<matplotlib.figure.Figure at 0x2b52516687b8>"
      ]
     },
     "metadata": {},
     "output_type": "display_data"
    }
   ],
   "source": [
    "plot_double_slice(t[:, 0, :].T, p[:, 0, :].T, unit='K/s', cmap='bwr', \n",
    "                  vmin=-5e-4, vmax=5e-4, origin='lower')"
   ]
  },
  {
   "cell_type": "markdown",
   "metadata": {
    "collapsed": true,
    "heading_collapsed": true
   },
   "source": [
    "## Try to get dataloader to work for maybe faster loading of data..."
   ]
  },
  {
   "cell_type": "code",
   "execution_count": 3,
   "metadata": {
    "collapsed": true,
    "hidden": true
   },
   "outputs": [],
   "source": [
    "from utils import load_config\n",
    "from dataLoad import DataLoader"
   ]
  },
  {
   "cell_type": "code",
   "execution_count": 8,
   "metadata": {
    "hidden": true
   },
   "outputs": [
    {
     "data": {
      "text/plain": [
       "'./logs/0219_213929_SPDT,SPDQ_layers_1024,1024_lr_0.00025_ac_relu_conv_False_locconv_False_vars_TAP,QAP,PS,SHFLX,LHFLX,dTdt_adiabatic,dQdt_adiabatic_batchs_256_loss_mse'"
      ]
     },
     "execution_count": 8,
     "metadata": {},
     "output_type": "execute_result"
    }
   ],
   "source": [
    "model_dir = './logs/0219_213929_SPDT,SPDQ_layers_1024,1024_lr_0.00025_ac_relu_conv_False_locconv_False_vars_TAP,QAP,PS,SHFLX,LHFLX,dTdt_adiabatic,dQdt_adiabatic_batchs_256_loss_mse'; model_dir"
   ]
  },
  {
   "cell_type": "code",
   "execution_count": 9,
   "metadata": {
    "collapsed": true,
    "hidden": true
   },
   "outputs": [],
   "source": [
    "from config import parser"
   ]
  },
  {
   "cell_type": "code",
   "execution_count": 10,
   "metadata": {
    "hidden": true
   },
   "outputs": [
    {
     "data": {
      "text/plain": [
       "Namespace(act='relu', addon='', batch_size=256, beta1=0.5, beta2=0.999, convert_units=False, convo=False, data_dir='data', epoch=200, filter_size=3, frac_train=0.8, gamma=0.5, hidden='1024,1024', input_names='TBP,QBP,PS,lat,SOLIN,SHFLX,LHFLX,dTdt_adiabatic,dQdt_adiabatic', is_train=True, keep_dropout_rate=1.0, lambda_k=0.001, load_path='', local=False, localConvo=False, log_dir='logs', log_level='INFO', log_step=50, lossfct='mse', lr=0.00025, lr_lower_boundary=2e-08, lr_update_epoch=1, lr_update_step=5000, max_step=1000000, nlevs_imposed=0, normalizeInoutputs=True, num_log_samples=3, optimizer='adam', output_names='SPDT,SPDQ', random_seed=123, randomize=True, run_validation=True, save_step=1000, trivial_init=0, use_gpu=True)"
      ]
     },
     "execution_count": 10,
     "metadata": {},
     "output_type": "execute_result"
    }
   ],
   "source": [
    "config, unparset = parser.parse_known_args(); config"
   ]
  },
  {
   "cell_type": "code",
   "execution_count": 11,
   "metadata": {
    "hidden": true
   },
   "outputs": [
    {
     "data": {
      "text/plain": [
       "Namespace(act='relu', addon='', batch_size=256, beta1=0.5, beta2=0.999, convert_units=False, convo=False, data_dir='data', epoch=200, filter_size=3, frac_train=0.8, gamma=0.5, hidden='1024,1024', input_names='TBP,QBP,PS,SHFLX,LHFLX,dTdt_adiabatic,dQdt_adiabatic', is_train=True, keep_dropout_rate=1.0, lambda_k=0.001, load_path='', local=False, localConvo=False, log_dir='logs', log_level='INFO', log_step=50, lossfct='mse', lr=0.00025, lr_lower_boundary=2e-08, lr_update_epoch=1, lr_update_step=5000, max_step=1000000, nlevs_imposed=0, normalizeInoutputs=True, num_log_samples=3, optimizer='adam', output_names='TPHYSTND_NORAD,PHQ', random_seed=123, randomize=True, run_validation=True, save_step=1000, trivial_init=0, use_gpu=True)"
      ]
     },
     "execution_count": 11,
     "metadata": {},
     "output_type": "execute_result"
    }
   ],
   "source": [
    "setattr(config, 'input_names', ','.join(inps))\n",
    "setattr(config, 'output_names', ','.join(outps)); config"
   ]
  },
  {
   "cell_type": "code",
   "execution_count": 12,
   "metadata": {
    "hidden": true
   },
   "outputs": [
    {
     "name": "stdout",
     "output_type": "stream",
     "text": [
      "self.varAllList ['TBP', 'QBP', 'PS', 'SHFLX', 'LHFLX', 'dTdt_adiabatic', 'dQdt_adiabatic', 'TPHYSTND_NORAD', 'PHQ']\n",
      "/export/home/srasp/TF_models/mean_nolat_0213.nc\n",
      "/export/home/srasp/TF_models/std_nolat_0213.nc\n",
      "\u001b[33m raw_data_train_path /beegfs/DATA/pritchard/srasp/Aquaplanet_enhance05_old_matlab/*.nc \u001b[0m\n",
      "['0000-01-01-00000', '0000-01-02-00000', '0000-01-03-00000']\n",
      "last raw file: /beegfs/DATA/pritchard/srasp/Aquaplanet_enhance05_old_matlab/AndKua_aqua_SPCAM3.0_enhance05.cam2.h1.0000-03-14-00000.nc\n",
      "<class 'netCDF4._netCDF4.Dataset'>\n",
      "root group (NETCDF3_CLASSIC data model, file format NETCDF3):\n",
      "    Conventions: CF-1.0\n",
      "    source: CAM\n",
      "    case: AndKua_aqua_SPCAM3.0_enhance05\n",
      "    title: \n",
      "    logname: tg847872\n",
      "    host: \n",
      "    Version: $Name:  $\n",
      "    revision_Id: $Id: history.F90,v 1.26.2.38 2003/12/15 18:52:35 hender Exp $\n",
      "    dimensions(sizes): lat(64), lon(128), lev(30), ilev(31), isccp_prs(7), isccp_tau(7), isccp_prstau(49), time(48), tbnd(2), chars(8), crm_x(8), crm_y(1), crm_z(28)\n",
      "    variables(dimensions): float64 \u001b[4mP0\u001b[0m(), float64 \u001b[4mlat\u001b[0m(lat), float64 \u001b[4mlon\u001b[0m(lon), float64 \u001b[4mcrm_x\u001b[0m(crm_x), float64 \u001b[4mcrm_y\u001b[0m(crm_y), float64 \u001b[4mcrm_z\u001b[0m(crm_z), float64 \u001b[4mlev\u001b[0m(lev), float64 \u001b[4milev\u001b[0m(ilev), float64 \u001b[4misccp_prs\u001b[0m(isccp_prs), float64 \u001b[4misccp_tau\u001b[0m(isccp_ta), float64 \u001b[4misccp_prstau\u001b[0m(isccp_prsta), float64 \u001b[4mtime\u001b[0m(time), float64 \u001b[4mtime_bnds\u001b[0m(time,tbnd), |S1 \u001b[4mdate_written\u001b[0m(time,chars), |S1 \u001b[4mtime_written\u001b[0m(time,chars), int32 \u001b[4mntrm\u001b[0m(), int32 \u001b[4mntrn\u001b[0m(), int32 \u001b[4mntrk\u001b[0m(), int32 \u001b[4mndbase\u001b[0m(), int32 \u001b[4mnsbase\u001b[0m(), int32 \u001b[4mnbdate\u001b[0m(), int32 \u001b[4mnbsec\u001b[0m(), int32 \u001b[4mmdt\u001b[0m(), int32 \u001b[4mnlon\u001b[0m(lat), int32 \u001b[4mwnummax\u001b[0m(lat), float64 \u001b[4mhyai\u001b[0m(ilev), float64 \u001b[4mhybi\u001b[0m(ilev), float64 \u001b[4mhyam\u001b[0m(lev), float64 \u001b[4mhybm\u001b[0m(lev), float64 \u001b[4mgw\u001b[0m(lat), int32 \u001b[4mndcur\u001b[0m(time), int32 \u001b[4mnscur\u001b[0m(time), int32 \u001b[4mdate\u001b[0m(time), int32 \u001b[4mdatesec\u001b[0m(time), int32 \u001b[4mnsteph\u001b[0m(time), float32 \u001b[4mDTV\u001b[0m(time,lev,lat,lon), float32 \u001b[4mDTVKE\u001b[0m(time,lev,lat,lon), float32 \u001b[4mFLUT\u001b[0m(time,lat,lon), float32 \u001b[4mLHFLX\u001b[0m(time,lat,lon), float32 \u001b[4mOMEGA\u001b[0m(time,lev,lat,lon), float32 \u001b[4mPHCLDICE\u001b[0m(time,lev,lat,lon), float32 \u001b[4mPHCLDLIQ\u001b[0m(time,lev,lat,lon), float32 \u001b[4mPHQ\u001b[0m(time,lev,lat,lon), float32 \u001b[4mPRECC\u001b[0m(time,lat,lon), float32 \u001b[4mPRECL\u001b[0m(time,lat,lon), float32 \u001b[4mPRECSC\u001b[0m(time,lat,lon), float32 \u001b[4mPRECSL\u001b[0m(time,lat,lon), float32 \u001b[4mPRECSTEN\u001b[0m(time,lat,lon), float32 \u001b[4mPRECT\u001b[0m(time,lat,lon), float32 \u001b[4mPRECTEND\u001b[0m(time,lat,lon), float32 \u001b[4mPS\u001b[0m(time,lat,lon), float32 \u001b[4mQAP\u001b[0m(time,lev,lat,lon), float32 \u001b[4mQCAP\u001b[0m(time,lev,lat,lon), float32 \u001b[4mQIAP\u001b[0m(time,lev,lat,lon), float32 \u001b[4mQRL\u001b[0m(time,lev,lat,lon), float32 \u001b[4mQRS\u001b[0m(time,lev,lat,lon), float32 \u001b[4mSHFLX\u001b[0m(time,lat,lon), float32 \u001b[4mSOLIN\u001b[0m(time,lat,lon), float32 \u001b[4mSPDQ\u001b[0m(time,lev,lat,lon), float32 \u001b[4mSPDQC\u001b[0m(time,lev,lat,lon), float32 \u001b[4mSPDQI\u001b[0m(time,lev,lat,lon), float32 \u001b[4mSPDT\u001b[0m(time,lev,lat,lon), float32 \u001b[4mSPQC\u001b[0m(time,lev,lat,lon), float32 \u001b[4mSPQI\u001b[0m(time,lev,lat,lon), float32 \u001b[4mSRFRAD\u001b[0m(time,lat,lon), float32 \u001b[4mT\u001b[0m(time,lev,lat,lon), float32 \u001b[4mTAP\u001b[0m(time,lev,lat,lon), float32 \u001b[4mTPHYSTND\u001b[0m(time,lev,lat,lon), float32 \u001b[4mTS\u001b[0m(time,lat,lon), float32 \u001b[4mUAP\u001b[0m(time,lev,lat,lon), float32 \u001b[4mUPHYSTND\u001b[0m(time,lev,lat,lon), float32 \u001b[4mVAP\u001b[0m(time,lev,lat,lon), float32 \u001b[4mVD01\u001b[0m(time,lev,lat,lon), float32 \u001b[4mVPHYSTND\u001b[0m(time,lev,lat,lon), float32 \u001b[4mdTdt_adiabatic\u001b[0m(time,lev,lat,lon), float32 \u001b[4mdQdt_adiabatic\u001b[0m(time,lev,lat,lon), float32 \u001b[4mTBP\u001b[0m(time,lev,lat,lon), float32 \u001b[4mQBP\u001b[0m(time,lev,lat,lon), float32 \u001b[4mTPHYSTND_NORAD\u001b[0m(time,lev,lat,lon)\n",
      "    groups: \n",
      "\n",
      "/beegfs/DATA/pritchard/srasp/Aquaplanet_enhance05_old_matlab/AndKua_aqua_SPCAM3.0_enhance05.cam2.h1.0000-03-14-00000.nc:  P0 () \u001b[0m\n",
      "/beegfs/DATA/pritchard/srasp/Aquaplanet_enhance05_old_matlab/AndKua_aqua_SPCAM3.0_enhance05.cam2.h1.0000-03-14-00000.nc:  lat (64,) \u001b[0m\n",
      "/beegfs/DATA/pritchard/srasp/Aquaplanet_enhance05_old_matlab/AndKua_aqua_SPCAM3.0_enhance05.cam2.h1.0000-03-14-00000.nc:  lon (128,) \u001b[0m\n",
      "/beegfs/DATA/pritchard/srasp/Aquaplanet_enhance05_old_matlab/AndKua_aqua_SPCAM3.0_enhance05.cam2.h1.0000-03-14-00000.nc:  crm_x (8,) \u001b[0m\n",
      "/beegfs/DATA/pritchard/srasp/Aquaplanet_enhance05_old_matlab/AndKua_aqua_SPCAM3.0_enhance05.cam2.h1.0000-03-14-00000.nc:  crm_y (1,) \u001b[0m\n",
      "/beegfs/DATA/pritchard/srasp/Aquaplanet_enhance05_old_matlab/AndKua_aqua_SPCAM3.0_enhance05.cam2.h1.0000-03-14-00000.nc:  crm_z (28,) \u001b[0m\n",
      "/beegfs/DATA/pritchard/srasp/Aquaplanet_enhance05_old_matlab/AndKua_aqua_SPCAM3.0_enhance05.cam2.h1.0000-03-14-00000.nc:  lev (30,) \u001b[0m\n",
      "/beegfs/DATA/pritchard/srasp/Aquaplanet_enhance05_old_matlab/AndKua_aqua_SPCAM3.0_enhance05.cam2.h1.0000-03-14-00000.nc:  ilev (31,) \u001b[0m\n",
      "/beegfs/DATA/pritchard/srasp/Aquaplanet_enhance05_old_matlab/AndKua_aqua_SPCAM3.0_enhance05.cam2.h1.0000-03-14-00000.nc:  isccp_prs (7,) \u001b[0m\n",
      "/beegfs/DATA/pritchard/srasp/Aquaplanet_enhance05_old_matlab/AndKua_aqua_SPCAM3.0_enhance05.cam2.h1.0000-03-14-00000.nc:  isccp_tau (7,) \u001b[0m\n",
      "/beegfs/DATA/pritchard/srasp/Aquaplanet_enhance05_old_matlab/AndKua_aqua_SPCAM3.0_enhance05.cam2.h1.0000-03-14-00000.nc:  isccp_prstau (49,) \u001b[0m\n",
      "/beegfs/DATA/pritchard/srasp/Aquaplanet_enhance05_old_matlab/AndKua_aqua_SPCAM3.0_enhance05.cam2.h1.0000-03-14-00000.nc:  time (48,) \u001b[0m\n",
      "/beegfs/DATA/pritchard/srasp/Aquaplanet_enhance05_old_matlab/AndKua_aqua_SPCAM3.0_enhance05.cam2.h1.0000-03-14-00000.nc:  time_bnds (48, 2) \u001b[0m\n",
      "/beegfs/DATA/pritchard/srasp/Aquaplanet_enhance05_old_matlab/AndKua_aqua_SPCAM3.0_enhance05.cam2.h1.0000-03-14-00000.nc:  date_written (48, 8) \u001b[0m\n",
      "/beegfs/DATA/pritchard/srasp/Aquaplanet_enhance05_old_matlab/AndKua_aqua_SPCAM3.0_enhance05.cam2.h1.0000-03-14-00000.nc:  time_written (48, 8) \u001b[0m\n",
      "/beegfs/DATA/pritchard/srasp/Aquaplanet_enhance05_old_matlab/AndKua_aqua_SPCAM3.0_enhance05.cam2.h1.0000-03-14-00000.nc:  ntrm () \u001b[0m\n",
      "/beegfs/DATA/pritchard/srasp/Aquaplanet_enhance05_old_matlab/AndKua_aqua_SPCAM3.0_enhance05.cam2.h1.0000-03-14-00000.nc:  ntrn () \u001b[0m\n",
      "/beegfs/DATA/pritchard/srasp/Aquaplanet_enhance05_old_matlab/AndKua_aqua_SPCAM3.0_enhance05.cam2.h1.0000-03-14-00000.nc:  ntrk () \u001b[0m\n",
      "/beegfs/DATA/pritchard/srasp/Aquaplanet_enhance05_old_matlab/AndKua_aqua_SPCAM3.0_enhance05.cam2.h1.0000-03-14-00000.nc:  ndbase () \u001b[0m\n",
      "/beegfs/DATA/pritchard/srasp/Aquaplanet_enhance05_old_matlab/AndKua_aqua_SPCAM3.0_enhance05.cam2.h1.0000-03-14-00000.nc:  nsbase () \u001b[0m\n",
      "/beegfs/DATA/pritchard/srasp/Aquaplanet_enhance05_old_matlab/AndKua_aqua_SPCAM3.0_enhance05.cam2.h1.0000-03-14-00000.nc:  nbdate () \u001b[0m\n",
      "/beegfs/DATA/pritchard/srasp/Aquaplanet_enhance05_old_matlab/AndKua_aqua_SPCAM3.0_enhance05.cam2.h1.0000-03-14-00000.nc:  nbsec () \u001b[0m\n",
      "/beegfs/DATA/pritchard/srasp/Aquaplanet_enhance05_old_matlab/AndKua_aqua_SPCAM3.0_enhance05.cam2.h1.0000-03-14-00000.nc:  mdt () \u001b[0m\n",
      "/beegfs/DATA/pritchard/srasp/Aquaplanet_enhance05_old_matlab/AndKua_aqua_SPCAM3.0_enhance05.cam2.h1.0000-03-14-00000.nc:  nlon (64,) \u001b[0m\n",
      "/beegfs/DATA/pritchard/srasp/Aquaplanet_enhance05_old_matlab/AndKua_aqua_SPCAM3.0_enhance05.cam2.h1.0000-03-14-00000.nc:  wnummax (64,) \u001b[0m\n",
      "/beegfs/DATA/pritchard/srasp/Aquaplanet_enhance05_old_matlab/AndKua_aqua_SPCAM3.0_enhance05.cam2.h1.0000-03-14-00000.nc:  hyai (31,) \u001b[0m\n",
      "/beegfs/DATA/pritchard/srasp/Aquaplanet_enhance05_old_matlab/AndKua_aqua_SPCAM3.0_enhance05.cam2.h1.0000-03-14-00000.nc:  hybi (31,) \u001b[0m\n",
      "/beegfs/DATA/pritchard/srasp/Aquaplanet_enhance05_old_matlab/AndKua_aqua_SPCAM3.0_enhance05.cam2.h1.0000-03-14-00000.nc:  hyam (30,) \u001b[0m\n",
      "/beegfs/DATA/pritchard/srasp/Aquaplanet_enhance05_old_matlab/AndKua_aqua_SPCAM3.0_enhance05.cam2.h1.0000-03-14-00000.nc:  hybm (30,) \u001b[0m\n",
      "/beegfs/DATA/pritchard/srasp/Aquaplanet_enhance05_old_matlab/AndKua_aqua_SPCAM3.0_enhance05.cam2.h1.0000-03-14-00000.nc:  gw (64,) \u001b[0m\n",
      "/beegfs/DATA/pritchard/srasp/Aquaplanet_enhance05_old_matlab/AndKua_aqua_SPCAM3.0_enhance05.cam2.h1.0000-03-14-00000.nc:  ndcur (48,) \u001b[0m\n",
      "/beegfs/DATA/pritchard/srasp/Aquaplanet_enhance05_old_matlab/AndKua_aqua_SPCAM3.0_enhance05.cam2.h1.0000-03-14-00000.nc:  nscur (48,) \u001b[0m\n",
      "/beegfs/DATA/pritchard/srasp/Aquaplanet_enhance05_old_matlab/AndKua_aqua_SPCAM3.0_enhance05.cam2.h1.0000-03-14-00000.nc:  date (48,) \u001b[0m\n",
      "/beegfs/DATA/pritchard/srasp/Aquaplanet_enhance05_old_matlab/AndKua_aqua_SPCAM3.0_enhance05.cam2.h1.0000-03-14-00000.nc:  datesec (48,) \u001b[0m\n",
      "/beegfs/DATA/pritchard/srasp/Aquaplanet_enhance05_old_matlab/AndKua_aqua_SPCAM3.0_enhance05.cam2.h1.0000-03-14-00000.nc:  nsteph (48,) \u001b[0m\n",
      "\u001b[33m\n",
      "/beegfs/DATA/pritchard/srasp/Aquaplanet_enhance05_old_matlab/AndKua_aqua_SPCAM3.0_enhance05.cam2.h1.0000-03-14-00000.nc:  DTV (48, 30, 64, 128) \u001b[0m\n",
      "\u001b[33m\n",
      "/beegfs/DATA/pritchard/srasp/Aquaplanet_enhance05_old_matlab/AndKua_aqua_SPCAM3.0_enhance05.cam2.h1.0000-03-14-00000.nc:  DTVKE (48, 30, 64, 128) \u001b[0m\n",
      "\u001b[33m\n",
      "/beegfs/DATA/pritchard/srasp/Aquaplanet_enhance05_old_matlab/AndKua_aqua_SPCAM3.0_enhance05.cam2.h1.0000-03-14-00000.nc:  FLUT (48, 64, 128) \u001b[0m\n",
      "\u001b[33m\n",
      "/beegfs/DATA/pritchard/srasp/Aquaplanet_enhance05_old_matlab/AndKua_aqua_SPCAM3.0_enhance05.cam2.h1.0000-03-14-00000.nc:  LHFLX (48, 64, 128) \u001b[0m\n",
      "\u001b[33m\n",
      "/beegfs/DATA/pritchard/srasp/Aquaplanet_enhance05_old_matlab/AndKua_aqua_SPCAM3.0_enhance05.cam2.h1.0000-03-14-00000.nc:  OMEGA (48, 30, 64, 128) \u001b[0m\n",
      "\u001b[33m\n",
      "/beegfs/DATA/pritchard/srasp/Aquaplanet_enhance05_old_matlab/AndKua_aqua_SPCAM3.0_enhance05.cam2.h1.0000-03-14-00000.nc:  PHCLDICE (48, 30, 64, 128) \u001b[0m\n",
      "\u001b[33m\n",
      "/beegfs/DATA/pritchard/srasp/Aquaplanet_enhance05_old_matlab/AndKua_aqua_SPCAM3.0_enhance05.cam2.h1.0000-03-14-00000.nc:  PHCLDLIQ (48, 30, 64, 128) \u001b[0m\n",
      "\u001b[33m\n",
      "/beegfs/DATA/pritchard/srasp/Aquaplanet_enhance05_old_matlab/AndKua_aqua_SPCAM3.0_enhance05.cam2.h1.0000-03-14-00000.nc:  PHQ (48, 30, 64, 128) \u001b[0m\n",
      "\u001b[33m\n",
      "/beegfs/DATA/pritchard/srasp/Aquaplanet_enhance05_old_matlab/AndKua_aqua_SPCAM3.0_enhance05.cam2.h1.0000-03-14-00000.nc:  PRECC (48, 64, 128) \u001b[0m\n",
      "\u001b[33m\n",
      "/beegfs/DATA/pritchard/srasp/Aquaplanet_enhance05_old_matlab/AndKua_aqua_SPCAM3.0_enhance05.cam2.h1.0000-03-14-00000.nc:  PRECL (48, 64, 128) \u001b[0m\n",
      "\u001b[33m\n",
      "/beegfs/DATA/pritchard/srasp/Aquaplanet_enhance05_old_matlab/AndKua_aqua_SPCAM3.0_enhance05.cam2.h1.0000-03-14-00000.nc:  PRECSC (48, 64, 128) \u001b[0m\n",
      "\u001b[33m\n",
      "/beegfs/DATA/pritchard/srasp/Aquaplanet_enhance05_old_matlab/AndKua_aqua_SPCAM3.0_enhance05.cam2.h1.0000-03-14-00000.nc:  PRECSL (48, 64, 128) \u001b[0m\n",
      "\u001b[33m\n",
      "/beegfs/DATA/pritchard/srasp/Aquaplanet_enhance05_old_matlab/AndKua_aqua_SPCAM3.0_enhance05.cam2.h1.0000-03-14-00000.nc:  PRECSTEN (48, 64, 128) \u001b[0m\n",
      "\u001b[33m\n",
      "/beegfs/DATA/pritchard/srasp/Aquaplanet_enhance05_old_matlab/AndKua_aqua_SPCAM3.0_enhance05.cam2.h1.0000-03-14-00000.nc:  PRECT (48, 64, 128) \u001b[0m\n",
      "\u001b[33m\n",
      "/beegfs/DATA/pritchard/srasp/Aquaplanet_enhance05_old_matlab/AndKua_aqua_SPCAM3.0_enhance05.cam2.h1.0000-03-14-00000.nc:  PRECTEND (48, 64, 128) \u001b[0m\n",
      "\u001b[33m\n",
      "/beegfs/DATA/pritchard/srasp/Aquaplanet_enhance05_old_matlab/AndKua_aqua_SPCAM3.0_enhance05.cam2.h1.0000-03-14-00000.nc:  PS (48, 64, 128) \u001b[0m\n",
      "\u001b[33m\n",
      "/beegfs/DATA/pritchard/srasp/Aquaplanet_enhance05_old_matlab/AndKua_aqua_SPCAM3.0_enhance05.cam2.h1.0000-03-14-00000.nc:  QAP (48, 30, 64, 128) \u001b[0m\n"
     ]
    },
    {
     "name": "stdout",
     "output_type": "stream",
     "text": [
      "\u001b[33m\n",
      "/beegfs/DATA/pritchard/srasp/Aquaplanet_enhance05_old_matlab/AndKua_aqua_SPCAM3.0_enhance05.cam2.h1.0000-03-14-00000.nc:  QCAP (48, 30, 64, 128) \u001b[0m\n",
      "\u001b[33m\n",
      "/beegfs/DATA/pritchard/srasp/Aquaplanet_enhance05_old_matlab/AndKua_aqua_SPCAM3.0_enhance05.cam2.h1.0000-03-14-00000.nc:  QIAP (48, 30, 64, 128) \u001b[0m\n",
      "\u001b[33m\n",
      "/beegfs/DATA/pritchard/srasp/Aquaplanet_enhance05_old_matlab/AndKua_aqua_SPCAM3.0_enhance05.cam2.h1.0000-03-14-00000.nc:  QRL (48, 30, 64, 128) \u001b[0m\n",
      "\u001b[33m\n",
      "/beegfs/DATA/pritchard/srasp/Aquaplanet_enhance05_old_matlab/AndKua_aqua_SPCAM3.0_enhance05.cam2.h1.0000-03-14-00000.nc:  QRS (48, 30, 64, 128) \u001b[0m\n",
      "\u001b[33m\n",
      "/beegfs/DATA/pritchard/srasp/Aquaplanet_enhance05_old_matlab/AndKua_aqua_SPCAM3.0_enhance05.cam2.h1.0000-03-14-00000.nc:  SHFLX (48, 64, 128) \u001b[0m\n",
      "\u001b[33m\n",
      "/beegfs/DATA/pritchard/srasp/Aquaplanet_enhance05_old_matlab/AndKua_aqua_SPCAM3.0_enhance05.cam2.h1.0000-03-14-00000.nc:  SOLIN (48, 64, 128) \u001b[0m\n",
      "\u001b[33m\n",
      "/beegfs/DATA/pritchard/srasp/Aquaplanet_enhance05_old_matlab/AndKua_aqua_SPCAM3.0_enhance05.cam2.h1.0000-03-14-00000.nc:  SPDQ (48, 30, 64, 128) \u001b[0m\n",
      "\u001b[33m\n",
      "/beegfs/DATA/pritchard/srasp/Aquaplanet_enhance05_old_matlab/AndKua_aqua_SPCAM3.0_enhance05.cam2.h1.0000-03-14-00000.nc:  SPDQC (48, 30, 64, 128) \u001b[0m\n",
      "\u001b[33m\n",
      "/beegfs/DATA/pritchard/srasp/Aquaplanet_enhance05_old_matlab/AndKua_aqua_SPCAM3.0_enhance05.cam2.h1.0000-03-14-00000.nc:  SPDQI (48, 30, 64, 128) \u001b[0m\n",
      "\u001b[33m\n",
      "/beegfs/DATA/pritchard/srasp/Aquaplanet_enhance05_old_matlab/AndKua_aqua_SPCAM3.0_enhance05.cam2.h1.0000-03-14-00000.nc:  SPDT (48, 30, 64, 128) \u001b[0m\n",
      "\u001b[33m\n",
      "/beegfs/DATA/pritchard/srasp/Aquaplanet_enhance05_old_matlab/AndKua_aqua_SPCAM3.0_enhance05.cam2.h1.0000-03-14-00000.nc:  SPQC (48, 30, 64, 128) \u001b[0m\n",
      "\u001b[33m\n",
      "/beegfs/DATA/pritchard/srasp/Aquaplanet_enhance05_old_matlab/AndKua_aqua_SPCAM3.0_enhance05.cam2.h1.0000-03-14-00000.nc:  SPQI (48, 30, 64, 128) \u001b[0m\n",
      "\u001b[33m\n",
      "/beegfs/DATA/pritchard/srasp/Aquaplanet_enhance05_old_matlab/AndKua_aqua_SPCAM3.0_enhance05.cam2.h1.0000-03-14-00000.nc:  SRFRAD (48, 64, 128) \u001b[0m\n",
      "\u001b[33m\n",
      "/beegfs/DATA/pritchard/srasp/Aquaplanet_enhance05_old_matlab/AndKua_aqua_SPCAM3.0_enhance05.cam2.h1.0000-03-14-00000.nc:  T (48, 30, 64, 128) \u001b[0m\n",
      "\u001b[33m\n",
      "/beegfs/DATA/pritchard/srasp/Aquaplanet_enhance05_old_matlab/AndKua_aqua_SPCAM3.0_enhance05.cam2.h1.0000-03-14-00000.nc:  TAP (48, 30, 64, 128) \u001b[0m\n",
      "\u001b[33m\n",
      "/beegfs/DATA/pritchard/srasp/Aquaplanet_enhance05_old_matlab/AndKua_aqua_SPCAM3.0_enhance05.cam2.h1.0000-03-14-00000.nc:  TPHYSTND (48, 30, 64, 128) \u001b[0m\n",
      "\u001b[33m\n",
      "/beegfs/DATA/pritchard/srasp/Aquaplanet_enhance05_old_matlab/AndKua_aqua_SPCAM3.0_enhance05.cam2.h1.0000-03-14-00000.nc:  TS (48, 64, 128) \u001b[0m\n",
      "\u001b[33m\n",
      "/beegfs/DATA/pritchard/srasp/Aquaplanet_enhance05_old_matlab/AndKua_aqua_SPCAM3.0_enhance05.cam2.h1.0000-03-14-00000.nc:  UAP (48, 30, 64, 128) \u001b[0m\n",
      "\u001b[33m\n",
      "/beegfs/DATA/pritchard/srasp/Aquaplanet_enhance05_old_matlab/AndKua_aqua_SPCAM3.0_enhance05.cam2.h1.0000-03-14-00000.nc:  UPHYSTND (48, 30, 64, 128) \u001b[0m\n",
      "\u001b[33m\n",
      "/beegfs/DATA/pritchard/srasp/Aquaplanet_enhance05_old_matlab/AndKua_aqua_SPCAM3.0_enhance05.cam2.h1.0000-03-14-00000.nc:  VAP (48, 30, 64, 128) \u001b[0m\n",
      "\u001b[33m\n",
      "/beegfs/DATA/pritchard/srasp/Aquaplanet_enhance05_old_matlab/AndKua_aqua_SPCAM3.0_enhance05.cam2.h1.0000-03-14-00000.nc:  VD01 (48, 30, 64, 128) \u001b[0m\n",
      "\u001b[33m\n",
      "/beegfs/DATA/pritchard/srasp/Aquaplanet_enhance05_old_matlab/AndKua_aqua_SPCAM3.0_enhance05.cam2.h1.0000-03-14-00000.nc:  VPHYSTND (48, 30, 64, 128) \u001b[0m\n",
      "\u001b[33m\n",
      "/beegfs/DATA/pritchard/srasp/Aquaplanet_enhance05_old_matlab/AndKua_aqua_SPCAM3.0_enhance05.cam2.h1.0000-03-14-00000.nc:  dTdt_adiabatic (48, 30, 64, 128) \u001b[0m\n",
      "\u001b[33m\n",
      "/beegfs/DATA/pritchard/srasp/Aquaplanet_enhance05_old_matlab/AndKua_aqua_SPCAM3.0_enhance05.cam2.h1.0000-03-14-00000.nc:  dQdt_adiabatic (48, 30, 64, 128) \u001b[0m\n",
      "\u001b[33m\n",
      "/beegfs/DATA/pritchard/srasp/Aquaplanet_enhance05_old_matlab/AndKua_aqua_SPCAM3.0_enhance05.cam2.h1.0000-03-14-00000.nc:  TBP (48, 30, 64, 128) \u001b[0m\n",
      "\u001b[33m\n",
      "/beegfs/DATA/pritchard/srasp/Aquaplanet_enhance05_old_matlab/AndKua_aqua_SPCAM3.0_enhance05.cam2.h1.0000-03-14-00000.nc:  QBP (48, 30, 64, 128) \u001b[0m\n",
      "\u001b[33m\n",
      "/beegfs/DATA/pritchard/srasp/Aquaplanet_enhance05_old_matlab/AndKua_aqua_SPCAM3.0_enhance05.cam2.h1.0000-03-14-00000.nc:  TPHYSTND_NORAD (48, 30, 64, 128) \u001b[0m\n",
      "n_tim = 48  =  [ 72.          72.02083333  72.04166667] ... [ 72.9375      72.95833333  72.97916667]\n",
      "n_lev = 30  =  [  3.64346569   7.59481965  14.35663225] ... [ 957.48547954  976.32540739  992.55609512]\n",
      "n_lat = 64  =  [-87.86379884 -85.09652699 -82.31291295] ... [ 82.31291295  85.09652699  87.86379884]\n",
      "n_lon = 128  =  [ 0.      2.8125  5.625 ] ... [ 351.5625  354.375   357.1875]\n",
      "self.varNameSplit -2\n",
      "accessTimeData varDim[k]= 4 fileReader[k]= (48, 30, 64, 128)\n",
      "TBP ----> arr= (30, 64, 128)\n",
      "TBP --------> arr= (30, 64, 128)\n",
      "TBP ------------> arr= (30, 64, 128)\n",
      "accessTimeData varDim[k]= 4 fileReader[k]= (48, 30, 64, 128)\n",
      "QBP ----> arr= (30, 64, 128)\n",
      "QBP --------> arr= (30, 64, 128)\n",
      "QBP ------------> arr= (30, 64, 128)\n",
      "accessTimeData varDim[k]= 3 fileReader[k]= (48, 64, 128)\n",
      "PS ----> arr= (1, 64, 128)\n",
      "PS --------> arr= (1, 64, 128)\n",
      "PS ------------> arr= (30, 64, 128)\n",
      "accessTimeData varDim[k]= 3 fileReader[k]= (48, 64, 128)\n",
      "SHFLX ----> arr= (1, 64, 128)\n",
      "SHFLX --------> arr= (1, 64, 128)\n",
      "SHFLX ------------> arr= (30, 64, 128)\n",
      "accessTimeData varDim[k]= 3 fileReader[k]= (48, 64, 128)\n",
      "LHFLX ----> arr= (1, 64, 128)\n",
      "LHFLX --------> arr= (1, 64, 128)\n",
      "LHFLX ------------> arr= (30, 64, 128)\n",
      "accessTimeData varDim[k]= 4 fileReader[k]= (48, 30, 64, 128)\n",
      "dTdt_adiabatic ----> arr= (30, 64, 128)\n",
      "dTdt_adiabatic --------> arr= (30, 64, 128)\n",
      "dTdt_adiabatic ------------> arr= (30, 64, 128)\n",
      "accessTimeData varDim[k]= 4 fileReader[k]= (48, 30, 64, 128)\n",
      "dQdt_adiabatic ----> arr= (30, 64, 128)\n",
      "dQdt_adiabatic --------> arr= (30, 64, 128)\n",
      "dQdt_adiabatic ------------> arr= (30, 64, 128)\n",
      "accessTimeData varDim[k]= 4 fileReader[k]= (48, 30, 64, 128)\n",
      "TPHYSTND_NORAD ----> arr= (30, 64, 128)\n",
      "TPHYSTND_NORAD --------> arr= (30, 64, 128)\n",
      "TPHYSTND_NORAD ------------> arr= (30, 64, 128)\n",
      "accessTimeData varDim[k]= 4 fileReader[k]= (48, 30, 64, 128)\n",
      "PHQ ----> arr= (30, 64, 128)\n",
      "PHQ --------> arr= (30, 64, 128)\n",
      "PHQ ------------> arr= (30, 64, 128)\n",
      "accessTimeData  ['TBP', 'QBP', 'PS', 'SHFLX', 'LHFLX', 'dTdt_adiabatic', 'dQdt_adiabatic', 'TPHYSTND_NORAD', 'PHQ'] (9, 30, 64, 128)\n",
      "sampX = (7, 30, 64, 128)\n",
      "sampY = (2, 30, 64, 128)\n",
      "batchSize =  256\n",
      "Xshape [7, 30, 64, 128]\n",
      "Yshape [2, 30, 64, 128]\n"
     ]
    }
   ],
   "source": [
    "dl = DataLoader(data_dir, config, 'AndKua_aqua_SPCAM3.0_enhance05.cam2.h1.0000-01-01-00000.nc')"
   ]
  },
  {
   "cell_type": "code",
   "execution_count": 13,
   "metadata": {
    "hidden": true
   },
   "outputs": [],
   "source": [
    "??dl.accessTimeData()"
   ]
  },
  {
   "cell_type": "code",
   "execution_count": 15,
   "metadata": {
    "hidden": true
   },
   "outputs": [],
   "source": [
    "aqua = nc.Dataset(data_dir + 'AndKua_aqua_SPCAM3.0_enhance05.cam2.h1.0000-01-01-00000.nc')"
   ]
  },
  {
   "cell_type": "code",
   "execution_count": 16,
   "metadata": {
    "hidden": true
   },
   "outputs": [
    {
     "name": "stdout",
     "output_type": "stream",
     "text": [
      "accessTimeData varDim[k]= 4 fileReader[k]= (48, 30, 64, 128)\n",
      "TBP ----> arr= (30, 64, 128)\n",
      "TBP --------> arr= (30, 64, 128)\n",
      "TBP ------------> arr= (30, 64, 128)\n",
      "accessTimeData varDim[k]= 4 fileReader[k]= (48, 30, 64, 128)\n",
      "QBP ----> arr= (30, 64, 128)\n",
      "QBP --------> arr= (30, 64, 128)\n",
      "QBP ------------> arr= (30, 64, 128)\n",
      "accessTimeData varDim[k]= 3 fileReader[k]= (48, 64, 128)\n",
      "PS ----> arr= (1, 64, 128)\n",
      "PS --------> arr= (1, 64, 128)\n",
      "PS ------------> arr= (30, 64, 128)\n",
      "accessTimeData varDim[k]= 3 fileReader[k]= (48, 64, 128)\n",
      "SHFLX ----> arr= (1, 64, 128)\n",
      "SHFLX --------> arr= (1, 64, 128)\n",
      "SHFLX ------------> arr= (30, 64, 128)\n",
      "accessTimeData varDim[k]= 3 fileReader[k]= (48, 64, 128)\n",
      "LHFLX ----> arr= (1, 64, 128)\n",
      "LHFLX --------> arr= (1, 64, 128)\n",
      "LHFLX ------------> arr= (30, 64, 128)\n",
      "accessTimeData varDim[k]= 4 fileReader[k]= (48, 30, 64, 128)\n",
      "dTdt_adiabatic ----> arr= (30, 64, 128)\n",
      "dTdt_adiabatic --------> arr= (30, 64, 128)\n",
      "dTdt_adiabatic ------------> arr= (30, 64, 128)\n",
      "accessTimeData varDim[k]= 4 fileReader[k]= (48, 30, 64, 128)\n",
      "dQdt_adiabatic ----> arr= (30, 64, 128)\n",
      "dQdt_adiabatic --------> arr= (30, 64, 128)\n",
      "dQdt_adiabatic ------------> arr= (30, 64, 128)\n",
      "accessTimeData  ['TBP', 'QBP', 'PS', 'SHFLX', 'LHFLX', 'dTdt_adiabatic', 'dQdt_adiabatic'] (7, 30, 64, 128)\n"
     ]
    }
   ],
   "source": [
    "X = dl.accessTimeData(aqua, inps, iTim=1, doLog=True)"
   ]
  },
  {
   "cell_type": "code",
   "execution_count": 17,
   "metadata": {
    "hidden": true
   },
   "outputs": [
    {
     "data": {
      "text/plain": [
       "(7, 30, 64, 128)"
      ]
     },
     "execution_count": 17,
     "metadata": {},
     "output_type": "execute_result"
    }
   ],
   "source": [
    "X.shape"
   ]
  },
  {
   "cell_type": "code",
   "execution_count": null,
   "metadata": {
    "collapsed": true,
    "hidden": true
   },
   "outputs": [],
   "source": []
  }
 ],
 "metadata": {
  "kernelspec": {
   "display_name": "Python 3",
   "language": "python",
   "name": "python3"
  },
  "language_info": {
   "codemirror_mode": {
    "name": "ipython",
    "version": 3
   },
   "file_extension": ".py",
   "mimetype": "text/x-python",
   "name": "python",
   "nbconvert_exporter": "python",
   "pygments_lexer": "ipython3",
   "version": "3.6.4"
  },
  "toc": {
   "nav_menu": {},
   "number_sections": true,
   "sideBar": true,
   "skip_h1_title": true,
   "title_cell": "Table of Contents",
   "title_sidebar": "Contents",
   "toc_cell": false,
   "toc_position": {},
   "toc_section_display": true,
   "toc_window_display": false
  }
 },
 "nbformat": 4,
 "nbformat_minor": 2
}
