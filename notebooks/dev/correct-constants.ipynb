{
 "cells": [
  {
   "cell_type": "code",
   "execution_count": 1,
   "metadata": {},
   "outputs": [
    {
     "name": "stderr",
     "output_type": "stream",
     "text": [
      "/export/home/srasp/anaconda3/lib/python3.6/site-packages/h5py/__init__.py:36: FutureWarning: Conversion of the second argument of issubdtype from `float` to `np.floating` is deprecated. In future, it will be treated as `np.float64 == np.dtype(float).type`.\n",
      "  from ._conv import register_converters as _register_converters\n",
      "Using TensorFlow backend.\n"
     ]
    }
   ],
   "source": [
    "from cbrain.imports import *"
   ]
  },
  {
   "cell_type": "code",
   "execution_count": 11,
   "metadata": {},
   "outputs": [],
   "source": [
    "fn = '/scratch/srasp/preprocessed_data/fbp_engy_ess_train_fullyear_norm.nc'"
   ]
  },
  {
   "cell_type": "code",
   "execution_count": 12,
   "metadata": {},
   "outputs": [],
   "source": [
    "!mv {fn} {fn}.orig"
   ]
  },
  {
   "cell_type": "code",
   "execution_count": 13,
   "metadata": {},
   "outputs": [],
   "source": [
    "ds = xr.open_dataset(f'{fn}.orig')"
   ]
  },
  {
   "cell_type": "code",
   "execution_count": 14,
   "metadata": {},
   "outputs": [
    {
     "data": {
      "text/plain": [
       "<xarray.DataArray 'target_conv' (target_lev: 65)>\n",
       "array([ 1.0000e+03,  1.0000e+03,  1.0000e+03,  1.0000e+03,  1.0000e+03,\n",
       "        1.0000e+03,  1.0000e+03,  1.0000e+03,  1.0000e+03,  1.0000e+03,\n",
       "        1.0000e+03,  1.0000e+03,  1.0000e+03,  1.0000e+03,  1.0000e+03,\n",
       "        1.0000e+03,  1.0000e+03,  1.0000e+03,  1.0000e+03,  1.0000e+03,\n",
       "        1.0000e+03,  1.0000e+03,  1.0000e+03,  1.0000e+03,  1.0000e+03,\n",
       "        1.0000e+03,  1.0000e+03,  1.0000e+03,  1.0000e+03,  1.0000e+03,\n",
       "        2.8347e+06,  2.8347e+06,  2.8347e+06,  2.8347e+06,  2.8347e+06,\n",
       "        2.8347e+06,  2.8347e+06,  2.8347e+06,  2.8347e+06,  2.8347e+06,\n",
       "        2.8347e+06,  2.8347e+06,  2.8347e+06,  2.8347e+06,  2.8347e+06,\n",
       "        2.8347e+06,  2.8347e+06,  2.8347e+06,  2.8347e+06,  2.8347e+06,\n",
       "        2.8347e+06,  2.8347e+06,  2.8347e+06,  2.8347e+06,  2.8347e+06,\n",
       "        2.8347e+06,  2.8347e+06,  2.8347e+06,  2.8347e+06,  2.8347e+06,\n",
       "        1.0000e-03, -1.0000e-03, -1.0000e-03,  1.0000e-03,  1.7280e+06],\n",
       "      dtype=float32)\n",
       "Coordinates:\n",
       "  * target_lev  (target_lev) int64 0 1 2 3 4 5 6 7 8 9 10 11 12 13 14 15 16 ..."
      ]
     },
     "execution_count": 14,
     "metadata": {},
     "output_type": "execute_result"
    }
   ],
   "source": [
    "ds['target_conv']"
   ]
  },
  {
   "cell_type": "code",
   "execution_count": 15,
   "metadata": {},
   "outputs": [],
   "source": [
    "ds['target_conv'][:30] = C_P\n",
    "ds['target_conv'][30:60] = L_S"
   ]
  },
  {
   "cell_type": "code",
   "execution_count": 16,
   "metadata": {},
   "outputs": [
    {
     "data": {
      "text/plain": [
       "<xarray.DataArray 'target_conv' (target_lev: 65)>\n",
       "array([ 1.00464e+03,  1.00464e+03,  1.00464e+03,  1.00464e+03,  1.00464e+03,\n",
       "        1.00464e+03,  1.00464e+03,  1.00464e+03,  1.00464e+03,  1.00464e+03,\n",
       "        1.00464e+03,  1.00464e+03,  1.00464e+03,  1.00464e+03,  1.00464e+03,\n",
       "        1.00464e+03,  1.00464e+03,  1.00464e+03,  1.00464e+03,  1.00464e+03,\n",
       "        1.00464e+03,  1.00464e+03,  1.00464e+03,  1.00464e+03,  1.00464e+03,\n",
       "        1.00464e+03,  1.00464e+03,  1.00464e+03,  1.00464e+03,  1.00464e+03,\n",
       "        2.83470e+06,  2.83470e+06,  2.83470e+06,  2.83470e+06,  2.83470e+06,\n",
       "        2.83470e+06,  2.83470e+06,  2.83470e+06,  2.83470e+06,  2.83470e+06,\n",
       "        2.83470e+06,  2.83470e+06,  2.83470e+06,  2.83470e+06,  2.83470e+06,\n",
       "        2.83470e+06,  2.83470e+06,  2.83470e+06,  2.83470e+06,  2.83470e+06,\n",
       "        2.83470e+06,  2.83470e+06,  2.83470e+06,  2.83470e+06,  2.83470e+06,\n",
       "        2.83470e+06,  2.83470e+06,  2.83470e+06,  2.83470e+06,  2.83470e+06,\n",
       "        1.00000e-03, -1.00000e-03, -1.00000e-03,  1.00000e-03,  1.72800e+06],\n",
       "      dtype=float32)\n",
       "Coordinates:\n",
       "  * target_lev  (target_lev) int64 0 1 2 3 4 5 6 7 8 9 10 11 12 13 14 15 16 ..."
      ]
     },
     "execution_count": 16,
     "metadata": {},
     "output_type": "execute_result"
    }
   ],
   "source": [
    "ds['target_conv']"
   ]
  },
  {
   "cell_type": "code",
   "execution_count": 17,
   "metadata": {},
   "outputs": [],
   "source": [
    "ds.to_netcdf(fn)"
   ]
  },
  {
   "cell_type": "code",
   "execution_count": 18,
   "metadata": {},
   "outputs": [],
   "source": [
    "ds.close()"
   ]
  },
  {
   "cell_type": "code",
   "execution_count": null,
   "metadata": {},
   "outputs": [],
   "source": []
  }
 ],
 "metadata": {
  "kernelspec": {
   "display_name": "Python 3",
   "language": "python",
   "name": "python3"
  },
  "language_info": {
   "codemirror_mode": {
    "name": "ipython",
    "version": 3
   },
   "file_extension": ".py",
   "mimetype": "text/x-python",
   "name": "python",
   "nbconvert_exporter": "python",
   "pygments_lexer": "ipython3",
   "version": "3.6.4"
  },
  "toc": {
   "nav_menu": {},
   "number_sections": true,
   "sideBar": true,
   "skip_h1_title": true,
   "title_cell": "Table of Contents",
   "title_sidebar": "Contents",
   "toc_cell": false,
   "toc_position": {},
   "toc_section_display": true,
   "toc_window_display": false
  }
 },
 "nbformat": 4,
 "nbformat_minor": 2
}
