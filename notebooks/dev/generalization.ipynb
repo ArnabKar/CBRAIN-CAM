{
 "cells": [
  {
   "cell_type": "code",
   "execution_count": 1,
   "metadata": {},
   "outputs": [],
   "source": [
    "%load_ext autoreload\n",
    "%autoreload 2"
   ]
  },
  {
   "cell_type": "code",
   "execution_count": 111,
   "metadata": {},
   "outputs": [],
   "source": [
    "%matplotlib inline\n",
    "from cbrain.imports import *\n",
    "from cbrain.utils import *\n",
    "from cbrain.data_generator import DataGenerator, threadsafe_generator\n",
    "from cbrain.models import *\n",
    "from cbrain.model_diagnostics import ModelDiagnostics"
   ]
  },
  {
   "cell_type": "code",
   "execution_count": 5,
   "metadata": {},
   "outputs": [],
   "source": [
    "PREPROC_DIR = '/scratch/srasp/preprocessed_data/'"
   ]
  },
  {
   "cell_type": "code",
   "execution_count": 36,
   "metadata": {},
   "outputs": [],
   "source": [
    "norms = ('feature_means', 'max_rs', None, 'target_conv')"
   ]
  },
  {
   "cell_type": "code",
   "execution_count": 17,
   "metadata": {},
   "outputs": [],
   "source": [
    "def get_lr_sched(lr_init, div, step):\n",
    "    def lr_update(epoch):\n",
    "        # From goo.gl/GXQaK6\n",
    "        init_lr = lr_init\n",
    "        drop = 1./div\n",
    "        epochs_drop = step\n",
    "        lr = init_lr * np.power(drop, np.floor((1+epoch)/epochs_drop))\n",
    "        print('lr:', lr)\n",
    "        return lr\n",
    "    return lr_update"
   ]
  },
  {
   "cell_type": "code",
   "execution_count": 107,
   "metadata": {},
   "outputs": [],
   "source": [
    "def get_diag(m, sst='4k', convo=False):\n",
    "    return ModelDiagnostics(m, \n",
    "                    fpath=f'{PREPROC_DIR}fbp_engy_ess_valid_{sst}_features.nc',\n",
    "                    tpath=f'{PREPROC_DIR}fbp_engy_ess_valid_{sst}_targets.nc',\n",
    "                    npath=f'{PREPROC_DIR}fbp_engy_ess_train_fullyear_norm.nc',\n",
    "                    norms=norms, convo=convo)"
   ]
  },
  {
   "cell_type": "code",
   "execution_count": 109,
   "metadata": {},
   "outputs": [],
   "source": [
    "def evaluate(m, convo=False):\n",
    "    dref = get_diag(m, 'fullyear', convo); dref.compute_stats()\n",
    "    print(dref.mean_stats(10)['hor_r2'])\n",
    "    d4k = get_diag(m, '4k', convo); d4k.compute_stats()\n",
    "    print(d4k.mean_stats(10)['hor_r2'])\n",
    "    d4k.plot_double_yz(10, 15, 'TPHYSTND', cmap='bwr', vmin=-7e-4, vmax=7e-4);\n",
    "    return dref, d4k"
   ]
  },
  {
   "cell_type": "markdown",
   "metadata": {
    "heading_collapsed": true
   },
   "source": [
    "## Load trained model and test on +4K data"
   ]
  },
  {
   "cell_type": "code",
   "execution_count": 31,
   "metadata": {
    "hidden": true
   },
   "outputs": [],
   "source": [
    "mref = keras.models.load_model(\n",
    "    '/export/home/srasp/repositories/CBRAIN-CAM/saved_models/D004_fbp_engy_ess_fullyear_max_rs_deep.h5')"
   ]
  },
  {
   "cell_type": "code",
   "execution_count": 49,
   "metadata": {
    "hidden": true
   },
   "outputs": [],
   "source": [
    "dref_ref = get_diag(mref, 'fullyear')"
   ]
  },
  {
   "cell_type": "code",
   "execution_count": 51,
   "metadata": {
    "hidden": true
   },
   "outputs": [
    {
     "name": "stderr",
     "output_type": "stream",
     "text": [
      "100%|██████████| 2868/2868 [02:04<00:00, 23.13it/s]\n",
      "/data11/home/srasp/repositories/CBRAIN-CAM/notebooks/dev/cbrain/model_diagnostics.py:249: RuntimeWarning: divide by zero encountered in true_divide\n",
      "  self.stats['true_var'] = tsqsum / nt - tmean ** 2\n",
      "/data11/home/srasp/repositories/CBRAIN-CAM/notebooks/dev/cbrain/model_diagnostics.py:249: RuntimeWarning: invalid value encountered in true_divide\n",
      "  self.stats['true_var'] = tsqsum / nt - tmean ** 2\n",
      "/data11/home/srasp/repositories/CBRAIN-CAM/notebooks/dev/cbrain/model_diagnostics.py:255: RuntimeWarning: invalid value encountered in true_divide\n",
      "  self.stats['hor_tvar'] = self.stats['hor_tsqmean'] - self.stats['hor_tmean'] ** 2\n"
     ]
    }
   ],
   "source": [
    "dref_ref.compute_stats()"
   ]
  },
  {
   "cell_type": "code",
   "execution_count": 52,
   "metadata": {
    "hidden": true
   },
   "outputs": [
    {
     "data": {
      "text/html": [
       "<div>\n",
       "<style scoped>\n",
       "    .dataframe tbody tr th:only-of-type {\n",
       "        vertical-align: middle;\n",
       "    }\n",
       "\n",
       "    .dataframe tbody tr th {\n",
       "        vertical-align: top;\n",
       "    }\n",
       "\n",
       "    .dataframe thead th {\n",
       "        text-align: right;\n",
       "    }\n",
       "</style>\n",
       "<table border=\"1\" class=\"dataframe\">\n",
       "  <thead>\n",
       "    <tr style=\"text-align: right;\">\n",
       "      <th></th>\n",
       "      <th>bias</th>\n",
       "      <th>mse</th>\n",
       "      <th>pred_mean</th>\n",
       "      <th>true_mean</th>\n",
       "      <th>pred_sqmean</th>\n",
       "      <th>true_sqmean</th>\n",
       "      <th>pred_var</th>\n",
       "      <th>true_var</th>\n",
       "      <th>r2</th>\n",
       "      <th>hor_tsqmean</th>\n",
       "      <th>hor_tmean</th>\n",
       "      <th>hor_mse</th>\n",
       "      <th>hor_tvar</th>\n",
       "      <th>hor_r2</th>\n",
       "    </tr>\n",
       "  </thead>\n",
       "  <tbody>\n",
       "    <tr>\n",
       "      <th>TPHYSTND</th>\n",
       "      <td>-9.14599e-08</td>\n",
       "      <td>1.35139e-09</td>\n",
       "      <td>-8.03612e-08</td>\n",
       "      <td>1.10986e-08</td>\n",
       "      <td>1.87124e-09</td>\n",
       "      <td>3.24716e-09</td>\n",
       "      <td>1.72423e-09</td>\n",
       "      <td>3.09587e-09</td>\n",
       "      <td>0.477943</td>\n",
       "      <td>3.24716e-09</td>\n",
       "      <td>1.10986e-08</td>\n",
       "      <td>1.35139e-09</td>\n",
       "      <td>3.22749e-09</td>\n",
       "      <td>0.580055</td>\n",
       "    </tr>\n",
       "    <tr>\n",
       "      <th>PHQ</th>\n",
       "      <td>5.8666e-11</td>\n",
       "      <td>1.75085e-15</td>\n",
       "      <td>1.16132e-09</td>\n",
       "      <td>1.10265e-09</td>\n",
       "      <td>8.52659e-16</td>\n",
       "      <td>2.59918e-15</td>\n",
       "      <td>7.97542e-16</td>\n",
       "      <td>2.54498e-15</td>\n",
       "      <td>-5.78812</td>\n",
       "      <td>2.59918e-15</td>\n",
       "      <td>1.10265e-09</td>\n",
       "      <td>1.75085e-15</td>\n",
       "      <td>2.58763e-15</td>\n",
       "      <td>0.52887</td>\n",
       "    </tr>\n",
       "    <tr>\n",
       "      <th>FSNT</th>\n",
       "      <td>0.243747</td>\n",
       "      <td>662.97</td>\n",
       "      <td>231.641</td>\n",
       "      <td>231.397</td>\n",
       "      <td>159760</td>\n",
       "      <td>160087</td>\n",
       "      <td>84168.7</td>\n",
       "      <td>84664.5</td>\n",
       "      <td>-inf</td>\n",
       "      <td>160087</td>\n",
       "      <td>231.397</td>\n",
       "      <td>662.97</td>\n",
       "      <td>106542</td>\n",
       "      <td>0.993777</td>\n",
       "    </tr>\n",
       "    <tr>\n",
       "      <th>FSNS</th>\n",
       "      <td>0.29577</td>\n",
       "      <td>823.27</td>\n",
       "      <td>164.731</td>\n",
       "      <td>164.436</td>\n",
       "      <td>89654.1</td>\n",
       "      <td>90197.6</td>\n",
       "      <td>50174</td>\n",
       "      <td>50864.6</td>\n",
       "      <td>-inf</td>\n",
       "      <td>90197.6</td>\n",
       "      <td>164.436</td>\n",
       "      <td>823.27</td>\n",
       "      <td>63158.5</td>\n",
       "      <td>0.986965</td>\n",
       "    </tr>\n",
       "    <tr>\n",
       "      <th>FLNT</th>\n",
       "      <td>-0.091458</td>\n",
       "      <td>118.23</td>\n",
       "      <td>222.857</td>\n",
       "      <td>222.949</td>\n",
       "      <td>51672.2</td>\n",
       "      <td>51826.7</td>\n",
       "      <td>1212.98</td>\n",
       "      <td>1325.63</td>\n",
       "      <td>0.884928</td>\n",
       "      <td>51826.7</td>\n",
       "      <td>222.949</td>\n",
       "      <td>118.23</td>\n",
       "      <td>2120.53</td>\n",
       "      <td>0.944245</td>\n",
       "    </tr>\n",
       "    <tr>\n",
       "      <th>FLNS</th>\n",
       "      <td>0.125536</td>\n",
       "      <td>80.1337</td>\n",
       "      <td>52.8188</td>\n",
       "      <td>52.6932</td>\n",
       "      <td>3471.2</td>\n",
       "      <td>3534.84</td>\n",
       "      <td>546.276</td>\n",
       "      <td>623.33</td>\n",
       "      <td>0.85212</td>\n",
       "      <td>3534.84</td>\n",
       "      <td>52.6932</td>\n",
       "      <td>80.1337</td>\n",
       "      <td>758.261</td>\n",
       "      <td>0.894319</td>\n",
       "    </tr>\n",
       "    <tr>\n",
       "      <th>PRECT</th>\n",
       "      <td>-1.89456e-10</td>\n",
       "      <td>1.3206e-15</td>\n",
       "      <td>3.07286e-08</td>\n",
       "      <td>3.09181e-08</td>\n",
       "      <td>1.17894e-14</td>\n",
       "      <td>1.32245e-14</td>\n",
       "      <td>9.59229e-15</td>\n",
       "      <td>1.10006e-14</td>\n",
       "      <td>0.713573</td>\n",
       "      <td>1.32245e-14</td>\n",
       "      <td>3.09181e-08</td>\n",
       "      <td>1.3206e-15</td>\n",
       "      <td>1.22686e-14</td>\n",
       "      <td>0.892359</td>\n",
       "    </tr>\n",
       "    <tr>\n",
       "      <th>all</th>\n",
       "      <td>NaN</td>\n",
       "      <td>NaN</td>\n",
       "      <td>NaN</td>\n",
       "      <td>NaN</td>\n",
       "      <td>NaN</td>\n",
       "      <td>NaN</td>\n",
       "      <td>NaN</td>\n",
       "      <td>NaN</td>\n",
       "      <td>NaN</td>\n",
       "      <td>NaN</td>\n",
       "      <td>NaN</td>\n",
       "      <td>NaN</td>\n",
       "      <td>NaN</td>\n",
       "      <td>0.831513</td>\n",
       "    </tr>\n",
       "  </tbody>\n",
       "</table>\n",
       "</div>"
      ],
      "text/plain": [
       "                 bias          mse    pred_mean    true_mean  pred_sqmean  \\\n",
       "TPHYSTND -9.14599e-08  1.35139e-09 -8.03612e-08  1.10986e-08  1.87124e-09   \n",
       "PHQ        5.8666e-11  1.75085e-15  1.16132e-09  1.10265e-09  8.52659e-16   \n",
       "FSNT         0.243747       662.97      231.641      231.397       159760   \n",
       "FSNS          0.29577       823.27      164.731      164.436      89654.1   \n",
       "FLNT        -0.091458       118.23      222.857      222.949      51672.2   \n",
       "FLNS         0.125536      80.1337      52.8188      52.6932       3471.2   \n",
       "PRECT    -1.89456e-10   1.3206e-15  3.07286e-08  3.09181e-08  1.17894e-14   \n",
       "all               NaN          NaN          NaN          NaN          NaN   \n",
       "\n",
       "          true_sqmean     pred_var     true_var        r2  hor_tsqmean  \\\n",
       "TPHYSTND  3.24716e-09  1.72423e-09  3.09587e-09  0.477943  3.24716e-09   \n",
       "PHQ       2.59918e-15  7.97542e-16  2.54498e-15  -5.78812  2.59918e-15   \n",
       "FSNT           160087      84168.7      84664.5      -inf       160087   \n",
       "FSNS          90197.6        50174      50864.6      -inf      90197.6   \n",
       "FLNT          51826.7      1212.98      1325.63  0.884928      51826.7   \n",
       "FLNS          3534.84      546.276       623.33   0.85212      3534.84   \n",
       "PRECT     1.32245e-14  9.59229e-15  1.10006e-14  0.713573  1.32245e-14   \n",
       "all               NaN          NaN          NaN       NaN          NaN   \n",
       "\n",
       "            hor_tmean      hor_mse     hor_tvar    hor_r2  \n",
       "TPHYSTND  1.10986e-08  1.35139e-09  3.22749e-09  0.580055  \n",
       "PHQ       1.10265e-09  1.75085e-15  2.58763e-15   0.52887  \n",
       "FSNT          231.397       662.97       106542  0.993777  \n",
       "FSNS          164.436       823.27      63158.5  0.986965  \n",
       "FLNT          222.949       118.23      2120.53  0.944245  \n",
       "FLNS          52.6932      80.1337      758.261  0.894319  \n",
       "PRECT     3.09181e-08   1.3206e-15  1.22686e-14  0.892359  \n",
       "all               NaN          NaN          NaN  0.831513  "
      ]
     },
     "execution_count": 52,
     "metadata": {},
     "output_type": "execute_result"
    }
   ],
   "source": [
    "dref_ref.mean_stats(10)"
   ]
  },
  {
   "cell_type": "code",
   "execution_count": 59,
   "metadata": {
    "hidden": true
   },
   "outputs": [
    {
     "name": "stderr",
     "output_type": "stream",
     "text": [
      "100%|██████████| 287/287 [00:11<00:00, 25.90it/s]\n",
      "/data11/home/srasp/repositories/CBRAIN-CAM/notebooks/dev/cbrain/model_diagnostics.py:249: RuntimeWarning: divide by zero encountered in true_divide\n",
      "  self.stats['r2'] = 1. - (self.stats['mse'] / self.stats['true_var'])\n",
      "/data11/home/srasp/repositories/CBRAIN-CAM/notebooks/dev/cbrain/model_diagnostics.py:249: RuntimeWarning: invalid value encountered in true_divide\n",
      "  self.stats['r2'] = 1. - (self.stats['mse'] / self.stats['true_var'])\n",
      "/data11/home/srasp/repositories/CBRAIN-CAM/notebooks/dev/cbrain/model_diagnostics.py:255: RuntimeWarning: invalid value encountered in true_divide\n",
      "  self.stats['hor_r2'] = 1 - (self.stats['hor_mse'] / self.stats['hor_tvar'])\n"
     ]
    }
   ],
   "source": [
    "dref_4k = get_diag(mref, '4k'); dref_4k.compute_stats()"
   ]
  },
  {
   "cell_type": "code",
   "execution_count": 60,
   "metadata": {
    "hidden": true
   },
   "outputs": [
    {
     "data": {
      "text/html": [
       "<div>\n",
       "<style scoped>\n",
       "    .dataframe tbody tr th:only-of-type {\n",
       "        vertical-align: middle;\n",
       "    }\n",
       "\n",
       "    .dataframe tbody tr th {\n",
       "        vertical-align: top;\n",
       "    }\n",
       "\n",
       "    .dataframe thead th {\n",
       "        text-align: right;\n",
       "    }\n",
       "</style>\n",
       "<table border=\"1\" class=\"dataframe\">\n",
       "  <thead>\n",
       "    <tr style=\"text-align: right;\">\n",
       "      <th></th>\n",
       "      <th>bias</th>\n",
       "      <th>mse</th>\n",
       "      <th>pred_mean</th>\n",
       "      <th>true_mean</th>\n",
       "      <th>pred_sqmean</th>\n",
       "      <th>true_sqmean</th>\n",
       "      <th>pred_var</th>\n",
       "      <th>true_var</th>\n",
       "      <th>r2</th>\n",
       "      <th>hor_tsqmean</th>\n",
       "      <th>hor_tmean</th>\n",
       "      <th>hor_mse</th>\n",
       "      <th>hor_tvar</th>\n",
       "      <th>hor_r2</th>\n",
       "    </tr>\n",
       "  </thead>\n",
       "  <tbody>\n",
       "    <tr>\n",
       "      <th>TPHYSTND</th>\n",
       "      <td>1.55228e-05</td>\n",
       "      <td>6.56728e-09</td>\n",
       "      <td>1.51985e-05</td>\n",
       "      <td>-3.24351e-07</td>\n",
       "      <td>1.07533e-08</td>\n",
       "      <td>4.40622e-09</td>\n",
       "      <td>6.28847e-09</td>\n",
       "      <td>3.7536e-09</td>\n",
       "      <td>-2.07075</td>\n",
       "      <td>4.40622e-09</td>\n",
       "      <td>-3.24351e-07</td>\n",
       "      <td>6.56728e-09</td>\n",
       "      <td>4.38594e-09</td>\n",
       "      <td>-1.12919</td>\n",
       "    </tr>\n",
       "    <tr>\n",
       "      <th>PHQ</th>\n",
       "      <td>-9.71356e-09</td>\n",
       "      <td>5.54693e-15</td>\n",
       "      <td>-8.37438e-09</td>\n",
       "      <td>1.33919e-09</td>\n",
       "      <td>4.78158e-15</td>\n",
       "      <td>3.76454e-15</td>\n",
       "      <td>2.76725e-15</td>\n",
       "      <td>3.56827e-15</td>\n",
       "      <td>-14.9746</td>\n",
       "      <td>3.76454e-15</td>\n",
       "      <td>1.33919e-09</td>\n",
       "      <td>5.54693e-15</td>\n",
       "      <td>3.7438e-15</td>\n",
       "      <td>-0.947225</td>\n",
       "    </tr>\n",
       "    <tr>\n",
       "      <th>FSNT</th>\n",
       "      <td>-15.2356</td>\n",
       "      <td>4587.73</td>\n",
       "      <td>206.671</td>\n",
       "      <td>221.906</td>\n",
       "      <td>130338</td>\n",
       "      <td>151176</td>\n",
       "      <td>68751.8</td>\n",
       "      <td>81190.3</td>\n",
       "      <td>-inf</td>\n",
       "      <td>151176</td>\n",
       "      <td>221.906</td>\n",
       "      <td>4587.73</td>\n",
       "      <td>101933</td>\n",
       "      <td>0.954993</td>\n",
       "    </tr>\n",
       "    <tr>\n",
       "      <th>FSNS</th>\n",
       "      <td>-14.1967</td>\n",
       "      <td>4523.82</td>\n",
       "      <td>136.323</td>\n",
       "      <td>150.519</td>\n",
       "      <td>66236.5</td>\n",
       "      <td>80111.1</td>\n",
       "      <td>37424.3</td>\n",
       "      <td>46146.2</td>\n",
       "      <td>-inf</td>\n",
       "      <td>80111.1</td>\n",
       "      <td>150.519</td>\n",
       "      <td>4523.82</td>\n",
       "      <td>57455</td>\n",
       "      <td>0.921263</td>\n",
       "    </tr>\n",
       "    <tr>\n",
       "      <th>FLNT</th>\n",
       "      <td>-18.4487</td>\n",
       "      <td>2500.01</td>\n",
       "      <td>213.167</td>\n",
       "      <td>231.616</td>\n",
       "      <td>49988.6</td>\n",
       "      <td>56040.8</td>\n",
       "      <td>2842</td>\n",
       "      <td>1136.28</td>\n",
       "      <td>-4.29241</td>\n",
       "      <td>56040.8</td>\n",
       "      <td>231.616</td>\n",
       "      <td>2500.01</td>\n",
       "      <td>2394.94</td>\n",
       "      <td>-0.0438734</td>\n",
       "    </tr>\n",
       "    <tr>\n",
       "      <th>FLNS</th>\n",
       "      <td>-2.27457</td>\n",
       "      <td>157.619</td>\n",
       "      <td>41.3582</td>\n",
       "      <td>43.6328</td>\n",
       "      <td>2293.63</td>\n",
       "      <td>2581.83</td>\n",
       "      <td>338.205</td>\n",
       "      <td>422.6</td>\n",
       "      <td>-0.372877</td>\n",
       "      <td>2581.83</td>\n",
       "      <td>43.6328</td>\n",
       "      <td>157.619</td>\n",
       "      <td>678.012</td>\n",
       "      <td>0.767528</td>\n",
       "    </tr>\n",
       "    <tr>\n",
       "      <th>PRECT</th>\n",
       "      <td>3.05769e-08</td>\n",
       "      <td>1.87298e-14</td>\n",
       "      <td>6.75167e-08</td>\n",
       "      <td>3.69398e-08</td>\n",
       "      <td>6.1274e-14</td>\n",
       "      <td>2.19591e-14</td>\n",
       "      <td>3.19316e-14</td>\n",
       "      <td>1.51478e-14</td>\n",
       "      <td>-11.4518</td>\n",
       "      <td>2.19591e-14</td>\n",
       "      <td>3.69398e-08</td>\n",
       "      <td>1.87298e-14</td>\n",
       "      <td>2.05945e-14</td>\n",
       "      <td>0.0905449</td>\n",
       "    </tr>\n",
       "    <tr>\n",
       "      <th>all</th>\n",
       "      <td>NaN</td>\n",
       "      <td>NaN</td>\n",
       "      <td>NaN</td>\n",
       "      <td>NaN</td>\n",
       "      <td>NaN</td>\n",
       "      <td>NaN</td>\n",
       "      <td>NaN</td>\n",
       "      <td>NaN</td>\n",
       "      <td>NaN</td>\n",
       "      <td>NaN</td>\n",
       "      <td>NaN</td>\n",
       "      <td>NaN</td>\n",
       "      <td>NaN</td>\n",
       "      <td>0.0877204</td>\n",
       "    </tr>\n",
       "  </tbody>\n",
       "</table>\n",
       "</div>"
      ],
      "text/plain": [
       "                 bias          mse    pred_mean    true_mean  pred_sqmean  \\\n",
       "TPHYSTND  1.55228e-05  6.56728e-09  1.51985e-05 -3.24351e-07  1.07533e-08   \n",
       "PHQ      -9.71356e-09  5.54693e-15 -8.37438e-09  1.33919e-09  4.78158e-15   \n",
       "FSNT         -15.2356      4587.73      206.671      221.906       130338   \n",
       "FSNS         -14.1967      4523.82      136.323      150.519      66236.5   \n",
       "FLNT         -18.4487      2500.01      213.167      231.616      49988.6   \n",
       "FLNS         -2.27457      157.619      41.3582      43.6328      2293.63   \n",
       "PRECT     3.05769e-08  1.87298e-14  6.75167e-08  3.69398e-08   6.1274e-14   \n",
       "all               NaN          NaN          NaN          NaN          NaN   \n",
       "\n",
       "          true_sqmean     pred_var     true_var        r2  hor_tsqmean  \\\n",
       "TPHYSTND  4.40622e-09  6.28847e-09   3.7536e-09  -2.07075  4.40622e-09   \n",
       "PHQ       3.76454e-15  2.76725e-15  3.56827e-15  -14.9746  3.76454e-15   \n",
       "FSNT           151176      68751.8      81190.3      -inf       151176   \n",
       "FSNS          80111.1      37424.3      46146.2      -inf      80111.1   \n",
       "FLNT          56040.8         2842      1136.28  -4.29241      56040.8   \n",
       "FLNS          2581.83      338.205        422.6 -0.372877      2581.83   \n",
       "PRECT     2.19591e-14  3.19316e-14  1.51478e-14  -11.4518  2.19591e-14   \n",
       "all               NaN          NaN          NaN       NaN          NaN   \n",
       "\n",
       "            hor_tmean      hor_mse     hor_tvar     hor_r2  \n",
       "TPHYSTND -3.24351e-07  6.56728e-09  4.38594e-09   -1.12919  \n",
       "PHQ       1.33919e-09  5.54693e-15   3.7438e-15  -0.947225  \n",
       "FSNT          221.906      4587.73       101933   0.954993  \n",
       "FSNS          150.519      4523.82        57455   0.921263  \n",
       "FLNT          231.616      2500.01      2394.94 -0.0438734  \n",
       "FLNS          43.6328      157.619      678.012   0.767528  \n",
       "PRECT     3.69398e-08  1.87298e-14  2.05945e-14  0.0905449  \n",
       "all               NaN          NaN          NaN  0.0877204  "
      ]
     },
     "execution_count": 60,
     "metadata": {},
     "output_type": "execute_result"
    }
   ],
   "source": [
    "dref_4k.mean_stats(10)"
   ]
  },
  {
   "cell_type": "code",
   "execution_count": 70,
   "metadata": {
    "hidden": true
   },
   "outputs": [
    {
     "data": {
      "image/png": "[encoded data removed]",
      "text/plain": [
       "<Figure size 864x360 with 4 Axes>"
      ]
     },
     "metadata": {},
     "output_type": "display_data"
    }
   ],
   "source": [
    "dref_4k.plot_double_yz(10, 15, 'TPHYSTND', cmap='bwr', vmin=-7e-4, vmax=7e-4);"
   ]
  },
  {
   "cell_type": "markdown",
   "metadata": {},
   "source": [
    "## Train new models"
   ]
  },
  {
   "cell_type": "markdown",
   "metadata": {},
   "source": [
    "### Standard model"
   ]
  },
  {
   "cell_type": "code",
   "execution_count": 71,
   "metadata": {},
   "outputs": [
    {
     "name": "stdout",
     "output_type": "stream",
     "text": [
      "Generator will have 23494656 samples in 22944 batches\n",
      "Features have shape 94; targets have shape 65\n"
     ]
    }
   ],
   "source": [
    "train_gen = DataGenerator(\n",
    "    PREPROC_DIR,\n",
    "    'fbp_engy_ess_train_sample1_shuffle_features.nc',\n",
    "    'fbp_engy_ess_train_sample1_shuffle_targets.nc',\n",
    "    1024,\n",
    "    'fbp_engy_ess_train_fullyear_norm.nc',\n",
    "    'feature_means', 'max_rs', None, 'target_conv',\n",
    "    shuffle=True,\n",
    ")"
   ]
  },
  {
   "cell_type": "code",
   "execution_count": 72,
   "metadata": {},
   "outputs": [],
   "source": [
    "mstd = fc_model(\n",
    "    94,\n",
    "    65,\n",
    "    [256,256,256,256,256,256,256,256,256],\n",
    "    1e-2,\n",
    "    'mse',\n",
    "    batch_norm=False,\n",
    "    activation='LeakyReLU',\n",
    "    dr=None,\n",
    "    l2=None,\n",
    ")"
   ]
  },
  {
   "cell_type": "code",
   "execution_count": 73,
   "metadata": {},
   "outputs": [
    {
     "name": "stdout",
     "output_type": "stream",
     "text": [
      "Epoch 1/3\n",
      "lr: 0.002\n",
      "4589/4588 [==============================] - 151s 33ms/step - loss: 0.0062 - rmse: 0.0578 - log_loss: -1.3817 - var_ratio: 0.5157 - mean_squared_error: 0.0062 - var_loss: 3.8994e-05s - loss: 0.0062 - rmse: 0.0579 - log_loss: -1.38 - ETA: 0s - loss: 0.0062 - rmse: 0.0578 - log_loss: -1.3816 - var_ratio: 0.5155 - mean_squared_error: 0\n",
      "Epoch 2/3\n",
      "lr: 0.0004000000000000001\n",
      "4589/4588 [==============================] - 144s 31ms/step - loss: 0.0056 - rmse: 0.0543 - log_loss: -1.4166 - var_ratio: 0.5638 - mean_squared_error: 0.0056 - var_loss: 3.1465e-05\n",
      "Epoch 3/3\n",
      "lr: 8.000000000000002e-05\n",
      "4589/4588 [==============================] - 137s 30ms/step - loss: 0.0054 - rmse: 0.0532 - log_loss: -1.4281 - var_ratio: 0.5781 - mean_squared_error: 0.0054 - var_loss: 2.9362e-05- ETA: 4s - loss: 0.0054 - rmse: 0.0532 - log_loss: -1.4280 - var_ratio: 0.5779 - mean_squa - ETA: 3s - loss: 0.0054 - rmse: 0.05\n"
     ]
    },
    {
     "data": {
      "text/plain": [
       "<keras.callbacks.History at 0x2b0e107d8208>"
      ]
     },
     "execution_count": 73,
     "metadata": {},
     "output_type": "execute_result"
    }
   ],
   "source": [
    "mstd.fit_generator(\n",
    "    train_gen.return_generator(),\n",
    "    train_gen.n_batches/5,\n",
    "    epochs=3,\n",
    "    workers=8,\n",
    "    max_queue_size=50,\n",
    "    callbacks=[LearningRateScheduler(get_lr_sched(1e-2, 5, 1))],\n",
    ")"
   ]
  },
  {
   "cell_type": "code",
   "execution_count": 74,
   "metadata": {},
   "outputs": [
    {
     "name": "stderr",
     "output_type": "stream",
     "text": [
      "100%|██████████| 2868/2868 [01:54<00:00, 24.97it/s]\n",
      "/data11/home/srasp/repositories/CBRAIN-CAM/notebooks/dev/cbrain/model_diagnostics.py:249: RuntimeWarning: divide by zero encountered in true_divide\n",
      "  self.stats['r2'] = 1. - (self.stats['mse'] / self.stats['true_var'])\n",
      "/data11/home/srasp/repositories/CBRAIN-CAM/notebooks/dev/cbrain/model_diagnostics.py:255: RuntimeWarning: divide by zero encountered in true_divide\n",
      "  self.stats['hor_r2'] = 1 - (self.stats['hor_mse'] / self.stats['hor_tvar'])\n"
     ]
    }
   ],
   "source": [
    "dstd_ref = get_diag(mstd, 'fullyear'); dstd_ref.compute_stats()"
   ]
  },
  {
   "cell_type": "code",
   "execution_count": 75,
   "metadata": {},
   "outputs": [
    {
     "data": {
      "text/html": [
       "<div>\n",
       "<style scoped>\n",
       "    .dataframe tbody tr th:only-of-type {\n",
       "        vertical-align: middle;\n",
       "    }\n",
       "\n",
       "    .dataframe tbody tr th {\n",
       "        vertical-align: top;\n",
       "    }\n",
       "\n",
       "    .dataframe thead th {\n",
       "        text-align: right;\n",
       "    }\n",
       "</style>\n",
       "<table border=\"1\" class=\"dataframe\">\n",
       "  <thead>\n",
       "    <tr style=\"text-align: right;\">\n",
       "      <th></th>\n",
       "      <th>bias</th>\n",
       "      <th>mse</th>\n",
       "      <th>pred_mean</th>\n",
       "      <th>true_mean</th>\n",
       "      <th>pred_sqmean</th>\n",
       "      <th>true_sqmean</th>\n",
       "      <th>pred_var</th>\n",
       "      <th>true_var</th>\n",
       "      <th>r2</th>\n",
       "      <th>hor_tsqmean</th>\n",
       "      <th>hor_tmean</th>\n",
       "      <th>hor_mse</th>\n",
       "      <th>hor_tvar</th>\n",
       "      <th>hor_r2</th>\n",
       "    </tr>\n",
       "  </thead>\n",
       "  <tbody>\n",
       "    <tr>\n",
       "      <th>TPHYSTND</th>\n",
       "      <td>-2.28254e-07</td>\n",
       "      <td>1.61335e-09</td>\n",
       "      <td>-2.17155e-07</td>\n",
       "      <td>1.10986e-08</td>\n",
       "      <td>1.5766e-09</td>\n",
       "      <td>3.24716e-09</td>\n",
       "      <td>1.43653e-09</td>\n",
       "      <td>3.09587e-09</td>\n",
       "      <td>0.330048</td>\n",
       "      <td>3.24716e-09</td>\n",
       "      <td>1.10986e-08</td>\n",
       "      <td>1.61335e-09</td>\n",
       "      <td>3.22749e-09</td>\n",
       "      <td>0.480776</td>\n",
       "    </tr>\n",
       "    <tr>\n",
       "      <th>PHQ</th>\n",
       "      <td>5.18572e-11</td>\n",
       "      <td>1.93549e-15</td>\n",
       "      <td>1.15451e-09</td>\n",
       "      <td>1.10265e-09</td>\n",
       "      <td>6.55248e-16</td>\n",
       "      <td>2.59918e-15</td>\n",
       "      <td>5.94798e-16</td>\n",
       "      <td>2.54498e-15</td>\n",
       "      <td>-18.8534</td>\n",
       "      <td>2.59918e-15</td>\n",
       "      <td>1.10265e-09</td>\n",
       "      <td>1.93549e-15</td>\n",
       "      <td>2.58763e-15</td>\n",
       "      <td>0.451516</td>\n",
       "    </tr>\n",
       "    <tr>\n",
       "      <th>FSNT</th>\n",
       "      <td>-3.48384</td>\n",
       "      <td>1107.79</td>\n",
       "      <td>227.913</td>\n",
       "      <td>231.397</td>\n",
       "      <td>155375</td>\n",
       "      <td>160087</td>\n",
       "      <td>82171.9</td>\n",
       "      <td>84664.5</td>\n",
       "      <td>-inf</td>\n",
       "      <td>160087</td>\n",
       "      <td>231.397</td>\n",
       "      <td>1107.79</td>\n",
       "      <td>106542</td>\n",
       "      <td>0.989602</td>\n",
       "    </tr>\n",
       "    <tr>\n",
       "      <th>FSNS</th>\n",
       "      <td>-2.88879</td>\n",
       "      <td>1288.4</td>\n",
       "      <td>161.547</td>\n",
       "      <td>164.436</td>\n",
       "      <td>86680</td>\n",
       "      <td>90197.6</td>\n",
       "      <td>48663.6</td>\n",
       "      <td>50864.6</td>\n",
       "      <td>-inf</td>\n",
       "      <td>90197.6</td>\n",
       "      <td>164.436</td>\n",
       "      <td>1288.4</td>\n",
       "      <td>63158.5</td>\n",
       "      <td>0.9796</td>\n",
       "    </tr>\n",
       "    <tr>\n",
       "      <th>FLNT</th>\n",
       "      <td>-1.26484</td>\n",
       "      <td>258.89</td>\n",
       "      <td>221.684</td>\n",
       "      <td>222.949</td>\n",
       "      <td>51060</td>\n",
       "      <td>51826.7</td>\n",
       "      <td>1131.81</td>\n",
       "      <td>1325.63</td>\n",
       "      <td>0.755512</td>\n",
       "      <td>51826.7</td>\n",
       "      <td>222.949</td>\n",
       "      <td>258.89</td>\n",
       "      <td>2120.53</td>\n",
       "      <td>0.877913</td>\n",
       "    </tr>\n",
       "    <tr>\n",
       "      <th>FLNS</th>\n",
       "      <td>-0.0470142</td>\n",
       "      <td>129.435</td>\n",
       "      <td>52.6462</td>\n",
       "      <td>52.6932</td>\n",
       "      <td>3416.02</td>\n",
       "      <td>3534.84</td>\n",
       "      <td>512.986</td>\n",
       "      <td>623.33</td>\n",
       "      <td>0.762219</td>\n",
       "      <td>3534.84</td>\n",
       "      <td>52.6932</td>\n",
       "      <td>129.435</td>\n",
       "      <td>758.261</td>\n",
       "      <td>0.8293</td>\n",
       "    </tr>\n",
       "    <tr>\n",
       "      <th>PRECT</th>\n",
       "      <td>-6.37913e-10</td>\n",
       "      <td>1.64044e-15</td>\n",
       "      <td>3.02802e-08</td>\n",
       "      <td>3.09181e-08</td>\n",
       "      <td>1.09459e-14</td>\n",
       "      <td>1.32245e-14</td>\n",
       "      <td>8.83651e-15</td>\n",
       "      <td>1.10006e-14</td>\n",
       "      <td>0.640418</td>\n",
       "      <td>1.32245e-14</td>\n",
       "      <td>3.09181e-08</td>\n",
       "      <td>1.64044e-15</td>\n",
       "      <td>1.22686e-14</td>\n",
       "      <td>0.866289</td>\n",
       "    </tr>\n",
       "    <tr>\n",
       "      <th>all</th>\n",
       "      <td>NaN</td>\n",
       "      <td>NaN</td>\n",
       "      <td>NaN</td>\n",
       "      <td>NaN</td>\n",
       "      <td>NaN</td>\n",
       "      <td>NaN</td>\n",
       "      <td>NaN</td>\n",
       "      <td>NaN</td>\n",
       "      <td>NaN</td>\n",
       "      <td>NaN</td>\n",
       "      <td>NaN</td>\n",
       "      <td>NaN</td>\n",
       "      <td>NaN</td>\n",
       "      <td>0.782142</td>\n",
       "    </tr>\n",
       "  </tbody>\n",
       "</table>\n",
       "</div>"
      ],
      "text/plain": [
       "                 bias          mse    pred_mean    true_mean  pred_sqmean  \\\n",
       "TPHYSTND -2.28254e-07  1.61335e-09 -2.17155e-07  1.10986e-08   1.5766e-09   \n",
       "PHQ       5.18572e-11  1.93549e-15  1.15451e-09  1.10265e-09  6.55248e-16   \n",
       "FSNT         -3.48384      1107.79      227.913      231.397       155375   \n",
       "FSNS         -2.88879       1288.4      161.547      164.436        86680   \n",
       "FLNT         -1.26484       258.89      221.684      222.949        51060   \n",
       "FLNS       -0.0470142      129.435      52.6462      52.6932      3416.02   \n",
       "PRECT    -6.37913e-10  1.64044e-15  3.02802e-08  3.09181e-08  1.09459e-14   \n",
       "all               NaN          NaN          NaN          NaN          NaN   \n",
       "\n",
       "          true_sqmean     pred_var     true_var        r2  hor_tsqmean  \\\n",
       "TPHYSTND  3.24716e-09  1.43653e-09  3.09587e-09  0.330048  3.24716e-09   \n",
       "PHQ       2.59918e-15  5.94798e-16  2.54498e-15  -18.8534  2.59918e-15   \n",
       "FSNT           160087      82171.9      84664.5      -inf       160087   \n",
       "FSNS          90197.6      48663.6      50864.6      -inf      90197.6   \n",
       "FLNT          51826.7      1131.81      1325.63  0.755512      51826.7   \n",
       "FLNS          3534.84      512.986       623.33  0.762219      3534.84   \n",
       "PRECT     1.32245e-14  8.83651e-15  1.10006e-14  0.640418  1.32245e-14   \n",
       "all               NaN          NaN          NaN       NaN          NaN   \n",
       "\n",
       "            hor_tmean      hor_mse     hor_tvar    hor_r2  \n",
       "TPHYSTND  1.10986e-08  1.61335e-09  3.22749e-09  0.480776  \n",
       "PHQ       1.10265e-09  1.93549e-15  2.58763e-15  0.451516  \n",
       "FSNT          231.397      1107.79       106542  0.989602  \n",
       "FSNS          164.436       1288.4      63158.5    0.9796  \n",
       "FLNT          222.949       258.89      2120.53  0.877913  \n",
       "FLNS          52.6932      129.435      758.261    0.8293  \n",
       "PRECT     3.09181e-08  1.64044e-15  1.22686e-14  0.866289  \n",
       "all               NaN          NaN          NaN  0.782142  "
      ]
     },
     "execution_count": 75,
     "metadata": {},
     "output_type": "execute_result"
    }
   ],
   "source": [
    "dstd_ref.mean_stats(10)"
   ]
  },
  {
   "cell_type": "code",
   "execution_count": 76,
   "metadata": {},
   "outputs": [
    {
     "name": "stderr",
     "output_type": "stream",
     "text": [
      "100%|██████████| 287/287 [00:11<00:00, 25.05it/s]\n",
      "/data11/home/srasp/repositories/CBRAIN-CAM/notebooks/dev/cbrain/model_diagnostics.py:249: RuntimeWarning: divide by zero encountered in true_divide\n",
      "  self.stats['r2'] = 1. - (self.stats['mse'] / self.stats['true_var'])\n",
      "/data11/home/srasp/repositories/CBRAIN-CAM/notebooks/dev/cbrain/model_diagnostics.py:249: RuntimeWarning: invalid value encountered in true_divide\n",
      "  self.stats['r2'] = 1. - (self.stats['mse'] / self.stats['true_var'])\n",
      "/data11/home/srasp/repositories/CBRAIN-CAM/notebooks/dev/cbrain/model_diagnostics.py:255: RuntimeWarning: invalid value encountered in true_divide\n",
      "  self.stats['hor_r2'] = 1 - (self.stats['hor_mse'] / self.stats['hor_tvar'])\n"
     ]
    },
    {
     "data": {
      "text/html": [
       "<div>\n",
       "<style scoped>\n",
       "    .dataframe tbody tr th:only-of-type {\n",
       "        vertical-align: middle;\n",
       "    }\n",
       "\n",
       "    .dataframe tbody tr th {\n",
       "        vertical-align: top;\n",
       "    }\n",
       "\n",
       "    .dataframe thead th {\n",
       "        text-align: right;\n",
       "    }\n",
       "</style>\n",
       "<table border=\"1\" class=\"dataframe\">\n",
       "  <thead>\n",
       "    <tr style=\"text-align: right;\">\n",
       "      <th></th>\n",
       "      <th>bias</th>\n",
       "      <th>mse</th>\n",
       "      <th>pred_mean</th>\n",
       "      <th>true_mean</th>\n",
       "      <th>pred_sqmean</th>\n",
       "      <th>true_sqmean</th>\n",
       "      <th>pred_var</th>\n",
       "      <th>true_var</th>\n",
       "      <th>r2</th>\n",
       "      <th>hor_tsqmean</th>\n",
       "      <th>hor_tmean</th>\n",
       "      <th>hor_mse</th>\n",
       "      <th>hor_tvar</th>\n",
       "      <th>hor_r2</th>\n",
       "    </tr>\n",
       "  </thead>\n",
       "  <tbody>\n",
       "    <tr>\n",
       "      <th>TPHYSTND</th>\n",
       "      <td>1.55228e-05</td>\n",
       "      <td>6.56728e-09</td>\n",
       "      <td>1.51985e-05</td>\n",
       "      <td>-3.24351e-07</td>\n",
       "      <td>1.07533e-08</td>\n",
       "      <td>4.40622e-09</td>\n",
       "      <td>6.28847e-09</td>\n",
       "      <td>3.7536e-09</td>\n",
       "      <td>-2.07075</td>\n",
       "      <td>4.40622e-09</td>\n",
       "      <td>-3.24351e-07</td>\n",
       "      <td>6.56728e-09</td>\n",
       "      <td>4.38594e-09</td>\n",
       "      <td>-1.12919</td>\n",
       "    </tr>\n",
       "    <tr>\n",
       "      <th>PHQ</th>\n",
       "      <td>-9.71356e-09</td>\n",
       "      <td>5.54693e-15</td>\n",
       "      <td>-8.37438e-09</td>\n",
       "      <td>1.33919e-09</td>\n",
       "      <td>4.78158e-15</td>\n",
       "      <td>3.76454e-15</td>\n",
       "      <td>2.76725e-15</td>\n",
       "      <td>3.56827e-15</td>\n",
       "      <td>-14.9746</td>\n",
       "      <td>3.76454e-15</td>\n",
       "      <td>1.33919e-09</td>\n",
       "      <td>5.54693e-15</td>\n",
       "      <td>3.7438e-15</td>\n",
       "      <td>-0.947225</td>\n",
       "    </tr>\n",
       "    <tr>\n",
       "      <th>FSNT</th>\n",
       "      <td>-15.2356</td>\n",
       "      <td>4587.73</td>\n",
       "      <td>206.671</td>\n",
       "      <td>221.906</td>\n",
       "      <td>130338</td>\n",
       "      <td>151176</td>\n",
       "      <td>68751.8</td>\n",
       "      <td>81190.3</td>\n",
       "      <td>-inf</td>\n",
       "      <td>151176</td>\n",
       "      <td>221.906</td>\n",
       "      <td>4587.73</td>\n",
       "      <td>101933</td>\n",
       "      <td>0.954993</td>\n",
       "    </tr>\n",
       "    <tr>\n",
       "      <th>FSNS</th>\n",
       "      <td>-14.1967</td>\n",
       "      <td>4523.82</td>\n",
       "      <td>136.323</td>\n",
       "      <td>150.519</td>\n",
       "      <td>66236.5</td>\n",
       "      <td>80111.1</td>\n",
       "      <td>37424.3</td>\n",
       "      <td>46146.2</td>\n",
       "      <td>-inf</td>\n",
       "      <td>80111.1</td>\n",
       "      <td>150.519</td>\n",
       "      <td>4523.82</td>\n",
       "      <td>57455</td>\n",
       "      <td>0.921263</td>\n",
       "    </tr>\n",
       "    <tr>\n",
       "      <th>FLNT</th>\n",
       "      <td>-18.4487</td>\n",
       "      <td>2500.01</td>\n",
       "      <td>213.167</td>\n",
       "      <td>231.616</td>\n",
       "      <td>49988.6</td>\n",
       "      <td>56040.8</td>\n",
       "      <td>2842</td>\n",
       "      <td>1136.28</td>\n",
       "      <td>-4.29241</td>\n",
       "      <td>56040.8</td>\n",
       "      <td>231.616</td>\n",
       "      <td>2500.01</td>\n",
       "      <td>2394.94</td>\n",
       "      <td>-0.0438734</td>\n",
       "    </tr>\n",
       "    <tr>\n",
       "      <th>FLNS</th>\n",
       "      <td>-2.27457</td>\n",
       "      <td>157.619</td>\n",
       "      <td>41.3582</td>\n",
       "      <td>43.6328</td>\n",
       "      <td>2293.63</td>\n",
       "      <td>2581.83</td>\n",
       "      <td>338.205</td>\n",
       "      <td>422.6</td>\n",
       "      <td>-0.372877</td>\n",
       "      <td>2581.83</td>\n",
       "      <td>43.6328</td>\n",
       "      <td>157.619</td>\n",
       "      <td>678.012</td>\n",
       "      <td>0.767528</td>\n",
       "    </tr>\n",
       "    <tr>\n",
       "      <th>PRECT</th>\n",
       "      <td>3.05769e-08</td>\n",
       "      <td>1.87298e-14</td>\n",
       "      <td>6.75167e-08</td>\n",
       "      <td>3.69398e-08</td>\n",
       "      <td>6.1274e-14</td>\n",
       "      <td>2.19591e-14</td>\n",
       "      <td>3.19316e-14</td>\n",
       "      <td>1.51478e-14</td>\n",
       "      <td>-11.4518</td>\n",
       "      <td>2.19591e-14</td>\n",
       "      <td>3.69398e-08</td>\n",
       "      <td>1.87298e-14</td>\n",
       "      <td>2.05945e-14</td>\n",
       "      <td>0.0905449</td>\n",
       "    </tr>\n",
       "    <tr>\n",
       "      <th>all</th>\n",
       "      <td>NaN</td>\n",
       "      <td>NaN</td>\n",
       "      <td>NaN</td>\n",
       "      <td>NaN</td>\n",
       "      <td>NaN</td>\n",
       "      <td>NaN</td>\n",
       "      <td>NaN</td>\n",
       "      <td>NaN</td>\n",
       "      <td>NaN</td>\n",
       "      <td>NaN</td>\n",
       "      <td>NaN</td>\n",
       "      <td>NaN</td>\n",
       "      <td>NaN</td>\n",
       "      <td>0.0877204</td>\n",
       "    </tr>\n",
       "  </tbody>\n",
       "</table>\n",
       "</div>"
      ],
      "text/plain": [
       "                 bias          mse    pred_mean    true_mean  pred_sqmean  \\\n",
       "TPHYSTND  1.55228e-05  6.56728e-09  1.51985e-05 -3.24351e-07  1.07533e-08   \n",
       "PHQ      -9.71356e-09  5.54693e-15 -8.37438e-09  1.33919e-09  4.78158e-15   \n",
       "FSNT         -15.2356      4587.73      206.671      221.906       130338   \n",
       "FSNS         -14.1967      4523.82      136.323      150.519      66236.5   \n",
       "FLNT         -18.4487      2500.01      213.167      231.616      49988.6   \n",
       "FLNS         -2.27457      157.619      41.3582      43.6328      2293.63   \n",
       "PRECT     3.05769e-08  1.87298e-14  6.75167e-08  3.69398e-08   6.1274e-14   \n",
       "all               NaN          NaN          NaN          NaN          NaN   \n",
       "\n",
       "          true_sqmean     pred_var     true_var        r2  hor_tsqmean  \\\n",
       "TPHYSTND  4.40622e-09  6.28847e-09   3.7536e-09  -2.07075  4.40622e-09   \n",
       "PHQ       3.76454e-15  2.76725e-15  3.56827e-15  -14.9746  3.76454e-15   \n",
       "FSNT           151176      68751.8      81190.3      -inf       151176   \n",
       "FSNS          80111.1      37424.3      46146.2      -inf      80111.1   \n",
       "FLNT          56040.8         2842      1136.28  -4.29241      56040.8   \n",
       "FLNS          2581.83      338.205        422.6 -0.372877      2581.83   \n",
       "PRECT     2.19591e-14  3.19316e-14  1.51478e-14  -11.4518  2.19591e-14   \n",
       "all               NaN          NaN          NaN       NaN          NaN   \n",
       "\n",
       "            hor_tmean      hor_mse     hor_tvar     hor_r2  \n",
       "TPHYSTND -3.24351e-07  6.56728e-09  4.38594e-09   -1.12919  \n",
       "PHQ       1.33919e-09  5.54693e-15   3.7438e-15  -0.947225  \n",
       "FSNT          221.906      4587.73       101933   0.954993  \n",
       "FSNS          150.519      4523.82        57455   0.921263  \n",
       "FLNT          231.616      2500.01      2394.94 -0.0438734  \n",
       "FLNS          43.6328      157.619      678.012   0.767528  \n",
       "PRECT     3.69398e-08  1.87298e-14  2.05945e-14  0.0905449  \n",
       "all               NaN          NaN          NaN  0.0877204  "
      ]
     },
     "execution_count": 76,
     "metadata": {},
     "output_type": "execute_result"
    }
   ],
   "source": [
    "dstd_4k = get_diag(mref, '4k'); dstd_4k.compute_stats(); dstd_4k.mean_stats(10)"
   ]
  },
  {
   "cell_type": "code",
   "execution_count": 77,
   "metadata": {},
   "outputs": [
    {
     "data": {
      "image/png": "[encoded data removed]",
      "text/plain": [
       "<Figure size 864x360 with 4 Axes>"
      ]
     },
     "metadata": {},
     "output_type": "display_data"
    }
   ],
   "source": [
    "dstd_4k.plot_double_yz(10, 15, 'TPHYSTND', cmap='bwr', vmin=-7e-4, vmax=7e-4);"
   ]
  },
  {
   "cell_type": "markdown",
   "metadata": {},
   "source": [
    "### Batch norm"
   ]
  },
  {
   "cell_type": "code",
   "execution_count": 78,
   "metadata": {},
   "outputs": [],
   "source": [
    "mbn = fc_model(\n",
    "    94,\n",
    "    65,\n",
    "    [256,256,256,256,256,256,256,256,256],\n",
    "    1e-2,\n",
    "    'mse',\n",
    "    batch_norm=True,\n",
    "    activation='LeakyReLU',\n",
    "    dr=None,\n",
    "    l2=None,\n",
    ")"
   ]
  },
  {
   "cell_type": "code",
   "execution_count": 80,
   "metadata": {},
   "outputs": [
    {
     "name": "stdout",
     "output_type": "stream",
     "text": [
      "Epoch 1/3\n",
      "lr: 0.002\n",
      "4589/4588 [==============================] - 250s 54ms/step - loss: 0.0078 - rmse: 0.0647 - log_loss: -1.3019 - var_ratio: 0.6210 - mean_squared_error: 0.0078 - var_loss: 9.6638e-04\n",
      "Epoch 2/3\n",
      "lr: 0.0004000000000000001\n",
      "4589/4588 [==============================] - 248s 54ms/step - loss: 0.0057 - rmse: 0.0559 - log_loss: -1.3875 - var_ratio: 0.5657 - mean_squared_error: 0.0057 - var_loss: 3.1468e-05\n",
      "Epoch 3/3\n",
      "lr: 8.000000000000002e-05\n",
      "4589/4588 [==============================] - 249s 54ms/step - loss: 0.0055 - rmse: 0.0543 - log_loss: -1.4082 - var_ratio: 0.5752 - mean_squared_error: 0.0055 - var_loss: 3.0070e-05\n"
     ]
    },
    {
     "data": {
      "text/plain": [
       "<keras.callbacks.History at 0x2b0e1258b940>"
      ]
     },
     "execution_count": 80,
     "metadata": {},
     "output_type": "execute_result"
    }
   ],
   "source": [
    "mbn.fit_generator(\n",
    "    train_gen.return_generator(),\n",
    "    train_gen.n_batches/5,\n",
    "    epochs=3,\n",
    "    workers=8,\n",
    "    max_queue_size=50,\n",
    "    callbacks=[LearningRateScheduler(get_lr_sched(1e-2, 5, 1))],\n",
    ")"
   ]
  },
  {
   "cell_type": "code",
   "execution_count": 82,
   "metadata": {},
   "outputs": [
    {
     "name": "stderr",
     "output_type": "stream",
     "text": [
      "100%|██████████| 2868/2868 [02:19<00:00, 20.51it/s]\n",
      "/data11/home/srasp/repositories/CBRAIN-CAM/notebooks/dev/cbrain/model_diagnostics.py:249: RuntimeWarning: divide by zero encountered in true_divide\n",
      "  self.stats['r2'] = 1. - (self.stats['mse'] / self.stats['true_var'])\n",
      "/data11/home/srasp/repositories/CBRAIN-CAM/notebooks/dev/cbrain/model_diagnostics.py:255: RuntimeWarning: divide by zero encountered in true_divide\n",
      "  self.stats['hor_r2'] = 1 - (self.stats['hor_mse'] / self.stats['hor_tvar'])\n",
      "  1%|          | 3/287 [00:00<00:13, 20.55it/s]"
     ]
    },
    {
     "name": "stdout",
     "output_type": "stream",
     "text": [
      "TPHYSTND     0.43687\n",
      "PHQ         -2.44279\n",
      "FSNT        0.988132\n",
      "FSNS         0.97753\n",
      "FLNT        0.848355\n",
      "FLNS        0.760326\n",
      "PRECT        0.85768\n",
      "all         0.346587\n",
      "Name: hor_r2, dtype: object\n"
     ]
    },
    {
     "name": "stderr",
     "output_type": "stream",
     "text": [
      "100%|██████████| 287/287 [00:14<00:00, 20.09it/s]\n"
     ]
    },
    {
     "name": "stdout",
     "output_type": "stream",
     "text": [
      "TPHYSTND   -0.580048\n",
      "PHQ          -1.6276\n",
      "FSNT        0.941369\n",
      "FSNS         0.87614\n",
      "FLNT        -1.59729\n",
      "FLNS        0.268284\n",
      "PRECT       0.026209\n",
      "all        -0.241847\n",
      "Name: hor_r2, dtype: object\n"
     ]
    },
    {
     "data": {
      "text/plain": [
       "(<cbrain.model_diagnostics.ModelDiagnostics at 0x2b0e1447a390>,\n",
       " <cbrain.model_diagnostics.ModelDiagnostics at 0x2b0e1481ab70>)"
      ]
     },
     "execution_count": 82,
     "metadata": {},
     "output_type": "execute_result"
    },
    {
     "data": {
      "image/png": "[encoded data removed]",
      "text/plain": [
       "<Figure size 864x360 with 4 Axes>"
      ]
     },
     "metadata": {},
     "output_type": "display_data"
    }
   ],
   "source": [
    "evaluate(mbn)"
   ]
  },
  {
   "cell_type": "markdown",
   "metadata": {},
   "source": [
    "### Convolution"
   ]
  },
  {
   "cell_type": "code",
   "execution_count": 100,
   "metadata": {},
   "outputs": [],
   "source": [
    "@threadsafe_generator\n",
    "def data_generator_convo(data_dir, feature_fn, target_fn, shuffle=True,\n",
    "                         batch_size=512, feature_norms=None, target_norms=None, noise=None):\n",
    "    \"\"\"Works on pre-stacked targets with truely random batches\n",
    "    Hard coded right now for\n",
    "    features = [TBP, QBP, VBP, PS, SOLIN, SHFLX, LHFLX]\n",
    "    and lev = 30\n",
    "    \"\"\"\n",
    "    # Open files\n",
    "    feature_file = h5py.File(data_dir + feature_fn, 'r')\n",
    "    target_file = h5py.File(data_dir + target_fn, 'r')\n",
    "\n",
    "    # Determine sizes\n",
    "    n_samples = feature_file['features'].shape[0]\n",
    "    n_batches = int(np.floor(n_samples / batch_size))\n",
    "    # Create ID list\n",
    "    idxs = np.arange(0, n_samples, batch_size)\n",
    "    if shuffle:\n",
    "        np.random.shuffle(idxs)\n",
    "\n",
    "    # generate\n",
    "    while True:\n",
    "        for i in range(n_batches):\n",
    "            batch_idx = idxs[i]\n",
    "            x = feature_file['features'][batch_idx:batch_idx + batch_size, :]\n",
    "            if feature_norms is not None: x = (x - feature_norms[0]) / feature_norms[1]\n",
    "            x1 = x[:, :90].reshape((x.shape[0], 30, -1))\n",
    "            x2 = x[:, 90:]\n",
    "            y = target_file['targets'][batch_idx:batch_idx + batch_size, :]\n",
    "            if target_norms is not None: y = (y - target_norms[0]) * target_norms[1]\n",
    "            if noise is not None:\n",
    "                x += np.random.normal(0, noise, x.shape)\n",
    "            yield [x1, x2], y"
   ]
  },
  {
   "cell_type": "code",
   "execution_count": 101,
   "metadata": {},
   "outputs": [],
   "source": [
    "conv_gen = data_generator_convo(train_gen.data_dir, train_gen.feature_fn, train_gen.target_fn,\n",
    "                                train_gen.shuffle, train_gen.batch_size, train_gen.feature_norms,\n",
    "                                train_gen.target_norms, train_gen.noise)"
   ]
  },
  {
   "cell_type": "code",
   "execution_count": 102,
   "metadata": {},
   "outputs": [],
   "source": [
    "mconv = conv_model((30, 3), 4, 65, [16, 32], [256, 256], 1e-2, 'mse', activation='LeakyReLU')"
   ]
  },
  {
   "cell_type": "code",
   "execution_count": 103,
   "metadata": {},
   "outputs": [
    {
     "name": "stdout",
     "output_type": "stream",
     "text": [
      "__________________________________________________________________________________________________\n",
      "Layer (type)                    Output Shape         Param #     Connected to                     \n",
      "==================================================================================================\n",
      "input_16 (InputLayer)           (None, 30, 3)        0                                            \n",
      "__________________________________________________________________________________________________\n",
      "conv1d_7 (Conv1D)               (None, 30, 16)       160         input_16[0][0]                   \n",
      "__________________________________________________________________________________________________\n",
      "leaky_re_lu_86 (LeakyReLU)      (None, 30, 16)       0           conv1d_7[0][0]                   \n",
      "__________________________________________________________________________________________________\n",
      "conv1d_8 (Conv1D)               (None, 30, 32)       1568        leaky_re_lu_86[0][0]             \n",
      "__________________________________________________________________________________________________\n",
      "leaky_re_lu_87 (LeakyReLU)      (None, 30, 32)       0           conv1d_8[0][0]                   \n",
      "__________________________________________________________________________________________________\n",
      "flatten_4 (Flatten)             (None, 960)          0           leaky_re_lu_87[0][0]             \n",
      "__________________________________________________________________________________________________\n",
      "input_17 (InputLayer)           (None, 4)            0                                            \n",
      "__________________________________________________________________________________________________\n",
      "concatenate_4 (Concatenate)     (None, 964)          0           flatten_4[0][0]                  \n",
      "                                                                 input_17[0][0]                   \n",
      "__________________________________________________________________________________________________\n",
      "dense_92 (Dense)                (None, 256)          247040      concatenate_4[0][0]              \n",
      "__________________________________________________________________________________________________\n",
      "leaky_re_lu_88 (LeakyReLU)      (None, 256)          0           dense_92[0][0]                   \n",
      "__________________________________________________________________________________________________\n",
      "dense_93 (Dense)                (None, 256)          65792       leaky_re_lu_88[0][0]             \n",
      "__________________________________________________________________________________________________\n",
      "leaky_re_lu_89 (LeakyReLU)      (None, 256)          0           dense_93[0][0]                   \n",
      "__________________________________________________________________________________________________\n",
      "dense_94 (Dense)                (None, 65)           16705       leaky_re_lu_89[0][0]             \n",
      "==================================================================================================\n",
      "Total params: 331,265\n",
      "Trainable params: 331,265\n",
      "Non-trainable params: 0\n",
      "__________________________________________________________________________________________________\n"
     ]
    }
   ],
   "source": [
    "mconv.summary()"
   ]
  },
  {
   "cell_type": "code",
   "execution_count": 104,
   "metadata": {},
   "outputs": [
    {
     "name": "stdout",
     "output_type": "stream",
     "text": [
      "Epoch 1/3\n",
      "lr: 0.002\n",
      "4589/4588 [==============================] - 106s 23ms/step - loss: 0.0058 - rmse: 0.0563 - log_loss: -1.3903 - var_ratio: 0.5468 - mean_squared_error: 0.0058 - var_loss: 3.4098e-05\n",
      "Epoch 2/3\n",
      "lr: 0.0004000000000000001\n",
      "4589/4588 [==============================] - 106s 23ms/step - loss: 0.0054 - rmse: 0.0535 - log_loss: -1.4186 - var_ratio: 0.5790 - mean_squared_error: 0.0054 - var_loss: 2.9325e-05\n",
      "Epoch 3/3\n",
      "lr: 8.000000000000002e-05\n",
      "4589/4588 [==============================] - 106s 23ms/step - loss: 0.0053 - rmse: 0.0529 - log_loss: -1.4254 - var_ratio: 0.5849 - mean_squared_error: 0.0053 - var_loss: 2.8433e-05s - los\n"
     ]
    },
    {
     "data": {
      "text/plain": [
       "<keras.callbacks.History at 0x2b0e15f3fac8>"
      ]
     },
     "execution_count": 104,
     "metadata": {},
     "output_type": "execute_result"
    }
   ],
   "source": [
    "mconv.fit_generator(\n",
    "    conv_gen,\n",
    "    train_gen.n_batches/5,\n",
    "    epochs=3,\n",
    "    workers=8,\n",
    "    max_queue_size=50,\n",
    "    callbacks=[LearningRateScheduler(get_lr_sched(1e-2, 5, 1))],\n",
    ")"
   ]
  },
  {
   "cell_type": "code",
   "execution_count": 112,
   "metadata": {},
   "outputs": [
    {
     "name": "stderr",
     "output_type": "stream",
     "text": [
      "100%|██████████| 2868/2868 [02:02<00:00, 23.50it/s]\n",
      "/data11/home/srasp/repositories/CBRAIN-CAM/notebooks/dev/cbrain/model_diagnostics.py:254: RuntimeWarning: divide by zero encountered in true_divide\n",
      "  self.stats['r2'] = 1. - (self.stats['mse'] / self.stats['true_var'])\n",
      "/data11/home/srasp/repositories/CBRAIN-CAM/notebooks/dev/cbrain/model_diagnostics.py:260: RuntimeWarning: divide by zero encountered in true_divide\n",
      "  self.stats['hor_r2'] = 1 - (self.stats['hor_mse'] / self.stats['hor_tvar'])\n",
      "  1%|          | 3/287 [00:00<00:12, 23.63it/s]"
     ]
    },
    {
     "name": "stdout",
     "output_type": "stream",
     "text": [
      "TPHYSTND    0.501685\n",
      "PHQ         0.471616\n",
      "FSNT        0.989532\n",
      "FSNS        0.978026\n",
      "FLNT         0.89494\n",
      "FLNS        0.817761\n",
      "PRECT       0.865906\n",
      "all         0.788495\n",
      "Name: hor_r2, dtype: object\n"
     ]
    },
    {
     "name": "stderr",
     "output_type": "stream",
     "text": [
      "100%|██████████| 287/287 [00:12<00:00, 23.60it/s]\n"
     ]
    },
    {
     "name": "stdout",
     "output_type": "stream",
     "text": [
      "TPHYSTND    -1.17697\n",
      "PHQ        -0.466722\n",
      "FSNT        0.949916\n",
      "FSNS        0.907665\n",
      "FLNT        -1.79407\n",
      "FLNS        0.668433\n",
      "PRECT       -1.30942\n",
      "all        -0.317311\n",
      "Name: hor_r2, dtype: object\n"
     ]
    },
    {
     "data": {
      "text/plain": [
       "(<cbrain.model_diagnostics.ModelDiagnostics at 0x2b0e148f20f0>,\n",
       " <cbrain.model_diagnostics.ModelDiagnostics at 0x2b0e16635860>)"
      ]
     },
     "execution_count": 112,
     "metadata": {},
     "output_type": "execute_result"
    },
    {
     "data": {
      "image/png": "[encoded data removed]",
      "text/plain": [
       "<Figure size 864x360 with 4 Axes>"
      ]
     },
     "metadata": {},
     "output_type": "display_data"
    }
   ],
   "source": [
    "evaluate(mconv, convo=True)"
   ]
  },
  {
   "cell_type": "markdown",
   "metadata": {},
   "source": [
    "### Convolution with batch norm"
   ]
  },
  {
   "cell_type": "markdown",
   "metadata": {},
   "source": [
    "### Dropout"
   ]
  },
  {
   "cell_type": "markdown",
   "metadata": {},
   "source": [
    "### L2 Regularization"
   ]
  },
  {
   "cell_type": "markdown",
   "metadata": {},
   "source": [
    "### Input noise"
   ]
  }
 ],
 "metadata": {
  "kernelspec": {
   "display_name": "Python 3",
   "language": "python",
   "name": "python3"
  },
  "language_info": {
   "codemirror_mode": {
    "name": "ipython",
    "version": 3
   },
   "file_extension": ".py",
   "mimetype": "text/x-python",
   "name": "python",
   "nbconvert_exporter": "python",
   "pygments_lexer": "ipython3",
   "version": "3.6.4"
  },
  "toc": {
   "nav_menu": {},
   "number_sections": true,
   "sideBar": true,
   "skip_h1_title": true,
   "title_cell": "Table of Contents",
   "title_sidebar": "Contents",
   "toc_cell": false,
   "toc_position": {},
   "toc_section_display": true,
   "toc_window_display": false
  }
 },
 "nbformat": 4,
 "nbformat_minor": 2
}
