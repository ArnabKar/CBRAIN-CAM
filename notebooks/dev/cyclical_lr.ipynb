{
 "cells": [
  {
   "cell_type": "code",
   "execution_count": 1,
   "metadata": {},
   "outputs": [
    {
     "name": "stderr",
     "output_type": "stream",
     "text": [
      "Using TensorFlow backend.\n"
     ]
    }
   ],
   "source": [
    "import sys\n",
    "sys.path.append('../keras_network/')\n",
    "from keras.callbacks import TensorBoard, LearningRateScheduler\n",
    "import tensorflow as tf\n",
    "from configargparse import ArgParser\n",
    "from models import conv_model, fc_model, conv_model_tile\n",
    "from losses import *\n",
    "from utils import *\n",
    "from data_generator import DataGenerator\n",
    "import matplotlib.pyplot\n",
    "%matplotlib inline"
   ]
  },
  {
   "cell_type": "code",
   "execution_count": 11,
   "metadata": {
    "collapsed": true
   },
   "outputs": [],
   "source": [
    "from clr_callback import CyclicLR"
   ]
  },
  {
   "cell_type": "code",
   "execution_count": 12,
   "metadata": {
    "collapsed": true
   },
   "outputs": [],
   "source": [
    "config = tf.ConfigProto()\n",
    "config.gpu_options.allow_growth = True\n",
    "keras.backend.tensorflow_backend.set_session(tf.Session(config=config))"
   ]
  },
  {
   "cell_type": "code",
   "execution_count": 13,
   "metadata": {
    "collapsed": true
   },
   "outputs": [],
   "source": [
    "data_dir = '/scratch/srasp/preprocessed_data/'\n",
    "train_fn = '/purecrm_ess_train_sample1_shuffle'"
   ]
  },
  {
   "cell_type": "code",
   "execution_count": 14,
   "metadata": {},
   "outputs": [
    {
     "name": "stdout",
     "output_type": "stream",
     "text": [
      "Generator will have 23494656 samples in 22944 batches\n",
      "Features have shape 152; targets have shape 120\n"
     ]
    }
   ],
   "source": [
    "train_gen = DataGenerator(\n",
    "        data_dir,\n",
    "        train_fn + '_features.nc',\n",
    "        train_fn + '_targets.nc',\n",
    "        1024,\n",
    "        shuffle=True,\n",
    "    )"
   ]
  },
  {
   "cell_type": "code",
   "execution_count": 15,
   "metadata": {
    "collapsed": true
   },
   "outputs": [],
   "source": [
    "feature_shape = train_gen.feature_shape\n",
    "target_shape = train_gen.target_shape"
   ]
  },
  {
   "cell_type": "code",
   "execution_count": 41,
   "metadata": {},
   "outputs": [],
   "source": [
    "model = fc_model(\n",
    "    feature_shape,\n",
    "    target_shape,\n",
    "    [256]*9,\n",
    "    1e-3,\n",
    "    'mse',\n",
    "    batch_norm=False,\n",
    "    activation='tanh'\n",
    ")"
   ]
  },
  {
   "cell_type": "code",
   "execution_count": 42,
   "metadata": {},
   "outputs": [
    {
     "name": "stdout",
     "output_type": "stream",
     "text": [
      "_________________________________________________________________\n",
      "Layer (type)                 Output Shape              Param #   \n",
      "=================================================================\n",
      "dense_18 (Dense)             (None, 256)               39168     \n",
      "_________________________________________________________________\n",
      "dense_19 (Dense)             (None, 256)               65792     \n",
      "_________________________________________________________________\n",
      "dense_20 (Dense)             (None, 256)               65792     \n",
      "_________________________________________________________________\n",
      "dense_21 (Dense)             (None, 256)               65792     \n",
      "_________________________________________________________________\n",
      "dense_22 (Dense)             (None, 256)               65792     \n",
      "_________________________________________________________________\n",
      "dense_23 (Dense)             (None, 256)               65792     \n",
      "_________________________________________________________________\n",
      "dense_24 (Dense)             (None, 256)               65792     \n",
      "_________________________________________________________________\n",
      "dense_25 (Dense)             (None, 256)               65792     \n",
      "_________________________________________________________________\n",
      "dense_26 (Dense)             (None, 256)               65792     \n",
      "_________________________________________________________________\n",
      "dense_27 (Dense)             (None, 120)               30840     \n",
      "=================================================================\n",
      "Total params: 596,344\n",
      "Trainable params: 596,344\n",
      "Non-trainable params: 0\n",
      "_________________________________________________________________\n"
     ]
    }
   ],
   "source": [
    "model.summary()"
   ]
  },
  {
   "cell_type": "code",
   "execution_count": 35,
   "metadata": {},
   "outputs": [
    {
     "data": {
      "text/plain": [
       "22944"
      ]
     },
     "execution_count": 35,
     "metadata": {},
     "output_type": "execute_result"
    }
   ],
   "source": [
    "train_gen.n_batches"
   ]
  },
  {
   "cell_type": "code",
   "execution_count": 36,
   "metadata": {
    "collapsed": true
   },
   "outputs": [],
   "source": [
    "step_size = 200"
   ]
  },
  {
   "cell_type": "code",
   "execution_count": 37,
   "metadata": {
    "collapsed": true
   },
   "outputs": [],
   "source": [
    "clr = CyclicLR(base_lr=0, max_lr=0.005, step_size=step_size)"
   ]
  },
  {
   "cell_type": "code",
   "execution_count": 38,
   "metadata": {},
   "outputs": [
    {
     "name": "stdout",
     "output_type": "stream",
     "text": [
      "Epoch 1/1\n",
      " 10/200 [>.............................] - ETA: 9s - loss: 0.1479 - rmse: 0.3637 - log_loss: -0.4650 - total_error: 917.3208 - unexplained_error: 18178.7074 - rsquared: -19.0032 - total_error_avgAx0: 664.1529 - rsquared_avgAx0: -26.6075 "
     ]
    },
    {
     "name": "stderr",
     "output_type": "stream",
     "text": [
      "/export/home/srasp/anaconda3/lib/python3.6/site-packages/keras/callbacks.py:119: UserWarning: Method on_batch_end() is slow compared to the batch update (0.168506). Check your callbacks.\n",
      "  % delta_t_median)\n"
     ]
    },
    {
     "name": "stdout",
     "output_type": "stream",
     "text": [
      "200/200 [==============================] - 4s 21ms/step - loss: 0.0172 - rmse: 0.0949 - log_loss: -1.1516 - total_error: 909.0682 - unexplained_error: 2116.3286 - rsquared: -1.3187 - total_error_avgAx0: 660.1692 - rsquared_avgAx0: -2.1943\n"
     ]
    },
    {
     "data": {
      "text/plain": [
       "<keras.callbacks.History at 0x2ae198be50f0>"
      ]
     },
     "execution_count": 38,
     "metadata": {},
     "output_type": "execute_result"
    }
   ],
   "source": [
    "model.fit_generator(\n",
    "        train_gen.return_generator(),\n",
    "        step_size,\n",
    "        epochs=1,\n",
    "        workers=8,\n",
    "        max_queue_size=50,\n",
    "        callbacks=[clr],\n",
    "    )"
   ]
  },
  {
   "cell_type": "code",
   "execution_count": 39,
   "metadata": {
    "collapsed": true
   },
   "outputs": [],
   "source": [
    "h = clr.history\n",
    "lr = h['lr']\n",
    "loss = h['loss']"
   ]
  },
  {
   "cell_type": "code",
   "execution_count": 40,
   "metadata": {},
   "outputs": [
    {
     "data": {
      "image/png": "[encoded data removed]",
      "text/plain": [
       "<matplotlib.figure.Figure at 0x2ae198be5550>"
      ]
     },
     "metadata": {},
     "output_type": "display_data"
    }
   ],
   "source": [
    "plt.plot(lr, loss)\n",
    "plt.gca().set_yscale('log')"
   ]
  },
  {
   "cell_type": "code",
   "execution_count": 164,
   "metadata": {
    "collapsed": true
   },
   "outputs": [],
   "source": [
    "max_lr = 0.005; base_lr = 0.0001; step_size = train_gen.n_batches * 2"
   ]
  },
  {
   "cell_type": "code",
   "execution_count": 165,
   "metadata": {
    "collapsed": true
   },
   "outputs": [],
   "source": [
    "clr = CyclicLR(base_lr=max_lr, max_lr=base_lr, step_size=step_size)"
   ]
  },
  {
   "cell_type": "code",
   "execution_count": 166,
   "metadata": {
    "collapsed": true
   },
   "outputs": [],
   "source": [
    "model = fc_model(\n",
    "    feature_shape,\n",
    "    target_shape,\n",
    "    [512],\n",
    "    1e-3,\n",
    "    'mse',\n",
    "    batch_norm=False,\n",
    "    activation='relu'\n",
    ")"
   ]
  },
  {
   "cell_type": "code",
   "execution_count": null,
   "metadata": {},
   "outputs": [
    {
     "name": "stdout",
     "output_type": "stream",
     "text": [
      "Epoch 1/6\n",
      "22944/22944 [==============================] - 321s 14ms/step - loss: 0.0027 - rmse: 0.0382 - log_loss: -1.5526 - total_error: 910.9370 - unexplained_error: 327.1655 - rsquared: 0.6408 - total_error_avgAx0: 661.8774 - rsquared_avgAx0: 0.5057\n",
      "Epoch 2/6\n",
      "22944/22944 [==============================] - 318s 14ms/step - loss: 0.0024 - rmse: 0.0361 - log_loss: -1.5815 - total_error: 910.9370 - unexplained_error: 290.4414 - rsquared: 0.6810 - total_error_avgAx0: 661.8774 - rsquared_avgAx0: 0.5610\n",
      "Epoch 3/6\n",
      "16765/22944 [====================>.........] - ETA: 1:26 - loss: 0.0023 - rmse: 0.0358 - log_loss: -1.5859 - total_error: 910.8917 - unexplained_error: 285.8778 - rsquared: 0.6860 - total_error_avgAx0: 661.8104 - rsquared_avgAx0: 0.5679"
     ]
    }
   ],
   "source": [
    "train_hist = model.fit_generator(\n",
    "        train_gen.return_generator(),\n",
    "        train_gen.n_batches,\n",
    "        epochs=6,\n",
    "        workers=8,\n",
    "        max_queue_size=50,\n",
    "        callbacks=[clr],\n",
    "    )"
   ]
  },
  {
   "cell_type": "code",
   "execution_count": null,
   "metadata": {
    "collapsed": true
   },
   "outputs": [],
   "source": [
    "train_"
   ]
  }
 ],
 "metadata": {
  "kernelspec": {
   "display_name": "Python 3",
   "language": "python",
   "name": "python3"
  },
  "language_info": {
   "codemirror_mode": {
    "name": "ipython",
    "version": 3
   },
   "file_extension": ".py",
   "mimetype": "text/x-python",
   "name": "python",
   "nbconvert_exporter": "python",
   "pygments_lexer": "ipython3",
   "version": "3.6.3"
  },
  "toc": {
   "nav_menu": {},
   "number_sections": true,
   "sideBar": true,
   "skip_h1_title": true,
   "title_cell": "Table of Contents",
   "title_sidebar": "Contents",
   "toc_cell": false,
   "toc_position": {},
   "toc_section_display": true,
   "toc_window_display": false
  }
 },
 "nbformat": 4,
 "nbformat_minor": 2
}
