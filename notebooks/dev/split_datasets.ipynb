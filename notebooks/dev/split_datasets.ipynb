{
 "cells": [
  {
   "cell_type": "code",
   "execution_count": 1,
   "metadata": {},
   "outputs": [
    {
     "name": "stderr",
     "output_type": "stream",
     "text": [
      "/export/home/srasp/anaconda3/lib/python3.6/site-packages/h5py/__init__.py:36: FutureWarning: Conversion of the second argument of issubdtype from `float` to `np.floating` is deprecated. In future, it will be treated as `np.float64 == np.dtype(float).type`.\n",
      "  from ._conv import register_converters as _register_converters\n",
      "Using TensorFlow backend.\n"
     ]
    }
   ],
   "source": [
    "from cbrain.imports import *"
   ]
  },
  {
   "cell_type": "code",
   "execution_count": 2,
   "metadata": {},
   "outputs": [],
   "source": [
    "DATA_DIR = '/scratch/srasp/preprocessed_data/'\n",
    "REPO = '/export/home/srasp/repositories/CBRAIN-Keras-Diagnostics/'"
   ]
  },
  {
   "cell_type": "code",
   "execution_count": 3,
   "metadata": {},
   "outputs": [],
   "source": [
    "target_fn = f'{DATA_DIR}paper_nonorm_train_fullyear_targets.nc'\n",
    "feature_fn = f'{DATA_DIR}paper_nonorm_train_fullyear_features.nc'"
   ]
  },
  {
   "cell_type": "code",
   "execution_count": 4,
   "metadata": {},
   "outputs": [],
   "source": [
    "targets = xr.open_dataset(target_fn)\n",
    "features = xr.open_dataset(feature_fn)"
   ]
  },
  {
   "cell_type": "code",
   "execution_count": 5,
   "metadata": {},
   "outputs": [],
   "source": [
    "ngeo = 128 * 64; nday = ngeo * 48"
   ]
  },
  {
   "cell_type": "code",
   "execution_count": 6,
   "metadata": {},
   "outputs": [
    {
     "data": {
      "text/plain": [
       "364.9791666666667"
      ]
     },
     "execution_count": 6,
     "metadata": {},
     "output_type": "execute_result"
    }
   ],
   "source": [
    "targets.sample.size / nday"
   ]
  },
  {
   "cell_type": "code",
   "execution_count": 7,
   "metadata": {},
   "outputs": [],
   "source": [
    "days = [10, 30, 90, 180, 270]"
   ]
  },
  {
   "cell_type": "code",
   "execution_count": 8,
   "metadata": {},
   "outputs": [],
   "source": [
    "def convert(d):\n",
    "    fn = f'paper_nonorm_train_{d}days'\n",
    "    tmp_targets = targets.isel(sample=range(d*nday))\n",
    "    tmp_features = features.isel(sample=range(d*nday))\n",
    "    tmp_targets.to_netcdf(f'{DATA_DIR}{fn}_targets.nc')\n",
    "    tmp_features.to_netcdf(f'{DATA_DIR}{fn}_features.nc')\n",
    "    !python {REPO}cbrain/shuffle_ds.py --pref {DATA_DIR}{fn}"
   ]
  },
  {
   "cell_type": "code",
   "execution_count": 9,
   "metadata": {},
   "outputs": [
    {
     "name": "stdout",
     "output_type": "stream",
     "text": [
      "Reading files: /scratch/srasp/preprocessed_data/paper_nonorm_train_10days_features.nc /scratch/srasp/preprocessed_data/paper_nonorm_train_10days_targets.nc\n",
      "Creating files: /scratch/srasp/preprocessed_data/paper_nonorm_train_10days_shuffle_features.nc /scratch/srasp/preprocessed_data/paper_nonorm_train_10days_shuffle_targets.nc\n",
      "100%|█████████████████████████████████████████████| 1/1 [00:54<00:00, 54.85s/it]\n",
      "Reading files: /scratch/srasp/preprocessed_data/paper_nonorm_train_30days_features.nc /scratch/srasp/preprocessed_data/paper_nonorm_train_30days_targets.nc\n",
      "Creating files: /scratch/srasp/preprocessed_data/paper_nonorm_train_30days_shuffle_features.nc /scratch/srasp/preprocessed_data/paper_nonorm_train_30days_shuffle_targets.nc\n",
      "100%|█████████████████████████████████████████████| 2/2 [02:47<00:00, 83.98s/it]\n",
      "Reading files: /scratch/srasp/preprocessed_data/paper_nonorm_train_90days_features.nc /scratch/srasp/preprocessed_data/paper_nonorm_train_90days_targets.nc\n",
      "Creating files: /scratch/srasp/preprocessed_data/paper_nonorm_train_90days_shuffle_features.nc /scratch/srasp/preprocessed_data/paper_nonorm_train_90days_shuffle_targets.nc\n",
      "100%|████████████████████████████████████████████| 4/4 [17:41<00:00, 265.46s/it]\n",
      "Reading files: /scratch/srasp/preprocessed_data/paper_nonorm_train_180days_features.nc /scratch/srasp/preprocessed_data/paper_nonorm_train_180days_targets.nc\n",
      "Creating files: /scratch/srasp/preprocessed_data/paper_nonorm_train_180days_shuffle_features.nc /scratch/srasp/preprocessed_data/paper_nonorm_train_180days_shuffle_targets.nc\n",
      "100%|████████████████████████████████████████████| 8/8 [31:33<00:00, 236.74s/it]\n",
      "Reading files: /scratch/srasp/preprocessed_data/paper_nonorm_train_270days_features.nc /scratch/srasp/preprocessed_data/paper_nonorm_train_270days_targets.nc\n",
      "Creating files: /scratch/srasp/preprocessed_data/paper_nonorm_train_270days_shuffle_features.nc /scratch/srasp/preprocessed_data/paper_nonorm_train_270days_shuffle_targets.nc\n",
      "100%|██████████████████████████████████████████| 11/11 [38:39<00:00, 210.90s/it]\n"
     ]
    }
   ],
   "source": [
    "for d in days: convert(d)"
   ]
  },
  {
   "cell_type": "code",
   "execution_count": null,
   "metadata": {},
   "outputs": [],
   "source": []
  }
 ],
 "metadata": {
  "kernelspec": {
   "display_name": "Python 3",
   "language": "python",
   "name": "python3"
  },
  "language_info": {
   "codemirror_mode": {
    "name": "ipython",
    "version": 3
   },
   "file_extension": ".py",
   "mimetype": "text/x-python",
   "name": "python",
   "nbconvert_exporter": "python",
   "pygments_lexer": "ipython3",
   "version": "3.6.4"
  },
  "toc": {
   "nav_menu": {},
   "number_sections": true,
   "sideBar": true,
   "skip_h1_title": true,
   "title_cell": "Table of Contents",
   "title_sidebar": "Contents",
   "toc_cell": false,
   "toc_position": {},
   "toc_section_display": true,
   "toc_window_display": false
  }
 },
 "nbformat": 4,
 "nbformat_minor": 2
}
