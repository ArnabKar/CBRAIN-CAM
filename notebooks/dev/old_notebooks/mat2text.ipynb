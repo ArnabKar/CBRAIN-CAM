{
 "cells": [
  {
   "cell_type": "code",
   "execution_count": 4,
   "metadata": {},
   "outputs": [],
   "source": [
    "import netCDF4 as nc\n",
    "import numpy as np\n",
    "import h5py"
   ]
  },
  {
   "cell_type": "code",
   "execution_count": 5,
   "metadata": {
    "collapsed": true
   },
   "outputs": [],
   "source": [
    "weight_file = '/export/home/srasp/tmp/015_1year_log_loss.h5'"
   ]
  },
  {
   "cell_type": "code",
   "execution_count": 7,
   "metadata": {
    "collapsed": true
   },
   "outputs": [],
   "source": [
    "f = h5py.File(weight_file, 'r')"
   ]
  },
  {
   "cell_type": "code",
   "execution_count": 8,
   "metadata": {},
   "outputs": [
    {
     "data": {
      "text/plain": [
       "['dense_1', 'dense_2', 'dense_3', 'dense_4', 'dense_5']"
      ]
     },
     "execution_count": 8,
     "metadata": {},
     "output_type": "execute_result"
    }
   ],
   "source": [
    "layer_names = [n.decode('utf8') for n in f.attrs['layer_names']]; layer_names"
   ]
  },
  {
   "cell_type": "code",
   "execution_count": 9,
   "metadata": {},
   "outputs": [
    {
     "data": {
      "text/plain": [
       "<HDF5 group \"/dense_1\" (1 members)>"
      ]
     },
     "execution_count": 9,
     "metadata": {},
     "output_type": "execute_result"
    }
   ],
   "source": [
    "g_tmp = f[layer_names[0]]; g_tmp"
   ]
  },
  {
   "cell_type": "code",
   "execution_count": 11,
   "metadata": {},
   "outputs": [
    {
     "data": {
      "text/plain": [
       "['dense_1/kernel:0', 'dense_1/bias:0']"
      ]
     },
     "execution_count": 11,
     "metadata": {},
     "output_type": "execute_result"
    }
   ],
   "source": [
    "wn_tmp = [n.decode('utf8') for n in g_tmp.attrs['weight_names']]; wn_tmp"
   ]
  },
  {
   "cell_type": "code",
   "execution_count": 13,
   "metadata": {
    "collapsed": true
   },
   "outputs": [],
   "source": [
    "f.close()"
   ]
  },
  {
   "cell_type": "code",
   "execution_count": 20,
   "metadata": {},
   "outputs": [],
   "source": [
    "def read_weights(weight_file):\n",
    "    weights = []\n",
    "    biases = []\n",
    "    with h5py.File(weight_file, 'r') as f:\n",
    "        layer_names = [n.decode('utf8') for n in f.attrs['layer_names']]\n",
    "        for l in layer_names:\n",
    "            g = f[l]\n",
    "            weights.append(g[l+'/kernel:0'][:])\n",
    "            biases.append(g[l+'/bias:0'][:])\n",
    "    return weights, biases"
   ]
  },
  {
   "cell_type": "code",
   "execution_count": 21,
   "metadata": {},
   "outputs": [],
   "source": [
    "w, b = read_weights(weight_file)"
   ]
  },
  {
   "cell_type": "code",
   "execution_count": 22,
   "metadata": {},
   "outputs": [
    {
     "data": {
      "text/plain": [
       "((87, 1024), (1024,))"
      ]
     },
     "execution_count": 22,
     "metadata": {},
     "output_type": "execute_result"
    }
   ],
   "source": [
    "w[0].shape, b[0].shape"
   ]
  },
  {
   "cell_type": "code",
   "execution_count": 23,
   "metadata": {
    "collapsed": true
   },
   "outputs": [],
   "source": [
    "nchunk = 64"
   ]
  },
  {
   "cell_type": "code",
   "execution_count": 38,
   "metadata": {},
   "outputs": [],
   "source": [
    "bre = b[0].reshape(1, -1)"
   ]
  },
  {
   "cell_type": "code",
   "execution_count": 39,
   "metadata": {},
   "outputs": [],
   "source": [
    "np.savetxt('/export/home/srasp/tmp/test_bias.txt', bre, fmt='%.6e', delimiter=',')"
   ]
  },
  {
   "cell_type": "code",
   "execution_count": 34,
   "metadata": {},
   "outputs": [],
   "source": [
    "wtrue = np.loadtxt('/export/home/srasp/tmp/results_015/layer1_kernel.txt', delimiter=',')"
   ]
  },
  {
   "cell_type": "code",
   "execution_count": 35,
   "metadata": {},
   "outputs": [
    {
     "data": {
      "text/plain": [
       "(1024, 87)"
      ]
     },
     "execution_count": 35,
     "metadata": {},
     "output_type": "execute_result"
    }
   ],
   "source": [
    "wtrue.shape"
   ]
  },
  {
   "cell_type": "code",
   "execution_count": 37,
   "metadata": {
    "collapsed": true
   },
   "outputs": [],
   "source": [
    "np.savetxt('/export/home/srasp/tmp/test_weight.txt', w[0].T, fmt='%.6e', delimiter=',')"
   ]
  },
  {
   "cell_type": "code",
   "execution_count": 50,
   "metadata": {
    "collapsed": true
   },
   "outputs": [],
   "source": [
    "# Convert norm and std files\n",
    "norm_fn = '/scratch/srasp/preprocessed_data/purecrm_ess_train_sample1_norm.nc'"
   ]
  },
  {
   "cell_type": "code",
   "execution_count": 51,
   "metadata": {
    "collapsed": true
   },
   "outputs": [],
   "source": [
    "import xarray as xr"
   ]
  },
  {
   "cell_type": "code",
   "execution_count": 55,
   "metadata": {},
   "outputs": [
    {
     "data": {
      "text/plain": [
       "<class 'netCDF4._netCDF4.Dataset'>\n",
       "root group (NETCDF4 data model, file format HDF5):\n",
       "    log: \n",
       "    Time: 2018-02-16T09:20:39\n",
       "\n",
       "    Executed command:\n",
       "\n",
       "    python /export/home/srasp/repositories/CBRAIN-Keras-Diagnostics/data_processing//preprocess_aqua.py --config_file /export/home/srasp/repositories/CBRAIN-Keras-Diagnostics/data_processing//config/pure_crm_essentials.yml --in_dir /beegfs/DATA/pritchard/srasp/Aquaplanet_enhance05/ --aqua_names=AndKua_aqua_SPCAM3.0_enhance05.cam2.h1.0000-*-0[5-9]-* --out_dir /beegfs/DATA/pritchard/srasp/preprocessed_data/ --out_pref purecrm_ess_train_sample1\n",
       "\n",
       "    In directory: /export/home/srasp/repositories/CBRAIN-Keras-Diagnostics/data_processing/config\n",
       "\n",
       "    Git hash: 836296867ec13fd1aa2d08e4ed4bf680ad71d06c\n",
       "\n",
       "        \n",
       "    dimensions(sizes): feature_lev(152), target_lev(120)\n",
       "    variables(dimensions): int64 \u001b[4mfeature_lev\u001b[0m(feature_lev), int64 \u001b[4mtarget_lev\u001b[0m(target_lev), float32 \u001b[4mfeature_means\u001b[0m(feature_lev), float32 \u001b[4mfeature_stds\u001b[0m(feature_lev), float32 \u001b[4mtarget_means\u001b[0m(target_lev), float32 \u001b[4mtarget_stds\u001b[0m(target_lev), <class 'str'> \u001b[4mfeature_names\u001b[0m(feature_lev), <class 'str'> \u001b[4mtarget_names\u001b[0m(target_lev)\n",
       "    groups: "
      ]
     },
     "execution_count": 55,
     "metadata": {},
     "output_type": "execute_result"
    }
   ],
   "source": [
    "ds = nc.Dataset(norm_fn); ds"
   ]
  },
  {
   "cell_type": "code",
   "execution_count": 58,
   "metadata": {},
   "outputs": [
    {
     "data": {
      "text/plain": [
       "array([  2.24266754e+02,   2.17396973e+02,   2.01269043e+02,\n",
       "         2.19524994e+02,   2.16166626e+02,   2.11121124e+02,\n",
       "         2.06986572e+02,   2.05849594e+02,   2.06488449e+02,\n",
       "         2.07876633e+02,   2.09509003e+02,   2.11182266e+02,\n",
       "         2.13704803e+02,   2.17464691e+02,   2.22884964e+02,\n",
       "         2.29572937e+02,   2.37144608e+02,   2.45177277e+02,\n",
       "         2.53341263e+02,   2.60646179e+02,   2.66364838e+02,\n",
       "         2.70295807e+02,   2.72895752e+02,   2.74954803e+02,\n",
       "         2.76547638e+02,   2.78139587e+02,   2.79697021e+02,\n",
       "         2.81169434e+02,   2.82450409e+02,   2.83705688e+02,\n",
       "         1.52838595e-06,   1.49420441e-06,   1.23131736e-06,\n",
       "         1.31700119e-06,   1.28289867e-06,   1.25371332e-06,\n",
       "         1.26511543e-06,   1.32352136e-06,   1.47793526e-06,\n",
       "         1.96892415e-06,   3.67236021e-06,   8.59908505e-06,\n",
       "         1.98645266e-05,   4.25835788e-05,   8.66140836e-05,\n",
       "         1.65695223e-04,   3.01996624e-04,   5.38157183e-04,\n",
       "         9.31368850e-04,   1.52378518e-03,   2.37540412e-03,\n",
       "         3.62829794e-03,   4.98663122e-03,   5.76992193e-03,\n",
       "         6.34556590e-03,   6.87020272e-03,   7.29838060e-03,\n",
       "         7.61371525e-03,   7.79588241e-03,   8.26000702e-03,\n",
       "         2.01125637e-01,   5.82681559e-02,   4.49488536e-02,\n",
       "        -6.11804239e-02,   5.14808558e-02,  -4.92057949e-02,\n",
       "         2.11694334e-02,  -4.80852872e-02,  -8.96632820e-02,\n",
       "        -1.74913272e-01,  -3.11040789e-01,  -4.16063756e-01,\n",
       "        -4.31206226e-01,  -3.42438161e-01,  -1.51153862e-01,\n",
       "         4.59427126e-02,   1.21896401e-01,   7.64473230e-02,\n",
       "         1.64416432e-02,  -5.97688323e-03,   2.00685440e-03,\n",
       "         2.20585037e-02,   9.54020545e-02,   1.72763661e-01,\n",
       "         2.02152461e-01,   2.18421549e-01,   2.47327641e-01,\n",
       "         2.86356568e-01,   2.99947709e-01,   2.94677466e-01,\n",
       "        -1.14661634e-06,   6.52543292e-07,   9.90026001e-06,\n",
       "        -1.55001126e-05,   1.70517205e-06,   9.12542042e-09,\n",
       "         6.80176868e-07,   3.85808931e-07,   1.03477433e-07,\n",
       "         5.68553560e-07,   1.36458709e-06,   2.74177728e-06,\n",
       "         3.50093546e-06,   4.35186394e-06,   4.59399689e-06,\n",
       "         4.67622885e-06,   4.15909744e-06,   3.06868765e-06,\n",
       "         1.26123291e-06,   1.74941292e-07,   8.06529499e-07,\n",
       "         3.17228591e-06,   3.16663682e-06,  -2.13904559e-06,\n",
       "        -4.48028231e-06,  -6.83954158e-06,  -7.83611267e-06,\n",
       "        -7.82302686e-06,  -6.30253271e-06,   8.16930187e-05,\n",
       "        -1.08428781e-14,  -1.18144181e-14,   1.99496507e-13,\n",
       "        -1.29561739e-13,   4.27305591e-15,   8.54836154e-15,\n",
       "         1.65656419e-14,   2.11232856e-14,   6.73127190e-13,\n",
       "         4.18511103e-12,   1.95322369e-11,   7.37365030e-11,\n",
       "         2.24082725e-10,   5.59491842e-10,   1.08369247e-09,\n",
       "         1.67269931e-09,   2.34242292e-09,   2.81813528e-09,\n",
       "         3.17138649e-09,   3.19793125e-09,   2.15081553e-09,\n",
       "        -1.25900113e-09,  -4.40922410e-09,  -3.51749874e-09,\n",
       "        -4.15842205e-09,  -4.70398742e-09,  -4.61600091e-09,\n",
       "        -5.68593750e-09,  -5.34508393e-09,   1.87643622e-07,\n",
       "         9.82315781e+04,   3.26077881e+02], dtype=float32)"
      ]
     },
     "execution_count": 58,
     "metadata": {},
     "output_type": "execute_result"
    }
   ],
   "source": [
    "ds['feature_means'][:]"
   ]
  },
  {
   "cell_type": "code",
   "execution_count": 57,
   "metadata": {},
   "outputs": [],
   "source": [
    "np.savetxt('/export/home/srasp/tmp/test_means.txt', ds['feature_means'][:].reshape(1, -1), fmt='%.6e', delimiter=',')"
   ]
  },
  {
   "cell_type": "code",
   "execution_count": null,
   "metadata": {
    "collapsed": true
   },
   "outputs": [],
   "source": []
  }
 ],
 "metadata": {
  "kernelspec": {
   "display_name": "Python 3",
   "language": "python",
   "name": "python3"
  },
  "language_info": {
   "codemirror_mode": {
    "name": "ipython",
    "version": 3
   },
   "file_extension": ".py",
   "mimetype": "text/x-python",
   "name": "python",
   "nbconvert_exporter": "python",
   "pygments_lexer": "ipython3",
   "version": "3.6.3"
  },
  "toc": {
   "nav_menu": {},
   "number_sections": true,
   "sideBar": true,
   "skip_h1_title": true,
   "title_cell": "Table of Contents",
   "title_sidebar": "Contents",
   "toc_cell": false,
   "toc_position": {},
   "toc_section_display": true,
   "toc_window_display": false
  }
 },
 "nbformat": 4,
 "nbformat_minor": 2
}
