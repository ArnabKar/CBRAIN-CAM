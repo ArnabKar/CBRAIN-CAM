{
 "cells": [
  {
   "cell_type": "code",
   "execution_count": 20,
   "metadata": {
    "collapsed": true
   },
   "outputs": [],
   "source": [
    "import xarray\n",
    "import netCDF4 as nc\n",
    "import numpy as np\n",
    "import matplotlib.pyplot as plt\n",
    "%matplotlib inline"
   ]
  },
  {
   "cell_type": "code",
   "execution_count": 2,
   "metadata": {
    "collapsed": true
   },
   "outputs": [],
   "source": [
    "feature_fn = '/beegfs/DATA/pritchard/srasp/preprcessed_data/full_physics_essentials_train_test_features.nc'\n",
    "target_fn = '/beegfs/DATA/pritchard/srasp/preprcessed_data/full_physics_essentials_train_test_targets.nc'\n",
    "norm_fn = '/beegfs/DATA/pritchard/srasp/preprcessed_data/full_physics_essentials_train_test_norm.nc'"
   ]
  },
  {
   "cell_type": "code",
   "execution_count": 3,
   "metadata": {
    "collapsed": true
   },
   "outputs": [],
   "source": [
    "aqua_fn = '/beegfs/DATA/pritchard/srasp/Aquaplanet_enhance05/AndKua_aqua_SPCAM3.0_enhance05.cam2.h1.0000-01-01-00000.nc'"
   ]
  },
  {
   "cell_type": "code",
   "execution_count": 4,
   "metadata": {
    "collapsed": true
   },
   "outputs": [],
   "source": [
    "features = nc.Dataset(feature_fn)\n",
    "norm = nc.Dataset(norm_fn)"
   ]
  },
  {
   "cell_type": "code",
   "execution_count": 5,
   "metadata": {},
   "outputs": [
    {
     "data": {
      "text/plain": [
       "<class 'netCDF4._netCDF4.Dataset'>\n",
       "root group (NETCDF3_64BIT_OFFSET data model, file format NETCDF3):\n",
       "    log: \n",
       "    Time: 2018-02-13T14:36:19\n",
       "\n",
       "    Executed command:\n",
       "\n",
       "    python preprocess_aqua.py --config_file ../config/full_physics_essentials.yml --in_dir /beegfs/DATA/pritchard/srasp/Aquaplanet_enhance05/ --aqua_names AndKua_aqua_SPCAM3.0_enhance05.cam2.h1.0000-01-0* --out_dir /beegfs/DATA/pritchard/srasp/preprcessed_data/ --out_pref full_physics_essentials_train_test\n",
       "\n",
       "    In directory: /export/home/srasp/repositories/CBRAIN-CAM/data_processing\n",
       "\n",
       "    Git hash: e37afd569c517f1350243b0f224d5489b55b4ce1\n",
       "\n",
       "        \n",
       "    dimensions(sizes): feature_lev(92), sample(3530752), string9(9)\n",
       "    variables(dimensions): float32 \u001b[4mfeatures\u001b[0m(sample,feature_lev), int32 \u001b[4mtime\u001b[0m(sample), float64 \u001b[4mlat\u001b[0m(sample), float64 \u001b[4mlon\u001b[0m(sample), |S1 \u001b[4mfeature_names\u001b[0m(feature_lev,string9), int32 \u001b[4mfeature_lev\u001b[0m(feature_lev)\n",
       "    groups: "
      ]
     },
     "execution_count": 5,
     "metadata": {},
     "output_type": "execute_result"
    }
   ],
   "source": [
    "features"
   ]
  },
  {
   "cell_type": "code",
   "execution_count": 6,
   "metadata": {},
   "outputs": [
    {
     "data": {
      "text/plain": [
       "<class 'netCDF4._netCDF4.Dataset'>\n",
       "root group (NETCDF3_64BIT_OFFSET data model, file format NETCDF3):\n",
       "    log: \n",
       "    Time: 2018-02-13T14:36:19\n",
       "\n",
       "    Executed command:\n",
       "\n",
       "    python preprocess_aqua.py --config_file ../config/full_physics_essentials.yml --in_dir /beegfs/DATA/pritchard/srasp/Aquaplanet_enhance05/ --aqua_names AndKua_aqua_SPCAM3.0_enhance05.cam2.h1.0000-01-0* --out_dir /beegfs/DATA/pritchard/srasp/preprcessed_data/ --out_pref full_physics_essentials_train_test\n",
       "\n",
       "    In directory: /export/home/srasp/repositories/CBRAIN-CAM/data_processing\n",
       "\n",
       "    Git hash: e37afd569c517f1350243b0f224d5489b55b4ce1\n",
       "\n",
       "        \n",
       "    dimensions(sizes): feature_lev(92), target_lev(60), string9(9), string14(14)\n",
       "    variables(dimensions): |S1 \u001b[4mfeature_names\u001b[0m(feature_lev,string9), int32 \u001b[4mfeature_lev\u001b[0m(feature_lev), float32 \u001b[4mfeature_means\u001b[0m(feature_lev), float32 \u001b[4mfeature_stds\u001b[0m(feature_lev), |S1 \u001b[4mtarget_names\u001b[0m(target_lev,string14), int32 \u001b[4mtarget_lev\u001b[0m(target_lev), float32 \u001b[4mtarget_means\u001b[0m(target_lev), float32 \u001b[4mtarget_stds\u001b[0m(target_lev)\n",
       "    groups: "
      ]
     },
     "execution_count": 6,
     "metadata": {},
     "output_type": "execute_result"
    }
   ],
   "source": [
    "norm"
   ]
  },
  {
   "cell_type": "code",
   "execution_count": 8,
   "metadata": {},
   "outputs": [
    {
     "data": {
      "text/plain": [
       "array(['TBP_lev00', 'TBP_lev01', 'TBP_lev02', 'TBP_lev03', 'TBP_lev04',\n",
       "       'TBP_lev05', 'TBP_lev06', 'TBP_lev07', 'TBP_lev08', 'TBP_lev09',\n",
       "       'TBP_lev10', 'TBP_lev11', 'TBP_lev12', 'TBP_lev13', 'TBP_lev14',\n",
       "       'TBP_lev15', 'TBP_lev16', 'TBP_lev17', 'TBP_lev18', 'TBP_lev19',\n",
       "       'TBP_lev20', 'TBP_lev21', 'TBP_lev22', 'TBP_lev23', 'TBP_lev24',\n",
       "       'TBP_lev25', 'TBP_lev26', 'TBP_lev27', 'TBP_lev28', 'TBP_lev29',\n",
       "       'QBP_lev00', 'QBP_lev01', 'QBP_lev02', 'QBP_lev03', 'QBP_lev04',\n",
       "       'QBP_lev05', 'QBP_lev06', 'QBP_lev07', 'QBP_lev08', 'QBP_lev09',\n",
       "       'QBP_lev10', 'QBP_lev11', 'QBP_lev12', 'QBP_lev13', 'QBP_lev14',\n",
       "       'QBP_lev15', 'QBP_lev16', 'QBP_lev17', 'QBP_lev18', 'QBP_lev19',\n",
       "       'QBP_lev20', 'QBP_lev21', 'QBP_lev22', 'QBP_lev23', 'QBP_lev24',\n",
       "       'QBP_lev25', 'QBP_lev26', 'QBP_lev27', 'QBP_lev28', 'QBP_lev29',\n",
       "       'VBP_lev00', 'VBP_lev01', 'VBP_lev02', 'VBP_lev03', 'VBP_lev04',\n",
       "       'VBP_lev05', 'VBP_lev06', 'VBP_lev07', 'VBP_lev08', 'VBP_lev09',\n",
       "       'VBP_lev10', 'VBP_lev11', 'VBP_lev12', 'VBP_lev13', 'VBP_lev14',\n",
       "       'VBP_lev15', 'VBP_lev16', 'VBP_lev17', 'VBP_lev18', 'VBP_lev19',\n",
       "       'VBP_lev20', 'VBP_lev21', 'VBP_lev22', 'VBP_lev23', 'VBP_lev24',\n",
       "       'VBP_lev25', 'VBP_lev26', 'VBP_lev27', 'VBP_lev28', 'VBP_lev29',\n",
       "       'PS', 'SOLIN'],\n",
       "      dtype='<U9')"
      ]
     },
     "execution_count": 8,
     "metadata": {},
     "output_type": "execute_result"
    }
   ],
   "source": [
    "features['feature_names'][:]"
   ]
  },
  {
   "cell_type": "code",
   "execution_count": 24,
   "metadata": {
    "collapsed": true
   },
   "outputs": [],
   "source": [
    "unnorm_features = features['features'][:] * norm['feature_stds'][:] + norm['feature_means'][:]"
   ]
  },
  {
   "cell_type": "code",
   "execution_count": 10,
   "metadata": {},
   "outputs": [
    {
     "data": {
      "text/plain": [
       "(3530752, 92)"
      ]
     },
     "execution_count": 10,
     "metadata": {},
     "output_type": "execute_result"
    }
   ],
   "source": [
    "unnorm_features.shape"
   ]
  },
  {
   "cell_type": "code",
   "execution_count": 12,
   "metadata": {},
   "outputs": [
    {
     "data": {
      "text/plain": [
       "<class 'netCDF4._netCDF4.Dataset'>\n",
       "root group (NETCDF3_CLASSIC data model, file format NETCDF3):\n",
       "    Conventions: CF-1.0\n",
       "    source: CAM\n",
       "    case: AndKua_aqua_SPCAM3.0_enhance05\n",
       "    title: \n",
       "    logname: tg847872\n",
       "    host: \n",
       "    Version: $Name:  $\n",
       "    revision_Id: $Id: history.F90,v 1.26.2.38 2003/12/15 18:52:35 hender Exp $\n",
       "    dimensions(sizes): lat(64), lon(128), lev(30), ilev(31), isccp_prs(7), isccp_tau(7), isccp_prstau(49), time(48), tbnd(2), chars(8), crm_x(8), crm_y(1), crm_z(28)\n",
       "    variables(dimensions): float64 \u001b[4mP0\u001b[0m(), float64 \u001b[4mlat\u001b[0m(lat), float64 \u001b[4mlon\u001b[0m(lon), float64 \u001b[4mcrm_x\u001b[0m(crm_x), float64 \u001b[4mcrm_y\u001b[0m(crm_y), float64 \u001b[4mcrm_z\u001b[0m(crm_z), float64 \u001b[4mlev\u001b[0m(lev), float64 \u001b[4milev\u001b[0m(ilev), float64 \u001b[4misccp_prs\u001b[0m(isccp_prs), float64 \u001b[4misccp_tau\u001b[0m(isccp_ta), float64 \u001b[4misccp_prstau\u001b[0m(isccp_prsta), float64 \u001b[4mtime\u001b[0m(time), float64 \u001b[4mtime_bnds\u001b[0m(time,tbnd), |S1 \u001b[4mdate_written\u001b[0m(time,chars), |S1 \u001b[4mtime_written\u001b[0m(time,chars), int32 \u001b[4mntrm\u001b[0m(), int32 \u001b[4mntrn\u001b[0m(), int32 \u001b[4mntrk\u001b[0m(), int32 \u001b[4mndbase\u001b[0m(), int32 \u001b[4mnsbase\u001b[0m(), int32 \u001b[4mnbdate\u001b[0m(), int32 \u001b[4mnbsec\u001b[0m(), int32 \u001b[4mmdt\u001b[0m(), int32 \u001b[4mnlon\u001b[0m(lat), int32 \u001b[4mwnummax\u001b[0m(lat), float64 \u001b[4mhyai\u001b[0m(ilev), float64 \u001b[4mhybi\u001b[0m(ilev), float64 \u001b[4mhyam\u001b[0m(lev), float64 \u001b[4mhybm\u001b[0m(lev), float64 \u001b[4mgw\u001b[0m(lat), int32 \u001b[4mndcur\u001b[0m(time), int32 \u001b[4mnscur\u001b[0m(time), int32 \u001b[4mdate\u001b[0m(time), int32 \u001b[4mdatesec\u001b[0m(time), int32 \u001b[4mnsteph\u001b[0m(time), float32 \u001b[4mDTV\u001b[0m(time,lev,lat,lon), float32 \u001b[4mDTVKE\u001b[0m(time,lev,lat,lon), float32 \u001b[4mFLUT\u001b[0m(time,lat,lon), float32 \u001b[4mLHFLX\u001b[0m(time,lat,lon), float32 \u001b[4mOMEGA\u001b[0m(time,lev,lat,lon), float32 \u001b[4mPHCLDICE\u001b[0m(time,lev,lat,lon), float32 \u001b[4mPHCLDLIQ\u001b[0m(time,lev,lat,lon), float32 \u001b[4mPHQ\u001b[0m(time,lev,lat,lon), float32 \u001b[4mPRECC\u001b[0m(time,lat,lon), float32 \u001b[4mPRECL\u001b[0m(time,lat,lon), float32 \u001b[4mPRECSC\u001b[0m(time,lat,lon), float32 \u001b[4mPRECSL\u001b[0m(time,lat,lon), float32 \u001b[4mPRECSTEN\u001b[0m(time,lat,lon), float32 \u001b[4mPRECT\u001b[0m(time,lat,lon), float32 \u001b[4mPRECTEND\u001b[0m(time,lat,lon), float32 \u001b[4mPS\u001b[0m(time,lat,lon), float32 \u001b[4mQAP\u001b[0m(time,lev,lat,lon), float32 \u001b[4mQCAP\u001b[0m(time,lev,lat,lon), float32 \u001b[4mQIAP\u001b[0m(time,lev,lat,lon), float32 \u001b[4mQRL\u001b[0m(time,lev,lat,lon), float32 \u001b[4mQRS\u001b[0m(time,lev,lat,lon), float32 \u001b[4mSHFLX\u001b[0m(time,lat,lon), float32 \u001b[4mSOLIN\u001b[0m(time,lat,lon), float32 \u001b[4mSPDQ\u001b[0m(time,lev,lat,lon), float32 \u001b[4mSPDQC\u001b[0m(time,lev,lat,lon), float32 \u001b[4mSPDQI\u001b[0m(time,lev,lat,lon), float32 \u001b[4mSPDT\u001b[0m(time,lev,lat,lon), float32 \u001b[4mSPQC\u001b[0m(time,lev,lat,lon), float32 \u001b[4mSPQI\u001b[0m(time,lev,lat,lon), float32 \u001b[4mSRFRAD\u001b[0m(time,lat,lon), float32 \u001b[4mT\u001b[0m(time,lev,lat,lon), float32 \u001b[4mTAP\u001b[0m(time,lev,lat,lon), float32 \u001b[4mTPHYSTND\u001b[0m(time,lev,lat,lon), float32 \u001b[4mTS\u001b[0m(time,lat,lon), float32 \u001b[4mUAP\u001b[0m(time,lev,lat,lon), float32 \u001b[4mUPHYSTND\u001b[0m(time,lev,lat,lon), float32 \u001b[4mVAP\u001b[0m(time,lev,lat,lon), float32 \u001b[4mVD01\u001b[0m(time,lev,lat,lon), float32 \u001b[4mVPHYSTND\u001b[0m(time,lev,lat,lon)\n",
       "    groups: "
      ]
     },
     "execution_count": 12,
     "metadata": {},
     "output_type": "execute_result"
    }
   ],
   "source": [
    "aqua = nc.Dataset(aqua_fn); aqua"
   ]
  },
  {
   "cell_type": "code",
   "execution_count": 25,
   "metadata": {
    "collapsed": true
   },
   "outputs": [],
   "source": [
    "# sample, lev --> [time, lat, lon]\n",
    "unnorm_features = unnorm_features.reshape(-1, 64, 128, 92)"
   ]
  },
  {
   "cell_type": "code",
   "execution_count": 14,
   "metadata": {
    "collapsed": true
   },
   "outputs": [],
   "source": [
    "ctrl_TBP = aqua['TAP'][:] - aqua['TPHYSTND'][:] * 1800."
   ]
  },
  {
   "cell_type": "code",
   "execution_count": 15,
   "metadata": {},
   "outputs": [
    {
     "data": {
      "text/plain": [
       "(48, 30, 64, 128)"
      ]
     },
     "execution_count": 15,
     "metadata": {},
     "output_type": "execute_result"
    }
   ],
   "source": [
    "ctrl_TBP.shape"
   ]
  },
  {
   "cell_type": "code",
   "execution_count": 16,
   "metadata": {
    "collapsed": true
   },
   "outputs": [],
   "source": [
    "ctrl_TBP = ctrl_TBP[1:]"
   ]
  },
  {
   "cell_type": "code",
   "execution_count": 26,
   "metadata": {},
   "outputs": [
    {
     "data": {
      "text/plain": [
       "(431, 64, 128, 92)"
      ]
     },
     "execution_count": 26,
     "metadata": {},
     "output_type": "execute_result"
    }
   ],
   "source": [
    "unnorm_features.shape"
   ]
  },
  {
   "cell_type": "code",
   "execution_count": 27,
   "metadata": {},
   "outputs": [
    {
     "data": {
      "text/plain": [
       "array([ 246.51036072,  231.88568115,  216.40667725,  238.90396118,\n",
       "        231.94915771], dtype=float32)"
      ]
     },
     "execution_count": 27,
     "metadata": {},
     "output_type": "execute_result"
    }
   ],
   "source": [
    "unnorm_features[0, 0, 0, :5]"
   ]
  },
  {
   "cell_type": "code",
   "execution_count": 19,
   "metadata": {},
   "outputs": [
    {
     "data": {
      "text/plain": [
       "array([ 246.51036072,  231.88568115,  216.40667725,  238.90396118,\n",
       "        231.94915771], dtype=float32)"
      ]
     },
     "execution_count": 19,
     "metadata": {},
     "output_type": "execute_result"
    }
   ],
   "source": [
    "ctrl_TBP[0, :5, 0, 0]"
   ]
  },
  {
   "cell_type": "markdown",
   "metadata": {},
   "source": [
    "Check! Computed BPs correctly"
   ]
  },
  {
   "cell_type": "code",
   "execution_count": 30,
   "metadata": {},
   "outputs": [
    {
     "data": {
      "text/plain": [
       "483.36731"
      ]
     },
     "execution_count": 30,
     "metadata": {},
     "output_type": "execute_result"
    }
   ],
   "source": [
    "unnorm_features[0, 0, 0, -1]   # SOLIN"
   ]
  },
  {
   "cell_type": "code",
   "execution_count": 32,
   "metadata": {},
   "outputs": [
    {
     "data": {
      "text/plain": [
       "483.36731"
      ]
     },
     "execution_count": 32,
     "metadata": {},
     "output_type": "execute_result"
    }
   ],
   "source": [
    "aqua['SOLIN'][1, 0, 0]"
   ]
  },
  {
   "cell_type": "code",
   "execution_count": 34,
   "metadata": {},
   "outputs": [
    {
     "data": {
      "text/plain": [
       "99704.258"
      ]
     },
     "execution_count": 34,
     "metadata": {},
     "output_type": "execute_result"
    }
   ],
   "source": [
    "unnorm_features[0, 0, 0, -2]   # PS"
   ]
  },
  {
   "cell_type": "code",
   "execution_count": 35,
   "metadata": {},
   "outputs": [
    {
     "data": {
      "text/plain": [
       "99704.258"
      ]
     },
     "execution_count": 35,
     "metadata": {},
     "output_type": "execute_result"
    }
   ],
   "source": [
    "aqua['PS'][0, 0, 0]"
   ]
  },
  {
   "cell_type": "markdown",
   "metadata": {},
   "source": [
    "Check! Took the correct time steps for PS"
   ]
  },
  {
   "cell_type": "code",
   "execution_count": 37,
   "metadata": {},
   "outputs": [
    {
     "data": {
      "text/plain": [
       "array(['TPHYSTND_lev00', 'TPHYSTND_lev01', 'TPHYSTND_lev02',\n",
       "       'TPHYSTND_lev03', 'TPHYSTND_lev04', 'TPHYSTND_lev05',\n",
       "       'TPHYSTND_lev06', 'TPHYSTND_lev07', 'TPHYSTND_lev08',\n",
       "       'TPHYSTND_lev09', 'TPHYSTND_lev10', 'TPHYSTND_lev11',\n",
       "       'TPHYSTND_lev12', 'TPHYSTND_lev13', 'TPHYSTND_lev14',\n",
       "       'TPHYSTND_lev15', 'TPHYSTND_lev16', 'TPHYSTND_lev17',\n",
       "       'TPHYSTND_lev18', 'TPHYSTND_lev19', 'TPHYSTND_lev20',\n",
       "       'TPHYSTND_lev21', 'TPHYSTND_lev22', 'TPHYSTND_lev23',\n",
       "       'TPHYSTND_lev24', 'TPHYSTND_lev25', 'TPHYSTND_lev26',\n",
       "       'TPHYSTND_lev27', 'TPHYSTND_lev28', 'TPHYSTND_lev29', 'PHQ_lev00',\n",
       "       'PHQ_lev01', 'PHQ_lev02', 'PHQ_lev03', 'PHQ_lev04', 'PHQ_lev05',\n",
       "       'PHQ_lev06', 'PHQ_lev07', 'PHQ_lev08', 'PHQ_lev09', 'PHQ_lev10',\n",
       "       'PHQ_lev11', 'PHQ_lev12', 'PHQ_lev13', 'PHQ_lev14', 'PHQ_lev15',\n",
       "       'PHQ_lev16', 'PHQ_lev17', 'PHQ_lev18', 'PHQ_lev19', 'PHQ_lev20',\n",
       "       'PHQ_lev21', 'PHQ_lev22', 'PHQ_lev23', 'PHQ_lev24', 'PHQ_lev25',\n",
       "       'PHQ_lev26', 'PHQ_lev27', 'PHQ_lev28', 'PHQ_lev29'],\n",
       "      dtype='<U14')"
      ]
     },
     "execution_count": 37,
     "metadata": {},
     "output_type": "execute_result"
    }
   ],
   "source": [
    "norm['target_names'][:]"
   ]
  },
  {
   "cell_type": "markdown",
   "metadata": {},
   "source": [
    "Now check the targets."
   ]
  },
  {
   "cell_type": "code",
   "execution_count": 42,
   "metadata": {},
   "outputs": [
    {
     "data": {
      "text/plain": [
       "<class 'netCDF4._netCDF4.Dataset'>\n",
       "root group (NETCDF4 data model, file format HDF5):\n",
       "    log: \n",
       "    Time: 2018-02-13T15:04:37\n",
       "\n",
       "    Executed command:\n",
       "\n",
       "    python preprocess_aqua.py --config_file ../config/full_physics_essentials.yml --in_dir /beegfs/DATA/pritchard/srasp/Aquaplanet_enhance05/ --aqua_names AndKua_aqua_SPCAM3.0_enhance05.cam2.h1.0000-01-0* --out_dir /beegfs/DATA/pritchard/srasp/preprcessed_data/ --out_pref full_physics_essentials_train_test\n",
       "\n",
       "    In directory: /export/home/srasp/repositories/CBRAIN-CAM/data_processing\n",
       "\n",
       "    Git hash: e37afd569c517f1350243b0f224d5489b55b4ce1\n",
       "\n",
       "        \n",
       "    dimensions(sizes): target_lev(60), sample(3530752)\n",
       "    variables(dimensions): int64 \u001b[4mtarget_lev\u001b[0m(target_lev), int64 \u001b[4mtime\u001b[0m(sample), float64 \u001b[4mlat\u001b[0m(sample), float64 \u001b[4mlon\u001b[0m(sample), float32 \u001b[4mtargets\u001b[0m(sample,target_lev), <class 'str'> \u001b[4mtarget_names\u001b[0m(target_lev)\n",
       "    groups: "
      ]
     },
     "execution_count": 42,
     "metadata": {},
     "output_type": "execute_result"
    }
   ],
   "source": [
    "targets = nc.Dataset(target_fn); targets"
   ]
  },
  {
   "cell_type": "code",
   "execution_count": 43,
   "metadata": {},
   "outputs": [
    {
     "data": {
      "text/plain": [
       "array(['TPHYSTND_lev00', 'TPHYSTND_lev01', 'TPHYSTND_lev02',\n",
       "       'TPHYSTND_lev03', 'TPHYSTND_lev04', 'TPHYSTND_lev05',\n",
       "       'TPHYSTND_lev06', 'TPHYSTND_lev07', 'TPHYSTND_lev08',\n",
       "       'TPHYSTND_lev09', 'TPHYSTND_lev10', 'TPHYSTND_lev11',\n",
       "       'TPHYSTND_lev12', 'TPHYSTND_lev13', 'TPHYSTND_lev14',\n",
       "       'TPHYSTND_lev15', 'TPHYSTND_lev16', 'TPHYSTND_lev17',\n",
       "       'TPHYSTND_lev18', 'TPHYSTND_lev19', 'TPHYSTND_lev20',\n",
       "       'TPHYSTND_lev21', 'TPHYSTND_lev22', 'TPHYSTND_lev23',\n",
       "       'TPHYSTND_lev24', 'TPHYSTND_lev25', 'TPHYSTND_lev26',\n",
       "       'TPHYSTND_lev27', 'TPHYSTND_lev28', 'TPHYSTND_lev29', 'PHQ_lev00',\n",
       "       'PHQ_lev01', 'PHQ_lev02', 'PHQ_lev03', 'PHQ_lev04', 'PHQ_lev05',\n",
       "       'PHQ_lev06', 'PHQ_lev07', 'PHQ_lev08', 'PHQ_lev09', 'PHQ_lev10',\n",
       "       'PHQ_lev11', 'PHQ_lev12', 'PHQ_lev13', 'PHQ_lev14', 'PHQ_lev15',\n",
       "       'PHQ_lev16', 'PHQ_lev17', 'PHQ_lev18', 'PHQ_lev19', 'PHQ_lev20',\n",
       "       'PHQ_lev21', 'PHQ_lev22', 'PHQ_lev23', 'PHQ_lev24', 'PHQ_lev25',\n",
       "       'PHQ_lev26', 'PHQ_lev27', 'PHQ_lev28', 'PHQ_lev29'], dtype=object)"
      ]
     },
     "execution_count": 43,
     "metadata": {},
     "output_type": "execute_result"
    }
   ],
   "source": [
    "targets['target_names'][:]"
   ]
  },
  {
   "cell_type": "code",
   "execution_count": 44,
   "metadata": {},
   "outputs": [
    {
     "data": {
      "text/plain": [
       "[<matplotlib.lines.Line2D at 0x2b0897a0da20>]"
      ]
     },
     "execution_count": 44,
     "metadata": {},
     "output_type": "execute_result"
    },
    {
     "data": {
      "image/png": "[encoded data removed]",
      "text/plain": [
       "<matplotlib.figure.Figure at 0x2b0885783978>"
      ]
     },
     "metadata": {},
     "output_type": "display_data"
    }
   ],
   "source": [
    "plt.plot(np.mean(targets['targets'][:], axis=0))"
   ]
  },
  {
   "cell_type": "markdown",
   "metadata": {},
   "source": [
    "Now check the pure crm inputs file"
   ]
  },
  {
   "cell_type": "code",
   "execution_count": 45,
   "metadata": {
    "collapsed": true
   },
   "outputs": [],
   "source": [
    "feature_fn2 = '/beegfs/DATA/pritchard/srasp/preprcessed_data/full_physics_essentials_train_test2_features.nc'\n",
    "target_fn2 = '/beegfs/DATA/pritchard/srasp/preprcessed_data/full_physics_essentials_train_test2_targets.nc'\n",
    "norm_fn2 = '/beegfs/DATA/pritchard/srasp/preprcessed_data/full_physics_essentials_train_test2_norm.nc'"
   ]
  },
  {
   "cell_type": "code",
   "execution_count": 46,
   "metadata": {
    "collapsed": true
   },
   "outputs": [],
   "source": [
    "features2 = nc.Dataset(feature_fn2)\n",
    "norm2 = nc.Dataset(norm_fn2)"
   ]
  },
  {
   "cell_type": "code",
   "execution_count": 47,
   "metadata": {},
   "outputs": [
    {
     "data": {
      "text/plain": [
       "array(['T_C_lev00', 'T_C_lev01', 'T_C_lev02', 'T_C_lev03', 'T_C_lev04',\n",
       "       'T_C_lev05', 'T_C_lev06', 'T_C_lev07', 'T_C_lev08', 'T_C_lev09',\n",
       "       'T_C_lev10', 'T_C_lev11', 'T_C_lev12', 'T_C_lev13', 'T_C_lev14',\n",
       "       'T_C_lev15', 'T_C_lev16', 'T_C_lev17', 'T_C_lev18', 'T_C_lev19',\n",
       "       'T_C_lev20', 'T_C_lev21', 'T_C_lev22', 'T_C_lev23', 'T_C_lev24',\n",
       "       'T_C_lev25', 'T_C_lev26', 'T_C_lev27', 'T_C_lev28', 'T_C_lev29',\n",
       "       'Q_C_lev00', 'Q_C_lev01', 'Q_C_lev02', 'Q_C_lev03', 'Q_C_lev04',\n",
       "       'Q_C_lev05', 'Q_C_lev06', 'Q_C_lev07', 'Q_C_lev08', 'Q_C_lev09',\n",
       "       'Q_C_lev10', 'Q_C_lev11', 'Q_C_lev12', 'Q_C_lev13', 'Q_C_lev14',\n",
       "       'Q_C_lev15', 'Q_C_lev16', 'Q_C_lev17', 'Q_C_lev18', 'Q_C_lev19',\n",
       "       'Q_C_lev20', 'Q_C_lev21', 'Q_C_lev22', 'Q_C_lev23', 'Q_C_lev24',\n",
       "       'Q_C_lev25', 'Q_C_lev26', 'Q_C_lev27', 'Q_C_lev28', 'Q_C_lev29',\n",
       "       'V_C_lev00', 'V_C_lev01', 'V_C_lev02', 'V_C_lev03', 'V_C_lev04',\n",
       "       'V_C_lev05', 'V_C_lev06', 'V_C_lev07', 'V_C_lev08', 'V_C_lev09',\n",
       "       'V_C_lev10', 'V_C_lev11', 'V_C_lev12', 'V_C_lev13', 'V_C_lev14',\n",
       "       'V_C_lev15', 'V_C_lev16', 'V_C_lev17', 'V_C_lev18', 'V_C_lev19',\n",
       "       'V_C_lev20', 'V_C_lev21', 'V_C_lev22', 'V_C_lev23', 'V_C_lev24',\n",
       "       'V_C_lev25', 'V_C_lev26', 'V_C_lev27', 'V_C_lev28', 'V_C_lev29',\n",
       "       'dTdt_adiabatic_lev00', 'dTdt_adiabatic_lev01',\n",
       "       'dTdt_adiabatic_lev02', 'dTdt_adiabatic_lev03',\n",
       "       'dTdt_adiabatic_lev04', 'dTdt_adiabatic_lev05',\n",
       "       'dTdt_adiabatic_lev06', 'dTdt_adiabatic_lev07',\n",
       "       'dTdt_adiabatic_lev08', 'dTdt_adiabatic_lev09',\n",
       "       'dTdt_adiabatic_lev10', 'dTdt_adiabatic_lev11',\n",
       "       'dTdt_adiabatic_lev12', 'dTdt_adiabatic_lev13',\n",
       "       'dTdt_adiabatic_lev14', 'dTdt_adiabatic_lev15',\n",
       "       'dTdt_adiabatic_lev16', 'dTdt_adiabatic_lev17',\n",
       "       'dTdt_adiabatic_lev18', 'dTdt_adiabatic_lev19',\n",
       "       'dTdt_adiabatic_lev20', 'dTdt_adiabatic_lev21',\n",
       "       'dTdt_adiabatic_lev22', 'dTdt_adiabatic_lev23',\n",
       "       'dTdt_adiabatic_lev24', 'dTdt_adiabatic_lev25',\n",
       "       'dTdt_adiabatic_lev26', 'dTdt_adiabatic_lev27',\n",
       "       'dTdt_adiabatic_lev28', 'dTdt_adiabatic_lev29',\n",
       "       'dQdt_adiabatic_lev00', 'dQdt_adiabatic_lev01',\n",
       "       'dQdt_adiabatic_lev02', 'dQdt_adiabatic_lev03',\n",
       "       'dQdt_adiabatic_lev04', 'dQdt_adiabatic_lev05',\n",
       "       'dQdt_adiabatic_lev06', 'dQdt_adiabatic_lev07',\n",
       "       'dQdt_adiabatic_lev08', 'dQdt_adiabatic_lev09',\n",
       "       'dQdt_adiabatic_lev10', 'dQdt_adiabatic_lev11',\n",
       "       'dQdt_adiabatic_lev12', 'dQdt_adiabatic_lev13',\n",
       "       'dQdt_adiabatic_lev14', 'dQdt_adiabatic_lev15',\n",
       "       'dQdt_adiabatic_lev16', 'dQdt_adiabatic_lev17',\n",
       "       'dQdt_adiabatic_lev18', 'dQdt_adiabatic_lev19',\n",
       "       'dQdt_adiabatic_lev20', 'dQdt_adiabatic_lev21',\n",
       "       'dQdt_adiabatic_lev22', 'dQdt_adiabatic_lev23',\n",
       "       'dQdt_adiabatic_lev24', 'dQdt_adiabatic_lev25',\n",
       "       'dQdt_adiabatic_lev26', 'dQdt_adiabatic_lev27',\n",
       "       'dQdt_adiabatic_lev28', 'dQdt_adiabatic_lev29', 'PS', 'SOLIN'], dtype=object)"
      ]
     },
     "execution_count": 47,
     "metadata": {},
     "output_type": "execute_result"
    }
   ],
   "source": [
    "features2['feature_names'][:]"
   ]
  },
  {
   "cell_type": "code",
   "execution_count": 48,
   "metadata": {
    "collapsed": true
   },
   "outputs": [],
   "source": [
    "unnorm_features2 = features2['features'][:] * norm2['feature_stds'][:] + norm2['feature_means'][:]"
   ]
  },
  {
   "cell_type": "code",
   "execution_count": 49,
   "metadata": {},
   "outputs": [
    {
     "data": {
      "text/plain": [
       "(3530752, 152)"
      ]
     },
     "execution_count": 49,
     "metadata": {},
     "output_type": "execute_result"
    }
   ],
   "source": [
    "unnorm_features2.shape"
   ]
  },
  {
   "cell_type": "code",
   "execution_count": 51,
   "metadata": {},
   "outputs": [],
   "source": [
    "# sample, lev --> [time, lat, lon]\n",
    "unnorm_features2 = unnorm_features2.reshape(-1, 64, 128, 152)"
   ]
  },
  {
   "cell_type": "code",
   "execution_count": 52,
   "metadata": {
    "collapsed": true
   },
   "outputs": [],
   "source": [
    "# T_C = TAP[t-1] - DTV[t-1] * dt\n",
    "ctrl_T_C = aqua['TAP'][:-1] - aqua['DTV'][:-1] * 1800."
   ]
  },
  {
   "cell_type": "code",
   "execution_count": 53,
   "metadata": {},
   "outputs": [
    {
     "data": {
      "text/plain": [
       "array([ 246.5181427 ,  231.8901825 ,  216.40246582,  238.91215515,\n",
       "        231.94445801], dtype=float32)"
      ]
     },
     "execution_count": 53,
     "metadata": {},
     "output_type": "execute_result"
    }
   ],
   "source": [
    "unnorm_features2[0, 0, 0, :5]"
   ]
  },
  {
   "cell_type": "code",
   "execution_count": 54,
   "metadata": {},
   "outputs": [
    {
     "data": {
      "text/plain": [
       "array([ 246.5181427 ,  231.8901825 ,  216.40246582,  238.91215515,\n",
       "        231.94445801], dtype=float32)"
      ]
     },
     "execution_count": 54,
     "metadata": {},
     "output_type": "execute_result"
    }
   ],
   "source": [
    "ctrl_T_C[0, :5, 0, 0]"
   ]
  },
  {
   "cell_type": "code",
   "execution_count": 55,
   "metadata": {},
   "outputs": [
    {
     "data": {
      "text/plain": [
       "((47, 30, 64, 128), (47, 30, 64, 128))"
      ]
     },
     "execution_count": 55,
     "metadata": {},
     "output_type": "execute_result"
    }
   ],
   "source": [
    "# adiab = (TBP - TC)/dt\n",
    "ctrl_T_C.shape, ctrl_TBP.shape"
   ]
  },
  {
   "cell_type": "code",
   "execution_count": 56,
   "metadata": {
    "collapsed": true
   },
   "outputs": [],
   "source": [
    "ctrl_adiab = (ctrl_TBP - ctrl_T_C) / 1800."
   ]
  },
  {
   "cell_type": "code",
   "execution_count": 65,
   "metadata": {},
   "outputs": [
    {
     "data": {
      "text/plain": [
       "'dTdt_adiabatic_lev00'"
      ]
     },
     "execution_count": 65,
     "metadata": {},
     "output_type": "execute_result"
    }
   ],
   "source": [
    "features2['feature_names'][90]"
   ]
  },
  {
   "cell_type": "code",
   "execution_count": 66,
   "metadata": {},
   "outputs": [
    {
     "data": {
      "text/plain": [
       "array([ -4.32332354e-06,  -2.50074595e-06,   2.33968103e-06,\n",
       "        -4.55220561e-06,   2.61094829e-06], dtype=float32)"
      ]
     },
     "execution_count": 66,
     "metadata": {},
     "output_type": "execute_result"
    }
   ],
   "source": [
    "unnorm_features2[0, 0, 0, 90:95]"
   ]
  },
  {
   "cell_type": "code",
   "execution_count": 67,
   "metadata": {},
   "outputs": [
    {
     "data": {
      "text/plain": [
       "array([ -4.32332354e-06,  -2.50074595e-06,   2.33968103e-06,\n",
       "        -4.55220561e-06], dtype=float32)"
      ]
     },
     "execution_count": 67,
     "metadata": {},
     "output_type": "execute_result"
    }
   ],
   "source": [
    "ctrl_adiab[0, :4, 0, 0]"
   ]
  },
  {
   "cell_type": "markdown",
   "metadata": {},
   "source": [
    "Check, I think I did everything correct"
   ]
  },
  {
   "cell_type": "code",
   "execution_count": null,
   "metadata": {
    "collapsed": true
   },
   "outputs": [],
   "source": []
  }
 ],
 "metadata": {
  "kernelspec": {
   "display_name": "Python 3",
   "language": "python",
   "name": "python3"
  },
  "language_info": {
   "codemirror_mode": {
    "name": "ipython",
    "version": 3
   },
   "file_extension": ".py",
   "mimetype": "text/x-python",
   "name": "python",
   "nbconvert_exporter": "python",
   "pygments_lexer": "ipython3",
   "version": "3.6.3"
  }
 },
 "nbformat": 4,
 "nbformat_minor": 2
}
