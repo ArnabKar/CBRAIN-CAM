{
 "cells": [
  {
   "cell_type": "code",
   "execution_count": 42,
   "metadata": {},
   "outputs": [],
   "source": [
    "%matplotlib inline"
   ]
  },
  {
   "cell_type": "code",
   "execution_count": 32,
   "metadata": {},
   "outputs": [],
   "source": [
    "from cbrain.imports import *\n",
    "from cbrain.utils import *\n",
    "from cbrain.data_generator import *\n",
    "from keras.models import Sequential\n",
    "from keras.layers import *\n",
    "from keras.optimizers import Adam"
   ]
  },
  {
   "cell_type": "code",
   "execution_count": 2,
   "metadata": {},
   "outputs": [],
   "source": [
    "limit_mem()"
   ]
  },
  {
   "cell_type": "code",
   "execution_count": 3,
   "metadata": {},
   "outputs": [],
   "source": [
    "DATA_DIR = '/scratch/srasp/preprocessed_data/'"
   ]
  },
  {
   "cell_type": "code",
   "execution_count": 94,
   "metadata": {},
   "outputs": [],
   "source": [
    "nlat=10; nlon=30; ngeo=nlat*nlon"
   ]
  },
  {
   "cell_type": "code",
   "execution_count": 4,
   "metadata": {},
   "outputs": [],
   "source": [
    "features = xr.open_dataset(f'{DATA_DIR}paper_nonorm_train_10days_features.nc')\n",
    "targets = xr.open_dataset(f'{DATA_DIR}paper_nonorm_train_10days_targets.nc')"
   ]
  },
  {
   "cell_type": "code",
   "execution_count": 12,
   "metadata": {},
   "outputs": [],
   "source": [
    "norm = xr.open_dataset(f'{DATA_DIR}paper_nonorm_train_fullyear_norm.nc')"
   ]
  },
  {
   "cell_type": "code",
   "execution_count": 81,
   "metadata": {},
   "outputs": [],
   "source": [
    "x_all = features['features'].values\n",
    "y_all = targets['targets'].values"
   ]
  },
  {
   "cell_type": "code",
   "execution_count": 95,
   "metadata": {},
   "outputs": [],
   "source": [
    "x = x_all.reshape(-1, 64, 128, 124)[:, 27:27+nlat, :nlon]\n",
    "y = y_all.reshape(-1, 64, 128, 120)[:, 27:27+nlat, :nlon]"
   ]
  },
  {
   "cell_type": "code",
   "execution_count": 96,
   "metadata": {},
   "outputs": [],
   "source": [
    "x = (x - norm['feature_means'].values) / norm['feature_stds'].values\n",
    "y = y * norm['target_conv'].values"
   ]
  },
  {
   "cell_type": "code",
   "execution_count": 97,
   "metadata": {},
   "outputs": [
    {
     "data": {
      "text/plain": [
       "((480, 10, 30, 124), (480, 10, 30, 120))"
      ]
     },
     "execution_count": 97,
     "metadata": {},
     "output_type": "execute_result"
    }
   ],
   "source": [
    "x.shape, y.shape"
   ]
  },
  {
   "cell_type": "markdown",
   "metadata": {},
   "source": [
    "## Standard model"
   ]
  },
  {
   "cell_type": "code",
   "execution_count": 104,
   "metadata": {},
   "outputs": [],
   "source": [
    "x_flat, y_flat = x.reshape(-1, 124), y.reshape(-1, 120)"
   ]
  },
  {
   "cell_type": "code",
   "execution_count": 211,
   "metadata": {},
   "outputs": [],
   "source": [
    "fc_model = Sequential([\n",
    "    Dense(1300, input_shape=(124,), activation='relu'),\n",
    "    Dense(120)\n",
    "])"
   ]
  },
  {
   "cell_type": "code",
   "execution_count": 212,
   "metadata": {},
   "outputs": [
    {
     "name": "stdout",
     "output_type": "stream",
     "text": [
      "_________________________________________________________________\n",
      "Layer (type)                 Output Shape              Param #   \n",
      "=================================================================\n",
      "dense_37 (Dense)             (None, 1300)              162500    \n",
      "_________________________________________________________________\n",
      "dense_38 (Dense)             (None, 120)               156120    \n",
      "=================================================================\n",
      "Total params: 318,620\n",
      "Trainable params: 318,620\n",
      "Non-trainable params: 0\n",
      "_________________________________________________________________\n"
     ]
    }
   ],
   "source": [
    "fc_model.summary()"
   ]
  },
  {
   "cell_type": "code",
   "execution_count": 213,
   "metadata": {},
   "outputs": [],
   "source": [
    "fc_model.compile(Adam(1e-3), 'mse')"
   ]
  },
  {
   "cell_type": "code",
   "execution_count": 214,
   "metadata": {},
   "outputs": [
    {
     "name": "stdout",
     "output_type": "stream",
     "text": [
      "Train on 57600 samples, validate on 14400 samples\n",
      "Epoch 1/3\n",
      "57600/57600 [==============================] - 4s 76us/step - loss: 0.0216 - val_loss: 0.0087\n",
      "Epoch 2/3\n",
      "57600/57600 [==============================] - 2s 40us/step - loss: 0.0086 - val_loss: 0.0073\n",
      "Epoch 3/3\n",
      "57600/57600 [==============================] - 2s 39us/step - loss: 0.0080 - val_loss: 0.0070\n"
     ]
    },
    {
     "data": {
      "text/plain": [
       "<keras.callbacks.History at 0x2b838f1f5e10>"
      ]
     },
     "execution_count": 214,
     "metadata": {},
     "output_type": "execute_result"
    }
   ],
   "source": [
    "fc_model.fit(x_trn[:,:,1], y_trn, batch_size=bs, epochs=3, shuffle=True, \n",
    "                    validation_data = (x_val[:,:,1], y_val))"
   ]
  },
  {
   "cell_type": "code",
   "execution_count": 215,
   "metadata": {},
   "outputs": [
    {
     "name": "stdout",
     "output_type": "stream",
     "text": [
      "Train on 57600 samples, validate on 14400 samples\n",
      "Epoch 1/3\n",
      "57600/57600 [==============================] - 2s 40us/step - loss: 0.0078 - val_loss: 0.0068\n",
      "Epoch 2/3\n",
      "57600/57600 [==============================] - 2s 39us/step - loss: 0.0076 - val_loss: 0.0067\n",
      "Epoch 3/3\n",
      "57600/57600 [==============================] - 2s 40us/step - loss: 0.0075 - val_loss: 0.0066\n"
     ]
    },
    {
     "data": {
      "text/plain": [
       "<keras.callbacks.History at 0x2b838df25b38>"
      ]
     },
     "execution_count": 215,
     "metadata": {},
     "output_type": "execute_result"
    }
   ],
   "source": [
    "fc_model.optimizer.lr = 1e-4\n",
    "fc_model.fit(x_trn[:,:,1], y_trn, batch_size=bs, epochs=3, shuffle=True, \n",
    "                    validation_data = (x_val[:,:,1], y_val))"
   ]
  },
  {
   "cell_type": "code",
   "execution_count": 216,
   "metadata": {},
   "outputs": [
    {
     "name": "stdout",
     "output_type": "stream",
     "text": [
      "Train on 57600 samples, validate on 14400 samples\n",
      "Epoch 1/3\n",
      "57600/57600 [==============================] - 2s 40us/step - loss: 0.0074 - val_loss: 0.0066\n",
      "Epoch 2/3\n",
      "57600/57600 [==============================] - 2s 39us/step - loss: 0.0073 - val_loss: 0.0065\n",
      "Epoch 3/3\n",
      "57600/57600 [==============================] - 2s 39us/step - loss: 0.0073 - val_loss: 0.0065\n"
     ]
    },
    {
     "data": {
      "text/plain": [
       "<keras.callbacks.History at 0x2b838f0c0940>"
      ]
     },
     "execution_count": 216,
     "metadata": {},
     "output_type": "execute_result"
    }
   ],
   "source": [
    "fc_model.optimizer.lr = 2e-5\n",
    "fc_model.fit(x_trn[:,:,1], y_trn, batch_size=bs, epochs=3, shuffle=True, \n",
    "                    validation_data = (x_val[:,:,1], y_val))"
   ]
  },
  {
   "cell_type": "code",
   "execution_count": 219,
   "metadata": {},
   "outputs": [
    {
     "name": "stdout",
     "output_type": "stream",
     "text": [
      "Train on 57600 samples, validate on 14400 samples\n",
      "Epoch 1/3\n",
      "57600/57600 [==============================] - 2s 39us/step - loss: 0.0070 - val_loss: 0.0064\n",
      "Epoch 2/3\n",
      "57600/57600 [==============================] - 2s 39us/step - loss: 0.0070 - val_loss: 0.0064\n",
      "Epoch 3/3\n",
      "57600/57600 [==============================] - 2s 39us/step - loss: 0.0069 - val_loss: 0.0064\n"
     ]
    },
    {
     "data": {
      "text/plain": [
       "<keras.callbacks.History at 0x2b838f0c0f98>"
      ]
     },
     "execution_count": 219,
     "metadata": {},
     "output_type": "execute_result"
    }
   ],
   "source": [
    "fc_model.optimizer.lr = 1e-5\n",
    "fc_model.fit(x_trn[:,:,1], y_trn, batch_size=bs, epochs=3, shuffle=True, \n",
    "                    validation_data = (x_val[:,:,1], y_val))"
   ]
  },
  {
   "cell_type": "markdown",
   "metadata": {},
   "source": [
    "## RNN"
   ]
  },
  {
   "cell_type": "code",
   "execution_count": 110,
   "metadata": {},
   "outputs": [
    {
     "data": {
      "text/plain": [
       "((480, 300, 124), (480, 300, 120))"
      ]
     },
     "execution_count": 110,
     "metadata": {},
     "output_type": "execute_result"
    }
   ],
   "source": [
    "x_re = x.reshape(-1, ngeo, 124)\n",
    "y_re = y.reshape(-1, ngeo, 120)\n",
    "x_re.shape, y_re.shape"
   ]
  },
  {
   "cell_type": "code",
   "execution_count": 111,
   "metadata": {},
   "outputs": [
    {
     "data": {
      "text/plain": [
       "((72000, 124, 2), (72000, 120, 2))"
      ]
     },
     "execution_count": 111,
     "metadata": {},
     "output_type": "execute_result"
    }
   ],
   "source": [
    "x_re = np.rollaxis(x_re.reshape(-1, 2, ngeo, 124), 1, 4).reshape(-1, 124, 2)\n",
    "y_re = np.rollaxis(y_re.reshape(-1, 2, ngeo, 120), 1, 4).reshape(-1, 120, 2)\n",
    "x_re.shape, y_re.shape"
   ]
  },
  {
   "cell_type": "code",
   "execution_count": 112,
   "metadata": {},
   "outputs": [],
   "source": [
    "y_re = y_re[:, :, 1]"
   ]
  },
  {
   "cell_type": "code",
   "execution_count": 220,
   "metadata": {},
   "outputs": [],
   "source": [
    "rnn_model = Sequential([\n",
    "    SimpleRNN(512, input_shape=(124, 2,), unroll=True, activation='relu'),\n",
    "    Dense(120)\n",
    "])"
   ]
  },
  {
   "cell_type": "code",
   "execution_count": 221,
   "metadata": {},
   "outputs": [
    {
     "name": "stdout",
     "output_type": "stream",
     "text": [
      "_________________________________________________________________\n",
      "Layer (type)                 Output Shape              Param #   \n",
      "=================================================================\n",
      "simple_rnn_9 (SimpleRNN)     (None, 512)               263680    \n",
      "_________________________________________________________________\n",
      "dense_39 (Dense)             (None, 120)               61560     \n",
      "=================================================================\n",
      "Total params: 325,240\n",
      "Trainable params: 325,240\n",
      "Non-trainable params: 0\n",
      "_________________________________________________________________\n"
     ]
    }
   ],
   "source": [
    "rnn_model.summary()"
   ]
  },
  {
   "cell_type": "code",
   "execution_count": 222,
   "metadata": {},
   "outputs": [],
   "source": [
    "rnn_model.compile(Adam(1e-3), 'mse')"
   ]
  },
  {
   "cell_type": "code",
   "execution_count": 223,
   "metadata": {},
   "outputs": [
    {
     "name": "stdout",
     "output_type": "stream",
     "text": [
      "Train on 57600 samples, validate on 14400 samples\n",
      "Epoch 1/3\n",
      "57600/57600 [==============================] - 37s 640us/step - loss: 0.0088 - val_loss: 0.0070\n",
      "Epoch 2/3\n",
      "57600/57600 [==============================] - 35s 600us/step - loss: 0.0078 - val_loss: 0.0067\n",
      "Epoch 3/3\n",
      "57600/57600 [==============================] - 35s 603us/step - loss: 0.0076 - val_loss: 0.0066\n"
     ]
    },
    {
     "data": {
      "text/plain": [
       "<keras.callbacks.History at 0x2b838f2facf8>"
      ]
     },
     "execution_count": 223,
     "metadata": {},
     "output_type": "execute_result"
    }
   ],
   "source": [
    "rnn_model.fit(x_trn, y_trn, batch_size=bs, epochs=3, shuffle=True, \n",
    "                    validation_data = (x_val, y_val))"
   ]
  },
  {
   "cell_type": "code",
   "execution_count": 224,
   "metadata": {},
   "outputs": [
    {
     "name": "stdout",
     "output_type": "stream",
     "text": [
      "Train on 57600 samples, validate on 14400 samples\n",
      "Epoch 1/3\n",
      "57600/57600 [==============================] - 35s 609us/step - loss: 0.0075 - val_loss: 0.0065\n",
      "Epoch 2/3\n",
      "57600/57600 [==============================] - 34s 599us/step - loss: 0.0074 - val_loss: 0.0064\n",
      "Epoch 3/3\n",
      "57600/57600 [==============================] - 35s 603us/step - loss: 0.0073 - val_loss: 0.0064\n"
     ]
    },
    {
     "data": {
      "text/plain": [
       "<keras.callbacks.History at 0x2b8390d63390>"
      ]
     },
     "execution_count": 224,
     "metadata": {},
     "output_type": "execute_result"
    }
   ],
   "source": [
    "rnn_model.optimizer.lr = 1e-4\n",
    "rnn_model.fit(x_trn, y_trn, batch_size=bs, epochs=3, shuffle=True, \n",
    "                    validation_data = (x_val, y_val))"
   ]
  },
  {
   "cell_type": "code",
   "execution_count": 226,
   "metadata": {},
   "outputs": [
    {
     "name": "stdout",
     "output_type": "stream",
     "text": [
      "Train on 57600 samples, validate on 14400 samples\n",
      "Epoch 1/3\n",
      "57600/57600 [==============================] - 34s 593us/step - loss: 0.0073 - val_loss: 0.0064\n",
      "Epoch 2/3\n",
      "57600/57600 [==============================] - 35s 604us/step - loss: 0.0072 - val_loss: 0.0064\n",
      "Epoch 3/3\n",
      "57600/57600 [==============================] - 35s 613us/step - loss: 0.0071 - val_loss: 0.0064\n"
     ]
    },
    {
     "data": {
      "text/plain": [
       "<keras.callbacks.History at 0x2b838f1f5400>"
      ]
     },
     "execution_count": 226,
     "metadata": {},
     "output_type": "execute_result"
    }
   ],
   "source": [
    "rnn_model.optimizer.lr = 2e-5\n",
    "rnn_model.fit(x_trn, y_trn, batch_size=bs, epochs=3, shuffle=True, \n",
    "                    validation_data = (x_val, y_val))"
   ]
  },
  {
   "cell_type": "code",
   "execution_count": 227,
   "metadata": {},
   "outputs": [
    {
     "name": "stdout",
     "output_type": "stream",
     "text": [
      "Train on 57600 samples, validate on 14400 samples\n",
      "Epoch 1/3\n",
      "57600/57600 [==============================] - 35s 612us/step - loss: 0.0071 - val_loss: 0.0064\n",
      "Epoch 2/3\n",
      "57600/57600 [==============================] - 35s 614us/step - loss: 0.0070 - val_loss: 0.0064\n",
      "Epoch 3/3\n",
      "57600/57600 [==============================] - 35s 605us/step - loss: 0.0070 - val_loss: 0.0064\n"
     ]
    },
    {
     "data": {
      "text/plain": [
       "<keras.callbacks.History at 0x2b838f0daa20>"
      ]
     },
     "execution_count": 227,
     "metadata": {},
     "output_type": "execute_result"
    }
   ],
   "source": [
    "rnn_model.optimizer.lr = 1e-5\n",
    "rnn_model.fit(x_trn, y_trn, batch_size=bs, epochs=3, shuffle=True, \n",
    "                    validation_data = (x_val, y_val))"
   ]
  },
  {
   "cell_type": "markdown",
   "metadata": {},
   "source": [
    "## Stateful"
   ]
  },
  {
   "cell_type": "code",
   "execution_count": 127,
   "metadata": {},
   "outputs": [],
   "source": [
    "bs = 300"
   ]
  },
  {
   "cell_type": "code",
   "execution_count": 145,
   "metadata": {},
   "outputs": [],
   "source": [
    "x_state = x.reshape(-1, ngeo, 124); x_state.shape\n",
    "y_state = y.reshape(-1, ngeo, 120)"
   ]
  },
  {
   "cell_type": "code",
   "execution_count": 147,
   "metadata": {},
   "outputs": [
    {
     "data": {
      "text/plain": [
       "(240, 2, 300, 120)"
      ]
     },
     "execution_count": 147,
     "metadata": {},
     "output_type": "execute_result"
    }
   ],
   "source": [
    "x_state = x_state.reshape(x.shape[0]//2, 2, ngeo, 124); x_state.shape\n",
    "y_state = y_state.reshape(y.shape[0]//2, 2, ngeo, 120); y_state.shape"
   ]
  },
  {
   "cell_type": "code",
   "execution_count": 148,
   "metadata": {},
   "outputs": [],
   "source": [
    "x_state = np.rollaxis(x_state, 2, 1).reshape(-1, 2, 124);\n",
    "y_state = np.rollaxis(y_state, 2, 1).reshape(-1, 2, 120);"
   ]
  },
  {
   "cell_type": "code",
   "execution_count": 158,
   "metadata": {},
   "outputs": [],
   "source": [
    "x_state = x_state.reshape(-1, 2, 124);\n",
    "y_state = y_state.reshape(-1, 2, 120);"
   ]
  },
  {
   "cell_type": "code",
   "execution_count": 161,
   "metadata": {},
   "outputs": [
    {
     "data": {
      "text/plain": [
       "((72000, 2, 124), (72000, 2, 120))"
      ]
     },
     "execution_count": 161,
     "metadata": {},
     "output_type": "execute_result"
    }
   ],
   "source": [
    "x_state.shape, y_state.shape"
   ]
  },
  {
   "cell_type": "code",
   "execution_count": 162,
   "metadata": {},
   "outputs": [],
   "source": [
    "x_state = np.rollaxis(x_state, 1, 3)\n",
    "y_state = y_state[:, 1]"
   ]
  },
  {
   "cell_type": "code",
   "execution_count": 168,
   "metadata": {},
   "outputs": [
    {
     "data": {
      "text/plain": [
       "((72000, 124, 2), (72000, 120))"
      ]
     },
     "execution_count": 168,
     "metadata": {},
     "output_type": "execute_result"
    }
   ],
   "source": [
    "x_state.shape, y_state.shape"
   ]
  },
  {
   "cell_type": "code",
   "execution_count": 169,
   "metadata": {},
   "outputs": [],
   "source": [
    "split = int(x_state.shape[0] * 0.8)"
   ]
  },
  {
   "cell_type": "code",
   "execution_count": 170,
   "metadata": {},
   "outputs": [],
   "source": [
    "x_trn, x_val = x_state[:split], x_state[split:]\n",
    "y_trn, y_val = y_state[:split], y_state[split:]"
   ]
  },
  {
   "cell_type": "code",
   "execution_count": 202,
   "metadata": {},
   "outputs": [],
   "source": [
    "rnn_model_state = Sequential([\n",
    "    SimpleRNN(512, batch_input_shape=(bs, 124, 2,), stateful=True, unroll=True),\n",
    "    Dense(120)\n",
    "])"
   ]
  },
  {
   "cell_type": "code",
   "execution_count": 203,
   "metadata": {},
   "outputs": [
    {
     "name": "stdout",
     "output_type": "stream",
     "text": [
      "_________________________________________________________________\n",
      "Layer (type)                 Output Shape              Param #   \n",
      "=================================================================\n",
      "simple_rnn_8 (SimpleRNN)     (300, 512)                263680    \n",
      "_________________________________________________________________\n",
      "dense_32 (Dense)             (300, 120)                61560     \n",
      "=================================================================\n",
      "Total params: 325,240\n",
      "Trainable params: 325,240\n",
      "Non-trainable params: 0\n",
      "_________________________________________________________________\n"
     ]
    }
   ],
   "source": [
    "rnn_model_state.summary()"
   ]
  },
  {
   "cell_type": "code",
   "execution_count": 204,
   "metadata": {},
   "outputs": [],
   "source": [
    "rnn_model_state.compile(Adam(1e-3), 'mse')"
   ]
  },
  {
   "cell_type": "code",
   "execution_count": 205,
   "metadata": {},
   "outputs": [
    {
     "name": "stdout",
     "output_type": "stream",
     "text": [
      "Train on 57600 samples, validate on 14400 samples\n",
      "Epoch 1/3\n",
      "57600/57600 [==============================] - 37s 637us/step - loss: 0.0112 - val_loss: 0.0075\n",
      "Epoch 2/3\n",
      "57600/57600 [==============================] - 34s 596us/step - loss: 0.0081 - val_loss: 0.0071\n",
      "Epoch 3/3\n",
      "57600/57600 [==============================] - 34s 597us/step - loss: 0.0080 - val_loss: 0.0070\n"
     ]
    },
    {
     "data": {
      "text/plain": [
       "<keras.callbacks.History at 0x2b838dee3550>"
      ]
     },
     "execution_count": 205,
     "metadata": {},
     "output_type": "execute_result"
    }
   ],
   "source": [
    "rnn_model_state.fit(x_trn, y_trn, batch_size=bs, epochs=3, shuffle=False, \n",
    "                    validation_data = (x_val, y_val))"
   ]
  },
  {
   "cell_type": "code",
   "execution_count": 206,
   "metadata": {},
   "outputs": [
    {
     "name": "stdout",
     "output_type": "stream",
     "text": [
      "Train on 57600 samples, validate on 14400 samples\n",
      "Epoch 1/3\n",
      "57600/57600 [==============================] - 35s 600us/step - loss: 0.0079 - val_loss: 0.0070\n",
      "Epoch 2/3\n",
      "57600/57600 [==============================] - 34s 589us/step - loss: 0.0079 - val_loss: 0.0070\n",
      "Epoch 3/3\n",
      "57600/57600 [==============================] - 35s 607us/step - loss: 0.0078 - val_loss: 0.0070\n"
     ]
    },
    {
     "data": {
      "text/plain": [
       "<keras.callbacks.History at 0x2b838c6a0470>"
      ]
     },
     "execution_count": 206,
     "metadata": {},
     "output_type": "execute_result"
    }
   ],
   "source": [
    "rnn_model_state.optimizer.lr = 1e-4\n",
    "rnn_model_state.fit(x_trn, y_trn, batch_size=bs, epochs=3, shuffle=False, \n",
    "                    validation_data = (x_val, y_val))"
   ]
  },
  {
   "cell_type": "markdown",
   "metadata": {},
   "source": [
    "Need same train valid splin in above examples!"
   ]
  },
  {
   "cell_type": "code",
   "execution_count": null,
   "metadata": {},
   "outputs": [],
   "source": []
  }
 ],
 "metadata": {
  "kernelspec": {
   "display_name": "Python 3",
   "language": "python",
   "name": "python3"
  },
  "language_info": {
   "codemirror_mode": {
    "name": "ipython",
    "version": 3
   },
   "file_extension": ".py",
   "mimetype": "text/x-python",
   "name": "python",
   "nbconvert_exporter": "python",
   "pygments_lexer": "ipython3",
   "version": "3.6.5"
  },
  "toc": {
   "base_numbering": 1,
   "nav_menu": {},
   "number_sections": true,
   "sideBar": true,
   "skip_h1_title": true,
   "title_cell": "Table of Contents",
   "title_sidebar": "Contents",
   "toc_cell": false,
   "toc_position": {},
   "toc_section_display": true,
   "toc_window_display": false
  }
 },
 "nbformat": 4,
 "nbformat_minor": 2
}
