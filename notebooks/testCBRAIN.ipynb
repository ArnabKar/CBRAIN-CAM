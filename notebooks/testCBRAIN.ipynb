{
 "cells": [
  {
   "cell_type": "code",
   "execution_count": 1,
   "metadata": {},
   "outputs": [
    {
     "name": "stderr",
     "output_type": "stream",
     "text": [
      "/home1/05488/tg847872/miniconda3/lib/python3.6/site-packages/h5py/__init__.py:36: FutureWarning: Conversion of the second argument of issubdtype from `float` to `np.floating` is deprecated. In future, it will be treated as `np.float64 == np.dtype(float).type`.\n",
      "  from ._conv import register_converters as _register_converters\n",
      "Using TensorFlow backend.\n"
     ]
    }
   ],
   "source": [
    "import netCDF4 as nc\n",
    "import numpy as np\n",
    "import matplotlib.pyplot as plt\n",
    "%matplotlib inline\n",
    "import keras\n",
    "import sys\n",
    "sys.path.append('../keras_network/')\n",
    "sys.path.append('../data_processing/')\n",
    "from data_generator import DataGenerator\n",
    "from losses import metrics, all_metrics\n",
    "from keras.utils.generic_utils import get_custom_objects\n",
    "metrics_dict = dict([(f.__name__, f) for f in all_metrics])\n",
    "get_custom_objects().update(metrics_dict)"
   ]
  },
  {
   "cell_type": "code",
   "execution_count": 2,
   "metadata": {},
   "outputs": [],
   "source": [
    "aquafn = '/scratch/05488/tg847872/cloudbrain_ctrl_aquaplanet_03/AndKua_aqua_SPCAM3.0_enhance05.cam2.h1.0000-01-01-00000.nc'"
   ]
  },
  {
   "cell_type": "code",
   "execution_count": 3,
   "metadata": {},
   "outputs": [],
   "source": [
    "ds = nc.Dataset(aquafn)"
   ]
  },
  {
   "cell_type": "code",
   "execution_count": 4,
   "metadata": {},
   "outputs": [
    {
     "data": {
      "text/plain": [
       "<class 'netCDF4._netCDF4.Dataset'>\n",
       "root group (NETCDF3_CLASSIC data model, file format NETCDF3):\n",
       "    Conventions: CF-1.0\n",
       "    source: CAM\n",
       "    case: AndKua_aqua_SPCAM3.0_enhance05\n",
       "    title: \n",
       "    logname: tg847872\n",
       "    host: \n",
       "    Version: $Name:  $\n",
       "    revision_Id: $Id: history.F90,v 1.26.2.38 2003/12/15 18:52:35 hender Exp $\n",
       "    dimensions(sizes): lat(64), lon(128), lev(30), ilev(31), isccp_prs(7), isccp_tau(7), isccp_prstau(49), time(4), tbnd(2), chars(8), crm_x(8), crm_y(1), crm_z(28)\n",
       "    variables(dimensions): float64 \u001b[4mP0\u001b[0m(), float64 \u001b[4mlat\u001b[0m(lat), float64 \u001b[4mlon\u001b[0m(lon), float64 \u001b[4mcrm_x\u001b[0m(crm_x), float64 \u001b[4mcrm_y\u001b[0m(crm_y), float64 \u001b[4mcrm_z\u001b[0m(crm_z), float64 \u001b[4mlev\u001b[0m(lev), float64 \u001b[4milev\u001b[0m(ilev), float64 \u001b[4misccp_prs\u001b[0m(isccp_prs), float64 \u001b[4misccp_tau\u001b[0m(isccp_ta), float64 \u001b[4misccp_prstau\u001b[0m(isccp_prsta), float64 \u001b[4mtime\u001b[0m(time), float64 \u001b[4mtime_bnds\u001b[0m(time,tbnd), |S1 \u001b[4mdate_written\u001b[0m(time,chars), |S1 \u001b[4mtime_written\u001b[0m(time,chars), int32 \u001b[4mntrm\u001b[0m(), int32 \u001b[4mntrn\u001b[0m(), int32 \u001b[4mntrk\u001b[0m(), int32 \u001b[4mndbase\u001b[0m(), int32 \u001b[4mnsbase\u001b[0m(), int32 \u001b[4mnbdate\u001b[0m(), int32 \u001b[4mnbsec\u001b[0m(), int32 \u001b[4mmdt\u001b[0m(), int32 \u001b[4mnlon\u001b[0m(lat), int32 \u001b[4mwnummax\u001b[0m(lat), float64 \u001b[4mhyai\u001b[0m(ilev), float64 \u001b[4mhybi\u001b[0m(ilev), float64 \u001b[4mhyam\u001b[0m(lev), float64 \u001b[4mhybm\u001b[0m(lev), float64 \u001b[4mgw\u001b[0m(lat), int32 \u001b[4mndcur\u001b[0m(time), int32 \u001b[4mnscur\u001b[0m(time), int32 \u001b[4mdate\u001b[0m(time), int32 \u001b[4mdatesec\u001b[0m(time), int32 \u001b[4mnsteph\u001b[0m(time), float32 \u001b[4mBRAINDQ\u001b[0m(time,lev,lat,lon), float32 \u001b[4mBRAINDT\u001b[0m(time,lev,lat,lon), float32 \u001b[4mDTV\u001b[0m(time,lev,lat,lon), float32 \u001b[4mDTVKE\u001b[0m(time,lev,lat,lon), float32 \u001b[4mFLUT\u001b[0m(time,lat,lon), float32 \u001b[4mLHFLX\u001b[0m(time,lat,lon), float32 \u001b[4mNNPS\u001b[0m(time,lat,lon), float32 \u001b[4mNNQC\u001b[0m(time,lev,lat,lon), float32 \u001b[4mNNSOLIN\u001b[0m(time,lat,lon), float32 \u001b[4mNNTC\u001b[0m(time,lev,lat,lon), float32 \u001b[4mNNVC\u001b[0m(time,lev,lat,lon), float32 \u001b[4mOMEGA\u001b[0m(time,lev,lat,lon), float32 \u001b[4mPHCLDICE\u001b[0m(time,lev,lat,lon), float32 \u001b[4mPHCLDLIQ\u001b[0m(time,lev,lat,lon), float32 \u001b[4mPHQ\u001b[0m(time,lev,lat,lon), float32 \u001b[4mPRECT\u001b[0m(time,lat,lon), float32 \u001b[4mPS\u001b[0m(time,lat,lon), float32 \u001b[4mQAP\u001b[0m(time,lev,lat,lon), float32 \u001b[4mQCAP\u001b[0m(time,lev,lat,lon), float32 \u001b[4mQIAP\u001b[0m(time,lev,lat,lon), float32 \u001b[4mQRL\u001b[0m(time,lev,lat,lon), float32 \u001b[4mQRS\u001b[0m(time,lev,lat,lon), float32 \u001b[4mSHFLX\u001b[0m(time,lat,lon), float32 \u001b[4mSOLIN\u001b[0m(time,lat,lon), float32 \u001b[4mSPDQ\u001b[0m(time,lev,lat,lon), float32 \u001b[4mSPDQC\u001b[0m(time,lev,lat,lon), float32 \u001b[4mSPDQI\u001b[0m(time,lev,lat,lon), float32 \u001b[4mSPDT\u001b[0m(time,lev,lat,lon), float32 \u001b[4mSPQC\u001b[0m(time,lev,lat,lon), float32 \u001b[4mSPQI\u001b[0m(time,lev,lat,lon), float32 \u001b[4mSRFRAD\u001b[0m(time,lat,lon), float32 \u001b[4mT\u001b[0m(time,lev,lat,lon), float32 \u001b[4mTAP\u001b[0m(time,lev,lat,lon), float32 \u001b[4mTPHYSTND\u001b[0m(time,lev,lat,lon), float32 \u001b[4mTS\u001b[0m(time,lat,lon), float32 \u001b[4mUAP\u001b[0m(time,lev,lat,lon), float32 \u001b[4mUPHYSTND\u001b[0m(time,lev,lat,lon), float32 \u001b[4mVAP\u001b[0m(time,lev,lat,lon), float32 \u001b[4mVD01\u001b[0m(time,lev,lat,lon), float32 \u001b[4mVPHYSTND\u001b[0m(time,lev,lat,lon), float32 \u001b[4mdQdtadia\u001b[0m(time,lev,lat,lon), float32 \u001b[4mdTdtadia\u001b[0m(time,lev,lat,lon)\n",
       "    groups: "
      ]
     },
     "execution_count": 4,
     "metadata": {},
     "output_type": "execute_result"
    }
   ],
   "source": [
    "ds"
   ]
  },
  {
   "cell_type": "code",
   "execution_count": 5,
   "metadata": {},
   "outputs": [],
   "source": [
    "mean = np.loadtxt(\n",
    "    '/scratch/05488/tg847872/cloudbrain_ctrl_aquaplanet_03/keras_matrices/means.txt',\n",
    "    delimiter=','\n",
    ")"
   ]
  },
  {
   "cell_type": "code",
   "execution_count": 6,
   "metadata": {},
   "outputs": [
    {
     "data": {
      "text/plain": [
       "(152,)"
      ]
     },
     "execution_count": 6,
     "metadata": {},
     "output_type": "execute_result"
    }
   ],
   "source": [
    "mean.shape"
   ]
  },
  {
   "cell_type": "code",
   "execution_count": 7,
   "metadata": {},
   "outputs": [],
   "source": [
    "std = np.loadtxt(\n",
    "    '/scratch/05488/tg847872/cloudbrain_ctrl_aquaplanet_03/keras_matrices/stds.txt',\n",
    "    delimiter=','\n",
    ")"
   ]
  },
  {
   "cell_type": "code",
   "execution_count": 8,
   "metadata": {},
   "outputs": [],
   "source": [
    "inps = ['TC', 'QC', 'VC', 'dTdt_adiab', 'dQdt_adiab', 'PS', 'SOLIN']\n",
    "outps = ['SPDQ', 'SPDT', 'QRL', 'QRS']"
   ]
  },
  {
   "cell_type": "code",
   "execution_count": 9,
   "metadata": {},
   "outputs": [],
   "source": [
    "dt = 1800.\n",
    "t = 3"
   ]
  },
  {
   "cell_type": "code",
   "execution_count": 10,
   "metadata": {},
   "outputs": [],
   "source": [
    "TC = ds['TAP'][t-1] - ds['DTV'][t-1] * dt\n",
    "QC = ds['QAP'][t-1] - ds['VD01'][t-1] * dt\n",
    "VC = ds['VAP'][t-1]"
   ]
  },
  {
   "cell_type": "code",
   "execution_count": 11,
   "metadata": {},
   "outputs": [
    {
     "data": {
      "text/plain": [
       "(30, 64, 128)"
      ]
     },
     "execution_count": 11,
     "metadata": {},
     "output_type": "execute_result"
    }
   ],
   "source": [
    "TC.shape"
   ]
  },
  {
   "cell_type": "code",
   "execution_count": 12,
   "metadata": {},
   "outputs": [],
   "source": [
    "TBP = ds['TAP'][t] - ds['TPHYSTND'][t] * dt\n",
    "QBP = ds['QAP'][t] - ds['PHQ'][t] * dt"
   ]
  },
  {
   "cell_type": "code",
   "execution_count": 13,
   "metadata": {},
   "outputs": [],
   "source": [
    "dTdt_adiab = (TBP - TC) / dt\n",
    "dQdt_adiab = (QBP - QC) / dt"
   ]
  },
  {
   "cell_type": "code",
   "execution_count": 14,
   "metadata": {},
   "outputs": [],
   "source": [
    "PS = ds['NNPS'][t]\n",
    "SOLIN = ds['NNSOLIN'][t]"
   ]
  },
  {
   "cell_type": "code",
   "execution_count": 15,
   "metadata": {},
   "outputs": [
    {
     "data": {
      "text/plain": [
       "(1, 64, 128)"
      ]
     },
     "execution_count": 15,
     "metadata": {},
     "output_type": "execute_result"
    }
   ],
   "source": [
    "PS = np.expand_dims(PS, 0); PS.shape"
   ]
  },
  {
   "cell_type": "code",
   "execution_count": 16,
   "metadata": {},
   "outputs": [],
   "source": [
    "SOLIN = np.expand_dims(SOLIN, 0)"
   ]
  },
  {
   "cell_type": "code",
   "execution_count": 17,
   "metadata": {},
   "outputs": [
    {
     "data": {
      "text/plain": [
       "(152, 64, 128)"
      ]
     },
     "execution_count": 17,
     "metadata": {},
     "output_type": "execute_result"
    }
   ],
   "source": [
    "inp_arr_raw = np.concatenate([TC, QC, VC, dTdt_adiab, dQdt_adiab, PS, SOLIN]); inp_arr_raw.shape"
   ]
  },
  {
   "cell_type": "code",
   "execution_count": 18,
   "metadata": {},
   "outputs": [],
   "source": [
    "def normalize(x):\n",
    "    return (x - mean[:, None, None]) / std[:, None, None]"
   ]
  },
  {
   "cell_type": "code",
   "execution_count": 19,
   "metadata": {},
   "outputs": [
    {
     "data": {
      "text/plain": [
       "(152, 64, 128)"
      ]
     },
     "execution_count": 19,
     "metadata": {},
     "output_type": "execute_result"
    }
   ],
   "source": [
    "inp_arr_cb = np.concatenate(\n",
    "    [ds['NNTC'][t], ds['NNQC'][t], ds['NNVC'][t], ds['dTdtadia'][t], ds['dQdtadia'][t],\n",
    "     np.expand_dims(ds['NNPS'][t], 0), np.expand_dims(ds['NNSOLIN'][t], 0)]\n",
    "); inp_arr_cb.shape"
   ]
  },
  {
   "cell_type": "code",
   "execution_count": 20,
   "metadata": {},
   "outputs": [
    {
     "data": {
      "text/plain": [
       "False"
      ]
     },
     "execution_count": 20,
     "metadata": {},
     "output_type": "execute_result"
    }
   ],
   "source": [
    "np.allclose(inp_arr_cb, inp_arr_raw)"
   ]
  },
  {
   "cell_type": "code",
   "execution_count": 21,
   "metadata": {},
   "outputs": [],
   "source": [
    "inp_raw_norm = normalize(inp_arr_raw)\n",
    "inp_cb_norm = normalize(inp_arr_cb)"
   ]
  },
  {
   "cell_type": "code",
   "execution_count": 53,
   "metadata": {},
   "outputs": [],
   "source": [
    "def get_cb_inps(t, norm=True):\n",
    "    x = np.concatenate(\n",
    "        [ds['NNTC'][t], ds['NNQC'][t], ds['NNVC'][t], ds['dTdtadia'][t], ds['dQdtadia'][t],\n",
    "         np.expand_dims(ds['NNPS'][t], 0), np.expand_dims(ds['NNSOLIN'][t], 0)]\n",
    "    )\n",
    "    return normalize(x) if norm else x"
   ]
  },
  {
   "cell_type": "code",
   "execution_count": 22,
   "metadata": {},
   "outputs": [],
   "source": [
    "ilat = 33; ilon = 0"
   ]
  },
  {
   "cell_type": "code",
   "execution_count": 23,
   "metadata": {},
   "outputs": [
    {
     "data": {
      "text/plain": [
       "[<matplotlib.lines.Line2D at 0x2b7704e7f160>]"
      ]
     },
     "execution_count": 23,
     "metadata": {},
     "output_type": "execute_result"
    },
    {
     "data": {
      "image/png": "[encoded data removed]",
      "text/plain": [
       "<matplotlib.figure.Figure at 0x2b7704255518>"
      ]
     },
     "metadata": {},
     "output_type": "display_data"
    }
   ],
   "source": [
    "plt.plot(ds['BRAINDT'][3,:,ilat,ilon])"
   ]
  },
  {
   "cell_type": "code",
   "execution_count": 24,
   "metadata": {},
   "outputs": [
    {
     "data": {
      "text/plain": [
       "[<matplotlib.lines.Line2D at 0x2b7704f0c588>]"
      ]
     },
     "execution_count": 24,
     "metadata": {},
     "output_type": "execute_result"
    },
    {
     "data": {
      "image/png": "[encoded data removed]",
      "text/plain": [
       "<matplotlib.figure.Figure at 0x2b7704269978>"
      ]
     },
     "metadata": {},
     "output_type": "display_data"
    }
   ],
   "source": [
    "plt.plot(ds['BRAINDQ'][3,:,ilat,ilon])"
   ]
  },
  {
   "cell_type": "markdown",
   "metadata": {},
   "source": [
    "## Get predictions"
   ]
  },
  {
   "cell_type": "code",
   "execution_count": 25,
   "metadata": {},
   "outputs": [],
   "source": [
    "L_V = 2.5e6   # Latent heat of vaporization is actually 2.26e6\n",
    "C_P = 1e3   # Specific heat capacity of air at constant pressure"
   ]
  },
  {
   "cell_type": "code",
   "execution_count": 26,
   "metadata": {},
   "outputs": [],
   "source": [
    "m = keras.models.load_model('/home1/05488/tg847872/tmp/B001_purecrm_ess_sample1_base.h5')"
   ]
  },
  {
   "cell_type": "code",
   "execution_count": 27,
   "metadata": {},
   "outputs": [
    {
     "data": {
      "text/plain": [
       "(152, 64, 128)"
      ]
     },
     "execution_count": 27,
     "metadata": {},
     "output_type": "execute_result"
    }
   ],
   "source": [
    "inp_cb_norm.shape"
   ]
  },
  {
   "cell_type": "code",
   "execution_count": 28,
   "metadata": {},
   "outputs": [
    {
     "data": {
      "text/plain": [
       "(8192, 120)"
      ]
     },
     "execution_count": 28,
     "metadata": {},
     "output_type": "execute_result"
    }
   ],
   "source": [
    "preds = m.predict(inp_cb_norm.reshape(152, -1).T); preds.shape"
   ]
  },
  {
   "cell_type": "code",
   "execution_count": 29,
   "metadata": {},
   "outputs": [],
   "source": [
    "preds = preds.T.reshape(120, 64, 128)"
   ]
  },
  {
   "cell_type": "code",
   "execution_count": 73,
   "metadata": {},
   "outputs": [],
   "source": [
    "def get_cb_preds(t):\n",
    "    cb_preds = np.concatenate(\n",
    "        [ds['BRAINDQ'][t] * L_V, ds['BRAINDT'][t]* C_P, ds['QRL'][t] * C_P, ds['QRS'][t] * C_P]\n",
    "    )\n",
    "    return cb_preds"
   ]
  },
  {
   "cell_type": "code",
   "execution_count": 30,
   "metadata": {},
   "outputs": [
    {
     "data": {
      "text/plain": [
       "(120, 64, 128)"
      ]
     },
     "execution_count": 30,
     "metadata": {},
     "output_type": "execute_result"
    }
   ],
   "source": [
    "cb_preds = np.concatenate(\n",
    "    [ds['BRAINDQ'][t] * L_V, ds['BRAINDT'][t]* C_P, ds['QRL'][t] * C_P, ds['QRS'][t] * C_P]\n",
    "); cb_preds.shape"
   ]
  },
  {
   "cell_type": "code",
   "execution_count": 31,
   "metadata": {},
   "outputs": [],
   "source": [
    "# BRAINDQ = ptend%q = SPDQ(output)\n",
    "# SPDQ(output) = NNoutput / LV\n",
    "# BRAINDT = (ptend%S = SPDT(output)) / CP\n",
    "# SPDT(output) = NNoutput"
   ]
  },
  {
   "cell_type": "code",
   "execution_count": 34,
   "metadata": {},
   "outputs": [
    {
     "data": {
      "text/plain": [
       "[<matplotlib.lines.Line2D at 0x2b773e520668>]"
      ]
     },
     "execution_count": 34,
     "metadata": {},
     "output_type": "execute_result"
    },
    {
     "data": {
      "image/png": "[encoded data removed]",
      "text/plain": [
       "<matplotlib.figure.Figure at 0x2b773e4ddb38>"
      ]
     },
     "metadata": {},
     "output_type": "display_data"
    }
   ],
   "source": [
    "plt.plot(cb_preds[:, 0, 0])"
   ]
  },
  {
   "cell_type": "code",
   "execution_count": 35,
   "metadata": {},
   "outputs": [
    {
     "data": {
      "text/plain": [
       "[<matplotlib.lines.Line2D at 0x2b773e6902e8>]"
      ]
     },
     "execution_count": 35,
     "metadata": {},
     "output_type": "execute_result"
    },
    {
     "data": {
      "image/png": "[encoded data removed]",
      "text/plain": [
       "<matplotlib.figure.Figure at 0x2b773e6071d0>"
      ]
     },
     "metadata": {},
     "output_type": "display_data"
    }
   ],
   "source": [
    "plt.plot(preds[:, 0, 0])"
   ]
  },
  {
   "cell_type": "code",
   "execution_count": 37,
   "metadata": {},
   "outputs": [
    {
     "data": {
      "text/plain": [
       "[<matplotlib.lines.Line2D at 0x2b773e756208>]"
      ]
     },
     "execution_count": 37,
     "metadata": {},
     "output_type": "execute_result"
    },
    {
     "data": {
      "image/png": "[encoded data removed]",
      "text/plain": [
       "<matplotlib.figure.Figure at 0x2b773e70b0b8>"
      ]
     },
     "metadata": {},
     "output_type": "display_data"
    }
   ],
   "source": [
    "plt.plot(cb_preds[:, 33, 0]-preds[:, 33, 0])"
   ]
  },
  {
   "cell_type": "code",
   "execution_count": 200,
   "metadata": {},
   "outputs": [
    {
     "data": {
      "text/plain": [
       "<class 'netCDF4._netCDF4.Variable'>\n",
       "float32 BRAINDQ(time, lev, lat, lon)\n",
       "    units: kg/kg/s\n",
       "    long_name: Q tendency - neural net for moist convection\n",
       "    cell_method: time: mean\n",
       "unlimited dimensions: time\n",
       "current shape = (4, 30, 64, 128)\n",
       "filling off"
      ]
     },
     "execution_count": 200,
     "metadata": {},
     "output_type": "execute_result"
    }
   ],
   "source": [
    "ds['BRAINDQ']"
   ]
  },
  {
   "cell_type": "markdown",
   "metadata": {},
   "source": [
    "## Reproduce F90 vectors"
   ]
  },
  {
   "cell_type": "code",
   "execution_count": 38,
   "metadata": {},
   "outputs": [],
   "source": [
    "search_val = 246.518145771772"
   ]
  },
  {
   "cell_type": "code",
   "execution_count": 59,
   "metadata": {},
   "outputs": [],
   "source": [
    "inps_t1_raw = get_cb_inps(1, False)"
   ]
  },
  {
   "cell_type": "code",
   "execution_count": 60,
   "metadata": {},
   "outputs": [
    {
     "data": {
      "text/plain": [
       "(152, 64, 128)"
      ]
     },
     "execution_count": 60,
     "metadata": {},
     "output_type": "execute_result"
    }
   ],
   "source": [
    "a = np.abs(inps_t1_raw - search_val); a.shape"
   ]
  },
  {
   "cell_type": "code",
   "execution_count": 61,
   "metadata": {},
   "outputs": [
    {
     "data": {
      "text/plain": [
       "(0, 0, 0)"
      ]
     },
     "execution_count": 61,
     "metadata": {},
     "output_type": "execute_result"
    }
   ],
   "source": [
    "np.unravel_index(a.argmin(), a.shape)"
   ]
  },
  {
   "cell_type": "code",
   "execution_count": 62,
   "metadata": {},
   "outputs": [
    {
     "data": {
      "text/plain": [
       "array([ 2.4651814e+02,  2.3189018e+02,  2.1640247e+02,  2.3891216e+02,\n",
       "        2.3194446e+02,  2.2959180e+02,  2.2944063e+02,  2.2874290e+02,\n",
       "        2.2771008e+02,  2.2672400e+02,  2.2561212e+02,  2.2314035e+02,\n",
       "        2.2125610e+02,  2.1830640e+02,  2.1714983e+02,  2.1836169e+02,\n",
       "        2.2343808e+02,  2.3032021e+02,  2.3893547e+02,  2.4766966e+02,\n",
       "        2.5389316e+02,  2.5808481e+02,  2.6173392e+02,  2.6425168e+02,\n",
       "        2.6555685e+02,  2.6738092e+02,  2.6912375e+02,  2.7075772e+02,\n",
       "        2.7226547e+02,  2.7362326e+02,  1.9037142e-06,  1.8891703e-06,\n",
       "        1.7588474e-06,  1.7571419e-06,  1.7425954e-06,  1.6574567e-06,\n",
       "        1.5940446e-06,  1.5920792e-06,  1.5923852e-06,  1.5992169e-06,\n",
       "        1.6423849e-06,  1.7181877e-06,  2.1865117e-06,  4.1795220e-06,\n",
       "        7.7228233e-06,  1.6083559e-05,  3.4336816e-05,  7.8597659e-05,\n",
       "        2.4581162e-04,  5.1884243e-04,  8.2231179e-04,  1.1295289e-03,\n",
       "        1.4988487e-03,  1.9153649e-03,  2.2750068e-03,  2.4801614e-03,\n",
       "        2.7017440e-03,  2.8371471e-03,  2.8195377e-03,  2.9493193e-03,\n",
       "        4.1745466e-01,  1.7426392e-01,  8.5562550e-02, -1.5268198e-01,\n",
       "       -6.9505972e-01, -1.1669159e+00, -1.5275910e+00, -2.0499268e+00,\n",
       "       -2.7257817e+00, -3.2858617e+00, -3.8853993e+00, -4.5031242e+00,\n",
       "       -4.9840727e+00, -4.8028617e+00, -3.6701610e+00, -2.4225569e+00,\n",
       "       -1.4671730e+00, -1.4090040e+00, -1.7052505e+00, -1.6416674e+00,\n",
       "       -1.2641009e+00, -1.1850020e+00, -1.2022604e+00, -1.0315019e+00,\n",
       "       -8.0201721e-01, -9.5139331e-01, -9.9476242e-01, -9.4318974e-01,\n",
       "       -8.7732500e-01, -8.5253549e-01,  2.5318450e-05,  2.7135062e-05,\n",
       "        3.1983869e-05,  2.5085563e-05,  3.2251861e-05,  2.8565135e-05,\n",
       "        2.3089811e-05,  1.9578736e-05,  2.0040185e-05,  1.9491246e-05,\n",
       "        2.0561070e-05,  2.3294264e-05,  2.2166141e-05,  1.6901409e-05,\n",
       "        3.0454568e-05,  3.0309891e-05,  4.0196293e-05,  5.3014832e-05,\n",
       "        5.0657341e-05,  3.7634276e-05,  4.8987764e-05,  3.8950548e-05,\n",
       "        2.5280058e-05,  3.0068537e-05,  4.2294287e-05,  1.2274240e-05,\n",
       "        3.1678323e-05,  2.4965319e-05,  2.9777122e-05,  5.5798650e-05,\n",
       "       -2.9383952e-15, -1.1464954e-14, -3.9552244e-14, -3.2130735e-14,\n",
       "        8.7623702e-14,  1.0809815e-13, -4.2417966e-15,  6.6858314e-15,\n",
       "        1.9115386e-15,  3.4942671e-14, -4.8264076e-14,  1.2880077e-13,\n",
       "        2.3281377e-12,  7.8869654e-12,  1.9773298e-11,  1.3477232e-10,\n",
       "        3.7185782e-11,  7.8242679e-10, -3.2920280e-10, -8.4056573e-10,\n",
       "       -1.9602127e-09, -1.7350599e-09, -3.7704067e-09, -2.3643101e-09,\n",
       "       -2.9091012e-09,  2.0716522e-09,  1.2243209e-09, -1.2568766e-09,\n",
       "        7.3117007e-12,  3.0032989e-08,  9.9702148e+04,  4.8354160e+02],\n",
       "      dtype=float32)"
      ]
     },
     "execution_count": 62,
     "metadata": {},
     "output_type": "execute_result"
    }
   ],
   "source": [
    "inps_t1_raw[:, 0, 0]"
   ]
  },
  {
   "cell_type": "code",
   "execution_count": 63,
   "metadata": {},
   "outputs": [],
   "source": [
    "inps_t1_norm = get_cb_inps(1, True)"
   ]
  },
  {
   "cell_type": "code",
   "execution_count": 64,
   "metadata": {},
   "outputs": [
    {
     "data": {
      "text/plain": [
       "array([ 8.94153581e-01,  7.07858112e-01,  8.94260659e-01,  1.08749873e+00,\n",
       "        1.11231759e+00,  1.37628314e+00,  1.47046584e+00,  1.49369949e+00,\n",
       "        1.60869529e+00,  1.74392010e+00,  1.85987739e+00,  1.63947883e+00,\n",
       "        9.41156410e-01,  8.47009521e-02, -4.86854805e-01, -8.53299017e-01,\n",
       "       -9.91211354e-01, -1.06967220e+00, -1.06674921e+00, -1.00083740e+00,\n",
       "       -1.00658204e+00, -1.05974458e+00, -1.03671283e+00, -1.00560546e+00,\n",
       "       -1.04085340e+00, -1.02425766e+00, -1.00652098e+00, -9.87644488e-01,\n",
       "       -9.60186400e-01, -9.49304483e-01,  1.59571251e+00,  1.72462031e+00,\n",
       "        1.63699311e+00,  2.29418472e+00,  2.39237293e+00,  1.91740094e+00,\n",
       "        1.25203412e+00,  7.47027224e-01,  2.60289519e-01, -4.04909216e-01,\n",
       "       -6.05848793e-01, -6.36221750e-01, -6.11097726e-01, -5.71069410e-01,\n",
       "       -5.49099813e-01, -5.38849585e-01, -5.49967062e-01, -5.67327831e-01,\n",
       "       -5.37167798e-01, -5.36287141e-01, -6.03172823e-01, -7.41146176e-01,\n",
       "       -8.52737668e-01, -8.59342207e-01, -8.52798524e-01, -8.68016757e-01,\n",
       "       -8.66974623e-01, -8.73739352e-01, -8.95110321e-01, -9.13833036e-01,\n",
       "        1.34935118e-02,  9.89479271e-03,  4.39934287e-03, -1.21521224e-02,\n",
       "       -1.23019470e-01, -2.05168674e-01, -2.70111682e-01, -3.04524273e-01,\n",
       "       -3.58823015e-01, -3.73117224e-01, -3.73283532e-01, -3.78513884e-01,\n",
       "       -3.90067716e-01, -3.71393082e-01, -2.99243441e-01, -2.24768479e-01,\n",
       "       -1.61731152e-01, -1.74969907e-01, -2.38223028e-01, -2.58718982e-01,\n",
       "       -2.16875181e-01, -2.13703510e-01, -2.28853041e-01, -2.06138172e-01,\n",
       "       -1.64977664e-01, -1.83743739e-01, -1.91810238e-01, -1.93716502e-01,\n",
       "       -1.95142378e-01, -2.04910653e-01,  3.62961852e-01,  4.33299686e-01,\n",
       "        4.29352513e-01,  1.07094742e+00,  7.08922785e-01,  6.76238968e-01,\n",
       "        5.28640202e-01,  4.61149064e-01,  5.08234095e-01,  4.50172448e-01,\n",
       "        3.97698384e-01,  3.78203866e-01,  3.34276476e-01,  2.39338929e-01,\n",
       "        4.84883288e-01,  4.10973169e-01,  4.80497682e-01,  6.03980214e-01,\n",
       "        5.90574954e-01,  4.67143196e-01,  6.32462676e-01,  4.70096959e-01,\n",
       "        3.00411480e-01,  4.43972282e-01,  7.11491723e-01,  3.28883797e-01,\n",
       "        7.91887373e-01,  7.56754776e-01,  8.85073421e-01, -2.61558214e-01,\n",
       "        1.69363804e-02,  9.23321838e-04, -1.01935459e-01,  7.02788154e-02,\n",
       "        1.44814417e-01,  1.52227808e-01, -1.58614907e-02, -5.34318763e-03,\n",
       "       -6.68126911e-02, -9.28371200e-02, -1.13681053e-01, -1.30184413e-01,\n",
       "       -1.37515728e-01, -1.37824234e-01, -1.33610324e-01, -1.21894084e-01,\n",
       "       -1.29293068e-01, -9.56262661e-02, -1.41009888e-01, -1.35536625e-01,\n",
       "       -1.15411485e-01, -1.16670373e-02,  1.56179406e-02,  2.96422999e-02,\n",
       "        3.38041653e-02,  1.95794335e-01,  1.85458677e-01,  1.56012050e-01,\n",
       "        1.94457277e-01, -7.93633487e-01,  8.34981417e-01,  3.72299222e-01])"
      ]
     },
     "execution_count": 64,
     "metadata": {},
     "output_type": "execute_result"
    }
   ],
   "source": [
    "inps_t1_norm[:, 0, 0]"
   ]
  },
  {
   "cell_type": "code",
   "execution_count": 65,
   "metadata": {},
   "outputs": [],
   "source": [
    "w = m.get_weights()"
   ]
  },
  {
   "cell_type": "code",
   "execution_count": 68,
   "metadata": {},
   "outputs": [
    {
     "data": {
      "text/plain": [
       "(4, (152, 512))"
      ]
     },
     "execution_count": 68,
     "metadata": {},
     "output_type": "execute_result"
    }
   ],
   "source": [
    "len(w), w[0].shape"
   ]
  },
  {
   "cell_type": "code",
   "execution_count": 69,
   "metadata": {},
   "outputs": [
    {
     "data": {
      "text/plain": [
       "array([[ 0.08302586,  0.02850876,  0.07611392, ..., -0.04379965,\n",
       "         0.04357586,  0.09792221],\n",
       "       [ 0.03718822, -0.03001069,  0.05664457, ...,  0.05236302,\n",
       "        -0.00342062,  0.0172641 ],\n",
       "       [ 0.04920626,  0.03305241,  0.04127048, ..., -0.00547866,\n",
       "         0.03435544,  0.03742914],\n",
       "       ...,\n",
       "       [ 0.02212742,  0.00229083,  0.00602679, ...,  0.03932348,\n",
       "         0.04095541,  0.03244013],\n",
       "       [ 0.04493503,  0.01651884,  0.06989796, ...,  0.07412373,\n",
       "         0.06511395,  0.05881803],\n",
       "       [ 0.02896229,  0.00742906,  0.03047865, ...,  0.02422526,\n",
       "         0.04262394,  0.03720357]], dtype=float32)"
      ]
     },
     "execution_count": 69,
     "metadata": {},
     "output_type": "execute_result"
    }
   ],
   "source": [
    "w[0]"
   ]
  },
  {
   "cell_type": "code",
   "execution_count": 70,
   "metadata": {},
   "outputs": [
    {
     "data": {
      "text/plain": [
       "((512,), array([-1.1471430e+00, -5.5024886e-01, -1.1187141e+00, -1.0000501e+00,\n",
       "        -9.2298836e-01, -5.2432668e-01, -1.0362192e+00, -8.8687325e-01,\n",
       "        -6.7875791e-01, -4.8341510e-01, -5.8572590e-01, -4.2292014e-01,\n",
       "        -7.8629118e-01, -1.2535613e+00, -1.3290343e+00, -1.1482188e+00,\n",
       "        -1.0495677e+00, -1.0344750e+00, -6.9547325e-01, -1.0325340e+00,\n",
       "        -7.6395911e-01, -3.2090357e-01, -6.4444876e-01, -1.4616275e+00,\n",
       "        -6.2317288e-01, -1.6601218e+00, -1.5379955e+00, -1.4365224e+00,\n",
       "        -1.0982261e-01, -8.6402774e-01, -1.2945702e+00, -7.6952565e-01,\n",
       "        -1.4660624e+00, -7.2162646e-01, -9.0254538e-02, -5.6250501e-01,\n",
       "        -9.8670363e-01, -7.8801602e-01, -1.1954867e+00, -1.4470487e+00,\n",
       "        -8.4946030e-01, -7.9670990e-01, -1.1868185e+00, -2.6673400e-01,\n",
       "        -9.6592748e-01, -1.0565318e+00, -1.3555053e+00,  1.6901091e-01,\n",
       "        -1.4503740e+00, -8.1493509e-01, -8.6205804e-01, -4.3011779e-01,\n",
       "        -9.9840939e-01, -5.4980928e-01,  1.2573078e-01, -7.4315989e-01,\n",
       "        -1.1453084e+00, -1.3627459e+00, -3.5258132e-01, -7.2689253e-01,\n",
       "        -5.7917577e-01, -1.0475651e+00, -1.2159588e+00, -8.6675978e-01,\n",
       "        -8.7481844e-01, -1.0384914e+00, -2.6231614e-01, -1.3310810e+00,\n",
       "        -8.6144322e-01, -1.2455456e+00, -1.2434430e+00, -1.2910174e+00,\n",
       "        -1.0707865e+00, -9.3578899e-01, -1.1600592e+00, -1.6371937e-01,\n",
       "        -7.5660086e-01, -1.2552806e+00, -9.5696563e-01,  1.6388896e-01,\n",
       "        -5.0720984e-01, -7.8585482e-01, -8.5928440e-01, -8.3389050e-01,\n",
       "        -4.3479380e-01, -1.3806747e+00, -1.6142071e+00, -3.6710775e-01,\n",
       "         1.2988003e-01, -7.2305071e-01, -1.4514662e+00, -6.3062793e-01,\n",
       "        -8.0779207e-01, -1.5752293e+00, -1.1505444e+00, -1.5305763e+00,\n",
       "        -6.9165915e-01, -1.9225079e+00, -1.5634938e+00, -2.6836461e-01,\n",
       "        -1.5552845e+00, -7.4457157e-01, -1.1697906e+00, -1.1828390e+00,\n",
       "        -1.4577777e+00, -4.7362092e-01, -9.5717746e-01, -8.5583127e-01,\n",
       "        -8.0908132e-01, -1.2326528e+00, -5.0441748e-01, -8.6326921e-01,\n",
       "        -1.0189157e+00, -7.7448916e-01, -1.5895246e+00, -2.1056928e-01,\n",
       "        -9.6775866e-01, -8.0451792e-01, -1.3385201e+00, -1.0936775e+00,\n",
       "        -9.4108224e-01, -6.1323988e-01, -4.3293795e-01, -9.4954997e-01,\n",
       "        -1.9688648e-01, -1.1705220e+00, -1.7665144e+00, -7.6514669e-02,\n",
       "        -1.5900853e+00, -7.4961789e-02, -2.6335105e-01, -1.3699766e+00,\n",
       "        -1.1445885e+00, -8.2423919e-01, -9.7452927e-01, -6.3245589e-01,\n",
       "         3.1263503e-01, -3.9327061e-01, -1.5438245e-01, -1.0079793e-01,\n",
       "        -1.3190573e+00, -4.0591580e-01, -8.5032111e-01, -1.4721434e+00,\n",
       "        -8.1836367e-01, -1.5355028e+00, -7.5927728e-01, -1.0964403e+00,\n",
       "        -1.1070622e+00, -4.1020826e-01, -9.3018258e-01, -1.4367596e+00,\n",
       "        -1.1809126e+00, -4.0200534e-01, -3.6893296e-01, -8.4426832e-01,\n",
       "        -5.5161732e-01, -3.8512868e-01, -6.9762766e-01, -1.3783996e+00,\n",
       "        -8.6012220e-01, -8.2398874e-01, -6.8867719e-01, -4.5256841e-01,\n",
       "        -9.8151511e-01, -8.9078557e-01, -6.9995391e-01, -6.5599716e-01,\n",
       "        -5.6466722e-01, -5.5881661e-01, -1.3474771e+00, -9.6345460e-01,\n",
       "        -1.1728747e+00,  7.2036851e-03, -1.2862215e+00, -4.2046663e-01,\n",
       "        -1.0276556e+00, -7.3894322e-02, -1.6913599e+00, -4.3757620e-01,\n",
       "        -6.4094234e-01, -1.5058016e+00, -1.1947625e+00,  1.0419485e-01,\n",
       "        -1.2153336e+00, -1.5857966e+00, -9.1964644e-01, -5.1428145e-01,\n",
       "        -1.3192351e+00, -7.6478386e-01, -1.2198099e+00, -4.5266563e-01,\n",
       "        -9.9463207e-01, -1.3876896e+00, -9.9334854e-01, -1.0234571e+00,\n",
       "        -1.0020934e+00, -7.2921258e-01, -2.8835043e-01,  2.0475230e-01,\n",
       "        -8.6013210e-01, -1.0887053e+00, -8.6228997e-01, -5.9364700e-01,\n",
       "        -1.3706158e+00, -1.2305003e+00, -7.4376696e-01, -1.3585907e+00,\n",
       "        -1.7839421e+00, -1.5714084e+00, -8.5150361e-01, -9.8761290e-01,\n",
       "        -5.0760025e-01, -1.3316246e+00, -7.2770911e-01, -1.2269118e+00,\n",
       "        -1.1712695e+00, -9.6156210e-01, -1.4030524e+00, -7.5985610e-01,\n",
       "        -1.2732228e+00, -1.3242842e+00, -7.2867680e-01, -8.6695665e-01,\n",
       "        -6.4305663e-01, -1.0584389e+00, -6.1362678e-01, -9.8348689e-01,\n",
       "        -6.7589325e-01, -9.8159796e-01, -1.4345096e+00, -1.2867162e+00,\n",
       "        -1.0673450e+00, -9.4310510e-01, -8.3962005e-01, -7.4902695e-01,\n",
       "        -1.3186309e+00, -1.2785214e+00, -1.0030875e+00, -5.8026421e-01,\n",
       "        -9.4699800e-01, -3.1196363e-02, -1.0286305e+00, -1.1053493e+00,\n",
       "        -5.9197694e-01, -1.1772472e+00, -8.2509255e-01, -6.1833543e-01,\n",
       "        -1.1104612e+00, -1.1763380e+00, -1.6452368e+00, -9.5502800e-01,\n",
       "        -7.3317027e-01, -1.0976789e+00, -9.3936753e-01, -1.0705239e+00,\n",
       "        -1.0518212e+00, -1.1130307e+00, -1.0981046e+00, -5.4385489e-01,\n",
       "        -1.0978689e+00, -8.6737502e-01, -1.9899987e-01, -5.4824215e-01,\n",
       "        -6.3316798e-01, -1.6195384e+00, -1.6473478e+00, -6.8688399e-01,\n",
       "        -1.3886132e+00, -4.0595934e-01, -7.5268161e-01, -1.2099427e+00,\n",
       "        -1.5510960e+00, -1.4989514e+00, -1.2073559e-01, -1.4492910e+00,\n",
       "        -1.3581603e+00, -1.0184058e+00, -1.7581224e+00, -6.5181631e-01,\n",
       "        -1.2395217e+00, -1.0985901e+00, -1.9563133e-01, -8.8139731e-01,\n",
       "         3.0312672e-01, -6.6347492e-01, -1.0511832e+00, -1.2084688e+00,\n",
       "        -6.3685346e-01, -1.4761657e+00, -6.1909276e-01, -7.9508764e-01,\n",
       "        -3.2055321e-01, -9.5528370e-01, -1.0636618e+00, -1.3490243e+00,\n",
       "        -1.7527031e+00, -1.4627098e+00, -6.7063999e-01, -7.1746027e-01,\n",
       "        -7.0096880e-01, -1.5805087e+00, -7.5392985e-01, -9.7315514e-01,\n",
       "        -8.4213734e-01, -3.8909712e-01, -4.6124372e-01, -1.8050368e+00,\n",
       "        -8.4289664e-01, -1.5046121e+00, -1.3431768e+00, -1.1890812e+00,\n",
       "        -5.3898782e-01, -1.1053154e+00, -3.1974685e-01, -5.9358817e-01,\n",
       "        -7.2094494e-01, -5.2157164e-01, -1.1526026e+00, -6.4809090e-01,\n",
       "        -7.9019643e-02, -5.0339419e-01, -1.3965970e+00, -1.2367110e+00,\n",
       "        -1.0877644e+00, -1.4037887e+00, -8.0029166e-01, -7.2638649e-01,\n",
       "        -1.4784291e+00,  2.6576328e-03, -2.9933172e-01, -1.4057950e+00,\n",
       "        -3.5827971e-01, -4.5374176e-01, -7.8801793e-01, -1.2834539e-01,\n",
       "        -7.6710635e-01, -9.1781534e-02, -1.2806789e+00, -9.1949368e-01,\n",
       "        -9.7718579e-01, -4.0121588e-01, -1.1346439e+00, -3.3536959e-01,\n",
       "        -8.2709014e-01, -5.8969032e-02, -8.9731729e-01, -1.3586751e+00,\n",
       "        -5.7534391e-01, -2.9994416e-01, -7.5165093e-01, -1.5753223e+00,\n",
       "         2.2774972e-02, -1.1310861e+00, -3.2838294e-01, -1.8821157e+00,\n",
       "        -7.7036458e-01, -1.0905588e+00, -5.2793491e-01, -8.0104405e-01,\n",
       "        -4.6499479e-01, -1.1704408e+00, -1.0984153e+00, -8.0023080e-01,\n",
       "        -1.7416034e+00, -1.3924071e+00, -1.2021222e+00, -1.8533962e-03,\n",
       "        -8.4440219e-01, -3.7683022e-01, -5.6420875e-01, -4.3135843e-01,\n",
       "        -1.4955512e-01, -6.2227726e-01, -7.0038307e-01, -9.0652364e-01,\n",
       "        -5.1714516e-01, -3.0345374e-01, -1.1421021e+00, -9.1678888e-01,\n",
       "        -9.8435557e-01, -1.2950612e+00, -4.6964452e-01, -9.5898563e-01,\n",
       "        -4.9179235e-01, -1.1481409e+00, -8.5292917e-01, -1.1871481e+00,\n",
       "        -1.1619362e+00, -9.7984898e-01, -7.1638930e-01, -4.1192687e-01,\n",
       "        -7.4488658e-01, -1.1657189e+00, -7.5258720e-01, -8.3446199e-01,\n",
       "        -7.0578253e-01, -1.0782663e+00, -4.8817384e-01, -1.1475357e+00,\n",
       "        -1.1937678e+00, -4.2333001e-01, -8.0978692e-01, -1.4330167e+00,\n",
       "        -1.6368026e+00, -1.6846611e-01, -9.0079957e-01, -9.9581051e-01,\n",
       "        -1.9945000e-01, -1.5143118e+00, -2.9405960e-01, -1.0180724e+00,\n",
       "        -3.6300603e-01, -4.6371913e-01, -1.1857994e+00, -1.1475978e+00,\n",
       "        -7.3609781e-01, -4.4402590e-01, -1.5157968e+00, -1.0250266e+00,\n",
       "        -5.9913599e-01, -7.3164034e-01, -4.3806800e-01, -1.0225415e+00,\n",
       "        -8.9238733e-01, -5.4354954e-01, -1.3367985e+00, -1.4055266e+00,\n",
       "        -1.4457525e+00, -2.5772539e-01, -1.2809135e+00, -5.2033448e-01,\n",
       "        -7.2908735e-01,  7.6695368e-02, -1.2004333e+00, -1.1644795e+00,\n",
       "        -1.0829922e+00, -1.4038373e+00, -1.3979877e+00, -6.9240582e-01,\n",
       "        -1.0248252e+00, -9.8263294e-01, -1.0760845e+00, -1.0855275e+00,\n",
       "        -7.3725438e-01, -1.0628561e+00, -1.1566839e+00, -1.0442837e+00,\n",
       "        -1.3554976e+00, -6.3917518e-01, -1.6608756e+00, -8.1440270e-01,\n",
       "         1.0170447e-01, -9.4825166e-01, -7.2625005e-01, -1.0773516e+00,\n",
       "        -4.2854035e-01, -7.4164748e-01, -5.6832820e-01, -6.2863505e-01,\n",
       "        -1.1699564e+00, -8.6925000e-01, -1.0941893e+00,  7.5357288e-02,\n",
       "        -4.5869759e-01, -3.3653754e-01, -1.1294250e+00, -8.9422965e-01,\n",
       "        -1.5539992e+00, -6.1092931e-01, -1.4906008e+00, -9.2665368e-01,\n",
       "        -4.2501497e-01, -3.4202853e-01, -4.8465729e-01, -5.3959209e-01,\n",
       "        -1.0352758e+00, -1.3264269e+00, -6.3804024e-01, -1.4100622e+00,\n",
       "        -2.4412344e-01, -3.1819548e-02, -1.5144163e+00, -1.1188002e+00,\n",
       "        -9.5191491e-01, -8.9185530e-01, -1.6246074e+00, -1.2845389e+00,\n",
       "        -1.1088771e+00, -1.3982738e+00, -1.6382899e+00, -9.5123410e-01,\n",
       "        -1.2982527e+00, -1.5773053e+00, -1.4172498e+00, -1.1971498e+00,\n",
       "        -1.0565789e+00,  6.2416248e-02, -5.0062752e-01, -9.0192205e-01,\n",
       "        -1.7826186e+00, -1.1887996e+00, -1.2186209e+00, -9.9603915e-01,\n",
       "        -6.3462543e-01, -1.0764614e+00, -1.2813663e+00,  7.1232535e-02,\n",
       "        -9.7785157e-01, -1.2462674e+00, -1.0193164e+00, -1.0917089e+00],\n",
       "       dtype=float32))"
      ]
     },
     "execution_count": 70,
     "metadata": {},
     "output_type": "execute_result"
    }
   ],
   "source": [
    "w[1].shape, w[1]"
   ]
  },
  {
   "cell_type": "code",
   "execution_count": 71,
   "metadata": {},
   "outputs": [
    {
     "data": {
      "text/plain": [
       "((512, 120), array([[-1.1506757e-02, -1.5897522e-02,  1.0807238e-02, ...,\n",
       "          2.1866947e-02,  2.5861107e-03,  4.6310346e-03],\n",
       "        [ 1.3383994e-02,  4.4410606e-04, -8.8311435e-04, ...,\n",
       "          7.1648080e-03,  1.8228015e-02,  2.1151697e-02],\n",
       "        [ 6.1708386e-05,  1.8749708e-04,  2.4077271e-03, ...,\n",
       "          1.0813772e-03,  8.3399948e-04,  7.3118584e-04],\n",
       "        ...,\n",
       "        [ 2.7155271e-04,  2.0407289e-03, -3.4579621e-03, ...,\n",
       "          5.0071334e-03,  1.7461311e-02,  6.8856049e-03],\n",
       "        [-8.8188509e-03,  2.2276124e-02,  1.0655303e-02, ...,\n",
       "         -7.2789607e-03,  1.1731849e-02,  1.5030507e-03],\n",
       "        [ 1.8692252e-03, -5.9006731e-03,  3.7077924e-03, ...,\n",
       "         -2.1664819e-03,  6.5882009e-04, -6.3299120e-04]], dtype=float32))"
      ]
     },
     "execution_count": 71,
     "metadata": {},
     "output_type": "execute_result"
    }
   ],
   "source": [
    "w[2].shape, w[2]"
   ]
  },
  {
   "cell_type": "code",
   "execution_count": 72,
   "metadata": {},
   "outputs": [
    {
     "data": {
      "text/plain": [
       "((120,),\n",
       " array([ 9.23451537e-10, -4.88170926e-09, -1.08493701e-07,  2.23258908e-07,\n",
       "        -2.08853326e-08, -5.86246607e-08,  2.40281972e-09,  8.67182877e-08,\n",
       "        -3.42620638e-07, -3.45616650e-06, -6.49195408e-06,  8.29653982e-06,\n",
       "         3.01487980e-05,  4.42991259e-05,  7.26969392e-06,  1.52656810e-07,\n",
       "        -1.31305278e-04, -8.14954168e-04, -4.20534634e-04,  8.64264439e-04,\n",
       "         6.74984418e-04,  2.04197969e-03,  4.31651529e-03,  3.57585982e-03,\n",
       "        -1.10731693e-04, -1.89330280e-02, -2.37594154e-02, -1.56500768e-02,\n",
       "        -1.03248842e-02, -1.03796497e-01, -4.32131619e-09, -3.81306764e-09,\n",
       "        -1.08363293e-02,  7.68349553e-03, -1.07222158e-05, -2.02169449e-05,\n",
       "        -1.22003854e-04, -3.82372469e-04, -2.31949634e-05, -9.07969952e-05,\n",
       "        -1.78809569e-04,  1.67629387e-05,  3.06585949e-04,  3.00719985e-04,\n",
       "         1.72877462e-05, -1.54234818e-04, -1.02682250e-04,  9.36399229e-05,\n",
       "        -6.85678169e-05, -2.62314192e-04, -3.03050969e-04, -3.06119880e-04,\n",
       "         3.68842832e-03,  1.53854890e-02,  1.85369030e-02,  1.72178373e-02,\n",
       "         1.73718540e-03, -3.78107163e-03,  6.61873200e-04, -2.40651406e-02,\n",
       "        -4.19389643e-03, -4.19102516e-03, -4.44293162e-03, -5.54015860e-03,\n",
       "        -8.29031039e-03, -6.25676196e-03, -4.21347516e-03, -2.55136075e-03,\n",
       "        -2.54920730e-03, -2.78490968e-03, -6.01250818e-03, -1.42167024e-02,\n",
       "        -2.64438167e-02, -3.02730743e-02, -2.96984427e-02, -2.45343950e-02,\n",
       "        -1.81620251e-02, -7.16701616e-03,  3.59348208e-03,  5.57385385e-03,\n",
       "         2.47380254e-03, -4.41103522e-03, -1.41335027e-02, -2.20186580e-02,\n",
       "        -2.12772880e-02, -1.93249378e-02, -7.37419492e-03, -3.05384654e-03,\n",
       "        -3.81476991e-03, -8.23632907e-03,  2.89692692e-02,  2.82980576e-02,\n",
       "         2.34807879e-02,  1.58257354e-02,  9.81164444e-03,  5.96752623e-03,\n",
       "         3.46715678e-03,  2.40267208e-03,  1.82880380e-03,  1.44452078e-03,\n",
       "         1.21288851e-03,  1.18451111e-03,  1.31763739e-03,  1.62911310e-03,\n",
       "         2.00444181e-03,  2.17518164e-03,  2.13190820e-03,  2.30918895e-03,\n",
       "         2.40842882e-03,  2.54324917e-03,  2.61604041e-03,  2.66198535e-03,\n",
       "         2.21078540e-03,  2.04384280e-03,  1.56266952e-03,  1.07801543e-03,\n",
       "         8.15039210e-04,  7.64364318e-04,  7.94515945e-04,  8.95284233e-04],\n",
       "       dtype=float32))"
      ]
     },
     "execution_count": 72,
     "metadata": {},
     "output_type": "execute_result"
    }
   ],
   "source": [
    "w[3].shape, w[3]"
   ]
  },
  {
   "cell_type": "code",
   "execution_count": 74,
   "metadata": {},
   "outputs": [
    {
     "data": {
      "text/plain": [
       "(120, 64, 128)"
      ]
     },
     "execution_count": 74,
     "metadata": {},
     "output_type": "execute_result"
    }
   ],
   "source": [
    "cb_preds = get_cb_preds(1); cb_preds.shape"
   ]
  },
  {
   "cell_type": "code",
   "execution_count": 75,
   "metadata": {},
   "outputs": [
    {
     "data": {
      "text/plain": [
       "array([ 2.34397973e-10, -2.51775116e-08, -7.72114177e-08,  4.04922034e-08,\n",
       "        2.67947424e-08, -1.13796705e-08, -2.37550015e-08,  5.84010849e-08,\n",
       "       -2.89225355e-08, -1.56689083e-07, -3.06486754e-07,  4.40065264e-07,\n",
       "        3.56251712e-06,  1.77912043e-05,  1.60059008e-05, -7.66918020e-05,\n",
       "       -1.52114531e-04,  2.42216920e-04,  4.10808570e-04, -1.08690270e-04,\n",
       "       -3.21631931e-04, -5.94295212e-04,  2.09452258e-03,  3.33547071e-02,\n",
       "        1.33079449e-02,  1.31383315e-02,  4.47756611e-03, -7.41702691e-03,\n",
       "       -3.19707696e-03, -8.49699676e-02, -2.70473812e-08,  6.58293864e-09,\n",
       "       -1.53582133e-02,  1.06202839e-02,  8.75796104e-06, -2.93530338e-05,\n",
       "       -1.22541387e-04, -6.47998240e-05,  4.68603139e-05,  9.56933945e-07,\n",
       "        3.90997502e-06, -5.81222230e-06, -1.69980649e-06, -2.77110257e-06,\n",
       "       -1.94401619e-05, -3.55489065e-05, -4.87485113e-06,  2.58288837e-05,\n",
       "       -9.16494537e-05, -1.33476424e-04, -2.42010967e-04, -5.47044736e-04,\n",
       "       -1.41649216e-03, -1.32573806e-02,  3.80477197e-02, -9.40998027e-04,\n",
       "       -3.58276535e-03, -8.12750019e-04,  3.50578432e-03, -2.66191009e-02,\n",
       "       -5.81114329e-02, -3.71173359e-02, -7.28239026e-03, -3.08324043e-02,\n",
       "       -1.70210656e-02, -1.31503344e-02, -1.00663146e-02, -8.23610369e-03,\n",
       "       -6.71401015e-03, -5.16473968e-03, -4.11123177e-03, -4.04842617e-03,\n",
       "       -3.95321287e-03, -4.93872957e-03, -5.34468517e-03, -6.88577583e-03,\n",
       "       -9.90532245e-03, -1.45818200e-02, -1.67534277e-02, -1.66060552e-02,\n",
       "       -1.52464742e-02, -1.46980388e-02, -1.55111793e-02, -2.55818982e-02,\n",
       "       -8.51523802e-02, -2.46481076e-02, -1.08134653e-02, -1.04742795e-02,\n",
       "       -1.18125528e-02, -1.52230952e-02,  5.36033362e-02,  2.92848852e-02,\n",
       "        1.93474088e-02,  1.51472064e-02,  1.34189250e-02,  1.20573547e-02,\n",
       "        9.97926015e-03,  8.05283710e-03,  6.52462663e-03,  5.34804258e-03,\n",
       "        4.37458558e-03,  3.63918673e-03,  3.14594852e-03,  2.81015737e-03,\n",
       "        2.62859208e-03,  2.39321264e-03,  3.18175787e-03,  5.48713794e-03,\n",
       "        8.06788169e-03,  9.38341115e-03,  8.37910268e-03,  7.00074807e-03,\n",
       "        7.77045358e-03,  1.30333928e-02,  1.44384438e-02,  1.37427961e-02,\n",
       "        1.19000049e-02,  1.04666986e-02,  9.91437305e-03,  1.02448380e-02],\n",
       "      dtype=float32)"
      ]
     },
     "execution_count": 75,
     "metadata": {},
     "output_type": "execute_result"
    }
   ],
   "source": [
    "cb_preds[:, 0, 0]"
   ]
  },
  {
   "cell_type": "code",
   "execution_count": 94,
   "metadata": {},
   "outputs": [],
   "source": [
    "def get_keras_preds(inp):\n",
    "    return np.rollaxis(\n",
    "        m.predict(np.rollaxis(inp.reshape(152, -1), 0, 2)).reshape(64, 128, 120), 2, 0\n",
    "    )"
   ]
  },
  {
   "cell_type": "code",
   "execution_count": 95,
   "metadata": {},
   "outputs": [
    {
     "data": {
      "text/plain": [
       "(120, 64, 128)"
      ]
     },
     "execution_count": 95,
     "metadata": {},
     "output_type": "execute_result"
    }
   ],
   "source": [
    "k_preds = get_keras_preds(inps_t1_norm); k_preds.shape"
   ]
  },
  {
   "cell_type": "code",
   "execution_count": 96,
   "metadata": {},
   "outputs": [
    {
     "data": {
      "text/plain": [
       "array([ 2.34362640e-10, -2.51774868e-08, -7.72112259e-08,  4.04912868e-08,\n",
       "        2.67946998e-08, -1.13799850e-08, -2.37547528e-08,  5.84014650e-08,\n",
       "       -2.89222157e-08, -1.56691158e-07, -3.06491529e-07,  4.40031727e-07,\n",
       "        3.56246528e-06,  1.77912007e-05,  1.60056152e-05, -7.66920784e-05,\n",
       "       -1.52115259e-04,  2.42212787e-04,  4.10804292e-04, -1.08691456e-04,\n",
       "       -3.21631436e-04, -5.94302313e-04,  2.09450419e-03,  3.33548561e-02,\n",
       "        1.33080464e-02,  1.31382011e-02,  4.47729416e-03, -7.41717592e-03,\n",
       "       -3.19724996e-03, -8.49701911e-02, -2.71728844e-08,  6.61347732e-09,\n",
       "       -1.54295452e-02,  1.06696114e-02,  8.79852723e-06, -2.94897163e-05,\n",
       "       -1.23110891e-04, -6.51003793e-05,  4.70777049e-05,  9.61306796e-07,\n",
       "        3.92795482e-06, -5.83959809e-06, -1.70778367e-06, -2.78383959e-06,\n",
       "       -1.95297489e-05, -3.57138051e-05, -4.89707600e-06,  2.59508015e-05,\n",
       "       -9.20727107e-05, -1.34094676e-04, -2.43135844e-04, -5.49583579e-04,\n",
       "       -1.42301642e-03, -1.33191617e-02,  3.82249802e-02, -9.45212319e-04,\n",
       "       -3.59936990e-03, -8.16465588e-04,  3.52203031e-03, -2.67430842e-02,\n",
       "       -5.83810434e-02, -3.72895636e-02, -7.31618563e-03, -3.09754759e-02,\n",
       "       -1.71000399e-02, -1.32113555e-02, -1.01130297e-02, -8.27432331e-03,\n",
       "       -6.74516521e-03, -5.18870447e-03, -4.13030898e-03, -4.06721514e-03,\n",
       "       -3.97156179e-03, -4.96166386e-03, -5.36950119e-03, -6.91773929e-03,\n",
       "       -9.95127857e-03, -1.46494796e-02, -1.68311521e-02, -1.66831072e-02,\n",
       "       -1.53172361e-02, -1.47662619e-02, -1.55831855e-02, -2.57005263e-02,\n",
       "       -8.55484530e-02, -2.47625783e-02, -1.08635128e-02, -1.05227605e-02,\n",
       "       -1.18672587e-02, -1.52936392e-02,  5.38520403e-02,  2.94207372e-02,\n",
       "        1.94371678e-02,  1.52174802e-02,  1.34811960e-02,  1.21133160e-02,\n",
       "        1.00255739e-02,  8.09020828e-03,  6.55490812e-03,  5.37286373e-03,\n",
       "        4.39488888e-03,  3.65607673e-03,  3.16054327e-03,  2.82319589e-03,\n",
       "        2.64078216e-03,  2.40431214e-03,  3.19651607e-03,  5.51259052e-03,\n",
       "        8.10530875e-03,  9.42695234e-03,  8.41799937e-03,  7.03325914e-03,\n",
       "        7.80652370e-03,  1.30938720e-02,  1.45054469e-02,  1.38065675e-02,\n",
       "        1.19552193e-02,  1.05152531e-02,  9.96036176e-03,  1.02923606e-02],\n",
       "      dtype=float32)"
      ]
     },
     "execution_count": 96,
     "metadata": {},
     "output_type": "execute_result"
    }
   ],
   "source": [
    "k_preds[:, 0, 0]"
   ]
  },
  {
   "cell_type": "markdown",
   "metadata": {},
   "source": [
    "## Why are we crashing"
   ]
  },
  {
   "cell_type": "code",
   "execution_count": 97,
   "metadata": {},
   "outputs": [],
   "source": [
    "BDT = ds['BRAINDT'][:]; BDQ = ds['BRAINDQ'][:]"
   ]
  },
  {
   "cell_type": "code",
   "execution_count": 98,
   "metadata": {},
   "outputs": [
    {
     "data": {
      "text/plain": [
       "(4, 30, 64, 128)"
      ]
     },
     "execution_count": 98,
     "metadata": {},
     "output_type": "execute_result"
    }
   ],
   "source": [
    "BDT.shape"
   ]
  },
  {
   "cell_type": "code",
   "execution_count": 99,
   "metadata": {},
   "outputs": [
    {
     "data": {
      "text/plain": [
       "array([0.0000000e+00, 1.3481380e-03, 4.3773544e-03, 3.9281943e+00],\n",
       "      dtype=float32)"
      ]
     },
     "execution_count": 99,
     "metadata": {},
     "output_type": "execute_result"
    }
   ],
   "source": [
    "np.max(BDT, axis=(1, 2, 3))"
   ]
  },
  {
   "cell_type": "code",
   "execution_count": 101,
   "metadata": {},
   "outputs": [
    {
     "data": {
      "text/plain": [
       "<matplotlib.colorbar.Colorbar at 0x2b773ee78ac8>"
      ]
     },
     "execution_count": 101,
     "metadata": {},
     "output_type": "execute_result"
    },
    {
     "data": {
      "image/png": "[encoded data removed]",
      "text/plain": [
       "<matplotlib.figure.Figure at 0x2b773f318128>"
      ]
     },
     "metadata": {},
     "output_type": "display_data"
    }
   ],
   "source": [
    "plt.imshow(np.max(BDT[3], axis=(0)))\n",
    "plt.colorbar()"
   ]
  },
  {
   "cell_type": "code",
   "execution_count": 102,
   "metadata": {},
   "outputs": [
    {
     "data": {
      "text/plain": [
       "<matplotlib.image.AxesImage at 0x2b773f09def0>"
      ]
     },
     "execution_count": 102,
     "metadata": {},
     "output_type": "execute_result"
    },
    {
     "data": {
      "image/png": "[encoded data removed]",
      "text/plain": [
       "<matplotlib.figure.Figure at 0x2b773f233fd0>"
      ]
     },
     "metadata": {},
     "output_type": "display_data"
    }
   ],
   "source": [
    "plt.imshow(np.max(BDT[3], axis=-1))"
   ]
  },
  {
   "cell_type": "code",
   "execution_count": 103,
   "metadata": {},
   "outputs": [
    {
     "data": {
      "text/plain": [
       "<matplotlib.image.AxesImage at 0x2b773f2d9668>"
      ]
     },
     "execution_count": 103,
     "metadata": {},
     "output_type": "execute_result"
    },
    {
     "data": {
      "image/png": "[encoded data removed]",
      "text/plain": [
       "<matplotlib.figure.Figure at 0x2b773f036390>"
      ]
     },
     "metadata": {},
     "output_type": "display_data"
    }
   ],
   "source": [
    "plt.imshow(np.max(BDQ[3], axis=-1))"
   ]
  },
  {
   "cell_type": "code",
   "execution_count": 104,
   "metadata": {},
   "outputs": [
    {
     "data": {
      "text/plain": [
       "33"
      ]
     },
     "execution_count": 104,
     "metadata": {},
     "output_type": "execute_result"
    }
   ],
   "source": [
    "np.argmax(np.max(BDT[-1], axis=(0,2)))"
   ]
  },
  {
   "cell_type": "code",
   "execution_count": 105,
   "metadata": {},
   "outputs": [
    {
     "data": {
      "text/plain": [
       "1"
      ]
     },
     "execution_count": 105,
     "metadata": {},
     "output_type": "execute_result"
    }
   ],
   "source": [
    "np.argmax(np.max(BDT[-1], axis=(0,1)))"
   ]
  },
  {
   "cell_type": "code",
   "execution_count": 106,
   "metadata": {},
   "outputs": [
    {
     "data": {
      "text/plain": [
       "[<matplotlib.lines.Line2D at 0x2b773f07e128>]"
      ]
     },
     "execution_count": 106,
     "metadata": {},
     "output_type": "execute_result"
    },
    {
     "data": {
      "image/png": "[encoded data removed]",
      "text/plain": [
       "<matplotlib.figure.Figure at 0x2b773f2f7b00>"
      ]
     },
     "metadata": {},
     "output_type": "display_data"
    }
   ],
   "source": [
    "plt.plot(BDT[-1, :, 33, 1])"
   ]
  },
  {
   "cell_type": "code",
   "execution_count": 107,
   "metadata": {},
   "outputs": [
    {
     "data": {
      "text/plain": [
       "[<matplotlib.lines.Line2D at 0x2b773ed66080>]"
      ]
     },
     "execution_count": 107,
     "metadata": {},
     "output_type": "execute_result"
    },
    {
     "data": {
      "image/png": "[encoded data removed]",
      "text/plain": [
       "<matplotlib.figure.Figure at 0x2b773effa550>"
      ]
     },
     "metadata": {},
     "output_type": "display_data"
    }
   ],
   "source": [
    "plt.plot(BDQ[-1, :, 33, 1])"
   ]
  },
  {
   "cell_type": "code",
   "execution_count": 109,
   "metadata": {},
   "outputs": [
    {
     "data": {
      "text/plain": [
       "(152, 64, 128)"
      ]
     },
     "execution_count": 109,
     "metadata": {},
     "output_type": "execute_result"
    }
   ],
   "source": [
    "inps_t3_norm = get_cb_inps(3); inps_t3_norm.shape"
   ]
  },
  {
   "cell_type": "code",
   "execution_count": 110,
   "metadata": {},
   "outputs": [
    {
     "data": {
      "text/plain": [
       "[<matplotlib.lines.Line2D at 0x2b773fb82b70>]"
      ]
     },
     "execution_count": 110,
     "metadata": {},
     "output_type": "execute_result"
    },
    {
     "data": {
      "image/png": "[encoded data removed]",
      "text/plain": [
       "<matplotlib.figure.Figure at 0x2b773ee479b0>"
      ]
     },
     "metadata": {},
     "output_type": "display_data"
    }
   ],
   "source": [
    "plt.plot(inps_t3_norm[:, 33, 1])"
   ]
  },
  {
   "cell_type": "code",
   "execution_count": 119,
   "metadata": {},
   "outputs": [
    {
     "data": {
      "text/plain": [
       "[<matplotlib.lines.Line2D at 0x2b773f532ac8>]"
      ]
     },
     "execution_count": 119,
     "metadata": {},
     "output_type": "execute_result"
    },
    {
     "data": {
      "image/png": "[encoded data removed]",
      "text/plain": [
       "<matplotlib.figure.Figure at 0x2b773f480630>"
      ]
     },
     "metadata": {},
     "output_type": "display_data"
    }
   ],
   "source": [
    "plt.plot(inps_t3_norm[30:60, 33, 1])"
   ]
  },
  {
   "cell_type": "code",
   "execution_count": 111,
   "metadata": {},
   "outputs": [
    {
     "data": {
      "text/plain": [
       "['TC', 'QC', 'VC', 'dTdt_adiab', 'dQdt_adiab', 'PS', 'SOLIN']"
      ]
     },
     "execution_count": 111,
     "metadata": {},
     "output_type": "execute_result"
    }
   ],
   "source": [
    "inps"
   ]
  },
  {
   "cell_type": "code",
   "execution_count": 112,
   "metadata": {},
   "outputs": [],
   "source": [
    "inps_t3_raw = get_cb_inps(3, False)"
   ]
  },
  {
   "cell_type": "code",
   "execution_count": 118,
   "metadata": {},
   "outputs": [
    {
     "data": {
      "text/plain": [
       "[<matplotlib.lines.Line2D at 0x2b773f8b0208>]"
      ]
     },
     "execution_count": 118,
     "metadata": {},
     "output_type": "execute_result"
    },
    {
     "data": {
      "image/png": "[encoded data removed]",
      "text/plain": [
       "<matplotlib.figure.Figure at 0x2b773fb27d68>"
      ]
     },
     "metadata": {},
     "output_type": "display_data"
    }
   ],
   "source": [
    "plt.plot(inps_t3_raw[30:60, 33, 1])"
   ]
  },
  {
   "cell_type": "code",
   "execution_count": 121,
   "metadata": {},
   "outputs": [
    {
     "data": {
      "text/plain": [
       "[<matplotlib.lines.Line2D at 0x2b773f5eb358>]"
      ]
     },
     "execution_count": 121,
     "metadata": {},
     "output_type": "execute_result"
    },
    {
     "data": {
      "image/png": "[encoded data removed]",
      "text/plain": [
       "<matplotlib.figure.Figure at 0x2b773f61b470>"
      ]
     },
     "metadata": {},
     "output_type": "display_data"
    }
   ],
   "source": [
    "plt.plot(ds['BRAINDQ'][2, :, 33, 1])"
   ]
  },
  {
   "cell_type": "code",
   "execution_count": 125,
   "metadata": {},
   "outputs": [
    {
     "data": {
      "text/plain": [
       "[<matplotlib.lines.Line2D at 0x2b773fe88198>]"
      ]
     },
     "execution_count": 125,
     "metadata": {},
     "output_type": "execute_result"
    },
    {
     "data": {
      "image/png": "[encoded data removed]",
      "text/plain": [
       "<matplotlib.figure.Figure at 0x2b773ffb37b8>"
      ]
     },
     "metadata": {},
     "output_type": "display_data"
    }
   ],
   "source": [
    "plt.plot(std[30:40])"
   ]
  },
  {
   "cell_type": "code",
   "execution_count": null,
   "metadata": {},
   "outputs": [],
   "source": []
  },
  {
   "cell_type": "markdown",
   "metadata": {},
   "source": [
    "## Check if variables are same..."
   ]
  },
  {
   "cell_type": "code",
   "execution_count": 70,
   "metadata": {},
   "outputs": [
    {
     "data": {
      "text/plain": [
       "(30, 64, 128)"
      ]
     },
     "execution_count": 70,
     "metadata": {},
     "output_type": "execute_result"
    }
   ],
   "source": [
    "TC.shape"
   ]
  },
  {
   "cell_type": "code",
   "execution_count": 71,
   "metadata": {},
   "outputs": [
    {
     "data": {
      "text/plain": [
       "[<matplotlib.lines.Line2D at 0x2afd5b5a7a90>]"
      ]
     },
     "execution_count": 71,
     "metadata": {},
     "output_type": "execute_result"
    },
    {
     "data": {
      "image/png": "[encoded data removed]",
      "text/plain": [
       "<matplotlib.figure.Figure at 0x2afd5b520d68>"
      ]
     },
     "metadata": {},
     "output_type": "display_data"
    }
   ],
   "source": [
    "plt.plot(TC[:, 0, 0])"
   ]
  },
  {
   "cell_type": "code",
   "execution_count": 89,
   "metadata": {},
   "outputs": [
    {
     "data": {
      "text/plain": [
       "True"
      ]
     },
     "execution_count": 89,
     "metadata": {},
     "output_type": "execute_result"
    }
   ],
   "source": [
    "np.allclose(TC, ds['NNTC'][t])"
   ]
  },
  {
   "cell_type": "code",
   "execution_count": 90,
   "metadata": {},
   "outputs": [
    {
     "data": {
      "text/plain": [
       "True"
      ]
     },
     "execution_count": 90,
     "metadata": {},
     "output_type": "execute_result"
    }
   ],
   "source": [
    "np.allclose(QC, ds['NNQC'][t])"
   ]
  },
  {
   "cell_type": "code",
   "execution_count": 91,
   "metadata": {},
   "outputs": [
    {
     "data": {
      "text/plain": [
       "True"
      ]
     },
     "execution_count": 91,
     "metadata": {},
     "output_type": "execute_result"
    }
   ],
   "source": [
    "np.allclose(VC, ds['NNVC'][t])"
   ]
  },
  {
   "cell_type": "code",
   "execution_count": 283,
   "metadata": {},
   "outputs": [
    {
     "data": {
      "text/plain": [
       "False"
      ]
     },
     "execution_count": 283,
     "metadata": {},
     "output_type": "execute_result"
    }
   ],
   "source": [
    "np.allclose(dTdt_adiab, ds['dTdtadia'][t])"
   ]
  },
  {
   "cell_type": "code",
   "execution_count": 285,
   "metadata": {},
   "outputs": [
    {
     "data": {
      "text/plain": [
       "[<matplotlib.lines.Line2D at 0x2afd7e9afe80>]"
      ]
     },
     "execution_count": 285,
     "metadata": {},
     "output_type": "execute_result"
    },
    {
     "data": {
      "image/png": "[encoded data removed]",
      "text/plain": [
       "<matplotlib.figure.Figure at 0x2afd7f228a90>"
      ]
     },
     "metadata": {},
     "output_type": "display_data"
    }
   ],
   "source": [
    "plt.plot(dTdt_adiab[:, 33, 0])"
   ]
  },
  {
   "cell_type": "code",
   "execution_count": 286,
   "metadata": {},
   "outputs": [
    {
     "data": {
      "text/plain": [
       "[<matplotlib.lines.Line2D at 0x2afd7e2f5e80>]"
      ]
     },
     "execution_count": 286,
     "metadata": {},
     "output_type": "execute_result"
    },
    {
     "data": {
      "image/png": "[encoded data removed]",
      "text/plain": [
       "<matplotlib.figure.Figure at 0x2afd7e9ba748>"
      ]
     },
     "metadata": {},
     "output_type": "display_data"
    }
   ],
   "source": [
    "plt.plot(ds['dTdtadia'][t, :, 33, 0])"
   ]
  },
  {
   "cell_type": "code",
   "execution_count": 254,
   "metadata": {},
   "outputs": [
    {
     "data": {
      "text/plain": [
       "[<matplotlib.lines.Line2D at 0x2afd7ec032e8>]"
      ]
     },
     "execution_count": 254,
     "metadata": {},
     "output_type": "execute_result"
    },
    {
     "data": {
      "image/png": "[encoded data removed]",
      "text/plain": [
       "<matplotlib.figure.Figure at 0x2afd7eb884a8>"
      ]
     },
     "metadata": {},
     "output_type": "display_data"
    }
   ],
   "source": [
    "plt.plot(dTdt_adiab[:, 0, 0]-ds['dTdtadia'][t, :, 0, 0])"
   ]
  },
  {
   "cell_type": "code",
   "execution_count": 97,
   "metadata": {},
   "outputs": [],
   "source": [
    "diff = (dTdt_adiab-ds['dTdtadia'][t])"
   ]
  },
  {
   "cell_type": "code",
   "execution_count": 102,
   "metadata": {},
   "outputs": [
    {
     "data": {
      "text/plain": [
       "(-3.1024683e-08, 3.2319804e-08, 5.7916106e-05)"
      ]
     },
     "execution_count": 102,
     "metadata": {},
     "output_type": "execute_result"
    }
   ],
   "source": [
    "diff.min(), diff.max(), dTdt_adiab.std()"
   ]
  },
  {
   "cell_type": "code",
   "execution_count": 288,
   "metadata": {},
   "outputs": [
    {
     "data": {
      "text/plain": [
       "False"
      ]
     },
     "execution_count": 288,
     "metadata": {},
     "output_type": "execute_result"
    }
   ],
   "source": [
    "np.allclose(dQdt_adiab, ds['dQdtadia'][t])"
   ]
  },
  {
   "cell_type": "code",
   "execution_count": 290,
   "metadata": {},
   "outputs": [
    {
     "data": {
      "text/plain": [
       "[<matplotlib.lines.Line2D at 0x2afd7f3916d8>]"
      ]
     },
     "execution_count": 290,
     "metadata": {},
     "output_type": "execute_result"
    },
    {
     "data": {
      "image/png": "[encoded data removed]",
      "text/plain": [
       "<matplotlib.figure.Figure at 0x2afd7f326588>"
      ]
     },
     "metadata": {},
     "output_type": "display_data"
    }
   ],
   "source": [
    "plt.plot(ds['dQdtadia'][t, :, 33, 0])"
   ]
  },
  {
   "cell_type": "code",
   "execution_count": 105,
   "metadata": {},
   "outputs": [
    {
     "data": {
      "text/plain": [
       "False"
      ]
     },
     "execution_count": 105,
     "metadata": {},
     "output_type": "execute_result"
    }
   ],
   "source": [
    "np.allclose(SOLIN, ds['NNSOLIN'][t])"
   ]
  },
  {
   "cell_type": "code",
   "execution_count": 108,
   "metadata": {},
   "outputs": [
    {
     "data": {
      "text/plain": [
       "(1, 64, 128)"
      ]
     },
     "execution_count": 108,
     "metadata": {},
     "output_type": "execute_result"
    }
   ],
   "source": [
    "SOLIN.shape"
   ]
  },
  {
   "cell_type": "code",
   "execution_count": 128,
   "metadata": {},
   "outputs": [
    {
     "data": {
      "text/plain": [
       "[<matplotlib.lines.Line2D at 0x2afd5bd5fda0>]"
      ]
     },
     "execution_count": 128,
     "metadata": {},
     "output_type": "execute_result"
    },
    {
     "data": {
      "image/png": "[encoded data removed]",
      "text/plain": [
       "<matplotlib.figure.Figure at 0x2afd5bce87f0>"
      ]
     },
     "metadata": {},
     "output_type": "display_data"
    }
   ],
   "source": [
    "plt.plot(SOLIN[0, 30, :])"
   ]
  },
  {
   "cell_type": "code",
   "execution_count": 130,
   "metadata": {},
   "outputs": [
    {
     "data": {
      "text/plain": [
       "(0.0, 0.0)"
      ]
     },
     "execution_count": 130,
     "metadata": {},
     "output_type": "execute_result"
    }
   ],
   "source": [
    "SOLIN.mean(), ds['SOLIN'][:].mean()"
   ]
  },
  {
   "cell_type": "code",
   "execution_count": 112,
   "metadata": {},
   "outputs": [
    {
     "data": {
      "text/plain": [
       "326.2541"
      ]
     },
     "execution_count": 112,
     "metadata": {},
     "output_type": "execute_result"
    }
   ],
   "source": [
    "ds['NNSOLIN'][t].mean()"
   ]
  },
  {
   "cell_type": "code",
   "execution_count": 114,
   "metadata": {},
   "outputs": [
    {
     "data": {
      "text/plain": [
       "[<matplotlib.lines.Line2D at 0x2afd5bd029e8>]"
      ]
     },
     "execution_count": 114,
     "metadata": {},
     "output_type": "execute_result"
    },
    {
     "data": {
      "image/png": "[encoded data removed]",
      "text/plain": [
       "<matplotlib.figure.Figure at 0x2afd5ba3e828>"
      ]
     },
     "metadata": {},
     "output_type": "display_data"
    }
   ],
   "source": [
    "plt.plot(ds['NNSOLIN'][t, 30, :])"
   ]
  },
  {
   "cell_type": "code",
   "execution_count": 107,
   "metadata": {},
   "outputs": [
    {
     "data": {
      "text/plain": [
       "False"
      ]
     },
     "execution_count": 107,
     "metadata": {},
     "output_type": "execute_result"
    }
   ],
   "source": [
    "np.allclose(PS, ds['NNPS'][t])"
   ]
  },
  {
   "cell_type": "code",
   "execution_count": 131,
   "metadata": {},
   "outputs": [
    {
     "data": {
      "text/plain": [
       "[<matplotlib.lines.Line2D at 0x2afd7cdec940>]"
      ]
     },
     "execution_count": 131,
     "metadata": {},
     "output_type": "execute_result"
    },
    {
     "data": {
      "image/png": "[encoded data removed]",
      "text/plain": [
       "<matplotlib.figure.Figure at 0x2afd5bce8c88>"
      ]
     },
     "metadata": {},
     "output_type": "display_data"
    }
   ],
   "source": [
    "plt.plot(PS[0, 30, :])"
   ]
  },
  {
   "cell_type": "code",
   "execution_count": 133,
   "metadata": {},
   "outputs": [
    {
     "data": {
      "text/plain": [
       "[<matplotlib.lines.Line2D at 0x2afd7ce9dfd0>]"
      ]
     },
     "execution_count": 133,
     "metadata": {},
     "output_type": "execute_result"
    },
    {
     "data": {
      "image/png": "[encoded data removed]",
      "text/plain": [
       "<matplotlib.figure.Figure at 0x2afd7ce305f8>"
      ]
     },
     "metadata": {},
     "output_type": "display_data"
    }
   ],
   "source": [
    "plt.plot(ds['NNPS'][t, 30, :])"
   ]
  },
  {
   "cell_type": "code",
   "execution_count": 136,
   "metadata": {},
   "outputs": [],
   "source": [
    "diff = PS[0] - ds['NNPS'][t-1]"
   ]
  },
  {
   "cell_type": "code",
   "execution_count": 137,
   "metadata": {},
   "outputs": [
    {
     "data": {
      "text/plain": [
       "(0.0, 0.0, 0.0, 1851.0485)"
      ]
     },
     "execution_count": 137,
     "metadata": {},
     "output_type": "execute_result"
    }
   ],
   "source": [
    "diff.mean(), diff.min(), diff.max(), PS[0].std()"
   ]
  },
  {
   "cell_type": "code",
   "execution_count": 138,
   "metadata": {},
   "outputs": [
    {
     "data": {
      "text/plain": [
       "True"
      ]
     },
     "execution_count": 138,
     "metadata": {},
     "output_type": "execute_result"
    }
   ],
   "source": [
    "np.allclose(ds['PS'][:], ds['NNPS'][:])"
   ]
  },
  {
   "cell_type": "code",
   "execution_count": null,
   "metadata": {},
   "outputs": [],
   "source": []
  }
 ],
 "metadata": {
  "kernelspec": {
   "display_name": "Python 3",
   "language": "python",
   "name": "python3"
  },
  "language_info": {
   "codemirror_mode": {
    "name": "ipython",
    "version": 3
   },
   "file_extension": ".py",
   "mimetype": "text/x-python",
   "name": "python",
   "nbconvert_exporter": "python",
   "pygments_lexer": "ipython3",
   "version": "3.6.4"
  }
 },
 "nbformat": 4,
 "nbformat_minor": 2
}
