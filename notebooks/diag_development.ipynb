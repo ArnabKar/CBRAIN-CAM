{
 "cells": [
  {
   "cell_type": "code",
   "execution_count": 15,
   "metadata": {},
   "outputs": [
    {
     "name": "stdout",
     "output_type": "stream",
     "text": [
      "The autoreload extension is already loaded. To reload it, use:\n",
      "  %reload_ext autoreload\n"
     ]
    }
   ],
   "source": [
    "%load_ext autoreload\n",
    "%autoreload 2\n",
    "%matplotlib inline"
   ]
  },
  {
   "cell_type": "code",
   "execution_count": 32,
   "metadata": {},
   "outputs": [],
   "source": [
    "from imports import *"
   ]
  },
  {
   "cell_type": "code",
   "execution_count": 3,
   "metadata": {
    "collapsed": true
   },
   "outputs": [],
   "source": [
    "model_dir = '/export/home/srasp/TF_models/'\n",
    "model_fn = 'saved_keras_model_0220a.h5'\n",
    "mean_fn = 'mean_nolat_0213.nc'\n",
    "std_fn = 'std_nolat_0213.nc'"
   ]
  },
  {
   "cell_type": "code",
   "execution_count": 4,
   "metadata": {
    "collapsed": true
   },
   "outputs": [],
   "source": [
    "model_path = model_dir + model_fn\n",
    "mean_path = model_dir + mean_fn\n",
    "std_path = model_dir + std_fn"
   ]
  },
  {
   "cell_type": "code",
   "execution_count": 5,
   "metadata": {
    "collapsed": true
   },
   "outputs": [],
   "source": [
    "inps = ['TBP','QBP','PS','SHFLX','LHFLX','dTdt_adiabatic','dQdt_adiabatic']\n",
    "outps = ['TPHYSTND_NORAD','PHQ']"
   ]
  },
  {
   "cell_type": "code",
   "execution_count": 20,
   "metadata": {
    "collapsed": true
   },
   "outputs": [],
   "source": [
    "data_dir = '/beegfs/DATA/pritchard/srasp/Aquaplanet_enhance05_old_matlab/'\n",
    "aqua_fn = 'AndKua_aqua_SPCAM3.0_enhance05.cam2.h1.0000-01-05-00000.nc'\n",
    "aqua_pattern = data_dir + 'AndKua_aqua_SPCAM3.0_enhance05.cam2.h1.0000-*-0[1-5]-00000.nc'"
   ]
  },
  {
   "cell_type": "code",
   "execution_count": 21,
   "metadata": {
    "collapsed": true
   },
   "outputs": [],
   "source": [
    "class ModelDiagnostics(object):\n",
    "    \"\"\"\n",
    "    Model diagnostics class.\n",
    "    \"\"\"\n",
    "    def __init__(self, model_path, feature_vars, target_vars,\n",
    "                 mean_path, std_path, valid_file_pattern, \n",
    "                 nlat=64, nlon=128, nlev=30):\n",
    "        \"\"\"\n",
    "        TF version\n",
    "        \"\"\"\n",
    "        self.model_path = model_path\n",
    "        self.model = keras.models.load_model(model_path, custom_objects={\"tf\": tf})\n",
    "        self.mean = nc.Dataset(mean_path, 'r')\n",
    "        self.std = nc.Dataset(std_path, 'r')\n",
    "        self.nlat = nlat; self.nlon = nlon; self.nlev = nlev\n",
    "        self.ntime = 48\n",
    "        self.ngeo = nlat * nlon\n",
    "        self.feature_vars, self.target_vars = (feature_vars, target_vars)\n",
    "        self.valid_files = sorted(glob(valid_file_pattern))\n",
    "\n",
    "    def get_tp(self, var, idate, itime):\n",
    "        \"\"\"Return denormalized predictions and targets for one variable\n",
    "        [lat, lon, lev]\n",
    "        \"\"\"\n",
    "        # Get feature array\n",
    "        f, t = self._get_ft(idate, itime)\n",
    "        p = self._get_pred(f)\n",
    "        var_idx = self.target_vars.index(var)\n",
    "        t, p = (self.unravel(t), self.unravel(p))\n",
    "        return self._denorm(t, 't')[:, :, var_idx], self._denorm(p, 't')[:, :, var_idx]\n",
    "            \n",
    "    def _get_f_or_t(self, idate, itime, f_or_t):\n",
    "        with nc.Dataset(self.valid_files[idate], 'r') as ds:\n",
    "            arr = []\n",
    "            vars = self.feature_vars if f_or_t == 'f' else self.target_vars\n",
    "            for var in vars:\n",
    "                da = (ds[var][:] - self.mean[var][:]) / self.std[var][:]\n",
    "                if da.ndim == 4:   # 3D variables [time, lev, lat, lon] --> [sample, lev]\n",
    "                    a = np.rollaxis(da, 1, 4).reshape(-1, self.nlev)\n",
    "                elif da.ndim == 3:   # 2D variables [time, lat, lon]\n",
    "                    a = np.rollaxis(np.tile(da[itime].reshape(-1), (self.nlev, 1)), 0, 2)\n",
    "                elif da.ndim == 1:   # lat\n",
    "                    a = np.rollaxis(np.tile(da, (self.ntime, self.nlev, self.nlon, 1)), \n",
    "                                    1, 4).reshape(-1, 30)\n",
    "                else:\n",
    "                    raise Exception('Incompatible number of dimensions')\n",
    "                arr.append(a)\n",
    "            arr = np.expand_dims(np.rollaxis(np.array(arr), 0, 2), 3) # [sample, feature, lev, 1]\n",
    "        arr =  arr[:, :, -self.nlev:][:, ::-1]\n",
    "        if itime is not None: arr = arr[itime*self.ngeo:(itime+1)*self.ngeo]\n",
    "        return arr\n",
    "    \n",
    "    def _get_ft(self, idate, itime):\n",
    "        return self._get_f_or_t(idate, itime, 'f'), self._get_f_or_t(idate, itime, 't')\n",
    "    \n",
    "    def _get_pred(self, f):\n",
    "        return self.model.predict(f, batch_size=1024)\n",
    "    \n",
    "    def _denorm(self, x, f_or_t):\n",
    "        for i, var in enumerate(self.feature_vars if f_or_t == 'f' else self.target_vars):\n",
    "            m, s = [np.rollaxis(ds[var][-self.nlev:][::-1], 0, 3) \n",
    "                    for ds in [self.mean, self.std]]\n",
    "            x[:, :, i, :] = x[:, :, i, :] * s + m\n",
    "        return x\n",
    "    \n",
    "    def unravel(self, x):\n",
    "        return x.reshape(self.nlat, self.nlon, -1, self.nlev)\n",
    "    \n",
    "    def compute_stats(self, niter=None):\n",
    "        \"\"\"\n",
    "        Compute statistics over entire dataset [lat, lon, lev].\n",
    "        bias = mean(preds) - mean(true)\n",
    "        mse = sse(preds, true) / n_samples\n",
    "        rel_mse = mse / std(true)\n",
    "        std_error = std(preds) - std(true)\n",
    "        \"\"\"\n",
    "        psum = np.zeros((self.ngeo, len(self.target_vars)*self.nlev))\n",
    "        tsum = np.copy(psum); sse = np.copy(psum)\n",
    "        psqsum = np.copy(psum); tsqsum = np.copy(psum)\n",
    "        ndates = len(self.valid_files) if niter is None else niter\n",
    "        n = ndates * self.ntime\n",
    "        for idate in tqdm(range(ndates)):\n",
    "            f_date, t_date = self._get_ft(idate, None)   # Full file\n",
    "            for itime in range(self.ntime):\n",
    "                f = f_date[itime*self.ngeo:(itime+1)*self.ngeo]\n",
    "                t = t_date[itime*self.ngeo:(itime+1)*self.ngeo]\n",
    "                # Get predictions\n",
    "                p = self.model.predict_on_batch(f)  # [ngeo samples, z]\n",
    "                # Unscale outputs at this level\n",
    "                t, p = (self.unravel(t), self.unravel(p))\n",
    "                t = self._denorm(t, 't')\n",
    "                p = self._denorm(p, 't')\n",
    "                t, p = [a.reshape(-1, len(self.target_vars)*self.nlev) for a in [t, p]]\n",
    "                # Compute statistics\n",
    "                psum += p; tsum += t\n",
    "                psqsum += p ** 2; tsqsum += t ** 2\n",
    "                sse += (t - p) ** 2\n",
    "\n",
    "\n",
    "        # Compute average statistics\n",
    "        self.stats_dict = {}\n",
    "        pmean = psum / n; tmean = tsum / n\n",
    "        self.bias = pmean - tmean; self.stats_dict['bias'] = self.bias\n",
    "        self.mse = sse / n; self.stats_dict['mse'] = self.mse\n",
    "        self.pred_var = (psqsum / n - pmean ** 2) * n / (n - 1)  # Sample variance\n",
    "        self.stats_dict['pred_var'] = self.pred_var\n",
    "        self.true_var = (tsqsum / n - tmean ** 2) * n / (n - 1)\n",
    "        self.stats_dict['true_var'] = self.true_var\n",
    "    \n",
    "    def mean_stats(self, cutoff_level=9):\n",
    "        expl_var_str = f'expl_var_cut{cutoff_level}'\n",
    "        df = pd.DataFrame(\n",
    "            index=self.target_vars + ['all'],\n",
    "            columns=list(self.stats_dict.keys()) + [expl_var_str])\n",
    "        # Compute statistics for each variable\n",
    "        for var in self.target_vars + ['all']:\n",
    "            sl = slice(0, None) if var == 'all' else \\\n",
    "                slice(self.target_vars.index(var), self.target_vars.index(var)+1, 1)\n",
    "            for stat_name, stat in self.stats_dict.items():\n",
    "                re_stat = self.unravel(stat)[:, :, sl]\n",
    "                df.loc[var, stat_name] = np.mean(re_stat)\n",
    "\n",
    "            df.loc[var, expl_var_str] = np.mean((1. - (\n",
    "                 np.mean(self.unravel(self.mse)[:, :, sl], axis=(0, 1)) / \n",
    "                 np.mean(self.unravel(self.true_var)[:, :, sl], axis=(0, 1))\n",
    "            ).reshape(-1, self.nlev))[:, :cutoff_level])\n",
    "        return df"
   ]
  },
  {
   "cell_type": "code",
   "execution_count": 22,
   "metadata": {},
   "outputs": [
    {
     "name": "stderr",
     "output_type": "stream",
     "text": [
      "/export/home/srasp/anaconda3/lib/python3.6/site-packages/keras/models.py:255: UserWarning: No training configuration found in save file: the model was *not* compiled. Compile it manually.\n",
      "  warnings.warn('No training configuration found in save file: '\n"
     ]
    }
   ],
   "source": [
    "diag = ModelDiagnostics(model_path, inps, outps, mean_path, std_path, aqua_pattern)"
   ]
  },
  {
   "cell_type": "code",
   "execution_count": 23,
   "metadata": {},
   "outputs": [
    {
     "name": "stderr",
     "output_type": "stream",
     "text": [
      "\n",
      "  0%|          | 0/15 [00:00<?, ?it/s]\u001b[A\n",
      "Exception in thread Thread-4:\n",
      "Traceback (most recent call last):\n",
      "  File \"/export/home/srasp/anaconda3/lib/python3.6/threading.py\", line 916, in _bootstrap_inner\n",
      "    self.run()\n",
      "  File \"/export/home/srasp/anaconda3/lib/python3.6/site-packages/tqdm/_tqdm.py\", line 144, in run\n",
      "    for instance in self.tqdm_cls._instances:\n",
      "  File \"/export/home/srasp/anaconda3/lib/python3.6/_weakrefset.py\", line 60, in __iter__\n",
      "    for itemref in self.data:\n",
      "RuntimeError: Set changed size during iteration\n",
      "\n",
      "100%|██████████| 15/15 [08:14<00:00, 32.99s/it]\n"
     ]
    }
   ],
   "source": [
    "diag.compute_stats()"
   ]
  },
  {
   "cell_type": "code",
   "execution_count": 24,
   "metadata": {},
   "outputs": [
    {
     "data": {
      "text/html": [
       "<div>\n",
       "<style>\n",
       "    .dataframe thead tr:only-child th {\n",
       "        text-align: right;\n",
       "    }\n",
       "\n",
       "    .dataframe thead th {\n",
       "        text-align: left;\n",
       "    }\n",
       "\n",
       "    .dataframe tbody tr th {\n",
       "        vertical-align: top;\n",
       "    }\n",
       "</style>\n",
       "<table border=\"1\" class=\"dataframe\">\n",
       "  <thead>\n",
       "    <tr style=\"text-align: right;\">\n",
       "      <th></th>\n",
       "      <th>bias</th>\n",
       "      <th>mse</th>\n",
       "      <th>pred_var</th>\n",
       "      <th>true_var</th>\n",
       "      <th>expl_var_cut9</th>\n",
       "    </tr>\n",
       "  </thead>\n",
       "  <tbody>\n",
       "    <tr>\n",
       "      <th>TPHYSTND_NORAD</th>\n",
       "      <td>5.52502e-06</td>\n",
       "      <td>9.97225e-09</td>\n",
       "      <td>5.65798e-09</td>\n",
       "      <td>2.49891e-09</td>\n",
       "      <td>-2.19704e+09</td>\n",
       "    </tr>\n",
       "    <tr>\n",
       "      <th>PHQ</th>\n",
       "      <td>-6.03639e-09</td>\n",
       "      <td>3.80054e-14</td>\n",
       "      <td>1.22674e-14</td>\n",
       "      <td>2.35917e-14</td>\n",
       "      <td>-7.93986</td>\n",
       "    </tr>\n",
       "    <tr>\n",
       "      <th>all</th>\n",
       "      <td>2.75949e-06</td>\n",
       "      <td>4.98614e-09</td>\n",
       "      <td>2.829e-09</td>\n",
       "      <td>1.24947e-09</td>\n",
       "      <td>-1.09852e+09</td>\n",
       "    </tr>\n",
       "  </tbody>\n",
       "</table>\n",
       "</div>"
      ],
      "text/plain": [
       "                       bias          mse     pred_var     true_var  \\\n",
       "TPHYSTND_NORAD  5.52502e-06  9.97225e-09  5.65798e-09  2.49891e-09   \n",
       "PHQ            -6.03639e-09  3.80054e-14  1.22674e-14  2.35917e-14   \n",
       "all             2.75949e-06  4.98614e-09    2.829e-09  1.24947e-09   \n",
       "\n",
       "               expl_var_cut9  \n",
       "TPHYSTND_NORAD  -2.19704e+09  \n",
       "PHQ                 -7.93986  \n",
       "all             -1.09852e+09  "
      ]
     },
     "execution_count": 24,
     "metadata": {},
     "output_type": "execute_result"
    }
   ],
   "source": [
    "diag.mean_stats()"
   ]
  },
  {
   "cell_type": "code",
   "execution_count": 62,
   "metadata": {},
   "outputs": [
    {
     "data": {
      "text/plain": [
       "(8192, 1, 60)"
      ]
     },
     "execution_count": 62,
     "metadata": {},
     "output_type": "execute_result"
    }
   ],
   "source": [
    "diag.mse[:, None].shape"
   ]
  },
  {
   "cell_type": "code",
   "execution_count": 8,
   "metadata": {
    "collapsed": true
   },
   "outputs": [],
   "source": [
    "t, p = diag.get_tp('TPHYSTND_NORAD', 4, 47)"
   ]
  },
  {
   "cell_type": "code",
   "execution_count": null,
   "metadata": {
    "collapsed": true
   },
   "outputs": [],
   "source": [
    "diag.valid_files[4]"
   ]
  },
  {
   "cell_type": "code",
   "execution_count": 91,
   "metadata": {
    "collapsed": true
   },
   "outputs": [],
   "source": [
    "def plot_double_slice(t, p, var=None, unit='', **kwargs):\n",
    "    fig, axes = plt.subplots(1, 2, figsize=(12, 5))\n",
    "    I1 = axes[0].imshow(t, **kwargs)\n",
    "    I2 = axes[1].imshow(p, **kwargs)\n",
    "    cb1 = fig.colorbar(I1, ax=axes[0], orientation='horizontal')\n",
    "    cb2 = fig.colorbar(I2, ax=axes[1], orientation='horizontal')\n",
    "    cb1.set_label(unit); cb2.set_label(unit)\n",
    "    axes[0].set_title('SP-CAM Truth')\n",
    "    axes[1].set_title('CBRAIN Predictions')\n",
    "    plt.show()"
   ]
  },
  {
   "cell_type": "code",
   "execution_count": 92,
   "metadata": {
    "collapsed": true
   },
   "outputs": [],
   "source": [
    "range_dict = {\n",
    "    'SPDT': [-5e-4, 5e-4],\n",
    "    'SPDQ': [-5e-7, 5e-7],\n",
    "    'QRL': [-2e-4, 2e-4],\n",
    "    'QRS': [-1.2e-4, 1.2e-4],\n",
    "    'TPHYSTND_NORAD': [-5e-4, 5e-4],\n",
    "    'PHQ': [-5e-7, 5e-7],\n",
    "}"
   ]
  },
  {
   "cell_type": "code",
   "execution_count": 93,
   "metadata": {},
   "outputs": [
    {
     "data": {
      "image/png": "[encoded data removed]",
      "text/plain": [
       "<matplotlib.figure.Figure at 0x2b52516687b8>"
      ]
     },
     "metadata": {},
     "output_type": "display_data"
    }
   ],
   "source": [
    "plot_double_slice(t[:, 0, :].T, p[:, 0, :].T, unit='K/s', cmap='bwr', \n",
    "                  vmin=-5e-4, vmax=5e-4, origin='lower')"
   ]
  },
  {
   "cell_type": "code",
   "execution_count": 33,
   "metadata": {},
   "outputs": [
    {
     "name": "stdout",
     "output_type": "stream",
     "text": [
      "Generator will have 23494656 samples in 22944 batches\n",
      "Features have shape 152; targets have shape 120\n"
     ]
    }
   ],
   "source": [
    "dg = DataGenerator(\n",
    "    '/scratch/srasp/preprocessed_data/', \n",
    "    'purecrm_essv2_train_sample1_shuffle_features.nc',\n",
    "    'purecrm_essv2_train_sample1_shuffle_targets.nc',\n",
    "    1024,\n",
    "    'purecrm_essv2_train_sample1_norm.nc',\n",
    "    'feature_means', 'feature_stds', None, 'target_stds'\n",
    ")"
   ]
  },
  {
   "cell_type": "code",
   "execution_count": 34,
   "metadata": {},
   "outputs": [
    {
     "data": {
      "text/plain": [
       "[array([  2.24381042e+02,   2.17487885e+02,   2.01357346e+02,\n",
       "          2.19624695e+02,   2.16209274e+02,   2.11214523e+02,\n",
       "          2.06991455e+02,   2.05739365e+02,   2.06342316e+02,\n",
       "          2.07739578e+02,   2.09428741e+02,   2.11177322e+02,\n",
       "          2.13806885e+02,   2.17677994e+02,   2.23149429e+02,\n",
       "          2.29851227e+02,   2.37370834e+02,   2.45330429e+02,\n",
       "          2.53404984e+02,   2.60647308e+02,   2.66350372e+02,\n",
       "          2.70272369e+02,   2.72896820e+02,   2.74970703e+02,\n",
       "          2.76562622e+02,   2.78152466e+02,   2.79706024e+02,\n",
       "          2.81170074e+02,   2.82449646e+02,   2.83703918e+02,\n",
       "          1.53170208e-06,   1.49748030e-06,   1.23334496e-06,\n",
       "          1.32375135e-06,   1.29027717e-06,   1.26324494e-06,\n",
       "          1.27624025e-06,   1.33082233e-06,   1.48173126e-06,\n",
       "          1.97669056e-06,   3.71627448e-06,   8.72106557e-06,\n",
       "          2.02070405e-05,   4.32628549e-05,   8.69502765e-05,\n",
       "          1.64763391e-04,   2.99866806e-04,   5.36574342e-04,\n",
       "          9.33136500e-04,   1.52901106e-03,   2.36868532e-03,\n",
       "          3.60948103e-03,   4.97358339e-03,   5.76299615e-03,\n",
       "          6.34152908e-03,   6.86327461e-03,   7.28306314e-03,\n",
       "          7.59211462e-03,   7.77053414e-03,   8.23228341e-03,\n",
       "          1.95926324e-01,   4.78184968e-02,   4.47211228e-02,\n",
       "         -5.79713844e-02,   5.30465320e-02,  -4.41215672e-02,\n",
       "          6.38953596e-03,  -4.04864885e-02,  -4.23492566e-02,\n",
       "         -1.40936896e-01,  -3.04072261e-01,  -4.54672873e-01,\n",
       "         -5.29597521e-01,  -4.34985906e-01,  -1.82910576e-01,\n",
       "          6.16290681e-02,   1.80811197e-01,   1.25875533e-01,\n",
       "          3.66519950e-02,   6.55722851e-03,   1.02074752e-02,\n",
       "          2.74580680e-02,   9.37234089e-02,   1.63243845e-01,\n",
       "          1.83960468e-01,   1.98970675e-01,   2.25978136e-01,\n",
       "          2.61955917e-01,   2.75552064e-01,   2.73729235e-01,\n",
       "         -6.92620517e-07,   9.37992979e-07,   1.05500321e-05,\n",
       "         -1.56044207e-05,   1.54993506e-06,   6.03161965e-08,\n",
       "          8.34599405e-07,   5.83969552e-07,   1.38242854e-07,\n",
       "          5.30666227e-07,   1.33925562e-06,   2.85426177e-06,\n",
       "          3.84047735e-06,   4.79659320e-06,   5.22033861e-06,\n",
       "          5.63439880e-06,   5.16523505e-06,   3.71432066e-06,\n",
       "          1.56765452e-06,   3.29684184e-07,   9.45272461e-07,\n",
       "          3.33075900e-06,   3.13949727e-06,  -2.30453429e-06,\n",
       "         -4.68177632e-06,  -7.06160881e-06,  -8.02290106e-06,\n",
       "         -7.98421297e-06,  -6.44878492e-06,   8.47391566e-05,\n",
       "         -1.02433897e-14,  -1.31300602e-14,   2.22846305e-13,\n",
       "         -1.45819961e-13,   8.39536017e-16,   9.57255735e-15,\n",
       "          1.94900892e-14,   4.42813680e-14,   6.70590645e-13,\n",
       "          4.12471923e-12,   1.91385831e-11,   7.16962947e-11,\n",
       "          2.22076774e-10,   5.68478487e-10,   1.11227672e-09,\n",
       "          1.71807479e-09,   2.41020648e-09,   2.90809465e-09,\n",
       "          3.31400041e-09,   3.35381301e-09,   2.26794894e-09,\n",
       "         -1.27696542e-09,  -4.61876226e-09,  -3.75207998e-09,\n",
       "         -4.37354153e-09,  -4.80652718e-09,  -4.67271555e-09,\n",
       "         -5.79346793e-09,  -5.44223600e-09,   1.91278161e-07,\n",
       "          9.82709062e+04,   3.26077881e+02], dtype=float32),\n",
       " array([  2.46588821e+01,   2.01454296e+01,   1.65818958e+01,\n",
       "          1.76913662e+01,   1.40659180e+01,   1.33073378e+01,\n",
       "          1.52079601e+01,   1.53042688e+01,   1.31899385e+01,\n",
       "          1.08321743e+01,   8.70301247e+00,   7.36026096e+00,\n",
       "          8.04742622e+00,   9.86203289e+00,   1.16903286e+01,\n",
       "          1.30704966e+01,   1.37797642e+01,   1.38501396e+01,\n",
       "          1.34878778e+01,   1.29830828e+01,   1.24478579e+01,\n",
       "          1.15695124e+01,   1.07699909e+01,   1.06216669e+01,\n",
       "          1.05394325e+01,   1.04893217e+01,   1.04925117e+01,\n",
       "          1.05297489e+01,   1.05949297e+01,   1.06074429e+01,\n",
       "          2.39387447e-07,   2.32081959e-07,   3.20367207e-07,\n",
       "          1.90757902e-07,   1.93679924e-07,   2.18213202e-07,\n",
       "          2.75876346e-07,   3.64899762e-07,   4.34279599e-07,\n",
       "          9.05659533e-07,   3.33444950e-06,   1.07514843e-05,\n",
       "          2.88434203e-05,   6.72216629e-05,   1.42901597e-04,\n",
       "          2.74867867e-04,   4.80981427e-04,   8.03310075e-04,\n",
       "          1.27666281e-03,   1.88471808e-03,   2.58491095e-03,\n",
       "          3.36864730e-03,   4.08132421e-03,   4.47228784e-03,\n",
       "          4.75933775e-03,   5.04243094e-03,   5.28222416e-03,\n",
       "          5.44438511e-03,   5.53652691e-03,   5.78618282e-03,\n",
       "          1.72190914e+01,   1.23701353e+01,   9.57561016e+00,\n",
       "          7.77543640e+00,   6.32189941e+00,   5.73058796e+00,\n",
       "          6.03838634e+00,   6.87469530e+00,   7.65457249e+00,\n",
       "          8.64212990e+00,   9.89224052e+00,   1.12091846e+01,\n",
       "          1.21861467e+01,   1.25394640e+01,   1.22361460e+01,\n",
       "          1.14112158e+01,   1.02026711e+01,   8.82946301e+00,\n",
       "          7.54790449e+00,   6.63537884e+00,   6.15583897e+00,\n",
       "          5.97149706e+00,   6.00364590e+00,   6.18985319e+00,\n",
       "          6.43774176e+00,   6.69472218e+00,   6.77339888e+00,\n",
       "          6.61447287e+00,   6.27641916e+00,   5.81828213e+00,\n",
       "          7.68393584e-05,   6.40694198e-05,   5.38488821e-05,\n",
       "          3.84624655e-05,   4.32478519e-05,   4.22723606e-05,\n",
       "          4.26661718e-05,   4.19482567e-05,   4.04416969e-05,\n",
       "          4.43254903e-05,   5.09811762e-05,   5.61616471e-05,\n",
       "          5.65341506e-05,   5.23237613e-05,   5.38479289e-05,\n",
       "          6.38533893e-05,   7.67916354e-05,   8.39653367e-05,\n",
       "          8.43691450e-05,   8.09478661e-05,   7.69733815e-05,\n",
       "          7.70425759e-05,   7.46303340e-05,   7.34848945e-05,\n",
       "          6.64925101e-05,   5.87312352e-05,   5.05007301e-05,\n",
       "          4.40722470e-05,   4.15130016e-05,   1.02985534e-04,\n",
       "          4.89472612e-13,   3.79370661e-13,   2.45534300e-12,\n",
       "          1.46683739e-12,   5.13108436e-13,   6.62591835e-13,\n",
       "          1.30589734e-12,   2.78830106e-12,   9.73807927e-12,\n",
       "          4.24945981e-11,   1.64881400e-10,   5.46776069e-10,\n",
       "          1.57447300e-09,   3.94943811e-09,   7.95463517e-09,\n",
       "          1.26976234e-08,   1.79359994e-08,   2.14141078e-08,\n",
       "          2.51931809e-08,   3.03591356e-08,   3.62503911e-08,\n",
       "          4.13900132e-08,   4.14686880e-08,   3.95308071e-08,\n",
       "          3.76095066e-08,   3.51757627e-08,   3.21588480e-08,\n",
       "          2.90446547e-08,   2.84187074e-08,   2.02246142e-07,\n",
       "          1.68277222e+03,   4.22949341e+02], dtype=float32)]"
      ]
     },
     "execution_count": 34,
     "metadata": {},
     "output_type": "execute_result"
    }
   ],
   "source": [
    "dg.feature_norms"
   ]
  },
  {
   "cell_type": "code",
   "execution_count": 35,
   "metadata": {},
   "outputs": [
    {
     "name": "stderr",
     "output_type": "stream",
     "text": [
      "/data11/home/srasp/repositories/CBRAIN-Keras-Diagnostics/keras_network/data_generator.py:76: RuntimeWarning: invalid value encountered in true_divide\n",
      "  if target_norms is not None: y = (y - target_norms[0]) / target_norms[1]\n"
     ]
    },
    {
     "data": {
      "text/plain": [
       "(array([[ -9.09901714e+00,  -1.07977028e+01,  -1.21291475e+01, ...,\n",
       "          -1.45593825e+06,  -5.83981171e+01,  -7.67413974e-01],\n",
       "        [ -9.09448814e+00,  -1.07882509e+01,  -1.21453743e+01, ...,\n",
       "           1.28643810e+07,  -5.83979149e+01,  -7.72784829e-01],\n",
       "        [ -9.19097996e+00,  -1.09083338e+01,  -1.22875395e+01, ...,\n",
       "          -2.35728425e+06,  -5.83986664e+01,  -7.72784829e-01],\n",
       "        ..., \n",
       "        [ -9.08297729e+00,  -1.07733841e+01,  -1.21290474e+01, ...,\n",
       "           7.19276800e+06,  -5.83978958e+01,  -7.72784829e-01],\n",
       "        [ -9.10054970e+00,  -1.07877979e+01,  -1.21383047e+01, ...,\n",
       "           1.28270150e+07,  -5.83975906e+01,  -7.72784829e-01],\n",
       "        [ -9.09198570e+00,  -1.07781277e+01,  -1.21491404e+01, ...,\n",
       "           2.54618000e+06,  -5.83981743e+01,  -7.71383286e-01]], dtype=float32),\n",
       " array([[        nan,         nan, -0.09872468, ...,  1.06896222,\n",
       "          0.99491262,  0.78771651],\n",
       "        [        nan,         nan, -0.08812714, ...,  0.        ,\n",
       "          0.        ,  0.        ],\n",
       "        [        nan,         nan, -0.50001037, ...,  0.        ,\n",
       "          0.        ,  0.        ],\n",
       "        ..., \n",
       "        [        nan,         nan, -0.12166166, ...,  0.        ,\n",
       "          0.        ,  0.        ],\n",
       "        [        nan,         nan, -0.03896823, ...,  0.        ,\n",
       "          0.        ,  0.        ],\n",
       "        [        nan,         nan, -0.13060141, ...,  0.10945737,\n",
       "          0.10337223,  0.08640024]], dtype=float32))"
      ]
     },
     "execution_count": 35,
     "metadata": {},
     "output_type": "execute_result"
    }
   ],
   "source": [
    "next(dg.return_generator())"
   ]
  },
  {
   "cell_type": "code",
   "execution_count": 38,
   "metadata": {
    "collapsed": true
   },
   "outputs": [],
   "source": [
    "norm = xr.open_dataset('/scratch/srasp/preprocessed_data/purecrm_essv2_norm-by-var_train_sample1_norm.nc')"
   ]
  },
  {
   "cell_type": "code",
   "execution_count": 45,
   "metadata": {},
   "outputs": [
    {
     "data": {
      "image/png": "[encoded data removed]",
      "text/plain": [
       "<matplotlib.figure.Figure at 0x2b4bc96909b0>"
      ]
     },
     "metadata": {},
     "output_type": "display_data"
    }
   ],
   "source": [
    "plt.plot(norm['feature_stds'][120:150])\n",
    "plt.plot(norm['feature_stds_by_var'][120:150])\n",
    "plt.plot(norm['feature_maxs'][120:150] - norm['feature_mins'][120:150])\n",
    "plt.gca().set_yscale('log')"
   ]
  },
  {
   "cell_type": "code",
   "execution_count": 46,
   "metadata": {},
   "outputs": [
    {
     "data": {
      "image/png": "[encoded data removed]",
      "text/plain": [
       "<matplotlib.figure.Figure at 0x2b4bc9b2c5c0>"
      ]
     },
     "metadata": {},
     "output_type": "display_data"
    }
   ],
   "source": [
    "plt.plot(norm['feature_stds'][:])\n",
    "plt.plot(norm['feature_stds_by_var'][:])\n",
    "plt.plot(norm['feature_maxs'][:] - norm['feature_mins'][:])\n",
    "plt.gca().set_yscale('log')"
   ]
  },
  {
   "cell_type": "code",
   "execution_count": null,
   "metadata": {
    "collapsed": true
   },
   "outputs": [],
   "source": []
  }
 ],
 "metadata": {
  "kernelspec": {
   "display_name": "Python 3",
   "language": "python",
   "name": "python3"
  },
  "language_info": {
   "codemirror_mode": {
    "name": "ipython",
    "version": 3
   },
   "file_extension": ".py",
   "mimetype": "text/x-python",
   "name": "python",
   "nbconvert_exporter": "python",
   "pygments_lexer": "ipython3",
   "version": "3.6.3"
  },
  "toc": {
   "nav_menu": {},
   "number_sections": true,
   "sideBar": true,
   "skip_h1_title": true,
   "title_cell": "Table of Contents",
   "title_sidebar": "Contents",
   "toc_cell": false,
   "toc_position": {},
   "toc_section_display": true,
   "toc_window_display": false
  }
 },
 "nbformat": 4,
 "nbformat_minor": 2
}
