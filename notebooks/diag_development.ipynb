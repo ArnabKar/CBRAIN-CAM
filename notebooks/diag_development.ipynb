{
 "cells": [
  {
   "cell_type": "code",
   "execution_count": 32,
   "metadata": {},
   "outputs": [],
   "source": [
    "import numpy as np\n",
    "import matplotlib.pyplot as plt\n",
    "%matplotlib inline\n",
    "import keras\n",
    "import tensorflow as tf\n",
    "config = tf.ConfigProto()\n",
    "config.gpu_options.allow_growth = True\n",
    "keras.backend.tensorflow_backend.set_session(tf.Session(config=config))\n",
    "import h5py\n",
    "from tqdm import tqdm\n",
    "import pandas as pd\n",
    "import sys, os\n",
    "sys.path.append('../keras_network/')\n",
    "sys.path.append('../data_processing/')\n",
    "from data_generator import DataGenerator\n",
    "from losses import metrics, all_metrics\n",
    "from keras.utils.generic_utils import get_custom_objects\n",
    "metrics_dict = dict([(f.__name__, f) for f in all_metrics])\n",
    "get_custom_objects().update(metrics_dict)\n",
    "from preprocess_aqua import L_V, C_P, conversion_dict\n",
    "import pickle\n",
    "import pdb\n",
    "import netCDF4 as nc\n",
    "from glob import glob"
   ]
  },
  {
   "cell_type": "code",
   "execution_count": 33,
   "metadata": {
    "collapsed": true
   },
   "outputs": [],
   "source": [
    "model_dir = '/export/home/srasp/TF_models/'\n",
    "model_fn = 'saved_keras_model_0220a.h5'\n",
    "mean_fn = 'mean_nolat_0213.nc'\n",
    "std_fn = 'std_nolat_0213.nc'"
   ]
  },
  {
   "cell_type": "code",
   "execution_count": 3,
   "metadata": {
    "collapsed": true
   },
   "outputs": [],
   "source": [
    "model_path = model_dir + model_fn\n",
    "mean_path = model_dir + mean_fn\n",
    "std_path = model_dir + std_fn"
   ]
  },
  {
   "cell_type": "code",
   "execution_count": 4,
   "metadata": {
    "collapsed": true
   },
   "outputs": [],
   "source": [
    "inps = ['TBP','QBP','PS','SHFLX','LHFLX','dTdt_adiabatic','dQdt_adiabatic']\n",
    "outps = ['TPHYSTND_NORAD','PHQ']"
   ]
  },
  {
   "cell_type": "code",
   "execution_count": 5,
   "metadata": {
    "collapsed": true
   },
   "outputs": [],
   "source": [
    "data_dir = '/beegfs/DATA/pritchard/srasp/Aquaplanet_enhance05_old_matlab/'\n",
    "aqua_fn = 'AndKua_aqua_SPCAM3.0_enhance05.cam2.h1.0000-01-05-00000.nc'\n",
    "aqua_pattern = data_dir + 'AndKua_aqua_SPCAM3.0_enhance05.cam2.h1.0000-01-0[1-5]-00000.nc'"
   ]
  },
  {
   "cell_type": "code",
   "execution_count": 72,
   "metadata": {},
   "outputs": [],
   "source": [
    "class ModelDiagnostics(object):\n",
    "    \"\"\"\n",
    "    Model diagnostics class.\n",
    "    \"\"\"\n",
    "    def __init__(self, model_path, feature_vars, target_vars,\n",
    "                 mean_path, std_path, valid_file_pattern, \n",
    "                 nlat=64, nlon=128, nlev=30):\n",
    "        \"\"\"\n",
    "        TF version\n",
    "        \"\"\"\n",
    "        self.model_path = model_path\n",
    "        self.model = keras.models.load_model(model_path, custom_objects={\"tf\": tf})\n",
    "        self.mean = nc.Dataset(mean_path, 'r')\n",
    "        self.std = nc.Dataset(std_path, 'r')\n",
    "        self.nlat = nlat; self.nlon = nlon; self.nlev = nlev\n",
    "        self.ntime = 48\n",
    "        self.ngeo = nlat * nlon\n",
    "        self.feature_vars, self.target_vars = (feature_vars, target_vars)\n",
    "        self.valid_files = sorted(glob(valid_file_pattern))\n",
    "\n",
    "    def get_tp(self, var, idate, itime):\n",
    "        \"\"\"Return denormalized predictions and targets for one variable\n",
    "        [lat, lon, lev]\n",
    "        \"\"\"\n",
    "        # Get feature array\n",
    "        f, t = self._get_ft(idate, itime)\n",
    "        p = self._get_pred(f)\n",
    "        var_idx = self.target_vars.index(var)\n",
    "        t, p = (self.unravel(t), self.unravel(p))\n",
    "        return self._denorm(t, 't')[:, :, var_idx], self._denorm(p, 't')[:, :, var_idx]\n",
    "            \n",
    "    def _get_f_or_t(self, idate, itime, f_or_t):\n",
    "        with nc.Dataset(self.valid_files[idate], 'r') as ds:\n",
    "            arr = []\n",
    "            vars = self.feature_vars if f_or_t == 'f' else self.target_vars\n",
    "            for var in vars:\n",
    "                da = (ds[var][:] - self.mean[var][:]) / self.std[var][:]\n",
    "                if da.ndim == 4:   # 3D variables [time, lev, lat, lon] --> [sample, lev]\n",
    "                    a = np.rollaxis(da, 1, 4).reshape(-1, self.nlev)\n",
    "                elif da.ndim == 3:   # 2D variables [time, lat, lon]\n",
    "                    a = np.rollaxis(np.tile(da[itime].reshape(-1), (self.nlev, 1)), 0, 2)\n",
    "                elif da.ndim == 1:   # lat\n",
    "                    a = np.rollaxis(np.tile(da, (self.ntime, self.nlev, self.nlon, 1)), \n",
    "                                    1, 4).reshape(-1, 30)\n",
    "                else:\n",
    "                    raise Exception('Incompatible number of dimensions')\n",
    "                arr.append(a)\n",
    "            arr = np.expand_dims(np.rollaxis(np.array(arr), 0, 2), 3) # [sample, feature, lev, 1]\n",
    "        arr =  arr[:, :, -self.nlev:][:, ::-1]\n",
    "        if itime is not None: arr = arr[itime*self.ngeo:(itime+1)*self.ngeo]\n",
    "        return arr\n",
    "    \n",
    "    def _get_ft(self, idate, itime):\n",
    "        return self._get_f_or_t(idate, itime, 'f'), self._get_f_or_t(idate, itime, 't')\n",
    "    \n",
    "    def _get_pred(self, f):\n",
    "        return self.model.predict(f, batch_size=1024)\n",
    "    \n",
    "    def _denorm(self, x, f_or_t):\n",
    "        for i, var in enumerate(self.feature_vars if f_or_t == 'f' else self.target_vars):\n",
    "            m, s = [np.rollaxis(ds[var][-self.nlev:][::-1], 0, 3) \n",
    "                    for ds in [self.mean, self.std]]\n",
    "            x[:, :, i, :] = x[:, :, i, :] * s + m\n",
    "        return x\n",
    "    \n",
    "    def unravel(self, x):\n",
    "        return x.reshape(self.nlat, self.nlon, -1, self.nlev)\n",
    "    \n",
    "    def compute_stats(self, niter=None):\n",
    "        \"\"\"\n",
    "        Compute statistics over entire dataset [lat, lon, lev].\n",
    "        bias = mean(preds) - mean(true)\n",
    "        mse = sse(preds, true) / n_samples\n",
    "        rel_mse = mse / std(true)\n",
    "        std_error = std(preds) - std(true)\n",
    "        \"\"\"\n",
    "        psum = np.zeros((self.ngeo, len(self.target_vars)*self.nlev))\n",
    "        tsum = np.copy(psum); sse = np.copy(psum)\n",
    "        psqsum = np.copy(psum); tsqsum = np.copy(psum)\n",
    "        ndates = len(self.valid_files) if niter is None else niter\n",
    "        n = ndates * self.ntime\n",
    "        for idate in tqdm(range(ndates)):\n",
    "            f_date, t_date = self._get_ft(idate, None)   # Full file\n",
    "            for itime in range(self.ntime):\n",
    "                f = f_date[itime*self.ngeo:(itime+1)*self.ngeo]\n",
    "                t = t_date[itime*self.ngeo:(itime+1)*self.ngeo]\n",
    "                # Get predictions\n",
    "                p = self.model.predict_on_batch(f)  # [ngeo samples, z]\n",
    "                # Unscale outputs at this level\n",
    "                t, p = (self.unravel(t), self.unravel(p))\n",
    "                t = self._denorm(t, 't')\n",
    "                p = self._denorm(p, 't')\n",
    "                t, p = [a.reshape(-1, len(self.target_vars)*self.nlev) for a in [t, p]]\n",
    "                # Compute statistics\n",
    "                psum += p; tsum += t\n",
    "                psqsum += p ** 2; tsqsum += t ** 2\n",
    "                sse += (t - p) ** 2\n",
    "\n",
    "\n",
    "        # Compute average statistics\n",
    "        self.stats_dict = {}\n",
    "        pmean = psum / n; tmean = tsum / n\n",
    "        self.bias = pmean - tmean; self.stats_dict['bias'] = self.bias\n",
    "        self.mse = sse / n; self.stats_dict['mse'] = self.mse\n",
    "        self.pred_var = (psqsum / n - pmean ** 2) * n / (n - 1)  # Sample variance\n",
    "        self.stats_dict['pred_var'] = self.pred_var\n",
    "        self.true_var = (tsqsum / n - tmean ** 2) * n / (n - 1)\n",
    "        self.stats_dict['true_var'] = self.true_var\n",
    "    \n",
    "    def mean_stats(self, cutoff_level=9):\n",
    "        expl_var_str = f'expl_var_cut{cutoff_level}'\n",
    "        df = pd.DataFrame(\n",
    "            index=self.target_vars + ['all'],\n",
    "            columns=list(self.stats_dict.keys()) + [expl_var_str])\n",
    "        # Compute statistics for each variable\n",
    "        for var in self.target_vars + ['all']:\n",
    "            sl = slice(0, None) if var == 'all' else \\\n",
    "                slice(self.target_vars.index(var), self.target_vars.index(var)+1, 1)\n",
    "            for stat_name, stat in self.stats_dict.items():\n",
    "                re_stat = self.unravel(stat)[:, :, sl]\n",
    "                df.loc[var, stat_name] = np.mean(re_stat)\n",
    "\n",
    "            df.loc[var, expl_var_str] = np.mean((1. - (\n",
    "                 np.mean(self.unravel(self.mse)[:, :, sl], axis=(0, 1)) / \n",
    "                 np.mean(self.unravel(self.true_var)[:, :, sl], axis=(0, 1))\n",
    "            ).reshape(-1, self.nlev))[:, :cutoff_level])\n",
    "        return df"
   ]
  },
  {
   "cell_type": "code",
   "execution_count": 73,
   "metadata": {},
   "outputs": [
    {
     "name": "stderr",
     "output_type": "stream",
     "text": [
      "/export/home/srasp/anaconda3/lib/python3.6/site-packages/keras/models.py:255: UserWarning: No training configuration found in save file: the model was *not* compiled. Compile it manually.\n",
      "  warnings.warn('No training configuration found in save file: '\n"
     ]
    }
   ],
   "source": [
    "diag = ModelDiagnostics(model_path, inps, outps, mean_path, std_path, aqua_pattern)"
   ]
  },
  {
   "cell_type": "code",
   "execution_count": 74,
   "metadata": {},
   "outputs": [
    {
     "name": "stderr",
     "output_type": "stream",
     "text": [
      "100%|██████████| 5/5 [01:08<00:00, 13.74s/it]\n"
     ]
    }
   ],
   "source": [
    "diag.compute_stats()"
   ]
  },
  {
   "cell_type": "code",
   "execution_count": 75,
   "metadata": {},
   "outputs": [
    {
     "data": {
      "text/html": [
       "<div>\n",
       "<style>\n",
       "    .dataframe thead tr:only-child th {\n",
       "        text-align: right;\n",
       "    }\n",
       "\n",
       "    .dataframe thead th {\n",
       "        text-align: left;\n",
       "    }\n",
       "\n",
       "    .dataframe tbody tr th {\n",
       "        vertical-align: top;\n",
       "    }\n",
       "</style>\n",
       "<table border=\"1\" class=\"dataframe\">\n",
       "  <thead>\n",
       "    <tr style=\"text-align: right;\">\n",
       "      <th></th>\n",
       "      <th>bias</th>\n",
       "      <th>mse</th>\n",
       "      <th>pred_var</th>\n",
       "      <th>true_var</th>\n",
       "      <th>expl_var_cut9</th>\n",
       "    </tr>\n",
       "  </thead>\n",
       "  <tbody>\n",
       "    <tr>\n",
       "      <th>TPHYSTND_NORAD</th>\n",
       "      <td>4.66984e-06</td>\n",
       "      <td>8.20865e-09</td>\n",
       "      <td>4.41419e-09</td>\n",
       "      <td>1.40964e-09</td>\n",
       "      <td>-2.67273e+09</td>\n",
       "    </tr>\n",
       "    <tr>\n",
       "      <th>PHQ</th>\n",
       "      <td>-5.50004e-09</td>\n",
       "      <td>8.14091e-14</td>\n",
       "      <td>1.07852e-14</td>\n",
       "      <td>6.82243e-14</td>\n",
       "      <td>-7.20305</td>\n",
       "    </tr>\n",
       "    <tr>\n",
       "      <th>all</th>\n",
       "      <td>2.33217e-06</td>\n",
       "      <td>4.10437e-09</td>\n",
       "      <td>2.2071e-09</td>\n",
       "      <td>7.04856e-10</td>\n",
       "      <td>-1.33636e+09</td>\n",
       "    </tr>\n",
       "  </tbody>\n",
       "</table>\n",
       "</div>"
      ],
      "text/plain": [
       "                       bias          mse     pred_var     true_var  \\\n",
       "TPHYSTND_NORAD  4.66984e-06  8.20865e-09  4.41419e-09  1.40964e-09   \n",
       "PHQ            -5.50004e-09  8.14091e-14  1.07852e-14  6.82243e-14   \n",
       "all             2.33217e-06  4.10437e-09   2.2071e-09  7.04856e-10   \n",
       "\n",
       "               expl_var_cut9  \n",
       "TPHYSTND_NORAD  -2.67273e+09  \n",
       "PHQ                 -7.20305  \n",
       "all             -1.33636e+09  "
      ]
     },
     "execution_count": 75,
     "metadata": {},
     "output_type": "execute_result"
    }
   ],
   "source": [
    "diag.mean_stats()"
   ]
  },
  {
   "cell_type": "code",
   "execution_count": 62,
   "metadata": {},
   "outputs": [
    {
     "data": {
      "text/plain": [
       "(8192, 1, 60)"
      ]
     },
     "execution_count": 62,
     "metadata": {},
     "output_type": "execute_result"
    }
   ],
   "source": [
    "diag.mse[:, None].shape"
   ]
  },
  {
   "cell_type": "code",
   "execution_count": 8,
   "metadata": {},
   "outputs": [],
   "source": [
    "t, p = diag.get_tp('TPHYSTND_NORAD', 4, 47)"
   ]
  },
  {
   "cell_type": "code",
   "execution_count": null,
   "metadata": {},
   "outputs": [],
   "source": [
    "diag.valid_files[4]"
   ]
  },
  {
   "cell_type": "code",
   "execution_count": 91,
   "metadata": {},
   "outputs": [],
   "source": [
    "def plot_double_slice(t, p, var=None, unit='', **kwargs):\n",
    "    fig, axes = plt.subplots(1, 2, figsize=(12, 5))\n",
    "    I1 = axes[0].imshow(t, **kwargs)\n",
    "    I2 = axes[1].imshow(p, **kwargs)\n",
    "    cb1 = fig.colorbar(I1, ax=axes[0], orientation='horizontal')\n",
    "    cb2 = fig.colorbar(I2, ax=axes[1], orientation='horizontal')\n",
    "    cb1.set_label(unit); cb2.set_label(unit)\n",
    "    axes[0].set_title('SP-CAM Truth')\n",
    "    axes[1].set_title('CBRAIN Predictions')\n",
    "    plt.show()"
   ]
  },
  {
   "cell_type": "code",
   "execution_count": 92,
   "metadata": {
    "collapsed": true
   },
   "outputs": [],
   "source": [
    "range_dict = {\n",
    "    'SPDT': [-5e-4, 5e-4],\n",
    "    'SPDQ': [-5e-7, 5e-7],\n",
    "    'QRL': [-2e-4, 2e-4],\n",
    "    'QRS': [-1.2e-4, 1.2e-4],\n",
    "    'TPHYSTND_NORAD': [-5e-4, 5e-4],\n",
    "    'PHQ': [-5e-7, 5e-7],\n",
    "}"
   ]
  },
  {
   "cell_type": "code",
   "execution_count": 93,
   "metadata": {},
   "outputs": [
    {
     "data": {
      "image/png": "[encoded data removed]",
      "text/plain": [
       "<matplotlib.figure.Figure at 0x2b52516687b8>"
      ]
     },
     "metadata": {},
     "output_type": "display_data"
    }
   ],
   "source": [
    "plot_double_slice(t[:, 0, :].T, p[:, 0, :].T, unit='K/s', cmap='bwr', \n",
    "                  vmin=-5e-4, vmax=5e-4, origin='lower')"
   ]
  },
  {
   "cell_type": "code",
   "execution_count": null,
   "metadata": {
    "collapsed": true
   },
   "outputs": [],
   "source": []
  },
  {
   "cell_type": "code",
   "execution_count": null,
   "metadata": {
    "collapsed": true
   },
   "outputs": [],
   "source": []
  }
 ],
 "metadata": {
  "kernelspec": {
   "display_name": "Python 3",
   "language": "python",
   "name": "python3"
  },
  "language_info": {
   "codemirror_mode": {
    "name": "ipython",
    "version": 3
   },
   "file_extension": ".py",
   "mimetype": "text/x-python",
   "name": "python",
   "nbconvert_exporter": "python",
   "pygments_lexer": "ipython3",
   "version": "3.6.3"
  },
  "toc": {
   "nav_menu": {},
   "number_sections": true,
   "sideBar": true,
   "skip_h1_title": true,
   "title_cell": "Table of Contents",
   "title_sidebar": "Contents",
   "toc_cell": false,
   "toc_position": {},
   "toc_section_display": true,
   "toc_window_display": false
  }
 },
 "nbformat": 4,
 "nbformat_minor": 2
}
