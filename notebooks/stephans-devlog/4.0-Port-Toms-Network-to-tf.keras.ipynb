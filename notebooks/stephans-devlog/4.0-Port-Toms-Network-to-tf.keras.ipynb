{
 "cells": [
  {
   "cell_type": "markdown",
   "metadata": {},
   "source": [
    "# Energy conserving network in tf.keras\n",
    "\n",
    "This is using https://github.com/tbeucler/CBRAIN-CAM/blob/master/notebooks/tbeucler_devlog/005_Predicting_convective_and_radiative_heating_profiles.ipynb\n",
    "\n"
   ]
  },
  {
   "cell_type": "code",
   "execution_count": 1,
   "metadata": {},
   "outputs": [],
   "source": [
    "%load_ext autoreload\n",
    "%autoreload 2"
   ]
  },
  {
   "cell_type": "code",
   "execution_count": 242,
   "metadata": {},
   "outputs": [],
   "source": [
    "from cbrain.imports import *"
   ]
  },
  {
   "cell_type": "markdown",
   "metadata": {},
   "source": [
    "## Preprocess "
   ]
  },
  {
   "cell_type": "code",
   "execution_count": 3,
   "metadata": {},
   "outputs": [
    {
     "name": "stdout",
     "output_type": "stream",
     "text": [
      "2019-03-30 09:34:54.581727: I tensorflow/core/platform/cpu_feature_guard.cc:141] Your CPU supports instructions that this TensorFlow binary was not compiled to use: SSE4.1 SSE4.2 AVX AVX2 AVX512F FMA\n",
      "2019-03-30 09:34:54.686769: I tensorflow/core/common_runtime/gpu/gpu_device.cc:1432] Found device 0 with properties: \n",
      "name: GeForce GTX 1080 major: 6 minor: 1 memoryClockRate(GHz): 1.7335\n",
      "pciBusID: 0000:b3:00.0\n",
      "totalMemory: 7.93GiB freeMemory: 6.29GiB\n",
      "2019-03-30 09:34:54.686804: I tensorflow/core/common_runtime/gpu/gpu_device.cc:1511] Adding visible gpu devices: 0\n",
      "2019-03-30 09:34:55.128120: I tensorflow/core/common_runtime/gpu/gpu_device.cc:982] Device interconnect StreamExecutor with strength 1 edge matrix:\n",
      "2019-03-30 09:34:55.128161: I tensorflow/core/common_runtime/gpu/gpu_device.cc:988]      0 \n",
      "2019-03-30 09:34:55.128168: I tensorflow/core/common_runtime/gpu/gpu_device.cc:1001] 0:   N \n",
      "2019-03-30 09:34:55.128495: I tensorflow/core/common_runtime/gpu/gpu_device.cc:1115] Created TensorFlow device (/job:localhost/replica:0/task:0/device:GPU:0 with 6059 MB memory) -> physical GPU (device: 0, name: GeForce GTX 1080, pci bus id: 0000:b3:00.0, compute capability: 6.1)\n",
      "03/30/2019 09:34:55 AM Preprocess training dataset\n",
      "03/30/2019 09:34:55 AM Start preprocessing file /local/S.Rasp/preprocessed_data/002_train.nc\n",
      "03/30/2019 09:34:55 AM Reading input files\n",
      "03/30/2019 09:34:55 AM Crop levels\n",
      "03/30/2019 09:34:55 AM Create stacked dataarray\n",
      "These time steps are cut: []\n",
      "03/30/2019 09:34:55 AM Stack and reshape dataarray\n",
      "03/30/2019 09:34:58 AM Save dataarray as /local/S.Rasp/preprocessed_data/002_train.nc\n",
      "03/30/2019 09:36:28 AM Done!\n",
      "03/30/2019 09:36:28 AM Shuffle training dataset\n",
      "03/30/2019 09:36:28 AM Start shuffling /local/S.Rasp/preprocessed_data/002_train.nc into /local/S.Rasp/preprocessed_data/002_train_shuffle.nc. Open and create datasets.\n",
      "03/30/2019 09:36:28 AM Shuffle!\n",
      "100%|█████████████████████████████████████████████| 1/1 [00:11<00:00, 11.20s/it]\n",
      "03/30/2019 09:36:39 AM Closing datasets\n",
      "03/30/2019 09:36:41 AM Done!\n",
      "03/30/2019 09:36:41 AM Preprocess validation dataset\n",
      "03/30/2019 09:36:41 AM Start preprocessing file /local/S.Rasp/preprocessed_data/002_valid.nc\n",
      "03/30/2019 09:36:41 AM Reading input files\n",
      "03/30/2019 09:36:42 AM Crop levels\n",
      "03/30/2019 09:36:42 AM Create stacked dataarray\n",
      "These time steps are cut: []\n",
      "03/30/2019 09:36:42 AM Stack and reshape dataarray\n",
      "03/30/2019 09:36:44 AM Save dataarray as /local/S.Rasp/preprocessed_data/002_valid.nc\n",
      "03/30/2019 09:38:29 AM Done!\n",
      "03/30/2019 09:38:29 AM Compute normalization file from train\n",
      "03/30/2019 09:38:29 AM Start normalizing by creating dataset.\n",
      "03/30/2019 09:38:29 AM Compute standard normalizations.\n",
      "03/30/2019 09:39:55 AM Saving normalization file as /local/S.Rasp/preprocessed_data/002_norm.nc\n",
      "03/30/2019 09:39:55 AM Done!\n",
      "03/30/2019 09:39:55 AM Finish entire preprocessing script.\n"
     ]
    }
   ],
   "source": [
    "!python ../../preprocessing.py -c ../../pp_config/002_32col_tom.yml"
   ]
  },
  {
   "cell_type": "markdown",
   "metadata": {},
   "source": [
    "## Output normalization using Pressure levels\n",
    "\n",
    "Using the dict normalizer"
   ]
  },
  {
   "cell_type": "code",
   "execution_count": 15,
   "metadata": {},
   "outputs": [],
   "source": [
    "out_vars = ['PHQ', 'PHCLDLIQ', 'PHCLDICE', 'TPHYSTND', 'QRL', 'QRS', 'DTVKE', \n",
    "            'FSNT', 'FSNS', 'FLNT', 'FLNS', 'PRECT', 'PRECTEND', 'PRECST', 'PRECSTEN']"
   ]
  },
  {
   "cell_type": "code",
   "execution_count": 16,
   "metadata": {},
   "outputs": [],
   "source": [
    "from cbrain.cam_constants import *"
   ]
  },
  {
   "cell_type": "code",
   "execution_count": 17,
   "metadata": {},
   "outputs": [],
   "source": [
    "scale_dict = {\n",
    "    'PHQ': L_V/G, \n",
    "    'PHCLDLIQ': L_V/G, \n",
    "    'PHCLDICE': L_V/G, \n",
    "    'TPHYSTND': C_P/G, \n",
    "    'QRL': C_P/G, \n",
    "    'QRS': C_P/G, \n",
    "    'DTVKE': C_P/G, \n",
    "    'FSNT': 1, \n",
    "    'FSNS': 1, \n",
    "    'FLNT': 1, \n",
    "    'FLNS': 1, \n",
    "    'PRECT': RHO_L*L_V, \n",
    "    'PRECTEND': 1e-3*RHO_L*L_V, \n",
    "    'PRECST': RHO_L*L_V, \n",
    "    'PRECSTEN': 1e-3*RHO_L*L_V\n",
    "}"
   ]
  },
  {
   "cell_type": "code",
   "execution_count": 18,
   "metadata": {},
   "outputs": [],
   "source": [
    "with open(os.path.join(os.path.dirname('../../cbrain/'), 'hyai_hybi.pkl'), 'rb') as f:\n",
    "    hyai, hybi = pickle.load(f)"
   ]
  },
  {
   "cell_type": "code",
   "execution_count": 19,
   "metadata": {},
   "outputs": [],
   "source": [
    "# Takes representative value for PS since purpose is normalization\n",
    "PS = 1e5; P0 = 1e5;\n",
    "P = P0*hyai+PS*hybi; # Total pressure [Pa]\n",
    "dP = P[1:]-P[:-1]; # Differential pressure [Pa]  "
   ]
  },
  {
   "cell_type": "code",
   "execution_count": 20,
   "metadata": {},
   "outputs": [
    {
     "data": {
      "text/plain": [
       "(30,)"
      ]
     },
     "execution_count": 20,
     "metadata": {},
     "output_type": "execute_result"
    }
   ],
   "source": [
    "dP.shape"
   ]
  },
  {
   "cell_type": "code",
   "execution_count": 21,
   "metadata": {},
   "outputs": [],
   "source": [
    "for v in ['PHQ', 'PHCLDLIQ', 'PHCLDICE', 'TPHYSTND', 'QRL', 'QRS']:\n",
    "    scale_dict[v] *= dP\n",
    "scale_dict['DTVKE'] *= (dP/DT)"
   ]
  },
  {
   "cell_type": "code",
   "execution_count": 22,
   "metadata": {},
   "outputs": [],
   "source": [
    "from cbrain.data_generator import DataGenerator\n",
    "from cbrain.normalization import DictNormalizer"
   ]
  },
  {
   "cell_type": "code",
   "execution_count": 23,
   "metadata": {},
   "outputs": [],
   "source": [
    "in_vars = ['QBP', 'QCBP', 'QIBP', 'TBP', 'VBP', 'PS', 'SOLIN', 'SHFLX', 'LHFLX']"
   ]
  },
  {
   "cell_type": "code",
   "execution_count": 26,
   "metadata": {},
   "outputs": [],
   "source": [
    "train_gen.data_ds.close()"
   ]
  },
  {
   "cell_type": "code",
   "execution_count": 27,
   "metadata": {},
   "outputs": [],
   "source": [
    "train_gen = DataGenerator(\n",
    "    data_fn = '/local/S.Rasp/preprocessed_data/002_train.nc',\n",
    "    input_vars = in_vars,\n",
    "    output_vars = out_vars,\n",
    "    norm_fn = '/local/S.Rasp/preprocessed_data/002_norm.nc',\n",
    "    input_transform = 'max_rs',\n",
    "    output_transform = scale_dict,\n",
    "    batch_size=1024,\n",
    "    shuffle=True\n",
    ")"
   ]
  },
  {
   "cell_type": "code",
   "execution_count": 28,
   "metadata": {},
   "outputs": [],
   "source": [
    "X, Y = train_gen[0]"
   ]
  },
  {
   "cell_type": "code",
   "execution_count": 29,
   "metadata": {},
   "outputs": [
    {
     "data": {
      "text/plain": [
       "((1024, 154), (1024, 218))"
      ]
     },
     "execution_count": 29,
     "metadata": {},
     "output_type": "execute_result"
    }
   ],
   "source": [
    "X.shape, Y.shape"
   ]
  },
  {
   "cell_type": "code",
   "execution_count": 118,
   "metadata": {},
   "outputs": [
    {
     "data": {
      "text/plain": [
       "(1e-06, 1000.0)"
      ]
     },
     "execution_count": 118,
     "metadata": {},
     "output_type": "execute_result"
    },
    {
     "data": {
      "image/png": "[encoded data removed]",
      "text/plain": [
       "<Figure size 432x288 with 1 Axes>"
      ]
     },
     "metadata": {
      "needs_background": "light"
     },
     "output_type": "display_data"
    }
   ],
   "source": [
    "plt.plot(np.mean(np.abs(Y), 0))\n",
    "plt.yscale('log')\n",
    "plt.ylim(1e-6, 1e3)"
   ]
  },
  {
   "cell_type": "code",
   "execution_count": 120,
   "metadata": {},
   "outputs": [
    {
     "data": {
      "image/png": "[encoded data removed]",
      "text/plain": [
       "<Figure size 432x288 with 1 Axes>"
      ]
     },
     "metadata": {
      "needs_background": "light"
     },
     "output_type": "display_data"
    }
   ],
   "source": [
    "plt.bar(range(8), np.mean(np.abs(Y), 0)[-8:])\n",
    "plt.yscale('log')"
   ]
  },
  {
   "cell_type": "markdown",
   "metadata": {},
   "source": [
    "## Build the model"
   ]
  },
  {
   "cell_type": "markdown",
   "metadata": {},
   "source": [
    "### Radiation conservation layer"
   ]
  },
  {
   "cell_type": "code",
   "execution_count": 70,
   "metadata": {
    "collapsed": true
   },
   "outputs": [
    {
     "data": {
      "text/plain": [
       "<xarray.DataArray 'var_names' (var_names: 154)>\n",
       "array(['QBP', 'QBP', 'QBP', 'QBP', 'QBP', 'QBP', 'QBP', 'QBP', 'QBP', 'QBP',\n",
       "       'QBP', 'QBP', 'QBP', 'QBP', 'QBP', 'QBP', 'QBP', 'QBP', 'QBP', 'QBP',\n",
       "       'QBP', 'QBP', 'QBP', 'QBP', 'QBP', 'QBP', 'QBP', 'QBP', 'QBP', 'QBP',\n",
       "       'QCBP', 'QCBP', 'QCBP', 'QCBP', 'QCBP', 'QCBP', 'QCBP', 'QCBP', 'QCBP',\n",
       "       'QCBP', 'QCBP', 'QCBP', 'QCBP', 'QCBP', 'QCBP', 'QCBP', 'QCBP', 'QCBP',\n",
       "       'QCBP', 'QCBP', 'QCBP', 'QCBP', 'QCBP', 'QCBP', 'QCBP', 'QCBP', 'QCBP',\n",
       "       'QCBP', 'QCBP', 'QCBP', 'QIBP', 'QIBP', 'QIBP', 'QIBP', 'QIBP', 'QIBP',\n",
       "       'QIBP', 'QIBP', 'QIBP', 'QIBP', 'QIBP', 'QIBP', 'QIBP', 'QIBP', 'QIBP',\n",
       "       'QIBP', 'QIBP', 'QIBP', 'QIBP', 'QIBP', 'QIBP', 'QIBP', 'QIBP', 'QIBP',\n",
       "       'QIBP', 'QIBP', 'QIBP', 'QIBP', 'QIBP', 'QIBP', 'TBP', 'TBP', 'TBP',\n",
       "       'TBP', 'TBP', 'TBP', 'TBP', 'TBP', 'TBP', 'TBP', 'TBP', 'TBP', 'TBP',\n",
       "       'TBP', 'TBP', 'TBP', 'TBP', 'TBP', 'TBP', 'TBP', 'TBP', 'TBP', 'TBP',\n",
       "       'TBP', 'TBP', 'TBP', 'TBP', 'TBP', 'TBP', 'TBP', 'VBP', 'VBP', 'VBP',\n",
       "       'VBP', 'VBP', 'VBP', 'VBP', 'VBP', 'VBP', 'VBP', 'VBP', 'VBP', 'VBP',\n",
       "       'VBP', 'VBP', 'VBP', 'VBP', 'VBP', 'VBP', 'VBP', 'VBP', 'VBP', 'VBP',\n",
       "       'VBP', 'VBP', 'VBP', 'VBP', 'VBP', 'VBP', 'VBP', 'PS', 'SOLIN', 'SHFLX',\n",
       "       'LHFLX'], dtype=object)\n",
       "Coordinates:\n",
       "  * var_names  (var_names) object 'QBP' 'QBP' 'QBP' ... 'SOLIN' 'SHFLX' 'LHFLX'"
      ]
     },
     "execution_count": 70,
     "metadata": {},
     "output_type": "execute_result"
    }
   ],
   "source": [
    "train_gen.input_idxs.var_names[train_gen.input_idxs]"
   ]
  },
  {
   "cell_type": "code",
   "execution_count": 31,
   "metadata": {},
   "outputs": [],
   "source": [
    "tf.enable_eager_execution()"
   ]
  },
  {
   "cell_type": "code",
   "execution_count": 32,
   "metadata": {},
   "outputs": [],
   "source": [
    "from cbrain.utils import return_var_idxs"
   ]
  },
  {
   "cell_type": "code",
   "execution_count": 123,
   "metadata": {},
   "outputs": [],
   "source": [
    "import tensorflow as tf\n",
    "import tensorflow.math as tfm\n",
    "from tensorflow import keras\n",
    "from tensorflow.keras.layers import *\n",
    "import tensorflow.keras.backend as K"
   ]
  },
  {
   "cell_type": "code",
   "execution_count": 46,
   "metadata": {},
   "outputs": [],
   "source": [
    "inp_layer = Input(shape=(154,))\n",
    "out_layer = Dense(218, activation='elu')(inp_layer)\n",
    "model = keras.models.Model(inp_layer, out_layer)"
   ]
  },
  {
   "cell_type": "code",
   "execution_count": 39,
   "metadata": {},
   "outputs": [
    {
     "data": {
      "text/plain": [
       "['QBP', 'QCBP', 'QIBP', 'TBP', 'VBP', 'PS', 'SOLIN', 'SHFLX', 'LHFLX']"
      ]
     },
     "execution_count": 39,
     "metadata": {},
     "output_type": "execute_result"
    }
   ],
   "source": [
    "in_vars"
   ]
  },
  {
   "cell_type": "code",
   "execution_count": 41,
   "metadata": {},
   "outputs": [
    {
     "name": "stdout",
     "output_type": "stream",
     "text": [
      "['PHQ', 'PHCLDLIQ', 'PHCLDICE', 'TPHYSTND', 'QRL', 'QRS', 'DTVKE', 'FSNT', 'FSNS', 'FLNT', 'FLNS', 'PRECT', 'PRECTEND', 'PRECST', 'PRECSTEN']\n"
     ]
    }
   ],
   "source": [
    "print(out_vars)"
   ]
  },
  {
   "cell_type": "code",
   "execution_count": 67,
   "metadata": {},
   "outputs": [],
   "source": [
    "inp_vars_full = train_gen.norm_ds.var_names[train_gen.input_idxs]"
   ]
  },
  {
   "cell_type": "code",
   "execution_count": 124,
   "metadata": {},
   "outputs": [],
   "source": [
    "out_vars_full = train_gen.norm_ds.var_names[train_gen.output_idxs]"
   ]
  },
  {
   "cell_type": "code",
   "execution_count": 336,
   "metadata": {},
   "outputs": [],
   "source": [
    "def return_var_slice(var_names, var):\n",
    "    var_idxs = np.atleast_1d(np.squeeze(np.where(var_names == var)))\n",
    "    return slice(int(var_idxs[0]), int(var_idxs[-1])+1)"
   ]
  },
  {
   "cell_type": "code",
   "execution_count": 337,
   "metadata": {},
   "outputs": [],
   "source": [
    "def compute_dP_tilde(PS, hyai, hybi, PS_div, PS_sub, norm_q):\n",
    "    \"\"\"\n",
    "    Computes dP_tilde in Tom's notation.\n",
    "    PS is the normalized pressure as it is used in the input.\n",
    "    PS_mult and PS_add are the corresponding values to unnormalize PS.\n",
    "    WARNING: Really not sure about norm_q\n",
    "    \"\"\"\n",
    "    PS = PS * PS_div + PS_sub\n",
    "    P = P0 * hyai + PS[:, None] * hybi\n",
    "    dP = P[:, 1:] - P[:, :-1]\n",
    "    dP_norm = norm_q * G / L_V   # Why L_V?\n",
    "    dP_tilde = dP / dP_norm\n",
    "    return dP_tilde"
   ]
  },
  {
   "cell_type": "code",
   "execution_count": 338,
   "metadata": {},
   "outputs": [],
   "source": [
    "class SurRadLayer(Layer):\n",
    "    def __init__(self, inp_div, inp_sub, norm_q, **kwargs):\n",
    "        \"\"\"\n",
    "        Call using ([input, output])\n",
    "        Assumes\n",
    "        prior: [PHQ_nores, PHCLDLIQ, PHCLDICE, TPHYSTND_nores, \n",
    "        QRL, QRS, DTVKE, FSNT, FLNT, PRECT, PRECTEND, PRECST, PRECSTEN]\n",
    "        Returns\n",
    "        post(erior): [PHQ_nores, PHCLDLIQ, PHCLDICE, TPHYSTND_nores, \n",
    "        QRL, QRS, DTVKE, FSNT, FSNS, FLNT, FLNS, PRECT, PRECTEND, PRECST, PRECSTEN]\n",
    "        \"\"\"\n",
    "        self.inp_div, self.inp_sub, self.norm_q = inp_div, inp_sub, norm_q\n",
    "        # Define variable indices here\n",
    "        self.PS_idx = 150\n",
    "        self.QRL_idx = slice(118, 148)  # Odd numbers because residuals\n",
    "        self.QRS_idx = slice(148, 178)  # for Q and T are still missing\n",
    "        self.FSNT_idx = 208\n",
    "        self.FLNT_idx = 209\n",
    "        super().__init__(**kwargs)\n",
    "        \n",
    "    def build(self, input_shape):\n",
    "        super().build(input_shape)\n",
    "        \n",
    "    def call(self, arrs):\n",
    "        inp, prior = arrs\n",
    "        \n",
    "        # 1. Compute dP_tilde\n",
    "        dP_tilde = compute_dP_tilde(\n",
    "            inp[:, self.PS_idx], hyai, hybi, \n",
    "            self.inp_div[self.PS_idx], self.inp_sub[self.PS_idx],\n",
    "            self.norm_q\n",
    "        )\n",
    "        \n",
    "        # 2. Compute radiative integrals\n",
    "        SWINT = K.sum(dP_tilde * prior[:, self.QRS_idx], 1)\n",
    "        LWINT = K.sum(dP_tilde * prior[:, self.QRL_idx], 1)\n",
    "        \n",
    "        # 3. Infer surface fluxes from residual\n",
    "        FSNS = prior[:, self.FSNT_idx] - SWINT\n",
    "        FLNS = prior[:, self.FLNT_idx] + LWINT\n",
    "        \n",
    "        # 4. Concatenate output vector\n",
    "        post = tf.concat([\n",
    "            prior[:, :self.FLNT_idx], FSNS[:, None], \n",
    "            prior[:, self.FSNT_idx][:, None], FLNS[:, None],\n",
    "            prior[:, (self.FLNT_idx+1):]\n",
    "        ], axis=1)\n",
    "        return post\n",
    "    \n",
    "    def compute_output_shape(self, input_shape):\n",
    "        \"\"\"Input shape + 2\"\"\"\n",
    "        return (input_shape[0][0], input_shape[0][1] + 2)"
   ]
  },
  {
   "cell_type": "code",
   "execution_count": 340,
   "metadata": {},
   "outputs": [],
   "source": [
    "inp_layer = Input(shape=(154,))\n",
    "x = Dense(214, activation='elu')(inp_layer)\n",
    "out_layer = SurRadLayer(\n",
    "    inp_div=train_gen.input_transform.maxrs,\n",
    "    inp_sub=train_gen.input_transform.mean,\n",
    "    norm_q=train_gen.output_transform.scale[:30]\n",
    ")([inp_layer, x])\n",
    "model = keras.models.Model(inp_layer, out_layer)"
   ]
  },
  {
   "cell_type": "markdown",
   "metadata": {},
   "source": [
    "#### Test "
   ]
  },
  {
   "cell_type": "code",
   "execution_count": 341,
   "metadata": {},
   "outputs": [
    {
     "data": {
      "text/plain": [
       "(1024, 218)"
      ]
     },
     "execution_count": 341,
     "metadata": {},
     "output_type": "execute_result"
    }
   ],
   "source": [
    "# Create a fake output vector with the correct values\n",
    "Y.shape"
   ]
  },
  {
   "cell_type": "code",
   "execution_count": 342,
   "metadata": {},
   "outputs": [],
   "source": [
    "Y_fake = tf.concat(\n",
    "    [Y[:, 0:29], Y[:, 30:119], Y[:, 120:211], Y[:, 212:213], Y[:, 214:]], 1\n",
    ")"
   ]
  },
  {
   "cell_type": "code",
   "execution_count": 343,
   "metadata": {},
   "outputs": [],
   "source": [
    "ll = model.layers[-1]"
   ]
  },
  {
   "cell_type": "code",
   "execution_count": 344,
   "metadata": {},
   "outputs": [],
   "source": [
    "out_fake = ll([X, Y_fake])"
   ]
  },
  {
   "cell_type": "code",
   "execution_count": 345,
   "metadata": {},
   "outputs": [
    {
     "data": {
      "text/plain": [
       "TensorShape([Dimension(1024), Dimension(216)])"
      ]
     },
     "execution_count": 345,
     "metadata": {},
     "output_type": "execute_result"
    }
   ],
   "source": [
    "out_fake.shape"
   ]
  },
  {
   "cell_type": "code",
   "execution_count": 346,
   "metadata": {},
   "outputs": [],
   "source": [
    "FSNS_fake = out_fake[:, 211].numpy()"
   ]
  },
  {
   "cell_type": "code",
   "execution_count": 347,
   "metadata": {},
   "outputs": [],
   "source": [
    "FSNS_true = Y[:, 213]"
   ]
  },
  {
   "cell_type": "code",
   "execution_count": 348,
   "metadata": {},
   "outputs": [
    {
     "data": {
      "text/plain": [
       "<matplotlib.collections.PathCollection at 0x7feb547766d8>"
      ]
     },
     "execution_count": 348,
     "metadata": {},
     "output_type": "execute_result"
    },
    {
     "data": {
      "image/png": "[encoded data removed]",
      "text/plain": [
       "<Figure size 432x288 with 1 Axes>"
      ]
     },
     "metadata": {
      "needs_background": "light"
     },
     "output_type": "display_data"
    }
   ],
   "source": [
    "plt.scatter(FSNS_fake, FSNS_true)"
   ]
  },
  {
   "cell_type": "markdown",
   "metadata": {},
   "source": [
    "### Mass conservation layer"
   ]
  },
  {
   "cell_type": "code",
   "execution_count": 349,
   "metadata": {},
   "outputs": [
    {
     "data": {
      "text/plain": [
       "slice(153, 154, None)"
      ]
     },
     "execution_count": 349,
     "metadata": {},
     "output_type": "execute_result"
    }
   ],
   "source": [
    "return_var_slice(inp_vars_full, 'LHFLX')"
   ]
  },
  {
   "cell_type": "code",
   "execution_count": 350,
   "metadata": {},
   "outputs": [],
   "source": [
    "class MassConsLayer(Layer):\n",
    "    def __init__(self, inp_div, inp_sub, norm_q, **kwargs):\n",
    "        \"\"\"\n",
    "        Call using ([input, output])\n",
    "        Assumes\n",
    "        prior: [PHQ_nores, PHCLDLIQ, PHCLDICE, TPHYSTND_nores, \n",
    "        QRL, QRS, DTVKE, FSNT, FSNS, FLNT, FLNS, PRECT, PRECTEND, PRECST, PRECSTEN]\n",
    "        Returns\n",
    "        post(erior): [PHQ, PHCLDLIQ, PHCLDICE, TPHYSTND_nores, \n",
    "        QRL, QRS, DTVKE, FSNT, FSNS, FLNT, FLNS, PRECT, PRECTEND, PRECST, PRECSTEN]\n",
    "        \"\"\"\n",
    "        self.inp_div, self.inp_sub, self.norm_q = inp_div, inp_sub, norm_q\n",
    "        # Define variable indices here\n",
    "        # Input\n",
    "        self.PS_idx = 150\n",
    "        self.LHFLX_idx = 153\n",
    "        # Output\n",
    "        self.PHQ_idx = slice(0, 29)   # Residual still missing\n",
    "        self.PHCLDLIQ_idx = slice(29, 59)\n",
    "        self.PHCLDICE_idx = slice(59, 89)\n",
    "        self.PRECT_idx = 212\n",
    "        self.PRECTEND_idx = 213\n",
    "        \n",
    "        super().__init__(**kwargs)\n",
    "        \n",
    "    def build(self, input_shape):\n",
    "        super().build(input_shape)\n",
    "        \n",
    "    def call(self, arrs):\n",
    "        inp, prior = arrs\n",
    "\n",
    "        # 1. Compute dP_tilde\n",
    "        dP_tilde = compute_dP_tilde(\n",
    "            inp[:, self.PS_idx], hyai, hybi, \n",
    "            self.inp_div[self.PS_idx], self.inp_sub[self.PS_idx],\n",
    "            self.norm_q\n",
    "        )\n",
    "        \n",
    "        # 2. Compute vertical cloud water integral\n",
    "        CLDINT = K.sum(dP_tilde * \n",
    "            (prior[:, self.PHCLDLIQ_idx] + prior[:, self.PHCLDICE_idx]), \n",
    "        axis=1)\n",
    "        \n",
    "        # 3. Compute water vapor integral\n",
    "        VAPINT = K.sum(dP_tilde[:, :29] * prior[:, self.PHQ_idx], 1)\n",
    "        \n",
    "        # 4. Compute forcing (see Tom's note for details, I am just copying)\n",
    "        LHFLX = (inp[:, self.LHFLX_idx] * self.inp_div[self.LHFLX_idx] + \n",
    "                 self.inp_sub[self.LHFLX_idx])\n",
    "        PREC = prior[:, self.PRECT_idx] + prior[:, self.PRECTEND_idx]\n",
    "        \n",
    "        # 5. Compute water vapor tendency at level 30 as residual\n",
    "        PHQ30 = (LHFLX - PREC - CLDINT - VAPINT) / dP_tilde[:, 29]\n",
    "        \n",
    "        # 6. Concatenate output vector\n",
    "        post = tf.concat([\n",
    "            prior[:, self.PHQ_idx], PHQ30[:, None], \n",
    "            prior[:, 29:]\n",
    "        ], axis=1)\n",
    "        return post\n",
    "    \n",
    "    def compute_output_shape(self, input_shape):\n",
    "        \"\"\"Input shape + 1\"\"\"\n",
    "        return (input_shape[0][0], input_shape[0][1] + 1)"
   ]
  },
  {
   "cell_type": "markdown",
   "metadata": {},
   "source": [
    "#### Test"
   ]
  },
  {
   "cell_type": "code",
   "execution_count": 351,
   "metadata": {},
   "outputs": [],
   "source": [
    "inp_layer = Input(shape=(154,))\n",
    "x = Dense(214, activation='elu')(inp_layer)\n",
    "x = SurRadLayer(\n",
    "    inp_div=train_gen.input_transform.maxrs,\n",
    "    inp_sub=train_gen.input_transform.mean,\n",
    "    norm_q=train_gen.output_transform.scale[:30]\n",
    ")([inp_layer, x])\n",
    "out_layer = MassConsLayer(\n",
    "    inp_div=train_gen.input_transform.maxrs,\n",
    "    inp_sub=train_gen.input_transform.mean,\n",
    "    norm_q=train_gen.output_transform.scale[:30]\n",
    ")([inp_layer, x])\n",
    "model = keras.models.Model(inp_layer, out_layer)"
   ]
  },
  {
   "cell_type": "code",
   "execution_count": 352,
   "metadata": {},
   "outputs": [],
   "source": [
    "ll = model.layers[-1]"
   ]
  },
  {
   "cell_type": "code",
   "execution_count": 353,
   "metadata": {},
   "outputs": [],
   "source": [
    "out_fake2 = ll([X, out_fake])"
   ]
  },
  {
   "cell_type": "code",
   "execution_count": 354,
   "metadata": {},
   "outputs": [
    {
     "data": {
      "text/plain": [
       "TensorShape([Dimension(1024), Dimension(217)])"
      ]
     },
     "execution_count": 354,
     "metadata": {},
     "output_type": "execute_result"
    }
   ],
   "source": [
    "out_fake2.shape"
   ]
  },
  {
   "cell_type": "code",
   "execution_count": 355,
   "metadata": {},
   "outputs": [],
   "source": [
    "PHQ30_fake = out_fake2[:, 29].numpy()"
   ]
  },
  {
   "cell_type": "code",
   "execution_count": 356,
   "metadata": {},
   "outputs": [],
   "source": [
    "PHQ30_true = Y[:, 29]"
   ]
  },
  {
   "cell_type": "code",
   "execution_count": 357,
   "metadata": {},
   "outputs": [
    {
     "data": {
      "text/plain": [
       "<matplotlib.collections.PathCollection at 0x7feb4c640240>"
      ]
     },
     "execution_count": 357,
     "metadata": {},
     "output_type": "execute_result"
    },
    {
     "data": {
      "image/png": "[encoded data removed]",
      "text/plain": [
       "<Figure size 432x288 with 1 Axes>"
      ]
     },
     "metadata": {
      "needs_background": "light"
     },
     "output_type": "display_data"
    }
   ],
   "source": [
    "plt.scatter(PHQ30_fake, PHQ30_true)"
   ]
  },
  {
   "cell_type": "markdown",
   "metadata": {},
   "source": [
    "### Enthalpy conservation"
   ]
  },
  {
   "cell_type": "code",
   "execution_count": 358,
   "metadata": {},
   "outputs": [],
   "source": [
    "class EntConsLayer(Layer):\n",
    "    def __init__(self, inp_div, inp_sub, norm_q, **kwargs):\n",
    "        \"\"\"\n",
    "        Call using ([input, output])\n",
    "        Assumes\n",
    "        prior: [PHQ, PHCLDLIQ, PHCLDICE, TPHYSTND_nores, \n",
    "        QRL, QRS, DTVKE, FSNT, FSNS, FLNT, FLNS, PRECT, PRECTEND, PRECST, PRECSTEN]\n",
    "        Returns\n",
    "        post(erior): [PHQ, PHCLDLIQ, PHCLDICE, TPHYSTND, \n",
    "        QRL, QRS, DTVKE, FSNT, FSNS, FLNT, FLNS, PRECT, PRECTEND, PRECST, PRECSTEN]\n",
    "        \"\"\"\n",
    "        self.inp_div, self.inp_sub, self.norm_q = inp_div, inp_sub, norm_q\n",
    "        # Define variable indices here\n",
    "        # Input\n",
    "        self.PS_idx = 150\n",
    "        self.SHFLX_idx = 152\n",
    "        self.LHFLX_idx = 153\n",
    "        \n",
    "        # Output\n",
    "        self.PHQ_idx = slice(0, 30)\n",
    "        self.PHCLDLIQ_idx = slice(30, 60)\n",
    "        self.TPHYSTND_idx = slice(90, 119)  # Residual still missing\n",
    "        self.DTVKE_idx = slice(179, 209)\n",
    "        self.FSNT_idx = 209 \n",
    "        self.FSNS_idx = 210\n",
    "        self.FLNT_idx = 211\n",
    "        self.FLNS_idx = 212\n",
    "        self.PRECT_idx = 213\n",
    "        self.PRECTEND_idx = 214\n",
    "        self.PRECST_idx = 215\n",
    "        self.PRECSTEND_idx = 216\n",
    "        \n",
    "        \n",
    "        super().__init__(**kwargs)\n",
    "        \n",
    "    def build(self, input_shape):\n",
    "        super().build(input_shape)\n",
    "        \n",
    "    def call(self, arrs):\n",
    "        inp, prior = arrs\n",
    "\n",
    "        # 1. Compute dP_tilde\n",
    "        dP_tilde = compute_dP_tilde(\n",
    "            inp[:, self.PS_idx], hyai, hybi, \n",
    "            self.inp_div[self.PS_idx], self.inp_sub[self.PS_idx],\n",
    "            self.norm_q\n",
    "        )\n",
    "        \n",
    "        # 2. Compute net energy input from phase change and precipitation\n",
    "        PHAS = L_I / L_V * (\n",
    "            (prior[:, self.PRECST_idx] + prior[:, self.PRECSTEND_idx]) - \n",
    "            (prior[:, self.PRECT_idx] + prior[:, self.PRECTEND_idx])\n",
    "        )\n",
    "        \n",
    "        # 3. Compute net energy input from radiation, SHFLX and TKE\n",
    "        RAD = (prior[:, self.FSNT_idx] - prior[:, self.FSNS_idx] - \n",
    "               prior[:, self.FLNT_idx] + prior[:, self.FLNS_idx])\n",
    "        SHFLX = (inp[:, self.SHFLX_idx] * self.inp_div[self.SHFLX_idx] + \n",
    "                 self.inp_sub[self.SHFLX_idx])\n",
    "        KEDINT = K.sum(dP_tilde * prior[:, self.DTVKE_idx], 1)\n",
    "        \n",
    "        # 4. Compute tendency of vapor due to phase change\n",
    "        LHFLX = (inp[:, self.LHFLX_idx] * self.inp_div[self.LHFLX_idx] + \n",
    "                 self.inp_sub[self.LHFLX_idx])\n",
    "        VAPINT = K.sum(dP_tilde * prior[:, self.PHQ_idx], 1)\n",
    "        SPDQINT = (VAPINT - LHFLX) * L_S / L_V\n",
    "        \n",
    "        # 5. Same for cloud liquid water tendency\n",
    "        SPDQCINT = K.sum(dP_tilde * prior[:, self.PHCLDLIQ_idx], 1) * L_I / L_V\n",
    "        \n",
    "        # 6. And the same for T but remember residual is still missing\n",
    "        DTINT = K.sum(dP_tilde[:, :29] * prior[:, self.TPHYSTND_idx], 1)\n",
    "        \n",
    "        pdb.set_trace()\n",
    "        # 7. Compute DT30 as residual\n",
    "        DT30 = (\n",
    "            PHAS + RAD + SHFLX + KEDINT - SPDQINT - SPDQCINT - DTINT\n",
    "        ) / dP_tilde[:, 29]\n",
    "        \n",
    "        # 8. Concatenate output vector\n",
    "        post = tf.concat([\n",
    "            prior[:, :119], DT30[:, None], prior[:, 119:]\n",
    "        ], axis=1)\n",
    "        return post\n",
    "    \n",
    "    def compute_output_shape(self, input_shape):\n",
    "        \"\"\"Input shape + 1\"\"\"\n",
    "        return (input_shape[0][0], input_shape[0][1] + 1)"
   ]
  },
  {
   "cell_type": "code",
   "execution_count": 359,
   "metadata": {},
   "outputs": [
    {
     "data": {
      "text/plain": [
       "333700.0"
      ]
     },
     "execution_count": 359,
     "metadata": {},
     "output_type": "execute_result"
    }
   ],
   "source": [
    "L_I"
   ]
  },
  {
   "cell_type": "markdown",
   "metadata": {},
   "source": [
    "#### Test"
   ]
  },
  {
   "cell_type": "code",
   "execution_count": 379,
   "metadata": {},
   "outputs": [],
   "source": [
    "inp_layer = Input(shape=(154,))\n",
    "x = Dense(214, activation='elu')(inp_layer)\n",
    "x = SurRadLayer(\n",
    "    inp_div=train_gen.input_transform.maxrs,\n",
    "    inp_sub=train_gen.input_transform.mean,\n",
    "    norm_q=train_gen.output_transform.scale[:30]\n",
    ")([inp_layer, x])\n",
    "x = MassConsLayer(\n",
    "    inp_div=train_gen.input_transform.maxrs,\n",
    "    inp_sub=train_gen.input_transform.mean,\n",
    "    norm_q=train_gen.output_transform.scale[:30]\n",
    ")([inp_layer, x])\n",
    "out_layer = EntConsLayer(\n",
    "    inp_div=train_gen.input_transform.maxrs,\n",
    "    inp_sub=train_gen.input_transform.mean,\n",
    "    norm_q=train_gen.output_transform.scale[:30]\n",
    ")([inp_layer, x])\n",
    "model = keras.models.Model(inp_layer, out_layer)"
   ]
  },
  {
   "cell_type": "code",
   "execution_count": 380,
   "metadata": {},
   "outputs": [],
   "source": [
    "ll = model.layers[-1]"
   ]
  },
  {
   "cell_type": "code",
   "execution_count": 381,
   "metadata": {},
   "outputs": [
    {
     "name": "stdout",
     "output_type": "stream",
     "text": [
      "> <ipython-input-358-593de1bb0c0f>(77)call()\n",
      "-> PHAS + RAD + SHFLX + KEDINT - SPDQINT - SPDQCINT - DTINT\n",
      "(Pdb) q\n"
     ]
    },
    {
     "ename": "BdbQuit",
     "evalue": "",
     "output_type": "error",
     "traceback": [
      "\u001b[0;31m---------------------------------------------------------------------------\u001b[0m",
      "\u001b[0;31mBdbQuit\u001b[0m                                   Traceback (most recent call last)",
      "\u001b[0;32m<ipython-input-381-d51f59c7a8dd>\u001b[0m in \u001b[0;36m<module>\u001b[0;34m\u001b[0m\n\u001b[0;32m----> 1\u001b[0;31m \u001b[0mout_fake3\u001b[0m \u001b[0;34m=\u001b[0m \u001b[0mll\u001b[0m\u001b[0;34m(\u001b[0m\u001b[0;34m[\u001b[0m\u001b[0mX\u001b[0m\u001b[0;34m,\u001b[0m \u001b[0mout_fake2\u001b[0m\u001b[0;34m]\u001b[0m\u001b[0;34m)\u001b[0m\u001b[0;34m\u001b[0m\u001b[0;34m\u001b[0m\u001b[0m\n\u001b[0m",
      "\u001b[0;32m~/miniconda3/envs/tf/lib/python3.6/site-packages/tensorflow/python/keras/engine/base_layer.py\u001b[0m in \u001b[0;36m__call__\u001b[0;34m(self, inputs, *args, **kwargs)\u001b[0m\n\u001b[1;32m    755\u001b[0m       \u001b[0;32mif\u001b[0m \u001b[0;32mnot\u001b[0m \u001b[0min_deferred_mode\u001b[0m\u001b[0;34m:\u001b[0m\u001b[0;34m\u001b[0m\u001b[0;34m\u001b[0m\u001b[0m\n\u001b[1;32m    756\u001b[0m         \u001b[0mself\u001b[0m\u001b[0;34m.\u001b[0m\u001b[0m_in_call\u001b[0m \u001b[0;34m=\u001b[0m \u001b[0;32mTrue\u001b[0m\u001b[0;34m\u001b[0m\u001b[0;34m\u001b[0m\u001b[0m\n\u001b[0;32m--> 757\u001b[0;31m         \u001b[0moutputs\u001b[0m \u001b[0;34m=\u001b[0m \u001b[0mself\u001b[0m\u001b[0;34m.\u001b[0m\u001b[0mcall\u001b[0m\u001b[0;34m(\u001b[0m\u001b[0minputs\u001b[0m\u001b[0;34m,\u001b[0m \u001b[0;34m*\u001b[0m\u001b[0margs\u001b[0m\u001b[0;34m,\u001b[0m \u001b[0;34m**\u001b[0m\u001b[0mkwargs\u001b[0m\u001b[0;34m)\u001b[0m\u001b[0;34m\u001b[0m\u001b[0;34m\u001b[0m\u001b[0m\n\u001b[0m\u001b[1;32m    758\u001b[0m         \u001b[0mself\u001b[0m\u001b[0;34m.\u001b[0m\u001b[0m_in_call\u001b[0m \u001b[0;34m=\u001b[0m \u001b[0;32mFalse\u001b[0m\u001b[0;34m\u001b[0m\u001b[0;34m\u001b[0m\u001b[0m\n\u001b[1;32m    759\u001b[0m         \u001b[0;32mif\u001b[0m \u001b[0moutputs\u001b[0m \u001b[0;32mis\u001b[0m \u001b[0;32mNone\u001b[0m\u001b[0;34m:\u001b[0m\u001b[0;34m\u001b[0m\u001b[0;34m\u001b[0m\u001b[0m\n",
      "\u001b[0;32m<ipython-input-358-593de1bb0c0f>\u001b[0m in \u001b[0;36mcall\u001b[0;34m(self, arrs)\u001b[0m\n\u001b[1;32m     75\u001b[0m         \u001b[0;31m# 7. Compute DT30 as residual\u001b[0m\u001b[0;34m\u001b[0m\u001b[0;34m\u001b[0m\u001b[0;34m\u001b[0m\u001b[0m\n\u001b[1;32m     76\u001b[0m         DT30 = (\n\u001b[0;32m---> 77\u001b[0;31m             \u001b[0mPHAS\u001b[0m \u001b[0;34m+\u001b[0m \u001b[0mRAD\u001b[0m \u001b[0;34m+\u001b[0m \u001b[0mSHFLX\u001b[0m \u001b[0;34m+\u001b[0m \u001b[0mKEDINT\u001b[0m \u001b[0;34m-\u001b[0m \u001b[0mSPDQINT\u001b[0m \u001b[0;34m-\u001b[0m \u001b[0mSPDQCINT\u001b[0m \u001b[0;34m-\u001b[0m \u001b[0mDTINT\u001b[0m\u001b[0;34m\u001b[0m\u001b[0;34m\u001b[0m\u001b[0m\n\u001b[0m\u001b[1;32m     78\u001b[0m         ) / dP_tilde[:, 29]\n\u001b[1;32m     79\u001b[0m \u001b[0;34m\u001b[0m\u001b[0m\n",
      "\u001b[0;32m<ipython-input-358-593de1bb0c0f>\u001b[0m in \u001b[0;36mcall\u001b[0;34m(self, arrs)\u001b[0m\n\u001b[1;32m     75\u001b[0m         \u001b[0;31m# 7. Compute DT30 as residual\u001b[0m\u001b[0;34m\u001b[0m\u001b[0;34m\u001b[0m\u001b[0;34m\u001b[0m\u001b[0m\n\u001b[1;32m     76\u001b[0m         DT30 = (\n\u001b[0;32m---> 77\u001b[0;31m             \u001b[0mPHAS\u001b[0m \u001b[0;34m+\u001b[0m \u001b[0mRAD\u001b[0m \u001b[0;34m+\u001b[0m \u001b[0mSHFLX\u001b[0m \u001b[0;34m+\u001b[0m \u001b[0mKEDINT\u001b[0m \u001b[0;34m-\u001b[0m \u001b[0mSPDQINT\u001b[0m \u001b[0;34m-\u001b[0m \u001b[0mSPDQCINT\u001b[0m \u001b[0;34m-\u001b[0m \u001b[0mDTINT\u001b[0m\u001b[0;34m\u001b[0m\u001b[0;34m\u001b[0m\u001b[0m\n\u001b[0m\u001b[1;32m     78\u001b[0m         ) / dP_tilde[:, 29]\n\u001b[1;32m     79\u001b[0m \u001b[0;34m\u001b[0m\u001b[0m\n",
      "\u001b[0;32m~/miniconda3/envs/tf/lib/python3.6/bdb.py\u001b[0m in \u001b[0;36mtrace_dispatch\u001b[0;34m(self, frame, event, arg)\u001b[0m\n\u001b[1;32m     49\u001b[0m             \u001b[0;32mreturn\u001b[0m \u001b[0;31m# None\u001b[0m\u001b[0;34m\u001b[0m\u001b[0;34m\u001b[0m\u001b[0m\n\u001b[1;32m     50\u001b[0m         \u001b[0;32mif\u001b[0m \u001b[0mevent\u001b[0m \u001b[0;34m==\u001b[0m \u001b[0;34m'line'\u001b[0m\u001b[0;34m:\u001b[0m\u001b[0;34m\u001b[0m\u001b[0;34m\u001b[0m\u001b[0m\n\u001b[0;32m---> 51\u001b[0;31m             \u001b[0;32mreturn\u001b[0m \u001b[0mself\u001b[0m\u001b[0;34m.\u001b[0m\u001b[0mdispatch_line\u001b[0m\u001b[0;34m(\u001b[0m\u001b[0mframe\u001b[0m\u001b[0;34m)\u001b[0m\u001b[0;34m\u001b[0m\u001b[0;34m\u001b[0m\u001b[0m\n\u001b[0m\u001b[1;32m     52\u001b[0m         \u001b[0;32mif\u001b[0m \u001b[0mevent\u001b[0m \u001b[0;34m==\u001b[0m \u001b[0;34m'call'\u001b[0m\u001b[0;34m:\u001b[0m\u001b[0;34m\u001b[0m\u001b[0;34m\u001b[0m\u001b[0m\n\u001b[1;32m     53\u001b[0m             \u001b[0;32mreturn\u001b[0m \u001b[0mself\u001b[0m\u001b[0;34m.\u001b[0m\u001b[0mdispatch_call\u001b[0m\u001b[0;34m(\u001b[0m\u001b[0mframe\u001b[0m\u001b[0;34m,\u001b[0m \u001b[0marg\u001b[0m\u001b[0;34m)\u001b[0m\u001b[0;34m\u001b[0m\u001b[0;34m\u001b[0m\u001b[0m\n",
      "\u001b[0;32m~/miniconda3/envs/tf/lib/python3.6/bdb.py\u001b[0m in \u001b[0;36mdispatch_line\u001b[0;34m(self, frame)\u001b[0m\n\u001b[1;32m     68\u001b[0m         \u001b[0;32mif\u001b[0m \u001b[0mself\u001b[0m\u001b[0;34m.\u001b[0m\u001b[0mstop_here\u001b[0m\u001b[0;34m(\u001b[0m\u001b[0mframe\u001b[0m\u001b[0;34m)\u001b[0m \u001b[0;32mor\u001b[0m \u001b[0mself\u001b[0m\u001b[0;34m.\u001b[0m\u001b[0mbreak_here\u001b[0m\u001b[0;34m(\u001b[0m\u001b[0mframe\u001b[0m\u001b[0;34m)\u001b[0m\u001b[0;34m:\u001b[0m\u001b[0;34m\u001b[0m\u001b[0;34m\u001b[0m\u001b[0m\n\u001b[1;32m     69\u001b[0m             \u001b[0mself\u001b[0m\u001b[0;34m.\u001b[0m\u001b[0muser_line\u001b[0m\u001b[0;34m(\u001b[0m\u001b[0mframe\u001b[0m\u001b[0;34m)\u001b[0m\u001b[0;34m\u001b[0m\u001b[0;34m\u001b[0m\u001b[0m\n\u001b[0;32m---> 70\u001b[0;31m             \u001b[0;32mif\u001b[0m \u001b[0mself\u001b[0m\u001b[0;34m.\u001b[0m\u001b[0mquitting\u001b[0m\u001b[0;34m:\u001b[0m \u001b[0;32mraise\u001b[0m \u001b[0mBdbQuit\u001b[0m\u001b[0;34m\u001b[0m\u001b[0;34m\u001b[0m\u001b[0m\n\u001b[0m\u001b[1;32m     71\u001b[0m         \u001b[0;32mreturn\u001b[0m \u001b[0mself\u001b[0m\u001b[0;34m.\u001b[0m\u001b[0mtrace_dispatch\u001b[0m\u001b[0;34m\u001b[0m\u001b[0;34m\u001b[0m\u001b[0m\n\u001b[1;32m     72\u001b[0m \u001b[0;34m\u001b[0m\u001b[0m\n",
      "\u001b[0;31mBdbQuit\u001b[0m: "
     ]
    }
   ],
   "source": [
    "out_fake3 = ll([X, out_fake2])"
   ]
  },
  {
   "cell_type": "code",
   "execution_count": 363,
   "metadata": {},
   "outputs": [
    {
     "data": {
      "text/plain": [
       "TensorShape([Dimension(1024), Dimension(218)])"
      ]
     },
     "execution_count": 363,
     "metadata": {},
     "output_type": "execute_result"
    }
   ],
   "source": [
    "out_fake3.shape"
   ]
  },
  {
   "cell_type": "code",
   "execution_count": 364,
   "metadata": {},
   "outputs": [],
   "source": [
    "DT30_fake = out_fake3[:, 119].numpy()"
   ]
  },
  {
   "cell_type": "code",
   "execution_count": 365,
   "metadata": {},
   "outputs": [],
   "source": [
    "DT30_true = Y[:, 119]"
   ]
  },
  {
   "cell_type": "code",
   "execution_count": 366,
   "metadata": {},
   "outputs": [
    {
     "data": {
      "text/plain": [
       "<matplotlib.collections.PathCollection at 0x7feb4c5cb208>"
      ]
     },
     "execution_count": 366,
     "metadata": {},
     "output_type": "execute_result"
    },
    {
     "data": {
      "image/png": "[encoded data removed]",
      "text/plain": [
       "<Figure size 432x288 with 1 Axes>"
      ]
     },
     "metadata": {
      "needs_background": "light"
     },
     "output_type": "display_data"
    }
   ],
   "source": [
    "plt.scatter(DT30_fake, DT30_true)"
   ]
  },
  {
   "cell_type": "code",
   "execution_count": 321,
   "metadata": {},
   "outputs": [],
   "source": [
    "class EntConsLay2(Layer):\n",
    "    \n",
    "    def __init__(self, fsub, fdiv, normq, output_dim, **kwargs):\n",
    "        self.fsub = fsub # Subtraction for normalization of inputs \n",
    "        self.fdiv = fdiv # Division for normalization of inputs\n",
    "        self.normq = normq # Normalization of output's water concentration\n",
    "        self.hyai = hyai # CAM constants to calculate d_pressure\n",
    "        self.hybi = hybi # CAM constants to calculate d_pressure\n",
    "        self.output_dim = output_dim # Dimension of output\n",
    "        super().__init__(**kwargs)\n",
    "        \n",
    "    def build(self, input_shape):\n",
    "        super().build(input_shape)  # Be sure to call this somewhere!\n",
    "        \n",
    "    # tgb - 2/6/2019 - following https://github.com/keras-team/keras/issues/4871\n",
    "    def get_config(self):\n",
    "        config = {'fsub': list(self.fsub), 'fdiv': list(self.fdiv),\n",
    "                  'normq': list(self.normq), 'hyai': list(self.hyai),\n",
    "                  'hybi': list(self.hybi), 'output_dim': self.output_dim}\n",
    "        base_config = super(EntConsLay, self).get_config()\n",
    "        return dict(list(base_config.items()) + list(config.items()))\n",
    "        \n",
    "    def call(self, arrs):\n",
    "        \n",
    "        # Split between the inputs inp & the output of the densely connected\n",
    "        # neural network, massout\n",
    "        inp, massout = arrs\n",
    "        \n",
    "        # 0) Constants\n",
    "        G = 9.80616; # Reference gravity constant [m.s-2]\n",
    "        L_F = 3.337e5; # Latent heat of fusion of water [W.kg-1]\n",
    "        L_V = 2.501e6; # Latent heat of vaporization of water [W.kg-1]\n",
    "        P0 = 1e5; # Reference surface pressure [Pa]\n",
    "        \n",
    "        # 1) Get non-dimensional pressure differences (p_tilde above)\n",
    "        # In the input vector, PS is the 151st element after \n",
    "        # the first elements = [QBP, ..., VBP with shape 30*5=150]\n",
    "        PS = tfm.add( tfm.multiply( inp[:,150], self.fdiv[150]), self.fsub[150])\n",
    "        # Reference for calculation of d_pressure is cbrain/models.py (e.g. QLayer)\n",
    "        P = tfm.add( tfm.multiply( P0, self.hyai), \\\n",
    "                    tfm.multiply( PS[:,None], self.hybi))\n",
    "        dP = tfm.subtract( P[:, 1:], P[:, :-1])\n",
    "        # norm_output = dp_norm * L_V/G so dp_norm = norm_output * G/L_V\n",
    "        dP_NORM = tfm.divide( \\\n",
    "                             tfm.multiply(self.normq[:30], \\\n",
    "                                          G),\\\n",
    "                             L_V)\n",
    "        # dp_tilde = dp/dp_norm\n",
    "        dP_TILD = tfm.divide( dP, dP_NORM)\n",
    "        \n",
    "        # 2) Calculate net energy input from phase change and precipitation\n",
    "        # PHAS = Lf/Lv*((PRECST+PRECSTEN)-(PRECT+PRECTEND))\n",
    "        PHAS = tfm.divide( tfm.multiply( tfm.subtract(\\\n",
    "                                                      tfm.add( massout[:,215], massout[:,216]),\\\n",
    "                                                      tfm.add( massout[:,213], massout[:,214])),\\\n",
    "                                        L_F),\\\n",
    "                          L_V)\n",
    "        \n",
    "        # 3) Calculate net energy input from radiation, sensible heat flux and turbulent KE\n",
    "        # 3.1) RAD = FSNT-FSNS-FLNT+FLNS\n",
    "        RAD = tfm.add(\\\n",
    "                      tfm.subtract( massout[:,209], massout[:,210]),\\\n",
    "                      tfm.subtract( massout[:,212], massout[:,211]))\n",
    "        # 3.2) Unnormalize sensible heat flux\n",
    "        SHF = tfm.add( tfm.multiply( inp[:,152], self.fdiv[152]), self.fsub[152])\n",
    "        # 3.3) Net turbulent kinetic energy dissipative heating is the column-integrated \n",
    "        # turbulent kinetic energy energy dissipative heating\n",
    "        # tgb - 3/20/2019 - Error here, it should be \n",
    "        KEDVEC = tfm.multiply( dP_TILD, massout[:, 179:209])\n",
    "        KEDINT = tfm.reduce_sum( KEDVEC, axis=1)\n",
    "        \n",
    "        # 4) Calculate tendency of normalized column water vapor due to phase change\n",
    "        # 4.1) Unnormalize latent heat flux\n",
    "        LHF = tfm.add( tfm.multiply( inp[:,153], self.fdiv[153]), self.fsub[153])\n",
    "        # 4.2) Column water vapor is the column integral of specific humidity\n",
    "        PHQVEC = tfm.multiply( dP_TILD, massout[:, :30])\n",
    "        PHQINT = tfm.reduce_sum( PHQVEC, axis=1)\n",
    "        # 4.3) Multiply by L_S/L_V to normalize (explanation above)\n",
    "        SPDQINT = tfm.divide( tfm.multiply( tfm.subtract(\\\n",
    "                                                         PHQINT, LHF),\\\n",
    "                                           L_S),\\\n",
    "                             L_V)\n",
    "        \n",
    "        # 5) Same operation for liquid water tendency but multiplied by L_F/L_V\n",
    "        SPDQCINT = tfm.divide( tfm.multiply(\\\n",
    "                                            tfm.reduce_sum(\\\n",
    "                                                           tfm.multiply( dP_TILD, massout[:, 30:60]),\\\n",
    "                                                           axis=1),\\\n",
    "                                            L_F),\\\n",
    "                              L_V)\n",
    "        \n",
    "        # 6) Same operation for temperature but only integrate from level 1 to level 29\n",
    "        DTINT = tfm.reduce_sum( tfm.multiply( dP_TILD[:, :29], massout[:, 90:119]), axis=1)\n",
    "        \n",
    "        pdb.set_trace()\n",
    "        # 7) Now calculate dT30 as a residual\n",
    "        dT30 = tfm.divide(tfm.add(tfm.add(tfm.add(tfm.add(tfm.add(tfm.add(\\\n",
    "                                                                          PHAS,RAD),\\\n",
    "                                                                  SHF),\\\n",
    "                                                          KEDINT),\\\n",
    "                                                  tfm.negative( SPDQINT)),\\\n",
    "                                          tfm.negative( SPDQCINT)),\\\n",
    "                                  tfm.negative( DTINT)),\\\n",
    "                          dP_TILD[:, 29])\n",
    "        dT30 = tf.expand_dims(dT30,1)\n",
    "\n",
    "        out = tf.concat([massout[:, :119], dT30, massout[:, 119:]], 1)\n",
    "        return out\n",
    "    \n",
    "    def compute_output_shape(self, input_shape):\n",
    "        # tgb - 2/7/2019 - Wrap the returned output shape in Tensorshape\n",
    "        # to avoid problems with custom layers & eager execution\n",
    "        # https://github.com/tensorflow/tensorflow/issues/20805\n",
    "        return tf.TensorShape((input_shape[0][0], self.output_dim))\n",
    "    # and is ready to be used in the cost function"
   ]
  },
  {
   "cell_type": "code",
   "execution_count": 382,
   "metadata": {},
   "outputs": [],
   "source": [
    "inp_layer = Input(shape=(154,))\n",
    "x = Dense(214, activation='elu')(inp_layer)\n",
    "x = SurRadLayer(\n",
    "    inp_div=train_gen.input_transform.maxrs,\n",
    "    inp_sub=train_gen.input_transform.mean,\n",
    "    norm_q=train_gen.output_transform.scale[:30]\n",
    ")([inp_layer, x])\n",
    "x = MassConsLayer(\n",
    "    inp_div=train_gen.input_transform.maxrs,\n",
    "    inp_sub=train_gen.input_transform.mean,\n",
    "    norm_q=train_gen.output_transform.scale[:30]\n",
    ")([inp_layer, x])\n",
    "out_layer = EntConsLay2(\n",
    "    fdiv=train_gen.input_transform.maxrs,\n",
    "    fsub=train_gen.input_transform.mean,\n",
    "    normq=scale_dict['PHQ'].astype(np.float32), output_dim=218\n",
    ")([inp_layer, x])\n",
    "model2 = keras.models.Model(inp_layer, out_layer)"
   ]
  },
  {
   "cell_type": "code",
   "execution_count": 387,
   "metadata": {},
   "outputs": [
    {
     "data": {
      "text/plain": [
       "array([7.0811688e+07, 1.3074195e+08, 2.1416968e+08, 3.0895507e+08,\n",
       "       3.8762454e+08, 4.4520458e+08, 4.4321341e+08, 3.6317274e+08,\n",
       "       4.2725363e+08, 5.0264179e+08, 5.9133267e+08, 6.9567130e+08,\n",
       "       8.1842189e+08, 9.6283091e+08, 1.1327208e+09, 1.3325876e+09,\n",
       "       1.5677192e+09, 1.8443416e+09, 2.1697718e+09, 2.1706404e+09,\n",
       "       1.9922214e+09, 1.6811766e+09, 1.2494747e+09, 7.2336026e+08,\n",
       "       6.7864000e+08, 6.2842355e+08, 5.7302906e+08, 5.1279840e+08,\n",
       "       4.4820285e+08, 3.7970432e+08], dtype=float32)"
      ]
     },
     "execution_count": 387,
     "metadata": {},
     "output_type": "execute_result"
    }
   ],
   "source": [
    "train_gen.output_transform.scale[:30]"
   ]
  },
  {
   "cell_type": "code",
   "execution_count": 388,
   "metadata": {},
   "outputs": [
    {
     "data": {
      "text/plain": [
       "array([7.08116868e+07, 1.30741954e+08, 2.14169680e+08, 3.08955070e+08,\n",
       "       3.87624540e+08, 4.45204562e+08, 4.43213412e+08, 3.63172740e+08,\n",
       "       4.27253619e+08, 5.02641782e+08, 5.91332654e+08, 6.95671302e+08,\n",
       "       8.18421887e+08, 9.62830941e+08, 1.13272077e+09, 1.33258767e+09,\n",
       "       1.56771913e+09, 1.84434160e+09, 2.16977190e+09, 2.17064049e+09,\n",
       "       1.99222141e+09, 1.68117657e+09, 1.24947462e+09, 7.23360228e+08,\n",
       "       6.78639973e+08, 6.28423533e+08, 5.73029078e+08, 5.12798397e+08,\n",
       "       4.48202842e+08, 3.79704310e+08])"
      ]
     },
     "execution_count": 388,
     "metadata": {},
     "output_type": "execute_result"
    }
   ],
   "source": [
    "scale_dict['PHQ']"
   ]
  },
  {
   "cell_type": "code",
   "execution_count": 383,
   "metadata": {},
   "outputs": [],
   "source": [
    "ll2 = model2.layers[-1]"
   ]
  },
  {
   "cell_type": "code",
   "execution_count": 384,
   "metadata": {},
   "outputs": [],
   "source": [
    "hyai = hyai.astype(np.float32)\n",
    "hybi = hybi.astype(np.float32)"
   ]
  },
  {
   "cell_type": "code",
   "execution_count": 385,
   "metadata": {},
   "outputs": [
    {
     "data": {
      "text/plain": [
       "array([7.0811688e+07, 1.3074195e+08, 2.1416968e+08, 3.0895507e+08,\n",
       "       3.8762454e+08, 4.4520458e+08, 4.4321341e+08, 3.6317274e+08,\n",
       "       4.2725363e+08, 5.0264179e+08, 5.9133267e+08, 6.9567130e+08,\n",
       "       8.1842189e+08, 9.6283091e+08, 1.1327208e+09, 1.3325876e+09,\n",
       "       1.5677192e+09, 1.8443416e+09, 2.1697718e+09, 2.1706404e+09,\n",
       "       1.9922214e+09, 1.6811766e+09, 1.2494747e+09, 7.2336026e+08,\n",
       "       6.7864000e+08, 6.2842355e+08, 5.7302906e+08, 5.1279840e+08,\n",
       "       4.4820285e+08, 3.7970432e+08], dtype=float32)"
      ]
     },
     "execution_count": 385,
     "metadata": {},
     "output_type": "execute_result"
    }
   ],
   "source": [
    "train_gen.output_transform.scale[:30]"
   ]
  },
  {
   "cell_type": "code",
   "execution_count": 386,
   "metadata": {},
   "outputs": [
    {
     "name": "stdout",
     "output_type": "stream",
     "text": [
      "> <ipython-input-321-c0dbd134a84f>(97)call()\n",
      "-> dT30 = tfm.divide(tfm.add(tfm.add(tfm.add(tfm.add(tfm.add(tfm.add(\\\n",
      "(Pdb) LHF\n",
      "<tf.Tensor: id=3591, shape=(1024,), dtype=float32, numpy=\n",
      "array([10.795265 ,  9.885124 ,  9.976654 , ...,  5.9862595,  5.794075 ,\n",
      "        7.4533844], dtype=float32)>\n",
      "(Pdb) SHF\n",
      "<tf.Tensor: id=3579, shape=(1024,), dtype=float32, numpy=\n",
      "array([2.809968 , 2.6887646, 2.6617403, ..., 3.8638382, 3.0577135,\n",
      "       3.1232214], dtype=float32)>\n",
      "(Pdb) massout[:, 118]\n",
      "<tf.Tensor: id=3631, shape=(1024,), dtype=float32, numpy=\n",
      "array([ 0.1898794 ,  0.1279246 , -0.0102492 , ..., -3.5304146 ,\n",
      "       -0.44280943, -3.1046317 ], dtype=float32)>\n",
      "(Pdb) DTINT\n",
      "<tf.Tensor: id=3625, shape=(1024,), dtype=float32, numpy=\n",
      "array([ -53.75788 ,  -58.306942,  -48.08096 , ..., -214.1302  ,\n",
      "       -236.15115 , -207.4589  ], dtype=float32)>\n",
      "(Pdb) RAD\n",
      "<tf.Tensor: id=3574, shape=(1024,), dtype=float32, numpy=\n",
      "array([-194.66122, -202.39868, -208.534  , ...,   34.89212,   30.97436,\n",
      "         33.67174], dtype=float32)>\n",
      "(Pdb) SPDQINT\n",
      "<tf.Tensor: id=3603, shape=(1024,), dtype=float32, numpy=\n",
      "array([ 6.9780946, 14.085532 ,  5.894656 , ..., 47.25956  , 74.95957  ,\n",
      "       69.1852   ], dtype=float32)>\n",
      "(Pdb) SPDQCINT\n",
      "<tf.Tensor: id=3614, shape=(1024,), dtype=float32, numpy=\n",
      "array([-0.5190963 , -1.2452904 , -0.46919227, ..., -3.1199896 ,\n",
      "       -4.6086693 , -8.195962  ], dtype=float32)>\n",
      "(Pdb) PHAS\n",
      "<tf.Tensor: id=3555, shape=(1024,), dtype=float32, numpy=\n",
      "array([ 0.0000000e+00,  0.0000000e+00,  0.0000000e+00, ...,\n",
      "       -8.6998545e-02, -7.3768222e-04, -2.2904198e-06], dtype=float32)>\n",
      "(Pdb) KEDINT\n",
      "<tf.Tensor: id=3586, shape=(1024,), dtype=float32, numpy=\n",
      "array([0.00590296, 0.00345272, 0.00173846, ..., 0.02258512, 0.05705295,\n",
      "       0.12915237], dtype=float32)>\n",
      "(Pdb) n\n",
      "> <ipython-input-321-c0dbd134a84f>(98)call()\n",
      "-> PHAS,RAD),\\\n",
      "(Pdb) n\n",
      "> <ipython-input-321-c0dbd134a84f>(99)call()\n",
      "-> SHF),\\\n",
      "(Pdb) n\n",
      "> <ipython-input-321-c0dbd134a84f>(100)call()\n",
      "-> KEDINT),\\\n",
      "(Pdb) n\n",
      "> <ipython-input-321-c0dbd134a84f>(101)call()\n",
      "-> tfm.negative( SPDQINT)),\\\n",
      "(Pdb) n\n",
      "> <ipython-input-321-c0dbd134a84f>(102)call()\n",
      "-> tfm.negative( SPDQCINT)),\\\n",
      "(Pdb) n\n",
      "> <ipython-input-321-c0dbd134a84f>(103)call()\n",
      "-> tfm.negative( DTINT)),\\\n",
      "(Pdb) n\n",
      "> <ipython-input-321-c0dbd134a84f>(104)call()\n",
      "-> dP_TILD[:, 29])\n",
      "(Pdb) n\n",
      "> <ipython-input-321-c0dbd134a84f>(105)call()\n",
      "-> dT30 = tf.expand_dims(dT30,1)\n",
      "(Pdb) dT30\n",
      "<tf.Tensor: id=3652, shape=(1024,), dtype=float32, numpy=\n",
      "array([-144.97934, -154.6984 , -163.69862, ...,  210.58394,  201.61632,\n",
      "        184.83995], dtype=float32)>\n",
      "(Pdb) q\n"
     ]
    },
    {
     "ename": "BdbQuit",
     "evalue": "",
     "output_type": "error",
     "traceback": [
      "\u001b[0;31m---------------------------------------------------------------------------\u001b[0m",
      "\u001b[0;31mBdbQuit\u001b[0m                                   Traceback (most recent call last)",
      "\u001b[0;32m<ipython-input-386-f7458605a20a>\u001b[0m in \u001b[0;36m<module>\u001b[0;34m\u001b[0m\n\u001b[0;32m----> 1\u001b[0;31m \u001b[0mout_fake32\u001b[0m \u001b[0;34m=\u001b[0m \u001b[0mll2\u001b[0m\u001b[0;34m(\u001b[0m\u001b[0;34m[\u001b[0m\u001b[0mX\u001b[0m\u001b[0;34m,\u001b[0m \u001b[0mout_fake2\u001b[0m\u001b[0;34m]\u001b[0m\u001b[0;34m)\u001b[0m\u001b[0;34m\u001b[0m\u001b[0;34m\u001b[0m\u001b[0m\n\u001b[0m",
      "\u001b[0;32m~/miniconda3/envs/tf/lib/python3.6/site-packages/tensorflow/python/keras/engine/base_layer.py\u001b[0m in \u001b[0;36m__call__\u001b[0;34m(self, inputs, *args, **kwargs)\u001b[0m\n\u001b[1;32m    755\u001b[0m       \u001b[0;32mif\u001b[0m \u001b[0;32mnot\u001b[0m \u001b[0min_deferred_mode\u001b[0m\u001b[0;34m:\u001b[0m\u001b[0;34m\u001b[0m\u001b[0;34m\u001b[0m\u001b[0m\n\u001b[1;32m    756\u001b[0m         \u001b[0mself\u001b[0m\u001b[0;34m.\u001b[0m\u001b[0m_in_call\u001b[0m \u001b[0;34m=\u001b[0m \u001b[0;32mTrue\u001b[0m\u001b[0;34m\u001b[0m\u001b[0;34m\u001b[0m\u001b[0m\n\u001b[0;32m--> 757\u001b[0;31m         \u001b[0moutputs\u001b[0m \u001b[0;34m=\u001b[0m \u001b[0mself\u001b[0m\u001b[0;34m.\u001b[0m\u001b[0mcall\u001b[0m\u001b[0;34m(\u001b[0m\u001b[0minputs\u001b[0m\u001b[0;34m,\u001b[0m \u001b[0;34m*\u001b[0m\u001b[0margs\u001b[0m\u001b[0;34m,\u001b[0m \u001b[0;34m**\u001b[0m\u001b[0mkwargs\u001b[0m\u001b[0;34m)\u001b[0m\u001b[0;34m\u001b[0m\u001b[0;34m\u001b[0m\u001b[0m\n\u001b[0m\u001b[1;32m    758\u001b[0m         \u001b[0mself\u001b[0m\u001b[0;34m.\u001b[0m\u001b[0m_in_call\u001b[0m \u001b[0;34m=\u001b[0m \u001b[0;32mFalse\u001b[0m\u001b[0;34m\u001b[0m\u001b[0;34m\u001b[0m\u001b[0m\n\u001b[1;32m    759\u001b[0m         \u001b[0;32mif\u001b[0m \u001b[0moutputs\u001b[0m \u001b[0;32mis\u001b[0m \u001b[0;32mNone\u001b[0m\u001b[0;34m:\u001b[0m\u001b[0;34m\u001b[0m\u001b[0;34m\u001b[0m\u001b[0m\n",
      "\u001b[0;32m<ipython-input-321-c0dbd134a84f>\u001b[0m in \u001b[0;36mcall\u001b[0;34m(self, arrs)\u001b[0m\n\u001b[1;32m    103\u001b[0m                                   tfm.negative( DTINT)),\\\n\u001b[1;32m    104\u001b[0m                           dP_TILD[:, 29])\n\u001b[0;32m--> 105\u001b[0;31m         \u001b[0mdT30\u001b[0m \u001b[0;34m=\u001b[0m \u001b[0mtf\u001b[0m\u001b[0;34m.\u001b[0m\u001b[0mexpand_dims\u001b[0m\u001b[0;34m(\u001b[0m\u001b[0mdT30\u001b[0m\u001b[0;34m,\u001b[0m\u001b[0;36m1\u001b[0m\u001b[0;34m)\u001b[0m\u001b[0;34m\u001b[0m\u001b[0;34m\u001b[0m\u001b[0m\n\u001b[0m\u001b[1;32m    106\u001b[0m \u001b[0;34m\u001b[0m\u001b[0m\n\u001b[1;32m    107\u001b[0m         \u001b[0mout\u001b[0m \u001b[0;34m=\u001b[0m \u001b[0mtf\u001b[0m\u001b[0;34m.\u001b[0m\u001b[0mconcat\u001b[0m\u001b[0;34m(\u001b[0m\u001b[0;34m[\u001b[0m\u001b[0mmassout\u001b[0m\u001b[0;34m[\u001b[0m\u001b[0;34m:\u001b[0m\u001b[0;34m,\u001b[0m \u001b[0;34m:\u001b[0m\u001b[0;36m119\u001b[0m\u001b[0;34m]\u001b[0m\u001b[0;34m,\u001b[0m \u001b[0mdT30\u001b[0m\u001b[0;34m,\u001b[0m \u001b[0mmassout\u001b[0m\u001b[0;34m[\u001b[0m\u001b[0;34m:\u001b[0m\u001b[0;34m,\u001b[0m \u001b[0;36m119\u001b[0m\u001b[0;34m:\u001b[0m\u001b[0;34m]\u001b[0m\u001b[0;34m]\u001b[0m\u001b[0;34m,\u001b[0m \u001b[0;36m1\u001b[0m\u001b[0;34m)\u001b[0m\u001b[0;34m\u001b[0m\u001b[0;34m\u001b[0m\u001b[0m\n",
      "\u001b[0;32m<ipython-input-321-c0dbd134a84f>\u001b[0m in \u001b[0;36mcall\u001b[0;34m(self, arrs)\u001b[0m\n\u001b[1;32m    103\u001b[0m                                   tfm.negative( DTINT)),\\\n\u001b[1;32m    104\u001b[0m                           dP_TILD[:, 29])\n\u001b[0;32m--> 105\u001b[0;31m         \u001b[0mdT30\u001b[0m \u001b[0;34m=\u001b[0m \u001b[0mtf\u001b[0m\u001b[0;34m.\u001b[0m\u001b[0mexpand_dims\u001b[0m\u001b[0;34m(\u001b[0m\u001b[0mdT30\u001b[0m\u001b[0;34m,\u001b[0m\u001b[0;36m1\u001b[0m\u001b[0;34m)\u001b[0m\u001b[0;34m\u001b[0m\u001b[0;34m\u001b[0m\u001b[0m\n\u001b[0m\u001b[1;32m    106\u001b[0m \u001b[0;34m\u001b[0m\u001b[0m\n\u001b[1;32m    107\u001b[0m         \u001b[0mout\u001b[0m \u001b[0;34m=\u001b[0m \u001b[0mtf\u001b[0m\u001b[0;34m.\u001b[0m\u001b[0mconcat\u001b[0m\u001b[0;34m(\u001b[0m\u001b[0;34m[\u001b[0m\u001b[0mmassout\u001b[0m\u001b[0;34m[\u001b[0m\u001b[0;34m:\u001b[0m\u001b[0;34m,\u001b[0m \u001b[0;34m:\u001b[0m\u001b[0;36m119\u001b[0m\u001b[0;34m]\u001b[0m\u001b[0;34m,\u001b[0m \u001b[0mdT30\u001b[0m\u001b[0;34m,\u001b[0m \u001b[0mmassout\u001b[0m\u001b[0;34m[\u001b[0m\u001b[0;34m:\u001b[0m\u001b[0;34m,\u001b[0m \u001b[0;36m119\u001b[0m\u001b[0;34m:\u001b[0m\u001b[0;34m]\u001b[0m\u001b[0;34m]\u001b[0m\u001b[0;34m,\u001b[0m \u001b[0;36m1\u001b[0m\u001b[0;34m)\u001b[0m\u001b[0;34m\u001b[0m\u001b[0;34m\u001b[0m\u001b[0m\n",
      "\u001b[0;32m~/miniconda3/envs/tf/lib/python3.6/bdb.py\u001b[0m in \u001b[0;36mtrace_dispatch\u001b[0;34m(self, frame, event, arg)\u001b[0m\n\u001b[1;32m     49\u001b[0m             \u001b[0;32mreturn\u001b[0m \u001b[0;31m# None\u001b[0m\u001b[0;34m\u001b[0m\u001b[0;34m\u001b[0m\u001b[0m\n\u001b[1;32m     50\u001b[0m         \u001b[0;32mif\u001b[0m \u001b[0mevent\u001b[0m \u001b[0;34m==\u001b[0m \u001b[0;34m'line'\u001b[0m\u001b[0;34m:\u001b[0m\u001b[0;34m\u001b[0m\u001b[0;34m\u001b[0m\u001b[0m\n\u001b[0;32m---> 51\u001b[0;31m             \u001b[0;32mreturn\u001b[0m \u001b[0mself\u001b[0m\u001b[0;34m.\u001b[0m\u001b[0mdispatch_line\u001b[0m\u001b[0;34m(\u001b[0m\u001b[0mframe\u001b[0m\u001b[0;34m)\u001b[0m\u001b[0;34m\u001b[0m\u001b[0;34m\u001b[0m\u001b[0m\n\u001b[0m\u001b[1;32m     52\u001b[0m         \u001b[0;32mif\u001b[0m \u001b[0mevent\u001b[0m \u001b[0;34m==\u001b[0m \u001b[0;34m'call'\u001b[0m\u001b[0;34m:\u001b[0m\u001b[0;34m\u001b[0m\u001b[0;34m\u001b[0m\u001b[0m\n\u001b[1;32m     53\u001b[0m             \u001b[0;32mreturn\u001b[0m \u001b[0mself\u001b[0m\u001b[0;34m.\u001b[0m\u001b[0mdispatch_call\u001b[0m\u001b[0;34m(\u001b[0m\u001b[0mframe\u001b[0m\u001b[0;34m,\u001b[0m \u001b[0marg\u001b[0m\u001b[0;34m)\u001b[0m\u001b[0;34m\u001b[0m\u001b[0;34m\u001b[0m\u001b[0m\n",
      "\u001b[0;32m~/miniconda3/envs/tf/lib/python3.6/bdb.py\u001b[0m in \u001b[0;36mdispatch_line\u001b[0;34m(self, frame)\u001b[0m\n\u001b[1;32m     68\u001b[0m         \u001b[0;32mif\u001b[0m \u001b[0mself\u001b[0m\u001b[0;34m.\u001b[0m\u001b[0mstop_here\u001b[0m\u001b[0;34m(\u001b[0m\u001b[0mframe\u001b[0m\u001b[0;34m)\u001b[0m \u001b[0;32mor\u001b[0m \u001b[0mself\u001b[0m\u001b[0;34m.\u001b[0m\u001b[0mbreak_here\u001b[0m\u001b[0;34m(\u001b[0m\u001b[0mframe\u001b[0m\u001b[0;34m)\u001b[0m\u001b[0;34m:\u001b[0m\u001b[0;34m\u001b[0m\u001b[0;34m\u001b[0m\u001b[0m\n\u001b[1;32m     69\u001b[0m             \u001b[0mself\u001b[0m\u001b[0;34m.\u001b[0m\u001b[0muser_line\u001b[0m\u001b[0;34m(\u001b[0m\u001b[0mframe\u001b[0m\u001b[0;34m)\u001b[0m\u001b[0;34m\u001b[0m\u001b[0;34m\u001b[0m\u001b[0m\n\u001b[0;32m---> 70\u001b[0;31m             \u001b[0;32mif\u001b[0m \u001b[0mself\u001b[0m\u001b[0;34m.\u001b[0m\u001b[0mquitting\u001b[0m\u001b[0;34m:\u001b[0m \u001b[0;32mraise\u001b[0m \u001b[0mBdbQuit\u001b[0m\u001b[0;34m\u001b[0m\u001b[0;34m\u001b[0m\u001b[0m\n\u001b[0m\u001b[1;32m     71\u001b[0m         \u001b[0;32mreturn\u001b[0m \u001b[0mself\u001b[0m\u001b[0;34m.\u001b[0m\u001b[0mtrace_dispatch\u001b[0m\u001b[0;34m\u001b[0m\u001b[0;34m\u001b[0m\u001b[0m\n\u001b[1;32m     72\u001b[0m \u001b[0;34m\u001b[0m\u001b[0m\n",
      "\u001b[0;31mBdbQuit\u001b[0m: "
     ]
    }
   ],
   "source": [
    "out_fake32 = ll2([X, out_fake2])"
   ]
  },
  {
   "cell_type": "code",
   "execution_count": 329,
   "metadata": {},
   "outputs": [
    {
     "data": {
      "text/plain": [
       "TensorShape([Dimension(1024), Dimension(218)])"
      ]
     },
     "execution_count": 329,
     "metadata": {},
     "output_type": "execute_result"
    }
   ],
   "source": [
    "out_fake32.shape"
   ]
  },
  {
   "cell_type": "code",
   "execution_count": 330,
   "metadata": {},
   "outputs": [],
   "source": [
    "DT30_fake = out_fake32[:, 119].numpy()"
   ]
  },
  {
   "cell_type": "code",
   "execution_count": 331,
   "metadata": {},
   "outputs": [],
   "source": [
    "DT30_true = Y[:, 119]"
   ]
  },
  {
   "cell_type": "code",
   "execution_count": 332,
   "metadata": {},
   "outputs": [
    {
     "data": {
      "text/plain": [
       "<matplotlib.collections.PathCollection at 0x7feb54641f98>"
      ]
     },
     "execution_count": 332,
     "metadata": {},
     "output_type": "execute_result"
    },
    {
     "data": {
      "image/png": "[encoded data removed]",
      "text/plain": [
       "<Figure size 432x288 with 1 Axes>"
      ]
     },
     "metadata": {
      "needs_background": "light"
     },
     "output_type": "display_data"
    }
   ],
   "source": [
    "plt.scatter(DT30_fake, DT30_true)"
   ]
  },
  {
   "cell_type": "code",
   "execution_count": null,
   "metadata": {},
   "outputs": [],
   "source": []
  }
 ],
 "metadata": {
  "kernelspec": {
   "display_name": "Python 3",
   "language": "python",
   "name": "python3"
  },
  "language_info": {
   "codemirror_mode": {
    "name": "ipython",
    "version": 3
   },
   "file_extension": ".py",
   "mimetype": "text/x-python",
   "name": "python",
   "nbconvert_exporter": "python",
   "pygments_lexer": "ipython3",
   "version": "3.6.8"
  },
  "toc": {
   "base_numbering": 1,
   "nav_menu": {},
   "number_sections": true,
   "sideBar": false,
   "skip_h1_title": true,
   "title_cell": "Table of Contents",
   "title_sidebar": "Contents",
   "toc_cell": false,
   "toc_position": {},
   "toc_section_display": true,
   "toc_window_display": false
  }
 },
 "nbformat": 4,
 "nbformat_minor": 2
}
