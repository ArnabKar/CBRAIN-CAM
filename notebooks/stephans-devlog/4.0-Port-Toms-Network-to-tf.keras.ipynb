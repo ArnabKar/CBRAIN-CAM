{
 "cells": [
  {
   "cell_type": "markdown",
   "metadata": {},
   "source": [
    "# Energy conserving network in tf.keras\n",
    "\n",
    "This is using https://github.com/tbeucler/CBRAIN-CAM/blob/master/notebooks/tbeucler_devlog/005_Predicting_convective_and_radiative_heating_profiles.ipynb\n",
    "\n"
   ]
  },
  {
   "cell_type": "code",
   "execution_count": 1,
   "metadata": {},
   "outputs": [],
   "source": [
    "%load_ext autoreload\n",
    "%autoreload 2"
   ]
  },
  {
   "cell_type": "code",
   "execution_count": 6,
   "metadata": {},
   "outputs": [],
   "source": [
    "from cbrain.imports import *"
   ]
  },
  {
   "cell_type": "markdown",
   "metadata": {},
   "source": [
    "## Preprocess "
   ]
  },
  {
   "cell_type": "code",
   "execution_count": 2,
   "metadata": {},
   "outputs": [
    {
     "name": "stdout",
     "output_type": "stream",
     "text": [
      "2019-03-29 16:01:45.366202: I tensorflow/core/platform/cpu_feature_guard.cc:141] Your CPU supports instructions that this TensorFlow binary was not compiled to use: SSE4.1 SSE4.2 AVX AVX2 AVX512F FMA\n",
      "2019-03-29 16:01:45.494983: I tensorflow/core/common_runtime/gpu/gpu_device.cc:1432] Found device 0 with properties: \n",
      "name: GeForce GTX 1080 major: 6 minor: 1 memoryClockRate(GHz): 1.7335\n",
      "pciBusID: 0000:b3:00.0\n",
      "totalMemory: 7.93GiB freeMemory: 6.40GiB\n",
      "2019-03-29 16:01:45.495015: I tensorflow/core/common_runtime/gpu/gpu_device.cc:1511] Adding visible gpu devices: 0\n",
      "2019-03-29 16:01:45.940114: I tensorflow/core/common_runtime/gpu/gpu_device.cc:982] Device interconnect StreamExecutor with strength 1 edge matrix:\n",
      "2019-03-29 16:01:45.940148: I tensorflow/core/common_runtime/gpu/gpu_device.cc:988]      0 \n",
      "2019-03-29 16:01:45.940155: I tensorflow/core/common_runtime/gpu/gpu_device.cc:1001] 0:   N \n",
      "2019-03-29 16:01:45.940469: I tensorflow/core/common_runtime/gpu/gpu_device.cc:1115] Created TensorFlow device (/job:localhost/replica:0/task:0/device:GPU:0 with 6163 MB memory) -> physical GPU (device: 0, name: GeForce GTX 1080, pci bus id: 0000:b3:00.0, compute capability: 6.1)\n",
      "03/29/2019 04:01:45 PM Preprocess training dataset\n",
      "03/29/2019 04:01:45 PM Start preprocessing file /local/S.Rasp/preprocessed_data/002_train.nc\n",
      "03/29/2019 04:01:45 PM Reading input files\n",
      "03/29/2019 04:01:46 PM Crop levels\n",
      "03/29/2019 04:01:46 PM Create stacked dataarray\n",
      "These time steps are cut: []\n",
      "03/29/2019 04:01:46 PM Stack and reshape dataarray\n",
      "03/29/2019 04:01:48 PM Save dataarray as /local/S.Rasp/preprocessed_data/002_train.nc\n",
      "03/29/2019 04:03:24 PM Done!\n",
      "03/29/2019 04:03:24 PM Shuffle training dataset\n",
      "03/29/2019 04:03:24 PM Start shuffling /local/S.Rasp/preprocessed_data/002_train.nc into /local/S.Rasp/preprocessed_data/002_train_shuffle.nc. Open and create datasets.\n",
      "03/29/2019 04:03:24 PM Shuffle!\n",
      "100%|█████████████████████████████████████████████| 1/1 [00:13<00:00, 13.84s/it]\n",
      "03/29/2019 04:03:38 PM Closing datasets\n",
      "03/29/2019 04:03:46 PM Done!\n",
      "03/29/2019 04:03:46 PM Preprocess validation dataset\n",
      "03/29/2019 04:03:46 PM Start preprocessing file /local/S.Rasp/preprocessed_data/002_valid.nc\n",
      "03/29/2019 04:03:46 PM Reading input files\n",
      "03/29/2019 04:04:08 PM Crop levels\n",
      "03/29/2019 04:04:08 PM Create stacked dataarray\n",
      "These time steps are cut: []\n",
      "03/29/2019 04:04:08 PM Stack and reshape dataarray\n",
      "03/29/2019 04:04:10 PM Save dataarray as /local/S.Rasp/preprocessed_data/002_valid.nc\n",
      "03/29/2019 04:05:55 PM Done!\n",
      "03/29/2019 04:05:55 PM Compute normalization file from train\n",
      "03/29/2019 04:05:55 PM Start normalizing by creating dataset.\n",
      "03/29/2019 04:05:55 PM Compute standard normalizations.\n",
      "03/29/2019 04:07:11 PM Saving normalization file as /local/S.Rasp/preprocessed_data/002_norm.nc\n",
      "03/29/2019 04:07:11 PM Done!\n",
      "03/29/2019 04:07:11 PM Finish entire preprocessing script.\n"
     ]
    }
   ],
   "source": [
    "!python ../../preprocessing.py -c ../../pp_config/002_32col_tom.yml"
   ]
  },
  {
   "cell_type": "markdown",
   "metadata": {},
   "source": [
    "## Output normalization using Pressure levels\n",
    "\n",
    "Using the dict normalizer"
   ]
  },
  {
   "cell_type": "code",
   "execution_count": 2,
   "metadata": {},
   "outputs": [],
   "source": [
    "out_vars = ['PHQ', 'PHCLDLIQ', 'PHCLDICE', 'TPHYSTND', 'QRL', 'QRS', 'DTVKE', \n",
    "            'FSNT', 'FSNS', 'FLNT', 'FLNS', 'PRECT', 'PRECTEND', 'PRECST', 'PRECSTEN']"
   ]
  },
  {
   "cell_type": "code",
   "execution_count": 3,
   "metadata": {},
   "outputs": [],
   "source": [
    "from cbrain.cam_constants import *"
   ]
  },
  {
   "cell_type": "code",
   "execution_count": 4,
   "metadata": {},
   "outputs": [],
   "source": [
    "scale_dict = {\n",
    "    'PHQ': L_V/G, \n",
    "    'PHCLDLIQ': L_V/G, \n",
    "    'PHCLDICE': L_V/G, \n",
    "    'TPHYSTND': C_P/G, \n",
    "    'QRL': C_P/G, \n",
    "    'QRS': C_P/G, \n",
    "    'DTVKE': C_P/G, \n",
    "    'FSNT': 1, \n",
    "    'FSNS': 1, \n",
    "    'FLNT': 1, \n",
    "    'FLNS': 1, \n",
    "    'PRECT': RHO_L*L_V, \n",
    "    'PRECTEND': 1e-3*RHO_L*L_V, \n",
    "    'PRECST': RHO_L*L_V, \n",
    "    'PRECSTEN': 1e-3*RHO_L*L_V\n",
    "}"
   ]
  },
  {
   "cell_type": "code",
   "execution_count": 7,
   "metadata": {},
   "outputs": [],
   "source": [
    "with open(os.path.join(os.path.dirname('../../cbrain/'), 'hyai_hybi.pkl'), 'rb') as f:\n",
    "    hyai, hybi = pickle.load(f)"
   ]
  },
  {
   "cell_type": "code",
   "execution_count": 8,
   "metadata": {},
   "outputs": [],
   "source": [
    "# Takes representative value for PS since purpose is normalization\n",
    "PS = 1e5; P0 = 1e5;\n",
    "P = P0*hyai+PS*hybi; # Total pressure [Pa]\n",
    "dP = P[1:]-P[:-1]; # Differential pressure [Pa]  "
   ]
  },
  {
   "cell_type": "code",
   "execution_count": 10,
   "metadata": {},
   "outputs": [
    {
     "data": {
      "text/plain": [
       "(30,)"
      ]
     },
     "execution_count": 10,
     "metadata": {},
     "output_type": "execute_result"
    }
   ],
   "source": [
    "dP.shape"
   ]
  },
  {
   "cell_type": "code",
   "execution_count": 11,
   "metadata": {},
   "outputs": [],
   "source": [
    "for v in ['PHQ', 'PHCLDLIQ', 'PHCLDICE', 'TPHYSTND', 'QRL', 'QRS']:\n",
    "    scale_dict[v] *= dP\n",
    "scale_dict['DTVKE'] *= (dP/DT)"
   ]
  },
  {
   "cell_type": "code",
   "execution_count": 33,
   "metadata": {},
   "outputs": [],
   "source": [
    "from cbrain.data_generator import DataGenerator\n",
    "from cbrain.normalization import DictNormalizer"
   ]
  },
  {
   "cell_type": "code",
   "execution_count": 34,
   "metadata": {},
   "outputs": [],
   "source": [
    "in_vars = ['QBP', 'QCBP', 'QIBP', 'TBP', 'VBP', 'PS', 'SOLIN', 'SHFLX', 'LHFLX']"
   ]
  },
  {
   "cell_type": "code",
   "execution_count": 40,
   "metadata": {},
   "outputs": [],
   "source": [
    "train_gen = DataGenerator(\n",
    "    data_fn = '/local/S.Rasp/preprocessed_data/002_train.nc',\n",
    "    input_vars = in_vars,\n",
    "    output_vars = out_vars,\n",
    "    norm_fn = '/local/S.Rasp/preprocessed_data/002_norm.nc',\n",
    "    input_transform = 'max_rs',\n",
    "    output_transform = scale_dict,\n",
    "    batch_size=1024,\n",
    "    shuffle=True\n",
    ")"
   ]
  },
  {
   "cell_type": "code",
   "execution_count": 41,
   "metadata": {},
   "outputs": [],
   "source": [
    "X, Y = train_gen[0]"
   ]
  },
  {
   "cell_type": "code",
   "execution_count": 47,
   "metadata": {},
   "outputs": [
    {
     "data": {
      "text/plain": [
       "[<matplotlib.lines.Line2D at 0x7f9dfc2dceb8>]"
      ]
     },
     "execution_count": 47,
     "metadata": {},
     "output_type": "execute_result"
    },
    {
     "data": {
      "image/png": "[encoded data removed]",
      "text/plain": [
       "<Figure size 432x288 with 1 Axes>"
      ]
     },
     "metadata": {
      "needs_background": "light"
     },
     "output_type": "display_data"
    }
   ],
   "source": [
    "plt.plot(np.mean(np.abs(Y), 0))"
   ]
  },
  {
   "cell_type": "markdown",
   "metadata": {},
   "source": [
    "## Build the model"
   ]
  },
  {
   "cell_type": "code",
   "execution_count": null,
   "metadata": {},
   "outputs": [],
   "source": []
  }
 ],
 "metadata": {
  "kernelspec": {
   "display_name": "Python 3",
   "language": "python",
   "name": "python3"
  },
  "language_info": {
   "codemirror_mode": {
    "name": "ipython",
    "version": 3
   },
   "file_extension": ".py",
   "mimetype": "text/x-python",
   "name": "python",
   "nbconvert_exporter": "python",
   "pygments_lexer": "ipython3",
   "version": "3.6.8"
  },
  "toc": {
   "base_numbering": 1,
   "nav_menu": {},
   "number_sections": true,
   "sideBar": false,
   "skip_h1_title": true,
   "title_cell": "Table of Contents",
   "title_sidebar": "Contents",
   "toc_cell": false,
   "toc_position": {},
   "toc_section_display": true,
   "toc_window_display": false
  }
 },
 "nbformat": 4,
 "nbformat_minor": 2
}
