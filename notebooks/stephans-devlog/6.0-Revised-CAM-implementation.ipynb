{
 "cells": [
  {
   "cell_type": "markdown",
   "metadata": {},
   "source": [
    "# Improve CAM implementation\n",
    "\n",
    "Start with PNAS version:\n",
    "\n",
    "```\n",
    "inputs: [QBP, TBP, VBP, PS, SOLIN, SHFLX, LHFLX]\n",
    "outputs: [PHQ, TPHYSTND, FSNT, FSNS, FLNT, FLNS, PRECT]\n",
    "```\n",
    "\n",
    "Changes to make in NN subroutines\n",
    "- init_keras_norm() same name but different read format probably\n",
    "- init_keras_matrices() change name, make dynamic?\n",
    "- no more IFDEF DEEP\n",
    "- cloudbrain rename\n",
    "\n",
    "ATTENTION:\n",
    "- units of T and Q output\n",
    "\n",
    "\n",
    "TO COMPILE:\n",
    "```\n",
    "module unload intel\n",
    "module load intel/17.0.4\n",
    "```"
   ]
  },
  {
   "cell_type": "markdown",
   "metadata": {},
   "source": [
    "## Old moisture and energy fixes\n",
    "\n",
    "```\n",
    "#ifdef MOISTUREFIX\n",
    "  \n",
    "  !!!!! PART 1: MOISTURE FIX !!!!!!!\n",
    "  do i=1,ncol\n",
    "    ! Step 0: Set negative tendencies to 0\n",
    "    !ptend(c)%q(i,k,1) = max(ptend(c)%q(i,k,1), -1.*QBP(c,i,k)/ztodt)\n",
    "\n",
    "    ! Step 1: Convert to energy stuff\n",
    "    do k=1,pver\n",
    "      idq(k) = ptend(c)%q(i,k,1) * state(c)%pdel(i,k) * rgrav\n",
    "    end do\n",
    "\n",
    "    ! Step 2: Vertically integrate normal and absolute\n",
    "    vdq = 0.\n",
    "    avdq = 0.\n",
    "    do k=1,pver\n",
    "      vdq = vdq + idq(k)\n",
    "      avdq = avdq + abs(idq(k))\n",
    "    end do\n",
    "\n",
    "    ! Step 3: Get the total moisture error\n",
    "    errq(i,c) = vdq - lhf(i, c)/latvap + NNPRECT(i, c)*1e3\n",
    "    abstot = avdq + abs(NNPRECT(i, c)*1e3)\n",
    "#ifdef BRAINDEBUG\n",
    "    if (masterproc) then\n",
    "      write (555,*) 'errq = ', errq(i,c)\n",
    "      write (555,*) 'avdq = ', avdq\n",
    "      write (555,*) 'abs precl = ', abs(NNPRECT(i, c)*1e3)\n",
    "    endif\n",
    "#endif\n",
    "\n",
    "    ! Step 4: Apply the correction term\n",
    "    do k=1,pver\n",
    "      corr = errq(i,c) * abs(idq(k)) / abstot\n",
    "      ptend(c)%q(i,k,1) = ptend(c)%q(i,k,1) - corr / state(c)%pdel(i,k) * gravit\n",
    "    end do\n",
    "    corr = errq(i,c) * abs(NNPRECT(i,c)*1e3) / abstot\n",
    "    NNPRECT(i,c) = NNPRECT(i,c) - corr/1e3\n",
    "end do ! column loop\n",
    "  call outfld('ERRQ',errq(:ncol,c),pcols,lchnk)\n",
    "#endif\n",
    "\n",
    "#ifdef MSEFIX\n",
    "  !!!!!!!!! PART 2: MSE FIX !!!!!!!!!!!!!!!\n",
    "  do i=1,ncol\n",
    "    ! Step 1: Convert to energy stuff\n",
    "    do k=1,pver\n",
    "      idq(k) = ptend(c)%q(i,k,1) * state(c)%pdel(i,k) * rgrav * latvap\n",
    "      idt(k) = ptend(c)%s(i,k) * state(c)%pdel(i,k) * rgrav\n",
    "    end do\n",
    "\n",
    "    ! Step 2: Vertically integrate normal and absolute\n",
    "    vdq = 0.\n",
    "    avdq = 0.\n",
    "    vdt = 0.\n",
    "    avdt = 0.\n",
    "    do k=1,pver\n",
    "      vdq = vdq + idq(k)\n",
    "      avdq = avdq + abs(idq(k))\n",
    "      vdt = vdt + idt(k)\n",
    "      avdt = avdt + abs(idt(k))\n",
    "    end do\n",
    "\n",
    "    ! Step 3: Get the total moisture error\n",
    "    drad = in_fsnt(i,c) - in_fsns(i,c) - in_flnt(i,c) + in_flns(i,c)\n",
    "    absrad = abs(in_fsnt(i,c)) + abs(in_fsns(i,c)) + abs(in_flnt(i,c)) + abs(in_flns(i,c))\n",
    "    errt(i,c) = vdt - shf(i,c) - drad + vdq - lhf(i,c)\n",
    "    abstot = avdt + absrad\n",
    "#ifdef BRAINDEBUG\n",
    "    if (masterproc) then\n",
    "      write (555,*) 'errt = ', errt(i,c)\n",
    "      write (555,*) 'avdt = ', avdt\n",
    "      write (555,*) 'absrad = ', absrad\n",
    "    endif\n",
    "#endif\n",
    "\n",
    "    ! Step 4: Apply the correction term\n",
    "    do k=1,pver\n",
    "      corr = errt(i,c) * abs(idt(k)) / abstot\n",
    "      ptend(c)%s(i,k) = ptend(c)%s(i,k) - corr / state(c)%pdel(i,k) * gravit\n",
    "    end do\n",
    "    corr = errt(i,c) * abs(in_fsnt(i,c)) / abstot\n",
    "    in_fsnt(i,c) = in_fsnt(i,c) + corr \n",
    "    corr = errt(i,c) * abs(in_fsns(i,c)) / abstot\n",
    "    in_fsns(i,c) = in_fsns(i,c) - corr\n",
    "    corr = errt(i,c) * abs(in_flnt(i,c)) / abstot\n",
    "    in_flnt(i,c) = in_flnt(i,c) - corr\n",
    "    corr = errt(i,c) * abs(in_flns(i,c)) / abstot\n",
    "    in_flns(i,c) = in_flns(i,c) + corr\n",
    "\n",
    "  end do  ! end column loop\n",
    "  call outfld('ERRT',errt(:ncol,c),pcols,lchnk)\n",
    "! end MSE if\n",
    "#endif\n",
    "```"
   ]
  },
  {
   "cell_type": "code",
   "execution_count": 1,
   "metadata": {},
   "outputs": [
    {
     "data": {
      "text/plain": [
       "22"
      ]
     },
     "execution_count": 1,
     "metadata": {},
     "output_type": "execute_result"
    }
   ],
   "source": [
    "len('./keras_matrices/layer')"
   ]
  },
  {
   "cell_type": "code",
   "execution_count": 2,
   "metadata": {},
   "outputs": [
    {
     "data": {
      "text/plain": [
       "9"
      ]
     },
     "execution_count": 2,
     "metadata": {},
     "output_type": "execute_result"
    }
   ],
   "source": [
    "len('_bias.txt')"
   ]
  },
  {
   "cell_type": "code",
   "execution_count": 3,
   "metadata": {},
   "outputs": [
    {
     "data": {
      "text/plain": [
       "11"
      ]
     },
     "execution_count": 3,
     "metadata": {},
     "output_type": "execute_result"
    }
   ],
   "source": [
    "len('_kernel.txt')"
   ]
  },
  {
   "cell_type": "code",
   "execution_count": 4,
   "metadata": {},
   "outputs": [
    {
     "data": {
      "text/plain": [
       "32"
      ]
     },
     "execution_count": 4,
     "metadata": {},
     "output_type": "execute_result"
    }
   ],
   "source": [
    "len('./keras_matrices/layer1_bias.txt')"
   ]
  },
  {
   "cell_type": "code",
   "execution_count": 5,
   "metadata": {},
   "outputs": [
    {
     "data": {
      "text/plain": [
       "34"
      ]
     },
     "execution_count": 5,
     "metadata": {},
     "output_type": "execute_result"
    }
   ],
   "source": [
    "len('./keras_matrices/layer1_kernel.txt')"
   ]
  },
  {
   "cell_type": "markdown",
   "metadata": {},
   "source": [
    "To implement a namelist switch"
   ]
  },
  {
   "cell_type": "markdown",
   "metadata": {},
   "source": [
    "## Debugging"
   ]
  },
  {
   "cell_type": "code",
   "execution_count": 34,
   "metadata": {},
   "outputs": [],
   "source": [
    "from cbrain.imports import *\n",
    "from cbrain.data_generator import *\n",
    "from cbrain.utils import *\n",
    "from cbrain.normalization import *\n",
    "%matplotlib inline"
   ]
  },
  {
   "cell_type": "code",
   "execution_count": 2,
   "metadata": {},
   "outputs": [],
   "source": [
    "CAMDIR = '/scratch/05488/tg847872/revision_debug/'"
   ]
  },
  {
   "cell_type": "code",
   "execution_count": 3,
   "metadata": {},
   "outputs": [
    {
     "data": {
      "text/plain": [
       "<xarray.Dataset>\n",
       "Dimensions:       (crm_x: 8, crm_y: 1, crm_z: 28, ilev: 31, isccp_prs: 7, isccp_prstau: 49, isccp_tau: 7, lat: 64, lev: 30, lon: 128, tbnd: 2, time: 6)\n",
       "Coordinates:\n",
       "  * lat           (lat) float64 -87.86 -85.1 -82.31 -79.53 ... 82.31 85.1 87.86\n",
       "  * lon           (lon) float64 0.0 2.812 5.625 8.438 ... 351.6 354.4 357.2\n",
       "  * crm_x         (crm_x) float64 0.0 4.0 8.0 12.0 16.0 20.0 24.0 28.0\n",
       "  * crm_y         (crm_y) float64 0.0\n",
       "  * crm_z         (crm_z) float64 992.6 976.3 957.5 936.2 ... 38.27 24.61 14.36\n",
       "  * lev           (lev) float64 3.643 7.595 14.36 24.61 ... 957.5 976.3 992.6\n",
       "  * ilev          (ilev) float64 2.255 5.032 10.16 18.56 ... 967.5 985.1 1e+03\n",
       "  * isccp_prs     (isccp_prs) float64 90.0 245.0 375.0 500.0 620.0 740.0 900.0\n",
       "  * isccp_tau     (isccp_tau) float64 0.15 0.8 2.45 6.5 16.2 41.5 219.5\n",
       "  * isccp_prstau  (isccp_prstau) float64 90.0 90.0 90.0 ... 900.0 900.0 900.2\n",
       "  * time          (time) float64 0.0 0.02083 0.04167 0.0625 0.08333 0.1042\n",
       "Dimensions without coordinates: tbnd\n",
       "Data variables:\n",
       "    P0            (time) float64 1e+05 1e+05 1e+05 1e+05 1e+05 1e+05\n",
       "    time_bnds     (time, tbnd) float64 dask.array<shape=(6, 2), chunksize=(1, 2)>\n",
       "    date_written  (time) |S8 dask.array<shape=(6,), chunksize=(1,)>\n",
       "    time_written  (time) |S8 dask.array<shape=(6,), chunksize=(1,)>\n",
       "    ntrm          (time) int32 63 63 63 63 63 63\n",
       "    ntrn          (time) int32 63 63 63 63 63 63\n",
       "    ntrk          (time) int32 63 63 63 63 63 63\n",
       "    ndbase        (time) int32 0 0 0 0 0 0\n",
       "    nsbase        (time) int32 0 0 0 0 0 0\n",
       "    nbdate        (time) int32 101 101 101 101 101 101\n",
       "    nbsec         (time) int32 0 0 0 0 0 0\n",
       "    mdt           (time) int32 1800 1800 1800 1800 1800 1800\n",
       "    nlon          (time, lat) int32 dask.array<shape=(6, 64), chunksize=(1, 64)>\n",
       "    wnummax       (time, lat) int32 dask.array<shape=(6, 64), chunksize=(1, 64)>\n",
       "    hyai          (time, ilev) float64 dask.array<shape=(6, 31), chunksize=(1, 31)>\n",
       "    hybi          (time, ilev) float64 dask.array<shape=(6, 31), chunksize=(1, 31)>\n",
       "    hyam          (time, lev) float64 dask.array<shape=(6, 30), chunksize=(1, 30)>\n",
       "    hybm          (time, lev) float64 dask.array<shape=(6, 30), chunksize=(1, 30)>\n",
       "    gw            (time, lat) float64 dask.array<shape=(6, 64), chunksize=(1, 64)>\n",
       "    ndcur         (time) int32 dask.array<shape=(6,), chunksize=(1,)>\n",
       "    nscur         (time) int32 dask.array<shape=(6,), chunksize=(1,)>\n",
       "    date          (time) int32 dask.array<shape=(6,), chunksize=(1,)>\n",
       "    datesec       (time) int32 dask.array<shape=(6,), chunksize=(1,)>\n",
       "    nsteph        (time) int32 dask.array<shape=(6,), chunksize=(1,)>\n",
       "    DTV           (time, lev, lat, lon) float32 dask.array<shape=(6, 30, 64, 128), chunksize=(1, 30, 64, 128)>\n",
       "    DTVKE         (time, lev, lat, lon) float32 dask.array<shape=(6, 30, 64, 128), chunksize=(1, 30, 64, 128)>\n",
       "    ENGYCORR      (time, lev, lat, lon) float32 dask.array<shape=(6, 30, 64, 128), chunksize=(1, 30, 64, 128)>\n",
       "    ERRQ          (time, lat, lon) float32 dask.array<shape=(6, 64, 128), chunksize=(1, 64, 128)>\n",
       "    ERRT          (time, lat, lon) float32 dask.array<shape=(6, 64, 128), chunksize=(1, 64, 128)>\n",
       "    FLNS          (time, lat, lon) float32 dask.array<shape=(6, 64, 128), chunksize=(1, 64, 128)>\n",
       "    FLNT          (time, lat, lon) float32 dask.array<shape=(6, 64, 128), chunksize=(1, 64, 128)>\n",
       "    FSNS          (time, lat, lon) float32 dask.array<shape=(6, 64, 128), chunksize=(1, 64, 128)>\n",
       "    FSNT          (time, lat, lon) float32 dask.array<shape=(6, 64, 128), chunksize=(1, 64, 128)>\n",
       "    LHFLX         (time, lat, lon) float32 dask.array<shape=(6, 64, 128), chunksize=(1, 64, 128)>\n",
       "    NNDQ          (time, lev, lat, lon) float32 dask.array<shape=(6, 30, 64, 128), chunksize=(1, 30, 64, 128)>\n",
       "    NNDT          (time, lev, lat, lon) float32 dask.array<shape=(6, 30, 64, 128), chunksize=(1, 30, 64, 128)>\n",
       "    NNFLNS        (time, lat, lon) float32 dask.array<shape=(6, 64, 128), chunksize=(1, 64, 128)>\n",
       "    NNFLNT        (time, lat, lon) float32 dask.array<shape=(6, 64, 128), chunksize=(1, 64, 128)>\n",
       "    NNFSNS        (time, lat, lon) float32 dask.array<shape=(6, 64, 128), chunksize=(1, 64, 128)>\n",
       "    NNFSNT        (time, lat, lon) float32 dask.array<shape=(6, 64, 128), chunksize=(1, 64, 128)>\n",
       "    NNLHF         (time, lat, lon) float32 dask.array<shape=(6, 64, 128), chunksize=(1, 64, 128)>\n",
       "    NNPRECT       (time, lat, lon) float32 dask.array<shape=(6, 64, 128), chunksize=(1, 64, 128)>\n",
       "    NNPS          (time, lat, lon) float32 dask.array<shape=(6, 64, 128), chunksize=(1, 64, 128)>\n",
       "    NNQBP         (time, lev, lat, lon) float32 dask.array<shape=(6, 30, 64, 128), chunksize=(1, 30, 64, 128)>\n",
       "    NNSHF         (time, lat, lon) float32 dask.array<shape=(6, 64, 128), chunksize=(1, 64, 128)>\n",
       "    NNSOLIN       (time, lat, lon) float32 dask.array<shape=(6, 64, 128), chunksize=(1, 64, 128)>\n",
       "    NNTBP         (time, lev, lat, lon) float32 dask.array<shape=(6, 30, 64, 128), chunksize=(1, 30, 64, 128)>\n",
       "    NNVBP         (time, lev, lat, lon) float32 dask.array<shape=(6, 30, 64, 128), chunksize=(1, 30, 64, 128)>\n",
       "    PHCLDICE      (time, lev, lat, lon) float32 dask.array<shape=(6, 30, 64, 128), chunksize=(1, 30, 64, 128)>\n",
       "    PHCLDLIQ      (time, lev, lat, lon) float32 dask.array<shape=(6, 30, 64, 128), chunksize=(1, 30, 64, 128)>\n",
       "    PHQ           (time, lev, lat, lon) float32 dask.array<shape=(6, 30, 64, 128), chunksize=(1, 30, 64, 128)>\n",
       "    PPDQ          (time, lev, lat, lon) float32 dask.array<shape=(6, 30, 64, 128), chunksize=(1, 30, 64, 128)>\n",
       "    PPDT          (time, lev, lat, lon) float32 dask.array<shape=(6, 30, 64, 128), chunksize=(1, 30, 64, 128)>\n",
       "    PPFLNS        (time, lat, lon) float32 dask.array<shape=(6, 64, 128), chunksize=(1, 64, 128)>\n",
       "    PPFLNT        (time, lat, lon) float32 dask.array<shape=(6, 64, 128), chunksize=(1, 64, 128)>\n",
       "    PPFSNS        (time, lat, lon) float32 dask.array<shape=(6, 64, 128), chunksize=(1, 64, 128)>\n",
       "    PPFSNT        (time, lat, lon) float32 dask.array<shape=(6, 64, 128), chunksize=(1, 64, 128)>\n",
       "    PPPRECT       (time, lat, lon) float32 dask.array<shape=(6, 64, 128), chunksize=(1, 64, 128)>\n",
       "    PRECT         (time, lat, lon) float32 dask.array<shape=(6, 64, 128), chunksize=(1, 64, 128)>\n",
       "    PS            (time, lat, lon) float32 dask.array<shape=(6, 64, 128), chunksize=(1, 64, 128)>\n",
       "    QAP           (time, lev, lat, lon) float32 dask.array<shape=(6, 30, 64, 128), chunksize=(1, 30, 64, 128)>\n",
       "    QCAP          (time, lev, lat, lon) float32 dask.array<shape=(6, 30, 64, 128), chunksize=(1, 30, 64, 128)>\n",
       "    QIAP          (time, lev, lat, lon) float32 dask.array<shape=(6, 30, 64, 128), chunksize=(1, 30, 64, 128)>\n",
       "    SHFLX         (time, lat, lon) float32 dask.array<shape=(6, 64, 128), chunksize=(1, 64, 128)>\n",
       "    SOLIN         (time, lat, lon) float32 dask.array<shape=(6, 64, 128), chunksize=(1, 64, 128)>\n",
       "    TAP           (time, lev, lat, lon) float32 dask.array<shape=(6, 30, 64, 128), chunksize=(1, 30, 64, 128)>\n",
       "    TE            (time, lat, lon) float32 dask.array<shape=(6, 64, 128), chunksize=(1, 64, 128)>\n",
       "    TPHYSTND      (time, lev, lat, lon) float32 dask.array<shape=(6, 30, 64, 128), chunksize=(1, 30, 64, 128)>\n",
       "    TS            (time, lat, lon) float32 dask.array<shape=(6, 64, 128), chunksize=(1, 64, 128)>\n",
       "    TW            (time, lat, lon) float32 dask.array<shape=(6, 64, 128), chunksize=(1, 64, 128)>\n",
       "    UAP           (time, lev, lat, lon) float32 dask.array<shape=(6, 30, 64, 128), chunksize=(1, 30, 64, 128)>\n",
       "    VAP           (time, lev, lat, lon) float32 dask.array<shape=(6, 30, 64, 128), chunksize=(1, 30, 64, 128)>\n",
       "    VD01          (time, lev, lat, lon) float32 dask.array<shape=(6, 30, 64, 128), chunksize=(1, 30, 64, 128)>\n",
       "Attributes:\n",
       "    Conventions:  CF-1.0\n",
       "    source:       CAM\n",
       "    case:         debug\n",
       "    title:        \n",
       "    logname:      tg847872\n",
       "    host:         \n",
       "    Version:      $Name:  $\n",
       "    revision_Id:  $Id: history.F90,v 1.26.2.38 2003/12/15 18:52:35 hender Exp $"
      ]
     },
     "execution_count": 3,
     "metadata": {},
     "output_type": "execute_result"
    }
   ],
   "source": [
    "cam_ds = xr.open_mfdataset(CAMDIR+ 'debug.cam2.h1.*.nc', decode_times=False, concat_dim='time')\n",
    "cam_ds"
   ]
  },
  {
   "cell_type": "markdown",
   "metadata": {},
   "source": [
    "### Why did we crash?"
   ]
  },
  {
   "cell_type": "code",
   "execution_count": 4,
   "metadata": {},
   "outputs": [
    {
     "data": {
      "text/plain": [
       "<matplotlib.collections.QuadMesh at 0x2b536d03ce48>"
      ]
     },
     "execution_count": 4,
     "metadata": {},
     "output_type": "execute_result"
    },
    {
     "data": {
      "image/png": "[encoded data removed]",
      "text/plain": [
       "<Figure size 432x288 with 2 Axes>"
      ]
     },
     "metadata": {
      "needs_background": "light"
     },
     "output_type": "display_data"
    }
   ],
   "source": [
    "cam_ds.TAP.isel(time=-1, lev=29).plot()"
   ]
  },
  {
   "cell_type": "code",
   "execution_count": 5,
   "metadata": {},
   "outputs": [
    {
     "data": {
      "text/plain": [
       "<matplotlib.collections.QuadMesh at 0x2b537241f630>"
      ]
     },
     "execution_count": 5,
     "metadata": {},
     "output_type": "execute_result"
    },
    {
     "data": {
      "image/png": "[encoded data removed]",
      "text/plain": [
       "<Figure size 432x288 with 2 Axes>"
      ]
     },
     "metadata": {
      "needs_background": "light"
     },
     "output_type": "display_data"
    }
   ],
   "source": [
    "cam_ds.NNDT.isel(time=2, lev=29).plot()"
   ]
  },
  {
   "cell_type": "code",
   "execution_count": 6,
   "metadata": {},
   "outputs": [
    {
     "data": {
      "text/plain": [
       "<matplotlib.collections.QuadMesh at 0x2b536b869f28>"
      ]
     },
     "execution_count": 6,
     "metadata": {},
     "output_type": "execute_result"
    },
    {
     "data": {
      "image/png": "[encoded data removed]",
      "text/plain": [
       "<Figure size 432x288 with 2 Axes>"
      ]
     },
     "metadata": {
      "needs_background": "light"
     },
     "output_type": "display_data"
    }
   ],
   "source": [
    "cam_ds.NNDQ.isel(time=1, lev=29).plot()"
   ]
  },
  {
   "cell_type": "markdown",
   "metadata": {},
   "source": [
    "### Create data generator with training data"
   ]
  },
  {
   "cell_type": "code",
   "execution_count": 9,
   "metadata": {},
   "outputs": [],
   "source": [
    "in_vars = ['QBP', 'TBP', 'VBP', 'PS', 'SOLIN', 'SHFLX', 'LHFLX']\n",
    "out_vars = ['PHQ', 'TPHYSTND', 'FSNT', 'FSNS', 'FLNT', 'FLNS', 'PRECT']"
   ]
  },
  {
   "cell_type": "code",
   "execution_count": 31,
   "metadata": {},
   "outputs": [],
   "source": [
    "scale_dict = load_pickle('../../nn_config/scale_dicts/002_pnas_scaling.pkl')"
   ]
  },
  {
   "cell_type": "code",
   "execution_count": 35,
   "metadata": {},
   "outputs": [],
   "source": [
    "input_transform = InputNormalizer(\n",
    "    xr.open_dataset('/home1/05488/tg847872/saved_models/001_norm.nc'),\n",
    "    in_vars,\n",
    "    'mean', 'std_by_var'\n",
    ")"
   ]
  },
  {
   "cell_type": "code",
   "execution_count": 36,
   "metadata": {},
   "outputs": [
    {
     "data": {
      "text/plain": [
       "array([ 1.65490701e-06,  1.60977231e-06,  1.25134920e-06,  1.32252080e-06,\n",
       "        1.21504206e-06,  1.13864201e-06,  1.20267748e-06,  1.27180010e-06,\n",
       "        1.48661900e-06,  2.08154233e-06,  3.61759612e-06,  8.29659257e-06,\n",
       "        1.91388026e-05,  4.09034001e-05,  8.28078555e-05,  1.57798175e-04,\n",
       "        2.90706550e-04,  5.21253853e-04,  8.98803351e-04,  1.45990250e-03,\n",
       "        2.30280589e-03,  3.48724634e-03,  4.81598545e-03,  5.64838341e-03,\n",
       "        6.21533068e-03,  6.66121626e-03,  6.98323827e-03,  7.25318119e-03,\n",
       "        7.44542666e-03,  7.98365194e-03,  2.41120377e+02,  2.36409531e+02,\n",
       "        2.24904907e+02,  2.38087341e+02,  2.37901886e+02,  2.36464081e+02,\n",
       "        2.28494003e+02,  2.25452240e+02,  2.29123871e+02,  2.35577774e+02,\n",
       "        2.35431488e+02,  2.35567520e+02,  2.36163437e+02,  2.41480392e+02,\n",
       "        2.43928955e+02,  2.47061829e+02,  2.50802628e+02,  2.53757736e+02,\n",
       "        2.55586899e+02,  2.56965302e+02,  2.57616669e+02,  2.58223785e+02,\n",
       "        2.59492523e+02,  2.60223145e+02,  2.60703094e+02,  2.61118927e+02,\n",
       "        2.61580994e+02,  2.62037537e+02,  2.62781616e+02,  2.63217072e+02,\n",
       "        2.25006297e-01,  7.29389340e-02,  6.54194430e-02, -4.75727692e-02,\n",
       "        6.46841154e-02, -4.17444594e-02,  1.04619730e-02, -5.95965572e-02,\n",
       "       -8.89930204e-02, -1.58774123e-01, -2.74782807e-01, -4.25266832e-01,\n",
       "       -4.99211252e-01, -3.87834340e-01, -1.13353483e-01,  8.58197361e-02,\n",
       "        9.97826159e-02,  4.76691313e-02,  3.30327041e-02,  2.11180802e-02,\n",
       "        1.76724717e-02,  2.69175358e-02,  9.87402946e-02,  1.72270179e-01,\n",
       "        1.88677609e-01,  1.97878614e-01,  2.42180660e-01,  3.08622956e-01,\n",
       "        3.50007951e-01,  3.70997012e-01,  1.09561484e+05,  3.24290985e+02,\n",
       "        1.08900232e+01,  7.03711777e+01], dtype=float32)"
      ]
     },
     "execution_count": 36,
     "metadata": {},
     "output_type": "execute_result"
    }
   ],
   "source": [
    "input_transform.sub"
   ]
  },
  {
   "cell_type": "code",
   "execution_count": 37,
   "metadata": {},
   "outputs": [
    {
     "data": {
      "text/plain": [
       "array([3.77459545e-03, 3.77459545e-03, 3.77459545e-03, 3.77459545e-03,\n",
       "       3.77459545e-03, 3.77459545e-03, 3.77459545e-03, 3.77459545e-03,\n",
       "       3.77459545e-03, 3.77459545e-03, 3.77459545e-03, 3.77459545e-03,\n",
       "       3.77459545e-03, 3.77459545e-03, 3.77459545e-03, 3.77459545e-03,\n",
       "       3.77459545e-03, 3.77459545e-03, 3.77459545e-03, 3.77459545e-03,\n",
       "       3.77459545e-03, 3.77459545e-03, 3.77459545e-03, 3.77459545e-03,\n",
       "       3.77459545e-03, 3.77459545e-03, 3.77459545e-03, 3.77459545e-03,\n",
       "       3.77459545e-03, 3.77459545e-03, 7.22105484e+01, 7.22105484e+01,\n",
       "       7.22105484e+01, 7.22105484e+01, 7.22105484e+01, 7.22105484e+01,\n",
       "       7.22105484e+01, 7.22105484e+01, 7.22105484e+01, 7.22105484e+01,\n",
       "       7.22105484e+01, 7.22105484e+01, 7.22105484e+01, 7.22105484e+01,\n",
       "       7.22105484e+01, 7.22105484e+01, 7.22105484e+01, 7.22105484e+01,\n",
       "       7.22105484e+01, 7.22105484e+01, 7.22105484e+01, 7.22105484e+01,\n",
       "       7.22105484e+01, 7.22105484e+01, 7.22105484e+01, 7.22105484e+01,\n",
       "       7.22105484e+01, 7.22105484e+01, 7.22105484e+01, 7.22105484e+01,\n",
       "       5.85772562e+00, 5.85772562e+00, 5.85772562e+00, 5.85772562e+00,\n",
       "       5.85772562e+00, 5.85772562e+00, 5.85772562e+00, 5.85772562e+00,\n",
       "       5.85772562e+00, 5.85772562e+00, 5.85772562e+00, 5.85772562e+00,\n",
       "       5.85772562e+00, 5.85772562e+00, 5.85772562e+00, 5.85772562e+00,\n",
       "       5.85772562e+00, 5.85772562e+00, 5.85772562e+00, 5.85772562e+00,\n",
       "       5.85772562e+00, 5.85772562e+00, 5.85772562e+00, 5.85772562e+00,\n",
       "       5.85772562e+00, 5.85772562e+00, 5.85772562e+00, 5.85772562e+00,\n",
       "       5.85772562e+00, 5.85772562e+00, 1.17165684e+04, 4.18661896e+02,\n",
       "       1.42491674e+01, 7.67799759e+01])"
      ]
     },
     "execution_count": 37,
     "metadata": {},
     "output_type": "execute_result"
    }
   ],
   "source": [
    "input_transform.div"
   ]
  },
  {
   "cell_type": "markdown",
   "metadata": {},
   "source": [
    "### Load the neural network"
   ]
  },
  {
   "cell_type": "code",
   "execution_count": 7,
   "metadata": {},
   "outputs": [],
   "source": [
    "tf.enable_eager_execution()"
   ]
  },
  {
   "cell_type": "code",
   "execution_count": 8,
   "metadata": {},
   "outputs": [
    {
     "name": "stdout",
     "output_type": "stream",
     "text": [
      "WARNING:tensorflow:From /home1/05488/tg847872/miniconda3/lib/python3.6/site-packages/tensorflow/python/ops/resource_variable_ops.py:642: colocate_with (from tensorflow.python.framework.ops) is deprecated and will be removed in a future version.\n",
      "Instructions for updating:\n",
      "Colocations handled automatically by placer.\n",
      "WARNING:tensorflow:From /home1/05488/tg847872/miniconda3/lib/python3.6/site-packages/tensorflow/python/keras/utils/losses_utils.py:170: to_float (from tensorflow.python.ops.math_ops) is deprecated and will be removed in a future version.\n",
      "Instructions for updating:\n",
      "Use tf.cast instead.\n",
      "WARNING:tensorflow:From /home1/05488/tg847872/miniconda3/lib/python3.6/site-packages/tensorflow/python/ops/math_ops.py:3066: to_int32 (from tensorflow.python.ops.math_ops) is deprecated and will be removed in a future version.\n",
      "Instructions for updating:\n",
      "Use tf.cast instead.\n"
     ]
    }
   ],
   "source": [
    "model = tf.keras.models.load_model('/home1/05488/tg847872/saved_models/001_8col_pnas/model.h5')"
   ]
  },
  {
   "cell_type": "markdown",
   "metadata": {},
   "source": [
    "### Get the input vector from cam_ds"
   ]
  },
  {
   "cell_type": "code",
   "execution_count": 10,
   "metadata": {},
   "outputs": [
    {
     "data": {
      "text/plain": [
       "['QBP', 'TBP', 'VBP', 'PS', 'SOLIN', 'SHFLX', 'LHFLX']"
      ]
     },
     "execution_count": 10,
     "metadata": {},
     "output_type": "execute_result"
    }
   ],
   "source": [
    "in_vars"
   ]
  },
  {
   "cell_type": "code",
   "execution_count": 19,
   "metadata": {},
   "outputs": [
    {
     "data": {
      "text/plain": [
       "array([1.9037088e-06, 1.8891496e-06, 1.7587762e-06, 1.7570841e-06,\n",
       "       1.7427531e-06, 1.6576513e-06, 1.5940370e-06, 1.5920912e-06,\n",
       "       1.5923886e-06, 1.5992799e-06, 1.6422980e-06, 1.7184195e-06,\n",
       "       2.1907024e-06, 4.1937187e-06, 7.7584145e-06, 1.6326150e-05,\n",
       "       3.4403751e-05, 8.0006044e-05, 2.4521907e-04, 5.1732955e-04,\n",
       "       8.1878394e-04, 1.1264065e-03, 1.4920642e-03, 1.9111112e-03,\n",
       "       2.2697735e-03, 2.4838927e-03, 2.7039493e-03, 2.8348863e-03,\n",
       "       2.8195512e-03, 2.9524004e-03], dtype=float32)"
      ]
     },
     "execution_count": 19,
     "metadata": {},
     "output_type": "execute_result"
    }
   ],
   "source": [
    "cam_ds.NNQBP.isel(time=1, lat=0, lon=0).values"
   ]
  },
  {
   "cell_type": "code",
   "execution_count": 24,
   "metadata": {},
   "outputs": [],
   "source": [
    "in_vec = np.concatenate([\n",
    "    cam_ds.NNQBP.isel(time=1, lat=0, lon=0).values,\n",
    "    cam_ds.NNTBP.isel(time=1, lat=0, lon=0).values,\n",
    "    cam_ds.NNVBP.isel(time=1, lat=0, lon=0).values,\n",
    "    cam_ds.NNPS.isel(time=1, lat=0, lon=0).values[None],\n",
    "    cam_ds.NNSOLIN.isel(time=1, lat=0, lon=0).values[None],\n",
    "    cam_ds.NNSHF.isel(time=1, lat=0, lon=0).values[None],\n",
    "    cam_ds.NNLHF.isel(time=1, lat=0, lon=0).values[None],\n",
    "])[None, :]"
   ]
  },
  {
   "cell_type": "code",
   "execution_count": 46,
   "metadata": {},
   "outputs": [
    {
     "data": {
      "text/plain": [
       "array([[ 6.59148354e-05,  7.40151736e-05,  1.34432150e-04,\n",
       "         1.15128438e-04,  1.39805969e-04,  1.37500640e-04,\n",
       "         1.03682512e-04,  8.48544078e-05,  2.80214335e-05,\n",
       "        -1.27765321e-04, -5.23313880e-04, -1.74274924e-03,\n",
       "        -4.49004443e-03, -9.72546078e-03, -1.98827777e-02,\n",
       "        -3.74800526e-02, -6.79020584e-02, -1.16899364e-01,\n",
       "        -1.73153460e-01, -2.49714956e-01, -3.93160552e-01,\n",
       "        -6.25455081e-01, -8.80603313e-01, -9.90112007e-01,\n",
       "        -1.04529274e+00, -1.10669434e+00, -1.13370800e+00,\n",
       "        -1.17053473e+00, -1.22552884e+00, -1.33292460e+00,\n",
       "         7.47510195e-02, -6.25645742e-02, -1.18100569e-01,\n",
       "         1.16499262e-02, -8.23573172e-02, -9.51504335e-02,\n",
       "         1.29837133e-02,  4.53916490e-02, -1.97845045e-02,\n",
       "        -1.22843415e-01, -1.36168391e-01, -1.72188669e-01,\n",
       "        -2.06594110e-01, -3.21186304e-01, -3.70744765e-01,\n",
       "        -3.97261798e-01, -3.78523707e-01, -3.23799133e-01,\n",
       "        -2.29791686e-01, -1.28169894e-01, -5.10539003e-02,\n",
       "        -1.58482278e-03,  3.11242286e-02,  5.57413846e-02,\n",
       "         6.87407330e-02,  8.64349604e-02,  1.04339659e-01,\n",
       "         1.20682351e-01,  1.31345883e-01,  1.44290715e-01,\n",
       "         2.06943098e-02,  2.19060071e-02,  3.06314998e-03,\n",
       "        -1.72094684e-02, -1.36717036e-01, -1.90593138e-01,\n",
       "        -2.61793315e-01, -3.41745585e-01, -4.53954399e-01,\n",
       "        -5.35730660e-01, -6.18642926e-01, -6.99163914e-01,\n",
       "        -7.66360760e-01, -7.54238844e-01, -6.06300294e-01,\n",
       "        -4.26475644e-01, -2.64953464e-01, -2.43658856e-01,\n",
       "        -2.91931719e-01, -2.82500178e-01, -2.19750911e-01,\n",
       "        -2.07021192e-01, -2.23927498e-01, -2.05684483e-01,\n",
       "        -1.69410944e-01, -2.02102661e-01, -2.17955992e-01,\n",
       "        -2.25386769e-01, -2.14462578e-01, -2.13989809e-01,\n",
       "        -8.41562688e-01,  3.80380005e-01, -5.69735289e-01,\n",
       "        -7.75917411e-01]], dtype=float32)"
      ]
     },
     "execution_count": 46,
     "metadata": {},
     "output_type": "execute_result"
    }
   ],
   "source": [
    "in_vec_trans = input_transform.transform(in_vec).astype(np.float32); in_vec_trans"
   ]
  },
  {
   "cell_type": "code",
   "execution_count": 53,
   "metadata": {},
   "outputs": [
    {
     "data": {
      "text/plain": [
       "[<tensorflow.python.keras.engine.input_layer.InputLayer at 0x2b536d050ba8>,\n",
       " <tensorflow.python.keras.layers.core.Dense at 0x2b536d04e1d0>,\n",
       " <tensorflow.python.keras.layers.advanced_activations.LeakyReLU at 0x2b536d04e748>,\n",
       " <tensorflow.python.keras.layers.core.Dense at 0x2b536d04e588>,\n",
       " <tensorflow.python.keras.layers.advanced_activations.LeakyReLU at 0x2b536d04e908>,\n",
       " <tensorflow.python.keras.layers.core.Dense at 0x2b536d04e518>,\n",
       " <tensorflow.python.keras.layers.advanced_activations.LeakyReLU at 0x2b536d04ec50>,\n",
       " <tensorflow.python.keras.layers.core.Dense at 0x2b536d02e5f8>,\n",
       " <tensorflow.python.keras.layers.advanced_activations.LeakyReLU at 0x2b536d030828>,\n",
       " <tensorflow.python.keras.layers.core.Dense at 0x2b536d0304e0>,\n",
       " <tensorflow.python.keras.layers.advanced_activations.LeakyReLU at 0x2b536d030588>,\n",
       " <tensorflow.python.keras.layers.core.Dense at 0x2b536d030278>,\n",
       " <tensorflow.python.keras.layers.advanced_activations.LeakyReLU at 0x2b536e508710>,\n",
       " <tensorflow.python.keras.layers.core.Dense at 0x2b536e5080b8>,\n",
       " <tensorflow.python.keras.layers.advanced_activations.LeakyReLU at 0x2b536e508518>,\n",
       " <tensorflow.python.keras.layers.core.Dense at 0x2b536e5080f0>]"
      ]
     },
     "execution_count": 53,
     "metadata": {},
     "output_type": "execute_result"
    }
   ],
   "source": [
    "layers = model.layers; layers"
   ]
  },
  {
   "cell_type": "code",
   "execution_count": 63,
   "metadata": {},
   "outputs": [
    {
     "data": {
      "text/plain": [
       "16"
      ]
     },
     "execution_count": 63,
     "metadata": {},
     "output_type": "execute_result"
    }
   ],
   "source": [
    "len(layers)"
   ]
  },
  {
   "cell_type": "code",
   "execution_count": 56,
   "metadata": {
    "collapsed": true
   },
   "outputs": [
    {
     "data": {
      "text/plain": [
       "<tf.Tensor: id=1798, shape=(1, 256), dtype=float32, numpy=\n",
       "array([[-0.0517347 , -0.17214036,  0.2873212 ,  0.5899098 , -0.11179788,\n",
       "        -0.07762445,  0.09245125, -0.05878264,  0.11267984, -0.13644007,\n",
       "        -0.03352039,  0.49877053,  0.03356677,  0.01682265,  1.0699519 ,\n",
       "         0.03556597,  1.2698492 , -0.10997623, -0.2413041 , -0.10721651,\n",
       "        -0.24758653,  0.25445515, -0.14949138,  0.12684652, -0.18662485,\n",
       "         0.29498497, -0.5028035 ,  0.05865669, -0.02469519, -0.02487404,\n",
       "        -1.6322104 ,  2.014826  ,  0.16435814,  0.08317649,  0.53019655,\n",
       "         0.4206132 ,  2.6787024 , -0.09546193, -0.02380275,  0.44311953,\n",
       "        -0.06932011,  0.18077864,  0.30292803,  0.31970716, -0.0323306 ,\n",
       "        -0.19205235,  1.273994  ,  0.558271  ,  0.42686915, -0.30960757,\n",
       "         0.03315544,  1.0129659 ,  0.03325522,  0.06138106,  0.66578364,\n",
       "        -0.06177435, -0.09331296, -0.15778635,  0.2572639 ,  0.09818572,\n",
       "        -0.37481698, -0.08678438,  0.37035626, -0.2201486 ,  0.520316  ,\n",
       "         0.11470324, -0.01470602, -0.04463217, -1.0559682 , -0.0699339 ,\n",
       "        -0.09283878,  0.77872616, -0.077974  , -0.02111554, -1.4911804 ,\n",
       "        -0.7673944 , -0.08018549,  0.16415018, -0.07940856, -0.16754252,\n",
       "        -0.5681025 ,  0.29293758, -0.14199315,  0.17627972,  0.82806444,\n",
       "         0.24379739, -0.01132806,  0.01145607, -0.16665794, -0.01665591,\n",
       "        -0.23253985, -0.11310481, -0.00595767,  0.35179996, -0.11133058,\n",
       "         1.0562125 ,  0.16030097,  0.19090867, -0.10991396,  0.20422739,\n",
       "        -0.0164133 ,  1.242321  , -0.1850321 ,  0.19240636, -0.05621415,\n",
       "        -0.08602206,  0.14525002, -0.03235573,  0.14112836, -0.27414042,\n",
       "        -0.01239667,  0.34006673, -0.5832856 , -0.30139568, -0.18421343,\n",
       "        -0.01593705,  0.35174036, -0.03527071, -0.07619277, -0.17880575,\n",
       "         0.06528997,  0.04101697, -0.03284358,  0.4609108 ,  0.0540143 ,\n",
       "        -0.30820593, -0.00426927, -0.0426407 ,  0.20315665, -0.07703295,\n",
       "        -0.3080355 , -0.11840188,  0.01899454,  0.26234746,  0.16732419,\n",
       "        -0.18609491, -0.35878044, -0.13683853,  0.01792455, -0.03806765,\n",
       "        -0.24930696,  0.09574807,  0.3519233 ,  0.21965882,  0.08334202,\n",
       "        -0.01015603, -0.05262374,  0.08437788, -0.41076306, -0.05816533,\n",
       "        -0.4600558 ,  0.308819  , -0.01323858, -0.16816579, -0.20759541,\n",
       "        -0.10450008,  0.14577076, -0.31047022, -0.11097059, -0.02717029,\n",
       "         0.06603256,  0.19274026, -0.06248144, -0.18922885,  0.16922203,\n",
       "         0.06846792, -0.18310955,  0.3489616 ,  0.02246255, -0.06285778,\n",
       "        -0.0468875 ,  0.08325171, -0.0816109 ,  2.720901  ,  2.1215904 ,\n",
       "        -0.01782183, -0.04192731, -0.07337157,  0.4157219 , -0.02306631,\n",
       "        -0.00444801, -0.00456866, -0.0102771 , -0.4476358 ,  0.31077987,\n",
       "         0.00455397,  0.22458035, -0.02875058,  0.456358  , -0.08393682,\n",
       "        -0.38864782, -0.11653218,  0.35877973,  0.09697074,  0.2132439 ,\n",
       "         1.500876  ,  0.13824213, -0.27114105, -0.1274514 ,  0.45012522,\n",
       "        -0.20543845,  0.27089477,  0.03123662,  0.27528968, -0.0029158 ,\n",
       "        -0.04003152,  0.3330344 ,  0.24325648,  0.03068291, -0.02522425,\n",
       "        -0.02007655,  0.03451538,  0.05114126,  0.21773076,  0.08048987,\n",
       "        -0.0672111 ,  0.03797591,  0.2057985 , -0.02013525,  0.24003625,\n",
       "        -0.13711987, -0.08320837, -0.08572852, -0.38768366, -0.00949881,\n",
       "        -0.04785923,  0.15508042,  0.14675643, -0.01605559, -1.4257369 ,\n",
       "        -0.09157517, -0.02616288, -0.07521115, -0.11642735, -0.30407345,\n",
       "        -0.15697213, -0.14059848, -0.18261817,  0.6645087 , -0.02681374,\n",
       "         0.38321427, -0.4343911 , -0.35952643,  0.2955893 , -0.03109954,\n",
       "        -1.3021971 ,  0.20825759,  2.7910116 ,  0.06528568, -0.0503489 ,\n",
       "        -0.09959447, -0.11486451,  2.1914783 ,  0.54596376,  0.15781769,\n",
       "         0.11204016]], dtype=float32)>"
      ]
     },
     "execution_count": 56,
     "metadata": {},
     "output_type": "execute_result"
    }
   ],
   "source": [
    "x1 = layers[2](layers[1](layers[0](in_vec_trans))); x1"
   ]
  },
  {
   "cell_type": "code",
   "execution_count": 57,
   "metadata": {
    "collapsed": true
   },
   "outputs": [
    {
     "data": {
      "text/plain": [
       "<tf.Tensor: id=1804, shape=(1, 256), dtype=float32, numpy=\n",
       "array([[-6.35061443e-01,  4.84650195e-01, -6.46301508e-01,\n",
       "        -4.78383988e-01, -4.24162410e-02, -5.94667733e-01,\n",
       "        -7.47661352e-01, -2.25083724e-01,  1.04281759e+00,\n",
       "        -4.69999582e-01, -3.99351604e-02,  9.35040712e-02,\n",
       "        -3.44943315e-01, -2.06182301e-02, -8.90642643e-01,\n",
       "        -8.85375291e-02, -7.26119757e-01,  3.01235020e-02,\n",
       "         9.97765064e-02, -2.14280039e-01, -1.04561400e+00,\n",
       "        -1.58332497e-01, -6.11940801e-01, -3.42659295e-01,\n",
       "         8.45842361e-02,  3.03570819e+00, -2.37787798e-01,\n",
       "        -2.05831435e-02, -2.86264300e-01, -5.92298627e-01,\n",
       "        -2.61593294e+00, -1.50953561e-01,  1.22168159e+00,\n",
       "        -6.90771818e-01, -2.79009342e-01, -9.05403674e-01,\n",
       "        -2.70352721e-01, -2.16926187e-01,  1.25305915e+00,\n",
       "        -1.92528993e-01, -3.04169953e-01, -1.11709967e-01,\n",
       "        -1.19166143e-01, -8.27282012e-01,  2.59130388e-01,\n",
       "        -1.10959411e+00, -1.64363086e-01, -1.69582114e-01,\n",
       "         1.71612054e-01, -7.69543469e-01, -5.35441339e-01,\n",
       "         9.30075347e-02,  4.26689088e-02,  5.65281846e-02,\n",
       "        -6.25813365e-01, -1.62768364e-01, -4.99614298e-01,\n",
       "         1.42660543e-01, -1.42680153e-01, -1.18601926e-01,\n",
       "        -2.91490436e-01, -2.34617859e-01, -3.57269287e-01,\n",
       "         3.89005661e-01, -9.55171324e-03,  3.92120987e-01,\n",
       "         2.28433609e+00,  3.13412249e-02,  9.52940881e-02,\n",
       "        -5.00513315e-01,  2.54066050e-01, -8.11608136e-01,\n",
       "         5.59822142e-01, -3.44791681e-01, -3.46311599e-01,\n",
       "        -5.86989820e-01, -9.39987719e-01, -5.17635763e-01,\n",
       "        -2.25878403e-01,  8.58437181e-01, -1.17729507e-01,\n",
       "         3.62194002e-01,  6.23051286e-01, -1.07489176e-01,\n",
       "        -3.95870030e-01, -5.83607495e-01,  2.85539925e-01,\n",
       "        -7.76936471e-01,  7.41768241e-01,  7.22097814e-01,\n",
       "        -2.77498573e-01, -7.58319423e-02, -9.00641680e-01,\n",
       "         1.89463913e-01, -1.82813811e+00, -1.13267970e+00,\n",
       "         7.89267302e-01, -6.01519383e-02, -1.11520302e+00,\n",
       "        -7.64340758e-01, -3.40746909e-01, -6.57205522e-01,\n",
       "        -2.34873846e-01,  4.89321113e-01, -6.95904791e-02,\n",
       "         1.38564396e+00, -3.82536501e-01, -2.99024731e-01,\n",
       "        -1.49546251e-01, -1.68686166e-01, -1.83093354e-01,\n",
       "        -6.90388307e-02, -4.96658087e-01,  7.71857381e-01,\n",
       "         3.70152771e-01,  1.18576288e-02, -4.04127061e-01,\n",
       "        -2.26672307e-01, -5.39435863e-01, -2.27937654e-01,\n",
       "        -4.09931779e-01, -5.55971526e-02, -1.94481516e+00,\n",
       "        -4.45059329e-01,  5.23792326e-01, -8.23420137e-02,\n",
       "        -5.40465951e-01, -8.69388103e-01, -1.93991408e-01,\n",
       "        -5.37494481e-01, -3.84530216e-01,  6.45545304e-01,\n",
       "        -1.00796962e+00, -1.62361339e-01, -1.68436158e+00,\n",
       "        -9.08344626e-01, -2.29188871e+00, -2.31519416e-01,\n",
       "        -1.16696191e+00,  8.87846947e-02, -5.99256396e-01,\n",
       "        -1.10434934e-01,  4.57289553e+00, -4.78785902e-01,\n",
       "         1.39074552e+00, -3.29513043e-01,  3.07970583e-01,\n",
       "        -2.24213615e-01,  1.41138482e+00, -1.67670023e+00,\n",
       "        -7.08168566e-01, -4.20288229e+00, -6.66023135e-01,\n",
       "        -2.52582252e-01, -2.16751471e-02, -4.63692039e-01,\n",
       "        -4.44163010e-02, -2.00025415e+00, -8.16034496e-01,\n",
       "        -3.22812229e-01, -6.22071743e-01, -2.16000423e-01,\n",
       "        -2.11135596e-01, -4.11064744e-01, -5.57820462e-02,\n",
       "        -1.09923542e+00,  3.82863224e-01, -2.51724303e-01,\n",
       "        -3.91481012e-01, -6.22380786e-02, -8.36877584e-01,\n",
       "        -7.25428581e-01, -4.59194779e-01,  6.50806546e-01,\n",
       "         5.44278622e-02, -1.54772412e-03, -9.91260350e-01,\n",
       "        -1.79786056e-01,  1.55299187e+00,  8.53693545e-01,\n",
       "         1.00465924e-01, -1.32555157e-01,  9.51209188e-01,\n",
       "        -1.09808423e-01, -3.14053208e-01,  8.45000505e-01,\n",
       "        -9.15452912e-02, -6.99310184e-01,  3.91033244e+00,\n",
       "        -2.14590147e-01, -6.22346520e-01, -2.96319187e-01,\n",
       "        -4.48712856e-01, -7.04666376e-01, -1.81972027e-01,\n",
       "         5.47042966e-01, -2.18646020e-01, -4.75663722e-01,\n",
       "        -3.61287057e-01, -4.02585119e-02,  1.85311246e+00,\n",
       "        -3.13780993e-01,  6.32126331e-02, -9.79860783e-01,\n",
       "         2.07211420e-01, -2.53751427e-01, -1.72973275e-01,\n",
       "         1.11250484e+00,  1.78711033e+00, -7.47551098e-02,\n",
       "         5.29298633e-02, -2.84096360e-01, -2.17032805e-01,\n",
       "         4.94544297e-01, -2.97943711e-01,  8.80655646e-02,\n",
       "         1.37572169e-01, -4.68628287e-01, -2.30557650e-01,\n",
       "        -4.62787867e-01, -2.27295637e-01, -5.35630345e-01,\n",
       "        -6.17340088e-01, -6.71020031e-01, -2.81962007e-01,\n",
       "         1.76001477e+00, -2.45792851e-01, -1.31802991e-01,\n",
       "         1.21931434e-01, -5.88114679e-01, -4.77776319e-01,\n",
       "        -4.59746093e-01,  1.14333332e-01, -1.81325316e-01,\n",
       "        -4.39582914e-01, -2.74812996e-01, -9.60672557e-01,\n",
       "        -5.60462236e-01, -6.44947886e-01, -1.63645938e-01,\n",
       "         1.60521007e+00, -8.63633156e-01, -1.20951897e-02,\n",
       "        -2.29194328e-01, -5.59254408e-01, -2.14440841e-03,\n",
       "         4.35943902e-01, -6.35896504e-01, -3.89034599e-02,\n",
       "        -4.94604051e-01, -2.56749302e-01,  1.56369352e+00,\n",
       "        -1.60051435e-01, -2.85349954e-02, -4.62847233e-01,\n",
       "        -6.16915464e-01]], dtype=float32)>"
      ]
     },
     "execution_count": 57,
     "metadata": {},
     "output_type": "execute_result"
    }
   ],
   "source": [
    "x2 = layers[4](layers[3](x1)); x2"
   ]
  },
  {
   "cell_type": "code",
   "execution_count": 58,
   "metadata": {
    "collapsed": true
   },
   "outputs": [
    {
     "data": {
      "text/plain": [
       "<tf.Tensor: id=1810, shape=(1, 256), dtype=float32, numpy=\n",
       "array([[-4.73087341e-01, -2.16987450e-02, -7.36132741e-01,\n",
       "         6.16130233e-03,  9.55629349e-01, -1.79117107e+00,\n",
       "         2.02501130e+00, -7.75053203e-01, -9.27132964e-01,\n",
       "        -2.89757967e-01, -6.39664382e-02, -1.57560706e+00,\n",
       "        -2.49650463e-01,  1.23315975e-01, -9.89571363e-02,\n",
       "        -4.91822511e-01,  1.12270904e+00, -2.92919189e-01,\n",
       "        -6.05560362e-01, -4.97175276e-01, -1.26813519e+00,\n",
       "         2.79855728e-03, -5.07331826e-03, -2.54781693e-01,\n",
       "        -4.51400876e-01, -5.23789585e-01, -1.02032730e-02,\n",
       "        -1.63316095e+00,  2.22653687e-01, -5.13063312e-01,\n",
       "        -5.38247943e-01, -4.35698688e-01, -6.04255557e-01,\n",
       "        -2.83735067e-01,  5.36732495e-01,  2.90347368e-01,\n",
       "         2.70747066e+00, -3.22290063e-01, -3.66464645e-01,\n",
       "        -9.53316629e-01, -2.87753075e-01, -4.35391784e-01,\n",
       "        -5.16739227e-02, -1.44620597e-01, -9.87379670e-01,\n",
       "        -8.27667058e-01, -1.23497975e+00, -3.54526669e-01,\n",
       "        -5.70981026e-01,  6.57179892e-01, -3.16707522e-01,\n",
       "        -4.21875834e-01, -1.61145806e+00, -6.68523014e-01,\n",
       "         1.71259058e+00,  2.14896727e+00, -5.89693069e-01,\n",
       "        -7.95824170e-01, -1.36210227e+00, -1.05631220e+00,\n",
       "        -1.10336483e+00, -4.37282354e-01,  2.97514319e-01,\n",
       "         1.50292873e+00, -5.80748320e-01,  6.94232941e-01,\n",
       "        -6.75900519e-01, -4.10285503e-01, -5.11309385e-01,\n",
       "         1.33728027e+00, -7.87166059e-01, -1.72685945e+00,\n",
       "        -4.82861310e-01, -2.93535829e-01,  7.11283445e-01,\n",
       "        -6.48640692e-01,  6.90462589e-01, -9.66558397e-01,\n",
       "        -3.10964108e-01, -3.97769868e-01, -2.86080211e-01,\n",
       "         1.24075067e+00,  4.56650066e+00, -1.07704610e-01,\n",
       "        -8.05473685e-01, -1.54513359e+00, -9.20654476e-01,\n",
       "        -8.36992919e-01, -4.79042679e-01, -8.15472782e-01,\n",
       "        -4.16862935e-01, -7.06882536e-01,  2.49942112e+00,\n",
       "        -7.94029593e-01,  3.69052887e-02, -9.60364759e-01,\n",
       "         2.30286270e-01, -3.34916353e-01, -5.82273126e-01,\n",
       "        -4.15145218e-01,  7.36072779e-01,  2.67798483e-01,\n",
       "        -9.62542593e-01, -5.74045666e-02, -4.99176145e-01,\n",
       "        -6.50689900e-01, -2.39867479e-01,  8.16151798e-01,\n",
       "        -1.88338661e+00, -7.03672469e-01,  2.31570721e-01,\n",
       "        -1.36050057e+00,  3.73938501e-01, -2.10104749e-01,\n",
       "         9.10843551e-01, -8.13038170e-01, -1.55142263e-01,\n",
       "        -8.10761929e-01,  4.77890134e-01, -3.52257878e-01,\n",
       "        -9.05980945e-01,  2.04348874e+00, -4.89355564e-01,\n",
       "        -8.74855876e-01, -8.64314437e-01, -1.48608774e-01,\n",
       "        -1.18060565e+00, -1.07437658e+00,  4.77041453e-01,\n",
       "        -3.03804487e-01, -1.33970404e+00, -2.09251881e-01,\n",
       "        -3.83953303e-01, -1.67029619e+00, -6.88363433e-01,\n",
       "        -1.51180661e+00, -7.57039726e-01, -3.40678245e-01,\n",
       "        -9.43845153e-01, -5.69797933e-01, -2.70997673e-01,\n",
       "        -9.30769980e-01, -8.89510214e-01, -1.48691714e+00,\n",
       "        -1.02262414e+00, -3.98621053e-01,  3.10452056e+00,\n",
       "        -4.63186473e-01, -8.39420259e-01, -3.18608165e-01,\n",
       "        -9.79753613e-01, -5.67044258e-01, -2.09727332e-01,\n",
       "         1.33976555e+00, -3.75252217e-01, -1.37163401e-01,\n",
       "        -8.55932057e-01, -2.16675806e+00,  5.52619576e-01,\n",
       "         9.45336044e-01, -1.11075118e-01, -4.91063952e-01,\n",
       "        -4.48799521e-01, -1.06380761e+00, -1.31088495e+00,\n",
       "        -1.04121530e+00, -1.62618172e+00, -8.77915204e-01,\n",
       "        -8.70580077e-01, -1.16725636e+00,  3.44677091e-01,\n",
       "         9.23743904e-01, -4.63848323e-01, -1.55649796e-01,\n",
       "         2.07202733e-01,  1.07700616e-01,  8.45699430e-01,\n",
       "        -3.23383510e-01, -2.55561918e-01, -7.00139701e-01,\n",
       "        -4.08541590e-01, -5.37675619e-01, -7.27723539e-01,\n",
       "        -7.78251365e-02,  2.51755977e+00, -4.34326082e-01,\n",
       "        -8.22907388e-01, -6.04843855e-01, -7.35537559e-02,\n",
       "        -3.91943306e-01, -9.05714631e-02, -4.67877477e-01,\n",
       "        -3.68168384e-01, -4.99554187e-01, -1.83329061e-01,\n",
       "        -6.39641762e-01,  2.31838793e-01, -6.86381340e-01,\n",
       "        -2.04424784e-01, -1.11106014e+00, -6.52289867e-01,\n",
       "        -5.06044626e-01, -6.93986356e-01, -6.87450647e-01,\n",
       "         1.88439941e+00, -6.84866548e-01, -1.41148996e+00,\n",
       "        -1.64718652e+00, -4.61889833e-01, -5.68073928e-01,\n",
       "        -7.26032674e-01, -9.57885206e-01, -7.56065130e-01,\n",
       "        -6.30607843e-01, -5.62775671e-01,  3.11351609e+00,\n",
       "        -2.84474879e-03, -4.27987762e-02, -1.24271309e+00,\n",
       "        -8.39250386e-01, -2.00862288e+00, -7.66192377e-01,\n",
       "        -4.64945674e-01, -6.61335826e-01, -4.55008179e-01,\n",
       "        -6.63139999e-01, -3.59085292e-01,  2.42198884e-01,\n",
       "        -4.88093168e-01, -6.44270718e-01, -8.57562900e-01,\n",
       "        -4.26752567e+00, -1.43320906e+00, -8.93856585e-01,\n",
       "        -5.05657732e-01, -5.84101915e-01, -3.80136222e-01,\n",
       "        -6.50735974e-01, -1.46489814e-01, -1.48189151e+00,\n",
       "        -5.50916076e-01, -9.02115643e-01, -4.86866921e-01,\n",
       "        -9.29821312e-01, -5.83477039e-03, -6.85511649e-01,\n",
       "        -2.54806566e+00,  3.00122023e-01, -5.94740272e-01,\n",
       "         4.87429619e-01, -6.26941398e-02, -8.65177214e-01,\n",
       "        -8.01278651e-01, -2.23115540e+00,  1.57278478e+00,\n",
       "        -4.16492224e-01]], dtype=float32)>"
      ]
     },
     "execution_count": 58,
     "metadata": {},
     "output_type": "execute_result"
    }
   ],
   "source": [
    "x3 = layers[6](layers[5](x2)); x3"
   ]
  },
  {
   "cell_type": "code",
   "execution_count": 59,
   "metadata": {
    "collapsed": true
   },
   "outputs": [
    {
     "data": {
      "text/plain": [
       "<tf.Tensor: id=1816, shape=(1, 256), dtype=float32, numpy=\n",
       "array([[-9.2565161e-01, -8.6382169e-01, -1.8415321e+00, -1.6786431e-01,\n",
       "        -2.2565152e-01,  1.7385538e+00,  8.8511968e-01, -3.2768670e-01,\n",
       "        -6.2415093e-01, -8.4617591e-01,  4.2368189e-01, -7.6781422e-01,\n",
       "        -6.0638469e-01, -4.1011205e-01, -3.9611098e-01,  2.2187676e+00,\n",
       "        -4.2420527e-01, -6.1223954e-02, -5.4843318e-01,  3.9593339e-02,\n",
       "        -4.0492693e-01, -1.6147153e+00, -9.0227324e-01, -1.5820481e-01,\n",
       "        -2.9241046e-01, -1.7464772e-01, -6.4196223e-01, -3.3823204e-01,\n",
       "        -1.6262931e+00, -1.0822834e+00, -1.0675619e+00, -8.8195449e-01,\n",
       "        -1.7825392e-01, -5.0118250e-01,  9.2842746e-01, -4.0886313e-01,\n",
       "         7.9538107e-01, -1.7287282e+00, -1.2790707e+00, -6.8281257e-01,\n",
       "        -1.1355120e-01,  3.4402423e+00,  1.1254900e+00, -2.7972949e-01,\n",
       "        -2.2533753e+00,  5.8741146e-01, -1.0483614e+00,  1.1113175e+00,\n",
       "        -2.2766218e+00, -1.1087543e-01, -1.0144714e+00, -1.1549774e+00,\n",
       "        -5.0064194e-01,  5.0587761e-01, -8.8869607e-01, -3.2752997e-01,\n",
       "        -1.7857212e-01, -6.3786328e-02, -2.3206666e-01, -1.2645367e+00,\n",
       "        -1.8627982e+00, -1.7387747e+00, -2.7342385e-01, -9.4490558e-01,\n",
       "        -1.5858673e-01, -1.2223442e+00, -9.8713249e-01, -9.2058367e-01,\n",
       "        -4.0860853e-01, -7.6914501e-01, -7.2187883e-01, -1.3177187e+00,\n",
       "        -4.2550388e-01, -4.3486685e-01,  1.6777818e+00, -6.9388366e-01,\n",
       "        -3.8983920e-01,  1.1795691e+00, -9.4964617e-01, -5.1051468e-01,\n",
       "        -1.7432246e+00, -7.2009754e-01, -6.4196867e-01, -5.1886046e-01,\n",
       "        -1.7957792e-03, -3.6270052e-01,  2.9969120e-01, -1.1173027e+00,\n",
       "        -1.3971350e+00, -3.9342016e-02, -4.6998039e-01, -8.7028146e-01,\n",
       "        -1.3841367e+00, -4.2018738e-01,  1.9065549e+00,  1.2835780e+00,\n",
       "         2.4344638e-01, -4.5552894e-01, -5.1433104e-01, -4.3670648e-01,\n",
       "        -1.2672055e+00, -1.3189275e+00, -2.0383133e-01, -1.3822799e+00,\n",
       "         2.4210961e+00, -5.8866549e-01, -8.7846822e-01, -9.8495726e-03,\n",
       "        -1.2832979e+00,  1.2311510e+00, -5.8286953e-01, -1.5169355e-01,\n",
       "        -3.6394158e-01, -1.1238312e+00, -3.3560452e-01, -4.3265021e-01,\n",
       "        -8.6688811e-01, -7.6091748e-01, -1.7217976e-01, -1.8184121e-01,\n",
       "        -6.5384167e-01, -8.4122106e-02, -5.9042251e-01, -6.3712287e-01,\n",
       "        -7.9032916e-01,  2.3082310e-01, -1.1307518e+00, -9.0746313e-01,\n",
       "         2.7394626e+00, -1.1351621e+00, -1.6929649e+00, -1.0713603e+00,\n",
       "         3.2474080e-01, -1.8390012e-01,  1.6055751e+00, -6.6517067e-01,\n",
       "        -9.8479196e-02, -8.4774500e-01, -6.5857425e-02, -1.3430724e+00,\n",
       "        -9.0137798e-01, -1.4817238e+00, -1.8787210e-01, -2.0898984e-01,\n",
       "        -6.8447149e-01, -1.1618030e+00,  3.9193976e-01, -9.5979124e-01,\n",
       "        -1.0398940e+00, -6.1005682e-01, -4.8674151e-01, -8.6732471e-01,\n",
       "         4.9587178e-01,  1.1913755e+00,  3.6555812e-01, -2.9724136e-01,\n",
       "        -2.3801978e-01, -1.7275358e+00, -4.5434040e-01, -8.1086242e-01,\n",
       "        -1.1328818e-01,  2.3756983e+00, -7.4719399e-01, -6.9567859e-01,\n",
       "        -2.4753138e-01, -2.4667214e-01, -9.9904966e-01, -1.2211855e-01,\n",
       "         1.7269549e+00, -7.9488277e-01, -2.0553894e-01, -1.5794539e+00,\n",
       "        -2.7519050e-01, -3.5141498e-01, -4.9323359e-01, -8.8152570e-01,\n",
       "        -2.2841732e-01, -1.0893723e+00, -2.9338157e-01,  9.9447161e-01,\n",
       "        -6.7933041e-01, -6.1915183e-01, -7.5574344e-01,  3.8198006e-01,\n",
       "        -1.4023193e+00, -1.0415039e+00, -9.7127691e-02, -1.4271016e+00,\n",
       "        -1.3675103e+00, -2.7527866e-01, -2.7829760e-01,  1.8821564e+00,\n",
       "         3.3006600e-01, -1.5481565e+00, -1.0232790e+00, -1.1637336e+00,\n",
       "        -8.1043637e-01, -2.8790376e-01, -1.3811930e+00,  1.4603056e+00,\n",
       "        -6.6844678e-01, -1.8079147e-01, -5.0117898e-01, -8.4974569e-01,\n",
       "        -2.9922849e-01,  1.7595221e+00, -3.2817507e-01, -2.9021356e-01,\n",
       "        -4.7534245e-01,  1.9236732e-01, -9.6393591e-01, -9.6819693e-01,\n",
       "        -1.2109315e+00,  1.1989456e+00,  5.4728353e-01, -7.8177905e-01,\n",
       "        -2.1000317e-01, -7.7518061e-02, -2.0789744e-01, -3.4509277e-01,\n",
       "        -2.4770503e-01, -3.5065749e-01, -2.3020887e-01, -1.2142395e+00,\n",
       "        -5.5793381e-01, -1.6339578e-01,  2.8184543e+00, -4.3895644e-01,\n",
       "        -3.9712645e-02,  4.8718266e+00, -6.8162620e-01,  3.0939202e+00,\n",
       "        -1.0444091e-01, -7.2638416e-01, -1.6617200e-01, -1.0402310e+00,\n",
       "         2.8893614e-01, -1.5449499e+00,  1.3749090e+00, -1.7754804e-02,\n",
       "        -9.4040400e-01,  6.7184937e-01,  2.0585616e+00, -1.2885259e-01,\n",
       "        -1.1634581e+00,  2.3599543e-01, -8.5000968e-01,  8.1593347e-01,\n",
       "        -2.0038591e-01, -5.1880735e-01, -1.0131142e+00, -4.5266199e-01,\n",
       "        -3.9799464e-01, -1.2904797e+00, -3.6795452e-01, -1.4099071e+00]],\n",
       "      dtype=float32)>"
      ]
     },
     "execution_count": 59,
     "metadata": {},
     "output_type": "execute_result"
    }
   ],
   "source": [
    "x4 = layers[8](layers[7](x3)); x4"
   ]
  },
  {
   "cell_type": "code",
   "execution_count": 60,
   "metadata": {
    "collapsed": true
   },
   "outputs": [
    {
     "data": {
      "text/plain": [
       "<tf.Tensor: id=1822, shape=(1, 256), dtype=float32, numpy=\n",
       "array([[ 1.611282  , -0.39172938, -0.22787093, -0.6832645 ,  0.5722647 ,\n",
       "         0.5884686 , -0.12442525, -0.01788755, -0.4895018 , -0.23785985,\n",
       "        -0.6218258 , -0.35681728,  0.9811526 , -0.5547385 , -0.81634134,\n",
       "        -0.43096378, -0.4454633 , -0.7218249 , -0.5690709 , -0.09033327,\n",
       "        -0.9275238 , -0.7407444 , -0.09276165,  0.948331  , -0.4062986 ,\n",
       "        -0.3427787 , -0.6627221 , -0.60166323, -1.8756493 ,  1.1679786 ,\n",
       "        -0.629622  ,  0.47882497, -0.03235495, -0.7100563 , -0.4165103 ,\n",
       "        -0.40903395, -1.267423  , -0.22728826, -0.61273885,  0.11923826,\n",
       "        -0.6415663 , -0.9176854 ,  1.2420008 , -1.071088  ,  0.8940691 ,\n",
       "        -0.3266267 , -0.97419846, -1.0621659 ,  0.8549422 , -0.06019812,\n",
       "        -0.6206608 , -0.21803786, -0.6317911 , -0.05916814, -0.28933987,\n",
       "        -0.51506746, -0.61450326, -0.4598663 , -1.6718305 , -0.5217902 ,\n",
       "        -0.27977586, -0.12004743, -0.47284758, -0.08825928, -0.51632106,\n",
       "        -1.3402276 , -0.57110643, -0.5007939 , -0.462333  , -0.53763646,\n",
       "        -0.5453229 , -0.17058621, -0.6640759 , -0.87837154, -0.41180265,\n",
       "        -0.16098216, -0.8033451 , -0.01506898, -0.7725625 , -0.63419783,\n",
       "        -0.03268585, -0.8842079 , -1.3567184 , -0.38090166, -0.87725526,\n",
       "        -0.549559  , -2.2945073 , -0.2840557 , -0.26372674, -1.523634  ,\n",
       "        -0.19930366, -0.44472775, -1.0273446 ,  1.7387146 , -0.46165946,\n",
       "        -1.0427694 ,  1.1709788 , -0.74859613, -0.70923615, -0.4944512 ,\n",
       "        -0.22704735, -0.01205789, -0.29558137, -1.2132907 , -0.36048022,\n",
       "        -0.21242355, -0.7548887 , -0.20355015, -0.10905109, -0.94693685,\n",
       "         1.5441989 , -0.3613    , -0.02642201, -0.2218542 ,  1.2160584 ,\n",
       "         0.4682864 , -0.38848317,  0.01445967, -1.0111234 , -0.06924412,\n",
       "         0.11454967, -0.64739245,  0.820928  , -1.3833787 ,  0.14556101,\n",
       "        -0.20241627,  0.7054024 ,  0.1182256 ,  2.273929  , -0.63414603,\n",
       "        -0.46075314, -0.5720198 , -0.33366588, -0.5620835 , -0.45704937,\n",
       "        -0.28404146, -0.77579516, -0.27323863, -1.018026  , -0.31866288,\n",
       "        -0.5942895 , -0.40871218, -0.1375475 , -0.34270775, -0.47494566,\n",
       "        -0.46544504, -0.86961067, -0.02532194, -0.24974972, -1.1292726 ,\n",
       "        -0.5292308 , -0.24686253,  1.1413707 , -0.7211855 ,  0.29846096,\n",
       "        -0.15671869, -0.34729502, -0.13199309, -0.62707776, -1.3250632 ,\n",
       "        -0.81905067, -0.2500035 ,  0.7743711 ,  0.08170873, -0.39711046,\n",
       "        -0.28520894, -0.8136666 , -0.07837602,  0.41185617, -0.04680789,\n",
       "         0.4328161 , -0.24712831,  0.32807902, -0.6150925 ,  0.26562348,\n",
       "        -0.95533895, -0.07376065, -0.29701838, -0.38991588, -0.5235345 ,\n",
       "        -0.42694232, -0.8049118 , -1.3125744 ,  0.195221  , -1.6732956 ,\n",
       "         1.2080067 , -0.32652563, -0.5103761 , -0.49426404, -0.16023825,\n",
       "         1.1358712 , -1.2791709 , -0.32750028, -0.5456968 , -0.64184594,\n",
       "        -0.01272955, -0.30433345, -0.029431  , -0.3016441 , -0.9277981 ,\n",
       "        -1.5675329 , -0.25982282, -0.3131108 , -0.37964472, -0.62603617,\n",
       "         1.9892704 , -0.7540146 , -0.56462985, -0.36039263,  0.73560345,\n",
       "        -0.64919126, -0.1390205 , -0.02313536, -0.38247618, -1.9542923 ,\n",
       "        -1.1379507 , -0.21796831, -0.8747702 , -0.10458146, -0.0623457 ,\n",
       "        -1.3867338 ,  0.2438268 , -0.40120453,  1.541562  , -0.14150345,\n",
       "        -0.52601886,  1.1209296 , -0.22423257, -0.22294945, -0.266029  ,\n",
       "        -0.6232595 , -0.4812248 , -0.07218819, -0.16174649, -0.40606198,\n",
       "         0.4643218 ,  0.7617322 , -0.9348666 , -0.45607027, -0.2544236 ,\n",
       "        -0.5281367 , -0.5868828 , -0.47966975, -0.379234  , -0.38250184,\n",
       "         0.3380744 , -1.1138798 ,  0.19230092, -0.06329037, -0.23906405,\n",
       "        -0.1689026 , -0.61783427, -0.5394939 , -0.547052  , -0.41715586,\n",
       "         0.2771179 ]], dtype=float32)>"
      ]
     },
     "execution_count": 60,
     "metadata": {},
     "output_type": "execute_result"
    }
   ],
   "source": [
    "x5 = layers[10](layers[9](x4)); x5"
   ]
  },
  {
   "cell_type": "code",
   "execution_count": 61,
   "metadata": {
    "collapsed": true
   },
   "outputs": [
    {
     "data": {
      "text/plain": [
       "<tf.Tensor: id=1828, shape=(1, 256), dtype=float32, numpy=\n",
       "array([[-9.50935930e-02, -1.71464473e-01, -3.33651692e-01,\n",
       "        -5.66099323e-02, -2.60245502e-01, -8.16493183e-02,\n",
       "        -2.96894848e-01,  6.22324347e-02, -4.27212209e-01,\n",
       "        -1.59100369e-01, -1.95261374e-01, -1.07174791e-01,\n",
       "        -2.92585164e-01, -2.60049582e-01, -1.60601377e-01,\n",
       "         4.02183443e-01, -1.40554667e-01, -4.84054610e-02,\n",
       "        -8.63630399e-02, -1.58042729e-01, -1.06895678e-01,\n",
       "        -2.20558897e-01, -1.95112117e-02, -1.44616857e-01,\n",
       "         2.85689354e-01, -6.31874502e-02, -1.16099574e-01,\n",
       "         7.07823634e-02, -8.06542952e-03, -7.47420359e-03,\n",
       "         2.47443974e-01, -2.05590859e-01, -1.58300832e-01,\n",
       "        -4.33736920e-01,  2.35323399e-01,  4.20340031e-01,\n",
       "        -1.61753818e-01, -3.57226133e-01,  2.03870952e-01,\n",
       "        -6.50094226e-02, -2.49787405e-01,  1.37489736e-02,\n",
       "         3.86016965e-02, -1.66623294e-02,  5.24686217e-01,\n",
       "         1.93764925e-01, -3.47815216e-01, -4.71558422e-02,\n",
       "        -1.68431327e-01, -1.45931309e-02, -1.34803206e-01,\n",
       "         1.26121789e-02,  1.41272247e-02, -9.10599604e-02,\n",
       "         5.62342852e-02, -1.17415376e-01, -4.28726040e-02,\n",
       "        -3.50125283e-02, -7.63626844e-02, -1.32196441e-01,\n",
       "        -9.53972358e-06, -2.10946381e-01, -1.40986457e-01,\n",
       "        -2.48248070e-01, -4.46717441e-03,  2.79132217e-01,\n",
       "        -3.34046781e-02, -6.93761259e-02, -1.67785913e-01,\n",
       "        -9.27545652e-02, -1.39003381e-01, -2.81734556e-01,\n",
       "        -1.71808764e-01,  1.23303682e-01, -3.06929529e-01,\n",
       "        -1.56021893e-01, -2.19518185e-01, -1.54046580e-01,\n",
       "        -1.27855033e-01, -7.00162351e-02, -3.81017923e-01,\n",
       "        -2.71488279e-01, -6.99563399e-02, -1.75739735e-01,\n",
       "        -2.39060804e-01, -3.05680692e-01, -2.90657789e-01,\n",
       "        -1.04845122e-01, -9.99277309e-02, -2.49692231e-01,\n",
       "         4.11807597e-02, -4.00820076e-02, -5.19475602e-02,\n",
       "        -6.18213080e-02, -5.56685030e-01, -3.22029553e-02,\n",
       "         1.03203797e+00, -1.43789023e-01,  1.21514305e-01,\n",
       "        -8.09666589e-02,  8.88082385e-02, -7.12317824e-02,\n",
       "        -2.42171530e-02, -2.13293344e-01, -9.18826461e-03,\n",
       "         3.36342245e-01,  2.89387763e-01, -2.52878010e-01,\n",
       "        -1.15716472e-01,  6.02718592e-01, -2.60351390e-01,\n",
       "        -1.22381717e-01, -1.22844428e-01, -1.65115803e-01,\n",
       "        -2.65678942e-01, -4.23497558e-02, -3.03079516e-01,\n",
       "        -5.85669763e-02, -3.92326266e-02, -1.43800706e-01,\n",
       "        -1.32498205e-01, -1.58044741e-01, -9.67960730e-02,\n",
       "        -2.01387629e-01, -5.53627573e-02, -7.88375456e-03,\n",
       "         1.25641435e-01,  8.56462717e-02, -5.99624254e-02,\n",
       "        -1.33440956e-01, -4.86185625e-02, -5.62733635e-02,\n",
       "         6.77521229e-02, -1.36304274e-01, -1.51215926e-01,\n",
       "         1.05217889e-01, -5.98550178e-02, -5.14685176e-02,\n",
       "        -1.58153828e-02, -9.61387157e-02, -8.08264613e-02,\n",
       "        -2.21286584e-02, -5.48202135e-02, -1.74272597e-01,\n",
       "         2.19732583e-01, -1.44022837e-01, -1.82010666e-01,\n",
       "        -2.05167502e-01, -2.18166411e-03,  5.75113893e-02,\n",
       "         2.91129649e-02, -7.30737373e-02, -2.40906909e-01,\n",
       "        -2.80757278e-01, -3.51103902e-01, -2.42673084e-01,\n",
       "        -1.75006419e-01, -1.59959912e-01,  1.54366910e-01,\n",
       "        -1.34031475e-01, -2.30785590e-02, -1.49692863e-01,\n",
       "        -1.80257052e-01, -8.38930160e-02, -4.91244867e-02,\n",
       "        -9.72925350e-02, -1.90750420e-01, -1.47031263e-01,\n",
       "        -1.78283110e-01, -1.25198871e-01,  1.71474218e-01,\n",
       "        -2.00737104e-01,  2.36012936e+00, -1.03168063e-01,\n",
       "        -2.14650944e-01, -8.37403536e-02, -3.16601813e-01,\n",
       "         7.32871890e-01, -8.53586048e-02, -6.96379021e-02,\n",
       "        -6.18076771e-02, -6.76351413e-02, -1.61203668e-01,\n",
       "        -4.68812324e-02, -2.82863230e-01, -1.79527923e-02,\n",
       "        -6.54865503e-02,  6.97818875e-01,  9.95974779e-01,\n",
       "        -1.69642970e-01, -1.91632092e-01,  2.52641946e-01,\n",
       "        -1.08946763e-01, -1.20522849e-01, -1.68470889e-01,\n",
       "         2.63737202e-01, -1.68083027e-01, -1.25169292e-01,\n",
       "        -2.19807148e-01, -6.44072965e-02,  1.42889947e-01,\n",
       "        -4.35919054e-02, -1.89808402e-02, -1.24370262e-01,\n",
       "         4.07912135e-02, -1.32586658e-01, -5.72015606e-02,\n",
       "        -1.06919222e-01, -1.46768004e-01, -2.41131946e-01,\n",
       "         4.76537049e-02, -1.51876658e-01,  3.05466324e-01,\n",
       "        -1.59736797e-01, -9.74157378e-02, -1.33599117e-01,\n",
       "        -1.76828444e-01,  1.02722019e-01, -4.40948345e-02,\n",
       "        -2.89085329e-01, -1.58143580e-01, -3.34915221e-02,\n",
       "        -6.05122335e-02,  2.19079748e-01, -1.34913802e-01,\n",
       "         5.30653000e-02, -8.11098441e-02, -1.54806957e-01,\n",
       "        -2.11293206e-01, -1.08859958e-02, -1.72717273e-01,\n",
       "        -2.69078817e-02, -3.31382677e-02, -3.04638028e-01,\n",
       "        -3.89213301e-02, -1.22218363e-01, -5.02140522e-02,\n",
       "        -9.17192549e-02,  1.44908816e-01, -1.62469149e-01,\n",
       "        -2.62078226e-01, -2.14911029e-02, -7.05046803e-02,\n",
       "         1.15269452e-01, -1.02184191e-01, -1.30913127e-02,\n",
       "        -1.47644565e-01, -1.18631929e-01, -1.66907147e-01,\n",
       "        -2.70353407e-01,  3.14438820e-01, -3.65004271e-01,\n",
       "        -1.92881450e-01, -4.46255393e-02, -9.02305245e-02,\n",
       "        -8.16530511e-02]], dtype=float32)>"
      ]
     },
     "execution_count": 61,
     "metadata": {},
     "output_type": "execute_result"
    }
   ],
   "source": [
    "x6 = layers[12](layers[11](x5)); x6"
   ]
  },
  {
   "cell_type": "code",
   "execution_count": 64,
   "metadata": {
    "collapsed": true
   },
   "outputs": [
    {
     "data": {
      "text/plain": [
       "<tf.Tensor: id=1839, shape=(1, 256), dtype=float32, numpy=\n",
       "array([[-0.03346551, -0.0321105 , -0.06573202,  0.11263064,  0.02748455,\n",
       "        -0.02591684, -0.0023659 , -0.01296547, -0.02284596, -0.00471759,\n",
       "        -0.04747875, -0.00980503, -0.03010444,  0.00142284,  0.01359774,\n",
       "        -0.0106375 ,  0.04033142, -0.03835925, -0.03975753, -0.0059738 ,\n",
       "        -0.01520688,  0.03356584, -0.03337166, -0.01860335, -0.02496452,\n",
       "        -0.00766174, -0.02554843, -0.00579812, -0.03280387, -0.0247837 ,\n",
       "        -0.00744212, -0.03652439, -0.01321403, -0.05434971, -0.01083112,\n",
       "        -0.01682512, -0.01362972, -0.00218525, -0.00316069, -0.04241107,\n",
       "        -0.14280343, -0.06402364, -0.05582096, -0.00456217, -0.06018514,\n",
       "        -0.01854103, -0.0147765 , -0.01662648,  0.0557589 , -0.05993084,\n",
       "        -0.03035116, -0.00700444, -0.01120684, -0.05514407, -0.00658634,\n",
       "        -0.02190159, -0.02231484, -0.03538584, -0.04748687, -0.04628718,\n",
       "        -0.0874557 , -0.0265885 , -0.01757097,  0.04794926, -0.05455065,\n",
       "        -0.06987098, -0.04243105, -0.07916882, -0.00769405, -0.00131987,\n",
       "         0.00096404, -0.07092938,  0.20202097, -0.04908856, -0.00480782,\n",
       "        -0.03479639, -0.01565259, -0.02153494, -0.00284992, -0.02655028,\n",
       "        -0.04899534, -0.04713865, -0.04279466, -0.0289442 , -0.04802305,\n",
       "        -0.02662688, -0.03695486, -0.03071889, -0.0217987 ,  0.06400408,\n",
       "        -0.13119543, -0.02730307, -0.01650108, -0.00985606, -0.03144539,\n",
       "         0.02217093, -0.04832124, -0.04697118, -0.03773765, -0.03729701,\n",
       "        -0.03974038, -0.04432965, -0.03955562, -0.03932416, -0.03363732,\n",
       "         0.04092333, -0.0293865 , -0.04362243, -0.11610577, -0.03244427,\n",
       "        -0.01692634, -0.03200122, -0.00086673,  0.07662312, -0.00562869,\n",
       "        -0.03922625, -0.03471028, -0.10085136, -0.04932487, -0.06329532,\n",
       "        -0.01073457, -0.04219693, -0.05588127, -0.04359179, -0.00860722,\n",
       "        -0.04076928,  0.03154484, -0.01141987, -0.04270361, -0.01322374,\n",
       "        -0.06658845,  0.04874571, -0.00866543, -0.00715883, -0.02962867,\n",
       "        -0.03050193, -0.01558391, -0.02088634, -0.00555782, -0.0021359 ,\n",
       "        -0.03951769, -0.03070949,  0.02305878, -0.05926917,  0.07255291,\n",
       "         0.15588132, -0.04566908, -0.03936094, -0.01873158, -0.03421098,\n",
       "         0.02162094,  0.03181987,  0.43597034, -0.04233618, -0.01573637,\n",
       "        -0.01536561,  0.04360161, -0.03941355, -0.01846358, -0.00228108,\n",
       "         0.01735556, -0.03473757, -0.04259198,  0.10244052, -0.08743533,\n",
       "         0.07610691, -0.03556973, -0.02271899, -0.04716069,  0.01474288,\n",
       "         0.00138322, -0.03761773, -0.01630042, -0.00908743, -0.05094622,\n",
       "        -0.07944587, -0.00655175, -0.03644982, -0.06038284, -0.04000314,\n",
       "        -0.15976922, -0.04102745, -0.20578277, -0.00872485, -0.01478256,\n",
       "         0.02821427, -0.06026908, -0.01794944, -0.02432546,  0.02621461,\n",
       "         0.00289484, -0.00659523, -0.03635392, -0.04363238, -0.00426128,\n",
       "        -0.03459612, -0.00057709,  0.02393501, -0.09551189, -0.00181912,\n",
       "         0.15100007, -0.0276411 ,  0.03073545, -0.02157841, -0.03471011,\n",
       "        -0.00513822,  0.03886415, -0.02653822, -0.00103492, -0.02784558,\n",
       "        -0.03274767, -0.01558415,  0.47640195, -0.06189755, -0.03380195,\n",
       "        -0.01949009, -0.02235727, -0.04728898, -0.02172384,  0.05034021,\n",
       "        -0.00765965,  0.17473301, -0.03481077, -0.0302114 , -0.00520769,\n",
       "        -0.03933442, -0.0065171 , -0.03088191, -0.00715917, -0.0293171 ,\n",
       "        -0.06804647, -0.02033282, -0.02437384, -0.00648441, -0.01602655,\n",
       "        -0.14173806, -0.04620858, -0.05288959,  0.05201928, -0.03390162,\n",
       "        -0.01107252,  0.02086489,  0.06223671, -0.00059777, -0.03140556,\n",
       "        -0.04344375, -0.04004383, -0.03672434,  0.02510993, -0.00646205,\n",
       "        -0.03225605, -0.04136036, -0.02229495, -0.00744131, -0.02624621,\n",
       "        -0.05687809]], dtype=float32)>"
      ]
     },
     "execution_count": 64,
     "metadata": {},
     "output_type": "execute_result"
    }
   ],
   "source": [
    "x7 = layers[14](layers[13](x6)); x7"
   ]
  },
  {
   "cell_type": "code",
   "execution_count": 65,
   "metadata": {},
   "outputs": [
    {
     "data": {
      "text/plain": [
       "<tf.Tensor: id=1844, shape=(1, 65), dtype=float32, numpy=\n",
       "array([[ 4.2698252e-31,  3.9460979e-31,  1.5204006e-07,  3.9461156e-08,\n",
       "        -5.9830754e-09,  7.9048910e-09,  2.2659307e-07,  5.3115912e-08,\n",
       "         7.4346462e-07, -5.9936428e-07,  5.0268136e-06,  1.1608354e-05,\n",
       "         3.5041710e-05,  1.6191322e-04,  4.2073429e-05,  1.5107170e-04,\n",
       "         3.4427084e-04,  3.3860840e-04,  1.4713034e-05, -1.6227365e-03,\n",
       "        -1.0487805e-03,  2.0122991e-03,  7.9243165e-03,  1.6841592e-02,\n",
       "        -4.6822103e-03, -7.9193981e-03, -2.4720028e-02, -1.9089228e-02,\n",
       "         1.5465952e-02,  9.0164952e-03, -3.2838155e-03, -3.3090431e-03,\n",
       "        -3.5990775e-04, -3.0391477e-04, -2.2458555e-03, -4.9097033e-04,\n",
       "        -2.7672620e-05, -2.5752513e-04, -3.5190629e-04, -4.3708697e-04,\n",
       "        -3.4435559e-04, -8.7579992e-04, -6.4786337e-04, -1.2998173e-03,\n",
       "        -2.4690372e-03, -3.7306324e-03, -5.7519428e-03, -8.4328502e-03,\n",
       "        -8.6182961e-03, -6.8062600e-03, -4.3316521e-03, -5.7101427e-03,\n",
       "        -2.9738937e-03, -1.4390708e-03,  2.0858196e-03,  7.5462670e-04,\n",
       "         2.6277252e-03,  1.8380597e-04, -3.8334923e-03, -7.1047060e-03,\n",
       "         3.7465701e-01, -2.8379747e-01, -2.3057826e-01,  8.3990812e-02,\n",
       "         5.1648617e-03]], dtype=float32)>"
      ]
     },
     "execution_count": 65,
     "metadata": {},
     "output_type": "execute_result"
    }
   ],
   "source": [
    "x8 = layers[15](x7); x8"
   ]
  },
  {
   "cell_type": "code",
   "execution_count": 66,
   "metadata": {},
   "outputs": [
    {
     "data": {
      "text/plain": [
       "<tf.Tensor: id=1885, shape=(1, 65), dtype=float32, numpy=\n",
       "array([[ 4.2698252e-31,  3.9460979e-31,  1.5204006e-07,  3.9461156e-08,\n",
       "        -5.9830754e-09,  7.9048910e-09,  2.2659307e-07,  5.3115912e-08,\n",
       "         7.4346462e-07, -5.9936428e-07,  5.0268136e-06,  1.1608354e-05,\n",
       "         3.5041710e-05,  1.6191322e-04,  4.2073429e-05,  1.5107170e-04,\n",
       "         3.4427084e-04,  3.3860840e-04,  1.4713034e-05, -1.6227365e-03,\n",
       "        -1.0487805e-03,  2.0122991e-03,  7.9243165e-03,  1.6841592e-02,\n",
       "        -4.6822103e-03, -7.9193981e-03, -2.4720028e-02, -1.9089228e-02,\n",
       "         1.5465952e-02,  9.0164952e-03, -3.2838155e-03, -3.3090431e-03,\n",
       "        -3.5990775e-04, -3.0391477e-04, -2.2458555e-03, -4.9097033e-04,\n",
       "        -2.7672620e-05, -2.5752513e-04, -3.5190629e-04, -4.3708697e-04,\n",
       "        -3.4435559e-04, -8.7579992e-04, -6.4786337e-04, -1.2998173e-03,\n",
       "        -2.4690372e-03, -3.7306324e-03, -5.7519428e-03, -8.4328502e-03,\n",
       "        -8.6182961e-03, -6.8062600e-03, -4.3316521e-03, -5.7101427e-03,\n",
       "        -2.9738937e-03, -1.4390708e-03,  2.0858196e-03,  7.5462670e-04,\n",
       "         2.6277252e-03,  1.8380597e-04, -3.8334923e-03, -7.1047060e-03,\n",
       "         3.7465701e-01, -2.8379747e-01, -2.3057826e-01,  8.3990812e-02,\n",
       "         5.1648617e-03]], dtype=float32)>"
      ]
     },
     "execution_count": 66,
     "metadata": {},
     "output_type": "execute_result"
    }
   ],
   "source": [
    "model(in_vec_trans)"
   ]
  },
  {
   "cell_type": "code",
   "execution_count": null,
   "metadata": {},
   "outputs": [],
   "source": []
  }
 ],
 "metadata": {
  "kernelspec": {
   "display_name": "Python 3",
   "language": "python",
   "name": "python3"
  },
  "language_info": {
   "codemirror_mode": {
    "name": "ipython",
    "version": 3
   },
   "file_extension": ".py",
   "mimetype": "text/x-python",
   "name": "python",
   "nbconvert_exporter": "python",
   "pygments_lexer": "ipython3",
   "version": "3.6.7"
  },
  "toc": {
   "base_numbering": 1,
   "nav_menu": {},
   "number_sections": true,
   "sideBar": false,
   "skip_h1_title": true,
   "title_cell": "Table of Contents",
   "title_sidebar": "Contents",
   "toc_cell": false,
   "toc_position": {},
   "toc_section_display": true,
   "toc_window_display": false
  }
 },
 "nbformat": 4,
 "nbformat_minor": 2
}
