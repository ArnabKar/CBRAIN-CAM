{
 "cells": [
  {
   "cell_type": "markdown",
   "metadata": {},
   "source": [
    "# First network tests with new code version\n",
    "\n",
    "Goal: Get a CAM implementation.\n",
    "\n",
    "Stick with 8 columns for now since we know that works in the PNAS version."
   ]
  },
  {
   "cell_type": "markdown",
   "metadata": {},
   "source": [
    "## Create scaling dictionary for PNAS version"
   ]
  },
  {
   "cell_type": "code",
   "execution_count": 2,
   "metadata": {},
   "outputs": [],
   "source": [
    "from cbrain.normalization import conversion_dict"
   ]
  },
  {
   "cell_type": "code",
   "execution_count": 4,
   "metadata": {},
   "outputs": [],
   "source": [
    "from cbrain.utils import *"
   ]
  },
  {
   "cell_type": "code",
   "execution_count": 3,
   "metadata": {},
   "outputs": [
    {
     "data": {
      "text/plain": [
       "{'TPHYSTND': 1004.64,\n",
       " 'TPHY_NOKE': 1004.64,\n",
       " 'TPHYSTND_NORAD': 1004.64,\n",
       " 'PHQ': 2834700.0,\n",
       " 'PHCLDLIQ': 2834700.0,\n",
       " 'PHCLDICE': 2834700.0,\n",
       " 'SPDT': 1004.64,\n",
       " 'SPDQ': 2501000.0,\n",
       " 'QRL': 1004.64,\n",
       " 'QRS': 1004.64,\n",
       " 'PRECT': 1728000.0,\n",
       " 'TOT_PRECL': 1728.0,\n",
       " 'TOT_PRECS': 1728.0,\n",
       " 'PRECS': 1728000.0,\n",
       " 'FLUT': 1e-05,\n",
       " 'FSNT': 0.001,\n",
       " 'FSDS': -0.001,\n",
       " 'FSNS': -0.001,\n",
       " 'FLNT': -0.001,\n",
       " 'FLNS': 0.001,\n",
       " 'QAP': 1574.8333333333333,\n",
       " 'QCAP': 1574.8333333333333,\n",
       " 'QIAP': 1574.8333333333333}"
      ]
     },
     "execution_count": 3,
     "metadata": {},
     "output_type": "execute_result"
    }
   ],
   "source": [
    "conversion_dict"
   ]
  },
  {
   "cell_type": "code",
   "execution_count": 6,
   "metadata": {},
   "outputs": [],
   "source": [
    "save_pickle('../../nn_config/scale_dicts/002_pnas_scaling.pkl', conversion_dict)"
   ]
  },
  {
   "cell_type": "code",
   "execution_count": null,
   "metadata": {},
   "outputs": [],
   "source": []
  }
 ],
 "metadata": {
  "kernelspec": {
   "display_name": "Python 3",
   "language": "python",
   "name": "python3"
  },
  "language_info": {
   "codemirror_mode": {
    "name": "ipython",
    "version": 3
   },
   "file_extension": ".py",
   "mimetype": "text/x-python",
   "name": "python",
   "nbconvert_exporter": "python",
   "pygments_lexer": "ipython3",
   "version": "3.6.8"
  },
  "toc": {
   "base_numbering": 1,
   "nav_menu": {},
   "number_sections": true,
   "sideBar": false,
   "skip_h1_title": true,
   "title_cell": "Table of Contents",
   "title_sidebar": "Contents",
   "toc_cell": false,
   "toc_position": {},
   "toc_section_display": true,
   "toc_window_display": false
  }
 },
 "nbformat": 4,
 "nbformat_minor": 2
}
