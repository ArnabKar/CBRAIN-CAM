{
 "cells": [
  {
   "cell_type": "markdown",
   "metadata": {
    "toc": "true"
   },
   "source": [
    " # Table of Contents\n",
    "<div class=\"toc\" style=\"margin-top: 1em;\"><ul class=\"toc-item\" id=\"toc-level0\"></ul></div>"
   ]
  },
  {
   "cell_type": "code",
   "execution_count": 1,
   "metadata": {
    "collapsed": true
   },
   "outputs": [],
   "source": [
    "from netCDF4 import Dataset\n"
   ]
  },
  {
   "cell_type": "code",
   "execution_count": 2,
   "metadata": {},
   "outputs": [
    {
     "name": "stdout",
     "output_type": "stream",
     "text": [
      "AndKua_aqua_SPCAM3.0.cam2.h1.0000-01-01-00000.nc\r\n",
      "conda-cheatsheet.pdf\r\n",
      "crm.F\r\n",
      "read_aquaplanet.m\r\n",
      "read_write_max.m\r\n",
      "read_write_normalization.m\r\n",
      "sample\r\n",
      "SPCAM_max.nc\r\n",
      "SPCAM_mean.nc\r\n",
      "SPCAM_outputs.nc\r\n",
      "SPCAM_std.nc\r\n",
      "tphysbc_internallythreaded.F90\r\n",
      "variables2predict.F\r\n"
     ]
    }
   ],
   "source": [
    "# data_dir = '/Volumes/STICK/data/SPCAM/'   # Mac\n",
    "data_dir = '/project/meteo/w2w/A6/S.Rasp/SP-CAM/'   # LMU\n",
    "!ls $data_dir"
   ]
  },
  {
   "cell_type": "code",
   "execution_count": 3,
   "metadata": {},
   "outputs": [
    {
     "data": {
      "text/plain": [
       "<class 'netCDF4._netCDF4.Dataset'>\n",
       "root group (NETCDF4_CLASSIC data model, file format HDF5):\n",
       "    dimensions(sizes): z(21)\n",
       "    variables(dimensions): float64 \u001b[4mPS\u001b[0m(), float64 \u001b[4mSHFLX\u001b[0m(), float64 \u001b[4mLHFLX\u001b[0m(), float64 \u001b[4mOMEGA\u001b[0m(z), float64 \u001b[4mQAP\u001b[0m(z), float64 \u001b[4mTAP\u001b[0m(z), float64 \u001b[4mQRL\u001b[0m(z), float64 \u001b[4mQRS\u001b[0m(z), float64 \u001b[4mUBSP\u001b[0m(z), float64 \u001b[4mVBSP\u001b[0m(z), float64 \u001b[4mdTdt_adiabatic\u001b[0m(z), float64 \u001b[4mdQdt_adiabatic\u001b[0m(z), float64 \u001b[4mGRAD_UQ_H\u001b[0m(z), float64 \u001b[4mSPQC\u001b[0m(z), float64 \u001b[4mSPQG\u001b[0m(z), float64 \u001b[4mSPQI\u001b[0m(z), float64 \u001b[4mSPQR\u001b[0m(z), float64 \u001b[4mSPMC\u001b[0m(z), float64 \u001b[4mSPMCDN\u001b[0m(z), float64 \u001b[4mSPMCUDN\u001b[0m(z), float64 \u001b[4mSPMCUP\u001b[0m(z), float64 \u001b[4mSPMCUUP\u001b[0m(z), float64 \u001b[4mTPHYSTND\u001b[0m(z), float64 \u001b[4mPHQ\u001b[0m(z), float64 \u001b[4mSPDT\u001b[0m(z), float64 \u001b[4mSPDQ\u001b[0m(z), float64 \u001b[4mSPDQC\u001b[0m(z), float64 \u001b[4mSPDQI\u001b[0m(z)\n",
       "    groups: "
      ]
     },
     "execution_count": 3,
     "metadata": {},
     "output_type": "execute_result"
    }
   ],
   "source": [
    "mean = Dataset(data_dir + 'SPCAM_mean.nc')\n",
    "mean"
   ]
  },
  {
   "cell_type": "code",
   "execution_count": 4,
   "metadata": {},
   "outputs": [
    {
     "data": {
      "text/plain": [
       "<class 'netCDF4._netCDF4.Dataset'>\n",
       "root group (NETCDF4_CLASSIC data model, file format HDF5):\n",
       "    dimensions(sizes): \n",
       "    variables(dimensions): float64 \u001b[4mSPQC\u001b[0m(), float64 \u001b[4mSPQG\u001b[0m(), float64 \u001b[4mSPQI\u001b[0m(), float64 \u001b[4mSPQR\u001b[0m(), float64 \u001b[4mSPMC\u001b[0m(), float64 \u001b[4mSPMCDN\u001b[0m(), float64 \u001b[4mSPMCUDN\u001b[0m(), float64 \u001b[4mSPMCUP\u001b[0m(), float64 \u001b[4mSPMCUUP\u001b[0m(), float64 \u001b[4mTPHYSTND\u001b[0m(), float64 \u001b[4mPHQ\u001b[0m(), float64 \u001b[4mSPDT\u001b[0m(), float64 \u001b[4mSPDQ\u001b[0m(), float64 \u001b[4mSPDQC\u001b[0m(), float64 \u001b[4mSPDQI\u001b[0m()\n",
       "    groups: "
      ]
     },
     "execution_count": 4,
     "metadata": {},
     "output_type": "execute_result"
    }
   ],
   "source": [
    "ncmax = Dataset(data_dir + 'SPCAM_max.nc')\n",
    "ncmax"
   ]
  },
  {
   "cell_type": "code",
   "execution_count": 5,
   "metadata": {},
   "outputs": [
    {
     "data": {
      "text/plain": [
       "<class 'netCDF4._netCDF4.Dataset'>\n",
       "root group (NETCDF4_CLASSIC data model, file format HDF5):\n",
       "    dimensions(sizes): z(21)\n",
       "    variables(dimensions): float64 \u001b[4mPS\u001b[0m(), float64 \u001b[4mSHFLX\u001b[0m(), float64 \u001b[4mLHFLX\u001b[0m(), float64 \u001b[4mOMEGA\u001b[0m(z), float64 \u001b[4mQAP\u001b[0m(z), float64 \u001b[4mTAP\u001b[0m(z), float64 \u001b[4mQRL\u001b[0m(z), float64 \u001b[4mQRS\u001b[0m(z), float64 \u001b[4mUBSP\u001b[0m(z), float64 \u001b[4mVBSP\u001b[0m(z), float64 \u001b[4mdTdt_adiabatic\u001b[0m(z), float64 \u001b[4mdQdt_adiabatic\u001b[0m(z), float64 \u001b[4mGRAD_UQ_H\u001b[0m(z), float64 \u001b[4mSPQC\u001b[0m(z), float64 \u001b[4mSPQG\u001b[0m(z), float64 \u001b[4mSPQI\u001b[0m(z), float64 \u001b[4mSPQR\u001b[0m(z), float64 \u001b[4mSPMC\u001b[0m(z), float64 \u001b[4mSPMCDN\u001b[0m(z), float64 \u001b[4mSPMCUDN\u001b[0m(z), float64 \u001b[4mSPMCUP\u001b[0m(z), float64 \u001b[4mSPMCUUP\u001b[0m(z), float64 \u001b[4mTPHYSTND\u001b[0m(z), float64 \u001b[4mPHQ\u001b[0m(z), float64 \u001b[4mSPDT\u001b[0m(z), float64 \u001b[4mSPDQ\u001b[0m(z), float64 \u001b[4mSPDQC\u001b[0m(z), float64 \u001b[4mSPDQI\u001b[0m(z)\n",
       "    groups: "
      ]
     },
     "execution_count": 5,
     "metadata": {},
     "output_type": "execute_result"
    }
   ],
   "source": [
    "std = Dataset(data_dir + 'SPCAM_std.nc')\n",
    "std"
   ]
  },
  {
   "cell_type": "code",
   "execution_count": 7,
   "metadata": {},
   "outputs": [
    {
     "data": {
      "text/plain": [
       "<class 'netCDF4._netCDF4.Dataset'>\n",
       "root group (NETCDF4_CLASSIC data model, file format HDF5):\n",
       "    dimensions(sizes): t(4620288), z(21)\n",
       "    variables(dimensions): float64 \u001b[4mLAT\u001b[0m(t), float64 \u001b[4mPS\u001b[0m(t), float64 \u001b[4mSHFLX\u001b[0m(t), float64 \u001b[4mLHFLX\u001b[0m(t), float64 \u001b[4mOMEGA\u001b[0m(z,t), float64 \u001b[4mQAP\u001b[0m(z,t), float64 \u001b[4mTAP\u001b[0m(z,t), float64 \u001b[4mQRL\u001b[0m(z,t), float64 \u001b[4mQRS\u001b[0m(z,t), float64 \u001b[4mUBSP\u001b[0m(z,t), float64 \u001b[4mVBSP\u001b[0m(z,t), float64 \u001b[4mSPQC\u001b[0m(z,t), float64 \u001b[4mSPQG\u001b[0m(z,t), float64 \u001b[4mSPQI\u001b[0m(z,t), float64 \u001b[4mSPQR\u001b[0m(z,t), float64 \u001b[4mSPMC\u001b[0m(z,t), float64 \u001b[4mSPMCDN\u001b[0m(z,t), float64 \u001b[4mSPMCUDN\u001b[0m(z,t), float64 \u001b[4mSPMCUP\u001b[0m(z,t), float64 \u001b[4mSPMCUUP\u001b[0m(z,t), float64 \u001b[4mTPHYSTND\u001b[0m(z,t), float64 \u001b[4mPHQ\u001b[0m(z,t), float64 \u001b[4mSPDT\u001b[0m(z,t), float64 \u001b[4mSPDQ\u001b[0m(z,t), float64 \u001b[4mSPDQC\u001b[0m(z,t), float64 \u001b[4mSPDQI\u001b[0m(z,t), float64 \u001b[4mdTdt_adiabatic\u001b[0m(z,t), float64 \u001b[4mdQdt_adiabatic\u001b[0m(z,t), float64 \u001b[4mGRAD_UQ_H\u001b[0m(z,t)\n",
       "    groups: "
      ]
     },
     "execution_count": 7,
     "metadata": {},
     "output_type": "execute_result"
    }
   ],
   "source": [
    "out = Dataset(data_dir + 'SPCAM_outputs.nc')\n",
    "out"
   ]
  },
  {
   "cell_type": "code",
   "execution_count": 8,
   "metadata": {},
   "outputs": [
    {
     "name": "stdout",
     "output_type": "stream",
     "text": [
      "SPCAM_mean.nc  SPCAM_outputs.nc  SPCAM_std.nc\r\n"
     ]
    }
   ],
   "source": [
    "sample_dir = data_dir + '/sample/'\n",
    "%ls $sample_dir"
   ]
  },
  {
   "cell_type": "code",
   "execution_count": 9,
   "metadata": {
    "collapsed": true
   },
   "outputs": [],
   "source": [
    "! cp $sample_dir/SPCAM_mean.nc $sample_dir/SPCAM_mean_no_lat.nc\n",
    "! cp $sample_dir/SPCAM_std.nc $sample_dir/SPCAM_std_no_lat.nc"
   ]
  },
  {
   "cell_type": "code",
   "execution_count": 10,
   "metadata": {},
   "outputs": [
    {
     "data": {
      "text/plain": [
       "<class 'netCDF4._netCDF4.Dataset'>\n",
       "root group (NETCDF4 data model, file format HDF5):\n",
       "    dimensions(sizes): t(100000), z(21)\n",
       "    variables(dimensions): float64 \u001b[4mLAT\u001b[0m(t), float64 \u001b[4mPS\u001b[0m(t), float64 \u001b[4mSHFLX\u001b[0m(t), float64 \u001b[4mLHFLX\u001b[0m(t), float64 \u001b[4mOMEGA\u001b[0m(z,t), float64 \u001b[4mQAP\u001b[0m(z,t), float64 \u001b[4mTAP\u001b[0m(z,t), float64 \u001b[4mQRL\u001b[0m(z,t), float64 \u001b[4mQRS\u001b[0m(z,t), float64 \u001b[4mUBSP\u001b[0m(z,t), float64 \u001b[4mVBSP\u001b[0m(z,t), float64 \u001b[4mSPQC\u001b[0m(z,t), float64 \u001b[4mSPQG\u001b[0m(z,t), float64 \u001b[4mSPQI\u001b[0m(z,t), float64 \u001b[4mSPQR\u001b[0m(z,t), float64 \u001b[4mSPMC\u001b[0m(z,t), float64 \u001b[4mSPMCDN\u001b[0m(z,t), float64 \u001b[4mSPMCUDN\u001b[0m(z,t), float64 \u001b[4mSPMCUP\u001b[0m(z,t), float64 \u001b[4mSPMCUUP\u001b[0m(z,t), float64 \u001b[4mTPHYSTND\u001b[0m(z,t), float64 \u001b[4mPHQ\u001b[0m(z,t), float64 \u001b[4mSPDT\u001b[0m(z,t), float64 \u001b[4mSPDQ\u001b[0m(z,t), float64 \u001b[4mSPDQC\u001b[0m(z,t), float64 \u001b[4mSPDQI\u001b[0m(z,t), float64 \u001b[4mdTdt_adiabatic\u001b[0m(z,t), float64 \u001b[4mdQdt_adiabatic\u001b[0m(z,t), float64 \u001b[4mGRAD_UQ_H\u001b[0m(z,t)\n",
       "    groups: "
      ]
     },
     "execution_count": 10,
     "metadata": {},
     "output_type": "execute_result"
    }
   ],
   "source": [
    "out_sample = Dataset(sample_dir + 'SPCAM_outputs.nc')\n",
    "out_sample"
   ]
  },
  {
   "cell_type": "code",
   "execution_count": 11,
   "metadata": {},
   "outputs": [
    {
     "data": {
      "text/plain": [
       "<class 'netCDF4._netCDF4.Dataset'>\n",
       "root group (NETCDF4 data model, file format HDF5):\n",
       "    dimensions(sizes): z(21)\n",
       "    variables(dimensions): float64 \u001b[4mPS\u001b[0m(), float64 \u001b[4mSHFLX\u001b[0m(), float64 \u001b[4mLHFLX\u001b[0m(), float64 \u001b[4mOMEGA\u001b[0m(z), float64 \u001b[4mQAP\u001b[0m(z), float64 \u001b[4mTAP\u001b[0m(z), float64 \u001b[4mQRL\u001b[0m(z), float64 \u001b[4mQRS\u001b[0m(z), float64 \u001b[4mUBSP\u001b[0m(z), float64 \u001b[4mVBSP\u001b[0m(z), float64 \u001b[4mdTdt_adiabatic\u001b[0m(z), float64 \u001b[4mdQdt_adiabatic\u001b[0m(z), float64 \u001b[4mGRAD_UQ_H\u001b[0m(z), float64 \u001b[4mSPQC\u001b[0m(z), float64 \u001b[4mSPQG\u001b[0m(z), float64 \u001b[4mSPQI\u001b[0m(z), float64 \u001b[4mSPQR\u001b[0m(z), float64 \u001b[4mSPMC\u001b[0m(z), float64 \u001b[4mSPMCDN\u001b[0m(z), float64 \u001b[4mSPMCUDN\u001b[0m(z), float64 \u001b[4mSPMCUP\u001b[0m(z), float64 \u001b[4mSPMCUUP\u001b[0m(z), float64 \u001b[4mTPHYSTND\u001b[0m(z), float64 \u001b[4mPHQ\u001b[0m(z), float64 \u001b[4mSPDT\u001b[0m(z), float64 \u001b[4mSPDQ\u001b[0m(z), float64 \u001b[4mSPDQC\u001b[0m(z), float64 \u001b[4mSPDQI\u001b[0m(z)\n",
       "    groups: "
      ]
     },
     "execution_count": 11,
     "metadata": {},
     "output_type": "execute_result"
    }
   ],
   "source": [
    "mean_sample = Dataset(sample_dir + 'SPCAM_mean.nc', 'a')\n",
    "mean_sample"
   ]
  },
  {
   "cell_type": "code",
   "execution_count": 12,
   "metadata": {},
   "outputs": [
    {
     "data": {
      "text/plain": [
       "<class 'netCDF4._netCDF4.Variable'>\n",
       "float64 LAT()\n",
       "unlimited dimensions: \n",
       "current shape = ()\n",
       "filling on, default _FillValue of 9.969209968386869e+36 used"
      ]
     },
     "execution_count": 12,
     "metadata": {},
     "output_type": "execute_result"
    }
   ],
   "source": [
    "mean_sample.createVariable('LAT', 'float64', ())"
   ]
  },
  {
   "cell_type": "code",
   "execution_count": 15,
   "metadata": {},
   "outputs": [],
   "source": [
    "import numpy as np\n",
    "mean_sample.variables['LAT'][:] = np.mean(out_sample.variables['LAT'])"
   ]
  },
  {
   "cell_type": "code",
   "execution_count": 16,
   "metadata": {},
   "outputs": [
    {
     "data": {
      "text/plain": [
       "<class 'netCDF4._netCDF4.Dataset'>\n",
       "root group (NETCDF4 data model, file format HDF5):\n",
       "    dimensions(sizes): z(21)\n",
       "    variables(dimensions): float64 \u001b[4mPS\u001b[0m(), float64 \u001b[4mSHFLX\u001b[0m(), float64 \u001b[4mLHFLX\u001b[0m(), float64 \u001b[4mOMEGA\u001b[0m(z), float64 \u001b[4mQAP\u001b[0m(z), float64 \u001b[4mTAP\u001b[0m(z), float64 \u001b[4mQRL\u001b[0m(z), float64 \u001b[4mQRS\u001b[0m(z), float64 \u001b[4mUBSP\u001b[0m(z), float64 \u001b[4mVBSP\u001b[0m(z), float64 \u001b[4mdTdt_adiabatic\u001b[0m(z), float64 \u001b[4mdQdt_adiabatic\u001b[0m(z), float64 \u001b[4mGRAD_UQ_H\u001b[0m(z), float64 \u001b[4mSPQC\u001b[0m(z), float64 \u001b[4mSPQG\u001b[0m(z), float64 \u001b[4mSPQI\u001b[0m(z), float64 \u001b[4mSPQR\u001b[0m(z), float64 \u001b[4mSPMC\u001b[0m(z), float64 \u001b[4mSPMCDN\u001b[0m(z), float64 \u001b[4mSPMCUDN\u001b[0m(z), float64 \u001b[4mSPMCUP\u001b[0m(z), float64 \u001b[4mSPMCUUP\u001b[0m(z), float64 \u001b[4mTPHYSTND\u001b[0m(z), float64 \u001b[4mPHQ\u001b[0m(z), float64 \u001b[4mSPDT\u001b[0m(z), float64 \u001b[4mSPDQ\u001b[0m(z), float64 \u001b[4mSPDQC\u001b[0m(z), float64 \u001b[4mSPDQI\u001b[0m(z), float64 \u001b[4mLAT\u001b[0m()\n",
       "    groups: "
      ]
     },
     "execution_count": 16,
     "metadata": {},
     "output_type": "execute_result"
    }
   ],
   "source": [
    "mean_sample"
   ]
  },
  {
   "cell_type": "code",
   "execution_count": 17,
   "metadata": {
    "collapsed": true
   },
   "outputs": [],
   "source": [
    "mean_sample.close()"
   ]
  },
  {
   "cell_type": "code",
   "execution_count": 18,
   "metadata": {},
   "outputs": [
    {
     "data": {
      "text/plain": [
       "<class 'netCDF4._netCDF4.Dataset'>\n",
       "root group (NETCDF4 data model, file format HDF5):\n",
       "    dimensions(sizes): z(21)\n",
       "    variables(dimensions): float64 \u001b[4mPS\u001b[0m(), float64 \u001b[4mSHFLX\u001b[0m(), float64 \u001b[4mLHFLX\u001b[0m(), float64 \u001b[4mOMEGA\u001b[0m(z), float64 \u001b[4mQAP\u001b[0m(z), float64 \u001b[4mTAP\u001b[0m(z), float64 \u001b[4mQRL\u001b[0m(z), float64 \u001b[4mQRS\u001b[0m(z), float64 \u001b[4mUBSP\u001b[0m(z), float64 \u001b[4mVBSP\u001b[0m(z), float64 \u001b[4mdTdt_adiabatic\u001b[0m(z), float64 \u001b[4mdQdt_adiabatic\u001b[0m(z), float64 \u001b[4mGRAD_UQ_H\u001b[0m(z), float64 \u001b[4mSPQC\u001b[0m(z), float64 \u001b[4mSPQG\u001b[0m(z), float64 \u001b[4mSPQI\u001b[0m(z), float64 \u001b[4mSPQR\u001b[0m(z), float64 \u001b[4mSPMC\u001b[0m(z), float64 \u001b[4mSPMCDN\u001b[0m(z), float64 \u001b[4mSPMCUDN\u001b[0m(z), float64 \u001b[4mSPMCUP\u001b[0m(z), float64 \u001b[4mSPMCUUP\u001b[0m(z), float64 \u001b[4mTPHYSTND\u001b[0m(z), float64 \u001b[4mPHQ\u001b[0m(z), float64 \u001b[4mSPDT\u001b[0m(z), float64 \u001b[4mSPDQ\u001b[0m(z), float64 \u001b[4mSPDQC\u001b[0m(z), float64 \u001b[4mSPDQI\u001b[0m(z), float64 \u001b[4mLAT\u001b[0m()\n",
       "    groups: "
      ]
     },
     "execution_count": 18,
     "metadata": {},
     "output_type": "execute_result"
    }
   ],
   "source": [
    "std_sample = Dataset(sample_dir + 'SPCAM_std.nc', 'a')\n",
    "std_sample.createVariable('LAT', 'float64', ())\n",
    "std_sample.variables['LAT'][:] = np.std(out_sample.variables['LAT'], ddof=1)\n",
    "std_sample"
   ]
  },
  {
   "cell_type": "code",
   "execution_count": 19,
   "metadata": {},
   "outputs": [
    {
     "data": {
      "text/plain": [
       "array(51.9367842914506)"
      ]
     },
     "execution_count": 19,
     "metadata": {},
     "output_type": "execute_result"
    }
   ],
   "source": [
    "std_sample.variables['LAT'][:]"
   ]
  },
  {
   "cell_type": "code",
   "execution_count": 20,
   "metadata": {
    "collapsed": true
   },
   "outputs": [],
   "source": [
    "std_sample.close()\n",
    "out_sample.close()"
   ]
  },
  {
   "cell_type": "code",
   "execution_count": null,
   "metadata": {
    "collapsed": true
   },
   "outputs": [],
   "source": []
  }
 ],
 "metadata": {
  "kernelspec": {
   "display_name": "Python 3",
   "language": "python",
   "name": "python3"
  },
  "language_info": {
   "codemirror_mode": {
    "name": "ipython",
    "version": 3
   },
   "file_extension": ".py",
   "mimetype": "text/x-python",
   "name": "python",
   "nbconvert_exporter": "python",
   "pygments_lexer": "ipython3",
   "version": "3.6.2"
  },
  "toc": {
   "nav_menu": {},
   "number_sections": true,
   "sideBar": true,
   "skip_h1_title": true,
   "toc_cell": true,
   "toc_position": {},
   "toc_section_display": "block",
   "toc_window_display": false
  }
 },
 "nbformat": 4,
 "nbformat_minor": 2
}
