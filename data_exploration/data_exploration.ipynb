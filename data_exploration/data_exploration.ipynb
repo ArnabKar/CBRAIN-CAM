{
 "cells": [
  {
   "cell_type": "markdown",
   "metadata": {
    "toc": "true"
   },
   "source": [
    " # Table of Contents\n",
    "<div class=\"toc\" style=\"margin-top: 1em;\"><ul class=\"toc-item\" id=\"toc-level0\"></ul></div>"
   ]
  },
  {
   "cell_type": "code",
   "execution_count": 1,
   "metadata": {
    "collapsed": true
   },
   "outputs": [],
   "source": [
    "from netCDF4 import Dataset\n"
   ]
  },
  {
   "cell_type": "code",
   "execution_count": 8,
   "metadata": {},
   "outputs": [
    {
     "name": "stdout",
     "output_type": "stream",
     "text": [
      "\u001b[31mSPCAM_max.nc\u001b[m\u001b[m                \u001b[31mSPCAM_outputs.nc.crdownload\u001b[m\u001b[m\r\n",
      "\u001b[31mSPCAM_mean.nc\u001b[m\u001b[m               \u001b[31mSPCAM_std.nc\u001b[m\u001b[m\r\n"
     ]
    }
   ],
   "source": [
    "data_dir = '/Volumes/STICK/data/SPCAM/'   # Mac\n",
    "!ls $data_dir"
   ]
  },
  {
   "cell_type": "code",
   "execution_count": 4,
   "metadata": {},
   "outputs": [
    {
     "data": {
      "text/plain": [
       "<class 'netCDF4._netCDF4.Dataset'>\n",
       "root group (NETCDF4_CLASSIC data model, file format HDF5):\n",
       "    dimensions(sizes): z(21)\n",
       "    variables(dimensions): float64 \u001b[4mPS\u001b[0m(), float64 \u001b[4mSHFLX\u001b[0m(), float64 \u001b[4mLHFLX\u001b[0m(), float64 \u001b[4mOMEGA\u001b[0m(z), float64 \u001b[4mQAP\u001b[0m(z), float64 \u001b[4mTAP\u001b[0m(z), float64 \u001b[4mQRL\u001b[0m(z), float64 \u001b[4mQRS\u001b[0m(z), float64 \u001b[4mUBSP\u001b[0m(z), float64 \u001b[4mVBSP\u001b[0m(z), float64 \u001b[4mdTdt_adiabatic\u001b[0m(z), float64 \u001b[4mdQdt_adiabatic\u001b[0m(z), float64 \u001b[4mGRAD_UQ_H\u001b[0m(z), float64 \u001b[4mSPQC\u001b[0m(z), float64 \u001b[4mSPQG\u001b[0m(z), float64 \u001b[4mSPQI\u001b[0m(z), float64 \u001b[4mSPQR\u001b[0m(z), float64 \u001b[4mSPMC\u001b[0m(z), float64 \u001b[4mSPMCDN\u001b[0m(z), float64 \u001b[4mSPMCUDN\u001b[0m(z), float64 \u001b[4mSPMCUP\u001b[0m(z), float64 \u001b[4mSPMCUUP\u001b[0m(z), float64 \u001b[4mTPHYSTND\u001b[0m(z), float64 \u001b[4mPHQ\u001b[0m(z), float64 \u001b[4mSPDT\u001b[0m(z), float64 \u001b[4mSPDQ\u001b[0m(z), float64 \u001b[4mSPDQC\u001b[0m(z), float64 \u001b[4mSPDQI\u001b[0m(z)\n",
       "    groups: "
      ]
     },
     "execution_count": 4,
     "metadata": {},
     "output_type": "execute_result"
    }
   ],
   "source": [
    "mean = Dataset(data_dir + 'SPCAM_mean.nc')\n",
    "mean"
   ]
  },
  {
   "cell_type": "code",
   "execution_count": 7,
   "metadata": {},
   "outputs": [
    {
     "data": {
      "text/plain": [
       "<class 'netCDF4._netCDF4.Dataset'>\n",
       "root group (NETCDF4_CLASSIC data model, file format HDF5):\n",
       "    dimensions(sizes): \n",
       "    variables(dimensions): float64 \u001b[4mSPQC\u001b[0m(), float64 \u001b[4mSPQG\u001b[0m(), float64 \u001b[4mSPQI\u001b[0m(), float64 \u001b[4mSPQR\u001b[0m(), float64 \u001b[4mSPMC\u001b[0m(), float64 \u001b[4mSPMCDN\u001b[0m(), float64 \u001b[4mSPMCUDN\u001b[0m(), float64 \u001b[4mSPMCUP\u001b[0m(), float64 \u001b[4mSPMCUUP\u001b[0m(), float64 \u001b[4mTPHYSTND\u001b[0m(), float64 \u001b[4mPHQ\u001b[0m(), float64 \u001b[4mSPDT\u001b[0m(), float64 \u001b[4mSPDQ\u001b[0m(), float64 \u001b[4mSPDQC\u001b[0m(), float64 \u001b[4mSPDQI\u001b[0m()\n",
       "    groups: "
      ]
     },
     "execution_count": 7,
     "metadata": {},
     "output_type": "execute_result"
    }
   ],
   "source": [
    "ncmax = Dataset(data_dir + 'SPCAM_max.nc')\n",
    "ncmax"
   ]
  },
  {
   "cell_type": "code",
   "execution_count": 6,
   "metadata": {},
   "outputs": [
    {
     "data": {
      "text/plain": [
       "<class 'netCDF4._netCDF4.Dataset'>\n",
       "root group (NETCDF4_CLASSIC data model, file format HDF5):\n",
       "    dimensions(sizes): z(21)\n",
       "    variables(dimensions): float64 \u001b[4mPS\u001b[0m(), float64 \u001b[4mSHFLX\u001b[0m(), float64 \u001b[4mLHFLX\u001b[0m(), float64 \u001b[4mOMEGA\u001b[0m(z), float64 \u001b[4mQAP\u001b[0m(z), float64 \u001b[4mTAP\u001b[0m(z), float64 \u001b[4mQRL\u001b[0m(z), float64 \u001b[4mQRS\u001b[0m(z), float64 \u001b[4mUBSP\u001b[0m(z), float64 \u001b[4mVBSP\u001b[0m(z), float64 \u001b[4mdTdt_adiabatic\u001b[0m(z), float64 \u001b[4mdQdt_adiabatic\u001b[0m(z), float64 \u001b[4mGRAD_UQ_H\u001b[0m(z), float64 \u001b[4mSPQC\u001b[0m(z), float64 \u001b[4mSPQG\u001b[0m(z), float64 \u001b[4mSPQI\u001b[0m(z), float64 \u001b[4mSPQR\u001b[0m(z), float64 \u001b[4mSPMC\u001b[0m(z), float64 \u001b[4mSPMCDN\u001b[0m(z), float64 \u001b[4mSPMCUDN\u001b[0m(z), float64 \u001b[4mSPMCUP\u001b[0m(z), float64 \u001b[4mSPMCUUP\u001b[0m(z), float64 \u001b[4mTPHYSTND\u001b[0m(z), float64 \u001b[4mPHQ\u001b[0m(z), float64 \u001b[4mSPDT\u001b[0m(z), float64 \u001b[4mSPDQ\u001b[0m(z), float64 \u001b[4mSPDQC\u001b[0m(z), float64 \u001b[4mSPDQI\u001b[0m(z)\n",
       "    groups: "
      ]
     },
     "execution_count": 6,
     "metadata": {},
     "output_type": "execute_result"
    }
   ],
   "source": [
    "std = Dataset(data_dir + 'SPCAM_std.nc')\n",
    "std"
   ]
  },
  {
   "cell_type": "code",
   "execution_count": null,
   "metadata": {
    "collapsed": true
   },
   "outputs": [],
   "source": []
  }
 ],
 "metadata": {
  "kernelspec": {
   "display_name": "Python 3",
   "language": "python",
   "name": "python3"
  },
  "language_info": {
   "codemirror_mode": {
    "name": "ipython",
    "version": 3
   },
   "file_extension": ".py",
   "mimetype": "text/x-python",
   "name": "python",
   "nbconvert_exporter": "python",
   "pygments_lexer": "ipython3",
   "version": "3.6.2"
  },
  "toc": {
   "nav_menu": {},
   "number_sections": true,
   "sideBar": true,
   "skip_h1_title": true,
   "toc_cell": true,
   "toc_position": {},
   "toc_section_display": "block",
   "toc_window_display": false
  }
 },
 "nbformat": 4,
 "nbformat_minor": 2
}
