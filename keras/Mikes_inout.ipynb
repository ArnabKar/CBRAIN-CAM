{
 "cells": [
  {
   "cell_type": "markdown",
   "metadata": {
    "toc": "true"
   },
   "source": [
    " # Table of Contents\n",
    "<div class=\"toc\" style=\"margin-top: 1em;\"><ul class=\"toc-item\" id=\"toc-level0\"></ul></div>"
   ]
  },
  {
   "cell_type": "code",
   "execution_count": 78,
   "metadata": {
    "collapsed": true
   },
   "outputs": [],
   "source": [
    "# Imports \n",
    "from importlib import reload\n",
    "import utils; reload(utils); from utils import *\n",
    "import data_generator; reload(data_generator); from data_generator import *\n",
    "import models; reload(models); from models import *"
   ]
  },
  {
   "cell_type": "code",
   "execution_count": 2,
   "metadata": {
    "collapsed": true
   },
   "outputs": [],
   "source": [
    "# Limit Tensorflow GPU memory usage. \n",
    "# Note that it's not possible to change the allocation or release memory again.\n",
    "config = tf.ConfigProto()\n",
    "config.gpu_options.allow_growth = True   # Allocates as much memory as needed.\n",
    "keras.backend.tensorflow_backend.set_session(tf.Session(config=config))"
   ]
  },
  {
   "cell_type": "code",
   "execution_count": 3,
   "metadata": {
    "collapsed": true
   },
   "outputs": [],
   "source": [
    "# Plotting setup\n",
    "%matplotlib inline\n",
    "np.random.seed(42)\n",
    "sns.set_style('dark')\n",
    "sns.set_palette('deep')\n",
    "sns.set_context('talk')\n",
    "plt.rcParams[\"figure.figsize\"] = (10,7)"
   ]
  },
  {
   "cell_type": "code",
   "execution_count": 4,
   "metadata": {},
   "outputs": [
    {
     "name": "stdout",
     "output_type": "stream",
     "text": [
      "SPCAM_mean_detailed.nc              SPCAM_outputs_valid_by_lon_flat.nc\r\n",
      "SPCAM_outputs_detailed.nc           SPCAM_std_detailed.nc\r\n",
      "SPCAM_outputs_train_by_lon_flat.nc\r\n"
     ]
    }
   ],
   "source": [
    "# Define data paths\n",
    "data_dir = '/project/meteo/w2w/A6/S.Rasp/SP-CAM/preprocessed_data/Mikes_inout/' # Full dataset\n",
    "%ls $data_dir"
   ]
  },
  {
   "cell_type": "code",
   "execution_count": 14,
   "metadata": {
    "collapsed": true
   },
   "outputs": [],
   "source": [
    "# Define a dictionary containing the feature and target variables\n",
    "# and the number of dimensions\n",
    "feature_vars = OrderedDict({\n",
    "    'TAP': 2,             # Temperature [z, sample]\n",
    "    'QAP': 2,             # Specific humidity [z, sample]\n",
    "    'dTdt_adiabatic': 2,  # [z, sample]\n",
    "    'dQdt_adiabatic': 2,  # [z, sample]\n",
    "    'SHFLX': 1,           # [sample]\n",
    "    'LHFLX': 1,           # [sample]\n",
    "})\n",
    "target_vars = OrderedDict({\n",
    "    'SPDT': 2,            # SP temperature tendency [z, sample]\n",
    "    'SPDQ': 2,            # SP humidity tendency [z, sample]\n",
    "    'QRL': 2,\n",
    "    'QRS': 2,\n",
    "    'PRECT': 1,\n",
    "    'FLUT': 1,\n",
    "})"
   ]
  },
  {
   "cell_type": "code",
   "execution_count": 79,
   "metadata": {},
   "outputs": [],
   "source": [
    "# Load the dataset\n",
    "train_set_lon = DataSet(data_dir, 'SPCAM_outputs_train_by_lon_flat.nc', 'SPCAM_mean_detailed.nc',\n",
    "                        'SPCAM_std_detailed.nc', feature_vars.keys(), flat_input=True,\n",
    "                        target_names=target_vars.keys(), target_norm=True,\n",
    "                        target_norm_lev_weight=True)\n",
    "valid_set_lon = DataSet(data_dir, 'SPCAM_outputs_valid_by_lon_flat.nc', 'SPCAM_mean_detailed.nc',\n",
    "                        'SPCAM_std_detailed.nc', feature_vars.keys(), flat_input=True,\n",
    "                        target_names=target_vars.keys(), target_norm=True,\n",
    "                        target_norm_lev_weight=True)"
   ]
  },
  {
   "cell_type": "code",
   "execution_count": 86,
   "metadata": {},
   "outputs": [
    {
     "data": {
      "text/plain": [
       "((3681792, 86), (3681792, 86))"
      ]
     },
     "execution_count": 86,
     "metadata": {},
     "output_type": "execute_result"
    }
   ],
   "source": [
    "train_set_lon.targets.shape, train_set_lon.features.shape"
   ]
  },
  {
   "cell_type": "code",
   "execution_count": null,
   "metadata": {
    "collapsed": true
   },
   "outputs": [],
   "source": []
  },
  {
   "cell_type": "code",
   "execution_count": 81,
   "metadata": {
    "collapsed": true
   },
   "outputs": [],
   "source": [
    "model = fc_model(train_set_lon.features.shape[1], train_set_lon.targets.shape[1], [512, 512], \n",
    "                 0.0001, 'mae')"
   ]
  },
  {
   "cell_type": "code",
   "execution_count": 82,
   "metadata": {},
   "outputs": [
    {
     "name": "stdout",
     "output_type": "stream",
     "text": [
      "Train on 3681792 samples, validate on 938496 samples\n",
      "Epoch 1/3\n",
      "3681792/3681792 [==============================] - 46s - loss: 0.0248 - rmse: 0.0540 - log_loss: -1.3953 - total_error: 1128.7456 - unexplained_error: 278.4151 - rsquared: 0.7522 - total_error_avgAx0: 1126.5906 - rsquared_avgAx0: 0.7517 - val_loss: 0.0204 - val_rmse: 0.0439 - val_log_loss: -1.4731 - val_total_error: 1089.4626 - val_unexplained_error: 174.0569 - val_rsquared: 0.8377 - val_total_error_avgAx0: 963.6871 - val_rsquared_avgAx0: 0.7995\n",
      "Epoch 2/3\n",
      "3681792/3681792 [==============================] - 46s - loss: 0.0196 - rmse: 0.0421 - log_loss: -1.4913 - total_error: 1128.7454 - unexplained_error: 161.1247 - rsquared: 0.8563 - total_error_avgAx0: 1126.6251 - rsquared_avgAx0: 0.8560 - val_loss: 0.0195 - val_rmse: 0.0417 - val_log_loss: -1.4997 - val_total_error: 1089.4626 - val_unexplained_error: 160.6279 - val_rsquared: 0.8534 - val_total_error_avgAx0: 963.6871 - val_rsquared_avgAx0: 0.8205\n",
      "Epoch 3/3\n",
      "3681792/3681792 [==============================] - 45s - loss: 0.0189 - rmse: 0.0404 - log_loss: -1.5129 - total_error: 1128.7455 - unexplained_error: 151.1678 - rsquared: 0.8651 - total_error_avgAx0: 1126.5843 - rsquared_avgAx0: 0.8648 - val_loss: 0.0191 - val_rmse: 0.0408 - val_log_loss: -1.5118 - val_total_error: 1089.4626 - val_unexplained_error: 153.7742 - val_rsquared: 0.8602 - val_total_error_avgAx0: 963.6871 - val_rsquared_avgAx0: 0.8292\n"
     ]
    },
    {
     "data": {
      "text/plain": [
       "<keras.callbacks.History at 0x7f129c11a550>"
      ]
     },
     "execution_count": 82,
     "metadata": {},
     "output_type": "execute_result"
    }
   ],
   "source": [
    "model.fit(train_set_lon.features, train_set_lon.targets, batch_size=512, epochs=3, \n",
    "          validation_data=(valid_set_lon.features, valid_set_lon.targets))"
   ]
  },
  {
   "cell_type": "code",
   "execution_count": 83,
   "metadata": {
    "collapsed": true
   },
   "outputs": [],
   "source": [
    "preds = model.predict(valid_set_lon.features, batch_size=512)"
   ]
  },
  {
   "cell_type": "code",
   "execution_count": 84,
   "metadata": {},
   "outputs": [
    {
     "data": {
      "text/plain": [
       "<function matplotlib.pyplot.show>"
      ]
     },
     "execution_count": 84,
     "metadata": {},
     "output_type": "execute_result"
    },
    {
     "data": {
      "image/png": "[encoded data removed]",
      "text/plain": [
       "<matplotlib.figure.Figure at 0x7f129c08fef0>"
      ]
     },
     "metadata": {},
     "output_type": "display_data"
    }
   ],
   "source": [
    "plt.plot(valid_set_lon.renorm_outputs(valid_set_lon.targets[0]), label='t')\n",
    "plt.plot(valid_set_lon.renorm_outputs(preds[0]), label='p')\n",
    "plt.legend(); plt.show"
   ]
  },
  {
   "cell_type": "code",
   "execution_count": 85,
   "metadata": {},
   "outputs": [
    {
     "data": {
      "text/plain": [
       "<function matplotlib.pyplot.show>"
      ]
     },
     "execution_count": 85,
     "metadata": {},
     "output_type": "execute_result"
    },
    {
     "data": {
      "image/png": "[encoded data removed]",
      "text/plain": [
       "<matplotlib.figure.Figure at 0x7f12647547b8>"
      ]
     },
     "metadata": {},
     "output_type": "display_data"
    }
   ],
   "source": [
    "plt.plot(valid_set_lon.targets[0], label='t')\n",
    "plt.plot(preds[0], label='p')\n",
    "plt.legend(); plt.show"
   ]
  },
  {
   "cell_type": "code",
   "execution_count": null,
   "metadata": {
    "collapsed": true
   },
   "outputs": [],
   "source": []
  }
 ],
 "metadata": {
  "kernelspec": {
   "display_name": "Python 3",
   "language": "python",
   "name": "python3"
  },
  "language_info": {
   "codemirror_mode": {
    "name": "ipython",
    "version": 3
   },
   "file_extension": ".py",
   "mimetype": "text/x-python",
   "name": "python",
   "nbconvert_exporter": "python",
   "pygments_lexer": "ipython3",
   "version": "3.6.2"
  },
  "toc": {
   "nav_menu": {},
   "number_sections": true,
   "sideBar": true,
   "skip_h1_title": true,
   "toc_cell": true,
   "toc_position": {},
   "toc_section_display": "block",
   "toc_window_display": false
  }
 },
 "nbformat": 4,
 "nbformat_minor": 2
}
