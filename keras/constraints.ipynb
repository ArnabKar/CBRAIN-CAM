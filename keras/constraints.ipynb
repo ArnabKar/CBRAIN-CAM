{
 "cells": [
  {
   "cell_type": "markdown",
   "metadata": {
    "toc": true
   },
   "source": [
    "<h1>Table of Contents<span class=\"tocSkip\"></span></h1>\n",
    "<div class=\"toc\" style=\"margin-top: 1em;\"><ul class=\"toc-item\"><li><span><a href=\"#Create-the-dataset\" data-toc-modified-id=\"Create-the-dataset-1\"><span class=\"toc-item-num\">1&nbsp;&nbsp;</span>Create the dataset</a></span></li><li><span><a href=\"#Create-neural-network\" data-toc-modified-id=\"Create-neural-network-2\"><span class=\"toc-item-num\">2&nbsp;&nbsp;</span>Create neural network</a></span></li></ul></div>"
   ]
  },
  {
   "cell_type": "code",
   "execution_count": 1,
   "metadata": {},
   "outputs": [],
   "source": [
    "import numpy as np\n",
    "import matplotlib.pyplot as plt\n",
    "%matplotlib inline"
   ]
  },
  {
   "cell_type": "markdown",
   "metadata": {},
   "source": [
    "## Create the dataset"
   ]
  },
  {
   "cell_type": "code",
   "execution_count": 302,
   "metadata": {},
   "outputs": [],
   "source": [
    "z = np.linspace(0, 1, 20)\n",
    "z_plot = np.linspace(0, 1, 21)"
   ]
  },
  {
   "cell_type": "code",
   "execution_count": 403,
   "metadata": {},
   "outputs": [],
   "source": [
    "def get_y(x1, x2, x3):\n",
    "    x1 = np.atleast_1d(x1); x2 = np.atleast_1d(x2); x3 = np.atleast_1d(x3)\n",
    "    tmp =  (x1.reshape(x1.shape[0], 1) * np.sin(1 * np.pi * z.reshape(1, 20)) + \n",
    "            x2.reshape(x1.shape[0], 1) * np.sin(4 * np.pi * z.reshape(1, 20)) + \n",
    "            x3.reshape(x1.shape[0], 1) * np.sin(5 * np.pi * z.reshape(1, 20)))\n",
    "    tmp = (tmp.T - np.mean(tmp, axis=1)).T\n",
    "    rain = np.maximum(0, np.sum(tmp[:, 10:], axis=1).reshape((-1, 1))) * 10\n",
    "    tmp[:, 10:] =  tmp[:, 10:] - (rain / 10.)\n",
    "    return np.concatenate([tmp, rain], axis=1)"
   ]
  },
  {
   "cell_type": "code",
   "execution_count": 404,
   "metadata": {},
   "outputs": [],
   "source": [
    "# create sample data\n",
    "n_samples = 10000\n",
    "x1 = np.random.normal(size=n_samples)\n",
    "x2 = np.random.normal(size=n_samples)\n",
    "x3 = np.random.normal(size=n_samples)\n",
    "y = get_y(x1, x2, x3)"
   ]
  },
  {
   "cell_type": "code",
   "execution_count": 405,
   "metadata": {},
   "outputs": [
    {
     "data": {
      "text/plain": [
       "(10000, 21)"
      ]
     },
     "execution_count": 405,
     "metadata": {},
     "output_type": "execute_result"
    }
   ],
   "source": [
    "y.shape"
   ]
  },
  {
   "cell_type": "code",
   "execution_count": 417,
   "metadata": {},
   "outputs": [
    {
     "data": {
      "text/plain": [
       "(1.3322676295501878e-15, 0.50003417419677731)"
      ]
     },
     "execution_count": 417,
     "metadata": {},
     "output_type": "execute_result"
    },
    {
     "data": {
      "image/png": "[encoded data removed]",
      "text/plain": [
       "<matplotlib.figure.Figure at 0x7f16e68935c0>"
      ]
     },
     "metadata": {},
     "output_type": "display_data"
    }
   ],
   "source": [
    "i = np.random.randint(0, n_samples)\n",
    "plt.plot(y[i], z_plot);\n",
    "np.sum(y[i]), y[i, -1]"
   ]
  },
  {
   "cell_type": "code",
   "execution_count": 418,
   "metadata": {},
   "outputs": [
    {
     "data": {
      "text/plain": [
       "(array([  6.58700000e+03,   1.34200000e+03,   1.03100000e+03,\n",
       "          5.70000000e+02,   2.83000000e+02,   1.33000000e+02,\n",
       "          4.60000000e+01,   7.00000000e+00,   0.00000000e+00,\n",
       "          1.00000000e+00]),\n",
       " array([ 0.        ,  0.34799367,  0.69598735,  1.04398102,  1.3919747 ,\n",
       "         1.73996837,  2.08796205,  2.43595572,  2.78394939,  3.13194307,\n",
       "         3.47993674]),\n",
       " <a list of 10 Patch objects>)"
      ]
     },
     "execution_count": 418,
     "metadata": {},
     "output_type": "execute_result"
    },
    {
     "data": {
      "image/png": "[encoded data removed]",
      "text/plain": [
       "<matplotlib.figure.Figure at 0x7f16e68a3b38>"
      ]
     },
     "metadata": {},
     "output_type": "display_data"
    }
   ],
   "source": [
    "plt.hist(y[:, -1])"
   ]
  },
  {
   "cell_type": "code",
   "execution_count": 419,
   "metadata": {},
   "outputs": [],
   "source": [
    "# Create test and valid data\n",
    "x = np.stack([x1, x2, x3], axis=1)\n",
    "# Add noise to xs\n",
    "x += (np.random.rand(x.shape[0], x.shape[1]) - 0.2) * 0.6"
   ]
  },
  {
   "cell_type": "code",
   "execution_count": 420,
   "metadata": {},
   "outputs": [],
   "source": [
    "i_split = int(0.8*n_samples)"
   ]
  },
  {
   "cell_type": "code",
   "execution_count": 421,
   "metadata": {},
   "outputs": [],
   "source": [
    "x_train = x[:i_split]\n",
    "y_train = y[:i_split]\n",
    "x_valid = x[i_split:]\n",
    "y_valid = y[i_split:]"
   ]
  },
  {
   "cell_type": "markdown",
   "metadata": {},
   "source": [
    "## Create neural network "
   ]
  },
  {
   "cell_type": "code",
   "execution_count": 422,
   "metadata": {},
   "outputs": [],
   "source": [
    "import keras\n",
    "from keras.models import Sequential\n",
    "from keras.layers import Dense\n",
    "from keras.optimizers import Adam"
   ]
  },
  {
   "cell_type": "code",
   "execution_count": 423,
   "metadata": {},
   "outputs": [],
   "source": [
    "import tensorflow as tf\n",
    "config = tf.ConfigProto()\n",
    "config.gpu_options.allow_growth = True   # Allocates as much memory as needed.\n",
    "keras.backend.tensorflow_backend.set_session(tf.Session(config=config))"
   ]
  },
  {
   "cell_type": "code",
   "execution_count": 424,
   "metadata": {},
   "outputs": [],
   "source": [
    "model = Sequential([\n",
    "    Dense(200, input_shape=(3,), activation='relu'),\n",
    "    Dense(200, activation='relu'),\n",
    "    Dense(21)\n",
    "])"
   ]
  },
  {
   "cell_type": "code",
   "execution_count": 425,
   "metadata": {},
   "outputs": [
    {
     "name": "stdout",
     "output_type": "stream",
     "text": [
      "_________________________________________________________________\n",
      "Layer (type)                 Output Shape              Param #   \n",
      "=================================================================\n",
      "dense_58 (Dense)             (None, 200)               800       \n",
      "_________________________________________________________________\n",
      "dense_59 (Dense)             (None, 200)               40200     \n",
      "_________________________________________________________________\n",
      "dense_60 (Dense)             (None, 21)                4221      \n",
      "=================================================================\n",
      "Total params: 45,221\n",
      "Trainable params: 45,221\n",
      "Non-trainable params: 0\n",
      "_________________________________________________________________\n"
     ]
    }
   ],
   "source": [
    "model.summary()"
   ]
  },
  {
   "cell_type": "code",
   "execution_count": 426,
   "metadata": {},
   "outputs": [],
   "source": [
    "model.compile(Adam(0.001), 'mse')"
   ]
  },
  {
   "cell_type": "code",
   "execution_count": 427,
   "metadata": {},
   "outputs": [
    {
     "name": "stdout",
     "output_type": "stream",
     "text": [
      "Train on 8000 samples, validate on 2000 samples\n",
      "Epoch 1/10\n",
      "8000/8000 [==============================] - 0s - loss: 0.7228 - val_loss: 0.3896\n",
      "Epoch 2/10\n",
      "8000/8000 [==============================] - 0s - loss: 0.1559 - val_loss: 0.0589\n",
      "Epoch 3/10\n",
      "8000/8000 [==============================] - 0s - loss: 0.0538 - val_loss: 0.0405\n",
      "Epoch 4/10\n",
      "8000/8000 [==============================] - 0s - loss: 0.0375 - val_loss: 0.0352\n",
      "Epoch 5/10\n",
      "8000/8000 [==============================] - 0s - loss: 0.0337 - val_loss: 0.0327\n",
      "Epoch 6/10\n",
      "8000/8000 [==============================] - 0s - loss: 0.0322 - val_loss: 0.0318\n",
      "Epoch 7/10\n",
      "8000/8000 [==============================] - 0s - loss: 0.0314 - val_loss: 0.0314\n",
      "Epoch 8/10\n",
      "8000/8000 [==============================] - 0s - loss: 0.0310 - val_loss: 0.0311\n",
      "Epoch 9/10\n",
      "8000/8000 [==============================] - 0s - loss: 0.0307 - val_loss: 0.0310\n",
      "Epoch 10/10\n",
      "8000/8000 [==============================] - 0s - loss: 0.0305 - val_loss: 0.0307\n"
     ]
    },
    {
     "data": {
      "text/plain": [
       "<keras.callbacks.History at 0x7f16e6968438>"
      ]
     },
     "execution_count": 427,
     "metadata": {},
     "output_type": "execute_result"
    }
   ],
   "source": [
    "model.fit(x_train, y_train, batch_size=512, epochs=10, validation_data=(x_valid, y_valid))"
   ]
  },
  {
   "cell_type": "code",
   "execution_count": 428,
   "metadata": {},
   "outputs": [],
   "source": [
    "y_pred = model.predict(x_valid)"
   ]
  },
  {
   "cell_type": "code",
   "execution_count": 438,
   "metadata": {},
   "outputs": [
    {
     "data": {
      "text/plain": [
       "[<matplotlib.lines.Line2D at 0x7f16e6304208>]"
      ]
     },
     "execution_count": 438,
     "metadata": {},
     "output_type": "execute_result"
    },
    {
     "data": {
      "image/png": "[encoded data removed]",
      "text/plain": [
       "<matplotlib.figure.Figure at 0x7f16e63042e8>"
      ]
     },
     "metadata": {},
     "output_type": "display_data"
    }
   ],
   "source": [
    "i = np.random.randint(0, n_samples*0.2)\n",
    "plt.plot(y_valid[i], z_plot, label='true')\n",
    "plt.plot(y_pred[i], z_plot, label='pred')"
   ]
  },
  {
   "cell_type": "code",
   "execution_count": 439,
   "metadata": {},
   "outputs": [
    {
     "data": {
      "text/plain": [
       "(0.0030373812, 5.8601506893601888e-17)"
      ]
     },
     "execution_count": 439,
     "metadata": {},
     "output_type": "execute_result"
    }
   ],
   "source": [
    "np.mean(np.abs(np.mean(y_pred[:, :], axis=1))), np.mean(np.abs(np.mean(y_valid[:], axis=1)))"
   ]
  },
  {
   "cell_type": "code",
   "execution_count": 272,
   "metadata": {},
   "outputs": [],
   "source": [
    "import keras.backend as K\n",
    "def transform(x):\n",
    "    \"\"\"x[sample, z-1]\"\"\"\n",
    "    x_last = - K.reshape(K.sum(x, axis=1), (-1, 1))\n",
    "    return K.concatenate([x, x_last], axis=1)"
   ]
  },
  {
   "cell_type": "code",
   "execution_count": 273,
   "metadata": {},
   "outputs": [],
   "source": [
    "from keras.losses import mean_squared_error\n",
    "def transformed_mse(y_true, y_pred):\n",
    "    return mean_squared_error(y_true, transform(y_pred))"
   ]
  },
  {
   "cell_type": "code",
   "execution_count": 274,
   "metadata": {},
   "outputs": [],
   "source": [
    "model_transform = Sequential([\n",
    "    Dense(200, input_shape=(3,), activation='relu'),\n",
    "    Dense(200, activation='relu'),\n",
    "    Dense(20-1)\n",
    "])"
   ]
  },
  {
   "cell_type": "code",
   "execution_count": 275,
   "metadata": {},
   "outputs": [],
   "source": [
    "model_transform.compile(Adam(0.001), transformed_mse)"
   ]
  },
  {
   "cell_type": "code",
   "execution_count": 278,
   "metadata": {},
   "outputs": [
    {
     "name": "stdout",
     "output_type": "stream",
     "text": [
      "Train on 800 samples, validate on 200 samples\n",
      "Epoch 1/10\n",
      "800/800 [==============================] - 0s - loss: 0.0606 - val_loss: 0.0579\n",
      "Epoch 2/10\n",
      "800/800 [==============================] - 0s - loss: 0.0549 - val_loss: 0.0522\n",
      "Epoch 3/10\n",
      "800/800 [==============================] - 0s - loss: 0.0488 - val_loss: 0.0481\n",
      "Epoch 4/10\n",
      "800/800 [==============================] - 0s - loss: 0.0442 - val_loss: 0.0458\n",
      "Epoch 5/10\n",
      "800/800 [==============================] - 0s - loss: 0.0415 - val_loss: 0.0451\n",
      "Epoch 6/10\n",
      "800/800 [==============================] - 0s - loss: 0.0405 - val_loss: 0.0452\n",
      "Epoch 7/10\n",
      "800/800 [==============================] - 0s - loss: 0.0400 - val_loss: 0.0453\n",
      "Epoch 8/10\n",
      "800/800 [==============================] - 0s - loss: 0.0397 - val_loss: 0.0449\n",
      "Epoch 9/10\n",
      "800/800 [==============================] - 0s - loss: 0.0390 - val_loss: 0.0441\n",
      "Epoch 10/10\n",
      "800/800 [==============================] - 0s - loss: 0.0380 - val_loss: 0.0430\n"
     ]
    },
    {
     "data": {
      "text/plain": [
       "<keras.callbacks.History at 0x7f16e7f33588>"
      ]
     },
     "execution_count": 278,
     "metadata": {},
     "output_type": "execute_result"
    }
   ],
   "source": [
    "model_transform.fit(x_train, y_train, batch_size=512, epochs=10, \n",
    "                    validation_data=(x_valid, y_valid))"
   ]
  },
  {
   "cell_type": "code",
   "execution_count": 279,
   "metadata": {},
   "outputs": [],
   "source": [
    "y_pred_trans = model_transform.predict(x_valid)\n",
    "y_pred_trans = np.concatenate([y_pred_trans, -y_pred_trans.sum(axis=1).reshape((-1, 1))], axis=1)"
   ]
  },
  {
   "cell_type": "code",
   "execution_count": 280,
   "metadata": {},
   "outputs": [
    {
     "data": {
      "text/plain": [
       "[<matplotlib.lines.Line2D at 0x7f16e7f33898>]"
      ]
     },
     "execution_count": 280,
     "metadata": {},
     "output_type": "execute_result"
    },
    {
     "data": {
      "image/png": "[encoded data removed]",
      "text/plain": [
       "<matplotlib.figure.Figure at 0x7f16e7f33908>"
      ]
     },
     "metadata": {},
     "output_type": "display_data"
    }
   ],
   "source": [
    "plt.plot(y_valid[2], z, label='true')\n",
    "plt.plot(y_pred_trans[2], z, label='pred')"
   ]
  },
  {
   "cell_type": "code",
   "execution_count": 281,
   "metadata": {},
   "outputs": [
    {
     "data": {
      "text/plain": [
       "(200, 20)"
      ]
     },
     "execution_count": 281,
     "metadata": {},
     "output_type": "execute_result"
    }
   ],
   "source": [
    "y_pred_trans.shape"
   ]
  },
  {
   "cell_type": "code",
   "execution_count": 282,
   "metadata": {},
   "outputs": [
    {
     "data": {
      "text/plain": [
       "(0.0, 6.9228477117544427e-17)"
      ]
     },
     "execution_count": 282,
     "metadata": {},
     "output_type": "execute_result"
    }
   ],
   "source": [
    "np.mean(np.abs(np.mean(y_pred_trans, axis=1))), np.mean(np.abs(np.mean(y_valid, axis=1)))"
   ]
  },
  {
   "cell_type": "code",
   "execution_count": null,
   "metadata": {},
   "outputs": [],
   "source": []
  }
 ],
 "metadata": {
  "kernelspec": {
   "display_name": "Python 3",
   "language": "python",
   "name": "python3"
  },
  "language_info": {
   "codemirror_mode": {
    "name": "ipython",
    "version": 3
   },
   "file_extension": ".py",
   "mimetype": "text/x-python",
   "name": "python",
   "nbconvert_exporter": "python",
   "pygments_lexer": "ipython3",
   "version": "3.6.3"
  },
  "toc": {
   "nav_menu": {},
   "number_sections": true,
   "sideBar": true,
   "skip_h1_title": true,
   "toc_cell": true,
   "toc_position": {},
   "toc_section_display": "block",
   "toc_window_display": false
  }
 },
 "nbformat": 4,
 "nbformat_minor": 2
}
