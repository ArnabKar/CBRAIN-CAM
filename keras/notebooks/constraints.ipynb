{
 "cells": [
  {
   "cell_type": "markdown",
   "metadata": {
    "toc": true
   },
   "source": [
    "<h1>Table of Contents<span class=\"tocSkip\"></span></h1>\n",
    "<div class=\"toc\" style=\"margin-top: 1em;\"><ul class=\"toc-item\"><li><span><a href=\"#Create-the-dataset\" data-toc-modified-id=\"Create-the-dataset-1\"><span class=\"toc-item-num\">1&nbsp;&nbsp;</span>Create the dataset</a></span></li><li><span><a href=\"#Create-neural-network\" data-toc-modified-id=\"Create-neural-network-2\"><span class=\"toc-item-num\">2&nbsp;&nbsp;</span>Create neural network</a></span><ul class=\"toc-item\"><li><span><a href=\"#Now-with-constraints\" data-toc-modified-id=\"Now-with-constraints-2.1\"><span class=\"toc-item-num\">2.1&nbsp;&nbsp;</span>Now with constraints</a></span></li></ul></li></ul></div>"
   ]
  },
  {
   "cell_type": "code",
   "execution_count": 1,
   "metadata": {},
   "outputs": [],
   "source": [
    "import numpy as np\n",
    "import matplotlib.pyplot as plt\n",
    "%matplotlib inline"
   ]
  },
  {
   "cell_type": "markdown",
   "metadata": {},
   "source": [
    "## Create the dataset"
   ]
  },
  {
   "cell_type": "code",
   "execution_count": 2,
   "metadata": {},
   "outputs": [],
   "source": [
    "z = np.linspace(0, 1, 20)\n",
    "z_plot = np.linspace(0, 1, 21)"
   ]
  },
  {
   "cell_type": "code",
   "execution_count": 3,
   "metadata": {},
   "outputs": [],
   "source": [
    "def get_y(x1, x2, x3):\n",
    "    x1 = np.atleast_1d(x1); x2 = np.atleast_1d(x2); x3 = np.atleast_1d(x3)\n",
    "    tmp =  (x1.reshape(x1.shape[0], 1) * np.sin(1 * np.pi * z.reshape(1, 20)) + \n",
    "            x2.reshape(x1.shape[0], 1) * np.sin(4 * np.pi * z.reshape(1, 20)) + \n",
    "            x3.reshape(x1.shape[0], 1) * np.sin(5 * np.pi * z.reshape(1, 20)))\n",
    "    tmp = (tmp.T - np.mean(tmp, axis=1)).T\n",
    "    rain = np.maximum(0, np.sum(tmp[:, 10:], axis=1).reshape((-1, 1))) * 10\n",
    "    tmp[:, 10:] =  tmp[:, 10:] - (rain / 10.)\n",
    "    return np.concatenate([tmp, rain], axis=1)"
   ]
  },
  {
   "cell_type": "code",
   "execution_count": 4,
   "metadata": {},
   "outputs": [],
   "source": [
    "# create sample data\n",
    "n_samples = 10000\n",
    "x1 = np.random.normal(size=n_samples)\n",
    "x2 = np.random.normal(size=n_samples)\n",
    "x3 = np.random.normal(size=n_samples)\n",
    "y = get_y(x1, x2, x3)"
   ]
  },
  {
   "cell_type": "code",
   "execution_count": 5,
   "metadata": {},
   "outputs": [
    {
     "data": {
      "text/plain": [
       "(10000, 21)"
      ]
     },
     "execution_count": 5,
     "metadata": {},
     "output_type": "execute_result"
    }
   ],
   "source": [
    "y.shape"
   ]
  },
  {
   "cell_type": "code",
   "execution_count": 6,
   "metadata": {},
   "outputs": [
    {
     "data": {
      "text/plain": [
       "(1.1657341758564144e-15, 0.0)"
      ]
     },
     "execution_count": 6,
     "metadata": {},
     "output_type": "execute_result"
    },
    {
     "data": {
      "image/png": "[encoded data removed]",
      "text/plain": [
       "<matplotlib.figure.Figure at 0x7f94498dc748>"
      ]
     },
     "metadata": {},
     "output_type": "display_data"
    }
   ],
   "source": [
    "i = np.random.randint(0, n_samples)\n",
    "plt.plot(y[i], z_plot);\n",
    "np.sum(y[i]), y[i, -1]"
   ]
  },
  {
   "cell_type": "code",
   "execution_count": 7,
   "metadata": {},
   "outputs": [
    {
     "data": {
      "text/plain": [
       "(array([ 6394.,  1113.,   975.,   615.,   456.,   250.,   112.,    55.,\n",
       "           23.,     7.]),\n",
       " array([ 0.        ,  0.28586053,  0.57172106,  0.85758159,  1.14344212,\n",
       "         1.42930265,  1.71516318,  2.00102371,  2.28688424,  2.57274477,\n",
       "         2.85860529]),\n",
       " <a list of 10 Patch objects>)"
      ]
     },
     "execution_count": 7,
     "metadata": {},
     "output_type": "execute_result"
    },
    {
     "data": {
      "image/png": "[encoded data removed]",
      "text/plain": [
       "<matplotlib.figure.Figure at 0x7f944187e128>"
      ]
     },
     "metadata": {},
     "output_type": "display_data"
    }
   ],
   "source": [
    "plt.hist(y[:, -1])"
   ]
  },
  {
   "cell_type": "code",
   "execution_count": 8,
   "metadata": {},
   "outputs": [],
   "source": [
    "# Create test and valid data\n",
    "x = np.stack([x1, x2, x3], axis=1)\n",
    "# Add noise to xs\n",
    "x += (np.random.rand(x.shape[0], x.shape[1]) - 0.2) * 0.6"
   ]
  },
  {
   "cell_type": "code",
   "execution_count": 9,
   "metadata": {},
   "outputs": [],
   "source": [
    "i_split = int(0.8*n_samples)"
   ]
  },
  {
   "cell_type": "code",
   "execution_count": 10,
   "metadata": {},
   "outputs": [],
   "source": [
    "x_train = x[:i_split]\n",
    "y_train = y[:i_split]\n",
    "x_valid = x[i_split:]\n",
    "y_valid = y[i_split:]"
   ]
  },
  {
   "cell_type": "markdown",
   "metadata": {},
   "source": [
    "## Create neural network "
   ]
  },
  {
   "cell_type": "code",
   "execution_count": 11,
   "metadata": {},
   "outputs": [
    {
     "name": "stderr",
     "output_type": "stream",
     "text": [
      "Using TensorFlow backend.\n"
     ]
    }
   ],
   "source": [
    "import keras\n",
    "from keras.models import Sequential\n",
    "from keras.layers import Dense\n",
    "from keras.optimizers import Adam"
   ]
  },
  {
   "cell_type": "code",
   "execution_count": 12,
   "metadata": {},
   "outputs": [],
   "source": [
    "import tensorflow as tf\n",
    "config = tf.ConfigProto()\n",
    "config.gpu_options.allow_growth = True   # Allocates as much memory as needed.\n",
    "keras.backend.tensorflow_backend.set_session(tf.Session(config=config))"
   ]
  },
  {
   "cell_type": "code",
   "execution_count": 13,
   "metadata": {},
   "outputs": [],
   "source": [
    "model = Sequential([\n",
    "    Dense(200, input_shape=(3,), activation='relu'),\n",
    "    Dense(200, activation='relu'),\n",
    "    Dense(21)\n",
    "])"
   ]
  },
  {
   "cell_type": "code",
   "execution_count": 14,
   "metadata": {},
   "outputs": [
    {
     "name": "stdout",
     "output_type": "stream",
     "text": [
      "_________________________________________________________________\n",
      "Layer (type)                 Output Shape              Param #   \n",
      "=================================================================\n",
      "dense_1 (Dense)              (None, 200)               800       \n",
      "_________________________________________________________________\n",
      "dense_2 (Dense)              (None, 200)               40200     \n",
      "_________________________________________________________________\n",
      "dense_3 (Dense)              (None, 21)                4221      \n",
      "=================================================================\n",
      "Total params: 45,221\n",
      "Trainable params: 45,221\n",
      "Non-trainable params: 0\n",
      "_________________________________________________________________\n"
     ]
    }
   ],
   "source": [
    "model.summary()"
   ]
  },
  {
   "cell_type": "code",
   "execution_count": 15,
   "metadata": {},
   "outputs": [],
   "source": [
    "model.compile(Adam(0.001), 'mse')"
   ]
  },
  {
   "cell_type": "code",
   "execution_count": 16,
   "metadata": {},
   "outputs": [
    {
     "name": "stdout",
     "output_type": "stream",
     "text": [
      "Train on 8000 samples, validate on 2000 samples\n",
      "Epoch 1/10\n",
      "8000/8000 [==============================] - 4s - loss: 0.7219 - val_loss: 0.3580\n",
      "Epoch 2/10\n",
      "8000/8000 [==============================] - 0s - loss: 0.1497 - val_loss: 0.0615\n",
      "Epoch 3/10\n",
      "8000/8000 [==============================] - 0s - loss: 0.0540 - val_loss: 0.0407\n",
      "Epoch 4/10\n",
      "8000/8000 [==============================] - 0s - loss: 0.0374 - val_loss: 0.0351\n",
      "Epoch 5/10\n",
      "8000/8000 [==============================] - 0s - loss: 0.0334 - val_loss: 0.0327\n",
      "Epoch 6/10\n",
      "8000/8000 [==============================] - 0s - loss: 0.0319 - val_loss: 0.0318\n",
      "Epoch 7/10\n",
      "8000/8000 [==============================] - 0s - loss: 0.0313 - val_loss: 0.0313\n",
      "Epoch 8/10\n",
      "8000/8000 [==============================] - 0s - loss: 0.0308 - val_loss: 0.0309\n",
      "Epoch 9/10\n",
      "8000/8000 [==============================] - 0s - loss: 0.0306 - val_loss: 0.0306\n",
      "Epoch 10/10\n",
      "8000/8000 [==============================] - 0s - loss: 0.0304 - val_loss: 0.0306\n"
     ]
    },
    {
     "data": {
      "text/plain": [
       "<keras.callbacks.History at 0x7f93ec7b9518>"
      ]
     },
     "execution_count": 16,
     "metadata": {},
     "output_type": "execute_result"
    }
   ],
   "source": [
    "model.fit(x_train, y_train, batch_size=512, epochs=10, validation_data=(x_valid, y_valid))"
   ]
  },
  {
   "cell_type": "code",
   "execution_count": 17,
   "metadata": {},
   "outputs": [],
   "source": [
    "y_pred = model.predict(x_valid)"
   ]
  },
  {
   "cell_type": "code",
   "execution_count": 18,
   "metadata": {},
   "outputs": [
    {
     "data": {
      "text/plain": [
       "[<matplotlib.lines.Line2D at 0x7f93ec559978>]"
      ]
     },
     "execution_count": 18,
     "metadata": {},
     "output_type": "execute_result"
    },
    {
     "data": {
      "image/png": "[encoded data removed]",
      "text/plain": [
       "<matplotlib.figure.Figure at 0x7f93ec5599b0>"
      ]
     },
     "metadata": {},
     "output_type": "display_data"
    }
   ],
   "source": [
    "i = np.random.randint(0, n_samples*0.2)\n",
    "plt.plot(y_valid[i], z_plot, label='true')\n",
    "plt.plot(y_pred[i], z_plot, label='pred')"
   ]
  },
  {
   "cell_type": "code",
   "execution_count": 19,
   "metadata": {},
   "outputs": [
    {
     "data": {
      "text/plain": [
       "(0.0038725466, 5.6752624673163581e-17)"
      ]
     },
     "execution_count": 19,
     "metadata": {},
     "output_type": "execute_result"
    }
   ],
   "source": [
    "np.mean(np.abs(np.mean(y_pred[:, :], axis=1))), np.mean(np.abs(np.mean(y_valid[:], axis=1)))"
   ]
  },
  {
   "cell_type": "code",
   "execution_count": 22,
   "metadata": {},
   "outputs": [
    {
     "data": {
      "image/png": "[encoded data removed]",
      "text/plain": [
       "<matplotlib.figure.Figure at 0x7f93d01bd908>"
      ]
     },
     "metadata": {},
     "output_type": "display_data"
    }
   ],
   "source": [
    "plt.hist(y_pred[:, -1], bins=50);"
   ]
  },
  {
   "cell_type": "markdown",
   "metadata": {},
   "source": [
    "### Now with constraints"
   ]
  },
  {
   "cell_type": "code",
   "execution_count": 64,
   "metadata": {},
   "outputs": [],
   "source": [
    "import keras.backend as K\n",
    "def transform(x):\n",
    "    \"\"\"x[sample, z-1]\"\"\"\n",
    "    x_rain = K.reshape(K.maximum(0., x[:, -1]), (-1, 1))\n",
    "    x_first = - K.reshape(K.sum(x[:, :-1], axis=1), (-1, 1)) - x_rain\n",
    "    return K.concatenate([x_first, x[:, :-1], x_rain], axis=1)"
   ]
  },
  {
   "cell_type": "code",
   "execution_count": 65,
   "metadata": {},
   "outputs": [],
   "source": [
    "from keras.losses import mean_squared_error\n",
    "def transformed_mse(y_true, y_pred):\n",
    "    return mean_squared_error(y_true, transform(y_pred))"
   ]
  },
  {
   "cell_type": "code",
   "execution_count": 66,
   "metadata": {},
   "outputs": [],
   "source": [
    "model_transform = Sequential([\n",
    "    Dense(200, input_shape=(3,), activation='relu'),\n",
    "    Dense(200, activation='relu'),\n",
    "    Dense(21-1)\n",
    "])"
   ]
  },
  {
   "cell_type": "code",
   "execution_count": 67,
   "metadata": {},
   "outputs": [],
   "source": [
    "model_transform.compile(Adam(0.001), transformed_mse)"
   ]
  },
  {
   "cell_type": "code",
   "execution_count": 68,
   "metadata": {},
   "outputs": [
    {
     "name": "stdout",
     "output_type": "stream",
     "text": [
      "Train on 8000 samples, validate on 2000 samples\n",
      "Epoch 1/10\n",
      "8000/8000 [==============================] - 0s - loss: 0.7576 - val_loss: 0.4219\n",
      "Epoch 2/10\n",
      "8000/8000 [==============================] - 0s - loss: 0.1971 - val_loss: 0.0633\n",
      "Epoch 3/10\n",
      "8000/8000 [==============================] - 0s - loss: 0.0559 - val_loss: 0.0417ss: 0.059\n",
      "Epoch 4/10\n",
      "8000/8000 [==============================] - 0s - loss: 0.0384 - val_loss: 0.0350\n",
      "Epoch 5/10\n",
      "8000/8000 [==============================] - 0s - loss: 0.0340 - val_loss: 0.0333\n",
      "Epoch 6/10\n",
      "8000/8000 [==============================] - 0s - loss: 0.0323 - val_loss: 0.0321\n",
      "Epoch 7/10\n",
      "8000/8000 [==============================] - 0s - loss: 0.0315 - val_loss: 0.0317\n",
      "Epoch 8/10\n",
      "8000/8000 [==============================] - 0s - loss: 0.0311 - val_loss: 0.0311\n",
      "Epoch 9/10\n",
      "8000/8000 [==============================] - 0s - loss: 0.0309 - val_loss: 0.0309\n",
      "Epoch 10/10\n",
      "8000/8000 [==============================] - 0s - loss: 0.0306 - val_loss: 0.0307\n"
     ]
    },
    {
     "data": {
      "text/plain": [
       "<keras.callbacks.History at 0x7f936bfebb70>"
      ]
     },
     "execution_count": 68,
     "metadata": {},
     "output_type": "execute_result"
    }
   ],
   "source": [
    "model_transform.fit(x_train, y_train, batch_size=512, epochs=10, \n",
    "                    validation_data=(x_valid, y_valid))"
   ]
  },
  {
   "cell_type": "code",
   "execution_count": 69,
   "metadata": {},
   "outputs": [],
   "source": [
    "y_pred_trans = model_transform.predict(x_valid)\n",
    "\n",
    "y_rain = np.maximum(0, y_pred_trans[:, -1]).reshape((-1, 1))\n",
    "y_first = -y_pred_trans[:, :-1].sum(axis=1).reshape((-1, 1)) - y_rain\n",
    "\n",
    "y_pred_trans = np.concatenate([y_first, y_pred_trans[:, :-1], y_rain], axis=1)"
   ]
  },
  {
   "cell_type": "code",
   "execution_count": 127,
   "metadata": {},
   "outputs": [
    {
     "data": {
      "text/plain": [
       "(1.4305115e-06, 1.3322676295501878e-15)"
      ]
     },
     "execution_count": 127,
     "metadata": {},
     "output_type": "execute_result"
    },
    {
     "data": {
      "image/png": "[encoded data removed]",
      "text/plain": [
       "<matplotlib.figure.Figure at 0x7f936ad632e8>"
      ]
     },
     "metadata": {},
     "output_type": "display_data"
    }
   ],
   "source": [
    "i = np.random.randint(0, 200)\n",
    "i = 1948\n",
    "plt.plot(y_valid[i], z_plot, label='true')\n",
    "plt.plot(y_pred_trans[i], z_plot, label='pred')\n",
    "plt.legend();\n",
    "np.sum(y_pred_trans[i]), np.sum(y_valid[i])"
   ]
  },
  {
   "cell_type": "code",
   "execution_count": 126,
   "metadata": {},
   "outputs": [
    {
     "data": {
      "text/plain": [
       "1948"
      ]
     },
     "execution_count": 126,
     "metadata": {},
     "output_type": "execute_result"
    }
   ],
   "source": [
    "max_error = np.argmax(np.mean(np.abs((y_valid - y_pred_trans)), axis=1))\n",
    "max_error"
   ]
  },
  {
   "cell_type": "code",
   "execution_count": 71,
   "metadata": {},
   "outputs": [
    {
     "data": {
      "text/plain": [
       "(2000, 21)"
      ]
     },
     "execution_count": 71,
     "metadata": {},
     "output_type": "execute_result"
    }
   ],
   "source": [
    "y_pred_trans.shape"
   ]
  },
  {
   "cell_type": "code",
   "execution_count": 72,
   "metadata": {},
   "outputs": [
    {
     "data": {
      "text/plain": [
       "(1.4690595e-08, 5.6752624673163581e-17)"
      ]
     },
     "execution_count": 72,
     "metadata": {},
     "output_type": "execute_result"
    }
   ],
   "source": [
    "np.mean(np.abs(np.mean(y_pred_trans, axis=1))), np.mean(np.abs(np.mean(y_valid, axis=1)))"
   ]
  },
  {
   "cell_type": "code",
   "execution_count": 73,
   "metadata": {},
   "outputs": [
    {
     "data": {
      "image/png": "[encoded data removed]",
      "text/plain": [
       "<matplotlib.figure.Figure at 0x7f936bcaf0f0>"
      ]
     },
     "metadata": {},
     "output_type": "display_data"
    }
   ],
   "source": [
    "plt.hist(y_pred_trans[:, -1], bins=50);"
   ]
  },
  {
   "cell_type": "code",
   "execution_count": 74,
   "metadata": {},
   "outputs": [
    {
     "data": {
      "image/png": "[encoded data removed]",
      "text/plain": [
       "<matplotlib.figure.Figure at 0x7f93c02a11d0>"
      ]
     },
     "metadata": {},
     "output_type": "display_data"
    }
   ],
   "source": [
    "plt.hist(y_valid[:, -1], bins=50);"
   ]
  },
  {
   "cell_type": "code",
   "execution_count": null,
   "metadata": {},
   "outputs": [],
   "source": []
  }
 ],
 "metadata": {
  "kernelspec": {
   "display_name": "Python 3",
   "language": "python",
   "name": "python3"
  },
  "language_info": {
   "codemirror_mode": {
    "name": "ipython",
    "version": 3
   },
   "file_extension": ".py",
   "mimetype": "text/x-python",
   "name": "python",
   "nbconvert_exporter": "python",
   "pygments_lexer": "ipython3",
   "version": "3.6.3"
  },
  "toc": {
   "nav_menu": {},
   "number_sections": true,
   "sideBar": true,
   "skip_h1_title": true,
   "toc_cell": true,
   "toc_position": {},
   "toc_section_display": "block",
   "toc_window_display": false
  }
 },
 "nbformat": 4,
 "nbformat_minor": 2
}
