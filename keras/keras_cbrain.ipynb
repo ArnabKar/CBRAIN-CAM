{
 "cells": [
  {
   "cell_type": "markdown",
   "metadata": {},
   "source": [
    "# A simple keras implementation of CBRAIN\n",
    "\n",
    "The creation of the data sets is done in the data_conversion notebook."
   ]
  },
  {
   "cell_type": "code",
   "execution_count": 52,
   "metadata": {
    "collapsed": true
   },
   "outputs": [],
   "source": [
    "# Imports\n",
    "import numpy as np\n",
    "%matplotlib inline\n",
    "import matplotlib.pyplot as plt\n",
    "import seaborn as sns\n",
    "import netCDF4 as nc"
   ]
  },
  {
   "cell_type": "code",
   "execution_count": 53,
   "metadata": {},
   "outputs": [],
   "source": [
    "# Some basic setup\n",
    "np.random.seed(42)\n",
    "sns.set_style('white')\n",
    "\n",
    "# Directory where netCDF files are stored\n",
    "data_dir = '/project/meteo/w2w/A6/S.Rasp/SP-CAM/sample/'   # 100,000 samples"
   ]
  },
  {
   "cell_type": "code",
   "execution_count": 69,
   "metadata": {
    "collapsed": true
   },
   "outputs": [],
   "source": [
    "# Features and targets from Pierre's submit script\n",
    "# Make it a dictionary with \n",
    "# Get variable meaning from ??? Need to look that up at some point!\n",
    "feature_vars = {\n",
    "    'TAP': 2,             # Temperature [z, sample]\n",
    "    'QAP': 2,             # Specific humidity [z, sample]\n",
    "    'OMEGA': 2,           # [z, sample]\n",
    "    'SHFLX': 1,           # [sample]\n",
    "    'LHFLX': 1,           # [sample]\n",
    "    'LAT': 1,             # Latitude [sample]\n",
    "    'dTdt_adiabatic': 2,  # [z, sample]\n",
    "    'dQdt_adiabatic': 2,  # [z, sample]\n",
    "    'QRL': 2,             # Long wave heating rate [z, sample]\n",
    "    'QRS': 2,             # Short wave heating rate [z, sample]\n",
    "}\n",
    "target_dics = {\n",
    "    'SPDT': 2,            # SP temperature tendency [z, sample]\n",
    "    'SPDQ': 2,            # SP humidity tendency [z, sample]\n",
    "}"
   ]
  },
  {
   "cell_type": "markdown",
   "metadata": {},
   "source": [
    "## Visualize task of the network\n",
    "\n",
    "The goal of this section is to get an intuition of the task at hand. What are the inputs, what are the outputs? How does this depend on latitude?"
   ]
  },
  {
   "cell_type": "code",
   "execution_count": 24,
   "metadata": {},
   "outputs": [
    {
     "data": {
      "text/plain": [
       "<class 'netCDF4._netCDF4.Dataset'>\n",
       "root group (NETCDF4 data model, file format HDF5):\n",
       "    dimensions(sizes): z(21), t(80000)\n",
       "    variables(dimensions): float64 \u001b[4mLAT\u001b[0m(t), float64 \u001b[4mPS\u001b[0m(t), float64 \u001b[4mSHFLX\u001b[0m(t), float64 \u001b[4mLHFLX\u001b[0m(t), float64 \u001b[4mOMEGA\u001b[0m(z,t), float64 \u001b[4mQAP\u001b[0m(z,t), float64 \u001b[4mTAP\u001b[0m(z,t), float64 \u001b[4mQRL\u001b[0m(z,t), float64 \u001b[4mQRS\u001b[0m(z,t), float64 \u001b[4mUBSP\u001b[0m(z,t), float64 \u001b[4mVBSP\u001b[0m(z,t), float64 \u001b[4mSPQC\u001b[0m(z,t), float64 \u001b[4mSPQG\u001b[0m(z,t), float64 \u001b[4mSPQI\u001b[0m(z,t), float64 \u001b[4mSPQR\u001b[0m(z,t), float64 \u001b[4mSPMC\u001b[0m(z,t), float64 \u001b[4mSPMCDN\u001b[0m(z,t), float64 \u001b[4mSPMCUDN\u001b[0m(z,t), float64 \u001b[4mSPMCUP\u001b[0m(z,t), float64 \u001b[4mSPMCUUP\u001b[0m(z,t), float64 \u001b[4mTPHYSTND\u001b[0m(z,t), float64 \u001b[4mPHQ\u001b[0m(z,t), float64 \u001b[4mSPDT\u001b[0m(z,t), float64 \u001b[4mSPDQ\u001b[0m(z,t), float64 \u001b[4mSPDQC\u001b[0m(z,t), float64 \u001b[4mSPDQI\u001b[0m(z,t), float64 \u001b[4mdTdt_adiabatic\u001b[0m(z,t), float64 \u001b[4mdQdt_adiabatic\u001b[0m(z,t), float64 \u001b[4mGRAD_UQ_H\u001b[0m(z,t)\n",
       "    groups: "
      ]
     },
     "execution_count": 24,
     "metadata": {},
     "output_type": "execute_result"
    }
   ],
   "source": [
    "# Load the training set\n",
    "train_out = nc.Dataset(data_dir + 'SPCAM_outputs_train.nc')\n",
    "train_out"
   ]
  },
  {
   "cell_type": "code",
   "execution_count": null,
   "metadata": {
    "collapsed": true
   },
   "outputs": [],
   "source": []
  },
  {
   "cell_type": "code",
   "execution_count": null,
   "metadata": {
    "collapsed": true
   },
   "outputs": [],
   "source": [
    "\n",
    "    "
   ]
  },
  {
   "cell_type": "code",
   "execution_count": null,
   "metadata": {
    "collapsed": true
   },
   "outputs": [],
   "source": []
  },
  {
   "cell_type": "code",
   "execution_count": null,
   "metadata": {
    "collapsed": true
   },
   "outputs": [],
   "source": []
  },
  {
   "cell_type": "code",
   "execution_count": null,
   "metadata": {
    "collapsed": true
   },
   "outputs": [],
   "source": []
  },
  {
   "cell_type": "markdown",
   "metadata": {},
   "source": [
    "## Create a very simple network with sample data\n",
    "\n",
    "Let's first create a simple network using the sample data as a reference for future developments. This dataset is small enough to fit in the RAM, so we don't have to load the data in batches."
   ]
  },
  {
   "cell_type": "code",
   "execution_count": 25,
   "metadata": {
    "collapsed": true
   },
   "outputs": [],
   "source": [
    "a = train_out.variables['PS'][:]"
   ]
  },
  {
   "cell_type": "code",
   "execution_count": 26,
   "metadata": {},
   "outputs": [
    {
     "data": {
      "text/plain": [
       "(80000,)"
      ]
     },
     "execution_count": 26,
     "metadata": {},
     "output_type": "execute_result"
    }
   ],
   "source": [
    "a.shape"
   ]
  },
  {
   "cell_type": "code",
   "execution_count": 27,
   "metadata": {},
   "outputs": [
    {
     "data": {
      "text/plain": [
       "(1, 80000)"
      ]
     },
     "execution_count": 27,
     "metadata": {},
     "output_type": "execute_result"
    }
   ],
   "source": [
    "np.atleast_2d(a).shape"
   ]
  },
  {
   "cell_type": "code",
   "execution_count": 28,
   "metadata": {
    "collapsed": true
   },
   "outputs": [],
   "source": [
    "feature_list = []\n",
    "for var in feature_vars:\n",
    "    feature_list.append(np.atleast_2d(train_out.variables[var][:]))"
   ]
  },
  {
   "cell_type": "code",
   "execution_count": 29,
   "metadata": {
    "collapsed": true
   },
   "outputs": [],
   "source": [
    "train_features = np.concatenate(feature_list, axis=0)"
   ]
  },
  {
   "cell_type": "code",
   "execution_count": 30,
   "metadata": {},
   "outputs": [
    {
     "data": {
      "text/plain": [
       "(150, 80000)"
      ]
     },
     "execution_count": 30,
     "metadata": {},
     "output_type": "execute_result"
    }
   ],
   "source": [
    "train_features.shape"
   ]
  },
  {
   "cell_type": "code",
   "execution_count": 31,
   "metadata": {},
   "outputs": [
    {
     "data": {
      "text/plain": [
       "array([[  2.20930939e+02,   2.25640213e+02,   1.98539246e+02, ...,\n",
       "          2.15575394e+02,   2.19604889e+02,   2.18073654e+02],\n",
       "       [  2.20318680e+02,   2.20912628e+02,   2.05702530e+02, ...,\n",
       "          2.15219742e+02,   2.17599640e+02,   2.17591537e+02],\n",
       "       [  2.19321259e+02,   2.16433456e+02,   2.13582077e+02, ...,\n",
       "          2.13647018e+02,   2.14632324e+02,   2.16649460e+02],\n",
       "       ..., \n",
       "       [  8.28550765e-06,   1.93800133e-06,   0.00000000e+00, ...,\n",
       "          0.00000000e+00,   3.57915883e-06,   0.00000000e+00],\n",
       "       [  7.83580981e-06,   1.89141213e-06,   0.00000000e+00, ...,\n",
       "          0.00000000e+00,   4.03325157e-06,   0.00000000e+00],\n",
       "       [  7.53686300e-06,   1.81208577e-06,   0.00000000e+00, ...,\n",
       "          0.00000000e+00,   3.92269885e-06,   0.00000000e+00]])"
      ]
     },
     "execution_count": 31,
     "metadata": {},
     "output_type": "execute_result"
    }
   ],
   "source": [
    "train_features"
   ]
  },
  {
   "cell_type": "code",
   "execution_count": 32,
   "metadata": {},
   "outputs": [
    {
     "data": {
      "text/plain": [
       "(42, 80000)"
      ]
     },
     "execution_count": 32,
     "metadata": {},
     "output_type": "execute_result"
    }
   ],
   "source": [
    "# Unit conversion from dataLoad\n",
    "train_targets = np.concatenate([\n",
    "    train_out.variables['SPDT'][:] * 1000.,\n",
    "    train_out.variables['SPDQ'][:] * 2.5e6,\n",
    "], axis=0)\n",
    "train_targets.shape"
   ]
  },
  {
   "cell_type": "code",
   "execution_count": 33,
   "metadata": {},
   "outputs": [
    {
     "data": {
      "text/plain": [
       "array([[  6.33505332e-08,  -3.89100835e-08,   1.14217323e-07, ...,\n",
       "         -2.70687943e-09,   3.12432524e-07,  -2.12778623e-09],\n",
       "       [ -8.39625244e-08,  -9.05127154e-08,  -7.26567695e-08, ...,\n",
       "         -4.86461696e-09,  -8.50707782e-07,  -1.32163009e-09],\n",
       "       [ -7.49094675e-08,  -2.62363353e-07,   4.79409082e-08, ...,\n",
       "         -2.41275554e-09,  -3.84865873e-06,  -2.32569628e-09],\n",
       "       ..., \n",
       "       [ -1.14252641e-02,   7.11419326e-04,   4.75163131e-03, ...,\n",
       "          9.36710154e-03,   7.17797732e-02,   1.30709388e-02],\n",
       "       [ -2.19547186e-03,   3.67740872e-04,   8.49632587e-03, ...,\n",
       "          1.05709774e-02,  -2.68154015e-01,   1.75571335e-02],\n",
       "       [ -5.04972508e-03,  -1.38562190e-03,  -2.18417262e-02, ...,\n",
       "         -5.46426959e-03,  -7.05616543e-02,  -1.76636683e-02]])"
      ]
     },
     "execution_count": 33,
     "metadata": {},
     "output_type": "execute_result"
    }
   ],
   "source": [
    "train_targets"
   ]
  },
  {
   "cell_type": "code",
   "execution_count": 51,
   "metadata": {},
   "outputs": [
    {
     "data": {
      "image/png": "[encoded data removed]",
      "text/plain": [
       "<matplotlib.figure.Figure at 0x7f64a3a8d2e8>"
      ]
     },
     "metadata": {},
     "output_type": "display_data"
    }
   ],
   "source": [
    "plt.plot(np.mean(train_targets, axis=0))\n",
    "plt.show()"
   ]
  },
  {
   "cell_type": "code",
   "execution_count": 35,
   "metadata": {
    "collapsed": true
   },
   "outputs": [],
   "source": [
    "train_features = np.rollaxis(train_features, 1, 0)\n",
    "train_targets = np.rollaxis(train_targets, 1, 0)"
   ]
  },
  {
   "cell_type": "code",
   "execution_count": null,
   "metadata": {
    "collapsed": true
   },
   "outputs": [],
   "source": [
    "def vis_features_target(features, target, feature_dics, target_dict):\n",
    "    \"\"\"Visualize task\n",
    "    \"\"\"\n",
    "    \n",
    "    "
   ]
  },
  {
   "cell_type": "code",
   "execution_count": null,
   "metadata": {
    "collapsed": true
   },
   "outputs": [],
   "source": []
  },
  {
   "cell_type": "code",
   "execution_count": null,
   "metadata": {
    "collapsed": true
   },
   "outputs": [],
   "source": []
  },
  {
   "cell_type": "code",
   "execution_count": null,
   "metadata": {
    "collapsed": true
   },
   "outputs": [],
   "source": []
  },
  {
   "cell_type": "markdown",
   "metadata": {},
   "source": [
    "## Create network"
   ]
  },
  {
   "cell_type": "code",
   "execution_count": 23,
   "metadata": {},
   "outputs": [],
   "source": [
    "import keras\n",
    "from keras.models import Sequential\n",
    "from keras.layers import Dense\n",
    "from keras.optimizers import Adam"
   ]
  },
  {
   "cell_type": "code",
   "execution_count": null,
   "metadata": {
    "collapsed": true
   },
   "outputs": [],
   "source": []
  },
  {
   "cell_type": "code",
   "execution_count": 64,
   "metadata": {},
   "outputs": [],
   "source": [
    "model = Sequential([\n",
    "    Dense(100, input_shape=(train_features.shape[1],)),\n",
    "    Dense(100),\n",
    "    Dense(train_targets.shape[1], activation='linear')\n",
    "])"
   ]
  },
  {
   "cell_type": "code",
   "execution_count": 65,
   "metadata": {
    "collapsed": true
   },
   "outputs": [],
   "source": [
    "model.compile(Adam(0.001), loss='mse')"
   ]
  },
  {
   "cell_type": "code",
   "execution_count": 66,
   "metadata": {
    "scrolled": true
   },
   "outputs": [
    {
     "name": "stdout",
     "output_type": "stream",
     "text": [
      "Epoch 1/50\n",
      "80000/80000 [==============================] - 0s - loss: 597.1450     \n",
      "Epoch 2/50\n",
      "80000/80000 [==============================] - 0s - loss: 6.1922     \n",
      "Epoch 3/50\n",
      "80000/80000 [==============================] - 0s - loss: 3.0432     \n",
      "Epoch 4/50\n",
      "80000/80000 [==============================] - 0s - loss: 1.9722     \n",
      "Epoch 5/50\n",
      "80000/80000 [==============================] - 0s - loss: 1.4039     \n",
      "Epoch 6/50\n",
      "80000/80000 [==============================] - 0s - loss: 1.0528     \n",
      "Epoch 7/50\n",
      "80000/80000 [==============================] - 0s - loss: 0.8208     \n",
      "Epoch 8/50\n",
      "80000/80000 [==============================] - 0s - loss: 0.6648     \n",
      "Epoch 9/50\n",
      "80000/80000 [==============================] - 0s - loss: 0.5554     \n",
      "Epoch 10/50\n",
      "80000/80000 [==============================] - 0s - loss: 0.4775     \n",
      "Epoch 11/50\n",
      "80000/80000 [==============================] - 0s - loss: 0.4193     \n",
      "Epoch 12/50\n",
      "80000/80000 [==============================] - 0s - loss: 0.3745     \n",
      "Epoch 13/50\n",
      "80000/80000 [==============================] - 0s - loss: 0.3397     \n",
      "Epoch 14/50\n",
      "80000/80000 [==============================] - 0s - loss: 0.3111     \n",
      "Epoch 15/50\n",
      "80000/80000 [==============================] - 0s - loss: 0.2867     \n",
      "Epoch 16/50\n",
      "80000/80000 [==============================] - 0s - loss: 0.2659     - ETA: 0s - loss:\n",
      "Epoch 17/50\n",
      "80000/80000 [==============================] - 0s - loss: 0.2479     \n",
      "Epoch 18/50\n",
      "80000/80000 [==============================] - 0s - loss: 0.2324     - ETA: 0s - loss: \n",
      "Epoch 19/50\n",
      "80000/80000 [==============================] - 0s - loss: 0.2195     - ETA: 0s - loss:\n",
      "Epoch 20/50\n",
      "80000/80000 [==============================] - 0s - loss: 0.2067     - ETA: 0s - loss\n",
      "Epoch 21/50\n",
      "80000/80000 [==============================] - 0s - loss: 0.1949     \n",
      "Epoch 22/50\n",
      "80000/80000 [==============================] - 0s - loss: 0.1842     \n",
      "Epoch 23/50\n",
      "80000/80000 [==============================] - 0s - loss: 0.1754     \n",
      "Epoch 24/50\n",
      "80000/80000 [==============================] - 0s - loss: 0.1666     \n",
      "Epoch 25/50\n",
      "80000/80000 [==============================] - 0s - loss: 0.1605     \n",
      "Epoch 26/50\n",
      "80000/80000 [==============================] - 0s - loss: 0.1591     \n",
      "Epoch 27/50\n",
      "80000/80000 [==============================] - 0s - loss: 0.1590     \n",
      "Epoch 28/50\n",
      "80000/80000 [==============================] - 0s - loss: 0.1942     - ETA: 0s - loss: \n",
      "Epoch 29/50\n",
      "80000/80000 [==============================] - 0s - loss: 0.1970     \n",
      "Epoch 30/50\n",
      "80000/80000 [==============================] - 0s - loss: 0.3269     \n",
      "Epoch 31/50\n",
      "80000/80000 [==============================] - 0s - loss: 0.1281     \n",
      "Epoch 32/50\n",
      "80000/80000 [==============================] - 0s - loss: 0.1286     \n",
      "Epoch 33/50\n",
      "80000/80000 [==============================] - 0s - loss: 0.3688     - ETA: 0s - loss:\n",
      "Epoch 34/50\n",
      "80000/80000 [==============================] - 0s - loss: 0.1131     \n",
      "Epoch 35/50\n",
      "80000/80000 [==============================] - 0s - loss: 0.1660     - ETA: 0s - loss: \n",
      "Epoch 36/50\n",
      "80000/80000 [==============================] - 0s - loss: 0.2759     \n",
      "Epoch 37/50\n",
      "80000/80000 [==============================] - 0s - loss: 0.1935     \n",
      "Epoch 38/50\n",
      "80000/80000 [==============================] - 0s - loss: 0.2764     \n",
      "Epoch 39/50\n",
      "80000/80000 [==============================] - 0s - loss: 0.2826     - ETA: 0s - loss: \n",
      "Epoch 40/50\n",
      "80000/80000 [==============================] - 0s - loss: 0.2326     \n",
      "Epoch 41/50\n",
      "80000/80000 [==============================] - 0s - loss: 0.3857     - ETA: 0s - loss\n",
      "Epoch 42/50\n",
      "80000/80000 [==============================] - 0s - loss: 0.3497     \n",
      "Epoch 43/50\n",
      "80000/80000 [==============================] - 0s - loss: 0.1980     \n",
      "Epoch 44/50\n",
      "80000/80000 [==============================] - 0s - loss: 0.2734     \n",
      "Epoch 45/50\n",
      "80000/80000 [==============================] - 0s - loss: 0.2601     \n",
      "Epoch 46/50\n",
      "80000/80000 [==============================] - 0s - loss: 0.3344     \n",
      "Epoch 47/50\n",
      "80000/80000 [==============================] - 0s - loss: 0.2230     - ETA: 0s - loss\n",
      "Epoch 48/50\n",
      "80000/80000 [==============================] - 0s - loss: 0.3077     \n",
      "Epoch 49/50\n",
      "80000/80000 [==============================] - 0s - loss: 0.3279     \n",
      "Epoch 50/50\n",
      "80000/80000 [==============================] - 0s - loss: 0.3667     \n"
     ]
    },
    {
     "data": {
      "text/plain": [
       "<keras.callbacks.History at 0x7f64a308ff60>"
      ]
     },
     "execution_count": 66,
     "metadata": {},
     "output_type": "execute_result"
    }
   ],
   "source": [
    "model.fit(train_features, train_targets, batch_size=1024, epochs=50)"
   ]
  },
  {
   "cell_type": "code",
   "execution_count": 67,
   "metadata": {
    "collapsed": true
   },
   "outputs": [],
   "source": [
    "preds = model.predict(train_features)"
   ]
  },
  {
   "cell_type": "code",
   "execution_count": 68,
   "metadata": {},
   "outputs": [
    {
     "data": {
      "image/png": "[encoded data removed]",
      "text/plain": [
       "<matplotlib.figure.Figure at 0x7f64a356d198>"
      ]
     },
     "metadata": {},
     "output_type": "display_data"
    }
   ],
   "source": [
    "plt.plot(train_targets[11], c='r')\n",
    "plt.plot(preds[11], c='g')\n",
    "plt.show()"
   ]
  },
  {
   "cell_type": "code",
   "execution_count": null,
   "metadata": {
    "collapsed": true
   },
   "outputs": [],
   "source": []
  }
 ],
 "metadata": {
  "kernelspec": {
   "display_name": "Python 3",
   "language": "python",
   "name": "python3"
  },
  "language_info": {
   "codemirror_mode": {
    "name": "ipython",
    "version": 3
   },
   "file_extension": ".py",
   "mimetype": "text/x-python",
   "name": "python",
   "nbconvert_exporter": "python",
   "pygments_lexer": "ipython3",
   "version": "3.6.2"
  },
  "toc": {
   "nav_menu": {},
   "number_sections": true,
   "sideBar": true,
   "skip_h1_title": false,
   "toc_cell": false,
   "toc_position": {},
   "toc_section_display": "block",
   "toc_window_display": false
  }
 },
 "nbformat": 4,
 "nbformat_minor": 2
}
