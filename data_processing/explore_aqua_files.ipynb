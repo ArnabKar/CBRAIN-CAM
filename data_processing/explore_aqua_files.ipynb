{
 "cells": [
  {
   "cell_type": "markdown",
   "metadata": {
    "toc": "true"
   },
   "source": [
    " # Table of Contents\n",
    "<div class=\"toc\" style=\"margin-top: 1em;\"><ul class=\"toc-item\" id=\"toc-level0\"></ul></div>"
   ]
  },
  {
   "cell_type": "markdown",
   "metadata": {},
   "source": [
    "This is simply a notebook to help me test stuff for the preprocessing script."
   ]
  },
  {
   "cell_type": "code",
   "execution_count": 35,
   "metadata": {
    "collapsed": true
   },
   "outputs": [],
   "source": [
    "import netCDF4 as nc\n",
    "import os"
   ]
  },
  {
   "cell_type": "code",
   "execution_count": null,
   "metadata": {
    "collapsed": true
   },
   "outputs": [],
   "source": [
    "os.path.join()"
   ]
  },
  {
   "cell_type": "code",
   "execution_count": 25,
   "metadata": {},
   "outputs": [
    {
     "name": "stdout",
     "output_type": "stream",
     "text": [
      "\u001b[31mAndKua_aqua_SPCAM3.0.cam2.h1.0000-01-01-00000.nc\u001b[m\u001b[m*\r\n",
      "\u001b[31mAndKua_aqua_SPCAM3.0.cam2.h1.0000-02-01-00000.nc\u001b[m\u001b[m*\r\n",
      "\u001b[31mAndKua_aqua_SPCAM3.0.cam2.h1.0000-03-01-00000.nc\u001b[m\u001b[m*\r\n",
      "\u001b[31mAndKua_aqua_SPCAM3.0.cam2.h1.0000-04-01-00000.nc\u001b[m\u001b[m*\r\n",
      "\u001b[31mAndKua_aqua_SPCAM3.0.cam2.h1.0000-06-01-00000.nc\u001b[m\u001b[m*\r\n",
      "\u001b[31mAndKua_aqua_SPCAM3.0.cam2.h1.0000-09-01-00000.nc\u001b[m\u001b[m*\r\n",
      "\u001b[31mAndKua_aqua_SPCAM3.0.cam2.h1.0000-12-01-00000.nc\u001b[m\u001b[m*\r\n",
      "\u001b[31mAndKua_aqua_SPCAM3.0.cam2.h1.0001-01-01-00000.nc\u001b[m\u001b[m*\r\n"
     ]
    }
   ],
   "source": [
    "data_dir = '/Volumes/STICK/data/SPCAM/Aquaplanet/'\n",
    "%ls $data_dir"
   ]
  },
  {
   "cell_type": "code",
   "execution_count": 26,
   "metadata": {},
   "outputs": [
    {
     "data": {
      "text/plain": [
       "<class 'netCDF4._netCDF4.Dataset'>\n",
       "root group (NETCDF3_CLASSIC data model, file format NETCDF3):\n",
       "    Conventions: CF-1.0\n",
       "    source: CAM\n",
       "    case: AndKua_aqua_SPCAM3.0\n",
       "    title: \n",
       "    logname: tg802402\n",
       "    host: c532-003.stamped\n",
       "    Version: $Name:  $\n",
       "    revision_Id: $Id: history.F90,v 1.26.2.38 2003/12/15 18:52:35 hender Exp $\n",
       "    dimensions(sizes): lat(64), lon(128), lev(30), ilev(31), isccp_prs(7), isccp_tau(7), isccp_prstau(49), time(48), tbnd(2), chars(8), crm_x(32), crm_y(1), crm_z(28)\n",
       "    variables(dimensions): float64 \u001b[4mP0\u001b[0m(), float64 \u001b[4mlat\u001b[0m(lat), float64 \u001b[4mlon\u001b[0m(lon), float64 \u001b[4mcrm_x\u001b[0m(crm_x), float64 \u001b[4mcrm_y\u001b[0m(crm_y), float64 \u001b[4mcrm_z\u001b[0m(crm_z), float64 \u001b[4mlev\u001b[0m(lev), float64 \u001b[4milev\u001b[0m(ilev), float64 \u001b[4misccp_prs\u001b[0m(isccp_prs), float64 \u001b[4misccp_tau\u001b[0m(isccp_ta), float64 \u001b[4misccp_prstau\u001b[0m(isccp_prsta), float64 \u001b[4mtime\u001b[0m(time), float64 \u001b[4mtime_bnds\u001b[0m(time,tbnd), |S1 \u001b[4mdate_written\u001b[0m(time,chars), |S1 \u001b[4mtime_written\u001b[0m(time,chars), int32 \u001b[4mntrm\u001b[0m(), int32 \u001b[4mntrn\u001b[0m(), int32 \u001b[4mntrk\u001b[0m(), int32 \u001b[4mndbase\u001b[0m(), int32 \u001b[4mnsbase\u001b[0m(), int32 \u001b[4mnbdate\u001b[0m(), int32 \u001b[4mnbsec\u001b[0m(), int32 \u001b[4mmdt\u001b[0m(), int32 \u001b[4mnlon\u001b[0m(lat), int32 \u001b[4mwnummax\u001b[0m(lat), float64 \u001b[4mhyai\u001b[0m(ilev), float64 \u001b[4mhybi\u001b[0m(ilev), float64 \u001b[4mhyam\u001b[0m(lev), float64 \u001b[4mhybm\u001b[0m(lev), float64 \u001b[4mgw\u001b[0m(lat), int32 \u001b[4mndcur\u001b[0m(time), int32 \u001b[4mnscur\u001b[0m(time), int32 \u001b[4mdate\u001b[0m(time), int32 \u001b[4mdatesec\u001b[0m(time), int32 \u001b[4mnsteph\u001b[0m(time), float32 \u001b[4mCLDTOT\u001b[0m(time,lat,lon), float32 \u001b[4mCLOUD\u001b[0m(time,lev,lat,lon), float32 \u001b[4mFLUT\u001b[0m(time,lat,lon), float32 \u001b[4mLHFLX\u001b[0m(time,lat,lon), float32 \u001b[4mOMEGA\u001b[0m(time,lev,lat,lon), float32 \u001b[4mPHQ\u001b[0m(time,lev,lat,lon), float32 \u001b[4mPRECT\u001b[0m(time,lat,lon), float32 \u001b[4mPS\u001b[0m(time,lat,lon), float32 \u001b[4mQAP\u001b[0m(time,lev,lat,lon), float32 \u001b[4mQBSP\u001b[0m(time,lev,lat,lon), float32 \u001b[4mQCBSP\u001b[0m(time,lev,lat,lon), float32 \u001b[4mQIBSP\u001b[0m(time,lev,lat,lon), float32 \u001b[4mQRL\u001b[0m(time,lev,lat,lon), float32 \u001b[4mQRS\u001b[0m(time,lev,lat,lon), float32 \u001b[4mSHFLX\u001b[0m(time,lat,lon), float32 \u001b[4mSPDQ\u001b[0m(time,lev,lat,lon), float32 \u001b[4mSPDQC\u001b[0m(time,lev,lat,lon), float32 \u001b[4mSPDQI\u001b[0m(time,lev,lat,lon), float32 \u001b[4mSPDT\u001b[0m(time,lev,lat,lon), float32 \u001b[4mSPMC\u001b[0m(time,lev,lat,lon), float32 \u001b[4mSPMCDN\u001b[0m(time,lev,lat,lon), float32 \u001b[4mSPMCUDN\u001b[0m(time,lev,lat,lon), float32 \u001b[4mSPMCUP\u001b[0m(time,lev,lat,lon), float32 \u001b[4mSPMCUUP\u001b[0m(time,lev,lat,lon), float32 \u001b[4mSPQC\u001b[0m(time,lev,lat,lon), float32 \u001b[4mSPQG\u001b[0m(time,lev,lat,lon), float32 \u001b[4mSPQI\u001b[0m(time,lev,lat,lon), float32 \u001b[4mSPQR\u001b[0m(time,lev,lat,lon), float32 \u001b[4mSPQS\u001b[0m(time,lev,lat,lon), float32 \u001b[4mTAP\u001b[0m(time,lev,lat,lon), float32 \u001b[4mTBSP\u001b[0m(time,lev,lat,lon), float32 \u001b[4mTPHYSTND\u001b[0m(time,lev,lat,lon), float32 \u001b[4mUBSP\u001b[0m(time,lev,lat,lon), float32 \u001b[4mVBSP\u001b[0m(time,lev,lat,lon), float32 \u001b[4mZ3\u001b[0m(time,lev,lat,lon)\n",
       "    groups: "
      ]
     },
     "execution_count": 26,
     "metadata": {},
     "output_type": "execute_result"
    }
   ],
   "source": [
    "rg = nc.Dataset(data_dir + 'AndKua_aqua_SPCAM3.0.cam2.h1.0000-01-01-00000.nc')\n",
    "rg"
   ]
  },
  {
   "cell_type": "code",
   "execution_count": 27,
   "metadata": {},
   "outputs": [
    {
     "data": {
      "text/plain": [
       "<class 'netCDF4._netCDF4.Variable'>\n",
       "float64 time(time)\n",
       "    long_name: time\n",
       "    units: days since 0000-01-01 00:00:00\n",
       "    calendar: noleap\n",
       "    bounds: time_bnds\n",
       "unlimited dimensions: time\n",
       "current shape = (48,)\n",
       "filling off"
      ]
     },
     "execution_count": 27,
     "metadata": {},
     "output_type": "execute_result"
    }
   ],
   "source": [
    "time = rg.variables['time']\n",
    "time"
   ]
  },
  {
   "cell_type": "code",
   "execution_count": 28,
   "metadata": {},
   "outputs": [
    {
     "data": {
      "text/plain": [
       "array([ 0.        ,  0.02083333,  0.04166667,  0.0625    ,  0.08333333,\n",
       "        0.10416667,  0.125     ,  0.14583333,  0.16666667,  0.1875    ,\n",
       "        0.20833333,  0.22916667,  0.25      ,  0.27083333,  0.29166667,\n",
       "        0.3125    ,  0.33333333,  0.35416667,  0.375     ,  0.39583333,\n",
       "        0.41666667,  0.4375    ,  0.45833333,  0.47916667,  0.5       ,\n",
       "        0.52083333,  0.54166667,  0.5625    ,  0.58333333,  0.60416667,\n",
       "        0.625     ,  0.64583333,  0.66666667,  0.6875    ,  0.70833333,\n",
       "        0.72916667,  0.75      ,  0.77083333,  0.79166667,  0.8125    ,\n",
       "        0.83333333,  0.85416667,  0.875     ,  0.89583333,  0.91666667,\n",
       "        0.9375    ,  0.95833333,  0.97916667])"
      ]
     },
     "execution_count": 28,
     "metadata": {},
     "output_type": "execute_result"
    }
   ],
   "source": [
    "time[:]"
   ]
  },
  {
   "cell_type": "code",
   "execution_count": 46,
   "metadata": {},
   "outputs": [],
   "source": [
    "lats = rg.variables['lat'][:]"
   ]
  },
  {
   "cell_type": "code",
   "execution_count": null,
   "metadata": {
    "collapsed": true
   },
   "outputs": [],
   "source": [
    "[]"
   ]
  },
  {
   "cell_type": "code",
   "execution_count": null,
   "metadata": {
    "collapsed": true
   },
   "outputs": [],
   "source": []
  },
  {
   "cell_type": "code",
   "execution_count": null,
   "metadata": {
    "collapsed": true
   },
   "outputs": [],
   "source": []
  },
  {
   "cell_type": "code",
   "execution_count": 42,
   "metadata": {},
   "outputs": [],
   "source": [
    "tap = rg.variables['TAP']"
   ]
  },
  {
   "cell_type": "code",
   "execution_count": 44,
   "metadata": {},
   "outputs": [
    {
     "data": {
      "text/plain": [
       "('time', 'lev', 'lat', 'lon')"
      ]
     },
     "execution_count": 44,
     "metadata": {},
     "output_type": "execute_result"
    }
   ],
   "source": [
    "tap.dimensions"
   ]
  },
  {
   "cell_type": "code",
   "execution_count": 9,
   "metadata": {},
   "outputs": [
    {
     "data": {
      "text/plain": [
       "array([ 365.        ,  365.02083333,  365.04166667,  365.0625    ,\n",
       "        365.08333333,  365.10416667,  365.125     ,  365.14583333,\n",
       "        365.16666667,  365.1875    ,  365.20833333,  365.22916667,\n",
       "        365.25      ,  365.27083333,  365.29166667,  365.3125    ,\n",
       "        365.33333333,  365.35416667,  365.375     ,  365.39583333,\n",
       "        365.41666667,  365.4375    ,  365.45833333,  365.47916667,\n",
       "        365.5       ,  365.52083333,  365.54166667,  365.5625    ,\n",
       "        365.58333333,  365.60416667,  365.625     ,  365.64583333,\n",
       "        365.66666667,  365.6875    ,  365.70833333,  365.72916667,\n",
       "        365.75      ,  365.77083333,  365.79166667,  365.8125    ,\n",
       "        365.83333333,  365.85416667,  365.875     ,  365.89583333,\n",
       "        365.91666667,  365.9375    ,  365.95833333,  365.97916667])"
      ]
     },
     "execution_count": 9,
     "metadata": {},
     "output_type": "execute_result"
    }
   ],
   "source": [
    "nc.Dataset(data_dir + 'AndKua_aqua_SPCAM3.0.cam2.h1.0001-01-01-00000.nc').variables['time'][:]"
   ]
  },
  {
   "cell_type": "code",
   "execution_count": 10,
   "metadata": {},
   "outputs": [
    {
     "data": {
      "text/plain": [
       "<class 'netCDF4._netCDF4.Dataset'>\n",
       "root group (NETCDF4 data model, file format HDF5):\n",
       "    dimensions(sizes): t(100000), z(21)\n",
       "    variables(dimensions): float64 \u001b[4mLAT\u001b[0m(t), float64 \u001b[4mPS\u001b[0m(t), float64 \u001b[4mSHFLX\u001b[0m(t), float64 \u001b[4mLHFLX\u001b[0m(t), float64 \u001b[4mOMEGA\u001b[0m(z,t), float64 \u001b[4mQAP\u001b[0m(z,t), float64 \u001b[4mTAP\u001b[0m(z,t), float64 \u001b[4mQRL\u001b[0m(z,t), float64 \u001b[4mQRS\u001b[0m(z,t), float64 \u001b[4mUBSP\u001b[0m(z,t), float64 \u001b[4mVBSP\u001b[0m(z,t), float64 \u001b[4mSPQC\u001b[0m(z,t), float64 \u001b[4mSPQG\u001b[0m(z,t), float64 \u001b[4mSPQI\u001b[0m(z,t), float64 \u001b[4mSPQR\u001b[0m(z,t), float64 \u001b[4mSPMC\u001b[0m(z,t), float64 \u001b[4mSPMCDN\u001b[0m(z,t), float64 \u001b[4mSPMCUDN\u001b[0m(z,t), float64 \u001b[4mSPMCUP\u001b[0m(z,t), float64 \u001b[4mSPMCUUP\u001b[0m(z,t), float64 \u001b[4mTPHYSTND\u001b[0m(z,t), float64 \u001b[4mPHQ\u001b[0m(z,t), float64 \u001b[4mSPDT\u001b[0m(z,t), float64 \u001b[4mSPDQ\u001b[0m(z,t), float64 \u001b[4mSPDQC\u001b[0m(z,t), float64 \u001b[4mSPDQI\u001b[0m(z,t), float64 \u001b[4mdTdt_adiabatic\u001b[0m(z,t), float64 \u001b[4mdQdt_adiabatic\u001b[0m(z,t), float64 \u001b[4mGRAD_UQ_H\u001b[0m(z,t)\n",
       "    groups: "
      ]
     },
     "execution_count": 10,
     "metadata": {},
     "output_type": "execute_result"
    }
   ],
   "source": [
    "nc.Dataset('/Volumes/STICK/data/SPCAM/sample/SPCAM_outputs.nc')"
   ]
  },
  {
   "cell_type": "code",
   "execution_count": 13,
   "metadata": {},
   "outputs": [
    {
     "data": {
      "text/plain": [
       "393216"
      ]
     },
     "execution_count": 13,
     "metadata": {},
     "output_type": "execute_result"
    }
   ],
   "source": [
    "64 * 128 * 48"
   ]
  },
  {
   "cell_type": "code",
   "execution_count": 16,
   "metadata": {},
   "outputs": [
    {
     "data": {
      "text/plain": [
       "11.444091796875"
      ]
     },
     "execution_count": 16,
     "metadata": {},
     "output_type": "execute_result"
    }
   ],
   "source": [
    "4.5e6 / (64 * 128 * 48)"
   ]
  },
  {
   "cell_type": "code",
   "execution_count": null,
   "metadata": {
    "collapsed": true
   },
   "outputs": [],
   "source": []
  }
 ],
 "metadata": {
  "kernelspec": {
   "display_name": "Python 3",
   "language": "python",
   "name": "python3"
  },
  "language_info": {
   "codemirror_mode": {
    "name": "ipython",
    "version": 3
   },
   "file_extension": ".py",
   "mimetype": "text/x-python",
   "name": "python",
   "nbconvert_exporter": "python",
   "pygments_lexer": "ipython3",
   "version": "3.6.2"
  },
  "toc": {
   "nav_menu": {},
   "number_sections": true,
   "sideBar": true,
   "skip_h1_title": true,
   "toc_cell": true,
   "toc_position": {},
   "toc_section_display": "block",
   "toc_window_display": false
  }
 },
 "nbformat": 4,
 "nbformat_minor": 2
}
