{
 "cells": [
  {
   "cell_type": "markdown",
   "metadata": {
    "toc": "true"
   },
   "source": [
    "<h1>Table of Contents<span class=\"tocSkip\"></span></h1>\n",
    "<div class=\"toc\" style=\"margin-top: 1em;\"><ul class=\"toc-item\"><li><span><a href=\"#Preprocessing-pipeline\" data-toc-modified-id=\"Preprocessing-pipeline-1\"><span class=\"toc-item-num\">1&nbsp;&nbsp;</span>Preprocessing pipeline</a></span><ul class=\"toc-item\"><li><span><a href=\"#Merge-Aquaplanet-files\" data-toc-modified-id=\"Merge-Aquaplanet-files-1.1\"><span class=\"toc-item-num\">1.1&nbsp;&nbsp;</span>Merge Aquaplanet files</a></span></li><li><span><a href=\"#Compute-differences-and-new-vars\" data-toc-modified-id=\"Compute-differences-and-new-vars-1.2\"><span class=\"toc-item-num\">1.2&nbsp;&nbsp;</span>Compute differences and new vars</a></span></li><li><span><a href=\"#Create-stacked-feature-and-target-dataset\" data-toc-modified-id=\"Create-stacked-feature-and-target-dataset-1.3\"><span class=\"toc-item-num\">1.3&nbsp;&nbsp;</span>Create stacked feature and target dataset</a></span></li><li><span><a href=\"#Reshape-variables\" data-toc-modified-id=\"Reshape-variables-1.4\"><span class=\"toc-item-num\">1.4&nbsp;&nbsp;</span>Reshape variables</a></span></li><li><span><a href=\"#Test-chunking\" data-toc-modified-id=\"Test-chunking-1.5\"><span class=\"toc-item-num\">1.5&nbsp;&nbsp;</span>Test chunking</a></span></li><li><span><a href=\"#Normalize-data\" data-toc-modified-id=\"Normalize-data-1.6\"><span class=\"toc-item-num\">1.6&nbsp;&nbsp;</span>Normalize data</a></span></li><li><span><a href=\"#Save-data\" data-toc-modified-id=\"Save-data-1.7\"><span class=\"toc-item-num\">1.7&nbsp;&nbsp;</span>Save data</a></span></li><li><span><a href=\"#Shuffle-data-long-sample-dimension\" data-toc-modified-id=\"Shuffle-data-long-sample-dimension-1.8\"><span class=\"toc-item-num\">1.8&nbsp;&nbsp;</span>Shuffle data long sample dimension</a></span></li></ul></li><li><span><a href=\"#Shuffle-manually\" data-toc-modified-id=\"Shuffle-manually-2\"><span class=\"toc-item-num\">2&nbsp;&nbsp;</span>Shuffle manually</a></span></li><li><span><a href=\"#Old-stuff-below\" data-toc-modified-id=\"Old-stuff-below-3\"><span class=\"toc-item-num\">3&nbsp;&nbsp;</span>Old stuff below</a></span></li><li><span><a href=\"#Preprocessed-files\" data-toc-modified-id=\"Preprocessed-files-4\"><span class=\"toc-item-num\">4&nbsp;&nbsp;</span>Preprocessed files</a></span></li></ul></div>"
   ]
  },
  {
   "cell_type": "markdown",
   "metadata": {},
   "source": [
    "This is simply a notebook to help me test stuff for the preprocessing script."
   ]
  },
  {
   "cell_type": "code",
   "execution_count": 1,
   "metadata": {},
   "outputs": [],
   "source": [
    "import netCDF4 as nc\n",
    "import os\n",
    "import matplotlib.pyplot as plt\n",
    "import xarray as xr\n",
    "import numpy as np\n",
    "import timeit\n",
    "%matplotlib inline"
   ]
  },
  {
   "cell_type": "markdown",
   "metadata": {},
   "source": [
    "## Preprocessing pipeline"
   ]
  },
  {
   "cell_type": "code",
   "execution_count": 2,
   "metadata": {},
   "outputs": [],
   "source": [
    "feature_vars = ['TAP', 'QAP', 'SHFLX', 'LHFLX', 'SOLIN', 'dTdt_adiabatic', 'dQdt_adiabatic']\n",
    "target_vars =  ['SPDT', 'SPDQ', 'QRL', 'QRS', 'PRECT', 'FLUT'] "
   ]
  },
  {
   "cell_type": "code",
   "execution_count": 5,
   "metadata": {},
   "outputs": [],
   "source": [
    "fn = '/project/meteo/w2w/A6/S.Rasp/SP-CAM/Aquaplanet/AndKua_aqua_SPCAM3.0.cam2.h1.0000-01-01-00000.nc'"
   ]
  },
  {
   "cell_type": "code",
   "execution_count": 6,
   "metadata": {},
   "outputs": [],
   "source": [
    "import netCDF4 as nc\n",
    "rg = nc.Dataset(fn)"
   ]
  },
  {
   "cell_type": "code",
   "execution_count": 11,
   "metadata": {},
   "outputs": [
    {
     "data": {
      "text/plain": [
       "<class 'netCDF4._netCDF4.Variable'>\n",
       "float32 FLUT(time, lat, lon)\n",
       "    units: W/m2\n",
       "    long_name: Upwelling longwave flux at top of model\n",
       "    cell_method: time: mean\n",
       "unlimited dimensions: time\n",
       "current shape = (48, 64, 128)\n",
       "filling off"
      ]
     },
     "execution_count": 11,
     "metadata": {},
     "output_type": "execute_result"
    }
   ],
   "source": [
    "rg.variables['FLUT']"
   ]
  },
  {
   "cell_type": "markdown",
   "metadata": {},
   "source": [
    "### Merge Aquaplanet files"
   ]
  },
  {
   "cell_type": "code",
   "execution_count": 104,
   "metadata": {},
   "outputs": [
    {
     "name": "stdout",
     "output_type": "stream",
     "text": [
      "\u001b[0m\u001b[37;41m/project/meteo/w2w/A6/S.Rasp/SP-CAM/Aquaplanet/AndKua_aqua_SPCAM3.0.cam2.h1.0000-01-01-00000.nc\u001b[0m\u001b[K\r\n",
      "\u001b[37;41m/project/meteo/w2w/A6/S.Rasp/SP-CAM/Aquaplanet/AndKua_aqua_SPCAM3.0.cam2.h1.0000-01-02-00000.nc\u001b[0m\u001b[K\r\n",
      "\u001b[37;41m/project/meteo/w2w/A6/S.Rasp/SP-CAM/Aquaplanet/AndKua_aqua_SPCAM3.0.cam2.h1.0000-01-03-00000.nc\u001b[0m\u001b[K\r\n"
     ]
    }
   ],
   "source": [
    "data_dir = '/project/meteo/w2w/A6/S.Rasp/SP-CAM/Aquaplanet/AndKua_aqua_SPCAM3.0.cam2.h1.0000-01-0[1-3]*'\n",
    "%ls $data_dir"
   ]
  },
  {
   "cell_type": "code",
   "execution_count": 105,
   "metadata": {},
   "outputs": [],
   "source": [
    "merged_ds = xr.open_mfdataset(data_dir, decode_times=False)"
   ]
  },
  {
   "cell_type": "code",
   "execution_count": 106,
   "metadata": {},
   "outputs": [
    {
     "data": {
      "text/plain": [
       "<xarray.Dataset>\n",
       "Dimensions:       (crm_x: 8, crm_y: 1, crm_z: 28, ilev: 31, isccp_prs: 7, isccp_prstau: 49, isccp_tau: 7, lat: 64, lev: 30, lon: 128, tbnd: 2, time: 144)\n",
       "Coordinates:\n",
       "  * lat           (lat) float64 -87.86 -85.1 -82.31 -79.53 -76.74 -73.95 ...\n",
       "  * lon           (lon) float64 0.0 2.812 5.625 8.438 11.25 14.06 16.88 ...\n",
       "  * crm_x         (crm_x) float64 0.0 4.0 8.0 12.0 16.0 20.0 24.0 28.0\n",
       "  * crm_y         (crm_y) float64 0.0\n",
       "  * crm_z         (crm_z) float64 992.6 976.3 957.5 936.2 912.6 887.0 859.5 ...\n",
       "  * lev           (lev) float64 3.643 7.595 14.36 24.61 38.27 54.6 72.01 ...\n",
       "  * ilev          (ilev) float64 2.255 5.032 10.16 18.56 30.67 45.87 63.32 ...\n",
       "  * isccp_prs     (isccp_prs) float64 90.0 245.0 375.0 500.0 620.0 740.0 900.0\n",
       "  * isccp_tau     (isccp_tau) float64 0.15 0.8 2.45 6.5 16.2 41.5 219.5\n",
       "  * isccp_prstau  (isccp_prstau) float64 90.0 90.0 90.0 90.01 90.02 90.04 ...\n",
       "  * time          (time) float64 0.0 0.02083 0.04167 0.0625 0.08333 0.1042 ...\n",
       "Dimensions without coordinates: tbnd\n",
       "Data variables:\n",
       "    P0            (time) float64 1e+05 1e+05 1e+05 1e+05 1e+05 1e+05 1e+05 ...\n",
       "    time_bnds     (time, tbnd) float64 dask.array<shape=(144, 2), chunksize=(48, 2)>\n",
       "    date_written  (time) |S8 dask.array<shape=(144,), chunksize=(48,)>\n",
       "    time_written  (time) |S8 dask.array<shape=(144,), chunksize=(48,)>\n",
       "    ntrm          (time) int32 63 63 63 63 63 63 63 63 63 63 63 63 63 63 63 ...\n",
       "    ntrn          (time) int32 63 63 63 63 63 63 63 63 63 63 63 63 63 63 63 ...\n",
       "    ntrk          (time) int32 63 63 63 63 63 63 63 63 63 63 63 63 63 63 63 ...\n",
       "    ndbase        (time) int32 0 0 0 0 0 0 0 0 0 0 0 0 0 0 0 0 0 0 0 0 0 0 0 ...\n",
       "    nsbase        (time) int32 0 0 0 0 0 0 0 0 0 0 0 0 0 0 0 0 0 0 0 0 0 0 0 ...\n",
       "    nbdate        (time) int32 101 101 101 101 101 101 101 101 101 101 101 ...\n",
       "    nbsec         (time) int32 0 0 0 0 0 0 0 0 0 0 0 0 0 0 0 0 0 0 0 0 0 0 0 ...\n",
       "    mdt           (time) int32 1800 1800 1800 1800 1800 1800 1800 1800 1800 ...\n",
       "    nlon          (time, lat) int32 dask.array<shape=(144, 64), chunksize=(48, 64)>\n",
       "    wnummax       (time, lat) int32 dask.array<shape=(144, 64), chunksize=(48, 64)>\n",
       "    hyai          (time, ilev) float64 dask.array<shape=(144, 31), chunksize=(48, 31)>\n",
       "    hybi          (time, ilev) float64 dask.array<shape=(144, 31), chunksize=(48, 31)>\n",
       "    hyam          (time, lev) float64 dask.array<shape=(144, 30), chunksize=(48, 30)>\n",
       "    hybm          (time, lev) float64 dask.array<shape=(144, 30), chunksize=(48, 30)>\n",
       "    gw            (time, lat) float64 dask.array<shape=(144, 64), chunksize=(48, 64)>\n",
       "    ndcur         (time) int32 dask.array<shape=(144,), chunksize=(48,)>\n",
       "    nscur         (time) int32 dask.array<shape=(144,), chunksize=(48,)>\n",
       "    date          (time) int32 dask.array<shape=(144,), chunksize=(48,)>\n",
       "    datesec       (time) int32 dask.array<shape=(144,), chunksize=(48,)>\n",
       "    nsteph        (time) int32 dask.array<shape=(144,), chunksize=(48,)>\n",
       "    FLUT          (time, lat, lon) float32 dask.array<shape=(144, 64, 128), chunksize=(48, 64, 128)>\n",
       "    LHFLX         (time, lat, lon) float32 dask.array<shape=(144, 64, 128), chunksize=(48, 64, 128)>\n",
       "    PHQ           (time, lev, lat, lon) float32 dask.array<shape=(144, 30, 64, 128), chunksize=(48, 30, 64, 128)>\n",
       "    PRECT         (time, lat, lon) float32 dask.array<shape=(144, 64, 128), chunksize=(48, 64, 128)>\n",
       "    PS            (time, lat, lon) float32 dask.array<shape=(144, 64, 128), chunksize=(48, 64, 128)>\n",
       "    QAP           (time, lev, lat, lon) float32 dask.array<shape=(144, 30, 64, 128), chunksize=(48, 30, 64, 128)>\n",
       "    QRL           (time, lev, lat, lon) float32 dask.array<shape=(144, 30, 64, 128), chunksize=(48, 30, 64, 128)>\n",
       "    QRS           (time, lev, lat, lon) float32 dask.array<shape=(144, 30, 64, 128), chunksize=(48, 30, 64, 128)>\n",
       "    SHFLX         (time, lat, lon) float32 dask.array<shape=(144, 64, 128), chunksize=(48, 64, 128)>\n",
       "    SOLIN         (time, lat, lon) float32 dask.array<shape=(144, 64, 128), chunksize=(48, 64, 128)>\n",
       "    SPDQ          (time, lev, lat, lon) float32 dask.array<shape=(144, 30, 64, 128), chunksize=(48, 30, 64, 128)>\n",
       "    SPDT          (time, lev, lat, lon) float32 dask.array<shape=(144, 30, 64, 128), chunksize=(48, 30, 64, 128)>\n",
       "    TAP           (time, lev, lat, lon) float32 dask.array<shape=(144, 30, 64, 128), chunksize=(48, 30, 64, 128)>\n",
       "    TPHYSTND      (time, lev, lat, lon) float32 dask.array<shape=(144, 30, 64, 128), chunksize=(48, 30, 64, 128)>\n",
       "Attributes:\n",
       "    Conventions:  CF-1.0\n",
       "    source:       CAM\n",
       "    case:         AndKua_aqua_SPCAM3.0\n",
       "    title:        \n",
       "    logname:      tg802402\n",
       "    host:         \n",
       "    Version:      $Name:  $\n",
       "    revision_Id:  $Id: history.F90,v 1.26.2.38 2003/12/15 18:52:35 hender Exp $"
      ]
     },
     "execution_count": 106,
     "metadata": {},
     "output_type": "execute_result"
    }
   ],
   "source": [
    "merged_ds"
   ]
  },
  {
   "cell_type": "code",
   "execution_count": 107,
   "metadata": {},
   "outputs": [],
   "source": [
    "merged_ds = merged_ds.isel(lev=np.arange(9, 30))"
   ]
  },
  {
   "cell_type": "code",
   "execution_count": 108,
   "metadata": {},
   "outputs": [
    {
     "data": {
      "text/plain": [
       "[<matplotlib.lines.Line2D at 0x7f52ad69d160>]"
      ]
     },
     "execution_count": 108,
     "metadata": {},
     "output_type": "execute_result"
    },
    {
     "data": {
      "image/png": "[encoded data removed]",
      "text/plain": [
       "<matplotlib.figure.Figure at 0x7f52f79c6b70>"
      ]
     },
     "metadata": {},
     "output_type": "display_data"
    }
   ],
   "source": [
    "plt.plot(np.diff(merged_ds.time))"
   ]
  },
  {
   "cell_type": "code",
   "execution_count": 109,
   "metadata": {},
   "outputs": [
    {
     "data": {
      "text/plain": [
       "array([], dtype=int64)"
      ]
     },
     "execution_count": 109,
     "metadata": {},
     "output_type": "execute_result"
    }
   ],
   "source": [
    "cut_time_steps = np.where(np.diff(merged_ds.time) > 2.09e-2)[0]\n",
    "cut_time_steps"
   ]
  },
  {
   "cell_type": "markdown",
   "metadata": {
    "collapsed": true
   },
   "source": [
    "### Compute differences and new vars"
   ]
  },
  {
   "cell_type": "code",
   "execution_count": 110,
   "metadata": {},
   "outputs": [],
   "source": [
    "dTdt_adiabatic = (merged_ds['TAP'].diff('time', n=1)) / (0.5 * 60 * 60) - merged_ds['TPHYSTND']\n",
    "dQdt_adiabatic = (merged_ds['QAP'].diff('time', n=1)) / (0.5 * 60 * 60) - merged_ds['PHQ']"
   ]
  },
  {
   "cell_type": "code",
   "execution_count": 111,
   "metadata": {},
   "outputs": [
    {
     "data": {
      "text/plain": [
       "<xarray.DataArray (time: 143, lev: 21, lat: 64, lon: 128)>\n",
       "dask.array<shape=(143, 21, 64, 128), dtype=float32, chunksize=(47, 21, 64, 128)>\n",
       "Coordinates:\n",
       "  * time     (time) float64 0.02083 0.04167 0.0625 0.08333 0.1042 0.125 ...\n",
       "  * lat      (lat) float64 -87.86 -85.1 -82.31 -79.53 -76.74 -73.95 -71.16 ...\n",
       "  * lon      (lon) float64 0.0 2.812 5.625 8.438 11.25 14.06 16.88 19.69 ...\n",
       "  * lev      (lev) float64 121.5 143.0 168.2 197.9 232.8 273.9 322.2 379.1 ..."
      ]
     },
     "execution_count": 111,
     "metadata": {},
     "output_type": "execute_result"
    }
   ],
   "source": [
    "dTdt_adiabatic"
   ]
  },
  {
   "cell_type": "code",
   "execution_count": 112,
   "metadata": {},
   "outputs": [
    {
     "data": {
      "text/plain": [
       "[<matplotlib.lines.Line2D at 0x7f52ad6c88d0>]"
      ]
     },
     "execution_count": 112,
     "metadata": {},
     "output_type": "execute_result"
    },
    {
     "data": {
      "image/png": "[encoded data removed]",
      "text/plain": [
       "<matplotlib.figure.Figure at 0x7f52f7951320>"
      ]
     },
     "metadata": {},
     "output_type": "display_data"
    }
   ],
   "source": [
    "plt.plot(dTdt_adiabatic[:, 0, 0, 0])"
   ]
  },
  {
   "cell_type": "code",
   "execution_count": null,
   "metadata": {},
   "outputs": [],
   "source": []
  },
  {
   "cell_type": "code",
   "execution_count": 113,
   "metadata": {},
   "outputs": [
    {
     "data": {
      "text/plain": [
       "'lev'"
      ]
     },
     "execution_count": 113,
     "metadata": {},
     "output_type": "execute_result"
    }
   ],
   "source": [
    "[s for s in list(dTdt_adiabatic.coords) if 'lev' in s][0]"
   ]
  },
  {
   "cell_type": "code",
   "execution_count": 114,
   "metadata": {},
   "outputs": [
    {
     "data": {
      "text/plain": [
       "array([ -1.01493360e-05,  -8.66869141e-06,  -8.13922270e-06,\n",
       "        -8.11379414e-06,  -8.52306221e-06], dtype=float32)"
      ]
     },
     "execution_count": 114,
     "metadata": {},
     "output_type": "execute_result"
    }
   ],
   "source": [
    "dTdt_adiabatic[:5, 0, 0, 0].values"
   ]
  },
  {
   "cell_type": "code",
   "execution_count": 115,
   "metadata": {},
   "outputs": [
    {
     "data": {
      "text/plain": [
       "array([ -1.01493360e-05,  -8.66869141e-06,  -8.13922270e-06,\n",
       "        -8.11379414e-06,  -8.52306221e-06], dtype=float32)"
      ]
     },
     "execution_count": 115,
     "metadata": {},
     "output_type": "execute_result"
    }
   ],
   "source": [
    "((merged_ds['TAP'][1:6, 0, 0, 0].values - merged_ds['TAP'][:5, 0, 0, 0].values) / \n",
    " (0.5 * 60 * 60) - merged_ds['TPHYSTND'][1:6, 0, 0, 0].values)"
   ]
  },
  {
   "cell_type": "markdown",
   "metadata": {},
   "source": [
    "### Create stacked feature and target dataset "
   ]
  },
  {
   "cell_type": "code",
   "execution_count": 116,
   "metadata": {},
   "outputs": [],
   "source": [
    "name_list = (['dTdt_adiabatic_lvl%0i' % lev for lev in range(9,30)] +\n",
    "             ['dQdt_adiabatic_lvl%i' % lev for lev in range(9,30)])"
   ]
  },
  {
   "cell_type": "code",
   "execution_count": 117,
   "metadata": {},
   "outputs": [
    {
     "data": {
      "text/plain": [
       "<xarray.DataArray 'lev' (lev: 21)>\n",
       "array([ 121.547241,  142.994039,  168.22508 ,  197.908087,  232.828619,\n",
       "        273.910817,  322.241902,  379.100904,  445.992574,  524.687175,\n",
       "        609.778695,  691.38943 ,  763.404481,  820.858369,  859.534767,\n",
       "        887.020249,  912.644547,  936.198398,  957.48548 ,  976.325407,\n",
       "        992.556095])\n",
       "Coordinates:\n",
       "  * lev      (lev) float64 121.5 143.0 168.2 197.9 232.8 273.9 322.2 379.1 ...\n",
       "Attributes:\n",
       "    long_name:      hybrid level at midpoints (1000*(A+B))\n",
       "    units:          level\n",
       "    positive:       down\n",
       "    standard_name:  atmosphere_hybrid_sigma_pressure_coordinate\n",
       "    formula_terms:  a: hyam b: hybm p0: P0 ps: PS"
      ]
     },
     "execution_count": 117,
     "metadata": {},
     "output_type": "execute_result"
    }
   ],
   "source": [
    "merged_ds.coords['lev']"
   ]
  },
  {
   "cell_type": "code",
   "execution_count": 118,
   "metadata": {},
   "outputs": [],
   "source": [
    "# rename times\n",
    "da_list = [dTdt_adiabatic, dQdt_adiabatic]\n",
    "\n",
    "for var in feature_vars[:-2]:\n",
    "    da_list.append(merged_ds[var][:-1])\n",
    "    if 'lev' in merged_ds[var].dims:\n",
    "        name_list += [(var + '_lvl%i') % lev for lev in range(9,30)]\n",
    "    else:\n",
    "        name_list += [var]\n",
    "for da in da_list:\n",
    "    da.coords['time'] = np.arange(da.coords['time'].size)"
   ]
  },
  {
   "cell_type": "code",
   "execution_count": 119,
   "metadata": {},
   "outputs": [],
   "source": [
    "ilev = 0\n",
    "for da in da_list:\n",
    "    if 'lev' in da.coords:\n",
    "        da.coords['lev'] = np.arange(ilev, ilev+da.coords['lev'].size)\n",
    "        ilev += da.coords['lev'].size\n",
    "    else:\n",
    "        da.expand_dims('lev')\n",
    "        da.coords['lev'] = ilev\n",
    "        ilev += 1"
   ]
  },
  {
   "cell_type": "code",
   "execution_count": 120,
   "metadata": {},
   "outputs": [],
   "source": [
    "feature_da = xr.concat(da_list, dim='lev')"
   ]
  },
  {
   "cell_type": "code",
   "execution_count": 121,
   "metadata": {},
   "outputs": [],
   "source": [
    "feature_da.name = 'features'"
   ]
  },
  {
   "cell_type": "code",
   "execution_count": 122,
   "metadata": {},
   "outputs": [
    {
     "data": {
      "text/plain": [
       "<xarray.DataArray 'features' (time: 143, lev: 87, lat: 64, lon: 128)>\n",
       "dask.array<shape=(143, 87, 64, 128), dtype=float32, chunksize=(47, 21, 64, 128)>\n",
       "Coordinates:\n",
       "  * time     (time) int64 0 1 2 3 4 5 6 7 8 9 10 11 12 13 14 15 16 17 18 19 ...\n",
       "  * lat      (lat) float64 -87.86 -85.1 -82.31 -79.53 -76.74 -73.95 -71.16 ...\n",
       "  * lon      (lon) float64 0.0 2.812 5.625 8.438 11.25 14.06 16.88 19.69 ...\n",
       "  * lev      (lev) int64 0 1 2 3 4 5 6 7 8 9 10 11 12 13 14 15 16 17 18 19 ..."
      ]
     },
     "execution_count": 122,
     "metadata": {},
     "output_type": "execute_result"
    }
   ],
   "source": [
    "feature_da"
   ]
  },
  {
   "cell_type": "code",
   "execution_count": 123,
   "metadata": {},
   "outputs": [
    {
     "data": {
      "text/plain": [
       "(array([  0,   1,   2,   3,   4,   5,   6,   7,   8,   9,  10,  11,  12,\n",
       "         13,  14,  15,  16,  17,  18,  19,  20,  21,  22,  23,  24,  25,\n",
       "         26,  27,  28,  29,  30,  31,  32,  33,  34,  35,  36,  37,  38,\n",
       "         39,  40,  41,  42,  43,  44,  45,  46,  47,  48,  49,  50,  51,\n",
       "         52,  53,  54,  55,  56,  57,  58,  59,  60,  61,  62,  63,  64,\n",
       "         65,  66,  67,  68,  69,  70,  71,  72,  73,  74,  75,  76,  77,\n",
       "         78,  79,  80,  81,  82,  83,  84,  85,  86,  87,  88,  89,  90,\n",
       "         91,  92,  93,  94,  95,  96,  97,  98,  99, 100, 101, 102, 103,\n",
       "        104, 105, 106, 107, 108, 109, 110, 111, 112, 113, 114, 115, 116,\n",
       "        117, 118, 119, 120, 121, 122, 123, 124, 125, 126, 127, 128, 129,\n",
       "        130, 131, 132, 133, 134, 135, 136, 137, 138, 139, 140, 141, 142]),\n",
       " (143,))"
      ]
     },
     "execution_count": 123,
     "metadata": {},
     "output_type": "execute_result"
    }
   ],
   "source": [
    "clean_time_steps = np.array(feature_da.coords['time'])\n",
    "clean_time_steps, clean_time_steps.shape"
   ]
  },
  {
   "cell_type": "code",
   "execution_count": 124,
   "metadata": {},
   "outputs": [
    {
     "data": {
      "text/plain": [
       "(array([  0,   1,   2,   3,   4,   5,   6,   7,   8,   9,  10,  11,  12,\n",
       "         13,  14,  15,  16,  17,  18,  19,  20,  21,  22,  23,  24,  25,\n",
       "         26,  27,  28,  29,  30,  31,  32,  33,  34,  35,  36,  37,  38,\n",
       "         39,  40,  41,  42,  43,  44,  45,  46,  47,  48,  49,  50,  51,\n",
       "         52,  53,  54,  55,  56,  57,  58,  59,  60,  61,  62,  63,  64,\n",
       "         65,  66,  67,  68,  69,  70,  71,  72,  73,  74,  75,  76,  77,\n",
       "         78,  79,  80,  81,  82,  83,  84,  85,  86,  87,  88,  89,  90,\n",
       "         91,  92,  93,  94,  95,  96,  97,  98,  99, 100, 101, 102, 103,\n",
       "        104, 105, 106, 107, 108, 109, 110, 111, 112, 113, 114, 115, 116,\n",
       "        117, 118, 119, 120, 121, 122, 123, 124, 125, 126, 127, 128, 129,\n",
       "        130, 131, 132, 133, 134, 135, 136, 137, 138, 139, 140, 141, 142]),\n",
       " (143,))"
      ]
     },
     "execution_count": 124,
     "metadata": {},
     "output_type": "execute_result"
    }
   ],
   "source": [
    "clean_time_steps = np.delete(clean_time_steps, cut_time_steps)\n",
    "clean_time_steps, clean_time_steps.shape"
   ]
  },
  {
   "cell_type": "code",
   "execution_count": 127,
   "metadata": {},
   "outputs": [
    {
     "data": {
      "text/plain": [
       "<xarray.DataArray 'features' (time: 143, lev: 87, lat: 64, lon: 128)>\n",
       "dask.array<shape=(143, 87, 64, 128), dtype=float32, chunksize=(47, 21, 64, 128)>\n",
       "Coordinates:\n",
       "  * time     (time) int64 0 1 2 3 4 5 6 7 8 9 10 11 12 13 14 15 16 17 18 19 ...\n",
       "  * lat      (lat) float64 -87.86 -85.1 -82.31 -79.53 -76.74 -73.95 -71.16 ...\n",
       "  * lon      (lon) float64 0.0 2.812 5.625 8.438 11.25 14.06 16.88 19.69 ...\n",
       "  * lev      (lev) int64 0 1 2 3 4 5 6 7 8 9 10 11 12 13 14 15 16 17 18 19 ..."
      ]
     },
     "execution_count": 127,
     "metadata": {},
     "output_type": "execute_result"
    }
   ],
   "source": [
    "feature_da.isel(time=clean_time_steps)"
   ]
  },
  {
   "cell_type": "code",
   "execution_count": null,
   "metadata": {},
   "outputs": [],
   "source": []
  },
  {
   "cell_type": "code",
   "execution_count": 43,
   "metadata": {
    "collapsed": true
   },
   "outputs": [],
   "source": [
    "name_da = xr.DataArray(name_list, coords=[feature_da.coords['lev']])"
   ]
  },
  {
   "cell_type": "code",
   "execution_count": 57,
   "metadata": {},
   "outputs": [
    {
     "data": {
      "text/plain": [
       "<xarray.DataArray (feature_lev: 87)>\n",
       "array(['dTdt_adiabatic_lvl9', 'dTdt_adiabatic_lvl10', 'dTdt_adiabatic_lvl11',\n",
       "       'dTdt_adiabatic_lvl12', 'dTdt_adiabatic_lvl13', 'dTdt_adiabatic_lvl14',\n",
       "       'dTdt_adiabatic_lvl15', 'dTdt_adiabatic_lvl16', 'dTdt_adiabatic_lvl17',\n",
       "       'dTdt_adiabatic_lvl18', 'dTdt_adiabatic_lvl19', 'dTdt_adiabatic_lvl20',\n",
       "       'dTdt_adiabatic_lvl21', 'dTdt_adiabatic_lvl22', 'dTdt_adiabatic_lvl23',\n",
       "       'dTdt_adiabatic_lvl24', 'dTdt_adiabatic_lvl25', 'dTdt_adiabatic_lvl26',\n",
       "       'dTdt_adiabatic_lvl27', 'dTdt_adiabatic_lvl28', 'dTdt_adiabatic_lvl29',\n",
       "       'dQdt_adiabatic_lvl9', 'dQdt_adiabatic_lvl10', 'dQdt_adiabatic_lvl11',\n",
       "       'dQdt_adiabatic_lvl12', 'dQdt_adiabatic_lvl13', 'dQdt_adiabatic_lvl14',\n",
       "       'dQdt_adiabatic_lvl15', 'dQdt_adiabatic_lvl16', 'dQdt_adiabatic_lvl17',\n",
       "       'dQdt_adiabatic_lvl18', 'dQdt_adiabatic_lvl19', 'dQdt_adiabatic_lvl20',\n",
       "       'dQdt_adiabatic_lvl21', 'dQdt_adiabatic_lvl22', 'dQdt_adiabatic_lvl23',\n",
       "       'dQdt_adiabatic_lvl24', 'dQdt_adiabatic_lvl25', 'dQdt_adiabatic_lvl26',\n",
       "       'dQdt_adiabatic_lvl27', 'dQdt_adiabatic_lvl28', 'dQdt_adiabatic_lvl29',\n",
       "       'TAP_lvl9', 'TAP_lvl10', 'TAP_lvl11', 'TAP_lvl12', 'TAP_lvl13',\n",
       "       'TAP_lvl14', 'TAP_lvl15', 'TAP_lvl16', 'TAP_lvl17', 'TAP_lvl18',\n",
       "       'TAP_lvl19', 'TAP_lvl20', 'TAP_lvl21', 'TAP_lvl22', 'TAP_lvl23',\n",
       "       'TAP_lvl24', 'TAP_lvl25', 'TAP_lvl26', 'TAP_lvl27', 'TAP_lvl28',\n",
       "       'TAP_lvl29', 'QAP_lvl9', 'QAP_lvl10', 'QAP_lvl11', 'QAP_lvl12',\n",
       "       'QAP_lvl13', 'QAP_lvl14', 'QAP_lvl15', 'QAP_lvl16', 'QAP_lvl17',\n",
       "       'QAP_lvl18', 'QAP_lvl19', 'QAP_lvl20', 'QAP_lvl21', 'QAP_lvl22',\n",
       "       'QAP_lvl23', 'QAP_lvl24', 'QAP_lvl25', 'QAP_lvl26', 'QAP_lvl27',\n",
       "       'QAP_lvl28', 'QAP_lvl29', 'var', 'var', 'var'],\n",
       "      dtype='<U20')\n",
       "Coordinates:\n",
       "  * feature_lev  (feature_lev) int64 0 1 2 3 4 5 6 7 8 9 10 11 12 13 14 15 ..."
      ]
     },
     "execution_count": 57,
     "metadata": {},
     "output_type": "execute_result"
    }
   ],
   "source": [
    "name_da.rename({'lev': 'feature_lev'})"
   ]
  },
  {
   "cell_type": "code",
   "execution_count": 63,
   "metadata": {},
   "outputs": [
    {
     "data": {
      "text/plain": [
       "<xarray.DataArray 'TAP' (lev: 21, lat: 64, lon: 128)>\n",
       "dask.array<shape=(21, 64, 128), dtype=float32, chunksize=(21, 64, 128)>\n",
       "Coordinates:\n",
       "  * lat      (lat) float64 -87.86 -85.1 -82.31 -79.53 -76.74 -73.95 -71.16 ...\n",
       "  * lon      (lon) float64 0.0 2.812 5.625 8.438 11.25 14.06 16.88 19.69 ...\n",
       "  * lev      (lev) float64 121.5 143.0 168.2 197.9 232.8 273.9 322.2 379.1 ..."
      ]
     },
     "execution_count": 63,
     "metadata": {},
     "output_type": "execute_result"
    }
   ],
   "source": [
    "merged_ds.TAP.mean(axis=0)"
   ]
  },
  {
   "cell_type": "code",
   "execution_count": null,
   "metadata": {
    "collapsed": true
   },
   "outputs": [],
   "source": []
  },
  {
   "cell_type": "code",
   "execution_count": 45,
   "metadata": {},
   "outputs": [
    {
     "data": {
      "text/plain": [
       "<xarray.Dataset>\n",
       "Dimensions:        (lat: 64, lev: 87, lon: 128, time: 143)\n",
       "Coordinates:\n",
       "  * time           (time) int64 0 1 2 3 4 5 6 7 8 9 10 11 12 13 14 15 16 17 ...\n",
       "  * lat            (lat) float64 -87.86 -85.1 -82.31 -79.53 -76.74 -73.95 ...\n",
       "  * lon            (lon) float64 0.0 2.812 5.625 8.438 11.25 14.06 16.88 ...\n",
       "  * lev            (lev) int64 0 1 2 3 4 5 6 7 8 9 10 11 12 13 14 15 16 17 ...\n",
       "Data variables:\n",
       "    features       (time, lev, lat, lon) float32 dask.array<shape=(143, 87, 64, 128), chunksize=(47, 21, 64, 128)>\n",
       "    feature_names  (lev) <U20 'dTdt_adiabatic_lvl9' 'dTdt_adiabatic_lvl10' ..."
      ]
     },
     "execution_count": 45,
     "metadata": {},
     "output_type": "execute_result"
    }
   ],
   "source": [
    "feature_ds = xr.Dataset({'features': feature_da, 'feature_names': name_da})\n",
    "feature_ds"
   ]
  },
  {
   "cell_type": "code",
   "execution_count": 16,
   "metadata": {
    "collapsed": true
   },
   "outputs": [],
   "source": [
    "# Define conversion dict\n",
    "L_V = 2.5e6   # Latent heat of vaporization is actually 2.26e6\n",
    "C_P = 1e3 # Specific heat capacity of air at constant pressure\n",
    "conversion_dict = {\n",
    "    'SPDT': C_P,\n",
    "    'SPDQ': L_V,\n",
    "    'QRL': C_P,\n",
    "    'QRS': C_P,\n",
    "    'PRECT': 1e3*24*3600 * 1e-3,\n",
    "    'FLUT': 1. * 1e-5,\n",
    "}"
   ]
  },
  {
   "cell_type": "code",
   "execution_count": 17,
   "metadata": {
    "collapsed": true
   },
   "outputs": [],
   "source": [
    "da_list = []\n",
    "for var in target_vars:\n",
    "    da_list.append(merged_ds[var][1:] * conversion_dict[var])"
   ]
  },
  {
   "cell_type": "code",
   "execution_count": 18,
   "metadata": {
    "collapsed": true
   },
   "outputs": [],
   "source": [
    "ilev = 0\n",
    "for da in da_list:\n",
    "    if 'lev' in da.coords:\n",
    "        da.coords['lev'] = np.arange(ilev, ilev+da.coords['lev'].size)\n",
    "        ilev += da.coords['lev'].size\n",
    "    else:\n",
    "        da.expand_dims('lev')\n",
    "        da.coords['lev'] = ilev\n",
    "        ilev += 1"
   ]
  },
  {
   "cell_type": "code",
   "execution_count": 19,
   "metadata": {
    "collapsed": true
   },
   "outputs": [],
   "source": [
    "target_da = xr.concat(da_list, dim='lev')"
   ]
  },
  {
   "cell_type": "code",
   "execution_count": 20,
   "metadata": {},
   "outputs": [
    {
     "data": {
      "text/plain": [
       "<xarray.DataArray 'SPDT' (time: 1487, lev: 86, lat: 64, lon: 128)>\n",
       "dask.array<shape=(1487, 86, 64, 128), dtype=float32, chunksize=(47, 21, 64, 128)>\n",
       "Coordinates:\n",
       "  * lat      (lat) float64 -87.86 -85.1 -82.31 -79.53 -76.74 -73.95 -71.16 ...\n",
       "  * lon      (lon) float64 0.0 2.812 5.625 8.438 11.25 14.06 16.88 19.69 ...\n",
       "  * time     (time) float64 0.02083 0.04167 0.0625 0.08333 0.1042 0.125 ...\n",
       "  * lev      (lev) int64 0 1 2 3 4 5 6 7 8 9 10 11 12 13 14 15 16 17 18 19 ..."
      ]
     },
     "execution_count": 20,
     "metadata": {},
     "output_type": "execute_result"
    }
   ],
   "source": [
    "target_da"
   ]
  },
  {
   "cell_type": "markdown",
   "metadata": {},
   "source": [
    "### Reshape variables"
   ]
  },
  {
   "cell_type": "code",
   "execution_count": 21,
   "metadata": {
    "collapsed": true
   },
   "outputs": [],
   "source": [
    "feature_da = feature_da.stack(sample=('time', 'lat', 'lon'))"
   ]
  },
  {
   "cell_type": "code",
   "execution_count": 22,
   "metadata": {},
   "outputs": [
    {
     "data": {
      "text/plain": [
       "<xarray.DataArray 'features' (lev: 87, sample: 12181504)>\n",
       "dask.array<shape=(87, 12181504), dtype=float32, chunksize=(21, 385024)>\n",
       "Coordinates:\n",
       "  * lev      (lev) int64 0 1 2 3 4 5 6 7 8 9 10 11 12 13 14 15 16 17 18 19 ...\n",
       "  * sample   (sample) MultiIndex\n",
       "  - time     (sample) int64 0 0 0 0 0 0 0 0 0 0 0 0 0 0 0 0 0 0 0 0 0 0 0 0 ...\n",
       "  - lat      (sample) float64 -87.86 -87.86 -87.86 -87.86 -87.86 -87.86 ...\n",
       "  - lon      (sample) float64 0.0 2.812 5.625 8.438 11.25 14.06 16.88 19.69 ..."
      ]
     },
     "execution_count": 22,
     "metadata": {},
     "output_type": "execute_result"
    }
   ],
   "source": [
    "feature_da"
   ]
  },
  {
   "cell_type": "code",
   "execution_count": 23,
   "metadata": {
    "collapsed": true
   },
   "outputs": [],
   "source": [
    "target_da = target_da.stack(sample=('time', 'lat', 'lon'))"
   ]
  },
  {
   "cell_type": "code",
   "execution_count": 24,
   "metadata": {
    "collapsed": true
   },
   "outputs": [],
   "source": [
    "feature_da = feature_da.transpose('sample', 'lev')"
   ]
  },
  {
   "cell_type": "code",
   "execution_count": 25,
   "metadata": {
    "collapsed": true
   },
   "outputs": [],
   "source": [
    "target_da = target_da.transpose('sample', 'lev')"
   ]
  },
  {
   "cell_type": "code",
   "execution_count": 26,
   "metadata": {},
   "outputs": [
    {
     "data": {
      "text/plain": [
       "<xarray.DataArray 'features' (sample: 12181504, lev: 87)>\n",
       "dask.array<shape=(12181504, 87), dtype=float32, chunksize=(385024, 21)>\n",
       "Coordinates:\n",
       "  * lev      (lev) int64 0 1 2 3 4 5 6 7 8 9 10 11 12 13 14 15 16 17 18 19 ...\n",
       "  * sample   (sample) MultiIndex\n",
       "  - time     (sample) int64 0 0 0 0 0 0 0 0 0 0 0 0 0 0 0 0 0 0 0 0 0 0 0 0 ...\n",
       "  - lat      (sample) float64 -87.86 -87.86 -87.86 -87.86 -87.86 -87.86 ...\n",
       "  - lon      (sample) float64 0.0 2.812 5.625 8.438 11.25 14.06 16.88 19.69 ..."
      ]
     },
     "execution_count": 26,
     "metadata": {},
     "output_type": "execute_result"
    }
   ],
   "source": [
    "feature_da"
   ]
  },
  {
   "cell_type": "markdown",
   "metadata": {},
   "source": [
    "### Test chunking"
   ]
  },
  {
   "cell_type": "code",
   "execution_count": 27,
   "metadata": {
    "collapsed": true
   },
   "outputs": [],
   "source": [
    "tmp_mean = feature_da.mean(axis=0)"
   ]
  },
  {
   "cell_type": "code",
   "execution_count": 32,
   "metadata": {},
   "outputs": [
    {
     "name": "stdout",
     "output_type": "stream",
     "text": [
      "Time 113.14935766597046\n"
     ]
    }
   ],
   "source": [
    "t1 = timeit.default_timer()\n",
    "tmp_mean.values\n",
    "t2 = timeit.default_timer()\n",
    "print('Time', t2-t1)"
   ]
  },
  {
   "cell_type": "code",
   "execution_count": 48,
   "metadata": {
    "collapsed": true
   },
   "outputs": [],
   "source": [
    "rechunked = feature_da.chunk({'sample': 100000, 'lev': 87})"
   ]
  },
  {
   "cell_type": "code",
   "execution_count": 49,
   "metadata": {},
   "outputs": [
    {
     "data": {
      "text/plain": [
       "<xarray.DataArray 'features' (sample: 12181504, lev: 87)>\n",
       "dask.array<shape=(12181504, 87), dtype=float32, chunksize=(100000, 87)>\n",
       "Coordinates:\n",
       "  * lev      (lev) int64 0 1 2 3 4 5 6 7 8 9 10 11 12 13 14 15 16 17 18 19 ...\n",
       "  * sample   (sample) int64 0 1 2 3 4 5 6 7 8 9 10 11 12 13 14 15 16 17 18 ..."
      ]
     },
     "execution_count": 49,
     "metadata": {},
     "output_type": "execute_result"
    }
   ],
   "source": [
    "rechunked"
   ]
  },
  {
   "cell_type": "code",
   "execution_count": 50,
   "metadata": {},
   "outputs": [
    {
     "name": "stdout",
     "output_type": "stream",
     "text": [
      "Time 16.658672302030027\n"
     ]
    }
   ],
   "source": [
    "tmp_mean = rechunked.mean(axis=0)\n",
    "t1 = timeit.default_timer()\n",
    "tmp_mean.values\n",
    "t2 = timeit.default_timer()\n",
    "print('Time', t2-t1)"
   ]
  },
  {
   "cell_type": "code",
   "execution_count": 52,
   "metadata": {},
   "outputs": [
    {
     "data": {
      "text/plain": [
       "<xarray.DataArray 'SPDT' (sample: 12181504, lev: 86)>\n",
       "dask.array<shape=(12181504, 86), dtype=float32, chunksize=(100000, 86)>\n",
       "Coordinates:\n",
       "  * lev      (lev) int64 0 1 2 3 4 5 6 7 8 9 10 11 12 13 14 15 16 17 18 19 ...\n",
       "  * sample   (sample) MultiIndex\n",
       "  - time     (sample) float64 0.02083 0.02083 0.02083 0.02083 0.02083 ...\n",
       "  - lat      (sample) float64 -87.86 -87.86 -87.86 -87.86 -87.86 -87.86 ...\n",
       "  - lon      (sample) float64 0.0 2.812 5.625 8.438 11.25 14.06 16.88 19.69 ..."
      ]
     },
     "execution_count": 52,
     "metadata": {},
     "output_type": "execute_result"
    }
   ],
   "source": [
    "target_da.chunk({'sample': 100000, 'lev': 87})"
   ]
  },
  {
   "cell_type": "markdown",
   "metadata": {
    "heading_collapsed": true
   },
   "source": [
    "### Normalize data"
   ]
  },
  {
   "cell_type": "code",
   "execution_count": 62,
   "metadata": {
    "collapsed": true,
    "hidden": true
   },
   "outputs": [],
   "source": [
    "feature_da = (feature_da - feature_da.mean(axis=0)) / feature_da.std(axis=0)"
   ]
  },
  {
   "cell_type": "code",
   "execution_count": 63,
   "metadata": {
    "hidden": true
   },
   "outputs": [
    {
     "data": {
      "text/plain": [
       "array([-0.04658319, -0.04703274, -0.04787715, -0.05999021, -0.06604938], dtype=float32)"
      ]
     },
     "execution_count": 63,
     "metadata": {},
     "output_type": "execute_result"
    }
   ],
   "source": [
    "feature_da[:5, 0].values"
   ]
  },
  {
   "cell_type": "markdown",
   "metadata": {
    "heading_collapsed": true
   },
   "source": [
    "### Save data"
   ]
  },
  {
   "cell_type": "code",
   "execution_count": 73,
   "metadata": {
    "hidden": true
   },
   "outputs": [
    {
     "data": {
      "text/plain": [
       "array([  0.00000000e+00,   0.00000000e+00,  -2.78707296e-02,\n",
       "         1.97001975e-02,  -1.40102886e-04,  -2.90041906e-04,\n",
       "        -1.40079344e-03,  -8.35143030e-04,   2.05248798e-04,\n",
       "         6.49447393e-05,   1.40243719e-04,   3.12900491e-04,\n",
       "         9.59602650e-04,   2.15967558e-03,   3.88757116e-03,\n",
       "         5.87450806e-03,   8.01019091e-03,   9.81164351e-03,\n",
       "         1.08052623e-02,   1.16248680e-02,   1.18329739e-02,\n",
       "         1.14375884e-02,   1.69380773e-02,   2.83461697e-02,\n",
       "         2.33789124e-02,   1.93057191e-02,   1.54855857e-02,\n",
       "         1.36304982e-02,   1.38190733e-02,  -6.95045665e-02,\n",
       "         0.00000000e+00,   0.00000000e+00,  -5.75145691e-07,\n",
       "         3.32837658e-07,  -4.63667611e-08,  -9.48046406e-08,\n",
       "        -5.12761922e-08,  -1.01488283e-07,  -2.01609532e-06,\n",
       "        -1.14103786e-05,  -5.01209288e-05,  -1.84826553e-04,\n",
       "        -5.58585860e-04,  -1.38411799e-03,  -2.72789248e-03,\n",
       "        -4.26560175e-03,  -5.91911003e-03,  -7.10118096e-03,\n",
       "        -7.90348742e-03,  -8.04874673e-03,  -5.61001245e-03,\n",
       "         3.15329968e-03,   1.10696331e-02,   8.86857882e-03,\n",
       "         1.07731335e-02,   1.22689409e-02,   1.19959172e-02,\n",
       "         1.46224452e-02,   1.35659361e-02,  -4.72981483e-01,\n",
       "        -3.86532173e-02,  -2.91807726e-02,  -2.08828808e-03,\n",
       "        -1.78492460e-02,  -1.02077480e-02,  -5.53472247e-03,\n",
       "        -3.28521617e-03,  -2.64249370e-03,  -2.95322482e-03,\n",
       "        -3.21126054e-03,  -4.32236306e-03,  -6.28025271e-03,\n",
       "        -8.10147636e-03,  -1.05646607e-02,  -1.30019169e-02,\n",
       "        -1.57061834e-02,  -1.81853063e-02,  -1.94742046e-02,\n",
       "        -1.87266767e-02,  -1.85068380e-02,  -1.97574757e-02,\n",
       "        -2.30927002e-02,  -3.01091485e-02,  -3.66461352e-02,\n",
       "        -2.77422480e-02,  -1.99308023e-02,  -1.38476491e-02,\n",
       "        -1.11588724e-02,  -1.25349462e-02,  -1.77673362e-02,\n",
       "         3.94039713e-02,   2.81707775e-02,   2.02009175e-02,\n",
       "         1.33365486e-02,   8.65774415e-03,   5.72664291e-03,\n",
       "         3.85584147e-03,   3.00952652e-03,   2.57324567e-03,\n",
       "         2.48572510e-03,   2.70648068e-03,   3.10985371e-03,\n",
       "         3.63836950e-03,   4.17007739e-03,   4.65811929e-03,\n",
       "         5.21513168e-03,   5.94442198e-03,   6.59051724e-03,\n",
       "         6.75403560e-03,   6.79320749e-03,   7.13062845e-03,\n",
       "         8.35625734e-03,   1.00034019e-02,   1.04116537e-02,\n",
       "         8.85464437e-03,   7.49020744e-03,   6.19682809e-03,\n",
       "         5.36487903e-03,   5.01390453e-03,   5.09855198e-03,\n",
       "         2.66949274e-03,   2.22204067e-03], dtype=float32)"
      ]
     },
     "execution_count": 73,
     "metadata": {},
     "output_type": "execute_result"
    }
   ],
   "source": [
    "target_da.mean(axis=0).values"
   ]
  },
  {
   "cell_type": "code",
   "execution_count": 78,
   "metadata": {
    "collapsed": true,
    "hidden": true
   },
   "outputs": [],
   "source": [
    "feature_da = feature_da.reset_index('sample')"
   ]
  },
  {
   "cell_type": "code",
   "execution_count": 79,
   "metadata": {
    "collapsed": true,
    "hidden": true
   },
   "outputs": [],
   "source": [
    "feature_da.to_netcdf('/local/S.Rasp/tmp/features_test.nc')"
   ]
  },
  {
   "cell_type": "code",
   "execution_count": 80,
   "metadata": {
    "collapsed": true,
    "hidden": true
   },
   "outputs": [],
   "source": [
    "target_da = target_da.reset_index('sample')"
   ]
  },
  {
   "cell_type": "code",
   "execution_count": 81,
   "metadata": {
    "collapsed": true,
    "hidden": true
   },
   "outputs": [],
   "source": [
    "target_da.to_netcdf('/local/S.Rasp/tmp/targets_test.nc')"
   ]
  },
  {
   "cell_type": "code",
   "execution_count": 83,
   "metadata": {
    "collapsed": true,
    "hidden": true
   },
   "outputs": [],
   "source": [
    "import netCDF4 as nc"
   ]
  },
  {
   "cell_type": "code",
   "execution_count": 84,
   "metadata": {
    "collapsed": true,
    "hidden": true
   },
   "outputs": [],
   "source": [
    "rg = nc.Dataset('/local/S.Rasp/tmp/SPCAM_outputs_train_prestack.nc')"
   ]
  },
  {
   "cell_type": "code",
   "execution_count": 87,
   "metadata": {
    "hidden": true
   },
   "outputs": [
    {
     "data": {
      "text/plain": [
       "array([ -6.43003029e-09,  -1.25751516e-08,   2.46928948e-08,\n",
       "        -6.02209909e-08,   3.97957969e-08,  -1.05845707e-07,\n",
       "         3.45189726e-08,  -9.45556894e-06,  -5.12513157e-04,\n",
       "        -1.27191024e-05,  -3.65679426e-07,   3.04748539e-07,\n",
       "        -3.50581217e-06,   3.72036743e-06,  -2.54532533e-05,\n",
       "        -6.10721111e-03,  -1.38804447e-02,  -3.52747762e-03,\n",
       "         6.70774316e-04,   6.06004987e-03], dtype=float32)"
      ]
     },
     "execution_count": 87,
     "metadata": {},
     "output_type": "execute_result"
    }
   ],
   "source": [
    "rg.variables['targets'][0, :20]"
   ]
  },
  {
   "cell_type": "code",
   "execution_count": 89,
   "metadata": {
    "hidden": true
   },
   "outputs": [
    {
     "data": {
      "text/plain": [
       "array([ -6.43003029e-09,  -1.25751516e-08,   2.46928948e-08,\n",
       "        -6.02209909e-08,   3.97957969e-08,  -1.05845707e-07,\n",
       "         3.45189726e-08,  -9.45556894e-06,  -5.12513157e-04,\n",
       "        -1.27191024e-05,  -3.65679426e-07], dtype=float32)"
      ]
     },
     "execution_count": 89,
     "metadata": {},
     "output_type": "execute_result"
    }
   ],
   "source": [
    "target_da[0, 9:20].values"
   ]
  },
  {
   "cell_type": "markdown",
   "metadata": {},
   "source": [
    "### Shuffle data long sample dimension"
   ]
  },
  {
   "cell_type": "code",
   "execution_count": 34,
   "metadata": {},
   "outputs": [
    {
     "data": {
      "text/plain": [
       "<xarray.DataArray 'features' (sample: 12181504, lev: 87)>\n",
       "dask.array<shape=(12181504, 87), dtype=float32, chunksize=(385024, 21)>\n",
       "Coordinates:\n",
       "  * lev      (lev) int64 0 1 2 3 4 5 6 7 8 9 10 11 12 13 14 15 16 17 18 19 ...\n",
       "  * sample   (sample) MultiIndex\n",
       "  - time     (sample) int64 0 0 0 0 0 0 0 0 0 0 0 0 0 0 0 0 0 0 0 0 0 0 0 0 ...\n",
       "  - lat      (sample) float64 -87.86 -87.86 -87.86 -87.86 -87.86 -87.86 ...\n",
       "  - lon      (sample) float64 0.0 2.812 5.625 8.438 11.25 14.06 16.88 19.69 ..."
      ]
     },
     "execution_count": 34,
     "metadata": {},
     "output_type": "execute_result"
    }
   ],
   "source": [
    "feature_da"
   ]
  },
  {
   "cell_type": "code",
   "execution_count": 35,
   "metadata": {},
   "outputs": [
    {
     "data": {
      "text/plain": [
       "12181504"
      ]
     },
     "execution_count": 35,
     "metadata": {},
     "output_type": "execute_result"
    }
   ],
   "source": [
    "feature_da.coords['sample'].size"
   ]
  },
  {
   "cell_type": "code",
   "execution_count": 36,
   "metadata": {
    "collapsed": true
   },
   "outputs": [],
   "source": [
    "a = np.arange(feature_da.coords['sample'].size)"
   ]
  },
  {
   "cell_type": "code",
   "execution_count": 37,
   "metadata": {},
   "outputs": [
    {
     "data": {
      "text/plain": [
       "array([       0,        1,        2, ..., 12181501, 12181502, 12181503])"
      ]
     },
     "execution_count": 37,
     "metadata": {},
     "output_type": "execute_result"
    }
   ],
   "source": [
    "a"
   ]
  },
  {
   "cell_type": "code",
   "execution_count": 38,
   "metadata": {
    "collapsed": true
   },
   "outputs": [],
   "source": [
    "np.random.shuffle(a)"
   ]
  },
  {
   "cell_type": "code",
   "execution_count": 39,
   "metadata": {},
   "outputs": [
    {
     "data": {
      "text/plain": [
       "array([ 8716775,  7981464,  5599254, ...,  9313592,   552833, 11623479])"
      ]
     },
     "execution_count": 39,
     "metadata": {},
     "output_type": "execute_result"
    }
   ],
   "source": [
    "a"
   ]
  },
  {
   "cell_type": "code",
   "execution_count": 40,
   "metadata": {
    "collapsed": true
   },
   "outputs": [],
   "source": [
    "feature_da.coords['sample'] = a"
   ]
  },
  {
   "cell_type": "code",
   "execution_count": 41,
   "metadata": {},
   "outputs": [
    {
     "data": {
      "text/plain": [
       "<xarray.DataArray 'features' (sample: 12181504, lev: 87)>\n",
       "dask.array<shape=(12181504, 87), dtype=float32, chunksize=(385024, 21)>\n",
       "Coordinates:\n",
       "  * lev      (lev) int64 0 1 2 3 4 5 6 7 8 9 10 11 12 13 14 15 16 17 18 19 ...\n",
       "  * sample   (sample) int64 8716775 7981464 5599254 10036719 10702698 ..."
      ]
     },
     "execution_count": 41,
     "metadata": {},
     "output_type": "execute_result"
    }
   ],
   "source": [
    "feature_da"
   ]
  },
  {
   "cell_type": "code",
   "execution_count": 43,
   "metadata": {
    "collapsed": true
   },
   "outputs": [],
   "source": [
    "feature_da = feature_da.sortby('sample')"
   ]
  },
  {
   "cell_type": "code",
   "execution_count": 44,
   "metadata": {},
   "outputs": [
    {
     "data": {
      "text/plain": [
       "array([[ -3.31042502e-05,  -1.53572637e-05,   1.45695249e-05,\n",
       "          3.71472779e-05,   5.57330277e-05],\n",
       "       [ -1.01321302e-05,   2.92513159e-05,   1.37960078e-05,\n",
       "          2.61373953e-05,   9.86647956e-06],\n",
       "       [  8.84255496e-05,   1.95441258e-04,   1.38380303e-04,\n",
       "         -9.93744979e-05,  -4.49311810e-05],\n",
       "       [  2.13960493e-06,   3.82194230e-06,   1.22493611e-05,\n",
       "          1.80067527e-05,   1.22076981e-05],\n",
       "       [  2.91680790e-05,   1.31929246e-05,   8.69802807e-06,\n",
       "          8.09933772e-06,  -1.55415364e-07]], dtype=float32)"
      ]
     },
     "execution_count": 44,
     "metadata": {},
     "output_type": "execute_result"
    }
   ],
   "source": [
    "feature_da[:5, :5].values"
   ]
  },
  {
   "cell_type": "code",
   "execution_count": 46,
   "metadata": {
    "collapsed": true
   },
   "outputs": [],
   "source": [
    "feature_da = feature_da.chunk({'sample': 100000, 'lev': 87})"
   ]
  },
  {
   "cell_type": "code",
   "execution_count": 47,
   "metadata": {},
   "outputs": [
    {
     "data": {
      "text/plain": [
       "<xarray.DataArray 'features' (sample: 12181504, lev: 87)>\n",
       "dask.array<shape=(12181504, 87), dtype=float32, chunksize=(100000, 87)>\n",
       "Coordinates:\n",
       "  * lev      (lev) int64 0 1 2 3 4 5 6 7 8 9 10 11 12 13 14 15 16 17 18 19 ...\n",
       "  * sample   (sample) int64 0 1 2 3 4 5 6 7 8 9 10 11 12 13 14 15 16 17 18 ..."
      ]
     },
     "execution_count": 47,
     "metadata": {},
     "output_type": "execute_result"
    }
   ],
   "source": [
    "feature_da"
   ]
  },
  {
   "cell_type": "code",
   "execution_count": 177,
   "metadata": {
    "collapsed": true
   },
   "outputs": [],
   "source": [
    "means = feature_shuf.mean(axis=0)"
   ]
  },
  {
   "cell_type": "code",
   "execution_count": 178,
   "metadata": {},
   "outputs": [
    {
     "data": {
      "text/plain": [
       "<xarray.DataArray (lev: 123)>\n",
       "array([ -5.644520e-09,   2.022521e-09,  -1.739070e-08,   3.254299e-08,\n",
       "         1.191746e-09,  -1.320430e-08,  -2.629527e-09,  -1.020227e-08,\n",
       "        -6.695835e-09,  -5.224432e-09,  -1.356209e-08,   2.225866e-09,\n",
       "        -8.515797e-10,   1.104676e-08,   4.271854e-09,  -5.837991e-09,\n",
       "        -7.996248e-09,   6.003936e-09,   4.970934e-09,   1.118455e-08,\n",
       "        -2.705372e-09,   4.908744e-09,  -2.619990e-08,  -3.935005e-09,\n",
       "         2.680273e-08,   1.134291e-08,   8.822793e-09,  -1.454503e-08,\n",
       "        -1.178640e-08,  -9.862824e-09,  -1.286240e-08,   4.062009e-09,\n",
       "         3.725900e-09,  -5.496159e-09,   1.000535e-09,   6.454335e-09,\n",
       "         9.137509e-09,   3.000731e-08,   2.566287e-09,   1.079170e-08,\n",
       "         4.053019e-09,   2.281224e-09,   1.511752e-08,  -1.302729e-08,\n",
       "        -4.049307e-09,   5.463046e-09,   8.602464e-09,   2.109212e-09,\n",
       "         8.379211e-09,  -1.709198e-08,   4.407056e-09,  -4.610692e-10,\n",
       "         2.604211e-09,   6.788553e-09,   4.416425e-09,  -1.316547e-08,\n",
       "        -1.438044e-08,   4.244541e-09,  -2.690908e-08,  -4.513342e-08,\n",
       "         1.455420e-07,   1.164824e-07,   9.079119e-07,   1.956055e-06,\n",
       "         1.014437e-06,  -2.169343e-07,   3.532055e-07,  -9.581507e-07,\n",
       "         6.493090e-07,   1.052386e-08,  -6.516082e-07,   1.456913e-06,\n",
       "        -5.120882e-07,  -1.660186e-06,  -2.896074e-07,  -3.139269e-08,\n",
       "         1.509878e-06,   3.394600e-07,   5.661605e-07,   7.309065e-07,\n",
       "         6.557829e-07,   2.875864e-06,   1.974207e-06,   1.219440e-06,\n",
       "        -7.528560e-07,   1.175819e-06,   1.329464e-06,   1.462636e-06,\n",
       "         1.092745e-06,  -1.329047e-06,   1.854725e-07,  -3.624689e-07,\n",
       "        -5.179534e-08,   2.746761e-07,   4.894761e-07,   3.800743e-07,\n",
       "        -3.425503e-07,  -1.426656e-07,  -2.039297e-07,   1.812001e-08,\n",
       "        -6.493397e-08,  -1.820550e-09,   2.918207e-08,   4.542927e-08,\n",
       "         1.806195e-08,  -3.371887e-08,   2.176117e-08,  -1.308622e-08,\n",
       "        -9.913441e-09,   1.975672e-08,   1.368056e-09,   5.717865e-09,\n",
       "        -2.724917e-08,  -1.170566e-07,  -3.592952e-08,  -8.772004e-08,\n",
       "         1.862653e-08,   1.549818e-08,   1.456001e-08,   7.097993e-08,\n",
       "         2.572880e-08,   2.105027e-08,  -2.893551e-10], dtype=float32)\n",
       "Coordinates:\n",
       "  * lev      (lev) int64 0 1 2 3 4 5 6 7 8 9 10 11 12 13 14 15 16 17 18 19 ..."
      ]
     },
     "execution_count": 178,
     "metadata": {},
     "output_type": "execute_result"
    }
   ],
   "source": [
    "means.load()"
   ]
  },
  {
   "cell_type": "code",
   "execution_count": 179,
   "metadata": {},
   "outputs": [
    {
     "data": {
      "text/plain": [
       "<xarray.DataArray 'feature_mean' (lev: 123)>\n",
       "array([ -5.644520e-09,   2.022521e-09,  -1.739070e-08,   3.254299e-08,\n",
       "         1.191746e-09,  -1.320430e-08,  -2.629527e-09,  -1.020227e-08,\n",
       "        -6.695835e-09,  -5.224432e-09,  -1.356209e-08,   2.225866e-09,\n",
       "        -8.515797e-10,   1.104676e-08,   4.271854e-09,  -5.837991e-09,\n",
       "        -7.996248e-09,   6.003936e-09,   4.970934e-09,   1.118455e-08,\n",
       "        -2.705372e-09,   4.908744e-09,  -2.619990e-08,  -3.935005e-09,\n",
       "         2.680273e-08,   1.134291e-08,   8.822793e-09,  -1.454503e-08,\n",
       "        -1.178640e-08,  -9.862824e-09,  -1.286240e-08,   4.062009e-09,\n",
       "         3.725900e-09,  -5.496159e-09,   1.000535e-09,   6.454335e-09,\n",
       "         9.137509e-09,   3.000731e-08,   2.566287e-09,   1.079170e-08,\n",
       "         4.053019e-09,   2.281224e-09,   1.511752e-08,  -1.302729e-08,\n",
       "        -4.049307e-09,   5.463046e-09,   8.602464e-09,   2.109212e-09,\n",
       "         8.379211e-09,  -1.709198e-08,   4.407056e-09,  -4.610692e-10,\n",
       "         2.604211e-09,   6.788553e-09,   4.416425e-09,  -1.316547e-08,\n",
       "        -1.438044e-08,   4.244541e-09,  -2.690908e-08,  -4.513342e-08,\n",
       "         1.455420e-07,   1.164824e-07,   9.079119e-07,   1.956055e-06,\n",
       "         1.014437e-06,  -2.169343e-07,   3.532055e-07,  -9.581507e-07,\n",
       "         6.493090e-07,   1.052386e-08,  -6.516082e-07,   1.456913e-06,\n",
       "        -5.120882e-07,  -1.660186e-06,  -2.896074e-07,  -3.139269e-08,\n",
       "         1.509878e-06,   3.394600e-07,   5.661605e-07,   7.309065e-07,\n",
       "         6.557829e-07,   2.875864e-06,   1.974207e-06,   1.219440e-06,\n",
       "        -7.528560e-07,   1.175819e-06,   1.329464e-06,   1.462636e-06,\n",
       "         1.092745e-06,  -1.329047e-06,   1.854725e-07,  -3.624689e-07,\n",
       "        -5.179534e-08,   2.746761e-07,   4.894761e-07,   3.800743e-07,\n",
       "        -3.425503e-07,  -1.426656e-07,  -2.039297e-07,   1.812001e-08,\n",
       "        -6.493397e-08,  -1.820550e-09,   2.918207e-08,   4.542927e-08,\n",
       "         1.806195e-08,  -3.371887e-08,   2.176117e-08,  -1.308622e-08,\n",
       "        -9.913441e-09,   1.975672e-08,   1.368056e-09,   5.717865e-09,\n",
       "        -2.724917e-08,  -1.170566e-07,  -3.592952e-08,  -8.772004e-08,\n",
       "         1.862653e-08,   1.549818e-08,   1.456001e-08,   7.097993e-08,\n",
       "         2.572880e-08,   2.105027e-08,  -2.893551e-10], dtype=float32)\n",
       "Coordinates:\n",
       "  * lev      (lev) int64 0 1 2 3 4 5 6 7 8 9 10 11 12 13 14 15 16 17 18 19 ..."
      ]
     },
     "execution_count": 179,
     "metadata": {},
     "output_type": "execute_result"
    }
   ],
   "source": [
    "means.rename('feature_mean')"
   ]
  },
  {
   "cell_type": "code",
   "execution_count": 192,
   "metadata": {
    "collapsed": true
   },
   "outputs": [],
   "source": [
    "means.attrs['asdf'] ='asdf'"
   ]
  },
  {
   "cell_type": "code",
   "execution_count": 193,
   "metadata": {},
   "outputs": [
    {
     "data": {
      "text/plain": [
       "<xarray.DataArray (lev: 123)>\n",
       "array([ -5.644520e-09,   2.022521e-09,  -1.739070e-08,   3.254299e-08,\n",
       "         1.191746e-09,  -1.320430e-08,  -2.629527e-09,  -1.020227e-08,\n",
       "        -6.695835e-09,  -5.224432e-09,  -1.356209e-08,   2.225866e-09,\n",
       "        -8.515797e-10,   1.104676e-08,   4.271854e-09,  -5.837991e-09,\n",
       "        -7.996248e-09,   6.003936e-09,   4.970934e-09,   1.118455e-08,\n",
       "        -2.705372e-09,   4.908744e-09,  -2.619990e-08,  -3.935005e-09,\n",
       "         2.680273e-08,   1.134291e-08,   8.822793e-09,  -1.454503e-08,\n",
       "        -1.178640e-08,  -9.862824e-09,  -1.286240e-08,   4.062009e-09,\n",
       "         3.725900e-09,  -5.496159e-09,   1.000535e-09,   6.454335e-09,\n",
       "         9.137509e-09,   3.000731e-08,   2.566287e-09,   1.079170e-08,\n",
       "         4.053019e-09,   2.281224e-09,   1.511752e-08,  -1.302729e-08,\n",
       "        -4.049307e-09,   5.463046e-09,   8.602464e-09,   2.109212e-09,\n",
       "         8.379211e-09,  -1.709198e-08,   4.407056e-09,  -4.610692e-10,\n",
       "         2.604211e-09,   6.788553e-09,   4.416425e-09,  -1.316547e-08,\n",
       "        -1.438044e-08,   4.244541e-09,  -2.690908e-08,  -4.513342e-08,\n",
       "         1.455420e-07,   1.164824e-07,   9.079119e-07,   1.956055e-06,\n",
       "         1.014437e-06,  -2.169343e-07,   3.532055e-07,  -9.581507e-07,\n",
       "         6.493090e-07,   1.052386e-08,  -6.516082e-07,   1.456913e-06,\n",
       "        -5.120882e-07,  -1.660186e-06,  -2.896074e-07,  -3.139269e-08,\n",
       "         1.509878e-06,   3.394600e-07,   5.661605e-07,   7.309065e-07,\n",
       "         6.557829e-07,   2.875864e-06,   1.974207e-06,   1.219440e-06,\n",
       "        -7.528560e-07,   1.175819e-06,   1.329464e-06,   1.462636e-06,\n",
       "         1.092745e-06,  -1.329047e-06,   1.854725e-07,  -3.624689e-07,\n",
       "        -5.179534e-08,   2.746761e-07,   4.894761e-07,   3.800743e-07,\n",
       "        -3.425503e-07,  -1.426656e-07,  -2.039297e-07,   1.812001e-08,\n",
       "        -6.493397e-08,  -1.820550e-09,   2.918207e-08,   4.542927e-08,\n",
       "         1.806195e-08,  -3.371887e-08,   2.176117e-08,  -1.308622e-08,\n",
       "        -9.913441e-09,   1.975672e-08,   1.368056e-09,   5.717865e-09,\n",
       "        -2.724917e-08,  -1.170566e-07,  -3.592952e-08,  -8.772004e-08,\n",
       "         1.862653e-08,   1.549818e-08,   1.456001e-08,   7.097993e-08,\n",
       "         2.572880e-08,   2.105027e-08,  -2.893551e-10], dtype=float32)\n",
       "Coordinates:\n",
       "  * lev      (lev) int64 0 1 2 3 4 5 6 7 8 9 10 11 12 13 14 15 16 17 18 19 ...\n",
       "    log      <U8 'test log'\n",
       "Attributes:\n",
       "    log:      test\n",
       "    asdf:     asdf"
      ]
     },
     "execution_count": 193,
     "metadata": {},
     "output_type": "execute_result"
    }
   ],
   "source": [
    "means"
   ]
  },
  {
   "cell_type": "code",
   "execution_count": 195,
   "metadata": {
    "collapsed": true
   },
   "outputs": [],
   "source": [
    "norm_ds = xr.Dataset({'1': means, '2': means})"
   ]
  },
  {
   "cell_type": "code",
   "execution_count": 196,
   "metadata": {},
   "outputs": [
    {
     "data": {
      "text/plain": [
       "<xarray.Dataset>\n",
       "Dimensions:  (lev: 123)\n",
       "Coordinates:\n",
       "  * lev      (lev) int64 0 1 2 3 4 5 6 7 8 9 10 11 12 13 14 15 16 17 18 19 ...\n",
       "    log      <U8 'test log'\n",
       "Data variables:\n",
       "    1        (lev) float32 -5.64452e-09 2.02252e-09 -1.73907e-08 3.2543e-08 ...\n",
       "    2        (lev) float32 -5.64452e-09 2.02252e-09 -1.73907e-08 3.2543e-08 ..."
      ]
     },
     "execution_count": 196,
     "metadata": {},
     "output_type": "execute_result"
    }
   ],
   "source": [
    "norm_ds"
   ]
  },
  {
   "cell_type": "code",
   "execution_count": 182,
   "metadata": {
    "collapsed": true
   },
   "outputs": [],
   "source": [
    "means.to_netcdf('/local/S.Rasp/tmp/means_test.nc')"
   ]
  },
  {
   "cell_type": "code",
   "execution_count": 183,
   "metadata": {
    "collapsed": true
   },
   "outputs": [],
   "source": [
    "rg2 = nc.Dataset('/local/S.Rasp/tmp/means_test.nc')"
   ]
  },
  {
   "cell_type": "code",
   "execution_count": 184,
   "metadata": {},
   "outputs": [
    {
     "data": {
      "text/plain": [
       "<class 'netCDF4._netCDF4.Dataset'>\n",
       "root group (NETCDF4 data model, file format HDF5):\n",
       "    coordinates: log\n",
       "    dimensions(sizes): lev(123)\n",
       "    variables(dimensions): int64 \u001b[4mlev\u001b[0m(lev), <class 'str'> \u001b[4mlog\u001b[0m(), float32 \u001b[4m__xarray_dataarray_variable__\u001b[0m(lev)\n",
       "    groups: "
      ]
     },
     "execution_count": 184,
     "metadata": {},
     "output_type": "execute_result"
    }
   ],
   "source": [
    "rg2"
   ]
  },
  {
   "cell_type": "code",
   "execution_count": 185,
   "metadata": {
    "collapsed": true
   },
   "outputs": [],
   "source": [
    "rg2.close()"
   ]
  },
  {
   "cell_type": "markdown",
   "metadata": {},
   "source": [
    "## Shuffle manually"
   ]
  },
  {
   "cell_type": "code",
   "execution_count": 3,
   "metadata": {},
   "outputs": [],
   "source": [
    "rg = nc.Dataset('/local/S.Rasp/cbrain_data/train_sample_features.nc')"
   ]
  },
  {
   "cell_type": "code",
   "execution_count": 4,
   "metadata": {},
   "outputs": [
    {
     "data": {
      "text/plain": [
       "<class 'netCDF4._netCDF4.Dataset'>\n",
       "root group (NETCDF4 data model, file format HDF5):\n",
       "    log: \n",
       "    Time: 2017-11-29T10:22:34\n",
       "\n",
       "    Executed command:\n",
       "\n",
       "    python preprocess_aqua.py --config_file config_SOLIN.yml --in_dir /project/meteo/w2w/A6/S.Rasp/SP-CAM/Aquaplanet/ --aqua_names AndKua_aqua_SPCAM3.0.cam2.h1.0000-01-0* --out_dir /local/S.Rasp/cbrain_data/ --out_pref train_sample\n",
       "\n",
       "    In directory: /home/s/S.Rasp/repositories/CBRAIN/data_processing\n",
       "\n",
       "    Git hash: 2d1d86050a1ee30c372ec7f998885a200958d035\n",
       "\n",
       "        \n",
       "    dimensions(sizes): lev(87), sample(3530752)\n",
       "    variables(dimensions): int64 \u001b[4mlev\u001b[0m(lev), int64 \u001b[4mtime\u001b[0m(sample), float64 \u001b[4mlat\u001b[0m(sample), float64 \u001b[4mlon\u001b[0m(sample), float32 \u001b[4mfeatures\u001b[0m(sample,lev)\n",
       "    groups: "
      ]
     },
     "execution_count": 4,
     "metadata": {},
     "output_type": "execute_result"
    }
   ],
   "source": [
    "rg"
   ]
  },
  {
   "cell_type": "code",
   "execution_count": 17,
   "metadata": {},
   "outputs": [
    {
     "data": {
      "text/plain": [
       "array([2533385, 2250189, 2134860, 2457033,  458181])"
      ]
     },
     "execution_count": 17,
     "metadata": {},
     "output_type": "execute_result"
    }
   ],
   "source": [
    "rand_idxs = np.arange(rg.dimensions['sample'].size)\n",
    "np.random.shuffle(rand_idxs)\n",
    "rand_idxs[:5]"
   ]
  },
  {
   "cell_type": "code",
   "execution_count": 16,
   "metadata": {},
   "outputs": [
    {
     "ename": "OSError",
     "evalue": "Permission denied",
     "output_type": "error",
     "traceback": [
      "\u001b[0;31m---------------------------------------------------------------------------\u001b[0m",
      "\u001b[0;31mOSError\u001b[0m                                   Traceback (most recent call last)",
      "\u001b[0;32m<ipython-input-16-4e9a1acd13f6>\u001b[0m in \u001b[0;36m<module>\u001b[0;34m()\u001b[0m\n\u001b[1;32m      1\u001b[0m \u001b[0;31m# Create an equivalent file\u001b[0m\u001b[0;34m\u001b[0m\u001b[0;34m\u001b[0m\u001b[0m\n\u001b[0;32m----> 2\u001b[0;31m \u001b[0mrg_shuffle\u001b[0m \u001b[0;34m=\u001b[0m \u001b[0mnc\u001b[0m\u001b[0;34m.\u001b[0m\u001b[0mDataset\u001b[0m\u001b[0;34m(\u001b[0m\u001b[0;34m'/local/S.Rasp/cbrain_data/train_sample_shuffle_features.nc'\u001b[0m\u001b[0;34m,\u001b[0m \u001b[0;34m'w'\u001b[0m\u001b[0;34m)\u001b[0m\u001b[0;34m\u001b[0m\u001b[0m\n\u001b[0m",
      "\u001b[0;32mnetCDF4/_netCDF4.pyx\u001b[0m in \u001b[0;36mnetCDF4._netCDF4.Dataset.__init__ (netCDF4/_netCDF4.c:13231)\u001b[0;34m()\u001b[0m\n",
      "\u001b[0;31mOSError\u001b[0m: Permission denied"
     ]
    }
   ],
   "source": [
    "# Create an equivalent file \n",
    "rg_shuffle = nc.Dataset('/local/S.Rasp/cbrain_data/train_sample_shuffle_features.nc', 'w')"
   ]
  },
  {
   "cell_type": "code",
   "execution_count": 7,
   "metadata": {},
   "outputs": [
    {
     "name": "stdout",
     "output_type": "stream",
     "text": [
      "lev\n",
      "sample\n"
     ]
    },
    {
     "data": {
      "text/plain": [
       "<class 'netCDF4._netCDF4.Dataset'>\n",
       "root group (NETCDF4 data model, file format HDF5):\n",
       "    dimensions(sizes): lev(87), sample(3530752)\n",
       "    variables(dimensions): \n",
       "    groups: "
      ]
     },
     "execution_count": 7,
     "metadata": {},
     "output_type": "execute_result"
    }
   ],
   "source": [
    "for dim_name, dim in rg.dimensions.items():\n",
    "    print(dim_name)\n",
    "    rg_shuffle.createDimension(dim_name, dim.size)\n",
    "rg_shuffle"
   ]
  },
  {
   "cell_type": "code",
   "execution_count": 8,
   "metadata": {},
   "outputs": [
    {
     "name": "stdout",
     "output_type": "stream",
     "text": [
      "lev\n",
      "time\n",
      "lat\n",
      "lon\n",
      "features\n"
     ]
    },
    {
     "data": {
      "text/plain": [
       "<class 'netCDF4._netCDF4.Dataset'>\n",
       "root group (NETCDF4 data model, file format HDF5):\n",
       "    dimensions(sizes): lev(87), sample(3530752)\n",
       "    variables(dimensions): int64 \u001b[4mlev\u001b[0m(lev), int64 \u001b[4mtime\u001b[0m(sample), float64 \u001b[4mlat\u001b[0m(sample), float64 \u001b[4mlon\u001b[0m(sample), float32 \u001b[4mfeatures\u001b[0m(sample,lev)\n",
       "    groups: "
      ]
     },
     "execution_count": 8,
     "metadata": {},
     "output_type": "execute_result"
    }
   ],
   "source": [
    "for var_name, var in rg.variables.items():\n",
    "    print(var_name)\n",
    "    rg_shuffle.createVariable(var_name, var.dtype, var.dimensions)\n",
    "    if var_name != 'features':\n",
    "        rg_shuffle.variables[var_name][:] = var[:]\n",
    "rg_shuffle"
   ]
  },
  {
   "cell_type": "code",
   "execution_count": 18,
   "metadata": {},
   "outputs": [
    {
     "name": "stderr",
     "output_type": "stream",
     "text": [
      "\n",
      "  0%|          | 0/3530752 [00:00<?, ?it/s]\u001b[A\n",
      "  0%|          | 102/3530752 [00:00<58:02, 1013.93it/s]\u001b[A\n",
      "  0%|          | 202/3530752 [00:00<58:22, 1008.07it/s]\u001b[A\n",
      "  0%|          | 305/3530752 [00:00<58:05, 1012.85it/s]\u001b[A\n",
      "  0%|          | 408/3530752 [00:00<57:51, 1016.94it/s]\u001b[A\n",
      "  0%|          | 510/3530752 [00:00<57:49, 1017.58it/s]\u001b[A\n",
      "  0%|          | 612/3530752 [00:00<57:47, 1018.12it/s]\u001b[A\n",
      "  0%|          | 713/3530752 [00:00<57:55, 1015.57it/s]\u001b[A\n",
      "  0%|          | 815/3530752 [00:00<58:01, 1013.91it/s]\u001b[A\n",
      "  0%|          | 917/3530752 [00:00<58:14, 1009.98it/s]\u001b[A\n",
      "  0%|          | 1018/3530752 [00:01<58:25, 1006.85it/s]\u001b[A\n",
      "  0%|          | 1121/3530752 [00:01<58:18, 1008.92it/s]\u001b[A\n",
      "  0%|          | 1223/3530752 [00:01<58:10, 1011.29it/s]\u001b[A\n",
      "  0%|          | 1326/3530752 [00:01<58:10, 1011.18it/s]\u001b[A\n",
      "  0%|          | 1427/3530752 [00:01<1:05:20, 900.32it/s]\u001b[A\n",
      "  0%|          | 1519/3530752 [00:01<1:07:55, 865.94it/s]\u001b[A\n",
      "  0%|          | 1621/3530752 [00:01<1:04:56, 905.68it/s]\u001b[A\n",
      "  0%|          | 1725/3530752 [00:01<1:02:48, 936.48it/s]\u001b[A\n",
      "  0%|          | 9515/3530752 [00:09<1:00:44, 966.25it/s]"
     ]
    },
    {
     "ename": "KeyboardInterrupt",
     "evalue": "",
     "output_type": "error",
     "traceback": [
      "\u001b[0;31m---------------------------------------------------------------------------\u001b[0m",
      "\u001b[0;31mKeyboardInterrupt\u001b[0m                         Traceback (most recent call last)",
      "\u001b[0;32m<ipython-input-18-71073b550d43>\u001b[0m in \u001b[0;36m<module>\u001b[0;34m()\u001b[0m\n\u001b[1;32m      3\u001b[0m \u001b[0;32mfor\u001b[0m \u001b[0mi\u001b[0m \u001b[0;32min\u001b[0m \u001b[0mtqdm\u001b[0m\u001b[0;34m(\u001b[0m\u001b[0mrange\u001b[0m\u001b[0;34m(\u001b[0m\u001b[0mrg\u001b[0m\u001b[0;34m.\u001b[0m\u001b[0mdimensions\u001b[0m\u001b[0;34m[\u001b[0m\u001b[0;34m'sample'\u001b[0m\u001b[0;34m]\u001b[0m\u001b[0;34m.\u001b[0m\u001b[0msize\u001b[0m\u001b[0;34m)\u001b[0m\u001b[0;34m)\u001b[0m\u001b[0;34m:\u001b[0m\u001b[0;34m\u001b[0m\u001b[0m\n\u001b[1;32m      4\u001b[0m     \u001b[0mi_rand\u001b[0m \u001b[0;34m=\u001b[0m \u001b[0mrand_idxs\u001b[0m\u001b[0;34m[\u001b[0m\u001b[0mi\u001b[0m\u001b[0;34m]\u001b[0m\u001b[0;34m\u001b[0m\u001b[0m\n\u001b[0;32m----> 5\u001b[0;31m     \u001b[0mrg_shuffle\u001b[0m\u001b[0;34m.\u001b[0m\u001b[0mvariables\u001b[0m\u001b[0;34m[\u001b[0m\u001b[0;34m'features'\u001b[0m\u001b[0;34m]\u001b[0m\u001b[0;34m[\u001b[0m\u001b[0mi_rand\u001b[0m\u001b[0;34m]\u001b[0m \u001b[0;34m=\u001b[0m \u001b[0mrg\u001b[0m\u001b[0;34m.\u001b[0m\u001b[0mvariables\u001b[0m\u001b[0;34m[\u001b[0m\u001b[0;34m'features'\u001b[0m\u001b[0;34m]\u001b[0m\u001b[0;34m[\u001b[0m\u001b[0mi\u001b[0m\u001b[0;34m]\u001b[0m\u001b[0;34m\u001b[0m\u001b[0m\n\u001b[0m",
      "\u001b[0;32mnetCDF4/_netCDF4.pyx\u001b[0m in \u001b[0;36mnetCDF4._netCDF4.Variable.__setitem__ (netCDF4/_netCDF4.c:45870)\u001b[0;34m()\u001b[0m\n",
      "\u001b[0;32m~/.conda/envs/cbrain_gpu/lib/python3.6/site-packages/numpy/ma/core.py\u001b[0m in \u001b[0;36misMaskedArray\u001b[0;34m(x)\u001b[0m\n\u001b[1;32m   6190\u001b[0m \u001b[0;34m\u001b[0m\u001b[0m\n\u001b[1;32m   6191\u001b[0m \u001b[0;34m\u001b[0m\u001b[0m\n\u001b[0;32m-> 6192\u001b[0;31m \u001b[0;32mdef\u001b[0m \u001b[0misMaskedArray\u001b[0m\u001b[0;34m(\u001b[0m\u001b[0mx\u001b[0m\u001b[0;34m)\u001b[0m\u001b[0;34m:\u001b[0m\u001b[0;34m\u001b[0m\u001b[0m\n\u001b[0m\u001b[1;32m   6193\u001b[0m     \"\"\"\n\u001b[1;32m   6194\u001b[0m     \u001b[0mTest\u001b[0m \u001b[0mwhether\u001b[0m \u001b[0minput\u001b[0m \u001b[0;32mis\u001b[0m \u001b[0man\u001b[0m \u001b[0minstance\u001b[0m \u001b[0mof\u001b[0m \u001b[0mMaskedArray\u001b[0m\u001b[0;34m.\u001b[0m\u001b[0;34m\u001b[0m\u001b[0m\n",
      "\u001b[0;31mKeyboardInterrupt\u001b[0m: "
     ]
    },
    {
     "name": "stderr",
     "output_type": "stream",
     "text": [
      "\r",
      "          \r",
      "  0%|          | 9515/3530752 [00:21<2:14:32, 436.18it/s]"
     ]
    }
   ],
   "source": [
    "# Shuffle\n",
    "from tqdm import tqdm\n",
    "for i in tqdm(range(rg.dimensions['sample'].size)):\n",
    "    i_rand = rand_idxs[i]\n",
    "    rg_shuffle.variables['features'][i] = rg.variables['features'][i_rand]"
   ]
  },
  {
   "cell_type": "markdown",
   "metadata": {},
   "source": [
    "## Old stuff below"
   ]
  },
  {
   "cell_type": "code",
   "execution_count": 4,
   "metadata": {},
   "outputs": [
    {
     "data": {
      "text/plain": [
       "<class 'netCDF4._netCDF4.Dataset'>\n",
       "root group (NETCDF3_CLASSIC data model, file format NETCDF3):\n",
       "    Conventions: CF-1.0\n",
       "    source: CAM\n",
       "    case: AndKua_aqua_SPCAM3.0\n",
       "    title: \n",
       "    logname: tg802402\n",
       "    host: c532-003.stamped\n",
       "    Version: $Name:  $\n",
       "    revision_Id: $Id: history.F90,v 1.26.2.38 2003/12/15 18:52:35 hender Exp $\n",
       "    dimensions(sizes): lat(64), lon(128), lev(30), ilev(31), isccp_prs(7), isccp_tau(7), isccp_prstau(49), time(48), tbnd(2), chars(8), crm_x(32), crm_y(1), crm_z(28)\n",
       "    variables(dimensions): float64 \u001b[4mP0\u001b[0m(), float64 \u001b[4mlat\u001b[0m(lat), float64 \u001b[4mlon\u001b[0m(lon), float64 \u001b[4mcrm_x\u001b[0m(crm_x), float64 \u001b[4mcrm_y\u001b[0m(crm_y), float64 \u001b[4mcrm_z\u001b[0m(crm_z), float64 \u001b[4mlev\u001b[0m(lev), float64 \u001b[4milev\u001b[0m(ilev), float64 \u001b[4misccp_prs\u001b[0m(isccp_prs), float64 \u001b[4misccp_tau\u001b[0m(isccp_ta), float64 \u001b[4misccp_prstau\u001b[0m(isccp_prsta), float64 \u001b[4mtime\u001b[0m(time), float64 \u001b[4mtime_bnds\u001b[0m(time,tbnd), |S1 \u001b[4mdate_written\u001b[0m(time,chars), |S1 \u001b[4mtime_written\u001b[0m(time,chars), int32 \u001b[4mntrm\u001b[0m(), int32 \u001b[4mntrn\u001b[0m(), int32 \u001b[4mntrk\u001b[0m(), int32 \u001b[4mndbase\u001b[0m(), int32 \u001b[4mnsbase\u001b[0m(), int32 \u001b[4mnbdate\u001b[0m(), int32 \u001b[4mnbsec\u001b[0m(), int32 \u001b[4mmdt\u001b[0m(), int32 \u001b[4mnlon\u001b[0m(lat), int32 \u001b[4mwnummax\u001b[0m(lat), float64 \u001b[4mhyai\u001b[0m(ilev), float64 \u001b[4mhybi\u001b[0m(ilev), float64 \u001b[4mhyam\u001b[0m(lev), float64 \u001b[4mhybm\u001b[0m(lev), float64 \u001b[4mgw\u001b[0m(lat), int32 \u001b[4mndcur\u001b[0m(time), int32 \u001b[4mnscur\u001b[0m(time), int32 \u001b[4mdate\u001b[0m(time), int32 \u001b[4mdatesec\u001b[0m(time), int32 \u001b[4mnsteph\u001b[0m(time), float32 \u001b[4mCLDTOT\u001b[0m(time,lat,lon), float32 \u001b[4mCLOUD\u001b[0m(time,lev,lat,lon), float32 \u001b[4mFLUT\u001b[0m(time,lat,lon), float32 \u001b[4mLHFLX\u001b[0m(time,lat,lon), float32 \u001b[4mOMEGA\u001b[0m(time,lev,lat,lon), float32 \u001b[4mPHQ\u001b[0m(time,lev,lat,lon), float32 \u001b[4mPRECT\u001b[0m(time,lat,lon), float32 \u001b[4mPS\u001b[0m(time,lat,lon), float32 \u001b[4mQAP\u001b[0m(time,lev,lat,lon), float32 \u001b[4mQBSP\u001b[0m(time,lev,lat,lon), float32 \u001b[4mQCBSP\u001b[0m(time,lev,lat,lon), float32 \u001b[4mQIBSP\u001b[0m(time,lev,lat,lon), float32 \u001b[4mQRL\u001b[0m(time,lev,lat,lon), float32 \u001b[4mQRS\u001b[0m(time,lev,lat,lon), float32 \u001b[4mSHFLX\u001b[0m(time,lat,lon), float32 \u001b[4mSPDQ\u001b[0m(time,lev,lat,lon), float32 \u001b[4mSPDQC\u001b[0m(time,lev,lat,lon), float32 \u001b[4mSPDQI\u001b[0m(time,lev,lat,lon), float32 \u001b[4mSPDT\u001b[0m(time,lev,lat,lon), float32 \u001b[4mSPMC\u001b[0m(time,lev,lat,lon), float32 \u001b[4mSPMCDN\u001b[0m(time,lev,lat,lon), float32 \u001b[4mSPMCUDN\u001b[0m(time,lev,lat,lon), float32 \u001b[4mSPMCUP\u001b[0m(time,lev,lat,lon), float32 \u001b[4mSPMCUUP\u001b[0m(time,lev,lat,lon), float32 \u001b[4mSPQC\u001b[0m(time,lev,lat,lon), float32 \u001b[4mSPQG\u001b[0m(time,lev,lat,lon), float32 \u001b[4mSPQI\u001b[0m(time,lev,lat,lon), float32 \u001b[4mSPQR\u001b[0m(time,lev,lat,lon), float32 \u001b[4mSPQS\u001b[0m(time,lev,lat,lon), float32 \u001b[4mTAP\u001b[0m(time,lev,lat,lon), float32 \u001b[4mTBSP\u001b[0m(time,lev,lat,lon), float32 \u001b[4mTPHYSTND\u001b[0m(time,lev,lat,lon), float32 \u001b[4mUBSP\u001b[0m(time,lev,lat,lon), float32 \u001b[4mVBSP\u001b[0m(time,lev,lat,lon), float32 \u001b[4mZ3\u001b[0m(time,lev,lat,lon)\n",
       "    groups: "
      ]
     },
     "execution_count": 4,
     "metadata": {},
     "output_type": "execute_result"
    }
   ],
   "source": [
    "rg = nc.Dataset(data_dir + 'AndKua_aqua_SPCAM3.0.cam2.h1.0000-01-01-00000.nc')\n",
    "rg"
   ]
  },
  {
   "cell_type": "code",
   "execution_count": 5,
   "metadata": {},
   "outputs": [
    {
     "data": {
      "text/plain": [
       "'T after physics'"
      ]
     },
     "execution_count": 5,
     "metadata": {},
     "output_type": "execute_result"
    }
   ],
   "source": [
    "rg.variables['TAP'].long_name"
   ]
  },
  {
   "cell_type": "code",
   "execution_count": 9,
   "metadata": {},
   "outputs": [
    {
     "name": "stdout",
     "output_type": "stream",
     "text": [
      "P0\n",
      "reference pressure\n",
      "lat\n",
      "latitude\n",
      "lon\n",
      "longitude\n",
      "crm_x\n",
      "crm horiz. distance in x\n",
      "crm_y\n",
      "crm horiz. distance in y\n",
      "crm_z\n",
      "crm nominal pressure levels\n",
      "lev\n",
      "hybrid level at midpoints (1000*(A+B))\n",
      "ilev\n",
      "hybrid level at interfaces (1000*(A+B))\n",
      "isccp_prs\n",
      "Mean ISCCP pressure\n",
      "isccp_tau\n",
      "Mean ISCCP optical depth\n",
      "isccp_prstau\n",
      "Mean pressure (mb).mean optical depth (unitless)/1000\n",
      "time\n",
      "time\n",
      "time_bnds\n",
      "time interval endpoints\n",
      "date_written\n",
      "No long name.\n",
      "time_written\n",
      "No long name.\n",
      "ntrm\n",
      "spectral truncation parameter M\n",
      "ntrn\n",
      "spectral truncation parameter N\n",
      "ntrk\n",
      "spectral truncation parameter K\n",
      "ndbase\n",
      "base day\n",
      "nsbase\n",
      "seconds of base day\n",
      "nbdate\n",
      "base date (YYYYMMDD)\n",
      "nbsec\n",
      "seconds of base date\n",
      "mdt\n",
      "timestep\n",
      "nlon\n",
      "number of longitudes\n",
      "wnummax\n",
      "cutoff Fourier wavenumber\n",
      "hyai\n",
      "hybrid A coefficient at layer interfaces\n",
      "hybi\n",
      "hybrid B coefficient at layer interfaces\n",
      "hyam\n",
      "hybrid A coefficient at layer midpoints\n",
      "hybm\n",
      "hybrid B coefficient at layer midpoints\n",
      "gw\n",
      "gauss weights\n",
      "ndcur\n",
      "current day (from base day)\n",
      "nscur\n",
      "current seconds of current day\n",
      "date\n",
      "current date (YYYYMMDD)\n",
      "datesec\n",
      "current seconds of current date\n",
      "nsteph\n",
      "current timestep\n",
      "CLDTOT\n",
      "Vertically-integrated total cloud if lwp>0.02 kg/m2\n",
      "CLOUD\n",
      "Cloud fraction\n",
      "FLUT\n",
      "Upwelling longwave flux at top of model\n",
      "LHFLX\n",
      "Surface latent heat flux\n",
      "OMEGA\n",
      "Vertical velocity (pressure)\n",
      "PHQ\n",
      "Specific humidity physics tendency\n",
      "PRECT\n",
      "Total (convective and large-scale) precipitation rate\n",
      "PS\n",
      "Surface pressure\n",
      "QAP\n",
      "Q after physics\n",
      "QBSP\n",
      "GCM Q before SP\n",
      "QCBSP\n",
      "GCM QC before SP\n",
      "QIBSP\n",
      "GCM QI before SP\n",
      "QRL\n",
      "Longwave heating rate\n",
      "QRS\n",
      "Solar heating rate\n",
      "SHFLX\n",
      "Surface sensible heat flux\n",
      "SPDQ\n",
      "Q tendency due to CRM\n",
      "SPDQC\n",
      "QC tendency due to CRM\n",
      "SPDQI\n",
      "QI tendency due to CRM\n",
      "SPDT\n",
      "T tendency due to CRM\n",
      "SPMC\n",
      "Total mass flux from CRM\n",
      "SPMCDN\n",
      "Downdraft mass flux from CRM\n",
      "SPMCUDN\n",
      "Unsaturated downdraft mass flux from CRM\n",
      "SPMCUP\n",
      "Updraft mass flux from CRM\n",
      "SPMCUUP\n",
      "Unsaturated updraft mass flux from CRM\n",
      "SPQC\n",
      "Cloud water from CRM\n",
      "SPQG\n",
      "Graupel from CRM\n",
      "SPQI\n",
      "Cloud ice from CRM\n",
      "SPQR\n",
      "Rain from CRM\n",
      "SPQS\n",
      "Snow from CRM\n",
      "TAP\n",
      "T after physics\n",
      "TBSP\n",
      "GCM T before SP\n",
      "TPHYSTND\n",
      "T physics tendency\n",
      "UBSP\n",
      "GCM U before SP\n",
      "VBSP\n",
      "GCM V before SP\n",
      "Z3\n",
      "Geopotential Height (above sea level)\n"
     ]
    }
   ],
   "source": [
    "for vn, v in rg.variables.items():\n",
    "    print(vn)\n",
    "    try:\n",
    "        print(v.long_name)\n",
    "    except:\n",
    "        print('No long name.')"
   ]
  },
  {
   "cell_type": "code",
   "execution_count": 70,
   "metadata": {},
   "outputs": [
    {
     "data": {
      "text/plain": [
       "30"
      ]
     },
     "execution_count": 70,
     "metadata": {},
     "output_type": "execute_result"
    }
   ],
   "source": [
    "rg.dimensions['lev'].size"
   ]
  },
  {
   "cell_type": "code",
   "execution_count": 10,
   "metadata": {
    "collapsed": true
   },
   "outputs": [],
   "source": [
    "QRS = rg.variables['QRS'][:]"
   ]
  },
  {
   "cell_type": "code",
   "execution_count": 11,
   "metadata": {},
   "outputs": [
    {
     "data": {
      "text/plain": [
       "(48, 30, 64, 128)"
      ]
     },
     "execution_count": 11,
     "metadata": {},
     "output_type": "execute_result"
    }
   ],
   "source": [
    "QRS.shape"
   ]
  },
  {
   "cell_type": "code",
   "execution_count": 21,
   "metadata": {},
   "outputs": [
    {
     "data": {
      "text/plain": [
       "<matplotlib.image.AxesImage at 0x7f96ac393668>"
      ]
     },
     "execution_count": 21,
     "metadata": {},
     "output_type": "execute_result"
    },
    {
     "data": {
      "image/png": "[encoded data removed]",
      "text/plain": [
       "<matplotlib.figure.Figure at 0x7f96bbc46358>"
      ]
     },
     "metadata": {},
     "output_type": "display_data"
    }
   ],
   "source": [
    "plt.imshow(rg.variables['CLDTOT'][1, :, :])"
   ]
  },
  {
   "cell_type": "code",
   "execution_count": 25,
   "metadata": {},
   "outputs": [
    {
     "data": {
      "text/plain": [
       "<matplotlib.colorbar.Colorbar at 0x7f96ac187ba8>"
      ]
     },
     "execution_count": 25,
     "metadata": {},
     "output_type": "execute_result"
    },
    {
     "data": {
      "image/png": "[encoded data removed]",
      "text/plain": [
       "<matplotlib.figure.Figure at 0x7f96ac1677f0>"
      ]
     },
     "metadata": {},
     "output_type": "display_data"
    }
   ],
   "source": [
    "plt.imshow(QRS[1, 0, :, :])\n",
    "plt.colorbar()"
   ]
  },
  {
   "cell_type": "code",
   "execution_count": 57,
   "metadata": {},
   "outputs": [
    {
     "data": {
      "text/plain": [
       "<class 'netCDF4._netCDF4.Variable'>\n",
       "float32 PHQ(time, lev, lat, lon)\n",
       "    units: kg/kg/s\n",
       "    long_name: Specific humidity physics tendency\n",
       "    cell_method: time: mean\n",
       "unlimited dimensions: time\n",
       "current shape = (48, 30, 64, 128)\n",
       "filling off"
      ]
     },
     "execution_count": 57,
     "metadata": {},
     "output_type": "execute_result"
    }
   ],
   "source": [
    "rg.variables['PHQ']"
   ]
  },
  {
   "cell_type": "code",
   "execution_count": null,
   "metadata": {
    "collapsed": true
   },
   "outputs": [],
   "source": []
  },
  {
   "cell_type": "code",
   "execution_count": 55,
   "metadata": {},
   "outputs": [
    {
     "data": {
      "text/plain": [
       "(48, 30, 64, 128)"
      ]
     },
     "execution_count": 55,
     "metadata": {},
     "output_type": "execute_result"
    }
   ],
   "source": [
    "time = rg.variables['TAP']\n",
    "time.shape"
   ]
  },
  {
   "cell_type": "code",
   "execution_count": 5,
   "metadata": {},
   "outputs": [
    {
     "data": {
      "text/plain": [
       "array([ 0.        ,  0.02083333,  0.04166667,  0.0625    ,  0.08333333,\n",
       "        0.10416667,  0.125     ,  0.14583333,  0.16666667,  0.1875    ,\n",
       "        0.20833333,  0.22916667,  0.25      ,  0.27083333,  0.29166667,\n",
       "        0.3125    ,  0.33333333,  0.35416667,  0.375     ,  0.39583333,\n",
       "        0.41666667,  0.4375    ,  0.45833333,  0.47916667,  0.5       ,\n",
       "        0.52083333,  0.54166667,  0.5625    ,  0.58333333,  0.60416667,\n",
       "        0.625     ,  0.64583333,  0.66666667,  0.6875    ,  0.70833333,\n",
       "        0.72916667,  0.75      ,  0.77083333,  0.79166667,  0.8125    ,\n",
       "        0.83333333,  0.85416667,  0.875     ,  0.89583333,  0.91666667,\n",
       "        0.9375    ,  0.95833333,  0.97916667])"
      ]
     },
     "execution_count": 5,
     "metadata": {},
     "output_type": "execute_result"
    }
   ],
   "source": [
    "time[:]"
   ]
  },
  {
   "cell_type": "code",
   "execution_count": 6,
   "metadata": {
    "collapsed": true
   },
   "outputs": [],
   "source": [
    "lats = rg.variables['lat'][:]"
   ]
  },
  {
   "cell_type": "code",
   "execution_count": 34,
   "metadata": {},
   "outputs": [
    {
     "data": {
      "text/plain": [
       "(64,)"
      ]
     },
     "execution_count": 34,
     "metadata": {},
     "output_type": "execute_result"
    }
   ],
   "source": [
    "lats.shape"
   ]
  },
  {
   "cell_type": "code",
   "execution_count": 46,
   "metadata": {},
   "outputs": [
    {
     "data": {
      "text/plain": [
       "(1, 64, 1)"
      ]
     },
     "execution_count": 46,
     "metadata": {},
     "output_type": "execute_result"
    }
   ],
   "source": [
    "e = lats.reshape((1, 64, 1))\n",
    "e.shape"
   ]
  },
  {
   "cell_type": "code",
   "execution_count": 47,
   "metadata": {
    "collapsed": true
   },
   "outputs": [],
   "source": [
    "e = np.repeat(e, 5, axis=0)"
   ]
  },
  {
   "cell_type": "code",
   "execution_count": 48,
   "metadata": {},
   "outputs": [
    {
     "data": {
      "text/plain": [
       "(5, 64, 1)"
      ]
     },
     "execution_count": 48,
     "metadata": {},
     "output_type": "execute_result"
    }
   ],
   "source": [
    "e.shape"
   ]
  },
  {
   "cell_type": "code",
   "execution_count": 49,
   "metadata": {},
   "outputs": [
    {
     "data": {
      "text/plain": [
       "(5, 64, 10)"
      ]
     },
     "execution_count": 49,
     "metadata": {},
     "output_type": "execute_result"
    }
   ],
   "source": [
    "e = np.repeat(e, 10, axis=2)\n",
    "e.shape"
   ]
  },
  {
   "cell_type": "code",
   "execution_count": 52,
   "metadata": {},
   "outputs": [
    {
     "data": {
      "text/plain": [
       "array([-87.86379884, -87.86379884, -87.86379884, -87.86379884,\n",
       "       -87.86379884, -87.86379884, -87.86379884, -87.86379884,\n",
       "       -87.86379884, -87.86379884])"
      ]
     },
     "execution_count": 52,
     "metadata": {},
     "output_type": "execute_result"
    }
   ],
   "source": [
    "e[0, 0, :]"
   ]
  },
  {
   "cell_type": "code",
   "execution_count": 37,
   "metadata": {},
   "outputs": [
    {
     "data": {
      "text/plain": [
       "(3200,)"
      ]
     },
     "execution_count": 37,
     "metadata": {},
     "output_type": "execute_result"
    }
   ],
   "source": [
    "c = np.repeat(lats, 5 * 10)\n",
    "c.shape"
   ]
  },
  {
   "cell_type": "code",
   "execution_count": null,
   "metadata": {
    "collapsed": true
   },
   "outputs": [],
   "source": []
  },
  {
   "cell_type": "code",
   "execution_count": 43,
   "metadata": {
    "collapsed": true
   },
   "outputs": [],
   "source": [
    "d = c.reshape((5, 64, 10))"
   ]
  },
  {
   "cell_type": "code",
   "execution_count": 44,
   "metadata": {},
   "outputs": [
    {
     "data": {
      "text/plain": [
       "(5, 64, 10)"
      ]
     },
     "execution_count": 44,
     "metadata": {},
     "output_type": "execute_result"
    }
   ],
   "source": [
    "d.shape"
   ]
  },
  {
   "cell_type": "code",
   "execution_count": 45,
   "metadata": {},
   "outputs": [
    {
     "data": {
      "text/plain": [
       "array([-87.86379884, -87.86379884, -87.86379884, -87.86379884,\n",
       "       -87.86379884, -85.09652699, -85.09652699, -85.09652699,\n",
       "       -85.09652699, -85.09652699, -82.31291295, -82.31291295,\n",
       "       -82.31291295, -82.31291295, -82.31291295, -79.52560657,\n",
       "       -79.52560657, -79.52560657, -79.52560657, -79.52560657,\n",
       "       -76.73689968, -76.73689968, -76.73689968, -76.73689968,\n",
       "       -76.73689968, -73.94751515, -73.94751515, -73.94751515,\n",
       "       -73.94751515, -73.94751515, -71.15775201, -71.15775201,\n",
       "       -71.15775201, -71.15775201, -71.15775201, -68.36775611,\n",
       "       -68.36775611, -68.36775611, -68.36775611, -68.36775611,\n",
       "       -65.57760701, -65.57760701, -65.57760701, -65.57760701,\n",
       "       -65.57760701, -62.7873518 , -62.7873518 , -62.7873518 ,\n",
       "       -62.7873518 , -62.7873518 , -59.99702011, -59.99702011,\n",
       "       -59.99702011, -59.99702011, -59.99702011, -57.20663153,\n",
       "       -57.20663153, -57.20663153, -57.20663153, -57.20663153,\n",
       "       -54.41619953, -54.41619953, -54.41619953, -54.41619953])"
      ]
     },
     "execution_count": 45,
     "metadata": {},
     "output_type": "execute_result"
    }
   ],
   "source": [
    "d[0,:,0]"
   ]
  },
  {
   "cell_type": "code",
   "execution_count": 7,
   "metadata": {},
   "outputs": [
    {
     "data": {
      "text/plain": [
       "array([ True,  True,  True,  True,  True,  True,  True,  True,  True,\n",
       "        True,  True,  True,  True,  True,  True,  True,  True,  True,\n",
       "        True,  True,  True,  True,  True,  True,  True,  True,  True,\n",
       "        True,  True,  True,  True,  True,  True,  True,  True,  True,\n",
       "        True,  True,  True,  True,  True,  True,  True,  True,  True,\n",
       "        True,  True,  True,  True,  True,  True,  True,  True,  True,\n",
       "        True,  True,  True,  True,  True,  True,  True,  True,  True,  True], dtype=bool)"
      ]
     },
     "execution_count": 7,
     "metadata": {},
     "output_type": "execute_result"
    }
   ],
   "source": [
    "cond = (lats > -90) & (lats < 90)\n",
    "cond"
   ]
  },
  {
   "cell_type": "code",
   "execution_count": 8,
   "metadata": {
    "collapsed": true
   },
   "outputs": [],
   "source": [
    "import numpy as np"
   ]
  },
  {
   "cell_type": "code",
   "execution_count": 9,
   "metadata": {
    "collapsed": true
   },
   "outputs": [],
   "source": [
    "lat_idxs = np.where((lats > -90) & (lats < 90))"
   ]
  },
  {
   "cell_type": "code",
   "execution_count": 10,
   "metadata": {},
   "outputs": [
    {
     "data": {
      "text/plain": [
       "(array([ 0,  1,  2,  3,  4,  5,  6,  7,  8,  9, 10, 11, 12, 13, 14, 15, 16,\n",
       "        17, 18, 19, 20, 21, 22, 23, 24, 25, 26, 27, 28, 29, 30, 31, 32, 33,\n",
       "        34, 35, 36, 37, 38, 39, 40, 41, 42, 43, 44, 45, 46, 47, 48, 49, 50,\n",
       "        51, 52, 53, 54, 55, 56, 57, 58, 59, 60, 61, 62, 63]),)"
      ]
     },
     "execution_count": 10,
     "metadata": {},
     "output_type": "execute_result"
    }
   ],
   "source": [
    "lat_idxs"
   ]
  },
  {
   "cell_type": "code",
   "execution_count": 11,
   "metadata": {
    "collapsed": true
   },
   "outputs": [],
   "source": [
    "tap = rg.variables['TAP']"
   ]
  },
  {
   "cell_type": "code",
   "execution_count": 29,
   "metadata": {},
   "outputs": [
    {
     "data": {
      "text/plain": [
       "False"
      ]
     },
     "execution_count": 29,
     "metadata": {},
     "output_type": "execute_result"
    }
   ],
   "source": [
    "'LAT' in rg.variables.keys()"
   ]
  },
  {
   "cell_type": "code",
   "execution_count": 12,
   "metadata": {},
   "outputs": [
    {
     "data": {
      "text/plain": [
       "('time', 'lev', 'lat', 'lon')"
      ]
     },
     "execution_count": 12,
     "metadata": {},
     "output_type": "execute_result"
    }
   ],
   "source": [
    "tap.dimensions"
   ]
  },
  {
   "cell_type": "code",
   "execution_count": 15,
   "metadata": {},
   "outputs": [
    {
     "data": {
      "text/plain": [
       "array([[[[[ 246.80204773,  246.79644775,  246.79115295, ...,  246.81835938,\n",
       "            246.81265259,  246.80718994],\n",
       "          [ 246.8709259 ,  246.86141968,  246.85159302, ...,  246.89523315,\n",
       "            246.88807678,  246.87986755],\n",
       "          [ 246.9909668 ,  246.96942139,  246.94703674, ...,  247.04100037,\n",
       "            247.02748108,  247.01074219],\n",
       "          ..., \n",
       "          [ 167.77011108,  167.75193787,  167.73597717, ...,  167.84043884,\n",
       "            167.81425476,  167.79090881],\n",
       "          [ 167.94969177,  167.94126892,  167.93696594, ...,  167.99821472,\n",
       "            167.97850037,  167.96220398],\n",
       "          [ 168.68197632,  168.68193054,  168.68389893, ...,  168.69444275,\n",
       "            168.6882782 ,  168.68406677]]],\n",
       "\n",
       "\n",
       "        [[[ 233.19773865,  233.19470215,  233.19039917, ...,  233.19779968,\n",
       "            233.19889832,  233.1988678 ],\n",
       "          [ 233.290802  ,  233.29478455,  233.29711914, ...,  233.27140808,\n",
       "            233.27894592,  233.28540039],\n",
       "          [ 233.34965515,  233.37680054,  233.40240479, ...,  233.29122925,\n",
       "            233.30415344,  233.32453918],\n",
       "          ..., \n",
       "          [ 169.05914307,  169.0296936 ,  169.01121521, ...,  169.20411682,\n",
       "            169.14802551,  169.09941101],\n",
       "          [ 169.48126221,  169.47935486,  169.4848175 , ...,  169.53256226,\n",
       "            169.50865173,  169.49130249],\n",
       "          [ 170.77658081,  170.78125   ,  170.78968811, ...,  170.7877655 ,\n",
       "            170.77998352,  170.77606201]]],\n",
       "\n",
       "\n",
       "        [[[ 217.78991699,  217.80696106,  217.82478333, ...,  217.74259949,\n",
       "            217.75737   ,  217.77314758],\n",
       "          [ 218.19470215,  218.21644592,  218.24002075, ...,  218.13394165,\n",
       "            218.15409851,  218.17410278],\n",
       "          [ 218.66381836,  218.67164612,  218.68132019, ...,  218.62335205,\n",
       "            218.64237976,  218.65507507],\n",
       "          ..., \n",
       "          [ 163.60638428,  163.57830811,  163.55526733, ...,  163.72850037,\n",
       "            163.68069458,  163.64035034],\n",
       "          [ 164.09693909,  164.07876587,  164.0662384 , ...,  164.18624878,\n",
       "            164.15077209,  164.12097168],\n",
       "          [ 165.15423584,  165.14816284,  165.14460754, ...,  165.18817139,\n",
       "            165.17425537,  165.16290283]]],\n",
       "\n",
       "\n",
       "        ..., \n",
       "        [[[ 271.17877197,  271.18154907,  271.18258667, ...,  271.16671753,\n",
       "            271.17370605,  271.17608643],\n",
       "          [ 271.12823486,  271.10540771,  271.08865356, ...,  271.15917969,\n",
       "            271.17810059,  271.15411377],\n",
       "          [ 271.1725769 ,  271.1678772 ,  271.16177368, ...,  271.10232544,\n",
       "            271.14138794,  271.16641235],\n",
       "          ..., \n",
       "          [ 271.62384033,  271.67752075,  271.72851562, ...,  271.44326782,\n",
       "            271.49996948,  271.56161499],\n",
       "          [ 271.84039307,  271.85461426,  271.88400269, ...,  271.79870605,\n",
       "            271.81616211,  271.8243103 ],\n",
       "          [ 271.98040771,  271.97503662,  271.96713257, ...,  271.99407959,\n",
       "            271.97924805,  271.99066162]]],\n",
       "\n",
       "\n",
       "        [[[ 272.48190308,  272.48382568,  272.48178101, ...,  272.47891235,\n",
       "            272.49105835,  272.49047852],\n",
       "          [ 272.53274536,  272.52145386,  272.51409912, ...,  272.57720947,\n",
       "            272.56274414,  272.54736328],\n",
       "          [ 272.57513428,  272.56759644,  272.54714966, ...,  272.55654907,\n",
       "            272.57211304,  272.57818604],\n",
       "          ..., \n",
       "          [ 273.09597778,  273.14526367,  273.19049072, ...,  272.92965698,\n",
       "            272.98251343,  273.03942871],\n",
       "          [ 273.33200073,  273.3453064 ,  273.36361694, ...,  273.28213501,\n",
       "            273.29846191,  273.31552124],\n",
       "          [ 273.45721436,  273.45291138,  273.44714355, ...,  273.46630859,\n",
       "            273.45861816,  273.46530151]]],\n",
       "\n",
       "\n",
       "        [[[ 273.74246216,  273.74484253,  273.7460022 , ...,  273.73950195,\n",
       "            273.74429321,  273.74484253],\n",
       "          [ 273.80325317,  273.79458618,  273.78991699, ...,  273.84298706,\n",
       "            273.82870483,  273.81555176],\n",
       "          [ 273.83712769,  273.82980347,  273.81359863, ...,  273.82183838,\n",
       "            273.83532715,  273.84039307],\n",
       "          ..., \n",
       "          [ 274.38485718,  274.43008423,  274.47122192, ...,  274.23114014,\n",
       "            274.28048706,  274.33300781],\n",
       "          [ 274.62091064,  274.63357544,  274.64825439, ...,  274.57116699,\n",
       "            274.58670044,  274.60513306],\n",
       "          [ 274.73797607,  274.73425293,  274.72976685, ...,  274.74475098,\n",
       "            274.73989868,  274.74453735]]]],\n",
       "\n",
       "\n",
       "\n",
       "       [[[[ 246.77770996,  246.77253723,  246.7677002 , ...,  246.79391479,\n",
       "            246.78823853,  246.78282166],\n",
       "          [ 246.83813477,  246.83032227,  246.82182312, ...,  246.85629272,\n",
       "            246.85121155,  246.84510803],\n",
       "          [ 246.93026733,  246.90853882,  246.88717651, ...,  246.98580933,\n",
       "            246.96995544,  246.95118713],\n",
       "          ..., \n",
       "          [ 167.75323486,  167.73608398,  167.72149658, ...,  167.82208252,\n",
       "            167.79612732,  167.77322388],\n",
       "          [ 167.94914246,  167.94122314,  167.93745422, ...,  167.99656677,\n",
       "            167.97703552,  167.96113586],\n",
       "          [ 168.69325256,  168.69264221,  168.69415283, ...,  168.70704651,\n",
       "            168.70046997,  168.6958313 ]]],\n",
       "\n",
       "\n",
       "        [[[ 233.18296814,  233.18022156,  233.17630005, ...,  233.18347168,\n",
       "            233.18437195,  233.1842041 ],\n",
       "          [ 233.26382446,  233.26853943,  233.27160645, ...,  233.24377441,\n",
       "            233.25111389,  233.25785828],\n",
       "          [ 233.31765747,  233.34786987,  233.37591553, ...,  233.24862671,\n",
       "            233.26498413,  233.28894043],\n",
       "          ..., \n",
       "          [ 169.05065918,  169.01985168,  169.00019836, ...,  169.19955444,\n",
       "            169.14204407,  169.09199524],\n",
       "          [ 169.48051453,  169.47718811,  169.48164368, ...,  169.53590393,\n",
       "            169.51048279,  169.49180603],\n",
       "          [ 170.79182434,  170.79603577,  170.80436707, ...,  170.80419922,\n",
       "            170.79597473,  170.79174805]]],\n",
       "\n",
       "\n",
       "        [[[ 217.82688904,  217.84384155,  217.86154175, ...,  217.78067017,\n",
       "            217.79512024,  217.81054688],\n",
       "          [ 218.21713257,  218.23820496,  218.26112366, ...,  218.15925598,\n",
       "            218.17825317,  218.19732666],\n",
       "          [ 218.68777466,  218.69470215,  218.70367432, ...,  218.65014648,\n",
       "            218.66824341,  218.67993164],\n",
       "          ..., \n",
       "          [ 163.61750793,  163.58853149,  163.56451416, ...,  163.74240112,\n",
       "            163.69354248,  163.6522522 ],\n",
       "          [ 164.10412598,  164.08508301,  164.07180786, ...,  164.19607544,\n",
       "            164.15971375,  164.12902832],\n",
       "          [ 165.15553284,  165.14880371,  165.14477539, ...,  165.19132996,\n",
       "            165.17680359,  165.1648407 ]]],\n",
       "\n",
       "\n",
       "        ..., \n",
       "        [[[ 271.1362915 ,  271.14065552,  271.14450073, ...,  271.13415527,\n",
       "            271.12792969,  271.14181519],\n",
       "          [ 271.11218262,  271.08557129,  271.06591797, ...,  271.15783691,\n",
       "            271.15719604,  271.13546753],\n",
       "          [ 271.15219116,  271.14303589,  271.12136841, ...,  271.09695435,\n",
       "            271.1288147 ,  271.14794922],\n",
       "          ..., \n",
       "          [ 271.58688354,  271.63897705,  271.68557739, ...,  271.4230957 ,\n",
       "            271.48361206,  271.53137207],\n",
       "          [ 271.82696533,  271.8321228 ,  271.84191895, ...,  271.78027344,\n",
       "            271.80331421,  271.7833252 ],\n",
       "          [ 271.95019531,  271.931427  ,  271.9303894 , ...,  271.97320557,\n",
       "            271.97064209,  271.96420288]]],\n",
       "\n",
       "\n",
       "        [[[ 272.51400757,  272.5168457 ,  272.51846313, ...,  272.50875854,\n",
       "            272.51538086,  272.5168457 ],\n",
       "          [ 272.54483032,  272.53308105,  272.5241394 , ...,  272.58474731,\n",
       "            272.57189941,  272.5581665 ],\n",
       "          [ 272.58996582,  272.58236694,  272.56503296, ...,  272.56640625,\n",
       "            272.58374023,  272.5920105 ],\n",
       "          ..., \n",
       "          [ 273.08312988,  273.1312561 ,  273.17324829, ...,  272.92681885,\n",
       "            272.97921753,  273.02828979],\n",
       "          [ 273.33013916,  273.33901978,  273.34698486, ...,  273.27975464,\n",
       "            273.29901123,  273.29534912],\n",
       "          [ 273.44595337,  273.43301392,  273.42999268, ...,  273.46328735,\n",
       "            273.462677  ,  273.45718384]]],\n",
       "\n",
       "\n",
       "        [[[ 273.77896118,  273.78158569,  273.78424072, ...,  273.77426147,\n",
       "            273.77798462,  273.77923584],\n",
       "          [ 273.82434082,  273.81564331,  273.80969238, ...,  273.85879517,\n",
       "            273.84671021,  273.83511353],\n",
       "          [ 273.86264038,  273.85690308,  273.84365845, ...,  273.83886719,\n",
       "            273.85525513,  273.86364746],\n",
       "          ..., \n",
       "          [ 274.38418579,  274.42886353,  274.46731567, ...,  274.23684692,\n",
       "            274.28463745,  274.33209229],\n",
       "          [ 274.62457275,  274.63427734,  274.64190674, ...,  274.57540894,\n",
       "            274.59237671,  274.59442139],\n",
       "          [ 274.73510742,  274.72518921,  274.7220459 , ...,  274.75228882,\n",
       "            274.75238037,  274.74395752]]]],\n",
       "\n",
       "\n",
       "\n",
       "       [[[[ 246.76304626,  246.75865173,  246.75463867, ...,  246.77815247,\n",
       "            246.77284241,  246.76779175],\n",
       "          [ 246.81451416,  246.80732727,  246.7991333 , ...,  246.82980347,\n",
       "            246.82571411,  246.82063293],\n",
       "          [ 246.88856506,  246.86541748,  246.84306335, ...,  246.94882202,\n",
       "            246.93154907,  246.91105652],\n",
       "          ..., \n",
       "          [ 167.74610901,  167.73028564,  167.71716309, ...,  167.81213379,\n",
       "            167.78688049,  167.76490784],\n",
       "          [ 167.9588623 ,  167.9515686 ,  167.94827271, ...,  168.00434875,\n",
       "            167.98532104,  167.97013855],\n",
       "          [ 168.7089386 ,  168.70777893,  168.70875549, ...,  168.72410583,\n",
       "            168.71710205,  168.71205139]]],\n",
       "\n",
       "\n",
       "        [[[ 233.18118286,  233.17854309,  233.17480469, ...,  233.18270874,\n",
       "            233.18322754,  233.182724  ],\n",
       "          [ 233.25463867,  233.26000977,  233.2636261 , ...,  233.23362732,\n",
       "            233.2409668 ,  233.24810791],\n",
       "          [ 233.2984314 ,  233.33052063,  233.3600769 , ...,  233.223526  ,\n",
       "            233.24163818,  233.26757812],\n",
       "          ..., \n",
       "          [ 169.0456543 ,  169.01367188,  168.99308777, ...,  169.19874573,\n",
       "            169.13960266,  169.08804321],\n",
       "          [ 169.48506165,  169.48023987,  169.48358154, ...,  169.54478455,\n",
       "            169.51773071,  169.49766541],\n",
       "          [ 170.81137085,  170.81517029,  170.82336426, ...,  170.82489014,\n",
       "            170.81626892,  170.81175232]]],\n",
       "\n",
       "\n",
       "        [[[ 217.87400818,  217.89112854,  217.90870667, ...,  217.82929993,\n",
       "            217.84339905,  217.85842896],\n",
       "          [ 218.2515564 ,  218.27244568,  218.29519653, ...,  218.19541931,\n",
       "            218.21356201,  218.23210144],\n",
       "          [ 218.71723938,  218.72383118,  218.73310852, ...,  218.68383789,\n",
       "            218.70016479,  218.71031189],\n",
       "          ..., \n",
       "          [ 163.63594055,  163.60601807,  163.58113098, ...,  163.76409912,\n",
       "            163.71403503,  163.6716156 ],\n",
       "          [ 164.12063599,  164.10073853,  164.0866394 , ...,  164.21537781,\n",
       "            164.17797852,  164.14640808],\n",
       "          [ 165.1686554 ,  165.16131592,  165.1567688 , ...,  165.20623779,\n",
       "            165.19111633,  165.17860413]]],\n",
       "\n",
       "\n",
       "        ..., \n",
       "        [[[ 271.14074707,  271.144104  ,  271.14730835, ...,  271.12887573,\n",
       "            271.13354492,  271.13665771],\n",
       "          [ 271.10858154,  271.09121704,  271.07659912, ...,  271.16119385,\n",
       "            271.14474487,  271.12701416],\n",
       "          [ 271.14379883,  271.13943481,  271.12649536, ...,  271.10064697,\n",
       "            271.12667847,  271.14099121],\n",
       "          ..., \n",
       "          [ 271.59161377,  271.64538574,  271.68240356, ...,  271.42184448,\n",
       "            271.47720337,  271.5340271 ],\n",
       "          [ 271.75476074,  271.76437378,  271.77493286, ...,  271.70904541,\n",
       "            271.73419189,  271.75146484],\n",
       "          [ 271.93356323,  271.93942261,  271.9335022 , ...,  271.96417236,\n",
       "            271.95385742,  271.94726562]]],\n",
       "\n",
       "\n",
       "        [[[ 272.55377197,  272.55761719,  272.56204224, ...,  272.54547119,\n",
       "            272.54772949,  272.55075073],\n",
       "          [ 272.56594849,  272.55508423,  272.54718018, ...,  272.60592651,\n",
       "            272.59173584,  272.57836914],\n",
       "          [ 272.60848999,  272.60229492,  272.5925293 , ...,  272.58242798,\n",
       "            272.60107422,  272.60961914],\n",
       "          ..., \n",
       "          [ 273.08044434,  273.13195801,  273.17105103, ...,  272.91867065,\n",
       "            272.97171021,  273.02548218],\n",
       "          [ 273.29940796,  273.30944824,  273.31930542, ...,  273.25268555,\n",
       "            273.27377319,  273.29052734],\n",
       "          [ 273.4453125 ,  273.44909668,  273.44024658, ...,  273.46383667,\n",
       "            273.45977783,  273.45483398]]],\n",
       "\n",
       "\n",
       "        [[[ 273.82113647,  273.82440186,  273.82830811, ...,  273.81445312,\n",
       "            273.81613159,  273.818573  ],\n",
       "          [ 273.85122681,  273.84332275,  273.83792114, ...,  273.88360596,\n",
       "            273.8717041 ,  273.86090088],\n",
       "          [ 273.88769531,  273.88342285,  273.87542725, ...,  273.859375  ,\n",
       "            273.87774658,  273.88723755],\n",
       "          ..., \n",
       "          [ 274.38095093,  274.42959595,  274.4677124 , ...,  274.22741699,\n",
       "            274.27767944,  274.32867432],\n",
       "          [ 274.61138916,  274.62164307,  274.63101196, ...,  274.56625366,\n",
       "            274.58496094,  274.60113525],\n",
       "          [ 274.74450684,  274.74728394,  274.73831177, ...,  274.75790405,\n",
       "            274.756073  ,  274.75201416]]]],\n",
       "\n",
       "\n",
       "\n",
       "       ..., \n",
       "       [[[[ 246.83848572,  246.83073425,  246.82273865, ...,  246.86196899,\n",
       "            246.8550415 ,  246.84651184],\n",
       "          [ 246.90737915,  246.89266968,  246.87979126, ...,  246.96105957,\n",
       "            246.94166565,  246.92398071],\n",
       "          [ 247.02388   ,  247.01411438,  247.00474548, ...,  247.08189392,\n",
       "            247.0566864 ,  247.03683472],\n",
       "          ..., \n",
       "          [ 167.10128784,  167.10154724,  167.1098938 , ...,  167.17541504,\n",
       "            167.1363678 ,  167.11264038],\n",
       "          [ 167.46534729,  167.46308899,  167.46894836, ...,  167.52262878,\n",
       "            167.49472046,  167.47570801],\n",
       "          [ 168.49787903,  168.49763489,  168.50057983, ...,  168.51745605,\n",
       "            168.5078125 ,  168.50120544]]],\n",
       "\n",
       "\n",
       "        [[[ 233.2673645 ,  233.26339722,  233.25794983, ...,  233.27302551,\n",
       "            233.27287292,  233.27043152],\n",
       "          [ 233.39381409,  233.37988281,  233.36051941, ...,  233.40641785,\n",
       "            233.40637207,  233.40266418],\n",
       "          [ 233.63713074,  233.58598328,  233.527771  , ...,  233.71231079,\n",
       "            233.70289612,  233.67666626],\n",
       "          ..., \n",
       "          [ 169.02929688,  168.96902466,  168.92604065, ...,  169.27992249,\n",
       "            169.18882751,  169.10438538],\n",
       "          [ 169.65727234,  169.63504028,  169.62203979, ...,  169.76582336,\n",
       "            169.72354126,  169.68707275],\n",
       "          [ 171.08737183,  171.08926392,  171.09532166, ...,  171.10580444,\n",
       "            171.09573364,  171.08947754]]],\n",
       "\n",
       "\n",
       "        [[[ 218.52636719,  218.56117249,  218.56277466, ...,  218.50880432,\n",
       "            218.51499939,  218.5539856 ],\n",
       "          [ 219.0188446 ,  219.04116821,  219.0843811 , ...,  218.94839478,\n",
       "            218.95246887,  218.98948669],\n",
       "          [ 219.38314819,  219.45805359,  219.52851868, ...,  219.22723389,\n",
       "            219.24473572,  219.33358765],\n",
       "          ..., \n",
       "          [ 164.16371155,  164.11787415,  164.06436157, ...,  164.3644104 ,\n",
       "            164.28807068,  164.23406982],\n",
       "          [ 164.66978455,  164.63453674,  164.59979248, ...,  164.81829834,\n",
       "            164.76698303,  164.70722961],\n",
       "          [ 165.63174438,  165.61053467,  165.59747314, ...,  165.707901  ,\n",
       "            165.67889404,  165.66029358]]],\n",
       "\n",
       "\n",
       "        ..., \n",
       "        [[[ 271.0675354 ,  271.04568481,  271.04449463, ...,  271.05865479,\n",
       "            271.06054688,  271.08920288],\n",
       "          [ 271.11434937,  271.10690308,  271.17654419, ...,  271.1680603 ,\n",
       "            271.14974976,  271.10397339],\n",
       "          [ 271.10827637,  271.14331055,  271.10641479, ...,  271.1434021 ,\n",
       "            271.15582275,  271.10864258],\n",
       "          ..., \n",
       "          [ 271.70889282,  271.6946106 ,  271.70443726, ...,  271.75653076,\n",
       "            271.71725464,  271.72006226],\n",
       "          [ 271.75552368,  271.77246094,  271.72793579, ...,  271.79138184,\n",
       "            271.77816772,  271.77142334],\n",
       "          [ 271.62536621,  271.64251709,  271.66287231, ...,  271.67495728,\n",
       "            271.67843628,  271.66876221]]],\n",
       "\n",
       "\n",
       "        [[[ 272.51165771,  272.50857544,  272.51721191, ...,  272.51812744,\n",
       "            272.50372314,  272.51382446],\n",
       "          [ 272.46588135,  272.47619629,  272.47509766, ...,  272.42605591,\n",
       "            272.45666504,  272.46264648],\n",
       "          [ 272.51318359,  272.50320435,  272.50656128, ...,  272.46563721,\n",
       "            272.48724365,  272.50869751],\n",
       "          ..., \n",
       "          [ 273.14675903,  273.15710449,  273.16027832, ...,  273.1980896 ,\n",
       "            273.16479492,  273.17285156],\n",
       "          [ 273.21185303,  273.20404053,  273.17572021, ...,  273.23199463,\n",
       "            273.222229  ,  273.21255493],\n",
       "          [ 273.10623169,  273.12902832,  273.12405396, ...,  273.14105225,\n",
       "            273.14907837,  273.11706543]]],\n",
       "\n",
       "\n",
       "        [[[ 273.77044678,  273.78448486,  273.79669189, ...,  273.79144287,\n",
       "            273.75653076,  273.77923584],\n",
       "          [ 273.69586182,  273.70690918,  273.68817139, ...,  273.64825439,\n",
       "            273.67166138,  273.68502808],\n",
       "          [ 273.78305054,  273.72964478,  273.76119995, ...,  273.70614624,\n",
       "            273.71661377,  273.77984619],\n",
       "          ..., \n",
       "          [ 274.41430664,  274.42922974,  274.43167114, ...,  274.46081543,\n",
       "            274.43127441,  274.44647217],\n",
       "          [ 274.48797607,  274.4586792 ,  274.4513855 , ...,  274.4932251 ,\n",
       "            274.48440552,  274.47531128],\n",
       "          [ 274.38150024,  274.41027832,  274.3996582 , ...,  274.41323853,\n",
       "            274.4185791 ,  274.38339233]]]],\n",
       "\n",
       "\n",
       "\n",
       "       [[[[ 246.82463074,  246.81767273,  246.81053162, ...,  246.84571838,\n",
       "            246.83888245,  246.83195496],\n",
       "          [ 246.88542175,  246.87103271,  246.85852051, ...,  246.93673706,\n",
       "            246.91828918,  246.90129089],\n",
       "          [ 247.00216675,  246.99333191,  246.98486328, ...,  247.0607605 ,\n",
       "            247.03477478,  247.01472473],\n",
       "          ..., \n",
       "          [ 167.11187744,  167.11361694,  167.12306213, ...,  167.18002319,\n",
       "            167.14308167,  167.12142944],\n",
       "          [ 167.48695374,  167.48509216,  167.49130249, ...,  167.54354858,\n",
       "            167.51574707,  167.4969635 ],\n",
       "          [ 168.52827454,  168.52793884,  168.5308075 , ...,  168.54760742,\n",
       "            168.53813171,  168.53157043]]],\n",
       "\n",
       "\n",
       "        [[[ 233.25286865,  233.2482605 ,  233.2421875 , ...,  233.26036072,\n",
       "            233.25901794,  233.25668335],\n",
       "          [ 233.37399292,  233.35884094,  233.33848572, ...,  233.38989258,\n",
       "            233.38877869,  233.38388062],\n",
       "          [ 233.60762024,  233.55357361,  233.49227905, ...,  233.69006348,\n",
       "            233.67866516,  233.6499939 ],\n",
       "          ..., \n",
       "          [ 169.05136108,  168.98931885,  168.94464111, ...,  169.30688477,\n",
       "            169.21432495,  169.12823486],\n",
       "          [ 169.67921448,  169.65621948,  169.64251709, ...,  169.78991699,\n",
       "            169.74703979,  169.70980835],\n",
       "          [ 171.12237549,  171.12416077,  171.13020325, ...,  171.14111328,\n",
       "            171.13090515,  171.12454224]]],\n",
       "\n",
       "\n",
       "        [[[ 218.51696777,  218.54060364,  218.54981995, ...,  218.51091003,\n",
       "            218.5092926 ,  218.51985168],\n",
       "          [ 218.99645996,  219.01106262,  219.05166626, ...,  218.94599915,\n",
       "            218.9549408 ,  218.96697998],\n",
       "          [ 219.33299255,  219.42503357,  219.50840759, ...,  219.18351746,\n",
       "            219.26875305,  219.33190918],\n",
       "          ..., \n",
       "          [ 164.19248962,  164.13594055,  164.08045959, ...,  164.38575745,\n",
       "            164.30932617,  164.25469971],\n",
       "          [ 164.69303894,  164.65620422,  164.61820984, ...,  164.83766174,\n",
       "            164.78184509,  164.73457336],\n",
       "          [ 165.64190674,  165.62127686,  165.60522461, ...,  165.72135925,\n",
       "            165.68769836,  165.6701355 ]]],\n",
       "\n",
       "\n",
       "        ..., \n",
       "        [[[ 271.05792236,  271.04232788,  271.05154419, ...,  271.04684448,\n",
       "            271.05563354,  271.09606934],\n",
       "          [ 271.11416626,  271.10964966,  271.15274048, ...,  271.14428711,\n",
       "            271.15042114,  271.11004639],\n",
       "          [ 271.11083984,  271.16992188,  271.07400513, ...,  271.11709595,\n",
       "            271.18426514,  271.09277344],\n",
       "          ..., \n",
       "          [ 271.72381592,  271.71896362,  271.71795654, ...,  271.76501465,\n",
       "            271.73010254,  271.71850586],\n",
       "          [ 271.7651062 ,  271.76086426,  271.73165894, ...,  271.76776123,\n",
       "            271.77059937,  271.76470947],\n",
       "          [ 271.63250732,  271.64831543,  271.67062378, ...,  271.66726685,\n",
       "            271.66549683,  271.66464233]]],\n",
       "\n",
       "\n",
       "        [[[ 272.50131226,  272.49569702,  272.51092529, ...,  272.49719238,\n",
       "            272.48800659,  272.53118896],\n",
       "          [ 272.46359253,  272.4836731 ,  272.480896  , ...,  272.44021606,\n",
       "            272.45620728,  272.45626831],\n",
       "          [ 272.50222778,  272.49838257,  272.48880005, ...,  272.48071289,\n",
       "            272.48040771,  272.5007019 ],\n",
       "          ..., \n",
       "          [ 273.16479492,  273.17355347,  273.17266846, ...,  273.20690918,\n",
       "            273.17404175,  273.17224121],\n",
       "          [ 273.22106934,  273.20541382,  273.18035889, ...,  273.20584106,\n",
       "            273.22039795,  273.21868896],\n",
       "          [ 273.11593628,  273.1373291 ,  273.13650513, ...,  273.13647461,\n",
       "            273.14019775,  273.11871338]]],\n",
       "\n",
       "\n",
       "        [[[ 273.76687622,  273.76980591,  273.78805542, ...,  273.76907349,\n",
       "            273.73815918,  273.78741455],\n",
       "          [ 273.68939209,  273.71221924,  273.67687988, ...,  273.67019653,\n",
       "            273.67126465,  273.67987061],\n",
       "          [ 273.7628479 ,  273.73187256,  273.74990845, ...,  273.72625732,\n",
       "            273.70437622,  273.77203369],\n",
       "          ..., \n",
       "          [ 274.42633057,  274.4413147 ,  274.44192505, ...,  274.47216797,\n",
       "            274.4387207 ,  274.44393921],\n",
       "          [ 274.4961853 ,  274.46078491,  274.4559021 , ...,  274.47497559,\n",
       "            274.48452759,  274.4828186 ],\n",
       "          [ 274.39355469,  274.41604614,  274.40933228, ...,  274.40939331,\n",
       "            274.4147644 ,  274.38546753]]]],\n",
       "\n",
       "\n",
       "\n",
       "       [[[[ 246.80741882,  246.80065918,  246.79425049, ...,  246.82644653,\n",
       "            246.82006836,  246.81425476],\n",
       "          [ 246.85661316,  246.84239197,  246.82972717, ...,  246.90643311,\n",
       "            246.8888855 ,  246.87207031],\n",
       "          [ 246.96670532,  246.95930481,  246.95217896, ...,  247.02383423,\n",
       "            246.99822998,  246.97843933],\n",
       "          ..., \n",
       "          [ 167.12736511,  167.13046265,  167.14100647, ...,  167.19058228,\n",
       "            167.15534973,  167.13534546],\n",
       "          [ 167.5168457 ,  167.51551819,  167.52212524, ...,  167.57211304,\n",
       "            167.5446167 ,  167.52632141],\n",
       "          [ 168.56268311,  168.56210327,  168.56460571, ...,  168.58233643,\n",
       "            168.57286072,  168.56616211]]],\n",
       "\n",
       "\n",
       "        [[[ 233.22640991,  233.22079468,  233.21424866, ...,  233.23570251,\n",
       "            233.23355103,  233.23095703],\n",
       "          [ 233.34822083,  233.33184814,  233.31008911, ...,  233.36732483,\n",
       "            233.365448  ,  233.35917664],\n",
       "          [ 233.5637207 ,  233.50788879,  233.44458008, ...,  233.65090942,\n",
       "            233.63861084,  233.608078  ],\n",
       "          ..., \n",
       "          [ 169.07740784,  169.01452637,  168.96910095, ...,  169.33596802,\n",
       "            169.24238586,  169.1552124 ],\n",
       "          [ 169.70558167,  169.68214417,  169.66807556, ...,  169.81759644,\n",
       "            169.77432251,  169.73664856],\n",
       "          [ 171.16282654,  171.16444397,  171.17025757, ...,  171.18190002,\n",
       "            171.17167664,  171.16514587]]],\n",
       "\n",
       "\n",
       "        [[[ 218.50082397,  218.51043701,  218.52246094, ...,  218.4778595 ,\n",
       "            218.48843384,  218.49766541],\n",
       "          [ 218.9725647 ,  218.99298096,  219.02836609, ...,  218.92224121,\n",
       "            218.93327332,  218.93977356],\n",
       "          [ 219.33752441,  219.40422058,  219.48826599, ...,  219.10543823,\n",
       "            219.20716858,  219.3094635 ],\n",
       "          ..., \n",
       "          [ 164.21844482,  164.15882874,  164.10449219, ...,  164.40884399,\n",
       "            164.33503723,  164.28317261],\n",
       "          [ 164.71232605,  164.6698761 ,  164.6366272 , ...,  164.86195374,\n",
       "            164.80471802,  164.75566101],\n",
       "          [ 165.65013123,  165.62715149,  165.6133728 , ...,  165.72647095,\n",
       "            165.6986084 ,  165.67507935]]],\n",
       "\n",
       "\n",
       "        ..., \n",
       "        [[[ 271.04162598,  271.0519104 ,  271.04837036, ...,  271.03875732,\n",
       "            271.06491089,  271.0546875 ],\n",
       "          [ 271.10037231,  271.12472534,  271.14306641, ...,  271.15570068,\n",
       "            271.14196777,  271.09277344],\n",
       "          [ 271.11251831,  271.13668823,  271.06921387, ...,  271.13430786,\n",
       "            271.14559937,  271.09130859],\n",
       "          ..., \n",
       "          [ 271.72021484,  271.71691895,  271.72579956, ...,  271.76797485,\n",
       "            271.73025513,  271.71685791],\n",
       "          [ 271.75973511,  271.74685669,  271.72903442, ...,  271.75750732,\n",
       "            271.76226807,  271.75769043],\n",
       "          [ 271.63519287,  271.63867188,  271.66433716, ...,  271.64752197,\n",
       "            271.65704346,  271.66619873]]],\n",
       "\n",
       "\n",
       "        [[[ 272.49151611,  272.49874878,  272.50982666, ...,  272.48455811,\n",
       "            272.48452759,  272.50686646],\n",
       "          [ 272.46566772,  272.4921875 ,  272.47943115, ...,  272.43927002,\n",
       "            272.45956421,  272.46035767],\n",
       "          [ 272.49740601,  272.49353027,  272.47351074, ...,  272.4888916 ,\n",
       "            272.46334839,  272.49108887],\n",
       "          ..., \n",
       "          [ 273.1668396 ,  273.17529297,  273.17944336, ...,  273.21032715,\n",
       "            273.18215942,  273.17156982],\n",
       "          [ 273.22625732,  273.20108032,  273.18933105, ...,  273.2203064 ,\n",
       "            273.21389771,  273.22839355],\n",
       "          [ 273.12069702,  273.1295166 ,  273.12878418, ...,  273.12799072,\n",
       "            273.14096069,  273.1257019 ]]],\n",
       "\n",
       "\n",
       "        [[[ 273.75997925,  273.77087402,  273.78314209, ...,  273.75415039,\n",
       "            273.73538208,  273.77560425],\n",
       "          [ 273.69018555,  273.71890259,  273.67895508, ...,  273.67138672,\n",
       "            273.68286133,  273.68273926],\n",
       "          [ 273.74639893,  273.71850586,  273.73294067, ...,  273.73898315,\n",
       "            273.69400024,  273.76150513],\n",
       "          ..., \n",
       "          [ 274.42626953,  274.44482422,  274.45062256, ...,  274.47509766,\n",
       "            274.44744873,  274.44271851],\n",
       "          [ 274.50460815,  274.46243286,  274.46713257, ...,  274.4906311 ,\n",
       "            274.47805786,  274.50030518],\n",
       "          [ 274.4012146 ,  274.40704346,  274.40026855, ...,  274.40817261,\n",
       "            274.42285156,  274.39672852]]]]], dtype=float32)"
      ]
     },
     "execution_count": 15,
     "metadata": {},
     "output_type": "execute_result"
    }
   ],
   "source": [
    "tap[:][:, :, lat_idxs, :]"
   ]
  },
  {
   "cell_type": "code",
   "execution_count": 16,
   "metadata": {},
   "outputs": [
    {
     "data": {
      "text/plain": [
       "array([ 0,  1,  2,  3,  4,  5,  6,  7,  8,  9, 10, 11, 12, 13, 14, 15, 16,\n",
       "       17, 18, 19])"
      ]
     },
     "execution_count": 16,
     "metadata": {},
     "output_type": "execute_result"
    }
   ],
   "source": [
    "a = np.arange(20)\n",
    "a"
   ]
  },
  {
   "cell_type": "code",
   "execution_count": 24,
   "metadata": {},
   "outputs": [
    {
     "data": {
      "text/plain": [
       "array([ 0,  1,  2,  3,  4,  5,  6,  7,  8,  9, 10, 11, 12, 13, 14, 15, 16,\n",
       "       17, 18])"
      ]
     },
     "execution_count": 24,
     "metadata": {},
     "output_type": "execute_result"
    }
   ],
   "source": [
    "b = np.arange(0, 0+19)\n",
    "b"
   ]
  },
  {
   "cell_type": "code",
   "execution_count": 25,
   "metadata": {},
   "outputs": [
    {
     "data": {
      "text/plain": [
       "array([ 0,  1,  2,  3,  4,  5,  6,  7,  8,  9, 10, 11, 12, 13, 14, 15, 16,\n",
       "       17, 18])"
      ]
     },
     "execution_count": 25,
     "metadata": {},
     "output_type": "execute_result"
    }
   ],
   "source": [
    "a[b]"
   ]
  },
  {
   "cell_type": "code",
   "execution_count": 9,
   "metadata": {},
   "outputs": [
    {
     "data": {
      "text/plain": [
       "array([ 365.        ,  365.02083333,  365.04166667,  365.0625    ,\n",
       "        365.08333333,  365.10416667,  365.125     ,  365.14583333,\n",
       "        365.16666667,  365.1875    ,  365.20833333,  365.22916667,\n",
       "        365.25      ,  365.27083333,  365.29166667,  365.3125    ,\n",
       "        365.33333333,  365.35416667,  365.375     ,  365.39583333,\n",
       "        365.41666667,  365.4375    ,  365.45833333,  365.47916667,\n",
       "        365.5       ,  365.52083333,  365.54166667,  365.5625    ,\n",
       "        365.58333333,  365.60416667,  365.625     ,  365.64583333,\n",
       "        365.66666667,  365.6875    ,  365.70833333,  365.72916667,\n",
       "        365.75      ,  365.77083333,  365.79166667,  365.8125    ,\n",
       "        365.83333333,  365.85416667,  365.875     ,  365.89583333,\n",
       "        365.91666667,  365.9375    ,  365.95833333,  365.97916667])"
      ]
     },
     "execution_count": 9,
     "metadata": {},
     "output_type": "execute_result"
    }
   ],
   "source": [
    "nc.Dataset(data_dir + 'AndKua_aqua_SPCAM3.0.cam2.h1.0001-01-01-00000.nc').variables['time'][:]"
   ]
  },
  {
   "cell_type": "code",
   "execution_count": 10,
   "metadata": {},
   "outputs": [
    {
     "data": {
      "text/plain": [
       "<class 'netCDF4._netCDF4.Dataset'>\n",
       "root group (NETCDF4 data model, file format HDF5):\n",
       "    dimensions(sizes): t(100000), z(21)\n",
       "    variables(dimensions): float64 \u001b[4mLAT\u001b[0m(t), float64 \u001b[4mPS\u001b[0m(t), float64 \u001b[4mSHFLX\u001b[0m(t), float64 \u001b[4mLHFLX\u001b[0m(t), float64 \u001b[4mOMEGA\u001b[0m(z,t), float64 \u001b[4mQAP\u001b[0m(z,t), float64 \u001b[4mTAP\u001b[0m(z,t), float64 \u001b[4mQRL\u001b[0m(z,t), float64 \u001b[4mQRS\u001b[0m(z,t), float64 \u001b[4mUBSP\u001b[0m(z,t), float64 \u001b[4mVBSP\u001b[0m(z,t), float64 \u001b[4mSPQC\u001b[0m(z,t), float64 \u001b[4mSPQG\u001b[0m(z,t), float64 \u001b[4mSPQI\u001b[0m(z,t), float64 \u001b[4mSPQR\u001b[0m(z,t), float64 \u001b[4mSPMC\u001b[0m(z,t), float64 \u001b[4mSPMCDN\u001b[0m(z,t), float64 \u001b[4mSPMCUDN\u001b[0m(z,t), float64 \u001b[4mSPMCUP\u001b[0m(z,t), float64 \u001b[4mSPMCUUP\u001b[0m(z,t), float64 \u001b[4mTPHYSTND\u001b[0m(z,t), float64 \u001b[4mPHQ\u001b[0m(z,t), float64 \u001b[4mSPDT\u001b[0m(z,t), float64 \u001b[4mSPDQ\u001b[0m(z,t), float64 \u001b[4mSPDQC\u001b[0m(z,t), float64 \u001b[4mSPDQI\u001b[0m(z,t), float64 \u001b[4mdTdt_adiabatic\u001b[0m(z,t), float64 \u001b[4mdQdt_adiabatic\u001b[0m(z,t), float64 \u001b[4mGRAD_UQ_H\u001b[0m(z,t)\n",
       "    groups: "
      ]
     },
     "execution_count": 10,
     "metadata": {},
     "output_type": "execute_result"
    }
   ],
   "source": [
    "nc.Dataset('/Volumes/STICK/data/SPCAM/sample/SPCAM_outputs.nc')"
   ]
  },
  {
   "cell_type": "code",
   "execution_count": 13,
   "metadata": {},
   "outputs": [
    {
     "data": {
      "text/plain": [
       "393216"
      ]
     },
     "execution_count": 13,
     "metadata": {},
     "output_type": "execute_result"
    }
   ],
   "source": [
    "64 * 128 * 48"
   ]
  },
  {
   "cell_type": "code",
   "execution_count": 16,
   "metadata": {},
   "outputs": [
    {
     "data": {
      "text/plain": [
       "11.444091796875"
      ]
     },
     "execution_count": 16,
     "metadata": {},
     "output_type": "execute_result"
    }
   ],
   "source": [
    "4.5e6 / (64 * 128 * 48)"
   ]
  },
  {
   "cell_type": "markdown",
   "metadata": {
    "collapsed": true
   },
   "source": [
    "## Preprocessed files"
   ]
  },
  {
   "cell_type": "code",
   "execution_count": 3,
   "metadata": {
    "collapsed": true
   },
   "outputs": [],
   "source": [
    "data_dir = '/project/meteo/w2w/A6/S.Rasp/SP-CAM/preprocessed_data/'"
   ]
  },
  {
   "cell_type": "code",
   "execution_count": 4,
   "metadata": {
    "collapsed": true
   },
   "outputs": [],
   "source": [
    "old_rg = nc.Dataset(data_dir + 'SPCAM_outputs.nc')"
   ]
  },
  {
   "cell_type": "code",
   "execution_count": 5,
   "metadata": {
    "collapsed": true
   },
   "outputs": [],
   "source": [
    "new_rg = nc.Dataset(data_dir + 'SPCAM_outputs_flat.nc')"
   ]
  },
  {
   "cell_type": "code",
   "execution_count": 6,
   "metadata": {},
   "outputs": [
    {
     "data": {
      "text/plain": [
       "<class 'netCDF4._netCDF4.Dataset'>\n",
       "root group (NETCDF4_CLASSIC data model, file format HDF5):\n",
       "    dimensions(sizes): t(4620288), z(21)\n",
       "    variables(dimensions): float64 \u001b[4mLAT\u001b[0m(t), float64 \u001b[4mPS\u001b[0m(t), float64 \u001b[4mSHFLX\u001b[0m(t), float64 \u001b[4mLHFLX\u001b[0m(t), float64 \u001b[4mOMEGA\u001b[0m(z,t), float64 \u001b[4mQAP\u001b[0m(z,t), float64 \u001b[4mTAP\u001b[0m(z,t), float64 \u001b[4mQRL\u001b[0m(z,t), float64 \u001b[4mQRS\u001b[0m(z,t), float64 \u001b[4mUBSP\u001b[0m(z,t), float64 \u001b[4mVBSP\u001b[0m(z,t), float64 \u001b[4mSPQC\u001b[0m(z,t), float64 \u001b[4mSPQG\u001b[0m(z,t), float64 \u001b[4mSPQI\u001b[0m(z,t), float64 \u001b[4mSPQR\u001b[0m(z,t), float64 \u001b[4mSPMC\u001b[0m(z,t), float64 \u001b[4mSPMCDN\u001b[0m(z,t), float64 \u001b[4mSPMCUDN\u001b[0m(z,t), float64 \u001b[4mSPMCUP\u001b[0m(z,t), float64 \u001b[4mSPMCUUP\u001b[0m(z,t), float64 \u001b[4mTPHYSTND\u001b[0m(z,t), float64 \u001b[4mPHQ\u001b[0m(z,t), float64 \u001b[4mSPDT\u001b[0m(z,t), float64 \u001b[4mSPDQ\u001b[0m(z,t), float64 \u001b[4mSPDQC\u001b[0m(z,t), float64 \u001b[4mSPDQI\u001b[0m(z,t), float64 \u001b[4mdTdt_adiabatic\u001b[0m(z,t), float64 \u001b[4mdQdt_adiabatic\u001b[0m(z,t), float64 \u001b[4mGRAD_UQ_H\u001b[0m(z,t)\n",
       "    groups: "
      ]
     },
     "execution_count": 6,
     "metadata": {},
     "output_type": "execute_result"
    }
   ],
   "source": [
    "old_rg"
   ]
  },
  {
   "cell_type": "code",
   "execution_count": 7,
   "metadata": {},
   "outputs": [
    {
     "data": {
      "text/plain": [
       "<class 'netCDF4._netCDF4.Dataset'>\n",
       "root group (NETCDF4 data model, file format HDF5):\n",
       "    log: \n",
       "    Time: 2017-10-30T14:44:09\n",
       "\n",
       "    Executed command:\n",
       "\n",
       "    python preprocess_aqua.py --in_dir /project/meteo/w2w/A6/S.Rasp/SP-CAM/Aquaplanet/ --out_dir /project/meteo/w2w/A6/S.Rasp/SP-CAM/preprocessed_data/ --flatten --verbose\n",
       "\n",
       "    In directory: /home/s/S.Rasp/repositories/CBRAIN/data_processing\n",
       "\n",
       "    Git hash: ef6ddb9cc3b203f576c86d9bfa8bb8a5d5e162dc\n",
       "\n",
       "        \n",
       "    dimensions(sizes): lev(21), sample(5005312)\n",
       "    variables(dimensions): float32 \u001b[4mTAP\u001b[0m(lev,sample), float32 \u001b[4mQAP\u001b[0m(lev,sample), float32 \u001b[4mOMEGA\u001b[0m(lev,sample), float32 \u001b[4mSHFLX\u001b[0m(sample), float32 \u001b[4mLHFLX\u001b[0m(sample), float32 \u001b[4mLAT\u001b[0m(sample), float32 \u001b[4mdTdt_adiabatic\u001b[0m(lev,sample), float32 \u001b[4mdQdt_adiabatic\u001b[0m(lev,sample), float32 \u001b[4mQRL\u001b[0m(lev,sample), float32 \u001b[4mQRS\u001b[0m(lev,sample), float32 \u001b[4mSPDT\u001b[0m(lev,sample), float32 \u001b[4mSPDQ\u001b[0m(lev,sample)\n",
       "    groups: "
      ]
     },
     "execution_count": 7,
     "metadata": {},
     "output_type": "execute_result"
    }
   ],
   "source": [
    "new_rg"
   ]
  },
  {
   "cell_type": "code",
   "execution_count": 11,
   "metadata": {},
   "outputs": [
    {
     "data": {
      "text/plain": [
       "array([ 227.7940979 ,  226.84568787,  225.15045166,  222.55490112,\n",
       "        219.93135071,  216.37420654,  216.28483582,  220.89137268,\n",
       "        228.23724365,  237.4683075 ,  246.025177  ,  252.92204285,\n",
       "        258.5763855 ,  262.90176392,  264.7696228 ,  266.39907837,\n",
       "        268.07492065,  269.69836426,  271.17877197,  272.48190308,\n",
       "        273.74246216])"
      ]
     },
     "execution_count": 11,
     "metadata": {},
     "output_type": "execute_result"
    }
   ],
   "source": [
    "old_rg.variables['TAP'][:, 0]"
   ]
  },
  {
   "cell_type": "code",
   "execution_count": 12,
   "metadata": {},
   "outputs": [
    {
     "data": {
      "text/plain": [
       "array([ 227.7940979 ,  226.84568787,  225.15045166,  222.55490112,\n",
       "        219.93135071,  216.37420654,  216.28483582,  220.89137268,\n",
       "        228.23724365,  237.4683075 ,  246.025177  ,  252.92204285,\n",
       "        258.5763855 ,  262.90176392,  264.7696228 ,  266.39907837,\n",
       "        268.07492065,  269.69836426,  271.17877197,  272.48190308,\n",
       "        273.74246216], dtype=float32)"
      ]
     },
     "execution_count": 12,
     "metadata": {},
     "output_type": "execute_result"
    }
   ],
   "source": [
    "new_rg.variables['TAP'][:, 0]"
   ]
  },
  {
   "cell_type": "markdown",
   "metadata": {},
   "source": [
    "Nice!"
   ]
  },
  {
   "cell_type": "code",
   "execution_count": 13,
   "metadata": {
    "collapsed": true
   },
   "outputs": [],
   "source": [
    "det_rg = nc.Dataset(data_dir + 'SPCAM_outputs_detailed.nc')"
   ]
  },
  {
   "cell_type": "code",
   "execution_count": 14,
   "metadata": {
    "scrolled": true
   },
   "outputs": [
    {
     "data": {
      "text/plain": [
       "<class 'netCDF4._netCDF4.Dataset'>\n",
       "root group (NETCDF4 data model, file format HDF5):\n",
       "    log: \n",
       "    Time: 2017-10-30T14:41:24\n",
       "\n",
       "    Executed command:\n",
       "\n",
       "    python preprocess_aqua.py --in_dir /project/meteo/w2w/A6/S.Rasp/SP-CAM/Aquaplanet/ --out_dir /project/meteo/w2w/A6/S.Rasp/SP-CAM/preprocessed_data/ --flatten --verbose\n",
       "\n",
       "    In directory: /home/s/S.Rasp/repositories/CBRAIN/data_processing\n",
       "\n",
       "    Git hash: ef6ddb9cc3b203f576c86d9bfa8bb8a5d5e162dc\n",
       "\n",
       "        \n",
       "    dimensions(sizes): date(13), time(47), lev(21), lat(64), lon(128)\n",
       "    variables(dimensions): float32 \u001b[4mdate\u001b[0m(date), float32 \u001b[4mtime\u001b[0m(time), float32 \u001b[4mlev\u001b[0m(lev), float32 \u001b[4mlat\u001b[0m(lat), float32 \u001b[4mlon\u001b[0m(lon), float32 \u001b[4mTAP\u001b[0m(date,time,lev,lat,lon), float32 \u001b[4mQAP\u001b[0m(date,time,lev,lat,lon), float32 \u001b[4mOMEGA\u001b[0m(date,time,lev,lat,lon), float32 \u001b[4mSHFLX\u001b[0m(date,time,lat,lon), float32 \u001b[4mLHFLX\u001b[0m(date,time,lat,lon), float32 \u001b[4mLAT\u001b[0m(date,time,lat,lon), float32 \u001b[4mdTdt_adiabatic\u001b[0m(date,time,lev,lat,lon), float32 \u001b[4mdQdt_adiabatic\u001b[0m(date,time,lev,lat,lon), float32 \u001b[4mQRL\u001b[0m(date,time,lev,lat,lon), float32 \u001b[4mQRS\u001b[0m(date,time,lev,lat,lon), float32 \u001b[4mSPDT\u001b[0m(date,time,lev,lat,lon), float32 \u001b[4mSPDQ\u001b[0m(date,time,lev,lat,lon)\n",
       "    groups: "
      ]
     },
     "execution_count": 14,
     "metadata": {},
     "output_type": "execute_result"
    }
   ],
   "source": [
    "det_rg"
   ]
  },
  {
   "cell_type": "code",
   "execution_count": 15,
   "metadata": {},
   "outputs": [
    {
     "data": {
      "text/plain": [
       "array([ 227.7940979 ,  226.84568787,  225.15045166,  222.55490112,\n",
       "        219.93135071,  216.37420654,  216.28483582,  220.89137268,\n",
       "        228.23724365,  237.4683075 ,  246.025177  ,  252.92204285,\n",
       "        258.5763855 ,  262.90176392,  264.7696228 ,  266.39907837,\n",
       "        268.07492065,  269.69836426,  271.17877197,  272.48190308,\n",
       "        273.74246216], dtype=float32)"
      ]
     },
     "execution_count": 15,
     "metadata": {},
     "output_type": "execute_result"
    }
   ],
   "source": [
    "det_rg.variables['TAP'][0, 0, :, 0, 0]"
   ]
  },
  {
   "cell_type": "code",
   "execution_count": 16,
   "metadata": {
    "collapsed": true
   },
   "outputs": [],
   "source": [
    "mean_rg = nc.Dataset(data_dir + 'SPCAM_mean_detailed.nc')"
   ]
  },
  {
   "cell_type": "code",
   "execution_count": 17,
   "metadata": {},
   "outputs": [
    {
     "data": {
      "text/plain": [
       "array([ 208.00901794,  209.65861511,  211.52218628,  213.92713928,\n",
       "        217.68138123,  223.05789185,  229.81231689,  237.41885376,\n",
       "        245.45547485,  253.59277344,  260.89660645,  266.70016479,\n",
       "        270.84454346,  273.38983154,  275.33877563,  276.81051636,\n",
       "        278.33215332,  279.8505249 ,  281.33499146,  282.72061157,\n",
       "        283.98620605], dtype=float32)"
      ]
     },
     "execution_count": 17,
     "metadata": {},
     "output_type": "execute_result"
    }
   ],
   "source": [
    "mean_rg.variables['TAP'][:]"
   ]
  },
  {
   "cell_type": "code",
   "execution_count": 18,
   "metadata": {
    "collapsed": true
   },
   "outputs": [],
   "source": [
    "t = mean_rg.variables['TAP']"
   ]
  },
  {
   "cell_type": "code",
   "execution_count": 19,
   "metadata": {},
   "outputs": [
    {
     "data": {
      "text/plain": [
       "dtype('float32')"
      ]
     },
     "execution_count": 19,
     "metadata": {},
     "output_type": "execute_result"
    }
   ],
   "source": [
    "t.dtype"
   ]
  },
  {
   "cell_type": "code",
   "execution_count": 215,
   "metadata": {},
   "outputs": [
    {
     "name": "stdout",
     "output_type": "stream",
     "text": [
      "Total time: 6.809702608734369e-05 s\n"
     ]
    }
   ],
   "source": [
    "import timeit\n",
    "t1 = timeit.default_timer()\n",
    "t2 = timeit.default_timer()\n",
    "print('Total time:', t2 - t1, 's')"
   ]
  },
  {
   "cell_type": "code",
   "execution_count": null,
   "metadata": {
    "collapsed": true
   },
   "outputs": [],
   "source": []
  }
 ],
 "metadata": {
  "kernelspec": {
   "display_name": "Python 3",
   "language": "python",
   "name": "python3"
  },
  "language_info": {
   "codemirror_mode": {
    "name": "ipython",
    "version": 3
   },
   "file_extension": ".py",
   "mimetype": "text/x-python",
   "name": "python",
   "nbconvert_exporter": "python",
   "pygments_lexer": "ipython3",
   "version": "3.6.3"
  },
  "toc": {
   "nav_menu": {},
   "number_sections": true,
   "sideBar": true,
   "skip_h1_title": true,
   "toc_cell": true,
   "toc_position": {},
   "toc_section_display": "block",
   "toc_window_display": false
  }
 },
 "nbformat": 4,
 "nbformat_minor": 2
}
